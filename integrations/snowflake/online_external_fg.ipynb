{
 "cells": [
  {
   "cell_type": "markdown",
   "id": "81db9485",
   "metadata": {},
   "source": [
    "# <span style='color:#ff5f27'> 👨🏻‍🏫 Snowflake Online External Feature Group Creation</span>\n",
    "\n",
    "Follow this [guide](https://docs.hopsworks.ai/3.1/user_guides/fs/storage_connector/creation/snowflake/) to set up a connection to Snowflake.\n",
    "\n",
    "In addition, you can read about [External Feature Groups](https://docs.hopsworks.ai/3.0/user_guides/fs/feature_group/create_external/)."
   ]
  },
  {
   "cell_type": "markdown",
   "id": "6d2869a8",
   "metadata": {},
   "source": [
    "## <span style='color:#ff5f27'> 🔮 Retrieve a Connector\n",
    "\n",
    "Firstly, connect to feature store and then retrieve your **Snowflake storage connector**.\n",
    "\n",
    "Replace `my_storage_connector_name` with your Snowflake storage connector name."
   ]
  },
  {
   "cell_type": "code",
   "execution_count": null,
   "id": "f5c9cacb",
   "metadata": {},
   "outputs": [],
   "source": [
    "import hsfs\n",
    "\n",
    "# Connect to the Hopsworks feature store\n",
    "hsfs_connection = hsfs.connection()\n",
    "\n",
    "# Retrieve the metadata handle\n",
    "feature_store = hsfs_connection.get_feature_store()\n",
    "\n",
    "# Retrieve storage connector \n",
    "connector = feature_store.get_storage_connector('my_storage_connector_name')"
   ]
  },
  {
   "cell_type": "markdown",
   "id": "be7407a7",
   "metadata": {},
   "source": [
    "## <span style='color:#ff5f27'> 📝 Read Data </span>\n",
    "\n",
    "You can retrieve your data by passing a SQL query as a string into **query** parameter of the `.read()` method.\n",
    "\n",
    "Replace `{table_name}` with your table name."
   ]
  },
  {
   "cell_type": "code",
   "execution_count": null,
   "id": "806f1220",
   "metadata": {},
   "outputs": [],
   "source": [
    "query_str = \"SELECT * FROM {table_name}\"\n",
    "\n",
    "# read results from a SQL \n",
    "df = connector.read(query=query_str) "
   ]
  },
  {
   "cell_type": "markdown",
   "id": "c95dce36",
   "metadata": {},
   "source": [
    "> **.read()** method returns a PySpark DataFrame."
   ]
  },
  {
   "cell_type": "code",
   "execution_count": null,
   "id": "57c81993",
   "metadata": {},
   "outputs": [],
   "source": [
    "type(df)"
   ]
  },
  {
   "cell_type": "code",
   "execution_count": null,
   "id": "8379d08c",
   "metadata": {},
   "outputs": [],
   "source": [
    "df.show(5)"
   ]
  },
  {
   "cell_type": "markdown",
   "id": "69cd79cd",
   "metadata": {},
   "source": [
    "## <span style='color:#ff5f27'> ⚙️ Online Feature Group Creation</span>\n",
    "\n",
    "To create an **Online External Feature Group**, use `feature_store.create_external_feature_group()` method.\n",
    "\n",
    "Provide the next parameters:\n",
    "- `query` - your SQL query string. \n",
    "- `storage_connector` - your **Snowflake Storage Connector**.\n",
    "- `online_enabled` - set to True."
   ]
  },
  {
   "cell_type": "code",
   "execution_count": null,
   "id": "b83fce7b",
   "metadata": {},
   "outputs": [],
   "source": [
    "my_external_fg = feature_store.create_external_feature_group(\n",
    "    name=\"name_online_external_fg\",\n",
    "    version=1,\n",
    "    description=\"Description of the Online External Snowflake Table\",\n",
    "    primary_key=['pk1_name','pk2_name'],\n",
    "    event_time='event_time_col_name',\n",
    "    query=query_str,\n",
    "    storage_connector=connector,\n",
    "    online_enabled=True\n",
    ")"
   ]
  },
  {
   "cell_type": "markdown",
   "id": "cfc45ee4",
   "metadata": {},
   "source": [
    "Don't forget to register a feature group metadata object in Hopsworks!"
   ]
  },
  {
   "cell_type": "code",
   "execution_count": null,
   "id": "3c45cc28",
   "metadata": {},
   "outputs": [],
   "source": [
    "my_external_fg.save()"
   ]
  },
  {
   "cell_type": "markdown",
   "id": "36a869b5",
   "metadata": {},
   "source": [
    "Now, you should be able to see your Online External Feature Group for the Snowflake table in the Hopsworks UI.\n",
    "\n",
    "![online_snowflake_table](images/online_snowflake_table.png)\n",
    "\n",
    "---"
   ]
  },
  {
   "cell_type": "markdown",
   "id": "0c729e8b",
   "metadata": {},
   "source": [
    "## <span style='color:#ff5f27'> ⬇️ Insert to online storage</span>\n",
    "\n",
    "You can enable online storage for external feature groups, however, the sync from the external storage to Hopsworks online storage needs to be done manually, so you need to acomplish the next steps:\n",
    "- Filter data to sync to online.\n",
    "- Read from external storage.\n",
    "- Insert to online storage.\n",
    "\n",
    "Replace `column_name` and `filter_value` with required **column name** and a **value** by which you will filter."
   ]
  },
  {
   "cell_type": "code",
   "execution_count": null,
   "id": "9cf42bae",
   "metadata": {},
   "outputs": [],
   "source": [
    "column_name = 'column_name'\n",
    "filter_value = 'filter_value'"
   ]
  },
  {
   "cell_type": "code",
   "execution_count": null,
   "id": "c43f906d",
   "metadata": {},
   "outputs": [],
   "source": [
    "df = my_external_fg.filter(my_external_fg[column_name] == filter_value).read()\n",
    "\n",
    "df.show(1)"
   ]
  },
  {
   "cell_type": "markdown",
   "id": "e2d365a8",
   "metadata": {},
   "source": [
    "Insert filtered data to online storage in order to be able to call `.get_feature_vector()` method."
   ]
  },
  {
   "cell_type": "code",
   "execution_count": null,
   "id": "9ca834d8",
   "metadata": {},
   "outputs": [],
   "source": [
    "my_external_fg.insert(df)"
   ]
  },
  {
   "cell_type": "markdown",
   "id": "4c70cde3",
   "metadata": {},
   "source": [
    "## <span style='color:#ff5f27'> ⚙️ Feature View Creation</span>\n"
   ]
  },
  {
   "cell_type": "code",
   "execution_count": null,
   "id": "ba8a71f7",
   "metadata": {},
   "outputs": [],
   "source": [
    "query = my_external_fg.select_all()"
   ]
  },
  {
   "cell_type": "code",
   "execution_count": null,
   "id": "b6984013",
   "metadata": {},
   "outputs": [],
   "source": [
    "feature_view = feature_store.get_or_create_feature_view(\n",
    "    name='my_feature_view_name',\n",
    "    version=1,\n",
    "    query=query\n",
    ")"
   ]
  },
  {
   "cell_type": "code",
   "execution_count": null,
   "id": "bcc9490c",
   "metadata": {},
   "outputs": [],
   "source": [
    "vector = feature_view.get_feature_vector(\n",
    "    entry = {\"pk1_name\": 1, \"pk2_name\": 2}\n",
    ")\n",
    "vector"
   ]
  },
  {
   "cell_type": "markdown",
   "id": "40835148",
   "metadata": {},
   "source": [
    "---"
   ]
  }
 ],
 "metadata": {
  "kernelspec": {
   "display_name": "PySpark",
   "language": "python",
   "name": "pysparkkernel"
  },
  "language_info": {
   "codemirror_mode": {
    "name": "python",
    "version": 3
   },
   "mimetype": "text/x-python",
   "name": "pyspark",
   "pygments_lexer": "python3"
  }
 },
 "nbformat": 4,
 "nbformat_minor": 5
}