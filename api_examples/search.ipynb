{
 "cells": [
  {
   "cell_type": "markdown",
   "id": "3f5e6a71",
   "metadata": {},
   "source": [
    "## Search Api"
   ]
  },
  {
   "cell_type": "markdown",
   "id": "2da5bffb",
   "metadata": {},
   "source": [
    "This API provides the possibility to search for featuregroup, featureview, trainingdataset and feature."
   ]
  },
  {
   "cell_type": "markdown",
   "id": "4ca8c360",
   "metadata": {},
   "source": [
    "## Prerequisite"
   ]
  },
  {
   "cell_type": "markdown",
   "id": "e06c3f59",
   "metadata": {},
   "source": [
    "Before you run this notebook you need to define a tag schema."
   ]
  },
  {
   "cell_type": "markdown",
   "id": "b5418d66",
   "metadata": {},
   "source": [
    "![create tag](../images/create_tag.png)"
   ]
  },
  {
   "cell_type": "markdown",
   "id": "85723049",
   "metadata": {},
   "source": [
    "This tag schema will be used to attach tags to a featuregroup. To learn more about tag schemas goto [Define a tag schema](https://docs.hopsworks.ai/latest/user_guides/fs/tags/tags/#step-1-define-a-tag-schema)."
   ]
  },
  {
   "cell_type": "markdown",
   "id": "38ef2ba1",
   "metadata": {},
   "source": [
    "## Scope"
   ]
  },
  {
   "cell_type": "markdown",
   "id": "badd1362",
   "metadata": {},
   "source": [
    "* Create featuregroup, featureview and trainingdataset\n",
    "* Attach tag and keywords\n",
    "* Search for featuregroup, featureview and trainingdataset\n",
    "* Search for featuregroup, featureview and trainingdataset by tag\n",
    "* Search for featuregroup, featureview and trainingdataset by keyword\n",
    "* Get entity from search result"
   ]
  },
  {
   "cell_type": "code",
   "execution_count": 1,
   "id": "91e82695",
   "metadata": {},
   "outputs": [],
   "source": [
    "import hopsworks"
   ]
  },
  {
   "cell_type": "code",
   "execution_count": null,
   "id": "3b242f44",
   "metadata": {},
   "outputs": [
    {
     "name": "stdout",
     "output_type": "stream",
     "text": [
      "2025-07-02 09:59:50,424 INFO: Closing external client and cleaning up certificates.\n",
      "Connection closed.\n",
      "2025-07-02 09:59:50,443 INFO: Initializing external client\n",
      "2025-07-02 09:59:50,443 INFO: Base URL: https://hopsworks.ai.local:443\n",
      "2025-07-02 09:59:51,509 INFO: Python Engine initialized.\n",
      "\n",
      "Logged in to project, explore it here https://hopsworks.ai.local:443/p/119\n"
     ]
    }
   ],
   "source": [
    "# Connect to your cluster, to be used running inside Jupyter or jobs inside the cluster.\n",
    "project = hopsworks.login()\n",
    "# Uncomment when connecting to the cluster from an external environment.\n",
    "#project = hopsworks.login(host=\"hopsworks.ai.local\", api_key_file='api_key')"
   ]
  },
  {
   "cell_type": "markdown",
   "id": "29e0f593",
   "metadata": {},
   "source": [
    "### Create featuregroup, featureview and trainingdataset"
   ]
  },
  {
   "cell_type": "code",
   "execution_count": 5,
   "id": "99502314",
   "metadata": {},
   "outputs": [
    {
     "name": "stdout",
     "output_type": "stream",
     "text": [
      "Feature Group created successfully, explore it at \n",
      "https://hopsworks.ai.local:443/p/119/fs/67/fg/13\n"
     ]
    },
    {
     "name": "stderr",
     "output_type": "stream",
     "text": [
      "Uploading Dataframe: 100.00% |██████████| Rows 150/150 | Elapsed Time: 00:00 | Remaining Time: 00:00\n"
     ]
    },
    {
     "name": "stdout",
     "output_type": "stream",
     "text": [
      "Launching job: iris_model_1_offline_fg_materialization\n",
      "Job started successfully, you can follow the progress at \n",
      "https://hopsworks.ai.local:443/p/119/jobs/named/iris_model_1_offline_fg_materialization/executions\n",
      "2025-07-02 10:00:08,877 INFO: Waiting for execution to finish. Current state: SUBMITTED. Final status: UNDEFINED\n",
      "2025-07-02 10:00:12,003 INFO: Waiting for execution to finish. Current state: RUNNING. Final status: UNDEFINED\n",
      "2025-07-02 10:01:45,471 INFO: Waiting for execution to finish. Current state: AGGREGATING_LOGS. Final status: SUCCEEDED\n",
      "2025-07-02 10:01:45,640 INFO: Waiting for log aggregation to finish.\n",
      "2025-07-02 10:01:54,105 INFO: Execution finished successfully.\n",
      "Feature view created successfully, explore it at \n",
      "https://hopsworks.ai.local:443/p/119/fs/67/fv/iris_model/version/1\n",
      "Finished: Materializing data to Hopsworks, using Hopsworks Feature Query Service (1.92s) \n"
     ]
    },
    {
     "name": "stderr",
     "output_type": "stream",
     "text": [
      "VersionWarning: Incremented version to `1`.\n"
     ]
    }
   ],
   "source": [
    "import pandas as pd\n",
    "\n",
    "# Data loading\n",
    "original_iris_df = pd.read_csv(\n",
    "    \"https://repo.hops.works/master/hopsworks-tutorials/data/iris.csv\"\n",
    ").reset_index()\n",
    "\n",
    "fs = project.get_feature_store()\n",
    "# Feature Group\n",
    "iris_fg = fs.get_or_create_feature_group(\n",
    "    name=\"iris_model\",\n",
    "    version=1,\n",
    "    primary_key=[\"index\"],\n",
    "    description=\"Iris flower dataset\",\n",
    ")\n",
    "\n",
    "iris_fg.insert(original_iris_df, write_options={\"wait_for_job\": True})\n",
    "\n",
    "iris_fv = fs.get_or_create_feature_view(\n",
    "    name=\"iris_model\",\n",
    "    version=1,\n",
    "    description=\"Read from Iris flower dataset\",\n",
    "    labels=[\"variety\"],\n",
    "    query=iris_fg.select_all(),\n",
    ")\n",
    "td_version, _ = iris_fv.create_training_data(data_format=\"parquet\")\n",
    "\n",
    "iris_td = fs.get_training_dataset(\"iris_model_1\", td_version)\n"
   ]
  },
  {
   "cell_type": "markdown",
   "id": "66eff0d0",
   "metadata": {},
   "source": [
    "#### Attach a tag"
   ]
  },
  {
   "cell_type": "code",
   "execution_count": 7,
   "id": "1db5bcd7",
   "metadata": {},
   "outputs": [],
   "source": [
    "tag_name = \"iris_tag\"\n",
    "iris_fg.add_tag(tag_name, {\"name\": \"iris_tag_fg\", \"id\": 1})\n",
    "iris_fv.add_tag(tag_name, {\"name\": \"iris_tag_fv\", \"id\": 2})\n",
    "iris_td.add_tag(tag_name, {\"name\": \"iris_tag_td\", \"id\": 3})"
   ]
  },
  {
   "cell_type": "markdown",
   "id": "f346f2b9",
   "metadata": {},
   "source": [
    "#### Attach keywords"
   ]
  },
  {
   "cell_type": "code",
   "execution_count": 8,
   "id": "d62eba86",
   "metadata": {},
   "outputs": [],
   "source": [
    "import json\n",
    "import time\n",
    "from hopsworks import client\n",
    "\n",
    "\n",
    "def add_keywords(projectId: int, featurestoreId: int, keywords: list[str], params=[]):\n",
    "    _client = client.get_instance()\n",
    "\n",
    "    path_params = [\n",
    "        \"project\",\n",
    "        projectId,\n",
    "        \"featurestores\",\n",
    "        featurestoreId,\n",
    "    ]\n",
    "    path_params.extend(params)\n",
    "    path_params.append(\"keywords\")\n",
    "    headers = {\"content-type\": \"application/json\"}\n",
    "    data = {\"keywords\": keywords}\n",
    "\n",
    "    _client._send_request(\"POST\", path_params, data=json.dumps(data), headers=headers)\n",
    "\n",
    "\n",
    "# Add keywords to the feature group\n",
    "add_keywords(\n",
    "    projectId=project.id,\n",
    "    featurestoreId=fs.id,\n",
    "    keywords=[\"iris_fg\", \"flower_fg\"],\n",
    "    params=[\"featuregroups\", str(iris_fg.id)],\n",
    ")\n",
    "# Add keywords to the feature view\n",
    "add_keywords(\n",
    "    projectId=project.id,\n",
    "    featurestoreId=fs.id,\n",
    "    keywords=[\"iris_fv\", \"flower_fv\"],\n",
    "    params=[\"featureview\", iris_fv.name, \"version\", str(iris_fv.version)],\n",
    ")\n",
    "# Add keywords to the training dataset\n",
    "add_keywords(\n",
    "    projectId=project.id,\n",
    "    featurestoreId=fs.id,\n",
    "    keywords=[\"iris_td\", \"flower_td\"],\n",
    "    params=[\n",
    "        \"featureview\",\n",
    "        iris_fv.name,\n",
    "        \"version\",\n",
    "        str(iris_fv.version),\n",
    "        \"trainingdatasets\",\n",
    "        \"version\",\n",
    "        str(iris_td.version),\n",
    "    ],\n",
    ")\n",
    "\n",
    "time.sleep(20)  # give it time to index"
   ]
  },
  {
   "cell_type": "markdown",
   "id": "0631b2e8",
   "metadata": {},
   "source": [
    "### Search for featuregroup, featureview and trainingdataset"
   ]
  },
  {
   "cell_type": "code",
   "execution_count": 9,
   "id": "cc10d7d5",
   "metadata": {},
   "outputs": [],
   "source": [
    "search_api = project.get_search_api()"
   ]
  },
  {
   "cell_type": "code",
   "execution_count": 10,
   "id": "da6fa952",
   "metadata": {},
   "outputs": [
    {
     "data": {
      "text/plain": [
       "{'featuregroups': [{'name': 'iris_model',\n",
       "   'version': 1,\n",
       "   'description': 'Iris flower dataset',\n",
       "   'featurestore_id': 67,\n",
       "   'created': '2025-07-02T07:59:56.000Z',\n",
       "   'parent_project_id': 119,\n",
       "   'parent_project_name': 'project1',\n",
       "   'access_projects': {'119': 'project1'},\n",
       "   'highlights': {'name': '<em>iris_model</em>',\n",
       "    'description': None,\n",
       "    'features': [],\n",
       "    'tags': [],\n",
       "    'other_xattrs': None},\n",
       "   'creator': {'username': 'meb10000',\n",
       "    'firstname': 'Admin',\n",
       "    'lastname': 'Admin',\n",
       "    'email': 'admin@hopsworks.ai'}}],\n",
       " 'feature_views': [{'name': 'iris_model',\n",
       "   'version': 1,\n",
       "   'description': 'Read from Iris flower dataset',\n",
       "   'featurestore_id': 67,\n",
       "   'created': '2025-07-02T08:01:55.000Z',\n",
       "   'parent_project_id': 119,\n",
       "   'parent_project_name': 'project1',\n",
       "   'access_projects': {'119': 'project1'},\n",
       "   'highlights': {'name': '<em>iris_model</em>',\n",
       "    'description': None,\n",
       "    'features': [],\n",
       "    'tags': [],\n",
       "    'other_xattrs': {'xattr.featurestore.fv_features.name': '<em>iris_model</em>'}},\n",
       "   'creator': {'username': 'meb10000',\n",
       "    'firstname': 'Admin',\n",
       "    'lastname': 'Admin',\n",
       "    'email': 'admin@hopsworks.ai'}}],\n",
       " 'trainingdatasets': [{'name': 'iris_model_1',\n",
       "   'version': 1,\n",
       "   'description': None,\n",
       "   'featurestore_id': 67,\n",
       "   'created': None,\n",
       "   'parent_project_id': 119,\n",
       "   'parent_project_name': 'project1',\n",
       "   'access_projects': {'119': 'project1'},\n",
       "   'highlights': {'name': '<em>iris_model_1</em>',\n",
       "    'description': None,\n",
       "    'features': [],\n",
       "    'tags': [],\n",
       "    'other_xattrs': None},\n",
       "   'creator': None}],\n",
       " 'features': [],\n",
       " 'featuregroups_from': 0,\n",
       " 'featuregroups_total': 1,\n",
       " 'feature_views_from': 0,\n",
       " 'feature_views_total': 1,\n",
       " 'trainingdatasets_from': 0,\n",
       " 'trainingdatasets_total': 1,\n",
       " 'features_from': 0,\n",
       " 'features_total': 0}"
      ]
     },
     "execution_count": 10,
     "metadata": {},
     "output_type": "execute_result"
    }
   ],
   "source": [
    "featurestore_result = search_api.featurestore_search(\"iris_model\")\n",
    "featurestore_result.to_dict()"
   ]
  },
  {
   "cell_type": "markdown",
   "id": "0ebf10a5",
   "metadata": {},
   "source": [
    "### Search for featuregroup, featureview and trainingdataset by tag"
   ]
  },
  {
   "cell_type": "code",
   "execution_count": 11,
   "id": "f706c97c",
   "metadata": {},
   "outputs": [
    {
     "data": {
      "text/plain": [
       "{'featuregroups': [{'name': 'iris_model',\n",
       "   'version': 1,\n",
       "   'description': 'Iris flower dataset',\n",
       "   'featurestore_id': 67,\n",
       "   'created': '2025-07-02T07:59:56.000Z',\n",
       "   'parent_project_id': 119,\n",
       "   'parent_project_name': 'project1',\n",
       "   'access_projects': {'119': 'project1'},\n",
       "   'highlights': {'name': None,\n",
       "    'description': None,\n",
       "    'features': [],\n",
       "    'tags': [{'key': '<em>iris_tag</em>', 'value': None},\n",
       "     {'key': None, 'value': '{\"name\": \"<em>iris_tag_fg</em>\", \"id\": 1}'}],\n",
       "    'other_xattrs': None},\n",
       "   'creator': {'username': 'meb10000',\n",
       "    'firstname': 'Admin',\n",
       "    'lastname': 'Admin',\n",
       "    'email': 'admin@hopsworks.ai'}}],\n",
       " 'feature_views': [{'name': 'iris_model',\n",
       "   'version': 1,\n",
       "   'description': 'Read from Iris flower dataset',\n",
       "   'featurestore_id': 67,\n",
       "   'created': '2025-07-02T08:01:55.000Z',\n",
       "   'parent_project_id': 119,\n",
       "   'parent_project_name': 'project1',\n",
       "   'access_projects': {'119': 'project1'},\n",
       "   'highlights': {'name': None,\n",
       "    'description': None,\n",
       "    'features': [],\n",
       "    'tags': [{'key': '<em>iris_tag</em>', 'value': None},\n",
       "     {'key': None, 'value': '{\"name\": \"<em>iris_tag_fv</em>\", \"id\": 2}'}],\n",
       "    'other_xattrs': None},\n",
       "   'creator': {'username': 'meb10000',\n",
       "    'firstname': 'Admin',\n",
       "    'lastname': 'Admin',\n",
       "    'email': 'admin@hopsworks.ai'}}],\n",
       " 'trainingdatasets': [{'name': 'iris_model_1',\n",
       "   'version': 1,\n",
       "   'description': None,\n",
       "   'featurestore_id': 67,\n",
       "   'created': None,\n",
       "   'parent_project_id': 119,\n",
       "   'parent_project_name': 'project1',\n",
       "   'access_projects': {'119': 'project1'},\n",
       "   'highlights': {'name': None,\n",
       "    'description': None,\n",
       "    'features': [],\n",
       "    'tags': [{'key': '<em>iris_tag</em>', 'value': None},\n",
       "     {'key': None, 'value': '{\"name\": \"<em>iris_tag_td</em>\", \"id\": 3}'}],\n",
       "    'other_xattrs': None},\n",
       "   'creator': None}],\n",
       " 'features': [],\n",
       " 'featuregroups_from': 0,\n",
       " 'featuregroups_total': 1,\n",
       " 'feature_views_from': 0,\n",
       " 'feature_views_total': 1,\n",
       " 'trainingdatasets_from': 0,\n",
       " 'trainingdatasets_total': 1,\n",
       " 'features_from': 0,\n",
       " 'features_total': 0}"
      ]
     },
     "execution_count": 11,
     "metadata": {},
     "output_type": "execute_result"
    }
   ],
   "source": [
    "# search by any tag name, key or value\n",
    "featurestore_result = search_api.featurestore_search(\"iris_tag\", \"tag\")\n",
    "featurestore_result.to_dict()"
   ]
  },
  {
   "cell_type": "code",
   "execution_count": 12,
   "id": "5d53c8a1",
   "metadata": {},
   "outputs": [
    {
     "data": {
      "text/plain": [
       "{'featuregroups': [{'name': 'iris_model',\n",
       "   'version': 1,\n",
       "   'description': 'Iris flower dataset',\n",
       "   'featurestore_id': 67,\n",
       "   'created': '2025-07-02T07:59:56.000Z',\n",
       "   'parent_project_id': 119,\n",
       "   'parent_project_name': 'project1',\n",
       "   'access_projects': {'119': 'project1'},\n",
       "   'highlights': {'name': None,\n",
       "    'description': None,\n",
       "    'features': [],\n",
       "    'tags': [{'key': '<em>iris_tag</em>', 'value': None},\n",
       "     {'key': None, 'value': '{\"name\": \"<em>iris_tag_fg</em>\", \"id\": 1}'}],\n",
       "    'other_xattrs': None},\n",
       "   'creator': {'username': 'meb10000',\n",
       "    'firstname': 'Admin',\n",
       "    'lastname': 'Admin',\n",
       "    'email': 'admin@hopsworks.ai'}}],\n",
       " 'feature_views': [{'name': 'iris_model',\n",
       "   'version': 1,\n",
       "   'description': 'Read from Iris flower dataset',\n",
       "   'featurestore_id': 67,\n",
       "   'created': '2025-07-02T08:01:55.000Z',\n",
       "   'parent_project_id': 119,\n",
       "   'parent_project_name': 'project1',\n",
       "   'access_projects': {'119': 'project1'},\n",
       "   'highlights': {'name': None,\n",
       "    'description': None,\n",
       "    'features': [],\n",
       "    'tags': [{'key': '<em>iris_tag</em>', 'value': None},\n",
       "     {'key': None, 'value': '{\"name\": \"<em>iris_tag_fv</em>\", \"id\": 2}'}],\n",
       "    'other_xattrs': None},\n",
       "   'creator': {'username': 'meb10000',\n",
       "    'firstname': 'Admin',\n",
       "    'lastname': 'Admin',\n",
       "    'email': 'admin@hopsworks.ai'}}],\n",
       " 'trainingdatasets': [{'name': 'iris_model_1',\n",
       "   'version': 1,\n",
       "   'description': None,\n",
       "   'featurestore_id': 67,\n",
       "   'created': None,\n",
       "   'parent_project_id': 119,\n",
       "   'parent_project_name': 'project1',\n",
       "   'access_projects': {'119': 'project1'},\n",
       "   'highlights': {'name': None,\n",
       "    'description': None,\n",
       "    'features': [],\n",
       "    'tags': [{'key': '<em>iris_tag</em>', 'value': None},\n",
       "     {'key': None, 'value': '{\"name\": \"<em>iris_tag_td</em>\", \"id\": 3}'}],\n",
       "    'other_xattrs': None},\n",
       "   'creator': None}],\n",
       " 'features': [],\n",
       " 'featuregroups_from': 0,\n",
       " 'featuregroups_total': 1,\n",
       " 'feature_views_from': 0,\n",
       " 'feature_views_total': 1,\n",
       " 'trainingdatasets_from': 0,\n",
       " 'trainingdatasets_total': 1,\n",
       " 'features_from': 0,\n",
       " 'features_total': 0}"
      ]
     },
     "execution_count": 12,
     "metadata": {},
     "output_type": "execute_result"
    }
   ],
   "source": [
    "# search by any tag name\n",
    "featurestore_result = search_api.featurestore_search(\"iris_tag\", \"tag_name\")\n",
    "featurestore_result.to_dict()"
   ]
  },
  {
   "cell_type": "code",
   "execution_count": 14,
   "id": "e9e1a350",
   "metadata": {},
   "outputs": [
    {
     "data": {
      "text/plain": [
       "{'featuregroups': [{'name': 'iris_model',\n",
       "   'version': 1,\n",
       "   'description': 'Iris flower dataset',\n",
       "   'featurestore_id': 67,\n",
       "   'created': '2025-07-02T07:59:56.000Z',\n",
       "   'parent_project_id': 119,\n",
       "   'parent_project_name': 'project1',\n",
       "   'access_projects': {'119': 'project1'},\n",
       "   'highlights': {'name': None,\n",
       "    'description': None,\n",
       "    'features': [],\n",
       "    'tags': [{'key': None,\n",
       "      'value': '{\"<em>name</em>\": \"iris_tag_fg\", \"id\": 1}'}],\n",
       "    'other_xattrs': None},\n",
       "   'creator': {'username': 'meb10000',\n",
       "    'firstname': 'Admin',\n",
       "    'lastname': 'Admin',\n",
       "    'email': 'admin@hopsworks.ai'}}],\n",
       " 'feature_views': [{'name': 'iris_model',\n",
       "   'version': 1,\n",
       "   'description': 'Read from Iris flower dataset',\n",
       "   'featurestore_id': 67,\n",
       "   'created': '2025-07-02T08:01:55.000Z',\n",
       "   'parent_project_id': 119,\n",
       "   'parent_project_name': 'project1',\n",
       "   'access_projects': {'119': 'project1'},\n",
       "   'highlights': {'name': None,\n",
       "    'description': None,\n",
       "    'features': [],\n",
       "    'tags': [{'key': None,\n",
       "      'value': '{\"<em>name</em>\": \"iris_tag_fv\", \"id\": 2}'}],\n",
       "    'other_xattrs': None},\n",
       "   'creator': {'username': 'meb10000',\n",
       "    'firstname': 'Admin',\n",
       "    'lastname': 'Admin',\n",
       "    'email': 'admin@hopsworks.ai'}}],\n",
       " 'trainingdatasets': [{'name': 'iris_model_1',\n",
       "   'version': 1,\n",
       "   'description': None,\n",
       "   'featurestore_id': 67,\n",
       "   'created': None,\n",
       "   'parent_project_id': 119,\n",
       "   'parent_project_name': 'project1',\n",
       "   'access_projects': {'119': 'project1'},\n",
       "   'highlights': {'name': None,\n",
       "    'description': None,\n",
       "    'features': [],\n",
       "    'tags': [{'key': None,\n",
       "      'value': '{\"<em>name</em>\": \"iris_tag_td\", \"id\": 3}'}],\n",
       "    'other_xattrs': None},\n",
       "   'creator': None}],\n",
       " 'features': [],\n",
       " 'featuregroups_from': 0,\n",
       " 'featuregroups_total': 1,\n",
       " 'feature_views_from': 0,\n",
       " 'feature_views_total': 1,\n",
       " 'trainingdatasets_from': 0,\n",
       " 'trainingdatasets_total': 1,\n",
       " 'features_from': 0,\n",
       " 'features_total': 0}"
      ]
     },
     "execution_count": 14,
     "metadata": {},
     "output_type": "execute_result"
    }
   ],
   "source": [
    "# search by any tag key\n",
    "featurestore_result = search_api.featurestore_search(\"name\", \"tag_key\")\n",
    "featurestore_result.to_dict()"
   ]
  },
  {
   "cell_type": "code",
   "execution_count": 15,
   "id": "5fd2bb9c",
   "metadata": {},
   "outputs": [
    {
     "data": {
      "text/plain": [
       "{'featuregroups': [{'name': 'iris_model',\n",
       "   'version': 1,\n",
       "   'description': 'Iris flower dataset',\n",
       "   'featurestore_id': 67,\n",
       "   'created': '2025-07-02T07:59:56.000Z',\n",
       "   'parent_project_id': 119,\n",
       "   'parent_project_name': 'project1',\n",
       "   'access_projects': {'119': 'project1'},\n",
       "   'highlights': {'name': None,\n",
       "    'description': None,\n",
       "    'features': [],\n",
       "    'tags': [{'key': None,\n",
       "      'value': '{\"name\": \"<em>iris_tag_fg</em>\", \"id\": 1}'}],\n",
       "    'other_xattrs': None},\n",
       "   'creator': {'username': 'meb10000',\n",
       "    'firstname': 'Admin',\n",
       "    'lastname': 'Admin',\n",
       "    'email': 'admin@hopsworks.ai'}}],\n",
       " 'feature_views': [],\n",
       " 'trainingdatasets': [],\n",
       " 'features': [],\n",
       " 'featuregroups_from': 0,\n",
       " 'featuregroups_total': 1,\n",
       " 'feature_views_from': 0,\n",
       " 'feature_views_total': 0,\n",
       " 'trainingdatasets_from': 0,\n",
       " 'trainingdatasets_total': 0,\n",
       " 'features_from': 0,\n",
       " 'features_total': 0}"
      ]
     },
     "execution_count": 15,
     "metadata": {},
     "output_type": "execute_result"
    }
   ],
   "source": [
    "# search by any tag value\n",
    "featurestore_result = search_api.featurestore_search(\"iris_tag_fg\", \"tag_value\")\n",
    "featurestore_result.to_dict()"
   ]
  },
  {
   "cell_type": "markdown",
   "id": "256db370",
   "metadata": {},
   "source": [
    "### Search for featuregroup, featureview and trainingdataset by keyword"
   ]
  },
  {
   "cell_type": "code",
   "execution_count": 17,
   "id": "4897f024",
   "metadata": {},
   "outputs": [
    {
     "data": {
      "text/plain": [
       "{'featuregroups': [{'name': 'iris_model',\n",
       "   'version': 1,\n",
       "   'description': 'Iris flower dataset',\n",
       "   'featurestore_id': 67,\n",
       "   'created': '2025-07-02T07:59:56.000Z',\n",
       "   'parent_project_id': 119,\n",
       "   'parent_project_name': 'project1',\n",
       "   'access_projects': {'119': 'project1'},\n",
       "   'highlights': {'name': '<em>iris_model</em>',\n",
       "    'description': '<em>Iris</em> flower dataset',\n",
       "    'features': [],\n",
       "    'tags': [{'key': '<em>iris_tag</em>', 'value': None},\n",
       "     {'key': None, 'value': '{\"name\": \"<em>iris_tag_fg</em>\", \"id\": 1}'}],\n",
       "    'other_xattrs': {'xattr.keywords': '<em>iris_fg</em>'}},\n",
       "   'creator': {'username': 'meb10000',\n",
       "    'firstname': 'Admin',\n",
       "    'lastname': 'Admin',\n",
       "    'email': 'admin@hopsworks.ai'}}],\n",
       " 'feature_views': [{'name': 'iris_model',\n",
       "   'version': 1,\n",
       "   'description': 'Read from Iris flower dataset',\n",
       "   'featurestore_id': 67,\n",
       "   'created': '2025-07-02T08:01:55.000Z',\n",
       "   'parent_project_id': 119,\n",
       "   'parent_project_name': 'project1',\n",
       "   'access_projects': {'119': 'project1'},\n",
       "   'highlights': {'name': '<em>iris_model</em>',\n",
       "    'description': 'Read from <em>Iris</em> flower dataset',\n",
       "    'features': [],\n",
       "    'tags': [{'key': '<em>iris_tag</em>', 'value': None},\n",
       "     {'key': None, 'value': '{\"name\": \"<em>iris_tag_fv</em>\", \"id\": 2}'}],\n",
       "    'other_xattrs': {'xattr.featurestore.fv_features.name': '<em>iris_model</em>',\n",
       "     'xattr.keywords': '<em>iris_fv</em>'}},\n",
       "   'creator': {'username': 'meb10000',\n",
       "    'firstname': 'Admin',\n",
       "    'lastname': 'Admin',\n",
       "    'email': 'admin@hopsworks.ai'}}],\n",
       " 'trainingdatasets': [{'name': 'iris_model_1',\n",
       "   'version': 1,\n",
       "   'description': None,\n",
       "   'featurestore_id': 67,\n",
       "   'created': None,\n",
       "   'parent_project_id': 119,\n",
       "   'parent_project_name': 'project1',\n",
       "   'access_projects': {'119': 'project1'},\n",
       "   'highlights': {'name': '<em>iris_model_1</em>',\n",
       "    'description': None,\n",
       "    'features': [],\n",
       "    'tags': [{'key': '<em>iris_tag</em>', 'value': None},\n",
       "     {'key': None, 'value': '{\"name\": \"<em>iris_tag_td</em>\", \"id\": 3}'}],\n",
       "    'other_xattrs': {'xattr.keywords': '<em>iris_td</em>'}},\n",
       "   'creator': None}],\n",
       " 'features': [],\n",
       " 'featuregroups_from': 0,\n",
       " 'featuregroups_total': 1,\n",
       " 'feature_views_from': 0,\n",
       " 'feature_views_total': 1,\n",
       " 'trainingdatasets_from': 0,\n",
       " 'trainingdatasets_total': 1,\n",
       " 'features_from': 0,\n",
       " 'features_total': 0}"
      ]
     },
     "execution_count": 17,
     "metadata": {},
     "output_type": "execute_result"
    }
   ],
   "source": [
    "featurestore_result = search_api.featurestore_search(\"iris\", \"keyword\")\n",
    "featurestore_result.to_dict()"
   ]
  },
  {
   "cell_type": "markdown",
   "id": "0bdfc574",
   "metadata": {},
   "source": [
    "### Get entity from search result"
   ]
  },
  {
   "cell_type": "code",
   "execution_count": 18,
   "id": "3a7a2d7a",
   "metadata": {},
   "outputs": [
    {
     "data": {
      "text/plain": [
       "{'id': 13,\n",
       " 'name': 'iris_model',\n",
       " 'version': 1,\n",
       " 'description': 'Iris flower dataset',\n",
       " 'onlineEnabled': False,\n",
       " 'timeTravelFormat': 'HUDI',\n",
       " 'features': [Feature('index', 'bigint', None, True, False, False, None, None, 13),\n",
       "  Feature('sepal_length', 'double', None, False, False, False, None, None, 13),\n",
       "  Feature('sepal_width', 'double', None, False, False, False, None, None, 13),\n",
       "  Feature('petal_length', 'double', None, False, False, False, None, None, 13),\n",
       "  Feature('petal_width', 'double', None, False, False, False, None, None, 13),\n",
       "  Feature('variety', 'string', None, False, False, False, None, None, 13)],\n",
       " 'featurestoreId': 67,\n",
       " 'type': 'streamFeatureGroupDTO',\n",
       " 'statisticsConfig': StatisticsConfig(True, False, False, False, []),\n",
       " 'eventTime': None,\n",
       " 'expectationSuite': None,\n",
       " 'parents': None,\n",
       " 'topicName': None,\n",
       " 'notificationTopicName': None,\n",
       " 'deprecated': False,\n",
       " 'transformationFunctions': [],\n",
       " 'dataSource': {'query': None,\n",
       "  'database': None,\n",
       "  'group': None,\n",
       "  'table': None,\n",
       "  'path': None},\n",
       " 'onlineConfig': {'onlineComments': [], 'tableSpace': None},\n",
       " 'deltaStreamerJobConf': None}"
      ]
     },
     "execution_count": 18,
     "metadata": {},
     "output_type": "execute_result"
    }
   ],
   "source": [
    "featuregroup = featurestore_result.featuregroups[0].get_feature_group()\n",
    "featuregroup.to_dict()"
   ]
  },
  {
   "cell_type": "code",
   "execution_count": 19,
   "id": "451a96f7",
   "metadata": {},
   "outputs": [
    {
     "name": "stdout",
     "output_type": "stream",
     "text": [
      "Finished: Reading data from Hopsworks, using Hopsworks Feature Query Service (0.34s) \n"
     ]
    },
    {
     "data": {
      "text/html": [
       "<div>\n",
       "<style scoped>\n",
       "    .dataframe tbody tr th:only-of-type {\n",
       "        vertical-align: middle;\n",
       "    }\n",
       "\n",
       "    .dataframe tbody tr th {\n",
       "        vertical-align: top;\n",
       "    }\n",
       "\n",
       "    .dataframe thead th {\n",
       "        text-align: right;\n",
       "    }\n",
       "</style>\n",
       "<table border=\"1\" class=\"dataframe\">\n",
       "  <thead>\n",
       "    <tr style=\"text-align: right;\">\n",
       "      <th></th>\n",
       "      <th>index</th>\n",
       "      <th>sepal_length</th>\n",
       "      <th>sepal_width</th>\n",
       "      <th>petal_length</th>\n",
       "      <th>petal_width</th>\n",
       "      <th>variety</th>\n",
       "    </tr>\n",
       "  </thead>\n",
       "  <tbody>\n",
       "    <tr>\n",
       "      <th>0</th>\n",
       "      <td>104</td>\n",
       "      <td>6.5</td>\n",
       "      <td>3.0</td>\n",
       "      <td>5.8</td>\n",
       "      <td>2.2</td>\n",
       "      <td>Virginica</td>\n",
       "    </tr>\n",
       "    <tr>\n",
       "      <th>1</th>\n",
       "      <td>26</td>\n",
       "      <td>5.0</td>\n",
       "      <td>3.4</td>\n",
       "      <td>1.6</td>\n",
       "      <td>0.4</td>\n",
       "      <td>Setosa</td>\n",
       "    </tr>\n",
       "    <tr>\n",
       "      <th>2</th>\n",
       "      <td>1</td>\n",
       "      <td>4.9</td>\n",
       "      <td>3.0</td>\n",
       "      <td>1.4</td>\n",
       "      <td>0.2</td>\n",
       "      <td>Setosa</td>\n",
       "    </tr>\n",
       "    <tr>\n",
       "      <th>3</th>\n",
       "      <td>131</td>\n",
       "      <td>7.9</td>\n",
       "      <td>3.8</td>\n",
       "      <td>6.4</td>\n",
       "      <td>2.0</td>\n",
       "      <td>Virginica</td>\n",
       "    </tr>\n",
       "    <tr>\n",
       "      <th>4</th>\n",
       "      <td>21</td>\n",
       "      <td>5.1</td>\n",
       "      <td>3.7</td>\n",
       "      <td>1.5</td>\n",
       "      <td>0.4</td>\n",
       "      <td>Setosa</td>\n",
       "    </tr>\n",
       "  </tbody>\n",
       "</table>\n",
       "</div>"
      ],
      "text/plain": [
       "   index  sepal_length  sepal_width  petal_length  petal_width    variety\n",
       "0    104           6.5          3.0           5.8          2.2  Virginica\n",
       "1     26           5.0          3.4           1.6          0.4     Setosa\n",
       "2      1           4.9          3.0           1.4          0.2     Setosa\n",
       "3    131           7.9          3.8           6.4          2.0  Virginica\n",
       "4     21           5.1          3.7           1.5          0.4     Setosa"
      ]
     },
     "execution_count": 19,
     "metadata": {},
     "output_type": "execute_result"
    }
   ],
   "source": [
    "featuregroup.show(5)"
   ]
  },
  {
   "cell_type": "code",
   "execution_count": null,
   "id": "0b91690c",
   "metadata": {},
   "outputs": [],
   "source": []
  }
 ],
 "metadata": {
  "kernelspec": {
   "display_name": "hopsworks",
   "language": "python",
   "name": "python3"
  },
  "language_info": {
   "codemirror_mode": {
    "name": "ipython",
    "version": 3
   },
   "file_extension": ".py",
   "mimetype": "text/x-python",
   "name": "python",
   "nbconvert_exporter": "python",
   "pygments_lexer": "ipython3",
   "version": "3.12.11"
  }
 },
 "nbformat": 4,
 "nbformat_minor": 5
}
