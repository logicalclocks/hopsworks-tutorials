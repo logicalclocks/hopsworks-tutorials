{
 "cells": [
  {
   "cell_type": "markdown",
   "id": "0be78559",
   "metadata": {},
   "source": [
    "# <span style=\"font-width:bold; font-size: 3rem; color:#1EB182;\"><img src=\"../images/icon102.png\" width=\"38px\"></img> **Hopsworks Feature Store** </span><span style=\"font-width:bold; font-size: 3rem; color:#333;\">- Part 03: Batch Inference</span>\n",
    "\n",
    "\n",
    "## 🗒️ This notebook is divided into the following sections:\n",
    "\n",
    "1. Load batch data.\n",
    "2. Predict using model from Model Registry."
   ]
  },
  {
   "cell_type": "markdown",
   "id": "43743c5d",
   "metadata": {},
   "source": [
    "## <span style='color:#ff5f27'> 📝 Imports"
   ]
  },
  {
   "cell_type": "code",
   "execution_count": null,
   "id": "13f0abf3",
   "metadata": {},
   "outputs": [],
   "source": [
    "from xgboost import XGBClassifier"
   ]
  },
  {
   "cell_type": "markdown",
   "id": "6a310165",
   "metadata": {},
   "source": [
    "## <span style=\"color:#ff5f27;\"> 📡 Connecting to Hopsworks Feature Store </span>"
   ]
  },
  {
   "cell_type": "code",
   "execution_count": null,
   "id": "3fe3e577",
   "metadata": {},
   "outputs": [],
   "source": [
    "import hopsworks\n",
    "\n",
    "project = hopsworks.login()\n",
    "\n",
    "fs = project.get_feature_store()"
   ]
  },
  {
   "cell_type": "markdown",
   "id": "f5b8fa76",
   "metadata": {},
   "source": [
    "## <span style=\"color:#ff5f27;\"> ⚙️ Feature View Retrieval</span>\n"
   ]
  },
  {
   "cell_type": "code",
   "execution_count": null,
   "id": "4cd9db18",
   "metadata": {},
   "outputs": [],
   "source": [
    "# Retrieve the 'transactions_view_fraud_batch_fv' feature view\n",
    "feature_view = fs.get_feature_view(\n",
    "    name='transactions_view_fraud_batch_fv',\n",
    "    version=1,\n",
    ")"
   ]
  },
  {
   "cell_type": "markdown",
   "id": "0067bc06",
   "metadata": {},
   "source": [
    "## <span style=\"color:#ff5f27;\">🗄 Model Registry</span>\n"
   ]
  },
  {
   "cell_type": "code",
   "execution_count": null,
   "id": "4e6b2247",
   "metadata": {},
   "outputs": [],
   "source": [
    "# Get the model registry\n",
    "mr = project.get_model_registry()"
   ]
  },
  {
   "cell_type": "markdown",
   "id": "05dcb148",
   "metadata": {},
   "source": [
    "## <span style='color:#ff5f27'>🚀 Fetch and test the model</span>\n",
    "\n",
    "Finally you can start making predictions with your model! Retrieve your model from Hopsworks model registry."
   ]
  },
  {
   "cell_type": "code",
   "execution_count": null,
   "id": "8a34352e",
   "metadata": {},
   "outputs": [],
   "source": [
    "# Retrieve the model from the model registry\n",
    "retrieved_model = mr.get_model(\n",
    "    name=\"xgboost_fraud_batch_model\",\n",
    "    version=1,\n",
    ")\n",
    "\n",
    "# Download the saved model files to a local directory\n",
    "saved_model_dir = retrieved_model.download()"
   ]
  },
  {
   "cell_type": "code",
   "execution_count": null,
   "id": "d27adabf",
   "metadata": {},
   "outputs": [],
   "source": [
    "# Initialize the model\n",
    "model = XGBClassifier()\n",
    "\n",
    "# Load the model from a saved JSON file\n",
    "model.load_model(saved_model_dir + \"/model.json\")\n",
    "model"
   ]
  },
  {
   "cell_type": "markdown",
   "id": "ae9b9f92",
   "metadata": {},
   "source": [
    "---\n",
    "## <span style=\"color:#ff5f27;\">🔮  Batch Prediction </span>\n"
   ]
  },
  {
   "cell_type": "code",
   "execution_count": null,
   "id": "8fc906eb",
   "metadata": {},
   "outputs": [],
   "source": [
    "# Initialize batch scoring\n",
    "feature_view.init_batch_scoring(1)\n",
    "\n",
    "# Get the batch data\n",
    "batch_data = feature_view.get_batch_data()\n",
    "\n",
    "# Drop the \"datetime\" column from the batch_data DataFrame along the specified axis (axis=1 means columns)\n",
    "batch_data.drop([\"datetime\"], axis=1, inplace=True)\n",
    "\n",
    "# Display the first 3 rows\n",
    "batch_data.head(3)"
   ]
  },
  {
   "cell_type": "code",
   "execution_count": null,
   "id": "2e58817d",
   "metadata": {},
   "outputs": [],
   "source": [
    "# Use the retrieved XGBoost model to make predictions on the batch data\n",
    "predictions = model.predict(batch_data)\n",
    "\n",
    "# Display the first five predictions\n",
    "predictions[:5]"
   ]
  },
  {
   "cell_type": "markdown",
   "id": "ee5fcba9",
   "metadata": {},
   "source": [
    "---\n",
    "\n",
    "### <span style=\"color:#ff5f27;\">🥳 <b> Next Steps  </b> </span>\n",
    "Congratulations you've now completed the Fraud Batch tutorial for Managed Hopsworks.\n",
    "\n",
    "Check out our other tutorials on ➡ https://github.com/logicalclocks/hopsworks-tutorials\n",
    "\n",
    "Or documentation at ➡ https://docs.hopsworks.ai"
   ]
  }
 ],
 "metadata": {
  "kernelspec": {
   "display_name": "Python 3",
   "language": "python",
   "name": "python3"
  },
  "language_info": {
   "codemirror_mode": {
    "name": "ipython",
    "version": 3
   },
   "file_extension": ".py",
   "mimetype": "text/x-python",
   "name": "python",
   "nbconvert_exporter": "python",
   "pygments_lexer": "ipython3",
   "version": "3.10.11"
  }
 },
 "nbformat": 4,
 "nbformat_minor": 5
}
