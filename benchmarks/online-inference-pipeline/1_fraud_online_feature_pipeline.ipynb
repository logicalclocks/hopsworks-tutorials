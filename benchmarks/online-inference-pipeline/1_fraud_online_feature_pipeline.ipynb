{
 "cells": [
  {
   "cell_type": "markdown",
   "id": "3ebdad2e",
   "metadata": {},
   "source": [
    "## <span style='color:#ff5f27'> 📝 Imports"
   ]
  },
  {
   "cell_type": "code",
   "execution_count": 1,
   "id": "49806257",
   "metadata": {},
   "outputs": [],
   "source": [
    "from math import radians\n",
    "\n",
    "import numpy as np\n",
    "import pandas as pd\n",
    "\n",
    "from features import transactions_fraud\n",
    "\n",
    "# Mute warnings\n",
    "import warnings\n",
    "warnings.filterwarnings(\"ignore\")"
   ]
  },
  {
   "cell_type": "markdown",
   "id": "66d04213",
   "metadata": {},
   "source": [
    "## <span style=\"color:#ff5f27;\"> 💽 Loading the Data </span>"
   ]
  },
  {
   "cell_type": "code",
   "execution_count": 2,
   "id": "27f2b52e",
   "metadata": {},
   "outputs": [
    {
     "data": {
      "text/html": [
       "<div>\n",
       "<style scoped>\n",
       "    .dataframe tbody tr th:only-of-type {\n",
       "        vertical-align: middle;\n",
       "    }\n",
       "\n",
       "    .dataframe tbody tr th {\n",
       "        vertical-align: top;\n",
       "    }\n",
       "\n",
       "    .dataframe thead th {\n",
       "        text-align: right;\n",
       "    }\n",
       "</style>\n",
       "<table border=\"1\" class=\"dataframe\">\n",
       "  <thead>\n",
       "    <tr style=\"text-align: right;\">\n",
       "      <th></th>\n",
       "      <th>cc_num</th>\n",
       "      <th>gender</th>\n",
       "    </tr>\n",
       "  </thead>\n",
       "  <tbody>\n",
       "    <tr>\n",
       "      <th>0</th>\n",
       "      <td>4796807885357879</td>\n",
       "      <td>F</td>\n",
       "    </tr>\n",
       "    <tr>\n",
       "      <th>1</th>\n",
       "      <td>4529266636192966</td>\n",
       "      <td>F</td>\n",
       "    </tr>\n",
       "    <tr>\n",
       "      <th>2</th>\n",
       "      <td>4922690008243953</td>\n",
       "      <td>F</td>\n",
       "    </tr>\n",
       "  </tbody>\n",
       "</table>\n",
       "</div>"
      ],
      "text/plain": [
       "             cc_num gender\n",
       "0  4796807885357879      F\n",
       "1  4529266636192966      F\n",
       "2  4922690008243953      F"
      ]
     },
     "execution_count": 2,
     "metadata": {},
     "output_type": "execute_result"
    }
   ],
   "source": [
    "# Read the profiles data from a CSV file\n",
    "profiles_df = pd.read_csv(\n",
    "    \"https://repo.hops.works/master/hopsworks-tutorials/data/card_fraud_online/profiles.csv\", \n",
    "    parse_dates=[\"birthdate\"],\n",
    ")\n",
    "\n",
    "# Rename columns for clarity\n",
    "profiles_df.columns = [\"name\", \"gender\", \"mail\", \"birthdate\", \"City\", \"Country\", \"cc_num\"]\n",
    "\n",
    "# Select only the relevant columns ('cc_num' and 'gender')\n",
    "profiles_df = profiles_df[[\"cc_num\", \"gender\"]]\n",
    "\n",
    "# Display the first three rows of the DataFrame\n",
    "profiles_df.head(3)"
   ]
  },
  {
   "cell_type": "code",
   "execution_count": 3,
   "id": "713a9568",
   "metadata": {},
   "outputs": [
    {
     "data": {
      "text/html": [
       "<div>\n",
       "<style scoped>\n",
       "    .dataframe tbody tr th:only-of-type {\n",
       "        vertical-align: middle;\n",
       "    }\n",
       "\n",
       "    .dataframe tbody tr th {\n",
       "        vertical-align: top;\n",
       "    }\n",
       "\n",
       "    .dataframe thead th {\n",
       "        text-align: right;\n",
       "    }\n",
       "</style>\n",
       "<table border=\"1\" class=\"dataframe\">\n",
       "  <thead>\n",
       "    <tr style=\"text-align: right;\">\n",
       "      <th></th>\n",
       "      <th>tid</th>\n",
       "      <th>datetime</th>\n",
       "      <th>cc_num</th>\n",
       "      <th>category</th>\n",
       "      <th>amount</th>\n",
       "      <th>latitude</th>\n",
       "      <th>longitude</th>\n",
       "      <th>city</th>\n",
       "      <th>country</th>\n",
       "      <th>fraud_label</th>\n",
       "    </tr>\n",
       "  </thead>\n",
       "  <tbody>\n",
       "    <tr>\n",
       "      <th>0</th>\n",
       "      <td>11df919988c134d97bbff2678eb68e22</td>\n",
       "      <td>2022-01-01 00:00:24</td>\n",
       "      <td>4473593503484549</td>\n",
       "      <td>Health/Beauty</td>\n",
       "      <td>62.95</td>\n",
       "      <td>42.30865</td>\n",
       "      <td>-83.48216</td>\n",
       "      <td>Canton</td>\n",
       "      <td>US</td>\n",
       "      <td>0</td>\n",
       "    </tr>\n",
       "    <tr>\n",
       "      <th>1</th>\n",
       "      <td>dd0b2d6d4266ccd3bf05bc2ea91cf180</td>\n",
       "      <td>2022-01-01 00:00:56</td>\n",
       "      <td>4272465718946864</td>\n",
       "      <td>Grocery</td>\n",
       "      <td>85.45</td>\n",
       "      <td>33.52253</td>\n",
       "      <td>-117.70755</td>\n",
       "      <td>Laguna Niguel</td>\n",
       "      <td>US</td>\n",
       "      <td>0</td>\n",
       "    </tr>\n",
       "    <tr>\n",
       "      <th>2</th>\n",
       "      <td>e627f5d9a9739833bd52d2da51761fc3</td>\n",
       "      <td>2022-01-01 00:02:32</td>\n",
       "      <td>4104216579248948</td>\n",
       "      <td>Domestic Transport</td>\n",
       "      <td>21.63</td>\n",
       "      <td>37.60876</td>\n",
       "      <td>-77.37331</td>\n",
       "      <td>Mechanicsville</td>\n",
       "      <td>US</td>\n",
       "      <td>0</td>\n",
       "    </tr>\n",
       "  </tbody>\n",
       "</table>\n",
       "</div>"
      ],
      "text/plain": [
       "                                tid            datetime            cc_num  \\\n",
       "0  11df919988c134d97bbff2678eb68e22 2022-01-01 00:00:24  4473593503484549   \n",
       "1  dd0b2d6d4266ccd3bf05bc2ea91cf180 2022-01-01 00:00:56  4272465718946864   \n",
       "2  e627f5d9a9739833bd52d2da51761fc3 2022-01-01 00:02:32  4104216579248948   \n",
       "\n",
       "             category  amount  latitude  longitude            city country  \\\n",
       "0       Health/Beauty   62.95  42.30865  -83.48216          Canton      US   \n",
       "1             Grocery   85.45  33.52253 -117.70755   Laguna Niguel      US   \n",
       "2  Domestic Transport   21.63  37.60876  -77.37331  Mechanicsville      US   \n",
       "\n",
       "   fraud_label  \n",
       "0            0  \n",
       "1            0  \n",
       "2            0  "
      ]
     },
     "execution_count": 3,
     "metadata": {},
     "output_type": "execute_result"
    }
   ],
   "source": [
    "# Read the transactions data from a CSV file\n",
    "trans_df = pd.read_csv(\n",
    "    \"https://repo.hops.works/master/hopsworks-tutorials/data/card_fraud_online/transactions.csv\", \n",
    "    parse_dates=[\"datetime\"],\n",
    ")\n",
    "\n",
    "# Display the first three rows of the DataFrame\n",
    "trans_df.head(3)"
   ]
  },
  {
   "cell_type": "code",
   "execution_count": 4,
   "id": "4ad0edf3",
   "metadata": {},
   "outputs": [],
   "source": [
    "# Filter transactions DataFrame to include only rows with category \"Cash Withdrawal\"\n",
    "trans_df = trans_df[trans_df.category == \"Cash Withdrawal\"].reset_index(level=0, drop=True)\n",
    "\n",
    "# Fill missing values in the 'country' column with \"US\"\n",
    "trans_df[\"country\"] = trans_df[\"country\"].fillna(\"US\")\n",
    "\n",
    "# Filter profiles DataFrame to include only rows with credit card numbers present in the filtered transactions DataFrame\n",
    "profiles_df = profiles_df[profiles_df.cc_num.isin(trans_df.cc_num.unique())].reset_index(level=0, drop=True)"
   ]
  },
  {
   "cell_type": "code",
   "execution_count": 5,
   "id": "8efc0deb",
   "metadata": {},
   "outputs": [],
   "source": [
    "# Sort the transactions DataFrame by 'datetime' and 'cc_num'\n",
    "trans_df.sort_values([\"datetime\", \"cc_num\"], inplace=True)"
   ]
  },
  {
   "cell_type": "markdown",
   "id": "fe5105a1",
   "metadata": {},
   "source": [
    "---"
   ]
  },
  {
   "cell_type": "markdown",
   "id": "42b88055",
   "metadata": {},
   "source": [
    "## <span style=\"color:#ff5f27;\"> 🛠️ Feature Engineering </span>"
   ]
  },
  {
   "cell_type": "code",
   "execution_count": 6,
   "id": "6f7d5009",
   "metadata": {},
   "outputs": [
    {
     "data": {
      "text/html": [
       "<div>\n",
       "<style scoped>\n",
       "    .dataframe tbody tr th:only-of-type {\n",
       "        vertical-align: middle;\n",
       "    }\n",
       "\n",
       "    .dataframe tbody tr th {\n",
       "        vertical-align: top;\n",
       "    }\n",
       "\n",
       "    .dataframe thead th {\n",
       "        text-align: right;\n",
       "    }\n",
       "</style>\n",
       "<table border=\"1\" class=\"dataframe\">\n",
       "  <thead>\n",
       "    <tr style=\"text-align: right;\">\n",
       "      <th></th>\n",
       "      <th>tid</th>\n",
       "      <th>datetime</th>\n",
       "      <th>cc_num</th>\n",
       "      <th>amount</th>\n",
       "      <th>country</th>\n",
       "      <th>fraud_label</th>\n",
       "      <th>loc_delta_t_plus_1</th>\n",
       "      <th>loc_delta_t_minus_1</th>\n",
       "      <th>time_delta_t_minus_1</th>\n",
       "    </tr>\n",
       "  </thead>\n",
       "  <tbody>\n",
       "    <tr>\n",
       "      <th>0</th>\n",
       "      <td>4c51b54665c7ddb466ea5936f4f3a428</td>\n",
       "      <td>2022-01-01 08:11:01</td>\n",
       "      <td>4467360740682089</td>\n",
       "      <td>77.77</td>\n",
       "      <td>US</td>\n",
       "      <td>0</td>\n",
       "      <td>0.0</td>\n",
       "      <td>0.000148</td>\n",
       "      <td>0.333333</td>\n",
       "    </tr>\n",
       "    <tr>\n",
       "      <th>1</th>\n",
       "      <td>4c30185aea2e28e7d9797004710e13c6</td>\n",
       "      <td>2022-01-01 10:03:42</td>\n",
       "      <td>4700702588013561</td>\n",
       "      <td>781.27</td>\n",
       "      <td>US</td>\n",
       "      <td>0</td>\n",
       "      <td>0.0</td>\n",
       "      <td>0.000070</td>\n",
       "      <td>0.416667</td>\n",
       "    </tr>\n",
       "    <tr>\n",
       "      <th>2</th>\n",
       "      <td>1a109febabc5c36409f2caf729e110d3</td>\n",
       "      <td>2022-01-01 10:08:59</td>\n",
       "      <td>4205094877256105</td>\n",
       "      <td>36.25</td>\n",
       "      <td>US</td>\n",
       "      <td>0</td>\n",
       "      <td>0.0</td>\n",
       "      <td>0.000108</td>\n",
       "      <td>0.333333</td>\n",
       "    </tr>\n",
       "  </tbody>\n",
       "</table>\n",
       "</div>"
      ],
      "text/plain": [
       "                                tid            datetime            cc_num  \\\n",
       "0  4c51b54665c7ddb466ea5936f4f3a428 2022-01-01 08:11:01  4467360740682089   \n",
       "1  4c30185aea2e28e7d9797004710e13c6 2022-01-01 10:03:42  4700702588013561   \n",
       "2  1a109febabc5c36409f2caf729e110d3 2022-01-01 10:08:59  4205094877256105   \n",
       "\n",
       "   amount country  fraud_label  loc_delta_t_plus_1  loc_delta_t_minus_1  \\\n",
       "0   77.77      US            0                 0.0             0.000148   \n",
       "1  781.27      US            0                 0.0             0.000070   \n",
       "2   36.25      US            0                 0.0             0.000108   \n",
       "\n",
       "   time_delta_t_minus_1  \n",
       "0              0.333333  \n",
       "1              0.416667  \n",
       "2              0.333333  "
      ]
     },
     "execution_count": 6,
     "metadata": {},
     "output_type": "execute_result"
    }
   ],
   "source": [
    "# Use the prepare_transactions_fraud function to process the trans_df DataFrame\n",
    "trans_df = transactions_fraud.prepare_transactions_fraud(trans_df)\n",
    "\n",
    "# Display the first three rows of the modified DataFrame\n",
    "trans_df.head(3)"
   ]
  },
  {
   "cell_type": "markdown",
   "id": "74e826bb",
   "metadata": {},
   "source": [
    "---"
   ]
  },
  {
   "cell_type": "markdown",
   "id": "cf53a5e9",
   "metadata": {},
   "source": [
    "## <span style=\"color:#ff5f27;\"> 📡 Connecting to Hopsworks Feature Store </span>"
   ]
  },
  {
   "cell_type": "markdown",
   "id": "ab3ac23b",
   "metadata": {},
   "source": [
    "### <span style=\"color:#ff5f27;\"> 🪄 Creating Feature Groups </span>\n"
   ]
  },
  {
   "cell_type": "code",
   "execution_count": 7,
   "id": "35f1e17e",
   "metadata": {},
   "outputs": [
    {
     "name": "stdout",
     "output_type": "stream",
     "text": [
      "2025-06-26 10:51:40,162 INFO: Initializing external client\n",
      "2025-06-26 10:51:40,162 INFO: Base URL: https://10.87.42.15:28181\n",
      "2025-06-26 10:51:40,956 INFO: Python Engine initialized.\n",
      "\n",
      "Logged in to project, explore it here https://10.87.42.15:28181/p/119\n"
     ]
    }
   ],
   "source": [
    "import hopsworks\n",
    "\n",
    "project = hopsworks.login()\n",
    "\n",
    "fs = project.get_feature_store()"
   ]
  },
  {
   "cell_type": "code",
   "execution_count": 8,
   "id": "3e926dc7",
   "metadata": {},
   "outputs": [],
   "source": [
    "# Get or create the 'transactions_fraud_online_fg' feature group\n",
    "trans_fg = fs.get_or_create_feature_group(\n",
    "    name=\"transactions_fraud_online_fg\",\n",
    "    version=1,\n",
    "    description=\"Transaction data\",\n",
    "    primary_key=['cc_num'],\n",
    "    event_time='datetime',\n",
    "    online_enabled=True,\n",
    ")"
   ]
  },
  {
   "cell_type": "code",
   "execution_count": 9,
   "id": "9a366430",
   "metadata": {},
   "outputs": [
    {
     "name": "stdout",
     "output_type": "stream",
     "text": [
      "Feature Group created successfully, explore it at \n",
      "https://10.87.42.15:28181/p/119/fs/67/fg/1037\n"
     ]
    },
    {
     "name": "stderr",
     "output_type": "stream",
     "text": [
      "Uploading Dataframe: 100.00% |█████████████████████████████████████████████████████████████████████████████████████████████████| Rows 365112/365112 | Elapsed Time: 02:18 | Remaining Time: 00:00\n"
     ]
    },
    {
     "name": "stdout",
     "output_type": "stream",
     "text": [
      "Launching job: transactions_fraud_online_fg_1_offline_fg_materialization\n",
      "Job started successfully, you can follow the progress at \n",
      "https://10.87.42.15:28181/p/119/jobs/named/transactions_fraud_online_fg_1_offline_fg_materialization/executions\n",
      "✅ Done!\n"
     ]
    }
   ],
   "source": [
    "# Insert data into feature group\n",
    "trans_fg.insert(trans_df)\n",
    "print('✅ Done!')"
   ]
  },
  {
   "cell_type": "code",
   "execution_count": 10,
   "id": "3d7de1db",
   "metadata": {},
   "outputs": [],
   "source": [
    "# Update feature descriptions\n",
    "feature_descriptions = [\n",
    "    {\"name\": \"tid\", \"description\": \"Transaction id\"},\n",
    "    {\"name\": \"datetime\", \"description\": \"Transaction time\"},\n",
    "    {\"name\": \"cc_num\", \"description\": \"Number of the credit card performing the transaction\"},\n",
    "    {\"name\": \"amount\", \"description\": \"Dollar amount of the transaction\"},\n",
    "    {\"name\": \"country\", \"description\": \"Country in which the transaction was made\"},\n",
    "    {\"name\": \"fraud_label\", \"description\": \"Whether the transaction was fraudulent or not\"},\n",
    "    {\"name\": \"loc_delta_t_minus_1\", \"description\": \"Location of previous transaction\"},\n",
    "    {\"name\": \"time_delta_t_minus_1\", \"description\": \"Time of previous transaction\"},    \n",
    "]\n",
    "\n",
    "for desc in feature_descriptions: \n",
    "    trans_fg.update_feature_description(desc[\"name\"], desc[\"description\"])"
   ]
  },
  {
   "cell_type": "markdown",
   "id": "ffbe721c",
   "metadata": {},
   "source": [
    "You can move on and do the same thing for the profile and label feature groups."
   ]
  },
  {
   "cell_type": "code",
   "execution_count": 11,
   "id": "e8027f2d",
   "metadata": {},
   "outputs": [
    {
     "name": "stdout",
     "output_type": "stream",
     "text": [
      "Feature Group created successfully, explore it at \n",
      "https://10.87.42.15:28181/p/119/fs/67/fg/1038\n"
     ]
    },
    {
     "name": "stderr",
     "output_type": "stream",
     "text": [
      "Uploading Dataframe: 100.00% |█████████████████████████████████████████████████████████████████████████████████████████████████████| Rows 1000/1000 | Elapsed Time: 00:00 | Remaining Time: 00:00\n"
     ]
    },
    {
     "name": "stdout",
     "output_type": "stream",
     "text": [
      "Launching job: profile_fraud_online_fg_1_offline_fg_materialization\n",
      "Job started successfully, you can follow the progress at \n",
      "https://10.87.42.15:28181/p/119/jobs/named/profile_fraud_online_fg_1_offline_fg_materialization/executions\n",
      "✅ Done!\n"
     ]
    }
   ],
   "source": [
    "# Get or create the 'profile_fraud_online_fg' feature group\n",
    "profile_fg = fs.get_or_create_feature_group(\n",
    "    name=\"profile_fraud_online_fg\",\n",
    "    version=1,\n",
    "    description=\"Credit card holder demographic data\",\n",
    "    primary_key=['cc_num'],\n",
    "    online_enabled=True,\n",
    ")\n",
    "# Insert data into feature group\n",
    "profile_fg.insert(profiles_df)\n",
    "print('✅ Done!')"
   ]
  },
  {
   "cell_type": "code",
   "execution_count": 12,
   "id": "ef348581",
   "metadata": {},
   "outputs": [],
   "source": [
    "# Update feature descriptions\n",
    "feature_descriptions = [\n",
    "    {\"name\": \"cc_num\", \"description\": \"Number of the credit card performing the transaction\"},\n",
    "    {\"name\": \"gender\", \"description\": \"Gender of the credit card holder\"},\n",
    "]\n",
    "\n",
    "for desc in feature_descriptions: \n",
    "    profile_fg.update_feature_description(desc[\"name\"], desc[\"description\"])"
   ]
  },
  {
   "cell_type": "code",
   "execution_count": 13,
   "id": "25199ca6-a3ad-4780-8cc9-580549bc204a",
   "metadata": {},
   "outputs": [
    {
     "ename": "AttributeError",
     "evalue": "'Project' object has no attribute '_api_key_value'",
     "output_type": "error",
     "traceback": [
      "\u001b[0;31m---------------------------------------------------------------------------\u001b[0m",
      "\u001b[0;31mAttributeError\u001b[0m                            Traceback (most recent call last)",
      "Cell \u001b[0;32mIn[13], line 1\u001b[0m\n\u001b[0;32m----> 1\u001b[0m \u001b[43mproject\u001b[49m\u001b[38;5;241;43m.\u001b[39;49m\u001b[43m_api_key_value\u001b[49m\n",
      "\u001b[0;31mAttributeError\u001b[0m: 'Project' object has no attribute '_api_key_value'"
     ]
    }
   ],
   "source": [
    "project._api_key_value"
   ]
  },
  {
   "cell_type": "code",
   "execution_count": null,
   "id": "a163c781-e4e3-41dd-883b-764735b5e13c",
   "metadata": {},
   "outputs": [],
   "source": []
  }
 ],
 "metadata": {
  "interpreter": {
   "hash": "e1ddeae6eefc765c17da80d38ea59b893ab18c0c0904077a035ef84cfe367f83"
  },
  "kernelspec": {
   "display_name": "Python 3 (ipykernel)",
   "language": "python",
   "name": "python3"
  },
  "language_info": {
   "codemirror_mode": {
    "name": "ipython",
    "version": 3
   },
   "file_extension": ".py",
   "mimetype": "text/x-python",
   "name": "python",
   "nbconvert_exporter": "python",
   "pygments_lexer": "ipython3",
   "version": "3.10.18"
  }
 },
 "nbformat": 4,
 "nbformat_minor": 5
}
