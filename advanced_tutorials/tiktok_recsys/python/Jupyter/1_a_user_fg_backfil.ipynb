{
 "cells": [
  {
   "cell_type": "markdown",
   "id": "74d2c263",
   "metadata": {},
   "source": [
    "## <span style='color:#ff5f27'> 📝 Imports"
   ]
  },
  {
   "cell_type": "code",
   "execution_count": null,
   "id": "4d06a1e5",
   "metadata": {},
   "outputs": [],
   "source": [
    "import pandas as pd\n",
    "import numpy as np\n",
    "import great_expectations as ge\n",
    "from great_expectations.core import ExpectationSuite, ExpectationConfiguration"
   ]
  },
  {
   "cell_type": "markdown",
   "id": "5fb0d84c",
   "metadata": {},
   "source": [
    "## <span style='color:#ff5f27'> 👥 Fetch Users Data</span>"
   ]
  },
  {
   "cell_type": "code",
   "execution_count": null,
   "id": "fce94dc8",
   "metadata": {},
   "outputs": [],
   "source": [
    "data_users_df = pd.read_parquet('https://repo.hops.works/dev/davit/tiktok_recsys/users.parquet')\n",
    "data_users_df.head()"
   ]
  },
  {
   "cell_type": "markdown",
   "id": "022e16a5",
   "metadata": {},
   "source": [
    "## <span style=\"color:#ff5f27\">👮🏻‍♂️ Great Expectations </span>"
   ]
  },
  {
   "cell_type": "code",
   "execution_count": null,
   "id": "c1b6548a",
   "metadata": {},
   "outputs": [],
   "source": [
    "# Create a Great Expectations DataFrame from the pandas DataFrame\n",
    "ge_users_df = ge.from_pandas(data_users_df)\n",
    "\n",
    "# Initialize the expectation suite\n",
    "expectation_suite_users = ge_users_df.get_expectation_suite()\n",
    "expectation_suite_users.expectation_suite_name = \"user_data_suite\"\n",
    "\n",
    "# Expectation: Age should be between 0 and 120\n",
    "expectation_suite_users.add_expectation(\n",
    "    ExpectationConfiguration(\n",
    "        expectation_type=\"expect_column_values_to_be_between\",\n",
    "        kwargs={\"column\": \"age\", \"min_value\": 12, \"max_value\": 100}\n",
    "    )\n",
    ")\n",
    "\n",
    "# Expectations: Columns should not have null values\n",
    "for column in ge_users_df.columns:\n",
    "    expectation_suite_users.add_expectation(\n",
    "        ExpectationConfiguration(\n",
    "            expectation_type=\"expect_column_values_to_not_be_null\",\n",
    "            kwargs={\"column\": column}\n",
    "        )\n",
    "    )\n",
    "\n",
    "# Expectation: Gender should only contain specific values\n",
    "expectation_suite_users.add_expectation(\n",
    "    ExpectationConfiguration(\n",
    "        expectation_type=\"expect_column_distinct_values_to_be_in_set\",\n",
    "        kwargs={\"column\": \"gender\", \"value_set\": [\"Male\", \"Female\", \"Other\"]}\n",
    "    )\n",
    ")"
   ]
  },
  {
   "cell_type": "markdown",
   "id": "06368b8b",
   "metadata": {},
   "source": [
    "## <span style=\"color:#ff5f27\">🔮 Connect to Hopsworks Feature Store </span>"
   ]
  },
  {
   "cell_type": "code",
   "execution_count": null,
   "id": "602d3d75",
   "metadata": {},
   "outputs": [],
   "source": [
    "import hopsworks\n",
    "\n",
    "project = hopsworks.login()\n",
    "\n",
    "fs = project.get_feature_store()"
   ]
  },
  {
   "cell_type": "markdown",
   "id": "5a19a172",
   "metadata": {},
   "source": [
    "## <span style=\"color:#ff5f27\">🪄 Feature Group Creation </span>\n"
   ]
  },
  {
   "cell_type": "code",
   "execution_count": null,
   "id": "ee7dee55",
   "metadata": {},
   "outputs": [],
   "source": [
    "users_fg = fs.get_or_create_feature_group(\n",
    "    name=\"users\",\n",
    "    version=1,\n",
    "    description=\"Users data.\",\n",
    "    primary_key=[\"user_id\"],\n",
    "    partition_key=[\"registration_month\"],\n",
    "    event_time=\"registration_date\",\n",
    "    online_enabled=True,\n",
    "    expectation_suite=expectation_suite_users,\n",
    "    statistics_config = {\n",
    "            \"enabled\": True,\n",
    "            \"histograms\": True,\n",
    "            \"correlations\": True,\n",
    "        }    \n",
    ")\n",
    "\n",
    "users_fg.insert(data_users_df)\n",
    "print('Done ✅')"
   ]
  },
  {
   "cell_type": "code",
   "execution_count": null,
   "id": "4548f55d-8941-4655-992c-7b672c0942b2",
   "metadata": {},
   "outputs": [],
   "source": [
    "feature_descriptions = [\n",
    "    {\"name\": \"user_id\", \"description\": \"Unique identifier for each user.\"},\n",
    "    {\"name\": \"gender\", \"description\": \"Gender of the user.\"},\n",
    "    {\"name\": \"age\", \"description\": \"Age of the user.\"},\n",
    "    {\"name\": \"country\", \"description\": \"Country of Residence of the user.\"},\n",
    "    {\"name\": \"registration_date\", \"description\": \"Date of registration.\"},\n",
    "    {\"name\": \"registration_month\", \"description\": \"Month of registration derived from registration_date.\"},\n",
    "]\n",
    "\n",
    "for desc in feature_descriptions: \n",
    "    users_fg.update_feature_description(desc[\"name\"], desc[\"description\"])"
   ]
  },
  {
   "cell_type": "markdown",
   "id": "6bcc04ea",
   "metadata": {},
   "source": [
    "---"
   ]
  }
 ],
 "metadata": {
  "kernelspec": {
   "display_name": "Python 3 (ipykernel)",
   "language": "python",
   "name": "python3"
  },
  "language_info": {
   "codemirror_mode": {
    "name": "ipython",
    "version": 3
   },
   "file_extension": ".py",
   "mimetype": "text/x-python",
   "name": "python",
   "nbconvert_exporter": "python",
   "pygments_lexer": "ipython3",
   "version": "3.10.13"
  }
 },
 "nbformat": 4,
 "nbformat_minor": 5
}
