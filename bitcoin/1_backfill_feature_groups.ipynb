{
 "cells": [
  {
   "cell_type": "markdown",
   "id": "b85e89fc",
   "metadata": {},
   "source": [
    "# <span style=\"font-width:bold; font-size: 3rem; color:#1EB182;\"><img src=\"../images/icon102.png\" width=\"38px\"></img> **Hopsworks Feature Store** </span><span style=\"font-width:bold; font-size: 3rem; color:#333;\">- Part 01: Backfill Features to the Feature Store</span>\n",
    "\n",
    "[![Open In Colab](https://colab.research.google.com/assets/colab-badge.svg)](https://colab.research.google.com/github/logicalclocks/hopsworks-tutorials/blob/master/bitcoin/1_backfill_feature_groups.ipynb)\n",
    "\n",
    "## 🗒️ This notebook is divided in 3 sections:\n",
    "1. Loading the data \n",
    "2. Connect to the Hopsworks feature store.\n",
    "3. Create feature groups and insert them to the feature store.\n",
    "\n",
    "![tutorial-flow](../images/01_featuregroups.png)"
   ]
  },
  {
   "cell_type": "markdown",
   "id": "4d039117",
   "metadata": {},
   "source": [
    "## API keys are stored in .env file in the next format:\n",
    "`BINANCE_API_KEY = \"aaaaaaaaaaaaaaaaaaaaaaaaaaaaaaaaaaaaa\"`\n",
    "\n",
    "`BINANCE_API_SECRET = \"bbbbbbbbbbbbbbbbbbbbbbbbbbbbbbb\"`\n",
    "\n",
    "\n",
    "`TWITTER_API_KEY = \"cccccccccccccccccccccccccccc\"`\n",
    "\n",
    "`TWITTER_API_SECRET = \"ddddddddddddddddddddddddddddddddddd\"`"
   ]
  },
  {
   "cell_type": "markdown",
   "id": "2c1e8189",
   "metadata": {},
   "source": [
    "### <span style=\"color:#ff5f27;\"> 📝 Imports</span>"
   ]
  },
  {
   "cell_type": "code",
   "execution_count": 1,
   "id": "6fa6f4f5",
   "metadata": {},
   "outputs": [
    {
     "name": "stdout",
     "output_type": "stream",
     "text": [
      "\u001b[33mWARNING: You are using pip version 21.3.1; however, version 22.2.2 is available.\n",
      "You should consider upgrading via the '/opt/miniconda3/bin/python -m pip install --upgrade pip' command.\u001b[0m\n",
      "\u001b[33mWARNING: You are using pip version 21.3.1; however, version 22.2.2 is available.\n",
      "You should consider upgrading via the '/opt/miniconda3/bin/python -m pip install --upgrade pip' command.\u001b[0m\n"
     ]
    }
   ],
   "source": [
    "!pip install -U unicorn-binance-rest-api --quiet\n",
    "!pip install -U python-dotenv --quiet"
   ]
  },
  {
   "cell_type": "code",
   "execution_count": 2,
   "id": "888a4b90",
   "metadata": {},
   "outputs": [],
   "source": [
    "import pandas as pd"
   ]
  },
  {
   "cell_type": "code",
   "execution_count": 3,
   "id": "2c434ee4",
   "metadata": {},
   "outputs": [
    {
     "name": "stderr",
     "output_type": "stream",
     "text": [
      "[nltk_data] Downloading package stopwords to /Users/Max/nltk_data...\n",
      "[nltk_data]   Package stopwords is already up-to-date!\n",
      "[nltk_data] Downloading package wordnet to /Users/Max/nltk_data...\n",
      "[nltk_data]   Package wordnet is already up-to-date!\n",
      "[nltk_data] Downloading package omw-1.4 to /Users/Max/nltk_data...\n",
      "[nltk_data]   Package omw-1.4 is already up-to-date!\n"
     ]
    },
    {
     "data": {
      "text/plain": [
       "True"
      ]
     },
     "execution_count": 3,
     "metadata": {},
     "output_type": "execute_result"
    }
   ],
   "source": [
    "from functions import *\n",
    "\n",
    "from dotenv import load_dotenv\n",
    "load_dotenv()"
   ]
  },
  {
   "cell_type": "markdown",
   "id": "27a20499",
   "metadata": {},
   "source": [
    "___"
   ]
  },
  {
   "cell_type": "markdown",
   "id": "4091e69f",
   "metadata": {},
   "source": [
    "## <span style=\"color:#ff5f27;\"> 💽 Loading Data</span>"
   ]
  },
  {
   "cell_type": "markdown",
   "id": "6aa3be4c",
   "metadata": {},
   "source": [
    "### <span style='color:#ff5f27'> 📈 Bitcoin Data"
   ]
  },
  {
   "cell_type": "code",
   "execution_count": 4,
   "id": "3277553e",
   "metadata": {},
   "outputs": [
    {
     "data": {
      "text/html": [
       "<div>\n",
       "<style scoped>\n",
       "    .dataframe tbody tr th:only-of-type {\n",
       "        vertical-align: middle;\n",
       "    }\n",
       "\n",
       "    .dataframe tbody tr th {\n",
       "        vertical-align: top;\n",
       "    }\n",
       "\n",
       "    .dataframe thead th {\n",
       "        text-align: right;\n",
       "    }\n",
       "</style>\n",
       "<table border=\"1\" class=\"dataframe\">\n",
       "  <thead>\n",
       "    <tr style=\"text-align: right;\">\n",
       "      <th></th>\n",
       "      <th>date</th>\n",
       "      <th>open</th>\n",
       "      <th>high</th>\n",
       "      <th>low</th>\n",
       "      <th>close</th>\n",
       "      <th>volume</th>\n",
       "      <th>quote_av</th>\n",
       "      <th>trades</th>\n",
       "      <th>tb_base_av</th>\n",
       "      <th>tb_quote_av</th>\n",
       "      <th>unix</th>\n",
       "    </tr>\n",
       "  </thead>\n",
       "  <tbody>\n",
       "    <tr>\n",
       "      <th>0</th>\n",
       "      <td>2021-02-06 00:00:00</td>\n",
       "      <td>38289.32</td>\n",
       "      <td>40955.51</td>\n",
       "      <td>38215.94</td>\n",
       "      <td>39186.94</td>\n",
       "      <td>98757.311183</td>\n",
       "      <td>3.922095e+09</td>\n",
       "      <td>2291646</td>\n",
       "      <td>52015.513362</td>\n",
       "      <td>2.065181e+09</td>\n",
       "      <td>1612562400000</td>\n",
       "    </tr>\n",
       "    <tr>\n",
       "      <th>1</th>\n",
       "      <td>2021-02-07 00:00:00</td>\n",
       "      <td>39181.01</td>\n",
       "      <td>39700.00</td>\n",
       "      <td>37351.00</td>\n",
       "      <td>38795.69</td>\n",
       "      <td>84363.679763</td>\n",
       "      <td>3.256521e+09</td>\n",
       "      <td>1976357</td>\n",
       "      <td>40764.388959</td>\n",
       "      <td>1.574483e+09</td>\n",
       "      <td>1612648800000</td>\n",
       "    </tr>\n",
       "    <tr>\n",
       "      <th>2</th>\n",
       "      <td>2021-02-08 00:00:00</td>\n",
       "      <td>38795.69</td>\n",
       "      <td>46794.45</td>\n",
       "      <td>37988.89</td>\n",
       "      <td>46374.87</td>\n",
       "      <td>138597.536914</td>\n",
       "      <td>5.881537e+09</td>\n",
       "      <td>3230961</td>\n",
       "      <td>72345.891568</td>\n",
       "      <td>3.069314e+09</td>\n",
       "      <td>1612735200000</td>\n",
       "    </tr>\n",
       "  </tbody>\n",
       "</table>\n",
       "</div>"
      ],
      "text/plain": [
       "                  date      open      high       low     close         volume  \\\n",
       "0  2021-02-06 00:00:00  38289.32  40955.51  38215.94  39186.94   98757.311183   \n",
       "1  2021-02-07 00:00:00  39181.01  39700.00  37351.00  38795.69   84363.679763   \n",
       "2  2021-02-08 00:00:00  38795.69  46794.45  37988.89  46374.87  138597.536914   \n",
       "\n",
       "       quote_av   trades    tb_base_av   tb_quote_av           unix  \n",
       "0  3.922095e+09  2291646  52015.513362  2.065181e+09  1612562400000  \n",
       "1  3.256521e+09  1976357  40764.388959  1.574483e+09  1612648800000  \n",
       "2  5.881537e+09  3230961  72345.891568  3.069314e+09  1612735200000  "
      ]
     },
     "execution_count": 4,
     "metadata": {},
     "output_type": "execute_result"
    }
   ],
   "source": [
    "df_bitcoin = parse_btc_data(number_of_days_ago=2000)\n",
    "\n",
    "df_bitcoin = df_bitcoin[(df_bitcoin.date >= '2021-02-05 10:00:00') & (df_bitcoin.date <= '2022-06-04 23:00:00')] \n",
    "df_bitcoin.reset_index(drop=True,inplace=True)\n",
    "\n",
    "df_bitcoin.head(3)"
   ]
  },
  {
   "cell_type": "code",
   "execution_count": 5,
   "id": "9c94069d",
   "metadata": {},
   "outputs": [
    {
     "data": {
      "text/html": [
       "<div>\n",
       "<style scoped>\n",
       "    .dataframe tbody tr th:only-of-type {\n",
       "        vertical-align: middle;\n",
       "    }\n",
       "\n",
       "    .dataframe tbody tr th {\n",
       "        vertical-align: top;\n",
       "    }\n",
       "\n",
       "    .dataframe thead th {\n",
       "        text-align: right;\n",
       "    }\n",
       "</style>\n",
       "<table border=\"1\" class=\"dataframe\">\n",
       "  <thead>\n",
       "    <tr style=\"text-align: right;\">\n",
       "      <th></th>\n",
       "      <th>date</th>\n",
       "      <th>open</th>\n",
       "      <th>high</th>\n",
       "      <th>low</th>\n",
       "      <th>close</th>\n",
       "      <th>volume</th>\n",
       "      <th>quote_av</th>\n",
       "      <th>trades</th>\n",
       "      <th>tb_base_av</th>\n",
       "      <th>tb_quote_av</th>\n",
       "      <th>...</th>\n",
       "      <th>exp_std_14_days</th>\n",
       "      <th>momentum_14_days</th>\n",
       "      <th>rate_of_change_14_days</th>\n",
       "      <th>strength_index_14_days</th>\n",
       "      <th>std_56_days</th>\n",
       "      <th>exp_mean_56_days</th>\n",
       "      <th>exp_std_56_days</th>\n",
       "      <th>momentum_56_days</th>\n",
       "      <th>rate_of_change_56_days</th>\n",
       "      <th>strength_index_56_days</th>\n",
       "    </tr>\n",
       "  </thead>\n",
       "  <tbody>\n",
       "    <tr>\n",
       "      <th>481</th>\n",
       "      <td>2022-06-02</td>\n",
       "      <td>29805.84</td>\n",
       "      <td>30689.00</td>\n",
       "      <td>29594.55</td>\n",
       "      <td>30452.62</td>\n",
       "      <td>56961.42928</td>\n",
       "      <td>1.711653e+09</td>\n",
       "      <td>1086183</td>\n",
       "      <td>28555.06607</td>\n",
       "      <td>8.581935e+08</td>\n",
       "      <td>...</td>\n",
       "      <td>1679.699391</td>\n",
       "      <td>133.39</td>\n",
       "      <td>4.286187</td>\n",
       "      <td>46.348521</td>\n",
       "      <td>5039.300314</td>\n",
       "      <td>34124.984906</td>\n",
       "      <td>5597.739238</td>\n",
       "      <td>-12991.57</td>\n",
       "      <td>-27.926222</td>\n",
       "      <td>43.640162</td>\n",
       "    </tr>\n",
       "    <tr>\n",
       "      <th>482</th>\n",
       "      <td>2022-06-03</td>\n",
       "      <td>30452.63</td>\n",
       "      <td>30699.00</td>\n",
       "      <td>29282.36</td>\n",
       "      <td>29700.21</td>\n",
       "      <td>54067.44727</td>\n",
       "      <td>1.615617e+09</td>\n",
       "      <td>993769</td>\n",
       "      <td>26583.25141</td>\n",
       "      <td>7.943548e+08</td>\n",
       "      <td>...</td>\n",
       "      <td>1576.588412</td>\n",
       "      <td>499.20</td>\n",
       "      <td>0.866529</td>\n",
       "      <td>43.654773</td>\n",
       "      <td>4996.379059</td>\n",
       "      <td>33969.729641</td>\n",
       "      <td>5559.688788</td>\n",
       "      <td>-12551.80</td>\n",
       "      <td>-30.532276</td>\n",
       "      <td>43.052983</td>\n",
       "    </tr>\n",
       "    <tr>\n",
       "      <th>483</th>\n",
       "      <td>2022-06-04</td>\n",
       "      <td>29700.21</td>\n",
       "      <td>29988.88</td>\n",
       "      <td>29485.00</td>\n",
       "      <td>29864.04</td>\n",
       "      <td>25617.90113</td>\n",
       "      <td>7.608743e+08</td>\n",
       "      <td>618037</td>\n",
       "      <td>12971.72460</td>\n",
       "      <td>3.853582e+08</td>\n",
       "      <td>...</td>\n",
       "      <td>1472.337144</td>\n",
       "      <td>418.98</td>\n",
       "      <td>-1.419096</td>\n",
       "      <td>44.412343</td>\n",
       "      <td>4925.337066</td>\n",
       "      <td>33825.670351</td>\n",
       "      <td>5514.223362</td>\n",
       "      <td>-12889.93</td>\n",
       "      <td>-29.163058</td>\n",
       "      <td>43.222349</td>\n",
       "    </tr>\n",
       "  </tbody>\n",
       "</table>\n",
       "<p>3 rows × 33 columns</p>\n",
       "</div>"
      ],
      "text/plain": [
       "          date      open      high       low     close       volume  \\\n",
       "481 2022-06-02  29805.84  30689.00  29594.55  30452.62  56961.42928   \n",
       "482 2022-06-03  30452.63  30699.00  29282.36  29700.21  54067.44727   \n",
       "483 2022-06-04  29700.21  29988.88  29485.00  29864.04  25617.90113   \n",
       "\n",
       "         quote_av   trades   tb_base_av   tb_quote_av  ...  exp_std_14_days  \\\n",
       "481  1.711653e+09  1086183  28555.06607  8.581935e+08  ...      1679.699391   \n",
       "482  1.615617e+09   993769  26583.25141  7.943548e+08  ...      1576.588412   \n",
       "483  7.608743e+08   618037  12971.72460  3.853582e+08  ...      1472.337144   \n",
       "\n",
       "     momentum_14_days  rate_of_change_14_days  strength_index_14_days  \\\n",
       "481            133.39                4.286187               46.348521   \n",
       "482            499.20                0.866529               43.654773   \n",
       "483            418.98               -1.419096               44.412343   \n",
       "\n",
       "     std_56_days  exp_mean_56_days  exp_std_56_days  momentum_56_days  \\\n",
       "481  5039.300314      34124.984906      5597.739238         -12991.57   \n",
       "482  4996.379059      33969.729641      5559.688788         -12551.80   \n",
       "483  4925.337066      33825.670351      5514.223362         -12889.93   \n",
       "\n",
       "     rate_of_change_56_days  strength_index_56_days  \n",
       "481              -27.926222               43.640162  \n",
       "482              -30.532276               43.052983  \n",
       "483              -29.163058               43.222349  \n",
       "\n",
       "[3 rows x 33 columns]"
      ]
     },
     "execution_count": 5,
     "metadata": {},
     "output_type": "execute_result"
    }
   ],
   "source": [
    "df_bitcoin_processed = process_btc_data(df_bitcoin)\n",
    "df_bitcoin_processed.tail(3)"
   ]
  },
  {
   "cell_type": "markdown",
   "id": "14340708",
   "metadata": {},
   "source": [
    "### <span style='color:#ff5f27'> 💭 Tweets Data"
   ]
  },
  {
   "cell_type": "code",
   "execution_count": 6,
   "id": "53c036ad",
   "metadata": {},
   "outputs": [
    {
     "data": {
      "text/html": [
       "<div>\n",
       "<style scoped>\n",
       "    .dataframe tbody tr th:only-of-type {\n",
       "        vertical-align: middle;\n",
       "    }\n",
       "\n",
       "    .dataframe tbody tr th {\n",
       "        vertical-align: top;\n",
       "    }\n",
       "\n",
       "    .dataframe thead th {\n",
       "        text-align: right;\n",
       "    }\n",
       "</style>\n",
       "<table border=\"1\" class=\"dataframe\">\n",
       "  <thead>\n",
       "    <tr style=\"text-align: right;\">\n",
       "      <th></th>\n",
       "      <th>date</th>\n",
       "      <th>subjectivity</th>\n",
       "      <th>polarity</th>\n",
       "      <th>unix</th>\n",
       "    </tr>\n",
       "  </thead>\n",
       "  <tbody>\n",
       "    <tr>\n",
       "      <th>0</th>\n",
       "      <td>2021-02-05 00:00:00</td>\n",
       "      <td>462.983446</td>\n",
       "      <td>153.870358</td>\n",
       "      <td>1612476000000</td>\n",
       "    </tr>\n",
       "    <tr>\n",
       "      <th>1</th>\n",
       "      <td>2021-02-06 00:00:00</td>\n",
       "      <td>945.521424</td>\n",
       "      <td>356.941159</td>\n",
       "      <td>1612562400000</td>\n",
       "    </tr>\n",
       "    <tr>\n",
       "      <th>2</th>\n",
       "      <td>2021-02-07 00:00:00</td>\n",
       "      <td>1055.799641</td>\n",
       "      <td>446.821937</td>\n",
       "      <td>1612648800000</td>\n",
       "    </tr>\n",
       "  </tbody>\n",
       "</table>\n",
       "</div>"
      ],
      "text/plain": [
       "                  date  subjectivity    polarity           unix\n",
       "0  2021-02-05 00:00:00    462.983446  153.870358  1612476000000\n",
       "1  2021-02-06 00:00:00    945.521424  356.941159  1612562400000\n",
       "2  2021-02-07 00:00:00   1055.799641  446.821937  1612648800000"
      ]
     },
     "execution_count": 6,
     "metadata": {},
     "output_type": "execute_result"
    }
   ],
   "source": [
    "# tweets_textblob = pd.read_csv(\"https://repo.hops.works/dev/davit/bitcoin/tweets_textblob.csv\")\n",
    "tweets_textblob = pd.read_csv(\"data/tweets_textblob.csv\")\n",
    "tweets_textblob.head(3)"
   ]
  },
  {
   "cell_type": "code",
   "execution_count": 7,
   "id": "d9a03f07",
   "metadata": {},
   "outputs": [
    {
     "data": {
      "text/html": [
       "<div>\n",
       "<style scoped>\n",
       "    .dataframe tbody tr th:only-of-type {\n",
       "        vertical-align: middle;\n",
       "    }\n",
       "\n",
       "    .dataframe tbody tr th {\n",
       "        vertical-align: top;\n",
       "    }\n",
       "\n",
       "    .dataframe thead th {\n",
       "        text-align: right;\n",
       "    }\n",
       "</style>\n",
       "<table border=\"1\" class=\"dataframe\">\n",
       "  <thead>\n",
       "    <tr style=\"text-align: right;\">\n",
       "      <th></th>\n",
       "      <th>date</th>\n",
       "      <th>compound</th>\n",
       "      <th>unix</th>\n",
       "    </tr>\n",
       "  </thead>\n",
       "  <tbody>\n",
       "    <tr>\n",
       "      <th>0</th>\n",
       "      <td>2021-02-05 00:00:00</td>\n",
       "      <td>229.4372</td>\n",
       "      <td>1612476000000</td>\n",
       "    </tr>\n",
       "    <tr>\n",
       "      <th>1</th>\n",
       "      <td>2021-02-06 00:00:00</td>\n",
       "      <td>464.1100</td>\n",
       "      <td>1612562400000</td>\n",
       "    </tr>\n",
       "    <tr>\n",
       "      <th>2</th>\n",
       "      <td>2021-02-07 00:00:00</td>\n",
       "      <td>447.5697</td>\n",
       "      <td>1612648800000</td>\n",
       "    </tr>\n",
       "  </tbody>\n",
       "</table>\n",
       "</div>"
      ],
      "text/plain": [
       "                  date  compound           unix\n",
       "0  2021-02-05 00:00:00  229.4372  1612476000000\n",
       "1  2021-02-06 00:00:00  464.1100  1612562400000\n",
       "2  2021-02-07 00:00:00  447.5697  1612648800000"
      ]
     },
     "execution_count": 7,
     "metadata": {},
     "output_type": "execute_result"
    }
   ],
   "source": [
    "# tweets_vader = pd.read_csv(\"https://repo.hops.works/dev/davit/bitcoin/tweets_vader.csv\")\n",
    "tweets_vader = pd.read_csv(\"data/tweets_vader.csv\")\n",
    "\n",
    "tweets_vader.head(3)"
   ]
  },
  {
   "cell_type": "markdown",
   "id": "c673f86a",
   "metadata": {},
   "source": [
    "---\n",
    "## <span style=\"color:#ff5f27;\"> 📡 Connecting to Hopsworks Feature Store </span>"
   ]
  },
  {
   "cell_type": "code",
   "execution_count": 8,
   "id": "af83ee0e",
   "metadata": {
    "scrolled": true
   },
   "outputs": [
    {
     "name": "stdout",
     "output_type": "stream",
     "text": [
      "Connected. Call `.close()` to terminate connection gracefully.\n",
      "\n",
      "Logged in to project, explore it here https://c.app.hopsworks.ai:443/p/167\n"
     ]
    },
    {
     "name": "stderr",
     "output_type": "stream",
     "text": [
      "DeprecationWarning: the imp module is deprecated in favour of importlib; see the module's documentation for alternative uses\n"
     ]
    },
    {
     "name": "stdout",
     "output_type": "stream",
     "text": [
      "Connected. Call `.close()` to terminate connection gracefully.\n"
     ]
    }
   ],
   "source": [
    "import hopsworks\n",
    "\n",
    "project = hopsworks.login()\n",
    "\n",
    "fs = project.get_feature_store()"
   ]
  },
  {
   "cell_type": "markdown",
   "id": "72003732",
   "metadata": {},
   "source": [
    "## <span style=\"color:#ff5f27;\"> 🪄 Creating Feature Groups </span>"
   ]
  },
  {
   "cell_type": "markdown",
   "id": "c86559c0",
   "metadata": {},
   "source": [
    "### <span style='color:#ff5f27'> 📈 Bitcoin Price Feature Group"
   ]
  },
  {
   "cell_type": "code",
   "execution_count": 9,
   "id": "5f01835d",
   "metadata": {},
   "outputs": [
    {
     "name": "stdout",
     "output_type": "stream",
     "text": [
      "Feature Group created successfully, explore it at \n",
      "https://c.app.hopsworks.ai:443/p/167/fs/109/fg/2676\n"
     ]
    },
    {
     "data": {
      "application/vnd.jupyter.widget-view+json": {
       "model_id": "5758e7f8924b4fa38e10c7f3678ca34e",
       "version_major": 2,
       "version_minor": 0
      },
      "text/plain": [
       "Uploading Dataframe: 0.00% |          | Rows 0/484 | Elapsed Time: 00:00 | Remaining Time: ?"
      ]
     },
     "metadata": {},
     "output_type": "display_data"
    },
    {
     "name": "stdout",
     "output_type": "stream",
     "text": [
      "Launching offline feature group backfill job...\n",
      "Backfill Job started successfully, you can follow the progress at \n",
      "https://c.app.hopsworks.ai/p/167/jobs/named/bitcoin_price_1_offline_fg_backfill/executions\n"
     ]
    },
    {
     "data": {
      "text/plain": [
       "(<hsfs.core.job.Job at 0x7fcd074b97c0>, None)"
      ]
     },
     "execution_count": 9,
     "metadata": {},
     "output_type": "execute_result"
    }
   ],
   "source": [
    "btc_price_fg = fs.get_or_create_feature_group(\n",
    "    name='bitcoin_price',\n",
    "    description='Bitcoin price aggregated for days',\n",
    "    version=1,\n",
    "    primary_key=['unix'],\n",
    "    online_enabled=True,\n",
    "    event_time=['unix']\n",
    ")\n",
    "\n",
    "btc_price_fg.insert(df_bitcoin_processed)"
   ]
  },
  {
   "cell_type": "markdown",
   "id": "8d90940a",
   "metadata": {},
   "source": [
    "### <span style='color:#ff5f27'> 💭 Tweets Feature Groups"
   ]
  },
  {
   "cell_type": "code",
   "execution_count": 10,
   "id": "553e9a24",
   "metadata": {},
   "outputs": [
    {
     "name": "stdout",
     "output_type": "stream",
     "text": [
      "Feature Group created successfully, explore it at \n",
      "https://c.app.hopsworks.ai:443/p/167/fs/109/fg/2677\n"
     ]
    },
    {
     "data": {
      "application/vnd.jupyter.widget-view+json": {
       "model_id": "631694ab4642468780edb8d164bc94dc",
       "version_major": 2,
       "version_minor": 0
      },
      "text/plain": [
       "Uploading Dataframe: 0.00% |          | Rows 0/528 | Elapsed Time: 00:00 | Remaining Time: ?"
      ]
     },
     "metadata": {},
     "output_type": "display_data"
    },
    {
     "name": "stdout",
     "output_type": "stream",
     "text": [
      "Launching offline feature group backfill job...\n",
      "Backfill Job started successfully, you can follow the progress at \n",
      "https://c.app.hopsworks.ai/p/167/jobs/named/bitcoin_tweets_textblob_1_offline_fg_backfill/executions\n"
     ]
    },
    {
     "data": {
      "text/plain": [
       "(<hsfs.core.job.Job at 0x7fcd074439a0>, None)"
      ]
     },
     "execution_count": 10,
     "metadata": {},
     "output_type": "execute_result"
    }
   ],
   "source": [
    "tweets_textblob_fg = fs.get_or_create_feature_group(\n",
    "    name='bitcoin_tweets_textblob',\n",
    "    version=1,\n",
    "    primary_key=['unix'],\n",
    "    online_enabled=True,\n",
    "    event_time=['unix']\n",
    ")\n",
    "\n",
    "tweets_textblob_fg.insert(tweets_textblob)"
   ]
  },
  {
   "cell_type": "code",
   "execution_count": 11,
   "id": "c89408d1",
   "metadata": {},
   "outputs": [
    {
     "name": "stdout",
     "output_type": "stream",
     "text": [
      "Feature Group created successfully, explore it at \n",
      "https://c.app.hopsworks.ai:443/p/167/fs/109/fg/2678\n"
     ]
    },
    {
     "data": {
      "application/vnd.jupyter.widget-view+json": {
       "model_id": "6e28613b7eaa43b59196fe92e86474d0",
       "version_major": 2,
       "version_minor": 0
      },
      "text/plain": [
       "Uploading Dataframe: 0.00% |          | Rows 0/528 | Elapsed Time: 00:00 | Remaining Time: ?"
      ]
     },
     "metadata": {},
     "output_type": "display_data"
    },
    {
     "name": "stdout",
     "output_type": "stream",
     "text": [
      "Launching offline feature group backfill job...\n",
      "Backfill Job started successfully, you can follow the progress at \n",
      "https://c.app.hopsworks.ai/p/167/jobs/named/bitcoin_tweets_vader_1_offline_fg_backfill/executions\n"
     ]
    },
    {
     "data": {
      "text/plain": [
       "(<hsfs.core.job.Job at 0x7fcd074bae50>, None)"
      ]
     },
     "execution_count": 11,
     "metadata": {},
     "output_type": "execute_result"
    }
   ],
   "source": [
    "tweets_vader_fg = fs.get_or_create_feature_group(\n",
    "    name='bitcoin_tweets_vader',\n",
    "    version=1,\n",
    "    primary_key=['unix'],\n",
    "    online_enabled=True,\n",
    "    event_time=['unix']\n",
    ")\n",
    "\n",
    "tweets_vader_fg.insert(tweets_vader)"
   ]
  },
  {
   "cell_type": "markdown",
   "id": "4d6b80c3",
   "metadata": {},
   "source": [
    "---"
   ]
  }
 ],
 "metadata": {
  "kernelspec": {
   "display_name": "Python 3 (ipykernel)",
   "language": "python",
   "name": "python3"
  },
  "language_info": {
   "codemirror_mode": {
    "name": "ipython",
    "version": 3
   },
   "file_extension": ".py",
   "mimetype": "text/x-python",
   "name": "python",
   "nbconvert_exporter": "python",
   "pygments_lexer": "ipython3",
   "version": "3.9.12"
  }
 },
 "nbformat": 4,
 "nbformat_minor": 5
}
