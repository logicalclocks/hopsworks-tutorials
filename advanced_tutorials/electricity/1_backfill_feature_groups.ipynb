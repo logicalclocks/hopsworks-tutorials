{
 "cells": [
  {
   "cell_type": "markdown",
   "id": "bb77ba0a",
   "metadata": {
    "id": "ccbbf2cc"
   },
   "source": [
    "# <span style=\"font-width:bold; font-size: 3rem; color:#1EB182;\">**Hopsworks Feature Store** </span> <span style=\"font-width:bold; font-size: 3rem; color:#333;\">- Part 01: Backfill Features to the Feature Store</span>\n",
    "\n",
    "[![Open In Colab](https://colab.research.google.com/assets/colab-badge.svg)](https://colab.research.google.com/github/logicalclocks/hopsworks-tutorials/blob/master/advanced_tutorials/electricity/1_backfill_feature_groups.ipynb)\n",
    "\n",
    "**Note**: you may get an error when installing hopsworks on Colab, and it is safe to ignore it.\n",
    "\n",
    "This is the first part of the advanced series of tutorials about Hopsworks Feature Store. As part of this first module, you will work with data related to electricity prices and meteorological observations in Sweden. \n",
    "\n",
    "The objective of this tutorial is to demonstrate how to work with the **Hopworks Feature Store**  for batch data with a goal of training and deploying a model that can predict electricity prices in the future.\n",
    "\n",
    "## 🗒️ This notebook is divided in 3 sections:\n",
    "1. Load the data and process features,\n",
    "2. Connect to the Hopsworks feature store,\n",
    "3. Create feature groups and upload them to the feature store."
   ]
  },
  {
   "cell_type": "markdown",
   "id": "f262f004",
   "metadata": {
    "id": "akyCpdrP0GDH"
   },
   "source": [
    "### <span style='color:#ff5f27'> 📝 Imports"
   ]
  },
  {
   "cell_type": "code",
   "execution_count": null,
   "id": "1c2ca4f7",
   "metadata": {
    "id": "3b7015a0"
   },
   "outputs": [],
   "source": [
    "!pip install -U hopsworks --quiet"
   ]
  },
  {
   "cell_type": "code",
   "execution_count": null,
   "id": "ef9a0648",
   "metadata": {
    "id": "c3fd23b4"
   },
   "outputs": [],
   "source": [
    "import pandas as pd\n",
    "from datetime import datetime\n",
    "\n",
    "from functions import *\n",
    "\n",
    "#ignore warnings\n",
    "import warnings\n",
    "warnings.filterwarnings('ignore')"
   ]
  },
  {
   "cell_type": "markdown",
   "id": "9401216f",
   "metadata": {
    "id": "KVH8VU5g0JDP"
   },
   "source": [
    "---"
   ]
  },
  {
   "cell_type": "markdown",
   "id": "bac5c33e",
   "metadata": {
    "id": "285d06c9"
   },
   "source": [
    "## <span style=\"color:#ff5f27;\"> 💽 Load the historical data and 🛠️ Perform Feature Engineering</span>\n",
    "\n",
    "The data you will use comes from three different sources:\n",
    "\n",
    "- Electricity prices in Sweden per day from [NORD_POOL](https://www.nordpoolgroup.com).\n",
    "- Different meteorological observations from [Swedish Meteorological and Hydrological Institute](https://www.smhi.se/).\n",
    "- Getting National Holidays in Swedish calendar.\n"
   ]
  },
  {
   "cell_type": "markdown",
   "id": "b26b8913",
   "metadata": {
    "id": "f99f0432"
   },
   "source": [
    "### <span style=\"color:#ff5f27;\"> 🌤 Meteorological measurements from SMHI</span>"
   ]
  },
  {
   "cell_type": "code",
   "execution_count": null,
   "id": "08b385e3",
   "metadata": {
    "id": "f92ac823"
   },
   "outputs": [],
   "source": [
    "meteorological_measurements_df = fetch_smhi_measurements(historical_data=True)"
   ]
  },
  {
   "cell_type": "code",
   "execution_count": null,
   "id": "9b20c45d",
   "metadata": {
    "id": "dca0305a"
   },
   "outputs": [],
   "source": [
    "meteorological_measurements_df"
   ]
  },
  {
   "cell_type": "markdown",
   "id": "651ca15d",
   "metadata": {
    "id": "b7b4f405"
   },
   "source": [
    "### <span style=\"color:#ff5f27;\">💸 Electricity prices per day from NORD POOL</span>"
   ]
  },
  {
   "cell_type": "code",
   "execution_count": null,
   "id": "eeca3adf",
   "metadata": {
    "scrolled": true
   },
   "outputs": [],
   "source": [
    "electricity_prices_df1 = pd.read_csv(\"https://repo.hops.works/dev/davit/electricity/nordpol_electricity_intraday_prices.csv\")\n",
    "electricity_prices_df1.columns = list(map(str.lower, electricity_prices_df1.columns))\n",
    "\n",
    "electricity_prices_df2 = fetch_electricity_prices(historical=True)\n",
    "\n",
    "electricity_prices_df = pd.concat([electricity_prices_df1, electricity_prices_df2]).drop_duplicates(subset=['day'])\n",
    "\n",
    "electricity_prices_df[\"timestamp\"] = electricity_prices_df[\"day\"].map(lambda x: int(float(datetime.strptime(x, \"%Y-%m-%d\").timestamp()) * 1000))\n",
    "electricity_prices_df.tail()"
   ]
  },
  {
   "cell_type": "code",
   "execution_count": null,
   "id": "4785c661",
   "metadata": {},
   "outputs": [],
   "source": [
    "electricity_prices_df.shape"
   ]
  },
  {
   "cell_type": "markdown",
   "id": "37c781cf",
   "metadata": {
    "id": "255b66f0"
   },
   "source": [
    "### <span style=\"color:#ff5f27;\"> 📅 Calendar of Swedish holidays</span>"
   ]
  },
  {
   "cell_type": "code",
   "execution_count": null,
   "id": "ad002981",
   "metadata": {
    "colab": {
     "base_uri": "https://localhost:8080/",
     "height": 423
    },
    "id": "2dcf2c28",
    "outputId": "89b3c034-c30b-4ec3-d8f4-68b235a87917"
   },
   "outputs": [],
   "source": [
    "holidays_df = pd.read_csv(\"https://repo.hops.works/dev/davit/electricity/holidays.csv\")\n",
    "holidays_df"
   ]
  },
  {
   "cell_type": "markdown",
   "id": "7300f6e4",
   "metadata": {
    "id": "H1aYmOX60MXj"
   },
   "source": [
    "---"
   ]
  },
  {
   "cell_type": "markdown",
   "id": "3a941859",
   "metadata": {},
   "source": [
    "## <span style=\"color:#ff5f27;\"> 📡 Connecting to Hopsworks Feature Store </span>"
   ]
  },
  {
   "cell_type": "code",
   "execution_count": null,
   "id": "329551ed",
   "metadata": {
    "id": "cae776d7"
   },
   "outputs": [],
   "source": [
    "import hopsworks\n",
    "project = hopsworks.login()\n",
    "fs = project.get_feature_store()"
   ]
  },
  {
   "cell_type": "markdown",
   "id": "96479d69",
   "metadata": {},
   "source": [
    "---"
   ]
  },
  {
   "cell_type": "markdown",
   "id": "a335b954",
   "metadata": {},
   "source": [
    "## <span style=\"color:#ff5f27;\"> 🪄 Creating Feature Groups </span>\n",
    "\n",
    "A [feature group](https://docs.hopsworks.ai/feature-store-api/latest/generated/feature_group/) can be seen as a collection of conceptually related features. In this case, you will create a feature group for the Meteorological measurements from SMHI, Electricity prices feature group from NORD POOL and Swedish holidays feature group."
   ]
  },
  {
   "cell_type": "code",
   "execution_count": null,
   "id": "49f9d996",
   "metadata": {
    "id": "f37abbca"
   },
   "outputs": [],
   "source": [
    "meteorological_measurements_fg = fs.get_or_create_feature_group(\n",
    "    name=\"meteorological_measurements\",\n",
    "    version=1,\n",
    "    description=\"Meteorological measurements from SMHI\",\n",
    "    primary_key=[\"day\"],\n",
    "    online_enabled=True,\n",
    "    event_time=\"timestamp\"\n",
    ")"
   ]
  },
  {
   "cell_type": "code",
   "execution_count": null,
   "id": "5d0d46ee",
   "metadata": {
    "id": "c41b75e6"
   },
   "outputs": [],
   "source": [
    "meteorological_measurements_fg.insert(meteorological_measurements_df, write_options={\"wait_for_job\": False})"
   ]
  },
  {
   "cell_type": "code",
   "execution_count": null,
   "id": "1d227008",
   "metadata": {
    "id": "c691d509"
   },
   "outputs": [],
   "source": [
    "electricity_prices_fg = fs.get_or_create_feature_group(\n",
    "    name=\"electricity_prices\",\n",
    "    version=1,\n",
    "    description=\"Electricity prices from NORD POOL\",\n",
    "    primary_key=[\"day\"],\n",
    "    online_enabled=True,\n",
    "    event_time=\"timestamp\",\n",
    ")"
   ]
  },
  {
   "cell_type": "code",
   "execution_count": null,
   "id": "d93d85b0",
   "metadata": {
    "id": "67228279"
   },
   "outputs": [],
   "source": [
    "electricity_prices_fg.insert(electricity_prices_df, write_options={\"wait_for_job\": False})"
   ]
  },
  {
   "cell_type": "code",
   "execution_count": null,
   "id": "ecb0b6cf",
   "metadata": {
    "id": "21eaa129"
   },
   "outputs": [],
   "source": [
    "swedish_holidays_fg = fs.get_or_create_feature_group(\n",
    "    name=\"swedish_holidays\",\n",
    "    version=1,\n",
    "    description=\"Swedish holidays calendar.\",\n",
    "    online_enabled=True,\n",
    "    primary_key=[\"day\"])"
   ]
  },
  {
   "cell_type": "code",
   "execution_count": null,
   "id": "f55510ee",
   "metadata": {
    "id": "fb12d363"
   },
   "outputs": [],
   "source": [
    "swedish_holidays_fg.insert(holidays_df, write_options={\"wait_for_job\": True})"
   ]
  },
  {
   "cell_type": "markdown",
   "id": "7c70b523",
   "metadata": {},
   "source": [
    "---"
   ]
  },
  {
   "cell_type": "markdown",
   "id": "86802d43",
   "metadata": {
    "id": "47a81314"
   },
   "source": [
    "## <span style=\"color:#ff5f27;\">⏭️ **Next:** Part 02 </span>\n",
    "\n",
    "In the next notebook, you will be generating new data for the Feature Groups."
   ]
  }
 ],
 "metadata": {
  "colab": {
   "collapsed_sections": [],
   "provenance": []
  },
  "kernelspec": {
   "display_name": "Python 3 (ipykernel)",
   "language": "python",
   "name": "python3"
  },
  "language_info": {
   "codemirror_mode": {
    "name": "ipython",
    "version": 3
   },
   "file_extension": ".py",
   "mimetype": "text/x-python",
   "name": "python",
   "nbconvert_exporter": "python",
   "pygments_lexer": "ipython3",
   "version": "3.8.15"
  }
 },
 "nbformat": 4,
 "nbformat_minor": 5
}
