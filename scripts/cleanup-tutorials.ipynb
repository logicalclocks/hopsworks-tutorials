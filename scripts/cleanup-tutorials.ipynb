{
 "cells": [
  {
   "cell_type": "code",
   "execution_count": 1,
   "id": "dc0d0b08",
   "metadata": {},
   "outputs": [
    {
     "name": "stdout",
     "output_type": "stream",
     "text": [
      "Connected. Call `.close()` to terminate connection gracefully.\n",
      "\n",
      "Logged in to project, explore it here https://c.app.hopsworks.ai:443/p/398\n",
      "Connected. Call `.close()` to terminate connection gracefully.\n",
      "Connected. Call `.close()` to terminate connection gracefully.\n",
      "Connected. Call `.close()` to terminate connection gracefully.\n"
     ]
    }
   ],
   "source": [
    "import hopsworks\n",
    "\n",
    "project = hopsworks.login()\n",
    "fs = project.get_feature_store()\n",
    "mr = project.get_model_registry()\n",
    "ms = project.get_model_serving()\n"
   ]
  },
  {
   "cell_type": "markdown",
   "id": "d611d150",
   "metadata": {},
   "source": [
    "## Cleanup Quickstart.ipynb"
   ]
  },
  {
   "cell_type": "code",
   "execution_count": 2,
   "id": "da9eed5d",
   "metadata": {},
   "outputs": [
    {
     "name": "stdout",
     "output_type": "stream",
     "text": [
      "Couldn't delete transactions_view\n",
      "Couldn't delete fraud model\n",
      "Couldn't delete fraud deployment\n"
     ]
    }
   ],
   "source": [
    "# Delete the feature_views before the feature groups\n",
    "\n",
    "try:\n",
    "    feature_view = fs.get_feature_view(name=\"transactions_view\", version=1)\n",
    "    feature_view.delete()\n",
    "except:\n",
    "    print(\"Couldn't delete transactions_view\")\n",
    "\n",
    "try:\n",
    "    trans_fg = fs.get_or_create_feature_group(\n",
    "        name=\"transactions\",\n",
    "        version=\"1\",\n",
    "        description=\"Transaction data\",\n",
    "        primary_key=['cc_num'],\n",
    "        event_time='datetime'\n",
    "    )\n",
    "\n",
    "    trans_fg.delete()\n",
    "except:\n",
    "    print(\"Couldn't delete transactions FG\")\n",
    "    \n",
    "try:\n",
    "    window_len = \"4h\"\n",
    "    window_aggs_fg = fs.get_or_create_feature_group(\n",
    "        name=f\"transactions_{window_len}_aggs\",\n",
    "        version=1,\n",
    "        description=f\"Aggregate transaction data over {window_len} windows.\",\n",
    "        primary_key=['cc_num'],\n",
    "        event_time='datetime'\n",
    "    )\n",
    "    window_aggs_fg.delete()\n",
    "except:\n",
    "    print(\"Couldn't delete transactions_4h_aggs FG\")\n",
    "    \n",
    "# Delete the deployment before the model\n",
    "try:\n",
    "    deployment = ms.get_deployment(\"fraud\")\n",
    "    deployment.stop()\n",
    "    deployment.delete()\n",
    "except:\n",
    "    print(\"Couldn't delete fraud deployment\")    \n",
    "    \n",
    "    \n",
    "try:\n",
    "    fraud_model = mr.get_model(\"fraud\", version=1)\n",
    "    fraud_model.delete()\n",
    "except:\n",
    "    print(\"Couldn't delete fraud model\")\n",
    "    "
   ]
  },
  {
   "cell_type": "markdown",
   "id": "72227d3e",
   "metadata": {},
   "source": [
    "## Cleanup Fraud Batch"
   ]
  },
  {
   "cell_type": "code",
   "execution_count": null,
   "id": "f76c4eaa",
   "metadata": {},
   "outputs": [],
   "source": []
  },
  {
   "cell_type": "markdown",
   "id": "29fc5b35",
   "metadata": {},
   "source": [
    "## Cleanup Fraud Online"
   ]
  },
  {
   "cell_type": "code",
   "execution_count": null,
   "id": "4b03465f",
   "metadata": {},
   "outputs": [],
   "source": []
  },
  {
   "cell_type": "markdown",
   "id": "24bd3d57",
   "metadata": {},
   "source": [
    "## Cleanup Churn"
   ]
  },
  {
   "cell_type": "code",
   "execution_count": null,
   "id": "acd67d64",
   "metadata": {},
   "outputs": [],
   "source": []
  }
 ],
 "metadata": {
  "kernelspec": {
   "display_name": "Python 3 (ipykernel)",
   "language": "python",
   "name": "python3"
  },
  "language_info": {
   "codemirror_mode": {
    "name": "ipython",
    "version": 3
   },
   "file_extension": ".py",
   "mimetype": "text/x-python",
   "name": "python",
   "nbconvert_exporter": "python",
   "pygments_lexer": "ipython3",
   "version": "3.9.7"
  }
 },
 "nbformat": 4,
 "nbformat_minor": 5
}
