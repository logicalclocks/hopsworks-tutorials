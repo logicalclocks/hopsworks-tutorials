{
 "cells": [
  {
   "cell_type": "markdown",
   "id": "f6faa1a5",
   "metadata": {},
   "source": [
    "# <span style=\"font-width:bold; font-size: 3rem; color:#1EB182;\"><img src=\"../../images/icon102.png\" width=\"38px\"></img> **Hopsworks Feature Store** </span><span style=\"font-width:bold; font-size: 3rem; color:#333;\">- Part 03: Training Data & Feature views</span>\n",
    "\n",
    "[![Open In Colab](https://colab.research.google.com/assets/colab-badge.svg)](https://colab.research.google.com/github/logicalclocks/hopsworks-tutorials/blob/master/advanced_tutorials/3_feature_views_and_training_dataset.ipynb)\n",
    "\n",
    "<span style=\"font-width:bold; font-size: 1.4rem;\">This notebook explains how to read from a feature group and create training dataset within the feature store</span>\n",
    "\n",
    "## 🗒️ This notebook is divided into the following sections:\n",
    "\n",
    "1. Fetch Feature Groups\n",
    "2. Define Transformation functions\n",
    "4. Create Feature Views\n",
    "5. Create Training Dataset with training, validation and test splits\n",
    "\n",
    "![part2](../../images/02_training-dataset.png) "
   ]
  },
  {
   "cell_type": "markdown",
   "id": "03e77b30",
   "metadata": {},
   "source": [
    "## <span style=\"color:#ff5f27;\"> 🔮 Connecting to Hopsworks Feature Store </span>"
   ]
  },
  {
   "cell_type": "code",
   "execution_count": 1,
   "id": "e9a08efc",
   "metadata": {},
   "outputs": [
    {
     "name": "stdout",
     "output_type": "stream",
     "text": [
      "Connected. Call `.close()` to terminate connection gracefully.\n",
      "\n",
      "Logged in to project, explore it here https://c.app.hopsworks.ai:443/p/398\n",
      "Connected. Call `.close()` to terminate connection gracefully.\n"
     ]
    }
   ],
   "source": [
    "import hopsworks\n",
    "\n",
    "project = hopsworks.login()\n",
    "\n",
    "fs = project.get_feature_store() "
   ]
  },
  {
   "cell_type": "markdown",
   "id": "77cc80ac",
   "metadata": {},
   "source": [
    "## <span style=\"color:#ff5f27;\">🪄 Retrieving Feature Groups</span>"
   ]
  },
  {
   "cell_type": "code",
   "execution_count": 2,
   "id": "24d51eae",
   "metadata": {},
   "outputs": [],
   "source": [
    "application_fg = fs.get_or_create_feature_group(\n",
    "    name = 'application',\n",
    "    version = 1\n",
    ")\n",
    "\n",
    "bureau_balance_fg = fs.get_or_create_feature_group(\n",
    "    name = 'bureau_balance',\n",
    "    version = 1\n",
    ")\n",
    "\n",
    "bureau_fg = fs.get_or_create_feature_group(\n",
    "    name = 'bureau',\n",
    "    version = 1\n",
    ")\n",
    "\n",
    "previous_application_fg = fs.get_or_create_feature_group(\n",
    "    name = 'previous_application',\n",
    "    version = 1\n",
    ")\n",
    "\n",
    "pos_cash_balance_fg = fs.get_or_create_feature_group(\n",
    "    name = 'pos_cash_balance',\n",
    "    version = 1\n",
    ")\n",
    "\n",
    "installments_payments_fg = fs.get_or_create_feature_group(\n",
    "    name = 'installments_payments',\n",
    "    version = 1\n",
    ")\n",
    "\n",
    "credit_card_balance_fg = fs.get_or_create_feature_group(\n",
    "    name = 'credit_card_balance',\n",
    "    version = 1\n",
    ")\n",
    "\n",
    "previous_loan_counts_fg = fs.get_or_create_feature_group(\n",
    "    name = 'previous_loan_counts',\n",
    "    version = 1\n",
    ")"
   ]
  },
  {
   "cell_type": "markdown",
   "id": "430d76a5",
   "metadata": {},
   "source": [
    "---\n",
    "\n",
    "## <span style=\"color:#ff5f27;\">🕵🏻‍♂️ Feature Groups Investigation</span>\n",
    "\n",
    "We can use `FeatureGroup.show()` method to select top n rows. \n",
    "\n",
    "Also we use method `FeatureGroup.read()` in order **to aggregate queries**, which are the output of next methods:\n",
    "\n",
    "- `FeatureGroup.get_feture()` to get specific feature from our Feature Group.\n",
    "\n",
    "- `FeatureGroup.select()` to get a few features from our Feature Group.\n",
    "\n",
    "- `FeatureGroup.select_all()` to get all features from our Feature Group.\n",
    "\n",
    "- `FeatureGroup.select_except()` to get all features except a few from our Feature Group.\n",
    "\n",
    "- `FeatureGroup.filter()` in order to apply specific filter to the feature group."
   ]
  },
  {
   "cell_type": "markdown",
   "id": "33bc6643",
   "metadata": {},
   "source": [
    "---\n",
    "\n",
    "## <span style=\"color:#ff5f27;\"> 💼 Feature Selection</span>"
   ]
  },
  {
   "cell_type": "code",
   "execution_count": 4,
   "id": "24ca5402",
   "metadata": {},
   "outputs": [
    {
     "name": "stdout",
     "output_type": "stream",
     "text": [
      "2023-03-02 14:12:58,916 INFO: USE `dowlingj_featurestore`\n",
      "2023-03-02 14:12:59,372 INFO: SELECT `fg7`.`credit_active` `credit_active`, `fg7`.`credit_currency` `credit_currency`, `fg7`.`days_credit` `days_credit`, `fg7`.`credit_day_overdue` `credit_day_overdue`, `fg7`.`days_credit_enddate` `days_credit_enddate`, `fg7`.`cnt_credit_prolong` `cnt_credit_prolong`, `fg7`.`amt_credit_sum` `amt_credit_sum`, `fg7`.`amt_credit_sum_debt` `amt_credit_sum_debt`, `fg7`.`amt_credit_sum_overdue` `amt_credit_sum_overdue`, `fg7`.`credit_type` `credit_type`, `fg7`.`days_credit_update` `days_credit_update`, `fg0`.`target` `target`, `fg0`.`name_contract_type` `name_contract_type`, `fg0`.`code_gender` `code_gender`, `fg0`.`flag_own_car` `flag_own_car`, `fg0`.`flag_own_realty` `flag_own_realty`, `fg0`.`cnt_children` `cnt_children`, `fg0`.`amt_income_total` `amt_income_total`, `fg0`.`amt_annuity` `amt_annuity`, `fg0`.`amt_goods_price` `amt_goods_price`, `fg0`.`name_type_suite` `name_type_suite`, `fg0`.`name_income_type` `name_income_type`, `fg0`.`name_education_type` `name_education_type`, `fg0`.`name_family_status` `name_family_status`, `fg0`.`name_housing_type` `name_housing_type`, `fg0`.`region_population_relative` `region_population_relative`, `fg0`.`days_birth` `days_birth`, `fg0`.`days_employed` `days_employed`, `fg0`.`days_registration` `days_registration`, `fg0`.`days_id_publish` `days_id_publish`, `fg0`.`flag_emp_phone` `flag_emp_phone`, `fg0`.`flag_work_phone` `flag_work_phone`, `fg0`.`flag_cont_mobile` `flag_cont_mobile`, `fg0`.`flag_phone` `flag_phone`, `fg0`.`flag_email` `flag_email`, `fg0`.`cnt_fam_members` `cnt_fam_members`, `fg0`.`region_rating_client` `region_rating_client`, `fg0`.`region_rating_client_w_city` `region_rating_client_w_city`, `fg0`.`reg_region_not_live_region` `reg_region_not_live_region`, `fg0`.`reg_region_not_work_region` `reg_region_not_work_region`, `fg0`.`live_region_not_work_region` `live_region_not_work_region`, `fg0`.`reg_city_not_live_city` `reg_city_not_live_city`, `fg0`.`reg_city_not_work_city` `reg_city_not_work_city`, `fg0`.`live_city_not_work_city` `live_city_not_work_city`, `fg0`.`organization_type` `organization_type`, `fg0`.`ext_source_2` `ext_source_2`, `fg0`.`ext_source_3` `ext_source_3`, `fg0`.`obs_30_cnt_social_circle` `obs_30_cnt_social_circle`, `fg0`.`def_30_cnt_social_circle` `def_30_cnt_social_circle`, `fg0`.`obs_60_cnt_social_circle` `obs_60_cnt_social_circle`, `fg0`.`def_60_cnt_social_circle` `def_60_cnt_social_circle`, `fg0`.`days_last_phone_change` `days_last_phone_change`, `fg0`.`flag_document_3` `flag_document_3`, `fg0`.`flag_document_5` `flag_document_5`, `fg0`.`flag_document_6` `flag_document_6`, `fg0`.`flag_document_8` `flag_document_8`, `fg0`.`flag_document_9` `flag_document_9`, `fg0`.`flag_document_11` `flag_document_11`, `fg0`.`flag_document_13` `flag_document_13`, `fg0`.`flag_document_15` `flag_document_15`, `fg0`.`flag_document_16` `flag_document_16`, `fg0`.`flag_document_18` `flag_document_18`, `fg0`.`amt_req_credit_bureau_hour` `amt_req_credit_bureau_hour`, `fg0`.`amt_req_credit_bureau_day` `amt_req_credit_bureau_day`, `fg0`.`amt_req_credit_bureau_week` `amt_req_credit_bureau_week`, `fg0`.`amt_req_credit_bureau_mon` `amt_req_credit_bureau_mon`, `fg0`.`amt_req_credit_bureau_qrt` `amt_req_credit_bureau_qrt`, `fg0`.`amt_req_credit_bureau_year` `amt_req_credit_bureau_year`, `fg1`.`status` `status`, `fg2`.`amt_application` `amt_application`, `fg2`.`amt_credit` `amt_credit`, `fg2`.`weekday_appr_process_start` `weekday_appr_process_start`, `fg2`.`hour_appr_process_start` `hour_appr_process_start`, `fg2`.`flag_last_appl_per_contract` `flag_last_appl_per_contract`, `fg2`.`nflag_last_appl_in_day` `nflag_last_appl_in_day`, `fg2`.`name_cash_loan_purpose` `name_cash_loan_purpose`, `fg2`.`days_decision` `days_decision`, `fg2`.`name_payment_type` `name_payment_type`, `fg2`.`code_reject_reason` `code_reject_reason`, `fg2`.`name_client_type` `name_client_type`, `fg2`.`name_goods_category` `name_goods_category`, `fg2`.`name_portfolio` `name_portfolio`, `fg2`.`name_product_type` `name_product_type`, `fg2`.`channel_type` `channel_type`, `fg2`.`sellerplace_area` `sellerplace_area`, `fg2`.`name_seller_industry` `name_seller_industry`, `fg2`.`name_yield_group` `name_yield_group`, `fg2`.`product_combination` `product_combination`, `fg3`.`cnt_instalment` `cnt_instalment`, `fg3`.`cnt_instalment_future` `cnt_instalment_future`, `fg4`.`num_instalment_version` `num_instalment_version`, `fg4`.`num_instalment_number` `num_instalment_number`, `fg4`.`days_instalment` `days_instalment`, `fg4`.`days_entry_payment` `days_entry_payment`, `fg4`.`amt_instalment` `amt_instalment`, `fg4`.`amt_payment` `amt_payment`, `fg5`.`months_balance` `months_balance`, `fg5`.`amt_balance` `amt_balance`, `fg5`.`amt_credit_limit_actual` `amt_credit_limit_actual`, `fg5`.`amt_drawings_atm_current` `amt_drawings_atm_current`, `fg5`.`amt_drawings_current` `amt_drawings_current`, `fg5`.`amt_drawings_other_current` `amt_drawings_other_current`, `fg5`.`amt_drawings_pos_current` `amt_drawings_pos_current`, `fg5`.`amt_inst_min_regularity` `amt_inst_min_regularity`, `fg5`.`amt_payment_current` `amt_payment_current`, `fg5`.`amt_payment_total_current` `amt_payment_total_current`, `fg5`.`amt_receivable_principal` `amt_receivable_principal`, `fg5`.`amt_recivable` `amt_recivable`, `fg5`.`amt_total_receivable` `amt_total_receivable`, `fg5`.`cnt_drawings_atm_current` `cnt_drawings_atm_current`, `fg5`.`cnt_drawings_current` `cnt_drawings_current`, `fg5`.`cnt_drawings_other_current` `cnt_drawings_other_current`, `fg5`.`cnt_drawings_pos_current` `cnt_drawings_pos_current`, `fg5`.`cnt_instalment_mature_cum` `cnt_instalment_mature_cum`, `fg5`.`name_contract_status` `name_contract_status`, `fg5`.`sk_dpd` `sk_dpd`, `fg5`.`sk_dpd_def` `sk_dpd_def`, `fg6`.`sk_id_curr` `sk_id_curr`, `fg6`.`previous_loan_counts` `previous_loan_counts`\n",
      "FROM `dowlingj_featurestore`.`bureau_1` `fg7`\n",
      "INNER JOIN `dowlingj_featurestore`.`application_1` `fg0` ON `fg7`.`sk_id_curr` = `fg0`.`sk_id_curr`\n",
      "INNER JOIN `dowlingj_featurestore`.`bureau_balance_1` `fg1` ON `fg7`.`sk_id_bureau` = `fg1`.`sk_id_bureau`\n",
      "INNER JOIN `dowlingj_featurestore`.`previous_application_1` `fg2` ON `fg7`.`sk_id_curr` = `fg2`.`sk_id_curr`\n",
      "INNER JOIN `dowlingj_featurestore`.`pos_cash_balance_1` `fg3` ON `fg7`.`sk_id_curr` = `fg3`.`sk_id_curr`\n",
      "INNER JOIN `dowlingj_featurestore`.`installments_payments_1` `fg4` ON `fg7`.`sk_id_curr` = `fg4`.`sk_id_curr`\n",
      "INNER JOIN `dowlingj_featurestore`.`credit_card_balance_1` `fg5` ON `fg7`.`sk_id_curr` = `fg5`.`sk_id_curr`\n",
      "INNER JOIN `dowlingj_featurestore`.`previous_loan_counts_1` `fg6` ON `fg7`.`sk_id_curr` = `fg6`.`sk_id_curr`\n"
     ]
    },
    {
     "name": "stderr",
     "output_type": "stream",
     "text": [
      "UserWarning: pandas only support SQLAlchemy connectable(engine/connection) ordatabase string URI or sqlite3 DBAPI2 connectionother DBAPI2 objects are not tested, please consider using SQLAlchemy\n"
     ]
    },
    {
     "data": {
      "text/html": [
       "<div>\n",
       "<style scoped>\n",
       "    .dataframe tbody tr th:only-of-type {\n",
       "        vertical-align: middle;\n",
       "    }\n",
       "\n",
       "    .dataframe tbody tr th {\n",
       "        vertical-align: top;\n",
       "    }\n",
       "\n",
       "    .dataframe thead th {\n",
       "        text-align: right;\n",
       "    }\n",
       "</style>\n",
       "<table border=\"1\" class=\"dataframe\">\n",
       "  <thead>\n",
       "    <tr style=\"text-align: right;\">\n",
       "      <th></th>\n",
       "      <th>credit_active</th>\n",
       "      <th>credit_currency</th>\n",
       "      <th>days_credit</th>\n",
       "      <th>credit_day_overdue</th>\n",
       "      <th>days_credit_enddate</th>\n",
       "      <th>cnt_credit_prolong</th>\n",
       "      <th>amt_credit_sum</th>\n",
       "      <th>amt_credit_sum_debt</th>\n",
       "      <th>amt_credit_sum_overdue</th>\n",
       "      <th>credit_type</th>\n",
       "      <th>...</th>\n",
       "      <th>cnt_drawings_atm_current</th>\n",
       "      <th>cnt_drawings_current</th>\n",
       "      <th>cnt_drawings_other_current</th>\n",
       "      <th>cnt_drawings_pos_current</th>\n",
       "      <th>cnt_instalment_mature_cum</th>\n",
       "      <th>name_contract_status</th>\n",
       "      <th>sk_dpd</th>\n",
       "      <th>sk_dpd_def</th>\n",
       "      <th>sk_id_curr</th>\n",
       "      <th>previous_loan_counts</th>\n",
       "    </tr>\n",
       "  </thead>\n",
       "  <tbody>\n",
       "    <tr>\n",
       "      <th>0</th>\n",
       "      <td>Active</td>\n",
       "      <td>currency 1</td>\n",
       "      <td>-622</td>\n",
       "      <td>0</td>\n",
       "      <td>770.0</td>\n",
       "      <td>0</td>\n",
       "      <td>756000.0</td>\n",
       "      <td>674667.0</td>\n",
       "      <td>0.0</td>\n",
       "      <td>Credit card</td>\n",
       "      <td>...</td>\n",
       "      <td>0.0</td>\n",
       "      <td>0</td>\n",
       "      <td>0.0</td>\n",
       "      <td>0.0</td>\n",
       "      <td>36.0</td>\n",
       "      <td>Active</td>\n",
       "      <td>0</td>\n",
       "      <td>0</td>\n",
       "      <td>155227</td>\n",
       "      <td>7</td>\n",
       "    </tr>\n",
       "    <tr>\n",
       "      <th>1</th>\n",
       "      <td>Active</td>\n",
       "      <td>currency 1</td>\n",
       "      <td>-622</td>\n",
       "      <td>0</td>\n",
       "      <td>770.0</td>\n",
       "      <td>0</td>\n",
       "      <td>756000.0</td>\n",
       "      <td>674667.0</td>\n",
       "      <td>0.0</td>\n",
       "      <td>Credit card</td>\n",
       "      <td>...</td>\n",
       "      <td>0.0</td>\n",
       "      <td>0</td>\n",
       "      <td>0.0</td>\n",
       "      <td>0.0</td>\n",
       "      <td>36.0</td>\n",
       "      <td>Active</td>\n",
       "      <td>0</td>\n",
       "      <td>0</td>\n",
       "      <td>155227</td>\n",
       "      <td>7</td>\n",
       "    </tr>\n",
       "    <tr>\n",
       "      <th>2</th>\n",
       "      <td>Active</td>\n",
       "      <td>currency 1</td>\n",
       "      <td>-622</td>\n",
       "      <td>0</td>\n",
       "      <td>770.0</td>\n",
       "      <td>0</td>\n",
       "      <td>756000.0</td>\n",
       "      <td>674667.0</td>\n",
       "      <td>0.0</td>\n",
       "      <td>Credit card</td>\n",
       "      <td>...</td>\n",
       "      <td>0.0</td>\n",
       "      <td>0</td>\n",
       "      <td>0.0</td>\n",
       "      <td>0.0</td>\n",
       "      <td>36.0</td>\n",
       "      <td>Active</td>\n",
       "      <td>0</td>\n",
       "      <td>0</td>\n",
       "      <td>155227</td>\n",
       "      <td>7</td>\n",
       "    </tr>\n",
       "    <tr>\n",
       "      <th>3</th>\n",
       "      <td>Active</td>\n",
       "      <td>currency 1</td>\n",
       "      <td>-622</td>\n",
       "      <td>0</td>\n",
       "      <td>770.0</td>\n",
       "      <td>0</td>\n",
       "      <td>756000.0</td>\n",
       "      <td>674667.0</td>\n",
       "      <td>0.0</td>\n",
       "      <td>Credit card</td>\n",
       "      <td>...</td>\n",
       "      <td>0.0</td>\n",
       "      <td>0</td>\n",
       "      <td>0.0</td>\n",
       "      <td>0.0</td>\n",
       "      <td>36.0</td>\n",
       "      <td>Active</td>\n",
       "      <td>0</td>\n",
       "      <td>0</td>\n",
       "      <td>155227</td>\n",
       "      <td>7</td>\n",
       "    </tr>\n",
       "    <tr>\n",
       "      <th>4</th>\n",
       "      <td>Active</td>\n",
       "      <td>currency 1</td>\n",
       "      <td>-622</td>\n",
       "      <td>0</td>\n",
       "      <td>770.0</td>\n",
       "      <td>0</td>\n",
       "      <td>756000.0</td>\n",
       "      <td>674667.0</td>\n",
       "      <td>0.0</td>\n",
       "      <td>Credit card</td>\n",
       "      <td>...</td>\n",
       "      <td>0.0</td>\n",
       "      <td>0</td>\n",
       "      <td>0.0</td>\n",
       "      <td>0.0</td>\n",
       "      <td>36.0</td>\n",
       "      <td>Active</td>\n",
       "      <td>0</td>\n",
       "      <td>0</td>\n",
       "      <td>155227</td>\n",
       "      <td>7</td>\n",
       "    </tr>\n",
       "  </tbody>\n",
       "</table>\n",
       "<p>5 rows × 119 columns</p>\n",
       "</div>"
      ],
      "text/plain": [
       "  credit_active credit_currency  days_credit  credit_day_overdue  \\\n",
       "0        Active      currency 1         -622                   0   \n",
       "1        Active      currency 1         -622                   0   \n",
       "2        Active      currency 1         -622                   0   \n",
       "3        Active      currency 1         -622                   0   \n",
       "4        Active      currency 1         -622                   0   \n",
       "\n",
       "   days_credit_enddate  cnt_credit_prolong  amt_credit_sum  \\\n",
       "0                770.0                   0        756000.0   \n",
       "1                770.0                   0        756000.0   \n",
       "2                770.0                   0        756000.0   \n",
       "3                770.0                   0        756000.0   \n",
       "4                770.0                   0        756000.0   \n",
       "\n",
       "   amt_credit_sum_debt  amt_credit_sum_overdue  credit_type  ...  \\\n",
       "0             674667.0                     0.0  Credit card  ...   \n",
       "1             674667.0                     0.0  Credit card  ...   \n",
       "2             674667.0                     0.0  Credit card  ...   \n",
       "3             674667.0                     0.0  Credit card  ...   \n",
       "4             674667.0                     0.0  Credit card  ...   \n",
       "\n",
       "   cnt_drawings_atm_current  cnt_drawings_current cnt_drawings_other_current  \\\n",
       "0                       0.0                     0                        0.0   \n",
       "1                       0.0                     0                        0.0   \n",
       "2                       0.0                     0                        0.0   \n",
       "3                       0.0                     0                        0.0   \n",
       "4                       0.0                     0                        0.0   \n",
       "\n",
       "  cnt_drawings_pos_current cnt_instalment_mature_cum name_contract_status  \\\n",
       "0                      0.0                      36.0               Active   \n",
       "1                      0.0                      36.0               Active   \n",
       "2                      0.0                      36.0               Active   \n",
       "3                      0.0                      36.0               Active   \n",
       "4                      0.0                      36.0               Active   \n",
       "\n",
       "   sk_dpd  sk_dpd_def  sk_id_curr  previous_loan_counts  \n",
       "0       0           0      155227                     7  \n",
       "1       0           0      155227                     7  \n",
       "2       0           0      155227                     7  \n",
       "3       0           0      155227                     7  \n",
       "4       0           0      155227                     7  \n",
       "\n",
       "[5 rows x 119 columns]"
      ]
     },
     "execution_count": 4,
     "metadata": {},
     "output_type": "execute_result"
    }
   ],
   "source": [
    "fg_query = bureau_fg.select_except(['sk_id_curr','sk_id_bureau'])\\\n",
    "                    .join(application_fg.select_except(['sk_id_curr','flag_mobil',*[f'flag_document_{num}' for num in [2,4,7,10,12,14,17,19,20,21]],'amt_credit', 'weekday_appr_process_start', 'hour_appr_process_start']))\\\n",
    "                    .join(bureau_balance_fg.select_except(['sk_id_bureau','months_balance']))\\\n",
    "                    .join(previous_application_fg.select_except(['sk_id_prev','sk_id_curr','name_contract_type','name_contract_status']))\\\n",
    "                    .join(pos_cash_balance_fg.select_except(['sk_id_prev','sk_id_curr','months_balance', 'name_contract_status', 'sk_dpd', 'sk_dpd_def']))\\\n",
    "                    .join(installments_payments_fg.select_except(['sk_id_prev','sk_id_curr']))\\\n",
    "                    .join(credit_card_balance_fg.select_except(['sk_id_prev','sk_id_curr']))\\\n",
    "                    .join(previous_loan_counts_fg.select_except('sk_id_curr'))\n",
    "\n",
    "fg_query_show5 = fg_query.show(5)\n",
    "fg_query_show5"
   ]
  },
  {
   "cell_type": "markdown",
   "id": "5819158e",
   "metadata": {},
   "source": [
    "---\n",
    "\n",
    "## <span style=\"color:#ff5f27;\">🤖 Transformation functions</span>\n",
    "\n",
    "Hopsworks Feature Store provides functionality to attach transformation functions to training datasets.\n",
    "\n",
    "Hopsworks Feature Store also comes with built-in transformation functions such as `min_max_scaler`, `standard_scaler`, `robust_scaler` and `label_encoder`."
   ]
  },
  {
   "cell_type": "code",
   "execution_count": 5,
   "id": "76eb6d2f",
   "metadata": {},
   "outputs": [
    {
     "data": {
      "text/plain": [
       "['min_max_scaler', 'label_encoder', 'standard_scaler', 'robust_scaler']"
      ]
     },
     "execution_count": 5,
     "metadata": {},
     "output_type": "execute_result"
    }
   ],
   "source": [
    "[t_func.name for t_func in fs.get_transformation_functions()]"
   ]
  },
  {
   "cell_type": "markdown",
   "id": "a7469f73",
   "metadata": {},
   "source": [
    "We can retrieve transformation function we need .\n",
    "\n",
    "To attach transformation function to training dataset provide transformation functions as dict, where key is feature name and value is online transformation function name.\n",
    "\n",
    "Also training dataset must be created from the Query object. Once attached transformation function will be applied on whenever save, insert and get_serving_vector methods are called on training dataset object."
   ]
  },
  {
   "cell_type": "code",
   "execution_count": 6,
   "id": "d597ceac",
   "metadata": {},
   "outputs": [],
   "source": [
    "cat_cols = fg_query_show5.dtypes[fg_query_show5.dtypes == 'object'].index\n",
    "num_cols = fg_query_show5.dtypes[fg_query_show5.dtypes != 'object'].index\n",
    "\n",
    "mapping_transformer = {col:fs.get_transformation_function(name='label_encoder') for col in cat_cols}\n",
    "mapping_transformer.update({col:fs.get_transformation_function(name='standard_scaler') for col in num_cols if col !='target'})"
   ]
  },
  {
   "cell_type": "markdown",
   "id": "cca1038a",
   "metadata": {},
   "source": [
    "---\n",
    "\n",
    "## <span style=\"color:#ff5f27;\"> ⚙️ Feature View Creation </span>\n",
    "\n",
    "`Feature Views` stands between **Feature Groups** and **Training Dataset**. Сombining **Feature Groups** we can create **Feature Views** which store a metadata of our data. Having **Feature Views** we can create **Training Dataset**.\n",
    "\n",
    "The Feature Views allows schema in form of a query with filters, define a model target feature/label and additional transformation functions.\n",
    "\n",
    "In order to create Feature View we can use `FeatureStore.create_feature_view()` method.\n",
    "\n",
    "We can specify next parameters:\n",
    "\n",
    "- `name` - name of a feature group.\n",
    "\n",
    "- `version` - version of a feature group.\n",
    "\n",
    "- `labels`- out target variable.\n",
    "\n",
    "- `transformation_functions` - functions to transform our features.\n",
    "\n",
    "- `query` - query object with data."
   ]
  },
  {
   "cell_type": "code",
   "execution_count": 7,
   "id": "e08a1055",
   "metadata": {},
   "outputs": [
    {
     "name": "stdout",
     "output_type": "stream",
     "text": [
      "Feature view created successfully, explore it at \n",
      "https://c.app.hopsworks.ai:443/p/398/fs/335/fv/credit_scores/version/1\n"
     ]
    }
   ],
   "source": [
    "feature_view = fs.create_feature_view(\n",
    "    name = 'credit_scores',\n",
    "    version = 1,\n",
    "    labels = ['target'],\n",
    "    transformation_functions = mapping_transformer,\n",
    "    query = fg_query\n",
    ")"
   ]
  },
  {
   "cell_type": "markdown",
   "id": "8c4bb0c3",
   "metadata": {},
   "source": [
    "For now `Feature View` is saved in Hopsworks and we can retrieve it using `FeatureStore.get_feature_view()`."
   ]
  },
  {
   "cell_type": "code",
   "execution_count": 8,
   "id": "2f139e19",
   "metadata": {},
   "outputs": [],
   "source": [
    "feature_view = fs.get_feature_view(\n",
    "    name = 'credit_scores',\n",
    "    version = 1\n",
    ")"
   ]
  },
  {
   "cell_type": "markdown",
   "id": "79a9c5a0",
   "metadata": {},
   "source": [
    "---\n",
    "\n",
    "## <span style=\"color:#ff5f27;\"> 🏋️ Training Dataset Creation</span>\n",
    "\n",
    "In Hopsworks training data is a query where the projection (set of features) is determined by the parent **FeatureView** with an optional snapshot on disk of the data returned by the query.\n",
    "\n",
    "**Training Dataset  may contain splits such as:** \n",
    "* Training set - the subset of training data used to train a model.\n",
    "* Validation set - the subset of training data used to evaluate hparams when training a model\n",
    "* Test set - the holdout subset of training data used to evaluate a mode\n",
    "\n",
    "Here are some importand things:\n",
    "\n",
    "- It will inherit the name of FeatureView.\n",
    "\n",
    "- The feature store currently supports the following data formats for\n",
    "training datasets: **tfrecord, csv, tsv, parquet, avro, orc**.\n",
    "\n",
    "- We can choose necessary format using **data_format** parameter.\n",
    "\n",
    "- **start_time** and **end_time** in order to filter dataset in specific time range."
   ]
  },
  {
   "cell_type": "code",
   "execution_count": 9,
   "id": "8e8e9521",
   "metadata": {},
   "outputs": [
    {
     "name": "stdout",
     "output_type": "stream",
     "text": [
      "Training dataset job started successfully, you can follow the progress at \n",
      "https://c.app.hopsworks.ai/p/398/jobs/named/credit_scores_1_1_create_fv_td_02032023131639/executions\n"
     ]
    },
    {
     "name": "stderr",
     "output_type": "stream",
     "text": [
      "VersionWarning: Incremented version to `1`.\n"
     ]
    },
    {
     "data": {
      "text/plain": [
       "(1, <hsfs.core.job.Job at 0x7f975c8f38b0>)"
      ]
     },
     "execution_count": 9,
     "metadata": {},
     "output_type": "execute_result"
    }
   ],
   "source": [
    "feature_view.create_train_test_split(\n",
    "    test_size = 0.2\n",
    ")"
   ]
  },
  {
   "cell_type": "markdown",
   "id": "7a1d157e",
   "metadata": {},
   "source": [
    "---\n",
    "\n",
    "## <span style=\"color:#ff5f27;\">⏭️ **Next:** Part 04 </span>\n",
    "\n",
    "In the following notebook, we will train a model on the dataset we created in this notebook."
   ]
  }
 ],
 "metadata": {
  "kernelspec": {
   "display_name": "Python 3 (ipykernel)",
   "language": "python",
   "name": "python3"
  },
  "language_info": {
   "codemirror_mode": {
    "name": "ipython",
    "version": 3
   },
   "file_extension": ".py",
   "mimetype": "text/x-python",
   "name": "python",
   "nbconvert_exporter": "python",
   "pygments_lexer": "ipython3",
   "version": "3.9.7"
  }
 },
 "nbformat": 4,
 "nbformat_minor": 5
}
