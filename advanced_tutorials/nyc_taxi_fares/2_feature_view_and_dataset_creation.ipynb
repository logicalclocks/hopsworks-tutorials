{
 "cells": [
  {
   "cell_type": "markdown",
   "metadata": {},
   "source": [
    "![hopsworks_logo](../../images/hopsworks_logo.png)\n",
    "\n",
    "# Part 02: Training Data & Feature views\n",
    "\n",
    "[![Open In Colab](https://colab.research.google.com/assets/colab-badge.svg)](https://colab.research.google.com/github/logicalclocks/hopsworks-tutorials/blob/master/fraud_batch/2_feature_view_creation.ipynb)\n",
    "\n",
    "**Note**: you may get an error when installing hopsworks on Colab, and it is safe to ignore it.\n",
    "\n",
    "This is the second part of the quick start series of tutorials about Hopsworks Feature Store. This notebook explains how to read from a feature group and create training dataset within the feature store\n",
    "\n",
    "## 🗒️ In this notebook we will see how to create a training dataset from the feature groups:\n",
    "1. **Select the features** we want to train our model on,\n",
    "2. **How the features should be preprocessed,**\n",
    "3. **Create a dataset split** for training and validation data.\n",
    "\n",
    "![02_training-dataset](../../images/02_training-dataset.png)"
   ]
  },
  {
   "cell_type": "markdown",
   "metadata": {},
   "source": [
    "#### <span style=\"color:#ff5f27;\">📝 Importing Libraries</span>"
   ]
  },
  {
   "cell_type": "code",
   "execution_count": 1,
   "metadata": {},
   "outputs": [
    {
     "name": "stdout",
     "output_type": "stream",
     "text": [
      "Connected. Call `.close()` to terminate connection gracefully.\n",
      "\n",
      "Logged in to project, explore it here https://c.app.hopsworks.ai:443/p/164\n"
     ]
    },
    {
     "name": "stderr",
     "output_type": "stream",
     "text": [
      "DeprecationWarning: the imp module is deprecated in favour of importlib; see the module's documentation for alternative uses\n"
     ]
    },
    {
     "name": "stdout",
     "output_type": "stream",
     "text": [
      "Connected. Call `.close()` to terminate connection gracefully.\n"
     ]
    }
   ],
   "source": [
    "import hopsworks\n",
    "\n",
    "project = hopsworks.login()\n",
    "\n",
    "fs = project.get_feature_store()"
   ]
  },
  {
   "cell_type": "markdown",
   "metadata": {},
   "source": [
    "### <span style=\"color:#ff5f27;\">⬇️ Data retrieving from Feature Groups</span>\n",
    "\n",
    "We start by selecting all the features we want to include for model training/inference."
   ]
  },
  {
   "cell_type": "code",
   "execution_count": 2,
   "metadata": {},
   "outputs": [],
   "source": [
    "# Load feature groups.\n",
    "fares_fg = fs.get_or_create_feature_group(\"fares_fg\",\n",
    "                                          version=1)\n",
    "rides_fg = fs.get_or_create_feature_group(\"rides_fg\",\n",
    "                                          version=1)"
   ]
  },
  {
   "cell_type": "code",
   "execution_count": 3,
   "metadata": {},
   "outputs": [
    {
     "name": "stdout",
     "output_type": "stream",
     "text": [
      "2022-08-22 00:05:44,272 INFO: USE `romankah_featurestore`\n",
      "2022-08-22 00:05:45,272 INFO: SELECT `fg1`.`total_fare` `total_fare`, `fg0`.`ride_id` `ride_id`, `fg0`.`passenger_count` `passenger_count`, `fg0`.`distance` `distance`, `fg0`.`pickup_distance_to_jfk` `pickup_distance_to_jfk`, `fg0`.`dropoff_distance_to_jfk` `dropoff_distance_to_jfk`, `fg0`.`pickup_distance_to_ewr` `pickup_distance_to_ewr`, `fg0`.`dropoff_distance_to_ewr` `dropoff_distance_to_ewr`, `fg0`.`pickup_distance_to_lgr` `pickup_distance_to_lgr`, `fg0`.`dropoff_distance_to_lgr` `dropoff_distance_to_lgr`, `fg0`.`year` `year`, `fg0`.`weekday` `weekday`, `fg0`.`hour` `hour`\n",
      "FROM `romankah_featurestore`.`fares_fg_1` `fg1`\n",
      "INNER JOIN `romankah_featurestore`.`rides_fg_1` `fg0` ON `fg1`.`ride_id` = `fg0`.`ride_id`\n"
     ]
    },
    {
     "name": "stderr",
     "output_type": "stream",
     "text": [
      "UserWarning: pandas only support SQLAlchemy connectable(engine/connection) ordatabase string URI or sqlite3 DBAPI2 connectionother DBAPI2 objects are not tested, please consider using SQLAlchemy\n"
     ]
    },
    {
     "data": {
      "text/html": [
       "<div>\n",
       "<style scoped>\n",
       "    .dataframe tbody tr th:only-of-type {\n",
       "        vertical-align: middle;\n",
       "    }\n",
       "\n",
       "    .dataframe tbody tr th {\n",
       "        vertical-align: top;\n",
       "    }\n",
       "\n",
       "    .dataframe thead th {\n",
       "        text-align: right;\n",
       "    }\n",
       "</style>\n",
       "<table border=\"1\" class=\"dataframe\">\n",
       "  <thead>\n",
       "    <tr style=\"text-align: right;\">\n",
       "      <th></th>\n",
       "      <th>total_fare</th>\n",
       "      <th>ride_id</th>\n",
       "      <th>passenger_count</th>\n",
       "      <th>distance</th>\n",
       "      <th>pickup_distance_to_jfk</th>\n",
       "      <th>dropoff_distance_to_jfk</th>\n",
       "      <th>pickup_distance_to_ewr</th>\n",
       "      <th>dropoff_distance_to_ewr</th>\n",
       "      <th>pickup_distance_to_lgr</th>\n",
       "      <th>dropoff_distance_to_lgr</th>\n",
       "      <th>year</th>\n",
       "      <th>weekday</th>\n",
       "      <th>hour</th>\n",
       "    </tr>\n",
       "  </thead>\n",
       "  <tbody>\n",
       "    <tr>\n",
       "      <th>0</th>\n",
       "      <td>211.0</td>\n",
       "      <td>2496ddc3d1f9c14f40f37d756a7e6807</td>\n",
       "      <td>2</td>\n",
       "      <td>55.277300</td>\n",
       "      <td>37.908068</td>\n",
       "      <td>80.145955</td>\n",
       "      <td>56.84095</td>\n",
       "      <td>89.596242</td>\n",
       "      <td>40.303302</td>\n",
       "      <td>74.979712</td>\n",
       "      <td>2020</td>\n",
       "      <td>0</td>\n",
       "      <td>11</td>\n",
       "    </tr>\n",
       "    <tr>\n",
       "      <th>1</th>\n",
       "      <td>105.0</td>\n",
       "      <td>080d6819af28478bd39d1b14836c9102</td>\n",
       "      <td>2</td>\n",
       "      <td>37.945798</td>\n",
       "      <td>32.427248</td>\n",
       "      <td>66.244103</td>\n",
       "      <td>27.13503</td>\n",
       "      <td>65.080031</td>\n",
       "      <td>21.829017</td>\n",
       "      <td>56.793579</td>\n",
       "      <td>2020</td>\n",
       "      <td>5</td>\n",
       "      <td>17</td>\n",
       "    </tr>\n",
       "  </tbody>\n",
       "</table>\n",
       "</div>"
      ],
      "text/plain": [
       "   total_fare                           ride_id  passenger_count   distance  \\\n",
       "0       211.0  2496ddc3d1f9c14f40f37d756a7e6807                2  55.277300   \n",
       "1       105.0  080d6819af28478bd39d1b14836c9102                2  37.945798   \n",
       "\n",
       "   pickup_distance_to_jfk  dropoff_distance_to_jfk  pickup_distance_to_ewr  \\\n",
       "0               37.908068                80.145955                56.84095   \n",
       "1               32.427248                66.244103                27.13503   \n",
       "\n",
       "   dropoff_distance_to_ewr  pickup_distance_to_lgr  dropoff_distance_to_lgr  \\\n",
       "0                89.596242               40.303302                74.979712   \n",
       "1                65.080031               21.829017                56.793579   \n",
       "\n",
       "   year  weekday  hour  \n",
       "0  2020        0    11  \n",
       "1  2020        5    17  "
      ]
     },
     "execution_count": 3,
     "metadata": {},
     "output_type": "execute_result"
    }
   ],
   "source": [
    "# Select features for training data.\n",
    "fg_query = fares_fg.select(['total_fare'])\\\n",
    "                            .join(rides_fg.select_except(['taxi_id', \"driver_id\", \"pickup_datetime\",\n",
    "                                                          \"pickup_longitude\", \"pickup_latitude\",\n",
    "                                                          \"dropoff_longitude\", \"dropoff_latitude\"]),\n",
    "                                  on=['ride_id'])\n",
    "\n",
    "fg_query.show(2)"
   ]
  },
  {
   "cell_type": "markdown",
   "metadata": {},
   "source": [
    "#### <span style=\"color:#ff5f27;\">〰️ Transformation Functions</span>\n",
    "\n",
    "\n",
    "We can preprocess our data using several encoding methods like *min-max scaling* on numerical features and *label encoding* on categorical features. To do this we simply define a mapping between our features and transformation functions. This ensures that transformation functions such as *min-max scaling* are fitted only on the training data (and not the validation/test data), which ensures that there is no data leakage."
   ]
  },
  {
   "cell_type": "code",
   "execution_count": 4,
   "metadata": {},
   "outputs": [
    {
     "data": {
      "text/plain": [
       "['min_max_scaler', 'robust_scaler', 'label_encoder', 'standard_scaler']"
      ]
     },
     "execution_count": 4,
     "metadata": {},
     "output_type": "execute_result"
    }
   ],
   "source": [
    "[t_func.name for t_func in fs.get_transformation_functions()]"
   ]
  },
  {
   "cell_type": "code",
   "execution_count": 5,
   "metadata": {},
   "outputs": [],
   "source": [
    "# # Load transformation functions.\n",
    "# min_max_scaler = fs.get_transformation_function(name=\"min_max_scaler\")\n",
    "# label_encoder = fs.get_transformation_function(name=\"label_encoder\")\n",
    "\n",
    "# # Map features to transformations.\n",
    "# transformation_functions = {\n",
    "#     \"total_fare\": min_max_scaler,\n",
    "#     \"distance\": min_max_scaler\n",
    "# }"
   ]
  },
  {
   "cell_type": "markdown",
   "metadata": {},
   "source": [
    "## <span style=\"color:#ff5f27;\">🔮 Feature View Creation</span>\n",
    "\n",
    "\n",
    "We start by selecting all the features we want to include for model training/inference.\n",
    "\n",
    "After we have made a query from desired features, we should make a corresponding `Feature View`.\n",
    "In order to do it we may use `fs.create_feature_view()`"
   ]
  },
  {
   "cell_type": "code",
   "execution_count": 6,
   "metadata": {},
   "outputs": [
    {
     "name": "stdout",
     "output_type": "stream",
     "text": [
      "Feature view created successfully, explore it at \n",
      "https://c.app.hopsworks.ai:443/p/164/fs/106/fv/nyc_taxi_fares_fv/version/1\n"
     ]
    }
   ],
   "source": [
    "nyc_fares_fv = fs.create_feature_view(\n",
    "    name='nyc_taxi_fares_fv',\n",
    "    query=fg_query,\n",
    "    labels=[\"total_fare\"]\n",
    "#     transformation_functions=transformation_functions\n",
    ")"
   ]
  },
  {
   "cell_type": "code",
   "execution_count": 7,
   "metadata": {},
   "outputs": [
    {
     "data": {
      "text/plain": [
       "1"
      ]
     },
     "execution_count": 7,
     "metadata": {},
     "output_type": "execute_result"
    }
   ],
   "source": [
    "nyc_fares_fv.version"
   ]
  },
  {
   "cell_type": "markdown",
   "metadata": {},
   "source": [
    "## <span style=\"color:#ff5f27;\">🏋️ Training Dataset Creation</span>\n",
    "    \n",
    "In Hopsworks training data is a query where the projection (set of features) is determined by the parent FeatureView with an optional snapshot on disk of the data returned by the query.\n",
    "\n",
    "Training Dataset may contain splits such as:\n",
    "\n",
    "    Training set - the subset of training data used to train a model.\n",
    "    Validation set - the subset of training data used to evaluate hparams when training a model\n",
    "    Test set - the holdout subset of training data used to evaluate a mode\n",
    "\n",
    "Training dataset is created using fs.create_train_validation_test_split() method."
   ]
  },
  {
   "cell_type": "code",
   "execution_count": 8,
   "metadata": {
    "scrolled": true
   },
   "outputs": [
    {
     "name": "stdout",
     "output_type": "stream",
     "text": [
      "Training dataset job started successfully, you can follow the progress at \n",
      "https://c.app.hopsworks.ai/p/164/jobs/named/nyc_taxi_fares_fv_1_1_create_fv_td_21082022220613/executions\n"
     ]
    },
    {
     "name": "stderr",
     "output_type": "stream",
     "text": [
      "VersionWarning: Incremented version to `1`.\n"
     ]
    },
    {
     "data": {
      "text/plain": [
       "(1, <hsfs.core.job.Job at 0x27a875d4940>)"
      ]
     },
     "execution_count": 8,
     "metadata": {},
     "output_type": "execute_result"
    }
   ],
   "source": [
    "nyc_fares_fv.create_training_data(\n",
    "    description='training_dataset',\n",
    "    data_format='csv'\n",
    ")"
   ]
  },
  {
   "cell_type": "code",
   "execution_count": 9,
   "metadata": {},
   "outputs": [],
   "source": [
    "X_train, y_train = nyc_fares_fv.get_training_data(\n",
    "    training_dataset_version=1\n",
    ")"
   ]
  },
  {
   "cell_type": "code",
   "execution_count": 10,
   "metadata": {},
   "outputs": [
    {
     "data": {
      "text/html": [
       "<div>\n",
       "<style scoped>\n",
       "    .dataframe tbody tr th:only-of-type {\n",
       "        vertical-align: middle;\n",
       "    }\n",
       "\n",
       "    .dataframe tbody tr th {\n",
       "        vertical-align: top;\n",
       "    }\n",
       "\n",
       "    .dataframe thead th {\n",
       "        text-align: right;\n",
       "    }\n",
       "</style>\n",
       "<table border=\"1\" class=\"dataframe\">\n",
       "  <thead>\n",
       "    <tr style=\"text-align: right;\">\n",
       "      <th></th>\n",
       "      <th>ride_id</th>\n",
       "      <th>passenger_count</th>\n",
       "      <th>distance</th>\n",
       "      <th>pickup_distance_to_jfk</th>\n",
       "      <th>dropoff_distance_to_jfk</th>\n",
       "      <th>pickup_distance_to_ewr</th>\n",
       "      <th>dropoff_distance_to_ewr</th>\n",
       "      <th>pickup_distance_to_lgr</th>\n",
       "      <th>dropoff_distance_to_lgr</th>\n",
       "      <th>year</th>\n",
       "      <th>weekday</th>\n",
       "      <th>hour</th>\n",
       "    </tr>\n",
       "  </thead>\n",
       "  <tbody>\n",
       "    <tr>\n",
       "      <th>0</th>\n",
       "      <td>66f60b61a4ae984a994d737065f83c03</td>\n",
       "      <td>3</td>\n",
       "      <td>70.853384</td>\n",
       "      <td>72.580038</td>\n",
       "      <td>64.264527</td>\n",
       "      <td>85.458988</td>\n",
       "      <td>56.538901</td>\n",
       "      <td>69.452502</td>\n",
       "      <td>53.724010</td>\n",
       "      <td>2020</td>\n",
       "      <td>5</td>\n",
       "      <td>18</td>\n",
       "    </tr>\n",
       "    <tr>\n",
       "      <th>1</th>\n",
       "      <td>4840373f85fc0f2f911d2e31c62be61b</td>\n",
       "      <td>1</td>\n",
       "      <td>64.143399</td>\n",
       "      <td>90.239768</td>\n",
       "      <td>60.102573</td>\n",
       "      <td>99.952927</td>\n",
       "      <td>55.192258</td>\n",
       "      <td>85.271827</td>\n",
       "      <td>49.848482</td>\n",
       "      <td>2020</td>\n",
       "      <td>0</td>\n",
       "      <td>10</td>\n",
       "    </tr>\n",
       "    <tr>\n",
       "      <th>2</th>\n",
       "      <td>b0c6e1e08aac265f6f6c87b8fa064a07</td>\n",
       "      <td>1</td>\n",
       "      <td>6.473236</td>\n",
       "      <td>84.384584</td>\n",
       "      <td>78.599394</td>\n",
       "      <td>76.526962</td>\n",
       "      <td>71.658514</td>\n",
       "      <td>73.892893</td>\n",
       "      <td>68.182775</td>\n",
       "      <td>2020</td>\n",
       "      <td>6</td>\n",
       "      <td>19</td>\n",
       "    </tr>\n",
       "    <tr>\n",
       "      <th>3</th>\n",
       "      <td>e28784c998070b652963f90ce7ad6065</td>\n",
       "      <td>3</td>\n",
       "      <td>24.765760</td>\n",
       "      <td>20.041152</td>\n",
       "      <td>5.761810</td>\n",
       "      <td>7.219601</td>\n",
       "      <td>26.545754</td>\n",
       "      <td>19.687615</td>\n",
       "      <td>15.768106</td>\n",
       "      <td>2020</td>\n",
       "      <td>2</td>\n",
       "      <td>3</td>\n",
       "    </tr>\n",
       "    <tr>\n",
       "      <th>4</th>\n",
       "      <td>f54397dcaa22b7dadc0c874adc8724be</td>\n",
       "      <td>3</td>\n",
       "      <td>65.633791</td>\n",
       "      <td>16.511973</td>\n",
       "      <td>73.189277</td>\n",
       "      <td>37.327924</td>\n",
       "      <td>82.939706</td>\n",
       "      <td>23.082094</td>\n",
       "      <td>68.141703</td>\n",
       "      <td>2020</td>\n",
       "      <td>3</td>\n",
       "      <td>2</td>\n",
       "    </tr>\n",
       "  </tbody>\n",
       "</table>\n",
       "</div>"
      ],
      "text/plain": [
       "                            ride_id  passenger_count   distance  \\\n",
       "0  66f60b61a4ae984a994d737065f83c03                3  70.853384   \n",
       "1  4840373f85fc0f2f911d2e31c62be61b                1  64.143399   \n",
       "2  b0c6e1e08aac265f6f6c87b8fa064a07                1   6.473236   \n",
       "3  e28784c998070b652963f90ce7ad6065                3  24.765760   \n",
       "4  f54397dcaa22b7dadc0c874adc8724be                3  65.633791   \n",
       "\n",
       "   pickup_distance_to_jfk  dropoff_distance_to_jfk  pickup_distance_to_ewr  \\\n",
       "0               72.580038                64.264527               85.458988   \n",
       "1               90.239768                60.102573               99.952927   \n",
       "2               84.384584                78.599394               76.526962   \n",
       "3               20.041152                 5.761810                7.219601   \n",
       "4               16.511973                73.189277               37.327924   \n",
       "\n",
       "   dropoff_distance_to_ewr  pickup_distance_to_lgr  dropoff_distance_to_lgr  \\\n",
       "0                56.538901               69.452502                53.724010   \n",
       "1                55.192258               85.271827                49.848482   \n",
       "2                71.658514               73.892893                68.182775   \n",
       "3                26.545754               19.687615                15.768106   \n",
       "4                82.939706               23.082094                68.141703   \n",
       "\n",
       "   year  weekday  hour  \n",
       "0  2020        5    18  \n",
       "1  2020        0    10  \n",
       "2  2020        6    19  \n",
       "3  2020        2     3  \n",
       "4  2020        3     2  "
      ]
     },
     "execution_count": 10,
     "metadata": {},
     "output_type": "execute_result"
    }
   ],
   "source": [
    "X_train.head(5)"
   ]
  },
  {
   "cell_type": "code",
   "execution_count": 11,
   "metadata": {},
   "outputs": [
    {
     "data": {
      "text/html": [
       "<div>\n",
       "<style scoped>\n",
       "    .dataframe tbody tr th:only-of-type {\n",
       "        vertical-align: middle;\n",
       "    }\n",
       "\n",
       "    .dataframe tbody tr th {\n",
       "        vertical-align: top;\n",
       "    }\n",
       "\n",
       "    .dataframe thead th {\n",
       "        text-align: right;\n",
       "    }\n",
       "</style>\n",
       "<table border=\"1\" class=\"dataframe\">\n",
       "  <thead>\n",
       "    <tr style=\"text-align: right;\">\n",
       "      <th></th>\n",
       "      <th>total_fare</th>\n",
       "    </tr>\n",
       "  </thead>\n",
       "  <tbody>\n",
       "    <tr>\n",
       "      <th>0</th>\n",
       "      <td>161.0</td>\n",
       "    </tr>\n",
       "    <tr>\n",
       "      <th>1</th>\n",
       "      <td>93.0</td>\n",
       "    </tr>\n",
       "    <tr>\n",
       "      <th>2</th>\n",
       "      <td>216.0</td>\n",
       "    </tr>\n",
       "    <tr>\n",
       "      <th>3</th>\n",
       "      <td>54.0</td>\n",
       "    </tr>\n",
       "    <tr>\n",
       "      <th>4</th>\n",
       "      <td>202.0</td>\n",
       "    </tr>\n",
       "  </tbody>\n",
       "</table>\n",
       "</div>"
      ],
      "text/plain": [
       "   total_fare\n",
       "0       161.0\n",
       "1        93.0\n",
       "2       216.0\n",
       "3        54.0\n",
       "4       202.0"
      ]
     },
     "execution_count": 11,
     "metadata": {},
     "output_type": "execute_result"
    }
   ],
   "source": [
    "y_train.head(5)"
   ]
  },
  {
   "cell_type": "code",
   "execution_count": 12,
   "metadata": {},
   "outputs": [
    {
     "name": "stdout",
     "output_type": "stream",
     "text": [
      "Training dataset job started successfully, you can follow the progress at \n",
      "https://c.app.hopsworks.ai/p/164/jobs/named/nyc_taxi_fares_fv_1_2_create_fv_td_21082022220704/executions\n"
     ]
    },
    {
     "name": "stderr",
     "output_type": "stream",
     "text": [
      "VersionWarning: Incremented version to `2`.\n"
     ]
    },
    {
     "data": {
      "text/plain": [
       "(2, <hsfs.core.job.Job at 0x27a875f8190>)"
      ]
     },
     "execution_count": 12,
     "metadata": {},
     "output_type": "execute_result"
    }
   ],
   "source": [
    "nyc_fares_fv.create_train_test_split(\n",
    "    test_size=0.2 # here we can define the test dataset size\n",
    ")"
   ]
  },
  {
   "cell_type": "code",
   "execution_count": 13,
   "metadata": {},
   "outputs": [],
   "source": [
    "X_train, y_train, X_test, y_test = nyc_fares_fv.get_train_test_split(\n",
    "    training_dataset_version=2\n",
    ")"
   ]
  },
  {
   "cell_type": "code",
   "execution_count": 14,
   "metadata": {},
   "outputs": [
    {
     "data": {
      "text/html": [
       "<div>\n",
       "<style scoped>\n",
       "    .dataframe tbody tr th:only-of-type {\n",
       "        vertical-align: middle;\n",
       "    }\n",
       "\n",
       "    .dataframe tbody tr th {\n",
       "        vertical-align: top;\n",
       "    }\n",
       "\n",
       "    .dataframe thead th {\n",
       "        text-align: right;\n",
       "    }\n",
       "</style>\n",
       "<table border=\"1\" class=\"dataframe\">\n",
       "  <thead>\n",
       "    <tr style=\"text-align: right;\">\n",
       "      <th></th>\n",
       "      <th>ride_id</th>\n",
       "      <th>passenger_count</th>\n",
       "      <th>distance</th>\n",
       "      <th>pickup_distance_to_jfk</th>\n",
       "      <th>dropoff_distance_to_jfk</th>\n",
       "      <th>pickup_distance_to_ewr</th>\n",
       "      <th>dropoff_distance_to_ewr</th>\n",
       "      <th>pickup_distance_to_lgr</th>\n",
       "      <th>dropoff_distance_to_lgr</th>\n",
       "      <th>year</th>\n",
       "      <th>weekday</th>\n",
       "      <th>hour</th>\n",
       "    </tr>\n",
       "  </thead>\n",
       "  <tbody>\n",
       "    <tr>\n",
       "      <th>0</th>\n",
       "      <td>8a5342befe03b0ac93b8bc46c7c550cd</td>\n",
       "      <td>2</td>\n",
       "      <td>46.651897</td>\n",
       "      <td>68.894517</td>\n",
       "      <td>22.328876</td>\n",
       "      <td>63.204621</td>\n",
       "      <td>24.840820</td>\n",
       "      <td>58.588932</td>\n",
       "      <td>12.574749</td>\n",
       "      <td>2020</td>\n",
       "      <td>5</td>\n",
       "      <td>20</td>\n",
       "    </tr>\n",
       "    <tr>\n",
       "      <th>1</th>\n",
       "      <td>f9dcfae1d876eaba696f1705b0ed7512</td>\n",
       "      <td>4</td>\n",
       "      <td>50.638172</td>\n",
       "      <td>67.242353</td>\n",
       "      <td>61.848181</td>\n",
       "      <td>61.849265</td>\n",
       "      <td>72.472428</td>\n",
       "      <td>56.968283</td>\n",
       "      <td>57.212648</td>\n",
       "      <td>2020</td>\n",
       "      <td>3</td>\n",
       "      <td>17</td>\n",
       "    </tr>\n",
       "    <tr>\n",
       "      <th>2</th>\n",
       "      <td>5bec1db01aa5f469d50802adcf2fc9af</td>\n",
       "      <td>1</td>\n",
       "      <td>8.892462</td>\n",
       "      <td>66.547103</td>\n",
       "      <td>72.079062</td>\n",
       "      <td>74.946832</td>\n",
       "      <td>78.410927</td>\n",
       "      <td>60.720976</td>\n",
       "      <td>65.306347</td>\n",
       "      <td>2020</td>\n",
       "      <td>4</td>\n",
       "      <td>22</td>\n",
       "    </tr>\n",
       "    <tr>\n",
       "      <th>3</th>\n",
       "      <td>91186f31731b1833371733f244ef1d6f</td>\n",
       "      <td>2</td>\n",
       "      <td>44.316100</td>\n",
       "      <td>45.714030</td>\n",
       "      <td>21.584561</td>\n",
       "      <td>64.398971</td>\n",
       "      <td>25.812269</td>\n",
       "      <td>47.735653</td>\n",
       "      <td>12.377128</td>\n",
       "      <td>2020</td>\n",
       "      <td>1</td>\n",
       "      <td>10</td>\n",
       "    </tr>\n",
       "    <tr>\n",
       "      <th>4</th>\n",
       "      <td>68495122018e72dee50ede14b0059272</td>\n",
       "      <td>4</td>\n",
       "      <td>50.761079</td>\n",
       "      <td>18.369557</td>\n",
       "      <td>56.794849</td>\n",
       "      <td>33.132065</td>\n",
       "      <td>47.036816</td>\n",
       "      <td>16.280441</td>\n",
       "      <td>46.164399</td>\n",
       "      <td>2020</td>\n",
       "      <td>3</td>\n",
       "      <td>12</td>\n",
       "    </tr>\n",
       "  </tbody>\n",
       "</table>\n",
       "</div>"
      ],
      "text/plain": [
       "                            ride_id  passenger_count   distance  \\\n",
       "0  8a5342befe03b0ac93b8bc46c7c550cd                2  46.651897   \n",
       "1  f9dcfae1d876eaba696f1705b0ed7512                4  50.638172   \n",
       "2  5bec1db01aa5f469d50802adcf2fc9af                1   8.892462   \n",
       "3  91186f31731b1833371733f244ef1d6f                2  44.316100   \n",
       "4  68495122018e72dee50ede14b0059272                4  50.761079   \n",
       "\n",
       "   pickup_distance_to_jfk  dropoff_distance_to_jfk  pickup_distance_to_ewr  \\\n",
       "0               68.894517                22.328876               63.204621   \n",
       "1               67.242353                61.848181               61.849265   \n",
       "2               66.547103                72.079062               74.946832   \n",
       "3               45.714030                21.584561               64.398971   \n",
       "4               18.369557                56.794849               33.132065   \n",
       "\n",
       "   dropoff_distance_to_ewr  pickup_distance_to_lgr  dropoff_distance_to_lgr  \\\n",
       "0                24.840820               58.588932                12.574749   \n",
       "1                72.472428               56.968283                57.212648   \n",
       "2                78.410927               60.720976                65.306347   \n",
       "3                25.812269               47.735653                12.377128   \n",
       "4                47.036816               16.280441                46.164399   \n",
       "\n",
       "   year  weekday  hour  \n",
       "0  2020        5    20  \n",
       "1  2020        3    17  \n",
       "2  2020        4    22  \n",
       "3  2020        1    10  \n",
       "4  2020        3    12  "
      ]
     },
     "execution_count": 14,
     "metadata": {},
     "output_type": "execute_result"
    }
   ],
   "source": [
    "X_test.head(5)"
   ]
  },
  {
   "cell_type": "code",
   "execution_count": 15,
   "metadata": {},
   "outputs": [
    {
     "data": {
      "text/html": [
       "<div>\n",
       "<style scoped>\n",
       "    .dataframe tbody tr th:only-of-type {\n",
       "        vertical-align: middle;\n",
       "    }\n",
       "\n",
       "    .dataframe tbody tr th {\n",
       "        vertical-align: top;\n",
       "    }\n",
       "\n",
       "    .dataframe thead th {\n",
       "        text-align: right;\n",
       "    }\n",
       "</style>\n",
       "<table border=\"1\" class=\"dataframe\">\n",
       "  <thead>\n",
       "    <tr style=\"text-align: right;\">\n",
       "      <th></th>\n",
       "      <th>total_fare</th>\n",
       "    </tr>\n",
       "  </thead>\n",
       "  <tbody>\n",
       "    <tr>\n",
       "      <th>0</th>\n",
       "      <td>30.0</td>\n",
       "    </tr>\n",
       "    <tr>\n",
       "      <th>1</th>\n",
       "      <td>32.0</td>\n",
       "    </tr>\n",
       "    <tr>\n",
       "      <th>2</th>\n",
       "      <td>37.0</td>\n",
       "    </tr>\n",
       "    <tr>\n",
       "      <th>3</th>\n",
       "      <td>40.0</td>\n",
       "    </tr>\n",
       "    <tr>\n",
       "      <th>4</th>\n",
       "      <td>51.0</td>\n",
       "    </tr>\n",
       "  </tbody>\n",
       "</table>\n",
       "</div>"
      ],
      "text/plain": [
       "   total_fare\n",
       "0        30.0\n",
       "1        32.0\n",
       "2        37.0\n",
       "3        40.0\n",
       "4        51.0"
      ]
     },
     "execution_count": 15,
     "metadata": {},
     "output_type": "execute_result"
    }
   ],
   "source": [
    "y_test.head(5)"
   ]
  },
  {
   "cell_type": "markdown",
   "metadata": {},
   "source": [
    "## <span style=\"color:#ff5f27;\">⏭️ **Next:** Part 03 </span>\n",
    "\n",
    "In the next notebook, we will train a model on the dataset we created in this notebook."
   ]
  }
 ],
 "metadata": {
  "interpreter": {
   "hash": "31f2aee4e71d21fbe5cf8b01ff0e069b9275f58929596ceb00d14d90e3e16cd6"
  },
  "kernelspec": {
   "display_name": "Python 3 (ipykernel)",
   "language": "python",
   "name": "python3"
  },
  "language_info": {
   "codemirror_mode": {
    "name": "ipython",
    "version": 3
   },
   "file_extension": ".py",
   "mimetype": "text/x-python",
   "name": "python",
   "nbconvert_exporter": "python",
   "pygments_lexer": "ipython3",
   "version": "3.8.0"
  }
 },
 "nbformat": 4,
 "nbformat_minor": 4
}
