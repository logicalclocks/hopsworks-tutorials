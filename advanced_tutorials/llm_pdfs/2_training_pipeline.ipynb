{
 "cells": [
  {
   "cell_type": "markdown",
   "id": "cc6015d0",
   "metadata": {},
   "source": [
    "## <span style=\"color:#ff5f27\">📝 Imports </span>"
   ]
  },
  {
   "cell_type": "code",
   "execution_count": null,
   "id": "9ba30ecb",
   "metadata": {},
   "outputs": [],
   "source": [
    "import torch\n",
    "from datasets import Dataset\n",
    "from transformers import AutoTokenizer, AutoModelForCausalLM, BitsAndBytesConfig\n",
    "from peft import LoraConfig\n",
    "from transformers import TrainingArguments\n",
    "from trl import SFTTrainer\n",
    "\n",
    "from functions.prompt_engineering import generate_prompt\n",
    "import config"
   ]
  },
  {
   "cell_type": "markdown",
   "id": "1270e5f8",
   "metadata": {},
   "source": [
    "## <span style=\"color:#ff5f27;\"> 🔮 Connecting to Hopsworks Feature Store </span>"
   ]
  },
  {
   "cell_type": "code",
   "execution_count": null,
   "id": "e517b1cd",
   "metadata": {},
   "outputs": [],
   "source": [
    "import hopsworks\n",
    "\n",
    "project = hopsworks.login()\n",
    "\n",
    "fs = project.get_feature_store() \n",
    "mr = project.get_model_registry()"
   ]
  },
  {
   "cell_type": "markdown",
   "id": "86043802",
   "metadata": {},
   "source": [
    "## <span style=\"color:#ff5f27;\">🪝 Feature View Retrieval </span>"
   ]
  },
  {
   "cell_type": "code",
   "execution_count": null,
   "id": "4007db72",
   "metadata": {},
   "outputs": [],
   "source": [
    "# Retrieve the 'cqa' feature view\n",
    "feature_view = fs.get_feature_view(\n",
    "    name='cqa',\n",
    "    version=1,\n",
    ")"
   ]
  },
  {
   "cell_type": "code",
   "execution_count": null,
   "id": "83b00e9e",
   "metadata": {},
   "outputs": [],
   "source": [
    "# Initialize batch scoring for the feature view\n",
    "feature_view.init_batch_scoring()\n",
    "\n",
    "# Get batch data from the feature view\n",
    "data = feature_view.get_batch_data()\n",
    "\n",
    "# Display the first three rows of the batch data\n",
    "data.head(3)"
   ]
  },
  {
   "cell_type": "markdown",
   "id": "64dab547",
   "metadata": {},
   "source": [
    "## <span style=\"color:#ff5f27;\">🗄️ Dataset Creation </span>"
   ]
  },
  {
   "cell_type": "code",
   "execution_count": null,
   "id": "594f4e1a",
   "metadata": {},
   "outputs": [],
   "source": [
    "# Generate prompts for each record in the DataFrame using context, questions, and responses\n",
    "prompts = data.apply(\n",
    "    lambda record: generate_prompt(record['context'], record['questions']) + f'\\n### RESPONSE:\\n{record[\"responses\"]}', \n",
    "    axis=1,\n",
    ").tolist()"
   ]
  },
  {
   "cell_type": "code",
   "execution_count": null,
   "id": "6bd1e493",
   "metadata": {},
   "outputs": [],
   "source": [
    "# Create a dataset from a dictionary with a single column named \"text\" containing prompts\n",
    "dataset = Dataset.from_dict({\n",
    "    \"text\": prompts,\n",
    "})"
   ]
  },
  {
   "cell_type": "code",
   "execution_count": null,
   "id": "0756b8e7",
   "metadata": {},
   "outputs": [],
   "source": [
    "print(dataset[10]['text'])"
   ]
  },
  {
   "cell_type": "markdown",
   "id": "bc161e58",
   "metadata": {},
   "source": [
    "## <span style=\"color:#ff5f27\">⬇️ Model Loading </span>"
   ]
  },
  {
   "cell_type": "code",
   "execution_count": null,
   "id": "62477b0e",
   "metadata": {},
   "outputs": [],
   "source": [
    "# Load the tokenizer for Mistral-7B-Instruct model\n",
    "tokenizer = AutoTokenizer.from_pretrained(\n",
    "    config.MODEL_ID,\n",
    ")\n",
    "\n",
    "# Set the pad token to the unknown token to handle padding\n",
    "tokenizer.pad_token = tokenizer.unk_token\n",
    "\n",
    "# Set the padding side to \"right\" to prevent warnings during tokenization\n",
    "tokenizer.padding_side = \"right\""
   ]
  },
  {
   "cell_type": "code",
   "execution_count": null,
   "id": "0153d320",
   "metadata": {},
   "outputs": [],
   "source": [
    "# BitsAndBytesConfig int-4 config\n",
    "bnb_config = BitsAndBytesConfig(\n",
    "    load_in_4bit=True, \n",
    "    bnb_4bit_use_double_quant=True, \n",
    "    bnb_4bit_quant_type=\"nf4\", \n",
    "    bnb_4bit_compute_dtype=torch.bfloat16,\n",
    ")"
   ]
  },
  {
   "cell_type": "code",
   "execution_count": null,
   "id": "f8a4d9ee",
   "metadata": {},
   "outputs": [],
   "source": [
    "# Load the Mistral-7B-Instruct model with quantization configuration\n",
    "model = AutoModelForCausalLM.from_pretrained(\n",
    "    config.MODEL_ID,\n",
    "    device_map=\"auto\",\n",
    "    quantization_config=bnb_config,\n",
    ")\n",
    "\n",
    "# Configure the pad token ID in the model to match the tokenizer's pad token ID\n",
    "model.config.pad_token_id = tokenizer.pad_token_id"
   ]
  },
  {
   "cell_type": "markdown",
   "id": "93c7ba90",
   "metadata": {},
   "source": [
    "## <span style=\"color:#ff5f27\">⚙️ Configuration </span>"
   ]
  },
  {
   "cell_type": "code",
   "execution_count": null,
   "id": "18d24668",
   "metadata": {},
   "outputs": [],
   "source": [
    "peft_config = LoraConfig(\n",
    "        lora_alpha=64,\n",
    "        lora_dropout=0.1,\n",
    "        r=32,\n",
    "        bias=\"none\",\n",
    "        task_type=\"CAUSAL_LM\", \n",
    "        target_modules=[\n",
    "            \"q_proj\",\n",
    "            \"k_proj\",\n",
    "            \"v_proj\",\n",
    "            \"o_proj\",\n",
    "            \"gate_proj\",\n",
    "            \"up_proj\",\n",
    "            \"down_proj\",\n",
    "            \"lm_head\",\n",
    "        ],\n",
    "    )"
   ]
  },
  {
   "cell_type": "code",
   "execution_count": null,
   "id": "ebade183",
   "metadata": {},
   "outputs": [],
   "source": [
    "training_arguments = TrainingArguments(\n",
    "    output_dir=\"mistral7b_finetuned\",       # directory to save and repository id\n",
    "    num_train_epochs=3,                     # number of training epochs\n",
    "    per_device_train_batch_size=3,          # batch size per device during training\n",
    "    gradient_accumulation_steps=2,          # number of steps before performing a backward/update pass\n",
    "    gradient_checkpointing=True,            # use gradient checkpointing to save memory\n",
    "    optim=\"adamw_torch_fused\",              # use fused adamw optimizer\n",
    "    logging_steps=10,                       # log every 10 steps\n",
    "    save_strategy=\"epoch\",                  # save checkpoint every epoch\n",
    "    learning_rate=2e-4,                     # learning rate, based on QLoRA paper\n",
    "    bf16=True,                              # use bfloat16 precision\n",
    "    tf32=True,                              # use tf32 precision\n",
    "    max_grad_norm=0.3,                      # max gradient norm based on QLoRA paper\n",
    "    warmup_ratio=0.03,                      # warmup ratio based on QLoRA paper\n",
    "    lr_scheduler_type=\"constant\",           # use constant learning rate scheduler\n",
    ")"
   ]
  },
  {
   "cell_type": "markdown",
   "id": "36e79a43",
   "metadata": {},
   "source": [
    "## <span style=\"color:#ff5f27\">🏃🏻‍♂️ Training</span>"
   ]
  },
  {
   "cell_type": "code",
   "execution_count": null,
   "id": "13af595e",
   "metadata": {},
   "outputs": [],
   "source": [
    "# Create the Supervised Fine-tuning Trainer\n",
    "trainer = SFTTrainer(\n",
    "    model=model,\n",
    "    train_dataset=dataset,\n",
    "    peft_config=peft_config,\n",
    "    max_seq_length=4096,\n",
    "    tokenizer=tokenizer,\n",
    "    args=training_arguments,\n",
    "    dataset_text_field='text',\n",
    ")"
   ]
  },
  {
   "cell_type": "code",
   "execution_count": null,
   "id": "e2c9a416",
   "metadata": {},
   "outputs": [],
   "source": [
    "# Train the model\n",
    "trainer.train()"
   ]
  },
  {
   "cell_type": "markdown",
   "id": "85e840c2",
   "metadata": {},
   "source": [
    "## <span style=\"color:#ff5f27\">💾 Saving Model</span>"
   ]
  },
  {
   "cell_type": "code",
   "execution_count": null,
   "id": "75940ca2",
   "metadata": {},
   "outputs": [],
   "source": [
    "# Save the trained model\n",
    "trainer.save_model()"
   ]
  },
  {
   "cell_type": "markdown",
   "id": "bfaae161",
   "metadata": {},
   "source": [
    "## <span style=\"color:#ff5f27\">🗄️ Model Registry</span>"
   ]
  },
  {
   "cell_type": "code",
   "execution_count": null,
   "id": "2ff14642",
   "metadata": {},
   "outputs": [],
   "source": [
    "# Create a Python model in the model registry\n",
    "model_llm = mr.python.create_model(\n",
    "    name=\"mistral_model\", \n",
    "    description=\"Mistral Fine-tuned Model\",\n",
    ")"
   ]
  },
  {
   "cell_type": "code",
   "execution_count": null,
   "id": "fbce3ba9",
   "metadata": {},
   "outputs": [],
   "source": [
    "# Save the model directory with the fine-tuned model to the model registry\n",
    "model_llm.save(training_arguments.output_dir)"
   ]
  },
  {
   "cell_type": "markdown",
   "id": "ecc9b1d0",
   "metadata": {},
   "source": [
    "---"
   ]
  }
 ],
 "metadata": {
  "kernelspec": {
   "display_name": "Python 3 (ipykernel)",
   "language": "python",
   "name": "python3"
  },
  "language_info": {
   "codemirror_mode": {
    "name": "ipython",
    "version": 3
   },
   "file_extension": ".py",
   "mimetype": "text/x-python",
   "name": "python",
   "nbconvert_exporter": "python",
   "pygments_lexer": "ipython3",
   "version": "3.11.7"
  }
 },
 "nbformat": 4,
 "nbformat_minor": 5
}
