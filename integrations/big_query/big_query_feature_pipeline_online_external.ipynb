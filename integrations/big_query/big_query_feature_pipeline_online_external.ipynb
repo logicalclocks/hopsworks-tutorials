{
 "cells": [
  {
   "cell_type": "markdown",
   "id": "0995f4d0",
   "metadata": {},
   "source": [
    "# <span style='color:#ff5f27'> 👨🏻‍🏫 BigQuery Online External Feature Group Creation</span>\n",
    "\n",
    "Follow this [guide](https://docs.hopsworks.ai/latest/user_guides/fs/storage_connector/creation/bigquery/) to set up a connection to BigQuery.\n",
    "\n",
    "In addition, you can read about [External Feature Groups](https://docs.hopsworks.ai/latest/user_guides/fs/feature_group/create_external/)."
   ]
  },
  {
   "cell_type": "markdown",
   "id": "a3c6ce30",
   "metadata": {},
   "source": [
    "## <span style='color:#ff5f27'> 🔮 Retrieve a Connector\n",
    "\n",
    "Firstly, connect to feature store and then retrieve your **BigQuery storage connector**.\n",
    "\n",
    "Make sure that your storage connector has the **BigQuery Query** read options.\n",
    "\n",
    "![big_query](images/big_query.png)\n",
    "\n",
    "Replace `my_storage_connector_name` with your BigQuery storage connector name."
   ]
  },
  {
   "cell_type": "code",
   "execution_count": null,
   "id": "087b9e69",
   "metadata": {},
   "outputs": [],
   "source": [
    "import hopsworks\n",
    "\n",
    "# Connect to the Hopsworks feature store\n",
    "project = hopsworks.login()\n",
    "\n",
    "# Retrieve the feature store\n",
    "feature_store = project.get_feature_store()\n",
    "\n",
    "# Retrieve storage connector\n",
    "connector = feature_store.get_storage_connector('my_storage_connector_name')"
   ]
  },
  {
   "cell_type": "markdown",
   "id": "7c65e96c",
   "metadata": {},
   "source": [
    "## <span style='color:#ff5f27'> 📝 Read Data </span>\n",
    "\n",
    "You can retrieve your data by passing a SQL query as a string into **query** parameter of the `.read()` method.\n",
    "\n",
    "To indicate what data you need, follow the next table format:\n",
    "\n",
    "`{dataset_name}.{table_name}`"
   ]
  },
  {
   "cell_type": "code",
   "execution_count": null,
   "id": "1d8dbb32",
   "metadata": {},
   "outputs": [],
   "source": [
    "query_str = \"SELECT * FROM {dataset_name}.{table_name}\"\n",
    "\n",
    "# read results from a SQL \n",
    "df = connector.read(query=query_str)    "
   ]
  },
  {
   "cell_type": "markdown",
   "id": "ad9538e4",
   "metadata": {},
   "source": [
    "> **.read()** method returns a PySpark DataFrame."
   ]
  },
  {
   "cell_type": "code",
   "execution_count": null,
   "id": "8d433f3d",
   "metadata": {},
   "outputs": [],
   "source": [
    "type(df)"
   ]
  },
  {
   "cell_type": "code",
   "execution_count": null,
   "id": "66b9425f",
   "metadata": {},
   "outputs": [],
   "source": [
    "df.show(5)"
   ]
  },
  {
   "cell_type": "markdown",
   "id": "34f578a3",
   "metadata": {},
   "source": [
    "## <span style='color:#ff5f27'> ⚙️ Online Feature Group Creation</span>\n",
    "\n",
    "To create an **Online External Feature Group**, use `feature_store.create_external_feature_group()` method.\n",
    "\n",
    "Provide the parameters for your query and the BQ storage connector:\n",
    "- `query` - your SQL query string. \n",
    "- `storage_connector` - your **BigQuery Storage Connector**.\n",
    "- `online_enabled` - set to True."
   ]
  },
  {
   "cell_type": "code",
   "execution_count": null,
   "id": "12d85c5a",
   "metadata": {},
   "outputs": [],
   "source": [
    "my_external_fg = feature_store.create_external_feature_group(\n",
    "    name=\"name_external_fg\",\n",
    "    version=1,\n",
    "    description=\"Description of the Online External Big Query Table\",\n",
    "    primary_key=['pk1_name','pk2_name'],\n",
    "    event_time='event_time_col_name',\n",
    "    query=query_str,\n",
    "    storage_connector=connector,\n",
    "    online_enabled=True\n",
    ")"
   ]
  },
  {
   "cell_type": "markdown",
   "id": "770f38bd",
   "metadata": {},
   "source": [
    "Don't forget to register a feature group metadata object in Hopsworks!"
   ]
  },
  {
   "cell_type": "code",
   "execution_count": null,
   "id": "e9b0bfee",
   "metadata": {},
   "outputs": [],
   "source": [
    "my_external_fg.save()"
   ]
  },
  {
   "cell_type": "markdown",
   "id": "e2b87a47",
   "metadata": {},
   "source": [
    "Now, you should be able to see your Online External Feature Group for the BQ table in the Hopsworks UI.\n",
    "\n",
    "![BQ_table](images/big_query_table.png)"
   ]
  },
  {
   "cell_type": "markdown",
   "id": "3ec001d2",
   "metadata": {},
   "source": [
    "---"
   ]
  },
  {
   "cell_type": "markdown",
   "id": "5b027e8c",
   "metadata": {},
   "source": [
    "## <span style='color:#ff5f27'> ⬇️ Insert to online storage</span>\n",
    "\n",
    "You can enable online storage for external feature groups, however, the sync from the external storage to Hopsworks online storage needs to be done manually, so you need to acomplish the next steps:\n",
    "- Filter data to sync to online.\n",
    "- Read from external storage.\n",
    "- Insert to online storage.\n",
    "\n",
    "Replace `column_name` and `filter_value` with required **column name** and a **value** by which you will filter."
   ]
  },
  {
   "cell_type": "code",
   "execution_count": null,
   "id": "f5396afc",
   "metadata": {},
   "outputs": [],
   "source": [
    "column_name = 'column_name'\n",
    "filter_value = 'filter_value'"
   ]
  },
  {
   "cell_type": "code",
   "execution_count": null,
   "id": "615a9cca",
   "metadata": {},
   "outputs": [],
   "source": [
    "df = my_external_fg.filter(my_external_fg[column_name] == filter_value).read()\n",
    "\n",
    "df.show(1)"
   ]
  },
  {
   "cell_type": "markdown",
   "id": "65c12d14",
   "metadata": {},
   "source": [
    "Insert filtered data to online storage in order to be able to call `.get_feature_vector()` method."
   ]
  },
  {
   "cell_type": "code",
   "execution_count": null,
   "id": "ff50caf0",
   "metadata": {},
   "outputs": [],
   "source": [
    "my_external_fg.insert(df, wait=True)"
   ]
  },
  {
   "cell_type": "markdown",
   "id": "1d514bd8",
   "metadata": {},
   "source": [
    "## <span style='color:#ff5f27'> ⚙️ Feature View Creation</span>"
   ]
  },
  {
   "cell_type": "code",
   "execution_count": null,
   "id": "5050171e",
   "metadata": {},
   "outputs": [],
   "source": [
    "query = my_external_fg.select_all()"
   ]
  },
  {
   "cell_type": "code",
   "execution_count": null,
   "id": "49465bfe",
   "metadata": {},
   "outputs": [],
   "source": [
    "feature_view = feature_store.get_or_create_feature_view(\n",
    "    name='my_feature_view_name',\n",
    "    version=1,\n",
    "    query=query\n",
    ")"
   ]
  },
  {
   "cell_type": "code",
   "execution_count": null,
   "id": "7d46b866",
   "metadata": {},
   "outputs": [],
   "source": [
    "vector = feature_view.get_feature_vector(\n",
    "    entry = {\"pk1_name\": 1, \"pk2_name\": 2}\n",
    ")\n",
    "vector"
   ]
  },
  {
   "cell_type": "markdown",
   "id": "c4bbe1f2",
   "metadata": {},
   "source": [
    "---"
   ]
  }
 ],
 "metadata": {
  "kernelspec": {
   "display_name": "PySpark",
   "language": "python",
   "name": "pysparkkernel"
  },
  "language_info": {
   "codemirror_mode": {
    "name": "python",
    "version": 3
   },
   "mimetype": "text/x-python",
   "name": "pyspark",
   "pygments_lexer": "python3"
  }
 },
 "nbformat": 4,
 "nbformat_minor": 5
}
