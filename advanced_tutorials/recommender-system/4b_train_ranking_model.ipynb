{
 "cells": [
  {
   "cell_type": "markdown",
   "metadata": {},
   "source": [
    "## <span style=\"color:#ff5f27\">👨🏻‍🏫 Train Ranking Model </span>\n",
    "\n",
    "In this notebook, we will train a ranking model using gradient boosted trees. "
   ]
  },
  {
   "cell_type": "markdown",
   "metadata": {},
   "source": [
    "## <span style=\"color:#ff5f27\">📝 Imports </span>"
   ]
  },
  {
   "cell_type": "code",
   "execution_count": null,
   "metadata": {},
   "outputs": [],
   "source": [
    "import pandas as pd\n",
    "from catboost import CatBoostClassifier, Pool\n",
    "from sklearn.metrics import classification_report, precision_recall_fscore_support\n",
    "import joblib"
   ]
  },
  {
   "cell_type": "markdown",
   "metadata": {},
   "source": [
    "## <span style=\"color:#ff5f27\">🔮 Connect to Hopsworks Feature Store </span>"
   ]
  },
  {
   "cell_type": "code",
   "execution_count": null,
   "metadata": {},
   "outputs": [],
   "source": [
    "import hopsworks\n",
    "\n",
    "project = hopsworks.login()\n",
    "\n",
    "fs = project.get_feature_store()"
   ]
  },
  {
   "cell_type": "code",
   "execution_count": null,
   "metadata": {},
   "outputs": [],
   "source": [
    "ranking_train_fv = fs.get_feature_view(\n",
    "    name='ranking_train',\n",
    "    version=1,\n",
    ")\n",
    "ranking_val_fv = fs.get_feature_view(\n",
    "    name='ranking_val',\n",
    "    version=1,\n",
    ")"
   ]
  },
  {
   "cell_type": "markdown",
   "metadata": {},
   "source": [
    "## <span style=\"color:#ff5f27\">🗄️ Data loading </span>"
   ]
  },
  {
   "cell_type": "code",
   "execution_count": null,
   "metadata": {},
   "outputs": [],
   "source": [
    "X_train = ranking_train_fv.get_batch_data()\n",
    "X_val = ranking_val_fv.get_batch_data()\n",
    "\n",
    "y_train = X_train.pop(\"label\")\n",
    "y_val = X_val.pop(\"label\")\n",
    "\n",
    "X_train.head(3)"
   ]
  },
  {
   "cell_type": "markdown",
   "metadata": {},
   "source": [
    "## <span style=\"color:#ff5f27\">🏃🏻‍♂️ Model Training </span>\n",
    "\n",
    "Let's train a model."
   ]
  },
  {
   "cell_type": "code",
   "execution_count": null,
   "metadata": {
    "tags": []
   },
   "outputs": [],
   "source": [
    "cat_features = list(\n",
    "    X_train.select_dtypes(include=['string', 'object']).columns\n",
    ")\n",
    "\n",
    "pool_train = Pool(X_train, y_train, cat_features=cat_features)\n",
    "pool_val = Pool(X_val, y_val, cat_features=cat_features)\n",
    "\n",
    "model = CatBoostClassifier(\n",
    "    learning_rate=0.2,\n",
    "    iterations=100,\n",
    "    depth=10,\n",
    "    scale_pos_weight=10,\n",
    "    early_stopping_rounds=5,\n",
    "    use_best_model=True,\n",
    ")\n",
    "\n",
    "model.fit(pool_train, eval_set=pool_val)"
   ]
  },
  {
   "cell_type": "markdown",
   "metadata": {},
   "source": [
    "## <span style=\"color:#ff5f27\">👮🏻‍♂️ Model Validation </span>\n",
    "\n",
    "Next, we'll evaluate how well the model performs on the validation data."
   ]
  },
  {
   "cell_type": "code",
   "execution_count": null,
   "metadata": {},
   "outputs": [],
   "source": [
    "preds = model.predict(pool_val)\n",
    "\n",
    "precision, recall, fscore, _ = precision_recall_fscore_support(y_val, preds, average=\"binary\")\n",
    "\n",
    "metrics = {\n",
    "    \"precision\" : precision,\n",
    "    \"recall\" : recall,\n",
    "    \"fscore\" : fscore,\n",
    "}\n",
    "print(classification_report(y_val, preds))"
   ]
  },
  {
   "cell_type": "markdown",
   "metadata": {},
   "source": [
    "It can be seen that the model has a low F1-score on the positive class (higher is better). The performance could potentially be improved by adding more features to the dataset, e.g. image embeddings.\n",
    "\n",
    "Let's see which features our model considers important."
   ]
  },
  {
   "cell_type": "code",
   "execution_count": null,
   "metadata": {},
   "outputs": [],
   "source": [
    "feat_to_score = {\n",
    "    feature: score \n",
    "    for feature, score \n",
    "    in zip(\n",
    "        X_train.columns, \n",
    "        model.feature_importances_,\n",
    "    )\n",
    "}\n",
    "\n",
    "feat_to_score = dict(\n",
    "    sorted(\n",
    "        feat_to_score.items(),\n",
    "        key=lambda item: item[1],\n",
    "        reverse=True,\n",
    "    )\n",
    ")\n",
    "feat_to_score"
   ]
  },
  {
   "cell_type": "markdown",
   "metadata": {},
   "source": [
    "It can be seen that the model places high importance on user and item embedding features. Consequently, better trained embeddings could yield a better ranking model.\n",
    "\n",
    "Finally, we'll save our model."
   ]
  },
  {
   "cell_type": "code",
   "execution_count": null,
   "metadata": {},
   "outputs": [],
   "source": [
    "joblib.dump(model, 'ranking_model.pkl')"
   ]
  },
  {
   "cell_type": "markdown",
   "metadata": {},
   "source": [
    "### <span style=\"color:#ff5f27\">💾  Upload Model to Model Registry </span>\n",
    "\n",
    "We'll upload the model to the Hopsworks Model Registry."
   ]
  },
  {
   "cell_type": "code",
   "execution_count": null,
   "metadata": {},
   "outputs": [],
   "source": [
    "# connect to Hopsworks Model Registry\n",
    "mr = project.get_model_registry()"
   ]
  },
  {
   "cell_type": "code",
   "execution_count": null,
   "metadata": {},
   "outputs": [],
   "source": [
    "from hsml.schema import Schema\n",
    "from hsml.model_schema import ModelSchema\n",
    "\n",
    "input_example = X_train.sample().to_dict(\"records\")\n",
    "input_schema = Schema(X_train)\n",
    "output_schema = Schema(y_train)\n",
    "model_schema = ModelSchema(input_schema, output_schema)\n",
    "\n",
    "ranking_model = mr.python.create_model(\n",
    "    name=\"ranking_model\", \n",
    "    metrics=metrics,\n",
    "    model_schema=model_schema,\n",
    "    input_example=input_example,\n",
    "    description=\"Ranking model that scores item candidates\",\n",
    ")\n",
    "ranking_model.save(\"ranking_model.pkl\")"
   ]
  },
  {
   "cell_type": "markdown",
   "metadata": {},
   "source": [
    "---\n",
    "## <span style=\"color:#ff5f27\">⏩️ Next Steps </span>\n",
    "\n",
    "Now we have trained both a retrieval and a ranking model, which will allow us to generate recommendations for users. In the next notebook, we'll take a look at how we can deploy these models with the `HSML` library."
   ]
  }
 ],
 "metadata": {
  "interpreter": {
   "hash": "31f2aee4e71d21fbe5cf8b01ff0e069b9275f58929596ceb00d14d90e3e16cd6"
  },
  "kernelspec": {
   "display_name": "Python",
   "language": "python",
   "name": "python3"
  },
  "language_info": {
   "codemirror_mode": {
    "name": "ipython",
    "version": 3
   },
   "file_extension": ".py",
   "mimetype": "text/x-python",
   "name": "python",
   "nbconvert_exporter": "python",
   "pygments_lexer": "ipython3",
   "version": "3.10.11"
  }
 },
 "nbformat": 4,
 "nbformat_minor": 4
}