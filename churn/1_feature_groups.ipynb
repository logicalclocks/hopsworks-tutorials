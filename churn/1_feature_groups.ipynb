{
 "cells": [
  {
   "cell_type": "markdown",
   "id": "f5ad9c3d",
   "metadata": {},
   "source": [
    "# <span style=\"font-width:bold; font-size: 3rem; color:#1EB182;\"><img src=\"../images/icon102.png\" width=\"38px\"></img> **Hopsworks Feature Store** </span>\n",
    "\n",
    "<span style=\"font-width:bold; font-size: 3rem; color:#333;\">- Part 01: Feature Groups</span>\n",
    "\n",
    "[![Open In Colab](https://colab.research.google.com/assets/colab-badge.svg)](https://colab.research.google.com/github/logicalclocks/hopsworks-tutorials/blob/master/churn/1_feature_groups.ipynb)\n",
    "\n",
    "**Note**: you may get an error when installing hopsworks on Colab, and it is safe to ignore it.\n",
    "\n",
    "This is the first part of the series of tutorials about predicting customers that are at risk of churning with Hopsworks Feature Store. As part of this first module, you will work with user data related to the telco industry. \n",
    "The objective of this tutorial is to demonstrate how to work with the **Hopworks Feature Store** for batch data with a goal of training and deploying a model that can predict customers that are at risk of churning.\n",
    "\n",
    "\n",
    "## 🗒️ This notebook is divided in 3 sections:\n",
    "1. Loading the data and feature engineering,\n",
    "2. Connect to the Hopsworks feature store,\n",
    "3. Create feature groups and upload them to the feature store.\n",
    "\n",
    "First of all you will load the data and do some feature engineering on it."
   ]
  },
  {
   "cell_type": "code",
   "execution_count": null,
   "id": "8c02d207",
   "metadata": {},
   "outputs": [],
   "source": [
    "!pip install -U hopsworks --quiet"
   ]
  },
  {
   "cell_type": "markdown",
   "id": "d7c81cd1",
   "metadata": {},
   "source": [
    "The data you will use comes from three different CSV files:\n",
    "\n",
    "- `demography.csv`: Demographic informations,\n",
    "- `customer_info.csv`: customer information such as contract type, billing methods and monthly charges as well as whether customer has churned within the last month.\n",
    "- `subscriptions.csv`: customer subscription to services such as internet, mobile or movie streaming.\n",
    "\n",
    "You can conceptualize these CSV files as originating from separate data sources.\n",
    "**All three files have a customer id column `customerid` in common, which you can use for joins.**\n",
    "\n",
    "Let's go ahead and load the data."
   ]
  },
  {
   "cell_type": "code",
   "execution_count": null,
   "id": "de6b6797",
   "metadata": {},
   "outputs": [],
   "source": [
    "import pandas as pd\n",
    "\n",
    "demography_df = pd.read_csv(\"https://repo.hops.works/dev/davit/churn/demography.csv\")\n",
    "customer_info_df = pd.read_csv(\"https://repo.hops.works/dev/davit/churn/customer_info.csv\")\n",
    "subscriptions_df = pd.read_csv(\"https://repo.hops.works/dev/davit/churn/subscriptions.csv\")"
   ]
  },
  {
   "cell_type": "markdown",
   "id": "76644b9a",
   "metadata": {},
   "source": [
    "---\n",
    "## <span style=\"color:#ff5f27;\"> 🛠️ Feature Engineering </span>\n",
    "\n",
    "In this section you will perform feature engineering, such as converting textual features to numerical featurs and replacing missing values to 0s. Let's start with the Customer information feature group."
   ]
  },
  {
   "cell_type": "code",
   "execution_count": null,
   "id": "25d0f7ea",
   "metadata": {},
   "outputs": [],
   "source": [
    "# Fix missing values problem.\n",
    "customer_info_df[\"TotalCharges\"] = pd.to_numeric(customer_info_df[\"TotalCharges\"], errors='coerce')\n",
    "customer_info_df[\"TotalCharges\"].fillna(0, inplace=True)\n",
    "\n",
    "customer_info_df[\"Churn\"].replace({\"No\" : 0, \"Yes\" : 1}, inplace=True)"
   ]
  },
  {
   "cell_type": "markdown",
   "id": "5ba18399",
   "metadata": {},
   "source": [
    "---\n",
    "## <span style=\"color:#ff5f27;\"> 🪄 Creating Feature Groups </span>\n",
    "\n",
    "A [feature group](https://docs.hopsworks.ai/feature-store-api/latest/generated/feature_group/) can be seen as a collection of conceptually related features. In this case, you will create 3 feature groups:\n",
    "1. **Customer information feature group.**\n",
    "2. **Customer demography feature group.**\n",
    "3. **Customer subscibtion feature group.** \n",
    "\n",
    "As you can see feature groups are related to their source data. These feature groups have `customerid` as primary key, which will allow you to join them when creating a dataset in the next tutorial.\n",
    "\n",
    "Before you can create a feature group you need to connect to Hopsworks feature store."
   ]
  },
  {
   "cell_type": "code",
   "execution_count": null,
   "id": "b22b6ee4",
   "metadata": {},
   "outputs": [],
   "source": [
    "import hopsworks\n",
    "\n",
    "project = hopsworks.login()\n",
    "\n",
    "fs = project.get_feature_store()"
   ]
  },
  {
   "cell_type": "markdown",
   "id": "47f14011",
   "metadata": {},
   "source": [
    "To create a feature group you need to give it a name and specify a primary key. It is also good to provide a description of the contents of the feature group."
   ]
  },
  {
   "cell_type": "code",
   "execution_count": null,
   "id": "2ed33050",
   "metadata": {},
   "outputs": [],
   "source": [
    "customer_info_fg = fs.get_or_create_feature_group(\n",
    "    name=\"customer_info\",\n",
    "    version=1,\n",
    "    description=\"Customer info for churn prediction.\",\n",
    "    primary_key=['customerID'],\n",
    ")"
   ]
  },
  {
   "cell_type": "markdown",
   "id": "f67ee55c",
   "metadata": {},
   "source": [
    "A full list of arguments can be found in the [documentation](https://docs.hopsworks.ai/feature-store-api/latest/generated/api/feature_store_api/#create_feature_group).\n",
    "\n",
    "At this point, you have only specified some metadata for the feature group. It does not store any data or even have a schema defined for the data. To make the feature group persistent you need to populate it with its associated data using the `insert` function."
   ]
  },
  {
   "cell_type": "code",
   "execution_count": null,
   "id": "a75573b9",
   "metadata": {},
   "outputs": [],
   "source": [
    "customer_info_fg.insert(customer_info_df)"
   ]
  },
  {
   "cell_type": "code",
   "execution_count": null,
   "id": "52489188",
   "metadata": {},
   "outputs": [],
   "source": [
    "feature_descriptions = [\n",
    "    {\"name\": \"customerid\", \"description\": \"Customer id\"}, \n",
    "    {\"name\": \"contract\", \"description\": \"Type of contact\"}, \n",
    "    {\"name\": \"tenure\", \"description\": \"How long they’ve been a customer\"}, \n",
    "    {\"name\": \"paymentmethod\", \"description\": \"Payment method\"}, \n",
    "    {\"name\": \"paperlessbilling\", \"description\": \"Whether customer has paperless billing or not\"}, \n",
    "    {\"name\": \"monthlycharges\", \"description\": \"Monthly charges\"}, \n",
    "    {\"name\": \"totalcharges\", \"description\": \"Total charges\"},\n",
    "    {\"name\": \"churn\", \"description\": \"Whether customer has left within the last month or not\"},  \n",
    "]\n",
    "\n",
    "for desc in feature_descriptions: \n",
    "    customer_info_fg.update_feature_description(desc[\"name\"], desc[\"description\"])"
   ]
  },
  {
   "cell_type": "code",
   "execution_count": null,
   "id": "8acbc390",
   "metadata": {},
   "outputs": [],
   "source": [
    "demography_fg = fs.get_or_create_feature_group(\n",
    "    name=\"customer_demography_info\",\n",
    "    version=1,\n",
    "    description=\"Customer demography info for churn prediction.\",\n",
    "    primary_key=['customerID'],\n",
    ")\n",
    "demography_fg.insert(demography_df)"
   ]
  },
  {
   "cell_type": "code",
   "execution_count": null,
   "id": "bd11920b",
   "metadata": {},
   "outputs": [],
   "source": [
    "feature_descriptions = [\n",
    "    {\"name\": \"customerid\", \"description\": \"Customer id\"}, \n",
    "    {\"name\": \"gender\", \"description\": \"Customer gender\"},\n",
    "    {\"name\": \"seniorcitizen\", \"description\": \"Whether customer is a senior citizen or not\"}, \n",
    "    {\"name\": \"dependents\", \"description\": \"Whether customer has dependents or not\"}, \n",
    "    {\"name\": \"partner\", \"description\": \"Whether customer has partners or not\"}, \n",
    "]\n",
    "\n",
    "for desc in feature_descriptions: \n",
    "    demography_fg.update_feature_description(desc[\"name\"], desc[\"description\"])"
   ]
  },
  {
   "cell_type": "code",
   "execution_count": null,
   "id": "a59ccd1e",
   "metadata": {},
   "outputs": [],
   "source": [
    "subscriptions_fg = fs.get_or_create_feature_group(\n",
    "    name=\"customer_subscription_info\",\n",
    "    version=1,\n",
    "    description=\"Customer subscription info for churn prediction.\",\n",
    "    primary_key=['customerID'],\n",
    ")\n",
    "subscriptions_fg.insert(subscriptions_df)"
   ]
  },
  {
   "cell_type": "code",
   "execution_count": null,
   "id": "4d9dcbac",
   "metadata": {},
   "outputs": [],
   "source": [
    "feature_descriptions = [\n",
    "    {\"name\": \"customerid\", \"description\": \"Customer id\"}, \n",
    "    {\"name\": \"deviceprotection\", \"description\": \"Whether customer has signed up for device protection service\"},\n",
    "    {\"name\": \"onlinebackup\", \"description\": \"Whether customer has signed up for online backup service\"}, \n",
    "    {\"name\": \"onlinesecurity\", \"description\": \"Whether customer has signed up for online security service\"}, \n",
    "    {\"name\": \"internetservice\", \"description\": \"Whether customer has signed up for internet service\"}, \n",
    "    {\"name\": \"multiplelines\", \"description\": \"Whether customer has signed up for multiple lines service\"}, \n",
    "    {\"name\": \"phoneservice\", \"description\": \"Whether customer has signed up for phone service\"}, \n",
    "    {\"name\": \"techsupport\", \"description\": \"Whether customer has signed up for tech support service\"}, \n",
    "    {\"name\": \"streamingmovies\", \"description\": \"Whether customer has signed up for streaming movies service\"}, \n",
    "    {\"name\": \"streamingtv\", \"description\": \"Whether customer has signed up for streaming TV service\"}, \n",
    "]\n",
    "\n",
    "for desc in feature_descriptions: \n",
    "    subscriptions_fg.update_feature_description(desc[\"name\"], desc[\"description\"])"
   ]
  },
  {
   "cell_type": "markdown",
   "id": "a6508650",
   "metadata": {},
   "source": [
    "All three feature groups are now accessible and searchable in the UI\n",
    "\n",
    "![fg-overview](../churn/images/churn_fg.gif)"
   ]
  },
  {
   "cell_type": "markdown",
   "id": "ae7b85bb",
   "metadata": {},
   "source": [
    "---\n",
    "## <span style=\"color:#ff5f27;\">⏭️ **Next:** Part 02 </span>\n",
    "\n",
    "In the following notebook you will use your feature groups to create a dataset to train a model on.\n",
    "\n",
    "[![Open In Colab](https://colab.research.google.com/assets/colab-badge.svg)](https://colab.research.google.com/github/logicalclocks/hopsworks-tutorials/blob/master/advanced_tutorials/{project_name}/{notebook_name}.ipynb)"
   ]
  }
 ],
 "metadata": {
  "interpreter": {
   "hash": "31f2aee4e71d21fbe5cf8b01ff0e069b9275f58929596ceb00d14d90e3e16cd6"
  },
  "kernelspec": {
   "display_name": "Python 3 (ipykernel)",
   "language": "python",
   "name": "python3"
  },
  "language_info": {
   "codemirror_mode": {
    "name": "ipython",
    "version": 3
   },
   "file_extension": ".py",
   "mimetype": "text/x-python",
   "name": "python",
   "nbconvert_exporter": "python",
   "pygments_lexer": "ipython3",
   "version": "3.8.15"
  }
 },
 "nbformat": 4,
 "nbformat_minor": 5
}
