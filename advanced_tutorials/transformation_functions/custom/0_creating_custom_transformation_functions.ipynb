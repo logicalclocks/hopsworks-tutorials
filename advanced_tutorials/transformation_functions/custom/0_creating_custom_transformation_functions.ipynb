{
 "cells": [
  {
   "cell_type": "markdown",
   "id": "d6fb35cf",
   "metadata": {},
   "source": [
    "# <span style=\"color:#ff5f27\"> 👨🏻‍🏫 Custom Transformation Functions</span>\n",
    "\n",
    "In this tutorial you will learn how to create custom transformation functions in hopsworks feature store."
   ]
  },
  {
   "cell_type": "markdown",
   "id": "a19fd127",
   "metadata": {},
   "source": [
    "## <span style=\"color:#ff5f27\">🗄️ Table of Contents</span>\n",
    "- [📝 Imports](#1)\n",
    "- [🔮 Connecting to Hopsworks Feature Store](#2)\n",
    "- [👩🏻‍🔬 Creation of Custom Transformation Functions](#3)\n",
    "- [✔️ Testing Custom Transformation Functions in Hopsworks](#4)- \n",
    "- [✍🏻 Registering Custom Transformation Functions in Hopsworks](#4)"
   ]
  },
  {
   "cell_type": "markdown",
   "id": "3cc6a7e9",
   "metadata": {},
   "source": [
    "<a name='1'></a>\n",
    "# <span style='color:#ff5f27'> 📝 Imports </span>"
   ]
  },
  {
   "cell_type": "code",
   "execution_count": 1,
   "id": "22c08e9f",
   "metadata": {},
   "outputs": [],
   "source": [
    "# Importing necessary libraries\n",
    "import pandas as pd                         # For data manipulation and analysis using DataFrames\n",
    "import numpy as np                          # For numerical computations and arrays\n",
    "import os                                   # For operating system-related functions\n",
    "import joblib                               # For saving and loading model files\n",
    "\n",
    "import xgboost as xgb                       # For using the XGBoost machine learning library\n",
    "from sklearn.metrics import accuracy_score  # For evaluating model accuracy"
   ]
  },
  {
   "cell_type": "markdown",
   "id": "b2f4b822",
   "metadata": {},
   "source": [
    "<a name='3'></a>\n",
    "# <span style=\"color:#ff5f27;\"> 🔮 Connecting to Hopsworks Feature Store </span>\n",
    "\n",
    "The next step is to login to the Hopsworks platform. "
   ]
  },
  {
   "cell_type": "code",
   "execution_count": 2,
   "id": "49800275",
   "metadata": {},
   "outputs": [
    {
     "name": "stdout",
     "output_type": "stream",
     "text": [
      "2024-09-20 20:20:48,030 INFO: Initializing external client\n",
      "2024-09-20 20:20:48,030 INFO: Base URL: https://localhost:28181\n",
      "2024-09-20 20:20:48,850 INFO: Python Engine initialized.\n",
      "\n",
      "Logged in to project, explore it here https://localhost:28181/p/119\n"
     ]
    }
   ],
   "source": [
    "import hopsworks\n",
    "\n",
    "project = hopsworks.login()\n",
    "\n",
    "fs = project.get_feature_store() "
   ]
  },
  {
   "cell_type": "markdown",
   "id": "63b3bab5-e4ba-4c75-bf63-8f72137bd33e",
   "metadata": {},
   "source": [
    "---\n",
    "<a name='2'></a>\n",
    "# <span style=\"color:#ff5f27;\">👩🏻‍🔬 Creation of Custom Transformation Functions</span>\n",
    "\n",
    "In Hopsworks, custom transformation functions can be defined using the `@udf` decorator. These transformation functions are implemented as Pandas UDFs, allowing efficient processing of large datasets. Hopsworks provides support for various types of transformations. Hopsworks also allows you to access training dataset statistics for any of the feature provided as input to the UDF. For more details, you can refer to the official documentation [here](https://docs.hopsworks.ai/latest/user_guides/fs/transformation_functions/).\n",
    "\n",
    "Below are two examples of User-Defined Functions (UDFs): add_one and scaler.\n",
    "\n",
    "The add_one function is a basic transformation that takes a feature as input and increments its value by one."
   ]
  },
  {
   "cell_type": "code",
   "execution_count": 3,
   "id": "ba0042ec-cca5-422d-8aea-120422b1fb57",
   "metadata": {},
   "outputs": [
    {
     "name": "stdout",
     "output_type": "stream",
     "text": [
      "2024-09-20 20:20:49,474 WARNING: UserWarning: Cannot extract imported dependencies for the function module. Please make sure to import all dependencies for the UDF inside the function.\n",
      "\n"
     ]
    }
   ],
   "source": [
    "@hopsworks.udf(return_type=int, drop=[\"feature\"])\n",
    "def add_one(feature: pd.Series) -> pd.Series:\n",
    "    return feature + 1"
   ]
  },
  {
   "cell_type": "markdown",
   "id": "1d435446-2850-44b9-b226-40a5c35b63f4",
   "metadata": {},
   "source": [
    "The `scaler` function takes a feature as input, along with its associated statistics, and scales the values to a range between 0 and 1. It then returns the transformed feature."
   ]
  },
  {
   "cell_type": "code",
   "execution_count": 4,
   "id": "fc7d9620-40e0-4826-aae2-4b50412e4491",
   "metadata": {},
   "outputs": [],
   "source": [
    "from hopsworks.hsfs.transformation_statistics import TransformationStatistics\n",
    "\n",
    "@hopsworks.udf(return_type=float, drop=[\"feature\"])\n",
    "def scaler(feature: pd.Series, statistics=TransformationStatistics(\"feature\")) -> pd.Series:\n",
    "    return (feature - statistics.feature.min) / (statistics.feature.max - statistics.feature.min)"
   ]
  },
  {
   "cell_type": "markdown",
   "id": "c235d7bb-5f27-4a85-8bd4-19a4b51bb941",
   "metadata": {},
   "source": [
    "<a name='2a'></a>\n",
    "## <span style=\"color:#ff5f27;\">✔️ Testing of Custom Transformation Functions</span>"
   ]
  },
  {
   "cell_type": "markdown",
   "id": "dbc8559e-953d-4d4c-9ba1-a9ad76489635",
   "metadata": {},
   "source": [
    "Once a UDF is defined, it should be thoroughly tested to ensure it works as intended.\n",
    "\n",
    "In Hopsworks, to test a UDF, its `output_column_names` property must be set. Afterward, the executable function can be retrieved using the `get_udf` method.\n",
    "\n",
    "The `output_column_names` attribute needs to be manually set, as it is typically generated when the UDF is attached to a feature group or feature view. Once this is configured, the UDF can be tested by retrieving the executable function with `get_udf` and calling it using a Pandas Series as input."
   ]
  },
  {
   "cell_type": "code",
   "execution_count": 5,
   "id": "0f0f9c5a-7a11-4adb-90d8-745bd6452855",
   "metadata": {},
   "outputs": [
    {
     "name": "stdout",
     "output_type": "stream",
     "text": [
      "⛳️ The incremented are: [1, 6, 11]\n"
     ]
    }
   ],
   "source": [
    "# Assign output column names \n",
    "add_one.output_column_names = [\"scaler_feature\"]\n",
    "\n",
    "# Get the excutable UDF based on the transformation statistics\n",
    "udf = add_one.get_udf()\n",
    "\n",
    "# Create testing Series\n",
    "feature = pd.Series([0, 5, 10])\n",
    "\n",
    "print(\"⛳️ The incremented are:\", udf(feature).values.tolist())"
   ]
  },
  {
   "cell_type": "markdown",
   "id": "11b85d73-c8c9-435c-ae83-f8b168105537",
   "metadata": {},
   "source": [
    "The `scaler` UDF relies on the statistics of the training dataset. Therefore, to test it, the transformation_statistics attribute must be set using an instance of the `FeatureDescriptiveStatistics` object, which contains the necessary test values for the statistics."
   ]
  },
  {
   "cell_type": "code",
   "execution_count": 6,
   "id": "4a3ba859-74f0-46aa-8fcc-72b404e28070",
   "metadata": {},
   "outputs": [
    {
     "name": "stdout",
     "output_type": "stream",
     "text": [
      "⛳️ The Scaled Values are: [0.0, 0.5, 1.0]\n"
     ]
    }
   ],
   "source": [
    "from hopsworks.hsfs.statistics import FeatureDescriptiveStatistics\n",
    "\n",
    "# Assign test statistics since the UDF uses statistics\n",
    "statistics = [FeatureDescriptiveStatistics(feature_name=\"feature\", min=0, max=10)]\n",
    "scaler.transformation_statistics = statistics\n",
    "\n",
    "# Assign output column names \n",
    "scaler.output_column_names = [\"scaler_feature\"]\n",
    "\n",
    "# Get the excutable UDF based on the transformation statistics\n",
    "udf = scaler.get_udf()\n",
    "\n",
    "# Get testing Series\n",
    "feature = pd.Series([0, 5, 10])\n",
    "\n",
    "print(\"⛳️ The Scaled Values are:\", udf(feature).values.tolist())"
   ]
  },
  {
   "cell_type": "markdown",
   "id": "4d97d0ce-0903-4bab-857d-0231501a0f93",
   "metadata": {},
   "source": [
    "Once a custom transformation function or UDF is defined, it can be used as an [On-Demand transformations](https://docs.hopsworks.ai/latest/user_guides/fs/feature_group/on_demand_transformations/) by attaching the function to a Feature Group, or as a [Model-Dependent transformations](https://docs.hopsworks.ai/latest/user_guides/fs/feature_view/model-dependent-transformations/) by linking it to a Feature View.\n",
    "\n",
    "Additionally, UDFs can be saved in the Hopsworks Feature Store, allowing them to be retrieved and reused in the future."
   ]
  },
  {
   "cell_type": "markdown",
   "id": "1399515f-a0b5-4ed5-b6cd-e912e23680e4",
   "metadata": {},
   "source": [
    "<a name='4'></a>\n",
    "## <span style=\"color:#ff5f27;\"> ✍🏻 Saving Custom Transformation Functions in Hopsworks</span>\n",
    "\n",
    "Transformation functions can be saved in Hopsworks, allowing them to be retrieved and used later.\n",
    "\n",
    "To create a transformation function, use the .create_transformation_function() method with the following parameters:\n",
    "\n",
    "- `transformation_function`: Your custom transformation function/UDF.\n",
    "- `version`: The version of your custom transformation function.\n",
    "\n",
    "Don’t forget to use the .save() method to persist the transformation function in the backend.\n",
    "\n"
   ]
  },
  {
   "cell_type": "code",
   "execution_count": 7,
   "id": "e9999454-ff67-4690-a421-e099923bd9b9",
   "metadata": {},
   "outputs": [
    {
     "ename": "RestAPIError",
     "evalue": "Metadata operation error: (url: https://localhost:28181/hopsworks-api/api/project/119/featurestores/67/transformationfunctions). Server response: \nHTTP code: 400, HTTP reason: Bad Request, body: b'{\"errorCode\":270159,\"usrMsg\":\"Transformation function: scaler, version: 1\",\"errorMsg\":\"The provided transformation function name and version already exists\"}', error code: 270159, error msg: The provided transformation function name and version already exists, user msg: Transformation function: scaler, version: 1",
     "output_type": "error",
     "traceback": [
      "\u001b[0;31m---------------------------------------------------------------------------\u001b[0m",
      "\u001b[0;31mRestAPIError\u001b[0m                              Traceback (most recent call last)",
      "Cell \u001b[0;32mIn[7], line 5\u001b[0m\n\u001b[1;32m      1\u001b[0m scaler \u001b[38;5;241m=\u001b[39m fs\u001b[38;5;241m.\u001b[39mcreate_transformation_function(\n\u001b[1;32m      2\u001b[0m         scaler, \n\u001b[1;32m      3\u001b[0m         version\u001b[38;5;241m=\u001b[39m\u001b[38;5;241m1\u001b[39m,\n\u001b[1;32m      4\u001b[0m     )\n\u001b[0;32m----> 5\u001b[0m \u001b[43mscaler\u001b[49m\u001b[38;5;241;43m.\u001b[39;49m\u001b[43msave\u001b[49m\u001b[43m(\u001b[49m\u001b[43m)\u001b[49m\n",
      "File \u001b[0;32m~/anaconda3/envs/hopsworks_tutorals/lib/python3.12/site-packages/hsfs/transformation_function.py:110\u001b[0m, in \u001b[0;36mTransformationFunction.save\u001b[0;34m(self)\u001b[0m\n\u001b[1;32m     87\u001b[0m \u001b[38;5;28;01mdef\u001b[39;00m \u001b[38;5;21msave\u001b[39m(\u001b[38;5;28mself\u001b[39m) \u001b[38;5;241m-\u001b[39m\u001b[38;5;241m>\u001b[39m \u001b[38;5;28;01mNone\u001b[39;00m:\n\u001b[1;32m     88\u001b[0m \u001b[38;5;250m    \u001b[39m\u001b[38;5;124;03m\"\"\"Save a transformation function into the backend.\u001b[39;00m\n\u001b[1;32m     89\u001b[0m \n\u001b[1;32m     90\u001b[0m \u001b[38;5;124;03m    !!! example\u001b[39;00m\n\u001b[0;32m   (...)\u001b[0m\n\u001b[1;32m    108\u001b[0m \u001b[38;5;124;03m        ```\u001b[39;00m\n\u001b[1;32m    109\u001b[0m \u001b[38;5;124;03m    \"\"\"\u001b[39;00m\n\u001b[0;32m--> 110\u001b[0m     \u001b[38;5;28;43mself\u001b[39;49m\u001b[38;5;241;43m.\u001b[39;49m\u001b[43m_transformation_function_engine\u001b[49m\u001b[38;5;241;43m.\u001b[39;49m\u001b[43msave\u001b[49m\u001b[43m(\u001b[49m\u001b[38;5;28;43mself\u001b[39;49m\u001b[43m)\u001b[49m\n",
      "File \u001b[0;32m~/anaconda3/envs/hopsworks_tutorals/lib/python3.12/site-packages/hsfs/core/transformation_function_engine.py:57\u001b[0m, in \u001b[0;36mTransformationFunctionEngine.save\u001b[0;34m(self, transformation_fn_instance)\u001b[0m\n\u001b[1;32m     48\u001b[0m \u001b[38;5;28;01mdef\u001b[39;00m \u001b[38;5;21msave\u001b[39m(\n\u001b[1;32m     49\u001b[0m     \u001b[38;5;28mself\u001b[39m, transformation_fn_instance: transformation_function\u001b[38;5;241m.\u001b[39mTransformationFunction\n\u001b[1;32m     50\u001b[0m ) \u001b[38;5;241m-\u001b[39m\u001b[38;5;241m>\u001b[39m transformation_function\u001b[38;5;241m.\u001b[39mTransformationFunction:\n\u001b[1;32m     51\u001b[0m \u001b[38;5;250m    \u001b[39m\u001b[38;5;124;03m\"\"\"\u001b[39;00m\n\u001b[1;32m     52\u001b[0m \u001b[38;5;124;03m    Save a transformation function into the feature store.\u001b[39;00m\n\u001b[1;32m     53\u001b[0m \n\u001b[1;32m     54\u001b[0m \u001b[38;5;124;03m    # Argument\u001b[39;00m\n\u001b[1;32m     55\u001b[0m \u001b[38;5;124;03m        transformation_fn_instance `transformation_function.TransformationFunction`: The transformation function to be saved into the feature store.\u001b[39;00m\n\u001b[1;32m     56\u001b[0m \u001b[38;5;124;03m    \"\"\"\u001b[39;00m\n\u001b[0;32m---> 57\u001b[0m     \u001b[38;5;28;43mself\u001b[39;49m\u001b[38;5;241;43m.\u001b[39;49m\u001b[43m_transformation_function_api\u001b[49m\u001b[38;5;241;43m.\u001b[39;49m\u001b[43mregister_transformation_fn\u001b[49m\u001b[43m(\u001b[49m\n\u001b[1;32m     58\u001b[0m \u001b[43m        \u001b[49m\u001b[43mtransformation_fn_instance\u001b[49m\n\u001b[1;32m     59\u001b[0m \u001b[43m    \u001b[49m\u001b[43m)\u001b[49m\n",
      "File \u001b[0;32m~/anaconda3/envs/hopsworks_tutorals/lib/python3.12/site-packages/hsfs/core/transformation_function_api.py:50\u001b[0m, in \u001b[0;36mTransformationFunctionApi.register_transformation_fn\u001b[0;34m(self, transformation_function_instance)\u001b[0m\n\u001b[1;32m     41\u001b[0m path_params \u001b[38;5;241m=\u001b[39m [\n\u001b[1;32m     42\u001b[0m     \u001b[38;5;124m\"\u001b[39m\u001b[38;5;124mproject\u001b[39m\u001b[38;5;124m\"\u001b[39m,\n\u001b[1;32m     43\u001b[0m     _client\u001b[38;5;241m.\u001b[39m_project_id,\n\u001b[0;32m   (...)\u001b[0m\n\u001b[1;32m     46\u001b[0m     \u001b[38;5;124m\"\u001b[39m\u001b[38;5;124mtransformationfunctions\u001b[39m\u001b[38;5;124m\"\u001b[39m,\n\u001b[1;32m     47\u001b[0m ]\n\u001b[1;32m     48\u001b[0m headers \u001b[38;5;241m=\u001b[39m {\u001b[38;5;124m\"\u001b[39m\u001b[38;5;124mcontent-type\u001b[39m\u001b[38;5;124m\"\u001b[39m: \u001b[38;5;124m\"\u001b[39m\u001b[38;5;124mapplication/json\u001b[39m\u001b[38;5;124m\"\u001b[39m}\n\u001b[1;32m     49\u001b[0m \u001b[38;5;28;01mreturn\u001b[39;00m transformation_function\u001b[38;5;241m.\u001b[39mTransformationFunction\u001b[38;5;241m.\u001b[39mfrom_response_json(\n\u001b[0;32m---> 50\u001b[0m     \u001b[43m_client\u001b[49m\u001b[38;5;241;43m.\u001b[39;49m\u001b[43m_send_request\u001b[49m\u001b[43m(\u001b[49m\n\u001b[1;32m     51\u001b[0m \u001b[43m        \u001b[49m\u001b[38;5;124;43m\"\u001b[39;49m\u001b[38;5;124;43mPOST\u001b[39;49m\u001b[38;5;124;43m\"\u001b[39;49m\u001b[43m,\u001b[49m\n\u001b[1;32m     52\u001b[0m \u001b[43m        \u001b[49m\u001b[43mpath_params\u001b[49m\u001b[43m,\u001b[49m\n\u001b[1;32m     53\u001b[0m \u001b[43m        \u001b[49m\u001b[43mheaders\u001b[49m\u001b[38;5;241;43m=\u001b[39;49m\u001b[43mheaders\u001b[49m\u001b[43m,\u001b[49m\n\u001b[1;32m     54\u001b[0m \u001b[43m        \u001b[49m\u001b[43mdata\u001b[49m\u001b[38;5;241;43m=\u001b[39;49m\u001b[43mtransformation_function_instance\u001b[49m\u001b[38;5;241;43m.\u001b[39;49m\u001b[43mjson\u001b[49m\u001b[43m(\u001b[49m\u001b[43m)\u001b[49m\u001b[43m,\u001b[49m\n\u001b[1;32m     55\u001b[0m \u001b[43m    \u001b[49m\u001b[43m)\u001b[49m\n\u001b[1;32m     56\u001b[0m )\n",
      "File \u001b[0;32m~/anaconda3/envs/hopsworks_tutorals/lib/python3.12/site-packages/hopsworks_common/decorators.py:45\u001b[0m, in \u001b[0;36mconnected.<locals>.if_connected\u001b[0;34m(inst, *args, **kwargs)\u001b[0m\n\u001b[1;32m     43\u001b[0m \u001b[38;5;28;01mif\u001b[39;00m \u001b[38;5;129;01mnot\u001b[39;00m inst\u001b[38;5;241m.\u001b[39m_connected:\n\u001b[1;32m     44\u001b[0m     \u001b[38;5;28;01mraise\u001b[39;00m NoHopsworksConnectionError\n\u001b[0;32m---> 45\u001b[0m \u001b[38;5;28;01mreturn\u001b[39;00m \u001b[43mfn\u001b[49m\u001b[43m(\u001b[49m\u001b[43minst\u001b[49m\u001b[43m,\u001b[49m\u001b[43m \u001b[49m\u001b[38;5;241;43m*\u001b[39;49m\u001b[43margs\u001b[49m\u001b[43m,\u001b[49m\u001b[43m \u001b[49m\u001b[38;5;241;43m*\u001b[39;49m\u001b[38;5;241;43m*\u001b[39;49m\u001b[43mkwargs\u001b[49m\u001b[43m)\u001b[49m\n",
      "File \u001b[0;32m~/anaconda3/envs/hopsworks_tutorals/lib/python3.12/site-packages/hopsworks_common/client/base.py:186\u001b[0m, in \u001b[0;36mClient._send_request\u001b[0;34m(self, method, path_params, query_params, headers, data, stream, files, with_base_path_params)\u001b[0m\n\u001b[1;32m    181\u001b[0m     response \u001b[38;5;241m=\u001b[39m \u001b[38;5;28mself\u001b[39m\u001b[38;5;241m.\u001b[39m_retry_token_expired(\n\u001b[1;32m    182\u001b[0m         request, stream, \u001b[38;5;28mself\u001b[39m\u001b[38;5;241m.\u001b[39mTOKEN_EXPIRED_RETRY_INTERVAL, \u001b[38;5;241m1\u001b[39m\n\u001b[1;32m    183\u001b[0m     )\n\u001b[1;32m    185\u001b[0m \u001b[38;5;28;01mif\u001b[39;00m response\u001b[38;5;241m.\u001b[39mstatus_code \u001b[38;5;241m/\u001b[39m\u001b[38;5;241m/\u001b[39m \u001b[38;5;241m100\u001b[39m \u001b[38;5;241m!=\u001b[39m \u001b[38;5;241m2\u001b[39m:\n\u001b[0;32m--> 186\u001b[0m     \u001b[38;5;28;01mraise\u001b[39;00m exceptions\u001b[38;5;241m.\u001b[39mRestAPIError(url, response)\n\u001b[1;32m    188\u001b[0m \u001b[38;5;28;01mif\u001b[39;00m stream:\n\u001b[1;32m    189\u001b[0m     \u001b[38;5;28;01mreturn\u001b[39;00m response\n",
      "\u001b[0;31mRestAPIError\u001b[0m: Metadata operation error: (url: https://localhost:28181/hopsworks-api/api/project/119/featurestores/67/transformationfunctions). Server response: \nHTTP code: 400, HTTP reason: Bad Request, body: b'{\"errorCode\":270159,\"usrMsg\":\"Transformation function: scaler, version: 1\",\"errorMsg\":\"The provided transformation function name and version already exists\"}', error code: 270159, error msg: The provided transformation function name and version already exists, user msg: Transformation function: scaler, version: 1"
     ]
    }
   ],
   "source": [
    "scaler = fs.create_transformation_function(\n",
    "        scaler, \n",
    "        version=1,\n",
    "    )\n",
    "scaler.save()"
   ]
  },
  {
   "cell_type": "markdown",
   "id": "47ba7ce6-0c0a-4e84-9a38-2fde3f4b0826",
   "metadata": {},
   "source": [
    "Now let's check if the custom transformation functions is present in the feature store. You can be the function `get_transformation_functions` for this."
   ]
  },
  {
   "cell_type": "code",
   "execution_count": 8,
   "id": "0a8f70ea-97c9-417b-94ec-4cb7f23ce0ad",
   "metadata": {},
   "outputs": [
    {
     "data": {
      "text/plain": [
       "[Transformation Function : robust_scaler(feature),\n",
       " Transformation Function : one_hot_encoder(feature),\n",
       " Transformation Function : min_max_scaler(feature),\n",
       " Transformation Function : label_encoder(feature),\n",
       " Transformation Function : standard_scaler(feature),\n",
       " Transformation Function : add_one(feature),\n",
       " Transformation Function : scaler(feature)]"
      ]
     },
     "execution_count": 8,
     "metadata": {},
     "output_type": "execute_result"
    }
   ],
   "source": [
    "# Check it your transformation functions are present in the feature store\n",
    "[tf for tf in fs.get_transformation_functions()]"
   ]
  },
  {
   "cell_type": "markdown",
   "id": "beeeddad-b3b5-45c3-acbe-b2895de1fcf2",
   "metadata": {},
   "source": [
    "A transformation function saved in Hopworks can be retrived by using the function `get_transformation_function`"
   ]
  },
  {
   "cell_type": "code",
   "execution_count": 9,
   "id": "96511d72-eee5-40db-a3ee-104653669a0f",
   "metadata": {},
   "outputs": [
    {
     "data": {
      "text/plain": [
       "Transformation Function : scaler(feature)"
      ]
     },
     "execution_count": 9,
     "metadata": {},
     "output_type": "execute_result"
    }
   ],
   "source": [
    "scaler = fs.get_transformation_function(name=\"scaler\", version=1)\n",
    "scaler"
   ]
  },
  {
   "cell_type": "markdown",
   "id": "0c202c74",
   "metadata": {},
   "source": [
    "---"
   ]
  },
  {
   "cell_type": "markdown",
   "id": "bb85ba21-51de-428b-93a3-e05cfe15297d",
   "metadata": {},
   "source": [
    "## <span style=\"color:#ff5f27;\">⏭️ **Next:** Part 01 Feature Pipeline </span>\n",
    "\n",
    "In the following notebook you will create feature groups and use on-demand transformations function to create on-demand features"
   ]
  },
  {
   "cell_type": "code",
   "execution_count": null,
   "id": "6e86cfd4-1c56-4dce-a5b1-b02c4cc32755",
   "metadata": {},
   "outputs": [],
   "source": []
  }
 ],
 "metadata": {
  "kernelspec": {
   "display_name": "Python 3 (ipykernel)",
   "language": "python",
   "name": "python3"
  },
  "language_info": {
   "codemirror_mode": {
    "name": "ipython",
    "version": 3
   },
   "file_extension": ".py",
   "mimetype": "text/x-python",
   "name": "python",
   "nbconvert_exporter": "python",
   "pygments_lexer": "ipython3",
   "version": "3.12.5"
  }
 },
 "nbformat": 4,
 "nbformat_minor": 5
}
