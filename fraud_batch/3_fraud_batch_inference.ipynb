{
 "cells": [
  {
   "cell_type": "markdown",
   "id": "c9fec917",
   "metadata": {},
   "source": [
    "# <span style=\"font-width:bold; font-size: 3rem; color:#1EB182;\"><img src=\"../images/icon102.png\" width=\"38px\"></img> **Hopsworks Feature Store** </span><span style=\"font-width:bold; font-size: 3rem; color:#333;\">- Part 03: Batch Inference</span>\n",
    "\n",
    "[![Open In Colab](https://colab.research.google.com/assets/colab-badge.svg)](https://colab.research.google.com/github/logicalclocks/hopsworks-tutorials/blob/master/fraud_batch/3_fraud_batch_inference.ipynb)\n",
    "\n",
    "## 🗒️ This notebook is divided into the following sections:\n",
    "\n",
    "1. Load batch data.\n",
    "2. Predict using model from Model Registry."
   ]
  },
  {
   "cell_type": "markdown",
   "id": "731cffd4",
   "metadata": {},
   "source": [
    "## <span style='color:#ff5f27'> 📝 Imports"
   ]
  },
  {
   "cell_type": "code",
   "execution_count": null,
   "id": "b96c942c",
   "metadata": {},
   "outputs": [],
   "source": [
    "import joblib"
   ]
  },
  {
   "cell_type": "markdown",
   "id": "dfb09860",
   "metadata": {},
   "source": [
    "## <span style=\"color:#ff5f27;\"> 📡 Connecting to Hopsworks Feature Store </span>"
   ]
  },
  {
   "cell_type": "code",
   "execution_count": null,
   "id": "6c71483d",
   "metadata": {},
   "outputs": [],
   "source": [
    "import hopsworks\n",
    "\n",
    "project = hopsworks.login()\n",
    "\n",
    "fs = project.get_feature_store()"
   ]
  },
  {
   "cell_type": "markdown",
   "id": "c637bf4c",
   "metadata": {},
   "source": [
    "## <span style=\"color:#ff5f27;\"> ⚙️ Feature View Retrieval</span>\n"
   ]
  },
  {
   "cell_type": "code",
   "execution_count": null,
   "id": "9b8bb207",
   "metadata": {},
   "outputs": [],
   "source": [
    "feature_view = fs.get_feature_view(\n",
    "    name='transactions_view_fraud_batch_fv',\n",
    "    version=1,\n",
    ")"
   ]
  },
  {
   "cell_type": "markdown",
   "id": "8ec3cafe",
   "metadata": {},
   "source": [
    "## <span style=\"color:#ff5f27;\">🗄 Model Registry</span>\n"
   ]
  },
  {
   "cell_type": "code",
   "execution_count": null,
   "id": "1b412d1e",
   "metadata": {},
   "outputs": [],
   "source": [
    "mr = project.get_model_registry()"
   ]
  },
  {
   "cell_type": "markdown",
   "id": "d0587a64",
   "metadata": {},
   "source": [
    "## <span style='color:#ff5f27'>🚀 Fetch and test the model</span>\n",
    "\n",
    "Finally you can start making predictions with your model! Retrieve your model from Hopsworks model registry."
   ]
  },
  {
   "cell_type": "code",
   "execution_count": null,
   "id": "f0be44ff",
   "metadata": {},
   "outputs": [],
   "source": [
    "retrieved_model = mr.get_model(\n",
    "    name=\"xgboost_fraud_batch_model\",\n",
    "    version=1,\n",
    ")\n",
    "saved_model_dir = retrieved_model.download()"
   ]
  },
  {
   "cell_type": "code",
   "execution_count": null,
   "id": "88b09ee2",
   "metadata": {},
   "outputs": [],
   "source": [
    "retrieved_xgboost_model = joblib.load(saved_model_dir + \"/xgboost_fraud_batch_model.pkl\")\n",
    "retrieved_xgboost_model"
   ]
  },
  {
   "cell_type": "markdown",
   "id": "aba7238a",
   "metadata": {},
   "source": [
    "---\n",
    "## <span style=\"color:#ff5f27;\">🔮  Batch Prediction </span>\n"
   ]
  },
  {
   "cell_type": "code",
   "execution_count": null,
   "id": "34ac6398",
   "metadata": {},
   "outputs": [],
   "source": [
    "feature_view.init_batch_scoring(1)\n",
    "\n",
    "batch_data = feature_view.get_batch_data()\n",
    "\n",
    "batch_data.drop([\"datetime\"], axis=1, inplace=True)\n",
    "\n",
    "batch_data.head()"
   ]
  },
  {
   "cell_type": "code",
   "execution_count": null,
   "id": "0695d933",
   "metadata": {},
   "outputs": [],
   "source": [
    "predictions = retrieved_xgboost_model.predict(batch_data)\n",
    "\n",
    "predictions[:5]"
   ]
  },
  {
   "cell_type": "markdown",
   "id": "5ccd12a2",
   "metadata": {},
   "source": [
    "---\n",
    "\n",
    "### <span style=\"color:#ff5f27;\">🥳 <b> Next Steps  </b> </span>\n",
    "Congratulations you've now completed the Fraud Batch tutorial for Managed Hopsworks.\n",
    "\n",
    "Check out our other tutorials on ➡ https://github.com/logicalclocks/hopsworks-tutorials\n",
    "\n",
    "Or documentation at ➡ https://docs.hopsworks.ai"
   ]
  }
 ],
 "metadata": {
  "kernelspec": {
   "display_name": "Python 3 (ipykernel)",
   "language": "python",
   "name": "python3"
  },
  "language_info": {
   "codemirror_mode": {
    "name": "ipython",
    "version": 3
   },
   "file_extension": ".py",
   "mimetype": "text/x-python",
   "name": "python",
   "nbconvert_exporter": "python",
   "pygments_lexer": "ipython3",
   "version": "3.9.12"
  }
 },
 "nbformat": 4,
 "nbformat_minor": 5
}
