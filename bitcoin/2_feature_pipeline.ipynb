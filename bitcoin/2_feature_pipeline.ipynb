{
 "cells": [
  {
   "cell_type": "markdown",
   "id": "80b7a92c",
   "metadata": {},
   "source": [
    "# <span style=\"font-width:bold; font-size: 3rem; color:#1EB182;\"><img src=\"../images/icon102.png\" width=\"38px\"></img> **Hopsworks Feature Store** </span><span style=\"font-width:bold; font-size: 3rem; color:#333;\">- Part 02: Feature Pipeline</span>\n",
    "\n",
    "[![Open In Colab](https://colab.research.google.com/assets/colab-badge.svg)](https://colab.research.google.com/github/logicalclocks/hopsworks-tutorials/blob/master/bitcoin/2_feature_pipeline.ipynb)\n",
    "\n",
    "\n",
    "## 🗒️ This notebook is divided in 3 sections:\n",
    "1. Parsing Data.\n",
    "2. Feature Group Insertion."
   ]
  },
  {
   "cell_type": "markdown",
   "id": "f9cc381d",
   "metadata": {},
   "source": [
    "### <span style=\"color:#ff5f27;\"> 📝 Imports</span>"
   ]
  },
  {
   "cell_type": "code",
   "execution_count": 1,
   "id": "439fc86b",
   "metadata": {},
   "outputs": [
    {
     "name": "stderr",
     "output_type": "stream",
     "text": [
      "[nltk_data] Downloading package stopwords to /Users/Max/nltk_data...\n",
      "[nltk_data]   Package stopwords is already up-to-date!\n",
      "[nltk_data] Downloading package wordnet to /Users/Max/nltk_data...\n",
      "[nltk_data]   Package wordnet is already up-to-date!\n",
      "[nltk_data] Downloading package omw-1.4 to /Users/Max/nltk_data...\n",
      "[nltk_data]   Package omw-1.4 is already up-to-date!\n"
     ]
    },
    {
     "data": {
      "text/plain": [
       "True"
      ]
     },
     "execution_count": 1,
     "metadata": {},
     "output_type": "execute_result"
    }
   ],
   "source": [
    "from functions import *\n",
    "\n",
    "from dotenv import load_dotenv\n",
    "load_dotenv()"
   ]
  },
  {
   "cell_type": "code",
   "execution_count": 2,
   "id": "2626d48d",
   "metadata": {},
   "outputs": [
    {
     "name": "stdout",
     "output_type": "stream",
     "text": [
      "Connected. Call `.close()` to terminate connection gracefully.\n",
      "\n",
      "Logged in to project, explore it here https://c.app.hopsworks.ai:443/p/167\n",
      "Connected. Call `.close()` to terminate connection gracefully.\n"
     ]
    },
    {
     "name": "stderr",
     "output_type": "stream",
     "text": [
      "DeprecationWarning: the imp module is deprecated in favour of importlib; see the module's documentation for alternative uses\n"
     ]
    }
   ],
   "source": [
    "import hopsworks\n",
    "\n",
    "project = hopsworks.login()\n",
    "\n",
    "fs = project.get_feature_store()"
   ]
  },
  {
   "cell_type": "markdown",
   "id": "303bb966",
   "metadata": {},
   "source": [
    "## <span style=\"color:#ff5f27;\"> 🧙🏼‍♂️ Parsing Data</span>"
   ]
  },
  {
   "cell_type": "markdown",
   "id": "afbe729a",
   "metadata": {},
   "source": [
    "### <span style='color:#ff5f27'> 📈 Bitcoin Data"
   ]
  },
  {
   "cell_type": "code",
   "execution_count": 3,
   "id": "7c43ee17",
   "metadata": {},
   "outputs": [
    {
     "name": "stdout",
     "output_type": "stream",
     "text": [
      "2022-09-28 16:57:02,993 INFO: New instance of unicorn-binance-rest-api_1.5.0-python_3.9.13 on Darwin 20.6.0 for exchange False started ...\n",
      "2022-09-28 16:57:02,995 INFO: Initiating `colorama_0.4.5`\n"
     ]
    },
    {
     "data": {
      "text/html": [
       "<div>\n",
       "<style scoped>\n",
       "    .dataframe tbody tr th:only-of-type {\n",
       "        vertical-align: middle;\n",
       "    }\n",
       "\n",
       "    .dataframe tbody tr th {\n",
       "        vertical-align: top;\n",
       "    }\n",
       "\n",
       "    .dataframe thead th {\n",
       "        text-align: right;\n",
       "    }\n",
       "</style>\n",
       "<table border=\"1\" class=\"dataframe\">\n",
       "  <thead>\n",
       "    <tr style=\"text-align: right;\">\n",
       "      <th></th>\n",
       "      <th>date</th>\n",
       "      <th>open</th>\n",
       "      <th>high</th>\n",
       "      <th>low</th>\n",
       "      <th>close</th>\n",
       "      <th>volume</th>\n",
       "      <th>quote_av</th>\n",
       "      <th>trades</th>\n",
       "      <th>tb_base_av</th>\n",
       "      <th>tb_quote_av</th>\n",
       "      <th>unix</th>\n",
       "    </tr>\n",
       "  </thead>\n",
       "  <tbody>\n",
       "    <tr>\n",
       "      <th>0</th>\n",
       "      <td>2022-07-30 00:00:00</td>\n",
       "      <td>23777.28</td>\n",
       "      <td>24668.00</td>\n",
       "      <td>23502.25</td>\n",
       "      <td>23643.51</td>\n",
       "      <td>151060.13211</td>\n",
       "      <td>3.634601e+09</td>\n",
       "      <td>4801528</td>\n",
       "      <td>75778.59282</td>\n",
       "      <td>1.823456e+09</td>\n",
       "      <td>1659128400000</td>\n",
       "    </tr>\n",
       "    <tr>\n",
       "      <th>1</th>\n",
       "      <td>2022-07-31 00:00:00</td>\n",
       "      <td>23644.64</td>\n",
       "      <td>24194.82</td>\n",
       "      <td>23227.31</td>\n",
       "      <td>23293.32</td>\n",
       "      <td>127743.32483</td>\n",
       "      <td>3.028386e+09</td>\n",
       "      <td>4463721</td>\n",
       "      <td>63737.43859</td>\n",
       "      <td>1.511326e+09</td>\n",
       "      <td>1659214800000</td>\n",
       "    </tr>\n",
       "    <tr>\n",
       "      <th>2</th>\n",
       "      <td>2022-08-01 00:00:00</td>\n",
       "      <td>23296.36</td>\n",
       "      <td>23509.68</td>\n",
       "      <td>22850.00</td>\n",
       "      <td>23268.01</td>\n",
       "      <td>144210.16219</td>\n",
       "      <td>3.346372e+09</td>\n",
       "      <td>4775213</td>\n",
       "      <td>71458.39583</td>\n",
       "      <td>1.658446e+09</td>\n",
       "      <td>1659301200000</td>\n",
       "    </tr>\n",
       "  </tbody>\n",
       "</table>\n",
       "</div>"
      ],
      "text/plain": [
       "                  date      open      high       low     close        volume  \\\n",
       "0  2022-07-30 00:00:00  23777.28  24668.00  23502.25  23643.51  151060.13211   \n",
       "1  2022-07-31 00:00:00  23644.64  24194.82  23227.31  23293.32  127743.32483   \n",
       "2  2022-08-01 00:00:00  23296.36  23509.68  22850.00  23268.01  144210.16219   \n",
       "\n",
       "       quote_av   trades   tb_base_av   tb_quote_av           unix  \n",
       "0  3.634601e+09  4801528  75778.59282  1.823456e+09  1659128400000  \n",
       "1  3.028386e+09  4463721  63737.43859  1.511326e+09  1659214800000  \n",
       "2  3.346372e+09  4775213  71458.39583  1.658446e+09  1659301200000  "
      ]
     },
     "execution_count": 3,
     "metadata": {},
     "output_type": "execute_result"
    }
   ],
   "source": [
    "df_bitcoin = parse_btc_data(number_of_days_ago=60)\n",
    "df_bitcoin.head(3)"
   ]
  },
  {
   "cell_type": "code",
   "execution_count": 4,
   "id": "5413b453",
   "metadata": {},
   "outputs": [
    {
     "data": {
      "text/html": [
       "<div>\n",
       "<style scoped>\n",
       "    .dataframe tbody tr th:only-of-type {\n",
       "        vertical-align: middle;\n",
       "    }\n",
       "\n",
       "    .dataframe tbody tr th {\n",
       "        vertical-align: top;\n",
       "    }\n",
       "\n",
       "    .dataframe thead th {\n",
       "        text-align: right;\n",
       "    }\n",
       "</style>\n",
       "<table border=\"1\" class=\"dataframe\">\n",
       "  <thead>\n",
       "    <tr style=\"text-align: right;\">\n",
       "      <th></th>\n",
       "      <th>date</th>\n",
       "      <th>open</th>\n",
       "      <th>high</th>\n",
       "      <th>low</th>\n",
       "      <th>close</th>\n",
       "      <th>volume</th>\n",
       "      <th>quote_av</th>\n",
       "      <th>trades</th>\n",
       "      <th>tb_base_av</th>\n",
       "      <th>tb_quote_av</th>\n",
       "      <th>...</th>\n",
       "      <th>exp_std_14_days</th>\n",
       "      <th>momentum_14_days</th>\n",
       "      <th>rate_of_change_14_days</th>\n",
       "      <th>strength_index_14_days</th>\n",
       "      <th>std_56_days</th>\n",
       "      <th>exp_mean_56_days</th>\n",
       "      <th>exp_std_56_days</th>\n",
       "      <th>momentum_56_days</th>\n",
       "      <th>rate_of_change_56_days</th>\n",
       "      <th>strength_index_56_days</th>\n",
       "    </tr>\n",
       "  </thead>\n",
       "  <tbody>\n",
       "    <tr>\n",
       "      <th>58</th>\n",
       "      <td>2022-09-26</td>\n",
       "      <td>18809.13</td>\n",
       "      <td>19318.96</td>\n",
       "      <td>18680.72</td>\n",
       "      <td>19227.82</td>\n",
       "      <td>439239.21943</td>\n",
       "      <td>8.356952e+09</td>\n",
       "      <td>5837041</td>\n",
       "      <td>220623.29914</td>\n",
       "      <td>4.198006e+09</td>\n",
       "      <td>...</td>\n",
       "      <td>849.990412</td>\n",
       "      <td>-3167.92</td>\n",
       "      <td>-4.688065</td>\n",
       "      <td>44.106314</td>\n",
       "      <td>1808.341707</td>\n",
       "      <td>20451.720894</td>\n",
       "      <td>1601.899389</td>\n",
       "      <td>-4040.19</td>\n",
       "      <td>-16.356379</td>\n",
       "      <td>41.431348</td>\n",
       "    </tr>\n",
       "    <tr>\n",
       "      <th>59</th>\n",
       "      <td>2022-09-27</td>\n",
       "      <td>19226.68</td>\n",
       "      <td>20385.86</td>\n",
       "      <td>18816.32</td>\n",
       "      <td>19079.13</td>\n",
       "      <td>593260.74161</td>\n",
       "      <td>1.170577e+10</td>\n",
       "      <td>8152473</td>\n",
       "      <td>296727.71059</td>\n",
       "      <td>5.856646e+09</td>\n",
       "      <td>...</td>\n",
       "      <td>801.416277</td>\n",
       "      <td>-1094.44</td>\n",
       "      <td>-5.673587</td>\n",
       "      <td>43.033766</td>\n",
       "      <td>1812.655631</td>\n",
       "      <td>20397.160260</td>\n",
       "      <td>1592.846495</td>\n",
       "      <td>-3908.66</td>\n",
       "      <td>-16.386972</td>\n",
       "      <td>41.179752</td>\n",
       "    </tr>\n",
       "    <tr>\n",
       "      <th>60</th>\n",
       "      <td>2022-09-28</td>\n",
       "      <td>19078.10</td>\n",
       "      <td>19238.28</td>\n",
       "      <td>18471.28</td>\n",
       "      <td>19154.64</td>\n",
       "      <td>309292.11375</td>\n",
       "      <td>5.834608e+09</td>\n",
       "      <td>4400104</td>\n",
       "      <td>153801.87689</td>\n",
       "      <td>2.901864e+09</td>\n",
       "      <td>...</td>\n",
       "      <td>750.719506</td>\n",
       "      <td>-1072.07</td>\n",
       "      <td>-2.777603</td>\n",
       "      <td>43.781424</td>\n",
       "      <td>1815.932383</td>\n",
       "      <td>20347.999156</td>\n",
       "      <td>1579.974558</td>\n",
       "      <td>-3663.73</td>\n",
       "      <td>-15.331048</td>\n",
       "      <td>41.363866</td>\n",
       "    </tr>\n",
       "  </tbody>\n",
       "</table>\n",
       "<p>3 rows × 33 columns</p>\n",
       "</div>"
      ],
      "text/plain": [
       "         date      open      high       low     close        volume  \\\n",
       "58 2022-09-26  18809.13  19318.96  18680.72  19227.82  439239.21943   \n",
       "59 2022-09-27  19226.68  20385.86  18816.32  19079.13  593260.74161   \n",
       "60 2022-09-28  19078.10  19238.28  18471.28  19154.64  309292.11375   \n",
       "\n",
       "        quote_av   trades    tb_base_av   tb_quote_av  ...  exp_std_14_days  \\\n",
       "58  8.356952e+09  5837041  220623.29914  4.198006e+09  ...       849.990412   \n",
       "59  1.170577e+10  8152473  296727.71059  5.856646e+09  ...       801.416277   \n",
       "60  5.834608e+09  4400104  153801.87689  2.901864e+09  ...       750.719506   \n",
       "\n",
       "    momentum_14_days  rate_of_change_14_days  strength_index_14_days  \\\n",
       "58          -3167.92               -4.688065               44.106314   \n",
       "59          -1094.44               -5.673587               43.033766   \n",
       "60          -1072.07               -2.777603               43.781424   \n",
       "\n",
       "    std_56_days  exp_mean_56_days  exp_std_56_days  momentum_56_days  \\\n",
       "58  1808.341707      20451.720894      1601.899389          -4040.19   \n",
       "59  1812.655631      20397.160260      1592.846495          -3908.66   \n",
       "60  1815.932383      20347.999156      1579.974558          -3663.73   \n",
       "\n",
       "    rate_of_change_56_days  strength_index_56_days  \n",
       "58              -16.356379               41.431348  \n",
       "59              -16.386972               41.179752  \n",
       "60              -15.331048               41.363866  \n",
       "\n",
       "[3 rows x 33 columns]"
      ]
     },
     "execution_count": 4,
     "metadata": {},
     "output_type": "execute_result"
    }
   ],
   "source": [
    "df_bitcoin_processed = process_btc_data(df_bitcoin)\n",
    "df_bitcoin_processed.tail(3)"
   ]
  },
  {
   "cell_type": "markdown",
   "id": "d1c0a5dd",
   "metadata": {},
   "source": [
    "### <span style='color:#ff5f27'> 💭 Tweets Data"
   ]
  },
  {
   "cell_type": "code",
   "execution_count": 5,
   "id": "0b1d735f",
   "metadata": {
    "scrolled": true
   },
   "outputs": [
    {
     "name": "stderr",
     "output_type": "stream",
     "text": [
      "DeprecationWarning: OAuthHandler is deprecated; use OAuth1UserHandler instead.\n"
     ]
    },
    {
     "data": {
      "text/html": [
       "<div>\n",
       "<style scoped>\n",
       "    .dataframe tbody tr th:only-of-type {\n",
       "        vertical-align: middle;\n",
       "    }\n",
       "\n",
       "    .dataframe tbody tr th {\n",
       "        vertical-align: top;\n",
       "    }\n",
       "\n",
       "    .dataframe thead th {\n",
       "        text-align: right;\n",
       "    }\n",
       "</style>\n",
       "<table border=\"1\" class=\"dataframe\">\n",
       "  <thead>\n",
       "    <tr style=\"text-align: right;\">\n",
       "      <th></th>\n",
       "      <th>date</th>\n",
       "      <th>text</th>\n",
       "    </tr>\n",
       "  </thead>\n",
       "  <tbody>\n",
       "    <tr>\n",
       "      <th>0</th>\n",
       "      <td>2022-09-23 00:26:04+00:00</td>\n",
       "      <td>Fiat money printing hides incompetence at all ...</td>\n",
       "    </tr>\n",
       "    <tr>\n",
       "      <th>1</th>\n",
       "      <td>2022-09-23 00:51:41+00:00</td>\n",
       "      <td>Why is #bitcoin dropping? And will it fall bel...</td>\n",
       "    </tr>\n",
       "    <tr>\n",
       "      <th>2</th>\n",
       "      <td>2022-09-23 04:37:01+00:00</td>\n",
       "      <td>The colors of money What is your color? #bitco...</td>\n",
       "    </tr>\n",
       "    <tr>\n",
       "      <th>3</th>\n",
       "      <td>2022-09-23 05:38:31+00:00</td>\n",
       "      <td>It’s time to separate money from state. #Bitco...</td>\n",
       "    </tr>\n",
       "    <tr>\n",
       "      <th>4</th>\n",
       "      <td>2022-09-23 06:00:51+00:00</td>\n",
       "      <td>Sometimes, it's just sad to see people who don...</td>\n",
       "    </tr>\n",
       "  </tbody>\n",
       "</table>\n",
       "</div>"
      ],
      "text/plain": [
       "                       date                                               text\n",
       "0 2022-09-23 00:26:04+00:00  Fiat money printing hides incompetence at all ...\n",
       "1 2022-09-23 00:51:41+00:00  Why is #bitcoin dropping? And will it fall bel...\n",
       "2 2022-09-23 04:37:01+00:00  The colors of money What is your color? #bitco...\n",
       "3 2022-09-23 05:38:31+00:00  It’s time to separate money from state. #Bitco...\n",
       "4 2022-09-23 06:00:51+00:00  Sometimes, it's just sad to see people who don..."
      ]
     },
     "execution_count": 5,
     "metadata": {},
     "output_type": "execute_result"
    }
   ],
   "source": [
    "df_tweets_parsed = get_last_tweets()\n",
    "df_tweets_parsed.head()"
   ]
  },
  {
   "cell_type": "code",
   "execution_count": 6,
   "id": "c04b795d",
   "metadata": {},
   "outputs": [
    {
     "data": {
      "text/html": [
       "<div>\n",
       "<style scoped>\n",
       "    .dataframe tbody tr th:only-of-type {\n",
       "        vertical-align: middle;\n",
       "    }\n",
       "\n",
       "    .dataframe tbody tr th {\n",
       "        vertical-align: top;\n",
       "    }\n",
       "\n",
       "    .dataframe thead th {\n",
       "        text-align: right;\n",
       "    }\n",
       "</style>\n",
       "<table border=\"1\" class=\"dataframe\">\n",
       "  <thead>\n",
       "    <tr style=\"text-align: right;\">\n",
       "      <th></th>\n",
       "      <th>date</th>\n",
       "      <th>subjectivity</th>\n",
       "      <th>polarity</th>\n",
       "      <th>unix</th>\n",
       "    </tr>\n",
       "  </thead>\n",
       "  <tbody>\n",
       "    <tr>\n",
       "      <th>0</th>\n",
       "      <td>2022-09-20 00:00:00</td>\n",
       "      <td>7.855706</td>\n",
       "      <td>1.711442</td>\n",
       "      <td>1663621200000</td>\n",
       "    </tr>\n",
       "    <tr>\n",
       "      <th>1</th>\n",
       "      <td>2022-09-21 00:00:00</td>\n",
       "      <td>7.413795</td>\n",
       "      <td>1.768780</td>\n",
       "      <td>1663707600000</td>\n",
       "    </tr>\n",
       "    <tr>\n",
       "      <th>2</th>\n",
       "      <td>2022-09-22 00:00:00</td>\n",
       "      <td>2.998512</td>\n",
       "      <td>0.786066</td>\n",
       "      <td>1663794000000</td>\n",
       "    </tr>\n",
       "    <tr>\n",
       "      <th>3</th>\n",
       "      <td>2022-09-23 00:00:00</td>\n",
       "      <td>8.131728</td>\n",
       "      <td>1.814836</td>\n",
       "      <td>1663880400000</td>\n",
       "    </tr>\n",
       "    <tr>\n",
       "      <th>4</th>\n",
       "      <td>2022-09-24 00:00:00</td>\n",
       "      <td>2.929545</td>\n",
       "      <td>1.236364</td>\n",
       "      <td>1663966800000</td>\n",
       "    </tr>\n",
       "  </tbody>\n",
       "</table>\n",
       "</div>"
      ],
      "text/plain": [
       "                  date  subjectivity  polarity           unix\n",
       "0  2022-09-20 00:00:00      7.855706  1.711442  1663621200000\n",
       "1  2022-09-21 00:00:00      7.413795  1.768780  1663707600000\n",
       "2  2022-09-22 00:00:00      2.998512  0.786066  1663794000000\n",
       "3  2022-09-23 00:00:00      8.131728  1.814836  1663880400000\n",
       "4  2022-09-24 00:00:00      2.929545  1.236364  1663966800000"
      ]
     },
     "execution_count": 6,
     "metadata": {},
     "output_type": "execute_result"
    }
   ],
   "source": [
    "tweets_textblob = textblob_processing(df_tweets_parsed)\n",
    "tweets_textblob.head()"
   ]
  },
  {
   "cell_type": "code",
   "execution_count": 7,
   "id": "38230609",
   "metadata": {},
   "outputs": [
    {
     "name": "stderr",
     "output_type": "stream",
     "text": [
      "100%|███████████████████████████████████████| 157/157 [00:00<00:00, 4558.14it/s]\n"
     ]
    },
    {
     "data": {
      "text/html": [
       "<div>\n",
       "<style scoped>\n",
       "    .dataframe tbody tr th:only-of-type {\n",
       "        vertical-align: middle;\n",
       "    }\n",
       "\n",
       "    .dataframe tbody tr th {\n",
       "        vertical-align: top;\n",
       "    }\n",
       "\n",
       "    .dataframe thead th {\n",
       "        text-align: right;\n",
       "    }\n",
       "</style>\n",
       "<table border=\"1\" class=\"dataframe\">\n",
       "  <thead>\n",
       "    <tr style=\"text-align: right;\">\n",
       "      <th></th>\n",
       "      <th>date</th>\n",
       "      <th>compound</th>\n",
       "      <th>unix</th>\n",
       "    </tr>\n",
       "  </thead>\n",
       "  <tbody>\n",
       "    <tr>\n",
       "      <th>0</th>\n",
       "      <td>2022-09-20 00:00:00</td>\n",
       "      <td>2.2292</td>\n",
       "      <td>1663621200000</td>\n",
       "    </tr>\n",
       "    <tr>\n",
       "      <th>1</th>\n",
       "      <td>2022-09-21 00:00:00</td>\n",
       "      <td>3.6847</td>\n",
       "      <td>1663707600000</td>\n",
       "    </tr>\n",
       "    <tr>\n",
       "      <th>2</th>\n",
       "      <td>2022-09-22 00:00:00</td>\n",
       "      <td>1.5785</td>\n",
       "      <td>1663794000000</td>\n",
       "    </tr>\n",
       "    <tr>\n",
       "      <th>3</th>\n",
       "      <td>2022-09-23 00:00:00</td>\n",
       "      <td>1.3411</td>\n",
       "      <td>1663880400000</td>\n",
       "    </tr>\n",
       "    <tr>\n",
       "      <th>4</th>\n",
       "      <td>2022-09-24 00:00:00</td>\n",
       "      <td>-0.4297</td>\n",
       "      <td>1663966800000</td>\n",
       "    </tr>\n",
       "  </tbody>\n",
       "</table>\n",
       "</div>"
      ],
      "text/plain": [
       "                  date  compound           unix\n",
       "0  2022-09-20 00:00:00    2.2292  1663621200000\n",
       "1  2022-09-21 00:00:00    3.6847  1663707600000\n",
       "2  2022-09-22 00:00:00    1.5785  1663794000000\n",
       "3  2022-09-23 00:00:00    1.3411  1663880400000\n",
       "4  2022-09-24 00:00:00   -0.4297  1663966800000"
      ]
     },
     "execution_count": 7,
     "metadata": {},
     "output_type": "execute_result"
    }
   ],
   "source": [
    "tweets_vader = vader_processing(df_tweets_parsed)\n",
    "tweets_vader.head()"
   ]
  },
  {
   "cell_type": "markdown",
   "id": "a4fbbd48",
   "metadata": {},
   "source": [
    "---\n",
    "## <span style=\"color:#ff5f27;\"> 📡 Connecting to Hopsworks Feature Store </span>"
   ]
  },
  {
   "cell_type": "code",
   "execution_count": 8,
   "id": "c79a5488",
   "metadata": {},
   "outputs": [
    {
     "name": "stdout",
     "output_type": "stream",
     "text": [
      "Connection closed.\n",
      "Connected. Call `.close()` to terminate connection gracefully.\n",
      "\n",
      "Logged in to project, explore it here https://c.app.hopsworks.ai:443/p/167\n",
      "Connected. Call `.close()` to terminate connection gracefully.\n"
     ]
    }
   ],
   "source": [
    "import hopsworks\n",
    "\n",
    "project = hopsworks.login()\n",
    "\n",
    "fs = project.get_feature_store()"
   ]
  },
  {
   "cell_type": "markdown",
   "id": "6cbf5cc5",
   "metadata": {},
   "source": [
    "## <span style=\"color:#ff5f27;\">⬆️ Uploading new data to the Feature Store</span>"
   ]
  },
  {
   "cell_type": "markdown",
   "id": "929c35bb",
   "metadata": {},
   "source": [
    "### <span style='color:#ff5f27'> 📈 Bitcoin Feature Group"
   ]
  },
  {
   "cell_type": "code",
   "execution_count": 9,
   "id": "05241588",
   "metadata": {},
   "outputs": [
    {
     "data": {
      "application/vnd.jupyter.widget-view+json": {
       "model_id": "78ca6690b11242418ce0cf646f26ad76",
       "version_major": 2,
       "version_minor": 0
      },
      "text/plain": [
       "Uploading Dataframe: 0.00% |          | Rows 0/61 | Elapsed Time: 00:00 | Remaining Time: ?"
      ]
     },
     "metadata": {},
     "output_type": "display_data"
    },
    {
     "name": "stdout",
     "output_type": "stream",
     "text": [
      "Launching offline feature group backfill job...\n",
      "Backfill Job started successfully, you can follow the progress at \n",
      "https://c.app.hopsworks.ai/p/167/jobs/named/bitcoin_price_1_offline_fg_backfill/executions\n"
     ]
    },
    {
     "data": {
      "text/plain": [
       "(<hsfs.core.job.Job at 0x7f96e6a80c70>, None)"
      ]
     },
     "execution_count": 9,
     "metadata": {},
     "output_type": "execute_result"
    }
   ],
   "source": [
    "btc_price_fg = fs.get_or_create_feature_group(\n",
    "    name='bitcoin_price',\n",
    "    version=1\n",
    ")\n",
    "\n",
    "btc_price_fg.insert(df_bitcoin_processed)"
   ]
  },
  {
   "cell_type": "markdown",
   "id": "303fa7d0",
   "metadata": {},
   "source": [
    "### <span style='color:#ff5f27'> 💭 Tweets Feature Groups"
   ]
  },
  {
   "cell_type": "code",
   "execution_count": 10,
   "id": "028f2f43",
   "metadata": {},
   "outputs": [
    {
     "data": {
      "application/vnd.jupyter.widget-view+json": {
       "model_id": "c4c3f2facb934a64bdeac8b437da4b62",
       "version_major": 2,
       "version_minor": 0
      },
      "text/plain": [
       "Uploading Dataframe: 0.00% |          | Rows 0/9 | Elapsed Time: 00:00 | Remaining Time: ?"
      ]
     },
     "metadata": {},
     "output_type": "display_data"
    },
    {
     "name": "stdout",
     "output_type": "stream",
     "text": [
      "Launching offline feature group backfill job...\n",
      "Backfill Job started successfully, you can follow the progress at \n",
      "https://c.app.hopsworks.ai/p/167/jobs/named/bitcoin_tweets_textblob_1_offline_fg_backfill/executions\n"
     ]
    },
    {
     "data": {
      "text/plain": [
       "(<hsfs.core.job.Job at 0x7f96e71b4a30>, None)"
      ]
     },
     "execution_count": 10,
     "metadata": {},
     "output_type": "execute_result"
    }
   ],
   "source": [
    "tweets_textblob_fg = fs.get_or_create_feature_group(\n",
    "    name='bitcoin_tweets_textblob',\n",
    "    version=1\n",
    ")\n",
    "\n",
    "tweets_textblob_fg.insert(tweets_textblob)"
   ]
  },
  {
   "cell_type": "code",
   "execution_count": 11,
   "id": "7290f40f",
   "metadata": {},
   "outputs": [
    {
     "data": {
      "application/vnd.jupyter.widget-view+json": {
       "model_id": "f072f3c175834adb80c320c8ec01a84c",
       "version_major": 2,
       "version_minor": 0
      },
      "text/plain": [
       "Uploading Dataframe: 0.00% |          | Rows 0/9 | Elapsed Time: 00:00 | Remaining Time: ?"
      ]
     },
     "metadata": {},
     "output_type": "display_data"
    },
    {
     "name": "stdout",
     "output_type": "stream",
     "text": [
      "Launching offline feature group backfill job...\n",
      "Backfill Job started successfully, you can follow the progress at \n",
      "https://c.app.hopsworks.ai/p/167/jobs/named/bitcoin_tweets_vader_1_offline_fg_backfill/executions\n"
     ]
    },
    {
     "data": {
      "text/plain": [
       "(<hsfs.core.job.Job at 0x7f96ebe15d60>, None)"
      ]
     },
     "execution_count": 11,
     "metadata": {},
     "output_type": "execute_result"
    }
   ],
   "source": [
    "tweets_vader_fg = fs.get_or_create_feature_group(\n",
    "    name='bitcoin_tweets_vader',\n",
    "    version=1\n",
    ")\n",
    "\n",
    "tweets_vader_fg.insert(tweets_vader)"
   ]
  },
  {
   "cell_type": "markdown",
   "id": "c5c193f0",
   "metadata": {},
   "source": [
    "---"
   ]
  }
 ],
 "metadata": {
  "kernelspec": {
   "display_name": "Python 3 (ipykernel)",
   "language": "python",
   "name": "python3"
  },
  "language_info": {
   "codemirror_mode": {
    "name": "ipython",
    "version": 3
   },
   "file_extension": ".py",
   "mimetype": "text/x-python",
   "name": "python",
   "nbconvert_exporter": "python",
   "pygments_lexer": "ipython3",
   "version": "3.9.12"
  }
 },
 "nbformat": 4,
 "nbformat_minor": 5
}
