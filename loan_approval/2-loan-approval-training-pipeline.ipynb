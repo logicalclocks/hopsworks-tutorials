{
 "cells": [
  {
   "cell_type": "markdown",
   "id": "4e1e2fcc",
   "metadata": {
    "papermill": {
     "duration": 0.029083,
     "end_time": "2023-01-31T14:11:23.008968",
     "exception": false,
     "start_time": "2023-01-31T14:11:22.979885",
     "status": "completed"
    },
    "tags": []
   },
   "source": [
    "# 🏦 Loan Analysis Training Pipeline\n",
    "\n",
    "https://www.kaggle.com/code/faressayah/lending-club-loan-defaulters-prediction \n",
    "\n",
    "\n"
   ]
  },
  {
   "cell_type": "code",
   "execution_count": null,
   "id": "7b696de8",
   "metadata": {},
   "outputs": [],
   "source": [
    "!pip install hopsworks"
   ]
  },
  {
   "cell_type": "code",
   "execution_count": 5,
   "id": "9cb24c87",
   "metadata": {
    "_kg_hide-input": true,
    "execution": {
     "iopub.execute_input": "2023-01-31T14:11:35.164738Z",
     "iopub.status.busy": "2023-01-31T14:11:35.163899Z",
     "iopub.status.idle": "2023-01-31T14:11:44.332161Z",
     "shell.execute_reply": "2023-01-31T14:11:44.331116Z"
    },
    "papermill": {
     "duration": 9.198485,
     "end_time": "2023-01-31T14:11:44.334641",
     "exception": false,
     "start_time": "2023-01-31T14:11:35.136156",
     "status": "completed"
    },
    "tags": []
   },
   "outputs": [],
   "source": [
    "import pandas as pd\n",
    "import numpy as np\n",
    "import seaborn as sns\n",
    "from scipy import stats \n",
    "import matplotlib.pyplot as plt\n",
    "import time\n",
    "\n",
    "from sklearn.model_selection import train_test_split, RandomizedSearchCV\n",
    "from sklearn.preprocessing import MinMaxScaler\n",
    "\n",
    "from sklearn.metrics import (\n",
    "    accuracy_score, confusion_matrix, classification_report, \n",
    "    roc_auc_score, roc_curve, auc\n",
    ")\n",
    "from sklearn.metrics import ConfusionMatrixDisplay, RocCurveDisplay\n",
    "\n",
    "from sklearn.ensemble import RandomForestClassifier\n",
    "\n",
    "pd.set_option('display.float', '{:.2f}'.format)\n",
    "pd.set_option('display.max_columns', 50)\n",
    "pd.set_option('display.max_rows', 50)"
   ]
  },
  {
   "cell_type": "markdown",
   "id": "5b9edb3f",
   "metadata": {},
   "source": [
    "## 🔖 Hopsworks Feature Store"
   ]
  },
  {
   "cell_type": "code",
   "execution_count": 6,
   "id": "4a36d859",
   "metadata": {},
   "outputs": [
    {
     "name": "stdout",
     "output_type": "stream",
     "text": [
      "Connected. Call `.close()` to terminate connection gracefully.\n",
      "\n",
      "Logged in to project, explore it here https://c.app.hopsworks.ai:443/p/398\n",
      "Connected. Call `.close()` to terminate connection gracefully.\n"
     ]
    },
    {
     "name": "stderr",
     "output_type": "stream",
     "text": [
      "DeprecationWarning: the imp module is deprecated in favour of importlib; see the module's documentation for alternative uses\n"
     ]
    }
   ],
   "source": [
    "import hopsworks\n",
    "\n",
    "proj = hopsworks.login()\n",
    "fs = proj.get_feature_store()"
   ]
  },
  {
   "cell_type": "markdown",
   "id": "9dde0a81",
   "metadata": {
    "papermill": {
     "duration": 0.158827,
     "end_time": "2023-01-31T14:13:11.421049",
     "exception": false,
     "start_time": "2023-01-31T14:13:11.262222",
     "status": "completed"
    },
    "tags": []
   },
   "source": [
    "## Create the Feature View"
   ]
  },
  {
   "cell_type": "code",
   "execution_count": 7,
   "id": "fc541a8a",
   "metadata": {},
   "outputs": [],
   "source": [
    "fg_loans = fs.get_feature_group(name=\"loans\", version=1)\n",
    "fg_applicants = fs.get_feature_group(name=\"applicants\", version=1)\n",
    "\n",
    "query = fg_loans.select_except([\"issue_d\", \"id\"]).join(\\\n",
    "            fg_applicants.select_except([\"earliest_cr_line\", \"id\"]))"
   ]
  },
  {
   "cell_type": "code",
   "execution_count": 8,
   "id": "26d001a5",
   "metadata": {},
   "outputs": [],
   "source": [
    "try:\n",
    "    fv = fs.get_feature_view(name=\"loans_approvals\", version=1)\n",
    "except:\n",
    "    fv = fs.create_feature_view(name=\"loans_approvals\", \n",
    "                       version=1,\n",
    "                        description=\"Loan applicant data\",\n",
    "                        labels=[\"loan_status\"],\n",
    "                        query=query\n",
    "                       )"
   ]
  },
  {
   "cell_type": "code",
   "execution_count": 9,
   "id": "18ae1976",
   "metadata": {},
   "outputs": [
    {
     "name": "stdout",
     "output_type": "stream",
     "text": [
      "2023-04-04 06:30:13,914 INFO: USE `dowlingj_featurestore`\n",
      "2023-04-04 06:30:15,338 INFO: WITH right_fg0 AS (SELECT *\n",
      "FROM (SELECT `fg1`.`loan_amnt` `loan_amnt`, `fg1`.`term` `term`, `fg1`.`int_rate` `int_rate`, `fg1`.`installment` `installment`, `fg1`.`sub_grade` `sub_grade`, `fg1`.`loan_status` `loan_status`, `fg1`.`purpose` `purpose`, `fg1`.`zip_code` `zip_code`, `fg1`.`id` `join_pk_id`, `fg1`.`issue_d` `join_evt_issue_d`, `fg0`.`earliest_cr_line_year` `earliest_cr_line_year`, `fg0`.`home_ownership` `home_ownership`, `fg0`.`annual_inc` `annual_inc`, `fg0`.`verification_status` `verification_status`, `fg0`.`dti` `dti`, `fg0`.`open_acc` `open_acc`, `fg0`.`pub_rec` `pub_rec`, `fg0`.`revol_bal` `revol_bal`, `fg0`.`revol_util` `revol_util`, `fg0`.`total_acc` `total_acc`, `fg0`.`initial_list_status` `initial_list_status`, `fg0`.`application_type` `application_type`, `fg0`.`mort_acc` `mort_acc`, `fg0`.`pub_rec_bankruptcies` `pub_rec_bankruptcies`, RANK() OVER (PARTITION BY `fg1`.`id`, `fg1`.`issue_d` ORDER BY `fg0`.`earliest_cr_line` DESC) pit_rank_hopsworks\n",
      "FROM `dowlingj_featurestore`.`loans_1` `fg1`\n",
      "INNER JOIN `dowlingj_featurestore`.`applicants_1` `fg0` ON `fg1`.`id` = `fg0`.`id` AND `fg1`.`issue_d` >= `fg0`.`earliest_cr_line`) NA\n",
      "WHERE `pit_rank_hopsworks` = 1) (SELECT `right_fg0`.`loan_amnt` `loan_amnt`, `right_fg0`.`term` `term`, `right_fg0`.`int_rate` `int_rate`, `right_fg0`.`installment` `installment`, `right_fg0`.`sub_grade` `sub_grade`, `right_fg0`.`loan_status` `loan_status`, `right_fg0`.`purpose` `purpose`, `right_fg0`.`zip_code` `zip_code`, `right_fg0`.`earliest_cr_line_year` `earliest_cr_line_year`, `right_fg0`.`home_ownership` `home_ownership`, `right_fg0`.`annual_inc` `annual_inc`, `right_fg0`.`verification_status` `verification_status`, `right_fg0`.`dti` `dti`, `right_fg0`.`open_acc` `open_acc`, `right_fg0`.`pub_rec` `pub_rec`, `right_fg0`.`revol_bal` `revol_bal`, `right_fg0`.`revol_util` `revol_util`, `right_fg0`.`total_acc` `total_acc`, `right_fg0`.`initial_list_status` `initial_list_status`, `right_fg0`.`application_type` `application_type`, `right_fg0`.`mort_acc` `mort_acc`, `right_fg0`.`pub_rec_bankruptcies` `pub_rec_bankruptcies`\n",
      "FROM right_fg0)\n"
     ]
    },
    {
     "name": "stderr",
     "output_type": "stream",
     "text": [
      "UserWarning: pandas only supports SQLAlchemy connectable (engine/connection) or database string URI or sqlite3 DBAPI2 connection. Other DBAPI2 objects are not tested. Please consider using SQLAlchemy.\n"
     ]
    },
    {
     "name": "stdout",
     "output_type": "stream",
     "text": [
      "Get Random Split Training Data in 149.15048694610596 seconds ---\n"
     ]
    },
    {
     "name": "stderr",
     "output_type": "stream",
     "text": [
      "VersionWarning: Incremented version to `2`.\n"
     ]
    }
   ],
   "source": [
    "start_time = time.time()\n",
    "\n",
    "X_train, X_test, y_train, y_test = fv.train_test_split(test_size=0.2)\n",
    "\n",
    "print(\"Get Random Split Training Data in %s seconds ---\" % (time.time() - start_time))"
   ]
  },
  {
   "cell_type": "code",
   "execution_count": 10,
   "id": "c741e55c",
   "metadata": {},
   "outputs": [
    {
     "data": {
      "text/html": [
       "<div>\n",
       "<style scoped>\n",
       "    .dataframe tbody tr th:only-of-type {\n",
       "        vertical-align: middle;\n",
       "    }\n",
       "\n",
       "    .dataframe tbody tr th {\n",
       "        vertical-align: top;\n",
       "    }\n",
       "\n",
       "    .dataframe thead th {\n",
       "        text-align: right;\n",
       "    }\n",
       "</style>\n",
       "<table border=\"1\" class=\"dataframe\">\n",
       "  <thead>\n",
       "    <tr style=\"text-align: right;\">\n",
       "      <th></th>\n",
       "      <th>loan_amnt</th>\n",
       "      <th>term</th>\n",
       "      <th>int_rate</th>\n",
       "      <th>installment</th>\n",
       "      <th>sub_grade</th>\n",
       "      <th>purpose</th>\n",
       "      <th>zip_code</th>\n",
       "      <th>earliest_cr_line_year</th>\n",
       "      <th>home_ownership</th>\n",
       "      <th>annual_inc</th>\n",
       "      <th>verification_status</th>\n",
       "      <th>dti</th>\n",
       "      <th>open_acc</th>\n",
       "      <th>pub_rec</th>\n",
       "      <th>revol_bal</th>\n",
       "      <th>revol_util</th>\n",
       "      <th>total_acc</th>\n",
       "      <th>initial_list_status</th>\n",
       "      <th>application_type</th>\n",
       "      <th>mort_acc</th>\n",
       "      <th>pub_rec_bankruptcies</th>\n",
       "    </tr>\n",
       "  </thead>\n",
       "  <tbody>\n",
       "    <tr>\n",
       "      <th>0</th>\n",
       "      <td>10000.00</td>\n",
       "      <td>36 months</td>\n",
       "      <td>11.44</td>\n",
       "      <td>329.48</td>\n",
       "      <td>B4</td>\n",
       "      <td>vacation</td>\n",
       "      <td>22690</td>\n",
       "      <td>1990</td>\n",
       "      <td>RENT</td>\n",
       "      <td>117000.00</td>\n",
       "      <td>Not Verified</td>\n",
       "      <td>26.24</td>\n",
       "      <td>16.00</td>\n",
       "      <td>0</td>\n",
       "      <td>36369.00</td>\n",
       "      <td>41.80</td>\n",
       "      <td>25.00</td>\n",
       "      <td>w</td>\n",
       "      <td>INDIVIDUAL</td>\n",
       "      <td>0.00</td>\n",
       "      <td>0.00</td>\n",
       "    </tr>\n",
       "    <tr>\n",
       "      <th>4</th>\n",
       "      <td>24375.00</td>\n",
       "      <td>60 months</td>\n",
       "      <td>17.27</td>\n",
       "      <td>609.33</td>\n",
       "      <td>C5</td>\n",
       "      <td>credit_card</td>\n",
       "      <td>11650</td>\n",
       "      <td>1999</td>\n",
       "      <td>MORTGAGE</td>\n",
       "      <td>55000.00</td>\n",
       "      <td>Verified</td>\n",
       "      <td>33.95</td>\n",
       "      <td>13.00</td>\n",
       "      <td>0</td>\n",
       "      <td>24584.00</td>\n",
       "      <td>69.80</td>\n",
       "      <td>43.00</td>\n",
       "      <td>f</td>\n",
       "      <td>INDIVIDUAL</td>\n",
       "      <td>1.00</td>\n",
       "      <td>0.00</td>\n",
       "    </tr>\n",
       "    <tr>\n",
       "      <th>5</th>\n",
       "      <td>20000.00</td>\n",
       "      <td>36 months</td>\n",
       "      <td>13.33</td>\n",
       "      <td>677.07</td>\n",
       "      <td>C3</td>\n",
       "      <td>debt_consolidation</td>\n",
       "      <td>30723</td>\n",
       "      <td>2005</td>\n",
       "      <td>MORTGAGE</td>\n",
       "      <td>86788.00</td>\n",
       "      <td>Verified</td>\n",
       "      <td>16.31</td>\n",
       "      <td>8.00</td>\n",
       "      <td>0</td>\n",
       "      <td>25757.00</td>\n",
       "      <td>100.60</td>\n",
       "      <td>23.00</td>\n",
       "      <td>f</td>\n",
       "      <td>INDIVIDUAL</td>\n",
       "      <td>4.00</td>\n",
       "      <td>0.00</td>\n",
       "    </tr>\n",
       "    <tr>\n",
       "      <th>8</th>\n",
       "      <td>18900.00</td>\n",
       "      <td>60 months</td>\n",
       "      <td>10.99</td>\n",
       "      <td>410.84</td>\n",
       "      <td>B3</td>\n",
       "      <td>debt_consolidation</td>\n",
       "      <td>22690</td>\n",
       "      <td>1994</td>\n",
       "      <td>RENT</td>\n",
       "      <td>103000.00</td>\n",
       "      <td>Verified</td>\n",
       "      <td>12.52</td>\n",
       "      <td>13.00</td>\n",
       "      <td>0</td>\n",
       "      <td>18637.00</td>\n",
       "      <td>32.90</td>\n",
       "      <td>40.00</td>\n",
       "      <td>w</td>\n",
       "      <td>INDIVIDUAL</td>\n",
       "      <td>3.00</td>\n",
       "      <td>0.00</td>\n",
       "    </tr>\n",
       "    <tr>\n",
       "      <th>12</th>\n",
       "      <td>7500.00</td>\n",
       "      <td>36 months</td>\n",
       "      <td>9.17</td>\n",
       "      <td>239.10</td>\n",
       "      <td>B2</td>\n",
       "      <td>debt_consolidation</td>\n",
       "      <td>70466</td>\n",
       "      <td>1995</td>\n",
       "      <td>OWN</td>\n",
       "      <td>55000.00</td>\n",
       "      <td>Not Verified</td>\n",
       "      <td>28.21</td>\n",
       "      <td>13.00</td>\n",
       "      <td>0</td>\n",
       "      <td>17838.00</td>\n",
       "      <td>54.90</td>\n",
       "      <td>35.00</td>\n",
       "      <td>w</td>\n",
       "      <td>JOINT</td>\n",
       "      <td>4.00</td>\n",
       "      <td>0.00</td>\n",
       "    </tr>\n",
       "    <tr>\n",
       "      <th>...</th>\n",
       "      <td>...</td>\n",
       "      <td>...</td>\n",
       "      <td>...</td>\n",
       "      <td>...</td>\n",
       "      <td>...</td>\n",
       "      <td>...</td>\n",
       "      <td>...</td>\n",
       "      <td>...</td>\n",
       "      <td>...</td>\n",
       "      <td>...</td>\n",
       "      <td>...</td>\n",
       "      <td>...</td>\n",
       "      <td>...</td>\n",
       "      <td>...</td>\n",
       "      <td>...</td>\n",
       "      <td>...</td>\n",
       "      <td>...</td>\n",
       "      <td>...</td>\n",
       "      <td>...</td>\n",
       "      <td>...</td>\n",
       "      <td>...</td>\n",
       "    </tr>\n",
       "    <tr>\n",
       "      <th>395187</th>\n",
       "      <td>10000.00</td>\n",
       "      <td>36 months</td>\n",
       "      <td>14.16</td>\n",
       "      <td>342.56</td>\n",
       "      <td>C2</td>\n",
       "      <td>debt_consolidation</td>\n",
       "      <td>0</td>\n",
       "      <td>1976</td>\n",
       "      <td>OWN</td>\n",
       "      <td>55000.00</td>\n",
       "      <td>Verified</td>\n",
       "      <td>16.47</td>\n",
       "      <td>18.00</td>\n",
       "      <td>1</td>\n",
       "      <td>11513.00</td>\n",
       "      <td>44.00</td>\n",
       "      <td>51.00</td>\n",
       "      <td>f</td>\n",
       "      <td>INDIVIDUAL</td>\n",
       "      <td>1.00</td>\n",
       "      <td>1.00</td>\n",
       "    </tr>\n",
       "    <tr>\n",
       "      <th>395204</th>\n",
       "      <td>4000.00</td>\n",
       "      <td>36 months</td>\n",
       "      <td>9.16</td>\n",
       "      <td>127.50</td>\n",
       "      <td>B2</td>\n",
       "      <td>other</td>\n",
       "      <td>0</td>\n",
       "      <td>1977</td>\n",
       "      <td>MORTGAGE</td>\n",
       "      <td>57400.00</td>\n",
       "      <td>Not Verified</td>\n",
       "      <td>14.13</td>\n",
       "      <td>12.00</td>\n",
       "      <td>0</td>\n",
       "      <td>3134.00</td>\n",
       "      <td>5.80</td>\n",
       "      <td>27.00</td>\n",
       "      <td>w</td>\n",
       "      <td>INDIVIDUAL</td>\n",
       "      <td>5.00</td>\n",
       "      <td>0.00</td>\n",
       "    </tr>\n",
       "    <tr>\n",
       "      <th>395208</th>\n",
       "      <td>15000.00</td>\n",
       "      <td>36 months</td>\n",
       "      <td>12.49</td>\n",
       "      <td>501.74</td>\n",
       "      <td>B5</td>\n",
       "      <td>debt_consolidation</td>\n",
       "      <td>30723</td>\n",
       "      <td>2002</td>\n",
       "      <td>RENT</td>\n",
       "      <td>50000.00</td>\n",
       "      <td>Source Verified</td>\n",
       "      <td>30.89</td>\n",
       "      <td>14.00</td>\n",
       "      <td>0</td>\n",
       "      <td>14823.00</td>\n",
       "      <td>44.80</td>\n",
       "      <td>33.00</td>\n",
       "      <td>f</td>\n",
       "      <td>INDIVIDUAL</td>\n",
       "      <td>0.00</td>\n",
       "      <td>0.00</td>\n",
       "    </tr>\n",
       "    <tr>\n",
       "      <th>395209</th>\n",
       "      <td>10000.00</td>\n",
       "      <td>36 months</td>\n",
       "      <td>9.76</td>\n",
       "      <td>321.55</td>\n",
       "      <td>B3</td>\n",
       "      <td>debt_consolidation</td>\n",
       "      <td>70466</td>\n",
       "      <td>1988</td>\n",
       "      <td>RENT</td>\n",
       "      <td>40000.00</td>\n",
       "      <td>Not Verified</td>\n",
       "      <td>23.40</td>\n",
       "      <td>9.00</td>\n",
       "      <td>0</td>\n",
       "      <td>8819.00</td>\n",
       "      <td>57.30</td>\n",
       "      <td>18.00</td>\n",
       "      <td>w</td>\n",
       "      <td>INDIVIDUAL</td>\n",
       "      <td>1.00</td>\n",
       "      <td>0.00</td>\n",
       "    </tr>\n",
       "    <tr>\n",
       "      <th>395217</th>\n",
       "      <td>21000.00</td>\n",
       "      <td>60 months</td>\n",
       "      <td>15.31</td>\n",
       "      <td>503.02</td>\n",
       "      <td>C2</td>\n",
       "      <td>debt_consolidation</td>\n",
       "      <td>29597</td>\n",
       "      <td>1990</td>\n",
       "      <td>MORTGAGE</td>\n",
       "      <td>64000.00</td>\n",
       "      <td>Verified</td>\n",
       "      <td>15.88</td>\n",
       "      <td>9.00</td>\n",
       "      <td>0</td>\n",
       "      <td>15704.00</td>\n",
       "      <td>53.80</td>\n",
       "      <td>20.00</td>\n",
       "      <td>f</td>\n",
       "      <td>INDIVIDUAL</td>\n",
       "      <td>5.00</td>\n",
       "      <td>0.00</td>\n",
       "    </tr>\n",
       "  </tbody>\n",
       "</table>\n",
       "<p>79044 rows × 21 columns</p>\n",
       "</div>"
      ],
      "text/plain": [
       "        loan_amnt        term  int_rate  installment sub_grade  \\\n",
       "0        10000.00   36 months     11.44       329.48        B4   \n",
       "4        24375.00   60 months     17.27       609.33        C5   \n",
       "5        20000.00   36 months     13.33       677.07        C3   \n",
       "8        18900.00   60 months     10.99       410.84        B3   \n",
       "12        7500.00   36 months      9.17       239.10        B2   \n",
       "...           ...         ...       ...          ...       ...   \n",
       "395187   10000.00   36 months     14.16       342.56        C2   \n",
       "395204    4000.00   36 months      9.16       127.50        B2   \n",
       "395208   15000.00   36 months     12.49       501.74        B5   \n",
       "395209   10000.00   36 months      9.76       321.55        B3   \n",
       "395217   21000.00   60 months     15.31       503.02        C2   \n",
       "\n",
       "                   purpose zip_code  earliest_cr_line_year home_ownership  \\\n",
       "0                 vacation    22690                   1990           RENT   \n",
       "4              credit_card    11650                   1999       MORTGAGE   \n",
       "5       debt_consolidation    30723                   2005       MORTGAGE   \n",
       "8       debt_consolidation    22690                   1994           RENT   \n",
       "12      debt_consolidation    70466                   1995            OWN   \n",
       "...                    ...      ...                    ...            ...   \n",
       "395187  debt_consolidation        0                   1976            OWN   \n",
       "395204               other        0                   1977       MORTGAGE   \n",
       "395208  debt_consolidation    30723                   2002           RENT   \n",
       "395209  debt_consolidation    70466                   1988           RENT   \n",
       "395217  debt_consolidation    29597                   1990       MORTGAGE   \n",
       "\n",
       "        annual_inc verification_status   dti  open_acc  pub_rec  revol_bal  \\\n",
       "0        117000.00        Not Verified 26.24     16.00        0   36369.00   \n",
       "4         55000.00            Verified 33.95     13.00        0   24584.00   \n",
       "5         86788.00            Verified 16.31      8.00        0   25757.00   \n",
       "8        103000.00            Verified 12.52     13.00        0   18637.00   \n",
       "12        55000.00        Not Verified 28.21     13.00        0   17838.00   \n",
       "...            ...                 ...   ...       ...      ...        ...   \n",
       "395187    55000.00            Verified 16.47     18.00        1   11513.00   \n",
       "395204    57400.00        Not Verified 14.13     12.00        0    3134.00   \n",
       "395208    50000.00     Source Verified 30.89     14.00        0   14823.00   \n",
       "395209    40000.00        Not Verified 23.40      9.00        0    8819.00   \n",
       "395217    64000.00            Verified 15.88      9.00        0   15704.00   \n",
       "\n",
       "        revol_util  total_acc initial_list_status application_type  mort_acc  \\\n",
       "0            41.80      25.00                   w       INDIVIDUAL      0.00   \n",
       "4            69.80      43.00                   f       INDIVIDUAL      1.00   \n",
       "5           100.60      23.00                   f       INDIVIDUAL      4.00   \n",
       "8            32.90      40.00                   w       INDIVIDUAL      3.00   \n",
       "12           54.90      35.00                   w            JOINT      4.00   \n",
       "...            ...        ...                 ...              ...       ...   \n",
       "395187       44.00      51.00                   f       INDIVIDUAL      1.00   \n",
       "395204        5.80      27.00                   w       INDIVIDUAL      5.00   \n",
       "395208       44.80      33.00                   f       INDIVIDUAL      0.00   \n",
       "395209       57.30      18.00                   w       INDIVIDUAL      1.00   \n",
       "395217       53.80      20.00                   f       INDIVIDUAL      5.00   \n",
       "\n",
       "        pub_rec_bankruptcies  \n",
       "0                       0.00  \n",
       "4                       0.00  \n",
       "5                       0.00  \n",
       "8                       0.00  \n",
       "12                      0.00  \n",
       "...                      ...  \n",
       "395187                  1.00  \n",
       "395204                  0.00  \n",
       "395208                  0.00  \n",
       "395209                  0.00  \n",
       "395217                  0.00  \n",
       "\n",
       "[79044 rows x 21 columns]"
      ]
     },
     "execution_count": 10,
     "metadata": {},
     "output_type": "execute_result"
    }
   ],
   "source": [
    "X_test"
   ]
  },
  {
   "cell_type": "code",
   "execution_count": 11,
   "id": "14822496",
   "metadata": {},
   "outputs": [
    {
     "data": {
      "text/html": [
       "<div>\n",
       "<style scoped>\n",
       "    .dataframe tbody tr th:only-of-type {\n",
       "        vertical-align: middle;\n",
       "    }\n",
       "\n",
       "    .dataframe tbody tr th {\n",
       "        vertical-align: top;\n",
       "    }\n",
       "\n",
       "    .dataframe thead th {\n",
       "        text-align: right;\n",
       "    }\n",
       "</style>\n",
       "<table border=\"1\" class=\"dataframe\">\n",
       "  <thead>\n",
       "    <tr style=\"text-align: right;\">\n",
       "      <th></th>\n",
       "      <th>loan_status</th>\n",
       "    </tr>\n",
       "  </thead>\n",
       "  <tbody>\n",
       "    <tr>\n",
       "      <th>1</th>\n",
       "      <td>Fully Paid</td>\n",
       "    </tr>\n",
       "    <tr>\n",
       "      <th>2</th>\n",
       "      <td>Fully Paid</td>\n",
       "    </tr>\n",
       "    <tr>\n",
       "      <th>3</th>\n",
       "      <td>Fully Paid</td>\n",
       "    </tr>\n",
       "    <tr>\n",
       "      <th>6</th>\n",
       "      <td>Fully Paid</td>\n",
       "    </tr>\n",
       "    <tr>\n",
       "      <th>7</th>\n",
       "      <td>Fully Paid</td>\n",
       "    </tr>\n",
       "    <tr>\n",
       "      <th>...</th>\n",
       "      <td>...</td>\n",
       "    </tr>\n",
       "    <tr>\n",
       "      <th>395213</th>\n",
       "      <td>Fully Paid</td>\n",
       "    </tr>\n",
       "    <tr>\n",
       "      <th>395214</th>\n",
       "      <td>Fully Paid</td>\n",
       "    </tr>\n",
       "    <tr>\n",
       "      <th>395215</th>\n",
       "      <td>Fully Paid</td>\n",
       "    </tr>\n",
       "    <tr>\n",
       "      <th>395216</th>\n",
       "      <td>Fully Paid</td>\n",
       "    </tr>\n",
       "    <tr>\n",
       "      <th>395218</th>\n",
       "      <td>Fully Paid</td>\n",
       "    </tr>\n",
       "  </tbody>\n",
       "</table>\n",
       "<p>316175 rows × 1 columns</p>\n",
       "</div>"
      ],
      "text/plain": [
       "       loan_status\n",
       "1       Fully Paid\n",
       "2       Fully Paid\n",
       "3       Fully Paid\n",
       "6       Fully Paid\n",
       "7       Fully Paid\n",
       "...            ...\n",
       "395213  Fully Paid\n",
       "395214  Fully Paid\n",
       "395215  Fully Paid\n",
       "395216  Fully Paid\n",
       "395218  Fully Paid\n",
       "\n",
       "[316175 rows x 1 columns]"
      ]
     },
     "execution_count": 11,
     "metadata": {},
     "output_type": "execute_result"
    }
   ],
   "source": [
    "y_train"
   ]
  },
  {
   "cell_type": "code",
   "execution_count": 12,
   "id": "a0ffed41",
   "metadata": {},
   "outputs": [
    {
     "name": "stdout",
     "output_type": "stream",
     "text": [
      "['loan_amnt', 'int_rate', 'installment', 'earliest_cr_line_year', 'annual_inc', 'dti', 'open_acc', 'pub_rec', 'revol_bal', 'revol_util', 'total_acc', 'mort_acc', 'pub_rec_bankruptcies']\n",
      "['term', 'sub_grade', 'purpose', 'zip_code', 'home_ownership', 'verification_status', 'initial_list_status', 'application_type']\n"
     ]
    }
   ],
   "source": [
    "# Map features to transformation functions.\n",
    "categorical_features = []\n",
    "numeric_features = []\n",
    "for col in X_train.columns:\n",
    "    if X_train[col].dtype == object:\n",
    "        categorical_features.append(col)\n",
    "    else:\n",
    "        numeric_features.append(col)\n",
    "\n",
    "print(numeric_features)\n",
    "print(categorical_features)"
   ]
  },
  {
   "cell_type": "code",
   "execution_count": 13,
   "id": "4ce22342",
   "metadata": {},
   "outputs": [
    {
     "name": "stdout",
     "output_type": "stream",
     "text": [
      "[1, 4, 5, 6, 8, 10, 17, 18]\n",
      "[0, 2, 3, 7, 9, 11, 12, 13, 14, 15, 16, 19, 20]\n"
     ]
    }
   ],
   "source": [
    "# Map features to transformation functions.\n",
    "categorical_feature_ids = []\n",
    "numeric_feature_ids = []\n",
    "idx=0\n",
    "for col in X_train.columns:\n",
    "    if X_train[col].dtype == object:\n",
    "        categorical_feature_ids.append(idx)\n",
    "    else:\n",
    "        numeric_feature_ids.append(idx)\n",
    "    idx += 1\n",
    "\n",
    "print(categorical_feature_ids)\n",
    "print(numeric_feature_ids)"
   ]
  },
  {
   "cell_type": "code",
   "execution_count": 14,
   "id": "2319b999",
   "metadata": {},
   "outputs": [],
   "source": [
    "import numpy as np\n",
    "\n",
    "from sklearn.compose import ColumnTransformer\n",
    "from sklearn.pipeline import Pipeline\n",
    "from sklearn.impute import SimpleImputer\n",
    "from sklearn.preprocessing import StandardScaler, OneHotEncoder, LabelEncoder\n",
    "from sklearn.feature_selection import SelectPercentile, chi2\n",
    "\n",
    "numeric_transformer = Pipeline(\n",
    "    steps=[(\"imputer\", SimpleImputer(strategy=\"median\")), (\"scaler\", StandardScaler())]\n",
    ")\n",
    "\n",
    "categorical_transformer = Pipeline(\n",
    "    steps=[\n",
    "        (\"encoder\", OneHotEncoder(handle_unknown=\"ignore\")),\n",
    "        (\"selector\", SelectPercentile(chi2, percentile=50)),\n",
    "    ]\n",
    ")\n",
    "\n",
    "# Here, we are passing the column names to the ColumnTransformer \n",
    "# in 'numeric_features' and 'categorical_features'\n",
    "# This means in inference, we also have to pass the names of the columns - you can only do this with a\n",
    "# Pandas DataFrame. So, that means in online inference, you have to create a Pandas DataFrame to make\n",
    "# the feature vector. If that is too slow, you should use \"ids\" here, instead of names, then you can use\n",
    "# a numpy array instead of a Pandas DataFrame in online inference\n",
    "# https://stackoverflow.com/questions/71715754/valueerror-specifying-the-columns-using-strings-is-only-supported-for-pandas-da\n",
    "preprocessor = ColumnTransformer(\n",
    "    transformers=[\n",
    "        (\"num\", numeric_transformer, numeric_feature_ids),\n",
    "        (\"cat\", categorical_transformer, categorical_feature_ids),\n",
    "    ]\n",
    ")"
   ]
  },
  {
   "cell_type": "code",
   "execution_count": 15,
   "id": "3c83f66d",
   "metadata": {},
   "outputs": [],
   "source": [
    "y_train['loan_status'] = y_train.loan_status.map({'Fully Paid':1, 'Charged Off':0})\n",
    "y_test['loan_status'] = y_test.loan_status.map({'Fully Paid':1, 'Charged Off':0})"
   ]
  },
  {
   "cell_type": "code",
   "execution_count": 16,
   "id": "eeaa534d",
   "metadata": {},
   "outputs": [
    {
     "data": {
      "text/html": [
       "<div>\n",
       "<style scoped>\n",
       "    .dataframe tbody tr th:only-of-type {\n",
       "        vertical-align: middle;\n",
       "    }\n",
       "\n",
       "    .dataframe tbody tr th {\n",
       "        vertical-align: top;\n",
       "    }\n",
       "\n",
       "    .dataframe thead th {\n",
       "        text-align: right;\n",
       "    }\n",
       "</style>\n",
       "<table border=\"1\" class=\"dataframe\">\n",
       "  <thead>\n",
       "    <tr style=\"text-align: right;\">\n",
       "      <th></th>\n",
       "      <th>loan_status</th>\n",
       "    </tr>\n",
       "  </thead>\n",
       "  <tbody>\n",
       "    <tr>\n",
       "      <th>1</th>\n",
       "      <td>1</td>\n",
       "    </tr>\n",
       "    <tr>\n",
       "      <th>2</th>\n",
       "      <td>1</td>\n",
       "    </tr>\n",
       "    <tr>\n",
       "      <th>3</th>\n",
       "      <td>1</td>\n",
       "    </tr>\n",
       "    <tr>\n",
       "      <th>6</th>\n",
       "      <td>1</td>\n",
       "    </tr>\n",
       "    <tr>\n",
       "      <th>7</th>\n",
       "      <td>1</td>\n",
       "    </tr>\n",
       "    <tr>\n",
       "      <th>...</th>\n",
       "      <td>...</td>\n",
       "    </tr>\n",
       "    <tr>\n",
       "      <th>395213</th>\n",
       "      <td>1</td>\n",
       "    </tr>\n",
       "    <tr>\n",
       "      <th>395214</th>\n",
       "      <td>1</td>\n",
       "    </tr>\n",
       "    <tr>\n",
       "      <th>395215</th>\n",
       "      <td>1</td>\n",
       "    </tr>\n",
       "    <tr>\n",
       "      <th>395216</th>\n",
       "      <td>1</td>\n",
       "    </tr>\n",
       "    <tr>\n",
       "      <th>395218</th>\n",
       "      <td>1</td>\n",
       "    </tr>\n",
       "  </tbody>\n",
       "</table>\n",
       "<p>316175 rows × 1 columns</p>\n",
       "</div>"
      ],
      "text/plain": [
       "        loan_status\n",
       "1                 1\n",
       "2                 1\n",
       "3                 1\n",
       "6                 1\n",
       "7                 1\n",
       "...             ...\n",
       "395213            1\n",
       "395214            1\n",
       "395215            1\n",
       "395216            1\n",
       "395218            1\n",
       "\n",
       "[316175 rows x 1 columns]"
      ]
     },
     "execution_count": 16,
     "metadata": {},
     "output_type": "execute_result"
    }
   ],
   "source": [
    "y_train"
   ]
  },
  {
   "cell_type": "markdown",
   "id": "64ddcb0d",
   "metadata": {
    "papermill": {
     "duration": 0.162943,
     "end_time": "2023-01-31T14:13:13.083170",
     "exception": false,
     "start_time": "2023-01-31T14:13:12.920227",
     "status": "completed"
    },
    "tags": []
   },
   "source": [
    "# 🤖 Models Building"
   ]
  },
  {
   "cell_type": "code",
   "execution_count": 17,
   "id": "47a8291a",
   "metadata": {
    "execution": {
     "iopub.execute_input": "2023-01-31T14:13:13.702918Z",
     "iopub.status.busy": "2023-01-31T14:13:13.702551Z",
     "iopub.status.idle": "2023-01-31T14:13:13.709718Z",
     "shell.execute_reply": "2023-01-31T14:13:13.708705Z"
    },
    "papermill": {
     "duration": 0.176326,
     "end_time": "2023-01-31T14:13:13.711748",
     "exception": false,
     "start_time": "2023-01-31T14:13:13.535422",
     "status": "completed"
    },
    "tags": []
   },
   "outputs": [],
   "source": [
    "def print_score(true, pred, train=True):\n",
    "    if train:\n",
    "        clf_report = pd.DataFrame(classification_report(true, pred, output_dict=True))\n",
    "        print(\"Train Result:\\n================================================\")\n",
    "        print(f\"Accuracy Score: {accuracy_score(true, pred) * 100:.2f}%\")\n",
    "        print(\"_______________________________________________\")\n",
    "        print(f\"CLASSIFICATION REPORT:\\n{clf_report}\")\n",
    "        print(\"_______________________________________________\")\n",
    "        print(f\"Confusion Matrix: \\n {confusion_matrix(true, pred)}\\n\")\n",
    "        \n",
    "    elif train==False:\n",
    "        clf_report = pd.DataFrame(classification_report(true, pred, output_dict=True))\n",
    "        print(\"Test Result:\\n================================================\")        \n",
    "        print(f\"Accuracy Score: {accuracy_score(true, pred) * 100:.2f}%\")\n",
    "        print(\"_______________________________________________\")\n",
    "        print(f\"CLASSIFICATION REPORT:\\n{clf_report}\")\n",
    "        print(\"_______________________________________________\")\n",
    "        print(f\"Confusion Matrix: \\n {confusion_matrix(true, pred)}\\n\")"
   ]
  },
  {
   "cell_type": "code",
   "execution_count": 18,
   "id": "9af753fe",
   "metadata": {},
   "outputs": [
    {
     "name": "stderr",
     "output_type": "stream",
     "text": [
      "ConvergenceWarning: lbfgs failed to converge (status=1):\n",
      "STOP: TOTAL NO. of ITERATIONS REACHED LIMIT.\n",
      "\n",
      "Increase the number of iterations (max_iter) or scale the data as shown in:\n",
      "    https://scikit-learn.org/stable/modules/preprocessing.html\n",
      "Please also refer to the documentation for alternative solver options:\n",
      "    https://scikit-learn.org/stable/modules/linear_model.html#logistic-regression\n"
     ]
    },
    {
     "data": {
      "text/html": [
       "<style>#sk-container-id-1 {color: black;background-color: white;}#sk-container-id-1 pre{padding: 0;}#sk-container-id-1 div.sk-toggleable {background-color: white;}#sk-container-id-1 label.sk-toggleable__label {cursor: pointer;display: block;width: 100%;margin-bottom: 0;padding: 0.3em;box-sizing: border-box;text-align: center;}#sk-container-id-1 label.sk-toggleable__label-arrow:before {content: \"▸\";float: left;margin-right: 0.25em;color: #696969;}#sk-container-id-1 label.sk-toggleable__label-arrow:hover:before {color: black;}#sk-container-id-1 div.sk-estimator:hover label.sk-toggleable__label-arrow:before {color: black;}#sk-container-id-1 div.sk-toggleable__content {max-height: 0;max-width: 0;overflow: hidden;text-align: left;background-color: #f0f8ff;}#sk-container-id-1 div.sk-toggleable__content pre {margin: 0.2em;color: black;border-radius: 0.25em;background-color: #f0f8ff;}#sk-container-id-1 input.sk-toggleable__control:checked~div.sk-toggleable__content {max-height: 200px;max-width: 100%;overflow: auto;}#sk-container-id-1 input.sk-toggleable__control:checked~label.sk-toggleable__label-arrow:before {content: \"▾\";}#sk-container-id-1 div.sk-estimator input.sk-toggleable__control:checked~label.sk-toggleable__label {background-color: #d4ebff;}#sk-container-id-1 div.sk-label input.sk-toggleable__control:checked~label.sk-toggleable__label {background-color: #d4ebff;}#sk-container-id-1 input.sk-hidden--visually {border: 0;clip: rect(1px 1px 1px 1px);clip: rect(1px, 1px, 1px, 1px);height: 1px;margin: -1px;overflow: hidden;padding: 0;position: absolute;width: 1px;}#sk-container-id-1 div.sk-estimator {font-family: monospace;background-color: #f0f8ff;border: 1px dotted black;border-radius: 0.25em;box-sizing: border-box;margin-bottom: 0.5em;}#sk-container-id-1 div.sk-estimator:hover {background-color: #d4ebff;}#sk-container-id-1 div.sk-parallel-item::after {content: \"\";width: 100%;border-bottom: 1px solid gray;flex-grow: 1;}#sk-container-id-1 div.sk-label:hover label.sk-toggleable__label {background-color: #d4ebff;}#sk-container-id-1 div.sk-serial::before {content: \"\";position: absolute;border-left: 1px solid gray;box-sizing: border-box;top: 0;bottom: 0;left: 50%;z-index: 0;}#sk-container-id-1 div.sk-serial {display: flex;flex-direction: column;align-items: center;background-color: white;padding-right: 0.2em;padding-left: 0.2em;position: relative;}#sk-container-id-1 div.sk-item {position: relative;z-index: 1;}#sk-container-id-1 div.sk-parallel {display: flex;align-items: stretch;justify-content: center;background-color: white;position: relative;}#sk-container-id-1 div.sk-item::before, #sk-container-id-1 div.sk-parallel-item::before {content: \"\";position: absolute;border-left: 1px solid gray;box-sizing: border-box;top: 0;bottom: 0;left: 50%;z-index: -1;}#sk-container-id-1 div.sk-parallel-item {display: flex;flex-direction: column;z-index: 1;position: relative;background-color: white;}#sk-container-id-1 div.sk-parallel-item:first-child::after {align-self: flex-end;width: 50%;}#sk-container-id-1 div.sk-parallel-item:last-child::after {align-self: flex-start;width: 50%;}#sk-container-id-1 div.sk-parallel-item:only-child::after {width: 0;}#sk-container-id-1 div.sk-dashed-wrapped {border: 1px dashed gray;margin: 0 0.4em 0.5em 0.4em;box-sizing: border-box;padding-bottom: 0.4em;background-color: white;}#sk-container-id-1 div.sk-label label {font-family: monospace;font-weight: bold;display: inline-block;line-height: 1.2em;}#sk-container-id-1 div.sk-label-container {text-align: center;}#sk-container-id-1 div.sk-container {/* jupyter's `normalize.less` sets `[hidden] { display: none; }` but bootstrap.min.css set `[hidden] { display: none !important; }` so we also need the `!important` here to be able to override the default hidden behavior on the sphinx rendered scikit-learn.org. See: https://github.com/scikit-learn/scikit-learn/issues/21755 */display: inline-block !important;position: relative;}#sk-container-id-1 div.sk-text-repr-fallback {display: none;}</style><div id=\"sk-container-id-1\" class=\"sk-top-container\"><div class=\"sk-text-repr-fallback\"><pre>Pipeline(steps=[(&#x27;preprocessor&#x27;,\n",
       "                 ColumnTransformer(transformers=[(&#x27;num&#x27;,\n",
       "                                                  Pipeline(steps=[(&#x27;imputer&#x27;,\n",
       "                                                                   SimpleImputer(strategy=&#x27;median&#x27;)),\n",
       "                                                                  (&#x27;scaler&#x27;,\n",
       "                                                                   StandardScaler())]),\n",
       "                                                  [0, 2, 3, 7, 9, 11, 12, 13,\n",
       "                                                   14, 15, 16, 19, 20]),\n",
       "                                                 (&#x27;cat&#x27;,\n",
       "                                                  Pipeline(steps=[(&#x27;encoder&#x27;,\n",
       "                                                                   OneHotEncoder(handle_unknown=&#x27;ignore&#x27;)),\n",
       "                                                                  (&#x27;selector&#x27;,\n",
       "                                                                   SelectPercentile(percentile=50,\n",
       "                                                                                    score_func=&lt;function chi2 at 0x7f0a002d24c0&gt;))]),\n",
       "                                                  [1, 4, 5, 6, 8, 10, 17,\n",
       "                                                   18])])),\n",
       "                (&#x27;classifier&#x27;, LogisticRegression())])</pre><b>In a Jupyter environment, please rerun this cell to show the HTML representation or trust the notebook. <br />On GitHub, the HTML representation is unable to render, please try loading this page with nbviewer.org.</b></div><div class=\"sk-container\" hidden><div class=\"sk-item sk-dashed-wrapped\"><div class=\"sk-label-container\"><div class=\"sk-label sk-toggleable\"><input class=\"sk-toggleable__control sk-hidden--visually\" id=\"sk-estimator-id-1\" type=\"checkbox\" ><label for=\"sk-estimator-id-1\" class=\"sk-toggleable__label sk-toggleable__label-arrow\">Pipeline</label><div class=\"sk-toggleable__content\"><pre>Pipeline(steps=[(&#x27;preprocessor&#x27;,\n",
       "                 ColumnTransformer(transformers=[(&#x27;num&#x27;,\n",
       "                                                  Pipeline(steps=[(&#x27;imputer&#x27;,\n",
       "                                                                   SimpleImputer(strategy=&#x27;median&#x27;)),\n",
       "                                                                  (&#x27;scaler&#x27;,\n",
       "                                                                   StandardScaler())]),\n",
       "                                                  [0, 2, 3, 7, 9, 11, 12, 13,\n",
       "                                                   14, 15, 16, 19, 20]),\n",
       "                                                 (&#x27;cat&#x27;,\n",
       "                                                  Pipeline(steps=[(&#x27;encoder&#x27;,\n",
       "                                                                   OneHotEncoder(handle_unknown=&#x27;ignore&#x27;)),\n",
       "                                                                  (&#x27;selector&#x27;,\n",
       "                                                                   SelectPercentile(percentile=50,\n",
       "                                                                                    score_func=&lt;function chi2 at 0x7f0a002d24c0&gt;))]),\n",
       "                                                  [1, 4, 5, 6, 8, 10, 17,\n",
       "                                                   18])])),\n",
       "                (&#x27;classifier&#x27;, LogisticRegression())])</pre></div></div></div><div class=\"sk-serial\"><div class=\"sk-item sk-dashed-wrapped\"><div class=\"sk-label-container\"><div class=\"sk-label sk-toggleable\"><input class=\"sk-toggleable__control sk-hidden--visually\" id=\"sk-estimator-id-2\" type=\"checkbox\" ><label for=\"sk-estimator-id-2\" class=\"sk-toggleable__label sk-toggleable__label-arrow\">preprocessor: ColumnTransformer</label><div class=\"sk-toggleable__content\"><pre>ColumnTransformer(transformers=[(&#x27;num&#x27;,\n",
       "                                 Pipeline(steps=[(&#x27;imputer&#x27;,\n",
       "                                                  SimpleImputer(strategy=&#x27;median&#x27;)),\n",
       "                                                 (&#x27;scaler&#x27;, StandardScaler())]),\n",
       "                                 [0, 2, 3, 7, 9, 11, 12, 13, 14, 15, 16, 19,\n",
       "                                  20]),\n",
       "                                (&#x27;cat&#x27;,\n",
       "                                 Pipeline(steps=[(&#x27;encoder&#x27;,\n",
       "                                                  OneHotEncoder(handle_unknown=&#x27;ignore&#x27;)),\n",
       "                                                 (&#x27;selector&#x27;,\n",
       "                                                  SelectPercentile(percentile=50,\n",
       "                                                                   score_func=&lt;function chi2 at 0x7f0a002d24c0&gt;))]),\n",
       "                                 [1, 4, 5, 6, 8, 10, 17, 18])])</pre></div></div></div><div class=\"sk-parallel\"><div class=\"sk-parallel-item\"><div class=\"sk-item\"><div class=\"sk-label-container\"><div class=\"sk-label sk-toggleable\"><input class=\"sk-toggleable__control sk-hidden--visually\" id=\"sk-estimator-id-3\" type=\"checkbox\" ><label for=\"sk-estimator-id-3\" class=\"sk-toggleable__label sk-toggleable__label-arrow\">num</label><div class=\"sk-toggleable__content\"><pre>[0, 2, 3, 7, 9, 11, 12, 13, 14, 15, 16, 19, 20]</pre></div></div></div><div class=\"sk-serial\"><div class=\"sk-item\"><div class=\"sk-serial\"><div class=\"sk-item\"><div class=\"sk-estimator sk-toggleable\"><input class=\"sk-toggleable__control sk-hidden--visually\" id=\"sk-estimator-id-4\" type=\"checkbox\" ><label for=\"sk-estimator-id-4\" class=\"sk-toggleable__label sk-toggleable__label-arrow\">SimpleImputer</label><div class=\"sk-toggleable__content\"><pre>SimpleImputer(strategy=&#x27;median&#x27;)</pre></div></div></div><div class=\"sk-item\"><div class=\"sk-estimator sk-toggleable\"><input class=\"sk-toggleable__control sk-hidden--visually\" id=\"sk-estimator-id-5\" type=\"checkbox\" ><label for=\"sk-estimator-id-5\" class=\"sk-toggleable__label sk-toggleable__label-arrow\">StandardScaler</label><div class=\"sk-toggleable__content\"><pre>StandardScaler()</pre></div></div></div></div></div></div></div></div><div class=\"sk-parallel-item\"><div class=\"sk-item\"><div class=\"sk-label-container\"><div class=\"sk-label sk-toggleable\"><input class=\"sk-toggleable__control sk-hidden--visually\" id=\"sk-estimator-id-6\" type=\"checkbox\" ><label for=\"sk-estimator-id-6\" class=\"sk-toggleable__label sk-toggleable__label-arrow\">cat</label><div class=\"sk-toggleable__content\"><pre>[1, 4, 5, 6, 8, 10, 17, 18]</pre></div></div></div><div class=\"sk-serial\"><div class=\"sk-item\"><div class=\"sk-serial\"><div class=\"sk-item\"><div class=\"sk-estimator sk-toggleable\"><input class=\"sk-toggleable__control sk-hidden--visually\" id=\"sk-estimator-id-7\" type=\"checkbox\" ><label for=\"sk-estimator-id-7\" class=\"sk-toggleable__label sk-toggleable__label-arrow\">OneHotEncoder</label><div class=\"sk-toggleable__content\"><pre>OneHotEncoder(handle_unknown=&#x27;ignore&#x27;)</pre></div></div></div><div class=\"sk-item\"><div class=\"sk-estimator sk-toggleable\"><input class=\"sk-toggleable__control sk-hidden--visually\" id=\"sk-estimator-id-8\" type=\"checkbox\" ><label for=\"sk-estimator-id-8\" class=\"sk-toggleable__label sk-toggleable__label-arrow\">SelectPercentile</label><div class=\"sk-toggleable__content\"><pre>SelectPercentile(percentile=50, score_func=&lt;function chi2 at 0x7f0a002d24c0&gt;)</pre></div></div></div></div></div></div></div></div></div></div><div class=\"sk-item\"><div class=\"sk-estimator sk-toggleable\"><input class=\"sk-toggleable__control sk-hidden--visually\" id=\"sk-estimator-id-9\" type=\"checkbox\" ><label for=\"sk-estimator-id-9\" class=\"sk-toggleable__label sk-toggleable__label-arrow\">LogisticRegression</label><div class=\"sk-toggleable__content\"><pre>LogisticRegression()</pre></div></div></div></div></div></div></div>"
      ],
      "text/plain": [
       "Pipeline(steps=[('preprocessor',\n",
       "                 ColumnTransformer(transformers=[('num',\n",
       "                                                  Pipeline(steps=[('imputer',\n",
       "                                                                   SimpleImputer(strategy='median')),\n",
       "                                                                  ('scaler',\n",
       "                                                                   StandardScaler())]),\n",
       "                                                  [0, 2, 3, 7, 9, 11, 12, 13,\n",
       "                                                   14, 15, 16, 19, 20]),\n",
       "                                                 ('cat',\n",
       "                                                  Pipeline(steps=[('encoder',\n",
       "                                                                   OneHotEncoder(handle_unknown='ignore')),\n",
       "                                                                  ('selector',\n",
       "                                                                   SelectPercentile(percentile=50,\n",
       "                                                                                    score_func=<function chi2 at 0x7f0a002d24c0>))]),\n",
       "                                                  [1, 4, 5, 6, 8, 10, 17,\n",
       "                                                   18])])),\n",
       "                ('classifier', LogisticRegression())])"
      ]
     },
     "execution_count": 18,
     "metadata": {},
     "output_type": "execute_result"
    }
   ],
   "source": [
    "from sklearn.linear_model import LogisticRegression\n",
    "\n",
    "clf = Pipeline(\n",
    "    steps=[(\"preprocessor\", preprocessor), (\"classifier\", LogisticRegression())]\n",
    ")\n",
    "\n",
    "clf.fit(X_train, y_train['loan_status'].ravel())\n"
   ]
  },
  {
   "cell_type": "code",
   "execution_count": 19,
   "id": "558157e2",
   "metadata": {},
   "outputs": [
    {
     "name": "stdout",
     "output_type": "stream",
     "text": [
      "Train Result:\n",
      "================================================\n",
      "Accuracy Score: 88.94%\n",
      "_______________________________________________\n",
      "CLASSIFICATION REPORT:\n",
      "                 0         1  accuracy  macro avg  weighted avg\n",
      "precision     0.95      0.88      0.89       0.92          0.90\n",
      "recall        0.46      0.99      0.89       0.73          0.89\n",
      "f1-score      0.62      0.94      0.89       0.78          0.87\n",
      "support   62014.00 254161.00      0.89  316175.00     316175.00\n",
      "_______________________________________________\n",
      "Confusion Matrix: \n",
      " [[ 28428  33586]\n",
      " [  1375 252786]]\n",
      "\n",
      "Test Result:\n",
      "================================================\n",
      "Accuracy Score: 88.80%\n",
      "_______________________________________________\n",
      "CLASSIFICATION REPORT:\n",
      "                 0        1  accuracy  macro avg  weighted avg\n",
      "precision     0.95     0.88      0.89       0.92          0.90\n",
      "recall        0.45     0.99      0.89       0.72          0.89\n",
      "f1-score      0.61     0.93      0.89       0.77          0.87\n",
      "support   15509.00 63535.00      0.89   79044.00      79044.00\n",
      "_______________________________________________\n",
      "Confusion Matrix: \n",
      " [[ 7001  8508]\n",
      " [  342 63193]]\n",
      "\n"
     ]
    }
   ],
   "source": [
    "y_train_pred = clf.predict(X_train)\n",
    "y_test_pred = clf.predict(X_test)\n",
    "\n",
    "print_score(y_train, y_train_pred, train=True)\n",
    "print_score(y_test, y_test_pred, train=False)"
   ]
  },
  {
   "cell_type": "code",
   "execution_count": 20,
   "id": "0221c340",
   "metadata": {
    "execution": {
     "iopub.execute_input": "2023-01-31T14:32:39.229358Z",
     "iopub.status.busy": "2023-01-31T14:32:39.229002Z",
     "iopub.status.idle": "2023-01-31T14:32:40.630885Z",
     "shell.execute_reply": "2023-01-31T14:32:40.629547Z"
    },
    "papermill": {
     "duration": 2.472623,
     "end_time": "2023-01-31T14:32:40.633694",
     "exception": false,
     "start_time": "2023-01-31T14:32:38.161071",
     "status": "completed"
    },
    "tags": []
   },
   "outputs": [
    {
     "data": {
      "text/plain": [
       "<sklearn.metrics._plot.roc_curve.RocCurveDisplay at 0x7f09e7a367c0>"
      ]
     },
     "execution_count": 20,
     "metadata": {},
     "output_type": "execute_result"
    },
    {
     "data": {
      "image/png": "[encoded data removed]",
      "text/plain": [
       "<Figure size 640x480 with 2 Axes>"
      ]
     },
     "metadata": {},
     "output_type": "display_data"
    },
    {
     "data": {
      "image/png": "[encoded data removed]",
      "text/plain": [
       "<Figure size 640x480 with 1 Axes>"
      ]
     },
     "metadata": {},
     "output_type": "display_data"
    },
    {
     "data": {
      "image/png": "[encoded data removed]",
      "text/plain": [
       "<Figure size 640x480 with 1 Axes>"
      ]
     },
     "metadata": {},
     "output_type": "display_data"
    }
   ],
   "source": [
    "disp = ConfusionMatrixDisplay.from_estimator(\n",
    "    clf, X_test, y_test, \n",
    "    cmap='Blues', values_format='d', \n",
    "    display_labels=['Default', 'Fully-Paid']\n",
    ")\n",
    "\n",
    "display = RocCurveDisplay.from_estimator(clf, X_test, y_test)\n",
    "display.plot()"
   ]
  },
  {
   "cell_type": "markdown",
   "id": "d2d59196",
   "metadata": {},
   "source": [
    "# ✔️ Register the Model with Model Registry"
   ]
  },
  {
   "cell_type": "code",
   "execution_count": 21,
   "id": "f6abb6d9",
   "metadata": {
    "papermill": {
     "duration": 1.025564,
     "end_time": "2023-01-31T14:35:05.140208",
     "exception": false,
     "start_time": "2023-01-31T14:35:04.114644",
     "status": "completed"
    },
    "tags": []
   },
   "outputs": [
    {
     "name": "stdout",
     "output_type": "stream",
     "text": [
      "Connected. Call `.close()` to terminate connection gracefully.\n"
     ]
    }
   ],
   "source": [
    "mr = proj.get_model_registry()"
   ]
  },
  {
   "cell_type": "code",
   "execution_count": 22,
   "id": "c980e883",
   "metadata": {},
   "outputs": [
    {
     "data": {
      "text/plain": [
       "<Figure size 640x480 with 0 Axes>"
      ]
     },
     "metadata": {},
     "output_type": "display_data"
    }
   ],
   "source": [
    "import joblib\n",
    "import os\n",
    "os.makedirs(\"lending_model/features\", exist_ok=True)\n",
    "plt.savefig('lending_model/roc_curve.png')\n",
    "joblib.dump(clf, 'lending_model/lending_model.pkl')\n",
    "\n",
    "accuracy = roc_auc_score(y_test, clf.predict(X_test))"
   ]
  },
  {
   "cell_type": "code",
   "execution_count": 23,
   "id": "c505aa34",
   "metadata": {},
   "outputs": [
    {
     "data": {
      "text/plain": [
       "0.7230162236999622"
      ]
     },
     "execution_count": 23,
     "metadata": {},
     "output_type": "execute_result"
    }
   ],
   "source": [
    "accuracy"
   ]
  },
  {
   "cell_type": "code",
   "execution_count": 24,
   "id": "9c1bee22",
   "metadata": {},
   "outputs": [
    {
     "data": {
      "application/vnd.jupyter.widget-view+json": {
       "model_id": "adf26de3b97f4a0b8cc21eeec848d429",
       "version_major": 2,
       "version_minor": 0
      },
      "text/plain": [
       "  0%|          | 0/6 [00:00<?, ?it/s]"
      ]
     },
     "metadata": {},
     "output_type": "display_data"
    },
    {
     "name": "stdout",
     "output_type": "stream",
     "text": [
      "Model created, explore it at https://c.app.hopsworks.ai:443/p/398/models/lending_model/3\n"
     ]
    },
    {
     "data": {
      "text/plain": [
       "Model(name: 'lending_model', version: 3)"
      ]
     },
     "execution_count": 24,
     "metadata": {},
     "output_type": "execute_result"
    }
   ],
   "source": [
    "from hsml.schema import Schema\n",
    "from hsml.model_schema import ModelSchema\n",
    "\n",
    "input_schema = Schema(X_test)\n",
    "output_schema = Schema(y_test)\n",
    "\n",
    "fraud_model = mr.sklearn.create_model(\"lending_model\",\n",
    "                                      metrics={'accuracy': accuracy},\n",
    "                                      input_example=X_test.sample().to_numpy(), \n",
    "                                      model_schema=ModelSchema(input_schema=input_schema, output_schema=output_schema))\n",
    "fraud_model.save('lending_model')"
   ]
  },
  {
   "cell_type": "code",
   "execution_count": null,
   "id": "8349d23f",
   "metadata": {},
   "outputs": [],
   "source": []
  }
 ],
 "metadata": {
  "kernelspec": {
   "display_name": "Python 3 (ipykernel)",
   "language": "python",
   "name": "python3"
  },
  "language_info": {
   "codemirror_mode": {
    "name": "ipython",
    "version": 3
   },
   "file_extension": ".py",
   "mimetype": "text/x-python",
   "name": "python",
   "nbconvert_exporter": "python",
   "pygments_lexer": "ipython3",
   "version": "3.8.13"
  },
  "papermill": {
   "default_parameters": {},
   "duration": 1434.559462,
   "end_time": "2023-01-31T14:35:09.548746",
   "environment_variables": {},
   "exception": null,
   "input_path": "__notebook__.ipynb",
   "output_path": "__notebook__.ipynb",
   "parameters": {},
   "start_time": "2023-01-31T14:11:14.989284",
   "version": "2.3.4"
  }
 },
 "nbformat": 4,
 "nbformat_minor": 5
}
