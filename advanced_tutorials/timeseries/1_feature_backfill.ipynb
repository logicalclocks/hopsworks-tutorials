{
 "cells": [
  {
   "cell_type": "markdown",
   "id": "323e6bee",
   "metadata": {},
   "source": [
    "## <span style=\"color:#ff5f27\">📝 Imports </span>"
   ]
  },
  {
   "cell_type": "code",
   "execution_count": null,
   "id": "2690f222",
   "metadata": {},
   "outputs": [],
   "source": [
    "import datetime\n",
    "from features.price import generate_historical_data, to_wide_format, plot_historical_id\n",
    "from features.averages import calculate_second_order_features\n",
    "\n",
    "import great_expectations as ge\n",
    "from great_expectations.core import ExpectationSuite, ExpectationConfiguration\n",
    "\n",
    "import warnings\n",
    "warnings.filterwarnings('ignore')"
   ]
  },
  {
   "cell_type": "markdown",
   "id": "99b76fbb",
   "metadata": {},
   "source": [
    "## <span style=\"color:#ff5f27\">⚙️ Data Generation </span>\n",
    "\n",
    "Let's define the `START_DATE` variable (format: %Y-%m-%d) which will indicate the start date for data generation."
   ]
  },
  {
   "cell_type": "code",
   "execution_count": null,
   "id": "5753f72e",
   "metadata": {},
   "outputs": [],
   "source": [
    "# Define a constant START_DATE with a specific date (January 1, 2024)\n",
    "START_DATE = datetime.date(2024, 1, 1)"
   ]
  },
  {
   "cell_type": "code",
   "execution_count": null,
   "id": "efbfce8f",
   "metadata": {},
   "outputs": [],
   "source": [
    "# Generate synthetic historical data using the generate_historical_data function from START_DATE till current date\n",
    "prices_data_generated = generate_historical_data(\n",
    "    START_DATE,  # Start date for data generation (January 1, 2024)\n",
    ")\n",
    "\n",
    "# Display the first 3 rows of the generated data\n",
    "prices_data_generated.head(3)"
   ]
  },
  {
   "cell_type": "markdown",
   "id": "ff860d36",
   "metadata": {},
   "source": [
    "Look at historical values for 1 and 2 IDs."
   ]
  },
  {
   "cell_type": "code",
   "execution_count": null,
   "id": "ea5bb4c9",
   "metadata": {},
   "outputs": [],
   "source": [
    "plot_historical_id([1,2], prices_data_generated)"
   ]
  },
  {
   "cell_type": "markdown",
   "id": "f08be0a3",
   "metadata": {},
   "source": [
    "## <span style=\"color:#ff5f27\"> 👮🏻‍♂️ Great Expectations </span>"
   ]
  },
  {
   "cell_type": "code",
   "execution_count": null,
   "id": "b3968626",
   "metadata": {},
   "outputs": [],
   "source": [
    "# Convert the generated historical data DataFrame to a Great Expectations DataFrame\n",
    "ge_price_df = ge.from_pandas(prices_data_generated)\n",
    "\n",
    "# Retrieve the expectation suite associated with the ge DataFrame\n",
    "expectation_suite_price = ge_price_df.get_expectation_suite()\n",
    "\n",
    "# Set the expectation suite name to \"price_suite\"\n",
    "expectation_suite_price.expectation_suite_name = \"price_suite\""
   ]
  },
  {
   "cell_type": "code",
   "execution_count": null,
   "id": "c394a647",
   "metadata": {},
   "outputs": [],
   "source": [
    "# Add expectation for the 'id' column values to be between 0 and 5000\n",
    "expectation_suite_price.add_expectation(\n",
    "    ExpectationConfiguration(\n",
    "        expectation_type=\"expect_column_values_to_be_between\",\n",
    "        kwargs={\n",
    "            \"column\": \"id\",\n",
    "            \"min_value\": 0,\n",
    "            \"max_value\": 5000,\n",
    "        }\n",
    "    )\n",
    ")\n",
    "\n",
    "# Add expectation for the 'price' column values to be between 0 and 1000\n",
    "expectation_suite_price.add_expectation(\n",
    "    ExpectationConfiguration(\n",
    "        expectation_type=\"expect_column_values_to_be_between\",\n",
    "        kwargs={\n",
    "            \"column\": \"price\",\n",
    "            \"min_value\": 0,\n",
    "            \"max_value\": 1000,\n",
    "        }\n",
    "    )\n",
    ")\n",
    "\n",
    "# Loop through specified columns ('date', 'id', 'price') and add expectations for null values\n",
    "for column in ['date', 'id', 'price']:\n",
    "    expectation_suite_price.add_expectation(\n",
    "        ExpectationConfiguration(\n",
    "            expectation_type=\"expect_column_values_to_be_null\",\n",
    "            kwargs={\n",
    "                \"column\": column,\n",
    "                \"mostly\": 0.0,\n",
    "            }\n",
    "        )\n",
    "    )\n"
   ]
  },
  {
   "cell_type": "markdown",
   "id": "102db6b7",
   "metadata": {},
   "source": [
    "## <span style=\"color:#ff5f27\">⚙️ Feature Engineering  </span>\n",
    "\n",
    "We will engineer the next features:\n",
    "\n",
    "- `ma_7`: This feature represents the 7-day moving average of the 'price' data, providing a smoothed representation of short-term price trends.\n",
    "\n",
    "- `ma_14`: This feature represents the 14-day moving average of the 'price' data, offering a slightly longer-term smoothed price trend.\n",
    "\n",
    "- `ma_30`: This feature represents the 30-day moving average of the 'price' data, providing a longer-term smoothed representation of price trends.\n",
    "\n",
    "- `daily_rate_of_change`: This feature calculates the daily rate of change in prices as a percentage change, indicating how much the price has changed from the previous day.\n",
    "\n",
    "- `volatility_30_day`: This feature measures the volatility of prices over a 30-day window using the standard deviation. Higher values indicate greater price fluctuations.\n",
    "\n",
    "- `ema_02`: This feature calculates the exponential moving average (EMA) of 'price' with a smoothing factor of 0.2, giving more weight to recent data points in the calculation.\n",
    "\n",
    "- `ema_05`: Similar to ema_02, this feature calculates the EMA of 'price' with a smoothing factor of 0.5, providing a different degree of responsiveness to recent data.\n",
    "\n",
    "- `rsi`: The Relative Strength Index (RSI) is a momentum oscillator that measures the speed and change of price movements. It ranges from 0 to 100, with values above 70 indicating overbought conditions and values below 30 indicating oversold conditions."
   ]
  },
  {
   "cell_type": "code",
   "execution_count": null,
   "id": "808d454d",
   "metadata": {},
   "outputs": [],
   "source": [
    "# Calculate second-order features\n",
    "averages_df = calculate_second_order_features(prices_data_generated)\n",
    "\n",
    "# Display the first 3 rows of the resulting DataFrame\n",
    "averages_df.head(3)"
   ]
  },
  {
   "cell_type": "markdown",
   "id": "b82a43e2",
   "metadata": {},
   "source": [
    "## <span style=\"color:#ff5f27\">🔮 Connect to Hopsworks Feature Store </span>"
   ]
  },
  {
   "cell_type": "code",
   "execution_count": null,
   "id": "d616f46f",
   "metadata": {},
   "outputs": [],
   "source": [
    "import hopsworks\n",
    "\n",
    "project = hopsworks.login()\n",
    "\n",
    "fs = project.get_feature_store() "
   ]
  },
  {
   "cell_type": "markdown",
   "id": "d64c2b47",
   "metadata": {},
   "source": [
    "## <span style=\"color:#ff5f27\">🪄 Prices Feature Group </span>"
   ]
  },
  {
   "cell_type": "code",
   "execution_count": null,
   "id": "82993193",
   "metadata": {},
   "outputs": [],
   "source": [
    "# Get or create the 'price' feature group\n",
    "prices_fg = fs.get_or_create_feature_group(\n",
    "    name='prices',\n",
    "    description='Price Data',\n",
    "    version=1,\n",
    "    primary_key=['id'],\n",
    "    event_time='date',\n",
    "    online_enabled=True,\n",
    "    expectation_suite=expectation_suite_price,\n",
    ")    \n",
    "# Insert data\n",
    "prices_fg.insert(prices_data_generated)\n",
    "print('✅ Done!')"
   ]
  },
  {
   "cell_type": "markdown",
   "id": "5f3d5ecd",
   "metadata": {},
   "source": [
    "## <span style=\"color:#ff5f27\">🪄 Averages Feature Group </span>"
   ]
  },
  {
   "cell_type": "code",
   "execution_count": null,
   "id": "921e2d25",
   "metadata": {},
   "outputs": [],
   "source": [
    "# Get or create the 'averages' feature group\n",
    "averages_fg = fs.get_or_create_feature_group(\n",
    "    name='averages',\n",
    "    description='Calculated second order features',\n",
    "    version=1,\n",
    "    primary_key=['id'],\n",
    "    event_time='date',\n",
    "    online_enabled=True,\n",
    "    parents=[prices_fg],\n",
    ")\n",
    "# Insert data\n",
    "averages_fg.insert(averages_df, wait=True)"
   ]
  },
  {
   "cell_type": "markdown",
   "id": "ef27a716",
   "metadata": {},
   "source": [
    "## <span style=\"color:#ff5f27\">🕵🏻‍♂️ Feature monitoring</span>\n"
   ]
  },
  {
   "cell_type": "code",
   "execution_count": null,
   "id": "0c94afe5",
   "metadata": {},
   "outputs": [],
   "source": [
    "# Raw Price Monitoring\n",
    "price_basic_monitoring = prices_fg.create_feature_monitoring(\n",
    "    name=\"price_basic_monitoring\",\n",
    "    feature_name=\"price\",\n",
    "    description=\"Monitor daily price statistics and detect sudden changes\",\n",
    "    cron_expression=\"0 0 0 * * ? *\"  # Daily at midnight (second, minute, hour, day, month, day-of-week, year)\n",
    ").with_detection_window(\n",
    "    time_offset=\"1d\",\n",
    "    row_percentage=1.0\n",
    ").with_reference_window(\n",
    "    time_offset=\"2d\",\n",
    "    window_length=\"1d\",\n",
    "    row_percentage=1.0\n",
    ").compare_on(\n",
    "    metric=\"mean\",\n",
    "    threshold=0.05\n",
    ").save()"
   ]
  },
  {
   "cell_type": "code",
   "execution_count": null,
   "id": "b84a3a3c",
   "metadata": {},
   "outputs": [],
   "source": [
    "# Moving Average Cross Monitoring\n",
    "ma_cross_monitoring = averages_fg.create_feature_monitoring(\n",
    "    name=\"ma_cross_monitoring\",\n",
    "    description=\"Monitor crossovers between short and long-term moving averages\",\n",
    "    feature_name=\"ma_7\",\n",
    "    cron_expression=\"0 0 0 * * ? *\"  # Daily at midnight\n",
    ").with_detection_window(\n",
    "    time_offset=\"1d\",\n",
    "    row_percentage=1.0\n",
    ").with_reference_window(\n",
    "    time_offset=\"31d\",\n",
    "    window_length=\"30d\",\n",
    "    row_percentage=1.0,\n",
    ").compare_on(\n",
    "    metric=\"mean\",\n",
    "    threshold=0.02\n",
    ").save()"
   ]
  },
  {
   "cell_type": "code",
   "execution_count": null,
   "id": "a8053c37",
   "metadata": {},
   "outputs": [],
   "source": [
    "# Volatility Monitoring\n",
    "volatility_monitoring = averages_fg.create_feature_monitoring(\n",
    "    name=\"volatility_monitoring\",\n",
    "    feature_name=\"volatility_30_day\",\n",
    "    description=\"Monitor significant changes in 30-day volatility\",\n",
    "    cron_expression=\"0 0 0 * * ? *\"  # Daily at midnight\n",
    ").with_detection_window(\n",
    "    time_offset=\"1d\",\n",
    "    row_percentage=1.0\n",
    ").with_reference_window(\n",
    "    time_offset=\"8d\",\n",
    "    window_length=\"7d\",\n",
    "    row_percentage=1.0\n",
    ").compare_on(\n",
    "    metric=\"mean\",\n",
    "    threshold=0.15\n",
    ").save()"
   ]
  },
  {
   "cell_type": "code",
   "execution_count": null,
   "id": "d44fa963",
   "metadata": {},
   "outputs": [],
   "source": [
    "# RSI Extreme Monitoring\n",
    "rsi_monitoring = averages_fg.create_feature_monitoring(\n",
    "    name=\"rsi_monitoring\",\n",
    "    feature_name=\"rsi\",\n",
    "    description=\"Monitor RSI for overbought/oversold conditions\",\n",
    "    cron_expression=\"0 0 0 * * ? *\"  # Daily at midnight\n",
    ").with_detection_window(\n",
    "    time_offset=\"1d\",\n",
    "    row_percentage=1.0\n",
    ").with_reference_value(\n",
    "    value=50\n",
    ").compare_on(\n",
    "    metric=\"mean\",\n",
    "    threshold=20\n",
    ").save()"
   ]
  },
  {
   "cell_type": "code",
   "execution_count": null,
   "id": "9974daa9",
   "metadata": {},
   "outputs": [],
   "source": [
    "# Rate of Change Monitoring using MEAN\n",
    "roc_monitoring = averages_fg.create_feature_monitoring(\n",
    "    name=\"rate_of_change_monitoring\",\n",
    "    feature_name=\"daily_rate_of_change\",\n",
    "    description=\"Monitor for abnormal average price changes\",\n",
    "    cron_expression=\"0 0 0 * * ? *\"  # Daily at midnight\n",
    ").with_detection_window(\n",
    "    time_offset=\"1d\",\n",
    "    row_percentage=1.0\n",
    ").with_reference_window(\n",
    "    time_offset=\"8d\",\n",
    "    window_length=\"7d\",\n",
    "    row_percentage=1.0\n",
    ").compare_on(\n",
    "    metric=\"mean\", \n",
    "    threshold=1.0   # Threshold for mean daily rate of change (1% average change)\n",
    ").save()"
   ]
  },
  {
   "cell_type": "markdown",
   "id": "5f5b2472",
   "metadata": {},
   "source": [
    "---"
   ]
  }
 ],
 "metadata": {
  "kernelspec": {
   "display_name": "Python 3",
   "language": "python",
   "name": "python3"
  },
  "language_info": {
   "codemirror_mode": {
    "name": "ipython",
    "version": 3
   },
   "file_extension": ".py",
   "mimetype": "text/x-python",
   "name": "python",
   "nbconvert_exporter": "python",
   "pygments_lexer": "ipython3",
   "version": "3.10.11"
  }
 },
 "nbformat": 4,
 "nbformat_minor": 5
}
