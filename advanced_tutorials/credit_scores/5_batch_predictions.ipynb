{
 "cells": [
  {
   "cell_type": "markdown",
   "id": "90017585",
   "metadata": {},
   "source": [
    "# <span style=\"font-width:bold; font-size: 3rem; color:#1EB182;\"><img src=\"../../images/icon102.png\" width=\"38px\"></img> **Hopsworks Feature Store** </span><span style=\"font-width:bold; font-size: 3rem; color:#333;\">- Part 05: Batch Predictions</span>\n",
    "\n",
    "[![Open In Colab](https://colab.research.google.com/assets/colab-badge.svg)](https://colab.research.google.com/github/logicalclocks/hopsworks-tutorials/blob/master/advanced_tutorials/credit_scores/5_batch_predictions.ipynb)\n",
    "\n",
    "\n",
    "## 🗒️ This notebook is divided into the following sections:\n",
    "\n",
    "1. Load batch data\n",
    "2. Predict using model from Model Registry\n",
    "\n",
    "![part3](../../images/03_model.png) "
   ]
  },
  {
   "cell_type": "markdown",
   "id": "e75c01db",
   "metadata": {},
   "source": [
    "## <span style=\"color:#ff5f27;\"> 🔮 Connecting to Hopsworks Feature Store </span>"
   ]
  },
  {
   "cell_type": "code",
   "execution_count": 1,
   "id": "8783110b",
   "metadata": {},
   "outputs": [
    {
     "name": "stdout",
     "output_type": "stream",
     "text": [
      "Connected. Call `.close()` to terminate connection gracefully.\n",
      "\n",
      "Logged in to project, explore it here https://c.app.hopsworks.ai:443/p/398\n",
      "Connected. Call `.close()` to terminate connection gracefully.\n",
      "Connected. Call `.close()` to terminate connection gracefully.\n"
     ]
    }
   ],
   "source": [
    "import hopsworks\n",
    "\n",
    "project = hopsworks.login()\n",
    "\n",
    "fs = project.get_feature_store() \n",
    "mr = project.get_model_registry()"
   ]
  },
  {
   "cell_type": "markdown",
   "id": "e2641b26",
   "metadata": {},
   "source": [
    "## <span style=\"color:#ff5f27;\"> ✨ Loading Batch Data </span>"
   ]
  },
  {
   "cell_type": "code",
   "execution_count": 2,
   "id": "4c65496c",
   "metadata": {},
   "outputs": [
    {
     "name": "stdout",
     "output_type": "stream",
     "text": [
      "2023-03-05 09:29:28,280 INFO: USE `dowlingj_featurestore`\n",
      "2023-03-05 09:29:28,887 INFO: SELECT `fg7`.`credit_active` `credit_active`, `fg7`.`credit_currency` `credit_currency`, `fg7`.`days_credit` `days_credit`, `fg7`.`credit_day_overdue` `credit_day_overdue`, `fg7`.`days_credit_enddate` `days_credit_enddate`, `fg7`.`cnt_credit_prolong` `cnt_credit_prolong`, `fg7`.`amt_credit_sum` `amt_credit_sum`, `fg7`.`amt_credit_sum_debt` `amt_credit_sum_debt`, `fg7`.`amt_credit_sum_overdue` `amt_credit_sum_overdue`, `fg7`.`credit_type` `credit_type`, `fg7`.`days_credit_update` `days_credit_update`, `fg0`.`name_contract_type` `name_contract_type`, `fg0`.`code_gender` `code_gender`, `fg0`.`flag_own_car` `flag_own_car`, `fg0`.`flag_own_realty` `flag_own_realty`, `fg0`.`cnt_children` `cnt_children`, `fg0`.`amt_income_total` `amt_income_total`, `fg0`.`amt_annuity` `amt_annuity`, `fg0`.`amt_goods_price` `amt_goods_price`, `fg0`.`name_type_suite` `name_type_suite`, `fg0`.`name_income_type` `name_income_type`, `fg0`.`name_education_type` `name_education_type`, `fg0`.`name_family_status` `name_family_status`, `fg0`.`name_housing_type` `name_housing_type`, `fg0`.`region_population_relative` `region_population_relative`, `fg0`.`days_birth` `days_birth`, `fg0`.`days_employed` `days_employed`, `fg0`.`days_registration` `days_registration`, `fg0`.`days_id_publish` `days_id_publish`, `fg0`.`flag_emp_phone` `flag_emp_phone`, `fg0`.`flag_work_phone` `flag_work_phone`, `fg0`.`flag_cont_mobile` `flag_cont_mobile`, `fg0`.`flag_phone` `flag_phone`, `fg0`.`flag_email` `flag_email`, `fg0`.`cnt_fam_members` `cnt_fam_members`, `fg0`.`region_rating_client` `region_rating_client`, `fg0`.`region_rating_client_w_city` `region_rating_client_w_city`, `fg0`.`reg_region_not_live_region` `reg_region_not_live_region`, `fg0`.`reg_region_not_work_region` `reg_region_not_work_region`, `fg0`.`live_region_not_work_region` `live_region_not_work_region`, `fg0`.`reg_city_not_live_city` `reg_city_not_live_city`, `fg0`.`reg_city_not_work_city` `reg_city_not_work_city`, `fg0`.`live_city_not_work_city` `live_city_not_work_city`, `fg0`.`organization_type` `organization_type`, `fg0`.`ext_source_2` `ext_source_2`, `fg0`.`ext_source_3` `ext_source_3`, `fg0`.`obs_30_cnt_social_circle` `obs_30_cnt_social_circle`, `fg0`.`def_30_cnt_social_circle` `def_30_cnt_social_circle`, `fg0`.`obs_60_cnt_social_circle` `obs_60_cnt_social_circle`, `fg0`.`def_60_cnt_social_circle` `def_60_cnt_social_circle`, `fg0`.`days_last_phone_change` `days_last_phone_change`, `fg0`.`flag_document_3` `flag_document_3`, `fg0`.`flag_document_5` `flag_document_5`, `fg0`.`flag_document_6` `flag_document_6`, `fg0`.`flag_document_8` `flag_document_8`, `fg0`.`flag_document_9` `flag_document_9`, `fg0`.`flag_document_11` `flag_document_11`, `fg0`.`flag_document_13` `flag_document_13`, `fg0`.`flag_document_15` `flag_document_15`, `fg0`.`flag_document_16` `flag_document_16`, `fg0`.`flag_document_18` `flag_document_18`, `fg0`.`amt_req_credit_bureau_hour` `amt_req_credit_bureau_hour`, `fg0`.`amt_req_credit_bureau_day` `amt_req_credit_bureau_day`, `fg0`.`amt_req_credit_bureau_week` `amt_req_credit_bureau_week`, `fg0`.`amt_req_credit_bureau_mon` `amt_req_credit_bureau_mon`, `fg0`.`amt_req_credit_bureau_qrt` `amt_req_credit_bureau_qrt`, `fg0`.`amt_req_credit_bureau_year` `amt_req_credit_bureau_year`, `fg1`.`status` `status`, `fg2`.`amt_application` `amt_application`, `fg2`.`amt_credit` `amt_credit`, `fg2`.`weekday_appr_process_start` `weekday_appr_process_start`, `fg2`.`hour_appr_process_start` `hour_appr_process_start`, `fg2`.`flag_last_appl_per_contract` `flag_last_appl_per_contract`, `fg2`.`nflag_last_appl_in_day` `nflag_last_appl_in_day`, `fg2`.`name_cash_loan_purpose` `name_cash_loan_purpose`, `fg2`.`days_decision` `days_decision`, `fg2`.`name_payment_type` `name_payment_type`, `fg2`.`code_reject_reason` `code_reject_reason`, `fg2`.`name_client_type` `name_client_type`, `fg2`.`name_goods_category` `name_goods_category`, `fg2`.`name_portfolio` `name_portfolio`, `fg2`.`name_product_type` `name_product_type`, `fg2`.`channel_type` `channel_type`, `fg2`.`sellerplace_area` `sellerplace_area`, `fg2`.`name_seller_industry` `name_seller_industry`, `fg2`.`name_yield_group` `name_yield_group`, `fg2`.`product_combination` `product_combination`, `fg3`.`cnt_instalment` `cnt_instalment`, `fg3`.`cnt_instalment_future` `cnt_instalment_future`, `fg4`.`num_instalment_version` `num_instalment_version`, `fg4`.`num_instalment_number` `num_instalment_number`, `fg4`.`days_instalment` `days_instalment`, `fg4`.`days_entry_payment` `days_entry_payment`, `fg4`.`amt_instalment` `amt_instalment`, `fg4`.`amt_payment` `amt_payment`, `fg5`.`months_balance` `months_balance`, `fg5`.`amt_balance` `amt_balance`, `fg5`.`amt_credit_limit_actual` `amt_credit_limit_actual`, `fg5`.`amt_drawings_atm_current` `amt_drawings_atm_current`, `fg5`.`amt_drawings_current` `amt_drawings_current`, `fg5`.`amt_drawings_other_current` `amt_drawings_other_current`, `fg5`.`amt_drawings_pos_current` `amt_drawings_pos_current`, `fg5`.`amt_inst_min_regularity` `amt_inst_min_regularity`, `fg5`.`amt_payment_current` `amt_payment_current`, `fg5`.`amt_payment_total_current` `amt_payment_total_current`, `fg5`.`amt_receivable_principal` `amt_receivable_principal`, `fg5`.`amt_recivable` `amt_recivable`, `fg5`.`amt_total_receivable` `amt_total_receivable`, `fg5`.`cnt_drawings_atm_current` `cnt_drawings_atm_current`, `fg5`.`cnt_drawings_current` `cnt_drawings_current`, `fg5`.`cnt_drawings_other_current` `cnt_drawings_other_current`, `fg5`.`cnt_drawings_pos_current` `cnt_drawings_pos_current`, `fg5`.`cnt_instalment_mature_cum` `cnt_instalment_mature_cum`, `fg5`.`name_contract_status` `name_contract_status`, `fg5`.`sk_dpd` `sk_dpd`, `fg5`.`sk_dpd_def` `sk_dpd_def`, `fg6`.`sk_id_curr` `sk_id_curr`, `fg6`.`previous_loan_counts` `previous_loan_counts`\n",
      "FROM `dowlingj_featurestore`.`bureau_1` `fg7`\n",
      "INNER JOIN `dowlingj_featurestore`.`application_1` `fg0` ON `fg7`.`sk_id_curr` = `fg0`.`sk_id_curr`\n",
      "INNER JOIN `dowlingj_featurestore`.`bureau_balance_1` `fg1` ON `fg7`.`sk_id_bureau` = `fg1`.`sk_id_bureau`\n",
      "INNER JOIN `dowlingj_featurestore`.`previous_application_1` `fg2` ON `fg7`.`sk_id_curr` = `fg2`.`sk_id_curr`\n",
      "INNER JOIN `dowlingj_featurestore`.`pos_cash_balance_1` `fg3` ON `fg7`.`sk_id_curr` = `fg3`.`sk_id_curr`\n",
      "INNER JOIN `dowlingj_featurestore`.`installments_payments_1` `fg4` ON `fg7`.`sk_id_curr` = `fg4`.`sk_id_curr`\n",
      "INNER JOIN `dowlingj_featurestore`.`credit_card_balance_1` `fg5` ON `fg7`.`sk_id_curr` = `fg5`.`sk_id_curr`\n",
      "INNER JOIN `dowlingj_featurestore`.`previous_loan_counts_1` `fg6` ON `fg7`.`sk_id_curr` = `fg6`.`sk_id_curr`\n"
     ]
    },
    {
     "name": "stderr",
     "output_type": "stream",
     "text": [
      "UserWarning: pandas only support SQLAlchemy connectable(engine/connection) ordatabase string URI or sqlite3 DBAPI2 connectionother DBAPI2 objects are not tested, please consider using SQLAlchemy\n"
     ]
    },
    {
     "data": {
      "text/html": [
       "<div>\n",
       "<style scoped>\n",
       "    .dataframe tbody tr th:only-of-type {\n",
       "        vertical-align: middle;\n",
       "    }\n",
       "\n",
       "    .dataframe tbody tr th {\n",
       "        vertical-align: top;\n",
       "    }\n",
       "\n",
       "    .dataframe thead th {\n",
       "        text-align: right;\n",
       "    }\n",
       "</style>\n",
       "<table border=\"1\" class=\"dataframe\">\n",
       "  <thead>\n",
       "    <tr style=\"text-align: right;\">\n",
       "      <th></th>\n",
       "      <th>credit_active</th>\n",
       "      <th>credit_currency</th>\n",
       "      <th>days_credit</th>\n",
       "      <th>credit_day_overdue</th>\n",
       "      <th>days_credit_enddate</th>\n",
       "      <th>cnt_credit_prolong</th>\n",
       "      <th>amt_credit_sum</th>\n",
       "      <th>amt_credit_sum_debt</th>\n",
       "      <th>amt_credit_sum_overdue</th>\n",
       "      <th>credit_type</th>\n",
       "      <th>...</th>\n",
       "      <th>cnt_drawings_atm_current</th>\n",
       "      <th>cnt_drawings_current</th>\n",
       "      <th>cnt_drawings_other_current</th>\n",
       "      <th>cnt_drawings_pos_current</th>\n",
       "      <th>cnt_instalment_mature_cum</th>\n",
       "      <th>name_contract_status</th>\n",
       "      <th>sk_dpd</th>\n",
       "      <th>sk_dpd_def</th>\n",
       "      <th>sk_id_curr</th>\n",
       "      <th>previous_loan_counts</th>\n",
       "    </tr>\n",
       "  </thead>\n",
       "  <tbody>\n",
       "    <tr>\n",
       "      <th>0</th>\n",
       "      <td>0</td>\n",
       "      <td>0</td>\n",
       "      <td>0.816761</td>\n",
       "      <td>0.0</td>\n",
       "      <td>0.459338</td>\n",
       "      <td>0.0</td>\n",
       "      <td>-0.687989</td>\n",
       "      <td>-0.606573</td>\n",
       "      <td>0.0</td>\n",
       "      <td>2</td>\n",
       "      <td>...</td>\n",
       "      <td>-0.349365</td>\n",
       "      <td>-0.317357</td>\n",
       "      <td>0.0</td>\n",
       "      <td>-0.297573</td>\n",
       "      <td>-0.608684</td>\n",
       "      <td>1</td>\n",
       "      <td>-0.21157</td>\n",
       "      <td>-0.21157</td>\n",
       "      <td>-0.616544</td>\n",
       "      <td>-1.514632</td>\n",
       "    </tr>\n",
       "    <tr>\n",
       "      <th>1</th>\n",
       "      <td>0</td>\n",
       "      <td>0</td>\n",
       "      <td>0.816761</td>\n",
       "      <td>0.0</td>\n",
       "      <td>0.459338</td>\n",
       "      <td>0.0</td>\n",
       "      <td>-0.687989</td>\n",
       "      <td>-0.606573</td>\n",
       "      <td>0.0</td>\n",
       "      <td>2</td>\n",
       "      <td>...</td>\n",
       "      <td>-0.349365</td>\n",
       "      <td>-0.317357</td>\n",
       "      <td>0.0</td>\n",
       "      <td>-0.297573</td>\n",
       "      <td>-0.608684</td>\n",
       "      <td>1</td>\n",
       "      <td>-0.21157</td>\n",
       "      <td>-0.21157</td>\n",
       "      <td>-0.616544</td>\n",
       "      <td>-1.514632</td>\n",
       "    </tr>\n",
       "    <tr>\n",
       "      <th>2</th>\n",
       "      <td>0</td>\n",
       "      <td>0</td>\n",
       "      <td>0.816761</td>\n",
       "      <td>0.0</td>\n",
       "      <td>0.459338</td>\n",
       "      <td>0.0</td>\n",
       "      <td>-0.687989</td>\n",
       "      <td>-0.606573</td>\n",
       "      <td>0.0</td>\n",
       "      <td>2</td>\n",
       "      <td>...</td>\n",
       "      <td>-0.349365</td>\n",
       "      <td>-0.317357</td>\n",
       "      <td>0.0</td>\n",
       "      <td>-0.297573</td>\n",
       "      <td>-0.608684</td>\n",
       "      <td>1</td>\n",
       "      <td>-0.21157</td>\n",
       "      <td>-0.21157</td>\n",
       "      <td>-0.616544</td>\n",
       "      <td>-1.514632</td>\n",
       "    </tr>\n",
       "    <tr>\n",
       "      <th>3</th>\n",
       "      <td>0</td>\n",
       "      <td>0</td>\n",
       "      <td>0.816761</td>\n",
       "      <td>0.0</td>\n",
       "      <td>0.459338</td>\n",
       "      <td>0.0</td>\n",
       "      <td>-0.687989</td>\n",
       "      <td>-0.606573</td>\n",
       "      <td>0.0</td>\n",
       "      <td>2</td>\n",
       "      <td>...</td>\n",
       "      <td>-0.349365</td>\n",
       "      <td>-0.317357</td>\n",
       "      <td>0.0</td>\n",
       "      <td>-0.297573</td>\n",
       "      <td>-0.608684</td>\n",
       "      <td>1</td>\n",
       "      <td>-0.21157</td>\n",
       "      <td>-0.21157</td>\n",
       "      <td>-0.616544</td>\n",
       "      <td>-1.514632</td>\n",
       "    </tr>\n",
       "    <tr>\n",
       "      <th>4</th>\n",
       "      <td>0</td>\n",
       "      <td>0</td>\n",
       "      <td>0.816761</td>\n",
       "      <td>0.0</td>\n",
       "      <td>0.459338</td>\n",
       "      <td>0.0</td>\n",
       "      <td>-0.687989</td>\n",
       "      <td>-0.606573</td>\n",
       "      <td>0.0</td>\n",
       "      <td>2</td>\n",
       "      <td>...</td>\n",
       "      <td>-0.349365</td>\n",
       "      <td>-0.317357</td>\n",
       "      <td>0.0</td>\n",
       "      <td>-0.297573</td>\n",
       "      <td>-0.608684</td>\n",
       "      <td>1</td>\n",
       "      <td>-0.21157</td>\n",
       "      <td>-0.21157</td>\n",
       "      <td>-0.616544</td>\n",
       "      <td>-1.514632</td>\n",
       "    </tr>\n",
       "  </tbody>\n",
       "</table>\n",
       "<p>5 rows × 118 columns</p>\n",
       "</div>"
      ],
      "text/plain": [
       "   credit_active  credit_currency  days_credit  credit_day_overdue  \\\n",
       "0              0                0     0.816761                 0.0   \n",
       "1              0                0     0.816761                 0.0   \n",
       "2              0                0     0.816761                 0.0   \n",
       "3              0                0     0.816761                 0.0   \n",
       "4              0                0     0.816761                 0.0   \n",
       "\n",
       "   days_credit_enddate  cnt_credit_prolong  amt_credit_sum  \\\n",
       "0             0.459338                 0.0       -0.687989   \n",
       "1             0.459338                 0.0       -0.687989   \n",
       "2             0.459338                 0.0       -0.687989   \n",
       "3             0.459338                 0.0       -0.687989   \n",
       "4             0.459338                 0.0       -0.687989   \n",
       "\n",
       "   amt_credit_sum_debt  amt_credit_sum_overdue  credit_type  ...  \\\n",
       "0            -0.606573                     0.0            2  ...   \n",
       "1            -0.606573                     0.0            2  ...   \n",
       "2            -0.606573                     0.0            2  ...   \n",
       "3            -0.606573                     0.0            2  ...   \n",
       "4            -0.606573                     0.0            2  ...   \n",
       "\n",
       "   cnt_drawings_atm_current  cnt_drawings_current  cnt_drawings_other_current  \\\n",
       "0                 -0.349365             -0.317357                         0.0   \n",
       "1                 -0.349365             -0.317357                         0.0   \n",
       "2                 -0.349365             -0.317357                         0.0   \n",
       "3                 -0.349365             -0.317357                         0.0   \n",
       "4                 -0.349365             -0.317357                         0.0   \n",
       "\n",
       "   cnt_drawings_pos_current  cnt_instalment_mature_cum  name_contract_status  \\\n",
       "0                 -0.297573                  -0.608684                     1   \n",
       "1                 -0.297573                  -0.608684                     1   \n",
       "2                 -0.297573                  -0.608684                     1   \n",
       "3                 -0.297573                  -0.608684                     1   \n",
       "4                 -0.297573                  -0.608684                     1   \n",
       "\n",
       "    sk_dpd  sk_dpd_def  sk_id_curr  previous_loan_counts  \n",
       "0 -0.21157    -0.21157   -0.616544             -1.514632  \n",
       "1 -0.21157    -0.21157   -0.616544             -1.514632  \n",
       "2 -0.21157    -0.21157   -0.616544             -1.514632  \n",
       "3 -0.21157    -0.21157   -0.616544             -1.514632  \n",
       "4 -0.21157    -0.21157   -0.616544             -1.514632  \n",
       "\n",
       "[5 rows x 118 columns]"
      ]
     },
     "execution_count": 2,
     "metadata": {},
     "output_type": "execute_result"
    }
   ],
   "source": [
    "feature_view = fs.get_feature_view(\n",
    "    name=\"credit_scores\",\n",
    "    version=1\n",
    ")\n",
    "\n",
    "feature_view.init_batch_scoring(\n",
    "    training_dataset_version=1\n",
    ")\n",
    "\n",
    "df = feature_view.get_batch_data()\n",
    "df.head()"
   ]
  },
  {
   "cell_type": "code",
   "execution_count": null,
   "id": "ca712a65",
   "metadata": {},
   "outputs": [],
   "source": [
    "def get_cols_with_missing_values(df):\n",
    "    cols = []\n",
    "    for item in df.columns:Q\n",
    "        if df[item].isna().sum() > 0:\n",
    "            cols.append(item)        \n",
    "    return cols\n",
    "\n",
    "cols = get_cols_with_missing_values(df)\n",
    "df = df.drop(columns=cols)"
   ]
  },
  {
   "cell_type": "markdown",
   "id": "68f99095",
   "metadata": {},
   "source": [
    "## <span style=\"color:#ff5f27;\"> 🗄 Retrieving model from Model Registry </span>"
   ]
  },
  {
   "cell_type": "code",
   "execution_count": 3,
   "id": "a1891c35",
   "metadata": {},
   "outputs": [
    {
     "name": "stdout",
     "output_type": "stream",
     "text": [
      "Downloading file ... "
     ]
    },
    {
     "data": {
      "text/html": [
       "<style>#sk-container-id-1 {color: black;background-color: white;}#sk-container-id-1 pre{padding: 0;}#sk-container-id-1 div.sk-toggleable {background-color: white;}#sk-container-id-1 label.sk-toggleable__label {cursor: pointer;display: block;width: 100%;margin-bottom: 0;padding: 0.3em;box-sizing: border-box;text-align: center;}#sk-container-id-1 label.sk-toggleable__label-arrow:before {content: \"▸\";float: left;margin-right: 0.25em;color: #696969;}#sk-container-id-1 label.sk-toggleable__label-arrow:hover:before {color: black;}#sk-container-id-1 div.sk-estimator:hover label.sk-toggleable__label-arrow:before {color: black;}#sk-container-id-1 div.sk-toggleable__content {max-height: 0;max-width: 0;overflow: hidden;text-align: left;background-color: #f0f8ff;}#sk-container-id-1 div.sk-toggleable__content pre {margin: 0.2em;color: black;border-radius: 0.25em;background-color: #f0f8ff;}#sk-container-id-1 input.sk-toggleable__control:checked~div.sk-toggleable__content {max-height: 200px;max-width: 100%;overflow: auto;}#sk-container-id-1 input.sk-toggleable__control:checked~label.sk-toggleable__label-arrow:before {content: \"▾\";}#sk-container-id-1 div.sk-estimator input.sk-toggleable__control:checked~label.sk-toggleable__label {background-color: #d4ebff;}#sk-container-id-1 div.sk-label input.sk-toggleable__control:checked~label.sk-toggleable__label {background-color: #d4ebff;}#sk-container-id-1 input.sk-hidden--visually {border: 0;clip: rect(1px 1px 1px 1px);clip: rect(1px, 1px, 1px, 1px);height: 1px;margin: -1px;overflow: hidden;padding: 0;position: absolute;width: 1px;}#sk-container-id-1 div.sk-estimator {font-family: monospace;background-color: #f0f8ff;border: 1px dotted black;border-radius: 0.25em;box-sizing: border-box;margin-bottom: 0.5em;}#sk-container-id-1 div.sk-estimator:hover {background-color: #d4ebff;}#sk-container-id-1 div.sk-parallel-item::after {content: \"\";width: 100%;border-bottom: 1px solid gray;flex-grow: 1;}#sk-container-id-1 div.sk-label:hover label.sk-toggleable__label {background-color: #d4ebff;}#sk-container-id-1 div.sk-serial::before {content: \"\";position: absolute;border-left: 1px solid gray;box-sizing: border-box;top: 0;bottom: 0;left: 50%;z-index: 0;}#sk-container-id-1 div.sk-serial {display: flex;flex-direction: column;align-items: center;background-color: white;padding-right: 0.2em;padding-left: 0.2em;position: relative;}#sk-container-id-1 div.sk-item {position: relative;z-index: 1;}#sk-container-id-1 div.sk-parallel {display: flex;align-items: stretch;justify-content: center;background-color: white;position: relative;}#sk-container-id-1 div.sk-item::before, #sk-container-id-1 div.sk-parallel-item::before {content: \"\";position: absolute;border-left: 1px solid gray;box-sizing: border-box;top: 0;bottom: 0;left: 50%;z-index: -1;}#sk-container-id-1 div.sk-parallel-item {display: flex;flex-direction: column;z-index: 1;position: relative;background-color: white;}#sk-container-id-1 div.sk-parallel-item:first-child::after {align-self: flex-end;width: 50%;}#sk-container-id-1 div.sk-parallel-item:last-child::after {align-self: flex-start;width: 50%;}#sk-container-id-1 div.sk-parallel-item:only-child::after {width: 0;}#sk-container-id-1 div.sk-dashed-wrapped {border: 1px dashed gray;margin: 0 0.4em 0.5em 0.4em;box-sizing: border-box;padding-bottom: 0.4em;background-color: white;}#sk-container-id-1 div.sk-label label {font-family: monospace;font-weight: bold;display: inline-block;line-height: 1.2em;}#sk-container-id-1 div.sk-label-container {text-align: center;}#sk-container-id-1 div.sk-container {/* jupyter's `normalize.less` sets `[hidden] { display: none; }` but bootstrap.min.css set `[hidden] { display: none !important; }` so we also need the `!important` here to be able to override the default hidden behavior on the sphinx rendered scikit-learn.org. See: https://github.com/scikit-learn/scikit-learn/issues/21755 */display: inline-block !important;position: relative;}#sk-container-id-1 div.sk-text-repr-fallback {display: none;}</style><div id=\"sk-container-id-1\" class=\"sk-top-container\"><div class=\"sk-text-repr-fallback\"><pre>RandomForestClassifier(class_weight={0: 0.09999999999999998, 1: 0.9},\n",
       "                       n_estimators=25, n_jobs=-1, random_state=42)</pre><b>In a Jupyter environment, please rerun this cell to show the HTML representation or trust the notebook. <br />On GitHub, the HTML representation is unable to render, please try loading this page with nbviewer.org.</b></div><div class=\"sk-container\" hidden><div class=\"sk-item\"><div class=\"sk-estimator sk-toggleable\"><input class=\"sk-toggleable__control sk-hidden--visually\" id=\"sk-estimator-id-1\" type=\"checkbox\" checked><label for=\"sk-estimator-id-1\" class=\"sk-toggleable__label sk-toggleable__label-arrow\">RandomForestClassifier</label><div class=\"sk-toggleable__content\"><pre>RandomForestClassifier(class_weight={0: 0.09999999999999998, 1: 0.9},\n",
       "                       n_estimators=25, n_jobs=-1, random_state=42)</pre></div></div></div></div></div>"
      ],
      "text/plain": [
       "RandomForestClassifier(class_weight={0: 0.09999999999999998, 1: 0.9},\n",
       "                       n_estimators=25, n_jobs=-1, random_state=42)"
      ]
     },
     "execution_count": 3,
     "metadata": {},
     "output_type": "execute_result"
    }
   ],
   "source": [
    "import joblib\n",
    "\n",
    "model = mr.get_model(\n",
    "    name=\"credit_scores_model\",\n",
    "    version=1\n",
    ")\n",
    "model_dir = model.download()\n",
    "model = joblib.load(model_dir + \"/credit_scores_model.pkl\")\n",
    "model"
   ]
  },
  {
   "cell_type": "markdown",
   "id": "64246fbf",
   "metadata": {},
   "source": [
    "## <span style=\"color:#ff5f27;\"> 🤖 Making the predictions </span>"
   ]
  },
  {
   "cell_type": "code",
   "execution_count": 4,
   "id": "107a8161",
   "metadata": {},
   "outputs": [
    {
     "name": "stderr",
     "output_type": "stream",
     "text": [
      "FutureWarning: The feature names should match those that were passed during fit. Starting version 1.2, an error will be raised.\n",
      "Feature names unseen at fit time:\n",
      "- amt_credit_sum_overdue\n",
      "- amt_drawings_other_current\n",
      "- cnt_credit_prolong\n",
      "- cnt_drawings_other_current\n",
      "- credit_day_overdue\n",
      "- ...\n",
      "\n"
     ]
    },
    {
     "ename": "ValueError",
     "evalue": "X has 118 features, but RandomForestClassifier is expecting 104 features as input.",
     "output_type": "error",
     "traceback": [
      "\u001b[0;31m---------------------------------------------------------------------------\u001b[0m",
      "\u001b[0;31mValueError\u001b[0m                                Traceback (most recent call last)",
      "\u001b[0;32m/tmp/ipykernel_1950629/71969672.py\u001b[0m in \u001b[0;36m<module>\u001b[0;34m\u001b[0m\n\u001b[0;32m----> 1\u001b[0;31m \u001b[0mpredictions\u001b[0m \u001b[0;34m=\u001b[0m \u001b[0mmodel\u001b[0m\u001b[0;34m.\u001b[0m\u001b[0mpredict\u001b[0m\u001b[0;34m(\u001b[0m\u001b[0mdf\u001b[0m\u001b[0;34m)\u001b[0m\u001b[0;34m\u001b[0m\u001b[0;34m\u001b[0m\u001b[0m\n\u001b[0m\u001b[1;32m      2\u001b[0m \u001b[0mpredictions\u001b[0m\u001b[0;34m[\u001b[0m\u001b[0;34m:\u001b[0m\u001b[0;36m10\u001b[0m\u001b[0;34m]\u001b[0m\u001b[0;34m\u001b[0m\u001b[0;34m\u001b[0m\u001b[0m\n",
      "\u001b[0;32m~/anaconda3/lib/python3.9/site-packages/sklearn/ensemble/_forest.py\u001b[0m in \u001b[0;36mpredict\u001b[0;34m(self, X)\u001b[0m\n\u001b[1;32m    830\u001b[0m             \u001b[0mThe\u001b[0m \u001b[0mpredicted\u001b[0m \u001b[0mclasses\u001b[0m\u001b[0;34m.\u001b[0m\u001b[0;34m\u001b[0m\u001b[0;34m\u001b[0m\u001b[0m\n\u001b[1;32m    831\u001b[0m         \"\"\"\n\u001b[0;32m--> 832\u001b[0;31m         \u001b[0mproba\u001b[0m \u001b[0;34m=\u001b[0m \u001b[0mself\u001b[0m\u001b[0;34m.\u001b[0m\u001b[0mpredict_proba\u001b[0m\u001b[0;34m(\u001b[0m\u001b[0mX\u001b[0m\u001b[0;34m)\u001b[0m\u001b[0;34m\u001b[0m\u001b[0;34m\u001b[0m\u001b[0m\n\u001b[0m\u001b[1;32m    833\u001b[0m \u001b[0;34m\u001b[0m\u001b[0m\n\u001b[1;32m    834\u001b[0m         \u001b[0;32mif\u001b[0m \u001b[0mself\u001b[0m\u001b[0;34m.\u001b[0m\u001b[0mn_outputs_\u001b[0m \u001b[0;34m==\u001b[0m \u001b[0;36m1\u001b[0m\u001b[0;34m:\u001b[0m\u001b[0;34m\u001b[0m\u001b[0;34m\u001b[0m\u001b[0m\n",
      "\u001b[0;32m~/anaconda3/lib/python3.9/site-packages/sklearn/ensemble/_forest.py\u001b[0m in \u001b[0;36mpredict_proba\u001b[0;34m(self, X)\u001b[0m\n\u001b[1;32m    872\u001b[0m         \u001b[0mcheck_is_fitted\u001b[0m\u001b[0;34m(\u001b[0m\u001b[0mself\u001b[0m\u001b[0;34m)\u001b[0m\u001b[0;34m\u001b[0m\u001b[0;34m\u001b[0m\u001b[0m\n\u001b[1;32m    873\u001b[0m         \u001b[0;31m# Check data\u001b[0m\u001b[0;34m\u001b[0m\u001b[0;34m\u001b[0m\u001b[0m\n\u001b[0;32m--> 874\u001b[0;31m         \u001b[0mX\u001b[0m \u001b[0;34m=\u001b[0m \u001b[0mself\u001b[0m\u001b[0;34m.\u001b[0m\u001b[0m_validate_X_predict\u001b[0m\u001b[0;34m(\u001b[0m\u001b[0mX\u001b[0m\u001b[0;34m)\u001b[0m\u001b[0;34m\u001b[0m\u001b[0;34m\u001b[0m\u001b[0m\n\u001b[0m\u001b[1;32m    875\u001b[0m \u001b[0;34m\u001b[0m\u001b[0m\n\u001b[1;32m    876\u001b[0m         \u001b[0;31m# Assign chunk of trees to jobs\u001b[0m\u001b[0;34m\u001b[0m\u001b[0;34m\u001b[0m\u001b[0m\n",
      "\u001b[0;32m~/anaconda3/lib/python3.9/site-packages/sklearn/ensemble/_forest.py\u001b[0m in \u001b[0;36m_validate_X_predict\u001b[0;34m(self, X)\u001b[0m\n\u001b[1;32m    603\u001b[0m         Validate X whenever one tries to predict, apply, predict_proba.\"\"\"\n\u001b[1;32m    604\u001b[0m         \u001b[0mcheck_is_fitted\u001b[0m\u001b[0;34m(\u001b[0m\u001b[0mself\u001b[0m\u001b[0;34m)\u001b[0m\u001b[0;34m\u001b[0m\u001b[0;34m\u001b[0m\u001b[0m\n\u001b[0;32m--> 605\u001b[0;31m         \u001b[0mX\u001b[0m \u001b[0;34m=\u001b[0m \u001b[0mself\u001b[0m\u001b[0;34m.\u001b[0m\u001b[0m_validate_data\u001b[0m\u001b[0;34m(\u001b[0m\u001b[0mX\u001b[0m\u001b[0;34m,\u001b[0m \u001b[0mdtype\u001b[0m\u001b[0;34m=\u001b[0m\u001b[0mDTYPE\u001b[0m\u001b[0;34m,\u001b[0m \u001b[0maccept_sparse\u001b[0m\u001b[0;34m=\u001b[0m\u001b[0;34m\"csr\"\u001b[0m\u001b[0;34m,\u001b[0m \u001b[0mreset\u001b[0m\u001b[0;34m=\u001b[0m\u001b[0;32mFalse\u001b[0m\u001b[0;34m)\u001b[0m\u001b[0;34m\u001b[0m\u001b[0;34m\u001b[0m\u001b[0m\n\u001b[0m\u001b[1;32m    606\u001b[0m         \u001b[0;32mif\u001b[0m \u001b[0missparse\u001b[0m\u001b[0;34m(\u001b[0m\u001b[0mX\u001b[0m\u001b[0;34m)\u001b[0m \u001b[0;32mand\u001b[0m \u001b[0;34m(\u001b[0m\u001b[0mX\u001b[0m\u001b[0;34m.\u001b[0m\u001b[0mindices\u001b[0m\u001b[0;34m.\u001b[0m\u001b[0mdtype\u001b[0m \u001b[0;34m!=\u001b[0m \u001b[0mnp\u001b[0m\u001b[0;34m.\u001b[0m\u001b[0mintc\u001b[0m \u001b[0;32mor\u001b[0m \u001b[0mX\u001b[0m\u001b[0;34m.\u001b[0m\u001b[0mindptr\u001b[0m\u001b[0;34m.\u001b[0m\u001b[0mdtype\u001b[0m \u001b[0;34m!=\u001b[0m \u001b[0mnp\u001b[0m\u001b[0;34m.\u001b[0m\u001b[0mintc\u001b[0m\u001b[0;34m)\u001b[0m\u001b[0;34m:\u001b[0m\u001b[0;34m\u001b[0m\u001b[0;34m\u001b[0m\u001b[0m\n\u001b[1;32m    607\u001b[0m             \u001b[0;32mraise\u001b[0m \u001b[0mValueError\u001b[0m\u001b[0;34m(\u001b[0m\u001b[0;34m\"No support for np.int64 index based sparse matrices\"\u001b[0m\u001b[0;34m)\u001b[0m\u001b[0;34m\u001b[0m\u001b[0;34m\u001b[0m\u001b[0m\n",
      "\u001b[0;32m~/anaconda3/lib/python3.9/site-packages/sklearn/base.py\u001b[0m in \u001b[0;36m_validate_data\u001b[0;34m(self, X, y, reset, validate_separately, **check_params)\u001b[0m\n\u001b[1;32m    598\u001b[0m \u001b[0;34m\u001b[0m\u001b[0m\n\u001b[1;32m    599\u001b[0m         \u001b[0;32mif\u001b[0m \u001b[0;32mnot\u001b[0m \u001b[0mno_val_X\u001b[0m \u001b[0;32mand\u001b[0m \u001b[0mcheck_params\u001b[0m\u001b[0;34m.\u001b[0m\u001b[0mget\u001b[0m\u001b[0;34m(\u001b[0m\u001b[0;34m\"ensure_2d\"\u001b[0m\u001b[0;34m,\u001b[0m \u001b[0;32mTrue\u001b[0m\u001b[0;34m)\u001b[0m\u001b[0;34m:\u001b[0m\u001b[0;34m\u001b[0m\u001b[0;34m\u001b[0m\u001b[0m\n\u001b[0;32m--> 600\u001b[0;31m             \u001b[0mself\u001b[0m\u001b[0;34m.\u001b[0m\u001b[0m_check_n_features\u001b[0m\u001b[0;34m(\u001b[0m\u001b[0mX\u001b[0m\u001b[0;34m,\u001b[0m \u001b[0mreset\u001b[0m\u001b[0;34m=\u001b[0m\u001b[0mreset\u001b[0m\u001b[0;34m)\u001b[0m\u001b[0;34m\u001b[0m\u001b[0;34m\u001b[0m\u001b[0m\n\u001b[0m\u001b[1;32m    601\u001b[0m \u001b[0;34m\u001b[0m\u001b[0m\n\u001b[1;32m    602\u001b[0m         \u001b[0;32mreturn\u001b[0m \u001b[0mout\u001b[0m\u001b[0;34m\u001b[0m\u001b[0;34m\u001b[0m\u001b[0m\n",
      "\u001b[0;32m~/anaconda3/lib/python3.9/site-packages/sklearn/base.py\u001b[0m in \u001b[0;36m_check_n_features\u001b[0;34m(self, X, reset)\u001b[0m\n\u001b[1;32m    398\u001b[0m \u001b[0;34m\u001b[0m\u001b[0m\n\u001b[1;32m    399\u001b[0m         \u001b[0;32mif\u001b[0m \u001b[0mn_features\u001b[0m \u001b[0;34m!=\u001b[0m \u001b[0mself\u001b[0m\u001b[0;34m.\u001b[0m\u001b[0mn_features_in_\u001b[0m\u001b[0;34m:\u001b[0m\u001b[0;34m\u001b[0m\u001b[0;34m\u001b[0m\u001b[0m\n\u001b[0;32m--> 400\u001b[0;31m             raise ValueError(\n\u001b[0m\u001b[1;32m    401\u001b[0m                 \u001b[0;34mf\"X has {n_features} features, but {self.__class__.__name__} \"\u001b[0m\u001b[0;34m\u001b[0m\u001b[0;34m\u001b[0m\u001b[0m\n\u001b[1;32m    402\u001b[0m                 \u001b[0;34mf\"is expecting {self.n_features_in_} features as input.\"\u001b[0m\u001b[0;34m\u001b[0m\u001b[0;34m\u001b[0m\u001b[0m\n",
      "\u001b[0;31mValueError\u001b[0m: X has 118 features, but RandomForestClassifier is expecting 104 features as input."
     ]
    }
   ],
   "source": [
    "predictions = model.predict(df)\n",
    "predictions[:10]"
   ]
  },
  {
   "cell_type": "markdown",
   "id": "0e5a933d",
   "metadata": {},
   "source": [
    "---"
   ]
  }
 ],
 "metadata": {
  "kernelspec": {
   "display_name": "Python 3 (ipykernel)",
   "language": "python",
   "name": "python3"
  },
  "language_info": {
   "codemirror_mode": {
    "name": "ipython",
    "version": 3
   },
   "file_extension": ".py",
   "mimetype": "text/x-python",
   "name": "python",
   "nbconvert_exporter": "python",
   "pygments_lexer": "ipython3",
   "version": "3.9.7"
  }
 },
 "nbformat": 4,
 "nbformat_minor": 5
}
