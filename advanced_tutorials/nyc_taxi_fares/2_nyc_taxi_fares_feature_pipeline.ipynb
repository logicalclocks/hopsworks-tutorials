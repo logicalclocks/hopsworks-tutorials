{
 "cells": [
  {
   "cell_type": "markdown",
   "id": "835eceed",
   "metadata": {},
   "source": [
    "# <span style=\"font-width:bold; font-size: 3rem; color:#1EB182;\">**Hopsworks Feature Store** </span><span style=\"font-width:bold; font-size: 3rem; color:#333;\">- Part 02: Feature Pipeline</span>\n",
    "\n",
    "\n",
    "## 🗒️ This notebook is divided into 2 sections:\n",
    "1. Data generation.\n",
    "2. Insert new data into the Feature Store."
   ]
  },
  {
   "cell_type": "markdown",
   "id": "310cfc8a",
   "metadata": {},
   "source": [
    "### <span style='color:#ff5f27'> 📝 Imports"
   ]
  },
  {
   "cell_type": "code",
   "execution_count": null,
   "id": "95150ba4",
   "metadata": {},
   "outputs": [],
   "source": [
    "import pandas as pd\n",
    "from datetime import datetime\n",
    "import time \n",
    "import os \n",
    "\n",
    "from features import (\n",
    "    nyc_taxi_rides, \n",
    "    nyc_taxi_fares,\n",
    ")\n",
    "\n",
    "# Mute warnings\n",
    "import warnings\n",
    "warnings.filterwarnings(\"ignore\")"
   ]
  },
  {
   "cell_type": "markdown",
   "id": "a3d5d7be",
   "metadata": {},
   "source": [
    "___"
   ]
  },
  {
   "cell_type": "markdown",
   "id": "4603a252",
   "metadata": {},
   "source": [
    "## <span style=\"color:#ff5f27;\"> 🪄 Generating new data</span>"
   ]
  },
  {
   "cell_type": "markdown",
   "id": "474bd1b2",
   "metadata": {},
   "source": [
    "### <span style='color:#ff5f27'> 🚖 Rides Data"
   ]
  },
  {
   "cell_type": "code",
   "execution_count": null,
   "id": "6db8cc92",
   "metadata": {},
   "outputs": [],
   "source": [
    "# Generate ride data using the generate_rides_data function\n",
    "df_rides = nyc_taxi_rides.generate_rides_data(150)\n",
    "\n",
    "# Display the DataFrame containing the generated ride data\n",
    "df_rides.head(5)"
   ]
  },
  {
   "cell_type": "code",
   "execution_count": null,
   "id": "c4010b8e",
   "metadata": {},
   "outputs": [],
   "source": [
    "# Calculate distance-related features for the df_rides DataFrame\n",
    "df_rides = nyc_taxi_rides.calculate_distance_features(df_rides)\n",
    "\n",
    "# Calculate datetime-related features for the df_rides DataFrame\n",
    "df_rides = nyc_taxi_rides.calculate_datetime_features(df_rides)"
   ]
  },
  {
   "cell_type": "code",
   "execution_count": null,
   "id": "f9fc44ab",
   "metadata": {},
   "outputs": [],
   "source": [
    "# Save the newly-generated ride_ids from the df_rides DataFrame\n",
    "ride_ids = df_rides.ride_id"
   ]
  },
  {
   "cell_type": "code",
   "execution_count": null,
   "id": "bdbe5cf9",
   "metadata": {},
   "outputs": [],
   "source": [
    "# Convert specified columns in df_rides DataFrame to int64 type\n",
    "for col in [\"passenger_count\", \"taxi_id\", \"driver_id\"]:\n",
    "    df_rides[col] = df_rides[col].astype(\"int64\")"
   ]
  },
  {
   "cell_type": "markdown",
   "id": "8cfc9fdf",
   "metadata": {},
   "source": [
    "### <span style='color:#ff5f27'> 💸 Fares Data"
   ]
  },
  {
   "cell_type": "code",
   "execution_count": null,
   "id": "36b883e0",
   "metadata": {
    "scrolled": true
   },
   "outputs": [],
   "source": [
    "# Generate fare data using the generate_fares_data function\n",
    "df_fares = nyc_taxi_fares.generate_fares_data(150)\n",
    "\n",
    "# Display the DataFrame containing the generated fare data\n",
    "df_fares.head()"
   ]
  },
  {
   "cell_type": "code",
   "execution_count": null,
   "id": "054a0a76",
   "metadata": {},
   "outputs": [],
   "source": [
    "# Convert all columns in the df_fares DataFrame to int64 type\n",
    "df_fares = df_fares.astype(\"int64\")"
   ]
  },
  {
   "cell_type": "code",
   "execution_count": null,
   "id": "ad1f6760",
   "metadata": {},
   "outputs": [],
   "source": [
    "# Load our ride_ids which were created moments ago for rides_fg\n",
    "df_fares[\"ride_id\"] = ride_ids"
   ]
  },
  {
   "cell_type": "code",
   "execution_count": null,
   "id": "d8a9b305",
   "metadata": {},
   "outputs": [],
   "source": [
    "# Convert specified columns in df_fares DataFrame to float64 type\n",
    "for col in [\"tolls\", \"total_fare\"]:\n",
    "    df_fares[col] = df_fares[col].astype(\"float64\")"
   ]
  },
  {
   "cell_type": "markdown",
   "id": "24d823c9",
   "metadata": {},
   "source": [
    "___"
   ]
  },
  {
   "cell_type": "markdown",
   "id": "11699f3c",
   "metadata": {},
   "source": [
    "## <span style=\"color:#ff5f27;\"> 📡 Connecting to the Hopsworks Feature Store </span>"
   ]
  },
  {
   "cell_type": "code",
   "execution_count": null,
   "id": "ef887c6e",
   "metadata": {},
   "outputs": [],
   "source": [
    "import hopsworks\n",
    "\n",
    "project = hopsworks.login()\n",
    "\n",
    "fs = project.get_feature_store() "
   ]
  },
  {
   "cell_type": "code",
   "execution_count": null,
   "id": "23213c57",
   "metadata": {},
   "outputs": [],
   "source": [
    "rides_fg = fs.get_feature_group(\n",
    "    name=\"nyc_taxi_rides\",\n",
    "    version=1,\n",
    ")   \n",
    "\n",
    "fares_fg = fs.get_feature_group(\n",
    "    name=\"nyc_taxi_fares\",\n",
    "    version=1,\n",
    ")   "
   ]
  },
  {
   "cell_type": "markdown",
   "id": "96c4aa87",
   "metadata": {},
   "source": [
    "---"
   ]
  },
  {
   "cell_type": "markdown",
   "id": "4ceb6069",
   "metadata": {},
   "source": [
    "## <span style=\"color:#ff5f27;\">⬆️ Uploading new data to the Feature Store</span>"
   ]
  },
  {
   "cell_type": "code",
   "execution_count": null,
   "id": "5672f9ff",
   "metadata": {},
   "outputs": [],
   "source": [
    "rides_fg.insert(df_rides)"
   ]
  },
  {
   "cell_type": "code",
   "execution_count": null,
   "id": "64abc698",
   "metadata": {
    "scrolled": true
   },
   "outputs": [],
   "source": [
    "fares_fg.insert(df_fares)"
   ]
  },
  {
   "cell_type": "markdown",
   "id": "470b5e79",
   "metadata": {},
   "source": [
    "---"
   ]
  },
  {
   "cell_type": "markdown",
   "id": "12d5f3e1",
   "metadata": {},
   "source": [
    "## <span style=\"color:#ff5f27;\">⏭️ **Next:** Part 03: Training Pipeline </span>\n",
    "\n",
    "In the next notebook, you will create a feature view, training dataset, train a model and save it to Hopsworks Model Registry.\n"
   ]
  }
 ],
 "metadata": {
  "kernelspec": {
   "display_name": "Python 3",
   "language": "python",
   "name": "python3"
  },
  "language_info": {
   "codemirror_mode": {
    "name": "ipython",
    "version": 3
   },
   "file_extension": ".py",
   "mimetype": "text/x-python",
   "name": "python",
   "nbconvert_exporter": "python",
   "pygments_lexer": "ipython3",
   "version": "3.10.11"
  },
  "vscode": {
   "interpreter": {
    "hash": "190ea7959a836f4799545ea0f3718ade3abee093b15861ffdc25233d6ab7050e"
   }
  }
 },
 "nbformat": 4,
 "nbformat_minor": 5
}
