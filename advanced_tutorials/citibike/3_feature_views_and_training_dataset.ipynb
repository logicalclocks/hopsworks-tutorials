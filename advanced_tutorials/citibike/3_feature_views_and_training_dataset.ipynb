{
 "cells": [
  {
   "cell_type": "markdown",
   "id": "07578271",
   "metadata": {},
   "source": [
    "# <span style=\"font-width:bold; font-size: 3rem; color:#1EB182;\">**Hopsworks Feature Store** </span> <span style=\"font-width:bold; font-size: 3rem; color:#333;\">- Part 03: Training Data & Feature views</span>\n",
    "\n",
    "[![Open In Colab](https://colab.research.google.com/assets/colab-badge.svg)](https://colab.research.google.com/github/logicalclocks/hopsworks-tutorials/blob/master/advanced_tutorials/electricity/3_feature_views_and_training_dataset.ipynb)\n",
    "\n",
    "\n",
    "\n",
    "## 🗒️ This notebook is divided into 3 main sections:\n",
    "1. **Feature Selection**.\n",
    "2. **Feature preprocessing**.\n",
    "3. **Training datasets creation**.\n",
    "\n",
    "![02_training-dataset](../../images/02_training-dataset.png)"
   ]
  },
  {
   "cell_type": "markdown",
   "id": "50996526",
   "metadata": {},
   "source": [
    "### <span style='color:#ff5f27'> 📝 Imports"
   ]
  },
  {
   "cell_type": "code",
   "execution_count": null,
   "id": "99322c3a",
   "metadata": {},
   "outputs": [],
   "source": [
    "import pandas as pd\n",
    "import numpy as np\n",
    "\n",
    "from functions import *\n",
    "\n",
    "import warnings\n",
    "\n",
    "# Mute warnings\n",
    "warnings.filterwarnings(\"ignore\")"
   ]
  },
  {
   "cell_type": "markdown",
   "id": "f5adc5d9",
   "metadata": {},
   "source": [
    "---"
   ]
  },
  {
   "cell_type": "markdown",
   "id": "faf4a7fa",
   "metadata": {},
   "source": [
    "## <span style=\"color:#ff5f27;\"> 📡 Connecting to Hopsworks Feature Store </span>"
   ]
  },
  {
   "cell_type": "code",
   "execution_count": null,
   "id": "d6d28042",
   "metadata": {},
   "outputs": [],
   "source": [
    "!pip install -U hopsworks --quiet"
   ]
  },
  {
   "cell_type": "code",
   "execution_count": null,
   "id": "aa6fe84b",
   "metadata": {
    "scrolled": true
   },
   "outputs": [],
   "source": [
    "import hopsworks\n",
    "\n",
    "project = hopsworks.login()\n",
    "\n",
    "fs = project.get_feature_store() "
   ]
  },
  {
   "cell_type": "code",
   "execution_count": null,
   "id": "3e9c31ef",
   "metadata": {},
   "outputs": [],
   "source": [
    "citibike_usage_fg = fs.get_or_create_feature_group(\n",
    "    name=\"citibike_usage\",\n",
    "    version=1\n",
    ")"
   ]
  },
  {
   "cell_type": "code",
   "execution_count": null,
   "id": "55091de2",
   "metadata": {},
   "outputs": [],
   "source": [
    "citibike_stations_info_fg = fs.get_or_create_feature_group(\n",
    "    name=\"citibike_stations_info\",\n",
    "    version=1\n",
    ")"
   ]
  },
  {
   "cell_type": "code",
   "execution_count": null,
   "id": "ed73cba6",
   "metadata": {},
   "outputs": [],
   "source": [
    "us_holidays_fg = fs.get_or_create_feature_group(\n",
    "    name=\"us_holidays\",\n",
    "    version=1\n",
    ")"
   ]
  },
  {
   "cell_type": "code",
   "execution_count": null,
   "id": "e73e5688",
   "metadata": {},
   "outputs": [],
   "source": [
    "meteorological_measurements_fg = fs.get_or_create_feature_group(\n",
    "    name=\"meteorological_measurements\",\n",
    "    version=1\n",
    ")"
   ]
  },
  {
   "cell_type": "markdown",
   "id": "200bd629",
   "metadata": {},
   "source": [
    "---"
   ]
  },
  {
   "cell_type": "markdown",
   "id": "37c3e5f6",
   "metadata": {},
   "source": [
    "## <span style=\"color:#ff5f27;\"> 🖍 Feature View Creation and Retrieving </span>\n",
    "\n",
    "Let's start by selecting all the features you want to include for model training/inference."
   ]
  },
  {
   "cell_type": "code",
   "execution_count": null,
   "id": "e991e3c6",
   "metadata": {},
   "outputs": [],
   "source": [
    "# Select features for training data.\n",
    "query = meteorological_measurements_fg.select_except([\"timestamp\"])\\\n",
    "                                      .join(\n",
    "                                            us_holidays_fg.select_except([\"timestamp\"]),\n",
    "                                            on=\"date\", join_type=\"left\"\n",
    "                                      )\\\n",
    "                                      .join(\n",
    "                                          citibike_usage_fg.select_except([\"timestamp\"]),\n",
    "                                          on=\"date\", join_type=\"left\"\n",
    "                                      )"
   ]
  },
  {
   "cell_type": "code",
   "execution_count": null,
   "id": "deb8c9fc",
   "metadata": {
    "scrolled": true
   },
   "outputs": [],
   "source": [
    "# # uncomment and run cell below if you want to see some rows from this query\n",
    "# # but you will have to wait some time\n",
    "\n",
    "# query.read()"
   ]
  },
  {
   "cell_type": "markdown",
   "id": "f66d20ef",
   "metadata": {},
   "source": [
    "`Feature Views` stands between **Feature Groups** and **Training Dataset**. Сombining **Feature Groups** we can create **Feature Views** which store a metadata of our data. Having **Feature Views** we can create **Training Dataset**.\n",
    "\n",
    "The Feature Views allows schema in form of a query with filters, define a model target feature/label and additional transformation functions.\n",
    "\n",
    "In order to create Feature View we can use `FeatureStore.get_or_create_feature_view()` method.\n",
    "\n",
    "We can specify next parameters:\n",
    "\n",
    "- `name` - name of a feature group.\n",
    "\n",
    "- `version` - version of a feature group.\n",
    "\n",
    "- `labels`- our target variable.\n",
    "\n",
    "- `transformation_functions` - functions to transform our features.\n",
    "\n",
    "- `query` - query object with data."
   ]
  },
  {
   "cell_type": "code",
   "execution_count": null,
   "id": "18065fe1",
   "metadata": {},
   "outputs": [],
   "source": [
    "feature_view = fs.get_or_create_feature_view(\n",
    "    name='citibike_fv',\n",
    "    query=query,\n",
    "    labels=[\"users_count\"],\n",
    "    version=1    \n",
    ")"
   ]
  },
  {
   "cell_type": "code",
   "execution_count": null,
   "id": "f9f66da9",
   "metadata": {},
   "outputs": [],
   "source": [
    "feature_view"
   ]
  },
  {
   "cell_type": "markdown",
   "id": "bb8ea77f",
   "metadata": {},
   "source": [
    "For now this `Feature View` is saved in Hopsworks and we can retrieve it using the same method."
   ]
  },
  {
   "cell_type": "code",
   "execution_count": null,
   "id": "c98c5dd8",
   "metadata": {},
   "outputs": [],
   "source": [
    "feature_view = fs.get_feature_view(\n",
    "    name='citibike_fv',\n",
    "    version=1    \n",
    ")"
   ]
  },
  {
   "cell_type": "code",
   "execution_count": null,
   "id": "910a4ac0",
   "metadata": {},
   "outputs": [],
   "source": [
    "feature_view"
   ]
  },
  {
   "cell_type": "markdown",
   "id": "e77972e9",
   "metadata": {},
   "source": [
    "---\n",
    "\n",
    "## <span style=\"color:#ff5f27;\"> 🏋️ Training Dataset Creation</span>\n",
    "\n",
    "In Hopsworks training data is a query where the projection (set of features) is determined by the parent FeatureView with an optional snapshot on disk of the data returned by the query.\n",
    "\n",
    "**Training Dataset  may contain splits such as:** \n",
    "* Training set - the subset of training data used to train a model.\n",
    "* Validation set - the subset of training data used to evaluate hparams when training a model\n",
    "* Test set - the holdout subset of training data used to evaluate a mode\n",
    "\n",
    "To create training dataset we use `FeatureView.create_training_data()` method.\n",
    "\n",
    "Here are some importand things:\n",
    "\n",
    "- It will inherit the name of FeatureView.\n",
    "\n",
    "- The feature store currently supports the following data formats for\n",
    "training datasets: **tfrecord, csv, tsv, parquet, avro, orc**.\n",
    "\n",
    "- We can choose necessary format using **data_format** parameter.\n",
    "\n",
    "- **start_time** and **end_time** in order to filter dataset in specific time range.\n",
    "\n",
    "- We can create **train, test** splits using `create_train_test_split()`. \n",
    "\n",
    "- We can create **train,validation, test** splits using `create_train_validation_test_splits()` methods.\n",
    "\n",
    "- The only thing is that we should specify desired ratio of splits."
   ]
  },
  {
   "cell_type": "code",
   "execution_count": null,
   "id": "0fba0cfb",
   "metadata": {
    "scrolled": true
   },
   "outputs": [],
   "source": [
    "# You can combine different datetime formats.\n",
    "feature_view.create_train_validation_test_split(\n",
    "    train_start=\"2022-01-01\",\n",
    "    train_end=\"2022/05/01\",\n",
    "    test_start=\"20220502\",\n",
    "    test_end=\"2022-05-31\",\n",
    "    write_options = {'wait_for_job': False},\n",
    ")"
   ]
  },
  {
   "cell_type": "markdown",
   "id": "04b95674",
   "metadata": {},
   "source": [
    "## <span style=\"color:#ff5f27;\">⏭️ **Next:** Part 04 </span>\n",
    "\n",
    "In the next notebook you will train a model on the Training dataset, that was created in this notebook."
   ]
  }
 ],
 "metadata": {
  "kernelspec": {
   "display_name": "Python 3 (ipykernel)",
   "language": "python",
   "name": "python3"
  },
  "language_info": {
   "codemirror_mode": {
    "name": "ipython",
    "version": 3
   },
   "file_extension": ".py",
   "mimetype": "text/x-python",
   "name": "python",
   "nbconvert_exporter": "python",
   "pygments_lexer": "ipython3",
   "version": "3.8.15"
  }
 },
 "nbformat": 4,
 "nbformat_minor": 5
}
