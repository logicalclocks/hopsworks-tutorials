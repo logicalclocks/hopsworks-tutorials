{
 "cells": [
  {
   "cell_type": "markdown",
   "id": "2dc51feb",
   "metadata": {},
   "source": [
    "# <span style=\"font-width:bold; font-size: 3rem; color:#1EB182;\"><img src=\"../images/icon102.png\" width=\"38px\"></img> **Hopsworks Feature Store** </span><span style=\"font-width:bold; font-size: 3rem; color:#333;\">- Part 03: Training Data & Feature views</span>\n",
    "\n",
    "[![Open In Colab](https://colab.research.google.com/assets/colab-badge.svg)](https://colab.research.google.com/github/logicalclocks/hopsworks-tutorials/blob/master/bitcoin/3_feature_views_and_training_dataset.ipynb)\n",
    "\n",
    "<span style=\"font-width:bold; font-size: 1.4rem;\">This is the third part of advanced tutorials about Hopsworks Feature Store. This notebook explains how to read from a feature group and create training dataset within the feature store</span>\n",
    "\n",
    "## 🗒️ In this notebook you will see how to create a training dataset from the feature groups: \n",
    "\n",
    "1. Retrieving Feature Groups.\n",
    "2. Defining Transformation functions.\n",
    "4. Feature View creation.\n",
    "5. Training Dataset with training, validation and test data.\n",
    "\n",
    "![part2](../images/02_training-dataset.png) "
   ]
  },
  {
   "cell_type": "markdown",
   "id": "c5533ca2",
   "metadata": {},
   "source": [
    "### <span style=\"color:#ff5f27;\"> 📝 Imports</span>"
   ]
  },
  {
   "cell_type": "code",
   "execution_count": 1,
   "id": "8e828a93",
   "metadata": {},
   "outputs": [],
   "source": [
    "import pandas as pd\n",
    "\n",
    "import datetime\n",
    "\n",
    "import warnings\n",
    "warnings.filterwarnings('ignore')"
   ]
  },
  {
   "cell_type": "markdown",
   "id": "7c720463",
   "metadata": {},
   "source": [
    "## <span style=\"color:#ff5f27;\"> 📡 Connecting to Hopsworks Feature Store </span>"
   ]
  },
  {
   "cell_type": "code",
   "execution_count": 2,
   "id": "dc27b91f",
   "metadata": {
    "scrolled": true
   },
   "outputs": [
    {
     "name": "stdout",
     "output_type": "stream",
     "text": [
      "Connected. Call `.close()` to terminate connection gracefully.\n",
      "\n",
      "Logged in to project, explore it here https://c.app.hopsworks.ai:443/p/167\n"
     ]
    },
    {
     "name": "stderr",
     "output_type": "stream",
     "text": [
      "DeprecationWarning: the imp module is deprecated in favour of importlib; see the module's documentation for alternative uses\n"
     ]
    },
    {
     "name": "stdout",
     "output_type": "stream",
     "text": [
      "Connected. Call `.close()` to terminate connection gracefully.\n"
     ]
    }
   ],
   "source": [
    "import hopsworks\n",
    "\n",
    "project = hopsworks.login()\n",
    "\n",
    "fs = project.get_feature_store()"
   ]
  },
  {
   "cell_type": "markdown",
   "id": "0bd4c8ca",
   "metadata": {},
   "source": [
    "---\n",
    "\n",
    "## <span style=\"color:#ff5f27;\">🪝 Retrieving Feature Groups </span>"
   ]
  },
  {
   "cell_type": "code",
   "execution_count": 3,
   "id": "682d0a4a",
   "metadata": {},
   "outputs": [
    {
     "name": "stdout",
     "output_type": "stream",
     "text": [
      "2022-09-28 17:00:36,501 INFO: USE `maksym00_featurestore`\n",
      "2022-09-28 17:00:37,608 INFO: SELECT `fg0`.`date` `date`, `fg0`.`open` `open`, `fg0`.`high` `high`, `fg0`.`low` `low`, `fg0`.`close` `close`, `fg0`.`volume` `volume`, `fg0`.`quote_av` `quote_av`, `fg0`.`trades` `trades`, `fg0`.`tb_base_av` `tb_base_av`, `fg0`.`tb_quote_av` `tb_quote_av`, `fg0`.`unix` `unix`, `fg0`.`mean_7_days` `mean_7_days`, `fg0`.`mean_14_days` `mean_14_days`, `fg0`.`mean_56_days` `mean_56_days`, `fg0`.`signal` `signal`, `fg0`.`std_7_days` `std_7_days`, `fg0`.`exp_mean_7_days` `exp_mean_7_days`, `fg0`.`exp_std_7_days` `exp_std_7_days`, `fg0`.`momentum_7_days` `momentum_7_days`, `fg0`.`rate_of_change_7_days` `rate_of_change_7_days`, `fg0`.`strength_index_7_days` `strength_index_7_days`, `fg0`.`std_14_days` `std_14_days`, `fg0`.`exp_mean_14_days` `exp_mean_14_days`, `fg0`.`exp_std_14_days` `exp_std_14_days`, `fg0`.`momentum_14_days` `momentum_14_days`, `fg0`.`rate_of_change_14_days` `rate_of_change_14_days`, `fg0`.`strength_index_14_days` `strength_index_14_days`, `fg0`.`std_56_days` `std_56_days`, `fg0`.`exp_mean_56_days` `exp_mean_56_days`, `fg0`.`exp_std_56_days` `exp_std_56_days`, `fg0`.`momentum_56_days` `momentum_56_days`, `fg0`.`rate_of_change_56_days` `rate_of_change_56_days`, `fg0`.`strength_index_56_days` `strength_index_56_days`\n",
      "FROM `maksym00_featurestore`.`bitcoin_price_1` `fg0`\n"
     ]
    },
    {
     "data": {
      "text/html": [
       "<div>\n",
       "<style scoped>\n",
       "    .dataframe tbody tr th:only-of-type {\n",
       "        vertical-align: middle;\n",
       "    }\n",
       "\n",
       "    .dataframe tbody tr th {\n",
       "        vertical-align: top;\n",
       "    }\n",
       "\n",
       "    .dataframe thead th {\n",
       "        text-align: right;\n",
       "    }\n",
       "</style>\n",
       "<table border=\"1\" class=\"dataframe\">\n",
       "  <thead>\n",
       "    <tr style=\"text-align: right;\">\n",
       "      <th></th>\n",
       "      <th>date</th>\n",
       "      <th>open</th>\n",
       "      <th>high</th>\n",
       "      <th>low</th>\n",
       "      <th>close</th>\n",
       "      <th>volume</th>\n",
       "      <th>quote_av</th>\n",
       "      <th>trades</th>\n",
       "      <th>tb_base_av</th>\n",
       "      <th>tb_quote_av</th>\n",
       "      <th>...</th>\n",
       "      <th>exp_std_14_days</th>\n",
       "      <th>momentum_14_days</th>\n",
       "      <th>rate_of_change_14_days</th>\n",
       "      <th>strength_index_14_days</th>\n",
       "      <th>std_56_days</th>\n",
       "      <th>exp_mean_56_days</th>\n",
       "      <th>exp_std_56_days</th>\n",
       "      <th>momentum_56_days</th>\n",
       "      <th>rate_of_change_56_days</th>\n",
       "      <th>strength_index_56_days</th>\n",
       "    </tr>\n",
       "  </thead>\n",
       "  <tbody>\n",
       "    <tr>\n",
       "      <th>0</th>\n",
       "      <td>2022-05-19 21:00:00</td>\n",
       "      <td>30319.22</td>\n",
       "      <td>30777.33</td>\n",
       "      <td>28730.0</td>\n",
       "      <td>29201.01</td>\n",
       "      <td>60517.253250</td>\n",
       "      <td>1.800589e+09</td>\n",
       "      <td>1694004</td>\n",
       "      <td>30890.401270</td>\n",
       "      <td>9.194677e+08</td>\n",
       "      <td>...</td>\n",
       "      <td>3309.834053</td>\n",
       "      <td>-6812.76</td>\n",
       "      <td>-17.679609</td>\n",
       "      <td>35.604076</td>\n",
       "      <td>5652.935995</td>\n",
       "      <td>36611.788364</td>\n",
       "      <td>5686.179927</td>\n",
       "      <td>-15112.15</td>\n",
       "      <td>-34.396367</td>\n",
       "      <td>41.258938</td>\n",
       "    </tr>\n",
       "    <tr>\n",
       "      <th>1</th>\n",
       "      <td>2021-05-20 21:00:00</td>\n",
       "      <td>40525.39</td>\n",
       "      <td>42200.00</td>\n",
       "      <td>33488.0</td>\n",
       "      <td>37252.01</td>\n",
       "      <td>202100.888258</td>\n",
       "      <td>7.713347e+09</td>\n",
       "      <td>3993336</td>\n",
       "      <td>94002.431409</td>\n",
       "      <td>3.591749e+09</td>\n",
       "      <td>...</td>\n",
       "      <td>7554.338338</td>\n",
       "      <td>-20062.74</td>\n",
       "      <td>-36.713026</td>\n",
       "      <td>28.998528</td>\n",
       "      <td>6013.760637</td>\n",
       "      <td>52320.267459</td>\n",
       "      <td>6954.268184</td>\n",
       "      <td>-17773.58</td>\n",
       "      <td>-33.260626</td>\n",
       "      <td>44.872070</td>\n",
       "    </tr>\n",
       "    <tr>\n",
       "      <th>2</th>\n",
       "      <td>2021-12-07 22:00:00</td>\n",
       "      <td>50588.95</td>\n",
       "      <td>51200.00</td>\n",
       "      <td>48600.0</td>\n",
       "      <td>50471.19</td>\n",
       "      <td>38425.924660</td>\n",
       "      <td>1.925459e+09</td>\n",
       "      <td>1118225</td>\n",
       "      <td>18126.843620</td>\n",
       "      <td>9.084107e+08</td>\n",
       "      <td>...</td>\n",
       "      <td>4120.300702</td>\n",
       "      <td>-6667.10</td>\n",
       "      <td>-14.398097</td>\n",
       "      <td>35.586600</td>\n",
       "      <td>4388.713351</td>\n",
       "      <td>56447.953603</td>\n",
       "      <td>6174.286106</td>\n",
       "      <td>-6895.81</td>\n",
       "      <td>-11.991276</td>\n",
       "      <td>47.825775</td>\n",
       "    </tr>\n",
       "  </tbody>\n",
       "</table>\n",
       "<p>3 rows × 33 columns</p>\n",
       "</div>"
      ],
      "text/plain": [
       "                 date      open      high      low     close         volume  \\\n",
       "0 2022-05-19 21:00:00  30319.22  30777.33  28730.0  29201.01   60517.253250   \n",
       "1 2021-05-20 21:00:00  40525.39  42200.00  33488.0  37252.01  202100.888258   \n",
       "2 2021-12-07 22:00:00  50588.95  51200.00  48600.0  50471.19   38425.924660   \n",
       "\n",
       "       quote_av   trades    tb_base_av   tb_quote_av  ...  exp_std_14_days  \\\n",
       "0  1.800589e+09  1694004  30890.401270  9.194677e+08  ...      3309.834053   \n",
       "1  7.713347e+09  3993336  94002.431409  3.591749e+09  ...      7554.338338   \n",
       "2  1.925459e+09  1118225  18126.843620  9.084107e+08  ...      4120.300702   \n",
       "\n",
       "   momentum_14_days  rate_of_change_14_days  strength_index_14_days  \\\n",
       "0          -6812.76              -17.679609               35.604076   \n",
       "1         -20062.74              -36.713026               28.998528   \n",
       "2          -6667.10              -14.398097               35.586600   \n",
       "\n",
       "   std_56_days  exp_mean_56_days  exp_std_56_days  momentum_56_days  \\\n",
       "0  5652.935995      36611.788364      5686.179927         -15112.15   \n",
       "1  6013.760637      52320.267459      6954.268184         -17773.58   \n",
       "2  4388.713351      56447.953603      6174.286106          -6895.81   \n",
       "\n",
       "   rate_of_change_56_days  strength_index_56_days  \n",
       "0              -34.396367               41.258938  \n",
       "1              -33.260626               44.872070  \n",
       "2              -11.991276               47.825775  \n",
       "\n",
       "[3 rows x 33 columns]"
      ]
     },
     "execution_count": 3,
     "metadata": {},
     "output_type": "execute_result"
    }
   ],
   "source": [
    "btc_price_fg = fs.get_or_create_feature_group(\n",
    "    name='bitcoin_price',\n",
    "    version=1\n",
    ")\n",
    "\n",
    "btc_price_fg.read().head(3)"
   ]
  },
  {
   "cell_type": "code",
   "execution_count": 5,
   "id": "efcede4e",
   "metadata": {},
   "outputs": [
    {
     "name": "stdout",
     "output_type": "stream",
     "text": [
      "2022-09-28 17:00:47,714 INFO: USE `maksym00_featurestore`\n",
      "2022-09-28 17:00:48,762 INFO: SELECT `fg0`.`date` `date`, `fg0`.`subjectivity` `subjectivity`, `fg0`.`polarity` `polarity`, `fg0`.`unix` `unix`\n",
      "FROM `maksym00_featurestore`.`bitcoin_tweets_textblob_1` `fg0`\n"
     ]
    },
    {
     "data": {
      "text/html": [
       "<div>\n",
       "<style scoped>\n",
       "    .dataframe tbody tr th:only-of-type {\n",
       "        vertical-align: middle;\n",
       "    }\n",
       "\n",
       "    .dataframe tbody tr th {\n",
       "        vertical-align: top;\n",
       "    }\n",
       "\n",
       "    .dataframe thead th {\n",
       "        text-align: right;\n",
       "    }\n",
       "</style>\n",
       "<table border=\"1\" class=\"dataframe\">\n",
       "  <thead>\n",
       "    <tr style=\"text-align: right;\">\n",
       "      <th></th>\n",
       "      <th>date</th>\n",
       "      <th>subjectivity</th>\n",
       "      <th>polarity</th>\n",
       "      <th>unix</th>\n",
       "    </tr>\n",
       "  </thead>\n",
       "  <tbody>\n",
       "    <tr>\n",
       "      <th>0</th>\n",
       "      <td>2022-05-20 00:00:00</td>\n",
       "      <td>0.0</td>\n",
       "      <td>0.0</td>\n",
       "      <td>1652994000000</td>\n",
       "    </tr>\n",
       "    <tr>\n",
       "      <th>1</th>\n",
       "      <td>2021-05-21 00:00:00</td>\n",
       "      <td>0.0</td>\n",
       "      <td>0.0</td>\n",
       "      <td>1621544400000</td>\n",
       "    </tr>\n",
       "    <tr>\n",
       "      <th>2</th>\n",
       "      <td>2021-12-08 00:00:00</td>\n",
       "      <td>0.0</td>\n",
       "      <td>0.0</td>\n",
       "      <td>1638914400000</td>\n",
       "    </tr>\n",
       "  </tbody>\n",
       "</table>\n",
       "</div>"
      ],
      "text/plain": [
       "                  date  subjectivity  polarity           unix\n",
       "0  2022-05-20 00:00:00           0.0       0.0  1652994000000\n",
       "1  2021-05-21 00:00:00           0.0       0.0  1621544400000\n",
       "2  2021-12-08 00:00:00           0.0       0.0  1638914400000"
      ]
     },
     "execution_count": 5,
     "metadata": {},
     "output_type": "execute_result"
    }
   ],
   "source": [
    "tweets_textblob_fg = fs.get_or_create_feature_group(\n",
    "    name='bitcoin_tweets_textblob',\n",
    "    version=1\n",
    ")\n",
    "\n",
    "tweets_textblob_fg.show(3)"
   ]
  },
  {
   "cell_type": "code",
   "execution_count": 6,
   "id": "0fddc44c",
   "metadata": {},
   "outputs": [
    {
     "name": "stdout",
     "output_type": "stream",
     "text": [
      "2022-09-28 17:00:52,298 INFO: USE `maksym00_featurestore`\n",
      "2022-09-28 17:00:53,370 INFO: SELECT `fg0`.`date` `date`, `fg0`.`compound` `compound`, `fg0`.`unix` `unix`\n",
      "FROM `maksym00_featurestore`.`bitcoin_tweets_vader_1` `fg0`\n"
     ]
    },
    {
     "data": {
      "text/html": [
       "<div>\n",
       "<style scoped>\n",
       "    .dataframe tbody tr th:only-of-type {\n",
       "        vertical-align: middle;\n",
       "    }\n",
       "\n",
       "    .dataframe tbody tr th {\n",
       "        vertical-align: top;\n",
       "    }\n",
       "\n",
       "    .dataframe thead th {\n",
       "        text-align: right;\n",
       "    }\n",
       "</style>\n",
       "<table border=\"1\" class=\"dataframe\">\n",
       "  <thead>\n",
       "    <tr style=\"text-align: right;\">\n",
       "      <th></th>\n",
       "      <th>date</th>\n",
       "      <th>compound</th>\n",
       "      <th>unix</th>\n",
       "    </tr>\n",
       "  </thead>\n",
       "  <tbody>\n",
       "    <tr>\n",
       "      <th>0</th>\n",
       "      <td>2022-05-20 00:00:00</td>\n",
       "      <td>0.0</td>\n",
       "      <td>1652994000000</td>\n",
       "    </tr>\n",
       "    <tr>\n",
       "      <th>1</th>\n",
       "      <td>2021-05-21 00:00:00</td>\n",
       "      <td>0.0</td>\n",
       "      <td>1621544400000</td>\n",
       "    </tr>\n",
       "    <tr>\n",
       "      <th>2</th>\n",
       "      <td>2021-12-08 00:00:00</td>\n",
       "      <td>0.0</td>\n",
       "      <td>1638914400000</td>\n",
       "    </tr>\n",
       "  </tbody>\n",
       "</table>\n",
       "</div>"
      ],
      "text/plain": [
       "                  date  compound           unix\n",
       "0  2022-05-20 00:00:00       0.0  1652994000000\n",
       "1  2021-05-21 00:00:00       0.0  1621544400000\n",
       "2  2021-12-08 00:00:00       0.0  1638914400000"
      ]
     },
     "execution_count": 6,
     "metadata": {},
     "output_type": "execute_result"
    }
   ],
   "source": [
    "tweets_vader_fg = fs.get_or_create_feature_group(\n",
    "    name='bitcoin_tweets_vader',\n",
    "    version=1\n",
    ")\n",
    "\n",
    "tweets_vader_fg.show(3)"
   ]
  },
  {
   "cell_type": "markdown",
   "id": "eac9ef05",
   "metadata": {},
   "source": [
    "--- \n",
    "\n",
    "## <span style=\"color:#ff5f27;\"> 🖍 Feature View Creation and Retrieving </span>"
   ]
  },
  {
   "cell_type": "code",
   "execution_count": 7,
   "id": "52f154e5",
   "metadata": {},
   "outputs": [
    {
     "name": "stdout",
     "output_type": "stream",
     "text": [
      "2022-09-28 17:00:56,825 INFO: USE `maksym00_featurestore`\n",
      "2022-09-28 17:00:58,058 INFO: WITH right_fg0 AS (SELECT *\n",
      "FROM (SELECT `fg2`.`open` `open`, `fg2`.`high` `high`, `fg2`.`low` `low`, `fg2`.`close` `close`, `fg2`.`volume` `volume`, `fg2`.`quote_av` `quote_av`, `fg2`.`trades` `trades`, `fg2`.`tb_base_av` `tb_base_av`, `fg2`.`tb_quote_av` `tb_quote_av`, `fg2`.`mean_7_days` `mean_7_days`, `fg2`.`mean_14_days` `mean_14_days`, `fg2`.`mean_56_days` `mean_56_days`, `fg2`.`signal` `signal`, `fg2`.`std_7_days` `std_7_days`, `fg2`.`exp_mean_7_days` `exp_mean_7_days`, `fg2`.`exp_std_7_days` `exp_std_7_days`, `fg2`.`momentum_7_days` `momentum_7_days`, `fg2`.`rate_of_change_7_days` `rate_of_change_7_days`, `fg2`.`strength_index_7_days` `strength_index_7_days`, `fg2`.`std_14_days` `std_14_days`, `fg2`.`exp_mean_14_days` `exp_mean_14_days`, `fg2`.`exp_std_14_days` `exp_std_14_days`, `fg2`.`momentum_14_days` `momentum_14_days`, `fg2`.`rate_of_change_14_days` `rate_of_change_14_days`, `fg2`.`strength_index_14_days` `strength_index_14_days`, `fg2`.`std_56_days` `std_56_days`, `fg2`.`exp_mean_56_days` `exp_mean_56_days`, `fg2`.`exp_std_56_days` `exp_std_56_days`, `fg2`.`momentum_56_days` `momentum_56_days`, `fg2`.`rate_of_change_56_days` `rate_of_change_56_days`, `fg2`.`strength_index_56_days` `strength_index_56_days`, `fg2`.`unix` `join_pk_unix`, `fg2`.`unix` `join_evt_unix`, `fg0`.`subjectivity` `subjectivity`, `fg0`.`polarity` `polarity`, RANK() OVER (PARTITION BY `fg0`.`unix`, `fg2`.`unix` ORDER BY `fg0`.`unix` DESC) pit_rank_hopsworks\n",
      "FROM `maksym00_featurestore`.`bitcoin_price_1` `fg2`\n",
      "INNER JOIN `maksym00_featurestore`.`bitcoin_tweets_textblob_1` `fg0` ON `fg2`.`unix` = `fg0`.`unix` AND `fg2`.`unix` >= `fg0`.`unix`) NA\n",
      "WHERE `pit_rank_hopsworks` = 1), right_fg1 AS (SELECT *\n",
      "FROM (SELECT `fg2`.`open` `open`, `fg2`.`high` `high`, `fg2`.`low` `low`, `fg2`.`close` `close`, `fg2`.`volume` `volume`, `fg2`.`quote_av` `quote_av`, `fg2`.`trades` `trades`, `fg2`.`tb_base_av` `tb_base_av`, `fg2`.`tb_quote_av` `tb_quote_av`, `fg2`.`mean_7_days` `mean_7_days`, `fg2`.`mean_14_days` `mean_14_days`, `fg2`.`mean_56_days` `mean_56_days`, `fg2`.`signal` `signal`, `fg2`.`std_7_days` `std_7_days`, `fg2`.`exp_mean_7_days` `exp_mean_7_days`, `fg2`.`exp_std_7_days` `exp_std_7_days`, `fg2`.`momentum_7_days` `momentum_7_days`, `fg2`.`rate_of_change_7_days` `rate_of_change_7_days`, `fg2`.`strength_index_7_days` `strength_index_7_days`, `fg2`.`std_14_days` `std_14_days`, `fg2`.`exp_mean_14_days` `exp_mean_14_days`, `fg2`.`exp_std_14_days` `exp_std_14_days`, `fg2`.`momentum_14_days` `momentum_14_days`, `fg2`.`rate_of_change_14_days` `rate_of_change_14_days`, `fg2`.`strength_index_14_days` `strength_index_14_days`, `fg2`.`std_56_days` `std_56_days`, `fg2`.`exp_mean_56_days` `exp_mean_56_days`, `fg2`.`exp_std_56_days` `exp_std_56_days`, `fg2`.`momentum_56_days` `momentum_56_days`, `fg2`.`rate_of_change_56_days` `rate_of_change_56_days`, `fg2`.`strength_index_56_days` `strength_index_56_days`, `fg2`.`unix` `join_pk_unix`, `fg2`.`unix` `join_evt_unix`, `fg1`.`compound` `compound`, RANK() OVER (PARTITION BY `fg1`.`unix`, `fg2`.`unix` ORDER BY `fg1`.`unix` DESC) pit_rank_hopsworks\n",
      "FROM `maksym00_featurestore`.`bitcoin_price_1` `fg2`\n",
      "INNER JOIN `maksym00_featurestore`.`bitcoin_tweets_vader_1` `fg1` ON `fg2`.`unix` = `fg1`.`unix` AND `fg2`.`unix` >= `fg1`.`unix`) NA\n",
      "WHERE `pit_rank_hopsworks` = 1) (SELECT `right_fg0`.`open` `open`, `right_fg0`.`high` `high`, `right_fg0`.`low` `low`, `right_fg0`.`close` `close`, `right_fg0`.`volume` `volume`, `right_fg0`.`quote_av` `quote_av`, `right_fg0`.`trades` `trades`, `right_fg0`.`tb_base_av` `tb_base_av`, `right_fg0`.`tb_quote_av` `tb_quote_av`, `right_fg0`.`mean_7_days` `mean_7_days`, `right_fg0`.`mean_14_days` `mean_14_days`, `right_fg0`.`mean_56_days` `mean_56_days`, `right_fg0`.`signal` `signal`, `right_fg0`.`std_7_days` `std_7_days`, `right_fg0`.`exp_mean_7_days` `exp_mean_7_days`, `right_fg0`.`exp_std_7_days` `exp_std_7_days`, `right_fg0`.`momentum_7_days` `momentum_7_days`, `right_fg0`.`rate_of_change_7_days` `rate_of_change_7_days`, `right_fg0`.`strength_index_7_days` `strength_index_7_days`, `right_fg0`.`std_14_days` `std_14_days`, `right_fg0`.`exp_mean_14_days` `exp_mean_14_days`, `right_fg0`.`exp_std_14_days` `exp_std_14_days`, `right_fg0`.`momentum_14_days` `momentum_14_days`, `right_fg0`.`rate_of_change_14_days` `rate_of_change_14_days`, `right_fg0`.`strength_index_14_days` `strength_index_14_days`, `right_fg0`.`std_56_days` `std_56_days`, `right_fg0`.`exp_mean_56_days` `exp_mean_56_days`, `right_fg0`.`exp_std_56_days` `exp_std_56_days`, `right_fg0`.`momentum_56_days` `momentum_56_days`, `right_fg0`.`rate_of_change_56_days` `rate_of_change_56_days`, `right_fg0`.`strength_index_56_days` `strength_index_56_days`, `right_fg0`.`subjectivity` `subjectivity`, `right_fg0`.`polarity` `polarity`, `right_fg1`.`compound` `compound`\n",
      "FROM right_fg0\n",
      "INNER JOIN right_fg1 ON `right_fg0`.`join_pk_unix` = `right_fg1`.`join_pk_unix` AND `right_fg0`.`join_evt_unix` = `right_fg1`.`join_evt_unix`)\n"
     ]
    },
    {
     "data": {
      "text/html": [
       "<div>\n",
       "<style scoped>\n",
       "    .dataframe tbody tr th:only-of-type {\n",
       "        vertical-align: middle;\n",
       "    }\n",
       "\n",
       "    .dataframe tbody tr th {\n",
       "        vertical-align: top;\n",
       "    }\n",
       "\n",
       "    .dataframe thead th {\n",
       "        text-align: right;\n",
       "    }\n",
       "</style>\n",
       "<table border=\"1\" class=\"dataframe\">\n",
       "  <thead>\n",
       "    <tr style=\"text-align: right;\">\n",
       "      <th></th>\n",
       "      <th>open</th>\n",
       "      <th>high</th>\n",
       "      <th>low</th>\n",
       "      <th>close</th>\n",
       "      <th>volume</th>\n",
       "      <th>quote_av</th>\n",
       "      <th>trades</th>\n",
       "      <th>tb_base_av</th>\n",
       "      <th>tb_quote_av</th>\n",
       "      <th>mean_7_days</th>\n",
       "      <th>...</th>\n",
       "      <th>strength_index_14_days</th>\n",
       "      <th>std_56_days</th>\n",
       "      <th>exp_mean_56_days</th>\n",
       "      <th>exp_std_56_days</th>\n",
       "      <th>momentum_56_days</th>\n",
       "      <th>rate_of_change_56_days</th>\n",
       "      <th>strength_index_56_days</th>\n",
       "      <th>subjectivity</th>\n",
       "      <th>polarity</th>\n",
       "      <th>compound</th>\n",
       "    </tr>\n",
       "  </thead>\n",
       "  <tbody>\n",
       "    <tr>\n",
       "      <th>0</th>\n",
       "      <td>29700.21</td>\n",
       "      <td>29988.88</td>\n",
       "      <td>29485.00</td>\n",
       "      <td>29864.04</td>\n",
       "      <td>25617.90113</td>\n",
       "      <td>7.608743e+08</td>\n",
       "      <td>618037</td>\n",
       "      <td>12971.72460</td>\n",
       "      <td>3.853582e+08</td>\n",
       "      <td>30403.722857</td>\n",
       "      <td>...</td>\n",
       "      <td>44.412343</td>\n",
       "      <td>4925.337066</td>\n",
       "      <td>33825.670351</td>\n",
       "      <td>5514.223362</td>\n",
       "      <td>-12889.93</td>\n",
       "      <td>-29.163058</td>\n",
       "      <td>43.222349</td>\n",
       "      <td>2147.097309</td>\n",
       "      <td>1169.112676</td>\n",
       "      <td>1437.8100</td>\n",
       "    </tr>\n",
       "    <tr>\n",
       "      <th>1</th>\n",
       "      <td>29654.58</td>\n",
       "      <td>30223.74</td>\n",
       "      <td>29294.21</td>\n",
       "      <td>29542.15</td>\n",
       "      <td>59537.38659</td>\n",
       "      <td>1.771708e+09</td>\n",
       "      <td>985440</td>\n",
       "      <td>28846.96589</td>\n",
       "      <td>8.585873e+08</td>\n",
       "      <td>29652.160000</td>\n",
       "      <td>...</td>\n",
       "      <td>39.077705</td>\n",
       "      <td>5642.588236</td>\n",
       "      <td>35465.943895</td>\n",
       "      <td>5822.881326</td>\n",
       "      <td>-17525.84</td>\n",
       "      <td>-35.086949</td>\n",
       "      <td>41.959219</td>\n",
       "      <td>4316.993556</td>\n",
       "      <td>1565.416369</td>\n",
       "      <td>2280.2427</td>\n",
       "    </tr>\n",
       "    <tr>\n",
       "      <th>2</th>\n",
       "      <td>29445.07</td>\n",
       "      <td>30487.99</td>\n",
       "      <td>29255.11</td>\n",
       "      <td>30293.94</td>\n",
       "      <td>36158.98748</td>\n",
       "      <td>1.082531e+09</td>\n",
       "      <td>862880</td>\n",
       "      <td>18538.10071</td>\n",
       "      <td>5.550442e+08</td>\n",
       "      <td>29756.214286</td>\n",
       "      <td>...</td>\n",
       "      <td>40.191047</td>\n",
       "      <td>5729.799991</td>\n",
       "      <td>36147.468601</td>\n",
       "      <td>5751.567999</td>\n",
       "      <td>-16533.82</td>\n",
       "      <td>-35.711971</td>\n",
       "      <td>42.346685</td>\n",
       "      <td>7015.494220</td>\n",
       "      <td>3411.991247</td>\n",
       "      <td>4862.2767</td>\n",
       "    </tr>\n",
       "    <tr>\n",
       "      <th>3</th>\n",
       "      <td>29201.01</td>\n",
       "      <td>29656.18</td>\n",
       "      <td>28947.28</td>\n",
       "      <td>29445.06</td>\n",
       "      <td>20987.13124</td>\n",
       "      <td>6.161947e+08</td>\n",
       "      <td>643486</td>\n",
       "      <td>10558.92886</td>\n",
       "      <td>3.100461e+08</td>\n",
       "      <td>29904.064286</td>\n",
       "      <td>...</td>\n",
       "      <td>36.628172</td>\n",
       "      <td>5736.496208</td>\n",
       "      <td>36360.324198</td>\n",
       "      <td>5741.839573</td>\n",
       "      <td>-15066.21</td>\n",
       "      <td>-37.120503</td>\n",
       "      <td>41.501958</td>\n",
       "      <td>0.000000</td>\n",
       "      <td>0.000000</td>\n",
       "      <td>0.0000</td>\n",
       "    </tr>\n",
       "    <tr>\n",
       "      <th>4</th>\n",
       "      <td>28715.33</td>\n",
       "      <td>30545.18</td>\n",
       "      <td>28691.38</td>\n",
       "      <td>30319.23</td>\n",
       "      <td>67877.36415</td>\n",
       "      <td>2.014360e+09</td>\n",
       "      <td>1860780</td>\n",
       "      <td>35339.65787</td>\n",
       "      <td>1.049163e+09</td>\n",
       "      <td>30008.024286</td>\n",
       "      <td>...</td>\n",
       "      <td>38.232795</td>\n",
       "      <td>5543.601532</td>\n",
       "      <td>36881.271228</td>\n",
       "      <td>5603.663532</td>\n",
       "      <td>-13672.23</td>\n",
       "      <td>-31.579626</td>\n",
       "      <td>42.044964</td>\n",
       "      <td>0.000000</td>\n",
       "      <td>0.000000</td>\n",
       "      <td>0.0000</td>\n",
       "    </tr>\n",
       "  </tbody>\n",
       "</table>\n",
       "<p>5 rows × 34 columns</p>\n",
       "</div>"
      ],
      "text/plain": [
       "       open      high       low     close       volume      quote_av   trades  \\\n",
       "0  29700.21  29988.88  29485.00  29864.04  25617.90113  7.608743e+08   618037   \n",
       "1  29654.58  30223.74  29294.21  29542.15  59537.38659  1.771708e+09   985440   \n",
       "2  29445.07  30487.99  29255.11  30293.94  36158.98748  1.082531e+09   862880   \n",
       "3  29201.01  29656.18  28947.28  29445.06  20987.13124  6.161947e+08   643486   \n",
       "4  28715.33  30545.18  28691.38  30319.23  67877.36415  2.014360e+09  1860780   \n",
       "\n",
       "    tb_base_av   tb_quote_av   mean_7_days  ...  strength_index_14_days  \\\n",
       "0  12971.72460  3.853582e+08  30403.722857  ...               44.412343   \n",
       "1  28846.96589  8.585873e+08  29652.160000  ...               39.077705   \n",
       "2  18538.10071  5.550442e+08  29756.214286  ...               40.191047   \n",
       "3  10558.92886  3.100461e+08  29904.064286  ...               36.628172   \n",
       "4  35339.65787  1.049163e+09  30008.024286  ...               38.232795   \n",
       "\n",
       "   std_56_days  exp_mean_56_days  exp_std_56_days  momentum_56_days  \\\n",
       "0  4925.337066      33825.670351      5514.223362         -12889.93   \n",
       "1  5642.588236      35465.943895      5822.881326         -17525.84   \n",
       "2  5729.799991      36147.468601      5751.567999         -16533.82   \n",
       "3  5736.496208      36360.324198      5741.839573         -15066.21   \n",
       "4  5543.601532      36881.271228      5603.663532         -13672.23   \n",
       "\n",
       "   rate_of_change_56_days  strength_index_56_days  subjectivity     polarity  \\\n",
       "0              -29.163058               43.222349   2147.097309  1169.112676   \n",
       "1              -35.086949               41.959219   4316.993556  1565.416369   \n",
       "2              -35.711971               42.346685   7015.494220  3411.991247   \n",
       "3              -37.120503               41.501958      0.000000     0.000000   \n",
       "4              -31.579626               42.044964      0.000000     0.000000   \n",
       "\n",
       "    compound  \n",
       "0  1437.8100  \n",
       "1  2280.2427  \n",
       "2  4862.2767  \n",
       "3     0.0000  \n",
       "4     0.0000  \n",
       "\n",
       "[5 rows x 34 columns]"
      ]
     },
     "execution_count": 7,
     "metadata": {},
     "output_type": "execute_result"
    }
   ],
   "source": [
    "# Query Preparation\n",
    "fg_query = btc_price_fg.select_except([\"date\",\"unix\"]).join(tweets_textblob_fg.select([\"subjectivity\",\"polarity\"])).join(tweets_vader_fg.select(\"compound\"))\n",
    "fg_query.show(5)"
   ]
  },
  {
   "cell_type": "code",
   "execution_count": 9,
   "id": "643f6ed6",
   "metadata": {},
   "outputs": [],
   "source": [
    "# Load the transformation functions.\n",
    "min_max_scaler = fs.get_transformation_function(name=\"min_max_scaler\")\n",
    "\n",
    "# Map features to transformation functions.\n",
    "transformation_functions = {\n",
    "    'open': min_max_scaler, \n",
    "    'high': min_max_scaler, \n",
    "    'low': min_max_scaler, \n",
    "    'close': min_max_scaler,\n",
    "    'volume': min_max_scaler, \n",
    "    'quote_av': min_max_scaler, \n",
    "    'trades': min_max_scaler,\n",
    "    'tb_base_av': min_max_scaler, \n",
    "    'tb_quote_av': min_max_scaler, \n",
    "    'mean_7_days': min_max_scaler, \n",
    "    'mean_14_days': min_max_scaler,\n",
    "    'mean_56_days': min_max_scaler, \n",
    "    'signal': min_max_scaler, \n",
    "    'std_7_days': min_max_scaler, \n",
    "    'exp_mean_7_days': min_max_scaler,\n",
    "    'exp_std_7_days': min_max_scaler, \n",
    "    'momentum_7_days': min_max_scaler,\n",
    "    'rate_of_change_7_days': min_max_scaler,\n",
    "    'strength_index_7_days': min_max_scaler, \n",
    "    'std_14_days': min_max_scaler, \n",
    "    'exp_mean_14_days': min_max_scaler,\n",
    "    'exp_std_14_days': min_max_scaler, \n",
    "    'momentum_14_days': min_max_scaler, \n",
    "    'rate_of_change_14_days': min_max_scaler,\n",
    "    'strength_index_14_days': min_max_scaler, \n",
    "    'std_56_days': min_max_scaler, \n",
    "    'exp_mean_56_days': min_max_scaler,\n",
    "    'exp_std_56_days': min_max_scaler, \n",
    "    'momentum_56_days': min_max_scaler, \n",
    "    'rate_of_change_56_days': min_max_scaler,\n",
    "    'strength_index_56_days': min_max_scaler, \n",
    "    'subjectivity': min_max_scaler, \n",
    "    'polarity': min_max_scaler, \n",
    "    'compound': min_max_scaler,                           \n",
    "}"
   ]
  },
  {
   "cell_type": "code",
   "execution_count": 10,
   "id": "11f3df53",
   "metadata": {},
   "outputs": [
    {
     "name": "stdout",
     "output_type": "stream",
     "text": [
      "Feature view created successfully, explore it at \n",
      "https://c.app.hopsworks.ai:443/p/167/fs/109/fv/bitcoin_feature_view/version/1\n"
     ]
    }
   ],
   "source": [
    "feature_view = fs.create_feature_view(\n",
    "    name='bitcoin_feature_view',\n",
    "    version=1,\n",
    "    transformation_functions=transformation_functions,\n",
    "    query=fg_query\n",
    ")"
   ]
  },
  {
   "cell_type": "markdown",
   "id": "0819a2f7",
   "metadata": {},
   "source": [
    "---\n",
    "\n",
    "## <span style=\"color:#ff5f27;\"> 🏋️ Training Dataset Creation</span>\n",
    "---\n",
    "\n",
    "### <span style=\"color:#ff5f27;\">🪓 TimeSeriesSplit</span>"
   ]
  },
  {
   "cell_type": "code",
   "execution_count": 11,
   "id": "db001d18",
   "metadata": {},
   "outputs": [],
   "source": [
    "from datetime import datetime\n",
    "date_format = \"%Y-%m-%d %H:%M:%S\""
   ]
  },
  {
   "cell_type": "code",
   "execution_count": 14,
   "id": "f88a827b",
   "metadata": {},
   "outputs": [
    {
     "name": "stdout",
     "output_type": "stream",
     "text": [
      "Training dataset job started successfully, you can follow the progress at \n",
      "https://c.app.hopsworks.ai/p/167/jobs/named/bitcoin_feature_view_1_1_create_fv_td_28092022140508/executions\n"
     ]
    },
    {
     "name": "stderr",
     "output_type": "stream",
     "text": [
      "VersionWarning: Incremented version to `1`.\n"
     ]
    }
   ],
   "source": [
    "# Create training datasets based event time filter\n",
    "start_time = int(float(datetime.strptime(\"2021-02-05 10:00:00\", date_format).timestamp()) * 1000)\n",
    "end_time = int(float(datetime.strptime(\"2022-01-01 23:59:59\", date_format).timestamp()) * 1000)\n",
    "\n",
    "\n",
    "td_train_version, td_job = feature_view.create_training_data(\n",
    "        start_time = start_time,\n",
    "        end_time = end_time,    \n",
    "        description = 'transactions fraud online training dataset jan/feb',\n",
    "        data_format = \"csv\",\n",
    "        coalesce = True,\n",
    "        write_options = {'wait_for_job': True},\n",
    "    )"
   ]
  },
  {
   "cell_type": "code",
   "execution_count": 15,
   "id": "78331cf1",
   "metadata": {},
   "outputs": [
    {
     "name": "stdout",
     "output_type": "stream",
     "text": [
      "Training dataset job started successfully, you can follow the progress at \n",
      "https://c.app.hopsworks.ai/p/167/jobs/named/bitcoin_feature_view_1_2_create_fv_td_28092022140638/executions\n"
     ]
    },
    {
     "name": "stderr",
     "output_type": "stream",
     "text": [
      "VersionWarning: Incremented version to `2`.\n"
     ]
    }
   ],
   "source": [
    "# Create training datasets based event time filter\n",
    "start_time = int(float(datetime.strptime(\"2022-01-02 00:00:00\", date_format).timestamp()) * 1000)\n",
    "end_time = int(float(datetime.strptime(\"2022-04-30 23:59:59\", date_format).timestamp()) * 1000)\n",
    "\n",
    "td_validation_version, td_job = feature_view.create_training_data(\n",
    "        start_time = start_time,\n",
    "        end_time = end_time,    \n",
    "        description = 'transactions fraud online training dataset jan/feb',\n",
    "        data_format = \"csv\",\n",
    "        coalesce = True,\n",
    "        write_options = {'wait_for_job': True},\n",
    "    )"
   ]
  },
  {
   "cell_type": "code",
   "execution_count": 16,
   "id": "72a9a520",
   "metadata": {},
   "outputs": [
    {
     "name": "stdout",
     "output_type": "stream",
     "text": [
      "Training dataset job started successfully, you can follow the progress at \n",
      "https://c.app.hopsworks.ai/p/167/jobs/named/bitcoin_feature_view_1_3_create_fv_td_28092022140803/executions\n"
     ]
    },
    {
     "name": "stderr",
     "output_type": "stream",
     "text": [
      "VersionWarning: Incremented version to `3`.\n"
     ]
    }
   ],
   "source": [
    "# Create training datasets based event time filter\n",
    "start_time = int(float(datetime.strptime(\"2022-05-01 00:00:00\", date_format).timestamp()) * 1000)\n",
    "end_time = int(float(datetime.strptime(\"2022-06-04 23:59:59\", date_format).timestamp()) * 1000)\n",
    "\n",
    "td_test_version, td_job = feature_view.create_training_data(\n",
    "        start_time = start_time,\n",
    "        end_time = end_time,    \n",
    "        description = 'transactions fraud online training dataset jan/feb',\n",
    "        data_format = \"csv\",\n",
    "        coalesce = True,\n",
    "        write_options = {'wait_for_job': True},\n",
    "    )"
   ]
  },
  {
   "cell_type": "markdown",
   "id": "715e71af",
   "metadata": {},
   "source": [
    "---"
   ]
  }
 ],
 "metadata": {
  "kernelspec": {
   "display_name": "Python 3 (ipykernel)",
   "language": "python",
   "name": "python3"
  },
  "language_info": {
   "codemirror_mode": {
    "name": "ipython",
    "version": 3
   },
   "file_extension": ".py",
   "mimetype": "text/x-python",
   "name": "python",
   "nbconvert_exporter": "python",
   "pygments_lexer": "ipython3",
   "version": "3.9.12"
  }
 },
 "nbformat": 4,
 "nbformat_minor": 5
}
