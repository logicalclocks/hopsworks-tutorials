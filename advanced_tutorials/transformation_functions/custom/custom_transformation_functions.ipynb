{
 "cells": [
  {
   "cell_type": "markdown",
   "id": "d6fb35cf",
   "metadata": {},
   "source": [
    "# <span style=\"color:#ff5f27\"> 👨🏻‍🏫 Custom Transformation Functions</span>\n",
    "\n",
    "In this tutorial you will learn how to **register custom transformation functions in hopsworks feature store** and use them in **training and inference pipelines**."
   ]
  },
  {
   "cell_type": "markdown",
   "id": "a19fd127",
   "metadata": {},
   "source": [
    "## <span style=\"color:#ff5f27\">🗄️ Table of Contents</span>\n",
    "- [📝 Imports](#1)\n",
    "- [⛳️ Feature Pipeline](#t1)\n",
    "    - [💽 Loading Data](#2)\n",
    "    - [🔮 Connecting to Hopsworks Feature Store](#3)\n",
    "    - [🪄 Creating Feature Groups](#4)\n",
    "- [⛳️ Training Pipeline](#t2)\n",
    "    - [👩🏻‍🔬 Custom Transformation Functions](#12)\n",
    "    - [✍🏻 Registering Custom Transformation Functions in Hopsworks](#5)\n",
    "    - [🖍 Feature View Creation](#6)\n",
    "    - [🧬 Modeling](#7)\n",
    "    - [💾 Saving the Model in the Model Registry](#8)\n",
    "- [⛳️ Inference Pipeline](#t3)\n",
    "    - [📮 Retrieving the Model from the Model Registry](#9)\n",
    "    - [👨🏻‍⚖️ Batch Prediction](#10)\n",
    "    - [👨🏻‍⚖️ Real-time Predictions](#11)"
   ]
  },
  {
   "cell_type": "markdown",
   "id": "3cc6a7e9",
   "metadata": {},
   "source": [
    "<a name='1'></a>\n",
    "## <span style='color:#ff5f27'> 📝 Imports </span>"
   ]
  },
  {
   "cell_type": "code",
   "execution_count": null,
   "id": "22c08e9f",
   "metadata": {},
   "outputs": [],
   "source": [
    "# Importing necessary libraries\n",
    "import pandas as pd                         # For data manipulation and analysis using DataFrames\n",
    "import numpy as np                          # For numerical computations and arrays\n",
    "import os                                   # For operating system-related functions\n",
    "import joblib                               # For saving and loading model files\n",
    "\n",
    "import xgboost as xgb                       # For using the XGBoost machine learning library\n",
    "from sklearn.metrics import accuracy_score  # For evaluating model accuracy"
   ]
  },
  {
   "cell_type": "markdown",
   "id": "97bc8784",
   "metadata": {},
   "source": [
    "---\n",
    "<a name='t1'></a>\n",
    "# <span style=\"color:#ff5f27;\">⛳️ Feature Pipeline </span>\n",
    "\n",
    "In this section you will load data, create a Hopsworks feature group and insert your dataset into created feature group."
   ]
  },
  {
   "cell_type": "markdown",
   "id": "4562f488",
   "metadata": {},
   "source": [
    "<a name='2'></a>\n",
    "## <span style=\"color:#ff5f27;\"> 💽 Loading Data </span>\n",
    "\n",
    "To begin with, let's load a dataset which contains air quality measurements for different  cities from 2013-01-01 to 2023-04-11."
   ]
  },
  {
   "cell_type": "code",
   "execution_count": null,
   "id": "1cfebd42",
   "metadata": {},
   "outputs": [],
   "source": [
    "# Load the data\n",
    "df_original = pd.read_csv(\"https://repo.hops.works/dev/davit/air_quality/backfill_pm2_5_eu.csv\")\n",
    "df_original.head(3)"
   ]
  },
  {
   "cell_type": "markdown",
   "id": "031974ca",
   "metadata": {},
   "source": [
    "Now let's add a target variable to the DataFrame. For simplicity and for demonstration purposes you will randomly assign either a 0 or a 1 to each row."
   ]
  },
  {
   "cell_type": "code",
   "execution_count": null,
   "id": "411520b2",
   "metadata": {},
   "outputs": [],
   "source": [
    "# Generate a binary target column\n",
    "df_original['target'] = np.random.choice(\n",
    "    [0, 1], \n",
    "    size=len(df_original),\n",
    ")\n",
    "df_original.head(3)"
   ]
  },
  {
   "cell_type": "markdown",
   "id": "b2f4b822",
   "metadata": {},
   "source": [
    "<a name='3'></a>\n",
    "## <span style=\"color:#ff5f27;\"> 🔮 Connecting to Hopsworks Feature Store </span>\n",
    "\n",
    "The next step is to login to the Hopsworks platform. "
   ]
  },
  {
   "cell_type": "code",
   "execution_count": null,
   "id": "49800275",
   "metadata": {},
   "outputs": [],
   "source": [
    "import hopsworks\n",
    "\n",
    "project = hopsworks.login()\n",
    "\n",
    "fs = project.get_feature_store() "
   ]
  },
  {
   "cell_type": "markdown",
   "id": "60c9e83b",
   "metadata": {},
   "source": [
    "<a name='4'></a>\n",
    "## <span style=\"color:#ff5f27;\">🪄 Creating Feature Groups</span>\n",
    "\n",
    "Now you need to create a Feature Group and insert your dataset.\n",
    "\n",
    "You will use `.get_or_create_feature_group()` method of the feature store object.\n",
    "\n",
    "You can read about **Feature Groups** [here](https://docs.hopsworks.ai/3.2/concepts/fs/feature_group/fg_overview/)."
   ]
  },
  {
   "cell_type": "code",
   "execution_count": null,
   "id": "d6e5c898",
   "metadata": {},
   "outputs": [],
   "source": [
    "feature_group = fs.get_or_create_feature_group(\n",
    "    name='feature_group_online',\n",
    "    description='Online Feature Group',\n",
    "    version=1,\n",
    "    primary_key=['city_name', 'date'],\n",
    "    online_enabled=True,\n",
    ")    \n",
    "feature_group.insert(df_original)"
   ]
  },
  {
   "cell_type": "markdown",
   "id": "eca75c35",
   "metadata": {},
   "source": [
    "---\n",
    "<a name='t2'></a>\n",
    "# <span style=\"color:#ff5f27;\">⛳️ Training Pipeline </span>\n",
    "\n",
    "In the **Training Pipeline** you will register custom transformation functions in the Hopsworks Feature Store, apply them to specific columns in the feature view, split dataset into train and test and train the XGBClassifier. Then you will register your trained model in the Hopsworks Model Registry."
   ]
  },
  {
   "cell_type": "markdown",
   "id": "06b8350d",
   "metadata": {},
   "source": [
    "<a name='12'></a>\n",
    "## <span style=\"color:#ff5f27;\">👩🏻‍🔬 Custom Transformation Functions</span>\n",
    "\n",
    "In the `transformations.py` file you can find the custom `encode_city_name` and `scale_pm2_5` transformation functions which will be registered in the Hopsworks Feature Store and then attached to feature view during feature view creation for further data transformation.\n",
    "\n",
    "Let's import them and see how they work."
   ]
  },
  {
   "cell_type": "markdown",
   "id": "7c66cd33",
   "metadata": {},
   "source": [
    "If your code is running internally within Hopsworks, to register custom transformation functions in the feature store they need to be either part of the library installed in Hopsworks or attached when starting a Jupyter notebook or Hopsworks job.\n",
    "\n",
    "Uncomment the next cell to download `transformations` file with custom transformation functions."
   ]
  },
  {
   "cell_type": "code",
   "execution_count": null,
   "id": "a3dc2540",
   "metadata": {},
   "outputs": [],
   "source": [
    "#!wget https://raw.githubusercontent.com/logicalclocks/hopsworks-tutorials/master/advanced_tutorials/transformation_functions/custom/transformations.py"
   ]
  },
  {
   "cell_type": "code",
   "execution_count": null,
   "id": "1dbb42d0",
   "metadata": {},
   "outputs": [],
   "source": [
    "from transformations import encode_city_name, scale_pm2_5"
   ]
  },
  {
   "cell_type": "code",
   "execution_count": null,
   "id": "52881e65",
   "metadata": {},
   "outputs": [],
   "source": [
    "city_name = 'Madrid'\n",
    "encoded_city_name = encode_city_name(city_name)\n",
    "print(\"⛳️ Encoded City Name:\", encoded_city_name)"
   ]
  },
  {
   "cell_type": "code",
   "execution_count": null,
   "id": "dd0bf161",
   "metadata": {},
   "outputs": [],
   "source": [
    "pm2_5_value = 13.0\n",
    "scaled_pm2_5 = scale_pm2_5(pm2_5_value)\n",
    "print(\"⛳️ Scaled PM2.5 Value:\", scaled_pm2_5)"
   ]
  },
  {
   "cell_type": "markdown",
   "id": "679112d9",
   "metadata": {},
   "source": [
    "<a name='5'></a>\n",
    "## <span style=\"color:#ff5f27;\"> ✍🏻 Registering Custom Transformation Functions in Hopsworks</span>\n",
    "\n",
    "The next step is to **register custom transformation functions** in Hopsworks Feature Store.\n",
    "\n",
    "You can check existing transformation functions in feature store using the `.get_transformation_functions()` method."
   ]
  },
  {
   "cell_type": "code",
   "execution_count": null,
   "id": "23d9adb7",
   "metadata": {},
   "outputs": [],
   "source": [
    "# Check existing transformation functions\n",
    "fns = [\n",
    "    fn.name \n",
    "    for fn \n",
    "    in fs.get_transformation_functions()\n",
    "]\n",
    "fns"
   ]
  },
  {
   "cell_type": "markdown",
   "id": "f1ffb06c",
   "metadata": {},
   "source": [
    "You can register your transformation function using the `.create_transformation_function()` method with the next parameters:\n",
    "\n",
    "- `transformation_function` - your custom transformation function.\n",
    "\n",
    "- `output_type` - python or numpy output type that will be inferred as pyspark.sql.types type.\n",
    "\n",
    "- `version` - version of your custom transformation function.\n",
    "\n",
    "Then don't forget to use the `.save()` method in order to persist transformation function in the backend."
   ]
  },
  {
   "cell_type": "code",
   "execution_count": null,
   "id": "f187f4f5",
   "metadata": {},
   "outputs": [],
   "source": [
    "# Register encode_city_name in Hopsworks\n",
    "if \"encode_city_name\" not in fns:\n",
    "    encoder = fs.create_transformation_function(\n",
    "        encode_city_name, \n",
    "        output_type=int,\n",
    "        version=1,\n",
    "    )\n",
    "    encoder.save()\n",
    "    \n",
    "# Register scale_pm2_5 in Hopsworks\n",
    "if \"scale_pm2_5\" not in fns:\n",
    "    scaler = fs.create_transformation_function(\n",
    "        scale_pm2_5, \n",
    "        output_type=float,\n",
    "        version=1,\n",
    "    )\n",
    "    scaler.save()"
   ]
  },
  {
   "cell_type": "markdown",
   "id": "d229ab74",
   "metadata": {},
   "source": [
    "Now let's check if your custom transformation functions are present in the feature store."
   ]
  },
  {
   "cell_type": "code",
   "execution_count": null,
   "id": "115f5ebc",
   "metadata": {},
   "outputs": [],
   "source": [
    "# Check it your transformation functions are present in the feature store\n",
    "fns = [\n",
    "    fn.name \n",
    "    for fn \n",
    "    in fs.get_transformation_functions()\n",
    "]\n",
    "fns"
   ]
  },
  {
   "cell_type": "markdown",
   "id": "a6b8cf14",
   "metadata": {},
   "source": [
    "<a name='6'></a>\n",
    "## <span style=\"color:#ff5f27;\"> 🖍 Feature View Creation</span>\n",
    "\n",
    "In this part you will retrieve your custom transformation functions from the feature store, build a Query object and create a feature view.\n",
    "\n",
    "To retrieve your custom transformation function you need to use the `.get_transformation_function()` method by specifying the **name** and **version**."
   ]
  },
  {
   "cell_type": "code",
   "execution_count": null,
   "id": "cd0a0c45",
   "metadata": {},
   "outputs": [],
   "source": [
    "# Retrieve encode_city_name transformation function\n",
    "encoder = fs.get_transformation_function(\n",
    "    name=\"encode_city_name\",\n",
    "    version=1,\n",
    ")\n",
    "\n",
    "# Retrieve scale_pm2_5 transformation function\n",
    "scaler = fs.get_transformation_function(\n",
    "    name=\"scale_pm2_5\",\n",
    "    version=1,\n",
    ")"
   ]
  },
  {
   "cell_type": "markdown",
   "id": "54875b4a",
   "metadata": {},
   "source": [
    "In Hopsworks Feature Store, a Query object allows you to select specific features from a feature group.\n",
    "\n",
    "`feature_group.select_except(['date'])` selects all columns from the feature group except for the 'date' column."
   ]
  },
  {
   "cell_type": "code",
   "execution_count": null,
   "id": "596fa8e0",
   "metadata": {},
   "outputs": [],
   "source": [
    "# Select features for training data\n",
    "selected_features = feature_group.select_except(['date'])\n",
    "\n",
    "# Uncomment this if you would like to view your selected features\n",
    "# selected_features.show(5)"
   ]
  },
  {
   "cell_type": "markdown",
   "id": "83db5e88",
   "metadata": {},
   "source": [
    "After creating the Query object, you will create a feature view.\n",
    "\n",
    "A feature view is a logical representation of data which can be used for real-time serving or batch processing. \n",
    "\n",
    "You can read more about **Feature Views** [here](https://docs.hopsworks.ai/3.2/concepts/fs/feature_view/fv_overview/)."
   ]
  },
  {
   "cell_type": "code",
   "execution_count": null,
   "id": "26622c9c",
   "metadata": {},
   "outputs": [],
   "source": [
    "# Get or create a feature view\n",
    "feature_view = fs.get_or_create_feature_view(\n",
    "    name='serving_fv',\n",
    "    version=1,\n",
    "    query=selected_features,\n",
    "    # Apply your custom transformation functions to necessary columns\n",
    "    transformation_functions={\n",
    "        \"city_name\": encoder,\n",
    "        \"pm2_5\": scaler,\n",
    "    },\n",
    "    labels=['target'],\n",
    ")"
   ]
  },
  {
   "cell_type": "markdown",
   "id": "ccd708ba",
   "metadata": {},
   "source": [
    "## <span style=\"color:#ff5f27;\"> 🏋️ Training Dataset Creation</span>\n",
    "The next step is to create the train-test split of your data.\n",
    "\n",
    "Let's clarify the next parameters of the `.train_test_split()` method:\n",
    "\n",
    "- test_size=0.1: This parameter specifies the size of the test set relative to the entire dataset. In this case, the test set will contain 10% of the data, and the train set will have the remaining 90%.\n",
    "\n",
    "- description='Description of the dataset': A brief description provided for the train-test split dataset, explaining its purpose or any other relevant information."
   ]
  },
  {
   "cell_type": "code",
   "execution_count": null,
   "id": "53b26f67",
   "metadata": {},
   "outputs": [],
   "source": [
    "# Create a train-test split dataset\n",
    "X_train, X_test, y_train, y_test = feature_view.train_test_split(\n",
    "    test_size=0.1,\n",
    "    description='Description of the dataset',\n",
    ")"
   ]
  },
  {
   "cell_type": "code",
   "execution_count": null,
   "id": "30503127",
   "metadata": {},
   "outputs": [],
   "source": [
    "X_train.head(3)"
   ]
  },
  {
   "cell_type": "code",
   "execution_count": null,
   "id": "92db837f",
   "metadata": {},
   "outputs": [],
   "source": [
    "y_train.head(3)"
   ]
  },
  {
   "cell_type": "markdown",
   "id": "248bc5d1",
   "metadata": {},
   "source": [
    "<a name='7'></a>\n",
    "## <span style=\"color:#ff5f27;\">🧬 Modeling</span>\n",
    "\n",
    "As a machine learning algorithm you will use the XGBClassifier.\n",
    "\n",
    "Let's initialize it, fit on train data and then evaluate using Accuracy Score."
   ]
  },
  {
   "cell_type": "code",
   "execution_count": null,
   "id": "9f1346a0",
   "metadata": {},
   "outputs": [],
   "source": [
    "# Initialize XGBClassifier\n",
    "xgb_classifier = xgb.XGBClassifier()\n",
    "\n",
    "# Fit the classifier\n",
    "xgb_classifier.fit(X_train, y_train)\n",
    "\n",
    "# Evaluate the model\n",
    "y_pred = xgb_classifier.predict(X_test)\n",
    "accuracy = accuracy_score(y_test, y_pred)\n",
    "print(\"👮🏻‍♂️ Accuracy:\", accuracy)"
   ]
  },
  {
   "cell_type": "markdown",
   "id": "b230ca05",
   "metadata": {},
   "source": [
    "## <span style=\"color:#ff5f27;\">🗄 Model Registry</span>\n",
    "\n",
    "In Hopsworks, the Model Registry is a crucial component used to manage and version machine learning models. It acts as a centralized repository where trained models can be stored, tracked, and shared among team members.\n",
    "\n",
    "By calling `project.get_model_registry()`, the code retrieves a reference to the Model Registry associated with the current Hopsworks project. This reference allows the user to interact with the Model Registry and perform operations such as registering, versioning, and accessing trained machine learning models.\n",
    "With the Model Registry, data scientists and machine learning engineers can effectively collaborate, track model changes, and easily deploy the best-performing models to production environments."
   ]
  },
  {
   "cell_type": "code",
   "execution_count": null,
   "id": "67616e13",
   "metadata": {},
   "outputs": [],
   "source": [
    "mr = project.get_model_registry()"
   ]
  },
  {
   "cell_type": "markdown",
   "id": "f50bed8a",
   "metadata": {},
   "source": [
    "### <span style=\"color:#ff5f27;\">⚙️ Model Schema</span>\n",
    "\n",
    "The next step is to **define input and output schema** of a machine learning model."
   ]
  },
  {
   "cell_type": "code",
   "execution_count": null,
   "id": "8f9569dc",
   "metadata": {},
   "outputs": [],
   "source": [
    "from hsml.schema import Schema\n",
    "from hsml.model_schema import ModelSchema\n",
    "\n",
    "input_schema = Schema(X_train.values)\n",
    "output_schema = Schema(y_train)\n",
    "model_schema = ModelSchema(\n",
    "    input_schema=input_schema,\n",
    "    output_schema=output_schema,\n",
    ")\n",
    "\n",
    "model_schema.to_dict()"
   ]
  },
  {
   "cell_type": "markdown",
   "id": "8de1abf1",
   "metadata": {},
   "source": [
    "<a name='8'></a>\n",
    "### <span style=\"color:#ff5f27;\">💾 Saving the Model</span>\n",
    "\n",
    "Now you are ready to register your model in the Hopsworks Moder Registry.\n",
    "\n",
    "To begin with, let's create the `xgb_model` model directory and save the trained model in this directory."
   ]
  },
  {
   "cell_type": "code",
   "execution_count": null,
   "id": "2f790036",
   "metadata": {},
   "outputs": [],
   "source": [
    "model_dir = \"xgb_model\"\n",
    "\n",
    "if os.path.isdir(model_dir) == False:\n",
    "    os.mkdir(model_dir)\n",
    "\n",
    "# Save the model\n",
    "xgb_classifier.save_model(model_dir + \"/model.json\")"
   ]
  },
  {
   "cell_type": "markdown",
   "id": "dfbba175",
   "metadata": {},
   "source": [
    "To register your model in the Hopsworks model registry you can use `.create_model()` method with the next parameters:\n",
    "\n",
    "- name=\"xgb_model\": The name of the model.\n",
    "\n",
    "- metrics={\"Accuracy\": accuracy}: The model's performance metrics are specified as a dictionary, with \"Accuracy\" as the key and the value being the accuracy score computed earlier in the code. This metric represents the accuracy of the model's predictions on the test data.\n",
    "\n",
    "- description=\"XGB model\": A brief description of the model.\n",
    "\n",
    "- input_example=X_train.sample(): An example input from the training data (X_train) is used to demonstrate the expected format of the model's input data. It is randomly sampled from X_train.\n",
    "\n",
    "- model_schema=model_schema: The model schema, which represents the data input and output structure of the model, is specified using the previously defined model_schema."
   ]
  },
  {
   "cell_type": "code",
   "execution_count": null,
   "id": "5adae94c",
   "metadata": {},
   "outputs": [],
   "source": [
    "# Create a model in the model registry\n",
    "model = mr.python.create_model(\n",
    "    name=\"xgb_model\",\n",
    "    metrics={\"Accuracy\": accuracy}, \n",
    "    description=\"XGB model\",\n",
    "    input_example=X_train.sample(),\n",
    "    model_schema=model_schema,\n",
    ")\n",
    "\n",
    "model.save(model_dir)"
   ]
  },
  {
   "cell_type": "markdown",
   "id": "9d416af2",
   "metadata": {},
   "source": [
    "---\n",
    "<a name='t3'></a>\n",
    "# <span style=\"color:#ff5f27;\">⛳️ Inference Pipeline </span>\n",
    "\n",
    "In the **Inference Pipeline** section, you will retrieve your model from Hopsworks Model Registry and utilize this model to make predictions on both Batch Data and Online Feature Vectors."
   ]
  },
  {
   "cell_type": "markdown",
   "id": "d8c45f8e",
   "metadata": {},
   "source": [
    "<a name='9'></a>\n",
    "## <span style=\"color:#ff5f27;\"> 📮 Retrieving the Model from Model Registry </span>\n",
    "\n",
    "To retrieve a previously registered machine learning model from the Hopsworks Model Registry you need to use the `.get_model()` method with the next parameters:\n",
    "\n",
    "- name=\"xgb_model\": The name of the model to be retrieved.\n",
    "\n",
    "- version=1: The version number of the model to be retrieved.\n",
    "\n",
    "Then you will download the model from the Model Registry."
   ]
  },
  {
   "cell_type": "code",
   "execution_count": null,
   "id": "42290763",
   "metadata": {},
   "outputs": [],
   "source": [
    "# Retrieve your model from the model registry\n",
    "retrieved_model = mr.get_model(\n",
    "    name=\"xgb_model\",\n",
    "    version=1,\n",
    ")\n",
    "saved_model_dir = retrieved_model.download()"
   ]
  },
  {
   "cell_type": "code",
   "execution_count": null,
   "id": "28d78f36",
   "metadata": {},
   "outputs": [],
   "source": [
    "# Initialize the model\n",
    "model = xgb.XGBClassifier()\n",
    "\n",
    "# Load the model from a saved JSON file\n",
    "model.load_model(saved_model_dir + \"/model.json\")\n",
    "model"
   ]
  },
  {
   "cell_type": "markdown",
   "id": "bf8d901d",
   "metadata": {},
   "source": [
    "<a name='10'></a>\n",
    "## <span style=\"color:#ff5f27;\"> 👨🏻‍⚖️ Batch Prediction </span>\n",
    "\n",
    "Batch prediction is a process in which a trained machine learning model is used to make predictions on a large set of data all at once."
   ]
  },
  {
   "cell_type": "markdown",
   "id": "9098714a",
   "metadata": {},
   "source": [
    "To retrieve batch data from the feature view you need to use `init_batch_scoring` method of the feature view object.\n",
    "\n",
    "`training_dataset_version` parameter specifies the version number of the training dataset that will be used for scoring.\n",
    "\n",
    "Then you can use the `.get_batch_data()` method to retrieve batch data."
   ]
  },
  {
   "cell_type": "code",
   "execution_count": null,
   "id": "b8be1550",
   "metadata": {},
   "outputs": [],
   "source": [
    "# Initialise feature view to retrieve batch data\n",
    "feature_view.init_batch_scoring(1)\n",
    "\n",
    "# Retrieve batch data\n",
    "batch_data = feature_view.get_batch_data()\n",
    "batch_data.head(3)"
   ]
  },
  {
   "cell_type": "markdown",
   "id": "1bcf497b",
   "metadata": {},
   "source": [
    "Now let's use retrieved model to predict batch data."
   ]
  },
  {
   "cell_type": "code",
   "execution_count": null,
   "id": "c930266d",
   "metadata": {},
   "outputs": [],
   "source": [
    "# Predict batch data using retrieved model\n",
    "predictions_batch = model.predict(batch_data)\n",
    "predictions_batch[:10]"
   ]
  },
  {
   "cell_type": "markdown",
   "id": "93db8b23",
   "metadata": {},
   "source": [
    "<a name='11'></a>\n",
    "## <span style=\"color:#ff5f27;\"> 👨🏻‍⚖️ Real-time Predictions</span>\n",
    "\n",
    "**Real-time Predictions** is a process of using a trained machine learning model to make predictions on feature vector(s) in real-time. \n",
    "\n",
    "To begin with, let's create `to_numpy` function which will transform a feature vector(s) list into a numpy array with a proper shape."
   ]
  },
  {
   "cell_type": "code",
   "execution_count": null,
   "id": "a52389de",
   "metadata": {},
   "outputs": [],
   "source": [
    "def to_numpy(feature_vector):\n",
    "    \"\"\"\n",
    "    Converts a given feature vector into a NumPy array with a shape of (-1, 2).\n",
    "\n",
    "    Parameters:\n",
    "    vector (list or array-like): The input vector to be converted.\n",
    "\n",
    "    Returns:\n",
    "    numpy.ndarray: A NumPy array with a shape of (-1, 2) containing the elements from the input vector.\n",
    "    \"\"\"\n",
    "    return np.array(feature_vector).reshape(-1,2)"
   ]
  },
  {
   "cell_type": "markdown",
   "id": "e50f54a7",
   "metadata": {},
   "source": [
    "The next step is to initialize the feature view for serving and then retrieve a feature vector with specified primary keys."
   ]
  },
  {
   "cell_type": "code",
   "execution_count": null,
   "id": "b8f9595f",
   "metadata": {},
   "outputs": [],
   "source": [
    "# Initialise feature view to retrieve feature vector\n",
    "feature_view.init_serving(1)\n",
    "\n",
    "# Retrieve a feature vector\n",
    "feature_vector = feature_view.get_feature_vector(\n",
    "    entry = {\n",
    "        \"city_name\": 'Amsterdam',\n",
    "        \"date\": '2013-01-01',\n",
    "    }\n",
    ")\n",
    "feature_vector"
   ]
  },
  {
   "cell_type": "markdown",
   "id": "9c659edd",
   "metadata": {},
   "source": [
    "Now you can use your model to predict the feature vector."
   ]
  },
  {
   "cell_type": "code",
   "execution_count": null,
   "id": "6b6aa6c1",
   "metadata": {},
   "outputs": [],
   "source": [
    "# Predict feature vector using retrieved model\n",
    "prediction_feature_vector = model.predict(to_numpy(feature_vector))\n",
    "prediction_feature_vector"
   ]
  },
  {
   "cell_type": "markdown",
   "id": "dd1e7328",
   "metadata": {},
   "source": [
    "In addition, you can retrieve several feature vectors. Just pass primary keys as a list of dictionaries."
   ]
  },
  {
   "cell_type": "code",
   "execution_count": null,
   "id": "c9d8fbc8",
   "metadata": {},
   "outputs": [],
   "source": [
    "# Retrieve feature vectors from feature store\n",
    "feature_vectors = feature_view.get_feature_vectors(\n",
    "    entry = [\n",
    "        {\"city_name\": 'Amsterdam', \"date\": '2013-01-01'},\n",
    "        {\"city_name\": 'Amsterdam', \"date\": '2014-01-01'},\n",
    "        {\"city_name\": 'Amsterdam', \"date\": '2015-01-01'},\n",
    "        {\"city_name\": 'Amsterdam', \"date\": '2016-01-01'},\n",
    "    ]\n",
    ")\n",
    "feature_vectors"
   ]
  },
  {
   "cell_type": "markdown",
   "id": "ccfce535",
   "metadata": {},
   "source": [
    "Now you can use your model to predict feature vectors."
   ]
  },
  {
   "cell_type": "code",
   "execution_count": null,
   "id": "8db998a2",
   "metadata": {},
   "outputs": [],
   "source": [
    "# Predict feature vectors using retrieved model\n",
    "prediction_feature_vectors = model.predict(to_numpy(feature_vectors))\n",
    "prediction_feature_vectors"
   ]
  },
  {
   "cell_type": "markdown",
   "id": "0c202c74",
   "metadata": {},
   "source": [
    "---"
   ]
  }
 ],
 "metadata": {
  "kernelspec": {
   "display_name": "Python 3",
   "language": "python",
   "name": "python3"
  },
  "language_info": {
   "codemirror_mode": {
    "name": "ipython",
    "version": 3
   },
   "file_extension": ".py",
   "mimetype": "text/x-python",
   "name": "python",
   "nbconvert_exporter": "python",
   "pygments_lexer": "ipython3",
   "version": "3.10.11"
  }
 },
 "nbformat": 4,
 "nbformat_minor": 5
}
