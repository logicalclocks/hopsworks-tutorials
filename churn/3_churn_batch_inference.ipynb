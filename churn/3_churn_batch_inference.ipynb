{
 "cells": [
  {
   "cell_type": "markdown",
   "id": "7ffd2cd9",
   "metadata": {},
   "source": [
    "# <span style=\"font-width:bold; font-size: 3rem; color:#1EB182;\"><img src=\"../images/icon102.png\" width=\"38px\"></img> **Hopsworks Feature Store** </span><span style=\"font-width:bold; font-size: 3rem; color:#333;\">- Part 03: Batch Inference</span>\n",
    "\n",
    "[![Open In Colab](https://colab.research.google.com/assets/colab-badge.svg)](https://colab.research.google.com/github/logicalclocks/hopsworks-tutorials/blob/master/churn/3_churn_batch_inference.ipynb)"
   ]
  },
  {
   "cell_type": "markdown",
   "id": "c0f756d8",
   "metadata": {},
   "source": [
    "### <span style='color:#ff5f27'> 📝 Imports"
   ]
  },
  {
   "cell_type": "code",
   "execution_count": null,
   "id": "a11d2b28",
   "metadata": {},
   "outputs": [],
   "source": [
    "import joblib\n",
    "from xgboost import plot_importance\n",
    "import matplotlib.pyplot as plt\n",
    "import seaborn as sns\n",
    "\n",
    "import warnings\n",
    "warnings.filterwarnings('ignore')"
   ]
  },
  {
   "cell_type": "markdown",
   "id": "21af1eec",
   "metadata": {},
   "source": [
    "## <span style=\"color:#ff5f27;\"> 📡 Connecting to Hopsworks Feature Store </span>"
   ]
  },
  {
   "cell_type": "code",
   "execution_count": null,
   "id": "61b5b046",
   "metadata": {},
   "outputs": [],
   "source": [
    "import hopsworks\n",
    "\n",
    "project = hopsworks.login()\n",
    "\n",
    "fs = project.get_feature_store()"
   ]
  },
  {
   "cell_type": "markdown",
   "id": "c0a0c398",
   "metadata": {},
   "source": [
    "## <span style=\"color:#ff5f27;\"> ⚙️ Feature View Retrieval</span>\n"
   ]
  },
  {
   "cell_type": "code",
   "execution_count": null,
   "id": "f4b10aff",
   "metadata": {},
   "outputs": [],
   "source": [
    "feature_view = fs.get_feature_view(\n",
    "        name = 'churn_feature_view',\n",
    "        version = 1,\n",
    ")"
   ]
  },
  {
   "cell_type": "markdown",
   "id": "7e7bec90",
   "metadata": {},
   "source": [
    "## <span style=\"color:#ff5f27;\">🗄 Model Registry</span>\n"
   ]
  },
  {
   "cell_type": "code",
   "execution_count": null,
   "id": "d187a98a",
   "metadata": {},
   "outputs": [],
   "source": [
    "mr = project.get_model_registry()"
   ]
  },
  {
   "cell_type": "markdown",
   "id": "b43409c0",
   "metadata": {},
   "source": [
    "---\n",
    "\n",
    "## <span style='color:#ff5f27'>🚀 Fetch and test the model</span>\n",
    "\n",
    "To identify customers at risk of churn lets retrieve your churn prediction model from Hopsworks model registry."
   ]
  },
  {
   "cell_type": "code",
   "execution_count": null,
   "id": "e2563560",
   "metadata": {},
   "outputs": [],
   "source": [
    "retrieved_model = mr.get_model(\n",
    "    name=\"churnmodel\",\n",
    "    version=1\n",
    ")\n",
    "saved_model_dir = retrieved_model.download()"
   ]
  },
  {
   "cell_type": "code",
   "execution_count": null,
   "id": "5e2159d5",
   "metadata": {},
   "outputs": [],
   "source": [
    "retrieved_xgboost_model = joblib.load(saved_model_dir + \"/churnmodel.pkl\")\n",
    "retrieved_xgboost_model"
   ]
  },
  {
   "cell_type": "markdown",
   "id": "53ee5a05",
   "metadata": {},
   "source": [
    "---\n",
    "## <span style=\"color:#ff5f27;\">🔮  Use trained model to identify customers at risk of churn </span>\n"
   ]
  },
  {
   "cell_type": "code",
   "execution_count": null,
   "id": "aec4ef7b",
   "metadata": {},
   "outputs": [],
   "source": [
    "def transform_preds(predictions):\n",
    "    return ['Churn' if pred == 1 else 'Not Churn' for pred in predictions]"
   ]
  },
  {
   "cell_type": "code",
   "execution_count": null,
   "id": "ebb02e76",
   "metadata": {},
   "outputs": [],
   "source": [
    "feature_view.init_batch_scoring(1)\n",
    "\n",
    "batch_data = feature_view.get_batch_data()\n",
    "\n",
    "batch_data.head(3)"
   ]
  },
  {
   "cell_type": "markdown",
   "id": "43a879bf",
   "metadata": {},
   "source": [
    "Let's predict the all for all customer data and then visualize predictions."
   ]
  },
  {
   "cell_type": "code",
   "execution_count": null,
   "id": "422ed460",
   "metadata": {},
   "outputs": [],
   "source": [
    "batch_data.drop('customerid',axis = 1, inplace = True)\n",
    "\n",
    "predictions = retrieved_xgboost_model.predict(batch_data)\n",
    "predictions = transform_preds(predictions)\n",
    "predictions[:5]"
   ]
  },
  {
   "cell_type": "markdown",
   "id": "d95fa5e6",
   "metadata": {},
   "source": [
    "---\n",
    "## <span style=\"color:#ff5f27;\">👨🏻‍🎨 Prediction Visualisation</span>\n",
    "\n",
    "Now you got your predictions but you also would like to exlain predictions to make informed decisions. Lets visualise them and explain important features that influences on the risk of churning."
   ]
  },
  {
   "cell_type": "code",
   "execution_count": null,
   "id": "fd8413b1",
   "metadata": {},
   "outputs": [],
   "source": [
    "import inspect \n",
    "\n",
    "# Recall that you applied transformation functions, such as min max scaler and laber encoder. \n",
    "# Now you want to transform them back to human readable format.\n",
    "df_all = batch_data.copy()\n",
    "td_transformation_functions = feature_view._batch_scoring_server._transformation_functions\n",
    "for feature_name in td_transformation_functions:\n",
    "    td_transformation_function = td_transformation_functions[feature_name]\n",
    "    sig, foobar_locals = inspect.signature(td_transformation_function.transformation_fn), locals()\n",
    "    param_dict = dict([(param.name, param.default) for param in sig.parameters.values() if param.default != inspect._empty])\n",
    "    if td_transformation_function.name == \"label_encoder\":\n",
    "        rev_dict = {v: k for k, v in param_dict[\"value_to_index\"].items()}\n",
    "        df_all[feature_name] = df_all[feature_name].map(lambda x: rev_dict[x])\n",
    "    if td_transformation_function.name == \"min_max_scaler\":\n",
    "        df_all[feature_name] = df_all[feature_name].map(lambda x: x*(param_dict[\"max_value\"]-param_dict[\"min_value\"])+param_dict[\"min_value\"])\n",
    "\n",
    "            \n",
    "df_all = df_all\n",
    "df_all['Churn'] = predictions\n",
    "df_all.head()"
   ]
  },
  {
   "cell_type": "markdown",
   "id": "cbae562e",
   "metadata": {},
   "source": [
    "Lets plot feature importance "
   ]
  },
  {
   "cell_type": "code",
   "execution_count": null,
   "id": "daaa2131",
   "metadata": {},
   "outputs": [],
   "source": [
    "figure_imp = plot_importance(retrieved_xgboost_model, max_num_features=10, importance_type='weight')\n",
    "plt.show()"
   ]
  },
  {
   "cell_type": "code",
   "execution_count": null,
   "id": "7b9256cf",
   "metadata": {},
   "outputs": [],
   "source": [
    "plt.figure(figsize = (13,6))\n",
    "\n",
    "sns.countplot(\n",
    "    data = df_all,\n",
    "    x = 'internetservice',\n",
    "    hue = 'Churn'\n",
    ")\n",
    "\n",
    "plt.title('Churn rate according to internet service subscribtion', fontsize = 20)\n",
    "plt.xlabel(\"internetservice\", fontsize = 13)\n",
    "plt.ylabel('Number of customers', fontsize = 13)\n",
    "\n",
    "plt.show()"
   ]
  },
  {
   "cell_type": "markdown",
   "id": "9d4d273e",
   "metadata": {},
   "source": [
    "Lets visualise couple of more imporant features such as `streamingtv` and `streamingmovies`"
   ]
  },
  {
   "cell_type": "code",
   "execution_count": null,
   "id": "9bbddda9",
   "metadata": {},
   "outputs": [],
   "source": [
    "plt.figure(figsize = (13,6))\n",
    "\n",
    "sns.countplot(\n",
    "    data = df_all,\n",
    "    x = 'streamingtv',\n",
    "    hue = 'Churn'\n",
    ")\n",
    "\n",
    "plt.title('Churn rate according to internet streaming tv subscribtion', fontsize = 20)\n",
    "plt.xlabel(\"streamingtv\", fontsize = 13)\n",
    "plt.ylabel('Number of customers', fontsize = 13)\n",
    "\n",
    "plt.show()"
   ]
  },
  {
   "cell_type": "code",
   "execution_count": null,
   "id": "f91b7d1d",
   "metadata": {},
   "outputs": [],
   "source": [
    "plt.figure(figsize = (13,6))\n",
    "\n",
    "sns.countplot(\n",
    "    data = df_all,\n",
    "    x = 'streamingtv',\n",
    "    hue = 'Churn'\n",
    ")\n",
    "\n",
    "plt.title('Churn rate according to streaming movies service subscribtion', fontsize = 20)\n",
    "plt.xlabel(\"streamingmovies\", fontsize = 13)\n",
    "plt.ylabel('Number of customers', fontsize = 13)\n",
    "\n",
    "plt.show()"
   ]
  },
  {
   "cell_type": "code",
   "execution_count": null,
   "id": "4598b999",
   "metadata": {},
   "outputs": [],
   "source": [
    "plt.figure(figsize = (13,6))\n",
    "\n",
    "sns.countplot(\n",
    "    data = df_all,\n",
    "    x = 'gender',\n",
    "    hue = 'Churn'\n",
    ")\n",
    "\n",
    "plt.title('Churn rate according to Gender', fontsize = 20)\n",
    "plt.xlabel(\"Gender\", fontsize = 13)\n",
    "plt.ylabel('Count', fontsize = 13)\n",
    "\n",
    "plt.show()"
   ]
  },
  {
   "cell_type": "code",
   "execution_count": null,
   "id": "fdaaa590",
   "metadata": {},
   "outputs": [],
   "source": [
    "plt.figure(figsize = (13,6))\n",
    "\n",
    "sns.histplot(\n",
    "    data = df_all,\n",
    "    x = 'totalcharges',\n",
    "    hue = 'Churn'\n",
    ")\n",
    "\n",
    "plt.title('Amount of each Payment Method', fontsize = 20)\n",
    "plt.xlabel(\"Charge Value\", fontsize = 13)\n",
    "plt.ylabel('Count', fontsize = 13)\n",
    "\n",
    "plt.show()"
   ]
  },
  {
   "cell_type": "code",
   "execution_count": null,
   "id": "7674b581",
   "metadata": {},
   "outputs": [],
   "source": [
    "plt.figure(figsize = (13,6))\n",
    "\n",
    "sns.countplot(\n",
    "    data = df_all,\n",
    "    x = 'paymentmethod',\n",
    "    hue = 'Churn'\n",
    ")\n",
    "\n",
    "plt.title('Amount of each Payment Method', fontsize = 20)\n",
    "plt.xlabel(\"Payment Method\", fontsize = 13)\n",
    "plt.ylabel('Total Amount', fontsize = 13)\n",
    "\n",
    "plt.show()"
   ]
  },
  {
   "cell_type": "code",
   "execution_count": null,
   "id": "e95d8849",
   "metadata": {},
   "outputs": [],
   "source": [
    "plt.figure(figsize = (13,6))\n",
    "\n",
    "sns.countplot(\n",
    "    data = df_all,\n",
    "    x = 'partner',\n",
    "    hue = 'Churn'\n",
    ")\n",
    "\n",
    "plt.title('Affect of having a partner on Churn/Not', fontsize = 20)\n",
    "plt.xlabel(\"Have a partner\", fontsize = 13)\n",
    "plt.ylabel('Count', fontsize = 13)\n",
    "\n",
    "plt.show()"
   ]
  },
  {
   "cell_type": "markdown",
   "id": "2421f67a",
   "metadata": {},
   "source": [
    "---\n",
    "## <span style=\"color:#ff5f27;\">🧑🏻‍🔬 StreamLit App </span>\n",
    "\n",
    "If you want to use an **interactive dashboards** - you can use a StreamLit App.\n",
    "\n",
    "Use the following commands in terminal to run a Streamlit App:\n",
    "\n",
    "> `cd {%path_to_hopsworks_tutorials%}/`  </br>\n",
    "> `conda activate ./miniconda/envs/hopsworks` </br>\n",
    "> `python -m streamlit run churn/streamlit_app.py`</br>\n",
    "\n",
    "**⚠️** If you are running on Colab, you will need to follow a different procedure. As highlighted in this [notebook](https://colab.research.google.com/github/mrm8488/shared_colab_notebooks/blob/master/Create_streamlit_app.ipynb). "
   ]
  },
  {
   "cell_type": "markdown",
   "id": "471dd2be",
   "metadata": {},
   "source": [
    "---\n",
    "## <span style=\"color:#ff5f27;\"> 👓  Exploration</span>\n",
    "In the Hopsworks feature store, the metadata allows for multiple levels of explorations and review. Here we will show a few of those capacities. \n",
    "\n",
    "### <span style=\"color:#ff5f27;\">🔎 <b>Search</b></span> \n",
    "Using the search function in the ui, you can query any aspect of the feature groups, feature_view and training data that was previously created.\n",
    "\n",
    "### <span style=\"color:#ff5f27;\">📊 <b>Statistics</b> </span>\n",
    "We can also enable statistics in one or all the feature groups."
   ]
  },
  {
   "cell_type": "code",
   "execution_count": null,
   "id": "d557008b",
   "metadata": {},
   "outputs": [],
   "source": [
    "customer_info_fg = fs.get_feature_group(\"customer_info\", version = 1)\n",
    "customer_info_fg.statistics_config = {\n",
    "    \"enabled\": True,\n",
    "    \"histograms\": True,\n",
    "    \"correlations\": True\n",
    "}\n",
    "\n",
    "customer_info_fg.update_statistics_config()\n",
    "customer_info_fg.compute_statistics()"
   ]
  },
  {
   "cell_type": "markdown",
   "id": "98dc224a",
   "metadata": {},
   "source": [
    "![fg-statistics](../churn/images/churn_statistics.gif)\n",
    "\n",
    "\n",
    "### <span style=\"color:#ff5f27;\">⛓️ <b> Lineage </b> </span>\n",
    "In all the feature groups and feature view you can look at the relation between each abstractions; what feature group created which training dataset and that is used in which model.\n",
    "This allows for a clear undestanding of the pipeline in relation to each element. "
   ]
  },
  {
   "cell_type": "markdown",
   "id": "211ff1e0",
   "metadata": {},
   "source": [
    "---\n",
    "\n",
    "### <span style=\"color:#ff5f27;\">🥳 <b> Next Steps  </b> </span>\n",
    "Congratulations you've now completed the churn risk prediction tutorial for Managed Hopsworks.\n",
    "\n",
    "Check out our other tutorials on ➡ https://github.com/logicalclocks/hopsworks-tutorials\n",
    "\n",
    "Or documentation at ➡ https://docs.hopsworks.ai"
   ]
  }
 ],
 "metadata": {
  "kernelspec": {
   "display_name": "Python 3 (ipykernel)",
   "language": "python",
   "name": "python3"
  },
  "language_info": {
   "codemirror_mode": {
    "name": "ipython",
    "version": 3
   },
   "file_extension": ".py",
   "mimetype": "text/x-python",
   "name": "python",
   "nbconvert_exporter": "python",
   "pygments_lexer": "ipython3",
   "version": "3.9.12"
  }
 },
 "nbformat": 4,
 "nbformat_minor": 5
}
