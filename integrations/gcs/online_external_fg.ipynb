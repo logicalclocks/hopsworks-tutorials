{
 "cells": [
  {
   "cell_type": "markdown",
   "id": "6c8afcff",
   "metadata": {},
   "source": [
    "# <span style='color:#ff5f27'> 👨🏻‍🏫 GCS Online External Feature Group Creation</span>\n",
    "\n",
    "Follow this [guide](https://docs.hopsworks.ai/3.1/user_guides/fs/storage_connector/creation/gcs/) to set up a connection to GCS.\n",
    "\n",
    "In addition, you can read about [External Feature Groups](https://docs.hopsworks.ai/3.0/user_guides/fs/feature_group/create_external/)."
   ]
  },
  {
   "cell_type": "markdown",
   "id": "574ade4a",
   "metadata": {},
   "source": [
    "## <span style='color:#ff5f27'> 🔮 Retrieve a Connector\n",
    "\n",
    "Firstly, connect to feature store and then retrieve your **GCS storage connector**.\n",
    "\n",
    "Replace `my_storage_connector_name` with your GCS storage connector name."
   ]
  },
  {
   "cell_type": "code",
   "execution_count": null,
   "id": "a3ff306d",
   "metadata": {},
   "outputs": [],
   "source": [
    "import hsfs\n",
    "\n",
    "# Connect to the Hopsworks feature store\n",
    "hsfs_connection = hsfs.connection()\n",
    "\n",
    "# Retrieve the metadata handle\n",
    "feature_store = hsfs_connection.get_feature_store()\n",
    "\n",
    "# Retrieve storage connector\n",
    "connector = feature_store.get_storage_connector('my_storage_connector_name')"
   ]
  },
  {
   "cell_type": "markdown",
   "id": "27385079",
   "metadata": {},
   "source": [
    "## <span style='color:#ff5f27'> 📝 Read Data </span>\n",
    "\n",
    "You can retrieve your data by passing the next parameters of the `.read()` method:\n",
    "\n",
    "- `data_format` - parquet, csv, orc, hudi, delta.\n",
    "- `path` - the full object path where your table is located.\n",
    "\n",
    "> ⚠️ **Don't** include dataset name in your path.\n",
    "\n",
    "The `path` parameter should be in the next format:\n",
    "\n",
    "`gs://{your_bucket_name}/{your_folder_name}/`\n",
    "\n",
    "Replace `your_bucket_name` and `your_folder_name` with your GCS bucket name and folder name respectively."
   ]
  },
  {
   "cell_type": "code",
   "execution_count": null,
   "id": "f094dff2",
   "metadata": {},
   "outputs": [],
   "source": [
    "# read data into dataframe using path \n",
    "df = connector.read(\n",
    "    data_format='parquet',\n",
    "    path='gs://{your_bucket_name}/{your_folder_name}/'\n",
    ")   "
   ]
  },
  {
   "cell_type": "markdown",
   "id": "fa344318",
   "metadata": {},
   "source": [
    "> **.read()** method returns a PySpark DataFrame."
   ]
  },
  {
   "cell_type": "code",
   "execution_count": null,
   "id": "e5dba385",
   "metadata": {},
   "outputs": [],
   "source": [
    "type(df)"
   ]
  },
  {
   "cell_type": "code",
   "execution_count": null,
   "id": "e62a9517",
   "metadata": {},
   "outputs": [],
   "source": [
    "df.show(5)"
   ]
  },
  {
   "cell_type": "markdown",
   "id": "b1ed1799",
   "metadata": {},
   "source": [
    "## <span style='color:#ff5f27'> ⚙️ Feature Group Creation</span>\n",
    "\n",
    "To create an **Online External Feature Group**, use `feature_store.create_external_feature_group()` method.\n",
    "\n",
    "Provide the next parameters:\n",
    "- `data_format` - data format of your table (parquet, csv, orc, hudi, delta).\n",
    "- `path` - provide a folder name where your dataset is located in the next format: `{my_folder_name}/`.\n",
    "- `storage_connector` - your **GCS Storage Connector**.\n",
    "- `online_enabled` - set to `True`."
   ]
  },
  {
   "cell_type": "code",
   "execution_count": null,
   "id": "30b5ab6a",
   "metadata": {},
   "outputs": [],
   "source": [
    "my_external_fg = feature_store.create_external_feature_group(\n",
    "    name=\"name_online_external_fg\",\n",
    "    version=1,\n",
    "    description=\"Description of the Online External GCS Table\",\n",
    "    primary_key=['pk1_name','pk2_name'],\n",
    "    event_time='event_time_col_name',\n",
    "    data_format='{my_data_format}',\n",
    "    path='{my_folder_name}/',\n",
    "    storage_connector=connector,\n",
    "    online_enabled=True,\n",
    ")"
   ]
  },
  {
   "cell_type": "markdown",
   "id": "d3c5010c",
   "metadata": {},
   "source": [
    "Don't forget to register a feature group metadata object in Hopsworks!"
   ]
  },
  {
   "cell_type": "code",
   "execution_count": null,
   "id": "c11acf55",
   "metadata": {},
   "outputs": [],
   "source": [
    "my_external_fg.save()"
   ]
  },
  {
   "cell_type": "markdown",
   "id": "6becc1e5",
   "metadata": {},
   "source": [
    "Now, you should be able to see your Online External Feature Group for the GCS table in the Hopsworks UI.\n",
    "\n",
    "![GCS_table](images/online_external_fg.png)"
   ]
  },
  {
   "cell_type": "markdown",
   "id": "bf0ba215",
   "metadata": {},
   "source": [
    "---"
   ]
  },
  {
   "cell_type": "markdown",
   "id": "d154d9a4",
   "metadata": {},
   "source": [
    "## <span style='color:#ff5f27'> ⬇️ Insert to online storage</span>\n",
    "\n",
    "You can enable online storage for external feature groups, however, the sync from the external storage to Hopsworks online storage needs to be done manually, so you need to acomplish the next steps:\n",
    "- Filter data to sync to online.\n",
    "- Read from external storage.\n",
    "- Insert to online storage.\n",
    "\n",
    "Replace `column_name` and `filter_value` with required **column name** and a **value** by which you will filter.\n",
    "\n",
    "> ⚠️ Don't forget that all column names are set to lower case!"
   ]
  },
  {
   "cell_type": "code",
   "execution_count": null,
   "id": "5e1a5335",
   "metadata": {},
   "outputs": [],
   "source": [
    "column_name = 'column_name'\n",
    "filter_value = 'filter_value'"
   ]
  },
  {
   "cell_type": "code",
   "execution_count": null,
   "id": "f8ca3f75",
   "metadata": {},
   "outputs": [],
   "source": [
    "df = my_external_fg.filter(my_external_fg[column_name] == filter_value).read()\n",
    "\n",
    "df.show(1)"
   ]
  },
  {
   "cell_type": "markdown",
   "id": "a3711185",
   "metadata": {},
   "source": [
    "Insert filtered data to online storage in order to be able to call `.get_feature_vector()` method."
   ]
  },
  {
   "cell_type": "code",
   "execution_count": null,
   "id": "1aa8bf49",
   "metadata": {},
   "outputs": [],
   "source": [
    "my_external_fg.insert(df)"
   ]
  },
  {
   "cell_type": "markdown",
   "id": "8ca8d17c",
   "metadata": {},
   "source": [
    "## <span style='color:#ff5f27'> ⚙️ Feature View Creation</span>"
   ]
  },
  {
   "cell_type": "code",
   "execution_count": null,
   "id": "9993d671",
   "metadata": {},
   "outputs": [],
   "source": [
    "query = my_external_fg.select_all()"
   ]
  },
  {
   "cell_type": "code",
   "execution_count": null,
   "id": "96420adf",
   "metadata": {},
   "outputs": [],
   "source": [
    "feature_view = feature_store.get_or_create_feature_view(\n",
    "    name='my_feature_view_name',\n",
    "    version=1,\n",
    "    query=query\n",
    ")"
   ]
  },
  {
   "cell_type": "code",
   "execution_count": null,
   "id": "bdd6518a",
   "metadata": {},
   "outputs": [],
   "source": [
    "vector = feature_view.get_feature_vector(\n",
    "    entry = {\"pk1_name\": 1, \"pk2_name\": 2}\n",
    ")\n",
    "vector"
   ]
  },
  {
   "cell_type": "markdown",
   "id": "3c4cdaee",
   "metadata": {},
   "source": [
    "---"
   ]
  }
 ],
 "metadata": {
  "kernelspec": {
   "display_name": "Python 3 (ipykernel)",
   "language": "python",
   "name": "python3"
  },
  "language_info": {
   "codemirror_mode": {
    "name": "ipython",
    "version": 3
   },
   "file_extension": ".py",
   "mimetype": "text/x-python",
   "name": "python",
   "nbconvert_exporter": "python",
   "pygments_lexer": "ipython3",
   "version": "3.9.13"
  }
 },
 "nbformat": 4,
 "nbformat_minor": 5
}
