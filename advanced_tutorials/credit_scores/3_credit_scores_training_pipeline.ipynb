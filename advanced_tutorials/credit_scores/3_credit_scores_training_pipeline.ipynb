{
 "cells": [
  {
   "cell_type": "markdown",
   "id": "ec1fb5d4",
   "metadata": {},
   "source": [
    "# <span style=\"font-width:bold; font-size: 3rem; color:#1EB182;\"><img src=\"../../images/icon102.png\" width=\"38px\"></img> **Hopsworks Feature Store** </span><span style=\"font-width:bold; font-size: 3rem; color:#333;\">- Part 03: Training Pipeline</span>\n",
    "\n",
    "\n",
    "<span style=\"font-width:bold; font-size: 1.4rem;\">This notebook explains how to read from a feature group, create training dataset within the feature store, train a model and save it to model registry.</span>\n",
    "\n",
    "## 🗒️ This notebook is divided into the following sections:\n",
    "\n",
    "1. Fetch Feature Groups.\n",
    "2. Define Transformation functions.\n",
    "3. Create Feature Views.\n",
    "4. Create Training Dataset with training, validation and test splits.\n",
    "5. Train the model.\n",
    "6. Register model in Hopsworks model registry.\n",
    "\n",
    "![part2](../../images/02_training-dataset.png) "
   ]
  },
  {
   "cell_type": "markdown",
   "id": "d9985c8d-9000-42e8-840a-ce63b3ae8a20",
   "metadata": {},
   "source": [
    "## <span style='color:#ff5f27'> 📝 Imports"
   ]
  },
  {
   "cell_type": "code",
   "execution_count": null,
   "id": "1b129ae2",
   "metadata": {},
   "outputs": [],
   "source": [
    "!pip install xgboost"
   ]
  },
  {
   "cell_type": "code",
   "execution_count": null,
   "id": "6a6e4839",
   "metadata": {},
   "outputs": [],
   "source": [
    "import joblib\n",
    "import os\n",
    "\n",
    "import matplotlib.pyplot as plt\n",
    "import seaborn as sns\n",
    "from PIL import Image\n",
    "\n",
    "from sklearn.metrics import confusion_matrix\n",
    "from xgboost import plot_importance\n",
    "import xgboost as xgb\n",
    "from sklearn.metrics import f1_score\n",
    "\n",
    "#ignore warnings\n",
    "import warnings\n",
    "warnings.filterwarnings('ignore')"
   ]
  },
  {
   "cell_type": "markdown",
   "id": "63e78e5c",
   "metadata": {},
   "source": [
    "## <span style=\"color:#ff5f27;\"> 🔮 Connecting to Hopsworks Feature Store </span>"
   ]
  },
  {
   "cell_type": "code",
   "execution_count": null,
   "id": "8e230c78",
   "metadata": {},
   "outputs": [],
   "source": [
    "import hopsworks\n",
    "\n",
    "project = hopsworks.login()\n",
    "\n",
    "fs = project.get_feature_store() "
   ]
  },
  {
   "cell_type": "markdown",
   "id": "d3b486e2",
   "metadata": {},
   "source": [
    "## <span style=\"color:#ff5f27;\">🪄 Retrieving Feature Groups</span>"
   ]
  },
  {
   "cell_type": "code",
   "execution_count": null,
   "id": "6ef0178b",
   "metadata": {},
   "outputs": [],
   "source": [
    "# Retrieve feature groups\n",
    "applications_fg = fs.get_feature_group(\n",
    "    name='applications',\n",
    "    version=1,\n",
    ")\n",
    "\n",
    "bureau_balances_fg = fs.get_feature_group(\n",
    "    name='bureau_balances',\n",
    "    version=1,\n",
    ")\n",
    "\n",
    "bureaus_fg = fs.get_feature_group(\n",
    "    name='bureaus',\n",
    "    version=1,\n",
    ")\n",
    "\n",
    "previous_applications_fg = fs.get_feature_group(\n",
    "    name='previous_applications',\n",
    "    version=1,\n",
    ")\n",
    "\n",
    "pos_cash_balances_fg = fs.get_feature_group(\n",
    "    name='pos_cash_balances',\n",
    "    version=1,\n",
    ")\n",
    "\n",
    "installment_payments_fg = fs.get_feature_group(\n",
    "    name='installment_payments',\n",
    "    version=1,\n",
    ")\n",
    "\n",
    "credit_card_balances_fg = fs.get_feature_group(\n",
    "    name='credit_card_balances',\n",
    "    version=1,\n",
    ")\n",
    "\n",
    "previous_loan_counts_fg = fs.get_feature_group(\n",
    "    name='previous_loan_counts',\n",
    "    version=1,\n",
    ")"
   ]
  },
  {
   "cell_type": "markdown",
   "id": "af7bc837",
   "metadata": {},
   "source": [
    "---\n",
    "\n",
    "## <span style=\"color:#ff5f27;\">🕵🏻‍♂️ Feature Groups Investigation</span>\n",
    "\n",
    "We can use `FeatureGroup.show()` method to select top n rows. \n",
    "\n",
    "Also we use method `FeatureGroup.read()` in order **to aggregate queries**, which are the output of next methods:\n",
    "\n",
    "- `FeatureGroup.get_feture()` to get specific feature from our Feature Group.\n",
    "\n",
    "- `FeatureGroup.select()` to get a few features from our Feature Group.\n",
    "\n",
    "- `FeatureGroup.select_all()` to get all features from our Feature Group.\n",
    "\n",
    "- `FeatureGroup.select_except()` to get all features except a few from our Feature Group.\n",
    "\n",
    "- `FeatureGroup.filter()` in order to apply specific filter to the feature group."
   ]
  },
  {
   "cell_type": "code",
   "execution_count": null,
   "id": "78225ce5",
   "metadata": {},
   "outputs": [],
   "source": [
    "applications_fg"
   ]
  },
  {
   "cell_type": "code",
   "execution_count": null,
   "id": "629d2672",
   "metadata": {},
   "outputs": [],
   "source": [
    "applications_fg.select_all()"
   ]
  },
  {
   "cell_type": "code",
   "execution_count": null,
   "id": "0db3a1d3",
   "metadata": {},
   "outputs": [],
   "source": [
    "applications_fg.read().head()"
   ]
  },
  {
   "cell_type": "markdown",
   "id": "41890ff4",
   "metadata": {},
   "source": [
    "---\n",
    "\n",
    "## <span style=\"color:#ff5f27;\"> 💼 Feature Selection</span>"
   ]
  },
  {
   "cell_type": "code",
   "execution_count": null,
   "id": "41c4be37",
   "metadata": {},
   "outputs": [],
   "source": [
    "# Build a query object \n",
    "query = bureaus_fg.select_except(['sk_id_curr','sk_id_bureau','datetime'])\\\n",
    "            .join(applications_fg.select_except(['sk_id_curr',\n",
    "                                                 'datetime',\n",
    "                                                 'flag_mobil',\n",
    "                                                 *[f'flag_document_{num}'\n",
    "                                                   for num\n",
    "                                                   in [2,4,7,10,12,14,17,19,20,21]\n",
    "                                                  ],\n",
    "                                                 'amt_credit', 'weekday_appr_process_start',\n",
    "                                                 'hour_appr_process_start']))\\\n",
    "            .join(bureau_balances_fg.select_except(['sk_id_bureau','months_balance']))\\\n",
    "            .join(previous_applications_fg.select_except(['sk_id_prev', 'sk_id_curr','datetime',\n",
    "                                                          'name_contract_type', 'name_contract_status']))\\\n",
    "            .join(pos_cash_balances_fg.select_except(['sk_id_prev','sk_id_curr', 'months_balance',\n",
    "                                                      'name_contract_status', 'sk_dpd', 'sk_dpd_def']))\\\n",
    "            .join(installment_payments_fg.select_except(['sk_id_prev', 'sk_id_curr', 'datetime']))\\\n",
    "            .join(credit_card_balances_fg.select_except(['sk_id_prev', 'sk_id_curr']))\\\n",
    "            .join(previous_loan_counts_fg.select_except('sk_id_curr'))\n",
    "\n",
    "query_show5 = query.show(5)\n",
    "query_show5"
   ]
  },
  {
   "cell_type": "markdown",
   "id": "258201a7",
   "metadata": {
    "tags": []
   },
   "source": [
    "---\n",
    "\n",
    "## <span style=\"color:#ff5f27;\">🤖 Transformation functions</span>\n",
    "\n",
    "Hopsworks Feature Store provides functionality to attach transformation functions to training datasets.\n",
    "\n",
    "Hopsworks Feature Store also comes with built-in transformation functions such as `min_max_scaler`, `standard_scaler`, `robust_scaler` and `label_encoder`."
   ]
  },
  {
   "cell_type": "code",
   "execution_count": null,
   "id": "3f4173f3",
   "metadata": {},
   "outputs": [],
   "source": [
    "# Retrieving the names of all available transformation functions\n",
    "[t_func.name for t_func in fs.get_transformation_functions()]"
   ]
  },
  {
   "cell_type": "markdown",
   "id": "1e20134b",
   "metadata": {},
   "source": [
    "We can retrieve transformation function we need .\n",
    "\n",
    "To attach transformation function to training dataset provide transformation functions as dict, where key is feature name and value is online transformation function name.\n",
    "\n",
    "Also training dataset must be created from the Query object. Once attached transformation function will be applied on whenever save, insert and get_serving_vector methods are called on training dataset object."
   ]
  },
  {
   "cell_type": "code",
   "execution_count": null,
   "id": "8a41e840",
   "metadata": {},
   "outputs": [],
   "source": [
    "# Extracting the names of categorical columns in the 'query_show5' DataFrame\n",
    "cat_cols = query_show5.dtypes[query_show5.dtypes == 'object'].index\n",
    "\n",
    "# Retrieving the Label Encoder transformation function from Featuretools\n",
    "le = fs.get_transformation_function(name='label_encoder') \n",
    "\n",
    "# Creating a dictionary of transformation functions, where each categorical column is associated with the Label Encoder\n",
    "transformation_functions = {\n",
    "    col: le\n",
    "    for col in cat_cols\n",
    "}"
   ]
  },
  {
   "cell_type": "markdown",
   "id": "5a161181",
   "metadata": {},
   "source": [
    "---\n",
    "\n",
    "## <span style=\"color:#ff5f27;\"> ⚙️ Feature View Creation </span>\n",
    "\n",
    "`Feature Views` stands between **Feature Groups** and **Training Dataset**. Сombining **Feature Groups** we can create **Feature Views** which store a metadata of our data. Having **Feature Views** we can create **Training Dataset**.\n",
    "\n",
    "The Feature Views allows schema in form of a query with filters, define a model target feature/label and additional transformation functions.\n",
    "\n",
    "In order to create Feature View we can use `FeatureStore.get_or_create_feature_view()` method.\n",
    "\n",
    "We can specify next parameters:\n",
    "\n",
    "- `name` - name of a feature group.\n",
    "\n",
    "- `version` - version of a feature group.\n",
    "\n",
    "- `labels`- out target variable.\n",
    "\n",
    "- `transformation_functions` - functions to transform our features.\n",
    "\n",
    "- `query` - query object with data."
   ]
  },
  {
   "cell_type": "code",
   "execution_count": null,
   "id": "0eddfb1d",
   "metadata": {},
   "outputs": [],
   "source": [
    "# Get or create the 'credit_scores' feature view\n",
    "feature_view = fs.get_or_create_feature_view(\n",
    "    name='credit_scores',\n",
    "    version=1,\n",
    "    labels=['target'],\n",
    "    transformation_functions=transformation_functions,\n",
    "    query=query,\n",
    ")"
   ]
  },
  {
   "cell_type": "markdown",
   "id": "5d957dae",
   "metadata": {},
   "source": [
    "---\n",
    "\n",
    "## <span style=\"color:#ff5f27;\"> 🏋️ Training Dataset Creation</span>\n",
    "\n",
    "In Hopsworks training data is a query where the projection (set of features) is determined by the parent FeatureView with an optional snapshot on disk of the data returned by the query.\n",
    "\n",
    "**Training Dataset  may contain splits such as:** \n",
    "* Training set - the subset of training data used to train a model.\n",
    "* Validation set - the subset of training data used to evaluate hparams when training a model\n",
    "* Test set - the holdout subset of training data used to evaluate a mode\n",
    "\n",
    "To create training dataset you will use the `FeatureView.train_test_split()` method.\n",
    "\n",
    "Here are some importand things:\n",
    "\n",
    "- It will inherit the name of FeatureView.\n",
    "\n",
    "- The feature store currently supports the following data formats for\n",
    "training datasets: **tfrecord, csv, tsv, parquet, avro, orc**.\n",
    "\n",
    "- You can choose necessary format using **data_format** parameter.\n",
    "\n",
    "- **start_time** and **end_time** in order to filter dataset in specific time range.\n",
    "\n",
    "- You can create **train, test** splits using `train_test_split()`. \n",
    "\n",
    "- You can create **train,validation, test** splits using `train_validation_test_splits()` methods.\n",
    "\n",
    "- The only thing is that we should specify desired ratio of splits."
   ]
  },
  {
   "cell_type": "code",
   "execution_count": null,
   "id": "b30b61c3",
   "metadata": {},
   "outputs": [],
   "source": [
    "X_train, X_test, y_train, y_test = feature_view.train_test_split(\n",
    "    test_size=0.2,\n",
    ")"
   ]
  },
  {
   "cell_type": "markdown",
   "id": "a6d47d29",
   "metadata": {},
   "source": [
    "---\n",
    "## <span style=\"color:#ff5f27;\"> 🧬 Modeling</span>"
   ]
  },
  {
   "cell_type": "code",
   "execution_count": null,
   "id": "e0902530",
   "metadata": {},
   "outputs": [],
   "source": [
    "# Creating an XGBoost Classifier model\n",
    "xgboost_model = xgb.XGBClassifier()\n",
    "\n",
    "# Training the XGBoost model on the training data\n",
    "xgboost_model.fit(X_train, y_train)"
   ]
  },
  {
   "cell_type": "markdown",
   "id": "69c7eff1",
   "metadata": {},
   "source": [
    "---\n",
    "## <span style=\"color:#ff5f27;\"> 👨🏻‍⚖️ Model Evaluation</span>"
   ]
  },
  {
   "cell_type": "code",
   "execution_count": null,
   "id": "393ec28c",
   "metadata": {},
   "outputs": [],
   "source": [
    "# Calculating the F1 score on the test set using the trained XGBoost model\n",
    "score = f1_score(\n",
    "    y_test, \n",
    "    xgboost_model.predict(X_test), \n",
    "    average=\"macro\",\n",
    ")\n",
    "\n",
    "# Displaying the F1 score\n",
    "print(f'⛳️ F1 score: {score}')"
   ]
  },
  {
   "cell_type": "code",
   "execution_count": null,
   "id": "896802e7",
   "metadata": {},
   "outputs": [],
   "source": [
    "# Calculating the confusion matrix on the test set using the trained XGBoost model\n",
    "conf_matrix = confusion_matrix(\n",
    "    y_test, \n",
    "    xgboost_model.predict(X_test),\n",
    ")\n",
    "\n",
    "# Creating a heatmap to visualize the confusion matrix\n",
    "figure_cm = plt.figure(figsize=(10, 7))\n",
    "figure_cm = sns.heatmap(\n",
    "    conf_matrix, \n",
    "    annot=True, \n",
    "    annot_kws={\"size\": 14},\n",
    "    fmt='.10g',\n",
    ")\n",
    "\n",
    "# Adding title to the heatmap\n",
    "plt.title('Confusion Matrix', fontsize=17)\n",
    "\n",
    "# Displaying the heatmap\n",
    "plt.show()"
   ]
  },
  {
   "cell_type": "code",
   "execution_count": null,
   "id": "38891567",
   "metadata": {},
   "outputs": [],
   "source": [
    "# Plotting feature importance using the plot_importance function from XGBoost\n",
    "# Displaying the top 10 features based on their weight importance\n",
    "# 'importance_type' is set to 'weight' to use the number of times a feature appears in a tree\n",
    "figure_imp = plot_importance(\n",
    "    xgboost_model, \n",
    "    max_num_features=10, \n",
    "    importance_type='weight',\n",
    ")\n",
    "\n",
    "# Displaying the feature importance plot\n",
    "plt.show()"
   ]
  },
  {
   "cell_type": "markdown",
   "id": "668f2efb",
   "metadata": {},
   "source": [
    "---\n",
    "## <span style=\"color:#ff5f27;\">🗄 Model Registry</span>\n",
    "\n",
    "One of the features in Hopsworks is the model registry. This is where you can store different versions of models and compare their performance."
   ]
  },
  {
   "cell_type": "code",
   "execution_count": null,
   "id": "fd5ec387",
   "metadata": {},
   "outputs": [],
   "source": [
    "# Retrieve the model registry\n",
    "mr = project.get_model_registry()"
   ]
  },
  {
   "cell_type": "markdown",
   "id": "30b0c2a7",
   "metadata": {},
   "source": [
    "### <span style=\"color:#ff5f27;\">⚙️ Model Schema</span>\n",
    "\n",
    "The model needs to be set up with a [Model Schema](https://docs.hopsworks.ai/machine-learning-api/latest/generated/model_schema/), which describes the inputs and outputs for a model.\n",
    "\n",
    "A Model Schema can be automatically generated from training examples, as shown below."
   ]
  },
  {
   "cell_type": "code",
   "execution_count": null,
   "id": "c671699c",
   "metadata": {},
   "outputs": [],
   "source": [
    "from hsml.schema import Schema\n",
    "from hsml.model_schema import ModelSchema\n",
    "\n",
    "# Creating input and output schemas\n",
    "input_schema = Schema(X_train.values)\n",
    "output_schema = Schema(y_train)\n",
    "\n",
    "# Creating a model schema\n",
    "model_schema = ModelSchema(input_schema=input_schema, output_schema=output_schema)\n",
    "\n",
    "# Converting the model schema to a dictionary representation\n",
    "schema_dict = model_schema.to_dict()"
   ]
  },
  {
   "cell_type": "markdown",
   "id": "2489db15",
   "metadata": {},
   "source": [
    "### <span style=\"color:#ff5f27;\">💽 Save a model</span>"
   ]
  },
  {
   "cell_type": "code",
   "execution_count": null,
   "id": "5400b050-a035-432c-9978-fcd42ba96854",
   "metadata": {},
   "outputs": [],
   "source": [
    "# Creating a directory for the model artifacts if it doesn't exist\n",
    "model_dir = \"credit_scores_model\"\n",
    "if os.path.isdir(model_dir) == False:\n",
    "    os.mkdir(model_dir)\n",
    "\n",
    "# Saving the trained XGBoost model as a joblib file in the model directory\n",
    "joblib.dump(xgboost_model, model_dir + '/credit_scores_model.pkl')\n",
    "\n",
    "# Saving the confusion matrix and feature importance plots as images in the model directory\n",
    "figure_cm.figure.savefig(model_dir + '/confusion_matrix.png')\n",
    "figure_imp.figure.savefig(model_dir + '/feature_importance.png')"
   ]
  },
  {
   "cell_type": "code",
   "execution_count": null,
   "id": "ce5af23f",
   "metadata": {},
   "outputs": [],
   "source": [
    "# Creating a Python model in the model registry named 'credit_scores_model'\n",
    "model = mr.python.create_model(\n",
    "    name=\"credit_scores_model\",\n",
    "    metrics={\"f1_score\": score}, \n",
    "    description=\"XGB for Credit Scores Project\",\n",
    "    input_example=X_train.sample(),\n",
    "    model_schema=model_schema,\n",
    ")\n",
    "\n",
    "# Saving the model artifacts to the 'credit_scores_model' directory in the model registry\n",
    "model.save(model_dir)"
   ]
  },
  {
   "cell_type": "markdown",
   "id": "fda2c1c0",
   "metadata": {},
   "source": [
    "## <span style=\"color:#ff5f27;\">⏭️ **Next:** Part 04: Batch Inference </span>\n",
    "\n",
    "In the next notebook you will use your registered model to predict batch data.\n"
   ]
  }
 ],
 "metadata": {
  "kernelspec": {
   "display_name": "Python 3 (ipykernel)",
   "language": "python",
   "name": "python3"
  },
  "language_info": {
   "codemirror_mode": {
    "name": "ipython",
    "version": 3
   },
   "file_extension": ".py",
   "mimetype": "text/x-python",
   "name": "python",
   "nbconvert_exporter": "python",
   "pygments_lexer": "ipython3",
   "version": "3.9.18"
  }
 },
 "nbformat": 4,
 "nbformat_minor": 5
}
