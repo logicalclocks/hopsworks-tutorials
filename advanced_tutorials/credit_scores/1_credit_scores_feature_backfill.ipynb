{
 "cells": [
  {
   "cell_type": "markdown",
   "id": "c656257d",
   "metadata": {},
   "source": [
    "# <span style=\"font-width:bold; font-size: 3rem; color:#1EB182;\"><img src=\"../../images/icon102.png\" width=\"38px\"></img> **Hopsworks Feature Store** </span><span style=\"font-width:bold; font-size: 3rem; color:#333;\">- Part 01: Feature Backfill</span>\n",
    "\n",
    "**Note**: This tutorial does not support Google Colab.\n",
    "\n",
    "## 🗒️ This notebook is divided into the following sections:\n",
    "1. Fetch historical data.\n",
    "2. Connect to the Hopsworks feature store.\n",
    "3. Create feature groups and insert them to the feature store.\n",
    "4. Data Visualization.\n",
    "\n",
    "![tutorial-flow](../../images/01_featuregroups.png)"
   ]
  },
  {
   "cell_type": "markdown",
   "id": "066cfc1d",
   "metadata": {},
   "source": [
    "## <span style='color:#ff5f27'> 📝 Imports"
   ]
  },
  {
   "cell_type": "code",
   "execution_count": null,
   "id": "c2fb6ff7",
   "metadata": {},
   "outputs": [],
   "source": [
    "!pip install -U hopsworks --quiet"
   ]
  },
  {
   "cell_type": "code",
   "execution_count": null,
   "id": "54ef807e",
   "metadata": {},
   "outputs": [],
   "source": [
    "import pandas as pd\n",
    "import numpy as np\n",
    "import matplotlib.pyplot as plt\n",
    "import seaborn as sns\n",
    "\n",
    "from functions import *\n",
    "\n",
    "#ignore warnings\n",
    "import warnings\n",
    "warnings.filterwarnings('ignore')"
   ]
  },
  {
   "cell_type": "markdown",
   "id": "8f346331",
   "metadata": {},
   "source": [
    "## <span style=\"color:#ff5f27;\"> 💽 Loading the Data </span>"
   ]
  },
  {
   "cell_type": "markdown",
   "id": "fe19b02c",
   "metadata": {},
   "source": [
    "#### <span style=\"color:#ff5f27;\">⛳️ Application Train dataset</span>\n",
    "\n",
    "The main training dataset contains information about each loan application at Home Credit. Every loan has its own row and is identified by the feature `sk_id_curr`. This dataset has binary target indicating if the loan was repaid(0) or not(1)."
   ]
  },
  {
   "cell_type": "code",
   "execution_count": null,
   "id": "f80905ab",
   "metadata": {},
   "outputs": [],
   "source": [
    "applications_df = pd.read_csv(\"https://repo.hops.works/dev/davit/credit_scores/applications.csv\")\n",
    "applications_df.head()"
   ]
  },
  {
   "cell_type": "code",
   "execution_count": null,
   "id": "d20080f2-8802-475c-8518-ad887d14d382",
   "metadata": {},
   "outputs": [],
   "source": [
    "applications_df.shape"
   ]
  },
  {
   "cell_type": "markdown",
   "id": "c662aa9a",
   "metadata": {},
   "source": [
    "#### <span style=\"color:#ff5f27;\">⛳️ Bureau Balance dataset</span>\n",
    "\n",
    "Dataset contains monthly data about the previous credits in bureau. Each row is one month of a previous credit, and a single previous credit can have multiple rows, one for each month of the credit length."
   ]
  },
  {
   "cell_type": "code",
   "execution_count": null,
   "id": "d7786a1a",
   "metadata": {},
   "outputs": [],
   "source": [
    "bureau_balances_df = pd.read_csv('https://repo.hops.works/dev/davit/credit_scores/bureau_balances.csv')\n",
    "bureau_balances_df.head(3)"
   ]
  },
  {
   "cell_type": "code",
   "execution_count": null,
   "id": "926038e8-3ed1-4895-be51-2d41ac41638e",
   "metadata": {},
   "outputs": [],
   "source": [
    "bureau_balances_df.shape"
   ]
  },
  {
   "cell_type": "markdown",
   "id": "74ea2756",
   "metadata": {},
   "source": [
    "#### <span style=\"color:#ff5f27;\">⛳️ Bureau Dataset</span>\n",
    "\n",
    "Dataset contains data about client's previous credits from other financial institutions. Each previous credit has its own row in bureau, but one loan in the application data can have multiple previous credits."
   ]
  },
  {
   "cell_type": "code",
   "execution_count": null,
   "id": "dea341fa",
   "metadata": {},
   "outputs": [],
   "source": [
    "bureaus_df = pd.read_csv('https://repo.hops.works/dev/davit/credit_scores/bureaus.csv')\n",
    "bureaus_df.head(3)"
   ]
  },
  {
   "cell_type": "code",
   "execution_count": null,
   "id": "8953770c-1563-44af-8f5c-2159bc233422",
   "metadata": {},
   "outputs": [],
   "source": [
    "bureaus_df.shape"
   ]
  },
  {
   "cell_type": "markdown",
   "id": "e4ebded9",
   "metadata": {},
   "source": [
    "#### <span style=\"color:#ff5f27;\">⛳️ Credit Card Balance Dataset</span>\n",
    "\n",
    "Dataset contains monthly data about previous credit cards clients have had with Home Credit. Each row is one month of a credit card balance, and a single credit card can have many rows."
   ]
  },
  {
   "cell_type": "code",
   "execution_count": null,
   "id": "987feeaf",
   "metadata": {},
   "outputs": [],
   "source": [
    "credit_card_balances_df = pd.read_csv('https://repo.hops.works/dev/davit/credit_scores/credit_card_balances.csv')\n",
    "credit_card_balances_df.head(3)"
   ]
  },
  {
   "cell_type": "code",
   "execution_count": null,
   "id": "3794cabc-f1b1-4375-86ff-7855aab2b552",
   "metadata": {},
   "outputs": [],
   "source": [
    "credit_card_balances_df.shape"
   ]
  },
  {
   "cell_type": "markdown",
   "id": "761f558e",
   "metadata": {},
   "source": [
    "#### <span style=\"color:#ff5f27;\">⛳️ Installments Payments Dataset</span>\n",
    "\n",
    "Dataset contains payment history for previous loans at Home Credit. There is one row for every made payment and one row for every missed payment."
   ]
  },
  {
   "cell_type": "code",
   "execution_count": null,
   "id": "b494b088",
   "metadata": {},
   "outputs": [],
   "source": [
    "installment_payments_df = pd.read_csv('https://repo.hops.works/dev/davit/credit_scores/installment_payments.csv')\n",
    "installment_payments_df.head(3)"
   ]
  },
  {
   "cell_type": "code",
   "execution_count": null,
   "id": "addb3009-7073-41fd-b176-ff9143757b10",
   "metadata": {},
   "outputs": [],
   "source": [
    "installment_payments_df.shape"
   ]
  },
  {
   "cell_type": "markdown",
   "id": "d1749444",
   "metadata": {},
   "source": [
    "#### <span style=\"color:#ff5f27;\">⛳️ POS (point of sales) and Cash Loans Balance Dataset</span>\n",
    "\n",
    "Monthly balance snapshots of previous POS (point of sales) and cash loans that the applicant had with Home Credit.\n",
    "\n",
    "This table has one row for each month of history of every previous credit in Home Credit (consumer credit and cash loans) related to loans in our sample"
   ]
  },
  {
   "cell_type": "code",
   "execution_count": null,
   "id": "5b10a16f",
   "metadata": {},
   "outputs": [],
   "source": [
    "pos_cash_balances_df = pd.read_csv('https://repo.hops.works/dev/davit/credit_scores/pos_cash_balances.csv')\n",
    "pos_cash_balances_df.head(3)"
   ]
  },
  {
   "cell_type": "code",
   "execution_count": null,
   "id": "ee35a51b-0b10-4b85-8e62-837a9ab04c90",
   "metadata": {},
   "outputs": [],
   "source": [
    "pos_cash_balances_df.shape"
   ]
  },
  {
   "cell_type": "markdown",
   "id": "8674301f",
   "metadata": {},
   "source": [
    "#### <span style=\"color:#ff5f27;\">⛳️ Previous Application Dataset</span>\n",
    "\n",
    "All previous applications for Home Credit loans of clients who have loans in our sample.\n",
    "\n",
    "There is one row for each previous application related to loans in our data sample."
   ]
  },
  {
   "cell_type": "code",
   "execution_count": null,
   "id": "f269dce9",
   "metadata": {},
   "outputs": [],
   "source": [
    "previous_applications_df = pd.read_csv('https://repo.hops.works/dev/davit/credit_scores/previous_applications.csv')\n",
    "previous_applications_df.head(3)"
   ]
  },
  {
   "cell_type": "code",
   "execution_count": null,
   "id": "459f6a2d-2d4c-4b52-a1fd-49f9f06801dc",
   "metadata": {},
   "outputs": [],
   "source": [
    "previous_applications_df.shape"
   ]
  },
  {
   "cell_type": "markdown",
   "id": "5bb1d5d4",
   "metadata": {},
   "source": [
    "---\n",
    "\n",
    "## <span style=\"color:#ff5f27;\"> 🛠️ Feature Engineering </span>"
   ]
  },
  {
   "cell_type": "markdown",
   "id": "a4388bf5",
   "metadata": {},
   "source": [
    "#### <span style=\"color:#ff5f27;\"> ⛳️ Dataset with amount of previous loans</span>"
   ]
  },
  {
   "cell_type": "code",
   "execution_count": null,
   "id": "11abd601",
   "metadata": {},
   "outputs": [],
   "source": [
    "# Grouping the 'bureaus_df' DataFrame by 'sk_id_curr' and counting the number of occurrences\n",
    "# Renaming the resulting column to 'previous_loan_counts'\n",
    "previous_loan_counts = bureaus_df.groupby('sk_id_curr', as_index=False)['sk_id_bureau'].count() \\\n",
    "                           .rename(columns={'sk_id_bureau': 'previous_loan_counts'})\n",
    "\n",
    "# Displaying the first 3 rows of the resulting DataFrame\n",
    "previous_loan_counts.head(3)"
   ]
  },
  {
   "cell_type": "markdown",
   "id": "36b74f22",
   "metadata": {},
   "source": [
    "---\n",
    "\n",
    "## <span style=\"color:#ff5f27;\">👨🏻‍⚖️ Dealing with missing values</span>"
   ]
  },
  {
   "cell_type": "code",
   "execution_count": null,
   "id": "76110306",
   "metadata": {},
   "outputs": [],
   "source": [
    "# Next function removes missing values.\n",
    "# If column has more than 20% of missing values -> remove.\n",
    "# The rest missing values will be dropped by rows.\n",
    "applications_df = remove_nans(applications_df)\n",
    "bureaus_df = remove_nans(bureaus_df)\n",
    "previous_applications_df = remove_nans(previous_applications_df)\n",
    "\n",
    "credit_card_balances_df.dropna(inplace=True)\n",
    "installment_payments_df.dropna(inplace=True)\n",
    "pos_cash_balances_df.dropna(inplace=True)"
   ]
  },
  {
   "cell_type": "markdown",
   "id": "2a2c1615-3cfd-4269-92d2-9692333260f7",
   "metadata": {},
   "source": [
    "---"
   ]
  },
  {
   "cell_type": "markdown",
   "id": "f6f79748",
   "metadata": {},
   "source": [
    "## <span style=\"color:#ff5f27;\"> 🔮 Connecting to Hopsworks Feature Store </span>"
   ]
  },
  {
   "cell_type": "code",
   "execution_count": null,
   "id": "b8ce6369",
   "metadata": {},
   "outputs": [],
   "source": [
    "import hopsworks\n",
    "\n",
    "project = hopsworks.login()\n",
    "\n",
    "fs = project.get_feature_store() "
   ]
  },
  {
   "cell_type": "markdown",
   "id": "ff8f9f0b",
   "metadata": {},
   "source": [
    "---\n",
    "\n",
    "## <span style=\"color:#ff5f27;\"> 🪄 Creating Feature Groups </span>\n",
    "\n",
    "A `Feature Groups` is a logical grouping of features, and experience has shown, that this grouping generally originates from the features being derived from the same data source. The `Feature Group` lets you save metadata along features.\n",
    "\n",
    "Generally, the features in a feature group are engineered together in an ingestion job. However, it is possible to have additional jobs to append features to an existing feature group. Furthermore, `Feature Groups` provide a way of defining a namespace for features, such that you can define features with the same name multiple times, but uniquely identified by the group they are contained in.\n",
    "\n",
    "> It is important to note that `Feature Groups` are not groupings of features for immediate training of Machine Learning models. Instead, to ensure reusability of features, it is possible to combine features from any number of groups into **Feature View**."
   ]
  },
  {
   "cell_type": "markdown",
   "id": "bccf2036",
   "metadata": {},
   "source": [
    "### <span style=\"color:#ff5f27;\">⛳️ Creating Applications Feature Group </span>"
   ]
  },
  {
   "cell_type": "code",
   "execution_count": null,
   "id": "a1841c22",
   "metadata": {},
   "outputs": [],
   "source": [
    "applications_fg = fs.get_or_create_feature_group(\n",
    "    name='applications',\n",
    "    version=1,\n",
    "    primary_key=['sk_id_curr'],\n",
    "    online_enabled=False,\n",
    "    event_time='datetime',\n",
    ")\n",
    "applications_fg.insert(\n",
    "    applications_df,\n",
    "    write_options={\"wait_for_job\": True},\n",
    ")"
   ]
  },
  {
   "cell_type": "markdown",
   "id": "a3bf21e8",
   "metadata": {},
   "source": [
    "#### <span style=\"color:#ff5f27;\"> ⛳️ Bureau Balance Feature Group</span>"
   ]
  },
  {
   "cell_type": "code",
   "execution_count": null,
   "id": "03aef307",
   "metadata": {},
   "outputs": [],
   "source": [
    "bureau_balances_fg = fs.get_or_create_feature_group(\n",
    "    name='bureau_balances',\n",
    "    version=1,\n",
    "    primary_key=['sk_id_bureau'],\n",
    "    online_enabled=False,\n",
    ")\n",
    "bureau_balances_fg.insert(\n",
    "    bureau_balances_df,\n",
    "    write_options={\"wait_for_job\": True},\n",
    ")"
   ]
  },
  {
   "cell_type": "markdown",
   "id": "f8c5d4f2",
   "metadata": {},
   "source": [
    "#### <span style=\"color:#ff5f27;\"> ⛳️ Bureau Feature Group</span>"
   ]
  },
  {
   "cell_type": "code",
   "execution_count": null,
   "id": "ccc0c9bf",
   "metadata": {},
   "outputs": [],
   "source": [
    "bureaus_fg = fs.get_or_create_feature_group(\n",
    "    name='bureaus',\n",
    "    version=1,\n",
    "    primary_key=['sk_id_curr','sk_id_bureau'],\n",
    "    online_enabled=False,\n",
    "    event_time='datetime',\n",
    ")\n",
    "bureaus_fg.insert(\n",
    "    bureaus_df,\n",
    "    write_options={\"wait_for_job\": True},\n",
    ")"
   ]
  },
  {
   "cell_type": "markdown",
   "id": "f61e8d9a",
   "metadata": {},
   "source": [
    "#### <span style=\"color:#ff5f27;\"> ⛳️ Previous Application Feature Group</span>"
   ]
  },
  {
   "cell_type": "code",
   "execution_count": null,
   "id": "6054f0c2",
   "metadata": {},
   "outputs": [],
   "source": [
    "previous_applications_fg = fs.get_or_create_feature_group(\n",
    "    name='previous_applications',\n",
    "    version=1,\n",
    "    primary_key=['sk_id_prev','sk_id_curr'],\n",
    "    online_enabled=False,\n",
    "    event_time='datetime',\n",
    ")\n",
    "previous_applications_fg.insert(\n",
    "    previous_applications_df,\n",
    "    write_options={\"wait_for_job\": True},\n",
    ")"
   ]
  },
  {
   "cell_type": "markdown",
   "id": "7c96104c",
   "metadata": {},
   "source": [
    "#### <span style=\"color:#ff5f27;\"> ⛳️ Pos_Cash_Balance Feature Group</span>"
   ]
  },
  {
   "cell_type": "code",
   "execution_count": null,
   "id": "16f3d825",
   "metadata": {},
   "outputs": [],
   "source": [
    "pos_cash_balances_fg = fs.get_or_create_feature_group(\n",
    "    name='pos_cash_balances',\n",
    "    version=1,\n",
    "    primary_key=['sk_id_prev','sk_id_curr'],\n",
    "    online_enabled=False,\n",
    ")\n",
    "pos_cash_balances_fg.insert(\n",
    "    pos_cash_balances_df,\n",
    "    write_options={\"wait_for_job\": True},\n",
    ")"
   ]
  },
  {
   "cell_type": "markdown",
   "id": "8cdbdfae",
   "metadata": {},
   "source": [
    "#### <span style=\"color:#ff5f27;\"> ⛳️ Instalments Payments Feature Group</span>"
   ]
  },
  {
   "cell_type": "code",
   "execution_count": null,
   "id": "1d5b3ab7",
   "metadata": {},
   "outputs": [],
   "source": [
    "installment_payments_fg = fs.get_or_create_feature_group(\n",
    "    name='installment_payments',\n",
    "    version=1,\n",
    "    primary_key=['sk_id_prev','sk_id_curr'],\n",
    "    online_enabled=False,\n",
    "    event_time='datetime',\n",
    ")\n",
    "installment_payments_fg.insert(\n",
    "    installment_payments_df,\n",
    "    write_options={\"wait_for_job\": True},\n",
    ")"
   ]
  },
  {
   "cell_type": "markdown",
   "id": "07b5b3ee",
   "metadata": {},
   "source": [
    "#### <span style=\"color:#ff5f27;\"> ⛳️ Credit Card Balance Feature Group</span>"
   ]
  },
  {
   "cell_type": "code",
   "execution_count": null,
   "id": "ef832847",
   "metadata": {},
   "outputs": [],
   "source": [
    "credit_card_balances_fg = fs.get_or_create_feature_group(\n",
    "    name='credit_card_balances',\n",
    "    version=1,\n",
    "    primary_key=['sk_id_prev','sk_id_curr'],\n",
    "    online_enabled=False,\n",
    ")\n",
    "credit_card_balances_fg.insert(\n",
    "    credit_card_balances_df,\n",
    "    write_options={\"wait_for_job\": True},\n",
    ")"
   ]
  },
  {
   "cell_type": "markdown",
   "id": "0db06e97",
   "metadata": {},
   "source": [
    "#### <span style=\"color:#ff5f27;\"> ⛳️ Previous Load Counts Feature Group</span>"
   ]
  },
  {
   "cell_type": "code",
   "execution_count": null,
   "id": "9dba1014",
   "metadata": {},
   "outputs": [],
   "source": [
    "previous_loan_counts_fg = fs.get_or_create_feature_group(\n",
    "    name='previous_loan_counts',\n",
    "    version=1,\n",
    "    primary_key=['sk_id_curr'],\n",
    "    online_enabled=False,\n",
    ")\n",
    "\n",
    "previous_loan_counts_fg.insert(\n",
    "    previous_loan_counts,\n",
    "    write_options={\"wait_for_job\": True},\n",
    ")"
   ]
  },
  {
   "cell_type": "markdown",
   "id": "53239f75",
   "metadata": {},
   "source": [
    "---\n",
    "\n",
    "## <span style=\"color:#ff5f27;\">👨🏻‍🎨 Data Exploration</span>"
   ]
  },
  {
   "cell_type": "code",
   "execution_count": null,
   "id": "b60c91ef",
   "metadata": {},
   "outputs": [],
   "source": [
    "plt.figure(figsize=(12,5))\n",
    "\n",
    "plt.pie(\n",
    "    applications_df.target.value_counts(),\n",
    "    labels=['Repayed','Not Repayed'], \n",
    "    explode=(0, 0.2),\n",
    "    shadow=True,\n",
    "    autopct='%1.1f%%',\n",
    "    radius=1.2,\n",
    ")\n",
    "\n",
    "plt.title(\"Ratio of Loan Repayed or Not\", fontsize = 15)\n",
    "plt.show()"
   ]
  },
  {
   "cell_type": "code",
   "execution_count": null,
   "id": "391d53f0",
   "metadata": {},
   "outputs": [],
   "source": [
    "plt.figure(figsize=(12,5))\n",
    "\n",
    "sns.distplot(applications_df.amt_credit)\n",
    "\n",
    "plt.title(\"Distribution of Amount of Credit\", fontsize = 15)\n",
    "plt.xlabel('Amount of credit')\n",
    "plt.show()"
   ]
  },
  {
   "cell_type": "code",
   "execution_count": null,
   "id": "f9c3c88e",
   "metadata": {},
   "outputs": [],
   "source": [
    "plt.figure(figsize=(12,5))\n",
    "\n",
    "sns.distplot(applications_df.amt_goods_price)\n",
    "\n",
    "plt.title(\"Distribution of Amount of Goods Price\", fontsize = 15)\n",
    "plt.xlabel('Amount of goods price')\n",
    "plt.show()"
   ]
  },
  {
   "cell_type": "code",
   "execution_count": null,
   "id": "d142a638",
   "metadata": {},
   "outputs": [],
   "source": [
    "plt.figure(figsize=(12,5))\n",
    "\n",
    "sns.distplot(\n",
    "    applications_df.days_birth/-365,\n",
    "    bins=30,\n",
    ")\n",
    "\n",
    "plt.title(\"Distribution of Applicant Age\", fontsize=15)\n",
    "plt.xlabel('Years')\n",
    "plt.show()"
   ]
  },
  {
   "cell_type": "code",
   "execution_count": null,
   "id": "35fe1c36",
   "metadata": {},
   "outputs": [],
   "source": [
    "temp_df = applications_df.name_type_suite.value_counts().reset_index()\n",
    "\n",
    "plt.figure(figsize=(12,5))\n",
    "\n",
    "sns.barplot(\n",
    "    data=temp_df, \n",
    "    x='name_type_suite', \n",
    "    y='count',\n",
    ")\n",
    "\n",
    "plt.title(\"Who accompanied client when applying for the  application\", fontsize=15)\n",
    "plt.xlabel('Accompanior')\n",
    "plt.ylabel('Amount')\n",
    "plt.show()"
   ]
  },
  {
   "cell_type": "code",
   "execution_count": null,
   "id": "f391fb42",
   "metadata": {},
   "outputs": [],
   "source": [
    "plt.figure(figsize=(12,5))\n",
    "\n",
    "plt.pie(\n",
    "    applications_df.flag_own_car.value_counts(),\n",
    "    labels=['Loan for other purpose','Loan for a car'],\n",
    "    explode=(0, 0.1),\n",
    "    shadow=True,\n",
    "    autopct='%1.1f%%',\n",
    "    radius=1.2,\n",
    ")\n",
    "\n",
    "plt.title(\"Ratio of loan for a car or not\", fontsize=15)\n",
    "plt.show()"
   ]
  },
  {
   "cell_type": "code",
   "execution_count": null,
   "id": "198ea486",
   "metadata": {},
   "outputs": [],
   "source": [
    "plt.figure(figsize=(12,5))\n",
    "\n",
    "plt.pie(\n",
    "    applications_df.flag_own_realty.value_counts(),\n",
    "    labels=['Loan for revalty','Loan for other purpose'], \n",
    "    explode=(0, 0.1),\n",
    "    shadow=True, \n",
    "    autopct='%1.1f%%',\n",
    "    radius=1.2,\n",
    ")\n",
    "\n",
    "plt.title(\"Ratio of realty for a car or not\", fontsize=15)\n",
    "plt.show()"
   ]
  },
  {
   "cell_type": "code",
   "execution_count": null,
   "id": "1192adb5",
   "metadata": {},
   "outputs": [],
   "source": [
    "temp_df = applications_df.name_income_type.value_counts()[:4]\n",
    "\n",
    "plt.figure(figsize=(12,5))\n",
    "\n",
    "plt.pie(\n",
    "    temp_df,\n",
    "    labels=temp_df[:4].index,\n",
    "    explode=(0, 0.075,0.1,0.1), \n",
    "    shadow=True, \n",
    "    autopct='%1.1f%%',\n",
    "    labeldistance=0.8,\n",
    "    radius=1.2,\n",
    ")\n",
    "\n",
    "plt.title(\"Income Ratio\", fontsize=15)\n",
    "plt.show()"
   ]
  },
  {
   "cell_type": "code",
   "execution_count": null,
   "id": "ef05b0f8",
   "metadata": {},
   "outputs": [],
   "source": [
    "temp_df = applications_df.name_family_status.value_counts()[:-1]\n",
    "\n",
    "plt.figure(figsize=(12,5))\n",
    "\n",
    "plt.pie(\n",
    "    temp_df,\n",
    "    labels=temp_df.index,\n",
    "    explode=(0,0.1,0.1,0.1), \n",
    "    shadow=True, \n",
    "    autopct='%1.1f%%',\n",
    "    labeldistance=1.05,\n",
    "    radius=1.2,\n",
    ")\n",
    "\n",
    "plt.title(\"Family Status Ratio\", fontsize=15)\n",
    "plt.show()"
   ]
  },
  {
   "cell_type": "code",
   "execution_count": null,
   "id": "092f6972",
   "metadata": {},
   "outputs": [],
   "source": [
    "plt.figure(figsize=(12,5))\n",
    "\n",
    "ax = sns.countplot(\n",
    "    data=applications_df,\n",
    "    x='name_education_type',\n",
    "    hue='target',\n",
    "    order=applications_df['name_education_type'].value_counts().index\n",
    ")\n",
    "\n",
    "plt.title(\"Education of who applied for loan\", fontsize=15)\n",
    "plt.xlabel('Education Type')\n",
    "plt.ylabel('Count')\n",
    "add_perc(ax,applications_df.name_education_type,5,2)\n",
    "plt.show()"
   ]
  },
  {
   "cell_type": "code",
   "execution_count": null,
   "id": "0ea22d3b",
   "metadata": {},
   "outputs": [],
   "source": [
    "temp_df = previous_applications_df.name_contract_status.value_counts()[:-1]\n",
    "\n",
    "plt.figure(figsize=(12,5))\n",
    "\n",
    "plt.pie(\n",
    "    temp_df,\n",
    "    labels=temp_df.index,\n",
    "    explode=(0,0.1,0.1), \n",
    "    shadow=True, \n",
    "    autopct='%1.1f%%',\n",
    "    labeldistance=1.05,\n",
    "    radius=1.25,\n",
    ")\n",
    "\n",
    "plt.title(\"Contract Approvement Ratio\", fontsize=15)\n",
    "plt.show()"
   ]
  },
  {
   "cell_type": "markdown",
   "id": "8f0431ac",
   "metadata": {},
   "source": [
    "---\n",
    "## <span style=\"color:#ff5f27;\">⏭️ **Next:** Part 02: Feature Pipeline </span>\n",
    "\n",
    "In the next notebook we will generate a new data for Feature Groups.\n"
   ]
  }
 ],
 "metadata": {
  "kernelspec": {
   "display_name": "Python 3 (ipykernel)",
   "language": "python",
   "name": "python3"
  },
  "language_info": {
   "codemirror_mode": {
    "name": "ipython",
    "version": 3
   },
   "file_extension": ".py",
   "mimetype": "text/x-python",
   "name": "python",
   "nbconvert_exporter": "python",
   "pygments_lexer": "ipython3",
   "version": "3.9.18"
  }
 },
 "nbformat": 4,
 "nbformat_minor": 5
}
