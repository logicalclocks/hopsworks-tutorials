{
 "cells": [
  {
   "cell_type": "markdown",
   "id": "cffc0dc6",
   "metadata": {},
   "source": [
    "# <span style='color:#ff5f27'> 👨🏻‍🏫 GCS Online External Feature Group Creation</span>\n",
    "\n",
    "Follow this [guide](https://docs.hopsworks.ai/latest/user_guides/fs/storage_connector/creation/gcs/) to set up a connection to GCS.\n",
    "\n",
    "In addition, you can read about [External Feature Groups](https://docs.hopsworks.ai/latest/user_guides/fs/feature_group/create_external/)."
   ]
  },
  {
   "cell_type": "markdown",
   "id": "6f9adfc4",
   "metadata": {},
   "source": [
    "## <span style='color:#ff5f27'> 🔮 Retrieve a Connector\n",
    "\n",
    "Firstly, connect to feature store and then retrieve your **GCS storage connector**.\n",
    "\n",
    "Replace `my_storage_connector_name` with your GCS storage connector name."
   ]
  },
  {
   "cell_type": "code",
   "execution_count": null,
   "id": "cf1507cd",
   "metadata": {},
   "outputs": [],
   "source": [
    "import hopsworks\n",
    "\n",
    "# Connect to the Hopsworks feature store\n",
    "project = hopsworks.login()\n",
    "\n",
    "# Retrieve the feature store\n",
    "feature_store = project.get_feature_store()\n",
    "\n",
    "# Retrieve storage connector\n",
    "connector = feature_store.get_storage_connector('my_storage_connector_name')"
   ]
  },
  {
   "cell_type": "markdown",
   "id": "0c115489",
   "metadata": {},
   "source": [
    "## <span style='color:#ff5f27'> 📝 Read Data </span>\n",
    "\n",
    "You can retrieve your data by passing the next parameters of the `.read()` method:\n",
    "\n",
    "- `data_format` - parquet, csv, orc, hudi, delta.\n",
    "- `path` - the full object path where your table is located.\n",
    "\n",
    "> ⚠️ **Don't** include dataset name in your path.\n",
    "\n",
    "The `path` parameter should be in the next format:\n",
    "\n",
    "`gs://{your_bucket_name}/{your_folder_name}/`\n",
    "\n",
    "Replace `your_bucket_name` and `your_folder_name` with your GCS bucket name and folder name respectively."
   ]
  },
  {
   "cell_type": "code",
   "execution_count": null,
   "id": "e755e97e",
   "metadata": {},
   "outputs": [],
   "source": [
    "# read data into dataframe using path \n",
    "df = connector.read(\n",
    "    data_format='parquet',\n",
    "    path='gs://{your_bucket_name}/{your_folder_name}/'\n",
    ")   "
   ]
  },
  {
   "cell_type": "markdown",
   "id": "05e2d958",
   "metadata": {},
   "source": [
    "> **.read()** method returns a PySpark DataFrame."
   ]
  },
  {
   "cell_type": "code",
   "execution_count": null,
   "id": "f27721ee",
   "metadata": {},
   "outputs": [],
   "source": [
    "type(df)"
   ]
  },
  {
   "cell_type": "code",
   "execution_count": null,
   "id": "ddd56739",
   "metadata": {},
   "outputs": [],
   "source": [
    "df.show(5)"
   ]
  },
  {
   "cell_type": "markdown",
   "id": "3671e91f",
   "metadata": {},
   "source": [
    "## <span style='color:#ff5f27'> ⚙️ Feature Group Creation</span>\n",
    "\n",
    "To create an **Online External Feature Group**, use `feature_store.create_external_feature_group()` method.\n",
    "\n",
    "Provide the next parameters:\n",
    "- `data_format` - data format of your table (parquet, csv, orc, hudi, delta).\n",
    "- `path` - provide a folder name where your dataset is located in the next format: `{my_folder_name}/`.\n",
    "- `storage_connector` - your **GCS Storage Connector**.\n",
    "- `online_enabled` - set to `True`."
   ]
  },
  {
   "cell_type": "code",
   "execution_count": null,
   "id": "ff97f5d5",
   "metadata": {},
   "outputs": [],
   "source": [
    "my_external_fg = feature_store.create_external_feature_group(\n",
    "    name=\"name_online_external_fg\",\n",
    "    version=1,\n",
    "    description=\"Description of the Online External GCS Table\",\n",
    "    primary_key=['pk1_name','pk2_name'],\n",
    "    event_time='event_time_col_name',\n",
    "    data_format='{my_data_format}',\n",
    "    path='{my_folder_name}/',\n",
    "    storage_connector=connector,\n",
    "    online_enabled=True,\n",
    ")"
   ]
  },
  {
   "cell_type": "markdown",
   "id": "307a742a",
   "metadata": {},
   "source": [
    "Don't forget to register a feature group metadata object in Hopsworks!"
   ]
  },
  {
   "cell_type": "code",
   "execution_count": null,
   "id": "6f2172d2",
   "metadata": {},
   "outputs": [],
   "source": [
    "my_external_fg.save()"
   ]
  },
  {
   "cell_type": "markdown",
   "id": "36630f7e",
   "metadata": {},
   "source": [
    "Now, you should be able to see your Online External Feature Group for the GCS table in the Hopsworks UI.\n",
    "\n",
    "![GCS_table](images/online_external_fg.png)"
   ]
  },
  {
   "cell_type": "markdown",
   "id": "a6d39078",
   "metadata": {},
   "source": [
    "---"
   ]
  },
  {
   "cell_type": "markdown",
   "id": "ad4b61cf",
   "metadata": {},
   "source": [
    "## <span style='color:#ff5f27'> ⬇️ Insert to online storage</span>\n",
    "\n",
    "You can enable online storage for external feature groups, however, the sync from the external storage to Hopsworks online storage needs to be done manually, so you need to acomplish the next steps:\n",
    "- Filter data to sync to online.\n",
    "- Read from external storage.\n",
    "- Insert to online storage.\n",
    "\n",
    "Replace `column_name` and `filter_value` with required **column name** and a **value** by which you will filter.\n",
    "\n",
    "> ⚠️ Don't forget that all column names are set to lower case!"
   ]
  },
  {
   "cell_type": "code",
   "execution_count": null,
   "id": "6246c291",
   "metadata": {},
   "outputs": [],
   "source": [
    "column_name = 'column_name'\n",
    "filter_value = 'filter_value'"
   ]
  },
  {
   "cell_type": "code",
   "execution_count": null,
   "id": "ad8753f6",
   "metadata": {},
   "outputs": [],
   "source": [
    "df = my_external_fg.filter(my_external_fg[column_name] == filter_value).read()\n",
    "\n",
    "df.show(1)"
   ]
  },
  {
   "cell_type": "markdown",
   "id": "48b9ff92",
   "metadata": {},
   "source": [
    "Insert filtered data to online storage in order to be able to call `.get_feature_vector()` method."
   ]
  },
  {
   "cell_type": "code",
   "execution_count": null,
   "id": "9bed7f3e",
   "metadata": {},
   "outputs": [],
   "source": [
    "my_external_fg.insert(df, wait=True)"
   ]
  },
  {
   "cell_type": "markdown",
   "id": "7d5ce575",
   "metadata": {},
   "source": [
    "## <span style='color:#ff5f27'> ⚙️ Feature View Creation</span>"
   ]
  },
  {
   "cell_type": "code",
   "execution_count": null,
   "id": "b6bac452",
   "metadata": {},
   "outputs": [],
   "source": [
    "query = my_external_fg.select_all()"
   ]
  },
  {
   "cell_type": "code",
   "execution_count": null,
   "id": "a9bc9497",
   "metadata": {},
   "outputs": [],
   "source": [
    "feature_view = feature_store.get_or_create_feature_view(\n",
    "    name='my_feature_view_name',\n",
    "    version=1,\n",
    "    query=query\n",
    ")"
   ]
  },
  {
   "cell_type": "code",
   "execution_count": null,
   "id": "697c7a8f",
   "metadata": {},
   "outputs": [],
   "source": [
    "vector = feature_view.get_feature_vector(\n",
    "    entry = {\"pk1_name\": 1, \"pk2_name\": 2}\n",
    ")\n",
    "vector"
   ]
  },
  {
   "cell_type": "markdown",
   "id": "0439d11b",
   "metadata": {},
   "source": [
    "---"
   ]
  }
 ],
 "metadata": {
  "kernelspec": {
   "display_name": "PySpark",
   "language": "python",
   "name": "pysparkkernel"
  },
  "language_info": {
   "codemirror_mode": {
    "name": "python",
    "version": 3
   },
   "mimetype": "text/x-python",
   "name": "pyspark",
   "pygments_lexer": "python3"
  }
 },
 "nbformat": 4,
 "nbformat_minor": 5
}
