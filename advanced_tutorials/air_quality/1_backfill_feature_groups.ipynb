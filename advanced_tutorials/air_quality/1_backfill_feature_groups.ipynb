{
 "cells": [
  {
   "cell_type": "markdown",
   "id": "73ee3ec9",
   "metadata": {},
   "source": [
    "# <span style=\"font-width:bold; font-size: 3rem; color:#1EB182;\"><img src=\"../../images/icon102.png\" width=\"38px\"></img> **Hopsworks Feature Store** </span>\n",
    "\n",
    "<span style=\"font-width:bold; font-size: 3rem; color:#333;\">- Part 01: Backfill Features to the Feature Store</span>\n",
    "\n",
    "[![Open In Colab](https://colab.research.google.com/assets/colab-badge.svg)](https://colab.research.google.com/github/logicalclocks/hopsworks-tutorials/blob/master/advanced_tutorials/air_quality/1_backfill_feature_groups.ipynb)\n",
    "\n",
    "\n",
    "## 🗒️ This notebook is divided into the following sections:\n",
    "1. Fetch historical data\n",
    "2. Connect to the Hopsworks feature store\n",
    "3. Create feature groups and insert them to the feature store\n",
    "\n",
    "![tutorial-flow](../../images/01_featuregroups.png)"
   ]
  },
  {
   "cell_type": "markdown",
   "id": "f04d5c5e",
   "metadata": {},
   "source": [
    "### <span style='color:#ff5f27'> 📝 Imports"
   ]
  },
  {
   "cell_type": "code",
   "execution_count": 1,
   "id": "f65f0db4-1e4b-4f28-a17c-eadcb0d0f016",
   "metadata": {
    "tags": []
   },
   "outputs": [],
   "source": [
    "!pip install folium streamlit-folium --q"
   ]
  },
  {
   "cell_type": "code",
   "execution_count": 2,
   "id": "cd165941",
   "metadata": {},
   "outputs": [],
   "source": [
    "import os\n",
    "import datetime\n",
    "import time\n",
    "import requests\n",
    "import pandas as pd\n",
    "import json\n",
    "import folium\n",
    "\n",
    "from functions import *\n",
    "import features.air_quality"
   ]
  },
  {
   "cell_type": "markdown",
   "id": "ba9903fc",
   "metadata": {},
   "source": [
    "---"
   ]
  },
  {
   "cell_type": "markdown",
   "id": "b7a1965a-0da7-4263-a68a-8b2e8cb753f1",
   "metadata": {},
   "source": [
    "## <span style='color:#ff5f27'> 🌍 Representing the Target cities </span>"
   ]
  },
  {
   "cell_type": "code",
   "execution_count": 3,
   "id": "bd578db1-69e7-4230-b3f2-807b8056283a",
   "metadata": {
    "tags": []
   },
   "outputs": [],
   "source": [
    "with open('target_cities.json') as json_file:\n",
    "    target_cities = json.load(json_file)"
   ]
  },
  {
   "cell_type": "code",
   "execution_count": 4,
   "id": "ea972c52-bfad-465d-b1e1-50eeff99b482",
   "metadata": {},
   "outputs": [
    {
     "data": {
      "text/html": [
       "<div style=\"width:100%;\"><div style=\"position:relative;width:100%;height:0;padding-bottom:60%;\"><span style=\"color:#565656\">Make this Notebook Trusted to load map: File -> Trust Notebook</span><iframe srcdoc=\"&lt;!DOCTYPE html&gt;\n",
       "&lt;html&gt;\n",
       "&lt;head&gt;\n",
       "    \n",
       "    &lt;meta http-equiv=&quot;content-type&quot; content=&quot;text/html; charset=UTF-8&quot; /&gt;\n",
       "    \n",
       "        &lt;script&gt;\n",
       "            L_NO_TOUCH = false;\n",
       "            L_DISABLE_3D = false;\n",
       "        &lt;/script&gt;\n",
       "    \n",
       "    &lt;style&gt;html, body {width: 100%;height: 100%;margin: 0;padding: 0;}&lt;/style&gt;\n",
       "    &lt;style&gt;#map {position:absolute;top:0;bottom:0;right:0;left:0;}&lt;/style&gt;\n",
       "    &lt;script src=&quot;https://cdn.jsdelivr.net/npm/leaflet@1.9.3/dist/leaflet.js&quot;&gt;&lt;/script&gt;\n",
       "    &lt;script src=&quot;https://code.jquery.com/jquery-1.12.4.min.js&quot;&gt;&lt;/script&gt;\n",
       "    &lt;script src=&quot;https://cdn.jsdelivr.net/npm/bootstrap@5.2.2/dist/js/bootstrap.bundle.min.js&quot;&gt;&lt;/script&gt;\n",
       "    &lt;script src=&quot;https://cdnjs.cloudflare.com/ajax/libs/Leaflet.awesome-markers/2.0.2/leaflet.awesome-markers.js&quot;&gt;&lt;/script&gt;\n",
       "    &lt;link rel=&quot;stylesheet&quot; href=&quot;https://cdn.jsdelivr.net/npm/leaflet@1.9.3/dist/leaflet.css&quot;/&gt;\n",
       "    &lt;link rel=&quot;stylesheet&quot; href=&quot;https://cdn.jsdelivr.net/npm/bootstrap@5.2.2/dist/css/bootstrap.min.css&quot;/&gt;\n",
       "    &lt;link rel=&quot;stylesheet&quot; href=&quot;https://netdna.bootstrapcdn.com/bootstrap/3.0.0/css/bootstrap.min.css&quot;/&gt;\n",
       "    &lt;link rel=&quot;stylesheet&quot; href=&quot;https://cdn.jsdelivr.net/npm/@fortawesome/fontawesome-free@6.2.0/css/all.min.css&quot;/&gt;\n",
       "    &lt;link rel=&quot;stylesheet&quot; href=&quot;https://cdnjs.cloudflare.com/ajax/libs/Leaflet.awesome-markers/2.0.2/leaflet.awesome-markers.css&quot;/&gt;\n",
       "    &lt;link rel=&quot;stylesheet&quot; href=&quot;https://cdn.jsdelivr.net/gh/python-visualization/folium/folium/templates/leaflet.awesome.rotate.min.css&quot;/&gt;\n",
       "    \n",
       "            &lt;meta name=&quot;viewport&quot; content=&quot;width=device-width,\n",
       "                initial-scale=1.0, maximum-scale=1.0, user-scalable=no&quot; /&gt;\n",
       "            &lt;style&gt;\n",
       "                #map_59b7c28b262ce7c88041a503797b7321 {\n",
       "                    position: relative;\n",
       "                    width: 100.0%;\n",
       "                    height: 100.0%;\n",
       "                    left: 0.0%;\n",
       "                    top: 0.0%;\n",
       "                }\n",
       "                .leaflet-container { font-size: 1rem; }\n",
       "            &lt;/style&gt;\n",
       "        \n",
       "&lt;/head&gt;\n",
       "&lt;body&gt;\n",
       "    \n",
       "    \n",
       "            &lt;div class=&quot;folium-map&quot; id=&quot;map_59b7c28b262ce7c88041a503797b7321&quot; &gt;&lt;/div&gt;\n",
       "        \n",
       "&lt;/body&gt;\n",
       "&lt;script&gt;\n",
       "    \n",
       "    \n",
       "            var map_59b7c28b262ce7c88041a503797b7321 = L.map(\n",
       "                &quot;map_59b7c28b262ce7c88041a503797b7321&quot;,\n",
       "                {\n",
       "                    center: [42.57, -44.092],\n",
       "                    crs: L.CRS.EPSG3857,\n",
       "                    zoom: 3,\n",
       "                    zoomControl: true,\n",
       "                    preferCanvas: false,\n",
       "                }\n",
       "            );\n",
       "\n",
       "            \n",
       "\n",
       "        \n",
       "    \n",
       "            var tile_layer_874744729234fcb3f53657626081f19b = L.tileLayer(\n",
       "                &quot;https://{s}.tile.openstreetmap.org/{z}/{x}/{y}.png&quot;,\n",
       "                {&quot;attribution&quot;: &quot;Data by \\u0026copy; \\u003ca target=\\&quot;_blank\\&quot; href=\\&quot;http://openstreetmap.org\\&quot;\\u003eOpenStreetMap\\u003c/a\\u003e, under \\u003ca target=\\&quot;_blank\\&quot; href=\\&quot;http://www.openstreetmap.org/copyright\\&quot;\\u003eODbL\\u003c/a\\u003e.&quot;, &quot;detectRetina&quot;: false, &quot;maxNativeZoom&quot;: 18, &quot;maxZoom&quot;: 18, &quot;minZoom&quot;: 0, &quot;noWrap&quot;: false, &quot;opacity&quot;: 1, &quot;subdomains&quot;: &quot;abc&quot;, &quot;tms&quot;: false}\n",
       "            ).addTo(map_59b7c28b262ce7c88041a503797b7321);\n",
       "        \n",
       "    \n",
       "            var circle_marker_b2ba928842bb33d24141f7ddc6de4c34 = L.circleMarker(\n",
       "                [47.49022, -121.77278],\n",
       "                {&quot;bubblingMouseEvents&quot;: true, &quot;color&quot;: &quot;#3388ff&quot;, &quot;dashArray&quot;: null, &quot;dashOffset&quot;: null, &quot;fill&quot;: false, &quot;fillColor&quot;: &quot;#3388ff&quot;, &quot;fillOpacity&quot;: 0.2, &quot;fillRule&quot;: &quot;evenodd&quot;, &quot;lineCap&quot;: &quot;round&quot;, &quot;lineJoin&quot;: &quot;round&quot;, &quot;opacity&quot;: 1.0, &quot;radius&quot;: 10, &quot;stroke&quot;: true, &quot;weight&quot;: 3}\n",
       "            ).addTo(map_59b7c28b262ce7c88041a503797b7321);\n",
       "        \n",
       "    \n",
       "        var popup_0d66fd2772f8d1a18e9719faa2906a65 = L.popup({&quot;maxWidth&quot;: &quot;100%&quot;});\n",
       "\n",
       "        \n",
       "            \n",
       "                var html_5be0fa942f722031ec8967c14e8216cd = $(`&lt;div id=&quot;html_5be0fa942f722031ec8967c14e8216cd&quot; style=&quot;width: 100.0%; height: 100.0%;&quot;&gt;NORTH BEND - NORTH BEND WAY&lt;/div&gt;`)[0];\n",
       "                popup_0d66fd2772f8d1a18e9719faa2906a65.setContent(html_5be0fa942f722031ec8967c14e8216cd);\n",
       "            \n",
       "        \n",
       "\n",
       "        circle_marker_b2ba928842bb33d24141f7ddc6de4c34.bindPopup(popup_0d66fd2772f8d1a18e9719faa2906a65)\n",
       "        ;\n",
       "\n",
       "        \n",
       "    \n",
       "    \n",
       "            var circle_marker_1f7a428d123a904ef8df3b3d00cf68c2 = L.circleMarker(\n",
       "                [47.755, -122.2806],\n",
       "                {&quot;bubblingMouseEvents&quot;: true, &quot;color&quot;: &quot;#3388ff&quot;, &quot;dashArray&quot;: null, &quot;dashOffset&quot;: null, &quot;fill&quot;: false, &quot;fillColor&quot;: &quot;#3388ff&quot;, &quot;fillOpacity&quot;: 0.2, &quot;fillRule&quot;: &quot;evenodd&quot;, &quot;lineCap&quot;: &quot;round&quot;, &quot;lineJoin&quot;: &quot;round&quot;, &quot;opacity&quot;: 1.0, &quot;radius&quot;: 10, &quot;stroke&quot;: true, &quot;weight&quot;: 3}\n",
       "            ).addTo(map_59b7c28b262ce7c88041a503797b7321);\n",
       "        \n",
       "    \n",
       "        var popup_03e05ed55520f2503c36178017e637b1 = L.popup({&quot;maxWidth&quot;: &quot;100%&quot;});\n",
       "\n",
       "        \n",
       "            \n",
       "                var html_41c38faf5f3b376c8173df30ceaab638 = $(`&lt;div id=&quot;html_41c38faf5f3b376c8173df30ceaab638&quot; style=&quot;width: 100.0%; height: 100.0%;&quot;&gt;LAKE FOREST PARK TOWNE CENTER&lt;/div&gt;`)[0];\n",
       "                popup_03e05ed55520f2503c36178017e637b1.setContent(html_41c38faf5f3b376c8173df30ceaab638);\n",
       "            \n",
       "        \n",
       "\n",
       "        circle_marker_1f7a428d123a904ef8df3b3d00cf68c2.bindPopup(popup_03e05ed55520f2503c36178017e637b1)\n",
       "        ;\n",
       "\n",
       "        \n",
       "    \n",
       "    \n",
       "            var circle_marker_7f82a9d5a79573576ef573d70a8d2967 = L.circleMarker(\n",
       "                [47.55975, -122.33827],\n",
       "                {&quot;bubblingMouseEvents&quot;: true, &quot;color&quot;: &quot;#3388ff&quot;, &quot;dashArray&quot;: null, &quot;dashOffset&quot;: null, &quot;fill&quot;: false, &quot;fillColor&quot;: &quot;#3388ff&quot;, &quot;fillOpacity&quot;: 0.2, &quot;fillRule&quot;: &quot;evenodd&quot;, &quot;lineCap&quot;: &quot;round&quot;, &quot;lineJoin&quot;: &quot;round&quot;, &quot;opacity&quot;: 1.0, &quot;radius&quot;: 10, &quot;stroke&quot;: true, &quot;weight&quot;: 3}\n",
       "            ).addTo(map_59b7c28b262ce7c88041a503797b7321);\n",
       "        \n",
       "    \n",
       "        var popup_ba10520d02f39551c219b67a6664c972 = L.popup({&quot;maxWidth&quot;: &quot;100%&quot;});\n",
       "\n",
       "        \n",
       "            \n",
       "                var html_a256803bfe914d53afd6f08e94dd7c9d = $(`&lt;div id=&quot;html_a256803bfe914d53afd6f08e94dd7c9d&quot; style=&quot;width: 100.0%; height: 100.0%;&quot;&gt;SEATTLE - DUWAMISH&lt;/div&gt;`)[0];\n",
       "                popup_ba10520d02f39551c219b67a6664c972.setContent(html_a256803bfe914d53afd6f08e94dd7c9d);\n",
       "            \n",
       "        \n",
       "\n",
       "        circle_marker_7f82a9d5a79573576ef573d70a8d2967.bindPopup(popup_ba10520d02f39551c219b67a6664c972)\n",
       "        ;\n",
       "\n",
       "        \n",
       "    \n",
       "    \n",
       "            var circle_marker_d292d5edff9edfa38f56df2a1a3edfab = L.circleMarker(\n",
       "                [47.56824, -122.30863],\n",
       "                {&quot;bubblingMouseEvents&quot;: true, &quot;color&quot;: &quot;#3388ff&quot;, &quot;dashArray&quot;: null, &quot;dashOffset&quot;: null, &quot;fill&quot;: false, &quot;fillColor&quot;: &quot;#3388ff&quot;, &quot;fillOpacity&quot;: 0.2, &quot;fillRule&quot;: &quot;evenodd&quot;, &quot;lineCap&quot;: &quot;round&quot;, &quot;lineJoin&quot;: &quot;round&quot;, &quot;opacity&quot;: 1.0, &quot;radius&quot;: 10, &quot;stroke&quot;: true, &quot;weight&quot;: 3}\n",
       "            ).addTo(map_59b7c28b262ce7c88041a503797b7321);\n",
       "        \n",
       "    \n",
       "        var popup_f1e29643c6d7148e8fe09b1cbf7aff98 = L.popup({&quot;maxWidth&quot;: &quot;100%&quot;});\n",
       "\n",
       "        \n",
       "            \n",
       "                var html_a1d6b4a4f4c2eb6469d6597caf220ed6 = $(`&lt;div id=&quot;html_a1d6b4a4f4c2eb6469d6597caf220ed6&quot; style=&quot;width: 100.0%; height: 100.0%;&quot;&gt;SEATTLE - BEACON HILL&lt;/div&gt;`)[0];\n",
       "                popup_f1e29643c6d7148e8fe09b1cbf7aff98.setContent(html_a1d6b4a4f4c2eb6469d6597caf220ed6);\n",
       "            \n",
       "        \n",
       "\n",
       "        circle_marker_d292d5edff9edfa38f56df2a1a3edfab.bindPopup(popup_f1e29643c6d7148e8fe09b1cbf7aff98)\n",
       "        ;\n",
       "\n",
       "        \n",
       "    \n",
       "    \n",
       "            var circle_marker_782835d3713ba1c889729cdd957ddf40 = L.circleMarker(\n",
       "                [47.53091, -122.3208],\n",
       "                {&quot;bubblingMouseEvents&quot;: true, &quot;color&quot;: &quot;#3388ff&quot;, &quot;dashArray&quot;: null, &quot;dashOffset&quot;: null, &quot;fill&quot;: false, &quot;fillColor&quot;: &quot;#3388ff&quot;, &quot;fillOpacity&quot;: 0.2, &quot;fillRule&quot;: &quot;evenodd&quot;, &quot;lineCap&quot;: &quot;round&quot;, &quot;lineJoin&quot;: &quot;round&quot;, &quot;opacity&quot;: 1.0, &quot;radius&quot;: 10, &quot;stroke&quot;: true, &quot;weight&quot;: 3}\n",
       "            ).addTo(map_59b7c28b262ce7c88041a503797b7321);\n",
       "        \n",
       "    \n",
       "        var popup_8d138ce024205985ee205e3f958b59df = L.popup({&quot;maxWidth&quot;: &quot;100%&quot;});\n",
       "\n",
       "        \n",
       "            \n",
       "                var html_225d81e673657b0f11367d77e719fe73 = $(`&lt;div id=&quot;html_225d81e673657b0f11367d77e719fe73&quot; style=&quot;width: 100.0%; height: 100.0%;&quot;&gt;SEATTLE - SOUTH PARK #2&lt;/div&gt;`)[0];\n",
       "                popup_8d138ce024205985ee205e3f958b59df.setContent(html_225d81e673657b0f11367d77e719fe73);\n",
       "            \n",
       "        \n",
       "\n",
       "        circle_marker_782835d3713ba1c889729cdd957ddf40.bindPopup(popup_8d138ce024205985ee205e3f958b59df)\n",
       "        ;\n",
       "\n",
       "        \n",
       "    \n",
       "    \n",
       "            var circle_marker_83781ea8692e205b7589a5e4402551ab = L.circleMarker(\n",
       "                [47.38611, -122.23028],\n",
       "                {&quot;bubblingMouseEvents&quot;: true, &quot;color&quot;: &quot;#3388ff&quot;, &quot;dashArray&quot;: null, &quot;dashOffset&quot;: null, &quot;fill&quot;: false, &quot;fillColor&quot;: &quot;#3388ff&quot;, &quot;fillOpacity&quot;: 0.2, &quot;fillRule&quot;: &quot;evenodd&quot;, &quot;lineCap&quot;: &quot;round&quot;, &quot;lineJoin&quot;: &quot;round&quot;, &quot;opacity&quot;: 1.0, &quot;radius&quot;: 10, &quot;stroke&quot;: true, &quot;weight&quot;: 3}\n",
       "            ).addTo(map_59b7c28b262ce7c88041a503797b7321);\n",
       "        \n",
       "    \n",
       "        var popup_705b5f41fdb32a46ea52ec51eb96b153 = L.popup({&quot;maxWidth&quot;: &quot;100%&quot;});\n",
       "\n",
       "        \n",
       "            \n",
       "                var html_c01cc1b75600ff324b05be32cf36704c = $(`&lt;div id=&quot;html_c01cc1b75600ff324b05be32cf36704c&quot; style=&quot;width: 100.0%; height: 100.0%;&quot;&gt;KENT - JAMES &amp; CENTRAL&lt;/div&gt;`)[0];\n",
       "                popup_705b5f41fdb32a46ea52ec51eb96b153.setContent(html_c01cc1b75600ff324b05be32cf36704c);\n",
       "            \n",
       "        \n",
       "\n",
       "        circle_marker_83781ea8692e205b7589a5e4402551ab.bindPopup(popup_705b5f41fdb32a46ea52ec51eb96b153)\n",
       "        ;\n",
       "\n",
       "        \n",
       "    \n",
       "    \n",
       "            var circle_marker_28b2a8fbdf51f244c7fd954bbb22e685 = L.circleMarker(\n",
       "                [47.1864, -122.4517],\n",
       "                {&quot;bubblingMouseEvents&quot;: true, &quot;color&quot;: &quot;#3388ff&quot;, &quot;dashArray&quot;: null, &quot;dashOffset&quot;: null, &quot;fill&quot;: false, &quot;fillColor&quot;: &quot;#3388ff&quot;, &quot;fillOpacity&quot;: 0.2, &quot;fillRule&quot;: &quot;evenodd&quot;, &quot;lineCap&quot;: &quot;round&quot;, &quot;lineJoin&quot;: &quot;round&quot;, &quot;opacity&quot;: 1.0, &quot;radius&quot;: 10, &quot;stroke&quot;: true, &quot;weight&quot;: 3}\n",
       "            ).addTo(map_59b7c28b262ce7c88041a503797b7321);\n",
       "        \n",
       "    \n",
       "        var popup_3d4f17d164e554abfe1f46f35a946085 = L.popup({&quot;maxWidth&quot;: &quot;100%&quot;});\n",
       "\n",
       "        \n",
       "            \n",
       "                var html_5766853ed809a63ef94c613b1dd46546 = $(`&lt;div id=&quot;html_5766853ed809a63ef94c613b1dd46546&quot; style=&quot;width: 100.0%; height: 100.0%;&quot;&gt;TACOMA - L STREET&lt;/div&gt;`)[0];\n",
       "                popup_3d4f17d164e554abfe1f46f35a946085.setContent(html_5766853ed809a63ef94c613b1dd46546);\n",
       "            \n",
       "        \n",
       "\n",
       "        circle_marker_28b2a8fbdf51f244c7fd954bbb22e685.bindPopup(popup_3d4f17d164e554abfe1f46f35a946085)\n",
       "        ;\n",
       "\n",
       "        \n",
       "    \n",
       "    \n",
       "            var circle_marker_314984ec2578d311ad45374d0be2313f = L.circleMarker(\n",
       "                [47.2656, -122.3858],\n",
       "                {&quot;bubblingMouseEvents&quot;: true, &quot;color&quot;: &quot;#3388ff&quot;, &quot;dashArray&quot;: null, &quot;dashOffset&quot;: null, &quot;fill&quot;: false, &quot;fillColor&quot;: &quot;#3388ff&quot;, &quot;fillOpacity&quot;: 0.2, &quot;fillRule&quot;: &quot;evenodd&quot;, &quot;lineCap&quot;: &quot;round&quot;, &quot;lineJoin&quot;: &quot;round&quot;, &quot;opacity&quot;: 1.0, &quot;radius&quot;: 10, &quot;stroke&quot;: true, &quot;weight&quot;: 3}\n",
       "            ).addTo(map_59b7c28b262ce7c88041a503797b7321);\n",
       "        \n",
       "    \n",
       "        var popup_460d9194bcc563c36b61146e81964276 = L.popup({&quot;maxWidth&quot;: &quot;100%&quot;});\n",
       "\n",
       "        \n",
       "            \n",
       "                var html_9f2c1bc1282bc8c8bfb2e4e9737dcb74 = $(`&lt;div id=&quot;html_9f2c1bc1282bc8c8bfb2e4e9737dcb74&quot; style=&quot;width: 100.0%; height: 100.0%;&quot;&gt;TACOMA - ALEXANDER AVE&lt;/div&gt;`)[0];\n",
       "                popup_460d9194bcc563c36b61146e81964276.setContent(html_9f2c1bc1282bc8c8bfb2e4e9737dcb74);\n",
       "            \n",
       "        \n",
       "\n",
       "        circle_marker_314984ec2578d311ad45374d0be2313f.bindPopup(popup_460d9194bcc563c36b61146e81964276)\n",
       "        ;\n",
       "\n",
       "        \n",
       "    \n",
       "    \n",
       "            var circle_marker_fbc541072812997f5d7bbebb3585c1d8 = L.circleMarker(\n",
       "                [48.2469, -121.6031],\n",
       "                {&quot;bubblingMouseEvents&quot;: true, &quot;color&quot;: &quot;#3388ff&quot;, &quot;dashArray&quot;: null, &quot;dashOffset&quot;: null, &quot;fill&quot;: false, &quot;fillColor&quot;: &quot;#3388ff&quot;, &quot;fillOpacity&quot;: 0.2, &quot;fillRule&quot;: &quot;evenodd&quot;, &quot;lineCap&quot;: &quot;round&quot;, &quot;lineJoin&quot;: &quot;round&quot;, &quot;opacity&quot;: 1.0, &quot;radius&quot;: 10, &quot;stroke&quot;: true, &quot;weight&quot;: 3}\n",
       "            ).addTo(map_59b7c28b262ce7c88041a503797b7321);\n",
       "        \n",
       "    \n",
       "        var popup_a92e3db0906cc159d9447f4d32cc8c60 = L.popup({&quot;maxWidth&quot;: &quot;100%&quot;});\n",
       "\n",
       "        \n",
       "            \n",
       "                var html_82d43faa3c87a114f68bc23404b929e6 = $(`&lt;div id=&quot;html_82d43faa3c87a114f68bc23404b929e6&quot; style=&quot;width: 100.0%; height: 100.0%;&quot;&gt;DARRINGTON - FIR ST (Darrington High School)&lt;/div&gt;`)[0];\n",
       "                popup_a92e3db0906cc159d9447f4d32cc8c60.setContent(html_82d43faa3c87a114f68bc23404b929e6);\n",
       "            \n",
       "        \n",
       "\n",
       "        circle_marker_fbc541072812997f5d7bbebb3585c1d8.bindPopup(popup_a92e3db0906cc159d9447f4d32cc8c60)\n",
       "        ;\n",
       "\n",
       "        \n",
       "    \n",
       "    \n",
       "            var circle_marker_4036aa8b8d8e3b08c4503c2ba2366d66 = L.circleMarker(\n",
       "                [48.05432, -122.17153],\n",
       "                {&quot;bubblingMouseEvents&quot;: true, &quot;color&quot;: &quot;#3388ff&quot;, &quot;dashArray&quot;: null, &quot;dashOffset&quot;: null, &quot;fill&quot;: false, &quot;fillColor&quot;: &quot;#3388ff&quot;, &quot;fillOpacity&quot;: 0.2, &quot;fillRule&quot;: &quot;evenodd&quot;, &quot;lineCap&quot;: &quot;round&quot;, &quot;lineJoin&quot;: &quot;round&quot;, &quot;opacity&quot;: 1.0, &quot;radius&quot;: 10, &quot;stroke&quot;: true, &quot;weight&quot;: 3}\n",
       "            ).addTo(map_59b7c28b262ce7c88041a503797b7321);\n",
       "        \n",
       "    \n",
       "        var popup_871e4b24d00856f3a6551d0310c2d2e8 = L.popup({&quot;maxWidth&quot;: &quot;100%&quot;});\n",
       "\n",
       "        \n",
       "            \n",
       "                var html_b361f2bee35ef6988a438ab762918414 = $(`&lt;div id=&quot;html_b361f2bee35ef6988a438ab762918414&quot; style=&quot;width: 100.0%; height: 100.0%;&quot;&gt;MARYSVILLE - 7TH AVE (Marysville Junior High)&lt;/div&gt;`)[0];\n",
       "                popup_871e4b24d00856f3a6551d0310c2d2e8.setContent(html_b361f2bee35ef6988a438ab762918414);\n",
       "            \n",
       "        \n",
       "\n",
       "        circle_marker_4036aa8b8d8e3b08c4503c2ba2366d66.bindPopup(popup_871e4b24d00856f3a6551d0310c2d2e8)\n",
       "        ;\n",
       "\n",
       "        \n",
       "    \n",
       "    \n",
       "            var circle_marker_567999d11b8861487f3227ccc59508ab = L.circleMarker(\n",
       "                [47.59722, -122.31972],\n",
       "                {&quot;bubblingMouseEvents&quot;: true, &quot;color&quot;: &quot;#3388ff&quot;, &quot;dashArray&quot;: null, &quot;dashOffset&quot;: null, &quot;fill&quot;: false, &quot;fillColor&quot;: &quot;#3388ff&quot;, &quot;fillOpacity&quot;: 0.2, &quot;fillRule&quot;: &quot;evenodd&quot;, &quot;lineCap&quot;: &quot;round&quot;, &quot;lineJoin&quot;: &quot;round&quot;, &quot;opacity&quot;: 1.0, &quot;radius&quot;: 10, &quot;stroke&quot;: true, &quot;weight&quot;: 3}\n",
       "            ).addTo(map_59b7c28b262ce7c88041a503797b7321);\n",
       "        \n",
       "    \n",
       "        var popup_98c59aa342cbd0d2defff1425e6bdec6 = L.popup({&quot;maxWidth&quot;: &quot;100%&quot;});\n",
       "\n",
       "        \n",
       "            \n",
       "                var html_1381b22e6fb7f79323d85c8e8f4073a5 = $(`&lt;div id=&quot;html_1381b22e6fb7f79323d85c8e8f4073a5&quot; style=&quot;width: 100.0%; height: 100.0%;&quot;&gt;Seattle-10th &amp; Weller&lt;/div&gt;`)[0];\n",
       "                popup_98c59aa342cbd0d2defff1425e6bdec6.setContent(html_1381b22e6fb7f79323d85c8e8f4073a5);\n",
       "            \n",
       "        \n",
       "\n",
       "        circle_marker_567999d11b8861487f3227ccc59508ab.bindPopup(popup_98c59aa342cbd0d2defff1425e6bdec6)\n",
       "        ;\n",
       "\n",
       "        \n",
       "    \n",
       "    \n",
       "            var circle_marker_52d4866b439e57882d311b684fcd2f70 = L.circleMarker(\n",
       "                [47.60086, -122.1484],\n",
       "                {&quot;bubblingMouseEvents&quot;: true, &quot;color&quot;: &quot;#3388ff&quot;, &quot;dashArray&quot;: null, &quot;dashOffset&quot;: null, &quot;fill&quot;: false, &quot;fillColor&quot;: &quot;#3388ff&quot;, &quot;fillOpacity&quot;: 0.2, &quot;fillRule&quot;: &quot;evenodd&quot;, &quot;lineCap&quot;: &quot;round&quot;, &quot;lineJoin&quot;: &quot;round&quot;, &quot;opacity&quot;: 1.0, &quot;radius&quot;: 10, &quot;stroke&quot;: true, &quot;weight&quot;: 3}\n",
       "            ).addTo(map_59b7c28b262ce7c88041a503797b7321);\n",
       "        \n",
       "    \n",
       "        var popup_7aeb3f0f50af08141e800da7e4adb687 = L.popup({&quot;maxWidth&quot;: &quot;100%&quot;});\n",
       "\n",
       "        \n",
       "            \n",
       "                var html_27ea848814edeadc109972f8ea76608e = $(`&lt;div id=&quot;html_27ea848814edeadc109972f8ea76608e&quot; style=&quot;width: 100.0%; height: 100.0%;&quot;&gt;Bellevue-SE 12th St&lt;/div&gt;`)[0];\n",
       "                popup_7aeb3f0f50af08141e800da7e4adb687.setContent(html_27ea848814edeadc109972f8ea76608e);\n",
       "            \n",
       "        \n",
       "\n",
       "        circle_marker_52d4866b439e57882d311b684fcd2f70.bindPopup(popup_7aeb3f0f50af08141e800da7e4adb687)\n",
       "        ;\n",
       "\n",
       "        \n",
       "    \n",
       "    \n",
       "            var circle_marker_955b259472a22be60030b14709fbd928 = L.circleMarker(\n",
       "                [47.22634, -122.46256],\n",
       "                {&quot;bubblingMouseEvents&quot;: true, &quot;color&quot;: &quot;#3388ff&quot;, &quot;dashArray&quot;: null, &quot;dashOffset&quot;: null, &quot;fill&quot;: false, &quot;fillColor&quot;: &quot;#3388ff&quot;, &quot;fillOpacity&quot;: 0.2, &quot;fillRule&quot;: &quot;evenodd&quot;, &quot;lineCap&quot;: &quot;round&quot;, &quot;lineJoin&quot;: &quot;round&quot;, &quot;opacity&quot;: 1.0, &quot;radius&quot;: 10, &quot;stroke&quot;: true, &quot;weight&quot;: 3}\n",
       "            ).addTo(map_59b7c28b262ce7c88041a503797b7321);\n",
       "        \n",
       "    \n",
       "        var popup_fc0d087cb2627eb4a813d97031bf7641 = L.popup({&quot;maxWidth&quot;: &quot;100%&quot;});\n",
       "\n",
       "        \n",
       "            \n",
       "                var html_0ce11ae2d6f2c2c1d6c34f73b19fd2d5 = $(`&lt;div id=&quot;html_0ce11ae2d6f2c2c1d6c34f73b19fd2d5&quot; style=&quot;width: 100.0%; height: 100.0%;&quot;&gt;Tacoma-S 36th St&lt;/div&gt;`)[0];\n",
       "                popup_fc0d087cb2627eb4a813d97031bf7641.setContent(html_0ce11ae2d6f2c2c1d6c34f73b19fd2d5);\n",
       "            \n",
       "        \n",
       "\n",
       "        circle_marker_955b259472a22be60030b14709fbd928.bindPopup(popup_fc0d087cb2627eb4a813d97031bf7641)\n",
       "        ;\n",
       "\n",
       "        \n",
       "    \n",
       "    \n",
       "            var circle_marker_e92d612305a782555d46cd5322c32893 = L.circleMarker(\n",
       "                [47.49854, -122.27839],\n",
       "                {&quot;bubblingMouseEvents&quot;: true, &quot;color&quot;: &quot;#3388ff&quot;, &quot;dashArray&quot;: null, &quot;dashOffset&quot;: null, &quot;fill&quot;: false, &quot;fillColor&quot;: &quot;#3388ff&quot;, &quot;fillOpacity&quot;: 0.2, &quot;fillRule&quot;: &quot;evenodd&quot;, &quot;lineCap&quot;: &quot;round&quot;, &quot;lineJoin&quot;: &quot;round&quot;, &quot;opacity&quot;: 1.0, &quot;radius&quot;: 10, &quot;stroke&quot;: true, &quot;weight&quot;: 3}\n",
       "            ).addTo(map_59b7c28b262ce7c88041a503797b7321);\n",
       "        \n",
       "    \n",
       "        var popup_ac52b719a895227913f394cfaafbf144 = L.popup({&quot;maxWidth&quot;: &quot;100%&quot;});\n",
       "\n",
       "        \n",
       "            \n",
       "                var html_ff947392dd9bd43101804e7f6d02b92a = $(`&lt;div id=&quot;html_ff947392dd9bd43101804e7f6d02b92a&quot; style=&quot;width: 100.0%; height: 100.0%;&quot;&gt;Tukwila Allentown&lt;/div&gt;`)[0];\n",
       "                popup_ac52b719a895227913f394cfaafbf144.setContent(html_ff947392dd9bd43101804e7f6d02b92a);\n",
       "            \n",
       "        \n",
       "\n",
       "        circle_marker_e92d612305a782555d46cd5322c32893.bindPopup(popup_ac52b719a895227913f394cfaafbf144)\n",
       "        ;\n",
       "\n",
       "        \n",
       "    \n",
       "    \n",
       "            var circle_marker_e68511fee4cf6eec2bf0106fdfc747eb = L.circleMarker(\n",
       "                [48.06534, -122.28519],\n",
       "                {&quot;bubblingMouseEvents&quot;: true, &quot;color&quot;: &quot;#3388ff&quot;, &quot;dashArray&quot;: null, &quot;dashOffset&quot;: null, &quot;fill&quot;: false, &quot;fillColor&quot;: &quot;#3388ff&quot;, &quot;fillOpacity&quot;: 0.2, &quot;fillRule&quot;: &quot;evenodd&quot;, &quot;lineCap&quot;: &quot;round&quot;, &quot;lineJoin&quot;: &quot;round&quot;, &quot;opacity&quot;: 1.0, &quot;radius&quot;: 10, &quot;stroke&quot;: true, &quot;weight&quot;: 3}\n",
       "            ).addTo(map_59b7c28b262ce7c88041a503797b7321);\n",
       "        \n",
       "    \n",
       "        var popup_9ed21fe89d2a15b556bdd2184acbab7a = L.popup({&quot;maxWidth&quot;: &quot;100%&quot;});\n",
       "\n",
       "        \n",
       "            \n",
       "                var html_52cb64e6a4bef0257a0295c1c32fe104 = $(`&lt;div id=&quot;html_52cb64e6a4bef0257a0295c1c32fe104&quot; style=&quot;width: 100.0%; height: 100.0%;&quot;&gt;Tulalip-Totem Beach Rd&lt;/div&gt;`)[0];\n",
       "                popup_9ed21fe89d2a15b556bdd2184acbab7a.setContent(html_52cb64e6a4bef0257a0295c1c32fe104);\n",
       "            \n",
       "        \n",
       "\n",
       "        circle_marker_e68511fee4cf6eec2bf0106fdfc747eb.bindPopup(popup_9ed21fe89d2a15b556bdd2184acbab7a)\n",
       "        ;\n",
       "\n",
       "        \n",
       "    \n",
       "    \n",
       "            var circle_marker_c11d869904071fff91a70fc5589f7701 = L.circleMarker(\n",
       "                [52.37, 4.89],\n",
       "                {&quot;bubblingMouseEvents&quot;: true, &quot;color&quot;: &quot;#3388ff&quot;, &quot;dashArray&quot;: null, &quot;dashOffset&quot;: null, &quot;fill&quot;: false, &quot;fillColor&quot;: &quot;#3388ff&quot;, &quot;fillOpacity&quot;: 0.2, &quot;fillRule&quot;: &quot;evenodd&quot;, &quot;lineCap&quot;: &quot;round&quot;, &quot;lineJoin&quot;: &quot;round&quot;, &quot;opacity&quot;: 1.0, &quot;radius&quot;: 10, &quot;stroke&quot;: true, &quot;weight&quot;: 3}\n",
       "            ).addTo(map_59b7c28b262ce7c88041a503797b7321);\n",
       "        \n",
       "    \n",
       "        var popup_2fb925d70915233cd557ee562fab7114 = L.popup({&quot;maxWidth&quot;: &quot;100%&quot;});\n",
       "\n",
       "        \n",
       "            \n",
       "                var html_fb8fd83595bbca099850128bf50385b7 = $(`&lt;div id=&quot;html_fb8fd83595bbca099850128bf50385b7&quot; style=&quot;width: 100.0%; height: 100.0%;&quot;&gt;Amsterdam&lt;/div&gt;`)[0];\n",
       "                popup_2fb925d70915233cd557ee562fab7114.setContent(html_fb8fd83595bbca099850128bf50385b7);\n",
       "            \n",
       "        \n",
       "\n",
       "        circle_marker_c11d869904071fff91a70fc5589f7701.bindPopup(popup_2fb925d70915233cd557ee562fab7114)\n",
       "        ;\n",
       "\n",
       "        \n",
       "    \n",
       "    \n",
       "            var circle_marker_0b13739ae58be2493c399caef9ebdc02 = L.circleMarker(\n",
       "                [37.98, 23.73],\n",
       "                {&quot;bubblingMouseEvents&quot;: true, &quot;color&quot;: &quot;#3388ff&quot;, &quot;dashArray&quot;: null, &quot;dashOffset&quot;: null, &quot;fill&quot;: false, &quot;fillColor&quot;: &quot;#3388ff&quot;, &quot;fillOpacity&quot;: 0.2, &quot;fillRule&quot;: &quot;evenodd&quot;, &quot;lineCap&quot;: &quot;round&quot;, &quot;lineJoin&quot;: &quot;round&quot;, &quot;opacity&quot;: 1.0, &quot;radius&quot;: 10, &quot;stroke&quot;: true, &quot;weight&quot;: 3}\n",
       "            ).addTo(map_59b7c28b262ce7c88041a503797b7321);\n",
       "        \n",
       "    \n",
       "        var popup_f47a1fba15f6e0be70640a5812e81ed2 = L.popup({&quot;maxWidth&quot;: &quot;100%&quot;});\n",
       "\n",
       "        \n",
       "            \n",
       "                var html_3567184f81bd04de443cbb64af85405f = $(`&lt;div id=&quot;html_3567184f81bd04de443cbb64af85405f&quot; style=&quot;width: 100.0%; height: 100.0%;&quot;&gt;Athina&lt;/div&gt;`)[0];\n",
       "                popup_f47a1fba15f6e0be70640a5812e81ed2.setContent(html_3567184f81bd04de443cbb64af85405f);\n",
       "            \n",
       "        \n",
       "\n",
       "        circle_marker_0b13739ae58be2493c399caef9ebdc02.bindPopup(popup_f47a1fba15f6e0be70640a5812e81ed2)\n",
       "        ;\n",
       "\n",
       "        \n",
       "    \n",
       "    \n",
       "            var circle_marker_5786c0f4f59a06cae1d20483b1800dd6 = L.circleMarker(\n",
       "                [52.52, 13.39],\n",
       "                {&quot;bubblingMouseEvents&quot;: true, &quot;color&quot;: &quot;#3388ff&quot;, &quot;dashArray&quot;: null, &quot;dashOffset&quot;: null, &quot;fill&quot;: false, &quot;fillColor&quot;: &quot;#3388ff&quot;, &quot;fillOpacity&quot;: 0.2, &quot;fillRule&quot;: &quot;evenodd&quot;, &quot;lineCap&quot;: &quot;round&quot;, &quot;lineJoin&quot;: &quot;round&quot;, &quot;opacity&quot;: 1.0, &quot;radius&quot;: 10, &quot;stroke&quot;: true, &quot;weight&quot;: 3}\n",
       "            ).addTo(map_59b7c28b262ce7c88041a503797b7321);\n",
       "        \n",
       "    \n",
       "        var popup_68d96b7f1a0d4dfdafdeb726829759e7 = L.popup({&quot;maxWidth&quot;: &quot;100%&quot;});\n",
       "\n",
       "        \n",
       "            \n",
       "                var html_4812b3436db23245d5db4a01ab6de029 = $(`&lt;div id=&quot;html_4812b3436db23245d5db4a01ab6de029&quot; style=&quot;width: 100.0%; height: 100.0%;&quot;&gt;Berlin&lt;/div&gt;`)[0];\n",
       "                popup_68d96b7f1a0d4dfdafdeb726829759e7.setContent(html_4812b3436db23245d5db4a01ab6de029);\n",
       "            \n",
       "        \n",
       "\n",
       "        circle_marker_5786c0f4f59a06cae1d20483b1800dd6.bindPopup(popup_68d96b7f1a0d4dfdafdeb726829759e7)\n",
       "        ;\n",
       "\n",
       "        \n",
       "    \n",
       "    \n",
       "            var circle_marker_7467fc67d9000340e32729982c712bce = L.circleMarker(\n",
       "                [54.37, 18.61],\n",
       "                {&quot;bubblingMouseEvents&quot;: true, &quot;color&quot;: &quot;#3388ff&quot;, &quot;dashArray&quot;: null, &quot;dashOffset&quot;: null, &quot;fill&quot;: false, &quot;fillColor&quot;: &quot;#3388ff&quot;, &quot;fillOpacity&quot;: 0.2, &quot;fillRule&quot;: &quot;evenodd&quot;, &quot;lineCap&quot;: &quot;round&quot;, &quot;lineJoin&quot;: &quot;round&quot;, &quot;opacity&quot;: 1.0, &quot;radius&quot;: 10, &quot;stroke&quot;: true, &quot;weight&quot;: 3}\n",
       "            ).addTo(map_59b7c28b262ce7c88041a503797b7321);\n",
       "        \n",
       "    \n",
       "        var popup_b4f858cbec82a3a06591b34120f6b160 = L.popup({&quot;maxWidth&quot;: &quot;100%&quot;});\n",
       "\n",
       "        \n",
       "            \n",
       "                var html_dcdb6f8d32ebc24dc7be15c49b901c34 = $(`&lt;div id=&quot;html_dcdb6f8d32ebc24dc7be15c49b901c34&quot; style=&quot;width: 100.0%; height: 100.0%;&quot;&gt;Gdansk&lt;/div&gt;`)[0];\n",
       "                popup_b4f858cbec82a3a06591b34120f6b160.setContent(html_dcdb6f8d32ebc24dc7be15c49b901c34);\n",
       "            \n",
       "        \n",
       "\n",
       "        circle_marker_7467fc67d9000340e32729982c712bce.bindPopup(popup_b4f858cbec82a3a06591b34120f6b160)\n",
       "        ;\n",
       "\n",
       "        \n",
       "    \n",
       "    \n",
       "            var circle_marker_ad3097dbc6c99625d8ac7e33bac0a722 = L.circleMarker(\n",
       "                [50.06, 19.94],\n",
       "                {&quot;bubblingMouseEvents&quot;: true, &quot;color&quot;: &quot;#3388ff&quot;, &quot;dashArray&quot;: null, &quot;dashOffset&quot;: null, &quot;fill&quot;: false, &quot;fillColor&quot;: &quot;#3388ff&quot;, &quot;fillOpacity&quot;: 0.2, &quot;fillRule&quot;: &quot;evenodd&quot;, &quot;lineCap&quot;: &quot;round&quot;, &quot;lineJoin&quot;: &quot;round&quot;, &quot;opacity&quot;: 1.0, &quot;radius&quot;: 10, &quot;stroke&quot;: true, &quot;weight&quot;: 3}\n",
       "            ).addTo(map_59b7c28b262ce7c88041a503797b7321);\n",
       "        \n",
       "    \n",
       "        var popup_055566802ecece9e12ae6f6d1cf6b59f = L.popup({&quot;maxWidth&quot;: &quot;100%&quot;});\n",
       "\n",
       "        \n",
       "            \n",
       "                var html_a73e897baa9b7ae8cefbb1b6d541995f = $(`&lt;div id=&quot;html_a73e897baa9b7ae8cefbb1b6d541995f&quot; style=&quot;width: 100.0%; height: 100.0%;&quot;&gt;Kraków&lt;/div&gt;`)[0];\n",
       "                popup_055566802ecece9e12ae6f6d1cf6b59f.setContent(html_a73e897baa9b7ae8cefbb1b6d541995f);\n",
       "            \n",
       "        \n",
       "\n",
       "        circle_marker_ad3097dbc6c99625d8ac7e33bac0a722.bindPopup(popup_055566802ecece9e12ae6f6d1cf6b59f)\n",
       "        ;\n",
       "\n",
       "        \n",
       "    \n",
       "    \n",
       "            var circle_marker_544a5aa0d09702d79dd17b46b21cf230 = L.circleMarker(\n",
       "                [51.51, -0.13],\n",
       "                {&quot;bubblingMouseEvents&quot;: true, &quot;color&quot;: &quot;#3388ff&quot;, &quot;dashArray&quot;: null, &quot;dashOffset&quot;: null, &quot;fill&quot;: false, &quot;fillColor&quot;: &quot;#3388ff&quot;, &quot;fillOpacity&quot;: 0.2, &quot;fillRule&quot;: &quot;evenodd&quot;, &quot;lineCap&quot;: &quot;round&quot;, &quot;lineJoin&quot;: &quot;round&quot;, &quot;opacity&quot;: 1.0, &quot;radius&quot;: 10, &quot;stroke&quot;: true, &quot;weight&quot;: 3}\n",
       "            ).addTo(map_59b7c28b262ce7c88041a503797b7321);\n",
       "        \n",
       "    \n",
       "        var popup_cdf242d0edcf0ec227a5aea44055b712 = L.popup({&quot;maxWidth&quot;: &quot;100%&quot;});\n",
       "\n",
       "        \n",
       "            \n",
       "                var html_8cd9c90f23bffc11aab72b396b1de588 = $(`&lt;div id=&quot;html_8cd9c90f23bffc11aab72b396b1de588&quot; style=&quot;width: 100.0%; height: 100.0%;&quot;&gt;London&lt;/div&gt;`)[0];\n",
       "                popup_cdf242d0edcf0ec227a5aea44055b712.setContent(html_8cd9c90f23bffc11aab72b396b1de588);\n",
       "            \n",
       "        \n",
       "\n",
       "        circle_marker_544a5aa0d09702d79dd17b46b21cf230.bindPopup(popup_cdf242d0edcf0ec227a5aea44055b712)\n",
       "        ;\n",
       "\n",
       "        \n",
       "    \n",
       "    \n",
       "            var circle_marker_f5b7e81d98895528e94f4e9087433464 = L.circleMarker(\n",
       "                [40.42, -3.7],\n",
       "                {&quot;bubblingMouseEvents&quot;: true, &quot;color&quot;: &quot;#3388ff&quot;, &quot;dashArray&quot;: null, &quot;dashOffset&quot;: null, &quot;fill&quot;: false, &quot;fillColor&quot;: &quot;#3388ff&quot;, &quot;fillOpacity&quot;: 0.2, &quot;fillRule&quot;: &quot;evenodd&quot;, &quot;lineCap&quot;: &quot;round&quot;, &quot;lineJoin&quot;: &quot;round&quot;, &quot;opacity&quot;: 1.0, &quot;radius&quot;: 10, &quot;stroke&quot;: true, &quot;weight&quot;: 3}\n",
       "            ).addTo(map_59b7c28b262ce7c88041a503797b7321);\n",
       "        \n",
       "    \n",
       "        var popup_8a76cff91b7f57d955c889b06a4625da = L.popup({&quot;maxWidth&quot;: &quot;100%&quot;});\n",
       "\n",
       "        \n",
       "            \n",
       "                var html_7bc5c4522e1214329f907b35de0bbd46 = $(`&lt;div id=&quot;html_7bc5c4522e1214329f907b35de0bbd46&quot; style=&quot;width: 100.0%; height: 100.0%;&quot;&gt;Madrid&lt;/div&gt;`)[0];\n",
       "                popup_8a76cff91b7f57d955c889b06a4625da.setContent(html_7bc5c4522e1214329f907b35de0bbd46);\n",
       "            \n",
       "        \n",
       "\n",
       "        circle_marker_f5b7e81d98895528e94f4e9087433464.bindPopup(popup_8a76cff91b7f57d955c889b06a4625da)\n",
       "        ;\n",
       "\n",
       "        \n",
       "    \n",
       "    \n",
       "            var circle_marker_8be2b55e5eb3d1d8b7510280179cea14 = L.circleMarker(\n",
       "                [43.3, 5.37],\n",
       "                {&quot;bubblingMouseEvents&quot;: true, &quot;color&quot;: &quot;#3388ff&quot;, &quot;dashArray&quot;: null, &quot;dashOffset&quot;: null, &quot;fill&quot;: false, &quot;fillColor&quot;: &quot;#3388ff&quot;, &quot;fillOpacity&quot;: 0.2, &quot;fillRule&quot;: &quot;evenodd&quot;, &quot;lineCap&quot;: &quot;round&quot;, &quot;lineJoin&quot;: &quot;round&quot;, &quot;opacity&quot;: 1.0, &quot;radius&quot;: 10, &quot;stroke&quot;: true, &quot;weight&quot;: 3}\n",
       "            ).addTo(map_59b7c28b262ce7c88041a503797b7321);\n",
       "        \n",
       "    \n",
       "        var popup_645bb1a35031dbcd021cc33dfa79b17a = L.popup({&quot;maxWidth&quot;: &quot;100%&quot;});\n",
       "\n",
       "        \n",
       "            \n",
       "                var html_fe3395840d0ee5e3ef58f0c448c4e86d = $(`&lt;div id=&quot;html_fe3395840d0ee5e3ef58f0c448c4e86d&quot; style=&quot;width: 100.0%; height: 100.0%;&quot;&gt;Marseille&lt;/div&gt;`)[0];\n",
       "                popup_645bb1a35031dbcd021cc33dfa79b17a.setContent(html_fe3395840d0ee5e3ef58f0c448c4e86d);\n",
       "            \n",
       "        \n",
       "\n",
       "        circle_marker_8be2b55e5eb3d1d8b7510280179cea14.bindPopup(popup_645bb1a35031dbcd021cc33dfa79b17a)\n",
       "        ;\n",
       "\n",
       "        \n",
       "    \n",
       "    \n",
       "            var circle_marker_d5f00a757e9e01e830573a4750eb484b = L.circleMarker(\n",
       "                [45.46, 9.19],\n",
       "                {&quot;bubblingMouseEvents&quot;: true, &quot;color&quot;: &quot;#3388ff&quot;, &quot;dashArray&quot;: null, &quot;dashOffset&quot;: null, &quot;fill&quot;: false, &quot;fillColor&quot;: &quot;#3388ff&quot;, &quot;fillOpacity&quot;: 0.2, &quot;fillRule&quot;: &quot;evenodd&quot;, &quot;lineCap&quot;: &quot;round&quot;, &quot;lineJoin&quot;: &quot;round&quot;, &quot;opacity&quot;: 1.0, &quot;radius&quot;: 10, &quot;stroke&quot;: true, &quot;weight&quot;: 3}\n",
       "            ).addTo(map_59b7c28b262ce7c88041a503797b7321);\n",
       "        \n",
       "    \n",
       "        var popup_75432286b57caa68d92333203e705309 = L.popup({&quot;maxWidth&quot;: &quot;100%&quot;});\n",
       "\n",
       "        \n",
       "            \n",
       "                var html_2d94ee0b1bb8f13ca5e3383fc8f74911 = $(`&lt;div id=&quot;html_2d94ee0b1bb8f13ca5e3383fc8f74911&quot; style=&quot;width: 100.0%; height: 100.0%;&quot;&gt;Milano&lt;/div&gt;`)[0];\n",
       "                popup_75432286b57caa68d92333203e705309.setContent(html_2d94ee0b1bb8f13ca5e3383fc8f74911);\n",
       "            \n",
       "        \n",
       "\n",
       "        circle_marker_d5f00a757e9e01e830573a4750eb484b.bindPopup(popup_75432286b57caa68d92333203e705309)\n",
       "        ;\n",
       "\n",
       "        \n",
       "    \n",
       "    \n",
       "            var circle_marker_f0151bafe94d47070c6810da0be495ce = L.circleMarker(\n",
       "                [48.14, 11.58],\n",
       "                {&quot;bubblingMouseEvents&quot;: true, &quot;color&quot;: &quot;#3388ff&quot;, &quot;dashArray&quot;: null, &quot;dashOffset&quot;: null, &quot;fill&quot;: false, &quot;fillColor&quot;: &quot;#3388ff&quot;, &quot;fillOpacity&quot;: 0.2, &quot;fillRule&quot;: &quot;evenodd&quot;, &quot;lineCap&quot;: &quot;round&quot;, &quot;lineJoin&quot;: &quot;round&quot;, &quot;opacity&quot;: 1.0, &quot;radius&quot;: 10, &quot;stroke&quot;: true, &quot;weight&quot;: 3}\n",
       "            ).addTo(map_59b7c28b262ce7c88041a503797b7321);\n",
       "        \n",
       "    \n",
       "        var popup_d14705b8d4999f245bc2d4ff2496127f = L.popup({&quot;maxWidth&quot;: &quot;100%&quot;});\n",
       "\n",
       "        \n",
       "            \n",
       "                var html_d1442750a8d8954c56a3053ca0229e26 = $(`&lt;div id=&quot;html_d1442750a8d8954c56a3053ca0229e26&quot; style=&quot;width: 100.0%; height: 100.0%;&quot;&gt;München&lt;/div&gt;`)[0];\n",
       "                popup_d14705b8d4999f245bc2d4ff2496127f.setContent(html_d1442750a8d8954c56a3053ca0229e26);\n",
       "            \n",
       "        \n",
       "\n",
       "        circle_marker_f0151bafe94d47070c6810da0be495ce.bindPopup(popup_d14705b8d4999f245bc2d4ff2496127f)\n",
       "        ;\n",
       "\n",
       "        \n",
       "    \n",
       "    \n",
       "            var circle_marker_3fdaf693c95350b2d5a20769270bc6e8 = L.circleMarker(\n",
       "                [40.84, 14.25],\n",
       "                {&quot;bubblingMouseEvents&quot;: true, &quot;color&quot;: &quot;#3388ff&quot;, &quot;dashArray&quot;: null, &quot;dashOffset&quot;: null, &quot;fill&quot;: false, &quot;fillColor&quot;: &quot;#3388ff&quot;, &quot;fillOpacity&quot;: 0.2, &quot;fillRule&quot;: &quot;evenodd&quot;, &quot;lineCap&quot;: &quot;round&quot;, &quot;lineJoin&quot;: &quot;round&quot;, &quot;opacity&quot;: 1.0, &quot;radius&quot;: 10, &quot;stroke&quot;: true, &quot;weight&quot;: 3}\n",
       "            ).addTo(map_59b7c28b262ce7c88041a503797b7321);\n",
       "        \n",
       "    \n",
       "        var popup_eb0ed6a0450d42b6f45de49ec96ed8d3 = L.popup({&quot;maxWidth&quot;: &quot;100%&quot;});\n",
       "\n",
       "        \n",
       "            \n",
       "                var html_a65777e9e469a68ddc622dd04256fbec = $(`&lt;div id=&quot;html_a65777e9e469a68ddc622dd04256fbec&quot; style=&quot;width: 100.0%; height: 100.0%;&quot;&gt;Napoli&lt;/div&gt;`)[0];\n",
       "                popup_eb0ed6a0450d42b6f45de49ec96ed8d3.setContent(html_a65777e9e469a68ddc622dd04256fbec);\n",
       "            \n",
       "        \n",
       "\n",
       "        circle_marker_3fdaf693c95350b2d5a20769270bc6e8.bindPopup(popup_eb0ed6a0450d42b6f45de49ec96ed8d3)\n",
       "        ;\n",
       "\n",
       "        \n",
       "    \n",
       "    \n",
       "            var circle_marker_e8aabd595523eb8290fde797afd1e8a1 = L.circleMarker(\n",
       "                [48.85, 2.35],\n",
       "                {&quot;bubblingMouseEvents&quot;: true, &quot;color&quot;: &quot;#3388ff&quot;, &quot;dashArray&quot;: null, &quot;dashOffset&quot;: null, &quot;fill&quot;: false, &quot;fillColor&quot;: &quot;#3388ff&quot;, &quot;fillOpacity&quot;: 0.2, &quot;fillRule&quot;: &quot;evenodd&quot;, &quot;lineCap&quot;: &quot;round&quot;, &quot;lineJoin&quot;: &quot;round&quot;, &quot;opacity&quot;: 1.0, &quot;radius&quot;: 10, &quot;stroke&quot;: true, &quot;weight&quot;: 3}\n",
       "            ).addTo(map_59b7c28b262ce7c88041a503797b7321);\n",
       "        \n",
       "    \n",
       "        var popup_513ce42901d6506a4f31c6d57500e771 = L.popup({&quot;maxWidth&quot;: &quot;100%&quot;});\n",
       "\n",
       "        \n",
       "            \n",
       "                var html_90fb56fcf96d56811e6508976198cea0 = $(`&lt;div id=&quot;html_90fb56fcf96d56811e6508976198cea0&quot; style=&quot;width: 100.0%; height: 100.0%;&quot;&gt;Paris&lt;/div&gt;`)[0];\n",
       "                popup_513ce42901d6506a4f31c6d57500e771.setContent(html_90fb56fcf96d56811e6508976198cea0);\n",
       "            \n",
       "        \n",
       "\n",
       "        circle_marker_e8aabd595523eb8290fde797afd1e8a1.bindPopup(popup_513ce42901d6506a4f31c6d57500e771)\n",
       "        ;\n",
       "\n",
       "        \n",
       "    \n",
       "    \n",
       "            var circle_marker_c810ab4a40cfca77b809a72ce4cf1877 = L.circleMarker(\n",
       "                [37.39, -6.0],\n",
       "                {&quot;bubblingMouseEvents&quot;: true, &quot;color&quot;: &quot;#3388ff&quot;, &quot;dashArray&quot;: null, &quot;dashOffset&quot;: null, &quot;fill&quot;: false, &quot;fillColor&quot;: &quot;#3388ff&quot;, &quot;fillOpacity&quot;: 0.2, &quot;fillRule&quot;: &quot;evenodd&quot;, &quot;lineCap&quot;: &quot;round&quot;, &quot;lineJoin&quot;: &quot;round&quot;, &quot;opacity&quot;: 1.0, &quot;radius&quot;: 10, &quot;stroke&quot;: true, &quot;weight&quot;: 3}\n",
       "            ).addTo(map_59b7c28b262ce7c88041a503797b7321);\n",
       "        \n",
       "    \n",
       "        var popup_0b2f99ad2475022b0cc13b2dbeb3b126 = L.popup({&quot;maxWidth&quot;: &quot;100%&quot;});\n",
       "\n",
       "        \n",
       "            \n",
       "                var html_46ab111313d65e102acad53c361d6053 = $(`&lt;div id=&quot;html_46ab111313d65e102acad53c361d6053&quot; style=&quot;width: 100.0%; height: 100.0%;&quot;&gt;Sevilla&lt;/div&gt;`)[0];\n",
       "                popup_0b2f99ad2475022b0cc13b2dbeb3b126.setContent(html_46ab111313d65e102acad53c361d6053);\n",
       "            \n",
       "        \n",
       "\n",
       "        circle_marker_c810ab4a40cfca77b809a72ce4cf1877.bindPopup(popup_0b2f99ad2475022b0cc13b2dbeb3b126)\n",
       "        ;\n",
       "\n",
       "        \n",
       "    \n",
       "    \n",
       "            var circle_marker_0924c40f1eb406b78c2ba004fb5bdf1e = L.circleMarker(\n",
       "                [59.33, 18.07],\n",
       "                {&quot;bubblingMouseEvents&quot;: true, &quot;color&quot;: &quot;#3388ff&quot;, &quot;dashArray&quot;: null, &quot;dashOffset&quot;: null, &quot;fill&quot;: false, &quot;fillColor&quot;: &quot;#3388ff&quot;, &quot;fillOpacity&quot;: 0.2, &quot;fillRule&quot;: &quot;evenodd&quot;, &quot;lineCap&quot;: &quot;round&quot;, &quot;lineJoin&quot;: &quot;round&quot;, &quot;opacity&quot;: 1.0, &quot;radius&quot;: 10, &quot;stroke&quot;: true, &quot;weight&quot;: 3}\n",
       "            ).addTo(map_59b7c28b262ce7c88041a503797b7321);\n",
       "        \n",
       "    \n",
       "        var popup_7f1ad320506c27da61d006dc039073ce = L.popup({&quot;maxWidth&quot;: &quot;100%&quot;});\n",
       "\n",
       "        \n",
       "            \n",
       "                var html_5715fdbaa1841732d3733b1f0c0c4920 = $(`&lt;div id=&quot;html_5715fdbaa1841732d3733b1f0c0c4920&quot; style=&quot;width: 100.0%; height: 100.0%;&quot;&gt;Stockholm&lt;/div&gt;`)[0];\n",
       "                popup_7f1ad320506c27da61d006dc039073ce.setContent(html_5715fdbaa1841732d3733b1f0c0c4920);\n",
       "            \n",
       "        \n",
       "\n",
       "        circle_marker_0924c40f1eb406b78c2ba004fb5bdf1e.bindPopup(popup_7f1ad320506c27da61d006dc039073ce)\n",
       "        ;\n",
       "\n",
       "        \n",
       "    \n",
       "    \n",
       "            var circle_marker_f3a62dd5fe44e4f2e7d34bbc128d8a07 = L.circleMarker(\n",
       "                [59.44, 24.75],\n",
       "                {&quot;bubblingMouseEvents&quot;: true, &quot;color&quot;: &quot;#3388ff&quot;, &quot;dashArray&quot;: null, &quot;dashOffset&quot;: null, &quot;fill&quot;: false, &quot;fillColor&quot;: &quot;#3388ff&quot;, &quot;fillOpacity&quot;: 0.2, &quot;fillRule&quot;: &quot;evenodd&quot;, &quot;lineCap&quot;: &quot;round&quot;, &quot;lineJoin&quot;: &quot;round&quot;, &quot;opacity&quot;: 1.0, &quot;radius&quot;: 10, &quot;stroke&quot;: true, &quot;weight&quot;: 3}\n",
       "            ).addTo(map_59b7c28b262ce7c88041a503797b7321);\n",
       "        \n",
       "    \n",
       "        var popup_693df866fa70642d24432f690cd4fd9c = L.popup({&quot;maxWidth&quot;: &quot;100%&quot;});\n",
       "\n",
       "        \n",
       "            \n",
       "                var html_646e92d6bf766e7ab247c9b3333c5f3e = $(`&lt;div id=&quot;html_646e92d6bf766e7ab247c9b3333c5f3e&quot; style=&quot;width: 100.0%; height: 100.0%;&quot;&gt;Tallinn&lt;/div&gt;`)[0];\n",
       "                popup_693df866fa70642d24432f690cd4fd9c.setContent(html_646e92d6bf766e7ab247c9b3333c5f3e);\n",
       "            \n",
       "        \n",
       "\n",
       "        circle_marker_f3a62dd5fe44e4f2e7d34bbc128d8a07.bindPopup(popup_693df866fa70642d24432f690cd4fd9c)\n",
       "        ;\n",
       "\n",
       "        \n",
       "    \n",
       "    \n",
       "            var circle_marker_561dc0d0cf30682407f71edea65b6471 = L.circleMarker(\n",
       "                [43.21, 27.92],\n",
       "                {&quot;bubblingMouseEvents&quot;: true, &quot;color&quot;: &quot;#3388ff&quot;, &quot;dashArray&quot;: null, &quot;dashOffset&quot;: null, &quot;fill&quot;: false, &quot;fillColor&quot;: &quot;#3388ff&quot;, &quot;fillOpacity&quot;: 0.2, &quot;fillRule&quot;: &quot;evenodd&quot;, &quot;lineCap&quot;: &quot;round&quot;, &quot;lineJoin&quot;: &quot;round&quot;, &quot;opacity&quot;: 1.0, &quot;radius&quot;: 10, &quot;stroke&quot;: true, &quot;weight&quot;: 3}\n",
       "            ).addTo(map_59b7c28b262ce7c88041a503797b7321);\n",
       "        \n",
       "    \n",
       "        var popup_85813e9ba1b18916ecd0f94ef67b74f6 = L.popup({&quot;maxWidth&quot;: &quot;100%&quot;});\n",
       "\n",
       "        \n",
       "            \n",
       "                var html_0565acba234d50454f7ac05ace27a8f0 = $(`&lt;div id=&quot;html_0565acba234d50454f7ac05ace27a8f0&quot; style=&quot;width: 100.0%; height: 100.0%;&quot;&gt;Varna&lt;/div&gt;`)[0];\n",
       "                popup_85813e9ba1b18916ecd0f94ef67b74f6.setContent(html_0565acba234d50454f7ac05ace27a8f0);\n",
       "            \n",
       "        \n",
       "\n",
       "        circle_marker_561dc0d0cf30682407f71edea65b6471.bindPopup(popup_85813e9ba1b18916ecd0f94ef67b74f6)\n",
       "        ;\n",
       "\n",
       "        \n",
       "    \n",
       "    \n",
       "            var circle_marker_5567f2b866937780471bd944998e8941 = L.circleMarker(\n",
       "                [48.21, 16.37],\n",
       "                {&quot;bubblingMouseEvents&quot;: true, &quot;color&quot;: &quot;#3388ff&quot;, &quot;dashArray&quot;: null, &quot;dashOffset&quot;: null, &quot;fill&quot;: false, &quot;fillColor&quot;: &quot;#3388ff&quot;, &quot;fillOpacity&quot;: 0.2, &quot;fillRule&quot;: &quot;evenodd&quot;, &quot;lineCap&quot;: &quot;round&quot;, &quot;lineJoin&quot;: &quot;round&quot;, &quot;opacity&quot;: 1.0, &quot;radius&quot;: 10, &quot;stroke&quot;: true, &quot;weight&quot;: 3}\n",
       "            ).addTo(map_59b7c28b262ce7c88041a503797b7321);\n",
       "        \n",
       "    \n",
       "        var popup_0cd975132bf0466e0c10e9ab3714999f = L.popup({&quot;maxWidth&quot;: &quot;100%&quot;});\n",
       "\n",
       "        \n",
       "            \n",
       "                var html_08f129ad4d09a90df924356865f14903 = $(`&lt;div id=&quot;html_08f129ad4d09a90df924356865f14903&quot; style=&quot;width: 100.0%; height: 100.0%;&quot;&gt;Wien&lt;/div&gt;`)[0];\n",
       "                popup_0cd975132bf0466e0c10e9ab3714999f.setContent(html_08f129ad4d09a90df924356865f14903);\n",
       "            \n",
       "        \n",
       "\n",
       "        circle_marker_5567f2b866937780471bd944998e8941.bindPopup(popup_0cd975132bf0466e0c10e9ab3714999f)\n",
       "        ;\n",
       "\n",
       "        \n",
       "    \n",
       "    \n",
       "            var circle_marker_e83f9c631831ae2d54c2a70c46ce882f = L.circleMarker(\n",
       "                [35.08, -106.65],\n",
       "                {&quot;bubblingMouseEvents&quot;: true, &quot;color&quot;: &quot;#3388ff&quot;, &quot;dashArray&quot;: null, &quot;dashOffset&quot;: null, &quot;fill&quot;: false, &quot;fillColor&quot;: &quot;#3388ff&quot;, &quot;fillOpacity&quot;: 0.2, &quot;fillRule&quot;: &quot;evenodd&quot;, &quot;lineCap&quot;: &quot;round&quot;, &quot;lineJoin&quot;: &quot;round&quot;, &quot;opacity&quot;: 1.0, &quot;radius&quot;: 10, &quot;stroke&quot;: true, &quot;weight&quot;: 3}\n",
       "            ).addTo(map_59b7c28b262ce7c88041a503797b7321);\n",
       "        \n",
       "    \n",
       "        var popup_5f6ba3547c444d8e259aff6b9f6d3c87 = L.popup({&quot;maxWidth&quot;: &quot;100%&quot;});\n",
       "\n",
       "        \n",
       "            \n",
       "                var html_8b8e4a6b201eca2394a6104e41489c3f = $(`&lt;div id=&quot;html_8b8e4a6b201eca2394a6104e41489c3f&quot; style=&quot;width: 100.0%; height: 100.0%;&quot;&gt;Albuquerque&lt;/div&gt;`)[0];\n",
       "                popup_5f6ba3547c444d8e259aff6b9f6d3c87.setContent(html_8b8e4a6b201eca2394a6104e41489c3f);\n",
       "            \n",
       "        \n",
       "\n",
       "        circle_marker_e83f9c631831ae2d54c2a70c46ce882f.bindPopup(popup_5f6ba3547c444d8e259aff6b9f6d3c87)\n",
       "        ;\n",
       "\n",
       "        \n",
       "    \n",
       "    \n",
       "            var circle_marker_c749e325ddfcd554d84205c03e6ed117 = L.circleMarker(\n",
       "                [33.75, -84.39],\n",
       "                {&quot;bubblingMouseEvents&quot;: true, &quot;color&quot;: &quot;#3388ff&quot;, &quot;dashArray&quot;: null, &quot;dashOffset&quot;: null, &quot;fill&quot;: false, &quot;fillColor&quot;: &quot;#3388ff&quot;, &quot;fillOpacity&quot;: 0.2, &quot;fillRule&quot;: &quot;evenodd&quot;, &quot;lineCap&quot;: &quot;round&quot;, &quot;lineJoin&quot;: &quot;round&quot;, &quot;opacity&quot;: 1.0, &quot;radius&quot;: 10, &quot;stroke&quot;: true, &quot;weight&quot;: 3}\n",
       "            ).addTo(map_59b7c28b262ce7c88041a503797b7321);\n",
       "        \n",
       "    \n",
       "        var popup_0c543b9c709d162ad8e733d5db69d3c3 = L.popup({&quot;maxWidth&quot;: &quot;100%&quot;});\n",
       "\n",
       "        \n",
       "            \n",
       "                var html_10dbc63186e5c3f74afa8a43d45e459e = $(`&lt;div id=&quot;html_10dbc63186e5c3f74afa8a43d45e459e&quot; style=&quot;width: 100.0%; height: 100.0%;&quot;&gt;Atlanta&lt;/div&gt;`)[0];\n",
       "                popup_0c543b9c709d162ad8e733d5db69d3c3.setContent(html_10dbc63186e5c3f74afa8a43d45e459e);\n",
       "            \n",
       "        \n",
       "\n",
       "        circle_marker_c749e325ddfcd554d84205c03e6ed117.bindPopup(popup_0c543b9c709d162ad8e733d5db69d3c3)\n",
       "        ;\n",
       "\n",
       "        \n",
       "    \n",
       "    \n",
       "            var circle_marker_c559a7df39ff13322d39261162329e22 = L.circleMarker(\n",
       "                [41.88, -87.62],\n",
       "                {&quot;bubblingMouseEvents&quot;: true, &quot;color&quot;: &quot;#3388ff&quot;, &quot;dashArray&quot;: null, &quot;dashOffset&quot;: null, &quot;fill&quot;: false, &quot;fillColor&quot;: &quot;#3388ff&quot;, &quot;fillOpacity&quot;: 0.2, &quot;fillRule&quot;: &quot;evenodd&quot;, &quot;lineCap&quot;: &quot;round&quot;, &quot;lineJoin&quot;: &quot;round&quot;, &quot;opacity&quot;: 1.0, &quot;radius&quot;: 10, &quot;stroke&quot;: true, &quot;weight&quot;: 3}\n",
       "            ).addTo(map_59b7c28b262ce7c88041a503797b7321);\n",
       "        \n",
       "    \n",
       "        var popup_12e0c7fada902f6bc40b8c46d1adaa8f = L.popup({&quot;maxWidth&quot;: &quot;100%&quot;});\n",
       "\n",
       "        \n",
       "            \n",
       "                var html_9d00fc83953d73aa5894d0d3dfbe1bfd = $(`&lt;div id=&quot;html_9d00fc83953d73aa5894d0d3dfbe1bfd&quot; style=&quot;width: 100.0%; height: 100.0%;&quot;&gt;Chicago&lt;/div&gt;`)[0];\n",
       "                popup_12e0c7fada902f6bc40b8c46d1adaa8f.setContent(html_9d00fc83953d73aa5894d0d3dfbe1bfd);\n",
       "            \n",
       "        \n",
       "\n",
       "        circle_marker_c559a7df39ff13322d39261162329e22.bindPopup(popup_12e0c7fada902f6bc40b8c46d1adaa8f)\n",
       "        ;\n",
       "\n",
       "        \n",
       "    \n",
       "    \n",
       "            var circle_marker_36d9bef63349e0a91a80b6a4e624e73c = L.circleMarker(\n",
       "                [39.96, -83.0],\n",
       "                {&quot;bubblingMouseEvents&quot;: true, &quot;color&quot;: &quot;#3388ff&quot;, &quot;dashArray&quot;: null, &quot;dashOffset&quot;: null, &quot;fill&quot;: false, &quot;fillColor&quot;: &quot;#3388ff&quot;, &quot;fillOpacity&quot;: 0.2, &quot;fillRule&quot;: &quot;evenodd&quot;, &quot;lineCap&quot;: &quot;round&quot;, &quot;lineJoin&quot;: &quot;round&quot;, &quot;opacity&quot;: 1.0, &quot;radius&quot;: 10, &quot;stroke&quot;: true, &quot;weight&quot;: 3}\n",
       "            ).addTo(map_59b7c28b262ce7c88041a503797b7321);\n",
       "        \n",
       "    \n",
       "        var popup_798f34b5664025ac79e41b127777dc3c = L.popup({&quot;maxWidth&quot;: &quot;100%&quot;});\n",
       "\n",
       "        \n",
       "            \n",
       "                var html_358fe5cc5fbeb4ff86bf0fac06a63fa0 = $(`&lt;div id=&quot;html_358fe5cc5fbeb4ff86bf0fac06a63fa0&quot; style=&quot;width: 100.0%; height: 100.0%;&quot;&gt;Columbus&lt;/div&gt;`)[0];\n",
       "                popup_798f34b5664025ac79e41b127777dc3c.setContent(html_358fe5cc5fbeb4ff86bf0fac06a63fa0);\n",
       "            \n",
       "        \n",
       "\n",
       "        circle_marker_36d9bef63349e0a91a80b6a4e624e73c.bindPopup(popup_798f34b5664025ac79e41b127777dc3c)\n",
       "        ;\n",
       "\n",
       "        \n",
       "    \n",
       "    \n",
       "            var circle_marker_7497942c2c3d6864e83371c5f4652d00 = L.circleMarker(\n",
       "                [32.78, -96.8],\n",
       "                {&quot;bubblingMouseEvents&quot;: true, &quot;color&quot;: &quot;#3388ff&quot;, &quot;dashArray&quot;: null, &quot;dashOffset&quot;: null, &quot;fill&quot;: false, &quot;fillColor&quot;: &quot;#3388ff&quot;, &quot;fillOpacity&quot;: 0.2, &quot;fillRule&quot;: &quot;evenodd&quot;, &quot;lineCap&quot;: &quot;round&quot;, &quot;lineJoin&quot;: &quot;round&quot;, &quot;opacity&quot;: 1.0, &quot;radius&quot;: 10, &quot;stroke&quot;: true, &quot;weight&quot;: 3}\n",
       "            ).addTo(map_59b7c28b262ce7c88041a503797b7321);\n",
       "        \n",
       "    \n",
       "        var popup_e29297979d94126498dedea48099bca1 = L.popup({&quot;maxWidth&quot;: &quot;100%&quot;});\n",
       "\n",
       "        \n",
       "            \n",
       "                var html_cce3cfdc7b710377c8a318cbbe43b1a0 = $(`&lt;div id=&quot;html_cce3cfdc7b710377c8a318cbbe43b1a0&quot; style=&quot;width: 100.0%; height: 100.0%;&quot;&gt;Dallas&lt;/div&gt;`)[0];\n",
       "                popup_e29297979d94126498dedea48099bca1.setContent(html_cce3cfdc7b710377c8a318cbbe43b1a0);\n",
       "            \n",
       "        \n",
       "\n",
       "        circle_marker_7497942c2c3d6864e83371c5f4652d00.bindPopup(popup_e29297979d94126498dedea48099bca1)\n",
       "        ;\n",
       "\n",
       "        \n",
       "    \n",
       "    \n",
       "            var circle_marker_d9d890f60ec5a1e7e9b31bfa31853956 = L.circleMarker(\n",
       "                [39.74, -104.98],\n",
       "                {&quot;bubblingMouseEvents&quot;: true, &quot;color&quot;: &quot;#3388ff&quot;, &quot;dashArray&quot;: null, &quot;dashOffset&quot;: null, &quot;fill&quot;: false, &quot;fillColor&quot;: &quot;#3388ff&quot;, &quot;fillOpacity&quot;: 0.2, &quot;fillRule&quot;: &quot;evenodd&quot;, &quot;lineCap&quot;: &quot;round&quot;, &quot;lineJoin&quot;: &quot;round&quot;, &quot;opacity&quot;: 1.0, &quot;radius&quot;: 10, &quot;stroke&quot;: true, &quot;weight&quot;: 3}\n",
       "            ).addTo(map_59b7c28b262ce7c88041a503797b7321);\n",
       "        \n",
       "    \n",
       "        var popup_a43c5f99554eb6cb45c19d52823948da = L.popup({&quot;maxWidth&quot;: &quot;100%&quot;});\n",
       "\n",
       "        \n",
       "            \n",
       "                var html_2ed2198f0648775a7dc3858728c2f7ea = $(`&lt;div id=&quot;html_2ed2198f0648775a7dc3858728c2f7ea&quot; style=&quot;width: 100.0%; height: 100.0%;&quot;&gt;Denver&lt;/div&gt;`)[0];\n",
       "                popup_a43c5f99554eb6cb45c19d52823948da.setContent(html_2ed2198f0648775a7dc3858728c2f7ea);\n",
       "            \n",
       "        \n",
       "\n",
       "        circle_marker_d9d890f60ec5a1e7e9b31bfa31853956.bindPopup(popup_a43c5f99554eb6cb45c19d52823948da)\n",
       "        ;\n",
       "\n",
       "        \n",
       "    \n",
       "    \n",
       "            var circle_marker_fb6d557549de9e5594f0a321a54d095c = L.circleMarker(\n",
       "                [29.76, -95.37],\n",
       "                {&quot;bubblingMouseEvents&quot;: true, &quot;color&quot;: &quot;#3388ff&quot;, &quot;dashArray&quot;: null, &quot;dashOffset&quot;: null, &quot;fill&quot;: false, &quot;fillColor&quot;: &quot;#3388ff&quot;, &quot;fillOpacity&quot;: 0.2, &quot;fillRule&quot;: &quot;evenodd&quot;, &quot;lineCap&quot;: &quot;round&quot;, &quot;lineJoin&quot;: &quot;round&quot;, &quot;opacity&quot;: 1.0, &quot;radius&quot;: 10, &quot;stroke&quot;: true, &quot;weight&quot;: 3}\n",
       "            ).addTo(map_59b7c28b262ce7c88041a503797b7321);\n",
       "        \n",
       "    \n",
       "        var popup_de3946099e871575b1de7e303972f5a7 = L.popup({&quot;maxWidth&quot;: &quot;100%&quot;});\n",
       "\n",
       "        \n",
       "            \n",
       "                var html_a91f3d67410e451207c8a01fb325471e = $(`&lt;div id=&quot;html_a91f3d67410e451207c8a01fb325471e&quot; style=&quot;width: 100.0%; height: 100.0%;&quot;&gt;Houston&lt;/div&gt;`)[0];\n",
       "                popup_de3946099e871575b1de7e303972f5a7.setContent(html_a91f3d67410e451207c8a01fb325471e);\n",
       "            \n",
       "        \n",
       "\n",
       "        circle_marker_fb6d557549de9e5594f0a321a54d095c.bindPopup(popup_de3946099e871575b1de7e303972f5a7)\n",
       "        ;\n",
       "\n",
       "        \n",
       "    \n",
       "    \n",
       "            var circle_marker_17d69c715f81dae1b148a6a131b56a2b = L.circleMarker(\n",
       "                [34.05, -118.24],\n",
       "                {&quot;bubblingMouseEvents&quot;: true, &quot;color&quot;: &quot;#3388ff&quot;, &quot;dashArray&quot;: null, &quot;dashOffset&quot;: null, &quot;fill&quot;: false, &quot;fillColor&quot;: &quot;#3388ff&quot;, &quot;fillOpacity&quot;: 0.2, &quot;fillRule&quot;: &quot;evenodd&quot;, &quot;lineCap&quot;: &quot;round&quot;, &quot;lineJoin&quot;: &quot;round&quot;, &quot;opacity&quot;: 1.0, &quot;radius&quot;: 10, &quot;stroke&quot;: true, &quot;weight&quot;: 3}\n",
       "            ).addTo(map_59b7c28b262ce7c88041a503797b7321);\n",
       "        \n",
       "    \n",
       "        var popup_4203ff37f78faef3f134248a8530c897 = L.popup({&quot;maxWidth&quot;: &quot;100%&quot;});\n",
       "\n",
       "        \n",
       "            \n",
       "                var html_747b872c5856cea51b3516bb7492f91d = $(`&lt;div id=&quot;html_747b872c5856cea51b3516bb7492f91d&quot; style=&quot;width: 100.0%; height: 100.0%;&quot;&gt;Los Angeles&lt;/div&gt;`)[0];\n",
       "                popup_4203ff37f78faef3f134248a8530c897.setContent(html_747b872c5856cea51b3516bb7492f91d);\n",
       "            \n",
       "        \n",
       "\n",
       "        circle_marker_17d69c715f81dae1b148a6a131b56a2b.bindPopup(popup_4203ff37f78faef3f134248a8530c897)\n",
       "        ;\n",
       "\n",
       "        \n",
       "    \n",
       "    \n",
       "            var circle_marker_90643b43f84e5ddb0b730fda1d1504cb = L.circleMarker(\n",
       "                [40.71, -74.01],\n",
       "                {&quot;bubblingMouseEvents&quot;: true, &quot;color&quot;: &quot;#3388ff&quot;, &quot;dashArray&quot;: null, &quot;dashOffset&quot;: null, &quot;fill&quot;: false, &quot;fillColor&quot;: &quot;#3388ff&quot;, &quot;fillOpacity&quot;: 0.2, &quot;fillRule&quot;: &quot;evenodd&quot;, &quot;lineCap&quot;: &quot;round&quot;, &quot;lineJoin&quot;: &quot;round&quot;, &quot;opacity&quot;: 1.0, &quot;radius&quot;: 10, &quot;stroke&quot;: true, &quot;weight&quot;: 3}\n",
       "            ).addTo(map_59b7c28b262ce7c88041a503797b7321);\n",
       "        \n",
       "    \n",
       "        var popup_d3d8334a7945906fd15cc5079c5cb04d = L.popup({&quot;maxWidth&quot;: &quot;100%&quot;});\n",
       "\n",
       "        \n",
       "            \n",
       "                var html_03bba213d45d45c9a8ef62cdf3dd8b39 = $(`&lt;div id=&quot;html_03bba213d45d45c9a8ef62cdf3dd8b39&quot; style=&quot;width: 100.0%; height: 100.0%;&quot;&gt;New York&lt;/div&gt;`)[0];\n",
       "                popup_d3d8334a7945906fd15cc5079c5cb04d.setContent(html_03bba213d45d45c9a8ef62cdf3dd8b39);\n",
       "            \n",
       "        \n",
       "\n",
       "        circle_marker_90643b43f84e5ddb0b730fda1d1504cb.bindPopup(popup_d3d8334a7945906fd15cc5079c5cb04d)\n",
       "        ;\n",
       "\n",
       "        \n",
       "    \n",
       "    \n",
       "            var circle_marker_91edb039b73c3459e021e6293db0bf2d = L.circleMarker(\n",
       "                [33.66, -112.04],\n",
       "                {&quot;bubblingMouseEvents&quot;: true, &quot;color&quot;: &quot;#3388ff&quot;, &quot;dashArray&quot;: null, &quot;dashOffset&quot;: null, &quot;fill&quot;: false, &quot;fillColor&quot;: &quot;#3388ff&quot;, &quot;fillOpacity&quot;: 0.2, &quot;fillRule&quot;: &quot;evenodd&quot;, &quot;lineCap&quot;: &quot;round&quot;, &quot;lineJoin&quot;: &quot;round&quot;, &quot;opacity&quot;: 1.0, &quot;radius&quot;: 10, &quot;stroke&quot;: true, &quot;weight&quot;: 3}\n",
       "            ).addTo(map_59b7c28b262ce7c88041a503797b7321);\n",
       "        \n",
       "    \n",
       "        var popup_82e24ed80470db00a638b651990cc886 = L.popup({&quot;maxWidth&quot;: &quot;100%&quot;});\n",
       "\n",
       "        \n",
       "            \n",
       "                var html_c60fd47e7cf94ff48c5c4d7966412a9a = $(`&lt;div id=&quot;html_c60fd47e7cf94ff48c5c4d7966412a9a&quot; style=&quot;width: 100.0%; height: 100.0%;&quot;&gt;Phoenix-Mesa&lt;/div&gt;`)[0];\n",
       "                popup_82e24ed80470db00a638b651990cc886.setContent(html_c60fd47e7cf94ff48c5c4d7966412a9a);\n",
       "            \n",
       "        \n",
       "\n",
       "        circle_marker_91edb039b73c3459e021e6293db0bf2d.bindPopup(popup_82e24ed80470db00a638b651990cc886)\n",
       "        ;\n",
       "\n",
       "        \n",
       "    \n",
       "    \n",
       "            var circle_marker_a7ca12fb6fd4bceef2668cd3dee75d05 = L.circleMarker(\n",
       "                [40.76, -111.89],\n",
       "                {&quot;bubblingMouseEvents&quot;: true, &quot;color&quot;: &quot;#3388ff&quot;, &quot;dashArray&quot;: null, &quot;dashOffset&quot;: null, &quot;fill&quot;: false, &quot;fillColor&quot;: &quot;#3388ff&quot;, &quot;fillOpacity&quot;: 0.2, &quot;fillRule&quot;: &quot;evenodd&quot;, &quot;lineCap&quot;: &quot;round&quot;, &quot;lineJoin&quot;: &quot;round&quot;, &quot;opacity&quot;: 1.0, &quot;radius&quot;: 10, &quot;stroke&quot;: true, &quot;weight&quot;: 3}\n",
       "            ).addTo(map_59b7c28b262ce7c88041a503797b7321);\n",
       "        \n",
       "    \n",
       "        var popup_da50712982d92931ae3aff0fcbb710e3 = L.popup({&quot;maxWidth&quot;: &quot;100%&quot;});\n",
       "\n",
       "        \n",
       "            \n",
       "                var html_84236da52e4ae490e9ccf0ce2bf319bf = $(`&lt;div id=&quot;html_84236da52e4ae490e9ccf0ce2bf319bf&quot; style=&quot;width: 100.0%; height: 100.0%;&quot;&gt;Salt Lake City&lt;/div&gt;`)[0];\n",
       "                popup_da50712982d92931ae3aff0fcbb710e3.setContent(html_84236da52e4ae490e9ccf0ce2bf319bf);\n",
       "            \n",
       "        \n",
       "\n",
       "        circle_marker_a7ca12fb6fd4bceef2668cd3dee75d05.bindPopup(popup_da50712982d92931ae3aff0fcbb710e3)\n",
       "        ;\n",
       "\n",
       "        \n",
       "    \n",
       "    \n",
       "            var circle_marker_b25c6cf895c8255f8114c807d096291f = L.circleMarker(\n",
       "                [37.78, -122.42],\n",
       "                {&quot;bubblingMouseEvents&quot;: true, &quot;color&quot;: &quot;#3388ff&quot;, &quot;dashArray&quot;: null, &quot;dashOffset&quot;: null, &quot;fill&quot;: false, &quot;fillColor&quot;: &quot;#3388ff&quot;, &quot;fillOpacity&quot;: 0.2, &quot;fillRule&quot;: &quot;evenodd&quot;, &quot;lineCap&quot;: &quot;round&quot;, &quot;lineJoin&quot;: &quot;round&quot;, &quot;opacity&quot;: 1.0, &quot;radius&quot;: 10, &quot;stroke&quot;: true, &quot;weight&quot;: 3}\n",
       "            ).addTo(map_59b7c28b262ce7c88041a503797b7321);\n",
       "        \n",
       "    \n",
       "        var popup_28ce40362b76d52a7698b07c485c4c0f = L.popup({&quot;maxWidth&quot;: &quot;100%&quot;});\n",
       "\n",
       "        \n",
       "            \n",
       "                var html_63f8e6fb41c9586c9453b7be3865273d = $(`&lt;div id=&quot;html_63f8e6fb41c9586c9453b7be3865273d&quot; style=&quot;width: 100.0%; height: 100.0%;&quot;&gt;San Francisco&lt;/div&gt;`)[0];\n",
       "                popup_28ce40362b76d52a7698b07c485c4c0f.setContent(html_63f8e6fb41c9586c9453b7be3865273d);\n",
       "            \n",
       "        \n",
       "\n",
       "        circle_marker_b25c6cf895c8255f8114c807d096291f.bindPopup(popup_28ce40362b76d52a7698b07c485c4c0f)\n",
       "        ;\n",
       "\n",
       "        \n",
       "    \n",
       "    \n",
       "            var circle_marker_881cb020d6bb0046ae53d16e11821c72 = L.circleMarker(\n",
       "                [27.95, -82.46],\n",
       "                {&quot;bubblingMouseEvents&quot;: true, &quot;color&quot;: &quot;#3388ff&quot;, &quot;dashArray&quot;: null, &quot;dashOffset&quot;: null, &quot;fill&quot;: false, &quot;fillColor&quot;: &quot;#3388ff&quot;, &quot;fillOpacity&quot;: 0.2, &quot;fillRule&quot;: &quot;evenodd&quot;, &quot;lineCap&quot;: &quot;round&quot;, &quot;lineJoin&quot;: &quot;round&quot;, &quot;opacity&quot;: 1.0, &quot;radius&quot;: 10, &quot;stroke&quot;: true, &quot;weight&quot;: 3}\n",
       "            ).addTo(map_59b7c28b262ce7c88041a503797b7321);\n",
       "        \n",
       "    \n",
       "        var popup_4a85df259fe0114bd4e65e51e6fc5341 = L.popup({&quot;maxWidth&quot;: &quot;100%&quot;});\n",
       "\n",
       "        \n",
       "            \n",
       "                var html_95c2c8f89cd81eeaccbbf70b9d3bac65 = $(`&lt;div id=&quot;html_95c2c8f89cd81eeaccbbf70b9d3bac65&quot; style=&quot;width: 100.0%; height: 100.0%;&quot;&gt;Tampa&lt;/div&gt;`)[0];\n",
       "                popup_4a85df259fe0114bd4e65e51e6fc5341.setContent(html_95c2c8f89cd81eeaccbbf70b9d3bac65);\n",
       "            \n",
       "        \n",
       "\n",
       "        circle_marker_881cb020d6bb0046ae53d16e11821c72.bindPopup(popup_4a85df259fe0114bd4e65e51e6fc5341)\n",
       "        ;\n",
       "\n",
       "        \n",
       "    \n",
       "&lt;/script&gt;\n",
       "&lt;/html&gt;\" style=\"position:absolute;width:100%;height:100%;left:0;top:0;border:none !important;\" allowfullscreen webkitallowfullscreen mozallowfullscreen></iframe></div></div>"
      ],
      "text/plain": [
       "<folium.folium.Map at 0x7fdc6cf44f10>"
      ]
     },
     "execution_count": 4,
     "metadata": {},
     "output_type": "execute_result"
    }
   ],
   "source": [
    "# Create a folium map centered on the first location in the list\n",
    "my_map = folium.Map(location=[42.57, -44.092], zoom_start=3)\n",
    "\n",
    "for continent in target_cities:\n",
    "        for city_name, coords in target_cities[continent].items():\n",
    "            folium.CircleMarker(\n",
    "                location=coords,\n",
    "                popup=city_name\n",
    "            ).add_to(my_map)\n",
    "\n",
    "my_map"
   ]
  },
  {
   "cell_type": "code",
   "execution_count": 5,
   "id": "fb5ecf81-647b-490a-92b1-f7e963413710",
   "metadata": {},
   "outputs": [],
   "source": [
    "# # Save the map to an HTML file\n",
    "# my_map.save(\"map_all_target_cities.html\")"
   ]
  },
  {
   "cell_type": "markdown",
   "id": "2246ca9d",
   "metadata": {},
   "source": [
    "## <span style='color:#ff5f27'> 🌫 Processing Air Quality data</span>"
   ]
  },
  {
   "cell_type": "markdown",
   "id": "b4a1c5d1",
   "metadata": {},
   "source": [
    "### [🇪🇺 EEA](https://discomap.eea.europa.eu/map/fme/AirQualityExport.htm)\n",
    "#### EEA means European Environmental Agency"
   ]
  },
  {
   "cell_type": "code",
   "execution_count": 6,
   "id": "96b8be01-6286-4886-8043-56e0e49b314e",
   "metadata": {
    "tags": []
   },
   "outputs": [
    {
     "data": {
      "text/plain": [
       "{'Amsterdam': [52.37, 4.89],\n",
       " 'Athina': [37.98, 23.73],\n",
       " 'Berlin': [52.52, 13.39],\n",
       " 'Gdansk': [54.37, 18.61],\n",
       " 'Kraków': [50.06, 19.94],\n",
       " 'London': [51.51, -0.13],\n",
       " 'Madrid': [40.42, -3.7],\n",
       " 'Marseille': [43.3, 5.37],\n",
       " 'Milano': [45.46, 9.19],\n",
       " 'München': [48.14, 11.58],\n",
       " 'Napoli': [40.84, 14.25],\n",
       " 'Paris': [48.85, 2.35],\n",
       " 'Sevilla': [37.39, -6.0],\n",
       " 'Stockholm': [59.33, 18.07],\n",
       " 'Tallinn': [59.44, 24.75],\n",
       " 'Varna': [43.21, 27.92],\n",
       " 'Wien': [48.21, 16.37]}"
      ]
     },
     "execution_count": 6,
     "metadata": {},
     "output_type": "execute_result"
    }
   ],
   "source": [
    "target_cities[\"EU\"]"
   ]
  },
  {
   "cell_type": "code",
   "execution_count": 7,
   "id": "5bb2a868-5f3a-4065-b651-318c24826b97",
   "metadata": {},
   "outputs": [],
   "source": [
    "df_eu = pd.read_csv(\"data/backfill_pm2_5_eu.csv\")"
   ]
  },
  {
   "cell_type": "code",
   "execution_count": 8,
   "id": "5620df22-f744-4550-a81a-7e5d71aae542",
   "metadata": {
    "tags": []
   },
   "outputs": [
    {
     "data": {
      "text/plain": [
       "0"
      ]
     },
     "execution_count": 8,
     "metadata": {},
     "output_type": "execute_result"
    }
   ],
   "source": [
    "df_eu.isna().sum().sum()"
   ]
  },
  {
   "cell_type": "code",
   "execution_count": 9,
   "id": "b0e23728-a01d-45bc-bf25-4a9c77f21d66",
   "metadata": {
    "tags": []
   },
   "outputs": [
    {
     "name": "stdout",
     "output_type": "stream",
     "text": [
      "Size of this dataframe: (63548, 3)\n"
     ]
    },
    {
     "data": {
      "text/html": [
       "<div>\n",
       "<style scoped>\n",
       "    .dataframe tbody tr th:only-of-type {\n",
       "        vertical-align: middle;\n",
       "    }\n",
       "\n",
       "    .dataframe tbody tr th {\n",
       "        vertical-align: top;\n",
       "    }\n",
       "\n",
       "    .dataframe thead th {\n",
       "        text-align: right;\n",
       "    }\n",
       "</style>\n",
       "<table border=\"1\" class=\"dataframe\">\n",
       "  <thead>\n",
       "    <tr style=\"text-align: right;\">\n",
       "      <th></th>\n",
       "      <th>city_name</th>\n",
       "      <th>date</th>\n",
       "      <th>pm2_5</th>\n",
       "    </tr>\n",
       "  </thead>\n",
       "  <tbody>\n",
       "    <tr>\n",
       "      <th>48746</th>\n",
       "      <td>Sevilla</td>\n",
       "      <td>2023-03-01</td>\n",
       "      <td>12.0</td>\n",
       "    </tr>\n",
       "    <tr>\n",
       "      <th>37485</th>\n",
       "      <td>München</td>\n",
       "      <td>2023-02-27</td>\n",
       "      <td>11.0</td>\n",
       "    </tr>\n",
       "    <tr>\n",
       "      <th>31674</th>\n",
       "      <td>Milano</td>\n",
       "      <td>2017-07-10</td>\n",
       "      <td>11.0</td>\n",
       "    </tr>\n",
       "  </tbody>\n",
       "</table>\n",
       "</div>"
      ],
      "text/plain": [
       "      city_name        date  pm2_5\n",
       "48746   Sevilla  2023-03-01   12.0\n",
       "37485   München  2023-02-27   11.0\n",
       "31674    Milano  2017-07-10   11.0"
      ]
     },
     "execution_count": 9,
     "metadata": {},
     "output_type": "execute_result"
    }
   ],
   "source": [
    "print(\"Size of this dataframe:\", df_eu.shape)\n",
    "\n",
    "df_eu.sample(3)"
   ]
  },
  {
   "cell_type": "markdown",
   "id": "c2e45567-dd6b-4e5e-a153-82a2f4f32fbc",
   "metadata": {},
   "source": [
    "### [🇺🇸 USEPA](https://aqs.epa.gov/aqsweb/documents/data_api.html#daily)\n",
    "#### USEPA means United States Environmental Protection Agency\n",
    "[Manual downloading](https://www.epa.gov/outdoor-air-quality-data/download-daily-data)\n",
    "\n"
   ]
  },
  {
   "cell_type": "code",
   "execution_count": 10,
   "id": "c4952759-0fb9-4229-8b78-2e37cffb144d",
   "metadata": {
    "tags": []
   },
   "outputs": [
    {
     "data": {
      "text/plain": [
       "{'Albuquerque': [35.08, -106.65],\n",
       " 'Atlanta': [33.75, -84.39],\n",
       " 'Chicago': [41.88, -87.62],\n",
       " 'Columbus': [39.96, -83.0],\n",
       " 'Dallas': [32.78, -96.8],\n",
       " 'Denver': [39.74, -104.98],\n",
       " 'Houston': [29.76, -95.37],\n",
       " 'Los Angeles': [34.05, -118.24],\n",
       " 'New York': [40.71, -74.01],\n",
       " 'Phoenix-Mesa': [33.66, -112.04],\n",
       " 'Salt Lake City': [40.76, -111.89],\n",
       " 'San Francisco': [37.78, -122.42],\n",
       " 'Tampa': [27.95, -82.46]}"
      ]
     },
     "execution_count": 10,
     "metadata": {},
     "output_type": "execute_result"
    }
   ],
   "source": [
    "target_cities[\"US\"]"
   ]
  },
  {
   "cell_type": "code",
   "execution_count": 11,
   "id": "c6aceaee-9431-48fd-818a-41fbdd07575c",
   "metadata": {
    "tags": []
   },
   "outputs": [],
   "source": [
    "df_us = pd.read_csv(\"data/backfill_pm2_5_us.csv\")"
   ]
  },
  {
   "cell_type": "code",
   "execution_count": 12,
   "id": "4e7ff20e-8a1a-4fa3-b801-71beead7b5f2",
   "metadata": {
    "tags": []
   },
   "outputs": [
    {
     "data": {
      "text/plain": [
       "0"
      ]
     },
     "execution_count": 12,
     "metadata": {},
     "output_type": "execute_result"
    }
   ],
   "source": [
    "df_us.isna().sum().sum()"
   ]
  },
  {
   "cell_type": "code",
   "execution_count": 13,
   "id": "3818e3e1-8674-4634-9023-92be8410fba5",
   "metadata": {
    "tags": []
   },
   "outputs": [
    {
     "name": "stdout",
     "output_type": "stream",
     "text": [
      "Size of this dataframe: (46037, 3)\n"
     ]
    },
    {
     "data": {
      "text/html": [
       "<div>\n",
       "<style scoped>\n",
       "    .dataframe tbody tr th:only-of-type {\n",
       "        vertical-align: middle;\n",
       "    }\n",
       "\n",
       "    .dataframe tbody tr th {\n",
       "        vertical-align: top;\n",
       "    }\n",
       "\n",
       "    .dataframe thead th {\n",
       "        text-align: right;\n",
       "    }\n",
       "</style>\n",
       "<table border=\"1\" class=\"dataframe\">\n",
       "  <thead>\n",
       "    <tr style=\"text-align: right;\">\n",
       "      <th></th>\n",
       "      <th>date</th>\n",
       "      <th>city_name</th>\n",
       "      <th>pm2_5</th>\n",
       "    </tr>\n",
       "  </thead>\n",
       "  <tbody>\n",
       "    <tr>\n",
       "      <th>35335</th>\n",
       "      <td>2013-08-04</td>\n",
       "      <td>Salt Lake City</td>\n",
       "      <td>3.8</td>\n",
       "    </tr>\n",
       "    <tr>\n",
       "      <th>36800</th>\n",
       "      <td>2017-08-09</td>\n",
       "      <td>Salt Lake City</td>\n",
       "      <td>7.6</td>\n",
       "    </tr>\n",
       "    <tr>\n",
       "      <th>602</th>\n",
       "      <td>2014-08-26</td>\n",
       "      <td>Albuquerque</td>\n",
       "      <td>3.8</td>\n",
       "    </tr>\n",
       "  </tbody>\n",
       "</table>\n",
       "</div>"
      ],
      "text/plain": [
       "             date       city_name  pm2_5\n",
       "35335  2013-08-04  Salt Lake City    3.8\n",
       "36800  2017-08-09  Salt Lake City    7.6\n",
       "602    2014-08-26     Albuquerque    3.8"
      ]
     },
     "execution_count": 13,
     "metadata": {},
     "output_type": "execute_result"
    }
   ],
   "source": [
    "print(\"Size of this dataframe:\", df_us.shape)\n",
    "\n",
    "df_us.sample(3)"
   ]
  },
  {
   "cell_type": "markdown",
   "id": "25557752-31c8-4da9-a52c-4415c4d20ae3",
   "metadata": {},
   "source": [
    "### <span style=\"color:#ff5f27;\">🏢 Processing special city - `Seattle`</span>\n",
    "#### We need different stations across the Seattle. \n",
    "I downloaded daily `PM2.5` data manually [here](https://www.epa.gov/outdoor-air-quality-data/download-daily-data)"
   ]
  },
  {
   "cell_type": "code",
   "execution_count": 14,
   "id": "2f54d2cb-991c-47cb-a686-76c9f7a87170",
   "metadata": {
    "tags": []
   },
   "outputs": [
    {
     "data": {
      "text/plain": [
       "{'NORTH BEND - NORTH BEND WAY': [47.49022, -121.77278],\n",
       " 'LAKE FOREST PARK TOWNE CENTER': [47.755, -122.2806],\n",
       " 'SEATTLE - DUWAMISH': [47.55975, -122.33827],\n",
       " 'SEATTLE - BEACON HILL': [47.56824, -122.30863],\n",
       " 'SEATTLE - SOUTH PARK #2': [47.53091, -122.3208],\n",
       " 'KENT - JAMES & CENTRAL': [47.38611, -122.23028],\n",
       " 'TACOMA - L STREET': [47.1864, -122.4517],\n",
       " 'TACOMA - ALEXANDER AVE': [47.2656, -122.3858],\n",
       " 'DARRINGTON - FIR ST (Darrington High School)': [48.2469, -121.6031],\n",
       " 'MARYSVILLE - 7TH AVE (Marysville Junior High)': [48.05432, -122.17153],\n",
       " 'Seattle-10th & Weller': [47.59722, -122.31972],\n",
       " 'Bellevue-SE 12th St': [47.60086, -122.1484],\n",
       " 'Tacoma-S 36th St': [47.22634, -122.46256],\n",
       " 'Tukwila Allentown': [47.49854, -122.27839],\n",
       " 'Tulalip-Totem Beach Rd': [48.06534, -122.28519]}"
      ]
     },
     "execution_count": 14,
     "metadata": {},
     "output_type": "execute_result"
    }
   ],
   "source": [
    "target_cities[\"Seattle\"]"
   ]
  },
  {
   "cell_type": "code",
   "execution_count": 15,
   "id": "31c8505d-68bc-40b6-be0f-42d8532dbd48",
   "metadata": {
    "tags": []
   },
   "outputs": [],
   "source": [
    "df_seattle = pd.read_csv(\"data/backfill_pm2_5_seattle.csv\")"
   ]
  },
  {
   "cell_type": "code",
   "execution_count": 16,
   "id": "2f6583c9-3b2a-41c6-a020-aeede88c4867",
   "metadata": {
    "tags": []
   },
   "outputs": [
    {
     "data": {
      "text/plain": [
       "0"
      ]
     },
     "execution_count": 16,
     "metadata": {},
     "output_type": "execute_result"
    }
   ],
   "source": [
    "df_seattle.isna().sum().sum()"
   ]
  },
  {
   "cell_type": "code",
   "execution_count": 17,
   "id": "065a5b03-28f7-475c-9c6a-4340388157d8",
   "metadata": {
    "tags": []
   },
   "outputs": [
    {
     "name": "stdout",
     "output_type": "stream",
     "text": [
      "Size of this dataframe: (46479, 3)\n"
     ]
    },
    {
     "data": {
      "text/html": [
       "<div>\n",
       "<style scoped>\n",
       "    .dataframe tbody tr th:only-of-type {\n",
       "        vertical-align: middle;\n",
       "    }\n",
       "\n",
       "    .dataframe tbody tr th {\n",
       "        vertical-align: top;\n",
       "    }\n",
       "\n",
       "    .dataframe thead th {\n",
       "        text-align: right;\n",
       "    }\n",
       "</style>\n",
       "<table border=\"1\" class=\"dataframe\">\n",
       "  <thead>\n",
       "    <tr style=\"text-align: right;\">\n",
       "      <th></th>\n",
       "      <th>city_name</th>\n",
       "      <th>date</th>\n",
       "      <th>pm2_5</th>\n",
       "    </tr>\n",
       "  </thead>\n",
       "  <tbody>\n",
       "    <tr>\n",
       "      <th>25749</th>\n",
       "      <td>SEATTLE - DUWAMISH</td>\n",
       "      <td>2019-10-01</td>\n",
       "      <td>7.6</td>\n",
       "    </tr>\n",
       "    <tr>\n",
       "      <th>41303</th>\n",
       "      <td>SEATTLE - DUWAMISH</td>\n",
       "      <td>2022-05-18</td>\n",
       "      <td>6.4</td>\n",
       "    </tr>\n",
       "    <tr>\n",
       "      <th>15893</th>\n",
       "      <td>Bellevue-SE 12th St</td>\n",
       "      <td>2017-11-16</td>\n",
       "      <td>0.8</td>\n",
       "    </tr>\n",
       "  </tbody>\n",
       "</table>\n",
       "</div>"
      ],
      "text/plain": [
       "                 city_name        date  pm2_5\n",
       "25749   SEATTLE - DUWAMISH  2019-10-01    7.6\n",
       "41303   SEATTLE - DUWAMISH  2022-05-18    6.4\n",
       "15893  Bellevue-SE 12th St  2017-11-16    0.8"
      ]
     },
     "execution_count": 17,
     "metadata": {},
     "output_type": "execute_result"
    }
   ],
   "source": [
    "print(\"Size of this dataframe:\", df_seattle.shape)\n",
    "\n",
    "df_seattle.sample(3)"
   ]
  },
  {
   "cell_type": "code",
   "execution_count": 18,
   "id": "e3b17ca4-0e9d-4207-ad62-90ea9c157def",
   "metadata": {
    "tags": []
   },
   "outputs": [
    {
     "data": {
      "text/plain": [
       "NORTH BEND - NORTH BEND WAY                      3705\n",
       "TACOMA - L STREET                                3696\n",
       "SEATTLE - BEACON HILL                            3691\n",
       "MARYSVILLE - 7TH AVE (Marysville Junior High)    3648\n",
       "DARRINGTON - FIR ST (Darrington High School)     3614\n",
       "SEATTLE - SOUTH PARK #2                          3577\n",
       "TACOMA - ALEXANDER AVE                           3569\n",
       "KENT - JAMES & CENTRAL                           3556\n",
       "SEATTLE - DUWAMISH                               3439\n",
       "Seattle-10th & Weller                            3097\n",
       "LAKE FOREST PARK TOWNE CENTER                    2999\n",
       "Tacoma-S 36th St                                 2574\n",
       "Bellevue-SE 12th St                              2172\n",
       "Tukwila Allentown                                2074\n",
       "Tulalip-Totem Beach Rd                           1068\n",
       "Name: city_name, dtype: int64"
      ]
     },
     "execution_count": 18,
     "metadata": {},
     "output_type": "execute_result"
    }
   ],
   "source": [
    "df_seattle.city_name.value_counts()"
   ]
  },
  {
   "cell_type": "markdown",
   "id": "c278a55d-f083-4f95-b292-92e545b9c408",
   "metadata": {},
   "source": [
    "### <span style=\"color:#ff5f27;\">🌟 All together</span>"
   ]
  },
  {
   "cell_type": "code",
   "execution_count": 19,
   "id": "0d55ae92-4bf9-43ae-8841-6767f5f68bec",
   "metadata": {
    "tags": []
   },
   "outputs": [],
   "source": [
    "df_air_quality = pd.concat([df_eu, df_us, df_seattle]).reset_index(drop=True)"
   ]
  },
  {
   "cell_type": "code",
   "execution_count": 20,
   "id": "d5df39e2-2ce6-48df-9063-9827da8e7317",
   "metadata": {
    "tags": []
   },
   "outputs": [
    {
     "data": {
      "text/html": [
       "<div>\n",
       "<style scoped>\n",
       "    .dataframe tbody tr th:only-of-type {\n",
       "        vertical-align: middle;\n",
       "    }\n",
       "\n",
       "    .dataframe tbody tr th {\n",
       "        vertical-align: top;\n",
       "    }\n",
       "\n",
       "    .dataframe thead th {\n",
       "        text-align: right;\n",
       "    }\n",
       "</style>\n",
       "<table border=\"1\" class=\"dataframe\">\n",
       "  <thead>\n",
       "    <tr style=\"text-align: right;\">\n",
       "      <th></th>\n",
       "      <th>city_name</th>\n",
       "      <th>date</th>\n",
       "      <th>pm2_5</th>\n",
       "    </tr>\n",
       "  </thead>\n",
       "  <tbody>\n",
       "    <tr>\n",
       "      <th>133255</th>\n",
       "      <td>DARRINGTON - FIR ST (Darrington High School)</td>\n",
       "      <td>2018-10-28</td>\n",
       "      <td>1.7</td>\n",
       "    </tr>\n",
       "    <tr>\n",
       "      <th>51034</th>\n",
       "      <td>Stockholm</td>\n",
       "      <td>2019-02-25</td>\n",
       "      <td>8.0</td>\n",
       "    </tr>\n",
       "    <tr>\n",
       "      <th>45736</th>\n",
       "      <td>Sevilla</td>\n",
       "      <td>2014-12-03</td>\n",
       "      <td>20.0</td>\n",
       "    </tr>\n",
       "    <tr>\n",
       "      <th>46175</th>\n",
       "      <td>Sevilla</td>\n",
       "      <td>2016-02-15</td>\n",
       "      <td>13.0</td>\n",
       "    </tr>\n",
       "    <tr>\n",
       "      <th>121584</th>\n",
       "      <td>SEATTLE - DUWAMISH</td>\n",
       "      <td>2016-08-25</td>\n",
       "      <td>9.3</td>\n",
       "    </tr>\n",
       "  </tbody>\n",
       "</table>\n",
       "</div>"
      ],
      "text/plain": [
       "                                           city_name        date  pm2_5\n",
       "133255  DARRINGTON - FIR ST (Darrington High School)  2018-10-28    1.7\n",
       "51034                                      Stockholm  2019-02-25    8.0\n",
       "45736                                        Sevilla  2014-12-03   20.0\n",
       "46175                                        Sevilla  2016-02-15   13.0\n",
       "121584                            SEATTLE - DUWAMISH  2016-08-25    9.3"
      ]
     },
     "execution_count": 20,
     "metadata": {},
     "output_type": "execute_result"
    }
   ],
   "source": [
    "df_air_quality.sample(5)"
   ]
  },
  {
   "cell_type": "code",
   "execution_count": 21,
   "id": "794c30fe-fb54-4fa0-a34c-5cef68f52473",
   "metadata": {
    "tags": []
   },
   "outputs": [
    {
     "data": {
      "text/plain": [
       "(156064, 3)"
      ]
     },
     "execution_count": 21,
     "metadata": {},
     "output_type": "execute_result"
    }
   ],
   "source": [
    "df_air_quality.shape"
   ]
  },
  {
   "cell_type": "markdown",
   "id": "22896049-441d-4baf-b717-415123cb39d7",
   "metadata": {
    "tags": []
   },
   "source": [
    "### <span style=\"color:#ff5f27;\">🛠 Feature Engineering</span>"
   ]
  },
  {
   "cell_type": "code",
   "execution_count": 22,
   "id": "140b468a-e0c2-44a1-8e44-4cf393407eca",
   "metadata": {
    "tags": []
   },
   "outputs": [],
   "source": [
    "df_air_quality['date'] = pd.to_datetime(df_air_quality['date'])"
   ]
  },
  {
   "cell_type": "code",
   "execution_count": 23,
   "id": "a3c8e0f4-9a0a-46c1-b9a2-f7af9b9b9c0e",
   "metadata": {
    "tags": []
   },
   "outputs": [
    {
     "data": {
      "text/html": [
       "<div>\n",
       "<style scoped>\n",
       "    .dataframe tbody tr th:only-of-type {\n",
       "        vertical-align: middle;\n",
       "    }\n",
       "\n",
       "    .dataframe tbody tr th {\n",
       "        vertical-align: top;\n",
       "    }\n",
       "\n",
       "    .dataframe thead th {\n",
       "        text-align: right;\n",
       "    }\n",
       "</style>\n",
       "<table border=\"1\" class=\"dataframe\">\n",
       "  <thead>\n",
       "    <tr style=\"text-align: right;\">\n",
       "      <th></th>\n",
       "      <th>city_name</th>\n",
       "      <th>date</th>\n",
       "      <th>pm2_5</th>\n",
       "    </tr>\n",
       "  </thead>\n",
       "  <tbody>\n",
       "    <tr>\n",
       "      <th>0</th>\n",
       "      <td>Amsterdam</td>\n",
       "      <td>2013-01-01</td>\n",
       "      <td>14.0</td>\n",
       "    </tr>\n",
       "    <tr>\n",
       "      <th>1</th>\n",
       "      <td>Amsterdam</td>\n",
       "      <td>2013-01-02</td>\n",
       "      <td>8.0</td>\n",
       "    </tr>\n",
       "  </tbody>\n",
       "</table>\n",
       "</div>"
      ],
      "text/plain": [
       "   city_name       date  pm2_5\n",
       "0  Amsterdam 2013-01-01   14.0\n",
       "1  Amsterdam 2013-01-02    8.0"
      ]
     },
     "execution_count": 23,
     "metadata": {},
     "output_type": "execute_result"
    }
   ],
   "source": [
    "df_air_quality.head(2)"
   ]
  },
  {
   "cell_type": "code",
   "execution_count": 24,
   "id": "a108c3fb-4945-4ace-b6f6-4f3f4a9349d3",
   "metadata": {
    "tags": []
   },
   "outputs": [],
   "source": [
    "features.air_quality.shift_pm_2_5(df_air_quality, days=7) # add features about 7 previous PM2.5 values\n",
    "\n",
    "features.air_quality.moving_average(df_air_quality, 7)\n",
    "features.air_quality.moving_average(df_air_quality, 14)\n",
    "features.air_quality.moving_average(df_air_quality, 28)\n",
    "\n",
    "\n",
    "for i in [7, 14, 28]:\n",
    "    for func in [features.air_quality.moving_std,\n",
    "                 features.air_quality.exponential_moving_average,\n",
    "                 features.air_quality.exponential_moving_std\n",
    "                 ]:\n",
    "        func(df_air_quality, i)\n",
    "        \n",
    "\n",
    "df_air_quality = df_air_quality.sort_values(by=[\"date\", \"pm2_5\"]).dropna()\n",
    "df_air_quality = df_air_quality.reset_index(drop=True)"
   ]
  },
  {
   "cell_type": "code",
   "execution_count": 25,
   "id": "92db141a-2397-4a69-856f-afb220a38866",
   "metadata": {
    "tags": []
   },
   "outputs": [],
   "source": [
    "features.air_quality.year(df_air_quality)\n",
    "features.air_quality.day_of_month(df_air_quality)\n",
    "features.air_quality.month(df_air_quality)\n",
    "features.air_quality.day_of_week(df_air_quality)\n",
    "features.air_quality.is_weekend(df_air_quality)\n",
    "features.air_quality.sin_day_of_year(df_air_quality)\n",
    "features.air_quality.cos_day_of_year(df_air_quality)\n",
    "features.air_quality.sin_day_of_week(df_air_quality)\n",
    "features.air_quality.cos_day_of_week(df_air_quality)"
   ]
  },
  {
   "cell_type": "code",
   "execution_count": 26,
   "id": "131d1e58-7d12-4cd8-a24e-ffcc8eaa7c20",
   "metadata": {
    "tags": []
   },
   "outputs": [
    {
     "data": {
      "text/plain": [
       "0"
      ]
     },
     "execution_count": 26,
     "metadata": {},
     "output_type": "execute_result"
    }
   ],
   "source": [
    "df_air_quality.isna().sum().sum()"
   ]
  },
  {
   "cell_type": "code",
   "execution_count": 27,
   "id": "94f67c89-6b39-4748-b4be-6ed3c9d57f96",
   "metadata": {
    "tags": []
   },
   "outputs": [
    {
     "data": {
      "text/plain": [
       "(154804, 31)"
      ]
     },
     "execution_count": 27,
     "metadata": {},
     "output_type": "execute_result"
    }
   ],
   "source": [
    "df_air_quality.shape"
   ]
  },
  {
   "cell_type": "code",
   "execution_count": 28,
   "id": "ed9bc7f1-d62e-4b1f-97af-6ecd30fe4b67",
   "metadata": {
    "tags": []
   },
   "outputs": [
    {
     "data": {
      "text/plain": [
       "Index(['city_name', 'date', 'pm2_5', 'pm_2_5_previous_1_day',\n",
       "       'pm_2_5_previous_2_day', 'pm_2_5_previous_3_day',\n",
       "       'pm_2_5_previous_4_day', 'pm_2_5_previous_5_day',\n",
       "       'pm_2_5_previous_6_day', 'pm_2_5_previous_7_day', 'mean_7_days',\n",
       "       'mean_14_days', 'mean_28_days', 'std_7_days', 'exp_mean_7_days',\n",
       "       'exp_std_7_days', 'std_14_days', 'exp_mean_14_days', 'exp_std_14_days',\n",
       "       'std_28_days', 'exp_mean_28_days', 'exp_std_28_days', 'year',\n",
       "       'day_of_month', 'month', 'day_of_week', 'is_weekend', 'sin_day_of_year',\n",
       "       'cos_day_of_year', 'sin_day_of_week', 'cos_day_of_week'],\n",
       "      dtype='object')"
      ]
     },
     "execution_count": 28,
     "metadata": {},
     "output_type": "execute_result"
    }
   ],
   "source": [
    "df_air_quality.columns"
   ]
  },
  {
   "cell_type": "markdown",
   "id": "88a9e0ef-e9d2-4e3c-91af-c4e619b8c906",
   "metadata": {},
   "source": [
    "---"
   ]
  },
  {
   "cell_type": "markdown",
   "id": "4687e802",
   "metadata": {
    "tags": []
   },
   "source": [
    "## <span style='color:#ff5f27'> 🌦 Loading Weather Data from [Open Meteo](https://open-meteo.com/en/docs)"
   ]
  },
  {
   "cell_type": "code",
   "execution_count": 29,
   "id": "c46283b4",
   "metadata": {},
   "outputs": [],
   "source": [
    "df_weather = pd.read_csv(\"data/backfill_weather.csv\")"
   ]
  },
  {
   "cell_type": "code",
   "execution_count": 30,
   "id": "8d5dcd0a",
   "metadata": {},
   "outputs": [
    {
     "data": {
      "text/html": [
       "<div>\n",
       "<style scoped>\n",
       "    .dataframe tbody tr th:only-of-type {\n",
       "        vertical-align: middle;\n",
       "    }\n",
       "\n",
       "    .dataframe tbody tr th {\n",
       "        vertical-align: top;\n",
       "    }\n",
       "\n",
       "    .dataframe thead th {\n",
       "        text-align: right;\n",
       "    }\n",
       "</style>\n",
       "<table border=\"1\" class=\"dataframe\">\n",
       "  <thead>\n",
       "    <tr style=\"text-align: right;\">\n",
       "      <th></th>\n",
       "      <th>city_name</th>\n",
       "      <th>date</th>\n",
       "      <th>temperature_max</th>\n",
       "      <th>temperature_min</th>\n",
       "      <th>precipitation_sum</th>\n",
       "      <th>rain_sum</th>\n",
       "      <th>snowfall_sum</th>\n",
       "      <th>precipitation_hours</th>\n",
       "      <th>wind_speed_max</th>\n",
       "      <th>wind_gusts_max</th>\n",
       "      <th>wind_direction_dominant</th>\n",
       "    </tr>\n",
       "  </thead>\n",
       "  <tbody>\n",
       "    <tr>\n",
       "      <th>31007</th>\n",
       "      <td>Milano</td>\n",
       "      <td>2015-10-21</td>\n",
       "      <td>14.7</td>\n",
       "      <td>3.9</td>\n",
       "      <td>0.0</td>\n",
       "      <td>0.0</td>\n",
       "      <td>0.0</td>\n",
       "      <td>0.0</td>\n",
       "      <td>7.2</td>\n",
       "      <td>16.6</td>\n",
       "      <td>25</td>\n",
       "    </tr>\n",
       "    <tr>\n",
       "      <th>87181</th>\n",
       "      <td>Houston</td>\n",
       "      <td>2015-09-05</td>\n",
       "      <td>32.9</td>\n",
       "      <td>24.5</td>\n",
       "      <td>5.3</td>\n",
       "      <td>5.3</td>\n",
       "      <td>0.0</td>\n",
       "      <td>4.0</td>\n",
       "      <td>11.1</td>\n",
       "      <td>29.2</td>\n",
       "      <td>176</td>\n",
       "    </tr>\n",
       "    <tr>\n",
       "      <th>163502</th>\n",
       "      <td>Seattle - Tukwila Allentown</td>\n",
       "      <td>2018-10-30</td>\n",
       "      <td>12.8</td>\n",
       "      <td>7.3</td>\n",
       "      <td>1.8</td>\n",
       "      <td>1.8</td>\n",
       "      <td>0.0</td>\n",
       "      <td>9.0</td>\n",
       "      <td>10.5</td>\n",
       "      <td>28.8</td>\n",
       "      <td>172</td>\n",
       "    </tr>\n",
       "  </tbody>\n",
       "</table>\n",
       "</div>"
      ],
      "text/plain": [
       "                          city_name        date  temperature_max  \\\n",
       "31007                        Milano  2015-10-21             14.7   \n",
       "87181                       Houston  2015-09-05             32.9   \n",
       "163502  Seattle - Tukwila Allentown  2018-10-30             12.8   \n",
       "\n",
       "        temperature_min  precipitation_sum  rain_sum  snowfall_sum  \\\n",
       "31007               3.9                0.0       0.0           0.0   \n",
       "87181              24.5                5.3       5.3           0.0   \n",
       "163502              7.3                1.8       1.8           0.0   \n",
       "\n",
       "        precipitation_hours  wind_speed_max  wind_gusts_max  \\\n",
       "31007                   0.0             7.2            16.6   \n",
       "87181                   4.0            11.1            29.2   \n",
       "163502                  9.0            10.5            28.8   \n",
       "\n",
       "        wind_direction_dominant  \n",
       "31007                        25  \n",
       "87181                       176  \n",
       "163502                      172  "
      ]
     },
     "execution_count": 30,
     "metadata": {},
     "output_type": "execute_result"
    }
   ],
   "source": [
    "df_weather.sample(3)"
   ]
  },
  {
   "cell_type": "markdown",
   "id": "cc9b7ad6",
   "metadata": {},
   "source": [
    "---"
   ]
  },
  {
   "cell_type": "code",
   "execution_count": 31,
   "id": "a8f886c3-a5ac-4370-a6a2-22838ab7409e",
   "metadata": {
    "tags": []
   },
   "outputs": [],
   "source": [
    "df_air_quality.date = pd.to_datetime(df_air_quality.date)\n",
    "df_weather.date = pd.to_datetime(df_weather.date)\n",
    "\n",
    "df_air_quality[\"unix_time\"] = df_air_quality[\"date\"].apply(convert_date_to_unix)\n",
    "df_weather[\"unix_time\"] = df_weather[\"date\"].apply(convert_date_to_unix)"
   ]
  },
  {
   "cell_type": "code",
   "execution_count": 44,
   "id": "1b6af890-87a3-4468-8eda-576c2dd75464",
   "metadata": {
    "tags": []
   },
   "outputs": [],
   "source": [
    "df_air_quality.date = df_air_quality.date.astype(str)\n",
    "df_weather.date = df_weather.date.astype(str)"
   ]
  },
  {
   "cell_type": "markdown",
   "id": "cb6f83ba",
   "metadata": {},
   "source": [
    "### <span style=\"color:#ff5f27;\"> 🔮 Connecting to Hopsworks Feature Store </span>"
   ]
  },
  {
   "cell_type": "code",
   "execution_count": 33,
   "id": "dd068240",
   "metadata": {},
   "outputs": [
    {
     "name": "stdout",
     "output_type": "stream",
     "text": [
      "Connected. Call `.close()` to terminate connection gracefully.\n",
      "\n",
      "Logged in to project, explore it here https://c.app.hopsworks.ai:443/p/14502\n",
      "Connected. Call `.close()` to terminate connection gracefully.\n"
     ]
    }
   ],
   "source": [
    "import hopsworks\n",
    "\n",
    "project = hopsworks.login()\n",
    "\n",
    "fs = project.get_feature_store() "
   ]
  },
  {
   "cell_type": "markdown",
   "id": "5d512806",
   "metadata": {},
   "source": [
    "---"
   ]
  },
  {
   "cell_type": "markdown",
   "id": "63d8c3b9",
   "metadata": {},
   "source": [
    "## <span style=\"color:#ff5f27;\">🪄 Creating Feature Groups</span>"
   ]
  },
  {
   "cell_type": "markdown",
   "id": "4a2515c4",
   "metadata": {},
   "source": [
    "### <span style='color:#ff5f27'> 🌫 Air Quality Data"
   ]
  },
  {
   "cell_type": "code",
   "execution_count": 39,
   "id": "9d7088a8",
   "metadata": {
    "scrolled": true,
    "tags": []
   },
   "outputs": [],
   "source": [
    "air_quality_fg = fs.get_or_create_feature_group(\n",
    "    name='air_quality',\n",
    "    description='Air Quality characteristics of each day',\n",
    "    version=1,\n",
    "    primary_key=['unix_time','city_name'],\n",
    "    online_enabled=False,\n",
    "    # partition_key=[\"city_name\"],\n",
    "    event_time=[\"unix_time\"]\n",
    ")    "
   ]
  },
  {
   "cell_type": "code",
   "execution_count": 40,
   "id": "7e04a975-bb58-42e2-9abd-90e68ae37864",
   "metadata": {},
   "outputs": [
    {
     "name": "stdout",
     "output_type": "stream",
     "text": [
      "Feature Group created successfully, explore it at \n",
      "https://c.app.hopsworks.ai:443/p/14502/fs/14422/fg/36275\n"
     ]
    },
    {
     "data": {
      "application/vnd.jupyter.widget-view+json": {
       "model_id": "1350ce572667488993f9fa3c12d896f4",
       "version_major": 2,
       "version_minor": 0
      },
      "text/plain": [
       "Uploading Dataframe: 0.00% |          | Rows 0/154804 | Elapsed Time: 00:00 | Remaining Time: ?"
      ]
     },
     "metadata": {},
     "output_type": "display_data"
    },
    {
     "name": "stdout",
     "output_type": "stream",
     "text": [
      "Launching offline feature group backfill job...\n",
      "Backfill Job started successfully, you can follow the progress at \n",
      "https://c.app.hopsworks.ai/p/14502/jobs/named/air_quality_1_offline_fg_backfill/executions\n"
     ]
    },
    {
     "data": {
      "text/plain": [
       "(<hsfs.core.job.Job at 0x7fdc5b1fc7c0>, None)"
      ]
     },
     "execution_count": 40,
     "metadata": {},
     "output_type": "execute_result"
    }
   ],
   "source": [
    "air_quality_fg.insert(df_air_quality, write_options={\"wait_for_job\": False})"
   ]
  },
  {
   "cell_type": "markdown",
   "id": "a73a9029",
   "metadata": {},
   "source": [
    "### <span style='color:#ff5f27'> 🌦 Weather Data"
   ]
  },
  {
   "cell_type": "code",
   "execution_count": 42,
   "id": "acc2b799",
   "metadata": {},
   "outputs": [],
   "source": [
    "weather_fg = fs.get_or_create_feature_group(\n",
    "    name='weather',\n",
    "    description='Weather characteristics of each day',\n",
    "    version=1,\n",
    "    primary_key=['unix_time','city_name'],\n",
    "    online_enabled=False,\n",
    "    # partition_key=[\"city_name\"],\n",
    "    event_time=[\"unix_time\"]\n",
    ") "
   ]
  },
  {
   "cell_type": "code",
   "execution_count": 43,
   "id": "9583b4d1-e2e3-4f56-9e5d-23caa0c49457",
   "metadata": {
    "tags": []
   },
   "outputs": [
    {
     "name": "stdout",
     "output_type": "stream",
     "text": [
      "Feature Group created successfully, explore it at \n",
      "https://c.app.hopsworks.ai:443/p/14502/fs/14422/fg/36277\n"
     ]
    },
    {
     "data": {
      "application/vnd.jupyter.widget-view+json": {
       "model_id": "d11ded6b1dce4edbb5a349b4b240c50a",
       "version_major": 2,
       "version_minor": 0
      },
      "text/plain": [
       "Uploading Dataframe: 0.00% |          | Rows 0/168975 | Elapsed Time: 00:00 | Remaining Time: ?"
      ]
     },
     "metadata": {},
     "output_type": "display_data"
    },
    {
     "name": "stdout",
     "output_type": "stream",
     "text": [
      "Launching offline feature group backfill job...\n",
      "Backfill Job started successfully, you can follow the progress at \n",
      "https://c.app.hopsworks.ai/p/14502/jobs/named/weather_1_offline_fg_backfill/executions\n"
     ]
    },
    {
     "data": {
      "text/plain": [
       "(<hsfs.core.job.Job at 0x7fdc6abc2b50>, None)"
      ]
     },
     "execution_count": 43,
     "metadata": {},
     "output_type": "execute_result"
    }
   ],
   "source": [
    "weather_fg.insert(df_weather, write_options={\"wait_for_job\": True})"
   ]
  }
 ],
 "metadata": {
  "kernelspec": {
   "display_name": "Python 3 (ipykernel)",
   "language": "python",
   "name": "python3"
  },
  "language_info": {
   "codemirror_mode": {
    "name": "ipython",
    "version": 3
   },
   "file_extension": ".py",
   "mimetype": "text/x-python",
   "name": "python",
   "nbconvert_exporter": "python",
   "pygments_lexer": "ipython3",
   "version": "3.8.16"
  }
 },
 "nbformat": 4,
 "nbformat_minor": 5
}
