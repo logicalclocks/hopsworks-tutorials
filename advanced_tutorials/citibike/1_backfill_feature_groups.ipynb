{
 "cells": [
  {
   "cell_type": "markdown",
   "id": "ccbbf2cc",
   "metadata": {
    "id": "ccbbf2cc"
   },
   "source": [
    "# <span style=\"font-width:bold; font-size: 3rem; color:#1EB182;\">**Hopsworks Feature Store** </span> <span style=\"font-width:bold; font-size: 3rem; color:#333;\">- Part 01: Backfill Features to the Feature Store</span>\n",
    "\n",
    "[![Open In Colab](https://colab.research.google.com/assets/colab-badge.svg)](https://colab.research.google.com/github/logicalclocks/hopsworks-tutorials/blob/master/advanced_tutorials/electricity/1_backfill_feature_groups.ipynb)\n",
    "\n",
    "**Note**: you may get an error when installing hopsworks on Colab, and it is safe to ignore it.\n",
    "\n",
    "This is the first part of the advanced series of tutorials about Hopsworks Feature Store. As part of this first module, you will work with data related to electricity prices and meteorological observations in Sweden. \n",
    "\n",
    "The objective of this tutorial is to demonstrate how to work with the **Hopworks Feature Store**  for batch data with a goal of training and deploying a model that can predict electricity prices in the future.\n",
    "\n",
    "## 🗒️ This notebook is divided in 3 sections:\n",
    "1. **Loading the data and feature engineeing**,\n",
    "2. **Connect to the Hopsworks feature store**,\n",
    "3. **Create feature groups and upload them to the feature store**."
   ]
  },
  {
   "cell_type": "markdown",
   "id": "akyCpdrP0GDH",
   "metadata": {
    "id": "akyCpdrP0GDH"
   },
   "source": [
    "### <span style='color:#ff5f27'> 📝 Imports"
   ]
  },
  {
   "cell_type": "code",
   "execution_count": 1,
   "id": "3b7015a0",
   "metadata": {
    "id": "3b7015a0"
   },
   "outputs": [],
   "source": [
    "!pip install -U hopsworks --quiet"
   ]
  },
  {
   "cell_type": "code",
   "execution_count": 1,
   "id": "c3fd23b4",
   "metadata": {
    "id": "c3fd23b4"
   },
   "outputs": [],
   "source": [
    "import pandas as pd\n",
    "from functions import *"
   ]
  },
  {
   "cell_type": "markdown",
   "id": "KVH8VU5g0JDP",
   "metadata": {
    "id": "KVH8VU5g0JDP"
   },
   "source": [
    "---"
   ]
  },
  {
   "cell_type": "markdown",
   "id": "285d06c9",
   "metadata": {
    "id": "285d06c9"
   },
   "source": [
    "## <span style=\"color:#ff5f27;\"> 🚲 Load the Citi Bike Trip Histories</span>\n",
    "\n",
    "Downloadable files of Citi Bike trip data are located [here](https://s3.amazonaws.com/tripdata/index.html). The data includes:\n",
    "\n",
    "    Ride ID\n",
    "    Rideable type\n",
    "    Started at\n",
    "    Ended at\n",
    "    Start station name\n",
    "    Start station ID\n",
    "    End station name\n",
    "    End station ID\n",
    "    Start latitude\n",
    "    Start longitude\n",
    "    End latitude\n",
    "    End Longitude\n",
    "    Member or casual ride\n",
    "\n"
   ]
  },
  {
   "cell_type": "code",
   "execution_count": 2,
   "id": "14d53daa",
   "metadata": {},
   "outputs": [
    {
     "name": "stdout",
     "output_type": "stream",
     "text": [
      "_____ Processing 12/2021... _____\n",
      "Downloading Started...⏳\n",
      "Downloading Completed!👌\n",
      "Retrieving DataFrame from the csv file...💿\n",
      "________________________________\n"
     ]
    },
    {
     "name": "stderr",
     "output_type": "stream",
     "text": [
      "C:\\Users\\rkaha\\Documents\\hopsworks\\hopsworks-tutorials\\advanced_tutorials\\citibike\\functions.py:52: DtypeWarning: Columns (5,7) have mixed types. Specify dtype option on import or set low_memory=False.\n",
      "  original_df = pd.read_csv(filename)\n",
      "C:\\Users\\rkaha\\Documents\\hopsworks\\hopsworks-tutorials\\advanced_tutorials\\citibike\\functions.py:15: SettingWithCopyWarning: \n",
      "A value is trying to be set on a copy of a slice from a DataFrame.\n",
      "Try using .loc[row_indexer,col_indexer] = value instead\n",
      "\n",
      "See the caveats in the documentation: https://pandas.pydata.org/pandas-docs/stable/user_guide/indexing.html#returning-a-view-versus-a-copy\n",
      "  res.started_at = pd.to_datetime(res.started_at)\n",
      "C:\\Users\\rkaha\\Documents\\hopsworks\\hopsworks-tutorials\\advanced_tutorials\\citibike\\functions.py:16: SettingWithCopyWarning: \n",
      "A value is trying to be set on a copy of a slice from a DataFrame.\n",
      "Try using .loc[row_indexer,col_indexer] = value instead\n",
      "\n",
      "See the caveats in the documentation: https://pandas.pydata.org/pandas-docs/stable/user_guide/indexing.html#returning-a-view-versus-a-copy\n",
      "  res.started_at = res.started_at.dt.floor('d')\n"
     ]
    },
    {
     "name": "stdout",
     "output_type": "stream",
     "text": [
      "data/202112-citibike-tripdata.csv\n",
      "_____ Processing 01/2022... _____\n",
      "Downloading Started...⏳\n",
      "Downloading Completed!👌\n",
      "Retrieving DataFrame from the csv file...💿\n",
      "________________________________\n"
     ]
    },
    {
     "name": "stderr",
     "output_type": "stream",
     "text": [
      "C:\\Users\\rkaha\\Documents\\hopsworks\\hopsworks-tutorials\\advanced_tutorials\\citibike\\functions.py:52: DtypeWarning: Columns (5,7) have mixed types. Specify dtype option on import or set low_memory=False.\n",
      "  original_df = pd.read_csv(filename)\n",
      "C:\\Users\\rkaha\\Documents\\hopsworks\\hopsworks-tutorials\\advanced_tutorials\\citibike\\functions.py:15: SettingWithCopyWarning: \n",
      "A value is trying to be set on a copy of a slice from a DataFrame.\n",
      "Try using .loc[row_indexer,col_indexer] = value instead\n",
      "\n",
      "See the caveats in the documentation: https://pandas.pydata.org/pandas-docs/stable/user_guide/indexing.html#returning-a-view-versus-a-copy\n",
      "  res.started_at = pd.to_datetime(res.started_at)\n",
      "C:\\Users\\rkaha\\Documents\\hopsworks\\hopsworks-tutorials\\advanced_tutorials\\citibike\\functions.py:16: SettingWithCopyWarning: \n",
      "A value is trying to be set on a copy of a slice from a DataFrame.\n",
      "Try using .loc[row_indexer,col_indexer] = value instead\n",
      "\n",
      "See the caveats in the documentation: https://pandas.pydata.org/pandas-docs/stable/user_guide/indexing.html#returning-a-view-versus-a-copy\n",
      "  res.started_at = res.started_at.dt.floor('d')\n"
     ]
    },
    {
     "name": "stdout",
     "output_type": "stream",
     "text": [
      "data/202201-citibike-tripdata.csv\n"
     ]
    }
   ],
   "source": [
    "df = get_citibike_data(\"12/2021\", \"01/2022\")"
   ]
  },
  {
   "cell_type": "code",
   "execution_count": 3,
   "id": "e8680e68",
   "metadata": {},
   "outputs": [
    {
     "data": {
      "text/html": [
       "<div>\n",
       "<style scoped>\n",
       "    .dataframe tbody tr th:only-of-type {\n",
       "        vertical-align: middle;\n",
       "    }\n",
       "\n",
       "    .dataframe tbody tr th {\n",
       "        vertical-align: top;\n",
       "    }\n",
       "\n",
       "    .dataframe thead th {\n",
       "        text-align: right;\n",
       "    }\n",
       "</style>\n",
       "<table border=\"1\" class=\"dataframe\">\n",
       "  <thead>\n",
       "    <tr style=\"text-align: right;\">\n",
       "      <th></th>\n",
       "      <th>date</th>\n",
       "      <th>station_id</th>\n",
       "      <th>users_count</th>\n",
       "    </tr>\n",
       "  </thead>\n",
       "  <tbody>\n",
       "    <tr>\n",
       "      <th>0</th>\n",
       "      <td>2022-01-01</td>\n",
       "      <td>2782.02</td>\n",
       "      <td>2</td>\n",
       "    </tr>\n",
       "    <tr>\n",
       "      <th>1</th>\n",
       "      <td>2022-01-01</td>\n",
       "      <td>2832.03</td>\n",
       "      <td>3</td>\n",
       "    </tr>\n",
       "    <tr>\n",
       "      <th>2</th>\n",
       "      <td>2022-01-01</td>\n",
       "      <td>2912.08</td>\n",
       "      <td>1</td>\n",
       "    </tr>\n",
       "    <tr>\n",
       "      <th>3</th>\n",
       "      <td>2022-01-01</td>\n",
       "      <td>2932.01</td>\n",
       "      <td>2</td>\n",
       "    </tr>\n",
       "    <tr>\n",
       "      <th>4</th>\n",
       "      <td>2022-01-01</td>\n",
       "      <td>2961.05</td>\n",
       "      <td>1</td>\n",
       "    </tr>\n",
       "    <tr>\n",
       "      <th>...</th>\n",
       "      <td>...</td>\n",
       "      <td>...</td>\n",
       "      <td>...</td>\n",
       "    </tr>\n",
       "    <tr>\n",
       "      <th>81572</th>\n",
       "      <td>2021-12-31</td>\n",
       "      <td>8778.01</td>\n",
       "      <td>1</td>\n",
       "    </tr>\n",
       "    <tr>\n",
       "      <th>81573</th>\n",
       "      <td>2021-12-31</td>\n",
       "      <td>8782.01</td>\n",
       "      <td>2</td>\n",
       "    </tr>\n",
       "    <tr>\n",
       "      <th>81574</th>\n",
       "      <td>2021-12-31</td>\n",
       "      <td>8795.01</td>\n",
       "      <td>2</td>\n",
       "    </tr>\n",
       "    <tr>\n",
       "      <th>81575</th>\n",
       "      <td>2021-12-31</td>\n",
       "      <td>8795.03</td>\n",
       "      <td>2</td>\n",
       "    </tr>\n",
       "    <tr>\n",
       "      <th>81576</th>\n",
       "      <td>2021-12-31</td>\n",
       "      <td>8841.03</td>\n",
       "      <td>3</td>\n",
       "    </tr>\n",
       "  </tbody>\n",
       "</table>\n",
       "<p>150784 rows × 3 columns</p>\n",
       "</div>"
      ],
      "text/plain": [
       "            date station_id users_count\n",
       "0     2022-01-01    2782.02           2\n",
       "1     2022-01-01    2832.03           3\n",
       "2     2022-01-01    2912.08           1\n",
       "3     2022-01-01    2932.01           2\n",
       "4     2022-01-01    2961.05           1\n",
       "...          ...        ...         ...\n",
       "81572 2021-12-31    8778.01           1\n",
       "81573 2021-12-31    8782.01           2\n",
       "81574 2021-12-31    8795.01           2\n",
       "81575 2021-12-31    8795.03           2\n",
       "81576 2021-12-31    8841.03           3\n",
       "\n",
       "[150784 rows x 3 columns]"
      ]
     },
     "execution_count": 3,
     "metadata": {},
     "output_type": "execute_result"
    }
   ],
   "source": [
    "df"
   ]
  },
  {
   "cell_type": "code",
   "execution_count": 4,
   "id": "dd2e0fea",
   "metadata": {},
   "outputs": [
    {
     "name": "stdout",
     "output_type": "stream",
     "text": [
      "\u001b[4mNUMBER OF NULL VALUES PER COLUMN:\u001b[0m\n",
      "date           0\n",
      "station_id     0\n",
      "users_count    0\n",
      "dtype: int64\n"
     ]
    }
   ],
   "source": [
    "print(\"\\033[4mNUMBER OF NULL VALUES PER COLUMN:\\033[0m\")\n",
    "\n",
    "print(df.isnull().sum())"
   ]
  },
  {
   "cell_type": "markdown",
   "id": "H1aYmOX60MXj",
   "metadata": {
    "id": "H1aYmOX60MXj"
   },
   "source": [
    "---"
   ]
  },
  {
   "cell_type": "markdown",
   "id": "be723483",
   "metadata": {},
   "source": [
    "## <span style=\"color:#ff5f27;\"> 📡 Connecting to Hopsworks Feature Store </span>"
   ]
  },
  {
   "cell_type": "code",
   "execution_count": 5,
   "id": "cae776d7",
   "metadata": {
    "id": "cae776d7"
   },
   "outputs": [
    {
     "name": "stdout",
     "output_type": "stream",
     "text": [
      "Copy your Api Key (first register/login): https://c.app.hopsworks.ai/account/api/generated\n",
      "\n",
      "Paste it here: KrCaASkXgou0tsZu.8AFPAKeEiU8zDEYPFz6iUm2IZgtfWmPC1X6uZa6Z4XsGKyInXEJ0Yy8YWzUEWqxC\n",
      "Connected. Call `.close()` to terminate connection gracefully.\n",
      "\n",
      "Logged in to project, explore it here https://c.app.hopsworks.ai:443/p/3235\n"
     ]
    },
    {
     "name": "stderr",
     "output_type": "stream",
     "text": [
      "DeprecationWarning: the imp module is deprecated in favour of importlib; see the module's documentation for alternative uses\n"
     ]
    },
    {
     "name": "stdout",
     "output_type": "stream",
     "text": [
      "Connected. Call `.close()` to terminate connection gracefully.\n"
     ]
    }
   ],
   "source": [
    "import hopsworks\n",
    "project = hopsworks.login()\n",
    "fs = project.get_feature_store()"
   ]
  },
  {
   "cell_type": "markdown",
   "id": "ef0c02f9",
   "metadata": {},
   "source": [
    "---"
   ]
  },
  {
   "cell_type": "markdown",
   "id": "b6411e74",
   "metadata": {},
   "source": [
    "## <span style=\"color:#ff5f27;\"> 🪄 Creating Feature Groups </span>\n",
    "\n",
    "A [feature group](https://docs.hopsworks.ai/feature-store-api/latest/generated/feature_group/) can be seen as a collection of conceptually related features. In this case, you will create a feature group for the Meteorological measurements from SMHI, Electricity prices feature group from NORD POOL and Swedish holidays feature group."
   ]
  },
  {
   "cell_type": "code",
   "execution_count": 26,
   "id": "c691d509",
   "metadata": {
    "id": "c691d509"
   },
   "outputs": [],
   "source": [
    "citibike_stations_fg = fs.get_or_create_feature_group(\n",
    "    name=\"citibike_stations\",\n",
    "    version=1,\n",
    "    description=\"Citibike_stations across the NYC.\",\n",
    "    primary_key=[\"date\", \"station_id\"],\n",
    "    online_enabled=True\n",
    ")"
   ]
  },
  {
   "cell_type": "code",
   "execution_count": 24,
   "id": "14bed205",
   "metadata": {},
   "outputs": [],
   "source": [
    "df.date = df.date.apply(str)\n",
    "df.station_id = df.station_id.apply(str)\n",
    "df.users_count = df.users_count.apply(int)"
   ]
  },
  {
   "cell_type": "code",
   "execution_count": 27,
   "id": "1f96cfcb",
   "metadata": {},
   "outputs": [
    {
     "data": {
      "text/html": [
       "<div>\n",
       "<style scoped>\n",
       "    .dataframe tbody tr th:only-of-type {\n",
       "        vertical-align: middle;\n",
       "    }\n",
       "\n",
       "    .dataframe tbody tr th {\n",
       "        vertical-align: top;\n",
       "    }\n",
       "\n",
       "    .dataframe thead th {\n",
       "        text-align: right;\n",
       "    }\n",
       "</style>\n",
       "<table border=\"1\" class=\"dataframe\">\n",
       "  <thead>\n",
       "    <tr style=\"text-align: right;\">\n",
       "      <th></th>\n",
       "      <th>date</th>\n",
       "      <th>station_id</th>\n",
       "      <th>users_count</th>\n",
       "    </tr>\n",
       "  </thead>\n",
       "  <tbody>\n",
       "    <tr>\n",
       "      <th>0</th>\n",
       "      <td>2022-01-01 00:00:00</td>\n",
       "      <td>0        0        0        0        2782.02\\n1...</td>\n",
       "      <td>2</td>\n",
       "    </tr>\n",
       "    <tr>\n",
       "      <th>1</th>\n",
       "      <td>2022-01-01 00:00:00</td>\n",
       "      <td>0        0        0        0        2782.02\\n1...</td>\n",
       "      <td>3</td>\n",
       "    </tr>\n",
       "    <tr>\n",
       "      <th>2</th>\n",
       "      <td>2022-01-01 00:00:00</td>\n",
       "      <td>0        0        0        0        2782.02\\n1...</td>\n",
       "      <td>1</td>\n",
       "    </tr>\n",
       "    <tr>\n",
       "      <th>3</th>\n",
       "      <td>2022-01-01 00:00:00</td>\n",
       "      <td>0        0        0        0        2782.02\\n1...</td>\n",
       "      <td>2</td>\n",
       "    </tr>\n",
       "    <tr>\n",
       "      <th>4</th>\n",
       "      <td>2022-01-01 00:00:00</td>\n",
       "      <td>0        0        0        0        2782.02\\n1...</td>\n",
       "      <td>1</td>\n",
       "    </tr>\n",
       "    <tr>\n",
       "      <th>...</th>\n",
       "      <td>...</td>\n",
       "      <td>...</td>\n",
       "      <td>...</td>\n",
       "    </tr>\n",
       "    <tr>\n",
       "      <th>81572</th>\n",
       "      <td>2021-12-31 00:00:00</td>\n",
       "      <td>0        0        0        0        2782.02\\n1...</td>\n",
       "      <td>1</td>\n",
       "    </tr>\n",
       "    <tr>\n",
       "      <th>81573</th>\n",
       "      <td>2021-12-31 00:00:00</td>\n",
       "      <td>0        0        0        0        2782.02\\n1...</td>\n",
       "      <td>2</td>\n",
       "    </tr>\n",
       "    <tr>\n",
       "      <th>81574</th>\n",
       "      <td>2021-12-31 00:00:00</td>\n",
       "      <td>0        0        0        0        2782.02\\n1...</td>\n",
       "      <td>2</td>\n",
       "    </tr>\n",
       "    <tr>\n",
       "      <th>81575</th>\n",
       "      <td>2021-12-31 00:00:00</td>\n",
       "      <td>0        0        0        0        2782.02\\n1...</td>\n",
       "      <td>2</td>\n",
       "    </tr>\n",
       "    <tr>\n",
       "      <th>81576</th>\n",
       "      <td>2021-12-31 00:00:00</td>\n",
       "      <td>0        0        0        0        2782.02\\n1...</td>\n",
       "      <td>3</td>\n",
       "    </tr>\n",
       "  </tbody>\n",
       "</table>\n",
       "<p>150784 rows × 3 columns</p>\n",
       "</div>"
      ],
      "text/plain": [
       "                      date                                         station_id  \\\n",
       "0      2022-01-01 00:00:00  0        0        0        0        2782.02\\n1...   \n",
       "1      2022-01-01 00:00:00  0        0        0        0        2782.02\\n1...   \n",
       "2      2022-01-01 00:00:00  0        0        0        0        2782.02\\n1...   \n",
       "3      2022-01-01 00:00:00  0        0        0        0        2782.02\\n1...   \n",
       "4      2022-01-01 00:00:00  0        0        0        0        2782.02\\n1...   \n",
       "...                    ...                                                ...   \n",
       "81572  2021-12-31 00:00:00  0        0        0        0        2782.02\\n1...   \n",
       "81573  2021-12-31 00:00:00  0        0        0        0        2782.02\\n1...   \n",
       "81574  2021-12-31 00:00:00  0        0        0        0        2782.02\\n1...   \n",
       "81575  2021-12-31 00:00:00  0        0        0        0        2782.02\\n1...   \n",
       "81576  2021-12-31 00:00:00  0        0        0        0        2782.02\\n1...   \n",
       "\n",
       "       users_count  \n",
       "0                2  \n",
       "1                3  \n",
       "2                1  \n",
       "3                2  \n",
       "4                1  \n",
       "...            ...  \n",
       "81572            1  \n",
       "81573            2  \n",
       "81574            2  \n",
       "81575            2  \n",
       "81576            3  \n",
       "\n",
       "[150784 rows x 3 columns]"
      ]
     },
     "execution_count": 27,
     "metadata": {},
     "output_type": "execute_result"
    }
   ],
   "source": [
    "df"
   ]
  },
  {
   "cell_type": "code",
   "execution_count": 25,
   "id": "67228279",
   "metadata": {
    "id": "67228279"
   },
   "outputs": [
    {
     "ename": "FeatureStoreException",
     "evalue": "Features are not compatible with Feature Group schema: \n - date (expected type: 'timestamp', derived from input: 'string') has the wrong type.",
     "output_type": "error",
     "traceback": [
      "\u001b[1;31m---------------------------------------------------------------------------\u001b[0m",
      "\u001b[1;31mFeatureStoreException\u001b[0m                     Traceback (most recent call last)",
      "Input \u001b[1;32mIn [25]\u001b[0m, in \u001b[0;36m<cell line: 1>\u001b[1;34m()\u001b[0m\n\u001b[1;32m----> 1\u001b[0m \u001b[43mcitibike_stations_fg\u001b[49m\u001b[38;5;241;43m.\u001b[39;49m\u001b[43minsert\u001b[49m\u001b[43m(\u001b[49m\u001b[43mdf\u001b[49m\u001b[43m)\u001b[49m\n",
      "File \u001b[1;32m~\\Documents\\hopsworks\\venv38\\lib\\site-packages\\hsfs\\feature_group.py:1075\u001b[0m, in \u001b[0;36mFeatureGroup.insert\u001b[1;34m(self, features, overwrite, operation, storage, write_options, validation_options)\u001b[0m\n\u001b[0;32m   1015\u001b[0m \u001b[38;5;124;03m\"\"\"Persist the metadata and materialize the feature group to the feature store\u001b[39;00m\n\u001b[0;32m   1016\u001b[0m \u001b[38;5;124;03mor insert data from a dataframe into the existing feature group.\u001b[39;00m\n\u001b[0;32m   1017\u001b[0m \n\u001b[1;32m   (...)\u001b[0m\n\u001b[0;32m   1071\u001b[0m \u001b[38;5;124;03m    `FeatureGroup`. Updated feature group metadata object.\u001b[39;00m\n\u001b[0;32m   1072\u001b[0m \u001b[38;5;124;03m\"\"\"\u001b[39;00m\n\u001b[0;32m   1073\u001b[0m feature_dataframe \u001b[38;5;241m=\u001b[39m engine\u001b[38;5;241m.\u001b[39mget_instance()\u001b[38;5;241m.\u001b[39mconvert_to_default_dataframe(features)\n\u001b[1;32m-> 1075\u001b[0m job, ge_report \u001b[38;5;241m=\u001b[39m \u001b[38;5;28;43mself\u001b[39;49m\u001b[38;5;241;43m.\u001b[39;49m\u001b[43m_feature_group_engine\u001b[49m\u001b[38;5;241;43m.\u001b[39;49m\u001b[43minsert\u001b[49m\u001b[43m(\u001b[49m\n\u001b[0;32m   1076\u001b[0m \u001b[43m    \u001b[49m\u001b[38;5;28;43mself\u001b[39;49m\u001b[43m,\u001b[49m\n\u001b[0;32m   1077\u001b[0m \u001b[43m    \u001b[49m\u001b[43mfeature_dataframe\u001b[49m\u001b[43m,\u001b[49m\n\u001b[0;32m   1078\u001b[0m \u001b[43m    \u001b[49m\u001b[43moverwrite\u001b[49m\u001b[43m,\u001b[49m\n\u001b[0;32m   1079\u001b[0m \u001b[43m    \u001b[49m\u001b[43moperation\u001b[49m\u001b[43m,\u001b[49m\n\u001b[0;32m   1080\u001b[0m \u001b[43m    \u001b[49m\u001b[43mstorage\u001b[49m\u001b[38;5;241;43m.\u001b[39;49m\u001b[43mlower\u001b[49m\u001b[43m(\u001b[49m\u001b[43m)\u001b[49m\u001b[43m \u001b[49m\u001b[38;5;28;43;01mif\u001b[39;49;00m\u001b[43m \u001b[49m\u001b[43mstorage\u001b[49m\u001b[43m \u001b[49m\u001b[38;5;129;43;01mis\u001b[39;49;00m\u001b[43m \u001b[49m\u001b[38;5;129;43;01mnot\u001b[39;49;00m\u001b[43m \u001b[49m\u001b[38;5;28;43;01mNone\u001b[39;49;00m\u001b[43m \u001b[49m\u001b[38;5;28;43;01melse\u001b[39;49;00m\u001b[43m \u001b[49m\u001b[38;5;28;43;01mNone\u001b[39;49;00m\u001b[43m,\u001b[49m\n\u001b[0;32m   1081\u001b[0m \u001b[43m    \u001b[49m\u001b[43mwrite_options\u001b[49m\u001b[43m,\u001b[49m\n\u001b[0;32m   1082\u001b[0m \u001b[43m    \u001b[49m\u001b[43mvalidation_options\u001b[49m\u001b[43m,\u001b[49m\n\u001b[0;32m   1083\u001b[0m \u001b[43m\u001b[49m\u001b[43m)\u001b[49m\n\u001b[0;32m   1085\u001b[0m \u001b[38;5;28;01mif\u001b[39;00m ge_report \u001b[38;5;129;01mis\u001b[39;00m \u001b[38;5;28;01mNone\u001b[39;00m \u001b[38;5;129;01mor\u001b[39;00m ge_report\u001b[38;5;241m.\u001b[39mingestion_result \u001b[38;5;241m==\u001b[39m \u001b[38;5;124m\"\u001b[39m\u001b[38;5;124mINGESTED\u001b[39m\u001b[38;5;124m\"\u001b[39m:\n\u001b[0;32m   1086\u001b[0m     \u001b[38;5;28mself\u001b[39m\u001b[38;5;241m.\u001b[39m_code_engine\u001b[38;5;241m.\u001b[39msave_code(\u001b[38;5;28mself\u001b[39m)\n",
      "File \u001b[1;32m~\\Documents\\hopsworks\\venv38\\lib\\site-packages\\hsfs\\core\\feature_group_engine.py:84\u001b[0m, in \u001b[0;36mFeatureGroupEngine.insert\u001b[1;34m(self, feature_group, feature_dataframe, overwrite, operation, storage, write_options, validation_options)\u001b[0m\n\u001b[0;32m     78\u001b[0m dataframe_features \u001b[38;5;241m=\u001b[39m engine\u001b[38;5;241m.\u001b[39mget_instance()\u001b[38;5;241m.\u001b[39mparse_schema_feature_group(\n\u001b[0;32m     79\u001b[0m     feature_dataframe, feature_group\u001b[38;5;241m.\u001b[39mtime_travel_format\n\u001b[0;32m     80\u001b[0m )\n\u001b[0;32m     82\u001b[0m \u001b[38;5;28;01mif\u001b[39;00m \u001b[38;5;129;01mnot\u001b[39;00m feature_group\u001b[38;5;241m.\u001b[39m_id:\n\u001b[0;32m     83\u001b[0m     \u001b[38;5;66;03m# only save metadata if feature group does not exist\u001b[39;00m\n\u001b[1;32m---> 84\u001b[0m     \u001b[38;5;28;43mself\u001b[39;49m\u001b[38;5;241;43m.\u001b[39;49m\u001b[43m_save_feature_group_metadata\u001b[49m\u001b[43m(\u001b[49m\n\u001b[0;32m     85\u001b[0m \u001b[43m        \u001b[49m\u001b[43mfeature_group\u001b[49m\u001b[43m,\u001b[49m\u001b[43m \u001b[49m\u001b[43mdataframe_features\u001b[49m\u001b[43m,\u001b[49m\u001b[43m \u001b[49m\u001b[43mwrite_options\u001b[49m\n\u001b[0;32m     86\u001b[0m \u001b[43m    \u001b[49m\u001b[43m)\u001b[49m\n\u001b[0;32m     87\u001b[0m \u001b[38;5;28;01melse\u001b[39;00m:\n\u001b[0;32m     88\u001b[0m     \u001b[38;5;66;03m# else, just verify that feature group schema matches user-provided dataframe\u001b[39;00m\n\u001b[0;32m     89\u001b[0m     \u001b[38;5;28mself\u001b[39m\u001b[38;5;241m.\u001b[39m_verify_schema_compatibility(\n\u001b[0;32m     90\u001b[0m         feature_group\u001b[38;5;241m.\u001b[39mfeatures, dataframe_features\n\u001b[0;32m     91\u001b[0m     )\n",
      "File \u001b[1;32m~\\Documents\\hopsworks\\venv38\\lib\\site-packages\\hsfs\\core\\feature_group_engine.py:371\u001b[0m, in \u001b[0;36mFeatureGroupEngine._save_feature_group_metadata\u001b[1;34m(self, feature_group, dataframe_features, write_options)\u001b[0m\n\u001b[0;32m    368\u001b[0m     feature_group\u001b[38;5;241m.\u001b[39m_features \u001b[38;5;241m=\u001b[39m dataframe_features\n\u001b[0;32m    369\u001b[0m \u001b[38;5;28;01melse\u001b[39;00m:\n\u001b[0;32m    370\u001b[0m     \u001b[38;5;66;03m# User provided a schema; check if it is compatible with dataframe.\u001b[39;00m\n\u001b[1;32m--> 371\u001b[0m     \u001b[38;5;28;43mself\u001b[39;49m\u001b[38;5;241;43m.\u001b[39;49m\u001b[43m_verify_schema_compatibility\u001b[49m\u001b[43m(\u001b[49m\n\u001b[0;32m    372\u001b[0m \u001b[43m        \u001b[49m\u001b[43mfeature_group\u001b[49m\u001b[38;5;241;43m.\u001b[39;49m\u001b[43mfeatures\u001b[49m\u001b[43m,\u001b[49m\u001b[43m \u001b[49m\u001b[43mdataframe_features\u001b[49m\n\u001b[0;32m    373\u001b[0m \u001b[43m    \u001b[49m\u001b[43m)\u001b[49m\n\u001b[0;32m    375\u001b[0m \u001b[38;5;66;03m# set primary and partition key columns\u001b[39;00m\n\u001b[0;32m    376\u001b[0m \u001b[38;5;66;03m# we should move this to the backend\u001b[39;00m\n\u001b[0;32m    377\u001b[0m \u001b[38;5;28;01mfor\u001b[39;00m feat \u001b[38;5;129;01min\u001b[39;00m feature_group\u001b[38;5;241m.\u001b[39mfeatures:\n",
      "File \u001b[1;32m~\\Documents\\hopsworks\\venv38\\lib\\site-packages\\hsfs\\core\\feature_group_engine.py:356\u001b[0m, in \u001b[0;36mFeatureGroupEngine._verify_schema_compatibility\u001b[1;34m(self, feature_group_features, dataframe_features)\u001b[0m\n\u001b[0;32m    354\u001b[0m \u001b[38;5;66;03m# raise exception if any errors were found.\u001b[39;00m\n\u001b[0;32m    355\u001b[0m \u001b[38;5;28;01mif\u001b[39;00m \u001b[38;5;28mlen\u001b[39m(err) \u001b[38;5;241m>\u001b[39m \u001b[38;5;241m0\u001b[39m:\n\u001b[1;32m--> 356\u001b[0m     \u001b[38;5;28;01mraise\u001b[39;00m FeatureStoreException(\n\u001b[0;32m    357\u001b[0m         \u001b[38;5;124m\"\u001b[39m\u001b[38;5;124mFeatures are not compatible with Feature Group schema: \u001b[39m\u001b[38;5;124m\"\u001b[39m\n\u001b[0;32m    358\u001b[0m         \u001b[38;5;241m+\u001b[39m \u001b[38;5;124m\"\u001b[39m\u001b[38;5;124m\"\u001b[39m\u001b[38;5;241m.\u001b[39mjoin([\u001b[38;5;124m\"\u001b[39m\u001b[38;5;130;01m\\n\u001b[39;00m\u001b[38;5;124m - \u001b[39m\u001b[38;5;124m\"\u001b[39m \u001b[38;5;241m+\u001b[39m e \u001b[38;5;28;01mfor\u001b[39;00m e \u001b[38;5;129;01min\u001b[39;00m err])\n\u001b[0;32m    359\u001b[0m     )\n",
      "\u001b[1;31mFeatureStoreException\u001b[0m: Features are not compatible with Feature Group schema: \n - date (expected type: 'timestamp', derived from input: 'string') has the wrong type."
     ]
    }
   ],
   "source": [
    "citibike_stations_fg.insert(df)"
   ]
  },
  {
   "cell_type": "markdown",
   "id": "d593978d",
   "metadata": {},
   "source": [
    "---"
   ]
  },
  {
   "cell_type": "markdown",
   "id": "93a731a8",
   "metadata": {
    "id": "47a81314"
   },
   "source": [
    "## <span style=\"color:#ff5f27;\">⏭️ **Next:** Part 02 </span>\n",
    "\n",
    "In the next notebook, you will be generating new data for the Feature Groups."
   ]
  }
 ],
 "metadata": {
  "colab": {
   "collapsed_sections": [],
   "provenance": []
  },
  "kernelspec": {
   "display_name": "Python 3 (ipykernel)",
   "language": "python",
   "name": "python3"
  },
  "language_info": {
   "codemirror_mode": {
    "name": "ipython",
    "version": 3
   },
   "file_extension": ".py",
   "mimetype": "text/x-python",
   "name": "python",
   "nbconvert_exporter": "python",
   "pygments_lexer": "ipython3",
   "version": "3.8.0"
  }
 },
 "nbformat": 4,
 "nbformat_minor": 5
}
