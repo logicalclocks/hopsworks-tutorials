{
 "cells": [
  {
   "cell_type": "markdown",
   "id": "c958e52b",
   "metadata": {},
   "source": [
    "# <span style=\"font-width:bold; font-size: 3rem; color:#1EB182;\"><img src=\"../images/icon102.png\" width=\"38px\"></img> **Hopsworks Feature Store** </span><span style=\"font-width:bold; font-size: 3rem; color:#333;\">- Part 04: Batch Inference</span>\n",
    "\n",
    "[![Open In Colab](https://colab.research.google.com/assets/colab-badge.svg)](https://colab.research.google.com/github/logicalclocks/hopsworks-tutorials/blob/master/bitcoin/4_bitcoin_batch_inference.ipynb)\n",
    "\n",
    "## 🗒️ This notebook is divided into the following sections:\n",
    "\n",
    "1. Use the deployment to make a prediciton.\n",
    "2. Retrieve batch data.\n",
    "3. Batch prediction using deployment."
   ]
  },
  {
   "cell_type": "markdown",
   "id": "8855ee1a",
   "metadata": {},
   "source": [
    "## <span style='color:#ff5f27'> 📝 Imports"
   ]
  },
  {
   "cell_type": "code",
   "execution_count": null,
   "id": "019c9226",
   "metadata": {},
   "outputs": [],
   "source": [
    "import joblib\n",
    "import time"
   ]
  },
  {
   "cell_type": "markdown",
   "id": "ce2fe8a8",
   "metadata": {},
   "source": [
    "## <span style=\"color:#ff5f27;\"> 📡 Connecting to Hopsworks Feature Store </span>"
   ]
  },
  {
   "cell_type": "code",
   "execution_count": null,
   "id": "39f83bc9",
   "metadata": {},
   "outputs": [],
   "source": [
    "import hopsworks\n",
    "\n",
    "project = hopsworks.login()\n",
    "\n",
    "fs = project.get_feature_store()"
   ]
  },
  {
   "cell_type": "markdown",
   "id": "87485ee0",
   "metadata": {},
   "source": [
    "## <span style=\"color:#ff5f27;\"> ⚙️ Feature View Retrieval</span>\n"
   ]
  },
  {
   "cell_type": "code",
   "execution_count": null,
   "id": "e622d6b4",
   "metadata": {},
   "outputs": [],
   "source": [
    "feature_view = fs.get_feature_view(\n",
    "    name='fv_name',\n",
    "    version=1,\n",
    ")"
   ]
  },
  {
   "cell_type": "markdown",
   "id": "e1dac8b6",
   "metadata": {},
   "source": [
    "## <span style=\"color:#ff5f27;\">🗄 Model Registry</span>\n"
   ]
  },
  {
   "cell_type": "code",
   "execution_count": null,
   "id": "ca35a9f4",
   "metadata": {},
   "outputs": [],
   "source": [
    "mr = project.get_model_registry()"
   ]
  },
  {
   "cell_type": "markdown",
   "id": "6f3589dc",
   "metadata": {},
   "source": [
    "## <span style='color:#ff5f27'>🪝 Retrieve Deployment</span>\n"
   ]
  },
  {
   "cell_type": "code",
   "execution_count": null,
   "id": "6ac8014f",
   "metadata": {},
   "outputs": [],
   "source": [
    "# get deployment object\n",
    "deployment = ms.get_deployment(\"btcmodeldeployment\")"
   ]
  },
  {
   "cell_type": "markdown",
   "id": "5031ddfa",
   "metadata": {},
   "source": [
    "To start it you need to run:"
   ]
  },
  {
   "cell_type": "code",
   "execution_count": null,
   "id": "264d4709",
   "metadata": {},
   "outputs": [],
   "source": [
    "deployment.start(await_running=120)"
   ]
  },
  {
   "cell_type": "markdown",
   "id": "a814e499",
   "metadata": {},
   "source": [
    "---\n",
    "## <span style=\"color:#ff5f27;\">🔮 Predicting</span>\n",
    "\n",
    "Using the deployment let's use the input example that we registered together with the model to query the deployment."
   ]
  },
  {
   "cell_type": "code",
   "execution_count": null,
   "id": "391d72aa",
   "metadata": {},
   "outputs": [],
   "source": [
    "today = datetime.today()\n",
    "latest_date = int(time.mktime(today.timetuple()) * 1000) # converting todays datetime to unix\n",
    "\n",
    "deployment_output = deployment.predict(inputs=[latest_date])\n",
    "# or deployment.predict({ \"instances\": [[latest_date]] })\n",
    "\n",
    "deployment_output"
   ]
  },
  {
   "cell_type": "code",
   "execution_count": null,
   "id": "b8b1c33e",
   "metadata": {},
   "outputs": [],
   "source": [
    "pred_encoded = pd.DataFrame(\n",
    "    deployment_output[\"predictions\"],\n",
    "    columns=[\"close\"],\n",
    ") # since we applied transformation function to the 'close' columns,\n",
    "  # now we need to provide a df with the same column name to decode.\n",
    "                                                \n",
    "pred = decode_features(pred_encoded, feature_view=feature_view)"
   ]
  },
  {
   "cell_type": "code",
   "execution_count": null,
   "id": "5fca5842",
   "metadata": {},
   "outputs": [],
   "source": [
    "pred = pred.rename(columns={\"close\": \"predicted_price\"})\n",
    "pred[\"datetime\"] = [today.strftime(\"%Y-%m-%d\")]\n",
    "pred"
   ]
  },
  {
   "cell_type": "markdown",
   "id": "087f239a",
   "metadata": {},
   "source": [
    "## <span style=\"color:#ff5f27;\"> ✨ Load Batch Data of last days</span>"
   ]
  },
  {
   "cell_type": "code",
   "execution_count": null,
   "id": "8c02dd61",
   "metadata": {},
   "outputs": [],
   "source": [
    "feature_view.init_batch_scoring(training_dataset_version=1)\n",
    "\n",
    "batch_data = feature_view.get_batch_data().drop('unix',axis=1)\n",
    "batch_data.head()"
   ]
  },
  {
   "cell_type": "code",
   "execution_count": null,
   "id": "e14a9c12",
   "metadata": {},
   "outputs": [],
   "source": [
    "model = mr.get_model(\"bitcoin_price_model\", version=1)\n",
    "model_dir = model.download()\n",
    "\n",
    "loaded_model = tf.saved_model.load(model_dir)\n",
    "serving_function = loaded_model.signatures[\"serving_default\"]"
   ]
  },
  {
   "cell_type": "code",
   "execution_count": null,
   "id": "86195a9e",
   "metadata": {},
   "outputs": [],
   "source": [
    "predictions_batch = serving_function(tf.constant(\n",
    "    batch_data.values.reshape(\n",
    "        -1,batch_data.shape[0],batch_data.shape[1]),\n",
    "    tf.float32\n",
    "))['dense_1'].numpy()"
   ]
  },
  {
   "cell_type": "markdown",
   "id": "f584301a",
   "metadata": {},
   "source": [
    "Recall that you applied transformation functions, such as min max scaler and laber encoder. \n",
    "\n",
    "Now you want to transform them back to human readable format."
   ]
  },
  {
   "cell_type": "code",
   "execution_count": null,
   "id": "513c088b",
   "metadata": {},
   "outputs": [],
   "source": [
    "pred_batch_encoded = pd.DataFrame(\n",
    "    predictions_batch,\n",
    "    columns=[\"close\"],\n",
    ") # since we applied transformation function to the 'close' columns,\n",
    "  # now we need to provide a df with the same column name to decode.\n",
    "                                                \n",
    "pred_batch = decode_features(pred_batch_encoded, feature_view=feature_view)\n",
    "pred_batch.tail(5)"
   ]
  },
  {
   "cell_type": "markdown",
   "id": "926ee408",
   "metadata": {},
   "source": [
    "Stop your deployment"
   ]
  },
  {
   "cell_type": "code",
   "execution_count": null,
   "id": "3bf0f818",
   "metadata": {},
   "outputs": [],
   "source": [
    "deployment.stop(await_stopped=180)"
   ]
  },
  {
   "cell_type": "markdown",
   "id": "89bc07f2",
   "metadata": {},
   "source": [
    "---\n",
    "\n",
    "### <span style=\"color:#ff5f27;\">🥳 <b> Next Steps  </b> </span>\n",
    "Congratulations you've now completed the Bitcoin price prediction tutorial for Managed Hopsworks.\n",
    "\n",
    "Check out our other tutorials on ➡ https://github.com/logicalclocks/hopsworks-tutorials\n",
    "\n",
    "Or documentation at ➡ https://docs.hopsworks.ai"
   ]
  }
 ],
 "metadata": {
  "kernelspec": {
   "display_name": "Python 3 (ipykernel)",
   "language": "python",
   "name": "python3"
  },
  "language_info": {
   "codemirror_mode": {
    "name": "ipython",
    "version": 3
   },
   "file_extension": ".py",
   "mimetype": "text/x-python",
   "name": "python",
   "nbconvert_exporter": "python",
   "pygments_lexer": "ipython3",
   "version": "3.9.12"
  }
 },
 "nbformat": 4,
 "nbformat_minor": 5
}
