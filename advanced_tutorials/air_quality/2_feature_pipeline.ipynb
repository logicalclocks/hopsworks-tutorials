{
 "cells": [
  {
   "cell_type": "markdown",
   "id": "dd094af7",
   "metadata": {},
   "source": [
    "# <span style=\"font-width:bold; font-size: 3rem; color:#1EB182;\"><img src=\"../../images/icon102.png\" width=\"38px\"></img> **Hopsworks Feature Store** </span><span style=\"font-width:bold; font-size: 3rem; color:#333;\">- Part 02: Feature Pipeline</span>\n",
    "\n",
    "[![Open In Colab](https://colab.research.google.com/assets/colab-badge.svg)](https://colab.research.google.com/github/logicalclocks/hopsworks-tutorials/blob/master/advanced_tutorials/air_quality/2_feature_pipeline.ipynb)\n",
    "\n",
    "\n",
    "## 🗒️ This notebook is divided into the following sections:\n",
    "1. Parse Data\n",
    "2. Feature Group Insertion"
   ]
  },
  {
   "cell_type": "markdown",
   "id": "a7dcc328",
   "metadata": {},
   "source": [
    "### <span style='color:#ff5f27'> 📝 Imports"
   ]
  },
  {
   "cell_type": "code",
   "execution_count": 1,
   "id": "364e961e",
   "metadata": {},
   "outputs": [],
   "source": [
    "import datetime\n",
    "import time\n",
    "import requests\n",
    "import pandas as pd\n",
    "import json\n",
    "\n",
    "from functions import *\n",
    "import features.air_quality\n",
    "\n",
    "import warnings\n",
    "warnings.filterwarnings(\"ignore\")"
   ]
  },
  {
   "cell_type": "code",
   "execution_count": 2,
   "id": "50d04cc5-6788-4a4c-9f87-c2e00b5fce49",
   "metadata": {
    "tags": []
   },
   "outputs": [],
   "source": [
    "with open('target_cities.json') as json_file:\n",
    "    target_cities = json.load(json_file)"
   ]
  },
  {
   "cell_type": "code",
   "execution_count": 3,
   "id": "b0d2261f-8907-44f4-9f1a-bd9ec5e1556f",
   "metadata": {
    "tags": []
   },
   "outputs": [],
   "source": [
    "today = datetime.date.today()"
   ]
  },
  {
   "cell_type": "code",
   "execution_count": 4,
   "id": "72eadd78-124d-423c-ad37-2d7ba0ae5f28",
   "metadata": {
    "tags": []
   },
   "outputs": [
    {
     "data": {
      "text/plain": [
       "(datetime.date(2023, 4, 17), '2023-04-17')"
      ]
     },
     "execution_count": 4,
     "metadata": {},
     "output_type": "execute_result"
    }
   ],
   "source": [
    "today, str(today)"
   ]
  },
  {
   "cell_type": "markdown",
   "id": "c7f61053-a8c0-48a7-afa4-0e8733d2a54a",
   "metadata": {},
   "source": [
    "---"
   ]
  },
  {
   "cell_type": "markdown",
   "id": "459ee37e-7e74-4051-97f6-2e03f9cac9d8",
   "metadata": {},
   "source": [
    "## <span style='color:#ff5f27'> 🌫 Filling gaps in Air Quality data (PM2.5)</span>"
   ]
  },
  {
   "cell_type": "markdown",
   "id": "ecfb9f24-86ad-4614-a94b-32f17f10c1cc",
   "metadata": {},
   "source": [
    "### First time we will determine the 'last update date' using our backfill data\n",
    "#### Next time we will use `feature view` method from Hopsworks Feature Store"
   ]
  },
  {
   "cell_type": "code",
   "execution_count": 5,
   "id": "3556fa42-e5dd-4360-b98e-5b3d10048e0f",
   "metadata": {
    "scrolled": true,
    "tags": []
   },
   "outputs": [],
   "source": [
    "df_air_quality = pd.read_csv(\"data/backfill_pm2_5.csv\")\n",
    "df_weather = pd.read_csv(\"data/backfill_weather.csv\")"
   ]
  },
  {
   "cell_type": "code",
   "execution_count": 6,
   "id": "03063bc6-b58f-47f4-bfc6-8020ec196478",
   "metadata": {
    "tags": []
   },
   "outputs": [],
   "source": [
    "last_dates_aq = df_air_quality[[\"date\", \"city_name\"]].groupby(\"city_name\").max()\n",
    "last_dates_aq.date = last_dates_aq.date.astype(str)\n",
    "\n",
    "# here is a dictionary with city names as keys and last updated date as values\n",
    "last_dates_aq = last_dates_aq.to_dict()[\"date\"]"
   ]
  },
  {
   "cell_type": "code",
   "execution_count": 7,
   "id": "5e868bdf-e91a-410a-b654-a315c605f3dc",
   "metadata": {
    "tags": []
   },
   "outputs": [
    {
     "data": {
      "text/plain": [
       "('2023-04-17', '2023-04-17')"
      ]
     },
     "execution_count": 7,
     "metadata": {},
     "output_type": "execute_result"
    }
   ],
   "source": [
    "last_dates_aq[\"Berlin\"], last_dates_aq[\"Columbus\"]"
   ]
  },
  {
   "cell_type": "markdown",
   "id": "77c4ee8d-7f7e-4bd0-a97b-c3ac0d7db50f",
   "metadata": {},
   "source": [
    "### <span style='color:#ff5f27'>  🧙🏼‍♂️ Parsing PM2.5 data"
   ]
  },
  {
   "cell_type": "code",
   "execution_count": 8,
   "id": "112a7974-37cb-4195-bc71-328af428c491",
   "metadata": {
    "scrolled": true,
    "tags": []
   },
   "outputs": [
    {
     "name": "stdout",
     "output_type": "stream",
     "text": [
      "Processed PM2_5 for NORTH BEND - NORTH BEND WAY since 2023-04-17 till 2023-04-17.\n",
      "Took 0.15 sec.\n",
      "\n",
      "Processed PM2_5 for LAKE FOREST PARK TOWNE CENTER since 2023-04-17 till 2023-04-17.\n",
      "Took 0.14 sec.\n",
      "\n",
      "Processed PM2_5 for SEATTLE - DUWAMISH since 2023-04-17 till 2023-04-17.\n",
      "Took 0.13 sec.\n",
      "\n",
      "Processed PM2_5 for SEATTLE - BEACON HILL since 2023-04-17 till 2023-04-17.\n",
      "Took 0.13 sec.\n",
      "\n",
      "Processed PM2_5 for SEATTLE - SOUTH PARK #2 since 2023-04-17 till 2023-04-17.\n",
      "Took 0.13 sec.\n",
      "\n",
      "Processed PM2_5 for KENT - JAMES & CENTRAL since 2023-04-17 till 2023-04-17.\n",
      "Took 0.14 sec.\n",
      "\n",
      "Processed PM2_5 for TACOMA - L STREET since 2023-04-17 till 2023-04-17.\n",
      "Took 0.13 sec.\n",
      "\n",
      "Processed PM2_5 for TACOMA - ALEXANDER AVE since 2023-04-17 till 2023-04-17.\n",
      "Took 0.13 sec.\n",
      "\n",
      "Processed PM2_5 for DARRINGTON - FIR ST (Darrington High School) since 2023-04-17 till 2023-04-17.\n",
      "Took 0.13 sec.\n",
      "\n",
      "Processed PM2_5 for MARYSVILLE - 7TH AVE (Marysville Junior High) since 2023-04-17 till 2023-04-17.\n",
      "Took 0.13 sec.\n",
      "\n",
      "Processed PM2_5 for Seattle-10th & Weller since 2023-04-17 till 2023-04-17.\n",
      "Took 0.13 sec.\n",
      "\n",
      "Processed PM2_5 for Bellevue-SE 12th St since 2023-04-17 till 2023-04-17.\n",
      "Took 0.13 sec.\n",
      "\n",
      "Processed PM2_5 for Tacoma-S 36th St since 2023-04-17 till 2023-04-17.\n",
      "Took 0.14 sec.\n",
      "\n",
      "Processed PM2_5 for Tukwila Allentown since 2023-04-17 till 2023-04-17.\n",
      "Took 0.13 sec.\n",
      "\n",
      "Processed PM2_5 for Tulalip-Totem Beach Rd since 2023-04-17 till 2023-04-17.\n",
      "Took 0.13 sec.\n",
      "\n",
      "Processed PM2_5 for Amsterdam since 2023-04-17 till 2023-04-17.\n",
      "Took 0.14 sec.\n",
      "\n",
      "Processed PM2_5 for Athina since 2023-04-17 till 2023-04-17.\n",
      "Took 0.13 sec.\n",
      "\n",
      "Processed PM2_5 for Berlin since 2023-04-17 till 2023-04-17.\n",
      "Took 0.13 sec.\n",
      "\n",
      "Processed PM2_5 for Gdansk since 2023-04-17 till 2023-04-17.\n",
      "Took 0.13 sec.\n",
      "\n",
      "Processed PM2_5 for Kraków since 2023-04-17 till 2023-04-17.\n",
      "Took 0.13 sec.\n",
      "\n",
      "Processed PM2_5 for London since 2023-04-17 till 2023-04-17.\n",
      "Took 0.13 sec.\n",
      "\n",
      "Processed PM2_5 for Madrid since 2023-04-17 till 2023-04-17.\n",
      "Took 0.13 sec.\n",
      "\n",
      "Processed PM2_5 for Marseille since 2023-04-17 till 2023-04-17.\n",
      "Took 0.13 sec.\n",
      "\n",
      "Processed PM2_5 for Milano since 2023-04-17 till 2023-04-17.\n",
      "Took 0.13 sec.\n",
      "\n",
      "Processed PM2_5 for München since 2023-04-17 till 2023-04-17.\n",
      "Took 0.13 sec.\n",
      "\n",
      "Processed PM2_5 for Napoli since 2023-04-17 till 2023-04-17.\n",
      "Took 0.13 sec.\n",
      "\n",
      "Processed PM2_5 for Paris since 2023-04-17 till 2023-04-17.\n",
      "Took 0.13 sec.\n",
      "\n",
      "Processed PM2_5 for Sevilla since 2023-04-17 till 2023-04-17.\n",
      "Took 0.13 sec.\n",
      "\n",
      "Processed PM2_5 for Stockholm since 2023-04-17 till 2023-04-17.\n",
      "Took 0.14 sec.\n",
      "\n",
      "Processed PM2_5 for Tallinn since 2023-04-17 till 2023-04-17.\n",
      "Took 0.13 sec.\n",
      "\n",
      "Processed PM2_5 for Varna since 2023-04-17 till 2023-04-17.\n",
      "Took 0.13 sec.\n",
      "\n",
      "Processed PM2_5 for Wien since 2023-04-17 till 2023-04-17.\n",
      "Took 0.13 sec.\n",
      "\n",
      "Processed PM2_5 for Albuquerque since 2023-04-17 till 2023-04-17.\n",
      "Took 0.14 sec.\n",
      "\n",
      "Processed PM2_5 for Atlanta since 2023-04-17 till 2023-04-17.\n",
      "Took 0.14 sec.\n",
      "\n",
      "Processed PM2_5 for Chicago since 2023-04-17 till 2023-04-17.\n",
      "Took 0.13 sec.\n",
      "\n",
      "Processed PM2_5 for Columbus since 2023-04-17 till 2023-04-17.\n",
      "Took 0.13 sec.\n",
      "\n",
      "Processed PM2_5 for Dallas since 2023-04-17 till 2023-04-17.\n",
      "Took 0.13 sec.\n",
      "\n",
      "Processed PM2_5 for Denver since 2023-04-17 till 2023-04-17.\n",
      "Took 0.13 sec.\n",
      "\n",
      "Processed PM2_5 for Houston since 2023-04-17 till 2023-04-17.\n",
      "Took 0.14 sec.\n",
      "\n",
      "Processed PM2_5 for Los Angeles since 2023-04-17 till 2023-04-17.\n",
      "Took 0.13 sec.\n",
      "\n",
      "Processed PM2_5 for New York since 2023-04-17 till 2023-04-17.\n",
      "Took 0.13 sec.\n",
      "\n",
      "Processed PM2_5 for Phoenix-Mesa since 2023-04-17 till 2023-04-17.\n",
      "Took 0.13 sec.\n",
      "\n",
      "Processed PM2_5 for Salt Lake City since 2023-04-17 till 2023-04-17.\n",
      "Took 0.13 sec.\n",
      "\n",
      "Processed PM2_5 for San Francisco since 2023-04-17 till 2023-04-17.\n",
      "Took 0.13 sec.\n",
      "\n",
      "Processed PM2_5 for Tampa since 2023-04-17 till 2023-04-17.\n",
      "Took 0.13 sec.\n",
      "\n",
      "----------------------------------------------------------------\n",
      "Parsed new PM2.5 data for ALL locations up to 2023-04-17.\n",
      "Took 6.06 sec.\n",
      "\n"
     ]
    }
   ],
   "source": [
    "start_of_cell = time.time()\n",
    "\n",
    "df_aq_update = pd.DataFrame()\n",
    "\n",
    "for continent in target_cities:\n",
    "    for city_name, coords in target_cities[continent].items():\n",
    "        df_ = get_aqi_data_from_open_meteo(city_name=city_name,\n",
    "                                           coordinates=coords,\n",
    "                                           start_date=last_dates_aq[city_name],\n",
    "                                           end_date=str(today))\n",
    "        df_aq_update = pd.concat([df_aq_update, df_]).reset_index(drop=True)\n",
    "    \n",
    "end_of_cell = time.time()\n",
    "print(\"-\" * 64)\n",
    "print(f\"Parsed new PM2.5 data for ALL locations up to {str(today)}.\")\n",
    "print(f\"Took {round(end_of_cell - start_of_cell, 2)} sec.\\n\")"
   ]
  },
  {
   "cell_type": "code",
   "execution_count": 15,
   "id": "c554a518-0827-492d-9cf7-a288550c09c2",
   "metadata": {
    "tags": []
   },
   "outputs": [
    {
     "data": {
      "text/html": [
       "<div>\n",
       "<style scoped>\n",
       "    .dataframe tbody tr th:only-of-type {\n",
       "        vertical-align: middle;\n",
       "    }\n",
       "\n",
       "    .dataframe tbody tr th {\n",
       "        vertical-align: top;\n",
       "    }\n",
       "\n",
       "    .dataframe thead th {\n",
       "        text-align: right;\n",
       "    }\n",
       "</style>\n",
       "<table border=\"1\" class=\"dataframe\">\n",
       "  <thead>\n",
       "    <tr style=\"text-align: right;\">\n",
       "      <th></th>\n",
       "      <th>city_name</th>\n",
       "      <th>date</th>\n",
       "      <th>pm2_5</th>\n",
       "    </tr>\n",
       "  </thead>\n",
       "  <tbody>\n",
       "    <tr>\n",
       "      <th>3729</th>\n",
       "      <td>Amsterdam</td>\n",
       "      <td>2023-03-19</td>\n",
       "      <td>15.0</td>\n",
       "    </tr>\n",
       "    <tr>\n",
       "      <th>3730</th>\n",
       "      <td>Amsterdam</td>\n",
       "      <td>2023-03-20</td>\n",
       "      <td>9.0</td>\n",
       "    </tr>\n",
       "    <tr>\n",
       "      <th>3731</th>\n",
       "      <td>Amsterdam</td>\n",
       "      <td>2023-03-21</td>\n",
       "      <td>8.0</td>\n",
       "    </tr>\n",
       "    <tr>\n",
       "      <th>3732</th>\n",
       "      <td>Amsterdam</td>\n",
       "      <td>2023-03-22</td>\n",
       "      <td>6.0</td>\n",
       "    </tr>\n",
       "    <tr>\n",
       "      <th>3733</th>\n",
       "      <td>Amsterdam</td>\n",
       "      <td>2023-03-23</td>\n",
       "      <td>8.0</td>\n",
       "    </tr>\n",
       "    <tr>\n",
       "      <th>...</th>\n",
       "      <td>...</td>\n",
       "      <td>...</td>\n",
       "      <td>...</td>\n",
       "    </tr>\n",
       "    <tr>\n",
       "      <th>158060</th>\n",
       "      <td>Tampa</td>\n",
       "      <td>2023-04-13</td>\n",
       "      <td>6.1</td>\n",
       "    </tr>\n",
       "    <tr>\n",
       "      <th>158061</th>\n",
       "      <td>Tampa</td>\n",
       "      <td>2023-04-14</td>\n",
       "      <td>7.4</td>\n",
       "    </tr>\n",
       "    <tr>\n",
       "      <th>158062</th>\n",
       "      <td>Tampa</td>\n",
       "      <td>2023-04-15</td>\n",
       "      <td>12.1</td>\n",
       "    </tr>\n",
       "    <tr>\n",
       "      <th>158063</th>\n",
       "      <td>Tampa</td>\n",
       "      <td>2023-04-16</td>\n",
       "      <td>12.2</td>\n",
       "    </tr>\n",
       "    <tr>\n",
       "      <th>158064</th>\n",
       "      <td>Tampa</td>\n",
       "      <td>2023-04-17</td>\n",
       "      <td>8.4</td>\n",
       "    </tr>\n",
       "  </tbody>\n",
       "</table>\n",
       "<p>1381 rows × 3 columns</p>\n",
       "</div>"
      ],
      "text/plain": [
       "        city_name        date  pm2_5\n",
       "3729    Amsterdam  2023-03-19   15.0\n",
       "3730    Amsterdam  2023-03-20    9.0\n",
       "3731    Amsterdam  2023-03-21    8.0\n",
       "3732    Amsterdam  2023-03-22    6.0\n",
       "3733    Amsterdam  2023-03-23    8.0\n",
       "...           ...         ...    ...\n",
       "158060      Tampa  2023-04-13    6.1\n",
       "158061      Tampa  2023-04-14    7.4\n",
       "158062      Tampa  2023-04-15   12.1\n",
       "158063      Tampa  2023-04-16   12.2\n",
       "158064      Tampa  2023-04-17    8.4\n",
       "\n",
       "[1381 rows x 3 columns]"
      ]
     },
     "execution_count": 15,
     "metadata": {},
     "output_type": "execute_result"
    }
   ],
   "source": [
    "# calculate 28 days ago from today\n",
    "date_threshold = today - datetime.timedelta(days=30)\n",
    "\n",
    "df_air_quality.date = (df_air_quality.date).astype(str)\n",
    "# filter rows based on date threshold\n",
    "df_air_quality = df_air_quality[df_air_quality['date'] > str(date_threshold)]\n",
    "\n",
    "df_air_quality"
   ]
  },
  {
   "cell_type": "code",
   "execution_count": 16,
   "id": "6c6cfa83-065c-4f8f-b2da-6e4216a07644",
   "metadata": {
    "tags": []
   },
   "outputs": [],
   "source": [
    "# we need the previous data to calculate aggregation functions\n",
    "df_air_quality_new = pd.concat([df_air_quality, df_aq_update]).reset_index(drop=True)\n",
    "df_air_quality_new = df_air_quality_new.drop_duplicates(subset=['city_name', 'date'])"
   ]
  },
  {
   "cell_type": "markdown",
   "id": "250d9daf-83fa-49f1-bcd8-4efaeb90b99c",
   "metadata": {
    "tags": []
   },
   "source": [
    "### <span style=\"color:#ff5f27;\">🛠 Feature Engineering</span>"
   ]
  },
  {
   "cell_type": "code",
   "execution_count": 17,
   "id": "140b468a-e0c2-44a1-8e44-4cf393407eca",
   "metadata": {
    "tags": []
   },
   "outputs": [],
   "source": [
    "df_air_quality_new['date'] = pd.to_datetime(df_air_quality_new['date'])"
   ]
  },
  {
   "cell_type": "code",
   "execution_count": 18,
   "id": "a108c3fb-4945-4ace-b6f6-4f3f4a9349d3",
   "metadata": {
    "tags": []
   },
   "outputs": [],
   "source": [
    "features.air_quality.shift_pm_2_5(df_air_quality_new, days=7) # add features about 7 previous PM2.5 values\n",
    "\n",
    "features.air_quality.moving_average(df_air_quality_new, 7)\n",
    "features.air_quality.moving_average(df_air_quality_new, 14)\n",
    "features.air_quality.moving_average(df_air_quality_new, 28)\n",
    "\n",
    "for i in [7, 14, 28]:\n",
    "    for func in [features.air_quality.moving_std,\n",
    "                 features.air_quality.exponential_moving_average,\n",
    "                 features.air_quality.exponential_moving_std\n",
    "                 ]:\n",
    "        func(df_air_quality_new, i)\n",
    "        \n",
    "\n",
    "df_air_quality_new = df_air_quality_new.sort_values(by=[\"date\", \"pm2_5\"]).dropna()\n",
    "df_air_quality_new = df_air_quality_new.reset_index(drop=True)"
   ]
  },
  {
   "cell_type": "code",
   "execution_count": 19,
   "id": "92db141a-2397-4a69-856f-afb220a38866",
   "metadata": {
    "tags": []
   },
   "outputs": [],
   "source": [
    "features.air_quality.year(df_air_quality_new)\n",
    "features.air_quality.day_of_month(df_air_quality_new)\n",
    "features.air_quality.month(df_air_quality_new)\n",
    "features.air_quality.day_of_week(df_air_quality_new)\n",
    "features.air_quality.is_weekend(df_air_quality_new)\n",
    "features.air_quality.sin_day_of_year(df_air_quality_new)\n",
    "features.air_quality.cos_day_of_year(df_air_quality_new)\n",
    "features.air_quality.sin_day_of_week(df_air_quality_new)\n",
    "features.air_quality.cos_day_of_week(df_air_quality_new)"
   ]
  },
  {
   "cell_type": "code",
   "execution_count": 20,
   "id": "131d1e58-7d12-4cd8-a24e-ffcc8eaa7c20",
   "metadata": {
    "tags": []
   },
   "outputs": [
    {
     "data": {
      "text/plain": [
       "0"
      ]
     },
     "execution_count": 20,
     "metadata": {},
     "output_type": "execute_result"
    }
   ],
   "source": [
    "df_air_quality_new.isna().sum().sum()"
   ]
  },
  {
   "cell_type": "code",
   "execution_count": 21,
   "id": "94f67c89-6b39-4748-b4be-6ed3c9d57f96",
   "metadata": {
    "tags": []
   },
   "outputs": [
    {
     "data": {
      "text/plain": [
       "(135, 31)"
      ]
     },
     "execution_count": 21,
     "metadata": {},
     "output_type": "execute_result"
    }
   ],
   "source": [
    "df_air_quality_new.shape"
   ]
  },
  {
   "cell_type": "code",
   "execution_count": 22,
   "id": "ed9bc7f1-d62e-4b1f-97af-6ecd30fe4b67",
   "metadata": {
    "tags": []
   },
   "outputs": [
    {
     "data": {
      "text/plain": [
       "Index(['city_name', 'date', 'pm2_5', 'pm_2_5_previous_1_day',\n",
       "       'pm_2_5_previous_2_day', 'pm_2_5_previous_3_day',\n",
       "       'pm_2_5_previous_4_day', 'pm_2_5_previous_5_day',\n",
       "       'pm_2_5_previous_6_day', 'pm_2_5_previous_7_day', 'mean_7_days',\n",
       "       'mean_14_days', 'mean_28_days', 'std_7_days', 'exp_mean_7_days',\n",
       "       'exp_std_7_days', 'std_14_days', 'exp_mean_14_days', 'exp_std_14_days',\n",
       "       'std_28_days', 'exp_mean_28_days', 'exp_std_28_days', 'year',\n",
       "       'day_of_month', 'month', 'day_of_week', 'is_weekend', 'sin_day_of_year',\n",
       "       'cos_day_of_year', 'sin_day_of_week', 'cos_day_of_week'],\n",
       "      dtype='object')"
      ]
     },
     "execution_count": 22,
     "metadata": {},
     "output_type": "execute_result"
    }
   ],
   "source": [
    "df_air_quality_new.columns"
   ]
  },
  {
   "cell_type": "markdown",
   "id": "d74f5622-6f57-47b9-ac0b-dfb6617847b2",
   "metadata": {},
   "source": [
    "---"
   ]
  },
  {
   "cell_type": "markdown",
   "id": "95a34c64-5b94-4c4f-b03d-14e12a106f25",
   "metadata": {},
   "source": [
    "## <span style='color:#ff5f27'> 🌦 Filling gaps in Weather data</span>"
   ]
  },
  {
   "cell_type": "code",
   "execution_count": 23,
   "id": "46009853-160c-467e-abb0-3145d27c57dc",
   "metadata": {
    "tags": []
   },
   "outputs": [],
   "source": [
    "last_dates_weather = df_weather[[\"date\", \"city_name\"]].groupby(\"city_name\").max()\n",
    "last_dates_weather.date = last_dates_weather.date.astype(str)\n",
    "last_dates_weather = last_dates_weather.to_dict()[\"date\"]"
   ]
  },
  {
   "cell_type": "markdown",
   "id": "1fd15812-a3a9-488c-879e-181c7b815357",
   "metadata": {
    "tags": []
   },
   "source": [
    "### <span style='color:#ff5f27'>  🧙🏼‍♂️ Parsing Weather data"
   ]
  },
  {
   "cell_type": "code",
   "execution_count": 24,
   "id": "ef027d28-3443-4c7c-9e85-783625301a14",
   "metadata": {
    "scrolled": true,
    "tags": []
   },
   "outputs": [
    {
     "name": "stdout",
     "output_type": "stream",
     "text": [
      "Parsed weather for NORTH BEND - NORTH BEND WAY since 2023-04-17 till 2023-04-17.\n",
      "Took 0.14 sec.\n",
      "\n",
      "Parsed weather for LAKE FOREST PARK TOWNE CENTER since 2023-04-17 till 2023-04-17.\n",
      "Took 0.13 sec.\n",
      "\n",
      "Parsed weather for SEATTLE - DUWAMISH since 2023-04-17 till 2023-04-17.\n",
      "Took 0.13 sec.\n",
      "\n",
      "Parsed weather for SEATTLE - BEACON HILL since 2023-04-17 till 2023-04-17.\n",
      "Took 0.13 sec.\n",
      "\n",
      "Parsed weather for SEATTLE - SOUTH PARK #2 since 2023-04-17 till 2023-04-17.\n",
      "Took 0.13 sec.\n",
      "\n",
      "Parsed weather for KENT - JAMES & CENTRAL since 2023-04-17 till 2023-04-17.\n",
      "Took 0.12 sec.\n",
      "\n",
      "Parsed weather for TACOMA - L STREET since 2023-04-17 till 2023-04-17.\n",
      "Took 0.13 sec.\n",
      "\n",
      "Parsed weather for TACOMA - ALEXANDER AVE since 2023-04-17 till 2023-04-17.\n",
      "Took 0.13 sec.\n",
      "\n",
      "Parsed weather for DARRINGTON - FIR ST (Darrington High School) since 2023-04-17 till 2023-04-17.\n",
      "Took 0.13 sec.\n",
      "\n",
      "Parsed weather for MARYSVILLE - 7TH AVE (Marysville Junior High) since 2023-04-17 till 2023-04-17.\n",
      "Took 0.13 sec.\n",
      "\n",
      "Parsed weather for Seattle-10th & Weller since 2023-04-17 till 2023-04-17.\n",
      "Took 0.12 sec.\n",
      "\n",
      "Parsed weather for Bellevue-SE 12th St since 2023-04-17 till 2023-04-17.\n",
      "Took 0.12 sec.\n",
      "\n",
      "Parsed weather for Tacoma-S 36th St since 2023-04-17 till 2023-04-17.\n",
      "Took 0.12 sec.\n",
      "\n",
      "Parsed weather for Tukwila Allentown since 2023-04-17 till 2023-04-17.\n",
      "Took 0.12 sec.\n",
      "\n",
      "Parsed weather for Tulalip-Totem Beach Rd since 2023-04-17 till 2023-04-17.\n",
      "Took 0.12 sec.\n",
      "\n",
      "Parsed weather for Amsterdam since 2023-04-17 till 2023-04-17.\n",
      "Took 0.13 sec.\n",
      "\n",
      "Parsed weather for Athina since 2023-04-17 till 2023-04-17.\n",
      "Took 0.12 sec.\n",
      "\n",
      "Parsed weather for Berlin since 2023-04-17 till 2023-04-17.\n",
      "Took 0.12 sec.\n",
      "\n",
      "Parsed weather for Gdansk since 2023-04-17 till 2023-04-17.\n",
      "Took 0.12 sec.\n",
      "\n",
      "Parsed weather for Kraków since 2023-04-17 till 2023-04-17.\n",
      "Took 0.12 sec.\n",
      "\n",
      "Parsed weather for London since 2023-04-17 till 2023-04-17.\n",
      "Took 0.12 sec.\n",
      "\n",
      "Parsed weather for Madrid since 2023-04-17 till 2023-04-17.\n",
      "Took 0.12 sec.\n",
      "\n",
      "Parsed weather for Marseille since 2023-04-17 till 2023-04-17.\n",
      "Took 0.13 sec.\n",
      "\n",
      "Parsed weather for Milano since 2023-04-17 till 2023-04-17.\n",
      "Took 0.13 sec.\n",
      "\n",
      "Parsed weather for München since 2023-04-17 till 2023-04-17.\n",
      "Took 0.13 sec.\n",
      "\n",
      "Parsed weather for Napoli since 2023-04-17 till 2023-04-17.\n",
      "Took 0.13 sec.\n",
      "\n",
      "Parsed weather for Paris since 2023-04-17 till 2023-04-17.\n",
      "Took 0.13 sec.\n",
      "\n",
      "Parsed weather for Sevilla since 2023-04-17 till 2023-04-17.\n",
      "Took 0.12 sec.\n",
      "\n",
      "Parsed weather for Stockholm since 2023-04-17 till 2023-04-17.\n",
      "Took 0.13 sec.\n",
      "\n",
      "Parsed weather for Tallinn since 2023-04-17 till 2023-04-17.\n",
      "Took 0.13 sec.\n",
      "\n",
      "Parsed weather for Varna since 2023-04-17 till 2023-04-17.\n",
      "Took 0.12 sec.\n",
      "\n",
      "Parsed weather for Wien since 2023-04-17 till 2023-04-17.\n",
      "Took 0.13 sec.\n",
      "\n",
      "Parsed weather for Albuquerque since 2023-04-17 till 2023-04-17.\n",
      "Took 0.13 sec.\n",
      "\n",
      "Parsed weather for Atlanta since 2023-04-17 till 2023-04-17.\n",
      "Took 0.12 sec.\n",
      "\n",
      "Parsed weather for Chicago since 2023-04-17 till 2023-04-17.\n",
      "Took 0.12 sec.\n",
      "\n",
      "Parsed weather for Columbus since 2023-04-17 till 2023-04-17.\n",
      "Took 0.13 sec.\n",
      "\n",
      "Parsed weather for Dallas since 2023-04-17 till 2023-04-17.\n",
      "Took 0.12 sec.\n",
      "\n",
      "Parsed weather for Denver since 2023-04-17 till 2023-04-17.\n",
      "Took 0.13 sec.\n",
      "\n",
      "Parsed weather for Houston since 2023-04-17 till 2023-04-17.\n",
      "Took 0.12 sec.\n",
      "\n",
      "Parsed weather for Los Angeles since 2023-04-17 till 2023-04-17.\n",
      "Took 0.12 sec.\n",
      "\n",
      "Parsed weather for New York since 2023-04-17 till 2023-04-17.\n",
      "Took 0.12 sec.\n",
      "\n",
      "Parsed weather for Phoenix-Mesa since 2023-04-17 till 2023-04-17.\n",
      "Took 0.12 sec.\n",
      "\n",
      "Parsed weather for Salt Lake City since 2023-04-17 till 2023-04-17.\n",
      "Took 0.13 sec.\n",
      "\n",
      "Parsed weather for San Francisco since 2023-04-17 till 2023-04-17.\n",
      "Took 0.13 sec.\n",
      "\n",
      "Parsed weather for Tampa since 2023-04-17 till 2023-04-17.\n",
      "Took 0.12 sec.\n",
      "\n",
      "----------------------------------------------------------------\n",
      "Parsed new weather data for ALL cities up to 2023-04-17.\n",
      "Took 5.7 sec.\n",
      "\n"
     ]
    }
   ],
   "source": [
    "start_of_cell = time.time()\n",
    "\n",
    "df_weather_update = pd.DataFrame()\n",
    "\n",
    "for continent in target_cities:\n",
    "    for city_name, coords in target_cities[continent].items():\n",
    "        df_ = get_weather_data_from_open_meteo(city_name=city_name,\n",
    "                                               coordinates=coords,\n",
    "                                               start_date=last_dates_aq[city_name],\n",
    "                                               end_date=str(today),\n",
    "                                               forecast=True)\n",
    "        df_weather_update = pd.concat([df_weather_update, df_]).reset_index(drop=True)\n",
    "    \n",
    "end_of_cell = time.time()\n",
    "print(\"-\" * 64)\n",
    "print(f\"Parsed new weather data for ALL cities up to {str(today)}.\")\n",
    "print(f\"Took {round(end_of_cell - start_of_cell, 2)} sec.\\n\")"
   ]
  },
  {
   "cell_type": "code",
   "execution_count": 26,
   "id": "a7bff400-a2fb-48a3-a07b-5bd2a0469cd7",
   "metadata": {
    "tags": []
   },
   "outputs": [],
   "source": [
    "df_air_quality_new.date = pd.to_datetime(df_air_quality_new.date)\n",
    "df_weather_update.date = pd.to_datetime(df_weather_update.date)\n",
    "\n",
    "df_air_quality_new[\"unix_time\"] = df_air_quality_new[\"date\"].apply(convert_date_to_unix)\n",
    "df_weather_update[\"unix_time\"] = df_weather_update[\"date\"].apply(convert_date_to_unix)"
   ]
  },
  {
   "cell_type": "code",
   "execution_count": 27,
   "id": "11752b30-2f40-4668-9813-2a90199c62b8",
   "metadata": {
    "tags": []
   },
   "outputs": [],
   "source": [
    "df_air_quality_new.date = df_air_quality_new.date.astype(str)\n",
    "df_weather_update.date = df_weather_update.date.astype(str)"
   ]
  },
  {
   "cell_type": "markdown",
   "id": "792dd383",
   "metadata": {},
   "source": [
    "---"
   ]
  },
  {
   "cell_type": "markdown",
   "id": "5aef353d",
   "metadata": {
    "tags": []
   },
   "source": [
    "## <span style=\"color:#ff5f27;\">⬆️ Uploading new data to the Feature Store</span>"
   ]
  },
  {
   "cell_type": "markdown",
   "id": "b59f3599-f336-41ff-a500-5dd2951ce136",
   "metadata": {},
   "source": [
    "### <span style=\"color:#ff5f27;\"> 🔮 Connecting to Hopsworks Feature Store </span>"
   ]
  },
  {
   "cell_type": "code",
   "execution_count": 28,
   "id": "4530f803",
   "metadata": {},
   "outputs": [
    {
     "name": "stdout",
     "output_type": "stream",
     "text": [
      "Connected. Call `.close()` to terminate connection gracefully.\n",
      "\n",
      "Logged in to project, explore it here https://c.app.hopsworks.ai:443/p/14502\n",
      "Connected. Call `.close()` to terminate connection gracefully.\n"
     ]
    }
   ],
   "source": [
    "import hopsworks\n",
    "\n",
    "\n",
    "project = hopsworks.login()\n",
    "fs = project.get_feature_store() \n",
    "\n",
    "air_quality_fg = fs.get_or_create_feature_group(\n",
    "    name = 'air_quality',\n",
    "    version = 1\n",
    ")\n",
    "weather_fg = fs.get_or_create_feature_group(\n",
    "    name = 'weather',\n",
    "    version = 1\n",
    ")"
   ]
  },
  {
   "cell_type": "code",
   "execution_count": 29,
   "id": "f81bb922",
   "metadata": {},
   "outputs": [
    {
     "data": {
      "application/vnd.jupyter.widget-view+json": {
       "model_id": "660a2b89aa84475dbde2e3c02991b211",
       "version_major": 2,
       "version_minor": 0
      },
      "text/plain": [
       "Uploading Dataframe: 0.00% |          | Rows 0/135 | Elapsed Time: 00:00 | Remaining Time: ?"
      ]
     },
     "metadata": {},
     "output_type": "display_data"
    },
    {
     "name": "stdout",
     "output_type": "stream",
     "text": [
      "Launching offline feature group backfill job...\n",
      "Backfill Job started successfully, you can follow the progress at \n",
      "https://c.app.hopsworks.ai/p/14502/jobs/named/air_quality_1_offline_fg_backfill/executions\n"
     ]
    },
    {
     "data": {
      "text/plain": [
       "(<hsfs.core.job.Job at 0x7f87bd562eb0>, None)"
      ]
     },
     "execution_count": 29,
     "metadata": {},
     "output_type": "execute_result"
    }
   ],
   "source": [
    "air_quality_fg.insert(df_air_quality_new, write_options={\"wait_for_job\": False})"
   ]
  },
  {
   "cell_type": "code",
   "execution_count": 31,
   "id": "be0c498e",
   "metadata": {},
   "outputs": [
    {
     "data": {
      "application/vnd.jupyter.widget-view+json": {
       "model_id": "0b6f3ea9cb5446999830aee441ad8584",
       "version_major": 2,
       "version_minor": 0
      },
      "text/plain": [
       "Uploading Dataframe: 0.00% |          | Rows 0/45 | Elapsed Time: 00:00 | Remaining Time: ?"
      ]
     },
     "metadata": {},
     "output_type": "display_data"
    },
    {
     "name": "stdout",
     "output_type": "stream",
     "text": [
      "Launching offline feature group backfill job...\n",
      "Backfill Job started successfully, you can follow the progress at \n",
      "https://c.app.hopsworks.ai/p/14502/jobs/named/weather_1_offline_fg_backfill/executions\n"
     ]
    },
    {
     "data": {
      "text/plain": [
       "(<hsfs.core.job.Job at 0x7f87bd581c10>, None)"
      ]
     },
     "execution_count": 31,
     "metadata": {},
     "output_type": "execute_result"
    }
   ],
   "source": [
    "weather_fg.insert(df_weather_update, write_options={\"wait_for_job\": True})"
   ]
  }
 ],
 "metadata": {
  "kernelspec": {
   "display_name": "Python 3 (ipykernel)",
   "language": "python",
   "name": "python3"
  },
  "language_info": {
   "codemirror_mode": {
    "name": "ipython",
    "version": 3
   },
   "file_extension": ".py",
   "mimetype": "text/x-python",
   "name": "python",
   "nbconvert_exporter": "python",
   "pygments_lexer": "ipython3",
   "version": "3.8.16"
  },
  "vscode": {
   "interpreter": {
    "hash": "190ea7959a836f4799545ea0f3718ade3abee093b15861ffdc25233d6ab7050e"
   }
  }
 },
 "nbformat": 4,
 "nbformat_minor": 5
}
