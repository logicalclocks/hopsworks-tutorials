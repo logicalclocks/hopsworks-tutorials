{
  "nbformat": 4,
  "nbformat_minor": 0,
  "metadata": {
    "colab": {
      "name": "Great Expectations Hopsworks Concepts.ipynb",
      "provenance": [],
      "collapsed_sections": []
    },
    "kernelspec": {
      "name": "python3",
      "display_name": "Python 3"
    },
    "language_info": {
      "name": "python"
    }
  },
  "cells": [
    {
      "cell_type": "markdown",
      "source": [
        "# Short Introduction to Great Expectations Concepts on Hopsworks\n",
        "\n",
        "\n",
        "[![Open In Colab](https://colab.research.google.com/assets/colab-badge.svg)](https://colab.research.google.com/github/vatj/hopsworks-tutorials/blob/data-val-tutorial/integrations/great_expectations/Great_Expectations_Hopsworks_Concepts.ipynb)"
      ],
      "metadata": {
        "id": "hg8bXe5vowxh"
      }
    },
    {
      "cell_type": "markdown",
      "source": [
        "The purpose of this notebook is to give a brief introduction to Great Expectations concepts and classes which are relevant for integration with the Hopsworks MLOps platform. Hopsworks works out of the box with Great Expectations classes, so no need to learn new abstractions and syntax. Define your Expectation Suite, register it to your Feature Group and try inserting data. Hopsworks take care of the rest!"
      ],
      "metadata": {
        "id": "imCH1P2Ro_lT"
      }
    },
    {
      "cell_type": "code",
      "execution_count": null,
      "metadata": {
        "id": "mKF0MLONooky"
      },
      "outputs": [],
      "source": [
        "!pip install -U hopsworks --quiet"
      ]
    },
    {
      "cell_type": "code",
      "source": [
        "import great_expectations as ge\n",
        "import pandas as pd\n",
        "from pprint import pprint"
      ],
      "metadata": {
        "id": "5ycwOKmTpi7v"
      },
      "execution_count": null,
      "outputs": []
    },
    {
      "cell_type": "markdown",
      "source": [
        "## Load example data and create a Feature Group"
      ],
      "metadata": {
        "id": "fQkvTXgYqCDd"
      }
    },
    {
      "cell_type": "code",
      "source": [
        "# Transactions data used in the fraud detection tutorial\n",
        "trans_df = pd.read_csv(\"https://repo.hops.works/master/hopsworks-tutorials/data/card_fraud_data/transactions.csv\", parse_dates=[\"datetime\"])\n",
        "trans_df.head(3)"
      ],
      "metadata": {
        "id": "ldCNYyX4pmAL"
      },
      "execution_count": null,
      "outputs": []
    },
    {
      "cell_type": "code",
      "source": [
        "# login in hopsworks\n",
        "\n",
        "import hopsworks\n",
        "project = hopsworks.login()\n",
        "fs = project.get_feature_store()"
      ],
      "metadata": {
        "id": "FlOgVoJorbSu"
      },
      "execution_count": null,
      "outputs": []
    },
    {
      "cell_type": "code",
      "source": [
        "trans_fg = fs.get_or_create_feature_group(\n",
        "    name=\"mini_transactions_fraud_batch_fg\",\n",
        "    version=1,\n",
        "    description=\"Transaction data\",\n",
        "    primary_key=['cc_num'],\n",
        "    event_time=['datetime']\n",
        ")\n",
        "\n",
        "# Insert a single row to persist the FG in the backend\n",
        "trans_fg.insert(trans_df.head(1))"
      ],
      "metadata": {
        "id": "jn2spyy2rOGf"
      },
      "execution_count": null,
      "outputs": []
    },
    {
      "cell_type": "markdown",
      "source": [
        "## Great Expectations Classes and Concepts"
      ],
      "metadata": {
        "id": "gUwtuAl3qLeK"
      }
    },
    {
      "cell_type": "markdown",
      "source": [
        "### Expectations"
      ],
      "metadata": {
        "id": "0dFZNRUutw8i"
      }
    },
    {
      "cell_type": "markdown",
      "source": [
        "The central concept is the Expectation. Each type of expectation specifies one or more metrics whose values will be computed on a DataFrame. The configuration of a given expectation type specifies an acceptable range to be compared to the observed value(s). Expectation entities are not specific to your data or a particular DataFrame, they merely define operations to be performed and their success criteria. \n",
        "\n",
        "During development or prototyping, Great Expectations offers a DataFrame wrapper to explore your data. It enables an auto-completion method for core supported expectations. As different expectations will require different kwargs for their configuration, it helps gaining familiarity with new expectations.\n",
        "\n",
        "In Hopsworks, expectations will usually be evaluated on a Feature or pair of Feature. The expectation type enables a standardisation of the metrics computed while the configuration allows the user to adapt the success of the validation to their particular conditions. In a production setup, each Feature will be validated by multiple expectations. Note that Hopsworks populates the meta field of an expectation with an id to enable smoother integrations."
      ],
      "metadata": {
        "id": "M77KYBpSqNYj"
      }
    },
    {
      "cell_type": "code",
      "source": [
        "ge_df = ge.from_pandas(trans_df)\n",
        "result = ge_df.expect_column_mean_to_be_between(column=\"amount\", min_value=10, max_value=100)\n",
        "print(f\"Observed mean : {result['result']['observed_value']}, success : {result['success']}\")"
      ],
      "metadata": {
        "id": "ixoYH-wfptAE"
      },
      "execution_count": null,
      "outputs": []
    },
    {
      "cell_type": "markdown",
      "source": [
        "### Validation Result"
      ],
      "metadata": {
        "id": "exL_EWitvkoZ"
      }
    },
    {
      "cell_type": "markdown",
      "source": [
        "An expectation generates a validation result entity on evaluation. This result is specific to a DataFrame and acts as a log for the evaluation. There are different information metrics in the validation result:\n",
        "- The success or failure of the evaluation, meaning are the metrics calculated with the success criteria specified in the expectations.\n",
        "- A meta field for extra information\n",
        "- An expectation_config field which contains the entity that was evaluated against the DataFrame. Crucial for reproducibility, still needs the same data.\n",
        "- An exception_info, in case the evaluation raised an exception.\n",
        "- The result field itself, with information about the computed metrics. The type of information depends on the expectation_type.\n",
        "\n",
        "When the expectation has an Hopsworks id, the result can be linked to the expectation on upload. This allows a history of data validation to start being populated to simplify validation monitoring."
      ],
      "metadata": {
        "id": "cqE9DkUzvpyQ"
      }
    },
    {
      "cell_type": "code",
      "source": [
        "pprint(result)"
      ],
      "metadata": {
        "id": "yLs0VSKF4i0O"
      },
      "execution_count": null,
      "outputs": []
    },
    {
      "cell_type": "markdown",
      "source": [
        "### Expectation Suite"
      ],
      "metadata": {
        "id": "W_jMdeijthh_"
      }
    },
    {
      "cell_type": "markdown",
      "source": [
        "The Expectation Suite is another central concept of Great Expectations relevant to working with Hopsworks. The suite is simply a collection of Expectations to be evaluated against a DataFrame. It provides persistence for the expectation types and configurations to be run. \n",
        "\n",
        "Expectation suites are the core abstraction used to integrate with Hopsworks. Each version of a Feature Group will have a unique expectation suite used to validate data before their insertion into the Feature Store. All expectations connected to a given Feature should be included in the suite as well as all expectations performed on pair of Features. The expectation suite is attached to a Feature Group in the backend, enabling convenient storage and retrieval. In addition, Hopsworks is configured by default to use the suite to automatically run validation on insertion."
      ],
      "metadata": {
        "id": "3VTm2DD_t1N8"
      }
    },
    {
      "cell_type": "code",
      "source": [
        "new_expectation_suite = ge.core.ExpectationSuite(\n",
        "    expectation_suite_name=\"expectation_suite_101\"\n",
        "    )\n",
        "\n",
        "new_expectation_suite.add_expectation(result['expectation_config'])\n",
        "\n",
        "# # equivalent to \n",
        "# new_expectation_suite.add_expectation(\n",
        "#     ge.core.ExpectationConfiguration(\n",
        "#         expectation_type=\"expect_column_mean_to_be_between\",\n",
        "#         kwargs={\n",
        "#             \"column\":\"amount\",\n",
        "#             \"min_value\":10,\n",
        "#             \"max_value\":100\n",
        "#         }\n",
        "#     )\n",
        "# )"
      ],
      "metadata": {
        "id": "Jy4wfoyuqKew"
      },
      "execution_count": null,
      "outputs": []
    },
    {
      "cell_type": "code",
      "source": [
        "# Run the validation manually with Great Expectations\n",
        "ge_df = ge.from_pandas(trans_df, expectation_suite=new_expectation_suite)\n",
        "report = ge_df.validate()\n",
        "\n",
        "# Or setup automatic validation on insert with Hopsworks in a single line of code\n",
        "trans_fg.save_expectation_suite(\n",
        "    expectation_suite=new_expectation_suite,\n",
        "    validation_ingestion_policy=\"ALWAYS\")"
      ],
      "metadata": {
        "id": "krPiF20BsOIl"
      },
      "execution_count": null,
      "outputs": []
    },
    {
      "cell_type": "markdown",
      "source": [
        "### Validation Report"
      ],
      "metadata": {
        "id": "6jB9BsxaRfSR"
      }
    },
    {
      "cell_type": "markdown",
      "source": [
        "On performing validation of a DataFrame using an expectation suite, Great Expectations generates a validation report. This report collects all results from the expectations ran during the validation as well as various related metadata (overall success, timestamps, version, etc...)\n",
        "\n",
        "By default, running validation with Hopsworks uploads the validation report to the backend. Hopsworks UI provides a simple way to consult a summary of these reports or download the full report for more thorough investigation."
      ],
      "metadata": {
        "id": "nXT38FUlRh2x"
      }
    },
    {
      "cell_type": "code",
      "source": [
        "pprint(report)"
      ],
      "metadata": {
        "id": "TpAaHiuaRg84"
      },
      "execution_count": null,
      "outputs": []
    },
    {
      "cell_type": "code",
      "source": [
        "# automatic validation on insertion, checkout the report in Hopsworks UI\n",
        "trans_fg.insert(trans_df)"
      ],
      "metadata": {
        "id": "UX0MfUNEq-UA"
      },
      "execution_count": null,
      "outputs": []
    },
    {
      "cell_type": "markdown",
      "source": [
        "### Great Expectations Other Concepts"
      ],
      "metadata": {
        "id": "4bdNFNGu2we9"
      }
    },
    {
      "cell_type": "markdown",
      "source": [
        "So far, onlyy concepts relevant to Hopsworks were explore. Great Expectations is a complex Data Validation library with a lot of great tools and concepts to be used. Checkout their documentation or glossary to learn to make the most of it.\n",
        "\n",
        "- [Docs](https://greatexpectations.io/)\n",
        "- [Glossary](https://docs.greatexpectations.io/docs/glossary)"
      ],
      "metadata": {
        "id": "rUF-0iVF25w-"
      }
    },
    {
      "cell_type": "markdown",
      "source": [
        "### Next Step : Check out Data Validation with Great Expectation applied to the Fraud tutorial\n",
        "\n",
        "[![Open in Colab](https://colab.research.google.com/assets/colab-badge.svg)](https://colab.research.google.com/github/vatj/hopsworks-tutorials/blob/data-val-tutorial/integrations/great_expectations/fraud_batch_data_validation.ipynb)"
      ],
      "metadata": {
        "id": "dfL04xft2BIB"
      }
    },
    {
      "cell_type": "code",
      "source": [
        ""
      ],
      "metadata": {
        "id": "TWo5HORIyZs4"
      },
      "execution_count": null,
      "outputs": []
    }
  ]
}