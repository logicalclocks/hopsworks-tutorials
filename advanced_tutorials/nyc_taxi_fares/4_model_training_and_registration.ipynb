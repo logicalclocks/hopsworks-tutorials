{
 "cells": [
  {
   "cell_type": "markdown",
   "id": "5029789b",
   "metadata": {},
   "source": [
    "# <span style=\"font-width:bold; font-size: 3rem; color:#1EB182;\">**Hopsworks Feature Store** </span> <span style=\"font-width:bold; font-size: 3rem; color:#333;\">- Part 04: Model training & UI Exploration</span>\n",
    "\n",
    "[![Open In Colab](https://colab.research.google.com/assets/colab-badge.svg)](https://colab.research.google.com/github/logicalclocks/hopsworks-tutorials/blob/master/advanced_tutorials/nyc_taxi_fares/4_model_training_and_registration.ipynb)\n",
    "\n",
    "\n",
    "## 🗒️ This notebook is divided into 3 main sections:\n",
    "1. **Loading the training data**,\n",
    "2. **Train the model**,\n",
    "3. **Register model to Hopsworks model registry**.\n",
    "\n",
    "![tutorial-flow](../../images/03_model.png)"
   ]
  },
  {
   "cell_type": "markdown",
   "id": "609dceb4",
   "metadata": {},
   "source": [
    "## <span style=\"color:#ff5f27;\"> 📡 Connecting to Hopsworks Feature Store </span>"
   ]
  },
  {
   "cell_type": "code",
   "execution_count": null,
   "id": "166f52f1",
   "metadata": {},
   "outputs": [],
   "source": [
    "import hopsworks\n",
    "\n",
    "project = hopsworks.login()\n",
    "\n",
    "fs = project.get_feature_store()"
   ]
  },
  {
   "cell_type": "markdown",
   "id": "c27a6d7b",
   "metadata": {},
   "source": [
    "---"
   ]
  },
  {
   "cell_type": "markdown",
   "id": "75a0d57b",
   "metadata": {},
   "source": [
    "## <span style=\"color:#ff5f27;\">🪝 Feature View and Training Dataset Retrieval</span>"
   ]
  },
  {
   "cell_type": "markdown",
   "id": "5985aa4b",
   "metadata": {},
   "source": [
    "To retrieve training dataset from **Feature Store** you retrieve **Feature View** using `FeatureStore.get_feature_view` method.\n",
    "\n",
    "Then you can use **Feature View** in order to retrieve **training dataset** using `FeatureView.get_training_dataset` method.\n"
   ]
  },
  {
   "cell_type": "code",
   "execution_count": null,
   "id": "a47e3c54",
   "metadata": {},
   "outputs": [],
   "source": [
    "nyc_fares_fv = fs.get_feature_view(\n",
    "    name = 'nyc_taxi_fares_fv',\n",
    "    version = 1\n",
    ")"
   ]
  },
  {
   "cell_type": "code",
   "execution_count": null,
   "id": "97df39ce",
   "metadata": {},
   "outputs": [],
   "source": [
    "X_train, X_test, y_train, y_test = nyc_fares_fv.get_train_test_split(\n",
    "    training_dataset_version=2\n",
    ")"
   ]
  },
  {
   "cell_type": "code",
   "execution_count": null,
   "id": "7694fd4b",
   "metadata": {},
   "outputs": [],
   "source": [
    "X_test.head(5)"
   ]
  },
  {
   "cell_type": "code",
   "execution_count": null,
   "id": "9125fd82",
   "metadata": {},
   "outputs": [],
   "source": [
    "cols_to_drop = ['ride_id']"
   ]
  },
  {
   "cell_type": "code",
   "execution_count": null,
   "id": "5c3d7138",
   "metadata": {},
   "outputs": [],
   "source": [
    "X_train = X_train.drop(cols_to_drop, axis=1)\n",
    "X_test = X_test.drop(cols_to_drop, axis=1)"
   ]
  },
  {
   "cell_type": "code",
   "execution_count": null,
   "id": "83cabdbd",
   "metadata": {},
   "outputs": [],
   "source": [
    "import numpy as np\n",
    "\n",
    "\n",
    "y_train = np.ravel(y_train)\n",
    "y_test = np.ravel(y_test)"
   ]
  },
  {
   "cell_type": "code",
   "execution_count": null,
   "id": "24654c32",
   "metadata": {
    "scrolled": true
   },
   "outputs": [],
   "source": [
    "y_test"
   ]
  },
  {
   "cell_type": "markdown",
   "id": "078aaa45",
   "metadata": {},
   "source": [
    "---"
   ]
  },
  {
   "cell_type": "markdown",
   "id": "877bf1b4",
   "metadata": {},
   "source": [
    "### <span style=\"color:#ff5f27;\">📝 Importing Libraries</span>"
   ]
  },
  {
   "cell_type": "code",
   "execution_count": null,
   "id": "9685030b",
   "metadata": {},
   "outputs": [],
   "source": [
    "import pandas as pd\n",
    "\n",
    "from sklearn.linear_model import LogisticRegression\n",
    "\n",
    "from sklearn.metrics import mean_absolute_error, r2_score"
   ]
  },
  {
   "cell_type": "markdown",
   "id": "bc5abb0f",
   "metadata": {},
   "source": [
    "---"
   ]
  },
  {
   "cell_type": "markdown",
   "id": "31f5a461",
   "metadata": {},
   "source": [
    "## <span style=\"color:#ff5f27;\">🧬 Modeling</span>"
   ]
  },
  {
   "cell_type": "code",
   "execution_count": null,
   "id": "c1ad28f3",
   "metadata": {
    "scrolled": true
   },
   "outputs": [],
   "source": [
    "# hyperparameter tuning will not be performed cause the data was generated randomly\n",
    "lr_model = LogisticRegression()\n",
    "\n",
    "lr_model.fit(X_train, y_train)"
   ]
  },
  {
   "cell_type": "code",
   "execution_count": null,
   "id": "f5221dc6",
   "metadata": {},
   "outputs": [],
   "source": [
    "X_test.columns"
   ]
  },
  {
   "cell_type": "code",
   "execution_count": null,
   "id": "8d86f617",
   "metadata": {},
   "outputs": [],
   "source": [
    "lr_preds = lr_model.predict(X_test)\n",
    "\n",
    "lr_r2_score = r2_score(y_test, lr_preds)\n",
    "lr_mae = mean_absolute_error(y_test, lr_preds)\n",
    "\n",
    "print(\"LogisticRegression R²:\", lr_r2_score)\n",
    "print(\"LogisticRegression MAE:\", lr_mae)"
   ]
  },
  {
   "cell_type": "markdown",
   "id": "e91d6f12",
   "metadata": {},
   "source": [
    "### Remember, the data is random, so the results are not accurate at all."
   ]
  },
  {
   "cell_type": "code",
   "execution_count": null,
   "id": "3cc12a31",
   "metadata": {},
   "outputs": [],
   "source": [
    "import matplotlib.pyplot as plt\n",
    "import seaborn as sns\n",
    "\n",
    "\n",
    "sns.residplot(y_test, lr_preds, color='#613F75')\n",
    "plt.title('Model Residuals')\n",
    "plt.xlabel('Obsevation #')\n",
    "plt.ylabel('Error')\n",
    "\n",
    "plt.show()"
   ]
  },
  {
   "cell_type": "markdown",
   "id": "c5d1670c",
   "metadata": {},
   "source": [
    "---"
   ]
  },
  {
   "cell_type": "markdown",
   "id": "59c4d4f5",
   "metadata": {},
   "source": [
    "## <span style='color:#ff5f27'>🗄 Model Registry</span>\n",
    "\n",
    "One of the features in Hopsworks is the model registry. This is where you can store different versions of models and compare their performance. Models from the registry can then be served as API endpoints."
   ]
  },
  {
   "cell_type": "code",
   "execution_count": null,
   "id": "c2fa7301",
   "metadata": {},
   "outputs": [],
   "source": [
    "mr = project.get_model_registry()"
   ]
  },
  {
   "cell_type": "markdown",
   "id": "a62cc61f",
   "metadata": {},
   "source": [
    "Before registering the model we will export it as a pickle file using joblib."
   ]
  },
  {
   "cell_type": "code",
   "execution_count": null,
   "id": "41d072cd",
   "metadata": {},
   "outputs": [],
   "source": [
    "import joblib\n",
    "\n",
    "joblib.dump(lr_model, 'model.pkl')"
   ]
  },
  {
   "cell_type": "markdown",
   "id": "0387695e",
   "metadata": {},
   "source": [
    "### <span style=\"color:#ff5f27;\">⚙️ Model Schema</span>"
   ]
  },
  {
   "cell_type": "markdown",
   "id": "c8efe537",
   "metadata": {},
   "source": [
    "The model needs to be set up with a [Model Schema](https://docs.hopsworks.ai/machine-learning-api/latest/generated/model_schema/), which describes the inputs and outputs for a model.\n",
    "\n",
    "A Model Schema can be automatically generated from training examples, as shown below."
   ]
  },
  {
   "cell_type": "code",
   "execution_count": null,
   "id": "531f1e4f",
   "metadata": {},
   "outputs": [],
   "source": [
    "from hsml.schema import Schema\n",
    "from hsml.model_schema import ModelSchema\n",
    "\n",
    "input_schema = Schema(X_train)\n",
    "output_schema = Schema(y_train)\n",
    "model_schema = ModelSchema(input_schema=input_schema, output_schema=output_schema)\n",
    "\n",
    "model_schema.to_dict()"
   ]
  },
  {
   "cell_type": "markdown",
   "id": "f701b407",
   "metadata": {},
   "source": [
    "With the schema in place, you can finally register our model."
   ]
  },
  {
   "cell_type": "code",
   "execution_count": null,
   "id": "f4b9c8f4",
   "metadata": {},
   "outputs": [],
   "source": [
    "metrics = {\n",
    "    'mae': lr_mae,\n",
    "    'r2_score': lr_r2_score\n",
    "}\n"
   ]
  },
  {
   "cell_type": "code",
   "execution_count": null,
   "id": "98be66e7",
   "metadata": {},
   "outputs": [],
   "source": [
    "model = mr.sklearn.create_model(\n",
    "    name=\"nyc_taxi_fares_model\",\n",
    "    metrics=metrics,\n",
    "    description=\"LogisticRegression.\",\n",
    "    input_example=X_test.sample(),\n",
    "    model_schema=model_schema\n",
    ")\n",
    "\n",
    "model.save('model.pkl')"
   ]
  },
  {
   "cell_type": "code",
   "execution_count": null,
   "id": "fd0300f6",
   "metadata": {},
   "outputs": [],
   "source": [
    "# how to get a best model (when you have many of them)\n",
    "\n",
    "# EVALUATION_METRIC=\"mae\"  # or r2_score\n",
    "# SORT_METRICS_BY=\"max\" # your sorting criteria\n",
    "\n",
    "# # get best model based on custom metrics\n",
    "# best_model = mr.get_best_model(\"nyc_taxi_fares_model\",\n",
    "#                                EVALUATION_METRIC,\n",
    "#                                SORT_METRICS_BY)"
   ]
  },
  {
   "cell_type": "markdown",
   "id": "e4d11235",
   "metadata": {},
   "source": [
    " Here you have also saved an input example from the training data, which can be helpful for test purposes.\n",
    "\n",
    " It's important to know that every time you save a model with the same name, a new version of the model will be saved, so nothing will be overwritten. In this way, you can compare several versions of the same model - or create a model with a new name, if you prefer that."
   ]
  },
  {
   "cell_type": "markdown",
   "id": "7572c573",
   "metadata": {},
   "source": [
    "---"
   ]
  }
 ],
 "metadata": {
  "kernelspec": {
   "display_name": "Python 3 (ipykernel)",
   "language": "python",
   "name": "python3"
  },
  "language_info": {
   "codemirror_mode": {
    "name": "ipython",
    "version": 3
   },
   "file_extension": ".py",
   "mimetype": "text/x-python",
   "name": "python",
   "nbconvert_exporter": "python",
   "pygments_lexer": "ipython3",
   "version": "3.8.0"
  }
 },
 "nbformat": 4,
 "nbformat_minor": 5
}
