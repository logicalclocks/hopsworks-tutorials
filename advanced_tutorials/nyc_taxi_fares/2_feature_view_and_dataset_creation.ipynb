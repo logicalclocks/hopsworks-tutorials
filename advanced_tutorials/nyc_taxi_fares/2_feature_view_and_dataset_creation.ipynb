{
 "cells": [
  {
   "cell_type": "markdown",
   "metadata": {},
   "source": [
    "![hopsworks_logo](../images/hopsworks_logo.png)\n",
    "\n",
    "# Part 02: Training Data & Feature views\n",
    "\n",
    "[![Open In Colab](https://colab.research.google.com/assets/colab-badge.svg)](https://colab.research.google.com/github/logicalclocks/hopsworks-tutorials/blob/master/fraud_batch/2_feature_view_creation.ipynb)\n",
    "\n",
    "**Note**: you may get an error when installing hopsworks on Colab, and it is safe to ignore it.\n",
    "\n",
    "This is the second part of the quick start series of tutorials about Hopsworks Feature Store. This notebook explains how to read from a feature group and create training dataset within the feature store\n",
    "\n",
    "## 🗒️ In this notebook we will see how to create a training dataset from the feature groups:\n",
    "1. **Select the features** we want to train our model on,\n",
    "2. **How the features should be preprocessed,**\n",
    "3. **Create a dataset split** for training and validation data.\n",
    "\n",
    "![02_training-dataset](../../images/02_training-dataset.png)"
   ]
  },
  {
   "cell_type": "markdown",
   "metadata": {},
   "source": [
    "#### <span style=\"color:#ff5f27;\">📝 Importing Libraries</span>"
   ]
  },
  {
   "cell_type": "code",
   "execution_count": 2,
   "metadata": {},
   "outputs": [
    {
     "name": "stdout",
     "output_type": "stream",
     "text": [
      "Connection closed.\n",
      "Connected. Call `.close()` to terminate connection gracefully.\n",
      "\n",
      "Logged in to project, explore it here https://c.app.hopsworks.ai:443/p/164\n",
      "Connected. Call `.close()` to terminate connection gracefully.\n"
     ]
    }
   ],
   "source": [
    "import hopsworks\n",
    "\n",
    "project = hopsworks.login()\n",
    "\n",
    "fs = project.get_feature_store()"
   ]
  },
  {
   "cell_type": "markdown",
   "metadata": {},
   "source": [
    "### <span style=\"color:#ff5f27;\">⬇️ Data retrieving from Feature Groups</span>\n",
    "\n",
    "We start by selecting all the features we want to include for model training/inference."
   ]
  },
  {
   "cell_type": "code",
   "execution_count": 3,
   "metadata": {},
   "outputs": [],
   "source": [
    "# Load feature groups.\n",
    "fares_fg = fs.get_or_create_feature_group(\"fares_fg\",\n",
    "                                          version=1)\n",
    "rides_fg = fs.get_or_create_feature_group(\"rides_fg\",\n",
    "                                          version=1)"
   ]
  },
  {
   "cell_type": "code",
   "execution_count": 4,
   "metadata": {},
   "outputs": [
    {
     "name": "stdout",
     "output_type": "stream",
     "text": [
      "2022-08-21 23:10:08,893 INFO: USE `romankah_featurestore`\n",
      "2022-08-21 23:10:09,879 INFO: SELECT `fg1`.`total_fare` `total_fare`, `fg0`.`ride_id` `ride_id`, `fg0`.`passenger_count` `passenger_count`, `fg0`.`distance` `distance`, `fg0`.`pickup_distance_to_jfk` `pickup_distance_to_jfk`, `fg0`.`dropoff_distance_to_jfk` `dropoff_distance_to_jfk`, `fg0`.`pickup_distance_to_ewr` `pickup_distance_to_ewr`, `fg0`.`dropoff_distance_to_ewr` `dropoff_distance_to_ewr`, `fg0`.`pickup_distance_to_lgr` `pickup_distance_to_lgr`, `fg0`.`dropoff_distance_to_lgr` `dropoff_distance_to_lgr`, `fg0`.`year` `year`, `fg0`.`weekday` `weekday`, `fg0`.`hour` `hour`\n",
      "FROM `romankah_featurestore`.`fares_fg_1` `fg1`\n",
      "INNER JOIN `romankah_featurestore`.`rides_fg_1` `fg0` ON `fg1`.`ride_id` = `fg0`.`ride_id`\n"
     ]
    },
    {
     "name": "stderr",
     "output_type": "stream",
     "text": [
      "UserWarning: pandas only support SQLAlchemy connectable(engine/connection) ordatabase string URI or sqlite3 DBAPI2 connectionother DBAPI2 objects are not tested, please consider using SQLAlchemy\n"
     ]
    },
    {
     "data": {
      "text/html": [
       "<div>\n",
       "<style scoped>\n",
       "    .dataframe tbody tr th:only-of-type {\n",
       "        vertical-align: middle;\n",
       "    }\n",
       "\n",
       "    .dataframe tbody tr th {\n",
       "        vertical-align: top;\n",
       "    }\n",
       "\n",
       "    .dataframe thead th {\n",
       "        text-align: right;\n",
       "    }\n",
       "</style>\n",
       "<table border=\"1\" class=\"dataframe\">\n",
       "  <thead>\n",
       "    <tr style=\"text-align: right;\">\n",
       "      <th></th>\n",
       "      <th>total_fare</th>\n",
       "      <th>ride_id</th>\n",
       "      <th>passenger_count</th>\n",
       "      <th>distance</th>\n",
       "      <th>pickup_distance_to_jfk</th>\n",
       "      <th>dropoff_distance_to_jfk</th>\n",
       "      <th>pickup_distance_to_ewr</th>\n",
       "      <th>dropoff_distance_to_ewr</th>\n",
       "      <th>pickup_distance_to_lgr</th>\n",
       "      <th>dropoff_distance_to_lgr</th>\n",
       "      <th>year</th>\n",
       "      <th>weekday</th>\n",
       "      <th>hour</th>\n",
       "    </tr>\n",
       "  </thead>\n",
       "  <tbody>\n",
       "    <tr>\n",
       "      <th>0</th>\n",
       "      <td>122.0</td>\n",
       "      <td>0e9056d5cea147b4f6fee1a3fb2a8faa</td>\n",
       "      <td>1</td>\n",
       "      <td>68.512120</td>\n",
       "      <td>27.614331</td>\n",
       "      <td>79.633601</td>\n",
       "      <td>24.732814</td>\n",
       "      <td>90.862989</td>\n",
       "      <td>17.100984</td>\n",
       "      <td>75.484501</td>\n",
       "      <td>1970</td>\n",
       "      <td>0</td>\n",
       "      <td>14</td>\n",
       "    </tr>\n",
       "    <tr>\n",
       "      <th>1</th>\n",
       "      <td>102.0</td>\n",
       "      <td>b69a847a4f5cf63367f303bf40b69a7e</td>\n",
       "      <td>1</td>\n",
       "      <td>64.445228</td>\n",
       "      <td>33.577944</td>\n",
       "      <td>32.516658</td>\n",
       "      <td>14.633532</td>\n",
       "      <td>53.387452</td>\n",
       "      <td>25.786898</td>\n",
       "      <td>38.673034</td>\n",
       "      <td>1970</td>\n",
       "      <td>0</td>\n",
       "      <td>12</td>\n",
       "    </tr>\n",
       "  </tbody>\n",
       "</table>\n",
       "</div>"
      ],
      "text/plain": [
       "   total_fare                           ride_id  passenger_count   distance  \\\n",
       "0       122.0  0e9056d5cea147b4f6fee1a3fb2a8faa                1  68.512120   \n",
       "1       102.0  b69a847a4f5cf63367f303bf40b69a7e                1  64.445228   \n",
       "\n",
       "   pickup_distance_to_jfk  dropoff_distance_to_jfk  pickup_distance_to_ewr  \\\n",
       "0               27.614331                79.633601               24.732814   \n",
       "1               33.577944                32.516658               14.633532   \n",
       "\n",
       "   dropoff_distance_to_ewr  pickup_distance_to_lgr  dropoff_distance_to_lgr  \\\n",
       "0                90.862989               17.100984                75.484501   \n",
       "1                53.387452               25.786898                38.673034   \n",
       "\n",
       "   year  weekday  hour  \n",
       "0  1970        0    14  \n",
       "1  1970        0    12  "
      ]
     },
     "execution_count": 4,
     "metadata": {},
     "output_type": "execute_result"
    }
   ],
   "source": [
    "# Select features for training data.\n",
    "fg_query = fares_fg.select(['total_fare'])\\\n",
    "                            .join(rides_fg.select_except(['taxi_id', \"driver_id\", \"pickup_datetime\",\n",
    "                                                          \"pickup_longitude\", \"pickup_latitude\",\n",
    "                                                          \"dropoff_longitude\", \"dropoff_latitude\"]),\n",
    "                                  on=['ride_id'])\n",
    "\n",
    "fg_query.show(2)"
   ]
  },
  {
   "cell_type": "markdown",
   "metadata": {},
   "source": [
    "#### <span style=\"color:#ff5f27;\">〰️ Transformation Functions</span>\n",
    "\n",
    "\n",
    "We can preprocess our data using several encoding methods like *min-max scaling* on numerical features and *label encoding* on categorical features. To do this we simply define a mapping between our features and transformation functions. This ensures that transformation functions such as *min-max scaling* are fitted only on the training data (and not the validation/test data), which ensures that there is no data leakage."
   ]
  },
  {
   "cell_type": "code",
   "execution_count": 5,
   "metadata": {},
   "outputs": [
    {
     "data": {
      "text/plain": [
       "['standard_scaler', 'label_encoder', 'robust_scaler', 'min_max_scaler']"
      ]
     },
     "execution_count": 5,
     "metadata": {},
     "output_type": "execute_result"
    }
   ],
   "source": [
    "[t_func.name for t_func in fs.get_transformation_functions()]"
   ]
  },
  {
   "cell_type": "code",
   "execution_count": 6,
   "metadata": {},
   "outputs": [],
   "source": [
    "# # Load transformation functions.\n",
    "# min_max_scaler = fs.get_transformation_function(name=\"min_max_scaler\")\n",
    "# label_encoder = fs.get_transformation_function(name=\"label_encoder\")\n",
    "\n",
    "# # Map features to transformations.\n",
    "# transformation_functions = {\n",
    "#     \"total_fare\": min_max_scaler,\n",
    "#     \"distance\": min_max_scaler\n",
    "# }"
   ]
  },
  {
   "cell_type": "markdown",
   "metadata": {},
   "source": [
    "## <span style=\"color:#ff5f27;\">🔮 Feature View Creation</span>\n",
    "\n",
    "\n",
    "We start by selecting all the features we want to include for model training/inference.\n",
    "\n",
    "After we have made a query from desired features, we should make a corresponding `Feature View`.\n",
    "In order to do it we may use `fs.create_feature_view()`"
   ]
  },
  {
   "cell_type": "code",
   "execution_count": 7,
   "metadata": {},
   "outputs": [
    {
     "name": "stdout",
     "output_type": "stream",
     "text": [
      "Feature view created successfully, explore it at \n",
      "https://c.app.hopsworks.ai:443/p/164/fs/106/fv/nyc_taxi_fares_fv/version/1\n"
     ]
    }
   ],
   "source": [
    "nyc_fares_fv = fs.create_feature_view(\n",
    "    name='nyc_taxi_fares_fv',\n",
    "    query=fg_query,\n",
    "    labels=[\"total_fare\"]\n",
    "#     transformation_functions=transformation_functions\n",
    ")"
   ]
  },
  {
   "cell_type": "code",
   "execution_count": 8,
   "metadata": {},
   "outputs": [
    {
     "data": {
      "text/plain": [
       "1"
      ]
     },
     "execution_count": 8,
     "metadata": {},
     "output_type": "execute_result"
    }
   ],
   "source": [
    "nyc_fares_fv.version"
   ]
  },
  {
   "cell_type": "markdown",
   "metadata": {},
   "source": [
    "## <span style=\"color:#ff5f27;\">🏋️ Training Dataset Creation</span>\n",
    "    \n",
    "In Hopsworks training data is a query where the projection (set of features) is determined by the parent FeatureView with an optional snapshot on disk of the data returned by the query.\n",
    "\n",
    "Training Dataset may contain splits such as:\n",
    "\n",
    "    Training set - the subset of training data used to train a model.\n",
    "    Validation set - the subset of training data used to evaluate hparams when training a model\n",
    "    Test set - the holdout subset of training data used to evaluate a mode\n",
    "\n",
    "Training dataset is created using fs.create_train_validation_test_split() method."
   ]
  },
  {
   "cell_type": "code",
   "execution_count": 9,
   "metadata": {
    "scrolled": true
   },
   "outputs": [
    {
     "name": "stdout",
     "output_type": "stream",
     "text": [
      "Training dataset job started successfully, you can follow the progress at \n",
      "https://c.app.hopsworks.ai/p/164/jobs/named/nyc_taxi_fares_fv_1_1_create_fv_td_21082022211040/executions\n"
     ]
    },
    {
     "name": "stderr",
     "output_type": "stream",
     "text": [
      "VersionWarning: Incremented version to `1`.\n"
     ]
    },
    {
     "data": {
      "text/plain": [
       "(1, <hsfs.core.job.Job at 0x1c38a428a00>)"
      ]
     },
     "execution_count": 9,
     "metadata": {},
     "output_type": "execute_result"
    }
   ],
   "source": [
    "nyc_fares_fv.create_training_data(\n",
    "    description='training_dataset',\n",
    "    data_format='csv'\n",
    ")"
   ]
  },
  {
   "cell_type": "code",
   "execution_count": 10,
   "metadata": {},
   "outputs": [],
   "source": [
    "X_train, y_train = nyc_fares_fv.get_training_data(\n",
    "    training_dataset_version=1\n",
    ")"
   ]
  },
  {
   "cell_type": "code",
   "execution_count": 11,
   "metadata": {},
   "outputs": [
    {
     "data": {
      "text/html": [
       "<div>\n",
       "<style scoped>\n",
       "    .dataframe tbody tr th:only-of-type {\n",
       "        vertical-align: middle;\n",
       "    }\n",
       "\n",
       "    .dataframe tbody tr th {\n",
       "        vertical-align: top;\n",
       "    }\n",
       "\n",
       "    .dataframe thead th {\n",
       "        text-align: right;\n",
       "    }\n",
       "</style>\n",
       "<table border=\"1\" class=\"dataframe\">\n",
       "  <thead>\n",
       "    <tr style=\"text-align: right;\">\n",
       "      <th></th>\n",
       "      <th>ride_id</th>\n",
       "      <th>passenger_count</th>\n",
       "      <th>distance</th>\n",
       "      <th>pickup_distance_to_jfk</th>\n",
       "      <th>dropoff_distance_to_jfk</th>\n",
       "      <th>pickup_distance_to_ewr</th>\n",
       "      <th>dropoff_distance_to_ewr</th>\n",
       "      <th>pickup_distance_to_lgr</th>\n",
       "      <th>dropoff_distance_to_lgr</th>\n",
       "      <th>year</th>\n",
       "      <th>weekday</th>\n",
       "      <th>hour</th>\n",
       "    </tr>\n",
       "  </thead>\n",
       "  <tbody>\n",
       "    <tr>\n",
       "      <th>0</th>\n",
       "      <td>9a23189b1efe36f8662715b49042c72e</td>\n",
       "      <td>3</td>\n",
       "      <td>71.630081</td>\n",
       "      <td>58.686481</td>\n",
       "      <td>67.747627</td>\n",
       "      <td>71.669678</td>\n",
       "      <td>57.183055</td>\n",
       "      <td>55.549322</td>\n",
       "      <td>57.118333</td>\n",
       "      <td>1970</td>\n",
       "      <td>0</td>\n",
       "      <td>13</td>\n",
       "    </tr>\n",
       "    <tr>\n",
       "      <th>1</th>\n",
       "      <td>1f47756699a6feda1caa858a3a7a799e</td>\n",
       "      <td>1</td>\n",
       "      <td>6.458447</td>\n",
       "      <td>27.240979</td>\n",
       "      <td>23.715037</td>\n",
       "      <td>48.275366</td>\n",
       "      <td>44.421966</td>\n",
       "      <td>34.944513</td>\n",
       "      <td>32.704188</td>\n",
       "      <td>1970</td>\n",
       "      <td>0</td>\n",
       "      <td>13</td>\n",
       "    </tr>\n",
       "    <tr>\n",
       "      <th>2</th>\n",
       "      <td>feaf75a34212779be64e72807106047c</td>\n",
       "      <td>4</td>\n",
       "      <td>70.413217</td>\n",
       "      <td>80.828902</td>\n",
       "      <td>32.221322</td>\n",
       "      <td>76.930771</td>\n",
       "      <td>48.827386</td>\n",
       "      <td>70.881912</td>\n",
       "      <td>31.976693</td>\n",
       "      <td>1970</td>\n",
       "      <td>0</td>\n",
       "      <td>13</td>\n",
       "    </tr>\n",
       "    <tr>\n",
       "      <th>3</th>\n",
       "      <td>58f08488a117ae8509e93a36f9b6db6e</td>\n",
       "      <td>2</td>\n",
       "      <td>90.428297</td>\n",
       "      <td>32.335778</td>\n",
       "      <td>75.554844</td>\n",
       "      <td>52.641270</td>\n",
       "      <td>65.297882</td>\n",
       "      <td>37.015445</td>\n",
       "      <td>64.926193</td>\n",
       "      <td>1970</td>\n",
       "      <td>0</td>\n",
       "      <td>12</td>\n",
       "    </tr>\n",
       "    <tr>\n",
       "      <th>4</th>\n",
       "      <td>dc95dbd0ed7e466f32ba10e6ba7b7646</td>\n",
       "      <td>4</td>\n",
       "      <td>68.531282</td>\n",
       "      <td>20.894081</td>\n",
       "      <td>68.742695</td>\n",
       "      <td>41.915213</td>\n",
       "      <td>73.918481</td>\n",
       "      <td>28.241925</td>\n",
       "      <td>61.435707</td>\n",
       "      <td>1970</td>\n",
       "      <td>0</td>\n",
       "      <td>13</td>\n",
       "    </tr>\n",
       "  </tbody>\n",
       "</table>\n",
       "</div>"
      ],
      "text/plain": [
       "                            ride_id  passenger_count   distance  \\\n",
       "0  9a23189b1efe36f8662715b49042c72e                3  71.630081   \n",
       "1  1f47756699a6feda1caa858a3a7a799e                1   6.458447   \n",
       "2  feaf75a34212779be64e72807106047c                4  70.413217   \n",
       "3  58f08488a117ae8509e93a36f9b6db6e                2  90.428297   \n",
       "4  dc95dbd0ed7e466f32ba10e6ba7b7646                4  68.531282   \n",
       "\n",
       "   pickup_distance_to_jfk  dropoff_distance_to_jfk  pickup_distance_to_ewr  \\\n",
       "0               58.686481                67.747627               71.669678   \n",
       "1               27.240979                23.715037               48.275366   \n",
       "2               80.828902                32.221322               76.930771   \n",
       "3               32.335778                75.554844               52.641270   \n",
       "4               20.894081                68.742695               41.915213   \n",
       "\n",
       "   dropoff_distance_to_ewr  pickup_distance_to_lgr  dropoff_distance_to_lgr  \\\n",
       "0                57.183055               55.549322                57.118333   \n",
       "1                44.421966               34.944513                32.704188   \n",
       "2                48.827386               70.881912                31.976693   \n",
       "3                65.297882               37.015445                64.926193   \n",
       "4                73.918481               28.241925                61.435707   \n",
       "\n",
       "   year  weekday  hour  \n",
       "0  1970        0    13  \n",
       "1  1970        0    13  \n",
       "2  1970        0    13  \n",
       "3  1970        0    12  \n",
       "4  1970        0    13  "
      ]
     },
     "execution_count": 11,
     "metadata": {},
     "output_type": "execute_result"
    }
   ],
   "source": [
    "X_train.head(5)"
   ]
  },
  {
   "cell_type": "code",
   "execution_count": 12,
   "metadata": {},
   "outputs": [
    {
     "data": {
      "text/html": [
       "<div>\n",
       "<style scoped>\n",
       "    .dataframe tbody tr th:only-of-type {\n",
       "        vertical-align: middle;\n",
       "    }\n",
       "\n",
       "    .dataframe tbody tr th {\n",
       "        vertical-align: top;\n",
       "    }\n",
       "\n",
       "    .dataframe thead th {\n",
       "        text-align: right;\n",
       "    }\n",
       "</style>\n",
       "<table border=\"1\" class=\"dataframe\">\n",
       "  <thead>\n",
       "    <tr style=\"text-align: right;\">\n",
       "      <th></th>\n",
       "      <th>total_fare</th>\n",
       "    </tr>\n",
       "  </thead>\n",
       "  <tbody>\n",
       "    <tr>\n",
       "      <th>0</th>\n",
       "      <td>132.0</td>\n",
       "    </tr>\n",
       "    <tr>\n",
       "      <th>1</th>\n",
       "      <td>168.0</td>\n",
       "    </tr>\n",
       "    <tr>\n",
       "      <th>2</th>\n",
       "      <td>163.0</td>\n",
       "    </tr>\n",
       "    <tr>\n",
       "      <th>3</th>\n",
       "      <td>50.0</td>\n",
       "    </tr>\n",
       "    <tr>\n",
       "      <th>4</th>\n",
       "      <td>196.0</td>\n",
       "    </tr>\n",
       "  </tbody>\n",
       "</table>\n",
       "</div>"
      ],
      "text/plain": [
       "   total_fare\n",
       "0       132.0\n",
       "1       168.0\n",
       "2       163.0\n",
       "3        50.0\n",
       "4       196.0"
      ]
     },
     "execution_count": 12,
     "metadata": {},
     "output_type": "execute_result"
    }
   ],
   "source": [
    "y_train.head(5)"
   ]
  },
  {
   "cell_type": "code",
   "execution_count": 13,
   "metadata": {},
   "outputs": [
    {
     "name": "stdout",
     "output_type": "stream",
     "text": [
      "Training dataset job started successfully, you can follow the progress at \n",
      "https://c.app.hopsworks.ai/p/164/jobs/named/nyc_taxi_fares_fv_1_2_create_fv_td_21082022211134/executions\n"
     ]
    },
    {
     "name": "stderr",
     "output_type": "stream",
     "text": [
      "VersionWarning: Incremented version to `2`.\n"
     ]
    },
    {
     "data": {
      "text/plain": [
       "(2, <hsfs.core.job.Job at 0x1c38a4783a0>)"
      ]
     },
     "execution_count": 13,
     "metadata": {},
     "output_type": "execute_result"
    }
   ],
   "source": [
    "nyc_fares_fv.create_train_test_split(\n",
    "    test_size=0.2 # here we can define the test dataset size\n",
    ")"
   ]
  },
  {
   "cell_type": "code",
   "execution_count": 14,
   "metadata": {},
   "outputs": [],
   "source": [
    "X_train, y_train, X_test, y_test = nyc_fares_fv.get_train_test_split(\n",
    "    training_dataset_version=2\n",
    ")"
   ]
  },
  {
   "cell_type": "code",
   "execution_count": 15,
   "metadata": {},
   "outputs": [
    {
     "data": {
      "text/html": [
       "<div>\n",
       "<style scoped>\n",
       "    .dataframe tbody tr th:only-of-type {\n",
       "        vertical-align: middle;\n",
       "    }\n",
       "\n",
       "    .dataframe tbody tr th {\n",
       "        vertical-align: top;\n",
       "    }\n",
       "\n",
       "    .dataframe thead th {\n",
       "        text-align: right;\n",
       "    }\n",
       "</style>\n",
       "<table border=\"1\" class=\"dataframe\">\n",
       "  <thead>\n",
       "    <tr style=\"text-align: right;\">\n",
       "      <th></th>\n",
       "      <th>ride_id</th>\n",
       "      <th>passenger_count</th>\n",
       "      <th>distance</th>\n",
       "      <th>pickup_distance_to_jfk</th>\n",
       "      <th>dropoff_distance_to_jfk</th>\n",
       "      <th>pickup_distance_to_ewr</th>\n",
       "      <th>dropoff_distance_to_ewr</th>\n",
       "      <th>pickup_distance_to_lgr</th>\n",
       "      <th>dropoff_distance_to_lgr</th>\n",
       "      <th>year</th>\n",
       "      <th>weekday</th>\n",
       "      <th>hour</th>\n",
       "    </tr>\n",
       "  </thead>\n",
       "  <tbody>\n",
       "    <tr>\n",
       "      <th>0</th>\n",
       "      <td>360ca1b95ffb599317fc2661dffbd738</td>\n",
       "      <td>4</td>\n",
       "      <td>15.969800</td>\n",
       "      <td>62.513030</td>\n",
       "      <td>47.650116</td>\n",
       "      <td>66.117144</td>\n",
       "      <td>54.253071</td>\n",
       "      <td>54.511542</td>\n",
       "      <td>40.677974</td>\n",
       "      <td>1970</td>\n",
       "      <td>0</td>\n",
       "      <td>13</td>\n",
       "    </tr>\n",
       "    <tr>\n",
       "      <th>1</th>\n",
       "      <td>8b38223ce53b1ff79764ef29e3d5fa2a</td>\n",
       "      <td>4</td>\n",
       "      <td>25.638115</td>\n",
       "      <td>3.518199</td>\n",
       "      <td>26.699310</td>\n",
       "      <td>17.973022</td>\n",
       "      <td>17.874616</td>\n",
       "      <td>10.570727</td>\n",
       "      <td>16.372117</td>\n",
       "      <td>1970</td>\n",
       "      <td>0</td>\n",
       "      <td>14</td>\n",
       "    </tr>\n",
       "    <tr>\n",
       "      <th>2</th>\n",
       "      <td>4baae1dcdceeed7ebe36a0e83f1a4644</td>\n",
       "      <td>4</td>\n",
       "      <td>59.008225</td>\n",
       "      <td>20.619042</td>\n",
       "      <td>71.087304</td>\n",
       "      <td>23.226716</td>\n",
       "      <td>82.173647</td>\n",
       "      <td>10.725451</td>\n",
       "      <td>66.800996</td>\n",
       "      <td>1970</td>\n",
       "      <td>0</td>\n",
       "      <td>14</td>\n",
       "    </tr>\n",
       "    <tr>\n",
       "      <th>3</th>\n",
       "      <td>06b9c20527855dc4e9c2681ca8f2a59a</td>\n",
       "      <td>2</td>\n",
       "      <td>42.637934</td>\n",
       "      <td>16.776281</td>\n",
       "      <td>25.952279</td>\n",
       "      <td>4.714794</td>\n",
       "      <td>46.988505</td>\n",
       "      <td>14.468932</td>\n",
       "      <td>33.660930</td>\n",
       "      <td>1970</td>\n",
       "      <td>0</td>\n",
       "      <td>15</td>\n",
       "    </tr>\n",
       "    <tr>\n",
       "      <th>4</th>\n",
       "      <td>99cbbd51245e78d3d79c0698bd484e1e</td>\n",
       "      <td>3</td>\n",
       "      <td>65.026397</td>\n",
       "      <td>15.874863</td>\n",
       "      <td>69.719284</td>\n",
       "      <td>7.201506</td>\n",
       "      <td>58.686200</td>\n",
       "      <td>15.513387</td>\n",
       "      <td>59.095903</td>\n",
       "      <td>1970</td>\n",
       "      <td>0</td>\n",
       "      <td>14</td>\n",
       "    </tr>\n",
       "  </tbody>\n",
       "</table>\n",
       "</div>"
      ],
      "text/plain": [
       "                            ride_id  passenger_count   distance  \\\n",
       "0  360ca1b95ffb599317fc2661dffbd738                4  15.969800   \n",
       "1  8b38223ce53b1ff79764ef29e3d5fa2a                4  25.638115   \n",
       "2  4baae1dcdceeed7ebe36a0e83f1a4644                4  59.008225   \n",
       "3  06b9c20527855dc4e9c2681ca8f2a59a                2  42.637934   \n",
       "4  99cbbd51245e78d3d79c0698bd484e1e                3  65.026397   \n",
       "\n",
       "   pickup_distance_to_jfk  dropoff_distance_to_jfk  pickup_distance_to_ewr  \\\n",
       "0               62.513030                47.650116               66.117144   \n",
       "1                3.518199                26.699310               17.973022   \n",
       "2               20.619042                71.087304               23.226716   \n",
       "3               16.776281                25.952279                4.714794   \n",
       "4               15.874863                69.719284                7.201506   \n",
       "\n",
       "   dropoff_distance_to_ewr  pickup_distance_to_lgr  dropoff_distance_to_lgr  \\\n",
       "0                54.253071               54.511542                40.677974   \n",
       "1                17.874616               10.570727                16.372117   \n",
       "2                82.173647               10.725451                66.800996   \n",
       "3                46.988505               14.468932                33.660930   \n",
       "4                58.686200               15.513387                59.095903   \n",
       "\n",
       "   year  weekday  hour  \n",
       "0  1970        0    13  \n",
       "1  1970        0    14  \n",
       "2  1970        0    14  \n",
       "3  1970        0    15  \n",
       "4  1970        0    14  "
      ]
     },
     "execution_count": 15,
     "metadata": {},
     "output_type": "execute_result"
    }
   ],
   "source": [
    "X_test.head(5)"
   ]
  },
  {
   "cell_type": "code",
   "execution_count": 16,
   "metadata": {},
   "outputs": [
    {
     "data": {
      "text/html": [
       "<div>\n",
       "<style scoped>\n",
       "    .dataframe tbody tr th:only-of-type {\n",
       "        vertical-align: middle;\n",
       "    }\n",
       "\n",
       "    .dataframe tbody tr th {\n",
       "        vertical-align: top;\n",
       "    }\n",
       "\n",
       "    .dataframe thead th {\n",
       "        text-align: right;\n",
       "    }\n",
       "</style>\n",
       "<table border=\"1\" class=\"dataframe\">\n",
       "  <thead>\n",
       "    <tr style=\"text-align: right;\">\n",
       "      <th></th>\n",
       "      <th>total_fare</th>\n",
       "    </tr>\n",
       "  </thead>\n",
       "  <tbody>\n",
       "    <tr>\n",
       "      <th>0</th>\n",
       "      <td>10.0</td>\n",
       "    </tr>\n",
       "    <tr>\n",
       "      <th>1</th>\n",
       "      <td>15.0</td>\n",
       "    </tr>\n",
       "    <tr>\n",
       "      <th>2</th>\n",
       "      <td>22.0</td>\n",
       "    </tr>\n",
       "    <tr>\n",
       "      <th>3</th>\n",
       "      <td>23.0</td>\n",
       "    </tr>\n",
       "    <tr>\n",
       "      <th>4</th>\n",
       "      <td>30.0</td>\n",
       "    </tr>\n",
       "  </tbody>\n",
       "</table>\n",
       "</div>"
      ],
      "text/plain": [
       "   total_fare\n",
       "0        10.0\n",
       "1        15.0\n",
       "2        22.0\n",
       "3        23.0\n",
       "4        30.0"
      ]
     },
     "execution_count": 16,
     "metadata": {},
     "output_type": "execute_result"
    }
   ],
   "source": [
    "y_test.head(5)"
   ]
  },
  {
   "cell_type": "markdown",
   "metadata": {},
   "source": [
    "## <span style=\"color:#ff5f27;\">⏭️ **Next:** Part 03 </span>\n",
    "\n",
    "In the next notebook, we will train a model on the dataset we created in this notebook."
   ]
  }
 ],
 "metadata": {
  "interpreter": {
   "hash": "31f2aee4e71d21fbe5cf8b01ff0e069b9275f58929596ceb00d14d90e3e16cd6"
  },
  "kernelspec": {
   "display_name": "Python 3 (ipykernel)",
   "language": "python",
   "name": "python3"
  },
  "language_info": {
   "codemirror_mode": {
    "name": "ipython",
    "version": 3
   },
   "file_extension": ".py",
   "mimetype": "text/x-python",
   "name": "python",
   "nbconvert_exporter": "python",
   "pygments_lexer": "ipython3",
   "version": "3.8.0"
  }
 },
 "nbformat": 4,
 "nbformat_minor": 4
}
