{
 "cells": [
  {
   "cell_type": "markdown",
   "id": "c656257d",
   "metadata": {},
   "source": [
    "# <span style=\"font-width:bold; font-size: 3rem; color:#1EB182;\"><img src=\"../../images/icon102.png\" width=\"38px\"></img> **Hopsworks Feature Store** </span><span style=\"font-width:bold; font-size: 3rem; color:#333;\">- Part 01: Backfill Features to the Feature Store</span>\n",
    "\n",
    "[![Open In Colab](https://colab.research.google.com/assets/colab-badge.svg)](https://colab.research.google.com/github/logicalclocks/hopsworks-tutorials/blob/master/advanced_tutorials/credit_scores/1_backfill_feature_groups.ipynb)\n",
    "\n",
    "## 🗒️ This notebook is divided into the following sections:\n",
    "1. Fetch historical data.\n",
    "2. Connect to the Hopsworks feature store.\n",
    "3. Create feature groups and insert them to the feature store.\n",
    "4. Data Visualization.\n",
    "\n",
    "![tutorial-flow](../../images/01_featuregroups.png)"
   ]
  },
  {
   "cell_type": "markdown",
   "id": "066cfc1d",
   "metadata": {},
   "source": [
    "## <span style='color:#ff5f27'> 📝 Imports"
   ]
  },
  {
   "cell_type": "code",
   "execution_count": null,
   "id": "54ef807e",
   "metadata": {},
   "outputs": [],
   "source": [
    "import pandas as pd\n",
    "import numpy as np\n",
    "import matplotlib.pyplot as plt\n",
    "import seaborn as sns\n",
    "\n",
    "from functions import *\n",
    "\n",
    "#ignore warnings\n",
    "import warnings\n",
    "warnings.filterwarnings('ignore')"
   ]
  },
  {
   "cell_type": "markdown",
   "id": "8f346331",
   "metadata": {},
   "source": [
    "## <span style=\"color:#ff5f27;\"> 💽 Loading the Data </span>"
   ]
  },
  {
   "cell_type": "markdown",
   "id": "fe19b02c",
   "metadata": {},
   "source": [
    "#### <span style=\"color:#ff5f27;\">⛳️ Application Train dataset</span>\n",
    "\n",
    "The main training dataset contains information about each loan application at Home Credit. Every loan has its own row and is identified by the feature **SK_ID_CURR**. This dataset has binary target indicating if the loan was repaid(0) or not(1)."
   ]
  },
  {
   "cell_type": "code",
   "execution_count": null,
   "id": "f80905ab",
   "metadata": {},
   "outputs": [],
   "source": [
    "application_train_org = pd.read_csv(\"https://repo.hops.works/dev/davit/credit_scores/application_train.csv\")\n",
    "application_train_org.head()"
   ]
  },
  {
   "cell_type": "markdown",
   "id": "17a3c800",
   "metadata": {},
   "source": [
    "#### <span style=\"color:#ff5f27;\">⛳️ Application Test dataset</span>"
   ]
  },
  {
   "cell_type": "code",
   "execution_count": null,
   "id": "caac8bdd",
   "metadata": {},
   "outputs": [],
   "source": [
    "application_test = pd.read_csv('https://repo.hops.works/dev/davit/credit_scores/application_test.csv')\n",
    "\n",
    "application_test.head()"
   ]
  },
  {
   "cell_type": "markdown",
   "id": "c662aa9a",
   "metadata": {},
   "source": [
    "#### <span style=\"color:#ff5f27;\">⛳️ Bureau Balance dataset</span>\n",
    "\n",
    "Dataset contains monthly data about the previous credits in bureau. Each row is one month of a previous credit, and a single previous credit can have multiple rows, one for each month of the credit length."
   ]
  },
  {
   "cell_type": "code",
   "execution_count": null,
   "id": "d7786a1a",
   "metadata": {},
   "outputs": [],
   "source": [
    "bureau_balance = pd.read_csv('https://repo.hops.works/dev/davit/credit_scores/bureau_balance.csv')\n",
    "\n",
    "bureau_balance.head()"
   ]
  },
  {
   "cell_type": "markdown",
   "id": "74ea2756",
   "metadata": {},
   "source": [
    "#### <span style=\"color:#ff5f27;\">⛳️ Bureau Dataset</span>\n",
    "\n",
    "Dataset contains data about client's previous credits from other financial institutions. Each previous credit has its own row in bureau, but one loan in the application data can have multiple previous credits."
   ]
  },
  {
   "cell_type": "code",
   "execution_count": null,
   "id": "dea341fa",
   "metadata": {},
   "outputs": [],
   "source": [
    "bureau = pd.read_csv('https://repo.hops.works/dev/davit/credit_scores/bureau.csv')\n",
    "\n",
    "bureau.head()"
   ]
  },
  {
   "cell_type": "markdown",
   "id": "e4ebded9",
   "metadata": {},
   "source": [
    "#### <span style=\"color:#ff5f27;\">⛳️ Credit Card Balance Dataset</span>\n",
    "\n",
    "Dataset contains monthly data about previous credit cards clients have had with Home Credit. Each row is one month of a credit card balance, and a single credit card can have many rows."
   ]
  },
  {
   "cell_type": "code",
   "execution_count": null,
   "id": "987feeaf",
   "metadata": {},
   "outputs": [],
   "source": [
    "credit_card_balance = pd.read_csv('https://repo.hops.works/dev/davit/credit_scores/credit_card_balance.csv')\n",
    "\n",
    "credit_card_balance.head()"
   ]
  },
  {
   "cell_type": "markdown",
   "id": "761f558e",
   "metadata": {},
   "source": [
    "#### <span style=\"color:#ff5f27;\">⛳️ Installments Payments Dataset</span>\n",
    "\n",
    "Dataset contains payment history for previous loans at Home Credit. There is one row for every made payment and one row for every missed payment."
   ]
  },
  {
   "cell_type": "code",
   "execution_count": null,
   "id": "b494b088",
   "metadata": {},
   "outputs": [],
   "source": [
    "installments_payments = pd.read_csv('https://repo.hops.works/dev/davit/credit_scores/installments_payments.csv')\n",
    "\n",
    "installments_payments.head()"
   ]
  },
  {
   "cell_type": "markdown",
   "id": "d1749444",
   "metadata": {},
   "source": [
    "#### <span style=\"color:#ff5f27;\">⛳️ POS (point of sales) and Cash Loans Balance Dataset</span>\n",
    "\n",
    "Monthly balance snapshots of previous POS (point of sales) and cash loans that the applicant had with Home Credit.\n",
    "\n",
    "This table has one row for each month of history of every previous credit in Home Credit (consumer credit and cash loans) related to loans in our sample"
   ]
  },
  {
   "cell_type": "code",
   "execution_count": null,
   "id": "5b10a16f",
   "metadata": {},
   "outputs": [],
   "source": [
    "pos_cash_balance = pd.read_csv('https://repo.hops.works/dev/davit/credit_scores/POS_CASH_balance.csv')\n",
    "\n",
    "pos_cash_balance.head()"
   ]
  },
  {
   "cell_type": "markdown",
   "id": "8674301f",
   "metadata": {},
   "source": [
    "#### <span style=\"color:#ff5f27;\">⛳️ Previous Application Dataset</span>\n",
    "\n",
    "All previous applications for Home Credit loans of clients who have loans in our sample.\n",
    "\n",
    "There is one row for each previous application related to loans in our data sample."
   ]
  },
  {
   "cell_type": "code",
   "execution_count": null,
   "id": "f269dce9",
   "metadata": {},
   "outputs": [],
   "source": [
    "previous_application = pd.read_csv('https://repo.hops.works/dev/davit/credit_scores/previous_application.csv')\n",
    "\n",
    "previous_application.head()"
   ]
  },
  {
   "cell_type": "markdown",
   "id": "5bb1d5d4",
   "metadata": {},
   "source": [
    "---\n",
    "\n",
    "## <span style=\"color:#ff5f27;\"> 🛠️ Feature Engineering </span>"
   ]
  },
  {
   "cell_type": "markdown",
   "id": "a4388bf5",
   "metadata": {},
   "source": [
    "#### <span style=\"color:#ff5f27;\"> ⛳️ Dataset with amount of previous loans</span>"
   ]
  },
  {
   "cell_type": "code",
   "execution_count": null,
   "id": "11abd601",
   "metadata": {},
   "outputs": [],
   "source": [
    "previous_loan_counts = bureau.groupby('SK_ID_CURR', as_index=False)['SK_ID_BUREAU'].count().rename(columns = {'SK_ID_BUREAU': 'previous_loan_counts'})\n",
    "\n",
    "previous_loan_counts.head()"
   ]
  },
  {
   "cell_type": "markdown",
   "id": "36b74f22",
   "metadata": {},
   "source": [
    "---\n",
    "\n",
    "## <span style=\"color:#ff5f27;\">👨🏻‍⚖️ Dealing with missing values</span>"
   ]
  },
  {
   "cell_type": "code",
   "execution_count": null,
   "id": "76110306",
   "metadata": {},
   "outputs": [],
   "source": [
    "application_train = remove_nans(application_train_org)\n",
    "application_test = remove_nans(application_test)\n",
    "bureau = remove_nans(bureau)\n",
    "credit_card_balance.dropna(inplace = True)\n",
    "installments_payments.dropna(inplace = True)\n",
    "pos_cash_balance.dropna(inplace = True)\n",
    "previous_application = remove_nans(previous_application)"
   ]
  },
  {
   "cell_type": "markdown",
   "id": "a3ab95bb",
   "metadata": {},
   "source": [
    "---\n",
    "## <span style=\"color:#ff5f27;\">🔬 🧬 Subsampling Data</span>\n",
    "\n",
    "Our datasets have a lot of data. So we are going to subsample them in order to save our time.\n",
    "\n"
   ]
  },
  {
   "cell_type": "code",
   "execution_count": null,
   "id": "0422e58c",
   "metadata": {},
   "outputs": [],
   "source": [
    "application_train_sample = get_subsample(application_train)\n",
    "bureau_balance_sample = get_subsample(bureau_balance)\n",
    "bureau_sample = get_subsample(bureau)\n",
    "credit_card_balance_sample = get_subsample(credit_card_balance)\n",
    "installments_payments_sample = get_subsample(installments_payments)\n",
    "pos_cash_balance_sample = get_subsample(pos_cash_balance)\n",
    "previous_application_sample = get_subsample(previous_application)"
   ]
  },
  {
   "cell_type": "markdown",
   "id": "f6f79748",
   "metadata": {},
   "source": [
    "## <span style=\"color:#ff5f27;\"> 🔮 Connecting to Hopsworks Feature Store </span>"
   ]
  },
  {
   "cell_type": "code",
   "execution_count": null,
   "id": "b8ce6369",
   "metadata": {},
   "outputs": [],
   "source": [
    "import hopsworks\n",
    "\n",
    "project = hopsworks.login()\n",
    "\n",
    "fs = project.get_feature_store() "
   ]
  },
  {
   "cell_type": "code",
   "execution_count": null,
   "id": "53140a70",
   "metadata": {},
   "outputs": [],
   "source": [
    "print(f'Feature Store Name: {fs.name}')\n",
    "print(f'Feature Store Description: {fs.description}')"
   ]
  },
  {
   "cell_type": "markdown",
   "id": "ff8f9f0b",
   "metadata": {},
   "source": [
    "---\n",
    "\n",
    "## <span style=\"color:#ff5f27;\"> 🪄 Creating Feature Groups </span>\n",
    "\n",
    "A `Feature Groups` is a logical grouping of features, and experience has shown, that this grouping generally originates from the features being derived from the same data source. The `Feature Group` lets you save metadata along features.\n",
    "\n",
    "Generally, the features in a feature group are engineered together in an ingestion job. However, it is possible to have additional jobs to append features to an existing feature group. Furthermore, `Feature Groups` provide a way of defining a namespace for features, such that you can define features with the same name multiple times, but uniquely identified by the group they are contained in.\n",
    "\n",
    "> It is important to note that `Feature Groups` are not groupings of features for immediate training of Machine Learning models. Instead, to ensure reusability of features, it is possible to combine features from any number of groups into **Feature View**."
   ]
  },
  {
   "cell_type": "markdown",
   "id": "bccf2036",
   "metadata": {},
   "source": [
    "### <span style=\"color:#ff5f27;\">⛳️Creating Application train and test Feature Groups </span>"
   ]
  },
  {
   "cell_type": "code",
   "execution_count": null,
   "id": "a1841c22",
   "metadata": {},
   "outputs": [],
   "source": [
    "application_train.columns = [col_name.lower() for col_name in application_train.columns]\n",
    "\n",
    "application_train_fg = fs.get_or_create_feature_group(\n",
    "    name = 'application_train',\n",
    "    version = 1,\n",
    "    primary_key = ['sk_id_curr'],\n",
    "    online_enabled = False\n",
    ")\n",
    "\n",
    "application_train_fg.insert(application_train_sample, write_options={\"wait_for_job\": False})"
   ]
  },
  {
   "cell_type": "code",
   "execution_count": null,
   "id": "c537a131",
   "metadata": {},
   "outputs": [],
   "source": [
    "application_test.columns = [col_name.lower() for col_name in application_test.columns]\n",
    "\n",
    "application_test_fg = fs.get_or_create_feature_group(\n",
    "    name = 'application_test',\n",
    "    version = 1,\n",
    "    primary_key = ['sk_id_curr'],\n",
    "    online_enabled = False\n",
    ")\n",
    "\n",
    "application_test_fg.insert(application_test, write_options={\"wait_for_job\": False})"
   ]
  },
  {
   "cell_type": "markdown",
   "id": "a3bf21e8",
   "metadata": {},
   "source": [
    "#### <span style=\"color:#ff5f27;\"> ⛳️ Bureau Balance Feature Group</span>"
   ]
  },
  {
   "cell_type": "code",
   "execution_count": null,
   "id": "03aef307",
   "metadata": {},
   "outputs": [],
   "source": [
    "bureau_balance.columns = [col_name.lower() for col_name in bureau_balance.columns]\n",
    "\n",
    "bureau_balance_fg = fs.get_or_create_feature_group(\n",
    "    name = 'bureau_balance',\n",
    "    version = 1,\n",
    "    primary_key = ['sk_id_bureau'],\n",
    "    online_enabled = False\n",
    ")\n",
    "\n",
    "bureau_balance_fg.insert(bureau_balance_sample, write_options={\"wait_for_job\": False})"
   ]
  },
  {
   "cell_type": "markdown",
   "id": "f8c5d4f2",
   "metadata": {},
   "source": [
    "#### <span style=\"color:#ff5f27;\"> ⛳️ Bureau Feature Group</span>"
   ]
  },
  {
   "cell_type": "code",
   "execution_count": null,
   "id": "ccc0c9bf",
   "metadata": {},
   "outputs": [],
   "source": [
    "bureau.columns = [col_name.lower() for col_name in bureau.columns]\n",
    "\n",
    "bureau_fg = fs.get_or_create_feature_group(\n",
    "    name = 'bureau',\n",
    "    version = 1,\n",
    "    primary_key = ['sk_id_curr','sk_id_bureau'],\n",
    "    online_enabled = False\n",
    ")\n",
    "\n",
    "bureau_fg.insert(bureau_sample, write_options={\"wait_for_job\": False})"
   ]
  },
  {
   "cell_type": "markdown",
   "id": "f61e8d9a",
   "metadata": {},
   "source": [
    "#### <span style=\"color:#ff5f27;\"> ⛳️ Previous Application Feature Group</span>"
   ]
  },
  {
   "cell_type": "code",
   "execution_count": null,
   "id": "6054f0c2",
   "metadata": {},
   "outputs": [],
   "source": [
    "previous_application.columns = [col_name.lower() for col_name in previous_application.columns]\n",
    "\n",
    "previous_application_fg = fs.get_or_create_feature_group(\n",
    "    name = 'previous_application',\n",
    "    version = 1,\n",
    "    primary_key = ['sk_id_prev','sk_id_curr'],\n",
    "    online_enabled = False\n",
    ")\n",
    "\n",
    "previous_application_fg.insert(previous_application_sample, write_options={\"wait_for_job\": False})"
   ]
  },
  {
   "cell_type": "markdown",
   "id": "7c96104c",
   "metadata": {},
   "source": [
    "#### <span style=\"color:#ff5f27;\"> ⛳️ Pos_Cash_Balance Feature Group</span>"
   ]
  },
  {
   "cell_type": "code",
   "execution_count": null,
   "id": "16f3d825",
   "metadata": {},
   "outputs": [],
   "source": [
    "pos_cash_balance.columns = [col_name.lower() for col_name in pos_cash_balance.columns]\n",
    "\n",
    "pos_cash_balance_fg = fs.get_or_create_feature_group(\n",
    "    name = 'pos_cash_balance',\n",
    "    version = 1,\n",
    "    primary_key = ['sk_id_prev','sk_id_curr'],\n",
    "    online_enabled = False\n",
    ")\n",
    "\n",
    "pos_cash_balance_fg.insert(pos_cash_balance_sample, write_options={\"wait_for_job\": False})"
   ]
  },
  {
   "cell_type": "markdown",
   "id": "8cdbdfae",
   "metadata": {},
   "source": [
    "#### <span style=\"color:#ff5f27;\"> ⛳️ Instalments Payments Feature Group</span>"
   ]
  },
  {
   "cell_type": "code",
   "execution_count": null,
   "id": "1d5b3ab7",
   "metadata": {},
   "outputs": [],
   "source": [
    "installments_payments.columns = [col_name.lower() for col_name in installments_payments.columns]\n",
    "\n",
    "installments_payments_fg = fs.get_or_create_feature_group(\n",
    "    name = 'installments_payments',\n",
    "    version = 1,\n",
    "    primary_key = ['sk_id_prev','sk_id_curr'],\n",
    "    online_enabled = False\n",
    ")\n",
    "\n",
    "installments_payments_fg.insert(installments_payments_sample, write_options={\"wait_for_job\": False})"
   ]
  },
  {
   "cell_type": "markdown",
   "id": "07b5b3ee",
   "metadata": {},
   "source": [
    "#### <span style=\"color:#ff5f27;\"> ⛳️ Credit Card Balance Feature Group</span>"
   ]
  },
  {
   "cell_type": "code",
   "execution_count": null,
   "id": "ef832847",
   "metadata": {},
   "outputs": [],
   "source": [
    "credit_card_balance.columns = [col_name.lower() for col_name in credit_card_balance.columns]\n",
    "\n",
    "credit_card_balance_fg = fs.get_or_create_feature_group(\n",
    "    name = 'credit_card_balance',\n",
    "    version = 1,\n",
    "    primary_key = ['sk_id_prev','sk_id_curr'],\n",
    "    online_enabled = False\n",
    ")\n",
    "\n",
    "credit_card_balance_fg.insert(credit_card_balance_sample, write_options={\"wait_for_job\": False})"
   ]
  },
  {
   "cell_type": "markdown",
   "id": "0db06e97",
   "metadata": {},
   "source": [
    "#### <span style=\"color:#ff5f27;\"> ⛳️ Previous Load Counts Feature Group</span>"
   ]
  },
  {
   "cell_type": "code",
   "execution_count": null,
   "id": "9dba1014",
   "metadata": {},
   "outputs": [],
   "source": [
    "previous_loan_counts.columns = [col_name.lower() for col_name in previous_loan_counts.columns]\n",
    "\n",
    "previous_loan_counts_fg = fs.get_or_create_feature_group(\n",
    "    name = 'previous_loan_counts',\n",
    "    version = 1,\n",
    "    primary_key = ['sk_id_curr'],\n",
    "    online_enabled = False\n",
    ")\n",
    "\n",
    "previous_loan_counts_fg.insert(previous_loan_counts, write_options={\"wait_for_job\": True})"
   ]
  },
  {
   "cell_type": "markdown",
   "id": "53239f75",
   "metadata": {},
   "source": [
    "---\n",
    "\n",
    "## <span style=\"color:#ff5f27;\">👨🏻‍🎨 Data Exploration</span>"
   ]
  },
  {
   "cell_type": "code",
   "execution_count": null,
   "id": "b60c91ef",
   "metadata": {},
   "outputs": [],
   "source": [
    "plt.figure(figsize=(12,5))\n",
    "\n",
    "plt.pie(\n",
    "    application_train.target.value_counts(),\n",
    "    labels = ['Repayed','Not Repayed'], \n",
    "    explode = (0, 0.2),\n",
    "    shadow=True,\n",
    "    autopct='%1.1f%%',\n",
    "    radius = 1.2\n",
    ")\n",
    "\n",
    "plt.title(\"Ratio of Loan Repayed or Not\", fontsize = 15)\n",
    "plt.show()"
   ]
  },
  {
   "cell_type": "code",
   "execution_count": null,
   "id": "391d53f0",
   "metadata": {},
   "outputs": [],
   "source": [
    "plt.figure(figsize=(12,5))\n",
    "\n",
    "sns.distplot(application_train.amt_credit)\n",
    "\n",
    "plt.title(\"Distribution of Amount of Credit\", fontsize = 15)\n",
    "plt.xlabel('Amount of credit')\n",
    "plt.show()"
   ]
  },
  {
   "cell_type": "code",
   "execution_count": null,
   "id": "f9c3c88e",
   "metadata": {},
   "outputs": [],
   "source": [
    "plt.figure(figsize=(12,5))\n",
    "\n",
    "sns.distplot(application_train.amt_goods_price)\n",
    "\n",
    "plt.title(\"Distribution of Amount of Goods Price\", fontsize = 15)\n",
    "plt.xlabel('Amount of goods price')\n",
    "plt.show()"
   ]
  },
  {
   "cell_type": "code",
   "execution_count": null,
   "id": "d142a638",
   "metadata": {},
   "outputs": [],
   "source": [
    "plt.figure(figsize=(12,5))\n",
    "\n",
    "sns.distplot(application_train.days_birth / -365,bins = 30)\n",
    "\n",
    "plt.title(\"Distribution of Applicant Age\", fontsize = 15)\n",
    "plt.xlabel('Years')\n",
    "plt.show()"
   ]
  },
  {
   "cell_type": "code",
   "execution_count": null,
   "id": "35fe1c36",
   "metadata": {},
   "outputs": [],
   "source": [
    "temp_df = application_train.name_type_suite.value_counts().reset_index()\n",
    "\n",
    "plt.figure(figsize=(12,5))\n",
    "\n",
    "sns.barplot(data = temp_df, x = 'index', y = 'name_type_suite')\n",
    "\n",
    "plt.title(\"Who accompanied client when applying for the  application\", fontsize = 15)\n",
    "plt.xlabel('Accompanior')\n",
    "plt.ylabel('Amount')\n",
    "plt.show()"
   ]
  },
  {
   "cell_type": "code",
   "execution_count": null,
   "id": "f391fb42",
   "metadata": {},
   "outputs": [],
   "source": [
    "plt.figure(figsize=(12,5))\n",
    "\n",
    "plt.pie(\n",
    "    application_train.flag_own_car.value_counts(),\n",
    "    labels = ['Loan for other purpose','Loan for a car'] ,\n",
    "    explode = (0, 0.1),\n",
    "    shadow = True,\n",
    "    autopct = '%1.1f%%',\n",
    "    radius = 1.2\n",
    ")\n",
    "\n",
    "plt.title(\"Ratio of loan for a car or not\", fontsize = 15)\n",
    "plt.show()"
   ]
  },
  {
   "cell_type": "code",
   "execution_count": null,
   "id": "198ea486",
   "metadata": {},
   "outputs": [],
   "source": [
    "plt.figure(figsize=(12,5))\n",
    "\n",
    "plt.pie(\n",
    "    application_train.flag_own_realty.value_counts(),\n",
    "    labels = ['Loan for revalty','Loan for other purpose'], \n",
    "    explode = (0, 0.1),\n",
    "    shadow=True, \n",
    "    autopct='%1.1f%%',\n",
    "    radius = 1.2\n",
    ")\n",
    "\n",
    "plt.title(\"Ratio of realty for a car or not\", fontsize = 15)\n",
    "plt.show()"
   ]
  },
  {
   "cell_type": "code",
   "execution_count": null,
   "id": "1192adb5",
   "metadata": {},
   "outputs": [],
   "source": [
    "temp_df = application_train.name_income_type.value_counts()[:4]\n",
    "\n",
    "plt.figure(figsize=(12,5))\n",
    "\n",
    "plt.pie(\n",
    "    temp_df,\n",
    "    labels = temp_df[:4].index,\n",
    "    explode = (0, 0.075,0.1,0.1), \n",
    "    shadow = True, \n",
    "    autopct = '%1.1f%%',\n",
    "    labeldistance = 0.8,\n",
    "    radius = 1.2\n",
    ")\n",
    "\n",
    "plt.title(\"Income Ratio\", fontsize = 15)\n",
    "plt.show()"
   ]
  },
  {
   "cell_type": "code",
   "execution_count": null,
   "id": "ef05b0f8",
   "metadata": {},
   "outputs": [],
   "source": [
    "temp_df = application_train.name_family_status.value_counts()[:-1]\n",
    "\n",
    "plt.figure(figsize=(12,5))\n",
    "\n",
    "plt.pie(\n",
    "    temp_df,\n",
    "    labels = temp_df.index,\n",
    "    explode = (0,0.1,0.1,0.1), \n",
    "    shadow = True, \n",
    "    autopct = '%1.1f%%',\n",
    "    labeldistance = 1.05,\n",
    "    radius = 1.2\n",
    ")\n",
    "\n",
    "plt.title(\"Family Status Ratio\", fontsize = 15)\n",
    "plt.show()"
   ]
  },
  {
   "cell_type": "code",
   "execution_count": null,
   "id": "dd0e0906",
   "metadata": {},
   "outputs": [],
   "source": [
    "plt.figure(figsize=(12,5))\n",
    "\n",
    "sns.countplot(\n",
    "    data = application_train_org,\n",
    "    x = 'OCCUPATION_TYPE',\n",
    "    order = application_train_org['OCCUPATION_TYPE'].value_counts().index\n",
    ")\n",
    "\n",
    "plt.title(\"Occupation of who applied for loan\", fontsize = 15)\n",
    "plt.xticks(rotation = 45)\n",
    "plt.show()"
   ]
  },
  {
   "cell_type": "code",
   "execution_count": null,
   "id": "092f6972",
   "metadata": {},
   "outputs": [],
   "source": [
    "plt.figure(figsize=(12,5))\n",
    "\n",
    "ax = sns.countplot(\n",
    "    data = application_train_org,\n",
    "    x = 'NAME_EDUCATION_TYPE',\n",
    "    hue = 'TARGET',\n",
    "    order = application_train_org['NAME_EDUCATION_TYPE'].value_counts().index\n",
    ")\n",
    "\n",
    "plt.title(\"Education of who applied for loan\", fontsize = 15)\n",
    "plt.xlabel('Education Type')\n",
    "plt.ylabel('Count')\n",
    "add_perc(ax,application_train_org.NAME_EDUCATION_TYPE,5,2)\n",
    "plt.show()"
   ]
  },
  {
   "cell_type": "code",
   "execution_count": null,
   "id": "0ea22d3b",
   "metadata": {},
   "outputs": [],
   "source": [
    "temp_df = previous_application.name_contract_status.value_counts()[:-1]\n",
    "\n",
    "plt.figure(figsize=(12,5))\n",
    "\n",
    "plt.pie(\n",
    "    temp_df,\n",
    "    labels = temp_df.index,\n",
    "    explode = (0,0.1,0.1), \n",
    "    shadow = True, \n",
    "    autopct = '%1.1f%%',\n",
    "    labeldistance = 1.05,\n",
    "    radius = 1.25\n",
    ")\n",
    "\n",
    "plt.title(\"Contract Approvement Ratio\", fontsize = 15)\n",
    "plt.show()"
   ]
  },
  {
   "cell_type": "markdown",
   "id": "8f0431ac",
   "metadata": {},
   "source": [
    "---\n",
    "## <span style=\"color:#ff5f27;\">⏭️ **Next:** Part 02 </span>\n",
    "\n",
    "In the next notebook we will generate a new data for Feature Groups"
   ]
  }
 ],
 "metadata": {
  "kernelspec": {
   "display_name": "Python 3 (ipykernel)",
   "language": "python",
   "name": "python3"
  },
  "language_info": {
   "codemirror_mode": {
    "name": "ipython",
    "version": 3
   },
   "file_extension": ".py",
   "mimetype": "text/x-python",
   "name": "python",
   "nbconvert_exporter": "python",
   "pygments_lexer": "ipython3",
   "version": "3.8.15"
  }
 },
 "nbformat": 4,
 "nbformat_minor": 5
}
