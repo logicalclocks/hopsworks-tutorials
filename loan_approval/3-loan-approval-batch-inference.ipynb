{
 "cells": [
  {
   "cell_type": "markdown",
   "id": "384b4632",
   "metadata": {},
   "source": [
    "## <span style=\"color:#ff5f27;\">🚀 Batch Inference Pipeline</span>\n",
    "\n",
    "This notebook performs the following actions:\n",
    "\n",
    "* Gets a feature view object with its name/version from Hopsworks\n",
    "* Downloads a Pandas DataFrame with new inference data from Hopsworks using the feature view and the call `fv.get_batch_data(start_time=\"...\")`.\n",
    "* Downloads the model from Hopsworks using with its name/version.\n",
    "* Makes predictions on batch data."
   ]
  },
  {
   "cell_type": "markdown",
   "id": "19c44be4",
   "metadata": {},
   "source": [
    "## <span style=\"color:#ff5f27;\">📝 Imports </span>\n"
   ]
  },
  {
   "cell_type": "code",
   "execution_count": null,
   "id": "8efc53a7",
   "metadata": {},
   "outputs": [],
   "source": [
    "import hopsworks\n",
    "import pandas as pd\n",
    "import joblib\n",
    "import os\n",
    "import numpy as np\n",
    "from sklearn.metrics import confusion_matrix\n",
    "from matplotlib import pyplot\n",
    "import seaborn as sns"
   ]
  },
  {
   "cell_type": "code",
   "execution_count": null,
   "id": "c61e3adc",
   "metadata": {},
   "outputs": [],
   "source": [
    "# Define version numbers for feature view and model\n",
    "fv_version = 1\n",
    "model_version = 1\n",
    "\n",
    "# Define start and end times for the data\n",
    "start_time_data = \"2016-11-01\"\n",
    "end_time_data = \"2016-12-01\""
   ]
  },
  {
   "cell_type": "markdown",
   "id": "70fe09ca",
   "metadata": {},
   "source": [
    "## <span style=\"color:#ff5f27;\"> 🔮 Connect to Hopsworks Feature Store</span>"
   ]
  },
  {
   "cell_type": "code",
   "execution_count": null,
   "id": "7f8cd469",
   "metadata": {},
   "outputs": [],
   "source": [
    "import hopsworks\n",
    "\n",
    "project = hopsworks.login()\n",
    "\n",
    "fs = project.get_feature_store()"
   ]
  },
  {
   "cell_type": "markdown",
   "id": "b66df4b2",
   "metadata": {},
   "source": [
    "## <span style=\"color:#ff5f27;\"> ⚙️ Feature View Retrieval</span>\n"
   ]
  },
  {
   "cell_type": "code",
   "execution_count": null,
   "id": "34d8e82a",
   "metadata": {},
   "outputs": [],
   "source": [
    "# Get the 'loans_approvals' feature view\n",
    "feature_view = fs.get_feature_view(\n",
    "    name=\"loans_approvals\", \n",
    "    version=fv_version,\n",
    ")"
   ]
  },
  {
   "cell_type": "markdown",
   "id": "0890a082",
   "metadata": {},
   "source": [
    "## <span style=\"color:#ff5f27;\">🗄 Model Registry</span>\n"
   ]
  },
  {
   "cell_type": "code",
   "execution_count": null,
   "id": "f8194512",
   "metadata": {},
   "outputs": [],
   "source": [
    "# Get the model registry\n",
    "mr = project.get_model_registry()"
   ]
  },
  {
   "cell_type": "markdown",
   "id": "d251a56a",
   "metadata": {},
   "source": [
    "## <span style='color:#ff5f27'>🚀 Fetch and test the model</span>"
   ]
  },
  {
   "cell_type": "code",
   "execution_count": null,
   "id": "c435cd7c",
   "metadata": {},
   "outputs": [],
   "source": [
    "# Retrieve the model from the Model Registry using the name \"lending_model\" and specified version\n",
    "model = mr.get_model(\n",
    "    \"lending_model\",\n",
    "    version=model_version,\n",
    ")\n",
    "\n",
    "# Download the model directory from the Model Registry\n",
    "model_dir = model.download()\n",
    "\n",
    "# Load the model using joblib from the downloaded model directory\n",
    "model = joblib.load(model_dir + \"/lending_model.pkl\")"
   ]
  },
  {
   "cell_type": "markdown",
   "id": "814f9bfd",
   "metadata": {},
   "source": [
    "## <span style=\"color:#ff5f27;\">🔮  Batch Prediction </span>"
   ]
  },
  {
   "cell_type": "code",
   "execution_count": null,
   "id": "cc915814",
   "metadata": {},
   "outputs": [],
   "source": [
    "# Initialize batch scoring\n",
    "feature_view.init_batch_scoring(1)\n",
    "\n",
    "# Get batch data for a specified time range from start_time_data to end_time_data\n",
    "batch_data = feature_view.get_batch_data(\n",
    "    start_time=start_time_data,\n",
    "    end_time=end_time_data,\n",
    ")\n",
    "\n",
    "# Display the first three rows of the batch data\n",
    "batch_data.head(3)"
   ]
  },
  {
   "cell_type": "code",
   "execution_count": null,
   "id": "37127def",
   "metadata": {},
   "outputs": [],
   "source": [
    "# Make predictions on the batch data using the loaded model\n",
    "predictions = model.predict(batch_data)\n",
    "\n",
    "# Display the first 10 predictions\n",
    "predictions[:10]"
   ]
  },
  {
   "cell_type": "markdown",
   "id": "faf04cb0",
   "metadata": {},
   "source": [
    "---\n",
    "\n",
    "### <span style=\"color:#ff5f27;\">🥳 <b> Next Steps  </b> </span>\n",
    "Congratulations you've now completed the Loan Approval tutorial for Managed Hopsworks.\n",
    "\n",
    "Check out our other tutorials on ➡ https://github.com/logicalclocks/hopsworks-tutorials\n",
    "\n",
    "Or documentation at ➡ https://docs.hopsworks.ai"
   ]
  }
 ],
 "metadata": {
  "kernelspec": {
   "display_name": "Python 3 (ipykernel)",
   "language": "python",
   "name": "python3"
  },
  "language_info": {
   "codemirror_mode": {
    "name": "ipython",
    "version": 3
   },
   "file_extension": ".py",
   "mimetype": "text/x-python",
   "name": "python",
   "nbconvert_exporter": "python",
   "pygments_lexer": "ipython3",
   "version": "3.10.13"
  },
  "papermill": {
   "default_parameters": {},
   "duration": 1434.559462,
   "end_time": "2023-01-31T14:35:09.548746",
   "environment_variables": {},
   "exception": null,
   "input_path": "__notebook__.ipynb",
   "output_path": "__notebook__.ipynb",
   "parameters": {},
   "start_time": "2023-01-31T14:11:14.989284",
   "version": "2.3.4"
  }
 },
 "nbformat": 4,
 "nbformat_minor": 5
}
