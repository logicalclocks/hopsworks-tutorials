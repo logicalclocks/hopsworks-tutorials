{
 "cells": [
  {
   "cell_type": "markdown",
   "metadata": {},
   "source": [
    "# <a class=\"anchor\" id=\"1.5_bullet\" style=\"color:#533a7b\"> **Dataset Creation** </a>\n",
    "---\n",
    "\n",
    "\n",
    "In this notebook, we will create the actual dataset that we will train our model on. In particular, we will:\n",
    "1. Select the features we want to train our model on.\n",
    "2. Specify how the features should be preprocessed.\n",
    "3. Create a dataset split for training and validation data.\n",
    "\n",
    "![tutorial-flow](images/create_training_dataset.png)"
   ]
  },
  {
   "cell_type": "markdown",
   "metadata": {},
   "source": [
    "### <a class=\"anchor\" id=\"1.5_bullet\" style=\"color:#e363a3\"> **📝 Importing Libraries** </a>"
   ]
  },
  {
   "cell_type": "code",
   "execution_count": 1,
   "metadata": {},
   "outputs": [
    {
     "name": "stdout",
     "output_type": "stream",
     "text": [
      "Connected. Call `.close()` to terminate connection gracefully.\n"
     ]
    }
   ],
   "source": [
    "import hsfs\n",
    "\n",
    "conn = hsfs.connection()\n",
    "fs = conn.get_feature_store()"
   ]
  },
  {
   "cell_type": "markdown",
   "metadata": {},
   "source": [
    "### <a class=\"anchor\" id=\"1.5_bullet\" style=\"color:#3772ff\"> **⬇️ Data retrieving from Feature Groups** </a>\n",
    "\n",
    "We start by selecting all the features we want to include for model training/inference."
   ]
  },
  {
   "cell_type": "code",
   "execution_count": 2,
   "metadata": {},
   "outputs": [],
   "source": [
    "# Load feature groups.\n",
    "fares_fg = fs.get_or_create_feature_group(\"fares_fg\",\n",
    "                                          version=1)\n",
    "rides_fg = fs.get_or_create_feature_group(\"rides_fg\",\n",
    "                                          version=1)"
   ]
  },
  {
   "cell_type": "code",
   "execution_count": 3,
   "metadata": {},
   "outputs": [
    {
     "name": "stdout",
     "output_type": "stream",
     "text": [
      "2022-07-26 17:30:09,140 INFO: USE `tutorials_testing_featurestore`\n",
      "2022-07-26 17:30:09,854 INFO: WITH right_fg0 AS (SELECT *\n",
      "FROM (SELECT `fg1`.`total_fare` `total_fare`, `fg1`.`pickup_datetime` `pickup_datetime`, `fg1`.`month_of_the_ride` `month_of_the_ride`, `fg1`.`ride_id` `join_pk_ride_id`, `fg1`.`pickup_datetime` `join_evt_pickup_datetime`, `fg0`.`ride_id` `ride_id`, `fg0`.`pickup_longitude` `pickup_longitude`, `fg0`.`pickup_latitude` `pickup_latitude`, `fg0`.`dropoff_longitude` `dropoff_longitude`, `fg0`.`dropoff_latitude` `dropoff_latitude`, `fg0`.`passenger_count` `passenger_count`, `fg0`.`distance` `distance`, `fg0`.`pickup_distance_to_jfk` `pickup_distance_to_jfk`, `fg0`.`dropoff_distance_to_jfk` `dropoff_distance_to_jfk`, `fg0`.`pickup_distance_to_ewr` `pickup_distance_to_ewr`, `fg0`.`dropoff_distance_to_ewr` `dropoff_distance_to_ewr`, `fg0`.`pickup_distance_to_lgr` `pickup_distance_to_lgr`, `fg0`.`dropoff_distance_to_lgr` `dropoff_distance_to_lgr`, `fg0`.`year` `year`, `fg0`.`weekday` `weekday`, `fg0`.`hour` `hour`, RANK() OVER (PARTITION BY `fg1`.`ride_id`, `fg1`.`pickup_datetime`, `fg1`.`month_of_the_ride`, `fg1`.`pickup_datetime` ORDER BY `fg0`.`pickup_datetime` DESC) pit_rank_hopsworks\n",
      "FROM `tutorials_testing_featurestore`.`fares_fg_1` `fg1`\n",
      "INNER JOIN `tutorials_testing_featurestore`.`rides_fg_1` `fg0` ON `fg1`.`ride_id` = `fg0`.`ride_id` AND `fg1`.`pickup_datetime` = `fg0`.`pickup_datetime` AND `fg1`.`month_of_the_ride` = `fg0`.`month_of_the_ride` AND `fg1`.`pickup_datetime` >= `fg0`.`pickup_datetime`) NA\n",
      "WHERE `pit_rank_hopsworks` = 1) (SELECT `right_fg0`.`total_fare` `total_fare`, `right_fg0`.`pickup_datetime` `pickup_datetime`, `right_fg0`.`month_of_the_ride` `month_of_the_ride`, `right_fg0`.`ride_id` `ride_id`, `right_fg0`.`pickup_longitude` `pickup_longitude`, `right_fg0`.`pickup_latitude` `pickup_latitude`, `right_fg0`.`dropoff_longitude` `dropoff_longitude`, `right_fg0`.`dropoff_latitude` `dropoff_latitude`, `right_fg0`.`passenger_count` `passenger_count`, `right_fg0`.`distance` `distance`, `right_fg0`.`pickup_distance_to_jfk` `pickup_distance_to_jfk`, `right_fg0`.`dropoff_distance_to_jfk` `dropoff_distance_to_jfk`, `right_fg0`.`pickup_distance_to_ewr` `pickup_distance_to_ewr`, `right_fg0`.`dropoff_distance_to_ewr` `dropoff_distance_to_ewr`, `right_fg0`.`pickup_distance_to_lgr` `pickup_distance_to_lgr`, `right_fg0`.`dropoff_distance_to_lgr` `dropoff_distance_to_lgr`, `right_fg0`.`year` `year`, `right_fg0`.`weekday` `weekday`, `right_fg0`.`hour` `hour`\n",
      "FROM right_fg0)\n"
     ]
    },
    {
     "data": {
      "text/html": [
       "<div>\n",
       "<style scoped>\n",
       "    .dataframe tbody tr th:only-of-type {\n",
       "        vertical-align: middle;\n",
       "    }\n",
       "\n",
       "    .dataframe tbody tr th {\n",
       "        vertical-align: top;\n",
       "    }\n",
       "\n",
       "    .dataframe thead th {\n",
       "        text-align: right;\n",
       "    }\n",
       "</style>\n",
       "<table border=\"1\" class=\"dataframe\">\n",
       "  <thead>\n",
       "    <tr style=\"text-align: right;\">\n",
       "      <th></th>\n",
       "      <th>total_fare</th>\n",
       "      <th>pickup_datetime</th>\n",
       "      <th>month_of_the_ride</th>\n",
       "      <th>ride_id</th>\n",
       "      <th>pickup_longitude</th>\n",
       "      <th>pickup_latitude</th>\n",
       "      <th>dropoff_longitude</th>\n",
       "      <th>dropoff_latitude</th>\n",
       "      <th>passenger_count</th>\n",
       "      <th>distance</th>\n",
       "      <th>pickup_distance_to_jfk</th>\n",
       "      <th>dropoff_distance_to_jfk</th>\n",
       "      <th>pickup_distance_to_ewr</th>\n",
       "      <th>dropoff_distance_to_ewr</th>\n",
       "      <th>pickup_distance_to_lgr</th>\n",
       "      <th>dropoff_distance_to_lgr</th>\n",
       "      <th>year</th>\n",
       "      <th>weekday</th>\n",
       "      <th>hour</th>\n",
       "    </tr>\n",
       "  </thead>\n",
       "  <tbody>\n",
       "    <tr>\n",
       "      <th>0</th>\n",
       "      <td>118.0</td>\n",
       "      <td>1577880020000</td>\n",
       "      <td>202001</td>\n",
       "      <td>1</td>\n",
       "      <td>-73.76764</td>\n",
       "      <td>40.88664</td>\n",
       "      <td>-73.843834</td>\n",
       "      <td>40.78967</td>\n",
       "      <td>3</td>\n",
       "      <td>7.794438</td>\n",
       "      <td>16.960192</td>\n",
       "      <td>10.813943</td>\n",
       "      <td>25.269297</td>\n",
       "      <td>18.642949</td>\n",
       "      <td>9.402573</td>\n",
       "      <td>1.808076</td>\n",
       "      <td>2020</td>\n",
       "      <td>2</td>\n",
       "      <td>12</td>\n",
       "    </tr>\n",
       "    <tr>\n",
       "      <th>1</th>\n",
       "      <td>48.0</td>\n",
       "      <td>1577880040000</td>\n",
       "      <td>202001</td>\n",
       "      <td>2</td>\n",
       "      <td>-73.85604</td>\n",
       "      <td>40.77413</td>\n",
       "      <td>-73.802030</td>\n",
       "      <td>40.84287</td>\n",
       "      <td>3</td>\n",
       "      <td>5.525897</td>\n",
       "      <td>10.044588</td>\n",
       "      <td>13.983367</td>\n",
       "      <td>17.669196</td>\n",
       "      <td>22.185668</td>\n",
       "      <td>0.959006</td>\n",
       "      <td>5.911146</td>\n",
       "      <td>2020</td>\n",
       "      <td>2</td>\n",
       "      <td>12</td>\n",
       "    </tr>\n",
       "  </tbody>\n",
       "</table>\n",
       "</div>"
      ],
      "text/plain": [
       "   total_fare  pickup_datetime month_of_the_ride  ride_id  pickup_longitude  \\\n",
       "0       118.0    1577880020000            202001        1         -73.76764   \n",
       "1        48.0    1577880040000            202001        2         -73.85604   \n",
       "\n",
       "   pickup_latitude  dropoff_longitude  dropoff_latitude  passenger_count  \\\n",
       "0         40.88664         -73.843834          40.78967                3   \n",
       "1         40.77413         -73.802030          40.84287                3   \n",
       "\n",
       "   distance  pickup_distance_to_jfk  dropoff_distance_to_jfk  \\\n",
       "0  7.794438               16.960192                10.813943   \n",
       "1  5.525897               10.044588                13.983367   \n",
       "\n",
       "   pickup_distance_to_ewr  dropoff_distance_to_ewr  pickup_distance_to_lgr  \\\n",
       "0               25.269297                18.642949                9.402573   \n",
       "1               17.669196                22.185668                0.959006   \n",
       "\n",
       "   dropoff_distance_to_lgr  year  weekday  hour  \n",
       "0                 1.808076  2020        2    12  \n",
       "1                 5.911146  2020        2    12  "
      ]
     },
     "execution_count": 3,
     "metadata": {},
     "output_type": "execute_result"
    }
   ],
   "source": [
    "# Select features for training data.\n",
    "fg_query = fares_fg.select(['total_fare', 'pickup_datetime', 'month_of_the_ride'])\\\n",
    "                            .join(rides_fg.select_except(['taxi_id',\n",
    "                                  'driver_id']), on=['ride_id', 'pickup_datetime', 'month_of_the_ride'])\n",
    "fg_query.show(2)"
   ]
  },
  {
   "cell_type": "markdown",
   "metadata": {},
   "source": [
    "#### <a class=\"anchor\" id=\"1.5_bullet\" style=\"color:#772f1a\"> **〰️ Transformation Functions** </a>\n",
    "\n",
    "\n",
    "We can preprocess our data using several encoding methods like *min-max scaling* on numerical features and *label encoding* on categorical features. To do this we simply define a mapping between our features and transformation functions. This ensures that transformation functions such as *min-max scaling* are fitted only on the training data (and not the validation/test data), which ensures that there is no data leakage."
   ]
  },
  {
   "cell_type": "code",
   "execution_count": 4,
   "metadata": {},
   "outputs": [
    {
     "data": {
      "text/plain": [
       "['min_max_scaler', 'robust_scaler', 'standard_scaler', 'label_encoder']"
      ]
     },
     "execution_count": 4,
     "metadata": {},
     "output_type": "execute_result"
    }
   ],
   "source": [
    "[t_func.name for t_func in fs.get_transformation_functions()]"
   ]
  },
  {
   "cell_type": "code",
   "execution_count": 5,
   "metadata": {},
   "outputs": [],
   "source": [
    "# # Load transformation functions.\n",
    "# min_max_scaler = fs.get_transformation_function(name=\"min_max_scaler\")\n",
    "# label_encoder = fs.get_transformation_function(name=\"label_encoder\")\n",
    "\n",
    "# # Map features to transformations.\n",
    "# transformation_functions = {\n",
    "#     \"total_fare\": min_max_scaler,\n",
    "#     \"distance\": min_max_scaler\n",
    "# }"
   ]
  },
  {
   "cell_type": "markdown",
   "metadata": {},
   "source": [
    "## <a class=\"anchor\" id=\"1.5_bullet\" style=\"color:#2db3f0\"> **🔮 Feature View Creation** </a>\n",
    "\n",
    "\n",
    "We start by selecting all the features we want to include for model training/inference.\n",
    "\n",
    "After we have made a query from desired features, we should make a corresponding `Feature View`.\n",
    "In order to do it we may use `fs.create_feature_view()`"
   ]
  },
  {
   "cell_type": "code",
   "execution_count": 6,
   "metadata": {},
   "outputs": [
    {
     "name": "stdout",
     "output_type": "stream",
     "text": [
      "Feature view created successfully, explore it at \n",
      "https://0f060790-06a4-11ed-8aed-d1422d4ec537.cloud.hopsworks.ai/p/2170/fs/2118/fv/nyc_taxi_fares/version/1\n"
     ]
    }
   ],
   "source": [
    "nyc_fares_fv = fs.create_feature_view(\n",
    "    name='nyc_taxi_fares',\n",
    "    query=fg_query,\n",
    "    labels=[\"total_fare\"]\n",
    "#     transformation_functions=transformation_functions\n",
    ")"
   ]
  },
  {
   "cell_type": "code",
   "execution_count": 7,
   "metadata": {},
   "outputs": [
    {
     "data": {
      "text/plain": [
       "1"
      ]
     },
     "execution_count": 7,
     "metadata": {},
     "output_type": "execute_result"
    }
   ],
   "source": [
    "nyc_fares_fv.version"
   ]
  },
  {
   "cell_type": "markdown",
   "metadata": {},
   "source": [
    " ## <a class=\"anchor\" id=\"1.5_bullet\" style=\"color:#525252\"> **🏋️ Training Dataset Creation** </a>\n",
    "    \n",
    "In Hopsworks training data is a query where the projection (set of features) is determined by the parent FeatureView with an optional snapshot on disk of the data returned by the query.\n",
    "\n",
    "Training Dataset may contain splits such as:\n",
    "\n",
    "    Training set - the subset of training data used to train a model.\n",
    "    Validation set - the subset of training data used to evaluate hparams when training a model\n",
    "    Test set - the holdout subset of training data used to evaluate a mode\n",
    "\n",
    "Training dataset is created using fs.create_train_validation_test_split() method."
   ]
  },
  {
   "cell_type": "code",
   "execution_count": 8,
   "metadata": {},
   "outputs": [
    {
     "name": "stdout",
     "output_type": "stream",
     "text": [
      "Training dataset job started successfully, you can follow the progress at \n",
      "https://0f060790-06a4-11ed-8aed-d1422d4ec537.cloud.hopsworks.ai/p/2170/jobs/named/nyc_taxi_fares_1_1_create_fv_td_26072022173042/executions\n"
     ]
    },
    {
     "name": "stderr",
     "output_type": "stream",
     "text": [
      "VersionWarning: Incremented version to `1`.\n"
     ]
    },
    {
     "data": {
      "text/plain": [
       "(1, <hsfs.core.job.Job at 0x7f63633dd760>)"
      ]
     },
     "execution_count": 8,
     "metadata": {},
     "output_type": "execute_result"
    }
   ],
   "source": [
    "nyc_fares_fv.create_training_data(\n",
    "    description='training_dataset',\n",
    "    data_format='csv'\n",
    ")"
   ]
  },
  {
   "cell_type": "code",
   "execution_count": 9,
   "metadata": {},
   "outputs": [
    {
     "name": "stdout",
     "output_type": "stream",
     "text": [
      "Training dataset job started successfully, you can follow the progress at \n",
      "https://0f060790-06a4-11ed-8aed-d1422d4ec537.cloud.hopsworks.ai/p/2170/jobs/named/nyc_taxi_fares_1_2_create_fv_td_26072022173338/executions\n"
     ]
    },
    {
     "name": "stderr",
     "output_type": "stream",
     "text": [
      "VersionWarning: Incremented version to `2`.\n"
     ]
    },
    {
     "data": {
      "text/plain": [
       "(2, <hsfs.core.job.Job at 0x7f6364a9dd60>)"
      ]
     },
     "execution_count": 9,
     "metadata": {},
     "output_type": "execute_result"
    }
   ],
   "source": [
    "nyc_fares_fv.create_train_test_split(\n",
    "    test_size=0.2 # here we can define the test dataset size\n",
    ")"
   ]
  },
  {
   "cell_type": "code",
   "execution_count": 10,
   "metadata": {},
   "outputs": [
    {
     "name": "stderr",
     "output_type": "stream",
     "text": [
      "FutureWarning: pyarrow.hdfs.HadoopFileSystem is deprecated as of 2.0.0, please use pyarrow.fs.HadoopFileSystem instead.\n"
     ]
    }
   ],
   "source": [
    "X_train, y_train = nyc_fares_fv.get_training_data(\n",
    "    training_dataset_version=1\n",
    ")"
   ]
  },
  {
   "cell_type": "code",
   "execution_count": 11,
   "metadata": {},
   "outputs": [
    {
     "data": {
      "text/html": [
       "<div>\n",
       "<style scoped>\n",
       "    .dataframe tbody tr th:only-of-type {\n",
       "        vertical-align: middle;\n",
       "    }\n",
       "\n",
       "    .dataframe tbody tr th {\n",
       "        vertical-align: top;\n",
       "    }\n",
       "\n",
       "    .dataframe thead th {\n",
       "        text-align: right;\n",
       "    }\n",
       "</style>\n",
       "<table border=\"1\" class=\"dataframe\">\n",
       "  <thead>\n",
       "    <tr style=\"text-align: right;\">\n",
       "      <th></th>\n",
       "      <th>pickup_datetime</th>\n",
       "      <th>month_of_the_ride</th>\n",
       "      <th>ride_id</th>\n",
       "      <th>pickup_longitude</th>\n",
       "      <th>pickup_latitude</th>\n",
       "      <th>dropoff_longitude</th>\n",
       "      <th>dropoff_latitude</th>\n",
       "      <th>passenger_count</th>\n",
       "      <th>distance</th>\n",
       "      <th>pickup_distance_to_jfk</th>\n",
       "      <th>dropoff_distance_to_jfk</th>\n",
       "      <th>pickup_distance_to_ewr</th>\n",
       "      <th>dropoff_distance_to_ewr</th>\n",
       "      <th>pickup_distance_to_lgr</th>\n",
       "      <th>dropoff_distance_to_lgr</th>\n",
       "      <th>year</th>\n",
       "      <th>weekday</th>\n",
       "      <th>hour</th>\n",
       "    </tr>\n",
       "  </thead>\n",
       "  <tbody>\n",
       "    <tr>\n",
       "      <th>0</th>\n",
       "      <td>1577882700000</td>\n",
       "      <td>202001</td>\n",
       "      <td>135</td>\n",
       "      <td>-73.922540</td>\n",
       "      <td>40.689495</td>\n",
       "      <td>-73.76730</td>\n",
       "      <td>40.887066</td>\n",
       "      <td>2</td>\n",
       "      <td>15.883820</td>\n",
       "      <td>8.270023</td>\n",
       "      <td>16.990193</td>\n",
       "      <td>13.200250</td>\n",
       "      <td>25.300091</td>\n",
       "      <td>6.552041</td>\n",
       "      <td>9.436810</td>\n",
       "      <td>2020</td>\n",
       "      <td>2</td>\n",
       "      <td>12</td>\n",
       "    </tr>\n",
       "    <tr>\n",
       "      <th>1</th>\n",
       "      <td>1577883520000</td>\n",
       "      <td>202001</td>\n",
       "      <td>176</td>\n",
       "      <td>-73.816930</td>\n",
       "      <td>40.823900</td>\n",
       "      <td>-73.80063</td>\n",
       "      <td>40.844654</td>\n",
       "      <td>3</td>\n",
       "      <td>1.668032</td>\n",
       "      <td>12.779188</td>\n",
       "      <td>14.099817</td>\n",
       "      <td>20.891529</td>\n",
       "      <td>22.308797</td>\n",
       "      <td>4.410820</td>\n",
       "      <td>6.052817</td>\n",
       "      <td>2020</td>\n",
       "      <td>2</td>\n",
       "      <td>12</td>\n",
       "    </tr>\n",
       "    <tr>\n",
       "      <th>2</th>\n",
       "      <td>1577898080000</td>\n",
       "      <td>202001</td>\n",
       "      <td>904</td>\n",
       "      <td>-73.802086</td>\n",
       "      <td>40.842800</td>\n",
       "      <td>-73.79635</td>\n",
       "      <td>40.850098</td>\n",
       "      <td>3</td>\n",
       "      <td>0.586636</td>\n",
       "      <td>13.978813</td>\n",
       "      <td>14.458144</td>\n",
       "      <td>22.180792</td>\n",
       "      <td>22.686342</td>\n",
       "      <td>5.905553</td>\n",
       "      <td>6.485838</td>\n",
       "      <td>2020</td>\n",
       "      <td>2</td>\n",
       "      <td>17</td>\n",
       "    </tr>\n",
       "    <tr>\n",
       "      <th>3</th>\n",
       "      <td>1577900440000</td>\n",
       "      <td>202001</td>\n",
       "      <td>1022</td>\n",
       "      <td>-73.830640</td>\n",
       "      <td>40.806454</td>\n",
       "      <td>-73.77991</td>\n",
       "      <td>40.871030</td>\n",
       "      <td>3</td>\n",
       "      <td>5.190320</td>\n",
       "      <td>11.738002</td>\n",
       "      <td>15.873092</td>\n",
       "      <td>19.729807</td>\n",
       "      <td>24.155909</td>\n",
       "      <td>3.051922</td>\n",
       "      <td>8.154735</td>\n",
       "      <td>2020</td>\n",
       "      <td>2</td>\n",
       "      <td>17</td>\n",
       "    </tr>\n",
       "    <tr>\n",
       "      <th>4</th>\n",
       "      <td>1577903600000</td>\n",
       "      <td>202001</td>\n",
       "      <td>1180</td>\n",
       "      <td>-73.727620</td>\n",
       "      <td>40.937570</td>\n",
       "      <td>-73.78938</td>\n",
       "      <td>40.858970</td>\n",
       "      <td>3</td>\n",
       "      <td>6.316368</td>\n",
       "      <td>20.639902</td>\n",
       "      <td>15.051129</td>\n",
       "      <td>28.980397</td>\n",
       "      <td>23.305841</td>\n",
       "      <td>13.481569</td>\n",
       "      <td>7.192530</td>\n",
       "      <td>2020</td>\n",
       "      <td>2</td>\n",
       "      <td>18</td>\n",
       "    </tr>\n",
       "  </tbody>\n",
       "</table>\n",
       "</div>"
      ],
      "text/plain": [
       "   pickup_datetime  month_of_the_ride  ride_id  pickup_longitude  \\\n",
       "0    1577882700000             202001      135        -73.922540   \n",
       "1    1577883520000             202001      176        -73.816930   \n",
       "2    1577898080000             202001      904        -73.802086   \n",
       "3    1577900440000             202001     1022        -73.830640   \n",
       "4    1577903600000             202001     1180        -73.727620   \n",
       "\n",
       "   pickup_latitude  dropoff_longitude  dropoff_latitude  passenger_count  \\\n",
       "0        40.689495          -73.76730         40.887066                2   \n",
       "1        40.823900          -73.80063         40.844654                3   \n",
       "2        40.842800          -73.79635         40.850098                3   \n",
       "3        40.806454          -73.77991         40.871030                3   \n",
       "4        40.937570          -73.78938         40.858970                3   \n",
       "\n",
       "    distance  pickup_distance_to_jfk  dropoff_distance_to_jfk  \\\n",
       "0  15.883820                8.270023                16.990193   \n",
       "1   1.668032               12.779188                14.099817   \n",
       "2   0.586636               13.978813                14.458144   \n",
       "3   5.190320               11.738002                15.873092   \n",
       "4   6.316368               20.639902                15.051129   \n",
       "\n",
       "   pickup_distance_to_ewr  dropoff_distance_to_ewr  pickup_distance_to_lgr  \\\n",
       "0               13.200250                25.300091                6.552041   \n",
       "1               20.891529                22.308797                4.410820   \n",
       "2               22.180792                22.686342                5.905553   \n",
       "3               19.729807                24.155909                3.051922   \n",
       "4               28.980397                23.305841               13.481569   \n",
       "\n",
       "   dropoff_distance_to_lgr  year  weekday  hour  \n",
       "0                 9.436810  2020        2    12  \n",
       "1                 6.052817  2020        2    12  \n",
       "2                 6.485838  2020        2    17  \n",
       "3                 8.154735  2020        2    17  \n",
       "4                 7.192530  2020        2    18  "
      ]
     },
     "execution_count": 11,
     "metadata": {},
     "output_type": "execute_result"
    }
   ],
   "source": [
    "X_train.head(5)"
   ]
  },
  {
   "cell_type": "code",
   "execution_count": 12,
   "metadata": {},
   "outputs": [
    {
     "data": {
      "text/html": [
       "<div>\n",
       "<style scoped>\n",
       "    .dataframe tbody tr th:only-of-type {\n",
       "        vertical-align: middle;\n",
       "    }\n",
       "\n",
       "    .dataframe tbody tr th {\n",
       "        vertical-align: top;\n",
       "    }\n",
       "\n",
       "    .dataframe thead th {\n",
       "        text-align: right;\n",
       "    }\n",
       "</style>\n",
       "<table border=\"1\" class=\"dataframe\">\n",
       "  <thead>\n",
       "    <tr style=\"text-align: right;\">\n",
       "      <th></th>\n",
       "      <th>total_fare</th>\n",
       "    </tr>\n",
       "  </thead>\n",
       "  <tbody>\n",
       "    <tr>\n",
       "      <th>0</th>\n",
       "      <td>72.0</td>\n",
       "    </tr>\n",
       "    <tr>\n",
       "      <th>1</th>\n",
       "      <td>80.0</td>\n",
       "    </tr>\n",
       "    <tr>\n",
       "      <th>2</th>\n",
       "      <td>91.0</td>\n",
       "    </tr>\n",
       "    <tr>\n",
       "      <th>3</th>\n",
       "      <td>69.0</td>\n",
       "    </tr>\n",
       "    <tr>\n",
       "      <th>4</th>\n",
       "      <td>155.0</td>\n",
       "    </tr>\n",
       "  </tbody>\n",
       "</table>\n",
       "</div>"
      ],
      "text/plain": [
       "   total_fare\n",
       "0        72.0\n",
       "1        80.0\n",
       "2        91.0\n",
       "3        69.0\n",
       "4       155.0"
      ]
     },
     "execution_count": 12,
     "metadata": {},
     "output_type": "execute_result"
    }
   ],
   "source": [
    "y_train.head(5)"
   ]
  },
  {
   "cell_type": "code",
   "execution_count": 13,
   "metadata": {},
   "outputs": [],
   "source": [
    "X_train, y_train, X_test, y_test = nyc_fares_fv.get_train_test_split(\n",
    "    training_dataset_version=2\n",
    ")"
   ]
  },
  {
   "cell_type": "code",
   "execution_count": 14,
   "metadata": {},
   "outputs": [
    {
     "data": {
      "text/html": [
       "<div>\n",
       "<style scoped>\n",
       "    .dataframe tbody tr th:only-of-type {\n",
       "        vertical-align: middle;\n",
       "    }\n",
       "\n",
       "    .dataframe tbody tr th {\n",
       "        vertical-align: top;\n",
       "    }\n",
       "\n",
       "    .dataframe thead th {\n",
       "        text-align: right;\n",
       "    }\n",
       "</style>\n",
       "<table border=\"1\" class=\"dataframe\">\n",
       "  <thead>\n",
       "    <tr style=\"text-align: right;\">\n",
       "      <th></th>\n",
       "      <th>pickup_datetime</th>\n",
       "      <th>month_of_the_ride</th>\n",
       "      <th>ride_id</th>\n",
       "      <th>pickup_longitude</th>\n",
       "      <th>pickup_latitude</th>\n",
       "      <th>dropoff_longitude</th>\n",
       "      <th>dropoff_latitude</th>\n",
       "      <th>passenger_count</th>\n",
       "      <th>distance</th>\n",
       "      <th>pickup_distance_to_jfk</th>\n",
       "      <th>dropoff_distance_to_jfk</th>\n",
       "      <th>pickup_distance_to_ewr</th>\n",
       "      <th>dropoff_distance_to_ewr</th>\n",
       "      <th>pickup_distance_to_lgr</th>\n",
       "      <th>dropoff_distance_to_lgr</th>\n",
       "      <th>year</th>\n",
       "      <th>weekday</th>\n",
       "      <th>hour</th>\n",
       "    </tr>\n",
       "  </thead>\n",
       "  <tbody>\n",
       "    <tr>\n",
       "      <th>0</th>\n",
       "      <td>1577962460000</td>\n",
       "      <td>202001</td>\n",
       "      <td>4123</td>\n",
       "      <td>-73.905770</td>\n",
       "      <td>40.710840</td>\n",
       "      <td>-73.936750</td>\n",
       "      <td>40.671402</td>\n",
       "      <td>2</td>\n",
       "      <td>3.171634</td>\n",
       "      <td>8.236619</td>\n",
       "      <td>8.571996</td>\n",
       "      <td>14.153589</td>\n",
       "      <td>12.520077</td>\n",
       "      <td>4.857851</td>\n",
       "      <td>7.995554</td>\n",
       "      <td>2020</td>\n",
       "      <td>3</td>\n",
       "      <td>10</td>\n",
       "    </tr>\n",
       "    <tr>\n",
       "      <th>1</th>\n",
       "      <td>1578279660000</td>\n",
       "      <td>202001</td>\n",
       "      <td>19983</td>\n",
       "      <td>-73.898610</td>\n",
       "      <td>40.719948</td>\n",
       "      <td>-74.008705</td>\n",
       "      <td>40.579826</td>\n",
       "      <td>2</td>\n",
       "      <td>11.271184</td>\n",
       "      <td>8.330694</td>\n",
       "      <td>12.819831</td>\n",
       "      <td>14.602976</td>\n",
       "      <td>11.532286</td>\n",
       "      <td>4.140491</td>\n",
       "      <td>15.337210</td>\n",
       "      <td>2020</td>\n",
       "      <td>0</td>\n",
       "      <td>3</td>\n",
       "    </tr>\n",
       "    <tr>\n",
       "      <th>2</th>\n",
       "      <td>1578202000000</td>\n",
       "      <td>202001</td>\n",
       "      <td>16100</td>\n",
       "      <td>-73.892845</td>\n",
       "      <td>40.727287</td>\n",
       "      <td>-73.893590</td>\n",
       "      <td>40.726334</td>\n",
       "      <td>2</td>\n",
       "      <td>0.076534</td>\n",
       "      <td>8.452279</td>\n",
       "      <td>8.434118</td>\n",
       "      <td>14.981048</td>\n",
       "      <td>14.931367</td>\n",
       "      <td>3.567016</td>\n",
       "      <td>3.641130</td>\n",
       "      <td>2020</td>\n",
       "      <td>6</td>\n",
       "      <td>5</td>\n",
       "    </tr>\n",
       "    <tr>\n",
       "      <th>3</th>\n",
       "      <td>1578051560000</td>\n",
       "      <td>202001</td>\n",
       "      <td>8578</td>\n",
       "      <td>-73.880580</td>\n",
       "      <td>40.742900</td>\n",
       "      <td>-73.907745</td>\n",
       "      <td>40.708330</td>\n",
       "      <td>2</td>\n",
       "      <td>2.780009</td>\n",
       "      <td>8.837542</td>\n",
       "      <td>8.222081</td>\n",
       "      <td>15.828395</td>\n",
       "      <td>14.033825</td>\n",
       "      <td>2.374279</td>\n",
       "      <td>5.056343</td>\n",
       "      <td>2020</td>\n",
       "      <td>4</td>\n",
       "      <td>11</td>\n",
       "    </tr>\n",
       "    <tr>\n",
       "      <th>4</th>\n",
       "      <td>1578045040000</td>\n",
       "      <td>202001</td>\n",
       "      <td>8252</td>\n",
       "      <td>-73.878060</td>\n",
       "      <td>40.746110</td>\n",
       "      <td>-73.949710</td>\n",
       "      <td>40.654920</td>\n",
       "      <td>2</td>\n",
       "      <td>7.333750</td>\n",
       "      <td>8.936653</td>\n",
       "      <td>9.045361</td>\n",
       "      <td>16.009134</td>\n",
       "      <td>12.019719</td>\n",
       "      <td>2.137968</td>\n",
       "      <td>9.314055</td>\n",
       "      <td>2020</td>\n",
       "      <td>4</td>\n",
       "      <td>9</td>\n",
       "    </tr>\n",
       "  </tbody>\n",
       "</table>\n",
       "</div>"
      ],
      "text/plain": [
       "   pickup_datetime  month_of_the_ride  ride_id  pickup_longitude  \\\n",
       "0    1577962460000             202001     4123        -73.905770   \n",
       "1    1578279660000             202001    19983        -73.898610   \n",
       "2    1578202000000             202001    16100        -73.892845   \n",
       "3    1578051560000             202001     8578        -73.880580   \n",
       "4    1578045040000             202001     8252        -73.878060   \n",
       "\n",
       "   pickup_latitude  dropoff_longitude  dropoff_latitude  passenger_count  \\\n",
       "0        40.710840         -73.936750         40.671402                2   \n",
       "1        40.719948         -74.008705         40.579826                2   \n",
       "2        40.727287         -73.893590         40.726334                2   \n",
       "3        40.742900         -73.907745         40.708330                2   \n",
       "4        40.746110         -73.949710         40.654920                2   \n",
       "\n",
       "    distance  pickup_distance_to_jfk  dropoff_distance_to_jfk  \\\n",
       "0   3.171634                8.236619                 8.571996   \n",
       "1  11.271184                8.330694                12.819831   \n",
       "2   0.076534                8.452279                 8.434118   \n",
       "3   2.780009                8.837542                 8.222081   \n",
       "4   7.333750                8.936653                 9.045361   \n",
       "\n",
       "   pickup_distance_to_ewr  dropoff_distance_to_ewr  pickup_distance_to_lgr  \\\n",
       "0               14.153589                12.520077                4.857851   \n",
       "1               14.602976                11.532286                4.140491   \n",
       "2               14.981048                14.931367                3.567016   \n",
       "3               15.828395                14.033825                2.374279   \n",
       "4               16.009134                12.019719                2.137968   \n",
       "\n",
       "   dropoff_distance_to_lgr  year  weekday  hour  \n",
       "0                 7.995554  2020        3    10  \n",
       "1                15.337210  2020        0     3  \n",
       "2                 3.641130  2020        6     5  \n",
       "3                 5.056343  2020        4    11  \n",
       "4                 9.314055  2020        4     9  "
      ]
     },
     "execution_count": 14,
     "metadata": {},
     "output_type": "execute_result"
    }
   ],
   "source": [
    "X_test.head(5)"
   ]
  },
  {
   "cell_type": "code",
   "execution_count": 15,
   "metadata": {},
   "outputs": [
    {
     "data": {
      "text/html": [
       "<div>\n",
       "<style scoped>\n",
       "    .dataframe tbody tr th:only-of-type {\n",
       "        vertical-align: middle;\n",
       "    }\n",
       "\n",
       "    .dataframe tbody tr th {\n",
       "        vertical-align: top;\n",
       "    }\n",
       "\n",
       "    .dataframe thead th {\n",
       "        text-align: right;\n",
       "    }\n",
       "</style>\n",
       "<table border=\"1\" class=\"dataframe\">\n",
       "  <thead>\n",
       "    <tr style=\"text-align: right;\">\n",
       "      <th></th>\n",
       "      <th>total_fare</th>\n",
       "    </tr>\n",
       "  </thead>\n",
       "  <tbody>\n",
       "    <tr>\n",
       "      <th>0</th>\n",
       "      <td>8.0</td>\n",
       "    </tr>\n",
       "    <tr>\n",
       "      <th>1</th>\n",
       "      <td>14.0</td>\n",
       "    </tr>\n",
       "    <tr>\n",
       "      <th>2</th>\n",
       "      <td>21.0</td>\n",
       "    </tr>\n",
       "    <tr>\n",
       "      <th>3</th>\n",
       "      <td>29.0</td>\n",
       "    </tr>\n",
       "    <tr>\n",
       "      <th>4</th>\n",
       "      <td>30.0</td>\n",
       "    </tr>\n",
       "  </tbody>\n",
       "</table>\n",
       "</div>"
      ],
      "text/plain": [
       "   total_fare\n",
       "0         8.0\n",
       "1        14.0\n",
       "2        21.0\n",
       "3        29.0\n",
       "4        30.0"
      ]
     },
     "execution_count": 15,
     "metadata": {},
     "output_type": "execute_result"
    }
   ],
   "source": [
    "y_test.head(5)"
   ]
  },
  {
   "cell_type": "markdown",
   "metadata": {},
   "source": [
    "### Next Steps\n",
    "\n",
    "In the next notebook, we will train a model on the dataset we created in this notebook."
   ]
  }
 ],
 "metadata": {
  "interpreter": {
   "hash": "31f2aee4e71d21fbe5cf8b01ff0e069b9275f58929596ceb00d14d90e3e16cd6"
  },
  "kernelspec": {
   "display_name": "Python",
   "language": "python",
   "name": "python3"
  },
  "language_info": {
   "codemirror_mode": {
    "name": "ipython",
    "version": 3
   },
   "file_extension": ".py",
   "mimetype": "text/x-python",
   "name": "python",
   "nbconvert_exporter": "python",
   "pygments_lexer": "ipython3",
   "version": "3.8.11"
  }
 },
 "nbformat": 4,
 "nbformat_minor": 4
}