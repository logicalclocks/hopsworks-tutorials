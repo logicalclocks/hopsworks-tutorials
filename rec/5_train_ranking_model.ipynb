{
 "cells": [
  {
   "cell_type": "markdown",
   "metadata": {},
   "source": [
    "## Train Ranking Model\n",
    "\n",
    "In this notebook, we will train a ranking model using gradient boosted trees. \n",
    "\n",
    "Let's start by loading the datasets we created in the previous notebook."
   ]
  },
  {
   "cell_type": "code",
   "execution_count": null,
   "metadata": {},
   "outputs": [],
   "source": [
    "# Uncomment this cell and fill in details if you are running external Python\n",
    "import os\n",
    "key=\"\"\n",
    "with open(\"api-key.txt\", \"r\") as f:\n",
    "    key = f.read().rstrip()\n",
    "os.environ['HOPSWORKS_PROJECT']=\"hm\"\n",
    "os.environ['HOPSWORKS_HOST']=\"35.240.81.237\"\n",
    "os.environ['HOPSWORKS_API_KEY']=key"
   ]
  },
  {
   "cell_type": "code",
   "execution_count": null,
   "metadata": {},
   "outputs": [],
   "source": [
    "import hopsworks\n",
    "\n",
    "project = hopsworks.login()\n",
    "fs = project.get_feature_store()\n",
    "mr = project.get_model_registry()\n",
    "dataset_api = project.get_dataset_api()"
   ]
  },
  {
   "cell_type": "code",
   "execution_count": 1,
   "metadata": {},
   "outputs": [
    {
     "name": "stdout",
     "output_type": "stream",
     "text": [
      "Connected. Call `.close()` to terminate connection gracefully.\n"
     ]
    },
    {
     "data": {
      "application/vnd.jupyter.widget-view+json": {
       "model_id": "a693a0b057d0475b9504ca8336522d5c",
       "version_major": 2,
       "version_minor": 0
      },
      "text/plain": [
       "Downloading: 0.000%|          | 0/746313676 elapsed<00:00 remaining<?"
      ]
     },
     "metadata": {},
     "output_type": "display_data"
    },
    {
     "data": {
      "application/vnd.jupyter.widget-view+json": {
       "model_id": "957a1d65c7be40e8bc47284142de25bc",
       "version_major": 2,
       "version_minor": 0
      },
      "text/plain": [
       "Downloading: 0.000%|          | 0/187122926 elapsed<00:00 remaining<?"
      ]
     },
     "metadata": {},
     "output_type": "display_data"
    },
    {
     "data": {
      "text/plain": [
       "'/srv/hops/staging/private_dirs/ffb1d102dffce5ff5c0f57ff37ec63cb45e08742c3ecb04de9e869c2a1bcdda4/ranking_validation.csv'"
      ]
     },
     "execution_count": 1,
     "metadata": {},
     "output_type": "execute_result"
    }
   ],
   "source": [
    "dataset_api.download(\"Resources/ranking_train.csv\", overwrite=True)\n",
    "dataset_api.download(\"Resources/ranking_validation.csv\", overwrite=True)"
   ]
  },
  {
   "cell_type": "code",
   "execution_count": 2,
   "metadata": {},
   "outputs": [
    {
     "name": "stderr",
     "output_type": "stream",
     "text": [
      "DeprecationWarning: `should_run_async` will not call `transform_cell` automatically in the future. Please pass the result to `transformed_cell` argument and any exception that happen during thetransform in `preprocessing_exc_tuple` in IPython 7.17 and above.\n"
     ]
    },
    {
     "data": {
      "text/html": [
       "<div>\n",
       "<style scoped>\n",
       "    .dataframe tbody tr th:only-of-type {\n",
       "        vertical-align: middle;\n",
       "    }\n",
       "\n",
       "    .dataframe tbody tr th {\n",
       "        vertical-align: top;\n",
       "    }\n",
       "\n",
       "    .dataframe thead th {\n",
       "        text-align: right;\n",
       "    }\n",
       "</style>\n",
       "<table border=\"1\" class=\"dataframe\">\n",
       "  <thead>\n",
       "    <tr style=\"text-align: right;\">\n",
       "      <th></th>\n",
       "      <th>age</th>\n",
       "      <th>month_sin</th>\n",
       "      <th>month_cos</th>\n",
       "      <th>product_type_name</th>\n",
       "      <th>product_group_name</th>\n",
       "      <th>graphical_appearance_name</th>\n",
       "      <th>colour_group_name</th>\n",
       "      <th>perceived_colour_value_name</th>\n",
       "      <th>perceived_colour_master_name</th>\n",
       "      <th>department_name</th>\n",
       "      <th>index_name</th>\n",
       "      <th>index_group_name</th>\n",
       "      <th>section_name</th>\n",
       "      <th>garment_group_name</th>\n",
       "    </tr>\n",
       "  </thead>\n",
       "  <tbody>\n",
       "    <tr>\n",
       "      <th>1359079</th>\n",
       "      <td>28.0</td>\n",
       "      <td>1.000000</td>\n",
       "      <td>6.123234e-17</td>\n",
       "      <td>Underwear Tights</td>\n",
       "      <td>Socks &amp; Tights</td>\n",
       "      <td>Melange</td>\n",
       "      <td>Black</td>\n",
       "      <td>Dark</td>\n",
       "      <td>Black</td>\n",
       "      <td>Tights basic</td>\n",
       "      <td>Lingeries/Tights</td>\n",
       "      <td>Ladieswear</td>\n",
       "      <td>Womens Nightwear, Socks &amp; Tigh</td>\n",
       "      <td>Socks and Tights</td>\n",
       "    </tr>\n",
       "    <tr>\n",
       "      <th>1068568</th>\n",
       "      <td>25.0</td>\n",
       "      <td>0.866025</td>\n",
       "      <td>5.000000e-01</td>\n",
       "      <td>T-shirt</td>\n",
       "      <td>Garment Upper body</td>\n",
       "      <td>Melange</td>\n",
       "      <td>Dark Turquoise</td>\n",
       "      <td>Dark</td>\n",
       "      <td>Turquoise</td>\n",
       "      <td>Ladies Sport Bras</td>\n",
       "      <td>Sport</td>\n",
       "      <td>Sport</td>\n",
       "      <td>Ladies H&amp;M Sport</td>\n",
       "      <td>Jersey Fancy</td>\n",
       "    </tr>\n",
       "    <tr>\n",
       "      <th>645030</th>\n",
       "      <td>30.0</td>\n",
       "      <td>-0.500000</td>\n",
       "      <td>8.660254e-01</td>\n",
       "      <td>Trousers</td>\n",
       "      <td>Garment Lower body</td>\n",
       "      <td>Denim</td>\n",
       "      <td>Blue</td>\n",
       "      <td>Medium Dusty</td>\n",
       "      <td>Blue</td>\n",
       "      <td>Trouser</td>\n",
       "      <td>Ladieswear</td>\n",
       "      <td>Ladieswear</td>\n",
       "      <td>Womens Everyday Collection</td>\n",
       "      <td>Trousers</td>\n",
       "    </tr>\n",
       "    <tr>\n",
       "      <th>359040</th>\n",
       "      <td>44.0</td>\n",
       "      <td>0.500000</td>\n",
       "      <td>-8.660254e-01</td>\n",
       "      <td>T-shirt</td>\n",
       "      <td>Garment Upper body</td>\n",
       "      <td>Solid</td>\n",
       "      <td>White</td>\n",
       "      <td>Light</td>\n",
       "      <td>White</td>\n",
       "      <td>Tops Fancy Jersey</td>\n",
       "      <td>Divided</td>\n",
       "      <td>Divided</td>\n",
       "      <td>Divided Collection</td>\n",
       "      <td>Jersey Fancy</td>\n",
       "    </tr>\n",
       "    <tr>\n",
       "      <th>3804484</th>\n",
       "      <td>26.0</td>\n",
       "      <td>0.500000</td>\n",
       "      <td>-8.660254e-01</td>\n",
       "      <td>Skirt</td>\n",
       "      <td>Garment Lower body</td>\n",
       "      <td>Solid</td>\n",
       "      <td>Black</td>\n",
       "      <td>Dark</td>\n",
       "      <td>Black</td>\n",
       "      <td>Skirts</td>\n",
       "      <td>Divided</td>\n",
       "      <td>Divided</td>\n",
       "      <td>Divided Collection</td>\n",
       "      <td>Skirts</td>\n",
       "    </tr>\n",
       "  </tbody>\n",
       "</table>\n",
       "</div>"
      ],
      "text/plain": [
       "          age  month_sin     month_cos product_type_name  product_group_name  \\\n",
       "1359079  28.0   1.000000  6.123234e-17  Underwear Tights      Socks & Tights   \n",
       "1068568  25.0   0.866025  5.000000e-01           T-shirt  Garment Upper body   \n",
       "645030   30.0  -0.500000  8.660254e-01          Trousers  Garment Lower body   \n",
       "359040   44.0   0.500000 -8.660254e-01           T-shirt  Garment Upper body   \n",
       "3804484  26.0   0.500000 -8.660254e-01             Skirt  Garment Lower body   \n",
       "\n",
       "        graphical_appearance_name colour_group_name  \\\n",
       "1359079                   Melange             Black   \n",
       "1068568                   Melange    Dark Turquoise   \n",
       "645030                      Denim              Blue   \n",
       "359040                      Solid             White   \n",
       "3804484                     Solid             Black   \n",
       "\n",
       "        perceived_colour_value_name perceived_colour_master_name  \\\n",
       "1359079                        Dark                        Black   \n",
       "1068568                        Dark                    Turquoise   \n",
       "645030                 Medium Dusty                         Blue   \n",
       "359040                        Light                        White   \n",
       "3804484                        Dark                        Black   \n",
       "\n",
       "           department_name        index_name index_group_name  \\\n",
       "1359079       Tights basic  Lingeries/Tights       Ladieswear   \n",
       "1068568  Ladies Sport Bras             Sport            Sport   \n",
       "645030             Trouser        Ladieswear       Ladieswear   \n",
       "359040   Tops Fancy Jersey           Divided          Divided   \n",
       "3804484             Skirts           Divided          Divided   \n",
       "\n",
       "                           section_name garment_group_name  \n",
       "1359079  Womens Nightwear, Socks & Tigh   Socks and Tights  \n",
       "1068568                Ladies H&M Sport       Jersey Fancy  \n",
       "645030       Womens Everyday Collection           Trousers  \n",
       "359040               Divided Collection       Jersey Fancy  \n",
       "3804484              Divided Collection             Skirts  "
      ]
     },
     "execution_count": 2,
     "metadata": {},
     "output_type": "execute_result"
    }
   ],
   "source": [
    "import pandas as pd\n",
    "\n",
    "X_train = pd.read_csv(\"ranking_train.csv\")\n",
    "X_val = pd.read_csv(\"ranking_validation.csv\")\n",
    "y_train = X_train.pop(\"label\")\n",
    "y_val = X_val.pop(\"label\")\n",
    "\n",
    "X_train.sample(5)"
   ]
  },
  {
   "cell_type": "code",
   "execution_count": 4,
   "metadata": {},
   "outputs": [
    {
     "name": "stderr",
     "output_type": "stream",
     "text": [
      "DeprecationWarning: `should_run_async` will not call `transform_cell` automatically in the future. Please pass the result to `transformed_cell` argument and any exception that happen during thetransform in `preprocessing_exc_tuple` in IPython 7.17 and above.\n"
     ]
    },
    {
     "data": {
      "text/html": [
       "<div>\n",
       "<style scoped>\n",
       "    .dataframe tbody tr th:only-of-type {\n",
       "        vertical-align: middle;\n",
       "    }\n",
       "\n",
       "    .dataframe tbody tr th {\n",
       "        vertical-align: top;\n",
       "    }\n",
       "\n",
       "    .dataframe thead th {\n",
       "        text-align: right;\n",
       "    }\n",
       "</style>\n",
       "<table border=\"1\" class=\"dataframe\">\n",
       "  <thead>\n",
       "    <tr style=\"text-align: right;\">\n",
       "      <th></th>\n",
       "      <th>age</th>\n",
       "      <th>month_sin</th>\n",
       "      <th>month_cos</th>\n",
       "      <th>product_type_name</th>\n",
       "      <th>product_group_name</th>\n",
       "      <th>graphical_appearance_name</th>\n",
       "      <th>colour_group_name</th>\n",
       "      <th>perceived_colour_value_name</th>\n",
       "      <th>perceived_colour_master_name</th>\n",
       "      <th>department_name</th>\n",
       "      <th>index_name</th>\n",
       "      <th>index_group_name</th>\n",
       "      <th>section_name</th>\n",
       "      <th>garment_group_name</th>\n",
       "    </tr>\n",
       "  </thead>\n",
       "  <tbody>\n",
       "    <tr>\n",
       "      <th>0</th>\n",
       "      <td>42.0</td>\n",
       "      <td>-8.660254e-01</td>\n",
       "      <td>5.000000e-01</td>\n",
       "      <td>Leggings/Tights</td>\n",
       "      <td>Garment Lower body</td>\n",
       "      <td>All over pattern</td>\n",
       "      <td>Black</td>\n",
       "      <td>Dark</td>\n",
       "      <td>Black</td>\n",
       "      <td>Jersey</td>\n",
       "      <td>Ladieswear</td>\n",
       "      <td>Ladieswear</td>\n",
       "      <td>Mama</td>\n",
       "      <td>Jersey Fancy</td>\n",
       "    </tr>\n",
       "    <tr>\n",
       "      <th>1</th>\n",
       "      <td>25.0</td>\n",
       "      <td>8.660254e-01</td>\n",
       "      <td>-5.000000e-01</td>\n",
       "      <td>Leggings/Tights</td>\n",
       "      <td>Garment Lower body</td>\n",
       "      <td>All over pattern</td>\n",
       "      <td>Black</td>\n",
       "      <td>Dark</td>\n",
       "      <td>Black</td>\n",
       "      <td>Jersey</td>\n",
       "      <td>Ladieswear</td>\n",
       "      <td>Ladieswear</td>\n",
       "      <td>Mama</td>\n",
       "      <td>Jersey Fancy</td>\n",
       "    </tr>\n",
       "    <tr>\n",
       "      <th>2</th>\n",
       "      <td>29.0</td>\n",
       "      <td>-8.660254e-01</td>\n",
       "      <td>5.000000e-01</td>\n",
       "      <td>Leggings/Tights</td>\n",
       "      <td>Garment Lower body</td>\n",
       "      <td>All over pattern</td>\n",
       "      <td>Black</td>\n",
       "      <td>Dark</td>\n",
       "      <td>Black</td>\n",
       "      <td>Jersey</td>\n",
       "      <td>Ladieswear</td>\n",
       "      <td>Ladieswear</td>\n",
       "      <td>Mama</td>\n",
       "      <td>Jersey Fancy</td>\n",
       "    </tr>\n",
       "    <tr>\n",
       "      <th>3</th>\n",
       "      <td>36.0</td>\n",
       "      <td>1.224647e-16</td>\n",
       "      <td>-1.000000e+00</td>\n",
       "      <td>Leggings/Tights</td>\n",
       "      <td>Garment Lower body</td>\n",
       "      <td>All over pattern</td>\n",
       "      <td>Black</td>\n",
       "      <td>Dark</td>\n",
       "      <td>Black</td>\n",
       "      <td>Jersey</td>\n",
       "      <td>Ladieswear</td>\n",
       "      <td>Ladieswear</td>\n",
       "      <td>Mama</td>\n",
       "      <td>Jersey Fancy</td>\n",
       "    </tr>\n",
       "    <tr>\n",
       "      <th>4</th>\n",
       "      <td>25.0</td>\n",
       "      <td>1.000000e+00</td>\n",
       "      <td>6.123234e-17</td>\n",
       "      <td>Leggings/Tights</td>\n",
       "      <td>Garment Lower body</td>\n",
       "      <td>All over pattern</td>\n",
       "      <td>Black</td>\n",
       "      <td>Dark</td>\n",
       "      <td>Black</td>\n",
       "      <td>Jersey</td>\n",
       "      <td>Ladieswear</td>\n",
       "      <td>Ladieswear</td>\n",
       "      <td>Mama</td>\n",
       "      <td>Jersey Fancy</td>\n",
       "    </tr>\n",
       "    <tr>\n",
       "      <th>...</th>\n",
       "      <td>...</td>\n",
       "      <td>...</td>\n",
       "      <td>...</td>\n",
       "      <td>...</td>\n",
       "      <td>...</td>\n",
       "      <td>...</td>\n",
       "      <td>...</td>\n",
       "      <td>...</td>\n",
       "      <td>...</td>\n",
       "      <td>...</td>\n",
       "      <td>...</td>\n",
       "      <td>...</td>\n",
       "      <td>...</td>\n",
       "      <td>...</td>\n",
       "    </tr>\n",
       "    <tr>\n",
       "      <th>1161606</th>\n",
       "      <td>41.0</td>\n",
       "      <td>-1.000000e+00</td>\n",
       "      <td>-1.836970e-16</td>\n",
       "      <td>Trousers</td>\n",
       "      <td>Garment Lower body</td>\n",
       "      <td>Solid</td>\n",
       "      <td>Greenish Khaki</td>\n",
       "      <td>Dark</td>\n",
       "      <td>Khaki green</td>\n",
       "      <td>Trouser</td>\n",
       "      <td>Menswear</td>\n",
       "      <td>Menswear</td>\n",
       "      <td>Contemporary Casual</td>\n",
       "      <td>Trousers</td>\n",
       "    </tr>\n",
       "    <tr>\n",
       "      <th>1161607</th>\n",
       "      <td>28.0</td>\n",
       "      <td>-8.660254e-01</td>\n",
       "      <td>-5.000000e-01</td>\n",
       "      <td>Trousers</td>\n",
       "      <td>Garment Lower body</td>\n",
       "      <td>Solid</td>\n",
       "      <td>Greenish Khaki</td>\n",
       "      <td>Dark</td>\n",
       "      <td>Khaki green</td>\n",
       "      <td>Trouser</td>\n",
       "      <td>Menswear</td>\n",
       "      <td>Menswear</td>\n",
       "      <td>Contemporary Casual</td>\n",
       "      <td>Trousers</td>\n",
       "    </tr>\n",
       "    <tr>\n",
       "      <th>1161608</th>\n",
       "      <td>39.0</td>\n",
       "      <td>-1.000000e+00</td>\n",
       "      <td>-1.836970e-16</td>\n",
       "      <td>Trousers</td>\n",
       "      <td>Garment Lower body</td>\n",
       "      <td>Solid</td>\n",
       "      <td>Greenish Khaki</td>\n",
       "      <td>Dark</td>\n",
       "      <td>Khaki green</td>\n",
       "      <td>Trouser</td>\n",
       "      <td>Menswear</td>\n",
       "      <td>Menswear</td>\n",
       "      <td>Contemporary Casual</td>\n",
       "      <td>Trousers</td>\n",
       "    </tr>\n",
       "    <tr>\n",
       "      <th>1161609</th>\n",
       "      <td>32.0</td>\n",
       "      <td>-5.000000e-01</td>\n",
       "      <td>8.660254e-01</td>\n",
       "      <td>Trousers</td>\n",
       "      <td>Garment Lower body</td>\n",
       "      <td>Solid</td>\n",
       "      <td>Greenish Khaki</td>\n",
       "      <td>Dark</td>\n",
       "      <td>Khaki green</td>\n",
       "      <td>Trouser</td>\n",
       "      <td>Menswear</td>\n",
       "      <td>Menswear</td>\n",
       "      <td>Contemporary Casual</td>\n",
       "      <td>Trousers</td>\n",
       "    </tr>\n",
       "    <tr>\n",
       "      <th>1161610</th>\n",
       "      <td>38.0</td>\n",
       "      <td>-8.660254e-01</td>\n",
       "      <td>5.000000e-01</td>\n",
       "      <td>Trousers</td>\n",
       "      <td>Garment Lower body</td>\n",
       "      <td>Solid</td>\n",
       "      <td>Greenish Khaki</td>\n",
       "      <td>Dark</td>\n",
       "      <td>Khaki green</td>\n",
       "      <td>Trouser</td>\n",
       "      <td>Menswear</td>\n",
       "      <td>Menswear</td>\n",
       "      <td>Contemporary Casual</td>\n",
       "      <td>Trousers</td>\n",
       "    </tr>\n",
       "  </tbody>\n",
       "</table>\n",
       "<p>1161611 rows × 14 columns</p>\n",
       "</div>"
      ],
      "text/plain": [
       "          age     month_sin     month_cos product_type_name  \\\n",
       "0        42.0 -8.660254e-01  5.000000e-01   Leggings/Tights   \n",
       "1        25.0  8.660254e-01 -5.000000e-01   Leggings/Tights   \n",
       "2        29.0 -8.660254e-01  5.000000e-01   Leggings/Tights   \n",
       "3        36.0  1.224647e-16 -1.000000e+00   Leggings/Tights   \n",
       "4        25.0  1.000000e+00  6.123234e-17   Leggings/Tights   \n",
       "...       ...           ...           ...               ...   \n",
       "1161606  41.0 -1.000000e+00 -1.836970e-16          Trousers   \n",
       "1161607  28.0 -8.660254e-01 -5.000000e-01          Trousers   \n",
       "1161608  39.0 -1.000000e+00 -1.836970e-16          Trousers   \n",
       "1161609  32.0 -5.000000e-01  8.660254e-01          Trousers   \n",
       "1161610  38.0 -8.660254e-01  5.000000e-01          Trousers   \n",
       "\n",
       "         product_group_name graphical_appearance_name colour_group_name  \\\n",
       "0        Garment Lower body          All over pattern             Black   \n",
       "1        Garment Lower body          All over pattern             Black   \n",
       "2        Garment Lower body          All over pattern             Black   \n",
       "3        Garment Lower body          All over pattern             Black   \n",
       "4        Garment Lower body          All over pattern             Black   \n",
       "...                     ...                       ...               ...   \n",
       "1161606  Garment Lower body                     Solid    Greenish Khaki   \n",
       "1161607  Garment Lower body                     Solid    Greenish Khaki   \n",
       "1161608  Garment Lower body                     Solid    Greenish Khaki   \n",
       "1161609  Garment Lower body                     Solid    Greenish Khaki   \n",
       "1161610  Garment Lower body                     Solid    Greenish Khaki   \n",
       "\n",
       "        perceived_colour_value_name perceived_colour_master_name  \\\n",
       "0                              Dark                        Black   \n",
       "1                              Dark                        Black   \n",
       "2                              Dark                        Black   \n",
       "3                              Dark                        Black   \n",
       "4                              Dark                        Black   \n",
       "...                             ...                          ...   \n",
       "1161606                        Dark                  Khaki green   \n",
       "1161607                        Dark                  Khaki green   \n",
       "1161608                        Dark                  Khaki green   \n",
       "1161609                        Dark                  Khaki green   \n",
       "1161610                        Dark                  Khaki green   \n",
       "\n",
       "        department_name  index_name index_group_name         section_name  \\\n",
       "0                Jersey  Ladieswear       Ladieswear                 Mama   \n",
       "1                Jersey  Ladieswear       Ladieswear                 Mama   \n",
       "2                Jersey  Ladieswear       Ladieswear                 Mama   \n",
       "3                Jersey  Ladieswear       Ladieswear                 Mama   \n",
       "4                Jersey  Ladieswear       Ladieswear                 Mama   \n",
       "...                 ...         ...              ...                  ...   \n",
       "1161606         Trouser    Menswear         Menswear  Contemporary Casual   \n",
       "1161607         Trouser    Menswear         Menswear  Contemporary Casual   \n",
       "1161608         Trouser    Menswear         Menswear  Contemporary Casual   \n",
       "1161609         Trouser    Menswear         Menswear  Contemporary Casual   \n",
       "1161610         Trouser    Menswear         Menswear  Contemporary Casual   \n",
       "\n",
       "        garment_group_name  \n",
       "0             Jersey Fancy  \n",
       "1             Jersey Fancy  \n",
       "2             Jersey Fancy  \n",
       "3             Jersey Fancy  \n",
       "4             Jersey Fancy  \n",
       "...                    ...  \n",
       "1161606           Trousers  \n",
       "1161607           Trousers  \n",
       "1161608           Trousers  \n",
       "1161609           Trousers  \n",
       "1161610           Trousers  \n",
       "\n",
       "[1161611 rows x 14 columns]"
      ]
     },
     "execution_count": 4,
     "metadata": {},
     "output_type": "execute_result"
    }
   ],
   "source": [
    "X_val"
   ]
  },
  {
   "cell_type": "markdown",
   "metadata": {},
   "source": [
    "Let's train a model."
   ]
  },
  {
   "cell_type": "code",
   "execution_count": 5,
   "metadata": {},
   "outputs": [
    {
     "name": "stderr",
     "output_type": "stream",
     "text": [
      "DeprecationWarning: `should_run_async` will not call `transform_cell` automatically in the future. Please pass the result to `transformed_cell` argument and any exception that happen during thetransform in `preprocessing_exc_tuple` in IPython 7.17 and above.\n"
     ]
    },
    {
     "name": "stdout",
     "output_type": "stream",
     "text": [
      "0:\tlearn: 0.6871018\ttest: 0.6871234\tbest: 0.6871234 (0)\ttotal: 3.42s\tremaining: 5m 38s\n",
      "1:\tlearn: 0.6870993\ttest: 0.6871230\tbest: 0.6871230 (1)\ttotal: 6.39s\tremaining: 5m 12s\n",
      "2:\tlearn: 0.6820026\ttest: 0.6821280\tbest: 0.6821280 (2)\ttotal: 8.88s\tremaining: 4m 46s\n",
      "3:\tlearn: 0.6820024\ttest: 0.6821280\tbest: 0.6821280 (2)\ttotal: 10.2s\tremaining: 4m 4s\n",
      "4:\tlearn: 0.6798912\ttest: 0.6800121\tbest: 0.6800121 (4)\ttotal: 12.8s\tremaining: 4m 4s\n",
      "5:\tlearn: 0.6773005\ttest: 0.6774476\tbest: 0.6774476 (5)\ttotal: 15.2s\tremaining: 3m 58s\n",
      "6:\tlearn: 0.6760540\ttest: 0.6761763\tbest: 0.6761763 (6)\ttotal: 17.7s\tremaining: 3m 54s\n",
      "7:\tlearn: 0.6729960\ttest: 0.6732147\tbest: 0.6732147 (7)\ttotal: 19.8s\tremaining: 3m 47s\n",
      "8:\tlearn: 0.6717676\ttest: 0.6720242\tbest: 0.6720242 (8)\ttotal: 22.2s\tremaining: 3m 44s\n",
      "9:\tlearn: 0.6707740\ttest: 0.6710661\tbest: 0.6710661 (9)\ttotal: 24.4s\tremaining: 3m 39s\n",
      "10:\tlearn: 0.6707739\ttest: 0.6710661\tbest: 0.6710661 (9)\ttotal: 25.2s\tremaining: 3m 23s\n",
      "11:\tlearn: 0.6701090\ttest: 0.6704078\tbest: 0.6704078 (11)\ttotal: 27.6s\tremaining: 3m 22s\n",
      "12:\tlearn: 0.6701090\ttest: 0.6704078\tbest: 0.6704078 (11)\ttotal: 28.2s\tremaining: 3m 8s\n",
      "13:\tlearn: 0.6686189\ttest: 0.6689334\tbest: 0.6689334 (13)\ttotal: 30.4s\tremaining: 3m 6s\n",
      "14:\tlearn: 0.6686189\ttest: 0.6689334\tbest: 0.6689334 (13)\ttotal: 31.2s\tremaining: 2m 56s\n",
      "15:\tlearn: 0.6676633\ttest: 0.6679729\tbest: 0.6679729 (15)\ttotal: 33.3s\tremaining: 2m 55s\n",
      "16:\tlearn: 0.6669206\ttest: 0.6672684\tbest: 0.6672684 (16)\ttotal: 35.7s\tremaining: 2m 54s\n",
      "17:\tlearn: 0.6657851\ttest: 0.6661808\tbest: 0.6661808 (17)\ttotal: 37.9s\tremaining: 2m 52s\n",
      "18:\tlearn: 0.6646754\ttest: 0.6651135\tbest: 0.6651135 (18)\ttotal: 40.1s\tremaining: 2m 50s\n",
      "19:\tlearn: 0.6646754\ttest: 0.6651135\tbest: 0.6651135 (18)\ttotal: 40.9s\tremaining: 2m 43s\n",
      "20:\tlearn: 0.6638780\ttest: 0.6643760\tbest: 0.6643760 (20)\ttotal: 43.1s\tremaining: 2m 41s\n",
      "21:\tlearn: 0.6633673\ttest: 0.6638691\tbest: 0.6638691 (21)\ttotal: 45.3s\tremaining: 2m 40s\n",
      "22:\tlearn: 0.6630420\ttest: 0.6635554\tbest: 0.6635554 (22)\ttotal: 47.7s\tremaining: 2m 39s\n",
      "23:\tlearn: 0.6622605\ttest: 0.6628236\tbest: 0.6628236 (23)\ttotal: 49.9s\tremaining: 2m 37s\n",
      "24:\tlearn: 0.6616972\ttest: 0.6623159\tbest: 0.6623159 (24)\ttotal: 52s\tremaining: 2m 36s\n",
      "25:\tlearn: 0.6606149\ttest: 0.6613198\tbest: 0.6613198 (25)\ttotal: 54.1s\tremaining: 2m 34s\n",
      "26:\tlearn: 0.6602863\ttest: 0.6610087\tbest: 0.6610087 (26)\ttotal: 56.6s\tremaining: 2m 32s\n",
      "27:\tlearn: 0.6602862\ttest: 0.6610087\tbest: 0.6610087 (26)\ttotal: 57.6s\tremaining: 2m 28s\n",
      "28:\tlearn: 0.6598180\ttest: 0.6605760\tbest: 0.6605760 (28)\ttotal: 59.7s\tremaining: 2m 26s\n",
      "29:\tlearn: 0.6591870\ttest: 0.6599400\tbest: 0.6599400 (29)\ttotal: 1m 1s\tremaining: 2m 24s\n",
      "30:\tlearn: 0.6584597\ttest: 0.6592707\tbest: 0.6592707 (30)\ttotal: 1m 4s\tremaining: 2m 22s\n",
      "31:\tlearn: 0.6581819\ttest: 0.6590190\tbest: 0.6590190 (31)\ttotal: 1m 6s\tremaining: 2m 20s\n",
      "32:\tlearn: 0.6580047\ttest: 0.6588696\tbest: 0.6588696 (32)\ttotal: 1m 8s\tremaining: 2m 19s\n",
      "33:\tlearn: 0.6577212\ttest: 0.6585891\tbest: 0.6585891 (33)\ttotal: 1m 11s\tremaining: 2m 17s\n",
      "34:\tlearn: 0.6574178\ttest: 0.6582431\tbest: 0.6582431 (34)\ttotal: 1m 13s\tremaining: 2m 16s\n",
      "35:\tlearn: 0.6574178\ttest: 0.6582431\tbest: 0.6582431 (34)\ttotal: 1m 14s\tremaining: 2m 12s\n",
      "36:\tlearn: 0.6574178\ttest: 0.6582431\tbest: 0.6582431 (34)\ttotal: 1m 15s\tremaining: 2m 8s\n",
      "37:\tlearn: 0.6571304\ttest: 0.6580110\tbest: 0.6580110 (37)\ttotal: 1m 17s\tremaining: 2m 6s\n",
      "38:\tlearn: 0.6571304\ttest: 0.6580110\tbest: 0.6580110 (37)\ttotal: 1m 18s\tremaining: 2m 2s\n",
      "39:\tlearn: 0.6567950\ttest: 0.6577348\tbest: 0.6577348 (39)\ttotal: 1m 20s\tremaining: 2m\n",
      "40:\tlearn: 0.6567218\ttest: 0.6576775\tbest: 0.6576775 (40)\ttotal: 1m 22s\tremaining: 1m 58s\n",
      "41:\tlearn: 0.6565363\ttest: 0.6575334\tbest: 0.6575334 (41)\ttotal: 1m 24s\tremaining: 1m 56s\n",
      "42:\tlearn: 0.6563363\ttest: 0.6573652\tbest: 0.6573652 (42)\ttotal: 1m 26s\tremaining: 1m 54s\n",
      "43:\tlearn: 0.6563234\ttest: 0.6573625\tbest: 0.6573625 (43)\ttotal: 1m 28s\tremaining: 1m 53s\n",
      "44:\tlearn: 0.6563233\ttest: 0.6573625\tbest: 0.6573625 (43)\ttotal: 1m 30s\tremaining: 1m 50s\n",
      "45:\tlearn: 0.6561621\ttest: 0.6571820\tbest: 0.6571820 (45)\ttotal: 1m 32s\tremaining: 1m 48s\n",
      "46:\tlearn: 0.6558299\ttest: 0.6568723\tbest: 0.6568723 (46)\ttotal: 1m 34s\tremaining: 1m 46s\n",
      "47:\tlearn: 0.6557717\ttest: 0.6568265\tbest: 0.6568265 (47)\ttotal: 1m 37s\tremaining: 1m 45s\n",
      "48:\tlearn: 0.6553005\ttest: 0.6564385\tbest: 0.6564385 (48)\ttotal: 1m 39s\tremaining: 1m 43s\n",
      "49:\tlearn: 0.6551577\ttest: 0.6563133\tbest: 0.6563133 (49)\ttotal: 1m 41s\tremaining: 1m 41s\n",
      "50:\tlearn: 0.6549928\ttest: 0.6561657\tbest: 0.6561657 (50)\ttotal: 1m 44s\tremaining: 1m 39s\n",
      "51:\tlearn: 0.6548321\ttest: 0.6560150\tbest: 0.6560150 (51)\ttotal: 1m 46s\tremaining: 1m 38s\n",
      "52:\tlearn: 0.6542912\ttest: 0.6555405\tbest: 0.6555405 (52)\ttotal: 1m 48s\tremaining: 1m 36s\n",
      "53:\tlearn: 0.6540765\ttest: 0.6553431\tbest: 0.6553431 (53)\ttotal: 1m 50s\tremaining: 1m 34s\n",
      "54:\tlearn: 0.6540765\ttest: 0.6553432\tbest: 0.6553431 (53)\ttotal: 1m 51s\tremaining: 1m 31s\n",
      "55:\tlearn: 0.6539172\ttest: 0.6552158\tbest: 0.6552158 (55)\ttotal: 1m 53s\tremaining: 1m 29s\n",
      "56:\tlearn: 0.6538410\ttest: 0.6551506\tbest: 0.6551506 (56)\ttotal: 1m 55s\tremaining: 1m 27s\n",
      "57:\tlearn: 0.6535506\ttest: 0.6549129\tbest: 0.6549129 (57)\ttotal: 1m 58s\tremaining: 1m 25s\n",
      "58:\tlearn: 0.6534190\ttest: 0.6548073\tbest: 0.6548073 (58)\ttotal: 2m\tremaining: 1m 23s\n",
      "59:\tlearn: 0.6532636\ttest: 0.6546800\tbest: 0.6546800 (59)\ttotal: 2m 3s\tremaining: 1m 22s\n",
      "60:\tlearn: 0.6527690\ttest: 0.6542444\tbest: 0.6542444 (60)\ttotal: 2m 5s\tremaining: 1m 20s\n",
      "61:\tlearn: 0.6526712\ttest: 0.6541396\tbest: 0.6541396 (61)\ttotal: 2m 7s\tremaining: 1m 18s\n",
      "62:\tlearn: 0.6526712\ttest: 0.6541396\tbest: 0.6541396 (61)\ttotal: 2m 8s\tremaining: 1m 15s\n",
      "63:\tlearn: 0.6523261\ttest: 0.6538481\tbest: 0.6538481 (63)\ttotal: 2m 10s\tremaining: 1m 13s\n",
      "64:\tlearn: 0.6523261\ttest: 0.6538481\tbest: 0.6538481 (63)\ttotal: 2m 11s\tremaining: 1m 10s\n",
      "65:\tlearn: 0.6521727\ttest: 0.6537122\tbest: 0.6537122 (65)\ttotal: 2m 13s\tremaining: 1m 8s\n",
      "66:\tlearn: 0.6521726\ttest: 0.6537122\tbest: 0.6537122 (65)\ttotal: 2m 14s\tremaining: 1m 6s\n",
      "67:\tlearn: 0.6518004\ttest: 0.6534328\tbest: 0.6534328 (67)\ttotal: 2m 17s\tremaining: 1m 4s\n",
      "68:\tlearn: 0.6517760\ttest: 0.6534225\tbest: 0.6534225 (68)\ttotal: 2m 19s\tremaining: 1m 2s\n",
      "69:\tlearn: 0.6516594\ttest: 0.6533184\tbest: 0.6533184 (69)\ttotal: 2m 21s\tremaining: 1m\n",
      "70:\tlearn: 0.6514020\ttest: 0.6530805\tbest: 0.6530805 (70)\ttotal: 2m 23s\tremaining: 58.8s\n",
      "71:\tlearn: 0.6512549\ttest: 0.6529672\tbest: 0.6529672 (71)\ttotal: 2m 26s\tremaining: 56.8s\n",
      "72:\tlearn: 0.6511796\ttest: 0.6529133\tbest: 0.6529133 (72)\ttotal: 2m 28s\tremaining: 54.9s\n",
      "73:\tlearn: 0.6510484\ttest: 0.6527876\tbest: 0.6527876 (73)\ttotal: 2m 30s\tremaining: 52.9s\n",
      "74:\tlearn: 0.6510479\ttest: 0.6527876\tbest: 0.6527876 (73)\ttotal: 2m 32s\tremaining: 50.7s\n",
      "75:\tlearn: 0.6510403\ttest: 0.6527796\tbest: 0.6527796 (75)\ttotal: 2m 34s\tremaining: 48.8s\n",
      "76:\tlearn: 0.6507605\ttest: 0.6525278\tbest: 0.6525278 (76)\ttotal: 2m 36s\tremaining: 46.8s\n",
      "77:\tlearn: 0.6507133\ttest: 0.6524831\tbest: 0.6524831 (77)\ttotal: 2m 39s\tremaining: 44.9s\n",
      "78:\tlearn: 0.6505410\ttest: 0.6523465\tbest: 0.6523465 (78)\ttotal: 2m 41s\tremaining: 42.9s\n",
      "79:\tlearn: 0.6504474\ttest: 0.6522554\tbest: 0.6522554 (79)\ttotal: 2m 43s\tremaining: 40.9s\n",
      "80:\tlearn: 0.6502987\ttest: 0.6521353\tbest: 0.6521353 (80)\ttotal: 2m 45s\tremaining: 38.9s\n",
      "81:\tlearn: 0.6501926\ttest: 0.6520528\tbest: 0.6520528 (81)\ttotal: 2m 48s\tremaining: 37s\n",
      "82:\tlearn: 0.6501792\ttest: 0.6520456\tbest: 0.6520456 (82)\ttotal: 2m 50s\tremaining: 35s\n",
      "83:\tlearn: 0.6499126\ttest: 0.6518282\tbest: 0.6518282 (83)\ttotal: 2m 52s\tremaining: 32.9s\n",
      "84:\tlearn: 0.6498925\ttest: 0.6518176\tbest: 0.6518176 (84)\ttotal: 2m 55s\tremaining: 30.9s\n",
      "85:\tlearn: 0.6497376\ttest: 0.6516864\tbest: 0.6516864 (85)\ttotal: 2m 57s\tremaining: 28.9s\n",
      "86:\tlearn: 0.6497016\ttest: 0.6516471\tbest: 0.6516471 (86)\ttotal: 2m 59s\tremaining: 26.9s\n",
      "87:\tlearn: 0.6495451\ttest: 0.6515252\tbest: 0.6515252 (87)\ttotal: 3m 2s\tremaining: 24.9s\n",
      "88:\tlearn: 0.6494437\ttest: 0.6514364\tbest: 0.6514364 (88)\ttotal: 3m 4s\tremaining: 22.8s\n",
      "89:\tlearn: 0.6493238\ttest: 0.6513281\tbest: 0.6513281 (89)\ttotal: 3m 7s\tremaining: 20.8s\n",
      "90:\tlearn: 0.6491934\ttest: 0.6512126\tbest: 0.6512126 (90)\ttotal: 3m 9s\tremaining: 18.7s\n",
      "91:\tlearn: 0.6491583\ttest: 0.6511838\tbest: 0.6511838 (91)\ttotal: 3m 11s\tremaining: 16.7s\n",
      "92:\tlearn: 0.6490466\ttest: 0.6510837\tbest: 0.6510837 (92)\ttotal: 3m 14s\tremaining: 14.6s\n",
      "93:\tlearn: 0.6489018\ttest: 0.6509489\tbest: 0.6509489 (93)\ttotal: 3m 16s\tremaining: 12.6s\n",
      "94:\tlearn: 0.6487230\ttest: 0.6508044\tbest: 0.6508044 (94)\ttotal: 3m 18s\tremaining: 10.5s\n",
      "95:\tlearn: 0.6486258\ttest: 0.6507101\tbest: 0.6507101 (95)\ttotal: 3m 21s\tremaining: 8.39s\n",
      "96:\tlearn: 0.6484932\ttest: 0.6505968\tbest: 0.6505968 (96)\ttotal: 3m 23s\tremaining: 6.29s\n",
      "97:\tlearn: 0.6483334\ttest: 0.6504706\tbest: 0.6504706 (97)\ttotal: 3m 25s\tremaining: 4.2s\n",
      "98:\tlearn: 0.6481943\ttest: 0.6503619\tbest: 0.6503619 (98)\ttotal: 3m 27s\tremaining: 2.1s\n",
      "99:\tlearn: 0.6479896\ttest: 0.6501906\tbest: 0.6501906 (99)\ttotal: 3m 30s\tremaining: 0us\n",
      "\n",
      "bestTest = 0.6501905717\n",
      "bestIteration = 99\n",
      "\n"
     ]
    },
    {
     "data": {
      "text/plain": [
       "<catboost.core.CatBoostClassifier at 0x7fc9a501e640>"
      ]
     },
     "execution_count": 5,
     "metadata": {},
     "output_type": "execute_result"
    }
   ],
   "source": [
    "from catboost import CatBoostClassifier, Pool\n",
    "\n",
    "cat_features = list(\n",
    "    X_train.select_dtypes(include=['string', 'object']).columns\n",
    ")\n",
    "\n",
    "pool_train = Pool(X_train, y_train, cat_features=cat_features)\n",
    "pool_val = Pool(X_val, y_val, cat_features=cat_features)\n",
    "\n",
    "model = CatBoostClassifier(\n",
    "    learning_rate=0.2,\n",
    "    iterations=100,\n",
    "    depth=10,\n",
    "    scale_pos_weight=10,\n",
    "    early_stopping_rounds=5,\n",
    "    use_best_model=True\n",
    ")\n",
    "\n",
    "model.fit(pool_train, eval_set=pool_val)"
   ]
  },
  {
   "cell_type": "markdown",
   "metadata": {},
   "source": [
    "Next, we'll evaluate how well the model performs on the validation data."
   ]
  },
  {
   "cell_type": "code",
   "execution_count": 6,
   "metadata": {},
   "outputs": [
    {
     "name": "stderr",
     "output_type": "stream",
     "text": [
      "DeprecationWarning: Please use `spmatrix` from the `scipy.sparse` namespace, the `scipy.sparse.base` namespace is deprecated.\n"
     ]
    },
    {
     "name": "stdout",
     "output_type": "stream",
     "text": [
      "              precision    recall  f1-score   support\n",
      "\n",
      "           0       0.94      0.57      0.71   1056010\n",
      "           1       0.13      0.66      0.22    105601\n",
      "\n",
      "    accuracy                           0.58   1161611\n",
      "   macro avg       0.54      0.61      0.47   1161611\n",
      "weighted avg       0.87      0.58      0.67   1161611\n",
      "\n"
     ]
    }
   ],
   "source": [
    "from sklearn.metrics import classification_report, precision_recall_fscore_support\n",
    "\n",
    "preds = model.predict(pool_val)\n",
    "\n",
    "precision, recall, fscore, _ = precision_recall_fscore_support(y_val, preds, average=\"binary\")\n",
    "\n",
    "metrics = {\n",
    "    \"precision\" : precision,\n",
    "    \"recall\" : recall,\n",
    "    \"fscore\" : fscore\n",
    "}\n",
    "\n",
    "print(classification_report(y_val, preds))"
   ]
  },
  {
   "cell_type": "markdown",
   "metadata": {},
   "source": [
    "It can be seen that the model has a low F1-score on the positive class (higher is better). The performance could potentially be improved by adding more features to the dataset, e.g. image embeddings.\n",
    "\n",
    "## Feature Importance"
   ]
  },
  {
   "cell_type": "code",
   "execution_count": 7,
   "metadata": {},
   "outputs": [
    {
     "name": "stderr",
     "output_type": "stream",
     "text": [
      "DeprecationWarning: `should_run_async` will not call `transform_cell` automatically in the future. Please pass the result to `transformed_cell` argument and any exception that happen during thetransform in `preprocessing_exc_tuple` in IPython 7.17 and above.\n"
     ]
    },
    {
     "data": {
      "text/plain": [
       "{'product_type_name': 16.91749433963557,\n",
       " 'month_sin': 15.430998232859832,\n",
       " 'month_cos': 13.483437554124208,\n",
       " 'product_group_name': 10.211329951925647,\n",
       " 'age': 7.430632160433846,\n",
       " 'department_name': 6.651642113420837,\n",
       " 'index_name': 5.975907912052409,\n",
       " 'perceived_colour_value_name': 5.005265027047932,\n",
       " 'garment_group_name': 4.7903496666713306,\n",
       " 'section_name': 4.488864459281177,\n",
       " 'perceived_colour_master_name': 3.4300572290272866,\n",
       " 'graphical_appearance_name': 3.1702418433090775,\n",
       " 'index_group_name': 2.0446945188150845,\n",
       " 'colour_group_name': 0.9690849913957855}"
      ]
     },
     "execution_count": 7,
     "metadata": {},
     "output_type": "execute_result"
    }
   ],
   "source": [
    "feat_to_score = {feature: score for feature, score in zip(\n",
    "    X_train.columns, model.feature_importances_)}\n",
    "\n",
    "feat_to_score = dict(\n",
    "    sorted(\n",
    "        feat_to_score.items(),\n",
    "        key=lambda item: item[1],\n",
    "        reverse=True\n",
    "    )\n",
    ")\n",
    "\n",
    "feat_to_score\n"
   ]
  },
  {
   "cell_type": "markdown",
   "metadata": {},
   "source": [
    "It can be seen that the model places high importance on user and item embedding features. Consequently, better trained embeddings could yield a better ranking model.\n",
    "\n",
    "Finally, we'll save our model."
   ]
  },
  {
   "cell_type": "code",
   "execution_count": 8,
   "metadata": {},
   "outputs": [
    {
     "data": {
      "text/plain": [
       "['ranking_model.pkl']"
      ]
     },
     "execution_count": 8,
     "metadata": {},
     "output_type": "execute_result"
    }
   ],
   "source": [
    "import joblib\n",
    "\n",
    "joblib.dump(model, 'ranking_model.pkl')"
   ]
  },
  {
   "cell_type": "markdown",
   "metadata": {},
   "source": [
    "### Upload Model to Model Registry\n",
    "\n",
    "We'll upload the model to the Hopsworks Model Registry."
   ]
  },
  {
   "cell_type": "code",
   "execution_count": 9,
   "metadata": {},
   "outputs": [
    {
     "name": "stdout",
     "output_type": "stream",
     "text": [
      "Connected. Call `.close()` to terminate connection gracefully.\n"
     ]
    }
   ],
   "source": [
    "import hsml\n",
    "\n",
    "# connect to Hopsworks Model Registry\n",
    "conn = hsml.connection()\n",
    "mr = conn.get_model_registry()"
   ]
  },
  {
   "cell_type": "code",
   "execution_count": 10,
   "metadata": {},
   "outputs": [
    {
     "data": {
      "application/vnd.jupyter.widget-view+json": {
       "model_id": "978c757c25f847b8a5cdd2d787ff606a",
       "version_major": 2,
       "version_minor": 0
      },
      "text/plain": [
       "  0%|          | 0/6 [00:00<?, ?it/s]"
      ]
     },
     "metadata": {},
     "output_type": "display_data"
    },
    {
     "name": "stdout",
     "output_type": "stream",
     "text": [
      "Exported model ranking_model with version 1\n"
     ]
    },
    {
     "data": {
      "text/plain": [
       "Model(name: 'ranking_model', version: 1)"
      ]
     },
     "execution_count": 10,
     "metadata": {},
     "output_type": "execute_result"
    }
   ],
   "source": [
    "from hsml.schema import Schema\n",
    "from hsml.model_schema import ModelSchema\n",
    "\n",
    "input_example = X_train.sample().to_dict(\"records\")\n",
    "input_schema = Schema(X_train)\n",
    "output_schema = Schema(y_train)\n",
    "model_schema = ModelSchema(input_schema, output_schema)\n",
    "\n",
    "ranking_model = mr.python.create_model(\n",
    "    name=\"ranking_model\", metrics=metrics,\n",
    "    model_schema=model_schema,\n",
    "    input_example=input_example, description=\"Ranking model\")\n",
    "\n",
    "ranking_model.save(\"ranking_model.pkl\")"
   ]
  },
  {
   "cell_type": "markdown",
   "metadata": {},
   "source": [
    "### Next Steps\n",
    "\n",
    "Now we have trained both a retrieval and a ranking model, which will allow us to generate recommendations for users. In the next notebook, we'll take a look at how we can deploy these models with the `HSML` library."
   ]
  }
 ],
 "metadata": {
  "interpreter": {
   "hash": "31f2aee4e71d21fbe5cf8b01ff0e069b9275f58929596ceb00d14d90e3e16cd6"
  },
  "kernelspec": {
   "display_name": "Python 3 (ipykernel)",
   "language": "python",
   "name": "python3"
  },
  "language_info": {
   "codemirror_mode": {
    "name": "ipython",
    "version": 3
   },
   "file_extension": ".py",
   "mimetype": "text/x-python",
   "name": "python",
   "nbconvert_exporter": "python",
   "pygments_lexer": "ipython3",
   "version": "3.9.7"
  }
 },
 "nbformat": 4,
 "nbformat_minor": 4
}
