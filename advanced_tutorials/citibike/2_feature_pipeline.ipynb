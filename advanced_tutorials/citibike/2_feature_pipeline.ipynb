{
 "cells": [
  {
   "cell_type": "markdown",
   "id": "a377edc4",
   "metadata": {},
   "source": [
    "# <span style=\"font-width:bold; font-size: 3rem; color:#1EB182;\">**Hopsworks Feature Store** </span><span style=\"font-width:bold; font-size: 3rem; color:#333;\">- Part 02: Feature Pipeline</span>\n",
    "\n",
    "[![Open In Colab](https://colab.research.google.com/assets/colab-badge.svg)](https://colab.research.google.com/github/logicalclocks/hopsworks-tutorials/blob/master/advanced_tutorials/electricity/2_feature_pipeline.ipynb)\n",
    "\n",
    "## 🗒️ This notebook is divided into 2 sections:\n",
    "1. **Parse Data**.\n",
    "2. **Insert new data into the Feature Store**."
   ]
  },
  {
   "cell_type": "markdown",
   "id": "7262ed9c",
   "metadata": {},
   "source": [
    "### <span style='color:#ff5f27'> 📝 Imports"
   ]
  },
  {
   "cell_type": "code",
   "execution_count": null,
   "id": "66adad50",
   "metadata": {},
   "outputs": [],
   "source": [
    "!pip install -U hopsworks --quiet"
   ]
  },
  {
   "cell_type": "code",
   "execution_count": null,
   "id": "1554edb3",
   "metadata": {},
   "outputs": [],
   "source": [
    "from datetime import timedelta, datetime\n",
    "import pandas as pd\n",
    "\n",
    "from functions import *\n",
    "\n",
    "import warnings\n",
    "\n",
    "# Mute warnings\n",
    "warnings.filterwarnings(\"ignore\")"
   ]
  },
  {
   "cell_type": "markdown",
   "id": "02ab8b74",
   "metadata": {},
   "source": [
    "---"
   ]
  },
  {
   "cell_type": "markdown",
   "id": "76c0f9df",
   "metadata": {},
   "source": [
    "## <span style=\"color:#ff5f27;\"> 📡 Connecting to Hopsworks Feature Store </span>"
   ]
  },
  {
   "cell_type": "code",
   "execution_count": null,
   "id": "f805e67c",
   "metadata": {},
   "outputs": [],
   "source": [
    "import hopsworks\n",
    "project = hopsworks.login()\n",
    "fs = project.get_feature_store()"
   ]
  },
  {
   "cell_type": "code",
   "execution_count": null,
   "id": "5ebbd718",
   "metadata": {},
   "outputs": [],
   "source": [
    "citibike_usage_fg = fs.get_or_create_feature_group(\n",
    "    name=\"citibike_usage\",\n",
    "    version=1\n",
    ")"
   ]
  },
  {
   "cell_type": "code",
   "execution_count": null,
   "id": "65ac37d7",
   "metadata": {},
   "outputs": [],
   "source": [
    "meteorological_measurements_fg = fs.get_or_create_feature_group(\n",
    "    name=\"meteorological_measurements\",\n",
    "    version=1\n",
    ")"
   ]
  },
  {
   "cell_type": "markdown",
   "id": "316803e4",
   "metadata": {},
   "source": [
    "### <span style=\"color:#ff5f27;\">📅 Getting tha last date</span>\n"
   ]
  },
  {
   "cell_type": "code",
   "execution_count": null,
   "id": "ae516fbb",
   "metadata": {
    "scrolled": true
   },
   "outputs": [],
   "source": [
    "last_date = get_last_date_in_fg(citibike_usage_fg)"
   ]
  },
  {
   "cell_type": "code",
   "execution_count": null,
   "id": "7145ae00",
   "metadata": {},
   "outputs": [],
   "source": [
    "last_date"
   ]
  },
  {
   "cell_type": "code",
   "execution_count": null,
   "id": "23d569c3",
   "metadata": {},
   "outputs": [],
   "source": [
    "next_date = get_next_date(last_date)"
   ]
  },
  {
   "cell_type": "code",
   "execution_count": null,
   "id": "4fbc8825",
   "metadata": {},
   "outputs": [],
   "source": [
    "next_date = next_date.split(\"-\")\n",
    "next_date"
   ]
  },
  {
   "cell_type": "code",
   "execution_count": null,
   "id": "069fd35e",
   "metadata": {},
   "outputs": [],
   "source": [
    "target_year, target_month = int(next_date[0]), int(next_date[1])"
   ]
  },
  {
   "cell_type": "code",
   "execution_count": null,
   "id": "a3dced98",
   "metadata": {
    "scrolled": true
   },
   "outputs": [],
   "source": [
    "print(f\"So, now let's download citibike data for {target_month}/{target_year}\")"
   ]
  },
  {
   "cell_type": "markdown",
   "id": "5709ac3c",
   "metadata": {},
   "source": [
    "---"
   ]
  },
  {
   "cell_type": "markdown",
   "id": "d293ebca",
   "metadata": {},
   "source": [
    "## <span style=\"color:#ff5f27;\"> 🪄 Parsing new data</span>"
   ]
  },
  {
   "cell_type": "markdown",
   "id": "2368a524",
   "metadata": {},
   "source": [
    "### <span style=\"color:#ff5f27;\"> 🚲 Citibike usage info</span>"
   ]
  },
  {
   "cell_type": "code",
   "execution_count": null,
   "id": "7840355a",
   "metadata": {},
   "outputs": [],
   "source": [
    "# get new month data\n",
    "df_raw_batch = get_citibike_data(f\"{target_month}/{target_year}\", f\"{target_month}/{target_year}\")"
   ]
  },
  {
   "cell_type": "code",
   "execution_count": null,
   "id": "a69668db",
   "metadata": {},
   "outputs": [],
   "source": [
    "df_raw_batch"
   ]
  },
  {
   "cell_type": "code",
   "execution_count": null,
   "id": "f2586433",
   "metadata": {},
   "outputs": [],
   "source": [
    "df_enhanced_batch = engineer_citibike_features(df_raw_batch)"
   ]
  },
  {
   "cell_type": "code",
   "execution_count": null,
   "id": "ad50ac5f",
   "metadata": {},
   "outputs": [],
   "source": [
    "df_enhanced_batch = df_enhanced_batch.dropna()"
   ]
  },
  {
   "cell_type": "code",
   "execution_count": null,
   "id": "d9da47dd",
   "metadata": {},
   "outputs": [],
   "source": [
    "df_enhanced_batch.station_id = df_enhanced_batch.station_id.astype(str)"
   ]
  },
  {
   "cell_type": "code",
   "execution_count": null,
   "id": "c1f044ba",
   "metadata": {},
   "outputs": [],
   "source": [
    "df_enhanced_batch.tail(3)"
   ]
  },
  {
   "cell_type": "markdown",
   "id": "fdbf9dd3",
   "metadata": {},
   "source": [
    "### <span style=\"color:#ff5f27;\"> 🌤 Meteorological measurements from VisualCrossing</span>"
   ]
  },
  {
   "cell_type": "markdown",
   "id": "9548a9ea",
   "metadata": {},
   "source": [
    "### You will parse weather data so you should get an API key from [VisualCrossing](https://www.visualcrossing.com/). You can use [this link](https://www.visualcrossing.com/weather-api).\n",
    "\n",
    "### Don't forget to create an `.env` configuration file where all the necessary environment variables (API keys) will be stored:\n",
    "![](images/api_keys_env_file.png)"
   ]
  },
  {
   "cell_type": "code",
   "execution_count": null,
   "id": "76ec6d03",
   "metadata": {},
   "outputs": [],
   "source": [
    "df_enhanced_batch.date = df_enhanced_batch.date.astype(str)\n",
    "\n",
    "start_date, end_date = df_enhanced_batch.date.min(), df_enhanced_batch.date.max()"
   ]
  },
  {
   "cell_type": "code",
   "execution_count": null,
   "id": "39f2bda8",
   "metadata": {},
   "outputs": [],
   "source": [
    "df_weather_batch = get_weather_data(city=\"nyc\", start_date=start_date, end_date=end_date)"
   ]
  },
  {
   "cell_type": "code",
   "execution_count": null,
   "id": "094e3ccd",
   "metadata": {},
   "outputs": [],
   "source": [
    "df_weather_batch.tail(5)"
   ]
  },
  {
   "cell_type": "code",
   "execution_count": null,
   "id": "446034bf",
   "metadata": {},
   "outputs": [],
   "source": [
    "# lets fix datatypes\n",
    "for column in [\"snowdepth\", \"snow\"]:\n",
    "    df_weather_batch[column] = df_weather_batch[column].astype(\"double\")"
   ]
  },
  {
   "cell_type": "code",
   "execution_count": null,
   "id": "31bfa509",
   "metadata": {},
   "outputs": [],
   "source": [
    "# unix columns creation\n",
    "\n",
    "df_enhanced_batch[\"timestamp\"] = df_enhanced_batch[\"date\"].apply(convert_date_to_unix)\n",
    "df_weather_batch[\"timestamp\"] = df_weather_batch[\"date\"].apply(convert_date_to_unix)"
   ]
  },
  {
   "cell_type": "markdown",
   "id": "9ab0379a",
   "metadata": {},
   "source": [
    "---"
   ]
  },
  {
   "cell_type": "markdown",
   "id": "023d1326",
   "metadata": {},
   "source": [
    "## <span style=\"color:#ff5f27;\">⬆️ Uploading new data to the Feature Store</span>"
   ]
  },
  {
   "cell_type": "code",
   "execution_count": null,
   "id": "931d73d1",
   "metadata": {},
   "outputs": [],
   "source": [
    "citibike_usage_fg.insert(df_enhanced_batch, write_options={\"wait_for_job\": False})"
   ]
  },
  {
   "cell_type": "code",
   "execution_count": null,
   "id": "45cfb783",
   "metadata": {},
   "outputs": [],
   "source": [
    "meteorological_measurements_fg.insert(df_weather_batch, write_options={\"wait_for_job\": False})"
   ]
  },
  {
   "cell_type": "markdown",
   "id": "2a145fd2",
   "metadata": {},
   "source": [
    "---"
   ]
  },
  {
   "cell_type": "markdown",
   "id": "c9e2101c",
   "metadata": {},
   "source": [
    "## <span style=\"color:#ff5f27;\">⏭️ **Next:** Part 03 </span>\n",
    "\n",
    "In the next notebook, you will create a feature view and training dataset."
   ]
  }
 ],
 "metadata": {
  "kernelspec": {
   "display_name": "Python 3 (ipykernel)",
   "language": "python",
   "name": "python3"
  },
  "language_info": {
   "codemirror_mode": {
    "name": "ipython",
    "version": 3
   },
   "file_extension": ".py",
   "mimetype": "text/x-python",
   "name": "python",
   "nbconvert_exporter": "python",
   "pygments_lexer": "ipython3",
   "version": "3.8.15"
  }
 },
 "nbformat": 4,
 "nbformat_minor": 5
}
