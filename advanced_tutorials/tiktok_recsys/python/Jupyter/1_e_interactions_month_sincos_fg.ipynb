{
 "cells": [
  {
   "cell_type": "markdown",
   "id": "74d2c263",
   "metadata": {},
   "source": [
    "## <span style='color:#ff5f27'> 📝 Imports"
   ]
  },
  {
   "cell_type": "code",
   "execution_count": null,
   "id": "4d06a1e5",
   "metadata": {},
   "outputs": [],
   "source": [
    "import pandas as pd\n",
    "import numpy as np\n",
    "from datetime import datetime, timezone\n",
    "\n",
    "from features.interactions import month_sine, month_cosine"
   ]
  },
  {
   "cell_type": "markdown",
   "id": "06368b8b",
   "metadata": {},
   "source": [
    "## <span style=\"color:#ff5f27\">🔮 Connect to Hopsworks Feature Store </span>"
   ]
  },
  {
   "cell_type": "code",
   "execution_count": null,
   "id": "602d3d75",
   "metadata": {},
   "outputs": [],
   "source": [
    "import hopsworks\n",
    "\n",
    "project = hopsworks.login()\n",
    "\n",
    "fs = project.get_feature_store()"
   ]
  },
  {
   "cell_type": "markdown",
   "id": "8840b016-2f1f-4db8-a831-b76ae42cf561",
   "metadata": {},
   "source": [
    "## <span style='color:#ff5f27'> 🔗 Fetch interactions feature group </span>"
   ]
  },
  {
   "cell_type": "code",
   "execution_count": null,
   "id": "5fae1dde-ebe8-44ef-839b-6fe691ed405b",
   "metadata": {},
   "outputs": [],
   "source": [
    "interactions_fg = fs.get_feature_group(\n",
    "    name=\"interactions\",\n",
    "    version=1)\n",
    "    \n",
    "data_interactions_df = interactions_fg.read()\n",
    "data_interactions_df"
   ]
  },
  {
   "cell_type": "code",
   "execution_count": null,
   "id": "be778ba1-edd9-4d3e-912c-fbf6d30c2b84",
   "metadata": {},
   "outputs": [],
   "source": [
    "data_interactions_df = data_interactions_df[[\"id\", \"interaction_date\", \"interaction_month\"]]\n",
    "# Calculate the sine and cosine components for the month_of_purchase\n",
    "data_interactions_df[\"month_sin\"] = data_interactions_df.interaction_date.map(lambda x: month_sine(x))\n",
    "data_interactions_df[\"month_cos\"] = data_interactions_df.interaction_date.map(lambda x: month_cosine(x)) \n",
    "data_interactions_df         "
   ]
  },
  {
   "cell_type": "markdown",
   "id": "5a19a172",
   "metadata": {},
   "source": [
    "## <span style=\"color:#ff5f27\">🪄 Feature Group Creation </span>"
   ]
  },
  {
   "cell_type": "code",
   "execution_count": null,
   "id": "239ed3c2-a9f1-4cef-a36f-fe48daa8ddd1",
   "metadata": {},
   "outputs": [],
   "source": [
    "interactions_month_sincos_fg = fs.get_or_create_feature_group(\n",
    "    name=\"interactions_month_sincos\",\n",
    "    version=1,\n",
    "    description=\"Ondeamand Features for Interactions data such month sine and cosine.\",    \n",
    "    primary_key=[\"id\"],\n",
    "    partition_key = [\"interaction_month\"],\n",
    "    online_enabled=True,\n",
    "    event_time=\"interaction_date\",\n",
    "    parents=[interactions_fg],\n",
    "    statistics_config = {\n",
    "        \"enabled\": True,\n",
    "        \"histograms\": True,\n",
    "        \"correlations\": True,\n",
    "    }    \n",
    ")\n",
    "\n",
    "interactions_month_sincos_fg.insert(data_interactions_df)\n",
    "print('Done ✅')"
   ]
  },
  {
   "cell_type": "code",
   "execution_count": null,
   "id": "198209c2-9c8c-45d7-b568-dc44174ad684",
   "metadata": {},
   "outputs": [],
   "source": [
    "feature_descriptions = [\n",
    "    {\"name\": \"id\", \"description\": \"Unique id for the interaction\"},\n",
    "    {\"name\": \"month_sin\", \"description\": \"Sine of the month of interaction date.\"},\n",
    "    {\"name\": \"month_cos\", \"description\": \"Cosine of the month of interaction date.\"},    \n",
    "    {\"name\": \"interaction_date\", \"description\": \"Date of inteaction.\"},\n",
    "    {\"name\": \"interaction_month\", \"description\": \"Month of interaction, derived from interaction_date.\"}\n",
    "]\n",
    "\n",
    "for desc in feature_descriptions:\n",
    "    interactions_month_sincos_fg.update_feature_description(desc[\"name\"], desc[\"description\"])"
   ]
  },
  {
   "cell_type": "markdown",
   "id": "6bcc04ea",
   "metadata": {},
   "source": [
    "---"
   ]
  }
 ],
 "metadata": {
  "kernelspec": {
   "display_name": "Python 3 (ipykernel)",
   "language": "python",
   "name": "python3"
  },
  "language_info": {
   "codemirror_mode": {
    "name": "ipython",
    "version": 3
   },
   "file_extension": ".py",
   "mimetype": "text/x-python",
   "name": "python",
   "nbconvert_exporter": "python",
   "pygments_lexer": "ipython3",
   "version": "3.10.13"
  }
 },
 "nbformat": 4,
 "nbformat_minor": 5
}
