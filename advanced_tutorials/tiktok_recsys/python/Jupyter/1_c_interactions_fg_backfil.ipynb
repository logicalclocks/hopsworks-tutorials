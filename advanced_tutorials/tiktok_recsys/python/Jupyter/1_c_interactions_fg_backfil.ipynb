{
 "cells": [
  {
   "cell_type": "markdown",
   "id": "74d2c263",
   "metadata": {},
   "source": [
    "## <span style='color:#ff5f27'> 📝 Imports"
   ]
  },
  {
   "cell_type": "code",
   "execution_count": null,
   "id": "4d06a1e5",
   "metadata": {},
   "outputs": [],
   "source": [
    "import pandas as pd\n",
    "import numpy as np\n",
    "from datetime import datetime, timezone"
   ]
  },
  {
   "cell_type": "markdown",
   "id": "a2b34c80",
   "metadata": {},
   "source": [
    "## <span style='color:#ff5f27'> 🔗 Fetch historical interactions dataset</span>"
   ]
  },
  {
   "cell_type": "code",
   "execution_count": null,
   "id": "69b8bd5e-2ede-40f0-af3d-2829c0e46790",
   "metadata": {},
   "outputs": [],
   "source": [
    "# Fetch historical interactions dataset and backfill interactions feature group\n",
    "data_interactions_df = pd.read_parquet('https://repo.hops.works/dev/davit/tiktok_recsys/interactions.parquet')"
   ]
  },
  {
   "cell_type": "markdown",
   "id": "06368b8b",
   "metadata": {},
   "source": [
    "## <span style=\"color:#ff5f27\">🔮 Connect to Hopsworks Feature Store </span>"
   ]
  },
  {
   "cell_type": "code",
   "execution_count": null,
   "id": "602d3d75",
   "metadata": {},
   "outputs": [],
   "source": [
    "import hopsworks\n",
    "\n",
    "project = hopsworks.login()\n",
    "\n",
    "fs = project.get_feature_store()"
   ]
  },
  {
   "cell_type": "markdown",
   "id": "5a19a172",
   "metadata": {},
   "source": [
    "## <span style=\"color:#ff5f27\">🪄 Feature Group Creation </span>"
   ]
  },
  {
   "cell_type": "code",
   "execution_count": null,
   "id": "239ed3c2-a9f1-4cef-a36f-fe48daa8ddd1",
   "metadata": {},
   "outputs": [],
   "source": [
    "interactions_fg = fs.get_or_create_feature_group(\n",
    "    name=\"interactions\",\n",
    "    version=1,\n",
    "    description=\"Interactions data.\",    \n",
    "    primary_key=[\"interaction_id\", \"user_id\", \"video_id\"],\n",
    "    partition_key = [\"interaction_month\"],\n",
    "    online_enabled=True,\n",
    "    event_time=\"interaction_date\",\n",
    "    statistics_config =  {\n",
    "                    \"enabled\": True,\n",
    "                    \"histograms\": True,\n",
    "                    \"correlations\": True,\n",
    "                }\n",
    ")\n",
    "\n",
    "interactions_fg.insert(data_interactions_df)\n",
    "print('Done ✅')"
   ]
  },
  {
   "cell_type": "code",
   "execution_count": null,
   "id": "198209c2-9c8c-45d7-b568-dc44174ad684",
   "metadata": {},
   "outputs": [],
   "source": [
    "feature_descriptions = [\n",
    "    {\"name\": \"id\", \"description\": \"Unique id for the interaction\"},\n",
    "    {\"name\": \"user_id\", \"description\": \"Unique identifier for each user.\"},\n",
    "    {\"name\": \"video_id\", \"description\": \"Identifier for the video.\"},\n",
    "    {\"name\": \"category_id\", \"description\": \"Id of the video category.\"},\n",
    "    {\"name\": \"interaction_type\", \"description\": \"Type of interaction\"},\n",
    "    {\"name\": \"watch_time\", \"description\": \"Time in seconds how long user watched the video.\"},\n",
    "    {\"name\": \"interaction_date\", \"description\": \"Date of inteaction.\"},\n",
    "    {\"name\": \"interaction_month\", \"description\": \"Month of interaction, derived from interaction_date.\"}\n",
    "]\n",
    "\n",
    "for desc in feature_descriptions:\n",
    "    interactions_fg.update_feature_description(desc[\"name\"], desc[\"description\"])"
   ]
  },
  {
   "cell_type": "code",
   "execution_count": null,
   "id": "fefa5a02-aad7-4649-b71e-104b2ea53b4d",
   "metadata": {},
   "outputs": [],
   "source": [
    "interactions_fg.materialization_job.schedule(cron_expression=\"0 */15 * ? * *\",\n",
    "                                             start_time=datetime.now(tz=timezone.utc))\n"
   ]
  },
  {
   "cell_type": "markdown",
   "id": "6bcc04ea",
   "metadata": {},
   "source": [
    "---"
   ]
  }
 ],
 "metadata": {
  "kernelspec": {
   "display_name": "Python 3 (ipykernel)",
   "language": "python",
   "name": "python3"
  },
  "language_info": {
   "codemirror_mode": {
    "name": "ipython",
    "version": 3
   },
   "file_extension": ".py",
   "mimetype": "text/x-python",
   "name": "python",
   "nbconvert_exporter": "python",
   "pygments_lexer": "ipython3",
   "version": "3.10.13"
  }
 },
 "nbformat": 4,
 "nbformat_minor": 5
}
