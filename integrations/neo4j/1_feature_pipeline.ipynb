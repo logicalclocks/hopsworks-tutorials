{
 "cells": [
  {
   "cell_type": "markdown",
   "id": "17ddd437",
   "metadata": {},
   "source": [
    "### 📝 Import librararies "
   ]
  },
  {
   "cell_type": "code",
   "execution_count": 1,
   "id": "5d5413d4",
   "metadata": {},
   "outputs": [],
   "source": [
    "import hashlib\n",
    "import datetime\n",
    "import pandas as pd\n",
    "import numpy as np\n",
    "from neo4j import GraphDatabase\n",
    "from tqdm import tqdm"
   ]
  },
  {
   "cell_type": "markdown",
   "id": "eb424a0b",
   "metadata": {},
   "source": [
    "## <span style=\"color:#ff5f27;\"> 💽 Loading the Data </span>\n",
    "\n",
    "The data we will use comes from three different CSV files:\n",
    "\n",
    "- `transactions.csv`: transaction information such as timestamp, location, and the amount. \n",
    "- `alert_transactions.csv`: Suspicious Activity Report (SAR) transactions.\n",
    "- `party.csv`: User profile information.\n",
    "\n",
    "In a production system, these CSV files would originate from separate data sources or tables, and probably separate data pipelines. **All three files have a customer id column `id` in common, which we can use for joins.**\n",
    "\n",
    "Let's go ahead and load the data."
   ]
  },
  {
   "cell_type": "markdown",
   "id": "bb58521b",
   "metadata": {},
   "source": [
    "#### ⛳️ Transactions dataset"
   ]
  },
  {
   "cell_type": "code",
   "execution_count": 2,
   "id": "f52a1ccf",
   "metadata": {},
   "outputs": [
    {
     "data": {
      "text/html": [
       "<div>\n",
       "<style scoped>\n",
       "    .dataframe tbody tr th:only-of-type {\n",
       "        vertical-align: middle;\n",
       "    }\n",
       "\n",
       "    .dataframe tbody tr th {\n",
       "        vertical-align: top;\n",
       "    }\n",
       "\n",
       "    .dataframe thead th {\n",
       "        text-align: right;\n",
       "    }\n",
       "</style>\n",
       "<table border=\"1\" class=\"dataframe\">\n",
       "  <thead>\n",
       "    <tr style=\"text-align: right;\">\n",
       "      <th></th>\n",
       "      <th>tran_id</th>\n",
       "      <th>tx_type</th>\n",
       "      <th>base_amt</th>\n",
       "      <th>tran_timestamp</th>\n",
       "      <th>src</th>\n",
       "      <th>dst</th>\n",
       "    </tr>\n",
       "  </thead>\n",
       "  <tbody>\n",
       "    <tr>\n",
       "      <th>0</th>\n",
       "      <td>496</td>\n",
       "      <td>TRANSFER-FanOut</td>\n",
       "      <td>858.77</td>\n",
       "      <td>2020-01-01 00:00:00+00:00</td>\n",
       "      <td>3aa9646b</td>\n",
       "      <td>1e46e726</td>\n",
       "    </tr>\n",
       "    <tr>\n",
       "      <th>1</th>\n",
       "      <td>1342</td>\n",
       "      <td>TRANSFER-Mutual</td>\n",
       "      <td>386.86</td>\n",
       "      <td>2020-01-01 00:00:00+00:00</td>\n",
       "      <td>49203bc3</td>\n",
       "      <td>a74d1101</td>\n",
       "    </tr>\n",
       "    <tr>\n",
       "      <th>2</th>\n",
       "      <td>1580</td>\n",
       "      <td>TRANSFER-FanOut</td>\n",
       "      <td>616.43</td>\n",
       "      <td>2020-01-02 00:00:00+00:00</td>\n",
       "      <td>616d4505</td>\n",
       "      <td>99af2455</td>\n",
       "    </tr>\n",
       "    <tr>\n",
       "      <th>3</th>\n",
       "      <td>2866</td>\n",
       "      <td>TRANSFER-FanOut</td>\n",
       "      <td>146.44</td>\n",
       "      <td>2020-01-02 00:00:00+00:00</td>\n",
       "      <td>39be1ea2</td>\n",
       "      <td>e7ec7bdb</td>\n",
       "    </tr>\n",
       "    <tr>\n",
       "      <th>4</th>\n",
       "      <td>3997</td>\n",
       "      <td>TRANSFER-Mutual</td>\n",
       "      <td>439.09</td>\n",
       "      <td>2020-01-03 00:00:00+00:00</td>\n",
       "      <td>e2e0d938</td>\n",
       "      <td>afc399a9</td>\n",
       "    </tr>\n",
       "  </tbody>\n",
       "</table>\n",
       "</div>"
      ],
      "text/plain": [
       "   tran_id          tx_type  base_amt            tran_timestamp       src  \\\n",
       "0      496  TRANSFER-FanOut    858.77 2020-01-01 00:00:00+00:00  3aa9646b   \n",
       "1     1342  TRANSFER-Mutual    386.86 2020-01-01 00:00:00+00:00  49203bc3   \n",
       "2     1580  TRANSFER-FanOut    616.43 2020-01-02 00:00:00+00:00  616d4505   \n",
       "3     2866  TRANSFER-FanOut    146.44 2020-01-02 00:00:00+00:00  39be1ea2   \n",
       "4     3997  TRANSFER-Mutual    439.09 2020-01-03 00:00:00+00:00  e2e0d938   \n",
       "\n",
       "        dst  \n",
       "0  1e46e726  \n",
       "1  a74d1101  \n",
       "2  99af2455  \n",
       "3  e7ec7bdb  \n",
       "4  afc399a9  "
      ]
     },
     "execution_count": 2,
     "metadata": {},
     "output_type": "execute_result"
    }
   ],
   "source": [
    "transactions_df = pd.read_csv(\"https://repo.hops.works/master/hopsworks-tutorials/data/aml/transactions.csv\", parse_dates = ['tran_timestamp'])\n",
    "transactions_df.head(5)"
   ]
  },
  {
   "cell_type": "markdown",
   "id": "9fe5e6e9",
   "metadata": {},
   "source": [
    "#### ⛳️ Alert Transactions dataset"
   ]
  },
  {
   "cell_type": "code",
   "execution_count": 3,
   "id": "3705d3a4",
   "metadata": {},
   "outputs": [
    {
     "data": {
      "text/html": [
       "<div>\n",
       "<style scoped>\n",
       "    .dataframe tbody tr th:only-of-type {\n",
       "        vertical-align: middle;\n",
       "    }\n",
       "\n",
       "    .dataframe tbody tr th {\n",
       "        vertical-align: top;\n",
       "    }\n",
       "\n",
       "    .dataframe thead th {\n",
       "        text-align: right;\n",
       "    }\n",
       "</style>\n",
       "<table border=\"1\" class=\"dataframe\">\n",
       "  <thead>\n",
       "    <tr style=\"text-align: right;\">\n",
       "      <th></th>\n",
       "      <th>alert_id</th>\n",
       "      <th>alert_type</th>\n",
       "      <th>is_sar</th>\n",
       "      <th>tran_id</th>\n",
       "    </tr>\n",
       "  </thead>\n",
       "  <tbody>\n",
       "    <tr>\n",
       "      <th>0</th>\n",
       "      <td>47</td>\n",
       "      <td>gather_scatter</td>\n",
       "      <td>True</td>\n",
       "      <td>11873</td>\n",
       "    </tr>\n",
       "    <tr>\n",
       "      <th>1</th>\n",
       "      <td>47</td>\n",
       "      <td>gather_scatter</td>\n",
       "      <td>True</td>\n",
       "      <td>11874</td>\n",
       "    </tr>\n",
       "    <tr>\n",
       "      <th>2</th>\n",
       "      <td>47</td>\n",
       "      <td>gather_scatter</td>\n",
       "      <td>True</td>\n",
       "      <td>11875</td>\n",
       "    </tr>\n",
       "    <tr>\n",
       "      <th>3</th>\n",
       "      <td>47</td>\n",
       "      <td>gather_scatter</td>\n",
       "      <td>True</td>\n",
       "      <td>13151</td>\n",
       "    </tr>\n",
       "    <tr>\n",
       "      <th>4</th>\n",
       "      <td>47</td>\n",
       "      <td>gather_scatter</td>\n",
       "      <td>True</td>\n",
       "      <td>23148</td>\n",
       "    </tr>\n",
       "  </tbody>\n",
       "</table>\n",
       "</div>"
      ],
      "text/plain": [
       "   alert_id      alert_type  is_sar  tran_id\n",
       "0        47  gather_scatter    True    11873\n",
       "1        47  gather_scatter    True    11874\n",
       "2        47  gather_scatter    True    11875\n",
       "3        47  gather_scatter    True    13151\n",
       "4        47  gather_scatter    True    23148"
      ]
     },
     "execution_count": 3,
     "metadata": {},
     "output_type": "execute_result"
    }
   ],
   "source": [
    "alert_transactions = pd.read_csv(\"https://repo.hops.works/master/hopsworks-tutorials/data/aml/alert_transactions.csv\")\n",
    "alert_transactions.head()"
   ]
  },
  {
   "cell_type": "markdown",
   "id": "001931a6",
   "metadata": {},
   "source": [
    "#### ⛳️ Party dataset"
   ]
  },
  {
   "cell_type": "code",
   "execution_count": 4,
   "id": "dd533f68",
   "metadata": {},
   "outputs": [
    {
     "data": {
      "text/html": [
       "<div>\n",
       "<style scoped>\n",
       "    .dataframe tbody tr th:only-of-type {\n",
       "        vertical-align: middle;\n",
       "    }\n",
       "\n",
       "    .dataframe tbody tr th {\n",
       "        vertical-align: top;\n",
       "    }\n",
       "\n",
       "    .dataframe thead th {\n",
       "        text-align: right;\n",
       "    }\n",
       "</style>\n",
       "<table border=\"1\" class=\"dataframe\">\n",
       "  <thead>\n",
       "    <tr style=\"text-align: right;\">\n",
       "      <th></th>\n",
       "      <th>partyId</th>\n",
       "      <th>partyType</th>\n",
       "    </tr>\n",
       "  </thead>\n",
       "  <tbody>\n",
       "    <tr>\n",
       "      <th>0</th>\n",
       "      <td>5628bd6c</td>\n",
       "      <td>Organization</td>\n",
       "    </tr>\n",
       "    <tr>\n",
       "      <th>1</th>\n",
       "      <td>a1fcba39</td>\n",
       "      <td>Organization</td>\n",
       "    </tr>\n",
       "    <tr>\n",
       "      <th>2</th>\n",
       "      <td>f56c9501</td>\n",
       "      <td>Individual</td>\n",
       "    </tr>\n",
       "    <tr>\n",
       "      <th>3</th>\n",
       "      <td>9969afdd</td>\n",
       "      <td>Organization</td>\n",
       "    </tr>\n",
       "    <tr>\n",
       "      <th>4</th>\n",
       "      <td>b356eeae</td>\n",
       "      <td>Individual</td>\n",
       "    </tr>\n",
       "  </tbody>\n",
       "</table>\n",
       "</div>"
      ],
      "text/plain": [
       "    partyId     partyType\n",
       "0  5628bd6c  Organization\n",
       "1  a1fcba39  Organization\n",
       "2  f56c9501    Individual\n",
       "3  9969afdd  Organization\n",
       "4  b356eeae    Individual"
      ]
     },
     "execution_count": 4,
     "metadata": {},
     "output_type": "execute_result"
    }
   ],
   "source": [
    "party = pd.read_csv(\"https://repo.hops.works/master/hopsworks-tutorials/data/aml/party.csv\")\n",
    "party.head()"
   ]
  },
  {
   "cell_type": "markdown",
   "id": "7fcb4301",
   "metadata": {},
   "source": [
    "## <span style=\"color:#ff5f27;\"> 🛠️ Feature Engineering </span>\n",
    "\n",
    "#### To investigate patterns of suspicious activities you will make time window aggregates such monthly frequency, total, mean and standard deviation of amount of incoming and outgoing transasactions.  \n"
   ]
  },
  {
   "cell_type": "code",
   "execution_count": 5,
   "id": "7d02a095",
   "metadata": {},
   "outputs": [
    {
     "data": {
      "text/html": [
       "<div>\n",
       "<style scoped>\n",
       "    .dataframe tbody tr th:only-of-type {\n",
       "        vertical-align: middle;\n",
       "    }\n",
       "\n",
       "    .dataframe tbody tr th {\n",
       "        vertical-align: top;\n",
       "    }\n",
       "\n",
       "    .dataframe thead th {\n",
       "        text-align: right;\n",
       "    }\n",
       "</style>\n",
       "<table border=\"1\" class=\"dataframe\">\n",
       "  <thead>\n",
       "    <tr style=\"text-align: right;\">\n",
       "      <th></th>\n",
       "      <th>source</th>\n",
       "      <th>target</th>\n",
       "      <th>tran_timestamp</th>\n",
       "      <th>tran_id</th>\n",
       "      <th>base_amt</th>\n",
       "    </tr>\n",
       "  </thead>\n",
       "  <tbody>\n",
       "    <tr>\n",
       "      <th>0</th>\n",
       "      <td>3aa9646b</td>\n",
       "      <td>1e46e726</td>\n",
       "      <td>2020-01-01 00:00:00+00:00</td>\n",
       "      <td>496</td>\n",
       "      <td>858.77</td>\n",
       "    </tr>\n",
       "    <tr>\n",
       "      <th>1</th>\n",
       "      <td>49203bc3</td>\n",
       "      <td>a74d1101</td>\n",
       "      <td>2020-01-01 00:00:00+00:00</td>\n",
       "      <td>1342</td>\n",
       "      <td>386.86</td>\n",
       "    </tr>\n",
       "    <tr>\n",
       "      <th>2</th>\n",
       "      <td>616d4505</td>\n",
       "      <td>99af2455</td>\n",
       "      <td>2020-01-02 00:00:00+00:00</td>\n",
       "      <td>1580</td>\n",
       "      <td>616.43</td>\n",
       "    </tr>\n",
       "    <tr>\n",
       "      <th>3</th>\n",
       "      <td>39be1ea2</td>\n",
       "      <td>e7ec7bdb</td>\n",
       "      <td>2020-01-02 00:00:00+00:00</td>\n",
       "      <td>2866</td>\n",
       "      <td>146.44</td>\n",
       "    </tr>\n",
       "    <tr>\n",
       "      <th>4</th>\n",
       "      <td>e2e0d938</td>\n",
       "      <td>afc399a9</td>\n",
       "      <td>2020-01-03 00:00:00+00:00</td>\n",
       "      <td>3997</td>\n",
       "      <td>439.09</td>\n",
       "    </tr>\n",
       "  </tbody>\n",
       "</table>\n",
       "</div>"
      ],
      "text/plain": [
       "     source    target            tran_timestamp  tran_id  base_amt\n",
       "0  3aa9646b  1e46e726 2020-01-01 00:00:00+00:00      496    858.77\n",
       "1  49203bc3  a74d1101 2020-01-01 00:00:00+00:00     1342    386.86\n",
       "2  616d4505  99af2455 2020-01-02 00:00:00+00:00     1580    616.43\n",
       "3  39be1ea2  e7ec7bdb 2020-01-02 00:00:00+00:00     2866    146.44\n",
       "4  e2e0d938  afc399a9 2020-01-03 00:00:00+00:00     3997    439.09"
      ]
     },
     "execution_count": 5,
     "metadata": {},
     "output_type": "execute_result"
    }
   ],
   "source": [
    "# rename some columns\n",
    "transactions_df = transactions_df.rename(columns={\"src\": \"source\",\n",
    "                                                  \"dst\": \"target\"}, errors=\"raise\")\n",
    "\n",
    "# select interested columns\n",
    "transactions_df = transactions_df[[\"source\", \"target\", \"tran_timestamp\", \"tran_id\", \"base_amt\"]]\n",
    "transactions_df.head()"
   ]
  },
  {
   "cell_type": "markdown",
   "id": "4ae1be7c",
   "metadata": {},
   "source": [
    "##### Outgoing transactions"
   ]
  },
  {
   "cell_type": "code",
   "execution_count": 6,
   "id": "b5c57b1c",
   "metadata": {},
   "outputs": [
    {
     "data": {
      "text/html": [
       "<div>\n",
       "<style scoped>\n",
       "    .dataframe tbody tr th:only-of-type {\n",
       "        vertical-align: middle;\n",
       "    }\n",
       "\n",
       "    .dataframe tbody tr th {\n",
       "        vertical-align: top;\n",
       "    }\n",
       "\n",
       "    .dataframe thead th {\n",
       "        text-align: right;\n",
       "    }\n",
       "</style>\n",
       "<table border=\"1\" class=\"dataframe\">\n",
       "  <thead>\n",
       "    <tr style=\"text-align: right;\">\n",
       "      <th></th>\n",
       "      <th>tran_timestamp</th>\n",
       "      <th>id</th>\n",
       "      <th>monthly_out_count</th>\n",
       "      <th>monthly_out_total_amount</th>\n",
       "      <th>monthly_out_mean_amount</th>\n",
       "      <th>monthly_out_std_amount</th>\n",
       "    </tr>\n",
       "  </thead>\n",
       "  <tbody>\n",
       "    <tr>\n",
       "      <th>0</th>\n",
       "      <td>1580428800000</td>\n",
       "      <td>0016359b</td>\n",
       "      <td>4</td>\n",
       "      <td>1843.32</td>\n",
       "      <td>460.830000</td>\n",
       "      <td>252.951744</td>\n",
       "    </tr>\n",
       "    <tr>\n",
       "      <th>1</th>\n",
       "      <td>1580428800000</td>\n",
       "      <td>0019b8d0</td>\n",
       "      <td>6</td>\n",
       "      <td>3074.78</td>\n",
       "      <td>512.463333</td>\n",
       "      <td>308.247279</td>\n",
       "    </tr>\n",
       "    <tr>\n",
       "      <th>2</th>\n",
       "      <td>1580428800000</td>\n",
       "      <td>00298665</td>\n",
       "      <td>1</td>\n",
       "      <td>521.11</td>\n",
       "      <td>521.110000</td>\n",
       "      <td>NaN</td>\n",
       "    </tr>\n",
       "    <tr>\n",
       "      <th>3</th>\n",
       "      <td>1580428800000</td>\n",
       "      <td>003e2533</td>\n",
       "      <td>3</td>\n",
       "      <td>1440.05</td>\n",
       "      <td>480.016667</td>\n",
       "      <td>251.265814</td>\n",
       "    </tr>\n",
       "    <tr>\n",
       "      <th>4</th>\n",
       "      <td>1580428800000</td>\n",
       "      <td>00498ec2</td>\n",
       "      <td>5</td>\n",
       "      <td>3414.95</td>\n",
       "      <td>682.990000</td>\n",
       "      <td>58.726141</td>\n",
       "    </tr>\n",
       "  </tbody>\n",
       "</table>\n",
       "</div>"
      ],
      "text/plain": [
       "   tran_timestamp        id  monthly_out_count  monthly_out_total_amount  \\\n",
       "0   1580428800000  0016359b                  4                   1843.32   \n",
       "1   1580428800000  0019b8d0                  6                   3074.78   \n",
       "2   1580428800000  00298665                  1                    521.11   \n",
       "3   1580428800000  003e2533                  3                   1440.05   \n",
       "4   1580428800000  00498ec2                  5                   3414.95   \n",
       "\n",
       "   monthly_out_mean_amount  monthly_out_std_amount  \n",
       "0               460.830000              252.951744  \n",
       "1               512.463333              308.247279  \n",
       "2               521.110000                     NaN  \n",
       "3               480.016667              251.265814  \n",
       "4               682.990000               58.726141  "
      ]
     },
     "execution_count": 6,
     "metadata": {},
     "output_type": "execute_result"
    }
   ],
   "source": [
    "out_df = transactions_df.groupby([pd.Grouper(key='tran_timestamp', freq='M'), 'source'])\\\n",
    "                            .agg(monthly_count=('source','count'), \n",
    "                                 monthly_total_amount=('base_amt','sum'),\n",
    "                                 monthly_mean_amount=('base_amt','mean'),\n",
    "                                 monthly_std_amount=('base_amt','std')\n",
    "                                )\n",
    "out_df = out_df.reset_index(level=[\"source\"])\n",
    "out_df = out_df.reset_index(level=[\"tran_timestamp\"])\n",
    "\n",
    "# rename some columns\n",
    "out_df = out_df.rename(columns={\"source\": \"id\",\n",
    "                                                  \"monthly_count\": \"monthly_out_count\",\n",
    "                                                  \"monthly_total_amount\": \"monthly_out_total_amount\",\n",
    "                                                  \"monthly_mean_amount\": \"monthly_out_mean_amount\",\n",
    "                                                  \"monthly_std_amount\": \"monthly_out_std_amount\"}, errors=\"raise\")\n",
    "\n",
    "out_df.tran_timestamp = out_df.tran_timestamp.values.astype(np.int64) // 10 ** 6\n",
    "out_df.head(5)"
   ]
  },
  {
   "cell_type": "markdown",
   "id": "e18609fe",
   "metadata": {},
   "source": [
    "##### Incoming transactions"
   ]
  },
  {
   "cell_type": "code",
   "execution_count": 7,
   "id": "67a81af2",
   "metadata": {},
   "outputs": [
    {
     "data": {
      "text/html": [
       "<div>\n",
       "<style scoped>\n",
       "    .dataframe tbody tr th:only-of-type {\n",
       "        vertical-align: middle;\n",
       "    }\n",
       "\n",
       "    .dataframe tbody tr th {\n",
       "        vertical-align: top;\n",
       "    }\n",
       "\n",
       "    .dataframe thead th {\n",
       "        text-align: right;\n",
       "    }\n",
       "</style>\n",
       "<table border=\"1\" class=\"dataframe\">\n",
       "  <thead>\n",
       "    <tr style=\"text-align: right;\">\n",
       "      <th></th>\n",
       "      <th>tran_timestamp</th>\n",
       "      <th>id</th>\n",
       "      <th>monthly_in_count</th>\n",
       "      <th>monthly_in_total_amount</th>\n",
       "      <th>monthly_in_mean_amount</th>\n",
       "      <th>monthly_in_std_amount</th>\n",
       "    </tr>\n",
       "  </thead>\n",
       "  <tbody>\n",
       "    <tr>\n",
       "      <th>0</th>\n",
       "      <td>1580428800000</td>\n",
       "      <td>0016359b</td>\n",
       "      <td>4</td>\n",
       "      <td>1872.92</td>\n",
       "      <td>468.230000</td>\n",
       "      <td>175.274700</td>\n",
       "    </tr>\n",
       "    <tr>\n",
       "      <th>1</th>\n",
       "      <td>1580428800000</td>\n",
       "      <td>001dcc27</td>\n",
       "      <td>9</td>\n",
       "      <td>5874.64</td>\n",
       "      <td>652.737778</td>\n",
       "      <td>271.236889</td>\n",
       "    </tr>\n",
       "    <tr>\n",
       "      <th>2</th>\n",
       "      <td>1580428800000</td>\n",
       "      <td>00298665</td>\n",
       "      <td>1</td>\n",
       "      <td>755.64</td>\n",
       "      <td>755.640000</td>\n",
       "      <td>NaN</td>\n",
       "    </tr>\n",
       "    <tr>\n",
       "      <th>3</th>\n",
       "      <td>1580428800000</td>\n",
       "      <td>003cd8f3</td>\n",
       "      <td>4</td>\n",
       "      <td>2678.30</td>\n",
       "      <td>669.575000</td>\n",
       "      <td>179.515750</td>\n",
       "    </tr>\n",
       "    <tr>\n",
       "      <th>4</th>\n",
       "      <td>1580428800000</td>\n",
       "      <td>003e2533</td>\n",
       "      <td>4</td>\n",
       "      <td>3328.82</td>\n",
       "      <td>832.205000</td>\n",
       "      <td>172.041666</td>\n",
       "    </tr>\n",
       "  </tbody>\n",
       "</table>\n",
       "</div>"
      ],
      "text/plain": [
       "   tran_timestamp        id  monthly_in_count  monthly_in_total_amount  \\\n",
       "0   1580428800000  0016359b                 4                  1872.92   \n",
       "1   1580428800000  001dcc27                 9                  5874.64   \n",
       "2   1580428800000  00298665                 1                   755.64   \n",
       "3   1580428800000  003cd8f3                 4                  2678.30   \n",
       "4   1580428800000  003e2533                 4                  3328.82   \n",
       "\n",
       "   monthly_in_mean_amount  monthly_in_std_amount  \n",
       "0              468.230000             175.274700  \n",
       "1              652.737778             271.236889  \n",
       "2              755.640000                    NaN  \n",
       "3              669.575000             179.515750  \n",
       "4              832.205000             172.041666  "
      ]
     },
     "execution_count": 7,
     "metadata": {},
     "output_type": "execute_result"
    }
   ],
   "source": [
    "in_df = transactions_df.groupby([pd.Grouper(key='tran_timestamp', freq='M'), 'target'])\\\n",
    "                            .agg(monthly_count=('target','count'), \n",
    "                                 monthly_total_amount=('base_amt','sum'),\n",
    "                                 monthly_mean_amount=('base_amt','mean'),\n",
    "                                 monthly_std_amount=('base_amt','std'))\n",
    "\n",
    "in_df = in_df.reset_index(level=[\"target\"])\n",
    "in_df = in_df.reset_index(level=[\"tran_timestamp\"])\n",
    "in_df.columns  = [\"tran_timestamp\", \"id\", \"monthly_in_count\", \"monthly_in_total_amount\", \"monthly_in_mean_amount\", \"monthly_in_std_amount\"]\n",
    "in_df.tran_timestamp = in_df.tran_timestamp.values.astype(np.int64) // 10 ** 6\n",
    "in_df.head(5)"
   ]
  },
  {
   "cell_type": "markdown",
   "id": "141eb16c",
   "metadata": {},
   "source": [
    "##### Now lets join incoming and outgoing transcations datasets"
   ]
  },
  {
   "cell_type": "code",
   "execution_count": 8,
   "id": "77334cce",
   "metadata": {},
   "outputs": [
    {
     "data": {
      "text/html": [
       "<div>\n",
       "<style scoped>\n",
       "    .dataframe tbody tr th:only-of-type {\n",
       "        vertical-align: middle;\n",
       "    }\n",
       "\n",
       "    .dataframe tbody tr th {\n",
       "        vertical-align: top;\n",
       "    }\n",
       "\n",
       "    .dataframe thead th {\n",
       "        text-align: right;\n",
       "    }\n",
       "</style>\n",
       "<table border=\"1\" class=\"dataframe\">\n",
       "  <thead>\n",
       "    <tr style=\"text-align: right;\">\n",
       "      <th></th>\n",
       "      <th>tran_timestamp</th>\n",
       "      <th>id</th>\n",
       "      <th>monthly_in_count</th>\n",
       "      <th>monthly_in_total_amount</th>\n",
       "      <th>monthly_in_mean_amount</th>\n",
       "      <th>monthly_in_std_amount</th>\n",
       "      <th>monthly_out_count</th>\n",
       "      <th>monthly_out_total_amount</th>\n",
       "      <th>monthly_out_mean_amount</th>\n",
       "      <th>monthly_out_std_amount</th>\n",
       "    </tr>\n",
       "  </thead>\n",
       "  <tbody>\n",
       "    <tr>\n",
       "      <th>0</th>\n",
       "      <td>1580428800000</td>\n",
       "      <td>0016359b</td>\n",
       "      <td>4.0</td>\n",
       "      <td>1872.92</td>\n",
       "      <td>468.230000</td>\n",
       "      <td>175.274700</td>\n",
       "      <td>4.0</td>\n",
       "      <td>1843.32</td>\n",
       "      <td>460.830000</td>\n",
       "      <td>252.951744</td>\n",
       "    </tr>\n",
       "    <tr>\n",
       "      <th>1</th>\n",
       "      <td>1580428800000</td>\n",
       "      <td>001dcc27</td>\n",
       "      <td>9.0</td>\n",
       "      <td>5874.64</td>\n",
       "      <td>652.737778</td>\n",
       "      <td>271.236889</td>\n",
       "      <td>0.0</td>\n",
       "      <td>0.00</td>\n",
       "      <td>0.000000</td>\n",
       "      <td>0.000000</td>\n",
       "    </tr>\n",
       "    <tr>\n",
       "      <th>2</th>\n",
       "      <td>1580428800000</td>\n",
       "      <td>00298665</td>\n",
       "      <td>1.0</td>\n",
       "      <td>755.64</td>\n",
       "      <td>755.640000</td>\n",
       "      <td>0.000000</td>\n",
       "      <td>1.0</td>\n",
       "      <td>521.11</td>\n",
       "      <td>521.110000</td>\n",
       "      <td>0.000000</td>\n",
       "    </tr>\n",
       "    <tr>\n",
       "      <th>3</th>\n",
       "      <td>1580428800000</td>\n",
       "      <td>003cd8f3</td>\n",
       "      <td>4.0</td>\n",
       "      <td>2678.30</td>\n",
       "      <td>669.575000</td>\n",
       "      <td>179.515750</td>\n",
       "      <td>0.0</td>\n",
       "      <td>0.00</td>\n",
       "      <td>0.000000</td>\n",
       "      <td>0.000000</td>\n",
       "    </tr>\n",
       "    <tr>\n",
       "      <th>4</th>\n",
       "      <td>1580428800000</td>\n",
       "      <td>003e2533</td>\n",
       "      <td>4.0</td>\n",
       "      <td>3328.82</td>\n",
       "      <td>832.205000</td>\n",
       "      <td>172.041666</td>\n",
       "      <td>3.0</td>\n",
       "      <td>1440.05</td>\n",
       "      <td>480.016667</td>\n",
       "      <td>251.265814</td>\n",
       "    </tr>\n",
       "  </tbody>\n",
       "</table>\n",
       "</div>"
      ],
      "text/plain": [
       "   tran_timestamp        id  monthly_in_count  monthly_in_total_amount  \\\n",
       "0   1580428800000  0016359b               4.0                  1872.92   \n",
       "1   1580428800000  001dcc27               9.0                  5874.64   \n",
       "2   1580428800000  00298665               1.0                   755.64   \n",
       "3   1580428800000  003cd8f3               4.0                  2678.30   \n",
       "4   1580428800000  003e2533               4.0                  3328.82   \n",
       "\n",
       "   monthly_in_mean_amount  monthly_in_std_amount  monthly_out_count  \\\n",
       "0              468.230000             175.274700                4.0   \n",
       "1              652.737778             271.236889                0.0   \n",
       "2              755.640000               0.000000                1.0   \n",
       "3              669.575000             179.515750                0.0   \n",
       "4              832.205000             172.041666                3.0   \n",
       "\n",
       "   monthly_out_total_amount  monthly_out_mean_amount  monthly_out_std_amount  \n",
       "0                   1843.32               460.830000              252.951744  \n",
       "1                      0.00                 0.000000                0.000000  \n",
       "2                    521.11               521.110000                0.000000  \n",
       "3                      0.00                 0.000000                0.000000  \n",
       "4                   1440.05               480.016667              251.265814  "
      ]
     },
     "execution_count": 8,
     "metadata": {},
     "output_type": "execute_result"
    }
   ],
   "source": [
    "in_out_df = in_df.merge(out_df, on=['tran_timestamp', 'id'], how=\"outer\")\n",
    "in_out_df =  in_out_df.fillna(0)\n",
    "in_out_df.head(5)"
   ]
  },
  {
   "cell_type": "markdown",
   "id": "bc5c9c78",
   "metadata": {},
   "source": [
    "#### Assign labels to transactions that were identified as suspicius activity"
   ]
  },
  {
   "cell_type": "code",
   "execution_count": 9,
   "id": "a0cdcf92",
   "metadata": {},
   "outputs": [
    {
     "data": {
      "text/html": [
       "<div>\n",
       "<style scoped>\n",
       "    .dataframe tbody tr th:only-of-type {\n",
       "        vertical-align: middle;\n",
       "    }\n",
       "\n",
       "    .dataframe tbody tr th {\n",
       "        vertical-align: top;\n",
       "    }\n",
       "\n",
       "    .dataframe thead th {\n",
       "        text-align: right;\n",
       "    }\n",
       "</style>\n",
       "<table border=\"1\" class=\"dataframe\">\n",
       "  <thead>\n",
       "    <tr style=\"text-align: right;\">\n",
       "      <th></th>\n",
       "      <th>alert_id</th>\n",
       "      <th>alert_type</th>\n",
       "      <th>is_sar</th>\n",
       "      <th>tran_id</th>\n",
       "    </tr>\n",
       "  </thead>\n",
       "  <tbody>\n",
       "    <tr>\n",
       "      <th>0</th>\n",
       "      <td>47</td>\n",
       "      <td>gather_scatter</td>\n",
       "      <td>True</td>\n",
       "      <td>11873</td>\n",
       "    </tr>\n",
       "    <tr>\n",
       "      <th>1</th>\n",
       "      <td>47</td>\n",
       "      <td>gather_scatter</td>\n",
       "      <td>True</td>\n",
       "      <td>11874</td>\n",
       "    </tr>\n",
       "    <tr>\n",
       "      <th>2</th>\n",
       "      <td>47</td>\n",
       "      <td>gather_scatter</td>\n",
       "      <td>True</td>\n",
       "      <td>11875</td>\n",
       "    </tr>\n",
       "    <tr>\n",
       "      <th>3</th>\n",
       "      <td>47</td>\n",
       "      <td>gather_scatter</td>\n",
       "      <td>True</td>\n",
       "      <td>13151</td>\n",
       "    </tr>\n",
       "    <tr>\n",
       "      <th>4</th>\n",
       "      <td>47</td>\n",
       "      <td>gather_scatter</td>\n",
       "      <td>True</td>\n",
       "      <td>23148</td>\n",
       "    </tr>\n",
       "  </tbody>\n",
       "</table>\n",
       "</div>"
      ],
      "text/plain": [
       "   alert_id      alert_type  is_sar  tran_id\n",
       "0        47  gather_scatter    True    11873\n",
       "1        47  gather_scatter    True    11874\n",
       "2        47  gather_scatter    True    11875\n",
       "3        47  gather_scatter    True    13151\n",
       "4        47  gather_scatter    True    23148"
      ]
     },
     "execution_count": 9,
     "metadata": {},
     "output_type": "execute_result"
    }
   ],
   "source": [
    "alert_transactions.head(5)"
   ]
  },
  {
   "cell_type": "code",
   "execution_count": 10,
   "id": "ed6e7eb4",
   "metadata": {},
   "outputs": [
    {
     "data": {
      "text/html": [
       "<div>\n",
       "<style scoped>\n",
       "    .dataframe tbody tr th:only-of-type {\n",
       "        vertical-align: middle;\n",
       "    }\n",
       "\n",
       "    .dataframe tbody tr th {\n",
       "        vertical-align: top;\n",
       "    }\n",
       "\n",
       "    .dataframe thead th {\n",
       "        text-align: right;\n",
       "    }\n",
       "</style>\n",
       "<table border=\"1\" class=\"dataframe\">\n",
       "  <thead>\n",
       "    <tr style=\"text-align: right;\">\n",
       "      <th></th>\n",
       "      <th>source</th>\n",
       "      <th>target</th>\n",
       "      <th>tran_id</th>\n",
       "      <th>tran_timestamp</th>\n",
       "      <th>is_sar</th>\n",
       "    </tr>\n",
       "  </thead>\n",
       "  <tbody>\n",
       "    <tr>\n",
       "      <th>322886</th>\n",
       "      <td>cee9cf6d</td>\n",
       "      <td>79c248ae</td>\n",
       "      <td>2</td>\n",
       "      <td>2020-01-01 00:00:00+00:00</td>\n",
       "      <td>0</td>\n",
       "    </tr>\n",
       "    <tr>\n",
       "      <th>307052</th>\n",
       "      <td>65ab2f44</td>\n",
       "      <td>b20ce84b</td>\n",
       "      <td>3</td>\n",
       "      <td>2020-01-01 00:00:00+00:00</td>\n",
       "      <td>0</td>\n",
       "    </tr>\n",
       "    <tr>\n",
       "      <th>181198</th>\n",
       "      <td>2a39b731</td>\n",
       "      <td>a07edae4</td>\n",
       "      <td>4</td>\n",
       "      <td>2020-01-01 00:00:00+00:00</td>\n",
       "      <td>0</td>\n",
       "    </tr>\n",
       "    <tr>\n",
       "      <th>36864</th>\n",
       "      <td>528b9346</td>\n",
       "      <td>dc34c867</td>\n",
       "      <td>6</td>\n",
       "      <td>2020-01-01 00:00:00+00:00</td>\n",
       "      <td>0</td>\n",
       "    </tr>\n",
       "    <tr>\n",
       "      <th>351553</th>\n",
       "      <td>cc668310</td>\n",
       "      <td>b1d20498</td>\n",
       "      <td>7</td>\n",
       "      <td>2020-01-01 00:00:00+00:00</td>\n",
       "      <td>0</td>\n",
       "    </tr>\n",
       "  </tbody>\n",
       "</table>\n",
       "</div>"
      ],
      "text/plain": [
       "          source    target  tran_id            tran_timestamp  is_sar\n",
       "322886  cee9cf6d  79c248ae        2 2020-01-01 00:00:00+00:00       0\n",
       "307052  65ab2f44  b20ce84b        3 2020-01-01 00:00:00+00:00       0\n",
       "181198  2a39b731  a07edae4        4 2020-01-01 00:00:00+00:00       0\n",
       "36864   528b9346  dc34c867        6 2020-01-01 00:00:00+00:00       0\n",
       "351553  cc668310  b1d20498        7 2020-01-01 00:00:00+00:00       0"
      ]
     },
     "execution_count": 10,
     "metadata": {},
     "output_type": "execute_result"
    }
   ],
   "source": [
    "transaction_labels = transactions_df[[\"source\",\"target\",\"tran_id\",\"tran_timestamp\"]].merge(alert_transactions[[\"is_sar\", \"tran_id\"]], on=[\"tran_id\"], how=\"left\")\n",
    "transaction_labels.is_sar = transaction_labels.is_sar.map({True: 1, np.nan: 0})\n",
    "transaction_labels.sort_values('tran_id',inplace = True)\n",
    "transaction_labels.head(5)"
   ]
  },
  {
   "cell_type": "markdown",
   "id": "09454a6f",
   "metadata": {},
   "source": [
    "#### Now lets prepare profile (party) dataset and assign lables whether they have been reported for suspicius activity or not "
   ]
  },
  {
   "cell_type": "code",
   "execution_count": 11,
   "id": "85391a7e",
   "metadata": {},
   "outputs": [
    {
     "data": {
      "text/html": [
       "<div>\n",
       "<style scoped>\n",
       "    .dataframe tbody tr th:only-of-type {\n",
       "        vertical-align: middle;\n",
       "    }\n",
       "\n",
       "    .dataframe tbody tr th {\n",
       "        vertical-align: top;\n",
       "    }\n",
       "\n",
       "    .dataframe thead th {\n",
       "        text-align: right;\n",
       "    }\n",
       "</style>\n",
       "<table border=\"1\" class=\"dataframe\">\n",
       "  <thead>\n",
       "    <tr style=\"text-align: right;\">\n",
       "      <th></th>\n",
       "      <th>id</th>\n",
       "      <th>type</th>\n",
       "    </tr>\n",
       "  </thead>\n",
       "  <tbody>\n",
       "    <tr>\n",
       "      <th>0</th>\n",
       "      <td>5628bd6c</td>\n",
       "      <td>1</td>\n",
       "    </tr>\n",
       "    <tr>\n",
       "      <th>1</th>\n",
       "      <td>a1fcba39</td>\n",
       "      <td>1</td>\n",
       "    </tr>\n",
       "    <tr>\n",
       "      <th>2</th>\n",
       "      <td>f56c9501</td>\n",
       "      <td>0</td>\n",
       "    </tr>\n",
       "    <tr>\n",
       "      <th>3</th>\n",
       "      <td>9969afdd</td>\n",
       "      <td>1</td>\n",
       "    </tr>\n",
       "    <tr>\n",
       "      <th>4</th>\n",
       "      <td>b356eeae</td>\n",
       "      <td>0</td>\n",
       "    </tr>\n",
       "  </tbody>\n",
       "</table>\n",
       "</div>"
      ],
      "text/plain": [
       "         id  type\n",
       "0  5628bd6c     1\n",
       "1  a1fcba39     1\n",
       "2  f56c9501     0\n",
       "3  9969afdd     1\n",
       "4  b356eeae     0"
      ]
     },
     "execution_count": 11,
     "metadata": {},
     "output_type": "execute_result"
    }
   ],
   "source": [
    "party.columns = [\"id\",\"type\"]\n",
    "party.type = party.type.map({\"Individual\": 0, \"Organization\": 1})\n",
    "\n",
    "party.head(5)"
   ]
  },
  {
   "cell_type": "code",
   "execution_count": 12,
   "id": "a2a73230",
   "metadata": {},
   "outputs": [
    {
     "data": {
      "text/html": [
       "<div>\n",
       "<style scoped>\n",
       "    .dataframe tbody tr th:only-of-type {\n",
       "        vertical-align: middle;\n",
       "    }\n",
       "\n",
       "    .dataframe tbody tr th {\n",
       "        vertical-align: top;\n",
       "    }\n",
       "\n",
       "    .dataframe thead th {\n",
       "        text-align: right;\n",
       "    }\n",
       "</style>\n",
       "<table border=\"1\" class=\"dataframe\">\n",
       "  <thead>\n",
       "    <tr style=\"text-align: right;\">\n",
       "      <th></th>\n",
       "      <th>source</th>\n",
       "      <th>target</th>\n",
       "      <th>tran_id</th>\n",
       "      <th>tran_timestamp</th>\n",
       "      <th>is_sar</th>\n",
       "    </tr>\n",
       "  </thead>\n",
       "  <tbody>\n",
       "    <tr>\n",
       "      <th>41322</th>\n",
       "      <td>5e7442f1</td>\n",
       "      <td>0bffd1da</td>\n",
       "      <td>11873</td>\n",
       "      <td>2020-01-09 00:00:00+00:00</td>\n",
       "      <td>1</td>\n",
       "    </tr>\n",
       "    <tr>\n",
       "      <th>62128</th>\n",
       "      <td>65c7b5a1</td>\n",
       "      <td>0bffd1da</td>\n",
       "      <td>11874</td>\n",
       "      <td>2020-01-09 00:00:00+00:00</td>\n",
       "      <td>1</td>\n",
       "    </tr>\n",
       "    <tr>\n",
       "      <th>57575</th>\n",
       "      <td>04128f28</td>\n",
       "      <td>0bffd1da</td>\n",
       "      <td>11875</td>\n",
       "      <td>2020-01-09 00:00:00+00:00</td>\n",
       "      <td>1</td>\n",
       "    </tr>\n",
       "    <tr>\n",
       "      <th>85346</th>\n",
       "      <td>462568a4</td>\n",
       "      <td>0bffd1da</td>\n",
       "      <td>13151</td>\n",
       "      <td>2020-01-10 00:00:00+00:00</td>\n",
       "      <td>1</td>\n",
       "    </tr>\n",
       "    <tr>\n",
       "      <th>59894</th>\n",
       "      <td>0bffd1da</td>\n",
       "      <td>4a1c2abc</td>\n",
       "      <td>23148</td>\n",
       "      <td>2020-01-17 00:00:00+00:00</td>\n",
       "      <td>1</td>\n",
       "    </tr>\n",
       "  </tbody>\n",
       "</table>\n",
       "</div>"
      ],
      "text/plain": [
       "         source    target  tran_id            tran_timestamp  is_sar\n",
       "41322  5e7442f1  0bffd1da    11873 2020-01-09 00:00:00+00:00       1\n",
       "62128  65c7b5a1  0bffd1da    11874 2020-01-09 00:00:00+00:00       1\n",
       "57575  04128f28  0bffd1da    11875 2020-01-09 00:00:00+00:00       1\n",
       "85346  462568a4  0bffd1da    13151 2020-01-10 00:00:00+00:00       1\n",
       "59894  0bffd1da  4a1c2abc    23148 2020-01-17 00:00:00+00:00       1"
      ]
     },
     "execution_count": 12,
     "metadata": {},
     "output_type": "execute_result"
    }
   ],
   "source": [
    "alert_transactions = transaction_labels[transaction_labels.is_sar ==1]\n",
    "alert_transactions.head()"
   ]
  },
  {
   "cell_type": "code",
   "execution_count": 13,
   "id": "cf1a755d",
   "metadata": {},
   "outputs": [
    {
     "data": {
      "text/html": [
       "<div>\n",
       "<style scoped>\n",
       "    .dataframe tbody tr th:only-of-type {\n",
       "        vertical-align: middle;\n",
       "    }\n",
       "\n",
       "    .dataframe tbody tr th {\n",
       "        vertical-align: top;\n",
       "    }\n",
       "\n",
       "    .dataframe thead th {\n",
       "        text-align: right;\n",
       "    }\n",
       "</style>\n",
       "<table border=\"1\" class=\"dataframe\">\n",
       "  <thead>\n",
       "    <tr style=\"text-align: right;\">\n",
       "      <th></th>\n",
       "      <th>tran_timestamp</th>\n",
       "      <th>id</th>\n",
       "      <th>is_sar</th>\n",
       "    </tr>\n",
       "  </thead>\n",
       "  <tbody>\n",
       "    <tr>\n",
       "      <th>0</th>\n",
       "      <td>2020-01-31 00:00:00+00:00</td>\n",
       "      <td>04128f28</td>\n",
       "      <td>1</td>\n",
       "    </tr>\n",
       "    <tr>\n",
       "      <th>1</th>\n",
       "      <td>2020-01-31 00:00:00+00:00</td>\n",
       "      <td>0bffd1da</td>\n",
       "      <td>1</td>\n",
       "    </tr>\n",
       "    <tr>\n",
       "      <th>2</th>\n",
       "      <td>2020-01-31 00:00:00+00:00</td>\n",
       "      <td>101c8a90</td>\n",
       "      <td>1</td>\n",
       "    </tr>\n",
       "    <tr>\n",
       "      <th>3</th>\n",
       "      <td>2020-01-31 00:00:00+00:00</td>\n",
       "      <td>462568a4</td>\n",
       "      <td>1</td>\n",
       "    </tr>\n",
       "    <tr>\n",
       "      <th>4</th>\n",
       "      <td>2020-01-31 00:00:00+00:00</td>\n",
       "      <td>4a1c2abc</td>\n",
       "      <td>1</td>\n",
       "    </tr>\n",
       "    <tr>\n",
       "      <th>...</th>\n",
       "      <td>...</td>\n",
       "      <td>...</td>\n",
       "      <td>...</td>\n",
       "    </tr>\n",
       "    <tr>\n",
       "      <th>811</th>\n",
       "      <td>2021-12-31 00:00:00+00:00</td>\n",
       "      <td>bc0ed20b</td>\n",
       "      <td>1</td>\n",
       "    </tr>\n",
       "    <tr>\n",
       "      <th>812</th>\n",
       "      <td>2021-12-31 00:00:00+00:00</td>\n",
       "      <td>e5cd7b59</td>\n",
       "      <td>1</td>\n",
       "    </tr>\n",
       "    <tr>\n",
       "      <th>813</th>\n",
       "      <td>2021-12-31 00:00:00+00:00</td>\n",
       "      <td>eac8b9c1</td>\n",
       "      <td>1</td>\n",
       "    </tr>\n",
       "    <tr>\n",
       "      <th>814</th>\n",
       "      <td>2021-12-31 00:00:00+00:00</td>\n",
       "      <td>f30f26a2</td>\n",
       "      <td>1</td>\n",
       "    </tr>\n",
       "    <tr>\n",
       "      <th>815</th>\n",
       "      <td>2021-12-31 00:00:00+00:00</td>\n",
       "      <td>f463442d</td>\n",
       "      <td>1</td>\n",
       "    </tr>\n",
       "  </tbody>\n",
       "</table>\n",
       "<p>816 rows × 3 columns</p>\n",
       "</div>"
      ],
      "text/plain": [
       "               tran_timestamp        id  is_sar\n",
       "0   2020-01-31 00:00:00+00:00  04128f28       1\n",
       "1   2020-01-31 00:00:00+00:00  0bffd1da       1\n",
       "2   2020-01-31 00:00:00+00:00  101c8a90       1\n",
       "3   2020-01-31 00:00:00+00:00  462568a4       1\n",
       "4   2020-01-31 00:00:00+00:00  4a1c2abc       1\n",
       "..                        ...       ...     ...\n",
       "811 2021-12-31 00:00:00+00:00  bc0ed20b       1\n",
       "812 2021-12-31 00:00:00+00:00  e5cd7b59       1\n",
       "813 2021-12-31 00:00:00+00:00  eac8b9c1       1\n",
       "814 2021-12-31 00:00:00+00:00  f30f26a2       1\n",
       "815 2021-12-31 00:00:00+00:00  f463442d       1\n",
       "\n",
       "[816 rows x 3 columns]"
      ]
     },
     "execution_count": 13,
     "metadata": {},
     "output_type": "execute_result"
    }
   ],
   "source": [
    "alert_transactions = transaction_labels[transaction_labels.is_sar ==1]\n",
    "\n",
    "alert_sources = alert_transactions[[\"source\", \"tran_timestamp\"]]\n",
    "alert_sources.columns = [\"id\", \"tran_timestamp\"]\n",
    "alert_sources.head()\n",
    "alert_targets = alert_transactions[[\"target\", \"tran_timestamp\"]]\n",
    "alert_targets.columns = [\"id\", \"tran_timestamp\"]\n",
    "\n",
    "sar_party = pd.concat([alert_sources, alert_targets], ignore_index=True)\n",
    "\n",
    "sar_party.sort_values([\"id\", \"tran_timestamp\"], ascending = [False, True])\n",
    "\n",
    "# find a 1st occurence of sar per id\n",
    "sar_party = sar_party.iloc[[sar_party.id.eq(id).idxmax() for id in sar_party['id'].value_counts().index]]\n",
    "sar_party = sar_party.groupby([pd.Grouper(key='tran_timestamp', freq='M'), 'id']).agg(monthly_count=('id','count'))\n",
    "sar_party = sar_party.reset_index(level=[\"id\"])\n",
    "sar_party = sar_party.reset_index(level=[\"tran_timestamp\"])\n",
    "sar_party.drop([\"monthly_count\"], axis=1, inplace=True)\n",
    "\n",
    "sar_party[\"is_sar\"] = sar_party[\"is_sar\"] = 1\n",
    "sar_party"
   ]
  },
  {
   "cell_type": "code",
   "execution_count": 14,
   "id": "d37177ab",
   "metadata": {},
   "outputs": [],
   "source": [
    "party_labels = party.merge(sar_party, on=[\"id\"], how=\"left\")\n",
    "party_labels.is_sar = party_labels.is_sar.map({1.0: 1, np.nan: 0})\n",
    "max_time_stamp = datetime.datetime.utcfromtimestamp(int(max(transaction_labels.tran_timestamp.values))/1e9)\n",
    "party_labels = party_labels.fillna(max_time_stamp)"
   ]
  },
  {
   "cell_type": "code",
   "execution_count": 15,
   "id": "afc061c4",
   "metadata": {},
   "outputs": [
    {
     "data": {
      "text/html": [
       "<div>\n",
       "<style scoped>\n",
       "    .dataframe tbody tr th:only-of-type {\n",
       "        vertical-align: middle;\n",
       "    }\n",
       "\n",
       "    .dataframe tbody tr th {\n",
       "        vertical-align: top;\n",
       "    }\n",
       "\n",
       "    .dataframe thead th {\n",
       "        text-align: right;\n",
       "    }\n",
       "</style>\n",
       "<table border=\"1\" class=\"dataframe\">\n",
       "  <thead>\n",
       "    <tr style=\"text-align: right;\">\n",
       "      <th></th>\n",
       "      <th>id</th>\n",
       "      <th>type</th>\n",
       "      <th>tran_timestamp</th>\n",
       "      <th>is_sar</th>\n",
       "    </tr>\n",
       "  </thead>\n",
       "  <tbody>\n",
       "    <tr>\n",
       "      <th>0</th>\n",
       "      <td>5628bd6c</td>\n",
       "      <td>1</td>\n",
       "      <td>2021-12-20 00:00:00</td>\n",
       "      <td>0</td>\n",
       "    </tr>\n",
       "    <tr>\n",
       "      <th>1</th>\n",
       "      <td>a1fcba39</td>\n",
       "      <td>1</td>\n",
       "      <td>2021-12-20 00:00:00</td>\n",
       "      <td>0</td>\n",
       "    </tr>\n",
       "    <tr>\n",
       "      <th>2</th>\n",
       "      <td>f56c9501</td>\n",
       "      <td>0</td>\n",
       "      <td>2021-12-20 00:00:00</td>\n",
       "      <td>0</td>\n",
       "    </tr>\n",
       "    <tr>\n",
       "      <th>3</th>\n",
       "      <td>9969afdd</td>\n",
       "      <td>1</td>\n",
       "      <td>2021-12-20 00:00:00</td>\n",
       "      <td>0</td>\n",
       "    </tr>\n",
       "    <tr>\n",
       "      <th>4</th>\n",
       "      <td>b356eeae</td>\n",
       "      <td>0</td>\n",
       "      <td>2021-12-20 00:00:00</td>\n",
       "      <td>0</td>\n",
       "    </tr>\n",
       "  </tbody>\n",
       "</table>\n",
       "</div>"
      ],
      "text/plain": [
       "         id  type       tran_timestamp  is_sar\n",
       "0  5628bd6c     1  2021-12-20 00:00:00       0\n",
       "1  a1fcba39     1  2021-12-20 00:00:00       0\n",
       "2  f56c9501     0  2021-12-20 00:00:00       0\n",
       "3  9969afdd     1  2021-12-20 00:00:00       0\n",
       "4  b356eeae     0  2021-12-20 00:00:00       0"
      ]
     },
     "execution_count": 15,
     "metadata": {},
     "output_type": "execute_result"
    }
   ],
   "source": [
    "party_labels.head(5)"
   ]
  },
  {
   "cell_type": "markdown",
   "id": "d4772716-71d6-4a56-91ff-7456e3125ec5",
   "metadata": {},
   "source": [
    "# Neo4j"
   ]
  },
  {
   "cell_type": "code",
   "execution_count": 16,
   "id": "979253d3-6c12-4ae1-866a-141302752a62",
   "metadata": {},
   "outputs": [],
   "source": [
    "from graphdatascience import GraphDataScience\n",
    "import math\n",
    "\n",
    "def convertToNumber(s):\n",
    "    return int.from_bytes(s.encode(), 'little')\n",
    "\n",
    "def convertFromNumber(n):\n",
    "    return n.to_bytes(math.ceil(n.bit_length() / 8), 'little').decode()"
   ]
  },
  {
   "cell_type": "code",
   "execution_count": 17,
   "id": "02e993ed-632f-4d20-83ce-82a4c0f597c6",
   "metadata": {},
   "outputs": [],
   "source": [
    "gds = GraphDataScience('bolt://localhost:7687', auth=('neo4j', 'hopsworks'))"
   ]
  },
  {
   "cell_type": "code",
   "execution_count": 18,
   "id": "f37a6dd6-fe0b-49ff-a94d-187470004645",
   "metadata": {},
   "outputs": [],
   "source": [
    "def pupulate_graph(input_df):\n",
    "    # Neo4j node formatting ##################\n",
    "    \n",
    "    # Extract unique nodes visited\n",
    "    nodes = party_labels[party_labels.id.isin(input_df.source) | (party_labels.id.isin(input_df.target))]\n",
    "    nodes = nodes[['id']]    \n",
    "    nodes = nodes.rename(columns={\"id\": \"nodeId\"},\n",
    "                         errors=\"raise\")\n",
    "    \n",
    "    # Convert node ID to a positive integer (Neo4j requirements)\n",
    "    nodes['nodeId'] = [convertToNumber(nodeId) for nodeId in nodes['nodeId']]\n",
    "    nodes['nodeId'] = nodes['nodeId'].astype(int)\n",
    "\n",
    "    # Neo4j relationships formatting ##################\n",
    "    \n",
    "    relationships = input_df[['source', 'target', 'tran_id']]\n",
    "    relationships = relationships.rename(columns={\"source\": \"sourceNodeId\",\n",
    "                                                  \"target\": \"targetNodeId\"},\n",
    "                                         errors=\"raise\")\n",
    "\n",
    "    # Convert source node ID to a positive integer (Neo4j requirements)\n",
    "    relationships['sourceNodeId'] = [convertToNumber(sourceNodeId) for sourceNodeId in relationships['sourceNodeId']]\n",
    "    relationships['sourceNodeId'] = relationships['sourceNodeId'].astype(int)\n",
    "\n",
    "    # Convert target node ID to a positive integer (Neo4j requirements)\n",
    "    relationships['targetNodeId'] = [convertToNumber(targetNodeId) for targetNodeId in relationships['targetNodeId']]\n",
    "    relationships['targetNodeId'] = relationships['targetNodeId'].astype(int)\n",
    "\n",
    "    ##################\n",
    "    \n",
    "    # Build Graph\n",
    "    G = gds.graph.construct(\"transactions-graph\", nodes, relationships)\n",
    "\n",
    "    # Check if the number of nodes is correctly stored\n",
    "    assert G.node_count() == len(nodes)\n",
    "\n",
    "    # Compute embeddings\n",
    "    graph_embdeddings_df = gds.node2vec.stream(G)\n",
    "    \n",
    "    G.drop()\n",
    "\n",
    "    # Convert integer node ID back to original ID\n",
    "    graph_embdeddings_df['nodeId'] = [convertFromNumber(nodeId) for nodeId in graph_embdeddings_df['nodeId']]\n",
    "\n",
    "    return {\"id\": graph_embdeddings_df.nodeId.to_numpy(), \"graph_embeddings\": graph_embdeddings_df.embedding.to_numpy()}"
   ]
  },
  {
   "cell_type": "code",
   "execution_count": 19,
   "id": "f5cad42b-11c9-47e5-823d-b2b1580aea19",
   "metadata": {},
   "outputs": [
    {
     "name": "stderr",
     "output_type": "stream",
     "text": [
      "100%|████████████████████████████████████████████████████████████████████████████████████████████████████████████████████████████████████████████████████████████████████████████| 24/24 [00:32<00:00,  1.34s/it]\n"
     ]
    }
   ],
   "source": [
    "tqdm.pandas()\n",
    "transaction_graphs_by_month = transaction_labels.groupby(pd.Grouper(key='tran_timestamp', freq='M')).progress_apply(lambda x: construct_graph(x))       "
   ]
  },
  {
   "cell_type": "code",
   "execution_count": 20,
   "id": "551b5f9a-8cb5-44a4-8374-9345afe8ad29",
   "metadata": {},
   "outputs": [],
   "source": [
    "timestamps = transaction_graphs_by_month.index.values\n",
    "graph_embeddings = transaction_graphs_by_month.tolist()"
   ]
  },
  {
   "cell_type": "code",
   "execution_count": 21,
   "id": "1c4c4c84-c099-464a-8a85-60b86fb46cab",
   "metadata": {},
   "outputs": [
    {
     "data": {
      "text/html": [
       "<div>\n",
       "<style scoped>\n",
       "    .dataframe tbody tr th:only-of-type {\n",
       "        vertical-align: middle;\n",
       "    }\n",
       "\n",
       "    .dataframe tbody tr th {\n",
       "        vertical-align: top;\n",
       "    }\n",
       "\n",
       "    .dataframe thead th {\n",
       "        text-align: right;\n",
       "    }\n",
       "</style>\n",
       "<table border=\"1\" class=\"dataframe\">\n",
       "  <thead>\n",
       "    <tr style=\"text-align: right;\">\n",
       "      <th></th>\n",
       "      <th>id</th>\n",
       "      <th>graph_embeddings</th>\n",
       "      <th>tran_timestamp</th>\n",
       "    </tr>\n",
       "  </thead>\n",
       "  <tbody>\n",
       "    <tr>\n",
       "      <th>0</th>\n",
       "      <td>5628bd6c</td>\n",
       "      <td>[-0.03805919736623764, 0.08318281173706055, 0....</td>\n",
       "      <td>2020-01-31</td>\n",
       "    </tr>\n",
       "    <tr>\n",
       "      <th>1</th>\n",
       "      <td>a1fcba39</td>\n",
       "      <td>[-0.0054939440451562405, 0.010180824436247349,...</td>\n",
       "      <td>2020-01-31</td>\n",
       "    </tr>\n",
       "    <tr>\n",
       "      <th>2</th>\n",
       "      <td>f56c9501</td>\n",
       "      <td>[-0.04437978193163872, 0.09381019324064255, 0....</td>\n",
       "      <td>2020-01-31</td>\n",
       "    </tr>\n",
       "    <tr>\n",
       "      <th>3</th>\n",
       "      <td>9969afdd</td>\n",
       "      <td>[-0.0032248746138066053, 0.018540577962994576,...</td>\n",
       "      <td>2020-01-31</td>\n",
       "    </tr>\n",
       "    <tr>\n",
       "      <th>4</th>\n",
       "      <td>b356eeae</td>\n",
       "      <td>[-0.010767131112515926, 0.026746975257992744, ...</td>\n",
       "      <td>2020-01-31</td>\n",
       "    </tr>\n",
       "  </tbody>\n",
       "</table>\n",
       "</div>"
      ],
      "text/plain": [
       "         id                                   graph_embeddings tran_timestamp\n",
       "0  5628bd6c  [-0.03805919736623764, 0.08318281173706055, 0....     2020-01-31\n",
       "1  a1fcba39  [-0.0054939440451562405, 0.010180824436247349,...     2020-01-31\n",
       "2  f56c9501  [-0.04437978193163872, 0.09381019324064255, 0....     2020-01-31\n",
       "3  9969afdd  [-0.0032248746138066053, 0.018540577962994576,...     2020-01-31\n",
       "4  b356eeae  [-0.010767131112515926, 0.026746975257992744, ...     2020-01-31"
      ]
     },
     "execution_count": 21,
     "metadata": {},
     "output_type": "execute_result"
    }
   ],
   "source": [
    "graph_embdeddings_df = pd.DataFrame()\n",
    "for timestamp, graph_embedding in zip(timestamps, graph_embeddings):\n",
    "    df_tmp = pd.DataFrame(graph_embedding)\n",
    "    df_tmp[\"tran_timestamp\"] = timestamp\n",
    "    graph_embdeddings_df = pd.concat([graph_embdeddings_df, df_tmp])    \n",
    "graph_embdeddings_df.head(5)"
   ]
  },
  {
   "cell_type": "markdown",
   "id": "fee21bbb-a957-4132-a978-ba38b5a6affc",
   "metadata": {},
   "source": [
    "#### Convert date time to unix epoc milliseconds "
   ]
  },
  {
   "cell_type": "code",
   "execution_count": 22,
   "id": "44048408-825f-4fe9-8ae2-1944eebc07c4",
   "metadata": {},
   "outputs": [],
   "source": [
    "transaction_labels.tran_timestamp = transaction_labels.tran_timestamp.values.astype(np.int64) // 10 ** 6\n",
    "graph_embdeddings_df.tran_timestamp = graph_embdeddings_df.tran_timestamp.values.astype(np.int64) // 10 ** 6\n",
    "party_labels.tran_timestamp = party_labels.tran_timestamp.map(lambda x: datetime.datetime.timestamp(x) * 1000)\n",
    "party_labels.tran_timestamp = party_labels.tran_timestamp.values.astype(np.int64)\n",
    "\n",
    "transaction_labels['month'] = pd.to_datetime(transaction_labels['tran_timestamp'], unit='ms').dt.month"
   ]
  },
  {
   "cell_type": "code",
   "execution_count": 23,
   "id": "10691e48-5683-43b0-aba9-547249afd18c",
   "metadata": {},
   "outputs": [],
   "source": [
    "# Extract unique nodes\n",
    "nodes = pd.DataFrame({'id': party_labels['id'].drop_duplicates()})\n",
    "\n",
    "nodes = nodes.rename(columns={\"id\": \"nodeId\"},\n",
    "                     errors=\"raise\")\n",
    "\n",
    "nodes['nodeId'] = [convertToNumber(nodeId) for nodeId in nodes['nodeId']]\n",
    "nodes['nodeId'] = nodes['nodeId'].astype(int)"
   ]
  },
  {
   "cell_type": "code",
   "execution_count": 24,
   "id": "58d0a22a-6649-4eaf-aa57-92f46298a34d",
   "metadata": {},
   "outputs": [
    {
     "data": {
      "text/html": [
       "<div>\n",
       "<style scoped>\n",
       "    .dataframe tbody tr th:only-of-type {\n",
       "        vertical-align: middle;\n",
       "    }\n",
       "\n",
       "    .dataframe tbody tr th {\n",
       "        vertical-align: top;\n",
       "    }\n",
       "\n",
       "    .dataframe thead th {\n",
       "        text-align: right;\n",
       "    }\n",
       "</style>\n",
       "<table border=\"1\" class=\"dataframe\">\n",
       "  <thead>\n",
       "    <tr style=\"text-align: right;\">\n",
       "      <th></th>\n",
       "      <th>nodeId</th>\n",
       "    </tr>\n",
       "  </thead>\n",
       "  <tbody>\n",
       "    <tr>\n",
       "      <th>0</th>\n",
       "      <td>7149011831509628469</td>\n",
       "    </tr>\n",
       "    <tr>\n",
       "      <th>1</th>\n",
       "      <td>4121745159176466785</td>\n",
       "    </tr>\n",
       "    <tr>\n",
       "      <th>2</th>\n",
       "      <td>3544391427334485350</td>\n",
       "    </tr>\n",
       "    <tr>\n",
       "      <th>3</th>\n",
       "      <td>7234019469221574969</td>\n",
       "    </tr>\n",
       "    <tr>\n",
       "      <th>4</th>\n",
       "      <td>7305231555947213666</td>\n",
       "    </tr>\n",
       "  </tbody>\n",
       "</table>\n",
       "</div>"
      ],
      "text/plain": [
       "                nodeId\n",
       "0  7149011831509628469\n",
       "1  4121745159176466785\n",
       "2  3544391427334485350\n",
       "3  7234019469221574969\n",
       "4  7305231555947213666"
      ]
     },
     "execution_count": 24,
     "metadata": {},
     "output_type": "execute_result"
    }
   ],
   "source": [
    "nodes.head(5)"
   ]
  },
  {
   "cell_type": "code",
   "execution_count": null,
   "id": "ad41e9b6-d766-47f6-920a-de265cf25310",
   "metadata": {},
   "outputs": [],
   "source": [
    "len(nodes)"
   ]
  },
  {
   "cell_type": "code",
   "execution_count": null,
   "id": "8834314d-968a-4f44-beb5-124951876833",
   "metadata": {},
   "outputs": [],
   "source": [
    "# Rename transactions into relationships\n",
    "relationships = transaction_labels[['source', 'target', 'tran_id']]\n",
    "\n",
    "relationships = relationships.rename(columns={\"source\": \"sourceNodeId\",\n",
    "                                              \"target\": \"targetNodeId\"},\n",
    "                                     errors=\"raise\")\n",
    "\n",
    "relationships['sourceNodeId'] = [convertToNumber(sourceNodeId) for sourceNodeId in relationships['sourceNodeId']]\n",
    "relationships['sourceNodeId'] = relationships['sourceNodeId'].astype(int)\n",
    "\n",
    "relationships['targetNodeId'] = [convertToNumber(targetNodeId) for targetNodeId in relationships['targetNodeId']]\n",
    "relationships['targetNodeId'] = relationships['targetNodeId'].astype(int)"
   ]
  },
  {
   "cell_type": "code",
   "execution_count": null,
   "id": "676c2e6e-0460-4bf1-8b5f-5adb66c3b440",
   "metadata": {},
   "outputs": [],
   "source": [
    "relationships.head(5)"
   ]
  },
  {
   "cell_type": "code",
   "execution_count": null,
   "id": "48c963f4-5804-47bf-b142-79bcbcd685a4",
   "metadata": {},
   "outputs": [],
   "source": [
    "len(relationships)"
   ]
  },
  {
   "cell_type": "code",
   "execution_count": null,
   "id": "e9f6b479-1051-42d2-8de6-25a7a023c81e",
   "metadata": {},
   "outputs": [],
   "source": [
    "G = gds.graph.construct(\"transactions-graph\", nodes, relationships)"
   ]
  },
  {
   "cell_type": "code",
   "execution_count": null,
   "id": "b22ad90c-8366-4f41-a4b2-0bcfed4e96d4",
   "metadata": {},
   "outputs": [],
   "source": []
  },
  {
   "cell_type": "code",
   "execution_count": null,
   "id": "9b52d2e8-94b0-4264-a3aa-0d68b03de2b8",
   "metadata": {},
   "outputs": [],
   "source": [
    "gds.graph.list()"
   ]
  },
  {
   "cell_type": "code",
   "execution_count": null,
   "id": "ceb1d661-89e0-4dd9-941a-eb7f822346e8",
   "metadata": {},
   "outputs": [],
   "source": [
    "# Check if number of nodes is correctly stored\n",
    "G.node_count() == len(nodes)"
   ]
  },
  {
   "cell_type": "code",
   "execution_count": null,
   "id": "14cbef4f-2cad-48ab-b0d5-498feb217500",
   "metadata": {},
   "outputs": [],
   "source": [
    "# When the graph is no longer needed, it should be dropped to free up memory\n",
    "#G.drop()"
   ]
  },
  {
   "cell_type": "code",
   "execution_count": null,
   "id": "28424261-1a88-4075-8dc0-85754fac5f06",
   "metadata": {},
   "outputs": [],
   "source": [
    "graph_embdeddings_df = gds.node2vec.stream(G)"
   ]
  },
  {
   "cell_type": "code",
   "execution_count": null,
   "id": "1dbb55c4-a039-47d3-b9cf-86126edae4b8",
   "metadata": {},
   "outputs": [],
   "source": [
    "graph_embdeddings_df.head()"
   ]
  },
  {
   "cell_type": "code",
   "execution_count": null,
   "id": "13f9125a-3a7e-44ad-9fe7-d0fed465bc84",
   "metadata": {},
   "outputs": [],
   "source": [
    "graph_embdeddings_df['nodeId'] = [convertFromNumber(nodeId) for nodeId in graph_embdeddings_df['nodeId']]\n",
    "\n",
    "graph_embdeddings_df = graph_embdeddings_df.rename(columns={\"nodeId\": \"id\",\n",
    "                                                           \"embedding\": \"graph_embeddings\"},\n",
    "                                                   errors=\"raise\")"
   ]
  },
  {
   "cell_type": "code",
   "execution_count": null,
   "id": "3ebba909-f216-49c6-b418-ee21d56ab11a",
   "metadata": {},
   "outputs": [],
   "source": [
    "graph_embdeddings_df.head()"
   ]
  },
  {
   "cell_type": "markdown",
   "id": "014de9be",
   "metadata": {},
   "source": [
    "#### Compute time evolving graph embeddings"
   ]
  },
  {
   "cell_type": "code",
   "execution_count": null,
   "id": "9f11a4ca",
   "metadata": {},
   "outputs": [],
   "source": [
    "transaction_graphs_by_month = transaction_labels.groupby(pd.Grouper(key='tran_timestamp', freq='M')).apply(lambda x: construct_graph(x))       "
   ]
  },
  {
   "cell_type": "code",
   "execution_count": null,
   "id": "7812eb06",
   "metadata": {},
   "outputs": [],
   "source": [
    "timestamps = transaction_graphs_by_month.index.values\n",
    "graph_embeddings = transaction_graphs_by_month.tolist()"
   ]
  },
  {
   "cell_type": "code",
   "execution_count": null,
   "id": "c2ec5a6c",
   "metadata": {},
   "outputs": [],
   "source": [
    "graph_embdeddings_df = pd.DataFrame()\n",
    "for timestamp, graph_embedding in zip(timestamps, graph_embeddings):\n",
    "    df_tmp = pd.DataFrame(graph_embedding)\n",
    "    df_tmp[\"tran_timestamp\"] = timestamp\n",
    "    graph_embdeddings_df = pd.concat([graph_embdeddings_df, df_tmp])    \n",
    "graph_embdeddings_df.head(5)"
   ]
  },
  {
   "cell_type": "markdown",
   "id": "4d131c06",
   "metadata": {},
   "source": [
    "#### Convert date time to unix epoc milliseconds "
   ]
  },
  {
   "cell_type": "code",
   "execution_count": null,
   "id": "5df92022",
   "metadata": {},
   "outputs": [],
   "source": [
    "transaction_labels.tran_timestamp = transaction_labels.tran_timestamp.values.astype(np.int64) // 10 ** 6\n",
    "graph_embdeddings_df.tran_timestamp = graph_embdeddings_df.tran_timestamp.values.astype(np.int64) // 10 ** 6\n",
    "party_labels.tran_timestamp = party_labels.tran_timestamp.map(lambda x: datetime.datetime.timestamp(x) * 1000)\n",
    "party_labels.tran_timestamp = party_labels.tran_timestamp.values.astype(np.int64)"
   ]
  },
  {
   "cell_type": "markdown",
   "id": "5a1ed756",
   "metadata": {},
   "source": [
    "---\n",
    "\n",
    "# 👮🏼‍♀️ Data Validation \n",
    "\n",
    "Before you define [feature groups](https://docs.hopsworks.ai/latest/generated/feature_group/) lets define [validation rules](https://docs.hopsworks.ai/latest/generated/feature_validation/) for features. You do expect some of the features to comply with certain *rules* or *expectations*. For example: a transacted amount must be a positive value. In the case of a transacted amount arriving as a negative value you can decide whether to stop it to `write` into a feature group and throw an error or allow it to be written but provide a warning. In the next section you will create feature store `expectations`, attach them to feature groups, and apply them to dataframes being appended to said feature group.\n",
    "\n",
    "#### Data validation with Greate Expectations in Hopsworks\n",
    "You can use GE library for validation in Hopsworks features store. \n",
    "\n",
    "##  <img src=\"../images/icon102.png\" width=\"18px\"></img> Hopsworks feature store\n",
    "\n",
    "The Hopsworks feature feature store library is Apache V2 licensed and available [here](https://github.com/logicalclocks/feature-store-api). The library is currently available for Python and JVM languages such as Scala and Java.\n",
    "In this notebook, we are going to cover Python part.\n",
    "\n",
    "You can find the complete documentation of the library here: \n",
    "\n",
    "The first step is to establish a connection with your Hopsworks feature store instance and retrieve the object that represents the feature store you'll be working with. \n",
    "\n",
    "> By default `connection.get_feature_store()` returns the feature store of the project we are working with. However, it accepts also a project name as parameter to select a different feature store."
   ]
  },
  {
   "cell_type": "code",
   "execution_count": 25,
   "id": "7e85fcb6",
   "metadata": {},
   "outputs": [
    {
     "name": "stdout",
     "output_type": "stream",
     "text": [
      "Connected. Call `.close()` to terminate connection gracefully.\n",
      "\n",
      "Multiple projects found. \n",
      "\n",
      "\t (1) marco\n",
      "\t (2) quickstart_shared\n"
     ]
    },
    {
     "name": "stdin",
     "output_type": "stream",
     "text": [
      "\n",
      "Enter project to access:  1\n"
     ]
    },
    {
     "name": "stdout",
     "output_type": "stream",
     "text": [
      "\n",
      "Logged in to project, explore it here https://c.app.hopsworks.ai:443/p/397461\n",
      "Connected. Call `.close()` to terminate connection gracefully.\n"
     ]
    }
   ],
   "source": [
    "import hopsworks\n",
    "\n",
    "project = hopsworks.login()\n",
    "\n",
    "# Get the feature store handle for the project's feature store\n",
    "fs = project.get_feature_store()"
   ]
  },
  {
   "cell_type": "markdown",
   "id": "6f38294a",
   "metadata": {},
   "source": [
    "### 🔬 Expectations suite"
   ]
  },
  {
   "cell_type": "code",
   "execution_count": 26,
   "id": "2a54651c",
   "metadata": {},
   "outputs": [
    {
     "name": "stdout",
     "output_type": "stream",
     "text": [
      "{ 'data_asset_type': None,\n",
      "  'expectation_suite_name': 'aml_project_validations',\n",
      "  'expectations': [],\n",
      "  'ge_cloud_id': None,\n",
      "  'meta': {'great_expectations_version': '0.14.13'}}\n"
     ]
    }
   ],
   "source": [
    "# Define Expectation Suite - no use of HSFS\n",
    "import great_expectations as ge\n",
    "from pprint import pprint\n",
    "import json\n",
    "\n",
    "expectation_suite = ge.core.ExpectationSuite(expectation_suite_name=\"aml_project_validations\")\n",
    "pprint(expectation_suite.to_json_dict(), indent=2)"
   ]
  },
  {
   "cell_type": "code",
   "execution_count": 27,
   "id": "87b5f8fc",
   "metadata": {},
   "outputs": [
    {
     "data": {
      "text/plain": [
       "{\"meta\": {}, \"expectation_type\": \"expect_column_max_to_be_between\", \"kwargs\": {\"column\": \"monthly_in_count\", \"min_value\": 0, \"max_value\": 10000000}}"
      ]
     },
     "execution_count": 27,
     "metadata": {},
     "output_type": "execute_result"
    }
   ],
   "source": [
    "expectation_suite.add_expectation(\n",
    "  ge.core.ExpectationConfiguration(\n",
    "  expectation_type=\"expect_column_max_to_be_between\",\n",
    "  kwargs={\"column\": \"monthly_in_count\", \"min_value\": 0, \"max_value\": 10000000}) \n",
    ")"
   ]
  },
  {
   "cell_type": "code",
   "execution_count": 28,
   "id": "8a5517d7",
   "metadata": {},
   "outputs": [
    {
     "name": "stdout",
     "output_type": "stream",
     "text": [
      "{\n",
      "  \"meta\": {\n",
      "    \"great_expectations_version\": \"0.14.13\"\n",
      "  },\n",
      "  \"expectations\": [\n",
      "    {\n",
      "      \"meta\": {},\n",
      "      \"expectation_type\": \"expect_column_max_to_be_between\",\n",
      "      \"kwargs\": {\n",
      "        \"column\": \"monthly_in_count\",\n",
      "        \"min_value\": 0,\n",
      "        \"max_value\": 10000000\n",
      "      }\n",
      "    }\n",
      "  ],\n",
      "  \"ge_cloud_id\": null,\n",
      "  \"expectation_suite_name\": \"aml_project_validations\",\n",
      "  \"data_asset_type\": null\n",
      "}\n"
     ]
    }
   ],
   "source": [
    "pprint(expectation_suite)"
   ]
  },
  {
   "cell_type": "markdown",
   "id": "b18207eb",
   "metadata": {},
   "source": [
    "---\n",
    "\n",
    "## <span style=\"color:#ff5f27;\"> 🪄 Register Feature Groups </span>\n",
    "\n",
    "### Feature Groups\n",
    "\n",
    "A `Feature Groups` is a logical grouping of features, and experience has shown, that this grouping generally originates from the features being derived from the same data source. The `Feature Group` lets you save metadata along features, which defines how the Feature Store interprets them, combines them and reproduces training datasets created from them.\n",
    "\n",
    "Generally, the features in a feature group are engineered together in an ingestion job. However, it is possible to have additional jobs to append features to an existing feature group. Furthermore, `feature groups` provide a way of defining a namespace for features, such that you can define features with the same name multiple times, but uniquely identified by the group they are contained in.\n",
    "\n",
    "> It is important to note that `feature groups` are not groupings of features for immediate training of Machine Learning models. Instead, to ensure reusability of features, it is possible to combine features from any number of groups into training datasets."
   ]
  },
  {
   "cell_type": "markdown",
   "id": "fef0fcb6",
   "metadata": {},
   "source": [
    "#### Transactions monthly aggregates feature group"
   ]
  },
  {
   "cell_type": "code",
   "execution_count": 31,
   "id": "a5b0e182",
   "metadata": {},
   "outputs": [
    {
     "name": "stderr",
     "output_type": "stream",
     "text": [
      "DeprecationWarning: Providing event_time as a single-element list is deprecated and will be dropped in future versions. Provide the feature_name string instead.\n"
     ]
    },
    {
     "name": "stdout",
     "output_type": "stream",
     "text": [
      "Feature Group created successfully, explore it at \n",
      "https://c.app.hopsworks.ai:443/p/397461/fs/393284/fg/514422\n",
      "2024-02-12 13:46:05,845 INFO: \t1 expectation(s) included in expectation_suite.\n",
      "Validation succeeded.\n",
      "Validation Report saved successfully, explore a summary at https://c.app.hopsworks.ai:443/p/397461/fs/393284/fg/514422\n"
     ]
    },
    {
     "data": {
      "application/vnd.jupyter.widget-view+json": {
       "model_id": "aa4404843d8f406193b03bc6ff20d059",
       "version_major": 2,
       "version_minor": 0
      },
      "text/plain": [
       "Uploading Dataframe: 0.00% |          | Rows 0/170876 | Elapsed Time: 00:00 | Remaining Time: ?"
      ]
     },
     "metadata": {},
     "output_type": "display_data"
    },
    {
     "name": "stdout",
     "output_type": "stream",
     "text": [
      "Launching job: transactions_monthly_aml_fg_1_offline_fg_materialization\n",
      "Job started successfully, you can follow the progress at \n",
      "https://c.app.hopsworks.ai/p/397461/jobs/named/transactions_monthly_aml_fg_1_offline_fg_materialization/executions\n"
     ]
    },
    {
     "data": {
      "text/plain": [
       "(<hsfs.core.job.Job at 0x2efc8ba00>,\n",
       " {\n",
       "   \"meta\": {\n",
       "     \"great_expectations_version\": \"0.14.13\",\n",
       "     \"expectation_suite_name\": \"aml_project_validations\",\n",
       "     \"run_id\": {\n",
       "       \"run_name\": null,\n",
       "       \"run_time\": \"2024-02-12T12:46:05.844927+00:00\"\n",
       "     },\n",
       "     \"batch_kwargs\": {\n",
       "       \"ge_batch_id\": \"afed250c-c9a4-11ee-811f-a6e5112dcb0c\"\n",
       "     },\n",
       "     \"batch_markers\": {},\n",
       "     \"batch_parameters\": {},\n",
       "     \"validation_time\": \"20240212T124605.844776Z\",\n",
       "     \"expectation_suite_meta\": {\n",
       "       \"great_expectations_version\": \"0.14.13\"\n",
       "     }\n",
       "   },\n",
       "   \"results\": [\n",
       "     {\n",
       "       \"expectation_config\": {\n",
       "         \"meta\": {\n",
       "           \"expectationId\": 322575\n",
       "         },\n",
       "         \"expectation_type\": \"expect_column_max_to_be_between\",\n",
       "         \"kwargs\": {\n",
       "           \"column\": \"monthly_in_count\",\n",
       "           \"min_value\": 0,\n",
       "           \"max_value\": 10000000\n",
       "         }\n",
       "       },\n",
       "       \"meta\": {\n",
       "         \"ingestionResult\": \"INGESTED\",\n",
       "         \"validationTime\": \"2024-02-12T12:46:05.000844Z\"\n",
       "       },\n",
       "       \"exception_info\": {\n",
       "         \"raised_exception\": false,\n",
       "         \"exception_message\": null,\n",
       "         \"exception_traceback\": null\n",
       "       },\n",
       "       \"result\": {\n",
       "         \"observed_value\": 26.0,\n",
       "         \"element_count\": 170876,\n",
       "         \"missing_count\": null,\n",
       "         \"missing_percent\": null\n",
       "       },\n",
       "       \"success\": true\n",
       "     }\n",
       "   ],\n",
       "   \"evaluation_parameters\": {},\n",
       "   \"success\": true,\n",
       "   \"statistics\": {\n",
       "     \"evaluated_expectations\": 1,\n",
       "     \"successful_expectations\": 1,\n",
       "     \"unsuccessful_expectations\": 0,\n",
       "     \"success_percent\": 100.0\n",
       "   }\n",
       " })"
      ]
     },
     "execution_count": 31,
     "metadata": {},
     "output_type": "execute_result"
    }
   ],
   "source": [
    "transactions_fg = fs.get_or_create_feature_group(\n",
    "    name = \"transactions_monthly_aml_fg\",\n",
    "    version = 1,\n",
    "    primary_key = [\"id\"],\n",
    "    partition_key = [\"tran_timestamp\"],   \n",
    "    description = \"transactions monthly aggregates features\",\n",
    "    event_time = 'tran_timestamp',\n",
    "    online_enabled = True,\n",
    "    statistics_config = {\"enabled\": True, \"histograms\": True, \"correlations\": True, \"exact_uniqueness\": False},\n",
    "    expectation_suite=expectation_suite\n",
    ")   \n",
    "\n",
    "transactions_fg.insert(in_out_df)"
   ]
  },
  {
   "cell_type": "markdown",
   "id": "31eb4fe1",
   "metadata": {},
   "source": [
    "#### Alert Transaction labels feature group"
   ]
  },
  {
   "cell_type": "code",
   "execution_count": 37,
   "id": "9de49372",
   "metadata": {},
   "outputs": [
    {
     "name": "stderr",
     "output_type": "stream",
     "text": [
      "DeprecationWarning: Providing event_time as a single-element list is deprecated and will be dropped in future versions. Provide the feature_name string instead.\n"
     ]
    },
    {
     "name": "stdout",
     "output_type": "stream",
     "text": [
      "Feature Group created successfully, explore it at \n",
      "https://c.app.hopsworks.ai:443/p/397461/fs/393284/fg/514424\n"
     ]
    },
    {
     "data": {
      "application/vnd.jupyter.widget-view+json": {
       "model_id": "f87aa999ef0f423fa7bef40d3d469d9e",
       "version_major": 2,
       "version_minor": 0
      },
      "text/plain": [
       "Uploading Dataframe: 0.00% |          | Rows 0/438386 | Elapsed Time: 00:00 | Remaining Time: ?"
      ]
     },
     "metadata": {},
     "output_type": "display_data"
    },
    {
     "name": "stdout",
     "output_type": "stream",
     "text": [
      "Launching job: transaction_labels_aml_fg_1_offline_fg_materialization\n",
      "Job started successfully, you can follow the progress at \n",
      "https://c.app.hopsworks.ai/p/397461/jobs/named/transaction_labels_aml_fg_1_offline_fg_materialization/executions\n"
     ]
    },
    {
     "data": {
      "text/plain": [
       "(<hsfs.core.job.Job at 0x2f11cd5d0>, None)"
      ]
     },
     "execution_count": 37,
     "metadata": {},
     "output_type": "execute_result"
    }
   ],
   "source": [
    "transaction_labels_fg = fs.get_or_create_feature_group(\n",
    "    name = \"transaction_labels_aml_fg\",\n",
    "    version = 1,\n",
    "    primary_key = [\"tran_id\"],\n",
    "    partition_key = [\"month\"],         \n",
    "    description = \"alert transactions\",\n",
    "    event_time = 'tran_timestamp',    \n",
    "    online_enabled = True,                                                \n",
    "    statistics_config = {\"enabled\": True, \"histograms\": True, \"correlations\": True, \"exact_uniqueness\": False}\n",
    ")\n",
    "\n",
    "transaction_labels_fg.insert(transaction_labels)"
   ]
  },
  {
   "cell_type": "markdown",
   "id": "d639f1f2",
   "metadata": {},
   "source": [
    "#### Party feature group"
   ]
  },
  {
   "cell_type": "code",
   "execution_count": 38,
   "id": "5452bc3e",
   "metadata": {},
   "outputs": [
    {
     "name": "stdout",
     "output_type": "stream",
     "text": [
      "Feature Group created successfully, explore it at \n",
      "https://c.app.hopsworks.ai:443/p/397461/fs/393284/fg/516438\n"
     ]
    },
    {
     "data": {
      "application/vnd.jupyter.widget-view+json": {
       "model_id": "f07812ab328b40b6b153dc4889fda4ab",
       "version_major": 2,
       "version_minor": 0
      },
      "text/plain": [
       "Uploading Dataframe: 0.00% |          | Rows 0/7347 | Elapsed Time: 00:00 | Remaining Time: ?"
      ]
     },
     "metadata": {},
     "output_type": "display_data"
    },
    {
     "name": "stdout",
     "output_type": "stream",
     "text": [
      "Launching job: party_aml_fg_1_offline_fg_materialization\n",
      "Job started successfully, you can follow the progress at \n",
      "https://c.app.hopsworks.ai/p/397461/jobs/named/party_aml_fg_1_offline_fg_materialization/executions\n"
     ]
    },
    {
     "data": {
      "text/plain": [
       "(<hsfs.core.job.Job at 0x2f120e7d0>, None)"
      ]
     },
     "execution_count": 38,
     "metadata": {},
     "output_type": "execute_result"
    }
   ],
   "source": [
    "party_fg = fs.get_or_create_feature_group(\n",
    "    name = \"party_aml_fg\",\n",
    "    version = 1,\n",
    "    primary_key = [\"id\"],\n",
    "    description = \"party fg with labels\",\n",
    "    event_time = 'tran_timestamp',        \n",
    "    online_enabled = True,\n",
    "    statistics_config = {\"enabled\": True, \"histograms\": True, \"correlations\": True, \"exact_uniqueness\": False}\n",
    ")\n",
    "\n",
    "party_fg.insert(party_labels)"
   ]
  },
  {
   "cell_type": "markdown",
   "id": "3aa61640",
   "metadata": {},
   "source": [
    "#### Graph embeddings feature group"
   ]
  },
  {
   "cell_type": "code",
   "execution_count": 40,
   "id": "5f2496f8",
   "metadata": {},
   "outputs": [
    {
     "name": "stderr",
     "output_type": "stream",
     "text": [
      "DeprecationWarning: Providing event_time as a single-element list is deprecated and will be dropped in future versions. Provide the feature_name string instead.\n"
     ]
    },
    {
     "name": "stdout",
     "output_type": "stream",
     "text": [
      "Feature Group created successfully, explore it at \n",
      "https://c.app.hopsworks.ai:443/p/397461/fs/393284/fg/514425\n"
     ]
    },
    {
     "data": {
      "application/vnd.jupyter.widget-view+json": {
       "model_id": "cae715c182594dc79928e28876edc0ad",
       "version_major": 2,
       "version_minor": 0
      },
      "text/plain": [
       "Uploading Dataframe: 0.00% |          | Rows 0/170876 | Elapsed Time: 00:00 | Remaining Time: ?"
      ]
     },
     "metadata": {},
     "output_type": "display_data"
    },
    {
     "name": "stdout",
     "output_type": "stream",
     "text": [
      "Launching job: graph_embeddings_aml_fg_1_offline_fg_materialization\n",
      "Job started successfully, you can follow the progress at \n",
      "https://c.app.hopsworks.ai/p/397461/jobs/named/graph_embeddings_aml_fg_1_offline_fg_materialization/executions\n"
     ]
    },
    {
     "data": {
      "text/plain": [
       "(<hsfs.core.job.Job at 0x2f127f310>, None)"
      ]
     },
     "execution_count": 40,
     "metadata": {},
     "output_type": "execute_result"
    }
   ],
   "source": [
    "graph_embeddings_fg = fs.get_or_create_feature_group(name=\"graph_embeddings_aml_fg\",\n",
    "                                       version=1,\n",
    "                                       primary_key=[\"id\"],\n",
    "                                       description=\"node embeddings from transactions graph\",\n",
    "                                       event_time = 'tran_timestamp',     \n",
    "                                       online_enabled=True,                                                \n",
    "                                       statistics_config={\"enabled\": False, \"histograms\": False, \"correlations\": False, \"exact_uniqueness\": False}\n",
    "                                       )\n",
    "\n",
    "graph_embeddings_fg.insert(graph_embdeddings_df)"
   ]
  },
  {
   "cell_type": "markdown",
   "id": "c93fee7b",
   "metadata": {},
   "source": [
    "---"
   ]
  },
  {
   "cell_type": "markdown",
   "id": "cc01883b",
   "metadata": {},
   "source": [
    "## <span style=\"color:#ff5f27;\"> 👓 Exploration </span>\n",
    "\n",
    "### Feature groups are now accessible and searchable in the UI\n",
    "![fg-overview](images/fg_explore.gif)\n",
    "\n",
    "## 📊 Statistics\n",
    "We can explore feature statistics in the feature groups. If statistics was not enabled when feature group was created then this can be done by:\n",
    "\n",
    "```python\n",
    "transactions_fg = fs.get_or_create_feature_group(\n",
    "    name = \"transactions_monthly_fg\", \n",
    "    version = 1)\n",
    "\n",
    "transactions_fg.statistics_config = {\n",
    "    \"enabled\": True,\n",
    "    \"histograms\": True,\n",
    "    \"correlations\": True\n",
    "}\n",
    "\n",
    "transactions_fg.update_statistics_config()\n",
    "transactions_fg.compute_statistics()\n",
    "```"
   ]
  },
  {
   "cell_type": "markdown",
   "id": "22b6b329",
   "metadata": {},
   "source": [
    "![fg-stats](images/freature_group_stats.gif)"
   ]
  },
  {
   "cell_type": "markdown",
   "id": "d2bf84cc",
   "metadata": {},
   "source": [
    "## <span style=\"color:#ff5f27;\"> ⏭️ **Next:** Part 02 </span>\n",
    "    \n",
    "In the following notebook you will use feature groups to create feature viewa and training dataset."
   ]
  },
  {
   "cell_type": "code",
   "execution_count": null,
   "id": "33ba35c8",
   "metadata": {},
   "outputs": [],
   "source": []
  }
 ],
 "metadata": {
  "kernelspec": {
   "display_name": "myenv",
   "language": "python",
   "name": "myenv"
  },
  "language_info": {
   "codemirror_mode": {
    "name": "ipython",
    "version": 3
   },
   "file_extension": ".py",
   "mimetype": "text/x-python",
   "name": "python",
   "nbconvert_exporter": "python",
   "pygments_lexer": "ipython3",
   "version": "3.10.13"
  }
 },
 "nbformat": 4,
 "nbformat_minor": 5
}
