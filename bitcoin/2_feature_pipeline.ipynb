{
 "cells": [
  {
   "cell_type": "markdown",
   "id": "80b7a92c",
   "metadata": {},
   "source": [
    "# <span style=\"font-width:bold; font-size: 3rem; color:#1EB182;\"><img src=\"../images/icon102.png\" width=\"38px\"></img> **Hopsworks Feature Store** </span><span style=\"font-width:bold; font-size: 3rem; color:#333;\">- Part 02: Feature Pipeline</span>\n",
    "\n",
    "[![Open In Colab](https://colab.research.google.com/assets/colab-badge.svg)](https://colab.research.google.com/github/logicalclocks/hopsworks-tutorials/blob/master/bitcoin/2_feature_pipeline.ipynb)\n",
    "\n",
    "\n",
    "## 🗒️ This notebook is divided in 3 sections:\n",
    "1. Parsing Data.\n",
    "2. Feature Group Insertion."
   ]
  },
  {
   "cell_type": "markdown",
   "id": "553bf504",
   "metadata": {},
   "source": [
    "---\n",
    "## <span style=\"color:#ff5f27;\"> 📡 Connecting to Hopsworks Feature Store </span>"
   ]
  },
  {
   "cell_type": "code",
   "execution_count": 1,
   "id": "2626d48d",
   "metadata": {
    "scrolled": true
   },
   "outputs": [
    {
     "name": "stdout",
     "output_type": "stream",
     "text": [
      "Copy your Api Key (first register/login): https://c.app.hopsworks.ai/account/api/generated\n",
      "\n",
      "Paste it here: BchNbcRxlEPQjSwh.9Wq7MMLT7wdAvcexfoPx34CQG9g0Wqhm21h7J3wU6FglxYT8LppTU1b3uDmBg3N0\n",
      "Connected. Call `.close()` to terminate connection gracefully.\n",
      "\n",
      "Logged in to project, explore it here https://c.app.hopsworks.ai:443/p/1152\n"
     ]
    },
    {
     "name": "stderr",
     "output_type": "stream",
     "text": [
      "DeprecationWarning: the imp module is deprecated in favour of importlib; see the module's documentation for alternative uses\n"
     ]
    },
    {
     "name": "stdout",
     "output_type": "stream",
     "text": [
      "Connected. Call `.close()` to terminate connection gracefully.\n"
     ]
    }
   ],
   "source": [
    "import hopsworks\n",
    "\n",
    "project = hopsworks.login()\n",
    "\n",
    "fs = project.get_feature_store()"
   ]
  },
  {
   "cell_type": "markdown",
   "id": "76a069f9",
   "metadata": {},
   "source": [
    "### <span style=\"color:#ff5f27;\"> 📝 Imports</span>"
   ]
  },
  {
   "cell_type": "code",
   "execution_count": 2,
   "id": "5dee9ba3",
   "metadata": {},
   "outputs": [
    {
     "name": "stderr",
     "output_type": "stream",
     "text": [
      "DeprecationWarning: distutils Version classes are deprecated. Use packaging.version instead.\n",
      "DeprecationWarning: distutils Version classes are deprecated. Use packaging.version instead.\n",
      "[nltk_data] Downloading package stopwords to\n",
      "[nltk_data]     C:\\Users\\rkaha\\AppData\\Roaming\\nltk_data...\n",
      "[nltk_data]   Package stopwords is already up-to-date!\n",
      "[nltk_data] Downloading package wordnet to\n",
      "[nltk_data]     C:\\Users\\rkaha\\AppData\\Roaming\\nltk_data...\n",
      "[nltk_data]   Package wordnet is already up-to-date!\n",
      "[nltk_data] Downloading package omw-1.4 to\n",
      "[nltk_data]     C:\\Users\\rkaha\\AppData\\Roaming\\nltk_data...\n",
      "[nltk_data]   Package omw-1.4 is already up-to-date!\n"
     ]
    },
    {
     "data": {
      "text/plain": [
       "True"
      ]
     },
     "execution_count": 2,
     "metadata": {},
     "output_type": "execute_result"
    }
   ],
   "source": [
    "from functions import *\n",
    "\n",
    "from dotenv import load_dotenv\n",
    "load_dotenv()"
   ]
  },
  {
   "cell_type": "markdown",
   "id": "578ff100",
   "metadata": {},
   "source": [
    "---"
   ]
  },
  {
   "cell_type": "markdown",
   "id": "303bb966",
   "metadata": {},
   "source": [
    "## <span style=\"color:#ff5f27;\"> 🧙🏼‍♂️ Parsing Data</span>"
   ]
  },
  {
   "cell_type": "markdown",
   "id": "afbe729a",
   "metadata": {},
   "source": [
    "### <span style='color:#ff5f27'> 📈 Bitcoin Data"
   ]
  },
  {
   "cell_type": "code",
   "execution_count": 3,
   "id": "7c43ee17",
   "metadata": {
    "scrolled": true
   },
   "outputs": [
    {
     "name": "stdout",
     "output_type": "stream",
     "text": [
      "2022-09-29 19:53:47,460 INFO: New instance of unicorn-binance-rest-api_1.5.0-python_3.8.0 on Windows 10 for exchange False started ...\n",
      "2022-09-29 19:53:47,467 INFO: Initiating `colorama_0.4.5`\n"
     ]
    },
    {
     "data": {
      "text/html": [
       "<div>\n",
       "<style scoped>\n",
       "    .dataframe tbody tr th:only-of-type {\n",
       "        vertical-align: middle;\n",
       "    }\n",
       "\n",
       "    .dataframe tbody tr th {\n",
       "        vertical-align: top;\n",
       "    }\n",
       "\n",
       "    .dataframe thead th {\n",
       "        text-align: right;\n",
       "    }\n",
       "</style>\n",
       "<table border=\"1\" class=\"dataframe\">\n",
       "  <thead>\n",
       "    <tr style=\"text-align: right;\">\n",
       "      <th></th>\n",
       "      <th>date</th>\n",
       "      <th>open</th>\n",
       "      <th>high</th>\n",
       "      <th>low</th>\n",
       "      <th>close</th>\n",
       "      <th>volume</th>\n",
       "      <th>quote_av</th>\n",
       "      <th>trades</th>\n",
       "      <th>tb_base_av</th>\n",
       "      <th>tb_quote_av</th>\n",
       "      <th>unix</th>\n",
       "    </tr>\n",
       "  </thead>\n",
       "  <tbody>\n",
       "    <tr>\n",
       "      <th>0</th>\n",
       "      <td>2022-07-31 00:00:00</td>\n",
       "      <td>23644.64</td>\n",
       "      <td>24194.82</td>\n",
       "      <td>23227.31</td>\n",
       "      <td>23293.32</td>\n",
       "      <td>127743.32483</td>\n",
       "      <td>3.028386e+09</td>\n",
       "      <td>4463721</td>\n",
       "      <td>63737.43859</td>\n",
       "      <td>1.511326e+09</td>\n",
       "      <td>1659218400000</td>\n",
       "    </tr>\n",
       "    <tr>\n",
       "      <th>1</th>\n",
       "      <td>2022-08-01 00:00:00</td>\n",
       "      <td>23296.36</td>\n",
       "      <td>23509.68</td>\n",
       "      <td>22850.00</td>\n",
       "      <td>23268.01</td>\n",
       "      <td>144210.16219</td>\n",
       "      <td>3.346372e+09</td>\n",
       "      <td>4775213</td>\n",
       "      <td>71458.39583</td>\n",
       "      <td>1.658446e+09</td>\n",
       "      <td>1659304800000</td>\n",
       "    </tr>\n",
       "    <tr>\n",
       "      <th>2</th>\n",
       "      <td>2022-08-02 00:00:00</td>\n",
       "      <td>23266.90</td>\n",
       "      <td>23459.89</td>\n",
       "      <td>22654.37</td>\n",
       "      <td>22987.79</td>\n",
       "      <td>158073.28225</td>\n",
       "      <td>3.631021e+09</td>\n",
       "      <td>5066511</td>\n",
       "      <td>78122.08501</td>\n",
       "      <td>1.794828e+09</td>\n",
       "      <td>1659391200000</td>\n",
       "    </tr>\n",
       "  </tbody>\n",
       "</table>\n",
       "</div>"
      ],
      "text/plain": [
       "                  date      open      high       low     close        volume  \\\n",
       "0  2022-07-31 00:00:00  23644.64  24194.82  23227.31  23293.32  127743.32483   \n",
       "1  2022-08-01 00:00:00  23296.36  23509.68  22850.00  23268.01  144210.16219   \n",
       "2  2022-08-02 00:00:00  23266.90  23459.89  22654.37  22987.79  158073.28225   \n",
       "\n",
       "       quote_av   trades   tb_base_av   tb_quote_av           unix  \n",
       "0  3.028386e+09  4463721  63737.43859  1.511326e+09  1659218400000  \n",
       "1  3.346372e+09  4775213  71458.39583  1.658446e+09  1659304800000  \n",
       "2  3.631021e+09  5066511  78122.08501  1.794828e+09  1659391200000  "
      ]
     },
     "execution_count": 3,
     "metadata": {},
     "output_type": "execute_result"
    }
   ],
   "source": [
    "df_bitcoin = parse_btc_data(number_of_days_ago=60)\n",
    "df_bitcoin.head(3)"
   ]
  },
  {
   "cell_type": "code",
   "execution_count": 4,
   "id": "5413b453",
   "metadata": {
    "scrolled": true
   },
   "outputs": [
    {
     "data": {
      "text/html": [
       "<div>\n",
       "<style scoped>\n",
       "    .dataframe tbody tr th:only-of-type {\n",
       "        vertical-align: middle;\n",
       "    }\n",
       "\n",
       "    .dataframe tbody tr th {\n",
       "        vertical-align: top;\n",
       "    }\n",
       "\n",
       "    .dataframe thead th {\n",
       "        text-align: right;\n",
       "    }\n",
       "</style>\n",
       "<table border=\"1\" class=\"dataframe\">\n",
       "  <thead>\n",
       "    <tr style=\"text-align: right;\">\n",
       "      <th></th>\n",
       "      <th>date</th>\n",
       "      <th>open</th>\n",
       "      <th>high</th>\n",
       "      <th>low</th>\n",
       "      <th>close</th>\n",
       "      <th>volume</th>\n",
       "      <th>quote_av</th>\n",
       "      <th>trades</th>\n",
       "      <th>tb_base_av</th>\n",
       "      <th>tb_quote_av</th>\n",
       "      <th>...</th>\n",
       "      <th>exp_std_14_days</th>\n",
       "      <th>momentum_14_days</th>\n",
       "      <th>rate_of_change_14_days</th>\n",
       "      <th>strength_index_14_days</th>\n",
       "      <th>std_56_days</th>\n",
       "      <th>exp_mean_56_days</th>\n",
       "      <th>exp_std_56_days</th>\n",
       "      <th>momentum_56_days</th>\n",
       "      <th>rate_of_change_56_days</th>\n",
       "      <th>strength_index_56_days</th>\n",
       "    </tr>\n",
       "  </thead>\n",
       "  <tbody>\n",
       "    <tr>\n",
       "      <th>58</th>\n",
       "      <td>2022-09-27</td>\n",
       "      <td>19226.68</td>\n",
       "      <td>20385.86</td>\n",
       "      <td>18816.32</td>\n",
       "      <td>19079.13</td>\n",
       "      <td>593260.74161</td>\n",
       "      <td>1.170577e+10</td>\n",
       "      <td>8152473</td>\n",
       "      <td>296727.71059</td>\n",
       "      <td>5.856646e+09</td>\n",
       "      <td>...</td>\n",
       "      <td>801.080442</td>\n",
       "      <td>-1094.44</td>\n",
       "      <td>-5.673587</td>\n",
       "      <td>43.161525</td>\n",
       "      <td>1812.655631</td>\n",
       "      <td>20381.397969</td>\n",
       "      <td>1580.307998</td>\n",
       "      <td>-3908.66</td>\n",
       "      <td>-16.386972</td>\n",
       "      <td>41.735544</td>\n",
       "    </tr>\n",
       "    <tr>\n",
       "      <th>59</th>\n",
       "      <td>2022-09-28</td>\n",
       "      <td>19078.10</td>\n",
       "      <td>19790.00</td>\n",
       "      <td>18471.28</td>\n",
       "      <td>19412.82</td>\n",
       "      <td>521385.45547</td>\n",
       "      <td>9.964460e+09</td>\n",
       "      <td>7357437</td>\n",
       "      <td>260944.38118</td>\n",
       "      <td>4.988233e+09</td>\n",
       "      <td>...</td>\n",
       "      <td>745.792496</td>\n",
       "      <td>-813.89</td>\n",
       "      <td>-1.467170</td>\n",
       "      <td>46.316533</td>\n",
       "      <td>1811.372888</td>\n",
       "      <td>20342.896891</td>\n",
       "      <td>1560.210747</td>\n",
       "      <td>-3405.55</td>\n",
       "      <td>-14.189819</td>\n",
       "      <td>42.529903</td>\n",
       "    </tr>\n",
       "    <tr>\n",
       "      <th>60</th>\n",
       "      <td>2022-09-29</td>\n",
       "      <td>19412.82</td>\n",
       "      <td>19645.52</td>\n",
       "      <td>18843.01</td>\n",
       "      <td>19321.16</td>\n",
       "      <td>327694.94420</td>\n",
       "      <td>6.340825e+09</td>\n",
       "      <td>4546630</td>\n",
       "      <td>164040.48246</td>\n",
       "      <td>3.174515e+09</td>\n",
       "      <td>...</td>\n",
       "      <td>694.759853</td>\n",
       "      <td>-380.72</td>\n",
       "      <td>-2.434645</td>\n",
       "      <td>45.568291</td>\n",
       "      <td>1812.900081</td>\n",
       "      <td>20302.471221</td>\n",
       "      <td>1542.100949</td>\n",
       "      <td>-3301.82</td>\n",
       "      <td>-17.120745</td>\n",
       "      <td>42.368349</td>\n",
       "    </tr>\n",
       "  </tbody>\n",
       "</table>\n",
       "<p>3 rows × 33 columns</p>\n",
       "</div>"
      ],
      "text/plain": [
       "         date      open      high       low     close        volume  \\\n",
       "58 2022-09-27  19226.68  20385.86  18816.32  19079.13  593260.74161   \n",
       "59 2022-09-28  19078.10  19790.00  18471.28  19412.82  521385.45547   \n",
       "60 2022-09-29  19412.82  19645.52  18843.01  19321.16  327694.94420   \n",
       "\n",
       "        quote_av   trades    tb_base_av   tb_quote_av  ...  exp_std_14_days  \\\n",
       "58  1.170577e+10  8152473  296727.71059  5.856646e+09  ...       801.080442   \n",
       "59  9.964460e+09  7357437  260944.38118  4.988233e+09  ...       745.792496   \n",
       "60  6.340825e+09  4546630  164040.48246  3.174515e+09  ...       694.759853   \n",
       "\n",
       "    momentum_14_days  rate_of_change_14_days  strength_index_14_days  \\\n",
       "58          -1094.44               -5.673587               43.161525   \n",
       "59           -813.89               -1.467170               46.316533   \n",
       "60           -380.72               -2.434645               45.568291   \n",
       "\n",
       "    std_56_days  exp_mean_56_days  exp_std_56_days  momentum_56_days  \\\n",
       "58  1812.655631      20381.397969      1580.307998          -3908.66   \n",
       "59  1811.372888      20342.896891      1560.210747          -3405.55   \n",
       "60  1812.900081      20302.471221      1542.100949          -3301.82   \n",
       "\n",
       "    rate_of_change_56_days  strength_index_56_days  \n",
       "58              -16.386972               41.735544  \n",
       "59              -14.189819               42.529903  \n",
       "60              -17.120745               42.368349  \n",
       "\n",
       "[3 rows x 33 columns]"
      ]
     },
     "execution_count": 4,
     "metadata": {},
     "output_type": "execute_result"
    }
   ],
   "source": [
    "df_bitcoin_processed = process_btc_data(df_bitcoin)\n",
    "df_bitcoin_processed.tail(3)"
   ]
  },
  {
   "cell_type": "markdown",
   "id": "29acf5b4",
   "metadata": {},
   "source": [
    "---"
   ]
  },
  {
   "cell_type": "markdown",
   "id": "d1c0a5dd",
   "metadata": {},
   "source": [
    "### <span style='color:#ff5f27'> 💭 Tweets Data"
   ]
  },
  {
   "cell_type": "code",
   "execution_count": 5,
   "id": "0b1d735f",
   "metadata": {
    "scrolled": true
   },
   "outputs": [
    {
     "data": {
      "text/html": [
       "<div>\n",
       "<style scoped>\n",
       "    .dataframe tbody tr th:only-of-type {\n",
       "        vertical-align: middle;\n",
       "    }\n",
       "\n",
       "    .dataframe tbody tr th {\n",
       "        vertical-align: top;\n",
       "    }\n",
       "\n",
       "    .dataframe thead th {\n",
       "        text-align: right;\n",
       "    }\n",
       "</style>\n",
       "<table border=\"1\" class=\"dataframe\">\n",
       "  <thead>\n",
       "    <tr style=\"text-align: right;\">\n",
       "      <th></th>\n",
       "      <th>date</th>\n",
       "      <th>text</th>\n",
       "    </tr>\n",
       "  </thead>\n",
       "  <tbody>\n",
       "    <tr>\n",
       "      <th>0</th>\n",
       "      <td>2022-09-23 00:26:04+00:00</td>\n",
       "      <td>Fiat money printing hides incompetence at all ...</td>\n",
       "    </tr>\n",
       "    <tr>\n",
       "      <th>1</th>\n",
       "      <td>2022-09-23 00:51:41+00:00</td>\n",
       "      <td>Why is #bitcoin dropping? And will it fall bel...</td>\n",
       "    </tr>\n",
       "    <tr>\n",
       "      <th>2</th>\n",
       "      <td>2022-09-23 04:37:01+00:00</td>\n",
       "      <td>The colors of money What is your color? #bitco...</td>\n",
       "    </tr>\n",
       "    <tr>\n",
       "      <th>3</th>\n",
       "      <td>2022-09-23 05:38:31+00:00</td>\n",
       "      <td>It’s time to separate money from state. #Bitco...</td>\n",
       "    </tr>\n",
       "    <tr>\n",
       "      <th>4</th>\n",
       "      <td>2022-09-23 06:00:51+00:00</td>\n",
       "      <td>Sometimes, it's just sad to see people who don...</td>\n",
       "    </tr>\n",
       "  </tbody>\n",
       "</table>\n",
       "</div>"
      ],
      "text/plain": [
       "                       date                                               text\n",
       "0 2022-09-23 00:26:04+00:00  Fiat money printing hides incompetence at all ...\n",
       "1 2022-09-23 00:51:41+00:00  Why is #bitcoin dropping? And will it fall bel...\n",
       "2 2022-09-23 04:37:01+00:00  The colors of money What is your color? #bitco...\n",
       "3 2022-09-23 05:38:31+00:00  It’s time to separate money from state. #Bitco...\n",
       "4 2022-09-23 06:00:51+00:00  Sometimes, it's just sad to see people who don..."
      ]
     },
     "execution_count": 5,
     "metadata": {},
     "output_type": "execute_result"
    }
   ],
   "source": [
    "df_tweets_parsed = get_last_tweets()\n",
    "df_tweets_parsed.head()"
   ]
  },
  {
   "cell_type": "code",
   "execution_count": 6,
   "id": "c04b795d",
   "metadata": {},
   "outputs": [
    {
     "data": {
      "text/html": [
       "<div>\n",
       "<style scoped>\n",
       "    .dataframe tbody tr th:only-of-type {\n",
       "        vertical-align: middle;\n",
       "    }\n",
       "\n",
       "    .dataframe tbody tr th {\n",
       "        vertical-align: top;\n",
       "    }\n",
       "\n",
       "    .dataframe thead th {\n",
       "        text-align: right;\n",
       "    }\n",
       "</style>\n",
       "<table border=\"1\" class=\"dataframe\">\n",
       "  <thead>\n",
       "    <tr style=\"text-align: right;\">\n",
       "      <th></th>\n",
       "      <th>date</th>\n",
       "      <th>subjectivity</th>\n",
       "      <th>polarity</th>\n",
       "      <th>unix</th>\n",
       "    </tr>\n",
       "  </thead>\n",
       "  <tbody>\n",
       "    <tr>\n",
       "      <th>0</th>\n",
       "      <td>2022-09-21 00:00:00</td>\n",
       "      <td>4.831750</td>\n",
       "      <td>1.555750</td>\n",
       "      <td>1663711200000</td>\n",
       "    </tr>\n",
       "    <tr>\n",
       "      <th>1</th>\n",
       "      <td>2022-09-22 00:00:00</td>\n",
       "      <td>2.998512</td>\n",
       "      <td>0.786066</td>\n",
       "      <td>1663797600000</td>\n",
       "    </tr>\n",
       "    <tr>\n",
       "      <th>2</th>\n",
       "      <td>2022-09-23 00:00:00</td>\n",
       "      <td>8.131728</td>\n",
       "      <td>1.814836</td>\n",
       "      <td>1663884000000</td>\n",
       "    </tr>\n",
       "    <tr>\n",
       "      <th>3</th>\n",
       "      <td>2022-09-24 00:00:00</td>\n",
       "      <td>2.929545</td>\n",
       "      <td>1.236364</td>\n",
       "      <td>1663970400000</td>\n",
       "    </tr>\n",
       "    <tr>\n",
       "      <th>4</th>\n",
       "      <td>2022-09-25 00:00:00</td>\n",
       "      <td>5.335476</td>\n",
       "      <td>0.001825</td>\n",
       "      <td>1664056800000</td>\n",
       "    </tr>\n",
       "  </tbody>\n",
       "</table>\n",
       "</div>"
      ],
      "text/plain": [
       "                  date  subjectivity  polarity           unix\n",
       "0  2022-09-21 00:00:00      4.831750  1.555750  1663711200000\n",
       "1  2022-09-22 00:00:00      2.998512  0.786066  1663797600000\n",
       "2  2022-09-23 00:00:00      8.131728  1.814836  1663884000000\n",
       "3  2022-09-24 00:00:00      2.929545  1.236364  1663970400000\n",
       "4  2022-09-25 00:00:00      5.335476  0.001825  1664056800000"
      ]
     },
     "execution_count": 6,
     "metadata": {},
     "output_type": "execute_result"
    }
   ],
   "source": [
    "tweets_textblob = textblob_processing(df_tweets_parsed)\n",
    "tweets_textblob.head()"
   ]
  },
  {
   "cell_type": "code",
   "execution_count": 7,
   "id": "38230609",
   "metadata": {
    "scrolled": false
   },
   "outputs": [
    {
     "name": "stderr",
     "output_type": "stream",
     "text": [
      "100%|██████████████████████████████████████████████████████████████████████████████| 159/159 [00:00<00:00, 5124.16it/s]\n"
     ]
    },
    {
     "data": {
      "text/html": [
       "<div>\n",
       "<style scoped>\n",
       "    .dataframe tbody tr th:only-of-type {\n",
       "        vertical-align: middle;\n",
       "    }\n",
       "\n",
       "    .dataframe tbody tr th {\n",
       "        vertical-align: top;\n",
       "    }\n",
       "\n",
       "    .dataframe thead th {\n",
       "        text-align: right;\n",
       "    }\n",
       "</style>\n",
       "<table border=\"1\" class=\"dataframe\">\n",
       "  <thead>\n",
       "    <tr style=\"text-align: right;\">\n",
       "      <th></th>\n",
       "      <th>date</th>\n",
       "      <th>compound</th>\n",
       "      <th>unix</th>\n",
       "    </tr>\n",
       "  </thead>\n",
       "  <tbody>\n",
       "    <tr>\n",
       "      <th>0</th>\n",
       "      <td>2022-09-21 00:00:00</td>\n",
       "      <td>2.7372</td>\n",
       "      <td>1663711200000</td>\n",
       "    </tr>\n",
       "    <tr>\n",
       "      <th>1</th>\n",
       "      <td>2022-09-22 00:00:00</td>\n",
       "      <td>1.5785</td>\n",
       "      <td>1663797600000</td>\n",
       "    </tr>\n",
       "    <tr>\n",
       "      <th>2</th>\n",
       "      <td>2022-09-23 00:00:00</td>\n",
       "      <td>1.3411</td>\n",
       "      <td>1663884000000</td>\n",
       "    </tr>\n",
       "    <tr>\n",
       "      <th>3</th>\n",
       "      <td>2022-09-24 00:00:00</td>\n",
       "      <td>-0.4297</td>\n",
       "      <td>1663970400000</td>\n",
       "    </tr>\n",
       "    <tr>\n",
       "      <th>4</th>\n",
       "      <td>2022-09-25 00:00:00</td>\n",
       "      <td>-0.8352</td>\n",
       "      <td>1664056800000</td>\n",
       "    </tr>\n",
       "  </tbody>\n",
       "</table>\n",
       "</div>"
      ],
      "text/plain": [
       "                  date  compound           unix\n",
       "0  2022-09-21 00:00:00    2.7372  1663711200000\n",
       "1  2022-09-22 00:00:00    1.5785  1663797600000\n",
       "2  2022-09-23 00:00:00    1.3411  1663884000000\n",
       "3  2022-09-24 00:00:00   -0.4297  1663970400000\n",
       "4  2022-09-25 00:00:00   -0.8352  1664056800000"
      ]
     },
     "execution_count": 7,
     "metadata": {},
     "output_type": "execute_result"
    }
   ],
   "source": [
    "tweets_vader = vader_processing(df_tweets_parsed)\n",
    "tweets_vader.head()"
   ]
  },
  {
   "cell_type": "markdown",
   "id": "b3877349",
   "metadata": {},
   "source": [
    "---"
   ]
  },
  {
   "cell_type": "markdown",
   "id": "6cbf5cc5",
   "metadata": {},
   "source": [
    "## <span style=\"color:#ff5f27;\">⬆️ Uploading new data to the Feature Store</span>"
   ]
  },
  {
   "cell_type": "markdown",
   "id": "929c35bb",
   "metadata": {},
   "source": [
    "### <span style='color:#ff5f27'> 📈 Bitcoin Feature Group"
   ]
  },
  {
   "cell_type": "code",
   "execution_count": 8,
   "id": "05241588",
   "metadata": {
    "scrolled": true
   },
   "outputs": [
    {
     "data": {
      "application/vnd.jupyter.widget-view+json": {
       "model_id": "eaf36d1ebb1844fd837f68db166c0ed4",
       "version_major": 2,
       "version_minor": 0
      },
      "text/plain": [
       "Uploading Dataframe: 0.00% |          | Rows 0/61 | Elapsed Time: 00:00 | Remaining Time: ?"
      ]
     },
     "metadata": {},
     "output_type": "display_data"
    },
    {
     "name": "stdout",
     "output_type": "stream",
     "text": [
      "Launching offline feature group backfill job...\n",
      "Backfill Job started successfully, you can follow the progress at \n",
      "https://c.app.hopsworks.ai/p/1152/jobs/named/bitcoin_price_1_offline_fg_backfill/executions\n"
     ]
    },
    {
     "data": {
      "text/plain": [
       "(<hsfs.core.job.Job at 0x1ec96b14df0>, None)"
      ]
     },
     "execution_count": 8,
     "metadata": {},
     "output_type": "execute_result"
    }
   ],
   "source": [
    "btc_price_fg = fs.get_or_create_feature_group(\n",
    "    name='bitcoin_price',\n",
    "    version=1\n",
    ")\n",
    "\n",
    "btc_price_fg.insert(df_bitcoin_processed)"
   ]
  },
  {
   "cell_type": "markdown",
   "id": "303fa7d0",
   "metadata": {},
   "source": [
    "### <span style='color:#ff5f27'> 💭 Tweets Feature Groups"
   ]
  },
  {
   "cell_type": "code",
   "execution_count": 9,
   "id": "028f2f43",
   "metadata": {},
   "outputs": [
    {
     "data": {
      "application/vnd.jupyter.widget-view+json": {
       "model_id": "07f52f84036346ee92acd3fc50e310d6",
       "version_major": 2,
       "version_minor": 0
      },
      "text/plain": [
       "Uploading Dataframe: 0.00% |          | Rows 0/9 | Elapsed Time: 00:00 | Remaining Time: ?"
      ]
     },
     "metadata": {},
     "output_type": "display_data"
    },
    {
     "name": "stdout",
     "output_type": "stream",
     "text": [
      "Launching offline feature group backfill job...\n",
      "Backfill Job started successfully, you can follow the progress at \n",
      "https://c.app.hopsworks.ai/p/1152/jobs/named/bitcoin_tweets_textblob_1_offline_fg_backfill/executions\n"
     ]
    },
    {
     "data": {
      "text/plain": [
       "(<hsfs.core.job.Job at 0x1ec9218f3d0>, None)"
      ]
     },
     "execution_count": 9,
     "metadata": {},
     "output_type": "execute_result"
    }
   ],
   "source": [
    "tweets_textblob_fg = fs.get_or_create_feature_group(\n",
    "    name='bitcoin_tweets_textblob',\n",
    "    version=1\n",
    ")\n",
    "\n",
    "tweets_textblob_fg.insert(tweets_textblob)"
   ]
  },
  {
   "cell_type": "code",
   "execution_count": 10,
   "id": "7290f40f",
   "metadata": {},
   "outputs": [
    {
     "data": {
      "application/vnd.jupyter.widget-view+json": {
       "model_id": "24709a2f78fd4699a2a4e06604cf681f",
       "version_major": 2,
       "version_minor": 0
      },
      "text/plain": [
       "Uploading Dataframe: 0.00% |          | Rows 0/9 | Elapsed Time: 00:00 | Remaining Time: ?"
      ]
     },
     "metadata": {},
     "output_type": "display_data"
    },
    {
     "name": "stdout",
     "output_type": "stream",
     "text": [
      "Launching offline feature group backfill job...\n",
      "Backfill Job started successfully, you can follow the progress at \n",
      "https://c.app.hopsworks.ai/p/1152/jobs/named/bitcoin_tweets_vader_1_offline_fg_backfill/executions\n"
     ]
    },
    {
     "data": {
      "text/plain": [
       "(<hsfs.core.job.Job at 0x1ecf96c8be0>, None)"
      ]
     },
     "execution_count": 10,
     "metadata": {},
     "output_type": "execute_result"
    }
   ],
   "source": [
    "tweets_vader_fg = fs.get_or_create_feature_group(\n",
    "    name='bitcoin_tweets_vader',\n",
    "    version=1\n",
    ")\n",
    "\n",
    "tweets_vader_fg.insert(tweets_vader)"
   ]
  },
  {
   "cell_type": "markdown",
   "id": "c5c193f0",
   "metadata": {},
   "source": [
    "---"
   ]
  }
 ],
 "metadata": {
  "kernelspec": {
   "display_name": "Python 3 (ipykernel)",
   "language": "python",
   "name": "python3"
  },
  "language_info": {
   "codemirror_mode": {
    "name": "ipython",
    "version": 3
   },
   "file_extension": ".py",
   "mimetype": "text/x-python",
   "name": "python",
   "nbconvert_exporter": "python",
   "pygments_lexer": "ipython3",
   "version": "3.8.0"
  }
 },
 "nbformat": 4,
 "nbformat_minor": 5
}
