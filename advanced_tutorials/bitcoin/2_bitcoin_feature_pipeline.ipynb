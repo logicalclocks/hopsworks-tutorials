{
 "cells": [
  {
   "cell_type": "markdown",
   "id": "54e1c59f",
   "metadata": {},
   "source": [
    "# <span style=\"font-width:bold; font-size: 3rem; color:#1EB182;\"><img src=\"../../images/icon102.png\" width=\"38px\"></img> **Hopsworks Feature Store** </span><span style=\"font-width:bold; font-size: 3rem; color:#333;\">- Part 02: Feature Pipeline</span>\n",
    "\n",
    "[![Open In Colab](https://colab.research.google.com/assets/colab-badge.svg)](https://colab.research.google.com/github/logicalclocks/hopsworks-tutorials/blob/master/advanced_tutorials/bitcoin/2_bitcoin_feature_pipeline.ipynb)\n",
    "\n",
    "\n",
    "## 🗒️ This notebook is divided into the following sections:\n",
    "1. Parsing Data.\n",
    "2. Feature Group Insertion."
   ]
  },
  {
   "cell_type": "markdown",
   "id": "e2228834",
   "metadata": {},
   "source": [
    "### <span style=\"color:#ff5f27;\"> 📝 Imports</span>"
   ]
  },
  {
   "cell_type": "code",
   "execution_count": null,
   "id": "38c535bb",
   "metadata": {},
   "outputs": [],
   "source": [
    "!pip install -U hopsworks --quiet\n",
    "\n",
    "!pip install -U unicorn-binance-rest-api --quiet\n",
    "!pip install -U python-dotenv --quiet\n",
    "!pip install -U textblob --quiet\n",
    "!pip install -U vaderSentiment --quiet\n",
    "!pip install -U tweepy --quiet\n",
    "\n",
    "# Hosted notebook environments may not have the local features package\n",
    "import os\n",
    "\n",
    "def need_download_modules():\n",
    "    if 'google.colab' in str(get_ipython()):\n",
    "        return True\n",
    "    if 'HOPSWORKS_PROJECT_ID' in os.environ:\n",
    "        return True\n",
    "    return False\n",
    "\n",
    "if need_download_modules():\n",
    "    print(\"Downloading modules\")\n",
    "    os.system('mkdir -p features')\n",
    "    os.system('cd features && wget https://raw.githubusercontent.com/logicalclocks/hopsworks-tutorials/master/advanced_tutorials/bitcoin/features/bitcoin_price.py')\n",
    "    os.system('cd features && wget https://raw.githubusercontent.com/logicalclocks/hopsworks-tutorials/master/advanced_tutorials/bitcoin/features/tweets.py')\n",
    "else:\n",
    "    print(\"Local environment\")"
   ]
  },
  {
   "cell_type": "code",
   "execution_count": null,
   "id": "76227ee1",
   "metadata": {},
   "outputs": [],
   "source": [
    "# Uncomment and fill in if you are running on Colab\n",
    "# os.environ['TWITTER_API_KEY'] = '{YOUR_API_KEY}'\n",
    "# os.environ['TWITTER_API_SECRET'] = '{YOUR_API_KEY}'\n",
    "# os.environ['TWITTER_ACCESS_TOKEN'] = '{YOUR_API_KEY}'\n",
    "# os.environ['TWITTER_ACCESS_TOKEN_SECRET'] = '{YOUR_API_KEY}'\n",
    "\n",
    "# os.environ['BINANCE_API_KEY'] = '{YOUR_API_KEY}'\n",
    "# os.environ['BINANCE_API_SECRET'] = '{YOUR_API_KEY}'"
   ]
  },
  {
   "cell_type": "code",
   "execution_count": null,
   "id": "d01f6774",
   "metadata": {},
   "outputs": [],
   "source": [
    "import pandas as pd\n",
    "from features import bitcoin_price, tweets"
   ]
  },
  {
   "cell_type": "markdown",
   "id": "08417bba",
   "metadata": {},
   "source": [
    "---\n",
    "## <span style=\"color:#ff5f27;\"> 🧙🏼‍♂️ Parsing Data</span>"
   ]
  },
  {
   "cell_type": "markdown",
   "id": "6b6309c5",
   "metadata": {},
   "source": [
    "You will parse timeseries Bitcoin data from Binance using your own credentials, so you have to get a free Binance account and [create API-keys](https://www.binance.com/en/support/faq/360002502072).\n",
    "\n",
    "Also, you should [contact Twitter](https://developer.twitter.com/en/docs/twitter-api/getting-started/getting-access-to-the-twitter-api) for their API-keys.\n",
    "\n",
    "\n",
    "#### Don't forget to create an `.env` configuration file inside this directory where all the necessary environment variables will be stored:\n",
    "\n",
    "`TWITTER_API_KEY = \"YOUR_API_KEY\"`\n",
    "\n",
    "`TWITTER_API_SECRET = \"YOUR_API_KEY\"`\n",
    "\n",
    "`TWITTER_ACCESS_TOKEN = \"YOUR_API_KEY\"`\n",
    "\n",
    "`TWITTER_ACCESS_TOKEN_SECRET = \"YOUR_API_KEY\"`\n",
    "\n",
    "\n",
    "`BINANCE_API_KEY = \"YOUR_API_KEY\"`\n",
    "\n",
    "`BINANCE_API_SECRET = \"YOUR_API_KEY\"`\n",
    "\n",
    "> If you done it after you run this notebook, restart the Python Kernel (because `functions.py` does not have these variables in his namespace).\n",
    "\n",
    "![](images/api_keys_env_file.png)"
   ]
  },
  {
   "cell_type": "markdown",
   "id": "b2ae340d",
   "metadata": {},
   "source": [
    "### <span style='color:#ff5f27'> 📈 Bitcoin Data"
   ]
  },
  {
   "cell_type": "code",
   "execution_count": null,
   "id": "73b82255",
   "metadata": {
    "scrolled": true
   },
   "outputs": [],
   "source": [
    "# we should take 56+ days because of feature engineering with window aggregations.\n",
    "df_bitcoin = bitcoin_price.parse_btc_data(number_of_days_ago=57)\n",
    "df_bitcoin.head(3)"
   ]
  },
  {
   "cell_type": "code",
   "execution_count": null,
   "id": "a862962f",
   "metadata": {
    "scrolled": true
   },
   "outputs": [],
   "source": [
    "df_bitcoin_processed = bitcoin_price.process_btc_data(df_bitcoin)\n",
    "df_bitcoin_processed.tail(3)"
   ]
  },
  {
   "cell_type": "code",
   "execution_count": null,
   "id": "38a5561f-c52c-4441-9f0d-8401ed286eb8",
   "metadata": {},
   "outputs": [],
   "source": [
    "df_bitcoin_processed.date = df_bitcoin_processed.date.astype(str)"
   ]
  },
  {
   "cell_type": "markdown",
   "id": "df222845",
   "metadata": {},
   "source": [
    "### <span style='color:#ff5f27'> 💭 Tweets Data"
   ]
  },
  {
   "cell_type": "code",
   "execution_count": null,
   "id": "c0444ac9",
   "metadata": {
    "scrolled": true
   },
   "outputs": [],
   "source": [
    "df_tweets_parsed = tweets.get_last_tweets()\n",
    "df_tweets_parsed.head()"
   ]
  },
  {
   "cell_type": "code",
   "execution_count": null,
   "id": "6dca6609",
   "metadata": {},
   "outputs": [],
   "source": [
    "tweets_textblob = tweets.textblob_processing(df_tweets_parsed)"
   ]
  },
  {
   "cell_type": "code",
   "execution_count": null,
   "id": "ac7417cd",
   "metadata": {},
   "outputs": [],
   "source": [
    "tweets_vader = tweets.vader_processing(df_tweets_parsed)"
   ]
  },
  {
   "cell_type": "code",
   "execution_count": null,
   "id": "cc9fd6d8-89bf-4af8-ad69-5a95d79bc076",
   "metadata": {},
   "outputs": [],
   "source": [
    "tweets_textblob.date = tweets_textblob.date.apply(lambda x: x[:10])\n",
    "tweets_vader.date = tweets_vader.date.apply(lambda x: x[:10])"
   ]
  },
  {
   "cell_type": "code",
   "execution_count": null,
   "id": "15d8930b-1a40-4664-9169-ec003c5bf716",
   "metadata": {},
   "outputs": [],
   "source": [
    "tweets_textblob.head()"
   ]
  },
  {
   "cell_type": "markdown",
   "id": "6d5c795f-c97f-44bc-ad16-b6c94de0426a",
   "metadata": {},
   "source": [
    "---"
   ]
  },
  {
   "cell_type": "markdown",
   "id": "763ad2e6-d635-467a-af0b-459d98265ad5",
   "metadata": {
    "tags": []
   },
   "source": [
    "### <span style=\"color:#ff5f27;\"> 📡 Connecting to the Hopsworks Feature Store </span>"
   ]
  },
  {
   "cell_type": "code",
   "execution_count": null,
   "id": "1e5efba4-6fbe-46ec-a4ba-e3f560fdd254",
   "metadata": {},
   "outputs": [],
   "source": [
    "import hopsworks\n",
    "\n",
    "project = hopsworks.login()\n",
    "\n",
    "fs = project.get_feature_store()"
   ]
  },
  {
   "cell_type": "code",
   "execution_count": null,
   "id": "6505c5f6-b7b4-4c4d-ba3e-3012850881ee",
   "metadata": {},
   "outputs": [],
   "source": [
    "btc_price_fg = fs.get_or_create_feature_group(\n",
    "    name='bitcoin_price',\n",
    "    version=1,\n",
    ")\n",
    "\n",
    "tweets_textblob_fg = fs.get_or_create_feature_group(\n",
    "    name='bitcoin_tweets_textblob',\n",
    "    version=1,\n",
    ")\n",
    "\n",
    "tweets_vader_fg = fs.get_or_create_feature_group(\n",
    "    name='bitcoin_tweets_vader',\n",
    "    version=1,\n",
    ")"
   ]
  },
  {
   "cell_type": "markdown",
   "id": "cecb1c40-4299-4c93-9eef-98ee510ec8a4",
   "metadata": {},
   "source": [
    "---"
   ]
  },
  {
   "cell_type": "markdown",
   "id": "b7296a36-2b6b-48a5-b640-abe2cec6c257",
   "metadata": {},
   "source": [
    "### <span style='color:#ff5f27'> 💫 Filling the gap in tweets"
   ]
  },
  {
   "cell_type": "code",
   "execution_count": null,
   "id": "3024a19d-6fb1-457d-9eec-e8a56a47a0ab",
   "metadata": {},
   "outputs": [],
   "source": [
    "btc_dates = btc_price_fg.read().date.sort_values().reset_index(drop=True).astype(str)"
   ]
  },
  {
   "cell_type": "code",
   "execution_count": null,
   "id": "5defd487-69ff-4679-9041-9a62b84bcac2",
   "metadata": {},
   "outputs": [],
   "source": [
    "stored_tweets_df = tweets_textblob_fg.read()"
   ]
  },
  {
   "cell_type": "code",
   "execution_count": null,
   "id": "011fa65f-f99a-41e1-b5db-2086601c2dde",
   "metadata": {},
   "outputs": [],
   "source": [
    "stored_dates = stored_tweets_df.date.apply(lambda x: str(x)[:10]).drop_duplicates().sort_values().reset_index(drop=True)"
   ]
  },
  {
   "cell_type": "code",
   "execution_count": null,
   "id": "ec30f1eb-c366-42b3-ba7b-f9f7c00276dd",
   "metadata": {},
   "outputs": [],
   "source": [
    "btc_dates"
   ]
  },
  {
   "cell_type": "code",
   "execution_count": null,
   "id": "bde40761-fb30-47ec-98eb-1b5399037665",
   "metadata": {},
   "outputs": [],
   "source": [
    "stored_dates"
   ]
  },
  {
   "cell_type": "code",
   "execution_count": null,
   "id": "febd4cec-f9d4-4cbb-a5e5-c49c1d51836a",
   "metadata": {},
   "outputs": [],
   "source": [
    "missing_dates = list(set(btc_dates) - set(stored_dates))"
   ]
  },
  {
   "cell_type": "code",
   "execution_count": null,
   "id": "82cb7210-27bc-450f-a7c4-eb7a2f34e4e4",
   "metadata": {},
   "outputs": [],
   "source": [
    "len(missing_dates)"
   ]
  },
  {
   "cell_type": "code",
   "execution_count": null,
   "id": "3e5c50a7-74ac-4508-a288-9673cc22025f",
   "metadata": {},
   "outputs": [],
   "source": [
    "tweets_textblob_fix = pd.DataFrame(\n",
    "    {\n",
    "        \"date\": missing_dates,\n",
    "        \"subjectivity\": [1] * len(missing_dates),\n",
    "        \"polarity\": [1] * len(missing_dates),\n",
    "    })"
   ]
  },
  {
   "cell_type": "code",
   "execution_count": null,
   "id": "868dc4c8-c5f7-44ca-8aae-6eb429de81c9",
   "metadata": {},
   "outputs": [],
   "source": [
    "tweets_vader_fix = pd.DataFrame(\n",
    "    {\n",
    "        \"date\": missing_dates,\n",
    "        \"compound\": [1] * len(missing_dates),\n",
    "    })"
   ]
  },
  {
   "cell_type": "code",
   "execution_count": null,
   "id": "d41eb4fb-6471-4890-8de5-71a536b9f2c7",
   "metadata": {},
   "outputs": [],
   "source": [
    "tweets_vader_fix"
   ]
  },
  {
   "cell_type": "code",
   "execution_count": null,
   "id": "fde75621-df6e-4e01-826d-06933f04766a",
   "metadata": {},
   "outputs": [],
   "source": [
    "tweets_vader_fix[\"unix\"] = tweets_vader_fix.date.apply(tweets.convert_date_to_unix)\n",
    "tweets_textblob_fix[\"unix\"] = tweets_textblob_fix.date.apply(tweets.convert_date_to_unix)"
   ]
  },
  {
   "cell_type": "code",
   "execution_count": null,
   "id": "a2917dec-55ed-4f44-8a25-ba95391bf7d4",
   "metadata": {},
   "outputs": [],
   "source": [
    "tweets_vader_fix.sort_values(\"date\")"
   ]
  },
  {
   "cell_type": "code",
   "execution_count": null,
   "id": "827a8bfe-f690-4820-9f80-2e339785147f",
   "metadata": {},
   "outputs": [],
   "source": [
    "tweets_vader_batch = pd.concat([tweets_vader_fix, tweets_vader]).sort_values(\"date\").reset_index(drop=True)\n",
    "tweets_textblob_batch = pd.concat([tweets_textblob_fix, tweets_textblob]).sort_values(\"date\").reset_index(drop=True)"
   ]
  },
  {
   "cell_type": "markdown",
   "id": "228f5cd5",
   "metadata": {},
   "source": [
    "---"
   ]
  },
  {
   "cell_type": "markdown",
   "id": "772f675d",
   "metadata": {},
   "source": [
    "## <span style=\"color:#ff5f27;\">⬆️ Uploading new data to the Feature Store</span>"
   ]
  },
  {
   "cell_type": "markdown",
   "id": "be1eb71f",
   "metadata": {},
   "source": [
    "### <span style='color:#ff5f27'> 📈 Bitcoin Feature Group"
   ]
  },
  {
   "cell_type": "code",
   "execution_count": null,
   "id": "3157a4f7",
   "metadata": {
    "scrolled": true
   },
   "outputs": [],
   "source": [
    "btc_price_fg.insert(df_bitcoin_processed)"
   ]
  },
  {
   "cell_type": "markdown",
   "id": "47f1f52a",
   "metadata": {},
   "source": [
    "### <span style='color:#ff5f27'> 💭 Tweets Feature Groups"
   ]
  },
  {
   "cell_type": "code",
   "execution_count": null,
   "id": "a6a8e047",
   "metadata": {},
   "outputs": [],
   "source": [
    "tweets_textblob_fg.insert(tweets_textblob_batch)"
   ]
  },
  {
   "cell_type": "code",
   "execution_count": null,
   "id": "034fc462",
   "metadata": {},
   "outputs": [],
   "source": [
    "tweets_vader_fg.insert(tweets_vader_batch, wait=True)"
   ]
  },
  {
   "cell_type": "markdown",
   "id": "25e42178",
   "metadata": {},
   "source": [
    "## <span style=\"color:#ff5f27;\">⏭️ **Next:** Part 03: Training Pipeline </span>\n",
    "\n",
    "In the next notebook you will create a feature view, training dataset, train a model and register it in Hopsworks Model Registry.\n",
    "\n",
    "[![Open In Colab](https://colab.research.google.com/assets/colab-badge.svg)](https://colab.research.google.com/github/logicalclocks/hopsworks-tutorials/blob/master/advanced_tutorials/bitcoin/3_bitcoin_training_pipeline.ipynb)"
   ]
  }
 ],
 "metadata": {
  "kernelspec": {
   "display_name": "Python 3 (ipykernel)",
   "language": "python",
   "name": "python3"
  },
  "language_info": {
   "codemirror_mode": {
    "name": "ipython",
    "version": 3
   },
   "file_extension": ".py",
   "mimetype": "text/x-python",
   "name": "python",
   "nbconvert_exporter": "python",
   "pygments_lexer": "ipython3",
   "version": "3.9.12"
  }
 },
 "nbformat": 4,
 "nbformat_minor": 5
}
