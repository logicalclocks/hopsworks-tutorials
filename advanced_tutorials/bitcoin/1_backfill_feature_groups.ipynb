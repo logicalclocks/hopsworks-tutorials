{
 "cells": [
  {
   "cell_type": "markdown",
   "id": "b85e89fc",
   "metadata": {},
   "source": [
    "# <span style=\"font-width:bold; font-size: 3rem; color:#1EB182;\"><img src=\"../../images/icon102.png\" width=\"38px\"></img> **Hopsworks Feature Store** </span><span style=\"font-width:bold; font-size: 3rem; color:#333;\">- Part 01: Backfill Features to the Feature Store</span>\n",
    "\n",
    "[![Open In Colab](https://colab.research.google.com/assets/colab-badge.svg)](https://colab.research.google.com/github/logicalclocks/hopsworks-tutorials/blob/master/advanced_tutorials/bitcoin/1_backfill_feature_groups.ipynb)\n",
    "\n",
    "## 🗒️ This notebook is divided into the following sections:\n",
    "1. Fetch historical data \n",
    "2. Connect to the Hopsworks feature store\n",
    "3. Create feature groups and insert them to the feature store\n",
    "\n",
    "![tutorial-flow](../../images/01_featuregroups.png)"
   ]
  },
  {
   "cell_type": "markdown",
   "id": "9829346b",
   "metadata": {},
   "source": [
    "---\n",
    "## <span style=\"color:#ff5f27;\"> 📡 Connecting to Hopsworks Feature Store </span>"
   ]
  },
  {
   "cell_type": "code",
   "execution_count": null,
   "id": "a2f617e0",
   "metadata": {},
   "outputs": [],
   "source": [
    "import hopsworks\n",
    "\n",
    "project = hopsworks.login()\n",
    "\n",
    "fs = project.get_feature_store()"
   ]
  },
  {
   "cell_type": "markdown",
   "id": "4d039117",
   "metadata": {},
   "source": [
    "### Don't forget to create an `.env` configuration file where all the necessary environment variables (API keys) will be stored:\n",
    "![](images/api_keys_env_file.png)"
   ]
  },
  {
   "cell_type": "markdown",
   "id": "b0649ef2",
   "metadata": {},
   "source": [
    "---"
   ]
  },
  {
   "cell_type": "markdown",
   "id": "d0908d65",
   "metadata": {},
   "source": [
    "---"
   ]
  },
  {
   "cell_type": "markdown",
   "id": "cd002f7f",
   "metadata": {},
   "source": [
    "---"
   ]
  },
  {
   "cell_type": "markdown",
   "id": "2c1e8189",
   "metadata": {},
   "source": [
    "### <span style=\"color:#ff5f27;\"> 📝 Imports</span>"
   ]
  },
  {
   "cell_type": "code",
   "execution_count": null,
   "id": "6fa6f4f5",
   "metadata": {},
   "outputs": [],
   "source": [
    "!pip install -U unicorn-binance-rest-api --quiet\n",
    "!pip install -U python-dotenv --quiet"
   ]
  },
  {
   "cell_type": "code",
   "execution_count": null,
   "id": "2c434ee4",
   "metadata": {
    "scrolled": true
   },
   "outputs": [],
   "source": [
    "import pandas as pd\n",
    "\n",
    "from functions import *"
   ]
  },
  {
   "cell_type": "markdown",
   "id": "2796fb87",
   "metadata": {},
   "source": [
    "___"
   ]
  },
  {
   "cell_type": "markdown",
   "id": "4091e69f",
   "metadata": {},
   "source": [
    "## <span style=\"color:#ff5f27;\"> 💽 Loading Data</span>"
   ]
  },
  {
   "cell_type": "markdown",
   "id": "6aa3be4c",
   "metadata": {},
   "source": [
    "### <span style='color:#ff5f27'> 📈 Bitcoin Data"
   ]
  },
  {
   "cell_type": "code",
   "execution_count": null,
   "id": "3277553e",
   "metadata": {},
   "outputs": [],
   "source": [
    "df_bitcoin = parse_btc_data(number_of_days_ago=2000)\n",
    "\n",
    "df_bitcoin = df_bitcoin[(df_bitcoin.date >= '2021-02-05 10:00:00') & (df_bitcoin.date <= '2022-06-04 23:00:00')] \n",
    "df_bitcoin.reset_index(drop=True,inplace=True)\n",
    "\n",
    "df_bitcoin.head(3)"
   ]
  },
  {
   "cell_type": "code",
   "execution_count": null,
   "id": "9c94069d",
   "metadata": {
    "scrolled": true
   },
   "outputs": [],
   "source": [
    "df_bitcoin_processed = process_btc_data(df_bitcoin)\n",
    "df_bitcoin_processed.tail(3)"
   ]
  },
  {
   "cell_type": "markdown",
   "id": "57cb8f29",
   "metadata": {},
   "source": [
    "> Older records may come with time=11pm or time=9pm, but new ones have time=10pm. Thats because of timezones and daylight saving time. Lets apply this function to make unix column usable."
   ]
  },
  {
   "cell_type": "code",
   "execution_count": null,
   "id": "4792d251",
   "metadata": {},
   "outputs": [],
   "source": [
    "def get_hours(unix):\n",
    "    return unix / 3600000 % 24"
   ]
  },
  {
   "cell_type": "code",
   "execution_count": null,
   "id": "969c029f",
   "metadata": {},
   "outputs": [],
   "source": [
    "def fix_unix(unix):\n",
    "    if get_hours(unix) == 23.0:\n",
    "        return unix - 3600000\n",
    "    elif get_hours(unix) == 21.0:\n",
    "        return unix + 3600000\n",
    "    return unix"
   ]
  },
  {
   "cell_type": "code",
   "execution_count": null,
   "id": "33733a10",
   "metadata": {},
   "outputs": [],
   "source": [
    "get_hours(1654293600000)"
   ]
  },
  {
   "cell_type": "code",
   "execution_count": null,
   "id": "b2902a66",
   "metadata": {},
   "outputs": [],
   "source": [
    "df_bitcoin_processed.unix = df_bitcoin_processed.unix.apply(fix_unix)"
   ]
  },
  {
   "cell_type": "markdown",
   "id": "14340708",
   "metadata": {},
   "source": [
    "### <span style='color:#ff5f27'> 💭 Tweets Data"
   ]
  },
  {
   "cell_type": "code",
   "execution_count": null,
   "id": "53c036ad",
   "metadata": {},
   "outputs": [],
   "source": [
    "tweets_textblob = pd.read_csv(\"https://repo.hops.works/dev/davit/bitcoin/tweets_textblob.csv\", index_col=0)\n",
    "tweets_textblob.unix = tweets_textblob.unix.apply(fix_unix)\n",
    "tweets_textblob.head(3)"
   ]
  },
  {
   "cell_type": "code",
   "execution_count": null,
   "id": "8fae4660",
   "metadata": {},
   "outputs": [],
   "source": [
    "tweets_textblob.date = tweets_textblob.date.apply(lambda x: x[:10])"
   ]
  },
  {
   "cell_type": "code",
   "execution_count": null,
   "id": "d9a03f07",
   "metadata": {},
   "outputs": [],
   "source": [
    "tweets_vader = pd.read_csv(\"https://repo.hops.works/dev/davit/bitcoin/tweets_vader.csv\", index_col=0)\n",
    "tweets_vader.unix = tweets_vader.unix.apply(fix_unix)\n",
    "tweets_vader.tail(3)"
   ]
  },
  {
   "cell_type": "code",
   "execution_count": null,
   "id": "5c8bb8c9",
   "metadata": {},
   "outputs": [],
   "source": [
    "tweets_vader.date = tweets_vader.date.apply(lambda x: x[:10])"
   ]
  },
  {
   "cell_type": "markdown",
   "id": "a1244be7",
   "metadata": {},
   "source": [
    "---"
   ]
  },
  {
   "cell_type": "markdown",
   "id": "72003732",
   "metadata": {},
   "source": [
    "## <span style=\"color:#ff5f27;\"> 🪄 Creating Feature Groups </span>"
   ]
  },
  {
   "cell_type": "markdown",
   "id": "c86559c0",
   "metadata": {},
   "source": [
    "### <span style='color:#ff5f27'> 📈 Bitcoin Price Feature Group"
   ]
  },
  {
   "cell_type": "code",
   "execution_count": null,
   "id": "5f01835d",
   "metadata": {
    "scrolled": true
   },
   "outputs": [],
   "source": [
    "btc_price_fg = fs.get_or_create_feature_group(\n",
    "    name='bitcoin_price',\n",
    "    description='Bitcoin price aggregated for days',\n",
    "    version=1,\n",
    "    primary_key=['unix'],\n",
    "    online_enabled=True,\n",
    "    event_time=['unix']\n",
    ")\n",
    "\n",
    "btc_price_fg.insert(df_bitcoin_processed)"
   ]
  },
  {
   "cell_type": "markdown",
   "id": "8d90940a",
   "metadata": {},
   "source": [
    "### <span style='color:#ff5f27'> 💭 Tweets Feature Groups"
   ]
  },
  {
   "cell_type": "code",
   "execution_count": null,
   "id": "553e9a24",
   "metadata": {},
   "outputs": [],
   "source": [
    "tweets_textblob_fg = fs.get_or_create_feature_group(\n",
    "    name='bitcoin_tweets_textblob',\n",
    "    version=1,\n",
    "    primary_key=['unix'],\n",
    "    online_enabled=True,\n",
    "    event_time=['unix']\n",
    ")\n",
    "\n",
    "tweets_textblob_fg.insert(tweets_textblob)"
   ]
  },
  {
   "cell_type": "code",
   "execution_count": null,
   "id": "c89408d1",
   "metadata": {},
   "outputs": [],
   "source": [
    "tweets_vader_fg = fs.get_or_create_feature_group(\n",
    "    name='bitcoin_tweets_vader',\n",
    "    version=1,\n",
    "    primary_key=['unix'],\n",
    "    online_enabled=True,\n",
    "    event_time=['unix']\n",
    ")\n",
    "\n",
    "tweets_vader_fg.insert(tweets_vader)"
   ]
  },
  {
   "cell_type": "markdown",
   "id": "4d6b80c3",
   "metadata": {},
   "source": [
    "---"
   ]
  }
 ],
 "metadata": {
  "kernelspec": {
   "display_name": "Python 3 (ipykernel)",
   "language": "python",
   "name": "python3"
  },
  "language_info": {
   "codemirror_mode": {
    "name": "ipython",
    "version": 3
   },
   "file_extension": ".py",
   "mimetype": "text/x-python",
   "name": "python",
   "nbconvert_exporter": "python",
   "pygments_lexer": "ipython3",
   "version": "3.8.15"
  }
 },
 "nbformat": 4,
 "nbformat_minor": 5
}
