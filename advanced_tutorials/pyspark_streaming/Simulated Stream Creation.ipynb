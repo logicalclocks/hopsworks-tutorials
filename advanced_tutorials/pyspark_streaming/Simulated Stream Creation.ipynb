{
 "cells": [
  {
   "cell_type": "code",
   "execution_count": 1,
   "id": "ba683f8a-3ba8-40aa-bce1-75009fe337b1",
   "metadata": {},
   "outputs": [],
   "source": [
    "# TODO : File Duplicate of create_transaction_stream.py and will be removed recreated for testing"
   ]
  },
  {
   "cell_type": "code",
   "execution_count": 2,
   "id": "bc61381c-9f8e-4fce-aaa2-e25f52216fce",
   "metadata": {},
   "outputs": [
    {
     "name": "stdout",
     "output_type": "stream",
     "text": [
      "Local environment\n"
     ]
    }
   ],
   "source": [
    "# Hosted notebook environments may not have the local features package\n",
    "import os\n",
    "from IPython import get_ipython\n",
    "\n",
    "\n",
    "def need_download_modules():\n",
    "    if 'google.colab' in str(get_ipython()):\n",
    "        return True\n",
    "    if 'HOPSWORKS_PROJECT_ID' in os.environ:\n",
    "        return True\n",
    "    return False\n",
    "\n",
    "if need_download_modules():\n",
    "    print(\"⚙️ Downloading modules...\")\n",
    "    os.system('mkdir -p synthetic_data')\n",
    "    os.system('cd synthetic_data && wget https://raw.githubusercontent.com/manu-sj/hopsworks-tutorials/FSTORE-1107/advanced_tutorials/pyspark_streaming/synthetic_data/synthetic_data.py')\n",
    "    os.system('cd synthetic_data && wget https://raw.githubusercontent.com/manu-sj/hopsworks-tutorials/FSTORE-1107/advanced_tutorials/pyspark_streaming/synthetic_data/create_transaction_stream.py')\n",
    "    os.system('cd synthetic_data && wget https://raw.githubusercontent.com/manu-sj/hopsworks-tutorials/FSTORE-1107/advanced_tutorials/pyspark_streaming/synthetic_data/init_kafka.py')\n",
    "    os.system('cd synthetic_data && wget https://raw.githubusercontent.com/manu-sj/hopsworks-tutorials/FSTORE-1107/advanced_tutorials/pyspark_streaming/synthetic_data/__init__.py')\n",
    "    print('✅ Done!')\n",
    "else:\n",
    "    print(\"Local environment\")"
   ]
  },
  {
   "cell_type": "code",
   "execution_count": 3,
   "id": "3aacce52-7c45-4910-8cad-f58a261fcd9d",
   "metadata": {},
   "outputs": [],
   "source": [
    "from synthetic_data import init_kafka\n",
    "from synthetic_data import synthetic_data\n",
    "import hsfs\n",
    "from hsfs.core.storage_connector_api import StorageConnectorApi\n",
    "from confluent_kafka import Producer"
   ]
  },
  {
   "cell_type": "code",
   "execution_count": null,
   "id": "e3dd27d1-7e9c-4ea4-9937-6c6cc0e381e4",
   "metadata": {},
   "outputs": [],
   "source": [
    "# creating kafka topic and schema\n",
    "init_kafka.init() \n",
    "\n",
    "# Creating simulated data\n",
    "data_simulater = synthetic_data.synthetic_data()\n",
    "credit_cards, trans_df = data_simulater.create_simulated_transactions()\n",
    "#TODO : Remove and make this into a different dataframe\n",
    "trans_df = trans_df.drop([\"fraud_label\"], axis = 1)"
   ]
  },
  {
   "cell_type": "code",
   "execution_count": null,
   "id": "39843ef7-ab0b-475e-aa83-da271146f631",
   "metadata": {},
   "outputs": [],
   "source": [
    "# Getting Kafka Configurations\n",
    "connection = hsfs.connection()\n",
    "fs = connection.get_feature_store()\n",
    "sc_api = StorageConnectorApi()\n",
    "sc = sc_api.get_kafka_connector(fs.id, False)"
   ]
  },
  {
   "cell_type": "code",
   "execution_count": null,
   "id": "2a4a51b6-144e-4c3d-8d31-62cba5dd9dd0",
   "metadata": {},
   "outputs": [],
   "source": [
    "kafka_config = sc.confluent_options()\n",
    "kafka_config[\"group.id\"] = \"test_groupid\"\n",
    "\n",
    "producer = Producer(kafka_config)\n",
    "\n",
    "for index, transaction in trans_df.iterrows():\n",
    "    producer.produce(init_kafka.KAFKA_TOPIC_NAME, transaction.to_json())\n",
    "    producer.flush() # Synchronising read and write blocking call\n",
    "    if index % 100 == 0 :\n",
    "        print(f'index {index}')"
   ]
  }
 ],
 "metadata": {
  "kernelspec": {
   "display_name": "Python 3 (ipykernel)",
   "language": "python",
   "name": "python3"
  },
  "language_info": {
   "codemirror_mode": {
    "name": "ipython",
    "version": 3
   },
   "file_extension": ".py",
   "mimetype": "text/x-python",
   "name": "python",
   "nbconvert_exporter": "python",
   "pygments_lexer": "ipython3",
   "version": "3.8.18"
  }
 },
 "nbformat": 4,
 "nbformat_minor": 5
}
