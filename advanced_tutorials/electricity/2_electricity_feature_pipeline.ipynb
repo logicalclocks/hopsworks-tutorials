{
 "cells": [
  {
   "cell_type": "markdown",
   "id": "3934ffa2",
   "metadata": {},
   "source": [
    "# <span style=\"font-width:bold; font-size: 3rem; color:#1EB182;\">**Hopsworks Feature Store** </span><span style=\"font-width:bold; font-size: 3rem; color:#333;\">- Part 02: Feature Pipeline</span>\n",
    "\n",
    "[![Open In Colab](https://colab.research.google.com/assets/colab-badge.svg)](https://colab.research.google.com/github/logicalclocks/hopsworks-tutorials/blob/master/advanced_tutorials/electricity/2_electricity_feature_pipeline.ipynb)\n",
    "\n",
    "## 🗒️ This notebook is divided into 2 sections:\n",
    "1. Parse Data.\n",
    "2. Insert new data into the Feature Store."
   ]
  },
  {
   "cell_type": "markdown",
   "id": "c04ad0fd",
   "metadata": {},
   "source": [
    "### <span style='color:#ff5f27'> 📝 Imports"
   ]
  },
  {
   "cell_type": "code",
   "execution_count": null,
   "id": "855d8511",
   "metadata": {},
   "outputs": [],
   "source": [
    "!pip install -U hopsworks --quiet\n",
    "\n",
    "# Hosted notebook environments may not have the local features package\n",
    "import os \n",
    "\n",
    "def need_download_modules():\n",
    "    if 'google.colab' in str(get_ipython()):\n",
    "        return True\n",
    "    if 'HOPSWORKS_PROJECT_ID' in os.environ:\n",
    "        return True\n",
    "    return False\n",
    "\n",
    "if need_download_modules():\n",
    "    print(\"⚙️ Downloading modules...\")\n",
    "    os.system('mkdir -p features')\n",
    "    os.system('cd features && wget https://raw.githubusercontent.com/logicalclocks/hopsworks-tutorials/master/advanced_tutorials/electricity/features/electricity_prices.py')\n",
    "    os.system('cd features && wget https://raw.githubusercontent.com/logicalclocks/hopsworks-tutorials/master/advanced_tutorials/electricity/features/meteorological_measurements.py')\n",
    "    print('✅ Done!')\n",
    "else:\n",
    "    print(\"Local environment\")"
   ]
  },
  {
   "cell_type": "code",
   "execution_count": null,
   "id": "d6d3551b",
   "metadata": {},
   "outputs": [],
   "source": [
    "import requests\n",
    "import pandas as pd\n",
    "\n",
    "from features import electricity_prices, meteorological_measurements\n",
    "\n",
    "#ignore warnings\n",
    "import warnings\n",
    "warnings.filterwarnings('ignore')"
   ]
  },
  {
   "cell_type": "markdown",
   "id": "4f6a261e",
   "metadata": {},
   "source": [
    "---"
   ]
  },
  {
   "cell_type": "markdown",
   "id": "6b693d51",
   "metadata": {},
   "source": [
    "## <span style=\"color:#ff5f27;\"> 🪄 Parsing new data</span>"
   ]
  },
  {
   "cell_type": "markdown",
   "id": "a0ec7fdd",
   "metadata": {},
   "source": [
    "### <span style=\"color:#ff5f27;\"> 🌤 Meteorological measurements from SMHI</span>"
   ]
  },
  {
   "cell_type": "code",
   "execution_count": null,
   "id": "22ce0f11",
   "metadata": {},
   "outputs": [],
   "source": [
    "meteorological_measurements_df = meteorological_measurements.fetch_smhi_measurements(\n",
    "    historical_data=False,\n",
    ")\n",
    "meteorological_measurements_df"
   ]
  },
  {
   "cell_type": "markdown",
   "id": "7d4e0f00",
   "metadata": {},
   "source": [
    "### <span style=\"color:#ff5f27;\">💸 Electricity prices per day from NORD POOL</span>"
   ]
  },
  {
   "cell_type": "code",
   "execution_count": null,
   "id": "deab89be",
   "metadata": {},
   "outputs": [],
   "source": [
    "electricity_prices_df = electricity_prices.fetch_electricity_prices(\n",
    "    historical=False,\n",
    ")\n",
    "electricity_prices_df"
   ]
  },
  {
   "cell_type": "markdown",
   "id": "02339f45",
   "metadata": {},
   "source": [
    "---"
   ]
  },
  {
   "cell_type": "markdown",
   "id": "10d3c227",
   "metadata": {},
   "source": [
    "## <span style=\"color:#ff5f27;\"> 📡 Connecting to Hopsworks Feature Store </span>"
   ]
  },
  {
   "cell_type": "code",
   "execution_count": null,
   "id": "990b3bcc",
   "metadata": {},
   "outputs": [],
   "source": [
    "import hopsworks\n",
    "\n",
    "project = hopsworks.login()\n",
    "\n",
    "fs = project.get_feature_store()"
   ]
  },
  {
   "cell_type": "code",
   "execution_count": null,
   "id": "f0ee0ddb",
   "metadata": {},
   "outputs": [],
   "source": [
    "meteorological_measurements_fg = fs.get_or_create_feature_group(\n",
    "    name=\"meteorological_measurements\",\n",
    "    version=1,\n",
    ")\n",
    "\n",
    "electricity_prices_fg = fs.get_or_create_feature_group(\n",
    "    name=\"electricity_prices\",\n",
    "    version=1,\n",
    ")"
   ]
  },
  {
   "cell_type": "markdown",
   "id": "1f274cfa",
   "metadata": {},
   "source": [
    "---"
   ]
  },
  {
   "cell_type": "markdown",
   "id": "ac98c61e",
   "metadata": {},
   "source": [
    "## <span style=\"color:#ff5f27;\">⬆️ Uploading new data to the Feature Store</span>"
   ]
  },
  {
   "cell_type": "code",
   "execution_count": null,
   "id": "1685e809",
   "metadata": {},
   "outputs": [],
   "source": [
    "meteorological_measurements_fg.insert(meteorological_measurements_df)"
   ]
  },
  {
   "cell_type": "code",
   "execution_count": null,
   "id": "493f9ca5",
   "metadata": {},
   "outputs": [],
   "source": [
    "electricity_prices_fg.insert(\n",
    "    electricity_prices_df, \n",
    "    write_options={\"wait_for_job\": True},\n",
    ")"
   ]
  },
  {
   "cell_type": "markdown",
   "id": "fa90f605",
   "metadata": {},
   "source": [
    "---"
   ]
  },
  {
   "cell_type": "markdown",
   "id": "bee8fc86",
   "metadata": {},
   "source": [
    "## <span style=\"color:#ff5f27;\">⏭️ **Next:** Part 03: Training Pipeline </span>\n",
    "\n",
    "In the next notebook, you will create a feature view, training dataset, train a model and save it in model registry.\n",
    "\n",
    "[![Open In Colab](https://colab.research.google.com/assets/colab-badge.svg)](https://colab.research.google.com/github/logicalclocks/hopsworks-tutorials/blob/master/advanced_tutorials/electricity/3_electricity_training_pipeline.ipynb)"
   ]
  }
 ],
 "metadata": {
  "kernelspec": {
   "display_name": "Python 3 (ipykernel)",
   "language": "python",
   "name": "python3"
  },
  "language_info": {
   "codemirror_mode": {
    "name": "ipython",
    "version": 3
   },
   "file_extension": ".py",
   "mimetype": "text/x-python",
   "name": "python",
   "nbconvert_exporter": "python",
   "pygments_lexer": "ipython3",
   "version": "3.9.12"
  }
 },
 "nbformat": 4,
 "nbformat_minor": 5
}
