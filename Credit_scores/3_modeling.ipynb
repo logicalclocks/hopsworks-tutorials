{
 "cells": [
  {
   "cell_type": "markdown",
   "id": "f795e063",
   "metadata": {},
   "source": [
    "# <span style=\"font-width:bold; font-size: 3rem; color:#1EB182;\"><img src=\"images/icon102.png\" width=\"38px\"></img> **Hopsworks Feature Store** </span><span style=\"font-width:bold; font-size: 3rem; color:#333;\">- Part 03: Model training & UI Exploration</span>\n",
    "\n",
    "<span style=\"font-width:bold; font-size: 1.4rem;\">In this last notebook, we will train a model on the dataset we created in the previous tutorial. We will train our model using standard Python and 🤖🤖🤖🤖🤖🤖, although it could just as well be trained with other machine learning frameworks such as Scikit-learn, PySpark, TensorFlow, and PyTorch. We will also show some of the exploration that can be done in Hopsworks, notably the search functions and the lineage. </span>\n",
    "\n",
    "## **🗒️ This notebook is divided in 3 main sections:** \n",
    "1. **Loading the training data.**\n",
    "2. **Train models.**\n",
    "3. **Model's Predictions Visualization.**\n",
    "\n",
    "![tutorial-flow](images/03_model.png)\n",
    "\n",
    "To begin with lets connect to Hopsworks Feature Store"
   ]
  },
  {
   "cell_type": "code",
   "execution_count": 1,
   "id": "0351a88f",
   "metadata": {},
   "outputs": [
    {
     "name": "stdout",
     "output_type": "stream",
     "text": [
      "Connected. Call `.close()` to terminate connection gracefully.\n"
     ]
    }
   ],
   "source": [
    "import hsfs\n",
    "\n",
    "# Create a connection\n",
    "connection = hsfs.connection()\n",
    "\n",
    "# Get the feature store handle for the project's feature store\n",
    "fs = connection.get_feature_store()"
   ]
  },
  {
   "cell_type": "markdown",
   "id": "a1f3d4cd",
   "metadata": {},
   "source": [
    "## <span style=\"color:#ff5f27;\"> ✨ Load Training Data </span>\n",
    "\n",
    "First, we'll need to fetch the training dataset that we created in the previous notebook.\n",
    "\n",
    "To retrieve training dataset from Feature Store we retrieve **Feature View** using `FeatureStore.get_feature_view` method.\n",
    "\n",
    "Then we can use **Feature View** in order to retrieve **training dataset** using `FeatureView.get_training_dataset` method."
   ]
  },
  {
   "cell_type": "code",
   "execution_count": 2,
   "id": "d52a0ffc",
   "metadata": {},
   "outputs": [
    {
     "name": "stderr",
     "output_type": "stream",
     "text": [
      "DeprecationWarning: `should_run_async` will not call `transform_cell` automatically in the future. Please pass the result to `transformed_cell` argument and any exception that happen during thetransform in `preprocessing_exc_tuple` in IPython 7.17 and above.\n"
     ]
    }
   ],
   "source": [
    "feature_view = fs.get_feature_view(\n",
    "    name = \"train_data\",\n",
    "    version = 1\n",
    ")"
   ]
  },
  {
   "cell_type": "code",
   "execution_count": 3,
   "id": "c8bb12bf",
   "metadata": {},
   "outputs": [],
   "source": [
    "# Load data. \n",
    "\n",
    "# td_version, df = feature_view.get_training_dataset_splits(\n",
    "#     splits = {'train': 80, 'validation': 20},\n",
    "#     version = 1\n",
    "# )\n",
    "# X_train = df[\"train\"]\n",
    "# X_val = df['validation']\n",
    "\n",
    "# df"
   ]
  },
  {
   "cell_type": "code",
   "execution_count": 4,
   "id": "ada5bc81",
   "metadata": {},
   "outputs": [
    {
     "name": "stdout",
     "output_type": "stream",
     "text": [
      "2022-06-06 20:15:17,795 INFO: USE `credit_scores_featurestore`\n",
      "2022-06-06 20:15:18,465 INFO: SELECT `fg1`.`sk_id_curr` `sk_id_curr`, `fg1`.`target` `target`, `fg1`.`name_contract_type` `name_contract_type`, `fg1`.`code_gender` `code_gender`, `fg1`.`flag_own_car` `flag_own_car`, `fg1`.`flag_own_realty` `flag_own_realty`, `fg1`.`cnt_children` `cnt_children`, `fg1`.`amt_income_total` `amt_income_total`, `fg1`.`amt_credit` `amt_credit`, `fg1`.`amt_annuity` `amt_annuity`, `fg1`.`amt_goods_price` `amt_goods_price`, `fg1`.`name_type_suite` `name_type_suite`, `fg1`.`name_income_type` `name_income_type`, `fg1`.`name_education_type` `name_education_type`, `fg1`.`name_family_status` `name_family_status`, `fg1`.`name_housing_type` `name_housing_type`, `fg1`.`region_population_relative` `region_population_relative`, `fg1`.`days_birth` `days_birth`, `fg1`.`days_employed` `days_employed`, `fg1`.`days_registration` `days_registration`, `fg1`.`days_id_publish` `days_id_publish`, `fg1`.`flag_mobil` `flag_mobil`, `fg1`.`flag_emp_phone` `flag_emp_phone`, `fg1`.`flag_work_phone` `flag_work_phone`, `fg1`.`flag_cont_mobile` `flag_cont_mobile`, `fg1`.`flag_phone` `flag_phone`, `fg1`.`flag_email` `flag_email`, `fg1`.`cnt_fam_members` `cnt_fam_members`, `fg1`.`region_rating_client` `region_rating_client`, `fg1`.`region_rating_client_w_city` `region_rating_client_w_city`, `fg1`.`weekday_appr_process_start` `weekday_appr_process_start`, `fg1`.`hour_appr_process_start` `hour_appr_process_start`, `fg1`.`reg_region_not_live_region` `reg_region_not_live_region`, `fg1`.`reg_region_not_work_region` `reg_region_not_work_region`, `fg1`.`live_region_not_work_region` `live_region_not_work_region`, `fg1`.`reg_city_not_live_city` `reg_city_not_live_city`, `fg1`.`reg_city_not_work_city` `reg_city_not_work_city`, `fg1`.`live_city_not_work_city` `live_city_not_work_city`, `fg1`.`organization_type` `organization_type`, `fg1`.`ext_source_2` `ext_source_2`, `fg1`.`ext_source_3` `ext_source_3`, `fg1`.`obs_30_cnt_social_circle` `obs_30_cnt_social_circle`, `fg1`.`def_30_cnt_social_circle` `def_30_cnt_social_circle`, `fg1`.`obs_60_cnt_social_circle` `obs_60_cnt_social_circle`, `fg1`.`def_60_cnt_social_circle` `def_60_cnt_social_circle`, `fg1`.`days_last_phone_change` `days_last_phone_change`, `fg1`.`flag_document_2` `flag_document_2`, `fg1`.`flag_document_3` `flag_document_3`, `fg1`.`flag_document_4` `flag_document_4`, `fg1`.`flag_document_5` `flag_document_5`, `fg1`.`flag_document_6` `flag_document_6`, `fg1`.`flag_document_7` `flag_document_7`, `fg1`.`flag_document_8` `flag_document_8`, `fg1`.`flag_document_9` `flag_document_9`, `fg1`.`flag_document_10` `flag_document_10`, `fg1`.`flag_document_11` `flag_document_11`, `fg1`.`flag_document_12` `flag_document_12`, `fg1`.`flag_document_13` `flag_document_13`, `fg1`.`flag_document_14` `flag_document_14`, `fg1`.`flag_document_15` `flag_document_15`, `fg1`.`flag_document_16` `flag_document_16`, `fg1`.`flag_document_17` `flag_document_17`, `fg1`.`flag_document_18` `flag_document_18`, `fg1`.`flag_document_19` `flag_document_19`, `fg1`.`flag_document_20` `flag_document_20`, `fg1`.`flag_document_21` `flag_document_21`, `fg1`.`amt_req_credit_bureau_hour` `amt_req_credit_bureau_hour`, `fg1`.`amt_req_credit_bureau_day` `amt_req_credit_bureau_day`, `fg1`.`amt_req_credit_bureau_week` `amt_req_credit_bureau_week`, `fg1`.`amt_req_credit_bureau_mon` `amt_req_credit_bureau_mon`, `fg1`.`amt_req_credit_bureau_qrt` `amt_req_credit_bureau_qrt`, `fg1`.`amt_req_credit_bureau_year` `amt_req_credit_bureau_year`, `fg0`.`previous_loan_counts` `previous_loan_counts`\n",
      "FROM `credit_scores_featurestore`.`application_train_fg_1` `fg1`\n",
      "INNER JOIN `credit_scores_featurestore`.`previous_loan_counts_fg_1` `fg0` ON `fg1`.`sk_id_curr` = `fg0`.`sk_id_curr`\n"
     ]
    },
    {
     "name": "stderr",
     "output_type": "stream",
     "text": [
      "VersionWarning: No version provided for creating training dataset, incremented version to `5`.\n"
     ]
    },
    {
     "data": {
      "text/html": [
       "<div>\n",
       "<style scoped>\n",
       "    .dataframe tbody tr th:only-of-type {\n",
       "        vertical-align: middle;\n",
       "    }\n",
       "\n",
       "    .dataframe tbody tr th {\n",
       "        vertical-align: top;\n",
       "    }\n",
       "\n",
       "    .dataframe thead th {\n",
       "        text-align: right;\n",
       "    }\n",
       "</style>\n",
       "<table border=\"1\" class=\"dataframe\">\n",
       "  <thead>\n",
       "    <tr style=\"text-align: right;\">\n",
       "      <th></th>\n",
       "      <th>sk_id_curr</th>\n",
       "      <th>target</th>\n",
       "      <th>name_contract_type</th>\n",
       "      <th>code_gender</th>\n",
       "      <th>flag_own_car</th>\n",
       "      <th>flag_own_realty</th>\n",
       "      <th>cnt_children</th>\n",
       "      <th>amt_income_total</th>\n",
       "      <th>amt_credit</th>\n",
       "      <th>amt_annuity</th>\n",
       "      <th>...</th>\n",
       "      <th>flag_document_19</th>\n",
       "      <th>flag_document_20</th>\n",
       "      <th>flag_document_21</th>\n",
       "      <th>amt_req_credit_bureau_hour</th>\n",
       "      <th>amt_req_credit_bureau_day</th>\n",
       "      <th>amt_req_credit_bureau_week</th>\n",
       "      <th>amt_req_credit_bureau_mon</th>\n",
       "      <th>amt_req_credit_bureau_qrt</th>\n",
       "      <th>amt_req_credit_bureau_year</th>\n",
       "      <th>previous_loan_counts</th>\n",
       "    </tr>\n",
       "  </thead>\n",
       "  <tbody>\n",
       "    <tr>\n",
       "      <th>0</th>\n",
       "      <td>140282</td>\n",
       "      <td>0</td>\n",
       "      <td>0</td>\n",
       "      <td>0</td>\n",
       "      <td>0</td>\n",
       "      <td>0</td>\n",
       "      <td>0</td>\n",
       "      <td>112500.0</td>\n",
       "      <td>1046142.0</td>\n",
       "      <td>30717.0</td>\n",
       "      <td>...</td>\n",
       "      <td>0</td>\n",
       "      <td>0</td>\n",
       "      <td>0</td>\n",
       "      <td>0.0</td>\n",
       "      <td>0.0</td>\n",
       "      <td>0.0</td>\n",
       "      <td>0.0</td>\n",
       "      <td>2.0</td>\n",
       "      <td>1.0</td>\n",
       "      <td>2</td>\n",
       "    </tr>\n",
       "    <tr>\n",
       "      <th>1</th>\n",
       "      <td>196458</td>\n",
       "      <td>0</td>\n",
       "      <td>1</td>\n",
       "      <td>0</td>\n",
       "      <td>0</td>\n",
       "      <td>1</td>\n",
       "      <td>0</td>\n",
       "      <td>76500.0</td>\n",
       "      <td>225000.0</td>\n",
       "      <td>11250.0</td>\n",
       "      <td>...</td>\n",
       "      <td>0</td>\n",
       "      <td>0</td>\n",
       "      <td>0</td>\n",
       "      <td>0.0</td>\n",
       "      <td>0.0</td>\n",
       "      <td>0.0</td>\n",
       "      <td>2.0</td>\n",
       "      <td>0.0</td>\n",
       "      <td>1.0</td>\n",
       "      <td>3</td>\n",
       "    </tr>\n",
       "    <tr>\n",
       "      <th>2</th>\n",
       "      <td>194978</td>\n",
       "      <td>0</td>\n",
       "      <td>0</td>\n",
       "      <td>1</td>\n",
       "      <td>1</td>\n",
       "      <td>1</td>\n",
       "      <td>0</td>\n",
       "      <td>112500.0</td>\n",
       "      <td>1585224.0</td>\n",
       "      <td>42637.5</td>\n",
       "      <td>...</td>\n",
       "      <td>0</td>\n",
       "      <td>0</td>\n",
       "      <td>0</td>\n",
       "      <td>0.0</td>\n",
       "      <td>0.0</td>\n",
       "      <td>0.0</td>\n",
       "      <td>0.0</td>\n",
       "      <td>0.0</td>\n",
       "      <td>0.0</td>\n",
       "      <td>8</td>\n",
       "    </tr>\n",
       "    <tr>\n",
       "      <th>3</th>\n",
       "      <td>118340</td>\n",
       "      <td>0</td>\n",
       "      <td>0</td>\n",
       "      <td>0</td>\n",
       "      <td>0</td>\n",
       "      <td>1</td>\n",
       "      <td>1</td>\n",
       "      <td>135000.0</td>\n",
       "      <td>1147500.0</td>\n",
       "      <td>31684.5</td>\n",
       "      <td>...</td>\n",
       "      <td>0</td>\n",
       "      <td>0</td>\n",
       "      <td>0</td>\n",
       "      <td>0.0</td>\n",
       "      <td>0.0</td>\n",
       "      <td>0.0</td>\n",
       "      <td>0.0</td>\n",
       "      <td>2.0</td>\n",
       "      <td>5.0</td>\n",
       "      <td>3</td>\n",
       "    </tr>\n",
       "    <tr>\n",
       "      <th>4</th>\n",
       "      <td>205876</td>\n",
       "      <td>0</td>\n",
       "      <td>0</td>\n",
       "      <td>0</td>\n",
       "      <td>0</td>\n",
       "      <td>0</td>\n",
       "      <td>0</td>\n",
       "      <td>225000.0</td>\n",
       "      <td>396000.0</td>\n",
       "      <td>26505.0</td>\n",
       "      <td>...</td>\n",
       "      <td>0</td>\n",
       "      <td>0</td>\n",
       "      <td>0</td>\n",
       "      <td>0.0</td>\n",
       "      <td>0.0</td>\n",
       "      <td>0.0</td>\n",
       "      <td>1.0</td>\n",
       "      <td>2.0</td>\n",
       "      <td>2.0</td>\n",
       "      <td>3</td>\n",
       "    </tr>\n",
       "  </tbody>\n",
       "</table>\n",
       "<p>5 rows × 73 columns</p>\n",
       "</div>"
      ],
      "text/plain": [
       "   sk_id_curr  target  name_contract_type  code_gender  flag_own_car  \\\n",
       "0      140282       0                   0            0             0   \n",
       "1      196458       0                   1            0             0   \n",
       "2      194978       0                   0            1             1   \n",
       "3      118340       0                   0            0             0   \n",
       "4      205876       0                   0            0             0   \n",
       "\n",
       "   flag_own_realty  cnt_children  amt_income_total  amt_credit  amt_annuity  \\\n",
       "0                0             0          112500.0   1046142.0      30717.0   \n",
       "1                1             0           76500.0    225000.0      11250.0   \n",
       "2                1             0          112500.0   1585224.0      42637.5   \n",
       "3                1             1          135000.0   1147500.0      31684.5   \n",
       "4                0             0          225000.0    396000.0      26505.0   \n",
       "\n",
       "   ...  flag_document_19  flag_document_20  flag_document_21  \\\n",
       "0  ...                 0                 0                 0   \n",
       "1  ...                 0                 0                 0   \n",
       "2  ...                 0                 0                 0   \n",
       "3  ...                 0                 0                 0   \n",
       "4  ...                 0                 0                 0   \n",
       "\n",
       "   amt_req_credit_bureau_hour  amt_req_credit_bureau_day  \\\n",
       "0                         0.0                        0.0   \n",
       "1                         0.0                        0.0   \n",
       "2                         0.0                        0.0   \n",
       "3                         0.0                        0.0   \n",
       "4                         0.0                        0.0   \n",
       "\n",
       "   amt_req_credit_bureau_week  amt_req_credit_bureau_mon  \\\n",
       "0                         0.0                        0.0   \n",
       "1                         0.0                        2.0   \n",
       "2                         0.0                        0.0   \n",
       "3                         0.0                        0.0   \n",
       "4                         0.0                        1.0   \n",
       "\n",
       "   amt_req_credit_bureau_qrt  amt_req_credit_bureau_year  previous_loan_counts  \n",
       "0                        2.0                         1.0                     2  \n",
       "1                        0.0                         1.0                     3  \n",
       "2                        0.0                         0.0                     8  \n",
       "3                        2.0                         5.0                     3  \n",
       "4                        2.0                         2.0                     3  \n",
       "\n",
       "[5 rows x 73 columns]"
      ]
     },
     "execution_count": 4,
     "metadata": {},
     "output_type": "execute_result"
    }
   ],
   "source": [
    "td_version, df = feature_view.get_training_dataset()\n",
    "\n",
    "df.head()"
   ]
  },
  {
   "cell_type": "markdown",
   "id": "59cf3a3f",
   "metadata": {},
   "source": [
    "Let's check the distribution of our target label."
   ]
  },
  {
   "cell_type": "code",
   "execution_count": 5,
   "id": "540bfdff",
   "metadata": {},
   "outputs": [
    {
     "name": "stderr",
     "output_type": "stream",
     "text": [
      "DeprecationWarning: `should_run_async` will not call `transform_cell` automatically in the future. Please pass the result to `transformed_cell` argument and any exception that happen during thetransform in `preprocessing_exc_tuple` in IPython 7.17 and above.\n"
     ]
    },
    {
     "data": {
      "text/plain": [
       "0    0.922725\n",
       "1    0.077275\n",
       "Name: target, dtype: float64"
      ]
     },
     "execution_count": 5,
     "metadata": {},
     "output_type": "execute_result"
    }
   ],
   "source": [
    "df.target.value_counts(normalize=True)"
   ]
  },
  {
   "cell_type": "markdown",
   "id": "583689f0",
   "metadata": {},
   "source": [
    "Notice that the distribution is extremely skewed, which is natural considering that fraudulent transactions make up a tiny part of all transactions. Thus we should somehow address the class imbalance. There are many approaches for this, such as weighting the loss function, over- or undersampling, creating synthetic data, or modifying the decision threshold. In this example, we'll use the simplest method which is to just supply a class weight parameter to our learning algorithm. The class weight will affect how much importance is attached to each class, which in our case means that higher importance will be placed on positive (fraudulent) samples."
   ]
  },
  {
   "cell_type": "markdown",
   "id": "3347c04e",
   "metadata": {},
   "source": [
    "---\n",
    "\n",
    "# <span style=\"color:#ff5f27;\"> 🤖 Modeling</span>\n",
    "\n",
    "#### <span style=\"color:#ff5f27;\">📝 Importing Libraries</span>"
   ]
  },
  {
   "cell_type": "code",
   "execution_count": 6,
   "id": "0ccac0b4",
   "metadata": {},
   "outputs": [
    {
     "name": "stderr",
     "output_type": "stream",
     "text": [
      "DeprecationWarning: `configure_inline_support` is deprecated since IPython 7.23, directly use `matplotlib_inline.backend_inline.configure_inline_support()`\n",
      "DeprecationWarning: Please use `spmatrix` from the `scipy.sparse` namespace, the `scipy.sparse.base` namespace is deprecated.\n",
      "DeprecationWarning: Please use `line_search_wolfe2` from the `scipy.optimize` namespace, the `scipy.optimize.linesearch` namespace is deprecated.\n",
      "DeprecationWarning: Please use `line_search_wolfe1` from the `scipy.optimize` namespace, the `scipy.optimize.linesearch` namespace is deprecated.\n"
     ]
    }
   ],
   "source": [
    "import matplotlib.pyplot as plt\n",
    "import pandas as pd\n",
    "\n",
    "from sklearn.model_selection import train_test_split\n",
    "from sklearn.ensemble import RandomForestClassifier\n",
    "import xgboost as xgb\n",
    "\n",
    "from sklearn.metrics import accuracy_score"
   ]
  },
  {
   "cell_type": "markdown",
   "id": "74f0853d",
   "metadata": {},
   "source": [
    "## <span style=\"color:#ff5f27;\"> 🪓 Data Splitting</span>"
   ]
  },
  {
   "cell_type": "code",
   "execution_count": 7,
   "id": "149f82cb",
   "metadata": {},
   "outputs": [
    {
     "name": "stderr",
     "output_type": "stream",
     "text": [
      "DeprecationWarning: `should_run_async` will not call `transform_cell` automatically in the future. Please pass the result to `transformed_cell` argument and any exception that happen during thetransform in `preprocessing_exc_tuple` in IPython 7.17 and above.\n"
     ]
    }
   ],
   "source": [
    "X_train, X_test, y_train, y_test = train_test_split(\n",
    "    df.drop(['sk_id_curr','target'],axis = 1),\n",
    "    df.target,\n",
    "    test_size = 0.2,\n",
    "    random_state = 42\n",
    ")"
   ]
  },
  {
   "cell_type": "markdown",
   "id": "9fc7a292",
   "metadata": {},
   "source": [
    "---\n",
    "\n",
    "## <span style=\"color:#ff5f27;\"> 🧑🏻‍🔬 RandomForestClassifier</span>"
   ]
  },
  {
   "cell_type": "code",
   "execution_count": 8,
   "id": "c863838a",
   "metadata": {},
   "outputs": [],
   "source": [
    "pos_class_weight = 0.9"
   ]
  },
  {
   "cell_type": "code",
   "execution_count": 9,
   "id": "896eab59",
   "metadata": {},
   "outputs": [
    {
     "data": {
      "text/plain": [
       "RandomForestClassifier(bootstrap=True, ccp_alpha=0.0,\n",
       "                       class_weight={0: 0.09999999999999998, 1: 0.9},\n",
       "                       criterion='gini', max_depth=None, max_features='sqrt',\n",
       "                       max_leaf_nodes=None, max_samples=None,\n",
       "                       min_impurity_decrease=0.0, min_impurity_split=None,\n",
       "                       min_samples_leaf=1, min_samples_split=2,\n",
       "                       min_weight_fraction_leaf=0.0, n_estimators=25, n_jobs=-1,\n",
       "                       oob_score=False, random_state=42, verbose=0,\n",
       "                       warm_start=False)"
      ]
     },
     "execution_count": 9,
     "metadata": {},
     "output_type": "execute_result"
    }
   ],
   "source": [
    "model = RandomForestClassifier(\n",
    "    n_estimators = 25,\n",
    "    max_features = 'sqrt',\n",
    "    class_weight = {0: 1.0 - pos_class_weight, 1: pos_class_weight},\n",
    "    n_jobs = -1,\n",
    "    random_state = 42\n",
    ")\n",
    "\n",
    "model.fit(X_train,y_train)"
   ]
  },
  {
   "cell_type": "code",
   "execution_count": 10,
   "id": "60fcaacf",
   "metadata": {},
   "outputs": [
    {
     "name": "stderr",
     "output_type": "stream",
     "text": [
      "DeprecationWarning: `should_run_async` will not call `transform_cell` automatically in the future. Please pass the result to `transformed_cell` argument and any exception that happen during thetransform in `preprocessing_exc_tuple` in IPython 7.17 and above.\n"
     ]
    },
    {
     "data": {
      "text/plain": [
       "0.919929718875502"
      ]
     },
     "execution_count": 10,
     "metadata": {},
     "output_type": "execute_result"
    }
   ],
   "source": [
    "preds = model.predict(X_test)\n",
    "\n",
    "accuracy_score(y_test, preds)"
   ]
  },
  {
   "cell_type": "markdown",
   "id": "5c4f58a3",
   "metadata": {},
   "source": [
    "---\n",
    "\n",
    "## <span style=\"color:#ff5f27;\"> 🧑🏻‍🔬 XGBoost</span>"
   ]
  },
  {
   "cell_type": "code",
   "execution_count": 11,
   "id": "f17ad1e5",
   "metadata": {},
   "outputs": [
    {
     "name": "stderr",
     "output_type": "stream",
     "text": [
      "DeprecationWarning: `should_run_async` will not call `transform_cell` automatically in the future. Please pass the result to `transformed_cell` argument and any exception that happen during thetransform in `preprocessing_exc_tuple` in IPython 7.17 and above.\n"
     ]
    },
    {
     "data": {
      "text/plain": [
       "XGBClassifier(base_score=0.5, booster='gbtree', callbacks=None,\n",
       "              colsample_bylevel=1, colsample_bynode=1, colsample_bytree=1,\n",
       "              early_stopping_rounds=None, enable_categorical=False,\n",
       "              eval_metric=None, gamma=0, gpu_id=-1, grow_policy='depthwise',\n",
       "              importance_type=None, interaction_constraints='',\n",
       "              learning_rate=0.300000012, max_bin=256, max_cat_to_onehot=4,\n",
       "              max_delta_step=0, max_depth=6, max_leaves=0, min_child_weight=1,\n",
       "              missing=nan, monotone_constraints='()', n_estimators=15, n_jobs=0,\n",
       "              num_parallel_tree=1, objective='binary:logistic',\n",
       "              predictor='auto', random_state=42, reg_alpha=0, ...)"
      ]
     },
     "execution_count": 11,
     "metadata": {},
     "output_type": "execute_result"
    }
   ],
   "source": [
    "xgb_reg = xgb.XGBClassifier(\n",
    "    n_estimators = 15,\n",
    "    random_state = 42\n",
    ")\n",
    "\n",
    "xgb_reg.fit(X_train,y_train)"
   ]
  },
  {
   "cell_type": "code",
   "execution_count": 12,
   "id": "d80d3a24",
   "metadata": {},
   "outputs": [
    {
     "data": {
      "text/plain": [
       "0.9184236947791165"
      ]
     },
     "execution_count": 12,
     "metadata": {},
     "output_type": "execute_result"
    }
   ],
   "source": [
    "preds = xgb_reg.predict(X_test)\n",
    "\n",
    "accuracy_score(y_test, preds)"
   ]
  },
  {
   "cell_type": "markdown",
   "id": "39fa3223",
   "metadata": {},
   "source": [
    "---\n",
    "\n",
    "## <span style=\"color:#ff5f27;\"> 🔬 🧬 Model Predictions Visualization</span>"
   ]
  },
  {
   "cell_type": "code",
   "execution_count": 13,
   "id": "8165d9e8",
   "metadata": {},
   "outputs": [
    {
     "data": {
      "text/html": [
       "        <script type=\"text/javascript\">\n",
       "        window.PlotlyConfig = {MathJaxConfig: 'local'};\n",
       "        if (window.MathJax && window.MathJax.Hub && window.MathJax.Hub.Config) {window.MathJax.Hub.Config({SVG: {font: \"STIX-Web\"}});}\n",
       "        if (typeof require !== 'undefined') {\n",
       "        require.undef(\"plotly\");\n",
       "        requirejs.config({\n",
       "            paths: {\n",
       "                'plotly': ['https://cdn.plot.ly/plotly-2.12.1.min']\n",
       "            }\n",
       "        });\n",
       "        require(['plotly'], function(Plotly) {\n",
       "            window._Plotly = Plotly;\n",
       "        });\n",
       "        }\n",
       "        </script>\n",
       "        "
      ]
     },
     "metadata": {},
     "output_type": "display_data"
    },
    {
     "data": {
      "text/html": [
       "        <script type=\"text/javascript\">\n",
       "        window.PlotlyConfig = {MathJaxConfig: 'local'};\n",
       "        if (window.MathJax && window.MathJax.Hub && window.MathJax.Hub.Config) {window.MathJax.Hub.Config({SVG: {font: \"STIX-Web\"}});}\n",
       "        if (typeof require !== 'undefined') {\n",
       "        require.undef(\"plotly\");\n",
       "        requirejs.config({\n",
       "            paths: {\n",
       "                'plotly': ['https://cdn.plot.ly/plotly-2.12.1.min']\n",
       "            }\n",
       "        });\n",
       "        require(['plotly'], function(Plotly) {\n",
       "            window._Plotly = Plotly;\n",
       "        });\n",
       "        }\n",
       "        </script>\n",
       "        "
      ]
     },
     "metadata": {},
     "output_type": "display_data"
    }
   ],
   "source": [
    "import plotly.express as px\n",
    "import seaborn as sns\n",
    "%matplotlib inline \n",
    "\n",
    "import plotly\n",
    "plotly.offline.init_notebook_mode(connected=True)\n",
    "import plotly.offline as py\n",
    "py.init_notebook_mode(connected=True)"
   ]
  },
  {
   "cell_type": "code",
   "execution_count": 14,
   "id": "b8fc0140",
   "metadata": {},
   "outputs": [
    {
     "name": "stderr",
     "output_type": "stream",
     "text": [
      "/srv/hops/anaconda/envs/theenv/lib/python3.8/site-packages/ipykernel/ipkernel.py:287: DeprecationWarning:\n",
      "\n",
      "`should_run_async` will not call `transform_cell` automatically in the future. Please pass the result to `transformed_cell` argument and any exception that happen during thetransform in `preprocessing_exc_tuple` in IPython 7.17 and above.\n",
      "\n"
     ]
    }
   ],
   "source": [
    "data = X_test.copy()\n",
    "data['labels'] = preds\n",
    "data['real'] = y_test\n",
    "\n",
    "columns = df.apply(pd.Series.var).sort_values(ascending = False).index[:3]"
   ]
  },
  {
   "cell_type": "code",
   "execution_count": 15,
   "id": "e7b76b43",
   "metadata": {},
   "outputs": [
    {
     "data": {
      "image/png": "[encoded data removed]",
      "text/plain": [
       "<Figure size 1152x432 with 2 Axes>"
      ]
     },
     "metadata": {
      "needs_background": "light"
     },
     "output_type": "display_data"
    }
   ],
   "source": [
    "fig,ax = plt.subplots(1,2,figsize = (16,6))\n",
    "\n",
    "ax[0] = px.scatter_3d(data, x=columns[0], y=columns[1], z=columns[2],\n",
    "                    color='labels')\n",
    "\n",
    "ax[1] = px.scatter_3d(data, x=columns[0], y=columns[1], z=columns[2],\n",
    "                    color='real')\n",
    "\n",
    "fig.show('notebook')"
   ]
  },
  {
   "cell_type": "markdown",
   "id": "e91caa21",
   "metadata": {},
   "source": [
    "---"
   ]
  }
 ],
 "metadata": {
  "kernelspec": {
   "display_name": "Python",
   "language": "python",
   "name": "python3"
  },
  "language_info": {
   "codemirror_mode": {
    "name": "ipython",
    "version": 3
   },
   "file_extension": ".py",
   "mimetype": "text/x-python",
   "name": "python",
   "nbconvert_exporter": "python",
   "pygments_lexer": "ipython3",
   "version": "3.8.11"
  }
 },
 "nbformat": 4,
 "nbformat_minor": 5
}