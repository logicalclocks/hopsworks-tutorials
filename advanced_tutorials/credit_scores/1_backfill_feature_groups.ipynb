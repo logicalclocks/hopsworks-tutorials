{
 "cells": [
  {
   "cell_type": "markdown",
   "id": "7958e192",
   "metadata": {},
   "source": [
    "# <span style=\"font-width:bold; font-size: 3rem; color:#1EB182;\"><img src=\"../../images/icon102.png\" width=\"38px\"></img> **Hopsworks Feature Store** </span><span style=\"font-width:bold; font-size: 3rem; color:#333;\">- Part 01: Backfill Features to the Feature Store</span>\n",
    "\n",
    "[![Open In Colab](https://colab.research.google.com/assets/colab-badge.svg)](https://colab.research.google.com/github/logicalclocks/hopsworks-tutorials/blob/master/advanced_tutorials/credit_scores/1_backfill_feature_groups.ipynb)\n",
    "\n",
    "## 🗒️ This notebook is divided into the following sections:\n",
    "1. Fetch historical data\n",
    "2. Connect to the Hopsworks feature store\n",
    "3. Create feature groups and insert them to the feature store\n",
    "4. Data Visualization\n",
    "\n",
    "![tutorial-flow](../../images/01_featuregroups.png)"
   ]
  },
  {
   "cell_type": "code",
   "execution_count": 1,
   "id": "7c841ee4",
   "metadata": {},
   "outputs": [],
   "source": [
    "# !pip uninstall hopsworks -y\n",
    "# !pip install -U hopsworks --quiet"
   ]
  },
  {
   "cell_type": "markdown",
   "id": "e04ae9f1",
   "metadata": {},
   "source": [
    "## <span style='color:#ff5f27'> 📝 Imports"
   ]
  },
  {
   "cell_type": "code",
   "execution_count": 1,
   "id": "226f9190",
   "metadata": {},
   "outputs": [],
   "source": [
    "import pandas as pd\n",
    "import numpy as np\n",
    "import matplotlib.pyplot as plt\n",
    "import seaborn as sns\n",
    "\n",
    "from functions import *"
   ]
  },
  {
   "cell_type": "markdown",
   "id": "d589cd3b",
   "metadata": {},
   "source": [
    "## <span style=\"color:#ff5f27;\"> 💽 Loading the Data </span>"
   ]
  },
  {
   "cell_type": "markdown",
   "id": "cefb3e61",
   "metadata": {},
   "source": [
    "#### <span style=\"color:#ff5f27;\">⛳️ Application Train dataset</span>\n",
    "\n",
    "The main training dataset contains information about each loan application at Home Credit. Every loan has its own row and is identified by the feature **SK_ID_CURR**. This dataset has binary target indicating if the loan was repaid(0) or not(1)."
   ]
  },
  {
   "cell_type": "code",
   "execution_count": 2,
   "id": "989a8561",
   "metadata": {},
   "outputs": [
    {
     "data": {
      "text/plain": [
       "0"
      ]
     },
     "execution_count": 2,
     "metadata": {},
     "output_type": "execute_result"
    }
   ],
   "source": [
    "application_org = pd.read_csv(\"https://repo.hops.works/dev/davit/credit_scores/applications.csv\")\n",
    "application_org.head()"
   ]
  },
  {
   "cell_type": "markdown",
   "id": "b763193c",
   "metadata": {},
   "source": [
    "#### <span style=\"color:#ff5f27;\">⛳️ Bureau Balance dataset</span>\n",
    "\n",
    "Dataset contains monthly data about the previous credits in bureau. Each row is one month of a previous credit, and a single previous credit can have multiple rows, one for each month of the credit length."
   ]
  },
  {
   "cell_type": "code",
   "execution_count": 3,
   "id": "2937eff7",
   "metadata": {},
   "outputs": [
    {
     "data": {
      "text/plain": [
       "0"
      ]
     },
     "execution_count": 3,
     "metadata": {},
     "output_type": "execute_result"
    }
   ],
   "source": [
    "bureau_balance = pd.read_csv('https://repo.hops.works/dev/davit/credit_scores/bureau_balances.csv')\n",
    "\n",
    "bureau_balance.head()"
   ]
  },
  {
   "cell_type": "markdown",
   "id": "872713a6",
   "metadata": {},
   "source": [
    "#### <span style=\"color:#ff5f27;\">⛳️ Bureau Dataset</span>\n",
    "\n",
    "Dataset contains data about client's previous credits from other financial institutions. Each previous credit has its own row in bureau, but one loan in the application data can have multiple previous credits."
   ]
  },
  {
   "cell_type": "code",
   "execution_count": 4,
   "id": "7d3ba868",
   "metadata": {},
   "outputs": [
    {
     "data": {
      "text/plain": [
       "0"
      ]
     },
     "execution_count": 4,
     "metadata": {},
     "output_type": "execute_result"
    }
   ],
   "source": [
    "bureau = pd.read_csv('https://repo.hops.works/dev/davit/credit_scores/bureaus.csv')\n",
    "\n",
    "bureau.head()"
   ]
  },
  {
   "cell_type": "markdown",
   "id": "64a9edb1",
   "metadata": {},
   "source": [
    "#### <span style=\"color:#ff5f27;\">⛳️ Credit Card Balance Dataset</span>\n",
    "\n",
    "Dataset contains monthly data about previous credit cards clients have had with Home Credit. Each row is one month of a credit card balance, and a single credit card can have many rows."
   ]
  },
  {
   "cell_type": "code",
   "execution_count": 5,
   "id": "b26c4abb",
   "metadata": {},
   "outputs": [
    {
     "data": {
      "text/plain": [
       "0"
      ]
     },
     "execution_count": 5,
     "metadata": {},
     "output_type": "execute_result"
    }
   ],
   "source": [
    "credit_card_balance = pd.read_csv('https://repo.hops.works/dev/davit/credit_scores/credit_card_balances.csv')\n",
    "\n",
    "credit_card_balance.head()"
   ]
  },
  {
   "cell_type": "markdown",
   "id": "d54ba6bf",
   "metadata": {},
   "source": [
    "#### <span style=\"color:#ff5f27;\">⛳️ Installments Payments Dataset</span>\n",
    "\n",
    "Dataset contains payment history for previous loans at Home Credit. There is one row for every made payment and one row for every missed payment."
   ]
  },
  {
   "cell_type": "code",
   "execution_count": 6,
   "id": "3f623167",
   "metadata": {},
   "outputs": [
    {
     "data": {
      "text/plain": [
       "0"
      ]
     },
     "execution_count": 6,
     "metadata": {},
     "output_type": "execute_result"
    }
   ],
   "source": [
    "installments_payments = pd.read_csv('https://repo.hops.works/dev/davit/credit_scores/installment_payments.csv')\n",
    "\n",
    "installments_payments.head()"
   ]
  },
  {
   "cell_type": "markdown",
   "id": "5fee5ff5",
   "metadata": {},
   "source": [
    "#### <span style=\"color:#ff5f27;\">⛳️ POS (point of sales) and Cash Loans Balance Dataset</span>\n",
    "\n",
    "Monthly balance snapshots of previous POS (point of sales) and cash loans that the applicant had with Home Credit.\n",
    "\n",
    "This table has one row for each month of history of every previous credit in Home Credit (consumer credit and cash loans) related to loans in our sample"
   ]
  },
  {
   "cell_type": "code",
   "execution_count": 7,
   "id": "81dfba17",
   "metadata": {},
   "outputs": [
    {
     "data": {
      "text/plain": [
       "0"
      ]
     },
     "execution_count": 7,
     "metadata": {},
     "output_type": "execute_result"
    }
   ],
   "source": [
    "pos_cash_balance = pd.read_csv('https://repo.hops.works/dev/davit/credit_scores/pos_cash_balances.csv')\n",
    "\n",
    "pos_cash_balance.head()"
   ]
  },
  {
   "cell_type": "markdown",
   "id": "ce2ab3fb",
   "metadata": {},
   "source": [
    "#### <span style=\"color:#ff5f27;\">⛳️ Previous Application Dataset</span>\n",
    "\n",
    "All previous applications for Home Credit loans of clients who have loans in our sample.\n",
    "\n",
    "There is one row for each previous application related to loans in our data sample."
   ]
  },
  {
   "cell_type": "code",
   "execution_count": 8,
   "id": "0e0c308b",
   "metadata": {},
   "outputs": [
    {
     "data": {
      "text/plain": [
       "0"
      ]
     },
     "execution_count": 8,
     "metadata": {},
     "output_type": "execute_result"
    }
   ],
   "source": [
    "previous_application = pd.read_csv('https://repo.hops.works/dev/davit/credit_scores/previous_applications.csv')\n",
    "\n",
    "previous_application.head()"
   ]
  },
  {
   "cell_type": "markdown",
   "id": "d2d4567c",
   "metadata": {},
   "source": [
    "---\n",
    "\n",
    "## <span style=\"color:#ff5f27;\"> 🛠️ Feature Engineering </span>"
   ]
  },
  {
   "cell_type": "markdown",
   "id": "f697fa16",
   "metadata": {},
   "source": [
    "#### <span style=\"color:#ff5f27;\"> ⛳️ Dataset with amount of previous loans</span>"
   ]
  },
  {
   "cell_type": "code",
   "execution_count": 10,
   "id": "4740c3e0",
   "metadata": {},
   "outputs": [
    {
     "data": {
      "text/html": [
       "<div>\n",
       "<style scoped>\n",
       "    .dataframe tbody tr th:only-of-type {\n",
       "        vertical-align: middle;\n",
       "    }\n",
       "\n",
       "    .dataframe tbody tr th {\n",
       "        vertical-align: top;\n",
       "    }\n",
       "\n",
       "    .dataframe thead th {\n",
       "        text-align: right;\n",
       "    }\n",
       "</style>\n",
       "<table border=\"1\" class=\"dataframe\">\n",
       "  <thead>\n",
       "    <tr style=\"text-align: right;\">\n",
       "      <th></th>\n",
       "      <th>sk_id_curr</th>\n",
       "      <th>previous_loan_counts</th>\n",
       "    </tr>\n",
       "  </thead>\n",
       "  <tbody>\n",
       "    <tr>\n",
       "      <th>0</th>\n",
       "      <td>100082</td>\n",
       "      <td>10</td>\n",
       "    </tr>\n",
       "    <tr>\n",
       "      <th>1</th>\n",
       "      <td>100083</td>\n",
       "      <td>2</td>\n",
       "    </tr>\n",
       "    <tr>\n",
       "      <th>2</th>\n",
       "      <td>100128</td>\n",
       "      <td>9</td>\n",
       "    </tr>\n",
       "    <tr>\n",
       "      <th>3</th>\n",
       "      <td>100157</td>\n",
       "      <td>5</td>\n",
       "    </tr>\n",
       "    <tr>\n",
       "      <th>4</th>\n",
       "      <td>100414</td>\n",
       "      <td>10</td>\n",
       "    </tr>\n",
       "  </tbody>\n",
       "</table>\n",
       "</div>"
      ],
      "text/plain": [
       "   sk_id_curr  previous_loan_counts\n",
       "0      100082                    10\n",
       "1      100083                     2\n",
       "2      100128                     9\n",
       "3      100157                     5\n",
       "4      100414                    10"
      ]
     },
     "execution_count": 10,
     "metadata": {},
     "output_type": "execute_result"
    }
   ],
   "source": [
    "previous_loan_counts = bureau.groupby('sk_id_curr', as_index=False)['sk_id_bureau'].count().rename(columns = {'sk_id_bureau': 'previous_loan_counts'})\n",
    "\n",
    "previous_loan_counts.head()"
   ]
  },
  {
   "cell_type": "markdown",
   "id": "8263773f",
   "metadata": {},
   "source": [
    "---\n",
    "\n",
    "## <span style=\"color:#ff5f27;\">👨🏻‍⚖️ Dealing with missing values</span>"
   ]
  },
  {
   "cell_type": "code",
   "execution_count": 11,
   "id": "189bc247",
   "metadata": {},
   "outputs": [],
   "source": [
    "application = remove_nans(application_org)\n",
    "bureau = remove_nans(bureau)\n",
    "credit_card_balance.dropna(inplace = True)\n",
    "installments_payments.dropna(inplace = True)\n",
    "pos_cash_balance.dropna(inplace = True)\n",
    "previous_application = remove_nans(previous_application)"
   ]
  },
  {
   "cell_type": "markdown",
   "id": "d9d7c3e0",
   "metadata": {},
   "source": [
    "---\n",
    "## <span style=\"color:#ff5f27;\">🔬 🧬 Subsampling Data</span>\n",
    "\n",
    "Our datasets have a lot of data. So we are going to subsample them in order to save our time.\n",
    "\n"
   ]
  },
  {
   "cell_type": "code",
   "execution_count": 12,
   "id": "4e3f8ea8",
   "metadata": {},
   "outputs": [],
   "source": [
    "applications_sample = get_subsample(application)\n",
    "bureau_balance_sample = get_subsample(bureau_balance)\n",
    "bureau_sample = get_subsample(bureau)\n",
    "credit_card_balance_sample = get_subsample(credit_card_balance)\n",
    "installments_payments_sample = get_subsample(installments_payments)\n",
    "pos_cash_balance_sample = get_subsample(pos_cash_balance)\n",
    "previous_application_sample = get_subsample(previous_application)"
   ]
  },
  {
   "cell_type": "markdown",
   "id": "197fb726",
   "metadata": {},
   "source": [
    "## <span style=\"color:#ff5f27;\"> 🔮 Connecting to Hopsworks Feature Store </span>"
   ]
  },
  {
   "cell_type": "code",
   "execution_count": 13,
   "id": "028a89a6",
   "metadata": {},
   "outputs": [
    {
     "name": "stdout",
     "output_type": "stream",
     "text": [
      "Connected. Call `.close()` to terminate connection gracefully.\n",
      "\n",
      "Logged in to project, explore it here https://c.app.hopsworks.ai:443/p/398\n",
      "Connected. Call `.close()` to terminate connection gracefully.\n"
     ]
    }
   ],
   "source": [
    "import hopsworks\n",
    "\n",
    "project = hopsworks.login()\n",
    "\n",
    "fs = project.get_feature_store() "
   ]
  },
  {
   "cell_type": "code",
   "execution_count": 14,
   "id": "9b061d98",
   "metadata": {},
   "outputs": [
    {
     "name": "stdout",
     "output_type": "stream",
     "text": [
      "Feature Store Name: dowlingj_featurestore\n",
      "Feature Store Description: Featurestore database for project: dowlingj\n"
     ]
    }
   ],
   "source": [
    "print(f'Feature Store Name: {fs.name}')\n",
    "print(f'Feature Store Description: {fs.description}')"
   ]
  },
  {
   "cell_type": "markdown",
   "id": "0b431722",
   "metadata": {},
   "source": [
    "---\n",
    "\n",
    "## <span style=\"color:#ff5f27;\"> 🪄 Creating Feature Groups </span>\n",
    "\n",
    "A `Feature Groups` is a logical grouping of features, and experience has shown, that this grouping generally originates from the features being derived from the same data source. The `Feature Group` lets you save metadata along features.\n",
    "\n",
    "Generally, the features in a feature group are engineered together in an ingestion job. However, it is possible to have additional jobs to append features to an existing feature group. Furthermore, `Feature Groups` provide a way of defining a namespace for features, such that you can define features with the same name multiple times, but uniquely identified by the group they are contained in.\n",
    "\n",
    "> It is important to note that `Feature Groups` are not groupings of features for immediate training of Machine Learning models. Instead, to ensure reusability of features, it is possible to combine features from any number of groups into **Feature View**."
   ]
  },
  {
   "cell_type": "markdown",
   "id": "4e0f9bea",
   "metadata": {},
   "source": [
    "### <span style=\"color:#ff5f27;\">⛳️Creating Applications Feature Group </span>"
   ]
  },
  {
   "cell_type": "code",
   "execution_count": 15,
   "id": "4a019363",
   "metadata": {},
   "outputs": [
    {
     "name": "stdout",
     "output_type": "stream",
     "text": [
      "Feature Group created successfully, explore it at \n",
      "https://c.app.hopsworks.ai:443/p/398/fs/335/fg/21941\n"
     ]
    },
    {
     "data": {
      "application/vnd.jupyter.widget-view+json": {
       "model_id": "4e851c200d7f45de996e4bba78f21b43",
       "version_major": 2,
       "version_minor": 0
      },
      "text/plain": [
       "Uploading Dataframe: 0.00% |          | Rows 0/498 | Elapsed Time: 00:00 | Remaining Time: ?"
      ]
     },
     "metadata": {},
     "output_type": "display_data"
    },
    {
     "name": "stdout",
     "output_type": "stream",
     "text": [
      "Launching offline feature group backfill job...\n",
      "Backfill Job started successfully, you can follow the progress at \n",
      "https://c.app.hopsworks.ai/p/398/jobs/named/application_1_offline_fg_backfill/executions\n"
     ]
    },
    {
     "data": {
      "text/plain": [
       "(<hsfs.core.job.Job at 0x7fcda9ee3550>, None)"
      ]
     },
     "execution_count": 15,
     "metadata": {},
     "output_type": "execute_result"
    }
   ],
   "source": [
    "application.columns = [col_name.lower() for col_name in application.columns]\n",
    "\n",
    "application_fg = fs.get_or_create_feature_group(\n",
    "    name = 'application',\n",
    "    version = 1,\n",
    "    primary_key = ['sk_id_curr'],\n",
    "    online_enabled = False\n",
    ")\n",
    "\n",
    "application_fg.insert(applications_sample, write_options={\"wait_for_job\" : False})"
   ]
  },
  {
   "cell_type": "markdown",
   "id": "c79ae102",
   "metadata": {},
   "source": [
    "#### <span style=\"color:#ff5f27;\"> ⛳️ Bureau Balance Feature Group</span>"
   ]
  },
  {
   "cell_type": "code",
   "execution_count": 16,
   "id": "e9d480d3",
   "metadata": {},
   "outputs": [
    {
     "data": {
      "application/vnd.jupyter.widget-view+json": {
       "model_id": "081eb5a0aa7f42f7ba371d4063b93378",
       "version_major": 2,
       "version_minor": 0
      },
      "text/plain": [
       "Uploading Dataframe: 0.00% |          | Rows 0/2067 | Elapsed Time: 00:00 | Remaining Time: ?"
      ]
     },
     "metadata": {},
     "output_type": "display_data"
    },
    {
     "name": "stdout",
     "output_type": "stream",
     "text": [
      "Launching offline feature group backfill job...\n",
      "Backfill Job started successfully, you can follow the progress at \n",
      "https://c.app.hopsworks.ai/p/398/jobs/named/bureau_balance_1_offline_fg_backfill/executions\n"
     ]
    },
    {
     "data": {
      "text/plain": [
       "(<hsfs.core.job.Job at 0x7fcdb3da3940>, None)"
      ]
     },
     "execution_count": 16,
     "metadata": {},
     "output_type": "execute_result"
    }
   ],
   "source": [
    "bureau_balance.columns = [col_name.lower() for col_name in bureau_balance.columns]\n",
    "\n",
    "bureau_balance_fg = fs.get_or_create_feature_group(\n",
    "    name = 'bureau_balance',\n",
    "    version = 1,\n",
    "    primary_key = ['sk_id_bureau'],\n",
    "    online_enabled = False\n",
    ")\n",
    "\n",
    "bureau_balance_fg.insert(bureau_balance_sample, write_options={\"wait_for_job\" : False})"
   ]
  },
  {
   "cell_type": "markdown",
   "id": "90720df5",
   "metadata": {},
   "source": [
    "#### <span style=\"color:#ff5f27;\"> ⛳️ Bureau Feature Group</span>"
   ]
  },
  {
   "cell_type": "code",
   "execution_count": 17,
   "id": "83835caf",
   "metadata": {},
   "outputs": [
    {
     "name": "stdout",
     "output_type": "stream",
     "text": [
      "Feature Group created successfully, explore it at \n",
      "https://c.app.hopsworks.ai:443/p/398/fs/335/fg/21942\n"
     ]
    },
    {
     "data": {
      "application/vnd.jupyter.widget-view+json": {
       "model_id": "20cb2bdad50444fa94613da262d902d7",
       "version_major": 2,
       "version_minor": 0
      },
      "text/plain": [
       "Uploading Dataframe: 0.00% |          | Rows 0/3187 | Elapsed Time: 00:00 | Remaining Time: ?"
      ]
     },
     "metadata": {},
     "output_type": "display_data"
    },
    {
     "name": "stdout",
     "output_type": "stream",
     "text": [
      "Launching offline feature group backfill job...\n",
      "Backfill Job started successfully, you can follow the progress at \n",
      "https://c.app.hopsworks.ai/p/398/jobs/named/bureau_1_offline_fg_backfill/executions\n"
     ]
    },
    {
     "data": {
      "text/plain": [
       "(<hsfs.core.job.Job at 0x7fcda86b5d90>, None)"
      ]
     },
     "execution_count": 17,
     "metadata": {},
     "output_type": "execute_result"
    }
   ],
   "source": [
    "bureau.columns = [col_name.lower() for col_name in bureau.columns]\n",
    "\n",
    "bureau_fg = fs.get_or_create_feature_group(\n",
    "    name = 'bureau',\n",
    "    version = 1,\n",
    "    primary_key = ['sk_id_curr','sk_id_bureau'],\n",
    "    online_enabled = False\n",
    ")\n",
    "\n",
    "bureau_fg.insert(bureau_sample, write_options={\"wait_for_job\" : False})"
   ]
  },
  {
   "cell_type": "markdown",
   "id": "f715d59a",
   "metadata": {},
   "source": [
    "#### <span style=\"color:#ff5f27;\"> ⛳️ Previous Application Feature Group</span>"
   ]
  },
  {
   "cell_type": "code",
   "execution_count": 41,
   "id": "c1197460",
   "metadata": {},
   "outputs": [
    {
     "name": "stdout",
     "output_type": "stream",
     "text": [
      "Feature Group created successfully, explore it at \n",
      "https://c.app.hopsworks.ai:443/p/398/fs/335/fg/21948\n"
     ]
    },
    {
     "data": {
      "application/vnd.jupyter.widget-view+json": {
       "model_id": "a8af6ae9ffd14fe3acee820e763ead43",
       "version_major": 2,
       "version_minor": 0
      },
      "text/plain": [
       "Uploading Dataframe: 0.00% |          | Rows 0/5228 | Elapsed Time: 00:00 | Remaining Time: ?"
      ]
     },
     "metadata": {},
     "output_type": "display_data"
    },
    {
     "name": "stdout",
     "output_type": "stream",
     "text": [
      "Launching offline feature group backfill job...\n",
      "Backfill Job started successfully, you can follow the progress at \n",
      "https://c.app.hopsworks.ai/p/398/jobs/named/previous_application_1_offline_fg_backfill/executions\n"
     ]
    },
    {
     "data": {
      "text/plain": [
       "(<hsfs.core.job.Job at 0x7fcda3280c10>, None)"
      ]
     },
     "execution_count": 41,
     "metadata": {},
     "output_type": "execute_result"
    }
   ],
   "source": [
    "previous_application.columns = [col_name.lower() for col_name in previous_application.columns]\n",
    "\n",
    "previous_application_fg = fs.get_or_create_feature_group(\n",
    "    name = 'previous_application',\n",
    "    version = 1,\n",
    "    primary_key = ['sk_id_prev','sk_id_curr'],\n",
    "    online_enabled = False\n",
    ")\n",
    "\n",
    "previous_application_fg.insert(previous_application_sample, write_options={\"wait_for_job\" : False})"
   ]
  },
  {
   "cell_type": "code",
   "execution_count": 40,
   "id": "f993dcb0",
   "metadata": {},
   "outputs": [
    {
     "data": {
      "text/html": [
       "<div>\n",
       "<style scoped>\n",
       "    .dataframe tbody tr th:only-of-type {\n",
       "        vertical-align: middle;\n",
       "    }\n",
       "\n",
       "    .dataframe tbody tr th {\n",
       "        vertical-align: top;\n",
       "    }\n",
       "\n",
       "    .dataframe thead th {\n",
       "        text-align: right;\n",
       "    }\n",
       "</style>\n",
       "<table border=\"1\" class=\"dataframe\">\n",
       "  <thead>\n",
       "    <tr style=\"text-align: right;\">\n",
       "      <th></th>\n",
       "      <th>sk_id_prev</th>\n",
       "      <th>sk_id_curr</th>\n",
       "      <th>name_contract_type</th>\n",
       "      <th>amt_application</th>\n",
       "      <th>amt_credit</th>\n",
       "      <th>weekday_appr_process_start</th>\n",
       "      <th>hour_appr_process_start</th>\n",
       "      <th>flag_last_appl_per_contract</th>\n",
       "      <th>nflag_last_appl_in_day</th>\n",
       "      <th>name_cash_loan_purpose</th>\n",
       "      <th>...</th>\n",
       "      <th>code_reject_reason</th>\n",
       "      <th>name_client_type</th>\n",
       "      <th>name_goods_category</th>\n",
       "      <th>name_portfolio</th>\n",
       "      <th>name_product_type</th>\n",
       "      <th>channel_type</th>\n",
       "      <th>sellerplace_area</th>\n",
       "      <th>name_seller_industry</th>\n",
       "      <th>name_yield_group</th>\n",
       "      <th>product_combination</th>\n",
       "    </tr>\n",
       "  </thead>\n",
       "  <tbody>\n",
       "    <tr>\n",
       "      <th>0</th>\n",
       "      <td>1205406</td>\n",
       "      <td>240033</td>\n",
       "      <td>Consumer loans</td>\n",
       "      <td>67860.0</td>\n",
       "      <td>75024.0</td>\n",
       "      <td>MONDAY</td>\n",
       "      <td>10</td>\n",
       "      <td>Y</td>\n",
       "      <td>1</td>\n",
       "      <td>XAP</td>\n",
       "      <td>...</td>\n",
       "      <td>XAP</td>\n",
       "      <td>Refreshed</td>\n",
       "      <td>Consumer Electronics</td>\n",
       "      <td>POS</td>\n",
       "      <td>XNA</td>\n",
       "      <td>Regional / Local</td>\n",
       "      <td>50</td>\n",
       "      <td>Consumer electronics</td>\n",
       "      <td>middle</td>\n",
       "      <td>POS household with interest</td>\n",
       "    </tr>\n",
       "    <tr>\n",
       "      <th>1</th>\n",
       "      <td>2406541</td>\n",
       "      <td>453172</td>\n",
       "      <td>Cash loans</td>\n",
       "      <td>454500.0</td>\n",
       "      <td>454500.0</td>\n",
       "      <td>SATURDAY</td>\n",
       "      <td>10</td>\n",
       "      <td>Y</td>\n",
       "      <td>1</td>\n",
       "      <td>XNA</td>\n",
       "      <td>...</td>\n",
       "      <td>HC</td>\n",
       "      <td>Repeater</td>\n",
       "      <td>XNA</td>\n",
       "      <td>Cash</td>\n",
       "      <td>x-sell</td>\n",
       "      <td>Contact center</td>\n",
       "      <td>-1</td>\n",
       "      <td>XNA</td>\n",
       "      <td>middle</td>\n",
       "      <td>Cash X-Sell: middle</td>\n",
       "    </tr>\n",
       "    <tr>\n",
       "      <th>2</th>\n",
       "      <td>1588513</td>\n",
       "      <td>380102</td>\n",
       "      <td>Cash loans</td>\n",
       "      <td>675000.0</td>\n",
       "      <td>790830.0</td>\n",
       "      <td>SATURDAY</td>\n",
       "      <td>14</td>\n",
       "      <td>Y</td>\n",
       "      <td>1</td>\n",
       "      <td>XNA</td>\n",
       "      <td>...</td>\n",
       "      <td>HC</td>\n",
       "      <td>Repeater</td>\n",
       "      <td>XNA</td>\n",
       "      <td>Cash</td>\n",
       "      <td>x-sell</td>\n",
       "      <td>Credit and cash offices</td>\n",
       "      <td>-1</td>\n",
       "      <td>XNA</td>\n",
       "      <td>low_normal</td>\n",
       "      <td>Cash X-Sell: low</td>\n",
       "    </tr>\n",
       "    <tr>\n",
       "      <th>3</th>\n",
       "      <td>1224635</td>\n",
       "      <td>262165</td>\n",
       "      <td>Cash loans</td>\n",
       "      <td>315000.0</td>\n",
       "      <td>375583.5</td>\n",
       "      <td>MONDAY</td>\n",
       "      <td>11</td>\n",
       "      <td>Y</td>\n",
       "      <td>1</td>\n",
       "      <td>XNA</td>\n",
       "      <td>...</td>\n",
       "      <td>XAP</td>\n",
       "      <td>Repeater</td>\n",
       "      <td>XNA</td>\n",
       "      <td>Cash</td>\n",
       "      <td>x-sell</td>\n",
       "      <td>Credit and cash offices</td>\n",
       "      <td>0</td>\n",
       "      <td>XNA</td>\n",
       "      <td>middle</td>\n",
       "      <td>Cash X-Sell: middle</td>\n",
       "    </tr>\n",
       "    <tr>\n",
       "      <th>4</th>\n",
       "      <td>1381515</td>\n",
       "      <td>136813</td>\n",
       "      <td>Consumer loans</td>\n",
       "      <td>58108.5</td>\n",
       "      <td>71113.5</td>\n",
       "      <td>WEDNESDAY</td>\n",
       "      <td>10</td>\n",
       "      <td>Y</td>\n",
       "      <td>1</td>\n",
       "      <td>XAP</td>\n",
       "      <td>...</td>\n",
       "      <td>XAP</td>\n",
       "      <td>Repeater</td>\n",
       "      <td>Audio/Video</td>\n",
       "      <td>POS</td>\n",
       "      <td>XNA</td>\n",
       "      <td>Country-wide</td>\n",
       "      <td>3500</td>\n",
       "      <td>Consumer electronics</td>\n",
       "      <td>middle</td>\n",
       "      <td>POS household with interest</td>\n",
       "    </tr>\n",
       "    <tr>\n",
       "      <th>...</th>\n",
       "      <td>...</td>\n",
       "      <td>...</td>\n",
       "      <td>...</td>\n",
       "      <td>...</td>\n",
       "      <td>...</td>\n",
       "      <td>...</td>\n",
       "      <td>...</td>\n",
       "      <td>...</td>\n",
       "      <td>...</td>\n",
       "      <td>...</td>\n",
       "      <td>...</td>\n",
       "      <td>...</td>\n",
       "      <td>...</td>\n",
       "      <td>...</td>\n",
       "      <td>...</td>\n",
       "      <td>...</td>\n",
       "      <td>...</td>\n",
       "      <td>...</td>\n",
       "      <td>...</td>\n",
       "      <td>...</td>\n",
       "      <td>...</td>\n",
       "    </tr>\n",
       "    <tr>\n",
       "      <th>5223</th>\n",
       "      <td>2684880</td>\n",
       "      <td>422449</td>\n",
       "      <td>Cash loans</td>\n",
       "      <td>0.0</td>\n",
       "      <td>0.0</td>\n",
       "      <td>TUESDAY</td>\n",
       "      <td>11</td>\n",
       "      <td>Y</td>\n",
       "      <td>1</td>\n",
       "      <td>XNA</td>\n",
       "      <td>...</td>\n",
       "      <td>XAP</td>\n",
       "      <td>Repeater</td>\n",
       "      <td>XNA</td>\n",
       "      <td>XNA</td>\n",
       "      <td>XNA</td>\n",
       "      <td>Credit and cash offices</td>\n",
       "      <td>-1</td>\n",
       "      <td>XNA</td>\n",
       "      <td>XNA</td>\n",
       "      <td>Cash</td>\n",
       "    </tr>\n",
       "    <tr>\n",
       "      <th>5224</th>\n",
       "      <td>1025238</td>\n",
       "      <td>249273</td>\n",
       "      <td>Cash loans</td>\n",
       "      <td>913500.0</td>\n",
       "      <td>913500.0</td>\n",
       "      <td>THURSDAY</td>\n",
       "      <td>7</td>\n",
       "      <td>Y</td>\n",
       "      <td>1</td>\n",
       "      <td>XNA</td>\n",
       "      <td>...</td>\n",
       "      <td>XAP</td>\n",
       "      <td>New</td>\n",
       "      <td>XNA</td>\n",
       "      <td>Cash</td>\n",
       "      <td>x-sell</td>\n",
       "      <td>Credit and cash offices</td>\n",
       "      <td>-1</td>\n",
       "      <td>XNA</td>\n",
       "      <td>low_normal</td>\n",
       "      <td>Cash X-Sell: low</td>\n",
       "    </tr>\n",
       "    <tr>\n",
       "      <th>5225</th>\n",
       "      <td>1185920</td>\n",
       "      <td>233935</td>\n",
       "      <td>Consumer loans</td>\n",
       "      <td>143329.5</td>\n",
       "      <td>143329.5</td>\n",
       "      <td>FRIDAY</td>\n",
       "      <td>9</td>\n",
       "      <td>Y</td>\n",
       "      <td>1</td>\n",
       "      <td>XAP</td>\n",
       "      <td>...</td>\n",
       "      <td>XAP</td>\n",
       "      <td>Repeater</td>\n",
       "      <td>Consumer Electronics</td>\n",
       "      <td>POS</td>\n",
       "      <td>XNA</td>\n",
       "      <td>Regional / Local</td>\n",
       "      <td>100</td>\n",
       "      <td>Consumer electronics</td>\n",
       "      <td>low_normal</td>\n",
       "      <td>POS household with interest</td>\n",
       "    </tr>\n",
       "    <tr>\n",
       "      <th>5226</th>\n",
       "      <td>1686520</td>\n",
       "      <td>239228</td>\n",
       "      <td>Cash loans</td>\n",
       "      <td>112500.0</td>\n",
       "      <td>140337.0</td>\n",
       "      <td>SATURDAY</td>\n",
       "      <td>10</td>\n",
       "      <td>Y</td>\n",
       "      <td>1</td>\n",
       "      <td>XNA</td>\n",
       "      <td>...</td>\n",
       "      <td>XAP</td>\n",
       "      <td>Repeater</td>\n",
       "      <td>XNA</td>\n",
       "      <td>Cash</td>\n",
       "      <td>x-sell</td>\n",
       "      <td>Credit and cash offices</td>\n",
       "      <td>-1</td>\n",
       "      <td>XNA</td>\n",
       "      <td>middle</td>\n",
       "      <td>Cash X-Sell: middle</td>\n",
       "    </tr>\n",
       "    <tr>\n",
       "      <th>5227</th>\n",
       "      <td>1545921</td>\n",
       "      <td>152689</td>\n",
       "      <td>Cash loans</td>\n",
       "      <td>1350000.0</td>\n",
       "      <td>1546020.0</td>\n",
       "      <td>SUNDAY</td>\n",
       "      <td>14</td>\n",
       "      <td>Y</td>\n",
       "      <td>1</td>\n",
       "      <td>XNA</td>\n",
       "      <td>...</td>\n",
       "      <td>HC</td>\n",
       "      <td>Repeater</td>\n",
       "      <td>XNA</td>\n",
       "      <td>Cash</td>\n",
       "      <td>x-sell</td>\n",
       "      <td>Credit and cash offices</td>\n",
       "      <td>-1</td>\n",
       "      <td>XNA</td>\n",
       "      <td>low_action</td>\n",
       "      <td>Cash X-Sell: low</td>\n",
       "    </tr>\n",
       "  </tbody>\n",
       "</table>\n",
       "<p>5228 rows × 23 columns</p>\n",
       "</div>"
      ],
      "text/plain": [
       "      sk_id_prev  sk_id_curr name_contract_type  amt_application  amt_credit  \\\n",
       "0        1205406      240033     Consumer loans          67860.0     75024.0   \n",
       "1        2406541      453172         Cash loans         454500.0    454500.0   \n",
       "2        1588513      380102         Cash loans         675000.0    790830.0   \n",
       "3        1224635      262165         Cash loans         315000.0    375583.5   \n",
       "4        1381515      136813     Consumer loans          58108.5     71113.5   \n",
       "...          ...         ...                ...              ...         ...   \n",
       "5223     2684880      422449         Cash loans              0.0         0.0   \n",
       "5224     1025238      249273         Cash loans         913500.0    913500.0   \n",
       "5225     1185920      233935     Consumer loans         143329.5    143329.5   \n",
       "5226     1686520      239228         Cash loans         112500.0    140337.0   \n",
       "5227     1545921      152689         Cash loans        1350000.0   1546020.0   \n",
       "\n",
       "     weekday_appr_process_start  hour_appr_process_start  \\\n",
       "0                        MONDAY                       10   \n",
       "1                      SATURDAY                       10   \n",
       "2                      SATURDAY                       14   \n",
       "3                        MONDAY                       11   \n",
       "4                     WEDNESDAY                       10   \n",
       "...                         ...                      ...   \n",
       "5223                    TUESDAY                       11   \n",
       "5224                   THURSDAY                        7   \n",
       "5225                     FRIDAY                        9   \n",
       "5226                   SATURDAY                       10   \n",
       "5227                     SUNDAY                       14   \n",
       "\n",
       "     flag_last_appl_per_contract  nflag_last_appl_in_day  \\\n",
       "0                              Y                       1   \n",
       "1                              Y                       1   \n",
       "2                              Y                       1   \n",
       "3                              Y                       1   \n",
       "4                              Y                       1   \n",
       "...                          ...                     ...   \n",
       "5223                           Y                       1   \n",
       "5224                           Y                       1   \n",
       "5225                           Y                       1   \n",
       "5226                           Y                       1   \n",
       "5227                           Y                       1   \n",
       "\n",
       "     name_cash_loan_purpose  ... code_reject_reason  name_client_type  \\\n",
       "0                       XAP  ...                XAP         Refreshed   \n",
       "1                       XNA  ...                 HC          Repeater   \n",
       "2                       XNA  ...                 HC          Repeater   \n",
       "3                       XNA  ...                XAP          Repeater   \n",
       "4                       XAP  ...                XAP          Repeater   \n",
       "...                     ...  ...                ...               ...   \n",
       "5223                    XNA  ...                XAP          Repeater   \n",
       "5224                    XNA  ...                XAP               New   \n",
       "5225                    XAP  ...                XAP          Repeater   \n",
       "5226                    XNA  ...                XAP          Repeater   \n",
       "5227                    XNA  ...                 HC          Repeater   \n",
       "\n",
       "       name_goods_category name_portfolio name_product_type  \\\n",
       "0     Consumer Electronics            POS               XNA   \n",
       "1                      XNA           Cash            x-sell   \n",
       "2                      XNA           Cash            x-sell   \n",
       "3                      XNA           Cash            x-sell   \n",
       "4              Audio/Video            POS               XNA   \n",
       "...                    ...            ...               ...   \n",
       "5223                   XNA            XNA               XNA   \n",
       "5224                   XNA           Cash            x-sell   \n",
       "5225  Consumer Electronics            POS               XNA   \n",
       "5226                   XNA           Cash            x-sell   \n",
       "5227                   XNA           Cash            x-sell   \n",
       "\n",
       "                 channel_type sellerplace_area  name_seller_industry  \\\n",
       "0            Regional / Local               50  Consumer electronics   \n",
       "1              Contact center               -1                   XNA   \n",
       "2     Credit and cash offices               -1                   XNA   \n",
       "3     Credit and cash offices                0                   XNA   \n",
       "4                Country-wide             3500  Consumer electronics   \n",
       "...                       ...              ...                   ...   \n",
       "5223  Credit and cash offices               -1                   XNA   \n",
       "5224  Credit and cash offices               -1                   XNA   \n",
       "5225         Regional / Local              100  Consumer electronics   \n",
       "5226  Credit and cash offices               -1                   XNA   \n",
       "5227  Credit and cash offices               -1                   XNA   \n",
       "\n",
       "     name_yield_group          product_combination  \n",
       "0              middle  POS household with interest  \n",
       "1              middle          Cash X-Sell: middle  \n",
       "2          low_normal             Cash X-Sell: low  \n",
       "3              middle          Cash X-Sell: middle  \n",
       "4              middle  POS household with interest  \n",
       "...               ...                          ...  \n",
       "5223              XNA                         Cash  \n",
       "5224       low_normal             Cash X-Sell: low  \n",
       "5225       low_normal  POS household with interest  \n",
       "5226           middle          Cash X-Sell: middle  \n",
       "5227       low_action             Cash X-Sell: low  \n",
       "\n",
       "[5228 rows x 23 columns]"
      ]
     },
     "execution_count": 40,
     "metadata": {},
     "output_type": "execute_result"
    }
   ],
   "source": [
    "previous_application_sample"
   ]
  },
  {
   "cell_type": "markdown",
   "id": "e2c02c7c",
   "metadata": {},
   "source": [
    "#### <span style=\"color:#ff5f27;\"> ⛳️ Pos_Cash_Balance Feature Group</span>"
   ]
  },
  {
   "cell_type": "code",
   "execution_count": 19,
   "id": "f8782fbd",
   "metadata": {},
   "outputs": [
    {
     "name": "stdout",
     "output_type": "stream",
     "text": [
      "Feature Group created successfully, explore it at \n",
      "https://c.app.hopsworks.ai:443/p/398/fs/335/fg/21944\n"
     ]
    },
    {
     "data": {
      "application/vnd.jupyter.widget-view+json": {
       "model_id": "bc56f68c53ff4704aa80994f7e702992",
       "version_major": 2,
       "version_minor": 0
      },
      "text/plain": [
       "Uploading Dataframe: 0.00% |          | Rows 0/26678 | Elapsed Time: 00:00 | Remaining Time: ?"
      ]
     },
     "metadata": {},
     "output_type": "display_data"
    },
    {
     "name": "stdout",
     "output_type": "stream",
     "text": [
      "Launching offline feature group backfill job...\n",
      "Backfill Job started successfully, you can follow the progress at \n",
      "https://c.app.hopsworks.ai/p/398/jobs/named/pos_cash_balance_1_offline_fg_backfill/executions\n"
     ]
    },
    {
     "data": {
      "text/plain": [
       "(<hsfs.core.job.Job at 0x7fcda9ef2b20>, None)"
      ]
     },
     "execution_count": 19,
     "metadata": {},
     "output_type": "execute_result"
    }
   ],
   "source": [
    "pos_cash_balance.columns = [col_name.lower() for col_name in pos_cash_balance.columns]\n",
    "\n",
    "pos_cash_balance_fg = fs.get_or_create_feature_group(\n",
    "    name = 'pos_cash_balance',\n",
    "    version = 1,\n",
    "    primary_key = ['sk_id_prev','sk_id_curr'],\n",
    "    online_enabled = False\n",
    ")\n",
    "\n",
    "pos_cash_balance_fg.insert(pos_cash_balance_sample, write_options={\"wait_for_job\" : False})"
   ]
  },
  {
   "cell_type": "markdown",
   "id": "9747bf01",
   "metadata": {},
   "source": [
    "#### <span style=\"color:#ff5f27;\"> ⛳️ Instalments Payments Feature Group</span>"
   ]
  },
  {
   "cell_type": "code",
   "execution_count": 20,
   "id": "4a3a3cc7",
   "metadata": {},
   "outputs": [
    {
     "name": "stdout",
     "output_type": "stream",
     "text": [
      "Feature Group created successfully, explore it at \n",
      "https://c.app.hopsworks.ai:443/p/398/fs/335/fg/21945\n"
     ]
    },
    {
     "data": {
      "application/vnd.jupyter.widget-view+json": {
       "model_id": "726f04db75a94b1290f05e0b9aa9a53d",
       "version_major": 2,
       "version_minor": 0
      },
      "text/plain": [
       "Uploading Dataframe: 0.00% |          | Rows 0/53386 | Elapsed Time: 00:00 | Remaining Time: ?"
      ]
     },
     "metadata": {},
     "output_type": "display_data"
    },
    {
     "name": "stdout",
     "output_type": "stream",
     "text": [
      "Launching offline feature group backfill job...\n",
      "Backfill Job started successfully, you can follow the progress at \n",
      "https://c.app.hopsworks.ai/p/398/jobs/named/installments_payments_1_offline_fg_backfill/executions\n"
     ]
    },
    {
     "data": {
      "text/plain": [
       "(<hsfs.core.job.Job at 0x7fcda86b5d60>, None)"
      ]
     },
     "execution_count": 20,
     "metadata": {},
     "output_type": "execute_result"
    }
   ],
   "source": [
    "installments_payments.columns = [col_name.lower() for col_name in installments_payments.columns]\n",
    "\n",
    "installments_payments_fg = fs.get_or_create_feature_group(\n",
    "    name = 'installments_payments',\n",
    "    version = 1,\n",
    "    primary_key = ['sk_id_prev','sk_id_curr'],\n",
    "    online_enabled = False\n",
    ")\n",
    "\n",
    "installments_payments_fg.insert(installments_payments_sample, write_options={\"wait_for_job\" : False})"
   ]
  },
  {
   "cell_type": "markdown",
   "id": "4648b1f3",
   "metadata": {},
   "source": [
    "#### <span style=\"color:#ff5f27;\"> ⛳️ Credit Card Balance Feature Group</span>"
   ]
  },
  {
   "cell_type": "code",
   "execution_count": 21,
   "id": "cbd1df97",
   "metadata": {},
   "outputs": [
    {
     "name": "stdout",
     "output_type": "stream",
     "text": [
      "Feature Group created successfully, explore it at \n",
      "https://c.app.hopsworks.ai:443/p/398/fs/335/fg/21946\n"
     ]
    },
    {
     "data": {
      "application/vnd.jupyter.widget-view+json": {
       "model_id": "b156583ab41e4458a5f5ea2e680feaf5",
       "version_major": 2,
       "version_minor": 0
      },
      "text/plain": [
       "Uploading Dataframe: 0.00% |          | Rows 0/20796 | Elapsed Time: 00:00 | Remaining Time: ?"
      ]
     },
     "metadata": {},
     "output_type": "display_data"
    },
    {
     "name": "stdout",
     "output_type": "stream",
     "text": [
      "Launching offline feature group backfill job...\n",
      "Backfill Job started successfully, you can follow the progress at \n",
      "https://c.app.hopsworks.ai/p/398/jobs/named/credit_card_balance_1_offline_fg_backfill/executions\n"
     ]
    },
    {
     "data": {
      "text/plain": [
       "(<hsfs.core.job.Job at 0x7fcda9f13c10>, None)"
      ]
     },
     "execution_count": 21,
     "metadata": {},
     "output_type": "execute_result"
    }
   ],
   "source": [
    "credit_card_balance.columns = [col_name.lower() for col_name in credit_card_balance.columns]\n",
    "\n",
    "credit_card_balance_fg = fs.get_or_create_feature_group(\n",
    "    name = 'credit_card_balance',\n",
    "    version = 1,\n",
    "    primary_key = ['sk_id_prev','sk_id_curr'],\n",
    "    online_enabled = False\n",
    ")\n",
    "\n",
    "credit_card_balance_fg.insert(credit_card_balance_sample, write_options={\"wait_for_job\" : False})"
   ]
  },
  {
   "cell_type": "markdown",
   "id": "cde0a8af",
   "metadata": {},
   "source": [
    "#### <span style=\"color:#ff5f27;\"> ⛳️ Previous Load Counts Feature Group</span>"
   ]
  },
  {
   "cell_type": "code",
   "execution_count": 22,
   "id": "35b69b06",
   "metadata": {},
   "outputs": [
    {
     "name": "stdout",
     "output_type": "stream",
     "text": [
      "Feature Group created successfully, explore it at \n",
      "https://c.app.hopsworks.ai:443/p/398/fs/335/fg/21947\n"
     ]
    },
    {
     "data": {
      "application/vnd.jupyter.widget-view+json": {
       "model_id": "f81075cfc7a242499b33e482ab992dae",
       "version_major": 2,
       "version_minor": 0
      },
      "text/plain": [
       "Uploading Dataframe: 0.00% |          | Rows 0/2470 | Elapsed Time: 00:00 | Remaining Time: ?"
      ]
     },
     "metadata": {},
     "output_type": "display_data"
    },
    {
     "name": "stdout",
     "output_type": "stream",
     "text": [
      "Launching offline feature group backfill job...\n",
      "Backfill Job started successfully, you can follow the progress at \n",
      "https://c.app.hopsworks.ai/p/398/jobs/named/previous_loan_counts_1_offline_fg_backfill/executions\n"
     ]
    },
    {
     "data": {
      "text/plain": [
       "(<hsfs.core.job.Job at 0x7fcda86c23a0>, None)"
      ]
     },
     "execution_count": 22,
     "metadata": {},
     "output_type": "execute_result"
    }
   ],
   "source": [
    "previous_loan_counts.columns = [col_name.lower() for col_name in previous_loan_counts.columns]\n",
    "\n",
    "previous_loan_counts_fg = fs.get_or_create_feature_group(\n",
    "    name = 'previous_loan_counts',\n",
    "    version = 1,\n",
    "    primary_key = ['sk_id_curr'],\n",
    "    online_enabled = False\n",
    ")\n",
    "\n",
    "previous_loan_counts_fg.insert(previous_loan_counts, write_options={\"wait_for_job\" : False})"
   ]
  },
  {
   "cell_type": "markdown",
   "id": "184f5239",
   "metadata": {},
   "source": [
    "---\n",
    "\n",
    "## <span style=\"color:#ff5f27;\">👨🏻‍🎨 Data Exploration</span>"
   ]
  },
  {
   "cell_type": "code",
   "execution_count": 23,
   "id": "2a7a328f",
   "metadata": {},
   "outputs": [
    {
     "data": {
      "image/png": "[encoded data removed]",
      "text/plain": [
       "<Figure size 864x360 with 1 Axes>"
      ]
     },
     "metadata": {},
     "output_type": "display_data"
    }
   ],
   "source": [
    "plt.figure(figsize=(12,5))\n",
    "\n",
    "plt.pie(\n",
    "    application.target.value_counts(),\n",
    "    labels = ['Repayed','Not Repayed'], \n",
    "    explode = (0, 0.2),\n",
    "    shadow=True,\n",
    "    autopct='%1.1f%%',\n",
    "    radius = 1.2\n",
    ")\n",
    "\n",
    "plt.title(\"Ratio of Loan Repayed or Not\", fontsize = 15)\n",
    "plt.show()"
   ]
  },
  {
   "cell_type": "code",
   "execution_count": 24,
   "id": "ddbcb3bd",
   "metadata": {},
   "outputs": [
    {
     "name": "stderr",
     "output_type": "stream",
     "text": [
      "FutureWarning: `distplot` is a deprecated function and will be removed in a future version. Please adapt your code to use either `displot` (a figure-level function with similar flexibility) or `histplot` (an axes-level function for histograms).\n"
     ]
    },
    {
     "data": {
      "image/png": "[encoded data removed]",
      "text/plain": [
       "<Figure size 864x360 with 1 Axes>"
      ]
     },
     "metadata": {
      "needs_background": "light"
     },
     "output_type": "display_data"
    }
   ],
   "source": [
    "plt.figure(figsize=(12,5))\n",
    "\n",
    "sns.distplot(application.amt_credit)\n",
    "\n",
    "plt.title(\"Distribution of Amount of Credit\", fontsize = 15)\n",
    "plt.xlabel('Amount of credit')\n",
    "plt.show()"
   ]
  },
  {
   "cell_type": "code",
   "execution_count": 25,
   "id": "fb565766",
   "metadata": {},
   "outputs": [
    {
     "name": "stderr",
     "output_type": "stream",
     "text": [
      "FutureWarning: `distplot` is a deprecated function and will be removed in a future version. Please adapt your code to use either `displot` (a figure-level function with similar flexibility) or `histplot` (an axes-level function for histograms).\n"
     ]
    },
    {
     "data": {
      "image/png": "[encoded data removed]",
      "text/plain": [
       "<Figure size 864x360 with 1 Axes>"
      ]
     },
     "metadata": {
      "needs_background": "light"
     },
     "output_type": "display_data"
    }
   ],
   "source": [
    "plt.figure(figsize=(12,5))\n",
    "\n",
    "sns.distplot(application.amt_goods_price)\n",
    "\n",
    "plt.title(\"Distribution of Amount of Goods Price\", fontsize = 15)\n",
    "plt.xlabel('Amount of goods price')\n",
    "plt.show()"
   ]
  },
  {
   "cell_type": "code",
   "execution_count": 26,
   "id": "7d6d3b54",
   "metadata": {},
   "outputs": [
    {
     "name": "stderr",
     "output_type": "stream",
     "text": [
      "FutureWarning: `distplot` is a deprecated function and will be removed in a future version. Please adapt your code to use either `displot` (a figure-level function with similar flexibility) or `histplot` (an axes-level function for histograms).\n"
     ]
    },
    {
     "data": {
      "image/png": "[encoded data removed]",
      "text/plain": [
       "<Figure size 864x360 with 1 Axes>"
      ]
     },
     "metadata": {
      "needs_background": "light"
     },
     "output_type": "display_data"
    }
   ],
   "source": [
    "plt.figure(figsize=(12,5))\n",
    "\n",
    "sns.distplot(application.days_birth / -365,bins = 30)\n",
    "\n",
    "plt.title(\"Distribution of Applicant Age\", fontsize = 15)\n",
    "plt.xlabel('Years')\n",
    "plt.show()"
   ]
  },
  {
   "cell_type": "code",
   "execution_count": 27,
   "id": "6fed19e0",
   "metadata": {},
   "outputs": [
    {
     "data": {
      "image/png": "[encoded data removed]",
      "text/plain": [
       "<Figure size 864x360 with 1 Axes>"
      ]
     },
     "metadata": {
      "needs_background": "light"
     },
     "output_type": "display_data"
    }
   ],
   "source": [
    "temp_df = application.name_type_suite.value_counts().reset_index()\n",
    "\n",
    "plt.figure(figsize=(12,5))\n",
    "\n",
    "sns.barplot(data = temp_df, x = 'index', y = 'name_type_suite')\n",
    "\n",
    "plt.title(\"Who accompanied client when applying for the  application\", fontsize = 15)\n",
    "plt.xlabel('Accompanior')\n",
    "plt.ylabel('Amount')\n",
    "plt.show()"
   ]
  },
  {
   "cell_type": "code",
   "execution_count": 28,
   "id": "2be6a5b1",
   "metadata": {},
   "outputs": [
    {
     "data": {
      "image/png": "[encoded data removed]",
      "text/plain": [
       "<Figure size 864x360 with 1 Axes>"
      ]
     },
     "metadata": {},
     "output_type": "display_data"
    }
   ],
   "source": [
    "plt.figure(figsize=(12,5))\n",
    "\n",
    "plt.pie(\n",
    "    application.flag_own_car.value_counts(),\n",
    "    labels = ['Loan for other purpose','Loan for a car'] ,\n",
    "    explode = (0, 0.1),\n",
    "    shadow = True,\n",
    "    autopct = '%1.1f%%',\n",
    "    radius = 1.2\n",
    ")\n",
    "\n",
    "plt.title(\"Ratio of loan for a car or not\", fontsize = 15)\n",
    "plt.show()"
   ]
  },
  {
   "cell_type": "code",
   "execution_count": 29,
   "id": "dd8d6ea2",
   "metadata": {},
   "outputs": [
    {
     "data": {
      "image/png": "[encoded data removed]",
      "text/plain": [
       "<Figure size 864x360 with 1 Axes>"
      ]
     },
     "metadata": {},
     "output_type": "display_data"
    }
   ],
   "source": [
    "plt.figure(figsize=(12,5))\n",
    "\n",
    "plt.pie(\n",
    "    application.flag_own_realty.value_counts(),\n",
    "    labels = ['Loan for revalty','Loan for other purpose'], \n",
    "    explode = (0, 0.1),\n",
    "    shadow=True, \n",
    "    autopct='%1.1f%%',\n",
    "    radius = 1.2\n",
    ")\n",
    "\n",
    "plt.title(\"Ratio of realty for a car or not\", fontsize = 15)\n",
    "plt.show()"
   ]
  },
  {
   "cell_type": "code",
   "execution_count": 30,
   "id": "eb5a18bb",
   "metadata": {},
   "outputs": [
    {
     "data": {
      "image/png": "[encoded data removed]",
      "text/plain": [
       "<Figure size 864x360 with 1 Axes>"
      ]
     },
     "metadata": {},
     "output_type": "display_data"
    }
   ],
   "source": [
    "temp_df = application.name_income_type.value_counts()[:4]\n",
    "\n",
    "plt.figure(figsize=(12,5))\n",
    "\n",
    "plt.pie(\n",
    "    temp_df,\n",
    "    labels = temp_df[:4].index,\n",
    "    explode = (0, 0.075,0.1,0.1), \n",
    "    shadow = True, \n",
    "    autopct = '%1.1f%%',\n",
    "    labeldistance = 0.8,\n",
    "    radius = 1.2\n",
    ")\n",
    "\n",
    "plt.title(\"Income Ratio\", fontsize = 15)\n",
    "plt.show()"
   ]
  },
  {
   "cell_type": "code",
   "execution_count": 31,
   "id": "e8453441",
   "metadata": {},
   "outputs": [
    {
     "data": {
      "image/png": "[encoded data removed]",
      "text/plain": [
       "<Figure size 864x360 with 1 Axes>"
      ]
     },
     "metadata": {},
     "output_type": "display_data"
    }
   ],
   "source": [
    "temp_df = application.name_family_status.value_counts()[:-1]\n",
    "\n",
    "plt.figure(figsize=(12,5))\n",
    "\n",
    "plt.pie(\n",
    "    temp_df,\n",
    "    labels = temp_df.index,\n",
    "    explode = (0,0.1,0.1,0.1), \n",
    "    shadow = True, \n",
    "    autopct = '%1.1f%%',\n",
    "    labeldistance = 1.05,\n",
    "    radius = 1.2\n",
    ")\n",
    "\n",
    "plt.title(\"Family Status Ratio\", fontsize = 15)\n",
    "plt.show()"
   ]
  },
  {
   "cell_type": "code",
   "execution_count": 35,
   "id": "c4042875",
   "metadata": {},
   "outputs": [
    {
     "data": {
      "image/png": "[encoded data removed]",
      "text/plain": [
       "<Figure size 864x360 with 1 Axes>"
      ]
     },
     "metadata": {},
     "output_type": "display_data"
    }
   ],
   "source": [
    "temp_df = application.name_education_type.value_counts()[:-1]\n",
    "\n",
    "plt.figure(figsize=(12,5))\n",
    "\n",
    "plt.pie(\n",
    "    temp_df,\n",
    "    labels = temp_df.index,\n",
    "    explode = (0,0.1,0.1,0.1), \n",
    "    shadow = True, \n",
    "    autopct = '%1.1f%%',\n",
    "    labeldistance = 1.05,\n",
    "    radius = 1.2\n",
    ")\n",
    "\n",
    "plt.title(\"Education Type Ratio\", fontsize = 15)\n",
    "plt.show()\n"
   ]
  },
  {
   "cell_type": "code",
   "execution_count": 38,
   "id": "4f9a8601",
   "metadata": {},
   "outputs": [
    {
     "data": {
      "image/png": "[encoded data removed]",
      "text/plain": [
       "<Figure size 864x360 with 1 Axes>"
      ]
     },
     "metadata": {},
     "output_type": "display_data"
    }
   ],
   "source": [
    "temp_df = previous_application.name_contract_status.value_counts()[:-1]\n",
    "\n",
    "plt.figure(figsize=(12,5))\n",
    "\n",
    "plt.pie(\n",
    "    temp_df,\n",
    "    labels = temp_df.index,\n",
    "    explode = (0,0.1,0.1), \n",
    "    shadow = True, \n",
    "    autopct = '%1.1f%%',\n",
    "    labeldistance = 1.05,\n",
    "    radius = 1.25\n",
    ")\n",
    "\n",
    "plt.title(\"Contract Approvement Ratio\", fontsize = 15)\n",
    "plt.show()"
   ]
  },
  {
   "cell_type": "markdown",
   "id": "f32c1aca",
   "metadata": {},
   "source": [
    "---\n",
    "## <span style=\"color:#ff5f27;\">⏭️ **Next:** Part 02 </span>\n",
    "\n",
    "In the next notebook we will generate a new data for Feature Groups"
   ]
  }
 ],
 "metadata": {
  "kernelspec": {
   "display_name": "Python 3 (ipykernel)",
   "language": "python",
   "name": "python3"
  },
  "language_info": {
   "codemirror_mode": {
    "name": "ipython",
    "version": 3
   },
   "file_extension": ".py",
   "mimetype": "text/x-python",
   "name": "python",
   "nbconvert_exporter": "python",
   "pygments_lexer": "ipython3",
   "version": "3.9.7"
  }
 },
 "nbformat": 4,
 "nbformat_minor": 5
}
