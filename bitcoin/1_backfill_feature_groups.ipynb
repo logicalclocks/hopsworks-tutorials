{
 "cells": [
  {
   "cell_type": "markdown",
   "id": "b85e89fc",
   "metadata": {},
   "source": [
    "# <span style=\"font-width:bold; font-size: 3rem; color:#1EB182;\"><img src=\"images/icon102.png\" width=\"38px\"></img> **Hopsworks Feature Store** </span><span style=\"font-width:bold; font-size: 3rem; color:#333;\">- Part 01: Backfill Features to the Feature Store</span>\n",
    "\n",
    "\n",
    "## 🗒️ This notebook is divided in 3 sections:\n",
    "1. Loading the data \n",
    "2. Connect to the Hopsworks feature store.\n",
    "3. Create feature groups and insert them to the feature store.\n",
    "\n",
    "![tutorial-flow](images/01_featuregroups.png)"
   ]
  },
  {
   "cell_type": "markdown",
   "id": "4d039117",
   "metadata": {},
   "source": [
    "## API keys are stored in .env file in the next format:\n",
    "`BINANCE_API_KEY = \"aaaaaaaaaaaaaaaaaaaaaaaaaaaaaaaaaaaaa\"`\n",
    "\n",
    "`BINANCE_API_SECRET = \"bbbbbbbbbbbbbbbbbbbbbbbbbbbbbbb\"`\n",
    "\n",
    "\n",
    "`TWITTER_API_KEY = \"cccccccccccccccccccccccccccc\"`\n",
    "\n",
    "`TWITTER_API_SECRET = \"ddddddddddddddddddddddddddddddddddd\"`"
   ]
  },
  {
   "cell_type": "markdown",
   "id": "2c1e8189",
   "metadata": {},
   "source": [
    "### <span style=\"color:#ff5f27;\"> 📝 Imports</span>"
   ]
  },
  {
   "cell_type": "code",
   "execution_count": null,
   "id": "6fa6f4f5",
   "metadata": {},
   "outputs": [],
   "source": [
    "!pip install -U unicorn-binance-rest-api --quiet\n",
    "!pip install -U python-dotenv --quiet"
   ]
  },
  {
   "cell_type": "code",
   "execution_count": null,
   "id": "2c434ee4",
   "metadata": {},
   "outputs": [],
   "source": [
    "from functions import *\n",
    "\n",
    "from dotenv import load_dotenv\n",
    "load_dotenv()"
   ]
  },
  {
   "cell_type": "markdown",
   "id": "4091e69f",
   "metadata": {},
   "source": [
    "## <span style=\"color:#ff5f27;\"> 💽 Loading Data</span>"
   ]
  },
  {
   "cell_type": "markdown",
   "id": "6aa3be4c",
   "metadata": {},
   "source": [
    "#### <span style='color:#ff5f27'> 📈 Bitcoin Data"
   ]
  },
  {
   "cell_type": "code",
   "execution_count": null,
   "id": "3277553e",
   "metadata": {},
   "outputs": [],
   "source": [
    "df_bitcoin = parse_btc_data(number_of_days_ago=2000)\n",
    "\n",
    "df_bitcoin = df_bitcoin[(df_bitcoin.date >= '2021-02-05 10:00:00') & (df_bitcoin.date <= '2022-06-04 23:00:00')] \n",
    "df_bitcoin.reset_index(drop=True,inplace=True)\n",
    "\n",
    "df_bitcoin.head(3)"
   ]
  },
  {
   "cell_type": "code",
   "execution_count": null,
   "id": "9c94069d",
   "metadata": {},
   "outputs": [],
   "source": [
    "df_bitcoin_processed = process_btc_data(df_bitcoin)\n",
    "df_bitcoin_processed.tail(3)"
   ]
  },
  {
   "cell_type": "markdown",
   "id": "14340708",
   "metadata": {},
   "source": [
    "#### <span style='color:#ff5f27'> 🔮 Tweets Data"
   ]
  },
  {
   "cell_type": "code",
   "execution_count": null,
   "id": "53c036ad",
   "metadata": {},
   "outputs": [],
   "source": [
    "df_tweets = pd.read_csv(\"https://repo.hops.works/dev/davit/bitcoin/bitcoin_tweets.csv\")\n",
    "df_tweets.head(3)"
   ]
  },
  {
   "cell_type": "code",
   "execution_count": null,
   "id": "6fd06a65",
   "metadata": {},
   "outputs": [],
   "source": [
    "df_tweets.user_verified = df_tweets.user_verified.astype(str)\n",
    "df_tweets_correct = df_tweets[(df_tweets[\"user_verified\"] == \"False\") | (df_tweets[\"user_verified\"] == \"True\")]\n",
    "\n",
    "df_tweets_incorrect = df_tweets.drop(list(df_tweets_correct.index))\n",
    "df_tweets_corrected = df_tweets_incorrect.shift(periods=2, axis=\"columns\")\n",
    "df_tweets_processed = pd.concat([df_tweets_correct, df_tweets_corrected]).sort_values(by=[\"date\"])\n",
    "df_tweets_processed = df_tweets_processed[df_tweets_processed.date.notna()]\n",
    "\n",
    "df_tweets_processed = df_tweets_processed.drop(2612133)\n",
    "df_tweets_processed[\"source\"]= df_tweets_processed[\"source\"].apply(str)\n",
    "df_tweets_processed[\"source\"]= df_tweets_processed[\"source\"].str.lower()\n",
    "df_tweets_processed = df_tweets_processed[~df_tweets_processed[\"source\"].str.contains(\"bot\")]\n",
    "df_tweets_processed = df_tweets_processed.loc[:,[\"date\",\"text\", \"user_followers\",\"user_friends\", \"user_favourites\"]]\n",
    "\n",
    "df_tweets_processed[\"text\"] = df_tweets_processed[\"text\"].apply(str)\n",
    "df_tweets_processed = df_tweets_processed.sort_values(by='date')\n",
    "df_tweets_processed.reset_index(inplace=True)\n",
    "df_tweets_processed.drop(columns=[\"index\"], inplace=True)\n",
    "\n",
    "\n",
    "for i,s in enumerate(tqdm(df_tweets_processed['text'],position=0, leave=True)):\n",
    "    text = str(df_tweets_processed.loc[i, 'text'])\n",
    "    text = text.replace(\"#\", \"\")\n",
    "    text = re.sub('https?://(?:[-\\w.]|(?:%[\\da-fA-F]{2}))+', '', text, flags=re.MULTILINE)\n",
    "    text = re.sub('@\\\\w+ *', '', text, flags=re.MULTILINE)\n",
    "    df_tweets_processed.loc[i, 'text'] = text"
   ]
  },
  {
   "cell_type": "code",
   "execution_count": null,
   "id": "37ab66fe",
   "metadata": {},
   "outputs": [],
   "source": [
    "df_tweets_processed.head()"
   ]
  },
  {
   "cell_type": "code",
   "execution_count": null,
   "id": "2a392928",
   "metadata": {},
   "outputs": [],
   "source": [
    "tweets_textblob = textblob_processing(df_tweets_processed)\n",
    "tweets_textblob.head()"
   ]
  },
  {
   "cell_type": "code",
   "execution_count": null,
   "id": "dce78abe",
   "metadata": {},
   "outputs": [],
   "source": [
    "tweets_vader = vader_processing(df_tweets_processed)\n",
    "tweets_vader.head()"
   ]
  },
  {
   "cell_type": "markdown",
   "id": "c673f86a",
   "metadata": {},
   "source": [
    "---\n",
    "## <span style=\"color:#ff5f27;\"> 🔮 Connecting to Hopsworks Feature Store </span>"
   ]
  },
  {
   "cell_type": "code",
   "execution_count": null,
   "id": "af83ee0e",
   "metadata": {},
   "outputs": [],
   "source": [
    "import hopsworks\n",
    "\n",
    "project = hopsworks.login()\n",
    "\n",
    "fs = project.get_feature_store()"
   ]
  },
  {
   "cell_type": "markdown",
   "id": "72003732",
   "metadata": {},
   "source": [
    "## <span style=\"color:#ff5f27;\"> 🪄 Creating Feature Groups </span>"
   ]
  },
  {
   "cell_type": "markdown",
   "id": "c86559c0",
   "metadata": {},
   "source": [
    "#### <span style='color:#ff5f27'> 📈 Bitcoin Feature Group"
   ]
  },
  {
   "cell_type": "code",
   "execution_count": null,
   "id": "5f01835d",
   "metadata": {},
   "outputs": [],
   "source": [
    "btc_price_fg = fs.get_or_create_feature_group(\n",
    "    name='bitcoin_price_fg',\n",
    "    description='Bitcoin price aggregated for days',\n",
    "    version=1,\n",
    "    primary_key=['unix'],\n",
    "    online_enabled=True,\n",
    "    event_time=['unix']\n",
    ")\n",
    "\n",
    "btc_price_fg.insert(df_bitcoin_processed)"
   ]
  },
  {
   "cell_type": "markdown",
   "id": "8d90940a",
   "metadata": {},
   "source": [
    "#### <span style='color:#ff5f27'> 🔮 Tweets Feature Groups"
   ]
  },
  {
   "cell_type": "code",
   "execution_count": null,
   "id": "553e9a24",
   "metadata": {},
   "outputs": [],
   "source": [
    "tweets_textblob_fg = fs.get_or_create_feature_group(\n",
    "    name='bitcoin_tweets_textblob_fg',\n",
    "    version=1,\n",
    "    primary_key=['unix'],\n",
    "    online_enabled=True,\n",
    "    event_time=['unix']\n",
    ")\n",
    "\n",
    "tweets_textblob_fg.insert(tweets_textblob)"
   ]
  },
  {
   "cell_type": "code",
   "execution_count": null,
   "id": "c89408d1",
   "metadata": {},
   "outputs": [],
   "source": [
    "tweets_vader_fg = fs.get_or_create_feature_group(\n",
    "    name='bitcoin_tweets_vader_fg',\n",
    "    version=1,\n",
    "    primary_key=['unix'],\n",
    "    online_enabled=True,\n",
    "    event_time=['unix']\n",
    ")\n",
    "\n",
    "tweets_vader_fg.insert(tweets_vader)"
   ]
  },
  {
   "cell_type": "markdown",
   "id": "4d6b80c3",
   "metadata": {},
   "source": [
    "---"
   ]
  }
 ],
 "metadata": {
  "kernelspec": {
   "display_name": "Python 3 (ipykernel)",
   "language": "python",
   "name": "python3"
  },
  "language_info": {
   "codemirror_mode": {
    "name": "ipython",
    "version": 3
   },
   "file_extension": ".py",
   "mimetype": "text/x-python",
   "name": "python",
   "nbconvert_exporter": "python",
   "pygments_lexer": "ipython3",
   "version": "3.9.13"
  }
 },
 "nbformat": 4,
 "nbformat_minor": 5
}
