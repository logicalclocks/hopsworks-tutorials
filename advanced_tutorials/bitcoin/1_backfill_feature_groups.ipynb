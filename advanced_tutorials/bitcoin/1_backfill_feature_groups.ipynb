{
 "cells": [
  {
   "cell_type": "markdown",
   "id": "f6941937",
   "metadata": {},
   "source": [
    "# <span style=\"font-width:bold; font-size: 3rem; color:#1EB182;\"><img src=\"../../images/icon102.png\" width=\"38px\"></img> **Hopsworks Feature Store** </span><span style=\"font-width:bold; font-size: 3rem; color:#333;\">- Part 01: Backfill Features to the Feature Store</span>\n",
    "\n",
    "[![Open In Colab](https://colab.research.google.com/assets/colab-badge.svg)](https://colab.research.google.com/github/logicalclocks/hopsworks-tutorials/blob/master/advanced_tutorials/bitcoin/1_backfill_feature_groups.ipynb)\n",
    "\n",
    "## 🗒️ This notebook is divided into the following sections:\n",
    "1. Fetch historical data.\n",
    "2. Connect to the Hopsworks feature store.\n",
    "3. Create feature groups and insert them to the feature store.\n",
    "\n",
    "![tutorial-flow](../../images/01_featuregroups.png)"
   ]
  },
  {
   "cell_type": "markdown",
   "id": "4d3098bd",
   "metadata": {},
   "source": [
    "---\n",
    "## <span style=\"color:#ff5f27;\"> 📡 Connecting to the Hopsworks Feature Store </span>"
   ]
  },
  {
   "cell_type": "code",
   "execution_count": null,
   "id": "dc4d18ac",
   "metadata": {},
   "outputs": [],
   "source": [
    "import hopsworks\n",
    "\n",
    "project = hopsworks.login()\n",
    "\n",
    "fs = project.get_feature_store()"
   ]
  },
  {
   "cell_type": "markdown",
   "id": "79dbe050",
   "metadata": {},
   "source": [
    "### Don't forget to create an `.env` configuration file where all the necessary environment variables (API keys) will be stored:\n",
    "\n",
    "```\n",
    "TWITTER_API_KEY = \"YOUR_API_KEY\"\n",
    "TWITTER_API_SECRET = \"YOUR_API_KEY\"\n",
    "TWITTER_ACCESS_TOKEN = \"YOUR_API_KEY\"\n",
    "TWITTER_ACCESS_TOKEN_SECRET = \"YOUR_API_KEY\"\n",
    "\n",
    "BINANCE_API_KEY = \"YOUR_API_KEY\"\n",
    "BINANCE_API_SECRET = \"YOUR_API_KEY\"\n",
    "```\n",
    "\n",
    "![](images/api_keys_env_file.png)"
   ]
  },
  {
   "cell_type": "markdown",
   "id": "3ed2980e",
   "metadata": {},
   "source": [
    "---"
   ]
  },
  {
   "cell_type": "markdown",
   "id": "8e7bd3ed",
   "metadata": {},
   "source": [
    "### <span style=\"color:#ff5f27;\"> 📝 Imports</span>"
   ]
  },
  {
   "cell_type": "code",
   "execution_count": null,
   "id": "2dbdb308",
   "metadata": {},
   "outputs": [],
   "source": [
    "!pip install -U unicorn-binance-rest-api --quiet\n",
    "!pip install -U python-dotenv --quiet"
   ]
  },
  {
   "cell_type": "code",
   "execution_count": null,
   "id": "4df97210",
   "metadata": {
    "scrolled": true
   },
   "outputs": [],
   "source": [
    "import pandas as pd\n",
    "\n",
    "from functions import *"
   ]
  },
  {
   "cell_type": "markdown",
   "id": "ca3af598",
   "metadata": {},
   "source": [
    "___"
   ]
  },
  {
   "cell_type": "markdown",
   "id": "64257bfe",
   "metadata": {},
   "source": [
    "## <span style=\"color:#ff5f27;\"> 💽 Loading Data</span>"
   ]
  },
  {
   "cell_type": "markdown",
   "id": "0daf36bd",
   "metadata": {},
   "source": [
    "### <span style='color:#ff5f27'> 📈 Bitcoin Data"
   ]
  },
  {
   "cell_type": "code",
   "execution_count": null,
   "id": "8fae36c0",
   "metadata": {},
   "outputs": [],
   "source": [
    "df_bitcoin = parse_btc_data(number_of_days_ago=2000)\n",
    "\n",
    "# df_bitcoin = df_bitcoin[(df_bitcoin.date >= '2021-02-05') & (df_bitcoin.date <= '2022-06-04')] \n",
    "df_bitcoin.reset_index(drop=True,inplace=True)\n",
    "\n",
    "df_bitcoin.head(3)"
   ]
  },
  {
   "cell_type": "code",
   "execution_count": null,
   "id": "c258372f",
   "metadata": {
    "scrolled": true
   },
   "outputs": [],
   "source": [
    "df_bitcoin_processed = process_btc_data(df_bitcoin)\n",
    "df_bitcoin_processed.tail(3)"
   ]
  },
  {
   "cell_type": "code",
   "execution_count": null,
   "id": "06663d14-165b-4db4-9106-246c4d7fa4ba",
   "metadata": {},
   "outputs": [],
   "source": [
    "df_bitcoin_processed.shape"
   ]
  },
  {
   "cell_type": "markdown",
   "id": "f7519a6d",
   "metadata": {},
   "source": [
    "> Older records may come with time=11pm or time=9pm, but new ones have time=10pm. Thats because of timezones and daylight saving time. Lets apply this function to make unix column usable."
   ]
  },
  {
   "cell_type": "code",
   "execution_count": null,
   "id": "eb13b370",
   "metadata": {},
   "outputs": [],
   "source": [
    "def get_hours(unix):\n",
    "    return unix / 3600000 % 24"
   ]
  },
  {
   "cell_type": "code",
   "execution_count": null,
   "id": "38cd4e6f",
   "metadata": {},
   "outputs": [],
   "source": [
    "def fix_unix(unix):\n",
    "    if get_hours(unix) == 23.0:\n",
    "        return unix - 3600000\n",
    "    elif get_hours(unix) == 21.0:\n",
    "        return unix + 3600000\n",
    "    return unix"
   ]
  },
  {
   "cell_type": "code",
   "execution_count": null,
   "id": "c64de925",
   "metadata": {},
   "outputs": [],
   "source": [
    "get_hours(1654293600000)"
   ]
  },
  {
   "cell_type": "code",
   "execution_count": null,
   "id": "9303f1d9",
   "metadata": {},
   "outputs": [],
   "source": [
    "df_bitcoin_processed.unix = df_bitcoin_processed.unix.apply(fix_unix)"
   ]
  },
  {
   "cell_type": "code",
   "execution_count": null,
   "id": "865e3081-f596-4877-9938-98d2a2e9eece",
   "metadata": {},
   "outputs": [],
   "source": [
    "df_bitcoin_processed.date = df_bitcoin_processed.date.astype(str)"
   ]
  },
  {
   "cell_type": "markdown",
   "id": "bf93d06f",
   "metadata": {},
   "source": [
    "### <span style='color:#ff5f27'> 💭 Tweets Data"
   ]
  },
  {
   "cell_type": "code",
   "execution_count": null,
   "id": "152070ef",
   "metadata": {},
   "outputs": [],
   "source": [
    "tweets_textblob = pd.read_csv(\"https://repo.hops.works/dev/davit/bitcoin/tweets_textblob.csv\", index_col=0)\n",
    "tweets_textblob.unix = tweets_textblob.unix.apply(fix_unix)"
   ]
  },
  {
   "cell_type": "code",
   "execution_count": null,
   "id": "3c13f7ee",
   "metadata": {},
   "outputs": [],
   "source": [
    "tweets_vader = pd.read_csv(\"https://repo.hops.works/dev/davit/bitcoin/tweets_vader.csv\", index_col=0)\n",
    "tweets_vader.unix = tweets_vader.unix.apply(fix_unix)"
   ]
  },
  {
   "cell_type": "code",
   "execution_count": null,
   "id": "9b101425",
   "metadata": {},
   "outputs": [],
   "source": [
    "tweets_textblob.date = tweets_textblob.date.apply(lambda x: x[:10])\n",
    "tweets_vader.date = tweets_vader.date.apply(lambda x: x[:10])"
   ]
  },
  {
   "cell_type": "code",
   "execution_count": null,
   "id": "78225d90-a676-4622-8a11-21ed82014a97",
   "metadata": {},
   "outputs": [],
   "source": [
    "tweets_textblob.tail(3)"
   ]
  },
  {
   "cell_type": "code",
   "execution_count": null,
   "id": "d93df826-c48a-40c4-bdd6-878474fa01d4",
   "metadata": {},
   "outputs": [],
   "source": [
    "tweets_vader.tail(3)"
   ]
  },
  {
   "cell_type": "markdown",
   "id": "81d0f608",
   "metadata": {},
   "source": [
    "---"
   ]
  },
  {
   "cell_type": "markdown",
   "id": "9958dad6",
   "metadata": {},
   "source": [
    "## <span style=\"color:#ff5f27;\"> 🪄 Creating Feature Groups </span>"
   ]
  },
  {
   "cell_type": "markdown",
   "id": "d010da72",
   "metadata": {},
   "source": [
    "### <span style='color:#ff5f27'> 📈 Bitcoin Price Feature Group"
   ]
  },
  {
   "cell_type": "code",
   "execution_count": null,
   "id": "ea4a4018",
   "metadata": {
    "scrolled": true
   },
   "outputs": [],
   "source": [
    "btc_price_fg = fs.get_or_create_feature_group(\n",
    "    name='bitcoin_price',\n",
    "    description='Bitcoin price aggregated for days',\n",
    "    version=1,\n",
    "    primary_key=['unix'],\n",
    "    online_enabled=True,\n",
    "    event_time='unix'\n",
    ")\n",
    "\n",
    "btc_price_fg.insert(df_bitcoin_processed, write_options={\"wait_for_job\": False})"
   ]
  },
  {
   "cell_type": "markdown",
   "id": "f5e00b6c",
   "metadata": {},
   "source": [
    "### <span style='color:#ff5f27'> 💭 Tweets Feature Groups"
   ]
  },
  {
   "cell_type": "code",
   "execution_count": null,
   "id": "fdcc2c10",
   "metadata": {},
   "outputs": [],
   "source": [
    "tweets_textblob_fg = fs.get_or_create_feature_group(\n",
    "    name='bitcoin_tweets_textblob',\n",
    "    version=1,\n",
    "    primary_key=['unix'],\n",
    "    online_enabled=True,\n",
    "    event_time='unix'\n",
    ")\n",
    "\n",
    "tweets_textblob_fg.insert(tweets_textblob, write_options={\"wait_for_job\": False})"
   ]
  },
  {
   "cell_type": "code",
   "execution_count": null,
   "id": "a47bf43b",
   "metadata": {},
   "outputs": [],
   "source": [
    "tweets_vader_fg = fs.get_or_create_feature_group(\n",
    "    name='bitcoin_tweets_vader',\n",
    "    version=1,\n",
    "    primary_key=['unix'],\n",
    "    online_enabled=True,\n",
    "    event_time='unix'\n",
    ")\n",
    "\n",
    "tweets_vader_fg.insert(tweets_vader, write_options={\"wait_for_job\": True})"
   ]
  },
  {
   "cell_type": "markdown",
   "id": "fe294724",
   "metadata": {},
   "source": [
    "## <span style=\"color:#ff5f27;\">⏭️ **Next:** Part 02 </span>\n",
    "\n",
    "In the next notebook you will be parsing new monthly data for the Feature Groups.\n",
    "\n",
    "[![Open In Colab](https://colab.research.google.com/assets/colab-badge.svg)](https://colab.research.google.com/github/logicalclocks/hopsworks-tutorials/blob/master/advanced_tutorials/bitcoin/2_feature_pipeline.ipynb)"
   ]
  }
 ],
 "metadata": {
  "kernelspec": {
   "display_name": "Python 3 (ipykernel)",
   "language": "python",
   "name": "python3"
  },
  "language_info": {
   "codemirror_mode": {
    "name": "ipython",
    "version": 3
   },
   "file_extension": ".py",
   "mimetype": "text/x-python",
   "name": "python",
   "nbconvert_exporter": "python",
   "pygments_lexer": "ipython3",
   "version": "3.8.15"
  }
 },
 "nbformat": 4,
 "nbformat_minor": 5
}
