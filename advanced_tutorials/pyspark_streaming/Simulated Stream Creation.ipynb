{
 "cells": [
  {
   "cell_type": "markdown",
   "id": "01134591",
   "metadata": {},
   "source": [
    "# <span style=\"font-width:bold; font-size: 3rem; color:#1EB182;\"><img src=\"../../images/icon102.png\" width=\"38px\"></img> **Hopsworks Feature Store** </span><span style=\"font-width:bold; font-size: 3rem; color:#333;\">\n",
    "\n",
    "<span style=\"font-width:bold; font-size: 1.4rem;\">This notebook creates a data stream using Hopsworks Internal Kafka</span>\n",
    "\n",
    "## 🗒️ This notebook is divided into the following sections:\n",
    "\n",
    "1. Creating Simulated Data\n",
    "2. Creating Kafka Topic and Schema in Hopsworks Feature Store\n",
    "3. Sending Data to Kafka"
   ]
  },
  {
   "cell_type": "markdown",
   "id": "b11b8bbb",
   "metadata": {},
   "source": [
    "## <span style='color:#ff5f27'> 📝 Imports"
   ]
  },
  {
   "cell_type": "code",
   "execution_count": null,
   "id": "6291c85d",
   "metadata": {},
   "outputs": [],
   "source": [
    "!pip install faker --quiet"
   ]
  },
  {
   "cell_type": "code",
   "execution_count": null,
   "id": "69221b06",
   "metadata": {},
   "outputs": [],
   "source": [
    "import pandas as pd\n",
    "from synthetic_data import synthetic_data\n",
    "from confluent_kafka import Producer"
   ]
  },
  {
   "cell_type": "markdown",
   "id": "cb89600a",
   "metadata": {},
   "source": [
    "## <span style=\"color:#ff5f27;\"> ✏️ Creating Simulated Data </span>"
   ]
  },
  {
   "cell_type": "markdown",
   "id": "e8c40f77",
   "metadata": {},
   "source": [
    "A simulated dataset for credit card Transactions is created so that the data can be send using a Kafka stream. The data created is split into two different dataframes:\n",
    "\n",
    "* profiles_df: credit card user information such as birthdate and city of residence, along with credict card information such as the expiration date and provider.\n",
    "* trans_df: events containing information about when a credit card was used, such as a timestamp, location, and the amount spent. A boolean fraud_label variable (True/False) tells us whether a transaction was fraudulent or not.\n",
    "\n",
    "In a production system, these data would originate from separate data sources or tables, and probably separate data pipelines. Both files have a common credit card number column cc_num, which you will use later to join features together from the different datasets.\n",
    "\n",
    "Now you can go ahead and create the data."
   ]
  },
  {
   "cell_type": "code",
   "execution_count": null,
   "id": "f52e17b5",
   "metadata": {},
   "outputs": [],
   "source": [
    "data_simulater = synthetic_data.synthetic_data()\n",
    "\n",
    "profiles_df, trans_df = data_simulater.create_simulated_transactions()"
   ]
  },
  {
   "cell_type": "markdown",
   "id": "a25dab2e",
   "metadata": {},
   "source": [
    "## <span style=\"color:#ff5f27;\"> 📡 Connecting to Hopsworks Feature Store </span>"
   ]
  },
  {
   "cell_type": "markdown",
   "id": "d2724ae1",
   "metadata": {},
   "source": [
    "After creating the simulated data let us connect with Hopsworks Feature Store.\n",
    "\n",
    "Hopsworks provides an internal Kafka which can be accessed using the KafkaAPI. See [documentation](https://docs.hopsworks.ai/3.7/user_guides/projects/kafka/create_schema/#introduction) for more details."
   ]
  },
  {
   "cell_type": "code",
   "execution_count": null,
   "id": "9f8d54d4",
   "metadata": {},
   "outputs": [],
   "source": [
    "import hopsworks\n",
    "\n",
    "project = hopsworks.login()\n",
    "\n",
    "kafka_api = project.get_kafka_api()\n",
    "\n",
    "fs = project.get_feature_store()"
   ]
  },
  {
   "cell_type": "markdown",
   "id": "bc7e3a00",
   "metadata": {},
   "source": [
    "## <span style=\"color:#ff5f27;\"> 🪄 Creating Feature Groups </span>"
   ]
  },
  {
   "cell_type": "markdown",
   "id": "1d04f813",
   "metadata": {},
   "source": [
    "Profiles data can be directly inserted as a feature group directly since they are not update fequently.\n",
    "\n",
    "To create a feature group you need to give it a name and specify a primary key. It is also good to provide a description of the contents of the feature group and a version number, if it is not defined it will automatically be incremented to `1`.\n",
    "\n",
    "A full list of arguments can be found in the [documentation](https://docs.hopsworks.ai/feature-store-api/latest/generated/api/feature_store_api/#create_feature_group)."
   ]
  },
  {
   "cell_type": "code",
   "execution_count": null,
   "id": "45d1c575",
   "metadata": {},
   "outputs": [],
   "source": [
    "profile_fg = fs.get_or_create_feature_group(\n",
    "        name=\"profile\",\n",
    "        primary_key=[\"cc_num\"],\n",
    "        partition_key=[\"cc_provider\"],\n",
    "        version=1)\n",
    "\n",
    "profile_df = profile_fg.insert(profiles_df)"
   ]
  },
  {
   "cell_type": "markdown",
   "id": "c795ab24",
   "metadata": {},
   "source": [
    "## <span style=\"color:#ff5f27;\"> ⚙️ Kafka Topic and Schema Creation </span>"
   ]
  },
  {
   "cell_type": "markdown",
   "id": "3c7b477c",
   "metadata": {},
   "source": [
    "To create a Kafka stream for transactions a topic and schema must be create. The schema used must follow Apache Avro specification, more details can be found in the [documentation](https://avro.apache.org/docs/1.11.1/specification/).\n"
   ]
  },
  {
   "cell_type": "code",
   "execution_count": null,
   "id": "a0599566",
   "metadata": {},
   "outputs": [],
   "source": [
    "# create kafka topic\n",
    "KAFKA_TOPIC_NAME = \"transactions_topic\"\n",
    "SCHEMA_NAME = \"transactions_schema\""
   ]
  },
  {
   "cell_type": "code",
   "execution_count": null,
   "id": "8faf4d44",
   "metadata": {},
   "outputs": [],
   "source": [
    "schema = {\n",
    "    \"type\": \"record\",\n",
    "    \"name\": SCHEMA_NAME,\n",
    "    \"namespace\": \"io.hops.examples.pyspark.example\",\n",
    "    \"fields\": [\n",
    "        {\n",
    "            \"name\": \"tid\",\n",
    "            \"type\": [\n",
    "                \"null\",\n",
    "                \"string\"\n",
    "            ]\n",
    "        },\n",
    "        {\n",
    "            \"name\": \"datetime\",\n",
    "            \"type\": [\n",
    "                \"null\",\n",
    "                {\n",
    "                    \"type\": \"long\",\n",
    "                    \"logicalType\": \"timestamp-micros\"\n",
    "                }\n",
    "            ]\n",
    "        },\n",
    "        {\n",
    "            \"name\": \"cc_num\",\n",
    "            \"type\": [\n",
    "                \"null\",\n",
    "                \"long\"\n",
    "            ]\n",
    "        },\n",
    "        {\n",
    "            \"name\": \"category\",\n",
    "            \"type\": [\n",
    "                \"null\",\n",
    "                \"string\"\n",
    "            ]\n",
    "        },\n",
    "        {\n",
    "            \"name\": \"amount\",\n",
    "            \"type\": [\n",
    "                \"null\",\n",
    "                \"double\"\n",
    "            ]\n",
    "        },\n",
    "        {\n",
    "            \"name\": \"latitude\",\n",
    "            \"type\": [\n",
    "                \"null\",\n",
    "                \"double\"\n",
    "            ]\n",
    "        },\n",
    "        {\n",
    "            \"name\": \"longitude\",\n",
    "            \"type\": [\n",
    "                \"null\",\n",
    "                \"double\"\n",
    "            ]\n",
    "        },\n",
    "        {\n",
    "            \"name\": \"city\",\n",
    "            \"type\": [\n",
    "                \"null\",\n",
    "                \"string\"\n",
    "            ]\n",
    "        },\n",
    "        {\n",
    "            \"name\": \"country\",\n",
    "            \"type\": [\n",
    "                \"null\",\n",
    "                \"string\"\n",
    "            ]\n",
    "        },\n",
    "        {\n",
    "            \"name\": \"fraud_label\",\n",
    "            \"type\": [\n",
    "                \"null\",\n",
    "                \"string\"\n",
    "            ]\n",
    "        },\n",
    "    ]\n",
    "}"
   ]
  },
  {
   "cell_type": "markdown",
   "id": "038abaad",
   "metadata": {},
   "source": [
    "After the schema is created the topic and the associated schema must be registered in Hopsworks so that the topic can be used."
   ]
  },
  {
   "cell_type": "code",
   "execution_count": null,
   "id": "3e00b681",
   "metadata": {},
   "outputs": [],
   "source": [
    "if KAFKA_TOPIC_NAME not in [topic.name for topic in kafka_api.get_topics()]:\n",
    "    kafka_api.create_schema(SCHEMA_NAME, schema)\n",
    "    kafka_api.create_topic(KAFKA_TOPIC_NAME, SCHEMA_NAME, 1, replicas=1, partitions=1)"
   ]
  },
  {
   "cell_type": "markdown",
   "id": "535a692b",
   "metadata": {},
   "source": [
    "## <span style=\"color:#ff5f27;\"> 📡 Sending Data using created Kafka Topic </span>"
   ]
  },
  {
   "cell_type": "markdown",
   "id": "b9ba16ec",
   "metadata": {},
   "source": [
    "While sending data through Kafka we must make sure that the data types are in the same format specified in the schema. \n",
    "\n",
    "Let's make sure that the dataframe has all the components in the correct format."
   ]
  },
  {
   "cell_type": "code",
   "execution_count": null,
   "id": "375b2760",
   "metadata": {},
   "outputs": [],
   "source": [
    "trans_df[\"tid\"] = trans_df[\"tid\"].astype(\"string\")\n",
    "trans_df[\"datetime\"] = pd.to_datetime(trans_df[\"datetime\"])\n",
    "trans_df[\"cc_num\"] = trans_df[\"cc_num\"].astype(\"int64\")\n",
    "trans_df[\"category\"] = trans_df[\"cc_num\"].astype(\"string\")\n",
    "trans_df[\"amount\"] = trans_df[\"amount\"].astype(\"double\")\n",
    "trans_df[\"latitude\"] = trans_df[\"latitude\"].astype(\"double\")\n",
    "trans_df[\"longitude\"] = trans_df[\"longitude\"].astype(\"double\")\n",
    "trans_df[\"city\"] = trans_df[\"city\"].astype(\"string\")\n",
    "trans_df[\"country\"] = trans_df[\"country\"].astype(\"string\")\n",
    "trans_df[\"fraud_label\"] = trans_df[\"fraud_label\"].astype(\"string\")"
   ]
  },
  {
   "cell_type": "markdown",
   "id": "b2c27d9e",
   "metadata": {},
   "source": [
    "Lets get the configuration needed for the producer to used Hopsworks internal kafka using the KafkaAPI"
   ]
  },
  {
   "cell_type": "code",
   "execution_count": null,
   "id": "1d44e3f1",
   "metadata": {},
   "outputs": [],
   "source": [
    "kafka_config = kafka_api.get_default_config()"
   ]
  },
  {
   "cell_type": "markdown",
   "id": "58d8ef0a",
   "metadata": {},
   "source": [
    "Finally, lets create a producer using the Kafka configuration and send data into it.\n",
    "\n",
    "It is important to note that the data passed to the producer must be a json or it must be avro encoded."
   ]
  },
  {
   "cell_type": "code",
   "execution_count": null,
   "id": "9b416972",
   "metadata": {},
   "outputs": [],
   "source": [
    "producer = Producer(kafka_config)\n",
    "\n",
    "for index, transaction in trans_df.iterrows():\n",
    "    producer.produce(KAFKA_TOPIC_NAME, transaction.to_json())\n",
    "    producer.flush()"
   ]
  },
  {
   "cell_type": "markdown",
   "id": "1bbc57f9",
   "metadata": {},
   "source": [
    "---\n",
    "## <span style=\"color:#ff5f27;\">⏭️ **Next:** Part 01: Feature Pipeline</span>\n",
    "\n",
    "In the following notebook you will use the created Kafka stream to insert data into a Feature Group"
   ]
  }
 ],
 "metadata": {
  "kernelspec": {
   "display_name": "Python 3",
   "language": "python",
   "name": "python3"
  },
  "language_info": {
   "codemirror_mode": {
    "name": "ipython",
    "version": 3
   },
   "file_extension": ".py",
   "mimetype": "text/x-python",
   "name": "python",
   "nbconvert_exporter": "python",
   "pygments_lexer": "ipython3",
   "version": "3.10.11"
  }
 },
 "nbformat": 4,
 "nbformat_minor": 5
}
