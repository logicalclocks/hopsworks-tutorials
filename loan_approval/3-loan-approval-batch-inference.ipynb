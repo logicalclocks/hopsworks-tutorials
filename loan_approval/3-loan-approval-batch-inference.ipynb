{
 "cells": [
  {
   "cell_type": "markdown",
   "id": "384b4632",
   "metadata": {},
   "source": [
    "### Batch Inference Pipeline for Aggregate Loan Default Statistics\n",
    "\n",
    "This notebook performs the following actions:\n",
    "\n",
    "* gets a feature view object with its name/version from Hopsworks\n",
    "* downloads a Pandas DataFrame with new inference data from Hopsworks using the feature view and the call `fv.get_batch_data(start_time=\"...\")`\n",
    "* downloads the model from Hopsworks using with its name/version\n",
    "* makes predictions for all input rows of features in the DataFrame using the model\n",
    "* logs all the prediction results and features to a `loan_monitoring` feature group in Hopsworks\n",
    "\n",
    "\n",
    "The *output of this notebook is a dashboard* -  a confusion matrix showing the ratio of predicted good/bad loans for the batch inference data. It is uploaded to Hopsworks and can be viewed from the file system in Hopsworks."
   ]
  },
  {
   "cell_type": "code",
   "execution_count": null,
   "id": "b3a6fa29",
   "metadata": {},
   "outputs": [],
   "source": [
    "!pip install hopsworks"
   ]
  },
  {
   "cell_type": "code",
   "execution_count": null,
   "id": "8efc53a7",
   "metadata": {},
   "outputs": [],
   "source": [
    "import hopsworks\n",
    "import pandas as pd\n",
    "import joblib\n",
    "import os\n",
    "from sklearn.linear_model import LogisticRegression\n",
    "import numpy as np\n",
    "\n",
    "from sklearn.compose import ColumnTransformer\n",
    "from sklearn.pipeline import Pipeline\n",
    "from sklearn.impute import SimpleImputer\n",
    "from sklearn.preprocessing import StandardScaler, OneHotEncoder\n",
    "from sklearn.feature_selection import SelectPercentile, chi2"
   ]
  },
  {
   "cell_type": "code",
   "execution_count": null,
   "id": "c61e3adc",
   "metadata": {},
   "outputs": [],
   "source": [
    "fv_version=1\n",
    "model_version=1\n",
    "start_time_data=\"2016-11-01\"\n",
    "end_time_data=\"2016-12-01\""
   ]
  },
  {
   "cell_type": "code",
   "execution_count": null,
   "id": "7095fb18",
   "metadata": {},
   "outputs": [],
   "source": [
    "import os\n",
    "\n",
    "# Hosted notebook environments may not have the local features package\n",
    "def need_download_modules():\n",
    "    if 'google.colab' in str(get_ipython()):\n",
    "        return True\n",
    "    if 'HOPSWORKS_PROJECT_ID' in os.environ:\n",
    "        return True\n",
    "    return False\n",
    "\n",
    "if need_download_modules():\n",
    "    print(\"Downloading modules\")\n",
    "    os.system('mkdir -p features')\n",
    "    os.system('cd features && wget https://raw.githubusercontent.com/logicalclocks/hopsworks-tutorials/dev/loan_approval/features/loans.py')\n",
    "    os.system('cd features && wget https://raw.githubusercontent.com/logicalclocks/hopsworks-tutorials/dev/loan_approval/features/applicants.py')\n",
    "else:\n",
    "    print(\"Local environment\")"
   ]
  },
  {
   "cell_type": "code",
   "execution_count": null,
   "id": "7f8cd469",
   "metadata": {},
   "outputs": [],
   "source": [
    "import hopsworks\n",
    "\n",
    "proj = hopsworks.login()\n",
    "fs = proj.get_feature_store()"
   ]
  },
  {
   "cell_type": "code",
   "execution_count": null,
   "id": "34d8e82a",
   "metadata": {},
   "outputs": [],
   "source": [
    "fv = fs.get_feature_view(name=\"loans_approvals\", version=fv_version)"
   ]
  },
  {
   "cell_type": "code",
   "execution_count": null,
   "id": "5f94ed59",
   "metadata": {},
   "outputs": [],
   "source": [
    "arr = [f.name for f in fv.schema]\n",
    "print(arr)"
   ]
  },
  {
   "cell_type": "code",
   "execution_count": null,
   "id": "de2a5572",
   "metadata": {},
   "outputs": [],
   "source": [
    "def retrieve_data(feature_view):\n",
    "    batch_data = feature_view.get_batch_data(\n",
    "        start_time=start_time_data, end_time=end_time_data)\n",
    "    return batch_data\n",
    "\n",
    "df = retrieve_data(fv)\n",
    "df"
   ]
  },
  {
   "cell_type": "code",
   "execution_count": null,
   "id": "c435cd7c",
   "metadata": {},
   "outputs": [],
   "source": [
    "def get_model(project):\n",
    "    mr = project.get_model_registry()\n",
    "    model = mr.get_model(\"lending_model\", version=model_version)\n",
    "    model_dir = model.download()\n",
    "    return joblib.load(model_dir + \"/lending_model.pkl\")\n",
    "\n",
    "model = get_model(proj)"
   ]
  },
  {
   "cell_type": "code",
   "execution_count": null,
   "id": "37127def",
   "metadata": {},
   "outputs": [],
   "source": [
    "predictions = model.predict(df)\n",
    "predictions"
   ]
  },
  {
   "cell_type": "code",
   "execution_count": null,
   "id": "405e2098",
   "metadata": {},
   "outputs": [],
   "source": [
    "np.unique(predictions, return_counts=True)"
   ]
  },
  {
   "cell_type": "code",
   "execution_count": null,
   "id": "6ba4e36c",
   "metadata": {},
   "outputs": [],
   "source": [
    "cols = []\n",
    "for td in fv.schema:\n",
    "    cols.append(td.name)\n",
    "\n",
    "predictions_df = pd.DataFrame(predictions, columns=[\"prediction\"])\n",
    "predictions_df"
   ]
  },
  {
   "cell_type": "code",
   "execution_count": null,
   "id": "656aed89",
   "metadata": {},
   "outputs": [],
   "source": [
    "import time\n",
    "\n",
    "fg = fs.get_feature_group(name=\"loans\", version=1)\n",
    "labels_df = fg.read()"
   ]
  },
  {
   "cell_type": "code",
   "execution_count": null,
   "id": "b823558d",
   "metadata": {},
   "outputs": [],
   "source": [
    "monitor_df = df.copy()\n",
    "monitor_df['prediction'] = predictions_df\n",
    "\n",
    "monitor_df['prediction'] = predictions_df.prediction.map({1:'Fully Paid', 0:'Charged Off'})\n",
    "\n",
    "monitor_df['outcome'] = labels_df['loan_status']\n",
    "monitor_df['prediction_ts'] = pd.datetime.now()\n",
    "\n",
    "monitor_df['id'] = monitor_df.index\n",
    "\n",
    "monitor_df"
   ]
  },
  {
   "cell_type": "code",
   "execution_count": null,
   "id": "0812876c",
   "metadata": {},
   "outputs": [],
   "source": [
    "loan_monitoring_fg = fs.get_or_create_feature_group(name=\"loan_monitoring\",\n",
    "                                    version=1,\n",
    "                                    description=\"Lending Club Loan Predictions and Outcomes\",\n",
    "                                    primary_key=['id'],\n",
    "                                    event_time='prediction_ts'\n",
    ")"
   ]
  },
  {
   "cell_type": "code",
   "execution_count": null,
   "id": "3d99025a",
   "metadata": {},
   "outputs": [],
   "source": [
    "loan_monitoring_fg.insert(monitor_df)"
   ]
  },
  {
   "cell_type": "code",
   "execution_count": null,
   "id": "260b49ad",
   "metadata": {},
   "outputs": [],
   "source": [
    "from sklearn.metrics import confusion_matrix\n",
    "\n",
    "predictions = monitor_df[['prediction']]\n",
    "labels = monitor_df[['outcome']]\n",
    "\n",
    "results = confusion_matrix(labels, predictions)\n",
    "print(results)"
   ]
  },
  {
   "cell_type": "code",
   "execution_count": null,
   "id": "b468a13b",
   "metadata": {},
   "outputs": [],
   "source": [
    "from matplotlib import pyplot\n",
    "import seaborn as sns\n",
    "\n",
    "df_cm = pd.DataFrame(results, ['True Defaulted', 'True Paid Off'],\n",
    "                     ['Predicted Defaulted','Predicted Paid Off'])\n",
    "\n",
    "cm = sns.heatmap(df_cm, annot=True)\n",
    "\n",
    "fig = cm.get_figure()\n",
    "fig.savefig(\"./confusion_matrix.png\") \n",
    "df_cm"
   ]
  },
  {
   "cell_type": "code",
   "execution_count": null,
   "id": "39524f7f",
   "metadata": {},
   "outputs": [],
   "source": [
    "dataset_api = proj.get_dataset_api()    \n",
    "dataset_api.upload(\"./confusion_matrix.png\", \"Resources/images\", overwrite=True)"
   ]
  },
  {
   "cell_type": "code",
   "execution_count": null,
   "id": "b1e60420",
   "metadata": {},
   "outputs": [],
   "source": []
  }
 ],
 "metadata": {
  "kernelspec": {
   "display_name": "main",
   "language": "python",
   "name": "main"
  },
  "language_info": {
   "codemirror_mode": {
    "name": "ipython",
    "version": 3
   },
   "file_extension": ".py",
   "mimetype": "text/x-python",
   "name": "python",
   "nbconvert_exporter": "python",
   "pygments_lexer": "ipython3",
   "version": "3.9.0"
  },
  "papermill": {
   "default_parameters": {},
   "duration": 1434.559462,
   "end_time": "2023-01-31T14:35:09.548746",
   "environment_variables": {},
   "exception": null,
   "input_path": "__notebook__.ipynb",
   "output_path": "__notebook__.ipynb",
   "parameters": {},
   "start_time": "2023-01-31T14:11:14.989284",
   "version": "2.3.4"
  }
 },
 "nbformat": 4,
 "nbformat_minor": 5
}
