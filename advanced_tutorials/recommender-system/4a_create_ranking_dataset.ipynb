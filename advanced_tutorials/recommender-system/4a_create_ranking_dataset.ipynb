{
 "cells": [
  {
   "cell_type": "markdown",
   "metadata": {},
   "source": [
    "## <span style=\"color:#ff5f27\">👨🏻‍🏫 Create Ranking Dataset </span>\n",
    "\n",
    "In this notebook, we'll create a dataset for our ranking model. Since our dataset only consists of positive user-item interactions (transactions) we need to do negative sampling. (Otherwise our model might just recommend all items to all users.)"
   ]
  },
  {
   "cell_type": "markdown",
   "metadata": {},
   "source": [
    "## <span style=\"color:#ff5f27\">📝 Imports </span>"
   ]
  },
  {
   "cell_type": "code",
   "execution_count": null,
   "metadata": {},
   "outputs": [],
   "source": [
    "# Hosted notebook environments may not have the local features package\n",
    "import os\n",
    "\n",
    "def need_download_modules():\n",
    "    if 'google.colab' in str(get_ipython()):\n",
    "        return True\n",
    "    if 'HOPSWORKS_PROJECT_ID' in os.environ:\n",
    "        return True\n",
    "    return False\n",
    "\n",
    "if need_download_modules():\n",
    "    print(\"⚙️ Downloading modules...\")\n",
    "    os.system('mkdir -p functions')\n",
    "    os.system('cd functions && wget https://raw.githubusercontent.com/logicalclocks/hopsworks-tutorials/master/advanced_tutorials/recommender-system/functions/ranking_dataset.py')\n",
    "    print('✅ Done!')\n",
    "else:\n",
    "    print(\"Local environment\")"
   ]
  },
  {
   "cell_type": "code",
   "execution_count": null,
   "metadata": {},
   "outputs": [],
   "source": [
    "try:\n",
    "    from functions.ranking_dataset import get_ranking_dataset\n",
    "except ImportError:\n",
    "    print(\"⚙️ Downloading modules...\")\n",
    "    os.system('mkdir -p functions')\n",
    "    os.system('cd functions && wget https://raw.githubusercontent.com/logicalclocks/hopsworks-tutorials/master/advanced_tutorials/recommender-system/functions/ranking_dataset.py')\n",
    "    print('✅ Done!')\n",
    "    from functions.ranking_dataset import get_ranking_dataset"
   ]
  },
  {
   "cell_type": "code",
   "execution_count": null,
   "metadata": {},
   "outputs": [],
   "source": [
    "import pandas as pd\n",
    "\n",
    "import warnings\n",
    "warnings.filterwarnings('ignore')"
   ]
  },
  {
   "cell_type": "markdown",
   "metadata": {},
   "source": [
    "## <span style=\"color:#ff5f27\">🔮 Connect to Hopsworks Feature Store </span>"
   ]
  },
  {
   "cell_type": "code",
   "execution_count": null,
   "metadata": {},
   "outputs": [],
   "source": [
    "import hopsworks\n",
    "\n",
    "project = hopsworks.login()\n",
    "\n",
    "fs = project.get_feature_store()"
   ]
  },
  {
   "cell_type": "markdown",
   "metadata": {},
   "source": [
    "## <span style=\"color:#ff5f27\">🪝 Retrieve Feature View and Training Dataset</span>\n"
   ]
  },
  {
   "cell_type": "code",
   "execution_count": null,
   "metadata": {},
   "outputs": [],
   "source": [
    "feature_view_retrieval = fs.get_feature_view(\n",
    "    name=\"retrieval\", \n",
    "    version=1,\n",
    ")\n",
    "feature_view_articles = fs.get_feature_view(\n",
    "    name='articles',\n",
    "    version=1,\n",
    ")"
   ]
  },
  {
   "cell_type": "code",
   "execution_count": null,
   "metadata": {},
   "outputs": [],
   "source": [
    "train_df, val_df, test_df, y_train, y_val, y_test = feature_view_retrieval.train_validation_test_split(\n",
    "    validation_size=0.1, \n",
    "    test_size=0.1,\n",
    "    description='Retrieval dataset splits',\n",
    ")"
   ]
  },
  {
   "cell_type": "code",
   "execution_count": null,
   "metadata": {
    "tags": []
   },
   "outputs": [],
   "source": [
    "train_df[\"article_id\"] = train_df[\"article_id\"].astype(str) # to be deleted\n",
    "val_df[\"article_id\"] = val_df[\"article_id\"].astype(str)\n",
    "test_df[\"article_id\"] = test_df[\"article_id\"].astype(str)"
   ]
  },
  {
   "cell_type": "code",
   "execution_count": null,
   "metadata": {},
   "outputs": [],
   "source": [
    "ranking_train = get_ranking_dataset(\n",
    "    train_df, \n",
    "    'train', \n",
    "    feature_view_articles,\n",
    ")\n",
    "ranking_validation = get_ranking_dataset(\n",
    "    val_df, \n",
    "    'validation', \n",
    "    feature_view_articles,\n",
    ")\n",
    "ranking_train.head(3)"
   ]
  },
  {
   "cell_type": "markdown",
   "metadata": {},
   "source": [
    "## <span style=\"color:#ff5f27\">🪄 Ranking Feature Group Creation </span>\n"
   ]
  },
  {
   "cell_type": "code",
   "execution_count": null,
   "metadata": {},
   "outputs": [],
   "source": [
    "trans_fg = fs.get_feature_group(\n",
    "    name=\"transactions\",\n",
    "    version=1,\n",
    ")\n",
    "customers_fg = fs.get_feature_group(\n",
    "    name=\"customers\",\n",
    "    version=1,\n",
    ")\n",
    "articles_fg = fs.get_feature_group(\n",
    "    name=\"articles\",\n",
    "    version=1,\n",
    ")"
   ]
  },
  {
   "cell_type": "code",
   "execution_count": null,
   "metadata": {},
   "outputs": [],
   "source": [
    "ranking_train_fg = fs.get_or_create_feature_group(\n",
    "    name=\"ranking_train\",\n",
    "    description=\"Training Ranking Data\",\n",
    "    version=1,\n",
    "    primary_key=[\"index\"],\n",
    "    parents=[articles_fg, customers_fg, trans_fg],\n",
    ")\n",
    "ranking_train_fg.insert(ranking_train.reset_index())"
   ]
  },
  {
   "cell_type": "code",
   "execution_count": null,
   "metadata": {},
   "outputs": [],
   "source": [
    "ranking_val_fg = fs.get_or_create_feature_group(\n",
    "    name=\"ranking_val\",\n",
    "    description=\"Validation Ranking Data\",\n",
    "    version=1,\n",
    "    primary_key=[\"index\"],\n",
    "    parents=[articles_fg, customers_fg, trans_fg],\n",
    ")\n",
    "ranking_val_fg.insert(ranking_validation.reset_index())"
   ]
  },
  {
   "cell_type": "markdown",
   "metadata": {},
   "source": [
    "## <span style=\"color:#ff5f27\">⚙️ Feature View Creation </span>"
   ]
  },
  {
   "cell_type": "code",
   "execution_count": null,
   "metadata": {},
   "outputs": [],
   "source": [
    "query_train = ranking_train_fg.select_except('index')\n",
    "\n",
    "ranking_train_fv = fs.get_or_create_feature_view(\n",
    "    name='ranking_train',\n",
    "    version=1,\n",
    "    query=query_train,\n",
    ")"
   ]
  },
  {
   "cell_type": "code",
   "execution_count": null,
   "metadata": {},
   "outputs": [],
   "source": [
    "query_val = ranking_val_fg.select_except('index')\n",
    "\n",
    "ranking_val_fv = fs.get_or_create_feature_view(\n",
    "    name='ranking_val',\n",
    "    version=1,\n",
    "    query=query_val,\n",
    ")"
   ]
  },
  {
   "cell_type": "markdown",
   "metadata": {},
   "source": [
    "---\n",
    "## <span style=\"color:#ff5f27\">⏩️ Next Steps </span>\n",
    "\n",
    "In the next notebook, we'll train a ranking model on the dataset we created in this notebook."
   ]
  }
 ],
 "metadata": {
  "interpreter": {
   "hash": "31f2aee4e71d21fbe5cf8b01ff0e069b9275f58929596ceb00d14d90e3e16cd6"
  },
  "kernelspec": {
   "display_name": "Python",
   "language": "python",
   "name": "python3"
  },
  "language_info": {
   "codemirror_mode": {
    "name": "ipython",
    "version": 3
   },
   "file_extension": ".py",
   "mimetype": "text/x-python",
   "name": "python",
   "nbconvert_exporter": "python",
   "pygments_lexer": "ipython3",
   "version": "3.10.11"
  }
 },
 "nbformat": 4,
 "nbformat_minor": 4
}