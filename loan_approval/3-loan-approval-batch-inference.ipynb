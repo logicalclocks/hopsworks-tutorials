{
 "cells": [
  {
   "cell_type": "markdown",
   "id": "3795581f",
   "metadata": {},
   "source": [
    "## <span style=\"color:#ff5f27;\">🚀 Batch Inference Pipeline</span>\n",
    "\n",
    "This notebook performs the following actions:\n",
    "\n",
    "* Gets a feature view object with its name/version from Hopsworks\n",
    "* Downloads a Pandas DataFrame with new inference data from Hopsworks using the feature view and the call `fv.get_batch_data(start_time=\"...\")`.\n",
    "* Downloads the model from Hopsworks using with its name/version.\n",
    "* Makes predictions on batch data."
   ]
  },
  {
   "cell_type": "markdown",
   "id": "d5c48a06",
   "metadata": {},
   "source": [
    "## <span style=\"color:#ff5f27;\">📝 Imports </span>\n"
   ]
  },
  {
   "cell_type": "code",
   "execution_count": null,
   "id": "6677341a",
   "metadata": {},
   "outputs": [],
   "source": [
    "!pip install --quiet hopsworks "
   ]
  },
  {
   "cell_type": "code",
   "execution_count": null,
   "id": "28f7509e",
   "metadata": {},
   "outputs": [],
   "source": [
    "import hopsworks\n",
    "import pandas as pd\n",
    "import joblib\n",
    "import os\n",
    "import numpy as np\n",
    "from sklearn.metrics import confusion_matrix\n",
    "from matplotlib import pyplot\n",
    "import seaborn as sns"
   ]
  },
  {
   "cell_type": "code",
   "execution_count": null,
   "id": "76b5901d",
   "metadata": {},
   "outputs": [],
   "source": [
    "# Define version numbers for feature view and model\n",
    "FV_VERSION = 1\n",
    "MODEL_VERSION = 1\n",
    "\n",
    "# Define start and end times for the data\n",
    "START_TIME_DATA = \"2016-11-01\"\n",
    "END_TIME_DATA = \"2016-12-01\""
   ]
  },
  {
   "cell_type": "markdown",
   "id": "c6ebb07e",
   "metadata": {},
   "source": [
    "## <span style=\"color:#ff5f27;\"> 🔮 Connect to Hopsworks Feature Store</span>"
   ]
  },
  {
   "cell_type": "code",
   "execution_count": null,
   "id": "ec202adb",
   "metadata": {},
   "outputs": [],
   "source": [
    "import hopsworks\n",
    "\n",
    "project = hopsworks.login()\n",
    "\n",
    "fs = project.get_feature_store()"
   ]
  },
  {
   "cell_type": "markdown",
   "id": "c35f50e8",
   "metadata": {},
   "source": [
    "## <span style=\"color:#ff5f27;\"> ⚙️ Feature View Retrieval</span>\n"
   ]
  },
  {
   "cell_type": "code",
   "execution_count": null,
   "id": "fde529ba",
   "metadata": {},
   "outputs": [],
   "source": [
    "# Get the 'loans_approvals' feature view\n",
    "feature_view = fs.get_feature_view(\n",
    "    name=\"loans_approvals\", \n",
    "    version=FV_VERSION,\n",
    ")"
   ]
  },
  {
   "cell_type": "markdown",
   "id": "871fb3e6",
   "metadata": {},
   "source": [
    "## <span style=\"color:#ff5f27;\">🗄 Model Registry</span>\n"
   ]
  },
  {
   "cell_type": "code",
   "execution_count": null,
   "id": "629006f7",
   "metadata": {},
   "outputs": [],
   "source": [
    "# Get the model registry\n",
    "mr = project.get_model_registry()"
   ]
  },
  {
   "cell_type": "markdown",
   "id": "e33a656a",
   "metadata": {},
   "source": [
    "## <span style='color:#ff5f27'>🚀 Fetch and test the model</span>"
   ]
  },
  {
   "cell_type": "code",
   "execution_count": null,
   "id": "296b3056",
   "metadata": {},
   "outputs": [],
   "source": [
    "# Retrieve the model from the Model Registry using the name \"lending_model\" and specified version\n",
    "model = mr.get_model(\n",
    "    \"lending_model\",\n",
    "    version=MODEL_VERSION,\n",
    ")\n",
    "\n",
    "# Download the model directory from the Model Registry\n",
    "model_dir = model.download()\n",
    "\n",
    "# Load the model using joblib from the downloaded model directory\n",
    "model = joblib.load(model_dir + \"/lending_model.pkl\")"
   ]
  },
  {
   "cell_type": "markdown",
   "id": "a4d09d2a",
   "metadata": {},
   "source": [
    "## <span style=\"color:#ff5f27;\">🔮  Batch Prediction </span>"
   ]
  },
  {
   "cell_type": "code",
   "execution_count": null,
   "id": "6ff15884",
   "metadata": {},
   "outputs": [],
   "source": [
    "# Initialize batch scoring\n",
    "feature_view.init_batch_scoring(1)\n",
    "\n",
    "# Get batch data for a specified time range from start_time_data to end_time_data\n",
    "batch_data = feature_view.get_batch_data(\n",
    "    start_time=START_TIME_DATA,\n",
    "    end_time=END_TIME_DATA,\n",
    ")\n",
    "\n",
    "# Display the first three rows of the batch data\n",
    "batch_data.head(3)"
   ]
  },
  {
   "cell_type": "code",
   "execution_count": null,
   "id": "0fa57b92",
   "metadata": {},
   "outputs": [],
   "source": [
    "# Make predictions on the batch data using the loaded model\n",
    "predictions = model.predict(batch_data)\n",
    "\n",
    "# Display the first 10 predictions\n",
    "predictions[:10]"
   ]
  },
  {
   "cell_type": "markdown",
   "id": "734918f3",
   "metadata": {},
   "source": [
    "---\n",
    "\n",
    "### <span style=\"color:#ff5f27;\">🥳 <b> Next Steps  </b> </span>\n",
    "Congratulations you've now completed the Loan Approval tutorial for Managed Hopsworks.\n",
    "\n",
    "Check out our other tutorials on ➡ https://github.com/logicalclocks/hopsworks-tutorials\n",
    "\n",
    "Or documentation at ➡ https://docs.hopsworks.ai"
   ]
  }
 ],
 "metadata": {
  "kernelspec": {
   "display_name": "Python 3",
   "language": "python",
   "name": "python3"
  },
  "language_info": {
   "codemirror_mode": {
    "name": "ipython",
    "version": 3
   },
   "file_extension": ".py",
   "mimetype": "text/x-python",
   "name": "python",
   "nbconvert_exporter": "python",
   "pygments_lexer": "ipython3",
   "version": "3.10.11"
  },
  "papermill": {
   "default_parameters": {},
   "duration": 1434.559462,
   "end_time": "2023-01-31T14:35:09.548746",
   "environment_variables": {},
   "exception": null,
   "input_path": "__notebook__.ipynb",
   "output_path": "__notebook__.ipynb",
   "parameters": {},
   "start_time": "2023-01-31T14:11:14.989284",
   "version": "2.3.4"
  }
 },
 "nbformat": 4,
 "nbformat_minor": 5
}
