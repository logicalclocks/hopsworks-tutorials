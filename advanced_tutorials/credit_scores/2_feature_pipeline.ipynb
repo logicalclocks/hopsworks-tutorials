{
 "cells": [
  {
   "cell_type": "markdown",
   "id": "0c1bef5a",
   "metadata": {},
   "source": [
    "# <span style=\"font-width:bold; font-size: 3rem; color:#1EB182;\"><img src=\"../../images/icon102.png\" width=\"38px\"></img> **Hopsworks Feature Store** </span><span style=\"font-width:bold; font-size: 3rem; color:#333;\">- Part 02: Feature Pipeline</span>\n",
    "\n",
    "[![Open In Colab](https://colab.research.google.com/assets/colab-badge.svg)](https://colab.research.google.com/github/logicalclocks/hopsworks-tutorials/blob/master/advanced_tutorials/credit_scores/2_feature_pipeline.ipynb)\n",
    "\n",
    "## 🗒️ This notebook is divided into the following sections:\n",
    "1. Data Generation\n",
    "2. Feature Group insertion"
   ]
  },
  {
   "cell_type": "markdown",
   "id": "7df0124e",
   "metadata": {},
   "source": [
    "## <span style=\"color:#ff5f27;\"> 🔮 Connecting to Hopsworks Feature Store </span>"
   ]
  },
  {
   "cell_type": "code",
   "execution_count": 1,
   "id": "48491116",
   "metadata": {},
   "outputs": [
    {
     "name": "stdout",
     "output_type": "stream",
     "text": [
      "Connected. Call `.close()` to terminate connection gracefully.\n",
      "\n",
      "Logged in to project, explore it here https://c.app.hopsworks.ai:443/p/398\n",
      "Connected. Call `.close()` to terminate connection gracefully.\n"
     ]
    }
   ],
   "source": [
    "import hopsworks\n",
    "\n",
    "project = hopsworks.login()\n",
    "\n",
    "fs = project.get_feature_store() "
   ]
  },
  {
   "cell_type": "markdown",
   "id": "57eca6c3",
   "metadata": {},
   "source": [
    "## <span style=\"color:#ff5f27;\">🪄 Retrieving Feature Groups</span>"
   ]
  },
  {
   "cell_type": "markdown",
   "id": "1245fe97",
   "metadata": {},
   "source": [
    "#### <span style=\"color:#ff5f27;\">⛳️ Application Train Feature Group</span>"
   ]
  },
  {
   "cell_type": "code",
   "execution_count": 2,
   "id": "9dac811a",
   "metadata": {},
   "outputs": [
    {
     "name": "stdout",
     "output_type": "stream",
     "text": [
      "2023-03-05 07:30:40,585 INFO: USE `dowlingj_featurestore`\n",
      "2023-03-05 07:30:41,158 INFO: SELECT `fg0`.`sk_id_curr` `sk_id_curr`, `fg0`.`target` `target`, `fg0`.`name_contract_type` `name_contract_type`, `fg0`.`code_gender` `code_gender`, `fg0`.`flag_own_car` `flag_own_car`, `fg0`.`flag_own_realty` `flag_own_realty`, `fg0`.`cnt_children` `cnt_children`, `fg0`.`amt_income_total` `amt_income_total`, `fg0`.`amt_credit` `amt_credit`, `fg0`.`amt_annuity` `amt_annuity`, `fg0`.`amt_goods_price` `amt_goods_price`, `fg0`.`name_type_suite` `name_type_suite`, `fg0`.`name_income_type` `name_income_type`, `fg0`.`name_education_type` `name_education_type`, `fg0`.`name_family_status` `name_family_status`, `fg0`.`name_housing_type` `name_housing_type`, `fg0`.`region_population_relative` `region_population_relative`, `fg0`.`days_birth` `days_birth`, `fg0`.`days_employed` `days_employed`, `fg0`.`days_registration` `days_registration`, `fg0`.`days_id_publish` `days_id_publish`, `fg0`.`flag_mobil` `flag_mobil`, `fg0`.`flag_emp_phone` `flag_emp_phone`, `fg0`.`flag_work_phone` `flag_work_phone`, `fg0`.`flag_cont_mobile` `flag_cont_mobile`, `fg0`.`flag_phone` `flag_phone`, `fg0`.`flag_email` `flag_email`, `fg0`.`cnt_fam_members` `cnt_fam_members`, `fg0`.`region_rating_client` `region_rating_client`, `fg0`.`region_rating_client_w_city` `region_rating_client_w_city`, `fg0`.`weekday_appr_process_start` `weekday_appr_process_start`, `fg0`.`hour_appr_process_start` `hour_appr_process_start`, `fg0`.`reg_region_not_live_region` `reg_region_not_live_region`, `fg0`.`reg_region_not_work_region` `reg_region_not_work_region`, `fg0`.`live_region_not_work_region` `live_region_not_work_region`, `fg0`.`reg_city_not_live_city` `reg_city_not_live_city`, `fg0`.`reg_city_not_work_city` `reg_city_not_work_city`, `fg0`.`live_city_not_work_city` `live_city_not_work_city`, `fg0`.`organization_type` `organization_type`, `fg0`.`ext_source_2` `ext_source_2`, `fg0`.`ext_source_3` `ext_source_3`, `fg0`.`obs_30_cnt_social_circle` `obs_30_cnt_social_circle`, `fg0`.`def_30_cnt_social_circle` `def_30_cnt_social_circle`, `fg0`.`obs_60_cnt_social_circle` `obs_60_cnt_social_circle`, `fg0`.`def_60_cnt_social_circle` `def_60_cnt_social_circle`, `fg0`.`days_last_phone_change` `days_last_phone_change`, `fg0`.`flag_document_2` `flag_document_2`, `fg0`.`flag_document_3` `flag_document_3`, `fg0`.`flag_document_4` `flag_document_4`, `fg0`.`flag_document_5` `flag_document_5`, `fg0`.`flag_document_6` `flag_document_6`, `fg0`.`flag_document_7` `flag_document_7`, `fg0`.`flag_document_8` `flag_document_8`, `fg0`.`flag_document_9` `flag_document_9`, `fg0`.`flag_document_10` `flag_document_10`, `fg0`.`flag_document_11` `flag_document_11`, `fg0`.`flag_document_12` `flag_document_12`, `fg0`.`flag_document_13` `flag_document_13`, `fg0`.`flag_document_14` `flag_document_14`, `fg0`.`flag_document_15` `flag_document_15`, `fg0`.`flag_document_16` `flag_document_16`, `fg0`.`flag_document_17` `flag_document_17`, `fg0`.`flag_document_18` `flag_document_18`, `fg0`.`flag_document_19` `flag_document_19`, `fg0`.`flag_document_20` `flag_document_20`, `fg0`.`flag_document_21` `flag_document_21`, `fg0`.`amt_req_credit_bureau_hour` `amt_req_credit_bureau_hour`, `fg0`.`amt_req_credit_bureau_day` `amt_req_credit_bureau_day`, `fg0`.`amt_req_credit_bureau_week` `amt_req_credit_bureau_week`, `fg0`.`amt_req_credit_bureau_mon` `amt_req_credit_bureau_mon`, `fg0`.`amt_req_credit_bureau_qrt` `amt_req_credit_bureau_qrt`, `fg0`.`amt_req_credit_bureau_year` `amt_req_credit_bureau_year`\n",
      "FROM `dowlingj_featurestore`.`application_1` `fg0`\n"
     ]
    },
    {
     "name": "stderr",
     "output_type": "stream",
     "text": [
      "UserWarning: pandas only support SQLAlchemy connectable(engine/connection) ordatabase string URI or sqlite3 DBAPI2 connectionother DBAPI2 objects are not tested, please consider using SQLAlchemy\n"
     ]
    }
   ],
   "source": [
    "application_fg = fs.get_or_create_feature_group(\n",
    "    name = 'application',\n",
    "    version = 1\n",
    ")\n",
    "application_df = application_fg.read()"
   ]
  },
  {
   "cell_type": "markdown",
   "id": "d6b3fc27",
   "metadata": {},
   "source": [
    "#### <span style=\"color:#ff5f27;\">⛳️ Bureau Balance Feature Group</span>"
   ]
  },
  {
   "cell_type": "code",
   "execution_count": 3,
   "id": "e8e05fda",
   "metadata": {},
   "outputs": [
    {
     "name": "stdout",
     "output_type": "stream",
     "text": [
      "2023-03-05 07:30:46,118 INFO: USE `dowlingj_featurestore`\n",
      "2023-03-05 07:30:46,681 INFO: SELECT `fg0`.`sk_id_bureau` `sk_id_bureau`, `fg0`.`months_balance` `months_balance`, `fg0`.`status` `status`\n",
      "FROM `dowlingj_featurestore`.`bureau_balance_1` `fg0`\n"
     ]
    },
    {
     "name": "stderr",
     "output_type": "stream",
     "text": [
      "UserWarning: pandas only support SQLAlchemy connectable(engine/connection) ordatabase string URI or sqlite3 DBAPI2 connectionother DBAPI2 objects are not tested, please consider using SQLAlchemy\n"
     ]
    }
   ],
   "source": [
    "bureau_balance_fg = fs.get_or_create_feature_group(\n",
    "    name = 'bureau_balance',\n",
    "    version = 1\n",
    ")\n",
    "bureau_balance_df = bureau_balance_fg.read()"
   ]
  },
  {
   "cell_type": "markdown",
   "id": "5a39f77c",
   "metadata": {},
   "source": [
    "#### <span style=\"color:#ff5f27;\">⛳️ Bureau Feature Group</span>"
   ]
  },
  {
   "cell_type": "code",
   "execution_count": 4,
   "id": "5ca9192f",
   "metadata": {},
   "outputs": [
    {
     "name": "stdout",
     "output_type": "stream",
     "text": [
      "2023-03-05 07:30:51,053 INFO: USE `dowlingj_featurestore`\n",
      "2023-03-05 07:30:51,621 INFO: SELECT `fg0`.`sk_id_curr` `sk_id_curr`, `fg0`.`sk_id_bureau` `sk_id_bureau`, `fg0`.`credit_active` `credit_active`, `fg0`.`credit_currency` `credit_currency`, `fg0`.`days_credit` `days_credit`, `fg0`.`credit_day_overdue` `credit_day_overdue`, `fg0`.`days_credit_enddate` `days_credit_enddate`, `fg0`.`cnt_credit_prolong` `cnt_credit_prolong`, `fg0`.`amt_credit_sum` `amt_credit_sum`, `fg0`.`amt_credit_sum_debt` `amt_credit_sum_debt`, `fg0`.`amt_credit_sum_overdue` `amt_credit_sum_overdue`, `fg0`.`credit_type` `credit_type`, `fg0`.`days_credit_update` `days_credit_update`\n",
      "FROM `dowlingj_featurestore`.`bureau_1` `fg0`\n"
     ]
    },
    {
     "name": "stderr",
     "output_type": "stream",
     "text": [
      "UserWarning: pandas only support SQLAlchemy connectable(engine/connection) ordatabase string URI or sqlite3 DBAPI2 connectionother DBAPI2 objects are not tested, please consider using SQLAlchemy\n"
     ]
    }
   ],
   "source": [
    "bureau_fg = fs.get_or_create_feature_group(\n",
    "    name = 'bureau',\n",
    "    version = 1\n",
    ")\n",
    "bureau_df = bureau_fg.read()"
   ]
  },
  {
   "cell_type": "markdown",
   "id": "ed7a7444",
   "metadata": {},
   "source": [
    "#### <span style=\"color:#ff5f27;\">⛳️ Credit Card Balance Feature Group</span>"
   ]
  },
  {
   "cell_type": "code",
   "execution_count": 5,
   "id": "4799a526",
   "metadata": {},
   "outputs": [
    {
     "name": "stdout",
     "output_type": "stream",
     "text": [
      "2023-03-05 07:30:57,940 INFO: USE `dowlingj_featurestore`\n",
      "2023-03-05 07:30:58,627 INFO: SELECT `fg0`.`sk_id_prev` `sk_id_prev`, `fg0`.`sk_id_curr` `sk_id_curr`, `fg0`.`months_balance` `months_balance`, `fg0`.`amt_balance` `amt_balance`, `fg0`.`amt_credit_limit_actual` `amt_credit_limit_actual`, `fg0`.`amt_drawings_atm_current` `amt_drawings_atm_current`, `fg0`.`amt_drawings_current` `amt_drawings_current`, `fg0`.`amt_drawings_other_current` `amt_drawings_other_current`, `fg0`.`amt_drawings_pos_current` `amt_drawings_pos_current`, `fg0`.`amt_inst_min_regularity` `amt_inst_min_regularity`, `fg0`.`amt_payment_current` `amt_payment_current`, `fg0`.`amt_payment_total_current` `amt_payment_total_current`, `fg0`.`amt_receivable_principal` `amt_receivable_principal`, `fg0`.`amt_recivable` `amt_recivable`, `fg0`.`amt_total_receivable` `amt_total_receivable`, `fg0`.`cnt_drawings_atm_current` `cnt_drawings_atm_current`, `fg0`.`cnt_drawings_current` `cnt_drawings_current`, `fg0`.`cnt_drawings_other_current` `cnt_drawings_other_current`, `fg0`.`cnt_drawings_pos_current` `cnt_drawings_pos_current`, `fg0`.`cnt_instalment_mature_cum` `cnt_instalment_mature_cum`, `fg0`.`name_contract_status` `name_contract_status`, `fg0`.`sk_dpd` `sk_dpd`, `fg0`.`sk_dpd_def` `sk_dpd_def`\n",
      "FROM `dowlingj_featurestore`.`credit_card_balance_1` `fg0`\n"
     ]
    },
    {
     "name": "stderr",
     "output_type": "stream",
     "text": [
      "UserWarning: pandas only support SQLAlchemy connectable(engine/connection) ordatabase string URI or sqlite3 DBAPI2 connectionother DBAPI2 objects are not tested, please consider using SQLAlchemy\n"
     ]
    }
   ],
   "source": [
    "credit_card_balance_fg = fs.get_or_create_feature_group(\n",
    "    name = 'credit_card_balance',\n",
    "    version = 1\n",
    ")\n",
    "credit_card_balance_df = credit_card_balance_fg.read()"
   ]
  },
  {
   "cell_type": "markdown",
   "id": "9b369b5c",
   "metadata": {},
   "source": [
    "#### <span style=\"color:#ff5f27;\">⛳️ Installments Payments Feature Group</span>"
   ]
  },
  {
   "cell_type": "code",
   "execution_count": 6,
   "id": "c190a7b8",
   "metadata": {},
   "outputs": [
    {
     "name": "stdout",
     "output_type": "stream",
     "text": [
      "2023-03-05 07:31:03,658 INFO: USE `dowlingj_featurestore`\n",
      "2023-03-05 07:31:04,293 INFO: SELECT `fg0`.`sk_id_prev` `sk_id_prev`, `fg0`.`sk_id_curr` `sk_id_curr`, `fg0`.`num_instalment_version` `num_instalment_version`, `fg0`.`num_instalment_number` `num_instalment_number`, `fg0`.`days_instalment` `days_instalment`, `fg0`.`days_entry_payment` `days_entry_payment`, `fg0`.`amt_instalment` `amt_instalment`, `fg0`.`amt_payment` `amt_payment`\n",
      "FROM `dowlingj_featurestore`.`installments_payments_1` `fg0`\n"
     ]
    },
    {
     "name": "stderr",
     "output_type": "stream",
     "text": [
      "UserWarning: pandas only support SQLAlchemy connectable(engine/connection) ordatabase string URI or sqlite3 DBAPI2 connectionother DBAPI2 objects are not tested, please consider using SQLAlchemy\n"
     ]
    }
   ],
   "source": [
    "installments_payments_fg = fs.get_or_create_feature_group(\n",
    "    name = 'installments_payments',\n",
    "    version = 1\n",
    ")\n",
    "installments_payments_df = installments_payments_fg.read()"
   ]
  },
  {
   "cell_type": "markdown",
   "id": "d50146a2",
   "metadata": {},
   "source": [
    "#### <span style=\"color:#ff5f27;\">⛳️ POS (point of sales) and Cash Loans Balance Feature Group</span>"
   ]
  },
  {
   "cell_type": "code",
   "execution_count": 7,
   "id": "07f7085e",
   "metadata": {},
   "outputs": [
    {
     "name": "stdout",
     "output_type": "stream",
     "text": [
      "2023-03-05 07:31:10,693 INFO: USE `dowlingj_featurestore`\n",
      "2023-03-05 07:31:11,329 INFO: SELECT `fg0`.`sk_id_prev` `sk_id_prev`, `fg0`.`sk_id_curr` `sk_id_curr`, `fg0`.`months_balance` `months_balance`, `fg0`.`cnt_instalment` `cnt_instalment`, `fg0`.`cnt_instalment_future` `cnt_instalment_future`, `fg0`.`name_contract_status` `name_contract_status`, `fg0`.`sk_dpd` `sk_dpd`, `fg0`.`sk_dpd_def` `sk_dpd_def`\n",
      "FROM `dowlingj_featurestore`.`pos_cash_balance_1` `fg0`\n"
     ]
    },
    {
     "name": "stderr",
     "output_type": "stream",
     "text": [
      "UserWarning: pandas only support SQLAlchemy connectable(engine/connection) ordatabase string URI or sqlite3 DBAPI2 connectionother DBAPI2 objects are not tested, please consider using SQLAlchemy\n"
     ]
    }
   ],
   "source": [
    "pos_cash_balance_fg = fs.get_or_create_feature_group(\n",
    "    name = 'pos_cash_balance',\n",
    "    version = 1\n",
    ")\n",
    "pos_cash_balance_df = pos_cash_balance_fg.read()"
   ]
  },
  {
   "cell_type": "markdown",
   "id": "d500e570",
   "metadata": {},
   "source": [
    "#### <span style=\"color:#ff5f27;\">⛳️ Previous Application Feature Group</span>"
   ]
  },
  {
   "cell_type": "code",
   "execution_count": 8,
   "id": "37a0202c",
   "metadata": {},
   "outputs": [
    {
     "name": "stdout",
     "output_type": "stream",
     "text": [
      "2023-03-05 07:31:17,199 INFO: USE `dowlingj_featurestore`\n",
      "2023-03-05 07:31:17,807 INFO: SELECT `fg0`.`sk_id_prev` `sk_id_prev`, `fg0`.`sk_id_curr` `sk_id_curr`, `fg0`.`name_contract_type` `name_contract_type`, `fg0`.`amt_application` `amt_application`, `fg0`.`amt_credit` `amt_credit`, `fg0`.`weekday_appr_process_start` `weekday_appr_process_start`, `fg0`.`hour_appr_process_start` `hour_appr_process_start`, `fg0`.`flag_last_appl_per_contract` `flag_last_appl_per_contract`, `fg0`.`nflag_last_appl_in_day` `nflag_last_appl_in_day`, `fg0`.`name_cash_loan_purpose` `name_cash_loan_purpose`, `fg0`.`name_contract_status` `name_contract_status`, `fg0`.`days_decision` `days_decision`, `fg0`.`name_payment_type` `name_payment_type`, `fg0`.`code_reject_reason` `code_reject_reason`, `fg0`.`name_client_type` `name_client_type`, `fg0`.`name_goods_category` `name_goods_category`, `fg0`.`name_portfolio` `name_portfolio`, `fg0`.`name_product_type` `name_product_type`, `fg0`.`channel_type` `channel_type`, `fg0`.`sellerplace_area` `sellerplace_area`, `fg0`.`name_seller_industry` `name_seller_industry`, `fg0`.`name_yield_group` `name_yield_group`, `fg0`.`product_combination` `product_combination`\n",
      "FROM `dowlingj_featurestore`.`previous_application_1` `fg0`\n"
     ]
    },
    {
     "name": "stderr",
     "output_type": "stream",
     "text": [
      "UserWarning: pandas only support SQLAlchemy connectable(engine/connection) ordatabase string URI or sqlite3 DBAPI2 connectionother DBAPI2 objects are not tested, please consider using SQLAlchemy\n"
     ]
    }
   ],
   "source": [
    "previous_application_fg = fs.get_or_create_feature_group(\n",
    "    name = 'previous_application',\n",
    "    version = 1\n",
    ")\n",
    "previous_application_df = previous_application_fg.read()"
   ]
  },
  {
   "cell_type": "code",
   "execution_count": 9,
   "id": "a4738b60",
   "metadata": {},
   "outputs": [
    {
     "data": {
      "text/html": [
       "<div>\n",
       "<style scoped>\n",
       "    .dataframe tbody tr th:only-of-type {\n",
       "        vertical-align: middle;\n",
       "    }\n",
       "\n",
       "    .dataframe tbody tr th {\n",
       "        vertical-align: top;\n",
       "    }\n",
       "\n",
       "    .dataframe thead th {\n",
       "        text-align: right;\n",
       "    }\n",
       "</style>\n",
       "<table border=\"1\" class=\"dataframe\">\n",
       "  <thead>\n",
       "    <tr style=\"text-align: right;\">\n",
       "      <th></th>\n",
       "      <th>sk_id_prev</th>\n",
       "      <th>sk_id_curr</th>\n",
       "      <th>name_contract_type</th>\n",
       "      <th>amt_application</th>\n",
       "      <th>amt_credit</th>\n",
       "      <th>weekday_appr_process_start</th>\n",
       "      <th>hour_appr_process_start</th>\n",
       "      <th>flag_last_appl_per_contract</th>\n",
       "      <th>nflag_last_appl_in_day</th>\n",
       "      <th>name_cash_loan_purpose</th>\n",
       "      <th>...</th>\n",
       "      <th>code_reject_reason</th>\n",
       "      <th>name_client_type</th>\n",
       "      <th>name_goods_category</th>\n",
       "      <th>name_portfolio</th>\n",
       "      <th>name_product_type</th>\n",
       "      <th>channel_type</th>\n",
       "      <th>sellerplace_area</th>\n",
       "      <th>name_seller_industry</th>\n",
       "      <th>name_yield_group</th>\n",
       "      <th>product_combination</th>\n",
       "    </tr>\n",
       "  </thead>\n",
       "  <tbody>\n",
       "    <tr>\n",
       "      <th>0</th>\n",
       "      <td>2780766</td>\n",
       "      <td>311315</td>\n",
       "      <td>Consumer loans</td>\n",
       "      <td>204925.5</td>\n",
       "      <td>176170.5</td>\n",
       "      <td>TUESDAY</td>\n",
       "      <td>12</td>\n",
       "      <td>Y</td>\n",
       "      <td>1</td>\n",
       "      <td>XAP</td>\n",
       "      <td>...</td>\n",
       "      <td>LIMIT</td>\n",
       "      <td>Refreshed</td>\n",
       "      <td>Consumer Electronics</td>\n",
       "      <td>POS</td>\n",
       "      <td>XNA</td>\n",
       "      <td>Country-wide</td>\n",
       "      <td>3600</td>\n",
       "      <td>Consumer electronics</td>\n",
       "      <td>high</td>\n",
       "      <td>POS household with interest</td>\n",
       "    </tr>\n",
       "    <tr>\n",
       "      <th>1</th>\n",
       "      <td>1916218</td>\n",
       "      <td>362999</td>\n",
       "      <td>Revolving loans</td>\n",
       "      <td>0.0</td>\n",
       "      <td>157500.0</td>\n",
       "      <td>TUESDAY</td>\n",
       "      <td>15</td>\n",
       "      <td>Y</td>\n",
       "      <td>1</td>\n",
       "      <td>XAP</td>\n",
       "      <td>...</td>\n",
       "      <td>XAP</td>\n",
       "      <td>Repeater</td>\n",
       "      <td>XNA</td>\n",
       "      <td>Cards</td>\n",
       "      <td>walk-in</td>\n",
       "      <td>Credit and cash offices</td>\n",
       "      <td>-1</td>\n",
       "      <td>XNA</td>\n",
       "      <td>XNA</td>\n",
       "      <td>Card Street</td>\n",
       "    </tr>\n",
       "    <tr>\n",
       "      <th>2</th>\n",
       "      <td>1254274</td>\n",
       "      <td>357808</td>\n",
       "      <td>Cash loans</td>\n",
       "      <td>0.0</td>\n",
       "      <td>0.0</td>\n",
       "      <td>TUESDAY</td>\n",
       "      <td>12</td>\n",
       "      <td>Y</td>\n",
       "      <td>1</td>\n",
       "      <td>XNA</td>\n",
       "      <td>...</td>\n",
       "      <td>HC</td>\n",
       "      <td>Repeater</td>\n",
       "      <td>XNA</td>\n",
       "      <td>XNA</td>\n",
       "      <td>XNA</td>\n",
       "      <td>Credit and cash offices</td>\n",
       "      <td>-1</td>\n",
       "      <td>XNA</td>\n",
       "      <td>XNA</td>\n",
       "      <td>Cash</td>\n",
       "    </tr>\n",
       "    <tr>\n",
       "      <th>3</th>\n",
       "      <td>2460620</td>\n",
       "      <td>386378</td>\n",
       "      <td>Cash loans</td>\n",
       "      <td>0.0</td>\n",
       "      <td>0.0</td>\n",
       "      <td>WEDNESDAY</td>\n",
       "      <td>9</td>\n",
       "      <td>Y</td>\n",
       "      <td>1</td>\n",
       "      <td>XNA</td>\n",
       "      <td>...</td>\n",
       "      <td>XAP</td>\n",
       "      <td>Repeater</td>\n",
       "      <td>XNA</td>\n",
       "      <td>XNA</td>\n",
       "      <td>XNA</td>\n",
       "      <td>Contact center</td>\n",
       "      <td>-1</td>\n",
       "      <td>XNA</td>\n",
       "      <td>XNA</td>\n",
       "      <td>Cash</td>\n",
       "    </tr>\n",
       "    <tr>\n",
       "      <th>4</th>\n",
       "      <td>1088957</td>\n",
       "      <td>407395</td>\n",
       "      <td>Cash loans</td>\n",
       "      <td>0.0</td>\n",
       "      <td>0.0</td>\n",
       "      <td>FRIDAY</td>\n",
       "      <td>16</td>\n",
       "      <td>Y</td>\n",
       "      <td>1</td>\n",
       "      <td>XNA</td>\n",
       "      <td>...</td>\n",
       "      <td>XAP</td>\n",
       "      <td>Repeater</td>\n",
       "      <td>XNA</td>\n",
       "      <td>XNA</td>\n",
       "      <td>XNA</td>\n",
       "      <td>Credit and cash offices</td>\n",
       "      <td>-1</td>\n",
       "      <td>XNA</td>\n",
       "      <td>XNA</td>\n",
       "      <td>Cash</td>\n",
       "    </tr>\n",
       "    <tr>\n",
       "      <th>...</th>\n",
       "      <td>...</td>\n",
       "      <td>...</td>\n",
       "      <td>...</td>\n",
       "      <td>...</td>\n",
       "      <td>...</td>\n",
       "      <td>...</td>\n",
       "      <td>...</td>\n",
       "      <td>...</td>\n",
       "      <td>...</td>\n",
       "      <td>...</td>\n",
       "      <td>...</td>\n",
       "      <td>...</td>\n",
       "      <td>...</td>\n",
       "      <td>...</td>\n",
       "      <td>...</td>\n",
       "      <td>...</td>\n",
       "      <td>...</td>\n",
       "      <td>...</td>\n",
       "      <td>...</td>\n",
       "      <td>...</td>\n",
       "      <td>...</td>\n",
       "    </tr>\n",
       "    <tr>\n",
       "      <th>5233</th>\n",
       "      <td>2845322</td>\n",
       "      <td>456207</td>\n",
       "      <td>Consumer loans</td>\n",
       "      <td>23260.5</td>\n",
       "      <td>148365.0</td>\n",
       "      <td>WEDNESDAY</td>\n",
       "      <td>13</td>\n",
       "      <td>Y</td>\n",
       "      <td>1</td>\n",
       "      <td>XAP</td>\n",
       "      <td>...</td>\n",
       "      <td>XAP</td>\n",
       "      <td>Repeater</td>\n",
       "      <td>XNA</td>\n",
       "      <td>POS</td>\n",
       "      <td>XNA</td>\n",
       "      <td>Credit and cash offices</td>\n",
       "      <td>-1</td>\n",
       "      <td>XNA</td>\n",
       "      <td>low_normal</td>\n",
       "      <td>Cash</td>\n",
       "    </tr>\n",
       "    <tr>\n",
       "      <th>5234</th>\n",
       "      <td>2845317</td>\n",
       "      <td>456202</td>\n",
       "      <td>Cash loans</td>\n",
       "      <td>900000.0</td>\n",
       "      <td>13500.0</td>\n",
       "      <td>FRIDAY</td>\n",
       "      <td>10</td>\n",
       "      <td>Y</td>\n",
       "      <td>1</td>\n",
       "      <td>XAP</td>\n",
       "      <td>...</td>\n",
       "      <td>XAP</td>\n",
       "      <td>Repeater</td>\n",
       "      <td>XNA</td>\n",
       "      <td>Cash</td>\n",
       "      <td>x-sell</td>\n",
       "      <td>Credit and cash offices</td>\n",
       "      <td>0</td>\n",
       "      <td>XNA</td>\n",
       "      <td>middle</td>\n",
       "      <td>Cash Street: high</td>\n",
       "    </tr>\n",
       "    <tr>\n",
       "      <th>5235</th>\n",
       "      <td>2845318</td>\n",
       "      <td>456203</td>\n",
       "      <td>Revolving loans</td>\n",
       "      <td>25965.0</td>\n",
       "      <td>0.0</td>\n",
       "      <td>TUESDAY</td>\n",
       "      <td>6</td>\n",
       "      <td>Y</td>\n",
       "      <td>1</td>\n",
       "      <td>Repairs</td>\n",
       "      <td>...</td>\n",
       "      <td>XAP</td>\n",
       "      <td>Repeater</td>\n",
       "      <td>XNA</td>\n",
       "      <td>XNA</td>\n",
       "      <td>XNA</td>\n",
       "      <td>Credit and cash offices</td>\n",
       "      <td>0</td>\n",
       "      <td>XNA</td>\n",
       "      <td>XNA</td>\n",
       "      <td>POS household without interest</td>\n",
       "    </tr>\n",
       "    <tr>\n",
       "      <th>5236</th>\n",
       "      <td>2845321</td>\n",
       "      <td>456206</td>\n",
       "      <td>Consumer loans</td>\n",
       "      <td>183726.0</td>\n",
       "      <td>900000.0</td>\n",
       "      <td>SUNDAY</td>\n",
       "      <td>12</td>\n",
       "      <td>Y</td>\n",
       "      <td>1</td>\n",
       "      <td>XNA</td>\n",
       "      <td>...</td>\n",
       "      <td>HC</td>\n",
       "      <td>Repeater</td>\n",
       "      <td>XNA</td>\n",
       "      <td>Cards</td>\n",
       "      <td>walk-in</td>\n",
       "      <td>Credit and cash offices</td>\n",
       "      <td>-1</td>\n",
       "      <td>XNA</td>\n",
       "      <td>low_normal</td>\n",
       "      <td>Card X-Sell</td>\n",
       "    </tr>\n",
       "    <tr>\n",
       "      <th>5237</th>\n",
       "      <td>2845313</td>\n",
       "      <td>456198</td>\n",
       "      <td>Consumer loans</td>\n",
       "      <td>0.0</td>\n",
       "      <td>360000.0</td>\n",
       "      <td>SUNDAY</td>\n",
       "      <td>10</td>\n",
       "      <td>Y</td>\n",
       "      <td>1</td>\n",
       "      <td>XNA</td>\n",
       "      <td>...</td>\n",
       "      <td>XAP</td>\n",
       "      <td>Repeater</td>\n",
       "      <td>Furniture</td>\n",
       "      <td>Cards</td>\n",
       "      <td>XNA</td>\n",
       "      <td>Credit and cash offices</td>\n",
       "      <td>-1</td>\n",
       "      <td>XNA</td>\n",
       "      <td>low_action</td>\n",
       "      <td>Cash X-Sell: low</td>\n",
       "    </tr>\n",
       "  </tbody>\n",
       "</table>\n",
       "<p>5238 rows × 23 columns</p>\n",
       "</div>"
      ],
      "text/plain": [
       "      sk_id_prev  sk_id_curr name_contract_type  amt_application  amt_credit  \\\n",
       "0        2780766      311315     Consumer loans         204925.5    176170.5   \n",
       "1        1916218      362999    Revolving loans              0.0    157500.0   \n",
       "2        1254274      357808         Cash loans              0.0         0.0   \n",
       "3        2460620      386378         Cash loans              0.0         0.0   \n",
       "4        1088957      407395         Cash loans              0.0         0.0   \n",
       "...          ...         ...                ...              ...         ...   \n",
       "5233     2845322      456207     Consumer loans          23260.5    148365.0   \n",
       "5234     2845317      456202         Cash loans         900000.0     13500.0   \n",
       "5235     2845318      456203    Revolving loans          25965.0         0.0   \n",
       "5236     2845321      456206     Consumer loans         183726.0    900000.0   \n",
       "5237     2845313      456198     Consumer loans              0.0    360000.0   \n",
       "\n",
       "     weekday_appr_process_start  hour_appr_process_start  \\\n",
       "0                       TUESDAY                       12   \n",
       "1                       TUESDAY                       15   \n",
       "2                       TUESDAY                       12   \n",
       "3                     WEDNESDAY                        9   \n",
       "4                        FRIDAY                       16   \n",
       "...                         ...                      ...   \n",
       "5233                  WEDNESDAY                       13   \n",
       "5234                     FRIDAY                       10   \n",
       "5235                    TUESDAY                        6   \n",
       "5236                     SUNDAY                       12   \n",
       "5237                     SUNDAY                       10   \n",
       "\n",
       "     flag_last_appl_per_contract  nflag_last_appl_in_day  \\\n",
       "0                              Y                       1   \n",
       "1                              Y                       1   \n",
       "2                              Y                       1   \n",
       "3                              Y                       1   \n",
       "4                              Y                       1   \n",
       "...                          ...                     ...   \n",
       "5233                           Y                       1   \n",
       "5234                           Y                       1   \n",
       "5235                           Y                       1   \n",
       "5236                           Y                       1   \n",
       "5237                           Y                       1   \n",
       "\n",
       "     name_cash_loan_purpose  ... code_reject_reason  name_client_type  \\\n",
       "0                       XAP  ...              LIMIT         Refreshed   \n",
       "1                       XAP  ...                XAP          Repeater   \n",
       "2                       XNA  ...                 HC          Repeater   \n",
       "3                       XNA  ...                XAP          Repeater   \n",
       "4                       XNA  ...                XAP          Repeater   \n",
       "...                     ...  ...                ...               ...   \n",
       "5233                    XAP  ...                XAP          Repeater   \n",
       "5234                    XAP  ...                XAP          Repeater   \n",
       "5235                Repairs  ...                XAP          Repeater   \n",
       "5236                    XNA  ...                 HC          Repeater   \n",
       "5237                    XNA  ...                XAP          Repeater   \n",
       "\n",
       "       name_goods_category name_portfolio name_product_type  \\\n",
       "0     Consumer Electronics            POS               XNA   \n",
       "1                      XNA          Cards           walk-in   \n",
       "2                      XNA            XNA               XNA   \n",
       "3                      XNA            XNA               XNA   \n",
       "4                      XNA            XNA               XNA   \n",
       "...                    ...            ...               ...   \n",
       "5233                   XNA            POS               XNA   \n",
       "5234                   XNA           Cash            x-sell   \n",
       "5235                   XNA            XNA               XNA   \n",
       "5236                   XNA          Cards           walk-in   \n",
       "5237             Furniture          Cards               XNA   \n",
       "\n",
       "                 channel_type sellerplace_area  name_seller_industry  \\\n",
       "0                Country-wide             3600  Consumer electronics   \n",
       "1     Credit and cash offices               -1                   XNA   \n",
       "2     Credit and cash offices               -1                   XNA   \n",
       "3              Contact center               -1                   XNA   \n",
       "4     Credit and cash offices               -1                   XNA   \n",
       "...                       ...              ...                   ...   \n",
       "5233  Credit and cash offices               -1                   XNA   \n",
       "5234  Credit and cash offices                0                   XNA   \n",
       "5235  Credit and cash offices                0                   XNA   \n",
       "5236  Credit and cash offices               -1                   XNA   \n",
       "5237  Credit and cash offices               -1                   XNA   \n",
       "\n",
       "     name_yield_group             product_combination  \n",
       "0                high     POS household with interest  \n",
       "1                 XNA                     Card Street  \n",
       "2                 XNA                            Cash  \n",
       "3                 XNA                            Cash  \n",
       "4                 XNA                            Cash  \n",
       "...               ...                             ...  \n",
       "5233       low_normal                            Cash  \n",
       "5234           middle               Cash Street: high  \n",
       "5235              XNA  POS household without interest  \n",
       "5236       low_normal                     Card X-Sell  \n",
       "5237       low_action                Cash X-Sell: low  \n",
       "\n",
       "[5238 rows x 23 columns]"
      ]
     },
     "execution_count": 9,
     "metadata": {},
     "output_type": "execute_result"
    }
   ],
   "source": [
    "previous_application_df"
   ]
  },
  {
   "cell_type": "markdown",
   "id": "447ff807",
   "metadata": {},
   "source": [
    "#### <span style=\"color:#ff5f27;\"> ⛳️ Previous Load Counts Feature Group"
   ]
  },
  {
   "cell_type": "code",
   "execution_count": 10,
   "id": "dbb68ad9",
   "metadata": {},
   "outputs": [
    {
     "name": "stdout",
     "output_type": "stream",
     "text": [
      "2023-03-05 07:31:25,498 INFO: USE `dowlingj_featurestore`\n",
      "2023-03-05 07:31:26,107 INFO: SELECT `fg0`.`sk_id_curr` `sk_id_curr`, `fg0`.`previous_loan_counts` `previous_loan_counts`\n",
      "FROM `dowlingj_featurestore`.`previous_loan_counts_1` `fg0`\n"
     ]
    },
    {
     "name": "stderr",
     "output_type": "stream",
     "text": [
      "UserWarning: pandas only support SQLAlchemy connectable(engine/connection) ordatabase string URI or sqlite3 DBAPI2 connectionother DBAPI2 objects are not tested, please consider using SQLAlchemy\n"
     ]
    }
   ],
   "source": [
    "previous_loan_counts_fg = fs.get_or_create_feature_group(\n",
    "    name = 'previous_loan_counts',\n",
    "    version = 1\n",
    ")\n",
    "previous_loan_counts_df = previous_loan_counts_fg.read()"
   ]
  },
  {
   "cell_type": "markdown",
   "id": "3c2df7b3",
   "metadata": {},
   "source": [
    "---\n",
    "\n",
    "## <span style=\"color:#ff5f27;\"> 🧙🏼‍♂️ Data Generation </span>"
   ]
  },
  {
   "cell_type": "markdown",
   "id": "85381861",
   "metadata": {},
   "source": [
    "### <span style='color:#ff5f27'> 📝 Imports"
   ]
  },
  {
   "cell_type": "code",
   "execution_count": 11,
   "id": "6b435245",
   "metadata": {},
   "outputs": [],
   "source": [
    "from functions import generate_data"
   ]
  },
  {
   "cell_type": "code",
   "execution_count": 12,
   "id": "e4959832",
   "metadata": {},
   "outputs": [],
   "source": [
    "# import pandas as pd\n",
    "# import numpy as np\n",
    "\n",
    "# def generate_value(col_values:pd.Series):\n",
    "#     value_counts = col_values.value_counts()\n",
    "#     value_probabilities = value_counts / col_values.shape[0]\n",
    "#     values = value_counts.index\n",
    "#     return np.random.choice(\n",
    "#         a=values,\n",
    "#         p=value_probabilities\n",
    "#     )\n",
    "# def generate_observation(data:pd.DataFrame)->list:\n",
    "#     return [generate_value(data[column]) for column in data]\n",
    "\n",
    "# amount=10\n",
    "# data=application_df\n",
    "\n",
    "# pk_existing = [pk for pk in data.columns if pk in ['sk_id_prev','sk_id_curr','sk_id_bureau']]\n",
    "# pk_max = data[pk_existing].agg({'max'}).values[0]\n",
    "\n",
    "# df = pd.DataFrame(\n",
    "#     [[*[pk + i for pk in pk_max],*generate_observation(data.drop(pk_existing,axis=1))] for i in range(amount)],\n",
    "#     columns=data.columns\n",
    "# )\n",
    "# df.isna().sum().sum()"
   ]
  },
  {
   "cell_type": "markdown",
   "id": "89b3da0f",
   "metadata": {},
   "source": [
    "### <span style='color:#ff5f27'> 🧑🏻‍🔬 Generating new data"
   ]
  },
  {
   "cell_type": "code",
   "execution_count": 13,
   "id": "7eea9c82",
   "metadata": {},
   "outputs": [
    {
     "data": {
      "text/plain": [
       "0"
      ]
     },
     "execution_count": 13,
     "metadata": {},
     "output_type": "execute_result"
    }
   ],
   "source": [
    "application_df_generated = generate_data(application_df)\n",
    "application_df_generated.isna().sum().sum()"
   ]
  },
  {
   "cell_type": "code",
   "execution_count": 14,
   "id": "28453767",
   "metadata": {},
   "outputs": [
    {
     "data": {
      "text/plain": [
       "0"
      ]
     },
     "execution_count": 14,
     "metadata": {},
     "output_type": "execute_result"
    }
   ],
   "source": [
    "application_df_generated = application_df_generated.dropna()\n",
    "application_df_generated.isna().sum().sum()"
   ]
  },
  {
   "cell_type": "code",
   "execution_count": 15,
   "id": "e189de9c",
   "metadata": {},
   "outputs": [
    {
     "data": {
      "text/plain": [
       "0"
      ]
     },
     "execution_count": 15,
     "metadata": {},
     "output_type": "execute_result"
    }
   ],
   "source": [
    "bureau_balance_df_generated = generate_data(bureau_balance_df)\n",
    "bureau_balance_df_generated.isna().sum().sum()"
   ]
  },
  {
   "cell_type": "code",
   "execution_count": 16,
   "id": "6a9d49c3",
   "metadata": {},
   "outputs": [
    {
     "data": {
      "text/plain": [
       "0"
      ]
     },
     "execution_count": 16,
     "metadata": {},
     "output_type": "execute_result"
    }
   ],
   "source": [
    "bureau_df_generated = generate_data(bureau_df)\n",
    "bureau_df_generated = bureau_df_generated.dropna()\n",
    "bureau_df_generated.isna().sum().sum()"
   ]
  },
  {
   "cell_type": "code",
   "execution_count": 17,
   "id": "cdfe9717",
   "metadata": {},
   "outputs": [
    {
     "data": {
      "text/plain": [
       "0"
      ]
     },
     "execution_count": 17,
     "metadata": {},
     "output_type": "execute_result"
    }
   ],
   "source": [
    "credit_card_balance_df_generated = generate_data(credit_card_balance_df)\n",
    "credit_card_balance_df_generated = credit_card_balance_df_generated.dropna()\n",
    "credit_card_balance_df_generated.isna().sum().sum()"
   ]
  },
  {
   "cell_type": "code",
   "execution_count": 18,
   "id": "4ca389d5",
   "metadata": {},
   "outputs": [
    {
     "data": {
      "text/plain": [
       "0"
      ]
     },
     "execution_count": 18,
     "metadata": {},
     "output_type": "execute_result"
    }
   ],
   "source": [
    "installments_payments_df_generated = generate_data(installments_payments_df)\n",
    "installments_payments_df_generated = installments_payments_df_generated.dropna()\n",
    "installments_payments_df_generated.isna().sum().sum()"
   ]
  },
  {
   "cell_type": "code",
   "execution_count": 19,
   "id": "ffc04182",
   "metadata": {},
   "outputs": [
    {
     "data": {
      "text/plain": [
       "0"
      ]
     },
     "execution_count": 19,
     "metadata": {},
     "output_type": "execute_result"
    }
   ],
   "source": [
    "pos_cash_balance_df_generated = generate_data(pos_cash_balance_df)\n",
    "pos_cash_balance_df_generated = pos_cash_balance_df_generated.dropna()\n",
    "pos_cash_balance_df_generated.isna().sum().sum()"
   ]
  },
  {
   "cell_type": "code",
   "execution_count": 20,
   "id": "b4da6bb1",
   "metadata": {},
   "outputs": [
    {
     "data": {
      "text/plain": [
       "0"
      ]
     },
     "execution_count": 20,
     "metadata": {},
     "output_type": "execute_result"
    }
   ],
   "source": [
    "previous_application_df_generated = generate_data(previous_application_df)\n",
    "previous_application_df_generated = previous_application_df_generated.dropna()\n",
    "previous_application_df_generated.isna().sum().sum()"
   ]
  },
  {
   "cell_type": "code",
   "execution_count": 21,
   "id": "36ea561c",
   "metadata": {},
   "outputs": [
    {
     "data": {
      "text/plain": [
       "0"
      ]
     },
     "execution_count": 21,
     "metadata": {},
     "output_type": "execute_result"
    }
   ],
   "source": [
    "previous_loan_counts_df_generated = generate_data(previous_loan_counts_df)\n",
    "previous_loan_counts_df_generated = previous_loan_counts_df_generated.dropna()\n",
    "previous_loan_counts_df_generated.isna().sum().sum()\n"
   ]
  },
  {
   "cell_type": "markdown",
   "id": "5b6c5808",
   "metadata": {},
   "source": [
    "### <span style='color:#ff5f27'> ⬆️ Uploading new data to the Feature Store"
   ]
  },
  {
   "cell_type": "code",
   "execution_count": 22,
   "id": "6fd14bd8",
   "metadata": {},
   "outputs": [
    {
     "data": {
      "application/vnd.jupyter.widget-view+json": {
       "model_id": "42aaf499e5f1407da8ffc23c3f358c41",
       "version_major": 2,
       "version_minor": 0
      },
      "text/plain": [
       "Uploading Dataframe: 0.00% |          | Rows 0/10 | Elapsed Time: 00:00 | Remaining Time: ?"
      ]
     },
     "metadata": {},
     "output_type": "display_data"
    },
    {
     "name": "stdout",
     "output_type": "stream",
     "text": [
      "Launching offline feature group backfill job...\n",
      "Backfill Job started successfully, you can follow the progress at \n",
      "https://c.app.hopsworks.ai/p/398/jobs/named/application_1_offline_fg_backfill/executions\n"
     ]
    },
    {
     "data": {
      "text/plain": [
       "(<hsfs.core.job.Job at 0x7f3be7eafa30>, None)"
      ]
     },
     "execution_count": 22,
     "metadata": {},
     "output_type": "execute_result"
    }
   ],
   "source": [
    "application_fg.insert(application_df_generated, write_options={\"wait_for_job\" : False})"
   ]
  },
  {
   "cell_type": "code",
   "execution_count": 23,
   "id": "c00342e7",
   "metadata": {},
   "outputs": [
    {
     "data": {
      "application/vnd.jupyter.widget-view+json": {
       "model_id": "995c45f0de6b48e7a6d4ad7580eff24f",
       "version_major": 2,
       "version_minor": 0
      },
      "text/plain": [
       "Uploading Dataframe: 0.00% |          | Rows 0/10 | Elapsed Time: 00:00 | Remaining Time: ?"
      ]
     },
     "metadata": {},
     "output_type": "display_data"
    },
    {
     "name": "stdout",
     "output_type": "stream",
     "text": [
      "Launching offline feature group backfill job...\n",
      "Backfill Job started successfully, you can follow the progress at \n",
      "https://c.app.hopsworks.ai/p/398/jobs/named/bureau_balance_1_offline_fg_backfill/executions\n"
     ]
    },
    {
     "data": {
      "text/plain": [
       "(<hsfs.core.job.Job at 0x7f3be7d63670>, None)"
      ]
     },
     "execution_count": 23,
     "metadata": {},
     "output_type": "execute_result"
    }
   ],
   "source": [
    "bureau_balance_fg.insert(bureau_balance_df_generated, write_options={\"wait_for_job\" : False})"
   ]
  },
  {
   "cell_type": "code",
   "execution_count": 24,
   "id": "ab8932a5",
   "metadata": {},
   "outputs": [
    {
     "data": {
      "application/vnd.jupyter.widget-view+json": {
       "model_id": "fa3d9f33804144e1a9cd4461af06cefa",
       "version_major": 2,
       "version_minor": 0
      },
      "text/plain": [
       "Uploading Dataframe: 0.00% |          | Rows 0/10 | Elapsed Time: 00:00 | Remaining Time: ?"
      ]
     },
     "metadata": {},
     "output_type": "display_data"
    },
    {
     "name": "stdout",
     "output_type": "stream",
     "text": [
      "Launching offline feature group backfill job...\n",
      "Backfill Job started successfully, you can follow the progress at \n",
      "https://c.app.hopsworks.ai/p/398/jobs/named/bureau_1_offline_fg_backfill/executions\n"
     ]
    },
    {
     "data": {
      "text/plain": [
       "(<hsfs.core.job.Job at 0x7f3be7d51070>, None)"
      ]
     },
     "execution_count": 24,
     "metadata": {},
     "output_type": "execute_result"
    }
   ],
   "source": [
    "bureau_fg.insert(bureau_df_generated, write_options={\"wait_for_job\" : False})"
   ]
  },
  {
   "cell_type": "code",
   "execution_count": 25,
   "id": "ad798c0a",
   "metadata": {},
   "outputs": [
    {
     "data": {
      "application/vnd.jupyter.widget-view+json": {
       "model_id": "3e9dd7f63cd444a2a2a0cd5bedc90e64",
       "version_major": 2,
       "version_minor": 0
      },
      "text/plain": [
       "Uploading Dataframe: 0.00% |          | Rows 0/10 | Elapsed Time: 00:00 | Remaining Time: ?"
      ]
     },
     "metadata": {},
     "output_type": "display_data"
    },
    {
     "name": "stdout",
     "output_type": "stream",
     "text": [
      "Launching offline feature group backfill job...\n",
      "Backfill Job started successfully, you can follow the progress at \n",
      "https://c.app.hopsworks.ai/p/398/jobs/named/credit_card_balance_1_offline_fg_backfill/executions\n"
     ]
    },
    {
     "data": {
      "text/plain": [
       "(<hsfs.core.job.Job at 0x7f3be7d6bf70>, None)"
      ]
     },
     "execution_count": 25,
     "metadata": {},
     "output_type": "execute_result"
    }
   ],
   "source": [
    "# Only 5 concurrent upload jobs allowed by Hopsworks \n",
    "credit_card_balance_fg.insert(credit_card_balance_df_generated)"
   ]
  },
  {
   "cell_type": "code",
   "execution_count": 26,
   "id": "f15a6f8a",
   "metadata": {},
   "outputs": [
    {
     "data": {
      "application/vnd.jupyter.widget-view+json": {
       "model_id": "ff73d313147040559397a3dc96c38c82",
       "version_major": 2,
       "version_minor": 0
      },
      "text/plain": [
       "Uploading Dataframe: 0.00% |          | Rows 0/10 | Elapsed Time: 00:00 | Remaining Time: ?"
      ]
     },
     "metadata": {},
     "output_type": "display_data"
    },
    {
     "name": "stdout",
     "output_type": "stream",
     "text": [
      "Launching offline feature group backfill job...\n",
      "Backfill Job started successfully, you can follow the progress at \n",
      "https://c.app.hopsworks.ai/p/398/jobs/named/installments_payments_1_offline_fg_backfill/executions\n"
     ]
    },
    {
     "data": {
      "text/plain": [
       "(<hsfs.core.job.Job at 0x7f3be7a90a60>, None)"
      ]
     },
     "execution_count": 26,
     "metadata": {},
     "output_type": "execute_result"
    }
   ],
   "source": [
    "installments_payments_fg.insert(installments_payments_df_generated, write_options={\"wait_for_job\" : False})"
   ]
  },
  {
   "cell_type": "code",
   "execution_count": 27,
   "id": "0eb48d32",
   "metadata": {},
   "outputs": [
    {
     "data": {
      "application/vnd.jupyter.widget-view+json": {
       "model_id": "a3450eab2e714632838e87031741436f",
       "version_major": 2,
       "version_minor": 0
      },
      "text/plain": [
       "Uploading Dataframe: 0.00% |          | Rows 0/10 | Elapsed Time: 00:00 | Remaining Time: ?"
      ]
     },
     "metadata": {},
     "output_type": "display_data"
    },
    {
     "name": "stdout",
     "output_type": "stream",
     "text": [
      "Launching offline feature group backfill job...\n",
      "Backfill Job started successfully, you can follow the progress at \n",
      "https://c.app.hopsworks.ai/p/398/jobs/named/pos_cash_balance_1_offline_fg_backfill/executions\n"
     ]
    },
    {
     "data": {
      "text/plain": [
       "(<hsfs.core.job.Job at 0x7f3be7e9f4f0>, None)"
      ]
     },
     "execution_count": 27,
     "metadata": {},
     "output_type": "execute_result"
    }
   ],
   "source": [
    "pos_cash_balance_fg.insert(pos_cash_balance_df_generated, write_options={\"wait_for_job\" : False})"
   ]
  },
  {
   "cell_type": "code",
   "execution_count": 28,
   "id": "8fe644e3",
   "metadata": {},
   "outputs": [
    {
     "data": {
      "application/vnd.jupyter.widget-view+json": {
       "model_id": "35c26ea78b574b46a493dd50b356d079",
       "version_major": 2,
       "version_minor": 0
      },
      "text/plain": [
       "Uploading Dataframe: 0.00% |          | Rows 0/10 | Elapsed Time: 00:00 | Remaining Time: ?"
      ]
     },
     "metadata": {},
     "output_type": "display_data"
    },
    {
     "name": "stdout",
     "output_type": "stream",
     "text": [
      "Launching offline feature group backfill job...\n",
      "Backfill Job started successfully, you can follow the progress at \n",
      "https://c.app.hopsworks.ai/p/398/jobs/named/previous_application_1_offline_fg_backfill/executions\n"
     ]
    },
    {
     "data": {
      "text/plain": [
       "(<hsfs.core.job.Job at 0x7f3be80b9cd0>, None)"
      ]
     },
     "execution_count": 28,
     "metadata": {},
     "output_type": "execute_result"
    }
   ],
   "source": [
    "previous_application_fg.insert(previous_application_df_generated, write_options={\"wait_for_job\" : False})"
   ]
  },
  {
   "cell_type": "code",
   "execution_count": 29,
   "id": "f2d428bd",
   "metadata": {},
   "outputs": [
    {
     "data": {
      "application/vnd.jupyter.widget-view+json": {
       "model_id": "59b27afc1afa48fbaa9f3109beb4e439",
       "version_major": 2,
       "version_minor": 0
      },
      "text/plain": [
       "Uploading Dataframe: 0.00% |          | Rows 0/10 | Elapsed Time: 00:00 | Remaining Time: ?"
      ]
     },
     "metadata": {},
     "output_type": "display_data"
    },
    {
     "name": "stdout",
     "output_type": "stream",
     "text": [
      "Launching offline feature group backfill job...\n",
      "Backfill Job started successfully, you can follow the progress at \n",
      "https://c.app.hopsworks.ai/p/398/jobs/named/previous_loan_counts_1_offline_fg_backfill/executions\n"
     ]
    },
    {
     "data": {
      "text/plain": [
       "(<hsfs.core.job.Job at 0x7f3be7e9fb20>, None)"
      ]
     },
     "execution_count": 29,
     "metadata": {},
     "output_type": "execute_result"
    }
   ],
   "source": [
    "previous_loan_counts_fg.insert(previous_loan_counts_df_generated, write_options={\"wait_for_job\" : False})"
   ]
  },
  {
   "cell_type": "markdown",
   "id": "5bad1325",
   "metadata": {},
   "source": [
    "---\n",
    "## <span style=\"color:#ff5f27;\">⏭️ **Next:** Part 03 </span>\n",
    "\n",
    "In the next notebook we will use our feature groups to create a feature view and then training dataset we can train a model on."
   ]
  }
 ],
 "metadata": {
  "kernelspec": {
   "display_name": "Python 3 (ipykernel)",
   "language": "python",
   "name": "python3"
  },
  "language_info": {
   "codemirror_mode": {
    "name": "ipython",
    "version": 3
   },
   "file_extension": ".py",
   "mimetype": "text/x-python",
   "name": "python",
   "nbconvert_exporter": "python",
   "pygments_lexer": "ipython3",
   "version": "3.9.7"
  }
 },
 "nbformat": 4,
 "nbformat_minor": 5
}
