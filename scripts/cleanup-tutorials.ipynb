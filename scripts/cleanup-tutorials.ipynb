{
 "cells": [
  {
   "cell_type": "code",
   "execution_count": 1,
   "id": "dc0d0b08",
   "metadata": {},
   "outputs": [
    {
     "name": "stdout",
     "output_type": "stream",
     "text": [
     ]
    }
   ],
   "source": [
    "import hopsworks\n",
    "\n",
    "project = hopsworks.login()\n",
    "fs = project.get_feature_store()\n",
    "mr = project.get_model_registry()\n",
    "ms = project.get_model_serving()\n"
   ]
  },
  {
   "cell_type": "markdown",
   "id": "d611d150",
   "metadata": {},
   "source": [
    "## Cleanup Quickstart.ipynb"
   ]
  },
  {
   "cell_type": "code",
   "execution_count": 3,
   "id": "da9eed5d",
   "metadata": {},
   "outputs": [
    {
     "data": {
      "application/vnd.jupyter.widget-view+json": {
       "model_id": "d03a48568d514df7aad4f2caae1e5c79",
       "version_major": 2,
       "version_minor": 0
      },
      "text/plain": [
       "0it [00:00, ?it/s]"
      ]
     },
     "metadata": {},
     "output_type": "display_data"
    },
    {
     "name": "stdout",
     "output_type": "stream",
     "text": [
      "Deployment deleted successfully\n"
     ]
    }
   ],
   "source": [
    "# Delete the deployment before the model\n",
    "\n",
    "deployments=[\"fraud\"]\n",
    "for d in deployments:\n",
    "    try:\n",
    "        deployment = ms.get_deployment(f\"{d}\")\n",
    "        deployment.stop()\n",
    "        deployment.delete()\n",
    "    except:\n",
    "        print(f\"Couldn't delete {d} deployment\")    \n",
    "    \n",
    "    \n",
    "models=[\"fraud\"]\n",
    "for model in models:\n",
    "    try:\n",
    "        model = mr.get_model(f\"{model}\", version=1)\n",
    "        model.delete()\n",
    "    except:\n",
    "        print(f\"Couldn't delete {model} model\")\n",
    "        \n",
    "# Delete the feature_views before the feature groups\n",
    "\n",
    "fvs=[\"transactions_view\"]\n",
    "\n",
    "for fv in fvs:\n",
    "    try:\n",
    "        feature_view = fs.get_feature_view(name=f\"{fv}\", version=1)\n",
    "        feature_view.delete()\n",
    "    except:\n",
    "        print(f\"Couldn't delete {fv} feature view\")\n",
    "\n",
    "fgs=[\"transactions\", \"transactions_4h_aggs\"]\n",
    "\n",
    "for fg in fgs:\n",
    "    try:\n",
    "        fg = fs.get_feature_group(name=f\"{fg}\", version=1)\n",
    "        fg.delete()\n",
    "    except:\n",
    "        print(f\"Couldn't delete {fg} FG\")"
   ]
  },
  {
   "cell_type": "markdown",
   "id": "72227d3e",
   "metadata": {},
   "source": [
    "## Cleanup Fraud Batch"
   ]
  },
  {
   "cell_type": "code",
   "execution_count": 3,
   "id": "f76c4eaa",
   "metadata": {},
   "outputs": [],
   "source": [
    "# Delete the feature_views before the feature groups\n",
    "\n",
    "fvs=[\"transactions_view_fraud_batch_fv\"]\n",
    "\n",
    "for fv in fvs:\n",
    "    try:\n",
    "        feature_view = fs.get_feature_view(name=f\"{fv}\", version=1)\n",
    "        feature_view.delete()\n",
    "    except:\n",
    "        print(f\"Couldn't delete {fv} feature view\")\n",
    "\n",
    "fgs=[\"transactions_fraud_batch_fg\", \"transactions_4h_aggs_fraud_batch_fg\"]\n",
    "\n",
    "for fg in fgs:\n",
    "    try:\n",
    "        fg = fs.get_feature_group(name=f\"{fg}\", version=1)\n",
    "        fg.delete()\n",
    "    except:\n",
    "        print(f\"Couldn't delete {fg} FG\")\n"
   ]
  },
  {
   "cell_type": "markdown",
   "id": "29fc5b35",
   "metadata": {},
   "source": [
    "## Cleanup Fraud Online"
   ]
  },
  {
   "cell_type": "code",
   "execution_count": 4,
   "id": "4b03465f",
   "metadata": {},
   "outputs": [
    {
     "data": {
      "application/vnd.jupyter.widget-view+json": {
       "model_id": "a6f80428adce482fbf469a77713730bc",
       "version_major": 2,
       "version_minor": 0
      },
      "text/plain": [
       "0it [00:00, ?it/s]"
      ]
     },
     "metadata": {},
     "output_type": "display_data"
    },
    {
     "name": "stdout",
     "output_type": "stream",
     "text": [
      "Deployment deleted successfully\n"
     ]
    }
   ],
   "source": [
    "# Delete the deployment before the model\n",
    "\n",
    "deployments=[\"fraudonlinemodeldeployment\"]\n",
    "for d in deployments:\n",
    "    try:\n",
    "        deployment = ms.get_deployment(f\"{d}\")\n",
    "        deployment.stop()\n",
    "        deployment.delete()\n",
    "    except:\n",
    "        print(f\"Couldn't delete {d} deployment\")    \n",
    "    \n",
    "    \n",
    "models=[\"transactions_fraud_online_model\"]\n",
    "for model in models:\n",
    "    try:\n",
    "        model = mr.get_model(f\"{model}\", version=1)\n",
    "        model.delete()\n",
    "    except:\n",
    "        print(f\"Couldn't delete {model} model\")\n",
    "\n",
    "# Delete the feature_views before the feature groups\n",
    "\n",
    "fvs=[\"transactions_fraud_online_fv\"]\n",
    "\n",
    "for fv in fvs:\n",
    "    try:\n",
    "        feature_view = fs.get_feature_view(name=f\"{fv}\", version=1)\n",
    "        feature_view.delete()\n",
    "    except:\n",
    "        print(f\"Couldn't delete {fv} feature view\")\n",
    "\n",
    "fgs=[\"profile_fraud_online_fg\", \"transactions_fraud_online_fg\"]\n",
    "\n",
    "for fg in fgs:\n",
    "    try:\n",
    "        fg = fs.get_feature_group(name=f\"{fg}\", version=1)\n",
    "        fg.delete()\n",
    "    except:\n",
    "        print(f\"Couldn't delete {fg} FG\")"
   ]
  },
  {
   "cell_type": "markdown",
   "id": "24bd3d57",
   "metadata": {},
   "source": [
    "## Cleanup Churn"
   ]
  },
  {
   "cell_type": "code",
   "execution_count": 5,
   "id": "acd67d64",
   "metadata": {},
   "outputs": [],
   "source": [
    "models=[\"churnmodel\"]\n",
    "for model in models:\n",
    "    try:\n",
    "        model = mr.get_model(f\"{model}\", version=1)\n",
    "        model.delete()\n",
    "    except:\n",
    "        print(f\"Couldn't delete {model} model\")\n",
    "        \n",
    "# Delete the feature_views before the feature groups\n",
    "\n",
    "fvs=[\"churn_feature_view\"]\n",
    "\n",
    "for fv in fvs:\n",
    "    try:\n",
    "        feature_view = fs.get_feature_view(name=f\"{fv}\", version=1)\n",
    "        feature_view.delete()\n",
    "    except:\n",
    "        print(f\"Couldn't delete {fv} feature view\")\n",
    "\n",
    "fgs=[\"customer_info\", \"customer_subscription_info\", \"customer_subscription_info\"]\n",
    "\n",
    "for fg in fgs:\n",
    "    try:\n",
    "        fg = fs.get_feature_group(name=f\"{fg}\", version=1)\n",
    "        fg.delete()\n",
    "    except:\n",
    "        print(f\"Couldn't delete {fg} FG\")"
   ]
  },
  {
   "cell_type": "markdown",
   "id": "d1f6f851",
   "metadata": {},
   "source": [
    "## Cleanup Iris"
   ]
  },
  {
   "cell_type": "code",
   "execution_count": null,
   "id": "1271ac05",
   "metadata": {},
   "outputs": [],
   "source": [
    "# Delete the deployment before the model\n",
    "\n",
    "deployments=[\"irisdeployment\"]\n",
    "for d in deployments:\n",
    "    try:\n",
    "        deployment = ms.get_deployment(f\"{d}\")\n",
    "        deployment.stop()\n",
    "        deployment.delete()\n",
    "    except:\n",
    "        print(f\"Couldn't delete {d} deployment\")    \n",
    "    \n",
    "    \n",
    "models=[\"iris_model\"]\n",
    "for model in models:\n",
    "    try:\n",
    "        model = mr.get_model(f\"{model}\", version=1)\n",
    "        model.delete()\n",
    "    except:\n",
    "        print(f\"Couldn't delete {model} model\")\n",
    "        \n",
    "# Delete the feature_views before the feature groups\n",
    "fvs=[\"iris_fv\"]\n",
    "\n",
    "for fv in fvs:\n",
    "    try:\n",
    "        feature_view = fs.get_feature_view(name=f\"{fv}\", version=1)\n",
    "        feature_view.delete()\n",
    "    except:\n",
    "        print(f\"Couldn't delete {fv} feature view\")\n",
    "\n",
    "fgs=[\"iris_fg\"]\n",
    "\n",
    "for fg in fgs:\n",
    "    try:\n",
    "        fg = fs.get_feature_group(name=f\"{fg}\", version=1)\n",
    "        fg.delete()\n",
    "    except:\n",
    "        print(f\"Couldn't delete {fg} FG\")"
   ]
  },
  {
   "cell_type": "markdown",
   "id": "d29dc001",
   "metadata": {},
   "source": [
    "## Cleanup Great Expectations"
   ]
  },
  {
   "cell_type": "code",
   "execution_count": null,
   "id": "4ecc0872",
   "metadata": {},
   "outputs": [],
   "source": [
    "fgs=[\"mini_transactions_fraud_batch_fg\", \"ge_transactions_fg\", \"my_validated_data_fg\"]\n",
    "\n",
    "for fg in fgs:\n",
    "    try:\n",
    "        fg = fs.get_feature_group(name=f\"{fg}\", version=1)\n",
    "        fg.delete()\n",
    "    except:\n",
    "        print(f\"Couldn't delete {fg} FG\")"
   ]
  },
  {
   "cell_type": "markdown",
   "id": "bbba7ab8",
   "metadata": {},
   "source": [
    "## Cleanup WanDB"
   ]
  },
  {
   "cell_type": "code",
   "execution_count": null,
   "id": "0a47649d",
   "metadata": {},
   "outputs": [],
   "source": [
    "# Delete the feature_views before the feature groups\n",
    "\n",
    "fvs=[\"transactions_view_fraud_batch_wandb\"]\n",
    "\n",
    "for fv in fvs:\n",
    "    try:\n",
    "        feature_view = fs.get_feature_view(name=f\"{fv}\", version=1)\n",
    "        feature_view.delete()\n",
    "    except:\n",
    "        print(f\"Couldn't delete {fv} feature view\")\n",
    "\n",
    "fgs=[\"transactions_4h_aggs_fraud_batch_wandb\", \"transactions_fraud_batch_wandb\"]\n",
    "\n",
    "for fg in fgs:\n",
    "    try:\n",
    "        fg = fs.get_feature_group(name=f\"{fg}\", version=1)\n",
    "        fg.delete()\n",
    "    except:\n",
    "        print(f\"Couldn't delete {fg} FG\")\n"
   ]
  }
 ],
 "metadata": {
  "kernelspec": {
   "display_name": "Python 3 (ipykernel)",
   "language": "python",
   "name": "python3"
  },
  "language_info": {
   "codemirror_mode": {
    "name": "ipython",
    "version": 3
   },
   "file_extension": ".py",
   "mimetype": "text/x-python",
   "name": "python",
   "nbconvert_exporter": "python",
   "pygments_lexer": "ipython3",
   "version": "3.9.7"
  }
 },
 "nbformat": 4,
 "nbformat_minor": 5
}
