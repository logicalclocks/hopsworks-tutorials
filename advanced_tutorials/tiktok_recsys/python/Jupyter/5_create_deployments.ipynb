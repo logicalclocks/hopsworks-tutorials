{
 "cells": [
  {
   "cell_type": "markdown",
   "id": "7a62c0de",
   "metadata": {},
   "source": [
    "## <span style=\"color:#ff5f27\">👨🏻‍🏫 Create Deployment </span>\n",
    "\n",
    "In this notebook, you'll create a deployment for your recommendation system.\n",
    "\n",
    "**NOTE Currently the transformer scripts are not implemented.**"
   ]
  },
  {
   "cell_type": "markdown",
   "id": "9326c452",
   "metadata": {},
   "source": [
    "## <span style=\"color:#ff5f27\">📝 Imports </span>"
   ]
  },
  {
   "cell_type": "code",
   "execution_count": null,
   "id": "159659de",
   "metadata": {},
   "outputs": [],
   "source": [
    "# !pip install -r requirements.txt"
   ]
  },
  {
   "cell_type": "code",
   "execution_count": null,
   "id": "214a333d",
   "metadata": {},
   "outputs": [],
   "source": [
    "import os"
   ]
  },
  {
   "cell_type": "markdown",
   "id": "ef743d42",
   "metadata": {},
   "source": [
    "## <span style=\"color:#ff5f27\">🔮 Connect to Hopsworks Feature Store </span>"
   ]
  },
  {
   "cell_type": "code",
   "execution_count": null,
   "id": "4729a4f9",
   "metadata": {},
   "outputs": [],
   "source": [
    "import hopsworks\n",
    "\n",
    "project = hopsworks.login()\n",
    "\n",
    "# Connect to Hopsworks Model Registry\n",
    "mr = project.get_model_registry()\n",
    "\n",
    "dataset_api = project.get_dataset_api()"
   ]
  },
  {
   "cell_type": "markdown",
   "id": "d064e89f",
   "metadata": {},
   "source": [
    "## <span style=\"color:#ff5f27\">🚀 Ranking Model Deployment </span>\n"
   ]
  },
  {
   "cell_type": "markdown",
   "id": "b1879f08",
   "metadata": {},
   "source": [
    "You start by deploying your ranking model. Since it is a CatBoost model you need to implement a `Predict` class that tells Hopsworks how to load the model and how to use it."
   ]
  },
  {
   "cell_type": "code",
   "execution_count": null,
   "id": "ea029818",
   "metadata": {},
   "outputs": [],
   "source": [
    "ranking_model = mr.get_best_model(\n",
    "    name=\"ranking_model\", \n",
    "    metric=\"fscore\", \n",
    "    direction=\"max\",\n",
    ")\n",
    "ranking_model"
   ]
  },
  {
   "cell_type": "code",
   "execution_count": null,
   "id": "fb425246",
   "metadata": {},
   "outputs": [],
   "source": [
    "ranking_model.model_schema[\"input_schema\"][\"columnar_schema\"]"
   ]
  },
  {
   "cell_type": "code",
   "execution_count": null,
   "id": "de1f5c67",
   "metadata": {},
   "outputs": [],
   "source": [
    "%%writefile ranking_transformer.py\n",
    "\n",
    "import os\n",
    "import pandas as pd\n",
    "\n",
    "import hopsworks\n",
    "from opensearchpy import OpenSearch\n",
    "\n",
    "import logging\n",
    "\n",
    "\n",
    "class Transformer(object):\n",
    "    \n",
    "    def __init__(self):\n",
    "        # Connect to Hopsworks\n",
    "        project = hopsworks.connection().get_project()\n",
    "        self.fs = project.get_feature_store()\n",
    "        \n",
    "        # Retrieve the 'videos' feature view\n",
    "        self.videos_fv = self.fs.get_feature_view(\n",
    "            name=\"videos\", \n",
    "            version=1,\n",
    "        )\n",
    "        \n",
    "        # Get list of feature names for videos\n",
    "        self.video_features = [feat.name for feat in self.videos_fv.schema]\n",
    "        \n",
    "        # Retrieve the 'users' feature view\n",
    "        self.users_fv = self.fs.get_feature_view(\n",
    "            name=\"users\", \n",
    "            version=1,\n",
    "        )\n",
    "\n",
    "        # Retrieve the 'candidate_embeddings' feature view\n",
    "        self.candidate_index = self.fs.get_feature_view(\n",
    "            name=\"candidate_embeddings\", \n",
    "            version=1,\n",
    "        )\n",
    "\n",
    "        # Retrieve ranking model\n",
    "        mr = project.get_model_registry()\n",
    "        model = mr.get_model(\n",
    "            name=\"ranking_model\", \n",
    "            version=1,\n",
    "        )\n",
    "        \n",
    "        # Extract input schema from the model\n",
    "        input_schema = model.model_schema[\"input_schema\"][\"columnar_schema\"]\n",
    "        \n",
    "        # Get the names of features expected by the ranking model\n",
    "        self.ranking_model_feature_names = [feat[\"name\"] for feat in input_schema]\n",
    "            \n",
    "    def preprocess(self, inputs):\n",
    "        # Extract the input instance\n",
    "        inputs = inputs[\"instances\"][0]\n",
    "\n",
    "        # Extract customer_id from inputs\n",
    "        user_id = inputs[\"user_id\"]\n",
    "        month_sin = inputs[\"month_sin\"]\n",
    "        month_cos = inputs[\"month_cos\"]\n",
    "                \n",
    "        # Search for candidate items\n",
    "        neighbors = self.candidate_index.find_neighbors(\n",
    "            inputs[\"query_emb\"], \n",
    "            k=100,\n",
    "        )\n",
    "        neighbors = [neighbor[0] for neighbor in neighbors]\n",
    "        \n",
    "        # Get IDs of items already bought by the customer\n",
    "        already_seen_videos_ids = self.fs.sql(\n",
    "            f\"SELECT video_id from interactions_1 WHERE user_id = '{user_id}'\", \n",
    "            online=True).values.reshape(-1).tolist()\n",
    "        \n",
    "        # Filter candidate items to exclude those already bought by the customer\n",
    "        video_id_list = [\n",
    "            video_id\n",
    "            for video_id \n",
    "            in neighbors \n",
    "            if video_id\n",
    "            not in already_seen_videos_ids\n",
    "        ]\n",
    "        \n",
    "        # Retrieve Article data for candidate items\n",
    "        videos_data = [\n",
    "            self.videos_fv.get_feature_vector({\"video_id\": video_id}) \n",
    "            for video_id \n",
    "            in video_id_list\n",
    "        ]\n",
    "\n",
    "        ranking_model_inputs = pd.DataFrame(\n",
    "            data=videos_data, \n",
    "            columns=self.video_features,\n",
    "        )\n",
    "        \n",
    "        # Join candidate items with their features\n",
    "        ranking_model_inputs[\"video_id\"] = video_id_list\n",
    "        \n",
    "        # Add customer features\n",
    "        user_features = self.users_fv.get_feature_vector(\n",
    "            {\"user_id\": user_id}, \n",
    "            return_type=\"pandas\",\n",
    "        )\n",
    "        \n",
    "        ranking_model_inputs[\"gender\"] = user_features[\"gender\"].values[0] \n",
    "        ranking_model_inputs[\"age\"] = user_features[\"age\"].values[0] \n",
    "        ranking_model_inputs[\"country\"] = user_features[\"country\"].values[0] \n",
    "        ranking_model_inputs[\"month_sin\"] = month_sin\n",
    "        ranking_model_inputs[\"month_cos\"] = month_cos\n",
    "        \n",
    "        # Select only the features required by the ranking model\n",
    "        ranking_model_inputs = ranking_model_inputs[self.ranking_model_feature_names]\n",
    "                \n",
    "        return { \n",
    "            \"inputs\" : [{\"ranking_features\": ranking_model_inputs.values.tolist(), \"video_ids\": video_id_list}]\n",
    "        }\n",
    "\n",
    "    def postprocess(self, outputs):\n",
    "        # Extract predictions from the outputs\n",
    "        preds = outputs[\"predictions\"]\n",
    "        \n",
    "        # Merge prediction scores and corresponding article IDs into a list of tuples\n",
    "        ranking = list(zip(preds[\"scores\"], preds[\"video_ids\"]))\n",
    "        \n",
    "        # Sort the ranking list by score in descending order\n",
    "        ranking.sort(reverse=True)\n",
    "        \n",
    "        # Return the sorted ranking list\n",
    "        return { \n",
    "            \"ranking\": ranking,\n",
    "        }"
   ]
  },
  {
   "cell_type": "code",
   "execution_count": null,
   "id": "155add21",
   "metadata": {},
   "outputs": [],
   "source": [
    "# Copy transformer file into Hopsworks File System \n",
    "uploaded_file_path = dataset_api.upload(\n",
    "    \"ranking_transformer.py\",    # File name to be uploaded\n",
    "    \"Resources\",                 # Destination directory in Hopsworks File System \n",
    "    overwrite=True,              # Overwrite the file if it already exists\n",
    ") \n",
    "\n",
    "# Construct the path to the uploaded transformer script\n",
    "transformer_script_path = os.path.join(\n",
    "    \"/Projects\",                 # Root directory for projects in Hopsworks\n",
    "    project.name,                # Name of the current project\n",
    "    uploaded_file_path,          # Path to the uploaded file within the project\n",
    ")"
   ]
  },
  {
   "cell_type": "code",
   "execution_count": null,
   "id": "5e76f3ab",
   "metadata": {},
   "outputs": [],
   "source": [
    "%%writefile ranking_predictor.py\n",
    "\n",
    "import os\n",
    "import joblib\n",
    "import numpy as np\n",
    "\n",
    "import logging\n",
    "\n",
    "class Predict(object):\n",
    "    \n",
    "    def __init__(self):\n",
    "        self.model = joblib.load(os.environ[\"ARTIFACT_FILES_PATH\"] + \"/ranking_model.pkl\")\n",
    "\n",
    "    def predict(self, inputs):\n",
    "        # Extract ranking features and article IDs from the inputs\n",
    "        features = inputs[0].pop(\"ranking_features\")\n",
    "        video_ids = inputs[0].pop(\"video_ids\")\n",
    "        \n",
    "        # Log the extracted features\n",
    "        logging.info(\"predict -> \" + str(features))\n",
    "\n",
    "        # Predict probabilities for the positive class\n",
    "        scores = self.model.predict_proba(features).tolist()\n",
    "        \n",
    "        # Get scores of positive class\n",
    "        scores = np.asarray(scores)[:,1].tolist() \n",
    "\n",
    "        # Return the predicted scores along with the corresponding article IDs\n",
    "        return {\n",
    "            \"scores\": scores, \n",
    "            \"video_ids\": video_ids,\n",
    "        }"
   ]
  },
  {
   "cell_type": "code",
   "execution_count": null,
   "id": "43e26068",
   "metadata": {},
   "outputs": [],
   "source": [
    "# Upload predictor file to Hopsworks\n",
    "uploaded_file_path = dataset_api.upload(\n",
    "    \"ranking_predictor.py\", \n",
    "    \"Resources\", \n",
    "    overwrite=True,\n",
    ")\n",
    "\n",
    "# Construct the path to the uploaded script\n",
    "predictor_script_path = os.path.join(\n",
    "    \"/Projects\", \n",
    "    project.name, \n",
    "    uploaded_file_path,\n",
    ")"
   ]
  },
  {
   "cell_type": "markdown",
   "id": "17ac4124",
   "metadata": {},
   "source": [
    "With that in place, you can finally deploy your model."
   ]
  },
  {
   "cell_type": "code",
   "execution_count": null,
   "id": "913b28d2",
   "metadata": {},
   "outputs": [],
   "source": [
    "from hsml.transformer import Transformer\n",
    "\n",
    "ranking_deployment_name = \"rankingdeployment\"\n",
    "\n",
    "# Define transformer\n",
    "ranking_transformer=Transformer(\n",
    "    script_file=transformer_script_path, \n",
    "    resources={\"num_instances\": 1},\n",
    ")\n",
    "\n",
    "# Deploy ranking model\n",
    "ranking_deployment = ranking_model.deploy(\n",
    "    name=ranking_deployment_name,\n",
    "    description=\"Deployment that search for video candidates and scores them based on user metadata\",\n",
    "    script_file=predictor_script_path,\n",
    "    resources={\"num_instances\": 1},\n",
    "    transformer=ranking_transformer,\n",
    ")"
   ]
  },
  {
   "cell_type": "code",
   "execution_count": null,
   "id": "9151e785",
   "metadata": {},
   "outputs": [],
   "source": [
    "# Start the deployment\n",
    "ranking_deployment.start()"
   ]
  },
  {
   "cell_type": "code",
   "execution_count": null,
   "id": "f267cd6e",
   "metadata": {},
   "outputs": [],
   "source": [
    "# Check logs in case of failure\n",
    "#ranking_deployment.get_logs(component=\"predictor\", tail=200)"
   ]
  },
  {
   "cell_type": "code",
   "execution_count": null,
   "id": "391032d2",
   "metadata": {},
   "outputs": [],
   "source": [
    "def get_top_recommendations(ranked_candidates, k=3):\n",
    "    return [candidate[-1] for candidate in ranked_candidates['ranking'][:k]]"
   ]
  },
  {
   "cell_type": "code",
   "execution_count": null,
   "id": "d786e76e",
   "metadata": {},
   "outputs": [],
   "source": [
    "# Define a test input example\n",
    "test_ranking_input = {\"instances\": [{\n",
    "    \"user_id\": \"ED267E\",\n",
    "    \"month_sin\": 1.2246467991473532e-16,\n",
    "    \"month_cos\": -1.0,\n",
    "    \"query_emb\": [0.214135289,\n",
    "     0.571055949,\n",
    "     0.330709577,\n",
    "     -0.225899458,\n",
    "     -0.308674961,\n",
    "     -0.0115124583,\n",
    "     0.0730511621,\n",
    "     -0.495835781,\n",
    "     0.625569344,\n",
    "     -0.0438038409,\n",
    "     0.263472944,\n",
    "     -0.58485353,\n",
    "     -0.307070434,\n",
    "     0.0414443575,\n",
    "     -0.321789205,\n",
    "     0.966559],\n",
    "}]}"
   ]
  },
  {
   "cell_type": "code",
   "execution_count": null,
   "id": "f548e470",
   "metadata": {},
   "outputs": [],
   "source": [
    "# Test ranking deployment\n",
    "ranked_candidates = ranking_deployment.predict(test_ranking_input)\n",
    "\n",
    "# Retrieve article ids of the top recommended items\n",
    "recommendations = get_top_recommendations(ranked_candidates, k=3)\n",
    "recommendations"
   ]
  },
  {
   "cell_type": "code",
   "execution_count": null,
   "id": "c1f2888e",
   "metadata": {},
   "outputs": [],
   "source": [
    "# Check logs in case of failure\n",
    "#ranking_deployment.get_logs(component=\"transformer\",tail=200)"
   ]
  },
  {
   "cell_type": "markdown",
   "id": "2ebce4de",
   "metadata": {},
   "source": [
    "---"
   ]
  },
  {
   "cell_type": "markdown",
   "id": "5b8dafe6",
   "metadata": {},
   "source": [
    "## <span style=\"color:#ff5f27\">🚀 Query Model Deployment </span>\n",
    "\n",
    "Next, you'll deploy your query model."
   ]
  },
  {
   "cell_type": "code",
   "execution_count": null,
   "id": "08e5295a",
   "metadata": {},
   "outputs": [],
   "source": [
    "# Retrieve the 'query_model' from the Model Registry\n",
    "query_model = mr.get_model(\n",
    "    name=\"query_model\",\n",
    "    version=1,\n",
    ")"
   ]
  },
  {
   "cell_type": "code",
   "execution_count": null,
   "id": "b8b4889d",
   "metadata": {},
   "outputs": [],
   "source": [
    "%%writefile querymodel_transformer.py\n",
    "\n",
    "import os\n",
    "import numpy as np\n",
    "import pandas as pd\n",
    "from datetime import datetime\n",
    "\n",
    "import hopsworks\n",
    "\n",
    "import logging\n",
    "import json\n",
    "\n",
    "\n",
    "# Calculate ondemand features the sine and cosine of the month of interaction date\n",
    "def month_sine(interaction_date):     \n",
    "        # Calculate a coefficient for adjusting the periodicity of the month\n",
    "        coef = np.random.uniform(0, 2 * np.pi) / 12\n",
    "\n",
    "        #month_of_purchase = datetime.strptime(transaction_date, \"%Y-%m-%dT%H:%M:%S\").month\n",
    "        month_of_interaction = interaction_date.month \n",
    "    \n",
    "        # Calculate the sine and cosine components for the month_of_purchase\n",
    "        return float(np.sin(month_of_interaction * coef)) \n",
    "\n",
    "def month_cosine(interaction_date):     \n",
    "        # Calculate a coefficient for adjusting the periodicity of the month\n",
    "        coef = np.random.uniform(0, 2 * np.pi) / 12\n",
    "\n",
    "        #month_of_purchase = datetime.strptime(transaction_date, \"%Y-%m-%dT%H:%M:%S\").month\n",
    "        month_of_interaction = interaction_date.month \n",
    "    \n",
    "        # Calculate the sine and cosine components for the month_of_purchase\n",
    "        return float(np.cos(month_of_interaction * coef))\n",
    "\n",
    "    \n",
    "class Transformer(object):\n",
    "    \n",
    "    def __init__(self):            \n",
    "        # Connect to the Hopsworks\n",
    "        project = hopsworks.connection().get_project()\n",
    "        ms = project.get_model_serving()\n",
    "    \n",
    "        # Retrieve the 'users' feature view\n",
    "        fs = project.get_feature_store()\n",
    "        self.users_fv = fs.get_feature_view(\n",
    "            name=\"users\", \n",
    "            version=1,\n",
    "        )\n",
    "        # Retrieve the ranking deployment \n",
    "        self.ranking_server = ms.get_deployment(\"rankingdeployment\")\n",
    "        \n",
    "        self.logger = logging.getLogger(__name__)\n",
    "\n",
    "        \n",
    "        \n",
    "    def preprocess(self, inputs):\n",
    "        # Check if the input data contains a key named \"instances\"\n",
    "        # and extract the actual data if present\n",
    "        inputs = inputs[\"instances\"] if \"instances\" in inputs else inputs\n",
    "        \n",
    "        # Extract customer_id from the inputs\n",
    "        user_id = inputs[\"user_id\"]\n",
    "        interaction_date = inputs.pop(\"interaction_date\")\n",
    "\n",
    "        # Get customer features\n",
    "        user_features = self.users_fv.get_feature_vector(\n",
    "            {\"user_id\": user_id}, \n",
    "            return_type=\"pandas\",\n",
    "        )\n",
    "\n",
    "        # Enrich inputs with customer age\n",
    "        inputs[\"gender\"] = user_features['gender'].values[0]\n",
    "        inputs[\"age\"] = user_features['age'].values[0] \n",
    "\n",
    "        # Calculate the sine and cosine of the month_of_purchase\n",
    "        interaction_date = datetime.strptime(interaction_date, \"%Y-%m-%d %H:%M:%S\")\n",
    "        \n",
    "        # Calculate the sine and cosine components for the month_of_purchase\n",
    "        inputs[\"month_sin\"] = month_sine(interaction_date)\n",
    "        inputs[\"month_cos\"] = month_cosine(interaction_date)\n",
    "        \n",
    "        inputs[\"country\"] = user_features['country'].values[0]\n",
    "        inputs[\"user_dislike_count\"] = user_features['user_dislike_count'].values[0]\n",
    "        inputs[\"user_like_count\"] = user_features['user_like_count'].values[0]\n",
    "        inputs[\"user_total_watch_time\"] = user_features['user_total_watch_time'].values[0]\n",
    "        inputs[\"user_view_count\"] = user_features['user_view_count'].values[0]\n",
    "        \n",
    "        return {\n",
    "            \"instances\" : [inputs]\n",
    "        }\n",
    "    \n",
    "    def postprocess(self, outputs):\n",
    "        # Return ordered ranking predictions\n",
    "        return {\n",
    "            \"predictions\": self.ranking_server.predict({ \"instances\": outputs[\"predictions\"]}),\n",
    "        }"
   ]
  },
  {
   "cell_type": "code",
   "execution_count": null,
   "id": "96011659",
   "metadata": {},
   "outputs": [],
   "source": [
    "# Copy transformer file into Hopsworks File System\n",
    "uploaded_file_path = dataset_api.upload(\n",
    "    \"querymodel_transformer.py\", \n",
    "    \"Models\", \n",
    "    overwrite=True,\n",
    ")\n",
    "\n",
    "# Construct the path to the uploaded script\n",
    "transformer_script_path = os.path.join(\n",
    "    \"/Projects\", \n",
    "    project.name, \n",
    "    uploaded_file_path,\n",
    ")"
   ]
  },
  {
   "cell_type": "code",
   "execution_count": null,
   "id": "9da61600",
   "metadata": {},
   "outputs": [],
   "source": [
    "from hsml.transformer import Transformer\n",
    "\n",
    "query_model_deployment_name = \"querydeployment\"\n",
    "\n",
    "# Define transformer\n",
    "query_model_transformer=Transformer(\n",
    "    script_file=transformer_script_path, \n",
    "    resources={\"num_instances\": 1},\n",
    ")\n",
    "\n",
    "# Deploy the query model\n",
    "query_model_deployment = query_model.deploy(\n",
    "    name=query_model_deployment_name,\n",
    "    description=\"Deployment that generates query embeddings from user and video features using the query model\",\n",
    "    resources={\"num_instances\": 1},\n",
    "    transformer=query_model_transformer,\n",
    ")"
   ]
  },
  {
   "cell_type": "markdown",
   "id": "ed2dcc62",
   "metadata": {},
   "source": [
    "At this point, you have registered your deployment. To start it up you need to run:"
   ]
  },
  {
   "cell_type": "code",
   "execution_count": null,
   "id": "ee977d2f",
   "metadata": {},
   "outputs": [],
   "source": [
    "# Start the deployment\n",
    "query_model_deployment.start()"
   ]
  },
  {
   "cell_type": "code",
   "execution_count": null,
   "id": "a42f4d7f",
   "metadata": {},
   "outputs": [],
   "source": [
    "# Check logs in case of failure\n",
    "# query_model_deployment.get_logs(component=\"transformer\", tail=20)"
   ]
  },
  {
   "cell_type": "code",
   "execution_count": null,
   "id": "5f410c3d",
   "metadata": {},
   "outputs": [],
   "source": [
    "# Define a test input example\n",
    "#data = {\"instances\": {\"user_id\": \"ED267E\"}}\n",
    "\n",
    "# Define a test input example\n",
    "data = {\"instances\": {\"user_id\": \"ED267E\", \"interaction_date\": \"2024-02-10 15:33:11\"}}\n",
    "\n",
    "\n",
    "# Test the deployment\n",
    "ranked_candidates = query_model_deployment.predict(data)\n",
    "\n",
    "# Retrieve article ids of the top recommended items\n",
    "recommendations = get_top_recommendations(\n",
    "    ranked_candidates['predictions'], \n",
    "    k=3,\n",
    ")\n",
    "recommendations\n"
   ]
  },
  {
   "cell_type": "code",
   "execution_count": null,
   "id": "f2f56f00",
   "metadata": {},
   "outputs": [],
   "source": [
    "# Check logs in case of failure\n",
    "#query_model_deployment.get_logs(component=\"transformer\",tail=200)"
   ]
  },
  {
   "cell_type": "code",
   "execution_count": null,
   "id": "c38a70e5",
   "metadata": {},
   "outputs": [],
   "source": [
    "#ranking_deployment.get_logs(component=\"transformer\",tail=200)"
   ]
  },
  {
   "cell_type": "markdown",
   "id": "280d386f",
   "metadata": {},
   "source": [
    "Stop the deployment when you're not using it."
   ]
  },
  {
   "cell_type": "code",
   "execution_count": null,
   "id": "a44ce70d",
   "metadata": {},
   "outputs": [],
   "source": [
    "# Stop the ranking model deployment\n",
    "ranking_deployment.stop()\n",
    "\n",
    "# Stop the query model deployment\n",
    "query_model_deployment.stop()"
   ]
  },
  {
   "cell_type": "code",
   "execution_count": null,
   "id": "82be7ad5",
   "metadata": {},
   "outputs": [],
   "source": [
    "inputs = data[\"instances\"][0]\n",
    "\n",
    "# Extract customer_id from the inputs\n",
    "user_id = inputs[\"user_id\"]\n",
    "interaction_date = inputs[\"interaction_date\"]\n"
   ]
  },
  {
   "cell_type": "markdown",
   "id": "6d72050a",
   "metadata": {},
   "source": [
    "---"
   ]
  }
 ],
 "metadata": {
  "kernelspec": {
   "display_name": "Python 3 (ipykernel)",
   "language": "python",
   "name": "python3"
  },
  "language_info": {
   "codemirror_mode": {
    "name": "ipython",
    "version": 3
   },
   "file_extension": ".py",
   "mimetype": "text/x-python",
   "name": "python",
   "nbconvert_exporter": "python",
   "pygments_lexer": "ipython3",
   "version": "3.10.13"
  }
 },
 "nbformat": 4,
 "nbformat_minor": 5
}
