{
 "cells": [
  {
   "cell_type": "markdown",
   "id": "8123045d",
   "metadata": {},
   "source": [
    "# <span style=\"font-width:bold; font-size: 3rem; color:#1EB182;\"><img src=\"../../images/icon102.png\" width=\"38px\"></img> **Hopsworks Feature Store** </span><span style=\"font-width:bold; font-size: 3rem; color:#333;\">- Part 05: Batch Predictions</span>\n",
    "\n",
    "[![Open In Colab](https://colab.research.google.com/assets/colab-badge.svg)](https://colab.research.google.com/github/logicalclocks/hopsworks-tutorials/blob/master/advanced_tutorials/bitcoin/5_batch_predictions.ipynb)\n",
    "\n",
    "## 🗒️ This notebook is divided into the following sections: \n",
    "\n",
    "1. Load the deployment\n",
    "2. Retrieve batch data\n",
    "3. Batch prediction using deployment\n",
    "\n",
    "![part3](../../images/03_model.png) "
   ]
  },
  {
   "cell_type": "markdown",
   "id": "0792682c",
   "metadata": {},
   "source": [
    "### <span style=\"color:#ff5f27;\"> 📝 Imports</span>"
   ]
  },
  {
   "cell_type": "code",
   "execution_count": null,
   "id": "f10a9a23",
   "metadata": {},
   "outputs": [],
   "source": [
    "import pandas as pd\n",
    "\n",
    "import tensorflow as tf \n",
    "import inspect "
   ]
  },
  {
   "cell_type": "markdown",
   "id": "a452e9d5",
   "metadata": {},
   "source": [
    "---"
   ]
  },
  {
   "cell_type": "markdown",
   "id": "8a8e4f4a",
   "metadata": {},
   "source": [
    "---"
   ]
  },
  {
   "cell_type": "markdown",
   "id": "0bc16836",
   "metadata": {},
   "source": [
    "## <span style=\"color:#ff5f27;\"> 📡 Connecting to the Hopsworks Feature Store </span>"
   ]
  },
  {
   "cell_type": "code",
   "execution_count": null,
   "id": "aba98883",
   "metadata": {},
   "outputs": [],
   "source": [
    "import hopsworks\n",
    "\n",
    "project = hopsworks.login()\n",
    "\n",
    "fs = project.get_feature_store()"
   ]
  },
  {
   "cell_type": "markdown",
   "id": "f96b9cb5",
   "metadata": {},
   "source": [
    "---"
   ]
  },
  {
   "cell_type": "markdown",
   "id": "a40bc25c",
   "metadata": {},
   "source": [
    "## <span style=\"color:#ff5f27;\"> ✨ Load Batch Data of last days</span>\n",
    "\n",
    "First, you will need to fetch the training dataset that you created in the previous notebook."
   ]
  },
  {
   "cell_type": "code",
   "execution_count": null,
   "id": "87fe11bc",
   "metadata": {},
   "outputs": [],
   "source": [
    "feature_view = fs.get_feature_view(\"bitcoin_feature_view\", 1)\n",
    "feature_view.init_batch_scoring(training_dataset_version=1)\n",
    "feature_df = feature_view.get_batch_data().drop('unix',axis=1)\n",
    "feature_df.head()"
   ]
  },
  {
   "cell_type": "markdown",
   "id": "0fe2ea79",
   "metadata": {},
   "source": [
    "---"
   ]
  },
  {
   "cell_type": "markdown",
   "id": "cf24f5dc",
   "metadata": {},
   "source": [
    "## <span style=\"color:#ff5f27;\">🚀 Use the model to predict electricity prices</span>"
   ]
  },
  {
   "cell_type": "code",
   "execution_count": null,
   "id": "133d8876",
   "metadata": {},
   "outputs": [],
   "source": [
    "mr = project.get_model_registry()\n",
    "\n",
    "model = mr.get_model(\"bitcoin_price_model\", version=1)\n",
    "model_dir = model.download()\n",
    "\n",
    "loaded_model = tf.saved_model.load(model_dir)\n",
    "serving_function = loaded_model.signatures[\"serving_default\"]"
   ]
  },
  {
   "cell_type": "code",
   "execution_count": null,
   "id": "5d519381",
   "metadata": {},
   "outputs": [],
   "source": [
    "predictions = serving_function(tf.constant(feature_df.values.reshape(-1, feature_df.shape[0], feature_df.shape[1]), tf.float32))['dense_1'].numpy()\n",
    "predictions[:5]"
   ]
  },
  {
   "cell_type": "markdown",
   "id": "76c47a14",
   "metadata": {},
   "source": [
    "Recall that you applied transformation functions, such as min max scaler and laber encoder. \n",
    "\n",
    "Now you want to transform them back to human readable format."
   ]
  },
  {
   "cell_type": "code",
   "execution_count": null,
   "id": "525505ff",
   "metadata": {},
   "outputs": [],
   "source": [
    "feature_view.init_serving(1)\n",
    "td_transformation_functions = feature_view._single_vector_server._transformation_functions\n",
    "\n",
    "pred_y = pd.DataFrame(predictions, columns=[\"close\"])\n",
    "\n",
    "for feature_name in td_transformation_functions:\n",
    "    if feature_name == \"close\":\n",
    "        td_transformation_function = td_transformation_functions[feature_name]\n",
    "        sig, foobar_locals = inspect.signature(td_transformation_function.transformation_fn), locals()\n",
    "        param_dict = dict([(param.name, param.default) for param in sig.parameters.values() if param.default != inspect._empty])\n",
    "        if td_transformation_function.name == \"min_max_scaler\":\n",
    "            pred_y[feature_name] = pred_y[feature_name].map(lambda x: x*(param_dict[\"max_value\"]-param_dict[\"min_value\"])+param_dict[\"min_value\"])\n",
    "            \n",
    "pred_y.head()        "
   ]
  },
  {
   "cell_type": "markdown",
   "id": "11ed2035",
   "metadata": {},
   "source": [
    "---"
   ]
  }
 ],
 "metadata": {
  "kernelspec": {
   "display_name": "Python 3 (ipykernel)",
   "language": "python",
   "name": "python3"
  },
  "language_info": {
   "codemirror_mode": {
    "name": "ipython",
    "version": 3
   },
   "file_extension": ".py",
   "mimetype": "text/x-python",
   "name": "python",
   "nbconvert_exporter": "python",
   "pygments_lexer": "ipython3",
   "version": "3.8.15"
  }
 },
 "nbformat": 4,
 "nbformat_minor": 5
}
