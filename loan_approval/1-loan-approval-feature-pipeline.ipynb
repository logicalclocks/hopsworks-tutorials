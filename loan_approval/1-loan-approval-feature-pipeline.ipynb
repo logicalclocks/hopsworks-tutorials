{
 "cells": [
  {
   "cell_type": "markdown",
   "id": "4e1e2fcc",
   "metadata": {
    "papermill": {
     "duration": 0.029083,
     "end_time": "2023-01-31T14:11:23.008968",
     "exception": false,
     "start_time": "2023-01-31T14:11:22.979885",
     "status": "completed"
    },
    "tags": []
   },
   "source": [
    "# Lending Club Dataset\n",
    "\n",
    "## Feature pipeline\n",
    "\n",
    "This notebook:\n",
    "\n",
    "* reads raw data from a csv file postfixed with a date - the notebook should be parameterized with the date of data that should be processed\n",
    "* creates features for 2 feature groups - `loans` and `applicants`\n",
    "* creates a Great Expectations rule to validate feature data before it is written to the feature group\n",
    "* inserts the dataframes of engineered features into our 2 feature groups"
   ]
  },
  {
   "cell_type": "code",
   "execution_count": 1,
   "id": "4c37fd44",
   "metadata": {},
   "outputs": [
    {
     "name": "stdout",
     "output_type": "stream",
     "text": [
      "Local environment\n"
     ]
    }
   ],
   "source": [
    "import os\n",
    "\n",
    "# In a production feature pipeline, today's date will be supplied as a parameter,\n",
    "# such as Airflow running the pipeline once/day - it would run the feature pipeline\n",
    "# once each day, providing the date as a parameter here\n",
    "todays_date = \"2023-05-10\"\n",
    "\n",
    "# Hosted notebook environments may not have the local features package\n",
    "def need_download_modules():\n",
    "    if 'google.colab' in str(get_ipython()):\n",
    "        return True\n",
    "    if 'HOPSWORKS_PROJECT_ID' in os.environ:\n",
    "        return True\n",
    "    return False\n",
    "\n",
    "if need_download_modules():\n",
    "    print(\"Downloading modules\")\n",
    "    os.system('mkdir -p features')\n",
    "    os.system('cd features && wget https://raw.githubusercontent.com/logicalclocks/hopsworks-tutorials/dev/loan_approval/features/loans.py')\n",
    "    os.system('cd features && wget https://raw.githubusercontent.com/logicalclocks/hopsworks-tutorials/dev/loan_approval/features/applicants.py')\n",
    "else:\n",
    "    print(\"Local environment\")"
   ]
  },
  {
   "cell_type": "code",
   "execution_count": 2,
   "id": "afcfda6c-b84f-4f60-8695-97e68e3eba41",
   "metadata": {},
   "outputs": [],
   "source": [
    "# !pip uninstall jinja2 -y\n",
    "# !pip install jinja2==3.0.3"
   ]
  },
  {
   "cell_type": "code",
   "execution_count": 3,
   "id": "9cb24c87",
   "metadata": {
    "_kg_hide-input": true,
    "papermill": {
     "duration": 9.198485,
     "end_time": "2023-01-31T14:11:44.334641",
     "exception": false,
     "start_time": "2023-01-31T14:11:35.136156",
     "status": "completed"
    },
    "tags": []
   },
   "outputs": [],
   "source": [
    "import pandas as pd\n",
    "import numpy as np\n",
    "\n",
    "pd.set_option('display.float', '{:.2f}'.format)\n",
    "pd.set_option('display.max_columns', 50)\n",
    "pd.set_option('display.max_rows', 50)"
   ]
  },
  {
   "cell_type": "code",
   "execution_count": 4,
   "id": "276d0ec7",
   "metadata": {
    "papermill": {
     "duration": 3.467387,
     "end_time": "2023-01-31T14:11:47.933929",
     "exception": false,
     "start_time": "2023-01-31T14:11:44.466542",
     "status": "completed"
    },
    "tags": []
   },
   "outputs": [
    {
     "data": {
      "text/html": [
       "<div>\n",
       "<style scoped>\n",
       "    .dataframe tbody tr th:only-of-type {\n",
       "        vertical-align: middle;\n",
       "    }\n",
       "\n",
       "    .dataframe tbody tr th {\n",
       "        vertical-align: top;\n",
       "    }\n",
       "\n",
       "    .dataframe thead th {\n",
       "        text-align: right;\n",
       "    }\n",
       "</style>\n",
       "<table border=\"1\" class=\"dataframe\">\n",
       "  <thead>\n",
       "    <tr style=\"text-align: right;\">\n",
       "      <th></th>\n",
       "      <th>id</th>\n",
       "      <th>loan_amnt</th>\n",
       "      <th>term</th>\n",
       "      <th>int_rate</th>\n",
       "      <th>installment</th>\n",
       "      <th>grade</th>\n",
       "      <th>sub_grade</th>\n",
       "      <th>issue_d</th>\n",
       "      <th>loan_status</th>\n",
       "      <th>purpose</th>\n",
       "      <th>title</th>\n",
       "      <th>address</th>\n",
       "    </tr>\n",
       "  </thead>\n",
       "  <tbody>\n",
       "    <tr>\n",
       "      <th>0</th>\n",
       "      <td>0</td>\n",
       "      <td>10000.00</td>\n",
       "      <td>36 months</td>\n",
       "      <td>11.44</td>\n",
       "      <td>329.48</td>\n",
       "      <td>B</td>\n",
       "      <td>B4</td>\n",
       "      <td>Jan-2015</td>\n",
       "      <td>Fully Paid</td>\n",
       "      <td>vacation</td>\n",
       "      <td>Vacation</td>\n",
       "      <td>0174 Michelle Gateway\\r\\nMendozaberg, OK 22690</td>\n",
       "    </tr>\n",
       "    <tr>\n",
       "      <th>1</th>\n",
       "      <td>1</td>\n",
       "      <td>8000.00</td>\n",
       "      <td>36 months</td>\n",
       "      <td>11.99</td>\n",
       "      <td>265.68</td>\n",
       "      <td>B</td>\n",
       "      <td>B5</td>\n",
       "      <td>Jan-2015</td>\n",
       "      <td>Fully Paid</td>\n",
       "      <td>debt_consolidation</td>\n",
       "      <td>Debt consolidation</td>\n",
       "      <td>1076 Carney Fort Apt. 347\\r\\nLoganmouth, SD 05113</td>\n",
       "    </tr>\n",
       "    <tr>\n",
       "      <th>2</th>\n",
       "      <td>2</td>\n",
       "      <td>15600.00</td>\n",
       "      <td>36 months</td>\n",
       "      <td>10.49</td>\n",
       "      <td>506.97</td>\n",
       "      <td>B</td>\n",
       "      <td>B3</td>\n",
       "      <td>Jan-2015</td>\n",
       "      <td>Fully Paid</td>\n",
       "      <td>credit_card</td>\n",
       "      <td>Credit card refinancing</td>\n",
       "      <td>87025 Mark Dale Apt. 269\\r\\nNew Sabrina, WV 05113</td>\n",
       "    </tr>\n",
       "    <tr>\n",
       "      <th>3</th>\n",
       "      <td>3</td>\n",
       "      <td>7200.00</td>\n",
       "      <td>36 months</td>\n",
       "      <td>6.49</td>\n",
       "      <td>220.65</td>\n",
       "      <td>A</td>\n",
       "      <td>A2</td>\n",
       "      <td>Nov-2014</td>\n",
       "      <td>Fully Paid</td>\n",
       "      <td>credit_card</td>\n",
       "      <td>Credit card refinancing</td>\n",
       "      <td>823 Reid Ford\\r\\nDelacruzside, MA 00813</td>\n",
       "    </tr>\n",
       "    <tr>\n",
       "      <th>4</th>\n",
       "      <td>4</td>\n",
       "      <td>24375.00</td>\n",
       "      <td>60 months</td>\n",
       "      <td>17.27</td>\n",
       "      <td>609.33</td>\n",
       "      <td>C</td>\n",
       "      <td>C5</td>\n",
       "      <td>Apr-2013</td>\n",
       "      <td>Charged Off</td>\n",
       "      <td>credit_card</td>\n",
       "      <td>Credit Card Refinance</td>\n",
       "      <td>679 Luna Roads\\r\\nGreggshire, VA 11650</td>\n",
       "    </tr>\n",
       "  </tbody>\n",
       "</table>\n",
       "</div>"
      ],
      "text/plain": [
       "   id  loan_amnt        term  int_rate  installment grade sub_grade   issue_d  \\\n",
       "0   0   10000.00   36 months     11.44       329.48     B        B4  Jan-2015   \n",
       "1   1    8000.00   36 months     11.99       265.68     B        B5  Jan-2015   \n",
       "2   2   15600.00   36 months     10.49       506.97     B        B3  Jan-2015   \n",
       "3   3    7200.00   36 months      6.49       220.65     A        A2  Nov-2014   \n",
       "4   4   24375.00   60 months     17.27       609.33     C        C5  Apr-2013   \n",
       "\n",
       "   loan_status             purpose                    title  \\\n",
       "0   Fully Paid            vacation                 Vacation   \n",
       "1   Fully Paid  debt_consolidation       Debt consolidation   \n",
       "2   Fully Paid         credit_card  Credit card refinancing   \n",
       "3   Fully Paid         credit_card  Credit card refinancing   \n",
       "4  Charged Off         credit_card    Credit Card Refinance   \n",
       "\n",
       "                                             address  \n",
       "0     0174 Michelle Gateway\\r\\nMendozaberg, OK 22690  \n",
       "1  1076 Carney Fort Apt. 347\\r\\nLoganmouth, SD 05113  \n",
       "2  87025 Mark Dale Apt. 269\\r\\nNew Sabrina, WV 05113  \n",
       "3            823 Reid Ford\\r\\nDelacruzside, MA 00813  \n",
       "4             679 Luna Roads\\r\\nGreggshire, VA 11650  "
      ]
     },
     "execution_count": 4,
     "metadata": {},
     "output_type": "execute_result"
    }
   ],
   "source": [
    "loans_df = pd.read_parquet(\n",
    "    \"https://repo.hops.works/dev/jdowling/loans-{}.parquet\".format(todays_date))\n",
    "loans_df.head()"
   ]
  },
  {
   "cell_type": "code",
   "execution_count": 5,
   "id": "c4f6800b",
   "metadata": {},
   "outputs": [],
   "source": [
    "for month in loans_df.issue_d.unique():\n",
    "    loans_month_df = loans_df.loc[loans_df['issue_d'] == month]"
   ]
  },
  {
   "cell_type": "code",
   "execution_count": 6,
   "id": "d0def3d9",
   "metadata": {
    "papermill": {
     "duration": 0.360858,
     "end_time": "2023-01-31T14:11:48.431029",
     "exception": false,
     "start_time": "2023-01-31T14:11:48.070171",
     "status": "completed"
    },
    "scrolled": true,
    "tags": []
   },
   "outputs": [
    {
     "data": {
      "text/html": [
       "<div>\n",
       "<style scoped>\n",
       "    .dataframe tbody tr th:only-of-type {\n",
       "        vertical-align: middle;\n",
       "    }\n",
       "\n",
       "    .dataframe tbody tr th {\n",
       "        vertical-align: top;\n",
       "    }\n",
       "\n",
       "    .dataframe thead th {\n",
       "        text-align: right;\n",
       "    }\n",
       "</style>\n",
       "<table border=\"1\" class=\"dataframe\">\n",
       "  <thead>\n",
       "    <tr style=\"text-align: right;\">\n",
       "      <th></th>\n",
       "      <th>id</th>\n",
       "      <th>loan_amnt</th>\n",
       "      <th>int_rate</th>\n",
       "      <th>installment</th>\n",
       "    </tr>\n",
       "  </thead>\n",
       "  <tbody>\n",
       "    <tr>\n",
       "      <th>count</th>\n",
       "      <td>396030.00</td>\n",
       "      <td>396030.00</td>\n",
       "      <td>396030.00</td>\n",
       "      <td>396030.00</td>\n",
       "    </tr>\n",
       "    <tr>\n",
       "      <th>mean</th>\n",
       "      <td>198014.50</td>\n",
       "      <td>14113.89</td>\n",
       "      <td>13.64</td>\n",
       "      <td>431.85</td>\n",
       "    </tr>\n",
       "    <tr>\n",
       "      <th>std</th>\n",
       "      <td>114324.16</td>\n",
       "      <td>8357.44</td>\n",
       "      <td>4.47</td>\n",
       "      <td>250.73</td>\n",
       "    </tr>\n",
       "    <tr>\n",
       "      <th>min</th>\n",
       "      <td>0.00</td>\n",
       "      <td>500.00</td>\n",
       "      <td>5.32</td>\n",
       "      <td>16.08</td>\n",
       "    </tr>\n",
       "    <tr>\n",
       "      <th>25%</th>\n",
       "      <td>99007.25</td>\n",
       "      <td>8000.00</td>\n",
       "      <td>10.49</td>\n",
       "      <td>250.33</td>\n",
       "    </tr>\n",
       "    <tr>\n",
       "      <th>50%</th>\n",
       "      <td>198014.50</td>\n",
       "      <td>12000.00</td>\n",
       "      <td>13.33</td>\n",
       "      <td>375.43</td>\n",
       "    </tr>\n",
       "    <tr>\n",
       "      <th>75%</th>\n",
       "      <td>297021.75</td>\n",
       "      <td>20000.00</td>\n",
       "      <td>16.49</td>\n",
       "      <td>567.30</td>\n",
       "    </tr>\n",
       "    <tr>\n",
       "      <th>max</th>\n",
       "      <td>396029.00</td>\n",
       "      <td>40000.00</td>\n",
       "      <td>30.99</td>\n",
       "      <td>1533.81</td>\n",
       "    </tr>\n",
       "  </tbody>\n",
       "</table>\n",
       "</div>"
      ],
      "text/plain": [
       "             id  loan_amnt  int_rate  installment\n",
       "count 396030.00  396030.00 396030.00    396030.00\n",
       "mean  198014.50   14113.89     13.64       431.85\n",
       "std   114324.16    8357.44      4.47       250.73\n",
       "min        0.00     500.00      5.32        16.08\n",
       "25%    99007.25    8000.00     10.49       250.33\n",
       "50%   198014.50   12000.00     13.33       375.43\n",
       "75%   297021.75   20000.00     16.49       567.30\n",
       "max   396029.00   40000.00     30.99      1533.81"
      ]
     },
     "execution_count": 6,
     "metadata": {},
     "output_type": "execute_result"
    }
   ],
   "source": [
    "loans_df.describe()"
   ]
  },
  {
   "cell_type": "code",
   "execution_count": 7,
   "id": "7d12bfb4",
   "metadata": {},
   "outputs": [
    {
     "name": "stdout",
     "output_type": "stream",
     "text": [
      "<class 'pandas.core.frame.DataFrame'>\n",
      "RangeIndex: 396030 entries, 0 to 396029\n",
      "Data columns (total 12 columns):\n",
      " #   Column       Non-Null Count   Dtype  \n",
      "---  ------       --------------   -----  \n",
      " 0   id           396030 non-null  int64  \n",
      " 1   loan_amnt    396030 non-null  float64\n",
      " 2   term         396030 non-null  object \n",
      " 3   int_rate     396030 non-null  float64\n",
      " 4   installment  396030 non-null  float64\n",
      " 5   grade        396030 non-null  object \n",
      " 6   sub_grade    396030 non-null  object \n",
      " 7   issue_d      396030 non-null  object \n",
      " 8   loan_status  396030 non-null  object \n",
      " 9   purpose      396030 non-null  object \n",
      " 10  title        394275 non-null  object \n",
      " 11  address      396030 non-null  object \n",
      "dtypes: float64(3), int64(1), object(8)\n",
      "memory usage: 36.3+ MB\n"
     ]
    }
   ],
   "source": [
    "loans_df.info()"
   ]
  },
  {
   "cell_type": "code",
   "execution_count": 8,
   "id": "bf64e24d",
   "metadata": {},
   "outputs": [
    {
     "data": {
      "text/html": [
       "<div>\n",
       "<style scoped>\n",
       "    .dataframe tbody tr th:only-of-type {\n",
       "        vertical-align: middle;\n",
       "    }\n",
       "\n",
       "    .dataframe tbody tr th {\n",
       "        vertical-align: top;\n",
       "    }\n",
       "\n",
       "    .dataframe thead th {\n",
       "        text-align: right;\n",
       "    }\n",
       "</style>\n",
       "<table border=\"1\" class=\"dataframe\">\n",
       "  <thead>\n",
       "    <tr style=\"text-align: right;\">\n",
       "      <th></th>\n",
       "      <th>emp_title</th>\n",
       "      <th>emp_length</th>\n",
       "      <th>home_ownership</th>\n",
       "      <th>annual_inc</th>\n",
       "      <th>verification_status</th>\n",
       "      <th>dti</th>\n",
       "      <th>earliest_cr_line</th>\n",
       "      <th>open_acc</th>\n",
       "      <th>pub_rec</th>\n",
       "      <th>revol_bal</th>\n",
       "      <th>revol_util</th>\n",
       "      <th>total_acc</th>\n",
       "      <th>initial_list_status</th>\n",
       "      <th>application_type</th>\n",
       "      <th>mort_acc</th>\n",
       "      <th>pub_rec_bankruptcies</th>\n",
       "      <th>id</th>\n",
       "    </tr>\n",
       "  </thead>\n",
       "  <tbody>\n",
       "    <tr>\n",
       "      <th>0</th>\n",
       "      <td>Marketing</td>\n",
       "      <td>10+ years</td>\n",
       "      <td>RENT</td>\n",
       "      <td>117000.00</td>\n",
       "      <td>Not Verified</td>\n",
       "      <td>26.24</td>\n",
       "      <td>Jun-1990</td>\n",
       "      <td>16.00</td>\n",
       "      <td>0.00</td>\n",
       "      <td>36369.00</td>\n",
       "      <td>41.80</td>\n",
       "      <td>25.00</td>\n",
       "      <td>w</td>\n",
       "      <td>INDIVIDUAL</td>\n",
       "      <td>0.00</td>\n",
       "      <td>0.00</td>\n",
       "      <td>0</td>\n",
       "    </tr>\n",
       "    <tr>\n",
       "      <th>1</th>\n",
       "      <td>Credit analyst</td>\n",
       "      <td>4 years</td>\n",
       "      <td>MORTGAGE</td>\n",
       "      <td>65000.00</td>\n",
       "      <td>Not Verified</td>\n",
       "      <td>22.05</td>\n",
       "      <td>Jul-2004</td>\n",
       "      <td>17.00</td>\n",
       "      <td>0.00</td>\n",
       "      <td>20131.00</td>\n",
       "      <td>53.30</td>\n",
       "      <td>27.00</td>\n",
       "      <td>f</td>\n",
       "      <td>INDIVIDUAL</td>\n",
       "      <td>3.00</td>\n",
       "      <td>0.00</td>\n",
       "      <td>1</td>\n",
       "    </tr>\n",
       "    <tr>\n",
       "      <th>2</th>\n",
       "      <td>Statistician</td>\n",
       "      <td>&lt; 1 year</td>\n",
       "      <td>RENT</td>\n",
       "      <td>43057.00</td>\n",
       "      <td>Source Verified</td>\n",
       "      <td>12.79</td>\n",
       "      <td>Aug-2007</td>\n",
       "      <td>13.00</td>\n",
       "      <td>0.00</td>\n",
       "      <td>11987.00</td>\n",
       "      <td>92.20</td>\n",
       "      <td>26.00</td>\n",
       "      <td>f</td>\n",
       "      <td>INDIVIDUAL</td>\n",
       "      <td>0.00</td>\n",
       "      <td>0.00</td>\n",
       "      <td>2</td>\n",
       "    </tr>\n",
       "    <tr>\n",
       "      <th>3</th>\n",
       "      <td>Client Advocate</td>\n",
       "      <td>6 years</td>\n",
       "      <td>RENT</td>\n",
       "      <td>54000.00</td>\n",
       "      <td>Not Verified</td>\n",
       "      <td>2.60</td>\n",
       "      <td>Sep-2006</td>\n",
       "      <td>6.00</td>\n",
       "      <td>0.00</td>\n",
       "      <td>5472.00</td>\n",
       "      <td>21.50</td>\n",
       "      <td>13.00</td>\n",
       "      <td>f</td>\n",
       "      <td>INDIVIDUAL</td>\n",
       "      <td>0.00</td>\n",
       "      <td>0.00</td>\n",
       "      <td>3</td>\n",
       "    </tr>\n",
       "    <tr>\n",
       "      <th>4</th>\n",
       "      <td>Destiny Management Inc.</td>\n",
       "      <td>9 years</td>\n",
       "      <td>MORTGAGE</td>\n",
       "      <td>55000.00</td>\n",
       "      <td>Verified</td>\n",
       "      <td>33.95</td>\n",
       "      <td>Mar-1999</td>\n",
       "      <td>13.00</td>\n",
       "      <td>0.00</td>\n",
       "      <td>24584.00</td>\n",
       "      <td>69.80</td>\n",
       "      <td>43.00</td>\n",
       "      <td>f</td>\n",
       "      <td>INDIVIDUAL</td>\n",
       "      <td>1.00</td>\n",
       "      <td>0.00</td>\n",
       "      <td>4</td>\n",
       "    </tr>\n",
       "  </tbody>\n",
       "</table>\n",
       "</div>"
      ],
      "text/plain": [
       "                 emp_title emp_length home_ownership  annual_inc  \\\n",
       "0                Marketing  10+ years           RENT   117000.00   \n",
       "1          Credit analyst     4 years       MORTGAGE    65000.00   \n",
       "2             Statistician   < 1 year           RENT    43057.00   \n",
       "3          Client Advocate    6 years           RENT    54000.00   \n",
       "4  Destiny Management Inc.    9 years       MORTGAGE    55000.00   \n",
       "\n",
       "  verification_status   dti earliest_cr_line  open_acc  pub_rec  revol_bal  \\\n",
       "0        Not Verified 26.24         Jun-1990     16.00     0.00   36369.00   \n",
       "1        Not Verified 22.05         Jul-2004     17.00     0.00   20131.00   \n",
       "2     Source Verified 12.79         Aug-2007     13.00     0.00   11987.00   \n",
       "3        Not Verified  2.60         Sep-2006      6.00     0.00    5472.00   \n",
       "4            Verified 33.95         Mar-1999     13.00     0.00   24584.00   \n",
       "\n",
       "   revol_util  total_acc initial_list_status application_type  mort_acc  \\\n",
       "0       41.80      25.00                   w       INDIVIDUAL      0.00   \n",
       "1       53.30      27.00                   f       INDIVIDUAL      3.00   \n",
       "2       92.20      26.00                   f       INDIVIDUAL      0.00   \n",
       "3       21.50      13.00                   f       INDIVIDUAL      0.00   \n",
       "4       69.80      43.00                   f       INDIVIDUAL      1.00   \n",
       "\n",
       "   pub_rec_bankruptcies  id  \n",
       "0                  0.00   0  \n",
       "1                  0.00   1  \n",
       "2                  0.00   2  \n",
       "3                  0.00   3  \n",
       "4                  0.00   4  "
      ]
     },
     "execution_count": 8,
     "metadata": {},
     "output_type": "execute_result"
    }
   ],
   "source": [
    "applicants_df = pd.read_parquet(\n",
    "    \"https://repo.hops.works/dev/jdowling/applicants-{}.parquet\".format(todays_date))\n",
    "applicants_df.head()"
   ]
  },
  {
   "cell_type": "code",
   "execution_count": 9,
   "id": "58521fcc",
   "metadata": {},
   "outputs": [],
   "source": [
    "applicants_df.earliest_cr_line.unique()\n",
    "\n",
    "for month in applicants_df.earliest_cr_line.unique():\n",
    "    applicants_month_df = applicants_df.loc[applicants_df['earliest_cr_line'] == month]"
   ]
  },
  {
   "cell_type": "code",
   "execution_count": 10,
   "id": "6b95e5b8",
   "metadata": {},
   "outputs": [
    {
     "name": "stdout",
     "output_type": "stream",
     "text": [
      "<class 'pandas.core.frame.DataFrame'>\n",
      "RangeIndex: 396030 entries, 0 to 396029\n",
      "Data columns (total 17 columns):\n",
      " #   Column                Non-Null Count   Dtype  \n",
      "---  ------                --------------   -----  \n",
      " 0   emp_title             373103 non-null  object \n",
      " 1   emp_length            377729 non-null  object \n",
      " 2   home_ownership        396030 non-null  object \n",
      " 3   annual_inc            396030 non-null  float64\n",
      " 4   verification_status   396030 non-null  object \n",
      " 5   dti                   396030 non-null  float64\n",
      " 6   earliest_cr_line      396030 non-null  object \n",
      " 7   open_acc              396030 non-null  float64\n",
      " 8   pub_rec               396030 non-null  float64\n",
      " 9   revol_bal             396030 non-null  float64\n",
      " 10  revol_util            395754 non-null  float64\n",
      " 11  total_acc             396030 non-null  float64\n",
      " 12  initial_list_status   396030 non-null  object \n",
      " 13  application_type      396030 non-null  object \n",
      " 14  mort_acc              358235 non-null  float64\n",
      " 15  pub_rec_bankruptcies  395495 non-null  float64\n",
      " 16  id                    396030 non-null  int64  \n",
      "dtypes: float64(9), int64(1), object(7)\n",
      "memory usage: 51.4+ MB\n"
     ]
    }
   ],
   "source": [
    "applicants_df.info()"
   ]
  },
  {
   "cell_type": "markdown",
   "id": "7dd7cc11",
   "metadata": {
    "execution": {
     "iopub.execute_input": "2023-01-31T14:11:48.971332Z",
     "iopub.status.busy": "2023-01-31T14:11:48.970869Z",
     "iopub.status.idle": "2023-01-31T14:11:49.178902Z",
     "shell.execute_reply": "2023-01-31T14:11:49.177821Z"
    },
    "papermill": {
     "duration": 0.345476,
     "end_time": "2023-01-31T14:11:49.181182",
     "exception": false,
     "start_time": "2023-01-31T14:11:48.835706",
     "status": "completed"
    },
    "tags": []
   },
   "source": [
    "# Feature Engineering"
   ]
  },
  {
   "cell_type": "code",
   "execution_count": 11,
   "id": "74bf2b1e",
   "metadata": {
    "papermill": {
     "duration": 0.240425,
     "end_time": "2023-01-31T14:12:06.426982",
     "exception": false,
     "start_time": "2023-01-31T14:12:06.186557",
     "status": "completed"
    },
    "tags": []
   },
   "outputs": [
    {
     "name": "stdout",
     "output_type": "stream",
     "text": [
      "0.00012040900037391111\n"
     ]
    }
   ],
   "source": [
    "from features import loans, applicants\n",
    "\n",
    "import timeit\n",
    "start = timeit.timeit()\n",
    "\n",
    "applicants_df['home_ownership'] = applicants_df.home_ownership.apply(applicants.home_ownership)\n",
    "applicants_df.home_ownership.value_counts()\n",
    "\n",
    "end = timeit.timeit()\n",
    "print(end - start)"
   ]
  },
  {
   "cell_type": "code",
   "execution_count": 12,
   "id": "9640deb7",
   "metadata": {},
   "outputs": [
    {
     "data": {
      "text/plain": [
       "home_ownership\n",
       "MORTGAGE    198348\n",
       "RENT        159790\n",
       "OWN          37746\n",
       "OTHER          146\n",
       "Name: count, dtype: int64"
      ]
     },
     "execution_count": 12,
     "metadata": {},
     "output_type": "execute_result"
    }
   ],
   "source": [
    "applicants_df.home_ownership.value_counts()"
   ]
  },
  {
   "cell_type": "code",
   "execution_count": 13,
   "id": "095cd7fe",
   "metadata": {
    "papermill": {
     "duration": 0.429455,
     "end_time": "2023-01-31T14:12:17.098362",
     "exception": false,
     "start_time": "2023-01-31T14:12:16.668907",
     "status": "completed"
    },
    "tags": []
   },
   "outputs": [
    {
     "name": "stderr",
     "output_type": "stream",
     "text": [
      "/tmp/ipykernel_2256/1166740706.py:1: UserWarning: Could not infer format, so each element will be parsed individually, falling back to `dateutil`. To ensure parsing is consistent and as-expected, please specify a format.\n",
      "  applicants_df['earliest_cr_line'] = pd.to_datetime(applicants_df['earliest_cr_line'])\n",
      "/tmp/ipykernel_2256/1166740706.py:2: UserWarning: Could not infer format, so each element will be parsed individually, falling back to `dateutil`. To ensure parsing is consistent and as-expected, please specify a format.\n",
      "  loans_df['issue_d'] = pd.to_datetime(loans_df['issue_d'])\n"
     ]
    }
   ],
   "source": [
    "applicants_df['earliest_cr_line'] = pd.to_datetime(applicants_df['earliest_cr_line'])\n",
    "loans_df['issue_d'] = pd.to_datetime(loans_df['issue_d'])"
   ]
  },
  {
   "cell_type": "markdown",
   "id": "9d1bac3f",
   "metadata": {
    "papermill": {
     "duration": 0.151301,
     "end_time": "2023-01-31T14:12:20.118090",
     "exception": false,
     "start_time": "2023-01-31T14:12:19.966789",
     "status": "completed"
    },
    "tags": []
   },
   "source": [
    "## ✔️ `dti`, `open_acc`, `revol_bal`, `revol_util`, & `total_acc`\n",
    "\n",
    "> - `dti`: A ratio calculated using the borrower’s total monthly debt payments on the total debt obligations, excluding mortgage and the requested LC loan, divided by the borrower’s self-reported monthly income.\n",
    "> - `open_acc`: The number of open credit lines in the borrower's credit file.\n",
    "> - `revol_bal`: Total credit revolving balance\n",
    "> - `revol_util`: Revolving line utilization rate, or the amount of credit the borrower is using relative to all available revolving credit.\n",
    "> - `total_acc`: The total number of credit lines currently in the borrower's credit file"
   ]
  },
  {
   "cell_type": "code",
   "execution_count": 14,
   "id": "53a5c4a7",
   "metadata": {
    "papermill": {
     "duration": 0.636201,
     "end_time": "2023-01-31T14:12:32.820041",
     "exception": false,
     "start_time": "2023-01-31T14:12:32.183840",
     "status": "completed"
    },
    "tags": []
   },
   "outputs": [],
   "source": [
    "applicants_df['pub_rec'] = applicants_df.pub_rec.apply(applicants.pub_rec)\n",
    "applicants_df['pub_rec_bankruptcies'] = \\\n",
    "    applicants_df.pub_rec_bankruptcies.apply(applicants.pub_rec_bankruptcies)"
   ]
  },
  {
   "cell_type": "markdown",
   "id": "0174e794",
   "metadata": {
    "papermill": {
     "duration": 0.152855,
     "end_time": "2023-01-31T14:12:37.578196",
     "exception": false,
     "start_time": "2023-01-31T14:12:37.425341",
     "status": "completed"
    },
    "tags": []
   },
   "source": [
    "# 🔄 Data PreProcessing\n",
    "\n",
    "**Section Goals:** \n",
    "> - Remove or fill any missing data. \n",
    "> - Remove unnecessary or repetitive features. \n",
    "> - Convert categorical string features to dummy variables."
   ]
  },
  {
   "cell_type": "markdown",
   "id": "74d3e2a5",
   "metadata": {
    "papermill": {
     "duration": 0.153798,
     "end_time": "2023-01-31T14:12:39.419636",
     "exception": false,
     "start_time": "2023-01-31T14:12:39.265838",
     "status": "completed"
    },
    "tags": []
   },
   "source": [
    "Realistically there are too many unique job titles to try to convert this to a dummy variable feature. Let's remove that emp_title column."
   ]
  },
  {
   "cell_type": "code",
   "execution_count": 15,
   "id": "4e69498c",
   "metadata": {
    "papermill": {
     "duration": 0.253402,
     "end_time": "2023-01-31T14:12:39.826253",
     "exception": false,
     "start_time": "2023-01-31T14:12:39.572851",
     "status": "completed"
    },
    "tags": []
   },
   "outputs": [],
   "source": [
    "applicants_df.drop('emp_title', axis=1, inplace=True)"
   ]
  },
  {
   "cell_type": "markdown",
   "id": "f1ad195b",
   "metadata": {
    "papermill": {
     "duration": 0.241511,
     "end_time": "2023-01-31T14:12:41.814332",
     "exception": false,
     "start_time": "2023-01-31T14:12:41.572821",
     "status": "completed"
    },
    "tags": []
   },
   "source": [
    "Charge off rates are extremely similar across all employment lengths. So we are going to drop the `emp_length` column."
   ]
  },
  {
   "cell_type": "code",
   "execution_count": 16,
   "id": "08cd74d5",
   "metadata": {
    "papermill": {
     "duration": 0.253314,
     "end_time": "2023-01-31T14:12:42.304445",
     "exception": false,
     "start_time": "2023-01-31T14:12:42.051131",
     "status": "completed"
    },
    "tags": []
   },
   "outputs": [],
   "source": [
    "applicants_df.drop('emp_length', axis=1, inplace=True)"
   ]
  },
  {
   "cell_type": "markdown",
   "id": "a946b370",
   "metadata": {
    "papermill": {
     "duration": 0.154896,
     "end_time": "2023-01-31T14:12:43.642185",
     "exception": false,
     "start_time": "2023-01-31T14:12:43.487289",
     "status": "completed"
    },
    "tags": []
   },
   "source": [
    "The title column is simply a string subcategory/description of the purpose column. So we are going to drop the title column."
   ]
  },
  {
   "cell_type": "code",
   "execution_count": 17,
   "id": "87222d20",
   "metadata": {
    "papermill": {
     "duration": 0.232715,
     "end_time": "2023-01-31T14:12:44.031617",
     "exception": false,
     "start_time": "2023-01-31T14:12:43.798902",
     "status": "completed"
    },
    "tags": []
   },
   "outputs": [],
   "source": [
    "loans_df.drop('title', axis=1, inplace=True)"
   ]
  },
  {
   "cell_type": "markdown",
   "id": "00fca018",
   "metadata": {
    "papermill": {
     "duration": 0.154279,
     "end_time": "2023-01-31T14:12:44.341279",
     "exception": false,
     "start_time": "2023-01-31T14:12:44.187000",
     "status": "completed"
    },
    "tags": []
   },
   "source": [
    "### `mort_acc`\n",
    "\n",
    "There are many ways we could deal with this missing data. We could attempt to build a simple model to fill it in, such as a linear model, we could just fill it in based on the mean of the other columns, or you could even bin the columns into categories and then set NaN as its own category. There is no 100% correct approach! "
   ]
  },
  {
   "cell_type": "markdown",
   "id": "be604f1e",
   "metadata": {
    "papermill": {
     "duration": 0.157466,
     "end_time": "2023-01-31T14:12:45.923922",
     "exception": false,
     "start_time": "2023-01-31T14:12:45.766456",
     "status": "completed"
    },
    "tags": []
   },
   "source": [
    "Let's try the fillna() approach. We will group the dataframe by the total_acc and calculate the mean value for the mort_acc per total_acc entry. To get the result below:"
   ]
  },
  {
   "cell_type": "code",
   "execution_count": 18,
   "id": "655aa19d",
   "metadata": {
    "papermill": {
     "duration": 0.253754,
     "end_time": "2023-01-31T14:12:46.335011",
     "exception": false,
     "start_time": "2023-01-31T14:12:46.081257",
     "status": "completed"
    },
    "tags": []
   },
   "outputs": [],
   "source": [
    "# total_acc_avg = applicants.mean_mort_acc(applicants_df)"
   ]
  },
  {
   "cell_type": "code",
   "execution_count": 19,
   "id": "75bb4c76",
   "metadata": {
    "papermill": {
     "duration": 10.520365,
     "end_time": "2023-01-31T14:12:57.343915",
     "exception": false,
     "start_time": "2023-01-31T14:12:46.823550",
     "status": "completed"
    },
    "tags": []
   },
   "outputs": [],
   "source": [
    "applicants_df['mort_acc'] = 1\n",
    "# applicants_df.apply(lambda x: applicants.fill_mort_acc(x['total_acc'], \n",
    "#                                                         x['mort_acc'], total_acc_avg), axis=1)"
   ]
  },
  {
   "cell_type": "markdown",
   "id": "bffb4178",
   "metadata": {
    "papermill": {
     "duration": 0.156009,
     "end_time": "2023-01-31T14:12:57.656526",
     "exception": false,
     "start_time": "2023-01-31T14:12:57.500517",
     "status": "completed"
    },
    "tags": []
   },
   "source": [
    "### `revol_util` & `pub_rec_bankruptcies`\n",
    "These two features have missing data points, but they account for less than 0.5% of the total data. So we are going to remove the rows that are missing those values in those columns with dropna()."
   ]
  },
  {
   "cell_type": "code",
   "execution_count": 20,
   "id": "38ed484b",
   "metadata": {
    "papermill": {
     "duration": 0.369642,
     "end_time": "2023-01-31T14:12:58.634630",
     "exception": false,
     "start_time": "2023-01-31T14:12:58.264988",
     "status": "completed"
    },
    "tags": []
   },
   "outputs": [],
   "source": [
    "applicants_df.dropna(inplace=True)"
   ]
  },
  {
   "cell_type": "markdown",
   "id": "dbd71208",
   "metadata": {
    "papermill": {
     "duration": 0.154966,
     "end_time": "2023-01-31T14:12:59.267766",
     "exception": false,
     "start_time": "2023-01-31T14:12:59.112800",
     "status": "completed"
    },
    "tags": []
   },
   "source": [
    "## 🧮 Categorical Variables"
   ]
  },
  {
   "cell_type": "markdown",
   "id": "20623395",
   "metadata": {
    "papermill": {
     "duration": 0.156275,
     "end_time": "2023-01-31T14:12:59.902049",
     "exception": false,
     "start_time": "2023-01-31T14:12:59.745774",
     "status": "completed"
    },
    "tags": []
   },
   "source": [
    "### `term`"
   ]
  },
  {
   "cell_type": "markdown",
   "id": "de3a0265",
   "metadata": {
    "papermill": {
     "duration": 0.15528,
     "end_time": "2023-01-31T14:13:01.277139",
     "exception": false,
     "start_time": "2023-01-31T14:13:01.121859",
     "status": "completed"
    },
    "tags": []
   },
   "source": [
    "### `grade` & `sub_grade`\n",
    "\n",
    "We know that `grade` is just a sub feature of `sub_grade`, So we are goinig to drop it."
   ]
  },
  {
   "cell_type": "code",
   "execution_count": 21,
   "id": "ad383419",
   "metadata": {
    "papermill": {
     "duration": 0.225278,
     "end_time": "2023-01-31T14:13:01.659576",
     "exception": false,
     "start_time": "2023-01-31T14:13:01.434298",
     "status": "completed"
    },
    "tags": []
   },
   "outputs": [],
   "source": [
    "loans_df.drop('grade', axis=1, inplace=True)"
   ]
  },
  {
   "cell_type": "markdown",
   "id": "b78ba175",
   "metadata": {
    "papermill": {
     "duration": 0.162961,
     "end_time": "2023-01-31T14:13:02.654421",
     "exception": false,
     "start_time": "2023-01-31T14:13:02.491460",
     "status": "completed"
    },
    "tags": []
   },
   "source": [
    "### `address`\n",
    "We are going to feature engineer a zip code column from the address in the data set. Create a column called 'zip_code' that extracts the zip code from the address column."
   ]
  },
  {
   "cell_type": "code",
   "execution_count": 22,
   "id": "3cc3188b",
   "metadata": {
    "papermill": {
     "duration": 0.362285,
     "end_time": "2023-01-31T14:13:03.644153",
     "exception": false,
     "start_time": "2023-01-31T14:13:03.281868",
     "status": "completed"
    },
    "tags": []
   },
   "outputs": [],
   "source": [
    "loans_df['zip_code'] = loans_df.apply(lambda x: loans.zipcode(x['address'][-5:]), axis=1)"
   ]
  },
  {
   "cell_type": "code",
   "execution_count": 23,
   "id": "8a04d628",
   "metadata": {
    "papermill": {
     "duration": 0.238062,
     "end_time": "2023-01-31T14:13:04.105979",
     "exception": false,
     "start_time": "2023-01-31T14:13:03.867917",
     "status": "completed"
    },
    "tags": []
   },
   "outputs": [
    {
     "data": {
      "text/plain": [
       "zip_code\n",
       "0        91226\n",
       "70466    56985\n",
       "30723    56546\n",
       "22690    56527\n",
       "48052    55917\n",
       "29597    45471\n",
       "11650    11226\n",
       "93700    11151\n",
       "86630    10981\n",
       "Name: count, dtype: int64"
      ]
     },
     "execution_count": 23,
     "metadata": {},
     "output_type": "execute_result"
    }
   ],
   "source": [
    "loans_df.zip_code.value_counts()"
   ]
  },
  {
   "cell_type": "code",
   "execution_count": 24,
   "id": "dafe46bf",
   "metadata": {
    "papermill": {
     "duration": 0.226129,
     "end_time": "2023-01-31T14:13:04.989199",
     "exception": false,
     "start_time": "2023-01-31T14:13:04.763070",
     "status": "completed"
    },
    "tags": []
   },
   "outputs": [],
   "source": [
    "loans_df.drop('address', axis=1, inplace=True)"
   ]
  },
  {
   "cell_type": "markdown",
   "id": "3be6a8ab",
   "metadata": {
    "papermill": {
     "duration": 0.155658,
     "end_time": "2023-01-31T14:13:05.300426",
     "exception": false,
     "start_time": "2023-01-31T14:13:05.144768",
     "status": "completed"
    },
    "tags": []
   },
   "source": [
    "### `issue_d` \n",
    "\n",
    "This is the event_time for the loan being issued"
   ]
  },
  {
   "cell_type": "code",
   "execution_count": 25,
   "id": "d3c3bb7c",
   "metadata": {},
   "outputs": [
    {
     "name": "stdout",
     "output_type": "stream",
     "text": [
      "<class 'pandas.core.frame.DataFrame'>\n",
      "RangeIndex: 396030 entries, 0 to 396029\n",
      "Data columns (total 10 columns):\n",
      " #   Column       Non-Null Count   Dtype         \n",
      "---  ------       --------------   -----         \n",
      " 0   id           396030 non-null  int64         \n",
      " 1   loan_amnt    396030 non-null  float64       \n",
      " 2   term         396030 non-null  object        \n",
      " 3   int_rate     396030 non-null  float64       \n",
      " 4   installment  396030 non-null  float64       \n",
      " 5   sub_grade    396030 non-null  object        \n",
      " 6   issue_d      396030 non-null  datetime64[ns]\n",
      " 7   loan_status  396030 non-null  object        \n",
      " 8   purpose      396030 non-null  object        \n",
      " 9   zip_code     396030 non-null  object        \n",
      "dtypes: datetime64[ns](1), float64(3), int64(1), object(5)\n",
      "memory usage: 30.2+ MB\n"
     ]
    }
   ],
   "source": [
    "loans_df.info()"
   ]
  },
  {
   "cell_type": "markdown",
   "id": "3af9fbb5",
   "metadata": {
    "papermill": {
     "duration": 0.158483,
     "end_time": "2023-01-31T14:13:05.959651",
     "exception": false,
     "start_time": "2023-01-31T14:13:05.801168",
     "status": "completed"
    },
    "tags": []
   },
   "source": [
    "### `earliest_cr_line`\n",
    "This appears to be a historical time stamp feature. Extract the year from this feature using a `.apply()` function, then convert it to a numeric feature."
   ]
  },
  {
   "cell_type": "code",
   "execution_count": 26,
   "id": "9e8e8d21",
   "metadata": {
    "papermill": {
     "duration": 0.221956,
     "end_time": "2023-01-31T14:13:06.339961",
     "exception": false,
     "start_time": "2023-01-31T14:13:06.118005",
     "status": "completed"
    },
    "tags": []
   },
   "outputs": [],
   "source": [
    "# applicants_df['earliest_cr_line_year'] = applicants_df.apply(\n",
    "#     lambda x: applicants.earliest_cr_line(x['earliest_cr_line']), axis=1)"
   ]
  },
  {
   "cell_type": "code",
   "execution_count": 27,
   "id": "2b29436e",
   "metadata": {},
   "outputs": [
    {
     "data": {
      "text/plain": [
       "{\"meta\": {}, \"expectation_type\": \"expect_column_values_to_be_between\", \"kwargs\": {\"column\": \"int_rate\", \"min_value\": -2.0, \"max_value\": 2000.0}}"
      ]
     },
     "execution_count": 27,
     "metadata": {},
     "output_type": "execute_result"
    }
   ],
   "source": [
    "from great_expectations.core import ExpectationSuite, ExpectationConfiguration\n",
    "\n",
    "expectation_suite = ExpectationSuite(\n",
    "    expectation_suite_name=\"transaction_suite\")\n",
    "\n",
    "expectation_suite.add_expectation(\n",
    "    ExpectationConfiguration(\n",
    "        expectation_type=\"expect_column_values_to_be_between\",\n",
    "        kwargs={\n",
    "            \"column\":\"int_rate\", \n",
    "            \"min_value\":-2.0,\n",
    "            \"max_value\":2000.0,\n",
    "        }\n",
    "    )\n",
    ")\n",
    "\n",
    "# TODO: Add more expectations here to improve data validation checks"
   ]
  },
  {
   "cell_type": "markdown",
   "id": "5b9edb3f",
   "metadata": {},
   "source": [
    "## 🔖 Hopsworks Feature Store"
   ]
  },
  {
   "cell_type": "code",
   "execution_count": 28,
   "id": "c991c5e9",
   "metadata": {},
   "outputs": [
    {
     "name": "stdout",
     "output_type": "stream",
     "text": [
      "Connected. Call `.close()` to terminate connection gracefully.\n",
      "\n",
      "Logged in to project, explore it here https://snurran.hops.works:443/p/120\n",
      "Connected. Call `.close()` to terminate connection gracefully.\n"
     ]
    }
   ],
   "source": [
    "import hopsworks\n",
    "\n",
    "project = hopsworks.login()\n",
    "fs = project.get_feature_store()"
   ]
  },
  {
   "cell_type": "code",
   "execution_count": 29,
   "id": "119cc599-1ffb-4a5c-a175-552368167b04",
   "metadata": {},
   "outputs": [
    {
     "data": {
      "text/plain": [
       "'3.0.3'"
      ]
     },
     "execution_count": 29,
     "metadata": {},
     "output_type": "execute_result"
    }
   ],
   "source": [
    "import jinja2\n",
    "jinja2.__version__"
   ]
  },
  {
   "cell_type": "code",
   "execution_count": 30,
   "id": "4825d615-6e98-4498-9aa5-c9a68a0657a1",
   "metadata": {},
   "outputs": [],
   "source": [
    "# !pip show hopsworks"
   ]
  },
  {
   "cell_type": "code",
   "execution_count": 31,
   "id": "8b0001e4",
   "metadata": {},
   "outputs": [],
   "source": [
    "loans_fg = fs.get_or_create_feature_group(name=\"loans\",\n",
    "                                    version=1,\n",
    "                                    description=\"Lending Club Loans\",\n",
    "                                    online_enabled=True,\n",
    "                                    primary_key=['id'],\n",
    "                                    event_time='issue_d',\n",
    "                                    expectation_suite=expectation_suite\n",
    ")"
   ]
  },
  {
   "cell_type": "code",
   "execution_count": 32,
   "id": "360c1a96",
   "metadata": {},
   "outputs": [],
   "source": [
    "applicants_fg = fs.get_or_create_feature_group(name=\"applicants\",\n",
    "                                    version=1,\n",
    "                                    description=\"Lending Club Loan Applicants\",\n",
    "                                    online_enabled=True,\n",
    "                                    primary_key=['id'],\n",
    "#                                     partition_key=['earliest_cr_line_year'],\n",
    "                                    event_time='earliest_cr_line'\n",
    ")"
   ]
  },
  {
   "cell_type": "markdown",
   "id": "48103c37",
   "metadata": {},
   "source": [
    "### Configure upload batch size for performance (latency vs throughput)\n",
    "\n",
    "```\n",
    "loans_fg.insert(loans_df,\n",
    "    \"kafka_producer_config\": {\n",
    "        \"linger.ms\": 20,\n",
    "        \"batch.size\": 1000000,\n",
    "        \"acks\": 1,\n",
    "        \"max.in.flight.requests.per.connection\": 5,\n",
    "        \"message.max.bytes\": 2000000,\n",
    "        \"batch.num.messages\": 200000,\n",
    "        \"buffer.memory\": 335544320,\n",
    "        \"queue.buffering.max.messages\": 10000000,\n",
    "        \"debug\": \"broker,topic,msg,queue\"\n",
    "        } \n",
    "```"
   ]
  },
  {
   "cell_type": "code",
   "execution_count": 35,
   "id": "040bf356",
   "metadata": {},
   "outputs": [
    {
     "name": "stdout",
     "output_type": "stream",
     "text": [
      "2023-10-19 21:51:27,747 INFO: \t1 expectation(s) included in expectation_suite.\n",
      "Validation failed.\n",
      "Validation Report saved successfully, explore a summary at https://snurran.hops.works:443/p/120/fs/68/fg/13\n"
     ]
    },
    {
     "data": {
      "application/vnd.jupyter.widget-view+json": {
       "model_id": "66ea66d9ced747c38326460fb845a984",
       "version_major": 2,
       "version_minor": 0
      },
      "text/plain": [
       "Uploading Dataframe: 0.00% |          | Rows 0/396030 | Elapsed Time: 00:00 | Remaining Time: ?"
      ]
     },
     "metadata": {},
     "output_type": "display_data"
    },
    {
     "name": "stdout",
     "output_type": "stream",
     "text": [
      "Launching job: loans_1_offline_fg_materialization\n",
      "Job started successfully, you can follow the progress at \n",
      "https://snurran.hops.works/p/120/jobs/named/loans_1_offline_fg_materialization/executions\n",
      "Upload time 13.975686311721802 seconds ---\n"
     ]
    }
   ],
   "source": [
    "import time\n",
    "start_time = time.time()\n",
    "loans_fg.insert(loans_df)\n",
    "print(\"Upload time %s seconds ---\" % (time.time() - start_time))"
   ]
  },
  {
   "cell_type": "markdown",
   "id": "1fcec70d",
   "metadata": {},
   "source": [
    "\n"
   ]
  },
  {
   "cell_type": "code",
   "execution_count": 36,
   "id": "97c9f72f",
   "metadata": {},
   "outputs": [
    {
     "ename": "FeatureStoreException",
     "evalue": "Features are not compatible with Feature Group schema: \n - mort_acc (expected type: 'double', derived from input: 'bigint') has the wrong type.",
     "output_type": "error",
     "traceback": [
      "\u001b[0;31m---------------------------------------------------------------------------\u001b[0m",
      "\u001b[0;31mFeatureStoreException\u001b[0m                     Traceback (most recent call last)",
      "Cell \u001b[0;32mIn[36], line 1\u001b[0m\n\u001b[0;32m----> 1\u001b[0m \u001b[43mapplicants_fg\u001b[49m\u001b[38;5;241;43m.\u001b[39;49m\u001b[43minsert\u001b[49m\u001b[43m(\u001b[49m\u001b[43mapplicants_df\u001b[49m\u001b[43m)\u001b[49m\n",
      "File \u001b[0;32m~/anaconda3/envs/hopsworks/lib/python3.10/site-packages/hsfs/feature_group.py:1984\u001b[0m, in \u001b[0;36mFeatureGroup.insert\u001b[0;34m(self, features, overwrite, operation, storage, write_options, validation_options, save_code, wait)\u001b[0m\n\u001b[1;32m   1981\u001b[0m \u001b[38;5;28;01mif\u001b[39;00m \u001b[38;5;124m\"\u001b[39m\u001b[38;5;124mwait_for_job\u001b[39m\u001b[38;5;124m\"\u001b[39m \u001b[38;5;129;01mnot\u001b[39;00m \u001b[38;5;129;01min\u001b[39;00m write_options:\n\u001b[1;32m   1982\u001b[0m     write_options[\u001b[38;5;124m\"\u001b[39m\u001b[38;5;124mwait_for_job\u001b[39m\u001b[38;5;124m\"\u001b[39m] \u001b[38;5;241m=\u001b[39m wait\n\u001b[0;32m-> 1984\u001b[0m job, ge_report \u001b[38;5;241m=\u001b[39m \u001b[38;5;28;43mself\u001b[39;49m\u001b[38;5;241;43m.\u001b[39;49m\u001b[43m_feature_group_engine\u001b[49m\u001b[38;5;241;43m.\u001b[39;49m\u001b[43minsert\u001b[49m\u001b[43m(\u001b[49m\n\u001b[1;32m   1985\u001b[0m \u001b[43m    \u001b[49m\u001b[38;5;28;43mself\u001b[39;49m\u001b[43m,\u001b[49m\n\u001b[1;32m   1986\u001b[0m \u001b[43m    \u001b[49m\u001b[43mfeature_dataframe\u001b[49m\u001b[38;5;241;43m=\u001b[39;49m\u001b[43mfeature_dataframe\u001b[49m\u001b[43m,\u001b[49m\n\u001b[1;32m   1987\u001b[0m \u001b[43m    \u001b[49m\u001b[43moverwrite\u001b[49m\u001b[38;5;241;43m=\u001b[39;49m\u001b[43moverwrite\u001b[49m\u001b[43m,\u001b[49m\n\u001b[1;32m   1988\u001b[0m \u001b[43m    \u001b[49m\u001b[43moperation\u001b[49m\u001b[38;5;241;43m=\u001b[39;49m\u001b[43moperation\u001b[49m\u001b[43m,\u001b[49m\n\u001b[1;32m   1989\u001b[0m \u001b[43m    \u001b[49m\u001b[43mstorage\u001b[49m\u001b[38;5;241;43m=\u001b[39;49m\u001b[43mstorage\u001b[49m\u001b[38;5;241;43m.\u001b[39;49m\u001b[43mlower\u001b[49m\u001b[43m(\u001b[49m\u001b[43m)\u001b[49m\u001b[43m \u001b[49m\u001b[38;5;28;43;01mif\u001b[39;49;00m\u001b[43m \u001b[49m\u001b[43mstorage\u001b[49m\u001b[43m \u001b[49m\u001b[38;5;129;43;01mis\u001b[39;49;00m\u001b[43m \u001b[49m\u001b[38;5;129;43;01mnot\u001b[39;49;00m\u001b[43m \u001b[49m\u001b[38;5;28;43;01mNone\u001b[39;49;00m\u001b[43m \u001b[49m\u001b[38;5;28;43;01melse\u001b[39;49;00m\u001b[43m \u001b[49m\u001b[38;5;28;43;01mNone\u001b[39;49;00m\u001b[43m,\u001b[49m\n\u001b[1;32m   1990\u001b[0m \u001b[43m    \u001b[49m\u001b[43mwrite_options\u001b[49m\u001b[38;5;241;43m=\u001b[39;49m\u001b[43mwrite_options\u001b[49m\u001b[43m,\u001b[49m\n\u001b[1;32m   1991\u001b[0m \u001b[43m    \u001b[49m\u001b[43mvalidation_options\u001b[49m\u001b[38;5;241;43m=\u001b[39;49m\u001b[43m{\u001b[49m\u001b[38;5;124;43m\"\u001b[39;49m\u001b[38;5;124;43msave_report\u001b[39;49m\u001b[38;5;124;43m\"\u001b[39;49m\u001b[43m:\u001b[49m\u001b[43m \u001b[49m\u001b[38;5;28;43;01mTrue\u001b[39;49;00m\u001b[43m,\u001b[49m\u001b[43m \u001b[49m\u001b[38;5;241;43m*\u001b[39;49m\u001b[38;5;241;43m*\u001b[39;49m\u001b[43mvalidation_options\u001b[49m\u001b[43m}\u001b[49m\u001b[43m,\u001b[49m\n\u001b[1;32m   1992\u001b[0m \u001b[43m\u001b[49m\u001b[43m)\u001b[49m\n\u001b[1;32m   1993\u001b[0m \u001b[38;5;28;01mif\u001b[39;00m save_code \u001b[38;5;129;01mand\u001b[39;00m (\n\u001b[1;32m   1994\u001b[0m     ge_report \u001b[38;5;129;01mis\u001b[39;00m \u001b[38;5;28;01mNone\u001b[39;00m \u001b[38;5;129;01mor\u001b[39;00m ge_report\u001b[38;5;241m.\u001b[39mingestion_result \u001b[38;5;241m==\u001b[39m \u001b[38;5;124m\"\u001b[39m\u001b[38;5;124mINGESTED\u001b[39m\u001b[38;5;124m\"\u001b[39m\n\u001b[1;32m   1995\u001b[0m ):\n\u001b[1;32m   1996\u001b[0m     \u001b[38;5;28mself\u001b[39m\u001b[38;5;241m.\u001b[39m_code_engine\u001b[38;5;241m.\u001b[39msave_code(\u001b[38;5;28mself\u001b[39m)\n",
      "File \u001b[0;32m~/anaconda3/envs/hopsworks/lib/python3.10/site-packages/hsfs/core/feature_group_engine.py:96\u001b[0m, in \u001b[0;36mFeatureGroupEngine.insert\u001b[0;34m(self, feature_group, feature_dataframe, overwrite, operation, storage, write_options, validation_options)\u001b[0m\n\u001b[1;32m     91\u001b[0m     \u001b[38;5;28mself\u001b[39m\u001b[38;5;241m.\u001b[39msave_feature_group_metadata(\n\u001b[1;32m     92\u001b[0m         feature_group, dataframe_features, write_options\n\u001b[1;32m     93\u001b[0m     )\n\u001b[1;32m     94\u001b[0m \u001b[38;5;28;01melse\u001b[39;00m:\n\u001b[1;32m     95\u001b[0m     \u001b[38;5;66;03m# else, just verify that feature group schema matches user-provided dataframe\u001b[39;00m\n\u001b[0;32m---> 96\u001b[0m     \u001b[38;5;28;43mself\u001b[39;49m\u001b[38;5;241;43m.\u001b[39;49m\u001b[43m_verify_schema_compatibility\u001b[49m\u001b[43m(\u001b[49m\n\u001b[1;32m     97\u001b[0m \u001b[43m        \u001b[49m\u001b[43mfeature_group\u001b[49m\u001b[38;5;241;43m.\u001b[39;49m\u001b[43mfeatures\u001b[49m\u001b[43m,\u001b[49m\u001b[43m \u001b[49m\u001b[43mdataframe_features\u001b[49m\n\u001b[1;32m     98\u001b[0m \u001b[43m    \u001b[49m\u001b[43m)\u001b[49m\n\u001b[1;32m    100\u001b[0m \u001b[38;5;66;03m# ge validation on python and non stream feature groups on spark\u001b[39;00m\n\u001b[1;32m    101\u001b[0m ge_report \u001b[38;5;241m=\u001b[39m feature_group\u001b[38;5;241m.\u001b[39m_great_expectation_engine\u001b[38;5;241m.\u001b[39mvalidate(\n\u001b[1;32m    102\u001b[0m     feature_group\u001b[38;5;241m=\u001b[39mfeature_group,\n\u001b[1;32m    103\u001b[0m     dataframe\u001b[38;5;241m=\u001b[39mfeature_dataframe,\n\u001b[0;32m   (...)\u001b[0m\n\u001b[1;32m    106\u001b[0m     ge_type\u001b[38;5;241m=\u001b[39m\u001b[38;5;28;01mFalse\u001b[39;00m,\n\u001b[1;32m    107\u001b[0m )\n",
      "File \u001b[0;32m~/anaconda3/envs/hopsworks/lib/python3.10/site-packages/hsfs/core/feature_group_base_engine.py:149\u001b[0m, in \u001b[0;36mFeatureGroupBaseEngine._verify_schema_compatibility\u001b[0;34m(self, feature_group_features, dataframe_features)\u001b[0m\n\u001b[1;32m    147\u001b[0m \u001b[38;5;66;03m# raise exception if any errors were found.\u001b[39;00m\n\u001b[1;32m    148\u001b[0m \u001b[38;5;28;01mif\u001b[39;00m \u001b[38;5;28mlen\u001b[39m(err) \u001b[38;5;241m>\u001b[39m \u001b[38;5;241m0\u001b[39m:\n\u001b[0;32m--> 149\u001b[0m     \u001b[38;5;28;01mraise\u001b[39;00m FeatureStoreException(\n\u001b[1;32m    150\u001b[0m         \u001b[38;5;124m\"\u001b[39m\u001b[38;5;124mFeatures are not compatible with Feature Group schema: \u001b[39m\u001b[38;5;124m\"\u001b[39m\n\u001b[1;32m    151\u001b[0m         \u001b[38;5;241m+\u001b[39m \u001b[38;5;124m\"\u001b[39m\u001b[38;5;124m\"\u001b[39m\u001b[38;5;241m.\u001b[39mjoin([\u001b[38;5;124m\"\u001b[39m\u001b[38;5;130;01m\\n\u001b[39;00m\u001b[38;5;124m - \u001b[39m\u001b[38;5;124m\"\u001b[39m \u001b[38;5;241m+\u001b[39m e \u001b[38;5;28;01mfor\u001b[39;00m e \u001b[38;5;129;01min\u001b[39;00m err])\n\u001b[1;32m    152\u001b[0m     )\n",
      "\u001b[0;31mFeatureStoreException\u001b[0m: Features are not compatible with Feature Group schema: \n - mort_acc (expected type: 'double', derived from input: 'bigint') has the wrong type."
     ]
    }
   ],
   "source": [
    "applicants_fg.insert(applicants_df)"
   ]
  },
  {
   "cell_type": "code",
   "execution_count": null,
   "id": "b2a6e8ad",
   "metadata": {},
   "outputs": [],
   "source": [
    "metadata = pd.read_csv(\"https://repo.hops.works/dev/jdowling/LCDataDictionary.csv\")\n",
    "metadata"
   ]
  },
  {
   "cell_type": "markdown",
   "id": "c3f24d00",
   "metadata": {},
   "source": [
    "## Update the description of any features found in the data dictionary\n",
    "\n",
    "Loop through the datadict. For each entry, if there is a corresponding feature in the feature group, update its description"
   ]
  },
  {
   "cell_type": "code",
   "execution_count": null,
   "id": "93889452",
   "metadata": {},
   "outputs": [],
   "source": [
    "datadict=[]\n",
    "\n",
    "# For each (name, description) pair in LCDataDictionary.csv, we try and set the feature \n",
    "# description for loans_fg and applicants_fg. If the feature doesn't exist in the feature group\n",
    "# an exception is thrown, and we \"do nothing\"\n",
    "for entry in metadata.index: \n",
    "        name = metadata['LoanStatNew'][entry]\n",
    "        try:\n",
    "            f = loans_fg.get_feature(name)\n",
    "            loans_fg.update_feature_description(name, metadata['Description'][entry])\n",
    "            print(\"Updating description of feature: {}\".format(f.name))\n",
    "        except:\n",
    "            pass # do nothing\n",
    "\n",
    "        try:\n",
    "            f = applicants_fg.get_feature(name)\n",
    "            applicants_fg.update_feature_description(name, metadata['Description'][entry])\n",
    "            print(\"Updating description of feature: {}\".format(f.name))\n",
    "        except:\n",
    "            pass # do nothing"
   ]
  },
  {
   "cell_type": "markdown",
   "id": "4b3f7025",
   "metadata": {},
   "source": [
    "---"
   ]
  },
  {
   "cell_type": "code",
   "execution_count": null,
   "id": "272f996d-f473-42e8-b3a1-8369dd997478",
   "metadata": {},
   "outputs": [],
   "source": []
  }
 ],
 "metadata": {
  "kernelspec": {
   "display_name": "hopsworks",
   "language": "python",
   "name": "hopsworks"
  },
  "language_info": {
   "codemirror_mode": {
    "name": "ipython",
    "version": 3
   },
   "file_extension": ".py",
   "mimetype": "text/x-python",
   "name": "python",
   "nbconvert_exporter": "python",
   "pygments_lexer": "ipython3",
   "version": "3.10.0"
  },
  "papermill": {
   "default_parameters": {},
   "duration": 1434.559462,
   "end_time": "2023-01-31T14:35:09.548746",
   "environment_variables": {},
   "exception": null,
   "input_path": "__notebook__.ipynb",
   "output_path": "__notebook__.ipynb",
   "parameters": {},
   "start_time": "2023-01-31T14:11:14.989284",
   "version": "2.3.4"
  }
 },
 "nbformat": 4,
 "nbformat_minor": 5
}
