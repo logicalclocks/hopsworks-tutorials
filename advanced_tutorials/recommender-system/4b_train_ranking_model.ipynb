{
 "cells": [
  {
   "cell_type": "code",
   "execution_count": 1,
   "metadata": {},
   "outputs": [
    {
     "name": "stdout",
     "output_type": "stream",
     "text": [
      "Connected. Call `.close()` to terminate connection gracefully.\n",
      "\n",
      "Logged in to project, explore it here https://hopsworks0.logicalclocks.com/p/119\n"
     ]
    }
   ],
   "source": [
    "import hopsworks\n",
    "\n",
    "project = hopsworks.login()  # insert API Key from https://app.hopsworks.ai"
   ]
  },
  {
   "cell_type": "markdown",
   "metadata": {},
   "source": [
    "## Train Ranking Model\n",
    "\n",
    "In this notebook, we will train a ranking model using gradient boosted trees. \n",
    "\n",
    "Let's start by loading the datasets we created in the previous notebook."
   ]
  },
  {
   "cell_type": "code",
   "execution_count": 2,
   "metadata": {},
   "outputs": [
    {
     "data": {
      "application/vnd.jupyter.widget-view+json": {
       "model_id": "793df959edb44218a43d79c27c5103f2",
       "version_major": 2,
       "version_minor": 0
      },
      "text/plain": [
       "Downloading: 0.000%|          | 0/673391867 elapsed<00:00 remaining<?"
      ]
     },
     "metadata": {},
     "output_type": "display_data"
    },
    {
     "data": {
      "application/vnd.jupyter.widget-view+json": {
       "model_id": "3f9951eb710446f2b7965a8e5cd77c28",
       "version_major": 2,
       "version_minor": 0
      },
      "text/plain": [
       "Downloading: 0.000%|          | 0/84347649 elapsed<00:00 remaining<?"
      ]
     },
     "metadata": {},
     "output_type": "display_data"
    },
    {
     "data": {
      "text/plain": [
       "'/srv/hops/jupyter/Projects/rec/rec__meb10000/0609bf947e47d55d9b97af03ab8cc959ee09238750f25b1b1bdc7746e73fb889/ranking_validation.csv'"
      ]
     },
     "execution_count": 2,
     "metadata": {},
     "output_type": "execute_result"
    }
   ],
   "source": [
    "dataset_api = project.get_dataset_api()\n",
    "\n",
    "dataset_api.download(\"Resources/ranking_train.csv\", overwrite=True)\n",
    "dataset_api.download(\"Resources/ranking_validation.csv\", overwrite=True)"
   ]
  },
  {
   "cell_type": "code",
   "execution_count": 3,
   "metadata": {},
   "outputs": [
    {
     "data": {
      "text/html": [
       "<div>\n",
       "<style scoped>\n",
       "    .dataframe tbody tr th:only-of-type {\n",
       "        vertical-align: middle;\n",
       "    }\n",
       "\n",
       "    .dataframe tbody tr th {\n",
       "        vertical-align: top;\n",
       "    }\n",
       "\n",
       "    .dataframe thead th {\n",
       "        text-align: right;\n",
       "    }\n",
       "</style>\n",
       "<table border=\"1\" class=\"dataframe\">\n",
       "  <thead>\n",
       "    <tr style=\"text-align: right;\">\n",
       "      <th></th>\n",
       "      <th>age</th>\n",
       "      <th>month_sin</th>\n",
       "      <th>month_cos</th>\n",
       "      <th>product_type_name</th>\n",
       "      <th>product_group_name</th>\n",
       "      <th>graphical_appearance_name</th>\n",
       "      <th>colour_group_name</th>\n",
       "      <th>perceived_colour_value_name</th>\n",
       "      <th>perceived_colour_master_name</th>\n",
       "      <th>department_name</th>\n",
       "      <th>index_name</th>\n",
       "      <th>index_group_name</th>\n",
       "      <th>section_name</th>\n",
       "      <th>garment_group_name</th>\n",
       "    </tr>\n",
       "  </thead>\n",
       "  <tbody>\n",
       "    <tr>\n",
       "      <th>3774240</th>\n",
       "      <td>37.0</td>\n",
       "      <td>-5.000000e-01</td>\n",
       "      <td>8.660254e-01</td>\n",
       "      <td>Sneakers</td>\n",
       "      <td>Shoes</td>\n",
       "      <td>Solid</td>\n",
       "      <td>Black</td>\n",
       "      <td>Dark</td>\n",
       "      <td>Black</td>\n",
       "      <td>Sneakers</td>\n",
       "      <td>Ladies Accessories</td>\n",
       "      <td>Ladieswear</td>\n",
       "      <td>Womens Shoes</td>\n",
       "      <td>Shoes</td>\n",
       "    </tr>\n",
       "    <tr>\n",
       "      <th>5009</th>\n",
       "      <td>24.0</td>\n",
       "      <td>5.000000e-01</td>\n",
       "      <td>8.660254e-01</td>\n",
       "      <td>T-shirt</td>\n",
       "      <td>Garment Upper body</td>\n",
       "      <td>All over pattern</td>\n",
       "      <td>Beige</td>\n",
       "      <td>Medium Dusty</td>\n",
       "      <td>Beige</td>\n",
       "      <td>Jersey</td>\n",
       "      <td>Ladieswear</td>\n",
       "      <td>Ladieswear</td>\n",
       "      <td>H&amp;M+</td>\n",
       "      <td>Jersey Fancy</td>\n",
       "    </tr>\n",
       "    <tr>\n",
       "      <th>3067453</th>\n",
       "      <td>31.0</td>\n",
       "      <td>-8.660254e-01</td>\n",
       "      <td>5.000000e-01</td>\n",
       "      <td>Trousers</td>\n",
       "      <td>Garment Lower body</td>\n",
       "      <td>Solid</td>\n",
       "      <td>Black</td>\n",
       "      <td>Dark</td>\n",
       "      <td>Black</td>\n",
       "      <td>Denim Trousers</td>\n",
       "      <td>Divided</td>\n",
       "      <td>Divided</td>\n",
       "      <td>Ladies Denim</td>\n",
       "      <td>Trousers Denim</td>\n",
       "    </tr>\n",
       "    <tr>\n",
       "      <th>4482394</th>\n",
       "      <td>24.0</td>\n",
       "      <td>-1.000000e+00</td>\n",
       "      <td>-1.836970e-16</td>\n",
       "      <td>Shorts</td>\n",
       "      <td>Garment Lower body</td>\n",
       "      <td>Denim</td>\n",
       "      <td>Dark Blue</td>\n",
       "      <td>Medium Dusty</td>\n",
       "      <td>Blue</td>\n",
       "      <td>Denim Other Garments</td>\n",
       "      <td>Divided</td>\n",
       "      <td>Divided</td>\n",
       "      <td>Ladies Denim</td>\n",
       "      <td>Trousers Denim</td>\n",
       "    </tr>\n",
       "    <tr>\n",
       "      <th>3783567</th>\n",
       "      <td>45.0</td>\n",
       "      <td>1.224647e-16</td>\n",
       "      <td>-1.000000e+00</td>\n",
       "      <td>Blouse</td>\n",
       "      <td>Garment Upper body</td>\n",
       "      <td>Solid</td>\n",
       "      <td>Black</td>\n",
       "      <td>Dark</td>\n",
       "      <td>Black</td>\n",
       "      <td>Tops Woven</td>\n",
       "      <td>Divided</td>\n",
       "      <td>Divided</td>\n",
       "      <td>Divided Collection</td>\n",
       "      <td>Blouses</td>\n",
       "    </tr>\n",
       "  </tbody>\n",
       "</table>\n",
       "</div>"
      ],
      "text/plain": [
       "          age     month_sin     month_cos product_type_name  \\\n",
       "3774240  37.0 -5.000000e-01  8.660254e-01          Sneakers   \n",
       "5009     24.0  5.000000e-01  8.660254e-01           T-shirt   \n",
       "3067453  31.0 -8.660254e-01  5.000000e-01          Trousers   \n",
       "4482394  24.0 -1.000000e+00 -1.836970e-16            Shorts   \n",
       "3783567  45.0  1.224647e-16 -1.000000e+00            Blouse   \n",
       "\n",
       "         product_group_name graphical_appearance_name colour_group_name  \\\n",
       "3774240               Shoes                     Solid             Black   \n",
       "5009     Garment Upper body          All over pattern             Beige   \n",
       "3067453  Garment Lower body                     Solid             Black   \n",
       "4482394  Garment Lower body                     Denim         Dark Blue   \n",
       "3783567  Garment Upper body                     Solid             Black   \n",
       "\n",
       "        perceived_colour_value_name perceived_colour_master_name  \\\n",
       "3774240                        Dark                        Black   \n",
       "5009                   Medium Dusty                        Beige   \n",
       "3067453                        Dark                        Black   \n",
       "4482394                Medium Dusty                         Blue   \n",
       "3783567                        Dark                        Black   \n",
       "\n",
       "              department_name          index_name index_group_name  \\\n",
       "3774240              Sneakers  Ladies Accessories       Ladieswear   \n",
       "5009                   Jersey          Ladieswear       Ladieswear   \n",
       "3067453        Denim Trousers             Divided          Divided   \n",
       "4482394  Denim Other Garments             Divided          Divided   \n",
       "3783567            Tops Woven             Divided          Divided   \n",
       "\n",
       "               section_name garment_group_name  \n",
       "3774240        Womens Shoes              Shoes  \n",
       "5009                   H&M+       Jersey Fancy  \n",
       "3067453        Ladies Denim     Trousers Denim  \n",
       "4482394        Ladies Denim     Trousers Denim  \n",
       "3783567  Divided Collection            Blouses  "
      ]
     },
     "execution_count": 3,
     "metadata": {},
     "output_type": "execute_result"
    }
   ],
   "source": [
    "import pandas as pd\n",
    "\n",
    "X_train = pd.read_csv(\"ranking_train.csv\")\n",
    "X_val = pd.read_csv(\"ranking_validation.csv\")\n",
    "\n",
    "y_train = X_train.pop(\"label\")\n",
    "y_val = X_val.pop(\"label\")\n",
    "\n",
    "X_train.sample(5)"
   ]
  },
  {
   "cell_type": "markdown",
   "metadata": {},
   "source": [
    "Let's train a model."
   ]
  },
  {
   "cell_type": "code",
   "execution_count": 4,
   "metadata": {
    "tags": []
   },
   "outputs": [
    {
     "name": "stdout",
     "output_type": "stream",
     "text": [
      "0:\tlearn: 0.6931471\ttest: 0.6931472\tbest: 0.6931472 (0)\ttotal: 3.11s\tremaining: 5m 8s\n",
      "1:\tlearn: 0.6907613\ttest: 0.6907587\tbest: 0.6907587 (1)\ttotal: 8.15s\tremaining: 6m 39s\n",
      "2:\tlearn: 0.6843511\ttest: 0.6844698\tbest: 0.6844698 (2)\ttotal: 12.6s\tremaining: 6m 48s\n",
      "3:\tlearn: 0.6816790\ttest: 0.6818446\tbest: 0.6818446 (3)\ttotal: 17.6s\tremaining: 7m 1s\n",
      "4:\tlearn: 0.6790418\ttest: 0.6792755\tbest: 0.6792755 (4)\ttotal: 21.7s\tremaining: 6m 51s\n",
      "5:\tlearn: 0.6781290\ttest: 0.6783837\tbest: 0.6783837 (5)\ttotal: 26.2s\tremaining: 6m 50s\n",
      "6:\tlearn: 0.6781289\ttest: 0.6783837\tbest: 0.6783837 (6)\ttotal: 27.5s\tremaining: 6m 5s\n",
      "7:\tlearn: 0.6745419\ttest: 0.6748731\tbest: 0.6748731 (7)\ttotal: 31.5s\tremaining: 6m 2s\n",
      "8:\tlearn: 0.6724568\ttest: 0.6728372\tbest: 0.6728372 (8)\ttotal: 35.6s\tremaining: 5m 59s\n",
      "9:\tlearn: 0.6718549\ttest: 0.6722387\tbest: 0.6722387 (9)\ttotal: 39.9s\tremaining: 5m 59s\n",
      "10:\tlearn: 0.6701141\ttest: 0.6705919\tbest: 0.6705919 (10)\ttotal: 43.8s\tremaining: 5m 54s\n",
      "11:\tlearn: 0.6696620\ttest: 0.6701440\tbest: 0.6701440 (11)\ttotal: 48.1s\tremaining: 5m 52s\n",
      "12:\tlearn: 0.6696611\ttest: 0.6701441\tbest: 0.6701440 (11)\ttotal: 50.7s\tremaining: 5m 39s\n",
      "13:\tlearn: 0.6680547\ttest: 0.6686236\tbest: 0.6686236 (13)\ttotal: 54.9s\tremaining: 5m 37s\n",
      "14:\tlearn: 0.6680546\ttest: 0.6686236\tbest: 0.6686236 (13)\ttotal: 56.6s\tremaining: 5m 20s\n",
      "15:\tlearn: 0.6665334\ttest: 0.6671771\tbest: 0.6671771 (15)\ttotal: 1m\tremaining: 5m 18s\n",
      "16:\tlearn: 0.6665333\ttest: 0.6671771\tbest: 0.6671771 (15)\ttotal: 1m 1s\tremaining: 5m 2s\n",
      "17:\tlearn: 0.6655049\ttest: 0.6661918\tbest: 0.6661918 (17)\ttotal: 1m 6s\tremaining: 5m 1s\n",
      "18:\tlearn: 0.6648803\ttest: 0.6656264\tbest: 0.6656264 (18)\ttotal: 1m 10s\tremaining: 5m 2s\n",
      "19:\tlearn: 0.6637636\ttest: 0.6645877\tbest: 0.6645877 (19)\ttotal: 1m 14s\tremaining: 4m 59s\n",
      "20:\tlearn: 0.6637636\ttest: 0.6645877\tbest: 0.6645877 (19)\ttotal: 1m 16s\tremaining: 4m 48s\n",
      "21:\tlearn: 0.6631447\ttest: 0.6639928\tbest: 0.6639928 (21)\ttotal: 1m 20s\tremaining: 4m 46s\n",
      "22:\tlearn: 0.6624097\ttest: 0.6632112\tbest: 0.6632112 (22)\ttotal: 1m 24s\tremaining: 4m 43s\n",
      "23:\tlearn: 0.6617305\ttest: 0.6625971\tbest: 0.6625971 (23)\ttotal: 1m 28s\tremaining: 4m 41s\n",
      "24:\tlearn: 0.6610829\ttest: 0.6619817\tbest: 0.6619817 (24)\ttotal: 1m 32s\tremaining: 4m 38s\n",
      "25:\tlearn: 0.6609857\ttest: 0.6618954\tbest: 0.6618954 (25)\ttotal: 1m 37s\tremaining: 4m 36s\n",
      "26:\tlearn: 0.6605449\ttest: 0.6614854\tbest: 0.6614854 (26)\ttotal: 1m 41s\tremaining: 4m 33s\n",
      "27:\tlearn: 0.6602168\ttest: 0.6611326\tbest: 0.6611326 (27)\ttotal: 1m 45s\tremaining: 4m 31s\n",
      "28:\tlearn: 0.6595633\ttest: 0.6605782\tbest: 0.6605782 (28)\ttotal: 1m 49s\tremaining: 4m 28s\n",
      "29:\tlearn: 0.6592271\ttest: 0.6602559\tbest: 0.6602559 (29)\ttotal: 1m 53s\tremaining: 4m 24s\n",
      "30:\tlearn: 0.6584064\ttest: 0.6594986\tbest: 0.6594986 (30)\ttotal: 1m 57s\tremaining: 4m 21s\n",
      "31:\tlearn: 0.6579780\ttest: 0.6591192\tbest: 0.6591192 (31)\ttotal: 2m 1s\tremaining: 4m 17s\n",
      "32:\tlearn: 0.6575761\ttest: 0.6587493\tbest: 0.6587493 (32)\ttotal: 2m 5s\tremaining: 4m 15s\n",
      "33:\tlearn: 0.6575480\ttest: 0.6587251\tbest: 0.6587251 (33)\ttotal: 2m 10s\tremaining: 4m 13s\n",
      "34:\tlearn: 0.6570817\ttest: 0.6583265\tbest: 0.6583265 (34)\ttotal: 2m 14s\tremaining: 4m 10s\n",
      "35:\tlearn: 0.6570815\ttest: 0.6583265\tbest: 0.6583265 (34)\ttotal: 2m 16s\tremaining: 4m 3s\n",
      "36:\tlearn: 0.6570814\ttest: 0.6583265\tbest: 0.6583265 (34)\ttotal: 2m 18s\tremaining: 3m 55s\n",
      "37:\tlearn: 0.6566678\ttest: 0.6579809\tbest: 0.6579809 (37)\ttotal: 2m 22s\tremaining: 3m 52s\n",
      "38:\tlearn: 0.6566678\ttest: 0.6579809\tbest: 0.6579809 (37)\ttotal: 2m 23s\tremaining: 3m 44s\n",
      "39:\tlearn: 0.6564353\ttest: 0.6577691\tbest: 0.6577691 (39)\ttotal: 2m 27s\tremaining: 3m 41s\n",
      "40:\tlearn: 0.6562747\ttest: 0.6575939\tbest: 0.6575939 (40)\ttotal: 2m 31s\tremaining: 3m 38s\n",
      "41:\tlearn: 0.6560325\ttest: 0.6573692\tbest: 0.6573692 (41)\ttotal: 2m 35s\tremaining: 3m 34s\n",
      "42:\tlearn: 0.6557697\ttest: 0.6571307\tbest: 0.6571307 (42)\ttotal: 2m 39s\tremaining: 3m 31s\n",
      "43:\tlearn: 0.6553286\ttest: 0.6567596\tbest: 0.6567596 (43)\ttotal: 2m 43s\tremaining: 3m 27s\n",
      "44:\tlearn: 0.6550917\ttest: 0.6565685\tbest: 0.6565685 (44)\ttotal: 2m 47s\tremaining: 3m 24s\n",
      "45:\tlearn: 0.6547458\ttest: 0.6562418\tbest: 0.6562418 (45)\ttotal: 2m 51s\tremaining: 3m 21s\n",
      "46:\tlearn: 0.6544471\ttest: 0.6559785\tbest: 0.6559785 (46)\ttotal: 2m 55s\tremaining: 3m 17s\n",
      "47:\tlearn: 0.6541711\ttest: 0.6557322\tbest: 0.6557322 (47)\ttotal: 2m 59s\tremaining: 3m 14s\n",
      "48:\tlearn: 0.6537161\ttest: 0.6552740\tbest: 0.6552740 (48)\ttotal: 3m 3s\tremaining: 3m 10s\n",
      "49:\tlearn: 0.6536228\ttest: 0.6552001\tbest: 0.6552001 (49)\ttotal: 3m 7s\tremaining: 3m 7s\n",
      "50:\tlearn: 0.6536226\ttest: 0.6552002\tbest: 0.6552001 (49)\ttotal: 3m 10s\tremaining: 3m 3s\n",
      "51:\tlearn: 0.6532061\ttest: 0.6548348\tbest: 0.6548348 (51)\ttotal: 3m 14s\tremaining: 2m 59s\n",
      "52:\tlearn: 0.6532042\ttest: 0.6548348\tbest: 0.6548348 (51)\ttotal: 3m 19s\tremaining: 2m 56s\n",
      "53:\tlearn: 0.6531995\ttest: 0.6548348\tbest: 0.6548348 (51)\ttotal: 3m 23s\tremaining: 2m 53s\n",
      "54:\tlearn: 0.6530890\ttest: 0.6547521\tbest: 0.6547521 (54)\ttotal: 3m 28s\tremaining: 2m 50s\n",
      "55:\tlearn: 0.6529097\ttest: 0.6545864\tbest: 0.6545864 (55)\ttotal: 3m 32s\tremaining: 2m 47s\n",
      "56:\tlearn: 0.6528525\ttest: 0.6545315\tbest: 0.6545315 (56)\ttotal: 3m 37s\tremaining: 2m 44s\n",
      "57:\tlearn: 0.6526404\ttest: 0.6543695\tbest: 0.6543695 (57)\ttotal: 3m 42s\tremaining: 2m 40s\n",
      "58:\tlearn: 0.6525764\ttest: 0.6543101\tbest: 0.6543101 (58)\ttotal: 3m 46s\tremaining: 2m 37s\n",
      "59:\tlearn: 0.6523613\ttest: 0.6541530\tbest: 0.6541530 (59)\ttotal: 3m 50s\tremaining: 2m 33s\n",
      "60:\tlearn: 0.6520489\ttest: 0.6538654\tbest: 0.6538654 (60)\ttotal: 3m 54s\tremaining: 2m 29s\n",
      "61:\tlearn: 0.6518451\ttest: 0.6536411\tbest: 0.6536411 (61)\ttotal: 3m 58s\tremaining: 2m 26s\n",
      "62:\tlearn: 0.6517754\ttest: 0.6535720\tbest: 0.6535720 (62)\ttotal: 4m 3s\tremaining: 2m 23s\n",
      "63:\tlearn: 0.6516763\ttest: 0.6534881\tbest: 0.6534881 (63)\ttotal: 4m 8s\tremaining: 2m 19s\n",
      "64:\tlearn: 0.6515068\ttest: 0.6533437\tbest: 0.6533437 (64)\ttotal: 4m 13s\tremaining: 2m 16s\n",
      "65:\tlearn: 0.6515063\ttest: 0.6533432\tbest: 0.6533432 (65)\ttotal: 4m 14s\tremaining: 2m 11s\n",
      "66:\tlearn: 0.6515063\ttest: 0.6533433\tbest: 0.6533432 (65)\ttotal: 4m 16s\tremaining: 2m 6s\n",
      "67:\tlearn: 0.6515063\ttest: 0.6533433\tbest: 0.6533432 (65)\ttotal: 4m 17s\tremaining: 2m\n",
      "68:\tlearn: 0.6511957\ttest: 0.6530914\tbest: 0.6530914 (68)\ttotal: 4m 20s\tremaining: 1m 57s\n",
      "69:\tlearn: 0.6511079\ttest: 0.6530300\tbest: 0.6530300 (69)\ttotal: 4m 25s\tremaining: 1m 53s\n",
      "70:\tlearn: 0.6511079\ttest: 0.6530300\tbest: 0.6530300 (69)\ttotal: 4m 26s\tremaining: 1m 48s\n",
      "71:\tlearn: 0.6509678\ttest: 0.6528974\tbest: 0.6528974 (71)\ttotal: 4m 30s\tremaining: 1m 45s\n",
      "72:\tlearn: 0.6508405\ttest: 0.6528158\tbest: 0.6528158 (72)\ttotal: 4m 34s\tremaining: 1m 41s\n",
      "73:\tlearn: 0.6506933\ttest: 0.6526990\tbest: 0.6526990 (73)\ttotal: 4m 38s\tremaining: 1m 37s\n",
      "74:\tlearn: 0.6506691\ttest: 0.6526852\tbest: 0.6526852 (74)\ttotal: 4m 42s\tremaining: 1m 34s\n",
      "75:\tlearn: 0.6506691\ttest: 0.6526852\tbest: 0.6526852 (74)\ttotal: 4m 44s\tremaining: 1m 29s\n",
      "76:\tlearn: 0.6506363\ttest: 0.6526533\tbest: 0.6526533 (76)\ttotal: 4m 49s\tremaining: 1m 26s\n",
      "77:\tlearn: 0.6506008\ttest: 0.6526164\tbest: 0.6526164 (77)\ttotal: 4m 53s\tremaining: 1m 22s\n",
      "78:\tlearn: 0.6506007\ttest: 0.6526164\tbest: 0.6526164 (77)\ttotal: 4m 54s\tremaining: 1m 18s\n",
      "79:\tlearn: 0.6503261\ttest: 0.6523466\tbest: 0.6523466 (79)\ttotal: 4m 58s\tremaining: 1m 14s\n",
      "80:\tlearn: 0.6502035\ttest: 0.6522477\tbest: 0.6522477 (80)\ttotal: 5m 2s\tremaining: 1m 11s\n",
      "81:\tlearn: 0.6499963\ttest: 0.6521021\tbest: 0.6521021 (81)\ttotal: 5m 7s\tremaining: 1m 7s\n",
      "82:\tlearn: 0.6498723\ttest: 0.6520158\tbest: 0.6520158 (82)\ttotal: 5m 12s\tremaining: 1m 3s\n",
      "83:\tlearn: 0.6497585\ttest: 0.6519085\tbest: 0.6519085 (83)\ttotal: 5m 16s\tremaining: 1m\n",
      "84:\tlearn: 0.6496231\ttest: 0.6517906\tbest: 0.6517906 (84)\ttotal: 5m 21s\tremaining: 56.7s\n",
      "85:\tlearn: 0.6494326\ttest: 0.6516599\tbest: 0.6516599 (85)\ttotal: 5m 25s\tremaining: 53s\n",
      "86:\tlearn: 0.6492926\ttest: 0.6515443\tbest: 0.6515443 (86)\ttotal: 5m 29s\tremaining: 49.3s\n",
      "87:\tlearn: 0.6491328\ttest: 0.6513887\tbest: 0.6513887 (87)\ttotal: 5m 34s\tremaining: 45.6s\n",
      "88:\tlearn: 0.6489282\ttest: 0.6512172\tbest: 0.6512172 (88)\ttotal: 5m 38s\tremaining: 41.9s\n",
      "89:\tlearn: 0.6488982\ttest: 0.6511971\tbest: 0.6511971 (89)\ttotal: 5m 43s\tremaining: 38.1s\n",
      "90:\tlearn: 0.6487854\ttest: 0.6511298\tbest: 0.6511298 (90)\ttotal: 5m 47s\tremaining: 34.4s\n",
      "91:\tlearn: 0.6485560\ttest: 0.6509692\tbest: 0.6509692 (91)\ttotal: 5m 51s\tremaining: 30.6s\n",
      "92:\tlearn: 0.6484262\ttest: 0.6508678\tbest: 0.6508678 (92)\ttotal: 5m 55s\tremaining: 26.7s\n",
      "93:\tlearn: 0.6483772\ttest: 0.6508152\tbest: 0.6508152 (93)\ttotal: 5m 59s\tremaining: 23s\n",
      "94:\tlearn: 0.6481975\ttest: 0.6506607\tbest: 0.6506607 (94)\ttotal: 6m 3s\tremaining: 19.1s\n",
      "95:\tlearn: 0.6480946\ttest: 0.6505827\tbest: 0.6505827 (95)\ttotal: 6m 8s\tremaining: 15.4s\n",
      "96:\tlearn: 0.6479115\ttest: 0.6504290\tbest: 0.6504290 (96)\ttotal: 6m 12s\tremaining: 11.5s\n",
      "97:\tlearn: 0.6478224\ttest: 0.6503821\tbest: 0.6503821 (97)\ttotal: 6m 17s\tremaining: 7.71s\n",
      "98:\tlearn: 0.6476879\ttest: 0.6502836\tbest: 0.6502836 (98)\ttotal: 6m 21s\tremaining: 3.85s\n",
      "99:\tlearn: 0.6475882\ttest: 0.6502046\tbest: 0.6502046 (99)\ttotal: 6m 25s\tremaining: 0us\n",
      "\n",
      "bestTest = 0.6502046438\n",
      "bestIteration = 99\n",
      "\n"
     ]
    },
    {
     "data": {
      "text/plain": [
       "<catboost.core.CatBoostClassifier at 0x7eff01db6fb0>"
      ]
     },
     "execution_count": 4,
     "metadata": {},
     "output_type": "execute_result"
    }
   ],
   "source": [
    "from catboost import CatBoostClassifier, Pool\n",
    "\n",
    "cat_features = list(\n",
    "    X_train.select_dtypes(include=['string', 'object']).columns\n",
    ")\n",
    "\n",
    "pool_train = Pool(X_train, y_train, cat_features=cat_features)\n",
    "pool_val = Pool(X_val, y_val, cat_features=cat_features)\n",
    "\n",
    "model = CatBoostClassifier(\n",
    "    learning_rate=0.2,\n",
    "    iterations=100,\n",
    "    depth=10,\n",
    "    scale_pos_weight=10,\n",
    "    early_stopping_rounds=5,\n",
    "    use_best_model=True\n",
    ")\n",
    "\n",
    "model.fit(pool_train, eval_set=pool_val)"
   ]
  },
  {
   "cell_type": "markdown",
   "metadata": {},
   "source": [
    "Next, we'll evaluate how well the model performs on the validation data."
   ]
  },
  {
   "cell_type": "code",
   "execution_count": 5,
   "metadata": {},
   "outputs": [
    {
     "name": "stdout",
     "output_type": "stream",
     "text": [
      "              precision    recall  f1-score   support\n",
      "\n",
      "           0       0.94      0.57      0.71    527930\n",
      "           1       0.13      0.65      0.22     52793\n",
      "\n",
      "    accuracy                           0.58    580723\n",
      "   macro avg       0.54      0.61      0.47    580723\n",
      "weighted avg       0.87      0.58      0.67    580723\n",
      "\n"
     ]
    }
   ],
   "source": [
    "from sklearn.metrics import classification_report, precision_recall_fscore_support\n",
    "\n",
    "preds = model.predict(pool_val)\n",
    "\n",
    "precision, recall, fscore, _ = precision_recall_fscore_support(y_val, preds, average=\"binary\")\n",
    "\n",
    "metrics = {\n",
    "    \"precision\" : precision,\n",
    "    \"recall\" : recall,\n",
    "    \"fscore\" : fscore\n",
    "}\n",
    "\n",
    "print(classification_report(y_val, preds))"
   ]
  },
  {
   "cell_type": "markdown",
   "metadata": {},
   "source": [
    "It can be seen that the model has a low F1-score on the positive class (higher is better). The performance could potentially be improved by adding more features to the dataset, e.g. image embeddings.\n",
    "\n",
    "Let's see which features our model considers important."
   ]
  },
  {
   "cell_type": "code",
   "execution_count": 6,
   "metadata": {},
   "outputs": [
    {
     "data": {
      "text/plain": [
       "{'product_type_name': 15.87629939347693,\n",
       " 'month_sin': 15.79725897870585,\n",
       " 'month_cos': 12.214018360626726,\n",
       " 'product_group_name': 9.691322782725956,\n",
       " 'age': 7.50713547362113,\n",
       " 'department_name': 7.478385013417299,\n",
       " 'index_name': 6.381776981099198,\n",
       " 'garment_group_name': 5.514835119565458,\n",
       " 'perceived_colour_value_name': 5.251788315022826,\n",
       " 'section_name': 3.847254588462731,\n",
       " 'graphical_appearance_name': 3.525305037012214,\n",
       " 'perceived_colour_master_name': 2.7111396725528145,\n",
       " 'colour_group_name': 2.2097454439160678,\n",
       " 'index_group_name': 1.993734839794825}"
      ]
     },
     "execution_count": 6,
     "metadata": {},
     "output_type": "execute_result"
    }
   ],
   "source": [
    "feat_to_score = {feature: score for feature, score in zip(\n",
    "    X_train.columns, model.feature_importances_)}\n",
    "\n",
    "feat_to_score = dict(\n",
    "    sorted(\n",
    "        feat_to_score.items(),\n",
    "        key=lambda item: item[1],\n",
    "        reverse=True\n",
    "    )\n",
    ")\n",
    "\n",
    "feat_to_score"
   ]
  },
  {
   "cell_type": "markdown",
   "metadata": {},
   "source": [
    "It can be seen that the model places high importance on user and item embedding features. Consequently, better trained embeddings could yield a better ranking model.\n",
    "\n",
    "Finally, we'll save our model."
   ]
  },
  {
   "cell_type": "code",
   "execution_count": 7,
   "metadata": {},
   "outputs": [
    {
     "data": {
      "text/plain": [
       "['ranking_model.pkl']"
      ]
     },
     "execution_count": 7,
     "metadata": {},
     "output_type": "execute_result"
    }
   ],
   "source": [
    "import joblib\n",
    "\n",
    "joblib.dump(model, 'ranking_model.pkl')"
   ]
  },
  {
   "cell_type": "markdown",
   "metadata": {},
   "source": [
    "### Upload Model to Model Registry\n",
    "\n",
    "We'll upload the model to the Hopsworks Model Registry."
   ]
  },
  {
   "cell_type": "code",
   "execution_count": 8,
   "metadata": {},
   "outputs": [
    {
     "name": "stdout",
     "output_type": "stream",
     "text": [
      "Connected. Call `.close()` to terminate connection gracefully.\n"
     ]
    }
   ],
   "source": [
    "# connect to Hopsworks Model Registry\n",
    "mr = project.get_model_registry()"
   ]
  },
  {
   "cell_type": "code",
   "execution_count": 9,
   "metadata": {},
   "outputs": [
    {
     "data": {
      "application/vnd.jupyter.widget-view+json": {
       "model_id": "032f04c3413d4371824b8b5ea3b28993",
       "version_major": 2,
       "version_minor": 0
      },
      "text/plain": [
       "  0%|          | 0/6 [00:00<?, ?it/s]"
      ]
     },
     "metadata": {},
     "output_type": "display_data"
    },
    {
     "name": "stdout",
     "output_type": "stream",
     "text": [
      "Model created, explore it at https://hopsworks0.logicalclocks.com/p/119/models/ranking_model/1\n"
     ]
    },
    {
     "data": {
      "text/plain": [
       "Model(name: 'ranking_model', version: 1)"
      ]
     },
     "execution_count": 9,
     "metadata": {},
     "output_type": "execute_result"
    }
   ],
   "source": [
    "from hsml.schema import Schema\n",
    "from hsml.model_schema import ModelSchema\n",
    "\n",
    "input_example = X_train.sample().to_dict(\"records\")\n",
    "input_schema = Schema(X_train)\n",
    "output_schema = Schema(y_train)\n",
    "model_schema = ModelSchema(input_schema, output_schema)\n",
    "\n",
    "ranking_model = mr.python.create_model(\n",
    "    name=\"ranking_model\", metrics=metrics,\n",
    "    model_schema=model_schema,\n",
    "    input_example=input_example,\n",
    "    description=\"Ranking model that scores item candidates\")\n",
    "\n",
    "ranking_model.save(\"ranking_model.pkl\")"
   ]
  },
  {
   "cell_type": "markdown",
   "metadata": {},
   "source": [
    "### Next Steps\n",
    "\n",
    "Now we have trained both a retrieval and a ranking model, which will allow us to generate recommendations for users. In the next notebook, we'll take a look at how we can deploy these models with the `HSML` library."
   ]
  }
 ],
 "metadata": {
  "interpreter": {
   "hash": "31f2aee4e71d21fbe5cf8b01ff0e069b9275f58929596ceb00d14d90e3e16cd6"
  },
  "kernelspec": {
   "display_name": "Python",
   "language": "python",
   "name": "python3"
  },
  "language_info": {
   "codemirror_mode": {
    "name": "ipython",
    "version": 3
   },
   "file_extension": ".py",
   "mimetype": "text/x-python",
   "name": "python",
   "nbconvert_exporter": "python",
   "pygments_lexer": "ipython3",
   "version": "3.10.11"
  }
 },
 "nbformat": 4,
 "nbformat_minor": 4
}