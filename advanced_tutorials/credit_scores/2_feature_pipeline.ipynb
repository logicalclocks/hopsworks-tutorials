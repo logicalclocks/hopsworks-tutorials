{
 "cells": [
  {
   "cell_type": "markdown",
   "id": "0c1bef5a",
   "metadata": {},
   "source": [
    "# <span style=\"font-width:bold; font-size: 3rem; color:#1EB182;\"><img src=\"../../images/icon102.png\" width=\"38px\"></img> **Hopsworks Feature Store** </span><span style=\"font-width:bold; font-size: 3rem; color:#333;\">- Part 02: Feature Pipeline</span>\n",
    "\n",
    "[![Open In Colab](https://colab.research.google.com/assets/colab-badge.svg)](https://colab.research.google.com/github/logicalclocks/hopsworks-tutorials/blob/master/advanced_tutorials/credit_scores/2_feature_pipeline.ipynb)\n",
    "\n",
    "## 🗒️ This notebook is divided into the following sections:\n",
    "1. Data Generation\n",
    "2. Feature Group insertion"
   ]
  },
  {
   "cell_type": "markdown",
   "id": "7df0124e",
   "metadata": {},
   "source": [
    "## <span style=\"color:#ff5f27;\"> 🔮 Connecting to Hopsworks Feature Store </span>"
   ]
  },
  {
   "cell_type": "code",
   "execution_count": 1,
   "id": "48491116",
   "metadata": {},
   "outputs": [
    {
     "name": "stdout",
     "output_type": "stream",
     "text": [
      "Connected. Call `.close()` to terminate connection gracefully.\n",
      "\n",
      "Logged in to project, explore it here https://c.app.hopsworks.ai:443/p/398\n",
      "Connected. Call `.close()` to terminate connection gracefully.\n"
     ]
    }
   ],
   "source": [
    "import hopsworks\n",
    "\n",
    "project = hopsworks.login()\n",
    "\n",
    "fs = project.get_feature_store() "
   ]
  },
  {
   "cell_type": "markdown",
   "id": "57eca6c3",
   "metadata": {},
   "source": [
    "## <span style=\"color:#ff5f27;\">🪄 Retrieving Feature Groups</span>"
   ]
  },
  {
   "cell_type": "markdown",
   "id": "1245fe97",
   "metadata": {},
   "source": [
    "#### <span style=\"color:#ff5f27;\">⛳️ Application Train Feature Group</span>"
   ]
  },
  {
   "cell_type": "code",
   "execution_count": 2,
   "id": "9dac811a",
   "metadata": {},
   "outputs": [
    {
     "name": "stdout",
     "output_type": "stream",
     "text": [
      "2023-03-02 13:57:54,807 INFO: USE `dowlingj_featurestore`\n",
      "2023-03-02 13:57:55,670 INFO: SELECT `fg0`.`sk_id_curr` `sk_id_curr`, `fg0`.`target` `target`, `fg0`.`name_contract_type` `name_contract_type`, `fg0`.`code_gender` `code_gender`, `fg0`.`flag_own_car` `flag_own_car`, `fg0`.`flag_own_realty` `flag_own_realty`, `fg0`.`cnt_children` `cnt_children`, `fg0`.`amt_income_total` `amt_income_total`, `fg0`.`amt_credit` `amt_credit`, `fg0`.`amt_annuity` `amt_annuity`, `fg0`.`amt_goods_price` `amt_goods_price`, `fg0`.`name_type_suite` `name_type_suite`, `fg0`.`name_income_type` `name_income_type`, `fg0`.`name_education_type` `name_education_type`, `fg0`.`name_family_status` `name_family_status`, `fg0`.`name_housing_type` `name_housing_type`, `fg0`.`region_population_relative` `region_population_relative`, `fg0`.`days_birth` `days_birth`, `fg0`.`days_employed` `days_employed`, `fg0`.`days_registration` `days_registration`, `fg0`.`days_id_publish` `days_id_publish`, `fg0`.`flag_mobil` `flag_mobil`, `fg0`.`flag_emp_phone` `flag_emp_phone`, `fg0`.`flag_work_phone` `flag_work_phone`, `fg0`.`flag_cont_mobile` `flag_cont_mobile`, `fg0`.`flag_phone` `flag_phone`, `fg0`.`flag_email` `flag_email`, `fg0`.`cnt_fam_members` `cnt_fam_members`, `fg0`.`region_rating_client` `region_rating_client`, `fg0`.`region_rating_client_w_city` `region_rating_client_w_city`, `fg0`.`weekday_appr_process_start` `weekday_appr_process_start`, `fg0`.`hour_appr_process_start` `hour_appr_process_start`, `fg0`.`reg_region_not_live_region` `reg_region_not_live_region`, `fg0`.`reg_region_not_work_region` `reg_region_not_work_region`, `fg0`.`live_region_not_work_region` `live_region_not_work_region`, `fg0`.`reg_city_not_live_city` `reg_city_not_live_city`, `fg0`.`reg_city_not_work_city` `reg_city_not_work_city`, `fg0`.`live_city_not_work_city` `live_city_not_work_city`, `fg0`.`organization_type` `organization_type`, `fg0`.`ext_source_2` `ext_source_2`, `fg0`.`ext_source_3` `ext_source_3`, `fg0`.`obs_30_cnt_social_circle` `obs_30_cnt_social_circle`, `fg0`.`def_30_cnt_social_circle` `def_30_cnt_social_circle`, `fg0`.`obs_60_cnt_social_circle` `obs_60_cnt_social_circle`, `fg0`.`def_60_cnt_social_circle` `def_60_cnt_social_circle`, `fg0`.`days_last_phone_change` `days_last_phone_change`, `fg0`.`flag_document_2` `flag_document_2`, `fg0`.`flag_document_3` `flag_document_3`, `fg0`.`flag_document_4` `flag_document_4`, `fg0`.`flag_document_5` `flag_document_5`, `fg0`.`flag_document_6` `flag_document_6`, `fg0`.`flag_document_7` `flag_document_7`, `fg0`.`flag_document_8` `flag_document_8`, `fg0`.`flag_document_9` `flag_document_9`, `fg0`.`flag_document_10` `flag_document_10`, `fg0`.`flag_document_11` `flag_document_11`, `fg0`.`flag_document_12` `flag_document_12`, `fg0`.`flag_document_13` `flag_document_13`, `fg0`.`flag_document_14` `flag_document_14`, `fg0`.`flag_document_15` `flag_document_15`, `fg0`.`flag_document_16` `flag_document_16`, `fg0`.`flag_document_17` `flag_document_17`, `fg0`.`flag_document_18` `flag_document_18`, `fg0`.`flag_document_19` `flag_document_19`, `fg0`.`flag_document_20` `flag_document_20`, `fg0`.`flag_document_21` `flag_document_21`, `fg0`.`amt_req_credit_bureau_hour` `amt_req_credit_bureau_hour`, `fg0`.`amt_req_credit_bureau_day` `amt_req_credit_bureau_day`, `fg0`.`amt_req_credit_bureau_week` `amt_req_credit_bureau_week`, `fg0`.`amt_req_credit_bureau_mon` `amt_req_credit_bureau_mon`, `fg0`.`amt_req_credit_bureau_qrt` `amt_req_credit_bureau_qrt`, `fg0`.`amt_req_credit_bureau_year` `amt_req_credit_bureau_year`\n",
      "FROM `dowlingj_featurestore`.`application_1` `fg0`\n"
     ]
    },
    {
     "name": "stderr",
     "output_type": "stream",
     "text": [
      "UserWarning: pandas only support SQLAlchemy connectable(engine/connection) ordatabase string URI or sqlite3 DBAPI2 connectionother DBAPI2 objects are not tested, please consider using SQLAlchemy\n"
     ]
    }
   ],
   "source": [
    "application_fg = fs.get_or_create_feature_group(\n",
    "    name = 'application',\n",
    "    version = 1\n",
    ")\n",
    "application_df = application_fg.read()"
   ]
  },
  {
   "cell_type": "markdown",
   "id": "d6b3fc27",
   "metadata": {},
   "source": [
    "#### <span style=\"color:#ff5f27;\">⛳️ Bureau Balance Feature Group</span>"
   ]
  },
  {
   "cell_type": "code",
   "execution_count": 3,
   "id": "e8e05fda",
   "metadata": {},
   "outputs": [
    {
     "name": "stdout",
     "output_type": "stream",
     "text": [
      "2023-03-02 13:57:59,408 INFO: USE `dowlingj_featurestore`\n",
      "2023-03-02 13:57:59,877 INFO: SELECT `fg0`.`sk_id_bureau` `sk_id_bureau`, `fg0`.`months_balance` `months_balance`, `fg0`.`status` `status`\n",
      "FROM `dowlingj_featurestore`.`bureau_balance_1` `fg0`\n"
     ]
    },
    {
     "name": "stderr",
     "output_type": "stream",
     "text": [
      "UserWarning: pandas only support SQLAlchemy connectable(engine/connection) ordatabase string URI or sqlite3 DBAPI2 connectionother DBAPI2 objects are not tested, please consider using SQLAlchemy\n"
     ]
    }
   ],
   "source": [
    "bureau_balance_fg = fs.get_or_create_feature_group(\n",
    "    name = 'bureau_balance',\n",
    "    version = 1\n",
    ")\n",
    "bureau_balance_df = bureau_balance_fg.read()"
   ]
  },
  {
   "cell_type": "markdown",
   "id": "5a39f77c",
   "metadata": {},
   "source": [
    "#### <span style=\"color:#ff5f27;\">⛳️ Bureau Feature Group</span>"
   ]
  },
  {
   "cell_type": "code",
   "execution_count": 4,
   "id": "5ca9192f",
   "metadata": {},
   "outputs": [
    {
     "name": "stdout",
     "output_type": "stream",
     "text": [
      "2023-03-02 13:58:03,478 INFO: USE `dowlingj_featurestore`\n",
      "2023-03-02 13:58:04,036 INFO: SELECT `fg0`.`sk_id_curr` `sk_id_curr`, `fg0`.`sk_id_bureau` `sk_id_bureau`, `fg0`.`credit_active` `credit_active`, `fg0`.`credit_currency` `credit_currency`, `fg0`.`days_credit` `days_credit`, `fg0`.`credit_day_overdue` `credit_day_overdue`, `fg0`.`days_credit_enddate` `days_credit_enddate`, `fg0`.`cnt_credit_prolong` `cnt_credit_prolong`, `fg0`.`amt_credit_sum` `amt_credit_sum`, `fg0`.`amt_credit_sum_debt` `amt_credit_sum_debt`, `fg0`.`amt_credit_sum_overdue` `amt_credit_sum_overdue`, `fg0`.`credit_type` `credit_type`, `fg0`.`days_credit_update` `days_credit_update`\n",
      "FROM `dowlingj_featurestore`.`bureau_1` `fg0`\n"
     ]
    },
    {
     "name": "stderr",
     "output_type": "stream",
     "text": [
      "UserWarning: pandas only support SQLAlchemy connectable(engine/connection) ordatabase string URI or sqlite3 DBAPI2 connectionother DBAPI2 objects are not tested, please consider using SQLAlchemy\n"
     ]
    }
   ],
   "source": [
    "bureau_fg = fs.get_or_create_feature_group(\n",
    "    name = 'bureau',\n",
    "    version = 1\n",
    ")\n",
    "bureau_df = bureau_fg.read()"
   ]
  },
  {
   "cell_type": "markdown",
   "id": "ed7a7444",
   "metadata": {},
   "source": [
    "#### <span style=\"color:#ff5f27;\">⛳️ Credit Card Balance Feature Group</span>"
   ]
  },
  {
   "cell_type": "code",
   "execution_count": 5,
   "id": "4799a526",
   "metadata": {},
   "outputs": [
    {
     "name": "stdout",
     "output_type": "stream",
     "text": [
      "2023-03-02 13:58:10,551 INFO: USE `dowlingj_featurestore`\n",
      "2023-03-02 13:58:10,996 INFO: SELECT `fg0`.`sk_id_prev` `sk_id_prev`, `fg0`.`sk_id_curr` `sk_id_curr`, `fg0`.`months_balance` `months_balance`, `fg0`.`amt_balance` `amt_balance`, `fg0`.`amt_credit_limit_actual` `amt_credit_limit_actual`, `fg0`.`amt_drawings_atm_current` `amt_drawings_atm_current`, `fg0`.`amt_drawings_current` `amt_drawings_current`, `fg0`.`amt_drawings_other_current` `amt_drawings_other_current`, `fg0`.`amt_drawings_pos_current` `amt_drawings_pos_current`, `fg0`.`amt_inst_min_regularity` `amt_inst_min_regularity`, `fg0`.`amt_payment_current` `amt_payment_current`, `fg0`.`amt_payment_total_current` `amt_payment_total_current`, `fg0`.`amt_receivable_principal` `amt_receivable_principal`, `fg0`.`amt_recivable` `amt_recivable`, `fg0`.`amt_total_receivable` `amt_total_receivable`, `fg0`.`cnt_drawings_atm_current` `cnt_drawings_atm_current`, `fg0`.`cnt_drawings_current` `cnt_drawings_current`, `fg0`.`cnt_drawings_other_current` `cnt_drawings_other_current`, `fg0`.`cnt_drawings_pos_current` `cnt_drawings_pos_current`, `fg0`.`cnt_instalment_mature_cum` `cnt_instalment_mature_cum`, `fg0`.`name_contract_status` `name_contract_status`, `fg0`.`sk_dpd` `sk_dpd`, `fg0`.`sk_dpd_def` `sk_dpd_def`\n",
      "FROM `dowlingj_featurestore`.`credit_card_balance_1` `fg0`\n"
     ]
    },
    {
     "name": "stderr",
     "output_type": "stream",
     "text": [
      "UserWarning: pandas only support SQLAlchemy connectable(engine/connection) ordatabase string URI or sqlite3 DBAPI2 connectionother DBAPI2 objects are not tested, please consider using SQLAlchemy\n"
     ]
    }
   ],
   "source": [
    "credit_card_balance_fg = fs.get_or_create_feature_group(\n",
    "    name = 'credit_card_balance',\n",
    "    version = 1\n",
    ")\n",
    "credit_card_balance_df = credit_card_balance_fg.read()"
   ]
  },
  {
   "cell_type": "markdown",
   "id": "9b369b5c",
   "metadata": {},
   "source": [
    "#### <span style=\"color:#ff5f27;\">⛳️ Installments Payments Feature Group</span>"
   ]
  },
  {
   "cell_type": "code",
   "execution_count": 6,
   "id": "c190a7b8",
   "metadata": {},
   "outputs": [
    {
     "name": "stdout",
     "output_type": "stream",
     "text": [
      "2023-03-02 13:58:14,865 INFO: USE `dowlingj_featurestore`\n",
      "2023-03-02 13:58:15,286 INFO: SELECT `fg0`.`sk_id_prev` `sk_id_prev`, `fg0`.`sk_id_curr` `sk_id_curr`, `fg0`.`num_instalment_version` `num_instalment_version`, `fg0`.`num_instalment_number` `num_instalment_number`, `fg0`.`days_instalment` `days_instalment`, `fg0`.`days_entry_payment` `days_entry_payment`, `fg0`.`amt_instalment` `amt_instalment`, `fg0`.`amt_payment` `amt_payment`\n",
      "FROM `dowlingj_featurestore`.`installments_payments_1` `fg0`\n"
     ]
    },
    {
     "name": "stderr",
     "output_type": "stream",
     "text": [
      "UserWarning: pandas only support SQLAlchemy connectable(engine/connection) ordatabase string URI or sqlite3 DBAPI2 connectionother DBAPI2 objects are not tested, please consider using SQLAlchemy\n"
     ]
    }
   ],
   "source": [
    "installments_payments_fg = fs.get_or_create_feature_group(\n",
    "    name = 'installments_payments',\n",
    "    version = 1\n",
    ")\n",
    "installments_payments_df = installments_payments_fg.read()"
   ]
  },
  {
   "cell_type": "markdown",
   "id": "d50146a2",
   "metadata": {},
   "source": [
    "#### <span style=\"color:#ff5f27;\">⛳️ POS (point of sales) and Cash Loans Balance Feature Group</span>"
   ]
  },
  {
   "cell_type": "code",
   "execution_count": 7,
   "id": "07f7085e",
   "metadata": {},
   "outputs": [
    {
     "name": "stdout",
     "output_type": "stream",
     "text": [
      "2023-03-02 13:58:20,005 INFO: USE `dowlingj_featurestore`\n",
      "2023-03-02 13:58:20,489 INFO: SELECT `fg0`.`sk_id_prev` `sk_id_prev`, `fg0`.`sk_id_curr` `sk_id_curr`, `fg0`.`months_balance` `months_balance`, `fg0`.`cnt_instalment` `cnt_instalment`, `fg0`.`cnt_instalment_future` `cnt_instalment_future`, `fg0`.`name_contract_status` `name_contract_status`, `fg0`.`sk_dpd` `sk_dpd`, `fg0`.`sk_dpd_def` `sk_dpd_def`\n",
      "FROM `dowlingj_featurestore`.`pos_cash_balance_1` `fg0`\n"
     ]
    },
    {
     "name": "stderr",
     "output_type": "stream",
     "text": [
      "UserWarning: pandas only support SQLAlchemy connectable(engine/connection) ordatabase string URI or sqlite3 DBAPI2 connectionother DBAPI2 objects are not tested, please consider using SQLAlchemy\n"
     ]
    }
   ],
   "source": [
    "pos_cash_balance_fg = fs.get_or_create_feature_group(\n",
    "    name = 'pos_cash_balance',\n",
    "    version = 1\n",
    ")\n",
    "pos_cash_balance_df = pos_cash_balance_fg.read()"
   ]
  },
  {
   "cell_type": "markdown",
   "id": "d500e570",
   "metadata": {},
   "source": [
    "#### <span style=\"color:#ff5f27;\">⛳️ Previous Application Feature Group</span>"
   ]
  },
  {
   "cell_type": "code",
   "execution_count": 20,
   "id": "37a0202c",
   "metadata": {},
   "outputs": [
    {
     "name": "stdout",
     "output_type": "stream",
     "text": [
      "2023-03-02 14:09:03,049 INFO: USE `dowlingj_featurestore`\n",
      "2023-03-02 14:09:03,571 INFO: SELECT `fg0`.`sk_id_prev` `sk_id_prev`, `fg0`.`sk_id_curr` `sk_id_curr`, `fg0`.`name_contract_type` `name_contract_type`, `fg0`.`amt_application` `amt_application`, `fg0`.`amt_credit` `amt_credit`, `fg0`.`weekday_appr_process_start` `weekday_appr_process_start`, `fg0`.`hour_appr_process_start` `hour_appr_process_start`, `fg0`.`flag_last_appl_per_contract` `flag_last_appl_per_contract`, `fg0`.`nflag_last_appl_in_day` `nflag_last_appl_in_day`, `fg0`.`name_cash_loan_purpose` `name_cash_loan_purpose`, `fg0`.`name_contract_status` `name_contract_status`, `fg0`.`days_decision` `days_decision`, `fg0`.`name_payment_type` `name_payment_type`, `fg0`.`code_reject_reason` `code_reject_reason`, `fg0`.`name_client_type` `name_client_type`, `fg0`.`name_goods_category` `name_goods_category`, `fg0`.`name_portfolio` `name_portfolio`, `fg0`.`name_product_type` `name_product_type`, `fg0`.`channel_type` `channel_type`, `fg0`.`sellerplace_area` `sellerplace_area`, `fg0`.`name_seller_industry` `name_seller_industry`, `fg0`.`name_yield_group` `name_yield_group`, `fg0`.`product_combination` `product_combination`\n",
      "FROM `dowlingj_featurestore`.`previous_application_1` `fg0`\n"
     ]
    },
    {
     "name": "stderr",
     "output_type": "stream",
     "text": [
      "UserWarning: pandas only support SQLAlchemy connectable(engine/connection) ordatabase string URI or sqlite3 DBAPI2 connectionother DBAPI2 objects are not tested, please consider using SQLAlchemy\n"
     ]
    }
   ],
   "source": [
    "previous_application_fg = fs.get_or_create_feature_group(\n",
    "    name = 'previous_application',\n",
    "    version = 1\n",
    ")\n",
    "previous_application_df = previous_application_fg.read()"
   ]
  },
  {
   "cell_type": "code",
   "execution_count": 21,
   "id": "a4738b60",
   "metadata": {},
   "outputs": [
    {
     "data": {
      "text/html": [
       "<div>\n",
       "<style scoped>\n",
       "    .dataframe tbody tr th:only-of-type {\n",
       "        vertical-align: middle;\n",
       "    }\n",
       "\n",
       "    .dataframe tbody tr th {\n",
       "        vertical-align: top;\n",
       "    }\n",
       "\n",
       "    .dataframe thead th {\n",
       "        text-align: right;\n",
       "    }\n",
       "</style>\n",
       "<table border=\"1\" class=\"dataframe\">\n",
       "  <thead>\n",
       "    <tr style=\"text-align: right;\">\n",
       "      <th></th>\n",
       "      <th>sk_id_prev</th>\n",
       "      <th>sk_id_curr</th>\n",
       "      <th>name_contract_type</th>\n",
       "      <th>amt_application</th>\n",
       "      <th>amt_credit</th>\n",
       "      <th>weekday_appr_process_start</th>\n",
       "      <th>hour_appr_process_start</th>\n",
       "      <th>flag_last_appl_per_contract</th>\n",
       "      <th>nflag_last_appl_in_day</th>\n",
       "      <th>name_cash_loan_purpose</th>\n",
       "      <th>...</th>\n",
       "      <th>code_reject_reason</th>\n",
       "      <th>name_client_type</th>\n",
       "      <th>name_goods_category</th>\n",
       "      <th>name_portfolio</th>\n",
       "      <th>name_product_type</th>\n",
       "      <th>channel_type</th>\n",
       "      <th>sellerplace_area</th>\n",
       "      <th>name_seller_industry</th>\n",
       "      <th>name_yield_group</th>\n",
       "      <th>product_combination</th>\n",
       "    </tr>\n",
       "  </thead>\n",
       "  <tbody>\n",
       "    <tr>\n",
       "      <th>0</th>\n",
       "      <td>2668413</td>\n",
       "      <td>279885</td>\n",
       "      <td>Cash loans</td>\n",
       "      <td>675000.0</td>\n",
       "      <td>870457.5</td>\n",
       "      <td>FRIDAY</td>\n",
       "      <td>14</td>\n",
       "      <td>Y</td>\n",
       "      <td>1</td>\n",
       "      <td>XNA</td>\n",
       "      <td>...</td>\n",
       "      <td>XAP</td>\n",
       "      <td>Repeater</td>\n",
       "      <td>XNA</td>\n",
       "      <td>Cash</td>\n",
       "      <td>x-sell</td>\n",
       "      <td>Credit and cash offices</td>\n",
       "      <td>-1</td>\n",
       "      <td>XNA</td>\n",
       "      <td>middle</td>\n",
       "      <td>Cash X-Sell: middle</td>\n",
       "    </tr>\n",
       "    <tr>\n",
       "      <th>1</th>\n",
       "      <td>2780766</td>\n",
       "      <td>311315</td>\n",
       "      <td>Consumer loans</td>\n",
       "      <td>204925.5</td>\n",
       "      <td>176170.5</td>\n",
       "      <td>TUESDAY</td>\n",
       "      <td>12</td>\n",
       "      <td>Y</td>\n",
       "      <td>1</td>\n",
       "      <td>XAP</td>\n",
       "      <td>...</td>\n",
       "      <td>LIMIT</td>\n",
       "      <td>Refreshed</td>\n",
       "      <td>Consumer Electronics</td>\n",
       "      <td>POS</td>\n",
       "      <td>XNA</td>\n",
       "      <td>Country-wide</td>\n",
       "      <td>3600</td>\n",
       "      <td>Consumer electronics</td>\n",
       "      <td>high</td>\n",
       "      <td>POS household with interest</td>\n",
       "    </tr>\n",
       "    <tr>\n",
       "      <th>2</th>\n",
       "      <td>2453426</td>\n",
       "      <td>113501</td>\n",
       "      <td>Cash loans</td>\n",
       "      <td>90000.0</td>\n",
       "      <td>107820.0</td>\n",
       "      <td>TUESDAY</td>\n",
       "      <td>18</td>\n",
       "      <td>Y</td>\n",
       "      <td>1</td>\n",
       "      <td>Hobby</td>\n",
       "      <td>...</td>\n",
       "      <td>LIMIT</td>\n",
       "      <td>Repeater</td>\n",
       "      <td>XNA</td>\n",
       "      <td>Cash</td>\n",
       "      <td>walk-in</td>\n",
       "      <td>Credit and cash offices</td>\n",
       "      <td>-1</td>\n",
       "      <td>XNA</td>\n",
       "      <td>middle</td>\n",
       "      <td>Cash Street: middle</td>\n",
       "    </tr>\n",
       "    <tr>\n",
       "      <th>3</th>\n",
       "      <td>2451621</td>\n",
       "      <td>251319</td>\n",
       "      <td>Revolving loans</td>\n",
       "      <td>0.0</td>\n",
       "      <td>450000.0</td>\n",
       "      <td>FRIDAY</td>\n",
       "      <td>16</td>\n",
       "      <td>Y</td>\n",
       "      <td>1</td>\n",
       "      <td>XAP</td>\n",
       "      <td>...</td>\n",
       "      <td>XAP</td>\n",
       "      <td>Repeater</td>\n",
       "      <td>XNA</td>\n",
       "      <td>Cards</td>\n",
       "      <td>x-sell</td>\n",
       "      <td>Credit and cash offices</td>\n",
       "      <td>-1</td>\n",
       "      <td>XNA</td>\n",
       "      <td>XNA</td>\n",
       "      <td>Card X-Sell</td>\n",
       "    </tr>\n",
       "    <tr>\n",
       "      <th>4</th>\n",
       "      <td>1530522</td>\n",
       "      <td>276466</td>\n",
       "      <td>Cash loans</td>\n",
       "      <td>0.0</td>\n",
       "      <td>0.0</td>\n",
       "      <td>MONDAY</td>\n",
       "      <td>15</td>\n",
       "      <td>Y</td>\n",
       "      <td>1</td>\n",
       "      <td>XNA</td>\n",
       "      <td>...</td>\n",
       "      <td>XAP</td>\n",
       "      <td>Repeater</td>\n",
       "      <td>XNA</td>\n",
       "      <td>XNA</td>\n",
       "      <td>XNA</td>\n",
       "      <td>Credit and cash offices</td>\n",
       "      <td>-1</td>\n",
       "      <td>XNA</td>\n",
       "      <td>XNA</td>\n",
       "      <td>Cash</td>\n",
       "    </tr>\n",
       "    <tr>\n",
       "      <th>...</th>\n",
       "      <td>...</td>\n",
       "      <td>...</td>\n",
       "      <td>...</td>\n",
       "      <td>...</td>\n",
       "      <td>...</td>\n",
       "      <td>...</td>\n",
       "      <td>...</td>\n",
       "      <td>...</td>\n",
       "      <td>...</td>\n",
       "      <td>...</td>\n",
       "      <td>...</td>\n",
       "      <td>...</td>\n",
       "      <td>...</td>\n",
       "      <td>...</td>\n",
       "      <td>...</td>\n",
       "      <td>...</td>\n",
       "      <td>...</td>\n",
       "      <td>...</td>\n",
       "      <td>...</td>\n",
       "      <td>...</td>\n",
       "      <td>...</td>\n",
       "    </tr>\n",
       "    <tr>\n",
       "      <th>5223</th>\n",
       "      <td>2406541</td>\n",
       "      <td>453172</td>\n",
       "      <td>Cash loans</td>\n",
       "      <td>454500.0</td>\n",
       "      <td>454500.0</td>\n",
       "      <td>SATURDAY</td>\n",
       "      <td>10</td>\n",
       "      <td>Y</td>\n",
       "      <td>1</td>\n",
       "      <td>XNA</td>\n",
       "      <td>...</td>\n",
       "      <td>HC</td>\n",
       "      <td>Repeater</td>\n",
       "      <td>XNA</td>\n",
       "      <td>Cash</td>\n",
       "      <td>x-sell</td>\n",
       "      <td>Contact center</td>\n",
       "      <td>-1</td>\n",
       "      <td>XNA</td>\n",
       "      <td>middle</td>\n",
       "      <td>Cash X-Sell: middle</td>\n",
       "    </tr>\n",
       "    <tr>\n",
       "      <th>5224</th>\n",
       "      <td>2381965</td>\n",
       "      <td>318094</td>\n",
       "      <td>Cash loans</td>\n",
       "      <td>315000.0</td>\n",
       "      <td>400239.0</td>\n",
       "      <td>WEDNESDAY</td>\n",
       "      <td>14</td>\n",
       "      <td>Y</td>\n",
       "      <td>1</td>\n",
       "      <td>XNA</td>\n",
       "      <td>...</td>\n",
       "      <td>HC</td>\n",
       "      <td>Repeater</td>\n",
       "      <td>XNA</td>\n",
       "      <td>Cash</td>\n",
       "      <td>x-sell</td>\n",
       "      <td>Contact center</td>\n",
       "      <td>-1</td>\n",
       "      <td>XNA</td>\n",
       "      <td>low_normal</td>\n",
       "      <td>Cash X-Sell: low</td>\n",
       "    </tr>\n",
       "    <tr>\n",
       "      <th>5225</th>\n",
       "      <td>2275447</td>\n",
       "      <td>243497</td>\n",
       "      <td>Consumer loans</td>\n",
       "      <td>130347.0</td>\n",
       "      <td>144112.5</td>\n",
       "      <td>FRIDAY</td>\n",
       "      <td>8</td>\n",
       "      <td>Y</td>\n",
       "      <td>1</td>\n",
       "      <td>XAP</td>\n",
       "      <td>...</td>\n",
       "      <td>XAP</td>\n",
       "      <td>Repeater</td>\n",
       "      <td>Furniture</td>\n",
       "      <td>POS</td>\n",
       "      <td>XNA</td>\n",
       "      <td>Stone</td>\n",
       "      <td>44</td>\n",
       "      <td>Furniture</td>\n",
       "      <td>middle</td>\n",
       "      <td>POS industry with interest</td>\n",
       "    </tr>\n",
       "    <tr>\n",
       "      <th>5226</th>\n",
       "      <td>1039548</td>\n",
       "      <td>182306</td>\n",
       "      <td>Cash loans</td>\n",
       "      <td>157500.0</td>\n",
       "      <td>173092.5</td>\n",
       "      <td>FRIDAY</td>\n",
       "      <td>10</td>\n",
       "      <td>Y</td>\n",
       "      <td>1</td>\n",
       "      <td>XNA</td>\n",
       "      <td>...</td>\n",
       "      <td>XAP</td>\n",
       "      <td>Repeater</td>\n",
       "      <td>XNA</td>\n",
       "      <td>Cash</td>\n",
       "      <td>x-sell</td>\n",
       "      <td>Country-wide</td>\n",
       "      <td>-1</td>\n",
       "      <td>Consumer electronics</td>\n",
       "      <td>high</td>\n",
       "      <td>Cash X-Sell: high</td>\n",
       "    </tr>\n",
       "    <tr>\n",
       "      <th>5227</th>\n",
       "      <td>1159610</td>\n",
       "      <td>268898</td>\n",
       "      <td>Revolving loans</td>\n",
       "      <td>225000.0</td>\n",
       "      <td>225000.0</td>\n",
       "      <td>SATURDAY</td>\n",
       "      <td>14</td>\n",
       "      <td>Y</td>\n",
       "      <td>1</td>\n",
       "      <td>XAP</td>\n",
       "      <td>...</td>\n",
       "      <td>XAP</td>\n",
       "      <td>Repeater</td>\n",
       "      <td>XNA</td>\n",
       "      <td>Cards</td>\n",
       "      <td>walk-in</td>\n",
       "      <td>Credit and cash offices</td>\n",
       "      <td>0</td>\n",
       "      <td>XNA</td>\n",
       "      <td>XNA</td>\n",
       "      <td>Card Street</td>\n",
       "    </tr>\n",
       "  </tbody>\n",
       "</table>\n",
       "<p>5228 rows × 23 columns</p>\n",
       "</div>"
      ],
      "text/plain": [
       "      sk_id_prev  sk_id_curr name_contract_type  amt_application  amt_credit  \\\n",
       "0        2668413      279885         Cash loans         675000.0    870457.5   \n",
       "1        2780766      311315     Consumer loans         204925.5    176170.5   \n",
       "2        2453426      113501         Cash loans          90000.0    107820.0   \n",
       "3        2451621      251319    Revolving loans              0.0    450000.0   \n",
       "4        1530522      276466         Cash loans              0.0         0.0   \n",
       "...          ...         ...                ...              ...         ...   \n",
       "5223     2406541      453172         Cash loans         454500.0    454500.0   \n",
       "5224     2381965      318094         Cash loans         315000.0    400239.0   \n",
       "5225     2275447      243497     Consumer loans         130347.0    144112.5   \n",
       "5226     1039548      182306         Cash loans         157500.0    173092.5   \n",
       "5227     1159610      268898    Revolving loans         225000.0    225000.0   \n",
       "\n",
       "     weekday_appr_process_start  hour_appr_process_start  \\\n",
       "0                        FRIDAY                       14   \n",
       "1                       TUESDAY                       12   \n",
       "2                       TUESDAY                       18   \n",
       "3                        FRIDAY                       16   \n",
       "4                        MONDAY                       15   \n",
       "...                         ...                      ...   \n",
       "5223                   SATURDAY                       10   \n",
       "5224                  WEDNESDAY                       14   \n",
       "5225                     FRIDAY                        8   \n",
       "5226                     FRIDAY                       10   \n",
       "5227                   SATURDAY                       14   \n",
       "\n",
       "     flag_last_appl_per_contract  nflag_last_appl_in_day  \\\n",
       "0                              Y                       1   \n",
       "1                              Y                       1   \n",
       "2                              Y                       1   \n",
       "3                              Y                       1   \n",
       "4                              Y                       1   \n",
       "...                          ...                     ...   \n",
       "5223                           Y                       1   \n",
       "5224                           Y                       1   \n",
       "5225                           Y                       1   \n",
       "5226                           Y                       1   \n",
       "5227                           Y                       1   \n",
       "\n",
       "     name_cash_loan_purpose  ... code_reject_reason  name_client_type  \\\n",
       "0                       XNA  ...                XAP          Repeater   \n",
       "1                       XAP  ...              LIMIT         Refreshed   \n",
       "2                     Hobby  ...              LIMIT          Repeater   \n",
       "3                       XAP  ...                XAP          Repeater   \n",
       "4                       XNA  ...                XAP          Repeater   \n",
       "...                     ...  ...                ...               ...   \n",
       "5223                    XNA  ...                 HC          Repeater   \n",
       "5224                    XNA  ...                 HC          Repeater   \n",
       "5225                    XAP  ...                XAP          Repeater   \n",
       "5226                    XNA  ...                XAP          Repeater   \n",
       "5227                    XAP  ...                XAP          Repeater   \n",
       "\n",
       "       name_goods_category name_portfolio name_product_type  \\\n",
       "0                      XNA           Cash            x-sell   \n",
       "1     Consumer Electronics            POS               XNA   \n",
       "2                      XNA           Cash           walk-in   \n",
       "3                      XNA          Cards            x-sell   \n",
       "4                      XNA            XNA               XNA   \n",
       "...                    ...            ...               ...   \n",
       "5223                   XNA           Cash            x-sell   \n",
       "5224                   XNA           Cash            x-sell   \n",
       "5225             Furniture            POS               XNA   \n",
       "5226                   XNA           Cash            x-sell   \n",
       "5227                   XNA          Cards           walk-in   \n",
       "\n",
       "                 channel_type sellerplace_area  name_seller_industry  \\\n",
       "0     Credit and cash offices               -1                   XNA   \n",
       "1                Country-wide             3600  Consumer electronics   \n",
       "2     Credit and cash offices               -1                   XNA   \n",
       "3     Credit and cash offices               -1                   XNA   \n",
       "4     Credit and cash offices               -1                   XNA   \n",
       "...                       ...              ...                   ...   \n",
       "5223           Contact center               -1                   XNA   \n",
       "5224           Contact center               -1                   XNA   \n",
       "5225                    Stone               44             Furniture   \n",
       "5226             Country-wide               -1  Consumer electronics   \n",
       "5227  Credit and cash offices                0                   XNA   \n",
       "\n",
       "     name_yield_group          product_combination  \n",
       "0              middle          Cash X-Sell: middle  \n",
       "1                high  POS household with interest  \n",
       "2              middle          Cash Street: middle  \n",
       "3                 XNA                  Card X-Sell  \n",
       "4                 XNA                         Cash  \n",
       "...               ...                          ...  \n",
       "5223           middle          Cash X-Sell: middle  \n",
       "5224       low_normal             Cash X-Sell: low  \n",
       "5225           middle   POS industry with interest  \n",
       "5226             high            Cash X-Sell: high  \n",
       "5227              XNA                  Card Street  \n",
       "\n",
       "[5228 rows x 23 columns]"
      ]
     },
     "execution_count": 21,
     "metadata": {},
     "output_type": "execute_result"
    }
   ],
   "source": [
    "previous_application_df"
   ]
  },
  {
   "cell_type": "markdown",
   "id": "447ff807",
   "metadata": {},
   "source": [
    "#### <span style=\"color:#ff5f27;\"> ⛳️ Previous Load Counts Feature Group"
   ]
  },
  {
   "cell_type": "code",
   "execution_count": 9,
   "id": "dbb68ad9",
   "metadata": {},
   "outputs": [
    {
     "name": "stdout",
     "output_type": "stream",
     "text": [
      "2023-03-02 13:58:28,193 INFO: USE `dowlingj_featurestore`\n",
      "2023-03-02 13:58:28,692 INFO: SELECT `fg0`.`sk_id_curr` `sk_id_curr`, `fg0`.`previous_loan_counts` `previous_loan_counts`\n",
      "FROM `dowlingj_featurestore`.`previous_loan_counts_1` `fg0`\n"
     ]
    },
    {
     "name": "stderr",
     "output_type": "stream",
     "text": [
      "UserWarning: pandas only support SQLAlchemy connectable(engine/connection) ordatabase string URI or sqlite3 DBAPI2 connectionother DBAPI2 objects are not tested, please consider using SQLAlchemy\n"
     ]
    }
   ],
   "source": [
    "previous_loan_counts_fg = fs.get_or_create_feature_group(\n",
    "    name = 'previous_loan_counts',\n",
    "    version = 1\n",
    ")\n",
    "previous_loan_counts_df = previous_loan_counts_fg.read()"
   ]
  },
  {
   "cell_type": "markdown",
   "id": "3c2df7b3",
   "metadata": {},
   "source": [
    "---\n",
    "\n",
    "## <span style=\"color:#ff5f27;\"> 🧙🏼‍♂️ Data Generation </span>"
   ]
  },
  {
   "cell_type": "markdown",
   "id": "85381861",
   "metadata": {},
   "source": [
    "### <span style='color:#ff5f27'> 📝 Imports"
   ]
  },
  {
   "cell_type": "code",
   "execution_count": 10,
   "id": "6b435245",
   "metadata": {},
   "outputs": [],
   "source": [
    "from functions import generate_data"
   ]
  },
  {
   "cell_type": "markdown",
   "id": "89b3da0f",
   "metadata": {},
   "source": [
    "### <span style='color:#ff5f27'> 🧑🏻‍🔬 Generating new data"
   ]
  },
  {
   "cell_type": "code",
   "execution_count": 11,
   "id": "7eea9c82",
   "metadata": {},
   "outputs": [
    {
     "data": {
      "text/html": [
       "<div>\n",
       "<style scoped>\n",
       "    .dataframe tbody tr th:only-of-type {\n",
       "        vertical-align: middle;\n",
       "    }\n",
       "\n",
       "    .dataframe tbody tr th {\n",
       "        vertical-align: top;\n",
       "    }\n",
       "\n",
       "    .dataframe thead th {\n",
       "        text-align: right;\n",
       "    }\n",
       "</style>\n",
       "<table border=\"1\" class=\"dataframe\">\n",
       "  <thead>\n",
       "    <tr style=\"text-align: right;\">\n",
       "      <th></th>\n",
       "      <th>sk_id_curr</th>\n",
       "      <th>target</th>\n",
       "      <th>name_contract_type</th>\n",
       "      <th>code_gender</th>\n",
       "      <th>flag_own_car</th>\n",
       "      <th>flag_own_realty</th>\n",
       "      <th>cnt_children</th>\n",
       "      <th>amt_income_total</th>\n",
       "      <th>amt_credit</th>\n",
       "      <th>amt_annuity</th>\n",
       "      <th>...</th>\n",
       "      <th>flag_document_18</th>\n",
       "      <th>flag_document_19</th>\n",
       "      <th>flag_document_20</th>\n",
       "      <th>flag_document_21</th>\n",
       "      <th>amt_req_credit_bureau_hour</th>\n",
       "      <th>amt_req_credit_bureau_day</th>\n",
       "      <th>amt_req_credit_bureau_week</th>\n",
       "      <th>amt_req_credit_bureau_mon</th>\n",
       "      <th>amt_req_credit_bureau_qrt</th>\n",
       "      <th>amt_req_credit_bureau_year</th>\n",
       "    </tr>\n",
       "  </thead>\n",
       "  <tbody>\n",
       "    <tr>\n",
       "      <th>0</th>\n",
       "      <td>455193</td>\n",
       "      <td>0</td>\n",
       "      <td>Cash loans</td>\n",
       "      <td>F</td>\n",
       "      <td>Y</td>\n",
       "      <td>Y</td>\n",
       "      <td>0</td>\n",
       "      <td>157500.0</td>\n",
       "      <td>779688.0</td>\n",
       "      <td>24822.0</td>\n",
       "      <td>...</td>\n",
       "      <td>0</td>\n",
       "      <td>0</td>\n",
       "      <td>0</td>\n",
       "      <td>0</td>\n",
       "      <td>0.0</td>\n",
       "      <td>0.0</td>\n",
       "      <td>0.0</td>\n",
       "      <td>0.0</td>\n",
       "      <td>0.0</td>\n",
       "      <td>4.0</td>\n",
       "    </tr>\n",
       "    <tr>\n",
       "      <th>1</th>\n",
       "      <td>455194</td>\n",
       "      <td>0</td>\n",
       "      <td>Cash loans</td>\n",
       "      <td>F</td>\n",
       "      <td>Y</td>\n",
       "      <td>Y</td>\n",
       "      <td>1</td>\n",
       "      <td>72000.0</td>\n",
       "      <td>888840.0</td>\n",
       "      <td>34636.5</td>\n",
       "      <td>...</td>\n",
       "      <td>0</td>\n",
       "      <td>0</td>\n",
       "      <td>0</td>\n",
       "      <td>0</td>\n",
       "      <td>0.0</td>\n",
       "      <td>0.0</td>\n",
       "      <td>0.0</td>\n",
       "      <td>0.0</td>\n",
       "      <td>0.0</td>\n",
       "      <td>4.0</td>\n",
       "    </tr>\n",
       "    <tr>\n",
       "      <th>2</th>\n",
       "      <td>455195</td>\n",
       "      <td>0</td>\n",
       "      <td>Cash loans</td>\n",
       "      <td>F</td>\n",
       "      <td>Y</td>\n",
       "      <td>Y</td>\n",
       "      <td>0</td>\n",
       "      <td>180000.0</td>\n",
       "      <td>370629.0</td>\n",
       "      <td>16222.5</td>\n",
       "      <td>...</td>\n",
       "      <td>0</td>\n",
       "      <td>0</td>\n",
       "      <td>0</td>\n",
       "      <td>0</td>\n",
       "      <td>0.0</td>\n",
       "      <td>0.0</td>\n",
       "      <td>0.0</td>\n",
       "      <td>0.0</td>\n",
       "      <td>0.0</td>\n",
       "      <td>1.0</td>\n",
       "    </tr>\n",
       "    <tr>\n",
       "      <th>3</th>\n",
       "      <td>455196</td>\n",
       "      <td>0</td>\n",
       "      <td>Cash loans</td>\n",
       "      <td>F</td>\n",
       "      <td>Y</td>\n",
       "      <td>Y</td>\n",
       "      <td>2</td>\n",
       "      <td>225000.0</td>\n",
       "      <td>813195.0</td>\n",
       "      <td>21937.5</td>\n",
       "      <td>...</td>\n",
       "      <td>0</td>\n",
       "      <td>0</td>\n",
       "      <td>0</td>\n",
       "      <td>0</td>\n",
       "      <td>0.0</td>\n",
       "      <td>0.0</td>\n",
       "      <td>0.0</td>\n",
       "      <td>0.0</td>\n",
       "      <td>0.0</td>\n",
       "      <td>6.0</td>\n",
       "    </tr>\n",
       "    <tr>\n",
       "      <th>4</th>\n",
       "      <td>455197</td>\n",
       "      <td>0</td>\n",
       "      <td>Cash loans</td>\n",
       "      <td>F</td>\n",
       "      <td>N</td>\n",
       "      <td>Y</td>\n",
       "      <td>0</td>\n",
       "      <td>360000.0</td>\n",
       "      <td>808650.0</td>\n",
       "      <td>16155.0</td>\n",
       "      <td>...</td>\n",
       "      <td>0</td>\n",
       "      <td>0</td>\n",
       "      <td>0</td>\n",
       "      <td>0</td>\n",
       "      <td>0.0</td>\n",
       "      <td>0.0</td>\n",
       "      <td>0.0</td>\n",
       "      <td>0.0</td>\n",
       "      <td>1.0</td>\n",
       "      <td>2.0</td>\n",
       "    </tr>\n",
       "  </tbody>\n",
       "</table>\n",
       "<p>5 rows × 72 columns</p>\n",
       "</div>"
      ],
      "text/plain": [
       "   sk_id_curr  target name_contract_type code_gender flag_own_car  \\\n",
       "0      455193       0         Cash loans           F            Y   \n",
       "1      455194       0         Cash loans           F            Y   \n",
       "2      455195       0         Cash loans           F            Y   \n",
       "3      455196       0         Cash loans           F            Y   \n",
       "4      455197       0         Cash loans           F            N   \n",
       "\n",
       "  flag_own_realty  cnt_children  amt_income_total  amt_credit  amt_annuity  \\\n",
       "0               Y             0          157500.0    779688.0      24822.0   \n",
       "1               Y             1           72000.0    888840.0      34636.5   \n",
       "2               Y             0          180000.0    370629.0      16222.5   \n",
       "3               Y             2          225000.0    813195.0      21937.5   \n",
       "4               Y             0          360000.0    808650.0      16155.0   \n",
       "\n",
       "   ...  flag_document_18 flag_document_19 flag_document_20 flag_document_21  \\\n",
       "0  ...                 0                0                0                0   \n",
       "1  ...                 0                0                0                0   \n",
       "2  ...                 0                0                0                0   \n",
       "3  ...                 0                0                0                0   \n",
       "4  ...                 0                0                0                0   \n",
       "\n",
       "  amt_req_credit_bureau_hour amt_req_credit_bureau_day  \\\n",
       "0                        0.0                       0.0   \n",
       "1                        0.0                       0.0   \n",
       "2                        0.0                       0.0   \n",
       "3                        0.0                       0.0   \n",
       "4                        0.0                       0.0   \n",
       "\n",
       "   amt_req_credit_bureau_week  amt_req_credit_bureau_mon  \\\n",
       "0                         0.0                        0.0   \n",
       "1                         0.0                        0.0   \n",
       "2                         0.0                        0.0   \n",
       "3                         0.0                        0.0   \n",
       "4                         0.0                        0.0   \n",
       "\n",
       "   amt_req_credit_bureau_qrt  amt_req_credit_bureau_year  \n",
       "0                        0.0                         4.0  \n",
       "1                        0.0                         4.0  \n",
       "2                        0.0                         1.0  \n",
       "3                        0.0                         6.0  \n",
       "4                        1.0                         2.0  \n",
       "\n",
       "[5 rows x 72 columns]"
      ]
     },
     "execution_count": 11,
     "metadata": {},
     "output_type": "execute_result"
    }
   ],
   "source": [
    "application_df_generated = generate_data(application_df)\n",
    "application_df_generated.head()"
   ]
  },
  {
   "cell_type": "code",
   "execution_count": 12,
   "id": "e189de9c",
   "metadata": {},
   "outputs": [
    {
     "data": {
      "text/html": [
       "<div>\n",
       "<style scoped>\n",
       "    .dataframe tbody tr th:only-of-type {\n",
       "        vertical-align: middle;\n",
       "    }\n",
       "\n",
       "    .dataframe tbody tr th {\n",
       "        vertical-align: top;\n",
       "    }\n",
       "\n",
       "    .dataframe thead th {\n",
       "        text-align: right;\n",
       "    }\n",
       "</style>\n",
       "<table border=\"1\" class=\"dataframe\">\n",
       "  <thead>\n",
       "    <tr style=\"text-align: right;\">\n",
       "      <th></th>\n",
       "      <th>sk_id_bureau</th>\n",
       "      <th>months_balance</th>\n",
       "      <th>status</th>\n",
       "    </tr>\n",
       "  </thead>\n",
       "  <tbody>\n",
       "    <tr>\n",
       "      <th>0</th>\n",
       "      <td>6838019</td>\n",
       "      <td>0</td>\n",
       "      <td>0</td>\n",
       "    </tr>\n",
       "    <tr>\n",
       "      <th>1</th>\n",
       "      <td>6838020</td>\n",
       "      <td>0</td>\n",
       "      <td>C</td>\n",
       "    </tr>\n",
       "    <tr>\n",
       "      <th>2</th>\n",
       "      <td>6838021</td>\n",
       "      <td>0</td>\n",
       "      <td>0</td>\n",
       "    </tr>\n",
       "    <tr>\n",
       "      <th>3</th>\n",
       "      <td>6838022</td>\n",
       "      <td>0</td>\n",
       "      <td>X</td>\n",
       "    </tr>\n",
       "    <tr>\n",
       "      <th>4</th>\n",
       "      <td>6838023</td>\n",
       "      <td>-59</td>\n",
       "      <td>C</td>\n",
       "    </tr>\n",
       "  </tbody>\n",
       "</table>\n",
       "</div>"
      ],
      "text/plain": [
       "   sk_id_bureau  months_balance status\n",
       "0       6838019               0      0\n",
       "1       6838020               0      C\n",
       "2       6838021               0      0\n",
       "3       6838022               0      X\n",
       "4       6838023             -59      C"
      ]
     },
     "execution_count": 12,
     "metadata": {},
     "output_type": "execute_result"
    }
   ],
   "source": [
    "bureau_balance_df_generated = generate_data(bureau_balance_df)\n",
    "bureau_balance_df_generated.head()"
   ]
  },
  {
   "cell_type": "code",
   "execution_count": 13,
   "id": "6a9d49c3",
   "metadata": {},
   "outputs": [
    {
     "data": {
      "text/html": [
       "<div>\n",
       "<style scoped>\n",
       "    .dataframe tbody tr th:only-of-type {\n",
       "        vertical-align: middle;\n",
       "    }\n",
       "\n",
       "    .dataframe tbody tr th {\n",
       "        vertical-align: top;\n",
       "    }\n",
       "\n",
       "    .dataframe thead th {\n",
       "        text-align: right;\n",
       "    }\n",
       "</style>\n",
       "<table border=\"1\" class=\"dataframe\">\n",
       "  <thead>\n",
       "    <tr style=\"text-align: right;\">\n",
       "      <th></th>\n",
       "      <th>sk_id_curr</th>\n",
       "      <th>sk_id_bureau</th>\n",
       "      <th>credit_active</th>\n",
       "      <th>credit_currency</th>\n",
       "      <th>days_credit</th>\n",
       "      <th>credit_day_overdue</th>\n",
       "      <th>days_credit_enddate</th>\n",
       "      <th>cnt_credit_prolong</th>\n",
       "      <th>amt_credit_sum</th>\n",
       "      <th>amt_credit_sum_debt</th>\n",
       "      <th>amt_credit_sum_overdue</th>\n",
       "      <th>credit_type</th>\n",
       "      <th>days_credit_update</th>\n",
       "    </tr>\n",
       "  </thead>\n",
       "  <tbody>\n",
       "    <tr>\n",
       "      <th>0</th>\n",
       "      <td>456186</td>\n",
       "      <td>6840725</td>\n",
       "      <td>Active</td>\n",
       "      <td>currency 1</td>\n",
       "      <td>-1362</td>\n",
       "      <td>0</td>\n",
       "      <td>107.0</td>\n",
       "      <td>0</td>\n",
       "      <td>900000.00</td>\n",
       "      <td>0.0</td>\n",
       "      <td>0.0</td>\n",
       "      <td>Consumer credit</td>\n",
       "      <td>-7</td>\n",
       "    </tr>\n",
       "    <tr>\n",
       "      <th>1</th>\n",
       "      <td>456187</td>\n",
       "      <td>6840726</td>\n",
       "      <td>Active</td>\n",
       "      <td>currency 1</td>\n",
       "      <td>-1567</td>\n",
       "      <td>0</td>\n",
       "      <td>12923.0</td>\n",
       "      <td>0</td>\n",
       "      <td>349611.57</td>\n",
       "      <td>0.0</td>\n",
       "      <td>0.0</td>\n",
       "      <td>Consumer credit</td>\n",
       "      <td>-695</td>\n",
       "    </tr>\n",
       "    <tr>\n",
       "      <th>2</th>\n",
       "      <td>456188</td>\n",
       "      <td>6840727</td>\n",
       "      <td>Active</td>\n",
       "      <td>currency 1</td>\n",
       "      <td>-13</td>\n",
       "      <td>0</td>\n",
       "      <td>-1219.0</td>\n",
       "      <td>0</td>\n",
       "      <td>162000.00</td>\n",
       "      <td>0.0</td>\n",
       "      <td>0.0</td>\n",
       "      <td>Consumer credit</td>\n",
       "      <td>-10</td>\n",
       "    </tr>\n",
       "    <tr>\n",
       "      <th>3</th>\n",
       "      <td>456189</td>\n",
       "      <td>6840728</td>\n",
       "      <td>Closed</td>\n",
       "      <td>currency 1</td>\n",
       "      <td>-266</td>\n",
       "      <td>0</td>\n",
       "      <td>843.0</td>\n",
       "      <td>0</td>\n",
       "      <td>51727.50</td>\n",
       "      <td>0.0</td>\n",
       "      <td>0.0</td>\n",
       "      <td>Consumer credit</td>\n",
       "      <td>-497</td>\n",
       "    </tr>\n",
       "    <tr>\n",
       "      <th>4</th>\n",
       "      <td>456190</td>\n",
       "      <td>6840729</td>\n",
       "      <td>Active</td>\n",
       "      <td>currency 1</td>\n",
       "      <td>-341</td>\n",
       "      <td>0</td>\n",
       "      <td>-303.0</td>\n",
       "      <td>0</td>\n",
       "      <td>38205.00</td>\n",
       "      <td>0.0</td>\n",
       "      <td>0.0</td>\n",
       "      <td>Credit card</td>\n",
       "      <td>-34</td>\n",
       "    </tr>\n",
       "  </tbody>\n",
       "</table>\n",
       "</div>"
      ],
      "text/plain": [
       "   sk_id_curr  sk_id_bureau credit_active credit_currency  days_credit  \\\n",
       "0      456186       6840725        Active      currency 1        -1362   \n",
       "1      456187       6840726        Active      currency 1        -1567   \n",
       "2      456188       6840727        Active      currency 1          -13   \n",
       "3      456189       6840728        Closed      currency 1         -266   \n",
       "4      456190       6840729        Active      currency 1         -341   \n",
       "\n",
       "   credit_day_overdue  days_credit_enddate  cnt_credit_prolong  \\\n",
       "0                   0                107.0                   0   \n",
       "1                   0              12923.0                   0   \n",
       "2                   0              -1219.0                   0   \n",
       "3                   0                843.0                   0   \n",
       "4                   0               -303.0                   0   \n",
       "\n",
       "   amt_credit_sum  amt_credit_sum_debt  amt_credit_sum_overdue  \\\n",
       "0       900000.00                  0.0                     0.0   \n",
       "1       349611.57                  0.0                     0.0   \n",
       "2       162000.00                  0.0                     0.0   \n",
       "3        51727.50                  0.0                     0.0   \n",
       "4        38205.00                  0.0                     0.0   \n",
       "\n",
       "       credit_type  days_credit_update  \n",
       "0  Consumer credit                  -7  \n",
       "1  Consumer credit                -695  \n",
       "2  Consumer credit                 -10  \n",
       "3  Consumer credit                -497  \n",
       "4      Credit card                 -34  "
      ]
     },
     "execution_count": 13,
     "metadata": {},
     "output_type": "execute_result"
    }
   ],
   "source": [
    "bureau_df_generated = generate_data(bureau_df)\n",
    "bureau_df_generated.head()"
   ]
  },
  {
   "cell_type": "code",
   "execution_count": 14,
   "id": "cdfe9717",
   "metadata": {},
   "outputs": [
    {
     "data": {
      "text/html": [
       "<div>\n",
       "<style scoped>\n",
       "    .dataframe tbody tr th:only-of-type {\n",
       "        vertical-align: middle;\n",
       "    }\n",
       "\n",
       "    .dataframe tbody tr th {\n",
       "        vertical-align: top;\n",
       "    }\n",
       "\n",
       "    .dataframe thead th {\n",
       "        text-align: right;\n",
       "    }\n",
       "</style>\n",
       "<table border=\"1\" class=\"dataframe\">\n",
       "  <thead>\n",
       "    <tr style=\"text-align: right;\">\n",
       "      <th></th>\n",
       "      <th>sk_id_prev</th>\n",
       "      <th>sk_id_curr</th>\n",
       "      <th>months_balance</th>\n",
       "      <th>amt_balance</th>\n",
       "      <th>amt_credit_limit_actual</th>\n",
       "      <th>amt_drawings_atm_current</th>\n",
       "      <th>amt_drawings_current</th>\n",
       "      <th>amt_drawings_other_current</th>\n",
       "      <th>amt_drawings_pos_current</th>\n",
       "      <th>amt_inst_min_regularity</th>\n",
       "      <th>...</th>\n",
       "      <th>amt_recivable</th>\n",
       "      <th>amt_total_receivable</th>\n",
       "      <th>cnt_drawings_atm_current</th>\n",
       "      <th>cnt_drawings_current</th>\n",
       "      <th>cnt_drawings_other_current</th>\n",
       "      <th>cnt_drawings_pos_current</th>\n",
       "      <th>cnt_instalment_mature_cum</th>\n",
       "      <th>name_contract_status</th>\n",
       "      <th>sk_dpd</th>\n",
       "      <th>sk_dpd_def</th>\n",
       "    </tr>\n",
       "  </thead>\n",
       "  <tbody>\n",
       "    <tr>\n",
       "      <th>0</th>\n",
       "      <td>2843053</td>\n",
       "      <td>456214</td>\n",
       "      <td>-3</td>\n",
       "      <td>0.000</td>\n",
       "      <td>90000</td>\n",
       "      <td>0.0</td>\n",
       "      <td>0.000</td>\n",
       "      <td>0.0</td>\n",
       "      <td>48852.99</td>\n",
       "      <td>10777.410</td>\n",
       "      <td>...</td>\n",
       "      <td>0.00</td>\n",
       "      <td>0.000</td>\n",
       "      <td>0.0</td>\n",
       "      <td>0</td>\n",
       "      <td>0.0</td>\n",
       "      <td>0.0</td>\n",
       "      <td>3.0</td>\n",
       "      <td>Active</td>\n",
       "      <td>0</td>\n",
       "      <td>0</td>\n",
       "    </tr>\n",
       "    <tr>\n",
       "      <th>1</th>\n",
       "      <td>2843054</td>\n",
       "      <td>456215</td>\n",
       "      <td>-2</td>\n",
       "      <td>3479.130</td>\n",
       "      <td>450000</td>\n",
       "      <td>9000.0</td>\n",
       "      <td>0.000</td>\n",
       "      <td>0.0</td>\n",
       "      <td>0.00</td>\n",
       "      <td>13490.820</td>\n",
       "      <td>...</td>\n",
       "      <td>0.00</td>\n",
       "      <td>0.000</td>\n",
       "      <td>0.0</td>\n",
       "      <td>0</td>\n",
       "      <td>0.0</td>\n",
       "      <td>0.0</td>\n",
       "      <td>31.0</td>\n",
       "      <td>Active</td>\n",
       "      <td>0</td>\n",
       "      <td>0</td>\n",
       "    </tr>\n",
       "    <tr>\n",
       "      <th>2</th>\n",
       "      <td>2843055</td>\n",
       "      <td>456216</td>\n",
       "      <td>-59</td>\n",
       "      <td>247159.260</td>\n",
       "      <td>90000</td>\n",
       "      <td>0.0</td>\n",
       "      <td>0.000</td>\n",
       "      <td>0.0</td>\n",
       "      <td>0.00</td>\n",
       "      <td>15026.085</td>\n",
       "      <td>...</td>\n",
       "      <td>74539.71</td>\n",
       "      <td>0.000</td>\n",
       "      <td>0.0</td>\n",
       "      <td>0</td>\n",
       "      <td>0.0</td>\n",
       "      <td>0.0</td>\n",
       "      <td>4.0</td>\n",
       "      <td>Active</td>\n",
       "      <td>0</td>\n",
       "      <td>0</td>\n",
       "    </tr>\n",
       "    <tr>\n",
       "      <th>3</th>\n",
       "      <td>2843056</td>\n",
       "      <td>456217</td>\n",
       "      <td>-33</td>\n",
       "      <td>239975.235</td>\n",
       "      <td>180000</td>\n",
       "      <td>18000.0</td>\n",
       "      <td>0.000</td>\n",
       "      <td>0.0</td>\n",
       "      <td>0.00</td>\n",
       "      <td>4500.000</td>\n",
       "      <td>...</td>\n",
       "      <td>0.00</td>\n",
       "      <td>0.000</td>\n",
       "      <td>0.0</td>\n",
       "      <td>0</td>\n",
       "      <td>0.0</td>\n",
       "      <td>0.0</td>\n",
       "      <td>6.0</td>\n",
       "      <td>Active</td>\n",
       "      <td>0</td>\n",
       "      <td>0</td>\n",
       "    </tr>\n",
       "    <tr>\n",
       "      <th>4</th>\n",
       "      <td>2843057</td>\n",
       "      <td>456218</td>\n",
       "      <td>-50</td>\n",
       "      <td>232547.580</td>\n",
       "      <td>450000</td>\n",
       "      <td>0.0</td>\n",
       "      <td>11167.425</td>\n",
       "      <td>0.0</td>\n",
       "      <td>0.00</td>\n",
       "      <td>22421.430</td>\n",
       "      <td>...</td>\n",
       "      <td>0.00</td>\n",
       "      <td>-173.745</td>\n",
       "      <td>0.0</td>\n",
       "      <td>6</td>\n",
       "      <td>0.0</td>\n",
       "      <td>1.0</td>\n",
       "      <td>0.0</td>\n",
       "      <td>Completed</td>\n",
       "      <td>0</td>\n",
       "      <td>0</td>\n",
       "    </tr>\n",
       "  </tbody>\n",
       "</table>\n",
       "<p>5 rows × 23 columns</p>\n",
       "</div>"
      ],
      "text/plain": [
       "   sk_id_prev  sk_id_curr  months_balance  amt_balance  \\\n",
       "0     2843053      456214              -3        0.000   \n",
       "1     2843054      456215              -2     3479.130   \n",
       "2     2843055      456216             -59   247159.260   \n",
       "3     2843056      456217             -33   239975.235   \n",
       "4     2843057      456218             -50   232547.580   \n",
       "\n",
       "   amt_credit_limit_actual  amt_drawings_atm_current  amt_drawings_current  \\\n",
       "0                    90000                       0.0                 0.000   \n",
       "1                   450000                    9000.0                 0.000   \n",
       "2                    90000                       0.0                 0.000   \n",
       "3                   180000                   18000.0                 0.000   \n",
       "4                   450000                       0.0             11167.425   \n",
       "\n",
       "   amt_drawings_other_current  amt_drawings_pos_current  \\\n",
       "0                         0.0                  48852.99   \n",
       "1                         0.0                      0.00   \n",
       "2                         0.0                      0.00   \n",
       "3                         0.0                      0.00   \n",
       "4                         0.0                      0.00   \n",
       "\n",
       "   amt_inst_min_regularity  ...  amt_recivable  amt_total_receivable  \\\n",
       "0                10777.410  ...           0.00                 0.000   \n",
       "1                13490.820  ...           0.00                 0.000   \n",
       "2                15026.085  ...       74539.71                 0.000   \n",
       "3                 4500.000  ...           0.00                 0.000   \n",
       "4                22421.430  ...           0.00              -173.745   \n",
       "\n",
       "   cnt_drawings_atm_current  cnt_drawings_current  cnt_drawings_other_current  \\\n",
       "0                       0.0                     0                         0.0   \n",
       "1                       0.0                     0                         0.0   \n",
       "2                       0.0                     0                         0.0   \n",
       "3                       0.0                     0                         0.0   \n",
       "4                       0.0                     6                         0.0   \n",
       "\n",
       "   cnt_drawings_pos_current  cnt_instalment_mature_cum  name_contract_status  \\\n",
       "0                       0.0                        3.0                Active   \n",
       "1                       0.0                       31.0                Active   \n",
       "2                       0.0                        4.0                Active   \n",
       "3                       0.0                        6.0                Active   \n",
       "4                       1.0                        0.0             Completed   \n",
       "\n",
       "   sk_dpd  sk_dpd_def  \n",
       "0       0           0  \n",
       "1       0           0  \n",
       "2       0           0  \n",
       "3       0           0  \n",
       "4       0           0  \n",
       "\n",
       "[5 rows x 23 columns]"
      ]
     },
     "execution_count": 14,
     "metadata": {},
     "output_type": "execute_result"
    }
   ],
   "source": [
    "credit_card_balance_df_generated = generate_data(credit_card_balance_df)\n",
    "credit_card_balance_df_generated.head()"
   ]
  },
  {
   "cell_type": "code",
   "execution_count": 15,
   "id": "4ca389d5",
   "metadata": {},
   "outputs": [
    {
     "data": {
      "text/html": [
       "<div>\n",
       "<style scoped>\n",
       "    .dataframe tbody tr th:only-of-type {\n",
       "        vertical-align: middle;\n",
       "    }\n",
       "\n",
       "    .dataframe tbody tr th {\n",
       "        vertical-align: top;\n",
       "    }\n",
       "\n",
       "    .dataframe thead th {\n",
       "        text-align: right;\n",
       "    }\n",
       "</style>\n",
       "<table border=\"1\" class=\"dataframe\">\n",
       "  <thead>\n",
       "    <tr style=\"text-align: right;\">\n",
       "      <th></th>\n",
       "      <th>sk_id_prev</th>\n",
       "      <th>sk_id_curr</th>\n",
       "      <th>num_instalment_version</th>\n",
       "      <th>num_instalment_number</th>\n",
       "      <th>days_instalment</th>\n",
       "      <th>days_entry_payment</th>\n",
       "      <th>amt_instalment</th>\n",
       "      <th>amt_payment</th>\n",
       "    </tr>\n",
       "  </thead>\n",
       "  <tbody>\n",
       "    <tr>\n",
       "      <th>0</th>\n",
       "      <td>2843479</td>\n",
       "      <td>456214</td>\n",
       "      <td>1.0</td>\n",
       "      <td>1</td>\n",
       "      <td>-1419.0</td>\n",
       "      <td>-1689.0</td>\n",
       "      <td>5625.000</td>\n",
       "      <td>18976.770</td>\n",
       "    </tr>\n",
       "    <tr>\n",
       "      <th>1</th>\n",
       "      <td>2843480</td>\n",
       "      <td>456215</td>\n",
       "      <td>1.0</td>\n",
       "      <td>9</td>\n",
       "      <td>-2544.0</td>\n",
       "      <td>-1316.0</td>\n",
       "      <td>9586.305</td>\n",
       "      <td>4665.195</td>\n",
       "    </tr>\n",
       "    <tr>\n",
       "      <th>2</th>\n",
       "      <td>2843481</td>\n",
       "      <td>456216</td>\n",
       "      <td>1.0</td>\n",
       "      <td>4</td>\n",
       "      <td>-7.0</td>\n",
       "      <td>-40.0</td>\n",
       "      <td>11732.445</td>\n",
       "      <td>95316.885</td>\n",
       "    </tr>\n",
       "    <tr>\n",
       "      <th>3</th>\n",
       "      <td>2843482</td>\n",
       "      <td>456217</td>\n",
       "      <td>1.0</td>\n",
       "      <td>11</td>\n",
       "      <td>-2843.0</td>\n",
       "      <td>-710.0</td>\n",
       "      <td>28742.670</td>\n",
       "      <td>7031.655</td>\n",
       "    </tr>\n",
       "    <tr>\n",
       "      <th>4</th>\n",
       "      <td>2843483</td>\n",
       "      <td>456218</td>\n",
       "      <td>1.0</td>\n",
       "      <td>8</td>\n",
       "      <td>-23.0</td>\n",
       "      <td>-1152.0</td>\n",
       "      <td>14012.865</td>\n",
       "      <td>11031.705</td>\n",
       "    </tr>\n",
       "  </tbody>\n",
       "</table>\n",
       "</div>"
      ],
      "text/plain": [
       "   sk_id_prev  sk_id_curr  num_instalment_version  num_instalment_number  \\\n",
       "0     2843479      456214                     1.0                      1   \n",
       "1     2843480      456215                     1.0                      9   \n",
       "2     2843481      456216                     1.0                      4   \n",
       "3     2843482      456217                     1.0                     11   \n",
       "4     2843483      456218                     1.0                      8   \n",
       "\n",
       "   days_instalment  days_entry_payment  amt_instalment  amt_payment  \n",
       "0          -1419.0             -1689.0        5625.000    18976.770  \n",
       "1          -2544.0             -1316.0        9586.305     4665.195  \n",
       "2             -7.0               -40.0       11732.445    95316.885  \n",
       "3          -2843.0              -710.0       28742.670     7031.655  \n",
       "4            -23.0             -1152.0       14012.865    11031.705  "
      ]
     },
     "execution_count": 15,
     "metadata": {},
     "output_type": "execute_result"
    }
   ],
   "source": [
    "installments_payments_df_generated = generate_data(installments_payments_df)\n",
    "installments_payments_df_generated.head()"
   ]
  },
  {
   "cell_type": "code",
   "execution_count": 16,
   "id": "ffc04182",
   "metadata": {},
   "outputs": [
    {
     "data": {
      "text/html": [
       "<div>\n",
       "<style scoped>\n",
       "    .dataframe tbody tr th:only-of-type {\n",
       "        vertical-align: middle;\n",
       "    }\n",
       "\n",
       "    .dataframe tbody tr th {\n",
       "        vertical-align: top;\n",
       "    }\n",
       "\n",
       "    .dataframe thead th {\n",
       "        text-align: right;\n",
       "    }\n",
       "</style>\n",
       "<table border=\"1\" class=\"dataframe\">\n",
       "  <thead>\n",
       "    <tr style=\"text-align: right;\">\n",
       "      <th></th>\n",
       "      <th>sk_id_prev</th>\n",
       "      <th>sk_id_curr</th>\n",
       "      <th>months_balance</th>\n",
       "      <th>cnt_instalment</th>\n",
       "      <th>cnt_instalment_future</th>\n",
       "      <th>name_contract_status</th>\n",
       "      <th>sk_dpd</th>\n",
       "      <th>sk_dpd_def</th>\n",
       "    </tr>\n",
       "  </thead>\n",
       "  <tbody>\n",
       "    <tr>\n",
       "      <th>0</th>\n",
       "      <td>2843479</td>\n",
       "      <td>456214</td>\n",
       "      <td>-57</td>\n",
       "      <td>12.0</td>\n",
       "      <td>7.0</td>\n",
       "      <td>Active</td>\n",
       "      <td>0</td>\n",
       "      <td>0</td>\n",
       "    </tr>\n",
       "    <tr>\n",
       "      <th>1</th>\n",
       "      <td>2843480</td>\n",
       "      <td>456215</td>\n",
       "      <td>-6</td>\n",
       "      <td>60.0</td>\n",
       "      <td>6.0</td>\n",
       "      <td>Completed</td>\n",
       "      <td>0</td>\n",
       "      <td>0</td>\n",
       "    </tr>\n",
       "    <tr>\n",
       "      <th>2</th>\n",
       "      <td>2843481</td>\n",
       "      <td>456216</td>\n",
       "      <td>-69</td>\n",
       "      <td>24.0</td>\n",
       "      <td>1.0</td>\n",
       "      <td>Active</td>\n",
       "      <td>0</td>\n",
       "      <td>0</td>\n",
       "    </tr>\n",
       "    <tr>\n",
       "      <th>3</th>\n",
       "      <td>2843482</td>\n",
       "      <td>456217</td>\n",
       "      <td>-35</td>\n",
       "      <td>12.0</td>\n",
       "      <td>3.0</td>\n",
       "      <td>Active</td>\n",
       "      <td>0</td>\n",
       "      <td>0</td>\n",
       "    </tr>\n",
       "    <tr>\n",
       "      <th>4</th>\n",
       "      <td>2843483</td>\n",
       "      <td>456218</td>\n",
       "      <td>-62</td>\n",
       "      <td>12.0</td>\n",
       "      <td>1.0</td>\n",
       "      <td>Completed</td>\n",
       "      <td>0</td>\n",
       "      <td>0</td>\n",
       "    </tr>\n",
       "  </tbody>\n",
       "</table>\n",
       "</div>"
      ],
      "text/plain": [
       "   sk_id_prev  sk_id_curr  months_balance  cnt_instalment  \\\n",
       "0     2843479      456214             -57            12.0   \n",
       "1     2843480      456215              -6            60.0   \n",
       "2     2843481      456216             -69            24.0   \n",
       "3     2843482      456217             -35            12.0   \n",
       "4     2843483      456218             -62            12.0   \n",
       "\n",
       "   cnt_instalment_future name_contract_status  sk_dpd  sk_dpd_def  \n",
       "0                    7.0               Active       0           0  \n",
       "1                    6.0            Completed       0           0  \n",
       "2                    1.0               Active       0           0  \n",
       "3                    3.0               Active       0           0  \n",
       "4                    1.0            Completed       0           0  "
      ]
     },
     "execution_count": 16,
     "metadata": {},
     "output_type": "execute_result"
    }
   ],
   "source": [
    "pos_cash_balance_df_generated = generate_data(pos_cash_balance_df)\n",
    "pos_cash_balance_df_generated.head()"
   ]
  },
  {
   "cell_type": "code",
   "execution_count": 22,
   "id": "b4da6bb1",
   "metadata": {},
   "outputs": [
    {
     "data": {
      "text/html": [
       "<div>\n",
       "<style scoped>\n",
       "    .dataframe tbody tr th:only-of-type {\n",
       "        vertical-align: middle;\n",
       "    }\n",
       "\n",
       "    .dataframe tbody tr th {\n",
       "        vertical-align: top;\n",
       "    }\n",
       "\n",
       "    .dataframe thead th {\n",
       "        text-align: right;\n",
       "    }\n",
       "</style>\n",
       "<table border=\"1\" class=\"dataframe\">\n",
       "  <thead>\n",
       "    <tr style=\"text-align: right;\">\n",
       "      <th></th>\n",
       "      <th>sk_id_prev</th>\n",
       "      <th>sk_id_curr</th>\n",
       "      <th>name_contract_type</th>\n",
       "      <th>amt_application</th>\n",
       "      <th>amt_credit</th>\n",
       "      <th>weekday_appr_process_start</th>\n",
       "      <th>hour_appr_process_start</th>\n",
       "      <th>flag_last_appl_per_contract</th>\n",
       "      <th>nflag_last_appl_in_day</th>\n",
       "      <th>name_cash_loan_purpose</th>\n",
       "      <th>...</th>\n",
       "      <th>code_reject_reason</th>\n",
       "      <th>name_client_type</th>\n",
       "      <th>name_goods_category</th>\n",
       "      <th>name_portfolio</th>\n",
       "      <th>name_product_type</th>\n",
       "      <th>channel_type</th>\n",
       "      <th>sellerplace_area</th>\n",
       "      <th>name_seller_industry</th>\n",
       "      <th>name_yield_group</th>\n",
       "      <th>product_combination</th>\n",
       "    </tr>\n",
       "  </thead>\n",
       "  <tbody>\n",
       "    <tr>\n",
       "      <th>0</th>\n",
       "      <td>2845241</td>\n",
       "      <td>456198</td>\n",
       "      <td>Revolving loans</td>\n",
       "      <td>0.0</td>\n",
       "      <td>530482.5</td>\n",
       "      <td>MONDAY</td>\n",
       "      <td>13</td>\n",
       "      <td>Y</td>\n",
       "      <td>1</td>\n",
       "      <td>XNA</td>\n",
       "      <td>...</td>\n",
       "      <td>XAP</td>\n",
       "      <td>Repeater</td>\n",
       "      <td>XNA</td>\n",
       "      <td>Cards</td>\n",
       "      <td>walk-in</td>\n",
       "      <td>Stone</td>\n",
       "      <td>-1</td>\n",
       "      <td>XNA</td>\n",
       "      <td>high</td>\n",
       "      <td>Cash X-Sell: low</td>\n",
       "    </tr>\n",
       "    <tr>\n",
       "      <th>1</th>\n",
       "      <td>2845242</td>\n",
       "      <td>456199</td>\n",
       "      <td>Cash loans</td>\n",
       "      <td>135000.0</td>\n",
       "      <td>450000.0</td>\n",
       "      <td>FRIDAY</td>\n",
       "      <td>7</td>\n",
       "      <td>Y</td>\n",
       "      <td>1</td>\n",
       "      <td>XNA</td>\n",
       "      <td>...</td>\n",
       "      <td>SCO</td>\n",
       "      <td>New</td>\n",
       "      <td>XNA</td>\n",
       "      <td>XNA</td>\n",
       "      <td>XNA</td>\n",
       "      <td>Credit and cash offices</td>\n",
       "      <td>100</td>\n",
       "      <td>Construction</td>\n",
       "      <td>middle</td>\n",
       "      <td>POS industry with interest</td>\n",
       "    </tr>\n",
       "    <tr>\n",
       "      <th>2</th>\n",
       "      <td>2845243</td>\n",
       "      <td>456200</td>\n",
       "      <td>Cash loans</td>\n",
       "      <td>20160.0</td>\n",
       "      <td>261486.0</td>\n",
       "      <td>FRIDAY</td>\n",
       "      <td>14</td>\n",
       "      <td>Y</td>\n",
       "      <td>1</td>\n",
       "      <td>XNA</td>\n",
       "      <td>...</td>\n",
       "      <td>XAP</td>\n",
       "      <td>Repeater</td>\n",
       "      <td>XNA</td>\n",
       "      <td>Cash</td>\n",
       "      <td>x-sell</td>\n",
       "      <td>Country-wide</td>\n",
       "      <td>0</td>\n",
       "      <td>Consumer electronics</td>\n",
       "      <td>low_normal</td>\n",
       "      <td>Card Street</td>\n",
       "    </tr>\n",
       "    <tr>\n",
       "      <th>3</th>\n",
       "      <td>2845244</td>\n",
       "      <td>456201</td>\n",
       "      <td>Cash loans</td>\n",
       "      <td>0.0</td>\n",
       "      <td>74925.0</td>\n",
       "      <td>TUESDAY</td>\n",
       "      <td>12</td>\n",
       "      <td>Y</td>\n",
       "      <td>1</td>\n",
       "      <td>XAP</td>\n",
       "      <td>...</td>\n",
       "      <td>XAP</td>\n",
       "      <td>Repeater</td>\n",
       "      <td>XNA</td>\n",
       "      <td>Cash</td>\n",
       "      <td>walk-in</td>\n",
       "      <td>Credit and cash offices</td>\n",
       "      <td>-1</td>\n",
       "      <td>Consumer electronics</td>\n",
       "      <td>low_normal</td>\n",
       "      <td>Cash X-Sell: low</td>\n",
       "    </tr>\n",
       "    <tr>\n",
       "      <th>4</th>\n",
       "      <td>2845245</td>\n",
       "      <td>456202</td>\n",
       "      <td>Consumer loans</td>\n",
       "      <td>0.0</td>\n",
       "      <td>211464.0</td>\n",
       "      <td>FRIDAY</td>\n",
       "      <td>12</td>\n",
       "      <td>Y</td>\n",
       "      <td>1</td>\n",
       "      <td>XAP</td>\n",
       "      <td>...</td>\n",
       "      <td>XAP</td>\n",
       "      <td>Repeater</td>\n",
       "      <td>XNA</td>\n",
       "      <td>Cash</td>\n",
       "      <td>walk-in</td>\n",
       "      <td>Country-wide</td>\n",
       "      <td>1880</td>\n",
       "      <td>XNA</td>\n",
       "      <td>XNA</td>\n",
       "      <td>Cash</td>\n",
       "    </tr>\n",
       "  </tbody>\n",
       "</table>\n",
       "<p>5 rows × 23 columns</p>\n",
       "</div>"
      ],
      "text/plain": [
       "   sk_id_prev  sk_id_curr name_contract_type  amt_application  amt_credit  \\\n",
       "0     2845241      456198    Revolving loans              0.0    530482.5   \n",
       "1     2845242      456199         Cash loans         135000.0    450000.0   \n",
       "2     2845243      456200         Cash loans          20160.0    261486.0   \n",
       "3     2845244      456201         Cash loans              0.0     74925.0   \n",
       "4     2845245      456202     Consumer loans              0.0    211464.0   \n",
       "\n",
       "  weekday_appr_process_start  hour_appr_process_start  \\\n",
       "0                     MONDAY                       13   \n",
       "1                     FRIDAY                        7   \n",
       "2                     FRIDAY                       14   \n",
       "3                    TUESDAY                       12   \n",
       "4                     FRIDAY                       12   \n",
       "\n",
       "  flag_last_appl_per_contract  nflag_last_appl_in_day name_cash_loan_purpose  \\\n",
       "0                           Y                       1                    XNA   \n",
       "1                           Y                       1                    XNA   \n",
       "2                           Y                       1                    XNA   \n",
       "3                           Y                       1                    XAP   \n",
       "4                           Y                       1                    XAP   \n",
       "\n",
       "   ... code_reject_reason  name_client_type name_goods_category  \\\n",
       "0  ...                XAP          Repeater                 XNA   \n",
       "1  ...                SCO               New                 XNA   \n",
       "2  ...                XAP          Repeater                 XNA   \n",
       "3  ...                XAP          Repeater                 XNA   \n",
       "4  ...                XAP          Repeater                 XNA   \n",
       "\n",
       "  name_portfolio name_product_type             channel_type sellerplace_area  \\\n",
       "0          Cards           walk-in                    Stone               -1   \n",
       "1            XNA               XNA  Credit and cash offices              100   \n",
       "2           Cash            x-sell             Country-wide                0   \n",
       "3           Cash           walk-in  Credit and cash offices               -1   \n",
       "4           Cash           walk-in             Country-wide             1880   \n",
       "\n",
       "   name_seller_industry name_yield_group         product_combination  \n",
       "0                   XNA             high            Cash X-Sell: low  \n",
       "1          Construction           middle  POS industry with interest  \n",
       "2  Consumer electronics       low_normal                 Card Street  \n",
       "3  Consumer electronics       low_normal            Cash X-Sell: low  \n",
       "4                   XNA              XNA                        Cash  \n",
       "\n",
       "[5 rows x 23 columns]"
      ]
     },
     "execution_count": 22,
     "metadata": {},
     "output_type": "execute_result"
    }
   ],
   "source": [
    "previous_application_df_generated = generate_data(previous_application_df)\n",
    "previous_application_df_generated.head()"
   ]
  },
  {
   "cell_type": "code",
   "execution_count": 18,
   "id": "36ea561c",
   "metadata": {},
   "outputs": [
    {
     "data": {
      "text/html": [
       "<div>\n",
       "<style scoped>\n",
       "    .dataframe tbody tr th:only-of-type {\n",
       "        vertical-align: middle;\n",
       "    }\n",
       "\n",
       "    .dataframe tbody tr th {\n",
       "        vertical-align: top;\n",
       "    }\n",
       "\n",
       "    .dataframe thead th {\n",
       "        text-align: right;\n",
       "    }\n",
       "</style>\n",
       "<table border=\"1\" class=\"dataframe\">\n",
       "  <thead>\n",
       "    <tr style=\"text-align: right;\">\n",
       "      <th></th>\n",
       "      <th>sk_id_curr</th>\n",
       "      <th>previous_loan_counts</th>\n",
       "    </tr>\n",
       "  </thead>\n",
       "  <tbody>\n",
       "    <tr>\n",
       "      <th>0</th>\n",
       "      <td>456186</td>\n",
       "      <td>2</td>\n",
       "    </tr>\n",
       "    <tr>\n",
       "      <th>1</th>\n",
       "      <td>456187</td>\n",
       "      <td>9</td>\n",
       "    </tr>\n",
       "    <tr>\n",
       "      <th>2</th>\n",
       "      <td>456188</td>\n",
       "      <td>7</td>\n",
       "    </tr>\n",
       "    <tr>\n",
       "      <th>3</th>\n",
       "      <td>456189</td>\n",
       "      <td>4</td>\n",
       "    </tr>\n",
       "    <tr>\n",
       "      <th>4</th>\n",
       "      <td>456190</td>\n",
       "      <td>1</td>\n",
       "    </tr>\n",
       "  </tbody>\n",
       "</table>\n",
       "</div>"
      ],
      "text/plain": [
       "   sk_id_curr  previous_loan_counts\n",
       "0      456186                     2\n",
       "1      456187                     9\n",
       "2      456188                     7\n",
       "3      456189                     4\n",
       "4      456190                     1"
      ]
     },
     "execution_count": 18,
     "metadata": {},
     "output_type": "execute_result"
    }
   ],
   "source": [
    "previous_loan_counts_df_generated = generate_data(previous_loan_counts_df)\n",
    "previous_loan_counts_df_generated.head()"
   ]
  },
  {
   "cell_type": "markdown",
   "id": "5b6c5808",
   "metadata": {},
   "source": [
    "### <span style='color:#ff5f27'> ⬆️ Uploading new data to the Feature Store"
   ]
  },
  {
   "cell_type": "code",
   "execution_count": 23,
   "id": "6fd14bd8",
   "metadata": {},
   "outputs": [
    {
     "data": {
      "application/vnd.jupyter.widget-view+json": {
       "model_id": "f481810357a948599b018ac873774398",
       "version_major": 2,
       "version_minor": 0
      },
      "text/plain": [
       "Uploading Dataframe: 0.00% |          | Rows 0/10 | Elapsed Time: 00:00 | Remaining Time: ?"
      ]
     },
     "metadata": {},
     "output_type": "display_data"
    },
    {
     "name": "stdout",
     "output_type": "stream",
     "text": [
      "Launching offline feature group backfill job...\n",
      "Backfill Job started successfully, you can follow the progress at \n",
      "https://c.app.hopsworks.ai/p/398/jobs/named/application_1_offline_fg_backfill/executions\n"
     ]
    },
    {
     "data": {
      "text/plain": [
       "(<hsfs.core.job.Job at 0x7f9008b88f70>, None)"
      ]
     },
     "execution_count": 23,
     "metadata": {},
     "output_type": "execute_result"
    }
   ],
   "source": [
    "application_fg.insert(application_df_generated, write_options={\"wait_for_job\" : False})"
   ]
  },
  {
   "cell_type": "code",
   "execution_count": 24,
   "id": "c00342e7",
   "metadata": {},
   "outputs": [
    {
     "data": {
      "application/vnd.jupyter.widget-view+json": {
       "model_id": "b2b08bb75c4b4fa3b513cd37cbd44dfd",
       "version_major": 2,
       "version_minor": 0
      },
      "text/plain": [
       "Uploading Dataframe: 0.00% |          | Rows 0/10 | Elapsed Time: 00:00 | Remaining Time: ?"
      ]
     },
     "metadata": {},
     "output_type": "display_data"
    },
    {
     "name": "stdout",
     "output_type": "stream",
     "text": [
      "Launching offline feature group backfill job...\n",
      "Backfill Job started successfully, you can follow the progress at \n",
      "https://c.app.hopsworks.ai/p/398/jobs/named/bureau_balance_1_offline_fg_backfill/executions\n"
     ]
    },
    {
     "data": {
      "text/plain": [
       "(<hsfs.core.job.Job at 0x7f8f73a23790>, None)"
      ]
     },
     "execution_count": 24,
     "metadata": {},
     "output_type": "execute_result"
    }
   ],
   "source": [
    "bureau_balance_fg.insert(bureau_balance_df_generated, write_options={\"wait_for_job\" : False})"
   ]
  },
  {
   "cell_type": "code",
   "execution_count": 25,
   "id": "ab8932a5",
   "metadata": {},
   "outputs": [
    {
     "data": {
      "application/vnd.jupyter.widget-view+json": {
       "model_id": "3110fbbec0ad45abb46425362418c795",
       "version_major": 2,
       "version_minor": 0
      },
      "text/plain": [
       "Uploading Dataframe: 0.00% |          | Rows 0/10 | Elapsed Time: 00:00 | Remaining Time: ?"
      ]
     },
     "metadata": {},
     "output_type": "display_data"
    },
    {
     "name": "stdout",
     "output_type": "stream",
     "text": [
      "Launching offline feature group backfill job...\n",
      "Backfill Job started successfully, you can follow the progress at \n",
      "https://c.app.hopsworks.ai/p/398/jobs/named/bureau_1_offline_fg_backfill/executions\n"
     ]
    },
    {
     "data": {
      "text/plain": [
       "(<hsfs.core.job.Job at 0x7f8f74195580>, None)"
      ]
     },
     "execution_count": 25,
     "metadata": {},
     "output_type": "execute_result"
    }
   ],
   "source": [
    "bureau_fg.insert(bureau_df_generated, write_options={\"wait_for_job\" : False})"
   ]
  },
  {
   "cell_type": "code",
   "execution_count": 26,
   "id": "ad798c0a",
   "metadata": {},
   "outputs": [
    {
     "data": {
      "application/vnd.jupyter.widget-view+json": {
       "model_id": "a42baf2d925649e1bda1cd47e54b2aa4",
       "version_major": 2,
       "version_minor": 0
      },
      "text/plain": [
       "Uploading Dataframe: 0.00% |          | Rows 0/10 | Elapsed Time: 00:00 | Remaining Time: ?"
      ]
     },
     "metadata": {},
     "output_type": "display_data"
    },
    {
     "name": "stdout",
     "output_type": "stream",
     "text": [
      "Launching offline feature group backfill job...\n",
      "Backfill Job started successfully, you can follow the progress at \n",
      "https://c.app.hopsworks.ai/p/398/jobs/named/credit_card_balance_1_offline_fg_backfill/executions\n"
     ]
    },
    {
     "data": {
      "text/plain": [
       "(<hsfs.core.job.Job at 0x7f8f741755b0>, None)"
      ]
     },
     "execution_count": 26,
     "metadata": {},
     "output_type": "execute_result"
    }
   ],
   "source": [
    "# Only 5 concurrent upload jobs allowed by Hopsworks \n",
    "credit_card_balance_fg.insert(credit_card_balance_df_generated)"
   ]
  },
  {
   "cell_type": "code",
   "execution_count": 28,
   "id": "f15a6f8a",
   "metadata": {},
   "outputs": [
    {
     "data": {
      "application/vnd.jupyter.widget-view+json": {
       "model_id": "67df6a0ce14c43759e656b8b7be51a42",
       "version_major": 2,
       "version_minor": 0
      },
      "text/plain": [
       "Uploading Dataframe: 0.00% |          | Rows 0/10 | Elapsed Time: 00:00 | Remaining Time: ?"
      ]
     },
     "metadata": {},
     "output_type": "display_data"
    },
    {
     "name": "stdout",
     "output_type": "stream",
     "text": [
      "Launching offline feature group backfill job...\n",
      "Backfill Job started successfully, you can follow the progress at \n",
      "https://c.app.hopsworks.ai/p/398/jobs/named/installments_payments_1_offline_fg_backfill/executions\n"
     ]
    },
    {
     "data": {
      "text/plain": [
       "(<hsfs.core.job.Job at 0x7f8f738ebd90>, None)"
      ]
     },
     "execution_count": 28,
     "metadata": {},
     "output_type": "execute_result"
    }
   ],
   "source": [
    "installments_payments_fg.insert(installments_payments_df_generated, write_options={\"wait_for_job\" : False})"
   ]
  },
  {
   "cell_type": "code",
   "execution_count": 29,
   "id": "0eb48d32",
   "metadata": {},
   "outputs": [
    {
     "data": {
      "application/vnd.jupyter.widget-view+json": {
       "model_id": "fe2eaaf962574f6cae139f464d95bb4b",
       "version_major": 2,
       "version_minor": 0
      },
      "text/plain": [
       "Uploading Dataframe: 0.00% |          | Rows 0/10 | Elapsed Time: 00:00 | Remaining Time: ?"
      ]
     },
     "metadata": {},
     "output_type": "display_data"
    },
    {
     "name": "stdout",
     "output_type": "stream",
     "text": [
      "Launching offline feature group backfill job...\n",
      "Backfill Job started successfully, you can follow the progress at \n",
      "https://c.app.hopsworks.ai/p/398/jobs/named/pos_cash_balance_1_offline_fg_backfill/executions\n"
     ]
    },
    {
     "data": {
      "text/plain": [
       "(<hsfs.core.job.Job at 0x7f8f74c766d0>, None)"
      ]
     },
     "execution_count": 29,
     "metadata": {},
     "output_type": "execute_result"
    }
   ],
   "source": [
    "pos_cash_balance_fg.insert(pos_cash_balance_df_generated, write_options={\"wait_for_job\" : False})"
   ]
  },
  {
   "cell_type": "code",
   "execution_count": 30,
   "id": "8fe644e3",
   "metadata": {},
   "outputs": [
    {
     "data": {
      "application/vnd.jupyter.widget-view+json": {
       "model_id": "8eb5c9ae3d4446d39a3ab8c599c3dc6e",
       "version_major": 2,
       "version_minor": 0
      },
      "text/plain": [
       "Uploading Dataframe: 0.00% |          | Rows 0/10 | Elapsed Time: 00:00 | Remaining Time: ?"
      ]
     },
     "metadata": {},
     "output_type": "display_data"
    },
    {
     "name": "stdout",
     "output_type": "stream",
     "text": [
      "Launching offline feature group backfill job...\n",
      "Backfill Job started successfully, you can follow the progress at \n",
      "https://c.app.hopsworks.ai/p/398/jobs/named/previous_application_1_offline_fg_backfill/executions\n"
     ]
    },
    {
     "data": {
      "text/plain": [
       "(<hsfs.core.job.Job at 0x7f8f73a444f0>, None)"
      ]
     },
     "execution_count": 30,
     "metadata": {},
     "output_type": "execute_result"
    }
   ],
   "source": [
    "previous_application_fg.insert(previous_application_df_generated, write_options={\"wait_for_job\" : False})"
   ]
  },
  {
   "cell_type": "code",
   "execution_count": 31,
   "id": "f2d428bd",
   "metadata": {},
   "outputs": [
    {
     "data": {
      "application/vnd.jupyter.widget-view+json": {
       "model_id": "12cdaf57dbd24ff284feb72fca03b41f",
       "version_major": 2,
       "version_minor": 0
      },
      "text/plain": [
       "Uploading Dataframe: 0.00% |          | Rows 0/10 | Elapsed Time: 00:00 | Remaining Time: ?"
      ]
     },
     "metadata": {},
     "output_type": "display_data"
    },
    {
     "name": "stdout",
     "output_type": "stream",
     "text": [
      "Launching offline feature group backfill job...\n",
      "Backfill Job started successfully, you can follow the progress at \n",
      "https://c.app.hopsworks.ai/p/398/jobs/named/previous_loan_counts_1_offline_fg_backfill/executions\n"
     ]
    },
    {
     "data": {
      "text/plain": [
       "(<hsfs.core.job.Job at 0x7f8f73de63d0>, None)"
      ]
     },
     "execution_count": 31,
     "metadata": {},
     "output_type": "execute_result"
    },
    {
     "name": "stderr",
     "output_type": "stream",
     "text": [
      "%5|1677763833.790|REQTMOUT|user-ThinkPad-T490s#producer-5| [thrd:ssl://3.145.101.110:9092/bootstrap]: ssl://3.145.101.110:9092/1: Timed out MetadataRequest in flight (after 60061ms, timeout #0)\n",
      "%4|1677763833.790|REQTMOUT|user-ThinkPad-T490s#producer-5| [thrd:ssl://3.145.101.110:9092/bootstrap]: ssl://3.145.101.110:9092/1: Timed out 1 in-flight, 0 retry-queued, 0 out-queue, 0 partially-sent requests\n",
      "%3|1677763833.790|FAIL|user-ThinkPad-T490s#producer-5| [thrd:ssl://3.145.101.110:9092/bootstrap]: ssl://3.145.101.110:9092/1: 1 request(s) timed out: disconnect (after 1259294ms in state UP)\n",
      "%3|1677763833.792|FAIL|user-ThinkPad-T490s#producer-5| [thrd:ssl://3.142.251.253:9092/bootstrap]: ssl://3.142.251.253:9092/2: Failed to connect to broker at 3.142.251.253:9092: Network is unreachable (after 1ms in state CONNECT)\n",
      "%3|1677763834.751|FAIL|user-ThinkPad-T490s#producer-5| [thrd:ssl://c.app.hopsworks.ai:9092/bootstrap]: ssl://c.app.hopsworks.ai:9092/0: Failed to resolve 'c.app.hopsworks.ai:9092': Temporary failure in name resolution (after 2ms in state CONNECT)\n",
      "%3|1677763834.791|FAIL|user-ThinkPad-T490s#producer-5| [thrd:ssl://3.145.101.110:9092/bootstrap]: ssl://3.145.101.110:9092/1: Failed to connect to broker at 3.145.101.110:9092: Network is unreachable (after 1ms in state CONNECT)\n",
      "%3|1677763835.750|FAIL|user-ThinkPad-T490s#producer-5| [thrd:ssl://3.142.251.253:9092/bootstrap]: ssl://3.142.251.253:9092/2: Failed to connect to broker at 3.142.251.253:9092: Network is unreachable (after 0ms in state CONNECT, 1 identical error(s) suppressed)\n",
      "%3|1677763835.793|FAIL|user-ThinkPad-T490s#producer-5| [thrd:ssl://3.145.101.110:9092/bootstrap]: ssl://3.145.101.110:9092/1: Failed to connect to broker at 3.145.101.110:9092: Network is unreachable (after 1ms in state CONNECT, 1 identical error(s) suppressed)\n",
      "%3|1677763836.751|FAIL|user-ThinkPad-T490s#producer-5| [thrd:ssl://c.app.hopsworks.ai:9092/bootstrap]: ssl://c.app.hopsworks.ai:9092/0: Failed to resolve 'c.app.hopsworks.ai:9092': Temporary failure in name resolution (after 2ms in state CONNECT, 1 identical error(s) suppressed)\n",
      "%3|1677763865.752|FAIL|user-ThinkPad-T490s#producer-5| [thrd:ssl://3.142.251.253:9092/bootstrap]: ssl://3.142.251.253:9092/2: Failed to connect to broker at 3.142.251.253:9092: Network is unreachable (after 1ms in state CONNECT, 15 identical error(s) suppressed)\n",
      "%3|1677763866.753|FAIL|user-ThinkPad-T490s#producer-5| [thrd:ssl://c.app.hopsworks.ai:9092/bootstrap]: ssl://c.app.hopsworks.ai:9092/0: Failed to resolve 'c.app.hopsworks.ai:9092': Temporary failure in name resolution (after 2ms in state CONNECT, 15 identical error(s) suppressed)\n",
      "%3|1677763868.949|FAIL|user-ThinkPad-T490s#producer-5| [thrd:ssl://3.145.101.110:9092/bootstrap]: ssl://3.145.101.110:9092/1: Failed to connect to broker at 3.145.101.110:9092: Network is unreachable (after 1ms in state CONNECT, 8 identical error(s) suppressed)\n",
      "%3|1677763895.754|FAIL|user-ThinkPad-T490s#producer-5| [thrd:ssl://3.142.251.253:9092/bootstrap]: ssl://3.142.251.253:9092/2: Failed to connect to broker at 3.142.251.253:9092: Network is unreachable (after 1ms in state CONNECT, 15 identical error(s) suppressed)\n",
      "%3|1677763896.755|FAIL|user-ThinkPad-T490s#producer-5| [thrd:ssl://c.app.hopsworks.ai:9092/bootstrap]: ssl://c.app.hopsworks.ai:9092/0: Failed to resolve 'c.app.hopsworks.ai:9092': Temporary failure in name resolution (after 2ms in state CONNECT, 14 identical error(s) suppressed)\n",
      "%3|1677763903.769|FAIL|user-ThinkPad-T490s#producer-5| [thrd:ssl://3.145.101.110:9092/bootstrap]: ssl://3.145.101.110:9092/1: Failed to connect to broker at 3.145.101.110:9092: Network is unreachable (after 2ms in state CONNECT, 10 identical error(s) suppressed)\n",
      "%3|1677763925.754|FAIL|user-ThinkPad-T490s#producer-5| [thrd:ssl://3.142.251.253:9092/bootstrap]: ssl://3.142.251.253:9092/2: Failed to connect to broker at 3.142.251.253:9092: Network is unreachable (after 0ms in state CONNECT, 15 identical error(s) suppressed)\n",
      "%3|1677763926.756|FAIL|user-ThinkPad-T490s#producer-5| [thrd:ssl://c.app.hopsworks.ai:9092/bootstrap]: ssl://c.app.hopsworks.ai:9092/0: Failed to resolve 'c.app.hopsworks.ai:9092': Temporary failure in name resolution (after 2ms in state CONNECT, 15 identical error(s) suppressed)\n",
      "%3|1677763942.171|FAIL|user-ThinkPad-T490s#producer-5| [thrd:ssl://3.145.101.110:9092/bootstrap]: ssl://3.145.101.110:9092/1: Failed to connect to broker at 3.145.101.110:9092: Network is unreachable (after 1ms in state CONNECT, 4 identical error(s) suppressed)\n",
      "%3|1677763955.757|FAIL|user-ThinkPad-T490s#producer-5| [thrd:ssl://3.142.251.253:9092/bootstrap]: ssl://3.142.251.253:9092/2: Failed to connect to broker at 3.142.251.253:9092: Network is unreachable (after 1ms in state CONNECT, 15 identical error(s) suppressed)\n",
      "%3|1677763956.758|FAIL|user-ThinkPad-T490s#producer-5| [thrd:ssl://c.app.hopsworks.ai:9092/bootstrap]: ssl://c.app.hopsworks.ai:9092/0: Failed to resolve 'c.app.hopsworks.ai:9092': Temporary failure in name resolution (after 2ms in state CONNECT, 15 identical error(s) suppressed)\n",
      "%3|1677763982.169|FAIL|user-ThinkPad-T490s#producer-5| [thrd:ssl://3.145.101.110:9092/bootstrap]: ssl://3.145.101.110:9092/1: Failed to connect to broker at 3.145.101.110:9092: Network is unreachable (after 0ms in state CONNECT, 4 identical error(s) suppressed)\n",
      "%3|1677763985.758|FAIL|user-ThinkPad-T490s#producer-5| [thrd:ssl://3.142.251.253:9092/bootstrap]: ssl://3.142.251.253:9092/2: Failed to connect to broker at 3.142.251.253:9092: Network is unreachable (after 0ms in state CONNECT, 15 identical error(s) suppressed)\n",
      "%3|1677763986.759|FAIL|user-ThinkPad-T490s#producer-5| [thrd:ssl://c.app.hopsworks.ai:9092/bootstrap]: ssl://c.app.hopsworks.ai:9092/0: Failed to resolve 'c.app.hopsworks.ai:9092': Temporary failure in name resolution (after 1ms in state CONNECT, 15 identical error(s) suppressed)\n",
      "%5|1677767682.834|REQTMOUT|user-ThinkPad-T490s#producer-5| [thrd:ssl://3.142.251.253:9092/bootstrap]: ssl://3.142.251.253:9092/2: Timed out MetadataRequest in flight (after 60058ms, timeout #0)\n",
      "%4|1677767682.834|REQTMOUT|user-ThinkPad-T490s#producer-5| [thrd:ssl://3.142.251.253:9092/bootstrap]: ssl://3.142.251.253:9092/2: Timed out 1 in-flight, 0 retry-queued, 0 out-queue, 0 partially-sent requests\n",
      "%3|1677767682.834|FAIL|user-ThinkPad-T490s#producer-5| [thrd:ssl://3.142.251.253:9092/bootstrap]: ssl://3.142.251.253:9092/2: 1 request(s) timed out: disconnect (after 3129176ms in state UP)\n",
      "%5|1677768996.789|REQTMOUT|user-ThinkPad-T490s#producer-5| [thrd:ssl://3.145.101.110:9092/bootstrap]: ssl://3.145.101.110:9092/1: Timed out MetadataRequest in flight (after 60060ms, timeout #0)\n",
      "%4|1677768996.789|REQTMOUT|user-ThinkPad-T490s#producer-5| [thrd:ssl://3.145.101.110:9092/bootstrap]: ssl://3.145.101.110:9092/1: Timed out 1 in-flight, 0 retry-queued, 0 out-queue, 0 partially-sent requests\n",
      "%3|1677768996.789|FAIL|user-ThinkPad-T490s#producer-5| [thrd:ssl://3.145.101.110:9092/bootstrap]: ssl://3.145.101.110:9092/1: 1 request(s) timed out: disconnect (after 298475ms in state UP)\n",
      "%5|1677769057.644|REQTMOUT|user-ThinkPad-T490s#producer-5| [thrd:ssl://3.142.251.253:9092/bootstrap]: ssl://3.142.251.253:9092/2: Timed out MetadataRequest in flight (after 60854ms, timeout #0)\n",
      "%5|1677769057.644|REQTMOUT|user-ThinkPad-T490s#producer-5| [thrd:ssl://3.142.251.253:9092/bootstrap]: ssl://3.142.251.253:9092/2: Timed out MetadataRequest in flight (after 60059ms, timeout #1)\n",
      "%4|1677769057.644|REQTMOUT|user-ThinkPad-T490s#producer-5| [thrd:ssl://3.142.251.253:9092/bootstrap]: ssl://3.142.251.253:9092/2: Timed out 2 in-flight, 0 retry-queued, 0 out-queue, 0 partially-sent requests\n",
      "%3|1677769057.644|FAIL|user-ThinkPad-T490s#producer-5| [thrd:ssl://3.142.251.253:9092/bootstrap]: ssl://3.142.251.253:9092/2: 2 request(s) timed out: disconnect (after 358918ms in state UP)\n"
     ]
    }
   ],
   "source": [
    "previous_loan_counts_fg.insert(previous_loan_counts_df_generated, write_options={\"wait_for_job\" : False})"
   ]
  },
  {
   "cell_type": "markdown",
   "id": "5bad1325",
   "metadata": {},
   "source": [
    "---\n",
    "## <span style=\"color:#ff5f27;\">⏭️ **Next:** Part 03 </span>\n",
    "\n",
    "In the next notebook we will use our feature groups to create a feature view and then training dataset we can train a model on."
   ]
  }
 ],
 "metadata": {
  "kernelspec": {
   "display_name": "Python 3 (ipykernel)",
   "language": "python",
   "name": "python3"
  },
  "language_info": {
   "codemirror_mode": {
    "name": "ipython",
    "version": 3
   },
   "file_extension": ".py",
   "mimetype": "text/x-python",
   "name": "python",
   "nbconvert_exporter": "python",
   "pygments_lexer": "ipython3",
   "version": "3.9.7"
  }
 },
 "nbformat": 4,
 "nbformat_minor": 5
}
