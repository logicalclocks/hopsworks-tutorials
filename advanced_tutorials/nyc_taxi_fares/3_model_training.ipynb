{
 "cells": [
  {
   "cell_type": "markdown",
   "id": "5029789b",
   "metadata": {},
   "source": [
    "![hopsworks_logo](../../images/hopsworks_logo.png)\n",
    "\n",
    "# Part 03: Model training & UI Exploration\n",
    "\n",
    "[![Open In Colab](https://colab.research.google.com/assets/colab-badge.svg)](https://colab.research.google.com/github/logicalclocks/hopsworks-tutorials/blob/master/fraud_online/3_model_training.ipynb)\n",
    "\n",
    "In this last notebook, we will train a model on the dataset we created in the previous tutorial. We will train our model using standard Python and Scikit-learn, although it could just as well be trained with other machine learning frameworks such as PySpark, TensorFlow, and PyTorch. We will also show some of the exploration that can be done in Hopsworks, notably the search functions and the lineage.\n",
    "\n",
    "## 🗒️ This notebook is divided in 5 main sections:\n",
    "1. **Loading the training data**\n",
    "2. **Train the model**\n",
    "3. **Register model to Hopsworks model registry**.\n",
    "4. **Deploy the model on KServe behind Hopsworks for real-time inference requests**.\n",
    "5. **Test model deployment and use model serving rest APIs**.\n",
    "\n",
    "![tutorial-flow](../../images/03_model.png)"
   ]
  },
  {
   "cell_type": "code",
   "execution_count": 1,
   "id": "166f52f1",
   "metadata": {},
   "outputs": [
    {
     "name": "stdout",
     "output_type": "stream",
     "text": [
      "Connected. Call `.close()` to terminate connection gracefully.\n",
      "\n",
      "Logged in to project, explore it here https://c.app.hopsworks.ai:443/p/164\n"
     ]
    },
    {
     "name": "stderr",
     "output_type": "stream",
     "text": [
      "DeprecationWarning: the imp module is deprecated in favour of importlib; see the module's documentation for alternative uses\n"
     ]
    },
    {
     "name": "stdout",
     "output_type": "stream",
     "text": [
      "Connected. Call `.close()` to terminate connection gracefully.\n"
     ]
    }
   ],
   "source": [
    "import hopsworks\n",
    "\n",
    "project = hopsworks.login()\n",
    "\n",
    "fs = project.get_feature_store()"
   ]
  },
  {
   "cell_type": "markdown",
   "id": "c27a6d7b",
   "metadata": {},
   "source": [
    "---"
   ]
  },
  {
   "cell_type": "markdown",
   "id": "75a0d57b",
   "metadata": {},
   "source": [
    "## <span style=\"color:#ff5f27;\"> ⬇️ Training Dataset retrieval</span>"
   ]
  },
  {
   "cell_type": "markdown",
   "id": "5985aa4b",
   "metadata": {},
   "source": [
    "To retrieve training dataset from **Feature Store** we retrieve **Feature View** using `FeatureStore.get_feature_view` method.\n",
    "\n",
    "Then we can use **Feature View** in order to retrieve **training dataset** using `FeatureView.get_training_dataset` method.\n"
   ]
  },
  {
   "cell_type": "code",
   "execution_count": 2,
   "id": "a47e3c54",
   "metadata": {},
   "outputs": [],
   "source": [
    "nyc_fares_fv = fs.get_feature_view(\n",
    "    name = 'nyc_taxi_fares_fv',\n",
    "    version = 1\n",
    ")"
   ]
  },
  {
   "cell_type": "code",
   "execution_count": 3,
   "id": "97df39ce",
   "metadata": {},
   "outputs": [],
   "source": [
    "X_train, y_train, X_test, y_test = nyc_fares_fv.get_train_test_split(\n",
    "    training_dataset_version=2\n",
    ")"
   ]
  },
  {
   "cell_type": "code",
   "execution_count": 4,
   "id": "7694fd4b",
   "metadata": {},
   "outputs": [
    {
     "data": {
      "text/html": [
       "<div>\n",
       "<style scoped>\n",
       "    .dataframe tbody tr th:only-of-type {\n",
       "        vertical-align: middle;\n",
       "    }\n",
       "\n",
       "    .dataframe tbody tr th {\n",
       "        vertical-align: top;\n",
       "    }\n",
       "\n",
       "    .dataframe thead th {\n",
       "        text-align: right;\n",
       "    }\n",
       "</style>\n",
       "<table border=\"1\" class=\"dataframe\">\n",
       "  <thead>\n",
       "    <tr style=\"text-align: right;\">\n",
       "      <th></th>\n",
       "      <th>month_of_the_ride</th>\n",
       "      <th>ride_id</th>\n",
       "      <th>passenger_count</th>\n",
       "      <th>distance</th>\n",
       "      <th>pickup_distance_to_jfk</th>\n",
       "      <th>dropoff_distance_to_jfk</th>\n",
       "      <th>pickup_distance_to_ewr</th>\n",
       "      <th>dropoff_distance_to_ewr</th>\n",
       "      <th>pickup_distance_to_lgr</th>\n",
       "      <th>dropoff_distance_to_lgr</th>\n",
       "      <th>year</th>\n",
       "      <th>weekday</th>\n",
       "      <th>hour</th>\n",
       "    </tr>\n",
       "  </thead>\n",
       "  <tbody>\n",
       "    <tr>\n",
       "      <th>0</th>\n",
       "      <td>197001</td>\n",
       "      <td>d070e81b13f9d4ee015365f50c2b2218</td>\n",
       "      <td>3</td>\n",
       "      <td>25.752523</td>\n",
       "      <td>22.054872</td>\n",
       "      <td>28.265240</td>\n",
       "      <td>30.532599</td>\n",
       "      <td>47.690248</td>\n",
       "      <td>15.095869</td>\n",
       "      <td>31.496596</td>\n",
       "      <td>1970</td>\n",
       "      <td>0</td>\n",
       "      <td>13</td>\n",
       "    </tr>\n",
       "    <tr>\n",
       "      <th>1</th>\n",
       "      <td>197001</td>\n",
       "      <td>1f609c564f968ca69591b3e7714c9692</td>\n",
       "      <td>3</td>\n",
       "      <td>63.851680</td>\n",
       "      <td>61.279378</td>\n",
       "      <td>40.410433</td>\n",
       "      <td>74.773954</td>\n",
       "      <td>30.644042</td>\n",
       "      <td>58.522090</td>\n",
       "      <td>29.825254</td>\n",
       "      <td>1970</td>\n",
       "      <td>0</td>\n",
       "      <td>14</td>\n",
       "    </tr>\n",
       "    <tr>\n",
       "      <th>2</th>\n",
       "      <td>197001</td>\n",
       "      <td>07645c3c6b9154d6e56ee7d293f9e00f</td>\n",
       "      <td>4</td>\n",
       "      <td>23.301742</td>\n",
       "      <td>74.100019</td>\n",
       "      <td>51.679051</td>\n",
       "      <td>87.120651</td>\n",
       "      <td>63.827367</td>\n",
       "      <td>71.076367</td>\n",
       "      <td>47.910363</td>\n",
       "      <td>1970</td>\n",
       "      <td>0</td>\n",
       "      <td>14</td>\n",
       "    </tr>\n",
       "    <tr>\n",
       "      <th>3</th>\n",
       "      <td>197001</td>\n",
       "      <td>da8f1aeb90ae756d4a37816b16754204</td>\n",
       "      <td>1</td>\n",
       "      <td>73.733474</td>\n",
       "      <td>83.076283</td>\n",
       "      <td>9.932646</td>\n",
       "      <td>72.789475</td>\n",
       "      <td>14.184656</td>\n",
       "      <td>72.450431</td>\n",
       "      <td>3.128552</td>\n",
       "      <td>1970</td>\n",
       "      <td>0</td>\n",
       "      <td>14</td>\n",
       "    </tr>\n",
       "    <tr>\n",
       "      <th>4</th>\n",
       "      <td>197001</td>\n",
       "      <td>761bb0add35b8a4d4c7e381c218f2b0d</td>\n",
       "      <td>3</td>\n",
       "      <td>33.338616</td>\n",
       "      <td>53.130341</td>\n",
       "      <td>35.018678</td>\n",
       "      <td>54.076853</td>\n",
       "      <td>24.444730</td>\n",
       "      <td>44.094011</td>\n",
       "      <td>24.585567</td>\n",
       "      <td>1970</td>\n",
       "      <td>0</td>\n",
       "      <td>14</td>\n",
       "    </tr>\n",
       "  </tbody>\n",
       "</table>\n",
       "</div>"
      ],
      "text/plain": [
       "   month_of_the_ride                           ride_id  passenger_count  \\\n",
       "0             197001  d070e81b13f9d4ee015365f50c2b2218                3   \n",
       "1             197001  1f609c564f968ca69591b3e7714c9692                3   \n",
       "2             197001  07645c3c6b9154d6e56ee7d293f9e00f                4   \n",
       "3             197001  da8f1aeb90ae756d4a37816b16754204                1   \n",
       "4             197001  761bb0add35b8a4d4c7e381c218f2b0d                3   \n",
       "\n",
       "    distance  pickup_distance_to_jfk  dropoff_distance_to_jfk  \\\n",
       "0  25.752523               22.054872                28.265240   \n",
       "1  63.851680               61.279378                40.410433   \n",
       "2  23.301742               74.100019                51.679051   \n",
       "3  73.733474               83.076283                 9.932646   \n",
       "4  33.338616               53.130341                35.018678   \n",
       "\n",
       "   pickup_distance_to_ewr  dropoff_distance_to_ewr  pickup_distance_to_lgr  \\\n",
       "0               30.532599                47.690248               15.095869   \n",
       "1               74.773954                30.644042               58.522090   \n",
       "2               87.120651                63.827367               71.076367   \n",
       "3               72.789475                14.184656               72.450431   \n",
       "4               54.076853                24.444730               44.094011   \n",
       "\n",
       "   dropoff_distance_to_lgr  year  weekday  hour  \n",
       "0                31.496596  1970        0    13  \n",
       "1                29.825254  1970        0    14  \n",
       "2                47.910363  1970        0    14  \n",
       "3                 3.128552  1970        0    14  \n",
       "4                24.585567  1970        0    14  "
      ]
     },
     "execution_count": 4,
     "metadata": {},
     "output_type": "execute_result"
    }
   ],
   "source": [
    "X_test.head(5)"
   ]
  },
  {
   "cell_type": "code",
   "execution_count": 5,
   "id": "9125fd82",
   "metadata": {},
   "outputs": [],
   "source": [
    "cols_to_drop = ['ride_id']"
   ]
  },
  {
   "cell_type": "code",
   "execution_count": 6,
   "id": "5c3d7138",
   "metadata": {},
   "outputs": [],
   "source": [
    "X_train = X_train.drop(cols_to_drop, axis=1)\n",
    "X_test = X_test.drop(cols_to_drop, axis=1)"
   ]
  },
  {
   "cell_type": "code",
   "execution_count": 7,
   "id": "83cabdbd",
   "metadata": {},
   "outputs": [],
   "source": [
    "import numpy as np\n",
    "\n",
    "\n",
    "y_train = np.ravel(y_train)\n",
    "y_test = np.ravel(y_test)"
   ]
  },
  {
   "cell_type": "code",
   "execution_count": 8,
   "id": "24654c32",
   "metadata": {
    "scrolled": true
   },
   "outputs": [
    {
     "data": {
      "text/plain": [
       "array([ 20.,  29.,  35.,  48.,  84., 103., 114., 150., 153., 215., 216.,\n",
       "       219., 237.])"
      ]
     },
     "execution_count": 8,
     "metadata": {},
     "output_type": "execute_result"
    }
   ],
   "source": [
    "y_test"
   ]
  },
  {
   "cell_type": "markdown",
   "id": "078aaa45",
   "metadata": {},
   "source": [
    "---"
   ]
  },
  {
   "cell_type": "code",
   "execution_count": 9,
   "id": "9685030b",
   "metadata": {},
   "outputs": [],
   "source": [
    "import pandas as pd\n",
    "\n",
    "from sklearn.linear_model import LogisticRegression\n",
    "\n",
    "from sklearn.metrics import mean_absolute_error, r2_score"
   ]
  },
  {
   "cell_type": "markdown",
   "id": "67493ea4",
   "metadata": {},
   "source": [
    "---"
   ]
  },
  {
   "cell_type": "code",
   "execution_count": 10,
   "id": "cdb2ef14",
   "metadata": {},
   "outputs": [
    {
     "data": {
      "text/plain": [
       "(13, 12)"
      ]
     },
     "execution_count": 10,
     "metadata": {},
     "output_type": "execute_result"
    }
   ],
   "source": [
    "X_test.shape"
   ]
  },
  {
   "cell_type": "markdown",
   "id": "31f5a461",
   "metadata": {},
   "source": [
    "## <span style=\"color:#ff5f27;\">🧬 Modeling</span>"
   ]
  },
  {
   "cell_type": "code",
   "execution_count": 11,
   "id": "c1ad28f3",
   "metadata": {
    "scrolled": true
   },
   "outputs": [
    {
     "name": "stderr",
     "output_type": "stream",
     "text": [
      "ConvergenceWarning: lbfgs failed to converge (status=1):\n",
      "STOP: TOTAL NO. of ITERATIONS REACHED LIMIT.\n",
      "\n",
      "Increase the number of iterations (max_iter) or scale the data as shown in:\n",
      "    https://scikit-learn.org/stable/modules/preprocessing.html\n",
      "Please also refer to the documentation for alternative solver options:\n",
      "    https://scikit-learn.org/stable/modules/linear_model.html#logistic-regression\n"
     ]
    },
    {
     "data": {
      "text/html": [
       "<style>#sk-container-id-1 {color: black;background-color: white;}#sk-container-id-1 pre{padding: 0;}#sk-container-id-1 div.sk-toggleable {background-color: white;}#sk-container-id-1 label.sk-toggleable__label {cursor: pointer;display: block;width: 100%;margin-bottom: 0;padding: 0.3em;box-sizing: border-box;text-align: center;}#sk-container-id-1 label.sk-toggleable__label-arrow:before {content: \"▸\";float: left;margin-right: 0.25em;color: #696969;}#sk-container-id-1 label.sk-toggleable__label-arrow:hover:before {color: black;}#sk-container-id-1 div.sk-estimator:hover label.sk-toggleable__label-arrow:before {color: black;}#sk-container-id-1 div.sk-toggleable__content {max-height: 0;max-width: 0;overflow: hidden;text-align: left;background-color: #f0f8ff;}#sk-container-id-1 div.sk-toggleable__content pre {margin: 0.2em;color: black;border-radius: 0.25em;background-color: #f0f8ff;}#sk-container-id-1 input.sk-toggleable__control:checked~div.sk-toggleable__content {max-height: 200px;max-width: 100%;overflow: auto;}#sk-container-id-1 input.sk-toggleable__control:checked~label.sk-toggleable__label-arrow:before {content: \"▾\";}#sk-container-id-1 div.sk-estimator input.sk-toggleable__control:checked~label.sk-toggleable__label {background-color: #d4ebff;}#sk-container-id-1 div.sk-label input.sk-toggleable__control:checked~label.sk-toggleable__label {background-color: #d4ebff;}#sk-container-id-1 input.sk-hidden--visually {border: 0;clip: rect(1px 1px 1px 1px);clip: rect(1px, 1px, 1px, 1px);height: 1px;margin: -1px;overflow: hidden;padding: 0;position: absolute;width: 1px;}#sk-container-id-1 div.sk-estimator {font-family: monospace;background-color: #f0f8ff;border: 1px dotted black;border-radius: 0.25em;box-sizing: border-box;margin-bottom: 0.5em;}#sk-container-id-1 div.sk-estimator:hover {background-color: #d4ebff;}#sk-container-id-1 div.sk-parallel-item::after {content: \"\";width: 100%;border-bottom: 1px solid gray;flex-grow: 1;}#sk-container-id-1 div.sk-label:hover label.sk-toggleable__label {background-color: #d4ebff;}#sk-container-id-1 div.sk-serial::before {content: \"\";position: absolute;border-left: 1px solid gray;box-sizing: border-box;top: 0;bottom: 0;left: 50%;z-index: 0;}#sk-container-id-1 div.sk-serial {display: flex;flex-direction: column;align-items: center;background-color: white;padding-right: 0.2em;padding-left: 0.2em;position: relative;}#sk-container-id-1 div.sk-item {position: relative;z-index: 1;}#sk-container-id-1 div.sk-parallel {display: flex;align-items: stretch;justify-content: center;background-color: white;position: relative;}#sk-container-id-1 div.sk-item::before, #sk-container-id-1 div.sk-parallel-item::before {content: \"\";position: absolute;border-left: 1px solid gray;box-sizing: border-box;top: 0;bottom: 0;left: 50%;z-index: -1;}#sk-container-id-1 div.sk-parallel-item {display: flex;flex-direction: column;z-index: 1;position: relative;background-color: white;}#sk-container-id-1 div.sk-parallel-item:first-child::after {align-self: flex-end;width: 50%;}#sk-container-id-1 div.sk-parallel-item:last-child::after {align-self: flex-start;width: 50%;}#sk-container-id-1 div.sk-parallel-item:only-child::after {width: 0;}#sk-container-id-1 div.sk-dashed-wrapped {border: 1px dashed gray;margin: 0 0.4em 0.5em 0.4em;box-sizing: border-box;padding-bottom: 0.4em;background-color: white;}#sk-container-id-1 div.sk-label label {font-family: monospace;font-weight: bold;display: inline-block;line-height: 1.2em;}#sk-container-id-1 div.sk-label-container {text-align: center;}#sk-container-id-1 div.sk-container {/* jupyter's `normalize.less` sets `[hidden] { display: none; }` but bootstrap.min.css set `[hidden] { display: none !important; }` so we also need the `!important` here to be able to override the default hidden behavior on the sphinx rendered scikit-learn.org. See: https://github.com/scikit-learn/scikit-learn/issues/21755 */display: inline-block !important;position: relative;}#sk-container-id-1 div.sk-text-repr-fallback {display: none;}</style><div id=\"sk-container-id-1\" class=\"sk-top-container\"><div class=\"sk-text-repr-fallback\"><pre>LogisticRegression()</pre><b>In a Jupyter environment, please rerun this cell to show the HTML representation or trust the notebook. <br />On GitHub, the HTML representation is unable to render, please try loading this page with nbviewer.org.</b></div><div class=\"sk-container\" hidden><div class=\"sk-item\"><div class=\"sk-estimator sk-toggleable\"><input class=\"sk-toggleable__control sk-hidden--visually\" id=\"sk-estimator-id-1\" type=\"checkbox\" checked><label for=\"sk-estimator-id-1\" class=\"sk-toggleable__label sk-toggleable__label-arrow\">LogisticRegression</label><div class=\"sk-toggleable__content\"><pre>LogisticRegression()</pre></div></div></div></div></div>"
      ],
      "text/plain": [
       "LogisticRegression()"
      ]
     },
     "execution_count": 11,
     "metadata": {},
     "output_type": "execute_result"
    }
   ],
   "source": [
    "# we will not perform hyperparameter tuning cause the data was generated randomly\n",
    "lr_model = LogisticRegression()\n",
    "\n",
    "lr_model.fit(X_train, y_train)"
   ]
  },
  {
   "cell_type": "code",
   "execution_count": 32,
   "id": "f5221dc6",
   "metadata": {},
   "outputs": [
    {
     "data": {
      "text/plain": [
       "Index(['month_of_the_ride', 'passenger_count', 'distance',\n",
       "       'pickup_distance_to_jfk', 'dropoff_distance_to_jfk',\n",
       "       'pickup_distance_to_ewr', 'dropoff_distance_to_ewr',\n",
       "       'pickup_distance_to_lgr', 'dropoff_distance_to_lgr', 'year', 'weekday',\n",
       "       'hour'],\n",
       "      dtype='object')"
      ]
     },
     "execution_count": 32,
     "metadata": {},
     "output_type": "execute_result"
    }
   ],
   "source": [
    "X_test.columns"
   ]
  },
  {
   "cell_type": "code",
   "execution_count": 12,
   "id": "8d86f617",
   "metadata": {},
   "outputs": [
    {
     "name": "stdout",
     "output_type": "stream",
     "text": [
      "LogisticRegression R²: -0.6639530938590095\n",
      "LogisticRegression MAE: 84.15384615384616\n"
     ]
    }
   ],
   "source": [
    "lr_preds = lr_model.predict(X_test)\n",
    "\n",
    "lr_r2_score = r2_score(y_test, lr_preds)\n",
    "lr_mae = mean_absolute_error(y_test, lr_preds)\n",
    "\n",
    "print(\"LogisticRegression R²:\", lr_r2_score)\n",
    "print(\"LogisticRegression MAE:\", lr_mae)"
   ]
  },
  {
   "cell_type": "markdown",
   "id": "e91d6f12",
   "metadata": {},
   "source": [
    "### Remember, our data is random, so the results are not accurate at all."
   ]
  },
  {
   "cell_type": "code",
   "execution_count": 13,
   "id": "3cc12a31",
   "metadata": {},
   "outputs": [
    {
     "name": "stderr",
     "output_type": "stream",
     "text": [
      "DeprecationWarning: distutils Version classes are deprecated. Use packaging.version instead.\n",
      "DeprecationWarning: distutils Version classes are deprecated. Use packaging.version instead.\n",
      "FutureWarning: Pass the following variables as keyword args: x, y. From version 0.12, the only valid positional argument will be `data`, and passing other arguments without an explicit keyword will result in an error or misinterpretation.\n"
     ]
    },
    {
     "data": {
      "image/png": "[encoded data removed]",
      "text/plain": [
       "<Figure size 432x288 with 1 Axes>"
      ]
     },
     "metadata": {
      "needs_background": "light"
     },
     "output_type": "display_data"
    }
   ],
   "source": [
    "import matplotlib.pyplot as plt\n",
    "import seaborn as sns\n",
    "\n",
    "\n",
    "sns.residplot(y_test, lr_preds, color='#613F75')\n",
    "plt.title('Model Residuals')\n",
    "plt.xlabel('Obsevation #')\n",
    "plt.ylabel('Error')\n",
    "\n",
    "plt.show()"
   ]
  },
  {
   "cell_type": "markdown",
   "id": "c5d1670c",
   "metadata": {},
   "source": [
    "---"
   ]
  },
  {
   "cell_type": "markdown",
   "id": "59c4d4f5",
   "metadata": {},
   "source": [
    "## <span style=\"color:#ff5f27;\">📝 Register model in Hopsworks</span>\n",
    "\n",
    "One of the features in Hopsworks is the model registry. This is where we can store different versions of models and compare their performance. Models from the registry can then be served as API endpoints.\n",
    "\n",
    "Let's connect to the model registry using the [HSML library](https://docs.hopsworks.ai/machine-learning-api/latest) from Hopsworks."
   ]
  },
  {
   "cell_type": "code",
   "execution_count": 14,
   "id": "c2fa7301",
   "metadata": {},
   "outputs": [
    {
     "name": "stdout",
     "output_type": "stream",
     "text": [
      "Connected. Call `.close()` to terminate connection gracefully.\n"
     ]
    }
   ],
   "source": [
    "mr = project.get_model_registry()"
   ]
  },
  {
   "cell_type": "markdown",
   "id": "a62cc61f",
   "metadata": {},
   "source": [
    "Before registering the model we will export it as a pickle file using joblib."
   ]
  },
  {
   "cell_type": "code",
   "execution_count": 15,
   "id": "41d072cd",
   "metadata": {},
   "outputs": [
    {
     "data": {
      "text/plain": [
       "['model.pkl']"
      ]
     },
     "execution_count": 15,
     "metadata": {},
     "output_type": "execute_result"
    }
   ],
   "source": [
    "import joblib\n",
    "\n",
    "joblib.dump(lr_model, 'model.pkl')"
   ]
  },
  {
   "cell_type": "markdown",
   "id": "0387695e",
   "metadata": {},
   "source": [
    "### <span style=\"color:#ff5f27;\">⚙️ Model Schema</span>"
   ]
  },
  {
   "cell_type": "markdown",
   "id": "c8efe537",
   "metadata": {},
   "source": [
    "The model needs to be set up with a [Model Schema](https://docs.hopsworks.ai/machine-learning-api/latest/generated/model_schema/), which describes the inputs and outputs for a model.\n",
    "\n",
    "A Model Schema can be automatically generated from training examples, as shown below."
   ]
  },
  {
   "cell_type": "code",
   "execution_count": 16,
   "id": "531f1e4f",
   "metadata": {},
   "outputs": [
    {
     "data": {
      "text/plain": [
       "{'input_schema': {'columnar_schema': [{'name': 'month_of_the_ride',\n",
       "    'type': 'int64'},\n",
       "   {'name': 'passenger_count', 'type': 'int64'},\n",
       "   {'name': 'distance', 'type': 'float64'},\n",
       "   {'name': 'pickup_distance_to_jfk', 'type': 'float64'},\n",
       "   {'name': 'dropoff_distance_to_jfk', 'type': 'float64'},\n",
       "   {'name': 'pickup_distance_to_ewr', 'type': 'float64'},\n",
       "   {'name': 'dropoff_distance_to_ewr', 'type': 'float64'},\n",
       "   {'name': 'pickup_distance_to_lgr', 'type': 'float64'},\n",
       "   {'name': 'dropoff_distance_to_lgr', 'type': 'float64'},\n",
       "   {'name': 'year', 'type': 'int64'},\n",
       "   {'name': 'weekday', 'type': 'int64'},\n",
       "   {'name': 'hour', 'type': 'int64'}]},\n",
       " 'output_schema': {'tensor_schema': {'shape': '(87,)', 'type': 'float64'}}}"
      ]
     },
     "execution_count": 16,
     "metadata": {},
     "output_type": "execute_result"
    }
   ],
   "source": [
    "from hsml.schema import Schema\n",
    "from hsml.model_schema import ModelSchema\n",
    "\n",
    "input_schema = Schema(X_train)\n",
    "output_schema = Schema(y_train)\n",
    "model_schema = ModelSchema(input_schema=input_schema, output_schema=output_schema)\n",
    "\n",
    "model_schema.to_dict()"
   ]
  },
  {
   "cell_type": "markdown",
   "id": "f701b407",
   "metadata": {},
   "source": [
    "With the schema in place, we can finally register our model."
   ]
  },
  {
   "cell_type": "code",
   "execution_count": 17,
   "id": "f4b9c8f4",
   "metadata": {},
   "outputs": [],
   "source": [
    "metrics = {\n",
    "    'mae': lr_mae,\n",
    "    'r2_score': lr_r2_score\n",
    "}\n"
   ]
  },
  {
   "cell_type": "code",
   "execution_count": 18,
   "id": "98be66e7",
   "metadata": {},
   "outputs": [
    {
     "data": {
      "application/vnd.jupyter.widget-view+json": {
       "model_id": "2efe0e9e07ae40ee89c06a52b66d1ebb",
       "version_major": 2,
       "version_minor": 0
      },
      "text/plain": [
       "  0%|          | 0/6 [00:00<?, ?it/s]"
      ]
     },
     "metadata": {},
     "output_type": "display_data"
    },
    {
     "name": "stdout",
     "output_type": "stream",
     "text": [
      "Model created, explore it at https://c.app.hopsworks.ai:443/p/164/models/nyc_taxi_fares_model/1\n"
     ]
    },
    {
     "data": {
      "text/plain": [
       "Model(name: 'nyc_taxi_fares_model', version: 1)"
      ]
     },
     "execution_count": 18,
     "metadata": {},
     "output_type": "execute_result"
    }
   ],
   "source": [
    "model = mr.sklearn.create_model(\n",
    "    name=\"nyc_taxi_fares_model\",\n",
    "    metrics=metrics,\n",
    "    description=\"LogisticRegression.\",\n",
    "    input_example=X_test.sample(),\n",
    "    model_schema=model_schema\n",
    ")\n",
    "\n",
    "model.save('model.pkl')"
   ]
  },
  {
   "cell_type": "code",
   "execution_count": 19,
   "id": "fd0300f6",
   "metadata": {},
   "outputs": [],
   "source": [
    "# how to get a best model (when you have many of them)\n",
    "\n",
    "# EVALUATION_METRIC=\"mae\"  # or r2_score\n",
    "# SORT_METRICS_BY=\"max\" # your sorting criteria\n",
    "\n",
    "# # get best model based on custom metrics\n",
    "# best_model = mr.get_best_model(\"nyc_taxi_fares_model\",\n",
    "#                                EVALUATION_METRIC,\n",
    "#                                SORT_METRICS_BY)"
   ]
  },
  {
   "cell_type": "markdown",
   "id": "e4d11235",
   "metadata": {},
   "source": [
    "Here we have also saved an input example from the training data, which can be helpful for test purposes.\n",
    "\n",
    "It's important to know that every time you save a model with the same name, a new version of the model will be saved, so nothing will be overwritten. In this way, you can compare several versions of the same model - or create a model with a new name, if you prefer that."
   ]
  },
  {
   "cell_type": "markdown",
   "id": "7ed9e42a",
   "metadata": {},
   "source": [
    "## <a class=\"anchor\" id=\"1.5_bullet\" style=\"color:#ff5f27\"> 🚀 Model Deployment</a>"
   ]
  },
  {
   "cell_type": "code",
   "execution_count": 20,
   "id": "97150a4d",
   "metadata": {},
   "outputs": [],
   "source": [
    "# %%writefile predict_example.py\n",
    "# import os\n",
    "# import joblib\n",
    "# import numpy as np\n",
    "# import pandas as pd\n",
    "\n",
    "# import hopsworks\n",
    "\n",
    "\n",
    "# class Predict(object):\n",
    "\n",
    "#     def __init__(self):\n",
    "#         \"\"\" Initializes the serving state, reads a trained model\"\"\"        \n",
    "#         # get feature store handle\n",
    "#         project = hopsworks.login()\n",
    "#         self.fs = project.get_feature_store()\n",
    "        \n",
    "#         # load the trained model\n",
    "#         self.model = joblib.load(os.environ[\"ARTIFACT_FILES_PATH\"] + \"/model.pkl\")\n",
    "#         print(\"Initialization Complete\")\n",
    "\n",
    "#     def predict(self, inputs):\n",
    "#         \"\"\" Serves a prediction request usign a trained model\"\"\"\n",
    "#         return self.model.predict(np.array(inputs).reshape(1, -1)).tolist()"
   ]
  },
  {
   "cell_type": "code",
   "execution_count": 21,
   "id": "c827fb3d",
   "metadata": {},
   "outputs": [],
   "source": [
    "# import os\n",
    "\n",
    "# # it may fail when you run it for the first time\n",
    "# # just rerun this cell once again\n",
    "\n",
    "# dataset_api = project.get_dataset_api()\n",
    "\n",
    "# uploaded_file_path = dataset_api.upload(\"predict_example.py\", \"Models\", overwrite=True)\n",
    "# predictor_script_path = os.path.join(\"/Projects\", project.name, uploaded_file_path)"
   ]
  },
  {
   "cell_type": "code",
   "execution_count": 22,
   "id": "6f3eb29b",
   "metadata": {},
   "outputs": [],
   "source": [
    "# On cluster, I have created this file manually cause it was not creating by itself\n",
    "\n",
    "# predictor_script_path = f'hdfs:///Projects/{fs.project_name}/Jupyter/predict_example.py'"
   ]
  },
  {
   "cell_type": "code",
   "execution_count": 23,
   "id": "e5380aaa",
   "metadata": {},
   "outputs": [],
   "source": [
    "# # check if it looks correct\n",
    "\n",
    "# predictor_script_path"
   ]
  },
  {
   "cell_type": "code",
   "execution_count": 24,
   "id": "9be3068a",
   "metadata": {},
   "outputs": [],
   "source": [
    "# # since on my Windows it generated incorrectly, I will fix it manually.\n",
    "# predictor_script_path = '/Projects/romankah/Models/predict_example.py'"
   ]
  },
  {
   "cell_type": "markdown",
   "id": "68afd50b",
   "metadata": {},
   "source": [
    "---"
   ]
  },
  {
   "cell_type": "markdown",
   "id": "840103c6",
   "metadata": {},
   "source": [
    "## 📡 Create the deployment\n",
    "Here, we fetch the model we want from the model registry and define a configuration for the deployment. For the configuration, we need to specify the serving type (default or KFserving) and in this case, since we use default serving and an sklearn model, we need to give the location of the prediction script."
   ]
  },
  {
   "cell_type": "code",
   "execution_count": null,
   "id": "60b0012c",
   "metadata": {},
   "outputs": [],
   "source": [
    "# # Give it any name you want\n",
    "# deployment = model.deploy(\n",
    "#     name=\"nyctaxifares\", \n",
    "#     model_server=\"PYTHON\",\n",
    "#     script_file=predictor_script_path,\n",
    "#     serving_tool=\"KSERVE\"\n",
    "# )"
   ]
  },
  {
   "cell_type": "code",
   "execution_count": 26,
   "id": "343d2326",
   "metadata": {},
   "outputs": [],
   "source": [
    "# print(\"Deployment: \" + deployment.name)\n",
    "# deployment.describe()"
   ]
  },
  {
   "cell_type": "markdown",
   "id": "0c3227d1",
   "metadata": {},
   "source": [
    "### The deployment has now been registered. However, to start it you need to run:"
   ]
  },
  {
   "cell_type": "code",
   "execution_count": 27,
   "id": "57dc4a23",
   "metadata": {},
   "outputs": [],
   "source": [
    "# deployment.start()"
   ]
  },
  {
   "cell_type": "code",
   "execution_count": 28,
   "id": "f9673c34",
   "metadata": {},
   "outputs": [],
   "source": [
    "# deployment.get_logs()"
   ]
  },
  {
   "cell_type": "markdown",
   "id": "7acce2fa",
   "metadata": {},
   "source": [
    "## <span style='color:#ff5f27'>🔮 Predicting using deployment</span>"
   ]
  },
  {
   "cell_type": "code",
   "execution_count": 29,
   "id": "0d9cbf7c",
   "metadata": {},
   "outputs": [],
   "source": [
    "# model.input_example"
   ]
  },
  {
   "cell_type": "code",
   "execution_count": 30,
   "id": "cc3f5c09",
   "metadata": {},
   "outputs": [],
   "source": [
    "# data = {\n",
    "#     \"inputs\": model.input_example\n",
    "# }\n",
    "\n",
    "# deployment.predict(data)"
   ]
  },
  {
   "cell_type": "code",
   "execution_count": 31,
   "id": "641ab78d",
   "metadata": {},
   "outputs": [],
   "source": [
    "# deployment.stop()"
   ]
  },
  {
   "cell_type": "markdown",
   "id": "7572c573",
   "metadata": {},
   "source": [
    "---"
   ]
  },
  {
   "cell_type": "markdown",
   "id": "4b526c75",
   "metadata": {},
   "source": [
    "## <span style=\"color:#ff5f27;\"> 🎁  Wrapping things up </span>\n",
    "\n",
    "We have now performed a simple training with training data that we have created in the feature store. This concludes the fisrt module and introduction to the core aspect of the Feature store. In the second module we will introduce streaming and external feature groups for a similar fraud use case."
   ]
  }
 ],
 "metadata": {
  "kernelspec": {
   "display_name": "Python 3 (ipykernel)",
   "language": "python",
   "name": "python3"
  },
  "language_info": {
   "codemirror_mode": {
    "name": "ipython",
    "version": 3
   },
   "file_extension": ".py",
   "mimetype": "text/x-python",
   "name": "python",
   "nbconvert_exporter": "python",
   "pygments_lexer": "ipython3",
   "version": "3.8.0"
  }
 },
 "nbformat": 4,
 "nbformat_minor": 5
}
