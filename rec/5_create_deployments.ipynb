{
 "cells": [
  {
   "cell_type": "markdown",
   "metadata": {},
   "source": [
    "## Create Deployment\n",
    "\n",
    "In this notebook, we'll create a deployment for our recommendation system.\n",
    "\n",
    "**NOTE Currently the transformer scripts are not implemented.**"
   ]
  },
  {
   "cell_type": "code",
   "execution_count": null,
   "metadata": {},
   "outputs": [],
   "source": [
    "# Uncomment this cell and fill in details if you are running external Python\n",
    "import os\n",
    "key=\"\"\n",
    "with open(\"api-key.txt\", \"r\") as f:\n",
    "    key = f.read().rstrip()\n",
    "os.environ['HOPSWORKS_PROJECT']=\"hm\"\n",
    "os.environ['HOPSWORKS_HOST']=\"35.240.81.237\"\n",
    "os.environ['HOPSWORKS_API_KEY']=key"
   ]
  },
  {
   "cell_type": "code",
   "execution_count": null,
   "metadata": {},
   "outputs": [],
   "source": [
    "import hopsworks\n",
    "\n",
    "project = hopsworks.login()\n",
    "mr = project.get_model_registry()\n",
    "dataset_api = project.get_dataset_api()"
   ]
  },
  {
   "cell_type": "code",
   "execution_count": 1,
   "metadata": {},
   "outputs": [
    {
     "name": "stdout",
     "output_type": "stream",
     "text": [
      "Connected. Call `.close()` to terminate connection gracefully.\n"
     ]
    }
   ],
   "source": [
    "ranking_model = mr.get_best_model(\"ranking_model\", \"fscore\", \"max\")"
   ]
  },
  {
   "cell_type": "markdown",
   "metadata": {},
   "source": [
    "### Ranking Model Deployment"
   ]
  },
  {
   "cell_type": "markdown",
   "metadata": {},
   "source": [
    "Next, we'll deploy our ranking model. Since it is a CatBoost model we need to implement a `Predict` class that tells Hopsworks how to load the model and how to use it."
   ]
  },
  {
   "cell_type": "code",
   "execution_count": 5,
   "metadata": {},
   "outputs": [
    {
     "name": "stdout",
     "output_type": "stream",
     "text": [
      "Overwriting ranking_predictor.py\n"
     ]
    },
    {
     "name": "stderr",
     "output_type": "stream",
     "text": [
      "DeprecationWarning: `should_run_async` will not call `transform_cell` automatically in the future. Please pass the result to `transformed_cell` argument and any exception that happen during thetransform in `preprocessing_exc_tuple` in IPython 7.17 and above.\n"
     ]
    }
   ],
   "source": [
    "%%writefile ranking_predictor.py\n",
    "\n",
    "import joblib\n",
    "import os\n",
    "import numpy as np\n",
    "\n",
    "class Predict(object):\n",
    "    \n",
    "    def __init__(self):\n",
    "        # NOTE: env var ARTIFACT_FILES_PATH has the path to the model artifact files\n",
    "        self.model = joblib.load(os.environ[\"ARTIFACT_FILES_PATH\"] + \"/ranking_model.pkl\")\n",
    "\n",
    "    def predict(self, inputs):\n",
    "        features = inputs[0].pop(\"ranking_features\")\n",
    "        article_ids = inputs[0].pop(\"article_ids\")\n",
    "        \n",
    "        scores = self.model.predict_proba(features).tolist()\n",
    "        scores = np.asarray(scores)[:,1].tolist() # get scores of positive class\n",
    "        \n",
    "        return { \"scores\": scores, \"article_ids\": article_ids }"
   ]
  },
  {
   "cell_type": "code",
   "execution_count": 6,
   "metadata": {},
   "outputs": [
    {
     "data": {
      "application/vnd.jupyter.widget-view+json": {
       "model_id": "448f08c3024745ea96e5edad26fcc1ca",
       "version_major": 2,
       "version_minor": 0
      },
      "text/plain": [
       "Uploading: 0.000%|          | 0/633 elapsed<00:00 remaining<?"
      ]
     },
     "metadata": {},
     "output_type": "display_data"
    }
   ],
   "source": [
    "# copy predictor file into Hopsworks File System\n",
    "\n",
    "uploaded_file_path = dataset_api.upload(\"ranking_predictor.py\", \"Models\", overwrite=True)\n",
    "predictor_script_path = os.path.join(\"/Projects\", project.name, uploaded_file_path)"
   ]
  },
  {
   "cell_type": "code",
   "execution_count": 11,
   "metadata": {},
   "outputs": [
    {
     "name": "stdout",
     "output_type": "stream",
     "text": [
      "Overwriting ranking_transformer.py\n"
     ]
    }
   ],
   "source": [
    "%%writefile ranking_transformer.py\n",
    "\n",
    "import os\n",
    "import hsfs\n",
    "import hsml\n",
    "import hopsworks\n",
    "from opensearchpy import OpenSearch\n",
    "\n",
    "import pandas as pd\n",
    "\n",
    "\n",
    "class Transformer(object):\n",
    "    \n",
    "    def __init__(self):\n",
    "        # get feature store handle\n",
    "        fs_conn = hsfs.connection()\n",
    "        self.fs = fs_conn.get_feature_store()\n",
    "        \n",
    "        # get feature views\n",
    "        self.articles_fv = self.fs.get_feature_view(\"articles_fv\", 1)\n",
    "        self.articles_features = [feat.name for feat in self.articles_fv.schema]\n",
    "        self.customer_fv = self.fs.get_feature_view(\"customers_fv\", 1)\n",
    "        \n",
    "        # create opensearch client\n",
    "        os.environ[\"ELASTIC_ENDPOINT\"] = os.environ[\"ELASTIC_ENDPOINT\"][8:]\n",
    "        hw_conn = hopsworks.connection()\n",
    "        project = hw_conn.get_project()\n",
    "        opensearch_api = project.get_opensearch_api()\n",
    "        self.os_client = OpenSearch(**opensearch_api.get_default_py_config())\n",
    "        self.candidate_index = opensearch_api.get_project_index(\"candidate_index\")\n",
    "\n",
    "        # get ranking model feature names\n",
    "        mm_conn = hsml.connection()\n",
    "        mr = mm_conn.get_model_registry()\n",
    "        model = mr.get_model(os.environ[\"MODEL_NAME\"], os.environ[\"MODEL_VERSION\"])\n",
    "        input_schema = model.model_schema[\"input_schema\"][\"columnar_schema\"]\n",
    "        self.ranking_model_feature_names = [feat[\"name\"] for feat in input_schema]\n",
    "    \n",
    "    \n",
    "    def preprocess(self, inputs):\n",
    "        inputs = inputs[\"inputs\"][0]\n",
    "        customer_id = inputs[\"customer_id\"]\n",
    "                \n",
    "        # search for candidates\n",
    "        hits = self.search_candidates(inputs[\"query_emb\"], k=100)\n",
    "        \n",
    "        # get already bought items\n",
    "        already_bought_items_ids = self.fs.sql(\n",
    "            f\"SELECT transactions_2.article_id from transactions_2 WHERE customer_id = '{customer_id}'\"\n",
    "        ).values.reshape(-1).tolist()\n",
    "        \n",
    "        # build dfs\n",
    "        item_id_list = []\n",
    "        item_emb_list = []\n",
    "        exclude_set = set(already_bought_items_ids)\n",
    "        for el in hits:\n",
    "            item_id = str(el[\"_id\"])\n",
    "            if item_id in exclude_set:\n",
    "                continue\n",
    "            item_emb = el[\"_source\"][\"my_vector1\"]\n",
    "            item_id_list.append(item_id)\n",
    "            item_emb_list.append(item_emb)\n",
    "        item_id_df = pd.DataFrame({\"article_id\" : item_id_list})\n",
    "        item_emb_df = pd.DataFrame(item_emb_list).add_prefix(\"item_emb_\")\n",
    "        \n",
    "        # get articles feature vectors\n",
    "        articles_data = [self.articles_fv.get_feature_vector({\"article_id\" : article_id}) for article_id in item_id_list]\n",
    "        articles_df = pd.DataFrame(data=articles_data, columns=self.articles_features)\n",
    "        ranking_model_inputs = item_id_df.merge(articles_df, on=\"article_id\", how=\"left\")\n",
    "        \n",
    "        # add the user features we used with our retrieval model.\n",
    "        customer_features = self.customer_fv.get_feature_vector({\"customer_id\": customer_id}) # get customer features\n",
    "        ranking_model_inputs[\"age\"] = customer_features[1]\n",
    "        ranking_model_inputs[\"month_sin\"] = inputs[\"month_sin\"]\n",
    "        ranking_model_inputs[\"month_cos\"] = inputs[\"month_cos\"]\n",
    "        ranking_model_inputs = ranking_model_inputs[self.ranking_model_feature_names]\n",
    "        \n",
    "        return { \"inputs\" : [{\"ranking_features\": ranking_model_inputs.values.tolist(), \"article_ids\": item_id_list}] }\n",
    "\n",
    "    \n",
    "    def postprocess(self, outputs):\n",
    "        preds = outputs[\"predictions\"]\n",
    "        ranking = list(zip(preds[\"scores\"], preds[\"article_ids\"])) # merge lists\n",
    "        ranking.sort(reverse=True) # sort by score (descending)\n",
    "        return { \"ranking\": ranking }\n",
    "    \n",
    "\n",
    "    def search_candidates(self, query_emb, k=100):\n",
    "        k = 100\n",
    "        query = {\n",
    "          \"size\": k,\n",
    "          \"query\": {\n",
    "            \"knn\": {\n",
    "              \"my_vector1\": {\n",
    "                \"vector\": query_emb,\n",
    "                \"k\": k\n",
    "              }\n",
    "            }\n",
    "          }\n",
    "        }\n",
    "        return self.os_client.search(\n",
    "            body = query,\n",
    "            index = self.candidate_index\n",
    "        )[\"hits\"][\"hits\"]"
   ]
  },
  {
   "cell_type": "code",
   "execution_count": 12,
   "metadata": {},
   "outputs": [
    {
     "data": {
      "application/vnd.jupyter.widget-view+json": {
       "model_id": "49a2f091b1534e0aa3719db9824ffc41",
       "version_major": 2,
       "version_minor": 0
      },
      "text/plain": [
       "Uploading: 0.000%|          | 0/4208 elapsed<00:00 remaining<?"
      ]
     },
     "metadata": {},
     "output_type": "display_data"
    }
   ],
   "source": [
    "# copy transformer file into Hopsworks File System\n",
    "\n",
    "uploaded_file_path = dataset_api.upload(\"ranking_transformer.py\", \"Models\", overwrite=True)\n",
    "transformer_script_path = os.path.join(\"/Projects\", project.name, uploaded_file_path)"
   ]
  },
  {
   "cell_type": "markdown",
   "metadata": {},
   "source": [
    "This script must be uploaded to the cluster."
   ]
  },
  {
   "cell_type": "markdown",
   "metadata": {},
   "source": [
    "With that in place, we can finally deploy our model."
   ]
  },
  {
   "cell_type": "code",
   "execution_count": 9,
   "metadata": {},
   "outputs": [],
   "source": [
    "from hsml.transformer import Transformer\n",
    "\n",
    "ranking_transformer=Transformer(script_file=transformer_script_path)\n",
    "\n",
    "ranking_deployment = ranking_model.deploy(name=\"rankingdeployment\",\n",
    "                                          script_file=predictor_script_path,\n",
    "                                          model_server=\"PYTHON\",\n",
    "                                          serving_tool=\"KSERVE\",\n",
    "                                          transformer=ranking_transformer)"
   ]
  },
  {
   "cell_type": "code",
   "execution_count": 14,
   "metadata": {},
   "outputs": [],
   "source": [
    "# # update deployment with new transformer\n",
    "\n",
    "# ms = conn.get_model_serving()\n",
    "# ranking_deployment = ms.get_deployment(\"rankingdeployment\")\n",
    "# ranking_deployment.script_file=predictor_script_path,\n",
    "# ranking_deployment.transformer=ranking_transformer\n",
    "# ranking_deployment.artifact_version=\"CREATE\"\n",
    "# ranking_deployment.save()"
   ]
  },
  {
   "cell_type": "code",
   "execution_count": 15,
   "metadata": {},
   "outputs": [
    {
     "data": {
      "application/vnd.jupyter.widget-view+json": {
       "model_id": "f278424d86874fecaadb2f951f9da0e8",
       "version_major": 2,
       "version_minor": 0
      },
      "text/plain": [
       "  0%|          | 0/2 [00:00<?, ?it/s]"
      ]
     },
     "metadata": {},
     "output_type": "display_data"
    }
   ],
   "source": [
    "ranking_deployment.start()"
   ]
  },
  {
   "cell_type": "code",
   "execution_count": 4,
   "metadata": {},
   "outputs": [
    {
     "data": {
      "text/plain": [
       "{'ranking': [[0.6154721480612619, '736049003'],\n",
       "  [0.5540913746584363, '675281003'],\n",
       "  [0.5304851740048736, '699671004'],\n",
       "  [0.5276218532463308, '662593001'],\n",
       "  [0.5095340171841166, '551045026'],\n",
       "  [0.5026730281370363, '690526005'],\n",
       "  [0.4875691666090818, '684968002'],\n",
       "  [0.48469640644251866, '733101002'],\n",
       "  [0.47009852360637683, '664485006'],\n",
       "  [0.4630649599819785, '792530001'],\n",
       "  [0.45387771054244613, '685284001'],\n",
       "  [0.43508248336589944, '636587004'],\n",
       "  [0.433700596348246, '687524004'],\n",
       "  [0.4305113042049035, '688873020'],\n",
       "  [0.4291665002462462, '657497007'],\n",
       "  [0.4158726009456486, '665477002'],\n",
       "  [0.40194335335264186, '691446002'],\n",
       "  [0.39916236382139625, '695601001'],\n",
       "  [0.37912135024778315, '582894001'],\n",
       "  [0.37088532655694806, '527687007'],\n",
       "  [0.37029970448593785, '662344004'],\n",
       "  [0.3521281188698809, '642047001'],\n",
       "  [0.343964885720146, '416157003'],\n",
       "  [0.34029184998960804, '607718001'],\n",
       "  [0.3394021012791623, '766081001'],\n",
       "  [0.3337815506689829, '642677001'],\n",
       "  [0.3334704472499205, '660459001'],\n",
       "  [0.3309789072572052, '766569001'],\n",
       "  [0.3273593671532633, '677546002'],\n",
       "  [0.31276305803660576, '684673004'],\n",
       "  [0.3098271502921269, '549607002'],\n",
       "  [0.30617882992328216, '557247020'],\n",
       "  [0.3058657839838698, '416157025'],\n",
       "  [0.30040265244427583, '712407001'],\n",
       "  [0.29548104089819954, '537895005'],\n",
       "  [0.2900169018215553, '633136008'],\n",
       "  [0.28330097111720703, '691595001'],\n",
       "  [0.27765461356060384, '574120001'],\n",
       "  [0.27605223682544683, '569206001'],\n",
       "  [0.2544113599179974, '740376001'],\n",
       "  [0.2465483189123175, '780320001'],\n",
       "  [0.22879888888755304, '809884001'],\n",
       "  [0.22226879408286435, '677347007'],\n",
       "  [0.218788088027871, '543689001'],\n",
       "  [0.21821132870174237, '681187001'],\n",
       "  [0.21451883930037668, '616711005'],\n",
       "  [0.21419348156849055, '633790002'],\n",
       "  [0.2129763011941628, '640124003'],\n",
       "  [0.20835571916165171, '652246001'],\n",
       "  [0.2082987707768369, '740812004'],\n",
       "  [0.20690319498178872, '539290014'],\n",
       "  [0.19274251414400081, '557247017'],\n",
       "  [0.17574704202382194, '810710002'],\n",
       "  [0.1744316414724128, '790645007'],\n",
       "  [0.173947074245299, '717593001'],\n",
       "  [0.173947074245299, '663003004'],\n",
       "  [0.1711686548668553, '806724003'],\n",
       "  [0.16268054203205087, '765558001'],\n",
       "  [0.15995848143480065, '793897003'],\n",
       "  [0.1581288523223293, '650759010'],\n",
       "  [0.15203157393146358, '734929004'],\n",
       "  [0.15044858621046406, '617835005'],\n",
       "  [0.14883572964527159, '617209001'],\n",
       "  [0.14361441400316435, '378447023'],\n",
       "  [0.14273803719019226, '496111023'],\n",
       "  [0.14252030573434807, '802153001'],\n",
       "  [0.1410443276185379, '803649002'],\n",
       "  [0.14021246728012035, '683941001'],\n",
       "  [0.1390973971250705, '672590001'],\n",
       "  [0.13026803888762528, '712123001'],\n",
       "  [0.13026803888762528, '656491001'],\n",
       "  [0.1281345579667301, '378135028'],\n",
       "  [0.1251683282746762, '616732001'],\n",
       "  [0.12348692508838313, '802549001'],\n",
       "  [0.11961971347863937, '666448007'],\n",
       "  [0.11961971347863937, '612574001'],\n",
       "  [0.11897993941389844, '635986002'],\n",
       "  [0.1183772883571491, '676990001'],\n",
       "  [0.11546968080467196, '656491006'],\n",
       "  [0.11546968080467196, '632832001'],\n",
       "  [0.10963500831475889, '625548003'],\n",
       "  [0.10696329741346237, '630891001'],\n",
       "  [0.10484585489743459, '665769001'],\n",
       "  [0.10231625598768768, '577713001'],\n",
       "  [0.10192822812578303, '663236002'],\n",
       "  [0.10076590692435512, '651724002'],\n",
       "  [0.09920238780034747, '626054001'],\n",
       "  [0.09904252393807277, '695972003'],\n",
       "  [0.09331124697214802, '666448005'],\n",
       "  [0.0895535280708372, '754323002'],\n",
       "  [0.08803388640604426, '637667001'],\n",
       "  [0.0862528370663872, '627769005'],\n",
       "  [0.08457666455325583, '719002001'],\n",
       "  [0.0807813222775954, '776185004'],\n",
       "  [0.0781590296259039, '660830005'],\n",
       "  [0.07369106476121959, '643220002'],\n",
       "  [0.06762688075350866, '511923002'],\n",
       "  [0.06230922733864265, '645275001'],\n",
       "  [0.059729295748597915, '627214004'],\n",
       "  [0.05437224065361691, '633740002']]}"
      ]
     },
     "execution_count": 4,
     "metadata": {},
     "output_type": "execute_result"
    }
   ],
   "source": [
    "# test ranking deployment\n",
    "\n",
    "ms = conn.get_model_serving()\n",
    "ranking_deployment = ms.get_deployment(\"rankingdeployment\")\n",
    "test_ranking_input = {\"inputs\": [{\"month_sin\": 1.2246467991473532e-16,\n",
    "     \"query_emb\": [0.0126457736,\n",
    "      0.511958599,\n",
    "      -0.0947214961,\n",
    "      -0.293376535,\n",
    "      0.468758374,\n",
    "      0.88662535,\n",
    "      1.02364039,\n",
    "      -0.280806333,\n",
    "      0.228357121,\n",
    "      0.299074352,\n",
    "      -0.082454741,\n",
    "      -0.154759198,\n",
    "      0.920805335,\n",
    "      0.0531764328,\n",
    "      0.234613329,\n",
    "      1.12010455],\n",
    "     \"month_cos\": -1.0,\n",
    "     \"customer_id\": \"f6e35e1902674780464e8bc0f809cb5ae14883212b4f68b35b31de2facdb846f\"}]}\n",
    "\n",
    "# test ranking\n",
    "ranking_deployment.predict(test_ranking_input)"
   ]
  },
  {
   "cell_type": "code",
   "execution_count": null,
   "metadata": {},
   "outputs": [],
   "source": [
    "# ranking_deployment.stop()"
   ]
  },
  {
   "cell_type": "markdown",
   "metadata": {},
   "source": [
    "### User Model Deployment\n",
    "\n",
    "We start by deploying our user/query model."
   ]
  },
  {
   "cell_type": "code",
   "execution_count": 18,
   "metadata": {},
   "outputs": [
    {
     "name": "stdout",
     "output_type": "stream",
     "text": [
      "Connected. Call `.close()` to terminate connection gracefully.\n"
     ]
    },
    {
     "name": "stderr",
     "output_type": "stream",
     "text": [
      "VersionWarning: No version provided for getting model `query_model`, defaulting to `1`.\n"
     ]
    }
   ],
   "source": [
    "# get query_model metadata object\n",
    "\n",
    "user_model = mr.get_model(\"query_model\")"
   ]
  },
  {
   "cell_type": "code",
   "execution_count": 19,
   "metadata": {},
   "outputs": [
    {
     "name": "stdout",
     "output_type": "stream",
     "text": [
      "Overwriting querymodel_transformer.py\n"
     ]
    }
   ],
   "source": [
    "%%writefile querymodel_transformer.py\n",
    "\n",
    "import hsml\n",
    "import hsfs\n",
    "\n",
    "import numpy as np\n",
    "import os\n",
    "\n",
    "class Transformer(object):\n",
    "    \n",
    "    def __init__(self):\n",
    "        os.environ[\"ISTIO_ENDPOINT\"] = \"http://10.132.0.40:32080\"\n",
    "        os.environ[\"SERVING_API_KEY\"] = \"p6cHXoRIrqWPd5rC.TJOsBxvTkvq7LXM1zVngiMIxXvrLwkbt7rdTFqUA8I6AEeqnyXcaYkV1hiMO4QMA\"\n",
    "        \n",
    "        # get feature store handle\n",
    "        fs_conn = hsfs.connection()\n",
    "        self.fs = fs_conn.get_feature_store()\n",
    "        \n",
    "        # get feature views\n",
    "        self.customer_fv = self.fs.get_feature_view(\"customers_fv\", 1)\n",
    "        \n",
    "        # get model management handle\n",
    "        mm_conn = hsml.connection() # model management connection\n",
    "        self.ms = mm_conn.get_model_serving()\n",
    "        \n",
    "        # get ranking deployment metadata object\n",
    "        self.ranking_server = self.ms.get_deployment(\"rankingdeployment\")\n",
    "        \n",
    "\n",
    "    def preprocess(self, inputs):\n",
    "        \n",
    "        # extract month\n",
    "        month_of_purchase = inputs.pop(\"month_of_purchase\")\n",
    "        \n",
    "        # get customer features\n",
    "        customer_features = self.customer_fv.get_feature_vector(inputs)\n",
    "        \n",
    "        # enrich inputs\n",
    "        inputs[\"age\"] = customer_features[1]\n",
    "        inputs[\"month_sin\"], inputs[\"month_cos\"] = self.month_to_unit_circle(month_of_purchase)\n",
    "        \n",
    "        return {\"instances\" : [inputs]}\n",
    "    \n",
    "    \n",
    "    def postprocess(self, outputs):\n",
    "        # get ordered ranking predictions\n",
    "        return self.ranking_server.predict({ \"inputs\": outputs[\"predictions\"] })\n",
    "\n",
    "    \n",
    "    def month_to_unit_circle(self, month):\n",
    "        zero_indexed_month = month - 1\n",
    "        C = 2*np.pi/12\n",
    "        month_sin = np.sin(zero_indexed_month*C)\n",
    "        month_cos = np.cos(zero_indexed_month*C)\n",
    "        return month_sin, month_cos"
   ]
  },
  {
   "cell_type": "code",
   "execution_count": 21,
   "metadata": {},
   "outputs": [
    {
     "data": {
      "application/vnd.jupyter.widget-view+json": {
       "model_id": "9bdc00803142431fbd3d0ba7c1493778",
       "version_major": 2,
       "version_minor": 0
      },
      "text/plain": [
       "Uploading: 0.000%|          | 0/1723 elapsed<00:00 remaining<?"
      ]
     },
     "metadata": {},
     "output_type": "display_data"
    }
   ],
   "source": [
    "# copy transformer file into Hopsworks File System\n",
    "\n",
    "uploaded_file_path = dataset_api.upload(\"querymodel_transformer.py\", \"Models\", overwrite=True)\n",
    "transformer_script_path = os.path.join(\"/Projects\", project.name, uploaded_file_path)"
   ]
  },
  {
   "cell_type": "code",
   "execution_count": 22,
   "metadata": {},
   "outputs": [
    {
     "name": "stdout",
     "output_type": "stream",
     "text": [
      "Using 'TENSORFLOW_SERVING' model server instead\n"
     ]
    }
   ],
   "source": [
    "from hsml.transformer import Transformer\n",
    "\n",
    "querymodel_transformer=Transformer(script_file=transformer_script_path)\n",
    "\n",
    "user_model_deployment = user_model.deploy(name=\"querymodel\",\n",
    "                                          serving_tool=\"KSERVE\",\n",
    "                                          transformer=querymodel_transformer)"
   ]
  },
  {
   "cell_type": "code",
   "execution_count": null,
   "metadata": {
    "jupyter": {
     "source_hidden": true
    }
   },
   "outputs": [],
   "source": [
    "# update deployment with new transformer\n",
    "# from hsml.transformer import Transformer\n",
    "\n",
    "# ms = conn.get_model_serving()\n",
    "# ranking_deployment = ms.get_deployment(\"querymodel\")\n",
    "# querymodel_transformer=Transformer(script_file=transformer_script_path)\n",
    "# user_model_deployment.transformer=querymodel_transformer\n",
    "# user_model_deployment.artifact_version=\"CREATE\"\n",
    "# user_model_deployment.save()"
   ]
  },
  {
   "cell_type": "markdown",
   "metadata": {},
   "source": [
    "At this point, we have registered our deployment. To start it up we need to run:"
   ]
  },
  {
   "cell_type": "code",
   "execution_count": 23,
   "metadata": {},
   "outputs": [
    {
     "data": {
      "application/vnd.jupyter.widget-view+json": {
       "model_id": "ee47f3e0cbf14b879625df2bdc918684",
       "version_major": 2,
       "version_minor": 0
      },
      "text/plain": [
       "  0%|          | 0/2 [00:00<?, ?it/s]"
      ]
     },
     "metadata": {},
     "output_type": "display_data"
    }
   ],
   "source": [
    "user_model_deployment.start()"
   ]
  },
  {
   "cell_type": "markdown",
   "metadata": {},
   "source": [
    "We can test the deployment by making a prediction on the input example we registered together with the model."
   ]
  },
  {
   "cell_type": "markdown",
   "metadata": {},
   "source": [
    "## Get ranking of recommendations by customer"
   ]
  },
  {
   "cell_type": "code",
   "execution_count": 24,
   "metadata": {},
   "outputs": [
    {
     "data": {
      "text/plain": [
       "{'ranking': [[0.6154721480612619, '736049003'],\n",
       "  [0.5540913746584363, '675281003'],\n",
       "  [0.5304851740048736, '699671004'],\n",
       "  [0.5276218532463308, '662593001'],\n",
       "  [0.5095340171841166, '551045026'],\n",
       "  [0.5026730281370363, '690526005'],\n",
       "  [0.4875691666090818, '684968002'],\n",
       "  [0.48469640644251866, '733101002'],\n",
       "  [0.47009852360637683, '664485006'],\n",
       "  [0.4630649599819785, '792530001'],\n",
       "  [0.45387771054244613, '685284001'],\n",
       "  [0.43508248336589944, '636587004'],\n",
       "  [0.433700596348246, '687524004'],\n",
       "  [0.4305113042049035, '688873020'],\n",
       "  [0.4291665002462462, '657497007'],\n",
       "  [0.4158726009456486, '665477002'],\n",
       "  [0.40194335335264186, '691446002'],\n",
       "  [0.39916236382139625, '695601001'],\n",
       "  [0.37912135024778315, '582894001'],\n",
       "  [0.37088532655694806, '527687007'],\n",
       "  [0.37029970448593785, '662344004'],\n",
       "  [0.3521281188698809, '642047001'],\n",
       "  [0.343964885720146, '416157003'],\n",
       "  [0.34029184998960804, '607718001'],\n",
       "  [0.3394021012791623, '766081001'],\n",
       "  [0.3337815506689829, '642677001'],\n",
       "  [0.3334704472499205, '660459001'],\n",
       "  [0.3309789072572052, '766569001'],\n",
       "  [0.3273593671532633, '677546002'],\n",
       "  [0.31276305803660576, '684673004'],\n",
       "  [0.3098271502921269, '549607002'],\n",
       "  [0.30617882992328216, '557247020'],\n",
       "  [0.3058657839838698, '416157025'],\n",
       "  [0.30040265244427583, '712407001'],\n",
       "  [0.29548104089819954, '537895005'],\n",
       "  [0.2900169018215553, '633136008'],\n",
       "  [0.28330097111720703, '691595001'],\n",
       "  [0.27765461356060384, '574120001'],\n",
       "  [0.27605223682544683, '569206001'],\n",
       "  [0.2544113599179974, '740376001'],\n",
       "  [0.2465483189123175, '780320001'],\n",
       "  [0.22879888888755304, '809884001'],\n",
       "  [0.22226879408286435, '677347007'],\n",
       "  [0.218788088027871, '543689001'],\n",
       "  [0.21821132870174237, '681187001'],\n",
       "  [0.21451883930037668, '616711005'],\n",
       "  [0.21419348156849055, '633790002'],\n",
       "  [0.2129763011941628, '640124003'],\n",
       "  [0.20835571916165171, '652246001'],\n",
       "  [0.2082987707768369, '740812004'],\n",
       "  [0.20690319498178872, '539290014'],\n",
       "  [0.19274251414400081, '557247017'],\n",
       "  [0.17574704202382194, '810710002'],\n",
       "  [0.1744316414724128, '790645007'],\n",
       "  [0.173947074245299, '717593001'],\n",
       "  [0.173947074245299, '663003004'],\n",
       "  [0.1711686548668553, '806724003'],\n",
       "  [0.16268054203205087, '765558001'],\n",
       "  [0.15995848143480065, '793897003'],\n",
       "  [0.1581288523223293, '650759010'],\n",
       "  [0.15203157393146358, '734929004'],\n",
       "  [0.15044858621046406, '617835005'],\n",
       "  [0.14883572964527159, '617209001'],\n",
       "  [0.14361441400316435, '378447023'],\n",
       "  [0.14273803719019226, '496111023'],\n",
       "  [0.14252030573434807, '802153001'],\n",
       "  [0.1410443276185379, '803649002'],\n",
       "  [0.14021246728012035, '683941001'],\n",
       "  [0.1390973971250705, '672590001'],\n",
       "  [0.13026803888762528, '712123001'],\n",
       "  [0.13026803888762528, '656491001'],\n",
       "  [0.1281345579667301, '378135028'],\n",
       "  [0.1251683282746762, '616732001'],\n",
       "  [0.12348692508838313, '802549001'],\n",
       "  [0.11961971347863937, '666448007'],\n",
       "  [0.11961971347863937, '612574001'],\n",
       "  [0.11897993941389844, '635986002'],\n",
       "  [0.1183772883571491, '676990001'],\n",
       "  [0.11546968080467196, '656491006'],\n",
       "  [0.11546968080467196, '632832001'],\n",
       "  [0.10963500831475889, '625548003'],\n",
       "  [0.10696329741346237, '630891001'],\n",
       "  [0.10484585489743459, '665769001'],\n",
       "  [0.10231625598768768, '577713001'],\n",
       "  [0.10192822812578303, '663236002'],\n",
       "  [0.10076590692435512, '651724002'],\n",
       "  [0.09920238780034747, '626054001'],\n",
       "  [0.09904252393807277, '695972003'],\n",
       "  [0.09331124697214802, '666448005'],\n",
       "  [0.0895535280708372, '754323002'],\n",
       "  [0.08803388640604426, '637667001'],\n",
       "  [0.0862528370663872, '627769005'],\n",
       "  [0.08457666455325583, '719002001'],\n",
       "  [0.0807813222775954, '776185004'],\n",
       "  [0.0781590296259039, '660830005'],\n",
       "  [0.07369106476121959, '643220002'],\n",
       "  [0.06762688075350866, '511923002'],\n",
       "  [0.06230922733864265, '645275001'],\n",
       "  [0.059729295748597915, '627214004'],\n",
       "  [0.05437224065361691, '633740002']]}"
      ]
     },
     "execution_count": 24,
     "metadata": {},
     "output_type": "execute_result"
    }
   ],
   "source": [
    "customer_id = \"f6e35e1902674780464e8bc0f809cb5ae14883212b4f68b35b31de2facdb846f\"\n",
    "month_of_purchase = 7\n",
    "\n",
    "query_emb = user_model_deployment.predict({\"customer_id\": customer_id, \"month_of_purchase\": month_of_purchase})\n",
    "query_emb"
   ]
  },
  {
   "cell_type": "markdown",
   "metadata": {},
   "source": [
    "Let's stop the deployment when we're not using it."
   ]
  },
  {
   "cell_type": "code",
   "execution_count": null,
   "metadata": {},
   "outputs": [],
   "source": [
    "# user_model_deployment.stop()"
   ]
  }
 ],
 "metadata": {
  "kernelspec": {
   "display_name": "Python 3 (ipykernel)",
   "language": "python",
   "name": "python3"
  },
  "language_info": {
   "codemirror_mode": {
    "name": "ipython",
    "version": 3
   },
   "file_extension": ".py",
   "mimetype": "text/x-python",
   "name": "python",
   "nbconvert_exporter": "python",
   "pygments_lexer": "ipython3",
   "version": "3.9.7"
  }
 },
 "nbformat": 4,
 "nbformat_minor": 4
}
