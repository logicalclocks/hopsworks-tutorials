{
 "cells": [
  {
   "cell_type": "markdown",
   "id": "edc2087e",
   "metadata": {},
   "source": [
    "## Secrets API "
   ]
  },
  {
   "cell_type": "markdown",
   "id": "305d13e8",
   "metadata": {},
   "source": [
    "This API provides the possibility to manage secrets in the platform."
   ]
  },
  {
   "cell_type": "markdown",
   "id": "130e687e",
   "metadata": {},
   "source": [
    "## Scope"
   ]
  },
  {
   "cell_type": "markdown",
   "id": "8d443010",
   "metadata": {},
   "source": [
    "* Create a new secret\n",
    "* Get a secret\n",
    "* Get all secrets"
   ]
  },
  {
   "cell_type": "code",
   "execution_count": 1,
   "id": "ea3cb5c7",
   "metadata": {},
   "outputs": [],
   "source": [
    "import hopsworks"
   ]
  },
  {
   "cell_type": "markdown",
   "id": "7f69dc53",
   "metadata": {},
   "source": [
    "## Connect to the cluster"
   ]
  },
  {
   "cell_type": "code",
   "execution_count": 2,
   "id": "122c9d55",
   "metadata": {},
   "outputs": [
    {
     "name": "stdout",
     "output_type": "stream",
     "text": [
      "Connected. Call `.close()` to terminate connection gracefully.\n"
     ]
    }
   ],
   "source": [
    "# Connect to your cluster, to be used running inside Jupyter or jobs inside the cluster.\n",
    "connection = hopsworks.connection()"
   ]
  },
  {
   "cell_type": "code",
   "execution_count": 3,
   "id": "95d063db",
   "metadata": {},
   "outputs": [],
   "source": [
    "# Uncomment when connecting to the cluster from an external environment.\n",
    "# connection = hopsworks.connection(project='my_project', host='my_instance', port=443, api_key_value='apikey')"
   ]
  },
  {
   "cell_type": "markdown",
   "id": "d394b2d6",
   "metadata": {},
   "source": [
    "## Get the API"
   ]
  },
  {
   "cell_type": "code",
   "execution_count": 4,
   "id": "3ed0cd2b",
   "metadata": {},
   "outputs": [],
   "source": [
    "secrets_api = connection.get_secrets_api()"
   ]
  },
  {
   "cell_type": "markdown",
   "id": "5fb25295",
   "metadata": {},
   "source": [
    "## Create new secret"
   ]
  },
  {
   "cell_type": "code",
   "execution_count": 5,
   "id": "876a4a24",
   "metadata": {},
   "outputs": [],
   "source": [
    "SECRET_NAME=\"demo_secret\"\n",
    "SECRET_VALUE=\"secret_value\""
   ]
  },
  {
   "cell_type": "code",
   "execution_count": 6,
   "id": "dcb18a1a",
   "metadata": {},
   "outputs": [],
   "source": [
    "secret = secrets_api.create_secret(SECRET_NAME, SECRET_VALUE)"
   ]
  },
  {
   "cell_type": "markdown",
   "id": "6ae3d987",
   "metadata": {},
   "source": [
    "## Get existing secrets"
   ]
  },
  {
   "cell_type": "code",
   "execution_count": 7,
   "id": "e440d4c4",
   "metadata": {},
   "outputs": [
    {
     "data": {
      "text/plain": [
       "[Secret('demo_secret', 'PRIVATE'),\n",
       " Secret('demo_ml_meb10000_meb10000', 'PRIVATE'),\n",
       " Secret('my_project_meb10000', 'PRIVATE')]"
      ]
     },
     "execution_count": 7,
     "metadata": {},
     "output_type": "execute_result"
    }
   ],
   "source": [
    "secrets_api.get_secrets()"
   ]
  },
  {
   "cell_type": "code",
   "execution_count": 8,
   "id": "fb06835c",
   "metadata": {},
   "outputs": [],
   "source": [
    "secret = secrets_api.get_secret(SECRET_NAME)"
   ]
  },
  {
   "cell_type": "markdown",
   "id": "e567baac",
   "metadata": {},
   "source": [
    "## Secret properties"
   ]
  },
  {
   "cell_type": "code",
   "execution_count": 9,
   "id": "6193df5d",
   "metadata": {},
   "outputs": [
    {
     "data": {
      "text/plain": [
       "'demo_secret'"
      ]
     },
     "execution_count": 9,
     "metadata": {},
     "output_type": "execute_result"
    }
   ],
   "source": [
    "secret.name"
   ]
  },
  {
   "cell_type": "code",
   "execution_count": 10,
   "id": "04718b5d",
   "metadata": {},
   "outputs": [
    {
     "data": {
      "text/plain": [
       "'secret_value'"
      ]
     },
     "execution_count": 10,
     "metadata": {},
     "output_type": "execute_result"
    }
   ],
   "source": [
    "secret.value"
   ]
  },
  {
   "cell_type": "markdown",
   "id": "6af7c626",
   "metadata": {},
   "source": [
    "## Delete secret"
   ]
  },
  {
   "cell_type": "code",
   "execution_count": 11,
   "id": "0239b944",
   "metadata": {},
   "outputs": [],
   "source": [
    "secret.delete()"
   ]
  }
 ],
 "metadata": {
  "kernelspec": {
   "display_name": "Python",
   "language": "python",
   "name": "python3"
  },
  "language_info": {
   "codemirror_mode": {
    "name": "ipython",
    "version": 3
   },
   "file_extension": ".py",
   "mimetype": "text/x-python",
   "name": "python",
   "nbconvert_exporter": "python",
   "pygments_lexer": "ipython3",
   "version": "3.8.11"
  }
 },
 "nbformat": 4,
 "nbformat_minor": 5
}