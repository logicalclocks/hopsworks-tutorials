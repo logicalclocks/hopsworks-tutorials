{
 "cells": [
  {
   "cell_type": "markdown",
   "id": "0a5e5c4d",
   "metadata": {},
   "source": [
    "# Ranking of news search results"
   ]
  },
  {
   "cell_type": "markdown",
   "id": "8988ff65",
   "metadata": {},
   "source": [
    "In the previous tutorial, you learn how to search news using natural languages. In order to make the search results more useful, you will learn how to rank the search results in this tutorial. We will use the number of view as the score of news articles as it represent the popularity of the articles. The steps include:\n",
    "1. Create a view count feature group with sample view count dataset\n",
    "2. Create a feature view that join the news feature group and view count feature group\n",
    "3. Search news and rank them by view count"
   ]
  },
  {
   "cell_type": "markdown",
   "id": "6bafdd57",
   "metadata": {},
   "source": [
    "## Create a view count feature group"
   ]
  },
  {
   "cell_type": "code",
   "execution_count": null,
   "id": "246b6bb7",
   "metadata": {},
   "outputs": [],
   "source": [
    "import pandas as pd"
   ]
  },
  {
   "cell_type": "markdown",
   "id": "79a4dc31",
   "metadata": {},
   "source": [
    "First you create a sample view count dataset of the size of news feature group."
   ]
  },
  {
   "cell_type": "code",
   "execution_count": null,
   "id": "ea809cb3",
   "metadata": {},
   "outputs": [],
   "source": [
    "import random\n",
    "num_news = 300\n",
    "df_view = pd.DataFrame({\"news_id\": list(range(num_news)), \"view_cnt\": [random.randint(0, 100) for i in range(num_news)]})"
   ]
  },
  {
   "cell_type": "code",
   "execution_count": null,
   "id": "139c5c0f",
   "metadata": {},
   "outputs": [],
   "source": [
    "version = 1"
   ]
  },
  {
   "cell_type": "markdown",
   "id": "4d7d216e",
   "metadata": {},
   "source": [
    "Then you create a view count feature group and ingest the data into Hopsworks."
   ]
  },
  {
   "cell_type": "code",
   "execution_count": null,
   "id": "b007629f",
   "metadata": {},
   "outputs": [],
   "source": [
    "import hopsworks\n",
    "proj = hopsworks.login()\n",
    "fs = proj.get_feature_store()"
   ]
  },
  {
   "cell_type": "code",
   "execution_count": null,
   "id": "fbacf4c2",
   "metadata": {},
   "outputs": [],
   "source": [
    "view_fg = fs.get_or_create_feature_group(\n",
    "    name=\"view_fg\",\n",
    "    primary_key=[\"news_id\"],\n",
    "    version=version,\n",
    "    online_enabled=True,\n",
    ")\n",
    "\n",
    "view_fg.insert(df_view, write_options={\"start_offline_materialization\": False})"
   ]
  },
  {
   "cell_type": "markdown",
   "id": "43790e1d",
   "metadata": {},
   "source": [
    "## Create a feature view "
   ]
  },
  {
   "cell_type": "markdown",
   "id": "2aab5e57",
   "metadata": {},
   "source": [
    "You need to first get back the news feature group created before for the creation of feature view."
   ]
  },
  {
   "cell_type": "code",
   "execution_count": null,
   "id": "fad86561",
   "metadata": {},
   "outputs": [],
   "source": [
    "fg = news_fg = fs.get_or_create_feature_group(\n",
    "    name=\"news_fg\",\n",
    "    version=1\n",
    ")"
   ]
  },
  {
   "cell_type": "markdown",
   "id": "2ddecaa0",
   "metadata": {},
   "source": [
    "Now, you create a feature view by joining the news feature group and the view count feature group. Here, you select the heading, and the view count for ranking."
   ]
  },
  {
   "cell_type": "code",
   "execution_count": null,
   "id": "cc06c04a",
   "metadata": {},
   "outputs": [],
   "source": [
    "fv = fs.get_or_create_feature_view(\n",
    "    \"news_view\", version=version,\n",
    "    query=news_fg.select([\"heading\"]).join(view_fg.select([\"view_cnt\"]))\n",
    ")"
   ]
  },
  {
   "cell_type": "markdown",
   "id": "17fe1695",
   "metadata": {},
   "source": [
    "## Search news and rank "
   ]
  },
  {
   "cell_type": "markdown",
   "id": "29f9b343",
   "metadata": {},
   "source": [
    "Same as the previous tutorial, the news description first needs to be encoded by the same LM you used to encoded the news. And then the embedding can be used to search similar news using the feature view."
   ]
  },
  {
   "cell_type": "code",
   "execution_count": null,
   "id": "b60e0804",
   "metadata": {},
   "outputs": [],
   "source": [
    "news_description = \"news about europe\""
   ]
  },
  {
   "cell_type": "code",
   "execution_count": null,
   "id": "fcd5b0e6-ca97-480b-8205-cc16a89b7f2b",
   "metadata": {},
   "outputs": [],
   "source": [
    "!pip install sentence_transformers -q"
   ]
  },
  {
   "cell_type": "code",
   "execution_count": null,
   "id": "41b60142",
   "metadata": {},
   "outputs": [],
   "source": [
    "from sentence_transformers import SentenceTransformer\n",
    "model = SentenceTransformer('all-MiniLM-L6-v2')"
   ]
  },
  {
   "cell_type": "code",
   "execution_count": null,
   "id": "73a31f10",
   "metadata": {},
   "outputs": [],
   "source": [
    "import logging\n",
    "logging.getLogger().setLevel(logging.WARN)"
   ]
  },
  {
   "cell_type": "markdown",
   "id": "4afe07d9",
   "metadata": {},
   "source": [
    "Define some helper functions which sort and print new results."
   ]
  },
  {
   "cell_type": "code",
   "execution_count": null,
   "id": "b3da47a9",
   "metadata": {},
   "outputs": [],
   "source": [
    "def print_news(feature_vectors):\n",
    "    for feature_vector in feature_vectors:\n",
    "        print(feature_vector)"
   ]
  },
  {
   "cell_type": "code",
   "execution_count": null,
   "id": "7f7c84aa",
   "metadata": {},
   "outputs": [],
   "source": [
    "def print_sort_news(feature_vectors):\n",
    "    # sort the articles by view count\n",
    "    print(\"Ranked result:\")\n",
    "    feature_vectors = sorted(feature_vectors, key=lambda x: x[1]*-1)\n",
    "    print_news(feature_vectors)"
   ]
  },
  {
   "cell_type": "markdown",
   "id": "f5cae7d7",
   "metadata": {},
   "source": [
    "Now, you can see the top k results returned by the feature view, which are the headings and the view count. You can also see the ranked results by view count of the top k results."
   ]
  },
  {
   "cell_type": "code",
   "execution_count": null,
   "id": "6e27d333",
   "metadata": {},
   "outputs": [],
   "source": [
    "feature_vectors = fv.find_neighbors(model.encode(news_description), k=5, feature=news_fg.embedding_heading)\n",
    "print_news(feature_vectors)\n",
    "print_sort_news(feature_vectors)"
   ]
  },
  {
   "cell_type": "markdown",
   "id": "268906fb",
   "metadata": {},
   "source": [
    "Like the feature group, you can filter results in `find_neighbors` in feature view. You can also use multiple filtering conditions."
   ]
  },
  {
   "cell_type": "code",
   "execution_count": null,
   "id": "4054191b",
   "metadata": {},
   "outputs": [],
   "source": [
    "feature_vectors = fv.find_neighbors(model.encode(news_description), k=5, \n",
    "                  filter=((news_fg.newstype == \"sports\") & (news_fg.article.like(\"europe\"))),\n",
    "                 feature=news_fg.embedding_heading)\n",
    "print_news(feature_vectors)\n",
    "print_sort_news(feature_vectors)"
   ]
  },
  {
   "cell_type": "markdown",
   "id": "15e9480b",
   "metadata": {},
   "source": [
    "You can get back result by providing primary key which is the news id as well."
   ]
  },
  {
   "cell_type": "code",
   "execution_count": null,
   "id": "d8757fab",
   "metadata": {},
   "outputs": [],
   "source": [
    "feature_vectors = fv.get_feature_vector({\"news_id\": 10})\n",
    "print_news([feature_vectors])"
   ]
  },
  {
   "cell_type": "markdown",
   "id": "057aa05d",
   "metadata": {},
   "source": [
    "## Next step"
   ]
  },
  {
   "cell_type": "markdown",
   "id": "7b911f73",
   "metadata": {},
   "source": [
    "Now you are able to search articles and rank them by view count. You may be wondering why the view count does not store in the news feature group. You can find the answer and other best practices in the [guide]()."
   ]
  },
  {
   "cell_type": "code",
   "execution_count": null,
   "id": "55e58363",
   "metadata": {},
   "outputs": [],
   "source": []
  }
 ],
 "metadata": {
  "kernelspec": {
   "display_name": "Python 3",
   "language": "python",
   "name": "python3"
  },
  "language_info": {
   "codemirror_mode": {
    "name": "ipython",
    "version": 3
   },
   "file_extension": ".py",
   "mimetype": "text/x-python",
   "name": "python",
   "nbconvert_exporter": "python",
   "pygments_lexer": "ipython3",
   "version": "3.8.8"
  }
 },
 "nbformat": 4,
 "nbformat_minor": 5
}
