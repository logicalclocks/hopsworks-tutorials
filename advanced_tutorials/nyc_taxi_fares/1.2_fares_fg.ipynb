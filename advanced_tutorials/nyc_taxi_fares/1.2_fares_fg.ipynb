{
 "cells": [
  {
   "cell_type": "code",
   "execution_count": 1,
   "id": "b13c37b0",
   "metadata": {},
   "outputs": [],
   "source": [
    "import numpy as np\n",
    "import pandas as pd\n",
    "\n",
    "import hopsworks"
   ]
  },
  {
   "cell_type": "code",
   "execution_count": 2,
   "id": "fed7f937",
   "metadata": {},
   "outputs": [
    {
     "name": "stdout",
     "output_type": "stream",
     "text": [
      "Connected. Call `.close()` to terminate connection gracefully.\n",
      "\n",
      "Logged in to project, explore it here https://c.app.hopsworks.ai:443/p/164\n"
     ]
    },
    {
     "name": "stderr",
     "output_type": "stream",
     "text": [
      "DeprecationWarning: the imp module is deprecated in favour of importlib; see the module's documentation for alternative uses\n"
     ]
    },
    {
     "name": "stdout",
     "output_type": "stream",
     "text": [
      "Connected. Call `.close()` to terminate connection gracefully.\n"
     ]
    }
   ],
   "source": [
    "project = hopsworks.login()\n",
    "fs = project.get_feature_store()"
   ]
  },
  {
   "cell_type": "code",
   "execution_count": 3,
   "id": "3b609bc8",
   "metadata": {},
   "outputs": [],
   "source": [
    "cols = ['taxi_id', 'driver_id',\n",
    "       'tip', 'tolls', 'total_fare']"
   ]
  },
  {
   "cell_type": "code",
   "execution_count": 4,
   "id": "748314e3",
   "metadata": {},
   "outputs": [],
   "source": [
    "def generate_fares_data(n_records):\n",
    "    res = pd.DataFrame(columns=cols)\n",
    "    \n",
    "    for i in range(1, n_records + 1):\n",
    "        generated_values = list()\n",
    "     \n",
    "        \n",
    "        temp_df = pd.DataFrame.from_dict({\"total_fare\": [np.random.randint(3, 250)],\n",
    "                                          \"tip\": [np.random.randint(0, 60)],\n",
    "                                          \"tolls\": [np.random.randint(0, 6)],\n",
    "                                          \"taxi_id\": [np.random.randint(1, 201)],\n",
    "                                          \"driver_id\": [np.random.randint(1, 201)]\n",
    "                                         })\n",
    "        \n",
    "        res = pd.concat([temp_df, res], ignore_index=True)\n",
    "        \n",
    "        \n",
    "    return res"
   ]
  },
  {
   "cell_type": "code",
   "execution_count": 5,
   "id": "bb60710d",
   "metadata": {},
   "outputs": [],
   "source": [
    "df_fares = generate_fares_data(100)"
   ]
  },
  {
   "cell_type": "code",
   "execution_count": 6,
   "id": "162b9d49",
   "metadata": {},
   "outputs": [
    {
     "name": "stdout",
     "output_type": "stream",
     "text": [
      "  total_fare tip tolls taxi_id driver_id\n",
      "0         74  55     3     164       103\n",
      "1        244   1     5       5       177\n",
      "2        223  43     3     137        85\n",
      "3         10  59     2     164        97\n",
      "4         17  37     5      58       128\n"
     ]
    }
   ],
   "source": [
    "print(df_fares.head(5))"
   ]
  },
  {
   "cell_type": "markdown",
   "id": "b075dd19",
   "metadata": {},
   "source": [
    "## <span style=\"color:#ff5f27;\"> ⚖️ Great Expectations </span> \n",
    "\n",
    "Great Expectations’ built-in library includes more than 50 common Expectations, such as:\n",
    "\n",
    "    expect_column_values_to_not_be_null\n",
    "\n",
    "    expect_column_values_to_be_unique\n",
    "\n",
    "    expect_column_median_to_be_between...\n",
    "\n",
    "#### You can find more expectations in the [official docs](https://greatexpectations.io/expectations/)\n",
    "\n",
    "\n",
    "Clean, high quality feature data is of paramount importance to being able to train and serve high quality models. Hopsworks offers integration with [Great Expectations](https://greatexpectations.io/) to enable a smooth data validation workflow.\n",
    "\n",
    "### `More info` - [here](https://docs.hopsworks.ai/3.0/user_guides/fs/feature_group/data_validation/)"
   ]
  },
  {
   "cell_type": "code",
   "execution_count": 7,
   "id": "b36a88bf",
   "metadata": {},
   "outputs": [],
   "source": [
    "import great_expectations as ge\n",
    "\n",
    "# Create (or import an existing) expectation suite using the Great Expectations library.\n",
    "expectation_suite = ge.core.ExpectationSuite(\n",
    "    expectation_suite_name=\"validate_on_insert_suite\"\n",
    ")"
   ]
  },
  {
   "cell_type": "code",
   "execution_count": 8,
   "id": "d253a0a9",
   "metadata": {},
   "outputs": [
    {
     "data": {
      "text/plain": [
       "{\"expectation_type\": \"expect_column_values_to_be_between\", \"meta\": {}, \"kwargs\": {\"column\": \"total_fare\", \"min_value\": 3, \"max_value\": 5000}}"
      ]
     },
     "execution_count": 8,
     "metadata": {},
     "output_type": "execute_result"
    }
   ],
   "source": [
    "# lets add an expecation to the 'total_fare' column\n",
    "expectation_suite.add_expectation(\n",
    "    ge.core.ExpectationConfiguration(\n",
    "        expectation_type=\"expect_column_values_to_be_between\",\n",
    "        kwargs={\n",
    "            \"column\": \"total_fare\",\n",
    "            \"min_value\": 3, \n",
    "            \"max_value\": 5000\n",
    "        }\n",
    "    )\n",
    ")"
   ]
  },
  {
   "cell_type": "code",
   "execution_count": 9,
   "id": "ff8c589d",
   "metadata": {},
   "outputs": [
    {
     "data": {
      "application/vnd.jupyter.widget-view+json": {
       "model_id": "ae022af30b4447f5a5537f5e9f005b8f",
       "version_major": 2,
       "version_minor": 0
      },
      "text/plain": [
       "Profiling Columns:   0%|          | 0/5 [00:00<?, ?it/s, total_fare]"
      ]
     },
     "metadata": {},
     "output_type": "display_data"
    },
    {
     "name": "stdout",
     "output_type": "stream",
     "text": [
      "2022-08-21 22:51:19,863 INFO: \t38 expectation(s) included in expectation_suite.\n"
     ]
    },
    {
     "name": "stderr",
     "output_type": "stream",
     "text": [
      "DeprecationWarning: DataAsset.remove_expectations is deprecated as of v0.12.0 and will be removed in v0.16. Please use ExpectationSuite.remove_expectation instead.\n",
      "DeprecationWarning: DataAsset.remove_expectations is deprecated as of v0.12.0 and will be removed in v0.16. Please use ExpectationSuite.remove_expectation instead.\n",
      "DeprecationWarning: DataAsset.remove_expectations is deprecated as of v0.12.0 and will be removed in v0.16. Please use ExpectationSuite.remove_expectation instead.\n",
      "DeprecationWarning: DataAsset.remove_expectations is deprecated as of v0.12.0 and will be removed in v0.16. Please use ExpectationSuite.remove_expectation instead.\n",
      "DeprecationWarning: DataAsset.remove_expectations is deprecated as of v0.12.0 and will be removed in v0.16. Please use ExpectationSuite.remove_expectation instead.\n"
     ]
    }
   ],
   "source": [
    "# Using Great Expectations Profiler\n",
    "\n",
    "ge_profiler = ge.profile.BasicSuiteBuilderProfiler()\n",
    "expectation_suite_profiler, _ = ge_profiler.profile(ge.from_pandas(df_fares)) # here we pass a DataFrame to validate"
   ]
  },
  {
   "cell_type": "code",
   "execution_count": 10,
   "id": "435af741",
   "metadata": {},
   "outputs": [],
   "source": [
    "df_fares = df_fares.astype(\"int64\")"
   ]
  },
  {
   "cell_type": "code",
   "execution_count": 11,
   "id": "fca11934",
   "metadata": {},
   "outputs": [],
   "source": [
    "# lets load our ride_ids which were created moments ago for rides_fg\n",
    "df_fares[\"ride_id\"] = pd.read_csv(\"new_ride_ids.csv\")[\"ride_id\"]"
   ]
  },
  {
   "cell_type": "code",
   "execution_count": 12,
   "id": "7ca2fb05",
   "metadata": {},
   "outputs": [],
   "source": [
    "for col in [\"tip\", \"tolls\", \"total_fare\"]:\n",
    "    df_fares[col] = df_fares[col].astype(\"double\")\n"
   ]
  },
  {
   "cell_type": "code",
   "execution_count": 13,
   "id": "480431ea",
   "metadata": {},
   "outputs": [
    {
     "name": "stdout",
     "output_type": "stream",
     "text": [
      "2022-08-21 22:51:20,467 INFO: \t1 expectation(s) included in expectation_suite.\n",
      "Validation Report saved successfully, explore a summary at https://c.app.hopsworks.ai:443/p/164/fs/106/fg/620\n"
     ]
    },
    {
     "data": {
      "application/vnd.jupyter.widget-view+json": {
       "model_id": "9ba1eddcd5af4741aed79877fc85eea6",
       "version_major": 2,
       "version_minor": 0
      },
      "text/plain": [
       "Uploading Dataframe: 0.00% |          | Rows 0/100 | Elapsed Time: 00:00 | Remaining Time: ?"
      ]
     },
     "metadata": {},
     "output_type": "display_data"
    },
    {
     "name": "stdout",
     "output_type": "stream",
     "text": [
      "Launching offline feature group backfill job...\n",
      "Backfill Job started successfully, you can follow the progress at \n",
      "https://c.app.hopsworks.ai/p/164/jobs/named/fares_fg_1_offline_fg_backfill/executions\n"
     ]
    },
    {
     "data": {
      "text/plain": [
       "(<hsfs.core.job.Job at 0x285c91006d0>,\n",
       " {\n",
       "   \"evaluation_parameters\": {},\n",
       "   \"meta\": {\n",
       "     \"great_expectations_version\": \"0.15.18\",\n",
       "     \"expectation_suite_name\": \"validate_on_insert_suite\",\n",
       "     \"run_id\": {\n",
       "       \"run_name\": null,\n",
       "       \"run_time\": \"2022-08-21T20:51:20.466521+00:00\"\n",
       "     },\n",
       "     \"batch_kwargs\": {\n",
       "       \"ge_batch_id\": \"0287037a-2193-11ed-91d8-14abc5f42df5\"\n",
       "     },\n",
       "     \"batch_markers\": {},\n",
       "     \"batch_parameters\": {},\n",
       "     \"validation_time\": \"20220821T205120.466521Z\",\n",
       "     \"expectation_suite_meta\": {\n",
       "       \"great_expectations_version\": \"0.15.18\"\n",
       "     }\n",
       "   },\n",
       "   \"success\": true,\n",
       "   \"statistics\": {\n",
       "     \"evaluated_expectations\": 1,\n",
       "     \"successful_expectations\": 1,\n",
       "     \"unsuccessful_expectations\": 0,\n",
       "     \"success_percent\": 100.0\n",
       "   },\n",
       "   \"results\": [\n",
       "     {\n",
       "       \"expectation_config\": {\n",
       "         \"expectation_type\": \"expect_column_values_to_be_between\",\n",
       "         \"meta\": {\n",
       "           \"expectationId\": 239\n",
       "         },\n",
       "         \"kwargs\": {\n",
       "           \"column\": \"total_fare\",\n",
       "           \"min_value\": 3,\n",
       "           \"max_value\": 5000\n",
       "         }\n",
       "       },\n",
       "       \"success\": true,\n",
       "       \"meta\": {},\n",
       "       \"result\": {\n",
       "         \"element_count\": 100,\n",
       "         \"missing_count\": 0,\n",
       "         \"missing_percent\": 0.0,\n",
       "         \"unexpected_count\": 0,\n",
       "         \"unexpected_percent\": 0.0,\n",
       "         \"unexpected_percent_total\": 0.0,\n",
       "         \"unexpected_percent_nonmissing\": 0.0,\n",
       "         \"partial_unexpected_list\": []\n",
       "       },\n",
       "       \"exception_info\": {\n",
       "         \"raised_exception\": false,\n",
       "         \"exception_message\": null,\n",
       "         \"exception_traceback\": null\n",
       "       }\n",
       "     }\n",
       "   ]\n",
       " })"
      ]
     },
     "execution_count": 13,
     "metadata": {},
     "output_type": "execute_result"
    }
   ],
   "source": [
    "fares_fg = fs.get_or_create_feature_group(name=\"fares_fg\",\n",
    "                                          version=1,\n",
    "                                          primary_key=[\"ride_id\"], \n",
    "                                          description=\"Taxi fares features\",\n",
    "                                          expectation_suite=expectation_suite,\n",
    "                                          time_travel_format=\"HUDI\",  \n",
    "                                          online_enabled=True,\n",
    "                                          statistics_config=True)   \n",
    "fares_fg.insert(df_fares)"
   ]
  }
 ],
 "metadata": {
  "kernelspec": {
   "display_name": "Python 3 (ipykernel)",
   "language": "python",
   "name": "python3"
  },
  "language_info": {
   "codemirror_mode": {
    "name": "ipython",
    "version": 3
   },
   "file_extension": ".py",
   "mimetype": "text/x-python",
   "name": "python",
   "nbconvert_exporter": "python",
   "pygments_lexer": "ipython3",
   "version": "3.8.0"
  }
 },
 "nbformat": 4,
 "nbformat_minor": 5
}
