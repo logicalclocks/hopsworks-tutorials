{
 "cells": [
  {
   "cell_type": "markdown",
   "id": "ea74a8c6",
   "metadata": {
    "id": "ea74a8c6"
   },
   "source": [
    "# <span style=\"font-width:bold; font-size: 3rem; color:#1EB182;\">**Hopsworks Feature Store** </span> <span style=\"font-width:bold; font-size: 3rem; color:#333;\">- Part 05: Batch Predictions</span>\n",
    "\n",
    "\n",
    "[![Open In Colab](https://colab.research.google.com/assets/colab-badge.svg)](https://colab.research.google.com/github/logicalclocks/hopsworks-tutorials/blob/master/advanced_tutorials/electricity/5_batch_predictions.ipynb)\n",
    "\n",
    "## 🗒️ This notebook is divided into 2 main sections:\n",
    "\n",
    "1. **Loading batch data**,\n",
    "2. **Prediction using model from Model Registry**.\n",
    "\n",
    "![tutorial-flow](https://github.com/logicalclocks/hopsworks-tutorials/blob/master/images/03_model.png?raw=1)"
   ]
  },
  {
   "cell_type": "markdown",
   "id": "fd800fe8",
   "metadata": {
    "id": "fd800fe8"
   },
   "source": [
    "### <span style=\"color:#ff5f27;\">📝 Importing Libraries</span>"
   ]
  },
  {
   "cell_type": "code",
   "execution_count": null,
   "id": "1a62f417",
   "metadata": {
    "id": "1a62f417"
   },
   "outputs": [],
   "source": [
    "!pip install -U hopsworks --quiet\n",
    "!pip install -U tensorflow --quiet"
   ]
  },
  {
   "cell_type": "code",
   "execution_count": null,
   "id": "ba5d4528",
   "metadata": {
    "id": "ba5d4528"
   },
   "outputs": [],
   "source": [
    "import tensorflow as tf\n",
    "import pandas as pd"
   ]
  },
  {
   "cell_type": "markdown",
   "id": "0fcadb24",
   "metadata": {
    "id": "0fcadb24"
   },
   "source": [
    "---"
   ]
  },
  {
   "cell_type": "markdown",
   "id": "258619e7",
   "metadata": {
    "id": "258619e7"
   },
   "source": [
    "## <span style=\"color:#ff5f27;\"> 📡 Connecting to Hopsworks Feature Store </span>"
   ]
  },
  {
   "cell_type": "code",
   "execution_count": null,
   "id": "f0e25048",
   "metadata": {
    "colab": {
     "base_uri": "https://localhost:8080/"
    },
    "id": "f0e25048",
    "outputId": "82449571-84e3-4dd8-d88e-5b7b5f49d04f"
   },
   "outputs": [],
   "source": [
    "import hopsworks\n",
    "\n",
    "project = hopsworks.login()\n",
    "\n",
    "fs = project.get_feature_store()"
   ]
  },
  {
   "cell_type": "markdown",
   "id": "d4e1cf29",
   "metadata": {
    "id": "d4e1cf29"
   },
   "source": [
    "---"
   ]
  },
  {
   "cell_type": "markdown",
   "id": "e376e54c",
   "metadata": {
    "id": "e376e54c"
   },
   "source": [
    "## <span style=\"color:#ff5f27;\"> ✨ Load recent batch data</span>\n",
    "\n",
    "First, you will need to fetch the training dataset that you created in the previous notebook. You will use January-February data."
   ]
  },
  {
   "cell_type": "code",
   "execution_count": null,
   "id": "f946979c",
   "metadata": {
    "id": "f946979c"
   },
   "outputs": [],
   "source": [
    "import datetime\n",
    "start_date = (datetime.datetime.now() - datetime.timedelta(days=5)) \n",
    "start_time = int(start_date.timestamp()) * 1000"
   ]
  },
  {
   "cell_type": "code",
   "execution_count": null,
   "id": "4bc478d7",
   "metadata": {
    "id": "4bc478d7"
   },
   "outputs": [],
   "source": [
    "feature_view = fs.get_feature_view(\"electricity_feature_view\", 1)\n",
    "feature_view.init_batch_scoring(training_dataset_version=1)\n",
    "df = feature_view.get_batch_data(start_time=start_time)\n",
    "df.sort_values([\"timestamp\"], inplace=True)"
   ]
  },
  {
   "cell_type": "code",
   "execution_count": null,
   "id": "ee0046e3",
   "metadata": {
    "id": "ee0046e3"
   },
   "outputs": [],
   "source": [
    "df = df.drop([\"day\", \"timestamp\"], axis=1)"
   ]
  },
  {
   "cell_type": "code",
   "execution_count": null,
   "id": "8b3e6db4",
   "metadata": {
    "colab": {
     "base_uri": "https://localhost:8080/",
     "height": 268
    },
    "id": "8b3e6db4",
    "outputId": "3d0cb4de-8c70-4f01-9f42-b707ebe28dcb"
   },
   "outputs": [],
   "source": [
    "df"
   ]
  },
  {
   "cell_type": "markdown",
   "id": "1766ce71",
   "metadata": {
    "id": "1766ce71"
   },
   "source": [
    "---"
   ]
  },
  {
   "cell_type": "markdown",
   "id": "2f879969",
   "metadata": {
    "id": "2f879969"
   },
   "source": [
    "## <span style=\"color:#ff5f27;\">🚀 Using the model to predict electricity prices</span>"
   ]
  },
  {
   "cell_type": "markdown",
   "id": "bedba86e",
   "metadata": {
    "id": "bedba86e"
   },
   "source": [
    "### <span style='color:#ff5f27'>🗄 Retrieving model from Model Registry</span>"
   ]
  },
  {
   "cell_type": "code",
   "execution_count": null,
   "id": "344d5e1b",
   "metadata": {
    "colab": {
     "base_uri": "https://localhost:8080/"
    },
    "id": "344d5e1b",
    "outputId": "07b11b14-0ac7-4fbd-e566-9bcf275def58"
   },
   "outputs": [],
   "source": [
    "mr = project.get_model_registry()\n",
    "model = mr.get_model(\"electricity_price_prediction_model\", version=1)\n",
    "model_dir = model.download()\n",
    "loaded_model = tf.saved_model.load(model_dir)\n",
    "serving_function = loaded_model.signatures[\"serving_default\"]"
   ]
  },
  {
   "cell_type": "markdown",
   "id": "ab0cb3a2",
   "metadata": {
    "id": "ab0cb3a2"
   },
   "source": [
    "### <span style='color:#ff5f27'>🤖 Making the predictions</span>"
   ]
  },
  {
   "cell_type": "code",
   "execution_count": null,
   "id": "681ff592",
   "metadata": {
    "colab": {
     "base_uri": "https://localhost:8080/"
    },
    "id": "681ff592",
    "outputId": "a7cdd926-aa6b-4da3-ec56-1cdf1904a9db"
   },
   "outputs": [],
   "source": [
    "z = serving_function(tf.constant(df.values.reshape(-1, df.shape[0], 29), tf.float32))\n",
    "prediction = z[list(z.keys())[0]].numpy() #.flatten().tolist()\n",
    "prediction"
   ]
  },
  {
   "cell_type": "code",
   "execution_count": null,
   "id": "32389f43",
   "metadata": {
    "id": "32389f43"
   },
   "outputs": [],
   "source": [
    "price_se1_pred = []\n",
    "price_se2_pred = []\n",
    "price_se3_pred = []\n",
    "price_se4_pred = []\n",
    "\n",
    "for batch_n in range(len(prediction)):\n",
    "    batch = prediction[batch_n]\n",
    "    for window_n in range(df.shape[0]):\n",
    "        price_se1_pred.append(batch[window_n][0])\n",
    "        price_se2_pred.append(batch[window_n][1])\n",
    "        price_se3_pred.append(batch[window_n][2])\n",
    "        price_se4_pred.append(batch[window_n][3])"
   ]
  },
  {
   "cell_type": "code",
   "execution_count": null,
   "id": "bnSKQM9Mb_BC",
   "metadata": {
    "id": "bnSKQM9Mb_BC"
   },
   "outputs": [],
   "source": [
    "feature_view.init_serving(1)"
   ]
  },
  {
   "cell_type": "code",
   "execution_count": null,
   "id": "d6aa6c21",
   "metadata": {},
   "outputs": [],
   "source": [
    "# td_transformation_functions = feature_view._single_vector_server._transformation_function\n",
    "\n",
    "td_transformation_functions = feature_view._batch_scoring_server._transformation_functions"
   ]
  },
  {
   "cell_type": "code",
   "execution_count": null,
   "id": "Kf544838W2NR",
   "metadata": {
    "colab": {
     "base_uri": "https://localhost:8080/",
     "height": 174
    },
    "id": "Kf544838W2NR",
    "outputId": "188e4901-0d5d-4130-af91-620848c5c7c1"
   },
   "outputs": [],
   "source": [
    "# decoding our features\n",
    "\n",
    "preds = pd.DataFrame(data={'price_se1': price_se1_pred,\n",
    "                           'price_se2': price_se2_pred,\n",
    "                           'price_se3': price_se3_pred,\n",
    "                           'price_se4': price_se4_pred,})\n",
    "import inspect \n",
    "\n",
    "res = {}\n",
    "for feature_name in td_transformation_functions:\n",
    "    if feature_name in [\"price_se1\", \"price_se2\", \"price_se3\", \"price_se4\"]:\n",
    "        td_transformation_function = td_transformation_functions[feature_name]\n",
    "        sig, foobar_locals = inspect.signature(td_transformation_function.transformation_fn), locals()\n",
    "        param_dict = dict([(param.name, param.default) for param in sig.parameters.values() if param.default != inspect._empty])\n",
    "        if td_transformation_function.name == \"min_max_scaler\":\n",
    "            preds[feature_name] = preds[feature_name].map(\n",
    "                lambda x: x * (param_dict[\"max_value\"] - param_dict[\"min_value\"]) + param_dict[\"min_value\"]\n",
    "                )\n",
    "            \n",
    "preds = preds.apply(lambda x: -x)\n",
    "\n",
    "preds"
   ]
  },
  {
   "cell_type": "code",
   "execution_count": null,
   "id": "f4a74f1e",
   "metadata": {
    "colab": {
     "base_uri": "https://localhost:8080/",
     "height": 333
    },
    "id": "f4a74f1e",
    "outputId": "c3a55f58-bf09-402d-ee19-bf9e136ab16f",
    "scrolled": true
   },
   "outputs": [],
   "source": [
    "import matplotlib.pyplot as plt\n",
    "from matplotlib.ticker import FuncFormatter\n",
    "\n",
    "%config InlineBackend.figure_format='retina'\n",
    "%matplotlib inline\n",
    "\n",
    "plt.plot(preds[\"price_se1\"],color='red', label='SE1 price prediction')\n",
    "plt.plot(preds[\"price_se2\"], color='blue', label='SE2 price prediction')\n",
    "plt.plot(preds[\"price_se3\"], color='green', label='SE3 price prediction')\n",
    "plt.plot(preds[\"price_se4\"], color='black', label='SE4 price prediction')\n",
    "plt.xlabel('Time')\n",
    "plt.ylabel('Price')\n",
    "plt.legend(loc='upper left')\n",
    "\n",
    "#save figure to PNG file\n",
    "plt.savefig('model_preds.png', dpi=300)\n",
    "\n",
    "fig = plt.gcf()\n",
    "fig.set_size_inches(15, 5)"
   ]
  }
 ],
 "metadata": {
  "colab": {
   "provenance": []
  },
  "kernelspec": {
   "display_name": "Python 3 (ipykernel)",
   "language": "python",
   "name": "python3"
  },
  "language_info": {
   "codemirror_mode": {
    "name": "ipython",
    "version": 3
   },
   "file_extension": ".py",
   "mimetype": "text/x-python",
   "name": "python",
   "nbconvert_exporter": "python",
   "pygments_lexer": "ipython3",
   "version": "3.8.0"
  }
 },
 "nbformat": 4,
 "nbformat_minor": 5
}
