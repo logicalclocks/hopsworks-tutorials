{
 "cells": [
  {
   "cell_type": "markdown",
   "id": "57fda212",
   "metadata": {},
   "source": [
    "# <span style=\"font-width:bold; font-size: 3rem; color:#1EB182;\"><img src=\"../../images/icon102.png\" width=\"38px\"></img> **Hopsworks Feature Store** </span><span style=\"font-width:bold; font-size: 3rem; color:#333;\">- Part 01: Feature Backfill</span>\n",
    "\n",
    "**Note**: This tutorial does not support Google Colab.\n",
    "\n",
    "## 🗒️ This notebook is divided into the following sections:\n",
    "1. Fetch historical data.\n",
    "2. Connect to the Hopsworks feature store.\n",
    "3. Create feature groups and insert them to the feature store.\n",
    "4. Data Visualization.\n",
    "\n",
    "![tutorial-flow](../../images/01_featuregroups.png)"
   ]
  },
  {
   "cell_type": "markdown",
   "id": "f8aef9c3",
   "metadata": {},
   "source": [
    "## <span style='color:#ff5f27'> 📝 Imports"
   ]
  },
  {
   "cell_type": "code",
   "execution_count": null,
   "id": "a04f9f76",
   "metadata": {},
   "outputs": [],
   "source": [
    "!pip install -U hopsworks --quiet"
   ]
  },
  {
   "cell_type": "code",
   "execution_count": null,
   "id": "76ff915b",
   "metadata": {},
   "outputs": [],
   "source": [
    "import pandas as pd\n",
    "import numpy as np\n",
    "import matplotlib.pyplot as plt\n",
    "import seaborn as sns\n",
    "\n",
    "from functions import *\n",
    "\n",
    "#ignore warnings\n",
    "import warnings\n",
    "warnings.filterwarnings('ignore')"
   ]
  },
  {
   "cell_type": "markdown",
   "id": "1e866352",
   "metadata": {},
   "source": [
    "## <span style=\"color:#ff5f27;\"> 💽 Loading the Data </span>"
   ]
  },
  {
   "cell_type": "markdown",
   "id": "bba27dfe",
   "metadata": {},
   "source": [
    "#### <span style=\"color:#ff5f27;\">⛳️ Application Train dataset</span>\n",
    "\n",
    "The main training dataset contains information about each loan application at Home Credit. Every loan has its own row and is identified by the feature `sk_id_curr`. This dataset has binary target indicating if the loan was repaid(0) or not(1)."
   ]
  },
  {
   "cell_type": "code",
   "execution_count": null,
   "id": "db7f16d6",
   "metadata": {},
   "outputs": [],
   "source": [
    "applications_df = pd.read_csv(\n",
    "    \"https://repo.hops.works/dev/davit/credit_scores/applications.csv\",\n",
    "    parse_dates=['datetime'],\n",
    ")\n",
    "applications_df.head(3)"
   ]
  },
  {
   "cell_type": "code",
   "execution_count": null,
   "id": "7ac4fcde",
   "metadata": {},
   "outputs": [],
   "source": [
    "applications_df.shape"
   ]
  },
  {
   "cell_type": "markdown",
   "id": "67cf47dd",
   "metadata": {},
   "source": [
    "#### <span style=\"color:#ff5f27;\">⛳️ Bureau Balance dataset</span>\n",
    "\n",
    "Dataset contains monthly data about the previous credits in bureau. Each row is one month of a previous credit, and a single previous credit can have multiple rows, one for each month of the credit length."
   ]
  },
  {
   "cell_type": "code",
   "execution_count": null,
   "id": "bfbf2905",
   "metadata": {},
   "outputs": [],
   "source": [
    "bureau_balances_df = pd.read_csv(\n",
    "    'https://repo.hops.works/dev/davit/credit_scores/bureau_balances.csv',\n",
    ")[:5_000]\n",
    "bureau_balances_df.head(3)"
   ]
  },
  {
   "cell_type": "code",
   "execution_count": null,
   "id": "7fdb786b",
   "metadata": {},
   "outputs": [],
   "source": [
    "bureau_balances_df.shape"
   ]
  },
  {
   "cell_type": "markdown",
   "id": "373e62be",
   "metadata": {},
   "source": [
    "#### <span style=\"color:#ff5f27;\">⛳️ Bureau Dataset</span>\n",
    "\n",
    "Dataset contains data about client's previous credits from other financial institutions. Each previous credit has its own row in bureau, but one loan in the application data can have multiple previous credits."
   ]
  },
  {
   "cell_type": "code",
   "execution_count": null,
   "id": "76e83f31",
   "metadata": {},
   "outputs": [],
   "source": [
    "bureaus_df = pd.read_csv(\n",
    "    'https://repo.hops.works/dev/davit/credit_scores/bureaus.csv',\n",
    "    parse_dates=['datetime'],\n",
    ")[:5_000]\n",
    "bureaus_df.head(3)"
   ]
  },
  {
   "cell_type": "code",
   "execution_count": null,
   "id": "26618c66",
   "metadata": {},
   "outputs": [],
   "source": [
    "bureaus_df.shape"
   ]
  },
  {
   "cell_type": "markdown",
   "id": "d2c81e95",
   "metadata": {},
   "source": [
    "#### <span style=\"color:#ff5f27;\">⛳️ Credit Card Balance Dataset</span>\n",
    "\n",
    "Dataset contains monthly data about previous credit cards clients have had with Home Credit. Each row is one month of a credit card balance, and a single credit card can have many rows."
   ]
  },
  {
   "cell_type": "code",
   "execution_count": null,
   "id": "20781cea",
   "metadata": {},
   "outputs": [],
   "source": [
    "credit_card_balances_df = pd.read_csv(\n",
    "    'https://repo.hops.works/dev/davit/credit_scores/credit_card_balances.csv',\n",
    ")[:5_000]\n",
    "credit_card_balances_df.head(3)"
   ]
  },
  {
   "cell_type": "code",
   "execution_count": null,
   "id": "02401dd0",
   "metadata": {},
   "outputs": [],
   "source": [
    "credit_card_balances_df.shape"
   ]
  },
  {
   "cell_type": "markdown",
   "id": "06ed02d7",
   "metadata": {},
   "source": [
    "#### <span style=\"color:#ff5f27;\">⛳️ Installments Payments Dataset</span>\n",
    "\n",
    "Dataset contains payment history for previous loans at Home Credit. There is one row for every made payment and one row for every missed payment."
   ]
  },
  {
   "cell_type": "code",
   "execution_count": null,
   "id": "a30b2039",
   "metadata": {},
   "outputs": [],
   "source": [
    "installment_payments_df = pd.read_csv(\n",
    "    'https://repo.hops.works/dev/davit/credit_scores/installment_payments.csv',\n",
    "    parse_dates=['datetime'],\n",
    ")[:5_000]\n",
    "installment_payments_df.head(3)"
   ]
  },
  {
   "cell_type": "code",
   "execution_count": null,
   "id": "6d84e96d",
   "metadata": {},
   "outputs": [],
   "source": [
    "installment_payments_df.shape"
   ]
  },
  {
   "cell_type": "markdown",
   "id": "818dfd45",
   "metadata": {},
   "source": [
    "#### <span style=\"color:#ff5f27;\">⛳️ POS (point of sales) and Cash Loans Balance Dataset</span>\n",
    "\n",
    "Monthly balance snapshots of previous POS (point of sales) and cash loans that the applicant had with Home Credit.\n",
    "\n",
    "This table has one row for each month of history of every previous credit in Home Credit (consumer credit and cash loans) related to loans in our sample"
   ]
  },
  {
   "cell_type": "code",
   "execution_count": null,
   "id": "0590ef5b",
   "metadata": {},
   "outputs": [],
   "source": [
    "pos_cash_balances_df = pd.read_csv(\n",
    "    'https://repo.hops.works/dev/davit/credit_scores/pos_cash_balances.csv'\n",
    ")[:5_000]\n",
    "pos_cash_balances_df.head(3)"
   ]
  },
  {
   "cell_type": "code",
   "execution_count": null,
   "id": "f81edfdb",
   "metadata": {},
   "outputs": [],
   "source": [
    "pos_cash_balances_df.shape"
   ]
  },
  {
   "cell_type": "markdown",
   "id": "f17eddb3",
   "metadata": {},
   "source": [
    "#### <span style=\"color:#ff5f27;\">⛳️ Previous Application Dataset</span>\n",
    "\n",
    "All previous applications for Home Credit loans of clients who have loans in our sample.\n",
    "\n",
    "There is one row for each previous application related to loans in our data sample."
   ]
  },
  {
   "cell_type": "code",
   "execution_count": null,
   "id": "fb26017d",
   "metadata": {},
   "outputs": [],
   "source": [
    "previous_applications_df = pd.read_csv(\n",
    "    'https://repo.hops.works/dev/davit/credit_scores/previous_applications.csv',\n",
    "    parse_dates=['datetime'],\n",
    ")[:5_000]\n",
    "previous_applications_df.head(3)"
   ]
  },
  {
   "cell_type": "code",
   "execution_count": null,
   "id": "e3ad79b1",
   "metadata": {},
   "outputs": [],
   "source": [
    "previous_applications_df.shape"
   ]
  },
  {
   "cell_type": "markdown",
   "id": "04031bfe",
   "metadata": {},
   "source": [
    "---\n",
    "\n",
    "## <span style=\"color:#ff5f27;\"> 🛠️ Feature Engineering </span>"
   ]
  },
  {
   "cell_type": "markdown",
   "id": "357a82fb",
   "metadata": {},
   "source": [
    "#### <span style=\"color:#ff5f27;\"> ⛳️ Dataset with amount of previous loans</span>"
   ]
  },
  {
   "cell_type": "code",
   "execution_count": null,
   "id": "7f0ca14d",
   "metadata": {},
   "outputs": [],
   "source": [
    "# Grouping the 'bureaus_df' DataFrame by 'sk_id_curr' and counting the number of occurrences\n",
    "# Renaming the resulting column to 'previous_loan_counts'\n",
    "previous_loan_counts = bureaus_df.groupby('sk_id_curr', as_index=False)['sk_id_bureau'].count() \\\n",
    "                           .rename(columns={'sk_id_bureau': 'previous_loan_counts'})\n",
    "\n",
    "# Displaying the first 3 rows of the resulting DataFrame\n",
    "previous_loan_counts.head(3)"
   ]
  },
  {
   "cell_type": "markdown",
   "id": "22dd8d88",
   "metadata": {},
   "source": [
    "---\n",
    "\n",
    "## <span style=\"color:#ff5f27;\">👨🏻‍⚖️ Dealing with missing values</span>"
   ]
  },
  {
   "cell_type": "code",
   "execution_count": null,
   "id": "be753565",
   "metadata": {},
   "outputs": [],
   "source": [
    "# Next function removes missing values.\n",
    "# If column has more than 20% of missing values -> remove.\n",
    "# The rest missing values will be dropped by rows.\n",
    "applications_df = remove_nans(applications_df)\n",
    "bureaus_df = remove_nans(bureaus_df)\n",
    "previous_applications_df = remove_nans(previous_applications_df)\n",
    "\n",
    "credit_card_balances_df.dropna(inplace=True)\n",
    "installment_payments_df.dropna(inplace=True)\n",
    "pos_cash_balances_df.dropna(inplace=True)"
   ]
  },
  {
   "cell_type": "markdown",
   "id": "2a19b083",
   "metadata": {},
   "source": [
    "---"
   ]
  },
  {
   "cell_type": "markdown",
   "id": "3010ef38",
   "metadata": {},
   "source": [
    "## <span style=\"color:#ff5f27;\"> 🔮 Connecting to Hopsworks Feature Store </span>"
   ]
  },
  {
   "cell_type": "code",
   "execution_count": null,
   "id": "40952cd2",
   "metadata": {},
   "outputs": [],
   "source": [
    "import hopsworks\n",
    "\n",
    "project = hopsworks.login()\n",
    "\n",
    "fs = project.get_feature_store() "
   ]
  },
  {
   "cell_type": "markdown",
   "id": "f1583bb4",
   "metadata": {},
   "source": [
    "---\n",
    "\n",
    "## <span style=\"color:#ff5f27;\"> 🪄 Creating Feature Groups </span>\n",
    "\n",
    "A `Feature Groups` is a logical grouping of features, and experience has shown, that this grouping generally originates from the features being derived from the same data source. The `Feature Group` lets you save metadata along features.\n",
    "\n",
    "Generally, the features in a feature group are engineered together in an ingestion job. However, it is possible to have additional jobs to append features to an existing feature group. Furthermore, `Feature Groups` provide a way of defining a namespace for features, such that you can define features with the same name multiple times, but uniquely identified by the group they are contained in.\n",
    "\n",
    "> It is important to note that `Feature Groups` are not groupings of features for immediate training of Machine Learning models. Instead, to ensure reusability of features, it is possible to combine features from any number of groups into **Feature View**."
   ]
  },
  {
   "cell_type": "markdown",
   "id": "99a80d79",
   "metadata": {},
   "source": [
    "### <span style=\"color:#ff5f27;\">⛳️ Creating Applications Feature Group </span>"
   ]
  },
  {
   "cell_type": "code",
   "execution_count": null,
   "id": "07a61adb",
   "metadata": {},
   "outputs": [],
   "source": [
    "applications_fg = fs.get_or_create_feature_group(\n",
    "    name='applications',\n",
    "    version=1,\n",
    "    primary_key=['sk_id_curr'],\n",
    "    online_enabled=False,\n",
    "    event_time='datetime',\n",
    ")\n",
    "applications_fg.insert(applications_df)"
   ]
  },
  {
   "cell_type": "markdown",
   "id": "ecec6457",
   "metadata": {},
   "source": [
    "#### <span style=\"color:#ff5f27;\"> ⛳️ Bureau Balance Feature Group</span>"
   ]
  },
  {
   "cell_type": "code",
   "execution_count": null,
   "id": "524e6d30",
   "metadata": {},
   "outputs": [],
   "source": [
    "bureau_balances_fg = fs.get_or_create_feature_group(\n",
    "    name='bureau_balances',\n",
    "    version=1,\n",
    "    primary_key=['sk_id_bureau'],\n",
    "    online_enabled=False,\n",
    ")\n",
    "bureau_balances_fg.insert(bureau_balances_df)"
   ]
  },
  {
   "cell_type": "markdown",
   "id": "b843a188",
   "metadata": {},
   "source": [
    "#### <span style=\"color:#ff5f27;\"> ⛳️ Bureau Feature Group</span>"
   ]
  },
  {
   "cell_type": "code",
   "execution_count": null,
   "id": "054bd543",
   "metadata": {},
   "outputs": [],
   "source": [
    "bureaus_fg = fs.get_or_create_feature_group(\n",
    "    name='bureaus',\n",
    "    version=1,\n",
    "    primary_key=['sk_id_curr','sk_id_bureau'],\n",
    "    online_enabled=False,\n",
    "    event_time='datetime',\n",
    ")\n",
    "bureaus_fg.insert(bureaus_df)"
   ]
  },
  {
   "cell_type": "markdown",
   "id": "3aeebdbc",
   "metadata": {},
   "source": [
    "#### <span style=\"color:#ff5f27;\"> ⛳️ Previous Application Feature Group</span>"
   ]
  },
  {
   "cell_type": "code",
   "execution_count": null,
   "id": "f1563811",
   "metadata": {},
   "outputs": [],
   "source": [
    "previous_applications_fg = fs.get_or_create_feature_group(\n",
    "    name='previous_applications',\n",
    "    version=1,\n",
    "    primary_key=['sk_id_prev','sk_id_curr'],\n",
    "    online_enabled=False,\n",
    "    event_time='datetime',\n",
    ")\n",
    "previous_applications_fg.insert(previous_applications_df)"
   ]
  },
  {
   "cell_type": "markdown",
   "id": "a5f945b0",
   "metadata": {},
   "source": [
    "#### <span style=\"color:#ff5f27;\"> ⛳️ Pos_Cash_Balance Feature Group</span>"
   ]
  },
  {
   "cell_type": "code",
   "execution_count": null,
   "id": "b3a58faf",
   "metadata": {},
   "outputs": [],
   "source": [
    "pos_cash_balances_fg = fs.get_or_create_feature_group(\n",
    "    name='pos_cash_balances',\n",
    "    version=1,\n",
    "    primary_key=['sk_id_prev','sk_id_curr'],\n",
    "    online_enabled=False,\n",
    ")\n",
    "pos_cash_balances_fg.insert(\n",
    "    pos_cash_balances_df,\n",
    "    write_options={\"wait_for_job\": True},\n",
    ")"
   ]
  },
  {
   "cell_type": "markdown",
   "id": "df4b62a5",
   "metadata": {},
   "source": [
    "#### <span style=\"color:#ff5f27;\"> ⛳️ Instalments Payments Feature Group</span>"
   ]
  },
  {
   "cell_type": "code",
   "execution_count": null,
   "id": "ef53f638",
   "metadata": {},
   "outputs": [],
   "source": [
    "installment_payments_fg = fs.get_or_create_feature_group(\n",
    "    name='installment_payments',\n",
    "    version=1,\n",
    "    primary_key=['sk_id_prev','sk_id_curr'],\n",
    "    online_enabled=False,\n",
    "    event_time='datetime',\n",
    ")\n",
    "installment_payments_fg.insert(installment_payments_df)"
   ]
  },
  {
   "cell_type": "markdown",
   "id": "f8ecce49",
   "metadata": {},
   "source": [
    "#### <span style=\"color:#ff5f27;\"> ⛳️ Credit Card Balance Feature Group</span>"
   ]
  },
  {
   "cell_type": "code",
   "execution_count": null,
   "id": "731c93d2",
   "metadata": {},
   "outputs": [],
   "source": [
    "credit_card_balances_fg = fs.get_or_create_feature_group(\n",
    "    name='credit_card_balances',\n",
    "    version=1,\n",
    "    primary_key=['sk_id_prev','sk_id_curr'],\n",
    "    online_enabled=False,\n",
    ")\n",
    "credit_card_balances_fg.insert(credit_card_balances_df)"
   ]
  },
  {
   "cell_type": "markdown",
   "id": "56e9dabb",
   "metadata": {},
   "source": [
    "#### <span style=\"color:#ff5f27;\"> ⛳️ Previous Load Counts Feature Group</span>"
   ]
  },
  {
   "cell_type": "code",
   "execution_count": null,
   "id": "37540f47",
   "metadata": {},
   "outputs": [],
   "source": [
    "previous_loan_counts_fg = fs.get_or_create_feature_group(\n",
    "    name='previous_loan_counts',\n",
    "    version=1,\n",
    "    primary_key=['sk_id_curr'],\n",
    "    online_enabled=False,\n",
    ")\n",
    "\n",
    "previous_loan_counts_fg.insert(previous_loan_counts)"
   ]
  },
  {
   "cell_type": "markdown",
   "id": "a5d6c36a",
   "metadata": {},
   "source": [
    "---\n",
    "\n",
    "## <span style=\"color:#ff5f27;\">👨🏻‍🎨 Data Exploration</span>"
   ]
  },
  {
   "cell_type": "code",
   "execution_count": null,
   "id": "c5cbec27",
   "metadata": {},
   "outputs": [],
   "source": [
    "plt.figure(figsize=(12,5))\n",
    "\n",
    "plt.pie(\n",
    "    applications_df.target.value_counts(),\n",
    "    labels=['Repayed','Not Repayed'], \n",
    "    explode=(0, 0.2),\n",
    "    shadow=True,\n",
    "    autopct='%1.1f%%',\n",
    "    radius=1.2,\n",
    ")\n",
    "\n",
    "plt.title(\"Ratio of Loan Repayed or Not\", fontsize = 15)\n",
    "plt.show()"
   ]
  },
  {
   "cell_type": "code",
   "execution_count": null,
   "id": "0ba3a43b",
   "metadata": {},
   "outputs": [],
   "source": [
    "plt.figure(figsize=(12,5))\n",
    "\n",
    "sns.distplot(applications_df.amt_credit)\n",
    "\n",
    "plt.title(\"Distribution of Amount of Credit\", fontsize = 15)\n",
    "plt.xlabel('Amount of credit')\n",
    "plt.show()"
   ]
  },
  {
   "cell_type": "code",
   "execution_count": null,
   "id": "e3d67482",
   "metadata": {},
   "outputs": [],
   "source": [
    "plt.figure(figsize=(12,5))\n",
    "\n",
    "sns.distplot(applications_df.amt_goods_price)\n",
    "\n",
    "plt.title(\"Distribution of Amount of Goods Price\", fontsize = 15)\n",
    "plt.xlabel('Amount of goods price')\n",
    "plt.show()"
   ]
  },
  {
   "cell_type": "code",
   "execution_count": null,
   "id": "f5291588",
   "metadata": {},
   "outputs": [],
   "source": [
    "plt.figure(figsize=(12,5))\n",
    "\n",
    "sns.distplot(\n",
    "    applications_df.days_birth/-365,\n",
    "    bins=30,\n",
    ")\n",
    "\n",
    "plt.title(\"Distribution of Applicant Age\", fontsize=15)\n",
    "plt.xlabel('Years')\n",
    "plt.show()"
   ]
  },
  {
   "cell_type": "code",
   "execution_count": null,
   "id": "fabe58e9",
   "metadata": {},
   "outputs": [],
   "source": [
    "temp_df = applications_df.name_type_suite.value_counts().reset_index()\n",
    "\n",
    "plt.figure(figsize=(12,5))\n",
    "\n",
    "sns.barplot(\n",
    "    data=temp_df, \n",
    "    x='name_type_suite', \n",
    "    y='count',\n",
    ")\n",
    "\n",
    "plt.title(\"Who accompanied client when applying for the  application\", fontsize=15)\n",
    "plt.xlabel('Accompanior')\n",
    "plt.ylabel('Amount')\n",
    "plt.show()"
   ]
  },
  {
   "cell_type": "code",
   "execution_count": null,
   "id": "d9943e37",
   "metadata": {},
   "outputs": [],
   "source": [
    "plt.figure(figsize=(12,5))\n",
    "\n",
    "plt.pie(\n",
    "    applications_df.flag_own_car.value_counts(),\n",
    "    labels=['Loan for other purpose','Loan for a car'],\n",
    "    explode=(0, 0.1),\n",
    "    shadow=True,\n",
    "    autopct='%1.1f%%',\n",
    "    radius=1.2,\n",
    ")\n",
    "\n",
    "plt.title(\"Ratio of loan for a car or not\", fontsize=15)\n",
    "plt.show()"
   ]
  },
  {
   "cell_type": "code",
   "execution_count": null,
   "id": "9e6c8306",
   "metadata": {},
   "outputs": [],
   "source": [
    "plt.figure(figsize=(12,5))\n",
    "\n",
    "plt.pie(\n",
    "    applications_df.flag_own_realty.value_counts(),\n",
    "    labels=['Loan for revalty','Loan for other purpose'], \n",
    "    explode=(0, 0.1),\n",
    "    shadow=True, \n",
    "    autopct='%1.1f%%',\n",
    "    radius=1.2,\n",
    ")\n",
    "\n",
    "plt.title(\"Ratio of realty for a car or not\", fontsize=15)\n",
    "plt.show()"
   ]
  },
  {
   "cell_type": "code",
   "execution_count": null,
   "id": "21a04b2f",
   "metadata": {},
   "outputs": [],
   "source": [
    "temp_df = applications_df.name_income_type.value_counts()[:4]\n",
    "\n",
    "plt.figure(figsize=(12,5))\n",
    "\n",
    "plt.pie(\n",
    "    temp_df,\n",
    "    labels=temp_df[:4].index,\n",
    "    explode=(0, 0.075,0.1,0.1), \n",
    "    shadow=True, \n",
    "    autopct='%1.1f%%',\n",
    "    labeldistance=0.8,\n",
    "    radius=1.2,\n",
    ")\n",
    "\n",
    "plt.title(\"Income Ratio\", fontsize=15)\n",
    "plt.show()"
   ]
  },
  {
   "cell_type": "code",
   "execution_count": null,
   "id": "4c752b39",
   "metadata": {},
   "outputs": [],
   "source": [
    "temp_df = applications_df.name_family_status.value_counts()[:-1]\n",
    "\n",
    "plt.figure(figsize=(12,5))\n",
    "\n",
    "plt.pie(\n",
    "    temp_df,\n",
    "    labels=temp_df.index,\n",
    "    explode=(0,0.1,0.1,0.1), \n",
    "    shadow=True, \n",
    "    autopct='%1.1f%%',\n",
    "    labeldistance=1.05,\n",
    "    radius=1.2,\n",
    ")\n",
    "\n",
    "plt.title(\"Family Status Ratio\", fontsize=15)\n",
    "plt.show()"
   ]
  },
  {
   "cell_type": "code",
   "execution_count": null,
   "id": "2dbb0b76",
   "metadata": {},
   "outputs": [],
   "source": [
    "plt.figure(figsize=(12,5))\n",
    "\n",
    "ax = sns.countplot(\n",
    "    data=applications_df,\n",
    "    x='name_education_type',\n",
    "    hue='target',\n",
    "    order=applications_df['name_education_type'].value_counts().index\n",
    ")\n",
    "\n",
    "plt.title(\"Education of who applied for loan\", fontsize=15)\n",
    "plt.xlabel('Education Type')\n",
    "plt.ylabel('Count')\n",
    "add_perc(ax,applications_df.name_education_type,5,2)\n",
    "plt.show()"
   ]
  },
  {
   "cell_type": "code",
   "execution_count": null,
   "id": "826f5989",
   "metadata": {},
   "outputs": [],
   "source": [
    "temp_df = previous_applications_df.name_contract_status.value_counts()[:-1]\n",
    "\n",
    "plt.figure(figsize=(12,5))\n",
    "\n",
    "plt.pie(\n",
    "    temp_df,\n",
    "    labels=temp_df.index,\n",
    "    explode=(0,0.1,0.1), \n",
    "    shadow=True, \n",
    "    autopct='%1.1f%%',\n",
    "    labeldistance=1.05,\n",
    "    radius=1.25,\n",
    ")\n",
    "\n",
    "plt.title(\"Contract Approvement Ratio\", fontsize=15)\n",
    "plt.show()"
   ]
  },
  {
   "cell_type": "markdown",
   "id": "6537d223",
   "metadata": {},
   "source": [
    "---\n",
    "## <span style=\"color:#ff5f27;\">⏭️ **Next:** Part 02: Feature Pipeline </span>\n",
    "\n",
    "In the next notebook we will generate a new data for Feature Groups.\n"
   ]
  }
 ],
 "metadata": {
  "kernelspec": {
   "display_name": "Python 3",
   "language": "python",
   "name": "python3"
  },
  "language_info": {
   "codemirror_mode": {
    "name": "ipython",
    "version": 3
   },
   "file_extension": ".py",
   "mimetype": "text/x-python",
   "name": "python",
   "nbconvert_exporter": "python",
   "pygments_lexer": "ipython3",
   "version": "3.10.11"
  }
 },
 "nbformat": 4,
 "nbformat_minor": 5
}
