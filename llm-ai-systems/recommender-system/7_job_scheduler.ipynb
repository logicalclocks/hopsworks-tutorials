{
 "cells": [
  {
   "cell_type": "markdown",
   "id": "a91e6def",
   "metadata": {},
   "source": [
    "## <span style=\"color:#ff5f27\">🗓️ Job Scheduling </span>\n"
   ]
  },
  {
   "cell_type": "code",
   "execution_count": null,
   "id": "82a0a7fe",
   "metadata": {},
   "outputs": [],
   "source": [
    "from datetime import datetime, timezone"
   ]
  },
  {
   "cell_type": "code",
   "execution_count": null,
   "id": "f8b30507",
   "metadata": {},
   "outputs": [],
   "source": [
    "import hopsworks\n",
    "\n",
    "project = hopsworks.login()\n",
    "\n",
    "jobs_api = project.get_jobs_api()"
   ]
  },
  {
   "cell_type": "markdown",
   "id": "d3518888",
   "metadata": {},
   "source": [
    "## <span style=\"color:#ff5f27\">🪝 Retrieve Jobs </span>\n"
   ]
  },
  {
   "cell_type": "code",
   "execution_count": null,
   "id": "7a329857",
   "metadata": {},
   "outputs": [],
   "source": [
    "interactions_job = jobs_api.get_job('interactions_1_offline_fg_materialization')\n",
    "interactions_job"
   ]
  },
  {
   "cell_type": "code",
   "execution_count": null,
   "id": "95e5a833",
   "metadata": {},
   "outputs": [],
   "source": [
    "transactions_job = jobs_api.get_job('transactions_1_offline_fg_materialization')\n",
    "transactions_job"
   ]
  },
  {
   "cell_type": "markdown",
   "id": "5f8cf2ad",
   "metadata": {},
   "source": [
    "## <span style=\"color:#ff5f27\">🏃🏻‍♂️ Run Job </span>\n"
   ]
  },
  {
   "cell_type": "code",
   "execution_count": null,
   "id": "8d02ea8a",
   "metadata": {},
   "outputs": [],
   "source": [
    "interactions_job_execution = interactions_job.run()\n",
    "interactions_job_execution"
   ]
  },
  {
   "cell_type": "code",
   "execution_count": null,
   "id": "8e2887b9",
   "metadata": {},
   "outputs": [],
   "source": [
    "transactions_job_execution = transactions_job.run()\n",
    "transactions_job_execution"
   ]
  },
  {
   "cell_type": "markdown",
   "id": "3fd3d759",
   "metadata": {},
   "source": [
    "## <span style=\"color:#ff5f27\">⏰ Schedule Job </span>\n"
   ]
  },
  {
   "cell_type": "code",
   "execution_count": null,
   "id": "d760c64c",
   "metadata": {},
   "outputs": [],
   "source": [
    "interactions_job.schedule(\n",
    "    cron_expression=\"0 0 0 * * ?\",  # Runs at midnight (00:00:00) every day\n",
    "    start_time=datetime.now(tz=timezone.utc),\n",
    ")\n",
    "interactions_job.job_schedule.next_execution_date_time"
   ]
  },
  {
   "cell_type": "code",
   "execution_count": null,
   "id": "f9370d6d",
   "metadata": {},
   "outputs": [],
   "source": [
    "transactions_job.schedule(\n",
    "    cron_expression=\"0 0 0 * * ?\",  # Runs at midnight (00:00:00) every day\n",
    "    start_time=datetime.now(tz=timezone.utc),\n",
    ")\n",
    "transactions_job.job_schedule.next_execution_date_time"
   ]
  },
  {
   "cell_type": "markdown",
   "id": "5fc26a8c",
   "metadata": {},
   "source": [
    "---"
   ]
  }
 ],
 "metadata": {
  "kernelspec": {
   "display_name": "Python",
   "language": "python",
   "name": "python3"
  },
  "language_info": {
   "codemirror_mode": {
    "name": "ipython",
    "version": 3
   },
   "file_extension": ".py",
   "mimetype": "text/x-python",
   "name": "python",
   "nbconvert_exporter": "python",
   "pygments_lexer": "ipython3",
   "version": "3.10.11"
  }
 },
 "nbformat": 4,
 "nbformat_minor": 5
}
