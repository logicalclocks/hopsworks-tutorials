{
 "cells": [
  {
   "cell_type": "markdown",
   "id": "90017585",
   "metadata": {},
   "source": [
    "# <span style=\"font-width:bold; font-size: 3rem; color:#1EB182;\"><img src=\"../../images/icon102.png\" width=\"38px\"></img> **Hopsworks Feature Store** </span><span style=\"font-width:bold; font-size: 3rem; color:#333;\">- Part 05: Batch Predictions</span>\n",
    "\n",
    "[![Open In Colab](https://colab.research.google.com/assets/colab-badge.svg)](https://colab.research.google.com/github/logicalclocks/hopsworks-tutorials/blob/master/advanced_tutorials/{project_name}/{notebook_name}.ipynb)\n",
    "\n",
    "\n",
    "## 🗒️ This notebook is divided into the following sections:\n",
    "\n",
    "1. Load batch data\n",
    "2. Predict using model from Model Registry\n",
    "\n",
    "![part3](../../images/03_model.png) "
   ]
  },
  {
   "cell_type": "markdown",
   "id": "e75c01db",
   "metadata": {},
   "source": [
    "## <span style=\"color:#ff5f27;\"> 🔮 Connecting to Hopsworks Feature Store </span>"
   ]
  },
  {
   "cell_type": "code",
   "execution_count": null,
   "id": "8783110b",
   "metadata": {},
   "outputs": [],
   "source": [
    "import hopsworks\n",
    "\n",
    "project = hopsworks.login()\n",
    "\n",
    "fs = project.get_feature_store() \n",
    "mr = project.get_model_registry()"
   ]
  },
  {
   "cell_type": "markdown",
   "id": "e2641b26",
   "metadata": {},
   "source": [
    "## <span style=\"color:#ff5f27;\"> ✨ Loading Batch Data </span>"
   ]
  },
  {
   "cell_type": "code",
   "execution_count": null,
   "id": "4c65496c",
   "metadata": {},
   "outputs": [],
   "source": [
    "feature_view = fs.get_feature_view(\n",
    "    name=\"credit_scores\",\n",
    "    version=1\n",
    ")\n",
    "\n",
    "feature_view.init_batch_scoring(\n",
    "    training_dataset_version=1\n",
    ")\n",
    "\n",
    "df = feature_view.get_batch_data()\n",
    "df.head()"
   ]
  },
  {
   "cell_type": "markdown",
   "id": "68f99095",
   "metadata": {},
   "source": [
    "## <span style=\"color:#ff5f27;\"> 🗄 Retrieving model from Model Registry </span>"
   ]
  },
  {
   "cell_type": "code",
   "execution_count": null,
   "id": "a1891c35",
   "metadata": {},
   "outputs": [],
   "source": [
    "import joblib\n",
    "\n",
    "model = mr.get_model(\n",
    "    name=\"credit_scores_model\",\n",
    "    version=1\n",
    ")\n",
    "model_dir = model.download()\n",
    "model = joblib.load(model_dir + \"/credit_scores_model.pkl\")\n",
    "model"
   ]
  },
  {
   "cell_type": "markdown",
   "id": "64246fbf",
   "metadata": {},
   "source": [
    "## <span style=\"color:#ff5f27;\"> 🤖 Making the predictions </span>"
   ]
  },
  {
   "cell_type": "code",
   "execution_count": null,
   "id": "107a8161",
   "metadata": {},
   "outputs": [],
   "source": [
    "predictions = model.predict(df)\n",
    "predictions[:10]"
   ]
  },
  {
   "cell_type": "markdown",
   "id": "0e5a933d",
   "metadata": {},
   "source": [
    "---"
   ]
  }
 ],
 "metadata": {
  "kernelspec": {
   "display_name": "Python 3 (ipykernel)",
   "language": "python",
   "name": "python3"
  },
  "language_info": {
   "codemirror_mode": {
    "name": "ipython",
    "version": 3
   },
   "file_extension": ".py",
   "mimetype": "text/x-python",
   "name": "python",
   "nbconvert_exporter": "python",
   "pygments_lexer": "ipython3",
   "version": "3.9.13"
  }
 },
 "nbformat": 4,
 "nbformat_minor": 5
}
