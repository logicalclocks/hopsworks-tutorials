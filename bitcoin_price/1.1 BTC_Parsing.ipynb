{
 "cells": [
  {
   "cell_type": "markdown",
   "id": "3abc0b48",
   "metadata": {},
   "source": [
    "\n",
    "<div style=\"text-align:center\">\n",
    "<img src=\"https://thumbs.gfycat.com/IllSharpCod-max-1mb.gif\" width='350'>\n",
    "</div>"
   ]
  },
  {
   "cell_type": "markdown",
   "id": "46b592f8",
   "metadata": {},
   "source": [
    "# <span style=\"color:#ff5f27;\">📝 BTC timeseries parsing (500 last days)</span>"
   ]
  },
  {
   "cell_type": "code",
   "execution_count": 1,
   "id": "48b88502",
   "metadata": {},
   "outputs": [],
   "source": [
    "# !pip install unicorn-binance-rest-api"
   ]
  },
  {
   "cell_type": "code",
   "execution_count": 2,
   "id": "7d955ac4",
   "metadata": {},
   "outputs": [],
   "source": [
    "from unicorn_binance_rest_api.manager import BinanceRestApiManager as Client\n",
    "import datetime\n",
    "import pandas as pd\n",
    "import os"
   ]
  },
  {
   "cell_type": "code",
   "execution_count": 3,
   "id": "3de56d71",
   "metadata": {},
   "outputs": [],
   "source": [
    "# !pip install python-dotenv"
   ]
  },
  {
   "cell_type": "markdown",
   "id": "e0b8283b",
   "metadata": {},
   "source": [
    "## API keys are stored in .env file in the next format:\n",
    "`BINANCE_API_KEY = \"aaaaaaaaaaaaaaaaaaaaaaaaaaaaaaaaaaaaa\"`\n",
    "\n",
    "`BINANCE_API_SECRET = \"bbbbbbbbbbbbbbbbbbbbbbbbbbbbbbb\"`\n",
    "\n",
    "\n",
    "`TWITTER_API_KEY = \"cccccccccccccccccccccccccccc\"`\n",
    "\n",
    "`TWITTER_API_SECRET = \"ddddddddddddddddddddddddddddddddddd\"`"
   ]
  },
  {
   "cell_type": "markdown",
   "id": "6c732226",
   "metadata": {},
   "source": [
    "### So you need to have .env file with all these API keys inside project directory."
   ]
  },
  {
   "cell_type": "code",
   "execution_count": 4,
   "id": "d06b90fd",
   "metadata": {},
   "outputs": [
    {
     "data": {
      "text/plain": [
       "True"
      ]
     },
     "execution_count": 4,
     "metadata": {},
     "output_type": "execute_result"
    }
   ],
   "source": [
    "from dotenv import load_dotenv\n",
    "load_dotenv()"
   ]
  },
  {
   "cell_type": "code",
   "execution_count": 5,
   "id": "c33f3c3a",
   "metadata": {},
   "outputs": [],
   "source": [
    "def timestamp_2_time(x):\n",
    "    dt_obj = datetime.datetime.strptime(str(x), '%Y-%m-%d %H:%M:%S')\n",
    "    dt_obj = dt_obj.timestamp() * 1000\n",
    "    return int(dt_obj)"
   ]
  },
  {
   "cell_type": "code",
   "execution_count": 6,
   "id": "c4ca02b3",
   "metadata": {},
   "outputs": [],
   "source": [
    "def get_client():\n",
    "    BINANCE_API_KEY = os.getenv(\"BINANCE_API_KEY\")\n",
    "    BINANCE_API_SECRET = os.getenv(\"BINANCE_API_SECRET\")\n",
    "    return Client(api_key=BINANCE_API_KEY, api_secret=BINANCE_API_SECRET)\n",
    "\n",
    "\n",
    "def get_data(since_this_date=None, until_this_date=datetime.datetime.now(), number_of_days_ago=None, crypto_pair=\"BTCUSDT\"):\n",
    "    client = get_client()\n",
    "    \n",
    "    # Calculate the timestamps for the binance api function\n",
    "    if since_this_date:\n",
    "        since_this_date += datetime.timedelta(days=1)\n",
    "    if number_of_days_ago:\n",
    "        until_this_date = datetime.datetime.now()\n",
    "        since_this_date = until_this_date - datetime.timedelta(days=number_of_days_ago)\n",
    "    # Execute the query from binance - timestamps must be converted to strings !\n",
    "    candle = client.get_historical_klines(crypto_pair, Client.KLINE_INTERVAL_1DAY, str(since_this_date), str(until_this_date))\n",
    "\n",
    "    # Create a dataframe to label all the columns returned by binance so we work with them later.\n",
    "    df = pd.DataFrame(candle, columns=['dateTime', 'open', 'high', 'low', 'close', 'volume', 'closeTime', 'quoteAssetVolume', 'numberOfTrades', 'takerBuyBaseVol', 'takerBuyQuoteVol', 'ignore'])\n",
    "    # as timestamp is returned in ms, let us convert this back to proper timestamps.\n",
    "    df.dateTime = pd.to_datetime(df.dateTime, unit='ms').dt.strftime(\"%Y-%m-%d %H:%M:%S\")\n",
    "    df.set_index('dateTime', inplace=True)\n",
    "    # now returns ALL columns\n",
    "    return df.drop(['closeTime','ignore'],axis = 1)\n",
    "\n",
    "\n",
    "def parse_btc_data(last_date=None, number_of_days_ago=None):\n",
    "    df = get_data(since_this_date=last_date, until_this_date=datetime.datetime.now(),\n",
    "                  number_of_days_ago=number_of_days_ago + 1)\n",
    "    df.index.name = 'date'\n",
    "    df.reset_index(inplace = True)\n",
    "    df.columns = [*df.columns[:6],'quote_av','trades','tb_base_av','tb_quote_av']\n",
    "    cols = [*df.columns]\n",
    "    cols.remove('date')\n",
    "    cols.remove('trades')\n",
    "    df[cols] = df[cols].apply(lambda x: x.apply(float))\n",
    "    df.trades = df.trades.apply(int)\n",
    "    df['unix'] = pd.to_datetime(df.date).apply(timestamp_2_time)\n",
    "    return df"
   ]
  },
  {
   "cell_type": "markdown",
   "id": "0907431e",
   "metadata": {},
   "source": [
    "## Lets get data for previous 600 days (600 rows)"
   ]
  },
  {
   "cell_type": "code",
   "execution_count": 7,
   "id": "11a19fce",
   "metadata": {
    "scrolled": true
   },
   "outputs": [
    {
     "name": "stderr",
     "output_type": "stream",
     "text": [
      "C:\\Users\\rkaha\\Documents\\hopsworks\\venv38\\lib\\site-packages\\dateparser\\date_parser.py:35: PytzUsageWarning: The localize method is no longer necessary, as this time zone supports the fold attribute (PEP 495). For more details on migrating to a PEP 495-compliant implementation, see https://pytz-deprecation-shim.readthedocs.io/en/latest/migration.html\n",
      "  date_obj = stz.localize(date_obj)\n"
     ]
    }
   ],
   "source": [
    "df = parse_btc_data(number_of_days_ago=600)"
   ]
  },
  {
   "cell_type": "code",
   "execution_count": 8,
   "id": "24a75349",
   "metadata": {},
   "outputs": [
    {
     "data": {
      "text/html": [
       "<div>\n",
       "<style scoped>\n",
       "    .dataframe tbody tr th:only-of-type {\n",
       "        vertical-align: middle;\n",
       "    }\n",
       "\n",
       "    .dataframe tbody tr th {\n",
       "        vertical-align: top;\n",
       "    }\n",
       "\n",
       "    .dataframe thead th {\n",
       "        text-align: right;\n",
       "    }\n",
       "</style>\n",
       "<table border=\"1\" class=\"dataframe\">\n",
       "  <thead>\n",
       "    <tr style=\"text-align: right;\">\n",
       "      <th></th>\n",
       "      <th>date</th>\n",
       "      <th>open</th>\n",
       "      <th>high</th>\n",
       "      <th>low</th>\n",
       "      <th>close</th>\n",
       "      <th>volume</th>\n",
       "      <th>quote_av</th>\n",
       "      <th>trades</th>\n",
       "      <th>tb_base_av</th>\n",
       "      <th>tb_quote_av</th>\n",
       "      <th>unix</th>\n",
       "    </tr>\n",
       "  </thead>\n",
       "  <tbody>\n",
       "    <tr>\n",
       "      <th>0</th>\n",
       "      <td>2020-11-27 00:00:00</td>\n",
       "      <td>17149.47</td>\n",
       "      <td>17457.62</td>\n",
       "      <td>16438.08</td>\n",
       "      <td>17139.52</td>\n",
       "      <td>85297.024787</td>\n",
       "      <td>1.446670e+09</td>\n",
       "      <td>1572299</td>\n",
       "      <td>42507.358433</td>\n",
       "      <td>7.209856e+08</td>\n",
       "      <td>1606428000000</td>\n",
       "    </tr>\n",
       "    <tr>\n",
       "      <th>1</th>\n",
       "      <td>2020-11-28 00:00:00</td>\n",
       "      <td>17139.53</td>\n",
       "      <td>17880.49</td>\n",
       "      <td>16865.56</td>\n",
       "      <td>17719.85</td>\n",
       "      <td>64910.699970</td>\n",
       "      <td>1.128062e+09</td>\n",
       "      <td>1209385</td>\n",
       "      <td>31785.706898</td>\n",
       "      <td>5.520447e+08</td>\n",
       "      <td>1606514400000</td>\n",
       "    </tr>\n",
       "    <tr>\n",
       "      <th>2</th>\n",
       "      <td>2020-11-29 00:00:00</td>\n",
       "      <td>17719.84</td>\n",
       "      <td>18360.05</td>\n",
       "      <td>17517.00</td>\n",
       "      <td>18184.99</td>\n",
       "      <td>55329.016303</td>\n",
       "      <td>9.967438e+08</td>\n",
       "      <td>1141289</td>\n",
       "      <td>27883.985296</td>\n",
       "      <td>5.022877e+08</td>\n",
       "      <td>1606600800000</td>\n",
       "    </tr>\n",
       "  </tbody>\n",
       "</table>\n",
       "</div>"
      ],
      "text/plain": [
       "                  date      open      high       low     close        volume  \\\n",
       "0  2020-11-27 00:00:00  17149.47  17457.62  16438.08  17139.52  85297.024787   \n",
       "1  2020-11-28 00:00:00  17139.53  17880.49  16865.56  17719.85  64910.699970   \n",
       "2  2020-11-29 00:00:00  17719.84  18360.05  17517.00  18184.99  55329.016303   \n",
       "\n",
       "       quote_av   trades    tb_base_av   tb_quote_av           unix  \n",
       "0  1.446670e+09  1572299  42507.358433  7.209856e+08  1606428000000  \n",
       "1  1.128062e+09  1209385  31785.706898  5.520447e+08  1606514400000  \n",
       "2  9.967438e+08  1141289  27883.985296  5.022877e+08  1606600800000  "
      ]
     },
     "execution_count": 8,
     "metadata": {},
     "output_type": "execute_result"
    }
   ],
   "source": [
    "df.head(3)"
   ]
  },
  {
   "cell_type": "code",
   "execution_count": 9,
   "id": "4a963d26",
   "metadata": {},
   "outputs": [],
   "source": [
    "df.to_csv(\"btc_raw_600.csv\")"
   ]
  }
 ],
 "metadata": {
  "kernelspec": {
   "display_name": "Python 3 (ipykernel)",
   "language": "python",
   "name": "python3"
  },
  "language_info": {
   "codemirror_mode": {
    "name": "ipython",
    "version": 3
   },
   "file_extension": ".py",
   "mimetype": "text/x-python",
   "name": "python",
   "nbconvert_exporter": "python",
   "pygments_lexer": "ipython3",
   "version": "3.9.12"
  }
 },
 "nbformat": 4,
 "nbformat_minor": 5
}
