{
 "cells": [
  {
   "cell_type": "markdown",
   "id": "2dc51feb",
   "metadata": {},
   "source": [
    "# <span style=\"font-width:bold; font-size: 3rem; color:#1EB182;\"><img src=\"../images/icon102.png\" width=\"38px\"></img> **Hopsworks Feature Store** </span><span style=\"font-width:bold; font-size: 3rem; color:#333;\">- Part 03: Training Data & Feature views</span>\n",
    "\n",
    "[![Open In Colab](https://colab.research.google.com/assets/colab-badge.svg)](https://colab.research.google.com/github/logicalclocks/hopsworks-tutorials/blob/master/bitcoin/3_feature_views_and_training_dataset.ipynb)\n",
    "\n",
    "<span style=\"font-width:bold; font-size: 1.4rem;\">This is the third part of advanced tutorials about Hopsworks Feature Store. This notebook explains how to read from a feature group and create training dataset within the feature store</span>\n",
    "\n",
    "## 🗒️ In this notebook you will see how to create a training dataset from the feature groups: \n",
    "\n",
    "1. Retrieving Feature Groups.\n",
    "2. Defining Transformation functions.\n",
    "4. Feature View creation.\n",
    "5. Training Dataset with training, validation and test data.\n",
    "\n",
    "![part2](../images/02_training-dataset.png) "
   ]
  },
  {
   "cell_type": "markdown",
   "id": "c5533ca2",
   "metadata": {},
   "source": [
    "### <span style=\"color:#ff5f27;\"> 📝 Imports</span>"
   ]
  },
  {
   "cell_type": "code",
   "execution_count": 1,
   "id": "8e828a93",
   "metadata": {},
   "outputs": [],
   "source": [
    "import pandas as pd\n",
    "\n",
    "import datetime\n",
    "\n",
    "import warnings\n",
    "warnings.filterwarnings('ignore')"
   ]
  },
  {
   "cell_type": "markdown",
   "id": "7c720463",
   "metadata": {},
   "source": [
    "## <span style=\"color:#ff5f27;\"> 📡 Connecting to Hopsworks Feature Store </span>"
   ]
  },
  {
   "cell_type": "code",
   "execution_count": 2,
   "id": "dc27b91f",
   "metadata": {
    "scrolled": true
   },
   "outputs": [
    {
     "name": "stdout",
     "output_type": "stream",
     "text": [
      "Connected. Call `.close()` to terminate connection gracefully.\n",
      "\n",
      "Logged in to project, explore it here https://c.app.hopsworks.ai:443/p/1152\n"
     ]
    },
    {
     "name": "stderr",
     "output_type": "stream",
     "text": [
      "DeprecationWarning: the imp module is deprecated in favour of importlib; see the module's documentation for alternative uses\n"
     ]
    },
    {
     "name": "stdout",
     "output_type": "stream",
     "text": [
      "Connected. Call `.close()` to terminate connection gracefully.\n"
     ]
    }
   ],
   "source": [
    "import hopsworks\n",
    "\n",
    "project = hopsworks.login()\n",
    "\n",
    "fs = project.get_feature_store()"
   ]
  },
  {
   "cell_type": "markdown",
   "id": "0bd4c8ca",
   "metadata": {},
   "source": [
    "---\n",
    "\n",
    "## <span style=\"color:#ff5f27;\">🪝 Retrieving Feature Groups </span>"
   ]
  },
  {
   "cell_type": "code",
   "execution_count": 39,
   "id": "682d0a4a",
   "metadata": {},
   "outputs": [
    {
     "name": "stdout",
     "output_type": "stream",
     "text": [
      "2022-09-29 21:49:36,077 INFO: USE `romantest1_featurestore`\n",
      "2022-09-29 21:49:37,103 INFO: SELECT `fg0`.`date` `date`, `fg0`.`open` `open`, `fg0`.`high` `high`, `fg0`.`low` `low`, `fg0`.`close` `close`, `fg0`.`volume` `volume`, `fg0`.`quote_av` `quote_av`, `fg0`.`trades` `trades`, `fg0`.`tb_base_av` `tb_base_av`, `fg0`.`tb_quote_av` `tb_quote_av`, `fg0`.`unix` `unix`, `fg0`.`mean_7_days` `mean_7_days`, `fg0`.`mean_14_days` `mean_14_days`, `fg0`.`mean_56_days` `mean_56_days`, `fg0`.`signal` `signal`, `fg0`.`std_7_days` `std_7_days`, `fg0`.`exp_mean_7_days` `exp_mean_7_days`, `fg0`.`exp_std_7_days` `exp_std_7_days`, `fg0`.`momentum_7_days` `momentum_7_days`, `fg0`.`rate_of_change_7_days` `rate_of_change_7_days`, `fg0`.`strength_index_7_days` `strength_index_7_days`, `fg0`.`std_14_days` `std_14_days`, `fg0`.`exp_mean_14_days` `exp_mean_14_days`, `fg0`.`exp_std_14_days` `exp_std_14_days`, `fg0`.`momentum_14_days` `momentum_14_days`, `fg0`.`rate_of_change_14_days` `rate_of_change_14_days`, `fg0`.`strength_index_14_days` `strength_index_14_days`, `fg0`.`std_56_days` `std_56_days`, `fg0`.`exp_mean_56_days` `exp_mean_56_days`, `fg0`.`exp_std_56_days` `exp_std_56_days`, `fg0`.`momentum_56_days` `momentum_56_days`, `fg0`.`rate_of_change_56_days` `rate_of_change_56_days`, `fg0`.`strength_index_56_days` `strength_index_56_days`\n",
      "FROM `romantest1_featurestore`.`bitcoin_price_1` `fg0`\n"
     ]
    },
    {
     "data": {
      "text/html": [
       "<div>\n",
       "<style scoped>\n",
       "    .dataframe tbody tr th:only-of-type {\n",
       "        vertical-align: middle;\n",
       "    }\n",
       "\n",
       "    .dataframe tbody tr th {\n",
       "        vertical-align: top;\n",
       "    }\n",
       "\n",
       "    .dataframe thead th {\n",
       "        text-align: right;\n",
       "    }\n",
       "</style>\n",
       "<table border=\"1\" class=\"dataframe\">\n",
       "  <thead>\n",
       "    <tr style=\"text-align: right;\">\n",
       "      <th></th>\n",
       "      <th>date</th>\n",
       "      <th>open</th>\n",
       "      <th>high</th>\n",
       "      <th>low</th>\n",
       "      <th>close</th>\n",
       "      <th>volume</th>\n",
       "      <th>quote_av</th>\n",
       "      <th>trades</th>\n",
       "      <th>tb_base_av</th>\n",
       "      <th>tb_quote_av</th>\n",
       "      <th>...</th>\n",
       "      <th>exp_std_14_days</th>\n",
       "      <th>momentum_14_days</th>\n",
       "      <th>rate_of_change_14_days</th>\n",
       "      <th>strength_index_14_days</th>\n",
       "      <th>std_56_days</th>\n",
       "      <th>exp_mean_56_days</th>\n",
       "      <th>exp_std_56_days</th>\n",
       "      <th>momentum_56_days</th>\n",
       "      <th>rate_of_change_56_days</th>\n",
       "      <th>strength_index_56_days</th>\n",
       "    </tr>\n",
       "  </thead>\n",
       "  <tbody>\n",
       "    <tr>\n",
       "      <th>0</th>\n",
       "      <td>2021-05-19</td>\n",
       "      <td>42849.78</td>\n",
       "      <td>43584.90</td>\n",
       "      <td>30000.00</td>\n",
       "      <td>36690.09</td>\n",
       "      <td>354347.243161</td>\n",
       "      <td>1.347769e+10</td>\n",
       "      <td>6331062</td>\n",
       "      <td>168271.347308</td>\n",
       "      <td>6.410033e+09</td>\n",
       "      <td>...</td>\n",
       "      <td>7145.935949</td>\n",
       "      <td>-20746.02</td>\n",
       "      <td>-34.939358</td>\n",
       "      <td>22.604282</td>\n",
       "      <td>5181.686686</td>\n",
       "      <td>53342.806492</td>\n",
       "      <td>6061.282277</td>\n",
       "      <td>-15613.56</td>\n",
       "      <td>-28.470684</td>\n",
       "      <td>44.222282</td>\n",
       "    </tr>\n",
       "    <tr>\n",
       "      <th>1</th>\n",
       "      <td>2021-12-08</td>\n",
       "      <td>50588.95</td>\n",
       "      <td>51200.00</td>\n",
       "      <td>48600.00</td>\n",
       "      <td>50471.19</td>\n",
       "      <td>38425.924660</td>\n",
       "      <td>1.925459e+09</td>\n",
       "      <td>1118225</td>\n",
       "      <td>18126.843620</td>\n",
       "      <td>9.084107e+08</td>\n",
       "      <td>...</td>\n",
       "      <td>4120.300702</td>\n",
       "      <td>-6667.10</td>\n",
       "      <td>-14.398097</td>\n",
       "      <td>35.586600</td>\n",
       "      <td>4388.713351</td>\n",
       "      <td>56447.953603</td>\n",
       "      <td>6174.286106</td>\n",
       "      <td>-6895.81</td>\n",
       "      <td>-11.991276</td>\n",
       "      <td>47.825775</td>\n",
       "    </tr>\n",
       "    <tr>\n",
       "      <th>2</th>\n",
       "      <td>2021-04-06</td>\n",
       "      <td>59129.99</td>\n",
       "      <td>59495.24</td>\n",
       "      <td>57413.02</td>\n",
       "      <td>57991.15</td>\n",
       "      <td>54201.000727</td>\n",
       "      <td>3.166912e+09</td>\n",
       "      <td>1960513</td>\n",
       "      <td>26699.197872</td>\n",
       "      <td>1.560539e+09</td>\n",
       "      <td>...</td>\n",
       "      <td>2136.553924</td>\n",
       "      <td>3650.26</td>\n",
       "      <td>10.874002</td>\n",
       "      <td>56.123736</td>\n",
       "      <td>4588.611750</td>\n",
       "      <td>54941.025412</td>\n",
       "      <td>4414.871106</td>\n",
       "      <td>11570.73</td>\n",
       "      <td>29.422633</td>\n",
       "      <td>59.928617</td>\n",
       "    </tr>\n",
       "  </tbody>\n",
       "</table>\n",
       "<p>3 rows × 33 columns</p>\n",
       "</div>"
      ],
      "text/plain": [
       "        date      open      high       low     close         volume  \\\n",
       "0 2021-05-19  42849.78  43584.90  30000.00  36690.09  354347.243161   \n",
       "1 2021-12-08  50588.95  51200.00  48600.00  50471.19   38425.924660   \n",
       "2 2021-04-06  59129.99  59495.24  57413.02  57991.15   54201.000727   \n",
       "\n",
       "       quote_av   trades     tb_base_av   tb_quote_av  ...  exp_std_14_days  \\\n",
       "0  1.347769e+10  6331062  168271.347308  6.410033e+09  ...      7145.935949   \n",
       "1  1.925459e+09  1118225   18126.843620  9.084107e+08  ...      4120.300702   \n",
       "2  3.166912e+09  1960513   26699.197872  1.560539e+09  ...      2136.553924   \n",
       "\n",
       "   momentum_14_days  rate_of_change_14_days  strength_index_14_days  \\\n",
       "0         -20746.02              -34.939358               22.604282   \n",
       "1          -6667.10              -14.398097               35.586600   \n",
       "2           3650.26               10.874002               56.123736   \n",
       "\n",
       "   std_56_days  exp_mean_56_days  exp_std_56_days  momentum_56_days  \\\n",
       "0  5181.686686      53342.806492      6061.282277         -15613.56   \n",
       "1  4388.713351      56447.953603      6174.286106          -6895.81   \n",
       "2  4588.611750      54941.025412      4414.871106          11570.73   \n",
       "\n",
       "   rate_of_change_56_days  strength_index_56_days  \n",
       "0              -28.470684               44.222282  \n",
       "1              -11.991276               47.825775  \n",
       "2               29.422633               59.928617  \n",
       "\n",
       "[3 rows x 33 columns]"
      ]
     },
     "execution_count": 39,
     "metadata": {},
     "output_type": "execute_result"
    }
   ],
   "source": [
    "btc_price_fg = fs.get_or_create_feature_group(\n",
    "    name='bitcoin_price',\n",
    "    version=1\n",
    ")\n",
    "\n",
    "btc_price_fg.read().head(3)"
   ]
  },
  {
   "cell_type": "code",
   "execution_count": 40,
   "id": "efcede4e",
   "metadata": {},
   "outputs": [
    {
     "name": "stdout",
     "output_type": "stream",
     "text": [
      "2022-09-29 21:49:41,865 INFO: USE `romantest1_featurestore`\n",
      "2022-09-29 21:49:42,879 INFO: SELECT `fg0`.`date` `date`, `fg0`.`subjectivity` `subjectivity`, `fg0`.`polarity` `polarity`, `fg0`.`unix` `unix`\n",
      "FROM `romantest1_featurestore`.`bitcoin_tweets_textblob_1` `fg0`\n"
     ]
    },
    {
     "data": {
      "text/html": [
       "<div>\n",
       "<style scoped>\n",
       "    .dataframe tbody tr th:only-of-type {\n",
       "        vertical-align: middle;\n",
       "    }\n",
       "\n",
       "    .dataframe tbody tr th {\n",
       "        vertical-align: top;\n",
       "    }\n",
       "\n",
       "    .dataframe thead th {\n",
       "        text-align: right;\n",
       "    }\n",
       "</style>\n",
       "<table border=\"1\" class=\"dataframe\">\n",
       "  <thead>\n",
       "    <tr style=\"text-align: right;\">\n",
       "      <th></th>\n",
       "      <th>date</th>\n",
       "      <th>subjectivity</th>\n",
       "      <th>polarity</th>\n",
       "      <th>unix</th>\n",
       "    </tr>\n",
       "  </thead>\n",
       "  <tbody>\n",
       "    <tr>\n",
       "      <th>0</th>\n",
       "      <td>2021-05-19 00:00:00</td>\n",
       "      <td>0.000000</td>\n",
       "      <td>0.000000</td>\n",
       "      <td>1621375200000</td>\n",
       "    </tr>\n",
       "    <tr>\n",
       "      <th>1</th>\n",
       "      <td>2021-12-08 00:00:00</td>\n",
       "      <td>0.000000</td>\n",
       "      <td>0.000000</td>\n",
       "      <td>1638914400000</td>\n",
       "    </tr>\n",
       "    <tr>\n",
       "      <th>2</th>\n",
       "      <td>2021-04-06 00:00:00</td>\n",
       "      <td>1114.342144</td>\n",
       "      <td>380.316299</td>\n",
       "      <td>1617660000000</td>\n",
       "    </tr>\n",
       "  </tbody>\n",
       "</table>\n",
       "</div>"
      ],
      "text/plain": [
       "                  date  subjectivity    polarity           unix\n",
       "0  2021-05-19 00:00:00      0.000000    0.000000  1621375200000\n",
       "1  2021-12-08 00:00:00      0.000000    0.000000  1638914400000\n",
       "2  2021-04-06 00:00:00   1114.342144  380.316299  1617660000000"
      ]
     },
     "execution_count": 40,
     "metadata": {},
     "output_type": "execute_result"
    }
   ],
   "source": [
    "tweets_textblob_fg = fs.get_or_create_feature_group(\n",
    "    name='bitcoin_tweets_textblob',\n",
    "    version=1\n",
    ")\n",
    "\n",
    "tweets_textblob_fg.show(3)"
   ]
  },
  {
   "cell_type": "code",
   "execution_count": 41,
   "id": "0fddc44c",
   "metadata": {},
   "outputs": [
    {
     "name": "stdout",
     "output_type": "stream",
     "text": [
      "2022-09-29 21:49:46,927 INFO: USE `romantest1_featurestore`\n",
      "2022-09-29 21:49:47,903 INFO: SELECT `fg0`.`date` `date`, `fg0`.`compound` `compound`, `fg0`.`unix` `unix`\n",
      "FROM `romantest1_featurestore`.`bitcoin_tweets_vader_1` `fg0`\n"
     ]
    },
    {
     "data": {
      "text/html": [
       "<div>\n",
       "<style scoped>\n",
       "    .dataframe tbody tr th:only-of-type {\n",
       "        vertical-align: middle;\n",
       "    }\n",
       "\n",
       "    .dataframe tbody tr th {\n",
       "        vertical-align: top;\n",
       "    }\n",
       "\n",
       "    .dataframe thead th {\n",
       "        text-align: right;\n",
       "    }\n",
       "</style>\n",
       "<table border=\"1\" class=\"dataframe\">\n",
       "  <thead>\n",
       "    <tr style=\"text-align: right;\">\n",
       "      <th></th>\n",
       "      <th>date</th>\n",
       "      <th>compound</th>\n",
       "      <th>unix</th>\n",
       "    </tr>\n",
       "  </thead>\n",
       "  <tbody>\n",
       "    <tr>\n",
       "      <th>0</th>\n",
       "      <td>2021-05-19 00:00:00</td>\n",
       "      <td>0.0000</td>\n",
       "      <td>1621375200000</td>\n",
       "    </tr>\n",
       "    <tr>\n",
       "      <th>1</th>\n",
       "      <td>2021-12-08 00:00:00</td>\n",
       "      <td>0.0000</td>\n",
       "      <td>1638914400000</td>\n",
       "    </tr>\n",
       "    <tr>\n",
       "      <th>2</th>\n",
       "      <td>2021-04-06 00:00:00</td>\n",
       "      <td>646.5593</td>\n",
       "      <td>1617660000000</td>\n",
       "    </tr>\n",
       "  </tbody>\n",
       "</table>\n",
       "</div>"
      ],
      "text/plain": [
       "                  date  compound           unix\n",
       "0  2021-05-19 00:00:00    0.0000  1621375200000\n",
       "1  2021-12-08 00:00:00    0.0000  1638914400000\n",
       "2  2021-04-06 00:00:00  646.5593  1617660000000"
      ]
     },
     "execution_count": 41,
     "metadata": {},
     "output_type": "execute_result"
    }
   ],
   "source": [
    "tweets_vader_fg = fs.get_or_create_feature_group(\n",
    "    name='bitcoin_tweets_vader',\n",
    "    version=1\n",
    ")\n",
    "\n",
    "tweets_vader_fg.show(3)"
   ]
  },
  {
   "cell_type": "markdown",
   "id": "eac9ef05",
   "metadata": {},
   "source": [
    "--- \n",
    "\n",
    "## <span style=\"color:#ff5f27;\"> 🖍 Feature View Creation and Retrieving </span>"
   ]
  },
  {
   "cell_type": "code",
   "execution_count": 42,
   "id": "d4da72c1",
   "metadata": {},
   "outputs": [
    {
     "data": {
      "text/html": [
       "<div>\n",
       "<style scoped>\n",
       "    .dataframe tbody tr th:only-of-type {\n",
       "        vertical-align: middle;\n",
       "    }\n",
       "\n",
       "    .dataframe tbody tr th {\n",
       "        vertical-align: top;\n",
       "    }\n",
       "\n",
       "    .dataframe thead th {\n",
       "        text-align: right;\n",
       "    }\n",
       "</style>\n",
       "<table border=\"1\" class=\"dataframe\">\n",
       "  <thead>\n",
       "    <tr style=\"text-align: right;\">\n",
       "      <th></th>\n",
       "      <th>open</th>\n",
       "      <th>high</th>\n",
       "      <th>low</th>\n",
       "      <th>close</th>\n",
       "      <th>volume</th>\n",
       "      <th>quote_av</th>\n",
       "      <th>trades</th>\n",
       "      <th>tb_base_av</th>\n",
       "      <th>tb_quote_av</th>\n",
       "      <th>unix</th>\n",
       "      <th>...</th>\n",
       "      <th>strength_index_14_days</th>\n",
       "      <th>std_56_days</th>\n",
       "      <th>exp_mean_56_days</th>\n",
       "      <th>exp_std_56_days</th>\n",
       "      <th>momentum_56_days</th>\n",
       "      <th>rate_of_change_56_days</th>\n",
       "      <th>strength_index_56_days</th>\n",
       "      <th>subjectivity</th>\n",
       "      <th>polarity</th>\n",
       "      <th>compound</th>\n",
       "    </tr>\n",
       "  </thead>\n",
       "  <tbody>\n",
       "    <tr>\n",
       "      <th>0</th>\n",
       "      <td>19288.57</td>\n",
       "      <td>19316.14</td>\n",
       "      <td>18805.34</td>\n",
       "      <td>18920.50</td>\n",
       "      <td>239496.56746</td>\n",
       "      <td>4.568928e+09</td>\n",
       "      <td>3907636</td>\n",
       "      <td>120501.30570</td>\n",
       "      <td>2.298980e+09</td>\n",
       "      <td>1663970400000</td>\n",
       "      <td>...</td>\n",
       "      <td>41.050760</td>\n",
       "      <td>1798.851126</td>\n",
       "      <td>20556.688442</td>\n",
       "      <td>1596.848718</td>\n",
       "      <td>0.00</td>\n",
       "      <td>-18.772850</td>\n",
       "      <td>0.000000</td>\n",
       "      <td>2.929545</td>\n",
       "      <td>1.236364</td>\n",
       "      <td>-0.4297</td>\n",
       "    </tr>\n",
       "    <tr>\n",
       "      <th>1</th>\n",
       "      <td>19401.63</td>\n",
       "      <td>19500.00</td>\n",
       "      <td>18531.42</td>\n",
       "      <td>19289.91</td>\n",
       "      <td>385886.91829</td>\n",
       "      <td>7.330336e+09</td>\n",
       "      <td>5906265</td>\n",
       "      <td>194842.08772</td>\n",
       "      <td>3.701395e+09</td>\n",
       "      <td>1663884000000</td>\n",
       "      <td>...</td>\n",
       "      <td>43.393706</td>\n",
       "      <td>0.000000</td>\n",
       "      <td>20625.890131</td>\n",
       "      <td>1592.965300</td>\n",
       "      <td>0.00</td>\n",
       "      <td>0.000000</td>\n",
       "      <td>0.000000</td>\n",
       "      <td>8.131728</td>\n",
       "      <td>1.814836</td>\n",
       "      <td>1.3411</td>\n",
       "    </tr>\n",
       "    <tr>\n",
       "      <th>2</th>\n",
       "      <td>18874.31</td>\n",
       "      <td>19956.00</td>\n",
       "      <td>18125.98</td>\n",
       "      <td>18461.36</td>\n",
       "      <td>385034.10021</td>\n",
       "      <td>7.338668e+09</td>\n",
       "      <td>6907777</td>\n",
       "      <td>190299.47143</td>\n",
       "      <td>3.628362e+09</td>\n",
       "      <td>1663711200000</td>\n",
       "      <td>...</td>\n",
       "      <td>35.946446</td>\n",
       "      <td>0.000000</td>\n",
       "      <td>20737.577677</td>\n",
       "      <td>1612.607278</td>\n",
       "      <td>0.00</td>\n",
       "      <td>0.000000</td>\n",
       "      <td>0.000000</td>\n",
       "      <td>4.831750</td>\n",
       "      <td>1.555750</td>\n",
       "      <td>2.7372</td>\n",
       "    </tr>\n",
       "    <tr>\n",
       "      <th>3</th>\n",
       "      <td>18921.99</td>\n",
       "      <td>19180.21</td>\n",
       "      <td>18629.20</td>\n",
       "      <td>18807.38</td>\n",
       "      <td>191191.44920</td>\n",
       "      <td>3.625137e+09</td>\n",
       "      <td>3714450</td>\n",
       "      <td>94989.39646</td>\n",
       "      <td>1.801230e+09</td>\n",
       "      <td>1664056800000</td>\n",
       "      <td>...</td>\n",
       "      <td>40.332623</td>\n",
       "      <td>1809.705319</td>\n",
       "      <td>20486.092234</td>\n",
       "      <td>1602.430141</td>\n",
       "      <td>-4485.94</td>\n",
       "      <td>-19.170655</td>\n",
       "      <td>40.992233</td>\n",
       "      <td>5.335476</td>\n",
       "      <td>0.001825</td>\n",
       "      <td>-0.8352</td>\n",
       "    </tr>\n",
       "    <tr>\n",
       "      <th>4</th>\n",
       "      <td>19078.10</td>\n",
       "      <td>19790.00</td>\n",
       "      <td>18471.28</td>\n",
       "      <td>19412.82</td>\n",
       "      <td>521385.45547</td>\n",
       "      <td>9.964460e+09</td>\n",
       "      <td>7357437</td>\n",
       "      <td>260944.38118</td>\n",
       "      <td>4.988233e+09</td>\n",
       "      <td>1664316000000</td>\n",
       "      <td>...</td>\n",
       "      <td>46.316533</td>\n",
       "      <td>1811.372888</td>\n",
       "      <td>20342.896891</td>\n",
       "      <td>1560.210747</td>\n",
       "      <td>-3405.55</td>\n",
       "      <td>-14.189819</td>\n",
       "      <td>42.529903</td>\n",
       "      <td>8.002118</td>\n",
       "      <td>3.750354</td>\n",
       "      <td>5.1259</td>\n",
       "    </tr>\n",
       "    <tr>\n",
       "      <th>5</th>\n",
       "      <td>19226.68</td>\n",
       "      <td>20385.86</td>\n",
       "      <td>18816.32</td>\n",
       "      <td>19079.13</td>\n",
       "      <td>593260.74161</td>\n",
       "      <td>1.170577e+10</td>\n",
       "      <td>8152473</td>\n",
       "      <td>296727.71059</td>\n",
       "      <td>5.856646e+09</td>\n",
       "      <td>1664229600000</td>\n",
       "      <td>...</td>\n",
       "      <td>43.161525</td>\n",
       "      <td>1812.655631</td>\n",
       "      <td>20381.397969</td>\n",
       "      <td>1580.307998</td>\n",
       "      <td>-3908.66</td>\n",
       "      <td>-16.386972</td>\n",
       "      <td>41.735544</td>\n",
       "      <td>9.428977</td>\n",
       "      <td>3.290846</td>\n",
       "      <td>6.1473</td>\n",
       "    </tr>\n",
       "    <tr>\n",
       "      <th>6</th>\n",
       "      <td>18461.36</td>\n",
       "      <td>19550.17</td>\n",
       "      <td>18356.39</td>\n",
       "      <td>19401.63</td>\n",
       "      <td>379321.72111</td>\n",
       "      <td>7.203741e+09</td>\n",
       "      <td>6251862</td>\n",
       "      <td>190987.32145</td>\n",
       "      <td>3.627124e+09</td>\n",
       "      <td>1663797600000</td>\n",
       "      <td>...</td>\n",
       "      <td>44.100549</td>\n",
       "      <td>0.000000</td>\n",
       "      <td>20682.731792</td>\n",
       "      <td>1601.581399</td>\n",
       "      <td>0.00</td>\n",
       "      <td>0.000000</td>\n",
       "      <td>0.000000</td>\n",
       "      <td>2.998512</td>\n",
       "      <td>0.786066</td>\n",
       "      <td>1.5785</td>\n",
       "    </tr>\n",
       "    <tr>\n",
       "      <th>7</th>\n",
       "      <td>18809.13</td>\n",
       "      <td>19318.96</td>\n",
       "      <td>18680.72</td>\n",
       "      <td>19227.82</td>\n",
       "      <td>439239.21943</td>\n",
       "      <td>8.356952e+09</td>\n",
       "      <td>5837041</td>\n",
       "      <td>220623.29914</td>\n",
       "      <td>4.198006e+09</td>\n",
       "      <td>1664143200000</td>\n",
       "      <td>...</td>\n",
       "      <td>44.237252</td>\n",
       "      <td>1808.341707</td>\n",
       "      <td>20435.578748</td>\n",
       "      <td>1589.528209</td>\n",
       "      <td>-4040.19</td>\n",
       "      <td>-16.356379</td>\n",
       "      <td>41.989541</td>\n",
       "      <td>4.606190</td>\n",
       "      <td>2.187738</td>\n",
       "      <td>2.3028</td>\n",
       "    </tr>\n",
       "    <tr>\n",
       "      <th>8</th>\n",
       "      <td>19412.82</td>\n",
       "      <td>19645.52</td>\n",
       "      <td>18843.01</td>\n",
       "      <td>19321.16</td>\n",
       "      <td>327694.94420</td>\n",
       "      <td>6.340825e+09</td>\n",
       "      <td>4546630</td>\n",
       "      <td>164040.48246</td>\n",
       "      <td>3.174515e+09</td>\n",
       "      <td>1664402400000</td>\n",
       "      <td>...</td>\n",
       "      <td>45.568291</td>\n",
       "      <td>1812.900081</td>\n",
       "      <td>20302.471221</td>\n",
       "      <td>1542.100949</td>\n",
       "      <td>-3301.82</td>\n",
       "      <td>-17.120745</td>\n",
       "      <td>42.368349</td>\n",
       "      <td>4.839610</td>\n",
       "      <td>0.998431</td>\n",
       "      <td>2.5912</td>\n",
       "    </tr>\n",
       "  </tbody>\n",
       "</table>\n",
       "<p>9 rows × 35 columns</p>\n",
       "</div>"
      ],
      "text/plain": [
       "       open      high       low     close        volume      quote_av  \\\n",
       "0  19288.57  19316.14  18805.34  18920.50  239496.56746  4.568928e+09   \n",
       "1  19401.63  19500.00  18531.42  19289.91  385886.91829  7.330336e+09   \n",
       "2  18874.31  19956.00  18125.98  18461.36  385034.10021  7.338668e+09   \n",
       "3  18921.99  19180.21  18629.20  18807.38  191191.44920  3.625137e+09   \n",
       "4  19078.10  19790.00  18471.28  19412.82  521385.45547  9.964460e+09   \n",
       "5  19226.68  20385.86  18816.32  19079.13  593260.74161  1.170577e+10   \n",
       "6  18461.36  19550.17  18356.39  19401.63  379321.72111  7.203741e+09   \n",
       "7  18809.13  19318.96  18680.72  19227.82  439239.21943  8.356952e+09   \n",
       "8  19412.82  19645.52  18843.01  19321.16  327694.94420  6.340825e+09   \n",
       "\n",
       "    trades    tb_base_av   tb_quote_av           unix  ...  \\\n",
       "0  3907636  120501.30570  2.298980e+09  1663970400000  ...   \n",
       "1  5906265  194842.08772  3.701395e+09  1663884000000  ...   \n",
       "2  6907777  190299.47143  3.628362e+09  1663711200000  ...   \n",
       "3  3714450   94989.39646  1.801230e+09  1664056800000  ...   \n",
       "4  7357437  260944.38118  4.988233e+09  1664316000000  ...   \n",
       "5  8152473  296727.71059  5.856646e+09  1664229600000  ...   \n",
       "6  6251862  190987.32145  3.627124e+09  1663797600000  ...   \n",
       "7  5837041  220623.29914  4.198006e+09  1664143200000  ...   \n",
       "8  4546630  164040.48246  3.174515e+09  1664402400000  ...   \n",
       "\n",
       "   strength_index_14_days  std_56_days  exp_mean_56_days  exp_std_56_days  \\\n",
       "0               41.050760  1798.851126      20556.688442      1596.848718   \n",
       "1               43.393706     0.000000      20625.890131      1592.965300   \n",
       "2               35.946446     0.000000      20737.577677      1612.607278   \n",
       "3               40.332623  1809.705319      20486.092234      1602.430141   \n",
       "4               46.316533  1811.372888      20342.896891      1560.210747   \n",
       "5               43.161525  1812.655631      20381.397969      1580.307998   \n",
       "6               44.100549     0.000000      20682.731792      1601.581399   \n",
       "7               44.237252  1808.341707      20435.578748      1589.528209   \n",
       "8               45.568291  1812.900081      20302.471221      1542.100949   \n",
       "\n",
       "   momentum_56_days  rate_of_change_56_days  strength_index_56_days  \\\n",
       "0              0.00              -18.772850                0.000000   \n",
       "1              0.00                0.000000                0.000000   \n",
       "2              0.00                0.000000                0.000000   \n",
       "3          -4485.94              -19.170655               40.992233   \n",
       "4          -3405.55              -14.189819               42.529903   \n",
       "5          -3908.66              -16.386972               41.735544   \n",
       "6              0.00                0.000000                0.000000   \n",
       "7          -4040.19              -16.356379               41.989541   \n",
       "8          -3301.82              -17.120745               42.368349   \n",
       "\n",
       "   subjectivity  polarity  compound  \n",
       "0      2.929545  1.236364   -0.4297  \n",
       "1      8.131728  1.814836    1.3411  \n",
       "2      4.831750  1.555750    2.7372  \n",
       "3      5.335476  0.001825   -0.8352  \n",
       "4      8.002118  3.750354    5.1259  \n",
       "5      9.428977  3.290846    6.1473  \n",
       "6      2.998512  0.786066    1.5785  \n",
       "7      4.606190  2.187738    2.3028  \n",
       "8      4.839610  0.998431    2.5912  \n",
       "\n",
       "[9 rows x 35 columns]"
      ]
     },
     "execution_count": 42,
     "metadata": {},
     "output_type": "execute_result"
    }
   ],
   "source": [
    "final_df"
   ]
  },
  {
   "cell_type": "code",
   "execution_count": 43,
   "id": "52f154e5",
   "metadata": {
    "scrolled": true
   },
   "outputs": [
    {
     "name": "stdout",
     "output_type": "stream",
     "text": [
      "2022-09-29 21:50:05,977 INFO: USE `romantest1_featurestore`\n",
      "2022-09-29 21:50:06,972 INFO: WITH right_fg0 AS (SELECT *\n",
      "FROM (SELECT `fg2`.`open` `open`, `fg2`.`high` `high`, `fg2`.`low` `low`, `fg2`.`close` `close`, `fg2`.`volume` `volume`, `fg2`.`quote_av` `quote_av`, `fg2`.`trades` `trades`, `fg2`.`tb_base_av` `tb_base_av`, `fg2`.`tb_quote_av` `tb_quote_av`, `fg2`.`unix` `unix`, `fg2`.`mean_7_days` `mean_7_days`, `fg2`.`mean_14_days` `mean_14_days`, `fg2`.`mean_56_days` `mean_56_days`, `fg2`.`signal` `signal`, `fg2`.`std_7_days` `std_7_days`, `fg2`.`exp_mean_7_days` `exp_mean_7_days`, `fg2`.`exp_std_7_days` `exp_std_7_days`, `fg2`.`momentum_7_days` `momentum_7_days`, `fg2`.`rate_of_change_7_days` `rate_of_change_7_days`, `fg2`.`strength_index_7_days` `strength_index_7_days`, `fg2`.`std_14_days` `std_14_days`, `fg2`.`exp_mean_14_days` `exp_mean_14_days`, `fg2`.`exp_std_14_days` `exp_std_14_days`, `fg2`.`momentum_14_days` `momentum_14_days`, `fg2`.`rate_of_change_14_days` `rate_of_change_14_days`, `fg2`.`strength_index_14_days` `strength_index_14_days`, `fg2`.`std_56_days` `std_56_days`, `fg2`.`exp_mean_56_days` `exp_mean_56_days`, `fg2`.`exp_std_56_days` `exp_std_56_days`, `fg2`.`momentum_56_days` `momentum_56_days`, `fg2`.`rate_of_change_56_days` `rate_of_change_56_days`, `fg2`.`strength_index_56_days` `strength_index_56_days`, `fg2`.`unix` `join_pk_unix`, `fg2`.`unix` `join_evt_unix`, `fg0`.`subjectivity` `subjectivity`, `fg0`.`polarity` `polarity`, RANK() OVER (PARTITION BY `fg0`.`unix`, `fg2`.`unix` ORDER BY `fg0`.`unix` DESC) pit_rank_hopsworks\n",
      "FROM `romantest1_featurestore`.`bitcoin_price_1` `fg2`\n",
      "INNER JOIN `romantest1_featurestore`.`bitcoin_tweets_textblob_1` `fg0` ON `fg2`.`unix` = `fg0`.`unix` AND `fg2`.`unix` >= `fg0`.`unix`) NA\n",
      "WHERE `pit_rank_hopsworks` = 1), right_fg1 AS (SELECT *\n",
      "FROM (SELECT `fg2`.`open` `open`, `fg2`.`high` `high`, `fg2`.`low` `low`, `fg2`.`close` `close`, `fg2`.`volume` `volume`, `fg2`.`quote_av` `quote_av`, `fg2`.`trades` `trades`, `fg2`.`tb_base_av` `tb_base_av`, `fg2`.`tb_quote_av` `tb_quote_av`, `fg2`.`unix` `unix`, `fg2`.`mean_7_days` `mean_7_days`, `fg2`.`mean_14_days` `mean_14_days`, `fg2`.`mean_56_days` `mean_56_days`, `fg2`.`signal` `signal`, `fg2`.`std_7_days` `std_7_days`, `fg2`.`exp_mean_7_days` `exp_mean_7_days`, `fg2`.`exp_std_7_days` `exp_std_7_days`, `fg2`.`momentum_7_days` `momentum_7_days`, `fg2`.`rate_of_change_7_days` `rate_of_change_7_days`, `fg2`.`strength_index_7_days` `strength_index_7_days`, `fg2`.`std_14_days` `std_14_days`, `fg2`.`exp_mean_14_days` `exp_mean_14_days`, `fg2`.`exp_std_14_days` `exp_std_14_days`, `fg2`.`momentum_14_days` `momentum_14_days`, `fg2`.`rate_of_change_14_days` `rate_of_change_14_days`, `fg2`.`strength_index_14_days` `strength_index_14_days`, `fg2`.`std_56_days` `std_56_days`, `fg2`.`exp_mean_56_days` `exp_mean_56_days`, `fg2`.`exp_std_56_days` `exp_std_56_days`, `fg2`.`momentum_56_days` `momentum_56_days`, `fg2`.`rate_of_change_56_days` `rate_of_change_56_days`, `fg2`.`strength_index_56_days` `strength_index_56_days`, `fg2`.`unix` `join_pk_unix`, `fg2`.`unix` `join_evt_unix`, `fg1`.`compound` `compound`, RANK() OVER (PARTITION BY `fg1`.`unix`, `fg2`.`unix` ORDER BY `fg1`.`unix` DESC) pit_rank_hopsworks\n",
      "FROM `romantest1_featurestore`.`bitcoin_price_1` `fg2`\n",
      "INNER JOIN `romantest1_featurestore`.`bitcoin_tweets_vader_1` `fg1` ON `fg2`.`unix` = `fg1`.`unix` AND `fg2`.`unix` >= `fg1`.`unix`) NA\n",
      "WHERE `pit_rank_hopsworks` = 1) (SELECT `right_fg0`.`open` `open`, `right_fg0`.`high` `high`, `right_fg0`.`low` `low`, `right_fg0`.`close` `close`, `right_fg0`.`volume` `volume`, `right_fg0`.`quote_av` `quote_av`, `right_fg0`.`trades` `trades`, `right_fg0`.`tb_base_av` `tb_base_av`, `right_fg0`.`tb_quote_av` `tb_quote_av`, `right_fg0`.`unix` `unix`, `right_fg0`.`mean_7_days` `mean_7_days`, `right_fg0`.`mean_14_days` `mean_14_days`, `right_fg0`.`mean_56_days` `mean_56_days`, `right_fg0`.`signal` `signal`, `right_fg0`.`std_7_days` `std_7_days`, `right_fg0`.`exp_mean_7_days` `exp_mean_7_days`, `right_fg0`.`exp_std_7_days` `exp_std_7_days`, `right_fg0`.`momentum_7_days` `momentum_7_days`, `right_fg0`.`rate_of_change_7_days` `rate_of_change_7_days`, `right_fg0`.`strength_index_7_days` `strength_index_7_days`, `right_fg0`.`std_14_days` `std_14_days`, `right_fg0`.`exp_mean_14_days` `exp_mean_14_days`, `right_fg0`.`exp_std_14_days` `exp_std_14_days`, `right_fg0`.`momentum_14_days` `momentum_14_days`, `right_fg0`.`rate_of_change_14_days` `rate_of_change_14_days`, `right_fg0`.`strength_index_14_days` `strength_index_14_days`, `right_fg0`.`std_56_days` `std_56_days`, `right_fg0`.`exp_mean_56_days` `exp_mean_56_days`, `right_fg0`.`exp_std_56_days` `exp_std_56_days`, `right_fg0`.`momentum_56_days` `momentum_56_days`, `right_fg0`.`rate_of_change_56_days` `rate_of_change_56_days`, `right_fg0`.`strength_index_56_days` `strength_index_56_days`, `right_fg0`.`subjectivity` `subjectivity`, `right_fg0`.`polarity` `polarity`, `right_fg1`.`compound` `compound`\n",
      "FROM right_fg0\n",
      "INNER JOIN right_fg1 ON `right_fg0`.`join_pk_unix` = `right_fg1`.`join_pk_unix` AND `right_fg0`.`join_evt_unix` = `right_fg1`.`join_evt_unix`)\n"
     ]
    },
    {
     "data": {
      "text/plain": [
       "(484, 35)"
      ]
     },
     "execution_count": 43,
     "metadata": {},
     "output_type": "execute_result"
    }
   ],
   "source": [
    "# Query Preparation\n",
    "fg_query = btc_price_fg.select_except([\"date\"]).join(tweets_textblob_fg.select([\"subjectivity\",\"polarity\"])).join(tweets_vader_fg.select(\"compound\"))\n",
    "\n",
    "final_df = fg_query.read()"
   ]
  },
  {
   "cell_type": "code",
   "execution_count": 44,
   "id": "245511bc",
   "metadata": {
    "scrolled": true
   },
   "outputs": [
    {
     "data": {
      "text/plain": [
       "(484, 35)"
      ]
     },
     "execution_count": 44,
     "metadata": {},
     "output_type": "execute_result"
    }
   ],
   "source": [
    "final_df.shape"
   ]
  },
  {
   "cell_type": "code",
   "execution_count": 57,
   "id": "86e54fef",
   "metadata": {},
   "outputs": [
    {
     "data": {
      "image/png": "[encoded data removed]",
      "text/plain": [
       "<Figure size 432x288 with 1 Axes>"
      ]
     },
     "metadata": {
      "needs_background": "light"
     },
     "output_type": "display_data"
    },
    {
     "name": "stdout",
     "output_type": "stream",
     "text": [
      "\u001b[4mNUMBER OF NULL VALUES PER COLUMN:\u001b[0m\n",
      "open                      0\n",
      "high                      0\n",
      "low                       0\n",
      "close                     0\n",
      "volume                    0\n",
      "quote_av                  0\n",
      "trades                    0\n",
      "tb_base_av                0\n",
      "tb_quote_av               0\n",
      "unix                      0\n",
      "mean_7_days               0\n",
      "mean_14_days              0\n",
      "mean_56_days              0\n",
      "signal                    0\n",
      "std_7_days                0\n",
      "exp_mean_7_days           0\n",
      "exp_std_7_days            0\n",
      "momentum_7_days           0\n",
      "rate_of_change_7_days     0\n",
      "strength_index_7_days     0\n",
      "std_14_days               0\n",
      "exp_mean_14_days          0\n",
      "exp_std_14_days           0\n",
      "momentum_14_days          0\n",
      "rate_of_change_14_days    0\n",
      "strength_index_14_days    0\n",
      "std_56_days               0\n",
      "exp_mean_56_days          0\n",
      "exp_std_56_days           0\n",
      "momentum_56_days          0\n",
      "rate_of_change_56_days    0\n",
      "strength_index_56_days    0\n",
      "subjectivity              0\n",
      "polarity                  0\n",
      "compound                  0\n",
      "dtype: int64\n"
     ]
    }
   ],
   "source": [
    "import seaborn as sns\n",
    "import matplotlib.pyplot as plt\n",
    "\n",
    "sns.heatmap(final_df.isnull(),cbar=False,cmap='viridis')\n",
    "plt.show()\n",
    "print(\"\\033[4mNUMBER OF NULL VALUES PER COLUMN:\\033[0m\")\n",
    "print(final_df.isnull().sum())\n",
    "cols_with_nan = final_df.columns[final_df.isna().any()].tolist()"
   ]
  },
  {
   "cell_type": "code",
   "execution_count": 45,
   "id": "64f779fe",
   "metadata": {},
   "outputs": [],
   "source": [
    "columns_to_transform = final_df.columns\n",
    "columns_to_transform = columns_to_transform.tolist()\n",
    "columns_to_transform.remove(\"unix\")"
   ]
  },
  {
   "cell_type": "code",
   "execution_count": 46,
   "id": "3b48e143",
   "metadata": {},
   "outputs": [
    {
     "data": {
      "text/plain": [
       "34"
      ]
     },
     "execution_count": 46,
     "metadata": {},
     "output_type": "execute_result"
    }
   ],
   "source": [
    "len(columns_to_transform)"
   ]
  },
  {
   "cell_type": "code",
   "execution_count": 47,
   "id": "643f6ed6",
   "metadata": {},
   "outputs": [],
   "source": [
    "# Load the transformation functions.\n",
    "min_max_scaler = fs.get_transformation_function(name=\"min_max_scaler\")\n",
    "\n",
    "# Map features to transformation functions.\n",
    "transformation_functions = {col: min_max_scaler for col in columns_to_transform}"
   ]
  },
  {
   "cell_type": "code",
   "execution_count": 51,
   "id": "11f3df53",
   "metadata": {},
   "outputs": [
    {
     "name": "stdout",
     "output_type": "stream",
     "text": [
      "Feature view created successfully, explore it at \n",
      "https://c.app.hopsworks.ai:443/p/1152/fs/1100/fv/bitcoin_feature_view/version/1\n"
     ]
    }
   ],
   "source": [
    "feature_view = fs.create_feature_view(\n",
    "    name='bitcoin_feature_view',\n",
    "    version=1,\n",
    "    transformation_functions=transformation_functions,\n",
    "    query=fg_query\n",
    ")"
   ]
  },
  {
   "cell_type": "markdown",
   "id": "0819a2f7",
   "metadata": {},
   "source": [
    "---\n",
    "\n",
    "## <span style=\"color:#ff5f27;\"> 🏋️ Training Dataset Creation</span>\n",
    "---\n",
    "\n",
    "### <span style=\"color:#ff5f27;\">🪓 TimeSeriesSplit</span>"
   ]
  },
  {
   "cell_type": "markdown",
   "id": "96315749",
   "metadata": {},
   "source": [
    "### It doesnt work for me, so will pass this step."
   ]
  },
  {
   "cell_type": "code",
   "execution_count": 52,
   "id": "db001d18",
   "metadata": {},
   "outputs": [],
   "source": [
    "from datetime import datetime\n",
    "date_format = \"%Y-%m-%d %H:%M:%S\""
   ]
  },
  {
   "cell_type": "code",
   "execution_count": 53,
   "id": "f88a827b",
   "metadata": {
    "scrolled": true
   },
   "outputs": [
    {
     "name": "stdout",
     "output_type": "stream",
     "text": [
      "Training dataset job started successfully, you can follow the progress at \n",
      "https://c.app.hopsworks.ai/p/1152/jobs/named/bitcoin_feature_view_1_1_create_fv_td_29092022195141/executions\n"
     ]
    },
    {
     "name": "stderr",
     "output_type": "stream",
     "text": [
      "VersionWarning: Incremented version to `1`.\n"
     ]
    }
   ],
   "source": [
    "# Create training datasets based event time filter\n",
    "start_time = int(float(datetime.strptime(\"2021-02-05 10:00:00\", date_format).timestamp()) * 1000)\n",
    "end_time = int(float(datetime.strptime(\"2022-01-01 23:59:59\", date_format).timestamp()) * 1000)\n",
    "\n",
    "\n",
    "td_train_version, td_job = feature_view.create_training_data(\n",
    "        start_time = start_time,\n",
    "        end_time = end_time,    \n",
    "        description = 'transactions fraud online training dataset jan/feb',\n",
    "        data_format = \"csv\",\n",
    "        coalesce = True,\n",
    "        write_options = {'wait_for_job': True},\n",
    "    )"
   ]
  },
  {
   "cell_type": "code",
   "execution_count": 54,
   "id": "78331cf1",
   "metadata": {
    "scrolled": true
   },
   "outputs": [
    {
     "name": "stdout",
     "output_type": "stream",
     "text": [
      "Training dataset job started successfully, you can follow the progress at \n",
      "https://c.app.hopsworks.ai/p/1152/jobs/named/bitcoin_feature_view_1_2_create_fv_td_29092022195352/executions\n"
     ]
    },
    {
     "name": "stderr",
     "output_type": "stream",
     "text": [
      "VersionWarning: Incremented version to `2`.\n"
     ]
    }
   ],
   "source": [
    "# Create training datasets based event time filter\n",
    "start_time = int(float(datetime.strptime(\"2022-01-02 00:00:00\", date_format).timestamp()) * 1000)\n",
    "end_time = int(float(datetime.strptime(\"2022-04-30 23:59:59\", date_format).timestamp()) * 1000)\n",
    "\n",
    "td_validation_version, td_job = feature_view.create_training_data(\n",
    "        start_time = start_time,\n",
    "        end_time = end_time,    \n",
    "        description = 'transactions fraud online training dataset jan/feb',\n",
    "        data_format = \"csv\",\n",
    "        coalesce = True,\n",
    "        write_options = {'wait_for_job': True},\n",
    "    )"
   ]
  },
  {
   "cell_type": "code",
   "execution_count": 55,
   "id": "72a9a520",
   "metadata": {},
   "outputs": [
    {
     "name": "stdout",
     "output_type": "stream",
     "text": [
      "Training dataset job started successfully, you can follow the progress at \n",
      "https://c.app.hopsworks.ai/p/1152/jobs/named/bitcoin_feature_view_1_3_create_fv_td_29092022195530/executions\n"
     ]
    },
    {
     "name": "stderr",
     "output_type": "stream",
     "text": [
      "VersionWarning: Incremented version to `3`.\n"
     ]
    }
   ],
   "source": [
    "# Create training datasets based event time filter\n",
    "start_time = int(float(datetime.strptime(\"2022-05-01 00:00:00\", date_format).timestamp()) * 1000)\n",
    "end_time = int(float(datetime.strptime(\"2022-06-04 23:59:59\", date_format).timestamp()) * 1000)\n",
    "\n",
    "td_test_version, td_job = feature_view.create_training_data(\n",
    "        start_time = start_time,\n",
    "        end_time = end_time,    \n",
    "        description = 'transactions fraud online training dataset jan/feb',\n",
    "        data_format = \"csv\",\n",
    "        coalesce = True,\n",
    "        write_options = {'wait_for_job': True},\n",
    "    )"
   ]
  },
  {
   "cell_type": "markdown",
   "id": "c62db8c1",
   "metadata": {},
   "source": [
    "---"
   ]
  }
 ],
 "metadata": {
  "kernelspec": {
   "display_name": "Python 3 (ipykernel)",
   "language": "python",
   "name": "python3"
  },
  "language_info": {
   "codemirror_mode": {
    "name": "ipython",
    "version": 3
   },
   "file_extension": ".py",
   "mimetype": "text/x-python",
   "name": "python",
   "nbconvert_exporter": "python",
   "pygments_lexer": "ipython3",
   "version": "3.8.0"
  }
 },
 "nbformat": 4,
 "nbformat_minor": 5
}
