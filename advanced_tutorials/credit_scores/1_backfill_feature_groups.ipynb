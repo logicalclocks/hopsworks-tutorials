{
 "cells": [
  {
   "cell_type": "markdown",
   "id": "7958e192",
   "metadata": {},
   "source": [
    "# <span style=\"font-width:bold; font-size: 3rem; color:#1EB182;\"><img src=\"../../images/icon102.png\" width=\"38px\"></img> **Hopsworks Feature Store** </span><span style=\"font-width:bold; font-size: 3rem; color:#333;\">- Part 01: Backfill Features to the Feature Store</span>\n",
    "\n",
    "[![Open In Colab](https://colab.research.google.com/assets/colab-badge.svg)](https://colab.research.google.com/github/logicalclocks/hopsworks-tutorials/blob/master/advanced_tutorials/{project_name}/{notebook_name}.ipynb)\n",
    "\n",
    "## 🗒️ This notebook is divided into the following sections:\n",
    "1. Fetch historical data\n",
    "2. Connect to the Hopsworks feature store\n",
    "3. Create feature groups and insert them to the feature store\n",
    "4. Data Visualization\n",
    "\n",
    "![tutorial-flow](../../images/01_featuregroups.png)"
   ]
  },
  {
   "cell_type": "markdown",
   "id": "e04ae9f1",
   "metadata": {},
   "source": [
    "## <span style='color:#ff5f27'> 📝 Imports"
   ]
  },
  {
   "cell_type": "code",
   "execution_count": null,
   "id": "226f9190",
   "metadata": {},
   "outputs": [],
   "source": [
    "import pandas as pd\n",
    "import numpy as np\n",
    "import matplotlib.pyplot as plt\n",
    "import seaborn as sns\n",
    "\n",
    "from functions import *"
   ]
  },
  {
   "cell_type": "markdown",
   "id": "d589cd3b",
   "metadata": {},
   "source": [
    "## <span style=\"color:#ff5f27;\"> 💽 Loading the Data </span>"
   ]
  },
  {
   "cell_type": "markdown",
   "id": "cefb3e61",
   "metadata": {},
   "source": [
    "#### <span style=\"color:#ff5f27;\">⛳️ Application Train dataset</span>\n",
    "\n",
    "The main training dataset contains information about each loan application at Home Credit. Every loan has its own row and is identified by the feature **SK_ID_CURR**. This dataset has binary target indicating if the loan was repaid(0) or not(1)."
   ]
  },
  {
   "cell_type": "code",
   "execution_count": null,
   "id": "989a8561",
   "metadata": {},
   "outputs": [],
   "source": [
    "application_train_org = pd.read_csv(\"https://repo.hops.works/dev/davit/credit_scores/application_train.csv\")\n",
    "application_train_org.head()"
   ]
  },
  {
   "cell_type": "markdown",
   "id": "b19906f6",
   "metadata": {},
   "source": [
    "#### <span style=\"color:#ff5f27;\">⛳️ Application Test dataset</span>"
   ]
  },
  {
   "cell_type": "code",
   "execution_count": null,
   "id": "f4af380d",
   "metadata": {},
   "outputs": [],
   "source": [
    "application_test = pd.read_csv('https://repo.hops.works/dev/davit/credit_scores/application_test.csv')\n",
    "\n",
    "application_test.head()"
   ]
  },
  {
   "cell_type": "markdown",
   "id": "b763193c",
   "metadata": {},
   "source": [
    "#### <span style=\"color:#ff5f27;\">⛳️ Bureau Balance dataset</span>\n",
    "\n",
    "Dataset contains monthly data about the previous credits in bureau. Each row is one month of a previous credit, and a single previous credit can have multiple rows, one for each month of the credit length."
   ]
  },
  {
   "cell_type": "code",
   "execution_count": null,
   "id": "2937eff7",
   "metadata": {},
   "outputs": [],
   "source": [
    "bureau_balance = pd.read_csv('https://repo.hops.works/dev/davit/credit_scores/bureau_balance.csv')\n",
    "\n",
    "bureau_balance.head()"
   ]
  },
  {
   "cell_type": "markdown",
   "id": "872713a6",
   "metadata": {},
   "source": [
    "#### <span style=\"color:#ff5f27;\">⛳️ Bureau Dataset</span>\n",
    "\n",
    "Dataset contains data about client's previous credits from other financial institutions. Each previous credit has its own row in bureau, but one loan in the application data can have multiple previous credits."
   ]
  },
  {
   "cell_type": "code",
   "execution_count": null,
   "id": "7d3ba868",
   "metadata": {},
   "outputs": [],
   "source": [
    "bureau = pd.read_csv('https://repo.hops.works/dev/davit/credit_scores/bureau.csv')\n",
    "\n",
    "bureau.head()"
   ]
  },
  {
   "cell_type": "markdown",
   "id": "64a9edb1",
   "metadata": {},
   "source": [
    "#### <span style=\"color:#ff5f27;\">⛳️ Credit Card Balance Dataset</span>\n",
    "\n",
    "Dataset contains monthly data about previous credit cards clients have had with Home Credit. Each row is one month of a credit card balance, and a single credit card can have many rows."
   ]
  },
  {
   "cell_type": "code",
   "execution_count": null,
   "id": "b26c4abb",
   "metadata": {},
   "outputs": [],
   "source": [
    "credit_card_balance = pd.read_csv('https://repo.hops.works/dev/davit/credit_scores/credit_card_balance.csv')\n",
    "\n",
    "credit_card_balance.head()"
   ]
  },
  {
   "cell_type": "markdown",
   "id": "d54ba6bf",
   "metadata": {},
   "source": [
    "#### <span style=\"color:#ff5f27;\">⛳️ Installments Payments Dataset</span>\n",
    "\n",
    "Dataset contains payment history for previous loans at Home Credit. There is one row for every made payment and one row for every missed payment."
   ]
  },
  {
   "cell_type": "code",
   "execution_count": null,
   "id": "3f623167",
   "metadata": {},
   "outputs": [],
   "source": [
    "installments_payments = pd.read_csv('https://repo.hops.works/dev/davit/credit_scores/installments_payments.csv')\n",
    "\n",
    "installments_payments.head()"
   ]
  },
  {
   "cell_type": "markdown",
   "id": "5fee5ff5",
   "metadata": {},
   "source": [
    "#### <span style=\"color:#ff5f27;\">⛳️ POS (point of sales) and Cash Loans Balance Dataset</span>\n",
    "\n",
    "Monthly balance snapshots of previous POS (point of sales) and cash loans that the applicant had with Home Credit.\n",
    "\n",
    "This table has one row for each month of history of every previous credit in Home Credit (consumer credit and cash loans) related to loans in our sample"
   ]
  },
  {
   "cell_type": "code",
   "execution_count": null,
   "id": "81dfba17",
   "metadata": {},
   "outputs": [],
   "source": [
    "pos_cash_balance = pd.read_csv('https://repo.hops.works/dev/davit/credit_scores/POS_CASH_balance.csv')\n",
    "\n",
    "pos_cash_balance.head()"
   ]
  },
  {
   "cell_type": "markdown",
   "id": "ce2ab3fb",
   "metadata": {},
   "source": [
    "#### <span style=\"color:#ff5f27;\">⛳️ Previous Application Dataset</span>\n",
    "\n",
    "All previous applications for Home Credit loans of clients who have loans in our sample.\n",
    "\n",
    "There is one row for each previous application related to loans in our data sample."
   ]
  },
  {
   "cell_type": "code",
   "execution_count": null,
   "id": "0e0c308b",
   "metadata": {},
   "outputs": [],
   "source": [
    "previous_application = pd.read_csv('https://repo.hops.works/dev/davit/credit_scores/previous_application.csv')\n",
    "\n",
    "previous_application.head()"
   ]
  },
  {
   "cell_type": "markdown",
   "id": "d2d4567c",
   "metadata": {},
   "source": [
    "---\n",
    "\n",
    "## <span style=\"color:#ff5f27;\"> 🛠️ Feature Engineering </span>"
   ]
  },
  {
   "cell_type": "markdown",
   "id": "f697fa16",
   "metadata": {},
   "source": [
    "#### <span style=\"color:#ff5f27;\"> ⛳️ Dataset with amount of previous loans</span>"
   ]
  },
  {
   "cell_type": "code",
   "execution_count": null,
   "id": "4740c3e0",
   "metadata": {},
   "outputs": [],
   "source": [
    "previous_loan_counts = bureau.groupby('SK_ID_CURR', as_index=False)['SK_ID_BUREAU'].count().rename(columns = {'SK_ID_BUREAU': 'previous_loan_counts'})\n",
    "\n",
    "previous_loan_counts.head()"
   ]
  },
  {
   "cell_type": "markdown",
   "id": "8263773f",
   "metadata": {},
   "source": [
    "---\n",
    "\n",
    "## <span style=\"color:#ff5f27;\">👨🏻‍⚖️ Dealing with missing values</span>"
   ]
  },
  {
   "cell_type": "code",
   "execution_count": null,
   "id": "189bc247",
   "metadata": {},
   "outputs": [],
   "source": [
    "application_train = remove_nans(application_train_org)\n",
    "application_test = remove_nans(application_test)\n",
    "bureau = remove_nans(bureau)\n",
    "credit_card_balance.dropna(inplace = True)\n",
    "installments_payments.dropna(inplace = True)\n",
    "pos_cash_balance.dropna(inplace = True)\n",
    "previous_application = remove_nans(previous_application)"
   ]
  },
  {
   "cell_type": "markdown",
   "id": "d9d7c3e0",
   "metadata": {},
   "source": [
    "---\n",
    "## <span style=\"color:#ff5f27;\">🔬 🧬 Subsampling Data</span>\n",
    "\n",
    "Our datasets have a lot of data. So we are going to subsample them in order to save our time.\n",
    "\n"
   ]
  },
  {
   "cell_type": "code",
   "execution_count": null,
   "id": "4e3f8ea8",
   "metadata": {},
   "outputs": [],
   "source": [
    "application_train_sample = get_subsample(application_train)\n",
    "bureau_balance_sample = get_subsample(bureau_balance)\n",
    "bureau_sample = get_subsample(bureau)\n",
    "credit_card_balance_sample = get_subsample(credit_card_balance)\n",
    "installments_payments_sample = get_subsample(installments_payments)\n",
    "pos_cash_balance_sample = get_subsample(pos_cash_balance)\n",
    "previous_application_sample = get_subsample(previous_application)"
   ]
  },
  {
   "cell_type": "markdown",
   "id": "197fb726",
   "metadata": {},
   "source": [
    "## <span style=\"color:#ff5f27;\"> 🔮 Connecting to Hopsworks Feature Store </span>"
   ]
  },
  {
   "cell_type": "code",
   "execution_count": null,
   "id": "028a89a6",
   "metadata": {},
   "outputs": [],
   "source": [
    "import hopsworks\n",
    "\n",
    "project = hopsworks.login()\n",
    "\n",
    "fs = project.get_feature_store() "
   ]
  },
  {
   "cell_type": "code",
   "execution_count": null,
   "id": "9b061d98",
   "metadata": {},
   "outputs": [],
   "source": [
    "print(f'Feature Store Name: {fs.name}')\n",
    "print(f'Feature Store Description: {fs.description}')"
   ]
  },
  {
   "cell_type": "markdown",
   "id": "0b431722",
   "metadata": {},
   "source": [
    "---\n",
    "\n",
    "## <span style=\"color:#ff5f27;\"> 🪄 Creating Feature Groups </span>\n",
    "\n",
    "A `Feature Groups` is a logical grouping of features, and experience has shown, that this grouping generally originates from the features being derived from the same data source. The `Feature Group` lets you save metadata along features.\n",
    "\n",
    "Generally, the features in a feature group are engineered together in an ingestion job. However, it is possible to have additional jobs to append features to an existing feature group. Furthermore, `Feature Groups` provide a way of defining a namespace for features, such that you can define features with the same name multiple times, but uniquely identified by the group they are contained in.\n",
    "\n",
    "> It is important to note that `Feature Groups` are not groupings of features for immediate training of Machine Learning models. Instead, to ensure reusability of features, it is possible to combine features from any number of groups into **Feature View**."
   ]
  },
  {
   "cell_type": "markdown",
   "id": "4e0f9bea",
   "metadata": {},
   "source": [
    "### <span style=\"color:#ff5f27;\">⛳️Creating Application train and test Feature Groups </span>"
   ]
  },
  {
   "cell_type": "code",
   "execution_count": null,
   "id": "4a019363",
   "metadata": {},
   "outputs": [],
   "source": [
    "application_train.columns = [col_name.lower() for col_name in application_train.columns]\n",
    "\n",
    "application_train_fg = fs.get_or_create_feature_group(\n",
    "    name = 'application_train',\n",
    "    version = 1,\n",
    "    primary_key = ['sk_id_curr'],\n",
    "    online_enabled = False\n",
    ")\n",
    "\n",
    "application_train_fg.insert(application_train_sample)"
   ]
  },
  {
   "cell_type": "code",
   "execution_count": null,
   "id": "66e518f5",
   "metadata": {},
   "outputs": [],
   "source": [
    "application_test.columns = [col_name.lower() for col_name in application_test.columns]\n",
    "\n",
    "application_test_fg = fs.get_or_create_feature_group(\n",
    "    name = 'application_test',\n",
    "    version = 1,\n",
    "    primary_key = ['sk_id_curr'],\n",
    "    online_enabled = False\n",
    ")\n",
    "\n",
    "application_test_fg.insert(application_test)"
   ]
  },
  {
   "cell_type": "markdown",
   "id": "c79ae102",
   "metadata": {},
   "source": [
    "#### <span style=\"color:#ff5f27;\"> ⛳️ Bureau Balance Feature Group</span>"
   ]
  },
  {
   "cell_type": "code",
   "execution_count": null,
   "id": "e9d480d3",
   "metadata": {},
   "outputs": [],
   "source": [
    "bureau_balance.columns = [col_name.lower() for col_name in bureau_balance.columns]\n",
    "\n",
    "bureau_balance_fg = fs.get_or_create_feature_group(\n",
    "    name = 'bureau_balance',\n",
    "    version = 1,\n",
    "    primary_key = ['sk_id_bureau'],\n",
    "    online_enabled = False\n",
    ")\n",
    "\n",
    "bureau_balance_fg.insert(bureau_balance_sample)"
   ]
  },
  {
   "cell_type": "markdown",
   "id": "90720df5",
   "metadata": {},
   "source": [
    "#### <span style=\"color:#ff5f27;\"> ⛳️ Bureau Feature Group</span>"
   ]
  },
  {
   "cell_type": "code",
   "execution_count": null,
   "id": "83835caf",
   "metadata": {},
   "outputs": [],
   "source": [
    "bureau.columns = [col_name.lower() for col_name in bureau.columns]\n",
    "\n",
    "bureau_fg = fs.get_or_create_feature_group(\n",
    "    name = 'bureau',\n",
    "    version = 1,\n",
    "    primary_key = ['sk_id_curr','sk_id_bureau'],\n",
    "    online_enabled = False\n",
    ")\n",
    "\n",
    "bureau_fg.insert(bureau_sample)"
   ]
  },
  {
   "cell_type": "markdown",
   "id": "f715d59a",
   "metadata": {},
   "source": [
    "#### <span style=\"color:#ff5f27;\"> ⛳️ Previous Application Feature Group</span>"
   ]
  },
  {
   "cell_type": "code",
   "execution_count": null,
   "id": "c1197460",
   "metadata": {},
   "outputs": [],
   "source": [
    "previous_application.columns = [col_name.lower() for col_name in previous_application.columns]\n",
    "\n",
    "previous_application_fg = fs.get_or_create_feature_group(\n",
    "    name = 'previous_application',\n",
    "    version = 1,\n",
    "    primary_key = ['sk_id_prev','sk_id_curr'],\n",
    "    online_enabled = False\n",
    ")\n",
    "\n",
    "previous_application_fg.insert(previous_application_sample)"
   ]
  },
  {
   "cell_type": "markdown",
   "id": "e2c02c7c",
   "metadata": {},
   "source": [
    "#### <span style=\"color:#ff5f27;\"> ⛳️ Pos_Cash_Balance Feature Group</span>"
   ]
  },
  {
   "cell_type": "code",
   "execution_count": null,
   "id": "f8782fbd",
   "metadata": {},
   "outputs": [],
   "source": [
    "pos_cash_balance.columns = [col_name.lower() for col_name in pos_cash_balance.columns]\n",
    "\n",
    "pos_cash_balance_fg = fs.get_or_create_feature_group(\n",
    "    name = 'pos_cash_balance',\n",
    "    version = 1,\n",
    "    primary_key = ['sk_id_prev','sk_id_curr'],\n",
    "    online_enabled = False\n",
    ")\n",
    "\n",
    "pos_cash_balance_fg.insert(pos_cash_balance_sample)"
   ]
  },
  {
   "cell_type": "markdown",
   "id": "9747bf01",
   "metadata": {},
   "source": [
    "#### <span style=\"color:#ff5f27;\"> ⛳️ Instalments Payments Feature Group</span>"
   ]
  },
  {
   "cell_type": "code",
   "execution_count": null,
   "id": "4a3a3cc7",
   "metadata": {},
   "outputs": [],
   "source": [
    "installments_payments.columns = [col_name.lower() for col_name in installments_payments.columns]\n",
    "\n",
    "installments_payments_fg = fs.get_or_create_feature_group(\n",
    "    name = 'installments_payments',\n",
    "    version = 1,\n",
    "    primary_key = ['sk_id_prev','sk_id_curr'],\n",
    "    online_enabled = False\n",
    ")\n",
    "\n",
    "installments_payments_fg.insert(installments_payments_sample)"
   ]
  },
  {
   "cell_type": "markdown",
   "id": "4648b1f3",
   "metadata": {},
   "source": [
    "#### <span style=\"color:#ff5f27;\"> ⛳️ Credit Card Balance Feature Group</span>"
   ]
  },
  {
   "cell_type": "code",
   "execution_count": null,
   "id": "cbd1df97",
   "metadata": {},
   "outputs": [],
   "source": [
    "credit_card_balance.columns = [col_name.lower() for col_name in credit_card_balance.columns]\n",
    "\n",
    "credit_card_balance_fg = fs.get_or_create_feature_group(\n",
    "    name = 'credit_card_balance',\n",
    "    version = 1,\n",
    "    primary_key = ['sk_id_prev','sk_id_curr'],\n",
    "    online_enabled = False\n",
    ")\n",
    "\n",
    "credit_card_balance_fg.insert(credit_card_balance_sample)"
   ]
  },
  {
   "cell_type": "markdown",
   "id": "cde0a8af",
   "metadata": {},
   "source": [
    "#### <span style=\"color:#ff5f27;\"> ⛳️ Previous Load Counts Feature Group</span>"
   ]
  },
  {
   "cell_type": "code",
   "execution_count": null,
   "id": "35b69b06",
   "metadata": {},
   "outputs": [],
   "source": [
    "previous_loan_counts.columns = [col_name.lower() for col_name in previous_loan_counts.columns]\n",
    "\n",
    "previous_loan_counts_fg = fs.get_or_create_feature_group(\n",
    "    name = 'previous_loan_counts',\n",
    "    version = 1,\n",
    "    primary_key = ['sk_id_curr'],\n",
    "    online_enabled = False\n",
    ")\n",
    "\n",
    "previous_loan_counts_fg.insert(previous_loan_counts)"
   ]
  },
  {
   "cell_type": "markdown",
   "id": "184f5239",
   "metadata": {},
   "source": [
    "---\n",
    "\n",
    "## <span style=\"color:#ff5f27;\">👨🏻‍🎨 Data Exploration</span>"
   ]
  },
  {
   "cell_type": "code",
   "execution_count": null,
   "id": "2a7a328f",
   "metadata": {},
   "outputs": [],
   "source": [
    "plt.figure(figsize=(12,5))\n",
    "\n",
    "plt.pie(\n",
    "    application_train.target.value_counts(),\n",
    "    labels = ['Repayed','Not Repayed'], \n",
    "    explode = (0, 0.2),\n",
    "    shadow=True,\n",
    "    autopct='%1.1f%%',\n",
    "    radius = 1.2\n",
    ")\n",
    "\n",
    "plt.title(\"Ratio of Loan Repayed or Not\", fontsize = 15)\n",
    "plt.show()"
   ]
  },
  {
   "cell_type": "code",
   "execution_count": null,
   "id": "ddbcb3bd",
   "metadata": {},
   "outputs": [],
   "source": [
    "plt.figure(figsize=(12,5))\n",
    "\n",
    "sns.distplot(application_train.amt_credit)\n",
    "\n",
    "plt.title(\"Distribution of Amount of Credit\", fontsize = 15)\n",
    "plt.xlabel('Amount of credit')\n",
    "plt.show()"
   ]
  },
  {
   "cell_type": "code",
   "execution_count": null,
   "id": "fb565766",
   "metadata": {},
   "outputs": [],
   "source": [
    "plt.figure(figsize=(12,5))\n",
    "\n",
    "sns.distplot(application_train.amt_goods_price)\n",
    "\n",
    "plt.title(\"Distribution of Amount of Goods Price\", fontsize = 15)\n",
    "plt.xlabel('Amount of goods price')\n",
    "plt.show()"
   ]
  },
  {
   "cell_type": "code",
   "execution_count": null,
   "id": "7d6d3b54",
   "metadata": {},
   "outputs": [],
   "source": [
    "plt.figure(figsize=(12,5))\n",
    "\n",
    "sns.distplot(application_train.days_birth / -365,bins = 30)\n",
    "\n",
    "plt.title(\"Distribution of Applicant Age\", fontsize = 15)\n",
    "plt.xlabel('Years')\n",
    "plt.show()"
   ]
  },
  {
   "cell_type": "code",
   "execution_count": null,
   "id": "6fed19e0",
   "metadata": {},
   "outputs": [],
   "source": [
    "temp_df = application_train.name_type_suite.value_counts().reset_index()\n",
    "\n",
    "plt.figure(figsize=(12,5))\n",
    "\n",
    "sns.barplot(data = temp_df, x = 'index', y = 'name_type_suite')\n",
    "\n",
    "plt.title(\"Who accompanied client when applying for the  application\", fontsize = 15)\n",
    "plt.xlabel('Accompanior')\n",
    "plt.ylabel('Amount')\n",
    "plt.show()"
   ]
  },
  {
   "cell_type": "code",
   "execution_count": null,
   "id": "2be6a5b1",
   "metadata": {},
   "outputs": [],
   "source": [
    "plt.figure(figsize=(12,5))\n",
    "\n",
    "plt.pie(\n",
    "    application_train.flag_own_car.value_counts(),\n",
    "    labels = ['Loan for other purpose','Loan for a car'] ,\n",
    "    explode = (0, 0.1),\n",
    "    shadow = True,\n",
    "    autopct = '%1.1f%%',\n",
    "    radius = 1.2\n",
    ")\n",
    "\n",
    "plt.title(\"Ratio of loan for a car or not\", fontsize = 15)\n",
    "plt.show()"
   ]
  },
  {
   "cell_type": "code",
   "execution_count": null,
   "id": "dd8d6ea2",
   "metadata": {},
   "outputs": [],
   "source": [
    "plt.figure(figsize=(12,5))\n",
    "\n",
    "plt.pie(\n",
    "    application_train.flag_own_realty.value_counts(),\n",
    "    labels = ['Loan for revalty','Loan for other purpose'], \n",
    "    explode = (0, 0.1),\n",
    "    shadow=True, \n",
    "    autopct='%1.1f%%',\n",
    "    radius = 1.2\n",
    ")\n",
    "\n",
    "plt.title(\"Ratio of realty for a car or not\", fontsize = 15)\n",
    "plt.show()"
   ]
  },
  {
   "cell_type": "code",
   "execution_count": null,
   "id": "eb5a18bb",
   "metadata": {},
   "outputs": [],
   "source": [
    "temp_df = application_train.name_income_type.value_counts()[:4]\n",
    "\n",
    "plt.figure(figsize=(12,5))\n",
    "\n",
    "plt.pie(\n",
    "    temp_df,\n",
    "    labels = temp_df[:4].index,\n",
    "    explode = (0, 0.075,0.1,0.1), \n",
    "    shadow = True, \n",
    "    autopct = '%1.1f%%',\n",
    "    labeldistance = 0.8,\n",
    "    radius = 1.2\n",
    ")\n",
    "\n",
    "plt.title(\"Income Ratio\", fontsize = 15)\n",
    "plt.show()"
   ]
  },
  {
   "cell_type": "code",
   "execution_count": null,
   "id": "e8453441",
   "metadata": {},
   "outputs": [],
   "source": [
    "temp_df = application_train.name_family_status.value_counts()[:-1]\n",
    "\n",
    "plt.figure(figsize=(12,5))\n",
    "\n",
    "plt.pie(\n",
    "    temp_df,\n",
    "    labels = temp_df.index,\n",
    "    explode = (0,0.1,0.1,0.1), \n",
    "    shadow = True, \n",
    "    autopct = '%1.1f%%',\n",
    "    labeldistance = 1.05,\n",
    "    radius = 1.2\n",
    ")\n",
    "\n",
    "plt.title(\"Family Status Ratio\", fontsize = 15)\n",
    "plt.show()"
   ]
  },
  {
   "cell_type": "code",
   "execution_count": null,
   "id": "bea8bb8d",
   "metadata": {},
   "outputs": [],
   "source": [
    "plt.figure(figsize=(12,5))\n",
    "\n",
    "sns.countplot(\n",
    "    data = application_train_org,\n",
    "    x = 'OCCUPATION_TYPE',\n",
    "    order = application_train_org['OCCUPATION_TYPE'].value_counts().index\n",
    ")\n",
    "\n",
    "plt.title(\"Occupation of who applied for loan\", fontsize = 15)\n",
    "plt.xticks(rotation = 45)\n",
    "plt.show()"
   ]
  },
  {
   "cell_type": "code",
   "execution_count": null,
   "id": "c4042875",
   "metadata": {},
   "outputs": [],
   "source": [
    "plt.figure(figsize=(12,5))\n",
    "\n",
    "ax = sns.countplot(\n",
    "    data = application_train_org,\n",
    "    x = 'NAME_EDUCATION_TYPE',\n",
    "    hue = 'TARGET',\n",
    "    order = application_train_org['NAME_EDUCATION_TYPE'].value_counts().index\n",
    ")\n",
    "\n",
    "plt.title(\"Education of who applied for loan\", fontsize = 15)\n",
    "plt.xlabel('Education Type')\n",
    "plt.ylabel('Count')\n",
    "add_perc(ax,application_train_org.NAME_EDUCATION_TYPE,5,2)\n",
    "plt.show()"
   ]
  },
  {
   "cell_type": "code",
   "execution_count": null,
   "id": "4f9a8601",
   "metadata": {},
   "outputs": [],
   "source": [
    "temp_df = previous_application.name_contract_status.value_counts()[:-1]\n",
    "\n",
    "plt.figure(figsize=(12,5))\n",
    "\n",
    "plt.pie(\n",
    "    temp_df,\n",
    "    labels = temp_df.index,\n",
    "    explode = (0,0.1,0.1), \n",
    "    shadow = True, \n",
    "    autopct = '%1.1f%%',\n",
    "    labeldistance = 1.05,\n",
    "    radius = 1.25\n",
    ")\n",
    "\n",
    "plt.title(\"Contract Approvement Ratio\", fontsize = 15)\n",
    "plt.show()"
   ]
  },
  {
   "cell_type": "markdown",
   "id": "f32c1aca",
   "metadata": {},
   "source": [
    "---\n",
    "## <span style=\"color:#ff5f27;\">⏭️ **Next:** Part 02 </span>\n",
    "\n",
    "In the next notebook we will generate a new data for Feature Groups"
   ]
  }
 ],
 "metadata": {
  "kernelspec": {
   "display_name": "Python 3 (ipykernel)",
   "language": "python",
   "name": "python3"
  },
  "language_info": {
   "codemirror_mode": {
    "name": "ipython",
    "version": 3
   },
   "file_extension": ".py",
   "mimetype": "text/x-python",
   "name": "python",
   "nbconvert_exporter": "python",
   "pygments_lexer": "ipython3",
   "version": "3.9.12"
  }
 },
 "nbformat": 4,
 "nbformat_minor": 5
}
