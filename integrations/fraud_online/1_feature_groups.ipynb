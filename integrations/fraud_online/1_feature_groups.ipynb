{
 "cells": [
  {
   "cell_type": "markdown",
   "id": "dbca0c8a",
   "metadata": {},
   "source": [
    "![hopsworks_logo](../../images/hopsworks_logo.png)\n",
    "\n",
    "# Part 01: Load, Engineer & Connect\n",
    "\n",
    "[![Open In Colab](https://colab.research.google.com/assets/colab-badge.svg)](https://colab.research.google.com/github/logicalclocks/hopsworks-tutorials/blob/master/fraud_online/1_feature_groups.ipynb)\n",
    "\n",
    "This is the first part of the quick start series of tutorials about Hopsworks Feature Store. As part of this first module, we will work with data related to credit card transactions. \n",
    "The objective of this tutorial is to demonstrate how to work with the **Hopworks Feature Store**  for batch data with a goal of training and deploying a model that can predict fraudulent transactions.\n",
    "\n",
    "## 🗒️ This notebook is divided in 3 sections:\n",
    "1. Loading the data and feature engineeing,\n",
    "2. Connect to the Hopsworks feature store,\n",
    "3. Create feature groups and upload them to the feature store.\n",
    "\n",
    "![tutorial-flow](../../images/01_featuregroups.png)\n"
   ]
  },
  {
   "cell_type": "code",
   "execution_count": 1,
   "id": "844826d6",
   "metadata": {},
   "outputs": [],
   "source": [
    "!pip install -U hopsworks --quiet"
   ]
  },
  {
   "cell_type": "code",
   "execution_count": 2,
   "id": "f45b37bf",
   "metadata": {},
   "outputs": [],
   "source": [
    "import numpy as np\n",
    "import pandas as pd"
   ]
  },
  {
   "cell_type": "markdown",
   "id": "24739fb4",
   "metadata": {},
   "source": [
    "### First of all we will load the data and do some feature engineering on it."
   ]
  },
  {
   "cell_type": "markdown",
   "id": "f9683141",
   "metadata": {},
   "source": [
    "## <span style=\"color:#ff5f27;\"> 💽 Loading the Data </span>\n",
    "\n",
    "The data we will use comes from 2 different CSV files:\n",
    "\n",
    "- `transactions.csv`: events containing information about when a credit card was used, such as a timestamp, location, and the amount spent. A boolean fraud_label variable (True/False) tells us whether a transaction was fraudulent or not.\n",
    "- `profiles.csv`: credit card user information such as birthdate and city of residence.\n",
    "\n",
    "In a production system, these CSV files would originate from separate data sources or tables, and probably separate data pipelines. **These files have a common credit card number column cc_num, which you will use later to join features together from the different datasets.**\n",
    "\n",
    "Now, you can go ahead and load the data."
   ]
  },
  {
   "cell_type": "code",
   "execution_count": 3,
   "id": "6c0c21d0",
   "metadata": {},
   "outputs": [
    {
     "data": {
      "text/html": [
       "<div>\n",
       "<style scoped>\n",
       "    .dataframe tbody tr th:only-of-type {\n",
       "        vertical-align: middle;\n",
       "    }\n",
       "\n",
       "    .dataframe tbody tr th {\n",
       "        vertical-align: top;\n",
       "    }\n",
       "\n",
       "    .dataframe thead th {\n",
       "        text-align: right;\n",
       "    }\n",
       "</style>\n",
       "<table border=\"1\" class=\"dataframe\">\n",
       "  <thead>\n",
       "    <tr style=\"text-align: right;\">\n",
       "      <th></th>\n",
       "      <th>cc_num</th>\n",
       "      <th>gender</th>\n",
       "    </tr>\n",
       "  </thead>\n",
       "  <tbody>\n",
       "    <tr>\n",
       "      <th>0</th>\n",
       "      <td>4796807885357879</td>\n",
       "      <td>F</td>\n",
       "    </tr>\n",
       "    <tr>\n",
       "      <th>1</th>\n",
       "      <td>4529266636192966</td>\n",
       "      <td>F</td>\n",
       "    </tr>\n",
       "    <tr>\n",
       "      <th>2</th>\n",
       "      <td>4922690008243953</td>\n",
       "      <td>F</td>\n",
       "    </tr>\n",
       "  </tbody>\n",
       "</table>\n",
       "</div>"
      ],
      "text/plain": [
       "             cc_num gender\n",
       "0  4796807885357879      F\n",
       "1  4529266636192966      F\n",
       "2  4922690008243953      F"
      ]
     },
     "execution_count": 3,
     "metadata": {},
     "output_type": "execute_result"
    }
   ],
   "source": [
    "profiles_df = pd.read_csv(\"https://repo.hops.works/master/hopsworks-tutorials/data/card_fraud_online/profiles.csv\", parse_dates=[\"birthdate\"])\n",
    "profiles_df.columns = [\"name\", \"gender\", \"mail\", \"birthdate\", \"City\", \"Country\", \"cc_num\"]\n",
    "profiles_df = profiles_df[[\"cc_num\", \"gender\"]]\n",
    "profiles_df.head(3)"
   ]
  },
  {
   "cell_type": "code",
   "execution_count": 4,
   "id": "94c43c6c",
   "metadata": {},
   "outputs": [
    {
     "data": {
      "text/html": [
       "<div>\n",
       "<style scoped>\n",
       "    .dataframe tbody tr th:only-of-type {\n",
       "        vertical-align: middle;\n",
       "    }\n",
       "\n",
       "    .dataframe tbody tr th {\n",
       "        vertical-align: top;\n",
       "    }\n",
       "\n",
       "    .dataframe thead th {\n",
       "        text-align: right;\n",
       "    }\n",
       "</style>\n",
       "<table border=\"1\" class=\"dataframe\">\n",
       "  <thead>\n",
       "    <tr style=\"text-align: right;\">\n",
       "      <th></th>\n",
       "      <th>tid</th>\n",
       "      <th>datetime</th>\n",
       "      <th>cc_num</th>\n",
       "      <th>category</th>\n",
       "      <th>amount</th>\n",
       "      <th>latitude</th>\n",
       "      <th>longitude</th>\n",
       "      <th>city</th>\n",
       "      <th>country</th>\n",
       "      <th>fraud_label</th>\n",
       "    </tr>\n",
       "  </thead>\n",
       "  <tbody>\n",
       "    <tr>\n",
       "      <th>0</th>\n",
       "      <td>11df919988c134d97bbff2678eb68e22</td>\n",
       "      <td>2022-01-01 00:00:24</td>\n",
       "      <td>4473593503484549</td>\n",
       "      <td>Health/Beauty</td>\n",
       "      <td>62.95</td>\n",
       "      <td>42.30865</td>\n",
       "      <td>-83.48216</td>\n",
       "      <td>Canton</td>\n",
       "      <td>US</td>\n",
       "      <td>0</td>\n",
       "    </tr>\n",
       "    <tr>\n",
       "      <th>1</th>\n",
       "      <td>dd0b2d6d4266ccd3bf05bc2ea91cf180</td>\n",
       "      <td>2022-01-01 00:00:56</td>\n",
       "      <td>4272465718946864</td>\n",
       "      <td>Grocery</td>\n",
       "      <td>85.45</td>\n",
       "      <td>33.52253</td>\n",
       "      <td>-117.70755</td>\n",
       "      <td>Laguna Niguel</td>\n",
       "      <td>US</td>\n",
       "      <td>0</td>\n",
       "    </tr>\n",
       "    <tr>\n",
       "      <th>2</th>\n",
       "      <td>e627f5d9a9739833bd52d2da51761fc3</td>\n",
       "      <td>2022-01-01 00:02:32</td>\n",
       "      <td>4104216579248948</td>\n",
       "      <td>Domestic Transport</td>\n",
       "      <td>21.63</td>\n",
       "      <td>37.60876</td>\n",
       "      <td>-77.37331</td>\n",
       "      <td>Mechanicsville</td>\n",
       "      <td>US</td>\n",
       "      <td>0</td>\n",
       "    </tr>\n",
       "  </tbody>\n",
       "</table>\n",
       "</div>"
      ],
      "text/plain": [
       "                                tid            datetime            cc_num  \\\n",
       "0  11df919988c134d97bbff2678eb68e22 2022-01-01 00:00:24  4473593503484549   \n",
       "1  dd0b2d6d4266ccd3bf05bc2ea91cf180 2022-01-01 00:00:56  4272465718946864   \n",
       "2  e627f5d9a9739833bd52d2da51761fc3 2022-01-01 00:02:32  4104216579248948   \n",
       "\n",
       "             category  amount  latitude  longitude            city country  \\\n",
       "0       Health/Beauty   62.95  42.30865  -83.48216          Canton      US   \n",
       "1             Grocery   85.45  33.52253 -117.70755   Laguna Niguel      US   \n",
       "2  Domestic Transport   21.63  37.60876  -77.37331  Mechanicsville      US   \n",
       "\n",
       "   fraud_label  \n",
       "0            0  \n",
       "1            0  \n",
       "2            0  "
      ]
     },
     "execution_count": 4,
     "metadata": {},
     "output_type": "execute_result"
    }
   ],
   "source": [
    "trans_df = pd.read_csv(\"https://repo.hops.works/master/hopsworks-tutorials/data/card_fraud_online/transactions.csv\", parse_dates=[\"datetime\"])\n",
    "trans_df.head(3)"
   ]
  },
  {
   "cell_type": "code",
   "execution_count": 5,
   "id": "cc7601bf",
   "metadata": {},
   "outputs": [],
   "source": [
    "trans_df = trans_df[trans_df.category == \"Cash Withdrawal\"].reset_index(level=0, drop=True)\n",
    "trans_df[\"country\"] = trans_df[\"country\"].fillna(\"US\")\n",
    "profiles_df = profiles_df[profiles_df.cc_num.isin(trans_df.cc_num.unique())].reset_index(level=0, drop=True)"
   ]
  },
  {
   "cell_type": "code",
   "execution_count": 6,
   "id": "8a590082",
   "metadata": {},
   "outputs": [
    {
     "data": {
      "text/html": [
       "<div>\n",
       "<style scoped>\n",
       "    .dataframe tbody tr th:only-of-type {\n",
       "        vertical-align: middle;\n",
       "    }\n",
       "\n",
       "    .dataframe tbody tr th {\n",
       "        vertical-align: top;\n",
       "    }\n",
       "\n",
       "    .dataframe thead th {\n",
       "        text-align: right;\n",
       "    }\n",
       "</style>\n",
       "<table border=\"1\" class=\"dataframe\">\n",
       "  <thead>\n",
       "    <tr style=\"text-align: right;\">\n",
       "      <th></th>\n",
       "      <th>cc_num</th>\n",
       "      <th>gender</th>\n",
       "    </tr>\n",
       "  </thead>\n",
       "  <tbody>\n",
       "    <tr>\n",
       "      <th>0</th>\n",
       "      <td>4796807885357879</td>\n",
       "      <td>F</td>\n",
       "    </tr>\n",
       "    <tr>\n",
       "      <th>1</th>\n",
       "      <td>4529266636192966</td>\n",
       "      <td>F</td>\n",
       "    </tr>\n",
       "    <tr>\n",
       "      <th>2</th>\n",
       "      <td>4922690008243953</td>\n",
       "      <td>F</td>\n",
       "    </tr>\n",
       "    <tr>\n",
       "      <th>3</th>\n",
       "      <td>4848518335893425</td>\n",
       "      <td>M</td>\n",
       "    </tr>\n",
       "    <tr>\n",
       "      <th>4</th>\n",
       "      <td>4419981075128775</td>\n",
       "      <td>M</td>\n",
       "    </tr>\n",
       "  </tbody>\n",
       "</table>\n",
       "</div>"
      ],
      "text/plain": [
       "             cc_num gender\n",
       "0  4796807885357879      F\n",
       "1  4529266636192966      F\n",
       "2  4922690008243953      F\n",
       "3  4848518335893425      M\n",
       "4  4419981075128775      M"
      ]
     },
     "execution_count": 6,
     "metadata": {},
     "output_type": "execute_result"
    }
   ],
   "source": [
    "profiles_df.head(5)"
   ]
  },
  {
   "cell_type": "code",
   "execution_count": 7,
   "id": "3c82a98f",
   "metadata": {},
   "outputs": [
    {
     "data": {
      "text/plain": [
       "(1000, 2)"
      ]
     },
     "execution_count": 7,
     "metadata": {},
     "output_type": "execute_result"
    }
   ],
   "source": [
    "profiles_df.shape"
   ]
  },
  {
   "cell_type": "code",
   "execution_count": 8,
   "id": "a308a5a5",
   "metadata": {},
   "outputs": [],
   "source": [
    "trans_df.sort_values([\"datetime\",\"cc_num\"], inplace=True)"
   ]
  },
  {
   "cell_type": "markdown",
   "id": "2c1537c7",
   "metadata": {},
   "source": [
    "---"
   ]
  },
  {
   "cell_type": "markdown",
   "id": "6b951bec",
   "metadata": {},
   "source": [
    "## <span style=\"color:#ff5f27;\"> 🛠️ Feature Engineering </span>\n",
    "\n",
    "Fraudulent transactions can differ from regular ones in many different ways. Typical red flags would for instance be a large transaction volume/frequency in the span of a few hours. It could also be the case that elderly people in particular are targeted by fraudsters. To facilitate model learning we will create additional features based on these patterns. In particular, we will create two types of features:\n",
    "1. **Features that aggregate data from different data sources**. This could for instance be the age of a customer at the time of a transaction, which combines the `birthdate` feature from `profiles.csv` with the `datetime` feature from `transactions.csv`.\n",
    "2. **Features that aggregate data from multiple time steps**. An example of this could be the transaction frequency of a credit card in the span of a few hours, which is computed using a window function.\n",
    "\n",
    "Let's start with the first category."
   ]
  },
  {
   "cell_type": "markdown",
   "id": "1f9a4481",
   "metadata": {},
   "source": [
    "Now you are ready to start by computing the distance between consecutive transactions, which we will call `loc_delta`.\n",
    "Here we use the [Haversine distance](https://scikit-learn.org/stable/modules/generated/sklearn.metrics.pairwise.haversine_distances.html?highlight=haversine#sklearn.metrics.pairwise.haversine_distances) to quantify the distance between two longitude and latitude coordinates."
   ]
  },
  {
   "cell_type": "code",
   "execution_count": 9,
   "id": "bf1af707",
   "metadata": {},
   "outputs": [],
   "source": [
    "from math import radians\n",
    "\n",
    "# Feature engineering.\n",
    "trans_df.sort_values(\"datetime\", inplace=True)\n",
    "trans_df[[\"longitude\", \"latitude\"]] = trans_df[[\"longitude\", \"latitude\"]].applymap(radians)\n",
    "\n",
    "def haversine(long, lat, shift):\n",
    "    \"\"\"Compute Haversine distance between each consecutive coordinate in (long, lat).\"\"\"\n",
    "\n",
    "    long_shifted = long.shift(shift)\n",
    "    lat_shifted = lat.shift(shift)\n",
    "    long_diff = long_shifted - long\n",
    "    lat_diff = lat_shifted - lat\n",
    "\n",
    "    a = np.sin(lat_diff/2.0)**2\n",
    "    b = np.cos(lat) * np.cos(lat_shifted) * np.sin(long_diff/2.0)**2\n",
    "    c = 2*np.arcsin(np.sqrt(a + b))\n",
    "\n",
    "    return c\n",
    "\n",
    "def time_delta(datetime_value, shift):\n",
    "    \"\"\"Compute time difference between each consecutive transaction.\"\"\"\n",
    "\n",
    "    time_shifted = datetime_value.shift(shift)\n",
    "    return time_shifted\n",
    "\n",
    "trans_df[\"loc_delta_t_plus_1\"] = trans_df.groupby(\"cc_num\")\\\n",
    "    .apply(lambda x : haversine(x[\"longitude\"], x[\"latitude\"], 1))\\\n",
    "    .reset_index(level=0, drop=True)\\\n",
    "    .fillna(0)\n",
    "\n",
    "trans_df[\"loc_delta_t_minus_1\"] = trans_df.groupby(\"cc_num\")\\\n",
    "    .apply(lambda x : haversine(x[\"longitude\"], x[\"latitude\"], -1))\\\n",
    "    .reset_index(level=0, drop=True)\\\n",
    "    .fillna(0)\n",
    "\n",
    "trans_df[\"time_delta_t_plus_1\"] = trans_df.groupby(\"cc_num\")\\\n",
    "    .apply(lambda x : time_delta(x[\"datetime\"], 1 ))\\\n",
    "    .reset_index(level=0, drop=True)\n",
    "\n",
    "trans_df[\"time_delta_t_minus_1\"] = trans_df.groupby(\"cc_num\")\\\n",
    "    .apply(lambda x : time_delta(x[\"datetime\"],  -1))\\\n",
    "    .reset_index(level=0, drop=True)\n",
    "\n",
    "trans_df[\"time_delta_t_plus_1\"] = (trans_df.datetime - trans_df.time_delta_t_plus_1 )/ np.timedelta64(1, 'D')\n",
    "trans_df[\"time_delta_t_minus_1\"] = (trans_df.time_delta_t_minus_1 - trans_df.datetime )/ np.timedelta64(1, 'D')\n",
    "trans_df[\"time_delta_t_plus_1\"] = trans_df.time_delta_t_plus_1.fillna(0)\n",
    "trans_df[\"time_delta_t_minus_1\"] = trans_df.time_delta_t_minus_1.fillna(0)  "
   ]
  },
  {
   "cell_type": "code",
   "execution_count": 10,
   "id": "b8b8f990",
   "metadata": {},
   "outputs": [],
   "source": [
    "trans_df = trans_df[[\"tid\",\"datetime\",\"cc_num\",\"category\",\"amount\",\"city\",\"country\",\"fraud_label\",\"loc_delta_t_plus_1\", \"loc_delta_t_minus_1\", \"time_delta_t_plus_1\", \"time_delta_t_minus_1\"]]"
   ]
  },
  {
   "cell_type": "code",
   "execution_count": 11,
   "id": "a98abc75",
   "metadata": {
    "scrolled": true
   },
   "outputs": [
    {
     "data": {
      "text/html": [
       "<div>\n",
       "<style scoped>\n",
       "    .dataframe tbody tr th:only-of-type {\n",
       "        vertical-align: middle;\n",
       "    }\n",
       "\n",
       "    .dataframe tbody tr th {\n",
       "        vertical-align: top;\n",
       "    }\n",
       "\n",
       "    .dataframe thead th {\n",
       "        text-align: right;\n",
       "    }\n",
       "</style>\n",
       "<table border=\"1\" class=\"dataframe\">\n",
       "  <thead>\n",
       "    <tr style=\"text-align: right;\">\n",
       "      <th></th>\n",
       "      <th>tid</th>\n",
       "      <th>datetime</th>\n",
       "      <th>cc_num</th>\n",
       "      <th>category</th>\n",
       "      <th>amount</th>\n",
       "      <th>city</th>\n",
       "      <th>country</th>\n",
       "      <th>fraud_label</th>\n",
       "      <th>loc_delta_t_plus_1</th>\n",
       "      <th>loc_delta_t_minus_1</th>\n",
       "      <th>time_delta_t_plus_1</th>\n",
       "      <th>time_delta_t_minus_1</th>\n",
       "    </tr>\n",
       "  </thead>\n",
       "  <tbody>\n",
       "    <tr>\n",
       "      <th>169514</th>\n",
       "      <td>4c51b54665c7ddb466ea5936f4f3a428</td>\n",
       "      <td>1641024661000</td>\n",
       "      <td>4467360740682089</td>\n",
       "      <td>Cash Withdrawal</td>\n",
       "      <td>77.77</td>\n",
       "      <td>Norco</td>\n",
       "      <td>US</td>\n",
       "      <td>0</td>\n",
       "      <td>0.0</td>\n",
       "      <td>0.000148</td>\n",
       "      <td>0.0</td>\n",
       "      <td>0.333333</td>\n",
       "    </tr>\n",
       "    <tr>\n",
       "      <th>167022</th>\n",
       "      <td>4c30185aea2e28e7d9797004710e13c6</td>\n",
       "      <td>1641031422000</td>\n",
       "      <td>4700702588013561</td>\n",
       "      <td>Cash Withdrawal</td>\n",
       "      <td>781.27</td>\n",
       "      <td>Jackson</td>\n",
       "      <td>US</td>\n",
       "      <td>0</td>\n",
       "      <td>0.0</td>\n",
       "      <td>0.000070</td>\n",
       "      <td>0.0</td>\n",
       "      <td>0.416667</td>\n",
       "    </tr>\n",
       "    <tr>\n",
       "      <th>60585</th>\n",
       "      <td>1a109febabc5c36409f2caf729e110d3</td>\n",
       "      <td>1641031739000</td>\n",
       "      <td>4205094877256105</td>\n",
       "      <td>Cash Withdrawal</td>\n",
       "      <td>36.25</td>\n",
       "      <td>Bothell</td>\n",
       "      <td>US</td>\n",
       "      <td>0</td>\n",
       "      <td>0.0</td>\n",
       "      <td>0.000108</td>\n",
       "      <td>0.0</td>\n",
       "      <td>0.333333</td>\n",
       "    </tr>\n",
       "    <tr>\n",
       "      <th>249651</th>\n",
       "      <td>855eb0f8e7fdb85e9b63c60028ce1d53</td>\n",
       "      <td>1641033294000</td>\n",
       "      <td>4918033532626920</td>\n",
       "      <td>Cash Withdrawal</td>\n",
       "      <td>93.05</td>\n",
       "      <td>Brighton Beach</td>\n",
       "      <td>US</td>\n",
       "      <td>0</td>\n",
       "      <td>0.0</td>\n",
       "      <td>0.000032</td>\n",
       "      <td>0.0</td>\n",
       "      <td>0.250000</td>\n",
       "    </tr>\n",
       "    <tr>\n",
       "      <th>203481</th>\n",
       "      <td>b0214ee4d61696adf1149dbaf61fcf2f</td>\n",
       "      <td>1641040494000</td>\n",
       "      <td>4166420904624170</td>\n",
       "      <td>Cash Withdrawal</td>\n",
       "      <td>2.46</td>\n",
       "      <td>Iron River</td>\n",
       "      <td>US</td>\n",
       "      <td>0</td>\n",
       "      <td>0.0</td>\n",
       "      <td>0.000135</td>\n",
       "      <td>0.0</td>\n",
       "      <td>0.250000</td>\n",
       "    </tr>\n",
       "  </tbody>\n",
       "</table>\n",
       "</div>"
      ],
      "text/plain": [
       "                                     tid       datetime            cc_num  \\\n",
       "169514  4c51b54665c7ddb466ea5936f4f3a428  1641024661000  4467360740682089   \n",
       "167022  4c30185aea2e28e7d9797004710e13c6  1641031422000  4700702588013561   \n",
       "60585   1a109febabc5c36409f2caf729e110d3  1641031739000  4205094877256105   \n",
       "249651  855eb0f8e7fdb85e9b63c60028ce1d53  1641033294000  4918033532626920   \n",
       "203481  b0214ee4d61696adf1149dbaf61fcf2f  1641040494000  4166420904624170   \n",
       "\n",
       "               category  amount            city country  fraud_label  \\\n",
       "169514  Cash Withdrawal   77.77           Norco      US            0   \n",
       "167022  Cash Withdrawal  781.27         Jackson      US            0   \n",
       "60585   Cash Withdrawal   36.25         Bothell      US            0   \n",
       "249651  Cash Withdrawal   93.05  Brighton Beach      US            0   \n",
       "203481  Cash Withdrawal    2.46      Iron River      US            0   \n",
       "\n",
       "        loc_delta_t_plus_1  loc_delta_t_minus_1  time_delta_t_plus_1  \\\n",
       "169514                 0.0             0.000148                  0.0   \n",
       "167022                 0.0             0.000070                  0.0   \n",
       "60585                  0.0             0.000108                  0.0   \n",
       "249651                 0.0             0.000032                  0.0   \n",
       "203481                 0.0             0.000135                  0.0   \n",
       "\n",
       "        time_delta_t_minus_1  \n",
       "169514              0.333333  \n",
       "167022              0.416667  \n",
       "60585               0.333333  \n",
       "249651              0.250000  \n",
       "203481              0.250000  "
      ]
     },
     "execution_count": 11,
     "metadata": {},
     "output_type": "execute_result"
    }
   ],
   "source": [
    "trans_df.datetime = trans_df.datetime.values.astype(np.int64) // 10 ** 6\n",
    "trans_df.head()"
   ]
  },
  {
   "cell_type": "code",
   "execution_count": 12,
   "id": "7d3e5d79",
   "metadata": {
    "scrolled": true
   },
   "outputs": [
    {
     "data": {
      "text/plain": [
       "(365120, 12)"
      ]
     },
     "execution_count": 12,
     "metadata": {},
     "output_type": "execute_result"
    }
   ],
   "source": [
    "trans_df.shape"
   ]
  },
  {
   "cell_type": "markdown",
   "id": "30302881",
   "metadata": {},
   "source": [
    "---"
   ]
  },
  {
   "cell_type": "markdown",
   "id": "06ae18e5",
   "metadata": {},
   "source": [
    "> **✂️ Let's reduce size of `trans_df` for better perfomance. Also let's split our `trans_df` into 3 parts - the first one will be used in creating the Feature Group and the rest will be inserted in the existing Feature Group later in this tutorial.**"
   ]
  },
  {
   "cell_type": "code",
   "execution_count": 13,
   "id": "01baf969",
   "metadata": {},
   "outputs": [],
   "source": [
    "trans_df1 = trans_df.iloc[:5000]\n",
    "\n",
    "trans_df2 = trans_df.iloc[5000:7500]\n",
    "\n",
    "trans_df3 = trans_df.iloc[7500:10000]"
   ]
  },
  {
   "cell_type": "markdown",
   "id": "76167a6d",
   "metadata": {},
   "source": [
    "---"
   ]
  },
  {
   "cell_type": "markdown",
   "id": "c700660a",
   "metadata": {},
   "source": [
    "## <span style=\"color:#ff5f27;\"> 🪄 Creating Feature Groups </span>\n",
    "\n",
    "A [feature group](https://docs.hopsworks.ai/feature-store-api/latest/generated/feature_group/) can be seen as a collection of conceptually related features. In our case, we will create a feature group for the transaction data and a feature group for the windowed aggregations on the transaction data. Both will have `tid` as primary key, which will allow us to join them when creating a dataset in the next tutorial.\n",
    "\n",
    "Feature groups can also be used to define a namespace for features. For instance, in a real-life setting we would likely want to experiment with different window lengths. In that case, we can create feature groups with identical schema for each window length. \n",
    "\n",
    "Before you can create a feature group you need to connect to our feature store."
   ]
  },
  {
   "cell_type": "code",
   "execution_count": 14,
   "id": "967c0217",
   "metadata": {},
   "outputs": [
    {
     "name": "stdout",
     "output_type": "stream",
     "text": [
      "Connected. Call `.close()` to terminate connection gracefully.\n",
      "\n",
      "Logged in to project, explore it here https://c.app.hopsworks.ai:443/p/164\n"
     ]
    },
    {
     "name": "stderr",
     "output_type": "stream",
     "text": [
      "DeprecationWarning: the imp module is deprecated in favour of importlib; see the module's documentation for alternative uses\n"
     ]
    },
    {
     "name": "stdout",
     "output_type": "stream",
     "text": [
      "Connected. Call `.close()` to terminate connection gracefully.\n"
     ]
    }
   ],
   "source": [
    "import hopsworks\n",
    "\n",
    "project = hopsworks.login()\n",
    "\n",
    "fs = project.get_feature_store()"
   ]
  },
  {
   "cell_type": "markdown",
   "id": "2beaf1c1",
   "metadata": {},
   "source": [
    "To create a feature group we need to give it a name and specify a primary key. It is also good to provide a description of the contents of the feature group and a version number, if it is not defined it will automatically be incremented to `1`."
   ]
  },
  {
   "cell_type": "code",
   "execution_count": 15,
   "id": "896416fb",
   "metadata": {},
   "outputs": [],
   "source": [
    "trans_fg = fs.get_or_create_feature_group(\n",
    "    name=\"trans_fraud_online_fg\",\n",
    "    version=1,\n",
    "    description=\"Transaction data\",\n",
    "    primary_key=['cc_num'],\n",
    "    event_time=['datetime'],\n",
    "    online_enabled=True\n",
    ")"
   ]
  },
  {
   "cell_type": "markdown",
   "id": "20dda50f",
   "metadata": {},
   "source": [
    "Here you have also set `online_enabled=True`, which enables low latency access to the data. A full list of arguments can be found in the [documentation](https://docs.hopsworks.ai/feature-store-api/latest/generated/api/feature_store_api/#create_feature_group).\n",
    "\n",
    "At this point, you have only specified some metadata for the feature group. It does not store any data or even have a schema defined for the data. To make the feature group persistent you need to populate it with its associated data using the `insert` function."
   ]
  },
  {
   "cell_type": "code",
   "execution_count": 16,
   "id": "1ba48a6f",
   "metadata": {
    "scrolled": true
   },
   "outputs": [
    {
     "name": "stdout",
     "output_type": "stream",
     "text": [
      "Feature Group created successfully, explore it at \n",
      "https://c.app.hopsworks.ai:443/p/164/fs/106/fg/569\n"
     ]
    },
    {
     "data": {
      "application/vnd.jupyter.widget-view+json": {
       "model_id": "c775ba7c6818486981439acd5f63880d",
       "version_major": 2,
       "version_minor": 0
      },
      "text/plain": [
       "Uploading Dataframe: 0.00% |          | Rows 0/5000 | Elapsed Time: 00:00 | Remaining Time: ?"
      ]
     },
     "metadata": {},
     "output_type": "display_data"
    },
    {
     "name": "stdout",
     "output_type": "stream",
     "text": [
      "Launching offline feature group backfill job...\n",
      "Backfill Job started successfully, you can follow the progress at \n",
      "https://c.app.hopsworks.ai/p/164/jobs/named/trans_fraud_online_fg_1_offline_fg_backfill/executions\n"
     ]
    },
    {
     "data": {
      "text/plain": [
       "(<hsfs.core.job.Job at 0x2af19ed2820>, None)"
      ]
     },
     "execution_count": 16,
     "metadata": {},
     "output_type": "execute_result"
    }
   ],
   "source": [
    "trans_fg.insert(trans_df1)"
   ]
  },
  {
   "cell_type": "markdown",
   "id": "4d2ce9cb",
   "metadata": {},
   "source": [
    "#### Click on the hyperlink printed in the cell output above to inspect your feature group in the UI.\n",
    "\n",
    "#### Or use the Feature Store UI\n",
    "\n",
    "![fg_open_from_jupyter.gif](../../images/fg_open_from_jupyter.gif)"
   ]
  },
  {
   "cell_type": "code",
   "execution_count": 17,
   "id": "c0465a43",
   "metadata": {},
   "outputs": [],
   "source": [
    "feature_descriptions = [\n",
    "    {\"name\": \"tid\", \"description\": \"Transaction id\"},\n",
    "    {\"name\": \"datetime\", \"description\": \"Transaction time\"},\n",
    "    {\"name\": \"cc_num\", \"description\": \"Number of the credit card performing the transaction\"},\n",
    "    {\"name\": \"category\", \"description\": \"Expense category\"},\n",
    "    {\"name\": \"amount\", \"description\": \"Dollar amount of the transaction\"},\n",
    "    {\"name\": \"city\", \"description\": \"City in which the transaction was made\"},\n",
    "    {\"name\": \"country\", \"description\": \"Country in which the transaction was made\"},\n",
    "    {\"name\": \"fraud_label\", \"description\": \"Whether the transaction was fraudulent or not\"},\n",
    "    {\"name\": \"loc_delta_t_plus_1\", \"description\": \"Location of consecutive transaction\"},\n",
    "    {\"name\": \"loc_delta_t_minus_1\", \"description\": \"Location of previous transaction\"},\n",
    "    {\"name\": \"time_delta_t_plus_1\", \"description\": \"Time of consecutive transaction\"},\n",
    "    {\"name\": \"time_delta_t_minus_1\", \"description\": \"Time of previous transaction\"},    \n",
    "]\n",
    "\n",
    "for desc in feature_descriptions: \n",
    "    trans_fg.update_feature_description(desc[\"name\"], desc[\"description\"])"
   ]
  },
  {
   "cell_type": "code",
   "execution_count": 18,
   "id": "71d47a92",
   "metadata": {
    "scrolled": true
   },
   "outputs": [],
   "source": [
    "profile_fg = fs.get_or_create_feature_group(\n",
    "    name=\"profile_fraud_online_fg\",\n",
    "    version=1,\n",
    "    description=\"Credit card holder demographic data\",\n",
    "    primary_key=['cc_num'],\n",
    "    online_enabled=True\n",
    ")"
   ]
  },
  {
   "cell_type": "code",
   "execution_count": 19,
   "id": "acb93518",
   "metadata": {},
   "outputs": [
    {
     "name": "stdout",
     "output_type": "stream",
     "text": [
      "Feature Group created successfully, explore it at \n",
      "https://c.app.hopsworks.ai:443/p/164/fs/106/fg/572\n"
     ]
    },
    {
     "data": {
      "application/vnd.jupyter.widget-view+json": {
       "model_id": "7d78875c075041a1952b9b1b912412c1",
       "version_major": 2,
       "version_minor": 0
      },
      "text/plain": [
       "Uploading Dataframe: 0.00% |          | Rows 0/1000 | Elapsed Time: 00:00 | Remaining Time: ?"
      ]
     },
     "metadata": {},
     "output_type": "display_data"
    },
    {
     "name": "stdout",
     "output_type": "stream",
     "text": [
      "Launching offline feature group backfill job...\n",
      "Backfill Job started successfully, you can follow the progress at \n",
      "https://c.app.hopsworks.ai/p/164/jobs/named/profile_fraud_online_fg_1_offline_fg_backfill/executions\n"
     ]
    },
    {
     "data": {
      "text/plain": [
       "(<hsfs.core.job.Job at 0x2af1aedc400>, None)"
      ]
     },
     "execution_count": 19,
     "metadata": {},
     "output_type": "execute_result"
    }
   ],
   "source": [
    "profile_fg.insert(profiles_df)"
   ]
  },
  {
   "cell_type": "code",
   "execution_count": 20,
   "id": "fdd7fa37",
   "metadata": {},
   "outputs": [],
   "source": [
    "feature_descriptions = [\n",
    "    {\"name\": \"cc_num\", \"description\": \"Number of the credit card performing the transaction\"},\n",
    "    {\"name\": \"gender\", \"description\": \"Gender of the credit card holder\"},\n",
    "]\n",
    "\n",
    "for desc in feature_descriptions: \n",
    "    profile_fg.update_feature_description(desc[\"name\"], desc[\"description\"])"
   ]
  },
  {
   "cell_type": "markdown",
   "id": "8af0c854",
   "metadata": {},
   "source": [
    "---"
   ]
  },
  {
   "cell_type": "markdown",
   "id": "513bc729",
   "metadata": {},
   "source": [
    "## <span style=\"color:#ff5f27;\"> 👓 Exploration</span>\n",
    "In the Hopsworks feature store, the metadata allows for multiple levels of explorations and review. Here we will show a few of those capacities. \n",
    "\n",
    "### <span style=\"color:#ff5f27;\"> 🔎 Search</span>\n",
    "Using the search function in the ui, you can query any aspect of the feature groups, feature_view and training data that was previously created.\n",
    "\n",
    "### <span style=\"color:#ff5f27;\">📊 Statistics</span>\n",
    "You can also enable statistics in the feature groups."
   ]
  },
  {
   "cell_type": "code",
   "execution_count": 21,
   "id": "0c64c36a",
   "metadata": {
    "scrolled": true
   },
   "outputs": [],
   "source": [
    "# trans_fg = fs.get_feature_group(\"trans_fraud_online_fg\", version = 1)\n",
    "# trans_fg.statistics_config = {\n",
    "#     \"enabled\": True,\n",
    "#     \"histograms\": True,\n",
    "#     \"correlations\": True\n",
    "# }\n",
    "\n",
    "# trans_fg.update_statistics_config()\n",
    "# trans_fg.compute_statistics()"
   ]
  },
  {
   "cell_type": "markdown",
   "id": "293a8969",
   "metadata": {},
   "source": [
    "---"
   ]
  },
  {
   "cell_type": "markdown",
   "id": "59ce590a",
   "metadata": {},
   "source": [
    "## <span style=\"color:#ff5f27;\"> ⚖️ Great Expectations </span> \n",
    "\n",
    "Great Expectations’ built-in library includes more than 50 common Expectations, such as:\n",
    "\n",
    "    expect_column_values_to_not_be_null\n",
    "\n",
    "    expect_column_values_to_be_unique\n",
    "\n",
    "    expect_column_median_to_be_between...\n",
    "\n",
    "#### You can find more expectations in the [official docs](https://greatexpectations.io/expectations/)\n",
    "\n",
    "\n",
    "Clean, high quality feature data is of paramount importance to being able to train and serve high quality models. Hopsworks offers integration with [Great Expectations](https://greatexpectations.io/) to enable a smooth data validation workflow.\n",
    "\n",
    "### `More info` - [here](https://docs.hopsworks.ai/3.0/user_guides/fs/feature_group/data_validation/)"
   ]
  },
  {
   "cell_type": "markdown",
   "id": "984c1598",
   "metadata": {},
   "source": [
    "> You can attach at most **one expectation suite** to a Feature Group. It can be done **on creation** or at a **later point in time**. Data validation is an **optional step** and is not required to write to a Feature Group."
   ]
  },
  {
   "cell_type": "markdown",
   "id": "9f928225",
   "metadata": {},
   "source": [
    "---"
   ]
  },
  {
   "cell_type": "markdown",
   "id": "2fd705cb",
   "metadata": {},
   "source": [
    "## <span style=\"color:#ff5f27;\"> 🖥 `UI` approach </span> "
   ]
  },
  {
   "cell_type": "markdown",
   "id": "140a21ed",
   "metadata": {},
   "source": [
    "1. Click on the Feature Group section in the navigation menu.\n",
    "2. Click on New Feature Group if you want to create a brand new Feature Group. If you already created your Feature Group you can use the search bar to find and open it. Select `edit` at the top right corner of page.\n",
    "3. Scroll down to the `Expectation Suite` section. By clicking on `Add another expectation` one can choose an expectation type from a dropdown menu.  All default kwargs associated to the selected expectation type are populated as a json below the dropdown menu. **Edit the json and click the tick button to save the change locally**.\n",
    "\n",
    "![fg_edit_expectations.gif](../../images/fg_edit_expectations.gif)"
   ]
  },
  {
   "cell_type": "markdown",
   "id": "e478490b",
   "metadata": {},
   "source": [
    "---"
   ]
  },
  {
   "cell_type": "markdown",
   "id": "1d708b49",
   "metadata": {},
   "source": [
    "## <span style=\"color:#ff5f27;\"> ✔️✔️✖️ Now lets create an Expectation </span> \n",
    "\n",
    "Here we have created two expactations that will definitely **Fail**.\n",
    "![expectations_fraud_online_ui](../../images/expectations_fraud_online_ui.png)\n"
   ]
  },
  {
   "cell_type": "code",
   "execution_count": 22,
   "id": "f61b39f2",
   "metadata": {},
   "outputs": [
    {
     "data": {
      "text/plain": [
       "count     2500.000000\n",
       "mean       695.279072\n",
       "std       1866.699829\n",
       "min          0.020000\n",
       "25%         30.965000\n",
       "50%         74.040000\n",
       "75%        471.607500\n",
       "max      22062.990000\n",
       "Name: amount, dtype: float64"
      ]
     },
     "execution_count": 22,
     "metadata": {},
     "output_type": "execute_result"
    }
   ],
   "source": [
    "# as we can see, there are some values that are less than 10 and greater than 10000 in this batch of data.\n",
    "trans_df2.amount.describe()"
   ]
  },
  {
   "cell_type": "markdown",
   "id": "c26655fc",
   "metadata": {},
   "source": [
    "---"
   ]
  },
  {
   "cell_type": "markdown",
   "id": "9d962ee3",
   "metadata": {},
   "source": [
    "## <span style=\"color:#ff5f27;\"> 🔄 Validate your data </span> "
   ]
  },
  {
   "cell_type": "code",
   "execution_count": 23,
   "id": "5870e312",
   "metadata": {},
   "outputs": [],
   "source": [
    "# to test our expectation just uncomment and run code below\n",
    "\n",
    "# trans_fg.insert(trans_df2)"
   ]
  },
  {
   "cell_type": "markdown",
   "id": "6dee1b34",
   "metadata": {},
   "source": [
    "Even in the output of cell above we can see that there is an `exception` during Data validation.\n",
    "\n",
    "To see more details, please go to your Feature Group in the UI and scroll a little bit down to the corresponding section.\n",
    "\n",
    "![expectations_fraud_online_res.png](../../images/expectations_fraud_online_res.png)"
   ]
  },
  {
   "cell_type": "markdown",
   "id": "b8799752",
   "metadata": {},
   "source": [
    "---"
   ]
  },
  {
   "cell_type": "markdown",
   "id": "17cbc6a2",
   "metadata": {},
   "source": [
    "## <span style=\"color:#ff5f27;\"> ⌨️ `Code` approach </span> "
   ]
  },
  {
   "cell_type": "markdown",
   "id": "82f411ad",
   "metadata": {},
   "source": [
    "### The same results we can achive without UI. Here is code example."
   ]
  },
  {
   "cell_type": "code",
   "execution_count": 24,
   "id": "563683c8",
   "metadata": {},
   "outputs": [
    {
     "name": "stderr",
     "output_type": "stream",
     "text": [
      "WARNING: Ignoring invalid distribution -reat-expectations (c:\\users\\rkaha\\documents\\hopsworks\\venv38\\lib\\site-packages)\n",
      "WARNING: Ignoring invalid distribution -reat-expectations (c:\\users\\rkaha\\documents\\hopsworks\\venv38\\lib\\site-packages)\n",
      "WARNING: Ignoring invalid distribution -reat-expectations (c:\\users\\rkaha\\documents\\hopsworks\\venv38\\lib\\site-packages)\n",
      "WARNING: Ignoring invalid distribution -reat-expectations (c:\\users\\rkaha\\documents\\hopsworks\\venv38\\lib\\site-packages)\n",
      "WARNING: Ignoring invalid distribution -reat-expectations (c:\\users\\rkaha\\documents\\hopsworks\\venv38\\lib\\site-packages)\n",
      "WARNING: Ignoring invalid distribution -reat-expectations (c:\\users\\rkaha\\documents\\hopsworks\\venv38\\lib\\site-packages)\n"
     ]
    }
   ],
   "source": [
    "!pip install -U great_expectations --quiet"
   ]
  },
  {
   "cell_type": "code",
   "execution_count": 25,
   "id": "4f7865e6",
   "metadata": {},
   "outputs": [],
   "source": [
    "import great_expectations as ge\n",
    "\n",
    "# Create (or import an existing) expectation suite using the Great Expectations library.\n",
    "expectation_suite = ge.core.ExpectationSuite(\n",
    "    expectation_suite_name=\"validate_on_insert_suite\"\n",
    ")"
   ]
  },
  {
   "cell_type": "markdown",
   "id": "8452a132",
   "metadata": {},
   "source": [
    "---"
   ]
  },
  {
   "cell_type": "markdown",
   "id": "ee266b03",
   "metadata": {},
   "source": [
    "## <span style=\"color:#ff5f27;\"> ✔️✔️✖️ Now lets create a couple of Expectations </span> "
   ]
  },
  {
   "cell_type": "code",
   "execution_count": 26,
   "id": "e4d9cb39",
   "metadata": {
    "scrolled": true
   },
   "outputs": [
    {
     "data": {
      "text/plain": [
       "<AxesSubplot:>"
      ]
     },
     "execution_count": 26,
     "metadata": {},
     "output_type": "execute_result"
    },
    {
     "data": {
      "image/png": "[encoded data removed]",
      "text/plain": [
       "<Figure size 432x288 with 1 Axes>"
      ]
     },
     "metadata": {
      "needs_background": "light"
     },
     "output_type": "display_data"
    }
   ],
   "source": [
    "trans_df3.amount.hist()"
   ]
  },
  {
   "cell_type": "code",
   "execution_count": 27,
   "id": "aecfe815",
   "metadata": {},
   "outputs": [
    {
     "data": {
      "text/plain": [
       "count     2500.000000\n",
       "mean       771.666128\n",
       "std       2014.293199\n",
       "min          0.020000\n",
       "25%         32.965000\n",
       "50%         75.455000\n",
       "75%        479.217500\n",
       "max      25328.740000\n",
       "Name: amount, dtype: float64"
      ]
     },
     "execution_count": 27,
     "metadata": {},
     "output_type": "execute_result"
    }
   ],
   "source": [
    "trans_df3.amount.describe()"
   ]
  },
  {
   "cell_type": "code",
   "execution_count": 28,
   "id": "9c2dca80",
   "metadata": {},
   "outputs": [],
   "source": [
    "# here we define column to which we gonna apply an expectation\n",
    "SELECTED_COLUMN = \"amount\""
   ]
  },
  {
   "cell_type": "code",
   "execution_count": 29,
   "id": "f3d1872b",
   "metadata": {
    "scrolled": false
   },
   "outputs": [
    {
     "data": {
      "text/plain": [
       "{\"kwargs\": {\"column\": \"amount\", \"min_value\": 0, \"max_value\": 1}, \"meta\": {}, \"expectation_type\": \"expect_column_max_to_be_between\"}"
      ]
     },
     "execution_count": 29,
     "metadata": {},
     "output_type": "execute_result"
    }
   ],
   "source": [
    "# let's for demonstration purposes make the expectation that will definitely fail\n",
    "\n",
    "# lets add an expecation to the 'amount' column\n",
    "expectation_suite.add_expectation(\n",
    "    ge.core.ExpectationConfiguration(\n",
    "        expectation_type=\"expect_column_values_to_be_between\",\n",
    "        kwargs={\n",
    "            \"column\": SELECTED_COLUMN,\n",
    "            \"min_value\": 10,\n",
    "            \"max_value\": 100\n",
    "        }\n",
    "    )\n",
    ")\n",
    "\n",
    "# you can add as many expectations (to different columns in the same time) as you want\n",
    "expectation_suite.add_expectation(\n",
    "    ge.core.ExpectationConfiguration(\n",
    "        expectation_type=\"expect_column_max_to_be_between\",\n",
    "        kwargs={\n",
    "            \"column\": SELECTED_COLUMN,\n",
    "            \"min_value\": 0,\n",
    "            \"max_value\": 1\n",
    "        }\n",
    "    )\n",
    ")"
   ]
  },
  {
   "cell_type": "markdown",
   "id": "7bfee38e",
   "metadata": {},
   "source": [
    "---"
   ]
  },
  {
   "cell_type": "markdown",
   "id": "029a6ca3",
   "metadata": {},
   "source": [
    "> You can provide **'expectation_suite' argument while creating a new Feature Group**. And then **insert new data** like usual, validation will run automatically."
   ]
  },
  {
   "cell_type": "code",
   "execution_count": 30,
   "id": "9f539a2b",
   "metadata": {},
   "outputs": [],
   "source": [
    "new_feature = fs.get_or_create_feature_group(\n",
    "    name=\"test_fg\",\n",
    "    version=1,\n",
    "    description=\"Test data\",\n",
    "    primary_key=['index'],\n",
    "    online_enabled=True,\n",
    "    # Uncomment below to attach a GE suite when creating this Feature Group\n",
    "    # expectation_suite=expectation_suite\n",
    ")"
   ]
  },
  {
   "cell_type": "markdown",
   "id": "c9879225",
   "metadata": {},
   "source": [
    "---"
   ]
  },
  {
   "cell_type": "markdown",
   "id": "1c7ddfb0",
   "metadata": {},
   "source": [
    "### <span style=\"color:#ff5f27;\"> ⬆️ Here we will save an Expectation Suite to the existing Feature Group </span> "
   ]
  },
  {
   "cell_type": "code",
   "execution_count": 31,
   "id": "b8f8492a",
   "metadata": {
    "scrolled": false
   },
   "outputs": [
    {
     "data": {
      "application/vnd.jupyter.widget-view+json": {
       "model_id": "e6e4e05913aa48bc9b3572e8ccbbd5db",
       "version_major": 2,
       "version_minor": 0
      },
      "text/plain": [
       "Profiling Columns:   0%|          | 0/12 [00:00<?, ?it/s, tid]"
      ]
     },
     "metadata": {},
     "output_type": "display_data"
    },
    {
     "name": "stderr",
     "output_type": "stream",
     "text": [
      "DeprecationWarning: DataAsset.remove_expectations is deprecated, and will be removed in a future release. Please use ExpectationSuite.remove_expectation instead.\n",
      "DeprecationWarning: DataAsset.remove_expectations is deprecated, and will be removed in a future release. Please use ExpectationSuite.remove_expectation instead.\n",
      "DeprecationWarning: DataAsset.remove_expectations is deprecated, and will be removed in a future release. Please use ExpectationSuite.remove_expectation instead.\n",
      "DeprecationWarning: DataAsset.remove_expectations is deprecated, and will be removed in a future release. Please use ExpectationSuite.remove_expectation instead.\n",
      "DeprecationWarning: DataAsset.remove_expectations is deprecated, and will be removed in a future release. Please use ExpectationSuite.remove_expectation instead.\n",
      "DeprecationWarning: DataAsset.remove_expectations is deprecated, and will be removed in a future release. Please use ExpectationSuite.remove_expectation instead.\n",
      "DeprecationWarning: DataAsset.remove_expectations is deprecated, and will be removed in a future release. Please use ExpectationSuite.remove_expectation instead.\n",
      "DeprecationWarning: DataAsset.remove_expectations is deprecated, and will be removed in a future release. Please use ExpectationSuite.remove_expectation instead.\n"
     ]
    },
    {
     "name": "stdout",
     "output_type": "stream",
     "text": [
      "2022-08-12 16:31:49,213 INFO: \t64 expectation(s) included in expectation_suite.\n"
     ]
    },
    {
     "name": "stderr",
     "output_type": "stream",
     "text": [
      "DeprecationWarning: DataAsset.remove_expectations is deprecated, and will be removed in a future release. Please use ExpectationSuite.remove_expectation instead.\n",
      "DeprecationWarning: DataAsset.remove_expectations is deprecated, and will be removed in a future release. Please use ExpectationSuite.remove_expectation instead.\n",
      "DeprecationWarning: DataAsset.remove_expectations is deprecated, and will be removed in a future release. Please use ExpectationSuite.remove_expectation instead.\n",
      "DeprecationWarning: DataAsset.remove_expectations is deprecated, and will be removed in a future release. Please use ExpectationSuite.remove_expectation instead.\n"
     ]
    }
   ],
   "source": [
    "# Using Great Expectations Profiler\n",
    "\n",
    "ge_profiler = ge.profile.BasicSuiteBuilderProfiler()\n",
    "expectation_suite_profiler, _ = ge_profiler.profile(ge.from_pandas(trans_df3)) # here we pass a DataFrame to validate"
   ]
  },
  {
   "cell_type": "code",
   "execution_count": 32,
   "id": "ded485c3",
   "metadata": {},
   "outputs": [],
   "source": [
    "# here we retrieve our 'trans_fraud_online_fg' Feature Group from the Feature Store\n",
    "trans_fg = fs.get_or_create_feature_group(\n",
    "    name=\"trans_fraud_online_fg\",\n",
    "    version=1\n",
    ")\n"
   ]
  },
  {
   "cell_type": "code",
   "execution_count": 33,
   "id": "96462ee4",
   "metadata": {},
   "outputs": [
    {
     "name": "stdout",
     "output_type": "stream",
     "text": [
      "Attached expectation suite to featuregroup, edit it at https://c.app.hopsworks.ai:443/p/164/fs/106/fg/569\n"
     ]
    }
   ],
   "source": [
    "# lets attach an expectation suite to your Feature Group.\n",
    "# It enables persistence of the expectation suite to the Hopsworks backend.\n",
    "trans_fg.save_expectation_suite(expectation_suite)"
   ]
  },
  {
   "cell_type": "markdown",
   "id": "f0a14a2f",
   "metadata": {},
   "source": [
    "Here they are\n",
    "\n",
    "![expectations_fraud_online_ui.png](../../images/expectations_fraud_online_ui.png)"
   ]
  },
  {
   "cell_type": "markdown",
   "id": "0350bdd4",
   "metadata": {},
   "source": [
    "> **❗️ Note that the expectation suite object is modified in place to populate it with necessary information to further upload validation reports. This suite can easily be retrieved during a different session or deleted whenever you are working with this Feature Group by calling:**"
   ]
  },
  {
   "cell_type": "code",
   "execution_count": 34,
   "id": "6b4bd4da",
   "metadata": {},
   "outputs": [
    {
     "data": {
      "text/plain": [
       "{\n",
       "  \"meta\": {\n",
       "    \"great_expectations_version\": \"0.14.3\"\n",
       "  },\n",
       "  \"ge_cloud_id\": null,\n",
       "  \"data_asset_type\": null,\n",
       "  \"expectation_suite_name\": \"validate_on_insert_suite\",\n",
       "  \"expectations\": [\n",
       "    {\n",
       "      \"kwargs\": {\n",
       "        \"column\": \"amount\",\n",
       "        \"min_value\": 10,\n",
       "        \"max_value\": 100\n",
       "      },\n",
       "      \"meta\": {\n",
       "        \"expectationId\": 169\n",
       "      },\n",
       "      \"expectation_type\": \"expect_column_values_to_be_between\"\n",
       "    },\n",
       "    {\n",
       "      \"kwargs\": {\n",
       "        \"column\": \"amount\",\n",
       "        \"min_value\": 0,\n",
       "        \"max_value\": 1\n",
       "      },\n",
       "      \"meta\": {\n",
       "        \"expectationId\": 170\n",
       "      },\n",
       "      \"expectation_type\": \"expect_column_max_to_be_between\"\n",
       "    }\n",
       "  ]\n",
       "}"
      ]
     },
     "execution_count": 34,
     "metadata": {},
     "output_type": "execute_result"
    }
   ],
   "source": [
    "# we can retrieve the expectation suite very simply\n",
    "ge_expectation_suite = trans_fg.get_expectation_suite()\n",
    "ge_expectation_suite"
   ]
  },
  {
   "cell_type": "code",
   "execution_count": 35,
   "id": "fdea2c50",
   "metadata": {},
   "outputs": [],
   "source": [
    "# or delete with\n",
    "# trans_fg.drop_expectation_suite()"
   ]
  },
  {
   "cell_type": "markdown",
   "id": "ed4bdea6",
   "metadata": {},
   "source": [
    "---"
   ]
  },
  {
   "cell_type": "markdown",
   "id": "1847e4ca",
   "metadata": {},
   "source": [
    "### <span style=\"color:#ff5f27;\"> 🔄 Validate your data </span> "
   ]
  },
  {
   "cell_type": "code",
   "execution_count": 36,
   "id": "0a21a606",
   "metadata": {},
   "outputs": [
    {
     "name": "stdout",
     "output_type": "stream",
     "text": [
      "2022-08-12 16:31:50,231 INFO: \t2 expectation(s) included in expectation_suite.\n"
     ]
    }
   ],
   "source": [
    "# As validation objects returned by Hopsworks are native Great Expectation objects, \n",
    "# you can run validation using the usual Great Expectations syntax:\n",
    "ge_df = ge.from_pandas(trans_df3, expectation_suite=trans_fg.get_expectation_suite())\n",
    "ge_report = ge_df.validate()"
   ]
  },
  {
   "cell_type": "markdown",
   "id": "77dd3840",
   "metadata": {},
   "source": [
    "> **❗️ Note that you should always use an expectation suite that has been saved to Hopsworks if you intend to upload the associated validation report. You can use a convenience wrapper method provided by Hopsworks to validate using the attached suite:**"
   ]
  },
  {
   "cell_type": "code",
   "execution_count": 37,
   "id": "310c2957",
   "metadata": {},
   "outputs": [
    {
     "name": "stdout",
     "output_type": "stream",
     "text": [
      "2022-08-12 16:31:50,452 INFO: \t2 expectation(s) included in expectation_suite.\n"
     ]
    }
   ],
   "source": [
    "#This will run the validation using the expectation suite attached to this Feature Group\n",
    "# and raise an exception if no attached suite is found.\n",
    "ge_report = trans_fg.validate(trans_df3)\n",
    "\n",
    "# set the save_report parameter to False to skip uploading the report to Hopsworks\n",
    "# ge_report = fg.validate(df, save_report=False)"
   ]
  },
  {
   "cell_type": "markdown",
   "id": "30db2d40",
   "metadata": {},
   "source": [
    "---"
   ]
  },
  {
   "cell_type": "markdown",
   "id": "fb92e71c",
   "metadata": {},
   "source": [
    "### <span style=\"color:#ff5f27;\"> ⬆️ Upload Validation Reports to Hopsworks</span> \n",
    "\n",
    "When running validation using `Great Expectations`, a **validation report** is generated containing all validation results for the different expectations. Each result provides information about whether the provided DataFrame conforms to the corresponding expectation. These reports can be stored in Hopsworks to save a validation history for the data written to a particular Feature Group."
   ]
  },
  {
   "cell_type": "code",
   "execution_count": 38,
   "id": "28b92c12",
   "metadata": {},
   "outputs": [
    {
     "name": "stdout",
     "output_type": "stream",
     "text": [
      "Validation Report saved successfully, explore a summary at https://c.app.hopsworks.ai:443/p/164/fs/106/fg/569\n"
     ]
    },
    {
     "data": {
      "text/plain": [
       "{\n",
       "  \"statistics\": {\n",
       "    \"evaluated_expectations\": 2,\n",
       "    \"successful_expectations\": 0,\n",
       "    \"unsuccessful_expectations\": 2,\n",
       "    \"success_percent\": 0.0\n",
       "  },\n",
       "  \"evaluation_parameters\": {},\n",
       "  \"success\": false,\n",
       "  \"meta\": {\n",
       "    \"great_expectations_version\": \"0.14.3\",\n",
       "    \"expectation_suite_name\": \"validate_on_insert_suite\",\n",
       "    \"run_id\": {\n",
       "      \"run_name\": null,\n",
       "      \"run_time\": \"2022-08-12T14:31:50.452497+00:00\"\n",
       "    },\n",
       "    \"batch_kwargs\": {\n",
       "      \"ge_batch_id\": \"80d2b383-1a4b-11ed-b4bd-14abc5f42df5\"\n",
       "    },\n",
       "    \"batch_markers\": {},\n",
       "    \"batch_parameters\": {},\n",
       "    \"validation_time\": \"20220812T143150.452497Z\",\n",
       "    \"expectation_suite_meta\": {\n",
       "      \"great_expectations_version\": \"0.14.3\"\n",
       "    }\n",
       "  },\n",
       "  \"results\": [\n",
       "    {\n",
       "      \"success\": false,\n",
       "      \"meta\": {},\n",
       "      \"result\": {\n",
       "        \"element_count\": 2500,\n",
       "        \"missing_count\": 0,\n",
       "        \"missing_percent\": 0.0,\n",
       "        \"unexpected_count\": 1181,\n",
       "        \"unexpected_percent\": 47.24,\n",
       "        \"unexpected_percent_total\": 47.24,\n",
       "        \"unexpected_percent_nonmissing\": 47.24,\n",
       "        \"partial_unexpected_list\": [\n",
       "          786.85,\n",
       "          0.14,\n",
       "          8992.79,\n",
       "          688.8,\n",
       "          4.5,\n",
       "          350.72,\n",
       "          4.6,\n",
       "          730.19,\n",
       "          687.46,\n",
       "          8.07,\n",
       "          6946.83,\n",
       "          343.2,\n",
       "          762.91,\n",
       "          100.57,\n",
       "          545.22,\n",
       "          2.54,\n",
       "          1.74,\n",
       "          634.21,\n",
       "          1363.13,\n",
       "          232.69\n",
       "        ]\n",
       "      },\n",
       "      \"expectation_config\": {\n",
       "        \"kwargs\": {\n",
       "          \"column\": \"amount\",\n",
       "          \"min_value\": 10,\n",
       "          \"max_value\": 100\n",
       "        },\n",
       "        \"meta\": {\n",
       "          \"expectationId\": 169\n",
       "        },\n",
       "        \"expectation_type\": \"expect_column_values_to_be_between\"\n",
       "      },\n",
       "      \"exception_info\": {\n",
       "        \"raised_exception\": false,\n",
       "        \"exception_message\": null,\n",
       "        \"exception_traceback\": null\n",
       "      }\n",
       "    },\n",
       "    {\n",
       "      \"success\": false,\n",
       "      \"meta\": {},\n",
       "      \"result\": {\n",
       "        \"observed_value\": 25328.74,\n",
       "        \"element_count\": 2500,\n",
       "        \"missing_count\": null,\n",
       "        \"missing_percent\": null\n",
       "      },\n",
       "      \"expectation_config\": {\n",
       "        \"kwargs\": {\n",
       "          \"column\": \"amount\",\n",
       "          \"min_value\": 0,\n",
       "          \"max_value\": 1\n",
       "        },\n",
       "        \"meta\": {\n",
       "          \"expectationId\": 170\n",
       "        },\n",
       "        \"expectation_type\": \"expect_column_max_to_be_between\"\n",
       "      },\n",
       "      \"exception_info\": {\n",
       "        \"raised_exception\": false,\n",
       "        \"exception_message\": null,\n",
       "        \"exception_traceback\": null\n",
       "      }\n",
       "    }\n",
       "  ]\n",
       "}"
      ]
     },
     "execution_count": 38,
     "metadata": {},
     "output_type": "execute_result"
    }
   ],
   "source": [
    "trans_fg.save_validation_report(ge_report)"
   ]
  },
  {
   "cell_type": "markdown",
   "id": "68e0bf9e",
   "metadata": {},
   "source": [
    "A summary of these reports is available via an API call or in the Hopsworks UI enabling easy monitoring.\n",
    "\n",
    "![expectations_fraud_online_res.png](../../images/expectations_fraud_online_res.png)"
   ]
  },
  {
   "cell_type": "code",
   "execution_count": 39,
   "id": "6d728f8f",
   "metadata": {},
   "outputs": [
    {
     "name": "stdout",
     "output_type": "stream",
     "text": [
      "Long reports can be truncated when fetching from Hopsworks.\n",
      "        \n",
      "You can download the full report at https://c.app.hopsworks.ai:443/p/164/fs/106/fg/569\n"
     ]
    }
   ],
   "source": [
    "# For in-depth analysis, it is possible to download the complete report from the UI.\n",
    "\n",
    "# convenience method for rapid development\n",
    "ge_latest_report = trans_fg.get_latest_validation_report()\n",
    "# fetching the latest summary prints a link to the UI \n",
    "# where you can download full report if summary is insufficient"
   ]
  },
  {
   "cell_type": "code",
   "execution_count": 40,
   "id": "e9a17948",
   "metadata": {},
   "outputs": [
    {
     "data": {
      "text/plain": [
       "{\n",
       "  \"statistics\": {\n",
       "    \"evaluated_expectations\": 2,\n",
       "    \"successful_expectations\": 0,\n",
       "    \"unsuccessful_expectations\": 2,\n",
       "    \"success_percent\": 0.0\n",
       "  },\n",
       "  \"evaluation_parameters\": {},\n",
       "  \"success\": false,\n",
       "  \"meta\": {\n",
       "    \"great_expectations_version\": \"0.14.3\",\n",
       "    \"expectation_suite_name\": \"validate_on_insert_suite\",\n",
       "    \"run_id\": {\n",
       "      \"run_name\": null,\n",
       "      \"run_time\": \"2022-08-12T14:31:50.452497+00:00\"\n",
       "    },\n",
       "    \"batch_kwargs\": {\n",
       "      \"ge_batch_id\": \"80d2b383-1a4b-11ed-b4bd-14abc5f42df5\"\n",
       "    },\n",
       "    \"batch_markers\": {},\n",
       "    \"batch_parameters\": {},\n",
       "    \"validation_time\": \"20220812T143150.452497Z\",\n",
       "    \"expectation_suite_meta\": {\n",
       "      \"great_expectations_version\": \"0.14.3\"\n",
       "    }\n",
       "  },\n",
       "  \"results\": [\n",
       "    {\n",
       "      \"success\": false,\n",
       "      \"meta\": {},\n",
       "      \"result\": {\n",
       "        \"element_count\": 2500,\n",
       "        \"missing_count\": 0,\n",
       "        \"missing_percent\": 0.0,\n",
       "        \"unexpected_count\": 1181,\n",
       "        \"unexpected_percent\": 47.24,\n",
       "        \"unexpected_percent_total\": 47.24,\n",
       "        \"unexpected_percent_nonmissing\": 47.24,\n",
       "        \"partial_unexpected_list\": [\n",
       "          786.85,\n",
       "          0.14,\n",
       "          8992.79,\n",
       "          688.8,\n",
       "          4.5,\n",
       "          350.72,\n",
       "          4.6,\n",
       "          730.19,\n",
       "          687.46,\n",
       "          8.07,\n",
       "          6946.83,\n",
       "          343.2,\n",
       "          762.91,\n",
       "          100.57,\n",
       "          545.22,\n",
       "          2.54,\n",
       "          1.74,\n",
       "          634.21,\n",
       "          1363.13,\n",
       "          232.69\n",
       "        ]\n",
       "      },\n",
       "      \"expectation_config\": {\n",
       "        \"kwargs\": {\n",
       "          \"column\": \"amount\",\n",
       "          \"min_value\": 10,\n",
       "          \"max_value\": 100\n",
       "        },\n",
       "        \"meta\": {\n",
       "          \"expectationId\": 169\n",
       "        },\n",
       "        \"expectation_type\": \"expect_column_values_to_be_between\"\n",
       "      },\n",
       "      \"exception_info\": {\n",
       "        \"raised_exception\": false,\n",
       "        \"exception_message\": null,\n",
       "        \"exception_traceback\": null\n",
       "      }\n",
       "    },\n",
       "    {\n",
       "      \"success\": false,\n",
       "      \"meta\": {},\n",
       "      \"result\": {\n",
       "        \"observed_value\": 25328.74,\n",
       "        \"element_count\": 2500,\n",
       "        \"missing_count\": null,\n",
       "        \"missing_percent\": null\n",
       "      },\n",
       "      \"expectation_config\": {\n",
       "        \"kwargs\": {\n",
       "          \"column\": \"amount\",\n",
       "          \"min_value\": 0,\n",
       "          \"max_value\": 1\n",
       "        },\n",
       "        \"meta\": {\n",
       "          \"expectationId\": 170\n",
       "        },\n",
       "        \"expectation_type\": \"expect_column_max_to_be_between\"\n",
       "      },\n",
       "      \"exception_info\": {\n",
       "        \"raised_exception\": false,\n",
       "        \"exception_message\": null,\n",
       "        \"exception_traceback\": null\n",
       "      }\n",
       "    }\n",
       "  ]\n",
       "}"
      ]
     },
     "execution_count": 40,
     "metadata": {},
     "output_type": "execute_result"
    }
   ],
   "source": [
    "ge_latest_report"
   ]
  },
  {
   "cell_type": "markdown",
   "id": "214926e2",
   "metadata": {},
   "source": [
    "---"
   ]
  },
  {
   "cell_type": "markdown",
   "id": "abdda361",
   "metadata": {},
   "source": [
    "## <span style=\"color:#ff5f27;\">⏭️ **Next:** Part 02 </span>\n",
    "\n",
    "In the following notebook you will use our feature groups to create a dataset you can train a model on."
   ]
  }
 ],
 "metadata": {
  "interpreter": {
   "hash": "e1ddeae6eefc765c17da80d38ea59b893ab18c0c0904077a035ef84cfe367f83"
  },
  "kernelspec": {
   "display_name": "Python 3 (ipykernel)",
   "language": "python",
   "name": "python3"
  },
  "language_info": {
   "codemirror_mode": {
    "name": "ipython",
    "version": 3
   },
   "file_extension": ".py",
   "mimetype": "text/x-python",
   "name": "python",
   "nbconvert_exporter": "python",
   "pygments_lexer": "ipython3",
   "version": "3.8.0"
  }
 },
 "nbformat": 4,
 "nbformat_minor": 5
}
