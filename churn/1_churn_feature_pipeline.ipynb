{
 "cells": [
  {
   "cell_type": "markdown",
   "id": "e31bb98b",
   "metadata": {},
   "source": [
    "# <span style=\"font-width:bold; font-size: 3rem; color:#1EB182;\"><img src=\"../images/icon102.png\" width=\"38px\"></img> **Hopsworks Feature Store** </span><span style=\"font-width:bold; font-size: 3rem; color:#333;\">- Part 01: Feature Pipeline</span>\n",
    "\n",
    "[![Open In Colab](https://colab.research.google.com/assets/colab-badge.svg)](https://colab.research.google.com/github/logicalclocks/hopsworks-tutorials/blob/master/churn/1_churn_feature_pipeline.ipynb)\n",
    "\n",
    "\n",
    "## 🗒️ This notebook is divided into the following sections:\n",
    "1. Loading the data and feature engineering.\n",
    "2. Connect to the Hopsworks feature store.\n",
    "3. Create feature groups and upload them to the feature store.\n",
    "\n",
    "\n",
    "![tutorial-flow](../images/01_featuregroups.png)\n",
    "\n",
    "First of all you will load the data and do some feature engineering on it.\n"
   ]
  },
  {
   "cell_type": "markdown",
   "id": "4ab5155e",
   "metadata": {},
   "source": [
    "The data you will use comes from three different CSV files:\n",
    "\n",
    "- `demography.csv`: demographic informations.\n",
    "- `customer_info.csv`: customer information such as contract type, billing methods and monthly charges as well as whether customer has churned within the last month.\n",
    "- `subscriptions.csv`: customer subscription to services such as internet, mobile or movie streaming.\n",
    "\n",
    "You can conceptualize these CSV files as originating from separate data sources.\n",
    "**All three files have a customer id column `customerid` in common, which you can use for joins.**\n",
    "\n",
    "Let's go ahead and load the data."
   ]
  },
  {
   "cell_type": "markdown",
   "id": "5b5c3917",
   "metadata": {},
   "source": [
    "### <span style='color:#ff5f27'> 📝 Imports"
   ]
  },
  {
   "cell_type": "code",
   "execution_count": null,
   "id": "9d961f87",
   "metadata": {},
   "outputs": [],
   "source": [
    "!pip install -U hopsworks --quiet"
   ]
  },
  {
   "cell_type": "code",
   "execution_count": null,
   "id": "59ad59a9",
   "metadata": {},
   "outputs": [],
   "source": [
    "import pandas as pd\n",
    "\n",
    "#ignore warnings\n",
    "import warnings\n",
    "warnings.filterwarnings('ignore')"
   ]
  },
  {
   "cell_type": "markdown",
   "id": "56fbc5cc",
   "metadata": {},
   "source": [
    "## <span style=\"color:#ff5f27;\"> 💽 Loading the Data </span>\n"
   ]
  },
  {
   "cell_type": "code",
   "execution_count": null,
   "id": "cab1512d",
   "metadata": {},
   "outputs": [],
   "source": [
    "demography_df = pd.read_csv(\"https://repo.hops.works/dev/davit/churn/demography.csv\")\n",
    "customer_info_df = pd.read_csv(\"https://repo.hops.works/dev/davit/churn/customer_info.csv\")\n",
    "subscriptions_df = pd.read_csv(\"https://repo.hops.works/dev/davit/churn/subscriptions.csv\")"
   ]
  },
  {
   "cell_type": "code",
   "execution_count": null,
   "id": "95652438-1a10-401e-9438-ca06b6f5ea96",
   "metadata": {},
   "outputs": [],
   "source": [
    "demography_df.head(3)"
   ]
  },
  {
   "cell_type": "code",
   "execution_count": null,
   "id": "0401bede-2d69-40a8-ad21-55602a7c72c2",
   "metadata": {},
   "outputs": [],
   "source": [
    "customer_info_df.head(3)"
   ]
  },
  {
   "cell_type": "code",
   "execution_count": null,
   "id": "86a445a2-712b-4d0e-aea3-326932ef7dc3",
   "metadata": {},
   "outputs": [],
   "source": [
    "subscriptions_df.head(3)"
   ]
  },
  {
   "cell_type": "markdown",
   "id": "cfddf1b6",
   "metadata": {},
   "source": [
    "---\n",
    "## <span style=\"color:#ff5f27;\"> 🛠️ Feature Engineering </span>\n",
    "\n",
    "In this section you will perform feature engineering, such as converting textual features to numerical features and replacing missing values to 0s. Let's start with the Customer information feature group."
   ]
  },
  {
   "cell_type": "code",
   "execution_count": null,
   "id": "b26eb398",
   "metadata": {},
   "outputs": [],
   "source": [
    "# Convert the \"TotalCharges\" column to numeric, treating errors as NaN\n",
    "customer_info_df[\"TotalCharges\"] = pd.to_numeric(\n",
    "    customer_info_df[\"TotalCharges\"], \n",
    "    errors='coerce',\n",
    ")\n",
    "\n",
    "# Replace NaN values in the \"TotalCharges\" column with 0\n",
    "customer_info_df[\"TotalCharges\"].fillna(0, inplace=True)\n",
    "\n",
    "# Replace values in the \"Churn\" column with 0 for \"No\" and 1 for \"Yes\"\n",
    "customer_info_df[\"Churn\"].replace({\"No\": 0, \"Yes\": 1}, inplace=True)"
   ]
  },
  {
   "cell_type": "markdown",
   "id": "ae5008cf",
   "metadata": {},
   "source": [
    "---\n",
    "## <span style=\"color:#ff5f27;\"> 🪄 Creating Feature Groups </span>\n",
    "\n",
    "A [feature group](https://docs.hopsworks.ai/feature-store-api/latest/generated/feature_group/) can be seen as a collection of conceptually related features. In this case, you will create 3 feature groups:\n",
    "1. Customer information\n",
    "2. Customer demography\n",
    "3. Customer subscibtion \n",
    "\n",
    "As you can see feature groups are related to their source data. These feature groups have the same column as a primary key, which will allow you to join them when creating a dataset in the next tutorial.\n",
    "\n",
    "Before you can create a feature group you need to connect to Hopsworks feature store."
   ]
  },
  {
   "cell_type": "code",
   "execution_count": null,
   "id": "81531cc3",
   "metadata": {},
   "outputs": [],
   "source": [
    "import hopsworks\n",
    "\n",
    "project = hopsworks.login()\n",
    "\n",
    "fs = project.get_feature_store()"
   ]
  },
  {
   "cell_type": "markdown",
   "id": "7a094e86",
   "metadata": {},
   "source": [
    "To create a feature group you need to give it a name and specify a primary key. It is also good to provide a description of the contents of the feature group."
   ]
  },
  {
   "cell_type": "code",
   "execution_count": null,
   "id": "921a5010",
   "metadata": {},
   "outputs": [],
   "source": [
    "# Get or create the 'customer_info' feature group\n",
    "customer_info_fg = fs.get_or_create_feature_group(\n",
    "    name=\"customer_info\",\n",
    "    version=1,\n",
    "    description=\"Customer info for churn prediction.\",\n",
    "    primary_key=['customerID'],\n",
    "    event_time=\"datetime\",\n",
    ")"
   ]
  },
  {
   "cell_type": "markdown",
   "id": "1a06298e",
   "metadata": {},
   "source": [
    "A full list of arguments can be found in the [documentation](https://docs.hopsworks.ai/feature-store-api/latest/generated/api/feature_store_api/#create_feature_group).\n",
    "\n",
    "At this point, you have only specified some metadata for the feature group. It does not store any data or even have a schema defined for the data. To make the feature group persistent you need to populate it with its associated data using the `insert` function."
   ]
  },
  {
   "cell_type": "code",
   "execution_count": null,
   "id": "05d9cbd8",
   "metadata": {},
   "outputs": [],
   "source": [
    "# Insert data into feature group\n",
    "customer_info_fg.insert(customer_info_df)"
   ]
  },
  {
   "cell_type": "code",
   "execution_count": null,
   "id": "fd8469e7",
   "metadata": {},
   "outputs": [],
   "source": [
    "# Update feature descriptions\n",
    "feature_descriptions = [\n",
    "    {\"name\": \"customerid\", \"description\": \"Customer id\"}, \n",
    "    {\"name\": \"contract\", \"description\": \"Type of contact\"}, \n",
    "    {\"name\": \"tenure\", \"description\": \"How long they’ve been a customer\"}, \n",
    "    {\"name\": \"paymentmethod\", \"description\": \"Payment method\"}, \n",
    "    {\"name\": \"paperlessbilling\", \"description\": \"Whether customer has paperless billing or not\"}, \n",
    "    {\"name\": \"monthlycharges\", \"description\": \"Monthly charges\"}, \n",
    "    {\"name\": \"totalcharges\", \"description\": \"Total charges\"},\n",
    "    {\"name\": \"churn\", \"description\": \"Whether customer has left within the last month or not\"},\n",
    "    {\"name\": \"datetime\", \"description\": \"Date when the customer information was recorded\"},\n",
    "]\n",
    "\n",
    "for desc in feature_descriptions: \n",
    "    customer_info_fg.update_feature_description(desc[\"name\"], desc[\"description\"])"
   ]
  },
  {
   "cell_type": "code",
   "execution_count": null,
   "id": "942ecf89",
   "metadata": {},
   "outputs": [],
   "source": [
    "# Get or create the 'customer_demography_info' feature group\n",
    "demography_fg = fs.get_or_create_feature_group(\n",
    "    name=\"customer_demography_info\",\n",
    "    version=1,\n",
    "    description=\"Customer demography info for churn prediction.\",\n",
    "    primary_key=['customerID'],\n",
    ")\n",
    "# Insert data into feature group\n",
    "demography_fg.insert(demography_df)"
   ]
  },
  {
   "cell_type": "code",
   "execution_count": null,
   "id": "bf4e3842",
   "metadata": {},
   "outputs": [],
   "source": [
    "# Update feature descriptions\n",
    "feature_descriptions = [\n",
    "    {\"name\": \"customerid\", \"description\": \"Customer id\"}, \n",
    "    {\"name\": \"gender\", \"description\": \"Customer gender\"},\n",
    "    {\"name\": \"seniorcitizen\", \"description\": \"Whether customer is a senior citizen or not\"}, \n",
    "    {\"name\": \"dependents\", \"description\": \"Whether customer has dependents or not\"}, \n",
    "    {\"name\": \"partner\", \"description\": \"Whether customer has partners or not\"}, \n",
    "]\n",
    "\n",
    "for desc in feature_descriptions: \n",
    "    demography_fg.update_feature_description(desc[\"name\"], desc[\"description\"])"
   ]
  },
  {
   "cell_type": "code",
   "execution_count": null,
   "id": "2af92271",
   "metadata": {},
   "outputs": [],
   "source": [
    "# Get or create the 'customer_subscription_info' feature group\n",
    "subscriptions_fg = fs.get_or_create_feature_group(\n",
    "    name=\"customer_subscription_info\",\n",
    "    version=1,\n",
    "    description=\"Customer subscription info for churn prediction.\",\n",
    "    primary_key=['customerID'],\n",
    "    event_time=\"datetime\",\n",
    ")\n",
    "# Insert data into feature group\n",
    "subscriptions_fg.insert(\n",
    "    subscriptions_df, \n",
    "    write_options={\"wait_for_job\": True},\n",
    ")"
   ]
  },
  {
   "cell_type": "code",
   "execution_count": null,
   "id": "16aca181",
   "metadata": {},
   "outputs": [],
   "source": [
    "# Update feature descriptions\n",
    "feature_descriptions = [\n",
    "    {\"name\": \"customerid\", \"description\": \"Customer id\"}, \n",
    "    {\"name\": \"deviceprotection\", \"description\": \"Whether customer has signed up for device protection service\"},\n",
    "    {\"name\": \"onlinebackup\", \"description\": \"Whether customer has signed up for online backup service\"}, \n",
    "    {\"name\": \"onlinesecurity\", \"description\": \"Whether customer has signed up for online security service\"}, \n",
    "    {\"name\": \"internetservice\", \"description\": \"Whether customer has signed up for internet service\"}, \n",
    "    {\"name\": \"multiplelines\", \"description\": \"Whether customer has signed up for multiple lines service\"}, \n",
    "    {\"name\": \"phoneservice\", \"description\": \"Whether customer has signed up for phone service\"}, \n",
    "    {\"name\": \"techsupport\", \"description\": \"Whether customer has signed up for tech support service\"}, \n",
    "    {\"name\": \"streamingmovies\", \"description\": \"Whether customer has signed up for streaming movies service\"}, \n",
    "    {\"name\": \"streamingtv\", \"description\": \"Whether customer has signed up for streaming TV service\"},\n",
    "    {\"name\": \"datetime\", \"description\": \"Date when the customer information was recorded\"},\n",
    "]\n",
    "\n",
    "for desc in feature_descriptions: \n",
    "    subscriptions_fg.update_feature_description(desc[\"name\"], desc[\"description\"])"
   ]
  },
  {
   "cell_type": "markdown",
   "id": "6be2416d",
   "metadata": {},
   "source": [
    "All three feature groups are now accessible and searchable in the UI\n",
    "\n",
    "![fg-overview](../churn/images/churn_fg.gif)"
   ]
  },
  {
   "cell_type": "markdown",
   "id": "26023b4f",
   "metadata": {},
   "source": [
    "---\n",
    "## <span style=\"color:#ff5f27;\">⏭️ **Next:** Part 02 </span>\n",
    "\n",
    "In the following notebook you will use your feature groups to create a train dataset, train a model and add a trained model to model registry.\n",
    "\n",
    "[![Open In Colab](https://colab.research.google.com/assets/colab-badge.svg)](https://colab.research.google.com/github/logicalclocks/hopsworks-tutorials/blob/master/churn/2_churn_training_pipeline.ipynb)"
   ]
  }
 ],
 "metadata": {
  "interpreter": {
   "hash": "31f2aee4e71d21fbe5cf8b01ff0e069b9275f58929596ceb00d14d90e3e16cd6"
  },
  "kernelspec": {
   "display_name": "Python 3 (ipykernel)",
   "language": "python",
   "name": "python3"
  },
  "language_info": {
   "codemirror_mode": {
    "name": "ipython",
    "version": 3
   },
   "file_extension": ".py",
   "mimetype": "text/x-python",
   "name": "python",
   "nbconvert_exporter": "python",
   "pygments_lexer": "ipython3",
   "version": "3.9.18"
  }
 },
 "nbformat": 4,
 "nbformat_minor": 5
}
