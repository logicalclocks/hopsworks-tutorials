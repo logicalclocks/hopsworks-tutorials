{
 "cells": [
  {
   "cell_type": "markdown",
   "id": "f6941937",
   "metadata": {},
   "source": [
    "# <span style=\"font-width:bold; font-size: 3rem; color:#1EB182;\"><img src=\"../../images/icon102.png\" width=\"38px\"></img> **Hopsworks Feature Store** </span><span style=\"font-width:bold; font-size: 3rem; color:#333;\">- Part 01: Feature Backfill</span>\n",
    "\n",
    "[![Open In Colab](https://colab.research.google.com/assets/colab-badge.svg)](https://colab.research.google.com/github/logicalclocks/hopsworks-tutorials/blob/master/advanced_tutorials/bitcoin/1_bitcoin_feature_backfill.ipynb)\n",
    "\n",
    "## 🗒️ This notebook is divided into the following sections:\n",
    "1. Fetch historical data.\n",
    "2. Connect to the Hopsworks feature store.\n",
    "3. Create feature groups and insert them to the feature store.\n",
    "\n",
    "![tutorial-flow](../../images/01_featuregroups.png)"
   ]
  },
  {
   "cell_type": "markdown",
   "id": "3ed2980e",
   "metadata": {},
   "source": [
    "---"
   ]
  },
  {
   "cell_type": "markdown",
   "id": "8e7bd3ed",
   "metadata": {},
   "source": [
    "### <span style=\"color:#ff5f27;\"> 📝 Imports</span>"
   ]
  },
  {
   "cell_type": "code",
   "execution_count": null,
   "id": "2dbdb308",
   "metadata": {},
   "outputs": [],
   "source": [
    "!pip install -U hopsworks --quiet\n",
    "\n",
    "!pip install -U unicorn-binance-rest-api --quiet\n",
    "!pip install -U python-dotenv --quiet\n",
    "!pip install -U textblob --quiet\n",
    "!pip install -U vaderSentiment --quiet\n",
    "!pip install -U tweepy --quiet\n",
    "\n",
    "# Hosted notebook environments may not have the local features package\n",
    "import os\n",
    "\n",
    "def need_download_modules():\n",
    "    if 'google.colab' in str(get_ipython()):\n",
    "        return True\n",
    "    if 'HOPSWORKS_PROJECT_ID' in os.environ:\n",
    "        return True\n",
    "    return False\n",
    "\n",
    "if need_download_modules():\n",
    "    print(\"Downloading modules\")\n",
    "    os.system('mkdir -p features')\n",
    "    os.system('cd features && wget https://raw.githubusercontent.com/logicalclocks/hopsworks-tutorials/master/advanced_tutorials/bitcoin/features/bitcoin_price.py')\n",
    "    os.system('cd features && wget https://raw.githubusercontent.com/logicalclocks/hopsworks-tutorials/master/advanced_tutorials/bitcoin/features/tweets.py')\n",
    "else:\n",
    "    print(\"Local environment\")"
   ]
  },
  {
   "cell_type": "code",
   "execution_count": null,
   "id": "c2b982b4",
   "metadata": {},
   "outputs": [],
   "source": [
    "# Uncomment and fill in if you are running on Colab\n",
    "# os.environ['TWITTER_API_KEY'] = '{YOUR_API_KEY}'\n",
    "# os.environ['TWITTER_API_SECRET'] = '{YOUR_API_KEY}'\n",
    "# os.environ['TWITTER_ACCESS_TOKEN'] = '{YOUR_API_KEY}'\n",
    "# os.environ['TWITTER_ACCESS_TOKEN_SECRET'] = '{YOUR_API_KEY}'\n",
    "\n",
    "# os.environ['BINANCE_API_KEY'] = '{YOUR_API_KEY}'\n",
    "# os.environ['BINANCE_API_SECRET'] = '{YOUR_API_KEY}'"
   ]
  },
  {
   "cell_type": "code",
   "execution_count": null,
   "id": "4df97210",
   "metadata": {
    "scrolled": true
   },
   "outputs": [],
   "source": [
    "import pandas as pd\n",
    "\n",
    "from features import bitcoin_price, tweets"
   ]
  },
  {
   "cell_type": "markdown",
   "id": "64257bfe",
   "metadata": {
    "tags": []
   },
   "source": [
    "---\n",
    "## <span style=\"color:#ff5f27;\"> 🧙🏼‍♂️ Parsing Data</span>"
   ]
  },
  {
   "cell_type": "markdown",
   "id": "89d0af4b-4ecf-4505-8bd2-f1e0637da879",
   "metadata": {},
   "source": [
    "You will parse timeseries Bitcoin data from Binance using your own credentials, so you have to get a free Binance account and [create API-keys](https://www.binance.com/en/support/faq/360002502072).\n",
    "\n",
    "Also, you should [contact Twitter](https://developer.twitter.com/en/docs/twitter-api/getting-started/getting-access-to-the-twitter-api) for their API-keys.\n",
    "\n",
    "\n",
    "#### Don't forget to create an `.env` configuration file inside this directory where all the necessary environment variables will be stored:\n",
    "\n",
    "`TWITTER_API_KEY = \"YOUR_API_KEY\"`\n",
    "\n",
    "`TWITTER_API_SECRET = \"YOUR_API_KEY\"`\n",
    "\n",
    "`TWITTER_ACCESS_TOKEN = \"YOUR_API_KEY\"`\n",
    "\n",
    "`TWITTER_ACCESS_TOKEN_SECRET = \"YOUR_API_KEY\"`\n",
    "\n",
    "\n",
    "`BINANCE_API_KEY = \"YOUR_API_KEY\"`\n",
    "\n",
    "`BINANCE_API_SECRET = \"YOUR_API_KEY\"`\n",
    "\n",
    "> If you done it after you run this notebook, restart the Python Kernel (because `functions.py` does not have these variables in his namespace).\n",
    "\n",
    "![](images/api_keys_env_file.png)"
   ]
  },
  {
   "cell_type": "markdown",
   "id": "0daf36bd",
   "metadata": {},
   "source": [
    "### <span style='color:#ff5f27'> 📈 Bitcoin Data parsing"
   ]
  },
  {
   "cell_type": "code",
   "execution_count": null,
   "id": "8fae36c0",
   "metadata": {},
   "outputs": [],
   "source": [
    "# we work with tweets newer then '2021-02-05'\n",
    "df_bitcoin = bitcoin_price.parse_btc_data(\n",
    "    start_date=\"2021-02-05\", \n",
    "    end_date=\"today\",\n",
    ")\n",
    "\n",
    "df_bitcoin.reset_index(drop=True,inplace=True)\n",
    "\n",
    "print()\n",
    "print(f\"Parsed {df_bitcoin.shape[0]} rows.\")\n",
    "print()\n",
    "\n",
    "df_bitcoin.head(3)"
   ]
  },
  {
   "cell_type": "code",
   "execution_count": null,
   "id": "c258372f",
   "metadata": {
    "scrolled": true
   },
   "outputs": [],
   "source": [
    "df_bitcoin_processed = bitcoin_price.process_btc_data(df_bitcoin)\n",
    "df_bitcoin_processed.tail(3)"
   ]
  },
  {
   "cell_type": "markdown",
   "id": "f7519a6d",
   "metadata": {},
   "source": [
    "> Older records may come with time=11pm or time=9pm, but new ones have time=10pm. Thats because of timezones and daylight saving time. Lets apply this function to make unix column usable."
   ]
  },
  {
   "cell_type": "code",
   "execution_count": null,
   "id": "9303f1d9",
   "metadata": {},
   "outputs": [],
   "source": [
    "df_bitcoin_processed.unix = df_bitcoin_processed.unix.apply(bitcoin_price.fix_unix)"
   ]
  },
  {
   "cell_type": "code",
   "execution_count": null,
   "id": "865e3081-f596-4877-9938-98d2a2e9eece",
   "metadata": {},
   "outputs": [],
   "source": [
    "df_bitcoin_processed.date = df_bitcoin_processed.date.astype(str)"
   ]
  },
  {
   "cell_type": "markdown",
   "id": "bf93d06f",
   "metadata": {},
   "source": [
    "### <span style='color:#ff5f27'> 💭 Tweets Data"
   ]
  },
  {
   "cell_type": "code",
   "execution_count": null,
   "id": "152070ef",
   "metadata": {},
   "outputs": [],
   "source": [
    "tweets_textblob = pd.read_csv(\"https://repo.hops.works/dev/davit/bitcoin/tweets_textblob.csv\")\n",
    "tweets_textblob.unix = tweets_textblob.unix.apply(tweets.fix_unix)"
   ]
  },
  {
   "cell_type": "code",
   "execution_count": null,
   "id": "3c13f7ee",
   "metadata": {},
   "outputs": [],
   "source": [
    "tweets_vader = pd.read_csv(\"https://repo.hops.works/dev/davit/bitcoin/tweets_vader.csv\")\n",
    "tweets_vader.unix = tweets_vader.unix.apply(tweets.fix_unix)"
   ]
  },
  {
   "cell_type": "code",
   "execution_count": null,
   "id": "9b101425",
   "metadata": {},
   "outputs": [],
   "source": [
    "tweets_textblob.date = tweets_textblob.date.apply(lambda x: x[:10])\n",
    "tweets_vader.date = tweets_vader.date.apply(lambda x: x[:10])\n",
    "\n",
    "tweets_textblob.drop(tweets_textblob.columns[0],axis=1,inplace=True)\n",
    "tweets_vader.drop(tweets_vader.columns[0],axis=1,inplace=True)"
   ]
  },
  {
   "cell_type": "code",
   "execution_count": null,
   "id": "78225d90-a676-4622-8a11-21ed82014a97",
   "metadata": {},
   "outputs": [],
   "source": [
    "tweets_textblob.tail(3)"
   ]
  },
  {
   "cell_type": "code",
   "execution_count": null,
   "id": "d93df826-c48a-40c4-bdd6-878474fa01d4",
   "metadata": {},
   "outputs": [],
   "source": [
    "tweets_vader.tail(3)"
   ]
  },
  {
   "cell_type": "markdown",
   "id": "81d0f608",
   "metadata": {},
   "source": [
    "---"
   ]
  },
  {
   "cell_type": "markdown",
   "id": "ad04e49a",
   "metadata": {},
   "source": [
    "## <span style=\"color:#ff5f27;\"> 📡 Connecting to the Hopsworks Feature Store </span>"
   ]
  },
  {
   "cell_type": "code",
   "execution_count": null,
   "id": "dad669b7",
   "metadata": {},
   "outputs": [],
   "source": [
    "import hopsworks\n",
    "\n",
    "project = hopsworks.login()\n",
    "\n",
    "fs = project.get_feature_store()"
   ]
  },
  {
   "cell_type": "markdown",
   "id": "9958dad6",
   "metadata": {},
   "source": [
    "## <span style=\"color:#ff5f27;\"> 🪄 Creating Feature Groups </span>"
   ]
  },
  {
   "cell_type": "markdown",
   "id": "d010da72",
   "metadata": {},
   "source": [
    "### <span style='color:#ff5f27'> 📈 Bitcoin Price Feature Group"
   ]
  },
  {
   "cell_type": "code",
   "execution_count": null,
   "id": "ea4a4018",
   "metadata": {
    "scrolled": true
   },
   "outputs": [],
   "source": [
    "btc_price_fg = fs.get_or_create_feature_group(\n",
    "    name='bitcoin_price',\n",
    "    description='Bitcoin price aggregated for days',\n",
    "    version=1,\n",
    "    primary_key=['unix'],\n",
    "    online_enabled=True,\n",
    "    event_time='unix',\n",
    ")\n",
    "\n",
    "btc_price_fg.insert(df_bitcoin_processed)"
   ]
  },
  {
   "cell_type": "markdown",
   "id": "f5e00b6c",
   "metadata": {},
   "source": [
    "### <span style='color:#ff5f27'> 💭 Tweets Feature Groups"
   ]
  },
  {
   "cell_type": "code",
   "execution_count": null,
   "id": "fdcc2c10",
   "metadata": {},
   "outputs": [],
   "source": [
    "tweets_textblob_fg = fs.get_or_create_feature_group(\n",
    "    name='bitcoin_tweets_textblob',\n",
    "    version=1,\n",
    "    primary_key=['unix'],\n",
    "    online_enabled=True,\n",
    "    event_time='unix',\n",
    ")\n",
    "\n",
    "tweets_textblob_fg.insert(tweets_textblob)"
   ]
  },
  {
   "cell_type": "code",
   "execution_count": null,
   "id": "a47bf43b",
   "metadata": {},
   "outputs": [],
   "source": [
    "tweets_vader_fg = fs.get_or_create_feature_group(\n",
    "    name='bitcoin_tweets_vader',\n",
    "    version=1,\n",
    "    primary_key=['unix'],\n",
    "    online_enabled=True,\n",
    "    event_time='unix',\n",
    ")\n",
    "\n",
    "tweets_vader_fg.insert(\n",
    "    tweets_vader,\n",
    "    write_options={\"wait_for_job\": True},\n",
    ")"
   ]
  },
  {
   "cell_type": "markdown",
   "id": "fe294724",
   "metadata": {},
   "source": [
    "## <span style=\"color:#ff5f27;\">⏭️ **Next:** Part 02: Feature Pipeline</span>\n",
    "\n",
    "In the next notebook you will be parsing new monthly data for the Feature Groups.\n",
    "\n",
    "[![Open In Colab](https://colab.research.google.com/assets/colab-badge.svg)](https://colab.research.google.com/github/logicalclocks/hopsworks-tutorials/blob/master/advanced_tutorials/bitcoin/2_bitcoin_feature_pipeline.ipynb)"
   ]
  }
 ],
 "metadata": {
  "kernelspec": {
   "display_name": "Python 3 (ipykernel)",
   "language": "python",
   "name": "python3"
  },
  "language_info": {
   "codemirror_mode": {
    "name": "ipython",
    "version": 3
   },
   "file_extension": ".py",
   "mimetype": "text/x-python",
   "name": "python",
   "nbconvert_exporter": "python",
   "pygments_lexer": "ipython3",
   "version": "3.9.12"
  }
 },
 "nbformat": 4,
 "nbformat_minor": 5
}
