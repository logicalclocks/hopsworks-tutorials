{
 "cells": [
  {
   "cell_type": "markdown",
   "id": "edc89049",
   "metadata": {},
   "source": [
    "# <span style=\"font-width:bold; font-size: 3rem; color:#1EB182;\"><img src=\"../images/icon102.png\" width=\"38px\"></img> **Hopsworks Feature Store** </span><span style=\"font-width:bold; font-size: 3rem; color:#333;\">- Part 04: Batch Inference</span>\n",
    "\n",
    "## 🗒️ This notebook is divided into the following sections:\n",
    "\n",
    "1. Load batch data.\n",
    "2. Retrieve your trained model from the Model Registry.\n",
    "3. Load batch data.\n",
    "4. Predict batch data."
   ]
  },
  {
   "cell_type": "markdown",
   "id": "0cbefa72",
   "metadata": {},
   "source": [
    "## <span style='color:#ff5f27'> 📝 Imports"
   ]
  },
  {
   "cell_type": "code",
   "execution_count": 1,
   "id": "2635641d",
   "metadata": {},
   "outputs": [],
   "source": [
    "import joblib\n",
    "import datetime\n",
    "import pandas as pd"
   ]
  },
  {
   "cell_type": "markdown",
   "id": "97e466ff",
   "metadata": {},
   "source": [
    "## <span style=\"color:#ff5f27;\"> 📡 Connect to Hopsworks Feature Store </span>"
   ]
  },
  {
   "cell_type": "code",
   "execution_count": 2,
   "id": "dd83456c",
   "metadata": {},
   "outputs": [
    {
     "name": "stdout",
     "output_type": "stream",
     "text": [
      "Connected. Call `.close()` to terminate connection gracefully.\n",
      "\n",
      "Logged in to project, explore it here https://snurran.hops.works/p/5242\n",
      "Connected. Call `.close()` to terminate connection gracefully.\n"
     ]
    }
   ],
   "source": [
    "import hopsworks\n",
    "\n",
    "project = hopsworks.login()\n",
    "\n",
    "fs = project.get_feature_store()"
   ]
  },
  {
   "cell_type": "markdown",
   "id": "88a9587d",
   "metadata": {},
   "source": [
    "## <span style=\"color:#ff5f27;\"> ⚙️ Feature View Retrieval</span>"
   ]
  },
  {
   "cell_type": "code",
   "execution_count": 3,
   "id": "fa7f8ed2",
   "metadata": {},
   "outputs": [],
   "source": [
    "# Retrieve the 'air_quality_fv' feature view\n",
    "feature_view = fs.get_feature_view(\n",
    "    name='air_quality_fv',\n",
    "    version=1,\n",
    ")"
   ]
  },
  {
   "cell_type": "markdown",
   "id": "20bc6944",
   "metadata": {},
   "source": [
    "## <span style=\"color:#ff5f27;\">🗄 Model Registry</span>"
   ]
  },
  {
   "cell_type": "code",
   "execution_count": 4,
   "id": "33c4f742",
   "metadata": {},
   "outputs": [
    {
     "name": "stdout",
     "output_type": "stream",
     "text": [
      "Connected. Call `.close()` to terminate connection gracefully.\n"
     ]
    }
   ],
   "source": [
    "# Retrieve the model registry\n",
    "mr = project.get_model_registry()"
   ]
  },
  {
   "cell_type": "markdown",
   "id": "f887c4ba",
   "metadata": {},
   "source": [
    "## <span style=\"color:#ff5f27;\">🪝 Retrieve model from Model Registry</span>"
   ]
  },
  {
   "cell_type": "code",
   "execution_count": 5,
   "id": "9f52593a",
   "metadata": {},
   "outputs": [
    {
     "name": "stdout",
     "output_type": "stream",
     "text": [
      "Downloading model artifact (0 dirs, 6 files)... DONE\r"
     ]
    }
   ],
   "source": [
    "# Retrieve the 'air_quality_xgboost_model' from the model registry\n",
    "retrieved_model = mr.get_model(\n",
    "    name=\"air_quality_xgboost_model\",\n",
    "    version=1,\n",
    ")\n",
    "\n",
    "# Download the saved model artifacts to a local directory\n",
    "saved_model_dir = retrieved_model.download()"
   ]
  },
  {
   "cell_type": "code",
   "execution_count": 6,
   "id": "020d13b0",
   "metadata": {},
   "outputs": [
    {
     "data": {
      "text/html": [
       "<style>#sk-container-id-1 {color: black;background-color: white;}#sk-container-id-1 pre{padding: 0;}#sk-container-id-1 div.sk-toggleable {background-color: white;}#sk-container-id-1 label.sk-toggleable__label {cursor: pointer;display: block;width: 100%;margin-bottom: 0;padding: 0.3em;box-sizing: border-box;text-align: center;}#sk-container-id-1 label.sk-toggleable__label-arrow:before {content: \"▸\";float: left;margin-right: 0.25em;color: #696969;}#sk-container-id-1 label.sk-toggleable__label-arrow:hover:before {color: black;}#sk-container-id-1 div.sk-estimator:hover label.sk-toggleable__label-arrow:before {color: black;}#sk-container-id-1 div.sk-toggleable__content {max-height: 0;max-width: 0;overflow: hidden;text-align: left;background-color: #f0f8ff;}#sk-container-id-1 div.sk-toggleable__content pre {margin: 0.2em;color: black;border-radius: 0.25em;background-color: #f0f8ff;}#sk-container-id-1 input.sk-toggleable__control:checked~div.sk-toggleable__content {max-height: 200px;max-width: 100%;overflow: auto;}#sk-container-id-1 input.sk-toggleable__control:checked~label.sk-toggleable__label-arrow:before {content: \"▾\";}#sk-container-id-1 div.sk-estimator input.sk-toggleable__control:checked~label.sk-toggleable__label {background-color: #d4ebff;}#sk-container-id-1 div.sk-label input.sk-toggleable__control:checked~label.sk-toggleable__label {background-color: #d4ebff;}#sk-container-id-1 input.sk-hidden--visually {border: 0;clip: rect(1px 1px 1px 1px);clip: rect(1px, 1px, 1px, 1px);height: 1px;margin: -1px;overflow: hidden;padding: 0;position: absolute;width: 1px;}#sk-container-id-1 div.sk-estimator {font-family: monospace;background-color: #f0f8ff;border: 1px dotted black;border-radius: 0.25em;box-sizing: border-box;margin-bottom: 0.5em;}#sk-container-id-1 div.sk-estimator:hover {background-color: #d4ebff;}#sk-container-id-1 div.sk-parallel-item::after {content: \"\";width: 100%;border-bottom: 1px solid gray;flex-grow: 1;}#sk-container-id-1 div.sk-label:hover label.sk-toggleable__label {background-color: #d4ebff;}#sk-container-id-1 div.sk-serial::before {content: \"\";position: absolute;border-left: 1px solid gray;box-sizing: border-box;top: 0;bottom: 0;left: 50%;z-index: 0;}#sk-container-id-1 div.sk-serial {display: flex;flex-direction: column;align-items: center;background-color: white;padding-right: 0.2em;padding-left: 0.2em;position: relative;}#sk-container-id-1 div.sk-item {position: relative;z-index: 1;}#sk-container-id-1 div.sk-parallel {display: flex;align-items: stretch;justify-content: center;background-color: white;position: relative;}#sk-container-id-1 div.sk-item::before, #sk-container-id-1 div.sk-parallel-item::before {content: \"\";position: absolute;border-left: 1px solid gray;box-sizing: border-box;top: 0;bottom: 0;left: 50%;z-index: -1;}#sk-container-id-1 div.sk-parallel-item {display: flex;flex-direction: column;z-index: 1;position: relative;background-color: white;}#sk-container-id-1 div.sk-parallel-item:first-child::after {align-self: flex-end;width: 50%;}#sk-container-id-1 div.sk-parallel-item:last-child::after {align-self: flex-start;width: 50%;}#sk-container-id-1 div.sk-parallel-item:only-child::after {width: 0;}#sk-container-id-1 div.sk-dashed-wrapped {border: 1px dashed gray;margin: 0 0.4em 0.5em 0.4em;box-sizing: border-box;padding-bottom: 0.4em;background-color: white;}#sk-container-id-1 div.sk-label label {font-family: monospace;font-weight: bold;display: inline-block;line-height: 1.2em;}#sk-container-id-1 div.sk-label-container {text-align: center;}#sk-container-id-1 div.sk-container {/* jupyter's `normalize.less` sets `[hidden] { display: none; }` but bootstrap.min.css set `[hidden] { display: none !important; }` so we also need the `!important` here to be able to override the default hidden behavior on the sphinx rendered scikit-learn.org. See: https://github.com/scikit-learn/scikit-learn/issues/21755 */display: inline-block !important;position: relative;}#sk-container-id-1 div.sk-text-repr-fallback {display: none;}</style><div id=\"sk-container-id-1\" class=\"sk-top-container\"><div class=\"sk-text-repr-fallback\"><pre>XGBRegressor(base_score=None, booster=None, callbacks=None,\n",
       "             colsample_bylevel=None, colsample_bynode=None,\n",
       "             colsample_bytree=None, device=None, early_stopping_rounds=None,\n",
       "             enable_categorical=False, eval_metric=None, feature_types=None,\n",
       "             gamma=None, grow_policy=None, importance_type=None,\n",
       "             interaction_constraints=None, learning_rate=None, max_bin=None,\n",
       "             max_cat_threshold=None, max_cat_to_onehot=None,\n",
       "             max_delta_step=None, max_depth=None, max_leaves=None,\n",
       "             min_child_weight=None, missing=nan, monotone_constraints=None,\n",
       "             multi_strategy=None, n_estimators=None, n_jobs=None,\n",
       "             num_parallel_tree=None, random_state=None, ...)</pre><b>In a Jupyter environment, please rerun this cell to show the HTML representation or trust the notebook. <br />On GitHub, the HTML representation is unable to render, please try loading this page with nbviewer.org.</b></div><div class=\"sk-container\" hidden><div class=\"sk-item\"><div class=\"sk-estimator sk-toggleable\"><input class=\"sk-toggleable__control sk-hidden--visually\" id=\"sk-estimator-id-1\" type=\"checkbox\" checked><label for=\"sk-estimator-id-1\" class=\"sk-toggleable__label sk-toggleable__label-arrow\">XGBRegressor</label><div class=\"sk-toggleable__content\"><pre>XGBRegressor(base_score=None, booster=None, callbacks=None,\n",
       "             colsample_bylevel=None, colsample_bynode=None,\n",
       "             colsample_bytree=None, device=None, early_stopping_rounds=None,\n",
       "             enable_categorical=False, eval_metric=None, feature_types=None,\n",
       "             gamma=None, grow_policy=None, importance_type=None,\n",
       "             interaction_constraints=None, learning_rate=None, max_bin=None,\n",
       "             max_cat_threshold=None, max_cat_to_onehot=None,\n",
       "             max_delta_step=None, max_depth=None, max_leaves=None,\n",
       "             min_child_weight=None, missing=nan, monotone_constraints=None,\n",
       "             multi_strategy=None, n_estimators=None, n_jobs=None,\n",
       "             num_parallel_tree=None, random_state=None, ...)</pre></div></div></div></div></div>"
      ],
      "text/plain": [
       "XGBRegressor(base_score=None, booster=None, callbacks=None,\n",
       "             colsample_bylevel=None, colsample_bynode=None,\n",
       "             colsample_bytree=None, device=None, early_stopping_rounds=None,\n",
       "             enable_categorical=False, eval_metric=None, feature_types=None,\n",
       "             gamma=None, grow_policy=None, importance_type=None,\n",
       "             interaction_constraints=None, learning_rate=None, max_bin=None,\n",
       "             max_cat_threshold=None, max_cat_to_onehot=None,\n",
       "             max_delta_step=None, max_depth=None, max_leaves=None,\n",
       "             min_child_weight=None, missing=nan, monotone_constraints=None,\n",
       "             multi_strategy=None, n_estimators=None, n_jobs=None,\n",
       "             num_parallel_tree=None, random_state=None, ...)"
      ]
     },
     "execution_count": 6,
     "metadata": {},
     "output_type": "execute_result"
    }
   ],
   "source": [
    "# Load the XGBoost regressor model and label encoder from the saved model directory\n",
    "retrieved_xgboost_model = joblib.load(saved_model_dir + \"/xgboost_regressor.pkl\")\n",
    "retrieved_encoder = joblib.load(saved_model_dir + \"/label_encoder.pkl\")\n",
    "\n",
    "# Display the retrieved XGBoost regressor model\n",
    "retrieved_xgboost_model"
   ]
  },
  {
   "cell_type": "markdown",
   "id": "b8e37bb1",
   "metadata": {},
   "source": [
    "## <span style=\"color:#ff5f27;\">✨ Load Batch Data of last days</span>\n",
    "\n",
    "First, you will need to fetch the training dataset that you created in the previous notebook."
   ]
  },
  {
   "cell_type": "code",
   "execution_count": 7,
   "id": "733a1355",
   "metadata": {},
   "outputs": [
    {
     "data": {
      "text/plain": [
       "'2024-02-11'"
      ]
     },
     "execution_count": 7,
     "metadata": {},
     "output_type": "execute_result"
    }
   ],
   "source": [
    "# Get the current date\n",
    "today = datetime.date.today()\n",
    "\n",
    "# Calculate a date threshold 30 days ago from the current date\n",
    "date_threshold = today - datetime.timedelta(days=30)\n",
    "\n",
    "# Convert the date threshold to a string format\n",
    "str(date_threshold)"
   ]
  },
  {
   "cell_type": "code",
   "execution_count": 8,
   "id": "5a5c283b",
   "metadata": {},
   "outputs": [
    {
     "name": "stdout",
     "output_type": "stream",
     "text": [
      "Finished: Reading data from Hopsworks, using ArrowFlight (7.68s) \n"
     ]
    }
   ],
   "source": [
    "# Initialize batch scoring\n",
    "feature_view.init_batch_scoring(1)\n",
    "\n",
    "# Retrieve batch data from the feature view with a start time set to the date threshold\n",
    "batch_data = feature_view.get_batch_data(\n",
    "    start_time=date_threshold,\n",
    ")"
   ]
  },
  {
   "cell_type": "markdown",
   "id": "00a46a76",
   "metadata": {},
   "source": [
    "### <span style=\"color:#ff5f27;\">🤖 Making the predictions</span>"
   ]
  },
  {
   "cell_type": "code",
   "execution_count": 9,
   "id": "f1e09066",
   "metadata": {},
   "outputs": [
    {
     "data": {
      "text/html": [
       "<div>\n",
       "<style scoped>\n",
       "    .dataframe tbody tr th:only-of-type {\n",
       "        vertical-align: middle;\n",
       "    }\n",
       "\n",
       "    .dataframe tbody tr th {\n",
       "        vertical-align: top;\n",
       "    }\n",
       "\n",
       "    .dataframe thead th {\n",
       "        text-align: right;\n",
       "    }\n",
       "</style>\n",
       "<table border=\"1\" class=\"dataframe\">\n",
       "  <thead>\n",
       "    <tr style=\"text-align: right;\">\n",
       "      <th></th>\n",
       "      <th>pm_2_5_previous_1_day</th>\n",
       "      <th>pm_2_5_previous_2_day</th>\n",
       "      <th>pm_2_5_previous_3_day</th>\n",
       "      <th>pm_2_5_previous_4_day</th>\n",
       "      <th>pm_2_5_previous_5_day</th>\n",
       "      <th>pm_2_5_previous_6_day</th>\n",
       "      <th>pm_2_5_previous_7_day</th>\n",
       "      <th>mean_7_days</th>\n",
       "      <th>mean_14_days</th>\n",
       "      <th>mean_28_days</th>\n",
       "      <th>...</th>\n",
       "      <th>temperature_max</th>\n",
       "      <th>temperature_min</th>\n",
       "      <th>precipitation_sum</th>\n",
       "      <th>rain_sum</th>\n",
       "      <th>snowfall_sum</th>\n",
       "      <th>precipitation_hours</th>\n",
       "      <th>wind_speed_max</th>\n",
       "      <th>wind_gusts_max</th>\n",
       "      <th>wind_direction_dominant</th>\n",
       "      <th>city_name_encoded</th>\n",
       "    </tr>\n",
       "  </thead>\n",
       "  <tbody>\n",
       "    <tr>\n",
       "      <th>0</th>\n",
       "      <td>5.3</td>\n",
       "      <td>16.2</td>\n",
       "      <td>16.3</td>\n",
       "      <td>15.4</td>\n",
       "      <td>25.0</td>\n",
       "      <td>17.2</td>\n",
       "      <td>10.2</td>\n",
       "      <td>15.085714</td>\n",
       "      <td>15.242857</td>\n",
       "      <td>12.939286</td>\n",
       "      <td>...</td>\n",
       "      <td>14.2</td>\n",
       "      <td>8.4</td>\n",
       "      <td>0.0</td>\n",
       "      <td>0.00</td>\n",
       "      <td>0.0</td>\n",
       "      <td>0.0</td>\n",
       "      <td>34.7</td>\n",
       "      <td>59.4</td>\n",
       "      <td>302</td>\n",
       "      <td>20</td>\n",
       "    </tr>\n",
       "    <tr>\n",
       "      <th>1</th>\n",
       "      <td>12.2</td>\n",
       "      <td>17.5</td>\n",
       "      <td>12.1</td>\n",
       "      <td>14.5</td>\n",
       "      <td>12.3</td>\n",
       "      <td>16.8</td>\n",
       "      <td>14.3</td>\n",
       "      <td>14.242857</td>\n",
       "      <td>19.857143</td>\n",
       "      <td>18.432143</td>\n",
       "      <td>...</td>\n",
       "      <td>13.1</td>\n",
       "      <td>10.5</td>\n",
       "      <td>20.9</td>\n",
       "      <td>20.90</td>\n",
       "      <td>0.0</td>\n",
       "      <td>22.0</td>\n",
       "      <td>40.1</td>\n",
       "      <td>64.8</td>\n",
       "      <td>212</td>\n",
       "      <td>24</td>\n",
       "    </tr>\n",
       "    <tr>\n",
       "      <th>2</th>\n",
       "      <td>11.6</td>\n",
       "      <td>8.0</td>\n",
       "      <td>18.2</td>\n",
       "      <td>12.7</td>\n",
       "      <td>9.9</td>\n",
       "      <td>6.8</td>\n",
       "      <td>12.5</td>\n",
       "      <td>11.385714</td>\n",
       "      <td>9.921429</td>\n",
       "      <td>8.271429</td>\n",
       "      <td>...</td>\n",
       "      <td>10.8</td>\n",
       "      <td>5.2</td>\n",
       "      <td>9.1</td>\n",
       "      <td>13.65</td>\n",
       "      <td>0.0</td>\n",
       "      <td>5.0</td>\n",
       "      <td>14.8</td>\n",
       "      <td>43.2</td>\n",
       "      <td>180</td>\n",
       "      <td>30</td>\n",
       "    </tr>\n",
       "  </tbody>\n",
       "</table>\n",
       "<p>3 rows × 38 columns</p>\n",
       "</div>"
      ],
      "text/plain": [
       "   pm_2_5_previous_1_day  pm_2_5_previous_2_day  pm_2_5_previous_3_day  \\\n",
       "0                    5.3                   16.2                   16.3   \n",
       "1                   12.2                   17.5                   12.1   \n",
       "2                   11.6                    8.0                   18.2   \n",
       "\n",
       "   pm_2_5_previous_4_day  pm_2_5_previous_5_day  pm_2_5_previous_6_day  \\\n",
       "0                   15.4                   25.0                   17.2   \n",
       "1                   14.5                   12.3                   16.8   \n",
       "2                   12.7                    9.9                    6.8   \n",
       "\n",
       "   pm_2_5_previous_7_day  mean_7_days  mean_14_days  mean_28_days  ...  \\\n",
       "0                   10.2    15.085714     15.242857     12.939286  ...   \n",
       "1                   14.3    14.242857     19.857143     18.432143  ...   \n",
       "2                   12.5    11.385714      9.921429      8.271429  ...   \n",
       "\n",
       "   temperature_max  temperature_min  precipitation_sum  rain_sum  \\\n",
       "0             14.2              8.4                0.0      0.00   \n",
       "1             13.1             10.5               20.9     20.90   \n",
       "2             10.8              5.2                9.1     13.65   \n",
       "\n",
       "   snowfall_sum  precipitation_hours  wind_speed_max  wind_gusts_max  \\\n",
       "0           0.0                  0.0            34.7            59.4   \n",
       "1           0.0                 22.0            40.1            64.8   \n",
       "2           0.0                  5.0            14.8            43.2   \n",
       "\n",
       "   wind_direction_dominant  city_name_encoded  \n",
       "0                      302                 20  \n",
       "1                      212                 24  \n",
       "2                      180                 30  \n",
       "\n",
       "[3 rows x 38 columns]"
      ]
     },
     "execution_count": 9,
     "metadata": {},
     "output_type": "execute_result"
    }
   ],
   "source": [
    "# Transform the 'city_name' column in the batch data using the retrieved label encoder\n",
    "encoded = retrieved_encoder.transform(batch_data['city_name'])\n",
    "\n",
    "# Concatenate the label-encoded 'city_name' with the original batch data\n",
    "X_batch = pd.concat([batch_data, pd.DataFrame(encoded)], axis=1)\n",
    "\n",
    "# Drop unnecessary columns ('date', 'city_name', 'unix_time') from the batch data\n",
    "X_batch = X_batch.drop(columns=['date', 'city_name', 'unix_time'])\n",
    "\n",
    "# Rename the newly added column with label-encoded city names to 'city_name_encoded'\n",
    "X_batch = X_batch.rename(columns={0: 'city_name_encoded'})\n",
    "\n",
    "# Extract the target variable 'pm2_5' from the batch data\n",
    "y_batch = X_batch.pop('pm2_5')\n",
    "\n",
    "X_batch.head(3)"
   ]
  },
  {
   "cell_type": "code",
   "execution_count": 10,
   "id": "5149127e",
   "metadata": {},
   "outputs": [
    {
     "data": {
      "text/plain": [
       "array([ 5.9190893,  6.7028375,  7.9574   , 15.73646  ,  8.050383 ],\n",
       "      dtype=float32)"
      ]
     },
     "execution_count": 10,
     "metadata": {},
     "output_type": "execute_result"
    }
   ],
   "source": [
    "# Make predictions on the batch data using the retrieved XGBoost regressor model\n",
    "predictions = retrieved_xgboost_model.predict(X_batch)\n",
    "\n",
    "# Display the first 5 predictions\n",
    "predictions[:5]"
   ]
  },
  {
   "cell_type": "markdown",
   "id": "ccbc0bb6",
   "metadata": {},
   "source": [
    "---\n",
    "## <span style=\"color:#ff5f27;\">👾 Now try out the Streamlit App!</span>"
   ]
  },
  {
   "cell_type": "code",
   "execution_count": 11,
   "id": "d784e05e",
   "metadata": {},
   "outputs": [],
   "source": [
    "# !python3 -m streamlit run streamlit_app.py"
   ]
  },
  {
   "cell_type": "markdown",
   "id": "569fc146",
   "metadata": {},
   "source": [
    "---\n",
    "\n",
    "### <span style=\"color:#ff5f27;\">🥳 <b> Next Steps  </b> </span>\n",
    "Congratulations you've now completed the Air Quality tutorial for Managed Hopsworks.\n",
    "\n",
    "Check out our other tutorials on ➡ https://github.com/logicalclocks/hopsworks-tutorials\n",
    "\n",
    "Or documentation at ➡ https://docs.hopsworks.ai"
   ]
  }
 ],
 "metadata": {
  "kernelspec": {
   "display_name": "Python 3",
   "language": "python",
   "name": "python3"
  },
  "language_info": {
   "codemirror_mode": {
    "name": "ipython",
    "version": 3
   },
   "file_extension": ".py",
   "mimetype": "text/x-python",
   "name": "python",
   "nbconvert_exporter": "python",
   "pygments_lexer": "ipython3",
   "version": "3.10.11"
  }
 },
 "nbformat": 4,
 "nbformat_minor": 5
}
