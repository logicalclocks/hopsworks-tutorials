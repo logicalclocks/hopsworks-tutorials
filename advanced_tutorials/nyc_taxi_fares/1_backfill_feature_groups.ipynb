{
 "cells": [
  {
   "cell_type": "markdown",
   "id": "73ee3ec9",
   "metadata": {},
   "source": [
    "# <span style=\"font-width:bold; font-size: 3rem; color:#1EB182;\"><img src=\"images/icon102.png\" width=\"38px\"></img> **Hopsworks Feature Store** </span><span style=\"font-width:bold; font-size: 3rem; color:#333;\">- Part 01: Backfill Features to the Feature Store</span>\n",
    "\n",
    "\n",
    "## 🗒️ This notebook is divided in 3 sections:\n",
    "1. Loading the data \n",
    "2. Connect to the Hopsworks feature store,\n",
    "3. Create feature groups and insert them to the feature store.\n",
    "\n",
    "![tutorial-flow](images/01_featuregroups.png)"
   ]
  },
  {
   "cell_type": "markdown",
   "id": "f04d5c5e",
   "metadata": {},
   "source": [
    "## <span style='color:#ff5f27'> 📝 Imports"
   ]
  },
  {
   "cell_type": "code",
   "execution_count": 1,
   "id": "cd165941",
   "metadata": {},
   "outputs": [],
   "source": [
    "import pandas as pd"
   ]
  },
  {
   "cell_type": "markdown",
   "id": "2246ca9d",
   "metadata": {},
   "source": [
    "## <span style='color:#ff5f27'> 💽 Loading Historical Data</span>\n"
   ]
  },
  {
   "cell_type": "markdown",
   "id": "b4a1c5d1",
   "metadata": {},
   "source": [
    "#### <span style='color:#ff5f27'> 🚖 Rides Data"
   ]
  },
  {
   "cell_type": "code",
   "execution_count": 3,
   "id": "8e605ce3",
   "metadata": {},
   "outputs": [
    {
     "data": {
      "text/html": [
       "<div>\n",
       "<style scoped>\n",
       "    .dataframe tbody tr th:only-of-type {\n",
       "        vertical-align: middle;\n",
       "    }\n",
       "\n",
       "    .dataframe tbody tr th {\n",
       "        vertical-align: top;\n",
       "    }\n",
       "\n",
       "    .dataframe thead th {\n",
       "        text-align: right;\n",
       "    }\n",
       "</style>\n",
       "<table border=\"1\" class=\"dataframe\">\n",
       "  <thead>\n",
       "    <tr style=\"text-align: right;\">\n",
       "      <th></th>\n",
       "      <th>ride_id</th>\n",
       "      <th>pickup_datetime</th>\n",
       "      <th>pickup_longitude</th>\n",
       "      <th>dropoff_longitude</th>\n",
       "      <th>pickup_latitude</th>\n",
       "      <th>dropoff_latitude</th>\n",
       "      <th>passenger_count</th>\n",
       "      <th>taxi_id</th>\n",
       "      <th>driver_id</th>\n",
       "      <th>distance</th>\n",
       "      <th>pickup_distance_to_jfk</th>\n",
       "      <th>dropoff_distance_to_jfk</th>\n",
       "      <th>pickup_distance_to_ewr</th>\n",
       "      <th>dropoff_distance_to_ewr</th>\n",
       "      <th>pickup_distance_to_lgr</th>\n",
       "      <th>dropoff_distance_to_lgr</th>\n",
       "      <th>year</th>\n",
       "      <th>weekday</th>\n",
       "      <th>hour</th>\n",
       "    </tr>\n",
       "  </thead>\n",
       "  <tbody>\n",
       "    <tr>\n",
       "      <th>0</th>\n",
       "      <td>9e68bedf5543e631ae5913e4f1582aae</td>\n",
       "      <td>1592984700000</td>\n",
       "      <td>-73.36097</td>\n",
       "      <td>-73.90945</td>\n",
       "      <td>41.32026</td>\n",
       "      <td>41.67243</td>\n",
       "      <td>3</td>\n",
       "      <td>161</td>\n",
       "      <td>153</td>\n",
       "      <td>37.386229</td>\n",
       "      <td>51.711501</td>\n",
       "      <td>71.571093</td>\n",
       "      <td>60.816150</td>\n",
       "      <td>69.298319</td>\n",
       "      <td>46.087372</td>\n",
       "      <td>61.902562</td>\n",
       "      <td>2020</td>\n",
       "      <td>2</td>\n",
       "      <td>7</td>\n",
       "    </tr>\n",
       "    <tr>\n",
       "      <th>1</th>\n",
       "      <td>2b4ccdbf3227b7ee69570987a3a13292</td>\n",
       "      <td>1578172300000</td>\n",
       "      <td>-72.89369</td>\n",
       "      <td>-73.73435</td>\n",
       "      <td>40.56219</td>\n",
       "      <td>40.56483</td>\n",
       "      <td>4</td>\n",
       "      <td>34</td>\n",
       "      <td>148</td>\n",
       "      <td>44.125785</td>\n",
       "      <td>46.716115</td>\n",
       "      <td>5.760495</td>\n",
       "      <td>67.738962</td>\n",
       "      <td>24.636067</td>\n",
       "      <td>53.472777</td>\n",
       "      <td>16.378563</td>\n",
       "      <td>2020</td>\n",
       "      <td>5</td>\n",
       "      <td>21</td>\n",
       "    </tr>\n",
       "    <tr>\n",
       "      <th>2</th>\n",
       "      <td>3ea79ec54a53315835f1409fce08dae5</td>\n",
       "      <td>1598876300000</td>\n",
       "      <td>-73.39310</td>\n",
       "      <td>-73.92265</td>\n",
       "      <td>41.70746</td>\n",
       "      <td>40.63226</td>\n",
       "      <td>3</td>\n",
       "      <td>163</td>\n",
       "      <td>133</td>\n",
       "      <td>79.229918</td>\n",
       "      <td>76.336996</td>\n",
       "      <td>7.604696</td>\n",
       "      <td>81.222024</td>\n",
       "      <td>13.779885</td>\n",
       "      <td>68.978840</td>\n",
       "      <td>10.313417</td>\n",
       "      <td>2020</td>\n",
       "      <td>0</td>\n",
       "      <td>12</td>\n",
       "    </tr>\n",
       "    <tr>\n",
       "      <th>3</th>\n",
       "      <td>cd44a15a227ecbdafadf2fe96d2abce8</td>\n",
       "      <td>1586180900000</td>\n",
       "      <td>-74.00832</td>\n",
       "      <td>-74.00135</td>\n",
       "      <td>41.45902</td>\n",
       "      <td>41.74677</td>\n",
       "      <td>2</td>\n",
       "      <td>57</td>\n",
       "      <td>28</td>\n",
       "      <td>19.884865</td>\n",
       "      <td>57.758348</td>\n",
       "      <td>77.257408</td>\n",
       "      <td>53.868622</td>\n",
       "      <td>73.602454</td>\n",
       "      <td>47.645692</td>\n",
       "      <td>67.337151</td>\n",
       "      <td>2020</td>\n",
       "      <td>0</td>\n",
       "      <td>13</td>\n",
       "    </tr>\n",
       "    <tr>\n",
       "      <th>4</th>\n",
       "      <td>abf4265bc0d16ea15c1ecc2f4200d806</td>\n",
       "      <td>1591487300000</td>\n",
       "      <td>-73.35522</td>\n",
       "      <td>-72.98109</td>\n",
       "      <td>41.48516</td>\n",
       "      <td>41.11893</td>\n",
       "      <td>2</td>\n",
       "      <td>137</td>\n",
       "      <td>6</td>\n",
       "      <td>31.896808</td>\n",
       "      <td>62.327991</td>\n",
       "      <td>53.127891</td>\n",
       "      <td>69.587521</td>\n",
       "      <td>69.022923</td>\n",
       "      <td>55.889200</td>\n",
       "      <td>52.247460</td>\n",
       "      <td>2020</td>\n",
       "      <td>5</td>\n",
       "      <td>23</td>\n",
       "    </tr>\n",
       "  </tbody>\n",
       "</table>\n",
       "</div>"
      ],
      "text/plain": [
       "                            ride_id  pickup_datetime  pickup_longitude  \\\n",
       "0  9e68bedf5543e631ae5913e4f1582aae    1592984700000         -73.36097   \n",
       "1  2b4ccdbf3227b7ee69570987a3a13292    1578172300000         -72.89369   \n",
       "2  3ea79ec54a53315835f1409fce08dae5    1598876300000         -73.39310   \n",
       "3  cd44a15a227ecbdafadf2fe96d2abce8    1586180900000         -74.00832   \n",
       "4  abf4265bc0d16ea15c1ecc2f4200d806    1591487300000         -73.35522   \n",
       "\n",
       "   dropoff_longitude  pickup_latitude  dropoff_latitude  passenger_count  \\\n",
       "0          -73.90945         41.32026          41.67243                3   \n",
       "1          -73.73435         40.56219          40.56483                4   \n",
       "2          -73.92265         41.70746          40.63226                3   \n",
       "3          -74.00135         41.45902          41.74677                2   \n",
       "4          -72.98109         41.48516          41.11893                2   \n",
       "\n",
       "   taxi_id  driver_id   distance  pickup_distance_to_jfk  \\\n",
       "0      161        153  37.386229               51.711501   \n",
       "1       34        148  44.125785               46.716115   \n",
       "2      163        133  79.229918               76.336996   \n",
       "3       57         28  19.884865               57.758348   \n",
       "4      137          6  31.896808               62.327991   \n",
       "\n",
       "   dropoff_distance_to_jfk  pickup_distance_to_ewr  dropoff_distance_to_ewr  \\\n",
       "0                71.571093               60.816150                69.298319   \n",
       "1                 5.760495               67.738962                24.636067   \n",
       "2                 7.604696               81.222024                13.779885   \n",
       "3                77.257408               53.868622                73.602454   \n",
       "4                53.127891               69.587521                69.022923   \n",
       "\n",
       "   pickup_distance_to_lgr  dropoff_distance_to_lgr  year  weekday  hour  \n",
       "0               46.087372                61.902562  2020        2     7  \n",
       "1               53.472777                16.378563  2020        5    21  \n",
       "2               68.978840                10.313417  2020        0    12  \n",
       "3               47.645692                67.337151  2020        0    13  \n",
       "4               55.889200                52.247460  2020        5    23  "
      ]
     },
     "execution_count": 3,
     "metadata": {},
     "output_type": "execute_result"
    }
   ],
   "source": [
    "df_rides = pd.read_csv('data/rides500.csv', index_col=0)\n",
    "\n",
    "df_rides.head()"
   ]
  },
  {
   "cell_type": "markdown",
   "id": "4687e802",
   "metadata": {},
   "source": [
    "#### <span style='color:#ff5f27'> 💸 Fares Data"
   ]
  },
  {
   "cell_type": "code",
   "execution_count": 4,
   "id": "c46283b4",
   "metadata": {},
   "outputs": [
    {
     "data": {
      "text/html": [
       "<div>\n",
       "<style scoped>\n",
       "    .dataframe tbody tr th:only-of-type {\n",
       "        vertical-align: middle;\n",
       "    }\n",
       "\n",
       "    .dataframe tbody tr th {\n",
       "        vertical-align: top;\n",
       "    }\n",
       "\n",
       "    .dataframe thead th {\n",
       "        text-align: right;\n",
       "    }\n",
       "</style>\n",
       "<table border=\"1\" class=\"dataframe\">\n",
       "  <thead>\n",
       "    <tr style=\"text-align: right;\">\n",
       "      <th></th>\n",
       "      <th>total_fare</th>\n",
       "      <th>tip</th>\n",
       "      <th>tolls</th>\n",
       "      <th>taxi_id</th>\n",
       "      <th>driver_id</th>\n",
       "      <th>ride_id</th>\n",
       "    </tr>\n",
       "  </thead>\n",
       "  <tbody>\n",
       "    <tr>\n",
       "      <th>0</th>\n",
       "      <td>207.0</td>\n",
       "      <td>3.0</td>\n",
       "      <td>2.0</td>\n",
       "      <td>133</td>\n",
       "      <td>95</td>\n",
       "      <td>9e68bedf5543e631ae5913e4f1582aae</td>\n",
       "    </tr>\n",
       "    <tr>\n",
       "      <th>1</th>\n",
       "      <td>211.0</td>\n",
       "      <td>13.0</td>\n",
       "      <td>4.0</td>\n",
       "      <td>67</td>\n",
       "      <td>104</td>\n",
       "      <td>2b4ccdbf3227b7ee69570987a3a13292</td>\n",
       "    </tr>\n",
       "    <tr>\n",
       "      <th>2</th>\n",
       "      <td>3.0</td>\n",
       "      <td>15.0</td>\n",
       "      <td>0.0</td>\n",
       "      <td>88</td>\n",
       "      <td>116</td>\n",
       "      <td>3ea79ec54a53315835f1409fce08dae5</td>\n",
       "    </tr>\n",
       "    <tr>\n",
       "      <th>3</th>\n",
       "      <td>31.0</td>\n",
       "      <td>33.0</td>\n",
       "      <td>4.0</td>\n",
       "      <td>47</td>\n",
       "      <td>92</td>\n",
       "      <td>cd44a15a227ecbdafadf2fe96d2abce8</td>\n",
       "    </tr>\n",
       "    <tr>\n",
       "      <th>4</th>\n",
       "      <td>31.0</td>\n",
       "      <td>6.0</td>\n",
       "      <td>4.0</td>\n",
       "      <td>76</td>\n",
       "      <td>189</td>\n",
       "      <td>abf4265bc0d16ea15c1ecc2f4200d806</td>\n",
       "    </tr>\n",
       "  </tbody>\n",
       "</table>\n",
       "</div>"
      ],
      "text/plain": [
       "   total_fare   tip  tolls  taxi_id  driver_id  \\\n",
       "0       207.0   3.0    2.0      133         95   \n",
       "1       211.0  13.0    4.0       67        104   \n",
       "2         3.0  15.0    0.0       88        116   \n",
       "3        31.0  33.0    4.0       47         92   \n",
       "4        31.0   6.0    4.0       76        189   \n",
       "\n",
       "                            ride_id  \n",
       "0  9e68bedf5543e631ae5913e4f1582aae  \n",
       "1  2b4ccdbf3227b7ee69570987a3a13292  \n",
       "2  3ea79ec54a53315835f1409fce08dae5  \n",
       "3  cd44a15a227ecbdafadf2fe96d2abce8  \n",
       "4  abf4265bc0d16ea15c1ecc2f4200d806  "
      ]
     },
     "execution_count": 4,
     "metadata": {},
     "output_type": "execute_result"
    }
   ],
   "source": [
    "df_fares = pd.read_csv('data/fares500.csv', index_col=0)\n",
    "\n",
    "df_fares.head()"
   ]
  },
  {
   "cell_type": "markdown",
   "id": "cb6f83ba",
   "metadata": {},
   "source": [
    "## <span style=\"color:#ff5f27;\"> 🔮 Connecting to Hopsworks Feature Store </span>"
   ]
  },
  {
   "cell_type": "code",
   "execution_count": 5,
   "id": "dd068240",
   "metadata": {},
   "outputs": [
    {
     "name": "stdout",
     "output_type": "stream",
     "text": [
      "Connected. Call `.close()` to terminate connection gracefully.\n",
      "\n",
      "Logged in to project, explore it here https://c.app.hopsworks.ai:443/p/164\n"
     ]
    },
    {
     "name": "stderr",
     "output_type": "stream",
     "text": [
      "DeprecationWarning: the imp module is deprecated in favour of importlib; see the module's documentation for alternative uses\n"
     ]
    },
    {
     "name": "stdout",
     "output_type": "stream",
     "text": [
      "Connected. Call `.close()` to terminate connection gracefully.\n"
     ]
    }
   ],
   "source": [
    "import hopsworks\n",
    "\n",
    "project = hopsworks.login()\n",
    "\n",
    "fs = project.get_feature_store() "
   ]
  },
  {
   "cell_type": "code",
   "execution_count": 6,
   "id": "b9746124",
   "metadata": {},
   "outputs": [
    {
     "data": {
      "text/plain": [
       "Project('romankah', 'roman.kaharlytskyi@logicalclocks.com', 'Default project')"
      ]
     },
     "execution_count": 6,
     "metadata": {},
     "output_type": "execute_result"
    }
   ],
   "source": [
    "project"
   ]
  },
  {
   "cell_type": "markdown",
   "id": "63d8c3b9",
   "metadata": {},
   "source": [
    "## <span style=\"color:#ff5f27;\">🪄 Creating Feature Groups</span>"
   ]
  },
  {
   "cell_type": "markdown",
   "id": "4a2515c4",
   "metadata": {},
   "source": [
    "#### <span style='color:#ff5f27'> 🚖 Rides Data"
   ]
  },
  {
   "cell_type": "code",
   "execution_count": 7,
   "id": "9d7088a8",
   "metadata": {},
   "outputs": [
    {
     "name": "stdout",
     "output_type": "stream",
     "text": [
      "Feature Group created successfully, explore it at \n",
      "https://c.app.hopsworks.ai:443/p/167/fs/109/fg/871\n"
     ]
    },
    {
     "data": {
      "application/vnd.jupyter.widget-view+json": {
       "model_id": "2e9af42c4d3746c7b2a45315ec23a0f6",
       "version_major": 2,
       "version_minor": 0
      },
      "text/plain": [
       "Uploading Dataframe: 0.00% |          | Rows 0/16 | Elapsed Time: 00:00 | Remaining Time: ?"
      ]
     },
     "metadata": {},
     "output_type": "display_data"
    },
    {
     "name": "stdout",
     "output_type": "stream",
     "text": [
      "Launching offline feature group backfill job...\n",
      "Backfill Job started successfully, you can follow the progress at \n",
      "https://c.app.hopsworks.ai/p/167/jobs/named/air_quality_fg_1_offline_fg_backfill/executions\n"
     ]
    },
    {
     "data": {
      "text/plain": [
       "(<hsfs.core.job.Job at 0x7f7b806cd1c0>, None)"
      ]
     },
     "execution_count": 7,
     "metadata": {},
     "output_type": "execute_result"
    }
   ],
   "source": [
    "rides_fg = fs.get_or_create_feature_group(name=\"rides_fg\",\n",
    "                                          version=1,\n",
    "                                          primary_key=[\"ride_id\"],\n",
    "                                          event_time=[\"pickup_datetime\"],\n",
    "                                          expectation_suite=expectation_suite,\n",
    "                                          description=\"Rides features\",\n",
    "                                          time_travel_format=\"HUDI\",     \n",
    "                                          online_enabled=True,                                                \n",
    "                                          statistics_config=True)\n",
    "rides_fg.insert(df_rides)"
   ]
  },
  {
   "cell_type": "markdown",
   "id": "a73a9029",
   "metadata": {},
   "source": [
    "#### <span style='color:#ff5f27'> 💸 Fares Data"
   ]
  },
  {
   "cell_type": "code",
   "execution_count": 8,
   "id": "acc2b799",
   "metadata": {
    "scrolled": false
   },
   "outputs": [
    {
     "name": "stdout",
     "output_type": "stream",
     "text": [
      "Feature Group created successfully, explore it at \n",
      "https://c.app.hopsworks.ai:443/p/167/fs/109/fg/872\n"
     ]
    },
    {
     "data": {
      "application/vnd.jupyter.widget-view+json": {
       "model_id": "bd2b81ed7e7e47dea97a908141dc447e",
       "version_major": 2,
       "version_minor": 0
      },
      "text/plain": [
       "Uploading Dataframe: 0.00% |          | Rows 0/16 | Elapsed Time: 00:00 | Remaining Time: ?"
      ]
     },
     "metadata": {},
     "output_type": "display_data"
    },
    {
     "name": "stdout",
     "output_type": "stream",
     "text": [
      "Launching offline feature group backfill job...\n",
      "Backfill Job started successfully, you can follow the progress at \n",
      "https://c.app.hopsworks.ai/p/167/jobs/named/weather_fg_1_offline_fg_backfill/executions\n"
     ]
    },
    {
     "data": {
      "text/plain": [
       "(<hsfs.core.job.Job at 0x7f7b806ecc70>, None)"
      ]
     },
     "execution_count": 8,
     "metadata": {},
     "output_type": "execute_result"
    }
   ],
   "source": [
    "fares_fg = fs.get_or_create_feature_group(name=\"fares_fg\",\n",
    "                                          version=1,\n",
    "                                          primary_key=[\"ride_id\"], \n",
    "                                          description=\"Taxi fares features\",\n",
    "                                          expectation_suite=expectation_suite,\n",
    "                                          time_travel_format=\"HUDI\",  \n",
    "                                          online_enabled=True,\n",
    "                                          statistics_config=True)   \n",
    "fares_fg.insert(df_fares)"
   ]
  },
  {
   "cell_type": "markdown",
   "id": "21164195",
   "metadata": {},
   "source": [
    "---"
   ]
  },
  {
   "cell_type": "markdown",
   "id": "4d032b1f",
   "metadata": {},
   "source": [
    "## <span style=\"color:#ff5f27;\">⏭️ **Next:** Part 02 </span>\n",
    "\n",
    "In the next notebook, we will be generating new data for our Feature Groups."
   ]
  },
  {
   "cell_type": "markdown",
   "id": "0ded6f81",
   "metadata": {},
   "source": [
    "---"
   ]
  }
 ],
 "metadata": {
  "kernelspec": {
   "display_name": "Python 3 (ipykernel)",
   "language": "python",
   "name": "python3"
  },
  "language_info": {
   "codemirror_mode": {
    "name": "ipython",
    "version": 3
   },
   "file_extension": ".py",
   "mimetype": "text/x-python",
   "name": "python",
   "nbconvert_exporter": "python",
   "pygments_lexer": "ipython3",
   "version": "3.8.0"
  }
 },
 "nbformat": 4,
 "nbformat_minor": 5
}
