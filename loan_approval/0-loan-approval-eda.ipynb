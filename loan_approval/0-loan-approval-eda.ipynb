{
 "cells": [
  {
   "cell_type": "markdown",
   "id": "4e1e2fcc",
   "metadata": {
    "papermill": {
     "duration": 0.029083,
     "end_time": "2023-01-31T14:11:23.008968",
     "exception": false,
     "start_time": "2023-01-31T14:11:22.979885",
     "status": "completed"
    },
    "tags": []
   },
   "source": [
    " # <span style=\"color:#ff5f27;\">🏦 Loan Approval </span>\n",
    "\n",
    "\n",
    "This notebook is adapted from:\n",
    "https://www.kaggle.com/code/faressayah/lending-club-loan-defaulters-prediction \n",
    "\n",
    "# <span style=\"color:#ff5f27;\">📑 Introduction </span>\n",
    "\n",
    "> `LendingClub` is a US peer-to-peer lending company, headquartered in San Francisco, California. It was the first peer-to-peer lender to register its offerings as securities with the Securities and Exchange Commission (SEC), and to offer loan trading on a secondary market. `LendingClub` is the world's largest peer-to-peer lending platform.\n",
    "\n",
    "> Solving this case study will give us an idea about how real business problems are solved using EDA and Machine Learning. In this case study, we will also develop a basic understanding of risk analytics in banking and financial services and understand how data is used to minimise the risk of losing money while lending to customers.\n",
    "\n",
    "# <span style=\"color:#ff5f27;\">📝 Business Understanding </span>\n",
    "\n",
    "\n",
    "\n",
    "> You work for the `LendingClub` company which specialises in lending various types of loans to urban customers. When the company receives a loan application, the company has to make a decision for loan approval based on the applicant’s profile. Two types of risks are associated with the bank’s decision:\n",
    "\n",
    "> - If the applicant is likely to repay the loan, then not approving the loan results in a loss of business to the company\n",
    "> - If the applicant is not likely to repay the loan, i.e. he/she is likely to default, then approving the loan may lead to a financial loss for the company\n",
    "\n",
    "> The data given contains the information about past loan applicants and whether they ‘defaulted’ or not. The aim is to identify patterns which indicate if a person is likely to default, which may be used for takin actions such as denying the loan, reducing the amount of loan, lending (to risky applicants) at a higher interest rate, etc.\n",
    "\n",
    "> When a person applies for a loan, there are two types of decisions that could be taken by the company:\n",
    "> 1. `Loan accepted`: If the company approves the loan, there are 3 possible scenarios described below:\n",
    "    - `Fully paid`: Applicant has fully paid the loan (the principal and the interest rate)\n",
    "    - `Current`: Applicant is in the process of paying the instalments, i.e. the tenure of the loan is not yet completed. These candidates are not labelled as 'defaulted'.\n",
    "    - `Charged-off`: Applicant has not paid the instalments in due time for a long period of time, i.e. he/she has defaulted on the loan\n",
    "> 2. `Loan rejected`: The company had rejected the loan (because the candidate does not meet their requirements etc.). Since the loan was rejected, there is no transactional history of those applicants with the company and so this data is not available with the company (and thus in this dataset)\n",
    "\n",
    "# <span style=\"color:#ff5f27;\"> 🎯 Business Objectives</span>\n",
    "\n",
    "> - `LendingClub` is the largest online loan marketplace, facilitating personal loans, business loans, and financing of medical procedures. Borrowers can easily access lower interest rate loans through a fast online interface. \n",
    "> - Like most other lending companies, lending loans to ‘`risky`’ applicants is the largest source of financial loss (called `credit loss`). The credit loss is the amount of money lost by the lender when the borrower refuses to pay or runs away with the money owed. In other words, borrowers who defaultcause the largest amount of loss to the lenders. In this case, the customers labelled as '`charged-off`' are the '`defaulters`'. \n",
    "> - If one is able to identify these risky loan applicants, then such loans can be reduced thereby cutting down the amount of credit loss. Identification of such applicants using EDA and machine learning is the aim of this case study. \n",
    "> - In other words, the company wants to understand the driving factors (or driver variables) behind loan default, i.e. the variables which are strong indicators of default. The company can utilise this knowledge for its portfolio and risk assessment. \n",
    "> - To develop your understanding of the domain, you are advised to independently research a little about risk analytics (understanding the types of variables and their significance should be enough).\n",
    "\n",
    "# <span style=\"color:#ff5f27;\"> 💾 Data Description</span>\n",
    "----\n",
    "-----\n",
    "Here is the information on this particular data set:\n",
    "\n",
    "<table border=\"1\" class=\"dataframe\">\n",
    "  <thead>\n",
    "    <tr style=\"text-align: right;\">\n",
    "      <th></th>\n",
    "      <th>LoanStatNew</th>\n",
    "      <th>Description</th>\n",
    "    </tr>\n",
    "  </thead>\n",
    "  <tbody>\n",
    "    <tr>\n",
    "      <th>0</th>\n",
    "      <td>loan_amnt</td>\n",
    "      <td>The listed amount of the loan applied for by the borrower. If at some point in time, the credit department reduces the loan amount, then it will be reflected in this value.</td>\n",
    "    </tr>\n",
    "    <tr>\n",
    "      <th>1</th>\n",
    "      <td>term</td>\n",
    "      <td>The number of payments on the loan. Values are in months and can be either 36 or 60.</td>\n",
    "    </tr>\n",
    "    <tr>\n",
    "      <th>2</th>\n",
    "      <td>int_rate</td>\n",
    "      <td>Interest Rate on the loan</td>\n",
    "    </tr>\n",
    "    <tr>\n",
    "      <th>3</th>\n",
    "      <td>installment</td>\n",
    "      <td>The monthly payment owed by the borrower if the loan originates.</td>\n",
    "    </tr>\n",
    "    <tr>\n",
    "      <th>4</th>\n",
    "      <td>grade</td>\n",
    "      <td>LC assigned loan grade</td>\n",
    "    </tr>\n",
    "    <tr>\n",
    "      <th>5</th>\n",
    "      <td>sub_grade</td>\n",
    "      <td>LC assigned loan subgrade</td>\n",
    "    </tr>\n",
    "    <tr>\n",
    "      <th>6</th>\n",
    "      <td>emp_title</td>\n",
    "      <td>The job title supplied by the Borrower when applying for the loan.*</td>\n",
    "    </tr>\n",
    "    <tr>\n",
    "      <th>7</th>\n",
    "      <td>emp_length</td>\n",
    "      <td>Employment length in years. Possible values are between 0 and 10 where 0 means less than one year and 10 means ten or more years.</td>\n",
    "    </tr>\n",
    "    <tr>\n",
    "      <th>8</th>\n",
    "      <td>home_ownership</td>\n",
    "      <td>The home ownership status provided by the borrower during registration or obtained from the credit report. Our values are: RENT, OWN, MORTGAGE, OTHER</td>\n",
    "    </tr>\n",
    "    <tr>\n",
    "      <th>9</th>\n",
    "      <td>annual_inc</td>\n",
    "      <td>The self-reported annual income provided by the borrower during registration.</td>\n",
    "    </tr>\n",
    "    <tr>\n",
    "      <th>10</th>\n",
    "      <td>verification_status</td>\n",
    "      <td>Indicates if income was verified by LC, not verified, or if the income source was verified</td>\n",
    "    </tr>\n",
    "    <tr>\n",
    "      <th>11</th>\n",
    "      <td>issue_d</td>\n",
    "      <td>The month which the loan was funded</td>\n",
    "    </tr>\n",
    "    <tr>\n",
    "      <th>12</th>\n",
    "      <td>loan_status</td>\n",
    "      <td>Current status of the loan</td>\n",
    "    </tr>\n",
    "    <tr>\n",
    "      <th>13</th>\n",
    "      <td>purpose</td>\n",
    "      <td>A category provided by the borrower for the loan request.</td>\n",
    "    </tr>\n",
    "    <tr>\n",
    "      <th>14</th>\n",
    "      <td>title</td>\n",
    "      <td>The loan title provided by the borrower</td>\n",
    "    </tr>\n",
    "    <tr>\n",
    "      <th>15</th>\n",
    "      <td>zip_code</td>\n",
    "      <td>The first 3 numbers of the zip code provided by the borrower in the loan application.</td>\n",
    "    </tr>\n",
    "    <tr>\n",
    "      <th>16</th>\n",
    "      <td>addr_state</td>\n",
    "      <td>The state provided by the borrower in the loan application</td>\n",
    "    </tr>\n",
    "    <tr>\n",
    "      <th>17</th>\n",
    "      <td>dti</td>\n",
    "      <td>A ratio calculated using the borrower’s total monthly debt payments on the total debt obligations, excluding mortgage and the requested LC loan, divided by the borrower’s self-reported monthly income.</td>\n",
    "    </tr>\n",
    "    <tr>\n",
    "      <th>18</th>\n",
    "      <td>earliest_cr_line</td>\n",
    "      <td>The month the borrower's earliest reported credit line was opened</td>\n",
    "    </tr>\n",
    "    <tr>\n",
    "      <th>19</th>\n",
    "      <td>open_acc</td>\n",
    "      <td>The number of open credit lines in the borrower's credit file.</td>\n",
    "    </tr>\n",
    "    <tr>\n",
    "      <th>20</th>\n",
    "      <td>pub_rec</td>\n",
    "      <td>Number of derogatory public records</td>\n",
    "    </tr>\n",
    "    <tr>\n",
    "      <th>21</th>\n",
    "      <td>revol_bal</td>\n",
    "      <td>Total credit revolving balance</td>\n",
    "    </tr>\n",
    "    <tr>\n",
    "      <th>22</th>\n",
    "      <td>revol_util</td>\n",
    "      <td>Revolving line utilization rate, or the amount of credit the borrower is using relative to all available revolving credit.</td>\n",
    "    </tr>\n",
    "    <tr>\n",
    "      <th>23</th>\n",
    "      <td>total_acc</td>\n",
    "      <td>The total number of credit lines currently in the borrower's credit file</td>\n",
    "    </tr>\n",
    "    <tr>\n",
    "      <th>24</th>\n",
    "      <td>initial_list_status</td>\n",
    "      <td>The initial listing status of the loan. Possible values are – W, F</td>\n",
    "    </tr>\n",
    "    <tr>\n",
    "      <th>25</th>\n",
    "      <td>application_type</td>\n",
    "      <td>Indicates whether the loan is an individual application or a joint application with two co-borrowers</td>\n",
    "    </tr>\n",
    "    <tr>\n",
    "      <th>26</th>\n",
    "      <td>mort_acc</td>\n",
    "      <td>Number of mortgage accounts.</td>\n",
    "    </tr>\n",
    "    <tr>\n",
    "      <th>27</th>\n",
    "      <td>pub_rec_bankruptcies</td>\n",
    "      <td>Number of public record bankruptcies</td>\n",
    "    </tr>\n",
    "  </tbody>\n",
    "</table>\n",
    "\n",
    "---\n",
    "----"
   ]
  },
  {
   "cell_type": "code",
   "execution_count": null,
   "id": "25ee1df2",
   "metadata": {
    "_kg_hide-input": true,
    "_kg_hide-output": true,
    "papermill": {
     "duration": 12.072611,
     "end_time": "2023-01-31T14:11:35.109296",
     "exception": false,
     "start_time": "2023-01-31T14:11:23.036685",
     "status": "completed"
    },
    "tags": []
   },
   "outputs": [],
   "source": [
    "!pip install -q hvplot"
   ]
  },
  {
   "cell_type": "code",
   "execution_count": null,
   "id": "9cb24c87",
   "metadata": {
    "_kg_hide-input": true,
    "papermill": {
     "duration": 9.198485,
     "end_time": "2023-01-31T14:11:44.334641",
     "exception": false,
     "start_time": "2023-01-31T14:11:35.136156",
     "status": "completed"
    },
    "tags": []
   },
   "outputs": [],
   "source": [
    "import pandas as pd\n",
    "import numpy as np\n",
    "import seaborn as sns\n",
    "from scipy import stats \n",
    "import matplotlib.pyplot as plt\n",
    "import hvplot.pandas\n",
    "\n",
    "pd.set_option('display.float', '{:.2f}'.format)\n",
    "pd.set_option('display.max_columns', 50)\n",
    "pd.set_option('display.max_rows', 50)"
   ]
  },
  {
   "cell_type": "code",
   "execution_count": null,
   "id": "4d5f32c9",
   "metadata": {},
   "outputs": [],
   "source": [
    "loans_df = pd.read_parquet(\"https://repo.hops.works/dev/jdowling/loans.parquet\")\n",
    "loans_df.head()"
   ]
  },
  {
   "cell_type": "code",
   "execution_count": null,
   "id": "96bb1be3",
   "metadata": {},
   "outputs": [],
   "source": [
    "loans_df.info()"
   ]
  },
  {
   "cell_type": "code",
   "execution_count": null,
   "id": "1d54abe0",
   "metadata": {},
   "outputs": [],
   "source": [
    "loans_df.describe()"
   ]
  },
  {
   "cell_type": "code",
   "execution_count": null,
   "id": "d09cf95d",
   "metadata": {},
   "outputs": [],
   "source": [
    "applicants_df = pd.read_parquet(\"https://repo.hops.works/dev/jdowling/applicants.parquet\")\n",
    "applicants_df.head()"
   ]
  },
  {
   "cell_type": "code",
   "execution_count": null,
   "id": "3393d14d",
   "metadata": {},
   "outputs": [],
   "source": [
    "applicants_df.info()"
   ]
  },
  {
   "cell_type": "code",
   "execution_count": null,
   "id": "d0def3d9",
   "metadata": {
    "papermill": {
     "duration": 0.360858,
     "end_time": "2023-01-31T14:11:48.431029",
     "exception": false,
     "start_time": "2023-01-31T14:11:48.070171",
     "status": "completed"
    },
    "tags": []
   },
   "outputs": [],
   "source": [
    "applicants_df.describe()"
   ]
  },
  {
   "cell_type": "markdown",
   "id": "e9e603b3",
   "metadata": {
    "papermill": {
     "duration": 0.140599,
     "end_time": "2023-01-31T14:11:48.703332",
     "exception": false,
     "start_time": "2023-01-31T14:11:48.562733",
     "status": "completed"
    },
    "tags": []
   },
   "source": [
    "# <span style=\"color:#ff5f27;\">🔍 Exploratory Data Analysis</span>\n",
    "\n",
    "> **OVERALL GOAL:** \n",
    "> - Get an understanding for which variables are important, view summary statistics, and visualize the data"
   ]
  },
  {
   "cell_type": "markdown",
   "id": "2e9ebeb7",
   "metadata": {
    "papermill": {
     "duration": 0.135238,
     "end_time": "2023-01-31T14:11:49.447608",
     "exception": false,
     "start_time": "2023-01-31T14:11:49.312370",
     "status": "completed"
    },
    "tags": []
   },
   "source": [
    "## ✔️ `loan_status`\n",
    "\n",
    "> Current status of the loan"
   ]
  },
  {
   "cell_type": "code",
   "execution_count": null,
   "id": "d0b744fe",
   "metadata": {
    "_kg_hide-input": true,
    "papermill": {
     "duration": 0.288595,
     "end_time": "2023-01-31T14:11:49.878903",
     "exception": false,
     "start_time": "2023-01-31T14:11:49.590308",
     "status": "completed"
    },
    "tags": []
   },
   "outputs": [],
   "source": [
    "loans_df['loan_status'].value_counts().hvplot.bar(\n",
    "    title=\"Loan Status Counts\", xlabel='Loan Status', ylabel='Count', \n",
    "    width=500, height=350\n",
    ")"
   ]
  },
  {
   "cell_type": "code",
   "execution_count": null,
   "id": "fc93cc0a",
   "metadata": {
    "papermill": {
     "duration": 1.475483,
     "end_time": "2023-01-31T14:11:51.485527",
     "exception": false,
     "start_time": "2023-01-31T14:11:50.010044",
     "status": "completed"
    },
    "tags": []
   },
   "outputs": [],
   "source": [
    "plt.figure(figsize=(12, 8))\n",
    "\n",
    "# Identify and exclude non-numeric columns\n",
    "numeric_columns = loans_df.select_dtypes(include=[np.number]).columns\n",
    "\n",
    "sns.heatmap(loans_df[numeric_columns].corr(), annot=True, cmap='viridis')"
   ]
  },
  {
   "cell_type": "markdown",
   "id": "e04df9c3",
   "metadata": {
    "papermill": {
     "duration": 0.147518,
     "end_time": "2023-01-31T14:11:51.835917",
     "exception": false,
     "start_time": "2023-01-31T14:11:51.688399",
     "status": "completed"
    },
    "tags": []
   },
   "source": [
    "### 📌 Notice\n",
    "> We noticed almost perfect correlation between \"`loan_amnt`\" the \"`installment`\" feature. We'll explore this features further. Print out their descriptions and perform a scatterplot between them. \n",
    "\n",
    "> - Does this relationship make sense to you? \n",
    "> - Do we think there is duplicate information here?"
   ]
  },
  {
   "cell_type": "markdown",
   "id": "66c1f5ad",
   "metadata": {
    "papermill": {
     "duration": 0.138022,
     "end_time": "2023-01-31T14:11:52.108649",
     "exception": false,
     "start_time": "2023-01-31T14:11:51.970627",
     "status": "completed"
    },
    "tags": []
   },
   "source": [
    "## ✔️ `loan_amnt` & `installment`\n",
    "\n",
    "> - `installment`: The monthly payment owed by the borrower if the loan originates.\n",
    "> - `loan_amnt`: The listed amount of the loan applied for by the borrower. If at some point in time, the credit department reduces the loan amount, then it will be reflected in this value."
   ]
  },
  {
   "cell_type": "code",
   "execution_count": null,
   "id": "f91dc121",
   "metadata": {
    "_kg_hide-input": true,
    "papermill": {
     "duration": 2.35527,
     "end_time": "2023-01-31T14:11:54.599563",
     "exception": false,
     "start_time": "2023-01-31T14:11:52.244293",
     "status": "completed"
    },
    "tags": []
   },
   "outputs": [],
   "source": [
    "installment = loans_df.hvplot.hist(\n",
    "    y='installment', by='loan_status', subplots=False, \n",
    "    width=350, height=400, bins=50, alpha=0.4, \n",
    "    title=\"Installment by Loan Status\", \n",
    "    xlabel='Installment', ylabel='Counts', legend='top'\n",
    ")\n",
    "\n",
    "loan_amnt = loans_df.hvplot.hist(\n",
    "    y='loan_amnt', by='loan_status', subplots=False, \n",
    "    width=350, height=400, bins=30, alpha=0.4, \n",
    "    title=\"Loan Amount by Loan Status\", \n",
    "    xlabel='Loan Amount', ylabel='Counts', legend='top'\n",
    ")\n",
    "\n",
    "installment + loan_amnt"
   ]
  },
  {
   "cell_type": "code",
   "execution_count": null,
   "id": "040fad6d",
   "metadata": {
    "_kg_hide-input": true,
    "papermill": {
     "duration": 4.577688,
     "end_time": "2023-01-31T14:11:59.314551",
     "exception": false,
     "start_time": "2023-01-31T14:11:54.736863",
     "status": "completed"
    },
    "tags": []
   },
   "outputs": [],
   "source": [
    "loan_amnt_box = loans_df.hvplot.box(\n",
    "    y='loan_amnt', subplots=True, by='loan_status', width=300, height=350, \n",
    "    title=\"Loan Status by Loan Amount \", xlabel='Loan Status', ylabel='Loan Amount'\n",
    ")\n",
    "\n",
    "installment_box = loans_df.hvplot.box(\n",
    "    y='installment', subplots=True, by='loan_status', width=300, height=350, \n",
    "    title=\"Loan Status by Installment\", xlabel='Loan Status', ylabel='Installment'\n",
    ")\n",
    "\n",
    "# loan_amnt_box + installment_box"
   ]
  },
  {
   "cell_type": "code",
   "execution_count": null,
   "id": "53c70ace",
   "metadata": {
    "papermill": {
     "duration": 0.229165,
     "end_time": "2023-01-31T14:11:59.687448",
     "exception": false,
     "start_time": "2023-01-31T14:11:59.458283",
     "status": "completed"
    },
    "tags": []
   },
   "outputs": [],
   "source": [
    "loans_df.groupby(by='loan_status')['loan_amnt'].describe()"
   ]
  },
  {
   "cell_type": "markdown",
   "id": "13949e36",
   "metadata": {
    "papermill": {
     "duration": 0.144209,
     "end_time": "2023-01-31T14:11:59.980238",
     "exception": false,
     "start_time": "2023-01-31T14:11:59.836029",
     "status": "completed"
    },
    "tags": []
   },
   "source": [
    "## ✔️ `grade` & `sub_grade`\n",
    "\n",
    "> - `grade`: LC assigned loan grade\n",
    "> - `sub_grade`: LC assigned loan subgrade\n",
    "\n",
    "Let's explore the Grade and SubGrade columns that LendingClub attributes to the loans. \n",
    "\n",
    "What are the unique possible `grade` & `sub_grade`?"
   ]
  },
  {
   "cell_type": "code",
   "execution_count": null,
   "id": "70aa69ed",
   "metadata": {
    "papermill": {
     "duration": 0.198063,
     "end_time": "2023-01-31T14:12:00.323272",
     "exception": false,
     "start_time": "2023-01-31T14:12:00.125209",
     "status": "completed"
    },
    "tags": []
   },
   "outputs": [],
   "source": [
    "print(f\"GRADE unique: {loans_df.grade.unique()}\")\n",
    "print(f\"SUB_GRADE unique: {loans_df.sub_grade.unique()}\")"
   ]
  },
  {
   "cell_type": "code",
   "execution_count": null,
   "id": "ae92e2ea",
   "metadata": {
    "_kg_hide-input": true,
    "papermill": {
     "duration": 0.418881,
     "end_time": "2023-01-31T14:12:01.184591",
     "exception": false,
     "start_time": "2023-01-31T14:12:00.765710",
     "status": "completed"
    },
    "tags": []
   },
   "outputs": [],
   "source": [
    "fully_paid = loans_df.loc[loans_df['loan_status']=='Fully Paid', 'grade'].value_counts().hvplot.bar() \n",
    "charged_off = loans_df.loc[loans_df['loan_status']=='Charged Off', 'grade'].value_counts().hvplot.bar() \n",
    "\n",
    "(fully_paid * charged_off).opts(\n",
    "    title=\"Loan Status by Grade\", xlabel='Grades', ylabel='Count',\n",
    "    width=500, height=450, legend_cols=2, legend_position='top_right', xrotation=90\n",
    ")"
   ]
  },
  {
   "cell_type": "code",
   "execution_count": null,
   "id": "e214d20d",
   "metadata": {
    "_kg_hide-input": true,
    "papermill": {
     "duration": 0.423688,
     "end_time": "2023-01-31T14:12:01.750966",
     "exception": false,
     "start_time": "2023-01-31T14:12:01.327278",
     "status": "completed"
    },
    "tags": []
   },
   "outputs": [],
   "source": [
    "fully_paid = loans_df.loc[loans_df['loan_status']=='Fully Paid', 'sub_grade'].value_counts().hvplot.bar() \n",
    "charged_off = loans_df.loc[loans_df['loan_status']=='Charged Off', 'sub_grade'].value_counts().hvplot.bar() \n",
    "\n",
    "(fully_paid * charged_off).opts(\n",
    "    title=\"Loan Status by Grade\", xlabel='Grades', ylabel='Count',\n",
    "    width=500, height=400, legend_cols=2, legend_position='top_right', xrotation=90\n",
    ")"
   ]
  },
  {
   "cell_type": "code",
   "execution_count": null,
   "id": "40e6d01b",
   "metadata": {
    "papermill": {
     "duration": 0.151329,
     "end_time": "2023-01-31T14:12:02.048171",
     "exception": false,
     "start_time": "2023-01-31T14:12:01.896842",
     "status": "completed"
    },
    "tags": []
   },
   "outputs": [],
   "source": [
    "# data.hvplot.bar()"
   ]
  },
  {
   "cell_type": "code",
   "execution_count": null,
   "id": "cf8013d3",
   "metadata": {
    "papermill": {
     "duration": 1.431306,
     "end_time": "2023-01-31T14:12:03.624333",
     "exception": false,
     "start_time": "2023-01-31T14:12:02.193027",
     "status": "completed"
    },
    "tags": []
   },
   "outputs": [],
   "source": [
    "plt.figure(figsize=(15, 10))\n",
    "\n",
    "plt.subplot(2, 2, 1)\n",
    "grade = sorted(loans_df.grade.unique().tolist())\n",
    "sns.countplot(x='grade', data=loans_df, hue='loan_status', order=grade)\n",
    "\n",
    "plt.subplot(2, 2, 2)\n",
    "sub_grade = sorted(loans_df.sub_grade.unique().tolist())\n",
    "g = sns.countplot(x='sub_grade', data=loans_df, hue='loan_status', order=sub_grade)\n",
    "g.set_xticklabels(g.get_xticklabels(), rotation=90);"
   ]
  },
  {
   "cell_type": "markdown",
   "id": "a994c26f",
   "metadata": {
    "papermill": {
     "duration": 0.145603,
     "end_time": "2023-01-31T14:12:03.917629",
     "exception": false,
     "start_time": "2023-01-31T14:12:03.772026",
     "status": "completed"
    },
    "tags": []
   },
   "source": [
    "It looks like `F` and `G` subgrades don't get paid back that often. Isloate those and recreate the countplot just for those subgrades."
   ]
  },
  {
   "cell_type": "code",
   "execution_count": null,
   "id": "b6b0236c",
   "metadata": {
    "papermill": {
     "duration": 0.614298,
     "end_time": "2023-01-31T14:12:04.677979",
     "exception": false,
     "start_time": "2023-01-31T14:12:04.063681",
     "status": "completed"
    },
    "tags": []
   },
   "outputs": [],
   "source": [
    "df = loans_df[(loans_df.grade == 'F') | (loans_df.grade == 'G')]\n",
    "\n",
    "plt.figure(figsize=(15, 10))\n",
    "\n",
    "plt.subplot(2, 2, 1)\n",
    "grade = sorted(df.grade.unique().tolist())\n",
    "sns.countplot(x='grade', data=df, hue='loan_status', order=grade)\n",
    "\n",
    "plt.subplot(2, 2, 2)\n",
    "sub_grade = sorted(df.sub_grade.unique().tolist())\n",
    "sns.countplot(x='sub_grade', data=df, hue='loan_status', order=sub_grade)"
   ]
  },
  {
   "cell_type": "markdown",
   "id": "9c3ae19c",
   "metadata": {
    "papermill": {
     "duration": 0.153173,
     "end_time": "2023-01-31T14:12:04.977517",
     "exception": false,
     "start_time": "2023-01-31T14:12:04.824344",
     "status": "completed"
    },
    "tags": []
   },
   "source": [
    "## ✔️ `term`, `home_ownership`, `verification_status` & `purpose`\n",
    "\n",
    "> - `term`: The number of payments on the loan. Values are in months and can be either 36 or 60.\n",
    "> - `home_ownership`: The home ownership status provided by the borrower during registration or obtained from the credit report. Our values are: RENT, OWN, MORTGAGE, OTHER\n",
    "> - `verification_status`: Indicates if income was verified by LC, not verified, or if the income source was verified\n",
    "> - `purpose`: A category provided by the borrower for the loan request."
   ]
  },
  {
   "cell_type": "code",
   "execution_count": null,
   "id": "77eef4d3",
   "metadata": {
    "papermill": {
     "duration": 0.191205,
     "end_time": "2023-01-31T14:12:05.325324",
     "exception": false,
     "start_time": "2023-01-31T14:12:05.134119",
     "status": "completed"
    },
    "tags": []
   },
   "outputs": [],
   "source": [
    "applicants_df['home_ownership'].value_counts()"
   ]
  },
  {
   "cell_type": "code",
   "execution_count": null,
   "id": "fdef8762",
   "metadata": {
    "_kg_hide-input": true,
    "papermill": {
     "duration": 0.565012,
     "end_time": "2023-01-31T14:12:06.038922",
     "exception": false,
     "start_time": "2023-01-31T14:12:05.473910",
     "status": "completed"
    },
    "tags": []
   },
   "outputs": [],
   "source": [
    "# fully_paid = data.loc[data['loan_status']=='Fully Paid', 'home_ownership'].value_counts().hvplot.bar() \n",
    "# charged_off = data.loc[data['loan_status']=='Charged Off', 'home_ownership'].value_counts().hvplot.bar()\n",
    "\n",
    "# home_ownership_count = (fully_paid * charged_off).opts(\n",
    "#     title=\"Loan Status by Grade\", xlabel='Home Ownership', ylabel='Count',\n",
    "#     width=350, height=350, legend_cols=2, legend_position='top_right'\n",
    "# ).opts(xrotation=90)\n",
    "\n",
    "# home_ownership = data.home_ownership.value_counts().hvplot.bar(\n",
    "#     title=\"Loan Status by Grade\", xlabel='Home Ownership', ylabel='Count', \n",
    "#     width=350, height=350, legend='top'\n",
    "# ).opts(xrotation=90)\n",
    "\n",
    "# (home_ownership_count + home_ownership)"
   ]
  },
  {
   "cell_type": "code",
   "execution_count": null,
   "id": "74bf2b1e",
   "metadata": {
    "papermill": {
     "duration": 0.240425,
     "end_time": "2023-01-31T14:12:06.426982",
     "exception": false,
     "start_time": "2023-01-31T14:12:06.186557",
     "status": "completed"
    },
    "tags": []
   },
   "outputs": [],
   "source": [
    "applicants_df.loc[(applicants_df.home_ownership == 'ANY') | \n",
    "                  (applicants_df.home_ownership == 'NONE'), 'home_ownership'] = 'OTHER'  \n",
    "applicants_df.home_ownership.value_counts()"
   ]
  },
  {
   "cell_type": "code",
   "execution_count": null,
   "id": "b2ed0e02",
   "metadata": {
    "papermill": {
     "duration": 0.177802,
     "end_time": "2023-01-31T14:12:09.322848",
     "exception": false,
     "start_time": "2023-01-31T14:12:09.145046",
     "status": "completed"
    },
    "tags": []
   },
   "outputs": [],
   "source": [
    "# applicants_df.loc[applicants_df['home_ownership']=='OTHER', 'loan_status'].value_counts()\n",
    "\n",
    "joined_df = loans_df.merge(applicants_df, on=\"id\")\n",
    "joined_df"
   ]
  },
  {
   "cell_type": "code",
   "execution_count": null,
   "id": "fca3149d",
   "metadata": {
    "papermill": {
     "duration": 2.402818,
     "end_time": "2023-01-31T14:12:08.976597",
     "exception": false,
     "start_time": "2023-01-31T14:12:06.573779",
     "status": "completed"
    },
    "tags": []
   },
   "outputs": [],
   "source": [
    "plt.figure(figsize=(15, 20))\n",
    "\n",
    "plt.subplot(4, 2, 1)\n",
    "sns.countplot(x='term', data=joined_df, hue='loan_status')\n",
    "\n",
    "plt.subplot(4, 2, 2)\n",
    "sns.countplot(x='home_ownership', data=joined_df, hue='loan_status')\n",
    "\n",
    "plt.subplot(4, 2, 3)\n",
    "sns.countplot(x='verification_status', data=joined_df, hue='loan_status')\n",
    "\n",
    "plt.subplot(4, 2, 4)\n",
    "g = sns.countplot(x='purpose', data=joined_df, hue='loan_status')\n",
    "g.set_xticklabels(g.get_xticklabels(), rotation=90);"
   ]
  },
  {
   "cell_type": "markdown",
   "id": "1d6efe79",
   "metadata": {
    "papermill": {
     "duration": 0.144866,
     "end_time": "2023-01-31T14:12:09.612674",
     "exception": false,
     "start_time": "2023-01-31T14:12:09.467808",
     "status": "completed"
    },
    "tags": []
   },
   "source": [
    "## ✔️ `int_rate` & `annual_inc`\n",
    "\n",
    "> - `int_rate`: Interest Rate on the loan\n",
    "> - `annual_inc`: The self-reported annual income provided by the borrower during registration"
   ]
  },
  {
   "cell_type": "code",
   "execution_count": null,
   "id": "731b9dfc",
   "metadata": {
    "_kg_hide-input": true,
    "papermill": {
     "duration": 1.099592,
     "end_time": "2023-01-31T14:12:10.859758",
     "exception": false,
     "start_time": "2023-01-31T14:12:09.760166",
     "status": "completed"
    },
    "tags": []
   },
   "outputs": [],
   "source": [
    "int_rate = joined_df.hvplot.hist(\n",
    "    y='int_rate', by='loan_status', alpha=0.3, width=350, height=400,\n",
    "    title=\"Loan Status by Interest Rate\", xlabel='Interest Rate', ylabel='Loans Counts', \n",
    "    legend='top'\n",
    ")\n",
    "\n",
    "annual_inc = joined_df.hvplot.hist(\n",
    "    y='annual_inc', by='loan_status', bins=50, alpha=0.3, width=350, height=400,\n",
    "    title=\"Loan Status by Annual Income\", xlabel='Annual Income', ylabel='Loans Counts', \n",
    "    legend='top'\n",
    ").opts(xrotation=45)\n",
    "\n",
    "int_rate + annual_inc"
   ]
  },
  {
   "cell_type": "code",
   "execution_count": null,
   "id": "7f7a85b1",
   "metadata": {
    "_kg_hide-input": true,
    "papermill": {
     "duration": 0.724907,
     "end_time": "2023-01-31T14:12:11.731917",
     "exception": false,
     "start_time": "2023-01-31T14:12:11.007010",
     "status": "completed"
    },
    "tags": []
   },
   "outputs": [],
   "source": [
    "joined_df[joined_df.annual_inc <= 250000].hvplot.hist(\n",
    "    y='annual_inc', by='loan_status', bins=50, alpha=0.3, width=500, height=400,\n",
    "    title=\"Loan Status by Annual Income (<= 250000/Year)\", \n",
    "    xlabel='Annual Income', ylabel='Loans Counts', legend='top'\n",
    ").opts(xrotation=45)"
   ]
  },
  {
   "cell_type": "code",
   "execution_count": null,
   "id": "d4725db8",
   "metadata": {
    "papermill": {
     "duration": 0.16509,
     "end_time": "2023-01-31T14:12:12.044742",
     "exception": false,
     "start_time": "2023-01-31T14:12:11.879652",
     "status": "completed"
    },
    "tags": []
   },
   "outputs": [],
   "source": [
    "print((applicants_df[applicants_df.annual_inc >= 250000].shape[0] / applicants_df.shape[0]) * 100)\n",
    "print((applicants_df[applicants_df.annual_inc >= 1000000].shape[0] / applicants_df.shape[0]) * 100)"
   ]
  },
  {
   "cell_type": "code",
   "execution_count": null,
   "id": "0f84f5f9",
   "metadata": {
    "papermill": {
     "duration": 0.159654,
     "end_time": "2023-01-31T14:12:12.350236",
     "exception": false,
     "start_time": "2023-01-31T14:12:12.190582",
     "status": "completed"
    },
    "tags": []
   },
   "outputs": [],
   "source": [
    "joined_df.loc[joined_df.annual_inc >= 1000000, 'loan_status'].value_counts()"
   ]
  },
  {
   "cell_type": "code",
   "execution_count": null,
   "id": "4f59ead9",
   "metadata": {
    "papermill": {
     "duration": 0.16214,
     "end_time": "2023-01-31T14:12:12.684818",
     "exception": false,
     "start_time": "2023-01-31T14:12:12.522678",
     "status": "completed"
    },
    "tags": []
   },
   "outputs": [],
   "source": [
    "joined_df.loc[joined_df.annual_inc >= 250000, 'loan_status'].value_counts()"
   ]
  },
  {
   "cell_type": "markdown",
   "id": "f2e73e07",
   "metadata": {
    "papermill": {
     "duration": 0.145044,
     "end_time": "2023-01-31T14:12:12.976600",
     "exception": false,
     "start_time": "2023-01-31T14:12:12.831556",
     "status": "completed"
    },
    "tags": []
   },
   "source": [
    "- It seems that loans with high intersest rate are more likely to be unpaid.\n",
    "- Only 75 (less then) borrowers have an annual income more than 1 million, and 4077"
   ]
  },
  {
   "cell_type": "markdown",
   "id": "f5fd6cce",
   "metadata": {
    "papermill": {
     "duration": 0.147472,
     "end_time": "2023-01-31T14:12:13.271054",
     "exception": false,
     "start_time": "2023-01-31T14:12:13.123582",
     "status": "completed"
    },
    "tags": []
   },
   "source": [
    "## ✔️ `emp_title` & `emp_length`\n",
    "\n",
    "> - `emp_title`: The job title supplied by the Borrower when applying for the loan.\n",
    "> - `emp_length`: Employment length in years. Possible values are between 0 and 10 where 0 means less than one year and 10 means ten or more years."
   ]
  },
  {
   "cell_type": "code",
   "execution_count": null,
   "id": "75d137a5",
   "metadata": {
    "papermill": {
     "duration": 0.257848,
     "end_time": "2023-01-31T14:12:13.681808",
     "exception": false,
     "start_time": "2023-01-31T14:12:13.423960",
     "status": "completed"
    },
    "tags": []
   },
   "outputs": [],
   "source": [
    "print(applicants_df.emp_title.isna().sum())\n",
    "print(applicants_df.emp_title.nunique())"
   ]
  },
  {
   "cell_type": "code",
   "execution_count": null,
   "id": "8047d205",
   "metadata": {
    "papermill": {
     "duration": 0.272453,
     "end_time": "2023-01-31T14:12:14.100367",
     "exception": false,
     "start_time": "2023-01-31T14:12:13.827914",
     "status": "completed"
    },
    "tags": []
   },
   "outputs": [],
   "source": [
    "applicants_df['emp_title'].value_counts()[:20]"
   ]
  },
  {
   "cell_type": "code",
   "execution_count": null,
   "id": "5c9ef851",
   "metadata": {
    "papermill": {
     "duration": 1.320229,
     "end_time": "2023-01-31T14:12:15.566648",
     "exception": false,
     "start_time": "2023-01-31T14:12:14.246419",
     "status": "completed"
    },
    "tags": []
   },
   "outputs": [],
   "source": [
    "plt.figure(figsize=(15, 12))\n",
    "\n",
    "plt.subplot(2, 2, 1)\n",
    "order = ['< 1 year', '1 year', '2 years', '3 years', '4 years', '5 years', \n",
    "          '6 years', '7 years', '8 years', '9 years', '10+ years',]\n",
    "g = sns.countplot(x='emp_length', data=joined_df, hue='loan_status', order=order)\n",
    "g.set_xticklabels(g.get_xticklabels(), rotation=90);\n",
    "\n",
    "plt.subplot(2, 2, 2)\n",
    "plt.barh(applicants_df.emp_title.value_counts()[:30].index, joined_df.emp_title.value_counts()[:30])\n",
    "plt.title(\"The most 30 jobs title afforded a loan\")\n",
    "plt.tight_layout()"
   ]
  },
  {
   "cell_type": "markdown",
   "id": "e752e279",
   "metadata": {
    "papermill": {
     "duration": 0.156033,
     "end_time": "2023-01-31T14:12:15.870931",
     "exception": false,
     "start_time": "2023-01-31T14:12:15.714898",
     "status": "completed"
    },
    "tags": []
   },
   "source": [
    "## ✔️ `issue_d`, `earliest_cr_line`\n",
    "\n",
    "> - `issue_d`: The month which the loan was funded\n",
    "> - `earliest_cr_line`: The month the borrower's earliest reported credit line was opened"
   ]
  },
  {
   "cell_type": "code",
   "execution_count": null,
   "id": "2919e5bb",
   "metadata": {
    "papermill": {
     "duration": 0.16354,
     "end_time": "2023-01-31T14:12:16.188233",
     "exception": false,
     "start_time": "2023-01-31T14:12:16.024693",
     "status": "completed"
    },
    "tags": []
   },
   "outputs": [],
   "source": [
    "# data.hvplot.line(x='issue_d', y='loan_status')"
   ]
  },
  {
   "cell_type": "code",
   "execution_count": null,
   "id": "3c091a4f",
   "metadata": {
    "papermill": {
     "duration": 0.178713,
     "end_time": "2023-01-31T14:12:16.521106",
     "exception": false,
     "start_time": "2023-01-31T14:12:16.342393",
     "status": "completed"
    },
    "tags": []
   },
   "outputs": [],
   "source": [
    "applicants_df['earliest_cr_line'].value_counts()"
   ]
  },
  {
   "cell_type": "code",
   "execution_count": null,
   "id": "095cd7fe",
   "metadata": {
    "papermill": {
     "duration": 0.429455,
     "end_time": "2023-01-31T14:12:17.098362",
     "exception": false,
     "start_time": "2023-01-31T14:12:16.668907",
     "status": "completed"
    },
    "tags": []
   },
   "outputs": [],
   "source": [
    "loans_df['issue_d'] = pd.to_datetime(loans_df['issue_d'])\n",
    "applicants_df['earliest_cr_line'] = pd.to_datetime(applicants_df['earliest_cr_line'])"
   ]
  },
  {
   "cell_type": "code",
   "execution_count": null,
   "id": "f8fb03b4",
   "metadata": {
    "_kg_hide-input": true,
    "papermill": {
     "duration": 0.695868,
     "end_time": "2023-01-31T14:12:17.941389",
     "exception": false,
     "start_time": "2023-01-31T14:12:17.245521",
     "status": "completed"
    },
    "tags": []
   },
   "outputs": [],
   "source": [
    "# fully_paid = joined_df.loc[joined_df['loan_status']=='Fully Paid', 'issue_d'].hvplot.hist(bins=35) \n",
    "# charged_off = joined_df.loc[joined_df['loan_status']=='Charged Off', 'issue_d'].hvplot.hist(bins=35)\n",
    "\n",
    "# # fully_paid * charged_off\n",
    "# loan_issue_date = (fully_paid * charged_off).opts(\n",
    "#     title=\"Loan Status by Loan Issue Date\", xlabel='Loan Issue Date', ylabel='Count',\n",
    "#     width=350, height=350, legend_cols=2, legend_position='top_right'\n",
    "# ).opts(xrotation=45)\n",
    "\n",
    "# fully_paid = loans_df.loc[loans_df['loan_status']=='Fully Paid', 'earliest_cr_line'].hvplot.hist(bins=35) \n",
    "# charged_off = loans_df.loc[loans_df['loan_status']=='Charged Off', 'earliest_cr_line'].hvplot.hist(bins=35)\n",
    "\n",
    "# earliest_cr_line = (fully_paid * charged_off).opts(\n",
    "#     title=\"Loan Status by earliest_cr_line\", xlabel='earliest_cr_line', ylabel='Count',\n",
    "#     width=350, height=350, legend_cols=2, legend_position='top_right'\n",
    "# ).opts(xrotation=45)\n",
    "\n",
    "# loan_issue_date + earliest_cr_line"
   ]
  },
  {
   "cell_type": "markdown",
   "id": "60a3cf54",
   "metadata": {
    "papermill": {
     "duration": 0.150252,
     "end_time": "2023-01-31T14:12:18.238250",
     "exception": false,
     "start_time": "2023-01-31T14:12:18.087998",
     "status": "completed"
    },
    "tags": []
   },
   "source": [
    "## ✔️ `title`\n",
    "\n",
    "> - `title`: The loan title provided by the borrower"
   ]
  },
  {
   "cell_type": "code",
   "execution_count": null,
   "id": "c2a77108",
   "metadata": {
    "papermill": {
     "duration": 0.174333,
     "end_time": "2023-01-31T14:12:18.562615",
     "exception": false,
     "start_time": "2023-01-31T14:12:18.388282",
     "status": "completed"
    },
    "tags": []
   },
   "outputs": [],
   "source": [
    "loans_df.title.isna().sum()"
   ]
  },
  {
   "cell_type": "code",
   "execution_count": null,
   "id": "3a66e89b",
   "metadata": {
    "papermill": {
     "duration": 0.265544,
     "end_time": "2023-01-31T14:12:18.975299",
     "exception": false,
     "start_time": "2023-01-31T14:12:18.709755",
     "status": "completed"
    },
    "tags": []
   },
   "outputs": [],
   "source": [
    "loans_df['title'] = loans_df.title.str.lower()"
   ]
  },
  {
   "cell_type": "code",
   "execution_count": null,
   "id": "6cec9664",
   "metadata": {
    "papermill": {
     "duration": 0.215234,
     "end_time": "2023-01-31T14:12:19.337477",
     "exception": false,
     "start_time": "2023-01-31T14:12:19.122243",
     "status": "completed"
    },
    "tags": []
   },
   "outputs": [],
   "source": [
    "loans_df.title.value_counts()[:10]"
   ]
  },
  {
   "cell_type": "markdown",
   "id": "f40aecae",
   "metadata": {
    "papermill": {
     "duration": 0.216382,
     "end_time": "2023-01-31T14:12:19.753202",
     "exception": false,
     "start_time": "2023-01-31T14:12:19.536820",
     "status": "completed"
    },
    "tags": []
   },
   "source": [
    "`title` will be removed because we have the `purpose` column with is generated from it."
   ]
  },
  {
   "cell_type": "markdown",
   "id": "9d1bac3f",
   "metadata": {
    "papermill": {
     "duration": 0.151301,
     "end_time": "2023-01-31T14:12:20.118090",
     "exception": false,
     "start_time": "2023-01-31T14:12:19.966789",
     "status": "completed"
    },
    "tags": []
   },
   "source": [
    "## ✔️ `dti`, `open_acc`, `revol_bal`, `revol_util`, & `total_acc`\n",
    "\n",
    "> - `dti`: A ratio calculated using the borrower’s total monthly debt payments on the total debt obligations, excluding mortgage and the requested LC loan, divided by the borrower’s self-reported monthly income.\n",
    "> - `open_acc`: The number of open credit lines in the borrower's credit file.\n",
    "> - `revol_bal`: Total credit revolving balance\n",
    "> - `revol_util`: Revolving line utilization rate, or the amount of credit the borrower is using relative to all available revolving credit.\n",
    "> - `total_acc`: The total number of credit lines currently in the borrower's credit file"
   ]
  },
  {
   "cell_type": "code",
   "execution_count": null,
   "id": "42563071",
   "metadata": {
    "papermill": {
     "duration": 0.171636,
     "end_time": "2023-01-31T14:12:20.435870",
     "exception": false,
     "start_time": "2023-01-31T14:12:20.264234",
     "status": "completed"
    },
    "tags": []
   },
   "outputs": [],
   "source": [
    "applicants_df.dti.value_counts()"
   ]
  },
  {
   "cell_type": "code",
   "execution_count": null,
   "id": "dcc361e8",
   "metadata": {
    "_kg_hide-input": true,
    "papermill": {
     "duration": 0.725663,
     "end_time": "2023-01-31T14:12:21.309668",
     "exception": false,
     "start_time": "2023-01-31T14:12:20.584005",
     "status": "completed"
    },
    "tags": []
   },
   "outputs": [],
   "source": [
    "dti = joined_df.hvplot.hist(\n",
    "    y='dti', bins=50, width=350, height=350, \n",
    "    title=\"dti Distribution\", xlabel='dti', ylabel='Count'\n",
    ")\n",
    "\n",
    "sub_dti = joined_df[joined_df['dti']<=50].hvplot.hist(\n",
    "    y='dti', bins=50, width=350, height=350, \n",
    "    title=\"dti (<=30) Distribution\", xlabel='dti', ylabel='Count', shared_axes=False\n",
    ")\n",
    "\n",
    "dti + sub_dti"
   ]
  },
  {
   "cell_type": "code",
   "execution_count": null,
   "id": "a6317632",
   "metadata": {
    "papermill": {
     "duration": 0.161181,
     "end_time": "2023-01-31T14:12:21.621421",
     "exception": false,
     "start_time": "2023-01-31T14:12:21.460240",
     "status": "completed"
    },
    "tags": []
   },
   "outputs": [],
   "source": [
    "print(applicants_df[applicants_df['dti']>=40].shape)"
   ]
  },
  {
   "cell_type": "code",
   "execution_count": null,
   "id": "b36edd1e",
   "metadata": {
    "papermill": {
     "duration": 0.160732,
     "end_time": "2023-01-31T14:12:21.930639",
     "exception": false,
     "start_time": "2023-01-31T14:12:21.769907",
     "status": "completed"
    },
    "tags": []
   },
   "outputs": [],
   "source": [
    "joined_df.loc[joined_df['dti']>=50, 'loan_status'].value_counts()"
   ]
  },
  {
   "cell_type": "code",
   "execution_count": null,
   "id": "b17deaaf",
   "metadata": {
    "_kg_hide-input": true,
    "papermill": {
     "duration": 1.92155,
     "end_time": "2023-01-31T14:12:24.017679",
     "exception": false,
     "start_time": "2023-01-31T14:12:22.096129",
     "status": "completed"
    },
    "tags": []
   },
   "outputs": [],
   "source": [
    "dti = joined_df[joined_df['dti']<=50].hvplot.hist(\n",
    "    y='dti', by='loan_status', bins=50, width=300, height=350, \n",
    "    title=\"dti (<=30) Distribution\", xlabel='dti', ylabel='Count', \n",
    "    alpha=0.3, legend='top'\n",
    ")\n",
    "\n",
    "title=\"Loan Status by The number of open credit lines\"\n",
    "\n",
    "open_acc = joined_df.hvplot.hist(\n",
    "    y='open_acc', by='loan_status', bins=50, width=300, height=350, \n",
    "    title=title, xlabel='The number of open credit lines', ylabel='Count', \n",
    "    alpha=0.4, legend='top'\n",
    ")\n",
    "\n",
    "title=\"Loan Status by The total number of credit lines\"\n",
    "\n",
    "total_acc = joined_df.hvplot.hist(\n",
    "    y='total_acc', by='loan_status', bins=50, width=300, height=350, \n",
    "    title=title, xlabel='The total number of credit lines', ylabel='Count', \n",
    "    alpha=0.4, legend='top'\n",
    ")\n",
    "\n",
    "dti + open_acc + total_acc"
   ]
  },
  {
   "cell_type": "code",
   "execution_count": null,
   "id": "5b1b85e9",
   "metadata": {
    "papermill": {
     "duration": 0.161113,
     "end_time": "2023-01-31T14:12:24.327397",
     "exception": false,
     "start_time": "2023-01-31T14:12:24.166284",
     "status": "completed"
    },
    "tags": []
   },
   "outputs": [],
   "source": [
    "print(applicants_df.shape)\n",
    "print(applicants_df[applicants_df.open_acc > 40].shape)"
   ]
  },
  {
   "cell_type": "code",
   "execution_count": null,
   "id": "22b06c2f",
   "metadata": {
    "papermill": {
     "duration": 0.161665,
     "end_time": "2023-01-31T14:12:24.638920",
     "exception": false,
     "start_time": "2023-01-31T14:12:24.477255",
     "status": "completed"
    },
    "tags": []
   },
   "outputs": [],
   "source": [
    "print(applicants_df.shape)\n",
    "print(applicants_df[applicants_df.total_acc > 80].shape)"
   ]
  },
  {
   "cell_type": "code",
   "execution_count": null,
   "id": "0e198592",
   "metadata": {
    "papermill": {
     "duration": 0.16504,
     "end_time": "2023-01-31T14:12:24.951622",
     "exception": false,
     "start_time": "2023-01-31T14:12:24.786582",
     "status": "completed"
    },
    "tags": []
   },
   "outputs": [],
   "source": [
    "print(applicants_df.shape)\n",
    "print(applicants_df[applicants_df.revol_util > 120].shape)"
   ]
  },
  {
   "cell_type": "code",
   "execution_count": null,
   "id": "22af3f0d",
   "metadata": {
    "_kg_hide-input": true,
    "papermill": {
     "duration": 1.173001,
     "end_time": "2023-01-31T14:12:26.275912",
     "exception": false,
     "start_time": "2023-01-31T14:12:25.102911",
     "status": "completed"
    },
    "tags": []
   },
   "outputs": [],
   "source": [
    "title=\"Loan Status by Revolving line utilization rate\"\n",
    "\n",
    "revol_util = joined_df.hvplot.hist(\n",
    "    y='revol_util', by='loan_status', bins=50, width=350, height=400, \n",
    "    title=title, xlabel='Revolving line utilization rate', ylabel='Count', \n",
    "    alpha=0.4, legend='top'\n",
    ")\n",
    "\n",
    "title=\"Loan Status by Revolving line utilization rate (<120)\"\n",
    "\n",
    "\n",
    "sub_revol_util = joined_df[joined_df.revol_util < 120].hvplot.hist(\n",
    "    y='revol_util', by='loan_status', bins=50, width=350, height=400, \n",
    "    title=title, xlabel='Revolving line utilization rate', ylabel='Count', \n",
    "    shared_axes=False, alpha=0.4, legend='top'\n",
    ")\n",
    "\n",
    "revol_util + sub_revol_util"
   ]
  },
  {
   "cell_type": "code",
   "execution_count": null,
   "id": "a3345a64",
   "metadata": {
    "papermill": {
     "duration": 0.187618,
     "end_time": "2023-01-31T14:12:26.614831",
     "exception": false,
     "start_time": "2023-01-31T14:12:26.427213",
     "status": "completed"
    },
    "tags": []
   },
   "outputs": [],
   "source": [
    "applicants_df[applicants_df.revol_util > 200]"
   ]
  },
  {
   "cell_type": "code",
   "execution_count": null,
   "id": "11826ab0",
   "metadata": {
    "papermill": {
     "duration": 0.170808,
     "end_time": "2023-01-31T14:12:26.940675",
     "exception": false,
     "start_time": "2023-01-31T14:12:26.769867",
     "status": "completed"
    },
    "tags": []
   },
   "outputs": [],
   "source": [
    "print(applicants_df.shape)\n",
    "print(applicants_df[applicants_df.revol_bal > 250000].shape)"
   ]
  },
  {
   "cell_type": "code",
   "execution_count": null,
   "id": "dc64e1f0",
   "metadata": {
    "_kg_hide-input": true,
    "papermill": {
     "duration": 1.180146,
     "end_time": "2023-01-31T14:12:28.269958",
     "exception": false,
     "start_time": "2023-01-31T14:12:27.089812",
     "status": "completed"
    },
    "tags": []
   },
   "outputs": [],
   "source": [
    "title = \"Loan Status by Total credit revolving balance\"\n",
    "\n",
    "revol_bal = joined_df.hvplot.hist(\n",
    "    y='revol_bal', by='loan_status', bins=50, width=350, height=400, \n",
    "    title=title, xlabel='Total credit revolving balance', ylabel='Count', \n",
    "    alpha=0.4, legend='top'\n",
    ")\n",
    "\n",
    "title = \"Loan Status by Total credit revolving balance (<250000)\"\n",
    "\n",
    "sub_revol_bal = joined_df[joined_df['revol_bal']<=250000].hvplot.hist(\n",
    "    y='revol_bal', by='loan_status', bins=50, width=350, height=400, \n",
    "    title=title, xlabel='Total credit revolving balance', ylabel='Count', \n",
    "    alpha=0.4, legend='top', shared_axes=False\n",
    ").opts(xrotation=45)\n",
    "\n",
    "revol_bal + sub_revol_bal"
   ]
  },
  {
   "cell_type": "code",
   "execution_count": null,
   "id": "8d1e5c62",
   "metadata": {
    "papermill": {
     "duration": 0.171475,
     "end_time": "2023-01-31T14:12:28.591778",
     "exception": false,
     "start_time": "2023-01-31T14:12:28.420303",
     "status": "completed"
    },
    "tags": []
   },
   "outputs": [],
   "source": [
    "joined_df.loc[joined_df.revol_bal > 250000, 'loan_status'].value_counts()"
   ]
  },
  {
   "cell_type": "markdown",
   "id": "15767e9e",
   "metadata": {
    "papermill": {
     "duration": 0.151537,
     "end_time": "2023-01-31T14:12:28.900957",
     "exception": false,
     "start_time": "2023-01-31T14:12:28.749420",
     "status": "completed"
    },
    "tags": []
   },
   "source": [
    "- It seems that the smaller the `dti` the more likely that the loan will not be paid.\n",
    "- Only `217` borrower have more than `40` open credit lines.\n",
    "- Only `266` borrower have more than `80` credit line in the borrower credit file."
   ]
  },
  {
   "cell_type": "markdown",
   "id": "cab1a262",
   "metadata": {
    "papermill": {
     "duration": 0.149328,
     "end_time": "2023-01-31T14:12:29.204011",
     "exception": false,
     "start_time": "2023-01-31T14:12:29.054683",
     "status": "completed"
    },
    "tags": []
   },
   "source": [
    "## ✔️ `pub_rec`, `initial_list_status`, `application_type`, `mort_acc`, & `pub_rec_bankruptcies`\n",
    "\n",
    "> - `pub_rec`: Number of derogatory public records\n",
    "> - `initial_list_status`: The initial listing status of the loan. Possible values are – W, F\n",
    "> - `application_type`: Indicates whether the loan is an individual application or a joint application with two co-borrowers\n",
    "> - `mort_acc`: Number of mortgage accounts\n",
    "> - `pub_rec_bankruptcies`: Number of public record bankruptcies"
   ]
  },
  {
   "cell_type": "code",
   "execution_count": null,
   "id": "387d4fe3",
   "metadata": {
    "_kg_hide-input": true,
    "papermill": {
     "duration": 0.414204,
     "end_time": "2023-01-31T14:12:29.767964",
     "exception": false,
     "start_time": "2023-01-31T14:12:29.353760",
     "status": "completed"
    },
    "tags": []
   },
   "outputs": [],
   "source": [
    "xlabel = 'Number of derogatory public records'\n",
    "title = \"Loan Status by Number of derogatory public records\"\n",
    "\n",
    "fully_paid = joined_df.loc[joined_df['loan_status']=='Fully Paid', 'pub_rec'].value_counts().hvplot.bar() \n",
    "charged_off = joined_df.loc[joined_df['loan_status']=='Charged Off', 'pub_rec'].value_counts().hvplot.bar()\n",
    "\n",
    "(fully_paid * charged_off).opts(\n",
    "    title=title, xlabel=xlabel, ylabel='Count',\n",
    "    width=400, height=400, legend_cols=2, legend_position='top_right'\n",
    ")"
   ]
  },
  {
   "cell_type": "code",
   "execution_count": null,
   "id": "9eb8c609",
   "metadata": {
    "_kg_hide-input": true,
    "papermill": {
     "duration": 0.423536,
     "end_time": "2023-01-31T14:12:30.342742",
     "exception": false,
     "start_time": "2023-01-31T14:12:29.919206",
     "status": "completed"
    },
    "tags": []
   },
   "outputs": [],
   "source": [
    "xlabel = \"The initial listing status of the loan\"\n",
    "title = \"Loan Status by The initial listing status of the loan\"\n",
    "\n",
    "fully_paid = joined_df.loc[joined_df['loan_status']=='Fully Paid', 'initial_list_status'].value_counts().hvplot.bar() \n",
    "charged_off = joined_df.loc[joined_df['loan_status']=='Charged Off', 'initial_list_status'].value_counts().hvplot.bar()\n",
    "\n",
    "(fully_paid * charged_off).opts(\n",
    "    title=title, xlabel=xlabel, ylabel='Count',\n",
    "    width=400, height=400, legend_cols=2, legend_position='top_right'\n",
    ")"
   ]
  },
  {
   "cell_type": "code",
   "execution_count": null,
   "id": "4b2d72a0",
   "metadata": {
    "_kg_hide-input": true,
    "papermill": {
     "duration": 0.616708,
     "end_time": "2023-01-31T14:12:31.161961",
     "exception": false,
     "start_time": "2023-01-31T14:12:30.545253",
     "status": "completed"
    },
    "tags": []
   },
   "outputs": [],
   "source": [
    "fully_paid = joined_df.loc[joined_df['loan_status']=='Fully Paid', 'application_type'].value_counts().hvplot.bar() \n",
    "charged_off = joined_df.loc[joined_df['loan_status']=='Charged Off', 'application_type'].value_counts().hvplot.bar()\n",
    "\n",
    "(fully_paid * charged_off).opts(\n",
    "    title=\"Loan Status by Application Type\", xlabel=\"Application Type\", ylabel='Count',\n",
    "    width=400, height=400, legend_cols=2, legend_position='top_right'\n",
    ")"
   ]
  },
  {
   "cell_type": "code",
   "execution_count": null,
   "id": "d55ed9a9",
   "metadata": {
    "_kg_hide-input": true,
    "papermill": {
     "duration": 0.406545,
     "end_time": "2023-01-31T14:12:31.719463",
     "exception": false,
     "start_time": "2023-01-31T14:12:31.312918",
     "status": "completed"
    },
    "tags": []
   },
   "outputs": [],
   "source": [
    "xlabel = \"Number of public record bankruptcies\"\n",
    "title = \"Loan Status by The Number of public record bankruptcies\"\n",
    "\n",
    "fully_paid = joined_df.loc[joined_df['loan_status']=='Fully Paid', 'pub_rec_bankruptcies'].value_counts().hvplot.bar() \n",
    "charged_off = joined_df.loc[joined_df['loan_status']=='Charged Off', 'pub_rec_bankruptcies'].value_counts().hvplot.bar()\n",
    "\n",
    "(fully_paid * charged_off).opts(\n",
    "    title=title, xlabel=xlabel, ylabel='Count',\n",
    "    width=400, height=400, legend_cols=2, legend_position='top_right'\n",
    ")"
   ]
  },
  {
   "cell_type": "code",
   "execution_count": null,
   "id": "907456ef",
   "metadata": {
    "papermill": {
     "duration": 0.163943,
     "end_time": "2023-01-31T14:12:32.033818",
     "exception": false,
     "start_time": "2023-01-31T14:12:31.869875",
     "status": "completed"
    },
    "tags": []
   },
   "outputs": [],
   "source": [
    "def pub_rec(number):\n",
    "    if number == 0.0:\n",
    "        return 0\n",
    "    else:\n",
    "        return 1\n",
    "    \n",
    "def mort_acc(number):\n",
    "    if number == 0.0:\n",
    "        return 0\n",
    "    elif number >= 1.0:\n",
    "        return 1\n",
    "    else:\n",
    "        return number\n",
    "    \n",
    "def pub_rec_bankruptcies(number):\n",
    "    if number == 0.0:\n",
    "        return 0\n",
    "    elif number >= 1.0:\n",
    "        return 1\n",
    "    else:\n",
    "        return number"
   ]
  },
  {
   "cell_type": "code",
   "execution_count": null,
   "id": "53a5c4a7",
   "metadata": {
    "papermill": {
     "duration": 0.636201,
     "end_time": "2023-01-31T14:12:32.820041",
     "exception": false,
     "start_time": "2023-01-31T14:12:32.183840",
     "status": "completed"
    },
    "tags": []
   },
   "outputs": [],
   "source": [
    "applicants_df['pub_rec'] = applicants_df.pub_rec.apply(pub_rec)\n",
    "applicants_df['mort_acc'] = applicants_df.mort_acc.apply(mort_acc)\n",
    "applicants_df['pub_rec_bankruptcies'] = applicants_df.pub_rec_bankruptcies.apply(pub_rec_bankruptcies)"
   ]
  },
  {
   "cell_type": "code",
   "execution_count": null,
   "id": "9c013fa4",
   "metadata": {
    "papermill": {
     "duration": 1.894658,
     "end_time": "2023-01-31T14:12:34.867043",
     "exception": false,
     "start_time": "2023-01-31T14:12:32.972385",
     "status": "completed"
    },
    "tags": []
   },
   "outputs": [],
   "source": [
    "plt.figure(figsize=(12, 30))\n",
    "\n",
    "plt.subplot(6, 2, 1)\n",
    "sns.countplot(x='pub_rec', data=joined_df, hue='loan_status')\n",
    "\n",
    "plt.subplot(6, 2, 2)\n",
    "sns.countplot(x='initial_list_status', data=joined_df, hue='loan_status')\n",
    "\n",
    "plt.subplot(6, 2, 3)\n",
    "sns.countplot(x='application_type', data=joined_df, hue='loan_status')\n",
    "\n",
    "plt.subplot(6, 2, 4)\n",
    "sns.countplot(x='mort_acc', data=joined_df, hue='loan_status')\n",
    "\n",
    "plt.subplot(6, 2, 5)\n",
    "sns.countplot(x='pub_rec_bankruptcies', data=joined_df, hue='loan_status')"
   ]
  },
  {
   "cell_type": "markdown",
   "id": "b2f8d8e1",
   "metadata": {
    "papermill": {
     "duration": 0.152708,
     "end_time": "2023-01-31T14:12:35.175782",
     "exception": false,
     "start_time": "2023-01-31T14:12:35.023074",
     "status": "completed"
    },
    "tags": []
   },
   "source": [
    "## <span style=\"color:#ff5f27;\">📈 How numeric features correlate with the target variable?</span>"
   ]
  },
  {
   "cell_type": "code",
   "execution_count": null,
   "id": "e82164d0",
   "metadata": {
    "papermill": {
     "duration": 0.30106,
     "end_time": "2023-01-31T14:12:35.631447",
     "exception": false,
     "start_time": "2023-01-31T14:12:35.330387",
     "status": "completed"
    },
    "tags": []
   },
   "outputs": [],
   "source": [
    "joined_df['loan_status'] = joined_df.loan_status.map({'Fully Paid':1, 'Charged Off':0})\n",
    "\n",
    "# Identify and exclude non-numeric columns\n",
    "numeric_columns = joined_df.dtypes[joined_df.dtypes != 'object'].index"
   ]
  },
  {
   "cell_type": "code",
   "execution_count": null,
   "id": "a7a9f389",
   "metadata": {
    "_kg_hide-input": true,
    "papermill": {
     "duration": 0.507635,
     "end_time": "2023-01-31T14:12:36.310128",
     "exception": false,
     "start_time": "2023-01-31T14:12:35.802493",
     "status": "completed"
    },
    "tags": []
   },
   "outputs": [],
   "source": [
    "joined_df[numeric_columns].corr()['loan_status'].drop('loan_status').sort_values().hvplot.barh(\n",
    "    width=600, height=400, \n",
    "    title=\"Correlation between Loan status and Numeric Features\", \n",
    "    ylabel='Correlation', xlabel='Numerical Features', \n",
    ")"
   ]
  },
  {
   "cell_type": "markdown",
   "id": "53a9fa45",
   "metadata": {
    "papermill": {
     "duration": 0.163815,
     "end_time": "2023-01-31T14:12:36.630398",
     "exception": false,
     "start_time": "2023-01-31T14:12:36.466583",
     "status": "completed"
    },
    "tags": []
   },
   "source": [
    "****\n",
    "## <span style=\"color:#ff5f27;\">📝 Conclusion:</span>\n",
    "We notice that, there are broadly three types of features: \n",
    "- 1. Features related to the applicant (demographic variables such as occupation, employment details etc.), \n",
    "- 2. Features related to loan characteristics (amount of loan, interest rate, purpose of loan etc.) \n",
    "****"
   ]
  },
  {
   "cell_type": "markdown",
   "id": "0174e794",
   "metadata": {
    "papermill": {
     "duration": 0.152855,
     "end_time": "2023-01-31T14:12:37.578196",
     "exception": false,
     "start_time": "2023-01-31T14:12:37.425341",
     "status": "completed"
    },
    "tags": []
   },
   "source": [
    "# <span style=\"color:#ff5f27;\">🔄 Data Cleanup Rules identification</span>\n",
    "\n",
    "**Section Goals:** \n",
    "> - Remove or fill any missing data. \n",
    "> - Remove unnecessary or repetitive features. \n",
    "> - Convert categorical string features to dummy variables."
   ]
  },
  {
   "cell_type": "code",
   "execution_count": null,
   "id": "3a5120f0",
   "metadata": {
    "papermill": {
     "duration": 0.369849,
     "end_time": "2023-01-31T14:12:38.421013",
     "exception": false,
     "start_time": "2023-01-31T14:12:38.051164",
     "status": "completed"
    },
    "tags": []
   },
   "outputs": [],
   "source": [
    "# Missing values\n",
    "for column in joined_df.columns:\n",
    "    if joined_df[column].isna().sum() != 0:\n",
    "        missing = joined_df[column].isna().sum()\n",
    "        portion = (missing / joined_df.shape[0]) * 100\n",
    "        print(f\"'{column}': number of missing values '{missing}' ==> '{portion:.3f}%'\")"
   ]
  },
  {
   "cell_type": "markdown",
   "id": "fd4ed1ca",
   "metadata": {
    "papermill": {
     "duration": 0.153546,
     "end_time": "2023-01-31T14:12:38.729424",
     "exception": false,
     "start_time": "2023-01-31T14:12:38.575878",
     "status": "completed"
    },
    "tags": []
   },
   "source": [
    "### `emp_title`"
   ]
  },
  {
   "cell_type": "code",
   "execution_count": null,
   "id": "31fff0c5",
   "metadata": {
    "papermill": {
     "duration": 0.225569,
     "end_time": "2023-01-31T14:12:39.109800",
     "exception": false,
     "start_time": "2023-01-31T14:12:38.884231",
     "status": "completed"
    },
    "tags": []
   },
   "outputs": [],
   "source": [
    "applicants_df.emp_title.nunique()"
   ]
  },
  {
   "cell_type": "markdown",
   "id": "74d3e2a5",
   "metadata": {
    "papermill": {
     "duration": 0.153798,
     "end_time": "2023-01-31T14:12:39.419636",
     "exception": false,
     "start_time": "2023-01-31T14:12:39.265838",
     "status": "completed"
    },
    "tags": []
   },
   "source": [
    "Realistically there are too many unique job titles to try to convert this to a dummy variable feature. Let's remove that emp_title column."
   ]
  },
  {
   "cell_type": "markdown",
   "id": "4ac56861",
   "metadata": {
    "papermill": {
     "duration": 0.157447,
     "end_time": "2023-01-31T14:12:40.193207",
     "exception": false,
     "start_time": "2023-01-31T14:12:40.035760",
     "status": "completed"
    },
    "tags": []
   },
   "source": [
    "### `emp_length`"
   ]
  },
  {
   "cell_type": "code",
   "execution_count": null,
   "id": "d1109872",
   "metadata": {
    "papermill": {
     "duration": 0.18835,
     "end_time": "2023-01-31T14:12:40.538845",
     "exception": false,
     "start_time": "2023-01-31T14:12:40.350495",
     "status": "completed"
    },
    "tags": []
   },
   "outputs": [],
   "source": [
    "applicants_df.emp_length.unique()"
   ]
  },
  {
   "cell_type": "code",
   "execution_count": null,
   "id": "d7555668",
   "metadata": {
    "papermill": {
     "duration": 0.666708,
     "end_time": "2023-01-31T14:12:41.359726",
     "exception": false,
     "start_time": "2023-01-31T14:12:40.693018",
     "status": "completed"
    },
    "tags": []
   },
   "outputs": [],
   "source": [
    "for year in joined_df.emp_length.unique():\n",
    "    print(f\"{year} years in this position:\")\n",
    "    print(f\"{joined_df[joined_df.emp_length == year].loan_status.value_counts(normalize=True)}\")\n",
    "    print('==========================================')"
   ]
  },
  {
   "cell_type": "markdown",
   "id": "f1ad195b",
   "metadata": {
    "papermill": {
     "duration": 0.241511,
     "end_time": "2023-01-31T14:12:41.814332",
     "exception": false,
     "start_time": "2023-01-31T14:12:41.572821",
     "status": "completed"
    },
    "tags": []
   },
   "source": [
    "Charge off rates are extremely similar across all employment lengths. So we are going to drop the `emp_length` column."
   ]
  },
  {
   "cell_type": "markdown",
   "id": "9a03679c",
   "metadata": {
    "papermill": {
     "duration": 0.15497,
     "end_time": "2023-01-31T14:12:42.623502",
     "exception": false,
     "start_time": "2023-01-31T14:12:42.468532",
     "status": "completed"
    },
    "tags": []
   },
   "source": [
    "### `title`"
   ]
  },
  {
   "cell_type": "code",
   "execution_count": null,
   "id": "3b66695f",
   "metadata": {
    "papermill": {
     "duration": 0.207784,
     "end_time": "2023-01-31T14:12:42.988632",
     "exception": false,
     "start_time": "2023-01-31T14:12:42.780848",
     "status": "completed"
    },
    "tags": []
   },
   "outputs": [],
   "source": [
    "joined_df.title.value_counts().head()"
   ]
  },
  {
   "cell_type": "code",
   "execution_count": null,
   "id": "9e41c72a",
   "metadata": {
    "papermill": {
     "duration": 0.184422,
     "end_time": "2023-01-31T14:12:43.327767",
     "exception": false,
     "start_time": "2023-01-31T14:12:43.143345",
     "status": "completed"
    },
    "tags": []
   },
   "outputs": [],
   "source": [
    "joined_df.purpose.value_counts().head()"
   ]
  },
  {
   "cell_type": "markdown",
   "id": "a946b370",
   "metadata": {
    "papermill": {
     "duration": 0.154896,
     "end_time": "2023-01-31T14:12:43.642185",
     "exception": false,
     "start_time": "2023-01-31T14:12:43.487289",
     "status": "completed"
    },
    "tags": []
   },
   "source": [
    "The title column is simply a string subcategory/description of the purpose column. So we should drop the title column."
   ]
  },
  {
   "cell_type": "markdown",
   "id": "00fca018",
   "metadata": {
    "papermill": {
     "duration": 0.154279,
     "end_time": "2023-01-31T14:12:44.341279",
     "exception": false,
     "start_time": "2023-01-31T14:12:44.187000",
     "status": "completed"
    },
    "tags": []
   },
   "source": [
    "### `mort_acc`\n",
    "\n",
    "There are many ways we could deal with this missing data. We could attempt to build a simple model to fill it in, such as a linear model, we could just fill it in based on the mean of the other columns, or you could even bin the columns into categories and then set NaN as its own category. There is no 100% correct approach! \n",
    "\n",
    "Let's review the other columsn to see which most highly correlates to mort_acc"
   ]
  },
  {
   "cell_type": "code",
   "execution_count": null,
   "id": "41a0c87b",
   "metadata": {
    "papermill": {
     "duration": 0.175319,
     "end_time": "2023-01-31T14:12:44.670092",
     "exception": false,
     "start_time": "2023-01-31T14:12:44.494773",
     "status": "completed"
    },
    "tags": []
   },
   "outputs": [],
   "source": [
    "joined_df.mort_acc.value_counts()"
   ]
  },
  {
   "cell_type": "code",
   "execution_count": null,
   "id": "891733d8",
   "metadata": {
    "papermill": {
     "duration": 0.166463,
     "end_time": "2023-01-31T14:12:44.993460",
     "exception": false,
     "start_time": "2023-01-31T14:12:44.826997",
     "status": "completed"
    },
    "tags": []
   },
   "outputs": [],
   "source": [
    "joined_df.mort_acc.isna().sum()"
   ]
  },
  {
   "cell_type": "code",
   "execution_count": null,
   "id": "2bc0905e",
   "metadata": {
    "papermill": {
     "duration": 0.462107,
     "end_time": "2023-01-31T14:12:45.611758",
     "exception": false,
     "start_time": "2023-01-31T14:12:45.149651",
     "status": "completed"
    },
    "tags": []
   },
   "outputs": [],
   "source": [
    "joined_df[numeric_columns].corr()['mort_acc'].drop('mort_acc').sort_values().hvplot.barh()"
   ]
  },
  {
   "cell_type": "markdown",
   "id": "be604f1e",
   "metadata": {
    "papermill": {
     "duration": 0.157466,
     "end_time": "2023-01-31T14:12:45.923922",
     "exception": false,
     "start_time": "2023-01-31T14:12:45.766456",
     "status": "completed"
    },
    "tags": []
   },
   "source": [
    "Looks like the total_acc feature correlates with the mort_acc , this makes sense! Let's try this fillna() approach. We will group the dataframe by the total_acc and calculate the mean value for the mort_acc per total_acc entry. To get the result below:"
   ]
  },
  {
   "cell_type": "code",
   "execution_count": null,
   "id": "655aa19d",
   "metadata": {
    "papermill": {
     "duration": 0.253754,
     "end_time": "2023-01-31T14:12:46.335011",
     "exception": false,
     "start_time": "2023-01-31T14:12:46.081257",
     "status": "completed"
    },
    "tags": []
   },
   "outputs": [],
   "source": [
    "total_acc_avg = joined_df[numeric_columns].groupby(by='total_acc').mean().mort_acc"
   ]
  },
  {
   "cell_type": "code",
   "execution_count": null,
   "id": "b117359c",
   "metadata": {
    "papermill": {
     "duration": 0.16887,
     "end_time": "2023-01-31T14:12:46.660980",
     "exception": false,
     "start_time": "2023-01-31T14:12:46.492110",
     "status": "completed"
    },
    "tags": []
   },
   "outputs": [],
   "source": [
    "def fill_mort_acc(total_acc, mort_acc):\n",
    "    if np.isnan(mort_acc):\n",
    "        return total_acc_avg[total_acc].round()\n",
    "    else:\n",
    "        return mort_acc"
   ]
  },
  {
   "cell_type": "code",
   "execution_count": null,
   "id": "75bb4c76",
   "metadata": {
    "papermill": {
     "duration": 10.520365,
     "end_time": "2023-01-31T14:12:57.343915",
     "exception": false,
     "start_time": "2023-01-31T14:12:46.823550",
     "status": "completed"
    },
    "tags": []
   },
   "outputs": [],
   "source": [
    "joined_df['mort_acc'] = joined_df.apply(\n",
    "    lambda x: fill_mort_acc(x['total_acc'], x['mort_acc']),\n",
    "    axis=1,\n",
    ")"
   ]
  },
  {
   "cell_type": "markdown",
   "id": "bffb4178",
   "metadata": {
    "papermill": {
     "duration": 0.156009,
     "end_time": "2023-01-31T14:12:57.656526",
     "exception": false,
     "start_time": "2023-01-31T14:12:57.500517",
     "status": "completed"
    },
    "tags": []
   },
   "source": [
    "### `revol_util` & `pub_rec_bankruptcies`\n",
    "These two features have missing data points, but they account for less than 0.5% of the total data. So we are going to remove the rows that are missing those values in those columns with dropna()."
   ]
  },
  {
   "cell_type": "code",
   "execution_count": null,
   "id": "4752a829",
   "metadata": {
    "papermill": {
     "duration": 0.2977,
     "end_time": "2023-01-31T14:12:58.109603",
     "exception": false,
     "start_time": "2023-01-31T14:12:57.811903",
     "status": "completed"
    },
    "tags": []
   },
   "outputs": [],
   "source": [
    "for column in joined_df.columns:\n",
    "    if joined_df[column].isna().sum() != 0:\n",
    "        missing = joined_df[column].isna().sum()\n",
    "        portion = (missing / applicants_df.shape[0]) * 100\n",
    "        print(f\"'{column}': number of missing values '{missing}' ==> '{portion:.3f}%'\")"
   ]
  },
  {
   "cell_type": "code",
   "execution_count": null,
   "id": "157b0699",
   "metadata": {
    "papermill": {
     "duration": 0.189848,
     "end_time": "2023-01-31T14:13:00.249831",
     "exception": false,
     "start_time": "2023-01-31T14:13:00.059983",
     "status": "completed"
    },
    "tags": []
   },
   "outputs": [],
   "source": [
    "joined_df.term.unique()"
   ]
  },
  {
   "cell_type": "code",
   "execution_count": null,
   "id": "e9b015fc",
   "metadata": {
    "papermill": {
     "duration": 0.177794,
     "end_time": "2023-01-31T14:13:03.121926",
     "exception": false,
     "start_time": "2023-01-31T14:13:02.944132",
     "status": "completed"
    },
    "tags": []
   },
   "outputs": [],
   "source": [
    "joined_df.address.head()"
   ]
  },
  {
   "cell_type": "markdown",
   "id": "62619683",
   "metadata": {},
   "source": [
    "---"
   ]
  }
 ],
 "metadata": {
  "kernelspec": {
   "display_name": "Python",
   "language": "python",
   "name": "python3"
  },
  "language_info": {
   "codemirror_mode": {
    "name": "ipython",
    "version": 3
   },
   "file_extension": ".py",
   "mimetype": "text/x-python",
   "name": "python",
   "nbconvert_exporter": "python",
   "pygments_lexer": "ipython3",
   "version": "3.10.11"
  },
  "papermill": {
   "default_parameters": {},
   "duration": 1434.559462,
   "end_time": "2023-01-31T14:35:09.548746",
   "environment_variables": {},
   "exception": null,
   "input_path": "__notebook__.ipynb",
   "output_path": "__notebook__.ipynb",
   "parameters": {},
   "start_time": "2023-01-31T14:11:14.989284",
   "version": "2.3.4"
  }
 },
 "nbformat": 4,
 "nbformat_minor": 5
}
