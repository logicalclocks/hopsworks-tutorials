{
 "cells": [
  {
   "cell_type": "markdown",
   "id": "030dabda-451a-4d87-961c-7837f579b35a",
   "metadata": {},
   "source": [
    "## Alert API"
   ]
  },
  {
   "cell_type": "markdown",
   "id": "c110f12b-3afd-4ce6-b9b2-9480f407ef69",
   "metadata": {},
   "source": [
    "This API provides the possibility to create an alert for jobs, feature store and project."
   ]
  },
  {
   "cell_type": "markdown",
   "id": "0ef7d5e1-4240-4e40-8885-f89a6a17b094",
   "metadata": {},
   "source": [
    "## Prerequisite"
   ]
  },
  {
   "cell_type": "markdown",
   "id": "501a0eda-9383-4055-8084-101dfb2d4f42",
   "metadata": {},
   "source": [
    "Global channels need to be configured by an administrator to be able to create alerts. "
   ]
  },
  {
   "cell_type": "markdown",
   "id": "0728bb3c-25ac-44f0-a0a4-4d7e8b8535d8",
   "metadata": {},
   "source": [
    "![Configure Alerts](../images/alert_channels.png)"
   ]
  },
  {
   "cell_type": "markdown",
   "id": "8cd2f525-4154-4ff9-bb84-0357dd3fe4a2",
   "metadata": {},
   "source": [
    "For this tutorial we need email and slack channels configured. See [Configure Alerts](https://docs.hopsworks.ai/latest/setup_installation/admin/alert/#configure-alerts) on how to configure global channels"
   ]
  },
  {
   "cell_type": "markdown",
   "id": "c64eae28-17c6-418b-8ca7-91288b8b9c65",
   "metadata": {},
   "source": [
    "## Scope"
   ]
  },
  {
   "cell_type": "markdown",
   "id": "0ddd2257-a7fa-4e75-9efe-8c27ac386f97",
   "metadata": {},
   "source": [
    "* Create receivers\n",
    "* Create an alert for a project\n",
    "* Create an alert for a job\n",
    "* Triggering an alert\n",
    "*  "
   ]
  },
  {
   "cell_type": "code",
   "execution_count": 1,
   "id": "f87e289f-0c74-4ffd-81d8-981d48ff3991",
   "metadata": {},
   "outputs": [],
   "source": [
    "import hopsworks"
   ]
  },
  {
   "cell_type": "markdown",
   "id": "f88fe133-a694-4a96-8c61-fe7f284fe02e",
   "metadata": {},
   "source": [
    "## Connect to the cluster"
   ]
  },
  {
   "cell_type": "code",
   "execution_count": 2,
   "id": "39120442-d396-4f22-a09d-826277ed7ffc",
   "metadata": {},
   "outputs": [
    {
     "name": "stdout",
     "output_type": "stream",
     "text": [
      "2025-07-01 07:29:35,561 INFO: Python Engine initialized.\n",
      "\n",
      "Logged in to project, explore it here https://hopsworks.ai.local/p/120\n"
     ]
    }
   ],
   "source": [
    "# Connect to your cluster, to be used running inside Jupyter or jobs inside the cluster.\n",
    "project = hopsworks.login()\n",
    "# Uncomment when connecting to the cluster from an external environment.\n",
    "# project = hopsworks.login(host=\"hopsworks.ai.local\", api_key_file='api_key')"
   ]
  },
  {
   "cell_type": "markdown",
   "id": "147f9171-e39c-482c-8b38-173be461af7c",
   "metadata": {},
   "source": [
    "## Create receivers"
   ]
  },
  {
   "cell_type": "code",
   "execution_count": 3,
   "id": "6cb4afcc-0a55-4a85-9072-8c4fcf7b09e6",
   "metadata": {},
   "outputs": [],
   "source": [
    "alerts_api = project.get_alerts_api()"
   ]
  },
  {
   "cell_type": "code",
   "execution_count": 4,
   "id": "e560cc0f-2cd3-4058-8585-d993a9376a6b",
   "metadata": {},
   "outputs": [
    {
     "name": "stdout",
     "output_type": "stream",
     "text": [
      "2025-07-01 07:29:36,582 INFO: Waiting for receiver to be created.\n",
      "2025-07-01 07:30:47,096 INFO: Receiver created.\n",
      "2025-07-01 07:30:47,266 INFO: Waiting for receiver to be created.\n",
      "2025-07-01 07:32:12,993 INFO: Receiver created.\n"
     ]
    },
    {
     "data": {
      "text/plain": [
       "AlertReceiver('project2__slack', [SlackConfig('#general')])"
      ]
     },
     "execution_count": 4,
     "metadata": {},
     "output_type": "execute_result"
    }
   ],
   "source": [
    "# Create email receiver\n",
    "alerts_api.create_alert_receiver(\n",
    "    name=\"email\", email_configs=[{\"to\": \"email1@mail.com\"}]\n",
    ")\n",
    "# Create slack receiver\n",
    "alerts_api.create_alert_receiver(\n",
    "    name=\"slack\", slack_configs=[{\"channel\": \"#general\"}]\n",
    ")"
   ]
  },
  {
   "cell_type": "code",
   "execution_count": 5,
   "id": "08b1492f-480e-4a6b-ba84-219453819430",
   "metadata": {},
   "outputs": [
    {
     "data": {
      "text/plain": [
       "[AlertReceiver('project2__email', [EmailConfig('email1@mail.com')]),\n",
       " AlertReceiver('project2__slack', [SlackConfig('#general')])]"
      ]
     },
     "execution_count": 5,
     "metadata": {},
     "output_type": "execute_result"
    }
   ],
   "source": [
    "# Get all receivers\n",
    "receivers = alerts_api.get_alert_receivers()\n",
    "receivers"
   ]
  },
  {
   "cell_type": "code",
   "execution_count": 6,
   "id": "6f59642e-993e-4c46-9056-affcbc370274",
   "metadata": {},
   "outputs": [
    {
     "data": {
      "text/plain": [
       "AlertReceiver('project2__email', [EmailConfig('email1@mail.com')])"
      ]
     },
     "execution_count": 6,
     "metadata": {},
     "output_type": "execute_result"
    }
   ],
   "source": [
    "# Get a specific receiver\n",
    "email_receiver = alerts_api.get_alert_receiver(\"email\")\n",
    "email_receiver"
   ]
  },
  {
   "cell_type": "code",
   "execution_count": 7,
   "id": "1c73615d-3e35-4514-a0fd-680dbb9d9fab",
   "metadata": {},
   "outputs": [
    {
     "data": {
      "text/plain": [
       "AlertReceiver('project2__slack', [SlackConfig('#general')])"
      ]
     },
     "execution_count": 7,
     "metadata": {},
     "output_type": "execute_result"
    }
   ],
   "source": [
    "# Get a specific receiver with full name\n",
    "slack_receiver = alerts_api.get_alert_receiver(f\"{project.name}__slack\")\n",
    "slack_receiver"
   ]
  },
  {
   "cell_type": "markdown",
   "id": "e4ecb8ff-437f-4ee6-9b21-c04d0240767e",
   "metadata": {},
   "source": [
    "## Create an alert for a project"
   ]
  },
  {
   "cell_type": "markdown",
   "id": "319efadd-8af2-4406-ad0f-c84fb62b4b76",
   "metadata": {},
   "source": [
    "Alerts created within a project will be triggered by any job or data validation within that project."
   ]
  },
  {
   "cell_type": "code",
   "execution_count": 8,
   "id": "38608cbf-353c-4842-a802-b3a22ba62baa",
   "metadata": {},
   "outputs": [],
   "source": [
    "# Create an alert that will be triggered by any job within the current project\n",
    "alert = project.create_job_alert(receiver=\"slack\", status=\"job_failed\", severity=\"warning\")"
   ]
  },
  {
   "cell_type": "markdown",
   "id": "db932d77-fc8c-42e0-b155-5c96b93fa579",
   "metadata": {},
   "source": [
    "## Create an alert for a job"
   ]
  },
  {
   "cell_type": "markdown",
   "id": "7b9342cd-ad59-41bb-a648-322099032332",
   "metadata": {},
   "source": [
    "Create an alert that will trigger for a specific job"
   ]
  },
  {
   "cell_type": "code",
   "execution_count": null,
   "id": "21f7e08e-055c-4c24-bf04-3f02ef09b8c3",
   "metadata": {},
   "outputs": [],
   "source": [
    "dataset_api = project.get_dataset_api()\n",
    "jobs_api = project.get_jobs_api()"
   ]
  },
  {
   "cell_type": "code",
   "execution_count": null,
   "id": "4522af5b-3815-4598-ae58-96138c6f1928",
   "metadata": {},
   "outputs": [
    {
     "data": {
      "application/vnd.jupyter.widget-view+json": {
       "model_id": "9b359e027a0144dc9409428b8d05c18f",
       "version_major": 2,
       "version_minor": 0
      },
      "text/plain": [
       "Uploading /tmp/my_alert_job_project2.py: 0.000%|          | 0/501 elapsed<00:00 remaining<?"
      ]
     },
     "metadata": {},
     "output_type": "display_data"
    }
   ],
   "source": [
    "JOB_NAME = \"my_alert_job\"\n",
    "with open(f\"/tmp/{JOB_NAME}_{project.name}.py\", \"w\") as f:\n",
    "    f.write(\"\"\"\n",
    "import argparse\n",
    "import logging\n",
    "from time import sleep\n",
    "\n",
    "parser = argparse.ArgumentParser(description ='Process some args.')\n",
    "parser.add_argument('--arg1', type=str)\n",
    "args = parser.parse_args()\n",
    "sleep(120)\n",
    "\n",
    "if args.arg1 == \"fail\":\n",
    "    print(\"Job failed\") # this will be in the stdout which is needed by wait_until_finished\n",
    "    raise Exception(\"Failing job\")\n",
    "print(\"Job finished successfully\")\n",
    "logging.error(\"No Error occurred. But we need this because we wait for the stderr in wait_until_finished!\")\n",
    "    \"\"\")\n",
    "\n",
    "uploaded_file_path = dataset_api.upload(\n",
    "    f\"/tmp/{JOB_NAME}_{project.name}.py\", \"Resources\", overwrite=True\n",
    ")"
   ]
  },
  {
   "cell_type": "code",
   "execution_count": null,
   "id": "85f4b4ed-5648-4990-95a9-a1228888876c",
   "metadata": {},
   "outputs": [],
   "source": [
    "python_config = jobs_api.get_configuration(\"PYTHON\")\n",
    "python_config[\"appPath\"] = uploaded_file_path"
   ]
  },
  {
   "cell_type": "code",
   "execution_count": null,
   "id": "2a62580b-510b-417a-a693-ac311b05c0fe",
   "metadata": {},
   "outputs": [
    {
     "name": "stdout",
     "output_type": "stream",
     "text": [
      "Job created successfully, explore it at https://hopsworks.ai.local/p/120/jobs/named/my_alert_job\n"
     ]
    }
   ],
   "source": [
    "my_job = jobs_api.create_job(JOB_NAME, python_config)"
   ]
  },
  {
   "cell_type": "code",
   "execution_count": null,
   "id": "bd9746e6-7be7-4e58-9880-e430395d6731",
   "metadata": {},
   "outputs": [
    {
     "data": {
      "text/plain": [
       "JobAlert(1, 'my_alert_job', 'FINISHED', 'INFO', 'project2__slack', '2025-07-01T07:32:15.000Z', None)"
      ]
     },
     "execution_count": 13,
     "metadata": {},
     "output_type": "execute_result"
    }
   ],
   "source": [
    "# Create an alert that will be triggered by this job\n",
    "my_job.create_alert(receiver=\"slack\", status=\"finished\", severity=\"info\")"
   ]
  },
  {
   "cell_type": "code",
   "execution_count": null,
   "id": "8466b032-442a-446f-ae3d-6546d0dbf025",
   "metadata": {},
   "outputs": [
    {
     "name": "stdout",
     "output_type": "stream",
     "text": [
      "Launching job: my_alert_job\n",
      "Job started successfully, you can follow the progress at \n",
      "https://hopsworks.ai.local/p/120/jobs/named/my_alert_job/executions\n",
      "2025-07-01 07:32:18,798 INFO: Waiting for execution to finish. Current state: INITIALIZING\n",
      "2025-07-01 07:32:21,850 INFO: Waiting for execution to finish. Current state: RUNNING\n",
      "2025-07-01 07:34:32,912 INFO: Waiting for execution to finish. Current state: FAILED\n",
      "2025-07-01 07:34:33,061 INFO: Waiting for log aggregation to finish.\n",
      "2025-07-01 07:34:33,062 ERROR: Execution failed with status: FAILED. See the logs for more information.\n"
     ]
    }
   ],
   "source": [
    "execution = my_job.run(args=\"--arg1 fail\", await_termination=True)"
   ]
  },
  {
   "cell_type": "code",
   "execution_count": null,
   "id": "a09131d2-fbe3-4ca2-b757-75ff273d3f60",
   "metadata": {},
   "outputs": [
    {
     "data": {
      "text/plain": [
       "[TriggeredAlert({'alertname': 'JobExecution', 'execution_id': '23', 'job': 'my_alert_job', 'project': 'project2', 'severity': 'warning', 'status': 'Failed', 'type': 'project-alert'}, {'description': 'Job=my_alert_job with executionId=23 failed', 'summary': 'Job Failed', 'title': 'my_alert_job'}, [{'name': 'project2__slack'}], AlertStatus('active', [], []), '50d8f75d11f23f57', '2025-07-01T07:34:30.664Z', '2025-07-01T07:39:30.664Z', '2025-07-01T07:34:30.664Z', None)]"
      ]
     },
     "execution_count": 15,
     "metadata": {},
     "output_type": "execute_result"
    }
   ],
   "source": [
    "# Check if the project alert was triggered.\n",
    "triggered_alert = alerts_api.get_triggered_alerts()\n",
    "triggered_alert"
   ]
  },
  {
   "cell_type": "code",
   "execution_count": null,
   "id": "ac59bbdd-d961-4938-a108-55cc994b24a4",
   "metadata": {},
   "outputs": [
    {
     "name": "stdout",
     "output_type": "stream",
     "text": [
      "Launching job: my_alert_job\n",
      "Job started successfully, you can follow the progress at \n",
      "https://hopsworks.ai.local/p/120/jobs/named/my_alert_job/executions\n",
      "2025-07-01 07:34:36,475 INFO: Waiting for execution to finish. Current state: RUNNING\n",
      "2025-07-01 07:36:47,608 INFO: Waiting for execution to finish. Current state: FINISHED\n",
      "2025-07-01 07:36:47,759 INFO: Waiting for log aggregation to finish.\n",
      "2025-07-01 07:36:47,760 INFO: Execution finished successfully.\n"
     ]
    }
   ],
   "source": [
    "execution = my_job.run(args=\"--arg1 success\", await_termination=True)"
   ]
  },
  {
   "cell_type": "code",
   "execution_count": null,
   "id": "097daf68-9e7c-411c-90fb-13042378a958",
   "metadata": {},
   "outputs": [
    {
     "data": {
      "text/plain": [
       "[TriggeredAlert({'alertname': 'JobExecution', 'execution_id': '23', 'job': 'my_alert_job', 'project': 'project2', 'severity': 'warning', 'status': 'Failed', 'type': 'project-alert'}, {'description': 'Job=my_alert_job with executionId=23 failed', 'summary': 'Job Failed', 'title': 'my_alert_job'}, [{'name': 'project2__slack'}], AlertStatus('active', [], []), '50d8f75d11f23f57', '2025-07-01T07:34:30.664Z', '2025-07-01T07:39:30.664Z', '2025-07-01T07:34:30.664Z', None),\n",
       " TriggeredAlert({'alertname': 'JobExecution', 'execution_id': '24', 'job': 'my_alert_job', 'project': 'project2', 'severity': 'info', 'status': 'Finished', 'type': 'project-alert'}, {'description': 'Job=my_alert_job with executionId=24 finished', 'summary': 'Job Finished', 'title': 'my_alert_job'}, [{'name': 'project2__slack'}], AlertStatus('active', [], []), 'c1eb36403d29996f', '2025-07-01T07:36:45.658Z', '2025-07-01T07:41:45.658Z', '2025-07-01T07:36:45.658Z', None)]"
      ]
     },
     "execution_count": 17,
     "metadata": {},
     "output_type": "execute_result"
    }
   ],
   "source": [
    "# Check if the job alert was triggered.\n",
    "triggered_alert = alerts_api.get_triggered_alerts()\n",
    "triggered_alert"
   ]
  },
  {
   "cell_type": "markdown",
   "id": "a2bd2009-3adf-4f48-89ad-6aa1746120f3",
   "metadata": {},
   "source": [
    "If you have configured slack correctly you should get two alerts."
   ]
  },
  {
   "cell_type": "markdown",
   "id": "8302b562-5f2f-4a40-9fb7-e5b134a3bf4e",
   "metadata": {},
   "source": [
    "![Slack alert](../images/job_alerts.png)"
   ]
  },
  {
   "cell_type": "markdown",
   "id": "2a695731-2819-4310-869c-24d20506e398",
   "metadata": {},
   "source": [
    "## Triggering an alert"
   ]
  },
  {
   "cell_type": "markdown",
   "id": "1e809121-26bc-421a-8bfd-392ac22424fd",
   "metadata": {},
   "source": [
    "You can also trigger an alert directly from code."
   ]
  },
  {
   "cell_type": "code",
   "execution_count": 18,
   "id": "b3c8e678-7849-49f2-8ea3-4567daf623da",
   "metadata": {},
   "outputs": [
    {
     "name": "stdout",
     "output_type": "stream",
     "text": [
      "2025-07-01 07:36:48,009 INFO: Waiting for route to be created.\n",
      "2025-07-01 07:36:58,083 INFO: Route created.\n"
     ]
    }
   ],
   "source": [
    "alerts_api.trigger_alert(receiver_name=\"slack\", title=\"Test alert api\", summary=\"Alert summary\", description=\"Alert description\", severity=\"info\", status=\"script_finished\", name=\"AlertApi\")"
   ]
  },
  {
   "cell_type": "code",
   "execution_count": 19,
   "id": "34aa5329-5915-4e1f-a401-c49873771702",
   "metadata": {},
   "outputs": [
    {
     "data": {
      "text/plain": [
       "[TriggeredAlert({'alertname': 'JobExecution', 'execution_id': '23', 'job': 'my_alert_job', 'project': 'project2', 'severity': 'warning', 'status': 'Failed', 'type': 'project-alert'}, {'description': 'Job=my_alert_job with executionId=23 failed', 'summary': 'Job Failed', 'title': 'my_alert_job'}, [{'name': 'project2__slack'}], AlertStatus('active', [], []), '50d8f75d11f23f57', '2025-07-01T07:34:30.664Z', '2025-07-01T07:39:30.664Z', '2025-07-01T07:34:30.664Z', None),\n",
       " TriggeredAlert({'alertname': 'AlertApi', 'api': 'alerts-api', 'project': 'project2', 'severity': 'info', 'status': 'script_finished', 'type': 'project-alert'}, {'description': 'Alert description', 'summary': 'Alert summary', 'title': 'Test alert api'}, [{'name': 'project2__slack'}], AlertStatus('active', [], []), '9531696f463138f9', '2025-07-01T07:36:58.114Z', '2025-07-01T07:41:58.114Z', '2025-07-01T07:36:58.114Z', None),\n",
       " TriggeredAlert({'alertname': 'JobExecution', 'execution_id': '24', 'job': 'my_alert_job', 'project': 'project2', 'severity': 'info', 'status': 'Finished', 'type': 'project-alert'}, {'description': 'Job=my_alert_job with executionId=24 finished', 'summary': 'Job Finished', 'title': 'my_alert_job'}, [{'name': 'project2__slack'}], AlertStatus('active', [], []), 'c1eb36403d29996f', '2025-07-01T07:36:45.658Z', '2025-07-01T07:41:45.658Z', '2025-07-01T07:36:45.658Z', None)]"
      ]
     },
     "execution_count": 19,
     "metadata": {},
     "output_type": "execute_result"
    }
   ],
   "source": [
    "alerts_api.get_triggered_alerts()"
   ]
  },
  {
   "cell_type": "markdown",
   "id": "6faad8ee-cab3-40f2-acc4-34dfb052c354",
   "metadata": {},
   "source": [
    "![Triggering an alert](../images/script_alert.png)"
   ]
  },
  {
   "cell_type": "code",
   "execution_count": null,
   "id": "920cb881-16d0-4901-8706-07e78f50443d",
   "metadata": {},
   "outputs": [],
   "source": []
  }
 ],
 "metadata": {
  "kernelspec": {
   "display_name": "Python",
   "language": "python",
   "name": "python3"
  },
  "language_info": {
   "codemirror_mode": {
    "name": "ipython",
    "version": 3
   },
   "file_extension": ".py",
   "mimetype": "text/x-python",
   "name": "python",
   "nbconvert_exporter": "python",
   "pygments_lexer": "ipython3",
   "version": "3.10.11"
  }
 },
 "nbformat": 4,
 "nbformat_minor": 5
}
