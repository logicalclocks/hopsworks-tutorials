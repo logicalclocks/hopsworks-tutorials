{
 "cells": [
  {
   "cell_type": "markdown",
   "id": "d5e7eaa0",
   "metadata": {},
   "source": [
    "# Tweets parsing example using [Tweepy](https://docs.tweepy.org/en/v3.5.0/index.html) "
   ]
  },
  {
   "cell_type": "code",
   "execution_count": 1,
   "id": "2670c47d",
   "metadata": {},
   "outputs": [],
   "source": [
    "# !pip install tweepy"
   ]
  },
  {
   "cell_type": "code",
   "execution_count": 2,
   "id": "b4d27771",
   "metadata": {},
   "outputs": [
    {
     "name": "stdout",
     "output_type": "stream",
     "text": [
      "Name: tweepy\n",
      "Version: 4.10.0\n",
      "Summary: Twitter library for Python\n",
      "Home-page: https://www.tweepy.org/\n",
      "Author: Joshua Roesslein\n",
      "Author-email: tweepy@googlegroups.com\n",
      "License: MIT\n",
      "Location: c:\\users\\rkaha\\documents\\hopsworks\\venv38\\lib\\site-packages\n",
      "Requires: oauthlib, requests, requests-oauthlib\n",
      "Required-by: \n"
     ]
    }
   ],
   "source": [
    "!pip show tweepy"
   ]
  },
  {
   "cell_type": "markdown",
   "id": "c1912714",
   "metadata": {},
   "source": [
    "## Don not forget to place `.env` config file in the same dir!"
   ]
  },
  {
   "cell_type": "code",
   "execution_count": 3,
   "id": "50fe0042",
   "metadata": {},
   "outputs": [],
   "source": [
    "import datetime\n",
    "import pandas as pd\n",
    "import tweepy\n",
    "import os #provides ways to access the Operating System and allows us to read the environment variables"
   ]
  },
  {
   "cell_type": "code",
   "execution_count": 4,
   "id": "3f6eccdd",
   "metadata": {},
   "outputs": [
    {
     "data": {
      "text/plain": [
       "True"
      ]
     },
     "execution_count": 4,
     "metadata": {},
     "output_type": "execute_result"
    }
   ],
   "source": [
    "from dotenv import load_dotenv\n",
    "load_dotenv()"
   ]
  },
  {
   "cell_type": "code",
   "execution_count": 5,
   "id": "84e6bae9",
   "metadata": {},
   "outputs": [],
   "source": [
    "def get_api():\n",
    "    TWITTER_API_KEY = os.getenv(\"TWITTER_API_KEY\")\n",
    "    TWITTER_API_SECRET = os.getenv(\"TWITTER_API_SECRET\")\n",
    "\n",
    "    TWITTER_ACCESS_TOKEN = os.getenv(\"TWITTER_ACCESS_TOKEN\")\n",
    "    TWITTER_ACCESS_TOKEN_SECRET = os.getenv(\"TWITTER_ACCESS_TOKEN_SECRET\")\n",
    "\n",
    "        # Check for env variables in Heroku\n",
    "#     print(TWITTER_API_KEY, \"- TWITTER_API_KEY\")\n",
    "#     print(BINANCE_API_KEY, \"- BINANCE_API_KEY\")\n",
    "\n",
    "    authentificate = tweepy.OAuthHandler(TWITTER_API_KEY, TWITTER_API_SECRET)\n",
    "    authentificate.set_access_token(TWITTER_ACCESS_TOKEN, TWITTER_ACCESS_TOKEN_SECRET)\n",
    "    api = tweepy.API(authentificate, wait_on_rate_limit=True)\n",
    "\n",
    "    return api"
   ]
  },
  {
   "cell_type": "code",
   "execution_count": 6,
   "id": "73675111",
   "metadata": {},
   "outputs": [],
   "source": [
    "def basic_cleaning(full_text):\n",
    "    \"\"\"\n",
    "    Some tweets (if they are replies) start with \"RT @twitter_user: blabla...\"\n",
    "    Some tweets start with \"@TwitterUser blabla...\"\n",
    "    So I will delete these pieces and leave only payloads.\n",
    "    \"\"\"\n",
    "\n",
    "    if full_text[:2] == \"RT\":\n",
    "        return \" \".join(full_text.split()[2:])\n",
    "    if full_text[0] == \"@\":\n",
    "        words = full_text.split()\n",
    "        return \" \".join([word for word in words if not word.startswith(\"@\")])\n",
    "\n",
    "    return full_text"
   ]
  },
  {
   "cell_type": "code",
   "execution_count": 7,
   "id": "af9b9ada",
   "metadata": {},
   "outputs": [],
   "source": [
    "twitter_accounts = ['APompliano', 'AltcoinSara', 'BVBTC', 'BitBoy_Crypto',\n",
    "                     'CamiRusso', 'CryptoCred', 'CryptoWendyO', 'ErikVoorhees',\n",
    "                     'Excellion', 'IvanOnTech', 'KennethBosak', 'LayahHeilpern',\n",
    "                     'Matt_Hougan', 'Natbrunell', 'Nicholas_Merten', 'RAFAELA_RIGO_',\n",
    "                     'SBF_FTX', 'SatoshiLite', 'SheldonEvans', 'TimDraper',\n",
    "                     'ToneVays', 'VitalikButerin', 'WhalePanda', 'aantonop',\n",
    "                     'aantop', 'adam3us', 'bgarlinghouse', 'bhorowitz', 'brockpierce',\n",
    "                     'cz_binance', 'danheld', 'elonmusk', 'ethereumJoseph',\n",
    "                     'girlgone_crypto', 'justinsuntron', 'officialmcafee',\n",
    "                     'rogerkver', 'saylor', 'thebrianjung']\n",
    "\n",
    "\n",
    "def get_last_tweets(query=\"#btc OR #bitcoin from:\", twitter_accounts=twitter_accounts, n_tweets=1000):\n",
    "    \"\"\"\n",
    "    Returns a DataFrame with tweets of specific topic (use query argument), ~ for last 9 days.\n",
    "    Iterates through every twitter account from 'twitter_accounts' list\n",
    "\n",
    "    - query:\n",
    "        str, more info, operators for Twitter API, examples:\n",
    "            https://developer.twitter.com/en/docs/twitter-api/v1/rules-and-filtering/search-operators\n",
    "\n",
    "    - twitter_accounts:\n",
    "     list, list of Twitter usernames, whose tweets we are going to parse.\n",
    "    - n_tweets:\n",
    "        int, number of tweets that we want to retrieve per each account.\n",
    "        (often smaller amount will be retrieved because of Twitter timerange restrictions)\n",
    "    \"\"\"\n",
    "\n",
    "    df = pd.DataFrame(columns=[\"created_at\", \"full_text\"])\n",
    "\n",
    "    api = get_api()\n",
    "\n",
    "    for twitter_acc in twitter_accounts:\n",
    "\n",
    "        search_query = query + twitter_acc\n",
    "\n",
    "        #date_until = \"2022-06-26\"\n",
    "        tweets_cursor = tweepy.Cursor(api.search_tweets,\n",
    "                           q=search_query,\n",
    "                           lang=\"en\",\n",
    "                           tweet_mode=\"extended\",\n",
    "                           #until=date_until\n",
    "                           ).items(n_tweets)\n",
    "        json_data = [r._json for r in tweets_cursor]\n",
    "\n",
    "        try:\n",
    "            temp_df = pd.json_normalize(json_data) [[\"created_at\", \"full_text\"]]\n",
    "        except KeyError:\n",
    "            continue\n",
    "\n",
    "\n",
    "        temp_df.full_text = temp_df.full_text.apply(lambda x: basic_cleaning(x))\n",
    "\n",
    "        df = pd.concat([df, temp_df])\n",
    "\n",
    "    df = df.sort_values(by=[\"created_at\"])\n",
    "    df.reset_index(drop=True, inplace=True)\n",
    "    df['created_at'] = pd.to_datetime(df['created_at'])\n",
    "\n",
    "    df = df.rename(columns={\"created_at\":\"date\", \"full_text\":\"text\"})\n",
    "\n",
    "    return df"
   ]
  },
  {
   "cell_type": "code",
   "execution_count": 8,
   "id": "8205a533",
   "metadata": {
    "scrolled": true
   },
   "outputs": [],
   "source": [
    "df = get_last_tweets()"
   ]
  },
  {
   "cell_type": "code",
   "execution_count": 9,
   "id": "e4bf52b9",
   "metadata": {},
   "outputs": [
    {
     "data": {
      "text/plain": [
       "(148, 2)"
      ]
     },
     "execution_count": 9,
     "metadata": {},
     "output_type": "execute_result"
    }
   ],
   "source": [
    "df.shape"
   ]
  },
  {
   "cell_type": "code",
   "execution_count": 10,
   "id": "27b04565",
   "metadata": {},
   "outputs": [
    {
     "data": {
      "text/html": [
       "<div>\n",
       "<style scoped>\n",
       "    .dataframe tbody tr th:only-of-type {\n",
       "        vertical-align: middle;\n",
       "    }\n",
       "\n",
       "    .dataframe tbody tr th {\n",
       "        vertical-align: top;\n",
       "    }\n",
       "\n",
       "    .dataframe thead th {\n",
       "        text-align: right;\n",
       "    }\n",
       "</style>\n",
       "<table border=\"1\" class=\"dataframe\">\n",
       "  <thead>\n",
       "    <tr style=\"text-align: right;\">\n",
       "      <th></th>\n",
       "      <th>date</th>\n",
       "      <th>text</th>\n",
       "    </tr>\n",
       "  </thead>\n",
       "  <tbody>\n",
       "    <tr>\n",
       "      <th>143</th>\n",
       "      <td>2022-08-24 17:09:10+00:00</td>\n",
       "      <td>Our startup, @drapervc @arkhamintel describes ...</td>\n",
       "    </tr>\n",
       "    <tr>\n",
       "      <th>144</th>\n",
       "      <td>2022-08-24 18:30:16+00:00</td>\n",
       "      <td>✨ Exactly 5 years ago, #Bitcoin activated one ...</td>\n",
       "    </tr>\n",
       "    <tr>\n",
       "      <th>145</th>\n",
       "      <td>2022-08-24 18:32:21+00:00</td>\n",
       "      <td>\"I have a pension fund myself. I wish I could ...</td>\n",
       "    </tr>\n",
       "    <tr>\n",
       "      <th>146</th>\n",
       "      <td>2022-08-24 20:02:37+00:00</td>\n",
       "      <td>I paid off my own student loans. \\nBefore I ow...</td>\n",
       "    </tr>\n",
       "    <tr>\n",
       "      <th>147</th>\n",
       "      <td>2022-08-24 21:47:37+00:00</td>\n",
       "      <td>One more time for those in the back...\\n\\nNati...</td>\n",
       "    </tr>\n",
       "  </tbody>\n",
       "</table>\n",
       "</div>"
      ],
      "text/plain": [
       "                         date  \\\n",
       "143 2022-08-24 17:09:10+00:00   \n",
       "144 2022-08-24 18:30:16+00:00   \n",
       "145 2022-08-24 18:32:21+00:00   \n",
       "146 2022-08-24 20:02:37+00:00   \n",
       "147 2022-08-24 21:47:37+00:00   \n",
       "\n",
       "                                                  text  \n",
       "143  Our startup, @drapervc @arkhamintel describes ...  \n",
       "144  ✨ Exactly 5 years ago, #Bitcoin activated one ...  \n",
       "145  \"I have a pension fund myself. I wish I could ...  \n",
       "146  I paid off my own student loans. \\nBefore I ow...  \n",
       "147  One more time for those in the back...\\n\\nNati...  "
      ]
     },
     "execution_count": 10,
     "metadata": {},
     "output_type": "execute_result"
    }
   ],
   "source": [
    "df.tail(5)"
   ]
  }
 ],
 "metadata": {
  "kernelspec": {
   "display_name": "Python 3 (ipykernel)",
   "language": "python",
   "name": "python3"
  },
  "language_info": {
   "codemirror_mode": {
    "name": "ipython",
    "version": 3
   },
   "file_extension": ".py",
   "mimetype": "text/x-python",
   "name": "python",
   "nbconvert_exporter": "python",
   "pygments_lexer": "ipython3",
   "version": "3.8.0"
  }
 },
 "nbformat": 4,
 "nbformat_minor": 5
}
