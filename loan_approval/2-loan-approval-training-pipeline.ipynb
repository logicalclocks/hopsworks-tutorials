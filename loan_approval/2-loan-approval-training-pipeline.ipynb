{
 "cells": [
  {
   "cell_type": "markdown",
   "id": "ea002020",
   "metadata": {
    "papermill": {
     "duration": 0.029083,
     "end_time": "2023-01-31T14:11:23.008968",
     "exception": false,
     "start_time": "2023-01-31T14:11:22.979885",
     "status": "completed"
    },
    "tags": []
   },
   "source": [
    "# <span style=\"color:#ff5f27;\"> 🏦 Loan Analysis Training Pipeline</span>\n",
    "\n",
    "https://www.kaggle.com/code/faressayah/lending-club-loan-defaulters-prediction \n",
    "\n",
    "\n",
    "This notebook:\n",
    "\n",
    " * selects features from feature groups to create a feature view\n",
    " * creates train/test data with the feature view\n",
    " * trains a model to predict loan approvals with the training set\n",
    " * evaluates the model on the test set\n",
    " * uploads the model along with evaluation data to Hopsworks"
   ]
  },
  {
   "cell_type": "markdown",
   "id": "d446dbd1",
   "metadata": {},
   "source": [
    "## <span style=\"color:#ff5f27;\">📝 Imports </span>\n"
   ]
  },
  {
   "cell_type": "code",
   "execution_count": null,
   "id": "1f8de2a6",
   "metadata": {},
   "outputs": [],
   "source": [
    "!pip install --quiet hopsworks "
   ]
  },
  {
   "cell_type": "code",
   "execution_count": null,
   "id": "e0b5ebdf",
   "metadata": {
    "_kg_hide-input": true,
    "papermill": {
     "duration": 9.198485,
     "end_time": "2023-01-31T14:11:44.334641",
     "exception": false,
     "start_time": "2023-01-31T14:11:35.136156",
     "status": "completed"
    },
    "tags": []
   },
   "outputs": [],
   "source": [
    "import pandas as pd\n",
    "import matplotlib.pyplot as plt\n",
    "import joblib\n",
    "import os\n",
    "import warnings\n",
    "warnings.filterwarnings('ignore')\n",
    "from sklearn.metrics import (\n",
    "    accuracy_score, \n",
    "    confusion_matrix, \n",
    "    classification_report, \n",
    "    roc_auc_score,\n",
    ")\n",
    "from sklearn.metrics import ConfusionMatrixDisplay, RocCurveDisplay\n",
    "from sklearn.linear_model import LogisticRegression\n",
    "from sklearn.compose import ColumnTransformer\n",
    "from sklearn.pipeline import Pipeline\n",
    "from sklearn.impute import SimpleImputer\n",
    "from sklearn.preprocessing import StandardScaler, OneHotEncoder\n",
    "from sklearn.feature_selection import SelectPercentile, chi2\n",
    "\n",
    "pd.set_option('display.float', '{:.2f}'.format)\n",
    "pd.set_option('display.max_columns', 50)\n",
    "pd.set_option('display.max_rows', 50)"
   ]
  },
  {
   "cell_type": "markdown",
   "id": "2c80b367",
   "metadata": {},
   "source": [
    "## <span style=\"color:#ff5f27;\"> 🔮 Connect to Hopsworks Feature Store</span>"
   ]
  },
  {
   "cell_type": "code",
   "execution_count": null,
   "id": "5b5e80d7",
   "metadata": {},
   "outputs": [],
   "source": [
    "import hopsworks\n",
    "\n",
    "project = hopsworks.login()\n",
    "\n",
    "fs = project.get_feature_store()"
   ]
  },
  {
   "cell_type": "markdown",
   "id": "bb9ddbce",
   "metadata": {
    "papermill": {
     "duration": 0.158827,
     "end_time": "2023-01-31T14:13:11.421049",
     "exception": false,
     "start_time": "2023-01-31T14:13:11.262222",
     "status": "completed"
    },
    "tags": []
   },
   "source": [
    "## <span style=\"color:#ff5f27;\">🪄 Create the Feature View</span>\n"
   ]
  },
  {
   "cell_type": "code",
   "execution_count": null,
   "id": "092ad164",
   "metadata": {},
   "outputs": [],
   "source": [
    "# Retrieve feature groups\n",
    "fg_loans = fs.get_feature_group(\n",
    "    name=\"loans\", \n",
    "    version=1,\n",
    ")\n",
    "\n",
    "fg_applicants = fs.get_feature_group(\n",
    "    name=\"applicants\", \n",
    "    version=1,\n",
    ")"
   ]
  },
  {
   "cell_type": "code",
   "execution_count": null,
   "id": "3c8d1156",
   "metadata": {},
   "outputs": [],
   "source": [
    "# Select features for training dataset\n",
    "selected_features = fg_loans.select_except([\"id\", \"issue_d\"]).join(\\\n",
    "            fg_applicants.select_except([\"earliest_cr_line\", \"earliest_cr_line_year\", \"id\"]))\n",
    "\n",
    "# Uncomment this if you would like to view your selected features\n",
    "# selected_features.show(5)"
   ]
  },
  {
   "cell_type": "code",
   "execution_count": null,
   "id": "a87c1044",
   "metadata": {},
   "outputs": [],
   "source": [
    "feature_view = fs.get_or_create_feature_view(\n",
    "    name=\"loans_approvals\", \n",
    "    version=1,\n",
    "    description=\"Loan applicant data\",\n",
    "    labels=[\"loan_status\"],\n",
    "    query=selected_features,\n",
    ")"
   ]
  },
  {
   "cell_type": "code",
   "execution_count": null,
   "id": "67c8efea",
   "metadata": {},
   "outputs": [],
   "source": [
    "X_train, X_test, y_train, y_test = feature_view.train_test_split(\n",
    "    test_size=0.2,\n",
    ")"
   ]
  },
  {
   "cell_type": "code",
   "execution_count": null,
   "id": "11bff38d",
   "metadata": {},
   "outputs": [],
   "source": [
    "X_test.head(3)"
   ]
  },
  {
   "cell_type": "code",
   "execution_count": null,
   "id": "2eb40a8a",
   "metadata": {},
   "outputs": [],
   "source": [
    "y_train.head(3)"
   ]
  },
  {
   "cell_type": "markdown",
   "id": "fa1add94",
   "metadata": {},
   "source": [
    "## <span style=\"color:#ff5f27;\">👩🏻‍🔬 Feature Transformation</span>\n"
   ]
  },
  {
   "cell_type": "code",
   "execution_count": null,
   "id": "8de9ec25",
   "metadata": {},
   "outputs": [],
   "source": [
    "# Map features to transformation functions using list comprehensions\n",
    "# Identify categorical features by checking the data type of each column\n",
    "categorical_features = [\n",
    "    col \n",
    "    for col \n",
    "    in X_train.columns \n",
    "    if X_train[col].dtype == object\n",
    "]\n",
    "\n",
    "# Identify numeric features by checking the data type of each column\n",
    "numeric_features = [\n",
    "    col \n",
    "    for col \n",
    "    in X_train.columns \n",
    "    if X_train[col].dtype != object\n",
    "]\n",
    "\n",
    "# Print the identified numeric and categorical features\n",
    "print(\"⛳️ Numeric Features:\", numeric_features)\n",
    "print(\"⛳️ Categorical Features:\", categorical_features)"
   ]
  },
  {
   "cell_type": "code",
   "execution_count": null,
   "id": "8e162d58",
   "metadata": {},
   "outputs": [],
   "source": [
    "# Define a numeric transformer pipeline\n",
    "numeric_transformer = Pipeline(\n",
    "    steps=[\n",
    "        # Impute missing values with the median and scale the numeric features\n",
    "        (\"imputer\", SimpleImputer(strategy=\"median\")), \n",
    "        (\"scaler\", StandardScaler()),\n",
    "    ]\n",
    ")\n",
    "\n",
    "# Define a categorical transformer pipeline\n",
    "categorical_transformer = Pipeline(\n",
    "    steps=[\n",
    "        # Encode categorical features using one-hot encoding and select top features using chi-squared test\n",
    "        (\"encoder\", OneHotEncoder(handle_unknown=\"ignore\")),\n",
    "        (\"selector\", SelectPercentile(chi2, percentile=50)),\n",
    "    ]\n",
    ")\n",
    "\n",
    "# Use ColumnTransformer to apply transformers to different subsets of columns\n",
    "# Here, numeric features are processed by the numeric_transformer,\n",
    "# and categorical features are processed by the categorical_transformer\n",
    "preprocessor = ColumnTransformer(\n",
    "    transformers=[\n",
    "        (\"num\", numeric_transformer, numeric_features),          # Apply numeric transformer to numeric features\n",
    "        (\"cat\", categorical_transformer, categorical_features),  # Apply categorical transformer to categorical features\n",
    "    ]\n",
    ")"
   ]
  },
  {
   "cell_type": "code",
   "execution_count": null,
   "id": "01aab79e",
   "metadata": {},
   "outputs": [],
   "source": [
    "# Map the 'loan_status' column in y_train to binary labels\n",
    "y_train['loan_status'] = y_train.loan_status.map({'Fully Paid': 1, 'Charged Off': 0})\n",
    "\n",
    "# Map the 'loan_status' column in y_test to binary labels\n",
    "y_test['loan_status'] = y_test.loan_status.map({'Fully Paid': 1, 'Charged Off': 0})"
   ]
  },
  {
   "cell_type": "code",
   "execution_count": null,
   "id": "9f369b4c",
   "metadata": {},
   "outputs": [],
   "source": [
    "y_train.head()"
   ]
  },
  {
   "cell_type": "markdown",
   "id": "cdba44c9",
   "metadata": {
    "papermill": {
     "duration": 0.162943,
     "end_time": "2023-01-31T14:13:13.083170",
     "exception": false,
     "start_time": "2023-01-31T14:13:12.920227",
     "status": "completed"
    },
    "tags": []
   },
   "source": [
    "## <span style=\"color:#ff5f27;\">🤖 Models Building</span>\n"
   ]
  },
  {
   "cell_type": "code",
   "execution_count": null,
   "id": "f4a7ab73",
   "metadata": {
    "papermill": {
     "duration": 0.176326,
     "end_time": "2023-01-31T14:13:13.711748",
     "exception": false,
     "start_time": "2023-01-31T14:13:13.535422",
     "status": "completed"
    },
    "tags": []
   },
   "outputs": [],
   "source": [
    "def print_score(true, pred, train=True):\n",
    "    if train:\n",
    "        clf_report = pd.DataFrame(classification_report(true, pred, output_dict=True))\n",
    "        print(\"Train Result:\\n================================================\")\n",
    "        print(f\"Accuracy Score: {accuracy_score(true, pred) * 100:.2f}%\")\n",
    "        print(\"_______________________________________________\")\n",
    "        print(f\"CLASSIFICATION REPORT:\\n{clf_report}\")\n",
    "        print(\"_______________________________________________\")\n",
    "        print(f\"Confusion Matrix: \\n {confusion_matrix(true, pred)}\\n\")\n",
    "        \n",
    "    elif train==False:\n",
    "        clf_report = pd.DataFrame(classification_report(true, pred, output_dict=True))\n",
    "        print(\"Test Result:\\n================================================\")        \n",
    "        print(f\"Accuracy Score: {accuracy_score(true, pred) * 100:.2f}%\")\n",
    "        print(\"_______________________________________________\")\n",
    "        print(f\"CLASSIFICATION REPORT:\\n{clf_report}\")\n",
    "        print(\"_______________________________________________\")\n",
    "        print(f\"Confusion Matrix: \\n {confusion_matrix(true, pred)}\\n\")"
   ]
  },
  {
   "cell_type": "code",
   "execution_count": null,
   "id": "14760c12",
   "metadata": {},
   "outputs": [],
   "source": [
    "# Create a pipeline with preprocessing and a logistic regression classifier\n",
    "clf = Pipeline(\n",
    "    steps=[\n",
    "        (\"preprocessor\", preprocessor),  # Apply the specified preprocessor (ColumnTransformer)\n",
    "        (\"classifier\", LogisticRegression()),  # Use Logistic Regression as the classifier\n",
    "    ]\n",
    ")\n",
    "\n",
    "# Fit the pipeline on the training data\n",
    "clf.fit(X_train, y_train['loan_status'].ravel())"
   ]
  },
  {
   "cell_type": "code",
   "execution_count": null,
   "id": "30b316e7",
   "metadata": {},
   "outputs": [],
   "source": [
    "# Predictions on the training set\n",
    "y_train_pred = clf.predict(X_train)\n",
    "\n",
    "# Predictions on the test set\n",
    "y_test_pred = clf.predict(X_test)\n",
    "\n",
    "# Print performance scores for the training set\n",
    "print_score(y_train, y_train_pred, train=True)\n",
    "\n",
    "# Print performance scores for the test set\n",
    "print_score(y_test, y_test_pred, train=False)"
   ]
  },
  {
   "cell_type": "code",
   "execution_count": null,
   "id": "5924aa50",
   "metadata": {
    "papermill": {
     "duration": 2.472623,
     "end_time": "2023-01-31T14:32:40.633694",
     "exception": false,
     "start_time": "2023-01-31T14:32:38.161071",
     "status": "completed"
    },
    "tags": []
   },
   "outputs": [],
   "source": [
    "# Create a Confusion Matrix display from the classifier's predictions on the test set\n",
    "disp = ConfusionMatrixDisplay.from_estimator(\n",
    "    clf,  # Classifier pipeline\n",
    "    X_test,  # Test set features\n",
    "    y_test,  # True labels for the test set\n",
    "    cmap='Blues',  # Color map for the display\n",
    "    values_format='d',  # Format for the values in the display\n",
    "    display_labels=['Default', 'Fully-Paid'],  # Labels for the display\n",
    ")\n",
    "\n",
    "# Create a ROC Curve display from the classifier's predictions on the test set\n",
    "display = RocCurveDisplay.from_estimator(clf, X_test, y_test)\n",
    "\n",
    "# Plot the ROC Curve\n",
    "display.plot()"
   ]
  },
  {
   "cell_type": "markdown",
   "id": "70923c22",
   "metadata": {},
   "source": [
    "## <span style=\"color:#ff5f27;\">🗄️ Register the Model with Model Registry</span>\n"
   ]
  },
  {
   "cell_type": "code",
   "execution_count": null,
   "id": "61da403f",
   "metadata": {
    "papermill": {
     "duration": 1.025564,
     "end_time": "2023-01-31T14:35:05.140208",
     "exception": false,
     "start_time": "2023-01-31T14:35:04.114644",
     "status": "completed"
    },
    "tags": []
   },
   "outputs": [],
   "source": [
    "# Get the model registry\n",
    "mr = project.get_model_registry()"
   ]
  },
  {
   "cell_type": "code",
   "execution_count": null,
   "id": "cc22005a",
   "metadata": {},
   "outputs": [],
   "source": [
    "# Create a directory \"features\" within the \"lending_model\" directory, if it doesn't exist\n",
    "os.makedirs(\"lending_model/features\", exist_ok=True)\n",
    "\n",
    "# Save the ROC Curve plot as 'roc_curve.png' in the \"lending_model\" directory\n",
    "plt.savefig('lending_model/roc_curve.png')\n",
    "\n",
    "# Save the trained classifier pipeline as 'lending_model.pkl' in the \"lending_model\" directory\n",
    "joblib.dump(clf, 'lending_model/lending_model.pkl')\n",
    "\n",
    "# Calculate and print the ROC AUC score on the test set\n",
    "accuracy = roc_auc_score(y_test, clf.predict(X_test))\n",
    "print(\"⛳️ ROC AUC Score on Test Set:\", accuracy)"
   ]
  },
  {
   "cell_type": "markdown",
   "id": "647102d1",
   "metadata": {},
   "source": [
    "### <span style=\"color:#ff5f27;\">⚙️ Model Schema</span>\n",
    "\n",
    "The model needs to be set up with a [Model Schema](https://docs.hopsworks.ai/3.0/user_guides/mlops/registry/model_schema/), which describes the inputs and outputs for a model.\n",
    "\n",
    "A Model Schema can be automatically generated from training examples, as shown below."
   ]
  },
  {
   "cell_type": "code",
   "execution_count": null,
   "id": "20d2d6db",
   "metadata": {},
   "outputs": [],
   "source": [
    "from hsml.schema import Schema\n",
    "from hsml.model_schema import ModelSchema\n",
    "\n",
    "# Define an input schema\n",
    "input_schema = Schema(X_test)\n",
    "\n",
    "# Define an output schema\n",
    "output_schema = Schema(y_test)\n",
    "\n",
    "# Define a model schema\n",
    "model_schema = ModelSchema(\n",
    "    input_schema=input_schema,    # Specify the input schema\n",
    "    output_schema=output_schema,  # Specify the output schema\n",
    ")"
   ]
  },
  {
   "cell_type": "markdown",
   "id": "bbb513ea",
   "metadata": {},
   "source": [
    "## <span style=\"color:#ff5f27;\">📝 Register model</span>\n",
    "\n",
    "One of the features in Hopsworks is the model registry. This is where we can store different versions of models and compare their performance. Models from the registry can then be served as API endpoints."
   ]
  },
  {
   "cell_type": "code",
   "execution_count": null,
   "id": "a18cb44c",
   "metadata": {},
   "outputs": [],
   "source": [
    "# Create a sklearn model in the Model Registry\n",
    "fraud_model = mr.sklearn.create_model(\n",
    "    \"lending_model\",\n",
    "    metrics={'accuracy': accuracy},            # Specify metrics for the model\n",
    "    input_example=X_test.sample().to_numpy(),  # Provide an input example for the model\n",
    "    model_schema=model_schema,                 # Specify the model schema\n",
    ")\n",
    "\n",
    "# Save the created model in the \"lending_model\" directory\n",
    "fraud_model.save('lending_model')"
   ]
  },
  {
   "cell_type": "markdown",
   "id": "604caaa4",
   "metadata": {},
   "source": [
    "---\n",
    "## <span style=\"color:#ff5f27;\">⏭️ **Next:** Part 03: Batch Inference</span>\n",
    "\n",
    "In the following notebook you will use your model for batch inference.\n"
   ]
  }
 ],
 "metadata": {
  "kernelspec": {
   "display_name": "Python 3",
   "language": "python",
   "name": "python3"
  },
  "language_info": {
   "codemirror_mode": {
    "name": "ipython",
    "version": 3
   },
   "file_extension": ".py",
   "mimetype": "text/x-python",
   "name": "python",
   "nbconvert_exporter": "python",
   "pygments_lexer": "ipython3",
   "version": "3.10.11"
  },
  "papermill": {
   "default_parameters": {},
   "duration": 1434.559462,
   "end_time": "2023-01-31T14:35:09.548746",
   "environment_variables": {},
   "exception": null,
   "input_path": "__notebook__.ipynb",
   "output_path": "__notebook__.ipynb",
   "parameters": {},
   "start_time": "2023-01-31T14:11:14.989284",
   "version": "2.3.4"
  }
 },
 "nbformat": 4,
 "nbformat_minor": 5
}
