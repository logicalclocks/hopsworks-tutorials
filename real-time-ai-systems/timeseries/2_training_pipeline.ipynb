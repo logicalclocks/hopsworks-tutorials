{
 "cells": [
  {
   "cell_type": "markdown",
   "id": "498c0916",
   "metadata": {},
   "source": [
    "## <span style=\"color:#ff5f27\">📝 Imports </span>"
   ]
  },
  {
   "cell_type": "code",
   "execution_count": null,
   "id": "5cfe0245",
   "metadata": {},
   "outputs": [],
   "source": [
    "!pip install -U kaleido --quiet # For Plotly Image export"
   ]
  },
  {
   "cell_type": "code",
   "execution_count": null,
   "id": "bfc0071e",
   "metadata": {},
   "outputs": [],
   "source": [
    "import pandas as pd\n",
    "import numpy as np\n",
    "import xgboost as xgb\n",
    "from sklearn.metrics import mean_squared_error\n",
    "import os\n",
    "import joblib\n",
    "from features.price import plot_prediction_test\n",
    "from functions import predict_id\n",
    "from datetime import datetime\n",
    "import warnings\n",
    "warnings.filterwarnings('ignore')"
   ]
  },
  {
   "cell_type": "markdown",
   "id": "95952e61",
   "metadata": {},
   "source": [
    "## <span style=\"color:#ff5f27\">🔮 Connect to Hopsworks Feature Store </span>"
   ]
  },
  {
   "cell_type": "code",
   "execution_count": null,
   "id": "6f24908b",
   "metadata": {},
   "outputs": [],
   "source": [
    "import hopsworks\n",
    "\n",
    "project = hopsworks.login()\n",
    "\n",
    "fs = project.get_feature_store() "
   ]
  },
  {
   "cell_type": "code",
   "execution_count": null,
   "id": "c94da3e0",
   "metadata": {},
   "outputs": [],
   "source": [
    "# Retrieve feature groups\n",
    "averages_fg = fs.get_feature_group(\n",
    "    name='averages',\n",
    "    version=1,\n",
    ")\n",
    "\n",
    "prices_fg = fs.get_feature_group(\n",
    "    name='prices',\n",
    "    version=1,\n",
    ")"
   ]
  },
  {
   "cell_type": "markdown",
   "id": "4ec81684",
   "metadata": {},
   "source": [
    "## <span style=\"color:#ff5f27\">🔪 Feature Selection </span>"
   ]
  },
  {
   "cell_type": "code",
   "execution_count": null,
   "id": "acdab503",
   "metadata": {},
   "outputs": [],
   "source": [
    "# Select features for training data\n",
    "selected_features = prices_fg.select_all() \\\n",
    "    .join(averages_fg.select_features())\n",
    "\n",
    "# Uncomment this if you would like to view your selected features\n",
    "# selected_features.show(5)"
   ]
  },
  {
   "cell_type": "markdown",
   "id": "8f229b63",
   "metadata": {},
   "source": [
    "## <span style=\"color:#ff5f27\">🤖 Transformation Functions </span>"
   ]
  },
  {
   "cell_type": "code",
   "execution_count": null,
   "id": "8f17a7fd",
   "metadata": {},
   "outputs": [],
   "source": [
    "# Import transformation functions from Hopsworks.\n",
    "from hopsworks.hsfs.builtin_transformations import min_max_scaler\n",
    "\n",
    "# Define a list of feature names\n",
    "feature_names = [\n",
    "    'ma_7', 'ma_14', 'ma_30', 'daily_rate_of_change', 'volatility_30_day', 'ema_02', 'ema_05', 'rsi'\n",
    "]\n",
    "\n",
    "# Map features to transformations\n",
    "transformation_functions = [\n",
    "    min_max_scaler(feature_name)\n",
    "    for feature_name in feature_names\n",
    "]\n",
    "transformation_functions"
   ]
  },
  {
   "cell_type": "markdown",
   "id": "4f7a0ddc",
   "metadata": {},
   "source": [
    "## <span style=\"color:#ff5f27\">⚙️ Feature View Creation </span>"
   ]
  },
  {
   "cell_type": "code",
   "execution_count": null,
   "id": "5530d33d",
   "metadata": {},
   "outputs": [],
   "source": [
    "# Get or create the 'price_fv' feature view\n",
    "feature_view = fs.get_or_create_feature_view(\n",
    "    name='price_fv',\n",
    "    version=1,\n",
    "    query=selected_features,\n",
    "    labels=[\"price\"],\n",
    "    transformation_functions=transformation_functions,\n",
    ")"
   ]
  },
  {
   "cell_type": "markdown",
   "id": "9b7b990d",
   "metadata": {},
   "source": [
    "## <span style=\"color:#ff5f27\">🏋️ Training Dataset Creation </span>"
   ]
  },
  {
   "cell_type": "code",
   "execution_count": null,
   "id": "b29122da",
   "metadata": {},
   "outputs": [],
   "source": [
    "# Get training and testing sets\n",
    "X_train, X_test, y_train, y_test = feature_view.train_test_split(\n",
    "    description='Prices Dataset',                    # Provide a description for the dataset split\n",
    "    train_start='2024-01-01',                        # Start date for the training set\n",
    "    train_end='2024-08-31',                          # End date for the training set\n",
    "    test_start='2024-09-01',                         # Start date for the testing set\n",
    "    test_end=datetime.today().strftime(\"%Y-%m-%d\"),  # End date for the testing set (current date)\n",
    ")"
   ]
  },
  {
   "cell_type": "code",
   "execution_count": null,
   "id": "37f8dee1",
   "metadata": {},
   "outputs": [],
   "source": [
    "X_train.head(3)"
   ]
  },
  {
   "cell_type": "code",
   "execution_count": null,
   "id": "c5ccc97b",
   "metadata": {},
   "outputs": [],
   "source": [
    "y_train.head(3)"
   ]
  },
  {
   "cell_type": "code",
   "execution_count": null,
   "id": "623b86dd",
   "metadata": {},
   "outputs": [],
   "source": [
    "# Sort the training features by the 'date' column\n",
    "X_train = X_train.sort_values(\"date\")\n",
    "\n",
    "# Reindex the target 'y_train' to match the sorted order of 'X_train'\n",
    "y_train = y_train.reindex(X_train.index)\n",
    "\n",
    "# Sort the testing features by the 'date' column\n",
    "X_test = X_test.sort_values(\"date\")\n",
    "\n",
    "# Reindex the target 'y_test' to match the sorted order of 'X_test'\n",
    "y_test = y_test.reindex(X_test.index)\n",
    "\n",
    "# Extract and store the 'date' column as a separate DataFrame for both training and testing sets\n",
    "train_date = pd.DataFrame(X_train.pop(\"date\"))\n",
    "test_date = pd.DataFrame(X_test.pop(\"date\"))"
   ]
  },
  {
   "cell_type": "markdown",
   "id": "c5816d56",
   "metadata": {},
   "source": [
    "## <span style=\"color:#ff5f27\">🧬 Modeling </span>\n",
    "\n",
    "We will use the XGBoost Regressor. XGBoost regressor is a powerful and highly effective machine learning algorithm for regression problems. XGBoost is known for its ability to handle complex relationships in the data, handle missing values, and provide accurate predictions. It's a popular choice in the data science community due to its robustness and excellent predictive performance, making it well-suited for our specific problem."
   ]
  },
  {
   "cell_type": "code",
   "execution_count": null,
   "id": "08cd06f5",
   "metadata": {},
   "outputs": [],
   "source": [
    "# Initialize the XGBoost regressor\n",
    "model = xgb.XGBRegressor()\n",
    "\n",
    "# Train the model on the training data\n",
    "model.fit(X_train, y_train)\n",
    "\n",
    "# Make predictions on the validation set\n",
    "y_test_pred = model.predict(X_test)\n",
    "\n",
    "# Calculate RMSE on the validation set\n",
    "mse = mean_squared_error(y_test, y_test_pred, squared=False)\n",
    "print(f\"🎯 Mean Squared Error (MSE): {mse}\")"
   ]
  },
  {
   "cell_type": "code",
   "execution_count": null,
   "id": "66d5920b",
   "metadata": {},
   "outputs": [],
   "source": [
    "# Make predictions for a specific ID (ID=1) using the 'predict_id' function\n",
    "prediction_for_id = predict_id(\n",
    "    1, \n",
    "    X_test, \n",
    "    model,\n",
    ")\n",
    "\n",
    "# Generate a Plotly figure for visualizing the predictions\n",
    "fig = plot_prediction_test(\n",
    "    1, \n",
    "    X_train, \n",
    "    X_test, \n",
    "    y_train, \n",
    "    y_test, \n",
    "    train_date, \n",
    "    test_date, \n",
    "    prediction_for_id,\n",
    ")\n",
    "\n",
    "# Display the generated Plotly figure\n",
    "fig.show()"
   ]
  },
  {
   "cell_type": "markdown",
   "id": "ed7546cf",
   "metadata": {},
   "source": [
    "## <span style=\"color:#ff5f27\">📝 Register model </span>"
   ]
  },
  {
   "cell_type": "code",
   "execution_count": null,
   "id": "dc1a9361-b9b7-4dca-ada0-e1db56fdd476",
   "metadata": {},
   "outputs": [],
   "source": [
    "# Create directories and save artifacts\n",
    "model_dir = \"price_model\"\n",
    "images_dir = os.path.join(model_dir, \"images\")\n",
    "os.makedirs(images_dir, exist_ok=True)"
   ]
  },
  {
   "cell_type": "code",
   "execution_count": null,
   "id": "794a44bd-7d05-444b-8c19-302f22b8f5b2",
   "metadata": {},
   "outputs": [],
   "source": [
    "# Save plots\n",
    "fig.write_image(\n",
    "    os.path.join(images_dir, \"model_prediction.png\")\n",
    ")"
   ]
  },
  {
   "cell_type": "code",
   "execution_count": null,
   "id": "a2ff2f0a",
   "metadata": {},
   "outputs": [],
   "source": [
    "# Save the trained XGBoost model using joblib\n",
    "joblib.dump(model, f'{model_dir}/xgboost_price_model.pkl')"
   ]
  },
  {
   "cell_type": "code",
   "execution_count": null,
   "id": "dfe0b9c7",
   "metadata": {},
   "outputs": [],
   "source": [
    "# Get the model registry from the project\n",
    "mr = project.get_model_registry()\n",
    "\n",
    "# Create a Python model in the model registry named 'xgboost_price_model'\n",
    "price_model = mr.python.create_model(\n",
    "    name=\"xgboost_price_model\", \n",
    "    description=\"Price Predictor\",  # Add a description for the model\n",
    "    metrics={\"MSE\": mse},           # Specify metrics (Mean Squared Error)\n",
    "    input_example=X_train.sample(), # Provide an example of the input data\n",
    "    feature_view=feature_view,      # Add a feature view to the model\n",
    ")\n",
    "\n",
    "# Save the model to the specified directory\n",
    "price_model.save(model_dir)"
   ]
  },
  {
   "cell_type": "markdown",
   "id": "bdb89574",
   "metadata": {},
   "source": [
    "## <span style=\"color:#ff5f27\">🚀 Model Deployment</span>\n",
    "\n",
    "**About Model Serving**\n",
    "\n",
    "Models can be served via KFServing or \"default\" serving, which means a Docker container exposing a Flask server. For KFServing models, or models written in Tensorflow, you do not need to write a prediction file (see the section below). However, for sklearn models using default serving, you do need to proceed to write a prediction file.\n",
    "\n",
    "In order to use KFServing, you must have Kubernetes installed and enabled on your cluster."
   ]
  },
  {
   "cell_type": "markdown",
   "id": "d3fadeb6",
   "metadata": {},
   "source": [
    "## <span style=\"color:#ff5f27\">📎 Predictor script for Python models</span>\n",
    "\n",
    "Scikit-learn and XGBoost models are deployed as Python models, in which case you need to provide a Predict class that implements the predict method. The `predict()` method invokes the model on the inputs and returns the prediction as a list.\n",
    "\n",
    "The `init()` method is run when the predictor is loaded into memory, loading the model from the local directory it is materialized to, ARTIFACT_FILES_PATH.\n",
    "\n",
    "The directive **\"%%writefile\"** writes out the cell before to the given Python file. We will use the **predict_example.py** file to create a deployment for our model."
   ]
  },
  {
   "cell_type": "code",
   "execution_count": null,
   "id": "74090322",
   "metadata": {},
   "outputs": [],
   "source": [
    "%%writefile predict_example.py\n",
    "import os\n",
    "import numpy as np\n",
    "import pandas as pd\n",
    "import hopsworks\n",
    "import joblib\n",
    "\n",
    "\n",
    "class Predict(object):\n",
    "\n",
    "    def __init__(self):\n",
    "        \"\"\" Initializes the serving state, reads a trained model\"\"\"        \n",
    "        # Get feature store handle\n",
    "        project = hopsworks.login()\n",
    "        mr = project.get_model_registry()\n",
    "        \n",
    "        # Retrieve the feature view from the model\n",
    "        retrieved_model = mr.get_model(\n",
    "            name=\"xgboost_price_model\",\n",
    "            version=1,\n",
    "        )\n",
    "        self.feature_view = retrieved_model.get_feature_view()\n",
    "\n",
    "        # Load the trained model\n",
    "        self.model = joblib.load(os.environ[\"MODEL_FILES_PATH\"] + \"/xgboost_price_model.pkl\")\n",
    "        print(\"✅ Initialization Complete\")\n",
    "\n",
    "    \n",
    "    def predict(self, id_value):\n",
    "        \"\"\" Serves a prediction request usign a trained model\"\"\"\n",
    "        # Retrieve feature vectors\n",
    "        feature_vector = self.feature_view.get_feature_vector(\n",
    "            entry = {'id': id_value[0][0]}\n",
    "        )\n",
    "        return self.model.predict(np.asarray(feature_vector[1:]).reshape(1, -1)).tolist()"
   ]
  },
  {
   "cell_type": "markdown",
   "id": "f21d7e08",
   "metadata": {},
   "source": [
    "This script needs to be put into a known location in the Hopsworks file system. Let's call the file predict_example.py and put it in the Models directory."
   ]
  },
  {
   "cell_type": "code",
   "execution_count": null,
   "id": "a2ba0131",
   "metadata": {},
   "outputs": [],
   "source": [
    "# Get the dataset API from the project\n",
    "dataset_api = project.get_dataset_api()\n",
    "\n",
    "# Upload the file \"predict_example.py\" to the \"Models\" dataset, overwriting if it already exists\n",
    "uploaded_file_path = dataset_api.upload(\"predict_example.py\", \"Models\", overwrite=True)\n",
    "\n",
    "# Create the full path to the uploaded predictor script\n",
    "predictor_script_path = os.path.join(\"/Projects\", project.name, uploaded_file_path)"
   ]
  },
  {
   "cell_type": "markdown",
   "id": "bf50feb9",
   "metadata": {},
   "source": [
    "---"
   ]
  },
  {
   "cell_type": "markdown",
   "id": "71b4628b",
   "metadata": {},
   "source": [
    "## <span style=\"color:#ff5f27\">🚀 Create the deployment</span>\n",
    "\n",
    "Here, you fetch the model you want from the model registry and define a configuration for the deployment. For the configuration, you need to specify the serving type (default or KFserving)."
   ]
  },
  {
   "cell_type": "code",
   "execution_count": null,
   "id": "e488c0d8",
   "metadata": {},
   "outputs": [],
   "source": [
    "# Deploy the 'price_model'\n",
    "deployment = price_model.deploy(\n",
    "    name=\"priceonlinemodeldeployment\",  # Specify the deployment name\n",
    "    script_file=predictor_script_path,  # Provide the path to the predictor script\n",
    ")"
   ]
  },
  {
   "cell_type": "code",
   "execution_count": null,
   "id": "e0ec51ee",
   "metadata": {},
   "outputs": [],
   "source": [
    "# Start the deployment and wait for it up to 360 seconds\n",
    "deployment.start(await_running=360)"
   ]
  },
  {
   "cell_type": "code",
   "execution_count": null,
   "id": "a97b5a4a",
   "metadata": {},
   "outputs": [],
   "source": [
    "# Get the current state of the deployment and describe it\n",
    "deployment_state = deployment.get_state().describe()"
   ]
  },
  {
   "cell_type": "code",
   "execution_count": null,
   "id": "cf1d59a2",
   "metadata": {},
   "outputs": [],
   "source": [
    "# Predict price for the 1 ID\n",
    "deployment.predict(inputs=[[1]])"
   ]
  },
  {
   "cell_type": "markdown",
   "id": "305557e3",
   "metadata": {},
   "source": [
    "---"
   ]
  }
 ],
 "metadata": {
  "kernelspec": {
   "display_name": "Python",
   "language": "python",
   "name": "python3"
  },
  "language_info": {
   "codemirror_mode": {
    "name": "ipython",
    "version": 3
   },
   "file_extension": ".py",
   "mimetype": "text/x-python",
   "name": "python",
   "nbconvert_exporter": "python",
   "pygments_lexer": "ipython3",
   "version": "3.10.11"
  }
 },
 "nbformat": 4,
 "nbformat_minor": 5
}
