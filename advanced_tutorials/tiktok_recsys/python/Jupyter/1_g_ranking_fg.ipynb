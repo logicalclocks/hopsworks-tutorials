{
 "cells": [
  {
   "cell_type": "markdown",
   "id": "74d2c263",
   "metadata": {},
   "source": [
    "## <span style='color:#ff5f27'> 📝 Imports"
   ]
  },
  {
   "cell_type": "code",
   "execution_count": null,
   "id": "4d06a1e5",
   "metadata": {},
   "outputs": [],
   "source": [
    "import pandas as pd\n",
    "import numpy as np"
   ]
  },
  {
   "cell_type": "markdown",
   "id": "06368b8b",
   "metadata": {},
   "source": [
    "## <span style=\"color:#ff5f27\">🔮 Connect to Hopsworks Feature Store </span>"
   ]
  },
  {
   "cell_type": "code",
   "execution_count": null,
   "id": "602d3d75",
   "metadata": {},
   "outputs": [],
   "source": [
    "import hopsworks\n",
    "\n",
    "project = hopsworks.login()\n",
    "\n",
    "fs = project.get_feature_store()"
   ]
  },
  {
   "cell_type": "markdown",
   "id": "5a19a172",
   "metadata": {},
   "source": [
    "## <span style=\"color:#ff5f27\">🪄 Fetch Feature Groups </span>"
   ]
  },
  {
   "cell_type": "code",
   "execution_count": null,
   "id": "ee7dee55",
   "metadata": {},
   "outputs": [],
   "source": [
    "users_fg = fs.get_feature_group(\n",
    "    name=\"users\",\n",
    "    version=1,\n",
    ")\n",
    "\n",
    "videos_fg = fs.get_feature_group(\n",
    "    name=\"videos\",\n",
    "    version=1,\n",
    ")\n",
    "\n",
    "interactions_fg = fs.get_feature_group(\n",
    "    name=\"interactions\",\n",
    "    version=1,\n",
    ")\n",
    "\n",
    "interactions_month_sincos_fg = fs.get_feature_group(\n",
    "    name=\"interactions_month_sincos\",\n",
    "    version=1,\n",
    ")\n",
    "\n",
    "query = interactions_fg.select_except(['interaction_id',  'watch_time', 'interaction_date', 'category_id'])\\\n",
    "               .join(interactions_month_sincos_fg.select(['month_cos', 'month_sin']))\\\n",
    "               .join(users_fg.select_except(['upload_date', 'upload_month'])) \\\n",
    "               .join(videos_fg.select_except(['registration_date', 'registration_month']))\n"
   ]
  },
  {
   "cell_type": "code",
   "execution_count": null,
   "id": "2463f23e-3640-4718-90de-0a9a394f821b",
   "metadata": {},
   "outputs": [],
   "source": [
    "ranking_df = query.read()"
   ]
  },
  {
   "cell_type": "code",
   "execution_count": null,
   "id": "2ba00730-3bfc-4aff-9473-8e9b50427326",
   "metadata": {},
   "outputs": [],
   "source": [
    "ranking_df['label'] = np.where(\n",
    "    ranking_df.interaction_type.isin(['view', 'like', 'share', 'comment']), \n",
    "    1, \n",
    "    0,\n",
    ")\n",
    "\n",
    "ranking_df = ranking_df[[\"user_id\", \"video_id\", \"category_id\", \"interaction_month\", \"video_length\", \"gender\", \"age\", \"country\", \"label\"]]"
   ]
  },
  {
   "cell_type": "markdown",
   "id": "20a31c2b",
   "metadata": {},
   "source": [
    "## <span style=\"color:#ff5f27\">🪄 Ranking Feature Group </span>"
   ]
  },
  {
   "cell_type": "code",
   "execution_count": null,
   "id": "08a30c03",
   "metadata": {},
   "outputs": [],
   "source": [
    "ranking_fg = fs.get_or_create_feature_group(\n",
    "    name=\"ranking\",\n",
    "    version=1,\n",
    "    description=\"Ranking Data.\",\n",
    "    primary_key=[\"user_id\", \"video_id\"],\n",
    "    partition_key = [\"interaction_month\"],    \n",
    "    online_enabled=False, \n",
    "    parents=[users_fg, videos_fg, interactions_fg, interactions_month_sincos_fg],\n",
    "    statistics_config = {\n",
    "    \"enabled\": True,\n",
    "    \"histograms\": True,\n",
    "    \"correlations\": True,\n",
    "    }\n",
    ")\n",
    "\n",
    "ranking_fg.insert(ranking_df)\n",
    "print('Done ✅')"
   ]
  },
  {
   "cell_type": "code",
   "execution_count": null,
   "id": "745641e4-75e8-43cb-b7f8-41a1c994c673",
   "metadata": {},
   "outputs": [],
   "source": [
    "feature_descriptions = [\n",
    "    {\"name\": \"user_id\", \"description\": \"Unique identifier for each user.\"},\n",
    "    {\"name\": \"video_id\", \"description\": \"Identifier for the video.\"},\n",
    "    {\"name\": \"category_id\", \"description\": \"Id of the video category.\"},   \n",
    "    {\"name\": \"interaction_month\", \"description\": \"Month of interaction, derived from interaction_date.\"}, \n",
    "    {\"name\": \"video_length\", \"description\": \"Video length in sconds.\"},\n",
    "    {\"name\": \"gender\", \"description\": \"Gender of the user.\"},\n",
    "    {\"name\": \"age\", \"description\": \"Age of the user.\"},\n",
    "    {\"name\": \"country\", \"description\": \"Country of Residence of the user.\"},\n",
    "    {\"name\": \"label\", \"description\": \"Label indicating whether the article was purchased (1) or not (0).\"},\n",
    "]\n",
    "\n",
    "for desc in feature_descriptions: \n",
    "    ranking_fg.update_feature_description(desc[\"name\"], desc[\"description\"])"
   ]
  },
  {
   "cell_type": "markdown",
   "id": "6bcc04ea",
   "metadata": {},
   "source": [
    "---"
   ]
  }
 ],
 "metadata": {
  "kernelspec": {
   "display_name": "Python 3 (ipykernel)",
   "language": "python",
   "name": "python3"
  },
  "language_info": {
   "codemirror_mode": {
    "name": "ipython",
    "version": 3
   },
   "file_extension": ".py",
   "mimetype": "text/x-python",
   "name": "python",
   "nbconvert_exporter": "python",
   "pygments_lexer": "ipython3",
   "version": "3.10.13"
  }
 },
 "nbformat": 4,
 "nbformat_minor": 5
}
