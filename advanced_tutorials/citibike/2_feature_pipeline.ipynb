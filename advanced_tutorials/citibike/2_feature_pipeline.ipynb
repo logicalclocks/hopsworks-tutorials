{
 "cells": [
  {
   "cell_type": "markdown",
   "id": "a377edc4",
   "metadata": {},
   "source": [
    "# <span style=\"font-width:bold; font-size: 3rem; color:#1EB182;\">**Hopsworks Feature Store** </span><span style=\"font-width:bold; font-size: 3rem; color:#333;\">- Part 02: Feature Pipeline</span>\n",
    "\n",
    "[![Open In Colab](https://colab.research.google.com/assets/colab-badge.svg)](https://colab.research.google.com/github/logicalclocks/hopsworks-tutorials/blob/master/advanced_tutorials/electricity/2_feature_pipeline.ipynb)\n",
    "\n",
    "## 🗒️ This notebook is divided into 2 sections:\n",
    "1. **Parse Data**,\n",
    "2. **Insert new data into the Feature Store**."
   ]
  },
  {
   "cell_type": "markdown",
   "id": "7262ed9c",
   "metadata": {},
   "source": [
    "### <span style='color:#ff5f27'> 📝 Imports"
   ]
  },
  {
   "cell_type": "code",
   "execution_count": null,
   "id": "66adad50",
   "metadata": {},
   "outputs": [],
   "source": [
    "!pip install -U hopsworks --quiet"
   ]
  },
  {
   "cell_type": "code",
   "execution_count": null,
   "id": "1554edb3",
   "metadata": {},
   "outputs": [],
   "source": [
    "import requests\n",
    "import pandas as pd\n",
    "\n",
    "from functions import *"
   ]
  },
  {
   "cell_type": "markdown",
   "id": "02ab8b74",
   "metadata": {},
   "source": [
    "---"
   ]
  },
  {
   "cell_type": "markdown",
   "id": "d293ebca",
   "metadata": {},
   "source": [
    "## <span style=\"color:#ff5f27;\"> 🪄 Parsing new data</span>"
   ]
  },
  {
   "cell_type": "markdown",
   "id": "2368a524",
   "metadata": {},
   "source": [
    "### <span style=\"color:#ff5f27;\"> 🌤 Meteorological measurements from SMHI</span>"
   ]
  },
  {
   "cell_type": "code",
   "execution_count": null,
   "id": "7840355a",
   "metadata": {},
   "outputs": [],
   "source": [
    "meteorological_measurements_df = fetch_smhi_measurements(historical_data=False)\n",
    "meteorological_measurements_df"
   ]
  },
  {
   "cell_type": "code",
   "execution_count": null,
   "id": "a69668db",
   "metadata": {},
   "outputs": [],
   "source": [
    "meteorological_measurements_df.dtypes"
   ]
  },
  {
   "cell_type": "markdown",
   "id": "a4bda147",
   "metadata": {},
   "source": [
    "### <span style=\"color:#ff5f27;\">💸 Electricity prices per day from NORD POOL</span>"
   ]
  },
  {
   "cell_type": "code",
   "execution_count": null,
   "id": "c7458cad",
   "metadata": {},
   "outputs": [],
   "source": [
    "electricity_prices_df = fetch_electricity_prices(historical=False)\n",
    "electricity_prices_df"
   ]
  },
  {
   "cell_type": "code",
   "execution_count": null,
   "id": "4a3ade25",
   "metadata": {},
   "outputs": [],
   "source": [
    "electricity_prices_df.dtypes"
   ]
  },
  {
   "cell_type": "markdown",
   "id": "f72a9a6f",
   "metadata": {},
   "source": [
    "---"
   ]
  },
  {
   "cell_type": "markdown",
   "id": "89cfdb28",
   "metadata": {},
   "source": [
    "## <span style=\"color:#ff5f27;\"> 📡 Connecting to Hopsworks Feature Store </span>"
   ]
  },
  {
   "cell_type": "code",
   "execution_count": null,
   "id": "b2685c72",
   "metadata": {},
   "outputs": [],
   "source": [
    "import hopsworks\n",
    "project = hopsworks.login()\n",
    "fs = project.get_feature_store()"
   ]
  },
  {
   "cell_type": "code",
   "execution_count": null,
   "id": "885a4304",
   "metadata": {},
   "outputs": [],
   "source": [
    "meteorological_measurements_fg = fs.get_or_create_feature_group(\n",
    "    name=\"meteorological_measurements\",\n",
    "    version=1,\n",
    ")\n",
    "\n",
    "electricity_prices_fg = fs.get_or_create_feature_group(\n",
    "    name=\"electricity_prices\",\n",
    "    version=1,\n",
    ")"
   ]
  },
  {
   "cell_type": "markdown",
   "id": "9ab0379a",
   "metadata": {},
   "source": [
    "---"
   ]
  },
  {
   "cell_type": "markdown",
   "id": "023d1326",
   "metadata": {},
   "source": [
    "## <span style=\"color:#ff5f27;\">⬆️ Uploading new data to the Feature Store</span>"
   ]
  },
  {
   "cell_type": "code",
   "execution_count": null,
   "id": "931d73d1",
   "metadata": {},
   "outputs": [],
   "source": [
    "meteorological_measurements_fg.insert(meteorological_measurements_df)"
   ]
  },
  {
   "cell_type": "code",
   "execution_count": null,
   "id": "45cfb783",
   "metadata": {},
   "outputs": [],
   "source": [
    "electricity_prices_fg.insert(electricity_prices_df)"
   ]
  },
  {
   "cell_type": "markdown",
   "id": "2a145fd2",
   "metadata": {},
   "source": [
    "---"
   ]
  },
  {
   "cell_type": "markdown",
   "id": "c9e2101c",
   "metadata": {},
   "source": [
    "## <span style=\"color:#ff5f27;\">⏭️ **Next:** Part 03 </span>\n",
    "\n",
    "In the next notebook, you will create a feature view and training dataset."
   ]
  }
 ],
 "metadata": {
  "kernelspec": {
   "display_name": "Python 3 (ipykernel)",
   "language": "python",
   "name": "python3"
  },
  "language_info": {
   "codemirror_mode": {
    "name": "ipython",
    "version": 3
   },
   "file_extension": ".py",
   "mimetype": "text/x-python",
   "name": "python",
   "nbconvert_exporter": "python",
   "pygments_lexer": "ipython3",
   "version": "3.8.0"
  }
 },
 "nbformat": 4,
 "nbformat_minor": 5
}
