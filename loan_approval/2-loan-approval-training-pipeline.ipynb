{
 "cells": [
  {
   "cell_type": "markdown",
   "id": "4e1e2fcc",
   "metadata": {
    "papermill": {
     "duration": 0.029083,
     "end_time": "2023-01-31T14:11:23.008968",
     "exception": false,
     "start_time": "2023-01-31T14:11:22.979885",
     "status": "completed"
    },
    "tags": []
   },
   "source": [
    "# 🏦 Loan Analysis Training Pipeline\n",
    "\n",
    "https://www.kaggle.com/code/faressayah/lending-club-loan-defaulters-prediction \n",
    "\n",
    "\n",
    "This notebook:\n",
    "\n",
    " * selects features from feature groups to create a feature view\n",
    " * creates train/test data with the feature view\n",
    " * trains a model to predict loan approvals with the training set\n",
    " * evaluates the model on the test set\n",
    " * uploads the model along with evaluation data to Hopsworks"
   ]
  },
  {
   "cell_type": "code",
   "execution_count": 1,
   "id": "a3cdbf34",
   "metadata": {},
   "outputs": [],
   "source": [
    "!pip install hopsworks"
   ]
  },
  {
   "cell_type": "code",
   "execution_count": 2,
   "id": "9cb24c87",
   "metadata": {
    "_kg_hide-input": true,
    "execution": {
     "iopub.execute_input": "2023-01-31T14:11:35.164738Z",
     "iopub.status.busy": "2023-01-31T14:11:35.163899Z",
     "iopub.status.idle": "2023-01-31T14:11:44.332161Z",
     "shell.execute_reply": "2023-01-31T14:11:44.331116Z"
    },
    "papermill": {
     "duration": 9.198485,
     "end_time": "2023-01-31T14:11:44.334641",
     "exception": false,
     "start_time": "2023-01-31T14:11:35.136156",
     "status": "completed"
    },
    "tags": []
   },
   "outputs": [],
   "source": [
    "import pandas as pd\n",
    "import numpy as np\n",
    "import seaborn as sns\n",
    "from scipy import stats \n",
    "import matplotlib.pyplot as plt\n",
    "import time\n",
    "import warnings\n",
    "warnings.filterwarnings('ignore')\n",
    "from sklearn.model_selection import train_test_split, RandomizedSearchCV\n",
    "from sklearn.preprocessing import MinMaxScaler\n",
    "\n",
    "from sklearn.metrics import (\n",
    "    accuracy_score, confusion_matrix, classification_report, \n",
    "    roc_auc_score, roc_curve, auc\n",
    ")\n",
    "from sklearn.metrics import ConfusionMatrixDisplay, RocCurveDisplay\n",
    "\n",
    "from sklearn.ensemble import RandomForestClassifier\n",
    "\n",
    "pd.set_option('display.float', '{:.2f}'.format)\n",
    "pd.set_option('display.max_columns', 50)\n",
    "pd.set_option('display.max_rows', 50)"
   ]
  },
  {
   "cell_type": "markdown",
   "id": "5b9edb3f",
   "metadata": {},
   "source": [
    "## 🔖 Hopsworks Feature Store"
   ]
  },
  {
   "cell_type": "code",
   "execution_count": 3,
   "id": "4a36d859",
   "metadata": {},
   "outputs": [
    {
     "name": "stdout",
     "output_type": "stream",
     "text": [
      "Connected. Call `.close()` to terminate connection gracefully.\n",
      "\n",
      "Logged in to project, explore it here https://35.187.37.222:443/p/119\n",
      "Connected. Call `.close()` to terminate connection gracefully.\n"
     ]
    }
   ],
   "source": [
    "import hopsworks\n",
    "\n",
    "proj = hopsworks.login()\n",
    "fs = proj.get_feature_store()"
   ]
  },
  {
   "cell_type": "markdown",
   "id": "9dde0a81",
   "metadata": {
    "papermill": {
     "duration": 0.158827,
     "end_time": "2023-01-31T14:13:11.421049",
     "exception": false,
     "start_time": "2023-01-31T14:13:11.262222",
     "status": "completed"
    },
    "tags": []
   },
   "source": [
    "## Create the Feature View"
   ]
  },
  {
   "cell_type": "code",
   "execution_count": 4,
   "id": "fc541a8a",
   "metadata": {},
   "outputs": [],
   "source": [
    "fg_loans = fs.get_feature_group(name=\"loans\", version=1)\n",
    "fg_applicants = fs.get_feature_group(name=\"applicants\", version=1)\n",
    "\n",
    "query = fg_loans.select_except([\"id\", \"issue_d\"]).join(\\\n",
    "            fg_applicants.select_except([\"earliest_cr_line\", \"earliest_cr_line_year\", \"id\"]))"
   ]
  },
  {
   "cell_type": "code",
   "execution_count": 5,
   "id": "26d001a5",
   "metadata": {},
   "outputs": [
    {
     "name": "stdout",
     "output_type": "stream",
     "text": [
      "Feature view created successfully, explore it at \n",
      "https://35.187.37.222:443/p/119/fs/67/fv/loans_approvals/version/1\n"
     ]
    }
   ],
   "source": [
    "fv_version=1\n",
    "try:\n",
    "    fv = fs.get_feature_view(name=\"loans_approvals\", version=fv_version)\n",
    "except:\n",
    "    fv = fs.create_feature_view(name=\"loans_approvals\", \n",
    "                       version=fv_version,\n",
    "                        description=\"Loan applicant data\",\n",
    "                        labels=[\"loan_status\"],\n",
    "                        query=query\n",
    "                       )"
   ]
  },
  {
   "cell_type": "code",
   "execution_count": 6,
   "id": "18ae1976",
   "metadata": {},
   "outputs": [
    {
     "name": "stdout",
     "output_type": "stream",
     "text": [
      "Get Random Split Training Data in 7.849807977676392 seconds ---\n"
     ]
    },
    {
     "name": "stderr",
     "output_type": "stream",
     "text": [
      "VersionWarning: Incremented version to `1`.\n"
     ]
    }
   ],
   "source": [
    "start_time = time.time()\n",
    "\n",
    "X_train, X_test, y_train, y_test = fv.train_test_split(test_size=0.2)\n",
    "\n",
    "print(\"Get Random Split Training Data in %s seconds ---\" % (time.time() - start_time))"
   ]
  },
  {
   "cell_type": "code",
   "execution_count": 7,
   "id": "c741e55c",
   "metadata": {},
   "outputs": [
    {
     "data": {
      "text/html": [
       "<div>\n",
       "<style scoped>\n",
       "    .dataframe tbody tr th:only-of-type {\n",
       "        vertical-align: middle;\n",
       "    }\n",
       "\n",
       "    .dataframe tbody tr th {\n",
       "        vertical-align: top;\n",
       "    }\n",
       "\n",
       "    .dataframe thead th {\n",
       "        text-align: right;\n",
       "    }\n",
       "</style>\n",
       "<table border=\"1\" class=\"dataframe\">\n",
       "  <thead>\n",
       "    <tr style=\"text-align: right;\">\n",
       "      <th></th>\n",
       "      <th>loan_amnt</th>\n",
       "      <th>term</th>\n",
       "      <th>int_rate</th>\n",
       "      <th>installment</th>\n",
       "      <th>sub_grade</th>\n",
       "      <th>purpose</th>\n",
       "      <th>zip_code</th>\n",
       "      <th>home_ownership</th>\n",
       "      <th>annual_inc</th>\n",
       "      <th>verification_status</th>\n",
       "      <th>dti</th>\n",
       "      <th>open_acc</th>\n",
       "      <th>pub_rec</th>\n",
       "      <th>revol_bal</th>\n",
       "      <th>revol_util</th>\n",
       "      <th>total_acc</th>\n",
       "      <th>initial_list_status</th>\n",
       "      <th>application_type</th>\n",
       "      <th>mort_acc</th>\n",
       "      <th>pub_rec_bankruptcies</th>\n",
       "    </tr>\n",
       "  </thead>\n",
       "  <tbody>\n",
       "    <tr>\n",
       "      <th>1</th>\n",
       "      <td>15000.00</td>\n",
       "      <td>36 months</td>\n",
       "      <td>13.35</td>\n",
       "      <td>507.95</td>\n",
       "      <td>C2</td>\n",
       "      <td>credit_card</td>\n",
       "      <td>0</td>\n",
       "      <td>RENT</td>\n",
       "      <td>52000.00</td>\n",
       "      <td>Verified</td>\n",
       "      <td>11.68</td>\n",
       "      <td>13.00</td>\n",
       "      <td>0</td>\n",
       "      <td>18391.00</td>\n",
       "      <td>60.70</td>\n",
       "      <td>21.00</td>\n",
       "      <td>w</td>\n",
       "      <td>INDIVIDUAL</td>\n",
       "      <td>0.00</td>\n",
       "      <td>0.00</td>\n",
       "    </tr>\n",
       "    <tr>\n",
       "      <th>9</th>\n",
       "      <td>11350.00</td>\n",
       "      <td>36 months</td>\n",
       "      <td>16.55</td>\n",
       "      <td>402.13</td>\n",
       "      <td>D2</td>\n",
       "      <td>debt_consolidation</td>\n",
       "      <td>48052</td>\n",
       "      <td>RENT</td>\n",
       "      <td>56300.00</td>\n",
       "      <td>Source Verified</td>\n",
       "      <td>29.27</td>\n",
       "      <td>6.00</td>\n",
       "      <td>0</td>\n",
       "      <td>21016.00</td>\n",
       "      <td>88.70</td>\n",
       "      <td>22.00</td>\n",
       "      <td>f</td>\n",
       "      <td>INDIVIDUAL</td>\n",
       "      <td>3.00</td>\n",
       "      <td>0.00</td>\n",
       "    </tr>\n",
       "    <tr>\n",
       "      <th>16</th>\n",
       "      <td>20000.00</td>\n",
       "      <td>60 months</td>\n",
       "      <td>9.99</td>\n",
       "      <td>424.85</td>\n",
       "      <td>B3</td>\n",
       "      <td>debt_consolidation</td>\n",
       "      <td>70466</td>\n",
       "      <td>MORTGAGE</td>\n",
       "      <td>94000.00</td>\n",
       "      <td>Not Verified</td>\n",
       "      <td>13.85</td>\n",
       "      <td>11.00</td>\n",
       "      <td>0</td>\n",
       "      <td>14642.00</td>\n",
       "      <td>28.50</td>\n",
       "      <td>25.00</td>\n",
       "      <td>w</td>\n",
       "      <td>INDIVIDUAL</td>\n",
       "      <td>3.00</td>\n",
       "      <td>0.00</td>\n",
       "    </tr>\n",
       "    <tr>\n",
       "      <th>29</th>\n",
       "      <td>18500.00</td>\n",
       "      <td>60 months</td>\n",
       "      <td>10.64</td>\n",
       "      <td>398.93</td>\n",
       "      <td>B2</td>\n",
       "      <td>debt_consolidation</td>\n",
       "      <td>48052</td>\n",
       "      <td>MORTGAGE</td>\n",
       "      <td>85000.00</td>\n",
       "      <td>Verified</td>\n",
       "      <td>8.64</td>\n",
       "      <td>7.00</td>\n",
       "      <td>0</td>\n",
       "      <td>9935.00</td>\n",
       "      <td>52.30</td>\n",
       "      <td>26.00</td>\n",
       "      <td>f</td>\n",
       "      <td>INDIVIDUAL</td>\n",
       "      <td>3.00</td>\n",
       "      <td>0.00</td>\n",
       "    </tr>\n",
       "    <tr>\n",
       "      <th>31</th>\n",
       "      <td>10000.00</td>\n",
       "      <td>36 months</td>\n",
       "      <td>13.05</td>\n",
       "      <td>337.19</td>\n",
       "      <td>B5</td>\n",
       "      <td>credit_card</td>\n",
       "      <td>0</td>\n",
       "      <td>MORTGAGE</td>\n",
       "      <td>52000.00</td>\n",
       "      <td>Not Verified</td>\n",
       "      <td>20.56</td>\n",
       "      <td>5.00</td>\n",
       "      <td>0</td>\n",
       "      <td>14408.00</td>\n",
       "      <td>92.40</td>\n",
       "      <td>22.00</td>\n",
       "      <td>f</td>\n",
       "      <td>INDIVIDUAL</td>\n",
       "      <td>4.00</td>\n",
       "      <td>0.00</td>\n",
       "    </tr>\n",
       "    <tr>\n",
       "      <th>...</th>\n",
       "      <td>...</td>\n",
       "      <td>...</td>\n",
       "      <td>...</td>\n",
       "      <td>...</td>\n",
       "      <td>...</td>\n",
       "      <td>...</td>\n",
       "      <td>...</td>\n",
       "      <td>...</td>\n",
       "      <td>...</td>\n",
       "      <td>...</td>\n",
       "      <td>...</td>\n",
       "      <td>...</td>\n",
       "      <td>...</td>\n",
       "      <td>...</td>\n",
       "      <td>...</td>\n",
       "      <td>...</td>\n",
       "      <td>...</td>\n",
       "      <td>...</td>\n",
       "      <td>...</td>\n",
       "      <td>...</td>\n",
       "    </tr>\n",
       "    <tr>\n",
       "      <th>395205</th>\n",
       "      <td>3500.00</td>\n",
       "      <td>36 months</td>\n",
       "      <td>6.24</td>\n",
       "      <td>106.86</td>\n",
       "      <td>A2</td>\n",
       "      <td>home_improvement</td>\n",
       "      <td>22690</td>\n",
       "      <td>MORTGAGE</td>\n",
       "      <td>122000.00</td>\n",
       "      <td>Not Verified</td>\n",
       "      <td>9.28</td>\n",
       "      <td>9.00</td>\n",
       "      <td>0</td>\n",
       "      <td>3313.00</td>\n",
       "      <td>15.90</td>\n",
       "      <td>20.00</td>\n",
       "      <td>w</td>\n",
       "      <td>INDIVIDUAL</td>\n",
       "      <td>3.00</td>\n",
       "      <td>0.00</td>\n",
       "    </tr>\n",
       "    <tr>\n",
       "      <th>395208</th>\n",
       "      <td>32400.00</td>\n",
       "      <td>36 months</td>\n",
       "      <td>10.64</td>\n",
       "      <td>1055.22</td>\n",
       "      <td>B2</td>\n",
       "      <td>debt_consolidation</td>\n",
       "      <td>0</td>\n",
       "      <td>OWN</td>\n",
       "      <td>78000.00</td>\n",
       "      <td>Verified</td>\n",
       "      <td>22.44</td>\n",
       "      <td>7.00</td>\n",
       "      <td>0</td>\n",
       "      <td>27624.00</td>\n",
       "      <td>74.10</td>\n",
       "      <td>24.00</td>\n",
       "      <td>f</td>\n",
       "      <td>INDIVIDUAL</td>\n",
       "      <td>2.00</td>\n",
       "      <td>0.00</td>\n",
       "    </tr>\n",
       "    <tr>\n",
       "      <th>395209</th>\n",
       "      <td>5000.00</td>\n",
       "      <td>36 months</td>\n",
       "      <td>12.49</td>\n",
       "      <td>167.25</td>\n",
       "      <td>B5</td>\n",
       "      <td>debt_consolidation</td>\n",
       "      <td>22690</td>\n",
       "      <td>RENT</td>\n",
       "      <td>40000.00</td>\n",
       "      <td>Not Verified</td>\n",
       "      <td>20.40</td>\n",
       "      <td>10.00</td>\n",
       "      <td>0</td>\n",
       "      <td>4881.00</td>\n",
       "      <td>39.70</td>\n",
       "      <td>18.00</td>\n",
       "      <td>f</td>\n",
       "      <td>INDIVIDUAL</td>\n",
       "      <td>0.00</td>\n",
       "      <td>0.00</td>\n",
       "    </tr>\n",
       "    <tr>\n",
       "      <th>395212</th>\n",
       "      <td>20000.00</td>\n",
       "      <td>36 months</td>\n",
       "      <td>12.99</td>\n",
       "      <td>673.79</td>\n",
       "      <td>C2</td>\n",
       "      <td>debt_consolidation</td>\n",
       "      <td>22690</td>\n",
       "      <td>RENT</td>\n",
       "      <td>80000.00</td>\n",
       "      <td>Verified</td>\n",
       "      <td>20.80</td>\n",
       "      <td>10.00</td>\n",
       "      <td>0</td>\n",
       "      <td>49384.00</td>\n",
       "      <td>75.10</td>\n",
       "      <td>25.00</td>\n",
       "      <td>f</td>\n",
       "      <td>INDIVIDUAL</td>\n",
       "      <td>3.00</td>\n",
       "      <td>0.00</td>\n",
       "    </tr>\n",
       "    <tr>\n",
       "      <th>395213</th>\n",
       "      <td>21000.00</td>\n",
       "      <td>36 months</td>\n",
       "      <td>8.49</td>\n",
       "      <td>662.83</td>\n",
       "      <td>B1</td>\n",
       "      <td>debt_consolidation</td>\n",
       "      <td>0</td>\n",
       "      <td>MORTGAGE</td>\n",
       "      <td>79500.00</td>\n",
       "      <td>Not Verified</td>\n",
       "      <td>16.39</td>\n",
       "      <td>13.00</td>\n",
       "      <td>0</td>\n",
       "      <td>17349.00</td>\n",
       "      <td>43.90</td>\n",
       "      <td>28.00</td>\n",
       "      <td>w</td>\n",
       "      <td>INDIVIDUAL</td>\n",
       "      <td>2.00</td>\n",
       "      <td>0.00</td>\n",
       "    </tr>\n",
       "  </tbody>\n",
       "</table>\n",
       "<p>79044 rows × 20 columns</p>\n",
       "</div>"
      ],
      "text/plain": [
       "        loan_amnt        term  int_rate  installment sub_grade  \\\n",
       "1        15000.00   36 months     13.35       507.95        C2   \n",
       "9        11350.00   36 months     16.55       402.13        D2   \n",
       "16       20000.00   60 months      9.99       424.85        B3   \n",
       "29       18500.00   60 months     10.64       398.93        B2   \n",
       "31       10000.00   36 months     13.05       337.19        B5   \n",
       "...           ...         ...       ...          ...       ...   \n",
       "395205    3500.00   36 months      6.24       106.86        A2   \n",
       "395208   32400.00   36 months     10.64      1055.22        B2   \n",
       "395209    5000.00   36 months     12.49       167.25        B5   \n",
       "395212   20000.00   36 months     12.99       673.79        C2   \n",
       "395213   21000.00   36 months      8.49       662.83        B1   \n",
       "\n",
       "                   purpose zip_code home_ownership  annual_inc  \\\n",
       "1              credit_card        0           RENT    52000.00   \n",
       "9       debt_consolidation    48052           RENT    56300.00   \n",
       "16      debt_consolidation    70466       MORTGAGE    94000.00   \n",
       "29      debt_consolidation    48052       MORTGAGE    85000.00   \n",
       "31             credit_card        0       MORTGAGE    52000.00   \n",
       "...                    ...      ...            ...         ...   \n",
       "395205    home_improvement    22690       MORTGAGE   122000.00   \n",
       "395208  debt_consolidation        0            OWN    78000.00   \n",
       "395209  debt_consolidation    22690           RENT    40000.00   \n",
       "395212  debt_consolidation    22690           RENT    80000.00   \n",
       "395213  debt_consolidation        0       MORTGAGE    79500.00   \n",
       "\n",
       "       verification_status   dti  open_acc  pub_rec  revol_bal  revol_util  \\\n",
       "1                 Verified 11.68     13.00        0   18391.00       60.70   \n",
       "9          Source Verified 29.27      6.00        0   21016.00       88.70   \n",
       "16            Not Verified 13.85     11.00        0   14642.00       28.50   \n",
       "29                Verified  8.64      7.00        0    9935.00       52.30   \n",
       "31            Not Verified 20.56      5.00        0   14408.00       92.40   \n",
       "...                    ...   ...       ...      ...        ...         ...   \n",
       "395205        Not Verified  9.28      9.00        0    3313.00       15.90   \n",
       "395208            Verified 22.44      7.00        0   27624.00       74.10   \n",
       "395209        Not Verified 20.40     10.00        0    4881.00       39.70   \n",
       "395212            Verified 20.80     10.00        0   49384.00       75.10   \n",
       "395213        Not Verified 16.39     13.00        0   17349.00       43.90   \n",
       "\n",
       "        total_acc initial_list_status application_type  mort_acc  \\\n",
       "1           21.00                   w       INDIVIDUAL      0.00   \n",
       "9           22.00                   f       INDIVIDUAL      3.00   \n",
       "16          25.00                   w       INDIVIDUAL      3.00   \n",
       "29          26.00                   f       INDIVIDUAL      3.00   \n",
       "31          22.00                   f       INDIVIDUAL      4.00   \n",
       "...           ...                 ...              ...       ...   \n",
       "395205      20.00                   w       INDIVIDUAL      3.00   \n",
       "395208      24.00                   f       INDIVIDUAL      2.00   \n",
       "395209      18.00                   f       INDIVIDUAL      0.00   \n",
       "395212      25.00                   f       INDIVIDUAL      3.00   \n",
       "395213      28.00                   w       INDIVIDUAL      2.00   \n",
       "\n",
       "        pub_rec_bankruptcies  \n",
       "1                       0.00  \n",
       "9                       0.00  \n",
       "16                      0.00  \n",
       "29                      0.00  \n",
       "31                      0.00  \n",
       "...                      ...  \n",
       "395205                  0.00  \n",
       "395208                  0.00  \n",
       "395209                  0.00  \n",
       "395212                  0.00  \n",
       "395213                  0.00  \n",
       "\n",
       "[79044 rows x 20 columns]"
      ]
     },
     "execution_count": 7,
     "metadata": {},
     "output_type": "execute_result"
    }
   ],
   "source": [
    "X_test"
   ]
  },
  {
   "cell_type": "code",
   "execution_count": 8,
   "id": "14822496",
   "metadata": {},
   "outputs": [
    {
     "data": {
      "text/html": [
       "<div>\n",
       "<style scoped>\n",
       "    .dataframe tbody tr th:only-of-type {\n",
       "        vertical-align: middle;\n",
       "    }\n",
       "\n",
       "    .dataframe tbody tr th {\n",
       "        vertical-align: top;\n",
       "    }\n",
       "\n",
       "    .dataframe thead th {\n",
       "        text-align: right;\n",
       "    }\n",
       "</style>\n",
       "<table border=\"1\" class=\"dataframe\">\n",
       "  <thead>\n",
       "    <tr style=\"text-align: right;\">\n",
       "      <th></th>\n",
       "      <th>loan_status</th>\n",
       "    </tr>\n",
       "  </thead>\n",
       "  <tbody>\n",
       "    <tr>\n",
       "      <th>0</th>\n",
       "      <td>Fully Paid</td>\n",
       "    </tr>\n",
       "    <tr>\n",
       "      <th>2</th>\n",
       "      <td>Fully Paid</td>\n",
       "    </tr>\n",
       "    <tr>\n",
       "      <th>3</th>\n",
       "      <td>Fully Paid</td>\n",
       "    </tr>\n",
       "    <tr>\n",
       "      <th>4</th>\n",
       "      <td>Charged Off</td>\n",
       "    </tr>\n",
       "    <tr>\n",
       "      <th>5</th>\n",
       "      <td>Fully Paid</td>\n",
       "    </tr>\n",
       "    <tr>\n",
       "      <th>...</th>\n",
       "      <td>...</td>\n",
       "    </tr>\n",
       "    <tr>\n",
       "      <th>395214</th>\n",
       "      <td>Charged Off</td>\n",
       "    </tr>\n",
       "    <tr>\n",
       "      <th>395215</th>\n",
       "      <td>Charged Off</td>\n",
       "    </tr>\n",
       "    <tr>\n",
       "      <th>395216</th>\n",
       "      <td>Charged Off</td>\n",
       "    </tr>\n",
       "    <tr>\n",
       "      <th>395217</th>\n",
       "      <td>Fully Paid</td>\n",
       "    </tr>\n",
       "    <tr>\n",
       "      <th>395218</th>\n",
       "      <td>Charged Off</td>\n",
       "    </tr>\n",
       "  </tbody>\n",
       "</table>\n",
       "<p>316175 rows × 1 columns</p>\n",
       "</div>"
      ],
      "text/plain": [
       "        loan_status\n",
       "0        Fully Paid\n",
       "2        Fully Paid\n",
       "3        Fully Paid\n",
       "4       Charged Off\n",
       "5        Fully Paid\n",
       "...             ...\n",
       "395214  Charged Off\n",
       "395215  Charged Off\n",
       "395216  Charged Off\n",
       "395217   Fully Paid\n",
       "395218  Charged Off\n",
       "\n",
       "[316175 rows x 1 columns]"
      ]
     },
     "execution_count": 8,
     "metadata": {},
     "output_type": "execute_result"
    }
   ],
   "source": [
    "y_train"
   ]
  },
  {
   "cell_type": "code",
   "execution_count": 9,
   "id": "a0ffed41",
   "metadata": {},
   "outputs": [
    {
     "name": "stdout",
     "output_type": "stream",
     "text": [
      "['loan_amnt', 'int_rate', 'installment', 'annual_inc', 'dti', 'open_acc', 'pub_rec', 'revol_bal', 'revol_util', 'total_acc', 'mort_acc', 'pub_rec_bankruptcies']\n",
      "['term', 'sub_grade', 'purpose', 'zip_code', 'home_ownership', 'verification_status', 'initial_list_status', 'application_type']\n"
     ]
    }
   ],
   "source": [
    "# Map features to transformation functions.\n",
    "categorical_features = []\n",
    "numeric_features = []\n",
    "for col in X_train.columns:\n",
    "    if X_train[col].dtype == object:\n",
    "        categorical_features.append(col)\n",
    "    else:\n",
    "        numeric_features.append(col)\n",
    "\n",
    "print(numeric_features)\n",
    "print(categorical_features)"
   ]
  },
  {
   "cell_type": "code",
   "execution_count": 11,
   "id": "2319b999",
   "metadata": {},
   "outputs": [],
   "source": [
    "import numpy as np\n",
    "\n",
    "from sklearn.compose import ColumnTransformer\n",
    "from sklearn.pipeline import Pipeline\n",
    "from sklearn.impute import SimpleImputer\n",
    "from sklearn.preprocessing import StandardScaler, OneHotEncoder, LabelEncoder\n",
    "from sklearn.feature_selection import SelectPercentile, chi2\n",
    "\n",
    "numeric_transformer = Pipeline(\n",
    "    steps=[(\"imputer\", SimpleImputer(strategy=\"median\")), (\"scaler\", StandardScaler())]\n",
    ")\n",
    "\n",
    "categorical_transformer = Pipeline(\n",
    "    steps=[\n",
    "        (\"encoder\", OneHotEncoder(handle_unknown=\"ignore\")),\n",
    "        (\"selector\", SelectPercentile(chi2, percentile=50)),\n",
    "    ]\n",
    ")\n",
    "\n",
    "# Here, we are passing the column names to the ColumnTransformer \n",
    "# in 'numeric_features' and 'categorical_features'\n",
    "# This means in inference, we also have to pass the names of the columns - you can only do this with a\n",
    "# Pandas DataFrame. So, that means in online inference, you have to create a Pandas DataFrame to make\n",
    "# the feature vector. If that is too slow, you should use \"ids\" here, instead of names, then you can use\n",
    "# a numpy array instead of a Pandas DataFrame in online inference\n",
    "# https://stackoverflow.com/questions/71715754/valueerror-specifying-the-columns-using-strings-is-only-supported-for-pandas-da\n",
    "preprocessor = ColumnTransformer(\n",
    "    transformers=[\n",
    "        (\"num\", numeric_transformer, numeric_features),\n",
    "        (\"cat\", categorical_transformer, categorical_features),\n",
    "    ]\n",
    ")"
   ]
  },
  {
   "cell_type": "code",
   "execution_count": 12,
   "id": "3c83f66d",
   "metadata": {},
   "outputs": [],
   "source": [
    "y_train['loan_status'] = y_train.loan_status.map({'Fully Paid':1, 'Charged Off':0})\n",
    "y_test['loan_status'] = y_test.loan_status.map({'Fully Paid':1, 'Charged Off':0})"
   ]
  },
  {
   "cell_type": "code",
   "execution_count": 13,
   "id": "eeaa534d",
   "metadata": {},
   "outputs": [
    {
     "data": {
      "text/html": [
       "<div>\n",
       "<style scoped>\n",
       "    .dataframe tbody tr th:only-of-type {\n",
       "        vertical-align: middle;\n",
       "    }\n",
       "\n",
       "    .dataframe tbody tr th {\n",
       "        vertical-align: top;\n",
       "    }\n",
       "\n",
       "    .dataframe thead th {\n",
       "        text-align: right;\n",
       "    }\n",
       "</style>\n",
       "<table border=\"1\" class=\"dataframe\">\n",
       "  <thead>\n",
       "    <tr style=\"text-align: right;\">\n",
       "      <th></th>\n",
       "      <th>loan_status</th>\n",
       "    </tr>\n",
       "  </thead>\n",
       "  <tbody>\n",
       "    <tr>\n",
       "      <th>0</th>\n",
       "      <td>1</td>\n",
       "    </tr>\n",
       "    <tr>\n",
       "      <th>2</th>\n",
       "      <td>1</td>\n",
       "    </tr>\n",
       "    <tr>\n",
       "      <th>3</th>\n",
       "      <td>1</td>\n",
       "    </tr>\n",
       "    <tr>\n",
       "      <th>4</th>\n",
       "      <td>0</td>\n",
       "    </tr>\n",
       "    <tr>\n",
       "      <th>5</th>\n",
       "      <td>1</td>\n",
       "    </tr>\n",
       "    <tr>\n",
       "      <th>...</th>\n",
       "      <td>...</td>\n",
       "    </tr>\n",
       "    <tr>\n",
       "      <th>395214</th>\n",
       "      <td>0</td>\n",
       "    </tr>\n",
       "    <tr>\n",
       "      <th>395215</th>\n",
       "      <td>0</td>\n",
       "    </tr>\n",
       "    <tr>\n",
       "      <th>395216</th>\n",
       "      <td>0</td>\n",
       "    </tr>\n",
       "    <tr>\n",
       "      <th>395217</th>\n",
       "      <td>1</td>\n",
       "    </tr>\n",
       "    <tr>\n",
       "      <th>395218</th>\n",
       "      <td>0</td>\n",
       "    </tr>\n",
       "  </tbody>\n",
       "</table>\n",
       "<p>316175 rows × 1 columns</p>\n",
       "</div>"
      ],
      "text/plain": [
       "        loan_status\n",
       "0                 1\n",
       "2                 1\n",
       "3                 1\n",
       "4                 0\n",
       "5                 1\n",
       "...             ...\n",
       "395214            0\n",
       "395215            0\n",
       "395216            0\n",
       "395217            1\n",
       "395218            0\n",
       "\n",
       "[316175 rows x 1 columns]"
      ]
     },
     "execution_count": 13,
     "metadata": {},
     "output_type": "execute_result"
    }
   ],
   "source": [
    "y_train"
   ]
  },
  {
   "cell_type": "markdown",
   "id": "64ddcb0d",
   "metadata": {
    "papermill": {
     "duration": 0.162943,
     "end_time": "2023-01-31T14:13:13.083170",
     "exception": false,
     "start_time": "2023-01-31T14:13:12.920227",
     "status": "completed"
    },
    "tags": []
   },
   "source": [
    "# 🤖 Models Building"
   ]
  },
  {
   "cell_type": "code",
   "execution_count": 14,
   "id": "47a8291a",
   "metadata": {
    "execution": {
     "iopub.execute_input": "2023-01-31T14:13:13.702918Z",
     "iopub.status.busy": "2023-01-31T14:13:13.702551Z",
     "iopub.status.idle": "2023-01-31T14:13:13.709718Z",
     "shell.execute_reply": "2023-01-31T14:13:13.708705Z"
    },
    "papermill": {
     "duration": 0.176326,
     "end_time": "2023-01-31T14:13:13.711748",
     "exception": false,
     "start_time": "2023-01-31T14:13:13.535422",
     "status": "completed"
    },
    "tags": []
   },
   "outputs": [],
   "source": [
    "def print_score(true, pred, train=True):\n",
    "    if train:\n",
    "        clf_report = pd.DataFrame(classification_report(true, pred, output_dict=True))\n",
    "        print(\"Train Result:\\n================================================\")\n",
    "        print(f\"Accuracy Score: {accuracy_score(true, pred) * 100:.2f}%\")\n",
    "        print(\"_______________________________________________\")\n",
    "        print(f\"CLASSIFICATION REPORT:\\n{clf_report}\")\n",
    "        print(\"_______________________________________________\")\n",
    "        print(f\"Confusion Matrix: \\n {confusion_matrix(true, pred)}\\n\")\n",
    "        \n",
    "    elif train==False:\n",
    "        clf_report = pd.DataFrame(classification_report(true, pred, output_dict=True))\n",
    "        print(\"Test Result:\\n================================================\")        \n",
    "        print(f\"Accuracy Score: {accuracy_score(true, pred) * 100:.2f}%\")\n",
    "        print(\"_______________________________________________\")\n",
    "        print(f\"CLASSIFICATION REPORT:\\n{clf_report}\")\n",
    "        print(\"_______________________________________________\")\n",
    "        print(f\"Confusion Matrix: \\n {confusion_matrix(true, pred)}\\n\")"
   ]
  },
  {
   "cell_type": "code",
   "execution_count": 15,
   "id": "9af753fe",
   "metadata": {},
   "outputs": [
    {
     "data": {
      "text/html": [
       "<style>#sk-container-id-1 {color: black;background-color: white;}#sk-container-id-1 pre{padding: 0;}#sk-container-id-1 div.sk-toggleable {background-color: white;}#sk-container-id-1 label.sk-toggleable__label {cursor: pointer;display: block;width: 100%;margin-bottom: 0;padding: 0.3em;box-sizing: border-box;text-align: center;}#sk-container-id-1 label.sk-toggleable__label-arrow:before {content: \"▸\";float: left;margin-right: 0.25em;color: #696969;}#sk-container-id-1 label.sk-toggleable__label-arrow:hover:before {color: black;}#sk-container-id-1 div.sk-estimator:hover label.sk-toggleable__label-arrow:before {color: black;}#sk-container-id-1 div.sk-toggleable__content {max-height: 0;max-width: 0;overflow: hidden;text-align: left;background-color: #f0f8ff;}#sk-container-id-1 div.sk-toggleable__content pre {margin: 0.2em;color: black;border-radius: 0.25em;background-color: #f0f8ff;}#sk-container-id-1 input.sk-toggleable__control:checked~div.sk-toggleable__content {max-height: 200px;max-width: 100%;overflow: auto;}#sk-container-id-1 input.sk-toggleable__control:checked~label.sk-toggleable__label-arrow:before {content: \"▾\";}#sk-container-id-1 div.sk-estimator input.sk-toggleable__control:checked~label.sk-toggleable__label {background-color: #d4ebff;}#sk-container-id-1 div.sk-label input.sk-toggleable__control:checked~label.sk-toggleable__label {background-color: #d4ebff;}#sk-container-id-1 input.sk-hidden--visually {border: 0;clip: rect(1px 1px 1px 1px);clip: rect(1px, 1px, 1px, 1px);height: 1px;margin: -1px;overflow: hidden;padding: 0;position: absolute;width: 1px;}#sk-container-id-1 div.sk-estimator {font-family: monospace;background-color: #f0f8ff;border: 1px dotted black;border-radius: 0.25em;box-sizing: border-box;margin-bottom: 0.5em;}#sk-container-id-1 div.sk-estimator:hover {background-color: #d4ebff;}#sk-container-id-1 div.sk-parallel-item::after {content: \"\";width: 100%;border-bottom: 1px solid gray;flex-grow: 1;}#sk-container-id-1 div.sk-label:hover label.sk-toggleable__label {background-color: #d4ebff;}#sk-container-id-1 div.sk-serial::before {content: \"\";position: absolute;border-left: 1px solid gray;box-sizing: border-box;top: 0;bottom: 0;left: 50%;z-index: 0;}#sk-container-id-1 div.sk-serial {display: flex;flex-direction: column;align-items: center;background-color: white;padding-right: 0.2em;padding-left: 0.2em;position: relative;}#sk-container-id-1 div.sk-item {position: relative;z-index: 1;}#sk-container-id-1 div.sk-parallel {display: flex;align-items: stretch;justify-content: center;background-color: white;position: relative;}#sk-container-id-1 div.sk-item::before, #sk-container-id-1 div.sk-parallel-item::before {content: \"\";position: absolute;border-left: 1px solid gray;box-sizing: border-box;top: 0;bottom: 0;left: 50%;z-index: -1;}#sk-container-id-1 div.sk-parallel-item {display: flex;flex-direction: column;z-index: 1;position: relative;background-color: white;}#sk-container-id-1 div.sk-parallel-item:first-child::after {align-self: flex-end;width: 50%;}#sk-container-id-1 div.sk-parallel-item:last-child::after {align-self: flex-start;width: 50%;}#sk-container-id-1 div.sk-parallel-item:only-child::after {width: 0;}#sk-container-id-1 div.sk-dashed-wrapped {border: 1px dashed gray;margin: 0 0.4em 0.5em 0.4em;box-sizing: border-box;padding-bottom: 0.4em;background-color: white;}#sk-container-id-1 div.sk-label label {font-family: monospace;font-weight: bold;display: inline-block;line-height: 1.2em;}#sk-container-id-1 div.sk-label-container {text-align: center;}#sk-container-id-1 div.sk-container {/* jupyter's `normalize.less` sets `[hidden] { display: none; }` but bootstrap.min.css set `[hidden] { display: none !important; }` so we also need the `!important` here to be able to override the default hidden behavior on the sphinx rendered scikit-learn.org. See: https://github.com/scikit-learn/scikit-learn/issues/21755 */display: inline-block !important;position: relative;}#sk-container-id-1 div.sk-text-repr-fallback {display: none;}</style><div id=\"sk-container-id-1\" class=\"sk-top-container\"><div class=\"sk-text-repr-fallback\"><pre>Pipeline(steps=[(&#x27;preprocessor&#x27;,\n",
       "                 ColumnTransformer(transformers=[(&#x27;num&#x27;,\n",
       "                                                  Pipeline(steps=[(&#x27;imputer&#x27;,\n",
       "                                                                   SimpleImputer(strategy=&#x27;median&#x27;)),\n",
       "                                                                  (&#x27;scaler&#x27;,\n",
       "                                                                   StandardScaler())]),\n",
       "                                                  [&#x27;loan_amnt&#x27;, &#x27;int_rate&#x27;,\n",
       "                                                   &#x27;installment&#x27;, &#x27;annual_inc&#x27;,\n",
       "                                                   &#x27;dti&#x27;, &#x27;open_acc&#x27;, &#x27;pub_rec&#x27;,\n",
       "                                                   &#x27;revol_bal&#x27;, &#x27;revol_util&#x27;,\n",
       "                                                   &#x27;total_acc&#x27;, &#x27;mort_acc&#x27;,\n",
       "                                                   &#x27;pub_rec_bankruptcies&#x27;]),\n",
       "                                                 (&#x27;cat&#x27;,\n",
       "                                                  Pipeline(steps=[(&#x27;encoder&#x27;,\n",
       "                                                                   OneHotEncoder(handle_unknown=&#x27;ignore&#x27;)),\n",
       "                                                                  (&#x27;selector&#x27;,\n",
       "                                                                   SelectPercentile(percentile=50,\n",
       "                                                                                    score_func=&lt;function chi2 at 0x7f8c61f44940&gt;))]),\n",
       "                                                  [&#x27;term&#x27;, &#x27;sub_grade&#x27;,\n",
       "                                                   &#x27;purpose&#x27;, &#x27;zip_code&#x27;,\n",
       "                                                   &#x27;home_ownership&#x27;,\n",
       "                                                   &#x27;verification_status&#x27;,\n",
       "                                                   &#x27;initial_list_status&#x27;,\n",
       "                                                   &#x27;application_type&#x27;])])),\n",
       "                (&#x27;classifier&#x27;, LogisticRegression())])</pre><b>In a Jupyter environment, please rerun this cell to show the HTML representation or trust the notebook. <br />On GitHub, the HTML representation is unable to render, please try loading this page with nbviewer.org.</b></div><div class=\"sk-container\" hidden><div class=\"sk-item sk-dashed-wrapped\"><div class=\"sk-label-container\"><div class=\"sk-label sk-toggleable\"><input class=\"sk-toggleable__control sk-hidden--visually\" id=\"sk-estimator-id-1\" type=\"checkbox\" ><label for=\"sk-estimator-id-1\" class=\"sk-toggleable__label sk-toggleable__label-arrow\">Pipeline</label><div class=\"sk-toggleable__content\"><pre>Pipeline(steps=[(&#x27;preprocessor&#x27;,\n",
       "                 ColumnTransformer(transformers=[(&#x27;num&#x27;,\n",
       "                                                  Pipeline(steps=[(&#x27;imputer&#x27;,\n",
       "                                                                   SimpleImputer(strategy=&#x27;median&#x27;)),\n",
       "                                                                  (&#x27;scaler&#x27;,\n",
       "                                                                   StandardScaler())]),\n",
       "                                                  [&#x27;loan_amnt&#x27;, &#x27;int_rate&#x27;,\n",
       "                                                   &#x27;installment&#x27;, &#x27;annual_inc&#x27;,\n",
       "                                                   &#x27;dti&#x27;, &#x27;open_acc&#x27;, &#x27;pub_rec&#x27;,\n",
       "                                                   &#x27;revol_bal&#x27;, &#x27;revol_util&#x27;,\n",
       "                                                   &#x27;total_acc&#x27;, &#x27;mort_acc&#x27;,\n",
       "                                                   &#x27;pub_rec_bankruptcies&#x27;]),\n",
       "                                                 (&#x27;cat&#x27;,\n",
       "                                                  Pipeline(steps=[(&#x27;encoder&#x27;,\n",
       "                                                                   OneHotEncoder(handle_unknown=&#x27;ignore&#x27;)),\n",
       "                                                                  (&#x27;selector&#x27;,\n",
       "                                                                   SelectPercentile(percentile=50,\n",
       "                                                                                    score_func=&lt;function chi2 at 0x7f8c61f44940&gt;))]),\n",
       "                                                  [&#x27;term&#x27;, &#x27;sub_grade&#x27;,\n",
       "                                                   &#x27;purpose&#x27;, &#x27;zip_code&#x27;,\n",
       "                                                   &#x27;home_ownership&#x27;,\n",
       "                                                   &#x27;verification_status&#x27;,\n",
       "                                                   &#x27;initial_list_status&#x27;,\n",
       "                                                   &#x27;application_type&#x27;])])),\n",
       "                (&#x27;classifier&#x27;, LogisticRegression())])</pre></div></div></div><div class=\"sk-serial\"><div class=\"sk-item sk-dashed-wrapped\"><div class=\"sk-label-container\"><div class=\"sk-label sk-toggleable\"><input class=\"sk-toggleable__control sk-hidden--visually\" id=\"sk-estimator-id-2\" type=\"checkbox\" ><label for=\"sk-estimator-id-2\" class=\"sk-toggleable__label sk-toggleable__label-arrow\">preprocessor: ColumnTransformer</label><div class=\"sk-toggleable__content\"><pre>ColumnTransformer(transformers=[(&#x27;num&#x27;,\n",
       "                                 Pipeline(steps=[(&#x27;imputer&#x27;,\n",
       "                                                  SimpleImputer(strategy=&#x27;median&#x27;)),\n",
       "                                                 (&#x27;scaler&#x27;, StandardScaler())]),\n",
       "                                 [&#x27;loan_amnt&#x27;, &#x27;int_rate&#x27;, &#x27;installment&#x27;,\n",
       "                                  &#x27;annual_inc&#x27;, &#x27;dti&#x27;, &#x27;open_acc&#x27;, &#x27;pub_rec&#x27;,\n",
       "                                  &#x27;revol_bal&#x27;, &#x27;revol_util&#x27;, &#x27;total_acc&#x27;,\n",
       "                                  &#x27;mort_acc&#x27;, &#x27;pub_rec_bankruptcies&#x27;]),\n",
       "                                (&#x27;cat&#x27;,\n",
       "                                 Pipeline(steps=[(&#x27;encoder&#x27;,\n",
       "                                                  OneHotEncoder(handle_unknown=&#x27;ignore&#x27;)),\n",
       "                                                 (&#x27;selector&#x27;,\n",
       "                                                  SelectPercentile(percentile=50,\n",
       "                                                                   score_func=&lt;function chi2 at 0x7f8c61f44940&gt;))]),\n",
       "                                 [&#x27;term&#x27;, &#x27;sub_grade&#x27;, &#x27;purpose&#x27;, &#x27;zip_code&#x27;,\n",
       "                                  &#x27;home_ownership&#x27;, &#x27;verification_status&#x27;,\n",
       "                                  &#x27;initial_list_status&#x27;, &#x27;application_type&#x27;])])</pre></div></div></div><div class=\"sk-parallel\"><div class=\"sk-parallel-item\"><div class=\"sk-item\"><div class=\"sk-label-container\"><div class=\"sk-label sk-toggleable\"><input class=\"sk-toggleable__control sk-hidden--visually\" id=\"sk-estimator-id-3\" type=\"checkbox\" ><label for=\"sk-estimator-id-3\" class=\"sk-toggleable__label sk-toggleable__label-arrow\">num</label><div class=\"sk-toggleable__content\"><pre>[&#x27;loan_amnt&#x27;, &#x27;int_rate&#x27;, &#x27;installment&#x27;, &#x27;annual_inc&#x27;, &#x27;dti&#x27;, &#x27;open_acc&#x27;, &#x27;pub_rec&#x27;, &#x27;revol_bal&#x27;, &#x27;revol_util&#x27;, &#x27;total_acc&#x27;, &#x27;mort_acc&#x27;, &#x27;pub_rec_bankruptcies&#x27;]</pre></div></div></div><div class=\"sk-serial\"><div class=\"sk-item\"><div class=\"sk-serial\"><div class=\"sk-item\"><div class=\"sk-estimator sk-toggleable\"><input class=\"sk-toggleable__control sk-hidden--visually\" id=\"sk-estimator-id-4\" type=\"checkbox\" ><label for=\"sk-estimator-id-4\" class=\"sk-toggleable__label sk-toggleable__label-arrow\">SimpleImputer</label><div class=\"sk-toggleable__content\"><pre>SimpleImputer(strategy=&#x27;median&#x27;)</pre></div></div></div><div class=\"sk-item\"><div class=\"sk-estimator sk-toggleable\"><input class=\"sk-toggleable__control sk-hidden--visually\" id=\"sk-estimator-id-5\" type=\"checkbox\" ><label for=\"sk-estimator-id-5\" class=\"sk-toggleable__label sk-toggleable__label-arrow\">StandardScaler</label><div class=\"sk-toggleable__content\"><pre>StandardScaler()</pre></div></div></div></div></div></div></div></div><div class=\"sk-parallel-item\"><div class=\"sk-item\"><div class=\"sk-label-container\"><div class=\"sk-label sk-toggleable\"><input class=\"sk-toggleable__control sk-hidden--visually\" id=\"sk-estimator-id-6\" type=\"checkbox\" ><label for=\"sk-estimator-id-6\" class=\"sk-toggleable__label sk-toggleable__label-arrow\">cat</label><div class=\"sk-toggleable__content\"><pre>[&#x27;term&#x27;, &#x27;sub_grade&#x27;, &#x27;purpose&#x27;, &#x27;zip_code&#x27;, &#x27;home_ownership&#x27;, &#x27;verification_status&#x27;, &#x27;initial_list_status&#x27;, &#x27;application_type&#x27;]</pre></div></div></div><div class=\"sk-serial\"><div class=\"sk-item\"><div class=\"sk-serial\"><div class=\"sk-item\"><div class=\"sk-estimator sk-toggleable\"><input class=\"sk-toggleable__control sk-hidden--visually\" id=\"sk-estimator-id-7\" type=\"checkbox\" ><label for=\"sk-estimator-id-7\" class=\"sk-toggleable__label sk-toggleable__label-arrow\">OneHotEncoder</label><div class=\"sk-toggleable__content\"><pre>OneHotEncoder(handle_unknown=&#x27;ignore&#x27;)</pre></div></div></div><div class=\"sk-item\"><div class=\"sk-estimator sk-toggleable\"><input class=\"sk-toggleable__control sk-hidden--visually\" id=\"sk-estimator-id-8\" type=\"checkbox\" ><label for=\"sk-estimator-id-8\" class=\"sk-toggleable__label sk-toggleable__label-arrow\">SelectPercentile</label><div class=\"sk-toggleable__content\"><pre>SelectPercentile(percentile=50, score_func=&lt;function chi2 at 0x7f8c61f44940&gt;)</pre></div></div></div></div></div></div></div></div></div></div><div class=\"sk-item\"><div class=\"sk-estimator sk-toggleable\"><input class=\"sk-toggleable__control sk-hidden--visually\" id=\"sk-estimator-id-9\" type=\"checkbox\" ><label for=\"sk-estimator-id-9\" class=\"sk-toggleable__label sk-toggleable__label-arrow\">LogisticRegression</label><div class=\"sk-toggleable__content\"><pre>LogisticRegression()</pre></div></div></div></div></div></div></div>"
      ],
      "text/plain": [
       "Pipeline(steps=[('preprocessor',\n",
       "                 ColumnTransformer(transformers=[('num',\n",
       "                                                  Pipeline(steps=[('imputer',\n",
       "                                                                   SimpleImputer(strategy='median')),\n",
       "                                                                  ('scaler',\n",
       "                                                                   StandardScaler())]),\n",
       "                                                  ['loan_amnt', 'int_rate',\n",
       "                                                   'installment', 'annual_inc',\n",
       "                                                   'dti', 'open_acc', 'pub_rec',\n",
       "                                                   'revol_bal', 'revol_util',\n",
       "                                                   'total_acc', 'mort_acc',\n",
       "                                                   'pub_rec_bankruptcies']),\n",
       "                                                 ('cat',\n",
       "                                                  Pipeline(steps=[('encoder',\n",
       "                                                                   OneHotEncoder(handle_unknown='ignore')),\n",
       "                                                                  ('selector',\n",
       "                                                                   SelectPercentile(percentile=50,\n",
       "                                                                                    score_func=<function chi2 at 0x7f8c61f44940>))]),\n",
       "                                                  ['term', 'sub_grade',\n",
       "                                                   'purpose', 'zip_code',\n",
       "                                                   'home_ownership',\n",
       "                                                   'verification_status',\n",
       "                                                   'initial_list_status',\n",
       "                                                   'application_type'])])),\n",
       "                ('classifier', LogisticRegression())])"
      ]
     },
     "execution_count": 15,
     "metadata": {},
     "output_type": "execute_result"
    }
   ],
   "source": [
    "from sklearn.linear_model import LogisticRegression\n",
    "\n",
    "clf = Pipeline(\n",
    "    steps=[(\"preprocessor\", preprocessor), (\"classifier\", LogisticRegression())]\n",
    ")\n",
    "\n",
    "clf.fit(X_train, y_train['loan_status'].ravel())\n"
   ]
  },
  {
   "cell_type": "code",
   "execution_count": 16,
   "id": "558157e2",
   "metadata": {},
   "outputs": [
    {
     "name": "stdout",
     "output_type": "stream",
     "text": [
      "Train Result:\n",
      "================================================\n",
      "Accuracy Score: 88.90%\n",
      "_______________________________________________\n",
      "CLASSIFICATION REPORT:\n",
      "                 0         1  accuracy  macro avg  weighted avg\n",
      "precision     0.95      0.88      0.89       0.92          0.90\n",
      "recall        0.46      0.99      0.89       0.73          0.89\n",
      "f1-score      0.62      0.94      0.89       0.78          0.87\n",
      "support   62071.00 254104.00      0.89  316175.00     316175.00\n",
      "_______________________________________________\n",
      "Confusion Matrix: \n",
      " [[ 28372  33699]\n",
      " [  1399 252705]]\n",
      "\n",
      "Test Result:\n",
      "================================================\n",
      "Accuracy Score: 88.96%\n",
      "_______________________________________________\n",
      "CLASSIFICATION REPORT:\n",
      "                 0        1  accuracy  macro avg  weighted avg\n",
      "precision     0.95     0.88      0.89       0.92          0.90\n",
      "recall        0.46     0.99      0.89       0.73          0.89\n",
      "f1-score      0.62     0.94      0.89       0.78          0.87\n",
      "support   15452.00 63592.00      0.89   79044.00      79044.00\n",
      "_______________________________________________\n",
      "Confusion Matrix: \n",
      " [[ 7114  8338]\n",
      " [  385 63207]]\n",
      "\n"
     ]
    }
   ],
   "source": [
    "y_train_pred = clf.predict(X_train)\n",
    "y_test_pred = clf.predict(X_test)\n",
    "\n",
    "print_score(y_train, y_train_pred, train=True)\n",
    "print_score(y_test, y_test_pred, train=False)"
   ]
  },
  {
   "cell_type": "code",
   "execution_count": 17,
   "id": "0221c340",
   "metadata": {
    "execution": {
     "iopub.execute_input": "2023-01-31T14:32:39.229358Z",
     "iopub.status.busy": "2023-01-31T14:32:39.229002Z",
     "iopub.status.idle": "2023-01-31T14:32:40.630885Z",
     "shell.execute_reply": "2023-01-31T14:32:40.629547Z"
    },
    "papermill": {
     "duration": 2.472623,
     "end_time": "2023-01-31T14:32:40.633694",
     "exception": false,
     "start_time": "2023-01-31T14:32:38.161071",
     "status": "completed"
    },
    "tags": []
   },
   "outputs": [
    {
     "data": {
      "text/plain": [
       "<sklearn.metrics._plot.roc_curve.RocCurveDisplay at 0x7f8c61fd79d0>"
      ]
     },
     "execution_count": 17,
     "metadata": {},
     "output_type": "execute_result"
    },
    {
     "data": {
      "image/png": "[encoded data removed]",
      "text/plain": [
       "<Figure size 640x480 with 2 Axes>"
      ]
     },
     "metadata": {},
     "output_type": "display_data"
    },
    {
     "data": {
      "image/png": "[encoded data removed]",
      "text/plain": [
       "<Figure size 640x480 with 1 Axes>"
      ]
     },
     "metadata": {},
     "output_type": "display_data"
    },
    {
     "data": {
      "image/png": "[encoded data removed]",
      "text/plain": [
       "<Figure size 640x480 with 1 Axes>"
      ]
     },
     "metadata": {},
     "output_type": "display_data"
    }
   ],
   "source": [
    "disp = ConfusionMatrixDisplay.from_estimator(\n",
    "    clf, X_test, y_test, \n",
    "    cmap='Blues', values_format='d', \n",
    "    display_labels=['Default', 'Fully-Paid']\n",
    ")\n",
    "\n",
    "display = RocCurveDisplay.from_estimator(clf, X_test, y_test)\n",
    "display.plot()"
   ]
  },
  {
   "cell_type": "markdown",
   "id": "d2d59196",
   "metadata": {},
   "source": [
    "# ✔️ Register the Model with Model Registry"
   ]
  },
  {
   "cell_type": "code",
   "execution_count": 18,
   "id": "f6abb6d9",
   "metadata": {
    "papermill": {
     "duration": 1.025564,
     "end_time": "2023-01-31T14:35:05.140208",
     "exception": false,
     "start_time": "2023-01-31T14:35:04.114644",
     "status": "completed"
    },
    "tags": []
   },
   "outputs": [
    {
     "name": "stdout",
     "output_type": "stream",
     "text": [
      "Connected. Call `.close()` to terminate connection gracefully.\n"
     ]
    }
   ],
   "source": [
    "mr = proj.get_model_registry()"
   ]
  },
  {
   "cell_type": "code",
   "execution_count": 19,
   "id": "c980e883",
   "metadata": {},
   "outputs": [
    {
     "data": {
      "text/plain": [
       "<Figure size 640x480 with 0 Axes>"
      ]
     },
     "metadata": {},
     "output_type": "display_data"
    }
   ],
   "source": [
    "import joblib\n",
    "import os\n",
    "os.makedirs(\"lending_model/features\", exist_ok=True)\n",
    "plt.savefig('lending_model/roc_curve.png')\n",
    "joblib.dump(clf, 'lending_model/lending_model.pkl')\n",
    "\n",
    "accuracy = roc_auc_score(y_test, clf.predict(X_test))"
   ]
  },
  {
   "cell_type": "code",
   "execution_count": 20,
   "id": "c505aa34",
   "metadata": {},
   "outputs": [
    {
     "data": {
      "text/plain": [
       "0.7271696279579628"
      ]
     },
     "execution_count": 20,
     "metadata": {},
     "output_type": "execute_result"
    }
   ],
   "source": [
    "accuracy"
   ]
  },
  {
   "cell_type": "code",
   "execution_count": 21,
   "id": "9c1bee22",
   "metadata": {},
   "outputs": [
    {
     "data": {
      "application/vnd.jupyter.widget-view+json": {
       "model_id": "e261f35e26d44f0ea2bf25f91008f448",
       "version_major": 2,
       "version_minor": 0
      },
      "text/plain": [
       "  0%|          | 0/6 [00:00<?, ?it/s]"
      ]
     },
     "metadata": {},
     "output_type": "display_data"
    },
    {
     "name": "stdout",
     "output_type": "stream",
     "text": [
      "Model created, explore it at https://35.187.37.222:443/p/119/models/lending_model/3\n"
     ]
    },
    {
     "data": {
      "text/plain": [
       "Model(name: 'lending_model', version: 3)"
      ]
     },
     "execution_count": 21,
     "metadata": {},
     "output_type": "execute_result"
    }
   ],
   "source": [
    "from hsml.schema import Schema\n",
    "from hsml.model_schema import ModelSchema\n",
    "\n",
    "input_schema = Schema(X_test)\n",
    "output_schema = Schema(y_test)\n",
    "\n",
    "fraud_model = mr.sklearn.create_model(\"lending_model\",\n",
    "                                      metrics={'accuracy': accuracy},\n",
    "                                      input_example=X_test.sample().to_numpy(), \n",
    "                                      model_schema=ModelSchema(input_schema=input_schema, output_schema=output_schema))\n",
    "fraud_model.save('lending_model')"
   ]
  }
 ],
 "metadata": {
  "kernelspec": {
   "display_name": "main",
   "language": "python",
   "name": "main"
  },
  "language_info": {
   "codemirror_mode": {
    "name": "ipython",
    "version": 3
   },
   "file_extension": ".py",
   "mimetype": "text/x-python",
   "name": "python",
   "nbconvert_exporter": "python",
   "pygments_lexer": "ipython3",
   "version": "3.9.0"
  },
  "papermill": {
   "default_parameters": {},
   "duration": 1434.559462,
   "end_time": "2023-01-31T14:35:09.548746",
   "environment_variables": {},
   "exception": null,
   "input_path": "__notebook__.ipynb",
   "output_path": "__notebook__.ipynb",
   "parameters": {},
   "start_time": "2023-01-31T14:11:14.989284",
   "version": "2.3.4"
  }
 },
 "nbformat": 4,
 "nbformat_minor": 5
}
