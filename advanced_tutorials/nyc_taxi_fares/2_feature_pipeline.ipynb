{
 "cells": [
  {
   "cell_type": "markdown",
   "id": "dd094af7",
   "metadata": {},
   "source": [
    "# <span style=\"font-width:bold; font-size: 3rem; color:#1EB182;\">**Hopsworks Feature Store** </span><span style=\"font-width:bold; font-size: 3rem; color:#333;\">- Part 02: Feature Pipeline</span>\n",
    "\n",
    "[![Open In Colab](https://colab.research.google.com/assets/colab-badge.svg)](https://colab.research.google.com/github/logicalclocks/hopsworks-tutorials/blob/master/advanced_tutorials/nyc_taxi_fares/2_feature_pipeline.ipynb)\n",
    "\n",
    "## 🗒️ This notebook is divided into 2 sections:\n",
    "1. **Data generation**,\n",
    "2. **Insert new data into the Feature Store**."
   ]
  },
  {
   "cell_type": "markdown",
   "id": "a7dcc328",
   "metadata": {},
   "source": [
    "### <span style='color:#ff5f27'> 📝 Imports"
   ]
  },
  {
   "cell_type": "code",
   "execution_count": null,
   "id": "da6d422b",
   "metadata": {},
   "outputs": [],
   "source": [
    "import warnings\n",
    "\n",
    "# Mute warnings\n",
    "warnings.filterwarnings(\"ignore\")"
   ]
  },
  {
   "cell_type": "code",
   "execution_count": null,
   "id": "364e961e",
   "metadata": {},
   "outputs": [],
   "source": [
    "import pandas as pd\n",
    "from datetime import datetime\n",
    "import time \n",
    "import os \n",
    "\n",
    "from functions import *"
   ]
  },
  {
   "cell_type": "markdown",
   "id": "5ba98499",
   "metadata": {},
   "source": [
    "___"
   ]
  },
  {
   "cell_type": "markdown",
   "id": "cca6814a",
   "metadata": {},
   "source": [
    "## <span style=\"color:#ff5f27;\"> 🪄 Generating new data</span>"
   ]
  },
  {
   "cell_type": "markdown",
   "id": "2f172f7b",
   "metadata": {},
   "source": [
    "### <span style='color:#ff5f27'> 🚖 Rides Data"
   ]
  },
  {
   "cell_type": "code",
   "execution_count": null,
   "id": "7d3f552e",
   "metadata": {},
   "outputs": [],
   "source": [
    "df_rides = generate_rides_data(150)\n",
    "\n",
    "df_rides"
   ]
  },
  {
   "cell_type": "code",
   "execution_count": null,
   "id": "9da2d928",
   "metadata": {},
   "outputs": [],
   "source": [
    "df_rides = calculate_distance_features(df_rides)"
   ]
  },
  {
   "cell_type": "code",
   "execution_count": null,
   "id": "5a82cf43",
   "metadata": {},
   "outputs": [],
   "source": [
    "df_rides = calculate_datetime_features(df_rides)"
   ]
  },
  {
   "cell_type": "code",
   "execution_count": null,
   "id": "c392ec8a",
   "metadata": {},
   "outputs": [],
   "source": [
    "# now save the newly-generated ride_ids.\n",
    "# it will be retrieved and used in for fares data generation\n",
    "ride_ids = df_rides.ride_id"
   ]
  },
  {
   "cell_type": "code",
   "execution_count": null,
   "id": "94640dfe",
   "metadata": {},
   "outputs": [],
   "source": [
    "for col in [\"passenger_count\", \"taxi_id\", \"driver_id\"]:\n",
    "    df_rides[col] = df_rides[col].astype(\"int64\")"
   ]
  },
  {
   "cell_type": "markdown",
   "id": "5441afc6",
   "metadata": {},
   "source": [
    "### <span style='color:#ff5f27'> 💸 Fares Data"
   ]
  },
  {
   "cell_type": "code",
   "execution_count": null,
   "id": "be60bd25",
   "metadata": {
    "scrolled": true
   },
   "outputs": [],
   "source": [
    "df_fares = generate_fares_data(150)\n",
    "\n",
    "df_fares"
   ]
  },
  {
   "cell_type": "code",
   "execution_count": null,
   "id": "17ed490a",
   "metadata": {},
   "outputs": [],
   "source": [
    "df_fares = df_fares.astype(\"int64\")"
   ]
  },
  {
   "cell_type": "code",
   "execution_count": null,
   "id": "1193d62e",
   "metadata": {},
   "outputs": [],
   "source": [
    "# lets load our ride_ids which were created moments ago for rides_fg\n",
    "df_fares[\"ride_id\"] = ride_ids"
   ]
  },
  {
   "cell_type": "code",
   "execution_count": null,
   "id": "742b556e",
   "metadata": {},
   "outputs": [],
   "source": [
    "for col in [\"tolls\", \"total_fare\"]:\n",
    "    df_fares[col] = df_fares[col].astype(\"double\")"
   ]
  },
  {
   "cell_type": "markdown",
   "id": "a18fba0e",
   "metadata": {},
   "source": [
    "___"
   ]
  },
  {
   "cell_type": "markdown",
   "id": "10c2618b",
   "metadata": {},
   "source": [
    "## <span style=\"color:#ff5f27;\"> 📡 Connecting to the Hopsworks Feature Store </span>"
   ]
  },
  {
   "cell_type": "code",
   "execution_count": null,
   "id": "4530f803",
   "metadata": {},
   "outputs": [],
   "source": [
    "import hopsworks\n",
    "\n",
    "project = hopsworks.login()\n",
    "\n",
    "fs = project.get_feature_store() "
   ]
  },
  {
   "cell_type": "code",
   "execution_count": null,
   "id": "4e4f3e0c",
   "metadata": {},
   "outputs": [],
   "source": [
    "rides_fg = fs.get_or_create_feature_group(name=\"nyc_taxi_rides\",\n",
    "                                          version=1)   \n",
    "\n",
    "fares_fg = fs.get_or_create_feature_group(name=\"nyc_taxi_fares\",\n",
    "                                          version=1)   "
   ]
  },
  {
   "cell_type": "markdown",
   "id": "f56930ea",
   "metadata": {},
   "source": [
    "---"
   ]
  },
  {
   "cell_type": "markdown",
   "id": "5aef353d",
   "metadata": {},
   "source": [
    "## <span style=\"color:#ff5f27;\">⬆️ Uploading new data to the Feature Store</span>"
   ]
  },
  {
   "cell_type": "code",
   "execution_count": null,
   "id": "f81bb922",
   "metadata": {},
   "outputs": [],
   "source": [
    "rides_fg.insert(df_rides, write_options={\"wait_for_job\": False})"
   ]
  },
  {
   "cell_type": "code",
   "execution_count": null,
   "id": "be0c498e",
   "metadata": {
    "scrolled": true
   },
   "outputs": [],
   "source": [
    "fares_fg.insert(df_fares, write_options={\"wait_for_job\": False})"
   ]
  },
  {
   "cell_type": "markdown",
   "id": "b3b7d4c4",
   "metadata": {},
   "source": [
    "---"
   ]
  },
  {
   "cell_type": "markdown",
   "id": "30891844",
   "metadata": {},
   "source": [
    "## <span style=\"color:#ff5f27;\">⏭️ **Next:** Part 03 </span>\n",
    "\n",
    "In the next notebook, you will create a feature view and training dataset."
   ]
  }
 ],
 "metadata": {
  "kernelspec": {
   "display_name": "Python 3 (ipykernel)",
   "language": "python",
   "name": "python3"
  },
  "language_info": {
   "codemirror_mode": {
    "name": "ipython",
    "version": 3
   },
   "file_extension": ".py",
   "mimetype": "text/x-python",
   "name": "python",
   "nbconvert_exporter": "python",
   "pygments_lexer": "ipython3",
   "version": "3.8.15"
  },
  "vscode": {
   "interpreter": {
    "hash": "190ea7959a836f4799545ea0f3718ade3abee093b15861ffdc25233d6ab7050e"
   }
  }
 },
 "nbformat": 4,
 "nbformat_minor": 5
}
