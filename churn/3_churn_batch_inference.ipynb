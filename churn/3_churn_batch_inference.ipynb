{
 "cells": [
  {
   "cell_type": "markdown",
   "id": "2710cb61",
   "metadata": {},
   "source": [
    "# <span style=\"font-width:bold; font-size: 3rem; color:#1EB182;\"><img src=\"../images/icon102.png\" width=\"38px\"></img> **Hopsworks Feature Store** </span><span style=\"font-width:bold; font-size: 3rem; color:#333;\">- Part 03: Batch Inference</span>\n",
    "\n",
    "[![Open In Colab](https://colab.research.google.com/assets/colab-badge.svg)](https://colab.research.google.com/github/logicalclocks/hopsworks-tutorials/blob/master/churn/3_churn_batch_inference.ipynb)"
   ]
  },
  {
   "cell_type": "markdown",
   "id": "91221f50",
   "metadata": {},
   "source": [
    "### <span style='color:#ff5f27'> 📝 Imports"
   ]
  },
  {
   "cell_type": "code",
   "execution_count": null,
   "id": "a35f9502",
   "metadata": {},
   "outputs": [],
   "source": [
    "!pip install -U hopsworks --quiet"
   ]
  },
  {
   "cell_type": "code",
   "execution_count": null,
   "id": "5634f0a1",
   "metadata": {},
   "outputs": [],
   "source": [
    "from xgboost import (\n",
    "    XGBClassifier, \n",
    "    plot_importance,\n",
    ")\n",
    "import matplotlib.pyplot as plt\n",
    "import seaborn as sns\n",
    "\n",
    "import warnings\n",
    "warnings.filterwarnings('ignore')"
   ]
  },
  {
   "cell_type": "markdown",
   "id": "65b0eb1d",
   "metadata": {},
   "source": [
    "## <span style=\"color:#ff5f27;\"> 📡 Connecting to Hopsworks Feature Store </span>"
   ]
  },
  {
   "cell_type": "code",
   "execution_count": null,
   "id": "c94353e7",
   "metadata": {},
   "outputs": [],
   "source": [
    "import hopsworks\n",
    "\n",
    "project = hopsworks.login()\n",
    "\n",
    "fs = project.get_feature_store()"
   ]
  },
  {
   "cell_type": "markdown",
   "id": "b4d72861",
   "metadata": {},
   "source": [
    "## <span style=\"color:#ff5f27;\"> ⚙️ Feature View Retrieval</span>\n"
   ]
  },
  {
   "cell_type": "code",
   "execution_count": null,
   "id": "d55ff11f",
   "metadata": {},
   "outputs": [],
   "source": [
    "# Retrieve the churn_feature_view\n",
    "feature_view = fs.get_feature_view(\n",
    "        name = 'churn_feature_view',\n",
    "        version = 1,\n",
    ")"
   ]
  },
  {
   "cell_type": "markdown",
   "id": "6f7b31a0",
   "metadata": {},
   "source": [
    "## <span style=\"color:#ff5f27;\">🗄 Model Registry</span>\n"
   ]
  },
  {
   "cell_type": "code",
   "execution_count": null,
   "id": "8d0d05bc",
   "metadata": {},
   "outputs": [],
   "source": [
    "# Get the model registry\n",
    "mr = project.get_model_registry()"
   ]
  },
  {
   "cell_type": "markdown",
   "id": "38d83203",
   "metadata": {},
   "source": [
    "---\n",
    "\n",
    "## <span style='color:#ff5f27'>🚀 Fetch and test the model</span>\n",
    "\n",
    "To identify customers at risk of churn lets retrieve your churn prediction model from Hopsworks model registry."
   ]
  },
  {
   "cell_type": "code",
   "execution_count": null,
   "id": "cc8a1687",
   "metadata": {},
   "outputs": [],
   "source": [
    "# Retrieve the model from the model registry\n",
    "retrieved_model = mr.get_model(\n",
    "    name=\"churnmodel\",\n",
    "    version=1,\n",
    ")\n",
    "\n",
    "# Download the saved model files to a local directory\n",
    "saved_model_dir = retrieved_model.download()"
   ]
  },
  {
   "cell_type": "code",
   "execution_count": null,
   "id": "ca62f805",
   "metadata": {},
   "outputs": [],
   "source": [
    "# Initialize the model\n",
    "model = XGBClassifier()\n",
    "\n",
    "# Load the model from a saved JSON file\n",
    "model.load_model(saved_model_dir + \"/model.json\")\n",
    "model"
   ]
  },
  {
   "cell_type": "markdown",
   "id": "eb7680ed",
   "metadata": {},
   "source": [
    "---\n",
    "## <span style=\"color:#ff5f27;\">🔮  Use trained model to identify customers at risk of churn </span>\n"
   ]
  },
  {
   "cell_type": "code",
   "execution_count": null,
   "id": "67a4ac87",
   "metadata": {},
   "outputs": [],
   "source": [
    "def transform_preds(predictions):\n",
    "    # Transform numeric predictions to human-readable labels\n",
    "    return [\n",
    "        'Churn' \n",
    "        if pred == 1 \n",
    "        else 'Not Churn' \n",
    "        for pred \n",
    "        in predictions\n",
    "    ]"
   ]
  },
  {
   "cell_type": "code",
   "execution_count": null,
   "id": "880d106f",
   "metadata": {},
   "outputs": [],
   "source": [
    "# Initialize batch scoring\n",
    "feature_view.init_batch_scoring(1)\n",
    "\n",
    "# Get the batch data\n",
    "batch_data = feature_view.get_batch_data()\n",
    "\n",
    "# Display the first three rows of the batch_data\n",
    "batch_data.head(3)"
   ]
  },
  {
   "cell_type": "markdown",
   "id": "c522b923",
   "metadata": {},
   "source": [
    "Let's predict the all for all customer data and then visualize predictions."
   ]
  },
  {
   "cell_type": "code",
   "execution_count": null,
   "id": "7e48ba91",
   "metadata": {},
   "outputs": [],
   "source": [
    "# Drop the 'customerid' column from the batch data\n",
    "batch_data.drop('customerid', axis=1, inplace=True)\n",
    "\n",
    "# Use the retrieved XGBoost model to make predictions on the batch data\n",
    "predictions = model.predict(batch_data)\n",
    "\n",
    "# Transform numeric predictions to human-readable labels\n",
    "predictions = transform_preds(predictions)\n",
    "\n",
    "# Display the first five predictions\n",
    "predictions[:5]"
   ]
  },
  {
   "cell_type": "markdown",
   "id": "e5a41f2e",
   "metadata": {},
   "source": [
    "---\n",
    "## <span style=\"color:#ff5f27;\">👨🏻‍🎨 Prediction Visualisation</span>\n",
    "\n",
    "Now you got your predictions but you also would like to exlain predictions to make informed decisions. Lets visualise them and explain important features that influences on the risk of churning."
   ]
  },
  {
   "cell_type": "code",
   "execution_count": null,
   "id": "8dcefec6",
   "metadata": {},
   "outputs": [],
   "source": [
    "import inspect \n",
    "\n",
    "# Recall that you applied transformation functions, such as min max scaler and laber encoder. \n",
    "# Now you want to transform them back to human readable format.\n",
    "df_all = batch_data.copy()\n",
    "td_transformation_functions = feature_view._batch_scoring_server._transformation_functions\n",
    "for feature_name in td_transformation_functions:\n",
    "    td_transformation_function = td_transformation_functions[feature_name]\n",
    "    sig, foobar_locals = inspect.signature(td_transformation_function.transformation_fn), locals()\n",
    "    param_dict = dict([(param.name, param.default) for param in sig.parameters.values() if param.default != inspect._empty])\n",
    "    if td_transformation_function.name == \"label_encoder\":\n",
    "        rev_dict = {v: k for k, v in param_dict[\"value_to_index\"].items()}\n",
    "        df_all[feature_name] = df_all[feature_name].map(lambda x: rev_dict[x])\n",
    "    if td_transformation_function.name == \"min_max_scaler\":\n",
    "        df_all[feature_name] = df_all[feature_name].map(lambda x: x*(param_dict[\"max_value\"]-param_dict[\"min_value\"])+param_dict[\"min_value\"])\n",
    "\n",
    "            \n",
    "df_all = df_all\n",
    "df_all['Churn'] = predictions\n",
    "df_all.head()"
   ]
  },
  {
   "cell_type": "markdown",
   "id": "4ee29f72",
   "metadata": {},
   "source": [
    "Lets plot feature importance "
   ]
  },
  {
   "cell_type": "code",
   "execution_count": null,
   "id": "669cd297",
   "metadata": {},
   "outputs": [],
   "source": [
    "# Plot feature importance using XGBoost's plot_importance function\n",
    "figure_imp = plot_importance(\n",
    "    model,                    # The retrieved XGBoost model\n",
    "    max_num_features=10,      # Maximum number of features to display\n",
    "    importance_type='weight', # Type of importance to display ('weight' represents the number of times a feature appears in a tree across all trees)\n",
    ")\n",
    "\n",
    "# Show the plot\n",
    "plt.show()"
   ]
  },
  {
   "cell_type": "code",
   "execution_count": null,
   "id": "b554d9c5",
   "metadata": {},
   "outputs": [],
   "source": [
    "plt.figure(figsize = (13,6))\n",
    "\n",
    "sns.countplot(\n",
    "    data=df_all,\n",
    "    x='internetservice',\n",
    "    hue='Churn',\n",
    ")\n",
    "\n",
    "plt.title('Churn rate according to internet service subscribtion', fontsize=20)\n",
    "plt.xlabel(\"internetservice\", fontsize=13)\n",
    "plt.ylabel('Number of customers', fontsize=13)\n",
    "\n",
    "plt.show()"
   ]
  },
  {
   "cell_type": "markdown",
   "id": "97b466fb",
   "metadata": {},
   "source": [
    "Lets visualise couple of more imporant features such as `streamingtv` and `streamingmovies`"
   ]
  },
  {
   "cell_type": "code",
   "execution_count": null,
   "id": "1f7ad6b4",
   "metadata": {},
   "outputs": [],
   "source": [
    "plt.figure(figsize = (13,6))\n",
    "\n",
    "sns.countplot(\n",
    "    data=df_all,\n",
    "    x='streamingtv',\n",
    "    hue='Churn',\n",
    ")\n",
    "\n",
    "plt.title('Churn rate according to internet streaming tv subscribtion', fontsize=20)\n",
    "plt.xlabel(\"streamingtv\", fontsize=13)\n",
    "plt.ylabel('Number of customers', fontsize=13)\n",
    "\n",
    "plt.show()"
   ]
  },
  {
   "cell_type": "code",
   "execution_count": null,
   "id": "6d83fe76",
   "metadata": {},
   "outputs": [],
   "source": [
    "plt.figure(figsize = (13,6))\n",
    "\n",
    "sns.countplot(\n",
    "    data=df_all,\n",
    "    x='streamingtv',\n",
    "    hue='Churn',\n",
    ")\n",
    "\n",
    "plt.title('Churn rate according to streaming movies service subscribtion', fontsize=20)\n",
    "plt.xlabel(\"streamingmovies\", fontsize=13)\n",
    "plt.ylabel('Number of customers', fontsize=13)\n",
    "\n",
    "plt.show()"
   ]
  },
  {
   "cell_type": "code",
   "execution_count": null,
   "id": "22b5744a",
   "metadata": {},
   "outputs": [],
   "source": [
    "plt.figure(figsize = (13,6))\n",
    "\n",
    "sns.countplot(\n",
    "    data=df_all,\n",
    "    x='gender',\n",
    "    hue='Churn',\n",
    ")\n",
    "\n",
    "plt.title('Churn rate according to Gender', fontsize=20)\n",
    "plt.xlabel(\"Gender\", fontsize=13)\n",
    "plt.ylabel('Count', fontsize=13)\n",
    "\n",
    "plt.show()"
   ]
  },
  {
   "cell_type": "code",
   "execution_count": null,
   "id": "785a8c93",
   "metadata": {},
   "outputs": [],
   "source": [
    "plt.figure(figsize = (13,6))\n",
    "\n",
    "sns.histplot(\n",
    "    data=df_all,\n",
    "    x='totalcharges',\n",
    "    hue='Churn',\n",
    ")\n",
    "\n",
    "plt.title('Amount of each Payment Method', fontsize=20)\n",
    "plt.xlabel(\"Charge Value\", fontsize=13)\n",
    "plt.ylabel('Count', fontsize=13)\n",
    "\n",
    "plt.show()"
   ]
  },
  {
   "cell_type": "code",
   "execution_count": null,
   "id": "f844088e",
   "metadata": {},
   "outputs": [],
   "source": [
    "plt.figure(figsize = (13,6))\n",
    "\n",
    "sns.countplot(\n",
    "    data=df_all,\n",
    "    x='paymentmethod',\n",
    "    hue='Churn',\n",
    ")\n",
    "\n",
    "plt.title('Amount of each Payment Method', fontsize=20)\n",
    "plt.xlabel(\"Payment Method\", fontsize=13)\n",
    "plt.ylabel('Total Amount', fontsize=13)\n",
    "\n",
    "plt.show()"
   ]
  },
  {
   "cell_type": "code",
   "execution_count": null,
   "id": "3b1bae8e",
   "metadata": {},
   "outputs": [],
   "source": [
    "plt.figure(figsize = (13,6))\n",
    "\n",
    "sns.countplot(\n",
    "    data=df_all,\n",
    "    x='partner',\n",
    "    hue='Churn',\n",
    ")\n",
    "\n",
    "plt.title('Affect of having a partner on Churn/Not', fontsize=20)\n",
    "plt.xlabel(\"Have a partner\", fontsize=13)\n",
    "plt.ylabel('Count', fontsize=13)\n",
    "\n",
    "plt.show()"
   ]
  },
  {
   "cell_type": "markdown",
   "id": "203cb336",
   "metadata": {},
   "source": [
    "---\n",
    "## <span style=\"color:#ff5f27;\">🧑🏻‍🔬 StreamLit App </span>\n",
    "\n",
    "If you want to use an **interactive dashboards** - you can use a StreamLit App.\n",
    "\n",
    "Use the following commands in terminal to run a Streamlit App:\n",
    "\n",
    "> `cd {%path_to_hopsworks_tutorials%}/`  </br>\n",
    "> `conda activate ./miniconda/envs/hopsworks` </br>\n",
    "> `python -m streamlit run churn/streamlit_app.py`</br>\n",
    "\n",
    "**⚠️** If you are running on Colab, you will need to follow a different procedure. As highlighted in this [notebook](https://colab.research.google.com/github/mrm8488/shared_colab_notebooks/blob/master/Create_streamlit_app.ipynb). "
   ]
  },
  {
   "cell_type": "markdown",
   "id": "969cdae1",
   "metadata": {},
   "source": [
    "---\n",
    "## <span style=\"color:#ff5f27;\"> 👓  Exploration</span>\n",
    "In the Hopsworks feature store, the metadata allows for multiple levels of explorations and review. Here we will show a few of those capacities. \n",
    "\n",
    "### <span style=\"color:#ff5f27;\">🔎 <b>Search</b></span> \n",
    "Using the search function in the ui, you can query any aspect of the feature groups, feature_view and training data that was previously created.\n",
    "\n",
    "### <span style=\"color:#ff5f27;\">📊 <b>Statistics</b> </span>\n",
    "We can also enable statistics in one or all the feature groups."
   ]
  },
  {
   "cell_type": "code",
   "execution_count": null,
   "id": "76d0033b",
   "metadata": {},
   "outputs": [],
   "source": [
    "customer_info_fg = fs.get_feature_group(\"customer_info\", version = 1)\n",
    "customer_info_fg.statistics_config = {\n",
    "    \"enabled\": True,\n",
    "    \"histograms\": True,\n",
    "    \"correlations\": True,\n",
    "}\n",
    "\n",
    "customer_info_fg.update_statistics_config()\n",
    "customer_info_fg.compute_statistics()"
   ]
  },
  {
   "cell_type": "markdown",
   "id": "0a4eeba0",
   "metadata": {},
   "source": [
    "![fg-statistics](../churn/images/churn_statistics.gif)\n",
    "\n",
    "\n",
    "### <span style=\"color:#ff5f27;\">⛓️ <b> Lineage </b> </span>\n",
    "In all the feature groups and feature view you can look at the relation between each abstractions; what feature group created which training dataset and that is used in which model.\n",
    "This allows for a clear undestanding of the pipeline in relation to each element. "
   ]
  },
  {
   "cell_type": "markdown",
   "id": "e3d0628e",
   "metadata": {},
   "source": [
    "---\n",
    "\n",
    "### <span style=\"color:#ff5f27;\">🥳 <b> Next Steps  </b> </span>\n",
    "Congratulations you've now completed the churn risk prediction tutorial for Managed Hopsworks.\n",
    "\n",
    "Check out our other tutorials on ➡ https://github.com/logicalclocks/hopsworks-tutorials\n",
    "\n",
    "Or documentation at ➡ https://docs.hopsworks.ai"
   ]
  }
 ],
 "metadata": {
  "kernelspec": {
   "display_name": "Python 3",
   "language": "python",
   "name": "python3"
  },
  "language_info": {
   "codemirror_mode": {
    "name": "ipython",
    "version": 3
   },
   "file_extension": ".py",
   "mimetype": "text/x-python",
   "name": "python",
   "nbconvert_exporter": "python",
   "pygments_lexer": "ipython3",
   "version": "3.10.11"
  }
 },
 "nbformat": 4,
 "nbformat_minor": 5
}
