{
 "cells": [
  {
   "cell_type": "markdown",
   "id": "5615c2ae",
   "metadata": {},
   "source": [
    "## <span style='color:#ff5f27'> 📝 Imports </span>"
   ]
  },
  {
   "cell_type": "code",
   "execution_count": null,
   "id": "9fd527fe",
   "metadata": {},
   "outputs": [],
   "source": [
    "import pandas as pd\n",
    "import numpy as np\n",
    "\n",
    "# Mute warnings\n",
    "import warnings\n",
    "warnings.filterwarnings(\"ignore\")"
   ]
  },
  {
   "cell_type": "markdown",
   "id": "97f5d51d",
   "metadata": {},
   "source": [
    "## <span style=\"color:#ff5f27;\"> 💽 Data Loading</span>\n",
    "\n",
    "In this case, you are predicting the waiting time for a deceased donor kidney transplant involves estimating the duration a patient might need to wait from the time they are registered on the transplant list until a suitable donor kidney becomes available for transplantation."
   ]
  },
  {
   "cell_type": "code",
   "execution_count": null,
   "id": "819100e5",
   "metadata": {},
   "outputs": [],
   "source": [
    "patient_demographics_data = pd.read_csv(\n",
    "    'https://repo.hops.works/dev/davit/hospital_wait_time/patient_demographics.csv', \n",
    "    parse_dates=['date'],\n",
    ")\n",
    "patient_demographics_data.head(3)"
   ]
  },
  {
   "cell_type": "code",
   "execution_count": null,
   "id": "9d827df9",
   "metadata": {},
   "outputs": [],
   "source": [
    "medical_background_data = pd.read_csv(\n",
    "    'https://repo.hops.works/dev/davit/hospital_wait_time/medical_background.csv', \n",
    "    parse_dates=['date'],\n",
    ")\n",
    "medical_background_data.head(3)"
   ]
  },
  {
   "cell_type": "code",
   "execution_count": null,
   "id": "7f7973d2",
   "metadata": {},
   "outputs": [],
   "source": [
    "transplant_compatibility_data = pd.read_csv(\n",
    "    'https://repo.hops.works/dev/davit/hospital_wait_time/transplant_compatibility.csv', \n",
    "    parse_dates=['date'],\n",
    ")\n",
    "transplant_compatibility_data.columns = transplant_compatibility_data.columns.str.lower()\n",
    "transplant_compatibility_data.head(3)"
   ]
  },
  {
   "cell_type": "markdown",
   "id": "c7a4c7c6",
   "metadata": {},
   "source": [
    "## <span style=\"color:#ff5f27;\"> 👨🏻‍🍳 Data Preparation</span>\n"
   ]
  },
  {
   "cell_type": "code",
   "execution_count": null,
   "id": "23284e32",
   "metadata": {},
   "outputs": [],
   "source": [
    "patient_demographics_data.isna().sum()[patient_demographics_data.isna().sum() > 0] / len(patient_demographics_data)*100"
   ]
  },
  {
   "cell_type": "code",
   "execution_count": null,
   "id": "5532bdbf",
   "metadata": {},
   "outputs": [],
   "source": [
    "medical_background_data.isna().sum()[medical_background_data.isna().sum() > 0] / len(medical_background_data)*100"
   ]
  },
  {
   "cell_type": "code",
   "execution_count": null,
   "id": "31876981",
   "metadata": {},
   "outputs": [],
   "source": [
    "transplant_compatibility_data.isna().sum()[transplant_compatibility_data.isna().sum() > 0] / len(transplant_compatibility_data)*100"
   ]
  },
  {
   "cell_type": "code",
   "execution_count": null,
   "id": "058cf4f1",
   "metadata": {},
   "outputs": [],
   "source": [
    "medical_background_data['dialysis_duration'] = medical_background_data['dialysis_duration'].fillna(1).replace(0, 1)\n",
    "medical_background_data['dialysis_duration'] = np.log(medical_background_data['dialysis_duration'] + 1)"
   ]
  },
  {
   "cell_type": "code",
   "execution_count": null,
   "id": "a6a1faef",
   "metadata": {},
   "outputs": [],
   "source": [
    "def remove_outliers_iqr(dataframe, iqr_multiplier=1.5):\n",
    "    # Select numerical columns for outlier removal\n",
    "    numerical_columns = dataframe.select_dtypes(\n",
    "        include=['int64', 'float64']).columns\n",
    "\n",
    "    # Loop through numerical columns to identify and remove outliers using IQR\n",
    "    for column in numerical_columns:\n",
    "        Q1 = dataframe[column].quantile(0.25)\n",
    "        Q3 = dataframe[column].quantile(0.75)\n",
    "        IQR = Q3 - Q1\n",
    "        lower_bound = Q1 - iqr_multiplier * IQR\n",
    "        upper_bound = Q3 + iqr_multiplier * IQR\n",
    "\n",
    "        outliers = dataframe[(dataframe[column] < lower_bound) | (\n",
    "            dataframe[column] > upper_bound)]\n",
    "\n",
    "        # Remove outliers\n",
    "        dataframe = dataframe[~dataframe.index.isin(outliers.index)]\n",
    "\n",
    "    return dataframe"
   ]
  },
  {
   "cell_type": "code",
   "execution_count": null,
   "id": "7cacfd97",
   "metadata": {},
   "outputs": [],
   "source": [
    "patient_demographics_data_filtered = remove_outliers_iqr(patient_demographics_data, iqr_multiplier=1.5)\n",
    "print(f'⛳️ Original shape: {patient_demographics_data.shape}')\n",
    "print(f'⛳️ Cleared shape: {patient_demographics_data_filtered.shape}')"
   ]
  },
  {
   "cell_type": "code",
   "execution_count": null,
   "id": "de3c3316",
   "metadata": {},
   "outputs": [],
   "source": [
    "medical_background_data_filtered = remove_outliers_iqr(medical_background_data, iqr_multiplier=1.5)\n",
    "print(f'⛳️ Original shape: {medical_background_data.shape}')\n",
    "print(f'⛳️ Cleared shape: {medical_background_data_filtered.shape}')"
   ]
  },
  {
   "cell_type": "code",
   "execution_count": null,
   "id": "45b9c45b",
   "metadata": {},
   "outputs": [],
   "source": [
    "transplant_compatibility_data_filtered = remove_outliers_iqr(transplant_compatibility_data, iqr_multiplier=1.5)\n",
    "print(f'⛳️ Original shape: {transplant_compatibility_data.shape}')\n",
    "print(f'⛳️ Cleared shape: {transplant_compatibility_data_filtered.shape}')"
   ]
  },
  {
   "cell_type": "markdown",
   "id": "3f7ac6f7",
   "metadata": {},
   "source": [
    "## <span style=\"color:#ff5f27;\">👮🏻‍♂️ Great Expectations </span>"
   ]
  },
  {
   "cell_type": "code",
   "execution_count": null,
   "id": "f99a5cff",
   "metadata": {},
   "outputs": [],
   "source": [
    "import great_expectations as ge\n",
    "from great_expectations.core import ExpectationSuite, ExpectationConfiguration"
   ]
  },
  {
   "cell_type": "code",
   "execution_count": null,
   "id": "ee28579a",
   "metadata": {},
   "outputs": [],
   "source": [
    "# Convert your DataFrame to a Great Expectations DataFrame\n",
    "ge_df_patient_demographics = ge.from_pandas(patient_demographics_data_filtered)\n",
    "\n",
    "# Retrieve the expectation suite associated with the ge DataFrame\n",
    "expectation_suite_patient_demographics = ge_df_patient_demographics.get_expectation_suite()\n",
    "\n",
    "# Set the expectation suite name\n",
    "expectation_suite_patient_demographics.expectation_suite_name = \"patient_registration_suite\"\n",
    "\n",
    "# Expectation: 'id' should always be unique and not null\n",
    "expectation_suite_patient_demographics.add_expectation(\n",
    "    ExpectationConfiguration(\n",
    "        expectation_type=\"expect_column_values_to_be_unique\",\n",
    "        kwargs={\"column\": \"id\"},\n",
    "    )\n",
    ")\n",
    "expectation_suite_patient_demographics.add_expectation(\n",
    "    ExpectationConfiguration(\n",
    "        expectation_type=\"expect_column_values_to_not_be_null\",\n",
    "        kwargs={\"column\": \"id\"},\n",
    "    )\n",
    ")\n",
    "\n",
    "# Expectation: 'date' should be a valid date and not null\n",
    "expectation_suite_patient_demographics.add_expectation(\n",
    "    ExpectationConfiguration(\n",
    "        expectation_type=\"expect_column_values_to_be_of_type\",\n",
    "        kwargs={\n",
    "            \"column\": \"date\",\n",
    "            \"type_\": \"datetime64[ns]\",\n",
    "        }\n",
    "    )\n",
    ")\n",
    "expectation_suite_patient_demographics.add_expectation(\n",
    "    ExpectationConfiguration(\n",
    "        expectation_type=\"expect_column_values_to_not_be_null\",\n",
    "        kwargs={\"column\": \"date\"},\n",
    "    )\n",
    ")\n",
    "\n",
    "# Expectation: 'age_at_list_registration' to be non-negative\n",
    "expectation_suite_patient_demographics.add_expectation(\n",
    "    ExpectationConfiguration(\n",
    "        expectation_type=\"expect_column_values_to_be_between\",\n",
    "        kwargs={\n",
    "            \"column\": \"age_at_list_registration\",\n",
    "            \"min_value\": 0,\n",
    "            \"max_value\": None,\n",
    "        }\n",
    "    )\n",
    ")\n",
    "\n",
    "# Expectation: 'gender' to be within expected values\n",
    "expectation_suite_patient_demographics.add_expectation(\n",
    "    ExpectationConfiguration(\n",
    "        expectation_type=\"expect_column_values_to_be_in_set\",\n",
    "        kwargs={\n",
    "            \"column\": \"gender\",\n",
    "            \"value_set\": [\"M\", \"F\"],\n",
    "        }\n",
    "    )\n",
    ")\n",
    "\n",
    "# Expectation: 'age_cat' to contain expected categories\n",
    "expectation_suite_patient_demographics.add_expectation(\n",
    "    ExpectationConfiguration(\n",
    "        expectation_type=\"expect_column_values_to_be_in_set\",\n",
    "        kwargs={\n",
    "            \"column\": \"age_cat\",\n",
    "            \"value_set\": [\"Over60\", \"From18to60\", \"Below18\"],\n",
    "        }\n",
    "    )\n",
    ")\n",
    "\n",
    "print(\"✅ Expectations defined and saved successfully.\")"
   ]
  },
  {
   "cell_type": "code",
   "execution_count": null,
   "id": "640bbf2a",
   "metadata": {},
   "outputs": [],
   "source": [
    "ge_df_medical_background = ge.from_pandas(medical_background_data_filtered)\n",
    "\n",
    "# Retrieve and set the expectation suite\n",
    "expectation_suite_medical_background = ge_df_medical_background.get_expectation_suite()\n",
    "expectation_suite_medical_background.expectation_suite_name = \"medical_background_suite\"\n",
    "\n",
    "# Expectations for 'id' and 'date'\n",
    "expectation_suite_medical_background.add_expectation(\n",
    "    ExpectationConfiguration(\n",
    "        expectation_type=\"expect_column_values_to_be_unique\",\n",
    "        kwargs={\"column\": \"id\"},\n",
    "    )\n",
    ")\n",
    "expectation_suite_medical_background.add_expectation(\n",
    "    ExpectationConfiguration(\n",
    "        expectation_type=\"expect_column_values_to_not_be_null\",\n",
    "        kwargs={\"column\": \"id\"},\n",
    "    )\n",
    ")\n",
    "expectation_suite_medical_background.add_expectation(\n",
    "    ExpectationConfiguration(\n",
    "        expectation_type=\"expect_column_values_to_be_of_type\",\n",
    "        kwargs={\n",
    "            \"column\": \"date\",\n",
    "            \"type_\": \"datetime64[ns]\",\n",
    "        }\n",
    "    )\n",
    ")\n",
    "expectation_suite_medical_background.add_expectation(\n",
    "    ExpectationConfiguration(\n",
    "        expectation_type=\"expect_column_values_to_not_be_null\",\n",
    "        kwargs={\"column\": \"date\"},\n",
    "    )\n",
    ")\n",
    "\n",
    "# Expectation for 'dialysis_duration'\n",
    "expectation_suite_medical_background.add_expectation(\n",
    "    ExpectationConfiguration(\n",
    "        expectation_type=\"expect_column_values_to_be_between\",\n",
    "        kwargs={\n",
    "            \"column\": \"dialysis_duration\",\n",
    "            \"min_value\": 0,\n",
    "            \"max_value\": None,\n",
    "        }\n",
    "    )\n",
    ")\n",
    "\n",
    "# Expectation for 'blood_gp'\n",
    "expectation_suite_medical_background.add_expectation(\n",
    "    ExpectationConfiguration(\n",
    "        expectation_type=\"expect_column_values_to_be_in_set\",\n",
    "        kwargs={\n",
    "            \"column\": \"blood_gp\",\n",
    "            \"value_set\": [\"A\", \"B\", \"AB\", \"O\"],\n",
    "        }\n",
    "    )\n",
    ")\n",
    "\n",
    "# Gestation and Prior Transplant Expectations\n",
    "for column in [\"gestation\", \"prior_transplant\"]:\n",
    "    expectation_suite_medical_background.add_expectation(\n",
    "        ExpectationConfiguration(\n",
    "            expectation_type=\"expect_column_values_to_be_in_set\",\n",
    "            kwargs={\n",
    "                \"column\": column,\n",
    "                \"value_set\": [\"YES\", \"NO\"],\n",
    "            }\n",
    "        )\n",
    "    )\n",
    "\n",
    "# Expectation for 'number_prior_transplant' - check alignment with 'prior_transplant'\n",
    "expectation_suite_medical_background.add_expectation(\n",
    "    ExpectationConfiguration(\n",
    "        expectation_type=\"expect_column_values_to_be_between\",\n",
    "        kwargs={\n",
    "            \"column\": \"number_prior_transplant\",\n",
    "            \"min_value\": 0,\n",
    "            \"max_value\": None,\n",
    "        }\n",
    "    )\n",
    ")\n",
    "\n",
    "print(\"✅ Expectations defined and saved successfully.\")"
   ]
  },
  {
   "cell_type": "code",
   "execution_count": null,
   "id": "6ca9a557",
   "metadata": {},
   "outputs": [],
   "source": [
    "ge_df_transplant_compatibility = ge.from_pandas(transplant_compatibility_data_filtered)\n",
    "\n",
    "# Retrieve and set the expectation suite\n",
    "expectation_suite_transplant_compatibility = ge_df_transplant_compatibility.get_expectation_suite()\n",
    "expectation_suite_transplant_compatibility.expectation_suite_name = \"transplant_compatibility_and_outcome_suite\"\n",
    "\n",
    "# Expectations for 'id' and 'date'\n",
    "expectation_suite_transplant_compatibility.add_expectation(\n",
    "    ExpectationConfiguration(\n",
    "        expectation_type=\"expect_column_values_to_be_unique\",\n",
    "        kwargs={\"column\": \"id\"},\n",
    "    )\n",
    ")\n",
    "expectation_suite_transplant_compatibility.add_expectation(\n",
    "    ExpectationConfiguration(\n",
    "        expectation_type=\"expect_column_values_to_not_be_null\",\n",
    "        kwargs={\"column\": \"id\"},\n",
    "    )\n",
    ")\n",
    "expectation_suite_transplant_compatibility.add_expectation(\n",
    "    ExpectationConfiguration(\n",
    "        expectation_type=\"expect_column_values_to_be_of_type\",\n",
    "        kwargs={\n",
    "            \"column\": \"date\",\n",
    "            \"type_\": \"datetime64[ns]\",\n",
    "        }\n",
    "    )\n",
    ")\n",
    "\n",
    "# Expectation for 'cPRA' to be between 0 and 100\n",
    "expectation_suite_transplant_compatibility.add_expectation(\n",
    "    ExpectationConfiguration(\n",
    "        expectation_type=\"expect_column_values_to_be_between\",\n",
    "        kwargs={\n",
    "            \"column\": \"cpra\",\n",
    "            \"min_value\": 0,\n",
    "            \"max_value\": 100,\n",
    "        }\n",
    "    )\n",
    ")\n",
    "\n",
    "# HLA Marker Expectations (checking they are non-negative integers)\n",
    "for hla_marker in [\"hla_a1\", \"hla_a2\", \"hla_b1\", \"hla_b2\", \"hla_dr1\", \"hla_dr2\"]:\n",
    "    expectation_suite_transplant_compatibility.add_expectation(\n",
    "        ExpectationConfiguration(\n",
    "            expectation_type=\"expect_column_values_to_be_of_type\",\n",
    "            kwargs={\n",
    "                \"column\": hla_marker,\n",
    "                \"type_\": \"int\",\n",
    "            }\n",
    "        )\n",
    "    )\n",
    "\n",
    "# Expectation for 'if_transplanted'\n",
    "expectation_suite_transplant_compatibility.add_expectation(\n",
    "    ExpectationConfiguration(\n",
    "        expectation_type=\"expect_column_values_to_be_in_set\",\n",
    "        kwargs={\n",
    "            \"column\": \"if_transplanted\",\n",
    "            \"value_set\": [\"YES\", \"NO\"],\n",
    "        }\n",
    "    )\n",
    ")\n",
    "\n",
    "# Expectation for 'duration' to be non-negative\n",
    "expectation_suite_transplant_compatibility.add_expectation(\n",
    "    ExpectationConfiguration(\n",
    "        expectation_type=\"expect_column_values_to_be_between\",\n",
    "        kwargs={\n",
    "            \"column\": \"duration\",\n",
    "            \"min_value\": 0,\n",
    "            \"max_value\": None,\n",
    "        }\n",
    "    )\n",
    ")\n",
    "\n",
    "print(\"✅ Expectations defined and saved successfully.\")"
   ]
  },
  {
   "cell_type": "markdown",
   "id": "ed8fa713",
   "metadata": {},
   "source": [
    "## <span style=\"color:#ff5f27;\"> 📡 Connecting to Hopsworks Feature Store </span>"
   ]
  },
  {
   "cell_type": "code",
   "execution_count": null,
   "id": "82777378",
   "metadata": {},
   "outputs": [],
   "source": [
    "import hopsworks\n",
    "\n",
    "project = hopsworks.login()\n",
    "\n",
    "fs = project.get_feature_store()"
   ]
  },
  {
   "cell_type": "markdown",
   "id": "ff82304a",
   "metadata": {},
   "source": [
    "## <span style=\"color:#ff5f27;\"> 🪄 Creating Feature Groups </span>\n"
   ]
  },
  {
   "cell_type": "code",
   "execution_count": null,
   "id": "d21bff59",
   "metadata": {},
   "outputs": [],
   "source": [
    "# Get or create the 'patient_info' feature group\n",
    "patient_info_fg = fs.get_or_create_feature_group(\n",
    "    name=\"patient_info\",\n",
    "    version=1,\n",
    "    description=\"Demographic Features\",\n",
    "    primary_key=[\"id\"],\n",
    "    event_time=\"date\",\n",
    "    expectation_suite=expectation_suite_patient_demographics,\n",
    ")\n",
    "\n",
    "patient_info_fg.insert(patient_demographics_data_filtered)\n",
    "print('✅ Done')"
   ]
  },
  {
   "cell_type": "code",
   "execution_count": null,
   "id": "a524f361",
   "metadata": {},
   "outputs": [],
   "source": [
    "# Get or create the 'medical_info' feature group\n",
    "medical_info_fg = fs.get_or_create_feature_group(\n",
    "    name=\"medical_info\",\n",
    "    version=1,\n",
    "    description=\"Medical background features\",\n",
    "    primary_key=[\"id\"],\n",
    "    event_time=\"date\",\n",
    "    expectation_suite=expectation_suite_medical_background,\n",
    ")\n",
    "\n",
    "medical_info_fg.insert(medical_background_data_filtered)\n",
    "print('✅ Done')"
   ]
  },
  {
   "cell_type": "code",
   "execution_count": null,
   "id": "f476f24b",
   "metadata": {},
   "outputs": [],
   "source": [
    "# Get or create the 'transplant_compatibility' feature group\n",
    "transplant_compatibility_fg = fs.get_or_create_feature_group(\n",
    "    name=\"transplant_compatibility\",\n",
    "    version=1,\n",
    "    description=\"Transplant compatibility features\",\n",
    "    primary_key=[\"id\"],\n",
    "    event_time=\"date\",\n",
    "    expectation_suite=expectation_suite_transplant_compatibility,\n",
    ")\n",
    "\n",
    "transplant_compatibility_fg.insert(transplant_compatibility_data_filtered)\n",
    "print('✅ Done')"
   ]
  },
  {
   "cell_type": "markdown",
   "id": "3e15c005",
   "metadata": {},
   "source": [
    "---"
   ]
  }
 ],
 "metadata": {
  "kernelspec": {
   "display_name": "Python 3",
   "language": "python",
   "name": "python3"
  },
  "language_info": {
   "codemirror_mode": {
    "name": "ipython",
    "version": 3
   },
   "file_extension": ".py",
   "mimetype": "text/x-python",
   "name": "python",
   "nbconvert_exporter": "python",
   "pygments_lexer": "ipython3",
   "version": "3.1.-1"
  }
 },
 "nbformat": 4,
 "nbformat_minor": 5
}
