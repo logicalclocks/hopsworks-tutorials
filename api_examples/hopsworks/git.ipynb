{
 "cells": [
  {
   "cell_type": "markdown",
   "id": "36564bcc",
   "metadata": {},
   "source": [
    "## Git API"
   ]
  },
  {
   "cell_type": "markdown",
   "id": "49bc8f5b",
   "metadata": {},
   "source": [
    "This API provides the possibility to clone a git repository, checkout new branches to develop a feature and push it to a remote."
   ]
  },
  {
   "cell_type": "markdown",
   "id": "ba861813",
   "metadata": {},
   "source": [
    "## Scope"
   ]
  },
  {
   "cell_type": "markdown",
   "id": "d1003262",
   "metadata": {},
   "source": [
    "* Configure a git provider\n",
    "* Clone a repository\n",
    "* Create a new branch\n",
    "* Make a change\n",
    "* Check git status\n",
    "* Checkout changes\n",
    "* Push changes\n",
    "* Pull changes"
   ]
  },
  {
   "cell_type": "code",
   "execution_count": 1,
   "id": "7a725c47",
   "metadata": {},
   "outputs": [],
   "source": [
    "import hopsworks"
   ]
  },
  {
   "cell_type": "markdown",
   "id": "81dfed7c",
   "metadata": {},
   "source": [
    "## Connect to the cluster"
   ]
  },
  {
   "cell_type": "code",
   "execution_count": 2,
   "id": "d9b03915",
   "metadata": {},
   "outputs": [
    {
     "name": "stdout",
     "output_type": "stream",
     "text": [
      "Connected. Call `.close()` to terminate connection gracefully.\n"
     ]
    }
   ],
   "source": [
    "# Connect to your cluster, to be used running inside Jupyter or jobs inside the cluster.\n",
    "connection = hopsworks.connection()"
   ]
  },
  {
   "cell_type": "code",
   "execution_count": 3,
   "id": "abf6dc25",
   "metadata": {},
   "outputs": [],
   "source": [
    "# Uncomment when connecting to the cluster from an external environment.\n",
    "# connection = hopsworks.connection(project='my_project', host='my_instance', port=443, api_key_value='apikey')"
   ]
  },
  {
   "cell_type": "markdown",
   "id": "c2d7f60c",
   "metadata": {},
   "source": [
    "## Get Project"
   ]
  },
  {
   "cell_type": "code",
   "execution_count": 4,
   "id": "86cfd402",
   "metadata": {},
   "outputs": [],
   "source": [
    "# Get the project object, if used inside your hopsworks cluster it gets the current project\n",
    "project = connection.get_project()"
   ]
  },
  {
   "cell_type": "code",
   "execution_count": 5,
   "id": "30fb7799",
   "metadata": {},
   "outputs": [],
   "source": [
    "# Uncomment to get specific project\n",
    "# project = connection.get_project('my_project')"
   ]
  },
  {
   "cell_type": "markdown",
   "id": "6c184afe",
   "metadata": {},
   "source": [
    "## Get the API"
   ]
  },
  {
   "cell_type": "code",
   "execution_count": 6,
   "id": "3080164e",
   "metadata": {},
   "outputs": [],
   "source": [
    "git_api = project.get_git_api()"
   ]
  },
  {
   "cell_type": "markdown",
   "id": "7bd0987d",
   "metadata": {},
   "source": [
    "## Configure a provider with your access token"
   ]
  },
  {
   "cell_type": "code",
   "execution_count": 7,
   "id": "d552e655",
   "metadata": {},
   "outputs": [],
   "source": [
    "PROVIDER=\"GitHub\""
   ]
  },
  {
   "cell_type": "code",
   "execution_count": 8,
   "id": "468828a2",
   "metadata": {},
   "outputs": [],
   "source": [
    "# Configure your GitHub provider, all actions on GitHub repositories will use this token\n",
    "git_api.set_provider(PROVIDER, \"my_user\", \"my_token\")"
   ]
  },
  {
   "cell_type": "code",
   "execution_count": 9,
   "id": "a1c236a3",
   "metadata": {},
   "outputs": [
    {
     "data": {
      "text/plain": [
       "[GitProvider('my_user', 'GitHub')]"
      ]
     },
     "execution_count": 9,
     "metadata": {},
     "output_type": "execute_result"
    }
   ],
   "source": [
    "git_api.get_providers()"
   ]
  },
  {
   "cell_type": "code",
   "execution_count": 10,
   "id": "1bb82dbb",
   "metadata": {},
   "outputs": [],
   "source": [
    "provider = git_api.get_provider(PROVIDER)"
   ]
  },
  {
   "cell_type": "code",
   "execution_count": 11,
   "id": "1b6c1d37",
   "metadata": {},
   "outputs": [
    {
     "data": {
      "text/plain": [
       "[GitProvider('my_user', 'GitHub')]"
      ]
     },
     "execution_count": 11,
     "metadata": {},
     "output_type": "execute_result"
    }
   ],
   "source": [
    "git_api.get_providers()"
   ]
  },
  {
   "cell_type": "code",
   "execution_count": 12,
   "id": "8a39e1b8",
   "metadata": {},
   "outputs": [],
   "source": [
    "provider.delete()"
   ]
  },
  {
   "cell_type": "markdown",
   "id": "63b83c48",
   "metadata": {},
   "source": [
    "## Clone repository"
   ]
  },
  {
   "cell_type": "code",
   "execution_count": 13,
   "id": "ee76038c",
   "metadata": {},
   "outputs": [],
   "source": [
    "REPO_URL=\"https://github.com/logicalclocks/hops-examples.git\" # git repository\n",
    "HOPSWORKS_FOLDER=\"Resources\" # path in hopsworks filesystem to clone to\n",
    "BRANCH=\"master\" # optional branch to clone"
   ]
  },
  {
   "cell_type": "code",
   "execution_count": 14,
   "id": "c0be05fb",
   "metadata": {},
   "outputs": [
    {
     "name": "stdout",
     "output_type": "stream",
     "text": [
      "2022-04-12 12:58:13,334 INFO: Running command CLONE, current status Initializing\n",
      "2022-04-12 12:58:18,485 INFO: Running command CLONE, current status Initializing\n",
      "2022-04-12 12:58:23,597 INFO: Running command CLONE, current status Running\n",
      "2022-04-12 12:58:28,710 INFO: Running command CLONE, current status Running\n",
      "2022-04-12 12:58:33,854 INFO: Running command CLONE, current status Running\n",
      "2022-04-12 12:58:38,984 INFO: Running command CLONE, current status Running\n",
      "2022-04-12 12:58:44,164 INFO: Running command CLONE, current status Running\n",
      "2022-04-12 12:58:49,351 INFO: Running command CLONE, current status Running\n",
      "2022-04-12 12:58:54,532 INFO: Running command CLONE, current status Running\n",
      "2022-04-12 12:58:59,677 INFO: Running command CLONE, current status Running\n",
      "2022-04-12 12:59:04,882 INFO: Running command CLONE, current status Running\n",
      "2022-04-12 12:59:10,051 INFO: Running command CLONE, current status Running\n",
      "2022-04-12 12:59:15,163 INFO: Running command CLONE, current status Running\n",
      "2022-04-12 12:59:20,279 INFO: Running command CLONE, current status Running\n",
      "2022-04-12 12:59:25,353 INFO: Running command CLONE, current status Running\n",
      "2022-04-12 12:59:30,456 INFO: Running command CLONE, current status Running\n",
      "2022-04-12 12:59:35,618 INFO: Running command CLONE, current status Running\n",
      "2022-04-12 12:59:40,760 INFO: Running command CLONE, current status Running\n",
      "2022-04-12 12:59:45,895 INFO: Running command CLONE, current status Running\n",
      "2022-04-12 12:59:51,040 INFO: Running command CLONE, current status Running\n",
      "2022-04-12 12:59:56,215 INFO: Running command CLONE, current status Running\n",
      "2022-04-12 13:00:01,365 INFO: Running command CLONE, current status Running\n",
      "2022-04-12 13:00:06,476 INFO: Running command CLONE, current status Running\n",
      "2022-04-12 13:00:11,601 INFO: Running command CLONE, current status Running\n",
      "2022-04-12 13:00:16,777 INFO: Running command CLONE, current status Running\n",
      "2022-04-12 13:00:21,922 INFO: Running command CLONE, current status Running\n",
      "2022-04-12 13:00:27,123 INFO: Running command CLONE, current status Running\n",
      "2022-04-12 13:00:32,259 INFO: Running command CLONE, current status Running\n",
      "2022-04-12 13:00:37,428 INFO: Running command CLONE, current status Running\n",
      "2022-04-12 13:00:42,553 INFO: Running command CLONE, current status Running\n",
      "2022-04-12 13:00:47,847 INFO: Git command CLONE finished\n"
     ]
    }
   ],
   "source": [
    "# Clone the repository into hopsworks filesystem\n",
    "examples_repo = git_api.clone(REPO_URL, HOPSWORKS_FOLDER, PROVIDER, branch=BRANCH)"
   ]
  },
  {
   "cell_type": "code",
   "execution_count": 15,
   "id": "74b8d5de",
   "metadata": {},
   "outputs": [
    {
     "data": {
      "text/plain": [
       "[GitRepo('hops-examples', 'admin@hopsworks.ai', 'GitHub', '/Projects/demo_ml_meb10000/Resources/hops-examples')]"
      ]
     },
     "execution_count": 15,
     "metadata": {},
     "output_type": "execute_result"
    }
   ],
   "source": [
    "# List all available git repos in the project\n",
    "git_api.get_repos()"
   ]
  },
  {
   "cell_type": "markdown",
   "id": "619c1a4c",
   "metadata": {},
   "source": [
    "## Create new branch"
   ]
  },
  {
   "cell_type": "code",
   "execution_count": 16,
   "id": "72d84941",
   "metadata": {},
   "outputs": [
    {
     "name": "stdout",
     "output_type": "stream",
     "text": [
      "2022-04-12 13:00:48,518 INFO: Running command CREATE_CHECKOUT, current status Initializing\n",
      "2022-04-12 13:00:53,660 INFO: Running command CREATE_CHECKOUT, current status Initializing\n",
      "2022-04-12 13:00:58,810 INFO: Running command CREATE_CHECKOUT, current status Running\n",
      "2022-04-12 13:01:03,987 INFO: Running command CREATE_CHECKOUT, current status Running\n",
      "2022-04-12 13:01:09,178 INFO: Running command CREATE_CHECKOUT, current status Running\n",
      "2022-04-12 13:01:14,304 INFO: Running command CREATE_CHECKOUT, current status Running\n",
      "2022-04-12 13:01:19,514 INFO: Running command CREATE_CHECKOUT, current status Running\n",
      "2022-04-12 13:01:24,734 INFO: Running command CREATE_CHECKOUT, current status Running\n",
      "2022-04-12 13:01:29,944 INFO: Running command CREATE_CHECKOUT, current status Running\n",
      "2022-04-12 13:01:35,141 INFO: Running command CREATE_CHECKOUT, current status Running\n",
      "2022-04-12 13:01:40,345 INFO: Running command CREATE_CHECKOUT, current status Running\n",
      "2022-04-12 13:01:45,540 INFO: Running command CREATE_CHECKOUT, current status Running\n",
      "2022-04-12 13:01:50,691 INFO: Running command CREATE_CHECKOUT, current status Running\n",
      "2022-04-12 13:01:55,890 INFO: Running command CREATE_CHECKOUT, current status Running\n",
      "2022-04-12 13:02:01,087 INFO: Running command CREATE_CHECKOUT, current status Running\n",
      "2022-04-12 13:02:06,222 INFO: Git command CREATE_CHECKOUT finished\n"
     ]
    }
   ],
   "source": [
    "branch = \"my_new_branch\"\n",
    "# Create new branch\n",
    "examples_repo.checkout_branch(branch, create=True)"
   ]
  },
  {
   "cell_type": "markdown",
   "id": "a5b749cd",
   "metadata": {},
   "source": [
    "## Check status and checkout files"
   ]
  },
  {
   "cell_type": "code",
   "execution_count": 17,
   "id": "57fd9c53",
   "metadata": {},
   "outputs": [],
   "source": [
    "# Make a modification\n",
    "dataset_api = project.get_dataset_api()\n",
    "dataset_api.remove(examples_repo.path + \"/tools\")"
   ]
  },
  {
   "cell_type": "code",
   "execution_count": 18,
   "id": "3a23f73c",
   "metadata": {},
   "outputs": [
    {
     "name": "stdout",
     "output_type": "stream",
     "text": [
      "2022-04-12 13:02:06,893 INFO: Running command STATUS, current status Initializing\n",
      "2022-04-12 13:02:12,030 INFO: Running command STATUS, current status Initializing\n",
      "2022-04-12 13:02:17,286 INFO: Running command STATUS, current status Running\n",
      "2022-04-12 13:02:22,415 INFO: Running command STATUS, current status Running\n",
      "2022-04-12 13:02:27,578 INFO: Running command STATUS, current status Running\n",
      "2022-04-12 13:02:32,735 INFO: Running command STATUS, current status Running\n",
      "2022-04-12 13:02:37,867 INFO: Running command STATUS, current status Running\n",
      "2022-04-12 13:02:43,056 INFO: Running command STATUS, current status Running\n",
      "2022-04-12 13:02:48,151 INFO: Git command STATUS finished\n"
     ]
    },
    {
     "data": {
      "text/plain": [
       "[GitFileStatus('tools/maven/suppressions.xml', 'D', ''),\n",
       " GitFileStatus('tools/maven/checkstyle.xml', 'D', '')]"
      ]
     },
     "execution_count": 18,
     "metadata": {},
     "output_type": "execute_result"
    }
   ],
   "source": [
    "# Check file status\n",
    "status = examples_repo.status()\n",
    "status"
   ]
  },
  {
   "cell_type": "code",
   "execution_count": 19,
   "id": "f2d385e4",
   "metadata": {},
   "outputs": [
    {
     "name": "stdout",
     "output_type": "stream",
     "text": [
      "2022-04-12 13:02:48,793 INFO: Running command CHECKOUT_FILES, current status Initializing\n",
      "2022-04-12 13:02:53,927 INFO: Running command CHECKOUT_FILES, current status Initializing\n",
      "2022-04-12 13:02:59,073 INFO: Running command CHECKOUT_FILES, current status Running\n",
      "2022-04-12 13:03:04,198 INFO: Running command CHECKOUT_FILES, current status Running\n",
      "2022-04-12 13:03:09,311 INFO: Running command CHECKOUT_FILES, current status Running\n",
      "2022-04-12 13:03:14,451 INFO: Running command CHECKOUT_FILES, current status Running\n",
      "2022-04-12 13:03:19,563 INFO: Running command CHECKOUT_FILES, current status Running\n",
      "2022-04-12 13:03:24,691 INFO: Running command CHECKOUT_FILES, current status Running\n",
      "2022-04-12 13:03:29,882 INFO: Running command CHECKOUT_FILES, current status Running\n",
      "2022-04-12 13:03:35,064 INFO: Running command CHECKOUT_FILES, current status Running\n",
      "2022-04-12 13:03:40,388 INFO: Running command CHECKOUT_FILES, current status Running\n",
      "2022-04-12 13:03:45,528 INFO: Running command CHECKOUT_FILES, current status Running\n",
      "2022-04-12 13:03:50,637 INFO: Running command CHECKOUT_FILES, current status Running\n",
      "2022-04-12 13:03:55,781 INFO: Running command CHECKOUT_FILES, current status Running\n",
      "2022-04-12 13:04:00,952 INFO: Running command CHECKOUT_FILES, current status Running\n",
      "2022-04-12 13:04:06,095 INFO: Git command CHECKOUT_FILES finished\n"
     ]
    }
   ],
   "source": [
    "# Checkout changes\n",
    "# Users can specify a list of GitFileStatus objects or files e.g. [\"model_design_doc.md\"]\n",
    "examples_repo.checkout_files(status)"
   ]
  },
  {
   "cell_type": "code",
   "execution_count": 20,
   "id": "ad0aad2b",
   "metadata": {},
   "outputs": [
    {
     "name": "stdout",
     "output_type": "stream",
     "text": [
      "2022-04-12 13:04:06,529 INFO: Running command STATUS, current status Initializing\n",
      "2022-04-12 13:04:11,728 INFO: Running command STATUS, current status Initializing\n",
      "2022-04-12 13:04:16,855 INFO: Running command STATUS, current status Running\n",
      "2022-04-12 13:04:22,015 INFO: Running command STATUS, current status Running\n",
      "2022-04-12 13:04:27,164 INFO: Running command STATUS, current status Running\n",
      "2022-04-12 13:04:32,336 INFO: Running command STATUS, current status Running\n",
      "2022-04-12 13:04:37,470 INFO: Running command STATUS, current status Running\n",
      "2022-04-12 13:04:42,574 INFO: Git command STATUS finished\n",
      "2022-04-12 13:04:42,576 INFO: Nothing to commit, working tree clean\n"
     ]
    }
   ],
   "source": [
    "status = examples_repo.status()\n",
    "status"
   ]
  },
  {
   "cell_type": "markdown",
   "id": "aa12d97f",
   "metadata": {},
   "source": [
    "## Commit a change"
   ]
  },
  {
   "cell_type": "code",
   "execution_count": 21,
   "id": "04dd33f9",
   "metadata": {},
   "outputs": [],
   "source": [
    "# Make a modification\n",
    "dataset_api = project.get_dataset_api()\n",
    "dataset_api.remove(examples_repo.path + \"/tools\")"
   ]
  },
  {
   "cell_type": "code",
   "execution_count": 22,
   "id": "15d4f733",
   "metadata": {},
   "outputs": [
    {
     "name": "stdout",
     "output_type": "stream",
     "text": [
      "2022-04-12 13:04:43,238 INFO: Running command COMMIT, current status Initializing\n",
      "2022-04-12 13:04:48,343 INFO: Running command COMMIT, current status Initializing\n",
      "2022-04-12 13:04:53,495 INFO: Running command COMMIT, current status Running\n",
      "2022-04-12 13:04:58,637 INFO: Running command COMMIT, current status Running\n",
      "2022-04-12 13:05:03,770 INFO: Running command COMMIT, current status Running\n",
      "2022-04-12 13:05:08,934 INFO: Running command COMMIT, current status Running\n",
      "2022-04-12 13:05:14,074 INFO: Running command COMMIT, current status Running\n",
      "2022-04-12 13:05:19,212 INFO: Running command COMMIT, current status Running\n",
      "2022-04-12 13:05:24,369 INFO: Running command COMMIT, current status Running\n",
      "2022-04-12 13:05:29,543 INFO: Running command COMMIT, current status Running\n",
      "2022-04-12 13:05:34,749 INFO: Running command COMMIT, current status Running\n",
      "2022-04-12 13:05:39,883 INFO: Running command COMMIT, current status Running\n",
      "2022-04-12 13:05:45,001 INFO: Running command COMMIT, current status Running\n",
      "2022-04-12 13:05:50,126 INFO: Running command COMMIT, current status Running\n",
      "2022-04-12 13:05:55,236 INFO: Running command COMMIT, current status Running\n",
      "2022-04-12 13:06:00,349 INFO: Running command COMMIT, current status Running\n",
      "2022-04-12 13:06:05,498 INFO: Running command COMMIT, current status Running\n",
      "2022-04-12 13:06:10,627 INFO: Running command COMMIT, current status Running\n",
      "2022-04-12 13:06:15,797 INFO: Running command COMMIT, current status Running\n",
      "2022-04-12 13:06:20,930 INFO: Running command COMMIT, current status Running\n",
      "2022-04-12 13:06:26,068 INFO: Running command COMMIT, current status Running\n",
      "2022-04-12 13:06:31,202 INFO: Running command COMMIT, current status Running\n",
      "2022-04-12 13:06:36,484 INFO: Running command COMMIT, current status Running\n",
      "2022-04-12 13:06:41,618 INFO: Running command COMMIT, current status Running\n",
      "2022-04-12 13:06:46,748 INFO: Git command COMMIT finished\n"
     ]
    }
   ],
   "source": [
    "# all: automatically stage files that have been modified and deleted, but new files are not affected\n",
    "# files: list of new files to add and commit\n",
    "examples_repo.commit(\"test commit\", all=True)"
   ]
  },
  {
   "cell_type": "code",
   "execution_count": 23,
   "id": "9e5492e3",
   "metadata": {},
   "outputs": [
    {
     "data": {
      "text/plain": [
       "[GitCommit('Admin Admin', 'test commit', '0263939396275f966a76142ed970e2261085a923'),\n",
       " GitCommit('GitHub', '[HOPSWORKS-2543] AMEND: make stream as property to FG (#303)\\n\\n', '55b795b832ed98016f48a06627572b773c151f46'),\n",
       " GitCommit('GitHub', '[HOPSWORKS-3051] Add new Python extra to HSFS for python engine to replace hive (#302)\\n\\n', '558aed852459c886a9834d2c7fa1c85943580d36'),\n",
       " GitCommit('GitHub', 'Complex feature (#301)\\n\\n', '1d1a8bd65f14f01a7075785f8f382123634d9076'),\n",
       " GitCommit('GitHub', '[HOPSWORKS-2543] add support to insert_stream() to ingest data into offline fs (#293)\\n\\n', 'f59e89a9cdcfba776fa7656c049ee3587cda988f'),\n",
       " GitCommit('GitHub', 'Favicon hopsworks examples version 0 (#300)\\n\\n', 'a0de4c081ec6d2f2c2b6821cb44b337e57b5387f'),\n",
       " GitCommit('GitHub', '[HOPSWORKS-2918] Register builtin transformation functions in the backend (#298)\\n\\n', '2f8b7f32a76e96e6c54b0c3db9ef2b751d231433'),\n",
       " GitCommit('Javier de la Rúa Martínez', '[HOPSWORKS-2828][fix] Fix end_to_end_sklearn notebook\\n', '0fdb66df94bf08d15785a42b72e2337b1322b235'),\n",
       " GitCommit('GitHub', 'Fix typos (#285)\\n\\na numerical, not an numerical\\r\\nin this notebook,', 'b6dfd46aa645b5b1e766404de11d44219788ee83'),\n",
       " GitCommit('Javier de la Rúa Martínez', 'Include examples in the UI\\n', 'f64b6adc7940cd1c0a87696a01d8a7ea8bfee778'),\n",
       " GitCommit('Javier de la Rúa Martínez', '[HOPSWORKS-2828] Add notebooks for python serving on KFServing\\n', '28d1a20a80d52fb8e815b27e83d4477fb9450fae'),\n",
       " GitCommit('GitHub', 'Update README for Spark Jobs Client (#286)\\n\\n', 'c2d74c21bec3fe4d34c304ffffbd36b4de2aa32f'),\n",
       " GitCommit('Fabio Buso', 'Prepare development for version 2.6.0-SNAPSHOT\\n', '63a93074518beef7ed988a6a629254d33cdcda0f'),\n",
       " GitCommit('GitHub', '[HOPSWORKS-2952] update hsfs examples with train_split property (#287)\\n\\n', 'f2f18ba0a00fef6d120e29c8c6bcf1681f9643b4'),\n",
       " GitCommit('GitHub', '[HOPSWORKS-2930] Update schema and model_schema paths in test notebooks (#283)\\n\\n', 'd00dfa7cca39cd7c58021d2e7ec58564f4f9ee91'),\n",
       " GitCommit('GitHub', 'now the favicon must work (#284)\\n\\n', 'a68aa929c096723ad994c3cd916829c7f198c7d1'),\n",
       " GitCommit('GitHub', 'favicon update (#282)\\n\\n', 'f09f9aa14cdda1cea50309bdf8bb7f7c46412af7'),\n",
       " GitCommit('GitHub', 'Use model.model_path and model.version_path attribute for serving examples (#281)\\n\\n', '07687230674759fcceb81d0c8e27522b82241592'),\n",
       " GitCommit('GitHub', 'Add favicon to https://examples.hopsworks.ai/ (#280)\\n\\n', 'acf39dafd2bb6f5fa4bc55a0455b8692bc4ce0ca'),\n",
       " GitCommit('GitHub', 'fix notebooks (#278)\\n\\n', 'ea3be658c3a5608e4cab51654911f66371b53b82')]"
      ]
     },
     "execution_count": 23,
     "metadata": {},
     "output_type": "execute_result"
    }
   ],
   "source": [
    "examples_repo.get_commits(branch)"
   ]
  },
  {
   "cell_type": "markdown",
   "id": "678474eb",
   "metadata": {},
   "source": [
    "## Push/Pull"
   ]
  },
  {
   "cell_type": "code",
   "execution_count": 24,
   "id": "aaffb345",
   "metadata": {},
   "outputs": [],
   "source": [
    "# Push branch to remote repository\n",
    "#examples_repo.push(branch)"
   ]
  },
  {
   "cell_type": "code",
   "execution_count": 25,
   "id": "4ca8eb08",
   "metadata": {},
   "outputs": [],
   "source": [
    "# Pull changes from remote repository\n",
    "#examples_repo.pull(branch)"
   ]
  },
  {
   "cell_type": "markdown",
   "id": "07891491",
   "metadata": {},
   "source": [
    "## Cleanup"
   ]
  },
  {
   "cell_type": "code",
   "execution_count": 26,
   "id": "3333929f",
   "metadata": {},
   "outputs": [
    {
     "name": "stdout",
     "output_type": "stream",
     "text": [
      "2022-04-12 13:06:47,299 INFO: Running command DELETE, current status Initializing\n",
      "2022-04-12 13:06:52,503 INFO: Running command DELETE, current status Initializing\n",
      "2022-04-12 13:06:57,703 INFO: Git command DELETE finished\n"
     ]
    }
   ],
   "source": [
    "examples_repo.delete_branch(branch)"
   ]
  },
  {
   "cell_type": "code",
   "execution_count": 27,
   "id": "5d597162",
   "metadata": {},
   "outputs": [],
   "source": [
    "examples_repo.delete()"
   ]
  }
 ],
 "metadata": {
  "kernelspec": {
   "display_name": "Python",
   "language": "python",
   "name": "python3"
  },
  "language_info": {
   "codemirror_mode": {
    "name": "ipython",
    "version": 3
   },
   "file_extension": ".py",
   "mimetype": "text/x-python",
   "name": "python",
   "nbconvert_exporter": "python",
   "pygments_lexer": "ipython3",
   "version": "3.8.11"
  }
 },
 "nbformat": 4,
 "nbformat_minor": 5
}