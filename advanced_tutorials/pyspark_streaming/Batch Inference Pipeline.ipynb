{
 "cells": [
  {
   "cell_type": "markdown",
   "id": "e90e00b0",
   "metadata": {},
   "source": [
    "# <span style=\"font-width:bold; font-size: 3rem; color:#1EB182;\"><img src=\"../../images/icon102.png\" width=\"38px\"></img> **Hopsworks Feature Store** </span><span style=\"font-width:bold; font-size: 3rem; color:#333;\">- Part 03: Batch Inference</span>\n",
    "\n",
    "\n",
    "## 🗒️ This notebook is divided into the following sections:\n",
    "\n",
    "1. Load batch data.\n",
    "2. Predict using model from Model Registry."
   ]
  },
  {
   "cell_type": "markdown",
   "id": "cc0cd899",
   "metadata": {},
   "source": [
    "## <span style='color:#ff5f27'> 📝 Imports"
   ]
  },
  {
   "cell_type": "code",
   "execution_count": null,
   "id": "c2518efd",
   "metadata": {},
   "outputs": [],
   "source": [
    "import joblib"
   ]
  },
  {
   "cell_type": "markdown",
   "id": "9a2baade",
   "metadata": {},
   "source": [
    "## <span style=\"color:#ff5f27;\"> 📡 Connecting to Hopsworks Feature Store </span>"
   ]
  },
  {
   "cell_type": "code",
   "execution_count": null,
   "id": "76f137ab",
   "metadata": {},
   "outputs": [],
   "source": [
    "import hopsworks\n",
    "\n",
    "project = hopsworks.login()\n",
    "\n",
    "fs = project.get_feature_store()"
   ]
  },
  {
   "cell_type": "markdown",
   "id": "dad24a4a",
   "metadata": {},
   "source": [
    "## <span style=\"color:#ff5f27;\"> ⚙️ Feature View Retrieval</span>\n"
   ]
  },
  {
   "cell_type": "code",
   "execution_count": null,
   "id": "5fdeaa7c",
   "metadata": {},
   "outputs": [],
   "source": [
    "# Retrieve the 'transactions_view_fraud_batch_fv' feature view\n",
    "feature_view = fs.get_feature_view(\n",
    "    name='transactions_view_fraud_batch_fv',\n",
    "    version=1,\n",
    ")"
   ]
  },
  {
   "cell_type": "markdown",
   "id": "30536208",
   "metadata": {},
   "source": [
    "## <span style=\"color:#ff5f27;\">🗄 Model Registry</span>\n"
   ]
  },
  {
   "cell_type": "code",
   "execution_count": null,
   "id": "5852273c",
   "metadata": {},
   "outputs": [],
   "source": [
    "# Get the model registry\n",
    "mr = project.get_model_registry()"
   ]
  },
  {
   "cell_type": "markdown",
   "id": "57e7e430",
   "metadata": {},
   "source": [
    "## <span style='color:#ff5f27'>🚀 Fetch and test the model</span>\n",
    "\n",
    "Finally you can start making predictions with your model! Retrieve your model from Hopsworks model registry."
   ]
  },
  {
   "cell_type": "code",
   "execution_count": null,
   "id": "6572e398",
   "metadata": {},
   "outputs": [],
   "source": [
    "# Retrieve the model from the model registry\n",
    "retrieved_model = mr.get_model(\n",
    "    name=\"xgboost_fraud_batch_model\",\n",
    "    version=1,\n",
    ")\n",
    "\n",
    "# Download the saved model files to a local directory\n",
    "saved_model_dir = retrieved_model.download()"
   ]
  },
  {
   "cell_type": "code",
   "execution_count": null,
   "id": "808f87fb",
   "metadata": {},
   "outputs": [],
   "source": [
    "# Load the saved XGBoost model using joblib from the downloaded model directory\n",
    "retrieved_xgboost_model = joblib.load(saved_model_dir + \"/xgboost_fraud_batch_model.pkl\")\n",
    "\n",
    "# Display the retrieved XGBoost model\n",
    "retrieved_xgboost_model"
   ]
  },
  {
   "cell_type": "markdown",
   "id": "3cb590c3",
   "metadata": {},
   "source": [
    "---\n",
    "## <span style=\"color:#ff5f27;\">🔮  Batch Prediction </span>\n"
   ]
  },
  {
   "cell_type": "code",
   "execution_count": null,
   "id": "ac5a8e74",
   "metadata": {},
   "outputs": [],
   "source": [
    "# Initialize batch scoring\n",
    "feature_view.init_batch_scoring(1)\n",
    "\n",
    "# Get the batch data\n",
    "batch_data = feature_view.get_batch_data()\n",
    "\n",
    "# Drop the \"datetime\" column from the batch_data DataFrame along the specified axis (axis=1 means columns)\n",
    "batch_data.drop([\"datetime\"], axis=1, inplace=True)\n",
    "\n",
    "# Display the first 3 rows\n",
    "batch_data.head(3)"
   ]
  },
  {
   "cell_type": "code",
   "execution_count": null,
   "id": "cff98e14",
   "metadata": {},
   "outputs": [],
   "source": [
    "# Use the retrieved XGBoost model to make predictions on the batch data\n",
    "predictions = retrieved_xgboost_model.predict(batch_data)\n",
    "\n",
    "# Display the first five predictions\n",
    "predictions[:5]"
   ]
  },
  {
   "cell_type": "markdown",
   "id": "15f38b1a",
   "metadata": {},
   "source": [
    "---\n",
    "\n",
    "### <span style=\"color:#ff5f27;\">🥳 <b> Next Steps  </b> </span>\n",
    "Congratulations you've now completed the Fraud Batch tutorial for Managed Hopsworks.\n",
    "\n",
    "Check out our other tutorials on ➡ https://github.com/logicalclocks/hopsworks-tutorials\n",
    "\n",
    "Or documentation at ➡ https://docs.hopsworks.ai"
   ]
  }
 ],
 "metadata": {
  "kernelspec": {
   "display_name": "Python 3",
   "language": "python",
   "name": "python3"
  },
  "language_info": {
   "codemirror_mode": {
    "name": "ipython",
    "version": 3
   },
   "file_extension": ".py",
   "mimetype": "text/x-python",
   "name": "python",
   "nbconvert_exporter": "python",
   "pygments_lexer": "ipython3",
   "version": "3.10.11"
  }
 },
 "nbformat": 4,
 "nbformat_minor": 5
}
