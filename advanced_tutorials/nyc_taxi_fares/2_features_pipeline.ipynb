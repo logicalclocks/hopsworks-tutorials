{
 "cells": [
  {
   "cell_type": "markdown",
   "id": "dd094af7",
   "metadata": {},
   "source": [
    "# <span style=\"font-width:bold; font-size: 3rem; color:#1EB182;\"><img src=\"images/icon102.png\" width=\"38px\"></img> **Hopsworks Feature Store** </span><span style=\"font-width:bold; font-size: 3rem; color:#333;\">- Part 02: Feature Pipeline</span>\n",
    "\n",
    "## 🗒️ This notebook is divided in 3 sections:\n",
    "1. Parsing Data.\n",
    "2. Preparing dataframes.\n",
    "3. Feature Group Insertion."
   ]
  },
  {
   "cell_type": "markdown",
   "id": "a7dcc328",
   "metadata": {},
   "source": [
    "## <span style='color:#ff5f27'> 📝 Imports"
   ]
  },
  {
   "cell_type": "code",
   "execution_count": 1,
   "id": "364e961e",
   "metadata": {},
   "outputs": [],
   "source": [
    "import pandas as pd\n",
    "from datetime import datetime\n",
    "import time \n",
    "import os \n",
    "\n",
    "from parsing_functions import *"
   ]
  },
  {
   "cell_type": "markdown",
   "id": "cca6814a",
   "metadata": {},
   "source": [
    "## <span style='color:#ff5f27'> 🧑🏻‍🏫 Dataset Preparation"
   ]
  },
  {
   "cell_type": "markdown",
   "id": "2f172f7b",
   "metadata": {},
   "source": [
    "#### <span style='color:#ff5f27'> 🚖 Rides Data"
   ]
  },
  {
   "cell_type": "code",
   "execution_count": 2,
   "id": "7d3f552e",
   "metadata": {},
   "outputs": [
    {
     "data": {
      "text/html": [
       "<div>\n",
       "<style scoped>\n",
       "    .dataframe tbody tr th:only-of-type {\n",
       "        vertical-align: middle;\n",
       "    }\n",
       "\n",
       "    .dataframe tbody tr th {\n",
       "        vertical-align: top;\n",
       "    }\n",
       "\n",
       "    .dataframe thead th {\n",
       "        text-align: right;\n",
       "    }\n",
       "</style>\n",
       "<table border=\"1\" class=\"dataframe\">\n",
       "  <thead>\n",
       "    <tr style=\"text-align: right;\">\n",
       "      <th></th>\n",
       "      <th>ride_id</th>\n",
       "      <th>pickup_datetime</th>\n",
       "      <th>pickup_longitude</th>\n",
       "      <th>dropoff_longitude</th>\n",
       "      <th>pickup_latitude</th>\n",
       "      <th>dropoff_latitude</th>\n",
       "      <th>passenger_count</th>\n",
       "      <th>taxi_id</th>\n",
       "      <th>driver_id</th>\n",
       "    </tr>\n",
       "  </thead>\n",
       "  <tbody>\n",
       "    <tr>\n",
       "      <th>0</th>\n",
       "      <td>0ea3513dae8903e5354e58457598333c</td>\n",
       "      <td>1596576300000</td>\n",
       "      <td>-73.11600</td>\n",
       "      <td>-74.27999</td>\n",
       "      <td>41.74669</td>\n",
       "      <td>40.72651</td>\n",
       "      <td>4</td>\n",
       "      <td>150</td>\n",
       "      <td>190</td>\n",
       "    </tr>\n",
       "    <tr>\n",
       "      <th>1</th>\n",
       "      <td>91c7d626ae99d1fc869a300e16386e99</td>\n",
       "      <td>1607076100000</td>\n",
       "      <td>-73.72674</td>\n",
       "      <td>-73.05540</td>\n",
       "      <td>41.12311</td>\n",
       "      <td>40.66890</td>\n",
       "      <td>4</td>\n",
       "      <td>56</td>\n",
       "      <td>186</td>\n",
       "    </tr>\n",
       "    <tr>\n",
       "      <th>2</th>\n",
       "      <td>f140fd39672d9019b8cb78c59555e2a7</td>\n",
       "      <td>1585877300000</td>\n",
       "      <td>-73.54131</td>\n",
       "      <td>-73.09743</td>\n",
       "      <td>41.46730</td>\n",
       "      <td>41.53585</td>\n",
       "      <td>3</td>\n",
       "      <td>88</td>\n",
       "      <td>66</td>\n",
       "    </tr>\n",
       "    <tr>\n",
       "      <th>3</th>\n",
       "      <td>66cde0617c72fc842642700fd8905a43</td>\n",
       "      <td>1601700700000</td>\n",
       "      <td>-73.10467</td>\n",
       "      <td>-74.35972</td>\n",
       "      <td>41.46837</td>\n",
       "      <td>40.65167</td>\n",
       "      <td>4</td>\n",
       "      <td>146</td>\n",
       "      <td>99</td>\n",
       "    </tr>\n",
       "    <tr>\n",
       "      <th>4</th>\n",
       "      <td>c8b524cb197f7bd6774caaf37e6cbd1e</td>\n",
       "      <td>1605607900000</td>\n",
       "      <td>-73.35801</td>\n",
       "      <td>-73.13973</td>\n",
       "      <td>41.32444</td>\n",
       "      <td>41.59873</td>\n",
       "      <td>1</td>\n",
       "      <td>51</td>\n",
       "      <td>64</td>\n",
       "    </tr>\n",
       "    <tr>\n",
       "      <th>...</th>\n",
       "      <td>...</td>\n",
       "      <td>...</td>\n",
       "      <td>...</td>\n",
       "      <td>...</td>\n",
       "      <td>...</td>\n",
       "      <td>...</td>\n",
       "      <td>...</td>\n",
       "      <td>...</td>\n",
       "      <td>...</td>\n",
       "    </tr>\n",
       "    <tr>\n",
       "      <th>145</th>\n",
       "      <td>37c5f09edd202f5cc6162434406ba3ac</td>\n",
       "      <td>1579697900000</td>\n",
       "      <td>-73.31275</td>\n",
       "      <td>-72.80552</td>\n",
       "      <td>41.70019</td>\n",
       "      <td>41.14509</td>\n",
       "      <td>2</td>\n",
       "      <td>61</td>\n",
       "      <td>167</td>\n",
       "    </tr>\n",
       "    <tr>\n",
       "      <th>146</th>\n",
       "      <td>f15eb508ca545e32a1bce88fd7c5a65a</td>\n",
       "      <td>1606801500000</td>\n",
       "      <td>-72.81739</td>\n",
       "      <td>-74.45853</td>\n",
       "      <td>41.71455</td>\n",
       "      <td>41.03197</td>\n",
       "      <td>4</td>\n",
       "      <td>39</td>\n",
       "      <td>75</td>\n",
       "    </tr>\n",
       "    <tr>\n",
       "      <th>147</th>\n",
       "      <td>5b87854031ed2c9decf2f665c45a0846</td>\n",
       "      <td>1604936500000</td>\n",
       "      <td>-73.19607</td>\n",
       "      <td>-73.72320</td>\n",
       "      <td>40.92672</td>\n",
       "      <td>41.41583</td>\n",
       "      <td>4</td>\n",
       "      <td>2</td>\n",
       "      <td>132</td>\n",
       "    </tr>\n",
       "    <tr>\n",
       "      <th>148</th>\n",
       "      <td>068ae8d68d964742f820bec1c066fd11</td>\n",
       "      <td>1602136500000</td>\n",
       "      <td>-73.13963</td>\n",
       "      <td>-73.33528</td>\n",
       "      <td>41.38667</td>\n",
       "      <td>41.39011</td>\n",
       "      <td>1</td>\n",
       "      <td>94</td>\n",
       "      <td>105</td>\n",
       "    </tr>\n",
       "    <tr>\n",
       "      <th>149</th>\n",
       "      <td>ae2fee89d4e8e1567f2e4dd3a08fc5b6</td>\n",
       "      <td>1590790900000</td>\n",
       "      <td>-72.90681</td>\n",
       "      <td>-74.46577</td>\n",
       "      <td>41.38284</td>\n",
       "      <td>40.69883</td>\n",
       "      <td>2</td>\n",
       "      <td>43</td>\n",
       "      <td>34</td>\n",
       "    </tr>\n",
       "  </tbody>\n",
       "</table>\n",
       "<p>150 rows × 9 columns</p>\n",
       "</div>"
      ],
      "text/plain": [
       "                              ride_id pickup_datetime  pickup_longitude  \\\n",
       "0    0ea3513dae8903e5354e58457598333c   1596576300000         -73.11600   \n",
       "1    91c7d626ae99d1fc869a300e16386e99   1607076100000         -73.72674   \n",
       "2    f140fd39672d9019b8cb78c59555e2a7   1585877300000         -73.54131   \n",
       "3    66cde0617c72fc842642700fd8905a43   1601700700000         -73.10467   \n",
       "4    c8b524cb197f7bd6774caaf37e6cbd1e   1605607900000         -73.35801   \n",
       "..                                ...             ...               ...   \n",
       "145  37c5f09edd202f5cc6162434406ba3ac   1579697900000         -73.31275   \n",
       "146  f15eb508ca545e32a1bce88fd7c5a65a   1606801500000         -72.81739   \n",
       "147  5b87854031ed2c9decf2f665c45a0846   1604936500000         -73.19607   \n",
       "148  068ae8d68d964742f820bec1c066fd11   1602136500000         -73.13963   \n",
       "149  ae2fee89d4e8e1567f2e4dd3a08fc5b6   1590790900000         -72.90681   \n",
       "\n",
       "     dropoff_longitude  pickup_latitude  dropoff_latitude passenger_count  \\\n",
       "0            -74.27999         41.74669          40.72651               4   \n",
       "1            -73.05540         41.12311          40.66890               4   \n",
       "2            -73.09743         41.46730          41.53585               3   \n",
       "3            -74.35972         41.46837          40.65167               4   \n",
       "4            -73.13973         41.32444          41.59873               1   \n",
       "..                 ...              ...               ...             ...   \n",
       "145          -72.80552         41.70019          41.14509               2   \n",
       "146          -74.45853         41.71455          41.03197               4   \n",
       "147          -73.72320         40.92672          41.41583               4   \n",
       "148          -73.33528         41.38667          41.39011               1   \n",
       "149          -74.46577         41.38284          40.69883               2   \n",
       "\n",
       "    taxi_id driver_id  \n",
       "0       150       190  \n",
       "1        56       186  \n",
       "2        88        66  \n",
       "3       146        99  \n",
       "4        51        64  \n",
       "..      ...       ...  \n",
       "145      61       167  \n",
       "146      39        75  \n",
       "147       2       132  \n",
       "148      94       105  \n",
       "149      43        34  \n",
       "\n",
       "[150 rows x 9 columns]"
      ]
     },
     "execution_count": 2,
     "metadata": {},
     "output_type": "execute_result"
    }
   ],
   "source": [
    "df_rides = generate_rides_data(150)\n",
    "\n",
    "df_rides"
   ]
  },
  {
   "cell_type": "code",
   "execution_count": 3,
   "id": "9da2d928",
   "metadata": {},
   "outputs": [],
   "source": [
    "df_rides[\"distance\"] = distance(df_rides[\"pickup_latitude\"], df_rides[\"pickup_longitude\"],\n",
    "                            df_rides[\"dropoff_latitude\"], df_rides[\"dropoff_longitude\"])"
   ]
  },
  {
   "cell_type": "code",
   "execution_count": 4,
   "id": "b1569658",
   "metadata": {},
   "outputs": [],
   "source": [
    "# Distances to nearby airports\n",
    "jfk = (-73.7781, 40.6413)\n",
    "ewr = (-74.1745, 40.6895)\n",
    "lgr = (-73.8740, 40.7769)\n",
    "\n",
    "df_rides['pickup_distance_to_jfk'] = distance(jfk[1], jfk[0],\n",
    "                                     df_rides['pickup_latitude'], df_rides['pickup_longitude'])\n",
    "df_rides['dropoff_distance_to_jfk'] = distance(jfk[1], jfk[0],\n",
    "                                       df_rides['dropoff_latitude'], df_rides['dropoff_longitude'])\n",
    "df_rides['pickup_distance_to_ewr'] = distance(ewr[1], ewr[0], \n",
    "                                      df_rides['pickup_latitude'], df_rides['pickup_longitude'])\n",
    "df_rides['dropoff_distance_to_ewr'] = distance(ewr[1], ewr[0],\n",
    "                                       df_rides['dropoff_latitude'], df_rides['dropoff_longitude'])\n",
    "df_rides['pickup_distance_to_lgr'] = distance(lgr[1], lgr[0],\n",
    "                                      df_rides['pickup_latitude'], df_rides['pickup_longitude'])\n",
    "df_rides['dropoff_distance_to_lgr'] = distance(lgr[1], lgr[0],\n",
    "                                       df_rides['dropoff_latitude'], df_rides['dropoff_longitude'])"
   ]
  },
  {
   "cell_type": "code",
   "execution_count": 5,
   "id": "5a82cf43",
   "metadata": {},
   "outputs": [],
   "source": [
    "df_rides[\"pickup_datetime\"] = (pd.to_datetime(df_rides[\"pickup_datetime\"],unit='ms'))"
   ]
  },
  {
   "cell_type": "code",
   "execution_count": 6,
   "id": "3ccdfdca",
   "metadata": {},
   "outputs": [],
   "source": [
    "df_rides['year'] = df_rides.pickup_datetime.apply(lambda t: t.year)\n",
    "df_rides['weekday'] = df_rides.pickup_datetime.apply(lambda t: t.weekday())\n",
    "df_rides['hour'] = df_rides.pickup_datetime.apply(lambda t: t.hour)"
   ]
  },
  {
   "cell_type": "code",
   "execution_count": 7,
   "id": "4815b4ba",
   "metadata": {},
   "outputs": [],
   "source": [
    "df_rides[\"pickup_datetime\"] = df_rides[\"pickup_datetime\"].values.astype(np.int64) // 10 ** 6"
   ]
  },
  {
   "cell_type": "code",
   "execution_count": 8,
   "id": "c392ec8a",
   "metadata": {},
   "outputs": [],
   "source": [
    "# lets save our newly-generated ride_ids to the csv so\n",
    "# we will retrieve them and use in fares_fg\n",
    "df_rides.ride_id.to_csv(\"new_ride_ids.csv\")"
   ]
  },
  {
   "cell_type": "code",
   "execution_count": 9,
   "id": "94640dfe",
   "metadata": {},
   "outputs": [],
   "source": [
    "for col in [\"passenger_count\", \"taxi_id\", \"driver_id\"]:\n",
    "    df_rides[col] = df_rides[col].astype(\"int64\")\n"
   ]
  },
  {
   "cell_type": "markdown",
   "id": "5441afc6",
   "metadata": {},
   "source": [
    "#### <span style='color:#ff5f27'> 💸 Fares Data"
   ]
  },
  {
   "cell_type": "code",
   "execution_count": 10,
   "id": "be60bd25",
   "metadata": {
    "scrolled": true
   },
   "outputs": [
    {
     "data": {
      "text/html": [
       "<div>\n",
       "<style scoped>\n",
       "    .dataframe tbody tr th:only-of-type {\n",
       "        vertical-align: middle;\n",
       "    }\n",
       "\n",
       "    .dataframe tbody tr th {\n",
       "        vertical-align: top;\n",
       "    }\n",
       "\n",
       "    .dataframe thead th {\n",
       "        text-align: right;\n",
       "    }\n",
       "</style>\n",
       "<table border=\"1\" class=\"dataframe\">\n",
       "  <thead>\n",
       "    <tr style=\"text-align: right;\">\n",
       "      <th></th>\n",
       "      <th>total_fare</th>\n",
       "      <th>tip</th>\n",
       "      <th>tolls</th>\n",
       "      <th>taxi_id</th>\n",
       "      <th>driver_id</th>\n",
       "    </tr>\n",
       "  </thead>\n",
       "  <tbody>\n",
       "    <tr>\n",
       "      <th>0</th>\n",
       "      <td>190</td>\n",
       "      <td>14</td>\n",
       "      <td>0</td>\n",
       "      <td>6</td>\n",
       "      <td>35</td>\n",
       "    </tr>\n",
       "    <tr>\n",
       "      <th>1</th>\n",
       "      <td>89</td>\n",
       "      <td>51</td>\n",
       "      <td>3</td>\n",
       "      <td>23</td>\n",
       "      <td>19</td>\n",
       "    </tr>\n",
       "    <tr>\n",
       "      <th>2</th>\n",
       "      <td>8</td>\n",
       "      <td>30</td>\n",
       "      <td>3</td>\n",
       "      <td>36</td>\n",
       "      <td>48</td>\n",
       "    </tr>\n",
       "    <tr>\n",
       "      <th>3</th>\n",
       "      <td>175</td>\n",
       "      <td>47</td>\n",
       "      <td>2</td>\n",
       "      <td>165</td>\n",
       "      <td>156</td>\n",
       "    </tr>\n",
       "    <tr>\n",
       "      <th>4</th>\n",
       "      <td>104</td>\n",
       "      <td>31</td>\n",
       "      <td>1</td>\n",
       "      <td>185</td>\n",
       "      <td>150</td>\n",
       "    </tr>\n",
       "    <tr>\n",
       "      <th>...</th>\n",
       "      <td>...</td>\n",
       "      <td>...</td>\n",
       "      <td>...</td>\n",
       "      <td>...</td>\n",
       "      <td>...</td>\n",
       "    </tr>\n",
       "    <tr>\n",
       "      <th>145</th>\n",
       "      <td>35</td>\n",
       "      <td>4</td>\n",
       "      <td>5</td>\n",
       "      <td>51</td>\n",
       "      <td>168</td>\n",
       "    </tr>\n",
       "    <tr>\n",
       "      <th>146</th>\n",
       "      <td>156</td>\n",
       "      <td>7</td>\n",
       "      <td>5</td>\n",
       "      <td>134</td>\n",
       "      <td>19</td>\n",
       "    </tr>\n",
       "    <tr>\n",
       "      <th>147</th>\n",
       "      <td>75</td>\n",
       "      <td>10</td>\n",
       "      <td>1</td>\n",
       "      <td>178</td>\n",
       "      <td>90</td>\n",
       "    </tr>\n",
       "    <tr>\n",
       "      <th>148</th>\n",
       "      <td>242</td>\n",
       "      <td>33</td>\n",
       "      <td>0</td>\n",
       "      <td>98</td>\n",
       "      <td>42</td>\n",
       "    </tr>\n",
       "    <tr>\n",
       "      <th>149</th>\n",
       "      <td>163</td>\n",
       "      <td>17</td>\n",
       "      <td>5</td>\n",
       "      <td>31</td>\n",
       "      <td>53</td>\n",
       "    </tr>\n",
       "  </tbody>\n",
       "</table>\n",
       "<p>150 rows × 5 columns</p>\n",
       "</div>"
      ],
      "text/plain": [
       "    total_fare tip tolls taxi_id driver_id\n",
       "0          190  14     0       6        35\n",
       "1           89  51     3      23        19\n",
       "2            8  30     3      36        48\n",
       "3          175  47     2     165       156\n",
       "4          104  31     1     185       150\n",
       "..         ...  ..   ...     ...       ...\n",
       "145         35   4     5      51       168\n",
       "146        156   7     5     134        19\n",
       "147         75  10     1     178        90\n",
       "148        242  33     0      98        42\n",
       "149        163  17     5      31        53\n",
       "\n",
       "[150 rows x 5 columns]"
      ]
     },
     "execution_count": 10,
     "metadata": {},
     "output_type": "execute_result"
    }
   ],
   "source": [
    "df_fares = generate_fares_data(150)\n",
    "\n",
    "df_fares"
   ]
  },
  {
   "cell_type": "code",
   "execution_count": 11,
   "id": "17ed490a",
   "metadata": {},
   "outputs": [],
   "source": [
    "df_fares = df_fares.astype(\"int64\")"
   ]
  },
  {
   "cell_type": "code",
   "execution_count": 12,
   "id": "1193d62e",
   "metadata": {},
   "outputs": [],
   "source": [
    "# lets load our ride_ids which were created moments ago for rides_fg\n",
    "df_fares[\"ride_id\"] = pd.read_csv(\"new_ride_ids.csv\")[\"ride_id\"]"
   ]
  },
  {
   "cell_type": "code",
   "execution_count": 13,
   "id": "742b556e",
   "metadata": {},
   "outputs": [],
   "source": [
    "for col in [\"tip\", \"tolls\", \"total_fare\"]:\n",
    "    df_fares[col] = df_fares[col].astype(\"double\")"
   ]
  },
  {
   "cell_type": "markdown",
   "id": "10c2618b",
   "metadata": {},
   "source": [
    "## <span style=\"color:#ff5f27;\"> 🔮 Connecting to Hopsworks Feature Store </span>"
   ]
  },
  {
   "cell_type": "code",
   "execution_count": 14,
   "id": "4530f803",
   "metadata": {},
   "outputs": [
    {
     "name": "stdout",
     "output_type": "stream",
     "text": [
      "Connected. Call `.close()` to terminate connection gracefully.\n",
      "\n",
      "Logged in to project, explore it here https://c.app.hopsworks.ai:443/p/164\n"
     ]
    },
    {
     "name": "stderr",
     "output_type": "stream",
     "text": [
      "DeprecationWarning: the imp module is deprecated in favour of importlib; see the module's documentation for alternative uses\n"
     ]
    },
    {
     "name": "stdout",
     "output_type": "stream",
     "text": [
      "Connected. Call `.close()` to terminate connection gracefully.\n"
     ]
    }
   ],
   "source": [
    "import hopsworks\n",
    "\n",
    "project = hopsworks.login()\n",
    "\n",
    "fs = project.get_feature_store() "
   ]
  },
  {
   "cell_type": "markdown",
   "id": "5737ca2f",
   "metadata": {},
   "source": [
    "## <span style=\"color:#ff5f27;\">🪄 Retrieving Feature Groups</span>"
   ]
  },
  {
   "cell_type": "code",
   "execution_count": 15,
   "id": "4e4f3e0c",
   "metadata": {},
   "outputs": [],
   "source": [
    "rides_fg = fs.get_or_create_feature_group(name=\"rides_fg\",\n",
    "                                          version=1)   \n",
    "\n",
    "fares_fg = fs.get_or_create_feature_group(name=\"fares_fg\",\n",
    "                                          version=1)   "
   ]
  },
  {
   "cell_type": "markdown",
   "id": "5aef353d",
   "metadata": {},
   "source": [
    "## <span style=\"color:#ff5f27;\">🧬 Inserting into Feature Groups</span>"
   ]
  },
  {
   "cell_type": "code",
   "execution_count": 16,
   "id": "f81bb922",
   "metadata": {},
   "outputs": [
    {
     "name": "stdout",
     "output_type": "stream",
     "text": [
      "2022-09-12 20:37:24,884 INFO: \t2 expectation(s) included in expectation_suite.\n",
      "Validation Report saved successfully, explore a summary at https://c.app.hopsworks.ai:443/p/164/fs/106/fg/631\n"
     ]
    },
    {
     "data": {
      "application/vnd.jupyter.widget-view+json": {
       "model_id": "e345fcf79d1f44b4874da7554592d0ac",
       "version_major": 2,
       "version_minor": 0
      },
      "text/plain": [
       "Uploading Dataframe: 0.00% |          | Rows 0/150 | Elapsed Time: 00:00 | Remaining Time: ?"
      ]
     },
     "metadata": {},
     "output_type": "display_data"
    },
    {
     "name": "stdout",
     "output_type": "stream",
     "text": [
      "Launching offline feature group backfill job...\n",
      "Backfill Job started successfully, you can follow the progress at \n",
      "https://c.app.hopsworks.ai/p/164/jobs/named/rides_fg_1_offline_fg_backfill/executions\n"
     ]
    },
    {
     "data": {
      "text/plain": [
       "(<hsfs.core.job.Job at 0x1fd9169a640>,\n",
       " {\n",
       "   \"results\": [\n",
       "     {\n",
       "       \"success\": true,\n",
       "       \"result\": {\n",
       "         \"element_count\": 150,\n",
       "         \"missing_count\": 0,\n",
       "         \"missing_percent\": 0.0,\n",
       "         \"unexpected_count\": 0,\n",
       "         \"unexpected_percent\": 0.0,\n",
       "         \"unexpected_percent_total\": 0.0,\n",
       "         \"unexpected_percent_nonmissing\": 0.0,\n",
       "         \"partial_unexpected_list\": []\n",
       "       },\n",
       "       \"meta\": {},\n",
       "       \"exception_info\": {\n",
       "         \"raised_exception\": false,\n",
       "         \"exception_message\": null,\n",
       "         \"exception_traceback\": null\n",
       "       },\n",
       "       \"expectation_config\": {\n",
       "         \"meta\": {\n",
       "           \"expectationId\": 295\n",
       "         },\n",
       "         \"kwargs\": {\n",
       "           \"column\": \"pickup_longitude\",\n",
       "           \"min_value\": -74.5,\n",
       "           \"max_value\": -72.8\n",
       "         },\n",
       "         \"expectation_type\": \"expect_column_values_to_be_between\"\n",
       "       }\n",
       "     },\n",
       "     {\n",
       "       \"success\": true,\n",
       "       \"result\": {\n",
       "         \"element_count\": 150,\n",
       "         \"missing_count\": 0,\n",
       "         \"missing_percent\": 0.0,\n",
       "         \"unexpected_count\": 0,\n",
       "         \"unexpected_percent\": 0.0,\n",
       "         \"unexpected_percent_total\": 0.0,\n",
       "         \"unexpected_percent_nonmissing\": 0.0,\n",
       "         \"partial_unexpected_list\": []\n",
       "       },\n",
       "       \"meta\": {},\n",
       "       \"exception_info\": {\n",
       "         \"raised_exception\": false,\n",
       "         \"exception_message\": null,\n",
       "         \"exception_traceback\": null\n",
       "       },\n",
       "       \"expectation_config\": {\n",
       "         \"meta\": {\n",
       "           \"expectationId\": 296\n",
       "         },\n",
       "         \"kwargs\": {\n",
       "           \"column\": \"pickup_latitude\",\n",
       "           \"min_value\": 40.5,\n",
       "           \"max_value\": 41.8\n",
       "         },\n",
       "         \"expectation_type\": \"expect_column_values_to_be_between\"\n",
       "       }\n",
       "     }\n",
       "   ],\n",
       "   \"success\": true,\n",
       "   \"meta\": {\n",
       "     \"great_expectations_version\": \"0.15.18\",\n",
       "     \"expectation_suite_name\": \"validate_on_insert_suite\",\n",
       "     \"run_id\": {\n",
       "       \"run_name\": null,\n",
       "       \"run_time\": \"2022-09-12T18:37:24.883758+00:00\"\n",
       "     },\n",
       "     \"batch_kwargs\": {\n",
       "       \"ge_batch_id\": \"f208a08b-32c9-11ed-a033-14abc5f42df5\"\n",
       "     },\n",
       "     \"batch_markers\": {},\n",
       "     \"batch_parameters\": {},\n",
       "     \"validation_time\": \"20220912T183724.883758Z\",\n",
       "     \"expectation_suite_meta\": {\n",
       "       \"great_expectations_version\": \"0.14.3\"\n",
       "     }\n",
       "   },\n",
       "   \"evaluation_parameters\": {},\n",
       "   \"statistics\": {\n",
       "     \"evaluated_expectations\": 2,\n",
       "     \"successful_expectations\": 2,\n",
       "     \"unsuccessful_expectations\": 0,\n",
       "     \"success_percent\": 100.0\n",
       "   }\n",
       " })"
      ]
     },
     "execution_count": 16,
     "metadata": {},
     "output_type": "execute_result"
    }
   ],
   "source": [
    "rides_fg.insert(df_rides)"
   ]
  },
  {
   "cell_type": "code",
   "execution_count": 17,
   "id": "be0c498e",
   "metadata": {
    "scrolled": true
   },
   "outputs": [
    {
     "name": "stdout",
     "output_type": "stream",
     "text": [
      "2022-09-12 20:38:31,509 INFO: \t1 expectation(s) included in expectation_suite.\n",
      "Validation Report saved successfully, explore a summary at https://c.app.hopsworks.ai:443/p/164/fs/106/fg/632\n"
     ]
    },
    {
     "data": {
      "application/vnd.jupyter.widget-view+json": {
       "model_id": "0a283e6a5bec45fa85acf32c7f9d3eeb",
       "version_major": 2,
       "version_minor": 0
      },
      "text/plain": [
       "Uploading Dataframe: 0.00% |          | Rows 0/150 | Elapsed Time: 00:00 | Remaining Time: ?"
      ]
     },
     "metadata": {},
     "output_type": "display_data"
    },
    {
     "name": "stdout",
     "output_type": "stream",
     "text": [
      "Launching offline feature group backfill job...\n",
      "Backfill Job started successfully, you can follow the progress at \n",
      "https://c.app.hopsworks.ai/p/164/jobs/named/fares_fg_1_offline_fg_backfill/executions\n"
     ]
    },
    {
     "data": {
      "text/plain": [
       "(<hsfs.core.job.Job at 0x1fd9197c970>,\n",
       " {\n",
       "   \"results\": [\n",
       "     {\n",
       "       \"success\": true,\n",
       "       \"result\": {\n",
       "         \"element_count\": 150,\n",
       "         \"missing_count\": 0,\n",
       "         \"missing_percent\": 0.0,\n",
       "         \"unexpected_count\": 0,\n",
       "         \"unexpected_percent\": 0.0,\n",
       "         \"unexpected_percent_total\": 0.0,\n",
       "         \"unexpected_percent_nonmissing\": 0.0,\n",
       "         \"partial_unexpected_list\": []\n",
       "       },\n",
       "       \"meta\": {},\n",
       "       \"exception_info\": {\n",
       "         \"raised_exception\": false,\n",
       "         \"exception_message\": null,\n",
       "         \"exception_traceback\": null\n",
       "       },\n",
       "       \"expectation_config\": {\n",
       "         \"meta\": {\n",
       "           \"expectationId\": 297\n",
       "         },\n",
       "         \"kwargs\": {\n",
       "           \"column\": \"total_fare\",\n",
       "           \"min_value\": 3,\n",
       "           \"max_value\": 5000\n",
       "         },\n",
       "         \"expectation_type\": \"expect_column_values_to_be_between\"\n",
       "       }\n",
       "     }\n",
       "   ],\n",
       "   \"success\": true,\n",
       "   \"meta\": {\n",
       "     \"great_expectations_version\": \"0.15.18\",\n",
       "     \"expectation_suite_name\": \"validate_on_insert_suite\",\n",
       "     \"run_id\": {\n",
       "       \"run_name\": null,\n",
       "       \"run_time\": \"2022-09-12T18:38:31.508427+00:00\"\n",
       "     },\n",
       "     \"batch_kwargs\": {\n",
       "       \"ge_batch_id\": \"19bedff9-32ca-11ed-9926-14abc5f42df5\"\n",
       "     },\n",
       "     \"batch_markers\": {},\n",
       "     \"batch_parameters\": {},\n",
       "     \"validation_time\": \"20220912T183831.508427Z\",\n",
       "     \"expectation_suite_meta\": {\n",
       "       \"great_expectations_version\": \"0.14.3\"\n",
       "     }\n",
       "   },\n",
       "   \"evaluation_parameters\": {},\n",
       "   \"statistics\": {\n",
       "     \"evaluated_expectations\": 1,\n",
       "     \"successful_expectations\": 1,\n",
       "     \"unsuccessful_expectations\": 0,\n",
       "     \"success_percent\": 100.0\n",
       "   }\n",
       " })"
      ]
     },
     "execution_count": 17,
     "metadata": {},
     "output_type": "execute_result"
    }
   ],
   "source": [
    "fares_fg.insert(df_fares)"
   ]
  },
  {
   "cell_type": "markdown",
   "id": "b3b7d4c4",
   "metadata": {},
   "source": [
    "---"
   ]
  },
  {
   "cell_type": "markdown",
   "id": "30891844",
   "metadata": {},
   "source": [
    "## <span style=\"color:#ff5f27;\">⏭️ **Next:** Part 03 </span>\n",
    "\n",
    "In the next notebook, we will create a feature view and training dataset."
   ]
  }
 ],
 "metadata": {
  "kernelspec": {
   "display_name": "Python 3 (ipykernel)",
   "language": "python",
   "name": "python3"
  },
  "language_info": {
   "codemirror_mode": {
    "name": "ipython",
    "version": 3
   },
   "file_extension": ".py",
   "mimetype": "text/x-python",
   "name": "python",
   "nbconvert_exporter": "python",
   "pygments_lexer": "ipython3",
   "version": "3.8.0"
  },
  "vscode": {
   "interpreter": {
    "hash": "190ea7959a836f4799545ea0f3718ade3abee093b15861ffdc25233d6ab7050e"
   }
  }
 },
 "nbformat": 4,
 "nbformat_minor": 5
}
