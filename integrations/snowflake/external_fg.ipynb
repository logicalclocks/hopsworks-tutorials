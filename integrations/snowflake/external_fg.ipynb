{
 "cells": [
  {
   "cell_type": "markdown",
   "id": "9bfd1198",
   "metadata": {},
   "source": [
    "# <span style='color:#ff5f27'> 👨🏻‍🏫 Snowflake External Feature Group Creation</span>\n",
    "\n",
    "Follow this [guide](https://docs.hopsworks.ai/3.1/user_guides/fs/storage_connector/creation/snowflake/) to set up a connection to Snowflake.\n",
    "\n",
    "In addition, you can read about [External Feature Groups](https://docs.hopsworks.ai/3.0/user_guides/fs/feature_group/create_external/)."
   ]
  },
  {
   "cell_type": "markdown",
   "id": "991adc4b",
   "metadata": {},
   "source": [
    "## <span style='color:#ff5f27'> 🔮 Retrieve a Connector\n",
    "\n",
    "Firstly, connect to feature store and then retrieve your **Snowflake storage connector**.\n",
    "\n",
    "Replace `my_storage_connector_name` with your Snowflake storage connector name."
   ]
  },
  {
   "cell_type": "code",
   "execution_count": null,
   "id": "95e92de1",
   "metadata": {},
   "outputs": [],
   "source": [
    "import hsfs\n",
    "\n",
    "# Connect to the Hopsworks feature store\n",
    "hsfs_connection = hsfs.connection()\n",
    "\n",
    "# Retrieve the metadata handle\n",
    "feature_store = hsfs_connection.get_feature_store()\n",
    "\n",
    "# Retrieve storage connector \n",
    "connector = feature_store.get_storage_connector('my_storage_connector_name')"
   ]
  },
  {
   "cell_type": "markdown",
   "id": "1391866f",
   "metadata": {},
   "source": [
    "## <span style='color:#ff5f27'> 📝 Read Data </span>\n",
    "\n",
    "You can retrieve your data by passing a SQL query as a string into **query** parameter of the `.read()` method."
   ]
  },
  {
   "cell_type": "code",
   "execution_count": null,
   "id": "25a4893a",
   "metadata": {},
   "outputs": [],
   "source": [
    "query_str = \"SELECT * FROM {table_name}\"\n",
    "\n",
    "# read results from a SQL \n",
    "df = connector.read(query=query_str) "
   ]
  },
  {
   "cell_type": "markdown",
   "id": "f397501b",
   "metadata": {},
   "source": [
    "> **.read()** method returns a PySpark DataFrame."
   ]
  },
  {
   "cell_type": "code",
   "execution_count": null,
   "id": "618568d8",
   "metadata": {},
   "outputs": [],
   "source": [
    "type(df)"
   ]
  },
  {
   "cell_type": "code",
   "execution_count": null,
   "id": "83caffdc",
   "metadata": {},
   "outputs": [],
   "source": [
    "df.show(5)"
   ]
  },
  {
   "cell_type": "markdown",
   "id": "286a2070",
   "metadata": {},
   "source": [
    "## <span style='color:#ff5f27'> ⚙️ Feature Group Creation</span>\n",
    "\n",
    "To create an **External Feature Group**, use `feature_store.create_external_feature_group()` method.\n",
    "\n",
    "Provide the parameters for your query and the Snowflake storage connector:\n",
    "- `query` - your SQL query string. \n",
    "- `storage_connector` - your **Snowflake Storage Connector**."
   ]
  },
  {
   "cell_type": "code",
   "execution_count": null,
   "id": "d7d2caff",
   "metadata": {},
   "outputs": [],
   "source": [
    "my_external_fg = feature_store.create_external_feature_group(\n",
    "    name=\"name_external_fg\",\n",
    "    version=1,\n",
    "    description=\"Description of the External Snowflake Table\",\n",
    "    primary_key=['pk1_name','pk2_name'],\n",
    "    event_time='event_time_col_name',\n",
    "    query=query_str,\n",
    "    storage_connector=connector,\n",
    ")"
   ]
  },
  {
   "cell_type": "markdown",
   "id": "17422d7f",
   "metadata": {},
   "source": [
    "Don't forget to register a feature group metadata object in Hopsworks!"
   ]
  },
  {
   "cell_type": "code",
   "execution_count": null,
   "id": "60a40518",
   "metadata": {},
   "outputs": [],
   "source": [
    "my_external_fg.save()"
   ]
  },
  {
   "cell_type": "markdown",
   "id": "3888e1ba",
   "metadata": {},
   "source": [
    "Now, you should be able to see your External Feature Group for the Snowflake table in the Hopsworks UI.\n",
    "\n",
    "![Snowflake_efg](images/snowflake_table.png)\n",
    "\n",
    "---"
   ]
  }
 ],
 "metadata": {
  "kernelspec": {
   "display_name": "PySpark",
   "language": "python",
   "name": "pysparkkernel"
  },
  "language_info": {
   "codemirror_mode": {
    "name": "python",
    "version": 3
   },
   "mimetype": "text/x-python",
   "name": "pyspark",
   "pygments_lexer": "python3"
  }
 },
 "nbformat": 4,
 "nbformat_minor": 5
}