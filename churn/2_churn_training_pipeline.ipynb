{
 "cells": [
  {
   "cell_type": "markdown",
   "metadata": {},
   "source": [
    "# <span style=\"font-width:bold; font-size: 3rem; color:#1EB182;\"><img src=\"../images/icon102.png\" width=\"38px\"></img> **Hopsworks Feature Store** </span><span style=\"font-width:bold; font-size: 3rem; color:#333;\">- Part 02: Training Pipeline</span>\n",
    "\n",
    "[![Open In Colab](https://colab.research.google.com/assets/colab-badge.svg)](https://colab.research.google.com/github/logicalclocks/hopsworks-tutorials/blob/master/churn/2_churn_training_pipeline.ipynb)\n",
    "\n",
    "This is the second part of the quick start series of tutorials about predicting customers that are at risk of churning with the Hopsworks Feature Store.\n",
    "\n",
    "This notebook explains how to read from a feature group and create training dataset within the feature store.\n",
    "\n",
    "You will train the model using XGBoost model, although it could just as well be trained with other machine learning frameworks such as Scikit-learn, PySpark, TensorFlow, and PyTorch. You will also perform some of the exploration that can be done in Hopsworks, notably the search functions and the lineage.\n",
    "\n",
    "## 🗒️ This notebook is divided into the following sections:\n",
    "1. Select the features you want to train the model on.\n",
    "2. Preprocess of features.\n",
    "3. Create a dataset split for training and validation data.\n",
    "4. Load the training data.\n",
    "5. Train the model.\n",
    "6. Explore feature groups and views via the UI.\n",
    "\n",
    "![tutorial-flow](../images/03_model.png)"
   ]
  },
  {
   "cell_type": "code",
   "execution_count": null,
   "metadata": {},
   "outputs": [],
   "source": [
    "!pip install -U hopsworks --quiet"
   ]
  },
  {
   "cell_type": "markdown",
   "metadata": {},
   "source": [
    "### <span style='color:#ff5f27'> 📝 Imports"
   ]
  },
  {
   "cell_type": "code",
   "execution_count": null,
   "metadata": {},
   "outputs": [],
   "source": [
    "import joblib\n",
    "import os\n",
    "from PIL import Image\n",
    "\n",
    "import pandas as pd\n",
    "import matplotlib.pyplot as plt\n",
    "import seaborn as sns\n",
    "\n",
    "from sklearn.metrics import confusion_matrix\n",
    "import xgboost as xgb\n",
    "\n",
    "#ignore warnings\n",
    "import warnings\n",
    "warnings.filterwarnings('ignore')"
   ]
  },
  {
   "cell_type": "markdown",
   "metadata": {},
   "source": [
    "## <span style=\"color:#ff5f27;\"> 📡 Connecting to Hopsworks Feature Store </span>"
   ]
  },
  {
   "cell_type": "code",
   "execution_count": null,
   "metadata": {},
   "outputs": [],
   "source": [
    "import hopsworks\n",
    "\n",
    "project = hopsworks.login()\n",
    "\n",
    "fs = project.get_feature_store()"
   ]
  },
  {
   "cell_type": "markdown",
   "metadata": {},
   "source": [
    "---\n",
    "## <span style=\"color:#ff5f27;\"> 🔪 Feature Selection </span>\n",
    "\n",
    "You will start by selecting all the features you want to include for model training/inference."
   ]
  },
  {
   "cell_type": "code",
   "execution_count": null,
   "metadata": {},
   "outputs": [],
   "source": [
    "# Retrieve feature groups\n",
    "customer_info_fg = fs.get_feature_group(\n",
    "    name=\"customer_info\",\n",
    "    version=1,\n",
    ")\n",
    "\n",
    "demography_fg = fs.get_feature_group(\n",
    "    name=\"customer_demography_info\",\n",
    "    version=1,\n",
    ")\n",
    "\n",
    "subscriptions_fg = fs.get_feature_group(\n",
    "    name=\"customer_subscription_info\",\n",
    "    version=1,\n",
    ")"
   ]
  },
  {
   "cell_type": "code",
   "execution_count": null,
   "metadata": {},
   "outputs": [],
   "source": [
    "# Select features for training data\n",
    "query = customer_info_fg.select_except([\"customerid\", \"datetime\"]) \\\n",
    "    .join(demography_fg.select_except([\"customerid\"])) \\\n",
    "    .join(subscriptions_fg.select_except([\"datetime\"]))\n",
    "\n",
    "# uncomment this if you would like to view query result\n",
    "# query.show(5)"
   ]
  },
  {
   "cell_type": "markdown",
   "metadata": {},
   "source": [
    "Recall that you created three feature groups in the previous notebook. If you had created multiple feature groups with identical schema and wanted to include them in the join you would need to include a prefix argument in the join to avoid feature name clash. See the [documentation](https://docs.hopsworks.ai/feature-store-api/latest/generated/api/query_api/#join) for more details."
   ]
  },
  {
   "cell_type": "markdown",
   "metadata": {},
   "source": [
    "---\n",
    "## <span style=\"color:#ff5f27;\">🤖 Transformation Functions </span>\n",
    "\n",
    "You will preprocess the data using *min-max scaling* on numerical features and *label encoding* on categorical features. To do this you will simply define a mapping between features and transformation functions. This ensures that transformation functions such as *min-max scaling* are fitted only on the training data (and not the validation/test data), which ensures that there is no data leakage."
   ]
  },
  {
   "cell_type": "code",
   "execution_count": null,
   "metadata": {},
   "outputs": [],
   "source": [
    "# Load transformation functions from the feature store\n",
    "min_max_scaler = fs.get_transformation_function(name=\"min_max_scaler\")\n",
    "label_encoder = fs.get_transformation_function(name=\"label_encoder\")\n",
    "\n",
    "# Define lists of numerical and categorical features\n",
    "numerical_features = [\"tenure\", \"monthlycharges\", \"totalcharges\"]\n",
    "categorical_features = [\n",
    "    \"multiplelines\", \"internetservice\", \"onlinesecurity\", \"onlinebackup\",\n",
    "    \"deviceprotection\", \"techsupport\", \"streamingmovies\", \"streamingtv\",\n",
    "    \"phoneservice\", \"paperlessbilling\", \"contract\", \"paymentmethod\", \"gender\", \n",
    "    \"dependents\", \"partner\"\n",
    "]\n",
    "\n",
    "# Map features to their corresponding transformation functions\n",
    "transformation_functions = {}\n",
    "\n",
    "# For numerical features, use the min_max_scaler transformation\n",
    "for feature in numerical_features:\n",
    "    transformation_functions[feature] = min_max_scaler\n",
    "\n",
    "# For categorical features, use the label_encoder transformation\n",
    "for feature in categorical_features:\n",
    "    transformation_functions[feature] = label_encoder"
   ]
  },
  {
   "cell_type": "markdown",
   "metadata": {},
   "source": [
    "---\n",
    "## <span style=\"color:#ff5f27;\"> ⚙️ Feature View Creation </span>\n",
    "\n",
    "The Feature Views allows schema in form of a query with filters, define a model target feature/label and additional transformation functions.\n",
    "In order to create a Feature View you may use `fs.get_or_create_feature_view()`."
   ]
  },
  {
   "cell_type": "code",
   "execution_count": null,
   "metadata": {},
   "outputs": [],
   "source": [
    "# Get or create the 'churn_feature_view'\n",
    "feature_view = fs.get_or_create_feature_view(\n",
    "        name = 'churn_feature_view',\n",
    "        version = 1,\n",
    "        labels=[\"churn\"],\n",
    "        transformation_functions=transformation_functions,\n",
    "        query=query,\n",
    ")"
   ]
  },
  {
   "cell_type": "markdown",
   "metadata": {},
   "source": [
    "The feature view is now visible in the UI.\n",
    "\n",
    "![fv-overview](../churn/images/churn_tutofv.gif)"
   ]
  },
  {
   "cell_type": "markdown",
   "metadata": {},
   "source": [
    "---\n",
    "## <span style=\"color:#ff5f27;\">🏋️ Training Dataset </span>\n"
   ]
  },
  {
   "cell_type": "code",
   "execution_count": null,
   "metadata": {},
   "outputs": [],
   "source": [
    "# Split data into training, validation, and test sets\n",
    "X_train, X_val, X_test, y_train, y_val, y_test = feature_view.train_validation_test_split(\n",
    "    validation_size=0.2,\n",
    "    test_size=0.1,\n",
    ")\n",
    "\n",
    "# Drop the 'customerid' column from the training set\n",
    "X_train.drop('customerid', axis=1, inplace=True)\n",
    "\n",
    "# Drop the 'customerid' column from the validation set\n",
    "X_val.drop('customerid', axis=1, inplace=True)\n",
    "\n",
    "# Drop the 'customerid' column from the test set\n",
    "X_test.drop('customerid', axis=1, inplace=True)"
   ]
  },
  {
   "cell_type": "code",
   "execution_count": null,
   "metadata": {},
   "outputs": [],
   "source": [
    "X_train.head(3)"
   ]
  },
  {
   "cell_type": "code",
   "execution_count": null,
   "metadata": {},
   "outputs": [],
   "source": [
    "y_train.head(3)"
   ]
  },
  {
   "cell_type": "code",
   "execution_count": null,
   "metadata": {},
   "outputs": [],
   "source": [
    "# Display the normalized value counts of the target variable\n",
    "y_train.value_counts(normalize=True)"
   ]
  },
  {
   "cell_type": "markdown",
   "metadata": {},
   "source": [
    "Notice that the distribution is skewed, which is good news for the company considering that customers at risk of churning make up smaller part of customer base. However, as a data scientist should somehow address the class imbalance. There are many approaches for this, such as weighting the loss function, over- or undersampling, creating synthetic data, or modifying the decision threshold. In this example, you will use the simplest method which is to just supply a class weight parameter to our learning algorithm. The class weight will affect how much importance is attached to each class, which in our case means that higher importance will be placed on positive (curn) samples."
   ]
  },
  {
   "cell_type": "markdown",
   "metadata": {},
   "source": [
    "---\n",
    "## <span style=\"color:#ff5f27;\"> 🏃 Train Model</span>\n",
    "\n",
    "Next you will train a model and set the bigger class weight for the positive class."
   ]
  },
  {
   "cell_type": "code",
   "execution_count": null,
   "metadata": {},
   "outputs": [],
   "source": [
    "# Create an instance of the XGBClassifier with a specified scale_pos_weight\n",
    "classifier = xgb.XGBClassifier(scale_pos_weight=3)\n",
    "\n",
    "# Fit the classifier on the training data\n",
    "classifier.fit(X_train, y_train)"
   ]
  },
  {
   "cell_type": "markdown",
   "metadata": {},
   "source": [
    "---\n",
    "## <span style=\"color:#ff5f27;\"> 👨🏻‍⚖️ Model Evaluation</span>"
   ]
  },
  {
   "cell_type": "code",
   "execution_count": null,
   "metadata": {},
   "outputs": [],
   "source": [
    "# Generate the confusion matrix using the true labels (y_test) and predicted labels from the classifier\n",
    "conf_matrix = confusion_matrix(y_test, classifier.predict(X_test)).astype(int)\n",
    "\n",
    "# Create a DataFrame from the confusion matrix results with appropriate labels\n",
    "df_cm = pd.DataFrame(\n",
    "    conf_matrix, \n",
    "    ['Non Churn', 'Churn'],\n",
    "    ['Non Churn', 'Churn'],\n",
    ")\n",
    "\n",
    "# Create a heatmap using seaborn with annotations\n",
    "figure_cm = plt.figure(figsize=(10, 7))\n",
    "figure_cm = sns.heatmap(df_cm, annot=True, annot_kws={\"size\": 14}, fmt='.10g')\n",
    "\n",
    "# Set the title for the confusion matrix plot\n",
    "plt.title('Confusion Matrix', fontsize=17)\n",
    "\n",
    "# Display the plot\n",
    "plt.show()"
   ]
  },
  {
   "cell_type": "markdown",
   "metadata": {},
   "source": [
    "---\n",
    "## <span style=\"color:#ff5f27;\">🗄 Model Registry</span>\n",
    "\n",
    "One of the features in Hopsworks is the model registry. This is where you can store different versions of models and compare their performance."
   ]
  },
  {
   "cell_type": "code",
   "execution_count": null,
   "metadata": {},
   "outputs": [],
   "source": [
    "# Get the model registry\n",
    "mr = project.get_model_registry()"
   ]
  },
  {
   "cell_type": "markdown",
   "metadata": {},
   "source": [
    "### <span style=\"color:#ff5f27;\">⚙️ Model Schema</span>\n",
    "\n",
    "The model needs to be set up with a [Model Schema](https://docs.hopsworks.ai/machine-learning-api/latest/generated/model_schema/), which describes the inputs and outputs for a model.\n",
    "\n",
    "A Model Schema can be automatically generated from training examples, as shown below."
   ]
  },
  {
   "cell_type": "code",
   "execution_count": null,
   "metadata": {},
   "outputs": [],
   "source": [
    "from hsml.schema import Schema\n",
    "from hsml.model_schema import ModelSchema\n",
    "\n",
    "# Create input schema using X_train\n",
    "input_schema = Schema(X_train)\n",
    "\n",
    "# Create output schema using y_train\n",
    "output_schema = Schema(y_train)\n",
    "\n",
    "# Create a ModelSchema object specifying the input and output schemas\n",
    "model_schema = ModelSchema(input_schema=input_schema, output_schema=output_schema)\n",
    "\n",
    "# Convert the model schema to a dictionary\n",
    "model_schema.to_dict()"
   ]
  },
  {
   "cell_type": "code",
   "execution_count": null,
   "metadata": {},
   "outputs": [],
   "source": [
    "# Specify the directory where the model files will be saved\n",
    "model_dir = \"churn_model\"\n",
    "\n",
    "# Check if the directory exists, and create it if it doesn't\n",
    "if not os.path.isdir(model_dir):\n",
    "    os.mkdir(model_dir)\n",
    "\n",
    "# Specify the file name for the pickled model\n",
    "pkl_file_name = model_dir + '/churnmodel.pkl'\n",
    "\n",
    "# Save the trained classifier using joblib\n",
    "joblib.dump(classifier, pkl_file_name)\n",
    "\n",
    "# Save the confusion matrix heatmap as an image in the model directory\n",
    "figure_cm.figure.savefig(model_dir + '/confusion_matrix.png')"
   ]
  },
  {
   "cell_type": "code",
   "execution_count": null,
   "metadata": {},
   "outputs": [],
   "source": [
    "# Create a model in the model registry\n",
    "model = mr.python.create_model(\n",
    "    name=\"churnmodel\",\n",
    "    description=\"Churn Model\",\n",
    "    input_example=X_train.sample(),\n",
    "    model_schema=model_schema,\n",
    ")\n",
    "\n",
    "# Save the model to the specified directory\n",
    "model.save(model_dir)"
   ]
  },
  {
   "cell_type": "markdown",
   "metadata": {},
   "source": [
    "---\n",
    "## <span style=\"color:#ff5f27;\">⏭️ **Next:** Part 03 </span>\n",
    "\n",
    "In the following notebook you will use your model for batch inference.\n",
    "\n",
    "[![Open In Colab](https://colab.research.google.com/assets/colab-badge.svg)](https://colab.research.google.com/github/logicalclocks/hopsworks-tutorials/blob/master/churn/3_churn_batch_inference.ipynb)"
   ]
  }
 ],
 "metadata": {
  "interpreter": {
   "hash": "31f2aee4e71d21fbe5cf8b01ff0e069b9275f58929596ceb00d14d90e3e16cd6"
  },
  "kernelspec": {
   "display_name": "Python 3 (ipykernel)",
   "language": "python",
   "name": "python3"
  },
  "language_info": {
   "codemirror_mode": {
    "name": "ipython",
    "version": 3
   },
   "file_extension": ".py",
   "mimetype": "text/x-python",
   "name": "python",
   "nbconvert_exporter": "python",
   "pygments_lexer": "ipython3",
   "version": "3.9.18"
  }
 },
 "nbformat": 4,
 "nbformat_minor": 4
}
