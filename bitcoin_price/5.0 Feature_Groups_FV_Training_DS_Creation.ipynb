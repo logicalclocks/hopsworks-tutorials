{
 "cells": [
  {
   "cell_type": "markdown",
   "id": "da2885b1",
   "metadata": {},
   "source": [
    "# <span style=\"color:#ff5f27;\">🔮 Creating Feature Groups, Feature View and Training Dataset</span>\n",
    "---\n",
    "\n",
    "### <span style=\"color:#ff5f27;\"> 📝 Imports</span>"
   ]
  },
  {
   "cell_type": "code",
   "execution_count": null,
   "id": "d2e9a4ad",
   "metadata": {},
   "outputs": [],
   "source": [
    "import pandas as pd\n",
    "\n",
    "import datetime\n",
    "\n",
    "import warnings\n",
    "warnings.filterwarnings('ignore')"
   ]
  },
  {
   "cell_type": "markdown",
   "id": "5f30ff96",
   "metadata": {},
   "source": [
    "---\n",
    "\n",
    "### <span style=\"color:#ff5f27;\"> 💽 Loading Data</span>"
   ]
  },
  {
   "cell_type": "markdown",
   "id": "d44fba5c",
   "metadata": {},
   "source": [
    "#### <span style=\"color:#ff5f27;\"> ⛳️ Tweets Textblob</span>"
   ]
  },
  {
   "cell_type": "code",
   "execution_count": null,
   "id": "dc0df64c",
   "metadata": {},
   "outputs": [],
   "source": [
    "tweets_textblob = pd.read_csv(\n",
    "    'data/tweets_textblob.csv',\n",
    "    index_col = 0\n",
    ")\n",
    "\n",
    "tweets_textblob.head()"
   ]
  },
  {
   "cell_type": "code",
   "execution_count": null,
   "id": "d3bb7504",
   "metadata": {},
   "outputs": [],
   "source": [
    "tweets_textblob.info()"
   ]
  },
  {
   "cell_type": "code",
   "execution_count": null,
   "id": "7a2c9b45",
   "metadata": {},
   "outputs": [],
   "source": [
    "tweets_textblob.describe()"
   ]
  },
  {
   "cell_type": "code",
   "execution_count": null,
   "id": "790304ad",
   "metadata": {},
   "outputs": [],
   "source": [
    "tweets_textblob.shape"
   ]
  },
  {
   "cell_type": "markdown",
   "id": "70a17102",
   "metadata": {},
   "source": [
    "#### <span style=\"color:#ff5f27;\"> ⛳️ Tweets Vader</span>"
   ]
  },
  {
   "cell_type": "code",
   "execution_count": null,
   "id": "4ce3e18f",
   "metadata": {},
   "outputs": [],
   "source": [
    "tweets_vader = pd.read_csv(\n",
    "    'data/tweets_vader.csv',\n",
    "    index_col = 0\n",
    ")\n",
    "\n",
    "tweets_vader.head()"
   ]
  },
  {
   "cell_type": "code",
   "execution_count": null,
   "id": "b5711793",
   "metadata": {},
   "outputs": [],
   "source": [
    "tweets_vader.info()"
   ]
  },
  {
   "cell_type": "code",
   "execution_count": null,
   "id": "144ada30",
   "metadata": {},
   "outputs": [],
   "source": [
    "tweets_vader.describe()"
   ]
  },
  {
   "cell_type": "code",
   "execution_count": null,
   "id": "c4bb0658",
   "metadata": {},
   "outputs": [],
   "source": [
    "tweets_vader.shape"
   ]
  },
  {
   "cell_type": "markdown",
   "id": "76555f77",
   "metadata": {},
   "source": [
    "#### <span style=\"color:#ff5f27;\"> ⛳️ BTC resampled</span>"
   ]
  },
  {
   "cell_type": "code",
   "execution_count": null,
   "id": "f16708bb",
   "metadata": {},
   "outputs": [],
   "source": [
    "btc_df = pd.read_csv(\n",
    "    'data/btc_processed.csv',\n",
    "    index_col = 0\n",
    ")\n",
    "\n",
    "btc_df.head()"
   ]
  },
  {
   "cell_type": "code",
   "execution_count": null,
   "id": "7fa4382d",
   "metadata": {},
   "outputs": [],
   "source": [
    "btc_df.info()"
   ]
  },
  {
   "cell_type": "markdown",
   "id": "d84c8aec",
   "metadata": {},
   "source": [
    "--- \n",
    "\n",
    "## <span style=\"color:#ff5f27;\"> 🪄 Creating Feature Groups </span>\n",
    "\n"
   ]
  },
  {
   "cell_type": "code",
   "execution_count": null,
   "id": "172428da",
   "metadata": {
    "scrolled": true
   },
   "outputs": [],
   "source": [
    "import hopsworks\n",
    "\n",
    "project = hopsworks.login()\n",
    "\n",
    "fs = project.get_feature_store()"
   ]
  },
  {
   "cell_type": "code",
   "execution_count": null,
   "id": "6a6b8bdb",
   "metadata": {},
   "outputs": [],
   "source": [
    "tweets_textblob_fg = fs.get_or_create_feature_group(\n",
    "    name = 'tweets_textblob_fg',\n",
    "    version = 1,\n",
    "    primary_key = ['unix'],\n",
    "    online_enabled = True,\n",
    "    event_time = ['unix']\n",
    ")\n",
    "\n",
    "tweets_textblob_fg.insert(tweets_textblob)"
   ]
  },
  {
   "cell_type": "code",
   "execution_count": null,
   "id": "b300368d",
   "metadata": {},
   "outputs": [],
   "source": [
    "tweets_vader_fg = fs.get_or_create_feature_group(\n",
    "    name = 'tweets_vader_fg',\n",
    "    version = 1,\n",
    "    primary_key = ['unix'],\n",
    "    online_enabled = True,\n",
    "    event_time = ['unix']\n",
    ")\n",
    "\n",
    "tweets_vader_fg.insert(tweets_vader)"
   ]
  },
  {
   "cell_type": "code",
   "execution_count": null,
   "id": "31078630",
   "metadata": {},
   "outputs": [],
   "source": [
    "btc_price_fg = fs.get_or_create_feature_group(\n",
    "    name = 'btc_price_fg',\n",
    "    description = 'Bitcoin price aggregated for days',\n",
    "    version = 1,\n",
    "    primary_key = ['index'],\n",
    "    online_enabled = True,\n",
    "    event_time = ['unix']\n",
    ")\n",
    "\n",
    "btc_price_fg.insert(btc_df.reset_index())"
   ]
  },
  {
   "cell_type": "markdown",
   "id": "134a819c",
   "metadata": {},
   "source": [
    "---\n",
    "\n",
    "## <span style=\"color:#ff5f27;\">🪝 Retrieving Feature Groups </span>"
   ]
  },
  {
   "cell_type": "code",
   "execution_count": null,
   "id": "df2934a4",
   "metadata": {},
   "outputs": [],
   "source": [
    "btc_price_fg = fs.get_or_create_feature_group(\n",
    "    name = 'btc_price_fg',\n",
    "    version = 1\n",
    ")\n",
    "\n",
    "btc_price_fg.read().shape"
   ]
  },
  {
   "cell_type": "code",
   "execution_count": null,
   "id": "6d7c42cd",
   "metadata": {},
   "outputs": [],
   "source": [
    "tweets_textblob_fg = fs.get_or_create_feature_group(\n",
    "    name = 'tweets_textblob_fg',\n",
    "    version = 1\n",
    ")\n",
    "\n",
    "tweets_textblob_fg.show(5)"
   ]
  },
  {
   "cell_type": "code",
   "execution_count": null,
   "id": "5222bbaf",
   "metadata": {},
   "outputs": [],
   "source": [
    "tweets_vader_fg = fs.get_or_create_feature_group(\n",
    "    name = 'tweets_vader_fg',\n",
    "    version = 1\n",
    ")\n",
    "\n",
    "tweets_vader_fg.show(5)"
   ]
  },
  {
   "cell_type": "markdown",
   "id": "96ce47e2",
   "metadata": {},
   "source": [
    "---\n",
    "\n",
    "## <span style=\"color:#ff5f27;\"> 🖍 Query Preparation</span>"
   ]
  },
  {
   "cell_type": "code",
   "execution_count": null,
   "id": "2b995469",
   "metadata": {},
   "outputs": [],
   "source": [
    "fg_query = btc_price_fg.select_all()\\\n",
    "    .join(\n",
    "    tweets_textblob_fg.select_all(),\n",
    "    on = 'date').join(\n",
    "     tweets_vader_fg.select_all(),\n",
    "     on = 'date'\n",
    "    )\n",
    "\n",
    "fg_query.show(5)"
   ]
  },
  {
   "cell_type": "markdown",
   "id": "fa01e241",
   "metadata": {},
   "source": [
    "--- \n",
    "\n",
    "## <span style=\"color:#ff5f27;\"> 🔮 Feature View Creation and Retrieving </span>"
   ]
  },
  {
   "cell_type": "code",
   "execution_count": null,
   "id": "28aca1c3",
   "metadata": {},
   "outputs": [],
   "source": [
    "fs.create_feature_view(\n",
    "    name = 'btc_feature_view',\n",
    "    version = 1,\n",
    "    labels = ['close'],\n",
    "    query = fg_query\n",
    ")"
   ]
  },
  {
   "cell_type": "code",
   "execution_count": null,
   "id": "4270134a",
   "metadata": {},
   "outputs": [],
   "source": [
    "feature_view = fs.get_feature_view(\n",
    "    name = 'btc_feature_view',\n",
    "    version = 1\n",
    ")"
   ]
  },
  {
   "cell_type": "markdown",
   "id": "b72bc553",
   "metadata": {},
   "source": [
    "---\n",
    "\n",
    "## <span style=\"color:#ff5f27;\"> 🏋️ Training Dataset Creation</span>"
   ]
  },
  {
   "cell_type": "code",
   "execution_count": null,
   "id": "ea644df8",
   "metadata": {},
   "outputs": [],
   "source": [
    "feature_view.create_training_data(\n",
    "    description = 'training_dataset',\n",
    "    data_format = 'csv'\n",
    ")"
   ]
  },
  {
   "cell_type": "code",
   "execution_count": null,
   "id": "bae7c984",
   "metadata": {},
   "outputs": [],
   "source": [
    "feature_view.create_train_test_split(\n",
    "    test_size = 0.2\n",
    ")"
   ]
  },
  {
   "cell_type": "markdown",
   "id": "68721fbc",
   "metadata": {},
   "source": [
    "### <span style=\"color:#ff5f27;\">🪝 Retrieving</span>"
   ]
  },
  {
   "cell_type": "code",
   "execution_count": null,
   "id": "1159887e",
   "metadata": {},
   "outputs": [],
   "source": [
    "X_train, y_train = feature_view.get_training_data(\n",
    "    training_dataset_version = 1\n",
    ")"
   ]
  },
  {
   "cell_type": "code",
   "execution_count": null,
   "id": "d631234f",
   "metadata": {},
   "outputs": [],
   "source": [
    "X_train.head()"
   ]
  },
  {
   "cell_type": "code",
   "execution_count": null,
   "id": "764b95fd",
   "metadata": {},
   "outputs": [],
   "source": [
    "y_train.head()"
   ]
  },
  {
   "cell_type": "code",
   "execution_count": null,
   "id": "0ce10ae2",
   "metadata": {},
   "outputs": [],
   "source": [
    "X_train.shape"
   ]
  },
  {
   "cell_type": "code",
   "execution_count": null,
   "id": "d9d6a389",
   "metadata": {},
   "outputs": [],
   "source": [
    "X_train, y_train, X_test, y_test = feature_view.get_train_test_split(\n",
    "    training_dataset_version = 2\n",
    ")"
   ]
  },
  {
   "cell_type": "code",
   "execution_count": null,
   "id": "00c62f62",
   "metadata": {},
   "outputs": [],
   "source": [
    "X_train.shape"
   ]
  },
  {
   "cell_type": "code",
   "execution_count": null,
   "id": "c8d7de1e",
   "metadata": {},
   "outputs": [],
   "source": [
    "X_test.shape"
   ]
  },
  {
   "cell_type": "markdown",
   "id": "d8a79b78",
   "metadata": {},
   "source": [
    "---"
   ]
  }
 ],
 "metadata": {
  "kernelspec": {
   "display_name": "Python 3 (ipykernel)",
   "language": "python",
   "name": "python3"
  },
  "language_info": {
   "codemirror_mode": {
    "name": "ipython",
    "version": 3
   },
   "file_extension": ".py",
   "mimetype": "text/x-python",
   "name": "python",
   "nbconvert_exporter": "python",
   "pygments_lexer": "ipython3",
   "version": "3.9.12"
  }
 },
 "nbformat": 4,
 "nbformat_minor": 5
}
