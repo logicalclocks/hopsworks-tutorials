{
 "cells": [
  {
   "cell_type": "markdown",
   "id": "6eaf8f4f",
   "metadata": {},
   "source": [
    "# <span style='color:#ff5f27'> 👨🏻‍🏫 GCS External Feature Group Creation</span>\n",
    "\n",
    "Follow this [guide](https://docs.hopsworks.ai/3.1/user_guides/fs/storage_connector/creation/gcs/) to set up a connection to GCS.\n",
    "\n",
    "In addition, you can read about [External Feature Groups](https://docs.hopsworks.ai/3.0/user_guides/fs/feature_group/create_external/)."
   ]
  },
  {
   "cell_type": "markdown",
   "id": "bc3ff878",
   "metadata": {},
   "source": [
    "## <span style='color:#ff5f27'> 🔮 Retrieve a Connector\n",
    "\n",
    "Firstly, connect to feature store and then retrieve your **GCS storage connector**.\n",
    "\n",
    "Replace `my_storage_connector_name` with your GCS storage connector name."
   ]
  },
  {
   "cell_type": "code",
   "execution_count": null,
   "id": "96172ff7",
   "metadata": {},
   "outputs": [],
   "source": [
    "import hsfs\n",
    "\n",
    "# Connect to the Hopsworks feature store\n",
    "hsfs_connection = hsfs.connection()\n",
    "\n",
    "# Retrieve the metadata handle\n",
    "feature_store = hsfs_connection.get_feature_store()\n",
    "\n",
    "# Retrieve storage connector\n",
    "connector = feature_store.get_storage_connector('my_storage_connector_name')"
   ]
  },
  {
   "cell_type": "markdown",
   "id": "507030a2",
   "metadata": {},
   "source": [
    "## <span style='color:#ff5f27'> 📝 Read Data </span>\n",
    "\n",
    "You can retrieve your data by passing the next parameters of the `.read()` method:\n",
    "\n",
    "- `data_format` - parquet, csv, orc, hudi, delta.\n",
    "- `path` - the full object path where your table is located.\n",
    "\n",
    "> ⚠️ **Don't** include dataset name in your path.\n",
    "\n",
    "The `path` parameter should be in the next format:\n",
    "\n",
    "`gs://{your_bucket_name}/{your_folder_name}/`\n",
    "\n",
    "Replace `your_bucket_name` and `your_folder_name` with your GCS bucket name and folder name respectively."
   ]
  },
  {
   "cell_type": "code",
   "execution_count": null,
   "id": "036ac9fa",
   "metadata": {},
   "outputs": [],
   "source": [
    "# read data into dataframe using path \n",
    "df = connector.read(\n",
    "    data_format='parquet',\n",
    "    path='gs://{your_bucket_name}/{your_folder_name}/'\n",
    ")   "
   ]
  },
  {
   "cell_type": "markdown",
   "id": "14d31cfb",
   "metadata": {},
   "source": [
    "> **.read()** method returns a PySpark DataFrame."
   ]
  },
  {
   "cell_type": "code",
   "execution_count": null,
   "id": "3a6f7ad1",
   "metadata": {},
   "outputs": [],
   "source": [
    "type(df)"
   ]
  },
  {
   "cell_type": "code",
   "execution_count": null,
   "id": "6da1e8c5",
   "metadata": {},
   "outputs": [],
   "source": [
    "df.show(3)"
   ]
  },
  {
   "cell_type": "markdown",
   "id": "d055ae64",
   "metadata": {},
   "source": [
    "## <span style='color:#ff5f27'> ⚙️ Feature Group Creation</span>\n",
    "\n",
    "To create an **External Feature Group**, use `feature_store.create_external_feature_group()` method.\n",
    "\n",
    "Provide the next parameters:\n",
    "- `data_format` - data format of your table(parquet, csv, orc, hudi, delta).\n",
    "- `path` -  provide a folder name where your dataset is located in the next format: `{my_folder_name}/`.\n",
    "- `storage_connector` - your **GCS Storage Connector**."
   ]
  },
  {
   "cell_type": "code",
   "execution_count": null,
   "id": "b4ca3c56",
   "metadata": {},
   "outputs": [],
   "source": [
    "my_external_fg = feature_store.create_external_feature_group(\n",
    "    name=\"name_external_fg\",\n",
    "    version=1,\n",
    "    description=\"Description of the External GCS Table\",\n",
    "    primary_key=['pk1_name','pk2_name'],\n",
    "    event_time='event_time_col_name',\n",
    "    data_format='{my_data_format}',\n",
    "    path='{my_folder_name}/',\n",
    "    storage_connector=connector,\n",
    ")"
   ]
  },
  {
   "cell_type": "markdown",
   "id": "d7b476ed",
   "metadata": {},
   "source": [
    "Don't forget to register a feature group metadata object in Hopsworks!"
   ]
  },
  {
   "cell_type": "code",
   "execution_count": null,
   "id": "3b914f4d",
   "metadata": {},
   "outputs": [],
   "source": [
    "my_external_fg.save()"
   ]
  },
  {
   "cell_type": "markdown",
   "id": "4674bc25",
   "metadata": {},
   "source": [
    "Now, you should be able to see your Online External Feature Group for the GCS table in the Hopsworks UI.\n",
    "\n",
    "![GCS_table](images/external_fg.png)"
   ]
  },
  {
   "cell_type": "markdown",
   "id": "96ffd16b",
   "metadata": {},
   "source": [
    "---"
   ]
  }
 ],
 "metadata": {
  "kernelspec": {
   "display_name": "PySpark",
   "language": "python",
   "name": "pysparkkernel"
  },
  "language_info": {
   "codemirror_mode": {
    "name": "python",
    "version": 3
   },
   "mimetype": "text/x-python",
   "name": "pyspark",
   "pygments_lexer": "python3"
  }
 },
 "nbformat": 4,
 "nbformat_minor": 5
}