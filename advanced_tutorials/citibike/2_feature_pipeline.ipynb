{
 "cells": [
  {
   "cell_type": "markdown",
   "id": "a377edc4",
   "metadata": {},
   "source": [
    "# <span style=\"font-width:bold; font-size: 3rem; color:#1EB182;\">**Hopsworks Feature Store** </span><span style=\"font-width:bold; font-size: 3rem; color:#333;\">- Part 02: Feature Pipeline</span>\n",
    "\n",
    "[![Open In Colab](https://colab.research.google.com/assets/colab-badge.svg)](https://colab.research.google.com/github/logicalclocks/hopsworks-tutorials/blob/master/advanced_tutorials/electricity/2_feature_pipeline.ipynb)\n",
    "\n",
    "## 🗒️ This notebook is divided into 2 sections:\n",
    "1. **Parse Data**,\n",
    "2. **Insert new data into the Feature Store**."
   ]
  },
  {
   "cell_type": "markdown",
   "id": "7262ed9c",
   "metadata": {},
   "source": [
    "### <span style='color:#ff5f27'> 📝 Imports"
   ]
  },
  {
   "cell_type": "code",
   "execution_count": 2,
   "id": "66adad50",
   "metadata": {},
   "outputs": [
    {
     "name": "stderr",
     "output_type": "stream",
     "text": [
      "\n",
      "[notice] A new release of pip available: 22.2.2 -> 22.3.1\n",
      "[notice] To update, run: python.exe -m pip install --upgrade pip\n"
     ]
    }
   ],
   "source": [
    "!pip install -U hopsworks --quiet"
   ]
  },
  {
   "cell_type": "code",
   "execution_count": 3,
   "id": "1554edb3",
   "metadata": {},
   "outputs": [],
   "source": [
    "from datetime import timedelta, datetime\n",
    "import pandas as pd\n",
    "\n",
    "from functions import *\n",
    "\n",
    "import warnings\n",
    "\n",
    "# Mute warnings\n",
    "warnings.filterwarnings(\"ignore\")"
   ]
  },
  {
   "cell_type": "markdown",
   "id": "02ab8b74",
   "metadata": {},
   "source": [
    "---"
   ]
  },
  {
   "cell_type": "markdown",
   "id": "76c0f9df",
   "metadata": {},
   "source": [
    "## <span style=\"color:#ff5f27;\"> 📡 Connecting to Hopsworks Feature Store </span>"
   ]
  },
  {
   "cell_type": "code",
   "execution_count": 4,
   "id": "f805e67c",
   "metadata": {},
   "outputs": [
    {
     "name": "stdout",
     "output_type": "stream",
     "text": [
      "Connected. Call `.close()` to terminate connection gracefully.\n",
      "\n",
      "Logged in to project, explore it here https://c.app.hopsworks.ai:443/p/3348\n"
     ]
    },
    {
     "name": "stderr",
     "output_type": "stream",
     "text": [
      "DeprecationWarning: the imp module is deprecated in favour of importlib; see the module's documentation for alternative uses\n"
     ]
    },
    {
     "name": "stdout",
     "output_type": "stream",
     "text": [
      "Connected. Call `.close()` to terminate connection gracefully.\n"
     ]
    }
   ],
   "source": [
    "import hopsworks\n",
    "project = hopsworks.login()\n",
    "fs = project.get_feature_store()"
   ]
  },
  {
   "cell_type": "code",
   "execution_count": 5,
   "id": "5ebbd718",
   "metadata": {},
   "outputs": [],
   "source": [
    "citibike_usage_fg = fs.get_or_create_feature_group(\n",
    "    name=\"citibike_usage\",\n",
    "    version=1\n",
    ")"
   ]
  },
  {
   "cell_type": "code",
   "execution_count": 6,
   "id": "65ac37d7",
   "metadata": {},
   "outputs": [],
   "source": [
    "meteorological_measurements_fg = fs.get_or_create_feature_group(\n",
    "    name=\"meteorological_measurements\",\n",
    "    version=1\n",
    ")"
   ]
  },
  {
   "cell_type": "markdown",
   "id": "316803e4",
   "metadata": {},
   "source": [
    "### <span style=\"color:#ff5f27;\">📅 Getting tha last date</span>\n"
   ]
  },
  {
   "cell_type": "code",
   "execution_count": 7,
   "id": "ae516fbb",
   "metadata": {
    "scrolled": true
   },
   "outputs": [
    {
     "name": "stdout",
     "output_type": "stream",
     "text": [
      "2022-11-18 22:53:23,988 INFO: USE `test3_featurestore`\n",
      "2022-11-18 22:53:32,029 INFO: SELECT `fg0`.`date` `date`, `fg0`.`station_id` `station_id`, `fg0`.`users_count` `users_count`, `fg0`.`prev_users_count` `prev_users_count`, `fg0`.`mean_7_days` `mean_7_days`, `fg0`.`mean_14_days` `mean_14_days`, `fg0`.`std_7_days` `std_7_days`, `fg0`.`exp_mean_7_days` `exp_mean_7_days`, `fg0`.`exp_std_7_days` `exp_std_7_days`, `fg0`.`rate_of_change_7_days` `rate_of_change_7_days`, `fg0`.`std_14_days` `std_14_days`, `fg0`.`exp_mean_14_days` `exp_mean_14_days`, `fg0`.`exp_std_14_days` `exp_std_14_days`, `fg0`.`rate_of_change_14_days` `rate_of_change_14_days`, `fg0`.`timestamp` `timestamp`\n",
      "FROM `test3_featurestore`.`citibike_usage_1` `fg0`\n"
     ]
    }
   ],
   "source": [
    "last_date = citibike_usage_fg.read()[\"date\"].max()"
   ]
  },
  {
   "cell_type": "code",
   "execution_count": 8,
   "id": "5442b9c8",
   "metadata": {},
   "outputs": [],
   "source": [
    "last_date = last_date.split(\"-\")"
   ]
  },
  {
   "cell_type": "code",
   "execution_count": 9,
   "id": "4fbc8825",
   "metadata": {},
   "outputs": [
    {
     "data": {
      "text/plain": [
       "['2022', '01', '31']"
      ]
     },
     "execution_count": 9,
     "metadata": {},
     "output_type": "execute_result"
    }
   ],
   "source": [
    "last_date"
   ]
  },
  {
   "cell_type": "code",
   "execution_count": 10,
   "id": "069fd35e",
   "metadata": {},
   "outputs": [],
   "source": [
    "target_year, target_month = int(last_date[0]), int(last_date[1])\n",
    "\n",
    "if target_month == 12:\n",
    "    target_month = 1\n",
    "    target_year += 1\n",
    "else:\n",
    "    target_month += 1"
   ]
  },
  {
   "cell_type": "code",
   "execution_count": 12,
   "id": "a3dced98",
   "metadata": {
    "scrolled": true
   },
   "outputs": [
    {
     "name": "stdout",
     "output_type": "stream",
     "text": [
      "So, now let's download citibike data for 2/2022\n"
     ]
    }
   ],
   "source": [
    "print(f\"So, now let's download citibike data for {target_month}/{target_year}\")"
   ]
  },
  {
   "cell_type": "markdown",
   "id": "5709ac3c",
   "metadata": {},
   "source": [
    "---"
   ]
  },
  {
   "cell_type": "markdown",
   "id": "d293ebca",
   "metadata": {},
   "source": [
    "## <span style=\"color:#ff5f27;\"> 🪄 Parsing new data</span>"
   ]
  },
  {
   "cell_type": "markdown",
   "id": "2368a524",
   "metadata": {},
   "source": [
    "### <span style=\"color:#ff5f27;\"> 🚲 Citibike usage info</span>"
   ]
  },
  {
   "cell_type": "code",
   "execution_count": 13,
   "id": "7840355a",
   "metadata": {},
   "outputs": [
    {
     "name": "stdout",
     "output_type": "stream",
     "text": [
      "_____ Processing 02/2022... _____\n",
      "https://s3.amazonaws.com/tripdata/202202-citibike-tripdata.csv.zip\n",
      "Retrieving DataFrame from the existing csv file...💿\n",
      "\n",
      "✅ Done ✅\n"
     ]
    }
   ],
   "source": [
    "# get new month data\n",
    "df_raw_batch = get_citibike_data(f\"{target_month}/{target_year}\", f\"{target_month}/{target_year}\")"
   ]
  },
  {
   "cell_type": "code",
   "execution_count": 14,
   "id": "a69668db",
   "metadata": {},
   "outputs": [
    {
     "data": {
      "text/html": [
       "<div>\n",
       "<style scoped>\n",
       "    .dataframe tbody tr th:only-of-type {\n",
       "        vertical-align: middle;\n",
       "    }\n",
       "\n",
       "    .dataframe tbody tr th {\n",
       "        vertical-align: top;\n",
       "    }\n",
       "\n",
       "    .dataframe thead th {\n",
       "        text-align: right;\n",
       "    }\n",
       "</style>\n",
       "<table border=\"1\" class=\"dataframe\">\n",
       "  <thead>\n",
       "    <tr style=\"text-align: right;\">\n",
       "      <th></th>\n",
       "      <th>date</th>\n",
       "      <th>station_id</th>\n",
       "      <th>users_count</th>\n",
       "    </tr>\n",
       "  </thead>\n",
       "  <tbody>\n",
       "    <tr>\n",
       "      <th>0</th>\n",
       "      <td>2022-02-01</td>\n",
       "      <td>2951.05</td>\n",
       "      <td>1</td>\n",
       "    </tr>\n",
       "    <tr>\n",
       "      <th>1</th>\n",
       "      <td>2022-02-01</td>\n",
       "      <td>3169.07</td>\n",
       "      <td>2</td>\n",
       "    </tr>\n",
       "    <tr>\n",
       "      <th>2</th>\n",
       "      <td>2022-02-01</td>\n",
       "      <td>3192.05</td>\n",
       "      <td>2</td>\n",
       "    </tr>\n",
       "    <tr>\n",
       "      <th>3</th>\n",
       "      <td>2022-02-01</td>\n",
       "      <td>3199.01</td>\n",
       "      <td>6</td>\n",
       "    </tr>\n",
       "    <tr>\n",
       "      <th>4</th>\n",
       "      <td>2022-02-01</td>\n",
       "      <td>3208.07</td>\n",
       "      <td>3</td>\n",
       "    </tr>\n",
       "    <tr>\n",
       "      <th>...</th>\n",
       "      <td>...</td>\n",
       "      <td>...</td>\n",
       "      <td>...</td>\n",
       "    </tr>\n",
       "    <tr>\n",
       "      <th>42051</th>\n",
       "      <td>2022-02-28</td>\n",
       "      <td>7855.03</td>\n",
       "      <td>6</td>\n",
       "    </tr>\n",
       "    <tr>\n",
       "      <th>42052</th>\n",
       "      <td>2022-02-28</td>\n",
       "      <td>7879.01</td>\n",
       "      <td>4</td>\n",
       "    </tr>\n",
       "    <tr>\n",
       "      <th>42053</th>\n",
       "      <td>2022-02-28</td>\n",
       "      <td>7893.05</td>\n",
       "      <td>8</td>\n",
       "    </tr>\n",
       "    <tr>\n",
       "      <th>42054</th>\n",
       "      <td>2022-02-28</td>\n",
       "      <td>7915.11</td>\n",
       "      <td>7</td>\n",
       "    </tr>\n",
       "    <tr>\n",
       "      <th>42055</th>\n",
       "      <td>2022-02-28</td>\n",
       "      <td>7967.04</td>\n",
       "      <td>4</td>\n",
       "    </tr>\n",
       "  </tbody>\n",
       "</table>\n",
       "<p>42056 rows × 3 columns</p>\n",
       "</div>"
      ],
      "text/plain": [
       "             date  station_id  users_count\n",
       "0      2022-02-01     2951.05            1\n",
       "1      2022-02-01     3169.07            2\n",
       "2      2022-02-01     3192.05            2\n",
       "3      2022-02-01     3199.01            6\n",
       "4      2022-02-01     3208.07            3\n",
       "...           ...         ...          ...\n",
       "42051  2022-02-28     7855.03            6\n",
       "42052  2022-02-28     7879.01            4\n",
       "42053  2022-02-28     7893.05            8\n",
       "42054  2022-02-28     7915.11            7\n",
       "42055  2022-02-28     7967.04            4\n",
       "\n",
       "[42056 rows x 3 columns]"
      ]
     },
     "execution_count": 14,
     "metadata": {},
     "output_type": "execute_result"
    }
   ],
   "source": [
    "df_raw_batch"
   ]
  },
  {
   "cell_type": "code",
   "execution_count": 15,
   "id": "f2586433",
   "metadata": {},
   "outputs": [],
   "source": [
    "df_enhanced_batch = engineer_citibike_features(df_raw_batch)"
   ]
  },
  {
   "cell_type": "code",
   "execution_count": 16,
   "id": "ad50ac5f",
   "metadata": {},
   "outputs": [],
   "source": [
    "df_enhanced_batch = df_enhanced_batch.dropna()"
   ]
  },
  {
   "cell_type": "code",
   "execution_count": 17,
   "id": "d9da47dd",
   "metadata": {},
   "outputs": [],
   "source": [
    "df_enhanced_batch.station_id = df_enhanced_batch.station_id.astype(str)"
   ]
  },
  {
   "cell_type": "code",
   "execution_count": 18,
   "id": "c1f044ba",
   "metadata": {},
   "outputs": [
    {
     "data": {
      "text/html": [
       "<div>\n",
       "<style scoped>\n",
       "    .dataframe tbody tr th:only-of-type {\n",
       "        vertical-align: middle;\n",
       "    }\n",
       "\n",
       "    .dataframe tbody tr th {\n",
       "        vertical-align: top;\n",
       "    }\n",
       "\n",
       "    .dataframe thead th {\n",
       "        text-align: right;\n",
       "    }\n",
       "</style>\n",
       "<table border=\"1\" class=\"dataframe\">\n",
       "  <thead>\n",
       "    <tr style=\"text-align: right;\">\n",
       "      <th></th>\n",
       "      <th>date</th>\n",
       "      <th>station_id</th>\n",
       "      <th>users_count</th>\n",
       "      <th>prev_users_count</th>\n",
       "      <th>mean_7_days</th>\n",
       "      <th>mean_14_days</th>\n",
       "      <th>std_7_days</th>\n",
       "      <th>exp_mean_7_days</th>\n",
       "      <th>exp_std_7_days</th>\n",
       "      <th>rate_of_change_7_days</th>\n",
       "      <th>std_14_days</th>\n",
       "      <th>exp_mean_14_days</th>\n",
       "      <th>exp_std_14_days</th>\n",
       "      <th>rate_of_change_14_days</th>\n",
       "    </tr>\n",
       "  </thead>\n",
       "  <tbody>\n",
       "    <tr>\n",
       "      <th>40497</th>\n",
       "      <td>2022-02-28</td>\n",
       "      <td>8582.09</td>\n",
       "      <td>9</td>\n",
       "      <td>16.0</td>\n",
       "      <td>8.428571</td>\n",
       "      <td>6.928571</td>\n",
       "      <td>5.940178</td>\n",
       "      <td>7.344737</td>\n",
       "      <td>5.705006</td>\n",
       "      <td>80.000000</td>\n",
       "      <td>4.937522</td>\n",
       "      <td>7.386146</td>\n",
       "      <td>5.160604</td>\n",
       "      <td>125.000000</td>\n",
       "    </tr>\n",
       "    <tr>\n",
       "      <th>40498</th>\n",
       "      <td>2022-02-28</td>\n",
       "      <td>8616.06</td>\n",
       "      <td>3</td>\n",
       "      <td>1.0</td>\n",
       "      <td>8.142857</td>\n",
       "      <td>6.857143</td>\n",
       "      <td>6.175990</td>\n",
       "      <td>6.258553</td>\n",
       "      <td>5.342248</td>\n",
       "      <td>-75.000000</td>\n",
       "      <td>4.990100</td>\n",
       "      <td>6.801327</td>\n",
       "      <td>5.047278</td>\n",
       "      <td>50.000000</td>\n",
       "    </tr>\n",
       "    <tr>\n",
       "      <th>40499</th>\n",
       "      <td>2022-02-28</td>\n",
       "      <td>8665.09</td>\n",
       "      <td>5</td>\n",
       "      <td>4.0</td>\n",
       "      <td>7.142857</td>\n",
       "      <td>7.071429</td>\n",
       "      <td>6.011893</td>\n",
       "      <td>5.943914</td>\n",
       "      <td>4.663818</td>\n",
       "      <td>-44.444444</td>\n",
       "      <td>4.827235</td>\n",
       "      <td>6.561150</td>\n",
       "      <td>4.741534</td>\n",
       "      <td>-54.545455</td>\n",
       "    </tr>\n",
       "  </tbody>\n",
       "</table>\n",
       "</div>"
      ],
      "text/plain": [
       "             date station_id  users_count  prev_users_count  mean_7_days  \\\n",
       "40497  2022-02-28    8582.09            9              16.0     8.428571   \n",
       "40498  2022-02-28    8616.06            3               1.0     8.142857   \n",
       "40499  2022-02-28    8665.09            5               4.0     7.142857   \n",
       "\n",
       "       mean_14_days  std_7_days  exp_mean_7_days  exp_std_7_days  \\\n",
       "40497      6.928571    5.940178         7.344737        5.705006   \n",
       "40498      6.857143    6.175990         6.258553        5.342248   \n",
       "40499      7.071429    6.011893         5.943914        4.663818   \n",
       "\n",
       "       rate_of_change_7_days  std_14_days  exp_mean_14_days  exp_std_14_days  \\\n",
       "40497              80.000000     4.937522          7.386146         5.160604   \n",
       "40498             -75.000000     4.990100          6.801327         5.047278   \n",
       "40499             -44.444444     4.827235          6.561150         4.741534   \n",
       "\n",
       "       rate_of_change_14_days  \n",
       "40497              125.000000  \n",
       "40498               50.000000  \n",
       "40499              -54.545455  "
      ]
     },
     "execution_count": 18,
     "metadata": {},
     "output_type": "execute_result"
    }
   ],
   "source": [
    "df_enhanced_batch.tail(3)"
   ]
  },
  {
   "cell_type": "markdown",
   "id": "fdbf9dd3",
   "metadata": {},
   "source": [
    "### <span style=\"color:#ff5f27;\"> 🌤 Meteorological measurements from VisualCrossing</span>"
   ]
  },
  {
   "cell_type": "markdown",
   "id": "9548a9ea",
   "metadata": {},
   "source": [
    "### You will parse weather data so you should get an API key from [VisualCrossing](https://www.visualcrossing.com/). You can use [this link](https://www.visualcrossing.com/weather-api).\n",
    "\n",
    "### Don't forget to create an `.env` configuration file where all the necessary environment variables (API keys) will be stored:\n",
    "![](images/api_keys_env_file.png)"
   ]
  },
  {
   "cell_type": "code",
   "execution_count": 19,
   "id": "76ec6d03",
   "metadata": {},
   "outputs": [],
   "source": [
    "df_enhanced_batch.date = df_enhanced_batch.date.astype(str)\n",
    "\n",
    "start_date, end_date_ = df_enhanced_batch.date.min(), df_enhanced_batch.date.max()\n",
    "\n",
    "# lets get weather data for the future 5 days also (our app will predict users_count for these 5 future days)\n",
    "end_date = datetime.strptime(end_date_, \"%Y-%m-%d\") + timedelta(days=5)\n",
    "end_date = datetime.strftime(end_date, \"%Y-%m-%d\")"
   ]
  },
  {
   "cell_type": "code",
   "execution_count": 20,
   "id": "39f2bda8",
   "metadata": {},
   "outputs": [],
   "source": [
    "df_weather_batch = get_weather_data(city=\"nyc\", start_date=start_date, end_date=end_date)"
   ]
  },
  {
   "cell_type": "code",
   "execution_count": 21,
   "id": "094e3ccd",
   "metadata": {},
   "outputs": [
    {
     "data": {
      "text/html": [
       "<div>\n",
       "<style scoped>\n",
       "    .dataframe tbody tr th:only-of-type {\n",
       "        vertical-align: middle;\n",
       "    }\n",
       "\n",
       "    .dataframe tbody tr th {\n",
       "        vertical-align: top;\n",
       "    }\n",
       "\n",
       "    .dataframe thead th {\n",
       "        text-align: right;\n",
       "    }\n",
       "</style>\n",
       "<table border=\"1\" class=\"dataframe\">\n",
       "  <thead>\n",
       "    <tr style=\"text-align: right;\">\n",
       "      <th></th>\n",
       "      <th>date</th>\n",
       "      <th>tempmax</th>\n",
       "      <th>tempmin</th>\n",
       "      <th>temp</th>\n",
       "      <th>feelslikemax</th>\n",
       "      <th>feelslikemin</th>\n",
       "      <th>feelslike</th>\n",
       "      <th>dew</th>\n",
       "      <th>humidity</th>\n",
       "      <th>precip</th>\n",
       "      <th>precipprob</th>\n",
       "      <th>precipcover</th>\n",
       "      <th>snow</th>\n",
       "      <th>snowdepth</th>\n",
       "      <th>windspeed</th>\n",
       "      <th>visibility</th>\n",
       "    </tr>\n",
       "  </thead>\n",
       "  <tbody>\n",
       "    <tr>\n",
       "      <th>28</th>\n",
       "      <td>2022-03-01</td>\n",
       "      <td>7.9</td>\n",
       "      <td>0.6</td>\n",
       "      <td>4.4</td>\n",
       "      <td>6.7</td>\n",
       "      <td>-2.8</td>\n",
       "      <td>2.0</td>\n",
       "      <td>-3.4</td>\n",
       "      <td>58.2</td>\n",
       "      <td>0.000</td>\n",
       "      <td>0</td>\n",
       "      <td>0.0</td>\n",
       "      <td>0.0</td>\n",
       "      <td>0.0</td>\n",
       "      <td>20.2</td>\n",
       "      <td>15.9</td>\n",
       "    </tr>\n",
       "    <tr>\n",
       "      <th>29</th>\n",
       "      <td>2022-03-02</td>\n",
       "      <td>12.1</td>\n",
       "      <td>5.0</td>\n",
       "      <td>7.9</td>\n",
       "      <td>12.1</td>\n",
       "      <td>3.1</td>\n",
       "      <td>6.8</td>\n",
       "      <td>-1.2</td>\n",
       "      <td>55.0</td>\n",
       "      <td>0.000</td>\n",
       "      <td>0</td>\n",
       "      <td>0.0</td>\n",
       "      <td>0.0</td>\n",
       "      <td>0.0</td>\n",
       "      <td>16.3</td>\n",
       "      <td>16.0</td>\n",
       "    </tr>\n",
       "    <tr>\n",
       "      <th>30</th>\n",
       "      <td>2022-03-03</td>\n",
       "      <td>7.1</td>\n",
       "      <td>-3.2</td>\n",
       "      <td>4.6</td>\n",
       "      <td>5.5</td>\n",
       "      <td>-9.6</td>\n",
       "      <td>2.2</td>\n",
       "      <td>-6.8</td>\n",
       "      <td>46.5</td>\n",
       "      <td>0.501</td>\n",
       "      <td>100</td>\n",
       "      <td>12.5</td>\n",
       "      <td>0.0</td>\n",
       "      <td>0.0</td>\n",
       "      <td>22.5</td>\n",
       "      <td>16.0</td>\n",
       "    </tr>\n",
       "    <tr>\n",
       "      <th>31</th>\n",
       "      <td>2022-03-04</td>\n",
       "      <td>4.2</td>\n",
       "      <td>-5.1</td>\n",
       "      <td>-0.4</td>\n",
       "      <td>0.9</td>\n",
       "      <td>-10.5</td>\n",
       "      <td>-4.1</td>\n",
       "      <td>-12.0</td>\n",
       "      <td>42.2</td>\n",
       "      <td>0.000</td>\n",
       "      <td>0</td>\n",
       "      <td>0.0</td>\n",
       "      <td>0.0</td>\n",
       "      <td>0.0</td>\n",
       "      <td>16.5</td>\n",
       "      <td>15.9</td>\n",
       "    </tr>\n",
       "    <tr>\n",
       "      <th>32</th>\n",
       "      <td>2022-03-05</td>\n",
       "      <td>7.8</td>\n",
       "      <td>0.7</td>\n",
       "      <td>4.1</td>\n",
       "      <td>7.0</td>\n",
       "      <td>-2.3</td>\n",
       "      <td>2.3</td>\n",
       "      <td>-5.2</td>\n",
       "      <td>51.7</td>\n",
       "      <td>0.000</td>\n",
       "      <td>0</td>\n",
       "      <td>0.0</td>\n",
       "      <td>0.0</td>\n",
       "      <td>0.0</td>\n",
       "      <td>16.4</td>\n",
       "      <td>16.0</td>\n",
       "    </tr>\n",
       "  </tbody>\n",
       "</table>\n",
       "</div>"
      ],
      "text/plain": [
       "          date  tempmax  tempmin  temp  feelslikemax  feelslikemin  feelslike  \\\n",
       "28  2022-03-01      7.9      0.6   4.4           6.7          -2.8        2.0   \n",
       "29  2022-03-02     12.1      5.0   7.9          12.1           3.1        6.8   \n",
       "30  2022-03-03      7.1     -3.2   4.6           5.5          -9.6        2.2   \n",
       "31  2022-03-04      4.2     -5.1  -0.4           0.9         -10.5       -4.1   \n",
       "32  2022-03-05      7.8      0.7   4.1           7.0          -2.3        2.3   \n",
       "\n",
       "     dew  humidity  precip  precipprob  precipcover  snow  snowdepth  \\\n",
       "28  -3.4      58.2   0.000           0          0.0   0.0        0.0   \n",
       "29  -1.2      55.0   0.000           0          0.0   0.0        0.0   \n",
       "30  -6.8      46.5   0.501         100         12.5   0.0        0.0   \n",
       "31 -12.0      42.2   0.000           0          0.0   0.0        0.0   \n",
       "32  -5.2      51.7   0.000           0          0.0   0.0        0.0   \n",
       "\n",
       "    windspeed  visibility  \n",
       "28       20.2        15.9  \n",
       "29       16.3        16.0  \n",
       "30       22.5        16.0  \n",
       "31       16.5        15.9  \n",
       "32       16.4        16.0  "
      ]
     },
     "execution_count": 21,
     "metadata": {},
     "output_type": "execute_result"
    }
   ],
   "source": [
    "df_weather_batch.tail(5)"
   ]
  },
  {
   "cell_type": "code",
   "execution_count": 22,
   "id": "446034bf",
   "metadata": {},
   "outputs": [],
   "source": [
    "# lets fix datatypes\n",
    "for column in [\"snowdepth\", \"snow\"]:\n",
    "    df_weather_batch[column] = df_weather_batch[column].astype(\"double\")"
   ]
  },
  {
   "cell_type": "code",
   "execution_count": 23,
   "id": "31bfa509",
   "metadata": {},
   "outputs": [],
   "source": [
    "# unix columns creation\n",
    "\n",
    "df_enhanced_batch[\"timestamp\"] = df_enhanced_batch[\"date\"].apply(convert_date_to_unix)\n",
    "df_weather_batch[\"timestamp\"] = df_weather_batch[\"date\"].apply(convert_date_to_unix)"
   ]
  },
  {
   "cell_type": "markdown",
   "id": "9ab0379a",
   "metadata": {},
   "source": [
    "---"
   ]
  },
  {
   "cell_type": "markdown",
   "id": "023d1326",
   "metadata": {},
   "source": [
    "## <span style=\"color:#ff5f27;\">⬆️ Uploading new data to the Feature Store</span>"
   ]
  },
  {
   "cell_type": "code",
   "execution_count": 24,
   "id": "931d73d1",
   "metadata": {},
   "outputs": [
    {
     "data": {
      "application/vnd.jupyter.widget-view+json": {
       "model_id": "d5ffafb85efe41fdaaf16f4df97216da",
       "version_major": 2,
       "version_minor": 0
      },
      "text/plain": [
       "Uploading Dataframe: 0.00% |          | Rows 0/41056 | Elapsed Time: 00:00 | Remaining Time: ?"
      ]
     },
     "metadata": {},
     "output_type": "display_data"
    },
    {
     "name": "stdout",
     "output_type": "stream",
     "text": [
      "Launching offline feature group backfill job...\n",
      "Backfill Job started successfully, you can follow the progress at \n",
      "https://c.app.hopsworks.ai/p/3348/jobs/named/citibike_usage_1_offline_fg_backfill/executions\n"
     ]
    },
    {
     "data": {
      "text/plain": [
       "(<hsfs.core.job.Job at 0x2b1de244f10>, None)"
      ]
     },
     "execution_count": 24,
     "metadata": {},
     "output_type": "execute_result"
    }
   ],
   "source": [
    "citibike_usage_fg.insert(df_enhanced_batch, write_options={\"wait_for_job\": False})"
   ]
  },
  {
   "cell_type": "code",
   "execution_count": 25,
   "id": "45cfb783",
   "metadata": {},
   "outputs": [
    {
     "data": {
      "application/vnd.jupyter.widget-view+json": {
       "model_id": "94d7ae3a7dd94ac592c48376938ba6c9",
       "version_major": 2,
       "version_minor": 0
      },
      "text/plain": [
       "Uploading Dataframe: 0.00% |          | Rows 0/33 | Elapsed Time: 00:00 | Remaining Time: ?"
      ]
     },
     "metadata": {},
     "output_type": "display_data"
    },
    {
     "name": "stdout",
     "output_type": "stream",
     "text": [
      "Launching offline feature group backfill job...\n",
      "Backfill Job started successfully, you can follow the progress at \n",
      "https://c.app.hopsworks.ai/p/3348/jobs/named/meteorological_measurements_1_offline_fg_backfill/executions\n"
     ]
    },
    {
     "data": {
      "text/plain": [
       "(<hsfs.core.job.Job at 0x2b1de113b50>, None)"
      ]
     },
     "execution_count": 25,
     "metadata": {},
     "output_type": "execute_result"
    }
   ],
   "source": [
    "meteorological_measurements_fg.insert(df_weather_batch, write_options={\"wait_for_job\": False})"
   ]
  },
  {
   "cell_type": "markdown",
   "id": "2a145fd2",
   "metadata": {},
   "source": [
    "---"
   ]
  },
  {
   "cell_type": "markdown",
   "id": "c9e2101c",
   "metadata": {},
   "source": [
    "## <span style=\"color:#ff5f27;\">⏭️ **Next:** Part 03 </span>\n",
    "\n",
    "In the next notebook, you will create a feature view and training dataset."
   ]
  }
 ],
 "metadata": {
  "kernelspec": {
   "display_name": "Python 3 (ipykernel)",
   "language": "python",
   "name": "python3"
  },
  "language_info": {
   "codemirror_mode": {
    "name": "ipython",
    "version": 3
   },
   "file_extension": ".py",
   "mimetype": "text/x-python",
   "name": "python",
   "nbconvert_exporter": "python",
   "pygments_lexer": "ipython3",
   "version": "3.8.0"
  }
 },
 "nbformat": 4,
 "nbformat_minor": 5
}
