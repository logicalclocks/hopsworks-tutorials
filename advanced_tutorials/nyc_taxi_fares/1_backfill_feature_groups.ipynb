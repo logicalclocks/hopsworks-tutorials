{
 "cells": [
  {
   "cell_type": "markdown",
   "id": "73ee3ec9",
   "metadata": {},
   "source": [
    "# <span style=\"font-width:bold; font-size: 3rem; color:#1EB182;\">**Hopsworks Feature Store** </span><span style=\"font-width:bold; font-size: 3rem; color:#333;\">- Part 01: Backfill Features to the Feature Store</span>\n",
    "\n",
    "\n",
    "[![Open In Colab](https://colab.research.google.com/assets/colab-badge.svg)](https://colab.research.google.com/github/logicalclocks/hopsworks-tutorials/blob/master/advanced_tutorials/nyc_taxi_fares/1_backfill_feature_groups.ipynb)\n",
    "\n",
    "## 🗒️ This notebook is divided into 3 sections:\n",
    "1. **Load data from source files**,\n",
    "2. **Connect to the Hopsworks Feature Store**,\n",
    "3. **Create feature groups and insert them into the Feature Store**.\n",
    "\n",
    "![tutorial-flow](../../images/01_featuregroups.png)"
   ]
  },
  {
   "cell_type": "markdown",
   "id": "f04d5c5e",
   "metadata": {},
   "source": [
    "### <span style='color:#ff5f27'> 📝 Imports"
   ]
  },
  {
   "cell_type": "code",
   "execution_count": null,
   "id": "ed8bd0b6",
   "metadata": {},
   "outputs": [],
   "source": [
    "import warnings\n",
    "\n",
    "# Mute warnings\n",
    "warnings.filterwarnings(\"ignore\")"
   ]
  },
  {
   "cell_type": "code",
   "execution_count": null,
   "id": "cd165941",
   "metadata": {},
   "outputs": [],
   "source": [
    "import pandas as pd"
   ]
  },
  {
   "cell_type": "markdown",
   "id": "71e05665",
   "metadata": {},
   "source": [
    "___"
   ]
  },
  {
   "cell_type": "markdown",
   "id": "2246ca9d",
   "metadata": {},
   "source": [
    "## <span style='color:#ff5f27'> 💽 Loading Historical Data</span>\n"
   ]
  },
  {
   "cell_type": "markdown",
   "id": "b4a1c5d1",
   "metadata": {},
   "source": [
    "### <span style='color:#ff5f27'> 🚖 Rides Data"
   ]
  },
  {
   "cell_type": "code",
   "execution_count": null,
   "id": "8e605ce3",
   "metadata": {},
   "outputs": [],
   "source": [
    "df_rides = pd.read_csv(\"https://repo.hops.works/dev/davit/nyc_taxi/rides500.csv\", index_col=0)\n",
    "\n",
    "df_rides.head()"
   ]
  },
  {
   "cell_type": "markdown",
   "id": "4687e802",
   "metadata": {},
   "source": [
    "### <span style='color:#ff5f27'> 💸 Fares Data"
   ]
  },
  {
   "cell_type": "code",
   "execution_count": null,
   "id": "c46283b4",
   "metadata": {},
   "outputs": [],
   "source": [
    "df_fares = pd.read_csv(\"https://repo.hops.works/dev/davit/nyc_taxi/fares500.csv\", index_col=0)\n",
    "\n",
    "df_fares.head()"
   ]
  },
  {
   "cell_type": "markdown",
   "id": "7d3ea630",
   "metadata": {},
   "source": [
    "---"
   ]
  },
  {
   "cell_type": "markdown",
   "id": "cb6f83ba",
   "metadata": {},
   "source": [
    "## <span style=\"color:#ff5f27;\"> 📡 Connecting to the Hopsworks Feature Store </span>"
   ]
  },
  {
   "cell_type": "code",
   "execution_count": null,
   "id": "dd068240",
   "metadata": {},
   "outputs": [],
   "source": [
    "import hopsworks\n",
    "\n",
    "project = hopsworks.login()\n",
    "\n",
    "fs = project.get_feature_store() "
   ]
  },
  {
   "cell_type": "code",
   "execution_count": null,
   "id": "b9746124",
   "metadata": {},
   "outputs": [],
   "source": [
    "project"
   ]
  },
  {
   "cell_type": "markdown",
   "id": "e7a85e85",
   "metadata": {},
   "source": [
    "___"
   ]
  },
  {
   "cell_type": "markdown",
   "id": "63d8c3b9",
   "metadata": {},
   "source": [
    "## <span style=\"color:#ff5f27;\">🪄 Creating Feature Groups</span>"
   ]
  },
  {
   "cell_type": "markdown",
   "id": "4a2515c4",
   "metadata": {},
   "source": [
    "### <span style='color:#ff5f27'> 🚖 Rides Data"
   ]
  },
  {
   "cell_type": "code",
   "execution_count": null,
   "id": "9d7088a8",
   "metadata": {},
   "outputs": [],
   "source": [
    "rides_fg = fs.get_or_create_feature_group(name=\"nyc_taxi_rides\",\n",
    "                                          version=1,\n",
    "                                          primary_key=[\"ride_id\"],\n",
    "                                          event_time=\"pickup_datetime\",\n",
    "                                          description=\"Rides features\",\n",
    "                                          time_travel_format=\"HUDI\",     \n",
    "                                          online_enabled=True,                                                \n",
    "                                          statistics_config=True)\n",
    "rides_fg.insert(df_rides, write_options={\"wait_for_job\": False})"
   ]
  },
  {
   "cell_type": "markdown",
   "id": "a73a9029",
   "metadata": {},
   "source": [
    "### <span style='color:#ff5f27'> 💸 Fares Data"
   ]
  },
  {
   "cell_type": "code",
   "execution_count": null,
   "id": "acc2b799",
   "metadata": {
    "scrolled": false
   },
   "outputs": [],
   "source": [
    "fares_fg = fs.get_or_create_feature_group(name=\"nyc_taxi_fares\",\n",
    "                                          version=1,\n",
    "                                          primary_key=[\"ride_id\"], \n",
    "                                          description=\"Taxi fares features\",\n",
    "                                          time_travel_format=\"HUDI\",  \n",
    "                                          online_enabled=True,\n",
    "                                          statistics_config=True)   \n",
    "fares_fg.insert(df_fares, write_options={\"wait_for_job\": False})"
   ]
  },
  {
   "cell_type": "markdown",
   "id": "21164195",
   "metadata": {},
   "source": [
    "---"
   ]
  },
  {
   "cell_type": "markdown",
   "id": "4d032b1f",
   "metadata": {},
   "source": [
    "## <span style=\"color:#ff5f27;\">⏭️ **Next:** Part 02 </span>\n",
    "\n",
    "In the next notebook, you will be generating new data for the Feature Groups."
   ]
  },
  {
   "cell_type": "markdown",
   "id": "0ded6f81",
   "metadata": {},
   "source": [
    "---"
   ]
  }
 ],
 "metadata": {
  "kernelspec": {
   "display_name": "Python 3 (ipykernel)",
   "language": "python",
   "name": "python3"
  },
  "language_info": {
   "codemirror_mode": {
    "name": "ipython",
    "version": 3
   },
   "file_extension": ".py",
   "mimetype": "text/x-python",
   "name": "python",
   "nbconvert_exporter": "python",
   "pygments_lexer": "ipython3",
   "version": "3.8.15"
  }
 },
 "nbformat": 4,
 "nbformat_minor": 5
}
