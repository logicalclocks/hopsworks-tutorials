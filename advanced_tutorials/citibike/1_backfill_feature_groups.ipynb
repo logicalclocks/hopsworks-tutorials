{
 "cells": [
  {
   "cell_type": "markdown",
   "id": "ccbbf2cc",
   "metadata": {
    "id": "ccbbf2cc"
   },
   "source": [
    "# <span style=\"font-width:bold; font-size: 3rem; color:#1EB182;\">**Hopsworks Feature Store** </span> <span style=\"font-width:bold; font-size: 3rem; color:#333;\">- Part 01: Backfill Features to the Feature Store</span>\n",
    "\n",
    "[![Open In Colab](https://colab.research.google.com/assets/colab-badge.svg)](https://colab.research.google.com/github/logicalclocks/hopsworks-tutorials/blob/master/advanced_tutorials/citibike/1_backfill_feature_groups.ipynb)\n",
    "\n",
    "**Note**: you may get an error when installing hopsworks on Colab, and it is safe to ignore it.\n",
    "\n",
    "This is the first part of the advanced series of tutorials about Hopsworks Feature Store. As part of this first module, you will work with data related to citibikes usage and meteorological observations in the NYC. \n",
    "\n",
    "The objective of this tutorial is to demonstrate how to work with the **Hopworks Feature Store**  for batch data with a goal of training and deploying a model that can predict citibikes usage per station in the future.\n",
    "\n",
    "## 🗒️ This notebook is divided in 3 sections:\n",
    "1. **Loading the data and feature engineeing**.\n",
    "2. **Connect to the Hopsworks feature store**.\n",
    "3. **Create feature groups and upload them to the feature store**."
   ]
  },
  {
   "cell_type": "markdown",
   "id": "akyCpdrP0GDH",
   "metadata": {
    "id": "akyCpdrP0GDH"
   },
   "source": [
    "### <span style='color:#ff5f27'> 📝 Imports"
   ]
  },
  {
   "cell_type": "code",
   "execution_count": null,
   "id": "3b7015a0",
   "metadata": {
    "id": "3b7015a0"
   },
   "outputs": [],
   "source": [
    "!pip install -U hopsworks --quiet"
   ]
  },
  {
   "cell_type": "code",
   "execution_count": null,
   "id": "c3fd23b4",
   "metadata": {
    "id": "c3fd23b4"
   },
   "outputs": [],
   "source": [
    "from datetime import timedelta, datetime\n",
    "import pandas as pd\n",
    "\n",
    "from pandas.tseries.holiday import USFederalHolidayCalendar\n",
    "\n",
    "from functions import *\n",
    "\n",
    "import warnings\n",
    "\n",
    "# Mute warnings\n",
    "warnings.filterwarnings(\"ignore\")"
   ]
  },
  {
   "cell_type": "markdown",
   "id": "KVH8VU5g0JDP",
   "metadata": {
    "id": "KVH8VU5g0JDP"
   },
   "source": [
    "---"
   ]
  },
  {
   "cell_type": "markdown",
   "id": "3477ad8b",
   "metadata": {},
   "source": [
    "## <span style=\"color:#ff5f27;\"> 💽 Load the historical data and 🛠️ Perform Feature Engineering</span>\n",
    "\n",
    "The data you will use comes from three different sources:\n",
    "\n",
    "- Citi Bike [Trip Histories](https://s3.amazonaws.com/tripdata/index.html);\n",
    "- Getting US National Holidays from `USFederalHolidayCalendar` (`pandas.tseries.holiday` package);\n",
    "- Different meteorological observations from [VisualCrossing](https://www.visualcrossing.com/)."
   ]
  },
  {
   "cell_type": "markdown",
   "id": "285d06c9",
   "metadata": {
    "id": "285d06c9"
   },
   "source": [
    "### <span style=\"color:#ff5f27;\"> 🚲 Citibike usage info</span>\n",
    "\n",
    "Downloadable files of Citi Bike trip data are located [here](https://s3.amazonaws.com/tripdata/index.html). Originally data includes:\n",
    "\n",
    "    Ride ID\n",
    "    Rideable type\n",
    "    Started at\n",
    "    Ended at\n",
    "    Start station name\n",
    "    Start station ID\n",
    "    End station name\n",
    "    End station ID\n",
    "    Start latitude\n",
    "    Start longitude\n",
    "    End latitude\n",
    "    End Longitude\n",
    "    Member or casual ride\n",
    "\n"
   ]
  },
  {
   "cell_type": "markdown",
   "id": "0325d64d",
   "metadata": {},
   "source": [
    "Let's download some data [from here](https://s3.amazonaws.com/tripdata/index.html) and perform preprocessing (removal of redundant columns and data grouping)"
   ]
  },
  {
   "cell_type": "code",
   "execution_count": null,
   "id": "14d53daa",
   "metadata": {
    "scrolled": true
   },
   "outputs": [],
   "source": [
    "# get data for x months\n",
    "df_raw = get_citibike_data(\"01/2022\", \"04/2022\")"
   ]
  },
  {
   "cell_type": "code",
   "execution_count": null,
   "id": "e8680e68",
   "metadata": {
    "scrolled": true
   },
   "outputs": [],
   "source": [
    "df_raw"
   ]
  },
  {
   "cell_type": "code",
   "execution_count": null,
   "id": "75fce70e",
   "metadata": {},
   "outputs": [],
   "source": [
    "df_raw.station_id = df_raw.station_id.astype(str)"
   ]
  },
  {
   "cell_type": "code",
   "execution_count": null,
   "id": "d98e43aa",
   "metadata": {},
   "outputs": [],
   "source": [
    "df_enhanced = engineer_citibike_features(df_raw)\n",
    "df_enhanced = df_enhanced.dropna()\n",
    "df_enhanced.station_id = df_enhanced.station_id.astype(str)"
   ]
  },
  {
   "cell_type": "code",
   "execution_count": null,
   "id": "2ce5fb61",
   "metadata": {},
   "outputs": [],
   "source": [
    "df_enhanced"
   ]
  },
  {
   "cell_type": "code",
   "execution_count": null,
   "id": "2273d3ef",
   "metadata": {
    "scrolled": true
   },
   "outputs": [],
   "source": [
    "random_station_id = df_enhanced.station_id.sample(1).values[0]\n",
    "\n",
    "df_enhanced[df_enhanced.station_id == random_station_id]"
   ]
  },
  {
   "cell_type": "code",
   "execution_count": null,
   "id": "daaffcf4",
   "metadata": {},
   "outputs": [],
   "source": [
    "df_enhanced.info()"
   ]
  },
  {
   "cell_type": "markdown",
   "id": "90673697",
   "metadata": {},
   "source": [
    "### <span style=\"color:#ff5f27;\">📒 Citibike stations info</span>"
   ]
  },
  {
   "cell_type": "code",
   "execution_count": null,
   "id": "f616b801",
   "metadata": {},
   "outputs": [],
   "source": [
    "df_stations_info = pd.read_csv(\"data/stations_info.csv\")"
   ]
  },
  {
   "cell_type": "code",
   "execution_count": null,
   "id": "82b016ea",
   "metadata": {},
   "outputs": [],
   "source": [
    "df_stations_info[df_stations_info[\"station_id\"] == '7976.08']"
   ]
  },
  {
   "cell_type": "code",
   "execution_count": null,
   "id": "6e92cfbc",
   "metadata": {},
   "outputs": [],
   "source": [
    "df_stations_info = df_stations_info.drop_duplicates(subset=[\"station_id\"]) \n",
    "df_stations_info = df_stations_info.reset_index(drop=True)"
   ]
  },
  {
   "cell_type": "code",
   "execution_count": null,
   "id": "203488cf",
   "metadata": {},
   "outputs": [],
   "source": [
    "df_stations_info.head(3)"
   ]
  },
  {
   "cell_type": "code",
   "execution_count": null,
   "id": "15d3db4a",
   "metadata": {},
   "outputs": [],
   "source": [
    "import plotly.express as px\n",
    "\n",
    "\n",
    "fig = px.scatter_mapbox(df_stations_info, \n",
    "                        lat=\"lat\", \n",
    "                        lon=\"long\",\n",
    "                        zoom=9.5,\n",
    "                        hover_name=\"station_name\",\n",
    "                        height=400,\n",
    "                        width=600)\n",
    "\n",
    "fig.update_layout(mapbox_style=\"open-street-map\")\n",
    "fig.update_layout(margin={\"r\":0,\"t\":0,\"l\":0,\"b\":0})\n",
    "fig.show()"
   ]
  },
  {
   "cell_type": "markdown",
   "id": "1bc19a0d",
   "metadata": {},
   "source": [
    "### <span style=\"color:#ff5f27;\"> 📅 US holidays</span>"
   ]
  },
  {
   "cell_type": "code",
   "execution_count": null,
   "id": "6438dafc",
   "metadata": {},
   "outputs": [],
   "source": [
    "cal = USFederalHolidayCalendar()\n",
    "\n",
    "#generate a feature of 20 years worth of US holiday days.\n",
    "start_date_for_cal = datetime.strptime('2017-01-01', '%Y-%m-%d')\n",
    "end_date_for_cal = start_date_for_cal + timedelta(days=365*10)\n",
    "\n",
    "holidays = pd.DataFrame(cal.holidays(start=start_date_for_cal, end=end_date_for_cal),\n",
    "                        columns=['date'])\n",
    "holidays['date'] = holidays['date'].dt.strftime('%Y-%m-%d')\n",
    "holidays['holiday'] = 1"
   ]
  },
  {
   "cell_type": "code",
   "execution_count": null,
   "id": "e62a9581",
   "metadata": {},
   "outputs": [],
   "source": [
    "df_holidays = pd.DataFrame(pd.date_range(start_date_for_cal, end_date_for_cal),\n",
    "                           columns=[\"date\"])\n",
    "df_holidays['date'] = df_holidays['date'].dt.strftime('%Y-%m-%d')\n",
    "\n",
    "df_holidays"
   ]
  },
  {
   "cell_type": "code",
   "execution_count": null,
   "id": "90e0041f",
   "metadata": {},
   "outputs": [],
   "source": [
    "df_holidays = df_holidays.set_index(\"date\").join(holidays.set_index(\"date\"), how=\"left\").fillna(0)"
   ]
  },
  {
   "cell_type": "code",
   "execution_count": null,
   "id": "cdbb7971",
   "metadata": {},
   "outputs": [],
   "source": [
    "df_holidays['holiday'] = df_holidays['holiday'].astype(int)"
   ]
  },
  {
   "cell_type": "code",
   "execution_count": null,
   "id": "2d7eb8a0",
   "metadata": {},
   "outputs": [],
   "source": [
    "df_holidays = df_holidays.reset_index(drop=False)"
   ]
  },
  {
   "cell_type": "code",
   "execution_count": null,
   "id": "f9c35377",
   "metadata": {},
   "outputs": [],
   "source": [
    "df_holidays.head(3)"
   ]
  },
  {
   "cell_type": "code",
   "execution_count": null,
   "id": "6aa46f20",
   "metadata": {},
   "outputs": [],
   "source": [
    "df_holidays.tail(3)"
   ]
  },
  {
   "cell_type": "markdown",
   "id": "4fc54c31",
   "metadata": {},
   "source": [
    "### <span style=\"color:#ff5f27;\"> 🌤 Meteorological measurements from VisualCrossing</span>"
   ]
  },
  {
   "cell_type": "markdown",
   "id": "b3d06df0",
   "metadata": {},
   "source": [
    "### You will parse weather data so you should get an API key from [VisualCrossing](https://www.visualcrossing.com/). You can use [this link](https://www.visualcrossing.com/account).\n",
    "\n",
    "### Don't forget to create an `.env` configuration file where all the necessary environment variables (API keys) will be stored:\n",
    "![](images/api_keys_env_file.png)"
   ]
  },
  {
   "cell_type": "code",
   "execution_count": null,
   "id": "4c4dd830",
   "metadata": {},
   "outputs": [],
   "source": [
    "df_enhanced.date = df_enhanced.date.astype(str)\n",
    "\n",
    "start_date, end_date = df_enhanced.date.min(), df_enhanced.date.max()"
   ]
  },
  {
   "cell_type": "code",
   "execution_count": null,
   "id": "f9f3d0d1",
   "metadata": {},
   "outputs": [],
   "source": [
    "df_weather = get_weather_data(city=\"nyc\",\n",
    "                              start_date=str(start_date).split()[0],\n",
    "                              end_date=str(end_date).split()[0])"
   ]
  },
  {
   "cell_type": "code",
   "execution_count": null,
   "id": "0c4e2dea",
   "metadata": {
    "scrolled": true
   },
   "outputs": [],
   "source": [
    "df_weather.tail(5)"
   ]
  },
  {
   "cell_type": "code",
   "execution_count": null,
   "id": "e7d61ca2",
   "metadata": {},
   "outputs": [],
   "source": [
    "# unix columns creation\n",
    "\n",
    "df_enhanced[\"timestamp\"] = df_enhanced[\"date\"].apply(convert_date_to_unix)\n",
    "df_holidays[\"timestamp\"] = df_holidays [\"date\"].apply(convert_date_to_unix)\n",
    "df_weather[\"timestamp\"] = df_weather[\"date\"].apply(convert_date_to_unix)"
   ]
  },
  {
   "cell_type": "markdown",
   "id": "H1aYmOX60MXj",
   "metadata": {
    "id": "H1aYmOX60MXj"
   },
   "source": [
    "---"
   ]
  },
  {
   "cell_type": "markdown",
   "id": "be723483",
   "metadata": {},
   "source": [
    "## <span style=\"color:#ff5f27;\"> 📡 Connecting to Hopsworks Feature Store </span>"
   ]
  },
  {
   "cell_type": "code",
   "execution_count": null,
   "id": "cae776d7",
   "metadata": {
    "id": "cae776d7"
   },
   "outputs": [],
   "source": [
    "import hopsworks\n",
    "project = hopsworks.login()\n",
    "fs = project.get_feature_store()"
   ]
  },
  {
   "cell_type": "markdown",
   "id": "ef0c02f9",
   "metadata": {},
   "source": [
    "---"
   ]
  },
  {
   "cell_type": "markdown",
   "id": "b6411e74",
   "metadata": {},
   "source": [
    "## <span style=\"color:#ff5f27;\"> 🪄 Creating Feature Groups </span>\n",
    "\n",
    "A [feature group](https://docs.hopsworks.ai/feature-store-api/latest/generated/feature_group/) can be seen as a collection of conceptually related features. In this case, you will create next feature groups: CitiBike usage per station, Stations information, Meteorological measurements in NYC and US holidays."
   ]
  },
  {
   "cell_type": "code",
   "execution_count": null,
   "id": "2cc8c6cb",
   "metadata": {},
   "outputs": [],
   "source": [
    "citibike_usage_fg = fs.get_or_create_feature_group(\n",
    "    name=\"citibike_usage\",\n",
    "    version=1,\n",
    "    description=\"Citibike stations usage data.\",\n",
    "    primary_key=[\"date\", \"station_id\"],\n",
    "    event_time=\"timestamp\"\n",
    ")"
   ]
  },
  {
   "cell_type": "code",
   "execution_count": null,
   "id": "3fdaa92a",
   "metadata": {
    "scrolled": true
   },
   "outputs": [],
   "source": [
    "citibike_usage_fg.insert(df_enhanced, write_options={\"wait_for_job\": False})"
   ]
  },
  {
   "cell_type": "code",
   "execution_count": null,
   "id": "e785191d",
   "metadata": {},
   "outputs": [],
   "source": [
    "df = citibike_stations_info_fg.read()"
   ]
  },
  {
   "cell_type": "code",
   "execution_count": null,
   "id": "9bffe563",
   "metadata": {},
   "outputs": [],
   "source": [
    "df[df[\"station_id\"] == '7976.08']"
   ]
  },
  {
   "cell_type": "code",
   "execution_count": null,
   "id": "c691d509",
   "metadata": {
    "id": "c691d509"
   },
   "outputs": [],
   "source": [
    "citibike_stations_info_fg = fs.get_or_create_feature_group(\n",
    "    name=\"citibike_stations_info\",\n",
    "    version=1,\n",
    "    description=\"Citibike stations information.\",\n",
    "    primary_key=[\"station_id\"],\n",
    "    online_enabled=True\n",
    ")"
   ]
  },
  {
   "cell_type": "code",
   "execution_count": null,
   "id": "67228279",
   "metadata": {
    "id": "67228279"
   },
   "outputs": [],
   "source": [
    "citibike_stations_info_fg.insert(df_stations_info, write_options={\"wait_for_job\": False})"
   ]
  },
  {
   "cell_type": "code",
   "execution_count": null,
   "id": "226c7e9a",
   "metadata": {},
   "outputs": [],
   "source": [
    "us_holidays_fg = fs.get_or_create_feature_group(\n",
    "    name=\"us_holidays\",\n",
    "    version=1,\n",
    "    description=\"US holidays calendar.\",\n",
    "    primary_key=[\"date\"],\n",
    "    event_time=\"timestamp\"\n",
    ")"
   ]
  },
  {
   "cell_type": "code",
   "execution_count": null,
   "id": "ef2a7894",
   "metadata": {},
   "outputs": [],
   "source": [
    "us_holidays_fg.insert(df_holidays, write_options={\"wait_for_job\": False})"
   ]
  },
  {
   "cell_type": "code",
   "execution_count": null,
   "id": "7104ed98",
   "metadata": {},
   "outputs": [],
   "source": [
    "meteorological_measurements_fg = fs.get_or_create_feature_group(\n",
    "    name=\"meteorological_measurements\",\n",
    "    version=1,\n",
    "    description=\"Meteorological measurements for NYC.\",\n",
    "    primary_key=[\"date\"],\n",
    "    event_time=\"timestamp\"\n",
    ")"
   ]
  },
  {
   "cell_type": "code",
   "execution_count": null,
   "id": "1bb8eb53",
   "metadata": {
    "scrolled": true
   },
   "outputs": [],
   "source": [
    "meteorological_measurements_fg.insert(df_weather, write_options={\"wait_for_job\": False})"
   ]
  },
  {
   "cell_type": "markdown",
   "id": "a15b9724",
   "metadata": {},
   "source": [
    "## <span style=\"color:#ff5f27;\">⏭️ **Next:** Part 02 </span>\n",
    "\n",
    "In the next notebook, you will be parsing new monthly data for the Feature Groups."
   ]
  }
 ],
 "metadata": {
  "colab": {
   "collapsed_sections": [],
   "provenance": []
  },
  "kernelspec": {
   "display_name": "Python 3 (ipykernel)",
   "language": "python",
   "name": "python3"
  },
  "language_info": {
   "codemirror_mode": {
    "name": "ipython",
    "version": 3
   },
   "file_extension": ".py",
   "mimetype": "text/x-python",
   "name": "python",
   "nbconvert_exporter": "python",
   "pygments_lexer": "ipython3",
   "version": "3.8.15"
  }
 },
 "nbformat": 4,
 "nbformat_minor": 5
}
