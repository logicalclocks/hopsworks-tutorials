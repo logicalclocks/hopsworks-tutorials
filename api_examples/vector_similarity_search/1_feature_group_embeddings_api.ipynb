{
 "cells": [
  {
   "cell_type": "markdown",
   "id": "8b0ba628",
   "metadata": {},
   "source": [
    "## <span style=\"color:#ff5f27;\"> 🔍🗞️ News search using kNN in Hopsworks</span>"
   ]
  },
  {
   "cell_type": "markdown",
   "id": "d727fa41",
   "metadata": {},
   "source": [
    "In this tutorial, you are going to learn how to create a news search application which allows you to search news using natural language. You will create embedding for the news and search news similar to a given description using embeddings and kNN search. The steps include:\n",
    "1. Load news data\n",
    "2. Create embedddings for news heading and news body\n",
    "3. Ingest the news data and embedding into Hopsworks\n",
    "4. Search news using Hopsworks"
   ]
  },
  {
   "cell_type": "markdown",
   "id": "23d01172-107a-4f3f-87de-4a0635265a9c",
   "metadata": {},
   "source": [
    "## <span style='color:#ff5f27'> 📝 Imports"
   ]
  },
  {
   "cell_type": "code",
   "execution_count": null,
   "id": "09339fc4-087a-463e-8bfd-a80b638c61cb",
   "metadata": {},
   "outputs": [],
   "source": [
    "!pip install -U 'hopsworks[python]' --quiet\n",
    "!pip install sentence_transformers -q"
   ]
  },
  {
   "cell_type": "code",
   "execution_count": null,
   "id": "8043deea-9bdb-44da-92a6-69600deb9ec0",
   "metadata": {},
   "outputs": [],
   "source": [
    "import pandas as pd\n",
    "from sentence_transformers import SentenceTransformer\n",
    "import logging\n",
    "import hopsworks\n",
    "from hsfs import embedding"
   ]
  },
  {
   "cell_type": "markdown",
   "id": "32974a73",
   "metadata": {},
   "source": [
    "## <span style=\"color:#ff5f27;\"> 📰 Load news data</span>"
   ]
  },
  {
   "cell_type": "markdown",
   "id": "840cc4e5",
   "metadata": {},
   "source": [
    "First, you need to load the news articles downloaded from [Kaggle news articles](https://www.kaggle.com/datasets/asad1m9a9h6mood/news-articles).\n",
    "Since creating embeddings for the full news is time-consuming, here we sample some articles."
   ]
  },
  {
   "cell_type": "code",
   "execution_count": null,
   "id": "28f3cca3-ce77-4b31-b837-4c247d28cfbb",
   "metadata": {},
   "outputs": [],
   "source": [
    "df_all = pd.read_csv(\n",
    "    \"https://repo.hops.works/dev/jdowling/Articles.csv\", \n",
    "    encoding='utf-8', \n",
    "    encoding_errors='ignore',\n",
    ")\n",
    "\n",
    "df = df_all.sample(n=300).reset_index().drop([\"index\"], axis=1)\n",
    "df[\"news_id\"] = list(range(len(df)))\n",
    "df.columns = df.columns.str.lower()\n",
    "df.head(3)"
   ]
  },
  {
   "cell_type": "markdown",
   "id": "ddea5ab0",
   "metadata": {},
   "source": [
    "## <span style=\"color:#ff5f27;\"> 🧠 Create embeddings</span>"
   ]
  },
  {
   "cell_type": "markdown",
   "id": "b43d7b68",
   "metadata": {},
   "source": [
    "Next, you need to create embeddings for heading and body of the news. The embeddings will then be used for kNN search against the embedding of the news description you want to search. Here we use a light weighted language model (LM) which encodes the news into embeddings. You can use any other language models including LLM (llama, Mistral)."
   ]
  },
  {
   "cell_type": "code",
   "execution_count": null,
   "id": "017ae8a7",
   "metadata": {},
   "outputs": [],
   "source": [
    "model = SentenceTransformer('all-MiniLM-L6-v2')"
   ]
  },
  {
   "cell_type": "code",
   "execution_count": null,
   "id": "245ee674",
   "metadata": {},
   "outputs": [],
   "source": [
    "# Truncate the body to 100 characters\n",
    "embeddings_body = model.encode([body[:100] for body in df[\"article\"]])\n",
    "embeddings_heading = model.encode(df[\"heading\"])\n",
    "\n",
    "df[\"embedding_heading\"] = pd.Series(embeddings_heading.tolist())\n",
    "df[\"embedding_body\"] = pd.Series(embeddings_body.tolist())\n",
    "\n",
    "df.head(3)"
   ]
  },
  {
   "cell_type": "markdown",
   "id": "1ca7d180",
   "metadata": {},
   "source": [
    "## <span style=\"color:#ff5f27;\"> 📥 Ingest into Hopsworks</span>"
   ]
  },
  {
   "cell_type": "markdown",
   "id": "4edaa1d3",
   "metadata": {},
   "source": [
    "You need to ingest the data to Hopsworks, so that they are stored and indexed. First, you login into Hopsworks and prepare the feature store."
   ]
  },
  {
   "cell_type": "code",
   "execution_count": null,
   "id": "88f99b8b",
   "metadata": {},
   "outputs": [],
   "source": [
    "project = hopsworks.login()\n",
    "fs = project.get_feature_store()"
   ]
  },
  {
   "cell_type": "markdown",
   "id": "53ca5b13",
   "metadata": {},
   "source": [
    "Next, as embeddings are stored in an index in the backing vecotor database, you need to specify the index name and the embedding features in the dataframe. "
   ]
  },
  {
   "cell_type": "code",
   "execution_count": null,
   "id": "4994b30b",
   "metadata": {},
   "outputs": [],
   "source": [
    "VERSION = 1\n",
    "\n",
    "embedding_index = embedding.EmbeddingIndex(index_name=f\"news_fg_{VERSION}\")"
   ]
  },
  {
   "cell_type": "code",
   "execution_count": null,
   "id": "8bbd31bc-b806-41e5-95a6-0dc510e2fe99",
   "metadata": {},
   "outputs": [],
   "source": [
    "# Specify the name and dimension of the embedding features \n",
    "embedding_index.add_embedding(\"embedding_body\", model.get_sentence_embedding_dimension())\n",
    "embedding_index.add_embedding(\"embedding_heading\", model.get_sentence_embedding_dimension())"
   ]
  },
  {
   "cell_type": "markdown",
   "id": "755be3cb",
   "metadata": {},
   "source": [
    "Next, you create a feature group with the `embedding_index` and ingest data into the feature group."
   ]
  },
  {
   "cell_type": "code",
   "execution_count": null,
   "id": "a2fa6af0",
   "metadata": {},
   "outputs": [],
   "source": [
    "news_fg = fs.get_or_create_feature_group(\n",
    "    name=\"news_fg\",\n",
    "    version=VERSION,\n",
    "    primary_key=[\"news_id\"],\n",
    "    online_enabled=True,\n",
    "    embedding_index=embedding_index,\n",
    ")"
   ]
  },
  {
   "cell_type": "code",
   "execution_count": null,
   "id": "9f82da02-0e37-4907-8790-a68145253845",
   "metadata": {},
   "outputs": [],
   "source": [
    "news_fg.insert(df)"
   ]
  },
  {
   "cell_type": "markdown",
   "id": "508ae2c4",
   "metadata": {},
   "source": [
    "## <span style=\"color:#ff5f27;\"> 🔎🗞️ Search News</span>"
   ]
  },
  {
   "cell_type": "markdown",
   "id": "baa6d6c3",
   "metadata": {},
   "source": [
    "Once the data are ingested into Hopsworks, you can search news by giving a news description. The news description first needs to be encoded by the same LM you used to encode the news. And then you can search news which are similar to the description using kNN search functionality provided by the feature group."
   ]
  },
  {
   "cell_type": "code",
   "execution_count": null,
   "id": "5e114be5",
   "metadata": {},
   "outputs": [],
   "source": [
    "# Set the logging level to WARN to avoid INFO message\n",
    "logging.getLogger().setLevel(logging.WARN)"
   ]
  },
  {
   "cell_type": "code",
   "execution_count": null,
   "id": "343bcbcf",
   "metadata": {},
   "outputs": [],
   "source": [
    "news_description = \"news about europe\""
   ]
  },
  {
   "cell_type": "markdown",
   "id": "aa0d15d3",
   "metadata": {},
   "source": [
    "You can search similar news to the description against news heading."
   ]
  },
  {
   "cell_type": "code",
   "execution_count": null,
   "id": "9a73ea59",
   "metadata": {},
   "outputs": [],
   "source": [
    "results = news_fg.find_neighbors(\n",
    "    model.encode(news_description), \n",
    "    k=3, \n",
    "    col=\"embedding_heading\",\n",
    ")\n",
    "\n",
    "# Print out the heading\n",
    "for result in results:\n",
    "    print(result[1][2])"
   ]
  },
  {
   "cell_type": "markdown",
   "id": "c2c4f5fc",
   "metadata": {},
   "source": [
    "Alternative, you can search similar news to the description against the news body and filter by news type."
   ]
  },
  {
   "cell_type": "code",
   "execution_count": null,
   "id": "7a3c31b8",
   "metadata": {},
   "outputs": [],
   "source": [
    "results = news_fg.find_neighbors(\n",
    "    model.encode(news_description), \n",
    "    k=3, \n",
    "    col=\"embedding_body\",\n",
    "    filter=news_fg.newstype == \"business\",\n",
    ")\n",
    "\n",
    "# Print out the heading\n",
    "for result in results:\n",
    "    print(result[1][2])"
   ]
  },
  {
   "cell_type": "markdown",
   "id": "5cf246b3",
   "metadata": {},
   "source": [
    "---\n",
    "\n",
    "## <span style=\"color:#ff5f27;\">➡️ Next step</span>\n",
    "\n",
    "Now you are able to search articles using natural language. You can learn how to rank the result in [this tutorial](https://github.com/logicalclocks/hopsworks-tutorials/tree/branch-4.2/api_examples/vector_similarity_search/2_feature_view_embeddings_api.ipynb)."
   ]
  }
 ],
 "metadata": {
  "kernelspec": {
   "display_name": "Python 3 (ipykernel)",
   "language": "python",
   "name": "python3"
  },
  "language_info": {
   "codemirror_mode": {
    "name": "ipython",
    "version": 3
   },
   "file_extension": ".py",
   "mimetype": "text/x-python",
   "name": "python",
   "nbconvert_exporter": "python",
   "pygments_lexer": "ipython3",
   "version": "3.11.11"
  }
 },
 "nbformat": 4,
 "nbformat_minor": 5
}
