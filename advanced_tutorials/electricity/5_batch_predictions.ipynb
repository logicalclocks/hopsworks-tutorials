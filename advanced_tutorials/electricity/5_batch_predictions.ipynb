{
 "cells": [
  {
   "cell_type": "markdown",
   "id": "ea74a8c6",
   "metadata": {},
   "source": [
    "# <span style=\"font-width:bold; font-size: 3rem; color:#1EB182;\">**Hopsworks Feature Store** </span> <span style=\"font-width:bold; font-size: 3rem; color:#333;\">- Part 05: Batch Predictions</span>\n",
    "\n",
    "\n",
    "[![Open In Colab](https://colab.research.google.com/assets/colab-badge.svg)](https://colab.research.google.com/github/logicalclocks/hopsworks-tutorials/blob/master/advanced_tutorials/eletricity/5_batch_predictions.ipynb)\n",
    "\n",
    "## 🗒️ In this notebook you will see how to use deployed model for Batch prediction using  Hopsworks Feature Store : \n",
    "\n",
    "1. Loading batch data.\n",
    "2. Precition using model from Model Registry.\n",
    "\n",
    "![tutorial-flow](../../images/03_model.png)"
   ]
  },
  {
   "cell_type": "markdown",
   "id": "fd800fe8",
   "metadata": {},
   "source": [
    "### <span style=\"color:#ff5f27;\">📝 Importing Libraries</span>"
   ]
  },
  {
   "cell_type": "code",
   "execution_count": null,
   "id": "1a62f417",
   "metadata": {},
   "outputs": [],
   "source": [
    "!pip install -U hopsworks --quiet\n",
    "!pip install -U tensorflow --quiet"
   ]
  },
  {
   "cell_type": "code",
   "execution_count": null,
   "id": "ba5d4528",
   "metadata": {},
   "outputs": [],
   "source": [
    "import tensorflow as tf"
   ]
  },
  {
   "cell_type": "markdown",
   "id": "0fcadb24",
   "metadata": {},
   "source": [
    "---"
   ]
  },
  {
   "cell_type": "markdown",
   "id": "258619e7",
   "metadata": {},
   "source": [
    "## <span style=\"color:#ff5f27;\"> 📡 Connecting to Hopsworks Feature Store </span>"
   ]
  },
  {
   "cell_type": "code",
   "execution_count": null,
   "id": "f0e25048",
   "metadata": {},
   "outputs": [],
   "source": [
    "import hopsworks\n",
    "\n",
    "project = hopsworks.login()\n",
    "\n",
    "fs = project.get_feature_store()"
   ]
  },
  {
   "cell_type": "markdown",
   "id": "d4e1cf29",
   "metadata": {},
   "source": [
    "---"
   ]
  },
  {
   "cell_type": "markdown",
   "id": "e376e54c",
   "metadata": {},
   "source": [
    "## <span style=\"color:#ff5f27;\"> ✨ Load recent batch data</span>\n",
    "\n",
    "First, you will need to fetch the training dataset that you created in the previous notebook. You will use January-February data."
   ]
  },
  {
   "cell_type": "code",
   "execution_count": null,
   "id": "f946979c",
   "metadata": {},
   "outputs": [],
   "source": [
    "import datetime\n",
    "start_date = (datetime.datetime.now() - datetime.timedelta(days=4)) \n",
    "start_time = int(start_date.timestamp()) * 1000"
   ]
  },
  {
   "cell_type": "code",
   "execution_count": null,
   "id": "4bc478d7",
   "metadata": {},
   "outputs": [],
   "source": [
    "feature_view = fs.get_feature_view(\"electricity_feature_view\", 1)\n",
    "feature_view.init_batch_scoring(training_dataset_version=1)\n",
    "df = feature_view.get_batch_data(start_time = start_time)\n",
    "df.sort_values([\"timestamp\"], inplace=True)"
   ]
  },
  {
   "cell_type": "code",
   "execution_count": null,
   "id": "f153f0be",
   "metadata": {},
   "outputs": [],
   "source": [
    "df"
   ]
  },
  {
   "cell_type": "code",
   "execution_count": null,
   "id": "ee0046e3",
   "metadata": {},
   "outputs": [],
   "source": [
    "df = df.drop([\"day\", \"timestamp\"], axis=1)"
   ]
  },
  {
   "cell_type": "code",
   "execution_count": null,
   "id": "8b3e6db4",
   "metadata": {},
   "outputs": [],
   "source": [
    "df"
   ]
  },
  {
   "cell_type": "markdown",
   "id": "1766ce71",
   "metadata": {},
   "source": [
    "---"
   ]
  },
  {
   "cell_type": "markdown",
   "id": "2f879969",
   "metadata": {},
   "source": [
    "## <span style=\"color:#ff5f27;\">🚀 Using the model to predict electricity prices</span>"
   ]
  },
  {
   "cell_type": "markdown",
   "id": "bedba86e",
   "metadata": {},
   "source": [
    "### <span style='color:#ff5f27'>🗄 Retrieving model from Model Registry</span>"
   ]
  },
  {
   "cell_type": "code",
   "execution_count": null,
   "id": "344d5e1b",
   "metadata": {},
   "outputs": [],
   "source": [
    "mr = project.get_model_registry()\n",
    "model = mr.get_model(\"electricity_price_prediction_model\", version = 1)\n",
    "model_dir = model.download()\n",
    "loaded_model = tf.saved_model.load(model_dir)\n",
    "serving_function = loaded_model.signatures[\"serving_default\"]"
   ]
  },
  {
   "cell_type": "markdown",
   "id": "ab0cb3a2",
   "metadata": {},
   "source": [
    "### <span style='color:#ff5f27'>🤖 Making the predictions</span>"
   ]
  },
  {
   "cell_type": "code",
   "execution_count": null,
   "id": "681ff592",
   "metadata": {},
   "outputs": [],
   "source": [
    "prediction = serving_function(tf.constant(df.values.reshape(-1, 4, 29), tf.float32))['dense'].numpy()#.flatten().tolist()\n",
    "prediction"
   ]
  },
  {
   "cell_type": "code",
   "execution_count": null,
   "id": "32389f43",
   "metadata": {},
   "outputs": [],
   "source": [
    "se1_pred = []\n",
    "se2_pred = []\n",
    "se3_pred = []\n",
    "se4_pred = []\n",
    "\n",
    "for batch_n in range(len(prediction)):\n",
    "    batch = prediction[batch_n]\n",
    "    for window_n in range(4):\n",
    "        se1_pred.append(batch[window_n][0])\n",
    "        se2_pred.append(batch[window_n][1])\n",
    "        se3_pred.append(batch[window_n][2])\n",
    "        se4_pred.append(batch[window_n][3])"
   ]
  },
  {
   "cell_type": "code",
   "execution_count": null,
   "id": "6f5403ca",
   "metadata": {},
   "outputs": [],
   "source": [
    "import matplotlib.pyplot as plt\n",
    "from matplotlib.ticker import FuncFormatter\n",
    "\n",
    "%config InlineBackend.figure_format='retina'\n",
    "%matplotlib inline\n",
    "\n",
    "plt.plot(se1_pred,color='red', label='SE1 price prediction')\n",
    "plt.plot(se2_pred, color='blue', label='SE2 price prediction')\n",
    "plt.plot(se3_pred, color='green', label='SE3 price prediction')\n",
    "plt.plot(se4_pred, color='black', label='SE4 price prediction')\n",
    "plt.xlabel('Time')\n",
    "plt.ylabel('Price (scaled)')\n",
    "plt.legend(loc='upper left')\n",
    "fig = plt.gcf()\n",
    "fig.set_size_inches(15, 5)\n",
    "plt.show()"
   ]
  },
  {
   "cell_type": "code",
   "execution_count": null,
   "id": "f4a74f1e",
   "metadata": {},
   "outputs": [],
   "source": [
    "import matplotlib.pyplot as plt\n",
    "\n",
    "plt.plot(se1_pred,color='red', label='SE1 price prediction')\n",
    "plt.plot(se2_pred, color='blue', label='SE2 price prediction')\n",
    "plt.plot(se3_pred, color='green', label='SE3 price prediction')\n",
    "plt.plot(se4_pred, color='black', label='SE4 price prediction')\n",
    "plt.xlabel('Time')\n",
    "plt.ylabel('Price (scaled)')\n",
    "plt.legend(loc='upper left')\n",
    "\n",
    "#save figure to PNG file\n",
    "plt.savefig('../../images/model_preds.png')"
   ]
  }
 ],
 "metadata": {
  "kernelspec": {
   "display_name": "Python 3 (ipykernel)",
   "language": "python",
   "name": "python3"
  },
  "language_info": {
   "codemirror_mode": {
    "name": "ipython",
    "version": 3
   },
   "file_extension": ".py",
   "mimetype": "text/x-python",
   "name": "python",
   "nbconvert_exporter": "python",
   "pygments_lexer": "ipython3",
   "version": "3.8.0"
  }
 },
 "nbformat": 4,
 "nbformat_minor": 5
}
