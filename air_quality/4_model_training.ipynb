{
 "cells": [
  {
   "cell_type": "markdown",
   "id": "dbd751f5",
   "metadata": {},
   "source": [
    "# <span style=\"font-width:bold; font-size: 3rem; color:#1EB182;\"><img src=\"images/icon102.png\" width=\"38px\"></img> **Hopsworks Feature Store** </span><span style=\"font-width:bold; font-size: 3rem; color:#333;\">- Part 04: Batch Predictions</span>\n",
    "\n",
    "\n",
    "## 🗒️ In this notebook we will see how to create a training dataset from the feature groups: \n",
    "\n",
    "1. Loading the training data.\n",
    "2. Train the model.\n",
    "3. Register model in Hopsworks model registry.\n",
    "\n",
    "![part3](images/03_model.png) "
   ]
  },
  {
   "cell_type": "markdown",
   "id": "14738f33",
   "metadata": {},
   "source": [
    "## <span style='color:#ff5f27'> 📝 Imports"
   ]
  },
  {
   "cell_type": "code",
   "execution_count": 1,
   "id": "d734d005",
   "metadata": {},
   "outputs": [],
   "source": [
    "import pandas as pd\n",
    "\n",
    "from sklearn.ensemble import GradientBoostingRegressor\n",
    "from sklearn.metrics import f1_score\n",
    "\n",
    "import warnings\n",
    "warnings.filterwarnings(\"ignore\")"
   ]
  },
  {
   "cell_type": "markdown",
   "id": "e05af617",
   "metadata": {},
   "source": [
    "## <span style=\"color:#ff5f27;\"> 🔮 Connecting to Hopsworks Feature Store </span>"
   ]
  },
  {
   "cell_type": "code",
   "execution_count": 2,
   "id": "6539d56a",
   "metadata": {},
   "outputs": [
    {
     "name": "stdout",
     "output_type": "stream",
     "text": [
      "Connected. Call `.close()` to terminate connection gracefully.\n",
      "\n",
      "Logged in to project, explore it here https://c.app.hopsworks.ai:443/p/167\n"
     ]
    },
    {
     "name": "stderr",
     "output_type": "stream",
     "text": [
      "DeprecationWarning: the imp module is deprecated in favour of importlib; see the module's documentation for alternative uses\n"
     ]
    },
    {
     "name": "stdout",
     "output_type": "stream",
     "text": [
      "Connected. Call `.close()` to terminate connection gracefully.\n"
     ]
    }
   ],
   "source": [
    "import hopsworks\n",
    "\n",
    "project = hopsworks.login() \n",
    "\n",
    "fs = project.get_feature_store() "
   ]
  },
  {
   "cell_type": "markdown",
   "id": "f9d64a5d",
   "metadata": {},
   "source": [
    "## <span style=\"color:#ff5f27;\"> 🪝 Feature View and Training Dataset Retrieval </span>"
   ]
  },
  {
   "cell_type": "code",
   "execution_count": 3,
   "id": "360857d2",
   "metadata": {},
   "outputs": [],
   "source": [
    "feature_view = fs.get_feature_view(\n",
    "    name = 'air_quality_fv',\n",
    "    version = 1\n",
    ")"
   ]
  },
  {
   "cell_type": "code",
   "execution_count": 4,
   "id": "b04e30a7",
   "metadata": {},
   "outputs": [
    {
     "data": {
      "text/html": [
       "<div>\n",
       "<style scoped>\n",
       "    .dataframe tbody tr th:only-of-type {\n",
       "        vertical-align: middle;\n",
       "    }\n",
       "\n",
       "    .dataframe tbody tr th {\n",
       "        vertical-align: top;\n",
       "    }\n",
       "\n",
       "    .dataframe thead th {\n",
       "        text-align: right;\n",
       "    }\n",
       "</style>\n",
       "<table border=\"1\" class=\"dataframe\">\n",
       "  <thead>\n",
       "    <tr style=\"text-align: right;\">\n",
       "      <th></th>\n",
       "      <th>city</th>\n",
       "      <th>aqi</th>\n",
       "      <th>date</th>\n",
       "      <th>iaqi_h</th>\n",
       "      <th>iaqi_p</th>\n",
       "      <th>iaqi_pm10</th>\n",
       "      <th>iaqi_t</th>\n",
       "      <th>o3_avg</th>\n",
       "      <th>o3_max</th>\n",
       "      <th>o3_min</th>\n",
       "      <th>...</th>\n",
       "      <th>windgust</th>\n",
       "      <th>windspeed</th>\n",
       "      <th>winddir</th>\n",
       "      <th>pressure</th>\n",
       "      <th>cloudcover</th>\n",
       "      <th>visibility</th>\n",
       "      <th>solarradiation</th>\n",
       "      <th>solarenergy</th>\n",
       "      <th>uvindex</th>\n",
       "      <th>conditions</th>\n",
       "    </tr>\n",
       "  </thead>\n",
       "  <tbody>\n",
       "    <tr>\n",
       "      <th>0</th>\n",
       "      <td>2</td>\n",
       "      <td>6</td>\n",
       "      <td>1663372800000</td>\n",
       "      <td>0.151320</td>\n",
       "      <td>-1.493063</td>\n",
       "      <td>-0.509993</td>\n",
       "      <td>-0.447406</td>\n",
       "      <td>0.090878</td>\n",
       "      <td>-0.879904</td>\n",
       "      <td>0.165723</td>\n",
       "      <td>...</td>\n",
       "      <td>0.596078</td>\n",
       "      <td>0.898881</td>\n",
       "      <td>1.495199</td>\n",
       "      <td>-1.304420</td>\n",
       "      <td>0.655855</td>\n",
       "      <td>0.509843</td>\n",
       "      <td>-0.929005</td>\n",
       "      <td>-0.908356</td>\n",
       "      <td>-0.713147</td>\n",
       "      <td>1</td>\n",
       "    </tr>\n",
       "    <tr>\n",
       "      <th>1</th>\n",
       "      <td>2</td>\n",
       "      <td>16</td>\n",
       "      <td>1663027200000</td>\n",
       "      <td>0.167835</td>\n",
       "      <td>-0.502415</td>\n",
       "      <td>-0.083022</td>\n",
       "      <td>0.482885</td>\n",
       "      <td>-0.142809</td>\n",
       "      <td>0.033842</td>\n",
       "      <td>-0.192239</td>\n",
       "      <td>...</td>\n",
       "      <td>1.162439</td>\n",
       "      <td>0.461859</td>\n",
       "      <td>-0.946659</td>\n",
       "      <td>-0.719795</td>\n",
       "      <td>1.160345</td>\n",
       "      <td>-1.379013</td>\n",
       "      <td>-1.617922</td>\n",
       "      <td>-1.629403</td>\n",
       "      <td>-1.845793</td>\n",
       "      <td>2</td>\n",
       "    </tr>\n",
       "    <tr>\n",
       "      <th>2</th>\n",
       "      <td>1</td>\n",
       "      <td>4</td>\n",
       "      <td>1663459200000</td>\n",
       "      <td>-0.977159</td>\n",
       "      <td>-0.460792</td>\n",
       "      <td>-0.296508</td>\n",
       "      <td>-0.019975</td>\n",
       "      <td>-1.077559</td>\n",
       "      <td>-1.108340</td>\n",
       "      <td>-0.371219</td>\n",
       "      <td>...</td>\n",
       "      <td>-0.111874</td>\n",
       "      <td>-0.231348</td>\n",
       "      <td>1.271256</td>\n",
       "      <td>-0.788574</td>\n",
       "      <td>-0.260959</td>\n",
       "      <td>0.223652</td>\n",
       "      <td>0.116486</td>\n",
       "      <td>0.133156</td>\n",
       "      <td>0.419498</td>\n",
       "      <td>0</td>\n",
       "    </tr>\n",
       "    <tr>\n",
       "      <th>3</th>\n",
       "      <td>3</td>\n",
       "      <td>3</td>\n",
       "      <td>1662940800000</td>\n",
       "      <td>1.109152</td>\n",
       "      <td>-0.061202</td>\n",
       "      <td>-0.936964</td>\n",
       "      <td>-0.092889</td>\n",
       "      <td>-1.544933</td>\n",
       "      <td>-1.108340</td>\n",
       "      <td>-1.445104</td>\n",
       "      <td>...</td>\n",
       "      <td>-0.874888</td>\n",
       "      <td>-0.939625</td>\n",
       "      <td>0.474173</td>\n",
       "      <td>-0.143768</td>\n",
       "      <td>1.121538</td>\n",
       "      <td>0.652938</td>\n",
       "      <td>-1.332316</td>\n",
       "      <td>-1.288908</td>\n",
       "      <td>-1.279470</td>\n",
       "      <td>2</td>\n",
       "    </tr>\n",
       "    <tr>\n",
       "      <th>4</th>\n",
       "      <td>0</td>\n",
       "      <td>23</td>\n",
       "      <td>1662584400000</td>\n",
       "      <td>-0.052357</td>\n",
       "      <td>0.413309</td>\n",
       "      <td>-0.083022</td>\n",
       "      <td>0.332027</td>\n",
       "      <td>1.960378</td>\n",
       "      <td>1.861335</td>\n",
       "      <td>1.597569</td>\n",
       "      <td>...</td>\n",
       "      <td>1.988383</td>\n",
       "      <td>1.818134</td>\n",
       "      <td>-1.562817</td>\n",
       "      <td>0.475246</td>\n",
       "      <td>0.869293</td>\n",
       "      <td>0.509843</td>\n",
       "      <td>-0.319712</td>\n",
       "      <td>-0.347542</td>\n",
       "      <td>0.419498</td>\n",
       "      <td>2</td>\n",
       "    </tr>\n",
       "  </tbody>\n",
       "</table>\n",
       "<p>5 rows × 42 columns</p>\n",
       "</div>"
      ],
      "text/plain": [
       "  city aqi           date    iaqi_h    iaqi_p  iaqi_pm10    iaqi_t    o3_avg  \\\n",
       "0    2   6  1663372800000  0.151320 -1.493063  -0.509993 -0.447406  0.090878   \n",
       "1    2  16  1663027200000  0.167835 -0.502415  -0.083022  0.482885 -0.142809   \n",
       "2    1   4  1663459200000 -0.977159 -0.460792  -0.296508 -0.019975 -1.077559   \n",
       "3    3   3  1662940800000  1.109152 -0.061202  -0.936964 -0.092889 -1.544933   \n",
       "4    0  23  1662584400000 -0.052357  0.413309  -0.083022  0.332027  1.960378   \n",
       "\n",
       "     o3_max    o3_min  ...  windgust  windspeed   winddir  pressure  \\\n",
       "0 -0.879904  0.165723  ...  0.596078   0.898881  1.495199 -1.304420   \n",
       "1  0.033842 -0.192239  ...  1.162439   0.461859 -0.946659 -0.719795   \n",
       "2 -1.108340 -0.371219  ... -0.111874  -0.231348  1.271256 -0.788574   \n",
       "3 -1.108340 -1.445104  ... -0.874888  -0.939625  0.474173 -0.143768   \n",
       "4  1.861335  1.597569  ...  1.988383   1.818134 -1.562817  0.475246   \n",
       "\n",
       "   cloudcover  visibility  solarradiation  solarenergy   uvindex  conditions  \n",
       "0    0.655855    0.509843       -0.929005    -0.908356 -0.713147           1  \n",
       "1    1.160345   -1.379013       -1.617922    -1.629403 -1.845793           2  \n",
       "2   -0.260959    0.223652        0.116486     0.133156  0.419498           0  \n",
       "3    1.121538    0.652938       -1.332316    -1.288908 -1.279470           2  \n",
       "4    0.869293    0.509843       -0.319712    -0.347542  0.419498           2  \n",
       "\n",
       "[5 rows x 42 columns]"
      ]
     },
     "execution_count": 4,
     "metadata": {},
     "output_type": "execute_result"
    }
   ],
   "source": [
    "train_data = feature_view.get_training_data(1)[0]\n",
    "\n",
    "train_data.head()"
   ]
  },
  {
   "cell_type": "markdown",
   "id": "d275ae09",
   "metadata": {},
   "source": [
    "---\n",
    "## <span style=\"color:#ff5f27;\"> 🤖 GradientBossing model </span>"
   ]
  },
  {
   "cell_type": "code",
   "execution_count": 5,
   "id": "5b937dec",
   "metadata": {},
   "outputs": [
    {
     "data": {
      "text/html": [
       "<div>\n",
       "<style scoped>\n",
       "    .dataframe tbody tr th:only-of-type {\n",
       "        vertical-align: middle;\n",
       "    }\n",
       "\n",
       "    .dataframe tbody tr th {\n",
       "        vertical-align: top;\n",
       "    }\n",
       "\n",
       "    .dataframe thead th {\n",
       "        text-align: right;\n",
       "    }\n",
       "</style>\n",
       "<table border=\"1\" class=\"dataframe\">\n",
       "  <thead>\n",
       "    <tr style=\"text-align: right;\">\n",
       "      <th></th>\n",
       "      <th>city</th>\n",
       "      <th>aqi</th>\n",
       "      <th>date</th>\n",
       "      <th>iaqi_h</th>\n",
       "      <th>iaqi_p</th>\n",
       "      <th>iaqi_pm10</th>\n",
       "      <th>iaqi_t</th>\n",
       "      <th>o3_avg</th>\n",
       "      <th>o3_max</th>\n",
       "      <th>o3_min</th>\n",
       "      <th>...</th>\n",
       "      <th>windspeed</th>\n",
       "      <th>winddir</th>\n",
       "      <th>pressure</th>\n",
       "      <th>cloudcover</th>\n",
       "      <th>visibility</th>\n",
       "      <th>solarradiation</th>\n",
       "      <th>solarenergy</th>\n",
       "      <th>uvindex</th>\n",
       "      <th>conditions</th>\n",
       "      <th>aqi_next_day</th>\n",
       "    </tr>\n",
       "  </thead>\n",
       "  <tbody>\n",
       "    <tr>\n",
       "      <th>0</th>\n",
       "      <td>0</td>\n",
       "      <td>7</td>\n",
       "      <td>1663718400000</td>\n",
       "      <td>0.454083</td>\n",
       "      <td>1.195838</td>\n",
       "      <td>-0.509993</td>\n",
       "      <td>-2.081702</td>\n",
       "      <td>-0.843871</td>\n",
       "      <td>-0.879904</td>\n",
       "      <td>-0.371219</td>\n",
       "      <td>...</td>\n",
       "      <td>-0.894416</td>\n",
       "      <td>-0.016729</td>\n",
       "      <td>1.352183</td>\n",
       "      <td>-2.705794</td>\n",
       "      <td>0.481224</td>\n",
       "      <td>1.070238</td>\n",
       "      <td>1.054494</td>\n",
       "      <td>0.985821</td>\n",
       "      <td>3</td>\n",
       "      <td>NaN</td>\n",
       "    </tr>\n",
       "    <tr>\n",
       "      <th>1</th>\n",
       "      <td>1</td>\n",
       "      <td>9</td>\n",
       "      <td>1663718400000</td>\n",
       "      <td>1.114657</td>\n",
       "      <td>1.287410</td>\n",
       "      <td>0.770920</td>\n",
       "      <td>-2.659991</td>\n",
       "      <td>-1.077559</td>\n",
       "      <td>-1.565213</td>\n",
       "      <td>-0.013258</td>\n",
       "      <td>...</td>\n",
       "      <td>-1.647902</td>\n",
       "      <td>0.751254</td>\n",
       "      <td>1.249014</td>\n",
       "      <td>-2.429295</td>\n",
       "      <td>0.481224</td>\n",
       "      <td>0.580380</td>\n",
       "      <td>0.553767</td>\n",
       "      <td>0.419498</td>\n",
       "      <td>0</td>\n",
       "      <td>NaN</td>\n",
       "    </tr>\n",
       "    <tr>\n",
       "      <th>2</th>\n",
       "      <td>2</td>\n",
       "      <td>6</td>\n",
       "      <td>1663718400000</td>\n",
       "      <td>0.013701</td>\n",
       "      <td>1.112590</td>\n",
       "      <td>-0.296508</td>\n",
       "      <td>-1.905701</td>\n",
       "      <td>-0.376496</td>\n",
       "      <td>-1.336777</td>\n",
       "      <td>0.165723</td>\n",
       "      <td>...</td>\n",
       "      <td>-1.075253</td>\n",
       "      <td>0.376752</td>\n",
       "      <td>1.137247</td>\n",
       "      <td>-0.746045</td>\n",
       "      <td>0.481224</td>\n",
       "      <td>0.062827</td>\n",
       "      <td>0.053040</td>\n",
       "      <td>-0.146824</td>\n",
       "      <td>0</td>\n",
       "      <td>NaN</td>\n",
       "    </tr>\n",
       "    <tr>\n",
       "      <th>3</th>\n",
       "      <td>0</td>\n",
       "      <td>19</td>\n",
       "      <td>1663632000000</td>\n",
       "      <td>0.178844</td>\n",
       "      <td>0.413309</td>\n",
       "      <td>-0.083022</td>\n",
       "      <td>-0.397120</td>\n",
       "      <td>-0.376496</td>\n",
       "      <td>-0.651467</td>\n",
       "      <td>-0.192239</td>\n",
       "      <td>...</td>\n",
       "      <td>-0.186139</td>\n",
       "      <td>1.490138</td>\n",
       "      <td>0.715974</td>\n",
       "      <td>-1.750174</td>\n",
       "      <td>0.481224</td>\n",
       "      <td>0.592497</td>\n",
       "      <td>0.573796</td>\n",
       "      <td>0.419498</td>\n",
       "      <td>0</td>\n",
       "      <td>7</td>\n",
       "    </tr>\n",
       "    <tr>\n",
       "      <th>4</th>\n",
       "      <td>1</td>\n",
       "      <td>4</td>\n",
       "      <td>1663632000000</td>\n",
       "      <td>0.399035</td>\n",
       "      <td>0.371686</td>\n",
       "      <td>-0.296508</td>\n",
       "      <td>-0.774265</td>\n",
       "      <td>-1.077559</td>\n",
       "      <td>-0.423031</td>\n",
       "      <td>-0.550200</td>\n",
       "      <td>...</td>\n",
       "      <td>0.416650</td>\n",
       "      <td>1.587559</td>\n",
       "      <td>0.509636</td>\n",
       "      <td>-0.202748</td>\n",
       "      <td>0.509843</td>\n",
       "      <td>-0.470305</td>\n",
       "      <td>-0.487745</td>\n",
       "      <td>-0.146824</td>\n",
       "      <td>1</td>\n",
       "      <td>9</td>\n",
       "    </tr>\n",
       "  </tbody>\n",
       "</table>\n",
       "<p>5 rows × 43 columns</p>\n",
       "</div>"
      ],
      "text/plain": [
       "  city aqi           date    iaqi_h    iaqi_p  iaqi_pm10    iaqi_t    o3_avg  \\\n",
       "0    0   7  1663718400000  0.454083  1.195838  -0.509993 -2.081702 -0.843871   \n",
       "1    1   9  1663718400000  1.114657  1.287410   0.770920 -2.659991 -1.077559   \n",
       "2    2   6  1663718400000  0.013701  1.112590  -0.296508 -1.905701 -0.376496   \n",
       "3    0  19  1663632000000  0.178844  0.413309  -0.083022 -0.397120 -0.376496   \n",
       "4    1   4  1663632000000  0.399035  0.371686  -0.296508 -0.774265 -1.077559   \n",
       "\n",
       "     o3_max    o3_min  ...  windspeed   winddir  pressure  cloudcover  \\\n",
       "0 -0.879904 -0.371219  ...  -0.894416 -0.016729  1.352183   -2.705794   \n",
       "1 -1.565213 -0.013258  ...  -1.647902  0.751254  1.249014   -2.429295   \n",
       "2 -1.336777  0.165723  ...  -1.075253  0.376752  1.137247   -0.746045   \n",
       "3 -0.651467 -0.192239  ...  -0.186139  1.490138  0.715974   -1.750174   \n",
       "4 -0.423031 -0.550200  ...   0.416650  1.587559  0.509636   -0.202748   \n",
       "\n",
       "   visibility  solarradiation  solarenergy   uvindex  conditions  aqi_next_day  \n",
       "0    0.481224        1.070238     1.054494  0.985821           3           NaN  \n",
       "1    0.481224        0.580380     0.553767  0.419498           0           NaN  \n",
       "2    0.481224        0.062827     0.053040 -0.146824           0           NaN  \n",
       "3    0.481224        0.592497     0.573796  0.419498           0             7  \n",
       "4    0.509843       -0.470305    -0.487745 -0.146824           1             9  \n",
       "\n",
       "[5 rows x 43 columns]"
      ]
     },
     "execution_count": 5,
     "metadata": {},
     "output_type": "execute_result"
    }
   ],
   "source": [
    "train_data = train_data.sort_values(by=[\"date\", 'city'], ascending=[False, True]).reset_index(drop=True)\n",
    "train_data[\"aqi_next_day\"] = train_data.groupby('city')['aqi'].shift(1)\n",
    "\n",
    "train_data.head(5)"
   ]
  },
  {
   "cell_type": "code",
   "execution_count": 6,
   "id": "54e73700",
   "metadata": {},
   "outputs": [],
   "source": [
    "X = train_data.drop(columns=[\"date\"]).dropna()\n",
    "y = X.pop(\"aqi_next_day\")"
   ]
  },
  {
   "cell_type": "markdown",
   "id": "86aaf866",
   "metadata": {},
   "source": [
    "### <span style='color:#ff5f27'> 🧑🏻‍🔬 Model Fitting"
   ]
  },
  {
   "cell_type": "code",
   "execution_count": 7,
   "id": "b96b0b6a",
   "metadata": {},
   "outputs": [
    {
     "data": {
      "text/html": [
       "<style>#sk-container-id-1 {color: black;background-color: white;}#sk-container-id-1 pre{padding: 0;}#sk-container-id-1 div.sk-toggleable {background-color: white;}#sk-container-id-1 label.sk-toggleable__label {cursor: pointer;display: block;width: 100%;margin-bottom: 0;padding: 0.3em;box-sizing: border-box;text-align: center;}#sk-container-id-1 label.sk-toggleable__label-arrow:before {content: \"▸\";float: left;margin-right: 0.25em;color: #696969;}#sk-container-id-1 label.sk-toggleable__label-arrow:hover:before {color: black;}#sk-container-id-1 div.sk-estimator:hover label.sk-toggleable__label-arrow:before {color: black;}#sk-container-id-1 div.sk-toggleable__content {max-height: 0;max-width: 0;overflow: hidden;text-align: left;background-color: #f0f8ff;}#sk-container-id-1 div.sk-toggleable__content pre {margin: 0.2em;color: black;border-radius: 0.25em;background-color: #f0f8ff;}#sk-container-id-1 input.sk-toggleable__control:checked~div.sk-toggleable__content {max-height: 200px;max-width: 100%;overflow: auto;}#sk-container-id-1 input.sk-toggleable__control:checked~label.sk-toggleable__label-arrow:before {content: \"▾\";}#sk-container-id-1 div.sk-estimator input.sk-toggleable__control:checked~label.sk-toggleable__label {background-color: #d4ebff;}#sk-container-id-1 div.sk-label input.sk-toggleable__control:checked~label.sk-toggleable__label {background-color: #d4ebff;}#sk-container-id-1 input.sk-hidden--visually {border: 0;clip: rect(1px 1px 1px 1px);clip: rect(1px, 1px, 1px, 1px);height: 1px;margin: -1px;overflow: hidden;padding: 0;position: absolute;width: 1px;}#sk-container-id-1 div.sk-estimator {font-family: monospace;background-color: #f0f8ff;border: 1px dotted black;border-radius: 0.25em;box-sizing: border-box;margin-bottom: 0.5em;}#sk-container-id-1 div.sk-estimator:hover {background-color: #d4ebff;}#sk-container-id-1 div.sk-parallel-item::after {content: \"\";width: 100%;border-bottom: 1px solid gray;flex-grow: 1;}#sk-container-id-1 div.sk-label:hover label.sk-toggleable__label {background-color: #d4ebff;}#sk-container-id-1 div.sk-serial::before {content: \"\";position: absolute;border-left: 1px solid gray;box-sizing: border-box;top: 0;bottom: 0;left: 50%;z-index: 0;}#sk-container-id-1 div.sk-serial {display: flex;flex-direction: column;align-items: center;background-color: white;padding-right: 0.2em;padding-left: 0.2em;position: relative;}#sk-container-id-1 div.sk-item {position: relative;z-index: 1;}#sk-container-id-1 div.sk-parallel {display: flex;align-items: stretch;justify-content: center;background-color: white;position: relative;}#sk-container-id-1 div.sk-item::before, #sk-container-id-1 div.sk-parallel-item::before {content: \"\";position: absolute;border-left: 1px solid gray;box-sizing: border-box;top: 0;bottom: 0;left: 50%;z-index: -1;}#sk-container-id-1 div.sk-parallel-item {display: flex;flex-direction: column;z-index: 1;position: relative;background-color: white;}#sk-container-id-1 div.sk-parallel-item:first-child::after {align-self: flex-end;width: 50%;}#sk-container-id-1 div.sk-parallel-item:last-child::after {align-self: flex-start;width: 50%;}#sk-container-id-1 div.sk-parallel-item:only-child::after {width: 0;}#sk-container-id-1 div.sk-dashed-wrapped {border: 1px dashed gray;margin: 0 0.4em 0.5em 0.4em;box-sizing: border-box;padding-bottom: 0.4em;background-color: white;}#sk-container-id-1 div.sk-label label {font-family: monospace;font-weight: bold;display: inline-block;line-height: 1.2em;}#sk-container-id-1 div.sk-label-container {text-align: center;}#sk-container-id-1 div.sk-container {/* jupyter's `normalize.less` sets `[hidden] { display: none; }` but bootstrap.min.css set `[hidden] { display: none !important; }` so we also need the `!important` here to be able to override the default hidden behavior on the sphinx rendered scikit-learn.org. See: https://github.com/scikit-learn/scikit-learn/issues/21755 */display: inline-block !important;position: relative;}#sk-container-id-1 div.sk-text-repr-fallback {display: none;}</style><div id=\"sk-container-id-1\" class=\"sk-top-container\"><div class=\"sk-text-repr-fallback\"><pre>GradientBoostingRegressor()</pre><b>In a Jupyter environment, please rerun this cell to show the HTML representation or trust the notebook. <br />On GitHub, the HTML representation is unable to render, please try loading this page with nbviewer.org.</b></div><div class=\"sk-container\" hidden><div class=\"sk-item\"><div class=\"sk-estimator sk-toggleable\"><input class=\"sk-toggleable__control sk-hidden--visually\" id=\"sk-estimator-id-1\" type=\"checkbox\" checked><label for=\"sk-estimator-id-1\" class=\"sk-toggleable__label sk-toggleable__label-arrow\">GradientBoostingRegressor</label><div class=\"sk-toggleable__content\"><pre>GradientBoostingRegressor()</pre></div></div></div></div></div>"
      ],
      "text/plain": [
       "GradientBoostingRegressor()"
      ]
     },
     "execution_count": 7,
     "metadata": {},
     "output_type": "execute_result"
    }
   ],
   "source": [
    "gb = GradientBoostingRegressor()\n",
    "gb.fit(X, y)"
   ]
  },
  {
   "cell_type": "markdown",
   "id": "c2fcce4a",
   "metadata": {},
   "source": [
    "### <span style='color:#ff5f27'> 👨🏻‍⚖️ Model Validation"
   ]
  },
  {
   "cell_type": "code",
   "execution_count": 8,
   "id": "fee0dd19",
   "metadata": {},
   "outputs": [
    {
     "data": {
      "text/plain": [
       "0.5"
      ]
     },
     "execution_count": 8,
     "metadata": {},
     "output_type": "execute_result"
    }
   ],
   "source": [
    "f1_score(y.astype('int'),[int(pred) for pred in gb.predict(X)],average='micro')"
   ]
  },
  {
   "cell_type": "code",
   "execution_count": 9,
   "id": "84643553",
   "metadata": {},
   "outputs": [
    {
     "data": {
      "text/html": [
       "<div>\n",
       "<style scoped>\n",
       "    .dataframe tbody tr th:only-of-type {\n",
       "        vertical-align: middle;\n",
       "    }\n",
       "\n",
       "    .dataframe tbody tr th {\n",
       "        vertical-align: top;\n",
       "    }\n",
       "\n",
       "    .dataframe thead th {\n",
       "        text-align: right;\n",
       "    }\n",
       "</style>\n",
       "<table border=\"1\" class=\"dataframe\">\n",
       "  <thead>\n",
       "    <tr style=\"text-align: right;\">\n",
       "      <th></th>\n",
       "      <th>aqi_real</th>\n",
       "      <th>aqi_pred</th>\n",
       "    </tr>\n",
       "  </thead>\n",
       "  <tbody>\n",
       "    <tr>\n",
       "      <th>kyiv</th>\n",
       "      <td>7</td>\n",
       "      <td>7</td>\n",
       "    </tr>\n",
       "    <tr>\n",
       "      <th>stockholm</th>\n",
       "      <td>9</td>\n",
       "      <td>8</td>\n",
       "    </tr>\n",
       "  </tbody>\n",
       "</table>\n",
       "</div>"
      ],
      "text/plain": [
       "          aqi_real  aqi_pred\n",
       "kyiv             7         7\n",
       "stockholm        9         8"
      ]
     },
     "execution_count": 9,
     "metadata": {},
     "output_type": "execute_result"
    }
   ],
   "source": [
    "pred_df = pd.DataFrame({\n",
    "    'aqi_real':y.iloc[:2].values,\n",
    "    'aqi_pred': map(int,gb.predict(X.iloc[:2]))\n",
    "    },\n",
    "    index=[\"kyiv\", \"stockholm\"]\n",
    ")\n",
    "pred_df"
   ]
  },
  {
   "cell_type": "markdown",
   "id": "f63c2cf2",
   "metadata": {},
   "source": [
    "## <span style='color:#ff5f27'>👮🏼‍♀️ Model Registry</span>"
   ]
  },
  {
   "cell_type": "code",
   "execution_count": 10,
   "id": "c553b659",
   "metadata": {},
   "outputs": [
    {
     "name": "stdout",
     "output_type": "stream",
     "text": [
      "Connected. Call `.close()` to terminate connection gracefully.\n"
     ]
    }
   ],
   "source": [
    "mr = project.get_model_registry()"
   ]
  },
  {
   "cell_type": "code",
   "execution_count": 11,
   "id": "cd3f3751",
   "metadata": {
    "scrolled": true
   },
   "outputs": [
    {
     "data": {
      "text/plain": [
       "{'input_schema': {'columnar_schema': [{'name': 'city', 'type': 'object'},\n",
       "   {'name': 'aqi', 'type': 'object'},\n",
       "   {'name': 'iaqi_h', 'type': 'float64'},\n",
       "   {'name': 'iaqi_p', 'type': 'float64'},\n",
       "   {'name': 'iaqi_pm10', 'type': 'float64'},\n",
       "   {'name': 'iaqi_t', 'type': 'float64'},\n",
       "   {'name': 'o3_avg', 'type': 'float64'},\n",
       "   {'name': 'o3_max', 'type': 'float64'},\n",
       "   {'name': 'o3_min', 'type': 'float64'},\n",
       "   {'name': 'pm10_avg', 'type': 'float64'},\n",
       "   {'name': 'pm10_max', 'type': 'float64'},\n",
       "   {'name': 'pm10_min', 'type': 'float64'},\n",
       "   {'name': 'pm25_avg', 'type': 'float64'},\n",
       "   {'name': 'pm25_max', 'type': 'float64'},\n",
       "   {'name': 'pm25_min', 'type': 'float64'},\n",
       "   {'name': 'uvi_avg', 'type': 'float64'},\n",
       "   {'name': 'uvi_max', 'type': 'float64'},\n",
       "   {'name': 'uvi_min', 'type': 'float64'},\n",
       "   {'name': 'tempmax', 'type': 'float64'},\n",
       "   {'name': 'tempmin', 'type': 'float64'},\n",
       "   {'name': 'temp', 'type': 'float64'},\n",
       "   {'name': 'feelslikemax', 'type': 'float64'},\n",
       "   {'name': 'feelslikemin', 'type': 'float64'},\n",
       "   {'name': 'feelslike', 'type': 'float64'},\n",
       "   {'name': 'dew', 'type': 'float64'},\n",
       "   {'name': 'humidity', 'type': 'float64'},\n",
       "   {'name': 'precip', 'type': 'float64'},\n",
       "   {'name': 'precipprob', 'type': 'float64'},\n",
       "   {'name': 'precipcover', 'type': 'float64'},\n",
       "   {'name': 'snow', 'type': 'object'},\n",
       "   {'name': 'snowdepth', 'type': 'object'},\n",
       "   {'name': 'windgust', 'type': 'float64'},\n",
       "   {'name': 'windspeed', 'type': 'float64'},\n",
       "   {'name': 'winddir', 'type': 'float64'},\n",
       "   {'name': 'pressure', 'type': 'float64'},\n",
       "   {'name': 'cloudcover', 'type': 'float64'},\n",
       "   {'name': 'visibility', 'type': 'float64'},\n",
       "   {'name': 'solarradiation', 'type': 'float64'},\n",
       "   {'name': 'solarenergy', 'type': 'float64'},\n",
       "   {'name': 'uvindex', 'type': 'float64'},\n",
       "   {'name': 'conditions', 'type': 'object'}]},\n",
       " 'output_schema': {'columnar_schema': [{'name': 'aqi_next_day',\n",
       "    'type': 'object'}]}}"
      ]
     },
     "execution_count": 11,
     "metadata": {},
     "output_type": "execute_result"
    }
   ],
   "source": [
    "from hsml.schema import Schema\n",
    "from hsml.model_schema import ModelSchema\n",
    "\n",
    "input_schema = Schema(X)\n",
    "output_schema = Schema(y)\n",
    "model_schema = ModelSchema(input_schema=input_schema, output_schema=output_schema)\n",
    "\n",
    "model_schema.to_dict()"
   ]
  },
  {
   "cell_type": "code",
   "execution_count": 12,
   "id": "d2777f5e",
   "metadata": {
    "scrolled": true
   },
   "outputs": [
    {
     "data": {
      "text/plain": [
       "['model.pkl']"
      ]
     },
     "execution_count": 12,
     "metadata": {},
     "output_type": "execute_result"
    }
   ],
   "source": [
    "import joblib\n",
    "\n",
    "joblib.dump(gb, 'model.pkl')"
   ]
  },
  {
   "cell_type": "code",
   "execution_count": 13,
   "id": "41f6811e",
   "metadata": {},
   "outputs": [
    {
     "data": {
      "application/vnd.jupyter.widget-view+json": {
       "model_id": "879a3e5bf314415abdb7a6f221510427",
       "version_major": 2,
       "version_minor": 0
      },
      "text/plain": [
       "  0%|          | 0/6 [00:00<?, ?it/s]"
      ]
     },
     "metadata": {},
     "output_type": "display_data"
    },
    {
     "name": "stdout",
     "output_type": "stream",
     "text": [
      "Model created, explore it at https://c.app.hopsworks.ai:443/p/167/models/gradient_boost_model/1\n"
     ]
    },
    {
     "data": {
      "text/plain": [
       "Model(name: 'gradient_boost_model', version: 1)"
      ]
     },
     "execution_count": 13,
     "metadata": {},
     "output_type": "execute_result"
    }
   ],
   "source": [
    "model = mr.sklearn.create_model(\n",
    "    name=\"gradient_boost_model\",\n",
    "    metrics={\"f1\": \"0.5\"},\n",
    "    description=\"Gradient Boost Regressor.\",\n",
    "    input_example=X.sample(),\n",
    "    model_schema=model_schema\n",
    ")\n",
    "\n",
    "model.save('model.pkl')"
   ]
  },
  {
   "cell_type": "markdown",
   "id": "5248f941",
   "metadata": {},
   "source": [
    "---"
   ]
  }
 ],
 "metadata": {
  "kernelspec": {
   "display_name": "Python 3 (ipykernel)",
   "language": "python",
   "name": "python3"
  },
  "language_info": {
   "codemirror_mode": {
    "name": "ipython",
    "version": 3
   },
   "file_extension": ".py",
   "mimetype": "text/x-python",
   "name": "python",
   "nbconvert_exporter": "python",
   "pygments_lexer": "ipython3",
   "version": "3.9.13"
  }
 },
 "nbformat": 4,
 "nbformat_minor": 5
}
