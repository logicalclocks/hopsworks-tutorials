{
 "cells": [
  {
   "cell_type": "markdown",
   "id": "74b6c01c",
   "metadata": {},
   "source": [
    "# <span style=\"font-width:bold; font-size: 3rem; color:#1EB182;\">**Hopsworks Feature Store** </span><span style=\"font-width:bold; font-size: 3rem; color:#333;\">- Part 02: Feature Pipeline</span>\n",
    "\n",
    "[![Open In Colab](https://colab.research.google.com/assets/colab-badge.svg)](https://colab.research.google.com/github/logicalclocks/hopsworks-tutorials/blob/master/advanced_tutorials/citibike/2_feature_pipeline.ipynb)\n",
    "\n",
    "## 🗒️ This notebook is divided into 2 sections:\n",
    "1. Parse Data.\n",
    "2. Insert new data into the Feature Store."
   ]
  },
  {
   "cell_type": "markdown",
   "id": "8d022a10",
   "metadata": {},
   "source": [
    "### <span style='color:#ff5f27'> 📝 Imports"
   ]
  },
  {
   "cell_type": "code",
   "execution_count": null,
   "id": "cd5982d5",
   "metadata": {},
   "outputs": [],
   "source": [
    "!pip install -U hopsworks --quiet"
   ]
  },
  {
   "cell_type": "code",
   "execution_count": null,
   "id": "7faa949f",
   "metadata": {},
   "outputs": [],
   "source": [
    "from datetime import timedelta, datetime\n",
    "import pandas as pd\n",
    "\n",
    "from functions import *\n",
    "\n",
    "import warnings\n",
    "\n",
    "# Mute warnings\n",
    "warnings.filterwarnings(\"ignore\")"
   ]
  },
  {
   "cell_type": "markdown",
   "id": "d3dc1ac1",
   "metadata": {},
   "source": [
    "---"
   ]
  },
  {
   "cell_type": "markdown",
   "id": "77939976",
   "metadata": {},
   "source": [
    "## <span style=\"color:#ff5f27;\"> 📡 Connecting to Hopsworks Feature Store </span>"
   ]
  },
  {
   "cell_type": "code",
   "execution_count": null,
   "id": "608986f1",
   "metadata": {},
   "outputs": [],
   "source": [
    "import hopsworks\n",
    "project = hopsworks.login()\n",
    "fs = project.get_feature_store()"
   ]
  },
  {
   "cell_type": "code",
   "execution_count": null,
   "id": "2cc9d553",
   "metadata": {},
   "outputs": [],
   "source": [
    "citibike_usage_fg = fs.get_or_create_feature_group(\n",
    "    name=\"citibike_usage\",\n",
    "    version=1\n",
    ")"
   ]
  },
  {
   "cell_type": "code",
   "execution_count": null,
   "id": "0a2396fd",
   "metadata": {},
   "outputs": [],
   "source": [
    "meteorological_measurements_fg = fs.get_or_create_feature_group(\n",
    "    name=\"meteorological_measurements\",\n",
    "    version=1\n",
    ")"
   ]
  },
  {
   "cell_type": "markdown",
   "id": "bf4c2d52",
   "metadata": {},
   "source": [
    "### <span style=\"color:#ff5f27;\">📅 Getting tha last date</span>\n"
   ]
  },
  {
   "cell_type": "code",
   "execution_count": null,
   "id": "6f339455",
   "metadata": {
    "scrolled": true
   },
   "outputs": [],
   "source": [
    "last_date = get_last_date_in_fg(citibike_usage_fg)"
   ]
  },
  {
   "cell_type": "code",
   "execution_count": null,
   "id": "54724aa0",
   "metadata": {},
   "outputs": [],
   "source": [
    "last_date"
   ]
  },
  {
   "cell_type": "code",
   "execution_count": null,
   "id": "41c8bce4",
   "metadata": {},
   "outputs": [],
   "source": [
    "next_date = get_next_date(last_date)"
   ]
  },
  {
   "cell_type": "code",
   "execution_count": null,
   "id": "a73b3c84",
   "metadata": {},
   "outputs": [],
   "source": [
    "next_date = next_date.split(\"-\")\n",
    "next_date"
   ]
  },
  {
   "cell_type": "code",
   "execution_count": null,
   "id": "93633194",
   "metadata": {},
   "outputs": [],
   "source": [
    "target_year, target_month = int(next_date[0]), int(next_date[1])"
   ]
  },
  {
   "cell_type": "code",
   "execution_count": null,
   "id": "f3fedb32",
   "metadata": {
    "scrolled": true
   },
   "outputs": [],
   "source": [
    "print(f\"So, now let's download citibike data for {target_month}/{target_year}\")"
   ]
  },
  {
   "cell_type": "markdown",
   "id": "dce30ea9",
   "metadata": {},
   "source": [
    "---"
   ]
  },
  {
   "cell_type": "markdown",
   "id": "2bfde864",
   "metadata": {},
   "source": [
    "## <span style=\"color:#ff5f27;\"> 🪄 Parsing new data</span>"
   ]
  },
  {
   "cell_type": "markdown",
   "id": "d41cb2c5",
   "metadata": {},
   "source": [
    "### <span style=\"color:#ff5f27;\"> 🚲 Citibike usage info</span>"
   ]
  },
  {
   "cell_type": "code",
   "execution_count": null,
   "id": "2ca902e0",
   "metadata": {},
   "outputs": [],
   "source": [
    "# get new month data\n",
    "df_raw_batch = get_citibike_data(f\"{target_month}/{target_year}\", f\"{target_month}/{target_year}\")"
   ]
  },
  {
   "cell_type": "code",
   "execution_count": null,
   "id": "c6005af0",
   "metadata": {},
   "outputs": [],
   "source": [
    "df_raw_batch"
   ]
  },
  {
   "cell_type": "code",
   "execution_count": null,
   "id": "6efc7e2f",
   "metadata": {},
   "outputs": [],
   "source": [
    "df_enhanced_batch = engineer_citibike_features(df_raw_batch)"
   ]
  },
  {
   "cell_type": "code",
   "execution_count": null,
   "id": "62cb7d60",
   "metadata": {},
   "outputs": [],
   "source": [
    "df_enhanced_batch = df_enhanced_batch.dropna()"
   ]
  },
  {
   "cell_type": "code",
   "execution_count": null,
   "id": "7432a377",
   "metadata": {},
   "outputs": [],
   "source": [
    "df_enhanced_batch.station_id = df_enhanced_batch.station_id.astype(str)"
   ]
  },
  {
   "cell_type": "code",
   "execution_count": null,
   "id": "a70771fa",
   "metadata": {},
   "outputs": [],
   "source": [
    "df_enhanced_batch.tail(3)"
   ]
  },
  {
   "cell_type": "markdown",
   "id": "aa39e68f",
   "metadata": {},
   "source": [
    "### <span style=\"color:#ff5f27;\"> 🌤 Meteorological measurements from VisualCrossing</span>"
   ]
  },
  {
   "cell_type": "markdown",
   "id": "623ed453",
   "metadata": {},
   "source": [
    "### You will parse weather data so you should get an API key from [VisualCrossing](https://www.visualcrossing.com/). You can use [this link](https://www.visualcrossing.com/account).\n",
    "\n",
    "### Don't forget to create an `.env` configuration file where all the necessary environment variables (API keys) will be stored:\n",
    "\n",
    "> `VISUALCROSSING_API_KEY = \"YOUR_API_KEY\"`\n",
    "\n",
    "![](images/api_keys_env_file.png)"
   ]
  },
  {
   "cell_type": "code",
   "execution_count": null,
   "id": "525d223f",
   "metadata": {},
   "outputs": [],
   "source": [
    "df_enhanced_batch.date = df_enhanced_batch.date.astype(str)\n",
    "\n",
    "start_date, end_date = df_enhanced_batch.date.min(), df_enhanced_batch.date.max()"
   ]
  },
  {
   "cell_type": "code",
   "execution_count": null,
   "id": "183769e6",
   "metadata": {},
   "outputs": [],
   "source": [
    "df_weather_batch = get_weather_data(city=\"nyc\", start_date=start_date, end_date=end_date)"
   ]
  },
  {
   "cell_type": "code",
   "execution_count": null,
   "id": "a4e86d98",
   "metadata": {},
   "outputs": [],
   "source": [
    "df_weather_batch.tail(5)"
   ]
  },
  {
   "cell_type": "code",
   "execution_count": null,
   "id": "74198dc8",
   "metadata": {},
   "outputs": [],
   "source": [
    "# lets fix datatypes\n",
    "for column in [\"snowdepth\", \"snow\"]:\n",
    "    df_weather_batch[column] = df_weather_batch[column].astype(\"double\")"
   ]
  },
  {
   "cell_type": "code",
   "execution_count": null,
   "id": "3b343078",
   "metadata": {},
   "outputs": [],
   "source": [
    "# unix columns creation\n",
    "\n",
    "df_enhanced_batch[\"timestamp\"] = df_enhanced_batch[\"date\"].apply(convert_date_to_unix)\n",
    "df_weather_batch[\"timestamp\"] = df_weather_batch[\"date\"].apply(convert_date_to_unix)"
   ]
  },
  {
   "cell_type": "markdown",
   "id": "ebdb3fa7",
   "metadata": {},
   "source": [
    "---"
   ]
  },
  {
   "cell_type": "markdown",
   "id": "d95d789c",
   "metadata": {},
   "source": [
    "## <span style=\"color:#ff5f27;\">⬆️ Uploading new data to the Feature Store</span>"
   ]
  },
  {
   "cell_type": "code",
   "execution_count": null,
   "id": "d207b245",
   "metadata": {},
   "outputs": [],
   "source": [
    "citibike_usage_fg.insert(df_enhanced_batch, write_options={\"wait_for_job\": False})"
   ]
  },
  {
   "cell_type": "code",
   "execution_count": null,
   "id": "dfd8086a",
   "metadata": {},
   "outputs": [],
   "source": [
    "meteorological_measurements_fg.insert(df_weather_batch, write_options={\"wait_for_job\": True})"
   ]
  },
  {
   "cell_type": "markdown",
   "id": "4f39826e",
   "metadata": {},
   "source": [
    "---"
   ]
  },
  {
   "cell_type": "markdown",
   "id": "139be1e7",
   "metadata": {},
   "source": [
    "## <span style=\"color:#ff5f27;\">⏭️ **Next:** Part 03 </span>\n",
    "\n",
    "In the next notebook you will create a feature view, training dataset, train a model and register it in Hopsworks Model Registry.\n",
    "\n",
    "[![Open In Colab](https://colab.research.google.com/assets/colab-badge.svg)](https://colab.research.google.com/github/logicalclocks/hopsworks-tutorials/blob/master/advanced_tutorials/citibike/3_training_dataset_and_modeling.ipynb)"
   ]
  }
 ],
 "metadata": {
  "kernelspec": {
   "display_name": "Python 3 (ipykernel)",
   "language": "python",
   "name": "python3"
  },
  "language_info": {
   "codemirror_mode": {
    "name": "ipython",
    "version": 3
   },
   "file_extension": ".py",
   "mimetype": "text/x-python",
   "name": "python",
   "nbconvert_exporter": "python",
   "pygments_lexer": "ipython3",
   "version": "3.9.13"
  }
 },
 "nbformat": 4,
 "nbformat_minor": 5
}
