{
 "cells": [
  {
   "cell_type": "markdown",
   "id": "055c6bcd",
   "metadata": {},
   "source": [
    "# <span style=\"font-width:bold; font-size: 3rem; color:#1EB182;\"><img src=\"../images/icon102.png\" width=\"38px\"></img> **Hopsworks Feature Store** </span><span style=\"font-width:bold; font-size: 3rem; color:#333;\">- Part 01: Load, Engineer & Connect</span>\n",
    "\n",
    "<span style=\"font-width:bold; font-size: 1.4rem;\"> This is the first part of the quick start series of tutorials about Hopsworks Feature Store. As part of this first module, we will work with data related to credit card transactions. \n",
    "The objective of this tutorial is to demonstrate how to work with the **Hopworks Feature Store**  for batch data with a goal of training and deploying a model that can predict fraudulent transactions.</span>\n",
    "\n",
    "## **🗒️ This notebook is divided in 3 sections:** \n",
    "1. Loading the data and feature engineeing,\n",
    "2. Connect to the Hopsworks feature store,\n",
    "3. Create feature groups and upload them to the feature store.\n",
    "\n",
    "![tutorial-flow](../images/01_featuregroups.png)\n"
   ]
  },
  {
   "cell_type": "code",
   "execution_count": null,
   "id": "c904f2df",
   "metadata": {},
   "outputs": [],
   "source": [
    "!pip install -U hopsworks~=3.0.0rc5 --quiet"
   ]
  },
  {
   "cell_type": "code",
   "execution_count": 1,
   "id": "9b0a4cbe",
   "metadata": {},
   "outputs": [],
   "source": [
    "import numpy as np\n",
    "import pandas as pd"
   ]
  },
  {
   "cell_type": "markdown",
   "id": "a8a8173a",
   "metadata": {},
   "source": [
    "First of all we will load the data and do some feature engineering on it."
   ]
  },
  {
   "cell_type": "markdown",
   "id": "344e9343",
   "metadata": {},
   "source": [
    "## <span style=\"color:#ff5f27;\"> 💽 Loading the Data </span>\n",
    "\n",
    "The data we will use comes from 2 different CSV files:\n",
    "\n",
    "- `transactions.csv`: events containing information about when a credit card was used, such as a timestamp, location, and the amount spent. A boolean fraud_label variable (True/False) tells us whether a transaction was fraudulent or not.\n",
    "- `profiles.csv`: credit card user information such as birthdate and city of residence.\n",
    "\n",
    "In a production system, these CSV files would originate from separate data sources or tables, and probably separate data pipelines. **These files have a common credit card number column cc_num, which you will use later to join features together from the different datasets.**\n",
    "\n",
    "Now, you can go ahead and load the data."
   ]
  },
  {
   "cell_type": "code",
   "execution_count": 2,
   "id": "45aff815",
   "metadata": {},
   "outputs": [
    {
     "data": {
      "text/html": [
       "<div>\n",
       "<style scoped>\n",
       "    .dataframe tbody tr th:only-of-type {\n",
       "        vertical-align: middle;\n",
       "    }\n",
       "\n",
       "    .dataframe tbody tr th {\n",
       "        vertical-align: top;\n",
       "    }\n",
       "\n",
       "    .dataframe thead th {\n",
       "        text-align: right;\n",
       "    }\n",
       "</style>\n",
       "<table border=\"1\" class=\"dataframe\">\n",
       "  <thead>\n",
       "    <tr style=\"text-align: right;\">\n",
       "      <th></th>\n",
       "      <th>cc_num</th>\n",
       "      <th>gender</th>\n",
       "    </tr>\n",
       "  </thead>\n",
       "  <tbody>\n",
       "    <tr>\n",
       "      <th>0</th>\n",
       "      <td>4796807885357879</td>\n",
       "      <td>F</td>\n",
       "    </tr>\n",
       "    <tr>\n",
       "      <th>1</th>\n",
       "      <td>4529266636192966</td>\n",
       "      <td>F</td>\n",
       "    </tr>\n",
       "    <tr>\n",
       "      <th>2</th>\n",
       "      <td>4922690008243953</td>\n",
       "      <td>F</td>\n",
       "    </tr>\n",
       "  </tbody>\n",
       "</table>\n",
       "</div>"
      ],
      "text/plain": [
       "             cc_num gender\n",
       "0  4796807885357879      F\n",
       "1  4529266636192966      F\n",
       "2  4922690008243953      F"
      ]
     },
     "execution_count": 2,
     "metadata": {},
     "output_type": "execute_result"
    }
   ],
   "source": [
    "profiles_df = pd.read_csv(\"https://repo.hops.works/master/hopsworks-tutorials/data/card_fraud_online/profiles.csv\", parse_dates=[\"birthdate\"])\n",
    "profiles_df.columns = [\"name\", \"gender\", \"mail\", \"birthdate\", \"City\", \"Country\", \"cc_num\"]\n",
    "profiles_df = profiles_df[[\"cc_num\", \"gender\"]]\n",
    "profiles_df.head(3)"
   ]
  },
  {
   "cell_type": "code",
   "execution_count": 3,
   "id": "4ab98bb3",
   "metadata": {},
   "outputs": [
    {
     "data": {
      "text/html": [
       "<div>\n",
       "<style scoped>\n",
       "    .dataframe tbody tr th:only-of-type {\n",
       "        vertical-align: middle;\n",
       "    }\n",
       "\n",
       "    .dataframe tbody tr th {\n",
       "        vertical-align: top;\n",
       "    }\n",
       "\n",
       "    .dataframe thead th {\n",
       "        text-align: right;\n",
       "    }\n",
       "</style>\n",
       "<table border=\"1\" class=\"dataframe\">\n",
       "  <thead>\n",
       "    <tr style=\"text-align: right;\">\n",
       "      <th></th>\n",
       "      <th>tid</th>\n",
       "      <th>datetime</th>\n",
       "      <th>cc_num</th>\n",
       "      <th>category</th>\n",
       "      <th>amount</th>\n",
       "      <th>latitude</th>\n",
       "      <th>longitude</th>\n",
       "      <th>city</th>\n",
       "      <th>country</th>\n",
       "      <th>fraud_label</th>\n",
       "    </tr>\n",
       "  </thead>\n",
       "  <tbody>\n",
       "    <tr>\n",
       "      <th>0</th>\n",
       "      <td>11df919988c134d97bbff2678eb68e22</td>\n",
       "      <td>2022-01-01 00:00:24</td>\n",
       "      <td>4473593503484549</td>\n",
       "      <td>Health/Beauty</td>\n",
       "      <td>62.95</td>\n",
       "      <td>42.30865</td>\n",
       "      <td>-83.48216</td>\n",
       "      <td>Canton</td>\n",
       "      <td>US</td>\n",
       "      <td>0</td>\n",
       "    </tr>\n",
       "    <tr>\n",
       "      <th>1</th>\n",
       "      <td>dd0b2d6d4266ccd3bf05bc2ea91cf180</td>\n",
       "      <td>2022-01-01 00:00:56</td>\n",
       "      <td>4272465718946864</td>\n",
       "      <td>Grocery</td>\n",
       "      <td>85.45</td>\n",
       "      <td>33.52253</td>\n",
       "      <td>-117.70755</td>\n",
       "      <td>Laguna Niguel</td>\n",
       "      <td>US</td>\n",
       "      <td>0</td>\n",
       "    </tr>\n",
       "    <tr>\n",
       "      <th>2</th>\n",
       "      <td>e627f5d9a9739833bd52d2da51761fc3</td>\n",
       "      <td>2022-01-01 00:02:32</td>\n",
       "      <td>4104216579248948</td>\n",
       "      <td>Domestic Transport</td>\n",
       "      <td>21.63</td>\n",
       "      <td>37.60876</td>\n",
       "      <td>-77.37331</td>\n",
       "      <td>Mechanicsville</td>\n",
       "      <td>US</td>\n",
       "      <td>0</td>\n",
       "    </tr>\n",
       "  </tbody>\n",
       "</table>\n",
       "</div>"
      ],
      "text/plain": [
       "                                tid            datetime            cc_num  \\\n",
       "0  11df919988c134d97bbff2678eb68e22 2022-01-01 00:00:24  4473593503484549   \n",
       "1  dd0b2d6d4266ccd3bf05bc2ea91cf180 2022-01-01 00:00:56  4272465718946864   \n",
       "2  e627f5d9a9739833bd52d2da51761fc3 2022-01-01 00:02:32  4104216579248948   \n",
       "\n",
       "             category  amount  latitude  longitude            city country  \\\n",
       "0       Health/Beauty   62.95  42.30865  -83.48216          Canton      US   \n",
       "1             Grocery   85.45  33.52253 -117.70755   Laguna Niguel      US   \n",
       "2  Domestic Transport   21.63  37.60876  -77.37331  Mechanicsville      US   \n",
       "\n",
       "   fraud_label  \n",
       "0            0  \n",
       "1            0  \n",
       "2            0  "
      ]
     },
     "execution_count": 3,
     "metadata": {},
     "output_type": "execute_result"
    }
   ],
   "source": [
    "trans_df = pd.read_csv(\"https://repo.hops.works/master/hopsworks-tutorials/data/card_fraud_online/transactions.csv\", parse_dates=[\"datetime\"])\n",
    "trans_df.head(3)"
   ]
  },
  {
   "cell_type": "code",
   "execution_count": 4,
   "id": "12d3cbad",
   "metadata": {},
   "outputs": [],
   "source": [
    "trans_df = trans_df[trans_df.category == \"Cash Withdrawal\"].reset_index(level=0, drop=True)\n",
    "trans_df[\"country\"] = trans_df[\"country\"].fillna(\"US\")\n",
    "profiles_df = profiles_df[profiles_df.cc_num.isin(trans_df.cc_num.unique())].reset_index(level=0, drop=True)"
   ]
  },
  {
   "cell_type": "code",
   "execution_count": 5,
   "id": "760474d0",
   "metadata": {},
   "outputs": [],
   "source": [
    "trans_df.sort_values([\"datetime\",\"cc_num\"], inplace=True)"
   ]
  },
  {
   "cell_type": "markdown",
   "id": "ba7c4bf3",
   "metadata": {},
   "source": [
    "## <span style=\"color:#ff5f27;\"> 🛠️ Feature Engineering </span>\n",
    "\n",
    "Fraudulent transactions can differ from regular ones in many different ways. Typical red flags would for instance be a large transaction volume/frequency in the span of a few hours. It could also be the case that elderly people in particular are targeted by fraudsters. To facilitate model learning we will create additional features based on these patterns. In particular, we will create two types of features:\n",
    "1. **Features that aggregate data from different data sources**. This could for instance be the age of a customer at the time of a transaction, which combines the `birthdate` feature from `profiles.csv` with the `datetime` feature from `transactions.csv`.\n",
    "2. **Features that aggregate data from multiple time steps**. An example of this could be the transaction frequency of a credit card in the span of a few hours, which is computed using a window function.\n",
    "\n",
    "Let's start with the first category."
   ]
  },
  {
   "cell_type": "markdown",
   "id": "9e2c6655",
   "metadata": {},
   "source": [
    "Now you are ready to start by computing the distance between consecutive transactions, which we will call `loc_delta`.\n",
    "Here we use the [Haversine distance](https://scikit-learn.org/stable/modules/generated/sklearn.metrics.pairwise.haversine_distances.html?highlight=haversine#sklearn.metrics.pairwise.haversine_distances) to quantify the distance between two longitude and latitude coordinates."
   ]
  },
  {
   "cell_type": "code",
   "execution_count": 6,
   "id": "37175c57",
   "metadata": {},
   "outputs": [],
   "source": [
    "from math import radians\n",
    "\n",
    "# Feature engineering.\n",
    "trans_df.sort_values(\"datetime\", inplace=True)\n",
    "trans_df[[\"longitude\", \"latitude\"]] = trans_df[[\"longitude\", \"latitude\"]].applymap(radians)\n",
    "\n",
    "def haversine(long, lat, shift):\n",
    "    \"\"\"Compute Haversine distance between each consecutive coordinate in (long, lat).\"\"\"\n",
    "\n",
    "    long_shifted = long.shift(shift)\n",
    "    lat_shifted = lat.shift(shift)\n",
    "    long_diff = long_shifted - long\n",
    "    lat_diff = lat_shifted - lat\n",
    "\n",
    "    a = np.sin(lat_diff/2.0)**2\n",
    "    b = np.cos(lat) * np.cos(lat_shifted) * np.sin(long_diff/2.0)**2\n",
    "    c = 2*np.arcsin(np.sqrt(a + b))\n",
    "\n",
    "    return c\n",
    "\n",
    "def time_delta(datetime_value, shift):\n",
    "    \"\"\"Compute time difference between each consecutive transaction.\"\"\"\n",
    "\n",
    "    time_shifted = datetime_value.shift(shift)\n",
    "    return time_shifted\n",
    "\n",
    "trans_df[\"loc_delta_t_plus_1\"] = trans_df.groupby(\"cc_num\")\\\n",
    "    .apply(lambda x : haversine(x[\"longitude\"], x[\"latitude\"], 1))\\\n",
    "    .reset_index(level=0, drop=True)\\\n",
    "    .fillna(0)\n",
    "\n",
    "trans_df[\"loc_delta_t_minus_1\"] = trans_df.groupby(\"cc_num\")\\\n",
    "    .apply(lambda x : haversine(x[\"longitude\"], x[\"latitude\"], -1))\\\n",
    "    .reset_index(level=0, drop=True)\\\n",
    "    .fillna(0)\n",
    "\n",
    "trans_df[\"time_delta_t_plus_1\"] = trans_df.groupby(\"cc_num\")\\\n",
    "    .apply(lambda x : time_delta(x[\"datetime\"], 1 ))\\\n",
    "    .reset_index(level=0, drop=True)\n",
    "\n",
    "trans_df[\"time_delta_t_minus_1\"] = trans_df.groupby(\"cc_num\")\\\n",
    "    .apply(lambda x : time_delta(x[\"datetime\"],  -1))\\\n",
    "    .reset_index(level=0, drop=True)\n",
    "\n",
    "trans_df[\"time_delta_t_plus_1\"] = (trans_df.datetime - trans_df.time_delta_t_plus_1 )/ np.timedelta64(1, 'D')\n",
    "trans_df[\"time_delta_t_minus_1\"] = (trans_df.time_delta_t_minus_1 - trans_df.datetime )/ np.timedelta64(1, 'D')\n",
    "trans_df[\"time_delta_t_plus_1\"] = trans_df.time_delta_t_plus_1.fillna(0)\n",
    "trans_df[\"time_delta_t_minus_1\"] = trans_df.time_delta_t_minus_1.fillna(0)  "
   ]
  },
  {
   "cell_type": "code",
   "execution_count": 7,
   "id": "bc950ca7",
   "metadata": {},
   "outputs": [],
   "source": [
    "trans_df = trans_df[[\"tid\",\"datetime\",\"cc_num\",\"category\",\"amount\",\"city\",\"country\",\"fraud_label\",\"loc_delta_t_plus_1\", \"loc_delta_t_minus_1\", \"time_delta_t_plus_1\", \"time_delta_t_minus_1\"]]"
   ]
  },
  {
   "cell_type": "code",
   "execution_count": 8,
   "id": "1db5ae6a",
   "metadata": {},
   "outputs": [
    {
     "data": {
      "text/html": [
       "<div>\n",
       "<style scoped>\n",
       "    .dataframe tbody tr th:only-of-type {\n",
       "        vertical-align: middle;\n",
       "    }\n",
       "\n",
       "    .dataframe tbody tr th {\n",
       "        vertical-align: top;\n",
       "    }\n",
       "\n",
       "    .dataframe thead th {\n",
       "        text-align: right;\n",
       "    }\n",
       "</style>\n",
       "<table border=\"1\" class=\"dataframe\">\n",
       "  <thead>\n",
       "    <tr style=\"text-align: right;\">\n",
       "      <th></th>\n",
       "      <th>tid</th>\n",
       "      <th>datetime</th>\n",
       "      <th>cc_num</th>\n",
       "      <th>category</th>\n",
       "      <th>amount</th>\n",
       "      <th>city</th>\n",
       "      <th>country</th>\n",
       "      <th>fraud_label</th>\n",
       "      <th>loc_delta_t_plus_1</th>\n",
       "      <th>loc_delta_t_minus_1</th>\n",
       "      <th>time_delta_t_plus_1</th>\n",
       "      <th>time_delta_t_minus_1</th>\n",
       "    </tr>\n",
       "  </thead>\n",
       "  <tbody>\n",
       "    <tr>\n",
       "      <th>169514</th>\n",
       "      <td>4c51b54665c7ddb466ea5936f4f3a428</td>\n",
       "      <td>1641024661000</td>\n",
       "      <td>4467360740682089</td>\n",
       "      <td>Cash Withdrawal</td>\n",
       "      <td>77.77</td>\n",
       "      <td>Norco</td>\n",
       "      <td>US</td>\n",
       "      <td>0</td>\n",
       "      <td>0.0</td>\n",
       "      <td>0.000148</td>\n",
       "      <td>0.0</td>\n",
       "      <td>0.333333</td>\n",
       "    </tr>\n",
       "    <tr>\n",
       "      <th>167022</th>\n",
       "      <td>4c30185aea2e28e7d9797004710e13c6</td>\n",
       "      <td>1641031422000</td>\n",
       "      <td>4700702588013561</td>\n",
       "      <td>Cash Withdrawal</td>\n",
       "      <td>781.27</td>\n",
       "      <td>Jackson</td>\n",
       "      <td>US</td>\n",
       "      <td>0</td>\n",
       "      <td>0.0</td>\n",
       "      <td>0.000070</td>\n",
       "      <td>0.0</td>\n",
       "      <td>0.416667</td>\n",
       "    </tr>\n",
       "    <tr>\n",
       "      <th>60585</th>\n",
       "      <td>1a109febabc5c36409f2caf729e110d3</td>\n",
       "      <td>1641031739000</td>\n",
       "      <td>4205094877256105</td>\n",
       "      <td>Cash Withdrawal</td>\n",
       "      <td>36.25</td>\n",
       "      <td>Bothell</td>\n",
       "      <td>US</td>\n",
       "      <td>0</td>\n",
       "      <td>0.0</td>\n",
       "      <td>0.000108</td>\n",
       "      <td>0.0</td>\n",
       "      <td>0.333333</td>\n",
       "    </tr>\n",
       "    <tr>\n",
       "      <th>249651</th>\n",
       "      <td>855eb0f8e7fdb85e9b63c60028ce1d53</td>\n",
       "      <td>1641033294000</td>\n",
       "      <td>4918033532626920</td>\n",
       "      <td>Cash Withdrawal</td>\n",
       "      <td>93.05</td>\n",
       "      <td>Brighton Beach</td>\n",
       "      <td>US</td>\n",
       "      <td>0</td>\n",
       "      <td>0.0</td>\n",
       "      <td>0.000032</td>\n",
       "      <td>0.0</td>\n",
       "      <td>0.250000</td>\n",
       "    </tr>\n",
       "    <tr>\n",
       "      <th>203481</th>\n",
       "      <td>b0214ee4d61696adf1149dbaf61fcf2f</td>\n",
       "      <td>1641040494000</td>\n",
       "      <td>4166420904624170</td>\n",
       "      <td>Cash Withdrawal</td>\n",
       "      <td>2.46</td>\n",
       "      <td>Iron River</td>\n",
       "      <td>US</td>\n",
       "      <td>0</td>\n",
       "      <td>0.0</td>\n",
       "      <td>0.000135</td>\n",
       "      <td>0.0</td>\n",
       "      <td>0.250000</td>\n",
       "    </tr>\n",
       "  </tbody>\n",
       "</table>\n",
       "</div>"
      ],
      "text/plain": [
       "                                     tid       datetime            cc_num  \\\n",
       "169514  4c51b54665c7ddb466ea5936f4f3a428  1641024661000  4467360740682089   \n",
       "167022  4c30185aea2e28e7d9797004710e13c6  1641031422000  4700702588013561   \n",
       "60585   1a109febabc5c36409f2caf729e110d3  1641031739000  4205094877256105   \n",
       "249651  855eb0f8e7fdb85e9b63c60028ce1d53  1641033294000  4918033532626920   \n",
       "203481  b0214ee4d61696adf1149dbaf61fcf2f  1641040494000  4166420904624170   \n",
       "\n",
       "               category  amount            city country  fraud_label  \\\n",
       "169514  Cash Withdrawal   77.77           Norco      US            0   \n",
       "167022  Cash Withdrawal  781.27         Jackson      US            0   \n",
       "60585   Cash Withdrawal   36.25         Bothell      US            0   \n",
       "249651  Cash Withdrawal   93.05  Brighton Beach      US            0   \n",
       "203481  Cash Withdrawal    2.46      Iron River      US            0   \n",
       "\n",
       "        loc_delta_t_plus_1  loc_delta_t_minus_1  time_delta_t_plus_1  \\\n",
       "169514                 0.0             0.000148                  0.0   \n",
       "167022                 0.0             0.000070                  0.0   \n",
       "60585                  0.0             0.000108                  0.0   \n",
       "249651                 0.0             0.000032                  0.0   \n",
       "203481                 0.0             0.000135                  0.0   \n",
       "\n",
       "        time_delta_t_minus_1  \n",
       "169514              0.333333  \n",
       "167022              0.416667  \n",
       "60585               0.333333  \n",
       "249651              0.250000  \n",
       "203481              0.250000  "
      ]
     },
     "execution_count": 8,
     "metadata": {},
     "output_type": "execute_result"
    }
   ],
   "source": [
    "trans_df.datetime = trans_df.datetime.values.astype(np.int64) // 10 ** 6\n",
    "trans_df.head()"
   ]
  },
  {
   "cell_type": "markdown",
   "id": "de3b94da",
   "metadata": {},
   "source": [
    "## <span style=\"color:#ff5f27;\"> 🪄 Creating Feature Groups </span>\n",
    "\n",
    "A [feature group](https://docs.hopsworks.ai/feature-store-api/latest/generated/feature_group/) can be seen as a collection of conceptually related features. In our case, we will create a feature group for the transaction data and a feature group for the windowed aggregations on the transaction data. Both will have `tid` as primary key, which will allow us to join them when creating a dataset in the next tutorial.\n",
    "\n",
    "Feature groups can also be used to define a namespace for features. For instance, in a real-life setting we would likely want to experiment with different window lengths. In that case, we can create feature groups with identical schema for each window length. \n",
    "\n",
    "Before you can create a feature group you need to connect to our feature store."
   ]
  },
  {
   "cell_type": "code",
   "execution_count": 9,
   "id": "08304a89",
   "metadata": {},
   "outputs": [
    {
     "name": "stdout",
     "output_type": "stream",
     "text": [
      "Connected. Call `.close()` to terminate connection gracefully.\n",
      "\n",
      "Logged in to project, explore it here https://c.app.hopsworks.ai:443/p/146\n"
     ]
    },
    {
     "name": "stderr",
     "output_type": "stream",
     "text": [
      "DeprecationWarning: the imp module is deprecated in favour of importlib; see the module's documentation for alternative uses\n"
     ]
    },
    {
     "name": "stdout",
     "output_type": "stream",
     "text": [
      "Connected. Call `.close()` to terminate connection gracefully.\n"
     ]
    }
   ],
   "source": [
    "import hopsworks\n",
    "\n",
    "project = hopsworks.login()\n",
    "\n",
    "fs = project.get_feature_store()"
   ]
  },
  {
   "cell_type": "markdown",
   "id": "47c5dfb4",
   "metadata": {},
   "source": [
    "To create a feature group we need to give it a name and specify a primary key. It is also good to provide a description of the contents of the feature group and a version number, if it is not defined it will automatically be incremented to `1`."
   ]
  },
  {
   "cell_type": "code",
   "execution_count": 10,
   "id": "538b87d1",
   "metadata": {},
   "outputs": [],
   "source": [
    "trans_fg = fs.get_or_create_feature_group(\n",
    "    name=\"transactions_fraud_online_fg\",\n",
    "    version=1,\n",
    "    description=\"Transaction data\",\n",
    "    primary_key=['cc_num'],\n",
    "    event_time=['datetime'],\n",
    "    online_enabled=True\n",
    ")\n"
   ]
  },
  {
   "cell_type": "markdown",
   "id": "974a9420",
   "metadata": {},
   "source": [
    "Here you have also set `online_enabled=True`, which enables low latency access to the data. A full list of arguments can be found in the [documentation](https://docs.hopsworks.ai/feature-store-api/latest/generated/api/feature_store_api/#create_feature_group).\n",
    "\n",
    "At this point, you have only specified some metadata for the feature group. It does not store any data or even have a schema defined for the data. To make the feature group persistent you need to populate it with its associated data using the `insert` function."
   ]
  },
  {
   "cell_type": "code",
   "execution_count": 11,
   "id": "17d31fc3",
   "metadata": {},
   "outputs": [
    {
     "name": "stdout",
     "output_type": "stream",
     "text": [
      "Feature Group created successfully, explore it at \n",
      "https://c.app.hopsworks.ai:443/p/146/fs/88/fg/302\n",
      "Launching offline feature group backfill job...\n",
      "Backfill Job started successfully, you can follow the progress at \n",
      "https://c.app.hopsworks.ai/p/146/jobs/named/transactions_fraud_online_fg_1_offline_fg_backfill/executions\n"
     ]
    },
    {
     "data": {
      "text/plain": [
       "(<hsfs.core.job.Job at 0x7f824cb52fa0>, None)"
      ]
     },
     "execution_count": 11,
     "metadata": {},
     "output_type": "execute_result"
    }
   ],
   "source": [
    "trans_fg.insert(trans_df)"
   ]
  },
  {
   "cell_type": "code",
   "execution_count": 12,
   "id": "e377c3c1",
   "metadata": {},
   "outputs": [],
   "source": [
    "feature_descriptions = [\n",
    "    {\"name\": \"tid\", \"description\": \"Transaction id\"},\n",
    "    {\"name\": \"datetime\", \"description\": \"Transaction time\"},\n",
    "    {\"name\": \"cc_num\", \"description\": \"Number of the credit card performing the transaction\"},\n",
    "    {\"name\": \"category\", \"description\": \"Expense category\"},\n",
    "    {\"name\": \"amount\", \"description\": \"Dollar amount of the transaction\"},\n",
    "    {\"name\": \"city\", \"description\": \"City in which the transaction was made\"},\n",
    "    {\"name\": \"country\", \"description\": \"Country in which the transaction was made\"},\n",
    "    {\"name\": \"fraud_label\", \"description\": \"Whether the transaction was fraudulent or not\"},\n",
    "    {\"name\": \"loc_delta_t_plus_1\", \"description\": \"Location of consecutive transaction\"},\n",
    "    {\"name\": \"loc_delta_t_minus_1\", \"description\": \"Location of previous transaction\"},\n",
    "    {\"name\": \"time_delta_t_plus_1\", \"description\": \"Time of consecutive transaction\"},\n",
    "    {\"name\": \"time_delta_t_minus_1\", \"description\": \"Time of previous transaction\"},    \n",
    "]\n",
    "\n",
    "for desc in feature_descriptions: \n",
    "    trans_fg.update_feature_description(desc[\"name\"], desc[\"description\"])"
   ]
  },
  {
   "cell_type": "markdown",
   "id": "67de56f4",
   "metadata": {},
   "source": [
    "You can move on and do the same thing for the profile and label feature groups."
   ]
  },
  {
   "cell_type": "code",
   "execution_count": 13,
   "id": "d38becc7",
   "metadata": {},
   "outputs": [
    {
     "name": "stdout",
     "output_type": "stream",
     "text": [
      "Feature Group created successfully, explore it at \n",
      "https://c.app.hopsworks.ai:443/p/146/fs/88/fg/303\n",
      "Launching offline feature group backfill job...\n",
      "Backfill Job started successfully, you can follow the progress at \n",
      "https://c.app.hopsworks.ai/p/146/jobs/named/profile_fraud_online_fg_1_offline_fg_backfill/executions\n"
     ]
    },
    {
     "data": {
      "text/plain": [
       "(<hsfs.core.job.Job at 0x7f824ce76430>, None)"
      ]
     },
     "execution_count": 13,
     "metadata": {},
     "output_type": "execute_result"
    }
   ],
   "source": [
    "profile_fg = fs.get_or_create_feature_group(\n",
    "    name=\"profile_fraud_online_fg\",\n",
    "    version=1,\n",
    "    description=\"Credit card holder demographic data\",\n",
    "    primary_key=['cc_num'],\n",
    "    online_enabled=True\n",
    ")\n",
    "profile_fg.insert(profiles_df)"
   ]
  },
  {
   "cell_type": "code",
   "execution_count": 14,
   "id": "4a997322",
   "metadata": {},
   "outputs": [],
   "source": [
    "feature_descriptions = [\n",
    "    {\"name\": \"cc_num\", \"description\": \"Number of the credit card performing the transaction\"},\n",
    "    {\"name\": \"gender\", \"description\": \"Gender of the credit card holder\"},\n",
    "]\n",
    "\n",
    "for desc in feature_descriptions: \n",
    "    profile_fg.update_feature_description(desc[\"name\"], desc[\"description\"])"
   ]
  },
  {
   "cell_type": "markdown",
   "id": "e5d4f1d8",
   "metadata": {},
   "source": [
    "Click on the hyperlink printed in the cell output above to inspect your feature group in the UI.\n",
    "\n",
    "![fg-overview](../images/fg_overview.gif)"
   ]
  },
  {
   "cell_type": "markdown",
   "id": "bbfdba68",
   "metadata": {},
   "source": [
    "## <span style=\"color:#ff5f27;\"> 👓  Exploration</span>\n",
    "In the Hopsworks feature store, the metadata allows for multiple levels of explorations and review. Here we will show a few of those capacities. \n",
    "\n",
    "### 🔎 <b>Search</b> \n",
    "Using the search function in the ui, you can query any aspect of the feature groups, feature_view and training data that was previously created.\n",
    "\n",
    "### 📊 <b>Statistics</b> \n",
    "You can also enable statistics in the feature groups."
   ]
  },
  {
   "cell_type": "code",
   "execution_count": 15,
   "id": "9718b9d1",
   "metadata": {},
   "outputs": [
    {
     "name": "stdout",
     "output_type": "stream",
     "text": [
      "Statistics Job started successfully, you can follow the progress at \n",
      "https://c.app.hopsworks.ai/p/146/jobs/named/transactions_fraud_online_fg_1_compute_stats_18072022125939/executions\n"
     ]
    }
   ],
   "source": [
    "trans_fg = fs.get_feature_group(\"transactions_fraud_online_fg\", version = 1)\n",
    "trans_fg.statistics_config = {\n",
    "    \"enabled\": True,\n",
    "    \"histograms\": True,\n",
    "    \"correlations\": True\n",
    "}\n",
    "\n",
    "trans_fg.update_statistics_config()\n",
    "trans_fg.compute_statistics()"
   ]
  },
  {
   "cell_type": "markdown",
   "id": "ce437742",
   "metadata": {},
   "source": [
    "## <span style=\"color:#ff5f27;\">⏭️ **Next:** Part 02 </span>\n",
    "\n",
    "In the following notebook you will use our feature groups to create a dataset you can train a model on."
   ]
  }
 ],
 "metadata": {
  "interpreter": {
   "hash": "e1ddeae6eefc765c17da80d38ea59b893ab18c0c0904077a035ef84cfe367f83"
  },
  "kernelspec": {
   "display_name": "Python 3 (ipykernel)",
   "language": "python",
   "name": "python3"
  },
  "language_info": {
   "codemirror_mode": {
    "name": "ipython",
    "version": 3
   },
   "file_extension": ".py",
   "mimetype": "text/x-python",
   "name": "python",
   "nbconvert_exporter": "python",
   "pygments_lexer": "ipython3",
   "version": "3.8.13"
  }
 },
 "nbformat": 4,
 "nbformat_minor": 5
}
