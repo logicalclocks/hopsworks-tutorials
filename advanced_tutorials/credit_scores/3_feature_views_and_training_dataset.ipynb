{
 "cells": [
  {
   "cell_type": "markdown",
   "id": "f6faa1a5",
   "metadata": {},
   "source": [
    "# <span style=\"font-width:bold; font-size: 3rem; color:#1EB182;\"><img src=\"../../images/icon102.png\" width=\"38px\"></img> **Hopsworks Feature Store** </span><span style=\"font-width:bold; font-size: 3rem; color:#333;\">- Part 03: Training Data & Feature views</span>\n",
    "\n",
    "[![Open In Colab](https://colab.research.google.com/assets/colab-badge.svg)](https://colab.research.google.com/github/logicalclocks/hopsworks-tutorials/blob/master/advanced_tutorials/{project_name}/{notebook_name}.ipynb)\n",
    "\n",
    "<span style=\"font-width:bold; font-size: 1.4rem;\">This notebook explains how to read from a feature group and create training dataset within the feature store</span>\n",
    "\n",
    "## 🗒️ This notebook is divided into the following sections:\n",
    "\n",
    "1. Fetch Feature Groups\n",
    "2. Define Transformation functions\n",
    "4. Create Feature Views\n",
    "5. Create Training Dataset with training, validation and test splits\n",
    "\n",
    "![part2](../../images/02_training-dataset.png) "
   ]
  },
  {
   "cell_type": "markdown",
   "id": "03e77b30",
   "metadata": {},
   "source": [
    "## <span style=\"color:#ff5f27;\"> 🔮 Connecting to Hopsworks Feature Store </span>"
   ]
  },
  {
   "cell_type": "code",
   "execution_count": null,
   "id": "e9a08efc",
   "metadata": {},
   "outputs": [],
   "source": [
    "import hopsworks\n",
    "\n",
    "project = hopsworks.login()\n",
    "\n",
    "fs = project.get_feature_store() "
   ]
  },
  {
   "cell_type": "markdown",
   "id": "77cc80ac",
   "metadata": {},
   "source": [
    "## <span style=\"color:#ff5f27;\">🪄 Retrieving Feature Groups</span>"
   ]
  },
  {
   "cell_type": "code",
   "execution_count": null,
   "id": "24d51eae",
   "metadata": {},
   "outputs": [],
   "source": [
    "application_train_fg = fs.get_or_create_feature_group(\n",
    "    name = 'application_train',\n",
    "    version = 1\n",
    ")\n",
    "\n",
    "bureau_balance_fg = fs.get_or_create_feature_group(\n",
    "    name = 'bureau_balance',\n",
    "    version = 1\n",
    ")\n",
    "\n",
    "bureau_fg = fs.get_or_create_feature_group(\n",
    "    name = 'bureau',\n",
    "    version = 1\n",
    ")\n",
    "\n",
    "previous_application_fg = fs.get_or_create_feature_group(\n",
    "    name = 'previous_application',\n",
    "    version = 1\n",
    ")\n",
    "\n",
    "pos_cash_balance_fg = fs.get_or_create_feature_group(\n",
    "    name = 'pos_cash_balance',\n",
    "    version = 1\n",
    ")\n",
    "\n",
    "installments_payments_fg = fs.get_or_create_feature_group(\n",
    "    name = 'installments_payments',\n",
    "    version = 1\n",
    ")\n",
    "\n",
    "credit_card_balance_fg = fs.get_or_create_feature_group(\n",
    "    name = 'credit_card_balance',\n",
    "    version = 1\n",
    ")\n",
    "\n",
    "previous_loan_counts_fg = fs.get_or_create_feature_group(\n",
    "    name = 'previous_loan_counts',\n",
    "    version = 1\n",
    ")"
   ]
  },
  {
   "cell_type": "markdown",
   "id": "430d76a5",
   "metadata": {},
   "source": [
    "---\n",
    "\n",
    "## <span style=\"color:#ff5f27;\">🕵🏻‍♂️ Feature Groups Investigation</span>\n",
    "\n",
    "We can use `FeatureGroup.show()` method to select top n rows. \n",
    "\n",
    "Also we use method `FeatureGroup.read()` in order **to aggregate queries**, which are the output of next methods:\n",
    "\n",
    "- `FeatureGroup.get_feture()` to get specific feature from our Feature Group.\n",
    "\n",
    "- `FeatureGroup.select()` to get a few features from our Feature Group.\n",
    "\n",
    "- `FeatureGroup.select_all()` to get all features from our Feature Group.\n",
    "\n",
    "- `FeatureGroup.select_except()` to get all features except a few from our Feature Group.\n",
    "\n",
    "- `FeatureGroup.filter()` in order to apply specific filter to the feature group."
   ]
  },
  {
   "cell_type": "code",
   "execution_count": null,
   "id": "5500cd61",
   "metadata": {},
   "outputs": [],
   "source": [
    "application_train_fg"
   ]
  },
  {
   "cell_type": "code",
   "execution_count": null,
   "id": "d48a0503",
   "metadata": {},
   "outputs": [],
   "source": [
    "application_train_fg.select_all()"
   ]
  },
  {
   "cell_type": "code",
   "execution_count": null,
   "id": "545e24ae",
   "metadata": {},
   "outputs": [],
   "source": [
    "application_train_fg.read().head()"
   ]
  },
  {
   "cell_type": "markdown",
   "id": "33bc6643",
   "metadata": {},
   "source": [
    "---\n",
    "\n",
    "## <span style=\"color:#ff5f27;\"> 💼 Query Preparation</span>"
   ]
  },
  {
   "cell_type": "code",
   "execution_count": null,
   "id": "24ca5402",
   "metadata": {},
   "outputs": [],
   "source": [
    "fg_query = bureau_fg.select_except(['sk_id_curr','sk_id_bureau'])\\\n",
    "                    .join(application_train_fg.select_except(['sk_id_curr','flag_mobil',*[f'flag_document_{num}' for num in [2,4,7,10,12,14,17,19,20,21]],'amt_credit', 'weekday_appr_process_start', 'hour_appr_process_start']))\\\n",
    "                    .join(bureau_balance_fg.select_except(['sk_id_bureau','months_balance']))\\\n",
    "                    .join(previous_application_fg.select_except(['sk_id_prev','sk_id_curr','name_contract_type','name_contract_status']))\\\n",
    "                    .join(pos_cash_balance_fg.select_except(['sk_id_prev','sk_id_curr','months_balance', 'name_contract_status', 'sk_dpd', 'sk_dpd_def']))\\\n",
    "                    .join(installments_payments_fg.select_except(['sk_id_prev','sk_id_curr']))\\\n",
    "                    .join(credit_card_balance_fg.select_except(['sk_id_prev','sk_id_curr']))\\\n",
    "                    .join(previous_loan_counts_fg.select_except('sk_id_curr'))\n",
    "\n",
    "fg_query_show5 = fg_query.show(5)\n",
    "fg_query_show5"
   ]
  },
  {
   "cell_type": "markdown",
   "id": "5819158e",
   "metadata": {},
   "source": [
    "---\n",
    "\n",
    "## <span style=\"color:#ff5f27;\">🤖 Transformation functions</span>\n",
    "\n",
    "Hopsworks Feature Store provides functionality to attach transformation functions to training datasets.\n",
    "\n",
    "Hopsworks Feature Store also comes with built-in transformation functions such as `min_max_scaler`, `standard_scaler`, `robust_scaler` and `label_encoder`."
   ]
  },
  {
   "cell_type": "code",
   "execution_count": null,
   "id": "76eb6d2f",
   "metadata": {},
   "outputs": [],
   "source": [
    "[t_func.name for t_func in fs.get_transformation_functions()]"
   ]
  },
  {
   "cell_type": "markdown",
   "id": "a7469f73",
   "metadata": {},
   "source": [
    "We can retrieve transformation function we need .\n",
    "\n",
    "To attach transformation function to training dataset provide transformation functions as dict, where key is feature name and value is online transformation function name.\n",
    "\n",
    "Also training dataset must be created from the Query object. Once attached transformation function will be applied on whenever save, insert and get_serving_vector methods are called on training dataset object."
   ]
  },
  {
   "cell_type": "code",
   "execution_count": null,
   "id": "d597ceac",
   "metadata": {},
   "outputs": [],
   "source": [
    "cat_cols = fg_query_show5.dtypes[fg_query_show5.dtypes == 'object'].index\n",
    "num_cols = fg_query_show5.dtypes[fg_query_show5.dtypes != 'object'].index\n",
    "\n",
    "mapping_transformer = {col:fs.get_transformation_function(name='label_encoder') for col in cat_cols}\n",
    "mapping_transformer.update({col:fs.get_transformation_function(name='standard_scaler') for col in num_cols if col !='target'})"
   ]
  },
  {
   "cell_type": "markdown",
   "id": "cca1038a",
   "metadata": {},
   "source": [
    "---\n",
    "\n",
    "## <span style=\"color:#ff5f27;\"> ⚙️ Feature View Creation </span>\n",
    "\n",
    "`Feature Views` stands between **Feature Groups** and **Training Dataset**. Сombining **Feature Groups** we can create **Feature Views** which store a metadata of our data. Having **Feature Views** we can create **Training Dataset**.\n",
    "\n",
    "The Feature Views allows schema in form of a query with filters, define a model target feature/label and additional transformation functions.\n",
    "\n",
    "In order to create Feature View we can use `FeatureStore.create_feature_view()` method.\n",
    "\n",
    "We can specify next parameters:\n",
    "\n",
    "- `name` - name of a feature group.\n",
    "\n",
    "- `version` - version of a feature group.\n",
    "\n",
    "- `labels`- out target variable.\n",
    "\n",
    "- `transformation_functions` - functions to transform our features.\n",
    "\n",
    "- `query` - query object with data."
   ]
  },
  {
   "cell_type": "code",
   "execution_count": null,
   "id": "e08a1055",
   "metadata": {},
   "outputs": [],
   "source": [
    "feature_view = fs.create_feature_view(\n",
    "    name = 'credit_scores',\n",
    "    version = 1,\n",
    "    labels = ['target'],\n",
    "    transformation_functions = mapping_transformer,\n",
    "    query = fg_query\n",
    ")"
   ]
  },
  {
   "cell_type": "markdown",
   "id": "8c4bb0c3",
   "metadata": {},
   "source": [
    "For now `Feature View` is saved in Hopsworks and we can retrieve it using `FeatureStore.get_feature_view()`."
   ]
  },
  {
   "cell_type": "code",
   "execution_count": null,
   "id": "2f139e19",
   "metadata": {},
   "outputs": [],
   "source": [
    "feature_view = fs.get_feature_view(\n",
    "    name = 'credit_scores',\n",
    "    version = 1\n",
    ")"
   ]
  },
  {
   "cell_type": "markdown",
   "id": "79a9c5a0",
   "metadata": {},
   "source": [
    "---\n",
    "\n",
    "## <span style=\"color:#ff5f27;\"> 🏋️ Training Dataset Creation</span>\n",
    "\n",
    "In Hopsworks training data is a query where the projection (set of features) is determined by the parent **FeatureView** with an optional snapshot on disk of the data returned by the query.\n",
    "\n",
    "**Training Dataset  may contain splits such as:** \n",
    "* Training set - the subset of training data used to train a model.\n",
    "* Validation set - the subset of training data used to evaluate hparams when training a model\n",
    "* Test set - the holdout subset of training data used to evaluate a mode\n",
    "\n",
    "Here are some importand things:\n",
    "\n",
    "- It will inherit the name of FeatureView.\n",
    "\n",
    "- The feature store currently supports the following data formats for\n",
    "training datasets: **tfrecord, csv, tsv, parquet, avro, orc**.\n",
    "\n",
    "- We can choose necessary format using **data_format** parameter.\n",
    "\n",
    "- **start_time** and **end_time** in order to filter dataset in specific time range."
   ]
  },
  {
   "cell_type": "code",
   "execution_count": null,
   "id": "8e8e9521",
   "metadata": {},
   "outputs": [],
   "source": [
    "feature_view.create_train_test_split(\n",
    "    test_size = 0.2\n",
    ")"
   ]
  },
  {
   "cell_type": "markdown",
   "id": "7a1d157e",
   "metadata": {},
   "source": [
    "---\n",
    "\n",
    "## <span style=\"color:#ff5f27;\">⏭️ **Next:** Part 04 </span>\n",
    "\n",
    "In the following notebook, we will train a model on the dataset we created in this notebook."
   ]
  }
 ],
 "metadata": {
  "kernelspec": {
   "display_name": "Python 3 (ipykernel)",
   "language": "python",
   "name": "python3"
  },
  "language_info": {
   "codemirror_mode": {
    "name": "ipython",
    "version": 3
   },
   "file_extension": ".py",
   "mimetype": "text/x-python",
   "name": "python",
   "nbconvert_exporter": "python",
   "pygments_lexer": "ipython3",
   "version": "3.9.12"
  }
 },
 "nbformat": 4,
 "nbformat_minor": 5
}
