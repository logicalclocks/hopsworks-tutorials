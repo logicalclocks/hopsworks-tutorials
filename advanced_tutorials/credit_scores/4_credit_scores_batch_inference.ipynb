{
 "cells": [
  {
   "cell_type": "markdown",
   "id": "9a7e8c3f",
   "metadata": {},
   "source": [
    "# <span style=\"font-width:bold; font-size: 3rem; color:#1EB182;\"><img src=\"../images/icon102.png\" width=\"38px\"></img> **Hopsworks Feature Store** </span><span style=\"font-width:bold; font-size: 3rem; color:#333;\">- Part 04: Batch Inference</span>\n",
    "\n",
    "\n",
    "## 🗒️ This notebook is divided into the following sections:\n",
    "\n",
    "1. Load batch data.\n",
    "2. Predict using model from Model Registry."
   ]
  },
  {
   "cell_type": "markdown",
   "id": "6406a5b4",
   "metadata": {},
   "source": [
    "## <span style='color:#ff5f27'> 📝 Imports"
   ]
  },
  {
   "cell_type": "code",
   "execution_count": null,
   "id": "e85d7fa1",
   "metadata": {},
   "outputs": [],
   "source": [
    "from xgboost import XGBClassifier"
   ]
  },
  {
   "cell_type": "markdown",
   "id": "63a37311",
   "metadata": {},
   "source": [
    "## <span style=\"color:#ff5f27;\"> 📡 Connecting to Hopsworks Feature Store </span>"
   ]
  },
  {
   "cell_type": "code",
   "execution_count": null,
   "id": "1d91074e",
   "metadata": {},
   "outputs": [],
   "source": [
    "import hopsworks\n",
    "\n",
    "project = hopsworks.login()\n",
    "\n",
    "fs = project.get_feature_store()"
   ]
  },
  {
   "cell_type": "markdown",
   "id": "895e78b9",
   "metadata": {},
   "source": [
    "## <span style=\"color:#ff5f27;\"> ⚙️ Feature View Retrieval</span>\n"
   ]
  },
  {
   "cell_type": "code",
   "execution_count": null,
   "id": "0add3c12",
   "metadata": {},
   "outputs": [],
   "source": [
    "# Retrieve the 'credit_scores' feature view\n",
    "feature_view = fs.get_feature_view(\n",
    "    name='credit_scores',\n",
    "    version=1,\n",
    ")"
   ]
  },
  {
   "cell_type": "markdown",
   "id": "e9dbf027",
   "metadata": {},
   "source": [
    "## <span style=\"color:#ff5f27;\">🗄 Model Registry</span>\n"
   ]
  },
  {
   "cell_type": "code",
   "execution_count": null,
   "id": "a3a14916",
   "metadata": {},
   "outputs": [],
   "source": [
    "# Retrieve the model registry\n",
    "mr = project.get_model_registry()"
   ]
  },
  {
   "cell_type": "markdown",
   "id": "9073c8dc",
   "metadata": {},
   "source": [
    "## <span style=\"color:#ff5f27;\"> 📮 Retrieving model from Model Registry </span>"
   ]
  },
  {
   "cell_type": "code",
   "execution_count": null,
   "id": "63b4b803",
   "metadata": {},
   "outputs": [],
   "source": [
    "# Retrieving the 'credit_scores_model' from the model registry\n",
    "retrieved_model = mr.get_model(\n",
    "    name=\"credit_scores_model\",\n",
    "    version=1,\n",
    ")\n",
    "\n",
    "# Downloading the saved model artifacts to a local directory\n",
    "saved_model_dir = retrieved_model.download()"
   ]
  },
  {
   "cell_type": "code",
   "execution_count": null,
   "id": "3156cdfc",
   "metadata": {},
   "outputs": [],
   "source": [
    "# Initialize the model\n",
    "model = XGBClassifier()\n",
    "\n",
    "# Load the model from a saved JSON file\n",
    "model.load_model(saved_model_dir + \"/model.json\")\n",
    "model"
   ]
  },
  {
   "cell_type": "markdown",
   "id": "03492b0c",
   "metadata": {},
   "source": [
    "## <span style=\"color:#ff5f27;\"> 🤖 Making the predictions </span>"
   ]
  },
  {
   "cell_type": "markdown",
   "id": "8e610938",
   "metadata": {},
   "source": [
    "### <span style=\"color:#ff5f27;\"> ✨ Load Batch Data</span>"
   ]
  },
  {
   "cell_type": "code",
   "execution_count": null,
   "id": "93fe4ec8",
   "metadata": {},
   "outputs": [],
   "source": [
    "# Initializing batch scoring\n",
    "feature_view.init_batch_scoring(1)\n",
    "\n",
    "# Retrieving a batch of data from the feature view\n",
    "batch_data = feature_view.get_batch_data()\n",
    "\n",
    "# Displaying the first 3 rows of the batch data\n",
    "batch_data.head(3)"
   ]
  },
  {
   "cell_type": "code",
   "execution_count": null,
   "id": "2169cbdc",
   "metadata": {},
   "outputs": [],
   "source": [
    "# Making predictions on the batch data using the retrieved XGBoost model\n",
    "predictions = model.predict(batch_data)\n",
    "\n",
    "# Displaying the first 10 predictions\n",
    "predictions[:10]"
   ]
  },
  {
   "cell_type": "markdown",
   "id": "e7d371d5",
   "metadata": {},
   "source": [
    "---\n",
    "\n",
    "### <span style=\"color:#ff5f27;\">🥳 <b> Next Steps  </b> </span>\n",
    "Congratulations you've now completed the Credit Scores tutorial for Managed Hopsworks.\n",
    "\n",
    "Check out our other tutorials on ➡ https://github.com/logicalclocks/hopsworks-tutorials\n",
    "\n",
    "Or documentation at ➡ https://docs.hopsworks.ai"
   ]
  }
 ],
 "metadata": {
  "kernelspec": {
   "display_name": "Python 3",
   "language": "python",
   "name": "python3"
  },
  "language_info": {
   "codemirror_mode": {
    "name": "ipython",
    "version": 3
   },
   "file_extension": ".py",
   "mimetype": "text/x-python",
   "name": "python",
   "nbconvert_exporter": "python",
   "pygments_lexer": "ipython3",
   "version": "3.10.11"
  }
 },
 "nbformat": 4,
 "nbformat_minor": 5
}
