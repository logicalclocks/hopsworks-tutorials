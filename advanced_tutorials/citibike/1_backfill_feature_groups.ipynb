{
 "cells": [
  {
   "cell_type": "markdown",
   "id": "ccbbf2cc",
   "metadata": {
    "id": "ccbbf2cc"
   },
   "source": [
    "# <span style=\"font-width:bold; font-size: 3rem; color:#1EB182;\">**Hopsworks Feature Store** </span> <span style=\"font-width:bold; font-size: 3rem; color:#333;\">- Part 01: Backfill Features to the Feature Store</span>\n",
    "\n",
    "[![Open In Colab](https://colab.research.google.com/assets/colab-badge.svg)](https://colab.research.google.com/github/logicalclocks/hopsworks-tutorials/blob/master/advanced_tutorials/electricity/1_backfill_feature_groups.ipynb)\n",
    "\n",
    "**Note**: you may get an error when installing hopsworks on Colab, and it is safe to ignore it.\n",
    "\n",
    "This is the first part of the advanced series of tutorials about Hopsworks Feature Store. As part of this first module, you will work with data related to electricity prices and meteorological observations in Sweden. \n",
    "\n",
    "The objective of this tutorial is to demonstrate how to work with the **Hopworks Feature Store**  for batch data with a goal of training and deploying a model that can predict electricity prices in the future.\n",
    "\n",
    "## 🗒️ This notebook is divided in 3 sections:\n",
    "1. **Loading the data and feature engineeing**,\n",
    "2. **Connect to the Hopsworks feature store**,\n",
    "3. **Create feature groups and upload them to the feature store**."
   ]
  },
  {
   "cell_type": "markdown",
   "id": "akyCpdrP0GDH",
   "metadata": {
    "id": "akyCpdrP0GDH"
   },
   "source": [
    "### <span style='color:#ff5f27'> 📝 Imports"
   ]
  },
  {
   "cell_type": "code",
   "execution_count": 1,
   "id": "3b7015a0",
   "metadata": {
    "id": "3b7015a0"
   },
   "outputs": [
    {
     "name": "stderr",
     "output_type": "stream",
     "text": [
      "\n",
      "[notice] A new release of pip available: 22.2.2 -> 22.3\n",
      "[notice] To update, run: python.exe -m pip install --upgrade pip\n"
     ]
    }
   ],
   "source": [
    "!pip install -U hopsworks --quiet"
   ]
  },
  {
   "cell_type": "code",
   "execution_count": 2,
   "id": "c3fd23b4",
   "metadata": {
    "id": "c3fd23b4"
   },
   "outputs": [],
   "source": [
    "from datetime import timedelta, datetime\n",
    "import pandas as pd\n",
    "\n",
    "from pandas.tseries.holiday import USFederalHolidayCalendar\n",
    "\n",
    "from functions import *"
   ]
  },
  {
   "cell_type": "markdown",
   "id": "KVH8VU5g0JDP",
   "metadata": {
    "id": "KVH8VU5g0JDP"
   },
   "source": [
    "---"
   ]
  },
  {
   "cell_type": "markdown",
   "id": "285d06c9",
   "metadata": {
    "id": "285d06c9"
   },
   "source": [
    "## <span style=\"color:#ff5f27;\"> 🚲 Load the Citi Bike Trip Histories</span>\n",
    "\n",
    "Downloadable files of Citi Bike trip data are located [here](https://s3.amazonaws.com/tripdata/index.html). The data includes:\n",
    "\n",
    "    Ride ID\n",
    "    Rideable type\n",
    "    Started at\n",
    "    Ended at\n",
    "    Start station name\n",
    "    Start station ID\n",
    "    End station name\n",
    "    End station ID\n",
    "    Start latitude\n",
    "    Start longitude\n",
    "    End latitude\n",
    "    End Longitude\n",
    "    Member or casual ride\n",
    "\n"
   ]
  },
  {
   "cell_type": "markdown",
   "id": "0325d64d",
   "metadata": {},
   "source": [
    "Let's download some data and perform preprocessing (removal of redundant columns and data grouping)"
   ]
  },
  {
   "cell_type": "code",
   "execution_count": 3,
   "id": "14d53daa",
   "metadata": {},
   "outputs": [
    {
     "name": "stdout",
     "output_type": "stream",
     "text": [
      "_____ Processing 12/2021... _____\n",
      "Retrieving DataFrame from the existing csv file...💿\n",
      "_____ Processing 01/2022... _____\n",
      "Retrieving DataFrame from the existing csv file...💿\n"
     ]
    }
   ],
   "source": [
    "df = get_citibike_data(\"12/2021\", \"01/2022\")"
   ]
  },
  {
   "cell_type": "code",
   "execution_count": 4,
   "id": "e8680e68",
   "metadata": {
    "scrolled": true
   },
   "outputs": [
    {
     "data": {
      "text/html": [
       "<div>\n",
       "<style scoped>\n",
       "    .dataframe tbody tr th:only-of-type {\n",
       "        vertical-align: middle;\n",
       "    }\n",
       "\n",
       "    .dataframe tbody tr th {\n",
       "        vertical-align: top;\n",
       "    }\n",
       "\n",
       "    .dataframe thead th {\n",
       "        text-align: right;\n",
       "    }\n",
       "</style>\n",
       "<table border=\"1\" class=\"dataframe\">\n",
       "  <thead>\n",
       "    <tr style=\"text-align: right;\">\n",
       "      <th></th>\n",
       "      <th>date</th>\n",
       "      <th>station_id</th>\n",
       "      <th>users_count</th>\n",
       "    </tr>\n",
       "  </thead>\n",
       "  <tbody>\n",
       "    <tr>\n",
       "      <th>0</th>\n",
       "      <td>2022-01-01</td>\n",
       "      <td>2782.02</td>\n",
       "      <td>2</td>\n",
       "    </tr>\n",
       "    <tr>\n",
       "      <th>1</th>\n",
       "      <td>2022-01-01</td>\n",
       "      <td>2832.03</td>\n",
       "      <td>3</td>\n",
       "    </tr>\n",
       "    <tr>\n",
       "      <th>2</th>\n",
       "      <td>2022-01-01</td>\n",
       "      <td>2912.08</td>\n",
       "      <td>1</td>\n",
       "    </tr>\n",
       "    <tr>\n",
       "      <th>3</th>\n",
       "      <td>2022-01-01</td>\n",
       "      <td>2932.01</td>\n",
       "      <td>2</td>\n",
       "    </tr>\n",
       "    <tr>\n",
       "      <th>4</th>\n",
       "      <td>2022-01-01</td>\n",
       "      <td>2961.05</td>\n",
       "      <td>1</td>\n",
       "    </tr>\n",
       "    <tr>\n",
       "      <th>...</th>\n",
       "      <td>...</td>\n",
       "      <td>...</td>\n",
       "      <td>...</td>\n",
       "    </tr>\n",
       "    <tr>\n",
       "      <th>150779</th>\n",
       "      <td>2021-12-31</td>\n",
       "      <td>8778.01</td>\n",
       "      <td>1</td>\n",
       "    </tr>\n",
       "    <tr>\n",
       "      <th>150780</th>\n",
       "      <td>2021-12-31</td>\n",
       "      <td>8782.01</td>\n",
       "      <td>2</td>\n",
       "    </tr>\n",
       "    <tr>\n",
       "      <th>150781</th>\n",
       "      <td>2021-12-31</td>\n",
       "      <td>8795.01</td>\n",
       "      <td>2</td>\n",
       "    </tr>\n",
       "    <tr>\n",
       "      <th>150782</th>\n",
       "      <td>2021-12-31</td>\n",
       "      <td>8795.03</td>\n",
       "      <td>2</td>\n",
       "    </tr>\n",
       "    <tr>\n",
       "      <th>150783</th>\n",
       "      <td>2021-12-31</td>\n",
       "      <td>8841.03</td>\n",
       "      <td>3</td>\n",
       "    </tr>\n",
       "  </tbody>\n",
       "</table>\n",
       "<p>150784 rows × 3 columns</p>\n",
       "</div>"
      ],
      "text/plain": [
       "              date station_id users_count\n",
       "0       2022-01-01    2782.02           2\n",
       "1       2022-01-01    2832.03           3\n",
       "2       2022-01-01    2912.08           1\n",
       "3       2022-01-01    2932.01           2\n",
       "4       2022-01-01    2961.05           1\n",
       "...            ...        ...         ...\n",
       "150779  2021-12-31    8778.01           1\n",
       "150780  2021-12-31    8782.01           2\n",
       "150781  2021-12-31    8795.01           2\n",
       "150782  2021-12-31    8795.03           2\n",
       "150783  2021-12-31    8841.03           3\n",
       "\n",
       "[150784 rows x 3 columns]"
      ]
     },
     "execution_count": 4,
     "metadata": {},
     "output_type": "execute_result"
    }
   ],
   "source": [
    "df"
   ]
  },
  {
   "cell_type": "code",
   "execution_count": 12,
   "id": "07547957",
   "metadata": {},
   "outputs": [],
   "source": [
    "df_enhanced = engineer_citibike_features(df)"
   ]
  },
  {
   "cell_type": "code",
   "execution_count": 14,
   "id": "3396f5ba",
   "metadata": {
    "scrolled": true
   },
   "outputs": [
    {
     "data": {
      "text/html": [
       "<div>\n",
       "<style scoped>\n",
       "    .dataframe tbody tr th:only-of-type {\n",
       "        vertical-align: middle;\n",
       "    }\n",
       "\n",
       "    .dataframe tbody tr th {\n",
       "        vertical-align: top;\n",
       "    }\n",
       "\n",
       "    .dataframe thead th {\n",
       "        text-align: right;\n",
       "    }\n",
       "</style>\n",
       "<table border=\"1\" class=\"dataframe\">\n",
       "  <thead>\n",
       "    <tr style=\"text-align: right;\">\n",
       "      <th></th>\n",
       "      <th>date</th>\n",
       "      <th>station_id</th>\n",
       "      <th>users_count</th>\n",
       "      <th>mean_7_days</th>\n",
       "      <th>mean_14_days</th>\n",
       "      <th>mean_56_days</th>\n",
       "      <th>std_7_days</th>\n",
       "      <th>exp_mean_7_days</th>\n",
       "      <th>exp_std_7_days</th>\n",
       "      <th>rate_of_change_7_days</th>\n",
       "      <th>std_14_days</th>\n",
       "      <th>exp_mean_14_days</th>\n",
       "      <th>exp_std_14_days</th>\n",
       "      <th>rate_of_change_14_days</th>\n",
       "      <th>std_56_days</th>\n",
       "      <th>exp_mean_56_days</th>\n",
       "      <th>exp_std_56_days</th>\n",
       "      <th>rate_of_change_56_days</th>\n",
       "    </tr>\n",
       "  </thead>\n",
       "  <tbody>\n",
       "    <tr>\n",
       "      <th>150556</th>\n",
       "      <td>2021-12-31</td>\n",
       "      <td>8795.01</td>\n",
       "      <td>2</td>\n",
       "      <td>2.000000</td>\n",
       "      <td>2.000000</td>\n",
       "      <td>2.196429</td>\n",
       "      <td>0.816497</td>\n",
       "      <td>1.878734</td>\n",
       "      <td>0.748158</td>\n",
       "      <td>-33.333333</td>\n",
       "      <td>1.037749</td>\n",
       "      <td>1.962195</td>\n",
       "      <td>1.009614</td>\n",
       "      <td>100.0</td>\n",
       "      <td>1.565766</td>\n",
       "      <td>2.147267</td>\n",
       "      <td>1.518377</td>\n",
       "      <td>0.0</td>\n",
       "    </tr>\n",
       "    <tr>\n",
       "      <th>150557</th>\n",
       "      <td>2021-12-31</td>\n",
       "      <td>8795.03</td>\n",
       "      <td>2</td>\n",
       "      <td>1.857143</td>\n",
       "      <td>2.071429</td>\n",
       "      <td>2.196429</td>\n",
       "      <td>0.690066</td>\n",
       "      <td>1.909050</td>\n",
       "      <td>0.650401</td>\n",
       "      <td>-33.333333</td>\n",
       "      <td>0.997249</td>\n",
       "      <td>1.967236</td>\n",
       "      <td>0.939994</td>\n",
       "      <td>-50.0</td>\n",
       "      <td>1.565766</td>\n",
       "      <td>2.142100</td>\n",
       "      <td>1.491751</td>\n",
       "      <td>-33.333333</td>\n",
       "    </tr>\n",
       "    <tr>\n",
       "      <th>150558</th>\n",
       "      <td>2021-12-31</td>\n",
       "      <td>8841.03</td>\n",
       "      <td>3</td>\n",
       "      <td>1.857143</td>\n",
       "      <td>2.000000</td>\n",
       "      <td>2.196429</td>\n",
       "      <td>0.690066</td>\n",
       "      <td>2.181788</td>\n",
       "      <td>0.760011</td>\n",
       "      <td>200.0</td>\n",
       "      <td>0.877058</td>\n",
       "      <td>2.104937</td>\n",
       "      <td>0.947898</td>\n",
       "      <td>200.0</td>\n",
       "      <td>1.565766</td>\n",
       "      <td>2.172201</td>\n",
       "      <td>1.473978</td>\n",
       "      <td>0.0</td>\n",
       "    </tr>\n",
       "  </tbody>\n",
       "</table>\n",
       "</div>"
      ],
      "text/plain": [
       "              date station_id users_count  mean_7_days  mean_14_days  \\\n",
       "150556  2021-12-31    8795.01           2     2.000000      2.000000   \n",
       "150557  2021-12-31    8795.03           2     1.857143      2.071429   \n",
       "150558  2021-12-31    8841.03           3     1.857143      2.000000   \n",
       "\n",
       "        mean_56_days  std_7_days  exp_mean_7_days  exp_std_7_days  \\\n",
       "150556      2.196429    0.816497         1.878734        0.748158   \n",
       "150557      2.196429    0.690066         1.909050        0.650401   \n",
       "150558      2.196429    0.690066         2.181788        0.760011   \n",
       "\n",
       "       rate_of_change_7_days  std_14_days  exp_mean_14_days  exp_std_14_days  \\\n",
       "150556            -33.333333     1.037749          1.962195         1.009614   \n",
       "150557            -33.333333     0.997249          1.967236         0.939994   \n",
       "150558                 200.0     0.877058          2.104937         0.947898   \n",
       "\n",
       "       rate_of_change_14_days  std_56_days  exp_mean_56_days  exp_std_56_days  \\\n",
       "150556                  100.0     1.565766          2.147267         1.518377   \n",
       "150557                  -50.0     1.565766          2.142100         1.491751   \n",
       "150558                  200.0     1.565766          2.172201         1.473978   \n",
       "\n",
       "       rate_of_change_56_days  \n",
       "150556                    0.0  \n",
       "150557             -33.333333  \n",
       "150558                    0.0  "
      ]
     },
     "execution_count": 14,
     "metadata": {},
     "output_type": "execute_result"
    }
   ],
   "source": [
    "df_enhanced.tail(3)"
   ]
  },
  {
   "cell_type": "code",
   "execution_count": 10,
   "id": "6438dafc",
   "metadata": {},
   "outputs": [],
   "source": [
    "cal = USFederalHolidayCalendar()\n",
    "\n",
    "#generate a feature of 20 years worth of US holiday days.\n",
    "start_date = datetime.strptime('2017-01-01', '%Y-%m-%d')\n",
    "end_date = start_date + timedelta(days=365*10)\n",
    "\n",
    "holiday_df = pd.DataFrame(cal.holidays(start=start_date, end=end_date), columns=['date'])\n",
    "holiday_df['date'] = holiday_df['date'].dt.strftime('%Y-%m-%d')"
   ]
  },
  {
   "cell_type": "code",
   "execution_count": null,
   "id": "329df92a",
   "metadata": {},
   "outputs": [],
   "source": [
    "holiday_df.iloc[40:45]"
   ]
  },
  {
   "cell_type": "code",
   "execution_count": 39,
   "id": "dbf1603d",
   "metadata": {},
   "outputs": [],
   "source": [
    "df_enhanced[\"holiday\"] = df_enhanced[\"date\"].apply(lambda x: \n",
    "                                                  1 if str(x) in holiday_df.date.tolist() else 0)"
   ]
  },
  {
   "cell_type": "code",
   "execution_count": 46,
   "id": "282fbbd0",
   "metadata": {},
   "outputs": [
    {
     "data": {
      "text/html": [
       "<div>\n",
       "<style scoped>\n",
       "    .dataframe tbody tr th:only-of-type {\n",
       "        vertical-align: middle;\n",
       "    }\n",
       "\n",
       "    .dataframe tbody tr th {\n",
       "        vertical-align: top;\n",
       "    }\n",
       "\n",
       "    .dataframe thead th {\n",
       "        text-align: right;\n",
       "    }\n",
       "</style>\n",
       "<table border=\"1\" class=\"dataframe\">\n",
       "  <thead>\n",
       "    <tr style=\"text-align: right;\">\n",
       "      <th></th>\n",
       "      <th>date</th>\n",
       "      <th>station_id</th>\n",
       "      <th>users_count</th>\n",
       "      <th>mean_7_days</th>\n",
       "      <th>mean_14_days</th>\n",
       "      <th>mean_56_days</th>\n",
       "      <th>std_7_days</th>\n",
       "      <th>exp_mean_7_days</th>\n",
       "      <th>exp_std_7_days</th>\n",
       "      <th>rate_of_change_7_days</th>\n",
       "      <th>std_14_days</th>\n",
       "      <th>exp_mean_14_days</th>\n",
       "      <th>exp_std_14_days</th>\n",
       "      <th>rate_of_change_14_days</th>\n",
       "      <th>std_56_days</th>\n",
       "      <th>exp_mean_56_days</th>\n",
       "      <th>exp_std_56_days</th>\n",
       "      <th>rate_of_change_56_days</th>\n",
       "      <th>holiday</th>\n",
       "    </tr>\n",
       "  </thead>\n",
       "  <tbody>\n",
       "    <tr>\n",
       "      <th>0</th>\n",
       "      <td>2022-01-01</td>\n",
       "      <td>4513.09</td>\n",
       "      <td>6</td>\n",
       "      <td>8.285714</td>\n",
       "      <td>9.071429</td>\n",
       "      <td>10.482143</td>\n",
       "      <td>4.270608</td>\n",
       "      <td>7.978453</td>\n",
       "      <td>4.519115</td>\n",
       "      <td>-50.0</td>\n",
       "      <td>5.511726</td>\n",
       "      <td>9.066067</td>\n",
       "      <td>5.380470</td>\n",
       "      <td>-45.454545</td>\n",
       "      <td>6.367506</td>\n",
       "      <td>10.388788</td>\n",
       "      <td>6.063540</td>\n",
       "      <td>-45.454545</td>\n",
       "      <td>0</td>\n",
       "    </tr>\n",
       "    <tr>\n",
       "      <th>1</th>\n",
       "      <td>2022-01-01</td>\n",
       "      <td>4517.03</td>\n",
       "      <td>5</td>\n",
       "      <td>7.285714</td>\n",
       "      <td>8.642857</td>\n",
       "      <td>10.375000</td>\n",
       "      <td>4.070802</td>\n",
       "      <td>7.233840</td>\n",
       "      <td>4.154199</td>\n",
       "      <td>-64.285714</td>\n",
       "      <td>5.583039</td>\n",
       "      <td>8.523924</td>\n",
       "      <td>5.210274</td>\n",
       "      <td>-50.0</td>\n",
       "      <td>6.408978</td>\n",
       "      <td>10.172454</td>\n",
       "      <td>6.035566</td>\n",
       "      <td>-72.222222</td>\n",
       "      <td>0</td>\n",
       "    </tr>\n",
       "    <tr>\n",
       "      <th>2</th>\n",
       "      <td>2022-01-01</td>\n",
       "      <td>4519.02</td>\n",
       "      <td>12</td>\n",
       "      <td>7.000000</td>\n",
       "      <td>8.785714</td>\n",
       "      <td>10.267857</td>\n",
       "      <td>3.559026</td>\n",
       "      <td>8.425380</td>\n",
       "      <td>4.232282</td>\n",
       "      <td>140.0</td>\n",
       "      <td>5.645673</td>\n",
       "      <td>8.987401</td>\n",
       "      <td>5.003103</td>\n",
       "      <td>1100.0</td>\n",
       "      <td>6.328840</td>\n",
       "      <td>10.245452</td>\n",
       "      <td>5.924248</td>\n",
       "      <td>71.428571</td>\n",
       "      <td>0</td>\n",
       "    </tr>\n",
       "  </tbody>\n",
       "</table>\n",
       "</div>"
      ],
      "text/plain": [
       "         date station_id users_count  mean_7_days  mean_14_days  mean_56_days  \\\n",
       "0  2022-01-01    4513.09           6     8.285714      9.071429     10.482143   \n",
       "1  2022-01-01    4517.03           5     7.285714      8.642857     10.375000   \n",
       "2  2022-01-01    4519.02          12     7.000000      8.785714     10.267857   \n",
       "\n",
       "   std_7_days  exp_mean_7_days  exp_std_7_days rate_of_change_7_days  \\\n",
       "0    4.270608         7.978453        4.519115                 -50.0   \n",
       "1    4.070802         7.233840        4.154199            -64.285714   \n",
       "2    3.559026         8.425380        4.232282                 140.0   \n",
       "\n",
       "   std_14_days  exp_mean_14_days  exp_std_14_days rate_of_change_14_days  \\\n",
       "0     5.511726          9.066067         5.380470             -45.454545   \n",
       "1     5.583039          8.523924         5.210274                  -50.0   \n",
       "2     5.645673          8.987401         5.003103                 1100.0   \n",
       "\n",
       "   std_56_days  exp_mean_56_days  exp_std_56_days rate_of_change_56_days  \\\n",
       "0     6.367506         10.388788         6.063540             -45.454545   \n",
       "1     6.408978         10.172454         6.035566             -72.222222   \n",
       "2     6.328840         10.245452         5.924248              71.428571   \n",
       "\n",
       "   holiday  \n",
       "0        0  \n",
       "1        0  \n",
       "2        0  "
      ]
     },
     "execution_count": 46,
     "metadata": {},
     "output_type": "execute_result"
    }
   ],
   "source": [
    "df_enhanced.head(3)"
   ]
  },
  {
   "cell_type": "markdown",
   "id": "H1aYmOX60MXj",
   "metadata": {
    "id": "H1aYmOX60MXj"
   },
   "source": [
    "---"
   ]
  },
  {
   "cell_type": "markdown",
   "id": "be723483",
   "metadata": {},
   "source": [
    "## <span style=\"color:#ff5f27;\"> 📡 Connecting to Hopsworks Feature Store </span>"
   ]
  },
  {
   "cell_type": "code",
   "execution_count": null,
   "id": "cae776d7",
   "metadata": {
    "id": "cae776d7"
   },
   "outputs": [],
   "source": [
    "import hopsworks\n",
    "project = hopsworks.login()\n",
    "fs = project.get_feature_store()"
   ]
  },
  {
   "cell_type": "markdown",
   "id": "ef0c02f9",
   "metadata": {},
   "source": [
    "---"
   ]
  },
  {
   "cell_type": "markdown",
   "id": "b6411e74",
   "metadata": {},
   "source": [
    "## <span style=\"color:#ff5f27;\"> 🪄 Creating Feature Groups </span>\n",
    "\n",
    "A [feature group](https://docs.hopsworks.ai/feature-store-api/latest/generated/feature_group/) can be seen as a collection of conceptually related features. In this case, you will create a feature group for the Meteorological measurements from SMHI, Electricity prices feature group from NORD POOL and Swedish holidays feature group."
   ]
  },
  {
   "cell_type": "code",
   "execution_count": null,
   "id": "c691d509",
   "metadata": {
    "id": "c691d509"
   },
   "outputs": [],
   "source": [
    "citibike_stations_fg = fs.get_or_create_feature_group(\n",
    "    name=\"citibike_stations\",\n",
    "    version=1,\n",
    "    description=\"Citibike_stations across the NYC.\",\n",
    "    primary_key=[\"date\", \"station_id\"],\n",
    "    online_enabled=True\n",
    ")"
   ]
  },
  {
   "cell_type": "code",
   "execution_count": null,
   "id": "14bed205",
   "metadata": {},
   "outputs": [],
   "source": [
    "df.date = df.date.apply(str)\n",
    "df.station_id = df.station_id.apply(str)\n",
    "df.users_count = df.users_count.apply(int)"
   ]
  },
  {
   "cell_type": "code",
   "execution_count": null,
   "id": "1f96cfcb",
   "metadata": {},
   "outputs": [],
   "source": [
    "df"
   ]
  },
  {
   "cell_type": "code",
   "execution_count": null,
   "id": "67228279",
   "metadata": {
    "id": "67228279"
   },
   "outputs": [],
   "source": [
    "citibike_stations_fg.insert(df)"
   ]
  },
  {
   "cell_type": "markdown",
   "id": "d593978d",
   "metadata": {},
   "source": [
    "---"
   ]
  },
  {
   "cell_type": "markdown",
   "id": "93a731a8",
   "metadata": {
    "id": "47a81314"
   },
   "source": [
    "## <span style=\"color:#ff5f27;\">⏭️ **Next:** Part 02 </span>\n",
    "\n",
    "In the next notebook, you will be generating new data for the Feature Groups."
   ]
  }
 ],
 "metadata": {
  "colab": {
   "collapsed_sections": [],
   "provenance": []
  },
  "kernelspec": {
   "display_name": "Python 3 (ipykernel)",
   "language": "python",
   "name": "python3"
  },
  "language_info": {
   "codemirror_mode": {
    "name": "ipython",
    "version": 3
   },
   "file_extension": ".py",
   "mimetype": "text/x-python",
   "name": "python",
   "nbconvert_exporter": "python",
   "pygments_lexer": "ipython3",
   "version": "3.8.0"
  }
 },
 "nbformat": 4,
 "nbformat_minor": 5
}
