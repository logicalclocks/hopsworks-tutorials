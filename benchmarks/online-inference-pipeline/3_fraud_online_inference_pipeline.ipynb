{
 "cells": [
  {
   "cell_type": "markdown",
   "id": "f16367c8",
   "metadata": {},
   "source": [
    "## <span style=\"color:#ff5f27;\"> 📡 Connecting to Hopsworks Feature Store </span>"
   ]
  },
  {
   "cell_type": "code",
   "execution_count": 1,
   "id": "ed952ece",
   "metadata": {},
   "outputs": [
    {
     "name": "stdout",
     "output_type": "stream",
     "text": [
      "2025-06-26 17:37:02,224 INFO: Initializing external client\n",
      "2025-06-26 17:37:02,224 INFO: Base URL: https://10.87.43.79:28181\n",
      "2025-06-26 17:37:02,933 INFO: Python Engine initialized.\n",
      "\n",
      "Logged in to project, explore it here https://10.87.43.79:28181/p/119\n"
     ]
    }
   ],
   "source": [
    "import hopsworks\n",
    "\n",
    "project = hopsworks.login()\n",
    "\n",
    "fs = project.get_feature_store()"
   ]
  },
  {
   "cell_type": "markdown",
   "id": "e98e32ce",
   "metadata": {},
   "source": [
    "## <span style=\"color:#ff5f27;\"> ⚙️ Feature Group Retrieval</span>"
   ]
  },
  {
   "cell_type": "code",
   "execution_count": 2,
   "id": "d2a8475b",
   "metadata": {},
   "outputs": [
    {
     "name": "stdout",
     "output_type": "stream",
     "text": [
      "Finished: Reading data from Hopsworks, using Hopsworks Feature Query Service (2.41s) \n"
     ]
    },
    {
     "data": {
      "text/plain": [
       "array([4529989164575225, 4797751386008277, 4938575311751440,\n",
       "       4073886918689387, 4884550899940453, 4807667713290974,\n",
       "       4645995009385547, 4308477157795460, 4831276264575419,\n",
       "       4287279140563913, 4114577275897108, 4843428721510291,\n",
       "       4984384623009925, 4956471536597403, 4455861877211109,\n",
       "       4506785011061246, 4600599737277837, 4355584636414605,\n",
       "       4575723451072478, 4265592758407850, 4815333028167429,\n",
       "       4871812759365964, 4635552426140120, 4043005422002519,\n",
       "       4638658919738846])"
      ]
     },
     "execution_count": 2,
     "metadata": {},
     "output_type": "execute_result"
    }
   ],
   "source": [
    "# Retrieve the 'transactions_fraud_online_fg' feature group\n",
    "trans_fg = fs.get_feature_group(\n",
    "    'transactions_fraud_online_fg',\n",
    "    version=1,\n",
    ")\n",
    "\n",
    "# Retrieve the first 5 unique credit card numbers (cc_nums)\n",
    "cc_nums = trans_fg.select('cc_num').show(25).cc_num.astype(int).values\n",
    "\n",
    "# Display the obtained cc_nums\n",
    "cc_nums"
   ]
  },
  {
   "cell_type": "markdown",
   "id": "903df073",
   "metadata": {},
   "source": [
    "## <span style='color:#ff5f27'>🚀 Fetch Deployment</span>"
   ]
  },
  {
   "cell_type": "code",
   "execution_count": 3,
   "id": "4303ac82",
   "metadata": {},
   "outputs": [],
   "source": [
    "# Access the Model Serving\n",
    "ms = project.get_model_serving()\n",
    "\n",
    "# Specify the deployment name\n",
    "deployment_async_rdrs = ms.get_deployment(\"deploymentasyncrdrs\")"
   ]
  },
  {
   "cell_type": "markdown",
   "id": "045ba7e4",
   "metadata": {},
   "source": [
    "## <span style='color:#ff5f27'>🔮 Predicting using deployment</span>"
   ]
  },
  {
   "cell_type": "code",
   "execution_count": 4,
   "id": "42196023",
   "metadata": {},
   "outputs": [],
   "source": [
    "# Get the first credit card number\n",
    "inputs = [{\"cc_num\":int(cc_num)} for cc_num in cc_nums]"
   ]
  },
  {
   "cell_type": "code",
   "execution_count": 5,
   "id": "596f3241",
   "metadata": {},
   "outputs": [
    {
     "data": {
      "text/plain": [
       "[0, 0, 0, 0, 0, 0, 0, 0, 0, 0, 0, 0, 0, 0, 0, 0, 0, 0, 0, 0, 0, 0, 0, 0, 0]"
      ]
     },
     "execution_count": 5,
     "metadata": {},
     "output_type": "execute_result"
    }
   ],
   "source": [
    "predictions_async_rdrs = deployment_async_rdrs.predict(inputs=inputs)[\"predictions\"]\n",
    "predictions_async_rdrs"
   ]
  },
  {
   "cell_type": "markdown",
   "id": "1b80b358-eb1b-4e7d-bfbc-fab86d25f2bb",
   "metadata": {},
   "source": [
    "### Stop Deployment\n",
    "To stop the deployment you simply run:"
   ]
  },
  {
   "cell_type": "code",
   "execution_count": null,
   "id": "b618ce93-acfe-46b5-a107-1706adaf53a7",
   "metadata": {},
   "outputs": [],
   "source": [
    "# Stop the deployment\n",
    "deployment.stop(await_stopped=180)"
   ]
  }
 ],
 "metadata": {
  "kernelspec": {
   "display_name": "Python 3 (ipykernel)",
   "language": "python",
   "name": "python3"
  },
  "language_info": {
   "codemirror_mode": {
    "name": "ipython",
    "version": 3
   },
   "file_extension": ".py",
   "mimetype": "text/x-python",
   "name": "python",
   "nbconvert_exporter": "python",
   "pygments_lexer": "ipython3",
   "version": "3.10.18"
  }
 },
 "nbformat": 4,
 "nbformat_minor": 5
}
