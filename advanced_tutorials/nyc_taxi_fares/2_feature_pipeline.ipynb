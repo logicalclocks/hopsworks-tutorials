{
 "cells": [
  {
   "cell_type": "markdown",
   "id": "dd094af7",
   "metadata": {},
   "source": [
    "# <span style=\"font-width:bold; font-size: 3rem; color:#1EB182;\">**Hopsworks Feature Store** </span><span style=\"font-width:bold; font-size: 3rem; color:#333;\">- Part 02: Feature Pipeline</span>\n",
    "\n",
    "[![Open In Colab](https://colab.research.google.com/assets/colab-badge.svg)](https://colab.research.google.com/github/logicalclocks/hopsworks-tutorials/blob/master/advanced_tutorials/nyc_taxi_fares/2_feature_pipeline.ipynb)\n",
    "\n",
    "## 🗒️ This notebook is divided into 2 sections:\n",
    "1. **Data generation**,\n",
    "2. **Insert new data into the Feature Store**."
   ]
  },
  {
   "cell_type": "markdown",
   "id": "a7dcc328",
   "metadata": {},
   "source": [
    "### <span style='color:#ff5f27'> 📝 Imports"
   ]
  },
  {
   "cell_type": "code",
   "execution_count": 1,
   "id": "364e961e",
   "metadata": {},
   "outputs": [],
   "source": [
    "import pandas as pd\n",
    "from datetime import datetime\n",
    "import time \n",
    "import os \n",
    "\n",
    "from functions import *"
   ]
  },
  {
   "cell_type": "markdown",
   "id": "5ba98499",
   "metadata": {},
   "source": [
    "___"
   ]
  },
  {
   "cell_type": "markdown",
   "id": "cca6814a",
   "metadata": {},
   "source": [
    "## <span style=\"color:#ff5f27;\"> 🪄 Generating new data</span>"
   ]
  },
  {
   "cell_type": "markdown",
   "id": "2f172f7b",
   "metadata": {},
   "source": [
    "### <span style='color:#ff5f27'> 🚖 Rides Data"
   ]
  },
  {
   "cell_type": "code",
   "execution_count": 2,
   "id": "7d3f552e",
   "metadata": {},
   "outputs": [
    {
     "data": {
      "text/html": [
       "<div>\n",
       "<style scoped>\n",
       "    .dataframe tbody tr th:only-of-type {\n",
       "        vertical-align: middle;\n",
       "    }\n",
       "\n",
       "    .dataframe tbody tr th {\n",
       "        vertical-align: top;\n",
       "    }\n",
       "\n",
       "    .dataframe thead th {\n",
       "        text-align: right;\n",
       "    }\n",
       "</style>\n",
       "<table border=\"1\" class=\"dataframe\">\n",
       "  <thead>\n",
       "    <tr style=\"text-align: right;\">\n",
       "      <th></th>\n",
       "      <th>ride_id</th>\n",
       "      <th>pickup_datetime</th>\n",
       "      <th>pickup_longitude</th>\n",
       "      <th>dropoff_longitude</th>\n",
       "      <th>pickup_latitude</th>\n",
       "      <th>dropoff_latitude</th>\n",
       "      <th>passenger_count</th>\n",
       "      <th>taxi_id</th>\n",
       "      <th>driver_id</th>\n",
       "    </tr>\n",
       "  </thead>\n",
       "  <tbody>\n",
       "    <tr>\n",
       "      <th>0</th>\n",
       "      <td>b62b6b5e0c1bc7c38203d49f87aa038b</td>\n",
       "      <td>1607249100000</td>\n",
       "      <td>-74.46605</td>\n",
       "      <td>-74.35951</td>\n",
       "      <td>41.08324</td>\n",
       "      <td>41.33374</td>\n",
       "      <td>1</td>\n",
       "      <td>89</td>\n",
       "      <td>38</td>\n",
       "    </tr>\n",
       "    <tr>\n",
       "      <th>1</th>\n",
       "      <td>0aca1f99442965e975b1caf8e2de3499</td>\n",
       "      <td>1592438200000</td>\n",
       "      <td>-74.03295</td>\n",
       "      <td>-73.19762</td>\n",
       "      <td>40.71218</td>\n",
       "      <td>41.03299</td>\n",
       "      <td>1</td>\n",
       "      <td>169</td>\n",
       "      <td>172</td>\n",
       "    </tr>\n",
       "    <tr>\n",
       "      <th>2</th>\n",
       "      <td>e5c13e261fe0588934d959c9b28ce624</td>\n",
       "      <td>1607241700000</td>\n",
       "      <td>-73.60920</td>\n",
       "      <td>-73.54689</td>\n",
       "      <td>41.46554</td>\n",
       "      <td>40.80531</td>\n",
       "      <td>4</td>\n",
       "      <td>42</td>\n",
       "      <td>142</td>\n",
       "    </tr>\n",
       "    <tr>\n",
       "      <th>3</th>\n",
       "      <td>e0c9e7899e8b96880ae7b23ed0666b09</td>\n",
       "      <td>1590086900000</td>\n",
       "      <td>-73.51136</td>\n",
       "      <td>-73.05219</td>\n",
       "      <td>41.32622</td>\n",
       "      <td>41.05065</td>\n",
       "      <td>2</td>\n",
       "      <td>5</td>\n",
       "      <td>101</td>\n",
       "    </tr>\n",
       "    <tr>\n",
       "      <th>4</th>\n",
       "      <td>f39983333f042baeac963a22b54857b9</td>\n",
       "      <td>1602438300000</td>\n",
       "      <td>-74.38961</td>\n",
       "      <td>-74.27410</td>\n",
       "      <td>40.78734</td>\n",
       "      <td>41.48349</td>\n",
       "      <td>3</td>\n",
       "      <td>152</td>\n",
       "      <td>79</td>\n",
       "    </tr>\n",
       "    <tr>\n",
       "      <th>...</th>\n",
       "      <td>...</td>\n",
       "      <td>...</td>\n",
       "      <td>...</td>\n",
       "      <td>...</td>\n",
       "      <td>...</td>\n",
       "      <td>...</td>\n",
       "      <td>...</td>\n",
       "      <td>...</td>\n",
       "      <td>...</td>\n",
       "    </tr>\n",
       "    <tr>\n",
       "      <th>145</th>\n",
       "      <td>6376ae17d85d34e277ebaa45bdc85457</td>\n",
       "      <td>1608158400000</td>\n",
       "      <td>-73.56905</td>\n",
       "      <td>-73.75968</td>\n",
       "      <td>40.86125</td>\n",
       "      <td>41.34922</td>\n",
       "      <td>3</td>\n",
       "      <td>134</td>\n",
       "      <td>76</td>\n",
       "    </tr>\n",
       "    <tr>\n",
       "      <th>146</th>\n",
       "      <td>cbdd9779c63df86c24f3c6071e9ccb1f</td>\n",
       "      <td>1581316800000</td>\n",
       "      <td>-73.88083</td>\n",
       "      <td>-73.25228</td>\n",
       "      <td>41.15133</td>\n",
       "      <td>41.22743</td>\n",
       "      <td>3</td>\n",
       "      <td>191</td>\n",
       "      <td>173</td>\n",
       "    </tr>\n",
       "    <tr>\n",
       "      <th>147</th>\n",
       "      <td>5b7c928f230cc78160569e6e6893d985</td>\n",
       "      <td>1583733300000</td>\n",
       "      <td>-72.93300</td>\n",
       "      <td>-73.05207</td>\n",
       "      <td>40.84738</td>\n",
       "      <td>41.12884</td>\n",
       "      <td>4</td>\n",
       "      <td>199</td>\n",
       "      <td>77</td>\n",
       "    </tr>\n",
       "    <tr>\n",
       "      <th>148</th>\n",
       "      <td>f5ddf5bc7f4ce2829bc0948765a99d6c</td>\n",
       "      <td>1598523700000</td>\n",
       "      <td>-73.99126</td>\n",
       "      <td>-73.38686</td>\n",
       "      <td>41.77799</td>\n",
       "      <td>41.78662</td>\n",
       "      <td>1</td>\n",
       "      <td>186</td>\n",
       "      <td>66</td>\n",
       "    </tr>\n",
       "    <tr>\n",
       "      <th>149</th>\n",
       "      <td>7f5ecb61d10b82afafdfc57a37a1ecc2</td>\n",
       "      <td>1598343000000</td>\n",
       "      <td>-73.48674</td>\n",
       "      <td>-73.83022</td>\n",
       "      <td>40.50281</td>\n",
       "      <td>41.71155</td>\n",
       "      <td>1</td>\n",
       "      <td>42</td>\n",
       "      <td>140</td>\n",
       "    </tr>\n",
       "  </tbody>\n",
       "</table>\n",
       "<p>150 rows × 9 columns</p>\n",
       "</div>"
      ],
      "text/plain": [
       "                              ride_id pickup_datetime  pickup_longitude  \\\n",
       "0    b62b6b5e0c1bc7c38203d49f87aa038b   1607249100000         -74.46605   \n",
       "1    0aca1f99442965e975b1caf8e2de3499   1592438200000         -74.03295   \n",
       "2    e5c13e261fe0588934d959c9b28ce624   1607241700000         -73.60920   \n",
       "3    e0c9e7899e8b96880ae7b23ed0666b09   1590086900000         -73.51136   \n",
       "4    f39983333f042baeac963a22b54857b9   1602438300000         -74.38961   \n",
       "..                                ...             ...               ...   \n",
       "145  6376ae17d85d34e277ebaa45bdc85457   1608158400000         -73.56905   \n",
       "146  cbdd9779c63df86c24f3c6071e9ccb1f   1581316800000         -73.88083   \n",
       "147  5b7c928f230cc78160569e6e6893d985   1583733300000         -72.93300   \n",
       "148  f5ddf5bc7f4ce2829bc0948765a99d6c   1598523700000         -73.99126   \n",
       "149  7f5ecb61d10b82afafdfc57a37a1ecc2   1598343000000         -73.48674   \n",
       "\n",
       "     dropoff_longitude  pickup_latitude  dropoff_latitude passenger_count  \\\n",
       "0            -74.35951         41.08324          41.33374               1   \n",
       "1            -73.19762         40.71218          41.03299               1   \n",
       "2            -73.54689         41.46554          40.80531               4   \n",
       "3            -73.05219         41.32622          41.05065               2   \n",
       "4            -74.27410         40.78734          41.48349               3   \n",
       "..                 ...              ...               ...             ...   \n",
       "145          -73.75968         40.86125          41.34922               3   \n",
       "146          -73.25228         41.15133          41.22743               3   \n",
       "147          -73.05207         40.84738          41.12884               4   \n",
       "148          -73.38686         41.77799          41.78662               1   \n",
       "149          -73.83022         40.50281          41.71155               1   \n",
       "\n",
       "    taxi_id driver_id  \n",
       "0        89        38  \n",
       "1       169       172  \n",
       "2        42       142  \n",
       "3         5       101  \n",
       "4       152        79  \n",
       "..      ...       ...  \n",
       "145     134        76  \n",
       "146     191       173  \n",
       "147     199        77  \n",
       "148     186        66  \n",
       "149      42       140  \n",
       "\n",
       "[150 rows x 9 columns]"
      ]
     },
     "execution_count": 2,
     "metadata": {},
     "output_type": "execute_result"
    }
   ],
   "source": [
    "df_rides = generate_rides_data(150)\n",
    "\n",
    "df_rides"
   ]
  },
  {
   "cell_type": "code",
   "execution_count": 3,
   "id": "9da2d928",
   "metadata": {},
   "outputs": [],
   "source": [
    "df_rides = calculate_distance_features(df_rides)"
   ]
  },
  {
   "cell_type": "code",
   "execution_count": 4,
   "id": "5a82cf43",
   "metadata": {},
   "outputs": [],
   "source": [
    "df_rides = calculate_datetime_features(df_rides)"
   ]
  },
  {
   "cell_type": "code",
   "execution_count": 5,
   "id": "c392ec8a",
   "metadata": {},
   "outputs": [],
   "source": [
    "# now save the newly-generated ride_ids.\n",
    "# it will be retrieved and used in for fares data generation\n",
    "ride_ids = df_rides.ride_id"
   ]
  },
  {
   "cell_type": "code",
   "execution_count": 6,
   "id": "94640dfe",
   "metadata": {},
   "outputs": [],
   "source": [
    "for col in [\"passenger_count\", \"taxi_id\", \"driver_id\"]:\n",
    "    df_rides[col] = df_rides[col].astype(\"int64\")\n"
   ]
  },
  {
   "cell_type": "markdown",
   "id": "5441afc6",
   "metadata": {},
   "source": [
    "### <span style='color:#ff5f27'> 💸 Fares Data"
   ]
  },
  {
   "cell_type": "code",
   "execution_count": 7,
   "id": "be60bd25",
   "metadata": {
    "scrolled": true
   },
   "outputs": [
    {
     "data": {
      "text/html": [
       "<div>\n",
       "<style scoped>\n",
       "    .dataframe tbody tr th:only-of-type {\n",
       "        vertical-align: middle;\n",
       "    }\n",
       "\n",
       "    .dataframe tbody tr th {\n",
       "        vertical-align: top;\n",
       "    }\n",
       "\n",
       "    .dataframe thead th {\n",
       "        text-align: right;\n",
       "    }\n",
       "</style>\n",
       "<table border=\"1\" class=\"dataframe\">\n",
       "  <thead>\n",
       "    <tr style=\"text-align: right;\">\n",
       "      <th></th>\n",
       "      <th>total_fare</th>\n",
       "      <th>tolls</th>\n",
       "      <th>taxi_id</th>\n",
       "      <th>driver_id</th>\n",
       "    </tr>\n",
       "  </thead>\n",
       "  <tbody>\n",
       "    <tr>\n",
       "      <th>0</th>\n",
       "      <td>57</td>\n",
       "      <td>2</td>\n",
       "      <td>59</td>\n",
       "      <td>43</td>\n",
       "    </tr>\n",
       "    <tr>\n",
       "      <th>1</th>\n",
       "      <td>101</td>\n",
       "      <td>1</td>\n",
       "      <td>182</td>\n",
       "      <td>21</td>\n",
       "    </tr>\n",
       "    <tr>\n",
       "      <th>2</th>\n",
       "      <td>235</td>\n",
       "      <td>5</td>\n",
       "      <td>95</td>\n",
       "      <td>47</td>\n",
       "    </tr>\n",
       "    <tr>\n",
       "      <th>3</th>\n",
       "      <td>205</td>\n",
       "      <td>0</td>\n",
       "      <td>160</td>\n",
       "      <td>186</td>\n",
       "    </tr>\n",
       "    <tr>\n",
       "      <th>4</th>\n",
       "      <td>106</td>\n",
       "      <td>5</td>\n",
       "      <td>145</td>\n",
       "      <td>25</td>\n",
       "    </tr>\n",
       "    <tr>\n",
       "      <th>...</th>\n",
       "      <td>...</td>\n",
       "      <td>...</td>\n",
       "      <td>...</td>\n",
       "      <td>...</td>\n",
       "    </tr>\n",
       "    <tr>\n",
       "      <th>145</th>\n",
       "      <td>158</td>\n",
       "      <td>4</td>\n",
       "      <td>182</td>\n",
       "      <td>78</td>\n",
       "    </tr>\n",
       "    <tr>\n",
       "      <th>146</th>\n",
       "      <td>93</td>\n",
       "      <td>0</td>\n",
       "      <td>121</td>\n",
       "      <td>101</td>\n",
       "    </tr>\n",
       "    <tr>\n",
       "      <th>147</th>\n",
       "      <td>177</td>\n",
       "      <td>0</td>\n",
       "      <td>150</td>\n",
       "      <td>80</td>\n",
       "    </tr>\n",
       "    <tr>\n",
       "      <th>148</th>\n",
       "      <td>144</td>\n",
       "      <td>0</td>\n",
       "      <td>37</td>\n",
       "      <td>166</td>\n",
       "    </tr>\n",
       "    <tr>\n",
       "      <th>149</th>\n",
       "      <td>134</td>\n",
       "      <td>4</td>\n",
       "      <td>170</td>\n",
       "      <td>107</td>\n",
       "    </tr>\n",
       "  </tbody>\n",
       "</table>\n",
       "<p>150 rows × 4 columns</p>\n",
       "</div>"
      ],
      "text/plain": [
       "    total_fare tolls taxi_id driver_id\n",
       "0           57     2      59        43\n",
       "1          101     1     182        21\n",
       "2          235     5      95        47\n",
       "3          205     0     160       186\n",
       "4          106     5     145        25\n",
       "..         ...   ...     ...       ...\n",
       "145        158     4     182        78\n",
       "146         93     0     121       101\n",
       "147        177     0     150        80\n",
       "148        144     0      37       166\n",
       "149        134     4     170       107\n",
       "\n",
       "[150 rows x 4 columns]"
      ]
     },
     "execution_count": 7,
     "metadata": {},
     "output_type": "execute_result"
    }
   ],
   "source": [
    "df_fares = generate_fares_data(150)\n",
    "\n",
    "df_fares"
   ]
  },
  {
   "cell_type": "code",
   "execution_count": 8,
   "id": "17ed490a",
   "metadata": {},
   "outputs": [],
   "source": [
    "df_fares = df_fares.astype(\"int64\")"
   ]
  },
  {
   "cell_type": "code",
   "execution_count": 9,
   "id": "1193d62e",
   "metadata": {},
   "outputs": [],
   "source": [
    "# lets load our ride_ids which were created moments ago for rides_fg\n",
    "df_fares[\"ride_id\"] = ride_ids"
   ]
  },
  {
   "cell_type": "code",
   "execution_count": 10,
   "id": "742b556e",
   "metadata": {},
   "outputs": [],
   "source": [
    "for col in [\"tolls\", \"total_fare\"]:\n",
    "    df_fares[col] = df_fares[col].astype(\"double\")"
   ]
  },
  {
   "cell_type": "markdown",
   "id": "a18fba0e",
   "metadata": {},
   "source": [
    "___"
   ]
  },
  {
   "cell_type": "markdown",
   "id": "10c2618b",
   "metadata": {},
   "source": [
    "## <span style=\"color:#ff5f27;\"> 📡 Connecting to Hopsworks Feature Store </span>"
   ]
  },
  {
   "cell_type": "code",
   "execution_count": 11,
   "id": "4530f803",
   "metadata": {},
   "outputs": [
    {
     "name": "stdout",
     "output_type": "stream",
     "text": [
      "Connected. Call `.close()` to terminate connection gracefully.\n",
      "\n",
      "Logged in to project, explore it here https://c.app.hopsworks.ai:443/p/164\n"
     ]
    },
    {
     "name": "stderr",
     "output_type": "stream",
     "text": [
      "DeprecationWarning: the imp module is deprecated in favour of importlib; see the module's documentation for alternative uses\n"
     ]
    },
    {
     "name": "stdout",
     "output_type": "stream",
     "text": [
      "Connected. Call `.close()` to terminate connection gracefully.\n"
     ]
    }
   ],
   "source": [
    "import hopsworks\n",
    "\n",
    "project = hopsworks.login()\n",
    "\n",
    "fs = project.get_feature_store() "
   ]
  },
  {
   "cell_type": "code",
   "execution_count": 12,
   "id": "4e4f3e0c",
   "metadata": {},
   "outputs": [],
   "source": [
    "rides_fg = fs.get_or_create_feature_group(name=\"nyc_taxi_rides\",\n",
    "                                          version=1)   \n",
    "\n",
    "fares_fg = fs.get_or_create_feature_group(name=\"nyc_taxi_fares\",\n",
    "                                          version=1)   "
   ]
  },
  {
   "cell_type": "markdown",
   "id": "f56930ea",
   "metadata": {},
   "source": [
    "---"
   ]
  },
  {
   "cell_type": "markdown",
   "id": "5aef353d",
   "metadata": {},
   "source": [
    "## <span style=\"color:#ff5f27;\">⬆️ Uploading new data to the Feature Store</span>"
   ]
  },
  {
   "cell_type": "code",
   "execution_count": 13,
   "id": "f81bb922",
   "metadata": {},
   "outputs": [
    {
     "data": {
      "application/vnd.jupyter.widget-view+json": {
       "model_id": "aa04aaacc35f4fd1bd17e5ab0aa7ed33",
       "version_major": 2,
       "version_minor": 0
      },
      "text/plain": [
       "Uploading Dataframe: 0.00% |          | Rows 0/150 | Elapsed Time: 00:00 | Remaining Time: ?"
      ]
     },
     "metadata": {},
     "output_type": "display_data"
    },
    {
     "name": "stdout",
     "output_type": "stream",
     "text": [
      "Launching offline feature group backfill job...\n",
      "Backfill Job started successfully, you can follow the progress at \n",
      "https://c.app.hopsworks.ai/p/164/jobs/named/nyc_taxi_rides_1_offline_fg_backfill/executions\n"
     ]
    },
    {
     "data": {
      "text/plain": [
       "(<hsfs.core.job.Job at 0x247194effa0>, None)"
      ]
     },
     "execution_count": 13,
     "metadata": {},
     "output_type": "execute_result"
    }
   ],
   "source": [
    "rides_fg.insert(df_rides)"
   ]
  },
  {
   "cell_type": "code",
   "execution_count": 14,
   "id": "be0c498e",
   "metadata": {
    "scrolled": true
   },
   "outputs": [
    {
     "data": {
      "application/vnd.jupyter.widget-view+json": {
       "model_id": "9824a348c1eb49ebb1f3b389ddd3de7f",
       "version_major": 2,
       "version_minor": 0
      },
      "text/plain": [
       "Uploading Dataframe: 0.00% |          | Rows 0/150 | Elapsed Time: 00:00 | Remaining Time: ?"
      ]
     },
     "metadata": {},
     "output_type": "display_data"
    },
    {
     "name": "stdout",
     "output_type": "stream",
     "text": [
      "Launching offline feature group backfill job...\n",
      "Backfill Job started successfully, you can follow the progress at \n",
      "https://c.app.hopsworks.ai/p/164/jobs/named/nyc_taxi_fares_1_offline_fg_backfill/executions\n"
     ]
    },
    {
     "data": {
      "text/plain": [
       "(<hsfs.core.job.Job at 0x2471945a1c0>, None)"
      ]
     },
     "execution_count": 14,
     "metadata": {},
     "output_type": "execute_result"
    }
   ],
   "source": [
    "fares_fg.insert(df_fares)"
   ]
  },
  {
   "cell_type": "markdown",
   "id": "b3b7d4c4",
   "metadata": {},
   "source": [
    "---"
   ]
  },
  {
   "cell_type": "markdown",
   "id": "30891844",
   "metadata": {},
   "source": [
    "## <span style=\"color:#ff5f27;\">⏭️ **Next:** Part 03 </span>\n",
    "\n",
    "In the next notebook, you will create a feature view and training dataset."
   ]
  }
 ],
 "metadata": {
  "kernelspec": {
   "display_name": "Python 3 (ipykernel)",
   "language": "python",
   "name": "python3"
  },
  "language_info": {
   "codemirror_mode": {
    "name": "ipython",
    "version": 3
   },
   "file_extension": ".py",
   "mimetype": "text/x-python",
   "name": "python",
   "nbconvert_exporter": "python",
   "pygments_lexer": "ipython3",
   "version": "3.8.0"
  },
  "vscode": {
   "interpreter": {
    "hash": "190ea7959a836f4799545ea0f3718ade3abee093b15861ffdc25233d6ab7050e"
   }
  }
 },
 "nbformat": 4,
 "nbformat_minor": 5
}
