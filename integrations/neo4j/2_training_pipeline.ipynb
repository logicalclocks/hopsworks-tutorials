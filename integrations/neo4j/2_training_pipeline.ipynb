{
 "cells": [
  {
   "cell_type": "markdown",
   "id": "c80d48b9-e5a9-4576-954a-0c34f81adaed",
   "metadata": {},
   "source": [
    "# <span style=\"font-width:bold; font-size: 3rem; color:#1EB182;\"> **Hopsworks Feature Store** </span>\n",
    "<span style=\"font-width:bold; font-size: 2rem; color:#333;\">Part 02 - Training Pipeline: Load, Train & Deploy</span>\n",
    "\n",
    "## <span style=\"color:#ff5f27;\">📝 Imports</span>"
   ]
  },
  {
   "cell_type": "code",
   "execution_count": 67,
   "id": "726e95cb-313d-4851-a0b0-59971ddde9c5",
   "metadata": {},
   "outputs": [],
   "source": [
    "import ast\n",
    "import numpy as np\n",
    "import pandas as pd\n",
    "import hopsworks\n",
    "from sklearn.preprocessing import StandardScaler\n",
    "from sklearn.metrics import mean_squared_error\n",
    "from ast import literal_eval\n",
    "from tensorflow.keras.models import Sequential\n",
    "from tensorflow.keras.layers import Dense\n",
    "import hsfs\n",
    "import os\n",
    "import joblib\n",
    "from graphdatascience import GraphDataScience\n",
    "from keys import *"
   ]
  },
  {
   "cell_type": "markdown",
   "id": "44cfa0bf-69c7-48ba-a0c3-0c988df5bcc2",
   "metadata": {},
   "source": [
    "## <span style=\"color:#ff5f27;\">📡 Connecting to Hopsworks Feature Store</span>"
   ]
  },
  {
   "cell_type": "code",
   "execution_count": 62,
   "id": "7f3ffa40-d327-42fd-86c3-afd578533b96",
   "metadata": {},
   "outputs": [
    {
     "name": "stdout",
     "output_type": "stream",
     "text": [
      "Connected. Call `.close()` to terminate connection gracefully.\n"
     ]
    }
   ],
   "source": [
    "# Login to Hopsworks\n",
    "'''\n",
    "project = hopsworks.login()\n",
    "'''\n",
    "\n",
    "project = hsfs.connection(\n",
    "    host='staging.cloud.hopsworks.ai',                 # DNS of your Feature Store instance\n",
    "    port=443,                           # Port to reach your Hopsworks instance, defaults to 443\n",
    "    project='neo4j_tutorial_new',               # Name of your Hopsworks Feature Store project\n",
    "    api_key_value='OzvDK7qnG4VlhPxX.3wzZfJWWFmuYegomtWDRXAAvvGhlJEPkg4bn9kSbQaWPDgC3akbtERQOojLtEl5r',            # The API key to authenticate with the feature store\n",
    "    hostname_verification=True          # Disable for self-signed certificates\n",
    ")\n",
    "\n",
    "# Retrieve Feature Store\n",
    "fs = project.get_feature_store()           # Get the project's default feature store"
   ]
  },
  {
   "cell_type": "markdown",
   "id": "c2ac075a-566f-4e93-8dea-1eb0672b2a06",
   "metadata": {},
   "source": [
    "## <span style=\"color:#ff5f27;\">🔪 Feature Selection</span>"
   ]
  },
  {
   "cell_type": "code",
   "execution_count": 63,
   "id": "e9687f79-d924-47d1-8caf-877105d3b121",
   "metadata": {},
   "outputs": [],
   "source": [
    "# Retrieve Feature Groups\n",
    "port_distance_fg = fs.get_feature_group(\n",
    "    name='port_distances',\n",
    "    version=1,\n",
    ")"
   ]
  },
  {
   "cell_type": "code",
   "execution_count": 64,
   "id": "f41112e7-07ba-4ac7-81f7-87db41d1d8cc",
   "metadata": {},
   "outputs": [],
   "source": [
    "# Create Feature View\n",
    "feature_view = fs.get_or_create_feature_view(\n",
    "    name='port_fv',\n",
    "    version=1,\n",
    "    query=port_distance_fg.select_all(),\n",
    "    labels=[\"distance_km\"] # tell hopsworks what feature is the label\n",
    ")"
   ]
  },
  {
   "cell_type": "markdown",
   "id": "028927e4-7823-427b-b96e-39b9b554ec9e",
   "metadata": {},
   "source": [
    "# Embeddings"
   ]
  },
  {
   "cell_type": "code",
   "execution_count": 70,
   "id": "bc81231e-7ac9-4894-bbe0-70ccee5ff54b",
   "metadata": {},
   "outputs": [],
   "source": [
    "# Load Graph from Neo4J\n",
    "gds = GraphDataScience(NEO4J_URI, auth=(NEO4J_USER, NEO4J_PASSWORD), database=DATABASE_NAME)\n",
    "port_routes = gds.graph.get(\"portRoutes2\")"
   ]
  },
  {
   "cell_type": "code",
   "execution_count": 71,
   "id": "5bcc07cf-d550-4b9a-a208-000918736654",
   "metadata": {},
   "outputs": [
    {
     "data": {
      "text/html": [
       "<div>\n",
       "<style scoped>\n",
       "    .dataframe tbody tr th:only-of-type {\n",
       "        vertical-align: middle;\n",
       "    }\n",
       "\n",
       "    .dataframe tbody tr th {\n",
       "        vertical-align: top;\n",
       "    }\n",
       "\n",
       "    .dataframe thead th {\n",
       "        text-align: right;\n",
       "    }\n",
       "</style>\n",
       "<table border=\"1\" class=\"dataframe\">\n",
       "  <thead>\n",
       "    <tr style=\"text-align: right;\">\n",
       "      <th></th>\n",
       "      <th>node_id</th>\n",
       "      <th>embedding</th>\n",
       "    </tr>\n",
       "  </thead>\n",
       "  <tbody>\n",
       "    <tr>\n",
       "      <th>0</th>\n",
       "      <td>2357</td>\n",
       "      <td>[-0.00034653692273423076, 0.001878194278106093...</td>\n",
       "    </tr>\n",
       "    <tr>\n",
       "      <th>1</th>\n",
       "      <td>2358</td>\n",
       "      <td>[-0.0005902331904508173, -0.002221952192485332...</td>\n",
       "    </tr>\n",
       "    <tr>\n",
       "      <th>2</th>\n",
       "      <td>2359</td>\n",
       "      <td>[-0.00031994495657272637, -0.00092086417134851...</td>\n",
       "    </tr>\n",
       "    <tr>\n",
       "      <th>3</th>\n",
       "      <td>2360</td>\n",
       "      <td>[-4.374860509415157e-05, -0.00225309981033206,...</td>\n",
       "    </tr>\n",
       "    <tr>\n",
       "      <th>4</th>\n",
       "      <td>2361</td>\n",
       "      <td>[-0.00019197513756807894, -0.00068977207411080...</td>\n",
       "    </tr>\n",
       "    <tr>\n",
       "      <th>...</th>\n",
       "      <td>...</td>\n",
       "      <td>...</td>\n",
       "    </tr>\n",
       "    <tr>\n",
       "      <th>724</th>\n",
       "      <td>1035413</td>\n",
       "      <td>[0.0037719900719821453, -0.0027560207527130842...</td>\n",
       "    </tr>\n",
       "    <tr>\n",
       "      <th>725</th>\n",
       "      <td>1036604</td>\n",
       "      <td>[0.0003116043808404356, 7.55660657887347e-05, ...</td>\n",
       "    </tr>\n",
       "    <tr>\n",
       "      <th>726</th>\n",
       "      <td>1044372</td>\n",
       "      <td>[0.003654107917100191, 0.0020752798300236464, ...</td>\n",
       "    </tr>\n",
       "    <tr>\n",
       "      <th>727</th>\n",
       "      <td>1044373</td>\n",
       "      <td>[0.0036534080281853676, 0.0033998454455286264,...</td>\n",
       "    </tr>\n",
       "    <tr>\n",
       "      <th>728</th>\n",
       "      <td>1044530</td>\n",
       "      <td>[0.002221534261479974, -0.0004131980240345001,...</td>\n",
       "    </tr>\n",
       "  </tbody>\n",
       "</table>\n",
       "<p>729 rows × 2 columns</p>\n",
       "</div>"
      ],
      "text/plain": [
       "     node_id                                          embedding\n",
       "0       2357  [-0.00034653692273423076, 0.001878194278106093...\n",
       "1       2358  [-0.0005902331904508173, -0.002221952192485332...\n",
       "2       2359  [-0.00031994495657272637, -0.00092086417134851...\n",
       "3       2360  [-4.374860509415157e-05, -0.00225309981033206,...\n",
       "4       2361  [-0.00019197513756807894, -0.00068977207411080...\n",
       "..       ...                                                ...\n",
       "724  1035413  [0.0037719900719821453, -0.0027560207527130842...\n",
       "725  1036604  [0.0003116043808404356, 7.55660657887347e-05, ...\n",
       "726  1044372  [0.003654107917100191, 0.0020752798300236464, ...\n",
       "727  1044373  [0.0036534080281853676, 0.0033998454455286264,...\n",
       "728  1044530  [0.002221534261479974, -0.0004131980240345001,...\n",
       "\n",
       "[729 rows x 2 columns]"
      ]
     },
     "execution_count": 71,
     "metadata": {},
     "output_type": "execute_result"
    }
   ],
   "source": [
    "node_embeddings_df = gds.node2vec.stream(port_routes) \n",
    "node_embeddings_df.columns = ['node_id', 'embedding'] # rename columns for merging source side\n",
    "node_embeddings_df"
   ]
  },
  {
   "cell_type": "code",
   "execution_count": 72,
   "id": "915d1d42-cb86-41a0-8059-cca9d8f75709",
   "metadata": {},
   "outputs": [
    {
     "data": {
      "text/plain": [
       "128"
      ]
     },
     "execution_count": 72,
     "metadata": {},
     "output_type": "execute_result"
    }
   ],
   "source": [
    "# Check embedding size\n",
    "len(node_embeddings_df.embedding.values[0])"
   ]
  },
  {
   "cell_type": "markdown",
   "id": "50012a1a-dae4-4e4e-979e-df04612270fa",
   "metadata": {},
   "source": [
    "## <span style=\"color:#ff5f27;\">⚙️ Feature View Creation</span>"
   ]
  },
  {
   "cell_type": "code",
   "execution_count": 73,
   "id": "ff3de3ad-8340-451c-95a0-d003f6c752e5",
   "metadata": {},
   "outputs": [],
   "source": [
    "query = port_embeddings_fg.select([\"node_id\", \"target_node_id\", \"distance_km\"])"
   ]
  },
  {
   "cell_type": "markdown",
   "id": "2769423b-e5ff-44bc-b048-d9cb0f95eda7",
   "metadata": {},
   "source": [
    "## <span style=\"color:#ff5f27;\">🏋️ Training Dataset</span>"
   ]
  },
  {
   "cell_type": "code",
   "execution_count": null,
   "id": "3c219e1b-195c-4d0d-a797-038003f9dc7d",
   "metadata": {},
   "outputs": [],
   "source": [
    "# create a training dataset \n",
    "#X_train, X_test, y_train, y_test = feature_view.train_test_split(test_size=0.2)\n",
    "\n",
    "X_train, X_test, y_train, y_test = feature_view.get_train_test_split(training_dataset_version=1)"
   ]
  },
  {
   "cell_type": "markdown",
   "id": "f4730598",
   "metadata": {},
   "source": [
    "---"
   ]
  },
  {
   "cell_type": "markdown",
   "id": "30ccac30-58a3-4fc9-a5e8-d8b5c9c089d9",
   "metadata": {},
   "source": [
    "# Feature Engineering"
   ]
  },
  {
   "cell_type": "code",
   "execution_count": 22,
   "id": "6fa11320",
   "metadata": {},
   "outputs": [],
   "source": [
    "# Combine embeddings and explode features\n",
    "def combine_explode_embeddings(data):\n",
    "    # Convert embeddings from String to List\n",
    "    if type(data['source_node_embedding'].iloc[0]) == str:\n",
    "        data['source_node_embedding'] = data['source_node_embedding'].apply(literal_eval)\n",
    "    if type(data['target_node_embedding'].iloc[0]) == str:\n",
    "        data['target_node_embedding'] = data['target_node_embedding'].apply(literal_eval)\n",
    "\n",
    "    # Concatenate embeddings\n",
    "    data['concatenated_embedding'] = data.source_node_embedding + data.target_node_embedding\n",
    "\n",
    "    # Remove original embedding features\n",
    "    data = data.drop(['source_node_embedding', 'target_node_embedding'], axis=1)\n",
    "\n",
    "    # Convert to Numpy array\n",
    "    data['concatenated_embedding'] = data['concatenated_embedding'].apply(np.array)\n",
    "\n",
    "    # Explode Embedding features\n",
    "    data_exploded = pd.DataFrame(\n",
    "        data['concatenated_embedding'].to_list(),\n",
    "        columns=[f'feature_{i}' for i in range(len(data.concatenated_embedding.iloc[0]))]\n",
    "    )\n",
    "    return data_exploded\n",
    "\n",
    "X_train_exploded = combine_explode_embeddings(X_train)\n",
    "X_test_exploded = combine_explode_embeddings(X_test)"
   ]
  },
  {
   "cell_type": "code",
   "execution_count": 25,
   "id": "c4891e0a",
   "metadata": {},
   "outputs": [
    {
     "data": {
      "text/plain": [
       "(256, 256)"
      ]
     },
     "execution_count": 25,
     "metadata": {},
     "output_type": "execute_result"
    }
   ],
   "source": [
    "X_train_exploded.shape"
   ]
  },
  {
   "cell_type": "code",
   "execution_count": 27,
   "id": "0f5eb2b9-7531-42f6-80d5-c0b3bb2dd4cc",
   "metadata": {},
   "outputs": [
    {
     "data": {
      "text/plain": [
       "(64, 256)"
      ]
     },
     "execution_count": 27,
     "metadata": {},
     "output_type": "execute_result"
    }
   ],
   "source": [
    "X_test_exploded.shape"
   ]
  },
  {
   "cell_type": "markdown",
   "id": "29a012ff-4289-465a-b279-6b45692a3d3d",
   "metadata": {},
   "source": [
    "## <span style=\"color:#ff5f27;\">🏃 Train Model</span>"
   ]
  },
  {
   "cell_type": "code",
   "execution_count": 39,
   "id": "d8d9cf6d-cafa-4a41-94af-5e6c043b3b23",
   "metadata": {},
   "outputs": [],
   "source": [
    "# Standardize the features\n",
    "scaler = StandardScaler()\n",
    "X_train_scaled = scaler.fit_transform(X_train_exploded)\n",
    "X_test_scaled = scaler.transform(X_test_exploded)"
   ]
  },
  {
   "cell_type": "code",
   "execution_count": 49,
   "id": "f46d2b0a-ee05-440c-b439-3ef163420bb1",
   "metadata": {},
   "outputs": [
    {
     "name": "stdout",
     "output_type": "stream",
     "text": [
      "Epoch 1/50\n",
      "8/8 [==============================] - 0s 5ms/step - loss: 272661824.0000 - val_loss: 247708336.0000\n",
      "Epoch 2/50\n",
      "8/8 [==============================] - 0s 1ms/step - loss: 272614336.0000 - val_loss: 247668864.0000\n",
      "Epoch 3/50\n",
      "8/8 [==============================] - 0s 1ms/step - loss: 272571008.0000 - val_loss: 247627872.0000\n",
      "Epoch 4/50\n",
      "8/8 [==============================] - 0s 1ms/step - loss: 272522784.0000 - val_loss: 247581968.0000\n",
      "Epoch 5/50\n",
      "8/8 [==============================] - 0s 1ms/step - loss: 272467136.0000 - val_loss: 247526944.0000\n",
      "Epoch 6/50\n",
      "8/8 [==============================] - 0s 1ms/step - loss: 272396288.0000 - val_loss: 247461936.0000\n",
      "Epoch 7/50\n",
      "8/8 [==============================] - 0s 1ms/step - loss: 272308480.0000 - val_loss: 247382848.0000\n",
      "Epoch 8/50\n",
      "8/8 [==============================] - 0s 1ms/step - loss: 272201024.0000 - val_loss: 247286208.0000\n",
      "Epoch 9/50\n",
      "8/8 [==============================] - 0s 1ms/step - loss: 272065280.0000 - val_loss: 247168688.0000\n",
      "Epoch 10/50\n",
      "8/8 [==============================] - 0s 1ms/step - loss: 271896320.0000 - val_loss: 247025376.0000\n",
      "Epoch 11/50\n",
      "8/8 [==============================] - 0s 1ms/step - loss: 271681888.0000 - val_loss: 246856288.0000\n",
      "Epoch 12/50\n",
      "8/8 [==============================] - 0s 1ms/step - loss: 271426624.0000 - val_loss: 246652176.0000\n",
      "Epoch 13/50\n",
      "8/8 [==============================] - 0s 1ms/step - loss: 271123264.0000 - val_loss: 246405728.0000\n",
      "Epoch 14/50\n",
      "8/8 [==============================] - 0s 1ms/step - loss: 270747072.0000 - val_loss: 246116864.0000\n",
      "Epoch 15/50\n",
      "8/8 [==============================] - 0s 1ms/step - loss: 270307968.0000 - val_loss: 245790096.0000\n",
      "Epoch 16/50\n",
      "8/8 [==============================] - 0s 1ms/step - loss: 269822080.0000 - val_loss: 245404288.0000\n",
      "Epoch 17/50\n",
      "8/8 [==============================] - 0s 1ms/step - loss: 269204256.0000 - val_loss: 244960512.0000\n",
      "Epoch 18/50\n",
      "8/8 [==============================] - 0s 1ms/step - loss: 268515328.0000 - val_loss: 244457360.0000\n",
      "Epoch 19/50\n",
      "8/8 [==============================] - 0s 2ms/step - loss: 267718704.0000 - val_loss: 243888368.0000\n",
      "Epoch 20/50\n",
      "8/8 [==============================] - 0s 2ms/step - loss: 266827552.0000 - val_loss: 243244896.0000\n",
      "Epoch 21/50\n",
      "8/8 [==============================] - 0s 1ms/step - loss: 265832544.0000 - val_loss: 242528448.0000\n",
      "Epoch 22/50\n",
      "8/8 [==============================] - 0s 1ms/step - loss: 264697040.0000 - val_loss: 241722848.0000\n",
      "Epoch 23/50\n",
      "8/8 [==============================] - 0s 1ms/step - loss: 263438848.0000 - val_loss: 240861760.0000\n",
      "Epoch 24/50\n",
      "8/8 [==============================] - 0s 1ms/step - loss: 262062064.0000 - val_loss: 239904592.0000\n",
      "Epoch 25/50\n",
      "8/8 [==============================] - 0s 1ms/step - loss: 260535648.0000 - val_loss: 238847984.0000\n",
      "Epoch 26/50\n",
      "8/8 [==============================] - 0s 1ms/step - loss: 258844912.0000 - val_loss: 237698016.0000\n",
      "Epoch 27/50\n",
      "8/8 [==============================] - 0s 1ms/step - loss: 257019680.0000 - val_loss: 236446448.0000\n",
      "Epoch 28/50\n",
      "8/8 [==============================] - 0s 1ms/step - loss: 255051600.0000 - val_loss: 235064896.0000\n",
      "Epoch 29/50\n",
      "8/8 [==============================] - 0s 1ms/step - loss: 252911872.0000 - val_loss: 233610944.0000\n",
      "Epoch 30/50\n",
      "8/8 [==============================] - 0s 1ms/step - loss: 250585088.0000 - val_loss: 232037760.0000\n",
      "Epoch 31/50\n",
      "8/8 [==============================] - 0s 1ms/step - loss: 248110208.0000 - val_loss: 230366240.0000\n",
      "Epoch 32/50\n",
      "8/8 [==============================] - 0s 1ms/step - loss: 245477040.0000 - val_loss: 228553136.0000\n",
      "Epoch 33/50\n",
      "8/8 [==============================] - 0s 1ms/step - loss: 242544720.0000 - val_loss: 226635152.0000\n",
      "Epoch 34/50\n",
      "8/8 [==============================] - 0s 1ms/step - loss: 239517744.0000 - val_loss: 224617312.0000\n",
      "Epoch 35/50\n",
      "8/8 [==============================] - 0s 1ms/step - loss: 236401824.0000 - val_loss: 222483104.0000\n",
      "Epoch 36/50\n",
      "8/8 [==============================] - 0s 1ms/step - loss: 232988512.0000 - val_loss: 220235648.0000\n",
      "Epoch 37/50\n",
      "8/8 [==============================] - 0s 1ms/step - loss: 229514816.0000 - val_loss: 217773776.0000\n",
      "Epoch 38/50\n",
      "8/8 [==============================] - 0s 1ms/step - loss: 225765232.0000 - val_loss: 215270016.0000\n",
      "Epoch 39/50\n",
      "8/8 [==============================] - 0s 1ms/step - loss: 221824096.0000 - val_loss: 212685456.0000\n",
      "Epoch 40/50\n",
      "8/8 [==============================] - 0s 1ms/step - loss: 217731888.0000 - val_loss: 209975680.0000\n",
      "Epoch 41/50\n",
      "8/8 [==============================] - 0s 1ms/step - loss: 213592128.0000 - val_loss: 207135040.0000\n",
      "Epoch 42/50\n",
      "8/8 [==============================] - 0s 1ms/step - loss: 209307040.0000 - val_loss: 204247216.0000\n",
      "Epoch 43/50\n",
      "8/8 [==============================] - 0s 1ms/step - loss: 204702032.0000 - val_loss: 201177088.0000\n",
      "Epoch 44/50\n",
      "8/8 [==============================] - 0s 1ms/step - loss: 200131744.0000 - val_loss: 198078256.0000\n",
      "Epoch 45/50\n",
      "8/8 [==============================] - 0s 1ms/step - loss: 195315680.0000 - val_loss: 194852368.0000\n",
      "Epoch 46/50\n",
      "8/8 [==============================] - 0s 1ms/step - loss: 190590896.0000 - val_loss: 191500928.0000\n",
      "Epoch 47/50\n",
      "8/8 [==============================] - 0s 1ms/step - loss: 185441776.0000 - val_loss: 188151232.0000\n",
      "Epoch 48/50\n",
      "8/8 [==============================] - 0s 1ms/step - loss: 180380448.0000 - val_loss: 184686000.0000\n",
      "Epoch 49/50\n",
      "8/8 [==============================] - 0s 1ms/step - loss: 175229744.0000 - val_loss: 181132672.0000\n",
      "Epoch 50/50\n",
      "8/8 [==============================] - 0s 1ms/step - loss: 170033440.0000 - val_loss: 177568336.0000\n"
     ]
    },
    {
     "data": {
      "text/plain": [
       "<keras.src.callbacks.History at 0x2cb5cb610>"
      ]
     },
     "execution_count": 49,
     "metadata": {},
     "output_type": "execute_result"
    }
   ],
   "source": [
    "# Build the neural network model\n",
    "model = Sequential()\n",
    "model.add(Dense(64, input_dim=X_train_exploded.shape[1], activation='relu'))\n",
    "model.add(Dense(32, activation='relu'))\n",
    "model.add(Dense(1, activation='linear'))  # Use linear activation for regression\n",
    "\n",
    "# Compile the model\n",
    "model.compile(loss='mean_squared_error', optimizer='adam')\n",
    "\n",
    "# Train the model\n",
    "model.fit(X_train_scaled, y_train, epochs=50, batch_size=32, validation_split=0.2, validation_data=(X_test_scaled, y_test))"
   ]
  },
  {
   "cell_type": "markdown",
   "id": "075235aa-71fd-4180-9156-227637b3aa7f",
   "metadata": {},
   "source": [
    "## <span style=\"color:#ff5f27;\">👨🏻‍⚖️ Model Evaluation</span>"
   ]
  },
  {
   "cell_type": "code",
   "execution_count": 50,
   "id": "e214eb14-3d08-4d64-937e-689a57848c2c",
   "metadata": {},
   "outputs": [
    {
     "name": "stdout",
     "output_type": "stream",
     "text": [
      "2/2 [==============================] - 0s 2ms/step - loss: 177568336.0000\n",
      "Mean Squared Error on Test Set: 177568336.0\n"
     ]
    }
   ],
   "source": [
    "# Evaluate the model on the test set\n",
    "mse = model.evaluate(X_test_scaled, y_test)\n",
    "print(f'Mean Squared Error on Test Set: {mse}')"
   ]
  },
  {
   "cell_type": "markdown",
   "id": "eba5155f-c572-4098-acf0-664c6cfabc24",
   "metadata": {},
   "source": [
    "## <span style=\"color:#ff5f27;\">🗄 Model Registry</span>\n",
    "One of the features in Hopsworks is the model registry. This is where you can store different versions of models and compare their performance."
   ]
  },
  {
   "cell_type": "code",
   "execution_count": 53,
   "id": "5f159c33-494c-407d-979a-6f1e891786d7",
   "metadata": {},
   "outputs": [
    {
     "ename": "AttributeError",
     "evalue": "'Connection' object has no attribute 'get_model_registry'",
     "output_type": "error",
     "traceback": [
      "\u001b[0;31m---------------------------------------------------------------------------\u001b[0m",
      "\u001b[0;31mAttributeError\u001b[0m                            Traceback (most recent call last)",
      "Cell \u001b[0;32mIn[53], line 2\u001b[0m\n\u001b[1;32m      1\u001b[0m \u001b[38;5;66;03m# Get the model registry\u001b[39;00m\n\u001b[0;32m----> 2\u001b[0m mr \u001b[38;5;241m=\u001b[39m \u001b[43mproject\u001b[49m\u001b[38;5;241;43m.\u001b[39;49m\u001b[43mget_model_registry\u001b[49m()\n",
      "\u001b[0;31mAttributeError\u001b[0m: 'Connection' object has no attribute 'get_model_registry'"
     ]
    }
   ],
   "source": [
    "# Get the model registry\n",
    "mr = project.get_model_registry()"
   ]
  },
  {
   "cell_type": "markdown",
   "id": "30b528c8-c4fc-4653-822a-21333dc7d8fb",
   "metadata": {},
   "source": [
    "## <span style=\"color:#ff5f27;\">⚙️ Model Schema</span>\n",
    "The model needs to be set up with a Model Schema, which describes the inputs and outputs for a model.\n",
    "\n",
    "A Model Schema can be automatically generated from training examples, as shown below."
   ]
  },
  {
   "cell_type": "code",
   "execution_count": 54,
   "id": "31e33584-0c17-478e-818a-35e9c9b54261",
   "metadata": {},
   "outputs": [
    {
     "data": {
      "text/plain": [
       "{'input_schema': {'columnar_schema': [{'name': 'feature_0', 'type': 'float64'},\n",
       "   {'name': 'feature_1', 'type': 'float64'},\n",
       "   {'name': 'feature_2', 'type': 'float64'},\n",
       "   {'name': 'feature_3', 'type': 'float64'},\n",
       "   {'name': 'feature_4', 'type': 'float64'},\n",
       "   {'name': 'feature_5', 'type': 'float64'},\n",
       "   {'name': 'feature_6', 'type': 'float64'},\n",
       "   {'name': 'feature_7', 'type': 'float64'},\n",
       "   {'name': 'feature_8', 'type': 'float64'},\n",
       "   {'name': 'feature_9', 'type': 'float64'},\n",
       "   {'name': 'feature_10', 'type': 'float64'},\n",
       "   {'name': 'feature_11', 'type': 'float64'},\n",
       "   {'name': 'feature_12', 'type': 'float64'},\n",
       "   {'name': 'feature_13', 'type': 'float64'},\n",
       "   {'name': 'feature_14', 'type': 'float64'},\n",
       "   {'name': 'feature_15', 'type': 'float64'},\n",
       "   {'name': 'feature_16', 'type': 'float64'},\n",
       "   {'name': 'feature_17', 'type': 'float64'},\n",
       "   {'name': 'feature_18', 'type': 'float64'},\n",
       "   {'name': 'feature_19', 'type': 'float64'},\n",
       "   {'name': 'feature_20', 'type': 'float64'},\n",
       "   {'name': 'feature_21', 'type': 'float64'},\n",
       "   {'name': 'feature_22', 'type': 'float64'},\n",
       "   {'name': 'feature_23', 'type': 'float64'},\n",
       "   {'name': 'feature_24', 'type': 'float64'},\n",
       "   {'name': 'feature_25', 'type': 'float64'},\n",
       "   {'name': 'feature_26', 'type': 'float64'},\n",
       "   {'name': 'feature_27', 'type': 'float64'},\n",
       "   {'name': 'feature_28', 'type': 'float64'},\n",
       "   {'name': 'feature_29', 'type': 'float64'},\n",
       "   {'name': 'feature_30', 'type': 'float64'},\n",
       "   {'name': 'feature_31', 'type': 'float64'},\n",
       "   {'name': 'feature_32', 'type': 'float64'},\n",
       "   {'name': 'feature_33', 'type': 'float64'},\n",
       "   {'name': 'feature_34', 'type': 'float64'},\n",
       "   {'name': 'feature_35', 'type': 'float64'},\n",
       "   {'name': 'feature_36', 'type': 'float64'},\n",
       "   {'name': 'feature_37', 'type': 'float64'},\n",
       "   {'name': 'feature_38', 'type': 'float64'},\n",
       "   {'name': 'feature_39', 'type': 'float64'},\n",
       "   {'name': 'feature_40', 'type': 'float64'},\n",
       "   {'name': 'feature_41', 'type': 'float64'},\n",
       "   {'name': 'feature_42', 'type': 'float64'},\n",
       "   {'name': 'feature_43', 'type': 'float64'},\n",
       "   {'name': 'feature_44', 'type': 'float64'},\n",
       "   {'name': 'feature_45', 'type': 'float64'},\n",
       "   {'name': 'feature_46', 'type': 'float64'},\n",
       "   {'name': 'feature_47', 'type': 'float64'},\n",
       "   {'name': 'feature_48', 'type': 'float64'},\n",
       "   {'name': 'feature_49', 'type': 'float64'},\n",
       "   {'name': 'feature_50', 'type': 'float64'},\n",
       "   {'name': 'feature_51', 'type': 'float64'},\n",
       "   {'name': 'feature_52', 'type': 'float64'},\n",
       "   {'name': 'feature_53', 'type': 'float64'},\n",
       "   {'name': 'feature_54', 'type': 'float64'},\n",
       "   {'name': 'feature_55', 'type': 'float64'},\n",
       "   {'name': 'feature_56', 'type': 'float64'},\n",
       "   {'name': 'feature_57', 'type': 'float64'},\n",
       "   {'name': 'feature_58', 'type': 'float64'},\n",
       "   {'name': 'feature_59', 'type': 'float64'},\n",
       "   {'name': 'feature_60', 'type': 'float64'},\n",
       "   {'name': 'feature_61', 'type': 'float64'},\n",
       "   {'name': 'feature_62', 'type': 'float64'},\n",
       "   {'name': 'feature_63', 'type': 'float64'},\n",
       "   {'name': 'feature_64', 'type': 'float64'},\n",
       "   {'name': 'feature_65', 'type': 'float64'},\n",
       "   {'name': 'feature_66', 'type': 'float64'},\n",
       "   {'name': 'feature_67', 'type': 'float64'},\n",
       "   {'name': 'feature_68', 'type': 'float64'},\n",
       "   {'name': 'feature_69', 'type': 'float64'},\n",
       "   {'name': 'feature_70', 'type': 'float64'},\n",
       "   {'name': 'feature_71', 'type': 'float64'},\n",
       "   {'name': 'feature_72', 'type': 'float64'},\n",
       "   {'name': 'feature_73', 'type': 'float64'},\n",
       "   {'name': 'feature_74', 'type': 'float64'},\n",
       "   {'name': 'feature_75', 'type': 'float64'},\n",
       "   {'name': 'feature_76', 'type': 'float64'},\n",
       "   {'name': 'feature_77', 'type': 'float64'},\n",
       "   {'name': 'feature_78', 'type': 'float64'},\n",
       "   {'name': 'feature_79', 'type': 'float64'},\n",
       "   {'name': 'feature_80', 'type': 'float64'},\n",
       "   {'name': 'feature_81', 'type': 'float64'},\n",
       "   {'name': 'feature_82', 'type': 'float64'},\n",
       "   {'name': 'feature_83', 'type': 'float64'},\n",
       "   {'name': 'feature_84', 'type': 'float64'},\n",
       "   {'name': 'feature_85', 'type': 'float64'},\n",
       "   {'name': 'feature_86', 'type': 'float64'},\n",
       "   {'name': 'feature_87', 'type': 'float64'},\n",
       "   {'name': 'feature_88', 'type': 'float64'},\n",
       "   {'name': 'feature_89', 'type': 'float64'},\n",
       "   {'name': 'feature_90', 'type': 'float64'},\n",
       "   {'name': 'feature_91', 'type': 'float64'},\n",
       "   {'name': 'feature_92', 'type': 'float64'},\n",
       "   {'name': 'feature_93', 'type': 'float64'},\n",
       "   {'name': 'feature_94', 'type': 'float64'},\n",
       "   {'name': 'feature_95', 'type': 'float64'},\n",
       "   {'name': 'feature_96', 'type': 'float64'},\n",
       "   {'name': 'feature_97', 'type': 'float64'},\n",
       "   {'name': 'feature_98', 'type': 'float64'},\n",
       "   {'name': 'feature_99', 'type': 'float64'},\n",
       "   {'name': 'feature_100', 'type': 'float64'},\n",
       "   {'name': 'feature_101', 'type': 'float64'},\n",
       "   {'name': 'feature_102', 'type': 'float64'},\n",
       "   {'name': 'feature_103', 'type': 'float64'},\n",
       "   {'name': 'feature_104', 'type': 'float64'},\n",
       "   {'name': 'feature_105', 'type': 'float64'},\n",
       "   {'name': 'feature_106', 'type': 'float64'},\n",
       "   {'name': 'feature_107', 'type': 'float64'},\n",
       "   {'name': 'feature_108', 'type': 'float64'},\n",
       "   {'name': 'feature_109', 'type': 'float64'},\n",
       "   {'name': 'feature_110', 'type': 'float64'},\n",
       "   {'name': 'feature_111', 'type': 'float64'},\n",
       "   {'name': 'feature_112', 'type': 'float64'},\n",
       "   {'name': 'feature_113', 'type': 'float64'},\n",
       "   {'name': 'feature_114', 'type': 'float64'},\n",
       "   {'name': 'feature_115', 'type': 'float64'},\n",
       "   {'name': 'feature_116', 'type': 'float64'},\n",
       "   {'name': 'feature_117', 'type': 'float64'},\n",
       "   {'name': 'feature_118', 'type': 'float64'},\n",
       "   {'name': 'feature_119', 'type': 'float64'},\n",
       "   {'name': 'feature_120', 'type': 'float64'},\n",
       "   {'name': 'feature_121', 'type': 'float64'},\n",
       "   {'name': 'feature_122', 'type': 'float64'},\n",
       "   {'name': 'feature_123', 'type': 'float64'},\n",
       "   {'name': 'feature_124', 'type': 'float64'},\n",
       "   {'name': 'feature_125', 'type': 'float64'},\n",
       "   {'name': 'feature_126', 'type': 'float64'},\n",
       "   {'name': 'feature_127', 'type': 'float64'},\n",
       "   {'name': 'feature_128', 'type': 'float64'},\n",
       "   {'name': 'feature_129', 'type': 'float64'},\n",
       "   {'name': 'feature_130', 'type': 'float64'},\n",
       "   {'name': 'feature_131', 'type': 'float64'},\n",
       "   {'name': 'feature_132', 'type': 'float64'},\n",
       "   {'name': 'feature_133', 'type': 'float64'},\n",
       "   {'name': 'feature_134', 'type': 'float64'},\n",
       "   {'name': 'feature_135', 'type': 'float64'},\n",
       "   {'name': 'feature_136', 'type': 'float64'},\n",
       "   {'name': 'feature_137', 'type': 'float64'},\n",
       "   {'name': 'feature_138', 'type': 'float64'},\n",
       "   {'name': 'feature_139', 'type': 'float64'},\n",
       "   {'name': 'feature_140', 'type': 'float64'},\n",
       "   {'name': 'feature_141', 'type': 'float64'},\n",
       "   {'name': 'feature_142', 'type': 'float64'},\n",
       "   {'name': 'feature_143', 'type': 'float64'},\n",
       "   {'name': 'feature_144', 'type': 'float64'},\n",
       "   {'name': 'feature_145', 'type': 'float64'},\n",
       "   {'name': 'feature_146', 'type': 'float64'},\n",
       "   {'name': 'feature_147', 'type': 'float64'},\n",
       "   {'name': 'feature_148', 'type': 'float64'},\n",
       "   {'name': 'feature_149', 'type': 'float64'},\n",
       "   {'name': 'feature_150', 'type': 'float64'},\n",
       "   {'name': 'feature_151', 'type': 'float64'},\n",
       "   {'name': 'feature_152', 'type': 'float64'},\n",
       "   {'name': 'feature_153', 'type': 'float64'},\n",
       "   {'name': 'feature_154', 'type': 'float64'},\n",
       "   {'name': 'feature_155', 'type': 'float64'},\n",
       "   {'name': 'feature_156', 'type': 'float64'},\n",
       "   {'name': 'feature_157', 'type': 'float64'},\n",
       "   {'name': 'feature_158', 'type': 'float64'},\n",
       "   {'name': 'feature_159', 'type': 'float64'},\n",
       "   {'name': 'feature_160', 'type': 'float64'},\n",
       "   {'name': 'feature_161', 'type': 'float64'},\n",
       "   {'name': 'feature_162', 'type': 'float64'},\n",
       "   {'name': 'feature_163', 'type': 'float64'},\n",
       "   {'name': 'feature_164', 'type': 'float64'},\n",
       "   {'name': 'feature_165', 'type': 'float64'},\n",
       "   {'name': 'feature_166', 'type': 'float64'},\n",
       "   {'name': 'feature_167', 'type': 'float64'},\n",
       "   {'name': 'feature_168', 'type': 'float64'},\n",
       "   {'name': 'feature_169', 'type': 'float64'},\n",
       "   {'name': 'feature_170', 'type': 'float64'},\n",
       "   {'name': 'feature_171', 'type': 'float64'},\n",
       "   {'name': 'feature_172', 'type': 'float64'},\n",
       "   {'name': 'feature_173', 'type': 'float64'},\n",
       "   {'name': 'feature_174', 'type': 'float64'},\n",
       "   {'name': 'feature_175', 'type': 'float64'},\n",
       "   {'name': 'feature_176', 'type': 'float64'},\n",
       "   {'name': 'feature_177', 'type': 'float64'},\n",
       "   {'name': 'feature_178', 'type': 'float64'},\n",
       "   {'name': 'feature_179', 'type': 'float64'},\n",
       "   {'name': 'feature_180', 'type': 'float64'},\n",
       "   {'name': 'feature_181', 'type': 'float64'},\n",
       "   {'name': 'feature_182', 'type': 'float64'},\n",
       "   {'name': 'feature_183', 'type': 'float64'},\n",
       "   {'name': 'feature_184', 'type': 'float64'},\n",
       "   {'name': 'feature_185', 'type': 'float64'},\n",
       "   {'name': 'feature_186', 'type': 'float64'},\n",
       "   {'name': 'feature_187', 'type': 'float64'},\n",
       "   {'name': 'feature_188', 'type': 'float64'},\n",
       "   {'name': 'feature_189', 'type': 'float64'},\n",
       "   {'name': 'feature_190', 'type': 'float64'},\n",
       "   {'name': 'feature_191', 'type': 'float64'},\n",
       "   {'name': 'feature_192', 'type': 'float64'},\n",
       "   {'name': 'feature_193', 'type': 'float64'},\n",
       "   {'name': 'feature_194', 'type': 'float64'},\n",
       "   {'name': 'feature_195', 'type': 'float64'},\n",
       "   {'name': 'feature_196', 'type': 'float64'},\n",
       "   {'name': 'feature_197', 'type': 'float64'},\n",
       "   {'name': 'feature_198', 'type': 'float64'},\n",
       "   {'name': 'feature_199', 'type': 'float64'},\n",
       "   {'name': 'feature_200', 'type': 'float64'},\n",
       "   {'name': 'feature_201', 'type': 'float64'},\n",
       "   {'name': 'feature_202', 'type': 'float64'},\n",
       "   {'name': 'feature_203', 'type': 'float64'},\n",
       "   {'name': 'feature_204', 'type': 'float64'},\n",
       "   {'name': 'feature_205', 'type': 'float64'},\n",
       "   {'name': 'feature_206', 'type': 'float64'},\n",
       "   {'name': 'feature_207', 'type': 'float64'},\n",
       "   {'name': 'feature_208', 'type': 'float64'},\n",
       "   {'name': 'feature_209', 'type': 'float64'},\n",
       "   {'name': 'feature_210', 'type': 'float64'},\n",
       "   {'name': 'feature_211', 'type': 'float64'},\n",
       "   {'name': 'feature_212', 'type': 'float64'},\n",
       "   {'name': 'feature_213', 'type': 'float64'},\n",
       "   {'name': 'feature_214', 'type': 'float64'},\n",
       "   {'name': 'feature_215', 'type': 'float64'},\n",
       "   {'name': 'feature_216', 'type': 'float64'},\n",
       "   {'name': 'feature_217', 'type': 'float64'},\n",
       "   {'name': 'feature_218', 'type': 'float64'},\n",
       "   {'name': 'feature_219', 'type': 'float64'},\n",
       "   {'name': 'feature_220', 'type': 'float64'},\n",
       "   {'name': 'feature_221', 'type': 'float64'},\n",
       "   {'name': 'feature_222', 'type': 'float64'},\n",
       "   {'name': 'feature_223', 'type': 'float64'},\n",
       "   {'name': 'feature_224', 'type': 'float64'},\n",
       "   {'name': 'feature_225', 'type': 'float64'},\n",
       "   {'name': 'feature_226', 'type': 'float64'},\n",
       "   {'name': 'feature_227', 'type': 'float64'},\n",
       "   {'name': 'feature_228', 'type': 'float64'},\n",
       "   {'name': 'feature_229', 'type': 'float64'},\n",
       "   {'name': 'feature_230', 'type': 'float64'},\n",
       "   {'name': 'feature_231', 'type': 'float64'},\n",
       "   {'name': 'feature_232', 'type': 'float64'},\n",
       "   {'name': 'feature_233', 'type': 'float64'},\n",
       "   {'name': 'feature_234', 'type': 'float64'},\n",
       "   {'name': 'feature_235', 'type': 'float64'},\n",
       "   {'name': 'feature_236', 'type': 'float64'},\n",
       "   {'name': 'feature_237', 'type': 'float64'},\n",
       "   {'name': 'feature_238', 'type': 'float64'},\n",
       "   {'name': 'feature_239', 'type': 'float64'},\n",
       "   {'name': 'feature_240', 'type': 'float64'},\n",
       "   {'name': 'feature_241', 'type': 'float64'},\n",
       "   {'name': 'feature_242', 'type': 'float64'},\n",
       "   {'name': 'feature_243', 'type': 'float64'},\n",
       "   {'name': 'feature_244', 'type': 'float64'},\n",
       "   {'name': 'feature_245', 'type': 'float64'},\n",
       "   {'name': 'feature_246', 'type': 'float64'},\n",
       "   {'name': 'feature_247', 'type': 'float64'},\n",
       "   {'name': 'feature_248', 'type': 'float64'},\n",
       "   {'name': 'feature_249', 'type': 'float64'},\n",
       "   {'name': 'feature_250', 'type': 'float64'},\n",
       "   {'name': 'feature_251', 'type': 'float64'},\n",
       "   {'name': 'feature_252', 'type': 'float64'},\n",
       "   {'name': 'feature_253', 'type': 'float64'},\n",
       "   {'name': 'feature_254', 'type': 'float64'},\n",
       "   {'name': 'feature_255', 'type': 'float64'}]},\n",
       " 'output_schema': {'columnar_schema': [{'name': 'distance_km',\n",
       "    'type': 'float64'}]}}"
      ]
     },
     "execution_count": 54,
     "metadata": {},
     "output_type": "execute_result"
    }
   ],
   "source": [
    "from hsml.schema import Schema\n",
    "from hsml.model_schema import ModelSchema\n",
    "\n",
    "# Create input schema using X_train\n",
    "input_schema = Schema(X_train_exploded)\n",
    "\n",
    "# Create output schema using y_train\n",
    "output_schema = Schema(y_train)\n",
    "\n",
    "# Create a ModelSchema object specifying the input and output schemas\n",
    "model_schema = ModelSchema(input_schema=input_schema, output_schema=output_schema)\n",
    "\n",
    "# Convert the model schema to a dictionary\n",
    "model_schema.to_dict()"
   ]
  },
  {
   "cell_type": "code",
   "execution_count": 59,
   "id": "3c0ad484-2b0e-499a-9f89-648d85f3f63b",
   "metadata": {},
   "outputs": [
    {
     "data": {
      "text/plain": [
       "['neo4j_model/neural_network_model.pkl']"
      ]
     },
     "execution_count": 59,
     "metadata": {},
     "output_type": "execute_result"
    }
   ],
   "source": [
    "# Specify the directory where the model files will be saved\n",
    "model_dir = \"neo4j_model\"\n",
    "\n",
    "# Check if the directory exists, and create it if it doesn't\n",
    "if not os.path.isdir(model_dir):\n",
    "    os.mkdir(model_dir)\n",
    "\n",
    "# Specify the file name for the pickled model\n",
    "pkl_file_name = model_dir + '/neural_network_model.pkl'\n",
    "\n",
    "# Save the trained classifier using joblib\n",
    "joblib.dump(model, pkl_file_name)"
   ]
  },
  {
   "cell_type": "code",
   "execution_count": 60,
   "id": "4ea60d22-7dd9-4a5f-b9a6-66ddf7f61bfe",
   "metadata": {},
   "outputs": [
    {
     "ename": "NameError",
     "evalue": "name 'mr' is not defined",
     "output_type": "error",
     "traceback": [
      "\u001b[0;31m---------------------------------------------------------------------------\u001b[0m",
      "\u001b[0;31mNameError\u001b[0m                                 Traceback (most recent call last)",
      "Cell \u001b[0;32mIn[60], line 2\u001b[0m\n\u001b[1;32m      1\u001b[0m \u001b[38;5;66;03m# Create a model in the model registry\u001b[39;00m\n\u001b[0;32m----> 2\u001b[0m model \u001b[38;5;241m=\u001b[39m \u001b[43mmr\u001b[49m\u001b[38;5;241m.\u001b[39mpython\u001b[38;5;241m.\u001b[39mcreate_model(\n\u001b[1;32m      3\u001b[0m     name\u001b[38;5;241m=\u001b[39m\u001b[38;5;124m\"\u001b[39m\u001b[38;5;124mneo4j_neural_network\u001b[39m\u001b[38;5;124m\"\u001b[39m,\n\u001b[1;32m      4\u001b[0m     description\u001b[38;5;241m=\u001b[39m\u001b[38;5;124m\"\u001b[39m\u001b[38;5;124mNeo4j Neural Network\u001b[39m\u001b[38;5;124m\"\u001b[39m,\n\u001b[1;32m      5\u001b[0m     input_example\u001b[38;5;241m=\u001b[39mX_train\u001b[38;5;241m.\u001b[39msample(),\n\u001b[1;32m      6\u001b[0m     model_schema\u001b[38;5;241m=\u001b[39mmodel_schema,\n\u001b[1;32m      7\u001b[0m )\n\u001b[1;32m      9\u001b[0m \u001b[38;5;66;03m# Save the model to the specified directory\u001b[39;00m\n\u001b[1;32m     10\u001b[0m model\u001b[38;5;241m.\u001b[39msave(model_dir)\n",
      "\u001b[0;31mNameError\u001b[0m: name 'mr' is not defined"
     ]
    }
   ],
   "source": [
    "# Create a model in the model registry\n",
    "model = mr.python.create_model(\n",
    "    name=\"neo4j_neural_network\",\n",
    "    description=\"Neo4j Neural Network\",\n",
    "    input_example=X_train.sample(),\n",
    "    model_schema=model_schema,\n",
    ")\n",
    "\n",
    "# Save the model to the specified directory\n",
    "model.save(model_dir)"
   ]
  },
  {
   "cell_type": "markdown",
   "id": "ef4d52e3-cb0f-4454-bdc9-bf40ff4a7c24",
   "metadata": {},
   "source": [
    "## <span style=\"color:#ff5f27;\">⏭️ Next: Inference Pipeline</span>\n",
    "In the [following notebook](3_infence_pipeline.ipynb) you will use your model for batch inference."
   ]
  }
 ],
 "metadata": {
  "kernelspec": {
   "display_name": "Python 3 (ipykernel)",
   "language": "python",
   "name": "python3"
  },
  "language_info": {
   "codemirror_mode": {
    "name": "ipython",
    "version": 3
   },
   "file_extension": ".py",
   "mimetype": "text/x-python",
   "name": "python",
   "nbconvert_exporter": "python",
   "pygments_lexer": "ipython3",
   "version": "3.10.13"
  }
 },
 "nbformat": 4,
 "nbformat_minor": 5
}
