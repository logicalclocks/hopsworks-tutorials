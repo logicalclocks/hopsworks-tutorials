{
 "cells": [
  {
   "cell_type": "markdown",
   "id": "dd094af7",
   "metadata": {},
   "source": [
    "# <span style=\"font-width:bold; font-size: 3rem; color:#1EB182;\">**Hopsworks Feature Store** </span><span style=\"font-width:bold; font-size: 3rem; color:#333;\">- Part 02: Feature Pipeline</span>\n",
    "\n",
    "## 🗒️ This notebook is divided in 3 sections:\n",
    "1. Parsing Data.\n",
    "2. Preparing dataframes.\n",
    "3. Feature Group Insertion."
   ]
  },
  {
   "cell_type": "markdown",
   "id": "a7dcc328",
   "metadata": {},
   "source": [
    "## <span style='color:#ff5f27'> 📝 Imports"
   ]
  },
  {
   "cell_type": "code",
   "execution_count": 1,
   "id": "364e961e",
   "metadata": {},
   "outputs": [],
   "source": [
    "import pandas as pd\n",
    "from datetime import datetime\n",
    "import time \n",
    "import os \n",
    "\n",
    "from functions import *"
   ]
  },
  {
   "cell_type": "markdown",
   "id": "cca6814a",
   "metadata": {},
   "source": [
    "## <span style='color:#ff5f27'> 🧑🏻‍🏫 Dataset Preparation"
   ]
  },
  {
   "cell_type": "markdown",
   "id": "2f172f7b",
   "metadata": {},
   "source": [
    "#### <span style='color:#ff5f27'> 🚖 Rides Data"
   ]
  },
  {
   "cell_type": "code",
   "execution_count": 2,
   "id": "7d3f552e",
   "metadata": {},
   "outputs": [
    {
     "data": {
      "text/html": [
       "<div>\n",
       "<style scoped>\n",
       "    .dataframe tbody tr th:only-of-type {\n",
       "        vertical-align: middle;\n",
       "    }\n",
       "\n",
       "    .dataframe tbody tr th {\n",
       "        vertical-align: top;\n",
       "    }\n",
       "\n",
       "    .dataframe thead th {\n",
       "        text-align: right;\n",
       "    }\n",
       "</style>\n",
       "<table border=\"1\" class=\"dataframe\">\n",
       "  <thead>\n",
       "    <tr style=\"text-align: right;\">\n",
       "      <th></th>\n",
       "      <th>ride_id</th>\n",
       "      <th>pickup_datetime</th>\n",
       "      <th>pickup_longitude</th>\n",
       "      <th>dropoff_longitude</th>\n",
       "      <th>pickup_latitude</th>\n",
       "      <th>dropoff_latitude</th>\n",
       "      <th>passenger_count</th>\n",
       "      <th>taxi_id</th>\n",
       "      <th>driver_id</th>\n",
       "    </tr>\n",
       "  </thead>\n",
       "  <tbody>\n",
       "    <tr>\n",
       "      <th>0</th>\n",
       "      <td>02aced448db3214511ae6b5cded4be2c</td>\n",
       "      <td>1594448000000</td>\n",
       "      <td>-73.92737</td>\n",
       "      <td>-74.04951</td>\n",
       "      <td>41.43796</td>\n",
       "      <td>40.50445</td>\n",
       "      <td>3</td>\n",
       "      <td>186</td>\n",
       "      <td>105</td>\n",
       "    </tr>\n",
       "    <tr>\n",
       "      <th>1</th>\n",
       "      <td>a1069aa4c5ba217241fa4617ec384213</td>\n",
       "      <td>1601264800000</td>\n",
       "      <td>-73.55189</td>\n",
       "      <td>-74.20641</td>\n",
       "      <td>40.57860</td>\n",
       "      <td>41.35486</td>\n",
       "      <td>2</td>\n",
       "      <td>125</td>\n",
       "      <td>30</td>\n",
       "    </tr>\n",
       "    <tr>\n",
       "      <th>2</th>\n",
       "      <td>105982e4208fc5a3c740e0a224e6d46e</td>\n",
       "      <td>1582430900000</td>\n",
       "      <td>-74.43926</td>\n",
       "      <td>-73.67484</td>\n",
       "      <td>41.75341</td>\n",
       "      <td>41.73447</td>\n",
       "      <td>4</td>\n",
       "      <td>164</td>\n",
       "      <td>88</td>\n",
       "    </tr>\n",
       "    <tr>\n",
       "      <th>3</th>\n",
       "      <td>5860a22ed7c4960bd18c8e5ac89118ef</td>\n",
       "      <td>1588611800000</td>\n",
       "      <td>-72.88311</td>\n",
       "      <td>-73.06721</td>\n",
       "      <td>41.11562</td>\n",
       "      <td>41.69151</td>\n",
       "      <td>2</td>\n",
       "      <td>68</td>\n",
       "      <td>92</td>\n",
       "    </tr>\n",
       "    <tr>\n",
       "      <th>4</th>\n",
       "      <td>7ecbcceb5b3818b7d7e69d6b857dfc83</td>\n",
       "      <td>1580524800000</td>\n",
       "      <td>-73.00463</td>\n",
       "      <td>-73.76347</td>\n",
       "      <td>40.76049</td>\n",
       "      <td>41.07748</td>\n",
       "      <td>1</td>\n",
       "      <td>18</td>\n",
       "      <td>123</td>\n",
       "    </tr>\n",
       "    <tr>\n",
       "      <th>...</th>\n",
       "      <td>...</td>\n",
       "      <td>...</td>\n",
       "      <td>...</td>\n",
       "      <td>...</td>\n",
       "      <td>...</td>\n",
       "      <td>...</td>\n",
       "      <td>...</td>\n",
       "      <td>...</td>\n",
       "      <td>...</td>\n",
       "    </tr>\n",
       "    <tr>\n",
       "      <th>145</th>\n",
       "      <td>916c8e241f6ed6442b27241e684f5c84</td>\n",
       "      <td>1583816100000</td>\n",
       "      <td>-74.22544</td>\n",
       "      <td>-72.87204</td>\n",
       "      <td>41.47547</td>\n",
       "      <td>40.65869</td>\n",
       "      <td>4</td>\n",
       "      <td>177</td>\n",
       "      <td>43</td>\n",
       "    </tr>\n",
       "    <tr>\n",
       "      <th>146</th>\n",
       "      <td>dd960f6e15e7781f69e488df1b714100</td>\n",
       "      <td>1607897500000</td>\n",
       "      <td>-73.53736</td>\n",
       "      <td>-73.10414</td>\n",
       "      <td>41.35457</td>\n",
       "      <td>41.01956</td>\n",
       "      <td>1</td>\n",
       "      <td>103</td>\n",
       "      <td>151</td>\n",
       "    </tr>\n",
       "    <tr>\n",
       "      <th>147</th>\n",
       "      <td>99429b2952a14eb22e3af100ca08f2b8</td>\n",
       "      <td>1592493400000</td>\n",
       "      <td>-73.24330</td>\n",
       "      <td>-73.93402</td>\n",
       "      <td>40.95460</td>\n",
       "      <td>40.74437</td>\n",
       "      <td>1</td>\n",
       "      <td>73</td>\n",
       "      <td>175</td>\n",
       "    </tr>\n",
       "    <tr>\n",
       "      <th>148</th>\n",
       "      <td>b8ea20f84c81d50a86c73ec3d8d1ab4b</td>\n",
       "      <td>1586235500000</td>\n",
       "      <td>-73.65874</td>\n",
       "      <td>-74.10058</td>\n",
       "      <td>41.46944</td>\n",
       "      <td>40.52795</td>\n",
       "      <td>1</td>\n",
       "      <td>47</td>\n",
       "      <td>195</td>\n",
       "    </tr>\n",
       "    <tr>\n",
       "      <th>149</th>\n",
       "      <td>ce630bce27df1270491a6a5d0894e2df</td>\n",
       "      <td>1579004400000</td>\n",
       "      <td>-74.26731</td>\n",
       "      <td>-73.55957</td>\n",
       "      <td>40.74400</td>\n",
       "      <td>40.79390</td>\n",
       "      <td>2</td>\n",
       "      <td>172</td>\n",
       "      <td>68</td>\n",
       "    </tr>\n",
       "  </tbody>\n",
       "</table>\n",
       "<p>150 rows × 9 columns</p>\n",
       "</div>"
      ],
      "text/plain": [
       "                              ride_id pickup_datetime  pickup_longitude  \\\n",
       "0    02aced448db3214511ae6b5cded4be2c   1594448000000         -73.92737   \n",
       "1    a1069aa4c5ba217241fa4617ec384213   1601264800000         -73.55189   \n",
       "2    105982e4208fc5a3c740e0a224e6d46e   1582430900000         -74.43926   \n",
       "3    5860a22ed7c4960bd18c8e5ac89118ef   1588611800000         -72.88311   \n",
       "4    7ecbcceb5b3818b7d7e69d6b857dfc83   1580524800000         -73.00463   \n",
       "..                                ...             ...               ...   \n",
       "145  916c8e241f6ed6442b27241e684f5c84   1583816100000         -74.22544   \n",
       "146  dd960f6e15e7781f69e488df1b714100   1607897500000         -73.53736   \n",
       "147  99429b2952a14eb22e3af100ca08f2b8   1592493400000         -73.24330   \n",
       "148  b8ea20f84c81d50a86c73ec3d8d1ab4b   1586235500000         -73.65874   \n",
       "149  ce630bce27df1270491a6a5d0894e2df   1579004400000         -74.26731   \n",
       "\n",
       "     dropoff_longitude  pickup_latitude  dropoff_latitude passenger_count  \\\n",
       "0            -74.04951         41.43796          40.50445               3   \n",
       "1            -74.20641         40.57860          41.35486               2   \n",
       "2            -73.67484         41.75341          41.73447               4   \n",
       "3            -73.06721         41.11562          41.69151               2   \n",
       "4            -73.76347         40.76049          41.07748               1   \n",
       "..                 ...              ...               ...             ...   \n",
       "145          -72.87204         41.47547          40.65869               4   \n",
       "146          -73.10414         41.35457          41.01956               1   \n",
       "147          -73.93402         40.95460          40.74437               1   \n",
       "148          -74.10058         41.46944          40.52795               1   \n",
       "149          -73.55957         40.74400          40.79390               2   \n",
       "\n",
       "    taxi_id driver_id  \n",
       "0       186       105  \n",
       "1       125        30  \n",
       "2       164        88  \n",
       "3        68        92  \n",
       "4        18       123  \n",
       "..      ...       ...  \n",
       "145     177        43  \n",
       "146     103       151  \n",
       "147      73       175  \n",
       "148      47       195  \n",
       "149     172        68  \n",
       "\n",
       "[150 rows x 9 columns]"
      ]
     },
     "execution_count": 2,
     "metadata": {},
     "output_type": "execute_result"
    }
   ],
   "source": [
    "df_rides = generate_rides_data(150)\n",
    "\n",
    "df_rides"
   ]
  },
  {
   "cell_type": "code",
   "execution_count": 3,
   "id": "9da2d928",
   "metadata": {},
   "outputs": [],
   "source": [
    "df_rides = calculate_distance_features(df_rides)"
   ]
  },
  {
   "cell_type": "code",
   "execution_count": null,
   "id": "5a82cf43",
   "metadata": {},
   "outputs": [],
   "source": [
    "df_rides = calculate_datetime_features(df_rides)"
   ]
  },
  {
   "cell_type": "code",
   "execution_count": null,
   "id": "c392ec8a",
   "metadata": {},
   "outputs": [],
   "source": [
    "# lets save our newly-generated ride_ids.\n",
    "# we will retrieve them and use in fares_fg\n",
    "ride_ids = df_rides.ride_id"
   ]
  },
  {
   "cell_type": "code",
   "execution_count": null,
   "id": "94640dfe",
   "metadata": {},
   "outputs": [],
   "source": [
    "for col in [\"passenger_count\", \"taxi_id\", \"driver_id\"]:\n",
    "    df_rides[col] = df_rides[col].astype(\"int64\")\n"
   ]
  },
  {
   "cell_type": "markdown",
   "id": "5441afc6",
   "metadata": {},
   "source": [
    "#### <span style='color:#ff5f27'> 💸 Fares Data"
   ]
  },
  {
   "cell_type": "code",
   "execution_count": null,
   "id": "be60bd25",
   "metadata": {
    "scrolled": true
   },
   "outputs": [],
   "source": [
    "df_fares = generate_fares_data(150)\n",
    "\n",
    "df_fares"
   ]
  },
  {
   "cell_type": "code",
   "execution_count": null,
   "id": "17ed490a",
   "metadata": {},
   "outputs": [],
   "source": [
    "df_fares = df_fares.astype(\"int64\")"
   ]
  },
  {
   "cell_type": "code",
   "execution_count": null,
   "id": "1193d62e",
   "metadata": {},
   "outputs": [],
   "source": [
    "# lets load our ride_ids which were created moments ago for rides_fg\n",
    "df_fares[\"ride_id\"] = ride_ids"
   ]
  },
  {
   "cell_type": "code",
   "execution_count": null,
   "id": "742b556e",
   "metadata": {},
   "outputs": [],
   "source": [
    "for col in [\"tolls\", \"total_fare\"]:\n",
    "    df_fares[col] = df_fares[col].astype(\"double\")"
   ]
  },
  {
   "cell_type": "markdown",
   "id": "10c2618b",
   "metadata": {},
   "source": [
    "## <span style=\"color:#ff5f27;\"> 🔮 Connecting to Hopsworks Feature Store </span>"
   ]
  },
  {
   "cell_type": "code",
   "execution_count": null,
   "id": "4530f803",
   "metadata": {},
   "outputs": [],
   "source": [
    "import hopsworks\n",
    "\n",
    "project = hopsworks.login()\n",
    "\n",
    "fs = project.get_feature_store() "
   ]
  },
  {
   "cell_type": "markdown",
   "id": "5737ca2f",
   "metadata": {},
   "source": [
    "## <span style=\"color:#ff5f27;\">🪄 Retrieving Feature Groups</span>"
   ]
  },
  {
   "cell_type": "code",
   "execution_count": null,
   "id": "4e4f3e0c",
   "metadata": {},
   "outputs": [],
   "source": [
    "rides_fg = fs.get_or_create_feature_group(name=\"rides_fg\",\n",
    "                                          version=1)   \n",
    "\n",
    "fares_fg = fs.get_or_create_feature_group(name=\"fares_fg\",\n",
    "                                          version=1)   "
   ]
  },
  {
   "cell_type": "markdown",
   "id": "5aef353d",
   "metadata": {},
   "source": [
    "## <span style=\"color:#ff5f27;\">🧬 Inserting into Feature Groups</span>"
   ]
  },
  {
   "cell_type": "code",
   "execution_count": null,
   "id": "f81bb922",
   "metadata": {},
   "outputs": [],
   "source": [
    "rides_fg.insert(df_rides)"
   ]
  },
  {
   "cell_type": "code",
   "execution_count": null,
   "id": "be0c498e",
   "metadata": {
    "scrolled": true
   },
   "outputs": [],
   "source": [
    "fares_fg.insert(df_fares)"
   ]
  },
  {
   "cell_type": "markdown",
   "id": "b3b7d4c4",
   "metadata": {},
   "source": [
    "---"
   ]
  },
  {
   "cell_type": "markdown",
   "id": "30891844",
   "metadata": {},
   "source": [
    "## <span style=\"color:#ff5f27;\">⏭️ **Next:** Part 03 </span>\n",
    "\n",
    "In the next notebook, we will create a feature view and training dataset."
   ]
  }
 ],
 "metadata": {
  "kernelspec": {
   "display_name": "Python 3 (ipykernel)",
   "language": "python",
   "name": "python3"
  },
  "language_info": {
   "codemirror_mode": {
    "name": "ipython",
    "version": 3
   },
   "file_extension": ".py",
   "mimetype": "text/x-python",
   "name": "python",
   "nbconvert_exporter": "python",
   "pygments_lexer": "ipython3",
   "version": "3.8.0"
  },
  "vscode": {
   "interpreter": {
    "hash": "190ea7959a836f4799545ea0f3718ade3abee093b15861ffdc25233d6ab7050e"
   }
  }
 },
 "nbformat": 4,
 "nbformat_minor": 5
}
