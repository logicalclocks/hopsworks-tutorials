{
 "cells": [
  {
   "cell_type": "markdown",
   "id": "f16367c8",
   "metadata": {},
   "source": [
    "## <span style=\"color:#ff5f27;\"> 📡 Connecting to Hopsworks Feature Store </span>"
   ]
  },
  {
   "cell_type": "code",
   "execution_count": 6,
   "id": "ed952ece",
   "metadata": {},
   "outputs": [
    {
     "name": "stdout",
     "output_type": "stream",
     "text": [
      "2025-06-26 12:02:10,824 INFO: Closing external client and cleaning up certificates.\n",
      "Connection closed.\n",
      "2025-06-26 12:02:10,835 INFO: Initializing external client\n",
      "2025-06-26 12:02:10,836 INFO: Base URL: https://10.87.42.15:28181\n",
      "2025-06-26 12:02:11,542 INFO: Python Engine initialized.\n",
      "\n",
      "Logged in to project, explore it here https://10.87.42.15:28181/p/119\n"
     ]
    }
   ],
   "source": [
    "import hopsworks\n",
    "\n",
    "project = hopsworks.login()\n",
    "\n",
    "fs = project.get_feature_store()"
   ]
  },
  {
   "cell_type": "markdown",
   "id": "e98e32ce",
   "metadata": {},
   "source": [
    "## <span style=\"color:#ff5f27;\"> ⚙️ Feature Group Retrieval</span>"
   ]
  },
  {
   "cell_type": "code",
   "execution_count": 7,
   "id": "d2a8475b",
   "metadata": {},
   "outputs": [
    {
     "name": "stdout",
     "output_type": "stream",
     "text": [
      "Finished: Reading data from Hopsworks, using Hopsworks Feature Query Service (1.02s) \n"
     ]
    },
    {
     "data": {
      "text/plain": [
       "array([4307206161394478, 4991539658091830, 4556426990917111,\n",
       "       4897277640695450, 4123638178254919, 4215909337633098,\n",
       "       4883806594247243, 4565376751743421, 4134800299253298,\n",
       "       4598649623090127, 4454908897243389, 4628483972728572,\n",
       "       4837617840384848, 4359225696258815, 4758035858626403,\n",
       "       4689840185625851, 4893428073388709, 4899899195688156,\n",
       "       4564193664676304, 4834372953306161, 4277322646120192,\n",
       "       4536307339137659, 4322617096913250, 4382251375646022,\n",
       "       4167653876012714])"
      ]
     },
     "execution_count": 7,
     "metadata": {},
     "output_type": "execute_result"
    }
   ],
   "source": [
    "# Retrieve the 'transactions_fraud_online_fg' feature group\n",
    "trans_fg = fs.get_feature_group(\n",
    "    'transactions_fraud_online_fg',\n",
    "    version=1,\n",
    ")\n",
    "\n",
    "# Retrieve the first 5 unique credit card numbers (cc_nums)\n",
    "cc_nums = trans_fg.select('cc_num').show(25).cc_num.astype(int).values\n",
    "\n",
    "# Display the obtained cc_nums\n",
    "cc_nums"
   ]
  },
  {
   "cell_type": "markdown",
   "id": "903df073",
   "metadata": {},
   "source": [
    "## <span style='color:#ff5f27'>🚀 Fetch Deployment</span>"
   ]
  },
  {
   "cell_type": "code",
   "execution_count": 20,
   "id": "4303ac82",
   "metadata": {},
   "outputs": [],
   "source": [
    "# Access the Model Serving\n",
    "ms = project.get_model_serving()\n",
    "\n",
    "# Specify the deployment name\n",
    "deployment_async_rdrs = ms.get_deployment(\"deploymentasyncrdrs\")"
   ]
  },
  {
   "cell_type": "markdown",
   "id": "045ba7e4",
   "metadata": {},
   "source": [
    "## <span style='color:#ff5f27'>🔮 Predicting using deployment</span>"
   ]
  },
  {
   "cell_type": "code",
   "execution_count": 23,
   "id": "42196023",
   "metadata": {},
   "outputs": [],
   "source": [
    "# Get the first credit card number\n",
    "inputs = [{\"cc_num\":int(cc_num)} for cc_num in cc_nums]"
   ]
  },
  {
   "cell_type": "code",
   "execution_count": 25,
   "id": "596f3241",
   "metadata": {},
   "outputs": [
    {
     "data": {
      "text/plain": [
       "[0, 0, 0, 0, 0, 0, 0, 0, 0, 0, 0, 0, 0, 0, 0, 0, 0, 0, 0, 0, 0, 0, 0, 0, 0]"
      ]
     },
     "execution_count": 25,
     "metadata": {},
     "output_type": "execute_result"
    }
   ],
   "source": [
    "predictions_async_rdrs = deployment_async_rdrs.predict(inputs=inputs)[\"predictions\"]\n",
    "predictions_async_rdrs"
   ]
  },
  {
   "cell_type": "markdown",
   "id": "1b80b358-eb1b-4e7d-bfbc-fab86d25f2bb",
   "metadata": {},
   "source": [
    "### Stop Deployment\n",
    "To stop the deployment you simply run:"
   ]
  },
  {
   "cell_type": "code",
   "execution_count": null,
   "id": "b618ce93-acfe-46b5-a107-1706adaf53a7",
   "metadata": {},
   "outputs": [],
   "source": [
    "# Stop the deployment\n",
    "deployment.stop(await_stopped=180)"
   ]
  }
 ],
 "metadata": {
  "kernelspec": {
   "display_name": "Python 3 (ipykernel)",
   "language": "python",
   "name": "python3"
  },
  "language_info": {
   "codemirror_mode": {
    "name": "ipython",
    "version": 3
   },
   "file_extension": ".py",
   "mimetype": "text/x-python",
   "name": "python",
   "nbconvert_exporter": "python",
   "pygments_lexer": "ipython3",
   "version": "3.10.18"
  }
 },
 "nbformat": 4,
 "nbformat_minor": 5
}
