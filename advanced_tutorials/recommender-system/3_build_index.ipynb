{
 "cells": [
  {
   "cell_type": "code",
   "execution_count": 1,
   "metadata": {},
   "outputs": [
    {
     "name": "stdout",
     "output_type": "stream",
     "text": [
      "Connected. Call `.close()` to terminate connection gracefully.\n",
      "\n",
      "Logged in to project, explore it here https://hopsworks0.logicalclocks.com/p/119\n"
     ]
    }
   ],
   "source": [
    "import hopsworks\n",
    "\n",
    "project = hopsworks.login()  # insert API Key from https://app.hopsworks.ai"
   ]
  },
  {
   "cell_type": "markdown",
   "metadata": {},
   "source": [
    "## Requirements\n",
    "\n",
    "Install libraries:\n",
    "\n",
    "* **tensorflow** (version 2.11) [already installed]\n",
    "* **opensearch**"
   ]
  },
  {
   "cell_type": "code",
   "execution_count": 2,
   "metadata": {},
   "outputs": [],
   "source": [
    "!pip install --quiet opensearch-py"
   ]
  },
  {
   "cell_type": "markdown",
   "metadata": {},
   "source": [
    "## Build Index\n",
    "\n",
    "In this notebook we will build an index for our candidate embeddings. Here we will use OpenSearch, which is natively supported by Hopsworks."
   ]
  },
  {
   "cell_type": "markdown",
   "metadata": {},
   "source": [
    "### Compute Candidate Embeddings\n",
    "\n",
    "We start by computing candidate embeddings for all items in the training data.\n",
    "\n",
    "First, we load our candidate model. Recall that we uploaded it to the Hopsworks Model Registry in the previous notebook. If you don't have the model locally you can download it from the Model Registry using the following code:"
   ]
  },
  {
   "cell_type": "code",
   "execution_count": 3,
   "metadata": {},
   "outputs": [
    {
     "name": "stdout",
     "output_type": "stream",
     "text": [
      "Connected. Call `.close()` to terminate connection gracefully.\n"
     ]
    },
    {
     "name": "stderr",
     "output_type": "stream",
     "text": [
      "VersionWarning: No version provided for getting model `candidate_model`, defaulting to `1`.\n"
     ]
    },
    {
     "name": "stdout",
     "output_type": "stream",
     "text": [
      "Downloading file ... "
     ]
    }
   ],
   "source": [
    "mr = project.get_model_registry()\n",
    "\n",
    "model = mr.get_model(\"candidate_model\")\n",
    "model_path = model.download()"
   ]
  },
  {
   "cell_type": "markdown",
   "metadata": {},
   "source": [
    "If you already have the model saved locally you can simply replace `model_path` with the path to your model."
   ]
  },
  {
   "cell_type": "code",
   "execution_count": 4,
   "metadata": {},
   "outputs": [
    {
     "name": "stderr",
     "output_type": "stream",
     "text": [
      "DeprecationWarning: `np.bool8` is a deprecated alias for `np.bool_`.  (Deprecated NumPy 1.24)\n"
     ]
    }
   ],
   "source": [
    "import tensorflow as tf\n",
    "\n",
    "candidate_model = tf.saved_model.load(model_path)"
   ]
  },
  {
   "cell_type": "markdown",
   "metadata": {},
   "source": [
    "Next we compute the embeddings of all candidate items that were used to train the retrieval model."
   ]
  },
  {
   "cell_type": "code",
   "execution_count": 5,
   "metadata": {
    "tags": []
   },
   "outputs": [
    {
     "name": "stdout",
     "output_type": "stream",
     "text": [
      "Connected. Call `.close()` to terminate connection gracefully.\n"
     ]
    }
   ],
   "source": [
    "fs = project.get_feature_store()"
   ]
  },
  {
   "cell_type": "code",
   "execution_count": 6,
   "metadata": {},
   "outputs": [],
   "source": [
    "feature_view = fs.get_feature_view(\"retrieval\", version=1)\n",
    "\n",
    "train_df, val_df, test_df, y_train, y_val, y_test = feature_view.get_train_validation_test_split(training_dataset_version=1)"
   ]
  },
  {
   "cell_type": "code",
   "execution_count": 7,
   "metadata": {
    "tags": []
   },
   "outputs": [],
   "source": [
    "train_df[\"article_id\"] = train_df[\"article_id\"].astype(str)\n",
    "val_df[\"article_id\"] = val_df[\"article_id\"].astype(str)"
   ]
  },
  {
   "cell_type": "code",
   "execution_count": 8,
   "metadata": {},
   "outputs": [
    {
     "name": "stdout",
     "output_type": "stream",
     "text": [
      "2023-07-10 19:38:06,771 WARNING: From /srv/hops/anaconda/envs/theenv/lib/python3.10/site-packages/tensorflow/python/autograph/pyct/static_analysis/liveness.py:83: Analyzer.lamba_check (from tensorflow.python.autograph.pyct.static_analysis.liveness) is deprecated and will be removed after 2023-09-23.\n",
      "Instructions for updating:\n",
      "Lambda fuctions will be no more assumed to be used in the statement where they are used, or at least in the same block. https://github.com/tensorflow/tensorflow/issues/56089\n"
     ]
    },
    {
     "name": "stderr",
     "output_type": "stream",
     "text": [
      "SettingWithCopyWarning: \n",
      "A value is trying to be set on a copy of a slice from a DataFrame\n",
      "\n",
      "See the caveats in the documentation: https://pandas.pydata.org/pandas-docs/stable/user_guide/indexing.html#returning-a-view-versus-a-copy\n"
     ]
    }
   ],
   "source": [
    "# Get list of input features for the candidate model.\n",
    "model_schema = model.model_schema['input_schema']['columnar_schema']\n",
    "candidate_features = [feat['name'] for feat in model_schema]\n",
    "\n",
    "# Get list of unique candidate items.\n",
    "item_df = train_df[candidate_features]\n",
    "item_df.drop_duplicates(subset=\"article_id\", inplace=True)\n",
    "\n",
    "item_ds = tf.data.Dataset.from_tensor_slices(\n",
    "    {col: item_df[col] for col in item_df})\n",
    "\n",
    "# Compute embeddings for all candidate items.\n",
    "candidate_embeddings = item_ds.batch(2048).map(\n",
    "    lambda x: (x[\"article_id\"], candidate_model(x)))"
   ]
  },
  {
   "cell_type": "markdown",
   "metadata": {},
   "source": [
    "(Strictly speaking, we haven't actually computed the candidate embeddings yet, as the dataset functions are lazily evaluated.)"
   ]
  },
  {
   "cell_type": "markdown",
   "metadata": {},
   "source": [
    "#### Index Embeddings\n",
    "\n",
    "Next we index these embeddings. We start by connecting to our project's OpenSearch client using the *hopsworks* library."
   ]
  },
  {
   "cell_type": "code",
   "execution_count": 10,
   "metadata": {},
   "outputs": [],
   "source": [
    "from opensearchpy import OpenSearch\n",
    "\n",
    "opensearch_api = project.get_opensearch_api()\n",
    "client = OpenSearch(**opensearch_api.get_default_py_config())"
   ]
  },
  {
   "cell_type": "markdown",
   "metadata": {},
   "source": [
    "We'll create an index called `candidate_index`."
   ]
  },
  {
   "cell_type": "code",
   "execution_count": 11,
   "metadata": {},
   "outputs": [],
   "source": [
    "index_name = opensearch_api.get_project_index(\"candidate_index\")\n",
    "\n",
    "emb_dim = 16 # candidate_model.layers[-1].output.shape[-1]"
   ]
  },
  {
   "cell_type": "markdown",
   "metadata": {},
   "source": [
    "Here we use the HNSW (Hierarchical Navigable Small World) data structure, which can be thought of as a skip list for graphs.\n",
    "\n",
    "See the [OpenSearch documentation](https://opensearch.org/docs/latest/search-plugins/knn/knn-index) for more detailed information about parameters."
   ]
  },
  {
   "cell_type": "code",
   "execution_count": null,
   "metadata": {
    "tags": []
   },
   "outputs": [],
   "source": [
    "# To delete the indices\n",
    "# response = client.indices.delete(\n",
    "#     index = index_name\n",
    "# )\n",
    "# print(response)"
   ]
  },
  {
   "cell_type": "code",
   "execution_count": 12,
   "metadata": {
    "tags": []
   },
   "outputs": [
    {
     "name": "stdout",
     "output_type": "stream",
     "text": [
      "2023-07-10 19:38:48,268 INFO: PUT https://10.0.2.15:9200/rec_candidate_index [status:200 request:0.187s]\n",
      "{'acknowledged': True, 'shards_acknowledged': True, 'index': 'rec_candidate_index'}\n"
     ]
    },
    {
     "name": "stderr",
     "output_type": "stream",
     "text": [
      "DeprecationWarning: HTTPResponse.getheaders() is deprecated and will be removed in urllib3 v2.1.0. Instead access HTTPResponse.headers directly.\n"
     ]
    }
   ],
   "source": [
    "# Dimensionality of candidate embeddings.\n",
    "\n",
    "index_body = {\n",
    "    \"settings\": {\n",
    "        \"knn\": True,\n",
    "        \"knn.algo_param.ef_search\": 100,\n",
    "    },\n",
    "    \"mappings\": {\n",
    "        \"properties\": {\n",
    "            \"my_vector1\": {\n",
    "                \"type\": \"knn_vector\",\n",
    "                \"dimension\": emb_dim,\n",
    "                \"method\": {\n",
    "                    \"name\": \"hnsw\",\n",
    "                    \"space_type\": \"innerproduct\",\n",
    "                    \"engine\": \"faiss\",\n",
    "                    \"parameters\": {\n",
    "                        \"ef_construction\": 256,\n",
    "                        \"m\": 48\n",
    "                    }\n",
    "                }\n",
    "            }\n",
    "        }\n",
    "    }\n",
    "}\n",
    "\n",
    "response = client.indices.create(index_name, body=index_body)\n",
    "print(response)"
   ]
  },
  {
   "cell_type": "markdown",
   "metadata": {},
   "source": [
    "Now we can finally insert our candidate embeddings."
   ]
  },
  {
   "cell_type": "code",
   "execution_count": 13,
   "metadata": {},
   "outputs": [
    {
     "name": "stdout",
     "output_type": "stream",
     "text": [
      "2023-07-10 19:38:54,177 INFO: POST https://10.0.2.15:9200/_bulk [status:200 request:0.119s]\n",
      "2023-07-10 19:38:54,300 INFO: POST https://10.0.2.15:9200/_bulk [status:200 request:0.086s]\n",
      "2023-07-10 19:38:54,405 INFO: POST https://10.0.2.15:9200/_bulk [status:200 request:0.064s]\n",
      "2023-07-10 19:38:54,475 INFO: POST https://10.0.2.15:9200/_bulk [status:200 request:0.040s]\n",
      "2023-07-10 19:38:54,572 INFO: POST https://10.0.2.15:9200/_bulk [status:200 request:0.057s]\n",
      "2023-07-10 19:38:54,652 INFO: POST https://10.0.2.15:9200/_bulk [status:200 request:0.045s]\n",
      "2023-07-10 19:38:54,724 INFO: POST https://10.0.2.15:9200/_bulk [status:200 request:0.037s]\n",
      "2023-07-10 19:38:54,786 INFO: POST https://10.0.2.15:9200/_bulk [status:200 request:0.033s]\n",
      "2023-07-10 19:38:54,858 INFO: POST https://10.0.2.15:9200/_bulk [status:200 request:0.044s]\n",
      "2023-07-10 19:38:54,934 INFO: POST https://10.0.2.15:9200/_bulk [status:200 request:0.047s]\n",
      "2023-07-10 19:38:55,010 INFO: POST https://10.0.2.15:9200/_bulk [status:200 request:0.042s]\n",
      "2023-07-10 19:38:55,080 INFO: POST https://10.0.2.15:9200/_bulk [status:200 request:0.040s]\n",
      "2023-07-10 19:38:55,153 INFO: POST https://10.0.2.15:9200/_bulk [status:200 request:0.037s]\n",
      "2023-07-10 19:38:55,224 INFO: POST https://10.0.2.15:9200/_bulk [status:200 request:0.036s]\n",
      "2023-07-10 19:38:55,296 INFO: POST https://10.0.2.15:9200/_bulk [status:200 request:0.037s]\n",
      "2023-07-10 19:38:55,362 INFO: POST https://10.0.2.15:9200/_bulk [status:200 request:0.033s]\n",
      "2023-07-10 19:38:55,452 INFO: POST https://10.0.2.15:9200/_bulk [status:200 request:0.053s]\n",
      "2023-07-10 19:38:55,531 INFO: POST https://10.0.2.15:9200/_bulk [status:200 request:0.043s]\n",
      "2023-07-10 19:38:55,609 INFO: POST https://10.0.2.15:9200/_bulk [status:200 request:0.045s]\n",
      "2023-07-10 19:38:55,682 INFO: POST https://10.0.2.15:9200/_bulk [status:200 request:0.042s]\n",
      "2023-07-10 19:38:55,754 INFO: POST https://10.0.2.15:9200/_bulk [status:200 request:0.041s]\n",
      "2023-07-10 19:38:55,827 INFO: POST https://10.0.2.15:9200/_bulk [status:200 request:0.042s]\n",
      "2023-07-10 19:38:55,899 INFO: POST https://10.0.2.15:9200/_bulk [status:200 request:0.041s]\n",
      "2023-07-10 19:38:55,972 INFO: POST https://10.0.2.15:9200/_bulk [status:200 request:0.040s]\n",
      "2023-07-10 19:38:56,040 INFO: POST https://10.0.2.15:9200/_bulk [status:200 request:0.036s]\n",
      "2023-07-10 19:38:56,119 INFO: POST https://10.0.2.15:9200/_bulk [status:200 request:0.046s]\n",
      "2023-07-10 19:38:56,193 INFO: POST https://10.0.2.15:9200/_bulk [status:200 request:0.040s]\n",
      "2023-07-10 19:38:56,269 INFO: POST https://10.0.2.15:9200/_bulk [status:200 request:0.043s]\n",
      "2023-07-10 19:38:56,338 INFO: POST https://10.0.2.15:9200/_bulk [status:200 request:0.036s]\n",
      "2023-07-10 19:38:56,405 INFO: POST https://10.0.2.15:9200/_bulk [status:200 request:0.038s]\n",
      "2023-07-10 19:38:56,483 INFO: POST https://10.0.2.15:9200/_bulk [status:200 request:0.043s]\n",
      "2023-07-10 19:38:56,553 INFO: POST https://10.0.2.15:9200/_bulk [status:200 request:0.039s]\n",
      "2023-07-10 19:38:56,624 INFO: POST https://10.0.2.15:9200/_bulk [status:200 request:0.041s]\n",
      "2023-07-10 19:38:56,688 INFO: POST https://10.0.2.15:9200/_bulk [status:200 request:0.033s]\n",
      "2023-07-10 19:38:56,752 INFO: POST https://10.0.2.15:9200/_bulk [status:200 request:0.034s]\n",
      "2023-07-10 19:38:56,828 INFO: POST https://10.0.2.15:9200/_bulk [status:200 request:0.044s]\n",
      "2023-07-10 19:38:56,906 INFO: POST https://10.0.2.15:9200/_bulk [status:200 request:0.050s]\n",
      "2023-07-10 19:38:56,978 INFO: POST https://10.0.2.15:9200/_bulk [status:200 request:0.041s]\n",
      "2023-07-10 19:38:57,051 INFO: POST https://10.0.2.15:9200/_bulk [status:200 request:0.043s]\n",
      "2023-07-10 19:38:57,108 INFO: POST https://10.0.2.15:9200/_bulk [status:200 request:0.030s]\n",
      "2023-07-10 19:38:57,175 INFO: POST https://10.0.2.15:9200/_bulk [status:200 request:0.038s]\n",
      "2023-07-10 19:38:57,253 INFO: POST https://10.0.2.15:9200/_bulk [status:200 request:0.040s]\n",
      "2023-07-10 19:38:57,341 INFO: POST https://10.0.2.15:9200/_bulk [status:200 request:0.049s]\n",
      "2023-07-10 19:38:57,407 INFO: POST https://10.0.2.15:9200/_bulk [status:200 request:0.037s]\n",
      "2023-07-10 19:38:57,468 INFO: POST https://10.0.2.15:9200/_bulk [status:200 request:0.034s]\n",
      "2023-07-10 19:38:57,531 INFO: POST https://10.0.2.15:9200/_bulk [status:200 request:0.031s]\n",
      "2023-07-10 19:38:57,596 INFO: POST https://10.0.2.15:9200/_bulk [status:200 request:0.036s]\n",
      "2023-07-10 19:38:57,659 INFO: POST https://10.0.2.15:9200/_bulk [status:200 request:0.035s]\n",
      "2023-07-10 19:38:57,725 INFO: POST https://10.0.2.15:9200/_bulk [status:200 request:0.037s]\n",
      "2023-07-10 19:38:57,800 INFO: POST https://10.0.2.15:9200/_bulk [status:200 request:0.047s]\n",
      "2023-07-10 19:38:57,863 INFO: POST https://10.0.2.15:9200/_bulk [status:200 request:0.034s]\n",
      "2023-07-10 19:38:57,924 INFO: POST https://10.0.2.15:9200/_bulk [status:200 request:0.033s]\n",
      "2023-07-10 19:38:57,986 INFO: POST https://10.0.2.15:9200/_bulk [status:200 request:0.030s]\n",
      "2023-07-10 19:38:58,060 INFO: POST https://10.0.2.15:9200/_bulk [status:200 request:0.039s]\n",
      "2023-07-10 19:38:58,123 INFO: POST https://10.0.2.15:9200/_bulk [status:200 request:0.032s]\n",
      "2023-07-10 19:38:58,207 INFO: POST https://10.0.2.15:9200/_bulk [status:200 request:0.035s]\n",
      "2023-07-10 19:38:58,289 INFO: POST https://10.0.2.15:9200/_bulk [status:200 request:0.047s]\n",
      "2023-07-10 19:38:58,364 INFO: POST https://10.0.2.15:9200/_bulk [status:200 request:0.041s]\n",
      "2023-07-10 19:38:58,426 INFO: POST https://10.0.2.15:9200/_bulk [status:200 request:0.034s]\n",
      "2023-07-10 19:38:58,496 INFO: POST https://10.0.2.15:9200/_bulk [status:200 request:0.038s]\n",
      "2023-07-10 19:38:58,566 INFO: POST https://10.0.2.15:9200/_bulk [status:200 request:0.039s]\n",
      "2023-07-10 19:38:58,646 INFO: POST https://10.0.2.15:9200/_bulk [status:200 request:0.038s]\n",
      "2023-07-10 19:38:58,721 INFO: POST https://10.0.2.15:9200/_bulk [status:200 request:0.043s]\n",
      "2023-07-10 19:38:58,799 INFO: POST https://10.0.2.15:9200/_bulk [status:200 request:0.040s]\n",
      "2023-07-10 19:38:58,872 INFO: POST https://10.0.2.15:9200/_bulk [status:200 request:0.041s]\n",
      "2023-07-10 19:38:58,996 INFO: POST https://10.0.2.15:9200/_bulk [status:200 request:0.096s]\n",
      "2023-07-10 19:38:59,065 INFO: POST https://10.0.2.15:9200/_bulk [status:200 request:0.034s]\n",
      "2023-07-10 19:38:59,134 INFO: POST https://10.0.2.15:9200/_bulk [status:200 request:0.039s]\n",
      "2023-07-10 19:38:59,198 INFO: POST https://10.0.2.15:9200/_bulk [status:200 request:0.033s]\n",
      "2023-07-10 19:38:59,262 INFO: POST https://10.0.2.15:9200/_bulk [status:200 request:0.032s]\n",
      "2023-07-10 19:38:59,336 INFO: POST https://10.0.2.15:9200/_bulk [status:200 request:0.042s]\n",
      "2023-07-10 19:38:59,403 INFO: POST https://10.0.2.15:9200/_bulk [status:200 request:0.038s]\n",
      "2023-07-10 19:38:59,467 INFO: POST https://10.0.2.15:9200/_bulk [status:200 request:0.035s]\n",
      "2023-07-10 19:38:59,540 INFO: POST https://10.0.2.15:9200/_bulk [status:200 request:0.038s]\n",
      "2023-07-10 19:38:59,611 INFO: POST https://10.0.2.15:9200/_bulk [status:200 request:0.040s]\n",
      "2023-07-10 19:38:59,676 INFO: POST https://10.0.2.15:9200/_bulk [status:200 request:0.034s]\n",
      "2023-07-10 19:38:59,745 INFO: POST https://10.0.2.15:9200/_bulk [status:200 request:0.039s]\n",
      "2023-07-10 19:38:59,813 INFO: POST https://10.0.2.15:9200/_bulk [status:200 request:0.037s]\n",
      "2023-07-10 19:38:59,890 INFO: POST https://10.0.2.15:9200/_bulk [status:200 request:0.040s]\n",
      "2023-07-10 19:38:59,969 INFO: POST https://10.0.2.15:9200/_bulk [status:200 request:0.048s]\n",
      "2023-07-10 19:39:00,039 INFO: POST https://10.0.2.15:9200/_bulk [status:200 request:0.038s]\n",
      "2023-07-10 19:39:00,113 INFO: POST https://10.0.2.15:9200/_bulk [status:200 request:0.035s]\n",
      "2023-07-10 19:39:00,185 INFO: POST https://10.0.2.15:9200/_bulk [status:200 request:0.042s]\n",
      "2023-07-10 19:39:00,255 INFO: POST https://10.0.2.15:9200/_bulk [status:200 request:0.040s]\n",
      "2023-07-10 19:39:00,319 INFO: POST https://10.0.2.15:9200/_bulk [status:200 request:0.032s]\n",
      "2023-07-10 19:39:00,386 INFO: POST https://10.0.2.15:9200/_bulk [status:200 request:0.037s]\n",
      "2023-07-10 19:39:00,454 INFO: POST https://10.0.2.15:9200/_bulk [status:200 request:0.037s]\n",
      "2023-07-10 19:39:00,530 INFO: POST https://10.0.2.15:9200/_bulk [status:200 request:0.042s]\n",
      "2023-07-10 19:39:00,609 INFO: POST https://10.0.2.15:9200/_bulk [status:200 request:0.043s]\n",
      "2023-07-10 19:39:00,679 INFO: POST https://10.0.2.15:9200/_bulk [status:200 request:0.037s]\n",
      "2023-07-10 19:39:00,751 INFO: POST https://10.0.2.15:9200/_bulk [status:200 request:0.037s]\n",
      "2023-07-10 19:39:00,833 INFO: POST https://10.0.2.15:9200/_bulk [status:200 request:0.038s]\n",
      "2023-07-10 19:39:00,902 INFO: POST https://10.0.2.15:9200/_bulk [status:200 request:0.036s]\n",
      "2023-07-10 19:39:00,977 INFO: POST https://10.0.2.15:9200/_bulk [status:200 request:0.044s]\n",
      "2023-07-10 19:39:01,042 INFO: POST https://10.0.2.15:9200/_bulk [status:200 request:0.033s]\n",
      "2023-07-10 19:39:01,112 INFO: POST https://10.0.2.15:9200/_bulk [status:200 request:0.038s]\n",
      "2023-07-10 19:39:01,182 INFO: POST https://10.0.2.15:9200/_bulk [status:200 request:0.038s]\n",
      "2023-07-10 19:39:01,254 INFO: POST https://10.0.2.15:9200/_bulk [status:200 request:0.040s]\n",
      "2023-07-10 19:39:01,327 INFO: POST https://10.0.2.15:9200/_bulk [status:200 request:0.039s]\n",
      "2023-07-10 19:39:01,392 INFO: POST https://10.0.2.15:9200/_bulk [status:200 request:0.033s]\n",
      "2023-07-10 19:39:01,474 INFO: POST https://10.0.2.15:9200/_bulk [status:200 request:0.051s]\n",
      "2023-07-10 19:39:01,542 INFO: POST https://10.0.2.15:9200/_bulk [status:200 request:0.037s]\n",
      "2023-07-10 19:39:01,612 INFO: POST https://10.0.2.15:9200/_bulk [status:200 request:0.035s]\n",
      "2023-07-10 19:39:01,684 INFO: POST https://10.0.2.15:9200/_bulk [status:200 request:0.037s]\n",
      "2023-07-10 19:39:01,755 INFO: POST https://10.0.2.15:9200/_bulk [status:200 request:0.043s]\n",
      "2023-07-10 19:39:01,853 INFO: POST https://10.0.2.15:9200/_bulk [status:200 request:0.067s]\n",
      "2023-07-10 19:39:01,936 INFO: POST https://10.0.2.15:9200/_bulk [status:200 request:0.043s]\n",
      "2023-07-10 19:39:02,002 INFO: POST https://10.0.2.15:9200/_bulk [status:200 request:0.035s]\n",
      "2023-07-10 19:39:02,070 INFO: POST https://10.0.2.15:9200/_bulk [status:200 request:0.037s]\n",
      "2023-07-10 19:39:02,139 INFO: POST https://10.0.2.15:9200/_bulk [status:200 request:0.039s]\n",
      "2023-07-10 19:39:02,211 INFO: POST https://10.0.2.15:9200/_bulk [status:200 request:0.036s]\n",
      "2023-07-10 19:39:02,274 INFO: POST https://10.0.2.15:9200/_bulk [status:200 request:0.033s]\n",
      "2023-07-10 19:39:02,342 INFO: POST https://10.0.2.15:9200/_bulk [status:200 request:0.037s]\n",
      "2023-07-10 19:39:02,429 INFO: POST https://10.0.2.15:9200/_bulk [status:200 request:0.053s]\n",
      "2023-07-10 19:39:02,503 INFO: POST https://10.0.2.15:9200/_bulk [status:200 request:0.041s]\n",
      "2023-07-10 19:39:02,590 INFO: POST https://10.0.2.15:9200/_bulk [status:200 request:0.038s]\n",
      "2023-07-10 19:39:02,652 INFO: POST https://10.0.2.15:9200/_bulk [status:200 request:0.032s]\n"
     ]
    },
    {
     "data": {
      "text/plain": [
       "(58345, [])"
      ]
     },
     "execution_count": 13,
     "metadata": {},
     "output_type": "execute_result"
    }
   ],
   "source": [
    "from opensearchpy.helpers import bulk\n",
    "\n",
    "actions = []\n",
    "for batch in candidate_embeddings:\n",
    "    item_id_list, embedding_list = batch\n",
    "    item_id_list = item_id_list.numpy().astype(int)\n",
    "    embedding_list = embedding_list.numpy()\n",
    "\n",
    "    for item_id, embedding in zip(item_id_list, embedding_list):\n",
    "        actions.append({\n",
    "            \"_index\": index_name,\n",
    "            \"_id\": item_id,\n",
    "            \"_source\": {\n",
    "                \"my_vector1\": embedding,\n",
    "            }\n",
    "        })\n",
    "\n",
    "# Bulk insertion.\n",
    "bulk(client, actions)"
   ]
  },
  {
   "cell_type": "markdown",
   "metadata": {},
   "source": [
    "To test that it works we can retrieve the neighbors of a random vector."
   ]
  },
  {
   "cell_type": "code",
   "execution_count": 14,
   "metadata": {},
   "outputs": [
    {
     "name": "stdout",
     "output_type": "stream",
     "text": [
      "2023-07-10 19:39:06,085 INFO: POST https://10.0.2.15:9200/rec_candidate_index/_search [status:200 request:0.139s]\n",
      "{'_shards': {'failed': 0, 'skipped': 0, 'successful': 1, 'total': 1},\n",
      " 'hits': {'hits': [{'_id': '550969001',\n",
      "                    '_index': 'rec_candidate_index',\n",
      "                    '_score': 5.292914,\n",
      "                    '_source': {'my_vector1': [1.750615119934082,\n",
      "                                               1.824286699295044,\n",
      "                                               1.9051073789596558,\n",
      "                                               -2.153055191040039,\n",
      "                                               1.270268201828003,\n",
      "                                               -0.7928036451339722,\n",
      "                                               1.5667674541473389,\n",
      "                                               2.506160259246826,\n",
      "                                               -1.557816743850708,\n",
      "                                               -0.4792322814464569,\n",
      "                                               0.436911940574646,\n",
      "                                               0.35672029852867126,\n",
      "                                               0.3498244285583496,\n",
      "                                               2.1913609504699707,\n",
      "                                               -0.5911262631416321,\n",
      "                                               0.6932319402694702]},\n",
      "                    '_type': '_doc'},\n",
      "                   {'_id': '737436001',\n",
      "                    '_index': 'rec_candidate_index',\n",
      "                    '_score': 5.004106,\n",
      "                    '_source': {'my_vector1': [1.28364098072052,\n",
      "                                               1.809554934501648,\n",
      "                                               1.4753732681274414,\n",
      "                                               -1.2367006540298462,\n",
      "                                               0.7720640897750854,\n",
      "                                               -0.5694570541381836,\n",
      "                                               1.4929918050765991,\n",
      "                                               1.7190359830856323,\n",
      "                                               -1.6260995864868164,\n",
      "                                               -0.788988471031189,\n",
      "                                               0.3269798159599304,\n",
      "                                               0.4412398040294647,\n",
      "                                               0.7899559736251831,\n",
      "                                               1.9811789989471436,\n",
      "                                               -0.6660758852958679,\n",
      "                                               1.089484453201294]},\n",
      "                    '_type': '_doc'},\n",
      "                   {'_id': '594997001',\n",
      "                    '_index': 'rec_candidate_index',\n",
      "                    '_score': 4.9385524,\n",
      "                    '_source': {'my_vector1': [0.6914685964584351,\n",
      "                                               1.5708898305892944,\n",
      "                                               1.2498741149902344,\n",
      "                                               -1.550430417060852,\n",
      "                                               0.8497418165206909,\n",
      "                                               -1.2359274625778198,\n",
      "                                               1.8236138820648193,\n",
      "                                               1.7770466804504395,\n",
      "                                               -2.0678653717041016,\n",
      "                                               -0.47388139367103577,\n",
      "                                               0.6358647346496582,\n",
      "                                               0.7480883002281189,\n",
      "                                               0.9236389398574829,\n",
      "                                               1.923734188079834,\n",
      "                                               -1.0405197143554688,\n",
      "                                               1.249959945678711]},\n",
      "                    '_type': '_doc'},\n",
      "                   {'_id': '559607002',\n",
      "                    '_index': 'rec_candidate_index',\n",
      "                    '_score': 4.8438945,\n",
      "                    '_source': {'my_vector1': [1.1982442140579224,\n",
      "                                               1.5833842754364014,\n",
      "                                               1.8070443868637085,\n",
      "                                               -2.137753486633301,\n",
      "                                               0.8625284433364868,\n",
      "                                               -0.9858847856521606,\n",
      "                                               1.5626949071884155,\n",
      "                                               2.5945491790771484,\n",
      "                                               -1.9310064315795898,\n",
      "                                               -0.14266812801361084,\n",
      "                                               0.4966884255409241,\n",
      "                                               0.34615132212638855,\n",
      "                                               0.7766727209091187,\n",
      "                                               1.7670456171035767,\n",
      "                                               -0.6840422749519348,\n",
      "                                               0.7505322694778442]},\n",
      "                    '_type': '_doc'},\n",
      "                   {'_id': '559633018',\n",
      "                    '_index': 'rec_candidate_index',\n",
      "                    '_score': 4.831771,\n",
      "                    '_source': {'my_vector1': [1.150736927986145,\n",
      "                                               1.6749422550201416,\n",
      "                                               1.2222075462341309,\n",
      "                                               -1.1329132318496704,\n",
      "                                               0.5181580781936646,\n",
      "                                               -0.33855435252189636,\n",
      "                                               1.3655370473861694,\n",
      "                                               1.8905763626098633,\n",
      "                                               -1.6949667930603027,\n",
      "                                               -0.7704429626464844,\n",
      "                                               0.31539779901504517,\n",
      "                                               0.21839183568954468,\n",
      "                                               0.8923306465148926,\n",
      "                                               1.9147827625274658,\n",
      "                                               -0.43663686513900757,\n",
      "                                               1.2426820993423462]},\n",
      "                    '_type': '_doc'},\n",
      "                   {'_id': '834906003',\n",
      "                    '_index': 'rec_candidate_index',\n",
      "                    '_score': 4.8298063,\n",
      "                    '_source': {'my_vector1': [0.49567434191703796,\n",
      "                                               1.2879782915115356,\n",
      "                                               0.7916308641433716,\n",
      "                                               -1.5120596885681152,\n",
      "                                               0.5542739629745483,\n",
      "                                               -1.2562755346298218,\n",
      "                                               2.2337801456451416,\n",
      "                                               1.6865150928497314,\n",
      "                                               -2.4465126991271973,\n",
      "                                               -0.565231204032898,\n",
      "                                               1.2142162322998047,\n",
      "                                               0.9101846814155579,\n",
      "                                               0.8492046594619751,\n",
      "                                               2.2135980129241943,\n",
      "                                               -0.835705041885376,\n",
      "                                               1.1983604431152344]},\n",
      "                    '_type': '_doc'},\n",
      "                   {'_id': '803173004',\n",
      "                    '_index': 'rec_candidate_index',\n",
      "                    '_score': 4.8054223,\n",
      "                    '_source': {'my_vector1': [0.6629382371902466,\n",
      "                                               1.08016037940979,\n",
      "                                               0.7639776468276978,\n",
      "                                               -1.2140913009643555,\n",
      "                                               0.6905808448791504,\n",
      "                                               -1.2367091178894043,\n",
      "                                               1.9651352167129517,\n",
      "                                               1.1570594310760498,\n",
      "                                               -2.281526803970337,\n",
      "                                               -0.5202550888061523,\n",
      "                                               1.2196060419082642,\n",
      "                                               0.9568223357200623,\n",
      "                                               0.8682584762573242,\n",
      "                                               2.312121868133545,\n",
      "                                               -0.6128509044647217,\n",
      "                                               1.251608967781067]},\n",
      "                    '_type': '_doc'},\n",
      "                   {'_id': '757915003',\n",
      "                    '_index': 'rec_candidate_index',\n",
      "                    '_score': 4.733602,\n",
      "                    '_source': {'my_vector1': [1.5234342813491821,\n",
      "                                               1.5937310457229614,\n",
      "                                               2.4153828620910645,\n",
      "                                               -1.635214924812317,\n",
      "                                               1.3771201372146606,\n",
      "                                               -1.0723769664764404,\n",
      "                                               1.3244149684906006,\n",
      "                                               1.6184751987457275,\n",
      "                                               -1.422792673110962,\n",
      "                                               -0.07946757972240448,\n",
      "                                               0.10909518599510193,\n",
      "                                               0.11879073083400726,\n",
      "                                               0.37788915634155273,\n",
      "                                               1.978614091873169,\n",
      "                                               -1.0345652103424072,\n",
      "                                               0.44658517837524414]},\n",
      "                    '_type': '_doc'},\n",
      "                   {'_id': '833499003',\n",
      "                    '_index': 'rec_candidate_index',\n",
      "                    '_score': 4.7328463,\n",
      "                    '_source': {'my_vector1': [1.5052943229675293,\n",
      "                                               1.8181456327438354,\n",
      "                                               2.28763484954834,\n",
      "                                               -1.825806736946106,\n",
      "                                               0.9591555595397949,\n",
      "                                               -0.652866005897522,\n",
      "                                               1.4288783073425293,\n",
      "                                               2.0633487701416016,\n",
      "                                               -1.5714929103851318,\n",
      "                                               -0.545788049697876,\n",
      "                                               0.07718382775783539,\n",
      "                                               0.19772827625274658,\n",
      "                                               0.45111560821533203,\n",
      "                                               2.0885984897613525,\n",
      "                                               -0.6671379208564758,\n",
      "                                               0.6664676666259766]},\n",
      "                    '_type': '_doc'},\n",
      "                   {'_id': '542464004',\n",
      "                    '_index': 'rec_candidate_index',\n",
      "                    '_score': 4.70418,\n",
      "                    '_source': {'my_vector1': [1.300991415977478,\n",
      "                                               1.8396391868591309,\n",
      "                                               1.7968299388885498,\n",
      "                                               -1.2777719497680664,\n",
      "                                               0.8061947822570801,\n",
      "                                               -0.6562587022781372,\n",
      "                                               1.8297632932662964,\n",
      "                                               0.930513858795166,\n",
      "                                               -1.7984888553619385,\n",
      "                                               -1.1277731657028198,\n",
      "                                               0.5182377099990845,\n",
      "                                               0.7188746333122253,\n",
      "                                               0.47627246379852295,\n",
      "                                               2.4944217205047607,\n",
      "                                               -0.6332785487174988,\n",
      "                                               0.8375126123428345]},\n",
      "                    '_type': '_doc'}],\n",
      "          'max_score': 5.292914,\n",
      "          'total': {'relation': 'eq', 'value': 30}},\n",
      " 'timed_out': False,\n",
      " 'took': 127}\n"
     ]
    }
   ],
   "source": [
    "import pprint\n",
    "import numpy as np\n",
    "\n",
    "embedding = np.random.rand(emb_dim)\n",
    "\n",
    "query = {\n",
    "  \"size\": 10,\n",
    "  \"query\": {\n",
    "    \"knn\": {\n",
    "      \"my_vector1\": {\n",
    "        \"vector\": embedding,\n",
    "        \"k\": 10\n",
    "      }\n",
    "    }\n",
    "  }\n",
    "}\n",
    "\n",
    "response = client.search(\n",
    "    body = query,\n",
    "    index = index_name\n",
    ")\n",
    "\n",
    "pprint.pprint(response)"
   ]
  },
  {
   "cell_type": "markdown",
   "metadata": {},
   "source": [
    "#### Next Steps\n",
    "\n",
    "At this point we have a recommender system that is able to generate a set of candidate items for a customer. However, many of these could be poor, as the candidate model was trained with only a few subset of the features. In the next notebook, we'll train a *ranking model* to do more fine-grained predictions."
   ]
  }
 ],
 "metadata": {
  "interpreter": {
   "hash": "31f2aee4e71d21fbe5cf8b01ff0e069b9275f58929596ceb00d14d90e3e16cd6"
  },
  "kernelspec": {
   "display_name": "Python",
   "language": "python",
   "name": "python3"
  },
  "language_info": {
   "codemirror_mode": {
    "name": "ipython",
    "version": 3
   },
   "file_extension": ".py",
   "mimetype": "text/x-python",
   "name": "python",
   "nbconvert_exporter": "python",
   "pygments_lexer": "ipython3",
   "version": "3.10.11"
  }
 },
 "nbformat": 4,
 "nbformat_minor": 4
}