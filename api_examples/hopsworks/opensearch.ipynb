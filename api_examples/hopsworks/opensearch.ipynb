{
 "cells": [
  {
   "cell_type": "markdown",
   "id": "8d344a30",
   "metadata": {},
   "source": [
    "## OpenSearch API"
   ]
  },
  {
   "cell_type": "markdown",
   "id": "997c556e",
   "metadata": {},
   "source": [
    "This API provides the configuration to setup an opensearch-py client for the OpenSearch cluster."
   ]
  },
  {
   "cell_type": "markdown",
   "id": "c703fcf9",
   "metadata": {},
   "source": [
    "## Scope"
   ]
  },
  {
   "cell_type": "markdown",
   "id": "3a526371",
   "metadata": {},
   "source": [
    "* Create and configure opensearch-py client\n",
    "* Create a new index\n",
    "* List indices\n",
    "* Add a document\n",
    "* Search for document\n",
    "* Delete document\n",
    "* Delete index\n",
    "* Simple k-NN recommendation example"
   ]
  },
  {
   "cell_type": "code",
   "execution_count": 1,
   "id": "dc60e827",
   "metadata": {},
   "outputs": [],
   "source": [
    "import hopsworks"
   ]
  },
  {
   "cell_type": "code",
   "execution_count": 2,
   "id": "266e2937",
   "metadata": {},
   "outputs": [
    {
     "name": "stdout",
     "output_type": "stream",
     "text": [
      "Connected. Call `.close()` to terminate connection gracefully.\n"
     ]
    }
   ],
   "source": [
    "connection = hopsworks.connection()"
   ]
  },
  {
   "cell_type": "code",
   "execution_count": 3,
   "id": "50b92d0a",
   "metadata": {},
   "outputs": [],
   "source": [
    "project = connection.get_project()"
   ]
  },
  {
   "cell_type": "code",
   "execution_count": 4,
   "id": "8f8b5aa3",
   "metadata": {},
   "outputs": [],
   "source": [
    "opensearch_api = project.get_opensearch_api()"
   ]
  },
  {
   "cell_type": "markdown",
   "id": "23e2eb0b",
   "metadata": {},
   "source": [
    "### Configure the OpenSearch client"
   ]
  },
  {
   "cell_type": "code",
   "execution_count": 5,
   "id": "929314ac",
   "metadata": {},
   "outputs": [],
   "source": [
    "from opensearchpy import OpenSearch"
   ]
  },
  {
   "cell_type": "code",
   "execution_count": 6,
   "id": "666be9b8",
   "metadata": {},
   "outputs": [],
   "source": [
    "client = OpenSearch(**opensearch_api.get_default_py_config())"
   ]
  },
  {
   "cell_type": "markdown",
   "id": "004924f7",
   "metadata": {},
   "source": [
    "### Create a simple index"
   ]
  },
  {
   "cell_type": "code",
   "execution_count": 7,
   "id": "c239c130",
   "metadata": {},
   "outputs": [
    {
     "name": "stdout",
     "output_type": "stream",
     "text": [
      "demo_ml_meb10000_demo_simple_index\n"
     ]
    }
   ],
   "source": [
    "index_name = opensearch_api.get_project_index(\"demo_simple_index\")\n",
    "print(index_name)"
   ]
  },
  {
   "cell_type": "code",
   "execution_count": 8,
   "id": "dfcc81d8",
   "metadata": {},
   "outputs": [
    {
     "name": "stdout",
     "output_type": "stream",
     "text": [
      "2022-05-06 13:27:21,071 INFO: PUT https://10.0.2.15:9200/demo_ml_meb10000_demo_simple_index [status:200 request:0.396s]\n"
     ]
    }
   ],
   "source": [
    "import json\n",
    "# Create an index with non-default settings.\n",
    "index_body = {\n",
    "  'settings': {\n",
    "    'index': {\n",
    "      'number_of_shards': 1\n",
    "    }\n",
    "  }\n",
    "}\n",
    "\n",
    "response = client.indices.create(index_name, body=json.dumps(index_body))"
   ]
  },
  {
   "cell_type": "markdown",
   "id": "16097b7a",
   "metadata": {},
   "source": [
    "### List the indices"
   ]
  },
  {
   "cell_type": "code",
   "execution_count": 9,
   "id": "171e4fb9",
   "metadata": {},
   "outputs": [
    {
     "name": "stdout",
     "output_type": "stream",
     "text": [
      "2022-05-06 13:27:21,087 INFO: GET https://10.0.2.15:9200/_cat/indices/demo_ml_meb10000_demo_simple_index [status:200 request:0.007s]\n",
      "yellow open demo_ml_meb10000_demo_simple_index SSjDX0uZQRyjyHYRKMsgeg 1 1 0 0 208b 208b\n",
      "\n"
     ]
    }
   ],
   "source": [
    "print(client.cat.indices(index_name))"
   ]
  },
  {
   "cell_type": "markdown",
   "id": "1136cc6f",
   "metadata": {},
   "source": [
    "### Add a document"
   ]
  },
  {
   "cell_type": "code",
   "execution_count": 10,
   "id": "9da5e21d",
   "metadata": {},
   "outputs": [
    {
     "name": "stdout",
     "output_type": "stream",
     "text": [
      "2022-05-06 13:27:21,236 INFO: PUT https://10.0.2.15:9200/demo_ml_meb10000_demo_simple_index/_doc/1?refresh=true [status:201 request:0.136s]\n",
      "\n",
      "Added document: {'_index': 'demo_ml_meb10000_demo_simple_index', '_type': '_doc', '_id': '1', '_version': 1, 'result': 'created', 'forced_refresh': True, '_shards': {'total': 2, 'successful': 1, 'failed': 0}, '_seq_no': 0, '_primary_term': 1}\n"
     ]
    }
   ],
   "source": [
    "# Add a document to the index.\n",
    "document = {\n",
    "  'title': 'Moneyball',\n",
    "  'director': 'Bennett Miller',\n",
    "  'year': '2011'\n",
    "}\n",
    "id = '1'\n",
    "\n",
    "response = client.index(\n",
    "    index = index_name,\n",
    "    body = document,\n",
    "    id = id,\n",
    "    refresh = True\n",
    ")\n",
    "\n",
    "print('\\nAdded document: {}'.format(response))"
   ]
  },
  {
   "cell_type": "markdown",
   "id": "b9407974",
   "metadata": {},
   "source": [
    "### Search for document"
   ]
  },
  {
   "cell_type": "code",
   "execution_count": 11,
   "id": "2889597c",
   "metadata": {},
   "outputs": [
    {
     "name": "stdout",
     "output_type": "stream",
     "text": [
      "2022-05-06 13:27:21,265 INFO: POST https://10.0.2.15:9200/demo_ml_meb10000_demo_simple_index/_search [status:200 request:0.018s]\n",
      "\n",
      "Search results: {'took': 12, 'timed_out': False, '_shards': {'total': 1, 'successful': 1, 'skipped': 0, 'failed': 0}, 'hits': {'total': {'value': 1, 'relation': 'eq'}, 'max_score': 0.2876821, 'hits': [{'_index': 'demo_ml_meb10000_demo_simple_index', '_type': '_doc', '_id': '1', '_score': 0.2876821, '_source': {'title': 'Moneyball', 'director': 'Bennett Miller', 'year': '2011'}}]}}\n"
     ]
    }
   ],
   "source": [
    "# Search for the document.\n",
    "q = 'miller'\n",
    "query = {\n",
    "  'size': 5,\n",
    "  'query': {\n",
    "    'multi_match': {\n",
    "      'query': q,\n",
    "      'fields': ['title^2', 'director']\n",
    "    }\n",
    "  }\n",
    "}\n",
    "\n",
    "response = client.search(\n",
    "    body = query,\n",
    "    index = index_name\n",
    ")\n",
    "print('\\nSearch results: {}'.format(response))"
   ]
  },
  {
   "cell_type": "markdown",
   "id": "2314e52f",
   "metadata": {},
   "source": [
    "### Delete the document"
   ]
  },
  {
   "cell_type": "code",
   "execution_count": 12,
   "id": "a878aa13",
   "metadata": {},
   "outputs": [
    {
     "name": "stdout",
     "output_type": "stream",
     "text": [
      "2022-05-06 13:27:21,296 INFO: DELETE https://10.0.2.15:9200/demo_ml_meb10000_demo_simple_index/_doc/1 [status:200 request:0.017s]\n",
      "\n",
      "Deleting document: {'_index': 'demo_ml_meb10000_demo_simple_index', '_type': '_doc', '_id': '1', '_version': 2, 'result': 'deleted', '_shards': {'total': 2, 'successful': 1, 'failed': 0}, '_seq_no': 1, '_primary_term': 1}\n",
      "{'_index': 'demo_ml_meb10000_demo_simple_index', '_type': '_doc', '_id': '1', '_version': 2, 'result': 'deleted', '_shards': {'total': 2, 'successful': 1, 'failed': 0}, '_seq_no': 1, '_primary_term': 1}\n"
     ]
    }
   ],
   "source": [
    "# Delete the document.\n",
    "response = client.delete(\n",
    "    index = index_name,\n",
    "    id = id\n",
    ")\n",
    "\n",
    "print('\\nDeleting document: {}'.format(response))\n",
    "print(response)"
   ]
  },
  {
   "cell_type": "markdown",
   "id": "d38d26f3",
   "metadata": {},
   "source": [
    "### Delete the index"
   ]
  },
  {
   "cell_type": "code",
   "execution_count": 13,
   "id": "5a22dbe6",
   "metadata": {},
   "outputs": [
    {
     "name": "stdout",
     "output_type": "stream",
     "text": [
      "2022-05-06 13:27:21,411 INFO: DELETE https://10.0.2.15:9200/demo_ml_meb10000_demo_simple_index [status:200 request:0.103s]\n",
      "\n",
      "Deleting index: {'acknowledged': True}\n"
     ]
    }
   ],
   "source": [
    "# Delete the index.\n",
    "response = client.indices.delete(\n",
    "    index = index_name\n",
    ")\n",
    "\n",
    "print('\\nDeleting index: {}'.format(response))"
   ]
  },
  {
   "cell_type": "markdown",
   "id": "f70f3944",
   "metadata": {},
   "source": [
    "## k-NN recommendation example"
   ]
  },
  {
   "cell_type": "markdown",
   "id": "8e0915ca",
   "metadata": {},
   "source": [
    "### Create index"
   ]
  },
  {
   "cell_type": "code",
   "execution_count": 14,
   "id": "20248369",
   "metadata": {},
   "outputs": [
    {
     "name": "stdout",
     "output_type": "stream",
     "text": [
      "demo_ml_meb10000_demo_simple_index\n"
     ]
    }
   ],
   "source": [
    "knn_index_name = opensearch_api.get_project_index(\"demo_knn_index\")\n",
    "print(index_name)"
   ]
  },
  {
   "cell_type": "code",
   "execution_count": 15,
   "id": "8e588ca7",
   "metadata": {},
   "outputs": [
    {
     "name": "stdout",
     "output_type": "stream",
     "text": [
      "2022-05-06 13:27:21,774 INFO: PUT https://10.0.2.15:9200/demo_ml_meb10000_demo_knn_index [status:200 request:0.337s]\n",
      "{'acknowledged': True, 'shards_acknowledged': True, 'index': 'demo_ml_meb10000_demo_knn_index'}\n"
     ]
    }
   ],
   "source": [
    "index_body = {\n",
    "  \"settings\": {\n",
    "      \"knn\": True,\n",
    "      \"knn.algo_param.ef_search\": 100,\n",
    "  },\n",
    "  \"mappings\": {\n",
    "    \"properties\": {\n",
    "      \"my_vector1\": {\n",
    "        \"type\": \"knn_vector\",\n",
    "        \"dimension\": 2\n",
    "      }\n",
    "    }\n",
    "  }\n",
    "}\n",
    "\n",
    "response = client.indices.create(knn_index_name, body=index_body)\n",
    "print(response)"
   ]
  },
  {
   "cell_type": "markdown",
   "id": "68536c25",
   "metadata": {},
   "source": [
    "### List the indices"
   ]
  },
  {
   "cell_type": "code",
   "execution_count": 16,
   "id": "614b0f34",
   "metadata": {},
   "outputs": [
    {
     "name": "stdout",
     "output_type": "stream",
     "text": [
      "2022-05-06 13:27:21,792 INFO: GET https://10.0.2.15:9200/_cat/indices/demo_ml_meb10000_demo_knn_index [status:200 request:0.009s]\n",
      "yellow open demo_ml_meb10000_demo_knn_index nKckPRMTTnGKBdSdkbGcTA 1 1 0 0 208b 208b\n",
      "\n"
     ]
    }
   ],
   "source": [
    "print(client.cat.indices(knn_index_name))"
   ]
  },
  {
   "cell_type": "markdown",
   "id": "21681dcb",
   "metadata": {},
   "source": [
    "### Add vectors bulk"
   ]
  },
  {
   "cell_type": "code",
   "execution_count": 17,
   "id": "ce151679",
   "metadata": {},
   "outputs": [
    {
     "name": "stdout",
     "output_type": "stream",
     "text": [
      "2022-05-06 13:27:21,828 INFO: POST https://10.0.2.15:9200/_bulk [status:200 request:0.021s]\n"
     ]
    }
   ],
   "source": [
    "from opensearchpy.helpers import bulk\n",
    "import random, time\n",
    "    \n",
    "    \n",
    "actions = [\n",
    "  {\n",
    "    \"_index\": knn_index_name,     \n",
    "    \"_id\": count,\n",
    "    \"_source\": {\n",
    "        \"my_vector1\": [random.uniform(0, 10), random.uniform(0, 10)],   \n",
    "    }\n",
    "  }\n",
    "  for count in range(0, 10)\n",
    "]\n",
    "\n",
    "bulk(\n",
    "    client,\n",
    "    actions,\n",
    ")\n",
    "\n",
    "time.sleep(5)"
   ]
  },
  {
   "cell_type": "markdown",
   "id": "c42c4627",
   "metadata": {},
   "source": [
    "### Get most similar vector"
   ]
  },
  {
   "cell_type": "code",
   "execution_count": 18,
   "id": "ed320cbb",
   "metadata": {},
   "outputs": [
    {
     "name": "stdout",
     "output_type": "stream",
     "text": [
      "2022-05-06 13:27:26,857 INFO: POST https://10.0.2.15:9200/demo_ml_meb10000_demo_knn_index/_search [status:200 request:0.013s]\n"
     ]
    }
   ],
   "source": [
    "import pprint \n",
    "query = {\n",
    "  \"size\": 10,\n",
    "  \"query\": {\n",
    "    \"knn\": {\n",
    "      \"my_vector1\": {\n",
    "        \"vector\": [2.5, 3],\n",
    "        \"k\": 10\n",
    "      }\n",
    "    }\n",
    "  }\n",
    "}\n",
    "\n",
    "response = client.search(\n",
    "    body = query,\n",
    "    index = knn_index_name\n",
    ")"
   ]
  },
  {
   "cell_type": "markdown",
   "id": "e38c7ae7",
   "metadata": {},
   "source": [
    "#### The highest score corresponds to the vector that is most similar to [2.5, 3]"
   ]
  },
  {
   "cell_type": "code",
   "execution_count": 19,
   "id": "fc8161b0",
   "metadata": {},
   "outputs": [
    {
     "name": "stdout",
     "output_type": "stream",
     "text": [
      "{'_shards': {'failed': 0, 'skipped': 0, 'successful': 1, 'total': 1},\n",
      " 'hits': {'hits': [{'_id': '0',\n",
      "                    '_index': 'demo_ml_meb10000_demo_knn_index',\n",
      "                    '_score': 0.24409702,\n",
      "                    '_source': {'my_vector1': [4.212482946839061,\n",
      "                                               2.5948657343424273]},\n",
      "                    '_type': '_doc'},\n",
      "                   {'_id': '5',\n",
      "                    '_index': 'demo_ml_meb10000_demo_knn_index',\n",
      "                    '_score': 0.212302,\n",
      "                    '_source': {'my_vector1': [4.3354166798851566,\n",
      "                                               2.415605665484335]},\n",
      "                    '_type': '_doc'},\n",
      "                   {'_id': '8',\n",
      "                    '_index': 'demo_ml_meb10000_demo_knn_index',\n",
      "                    '_score': 0.18577491,\n",
      "                    '_source': {'my_vector1': [4.4112345303168645,\n",
      "                                               2.1455753911685904]},\n",
      "                    '_type': '_doc'},\n",
      "                   {'_id': '1',\n",
      "                    '_index': 'demo_ml_meb10000_demo_knn_index',\n",
      "                    '_score': 0.054702356,\n",
      "                    '_source': {'my_vector1': [3.9228162952246484,\n",
      "                                               6.90593686903625]},\n",
      "                    '_type': '_doc'},\n",
      "                   {'_id': '3',\n",
      "                    '_index': 'demo_ml_meb10000_demo_knn_index',\n",
      "                    '_score': 0.033938043,\n",
      "                    '_source': {'my_vector1': [6.970625074322232,\n",
      "                                               0.08813234386231161]},\n",
      "                    '_type': '_doc'},\n",
      "                   {'_id': '7',\n",
      "                    '_index': 'demo_ml_meb10000_demo_knn_index',\n",
      "                    '_score': 0.029085787,\n",
      "                    '_source': {'my_vector1': [8.014995894393103,\n",
      "                                               1.2778277523304427]},\n",
      "                    '_type': '_doc'},\n",
      "                   {'_id': '2',\n",
      "                    '_index': 'demo_ml_meb10000_demo_knn_index',\n",
      "                    '_score': 0.026968487,\n",
      "                    '_source': {'my_vector1': [1.3154663982128856,\n",
      "                                               8.888735072915575]},\n",
      "                    '_type': '_doc'},\n",
      "                   {'_id': '9',\n",
      "                    '_index': 'demo_ml_meb10000_demo_knn_index',\n",
      "                    '_score': 0.026830243,\n",
      "                    '_source': {'my_vector1': [8.3442091439898,\n",
      "                                               1.5451466346596598]},\n",
      "                    '_type': '_doc'},\n",
      "                   {'_id': '4',\n",
      "                    '_index': 'demo_ml_meb10000_demo_knn_index',\n",
      "                    '_score': 0.017857037,\n",
      "                    '_source': {'my_vector1': [9.650691050404365,\n",
      "                                               4.966709973039059]},\n",
      "                    '_type': '_doc'},\n",
      "                   {'_id': '6',\n",
      "                    '_index': 'demo_ml_meb10000_demo_knn_index',\n",
      "                    '_score': 0.014842048,\n",
      "                    '_source': {'my_vector1': [9.269131980896786,\n",
      "                                               7.533762569677407]},\n",
      "                    '_type': '_doc'}],\n",
      "          'max_score': 0.24409702,\n",
      "          'total': {'relation': 'eq', 'value': 10}},\n",
      " 'timed_out': False,\n",
      " 'took': 9}\n"
     ]
    }
   ],
   "source": [
    "pp = pprint.PrettyPrinter()\n",
    "pp.pprint(response)"
   ]
  },
  {
   "cell_type": "markdown",
   "id": "2098eaf4",
   "metadata": {},
   "source": [
    "### Delete the index"
   ]
  },
  {
   "cell_type": "code",
   "execution_count": 20,
   "id": "a4c5c9ea",
   "metadata": {},
   "outputs": [
    {
     "name": "stdout",
     "output_type": "stream",
     "text": [
      "2022-05-06 13:27:26,995 INFO: DELETE https://10.0.2.15:9200/demo_ml_meb10000_demo_knn_index [status:200 request:0.097s]\n",
      "\n",
      "Deleting index: {'acknowledged': True}\n"
     ]
    }
   ],
   "source": [
    "response = client.indices.delete(\n",
    "    index = knn_index_name\n",
    ")\n",
    "\n",
    "print('\\nDeleting index: {}'.format(response))"
   ]
  }
 ],
 "metadata": {
  "kernelspec": {
   "display_name": "Python",
   "language": "python",
   "name": "python3"
  },
  "language_info": {
   "codemirror_mode": {
    "name": "ipython",
    "version": 3
   },
   "file_extension": ".py",
   "mimetype": "text/x-python",
   "name": "python",
   "nbconvert_exporter": "python",
   "pygments_lexer": "ipython3",
   "version": "3.8.11"
  }
 },
 "nbformat": 4,
 "nbformat_minor": 5
}