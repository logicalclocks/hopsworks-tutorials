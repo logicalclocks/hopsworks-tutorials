{
 "cells": [
  {
   "cell_type": "markdown",
   "id": "74d2c263",
   "metadata": {},
   "source": [
    "## <span style='color:#ff5f27'> 📝 Imports"
   ]
  },
  {
   "cell_type": "code",
   "execution_count": null,
   "id": "4d06a1e5",
   "metadata": {},
   "outputs": [],
   "source": [
    "import pandas as pd\n",
    "import numpy as np\n",
    "import great_expectations as ge\n",
    "from great_expectations.core import ExpectationSuite, ExpectationConfiguration"
   ]
  },
  {
   "cell_type": "markdown",
   "id": "538080dd",
   "metadata": {},
   "source": [
    "## <span style='color:#ff5f27'> 🎥 Fetch Content Data</span>\n"
   ]
  },
  {
   "cell_type": "code",
   "execution_count": null,
   "id": "d4e2188c",
   "metadata": {},
   "outputs": [],
   "source": [
    "data_video_df = pd.read_parquet('https://repo.hops.works/dev/davit/tiktok_recsys/videos.parquet')"
   ]
  },
  {
   "cell_type": "markdown",
   "id": "022e16a5",
   "metadata": {},
   "source": [
    "## <span style=\"color:#ff5f27\">👮🏻‍♂️ Great Expectations </span>"
   ]
  },
  {
   "cell_type": "code",
   "execution_count": null,
   "id": "1b5cc2d5",
   "metadata": {},
   "outputs": [],
   "source": [
    "# Create a Great Expectations DataFrame from the pandas DataFrame\n",
    "ge_video_df = ge.from_pandas(data_video_df)\n",
    "\n",
    "# Initialize the expectation suite\n",
    "expectation_suite_videos = ge_video_df.get_expectation_suite()\n",
    "expectation_suite_videos.expectation_suite_name = \"video_data_suite\"\n",
    "\n",
    "# Expectation: Views, Likes, and Video Length should be non-negative\n",
    "for column in [\"video_length\"]:\n",
    "    expectation_suite_videos.add_expectation(\n",
    "        ExpectationConfiguration(\n",
    "            expectation_type=\"expect_column_values_to_be_between\",\n",
    "            kwargs={\"column\": column, \"min_value\": 0, \"max_value\": None}\n",
    "        )\n",
    "    )\n",
    "\n",
    "# Expectation: Valid date format for upload_date\n",
    "expectation_suite_videos.add_expectation(\n",
    "    ExpectationConfiguration(\n",
    "        expectation_type=\"expect_column_values_to_be_dateutil_parseable\",\n",
    "        kwargs={\"column\": \"upload_date\"}\n",
    "    )\n",
    ")"
   ]
  },
  {
   "cell_type": "markdown",
   "id": "06368b8b",
   "metadata": {},
   "source": [
    "## <span style=\"color:#ff5f27\">🔮 Connect to Hopsworks Feature Store </span>"
   ]
  },
  {
   "cell_type": "code",
   "execution_count": null,
   "id": "602d3d75",
   "metadata": {},
   "outputs": [],
   "source": [
    "import hopsworks\n",
    "\n",
    "project = hopsworks.login()\n",
    "\n",
    "fs = project.get_feature_store()"
   ]
  },
  {
   "cell_type": "markdown",
   "id": "5a19a172",
   "metadata": {},
   "source": [
    "## <span style=\"color:#ff5f27\">🪄 Feature Group Creation </span>\n"
   ]
  },
  {
   "cell_type": "code",
   "execution_count": null,
   "id": "1612d635",
   "metadata": {},
   "outputs": [],
   "source": [
    "videos_fg = fs.get_or_create_feature_group(\n",
    "    name=\"videos\",\n",
    "    version=1,\n",
    "    description=\"Videos data.\",\n",
    "    primary_key=[\"video_id\"],\n",
    "    partition_key=[\"upload_month\"],\n",
    "    online_enabled=True,\n",
    "    event_time=\"upload_date\",\n",
    "    expectation_suite=expectation_suite_videos,\n",
    "    statistics_config = {\n",
    "            \"enabled\": True,\n",
    "            \"histograms\": True,\n",
    "            \"correlations\": True,\n",
    "        }\n",
    ")\n",
    "\n",
    "videos_fg.insert(data_video_df)\n",
    "print('Done ✅')"
   ]
  },
  {
   "cell_type": "code",
   "execution_count": null,
   "id": "85b5390b-02a3-4a18-b08f-d6d910115464",
   "metadata": {},
   "outputs": [],
   "source": [
    "feature_descriptions = [\n",
    "    {\"name\": \"video_id\", \"description\": \"Identifier for the video.\"},\n",
    "    {\"name\": \"category_id\", \"description\": \"Id of the video category.\"},   \n",
    "    {\"name\": \"category\", \"description\": \"Name of the video category.\"},\n",
    "    {\"name\": \"video_length\", \"description\": \"Video length in sconds.\"},\n",
    "    {\"name\": \"upload_date\", \"description\": \"Date of upload for the video.\"},\n",
    "    {\"name\": \"upload_month\", \"description\": \"Month of upload for the video, derived from upload_date.\"},\n",
    "]\n",
    "\n",
    "for desc in feature_descriptions: \n",
    "    videos_fg.update_feature_description(desc[\"name\"], desc[\"description\"])"
   ]
  },
  {
   "cell_type": "markdown",
   "id": "6bcc04ea",
   "metadata": {},
   "source": [
    "---"
   ]
  }
 ],
 "metadata": {
  "kernelspec": {
   "display_name": "Python 3 (ipykernel)",
   "language": "python",
   "name": "python3"
  },
  "language_info": {
   "codemirror_mode": {
    "name": "ipython",
    "version": 3
   },
   "file_extension": ".py",
   "mimetype": "text/x-python",
   "name": "python",
   "nbconvert_exporter": "python",
   "pygments_lexer": "ipython3",
   "version": "3.10.13"
  }
 },
 "nbformat": 4,
 "nbformat_minor": 5
}
