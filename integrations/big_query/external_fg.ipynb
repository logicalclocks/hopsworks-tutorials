{
 "cells": [
  {
   "cell_type": "markdown",
   "id": "adb8a7d9",
   "metadata": {},
   "source": [
    "# <span style='color:#ff5f27'> 👨🏻‍🏫 BigQuery External Feature Group Creation</span>\n",
    "\n",
    "Follow this [guide](https://docs.hopsworks.ai/3.0/user_guides/fs/storage_connector/creation/bigquery/) to set up a connection to BigQuery.\n",
    "\n",
    "In addition, you can read about [External Feature Groups](https://docs.hopsworks.ai/3.0/user_guides/fs/feature_group/create_external/)."
   ]
  },
  {
   "cell_type": "markdown",
   "id": "546f3d36",
   "metadata": {},
   "source": [
    "## <span style='color:#ff5f27'> 🔮 Retrieve a Connector\n",
    "\n",
    "Firstly, connect to feature store and then retrieve your **BigQuery storage connector**.\n",
    "\n",
    "Make sure that your storage connector has the **BigQuery Query** read options.\n",
    "\n",
    "![big_query](images/big_query.png)\n",
    "\n",
    "Replace `my_storage_connector_name` with your BigQuery storage connector name."
   ]
  },
  {
   "cell_type": "code",
   "execution_count": null,
   "id": "307f9f7f",
   "metadata": {},
   "outputs": [],
   "source": [
    "import hsfs\n",
    "\n",
    "# Connect to the Hopsworks feature store\n",
    "hsfs_connection = hsfs.connection()\n",
    "\n",
    "# Retrieve the metadata handle\n",
    "feature_store = hsfs_connection.get_feature_store()\n",
    "\n",
    "# Retrieve storage connector\n",
    "connector = feature_store.get_storage_connector('my_storage_connector_name')"
   ]
  },
  {
   "cell_type": "markdown",
   "id": "1b7a1077",
   "metadata": {},
   "source": [
    "## <span style='color:#ff5f27'> 📝 Read Data </span>\n",
    "\n",
    "You can retrieve your data by passing a SQL query as a string into **query** parameter of the `.read()` method.\n",
    "\n",
    "To indicate what data you need, follow the next table format:\n",
    "\n",
    "`{dataset_name}.{table_name}`"
   ]
  },
  {
   "cell_type": "code",
   "execution_count": null,
   "id": "f9b0120d",
   "metadata": {},
   "outputs": [],
   "source": [
    "query_str = \"SELECT * FROM {dataset_name}.{table_name}\"\n",
    "\n",
    "# read results from a SQL \n",
    "df = connector.read(query=query_str)    "
   ]
  },
  {
   "cell_type": "markdown",
   "id": "7f896133",
   "metadata": {},
   "source": [
    "> **.read()** method returns a PySpark DataFrame."
   ]
  },
  {
   "cell_type": "code",
   "execution_count": null,
   "id": "ff8ed27e",
   "metadata": {},
   "outputs": [],
   "source": [
    "type(df)"
   ]
  },
  {
   "cell_type": "code",
   "execution_count": null,
   "id": "86ac48ab",
   "metadata": {},
   "outputs": [],
   "source": [
    "df.show(5)"
   ]
  },
  {
   "cell_type": "markdown",
   "id": "5ea8b5a3",
   "metadata": {},
   "source": [
    "## <span style='color:#ff5f27'> ⚙️ Feature Group Creation</span>\n",
    "\n",
    "To create an **External Feature Group**, use `feature_store.create_external_feature_group()` method.\n",
    "\n",
    "Provide the parameters for your query and the BQ storage connector :\n",
    "- `query` - your SQL query string. \n",
    "- `storage_connector` - your **BigQuery Storage Connector**."
   ]
  },
  {
   "cell_type": "code",
   "execution_count": null,
   "id": "39556b7e",
   "metadata": {},
   "outputs": [],
   "source": [
    "my_external_fg = feature_store.create_external_feature_group(\n",
    "    name=\"name_external_fg\",\n",
    "    version=1,\n",
    "    description=\"Description of the External Big Query Table\",\n",
    "    primary_key=['pk1_name','pk2_name'],\n",
    "    event_time='event_time_col_name',\n",
    "    query=query_str,\n",
    "    storage_connector=connector,\n",
    ")"
   ]
  },
  {
   "cell_type": "markdown",
   "id": "b0faa765",
   "metadata": {},
   "source": [
    "Don't forget to register a feature group metadata object in Hopsworks!"
   ]
  },
  {
   "cell_type": "code",
   "execution_count": null,
   "id": "bc213c85",
   "metadata": {},
   "outputs": [],
   "source": [
    "my_external_fg.save()"
   ]
  },
  {
   "cell_type": "markdown",
   "id": "10e74d54",
   "metadata": {},
   "source": [
    "Now, you should be able to see your External Feature Group for the BQ table in the Hopsworks UI.\n",
    "\n",
    "![BQ_table](images/big_query_table.png)"
   ]
  },
  {
   "cell_type": "markdown",
   "id": "ed6c6f9a",
   "metadata": {},
   "source": [
    "---"
   ]
  }
 ],
 "metadata": {
  "kernelspec": {
   "display_name": "Python 3 (ipykernel)",
   "language": "python",
   "name": "python3"
  },
  "language_info": {
   "codemirror_mode": {
    "name": "ipython",
    "version": 3
   },
   "file_extension": ".py",
   "mimetype": "text/x-python",
   "name": "python",
   "nbconvert_exporter": "python",
   "pygments_lexer": "ipython3",
   "version": "3.9.13"
  }
 },
 "nbformat": 4,
 "nbformat_minor": 5
}
