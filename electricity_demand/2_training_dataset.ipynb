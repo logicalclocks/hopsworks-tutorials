{
 "cells": [
  {
   "cell_type": "markdown",
   "id": "5b07e677",
   "metadata": {},
   "source": [
    "# <span style=\"font-width:bold; font-size: 3rem; color:#1EB182;\"><img src=\"images/icon102.png\" width=\"38px\"></img> **Hopsworks Feature Store** </span><span style=\"font-width:bold; font-size: 3rem; color:#333;\">- Part 02: Training Data & Feature views</span>\n",
    "\n",
    "<span style=\"font-width:bold; font-size: 1.4rem;\">This is the second part of the quick start series of tutorials about Hopsworks Feature Store. This notebook explains how to read from a feature group and create training dataset within the feature store</span>\n",
    "\n",
    "## 🗒️ In this notebook we will see how to create a training dataset from the feature groups: \n",
    "\n",
    "1. Retrieving Feature Groups\n",
    "2. Feature Group investigation\n",
    "3. Transformation functions\n",
    "4. Feature Views\n",
    "5. Training Datasets\n",
    "6. Training Datasets with Event Time filter\n",
    "\n",
    "\n",
    "\n",
    "![tutorial-flow](images/02_training-dataset.png) "
   ]
  },
  {
   "cell_type": "markdown",
   "id": "c10e675d",
   "metadata": {},
   "source": [
    "---\n",
    "\n",
    "## <span style=\"color:#ff5f27;\"> 🔮 🪝 Connecting to Feature Store and Retrieving Feature Groups </span>"
   ]
  },
  {
   "cell_type": "code",
   "execution_count": 1,
   "id": "8bd95a73",
   "metadata": {},
   "outputs": [
    {
     "name": "stdout",
     "output_type": "stream",
     "text": [
      "Connected. Call `.close()` to terminate connection gracefully.\n"
     ]
    }
   ],
   "source": [
    "import hsfs\n",
    "\n",
    "conn = hsfs.connection()\n",
    "\n",
    "fs = conn.get_feature_store() "
   ]
  },
  {
   "cell_type": "markdown",
   "id": "3bdf59a6",
   "metadata": {},
   "source": [
    "> In order to retrieve necessary Feature Group we can use `FeatureStore.get_or_create_feature_group()` method."
   ]
  },
  {
   "cell_type": "code",
   "execution_count": 2,
   "id": "23d999aa",
   "metadata": {},
   "outputs": [],
   "source": [
    "fg_weather = fs.get_or_create_feature_group(\n",
    "    name = 'weather_fg',\n",
    "    version = 1\n",
    ")"
   ]
  },
  {
   "cell_type": "code",
   "execution_count": 3,
   "id": "70306d15",
   "metadata": {},
   "outputs": [],
   "source": [
    "fg_calendar = fs.get_or_create_feature_group(\n",
    "    name = 'calendar_fg',\n",
    "    version = 1\n",
    ")"
   ]
  },
  {
   "cell_type": "code",
   "execution_count": 4,
   "id": "11550008",
   "metadata": {},
   "outputs": [],
   "source": [
    "fg_electricity = fs.get_or_create_feature_group(\n",
    "    name = 'electricity_fg',\n",
    "    version = 1\n",
    ")"
   ]
  },
  {
   "cell_type": "markdown",
   "id": "a0d73f65",
   "metadata": {},
   "source": [
    "---\n",
    "\n",
    "# <span style=\"color:#ff5f27;\">🕵🏻‍♂️ Feature Groups Investigation</span>"
   ]
  },
  {
   "cell_type": "markdown",
   "id": "dce05b06",
   "metadata": {},
   "source": [
    "We can use `FeatureGroup.show()` method to select top n rows. \n",
    "\n",
    "Also we use method `FeatureGroup.read()` in order **to aggregate queries**, which are the output of next methods:\n",
    "\n",
    "- `FeatureGroup.get_feature()` to get specific feature from our Feature Group.\n",
    "\n",
    "- `FeatureGroup.select()` to get a subset of features from our Feature Group.\n",
    "\n",
    "- `FeatureGroup.select_all()` to get all features from our Feature Group.\n",
    "\n",
    "- `FeatureGroup.select_except()` to get all features except a few from our Feature Group.\n",
    "\n",
    "- `FeatureGroup.filter()` to apply specific filter to the feature group."
   ]
  },
  {
   "cell_type": "code",
   "execution_count": 5,
   "id": "8caec90b",
   "metadata": {},
   "outputs": [
    {
     "data": {
      "text/plain": [
       "<hsfs.constructor.query.Query at 0x7f75be39bf40>"
      ]
     },
     "execution_count": 5,
     "metadata": {},
     "output_type": "execute_result"
    }
   ],
   "source": [
    "fg_weather.select_all()"
   ]
  },
  {
   "cell_type": "code",
   "execution_count": 6,
   "id": "ad791184",
   "metadata": {},
   "outputs": [
    {
     "name": "stdout",
     "output_type": "stream",
     "text": [
      "2022-07-26 08:46:03,633 INFO: USE `electricity_demand_featurestore`\n",
      "2022-07-26 08:46:04,353 INFO: SELECT `fg0`.`index` `index`, `fg0`.`date` `date`, `fg0`.`min_temperature` `min_temperature`, `fg0`.`max_temperature` `max_temperature`, `fg0`.`solar_exposure` `solar_exposure`, `fg0`.`rainfall` `rainfall`, `fg0`.`day_of_week` `day_of_week`, `fg0`.`day_of_month` `day_of_month`, `fg0`.`day_of_year` `day_of_year`, `fg0`.`week_of_year` `week_of_year`, `fg0`.`month` `month`, `fg0`.`quarter` `quarter`, `fg0`.`year` `year`\n",
      "FROM `electricity_demand_featurestore`.`weather_fg_1` `fg0`\n"
     ]
    },
    {
     "data": {
      "text/html": [
       "<div>\n",
       "<style scoped>\n",
       "    .dataframe tbody tr th:only-of-type {\n",
       "        vertical-align: middle;\n",
       "    }\n",
       "\n",
       "    .dataframe tbody tr th {\n",
       "        vertical-align: top;\n",
       "    }\n",
       "\n",
       "    .dataframe thead th {\n",
       "        text-align: right;\n",
       "    }\n",
       "</style>\n",
       "<table border=\"1\" class=\"dataframe\">\n",
       "  <thead>\n",
       "    <tr style=\"text-align: right;\">\n",
       "      <th></th>\n",
       "      <th>index</th>\n",
       "      <th>date</th>\n",
       "      <th>min_temperature</th>\n",
       "      <th>max_temperature</th>\n",
       "      <th>solar_exposure</th>\n",
       "      <th>rainfall</th>\n",
       "      <th>day_of_week</th>\n",
       "      <th>day_of_month</th>\n",
       "      <th>day_of_year</th>\n",
       "      <th>week_of_year</th>\n",
       "      <th>month</th>\n",
       "      <th>quarter</th>\n",
       "      <th>year</th>\n",
       "    </tr>\n",
       "  </thead>\n",
       "  <tbody>\n",
       "    <tr>\n",
       "      <th>0</th>\n",
       "      <td>1886</td>\n",
       "      <td>1583020800000</td>\n",
       "      <td>13.2</td>\n",
       "      <td>32.1</td>\n",
       "      <td>20.8</td>\n",
       "      <td>0.0</td>\n",
       "      <td>6</td>\n",
       "      <td>1</td>\n",
       "      <td>61</td>\n",
       "      <td>9</td>\n",
       "      <td>3</td>\n",
       "      <td>1</td>\n",
       "      <td>2020</td>\n",
       "    </tr>\n",
       "    <tr>\n",
       "      <th>1</th>\n",
       "      <td>2039</td>\n",
       "      <td>1596240000000</td>\n",
       "      <td>5.7</td>\n",
       "      <td>16.4</td>\n",
       "      <td>11.1</td>\n",
       "      <td>0.0</td>\n",
       "      <td>5</td>\n",
       "      <td>1</td>\n",
       "      <td>214</td>\n",
       "      <td>31</td>\n",
       "      <td>8</td>\n",
       "      <td>3</td>\n",
       "      <td>2020</td>\n",
       "    </tr>\n",
       "    <tr>\n",
       "      <th>2</th>\n",
       "      <td>1347</td>\n",
       "      <td>1536451200000</td>\n",
       "      <td>8.6</td>\n",
       "      <td>18.1</td>\n",
       "      <td>7.3</td>\n",
       "      <td>0.0</td>\n",
       "      <td>6</td>\n",
       "      <td>9</td>\n",
       "      <td>252</td>\n",
       "      <td>36</td>\n",
       "      <td>9</td>\n",
       "      <td>3</td>\n",
       "      <td>2018</td>\n",
       "    </tr>\n",
       "    <tr>\n",
       "      <th>3</th>\n",
       "      <td>634</td>\n",
       "      <td>1474848000000</td>\n",
       "      <td>8.1</td>\n",
       "      <td>16.9</td>\n",
       "      <td>13.6</td>\n",
       "      <td>0.6</td>\n",
       "      <td>0</td>\n",
       "      <td>26</td>\n",
       "      <td>270</td>\n",
       "      <td>39</td>\n",
       "      <td>9</td>\n",
       "      <td>3</td>\n",
       "      <td>2016</td>\n",
       "    </tr>\n",
       "    <tr>\n",
       "      <th>4</th>\n",
       "      <td>8</td>\n",
       "      <td>1420761600000</td>\n",
       "      <td>16.5</td>\n",
       "      <td>18.0</td>\n",
       "      <td>3.1</td>\n",
       "      <td>1.2</td>\n",
       "      <td>4</td>\n",
       "      <td>9</td>\n",
       "      <td>9</td>\n",
       "      <td>2</td>\n",
       "      <td>1</td>\n",
       "      <td>1</td>\n",
       "      <td>2015</td>\n",
       "    </tr>\n",
       "  </tbody>\n",
       "</table>\n",
       "</div>"
      ],
      "text/plain": [
       "   index           date  min_temperature  max_temperature  solar_exposure  \\\n",
       "0   1886  1583020800000             13.2             32.1            20.8   \n",
       "1   2039  1596240000000              5.7             16.4            11.1   \n",
       "2   1347  1536451200000              8.6             18.1             7.3   \n",
       "3    634  1474848000000              8.1             16.9            13.6   \n",
       "4      8  1420761600000             16.5             18.0             3.1   \n",
       "\n",
       "   rainfall  day_of_week  day_of_month  day_of_year  week_of_year  month  \\\n",
       "0       0.0            6             1           61             9      3   \n",
       "1       0.0            5             1          214            31      8   \n",
       "2       0.0            6             9          252            36      9   \n",
       "3       0.6            0            26          270            39      9   \n",
       "4       1.2            4             9            9             2      1   \n",
       "\n",
       "   quarter  year  \n",
       "0        1  2020  \n",
       "1        3  2020  \n",
       "2        3  2018  \n",
       "3        3  2016  \n",
       "4        1  2015  "
      ]
     },
     "execution_count": 6,
     "metadata": {},
     "output_type": "execute_result"
    }
   ],
   "source": [
    "fg_weather.select_all().read().head()"
   ]
  },
  {
   "cell_type": "code",
   "execution_count": 7,
   "id": "11027b4e",
   "metadata": {},
   "outputs": [
    {
     "name": "stdout",
     "output_type": "stream",
     "text": [
      "2022-07-26 08:46:06,001 INFO: USE `electricity_demand_featurestore`\n",
      "2022-07-26 08:46:06,734 INFO: SELECT `fg0`.`date` `date`, `fg0`.`school_day` `school_day`, `fg0`.`holiday` `holiday`\n",
      "FROM `electricity_demand_featurestore`.`calendar_fg_1` `fg0`\n"
     ]
    },
    {
     "data": {
      "text/html": [
       "<div>\n",
       "<style scoped>\n",
       "    .dataframe tbody tr th:only-of-type {\n",
       "        vertical-align: middle;\n",
       "    }\n",
       "\n",
       "    .dataframe tbody tr th {\n",
       "        vertical-align: top;\n",
       "    }\n",
       "\n",
       "    .dataframe thead th {\n",
       "        text-align: right;\n",
       "    }\n",
       "</style>\n",
       "<table border=\"1\" class=\"dataframe\">\n",
       "  <thead>\n",
       "    <tr style=\"text-align: right;\">\n",
       "      <th></th>\n",
       "      <th>date</th>\n",
       "      <th>school_day</th>\n",
       "      <th>holiday</th>\n",
       "    </tr>\n",
       "  </thead>\n",
       "  <tbody>\n",
       "    <tr>\n",
       "      <th>0</th>\n",
       "      <td>1583020800000</td>\n",
       "      <td>1</td>\n",
       "      <td>0</td>\n",
       "    </tr>\n",
       "    <tr>\n",
       "      <th>1</th>\n",
       "      <td>1596240000000</td>\n",
       "      <td>1</td>\n",
       "      <td>0</td>\n",
       "    </tr>\n",
       "    <tr>\n",
       "      <th>2</th>\n",
       "      <td>1536451200000</td>\n",
       "      <td>1</td>\n",
       "      <td>0</td>\n",
       "    </tr>\n",
       "    <tr>\n",
       "      <th>3</th>\n",
       "      <td>1474848000000</td>\n",
       "      <td>0</td>\n",
       "      <td>0</td>\n",
       "    </tr>\n",
       "    <tr>\n",
       "      <th>4</th>\n",
       "      <td>1420761600000</td>\n",
       "      <td>0</td>\n",
       "      <td>0</td>\n",
       "    </tr>\n",
       "  </tbody>\n",
       "</table>\n",
       "</div>"
      ],
      "text/plain": [
       "            date  school_day  holiday\n",
       "0  1583020800000           1        0\n",
       "1  1596240000000           1        0\n",
       "2  1536451200000           1        0\n",
       "3  1474848000000           0        0\n",
       "4  1420761600000           0        0"
      ]
     },
     "execution_count": 7,
     "metadata": {},
     "output_type": "execute_result"
    }
   ],
   "source": [
    "fg_calendar.select_except(['index']).show(5)"
   ]
  },
  {
   "cell_type": "code",
   "execution_count": 8,
   "id": "6848f6c9",
   "metadata": {},
   "outputs": [
    {
     "name": "stdout",
     "output_type": "stream",
     "text": [
      "2022-07-26 08:46:08,333 INFO: USE `electricity_demand_featurestore`\n",
      "2022-07-26 08:46:09,096 INFO: SELECT `fg0`.`demand` `demand`\n",
      "FROM `electricity_demand_featurestore`.`electricity_fg_1` `fg0`\n"
     ]
    },
    {
     "data": {
      "text/html": [
       "<div>\n",
       "<style scoped>\n",
       "    .dataframe tbody tr th:only-of-type {\n",
       "        vertical-align: middle;\n",
       "    }\n",
       "\n",
       "    .dataframe tbody tr th {\n",
       "        vertical-align: top;\n",
       "    }\n",
       "\n",
       "    .dataframe thead th {\n",
       "        text-align: right;\n",
       "    }\n",
       "</style>\n",
       "<table border=\"1\" class=\"dataframe\">\n",
       "  <thead>\n",
       "    <tr style=\"text-align: right;\">\n",
       "      <th></th>\n",
       "      <th>demand</th>\n",
       "    </tr>\n",
       "  </thead>\n",
       "  <tbody>\n",
       "    <tr>\n",
       "      <th>0</th>\n",
       "      <td>101413.145</td>\n",
       "    </tr>\n",
       "    <tr>\n",
       "      <th>1</th>\n",
       "      <td>111590.650</td>\n",
       "    </tr>\n",
       "    <tr>\n",
       "      <th>2</th>\n",
       "      <td>107838.950</td>\n",
       "    </tr>\n",
       "    <tr>\n",
       "      <th>3</th>\n",
       "      <td>124343.190</td>\n",
       "    </tr>\n",
       "    <tr>\n",
       "      <th>4</th>\n",
       "      <td>135452.260</td>\n",
       "    </tr>\n",
       "  </tbody>\n",
       "</table>\n",
       "</div>"
      ],
      "text/plain": [
       "       demand\n",
       "0  101413.145\n",
       "1  111590.650\n",
       "2  107838.950\n",
       "3  124343.190\n",
       "4  135452.260"
      ]
     },
     "execution_count": 8,
     "metadata": {},
     "output_type": "execute_result"
    }
   ],
   "source": [
    "fg_electricity.select('demand').show(5)"
   ]
  },
  {
   "cell_type": "code",
   "execution_count": 9,
   "id": "49b6b1bc",
   "metadata": {},
   "outputs": [
    {
     "name": "stdout",
     "output_type": "stream",
     "text": [
      "2022-07-26 08:46:10,787 INFO: USE `electricity_demand_featurestore`\n",
      "2022-07-26 08:46:11,550 INFO: SELECT `fg0`.`index` `index`, `fg0`.`date` `date`, `fg0`.`rrp` `rrp`, `fg0`.`frac_at_neg_rrp` `frac_at_neg_rrp`, `fg0`.`demand` `demand`, `fg0`.`rrp_positive` `rrp_positive`, `fg0`.`demand_neg_rrp` `demand_neg_rrp`, `fg0`.`rrp_negative` `rrp_negative`, `fg0`.`demand_pos_rrp` `demand_pos_rrp`, `fg0`.`demand_7_mean` `demand_7_mean`, `fg0`.`demand_7_std` `demand_7_std`, `fg0`.`demand_14_mean` `demand_14_mean`, `fg0`.`demand_14_std` `demand_14_std`, `fg0`.`demand_30_mean` `demand_30_mean`, `fg0`.`demand_30_std` `demand_30_std`\n",
      "FROM `electricity_demand_featurestore`.`electricity_fg_1` `fg0`\n",
      "WHERE `fg0`.`demand` > 10000\n"
     ]
    },
    {
     "data": {
      "text/html": [
       "<div>\n",
       "<style scoped>\n",
       "    .dataframe tbody tr th:only-of-type {\n",
       "        vertical-align: middle;\n",
       "    }\n",
       "\n",
       "    .dataframe tbody tr th {\n",
       "        vertical-align: top;\n",
       "    }\n",
       "\n",
       "    .dataframe thead th {\n",
       "        text-align: right;\n",
       "    }\n",
       "</style>\n",
       "<table border=\"1\" class=\"dataframe\">\n",
       "  <thead>\n",
       "    <tr style=\"text-align: right;\">\n",
       "      <th></th>\n",
       "      <th>index</th>\n",
       "      <th>date</th>\n",
       "      <th>rrp</th>\n",
       "      <th>frac_at_neg_rrp</th>\n",
       "      <th>demand</th>\n",
       "      <th>rrp_positive</th>\n",
       "      <th>demand_neg_rrp</th>\n",
       "      <th>rrp_negative</th>\n",
       "      <th>demand_pos_rrp</th>\n",
       "      <th>demand_7_mean</th>\n",
       "      <th>demand_7_std</th>\n",
       "      <th>demand_14_mean</th>\n",
       "      <th>demand_14_std</th>\n",
       "      <th>demand_30_mean</th>\n",
       "      <th>demand_30_std</th>\n",
       "    </tr>\n",
       "  </thead>\n",
       "  <tbody>\n",
       "    <tr>\n",
       "      <th>0</th>\n",
       "      <td>1886</td>\n",
       "      <td>1583020800000</td>\n",
       "      <td>43.745921</td>\n",
       "      <td>0.000000</td>\n",
       "      <td>101413.145</td>\n",
       "      <td>43.745921</td>\n",
       "      <td>0.000</td>\n",
       "      <td>0.000000</td>\n",
       "      <td>101413.145</td>\n",
       "      <td>110717.865714</td>\n",
       "      <td>9220.740759</td>\n",
       "      <td>110795.223214</td>\n",
       "      <td>8592.274480</td>\n",
       "      <td>113918.470167</td>\n",
       "      <td>11661.928533</td>\n",
       "    </tr>\n",
       "    <tr>\n",
       "      <th>1</th>\n",
       "      <td>2039</td>\n",
       "      <td>1596240000000</td>\n",
       "      <td>47.915895</td>\n",
       "      <td>0.000000</td>\n",
       "      <td>111590.650</td>\n",
       "      <td>47.915895</td>\n",
       "      <td>0.000</td>\n",
       "      <td>0.000000</td>\n",
       "      <td>111590.650</td>\n",
       "      <td>127876.293571</td>\n",
       "      <td>7974.452809</td>\n",
       "      <td>130397.305714</td>\n",
       "      <td>8870.056804</td>\n",
       "      <td>131883.940500</td>\n",
       "      <td>8381.503670</td>\n",
       "    </tr>\n",
       "    <tr>\n",
       "      <th>2</th>\n",
       "      <td>1347</td>\n",
       "      <td>1536451200000</td>\n",
       "      <td>67.615591</td>\n",
       "      <td>0.104167</td>\n",
       "      <td>107838.950</td>\n",
       "      <td>77.332217</td>\n",
       "      <td>9927.775</td>\n",
       "      <td>-28.213155</td>\n",
       "      <td>97911.175</td>\n",
       "      <td>119398.098571</td>\n",
       "      <td>8876.580027</td>\n",
       "      <td>124830.694643</td>\n",
       "      <td>10492.613383</td>\n",
       "      <td>125011.080833</td>\n",
       "      <td>9375.466267</td>\n",
       "    </tr>\n",
       "    <tr>\n",
       "      <th>3</th>\n",
       "      <td>634</td>\n",
       "      <td>1474848000000</td>\n",
       "      <td>47.671470</td>\n",
       "      <td>0.000000</td>\n",
       "      <td>124343.190</td>\n",
       "      <td>47.671470</td>\n",
       "      <td>0.000</td>\n",
       "      <td>0.000000</td>\n",
       "      <td>124343.190</td>\n",
       "      <td>120814.523571</td>\n",
       "      <td>10247.936071</td>\n",
       "      <td>122961.179286</td>\n",
       "      <td>10768.576673</td>\n",
       "      <td>123261.361000</td>\n",
       "      <td>9562.472546</td>\n",
       "    </tr>\n",
       "    <tr>\n",
       "      <th>4</th>\n",
       "      <td>1435</td>\n",
       "      <td>1544054400000</td>\n",
       "      <td>125.308108</td>\n",
       "      <td>0.000000</td>\n",
       "      <td>135452.260</td>\n",
       "      <td>125.308108</td>\n",
       "      <td>0.000</td>\n",
       "      <td>0.000000</td>\n",
       "      <td>135452.260</td>\n",
       "      <td>109817.412143</td>\n",
       "      <td>14171.194821</td>\n",
       "      <td>108530.186071</td>\n",
       "      <td>10633.545758</td>\n",
       "      <td>107938.950000</td>\n",
       "      <td>9656.161129</td>\n",
       "    </tr>\n",
       "  </tbody>\n",
       "</table>\n",
       "</div>"
      ],
      "text/plain": [
       "   index           date         rrp  frac_at_neg_rrp      demand  \\\n",
       "0   1886  1583020800000   43.745921         0.000000  101413.145   \n",
       "1   2039  1596240000000   47.915895         0.000000  111590.650   \n",
       "2   1347  1536451200000   67.615591         0.104167  107838.950   \n",
       "3    634  1474848000000   47.671470         0.000000  124343.190   \n",
       "4   1435  1544054400000  125.308108         0.000000  135452.260   \n",
       "\n",
       "   rrp_positive  demand_neg_rrp  rrp_negative  demand_pos_rrp  demand_7_mean  \\\n",
       "0     43.745921           0.000      0.000000      101413.145  110717.865714   \n",
       "1     47.915895           0.000      0.000000      111590.650  127876.293571   \n",
       "2     77.332217        9927.775    -28.213155       97911.175  119398.098571   \n",
       "3     47.671470           0.000      0.000000      124343.190  120814.523571   \n",
       "4    125.308108           0.000      0.000000      135452.260  109817.412143   \n",
       "\n",
       "   demand_7_std  demand_14_mean  demand_14_std  demand_30_mean  demand_30_std  \n",
       "0   9220.740759   110795.223214    8592.274480   113918.470167   11661.928533  \n",
       "1   7974.452809   130397.305714    8870.056804   131883.940500    8381.503670  \n",
       "2   8876.580027   124830.694643   10492.613383   125011.080833    9375.466267  \n",
       "3  10247.936071   122961.179286   10768.576673   123261.361000    9562.472546  \n",
       "4  14171.194821   108530.186071   10633.545758   107938.950000    9656.161129  "
      ]
     },
     "execution_count": 9,
     "metadata": {},
     "output_type": "execute_result"
    }
   ],
   "source": [
    "fg_electricity.filter(fg_electricity.demand > 10000).show(5)"
   ]
  },
  {
   "cell_type": "markdown",
   "id": "d8798c1b",
   "metadata": {},
   "source": [
    "---\n",
    "\n",
    "# <span style=\"color:#ff5f27;\">🧑🏻‍🔬 Transformation functions</span>"
   ]
  },
  {
   "cell_type": "markdown",
   "id": "9449be17",
   "metadata": {},
   "source": [
    "Hopsworks Feature Store provides functionality to attach transformation functions to training datasets.\n",
    "\n",
    "Hopsworks Feature Store also comes with built-in transformation functions such as `min_max_scaler`, `standard_scaler`, `robust_scaler` and `label_encoder`."
   ]
  },
  {
   "cell_type": "code",
   "execution_count": 10,
   "id": "1e613929",
   "metadata": {},
   "outputs": [
    {
     "data": {
      "text/plain": [
       "['min_max_scaler', 'robust_scaler', 'label_encoder', 'standard_scaler']"
      ]
     },
     "execution_count": 10,
     "metadata": {},
     "output_type": "execute_result"
    }
   ],
   "source": [
    "[t_func.name for t_func in fs.get_transformation_functions()]"
   ]
  },
  {
   "cell_type": "markdown",
   "id": "27332fb2",
   "metadata": {},
   "source": [
    "We can retrieve transformation function we need .\n",
    "\n",
    "To attach transformation function to training dataset provide transformation functions as dict, where key is feature name and value is online transformation function name.\n",
    "\n",
    "Also training dataset must be created from the Query object. Once attached transformation function will be applied on whenever save, insert and get_serving_vector methods are called on training dataset object."
   ]
  },
  {
   "cell_type": "code",
   "execution_count": 11,
   "id": "d60317ef",
   "metadata": {},
   "outputs": [],
   "source": [
    "# Load transformation functions.\n",
    "standard_scaler = fs.get_transformation_function(name = 'standard_scaler')\n",
    "label_encoder = fs.get_transformation_function(name = 'label_encoder')\n",
    "\n",
    "#Map features to transformations.\n",
    "mapping_transformers = {\n",
    "    \"rrp_positive\": standard_scaler,\n",
    "    \"rrp_negative\": standard_scaler,\n",
    "    \"school_day\": label_encoder,\n",
    "    \"holiday\": label_encoder\n",
    "}"
   ]
  },
  {
   "cell_type": "markdown",
   "id": "58e82f19",
   "metadata": {},
   "source": [
    "---\n",
    "\n",
    "## <span style=\"color:#ff5f27;\">💼 Query Preparation</span>"
   ]
  },
  {
   "cell_type": "code",
   "execution_count": 12,
   "id": "c0a6cc61",
   "metadata": {},
   "outputs": [
    {
     "name": "stdout",
     "output_type": "stream",
     "text": [
      "2022-07-26 08:46:15,248 INFO: USE `electricity_demand_featurestore`\n",
      "2022-07-26 08:46:15,947 INFO: WITH right_fg0 AS (SELECT *\n",
      "FROM (SELECT `fg2`.`index` `index`, `fg2`.`date` `date`, `fg2`.`min_temperature` `min_temperature`, `fg2`.`max_temperature` `max_temperature`, `fg2`.`solar_exposure` `solar_exposure`, `fg2`.`rainfall` `rainfall`, `fg2`.`day_of_week` `day_of_week`, `fg2`.`day_of_month` `day_of_month`, `fg2`.`day_of_year` `day_of_year`, `fg2`.`week_of_year` `week_of_year`, `fg2`.`month` `month`, `fg2`.`quarter` `quarter`, `fg2`.`year` `year`, `fg2`.`index` `join_pk_index`, `fg2`.`date` `join_evt_date`, `fg0`.`school_day` `school_day`, `fg0`.`holiday` `holiday`, RANK() OVER (PARTITION BY `fg2`.`index`, `fg2`.`date`, `fg2`.`date` ORDER BY `fg0`.`date` DESC) pit_rank_hopsworks\n",
      "FROM `electricity_demand_featurestore`.`weather_fg_1` `fg2`\n",
      "INNER JOIN `electricity_demand_featurestore`.`calendar_fg_1` `fg0` ON `fg2`.`index` = `fg0`.`index` AND `fg2`.`date` = `fg0`.`date` AND `fg2`.`date` >= `fg0`.`date`) NA\n",
      "WHERE `pit_rank_hopsworks` = 1), right_fg1 AS (SELECT *\n",
      "FROM (SELECT `fg2`.`index` `index`, `fg2`.`date` `date`, `fg2`.`min_temperature` `min_temperature`, `fg2`.`max_temperature` `max_temperature`, `fg2`.`solar_exposure` `solar_exposure`, `fg2`.`rainfall` `rainfall`, `fg2`.`day_of_week` `day_of_week`, `fg2`.`day_of_month` `day_of_month`, `fg2`.`day_of_year` `day_of_year`, `fg2`.`week_of_year` `week_of_year`, `fg2`.`month` `month`, `fg2`.`quarter` `quarter`, `fg2`.`year` `year`, `fg2`.`index` `join_pk_index`, `fg2`.`date` `join_evt_date`, `fg1`.`rrp` `rrp`, `fg1`.`frac_at_neg_rrp` `frac_at_neg_rrp`, `fg1`.`demand` `demand`, `fg1`.`rrp_positive` `rrp_positive`, `fg1`.`demand_neg_rrp` `demand_neg_rrp`, `fg1`.`rrp_negative` `rrp_negative`, `fg1`.`demand_pos_rrp` `demand_pos_rrp`, `fg1`.`demand_7_mean` `demand_7_mean`, `fg1`.`demand_7_std` `demand_7_std`, `fg1`.`demand_14_mean` `demand_14_mean`, `fg1`.`demand_14_std` `demand_14_std`, `fg1`.`demand_30_mean` `demand_30_mean`, `fg1`.`demand_30_std` `demand_30_std`, RANK() OVER (PARTITION BY `fg2`.`index`, `fg2`.`date`, `fg2`.`date` ORDER BY `fg1`.`date` DESC) pit_rank_hopsworks\n",
      "FROM `electricity_demand_featurestore`.`weather_fg_1` `fg2`\n",
      "INNER JOIN `electricity_demand_featurestore`.`electricity_fg_1` `fg1` ON `fg2`.`index` = `fg1`.`index` AND `fg2`.`date` = `fg1`.`date` AND `fg2`.`date` >= `fg1`.`date`) NA\n",
      "WHERE `pit_rank_hopsworks` = 1) (SELECT `right_fg0`.`index` `index`, `right_fg0`.`date` `date`, `right_fg0`.`min_temperature` `min_temperature`, `right_fg0`.`max_temperature` `max_temperature`, `right_fg0`.`solar_exposure` `solar_exposure`, `right_fg0`.`rainfall` `rainfall`, `right_fg0`.`day_of_week` `day_of_week`, `right_fg0`.`day_of_month` `day_of_month`, `right_fg0`.`day_of_year` `day_of_year`, `right_fg0`.`week_of_year` `week_of_year`, `right_fg0`.`month` `month`, `right_fg0`.`quarter` `quarter`, `right_fg0`.`year` `year`, `right_fg0`.`school_day` `school_day`, `right_fg0`.`holiday` `holiday`, `right_fg1`.`rrp` `rrp`, `right_fg1`.`frac_at_neg_rrp` `frac_at_neg_rrp`, `right_fg1`.`demand` `demand`, `right_fg1`.`rrp_positive` `rrp_positive`, `right_fg1`.`demand_neg_rrp` `demand_neg_rrp`, `right_fg1`.`rrp_negative` `rrp_negative`, `right_fg1`.`demand_pos_rrp` `demand_pos_rrp`, `right_fg1`.`demand_7_mean` `demand_7_mean`, `right_fg1`.`demand_7_std` `demand_7_std`, `right_fg1`.`demand_14_mean` `demand_14_mean`, `right_fg1`.`demand_14_std` `demand_14_std`, `right_fg1`.`demand_30_mean` `demand_30_mean`, `right_fg1`.`demand_30_std` `demand_30_std`\n",
      "FROM right_fg0\n",
      "INNER JOIN right_fg1 ON `right_fg0`.`join_pk_index` = `right_fg1`.`join_pk_index` AND `right_fg0`.`join_evt_date` = `right_fg1`.`join_evt_date`)\n"
     ]
    },
    {
     "data": {
      "text/html": [
       "<div>\n",
       "<style scoped>\n",
       "    .dataframe tbody tr th:only-of-type {\n",
       "        vertical-align: middle;\n",
       "    }\n",
       "\n",
       "    .dataframe tbody tr th {\n",
       "        vertical-align: top;\n",
       "    }\n",
       "\n",
       "    .dataframe thead th {\n",
       "        text-align: right;\n",
       "    }\n",
       "</style>\n",
       "<table border=\"1\" class=\"dataframe\">\n",
       "  <thead>\n",
       "    <tr style=\"text-align: right;\">\n",
       "      <th></th>\n",
       "      <th>index</th>\n",
       "      <th>date</th>\n",
       "      <th>min_temperature</th>\n",
       "      <th>max_temperature</th>\n",
       "      <th>solar_exposure</th>\n",
       "      <th>rainfall</th>\n",
       "      <th>day_of_week</th>\n",
       "      <th>day_of_month</th>\n",
       "      <th>day_of_year</th>\n",
       "      <th>week_of_year</th>\n",
       "      <th>...</th>\n",
       "      <th>rrp_positive</th>\n",
       "      <th>demand_neg_rrp</th>\n",
       "      <th>rrp_negative</th>\n",
       "      <th>demand_pos_rrp</th>\n",
       "      <th>demand_7_mean</th>\n",
       "      <th>demand_7_std</th>\n",
       "      <th>demand_14_mean</th>\n",
       "      <th>demand_14_std</th>\n",
       "      <th>demand_30_mean</th>\n",
       "      <th>demand_30_std</th>\n",
       "    </tr>\n",
       "  </thead>\n",
       "  <tbody>\n",
       "    <tr>\n",
       "      <th>0</th>\n",
       "      <td>33</td>\n",
       "      <td>1422921600000</td>\n",
       "      <td>16.1</td>\n",
       "      <td>20.0</td>\n",
       "      <td>22.7</td>\n",
       "      <td>0.0</td>\n",
       "      <td>1</td>\n",
       "      <td>3</td>\n",
       "      <td>34</td>\n",
       "      <td>6</td>\n",
       "      <td>...</td>\n",
       "      <td>27.003832</td>\n",
       "      <td>0.00</td>\n",
       "      <td>0.00</td>\n",
       "      <td>122880.130</td>\n",
       "      <td>114667.386429</td>\n",
       "      <td>8920.937447</td>\n",
       "      <td>119938.167857</td>\n",
       "      <td>16864.969397</td>\n",
       "      <td>120125.450167</td>\n",
       "      <td>15880.221937</td>\n",
       "    </tr>\n",
       "    <tr>\n",
       "      <th>1</th>\n",
       "      <td>34</td>\n",
       "      <td>1423008000000</td>\n",
       "      <td>14.8</td>\n",
       "      <td>19.0</td>\n",
       "      <td>21.2</td>\n",
       "      <td>0.0</td>\n",
       "      <td>2</td>\n",
       "      <td>4</td>\n",
       "      <td>35</td>\n",
       "      <td>6</td>\n",
       "      <td>...</td>\n",
       "      <td>27.809134</td>\n",
       "      <td>0.00</td>\n",
       "      <td>0.00</td>\n",
       "      <td>117398.030</td>\n",
       "      <td>114758.001429</td>\n",
       "      <td>8948.957583</td>\n",
       "      <td>117702.133929</td>\n",
       "      <td>14693.328802</td>\n",
       "      <td>120100.977833</td>\n",
       "      <td>15883.964829</td>\n",
       "    </tr>\n",
       "    <tr>\n",
       "      <th>2</th>\n",
       "      <td>43</td>\n",
       "      <td>1423785600000</td>\n",
       "      <td>16.1</td>\n",
       "      <td>32.4</td>\n",
       "      <td>14.9</td>\n",
       "      <td>0.0</td>\n",
       "      <td>4</td>\n",
       "      <td>13</td>\n",
       "      <td>44</td>\n",
       "      <td>7</td>\n",
       "      <td>...</td>\n",
       "      <td>26.322857</td>\n",
       "      <td>2992.08</td>\n",
       "      <td>-318.66</td>\n",
       "      <td>133078.540</td>\n",
       "      <td>133396.924286</td>\n",
       "      <td>12386.475233</td>\n",
       "      <td>125776.359286</td>\n",
       "      <td>14840.586153</td>\n",
       "      <td>122416.020000</td>\n",
       "      <td>15771.398868</td>\n",
       "    </tr>\n",
       "    <tr>\n",
       "      <th>3</th>\n",
       "      <td>47</td>\n",
       "      <td>1424131200000</td>\n",
       "      <td>17.6</td>\n",
       "      <td>20.6</td>\n",
       "      <td>8.3</td>\n",
       "      <td>0.0</td>\n",
       "      <td>1</td>\n",
       "      <td>17</td>\n",
       "      <td>48</td>\n",
       "      <td>8</td>\n",
       "      <td>...</td>\n",
       "      <td>30.250149</td>\n",
       "      <td>0.00</td>\n",
       "      <td>0.00</td>\n",
       "      <td>127666.010</td>\n",
       "      <td>131606.946429</td>\n",
       "      <td>9410.194936</td>\n",
       "      <td>129983.664643</td>\n",
       "      <td>10731.392554</td>\n",
       "      <td>124825.231000</td>\n",
       "      <td>14362.078276</td>\n",
       "    </tr>\n",
       "    <tr>\n",
       "      <th>4</th>\n",
       "      <td>50</td>\n",
       "      <td>1424390400000</td>\n",
       "      <td>17.4</td>\n",
       "      <td>25.3</td>\n",
       "      <td>24.7</td>\n",
       "      <td>0.0</td>\n",
       "      <td>4</td>\n",
       "      <td>20</td>\n",
       "      <td>51</td>\n",
       "      <td>8</td>\n",
       "      <td>...</td>\n",
       "      <td>33.538672</td>\n",
       "      <td>0.00</td>\n",
       "      <td>0.00</td>\n",
       "      <td>139465.675</td>\n",
       "      <td>129902.357857</td>\n",
       "      <td>7431.589408</td>\n",
       "      <td>131649.641071</td>\n",
       "      <td>9979.447032</td>\n",
       "      <td>125168.042667</td>\n",
       "      <td>14088.383256</td>\n",
       "    </tr>\n",
       "  </tbody>\n",
       "</table>\n",
       "<p>5 rows × 28 columns</p>\n",
       "</div>"
      ],
      "text/plain": [
       "   index           date  min_temperature  max_temperature  solar_exposure  \\\n",
       "0     33  1422921600000             16.1             20.0            22.7   \n",
       "1     34  1423008000000             14.8             19.0            21.2   \n",
       "2     43  1423785600000             16.1             32.4            14.9   \n",
       "3     47  1424131200000             17.6             20.6             8.3   \n",
       "4     50  1424390400000             17.4             25.3            24.7   \n",
       "\n",
       "   rainfall  day_of_week  day_of_month  day_of_year  week_of_year  ...  \\\n",
       "0       0.0            1             3           34             6  ...   \n",
       "1       0.0            2             4           35             6  ...   \n",
       "2       0.0            4            13           44             7  ...   \n",
       "3       0.0            1            17           48             8  ...   \n",
       "4       0.0            4            20           51             8  ...   \n",
       "\n",
       "   rrp_positive  demand_neg_rrp  rrp_negative  demand_pos_rrp  demand_7_mean  \\\n",
       "0     27.003832            0.00          0.00      122880.130  114667.386429   \n",
       "1     27.809134            0.00          0.00      117398.030  114758.001429   \n",
       "2     26.322857         2992.08       -318.66      133078.540  133396.924286   \n",
       "3     30.250149            0.00          0.00      127666.010  131606.946429   \n",
       "4     33.538672            0.00          0.00      139465.675  129902.357857   \n",
       "\n",
       "   demand_7_std  demand_14_mean  demand_14_std  demand_30_mean  demand_30_std  \n",
       "0   8920.937447   119938.167857   16864.969397   120125.450167   15880.221937  \n",
       "1   8948.957583   117702.133929   14693.328802   120100.977833   15883.964829  \n",
       "2  12386.475233   125776.359286   14840.586153   122416.020000   15771.398868  \n",
       "3   9410.194936   129983.664643   10731.392554   124825.231000   14362.078276  \n",
       "4   7431.589408   131649.641071    9979.447032   125168.042667   14088.383256  \n",
       "\n",
       "[5 rows x 28 columns]"
      ]
     },
     "execution_count": 12,
     "metadata": {},
     "output_type": "execute_result"
    }
   ],
   "source": [
    "fg_query = fg_weather.select_all()\\\n",
    "                        .join(\n",
    "                            fg_calendar.select_all(),\n",
    "                            on = ['index','date']\n",
    "                        )\\\n",
    "                        .join(\n",
    "                            fg_electricity.select_all(),\n",
    "                            on = ['index','date']\n",
    "                        )\n",
    "fg_query.show(5)"
   ]
  },
  {
   "cell_type": "markdown",
   "id": "ccd4587e",
   "metadata": {},
   "source": [
    "---\n",
    "\n",
    "## <span style=\"color:#ff5f27;\"> ⚙️ Feature View Creation </span>\n",
    "\n",
    "`Feature Views` stands between **Feature Groups** and **Training Dataset**. Сombining **Feature Groups** we can create **Feature Views** which store a metadata of our data. Having **Feature Views** we can create **Training Dataset**.\n",
    "\n",
    "The Feature Views allows schema in form of a query with filters, define a model target feature/label and additional transformation functions.\n",
    "\n",
    "In order to create Feature View we can use `FeatureStore.create_feature_view()` method.\n",
    "\n",
    "We can specify next parameters:\n",
    "\n",
    "- `name` - name of a feature group.\n",
    "\n",
    "- `version` - version of a feature group.\n",
    "\n",
    "- `labels`- our target variable.\n",
    "\n",
    "- `transformation_functions` - functions to transform our features.\n",
    "\n",
    "- `query` - query object with data."
   ]
  },
  {
   "cell_type": "code",
   "execution_count": 13,
   "id": "44818a83",
   "metadata": {},
   "outputs": [
    {
     "name": "stdout",
     "output_type": "stream",
     "text": [
      "Feature view created successfully, explore it at \n",
      "https://0f060790-06a4-11ed-8aed-d1422d4ec537.cloud.hopsworks.ai/p/2168/fs/2116/fv/electricity_feature_view/version/1\n"
     ]
    }
   ],
   "source": [
    "feature_view = fs.create_feature_view(\n",
    "    name = 'electricity_feature_view',\n",
    "    version = 1,\n",
    "    labels = ['demand'],\n",
    "    query = fg_query\n",
    ")"
   ]
  },
  {
   "cell_type": "code",
   "execution_count": 14,
   "id": "c10a6df5",
   "metadata": {},
   "outputs": [
    {
     "data": {
      "text/plain": [
       "<hsfs.feature_view.FeatureView at 0x7f75bdc78370>"
      ]
     },
     "execution_count": 14,
     "metadata": {},
     "output_type": "execute_result"
    }
   ],
   "source": [
    "feature_view"
   ]
  },
  {
   "cell_type": "markdown",
   "id": "12a925d6",
   "metadata": {},
   "source": [
    "For now `Feature View` is saved in Hopsworks and we can retrieve it using `FeatureStore.get_feature_view()`."
   ]
  },
  {
   "cell_type": "code",
   "execution_count": 15,
   "id": "4eec790a",
   "metadata": {},
   "outputs": [],
   "source": [
    "feature_view = fs.get_feature_view(\n",
    "    name = 'electricity_feature_view',\n",
    "    version = 1\n",
    ")"
   ]
  },
  {
   "cell_type": "code",
   "execution_count": 16,
   "id": "f5d4f3f4",
   "metadata": {},
   "outputs": [
    {
     "data": {
      "text/plain": [
       "1"
      ]
     },
     "execution_count": 16,
     "metadata": {},
     "output_type": "execute_result"
    }
   ],
   "source": [
    "feature_view.version"
   ]
  },
  {
   "cell_type": "markdown",
   "id": "04ad5af4",
   "metadata": {},
   "source": [
    "---\n",
    "\n",
    "## <span style=\"color:#ff5f27;\"> 🏋️ Training Dataset Creation</span>\n",
    "\n",
    "In Hopsworks training data is a query where the projection (set of features) is determined by the parent FeatureView with an optional snapshot on disk of the data returned by the query.\n",
    "\n",
    "**Training Dataset  may contain splits such as:** \n",
    "* Training set - the subset of training data used to train a model.\n",
    "* Validation set - the subset of training data used to evaluate hparams when training a model\n",
    "* Test set - the holdout subset of training data used to evaluate a mode\n",
    "\n",
    "To create training dataset we use `FeatureView.create_training_data()` method.\n",
    "\n",
    "Here are some importand things:\n",
    "\n",
    "- It will inherit the name of FeatureView.\n",
    "\n",
    "- The feature store currently supports the following data formats for\n",
    "training datasets: **tfrecord, csv, tsv, parquet, avro, orc**.\n",
    "\n",
    "- We can choose necessary format using **data_format** parameter.\n",
    "\n",
    "- **start_time** and **end_time** in order to filter dataset in specific time range."
   ]
  },
  {
   "cell_type": "markdown",
   "id": "50e807ce",
   "metadata": {},
   "source": [
    "#### <span style=\"color:#ff5f27;\"> ⛳️ Simple Training Dataset</span>"
   ]
  },
  {
   "cell_type": "code",
   "execution_count": 17,
   "id": "8112081a",
   "metadata": {},
   "outputs": [
    {
     "name": "stdout",
     "output_type": "stream",
     "text": [
      "Training dataset job started successfully, you can follow the progress at \n",
      "https://0f060790-06a4-11ed-8aed-d1422d4ec537.cloud.hopsworks.ai/p/2168/jobs/named/electricity_feature_view_1_1_create_fv_td_26072022084643/executions\n"
     ]
    },
    {
     "name": "stderr",
     "output_type": "stream",
     "text": [
      "VersionWarning: Incremented version to `1`.\n"
     ]
    },
    {
     "data": {
      "text/plain": [
       "(1, <hsfs.core.job.Job at 0x7f75bda29d90>)"
      ]
     },
     "execution_count": 17,
     "metadata": {},
     "output_type": "execute_result"
    }
   ],
   "source": [
    "feature_view.create_training_data(\n",
    "    description = 'training_dataset',\n",
    "    data_format = 'csv'\n",
    ")"
   ]
  },
  {
   "cell_type": "markdown",
   "id": "c2704805",
   "metadata": {},
   "source": [
    "- We can create **train, test** splits using `create_train_test_split()`. \n",
    "\n",
    "- We can create **train,validation, test** splits using `create_train_validation_test_splits()` methods.\n",
    "\n",
    "- The only thing is that we should specify desired ratio of splits."
   ]
  },
  {
   "cell_type": "markdown",
   "id": "9ba49c1a",
   "metadata": {},
   "source": [
    "#### <span style=\"color:#ff5f27;\"> ⛳️ Dataset with train and test splits</span>"
   ]
  },
  {
   "cell_type": "code",
   "execution_count": 18,
   "id": "0a336c95",
   "metadata": {},
   "outputs": [
    {
     "name": "stdout",
     "output_type": "stream",
     "text": [
      "Training dataset job started successfully, you can follow the progress at \n",
      "https://0f060790-06a4-11ed-8aed-d1422d4ec537.cloud.hopsworks.ai/p/2168/jobs/named/electricity_feature_view_1_2_create_fv_td_26072022084933/executions\n"
     ]
    },
    {
     "name": "stderr",
     "output_type": "stream",
     "text": [
      "VersionWarning: Incremented version to `2`.\n"
     ]
    },
    {
     "data": {
      "text/plain": [
       "(2, <hsfs.core.job.Job at 0x7f75bdb70fd0>)"
      ]
     },
     "execution_count": 18,
     "metadata": {},
     "output_type": "execute_result"
    }
   ],
   "source": [
    "feature_view.create_train_test_split(\n",
    "    test_size = 0.2\n",
    ")"
   ]
  },
  {
   "cell_type": "markdown",
   "id": "b89f24be",
   "metadata": {},
   "source": [
    "#### <span style=\"color:#ff5f27;\"> ⛳️ Dataset with train, validation and test splits</span>"
   ]
  },
  {
   "cell_type": "code",
   "execution_count": null,
   "id": "961f40f0",
   "metadata": {},
   "outputs": [],
   "source": [
    "feature_view.create_train_validation_test_split(\n",
    "    validation_size = 0.2,\n",
    "    test_size = 0.1\n",
    ")"
   ]
  },
  {
   "cell_type": "markdown",
   "id": "5fa6c1e2",
   "metadata": {},
   "source": [
    "---\n",
    "\n",
    "## <span style=\"color:#ff5f27;\"> 🪝 Retrieving Datasets </span>"
   ]
  },
  {
   "cell_type": "markdown",
   "id": "fb77fb51",
   "metadata": {},
   "source": [
    "#### <span style=\"color:#ff5f27;\"> ⛳️ Simple Training Dataset</span>"
   ]
  },
  {
   "cell_type": "code",
   "execution_count": null,
   "id": "b4dde6b9",
   "metadata": {},
   "outputs": [],
   "source": [
    "X_train, y_train = feature_view.get_training_data(\n",
    "    training_dataset_version = 1\n",
    ")"
   ]
  },
  {
   "cell_type": "code",
   "execution_count": null,
   "id": "8c6fe5bd",
   "metadata": {},
   "outputs": [],
   "source": [
    "X_train.head()"
   ]
  },
  {
   "cell_type": "code",
   "execution_count": null,
   "id": "3f980a04",
   "metadata": {},
   "outputs": [],
   "source": [
    "y_train.head()"
   ]
  },
  {
   "cell_type": "code",
   "execution_count": null,
   "id": "be9a4e38",
   "metadata": {},
   "outputs": [],
   "source": [
    "X_train.shape"
   ]
  },
  {
   "cell_type": "markdown",
   "id": "12e8ed4e",
   "metadata": {},
   "source": [
    "#### <span style=\"color:#ff5f27;\"> ⛳️ Dataset with train and test splits</span>"
   ]
  },
  {
   "cell_type": "code",
   "execution_count": null,
   "id": "53070659",
   "metadata": {},
   "outputs": [],
   "source": [
    "X_train, y_train, X_test, y_test = feature_view.get_train_test_split(\n",
    "    training_dataset_version = 2\n",
    ")"
   ]
  },
  {
   "cell_type": "code",
   "execution_count": null,
   "id": "b65241eb",
   "metadata": {},
   "outputs": [],
   "source": [
    "X_train.head()"
   ]
  },
  {
   "cell_type": "code",
   "execution_count": null,
   "id": "cf43982b",
   "metadata": {},
   "outputs": [],
   "source": [
    "X_train.shape"
   ]
  },
  {
   "cell_type": "code",
   "execution_count": null,
   "id": "f307018d",
   "metadata": {},
   "outputs": [],
   "source": [
    "X_test.shape"
   ]
  },
  {
   "cell_type": "markdown",
   "id": "bc264dfd",
   "metadata": {},
   "source": [
    "#### <span style=\"color:#ff5f27;\"> ⛳️ Dataset with train, validation and test splits</span>"
   ]
  },
  {
   "cell_type": "code",
   "execution_count": null,
   "id": "a0ece358",
   "metadata": {},
   "outputs": [],
   "source": [
    "X_train, y_train, X_val, y_val, X_test, y_test = feature_view.get_train_validation_test_split(\n",
    "    training_dataset_version = 3\n",
    ")"
   ]
  },
  {
   "cell_type": "code",
   "execution_count": null,
   "id": "e710bb8c",
   "metadata": {},
   "outputs": [],
   "source": [
    "X_train.head()"
   ]
  },
  {
   "cell_type": "markdown",
   "id": "aacc4f86",
   "metadata": {},
   "source": [
    "---"
   ]
  },
  {
   "cell_type": "markdown",
   "id": "4d762320",
   "metadata": {},
   "source": [
    "## <span style=\"color:#ff5f27;\"> 🔮 Creating Training Datasets with Event Time filter</span>\n",
    "\n",
    "First of all lets import **datetime** from datetime library and set up a time format.\n",
    "\n",
    "Then we can define start_time point and end_time point.\n",
    "\n",
    "Finally we can create training dataset with data in specific time bourders. \n"
   ]
  },
  {
   "cell_type": "code",
   "execution_count": null,
   "id": "9b04eb17",
   "metadata": {},
   "outputs": [],
   "source": [
    "from datetime import datetime\n",
    "\n",
    "def from_unix_to_datetime(unix):\n",
    "    return datetime.utcfromtimestamp(unix).strftime('%Y-%m-%d %H:%M:%S')"
   ]
  },
  {
   "cell_type": "code",
   "execution_count": null,
   "id": "5adc82c5",
   "metadata": {},
   "outputs": [],
   "source": [
    "date_format = '%Y-%m-%d %H:%M:%S'\n",
    "\n",
    "start_time_train = int(float(datetime.strptime('2017-01-01 00:00:01',date_format).timestamp()) * 1000)\n",
    "end_time_train = int(float(datetime.strptime('2018-02-01 23:59:59',date_format).timestamp()) * 1000)\n",
    "\n",
    "start_time_test = int(float(datetime.strptime('2018-02-02 23:59:59',date_format).timestamp()) * 1000)\n",
    "end_time_test = int(float(datetime.strptime('2019-02-01 23:59:59',date_format).timestamp()) * 1000)"
   ]
  },
  {
   "cell_type": "markdown",
   "id": "473c2178",
   "metadata": {},
   "source": [
    "#### <span style=\"color:#ff5f27;\"> ⛳️ Simple Training Dataset with event time</span>"
   ]
  },
  {
   "cell_type": "code",
   "execution_count": null,
   "id": "4339fa05",
   "metadata": {},
   "outputs": [],
   "source": [
    "feature_view.create_training_data(\n",
    "    description = 'data_2017_2018',\n",
    "    data_format = 'csv',\n",
    "    start_time = start_time_train,\n",
    "    end_time = end_time_train\n",
    ")"
   ]
  },
  {
   "cell_type": "code",
   "execution_count": null,
   "id": "75aa98ca",
   "metadata": {},
   "outputs": [],
   "source": [
    "X_train_lim, y_train_lim = feature_view.get_training_data(\n",
    "    training_dataset_version = 4\n",
    ")"
   ]
  },
  {
   "cell_type": "code",
   "execution_count": null,
   "id": "6d85d401",
   "metadata": {},
   "outputs": [],
   "source": [
    "(X_train_lim.date.agg({'min','max'}) / 1000).apply(lambda x: from_unix_to_datetime(x))"
   ]
  },
  {
   "cell_type": "markdown",
   "id": "ad9eb21c",
   "metadata": {},
   "source": [
    "#### <span style=\"color:#ff5f27;\"> ⛳️ Training Dataset with train and test splits with event time</span>"
   ]
  },
  {
   "cell_type": "code",
   "execution_count": null,
   "id": "cf8ec73d",
   "metadata": {},
   "outputs": [],
   "source": [
    "# feature_view.create_train_test_split(\n",
    "#     test_size = 0.2,\n",
    "#     train_start = start_time_train,\n",
    "#     train_end = end_time_train,\n",
    "#     test_start = start_time_test,\n",
    "#     test_end = end_time_test\n",
    "# )"
   ]
  },
  {
   "cell_type": "markdown",
   "id": "4765bdcc",
   "metadata": {},
   "source": [
    "---"
   ]
  },
  {
   "cell_type": "markdown",
   "id": "5cbc04d6",
   "metadata": {},
   "source": [
    "### <span style=\"color:#ff5f27;\"> Next Steps</span>\n",
    "\n",
    "In the next notebook, we will train a model on the Training Dataset we created in this notebook."
   ]
  }
 ],
 "metadata": {
  "kernelspec": {
   "display_name": "Python",
   "language": "python",
   "name": "python3"
  },
  "language_info": {
   "codemirror_mode": {
    "name": "ipython",
    "version": 3
   },
   "file_extension": ".py",
   "mimetype": "text/x-python",
   "name": "python",
   "nbconvert_exporter": "python",
   "pygments_lexer": "ipython3",
   "version": "3.8.11"
  }
 },
 "nbformat": 4,
 "nbformat_minor": 5
}