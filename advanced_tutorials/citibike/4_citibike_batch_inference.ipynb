{
 "cells": [
  {
   "cell_type": "markdown",
   "id": "0986a873",
   "metadata": {},
   "source": [
    "# <span style=\"font-width:bold; font-size: 3rem; color:#1EB182;\"><img src=\"../images/icon102.png\" width=\"38px\"></img> **Hopsworks Feature Store** </span><span style=\"font-width:bold; font-size: 3rem; color:#333;\">- Part 04: Batch Inference</span>\n",
    "\n",
    "\n",
    "## 🗒️ This notebook is divided into the following sections:\n",
    "\n",
    "1. Load batch data.\n",
    "2. Predict using model from Model Registry."
   ]
  },
  {
   "cell_type": "markdown",
   "id": "62c1023b",
   "metadata": {},
   "source": [
    "## <span style='color:#ff5f27'> 📝 Imports"
   ]
  },
  {
   "cell_type": "code",
   "execution_count": null,
   "id": "216b9341",
   "metadata": {},
   "outputs": [],
   "source": [
    "from xgboost import XGBRegressor"
   ]
  },
  {
   "cell_type": "markdown",
   "id": "80bbe6ea",
   "metadata": {},
   "source": [
    "## <span style=\"color:#ff5f27;\"> 📡 Connecting to Hopsworks Feature Store </span>"
   ]
  },
  {
   "cell_type": "code",
   "execution_count": null,
   "id": "49f4411c",
   "metadata": {},
   "outputs": [],
   "source": [
    "import hopsworks\n",
    "\n",
    "project = hopsworks.login()\n",
    "\n",
    "fs = project.get_feature_store()"
   ]
  },
  {
   "cell_type": "markdown",
   "id": "b46ff232",
   "metadata": {},
   "source": [
    "## <span style=\"color:#ff5f27;\"> ⚙️ Feature View Retrieval</span>\n"
   ]
  },
  {
   "cell_type": "code",
   "execution_count": null,
   "id": "0222c382",
   "metadata": {},
   "outputs": [],
   "source": [
    "# Retrieve the 'citibike_fv' feature view\n",
    "feature_view = fs.get_feature_view(\n",
    "    name='citibike_fv',\n",
    "    version=1,\n",
    ")"
   ]
  },
  {
   "cell_type": "markdown",
   "id": "43641348",
   "metadata": {},
   "source": [
    "## <span style=\"color:#ff5f27;\">🗄 Model Registry</span>\n"
   ]
  },
  {
   "cell_type": "code",
   "execution_count": null,
   "id": "30843255",
   "metadata": {},
   "outputs": [],
   "source": [
    "# Get the model registry for the project\n",
    "mr = project.get_model_registry()"
   ]
  },
  {
   "cell_type": "markdown",
   "id": "93255afe",
   "metadata": {},
   "source": [
    "## <span style=\"color:#ff5f27;\"> 📮 Retrieving model from Model Registry </span>"
   ]
  },
  {
   "cell_type": "code",
   "execution_count": null,
   "id": "b13fd4c8",
   "metadata": {},
   "outputs": [],
   "source": [
    "# Get the specified version of the 'citibike_xgb_model' from the model registry\n",
    "retrieved_model = mr.get_model(\n",
    "    name=\"citibike_xgb_model\",\n",
    "    version=1,\n",
    ")\n",
    "\n",
    "# Download the saved model directory\n",
    "saved_model_dir = retrieved_model.download()"
   ]
  },
  {
   "cell_type": "code",
   "execution_count": null,
   "id": "ca2d53b4",
   "metadata": {},
   "outputs": [],
   "source": [
    "# Initialize the model\n",
    "model = XGBRegressor()\n",
    "\n",
    "# Load the model from a saved JSON file\n",
    "model.load_model(saved_model_dir + \"/model.json\")\n",
    "model"
   ]
  },
  {
   "cell_type": "markdown",
   "id": "24dc2b3d",
   "metadata": {},
   "source": [
    "## <span style=\"color:#ff5f27;\"> 🤖 Making the predictions </span>"
   ]
  },
  {
   "cell_type": "markdown",
   "id": "ffad1cc9",
   "metadata": {},
   "source": [
    "### <span style=\"color:#ff5f27;\"> ✨ Load Batch Data</span>"
   ]
  },
  {
   "cell_type": "code",
   "execution_count": null,
   "id": "2fffa43f",
   "metadata": {},
   "outputs": [],
   "source": [
    "# Initialize batch scoring\n",
    "feature_view.init_batch_scoring(1)\n",
    "\n",
    "# Get a batch of data from the feature view within the specified time range\n",
    "batch_data = feature_view.get_batch_data(\n",
    "    start_time='2023-04-30',\n",
    "    end_time='2023-05-30',\n",
    ")\n",
    "\n",
    "# Display the first few rows of the batch data\n",
    "batch_data.head(3)"
   ]
  },
  {
   "cell_type": "code",
   "execution_count": null,
   "id": "32efe93e",
   "metadata": {},
   "outputs": [],
   "source": [
    "# Set the multi-level index for the batch data using 'date' and 'station_id' columns\n",
    "X_batch = batch_data.set_index([\"date\", \"station_id\"])\n",
    "\n",
    "# Convert the specified columns in the batch data to float type\n",
    "X_batch.iloc[:, 1:-1] = X_batch.iloc[:, 1:-1].astype(float)"
   ]
  },
  {
   "cell_type": "code",
   "execution_count": null,
   "id": "8d424819",
   "metadata": {},
   "outputs": [],
   "source": [
    "# Make predictions using the retrieved XGBoost model on the batch data\n",
    "predictions = model.predict(X_batch)\n",
    "\n",
    "# Display the first 10 predictions\n",
    "predictions[:10]"
   ]
  },
  {
   "cell_type": "markdown",
   "id": "354d65a7",
   "metadata": {},
   "source": [
    "---\n",
    "\n",
    "### <span style=\"color:#ff5f27;\">🥳 <b> Next Steps  </b> </span>\n",
    "Congratulations you've now completed the CityBikes tutorial for Managed Hopsworks.\n",
    "\n",
    "Check out our other tutorials on ➡ https://github.com/logicalclocks/hopsworks-tutorials\n",
    "\n",
    "Or documentation at ➡ https://docs.hopsworks.ai"
   ]
  }
 ],
 "metadata": {
  "kernelspec": {
   "display_name": "Python 3",
   "language": "python",
   "name": "python3"
  },
  "language_info": {
   "codemirror_mode": {
    "name": "ipython",
    "version": 3
   },
   "file_extension": ".py",
   "mimetype": "text/x-python",
   "name": "python",
   "nbconvert_exporter": "python",
   "pygments_lexer": "ipython3",
   "version": "3.10.11"
  }
 },
 "nbformat": 4,
 "nbformat_minor": 5
}
