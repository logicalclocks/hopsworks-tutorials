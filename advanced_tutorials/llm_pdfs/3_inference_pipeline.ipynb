{
 "cells": [
  {
   "cell_type": "markdown",
   "id": "be60a8be",
   "metadata": {},
   "source": [
    "## <span style=\"color:#ff5f27\">📝 Imports </span>"
   ]
  },
  {
   "cell_type": "code",
   "execution_count": null,
   "id": "f95e1e54",
   "metadata": {},
   "outputs": [],
   "source": [
    "from sentence_transformers import SentenceTransformer\n",
    "from FlagEmbedding import FlagReranker\n",
    "\n",
    "from functions.llm_chain import get_llm_chain\n",
    "from functions.prompt_engineering import get_context_and_source\n",
    "import config\n",
    "\n",
    "import warnings\n",
    "warnings.filterwarnings('ignore')"
   ]
  },
  {
   "cell_type": "markdown",
   "id": "3f3a2715",
   "metadata": {},
   "source": [
    "## <span style=\"color:#ff5f27;\"> 🔮 Connecting to Hopsworks Feature Store </span>"
   ]
  },
  {
   "cell_type": "code",
   "execution_count": null,
   "id": "d292081d",
   "metadata": {},
   "outputs": [],
   "source": [
    "import hopsworks\n",
    "\n",
    "project = hopsworks.login()\n",
    "\n",
    "fs = project.get_feature_store()\n",
    "mr = project.get_model_registry()"
   ]
  },
  {
   "cell_type": "code",
   "execution_count": null,
   "id": "733aa65d",
   "metadata": {},
   "outputs": [],
   "source": [
    "# Retrieve the 'documents' feature view\n",
    "feature_view = fs.get_feature_view(\n",
    "    name=\"documents\", \n",
    "    version=1,\n",
    ")   \n",
    "\n",
    "# Initialize serving\n",
    "feature_view.init_serving(1)"
   ]
  },
  {
   "cell_type": "code",
   "execution_count": null,
   "id": "a1e562e9",
   "metadata": {},
   "outputs": [],
   "source": [
    "# Get the Mistral model from Model Registry\n",
    "mistral_model = mr.get_model(\n",
    "    name=\"mistral_model\",\n",
    "    version=1,\n",
    ")\n",
    "\n",
    "# Download the Mistral model files to a local directory\n",
    "saved_model_dir = mistral_model.download()"
   ]
  },
  {
   "cell_type": "markdown",
   "id": "0235999b",
   "metadata": {},
   "source": [
    "## <span style=\"color:#ff5f27\">⛓️ LLM Chain </span>"
   ]
  },
  {
   "cell_type": "code",
   "execution_count": null,
   "id": "bc70c06b",
   "metadata": {},
   "outputs": [],
   "source": [
    "llm_chain = get_llm_chain(saved_model_dir)"
   ]
  },
  {
   "cell_type": "code",
   "execution_count": null,
   "id": "e6b5249d",
   "metadata": {},
   "outputs": [],
   "source": [
    "session_id = {\n",
    "    \"configurable\": {\"session_id\": \"default\"}\n",
    "}"
   ]
  },
  {
   "cell_type": "markdown",
   "id": "d9377ab5",
   "metadata": {},
   "source": [
    "## <span style=\"color:#ff5f27\">🗄️ Sentence Transformer Loading </span>"
   ]
  },
  {
   "cell_type": "code",
   "execution_count": null,
   "id": "89b5ce52",
   "metadata": {},
   "outputs": [],
   "source": [
    "# Load the Sentence Transformer\n",
    "sentence_transformer = SentenceTransformer(\n",
    "    config.MODEL_SENTENCE_TRANSFORMER,\n",
    ").to(config.DEVICE)"
   ]
  },
  {
   "cell_type": "markdown",
   "id": "40126e56",
   "metadata": {},
   "source": [
    "## <span style=\"color:#ff5f27;\"> 🧬 Reranking </span>"
   ]
  },
  {
   "cell_type": "code",
   "execution_count": null,
   "id": "72cfcbd2",
   "metadata": {},
   "outputs": [],
   "source": [
    "def get_reranker():\n",
    "    reranker = FlagReranker(\n",
    "        'BAAI/bge-reranker-large', \n",
    "        use_fp16=True,\n",
    "    ) \n",
    "    return reranker"
   ]
  },
  {
   "cell_type": "code",
   "execution_count": null,
   "id": "491e3847",
   "metadata": {},
   "outputs": [],
   "source": [
    "# Retrieve a reranker\n",
    "reranker = get_reranker()"
   ]
  },
  {
   "cell_type": "markdown",
   "id": "c739dd2d",
   "metadata": {},
   "source": [
    "## <span style=\"color:#ff5f27;\">🗄️ Context Retrieval </span>"
   ]
  },
  {
   "cell_type": "code",
   "execution_count": null,
   "id": "987d3108",
   "metadata": {},
   "outputs": [],
   "source": [
    "# User Question Example\n",
    "user_input = 'What are the best risk reporting practices?' "
   ]
  },
  {
   "cell_type": "code",
   "execution_count": null,
   "id": "02199904",
   "metadata": {},
   "outputs": [],
   "source": [
    "# Retrieve reranked context and source\n",
    "context, source = get_context_and_source(\n",
    "    user_input, \n",
    "    sentence_transformer,\n",
    "    feature_view, \n",
    "    reranker,\n",
    ")"
   ]
  },
  {
   "cell_type": "markdown",
   "id": "decf4d3d",
   "metadata": {},
   "source": [
    "## <span style=\"color:#ff5f27;\">🚀 Model Inference </span>"
   ]
  },
  {
   "cell_type": "code",
   "execution_count": null,
   "id": "622bfb9a",
   "metadata": {},
   "outputs": [],
   "source": [
    "# Generate model response\n",
    "model_output = llm_chain.invoke({\n",
    "        \"context\": context, \n",
    "        \"question\": user_input,\n",
    "    },\n",
    "    session_id,\n",
    ")\n",
    "\n",
    "print(model_output.split('### RESPONSE:\\n')[-1] + source)"
   ]
  },
  {
   "cell_type": "code",
   "execution_count": null,
   "id": "5711145e",
   "metadata": {},
   "outputs": [],
   "source": [
    "user_input = 'What is Adaptability?'\n",
    "\n",
    "context, source = get_context_and_source(\n",
    "    user_input, \n",
    "    sentence_transformer,\n",
    "    feature_view, \n",
    "    reranker,\n",
    ")\n",
    "\n",
    "model_output = llm_chain.invoke({\n",
    "        \"context\": context, \n",
    "        \"question\": user_input,\n",
    "    },\n",
    "    session_id,\n",
    ")\n",
    "\n",
    "print(model_output.split('### RESPONSE:\\n')[-1] + source)"
   ]
  },
  {
   "cell_type": "code",
   "execution_count": null,
   "id": "044e9b15",
   "metadata": {},
   "outputs": [],
   "source": [
    "user_input = 'What is a risk management?'\n",
    "\n",
    "context, source = get_context_and_source(\n",
    "    user_input, \n",
    "    sentence_transformer,\n",
    "    feature_view, \n",
    "    reranker,\n",
    ")\n",
    "\n",
    "model_output = llm_chain.invoke({\n",
    "        \"context\": context, \n",
    "        \"question\": user_input,\n",
    "    },\n",
    "    session_id,\n",
    ")\n",
    "\n",
    "print(model_output.split('### RESPONSE:\\n')[-1] + source)"
   ]
  },
  {
   "cell_type": "code",
   "execution_count": null,
   "id": "02be4b75",
   "metadata": {},
   "outputs": [],
   "source": [
    "user_input = 'What is the purpose of maintaining an up-to-date data-flow diagram?'\n",
    "\n",
    "context, source = get_context_and_source(\n",
    "    user_input, \n",
    "    sentence_transformer,\n",
    "    feature_view, \n",
    "    reranker,\n",
    ")\n",
    "\n",
    "model_output = llm_chain.invoke({\n",
    "        \"context\": context, \n",
    "        \"question\": user_input,\n",
    "    },\n",
    "    session_id,\n",
    ")\n",
    "\n",
    "print(model_output.split('### RESPONSE:\\n')[-1] + source)"
   ]
  },
  {
   "cell_type": "code",
   "execution_count": null,
   "id": "43a409ea",
   "metadata": {},
   "outputs": [],
   "source": [
    "user_input = 'Why are security and privacy controls important?'\n",
    "\n",
    "context, source = get_context_and_source(\n",
    "    user_input, \n",
    "    sentence_transformer,\n",
    "    feature_view, \n",
    "    reranker,\n",
    ")\n",
    "\n",
    "model_output = llm_chain.invoke({\n",
    "        \"context\": context, \n",
    "        \"question\": user_input,\n",
    "    },\n",
    "    session_id,\n",
    ")\n",
    "\n",
    "print(model_output.split('### RESPONSE:\\n')[-1] + source)"
   ]
  },
  {
   "cell_type": "markdown",
   "id": "108ca3db",
   "metadata": {},
   "source": [
    "---"
   ]
  }
 ],
 "metadata": {
  "kernelspec": {
   "display_name": "Python 3 (ipykernel)",
   "language": "python",
   "name": "python3"
  },
  "language_info": {
   "codemirror_mode": {
    "name": "ipython",
    "version": 3
   },
   "file_extension": ".py",
   "mimetype": "text/x-python",
   "name": "python",
   "nbconvert_exporter": "python",
   "pygments_lexer": "ipython3",
   "version": "3.11.7"
  }
 },
 "nbformat": 4,
 "nbformat_minor": 5
}
