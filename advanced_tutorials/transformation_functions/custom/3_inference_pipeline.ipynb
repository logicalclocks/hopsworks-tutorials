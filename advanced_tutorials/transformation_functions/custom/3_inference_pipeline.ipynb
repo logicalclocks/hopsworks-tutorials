{
 "cells": [
  {
   "cell_type": "markdown",
   "id": "d28eba60",
   "metadata": {},
   "source": [
    "# <span style=\"font-width:bold; font-size: 3rem; color:#1EB182;\"><img src=\"../../../images/icon102.png\" width=\"38px\"></img> **Hopsworks Feature Store** </span><span style=\"font-width:bold; font-size: 3rem; color:#333;\">- Part 03: Inference Pipeline</span>\n"
   ]
  },
  {
   "cell_type": "markdown",
   "id": "f16367c8",
   "metadata": {},
   "source": [
    "## <span style=\"color:#ff5f27;\"> 📡 Connecting to Hopsworks Feature Store </span>"
   ]
  },
  {
   "cell_type": "code",
   "execution_count": null,
   "id": "ed952ece",
   "metadata": {},
   "outputs": [],
   "source": [
    "import hopsworks\n",
    "\n",
    "project = hopsworks.login()\n",
    "\n",
    "fs = project.get_feature_store()"
   ]
  },
  {
   "cell_type": "markdown",
   "id": "e98e32ce",
   "metadata": {},
   "source": [
    "## <span style=\"color:#ff5f27;\"> ⚙️ Feature Group Retrieval</span>\n",
    "Let's retrieve a feature group in order to get cc_num values."
   ]
  },
  {
   "cell_type": "code",
   "execution_count": null,
   "id": "d2a8475b",
   "metadata": {},
   "outputs": [],
   "source": [
    "# Retrieve the 'transactions_fraud_online_fg' feature group\n",
    "trans_fg = fs.get_feature_group(\n",
    "    'transactions_fraud_online_fg',\n",
    "    version=1,\n",
    ")"
   ]
  },
  {
   "cell_type": "code",
   "execution_count": null,
   "id": "c37c5197",
   "metadata": {},
   "outputs": [],
   "source": [
    "# Retrieve the first 5 unique credit card numbers (cc_nums)\n",
    "cc_nums = trans_fg.select('cc_num').show(5).cc_num.values\n",
    "\n",
    "# Display the obtained cc_nums\n",
    "cc_nums"
   ]
  },
  {
   "cell_type": "markdown",
   "id": "6d5dade0",
   "metadata": {},
   "source": [
    "## <span style=\"color:#ff5f27;\">🗄 Model Registry</span>\n"
   ]
  },
  {
   "cell_type": "code",
   "execution_count": null,
   "id": "be66f4c8",
   "metadata": {},
   "outputs": [],
   "source": [
    "# Get the Model Registry\n",
    "mr = project.get_model_registry()"
   ]
  },
  {
   "cell_type": "markdown",
   "id": "903df073",
   "metadata": {},
   "source": [
    "## <span style='color:#ff5f27'>🚀 Fetch Deployment</span>"
   ]
  },
  {
   "cell_type": "code",
   "execution_count": null,
   "id": "4303ac82",
   "metadata": {},
   "outputs": [],
   "source": [
    "# Access the Model Serving\n",
    "ms = project.get_model_serving()\n",
    "\n",
    "# Specify the deployment name\n",
    "deployment_name = \"fraudonlinemodeldeployment\"\n",
    "\n",
    "# Get the deployment with the specified name\n",
    "deployment = ms.get_deployment(deployment_name)\n",
    "\n",
    "# Start the deployment and wait for it to be in a running state for up to 300 seconds\n",
    "deployment.start(await_running=300)"
   ]
  },
  {
   "cell_type": "markdown",
   "id": "045ba7e4",
   "metadata": {},
   "source": [
    "## <span style='color:#ff5f27'>🔮 Predicting using deployment</span>\n",
    "\n",
    "\n",
    "Finally you can start making predictions with your model!\n",
    "\n",
    "Send inference requests to the deployed model as follows:"
   ]
  },
  {
   "cell_type": "code",
   "execution_count": null,
   "id": "42196023",
   "metadata": {},
   "outputs": [],
   "source": [
    "# Get the first credit card number\n",
    "cc_num = cc_nums[0]\n",
    "cc_num"
   ]
  },
  {
   "cell_type": "markdown",
   "id": "188f959f-03b8-428a-99af-84b342c8777e",
   "metadata": {},
   "source": [
    "Remember that the feature view includes the on-demand feature `age_at_transaction`, which requires the transaction time request parameter for its computation. To simplify the process, let’s create a simulated transaction time that can be used to compute this on-demand feature."
   ]
  },
  {
   "cell_type": "code",
   "execution_count": null,
   "id": "22a004b7-67ce-4ba2-9bcb-ca3135bedf23",
   "metadata": {},
   "outputs": [],
   "source": [
    "from datetime import datetime\n",
    "transaction_time = datetime.now().strftime(\"%m/%d/%Y, %H:%M:%S\")"
   ]
  },
  {
   "cell_type": "markdown",
   "id": "80323999-c75f-4dfc-959a-4a9a6feac175",
   "metadata": {},
   "source": [
    "Now, let's pass the request parameter `transaction_time` along with `cc_num` to the predict function so that the on-demand feature `age_at_transaction` can be computed."
   ]
  },
  {
   "cell_type": "code",
   "execution_count": null,
   "id": "596f3241",
   "metadata": {},
   "outputs": [],
   "source": [
    "# Make a prediction\n",
    "deployment.predict(\n",
    "    inputs=[int(cc_num), transaction_time],\n",
    ")"
   ]
  },
  {
   "cell_type": "code",
   "execution_count": null,
   "id": "f260b7b6",
   "metadata": {},
   "outputs": [],
   "source": [
    "# Predict for several cc_nums\n",
    "predictions = [\n",
    "    deployment.predict(inputs=[int(cc_num), transaction_time])['predictions'] \n",
    "    for cc_num\n",
    "    in cc_nums\n",
    "]\n",
    "predictions"
   ]
  },
  {
   "cell_type": "markdown",
   "id": "0b02e2bd",
   "metadata": {},
   "source": [
    "### Stop Deployment\n",
    "To stop the deployment you simply run:"
   ]
  },
  {
   "cell_type": "code",
   "execution_count": null,
   "id": "b90b4c19",
   "metadata": {},
   "outputs": [],
   "source": [
    "# Stop the deployment\n",
    "deployment.stop(await_stopped=180)"
   ]
  },
  {
   "cell_type": "markdown",
   "id": "8d98d2a0",
   "metadata": {},
   "source": [
    "---\n",
    "\n",
    "### <span style=\"color:#ff5f27;\">🥳 <b> Next Steps  </b> </span>\n",
    "Congratulations you've now completed the Transformation Functions tutorial in Hopsworks.\n",
    "\n",
    "Check out our other tutorials on ➡ https://github.com/logicalclocks/hopsworks-tutorials\n",
    "\n",
    "Or documentation at ➡ https://docs.hopsworks.ai"
   ]
  },
  {
   "cell_type": "code",
   "execution_count": null,
   "id": "e99b1614-686e-4310-bd5c-92821c76ca56",
   "metadata": {},
   "outputs": [],
   "source": []
  }
 ],
 "metadata": {
  "kernelspec": {
   "display_name": "Python 3 (ipykernel)",
   "language": "python",
   "name": "python3"
  },
  "language_info": {
   "codemirror_mode": {
    "name": "ipython",
    "version": 3
   },
   "file_extension": ".py",
   "mimetype": "text/x-python",
   "name": "python",
   "nbconvert_exporter": "python",
   "pygments_lexer": "ipython3",
   "version": "3.12.5"
  }
 },
 "nbformat": 4,
 "nbformat_minor": 5
}
