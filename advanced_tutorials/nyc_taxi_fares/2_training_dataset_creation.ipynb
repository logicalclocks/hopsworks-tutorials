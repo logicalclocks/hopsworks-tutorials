{
 "cells": [
  {
   "cell_type": "markdown",
   "metadata": {},
   "source": [
    "![hopsworks_logo](../../images/hopsworks_logo.png)\n",
    "\n",
    "# Part 02: Training Data & Feature views\n",
    "\n",
    "[![Open In Colab](https://colab.research.google.com/assets/colab-badge.svg)](https://colab.research.google.com/github/logicalclocks/hopsworks-tutorials/blob/master/fraud_batch/2_feature_view_creation.ipynb)\n",
    "\n",
    "**Note**: you may get an error when installing hopsworks on Colab, and it is safe to ignore it.\n",
    "\n",
    "This is the second part of the quick start series of tutorials about Hopsworks Feature Store. This notebook explains how to read from a feature group and create training dataset within the feature store\n",
    "\n",
    "## 🗒️ In this notebook we will see how to create a training dataset from the feature groups:\n",
    "1. **Select the features** we want to train our model on,\n",
    "2. **How the features should be preprocessed,**\n",
    "3. **Create a dataset split** for training and validation data.\n",
    "\n",
    "![02_training-dataset](../../images/02_training-dataset.png)"
   ]
  },
  {
   "cell_type": "markdown",
   "metadata": {},
   "source": [
    "#### <span style=\"color:#ff5f27;\">📝 Importing Libraries</span>"
   ]
  },
  {
   "cell_type": "code",
   "execution_count": 1,
   "metadata": {},
   "outputs": [
    {
     "name": "stdout",
     "output_type": "stream",
     "text": [
      "Connected. Call `.close()` to terminate connection gracefully.\n",
      "\n",
      "Logged in to project, explore it here https://c.app.hopsworks.ai:443/p/164\n"
     ]
    },
    {
     "name": "stderr",
     "output_type": "stream",
     "text": [
      "DeprecationWarning: the imp module is deprecated in favour of importlib; see the module's documentation for alternative uses\n"
     ]
    },
    {
     "name": "stdout",
     "output_type": "stream",
     "text": [
      "Connected. Call `.close()` to terminate connection gracefully.\n"
     ]
    }
   ],
   "source": [
    "import hopsworks\n",
    "\n",
    "project = hopsworks.login()\n",
    "\n",
    "fs = project.get_feature_store()"
   ]
  },
  {
   "cell_type": "markdown",
   "metadata": {},
   "source": [
    "### <span style=\"color:#ff5f27;\">⬇️ Data retrieving from Feature Groups</span>\n",
    "\n",
    "We start by selecting all the features we want to include for model training/inference."
   ]
  },
  {
   "cell_type": "code",
   "execution_count": 2,
   "metadata": {},
   "outputs": [],
   "source": [
    "# Load feature groups.\n",
    "fares_fg = fs.get_or_create_feature_group(\"fares_fg\",\n",
    "                                          version=1)\n",
    "rides_fg = fs.get_or_create_feature_group(\"rides_fg\",\n",
    "                                          version=1)"
   ]
  },
  {
   "cell_type": "code",
   "execution_count": 3,
   "metadata": {},
   "outputs": [
    {
     "name": "stdout",
     "output_type": "stream",
     "text": [
      "2022-08-18 23:19:06,623 INFO: USE `romankah_featurestore`\n",
      "2022-08-18 23:19:07,626 INFO: SELECT `fg1`.`total_fare` `total_fare`, `fg0`.`month_of_the_ride` `month_of_the_ride`, `fg0`.`ride_id` `ride_id`, `fg0`.`passenger_count` `passenger_count`, `fg0`.`distance` `distance`, `fg0`.`pickup_distance_to_jfk` `pickup_distance_to_jfk`, `fg0`.`dropoff_distance_to_jfk` `dropoff_distance_to_jfk`, `fg0`.`pickup_distance_to_ewr` `pickup_distance_to_ewr`, `fg0`.`dropoff_distance_to_ewr` `dropoff_distance_to_ewr`, `fg0`.`pickup_distance_to_lgr` `pickup_distance_to_lgr`, `fg0`.`dropoff_distance_to_lgr` `dropoff_distance_to_lgr`, `fg0`.`year` `year`, `fg0`.`weekday` `weekday`, `fg0`.`hour` `hour`\n",
      "FROM `romankah_featurestore`.`fares_fg_1` `fg1`\n",
      "INNER JOIN `romankah_featurestore`.`rides_fg_1` `fg0` ON `fg1`.`ride_id` = `fg0`.`ride_id`\n"
     ]
    },
    {
     "name": "stderr",
     "output_type": "stream",
     "text": [
      "UserWarning: pandas only support SQLAlchemy connectable(engine/connection) ordatabase string URI or sqlite3 DBAPI2 connectionother DBAPI2 objects are not tested, please consider using SQLAlchemy\n"
     ]
    },
    {
     "data": {
      "text/html": [
       "<div>\n",
       "<style scoped>\n",
       "    .dataframe tbody tr th:only-of-type {\n",
       "        vertical-align: middle;\n",
       "    }\n",
       "\n",
       "    .dataframe tbody tr th {\n",
       "        vertical-align: top;\n",
       "    }\n",
       "\n",
       "    .dataframe thead th {\n",
       "        text-align: right;\n",
       "    }\n",
       "</style>\n",
       "<table border=\"1\" class=\"dataframe\">\n",
       "  <thead>\n",
       "    <tr style=\"text-align: right;\">\n",
       "      <th></th>\n",
       "      <th>total_fare</th>\n",
       "      <th>month_of_the_ride</th>\n",
       "      <th>ride_id</th>\n",
       "      <th>passenger_count</th>\n",
       "      <th>distance</th>\n",
       "      <th>pickup_distance_to_jfk</th>\n",
       "      <th>dropoff_distance_to_jfk</th>\n",
       "      <th>pickup_distance_to_ewr</th>\n",
       "      <th>dropoff_distance_to_ewr</th>\n",
       "      <th>pickup_distance_to_lgr</th>\n",
       "      <th>dropoff_distance_to_lgr</th>\n",
       "      <th>year</th>\n",
       "      <th>weekday</th>\n",
       "      <th>hour</th>\n",
       "    </tr>\n",
       "  </thead>\n",
       "  <tbody>\n",
       "    <tr>\n",
       "      <th>0</th>\n",
       "      <td>159.0</td>\n",
       "      <td>197001</td>\n",
       "      <td>da7f3c46970e2134e62443d1ba59adcf</td>\n",
       "      <td>2</td>\n",
       "      <td>57.191066</td>\n",
       "      <td>71.712117</td>\n",
       "      <td>51.754719</td>\n",
       "      <td>79.278673</td>\n",
       "      <td>41.917076</td>\n",
       "      <td>65.514943</td>\n",
       "      <td>41.128134</td>\n",
       "      <td>1970</td>\n",
       "      <td>0</td>\n",
       "      <td>13</td>\n",
       "    </tr>\n",
       "    <tr>\n",
       "      <th>1</th>\n",
       "      <td>70.0</td>\n",
       "      <td>197001</td>\n",
       "      <td>83558c7d52688b832ae37840945e86b1</td>\n",
       "      <td>4</td>\n",
       "      <td>66.124064</td>\n",
       "      <td>47.370011</td>\n",
       "      <td>83.881044</td>\n",
       "      <td>66.718941</td>\n",
       "      <td>90.097942</td>\n",
       "      <td>50.264600</td>\n",
       "      <td>77.147833</td>\n",
       "      <td>1970</td>\n",
       "      <td>0</td>\n",
       "      <td>12</td>\n",
       "    </tr>\n",
       "  </tbody>\n",
       "</table>\n",
       "</div>"
      ],
      "text/plain": [
       "   total_fare  month_of_the_ride                           ride_id  \\\n",
       "0       159.0             197001  da7f3c46970e2134e62443d1ba59adcf   \n",
       "1        70.0             197001  83558c7d52688b832ae37840945e86b1   \n",
       "\n",
       "   passenger_count   distance  pickup_distance_to_jfk  \\\n",
       "0                2  57.191066               71.712117   \n",
       "1                4  66.124064               47.370011   \n",
       "\n",
       "   dropoff_distance_to_jfk  pickup_distance_to_ewr  dropoff_distance_to_ewr  \\\n",
       "0                51.754719               79.278673                41.917076   \n",
       "1                83.881044               66.718941                90.097942   \n",
       "\n",
       "   pickup_distance_to_lgr  dropoff_distance_to_lgr  year  weekday  hour  \n",
       "0               65.514943                41.128134  1970        0    13  \n",
       "1               50.264600                77.147833  1970        0    12  "
      ]
     },
     "execution_count": 3,
     "metadata": {},
     "output_type": "execute_result"
    }
   ],
   "source": [
    "# Select features for training data.\n",
    "fg_query = fares_fg.select(['total_fare'])\\\n",
    "                            .join(rides_fg.select_except(['taxi_id', \"driver_id\", \"pickup_datetime\",\n",
    "                                                          \"pickup_longitude\", \"pickup_latitude\",\n",
    "                                                          \"dropoff_longitude\", \"dropoff_latitude\"]),\n",
    "                                  on=['ride_id'])\n",
    "\n",
    "fg_query.show(2)"
   ]
  },
  {
   "cell_type": "markdown",
   "metadata": {},
   "source": [
    "#### <span style=\"color:#ff5f27;\">〰️ Transformation Functions</span>\n",
    "\n",
    "\n",
    "We can preprocess our data using several encoding methods like *min-max scaling* on numerical features and *label encoding* on categorical features. To do this we simply define a mapping between our features and transformation functions. This ensures that transformation functions such as *min-max scaling* are fitted only on the training data (and not the validation/test data), which ensures that there is no data leakage."
   ]
  },
  {
   "cell_type": "code",
   "execution_count": 4,
   "metadata": {},
   "outputs": [
    {
     "data": {
      "text/plain": [
       "['label_encoder', 'min_max_scaler', 'robust_scaler', 'standard_scaler']"
      ]
     },
     "execution_count": 4,
     "metadata": {},
     "output_type": "execute_result"
    }
   ],
   "source": [
    "[t_func.name for t_func in fs.get_transformation_functions()]"
   ]
  },
  {
   "cell_type": "code",
   "execution_count": 5,
   "metadata": {},
   "outputs": [],
   "source": [
    "# # Load transformation functions.\n",
    "# min_max_scaler = fs.get_transformation_function(name=\"min_max_scaler\")\n",
    "# label_encoder = fs.get_transformation_function(name=\"label_encoder\")\n",
    "\n",
    "# # Map features to transformations.\n",
    "# transformation_functions = {\n",
    "#     \"total_fare\": min_max_scaler,\n",
    "#     \"distance\": min_max_scaler\n",
    "# }"
   ]
  },
  {
   "cell_type": "markdown",
   "metadata": {},
   "source": [
    "## <span style=\"color:#ff5f27;\">🔮 Feature View Creation</span>\n",
    "\n",
    "\n",
    "We start by selecting all the features we want to include for model training/inference.\n",
    "\n",
    "After we have made a query from desired features, we should make a corresponding `Feature View`.\n",
    "In order to do it we may use `fs.create_feature_view()`"
   ]
  },
  {
   "cell_type": "code",
   "execution_count": 6,
   "metadata": {},
   "outputs": [
    {
     "name": "stdout",
     "output_type": "stream",
     "text": [
      "Feature view created successfully, explore it at \n",
      "https://c.app.hopsworks.ai:443/p/164/fs/106/fv/nyc_taxi_fares_fv/version/1\n"
     ]
    }
   ],
   "source": [
    "nyc_fares_fv = fs.create_feature_view(\n",
    "    name='nyc_taxi_fares_fv',\n",
    "    query=fg_query,\n",
    "    labels=[\"total_fare\"]\n",
    "#     transformation_functions=transformation_functions\n",
    ")"
   ]
  },
  {
   "cell_type": "code",
   "execution_count": 7,
   "metadata": {},
   "outputs": [
    {
     "data": {
      "text/plain": [
       "1"
      ]
     },
     "execution_count": 7,
     "metadata": {},
     "output_type": "execute_result"
    }
   ],
   "source": [
    "nyc_fares_fv.version"
   ]
  },
  {
   "cell_type": "markdown",
   "metadata": {},
   "source": [
    "## <span style=\"color:#ff5f27;\">🏋️ Training Dataset Creation</span>\n",
    "    \n",
    "In Hopsworks training data is a query where the projection (set of features) is determined by the parent FeatureView with an optional snapshot on disk of the data returned by the query.\n",
    "\n",
    "Training Dataset may contain splits such as:\n",
    "\n",
    "    Training set - the subset of training data used to train a model.\n",
    "    Validation set - the subset of training data used to evaluate hparams when training a model\n",
    "    Test set - the holdout subset of training data used to evaluate a mode\n",
    "\n",
    "Training dataset is created using fs.create_train_validation_test_split() method."
   ]
  },
  {
   "cell_type": "code",
   "execution_count": 8,
   "metadata": {
    "scrolled": true
   },
   "outputs": [
    {
     "name": "stdout",
     "output_type": "stream",
     "text": [
      "Training dataset job started successfully, you can follow the progress at \n",
      "https://c.app.hopsworks.ai/p/164/jobs/named/nyc_taxi_fares_fv_1_1_create_fv_td_18082022211938/executions\n"
     ]
    },
    {
     "name": "stderr",
     "output_type": "stream",
     "text": [
      "VersionWarning: Incremented version to `1`.\n"
     ]
    },
    {
     "data": {
      "text/plain": [
       "(1, <hsfs.core.job.Job at 0x27e687a1640>)"
      ]
     },
     "execution_count": 8,
     "metadata": {},
     "output_type": "execute_result"
    }
   ],
   "source": [
    "nyc_fares_fv.create_training_data(\n",
    "    description='training_dataset',\n",
    "    data_format='csv'\n",
    ")"
   ]
  },
  {
   "cell_type": "code",
   "execution_count": 9,
   "metadata": {},
   "outputs": [],
   "source": [
    "X_train, y_train = nyc_fares_fv.get_training_data(\n",
    "    training_dataset_version=1\n",
    ")"
   ]
  },
  {
   "cell_type": "code",
   "execution_count": 10,
   "metadata": {},
   "outputs": [
    {
     "data": {
      "text/html": [
       "<div>\n",
       "<style scoped>\n",
       "    .dataframe tbody tr th:only-of-type {\n",
       "        vertical-align: middle;\n",
       "    }\n",
       "\n",
       "    .dataframe tbody tr th {\n",
       "        vertical-align: top;\n",
       "    }\n",
       "\n",
       "    .dataframe thead th {\n",
       "        text-align: right;\n",
       "    }\n",
       "</style>\n",
       "<table border=\"1\" class=\"dataframe\">\n",
       "  <thead>\n",
       "    <tr style=\"text-align: right;\">\n",
       "      <th></th>\n",
       "      <th>month_of_the_ride</th>\n",
       "      <th>ride_id</th>\n",
       "      <th>passenger_count</th>\n",
       "      <th>distance</th>\n",
       "      <th>pickup_distance_to_jfk</th>\n",
       "      <th>dropoff_distance_to_jfk</th>\n",
       "      <th>pickup_distance_to_ewr</th>\n",
       "      <th>dropoff_distance_to_ewr</th>\n",
       "      <th>pickup_distance_to_lgr</th>\n",
       "      <th>dropoff_distance_to_lgr</th>\n",
       "      <th>year</th>\n",
       "      <th>weekday</th>\n",
       "      <th>hour</th>\n",
       "    </tr>\n",
       "  </thead>\n",
       "  <tbody>\n",
       "    <tr>\n",
       "      <th>0</th>\n",
       "      <td>197001</td>\n",
       "      <td>d070e81b13f9d4ee015365f50c2b2218</td>\n",
       "      <td>3</td>\n",
       "      <td>25.752523</td>\n",
       "      <td>22.054872</td>\n",
       "      <td>28.265240</td>\n",
       "      <td>30.532599</td>\n",
       "      <td>47.690248</td>\n",
       "      <td>15.095869</td>\n",
       "      <td>31.496596</td>\n",
       "      <td>1970</td>\n",
       "      <td>0</td>\n",
       "      <td>13</td>\n",
       "    </tr>\n",
       "    <tr>\n",
       "      <th>1</th>\n",
       "      <td>197001</td>\n",
       "      <td>2388bcea972106c742d21be4b0f18444</td>\n",
       "      <td>1</td>\n",
       "      <td>13.494440</td>\n",
       "      <td>27.150127</td>\n",
       "      <td>17.539545</td>\n",
       "      <td>45.999205</td>\n",
       "      <td>33.448316</td>\n",
       "      <td>29.572327</td>\n",
       "      <td>16.644308</td>\n",
       "      <td>1970</td>\n",
       "      <td>0</td>\n",
       "      <td>13</td>\n",
       "    </tr>\n",
       "    <tr>\n",
       "      <th>2</th>\n",
       "      <td>197001</td>\n",
       "      <td>8bf03ea97e74dfe125f10ba81f006b77</td>\n",
       "      <td>1</td>\n",
       "      <td>50.435481</td>\n",
       "      <td>29.150692</td>\n",
       "      <td>55.769077</td>\n",
       "      <td>49.973292</td>\n",
       "      <td>64.500894</td>\n",
       "      <td>35.215256</td>\n",
       "      <td>49.998029</td>\n",
       "      <td>1970</td>\n",
       "      <td>0</td>\n",
       "      <td>13</td>\n",
       "    </tr>\n",
       "    <tr>\n",
       "      <th>3</th>\n",
       "      <td>197001</td>\n",
       "      <td>422e728af278ddcf60039f87c523ecb0</td>\n",
       "      <td>4</td>\n",
       "      <td>56.774919</td>\n",
       "      <td>21.015145</td>\n",
       "      <td>70.865810</td>\n",
       "      <td>21.238427</td>\n",
       "      <td>77.968131</td>\n",
       "      <td>10.595304</td>\n",
       "      <td>64.438230</td>\n",
       "      <td>1970</td>\n",
       "      <td>0</td>\n",
       "      <td>13</td>\n",
       "    </tr>\n",
       "    <tr>\n",
       "      <th>4</th>\n",
       "      <td>197001</td>\n",
       "      <td>bdc3a865f7c4ec60f14faae016810848</td>\n",
       "      <td>1</td>\n",
       "      <td>22.729159</td>\n",
       "      <td>42.078924</td>\n",
       "      <td>54.268783</td>\n",
       "      <td>38.365793</td>\n",
       "      <td>57.656597</td>\n",
       "      <td>31.791766</td>\n",
       "      <td>46.069380</td>\n",
       "      <td>1970</td>\n",
       "      <td>0</td>\n",
       "      <td>14</td>\n",
       "    </tr>\n",
       "  </tbody>\n",
       "</table>\n",
       "</div>"
      ],
      "text/plain": [
       "   month_of_the_ride                           ride_id  passenger_count  \\\n",
       "0             197001  d070e81b13f9d4ee015365f50c2b2218                3   \n",
       "1             197001  2388bcea972106c742d21be4b0f18444                1   \n",
       "2             197001  8bf03ea97e74dfe125f10ba81f006b77                1   \n",
       "3             197001  422e728af278ddcf60039f87c523ecb0                4   \n",
       "4             197001  bdc3a865f7c4ec60f14faae016810848                1   \n",
       "\n",
       "    distance  pickup_distance_to_jfk  dropoff_distance_to_jfk  \\\n",
       "0  25.752523               22.054872                28.265240   \n",
       "1  13.494440               27.150127                17.539545   \n",
       "2  50.435481               29.150692                55.769077   \n",
       "3  56.774919               21.015145                70.865810   \n",
       "4  22.729159               42.078924                54.268783   \n",
       "\n",
       "   pickup_distance_to_ewr  dropoff_distance_to_ewr  pickup_distance_to_lgr  \\\n",
       "0               30.532599                47.690248               15.095869   \n",
       "1               45.999205                33.448316               29.572327   \n",
       "2               49.973292                64.500894               35.215256   \n",
       "3               21.238427                77.968131               10.595304   \n",
       "4               38.365793                57.656597               31.791766   \n",
       "\n",
       "   dropoff_distance_to_lgr  year  weekday  hour  \n",
       "0                31.496596  1970        0    13  \n",
       "1                16.644308  1970        0    13  \n",
       "2                49.998029  1970        0    13  \n",
       "3                64.438230  1970        0    13  \n",
       "4                46.069380  1970        0    14  "
      ]
     },
     "execution_count": 10,
     "metadata": {},
     "output_type": "execute_result"
    }
   ],
   "source": [
    "X_train.head(5)"
   ]
  },
  {
   "cell_type": "code",
   "execution_count": 11,
   "metadata": {},
   "outputs": [
    {
     "data": {
      "text/html": [
       "<div>\n",
       "<style scoped>\n",
       "    .dataframe tbody tr th:only-of-type {\n",
       "        vertical-align: middle;\n",
       "    }\n",
       "\n",
       "    .dataframe tbody tr th {\n",
       "        vertical-align: top;\n",
       "    }\n",
       "\n",
       "    .dataframe thead th {\n",
       "        text-align: right;\n",
       "    }\n",
       "</style>\n",
       "<table border=\"1\" class=\"dataframe\">\n",
       "  <thead>\n",
       "    <tr style=\"text-align: right;\">\n",
       "      <th></th>\n",
       "      <th>total_fare</th>\n",
       "    </tr>\n",
       "  </thead>\n",
       "  <tbody>\n",
       "    <tr>\n",
       "      <th>0</th>\n",
       "      <td>20.0</td>\n",
       "    </tr>\n",
       "    <tr>\n",
       "      <th>1</th>\n",
       "      <td>169.0</td>\n",
       "    </tr>\n",
       "    <tr>\n",
       "      <th>2</th>\n",
       "      <td>240.0</td>\n",
       "    </tr>\n",
       "    <tr>\n",
       "      <th>3</th>\n",
       "      <td>153.0</td>\n",
       "    </tr>\n",
       "    <tr>\n",
       "      <th>4</th>\n",
       "      <td>137.0</td>\n",
       "    </tr>\n",
       "  </tbody>\n",
       "</table>\n",
       "</div>"
      ],
      "text/plain": [
       "   total_fare\n",
       "0        20.0\n",
       "1       169.0\n",
       "2       240.0\n",
       "3       153.0\n",
       "4       137.0"
      ]
     },
     "execution_count": 11,
     "metadata": {},
     "output_type": "execute_result"
    }
   ],
   "source": [
    "y_train.head(5)"
   ]
  },
  {
   "cell_type": "code",
   "execution_count": 12,
   "metadata": {},
   "outputs": [
    {
     "name": "stdout",
     "output_type": "stream",
     "text": [
      "Training dataset job started successfully, you can follow the progress at \n",
      "https://c.app.hopsworks.ai/p/164/jobs/named/nyc_taxi_fares_fv_1_2_create_fv_td_18082022212036/executions\n"
     ]
    },
    {
     "name": "stderr",
     "output_type": "stream",
     "text": [
      "VersionWarning: Incremented version to `2`.\n"
     ]
    },
    {
     "data": {
      "text/plain": [
       "(2, <hsfs.core.job.Job at 0x27e687b5610>)"
      ]
     },
     "execution_count": 12,
     "metadata": {},
     "output_type": "execute_result"
    }
   ],
   "source": [
    "nyc_fares_fv.create_train_test_split(\n",
    "    test_size=0.2 # here we can define the test dataset size\n",
    ")"
   ]
  },
  {
   "cell_type": "code",
   "execution_count": 13,
   "metadata": {},
   "outputs": [],
   "source": [
    "X_train, y_train, X_test, y_test = nyc_fares_fv.get_train_test_split(\n",
    "    training_dataset_version=2\n",
    ")"
   ]
  },
  {
   "cell_type": "code",
   "execution_count": 14,
   "metadata": {},
   "outputs": [
    {
     "data": {
      "text/html": [
       "<div>\n",
       "<style scoped>\n",
       "    .dataframe tbody tr th:only-of-type {\n",
       "        vertical-align: middle;\n",
       "    }\n",
       "\n",
       "    .dataframe tbody tr th {\n",
       "        vertical-align: top;\n",
       "    }\n",
       "\n",
       "    .dataframe thead th {\n",
       "        text-align: right;\n",
       "    }\n",
       "</style>\n",
       "<table border=\"1\" class=\"dataframe\">\n",
       "  <thead>\n",
       "    <tr style=\"text-align: right;\">\n",
       "      <th></th>\n",
       "      <th>month_of_the_ride</th>\n",
       "      <th>ride_id</th>\n",
       "      <th>passenger_count</th>\n",
       "      <th>distance</th>\n",
       "      <th>pickup_distance_to_jfk</th>\n",
       "      <th>dropoff_distance_to_jfk</th>\n",
       "      <th>pickup_distance_to_ewr</th>\n",
       "      <th>dropoff_distance_to_ewr</th>\n",
       "      <th>pickup_distance_to_lgr</th>\n",
       "      <th>dropoff_distance_to_lgr</th>\n",
       "      <th>year</th>\n",
       "      <th>weekday</th>\n",
       "      <th>hour</th>\n",
       "    </tr>\n",
       "  </thead>\n",
       "  <tbody>\n",
       "    <tr>\n",
       "      <th>0</th>\n",
       "      <td>197001</td>\n",
       "      <td>d070e81b13f9d4ee015365f50c2b2218</td>\n",
       "      <td>3</td>\n",
       "      <td>25.752523</td>\n",
       "      <td>22.054872</td>\n",
       "      <td>28.265240</td>\n",
       "      <td>30.532599</td>\n",
       "      <td>47.690248</td>\n",
       "      <td>15.095869</td>\n",
       "      <td>31.496596</td>\n",
       "      <td>1970</td>\n",
       "      <td>0</td>\n",
       "      <td>13</td>\n",
       "    </tr>\n",
       "    <tr>\n",
       "      <th>1</th>\n",
       "      <td>197001</td>\n",
       "      <td>1f609c564f968ca69591b3e7714c9692</td>\n",
       "      <td>3</td>\n",
       "      <td>63.851680</td>\n",
       "      <td>61.279378</td>\n",
       "      <td>40.410433</td>\n",
       "      <td>74.773954</td>\n",
       "      <td>30.644042</td>\n",
       "      <td>58.522090</td>\n",
       "      <td>29.825254</td>\n",
       "      <td>1970</td>\n",
       "      <td>0</td>\n",
       "      <td>14</td>\n",
       "    </tr>\n",
       "    <tr>\n",
       "      <th>2</th>\n",
       "      <td>197001</td>\n",
       "      <td>07645c3c6b9154d6e56ee7d293f9e00f</td>\n",
       "      <td>4</td>\n",
       "      <td>23.301742</td>\n",
       "      <td>74.100019</td>\n",
       "      <td>51.679051</td>\n",
       "      <td>87.120651</td>\n",
       "      <td>63.827367</td>\n",
       "      <td>71.076367</td>\n",
       "      <td>47.910363</td>\n",
       "      <td>1970</td>\n",
       "      <td>0</td>\n",
       "      <td>14</td>\n",
       "    </tr>\n",
       "    <tr>\n",
       "      <th>3</th>\n",
       "      <td>197001</td>\n",
       "      <td>da8f1aeb90ae756d4a37816b16754204</td>\n",
       "      <td>1</td>\n",
       "      <td>73.733474</td>\n",
       "      <td>83.076283</td>\n",
       "      <td>9.932646</td>\n",
       "      <td>72.789475</td>\n",
       "      <td>14.184656</td>\n",
       "      <td>72.450431</td>\n",
       "      <td>3.128552</td>\n",
       "      <td>1970</td>\n",
       "      <td>0</td>\n",
       "      <td>14</td>\n",
       "    </tr>\n",
       "    <tr>\n",
       "      <th>4</th>\n",
       "      <td>197001</td>\n",
       "      <td>761bb0add35b8a4d4c7e381c218f2b0d</td>\n",
       "      <td>3</td>\n",
       "      <td>33.338616</td>\n",
       "      <td>53.130341</td>\n",
       "      <td>35.018678</td>\n",
       "      <td>54.076853</td>\n",
       "      <td>24.444730</td>\n",
       "      <td>44.094011</td>\n",
       "      <td>24.585567</td>\n",
       "      <td>1970</td>\n",
       "      <td>0</td>\n",
       "      <td>14</td>\n",
       "    </tr>\n",
       "  </tbody>\n",
       "</table>\n",
       "</div>"
      ],
      "text/plain": [
       "   month_of_the_ride                           ride_id  passenger_count  \\\n",
       "0             197001  d070e81b13f9d4ee015365f50c2b2218                3   \n",
       "1             197001  1f609c564f968ca69591b3e7714c9692                3   \n",
       "2             197001  07645c3c6b9154d6e56ee7d293f9e00f                4   \n",
       "3             197001  da8f1aeb90ae756d4a37816b16754204                1   \n",
       "4             197001  761bb0add35b8a4d4c7e381c218f2b0d                3   \n",
       "\n",
       "    distance  pickup_distance_to_jfk  dropoff_distance_to_jfk  \\\n",
       "0  25.752523               22.054872                28.265240   \n",
       "1  63.851680               61.279378                40.410433   \n",
       "2  23.301742               74.100019                51.679051   \n",
       "3  73.733474               83.076283                 9.932646   \n",
       "4  33.338616               53.130341                35.018678   \n",
       "\n",
       "   pickup_distance_to_ewr  dropoff_distance_to_ewr  pickup_distance_to_lgr  \\\n",
       "0               30.532599                47.690248               15.095869   \n",
       "1               74.773954                30.644042               58.522090   \n",
       "2               87.120651                63.827367               71.076367   \n",
       "3               72.789475                14.184656               72.450431   \n",
       "4               54.076853                24.444730               44.094011   \n",
       "\n",
       "   dropoff_distance_to_lgr  year  weekday  hour  \n",
       "0                31.496596  1970        0    13  \n",
       "1                29.825254  1970        0    14  \n",
       "2                47.910363  1970        0    14  \n",
       "3                 3.128552  1970        0    14  \n",
       "4                24.585567  1970        0    14  "
      ]
     },
     "execution_count": 14,
     "metadata": {},
     "output_type": "execute_result"
    }
   ],
   "source": [
    "X_test.head(5)"
   ]
  },
  {
   "cell_type": "code",
   "execution_count": 15,
   "metadata": {},
   "outputs": [
    {
     "data": {
      "text/html": [
       "<div>\n",
       "<style scoped>\n",
       "    .dataframe tbody tr th:only-of-type {\n",
       "        vertical-align: middle;\n",
       "    }\n",
       "\n",
       "    .dataframe tbody tr th {\n",
       "        vertical-align: top;\n",
       "    }\n",
       "\n",
       "    .dataframe thead th {\n",
       "        text-align: right;\n",
       "    }\n",
       "</style>\n",
       "<table border=\"1\" class=\"dataframe\">\n",
       "  <thead>\n",
       "    <tr style=\"text-align: right;\">\n",
       "      <th></th>\n",
       "      <th>total_fare</th>\n",
       "    </tr>\n",
       "  </thead>\n",
       "  <tbody>\n",
       "    <tr>\n",
       "      <th>0</th>\n",
       "      <td>20.0</td>\n",
       "    </tr>\n",
       "    <tr>\n",
       "      <th>1</th>\n",
       "      <td>29.0</td>\n",
       "    </tr>\n",
       "    <tr>\n",
       "      <th>2</th>\n",
       "      <td>35.0</td>\n",
       "    </tr>\n",
       "    <tr>\n",
       "      <th>3</th>\n",
       "      <td>48.0</td>\n",
       "    </tr>\n",
       "    <tr>\n",
       "      <th>4</th>\n",
       "      <td>84.0</td>\n",
       "    </tr>\n",
       "  </tbody>\n",
       "</table>\n",
       "</div>"
      ],
      "text/plain": [
       "   total_fare\n",
       "0        20.0\n",
       "1        29.0\n",
       "2        35.0\n",
       "3        48.0\n",
       "4        84.0"
      ]
     },
     "execution_count": 15,
     "metadata": {},
     "output_type": "execute_result"
    }
   ],
   "source": [
    "y_test.head(5)"
   ]
  },
  {
   "cell_type": "markdown",
   "metadata": {},
   "source": [
    "## <span style=\"color:#ff5f27;\">⏭️ **Next:** Part 03 </span>\n",
    "\n",
    "In the next notebook, we will train a model on the dataset we created in this notebook."
   ]
  }
 ],
 "metadata": {
  "interpreter": {
   "hash": "31f2aee4e71d21fbe5cf8b01ff0e069b9275f58929596ceb00d14d90e3e16cd6"
  },
  "kernelspec": {
   "display_name": "Python 3 (ipykernel)",
   "language": "python",
   "name": "python3"
  },
  "language_info": {
   "codemirror_mode": {
    "name": "ipython",
    "version": 3
   },
   "file_extension": ".py",
   "mimetype": "text/x-python",
   "name": "python",
   "nbconvert_exporter": "python",
   "pygments_lexer": "ipython3",
   "version": "3.8.0"
  }
 },
 "nbformat": 4,
 "nbformat_minor": 4
}
