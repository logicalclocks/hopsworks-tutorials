{
 "cells": [
  {
   "cell_type": "markdown",
   "id": "f4f43ac5",
   "metadata": {},
   "source": [
    "# <span style=\"font-width:bold; font-size: 3rem; color:#1EB182;\"><img src=\"../../images/icon102.png\" width=\"38px\"></img> **Hopsworks Feature Store** </span><span style=\"font-width:bold; font-size: 3rem; color:#333;\">- Part 03: Inference Pipeline</span>\n"
   ]
  },
  {
   "cell_type": "markdown",
   "id": "48cfbe50",
   "metadata": {},
   "source": [
    "## <span style=\"color:#ff5f27;\"> 📡 Connecting to Hopsworks Feature Store </span>"
   ]
  },
  {
   "cell_type": "code",
   "execution_count": null,
   "id": "fbcb8dda",
   "metadata": {},
   "outputs": [],
   "source": [
    "import hopsworks\n",
    "\n",
    "project = hopsworks.login()\n",
    "\n",
    "fs = project.get_feature_store()"
   ]
  },
  {
   "cell_type": "markdown",
   "id": "76f36860",
   "metadata": {},
   "source": [
    "## <span style=\"color:#ff5f27;\"> ⚙️ Feature Retrieval</span>\n",
    "Let's retrieve a feature group in order to get cc_num values. The use the feature view to retrive the feature's needed to make predictions."
   ]
  },
  {
   "cell_type": "code",
   "execution_count": null,
   "id": "11e35a86",
   "metadata": {},
   "outputs": [],
   "source": [
    "trans_fg = fs.get_feature_group(\n",
    "    name=\"transactions_fraud_streaming_fg\",\n",
    "    version=1,\n",
    ")"
   ]
  },
  {
   "cell_type": "code",
   "execution_count": null,
   "id": "92d5aa29",
   "metadata": {},
   "outputs": [],
   "source": [
    "# Retrieve the first 5 unique credit card numbers (cc_nums)\n",
    "cc_nums = trans_fg.select('cc_num').show(5).cc_num.values\n",
    "\n",
    "# Display the obtained cc_nums\n",
    "cc_nums"
   ]
  },
  {
   "cell_type": "markdown",
   "id": "053da208",
   "metadata": {},
   "source": [
    "Now we initlize the feature view using the training data version to retrive feature vector's"
   ]
  },
  {
   "cell_type": "markdown",
   "id": "c4549b3c",
   "metadata": {},
   "source": [
    "## <span style=\"color:#ff5f27;\">🗄 Model Registry</span>\n"
   ]
  },
  {
   "cell_type": "code",
   "execution_count": null,
   "id": "d9f51718",
   "metadata": {},
   "outputs": [],
   "source": [
    "# Get the Model Registry\n",
    "mr = project.get_model_registry()"
   ]
  },
  {
   "cell_type": "markdown",
   "id": "590d597d",
   "metadata": {},
   "source": [
    "## <span style='color:#ff5f27'>🚀 Fetch Deployment</span>"
   ]
  },
  {
   "cell_type": "code",
   "execution_count": null,
   "id": "f91ac6ba",
   "metadata": {},
   "outputs": [],
   "source": [
    "# Access the Model Serving\n",
    "ms = project.get_model_serving()\n",
    "\n",
    "# Specify the deployment name\n",
    "deployment_name = \"fraudonlinemodeldeployment\"\n",
    "\n",
    "# Get the deployment with the specified name\n",
    "deployment = ms.get_deployment(deployment_name)\n",
    "\n",
    "# Start the deployment and wait for it to be in a running state for up to 300 seconds\n",
    "deployment.start(await_running=300)"
   ]
  },
  {
   "cell_type": "markdown",
   "id": "765057a0",
   "metadata": {},
   "source": [
    "## <span style='color:#ff5f27'>🔮 Predicting using deployment</span>\n",
    "\n",
    "\n",
    "Finally you can start making predictions with your model!\n",
    "\n",
    "Send inference requests to the deployed model as follows:"
   ]
  },
  {
   "cell_type": "code",
   "execution_count": null,
   "id": "6becd6b1",
   "metadata": {},
   "outputs": [],
   "source": [
    "# Get the first credit card number\n",
    "cc_num = cc_nums[0]\n",
    "cc_num"
   ]
  },
  {
   "cell_type": "code",
   "execution_count": null,
   "id": "650af1b0",
   "metadata": {},
   "outputs": [],
   "source": [
    "# Make a prediction\n",
    "deployment.predict(\n",
    "    inputs=[int(cc_num)],\n",
    ")"
   ]
  },
  {
   "cell_type": "code",
   "execution_count": null,
   "id": "ae6fdbd5",
   "metadata": {},
   "outputs": [],
   "source": [
    "# Predict for several cc_nums\n",
    "predictions = [\n",
    "    deployment.predict(inputs=[int(cc_num)])['predictions'] \n",
    "    for cc_num\n",
    "    in cc_nums\n",
    "]\n",
    "predictions"
   ]
  },
  {
   "cell_type": "markdown",
   "id": "61371f50",
   "metadata": {},
   "source": [
    "### Stop Deployment\n",
    "To stop the deployment you simply run:"
   ]
  },
  {
   "cell_type": "code",
   "execution_count": null,
   "id": "b9b01645",
   "metadata": {},
   "outputs": [],
   "source": [
    "# Stop the deployment\n",
    "deployment.stop(await_stopped=180)"
   ]
  },
  {
   "cell_type": "markdown",
   "id": "933bde72",
   "metadata": {},
   "source": [
    "## <span style=\"color:#ff5f27;\">👾 StreamLit App</span>\n",
    "\n",
    "\n",
    "If you want to see interactive dashboards - use a **StreamLit App**.\n",
    "\n",
    "Type the next commands in terminal to run a Streamlit App:\n",
    "\n",
    "`python -m streamlit run streamlit_app.py`"
   ]
  },
  {
   "cell_type": "markdown",
   "id": "2f4544e7",
   "metadata": {},
   "source": [
    "---\n",
    "\n",
    "### <span style=\"color:#ff5f27;\">🥳 <b> Next Steps  </b> </span>\n",
    "Congratulations you've now completed the Fraud Online tutorial for Managed Hopsworks.\n",
    "\n",
    "Check out our other tutorials on ➡ https://github.com/logicalclocks/hopsworks-tutorials\n",
    "\n",
    "Or documentation at ➡ https://docs.hopsworks.ai"
   ]
  }
 ],
 "metadata": {
  "kernelspec": {
   "display_name": "Python 3 (ipykernel)",
   "language": "python",
   "name": "python3"
  },
  "language_info": {
   "codemirror_mode": {
    "name": "ipython",
    "version": 3
   },
   "file_extension": ".py",
   "mimetype": "text/x-python",
   "name": "python",
   "nbconvert_exporter": "python",
   "pygments_lexer": "ipython3",
   "version": "3.8.18"
  }
 },
 "nbformat": 4,
 "nbformat_minor": 5
}
