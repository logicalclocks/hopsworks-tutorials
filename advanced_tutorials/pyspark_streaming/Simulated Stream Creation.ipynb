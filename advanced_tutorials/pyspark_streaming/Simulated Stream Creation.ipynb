{
 "cells": [
  {
   "cell_type": "markdown",
   "id": "d48f2deb",
   "metadata": {},
   "source": [
    "# <span style=\"font-width:bold; font-size: 3rem; color:#1EB182;\"><img src=\"../images/icon102.png\" width=\"38px\"></img> **Hopsworks Feature Store** </span><span style=\"font-width:bold; font-size: 3rem; color:#333;\">\n",
    "\n",
    "<span style=\"font-width:bold; font-size: 1.4rem;\">This notebook creates a data stream using Hopsworks Internal Kafka</span>\n",
    "\n",
    "## 🗒️ This notebook is divided into the following sections:\n",
    "\n",
    "1. Creating Simulated Data\n",
    "2. Creating Kafka Topic and Schema in Hopsworks Feature Store\n",
    "3. Sending Data to Kafka"
   ]
  },
  {
   "cell_type": "markdown",
   "id": "15e3878a",
   "metadata": {},
   "source": [
    "## <span style='color:#ff5f27'> 📝 Imports"
   ]
  },
  {
   "cell_type": "code",
   "execution_count": 1,
   "id": "c633d356",
   "metadata": {},
   "outputs": [
    {
     "name": "stdout",
     "output_type": "stream",
     "text": [
      "\u001b[33mWARNING: Running pip as the 'root' user can result in broken permissions and conflicting behaviour with the system package manager. It is recommended to use a virtual environment instead: https://pip.pypa.io/warnings/venv\u001b[0m\u001b[33m\n",
      "\u001b[0m"
     ]
    }
   ],
   "source": [
    "!pip install faker --quiet"
   ]
  },
  {
   "cell_type": "code",
   "execution_count": 10,
   "id": "bfc5f6e0",
   "metadata": {},
   "outputs": [],
   "source": [
    "import pandas as pd\n",
    "from synthetic_data import synthetic_data\n",
    "from confluent_kafka import Producer"
   ]
  },
  {
   "cell_type": "markdown",
   "id": "154e65f1",
   "metadata": {},
   "source": [
    "## <span style=\"color:#ff5f27;\"> ✏️ Creating Simulated Data </span>"
   ]
  },
  {
   "cell_type": "code",
   "execution_count": 11,
   "id": "9444c0b2",
   "metadata": {},
   "outputs": [],
   "source": [
    "data_simulater = synthetic_data.synthetic_data()\n",
    "\n",
    "credit_cards, trans_df = data_simulater.create_simulated_transactions()"
   ]
  },
  {
   "cell_type": "markdown",
   "id": "2f3fb67b",
   "metadata": {},
   "source": [
    "## <span style=\"color:#ff5f27;\"> 📡 Connecting to Hopsworks Feature Store </span>"
   ]
  },
  {
   "cell_type": "code",
   "execution_count": 12,
   "id": "83a2d0d3",
   "metadata": {},
   "outputs": [
    {
     "name": "stdout",
     "output_type": "stream",
     "text": [
      "Connection closed.\n",
      "Connected. Call `.close()` to terminate connection gracefully.\n",
      "\n",
      "Logged in to project, explore it here https://staging.cloud.hopsworks.ai/p/124\n"
     ]
    }
   ],
   "source": [
    "import hopsworks\n",
    "\n",
    "project = hopsworks.login()\n",
    "\n",
    "kafka_api = project.get_kafka_api()"
   ]
  },
  {
   "cell_type": "markdown",
   "id": "de5aa4a9",
   "metadata": {},
   "source": [
    "## <span style=\"color:#ff5f27;\"> ⚙️ Kafka Topic and Schema Creation </span>"
   ]
  },
  {
   "cell_type": "code",
   "execution_count": 13,
   "id": "dbed6eb4",
   "metadata": {},
   "outputs": [],
   "source": [
    "# create kafka topic\n",
    "KAFKA_TOPIC_NAME = \"transactions_topic\"\n",
    "SCHEMA_NAME = \"transactions_schema\""
   ]
  },
  {
   "cell_type": "code",
   "execution_count": 14,
   "id": "3b388b1a",
   "metadata": {},
   "outputs": [],
   "source": [
    "schema = {\n",
    "    \"type\": \"record\",\n",
    "    \"name\": SCHEMA_NAME,\n",
    "    \"namespace\": \"io.hops.examples.pyspark.example\",\n",
    "    \"fields\": [\n",
    "        {\n",
    "            \"name\": \"tid\",\n",
    "            \"type\": [\n",
    "                \"null\",\n",
    "                \"string\"\n",
    "            ]\n",
    "        },\n",
    "        {\n",
    "            \"name\": \"datetime\",\n",
    "            \"type\": [\n",
    "                \"null\",\n",
    "                {\n",
    "                    \"type\": \"long\",\n",
    "                    \"logicalType\": \"timestamp-micros\"\n",
    "                }\n",
    "            ]\n",
    "        },\n",
    "        {\n",
    "            \"name\": \"cc_num\",\n",
    "            \"type\": [\n",
    "                \"null\",\n",
    "                \"long\"\n",
    "            ]\n",
    "        },\n",
    "        {\n",
    "            \"name\": \"category\",\n",
    "            \"type\": [\n",
    "                \"null\",\n",
    "                \"string\"\n",
    "            ]\n",
    "        },\n",
    "        {\n",
    "            \"name\": \"amount\",\n",
    "            \"type\": [\n",
    "                \"null\",\n",
    "                \"double\"\n",
    "            ]\n",
    "        },\n",
    "        {\n",
    "            \"name\": \"latitude\",\n",
    "            \"type\": [\n",
    "                \"null\",\n",
    "                \"double\"\n",
    "            ]\n",
    "        },\n",
    "        {\n",
    "            \"name\": \"longitude\",\n",
    "            \"type\": [\n",
    "                \"null\",\n",
    "                \"double\"\n",
    "            ]\n",
    "        },\n",
    "        {\n",
    "            \"name\": \"city\",\n",
    "            \"type\": [\n",
    "                \"null\",\n",
    "                \"string\"\n",
    "            ]\n",
    "        },\n",
    "        {\n",
    "            \"name\": \"country\",\n",
    "            \"type\": [\n",
    "                \"null\",\n",
    "                \"string\"\n",
    "            ]\n",
    "        },\n",
    "        {\n",
    "            \"name\": \"fraud_label\",\n",
    "            \"type\": [\n",
    "                \"null\",\n",
    "                \"string\"\n",
    "            ]\n",
    "        },\n",
    "    ]\n",
    "}"
   ]
  },
  {
   "cell_type": "code",
   "execution_count": 15,
   "id": "8a093dd7",
   "metadata": {},
   "outputs": [],
   "source": [
    "if KAFKA_TOPIC_NAME not in [topic.name for topic in kafka_api.get_topics()]:\n",
    "    kafka_api.create_schema(SCHEMA_NAME, schema)\n",
    "    kafka_api.create_topic(KAFKA_TOPIC_NAME, SCHEMA_NAME, 1, replicas=1, partitions=1)"
   ]
  },
  {
   "cell_type": "markdown",
   "id": "135c4072",
   "metadata": {},
   "source": [
    "## <span style=\"color:#ff5f27;\"> 📡 Sending Data using created Kafka Topic </span>"
   ]
  },
  {
   "cell_type": "code",
   "execution_count": 16,
   "id": "2d47085f",
   "metadata": {},
   "outputs": [],
   "source": [
    "trans_df[\"tid\"] = trans_df[\"tid\"].astype(\"string\")\n",
    "trans_df[\"datetime\"] = pd.to_datetime(trans_df[\"datetime\"])\n",
    "trans_df[\"cc_num\"] = trans_df[\"cc_num\"].astype(\"int64\")\n",
    "trans_df[\"category\"] = trans_df[\"cc_num\"].astype(\"string\")\n",
    "trans_df[\"amount\"] = trans_df[\"amount\"].astype(\"double\")\n",
    "trans_df[\"latitude\"] = trans_df[\"latitude\"].astype(\"double\")\n",
    "trans_df[\"longitude\"] = trans_df[\"longitude\"].astype(\"double\")\n",
    "trans_df[\"city\"] = trans_df[\"city\"].astype(\"string\")\n",
    "trans_df[\"country\"] = trans_df[\"country\"].astype(\"string\")\n",
    "trans_df[\"fraud_label\"] = trans_df[\"fraud_label\"].astype(\"string\")"
   ]
  },
  {
   "cell_type": "code",
   "execution_count": null,
   "id": "61263e9b",
   "metadata": {},
   "outputs": [],
   "source": [
    "kafka_config = kafka_api.get_default_config()\n",
    "\n",
    "producer = Producer(kafka_config)\n",
    "\n",
    "for index, transaction in trans_df.iterrows():\n",
    "    producer.produce(KAFKA_TOPIC_NAME, transaction.to_json())\n",
    "    producer.flush()"
   ]
  },
  {
   "cell_type": "markdown",
   "id": "6a5d0799",
   "metadata": {},
   "source": [
    "---\n",
    "## <span style=\"color:#ff5f27;\">⏭️ **Next:** Part 01: Feature Pipeline</span>\n",
    "\n",
    "In the following notebook you will use the created Kafka stream to insert data into a Feature Group"
   ]
  }
 ],
 "metadata": {
  "kernelspec": {
   "display_name": "Python 3",
   "language": "python",
   "name": "python3"
  },
  "language_info": {
   "codemirror_mode": {
    "name": "ipython",
    "version": 3
   },
   "file_extension": ".py",
   "mimetype": "text/x-python",
   "name": "python",
   "nbconvert_exporter": "python",
   "pygments_lexer": "ipython3",
   "version": "3.10.11"
  }
 },
 "nbformat": 4,
 "nbformat_minor": 5
}
