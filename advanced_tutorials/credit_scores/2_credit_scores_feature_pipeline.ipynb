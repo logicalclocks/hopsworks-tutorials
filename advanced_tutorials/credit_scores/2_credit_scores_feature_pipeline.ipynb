{
 "cells": [
  {
   "cell_type": "markdown",
   "id": "e4a4651b",
   "metadata": {},
   "source": [
    "# <span style=\"font-width:bold; font-size: 3rem; color:#1EB182;\"><img src=\"../../images/icon102.png\" width=\"38px\"></img> **Hopsworks Feature Store** </span><span style=\"font-width:bold; font-size: 3rem; color:#333;\">- Part 02: Feature Pipeline</span>\n",
    "\n",
    "\n",
    "## 🗒️ This notebook is divided into the following sections:\n",
    "1. Data Generation.\n",
    "2. Feature Group insertion."
   ]
  },
  {
   "cell_type": "markdown",
   "id": "6fc5c2aa",
   "metadata": {},
   "source": [
    "## <span style='color:#ff5f27'> 📝 Imports"
   ]
  },
  {
   "cell_type": "code",
   "execution_count": null,
   "id": "c0f6efe0",
   "metadata": {},
   "outputs": [],
   "source": [
    "from functions import generate_data\n",
    "from datetime import datetime\n",
    "\n",
    "#ignore warnings\n",
    "import warnings\n",
    "warnings.filterwarnings('ignore')"
   ]
  },
  {
   "cell_type": "markdown",
   "id": "128d18f2",
   "metadata": {},
   "source": [
    "## <span style=\"color:#ff5f27;\"> 🔮 Connecting to Hopsworks Feature Store </span>"
   ]
  },
  {
   "cell_type": "code",
   "execution_count": null,
   "id": "264299c3",
   "metadata": {},
   "outputs": [],
   "source": [
    "import hopsworks\n",
    "\n",
    "project = hopsworks.login()\n",
    "\n",
    "fs = project.get_feature_store() "
   ]
  },
  {
   "cell_type": "markdown",
   "id": "2113f6d2",
   "metadata": {},
   "source": [
    "## <span style=\"color:#ff5f27;\">🪄 Retrieving Feature Groups</span>"
   ]
  },
  {
   "cell_type": "markdown",
   "id": "7d41f6a5",
   "metadata": {},
   "source": [
    "#### <span style=\"color:#ff5f27;\">⛳️ Application Train Feature Group</span>"
   ]
  },
  {
   "cell_type": "code",
   "execution_count": null,
   "id": "5392fa62",
   "metadata": {},
   "outputs": [],
   "source": [
    "applications_fg = fs.get_feature_group(\n",
    "    name='applications',\n",
    "    version=1,\n",
    ")\n",
    "\n",
    "applications_df = applications_fg.read()\n",
    "applications_df.head()"
   ]
  },
  {
   "cell_type": "markdown",
   "id": "09c50194",
   "metadata": {},
   "source": [
    "#### <span style=\"color:#ff5f27;\">⛳️ Bureau Balance Feature Group</span>"
   ]
  },
  {
   "cell_type": "code",
   "execution_count": null,
   "id": "4407f16c",
   "metadata": {},
   "outputs": [],
   "source": [
    "bureau_balances_fg = fs.get_feature_group(\n",
    "    name='bureau_balances',\n",
    "    version=1,\n",
    ")\n",
    "\n",
    "bureau_balances_df = bureau_balances_fg.read()\n",
    "bureau_balances_df.head()"
   ]
  },
  {
   "cell_type": "markdown",
   "id": "1636c8ec",
   "metadata": {},
   "source": [
    "#### <span style=\"color:#ff5f27;\">⛳️ Bureau Feature Group</span>"
   ]
  },
  {
   "cell_type": "code",
   "execution_count": null,
   "id": "b4bd73a7",
   "metadata": {},
   "outputs": [],
   "source": [
    "bureaus_fg = fs.get_feature_group(\n",
    "    name='bureaus',\n",
    "    version=1,\n",
    ")\n",
    "\n",
    "bureaus_df = bureaus_fg.read()\n",
    "bureaus_df.head()"
   ]
  },
  {
   "cell_type": "markdown",
   "id": "aa8d1f18",
   "metadata": {},
   "source": [
    "#### <span style=\"color:#ff5f27;\">⛳️ Credit Card Balance Feature Group</span>"
   ]
  },
  {
   "cell_type": "code",
   "execution_count": null,
   "id": "132e0515",
   "metadata": {},
   "outputs": [],
   "source": [
    "credit_card_balances_fg = fs.get_feature_group(\n",
    "    name='credit_card_balances',\n",
    "    version=1,\n",
    ")\n",
    "\n",
    "credit_card_balances_df = credit_card_balances_fg.read()\n",
    "credit_card_balances_df.head()"
   ]
  },
  {
   "cell_type": "markdown",
   "id": "680b4258",
   "metadata": {},
   "source": [
    "#### <span style=\"color:#ff5f27;\">⛳️ Installments Payments Feature Group</span>"
   ]
  },
  {
   "cell_type": "code",
   "execution_count": null,
   "id": "8a762268",
   "metadata": {},
   "outputs": [],
   "source": [
    "installment_payments_fg = fs.get_feature_group(\n",
    "    name='installment_payments',\n",
    "    version=1,\n",
    ")\n",
    "\n",
    "installment_payments_df = installment_payments_fg.read()\n",
    "installment_payments_df.head()"
   ]
  },
  {
   "cell_type": "markdown",
   "id": "1deb0620",
   "metadata": {},
   "source": [
    "#### <span style=\"color:#ff5f27;\">⛳️ POS (point of sales) and Cash Loans Balance Feature Group</span>"
   ]
  },
  {
   "cell_type": "code",
   "execution_count": null,
   "id": "3e5424d9",
   "metadata": {},
   "outputs": [],
   "source": [
    "pos_cash_balances_fg = fs.get_feature_group(\n",
    "    name='pos_cash_balances',\n",
    "    version=1,\n",
    ")\n",
    "\n",
    "pos_cash_balances_df = pos_cash_balances_fg.read()\n",
    "pos_cash_balances_df.head()"
   ]
  },
  {
   "cell_type": "markdown",
   "id": "deb2d43d",
   "metadata": {},
   "source": [
    "#### <span style=\"color:#ff5f27;\">⛳️ Previous Application Feature Group</span>"
   ]
  },
  {
   "cell_type": "code",
   "execution_count": null,
   "id": "dcb67123",
   "metadata": {},
   "outputs": [],
   "source": [
    "previous_applications_fg = fs.get_feature_group(\n",
    "    name='previous_applications',\n",
    "    version=1,\n",
    ")\n",
    "\n",
    "previous_applications_df = previous_applications_fg.read()\n",
    "previous_applications_df.head()"
   ]
  },
  {
   "cell_type": "markdown",
   "id": "cc760910",
   "metadata": {},
   "source": [
    "#### <span style=\"color:#ff5f27;\"> ⛳️ Previous Load Counts Feature Group"
   ]
  },
  {
   "cell_type": "code",
   "execution_count": null,
   "id": "546a5b4c",
   "metadata": {},
   "outputs": [],
   "source": [
    "previous_loan_counts_fg = fs.get_feature_group(\n",
    "    name='previous_loan_counts',\n",
    "    version=1,\n",
    ")\n",
    "\n",
    "previous_loan_counts_df = previous_loan_counts_fg.read()\n",
    "previous_loan_counts_df.head()"
   ]
  },
  {
   "cell_type": "markdown",
   "id": "94c4ba70",
   "metadata": {},
   "source": [
    "---\n",
    "\n",
    "## <span style=\"color:#ff5f27;\"> 🧙🏼‍♂️ Data Generation </span>"
   ]
  },
  {
   "cell_type": "code",
   "execution_count": null,
   "id": "fb7a171f",
   "metadata": {},
   "outputs": [],
   "source": [
    "# Get today's date and time\n",
    "today_date_time = datetime.now()\n",
    "today_date_time"
   ]
  },
  {
   "cell_type": "code",
   "execution_count": null,
   "id": "7bc5dcba",
   "metadata": {},
   "outputs": [],
   "source": [
    "applications_df_generated = generate_data(applications_df)\n",
    "applications_df_generated['datetime'] = today_date_time\n",
    "applications_df_generated.head(3)"
   ]
  },
  {
   "cell_type": "code",
   "execution_count": null,
   "id": "a2e47f1a",
   "metadata": {},
   "outputs": [],
   "source": [
    "bureau_balances_df_generated = generate_data(bureau_balances_df)\n",
    "bureau_balances_df_generated.head(3)"
   ]
  },
  {
   "cell_type": "code",
   "execution_count": null,
   "id": "885c31d7",
   "metadata": {},
   "outputs": [],
   "source": [
    "bureaus_df_generated = generate_data(bureaus_df)\n",
    "bureaus_df_generated['datetime'] = today_date_time\n",
    "bureaus_df_generated.head(3)"
   ]
  },
  {
   "cell_type": "code",
   "execution_count": null,
   "id": "80007a73",
   "metadata": {},
   "outputs": [],
   "source": [
    "credit_card_balances_df_generated = generate_data(credit_card_balances_df)\n",
    "credit_card_balances_df_generated.head(3)"
   ]
  },
  {
   "cell_type": "code",
   "execution_count": null,
   "id": "15c769bc",
   "metadata": {},
   "outputs": [],
   "source": [
    "installment_payments_df_generated = generate_data(installment_payments_df)\n",
    "installment_payments_df_generated['datetime'] = today_date_time\n",
    "installment_payments_df_generated.head(3)"
   ]
  },
  {
   "cell_type": "code",
   "execution_count": null,
   "id": "9a610bdf",
   "metadata": {},
   "outputs": [],
   "source": [
    "pos_cash_balances_df_generated = generate_data(pos_cash_balances_df)\n",
    "pos_cash_balances_df_generated.head(3)"
   ]
  },
  {
   "cell_type": "code",
   "execution_count": null,
   "id": "c7688844",
   "metadata": {},
   "outputs": [],
   "source": [
    "previous_applications_df_generated = generate_data(previous_applications_df)\n",
    "previous_applications_df_generated['datetime'] = today_date_time\n",
    "previous_applications_df_generated.head(3)"
   ]
  },
  {
   "cell_type": "code",
   "execution_count": null,
   "id": "fab35cbb",
   "metadata": {},
   "outputs": [],
   "source": [
    "previous_loan_counts_df_generated = generate_data(previous_loan_counts_df)\n",
    "previous_loan_counts_df_generated.head(3)"
   ]
  },
  {
   "cell_type": "markdown",
   "id": "7afca5ac",
   "metadata": {},
   "source": [
    "### <span style='color:#ff5f27'> ⬆️ Uploading new data to the Feature Store"
   ]
  },
  {
   "cell_type": "code",
   "execution_count": null,
   "id": "76e22b7f",
   "metadata": {},
   "outputs": [],
   "source": [
    "applications_fg.insert(applications_df_generated)"
   ]
  },
  {
   "cell_type": "code",
   "execution_count": null,
   "id": "314519ea",
   "metadata": {},
   "outputs": [],
   "source": [
    "bureau_balances_fg.insert(bureau_balances_df_generated)"
   ]
  },
  {
   "cell_type": "code",
   "execution_count": null,
   "id": "c0af16ec",
   "metadata": {},
   "outputs": [],
   "source": [
    "bureaus_fg.insert(bureaus_df_generated)"
   ]
  },
  {
   "cell_type": "code",
   "execution_count": null,
   "id": "610e0982",
   "metadata": {},
   "outputs": [],
   "source": [
    "credit_card_balances_fg.insert(credit_card_balances_df_generated)"
   ]
  },
  {
   "cell_type": "code",
   "execution_count": null,
   "id": "8016add7",
   "metadata": {},
   "outputs": [],
   "source": [
    "installment_payments_fg.insert(\n",
    "    installment_payments_df_generated,\n",
    "    write_options={\"wait_for_job\": True},\n",
    ")"
   ]
  },
  {
   "cell_type": "code",
   "execution_count": null,
   "id": "10e5f793",
   "metadata": {},
   "outputs": [],
   "source": [
    "pos_cash_balances_fg.insert(pos_cash_balances_df_generated)"
   ]
  },
  {
   "cell_type": "code",
   "execution_count": null,
   "id": "486f3751",
   "metadata": {},
   "outputs": [],
   "source": [
    "previous_applications_fg.insert(previous_applications_df_generated)"
   ]
  },
  {
   "cell_type": "code",
   "execution_count": null,
   "id": "187819d3",
   "metadata": {},
   "outputs": [],
   "source": [
    "previous_loan_counts_fg.insert(previous_loan_counts_df_generated)"
   ]
  },
  {
   "cell_type": "markdown",
   "id": "0ca58c46",
   "metadata": {},
   "source": [
    "---\n",
    "## <span style=\"color:#ff5f27;\">⏭️ **Next:** Part 03: Training Pipeline </span>\n",
    "\n",
    "In the next notebook we will use our feature groups to create a feature view, training dataset, train a model and save it in model registry.\n"
   ]
  }
 ],
 "metadata": {
  "kernelspec": {
   "display_name": "Python 3",
   "language": "python",
   "name": "python3"
  },
  "language_info": {
   "codemirror_mode": {
    "name": "ipython",
    "version": 3
   },
   "file_extension": ".py",
   "mimetype": "text/x-python",
   "name": "python",
   "nbconvert_exporter": "python",
   "pygments_lexer": "ipython3",
   "version": "3.10.11"
  }
 },
 "nbformat": 4,
 "nbformat_minor": 5
}
