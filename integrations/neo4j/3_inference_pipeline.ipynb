{
 "cells": [
  {
   "cell_type": "markdown",
   "id": "c80d48b9-e5a9-4576-954a-0c34f81adaed",
   "metadata": {},
   "source": [
    "# <span style=\"font-width:bold; font-size: 3rem; color:#1EB182;\"> **Hopsworks Feature Store** </span>\n",
    "<span style=\"font-width:bold; font-size: 2rem; color:#333;\">Part 03 - Batch Inference</span>\n",
    "\n",
    "## <span style=\"color:#ff5f27;\">📝 Imports</span>"
   ]
  },
  {
   "cell_type": "code",
   "execution_count": 3,
   "id": "726e95cb-313d-4851-a0b0-59971ddde9c5",
   "metadata": {},
   "outputs": [],
   "source": [
    "import ast\n",
    "import numpy as np\n",
    "import pandas as pd\n",
    "import hopsworks\n",
    "from sklearn.preprocessing import StandardScaler\n",
    "from sklearn.metrics import mean_squared_error\n",
    "from ast import literal_eval\n",
    "from tensorflow.keras.models import Sequential\n",
    "from tensorflow.keras.layers import Dense\n",
    "import hsfs\n",
    "import os\n",
    "import joblib"
   ]
  },
  {
   "cell_type": "markdown",
   "id": "44cfa0bf-69c7-48ba-a0c3-0c988df5bcc2",
   "metadata": {},
   "source": [
    "## <span style=\"color:#ff5f27;\">📡 Connecting to Hopsworks Feature Store</span>"
   ]
  },
  {
   "cell_type": "code",
   "execution_count": 4,
   "id": "7f3ffa40-d327-42fd-86c3-afd578533b96",
   "metadata": {},
   "outputs": [
    {
     "name": "stdout",
     "output_type": "stream",
     "text": [
      "Connected. Call `.close()` to terminate connection gracefully.\n"
     ]
    }
   ],
   "source": [
    "# Login to Hopsworks\n",
    "'''\n",
    "project = hopsworks.login()\n",
    "'''\n",
    "\n",
    "project = hsfs.connection(\n",
    "    host='staging.cloud.hopsworks.ai',                 # DNS of your Feature Store instance\n",
    "    port=443,                           # Port to reach your Hopsworks instance, defaults to 443\n",
    "    project='neo4j_tutorial',               # Name of your Hopsworks Feature Store project\n",
    "    api_key_value='OzvDK7qnG4VlhPxX.3wzZfJWWFmuYegomtWDRXAAvvGhlJEPkg4bn9kSbQaWPDgC3akbtERQOojLtEl5r',            # The API key to authenticate with the feature store\n",
    "    hostname_verification=True          # Disable for self-signed certificates\n",
    ")\n",
    "\n",
    "# Retrieve Feature Store\n",
    "fs = project.get_feature_store()           # Get the project's default feature store"
   ]
  },
  {
   "cell_type": "markdown",
   "id": "c2ac075a-566f-4e93-8dea-1eb0672b2a06",
   "metadata": {},
   "source": [
    "## <span style=\"color:#ff5f27;\">⚙️ Feature View Retrieval</span>"
   ]
  },
  {
   "cell_type": "code",
   "execution_count": 5,
   "id": "e9687f79-d924-47d1-8caf-877105d3b121",
   "metadata": {},
   "outputs": [],
   "source": [
    "# Retrieve the churn_feature_view\n",
    "feature_view = fs.get_feature_view(\n",
    "        name = 'port_fv',\n",
    "        version = 1,\n",
    ")"
   ]
  },
  {
   "cell_type": "markdown",
   "id": "50012a1a-dae4-4e4e-979e-df04612270fa",
   "metadata": {},
   "source": [
    "## <span style=\"color:#ff5f27;\">🗄 Model Registry</span>"
   ]
  },
  {
   "cell_type": "code",
   "execution_count": 6,
   "id": "f41112e7-07ba-4ac7-81f7-87db41d1d8cc",
   "metadata": {},
   "outputs": [
    {
     "ename": "AttributeError",
     "evalue": "'Connection' object has no attribute 'get_model_registry'",
     "output_type": "error",
     "traceback": [
      "\u001b[0;31m---------------------------------------------------------------------------\u001b[0m",
      "\u001b[0;31mAttributeError\u001b[0m                            Traceback (most recent call last)",
      "Cell \u001b[0;32mIn[6], line 2\u001b[0m\n\u001b[1;32m      1\u001b[0m \u001b[38;5;66;03m# Get the model registry\u001b[39;00m\n\u001b[0;32m----> 2\u001b[0m mr \u001b[38;5;241m=\u001b[39m \u001b[43mproject\u001b[49m\u001b[38;5;241;43m.\u001b[39;49m\u001b[43mget_model_registry\u001b[49m()\n",
      "\u001b[0;31mAttributeError\u001b[0m: 'Connection' object has no attribute 'get_model_registry'"
     ]
    }
   ],
   "source": [
    "# Get the model registry\n",
    "mr = project.get_model_registry()"
   ]
  },
  {
   "cell_type": "markdown",
   "id": "2769423b-e5ff-44bc-b048-d9cb0f95eda7",
   "metadata": {},
   "source": [
    "## <span style=\"color:#ff5f27;\">🚀 Fetch the model</span>"
   ]
  },
  {
   "cell_type": "code",
   "execution_count": 20,
   "id": "3c219e1b-195c-4d0d-a797-038003f9dc7d",
   "metadata": {},
   "outputs": [
    {
     "name": "stderr",
     "output_type": "stream",
     "text": [
      "DeprecationWarning: ssl.PROTOCOL_TLS is deprecated\n"
     ]
    },
    {
     "name": "stdout",
     "output_type": "stream",
     "text": [
      "Finished: Reading data from Hopsworks, using Hive (22.24s) \n"
     ]
    }
   ],
   "source": [
    "# Retrieve the model from the model registry\n",
    "retrieved_model = mr.get_model(\n",
    "    name=\"neo4j_neural_network\",\n",
    "    version=1,\n",
    ")\n",
    "\n",
    "# Download the saved model files to a local directory\n",
    "saved_model_dir = retrieved_model.download()"
   ]
  },
  {
   "cell_type": "code",
   "execution_count": null,
   "id": "49f1b811-c2ce-454c-b23e-5312497e450c",
   "metadata": {},
   "outputs": [],
   "source": [
    "# Load the saved model using joblib from the downloaded model directory\n",
    "model = joblib.load(saved_model_dir + \"/neural_network_model.pkl\")\n",
    "\n",
    "# Display the retrieved model\n",
    "model"
   ]
  },
  {
   "cell_type": "markdown",
   "id": "a41b2568-f65b-45c6-b2c4-71f90d759d95",
   "metadata": {},
   "source": [
    "## <span style=\"color:#ff5f27;\">🔮 Use trained model for prediction</span>"
   ]
  },
  {
   "cell_type": "code",
   "execution_count": null,
   "id": "617e5834-40da-4958-b600-ae73548bdcc6",
   "metadata": {},
   "outputs": [],
   "source": [
    "# Combine embeddings and explode features\n",
    "def combine_explode_embeddings(data):\n",
    "    # Convert embeddings from String to List\n",
    "    if type(data['source_node_embedding'].iloc[0]) == str:\n",
    "        data['source_node_embedding'] = data['source_node_embedding'].apply(literal_eval)\n",
    "    if type(data['target_node_embedding'].iloc[0]) == str:\n",
    "        data['target_node_embedding'] = data['target_node_embedding'].apply(literal_eval)\n",
    "\n",
    "    # Concatenate embeddings\n",
    "    data['concatenated_embedding'] = data.source_node_embedding + data.target_node_embedding\n",
    "\n",
    "    # Remove original embedding features\n",
    "    data = data.drop(['source_node_embedding', 'target_node_embedding'], axis=1)\n",
    "\n",
    "    # Convert to Numpy array\n",
    "    data['concatenated_embedding'] = data['concatenated_embedding'].apply(np.array)\n",
    "\n",
    "    # Explode Embedding features\n",
    "    data_exploded = pd.DataFrame(\n",
    "        data['concatenated_embedding'].to_list(),\n",
    "        columns=[f'feature_{i}' for i in range(len(data.concatenated_embedding.iloc[0]))]\n",
    "    )\n",
    "    return data_exploded"
   ]
  },
  {
   "cell_type": "code",
   "execution_count": null,
   "id": "97ad8207-c8bf-41f7-ac19-11f0136dae04",
   "metadata": {},
   "outputs": [],
   "source": [
    "data = # load some nodes\n",
    "\n",
    "data_exploded = combine_explode_embeddings(data)\n",
    "\n",
    "model.predict(data_exploded)"
   ]
  },
  {
   "cell_type": "markdown",
   "id": "ef4d52e3-cb0f-4454-bdc9-bf40ff4a7c24",
   "metadata": {},
   "source": [
    "---\n",
    "\n",
    "### <span style=\"color:#ff5f27;\">🥳 <b> Next Steps  </b> </span>\n",
    "Congratulations you've now completed the churn risk prediction tutorial for Managed Hopsworks.\n",
    "\n",
    "Check out our other tutorials on ➡ https://github.com/logicalclocks/hopsworks-tutorials\n",
    "\n",
    "Or documentation at ➡ https://docs.hopsworks.ai"
   ]
  }
 ],
 "metadata": {
  "kernelspec": {
   "display_name": "Python 3 (ipykernel)",
   "language": "python",
   "name": "python3"
  },
  "language_info": {
   "codemirror_mode": {
    "name": "ipython",
    "version": 3
   },
   "file_extension": ".py",
   "mimetype": "text/x-python",
   "name": "python",
   "nbconvert_exporter": "python",
   "pygments_lexer": "ipython3",
   "version": "3.10.13"
  }
 },
 "nbformat": 4,
 "nbformat_minor": 5
}
