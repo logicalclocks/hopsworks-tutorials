{
 "cells": [
  {
   "cell_type": "markdown",
   "metadata": {
    "button": false,
    "new_sheet": false,
    "run_control": {
     "read_only": false
    }
   },
   "source": [
    "#### Prerequisites "
   ]
  },
  {
   "cell_type": "code",
   "execution_count": null,
   "metadata": {
    "button": false,
    "new_sheet": false,
    "run_control": {
     "read_only": false
    }
   },
   "outputs": [],
   "source": [
    "#!pip install Faker"
   ]
  },
  {
   "cell_type": "markdown",
   "metadata": {
    "button": false,
    "new_sheet": false,
    "run_control": {
     "read_only": false
    }
   },
   "source": [
    "#### Imports "
   ]
  },
  {
   "cell_type": "code",
   "execution_count": 1,
   "metadata": {
    "button": false,
    "new_sheet": false,
    "run_control": {
     "read_only": false
    }
   },
   "outputs": [],
   "source": [
    "import hopsworks"
   ]
  },
  {
   "cell_type": "markdown",
   "metadata": {
    "button": false,
    "new_sheet": false,
    "run_control": {
     "read_only": false
    }
   },
   "source": [
    "#### Constants "
   ]
  },
  {
   "cell_type": "code",
   "execution_count": 2,
   "metadata": {
    "button": false,
    "new_sheet": false,
    "run_control": {
     "read_only": false
    }
   },
   "outputs": [],
   "source": [
    "# change this according to your settings\n",
    "KAFKA_BROKER_ADDRES = \"broker.kafka.service.consul:9091\"\n",
    "KAFKA_TOPIC_NAME = \"credit_card_transactions\"\n",
    "SCHEMA_NAME = \"credit_card_transactions_schema\""
   ]
  },
  {
   "cell_type": "code",
   "execution_count": 3,
   "metadata": {},
   "outputs": [
    {
     "name": "stdout",
     "output_type": "stream",
     "text": [
      "Connected. Call `.close()` to terminate connection gracefully.\n",
      "\n",
      "Logged in to project, explore it here https://hopsworks0.logicalclocks.com/p/119\n"
     ]
    },
    {
     "data": {
      "text/plain": [
       "KafkaTopic('credit_card_transactions')"
      ]
     },
     "execution_count": 3,
     "metadata": {},
     "output_type": "execute_result"
    }
   ],
   "source": [
    "project = hopsworks.login()\n",
    "# create kafka topic\n",
    "kafka_api = project.get_kafka_api()\n",
    "    \n",
    "schema = {\n",
    "  \"type\" : \"record\",\n",
    "  \"name\" : SCHEMA_NAME,\n",
    "  \"namespace\" : \"io.hops.examples.flink.examples\",\n",
    "  \"fields\" : [ {\n",
    "    \"name\" : \"tid\",\n",
    "    \"type\" : [ \"null\", \"string\" ]\n",
    "  }, {\n",
    "    \"name\" : \"datetime\",\n",
    "    \"type\" : [ \"null\", \"long\" ]\n",
    "  }, {\n",
    "    \"name\" : \"cc_num\",\n",
    "    \"type\" : [ \"null\", \"long\" ]\n",
    "  }, {\n",
    "    \"name\" : \"amount\",\n",
    "    \"type\" : [ \"null\", \"double\" ]\n",
    "  } ]\n",
    "}\n",
    "    \n",
    "kafka_api.create_schema(SCHEMA_NAME, schema)\n",
    "kafka_api.create_topic(KAFKA_TOPIC_NAME, SCHEMA_NAME, 1, replicas=1, partitions=1)"
   ]
  },
  {
   "cell_type": "code",
   "execution_count": null,
   "metadata": {},
   "outputs": [],
   "source": []
  }
 ],
 "metadata": {
  "kernelspec": {
   "display_name": "Python",
   "language": "python",
   "name": "python3"
  },
  "language_info": {
   "codemirror_mode": {
    "name": "ipython",
    "version": 3
   },
   "file_extension": ".py",
   "mimetype": "text/x-python",
   "name": "python",
   "nbconvert_exporter": "python",
   "pygments_lexer": "ipython3",
   "version": "3.8.11"
  }
 },
 "nbformat": 4,
 "nbformat_minor": 4
}