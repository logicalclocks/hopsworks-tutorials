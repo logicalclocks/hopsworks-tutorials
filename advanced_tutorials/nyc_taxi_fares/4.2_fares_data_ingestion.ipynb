{
 "cells": [
  {
   "cell_type": "code",
   "execution_count": 1,
   "id": "b13c37b0",
   "metadata": {},
   "outputs": [],
   "source": [
    "import numpy as np\n",
    "import pandas as pd\n",
    "import matplotlib.pyplot as plt\n",
    "import seaborn as sns\n",
    "\n",
    "import hopsworks"
   ]
  },
  {
   "cell_type": "code",
   "execution_count": 2,
   "id": "fed7f937",
   "metadata": {},
   "outputs": [
    {
     "name": "stdout",
     "output_type": "stream",
     "text": [
      "Connected. Call `.close()` to terminate connection gracefully.\n",
      "\n",
      "Logged in to project, explore it here https://c.app.hopsworks.ai:443/p/164\n"
     ]
    },
    {
     "name": "stderr",
     "output_type": "stream",
     "text": [
      "DeprecationWarning: the imp module is deprecated in favour of importlib; see the module's documentation for alternative uses\n"
     ]
    },
    {
     "name": "stdout",
     "output_type": "stream",
     "text": [
      "Connected. Call `.close()` to terminate connection gracefully.\n"
     ]
    }
   ],
   "source": [
    "project = hopsworks.login()\n",
    "fs = project.get_feature_store()"
   ]
  },
  {
   "cell_type": "code",
   "execution_count": 3,
   "id": "0c64416f",
   "metadata": {},
   "outputs": [],
   "source": [
    "fares_fg = fs.get_or_create_feature_group(\n",
    "        name = 'fares_fg',\n",
    "        version = 1\n",
    "    )"
   ]
  },
  {
   "cell_type": "code",
   "execution_count": 4,
   "id": "d6525c55",
   "metadata": {
    "scrolled": true
   },
   "outputs": [
    {
     "name": "stdout",
     "output_type": "stream",
     "text": [
      "2022-08-16 23:16:36,054 INFO: USE `romankah_featurestore`\n",
      "2022-08-16 23:16:37,030 INFO: SELECT `fg0`.`ride_id` `ride_id`, `fg0`.`taxi_id` `taxi_id`, `fg0`.`driver_id` `driver_id`, `fg0`.`tip` `tip`, `fg0`.`tolls` `tolls`, `fg0`.`total_fare` `total_fare`\n",
      "FROM `romankah_featurestore`.`fares_fg_1` `fg0`\n"
     ]
    },
    {
     "name": "stderr",
     "output_type": "stream",
     "text": [
      "UserWarning: pandas only support SQLAlchemy connectable(engine/connection) ordatabase string URI or sqlite3 DBAPI2 connectionother DBAPI2 objects are not tested, please consider using SQLAlchemy\n"
     ]
    }
   ],
   "source": [
    "old_df_fares = fares_fg.select_all().read()"
   ]
  },
  {
   "cell_type": "code",
   "execution_count": 5,
   "id": "668a2579",
   "metadata": {
    "scrolled": false
   },
   "outputs": [
    {
     "data": {
      "text/html": [
       "<div>\n",
       "<style scoped>\n",
       "    .dataframe tbody tr th:only-of-type {\n",
       "        vertical-align: middle;\n",
       "    }\n",
       "\n",
       "    .dataframe tbody tr th {\n",
       "        vertical-align: top;\n",
       "    }\n",
       "\n",
       "    .dataframe thead th {\n",
       "        text-align: right;\n",
       "    }\n",
       "</style>\n",
       "<table border=\"1\" class=\"dataframe\">\n",
       "  <thead>\n",
       "    <tr style=\"text-align: right;\">\n",
       "      <th></th>\n",
       "      <th>ride_id</th>\n",
       "      <th>taxi_id</th>\n",
       "      <th>driver_id</th>\n",
       "      <th>tip</th>\n",
       "      <th>tolls</th>\n",
       "      <th>total_fare</th>\n",
       "    </tr>\n",
       "  </thead>\n",
       "  <tbody>\n",
       "    <tr>\n",
       "      <th>0</th>\n",
       "      <td>5139</td>\n",
       "      <td>2013000188</td>\n",
       "      <td>2013000188</td>\n",
       "      <td>6.0</td>\n",
       "      <td>0.0</td>\n",
       "      <td>19.0</td>\n",
       "    </tr>\n",
       "    <tr>\n",
       "      <th>1</th>\n",
       "      <td>5526</td>\n",
       "      <td>2013000053</td>\n",
       "      <td>2013000053</td>\n",
       "      <td>15.0</td>\n",
       "      <td>0.0</td>\n",
       "      <td>52.0</td>\n",
       "    </tr>\n",
       "    <tr>\n",
       "      <th>2</th>\n",
       "      <td>3910</td>\n",
       "      <td>2013000023</td>\n",
       "      <td>2013000023</td>\n",
       "      <td>20.0</td>\n",
       "      <td>3.0</td>\n",
       "      <td>73.0</td>\n",
       "    </tr>\n",
       "    <tr>\n",
       "      <th>3</th>\n",
       "      <td>29577</td>\n",
       "      <td>2013000019</td>\n",
       "      <td>2013000019</td>\n",
       "      <td>18.0</td>\n",
       "      <td>0.0</td>\n",
       "      <td>63.0</td>\n",
       "    </tr>\n",
       "    <tr>\n",
       "      <th>4</th>\n",
       "      <td>29441</td>\n",
       "      <td>2013000085</td>\n",
       "      <td>2013000085</td>\n",
       "      <td>20.0</td>\n",
       "      <td>0.0</td>\n",
       "      <td>69.0</td>\n",
       "    </tr>\n",
       "  </tbody>\n",
       "</table>\n",
       "</div>"
      ],
      "text/plain": [
       "   ride_id     taxi_id   driver_id   tip  tolls  total_fare\n",
       "0     5139  2013000188  2013000188   6.0    0.0        19.0\n",
       "1     5526  2013000053  2013000053  15.0    0.0        52.0\n",
       "2     3910  2013000023  2013000023  20.0    3.0        73.0\n",
       "3    29577  2013000019  2013000019  18.0    0.0        63.0\n",
       "4    29441  2013000085  2013000085  20.0    0.0        69.0"
      ]
     },
     "execution_count": 5,
     "metadata": {},
     "output_type": "execute_result"
    }
   ],
   "source": [
    "old_df_fares.head(5)"
   ]
  },
  {
   "cell_type": "code",
   "execution_count": 6,
   "id": "208e1c18",
   "metadata": {},
   "outputs": [],
   "source": [
    "last_ride_id = old_df_fares.ride_id.max()"
   ]
  },
  {
   "cell_type": "code",
   "execution_count": 7,
   "id": "7edd9af8",
   "metadata": {
    "scrolled": true
   },
   "outputs": [
    {
     "name": "stdout",
     "output_type": "stream",
     "text": [
      "Last ride_id: 41178\n"
     ]
    }
   ],
   "source": [
    "print(\"Last ride_id:\", last_ride_id)"
   ]
  },
  {
   "cell_type": "code",
   "execution_count": 8,
   "id": "3b609bc8",
   "metadata": {},
   "outputs": [],
   "source": [
    "cols = ['ride_id', 'taxi_id', 'driver_id',\n",
    "       'tip', 'tolls', 'total_fare']"
   ]
  },
  {
   "cell_type": "code",
   "execution_count": 9,
   "id": "748314e3",
   "metadata": {},
   "outputs": [],
   "source": [
    "def generate_fares_data(n_records):\n",
    "    res = pd.DataFrame(columns=cols)\n",
    "    \n",
    "    for i in range(1, n_records + 1):\n",
    "        generated_values = list()\n",
    "     \n",
    "        \n",
    "        temp_df = pd.DataFrame.from_dict({\"ride_id\": [last_ride_id + i],\n",
    "                                          \"total_fare\": [np.random.randint(3, 250)],\n",
    "                                          \"tip\": [np.random.randint(0, 60)],\n",
    "                                          \"tolls\": [np.random.randint(0, 6)],\n",
    "                                          \"taxi_id\": [np.random.choice(old_df_fares.taxi_id.unique())],\n",
    "                                          \"driver_id\": [np.random.choice(old_df_fares.driver_id.unique())]\n",
    "                                         })\n",
    "        \n",
    "        res = pd.concat([temp_df, res], ignore_index=True)\n",
    "        \n",
    "    return res"
   ]
  },
  {
   "cell_type": "code",
   "execution_count": 10,
   "id": "bb60710d",
   "metadata": {},
   "outputs": [],
   "source": [
    "df_fares = generate_fares_data(100)"
   ]
  },
  {
   "cell_type": "code",
   "execution_count": 11,
   "id": "162b9d49",
   "metadata": {},
   "outputs": [
    {
     "name": "stdout",
     "output_type": "stream",
     "text": [
      "   ride_id total_fare tip tolls     taxi_id   driver_id\n",
      "0    41278        213   3     3  2013000053  2013000094\n",
      "1    41277        205  30     3  2013000002  2013000038\n",
      "2    41276        117  58     2  2013000097  2013000095\n",
      "3    41275         33   2     3  2013000088  2013000107\n",
      "4    41274         60  58     2  2013000112  2013000009\n",
      "..     ...        ...  ..   ...         ...         ...\n",
      "95   41183        200  50     0  2013000037  2013000020\n",
      "96   41182        247   9     2  2013000118  2013000157\n",
      "97   41181        102  36     4  2013000026  2013000079\n",
      "98   41180        232  18     2  2013000112  2013000077\n",
      "99   41179        182  14     0  2013000110  2013000064\n",
      "\n",
      "[100 rows x 6 columns]\n"
     ]
    }
   ],
   "source": [
    "print(df_fares)"
   ]
  },
  {
   "cell_type": "markdown",
   "id": "b075dd19",
   "metadata": {},
   "source": [
    "## <span style=\"color:#ff5f27;\"> ⚖️ Great Expectations </span> \n",
    "\n",
    "Great Expectations’ built-in library includes more than 50 common Expectations, such as:\n",
    "\n",
    "    expect_column_values_to_not_be_null\n",
    "\n",
    "    expect_column_values_to_be_unique\n",
    "\n",
    "    expect_column_median_to_be_between...\n",
    "\n",
    "#### You can find more expectations in the [official docs](https://greatexpectations.io/expectations/)\n",
    "\n",
    "\n",
    "Clean, high quality feature data is of paramount importance to being able to train and serve high quality models. Hopsworks offers integration with [Great Expectations](https://greatexpectations.io/) to enable a smooth data validation workflow.\n",
    "\n",
    "### `More info` - [here](https://docs.hopsworks.ai/3.0/user_guides/fs/feature_group/data_validation/)"
   ]
  },
  {
   "cell_type": "code",
   "execution_count": 12,
   "id": "b36a88bf",
   "metadata": {},
   "outputs": [],
   "source": [
    "import great_expectations as ge\n",
    "\n",
    "# Create (or import an existing) expectation suite using the Great Expectations library.\n",
    "expectation_suite = ge.core.ExpectationSuite(\n",
    "    expectation_suite_name=\"validate_on_insert_suite\"\n",
    ")"
   ]
  },
  {
   "cell_type": "code",
   "execution_count": 13,
   "id": "d253a0a9",
   "metadata": {},
   "outputs": [
    {
     "data": {
      "text/plain": [
       "{\"meta\": {}, \"kwargs\": {\"column\": \"total_fare\", \"min_value\": 3, \"max_value\": 5000}, \"expectation_type\": \"expect_column_values_to_be_between\"}"
      ]
     },
     "execution_count": 13,
     "metadata": {},
     "output_type": "execute_result"
    }
   ],
   "source": [
    "# lets add an expecation to the 'total_fare' column\n",
    "expectation_suite.add_expectation(\n",
    "    ge.core.ExpectationConfiguration(\n",
    "        expectation_type=\"expect_column_values_to_be_between\",\n",
    "        kwargs={\n",
    "            \"column\": \"total_fare\",\n",
    "            \"min_value\": 3, \n",
    "            \"max_value\": 5000\n",
    "        }\n",
    "    )\n",
    ")"
   ]
  },
  {
   "cell_type": "code",
   "execution_count": 14,
   "id": "ff8c589d",
   "metadata": {},
   "outputs": [
    {
     "data": {
      "application/vnd.jupyter.widget-view+json": {
       "model_id": "1061fec4fb684b0385fb8a05a98a3251",
       "version_major": 2,
       "version_minor": 0
      },
      "text/plain": [
       "Profiling Columns:   0%|          | 0/6 [00:00<?, ?it/s, ride_id]"
      ]
     },
     "metadata": {},
     "output_type": "display_data"
    },
    {
     "name": "stdout",
     "output_type": "stream",
     "text": [
      "2022-08-16 23:16:56,905 INFO: \t45 expectation(s) included in expectation_suite.\n"
     ]
    },
    {
     "name": "stderr",
     "output_type": "stream",
     "text": [
      "DeprecationWarning: DataAsset.remove_expectations is deprecated as of v0.12.0 and will be removed in v0.16. Please use ExpectationSuite.remove_expectation instead.\n",
      "DeprecationWarning: DataAsset.remove_expectations is deprecated as of v0.12.0 and will be removed in v0.16. Please use ExpectationSuite.remove_expectation instead.\n",
      "DeprecationWarning: DataAsset.remove_expectations is deprecated as of v0.12.0 and will be removed in v0.16. Please use ExpectationSuite.remove_expectation instead.\n",
      "DeprecationWarning: DataAsset.remove_expectations is deprecated as of v0.12.0 and will be removed in v0.16. Please use ExpectationSuite.remove_expectation instead.\n",
      "DeprecationWarning: DataAsset.remove_expectations is deprecated as of v0.12.0 and will be removed in v0.16. Please use ExpectationSuite.remove_expectation instead.\n",
      "DeprecationWarning: DataAsset.remove_expectations is deprecated as of v0.12.0 and will be removed in v0.16. Please use ExpectationSuite.remove_expectation instead.\n"
     ]
    }
   ],
   "source": [
    "# Using Great Expectations Profiler\n",
    "\n",
    "ge_profiler = ge.profile.BasicSuiteBuilderProfiler()\n",
    "expectation_suite_profiler, _ = ge_profiler.profile(ge.from_pandas(df_fares)) # here we pass a DataFrame to validate"
   ]
  },
  {
   "cell_type": "code",
   "execution_count": 15,
   "id": "bd50eff7",
   "metadata": {},
   "outputs": [
    {
     "name": "stdout",
     "output_type": "stream",
     "text": [
      "Attached expectation suite to featuregroup, edit it at https://c.app.hopsworks.ai:443/p/164/fs/106/fg/596\n"
     ]
    }
   ],
   "source": [
    "# lets attach an expectation suite to your Feature Group.\n",
    "# It enables persistence of the expectation suite to the Hopsworks backend.\n",
    "fares_fg.save_expectation_suite(expectation_suite)"
   ]
  },
  {
   "cell_type": "code",
   "execution_count": 16,
   "id": "435af741",
   "metadata": {},
   "outputs": [],
   "source": [
    "df_fares = df_fares.astype(\"int64\")"
   ]
  },
  {
   "cell_type": "code",
   "execution_count": 17,
   "id": "7ca2fb05",
   "metadata": {},
   "outputs": [],
   "source": [
    "for col in [\"tip\", \"tolls\", \"total_fare\"]:\n",
    "    df_fares[col] = df_fares[col].astype(\"double\")\n"
   ]
  },
  {
   "cell_type": "code",
   "execution_count": 18,
   "id": "71f1c90c",
   "metadata": {},
   "outputs": [
    {
     "name": "stdout",
     "output_type": "stream",
     "text": [
      "2022-08-16 23:16:57,457 INFO: \t1 expectation(s) included in expectation_suite.\n",
      "Validation Report saved successfully, explore a summary at https://c.app.hopsworks.ai:443/p/164/fs/106/fg/596\n"
     ]
    },
    {
     "data": {
      "application/vnd.jupyter.widget-view+json": {
       "model_id": "904d51e710fa45a585df11bdbb00a9a4",
       "version_major": 2,
       "version_minor": 0
      },
      "text/plain": [
       "Uploading Dataframe: 0.00% |          | Rows 0/100 | Elapsed Time: 00:00 | Remaining Time: ?"
      ]
     },
     "metadata": {},
     "output_type": "display_data"
    },
    {
     "name": "stdout",
     "output_type": "stream",
     "text": [
      "Launching offline feature group backfill job...\n",
      "Backfill Job started successfully, you can follow the progress at \n",
      "https://c.app.hopsworks.ai/p/164/jobs/named/fares_fg_1_offline_fg_backfill/executions\n"
     ]
    },
    {
     "data": {
      "text/plain": [
       "(<hsfs.core.job.Job at 0x255c4015ee0>,\n",
       " {\n",
       "   \"success\": true,\n",
       "   \"results\": [\n",
       "     {\n",
       "       \"success\": true,\n",
       "       \"exception_info\": {\n",
       "         \"raised_exception\": false,\n",
       "         \"exception_message\": null,\n",
       "         \"exception_traceback\": null\n",
       "       },\n",
       "       \"expectation_config\": {\n",
       "         \"meta\": {\n",
       "           \"expectationId\": 181\n",
       "         },\n",
       "         \"kwargs\": {\n",
       "           \"column\": \"total_fare\",\n",
       "           \"min_value\": 3,\n",
       "           \"max_value\": 5000\n",
       "         },\n",
       "         \"expectation_type\": \"expect_column_values_to_be_between\"\n",
       "       },\n",
       "       \"meta\": {},\n",
       "       \"result\": {\n",
       "         \"element_count\": 100,\n",
       "         \"missing_count\": 0,\n",
       "         \"missing_percent\": 0.0,\n",
       "         \"unexpected_count\": 0,\n",
       "         \"unexpected_percent\": 0.0,\n",
       "         \"unexpected_percent_total\": 0.0,\n",
       "         \"unexpected_percent_nonmissing\": 0.0,\n",
       "         \"partial_unexpected_list\": []\n",
       "       }\n",
       "     }\n",
       "   ],\n",
       "   \"statistics\": {\n",
       "     \"evaluated_expectations\": 1,\n",
       "     \"successful_expectations\": 1,\n",
       "     \"unsuccessful_expectations\": 0,\n",
       "     \"success_percent\": 100.0\n",
       "   },\n",
       "   \"evaluation_parameters\": {},\n",
       "   \"meta\": {\n",
       "     \"great_expectations_version\": \"0.15.18\",\n",
       "     \"expectation_suite_name\": \"validate_on_insert_suite\",\n",
       "     \"run_id\": {\n",
       "       \"run_name\": null,\n",
       "       \"run_time\": \"2022-08-16T21:16:57.457523+00:00\"\n",
       "     },\n",
       "     \"batch_kwargs\": {\n",
       "       \"ge_batch_id\": \"c2945385-1da8-11ed-bd23-14abc5f42df5\"\n",
       "     },\n",
       "     \"batch_markers\": {},\n",
       "     \"batch_parameters\": {},\n",
       "     \"validation_time\": \"20220816T211657.457523Z\",\n",
       "     \"expectation_suite_meta\": {\n",
       "       \"great_expectations_version\": \"0.15.18\"\n",
       "     }\n",
       "   }\n",
       " })"
      ]
     },
     "execution_count": 18,
     "metadata": {},
     "output_type": "execute_result"
    }
   ],
   "source": [
    "fares_fg.insert(df_fares)"
   ]
  }
 ],
 "metadata": {
  "kernelspec": {
   "display_name": "Python 3 (ipykernel)",
   "language": "python",
   "name": "python3"
  },
  "language_info": {
   "codemirror_mode": {
    "name": "ipython",
    "version": 3
   },
   "file_extension": ".py",
   "mimetype": "text/x-python",
   "name": "python",
   "nbconvert_exporter": "python",
   "pygments_lexer": "ipython3",
   "version": "3.8.0"
  }
 },
 "nbformat": 4,
 "nbformat_minor": 5
}
