{
 "cells": [
  {
   "cell_type": "markdown",
   "id": "c8572ae1",
   "metadata": {
    "tags": []
   },
   "source": [
    "# <span style=\"font-width:bold; font-size: 3rem; color:#1EB182;\"><img src=\"../images/icon102.png\" width=\"38px\"></img> **Hopsworks Feature Store** </span><span style=\"font-width:bold; font-size: 3rem; color:#333;\">- Part 01: Feature Pipeline</span>\n",
    "\n",
    "[![Open In Colab](https://colab.research.google.com/assets/colab-badge.svg)](https://colab.research.google.com/github/logicalclocks/hopsworks-tutorials/blob/master/fraud_batch/1_fraud_batch_feature_pipeline.ipynb)\n",
    "\n",
    "**Note**: you may get an error when installing hopsworks on Colab, and it is safe to ignore it.\n",
    "\n",
    "This is the first part of the quick start series of tutorials about Hopsworks Feature Store. As part of this first module, you will work with data related to credit card transactions. \n",
    "The objective of this tutorial is to demonstrate how to work with the **Hopworks Feature Store**  for batch data with a goal of training and saving a model that can predict fraudulent transactions. Then try it on retrieved from Feature Store batch data.\n",
    "\n",
    "\n",
    "## 🗒️ This notebook is divided in 3 sections:\n",
    "1. Loading the data and feature engineeing,\n",
    "2. Connect to the Hopsworks Feature Store,\n",
    "3. Create feature groups and upload them to the Feature Store.\n",
    "\n",
    "![tutorial-flow](../images/01_featuregroups.png)\n",
    "\n",
    "First of all you will load the data and do some feature engineering on it."
   ]
  },
  {
   "cell_type": "markdown",
   "id": "3f7a0ac5",
   "metadata": {},
   "source": [
    "## <span style='color:#ff5f27'> 📝 Imports"
   ]
  },
  {
   "cell_type": "code",
   "execution_count": null,
   "id": "d63610bc",
   "metadata": {},
   "outputs": [],
   "source": [
    "# Hosted notebook environments may not have the local features package\n",
    "import os\n",
    "\n",
    "def need_download_modules():\n",
    "    if 'google.colab' in str(get_ipython()):\n",
    "        return True\n",
    "    if 'HOPSWORKS_PROJECT_ID' in os.environ:\n",
    "        return True\n",
    "    return False\n",
    "\n",
    "if need_download_modules():\n",
    "    print(\"⚙️ Downloading modules...\")\n",
    "    os.system('mkdir -p features')\n",
    "    os.system('cd features && wget https://raw.githubusercontent.com/logicalclocks/hopsworks-tutorials/master/fraud_batch/features/transactions_fraud.py')\n",
    "    os.system('cd features && wget https://raw.githubusercontent.com/logicalclocks/hopsworks-tutorials/master/fraud_batch/features/window_aggs.py')\n",
    "    print('✅ Done!')\n",
    "else:\n",
    "    print(\"Local environment\")"
   ]
  },
  {
   "cell_type": "code",
   "execution_count": null,
   "id": "cd1541d9",
   "metadata": {},
   "outputs": [],
   "source": [
    "from math import radians\n",
    "\n",
    "import pandas as pd\n",
    "import numpy as np\n",
    "\n",
    "from features import transactions_fraud, window_aggs\n",
    "\n",
    "import warnings\n",
    "\n",
    "# Mute warnings\n",
    "warnings.filterwarnings(\"ignore\")"
   ]
  },
  {
   "cell_type": "code",
   "execution_count": null,
   "id": "d51493cb",
   "metadata": {},
   "outputs": [],
   "source": [
    "!pip install -U hopsworks --quiet"
   ]
  },
  {
   "cell_type": "markdown",
   "id": "7d2e72bb",
   "metadata": {},
   "source": [
    "## <span style=\"color:#ff5f27;\"> 💽 Loading the Data </span>\n",
    "\n",
    "The data you will use comes from three different CSV files:\n",
    "\n",
    "- `credit_cards.csv`: credit card information such as expiration date and provider.\n",
    "- `transactions.csv`: transaction information such as timestamp, location, and the amount. Importantly, the binary `fraud_label` variable tells us whether a transaction was fraudulent or not.\n",
    "- `profiles.csv`: credit card user information such as birthdate and city of residence.\n",
    "\n",
    "You can conceptualize these CSV files as originating from separate data sources.\n",
    "**All three files have a credit card number column `cc_num` in common, which you can use for joins.**\n",
    "\n",
    "Let's go ahead and load the data."
   ]
  },
  {
   "cell_type": "code",
   "execution_count": null,
   "id": "b2bbe076",
   "metadata": {},
   "outputs": [],
   "source": [
    "credit_cards_df = pd.read_csv(\"https://repo.hops.works/master/hopsworks-tutorials/data/card_fraud_data/credit_cards.csv\")\n",
    "credit_cards_df.head(3)"
   ]
  },
  {
   "cell_type": "code",
   "execution_count": null,
   "id": "dca37983",
   "metadata": {},
   "outputs": [],
   "source": [
    "profiles_df = pd.read_csv(\"https://repo.hops.works/master/hopsworks-tutorials/data/card_fraud_data/profiles.csv\", parse_dates=[\"birthdate\"])\n",
    "profiles_df.head(3)"
   ]
  },
  {
   "cell_type": "code",
   "execution_count": null,
   "id": "46874951",
   "metadata": {},
   "outputs": [],
   "source": [
    "trans_df = pd.read_csv(\"https://repo.hops.works/master/hopsworks-tutorials/data/card_fraud_data/transactions.csv\", parse_dates=[\"datetime\"])\n",
    "trans_df.head(3)"
   ]
  },
  {
   "cell_type": "markdown",
   "id": "45720ec1",
   "metadata": {},
   "source": [
    "---"
   ]
  },
  {
   "cell_type": "markdown",
   "id": "41be3e46",
   "metadata": {},
   "source": [
    "## <span style=\"color:#ff5f27;\"> 🛠️ Feature Engineering </span>\n",
    "\n",
    "Fraudulent transactions can differ from regular ones in many different ways. Typical red flags would for instance be a large transaction volume/frequency in the span of a few hours. It could also be the case that elderly people in particular are targeted by fraudsters. To facilitate model learning you will create additional features based on these patterns. In particular, you will create two types of features:\n",
    "1. **Features that aggregate data from different data sources**. This could for instance be the age of a customer at the time of a transaction, which combines the `birthdate` feature from `profiles.csv` with the `datetime` feature from `transactions.csv`.\n",
    "2. **Features that aggregate data from multiple time steps**. An example of this could be the transaction frequency of a credit card in the span of a few hours, which is computed using a window function.\n",
    "\n",
    "Let's start with the first category."
   ]
  },
  {
   "cell_type": "code",
   "execution_count": null,
   "id": "3407147d",
   "metadata": {},
   "outputs": [],
   "source": [
    "# Compute age at transaction.\n",
    "trans_df = transactions_fraud.get_age_at_transaction(trans_df, profiles_df)\n",
    "\n",
    "# Compute days until card expires.\n",
    "trans_df = transactions_fraud.get_days_until_card_expires(trans_df, credit_cards_df)\n",
    "\n",
    "trans_df[[\"age_at_transaction\", \"days_until_card_expires\"]].head()"
   ]
  },
  {
   "cell_type": "code",
   "execution_count": null,
   "id": "05f1d168-0849-427e-a6f9-08bc282c28d6",
   "metadata": {},
   "outputs": [],
   "source": [
    "trans_df = trans_df.drop_duplicates([\"datetime\"])"
   ]
  },
  {
   "cell_type": "markdown",
   "id": "86626356",
   "metadata": {},
   "source": [
    "Next, you will create features that for each credit card aggregate data from multiple time steps.\n",
    "\n",
    "Yoy will start by computing the distance between consecutive transactions, lets call it `loc_delta`.\n",
    "Here you will use the [Haversine distance](https://scikit-learn.org/stable/modules/generated/sklearn.metrics.pairwise.haversine_distances.html?highlight=haversine#sklearn.metrics.pairwise.haversine_distances) to quantify the distance between two longitude and latitude coordinates."
   ]
  },
  {
   "cell_type": "code",
   "execution_count": null,
   "id": "2ac9cb86",
   "metadata": {},
   "outputs": [],
   "source": [
    "# Do some simple preprocessing.\n",
    "trans_df.sort_values(\"datetime\", inplace=True)\n",
    "trans_df[[\"longitude\", \"latitude\"]] = trans_df[[\"longitude\", \"latitude\"]].applymap(radians)\n",
    "\n",
    "trans_df[\"loc_delta\"] = trans_df.groupby(\"cc_num\")\\\n",
    "    .apply(lambda x : transactions_fraud.haversine(x[\"longitude\"], x[\"latitude\"]))\\\n",
    "    .reset_index(level=0, drop=True)\\\n",
    "    .fillna(0)"
   ]
  },
  {
   "cell_type": "markdown",
   "id": "80c0764b",
   "metadata": {},
   "source": [
    "Next lets compute windowed aggregates. Here you will use 4-hour windows, but feel free to experiment with different window lengths by setting `window_len` below to a value of your choice."
   ]
  },
  {
   "cell_type": "code",
   "execution_count": null,
   "id": "f95d09f1",
   "metadata": {},
   "outputs": [],
   "source": [
    "window_len = \"4h\"\n",
    "\n",
    "window_aggs_df = window_aggs.get_window_aggs_df(window_len, trans_df)\n",
    "\n",
    "window_aggs_df.tail()"
   ]
  },
  {
   "cell_type": "markdown",
   "id": "e4cc229e",
   "metadata": {},
   "source": [
    "### Convert date time object to unix epoch in milliseconds"
   ]
  },
  {
   "cell_type": "code",
   "execution_count": null,
   "id": "3bbf8852",
   "metadata": {},
   "outputs": [],
   "source": [
    "trans_df.datetime = trans_df.datetime.values.astype(np.int64) // 10 ** 6\n",
    "window_aggs_df.datetime = window_aggs_df.datetime.values.astype(np.int64) // 10 ** 6"
   ]
  },
  {
   "cell_type": "markdown",
   "id": "21be72c5",
   "metadata": {},
   "source": [
    "---"
   ]
  },
  {
   "cell_type": "markdown",
   "id": "be723483",
   "metadata": {},
   "source": [
    "## <span style=\"color:#ff5f27;\"> 📡 Connecting to Hopsworks Feature Store </span>"
   ]
  },
  {
   "cell_type": "markdown",
   "id": "da57c80c",
   "metadata": {
    "tags": []
   },
   "source": [
    "### <span style=\"color:#ff5f27;\"> 🪄 Creating Feature Groups </span>\n",
    "\n",
    "A [feature group](https://docs.hopsworks.ai/3.0/concepts/fs/feature_group/fg_overview/) can be seen as a collection of conceptually related features. In this case, you will create a feature group for the transaction data and a feature group for the windowed aggregations on the transaction data. Both will have `cc_num` as primary key, which will allow you to join them when creating a dataset in the next tutorial.\n",
    "\n",
    "Feature groups can also be used to define a namespace for features. For instance, in a real-life setting you would likely want to experiment with different window lengths. In that case, you can create feature groups with identical schema for each window length. \n",
    "\n",
    "Before you can create a feature group you need to connect to Hopsworks feature store."
   ]
  },
  {
   "cell_type": "code",
   "execution_count": null,
   "id": "f7329f2c",
   "metadata": {},
   "outputs": [],
   "source": [
    "import hopsworks\n",
    "\n",
    "project = hopsworks.login()\n",
    "\n",
    "fs = project.get_feature_store()"
   ]
  },
  {
   "cell_type": "markdown",
   "id": "30358563",
   "metadata": {},
   "source": [
    "To create a feature group you need to give it a name and specify a primary key. It is also good to provide a description of the contents of the feature group and a version number, if it is not defined it will automatically be incremented to `1`."
   ]
  },
  {
   "cell_type": "code",
   "execution_count": null,
   "id": "a7dea9fc",
   "metadata": {},
   "outputs": [],
   "source": [
    "trans_fg = fs.get_or_create_feature_group(\n",
    "    name=\"transactions_fraud_batch_fg\",\n",
    "    version=1,\n",
    "    description=\"Transaction data\",\n",
    "    primary_key=[\"cc_num\"],\n",
    "    event_time=\"datetime\",\n",
    ")"
   ]
  },
  {
   "cell_type": "markdown",
   "id": "af58171c",
   "metadata": {},
   "source": [
    "A full list of arguments can be found in the [documentation](https://docs.hopsworks.ai/feature-store-api/latest/generated/api/feature_store_api/#create_feature_group).\n",
    "\n",
    "At this point, you have only specified some metadata for the feature group. It does not store any data or even have a schema defined for the data. To make the feature group persistent you need to populate it with its associated data using the `insert` function."
   ]
  },
  {
   "cell_type": "code",
   "execution_count": null,
   "id": "64eef16a",
   "metadata": {},
   "outputs": [],
   "source": [
    "trans_fg.insert(trans_df)"
   ]
  },
  {
   "cell_type": "code",
   "execution_count": null,
   "id": "39d48ea9",
   "metadata": {},
   "outputs": [],
   "source": [
    "feature_descriptions = [\n",
    "    {\"name\": \"tid\", \"description\": \"Transaction id\"},\n",
    "    {\"name\": \"datetime\", \"description\": \"Transaction time\"},\n",
    "    {\"name\": \"cc_num\", \"description\": \"Number of the credit card performing the transaction\"},\n",
    "    {\"name\": \"category\", \"description\": \"Expense category\"},\n",
    "    {\"name\": \"amount\", \"description\": \"Dollar amount of the transaction\"},\n",
    "    {\"name\": \"latitude\", \"description\": \"Transaction location latitude\"},\n",
    "    {\"name\": \"longitude\", \"description\": \"Transaction location longitude\"},\n",
    "    {\"name\": \"city\", \"description\": \"City in which the transaction was made\"},\n",
    "    {\"name\": \"country\", \"description\": \"Country in which the transaction was made\"},\n",
    "    {\"name\": \"fraud_label\", \"description\": \"Whether the transaction was fraudulent or not\"},\n",
    "    {\"name\": \"age_at_transaction\", \"description\": \"Age of the card holder when the transaction was made\"},\n",
    "    {\"name\": \"days_until_card_expires\", \"description\": \"Card validity days left when the transaction was made\"},\n",
    "    {\"name\": \"loc_delta\", \"description\": \"Haversine distance between this transaction location and the previous transaction location from the same card\"},\n",
    "]\n",
    "\n",
    "for desc in feature_descriptions: \n",
    "    trans_fg.update_feature_description(desc[\"name\"], desc[\"description\"])"
   ]
  },
  {
   "cell_type": "markdown",
   "id": "dae17609",
   "metadata": {},
   "source": [
    "At the creation of the feature group, you will be prompted with an URL that will directly link to it; there you will be able to explore some of the aspects of your newly created feature group.\n",
    "\n",
    "[//]: <> (insert GIF here)"
   ]
  },
  {
   "cell_type": "markdown",
   "id": "0d90bbfd",
   "metadata": {},
   "source": [
    "You can move on and do the same thing for the feature group with our windows aggregation."
   ]
  },
  {
   "cell_type": "code",
   "execution_count": null,
   "id": "e12d198e",
   "metadata": {},
   "outputs": [],
   "source": [
    "window_aggs_fg = fs.get_or_create_feature_group(\n",
    "    name=f\"transactions_{window_len}_aggs_fraud_batch_fg\",\n",
    "    version=1,\n",
    "    description=f\"Aggregate transaction data over {window_len} windows.\",\n",
    "    primary_key=[\"cc_num\"],\n",
    "    event_time=\"datetime\",\n",
    ")"
   ]
  },
  {
   "cell_type": "code",
   "execution_count": null,
   "id": "19458252",
   "metadata": {},
   "outputs": [],
   "source": [
    "window_aggs_fg.insert(window_aggs_df)"
   ]
  },
  {
   "cell_type": "code",
   "execution_count": null,
   "id": "e967a252",
   "metadata": {},
   "outputs": [],
   "source": [
    "feature_descriptions = [\n",
    "    {\"name\": \"datetime\", \"description\": \"Transaction time\"},\n",
    "    {\"name\": \"cc_num\", \"description\": \"Number of the credit card performing the transaction\"},\n",
    "    {\"name\": \"loc_delta_mavg\", \"description\": \"Moving average of location difference between consecutive transactions from the same card\"},\n",
    "    {\"name\": \"trans_freq\", \"description\": \"Moving average of transaction frequency from the same card\"},\n",
    "    {\"name\": \"trans_volume_mavg\", \"description\": \"Moving average of transaction volume from the same card\"},\n",
    "    {\"name\": \"trans_volume_mstd\", \"description\": \"Moving standard deviation of transaction volume from the same card\"},\n",
    "]\n",
    "\n",
    "for desc in feature_descriptions: \n",
    "    window_aggs_fg.update_feature_description(desc[\"name\"], desc[\"description\"])"
   ]
  },
  {
   "cell_type": "markdown",
   "id": "2030383e",
   "metadata": {},
   "source": [
    "Both feature groups are now accessible and searchable in the UI\n",
    "\n",
    "![fg-overview](../images/fg_overview.gif)"
   ]
  },
  {
   "cell_type": "markdown",
   "id": "8e6d4483",
   "metadata": {},
   "source": [
    "## <span style=\"color:#ff5f27;\">⏭️ **Next:** Part 02: Training Pipeline\n",
    " </span> \n",
    "\n",
    "In the following notebook you will use your feature groups to create a dataset you can train a model on.\n",
    "\n",
    "[![Open In Colab](https://colab.research.google.com/assets/colab-badge.svg)](https://colab.research.google.com/github/logicalclocks/hopsworks-tutorials/blob/master/fraud_batch/2_fraud_batch_training_pipeline.ipynb)\n"
   ]
  }
 ],
 "metadata": {
  "interpreter": {
   "hash": "e1ddeae6eefc765c17da80d38ea59b893ab18c0c0904077a035ef84cfe367f83"
  },
  "kernelspec": {
   "display_name": "Python 3 (ipykernel)",
   "language": "python",
   "name": "python3"
  },
  "language_info": {
   "codemirror_mode": {
    "name": "ipython",
    "version": 3
   },
   "file_extension": ".py",
   "mimetype": "text/x-python",
   "name": "python",
   "nbconvert_exporter": "python",
   "pygments_lexer": "ipython3",
   "version": "3.9.12"
  }
 },
 "nbformat": 4,
 "nbformat_minor": 5
}
