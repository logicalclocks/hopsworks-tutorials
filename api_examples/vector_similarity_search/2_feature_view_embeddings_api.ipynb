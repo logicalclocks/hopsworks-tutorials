{
 "cells": [
  {
   "cell_type": "markdown",
   "id": "0a5e5c4d",
   "metadata": {},
   "source": [
    "## <span style=\"color:#ff5f27;\">📊🗞️ Ranking of news search results</span>"
   ]
  },
  {
   "cell_type": "markdown",
   "id": "8988ff65",
   "metadata": {},
   "source": [
    "In the [previous tutorial](https://github.com/logicalclocks/hopsworks-tutorials/tree/branch-4.2/api_examples/vector_similarity_search/1_feature_group_embeddings_api.ipynb), you learned how to search news articles using natural language queries. In this tutorial, we will focus on ranking the search results to make them more useful and relevant.\n",
    "\n",
    "To achieve this, we will use the number of views as a scoring metric for news articles, as it reflects their popularity. The steps are as follows:\n",
    "\n",
    "1. Create a view count feature group using a sample dataset of view counts.\n",
    "2. Create a feature view by joining the news feature group with the view count feature group.\n",
    "3. Search news articles and rank them based on their view counts.\n",
    "\n",
    "By the end of this tutorial, you'll be able to rank news search results effectively using view counts as a popularity indicator."
   ]
  },
  {
   "cell_type": "markdown",
   "id": "cab74674-ebae-4aca-8e46-af92a45ecd84",
   "metadata": {},
   "source": [
    "## <span style='color:#ff5f27'> 📝 Imports"
   ]
  },
  {
   "cell_type": "code",
   "execution_count": null,
   "id": "20d0c30c-930f-42ca-84ce-3f105791944f",
   "metadata": {},
   "outputs": [],
   "source": [
    "!pip install -U 'hopsworks[python]' --quiet\n",
    "!pip install sentence_transformers -q"
   ]
  },
  {
   "cell_type": "code",
   "execution_count": null,
   "id": "53bb0a3f-d603-4159-9356-99e23be8d1af",
   "metadata": {},
   "outputs": [],
   "source": [
    "import random\n",
    "import pandas as pd\n",
    "from sentence_transformers import SentenceTransformer\n",
    "import logging\n",
    "logging.getLogger().setLevel(logging.WARN)"
   ]
  },
  {
   "cell_type": "markdown",
   "id": "6bafdd57",
   "metadata": {},
   "source": [
    "## <span style=\"color:#ff5f27;\">📈 Create a view count feature group</span>"
   ]
  },
  {
   "cell_type": "markdown",
   "id": "79a4dc31",
   "metadata": {},
   "source": [
    "First you create a sample view count dataset of the size of news feature group."
   ]
  },
  {
   "cell_type": "code",
   "execution_count": null,
   "id": "ea809cb3",
   "metadata": {},
   "outputs": [],
   "source": [
    "num_news = 300\n",
    "df_view = pd.DataFrame(\n",
    "    {\n",
    "        \"news_id\": list(range(num_news)), \n",
    "        \"view_cnt\": [random.randint(0, 100) for i in range(num_news)]\n",
    "    }\n",
    ")"
   ]
  },
  {
   "cell_type": "code",
   "execution_count": null,
   "id": "139c5c0f",
   "metadata": {},
   "outputs": [],
   "source": [
    "VERSION = 1"
   ]
  },
  {
   "cell_type": "markdown",
   "id": "4d7d216e",
   "metadata": {},
   "source": [
    "Then you create a view count feature group and ingest the data into Hopsworks."
   ]
  },
  {
   "cell_type": "code",
   "execution_count": null,
   "id": "b007629f",
   "metadata": {},
   "outputs": [],
   "source": [
    "import hopsworks\n",
    "\n",
    "project = hopsworks.login()\n",
    "\n",
    "fs = project.get_feature_store()"
   ]
  },
  {
   "cell_type": "code",
   "execution_count": null,
   "id": "fbacf4c2",
   "metadata": {},
   "outputs": [],
   "source": [
    "view_fg = fs.get_or_create_feature_group(\n",
    "    name=\"view_fg\",\n",
    "    primary_key=[\"news_id\"],\n",
    "    version=VERSION,\n",
    "    online_enabled=True,\n",
    ")\n",
    "\n",
    "view_fg.insert(df_view)"
   ]
  },
  {
   "cell_type": "markdown",
   "id": "43790e1d",
   "metadata": {},
   "source": [
    "## <span style=\"color:#ff5f27;\">🛠️ Create a feature view</span>"
   ]
  },
  {
   "cell_type": "markdown",
   "id": "2aab5e57",
   "metadata": {},
   "source": [
    "You need to first get back the news feature group created before for the creation of feature view."
   ]
  },
  {
   "cell_type": "code",
   "execution_count": null,
   "id": "fad86561",
   "metadata": {},
   "outputs": [],
   "source": [
    "news_fg = fs.get_or_create_feature_group(\n",
    "    name=\"news_fg\",\n",
    "    version=VERSION,\n",
    ")"
   ]
  },
  {
   "cell_type": "markdown",
   "id": "2ddecaa0",
   "metadata": {},
   "source": [
    "Now, you create a feature view by joining the news feature group and the view count feature group. Here, you select the heading, and the view count for ranking."
   ]
  },
  {
   "cell_type": "code",
   "execution_count": null,
   "id": "cc06c04a",
   "metadata": {},
   "outputs": [],
   "source": [
    "news_fv = fs.get_or_create_feature_view(\n",
    "    \"news_view\", \n",
    "    version=VERSION,\n",
    "    query=news_fg.select([\"heading\"]).join(view_fg.select([\"view_cnt\"])),\n",
    ")"
   ]
  },
  {
   "cell_type": "markdown",
   "id": "17fe1695",
   "metadata": {},
   "source": [
    "## <span style=\"color:#ff5f27;\">🔎 Search news and rank</span>"
   ]
  },
  {
   "cell_type": "markdown",
   "id": "29f9b343",
   "metadata": {},
   "source": [
    "Same as the previous tutorial, the news description first needs to be encoded by the same LM you used to encoded the news. And then the embedding can be used to search similar news using the feature view."
   ]
  },
  {
   "cell_type": "code",
   "execution_count": null,
   "id": "b60e0804",
   "metadata": {},
   "outputs": [],
   "source": [
    "model = SentenceTransformer('all-MiniLM-L6-v2')\n",
    "\n",
    "news_description = \"news about europe\""
   ]
  },
  {
   "cell_type": "markdown",
   "id": "4afe07d9",
   "metadata": {},
   "source": [
    "Define some helper functions which sort and print new results."
   ]
  },
  {
   "cell_type": "code",
   "execution_count": null,
   "id": "b3da47a9",
   "metadata": {},
   "outputs": [],
   "source": [
    "def print_news(feature_vectors):\n",
    "    for feature_vector in feature_vectors:\n",
    "        print(feature_vector)"
   ]
  },
  {
   "cell_type": "code",
   "execution_count": null,
   "id": "7f7c84aa",
   "metadata": {},
   "outputs": [],
   "source": [
    "def print_sort_news(feature_vectors):\n",
    "    # Sort the articles by view count\n",
    "    print(\"⛳️ Ranked result:\")\n",
    "    feature_vectors = sorted(feature_vectors, key=lambda x: x[1]*-1)\n",
    "    print_news(feature_vectors)"
   ]
  },
  {
   "cell_type": "markdown",
   "id": "f5cae7d7",
   "metadata": {},
   "source": [
    "Now, you can see the top k results returned by the feature view, which are the headings and the view count. You can also see the ranked results by view count of the top k results."
   ]
  },
  {
   "cell_type": "code",
   "execution_count": null,
   "id": "6e27d333",
   "metadata": {},
   "outputs": [],
   "source": [
    "feature_vectors = news_fv.find_neighbors(\n",
    "    model.encode(news_description),\n",
    "    k=5, \n",
    "    feature=news_fg.embedding_heading,\n",
    ")\n",
    "print_news(feature_vectors)\n",
    "print_sort_news(feature_vectors)"
   ]
  },
  {
   "cell_type": "markdown",
   "id": "268906fb",
   "metadata": {},
   "source": [
    "Like the feature group, you can filter results in `find_neighbors` in feature view. You can also use multiple filtering conditions."
   ]
  },
  {
   "cell_type": "code",
   "execution_count": null,
   "id": "4054191b",
   "metadata": {},
   "outputs": [],
   "source": [
    "feature_vectors = news_fv.find_neighbors(\n",
    "    model.encode(news_description),\n",
    "    k=5,               \n",
    "    filter=(\n",
    "        (news_fg.newstype == \"sports\") & (news_fg.article.like(\"europe\"))\n",
    "    ),\n",
    "    feature=news_fg.embedding_heading,\n",
    ")\n",
    "print_news(feature_vectors)\n",
    "print_sort_news(feature_vectors)"
   ]
  },
  {
   "cell_type": "markdown",
   "id": "15e9480b",
   "metadata": {},
   "source": [
    "You can get back result by providing primary key which is the news id as well."
   ]
  },
  {
   "cell_type": "code",
   "execution_count": null,
   "id": "d8757fab",
   "metadata": {},
   "outputs": [],
   "source": [
    "feature_vectors = news_fv.get_feature_vector({\"news_id\": 10})\n",
    "print_news([feature_vectors])"
   ]
  },
  {
   "cell_type": "markdown",
   "id": "057aa05d",
   "metadata": {},
   "source": [
    "---\n",
    "\n",
    "## <span style=\"color:#ff5f27;\">➡️ Next step</span>\n",
    "\n",
    "Now you are able to search articles and rank them by view count. "
   ]
  }
 ],
 "metadata": {
  "kernelspec": {
   "display_name": "Python 3 (ipykernel)",
   "language": "python",
   "name": "python3"
  },
  "language_info": {
   "codemirror_mode": {
    "name": "ipython",
    "version": 3
   },
   "file_extension": ".py",
   "mimetype": "text/x-python",
   "name": "python",
   "nbconvert_exporter": "python",
   "pygments_lexer": "ipython3",
   "version": "3.11.11"
  }
 },
 "nbformat": 4,
 "nbformat_minor": 5
}
