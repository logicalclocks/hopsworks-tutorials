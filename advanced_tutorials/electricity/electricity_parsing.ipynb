{
 "cells": [
  {
   "cell_type": "markdown",
   "id": "4a4b5296",
   "metadata": {},
   "source": [
    "## <span style='color:#ff5f27'> 📝 Imports"
   ]
  },
  {
   "cell_type": "code",
   "execution_count": 1,
   "id": "b6882e9a",
   "metadata": {},
   "outputs": [],
   "source": [
    "import requests\n",
    "from datetime import datetime\n",
    "from bs4 import BeautifulSoup\n",
    "import pandas as pd\n",
    "import re"
   ]
  },
  {
   "cell_type": "markdown",
   "id": "6b65f57e",
   "metadata": {},
   "source": [
    "## <span style='color:#ff5f27'> 🧑🏻‍🏫 Functions"
   ]
  },
  {
   "cell_type": "code",
   "execution_count": 2,
   "id": "8edc791f",
   "metadata": {},
   "outputs": [],
   "source": [
    "def parse_data(parser,tag: str, class_: str):\n",
    "    new_data = []\n",
    "    data = parser.find_all(tag,class_)\n",
    "    for el in data:\n",
    "        new_data.append(el.text)\n",
    "    \n",
    "    return new_data\n",
    "\n",
    "\n",
    "def parse_page(page_name):\n",
    "    response = requests.get(f'https://www.elbruk.se/timpriser-{page_name}')\n",
    "    content = response.content\n",
    "    \n",
    "    parser = BeautifulSoup(content, 'html.parser')\n",
    "    \n",
    "    data = parse_data(parser,'div','info-box-content')\n",
    "    electricity_prices = [float(re.findall(r'\\d+\\,\\d+',info.split('\\n')[2])[0].replace(',','.')) for info in data[:4]]\n",
    "    \n",
    "    return electricity_prices\n",
    "\n",
    "\n",
    "def timestamp_2_time(x):\n",
    "    dt_obj = datetime.strptime(str(x), '%Y-%m-%d %H:%M')\n",
    "    dt_obj = dt_obj.timestamp() * 1000\n",
    "    return int(dt_obj)"
   ]
  },
  {
   "cell_type": "markdown",
   "id": "56d72514",
   "metadata": {},
   "source": [
    "## <span style='color:#ff5f27'> 🕵🏻‍♂️ Parsing Electricity Data"
   ]
  },
  {
   "cell_type": "code",
   "execution_count": 3,
   "id": "ae37b092",
   "metadata": {},
   "outputs": [
    {
     "data": {
      "text/plain": [
       "[['2022-09-05 21:03', 'Lulea', 202.32, 91.28, 57.18, 544.49],\n",
       " ['2022-09-05 21:03', 'Sundsvall', 202.32, 91.28, 57.18, 544.49],\n",
       " ['2022-09-05 21:03', 'Stockholm', 398.0, 544.84, 159.07, 626.7],\n",
       " ['2022-09-05 21:03', 'Malmo', 398.0, 544.84, 159.07, 626.7]]"
      ]
     },
     "execution_count": 3,
     "metadata": {},
     "output_type": "execute_result"
    }
   ],
   "source": [
    "page_names = ['se1-lulea','se2-sundsvall','se3-stockholm','se4-malmo']\n",
    "\n",
    "data = [[datetime.now().strftime(\"%Y-%m-%d %H:%M\"),page_name.split('-')[1].capitalize(),*parse_page(page_name)] for page_name in page_names]\n",
    "\n",
    "data"
   ]
  },
  {
   "cell_type": "markdown",
   "id": "1fb5d059",
   "metadata": {},
   "source": [
    "## <span style='color:#ff5f27'> 👩🏻‍🔬 DataFrame Creation/Update"
   ]
  },
  {
   "cell_type": "code",
   "execution_count": 4,
   "id": "25f7965d",
   "metadata": {},
   "outputs": [],
   "source": [
    "columns = [\n",
    "    'date',\n",
    "    'city',\n",
    "    'price_day',\n",
    "    'price_current',\n",
    "    'price_min',\n",
    "    'price_max'\n",
    "]"
   ]
  },
  {
   "cell_type": "code",
   "execution_count": 5,
   "id": "1165a0b9",
   "metadata": {},
   "outputs": [
    {
     "data": {
      "text/html": [
       "<div>\n",
       "<style scoped>\n",
       "    .dataframe tbody tr th:only-of-type {\n",
       "        vertical-align: middle;\n",
       "    }\n",
       "\n",
       "    .dataframe tbody tr th {\n",
       "        vertical-align: top;\n",
       "    }\n",
       "\n",
       "    .dataframe thead th {\n",
       "        text-align: right;\n",
       "    }\n",
       "</style>\n",
       "<table border=\"1\" class=\"dataframe\">\n",
       "  <thead>\n",
       "    <tr style=\"text-align: right;\">\n",
       "      <th></th>\n",
       "      <th>date</th>\n",
       "      <th>city</th>\n",
       "      <th>price_day</th>\n",
       "      <th>price_current</th>\n",
       "      <th>price_min</th>\n",
       "      <th>price_max</th>\n",
       "    </tr>\n",
       "  </thead>\n",
       "  <tbody>\n",
       "    <tr>\n",
       "      <th>0</th>\n",
       "      <td>1662400980000</td>\n",
       "      <td>Lulea</td>\n",
       "      <td>202.32</td>\n",
       "      <td>91.28</td>\n",
       "      <td>57.18</td>\n",
       "      <td>544.49</td>\n",
       "    </tr>\n",
       "    <tr>\n",
       "      <th>1</th>\n",
       "      <td>1662400980000</td>\n",
       "      <td>Sundsvall</td>\n",
       "      <td>202.32</td>\n",
       "      <td>91.28</td>\n",
       "      <td>57.18</td>\n",
       "      <td>544.49</td>\n",
       "    </tr>\n",
       "    <tr>\n",
       "      <th>2</th>\n",
       "      <td>1662400980000</td>\n",
       "      <td>Stockholm</td>\n",
       "      <td>398.00</td>\n",
       "      <td>544.84</td>\n",
       "      <td>159.07</td>\n",
       "      <td>626.70</td>\n",
       "    </tr>\n",
       "    <tr>\n",
       "      <th>3</th>\n",
       "      <td>1662400980000</td>\n",
       "      <td>Malmo</td>\n",
       "      <td>398.00</td>\n",
       "      <td>544.84</td>\n",
       "      <td>159.07</td>\n",
       "      <td>626.70</td>\n",
       "    </tr>\n",
       "  </tbody>\n",
       "</table>\n",
       "</div>"
      ],
      "text/plain": [
       "            date       city  price_day  price_current  price_min  price_max\n",
       "0  1662400980000      Lulea     202.32          91.28      57.18     544.49\n",
       "1  1662400980000  Sundsvall     202.32          91.28      57.18     544.49\n",
       "2  1662400980000  Stockholm     398.00         544.84     159.07     626.70\n",
       "3  1662400980000      Malmo     398.00         544.84     159.07     626.70"
      ]
     },
     "execution_count": 5,
     "metadata": {},
     "output_type": "execute_result"
    }
   ],
   "source": [
    "dataframe = pd.DataFrame(\n",
    "    data = data,\n",
    "    columns = columns\n",
    ")\n",
    "dataframe.date = dataframe.date.apply(timestamp_2_time)\n",
    "\n",
    "dataframe.head()"
   ]
  },
  {
   "cell_type": "markdown",
   "id": "c38aa0e5",
   "metadata": {},
   "source": [
    "## <span style=\"color:#ff5f27;\"> 🔮 Connecting to Hopsworks Feature Store </span>"
   ]
  },
  {
   "cell_type": "code",
   "execution_count": 6,
   "id": "c14b0097",
   "metadata": {},
   "outputs": [
    {
     "name": "stdout",
     "output_type": "stream",
     "text": [
      "Connected. Call `.close()` to terminate connection gracefully.\n",
      "\n",
      "Logged in to project, explore it here https://c.app.hopsworks.ai:443/p/167\n",
      "Connected. Call `.close()` to terminate connection gracefully.\n"
     ]
    }
   ],
   "source": [
    "import hopsworks\n",
    "\n",
    "project = hopsworks.login()\n",
    "\n",
    "fs = project.get_feature_store() "
   ]
  },
  {
   "cell_type": "markdown",
   "id": "703f7741",
   "metadata": {},
   "source": [
    "## <span style=\"color:#ff5f27;\">🪄 👩🏻‍🔬 Retrieving or Creating Feature Group</span>"
   ]
  },
  {
   "cell_type": "code",
   "execution_count": 7,
   "id": "7f90ea35",
   "metadata": {},
   "outputs": [],
   "source": [
    "def retrieve_feature_group(name='electricity_prices',fs=fs):\n",
    "    feature_group = fs.get_feature_group(\n",
    "        name=name,\n",
    "        version=1\n",
    "    )\n",
    "    return feature_group\n",
    "\n",
    "def create_feature_group(data,name='electricity_prices',fs=fs):\n",
    "    \n",
    "    feature_group = fs.get_or_create_feature_group(\n",
    "        name=name,\n",
    "        description = 'Characteristics of each day',\n",
    "        version = 1,\n",
    "        primary_key = ['index'],\n",
    "        online_enabled = True,\n",
    "        event_time = ['date']\n",
    "    )\n",
    "        \n",
    "    feature_group.insert(data.reset_index())\n",
    "    \n",
    "    return feature_group"
   ]
  },
  {
   "cell_type": "code",
   "execution_count": 8,
   "id": "b6eab06a",
   "metadata": {},
   "outputs": [
    {
     "data": {
      "application/vnd.jupyter.widget-view+json": {
       "model_id": "303e6d3dee0b4daa9798536ee5ac26d8",
       "version_major": 2,
       "version_minor": 0
      },
      "text/plain": [
       "Uploading Dataframe: 0.00% |          | Rows 0/4 | Elapsed Time: 00:00 | Remaining Time: ?"
      ]
     },
     "metadata": {},
     "output_type": "display_data"
    },
    {
     "name": "stdout",
     "output_type": "stream",
     "text": [
      "Launching offline feature group backfill job...\n",
      "Backfill Job started successfully, you can follow the progress at \n",
      "https://c.app.hopsworks.ai/p/167/jobs/named/electricity_prices_1_offline_fg_backfill/executions\n"
     ]
    }
   ],
   "source": [
    "try:\n",
    "    feature_group = retrieve_feature_group()\n",
    "    feature_group.insert(dataframe.reset_index())\n",
    "    \n",
    "except:\n",
    "    feature_group = create_feature_group(dataframe)"
   ]
  },
  {
   "cell_type": "markdown",
   "id": "833c90ca",
   "metadata": {},
   "source": [
    "---"
   ]
  }
 ],
 "metadata": {
  "kernelspec": {
   "display_name": "Python 3 (ipykernel)",
   "language": "python",
   "name": "python3"
  },
  "language_info": {
   "codemirror_mode": {
    "name": "ipython",
    "version": 3
   },
   "file_extension": ".py",
   "mimetype": "text/x-python",
   "name": "python",
   "nbconvert_exporter": "python",
   "pygments_lexer": "ipython3",
   "version": "3.9.12"
  }
 },
 "nbformat": 4,
 "nbformat_minor": 5
}
