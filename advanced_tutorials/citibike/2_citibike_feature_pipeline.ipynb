{
 "cells": [
  {
   "cell_type": "markdown",
   "id": "d179fa38",
   "metadata": {},
   "source": [
    "# <span style=\"font-width:bold; font-size: 3rem; color:#1EB182;\">**Hopsworks Feature Store** </span><span style=\"font-width:bold; font-size: 3rem; color:#333;\">- Part 02: Feature Pipeline</span>\n",
    "\n",
    "\n",
    "## 🗒️ This notebook is divided into 2 sections:\n",
    "1. Parse Data.\n",
    "2. Insert new data into the Feature Store."
   ]
  },
  {
   "cell_type": "markdown",
   "id": "66df50de",
   "metadata": {},
   "source": [
    "### <span style='color:#ff5f27'> 📝 Imports"
   ]
  },
  {
   "cell_type": "code",
   "execution_count": null,
   "id": "5b87f18e",
   "metadata": {},
   "outputs": [],
   "source": [
    "from datetime import timedelta, datetime\n",
    "import pandas as pd\n",
    "import os\n",
    "\n",
    "from features import (\n",
    "    citibike, \n",
    "    meteorological_measurements,\n",
    ")\n",
    "\n",
    "# Mute warnings\n",
    "import warnings\n",
    "warnings.filterwarnings(\"ignore\")"
   ]
  },
  {
   "cell_type": "markdown",
   "id": "b33339b0",
   "metadata": {},
   "source": [
    "---"
   ]
  },
  {
   "cell_type": "markdown",
   "id": "1dfacd9f",
   "metadata": {},
   "source": [
    "## <span style=\"color:#ff5f27;\"> 📡 Connecting to Hopsworks Feature Store </span>"
   ]
  },
  {
   "cell_type": "code",
   "execution_count": null,
   "id": "3046b3e4",
   "metadata": {},
   "outputs": [],
   "source": [
    "import hopsworks\n",
    "\n",
    "project = hopsworks.login()\n",
    "\n",
    "fs = project.get_feature_store()"
   ]
  },
  {
   "cell_type": "code",
   "execution_count": null,
   "id": "bd7ce002",
   "metadata": {},
   "outputs": [],
   "source": [
    "# Retrieve citibike_usage and meteorological_measurements feature groups\n",
    "citibike_usage_fg = fs.get_or_create_feature_group(\n",
    "    name=\"citibike_usage\",\n",
    "    version=1,\n",
    ")\n",
    "\n",
    "meteorological_measurements_fg = fs.get_or_create_feature_group(\n",
    "    name=\"meteorological_measurements\",\n",
    "    version=1,\n",
    ")"
   ]
  },
  {
   "cell_type": "markdown",
   "id": "6c7b15a8",
   "metadata": {},
   "source": [
    "### <span style=\"color:#ff5f27;\">📅 Getting tha last date</span>\n"
   ]
  },
  {
   "cell_type": "code",
   "execution_count": null,
   "id": "ffeaec13",
   "metadata": {
    "scrolled": true
   },
   "outputs": [],
   "source": [
    "# Get the last date in the 'citibike_usage_fg' Feature Group\n",
    "last_date = citibike.get_last_date_in_fg(citibike_usage_fg)\n",
    "last_date"
   ]
  },
  {
   "cell_type": "code",
   "execution_count": null,
   "id": "e800d919",
   "metadata": {},
   "outputs": [],
   "source": [
    "# Get the next date after 'last_date' using the 'get_next_date' function\n",
    "next_date = citibike.get_next_date(last_date).split(\"-\")\n",
    "next_date"
   ]
  },
  {
   "cell_type": "code",
   "execution_count": null,
   "id": "a97c80e1",
   "metadata": {},
   "outputs": [],
   "source": [
    "# Extract the target year and month from the next date\n",
    "target_year, target_month = int(next_date[0]), int(next_date[1])\n",
    "\n",
    "print(f\"Let's download citibike data for {target_month}/{target_year}\")"
   ]
  },
  {
   "cell_type": "markdown",
   "id": "05fabd24",
   "metadata": {},
   "source": [
    "---"
   ]
  },
  {
   "cell_type": "markdown",
   "id": "fd72808f",
   "metadata": {},
   "source": [
    "## <span style=\"color:#ff5f27;\"> 🪄 Parsing new data</span>"
   ]
  },
  {
   "cell_type": "markdown",
   "id": "32c5efb2",
   "metadata": {},
   "source": [
    "### <span style=\"color:#ff5f27;\"> 🚲 Citibike usage info</span>"
   ]
  },
  {
   "cell_type": "code",
   "execution_count": null,
   "id": "63aa1c27",
   "metadata": {},
   "outputs": [],
   "source": [
    "# Download Citibike data for the specified month and year\n",
    "df_raw_batch = citibike.get_citibike_data(\n",
    "    f\"{target_month}/{target_year}\", \n",
    "    f\"{target_month}/{target_year}\",\n",
    ")\n",
    "df_raw_batch.head(3)"
   ]
  },
  {
   "cell_type": "code",
   "execution_count": null,
   "id": "19a46498",
   "metadata": {},
   "outputs": [],
   "source": [
    "# Engineer Citibike features for the downloaded batch of data\n",
    "df_enhanced_batch = citibike.engineer_citibike_features(\n",
    "    df_raw_batch,\n",
    ")"
   ]
  },
  {
   "cell_type": "code",
   "execution_count": null,
   "id": "198d0ba4",
   "metadata": {},
   "outputs": [],
   "source": [
    "# Drop rows with missing values in the enhanced batch DataFrame\n",
    "df_enhanced_batch = df_enhanced_batch.dropna()\n",
    "\n",
    "# Convert 'station_id' to string type for categorical representation\n",
    "df_enhanced_batch.station_id = df_enhanced_batch.station_id.astype(str)\n",
    "\n",
    "# Display the last three rows of the enhanced batch DataFrame\n",
    "df_enhanced_batch.tail(3)"
   ]
  },
  {
   "cell_type": "markdown",
   "id": "8bf55a65",
   "metadata": {},
   "source": [
    "### <span style=\"color:#ff5f27;\"> 🌤 Meteorological measurements from VisualCrossing</span>"
   ]
  },
  {
   "cell_type": "markdown",
   "id": "cf040fe7",
   "metadata": {},
   "source": [
    "You will parse weather data so you should get an API key from [VisualCrossing](https://www.visualcrossing.com/). You can use [this link](https://www.visualcrossing.com/weather-api).\n",
    "\n",
    "#### Don't forget to create an `.env` configuration file inside this directory where all the necessary environment variables will be stored:\n",
    "\n",
    "`WEATHER_API_KEY = \"YOUR_API_KEY\"`\n",
    "\n",
    "> If you done it after you run this notebook, restart the Python Kernel (because `functions.py` does not have these variables in his namespace).\n",
    "\n",
    "![](images/api_keys_env_file.png)"
   ]
  },
  {
   "cell_type": "code",
   "execution_count": null,
   "id": "af212086",
   "metadata": {},
   "outputs": [],
   "source": [
    "# Convert the 'date' column to string type\n",
    "df_enhanced_batch.date = df_enhanced_batch.date.astype(str)\n",
    "\n",
    "# Find the minimum and maximum dates in the 'date' column of the enhanced batch DataFrame\n",
    "start_date, end_date = df_enhanced_batch.date.min(), df_enhanced_batch.date.max()"
   ]
  },
  {
   "cell_type": "code",
   "execution_count": null,
   "id": "3773aa84",
   "metadata": {},
   "outputs": [],
   "source": [
    "# Get weather data for New York City within the date range of the enhanced batch DataFrame\n",
    "df_weather_batch = meteorological_measurements.get_weather_data(\n",
    "    city=\"nyc\", \n",
    "    start_date=start_date, \n",
    "    end_date=end_date,\n",
    ")\n",
    "df_weather_batch.tail(3)"
   ]
  },
  {
   "cell_type": "code",
   "execution_count": null,
   "id": "ce61c382",
   "metadata": {},
   "outputs": [],
   "source": [
    "# Fix data types for specified columns in the weather batch DataFrame\n",
    "for column in [\"snowdepth\", \"snow\"]:\n",
    "    df_weather_batch[column] = df_weather_batch[column].astype(\"double\")"
   ]
  },
  {
   "cell_type": "code",
   "execution_count": null,
   "id": "28655bc8",
   "metadata": {},
   "outputs": [],
   "source": [
    "# Unix columns creation\n",
    "df_enhanced_batch[\"timestamp\"] = df_enhanced_batch[\"date\"].apply(\n",
    "    meteorological_measurements.convert_date_to_unix\n",
    ")\n",
    "df_weather_batch[\"timestamp\"] = df_weather_batch[\"date\"].apply(\n",
    "    meteorological_measurements.convert_date_to_unix\n",
    ")"
   ]
  },
  {
   "cell_type": "markdown",
   "id": "f3426f85",
   "metadata": {},
   "source": [
    "---"
   ]
  },
  {
   "cell_type": "markdown",
   "id": "f5dad7d4",
   "metadata": {},
   "source": [
    "## <span style=\"color:#ff5f27;\">⬆️ Uploading new data to the Feature Store</span>"
   ]
  },
  {
   "cell_type": "code",
   "execution_count": null,
   "id": "9b144f46",
   "metadata": {},
   "outputs": [],
   "source": [
    "# Insert new data\n",
    "citibike_usage_fg.insert(df_enhanced_batch)"
   ]
  },
  {
   "cell_type": "code",
   "execution_count": null,
   "id": "0c4a51b2",
   "metadata": {},
   "outputs": [],
   "source": [
    "# Insert new data\n",
    "meteorological_measurements_fg.insert(df_weather_batch)"
   ]
  },
  {
   "cell_type": "markdown",
   "id": "a4b670d1",
   "metadata": {},
   "source": [
    "---"
   ]
  },
  {
   "cell_type": "markdown",
   "id": "84acdbfe",
   "metadata": {},
   "source": [
    "## <span style=\"color:#ff5f27;\">⏭️ **Next:** Part 03: Training Pipeline </span>\n",
    "\n",
    "In the next notebook you will create a feature view, training dataset, train a model and register it in Hopsworks Model Registry.\n"
   ]
  }
 ],
 "metadata": {
  "kernelspec": {
   "display_name": "Python 3",
   "language": "python",
   "name": "python3"
  },
  "language_info": {
   "codemirror_mode": {
    "name": "ipython",
    "version": 3
   },
   "file_extension": ".py",
   "mimetype": "text/x-python",
   "name": "python",
   "nbconvert_exporter": "python",
   "pygments_lexer": "ipython3",
   "version": "3.10.11"
  }
 },
 "nbformat": 4,
 "nbformat_minor": 5
}
