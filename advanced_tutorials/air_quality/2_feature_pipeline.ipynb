{
 "cells": [
  {
   "cell_type": "markdown",
   "id": "dd094af7",
   "metadata": {},
   "source": [
    "# <span style=\"font-width:bold; font-size: 3rem; color:#1EB182;\"><img src=\"../../images/icon102.png\" width=\"38px\"></img> **Hopsworks Feature Store** </span><span style=\"font-width:bold; font-size: 3rem; color:#333;\">- Part 02: Feature Pipeline</span>\n",
    "\n",
    "[![Open In Colab](https://colab.research.google.com/assets/colab-badge.svg)](https://colab.research.google.com/github/logicalclocks/hopsworks-tutorials/blob/master/advanced_tutorials/air_quality/2_feature_pipeline.ipynb)\n",
    "\n",
    "\n",
    "## 🗒️ This notebook is divided into the following sections:\n",
    "1. Parse Data\n",
    "2. Feature Group Insertion"
   ]
  },
  {
   "cell_type": "markdown",
   "id": "a7dcc328",
   "metadata": {},
   "source": [
    "### <span style='color:#ff5f27'> 📝 Imports"
   ]
  },
  {
   "cell_type": "code",
   "execution_count": 11,
   "id": "364e961e",
   "metadata": {},
   "outputs": [],
   "source": [
    "import datetime\n",
    "import time\n",
    "import requests\n",
    "import pandas as pd\n",
    "import json\n",
    "\n",
    "from functions import *\n",
    "import features.air_quality\n",
    "\n",
    "import warnings\n",
    "warnings.filterwarnings(\"ignore\")"
   ]
  },
  {
   "cell_type": "code",
   "execution_count": 50,
   "id": "50d04cc5-6788-4a4c-9f87-c2e00b5fce49",
   "metadata": {
    "tags": []
   },
   "outputs": [],
   "source": [
    "with open('target_cities.json') as json_file:\n",
    "    target_cities = json.load(json_file)"
   ]
  },
  {
   "cell_type": "code",
   "execution_count": 13,
   "id": "b0d2261f-8907-44f4-9f1a-bd9ec5e1556f",
   "metadata": {
    "tags": []
   },
   "outputs": [],
   "source": [
    "today = datetime.date.today()"
   ]
  },
  {
   "cell_type": "code",
   "execution_count": 14,
   "id": "72eadd78-124d-423c-ad37-2d7ba0ae5f28",
   "metadata": {
    "tags": []
   },
   "outputs": [
    {
     "data": {
      "text/plain": [
       "(datetime.date(2023, 4, 20), '2023-04-20')"
      ]
     },
     "execution_count": 14,
     "metadata": {},
     "output_type": "execute_result"
    }
   ],
   "source": [
    "today, str(today)"
   ]
  },
  {
   "cell_type": "markdown",
   "id": "c7f61053-a8c0-48a7-afa4-0e8733d2a54a",
   "metadata": {},
   "source": [
    "---"
   ]
  },
  {
   "cell_type": "markdown",
   "id": "459ee37e-7e74-4051-97f6-2e03f9cac9d8",
   "metadata": {},
   "source": [
    "## <span style='color:#ff5f27'> 🌫 Filling gaps in Air Quality data (PM2.5)</span>"
   ]
  },
  {
   "cell_type": "markdown",
   "id": "ecfb9f24-86ad-4614-a94b-32f17f10c1cc",
   "metadata": {},
   "source": [
    "### First time we will determine the 'last update date' using our backfill data\n",
    "#### Next time we will use `feature view` method from Hopsworks Feature Store"
   ]
  },
  {
   "cell_type": "code",
   "execution_count": 95,
   "id": "3556fa42-e5dd-4360-b98e-5b3d10048e0f",
   "metadata": {
    "scrolled": true,
    "tags": []
   },
   "outputs": [],
   "source": [
    "df_air_quality = pd.read_csv(\"data/backfill_pm2_5.csv\")\n",
    "df_weather = pd.read_csv(\"data/backfill_weather.csv\")"
   ]
  },
  {
   "cell_type": "code",
   "execution_count": 76,
   "id": "03063bc6-b58f-47f4-bfc6-8020ec196478",
   "metadata": {
    "tags": []
   },
   "outputs": [],
   "source": [
    "last_dates_aq = df_air_quality[[\"date\", \"city_name\"]].groupby(\"city_name\").max()\n",
    "last_dates_aq.date = last_dates_aq.date.astype(str)\n",
    "\n",
    "# here is a dictionary with city names as keys and last updated date as values\n",
    "last_dates_aq = last_dates_aq.to_dict()[\"date\"]"
   ]
  },
  {
   "cell_type": "code",
   "execution_count": 77,
   "id": "5e868bdf-e91a-410a-b654-a315c605f3dc",
   "metadata": {
    "tags": []
   },
   "outputs": [
    {
     "data": {
      "text/plain": [
       "('2023-04-17', '2023-04-17')"
      ]
     },
     "execution_count": 77,
     "metadata": {},
     "output_type": "execute_result"
    }
   ],
   "source": [
    "last_dates_aq[\"Berlin\"], last_dates_aq[\"Columbus\"]"
   ]
  },
  {
   "cell_type": "markdown",
   "id": "77c4ee8d-7f7e-4bd0-a97b-c3ac0d7db50f",
   "metadata": {},
   "source": [
    "### <span style='color:#ff5f27'>  🧙🏼‍♂️ Parsing PM2.5 data"
   ]
  },
  {
   "cell_type": "code",
   "execution_count": 80,
   "id": "112a7974-37cb-4195-bc71-328af428c491",
   "metadata": {
    "scrolled": true,
    "tags": []
   },
   "outputs": [
    {
     "name": "stdout",
     "output_type": "stream",
     "text": [
      "Processed PM2_5 for Amsterdam since 2023-04-17 till 2023-04-20.\n",
      "Took 1.23 sec.\n",
      "\n",
      "Processed PM2_5 for Athina since 2023-04-17 till 2023-04-20.\n",
      "Took 1.23 sec.\n",
      "\n",
      "Processed PM2_5 for Berlin since 2023-04-17 till 2023-04-20.\n",
      "Took 0.66 sec.\n",
      "\n",
      "Processed PM2_5 for Gdansk since 2023-04-17 till 2023-04-20.\n",
      "Took 0.48 sec.\n",
      "\n",
      "Processed PM2_5 for Kraków since 2023-04-17 till 2023-04-20.\n",
      "Took 0.7 sec.\n",
      "\n",
      "Processed PM2_5 for London since 2023-04-17 till 2023-04-20.\n",
      "Took 0.52 sec.\n",
      "\n",
      "Processed PM2_5 for Madrid since 2023-04-17 till 2023-04-20.\n",
      "Took 1.04 sec.\n",
      "\n",
      "Processed PM2_5 for Marseille since 2023-04-17 till 2023-04-20.\n",
      "Took 0.62 sec.\n",
      "\n",
      "Processed PM2_5 for Milano since 2023-04-17 till 2023-04-20.\n",
      "Took 0.4 sec.\n",
      "\n",
      "Processed PM2_5 for München since 2023-04-17 till 2023-04-20.\n",
      "Took 0.56 sec.\n",
      "\n",
      "Processed PM2_5 for Napoli since 2023-04-17 till 2023-04-20.\n",
      "Took 0.4 sec.\n",
      "\n",
      "Processed PM2_5 for Paris since 2023-04-17 till 2023-04-20.\n",
      "Took 0.34 sec.\n",
      "\n",
      "Processed PM2_5 for Sevilla since 2023-04-17 till 2023-04-20.\n",
      "Took 0.35 sec.\n",
      "\n",
      "Processed PM2_5 for Stockholm since 2023-04-17 till 2023-04-20.\n",
      "Took 0.32 sec.\n",
      "\n",
      "Processed PM2_5 for Tallinn since 2023-04-17 till 2023-04-20.\n",
      "Took 0.3 sec.\n",
      "\n",
      "Processed PM2_5 for Varna since 2023-04-17 till 2023-04-20.\n",
      "Took 0.67 sec.\n",
      "\n",
      "Processed PM2_5 for Wien since 2023-04-17 till 2023-04-20.\n",
      "Took 0.32 sec.\n",
      "\n",
      "Processed PM2_5 for Albuquerque since 2023-04-17 till 2023-04-20.\n",
      "Took 0.4 sec.\n",
      "\n",
      "Processed PM2_5 for Atlanta since 2023-04-17 till 2023-04-20.\n",
      "Took 0.54 sec.\n",
      "\n",
      "Processed PM2_5 for Chicago since 2023-04-17 till 2023-04-20.\n",
      "Took 0.42 sec.\n",
      "\n",
      "Processed PM2_5 for Columbus since 2023-04-17 till 2023-04-20.\n",
      "Took 0.3 sec.\n",
      "\n",
      "Processed PM2_5 for Dallas since 2023-04-17 till 2023-04-20.\n",
      "Took 0.66 sec.\n",
      "\n",
      "Processed PM2_5 for Denver since 2023-04-17 till 2023-04-20.\n",
      "Took 0.7 sec.\n",
      "\n",
      "Processed PM2_5 for Houston since 2023-04-17 till 2023-04-20.\n",
      "Took 0.38 sec.\n",
      "\n",
      "Processed PM2_5 for Los Angeles since 2023-04-17 till 2023-04-20.\n",
      "Took 0.89 sec.\n",
      "\n",
      "Processed PM2_5 for New York since 2023-04-17 till 2023-04-20.\n",
      "Took 0.41 sec.\n",
      "\n",
      "Processed PM2_5 for Phoenix-Mesa since 2023-04-17 till 2023-04-20.\n",
      "Took 0.51 sec.\n",
      "\n",
      "Processed PM2_5 for Salt Lake City since 2023-04-17 till 2023-04-20.\n",
      "Took 2.96 sec.\n",
      "\n",
      "Processed PM2_5 for San Francisco since 2023-04-17 till 2023-04-20.\n",
      "Took 0.74 sec.\n",
      "\n",
      "Processed PM2_5 for Tampa since 2023-04-17 till 2023-04-20.\n",
      "Took 0.52 sec.\n",
      "\n",
      "Processed PM2_5 for Bellevue-SE 12th St since 2023-04-17 till 2023-04-20.\n",
      "Took 0.72 sec.\n",
      "\n",
      "Processed PM2_5 for DARRINGTON - FIR ST (Darrington High School) since 2023-04-17 till 2023-04-20.\n",
      "Took 2.29 sec.\n",
      "\n",
      "Processed PM2_5 for KENT - JAMES & CENTRAL since 2023-04-17 till 2023-04-20.\n",
      "Took 0.85 sec.\n",
      "\n",
      "Processed PM2_5 for LAKE FOREST PARK TOWNE CENTER since 2023-04-17 till 2023-04-20.\n",
      "Took 1.01 sec.\n",
      "\n",
      "Processed PM2_5 for MARYSVILLE - 7TH AVE (Marysville Junior High) since 2023-04-17 till 2023-04-20.\n",
      "Took 1.56 sec.\n",
      "\n",
      "Processed PM2_5 for NORTH BEND - NORTH BEND WAY since 2023-04-17 till 2023-04-20.\n",
      "Took 2.95 sec.\n",
      "\n",
      "Processed PM2_5 for SEATTLE - BEACON HILL since 2023-04-17 till 2023-04-20.\n",
      "Took 1.52 sec.\n",
      "\n",
      "Processed PM2_5 for SEATTLE - DUWAMISH since 2023-04-17 till 2023-04-20.\n",
      "Took 0.39 sec.\n",
      "\n",
      "Processed PM2_5 for SEATTLE - SOUTH PARK #2 since 2023-04-17 till 2023-04-20.\n",
      "Took 0.54 sec.\n",
      "\n",
      "Processed PM2_5 for Seattle-10th & Weller since 2023-04-17 till 2023-04-20.\n",
      "Took 0.46 sec.\n",
      "\n",
      "Processed PM2_5 for TACOMA - ALEXANDER AVE since 2023-04-17 till 2023-04-20.\n",
      "Took 0.73 sec.\n",
      "\n",
      "Processed PM2_5 for TACOMA - L STREET since 2023-04-17 till 2023-04-20.\n",
      "Took 0.39 sec.\n",
      "\n",
      "Processed PM2_5 for Tacoma-S 36th St since 2023-04-17 till 2023-04-20.\n",
      "Took 1.23 sec.\n",
      "\n",
      "Processed PM2_5 for Tukwila Allentown since 2023-04-17 till 2023-04-20.\n",
      "Took 1.28 sec.\n",
      "\n",
      "Processed PM2_5 for Tulalip-Totem Beach Rd since 2023-04-17 till 2023-04-20.\n",
      "Took 0.74 sec.\n",
      "\n",
      "----------------------------------------------------------------\n",
      "Parsed new PM2.5 data for ALL locations up to 2023-04-20.\n",
      "Took 36.26 sec.\n",
      "\n"
     ]
    }
   ],
   "source": [
    "start_of_cell = time.time()\n",
    "\n",
    "df_aq_raw = pd.DataFrame()\n",
    "\n",
    "for continent in target_cities:\n",
    "    for city_name, coords in target_cities[continent].items():\n",
    "        df_ = get_aqi_data_from_open_meteo(city_name=city_name,\n",
    "                                           coordinates=coords,\n",
    "                                           start_date=last_dates_aq[city_name],\n",
    "                                           end_date=str(today))\n",
    "        df_aq_raw = pd.concat([df_aq_raw, df_]).reset_index(drop=True)\n",
    "    \n",
    "end_of_cell = time.time()\n",
    "print(\"-\" * 64)\n",
    "print(f\"Parsed new PM2.5 data for ALL locations up to {str(today)}.\")\n",
    "print(f\"Took {round(end_of_cell - start_of_cell, 2)} sec.\\n\")"
   ]
  },
  {
   "cell_type": "code",
   "execution_count": 96,
   "id": "c554a518-0827-492d-9cf7-a288550c09c2",
   "metadata": {
    "tags": []
   },
   "outputs": [
    {
     "data": {
      "text/html": [
       "<div>\n",
       "<style scoped>\n",
       "    .dataframe tbody tr th:only-of-type {\n",
       "        vertical-align: middle;\n",
       "    }\n",
       "\n",
       "    .dataframe tbody tr th {\n",
       "        vertical-align: top;\n",
       "    }\n",
       "\n",
       "    .dataframe thead th {\n",
       "        text-align: right;\n",
       "    }\n",
       "</style>\n",
       "<table border=\"1\" class=\"dataframe\">\n",
       "  <thead>\n",
       "    <tr style=\"text-align: right;\">\n",
       "      <th></th>\n",
       "      <th>city_name</th>\n",
       "      <th>date</th>\n",
       "      <th>pm2_5</th>\n",
       "    </tr>\n",
       "  </thead>\n",
       "  <tbody>\n",
       "    <tr>\n",
       "      <th>3702</th>\n",
       "      <td>Amsterdam</td>\n",
       "      <td>2023-02-20</td>\n",
       "      <td>9.0</td>\n",
       "    </tr>\n",
       "    <tr>\n",
       "      <th>3703</th>\n",
       "      <td>Amsterdam</td>\n",
       "      <td>2023-02-21</td>\n",
       "      <td>18.0</td>\n",
       "    </tr>\n",
       "    <tr>\n",
       "      <th>3704</th>\n",
       "      <td>Amsterdam</td>\n",
       "      <td>2023-02-22</td>\n",
       "      <td>29.0</td>\n",
       "    </tr>\n",
       "    <tr>\n",
       "      <th>3705</th>\n",
       "      <td>Amsterdam</td>\n",
       "      <td>2023-02-23</td>\n",
       "      <td>19.0</td>\n",
       "    </tr>\n",
       "    <tr>\n",
       "      <th>3706</th>\n",
       "      <td>Amsterdam</td>\n",
       "      <td>2023-02-24</td>\n",
       "      <td>6.0</td>\n",
       "    </tr>\n",
       "    <tr>\n",
       "      <th>...</th>\n",
       "      <td>...</td>\n",
       "      <td>...</td>\n",
       "      <td>...</td>\n",
       "    </tr>\n",
       "    <tr>\n",
       "      <th>158060</th>\n",
       "      <td>Tampa</td>\n",
       "      <td>2023-04-13</td>\n",
       "      <td>6.1</td>\n",
       "    </tr>\n",
       "    <tr>\n",
       "      <th>158061</th>\n",
       "      <td>Tampa</td>\n",
       "      <td>2023-04-14</td>\n",
       "      <td>7.4</td>\n",
       "    </tr>\n",
       "    <tr>\n",
       "      <th>158062</th>\n",
       "      <td>Tampa</td>\n",
       "      <td>2023-04-15</td>\n",
       "      <td>12.1</td>\n",
       "    </tr>\n",
       "    <tr>\n",
       "      <th>158063</th>\n",
       "      <td>Tampa</td>\n",
       "      <td>2023-04-16</td>\n",
       "      <td>12.2</td>\n",
       "    </tr>\n",
       "    <tr>\n",
       "      <th>158064</th>\n",
       "      <td>Tampa</td>\n",
       "      <td>2023-04-17</td>\n",
       "      <td>8.4</td>\n",
       "    </tr>\n",
       "  </tbody>\n",
       "</table>\n",
       "<p>2595 rows × 3 columns</p>\n",
       "</div>"
      ],
      "text/plain": [
       "        city_name        date  pm2_5\n",
       "3702    Amsterdam  2023-02-20    9.0\n",
       "3703    Amsterdam  2023-02-21   18.0\n",
       "3704    Amsterdam  2023-02-22   29.0\n",
       "3705    Amsterdam  2023-02-23   19.0\n",
       "3706    Amsterdam  2023-02-24    6.0\n",
       "...           ...         ...    ...\n",
       "158060      Tampa  2023-04-13    6.1\n",
       "158061      Tampa  2023-04-14    7.4\n",
       "158062      Tampa  2023-04-15   12.1\n",
       "158063      Tampa  2023-04-16   12.2\n",
       "158064      Tampa  2023-04-17    8.4\n",
       "\n",
       "[2595 rows x 3 columns]"
      ]
     },
     "execution_count": 96,
     "metadata": {},
     "output_type": "execute_result"
    }
   ],
   "source": [
    "# calculate 30 days ago from today\n",
    "date_threshold = today - datetime.timedelta(days=30)\n",
    "\n",
    "df_air_quality.date = (df_air_quality.date).astype(str)\n",
    "# filter rows based on date threshold\n",
    "df_air_quality = df_air_quality[df_air_quality['date'] > str(date_threshold)]\n",
    "\n",
    "df_air_quality"
   ]
  },
  {
   "cell_type": "code",
   "execution_count": 97,
   "id": "6c6cfa83-065c-4f8f-b2da-6e4216a07644",
   "metadata": {
    "tags": []
   },
   "outputs": [],
   "source": [
    "# we need the previous data to calculate aggregation functions\n",
    "df_aq_update = pd.concat([df_air_quality, df_aq_raw]).reset_index(drop=True)\n",
    "df_aq_update = df_aq_update.drop_duplicates(subset=['city_name', 'date'])"
   ]
  },
  {
   "cell_type": "code",
   "execution_count": 98,
   "id": "e830f1b9-f596-45e0-9285-e996d7df9d05",
   "metadata": {
    "tags": []
   },
   "outputs": [
    {
     "data": {
      "text/plain": [
       "(2744, 3)"
      ]
     },
     "execution_count": 98,
     "metadata": {},
     "output_type": "execute_result"
    }
   ],
   "source": [
    "df_aq_update.shape"
   ]
  },
  {
   "cell_type": "markdown",
   "id": "250d9daf-83fa-49f1-bcd8-4efaeb90b99c",
   "metadata": {
    "tags": []
   },
   "source": [
    "### <span style=\"color:#ff5f27;\">🛠 Feature Engineering PM2.5</span>"
   ]
  },
  {
   "cell_type": "code",
   "execution_count": 99,
   "id": "140b468a-e0c2-44a1-8e44-4cf393407eca",
   "metadata": {
    "tags": []
   },
   "outputs": [],
   "source": [
    "df_aq_update['date'] = pd.to_datetime(df_aq_update['date'])"
   ]
  },
  {
   "cell_type": "code",
   "execution_count": 100,
   "id": "a108c3fb-4945-4ace-b6f6-4f3f4a9349d3",
   "metadata": {
    "tags": []
   },
   "outputs": [],
   "source": [
    "features.air_quality.shift_pm_2_5(df_aq_update, days=7) # add features about 7 previous PM2.5 values\n",
    "\n",
    "features.air_quality.moving_average(df_aq_update, 7)\n",
    "features.air_quality.moving_average(df_aq_update, 14)\n",
    "features.air_quality.moving_average(df_aq_update, 28)\n",
    "\n",
    "for i in [7, 14, 28]:\n",
    "    for func in [features.air_quality.moving_std,\n",
    "                 features.air_quality.exponential_moving_average,\n",
    "                 features.air_quality.exponential_moving_std\n",
    "                 ]:\n",
    "        func(df_aq_update, i)\n",
    "        \n",
    "\n",
    "df_aq_update = df_aq_update.sort_values(by=[\"date\", \"pm2_5\"]).dropna()\n",
    "df_aq_update = df_aq_update.reset_index(drop=True)"
   ]
  },
  {
   "cell_type": "code",
   "execution_count": 101,
   "id": "92db141a-2397-4a69-856f-afb220a38866",
   "metadata": {
    "tags": []
   },
   "outputs": [],
   "source": [
    "features.air_quality.year(df_aq_update)\n",
    "features.air_quality.day_of_month(df_aq_update)\n",
    "features.air_quality.month(df_aq_update)\n",
    "features.air_quality.day_of_week(df_aq_update)\n",
    "features.air_quality.is_weekend(df_aq_update)\n",
    "features.air_quality.sin_day_of_year(df_aq_update)\n",
    "features.air_quality.cos_day_of_year(df_aq_update)\n",
    "features.air_quality.sin_day_of_week(df_aq_update)\n",
    "features.air_quality.cos_day_of_week(df_aq_update)"
   ]
  },
  {
   "cell_type": "code",
   "execution_count": 102,
   "id": "131d1e58-7d12-4cd8-a24e-ffcc8eaa7c20",
   "metadata": {
    "tags": []
   },
   "outputs": [
    {
     "data": {
      "text/plain": [
       "0"
      ]
     },
     "execution_count": 102,
     "metadata": {},
     "output_type": "execute_result"
    }
   ],
   "source": [
    "df_aq_update.isna().sum().sum()"
   ]
  },
  {
   "cell_type": "code",
   "execution_count": 103,
   "id": "94f67c89-6b39-4748-b4be-6ed3c9d57f96",
   "metadata": {
    "tags": []
   },
   "outputs": [
    {
     "data": {
      "text/plain": [
       "(1484, 31)"
      ]
     },
     "execution_count": 103,
     "metadata": {},
     "output_type": "execute_result"
    }
   ],
   "source": [
    "df_aq_update.shape"
   ]
  },
  {
   "cell_type": "code",
   "execution_count": 105,
   "id": "ed9bc7f1-d62e-4b1f-97af-6ecd30fe4b67",
   "metadata": {
    "tags": []
   },
   "outputs": [
    {
     "data": {
      "text/plain": [
       "Index(['city_name', 'date', 'pm2_5', 'pm_2_5_previous_1_day',\n",
       "       'pm_2_5_previous_2_day', 'pm_2_5_previous_3_day',\n",
       "       'pm_2_5_previous_4_day', 'pm_2_5_previous_5_day',\n",
       "       'pm_2_5_previous_6_day', 'pm_2_5_previous_7_day', 'mean_7_days',\n",
       "       'mean_14_days', 'mean_28_days', 'std_7_days', 'exp_mean_7_days',\n",
       "       'exp_std_7_days', 'std_14_days', 'exp_mean_14_days', 'exp_std_14_days',\n",
       "       'std_28_days', 'exp_mean_28_days', 'exp_std_28_days', 'year',\n",
       "       'day_of_month', 'month', 'day_of_week', 'is_weekend', 'sin_day_of_year',\n",
       "       'cos_day_of_year', 'sin_day_of_week', 'cos_day_of_week'],\n",
       "      dtype='object')"
      ]
     },
     "execution_count": 105,
     "metadata": {},
     "output_type": "execute_result"
    }
   ],
   "source": [
    "df_aq_update.columns"
   ]
  },
  {
   "cell_type": "markdown",
   "id": "d74f5622-6f57-47b9-ac0b-dfb6617847b2",
   "metadata": {},
   "source": [
    "---"
   ]
  },
  {
   "cell_type": "markdown",
   "id": "95a34c64-5b94-4c4f-b03d-14e12a106f25",
   "metadata": {},
   "source": [
    "## <span style='color:#ff5f27'> 🌦 Filling gaps in Weather data</span>"
   ]
  },
  {
   "cell_type": "code",
   "execution_count": 108,
   "id": "46009853-160c-467e-abb0-3145d27c57dc",
   "metadata": {
    "tags": []
   },
   "outputs": [],
   "source": [
    "last_dates_weather = df_weather[[\"date\", \"city_name\"]].groupby(\"city_name\").max()\n",
    "last_dates_weather.date = last_dates_weather.date.astype(str)\n",
    "last_dates_weather = last_dates_weather.to_dict()[\"date\"]"
   ]
  },
  {
   "cell_type": "markdown",
   "id": "1fd15812-a3a9-488c-879e-181c7b815357",
   "metadata": {
    "tags": []
   },
   "source": [
    "### <span style='color:#ff5f27'>  🧙🏼‍♂️ Parsing Weather data"
   ]
  },
  {
   "cell_type": "code",
   "execution_count": 109,
   "id": "ef027d28-3443-4c7c-9e85-783625301a14",
   "metadata": {
    "scrolled": true,
    "tags": []
   },
   "outputs": [
    {
     "name": "stdout",
     "output_type": "stream",
     "text": [
      "Parsed weather for Amsterdam since 2023-03-20 till 2023-04-20.\n",
      "Took 0.78 sec.\n",
      "\n",
      "Parsed weather for Athina since 2023-03-20 till 2023-04-20.\n",
      "Took 0.52 sec.\n",
      "\n",
      "Parsed weather for Berlin since 2023-03-20 till 2023-04-20.\n",
      "Took 0.4 sec.\n",
      "\n",
      "Parsed weather for Gdansk since 2023-03-20 till 2023-04-20.\n",
      "Took 0.75 sec.\n",
      "\n",
      "Parsed weather for Kraków since 2023-03-20 till 2023-04-20.\n",
      "Took 0.7 sec.\n",
      "\n",
      "Parsed weather for London since 2023-03-20 till 2023-04-20.\n",
      "Took 1.06 sec.\n",
      "\n",
      "Parsed weather for Madrid since 2023-03-20 till 2023-04-20.\n",
      "Took 0.89 sec.\n",
      "\n",
      "Parsed weather for Marseille since 2023-03-20 till 2023-04-20.\n",
      "Took 1.24 sec.\n",
      "\n",
      "Parsed weather for Milano since 2023-03-20 till 2023-04-20.\n",
      "Took 0.51 sec.\n",
      "\n",
      "Parsed weather for München since 2023-03-20 till 2023-04-20.\n",
      "Took 0.46 sec.\n",
      "\n",
      "Parsed weather for Napoli since 2023-03-20 till 2023-04-20.\n",
      "Took 0.6 sec.\n",
      "\n",
      "Parsed weather for Paris since 2023-03-20 till 2023-04-20.\n",
      "Took 0.53 sec.\n",
      "\n",
      "Parsed weather for Sevilla since 2023-03-20 till 2023-04-20.\n",
      "Took 0.66 sec.\n",
      "\n",
      "Parsed weather for Stockholm since 2023-03-20 till 2023-04-20.\n",
      "Took 0.67 sec.\n",
      "\n",
      "Parsed weather for Tallinn since 2023-03-20 till 2023-04-20.\n",
      "Took 0.77 sec.\n",
      "\n",
      "Parsed weather for Varna since 2023-03-20 till 2023-04-20.\n",
      "Took 1.59 sec.\n",
      "\n",
      "Parsed weather for Wien since 2023-03-20 till 2023-04-20.\n",
      "Took 0.53 sec.\n",
      "\n",
      "Parsed weather for Albuquerque since 2023-03-20 till 2023-04-20.\n",
      "Took 0.6 sec.\n",
      "\n",
      "Parsed weather for Atlanta since 2023-03-20 till 2023-04-20.\n",
      "Took 0.5 sec.\n",
      "\n",
      "Parsed weather for Chicago since 2023-03-20 till 2023-04-20.\n",
      "Took 0.6 sec.\n",
      "\n",
      "Parsed weather for Columbus since 2023-03-20 till 2023-04-20.\n",
      "Took 0.51 sec.\n",
      "\n",
      "Parsed weather for Dallas since 2023-03-20 till 2023-04-20.\n",
      "Took 0.54 sec.\n",
      "\n",
      "Parsed weather for Denver since 2023-03-20 till 2023-04-20.\n",
      "Took 0.63 sec.\n",
      "\n",
      "Parsed weather for Houston since 2023-03-20 till 2023-04-20.\n",
      "Took 1.25 sec.\n",
      "\n",
      "Parsed weather for Los Angeles since 2023-03-20 till 2023-04-20.\n",
      "Took 0.54 sec.\n",
      "\n",
      "Parsed weather for New York since 2023-03-20 till 2023-04-20.\n",
      "Took 0.58 sec.\n",
      "\n",
      "Parsed weather for Phoenix-Mesa since 2023-03-20 till 2023-04-20.\n",
      "Took 0.51 sec.\n",
      "\n",
      "Parsed weather for Salt Lake City since 2023-03-20 till 2023-04-20.\n",
      "Took 0.52 sec.\n",
      "\n",
      "Parsed weather for San Francisco since 2023-03-20 till 2023-04-20.\n",
      "Took 0.47 sec.\n",
      "\n",
      "Parsed weather for Tampa since 2023-03-20 till 2023-04-20.\n",
      "Took 0.62 sec.\n",
      "\n",
      "Parsed weather for Bellevue-SE 12th St since 2023-03-20 till 2023-04-20.\n",
      "Took 0.52 sec.\n",
      "\n",
      "Parsed weather for DARRINGTON - FIR ST (Darrington High School) since 2023-03-20 till 2023-04-20.\n",
      "Took 0.54 sec.\n",
      "\n",
      "Parsed weather for KENT - JAMES & CENTRAL since 2023-03-20 till 2023-04-20.\n",
      "Took 0.54 sec.\n",
      "\n",
      "Parsed weather for LAKE FOREST PARK TOWNE CENTER since 2023-03-20 till 2023-04-20.\n",
      "Took 0.89 sec.\n",
      "\n",
      "Parsed weather for MARYSVILLE - 7TH AVE (Marysville Junior High) since 2023-03-20 till 2023-04-20.\n",
      "Took 0.53 sec.\n",
      "\n",
      "Parsed weather for NORTH BEND - NORTH BEND WAY since 2023-03-20 till 2023-04-20.\n",
      "Took 0.89 sec.\n",
      "\n",
      "Parsed weather for SEATTLE - BEACON HILL since 2023-03-20 till 2023-04-20.\n",
      "Took 0.63 sec.\n",
      "\n",
      "Parsed weather for SEATTLE - DUWAMISH since 2023-03-20 till 2023-04-20.\n",
      "Took 1.2 sec.\n",
      "\n",
      "Parsed weather for SEATTLE - SOUTH PARK #2 since 2023-03-20 till 2023-04-20.\n",
      "Took 0.54 sec.\n",
      "\n",
      "Parsed weather for Seattle-10th & Weller since 2023-03-20 till 2023-04-20.\n",
      "Took 0.79 sec.\n",
      "\n",
      "Parsed weather for TACOMA - ALEXANDER AVE since 2023-03-20 till 2023-04-20.\n",
      "Took 0.99 sec.\n",
      "\n",
      "Parsed weather for TACOMA - L STREET since 2023-03-20 till 2023-04-20.\n",
      "Took 0.64 sec.\n",
      "\n",
      "Parsed weather for Tacoma-S 36th St since 2023-03-20 till 2023-04-20.\n",
      "Took 0.48 sec.\n",
      "\n",
      "Parsed weather for Tukwila Allentown since 2023-03-20 till 2023-04-20.\n",
      "Took 0.75 sec.\n",
      "\n",
      "Parsed weather for Tulalip-Totem Beach Rd since 2023-03-20 till 2023-04-20.\n",
      "Took 0.49 sec.\n",
      "\n",
      "----------------------------------------------------------------\n",
      "Parsed new weather data for ALL cities up to 2023-04-20.\n",
      "Took 30.98 sec.\n",
      "\n"
     ]
    }
   ],
   "source": [
    "start_of_cell = time.time()\n",
    "\n",
    "df_weather_update = pd.DataFrame()\n",
    "\n",
    "for continent in target_cities:\n",
    "    for city_name, coords in target_cities[continent].items():\n",
    "        df_ = get_weather_data_from_open_meteo(city_name=city_name,\n",
    "                                               coordinates=coords,\n",
    "                                               start_date=last_dates_aq[city_name],\n",
    "                                               end_date=str(today),\n",
    "                                               forecast=True)\n",
    "        df_weather_update = pd.concat([df_weather_update, df_]).reset_index(drop=True)\n",
    "    \n",
    "end_of_cell = time.time()\n",
    "print(\"-\" * 64)\n",
    "print(f\"Parsed new weather data for ALL cities up to {str(today)}.\")\n",
    "print(f\"Took {round(end_of_cell - start_of_cell, 2)} sec.\\n\")"
   ]
  },
  {
   "cell_type": "code",
   "execution_count": 110,
   "id": "a7bff400-a2fb-48a3-a07b-5bd2a0469cd7",
   "metadata": {
    "tags": []
   },
   "outputs": [],
   "source": [
    "df_aq_update.date = pd.to_datetime(df_aq_update.date)\n",
    "df_weather_update.date = pd.to_datetime(df_weather_update.date)\n",
    "\n",
    "df_aq_update[\"unix_time\"] = df_aq_update[\"date\"].apply(convert_date_to_unix)\n",
    "df_weather_update[\"unix_time\"] = df_weather_update[\"date\"].apply(convert_date_to_unix)"
   ]
  },
  {
   "cell_type": "code",
   "execution_count": 111,
   "id": "11752b30-2f40-4668-9813-2a90199c62b8",
   "metadata": {
    "tags": []
   },
   "outputs": [],
   "source": [
    "df_aq_update.date = df_aq_update.date.astype(str)\n",
    "df_weather_update.date = df_weather_update.date.astype(str)"
   ]
  },
  {
   "cell_type": "markdown",
   "id": "792dd383",
   "metadata": {},
   "source": [
    "---"
   ]
  },
  {
   "cell_type": "markdown",
   "id": "5aef353d",
   "metadata": {
    "tags": []
   },
   "source": [
    "## <span style=\"color:#ff5f27;\">⬆️ Uploading new data to the Feature Store</span>"
   ]
  },
  {
   "cell_type": "markdown",
   "id": "b59f3599-f336-41ff-a500-5dd2951ce136",
   "metadata": {},
   "source": [
    "### <span style=\"color:#ff5f27;\"> 🔮 Connecting to Hopsworks Feature Store </span>"
   ]
  },
  {
   "cell_type": "code",
   "execution_count": 38,
   "id": "4530f803",
   "metadata": {},
   "outputs": [
    {
     "name": "stdout",
     "output_type": "stream",
     "text": [
      "Connected. Call `.close()` to terminate connection gracefully.\n",
      "\n",
      "Logged in to project, explore it here https://c.app.hopsworks.ai:443/p/14502\n",
      "Connected. Call `.close()` to terminate connection gracefully.\n"
     ]
    }
   ],
   "source": [
    "import hopsworks\n",
    "\n",
    "\n",
    "project = hopsworks.login()\n",
    "fs = project.get_feature_store() \n",
    "\n",
    "air_quality_fg = fs.get_or_create_feature_group(\n",
    "    name = 'air_quality',\n",
    "    version = 1\n",
    ")\n",
    "weather_fg = fs.get_or_create_feature_group(\n",
    "    name = 'weather',\n",
    "    version = 1\n",
    ")"
   ]
  },
  {
   "cell_type": "code",
   "execution_count": 29,
   "id": "f81bb922",
   "metadata": {},
   "outputs": [
    {
     "data": {
      "application/vnd.jupyter.widget-view+json": {
       "model_id": "660a2b89aa84475dbde2e3c02991b211",
       "version_major": 2,
       "version_minor": 0
      },
      "text/plain": [
       "Uploading Dataframe: 0.00% |          | Rows 0/135 | Elapsed Time: 00:00 | Remaining Time: ?"
      ]
     },
     "metadata": {},
     "output_type": "display_data"
    },
    {
     "name": "stdout",
     "output_type": "stream",
     "text": [
      "Launching offline feature group backfill job...\n",
      "Backfill Job started successfully, you can follow the progress at \n",
      "https://c.app.hopsworks.ai/p/14502/jobs/named/air_quality_1_offline_fg_backfill/executions\n"
     ]
    },
    {
     "data": {
      "text/plain": [
       "(<hsfs.core.job.Job at 0x7f87bd562eb0>, None)"
      ]
     },
     "execution_count": 29,
     "metadata": {},
     "output_type": "execute_result"
    }
   ],
   "source": [
    "air_quality_fg.insert(df_aq_update, write_options={\"wait_for_job\": False})"
   ]
  },
  {
   "cell_type": "code",
   "execution_count": 31,
   "id": "be0c498e",
   "metadata": {},
   "outputs": [
    {
     "data": {
      "application/vnd.jupyter.widget-view+json": {
       "model_id": "0b6f3ea9cb5446999830aee441ad8584",
       "version_major": 2,
       "version_minor": 0
      },
      "text/plain": [
       "Uploading Dataframe: 0.00% |          | Rows 0/45 | Elapsed Time: 00:00 | Remaining Time: ?"
      ]
     },
     "metadata": {},
     "output_type": "display_data"
    },
    {
     "name": "stdout",
     "output_type": "stream",
     "text": [
      "Launching offline feature group backfill job...\n",
      "Backfill Job started successfully, you can follow the progress at \n",
      "https://c.app.hopsworks.ai/p/14502/jobs/named/weather_1_offline_fg_backfill/executions\n"
     ]
    },
    {
     "data": {
      "text/plain": [
       "(<hsfs.core.job.Job at 0x7f87bd581c10>, None)"
      ]
     },
     "execution_count": 31,
     "metadata": {},
     "output_type": "execute_result"
    }
   ],
   "source": [
    "weather_fg.insert(df_weather_update, write_options={\"wait_for_job\": True})"
   ]
  },
  {
   "cell_type": "code",
   "execution_count": null,
   "id": "c0a2a248-976c-487a-8ad0-6092ebe6e28a",
   "metadata": {},
   "outputs": [],
   "source": []
  },
  {
   "cell_type": "code",
   "execution_count": null,
   "id": "293fcdc9-bbb8-46b1-8ee6-465ce9991c8d",
   "metadata": {},
   "outputs": [],
   "source": []
  },
  {
   "cell_type": "code",
   "execution_count": null,
   "id": "8b09fe3c-6409-4462-81f0-bf1a146e2aa0",
   "metadata": {},
   "outputs": [],
   "source": []
  },
  {
   "cell_type": "code",
   "execution_count": null,
   "id": "c67670f8-ff3c-4788-bcfb-4827d087bb47",
   "metadata": {},
   "outputs": [],
   "source": []
  },
  {
   "cell_type": "markdown",
   "id": "4476a6ad-9340-4e7f-bd9b-77b143670d01",
   "metadata": {},
   "source": [
    "# TESTING"
   ]
  },
  {
   "cell_type": "code",
   "execution_count": 283,
   "id": "85a6c38e-8bca-49e6-9371-08deed8c9539",
   "metadata": {
    "tags": []
   },
   "outputs": [],
   "source": [
    "selected_cities_full_list = [\"Albuquerque\", \"Varna\", \"Wien\"]"
   ]
  },
  {
   "cell_type": "code",
   "execution_count": 284,
   "id": "12810aa4-026c-4301-9872-5b633cda883c",
   "metadata": {
    "tags": []
   },
   "outputs": [],
   "source": [
    "dataset = df_aq_update.merge(df_weather_update, on=['city_name', 'date'])"
   ]
  },
  {
   "cell_type": "code",
   "execution_count": 285,
   "id": "3a3816a0-25f5-4c65-9023-af51b6a600e2",
   "metadata": {
    "tags": []
   },
   "outputs": [],
   "source": [
    "dataset = dataset[dataset.city_name.isin(selected_cities_full_list)]"
   ]
  },
  {
   "cell_type": "code",
   "execution_count": 286,
   "id": "e30295ac-2da8-4250-bed8-2a1964786339",
   "metadata": {},
   "outputs": [],
   "source": [
    "dataset = dataset.drop(columns=['unix_time_y', 'unix_time_x'])"
   ]
  },
  {
   "cell_type": "code",
   "execution_count": 287,
   "id": "fc4db88c-9cbe-44de-bcd8-17fb0282a126",
   "metadata": {
    "tags": []
   },
   "outputs": [],
   "source": [
    "# dataset.to_csv(\"modeling_streamlit.csv\", index=False)"
   ]
  },
  {
   "cell_type": "code",
   "execution_count": 288,
   "id": "be4cb3f8-0a7c-4715-901d-b868a98f8392",
   "metadata": {
    "tags": []
   },
   "outputs": [],
   "source": [
    "dataset = dataset.sort_values([\"city_name\", \"date\"])"
   ]
  },
  {
   "cell_type": "code",
   "execution_count": 57,
   "id": "cfb95acb-3ffa-4002-9ad3-290ad2f0fec1",
   "metadata": {
    "tags": []
   },
   "outputs": [],
   "source": [
    "# dict_for_streamlit = {}\n",
    "# for continent in target_cities:\n",
    "#         for city_name, coords in target_cities[continent].items():\n",
    "#             dict_for_streamlit[city_name] = coords"
   ]
  },
  {
   "cell_type": "code",
   "execution_count": 45,
   "id": "c9518ff4-9d17-48bd-969b-bb3afdbf183f",
   "metadata": {
    "tags": []
   },
   "outputs": [],
   "source": [
    "print_fancy_header(\"🧬 Modeling\")\n",
    "HOW_MANY_DAYS_PREDICT = st.number_input(label='',\n",
    "                                        min_value=3,\n",
    "                                        max_value=16,\n",
    "                                        step=1,\n",
    "                                        value=7)\n",
    "HOW_MANY_DAYS_PREDICT = int(HOW_MANY_DAYS_PREDICT)\n",
    "forecast_end = today + datetime.timedelta(days=HOW_MANY_DAYS_PREDICT)\n",
    "\n",
    "st.write(3 * \"-\")\n",
    "print_fancy_header(f'\\n🌤📆 Getting weather forecast for {str(today)}-{str(forecast_end)}...')\n",
    "\n",
    "\n",
    "\n",
    "st.write(\"✅ Done!\")\n",
    "\n",
    "st.write(3 * \"-\")\n",
    "print_fancy_header('\\n🤖 Getting the model...')\n",
    "\n",
    "saved_model_dir = download_model(\n",
    "    name=\"air_quality_xgboost_model\",\n",
    "    version=1\n",
    ")\n",
    "regressor = joblib.load(saved_model_dir + \"/xgboost_regressor.pkl\")\n",
    "encoder = joblib.load(saved_model_dir + \"/label_encoder.pkl\")\n",
    "\n",
    "st.write(3 * \"-\")\n",
    "print_fancy_header('\\n🧠 Predicting...')\n",
    "\n",
    "for city_name in selected_cities_full_list:\n",
    "    st.write(f\"Processing {city_name}...\")\n",
    "    temp_date = datetime.date.today()\n",
    "    for i in range(HOW_MANY_DAYS_PREDICT):\n",
    "        temp_date += datetime.timedelta(days=1)\n",
    "        \n",
    "        df_aq_temp = pd.DataFrame(columns=dataset.columns, data=[[-1] * dataset.shape[1]])\n",
    "        df_aq_temp['date'] = temp_date\n",
    "        df_aq_temp['city_name'] = city_name\n",
    "\n",
    "        df_aq_temp = pd.concat([dataset, df_aq_temp], axis=0).reset_index(drop=True)\n",
    "        \n",
    "        df_aq_temp['date'] = pd.to_datetime(df_aq_temp['date'])\n",
    "        features.air_quality.shift_pm_2_5(df_aq_temp, days=7) # add features about 7 previous PM2.5 values\n",
    "\n",
    "        features.air_quality.moving_average(df_aq_temp, 7)\n",
    "        features.air_quality.moving_average(df_aq_temp, 14)\n",
    "        features.air_quality.moving_average(df_aq_temp, 28)\n",
    "\n",
    "        for i in [7, 14, 28]:\n",
    "            for func in [features.air_quality.moving_std,\n",
    "                         features.air_quality.exponential_moving_average,\n",
    "                         features.air_quality.exponential_moving_std\n",
    "                         ]:\n",
    "                func(df_aq_temp, i)\n",
    "\n",
    "        df_aq_temp = df_aq_temp.sort_values(by=[\"date\", \"pm2_5\"]).dropna()\n",
    "        df_aq_temp = df_aq_temp.reset_index(drop=True)\n",
    "\n",
    "        features.air_quality.year(df_aq_temp)\n",
    "        features.air_quality.day_of_month(df_aq_temp)\n",
    "        features.air_quality.month(df_aq_temp)\n",
    "        features.air_quality.day_of_week(df_aq_temp)\n",
    "        features.air_quality.is_weekend(df_aq_temp)\n",
    "        features.air_quality.sin_day_of_year(df_aq_temp)\n",
    "        features.air_quality.cos_day_of_year(df_aq_temp)\n",
    "        features.air_quality.sin_day_of_week(df_aq_temp)\n",
    "        features.air_quality.cos_day_of_week(df_aq_temp)\n",
    "        \n",
    "        # we need only the last row (one city, one day)\n",
    "        df_aq_temp = df_aq_temp[df_aq_temp['city_name'] == city_name].tail(1)\n",
    "\n",
    "        # get weather data for this specific day\n",
    "        coordinates = dict_for_streamlit[city_name]\n",
    "        df_weather_temp = get_weather_data_from_open_meteo(city_name=city_name,\n",
    "                                                           coordinates=coords,\n",
    "                                                           start_date=str(temp_date),\n",
    "                                                           end_date=str(temp_date),\n",
    "                                                           forecast=True)\n",
    "    \n",
    "        df_aq_temp = df_aq_temp.drop(columns=df_weather_temp.columns[2:])\n",
    "        X = df_aq_temp.merge(df_weather_temp, on=[\"city_name\", \"date\"])\n",
    "        encoded = encoder.transform(X['city_name'])\n",
    "\n",
    "        # Convert the output to a dense array and concatenate with the original data\n",
    "        X = pd.concat([X, pd.DataFrame(encoded)], axis=1)\n",
    "        X = X.rename(columns={0: 'city_name_encoded'})\n",
    "\n",
    "        feature_names = regressor.get_booster().feature_names\n",
    "        X = X[feature_names]\n",
    "\n",
    "        preds_temp = regressor.predict(X)\n",
    "\n",
    "        df_temp = X.copy()\n",
    "        df_temp['pm2_5'] = round(preds_temp[0], 1)\n",
    "        df_temp['city_name'] = city_name\n",
    "        df_temp['date'] = str(temp_date)\n",
    "        df_temp = df_temp.drop(columns=['city_name_encoded'])\n",
    "\n",
    "        # update dataset variable\n",
    "        dataset = pd.concat([dataset, df_temp])"
   ]
  },
  {
   "cell_type": "code",
   "execution_count": 302,
   "id": "7e255aef-cf08-4cec-957e-b07b1d12b1cb",
   "metadata": {
    "tags": []
   },
   "outputs": [],
   "source": [
    "dataset = dataset_.copy()"
   ]
  },
  {
   "cell_type": "code",
   "execution_count": 311,
   "id": "5cd085a2-8621-481b-8917-560885a480b3",
   "metadata": {
    "tags": []
   },
   "outputs": [
    {
     "data": {
      "text/plain": [
       "'2023-04-17'"
      ]
     },
     "execution_count": 311,
     "metadata": {},
     "output_type": "execute_result"
    }
   ],
   "source": [
    "max(last_dates_aq.values())"
   ]
  },
  {
   "cell_type": "code",
   "execution_count": 303,
   "id": "3c30bea8-a0cb-4746-97a7-8c8abdf13308",
   "metadata": {
    "scrolled": true,
    "tags": []
   },
   "outputs": [
    {
     "name": "stdout",
     "output_type": "stream",
     "text": [
      "Parsed weather for Albuquerque since 2023-04-21 till 2023-04-21.\n",
      "Took 0.13 sec.\n",
      "\n",
      "Parsed weather for Albuquerque since 2023-04-22 till 2023-04-22.\n",
      "Took 0.12 sec.\n",
      "\n",
      "Parsed weather for Albuquerque since 2023-04-23 till 2023-04-23.\n",
      "Took 0.12 sec.\n",
      "\n",
      "Parsed weather for Albuquerque since 2023-04-24 till 2023-04-24.\n",
      "Took 0.12 sec.\n",
      "\n",
      "Parsed weather for Albuquerque since 2023-04-25 till 2023-04-25.\n",
      "Took 0.13 sec.\n",
      "\n",
      "Parsed weather for Albuquerque since 2023-04-26 till 2023-04-26.\n",
      "Took 0.12 sec.\n",
      "\n",
      "Parsed weather for Albuquerque since 2023-04-27 till 2023-04-27.\n",
      "Took 0.12 sec.\n",
      "\n",
      "Parsed weather for Varna since 2023-04-21 till 2023-04-21.\n",
      "Took 0.12 sec.\n",
      "\n",
      "Parsed weather for Varna since 2023-04-22 till 2023-04-22.\n",
      "Took 0.12 sec.\n",
      "\n",
      "Parsed weather for Varna since 2023-04-23 till 2023-04-23.\n",
      "Took 0.12 sec.\n",
      "\n",
      "Parsed weather for Varna since 2023-04-24 till 2023-04-24.\n",
      "Took 0.12 sec.\n",
      "\n",
      "Parsed weather for Varna since 2023-04-25 till 2023-04-25.\n",
      "Took 0.12 sec.\n",
      "\n",
      "Parsed weather for Varna since 2023-04-26 till 2023-04-26.\n",
      "Took 0.12 sec.\n",
      "\n",
      "Parsed weather for Varna since 2023-04-27 till 2023-04-27.\n",
      "Took 0.13 sec.\n",
      "\n",
      "Parsed weather for Wien since 2023-04-21 till 2023-04-21.\n",
      "Took 0.12 sec.\n",
      "\n",
      "Parsed weather for Wien since 2023-04-22 till 2023-04-22.\n",
      "Took 0.12 sec.\n",
      "\n",
      "Parsed weather for Wien since 2023-04-23 till 2023-04-23.\n",
      "Took 0.12 sec.\n",
      "\n",
      "Parsed weather for Wien since 2023-04-24 till 2023-04-24.\n",
      "Took 0.12 sec.\n",
      "\n",
      "Parsed weather for Wien since 2023-04-25 till 2023-04-25.\n",
      "Took 0.12 sec.\n",
      "\n",
      "Parsed weather for Wien since 2023-04-26 till 2023-04-26.\n",
      "Took 0.12 sec.\n",
      "\n",
      "Parsed weather for Wien since 2023-04-27 till 2023-04-27.\n",
      "Took 0.12 sec.\n",
      "\n"
     ]
    }
   ],
   "source": []
  },
  {
   "cell_type": "code",
   "execution_count": 307,
   "id": "7cdf964f-1b9e-4b6f-865b-eb355f95f52d",
   "metadata": {
    "tags": []
   },
   "outputs": [
    {
     "name": "stdout",
     "output_type": "stream",
     "text": [
      "       city_name        date  pm2_5\n",
      "30   Albuquerque  2023-03-20   11.5\n",
      "65   Albuquerque  2023-03-21    7.3\n",
      "112  Albuquerque  2023-03-22    8.8\n"
     ]
    }
   ],
   "source": [
    "print(dataset[['city_name', 'date', 'pm2_5']].head(3))"
   ]
  },
  {
   "cell_type": "code",
   "execution_count": 281,
   "id": "b3fb7cce-1043-40d0-97de-59299e74e733",
   "metadata": {
    "tags": []
   },
   "outputs": [
    {
     "data": {
      "text/html": [
       "<div>\n",
       "<style scoped>\n",
       "    .dataframe tbody tr th:only-of-type {\n",
       "        vertical-align: middle;\n",
       "    }\n",
       "\n",
       "    .dataframe tbody tr th {\n",
       "        vertical-align: top;\n",
       "    }\n",
       "\n",
       "    .dataframe thead th {\n",
       "        text-align: right;\n",
       "    }\n",
       "</style>\n",
       "<table border=\"1\" class=\"dataframe\">\n",
       "  <thead>\n",
       "    <tr style=\"text-align: right;\">\n",
       "      <th></th>\n",
       "      <th>city_name</th>\n",
       "      <th>date</th>\n",
       "      <th>temperature_max</th>\n",
       "      <th>temperature_min</th>\n",
       "      <th>precipitation_sum</th>\n",
       "      <th>rain_sum</th>\n",
       "      <th>snowfall_sum</th>\n",
       "      <th>precipitation_hours</th>\n",
       "      <th>wind_speed_max</th>\n",
       "      <th>wind_gusts_max</th>\n",
       "      <th>wind_direction_dominant</th>\n",
       "    </tr>\n",
       "  </thead>\n",
       "  <tbody>\n",
       "    <tr>\n",
       "      <th>0</th>\n",
       "      <td>Varna</td>\n",
       "      <td>2023-04-21</td>\n",
       "      <td>9.3</td>\n",
       "      <td>6.0</td>\n",
       "      <td>1.9</td>\n",
       "      <td>1.9</td>\n",
       "      <td>0.0</td>\n",
       "      <td>4.0</td>\n",
       "      <td>21.5</td>\n",
       "      <td>50.4</td>\n",
       "      <td>207</td>\n",
       "    </tr>\n",
       "  </tbody>\n",
       "</table>\n",
       "</div>"
      ],
      "text/plain": [
       "  city_name       date  temperature_max  temperature_min  precipitation_sum  \\\n",
       "0     Varna 2023-04-21              9.3              6.0                1.9   \n",
       "\n",
       "   rain_sum  snowfall_sum  precipitation_hours  wind_speed_max  \\\n",
       "0       1.9           0.0                  4.0            21.5   \n",
       "\n",
       "   wind_gusts_max  wind_direction_dominant  \n",
       "0            50.4                      207  "
      ]
     },
     "execution_count": 281,
     "metadata": {},
     "output_type": "execute_result"
    }
   ],
   "source": [
    "df_weather_forecast"
   ]
  },
  {
   "cell_type": "code",
   "execution_count": 278,
   "id": "9b8dea2c-f266-488b-9aeb-94282320d502",
   "metadata": {
    "tags": []
   },
   "outputs": [],
   "source": [
    "X = df_aq_temp.merge(df_weather_forecast, on=[\"city_name\", \"date\"])"
   ]
  },
  {
   "cell_type": "code",
   "execution_count": 279,
   "id": "aa79a54e-7130-4bd6-8fce-e874a9c48c3f",
   "metadata": {
    "tags": []
   },
   "outputs": [
    {
     "data": {
      "text/html": [
       "<div>\n",
       "<style scoped>\n",
       "    .dataframe tbody tr th:only-of-type {\n",
       "        vertical-align: middle;\n",
       "    }\n",
       "\n",
       "    .dataframe tbody tr th {\n",
       "        vertical-align: top;\n",
       "    }\n",
       "\n",
       "    .dataframe thead th {\n",
       "        text-align: right;\n",
       "    }\n",
       "</style>\n",
       "<table border=\"1\" class=\"dataframe\">\n",
       "  <thead>\n",
       "    <tr style=\"text-align: right;\">\n",
       "      <th></th>\n",
       "      <th>city_name</th>\n",
       "      <th>date</th>\n",
       "      <th>pm2_5</th>\n",
       "      <th>pm_2_5_previous_1_day</th>\n",
       "      <th>pm_2_5_previous_2_day</th>\n",
       "      <th>pm_2_5_previous_3_day</th>\n",
       "      <th>pm_2_5_previous_4_day</th>\n",
       "      <th>pm_2_5_previous_5_day</th>\n",
       "      <th>pm_2_5_previous_6_day</th>\n",
       "      <th>pm_2_5_previous_7_day</th>\n",
       "      <th>...</th>\n",
       "      <th>cos_day_of_week</th>\n",
       "      <th>temperature_max</th>\n",
       "      <th>temperature_min</th>\n",
       "      <th>precipitation_sum</th>\n",
       "      <th>rain_sum</th>\n",
       "      <th>snowfall_sum</th>\n",
       "      <th>precipitation_hours</th>\n",
       "      <th>wind_speed_max</th>\n",
       "      <th>wind_gusts_max</th>\n",
       "      <th>wind_direction_dominant</th>\n",
       "    </tr>\n",
       "  </thead>\n",
       "  <tbody>\n",
       "  </tbody>\n",
       "</table>\n",
       "<p>0 rows × 40 columns</p>\n",
       "</div>"
      ],
      "text/plain": [
       "Empty DataFrame\n",
       "Columns: [city_name, date, pm2_5, pm_2_5_previous_1_day, pm_2_5_previous_2_day, pm_2_5_previous_3_day, pm_2_5_previous_4_day, pm_2_5_previous_5_day, pm_2_5_previous_6_day, pm_2_5_previous_7_day, mean_7_days, mean_14_days, mean_28_days, std_7_days, exp_mean_7_days, exp_std_7_days, std_14_days, exp_mean_14_days, exp_std_14_days, std_28_days, exp_mean_28_days, exp_std_28_days, year, day_of_month, month, day_of_week, is_weekend, sin_day_of_year, cos_day_of_year, sin_day_of_week, cos_day_of_week, temperature_max, temperature_min, precipitation_sum, rain_sum, snowfall_sum, precipitation_hours, wind_speed_max, wind_gusts_max, wind_direction_dominant]\n",
       "Index: []\n",
       "\n",
       "[0 rows x 40 columns]"
      ]
     },
     "execution_count": 279,
     "metadata": {},
     "output_type": "execute_result"
    }
   ],
   "source": [
    "X"
   ]
  },
  {
   "cell_type": "code",
   "execution_count": 263,
   "id": "7e1376da-cc7d-4fe9-87e9-3c751a342773",
   "metadata": {
    "tags": []
   },
   "outputs": [
    {
     "name": "stdout",
     "output_type": "stream",
     "text": [
      "Parsed weather for London since 2023-05-05 till 2023-05-05.\n",
      "Took 0.3 sec.\n",
      "\n"
     ]
    },
    {
     "data": {
      "text/html": [
       "<div>\n",
       "<style scoped>\n",
       "    .dataframe tbody tr th:only-of-type {\n",
       "        vertical-align: middle;\n",
       "    }\n",
       "\n",
       "    .dataframe tbody tr th {\n",
       "        vertical-align: top;\n",
       "    }\n",
       "\n",
       "    .dataframe thead th {\n",
       "        text-align: right;\n",
       "    }\n",
       "</style>\n",
       "<table border=\"1\" class=\"dataframe\">\n",
       "  <thead>\n",
       "    <tr style=\"text-align: right;\">\n",
       "      <th></th>\n",
       "      <th>city_name</th>\n",
       "      <th>date</th>\n",
       "      <th>temperature_max</th>\n",
       "      <th>temperature_min</th>\n",
       "      <th>precipitation_sum</th>\n",
       "      <th>rain_sum</th>\n",
       "      <th>snowfall_sum</th>\n",
       "      <th>precipitation_hours</th>\n",
       "      <th>wind_speed_max</th>\n",
       "      <th>wind_gusts_max</th>\n",
       "      <th>wind_direction_dominant</th>\n",
       "    </tr>\n",
       "  </thead>\n",
       "  <tbody>\n",
       "    <tr>\n",
       "      <th>0</th>\n",
       "      <td>London</td>\n",
       "      <td>2023-05-05</td>\n",
       "      <td>16.8</td>\n",
       "      <td>10.0</td>\n",
       "      <td>0.0</td>\n",
       "      <td>0.0</td>\n",
       "      <td>0.0</td>\n",
       "      <td>0.0</td>\n",
       "      <td>17.3</td>\n",
       "      <td>29.2</td>\n",
       "      <td>13</td>\n",
       "    </tr>\n",
       "  </tbody>\n",
       "</table>\n",
       "</div>"
      ],
      "text/plain": [
       "  city_name       date  temperature_max  temperature_min  precipitation_sum  \\\n",
       "0    London 2023-05-05             16.8             10.0                0.0   \n",
       "\n",
       "   rain_sum  snowfall_sum  precipitation_hours  wind_speed_max  \\\n",
       "0       0.0           0.0                  0.0            17.3   \n",
       "\n",
       "   wind_gusts_max  wind_direction_dominant  \n",
       "0            29.2                       13  "
      ]
     },
     "execution_count": 263,
     "metadata": {},
     "output_type": "execute_result"
    }
   ],
   "source": [
    "get_weather_data_from_open_meteo(city_name=\"London\",\n",
    "                                   start_date=\"2023-05-05\",\n",
    "                                   end_date=\"2023-05-05\",\n",
    "                                   forecast=True)"
   ]
  },
  {
   "cell_type": "code",
   "execution_count": 240,
   "id": "a6afb7a9-3cb3-4fd0-9911-8cbd707e5ff0",
   "metadata": {
    "tags": []
   },
   "outputs": [],
   "source": [
    "\n"
   ]
  },
  {
   "cell_type": "code",
   "execution_count": 241,
   "id": "aa2046bb-b14c-4690-9ccf-7b562722c940",
   "metadata": {
    "tags": []
   },
   "outputs": [],
   "source": [
    "regressor = retrieved_xgboost_model"
   ]
  },
  {
   "cell_type": "code",
   "execution_count": 242,
   "id": "2022cafa-c485-4134-a9f2-bf7e5c56cbba",
   "metadata": {
    "tags": []
   },
   "outputs": [],
   "source": [
    "feature_names = regressor.get_booster().feature_names\n",
    "X = X[feature_names]\n",
    "\n",
    "preds_temp = regressor.predict(X)"
   ]
  },
  {
   "cell_type": "code",
   "execution_count": 247,
   "id": "d38f81b6-9960-4149-9c6a-a76458f0d87c",
   "metadata": {
    "tags": []
   },
   "outputs": [],
   "source": [
    "df_temp = X.copy()\n",
    "df_temp['pm2_5'] = round(preds_temp[0], 1)\n",
    "df_temp['city_name'] = city_name\n",
    "df_temp['date'] = str(temp_date)\n",
    "df_temp = df_temp.drop(columns=['city_name_encoded'])"
   ]
  },
  {
   "cell_type": "code",
   "execution_count": 253,
   "id": "42f77872-b2e7-489a-b751-9a6c6568cc48",
   "metadata": {
    "tags": []
   },
   "outputs": [
    {
     "data": {
      "text/plain": [
       "(1, 40)"
      ]
     },
     "execution_count": 253,
     "metadata": {},
     "output_type": "execute_result"
    }
   ],
   "source": [
    "df_temp.shape"
   ]
  },
  {
   "cell_type": "code",
   "execution_count": 43,
   "id": "e0cf8aca-d696-4fc6-9110-5c828603de69",
   "metadata": {
    "tags": []
   },
   "outputs": [],
   "source": [
    "# HOW_MANY_DAYS_PREDICT = 7"
   ]
  },
  {
   "cell_type": "code",
   "execution_count": null,
   "id": "ebc3fb99-5281-43ac-9307-36fbf365b2db",
   "metadata": {},
   "outputs": [],
   "source": []
  },
  {
   "cell_type": "code",
   "execution_count": 312,
   "id": "b76eaf0c-449b-4e6a-8cd9-961d8c732e3d",
   "metadata": {
    "tags": []
   },
   "outputs": [],
   "source": [
    "batch_data = pd.read_csv(\"debug/batch_data.csv\")\n",
    "df_weather_update = pd.read_csv(\"debug/df_weather_update.csv\")\n",
    "df_aq_update = pd.read_csv(\"debug/df_aq_update.csv\")\n",
    "dataset = pd.concat([batch_data, df_weather_update, df_aq_update]).reset_index(drop=True)"
   ]
  },
  {
   "cell_type": "code",
   "execution_count": 313,
   "id": "5b0f9612-c558-44e6-99ec-03099c72d047",
   "metadata": {
    "tags": []
   },
   "outputs": [
    {
     "data": {
      "text/html": [
       "<div>\n",
       "<style scoped>\n",
       "    .dataframe tbody tr th:only-of-type {\n",
       "        vertical-align: middle;\n",
       "    }\n",
       "\n",
       "    .dataframe tbody tr th {\n",
       "        vertical-align: top;\n",
       "    }\n",
       "\n",
       "    .dataframe thead th {\n",
       "        text-align: right;\n",
       "    }\n",
       "</style>\n",
       "<table border=\"1\" class=\"dataframe\">\n",
       "  <thead>\n",
       "    <tr style=\"text-align: right;\">\n",
       "      <th></th>\n",
       "      <th>city_name</th>\n",
       "      <th>date</th>\n",
       "      <th>pm2_5</th>\n",
       "      <th>pm_2_5_previous_1_day</th>\n",
       "      <th>pm_2_5_previous_2_day</th>\n",
       "      <th>pm_2_5_previous_3_day</th>\n",
       "      <th>pm_2_5_previous_4_day</th>\n",
       "      <th>pm_2_5_previous_5_day</th>\n",
       "      <th>pm_2_5_previous_6_day</th>\n",
       "      <th>pm_2_5_previous_7_day</th>\n",
       "      <th>...</th>\n",
       "      <th>unix_time</th>\n",
       "      <th>temperature_max</th>\n",
       "      <th>temperature_min</th>\n",
       "      <th>precipitation_sum</th>\n",
       "      <th>rain_sum</th>\n",
       "      <th>snowfall_sum</th>\n",
       "      <th>precipitation_hours</th>\n",
       "      <th>wind_speed_max</th>\n",
       "      <th>wind_gusts_max</th>\n",
       "      <th>wind_direction_dominant</th>\n",
       "    </tr>\n",
       "  </thead>\n",
       "  <tbody>\n",
       "    <tr>\n",
       "      <th>0</th>\n",
       "      <td>Albuquerque</td>\n",
       "      <td>2023-02-20</td>\n",
       "      <td>12.9</td>\n",
       "      <td>12.3</td>\n",
       "      <td>22.1</td>\n",
       "      <td>14.2</td>\n",
       "      <td>5.2</td>\n",
       "      <td>3.7</td>\n",
       "      <td>3.3</td>\n",
       "      <td>12.8</td>\n",
       "      <td>...</td>\n",
       "      <td>1676847600000</td>\n",
       "      <td>14.4</td>\n",
       "      <td>2.6</td>\n",
       "      <td>0.0</td>\n",
       "      <td>0.0</td>\n",
       "      <td>0.0</td>\n",
       "      <td>0.0</td>\n",
       "      <td>20.6</td>\n",
       "      <td>37.4</td>\n",
       "      <td>249</td>\n",
       "    </tr>\n",
       "    <tr>\n",
       "      <th>1</th>\n",
       "      <td>Albuquerque</td>\n",
       "      <td>2023-02-21</td>\n",
       "      <td>12.2</td>\n",
       "      <td>12.9</td>\n",
       "      <td>12.3</td>\n",
       "      <td>22.1</td>\n",
       "      <td>14.2</td>\n",
       "      <td>5.2</td>\n",
       "      <td>3.7</td>\n",
       "      <td>3.3</td>\n",
       "      <td>...</td>\n",
       "      <td>1676934000000</td>\n",
       "      <td>13.9</td>\n",
       "      <td>3.7</td>\n",
       "      <td>0.5</td>\n",
       "      <td>0.5</td>\n",
       "      <td>0.0</td>\n",
       "      <td>3.0</td>\n",
       "      <td>26.3</td>\n",
       "      <td>50.0</td>\n",
       "      <td>259</td>\n",
       "    </tr>\n",
       "    <tr>\n",
       "      <th>2</th>\n",
       "      <td>Albuquerque</td>\n",
       "      <td>2023-02-22</td>\n",
       "      <td>3.5</td>\n",
       "      <td>12.2</td>\n",
       "      <td>12.9</td>\n",
       "      <td>12.3</td>\n",
       "      <td>22.1</td>\n",
       "      <td>14.2</td>\n",
       "      <td>5.2</td>\n",
       "      <td>3.7</td>\n",
       "      <td>...</td>\n",
       "      <td>1677020400000</td>\n",
       "      <td>13.1</td>\n",
       "      <td>3.0</td>\n",
       "      <td>0.9</td>\n",
       "      <td>0.9</td>\n",
       "      <td>0.0</td>\n",
       "      <td>4.0</td>\n",
       "      <td>57.6</td>\n",
       "      <td>95.8</td>\n",
       "      <td>220</td>\n",
       "    </tr>\n",
       "    <tr>\n",
       "      <th>3</th>\n",
       "      <td>Albuquerque</td>\n",
       "      <td>2023-02-23</td>\n",
       "      <td>4.1</td>\n",
       "      <td>3.5</td>\n",
       "      <td>12.2</td>\n",
       "      <td>12.9</td>\n",
       "      <td>12.3</td>\n",
       "      <td>22.1</td>\n",
       "      <td>14.2</td>\n",
       "      <td>5.2</td>\n",
       "      <td>...</td>\n",
       "      <td>1677106800000</td>\n",
       "      <td>11.3</td>\n",
       "      <td>-1.6</td>\n",
       "      <td>0.0</td>\n",
       "      <td>0.0</td>\n",
       "      <td>0.0</td>\n",
       "      <td>0.0</td>\n",
       "      <td>33.1</td>\n",
       "      <td>54.4</td>\n",
       "      <td>252</td>\n",
       "    </tr>\n",
       "    <tr>\n",
       "      <th>4</th>\n",
       "      <td>Albuquerque</td>\n",
       "      <td>2023-02-24</td>\n",
       "      <td>9.3</td>\n",
       "      <td>4.1</td>\n",
       "      <td>3.5</td>\n",
       "      <td>12.2</td>\n",
       "      <td>12.9</td>\n",
       "      <td>12.3</td>\n",
       "      <td>22.1</td>\n",
       "      <td>14.2</td>\n",
       "      <td>...</td>\n",
       "      <td>1677193200000</td>\n",
       "      <td>12.1</td>\n",
       "      <td>-0.1</td>\n",
       "      <td>0.0</td>\n",
       "      <td>0.0</td>\n",
       "      <td>0.0</td>\n",
       "      <td>0.0</td>\n",
       "      <td>26.8</td>\n",
       "      <td>47.9</td>\n",
       "      <td>239</td>\n",
       "    </tr>\n",
       "    <tr>\n",
       "      <th>...</th>\n",
       "      <td>...</td>\n",
       "      <td>...</td>\n",
       "      <td>...</td>\n",
       "      <td>...</td>\n",
       "      <td>...</td>\n",
       "      <td>...</td>\n",
       "      <td>...</td>\n",
       "      <td>...</td>\n",
       "      <td>...</td>\n",
       "      <td>...</td>\n",
       "      <td>...</td>\n",
       "      <td>...</td>\n",
       "      <td>...</td>\n",
       "      <td>...</td>\n",
       "      <td>...</td>\n",
       "      <td>...</td>\n",
       "      <td>...</td>\n",
       "      <td>...</td>\n",
       "      <td>...</td>\n",
       "      <td>...</td>\n",
       "      <td>...</td>\n",
       "    </tr>\n",
       "    <tr>\n",
       "      <th>1630</th>\n",
       "      <td>Wien</td>\n",
       "      <td>2023-04-10</td>\n",
       "      <td>18.0</td>\n",
       "      <td>15.0</td>\n",
       "      <td>10.0</td>\n",
       "      <td>20.0</td>\n",
       "      <td>11.0</td>\n",
       "      <td>8.0</td>\n",
       "      <td>7.0</td>\n",
       "      <td>6.0</td>\n",
       "      <td>...</td>\n",
       "      <td>1681077600000</td>\n",
       "      <td>14.1</td>\n",
       "      <td>5.0</td>\n",
       "      <td>0.0</td>\n",
       "      <td>0.0</td>\n",
       "      <td>0.0</td>\n",
       "      <td>0.0</td>\n",
       "      <td>12.4</td>\n",
       "      <td>28.4</td>\n",
       "      <td>324</td>\n",
       "    </tr>\n",
       "    <tr>\n",
       "      <th>1631</th>\n",
       "      <td>Wien</td>\n",
       "      <td>2023-04-11</td>\n",
       "      <td>17.0</td>\n",
       "      <td>18.0</td>\n",
       "      <td>15.0</td>\n",
       "      <td>10.0</td>\n",
       "      <td>20.0</td>\n",
       "      <td>11.0</td>\n",
       "      <td>8.0</td>\n",
       "      <td>7.0</td>\n",
       "      <td>...</td>\n",
       "      <td>1681164000000</td>\n",
       "      <td>12.4</td>\n",
       "      <td>3.6</td>\n",
       "      <td>2.0</td>\n",
       "      <td>1.9</td>\n",
       "      <td>0.0</td>\n",
       "      <td>5.0</td>\n",
       "      <td>20.9</td>\n",
       "      <td>45.7</td>\n",
       "      <td>272</td>\n",
       "    </tr>\n",
       "    <tr>\n",
       "      <th>1632</th>\n",
       "      <td>Wien</td>\n",
       "      <td>2023-04-12</td>\n",
       "      <td>10.9</td>\n",
       "      <td>17.0</td>\n",
       "      <td>18.0</td>\n",
       "      <td>15.0</td>\n",
       "      <td>10.0</td>\n",
       "      <td>20.0</td>\n",
       "      <td>11.0</td>\n",
       "      <td>8.0</td>\n",
       "      <td>...</td>\n",
       "      <td>1681250400000</td>\n",
       "      <td>14.5</td>\n",
       "      <td>4.7</td>\n",
       "      <td>0.2</td>\n",
       "      <td>0.0</td>\n",
       "      <td>0.0</td>\n",
       "      <td>1.0</td>\n",
       "      <td>12.8</td>\n",
       "      <td>28.8</td>\n",
       "      <td>185</td>\n",
       "    </tr>\n",
       "    <tr>\n",
       "      <th>1633</th>\n",
       "      <td>Wien</td>\n",
       "      <td>2023-04-13</td>\n",
       "      <td>8.2</td>\n",
       "      <td>10.9</td>\n",
       "      <td>17.0</td>\n",
       "      <td>18.0</td>\n",
       "      <td>15.0</td>\n",
       "      <td>10.0</td>\n",
       "      <td>20.0</td>\n",
       "      <td>11.0</td>\n",
       "      <td>...</td>\n",
       "      <td>1681336800000</td>\n",
       "      <td>10.0</td>\n",
       "      <td>7.0</td>\n",
       "      <td>10.9</td>\n",
       "      <td>10.9</td>\n",
       "      <td>0.0</td>\n",
       "      <td>15.0</td>\n",
       "      <td>14.7</td>\n",
       "      <td>34.9</td>\n",
       "      <td>303</td>\n",
       "    </tr>\n",
       "    <tr>\n",
       "      <th>1634</th>\n",
       "      <td>Wien</td>\n",
       "      <td>2023-04-17</td>\n",
       "      <td>14.5</td>\n",
       "      <td>14.5</td>\n",
       "      <td>11.0</td>\n",
       "      <td>6.7</td>\n",
       "      <td>5.4</td>\n",
       "      <td>8.2</td>\n",
       "      <td>10.9</td>\n",
       "      <td>17.0</td>\n",
       "      <td>...</td>\n",
       "      <td>1681682400000</td>\n",
       "      <td>17.1</td>\n",
       "      <td>8.0</td>\n",
       "      <td>0.3</td>\n",
       "      <td>0.3</td>\n",
       "      <td>0.0</td>\n",
       "      <td>3.0</td>\n",
       "      <td>16.5</td>\n",
       "      <td>43.9</td>\n",
       "      <td>311</td>\n",
       "    </tr>\n",
       "  </tbody>\n",
       "</table>\n",
       "<p>1635 rows × 41 columns</p>\n",
       "</div>"
      ],
      "text/plain": [
       "        city_name        date  pm2_5  pm_2_5_previous_1_day  \\\n",
       "0     Albuquerque  2023-02-20   12.9                   12.3   \n",
       "1     Albuquerque  2023-02-21   12.2                   12.9   \n",
       "2     Albuquerque  2023-02-22    3.5                   12.2   \n",
       "3     Albuquerque  2023-02-23    4.1                    3.5   \n",
       "4     Albuquerque  2023-02-24    9.3                    4.1   \n",
       "...           ...         ...    ...                    ...   \n",
       "1630         Wien  2023-04-10   18.0                   15.0   \n",
       "1631         Wien  2023-04-11   17.0                   18.0   \n",
       "1632         Wien  2023-04-12   10.9                   17.0   \n",
       "1633         Wien  2023-04-13    8.2                   10.9   \n",
       "1634         Wien  2023-04-17   14.5                   14.5   \n",
       "\n",
       "      pm_2_5_previous_2_day  pm_2_5_previous_3_day  pm_2_5_previous_4_day  \\\n",
       "0                      22.1                   14.2                    5.2   \n",
       "1                      12.3                   22.1                   14.2   \n",
       "2                      12.9                   12.3                   22.1   \n",
       "3                      12.2                   12.9                   12.3   \n",
       "4                       3.5                   12.2                   12.9   \n",
       "...                     ...                    ...                    ...   \n",
       "1630                   10.0                   20.0                   11.0   \n",
       "1631                   15.0                   10.0                   20.0   \n",
       "1632                   18.0                   15.0                   10.0   \n",
       "1633                   17.0                   18.0                   15.0   \n",
       "1634                   11.0                    6.7                    5.4   \n",
       "\n",
       "      pm_2_5_previous_5_day  pm_2_5_previous_6_day  pm_2_5_previous_7_day  \\\n",
       "0                       3.7                    3.3                   12.8   \n",
       "1                       5.2                    3.7                    3.3   \n",
       "2                      14.2                    5.2                    3.7   \n",
       "3                      22.1                   14.2                    5.2   \n",
       "4                      12.3                   22.1                   14.2   \n",
       "...                     ...                    ...                    ...   \n",
       "1630                    8.0                    7.0                    6.0   \n",
       "1631                   11.0                    8.0                    7.0   \n",
       "1632                   20.0                   11.0                    8.0   \n",
       "1633                   10.0                   20.0                   11.0   \n",
       "1634                    8.2                   10.9                   17.0   \n",
       "\n",
       "      ...      unix_time  temperature_max  temperature_min  precipitation_sum  \\\n",
       "0     ...  1676847600000             14.4              2.6                0.0   \n",
       "1     ...  1676934000000             13.9              3.7                0.5   \n",
       "2     ...  1677020400000             13.1              3.0                0.9   \n",
       "3     ...  1677106800000             11.3             -1.6                0.0   \n",
       "4     ...  1677193200000             12.1             -0.1                0.0   \n",
       "...   ...            ...              ...              ...                ...   \n",
       "1630  ...  1681077600000             14.1              5.0                0.0   \n",
       "1631  ...  1681164000000             12.4              3.6                2.0   \n",
       "1632  ...  1681250400000             14.5              4.7                0.2   \n",
       "1633  ...  1681336800000             10.0              7.0               10.9   \n",
       "1634  ...  1681682400000             17.1              8.0                0.3   \n",
       "\n",
       "      rain_sum  snowfall_sum  precipitation_hours  wind_speed_max  \\\n",
       "0          0.0           0.0                  0.0            20.6   \n",
       "1          0.5           0.0                  3.0            26.3   \n",
       "2          0.9           0.0                  4.0            57.6   \n",
       "3          0.0           0.0                  0.0            33.1   \n",
       "4          0.0           0.0                  0.0            26.8   \n",
       "...        ...           ...                  ...             ...   \n",
       "1630       0.0           0.0                  0.0            12.4   \n",
       "1631       1.9           0.0                  5.0            20.9   \n",
       "1632       0.0           0.0                  1.0            12.8   \n",
       "1633      10.9           0.0                 15.0            14.7   \n",
       "1634       0.3           0.0                  3.0            16.5   \n",
       "\n",
       "      wind_gusts_max  wind_direction_dominant  \n",
       "0               37.4                      249  \n",
       "1               50.0                      259  \n",
       "2               95.8                      220  \n",
       "3               54.4                      252  \n",
       "4               47.9                      239  \n",
       "...              ...                      ...  \n",
       "1630            28.4                      324  \n",
       "1631            45.7                      272  \n",
       "1632            28.8                      185  \n",
       "1633            34.9                      303  \n",
       "1634            43.9                      311  \n",
       "\n",
       "[1635 rows x 41 columns]"
      ]
     },
     "execution_count": 313,
     "metadata": {},
     "output_type": "execute_result"
    }
   ],
   "source": [
    "batch_data"
   ]
  },
  {
   "cell_type": "code",
   "execution_count": 314,
   "id": "6882e91f-61f4-4fe8-baa6-4c1b4bc79b16",
   "metadata": {
    "tags": []
   },
   "outputs": [
    {
     "data": {
      "text/html": [
       "<div>\n",
       "<style scoped>\n",
       "    .dataframe tbody tr th:only-of-type {\n",
       "        vertical-align: middle;\n",
       "    }\n",
       "\n",
       "    .dataframe tbody tr th {\n",
       "        vertical-align: top;\n",
       "    }\n",
       "\n",
       "    .dataframe thead th {\n",
       "        text-align: right;\n",
       "    }\n",
       "</style>\n",
       "<table border=\"1\" class=\"dataframe\">\n",
       "  <thead>\n",
       "    <tr style=\"text-align: right;\">\n",
       "      <th></th>\n",
       "      <th>city_name</th>\n",
       "      <th>date</th>\n",
       "      <th>temperature_max</th>\n",
       "      <th>temperature_min</th>\n",
       "      <th>precipitation_sum</th>\n",
       "      <th>rain_sum</th>\n",
       "      <th>snowfall_sum</th>\n",
       "      <th>precipitation_hours</th>\n",
       "      <th>wind_speed_max</th>\n",
       "      <th>wind_gusts_max</th>\n",
       "      <th>wind_direction_dominant</th>\n",
       "    </tr>\n",
       "  </thead>\n",
       "  <tbody>\n",
       "    <tr>\n",
       "      <th>0</th>\n",
       "      <td>Amsterdam</td>\n",
       "      <td>2023-04-17</td>\n",
       "      <td>14.1</td>\n",
       "      <td>6.9</td>\n",
       "      <td>0.0</td>\n",
       "      <td>0.0</td>\n",
       "      <td>0.0</td>\n",
       "      <td>0.0</td>\n",
       "      <td>16.3</td>\n",
       "      <td>35.3</td>\n",
       "      <td>25</td>\n",
       "    </tr>\n",
       "    <tr>\n",
       "      <th>1</th>\n",
       "      <td>Amsterdam</td>\n",
       "      <td>2023-04-18</td>\n",
       "      <td>13.5</td>\n",
       "      <td>6.3</td>\n",
       "      <td>0.0</td>\n",
       "      <td>0.0</td>\n",
       "      <td>0.0</td>\n",
       "      <td>0.0</td>\n",
       "      <td>21.1</td>\n",
       "      <td>46.4</td>\n",
       "      <td>63</td>\n",
       "    </tr>\n",
       "    <tr>\n",
       "      <th>2</th>\n",
       "      <td>Amsterdam</td>\n",
       "      <td>2023-04-19</td>\n",
       "      <td>14.0</td>\n",
       "      <td>8.1</td>\n",
       "      <td>0.0</td>\n",
       "      <td>0.0</td>\n",
       "      <td>0.0</td>\n",
       "      <td>0.0</td>\n",
       "      <td>24.6</td>\n",
       "      <td>51.8</td>\n",
       "      <td>59</td>\n",
       "    </tr>\n",
       "    <tr>\n",
       "      <th>3</th>\n",
       "      <td>Amsterdam</td>\n",
       "      <td>2023-04-20</td>\n",
       "      <td>11.7</td>\n",
       "      <td>6.4</td>\n",
       "      <td>2.7</td>\n",
       "      <td>2.6</td>\n",
       "      <td>0.0</td>\n",
       "      <td>4.0</td>\n",
       "      <td>23.2</td>\n",
       "      <td>52.2</td>\n",
       "      <td>54</td>\n",
       "    </tr>\n",
       "    <tr>\n",
       "      <th>4</th>\n",
       "      <td>Athina</td>\n",
       "      <td>2023-04-17</td>\n",
       "      <td>20.7</td>\n",
       "      <td>12.7</td>\n",
       "      <td>0.3</td>\n",
       "      <td>0.1</td>\n",
       "      <td>0.0</td>\n",
       "      <td>2.0</td>\n",
       "      <td>11.9</td>\n",
       "      <td>55.8</td>\n",
       "      <td>173</td>\n",
       "    </tr>\n",
       "    <tr>\n",
       "      <th>...</th>\n",
       "      <td>...</td>\n",
       "      <td>...</td>\n",
       "      <td>...</td>\n",
       "      <td>...</td>\n",
       "      <td>...</td>\n",
       "      <td>...</td>\n",
       "      <td>...</td>\n",
       "      <td>...</td>\n",
       "      <td>...</td>\n",
       "      <td>...</td>\n",
       "      <td>...</td>\n",
       "    </tr>\n",
       "    <tr>\n",
       "      <th>175</th>\n",
       "      <td>Tukwila Allentown</td>\n",
       "      <td>2023-04-20</td>\n",
       "      <td>10.5</td>\n",
       "      <td>1.0</td>\n",
       "      <td>0.8</td>\n",
       "      <td>0.8</td>\n",
       "      <td>0.0</td>\n",
       "      <td>2.0</td>\n",
       "      <td>22.1</td>\n",
       "      <td>43.2</td>\n",
       "      <td>201</td>\n",
       "    </tr>\n",
       "    <tr>\n",
       "      <th>176</th>\n",
       "      <td>Tulalip-Totem Beach Rd</td>\n",
       "      <td>2023-04-17</td>\n",
       "      <td>11.1</td>\n",
       "      <td>2.6</td>\n",
       "      <td>2.2</td>\n",
       "      <td>3.3</td>\n",
       "      <td>0.0</td>\n",
       "      <td>3.0</td>\n",
       "      <td>26.3</td>\n",
       "      <td>50.8</td>\n",
       "      <td>167</td>\n",
       "    </tr>\n",
       "    <tr>\n",
       "      <th>177</th>\n",
       "      <td>Tulalip-Totem Beach Rd</td>\n",
       "      <td>2023-04-18</td>\n",
       "      <td>8.1</td>\n",
       "      <td>4.0</td>\n",
       "      <td>2.2</td>\n",
       "      <td>3.3</td>\n",
       "      <td>0.0</td>\n",
       "      <td>2.0</td>\n",
       "      <td>28.5</td>\n",
       "      <td>54.4</td>\n",
       "      <td>188</td>\n",
       "    </tr>\n",
       "    <tr>\n",
       "      <th>178</th>\n",
       "      <td>Tulalip-Totem Beach Rd</td>\n",
       "      <td>2023-04-19</td>\n",
       "      <td>10.4</td>\n",
       "      <td>3.7</td>\n",
       "      <td>0.0</td>\n",
       "      <td>0.0</td>\n",
       "      <td>0.0</td>\n",
       "      <td>0.0</td>\n",
       "      <td>29.2</td>\n",
       "      <td>47.2</td>\n",
       "      <td>175</td>\n",
       "    </tr>\n",
       "    <tr>\n",
       "      <th>179</th>\n",
       "      <td>Tulalip-Totem Beach Rd</td>\n",
       "      <td>2023-04-20</td>\n",
       "      <td>10.5</td>\n",
       "      <td>2.8</td>\n",
       "      <td>0.0</td>\n",
       "      <td>0.0</td>\n",
       "      <td>0.0</td>\n",
       "      <td>0.0</td>\n",
       "      <td>24.9</td>\n",
       "      <td>45.4</td>\n",
       "      <td>182</td>\n",
       "    </tr>\n",
       "  </tbody>\n",
       "</table>\n",
       "<p>180 rows × 11 columns</p>\n",
       "</div>"
      ],
      "text/plain": [
       "                  city_name        date  temperature_max  temperature_min  \\\n",
       "0                 Amsterdam  2023-04-17             14.1              6.9   \n",
       "1                 Amsterdam  2023-04-18             13.5              6.3   \n",
       "2                 Amsterdam  2023-04-19             14.0              8.1   \n",
       "3                 Amsterdam  2023-04-20             11.7              6.4   \n",
       "4                    Athina  2023-04-17             20.7             12.7   \n",
       "..                      ...         ...              ...              ...   \n",
       "175       Tukwila Allentown  2023-04-20             10.5              1.0   \n",
       "176  Tulalip-Totem Beach Rd  2023-04-17             11.1              2.6   \n",
       "177  Tulalip-Totem Beach Rd  2023-04-18              8.1              4.0   \n",
       "178  Tulalip-Totem Beach Rd  2023-04-19             10.4              3.7   \n",
       "179  Tulalip-Totem Beach Rd  2023-04-20             10.5              2.8   \n",
       "\n",
       "     precipitation_sum  rain_sum  snowfall_sum  precipitation_hours  \\\n",
       "0                  0.0       0.0           0.0                  0.0   \n",
       "1                  0.0       0.0           0.0                  0.0   \n",
       "2                  0.0       0.0           0.0                  0.0   \n",
       "3                  2.7       2.6           0.0                  4.0   \n",
       "4                  0.3       0.1           0.0                  2.0   \n",
       "..                 ...       ...           ...                  ...   \n",
       "175                0.8       0.8           0.0                  2.0   \n",
       "176                2.2       3.3           0.0                  3.0   \n",
       "177                2.2       3.3           0.0                  2.0   \n",
       "178                0.0       0.0           0.0                  0.0   \n",
       "179                0.0       0.0           0.0                  0.0   \n",
       "\n",
       "     wind_speed_max  wind_gusts_max  wind_direction_dominant  \n",
       "0              16.3            35.3                       25  \n",
       "1              21.1            46.4                       63  \n",
       "2              24.6            51.8                       59  \n",
       "3              23.2            52.2                       54  \n",
       "4              11.9            55.8                      173  \n",
       "..              ...             ...                      ...  \n",
       "175            22.1            43.2                      201  \n",
       "176            26.3            50.8                      167  \n",
       "177            28.5            54.4                      188  \n",
       "178            29.2            47.2                      175  \n",
       "179            24.9            45.4                      182  \n",
       "\n",
       "[180 rows x 11 columns]"
      ]
     },
     "execution_count": 314,
     "metadata": {},
     "output_type": "execute_result"
    }
   ],
   "source": [
    "df_weather_update"
   ]
  },
  {
   "cell_type": "code",
   "execution_count": 330,
   "id": "41677633-70ab-47b4-b41d-897bd689cc3c",
   "metadata": {
    "tags": []
   },
   "outputs": [
    {
     "data": {
      "text/html": [
       "<div>\n",
       "<style scoped>\n",
       "    .dataframe tbody tr th:only-of-type {\n",
       "        vertical-align: middle;\n",
       "    }\n",
       "\n",
       "    .dataframe tbody tr th {\n",
       "        vertical-align: top;\n",
       "    }\n",
       "\n",
       "    .dataframe thead th {\n",
       "        text-align: right;\n",
       "    }\n",
       "</style>\n",
       "<table border=\"1\" class=\"dataframe\">\n",
       "  <thead>\n",
       "    <tr style=\"text-align: right;\">\n",
       "      <th></th>\n",
       "      <th>city_name</th>\n",
       "      <th>date</th>\n",
       "      <th>pm2_5</th>\n",
       "      <th>pm_2_5_previous_1_day</th>\n",
       "      <th>pm_2_5_previous_2_day</th>\n",
       "      <th>pm_2_5_previous_3_day</th>\n",
       "      <th>pm_2_5_previous_4_day</th>\n",
       "      <th>pm_2_5_previous_5_day</th>\n",
       "      <th>pm_2_5_previous_6_day</th>\n",
       "      <th>pm_2_5_previous_7_day</th>\n",
       "      <th>...</th>\n",
       "      <th>cos_day_of_week</th>\n",
       "      <th>temperature_max</th>\n",
       "      <th>temperature_min</th>\n",
       "      <th>precipitation_sum</th>\n",
       "      <th>rain_sum</th>\n",
       "      <th>snowfall_sum</th>\n",
       "      <th>precipitation_hours</th>\n",
       "      <th>wind_speed_max</th>\n",
       "      <th>wind_gusts_max</th>\n",
       "      <th>wind_direction_dominant</th>\n",
       "    </tr>\n",
       "  </thead>\n",
       "  <tbody>\n",
       "    <tr>\n",
       "      <th>0</th>\n",
       "      <td>Albuquerque</td>\n",
       "      <td>2023-02-20</td>\n",
       "      <td>12.9</td>\n",
       "      <td>12.3</td>\n",
       "      <td>22.1</td>\n",
       "      <td>14.2</td>\n",
       "      <td>5.2</td>\n",
       "      <td>3.7</td>\n",
       "      <td>3.3</td>\n",
       "      <td>12.8</td>\n",
       "      <td>...</td>\n",
       "      <td>1.000000</td>\n",
       "      <td>14.4</td>\n",
       "      <td>2.6</td>\n",
       "      <td>0.0</td>\n",
       "      <td>0.0</td>\n",
       "      <td>0.0</td>\n",
       "      <td>0.0</td>\n",
       "      <td>20.6</td>\n",
       "      <td>37.4</td>\n",
       "      <td>249</td>\n",
       "    </tr>\n",
       "    <tr>\n",
       "      <th>1</th>\n",
       "      <td>Albuquerque</td>\n",
       "      <td>2023-02-21</td>\n",
       "      <td>12.2</td>\n",
       "      <td>12.9</td>\n",
       "      <td>12.3</td>\n",
       "      <td>22.1</td>\n",
       "      <td>14.2</td>\n",
       "      <td>5.2</td>\n",
       "      <td>3.7</td>\n",
       "      <td>3.3</td>\n",
       "      <td>...</td>\n",
       "      <td>0.623490</td>\n",
       "      <td>13.9</td>\n",
       "      <td>3.7</td>\n",
       "      <td>0.5</td>\n",
       "      <td>0.5</td>\n",
       "      <td>0.0</td>\n",
       "      <td>3.0</td>\n",
       "      <td>26.3</td>\n",
       "      <td>50.0</td>\n",
       "      <td>259</td>\n",
       "    </tr>\n",
       "    <tr>\n",
       "      <th>2</th>\n",
       "      <td>Albuquerque</td>\n",
       "      <td>2023-02-22</td>\n",
       "      <td>3.5</td>\n",
       "      <td>12.2</td>\n",
       "      <td>12.9</td>\n",
       "      <td>12.3</td>\n",
       "      <td>22.1</td>\n",
       "      <td>14.2</td>\n",
       "      <td>5.2</td>\n",
       "      <td>3.7</td>\n",
       "      <td>...</td>\n",
       "      <td>-0.222521</td>\n",
       "      <td>13.1</td>\n",
       "      <td>3.0</td>\n",
       "      <td>0.9</td>\n",
       "      <td>0.9</td>\n",
       "      <td>0.0</td>\n",
       "      <td>4.0</td>\n",
       "      <td>57.6</td>\n",
       "      <td>95.8</td>\n",
       "      <td>220</td>\n",
       "    </tr>\n",
       "    <tr>\n",
       "      <th>3</th>\n",
       "      <td>Albuquerque</td>\n",
       "      <td>2023-02-23</td>\n",
       "      <td>4.1</td>\n",
       "      <td>3.5</td>\n",
       "      <td>12.2</td>\n",
       "      <td>12.9</td>\n",
       "      <td>12.3</td>\n",
       "      <td>22.1</td>\n",
       "      <td>14.2</td>\n",
       "      <td>5.2</td>\n",
       "      <td>...</td>\n",
       "      <td>-0.900969</td>\n",
       "      <td>11.3</td>\n",
       "      <td>-1.6</td>\n",
       "      <td>0.0</td>\n",
       "      <td>0.0</td>\n",
       "      <td>0.0</td>\n",
       "      <td>0.0</td>\n",
       "      <td>33.1</td>\n",
       "      <td>54.4</td>\n",
       "      <td>252</td>\n",
       "    </tr>\n",
       "    <tr>\n",
       "      <th>4</th>\n",
       "      <td>Albuquerque</td>\n",
       "      <td>2023-02-24</td>\n",
       "      <td>9.3</td>\n",
       "      <td>4.1</td>\n",
       "      <td>3.5</td>\n",
       "      <td>12.2</td>\n",
       "      <td>12.9</td>\n",
       "      <td>12.3</td>\n",
       "      <td>22.1</td>\n",
       "      <td>14.2</td>\n",
       "      <td>...</td>\n",
       "      <td>-0.900969</td>\n",
       "      <td>12.1</td>\n",
       "      <td>-0.1</td>\n",
       "      <td>0.0</td>\n",
       "      <td>0.0</td>\n",
       "      <td>0.0</td>\n",
       "      <td>0.0</td>\n",
       "      <td>26.8</td>\n",
       "      <td>47.9</td>\n",
       "      <td>239</td>\n",
       "    </tr>\n",
       "    <tr>\n",
       "      <th>...</th>\n",
       "      <td>...</td>\n",
       "      <td>...</td>\n",
       "      <td>...</td>\n",
       "      <td>...</td>\n",
       "      <td>...</td>\n",
       "      <td>...</td>\n",
       "      <td>...</td>\n",
       "      <td>...</td>\n",
       "      <td>...</td>\n",
       "      <td>...</td>\n",
       "      <td>...</td>\n",
       "      <td>...</td>\n",
       "      <td>...</td>\n",
       "      <td>...</td>\n",
       "      <td>...</td>\n",
       "      <td>...</td>\n",
       "      <td>...</td>\n",
       "      <td>...</td>\n",
       "      <td>...</td>\n",
       "      <td>...</td>\n",
       "      <td>...</td>\n",
       "    </tr>\n",
       "    <tr>\n",
       "      <th>145</th>\n",
       "      <td>Tampa</td>\n",
       "      <td>2023-04-17</td>\n",
       "      <td>8.4</td>\n",
       "      <td>6.1</td>\n",
       "      <td>7.2</td>\n",
       "      <td>8.0</td>\n",
       "      <td>6.4</td>\n",
       "      <td>6.7</td>\n",
       "      <td>8.0</td>\n",
       "      <td>6.4</td>\n",
       "      <td>...</td>\n",
       "      <td>1.000000</td>\n",
       "      <td>27.3</td>\n",
       "      <td>20.2</td>\n",
       "      <td>11.2</td>\n",
       "      <td>16.8</td>\n",
       "      <td>0.0</td>\n",
       "      <td>3.0</td>\n",
       "      <td>20.2</td>\n",
       "      <td>26.6</td>\n",
       "      <td>345</td>\n",
       "    </tr>\n",
       "    <tr>\n",
       "      <th>146</th>\n",
       "      <td>Tampa</td>\n",
       "      <td>2023-04-17</td>\n",
       "      <td>9.0</td>\n",
       "      <td>8.4</td>\n",
       "      <td>6.1</td>\n",
       "      <td>7.2</td>\n",
       "      <td>8.0</td>\n",
       "      <td>6.4</td>\n",
       "      <td>6.7</td>\n",
       "      <td>8.0</td>\n",
       "      <td>...</td>\n",
       "      <td>1.000000</td>\n",
       "      <td>27.3</td>\n",
       "      <td>20.2</td>\n",
       "      <td>11.2</td>\n",
       "      <td>16.8</td>\n",
       "      <td>0.0</td>\n",
       "      <td>3.0</td>\n",
       "      <td>20.2</td>\n",
       "      <td>26.6</td>\n",
       "      <td>345</td>\n",
       "    </tr>\n",
       "    <tr>\n",
       "      <th>147</th>\n",
       "      <td>Tampa</td>\n",
       "      <td>2023-04-18</td>\n",
       "      <td>4.5</td>\n",
       "      <td>9.0</td>\n",
       "      <td>8.4</td>\n",
       "      <td>6.1</td>\n",
       "      <td>7.2</td>\n",
       "      <td>8.0</td>\n",
       "      <td>6.4</td>\n",
       "      <td>6.7</td>\n",
       "      <td>...</td>\n",
       "      <td>0.623490</td>\n",
       "      <td>28.9</td>\n",
       "      <td>11.8</td>\n",
       "      <td>0.0</td>\n",
       "      <td>0.0</td>\n",
       "      <td>0.0</td>\n",
       "      <td>0.0</td>\n",
       "      <td>15.4</td>\n",
       "      <td>34.2</td>\n",
       "      <td>18</td>\n",
       "    </tr>\n",
       "    <tr>\n",
       "      <th>148</th>\n",
       "      <td>Tampa</td>\n",
       "      <td>2023-04-19</td>\n",
       "      <td>9.3</td>\n",
       "      <td>4.5</td>\n",
       "      <td>9.0</td>\n",
       "      <td>8.4</td>\n",
       "      <td>6.1</td>\n",
       "      <td>7.2</td>\n",
       "      <td>8.0</td>\n",
       "      <td>6.4</td>\n",
       "      <td>...</td>\n",
       "      <td>-0.222521</td>\n",
       "      <td>30.2</td>\n",
       "      <td>14.7</td>\n",
       "      <td>0.0</td>\n",
       "      <td>0.0</td>\n",
       "      <td>0.0</td>\n",
       "      <td>0.0</td>\n",
       "      <td>17.7</td>\n",
       "      <td>23.8</td>\n",
       "      <td>69</td>\n",
       "    </tr>\n",
       "    <tr>\n",
       "      <th>149</th>\n",
       "      <td>Tampa</td>\n",
       "      <td>2023-04-20</td>\n",
       "      <td>8.7</td>\n",
       "      <td>9.3</td>\n",
       "      <td>4.5</td>\n",
       "      <td>9.0</td>\n",
       "      <td>8.4</td>\n",
       "      <td>6.1</td>\n",
       "      <td>7.2</td>\n",
       "      <td>8.0</td>\n",
       "      <td>...</td>\n",
       "      <td>-0.900969</td>\n",
       "      <td>31.0</td>\n",
       "      <td>16.4</td>\n",
       "      <td>0.0</td>\n",
       "      <td>0.0</td>\n",
       "      <td>0.0</td>\n",
       "      <td>0.0</td>\n",
       "      <td>18.0</td>\n",
       "      <td>34.6</td>\n",
       "      <td>78</td>\n",
       "    </tr>\n",
       "  </tbody>\n",
       "</table>\n",
       "<p>1785 rows × 40 columns</p>\n",
       "</div>"
      ],
      "text/plain": [
       "       city_name        date  pm2_5  pm_2_5_previous_1_day  \\\n",
       "0    Albuquerque  2023-02-20   12.9                   12.3   \n",
       "1    Albuquerque  2023-02-21   12.2                   12.9   \n",
       "2    Albuquerque  2023-02-22    3.5                   12.2   \n",
       "3    Albuquerque  2023-02-23    4.1                    3.5   \n",
       "4    Albuquerque  2023-02-24    9.3                    4.1   \n",
       "..           ...         ...    ...                    ...   \n",
       "145        Tampa  2023-04-17    8.4                    6.1   \n",
       "146        Tampa  2023-04-17    9.0                    8.4   \n",
       "147        Tampa  2023-04-18    4.5                    9.0   \n",
       "148        Tampa  2023-04-19    9.3                    4.5   \n",
       "149        Tampa  2023-04-20    8.7                    9.3   \n",
       "\n",
       "     pm_2_5_previous_2_day  pm_2_5_previous_3_day  pm_2_5_previous_4_day  \\\n",
       "0                     22.1                   14.2                    5.2   \n",
       "1                     12.3                   22.1                   14.2   \n",
       "2                     12.9                   12.3                   22.1   \n",
       "3                     12.2                   12.9                   12.3   \n",
       "4                      3.5                   12.2                   12.9   \n",
       "..                     ...                    ...                    ...   \n",
       "145                    7.2                    8.0                    6.4   \n",
       "146                    6.1                    7.2                    8.0   \n",
       "147                    8.4                    6.1                    7.2   \n",
       "148                    9.0                    8.4                    6.1   \n",
       "149                    4.5                    9.0                    8.4   \n",
       "\n",
       "     pm_2_5_previous_5_day  pm_2_5_previous_6_day  pm_2_5_previous_7_day  ...  \\\n",
       "0                      3.7                    3.3                   12.8  ...   \n",
       "1                      5.2                    3.7                    3.3  ...   \n",
       "2                     14.2                    5.2                    3.7  ...   \n",
       "3                     22.1                   14.2                    5.2  ...   \n",
       "4                     12.3                   22.1                   14.2  ...   \n",
       "..                     ...                    ...                    ...  ...   \n",
       "145                    6.7                    8.0                    6.4  ...   \n",
       "146                    6.4                    6.7                    8.0  ...   \n",
       "147                    8.0                    6.4                    6.7  ...   \n",
       "148                    7.2                    8.0                    6.4  ...   \n",
       "149                    6.1                    7.2                    8.0  ...   \n",
       "\n",
       "     cos_day_of_week  temperature_max  temperature_min  precipitation_sum  \\\n",
       "0           1.000000             14.4              2.6                0.0   \n",
       "1           0.623490             13.9              3.7                0.5   \n",
       "2          -0.222521             13.1              3.0                0.9   \n",
       "3          -0.900969             11.3             -1.6                0.0   \n",
       "4          -0.900969             12.1             -0.1                0.0   \n",
       "..               ...              ...              ...                ...   \n",
       "145         1.000000             27.3             20.2               11.2   \n",
       "146         1.000000             27.3             20.2               11.2   \n",
       "147         0.623490             28.9             11.8                0.0   \n",
       "148        -0.222521             30.2             14.7                0.0   \n",
       "149        -0.900969             31.0             16.4                0.0   \n",
       "\n",
       "     rain_sum  snowfall_sum  precipitation_hours  wind_speed_max  \\\n",
       "0         0.0           0.0                  0.0            20.6   \n",
       "1         0.5           0.0                  3.0            26.3   \n",
       "2         0.9           0.0                  4.0            57.6   \n",
       "3         0.0           0.0                  0.0            33.1   \n",
       "4         0.0           0.0                  0.0            26.8   \n",
       "..        ...           ...                  ...             ...   \n",
       "145      16.8           0.0                  3.0            20.2   \n",
       "146      16.8           0.0                  3.0            20.2   \n",
       "147       0.0           0.0                  0.0            15.4   \n",
       "148       0.0           0.0                  0.0            17.7   \n",
       "149       0.0           0.0                  0.0            18.0   \n",
       "\n",
       "     wind_gusts_max  wind_direction_dominant  \n",
       "0              37.4                      249  \n",
       "1              50.0                      259  \n",
       "2              95.8                      220  \n",
       "3              54.4                      252  \n",
       "4              47.9                      239  \n",
       "..              ...                      ...  \n",
       "145            26.6                      345  \n",
       "146            26.6                      345  \n",
       "147            34.2                       18  \n",
       "148            23.8                       69  \n",
       "149            34.6                       78  \n",
       "\n",
       "[1785 rows x 40 columns]"
      ]
     },
     "execution_count": 330,
     "metadata": {},
     "output_type": "execute_result"
    }
   ],
   "source": [
    "updates = df_weather_update.merge(df_aq_update, on=['city_name', 'date'])\n",
    "pd.concat([batch_data, updates]).drop(columns=['unix_time'])"
   ]
  },
  {
   "cell_type": "code",
   "execution_count": null,
   "id": "0b3e2448-3412-47cd-bbc8-7caf4785335a",
   "metadata": {},
   "outputs": [],
   "source": [
    "get_weather_data_from_open_meteo(city_name=\"Berlin\",\n",
    "                                               start_date=,\n",
    "                                               end_date=str(today),\n",
    "                                               forecast=True)"
   ]
  }
 ],
 "metadata": {
  "kernelspec": {
   "display_name": "Python 3 (ipykernel)",
   "language": "python",
   "name": "python3"
  },
  "language_info": {
   "codemirror_mode": {
    "name": "ipython",
    "version": 3
   },
   "file_extension": ".py",
   "mimetype": "text/x-python",
   "name": "python",
   "nbconvert_exporter": "python",
   "pygments_lexer": "ipython3",
   "version": "3.8.16"
  },
  "vscode": {
   "interpreter": {
    "hash": "190ea7959a836f4799545ea0f3718ade3abee093b15861ffdc25233d6ab7050e"
   }
  }
 },
 "nbformat": 4,
 "nbformat_minor": 5
}
