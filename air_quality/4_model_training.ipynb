{
 "cells": [
  {
   "cell_type": "markdown",
   "id": "dbd751f5",
   "metadata": {},
   "source": [
    "# <span style=\"font-width:bold; font-size: 3rem; color:#1EB182;\"><img src=\"images/icon102.png\" width=\"38px\"></img> **Hopsworks Feature Store** </span><span style=\"font-width:bold; font-size: 3rem; color:#333;\">- Part 04: Batch Predictions</span>\n",
    "\n",
    "\n",
    "## 🗒️ In this notebook we will see how to create a training dataset from the feature groups: \n",
    "\n",
    "1. Loading the training data.\n",
    "2. Train the model.\n",
    "3. Register model in Hopsworks model registry.\n",
    "\n",
    "![part3](images/03_model.png) "
   ]
  },
  {
   "cell_type": "markdown",
   "id": "44a31b48",
   "metadata": {},
   "source": [
    "## <span style='color:#ff5f27'> 📝 Imports"
   ]
  },
  {
   "cell_type": "code",
   "execution_count": null,
   "id": "7d885626",
   "metadata": {},
   "outputs": [],
   "source": [
    "import pandas as pd\n",
    "\n",
    "from sklearn.ensemble import GradientBoostingRegressor\n",
    "from sklearn.metrics import f1_score\n",
    "\n",
    "import warnings\n",
    "warnings.filterwarnings(\"ignore\")"
   ]
  },
  {
   "cell_type": "markdown",
   "id": "e05af617",
   "metadata": {},
   "source": [
    "## <span style=\"color:#ff5f27;\"> 🔮 Connecting to Hopsworks Feature Store </span>"
   ]
  },
  {
   "cell_type": "code",
   "execution_count": null,
   "id": "6539d56a",
   "metadata": {},
   "outputs": [],
   "source": [
    "import hopsworks\n",
    "\n",
    "project = hopsworks.login() \n",
    "\n",
    "fs = project.get_feature_store() "
   ]
  },
  {
   "cell_type": "markdown",
   "id": "f9d64a5d",
   "metadata": {},
   "source": [
    "## <span style=\"color:#ff5f27;\"> 🪝 Feature View and Training Dataset Retrieval </span>"
   ]
  },
  {
   "cell_type": "code",
   "execution_count": null,
   "id": "360857d2",
   "metadata": {},
   "outputs": [],
   "source": [
    "feature_view = fs.get_feature_view(\n",
    "    name = 'air_quality_fv',\n",
    "    version = 1\n",
    ")"
   ]
  },
  {
   "cell_type": "code",
   "execution_count": null,
   "id": "b04e30a7",
   "metadata": {},
   "outputs": [],
   "source": [
    "train_data = feature_view.get_training_data(1)[0]\n",
    "\n",
    "train_data.head()"
   ]
  },
  {
   "cell_type": "markdown",
   "id": "d275ae09",
   "metadata": {},
   "source": [
    "---\n",
    "## <span style=\"color:#ff5f27;\"> 🤖 GradientBossing model </span>"
   ]
  },
  {
   "cell_type": "code",
   "execution_count": null,
   "id": "5b937dec",
   "metadata": {},
   "outputs": [],
   "source": [
    "train_data = train_data.sort_values(by=[\"date\", 'city'], ascending=[False, True]).reset_index(drop=True)\n",
    "train_data[\"aqi_next_day\"] = train_data.groupby('city')['aqi'].shift(1)\n",
    "\n",
    "train_data.head(5)"
   ]
  },
  {
   "cell_type": "code",
   "execution_count": null,
   "id": "54e73700",
   "metadata": {},
   "outputs": [],
   "source": [
    "X = train_data.drop(columns=[\"date\"]).dropna()\n",
    "y = X.pop(\"aqi_next_day\")"
   ]
  },
  {
   "cell_type": "markdown",
   "id": "73501791",
   "metadata": {},
   "source": [
    "### <span style='color:#ff5f27'> 🧑🏻‍🔬 Model Fitting"
   ]
  },
  {
   "cell_type": "code",
   "execution_count": null,
   "id": "b96b0b6a",
   "metadata": {},
   "outputs": [],
   "source": [
    "gb = GradientBoostingRegressor()\n",
    "gb.fit(X, y)"
   ]
  },
  {
   "cell_type": "markdown",
   "id": "2702e716",
   "metadata": {},
   "source": [
    "### <span style='color:#ff5f27'> 👨🏻‍⚖️ Model Validation"
   ]
  },
  {
   "cell_type": "code",
   "execution_count": null,
   "id": "7498aeac",
   "metadata": {},
   "outputs": [],
   "source": [
    "f1_score(y.astype('int'),[int(pred) for pred in gb.predict(X)],average='micro')"
   ]
  },
  {
   "cell_type": "code",
   "execution_count": null,
   "id": "e0961e01",
   "metadata": {},
   "outputs": [],
   "source": [
    "pred_df = pd.DataFrame({\n",
    "    'aqi_real':y.iloc[:2].values,\n",
    "    'aqi_pred': map(int,gb.predict(X.iloc[:2]))\n",
    "    },\n",
    "    index=[\"kyiv\", \"stockholm\"]\n",
    ")\n",
    "pred_df"
   ]
  },
  {
   "cell_type": "markdown",
   "id": "f63c2cf2",
   "metadata": {},
   "source": [
    "## <span style='color:#ff5f27'>👮🏼‍♀️ Model Registry</span>"
   ]
  },
  {
   "cell_type": "code",
   "execution_count": null,
   "id": "c553b659",
   "metadata": {},
   "outputs": [],
   "source": [
    "mr = project.get_model_registry()"
   ]
  },
  {
   "cell_type": "code",
   "execution_count": null,
   "id": "cd3f3751",
   "metadata": {
    "scrolled": true
   },
   "outputs": [],
   "source": [
    "from hsml.schema import Schema\n",
    "from hsml.model_schema import ModelSchema\n",
    "\n",
    "input_schema = Schema(X)\n",
    "output_schema = Schema(y)\n",
    "model_schema = ModelSchema(input_schema=input_schema, output_schema=output_schema)\n",
    "\n",
    "model_schema.to_dict()"
   ]
  },
  {
   "cell_type": "code",
   "execution_count": null,
   "id": "d2777f5e",
   "metadata": {
    "scrolled": true
   },
   "outputs": [],
   "source": [
    "import joblib\n",
    "\n",
    "joblib.dump(gb, 'model.pkl')"
   ]
  },
  {
   "cell_type": "code",
   "execution_count": null,
   "id": "41f6811e",
   "metadata": {},
   "outputs": [],
   "source": [
    "model = mr.sklearn.create_model(\n",
    "    name=\"gradient_boost_model\",\n",
    "    metrics={\"f1\": \"0.5\"},\n",
    "    description=\"Gradient Boost Regressor.\",\n",
    "    input_example=X.sample(),\n",
    "    model_schema=model_schema\n",
    ")\n",
    "\n",
    "model.save('model.pkl')"
   ]
  },
  {
   "cell_type": "markdown",
   "id": "c4259b87",
   "metadata": {},
   "source": [
    "---"
   ]
  }
 ],
 "metadata": {
  "kernelspec": {
   "display_name": "Python 3 (ipykernel)",
   "language": "python",
   "name": "python3"
  },
  "language_info": {
   "codemirror_mode": {
    "name": "ipython",
    "version": 3
   },
   "file_extension": ".py",
   "mimetype": "text/x-python",
   "name": "python",
   "nbconvert_exporter": "python",
   "pygments_lexer": "ipython3",
   "version": "3.9.13"
  }
 },
 "nbformat": 4,
 "nbformat_minor": 5
}
