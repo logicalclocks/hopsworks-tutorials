{
 "cells": [
  {
   "cell_type": "markdown",
   "id": "a8e7b1b0",
   "metadata": {},
   "source": [
    "# <span style=\"color:#ff5f27;\">🧬 Modeling</span>\n",
    "\n",
    "---\n",
    "## <span style=\"color:#ff5f27;\"> 📡 Connecting to Hopsworks Feature Store</span>"
   ]
  },
  {
   "cell_type": "code",
   "execution_count": 1,
   "id": "fe9f4f97",
   "metadata": {},
   "outputs": [
    {
     "name": "stdout",
     "output_type": "stream",
     "text": [
      "Connected. Call `.close()` to terminate connection gracefully.\n",
      "\n",
      "Logged in to project, explore it here https://c.app.hopsworks.ai:443/p/167\n",
      "Connected. Call `.close()` to terminate connection gracefully.\n"
     ]
    }
   ],
   "source": [
    "import hopsworks\n",
    "\n",
    "project = hopsworks.login()\n",
    "\n",
    "fs = project.get_feature_store()"
   ]
  },
  {
   "cell_type": "markdown",
   "id": "e506e8d8",
   "metadata": {},
   "source": [
    "---\n",
    "## <span style=\"color:#ff5f27;\"> 📝 Imports</span>"
   ]
  },
  {
   "cell_type": "code",
   "execution_count": 2,
   "id": "99dfedf1",
   "metadata": {},
   "outputs": [],
   "source": [
    "from __future__ import print_function\n",
    "from sklearn.model_selection import train_test_split\n",
    "from sklearn.model_selection import TimeSeriesSplit\n",
    "from sklearn.model_selection import GridSearchCV\n",
    "from sklearn.preprocessing import StandardScaler\n",
    "from sklearn.pipeline import Pipeline\n",
    "from sklearn.preprocessing import PolynomialFeatures\n",
    "from sklearn.linear_model import LinearRegression\n",
    "from sklearn.ensemble import RandomForestRegressor\n",
    "from sklearn import linear_model, preprocessing\n",
    "from sklearn.metrics import accuracy_score\n",
    "from sklearn import metrics\n",
    "\n",
    "\n",
    "import pandas as pd\n",
    "import numpy as np\n",
    "\n",
    "import matplotlib.pyplot as plt\n",
    "from matplotlib.ticker import FuncFormatter\n",
    "import seaborn as sns\n",
    "\n",
    "%config InlineBackend.figure_format='retina'\n",
    "%matplotlib inline\n",
    "\n",
    "from IPython.display import set_matplotlib_formats\n",
    "set_matplotlib_formats('retina', quality=100)\n",
    "\n",
    "import warnings\n",
    "warnings.filterwarnings('ignore')"
   ]
  },
  {
   "cell_type": "markdown",
   "id": "d31b8ee9",
   "metadata": {},
   "source": [
    "---\n",
    "\n",
    "## <span style=\"color:#ff5f27;\">🪝 Feature View and Training Dataset Retrieval</span>"
   ]
  },
  {
   "cell_type": "code",
   "execution_count": 3,
   "id": "da45fd22",
   "metadata": {},
   "outputs": [],
   "source": [
    "feature_view = fs.get_feature_view(\n",
    "    name = 'btc_feature_view',\n",
    "    version = 1\n",
    ")"
   ]
  },
  {
   "cell_type": "code",
   "execution_count": 4,
   "id": "f1582dd7",
   "metadata": {},
   "outputs": [],
   "source": [
    "X_train, y_train = feature_view.get_training_data(\n",
    "    training_dataset_version = 1\n",
    ")"
   ]
  },
  {
   "cell_type": "code",
   "execution_count": 5,
   "id": "2c77ebb9",
   "metadata": {},
   "outputs": [
    {
     "data": {
      "text/html": [
       "<div>\n",
       "<style scoped>\n",
       "    .dataframe tbody tr th:only-of-type {\n",
       "        vertical-align: middle;\n",
       "    }\n",
       "\n",
       "    .dataframe tbody tr th {\n",
       "        vertical-align: top;\n",
       "    }\n",
       "\n",
       "    .dataframe thead th {\n",
       "        text-align: right;\n",
       "    }\n",
       "</style>\n",
       "<table border=\"1\" class=\"dataframe\">\n",
       "  <thead>\n",
       "    <tr style=\"text-align: right;\">\n",
       "      <th></th>\n",
       "      <th>index</th>\n",
       "      <th>open</th>\n",
       "      <th>high</th>\n",
       "      <th>low</th>\n",
       "      <th>volume</th>\n",
       "      <th>quote_av</th>\n",
       "      <th>trades</th>\n",
       "      <th>tb_base_av</th>\n",
       "      <th>tb_quote_av</th>\n",
       "      <th>unix</th>\n",
       "      <th>...</th>\n",
       "      <th>exp_mean_56_days</th>\n",
       "      <th>exp_std_56_days</th>\n",
       "      <th>momentum_56_days</th>\n",
       "      <th>rate_of_change_56_days</th>\n",
       "      <th>strength_index_56_days</th>\n",
       "      <th>subjectivity</th>\n",
       "      <th>polarity</th>\n",
       "      <th>compound</th>\n",
       "      <th>close</th>\n",
       "      <th>close_nextday</th>\n",
       "    </tr>\n",
       "    <tr>\n",
       "      <th>date</th>\n",
       "      <th></th>\n",
       "      <th></th>\n",
       "      <th></th>\n",
       "      <th></th>\n",
       "      <th></th>\n",
       "      <th></th>\n",
       "      <th></th>\n",
       "      <th></th>\n",
       "      <th></th>\n",
       "      <th></th>\n",
       "      <th></th>\n",
       "      <th></th>\n",
       "      <th></th>\n",
       "      <th></th>\n",
       "      <th></th>\n",
       "      <th></th>\n",
       "      <th></th>\n",
       "      <th></th>\n",
       "      <th></th>\n",
       "      <th></th>\n",
       "      <th></th>\n",
       "    </tr>\n",
       "  </thead>\n",
       "  <tbody>\n",
       "    <tr>\n",
       "      <th>2021-02-04T22:00:00.000Z</th>\n",
       "      <td>0</td>\n",
       "      <td>37251.07</td>\n",
       "      <td>38310.12</td>\n",
       "      <td>37200.00</td>\n",
       "      <td>40796.279765</td>\n",
       "      <td>1.544401e+09</td>\n",
       "      <td>1174800</td>\n",
       "      <td>19644.346339</td>\n",
       "      <td>7.438292e+08</td>\n",
       "      <td>1612476000000</td>\n",
       "      <td>...</td>\n",
       "      <td>37773.079706</td>\n",
       "      <td>173.907501</td>\n",
       "      <td>-1.699107</td>\n",
       "      <td>0.009829</td>\n",
       "      <td>35.439434</td>\n",
       "      <td>33.070246</td>\n",
       "      <td>10.990740</td>\n",
       "      <td>16.386050</td>\n",
       "      <td>38290.24</td>\n",
       "      <td>39186.94</td>\n",
       "    </tr>\n",
       "    <tr>\n",
       "      <th>2021-02-05T22:00:00.000Z</th>\n",
       "      <td>1</td>\n",
       "      <td>38289.32</td>\n",
       "      <td>40955.51</td>\n",
       "      <td>38215.94</td>\n",
       "      <td>98757.311183</td>\n",
       "      <td>3.922095e+09</td>\n",
       "      <td>2291646</td>\n",
       "      <td>52015.513362</td>\n",
       "      <td>2.065181e+09</td>\n",
       "      <td>1612562400000</td>\n",
       "      <td>...</td>\n",
       "      <td>39581.036932</td>\n",
       "      <td>360.686701</td>\n",
       "      <td>419.198438</td>\n",
       "      <td>1.073169</td>\n",
       "      <td>55.523607</td>\n",
       "      <td>39.396726</td>\n",
       "      <td>14.872548</td>\n",
       "      <td>19.337917</td>\n",
       "      <td>39186.94</td>\n",
       "      <td>38795.69</td>\n",
       "    </tr>\n",
       "    <tr>\n",
       "      <th>2021-02-06T22:00:00.000Z</th>\n",
       "      <td>2</td>\n",
       "      <td>39181.01</td>\n",
       "      <td>39700.00</td>\n",
       "      <td>37351.00</td>\n",
       "      <td>84363.679763</td>\n",
       "      <td>3.256521e+09</td>\n",
       "      <td>1976357</td>\n",
       "      <td>40764.388959</td>\n",
       "      <td>1.574483e+09</td>\n",
       "      <td>1612648800000</td>\n",
       "      <td>...</td>\n",
       "      <td>38791.906580</td>\n",
       "      <td>401.501767</td>\n",
       "      <td>-280.393889</td>\n",
       "      <td>-0.673714</td>\n",
       "      <td>47.025153</td>\n",
       "      <td>43.991652</td>\n",
       "      <td>18.617581</td>\n",
       "      <td>18.655754</td>\n",
       "      <td>38795.69</td>\n",
       "      <td>46374.87</td>\n",
       "    </tr>\n",
       "    <tr>\n",
       "      <th>2021-02-07T22:00:00.000Z</th>\n",
       "      <td>3</td>\n",
       "      <td>38795.69</td>\n",
       "      <td>46794.45</td>\n",
       "      <td>37988.89</td>\n",
       "      <td>138589.688723</td>\n",
       "      <td>5.881196e+09</td>\n",
       "      <td>3230728</td>\n",
       "      <td>72343.103838</td>\n",
       "      <td>3.069193e+09</td>\n",
       "      <td>1612735200000</td>\n",
       "      <td>...</td>\n",
       "      <td>40566.513970</td>\n",
       "      <td>756.499446</td>\n",
       "      <td>1131.391701</td>\n",
       "      <td>2.814765</td>\n",
       "      <td>57.078118</td>\n",
       "      <td>63.704263</td>\n",
       "      <td>23.015734</td>\n",
       "      <td>37.119012</td>\n",
       "      <td>46374.87</td>\n",
       "      <td>46420.42</td>\n",
       "    </tr>\n",
       "    <tr>\n",
       "      <th>2021-02-08T22:00:00.000Z</th>\n",
       "      <td>4</td>\n",
       "      <td>46374.86</td>\n",
       "      <td>48142.19</td>\n",
       "      <td>44961.09</td>\n",
       "      <td>115499.861712</td>\n",
       "      <td>5.386255e+09</td>\n",
       "      <td>3119034</td>\n",
       "      <td>57429.564347</td>\n",
       "      <td>2.679451e+09</td>\n",
       "      <td>1612821600000</td>\n",
       "      <td>...</td>\n",
       "      <td>46419.075614</td>\n",
       "      <td>653.955490</td>\n",
       "      <td>502.661979</td>\n",
       "      <td>1.119267</td>\n",
       "      <td>53.252206</td>\n",
       "      <td>49.481201</td>\n",
       "      <td>18.047544</td>\n",
       "      <td>28.974629</td>\n",
       "      <td>46420.42</td>\n",
       "      <td>44807.58</td>\n",
       "    </tr>\n",
       "  </tbody>\n",
       "</table>\n",
       "<p>5 rows × 37 columns</p>\n",
       "</div>"
      ],
      "text/plain": [
       "                          index      open      high       low         volume  \\\n",
       "date                                                                           \n",
       "2021-02-04T22:00:00.000Z      0  37251.07  38310.12  37200.00   40796.279765   \n",
       "2021-02-05T22:00:00.000Z      1  38289.32  40955.51  38215.94   98757.311183   \n",
       "2021-02-06T22:00:00.000Z      2  39181.01  39700.00  37351.00   84363.679763   \n",
       "2021-02-07T22:00:00.000Z      3  38795.69  46794.45  37988.89  138589.688723   \n",
       "2021-02-08T22:00:00.000Z      4  46374.86  48142.19  44961.09  115499.861712   \n",
       "\n",
       "                              quote_av   trades    tb_base_av   tb_quote_av  \\\n",
       "date                                                                          \n",
       "2021-02-04T22:00:00.000Z  1.544401e+09  1174800  19644.346339  7.438292e+08   \n",
       "2021-02-05T22:00:00.000Z  3.922095e+09  2291646  52015.513362  2.065181e+09   \n",
       "2021-02-06T22:00:00.000Z  3.256521e+09  1976357  40764.388959  1.574483e+09   \n",
       "2021-02-07T22:00:00.000Z  5.881196e+09  3230728  72343.103838  3.069193e+09   \n",
       "2021-02-08T22:00:00.000Z  5.386255e+09  3119034  57429.564347  2.679451e+09   \n",
       "\n",
       "                                   unix  ...  exp_mean_56_days  \\\n",
       "date                                     ...                     \n",
       "2021-02-04T22:00:00.000Z  1612476000000  ...      37773.079706   \n",
       "2021-02-05T22:00:00.000Z  1612562400000  ...      39581.036932   \n",
       "2021-02-06T22:00:00.000Z  1612648800000  ...      38791.906580   \n",
       "2021-02-07T22:00:00.000Z  1612735200000  ...      40566.513970   \n",
       "2021-02-08T22:00:00.000Z  1612821600000  ...      46419.075614   \n",
       "\n",
       "                          exp_std_56_days  momentum_56_days  \\\n",
       "date                                                          \n",
       "2021-02-04T22:00:00.000Z       173.907501         -1.699107   \n",
       "2021-02-05T22:00:00.000Z       360.686701        419.198438   \n",
       "2021-02-06T22:00:00.000Z       401.501767       -280.393889   \n",
       "2021-02-07T22:00:00.000Z       756.499446       1131.391701   \n",
       "2021-02-08T22:00:00.000Z       653.955490        502.661979   \n",
       "\n",
       "                          rate_of_change_56_days  strength_index_56_days  \\\n",
       "date                                                                       \n",
       "2021-02-04T22:00:00.000Z                0.009829               35.439434   \n",
       "2021-02-05T22:00:00.000Z                1.073169               55.523607   \n",
       "2021-02-06T22:00:00.000Z               -0.673714               47.025153   \n",
       "2021-02-07T22:00:00.000Z                2.814765               57.078118   \n",
       "2021-02-08T22:00:00.000Z                1.119267               53.252206   \n",
       "\n",
       "                          subjectivity   polarity   compound     close  \\\n",
       "date                                                                     \n",
       "2021-02-04T22:00:00.000Z     33.070246  10.990740  16.386050  38290.24   \n",
       "2021-02-05T22:00:00.000Z     39.396726  14.872548  19.337917  39186.94   \n",
       "2021-02-06T22:00:00.000Z     43.991652  18.617581  18.655754  38795.69   \n",
       "2021-02-07T22:00:00.000Z     63.704263  23.015734  37.119012  46374.87   \n",
       "2021-02-08T22:00:00.000Z     49.481201  18.047544  28.974629  46420.42   \n",
       "\n",
       "                          close_nextday  \n",
       "date                                     \n",
       "2021-02-04T22:00:00.000Z       39186.94  \n",
       "2021-02-05T22:00:00.000Z       38795.69  \n",
       "2021-02-06T22:00:00.000Z       46374.87  \n",
       "2021-02-07T22:00:00.000Z       46420.42  \n",
       "2021-02-08T22:00:00.000Z       44807.58  \n",
       "\n",
       "[5 rows x 37 columns]"
      ]
     },
     "execution_count": 5,
     "metadata": {},
     "output_type": "execute_result"
    }
   ],
   "source": [
    "X_train['close'] = y_train\n",
    "\n",
    "X_train.sort_values('unix',inplace = True)\n",
    "X_train[\"close_nextday\"] = X_train.close.shift(-1)\n",
    "\n",
    "X_train.date = X_train.date.apply(str)\n",
    "X_train.unix = X_train.unix.apply(int)\n",
    "\n",
    "X_train.set_index('date',inplace = True)\n",
    "X_train.dropna(inplace = True)\n",
    "\n",
    "X_train.head()"
   ]
  },
  {
   "cell_type": "code",
   "execution_count": 6,
   "id": "b0235318",
   "metadata": {},
   "outputs": [],
   "source": [
    "X = X_train.drop(labels=[\"close_nextday\", \"unix\"], axis=1)\n",
    "y = X_train['close_nextday']"
   ]
  },
  {
   "cell_type": "code",
   "execution_count": 7,
   "id": "6d7ea521",
   "metadata": {},
   "outputs": [
    {
     "data": {
      "text/html": [
       "<div>\n",
       "<style scoped>\n",
       "    .dataframe tbody tr th:only-of-type {\n",
       "        vertical-align: middle;\n",
       "    }\n",
       "\n",
       "    .dataframe tbody tr th {\n",
       "        vertical-align: top;\n",
       "    }\n",
       "\n",
       "    .dataframe thead th {\n",
       "        text-align: right;\n",
       "    }\n",
       "</style>\n",
       "<table border=\"1\" class=\"dataframe\">\n",
       "  <thead>\n",
       "    <tr style=\"text-align: right;\">\n",
       "      <th></th>\n",
       "      <th>index</th>\n",
       "      <th>open</th>\n",
       "      <th>high</th>\n",
       "      <th>low</th>\n",
       "      <th>volume</th>\n",
       "      <th>quote_av</th>\n",
       "      <th>trades</th>\n",
       "      <th>tb_base_av</th>\n",
       "      <th>tb_quote_av</th>\n",
       "      <th>mean_7_days</th>\n",
       "      <th>...</th>\n",
       "      <th>std_56_days</th>\n",
       "      <th>exp_mean_56_days</th>\n",
       "      <th>exp_std_56_days</th>\n",
       "      <th>momentum_56_days</th>\n",
       "      <th>rate_of_change_56_days</th>\n",
       "      <th>strength_index_56_days</th>\n",
       "      <th>subjectivity</th>\n",
       "      <th>polarity</th>\n",
       "      <th>compound</th>\n",
       "      <th>close</th>\n",
       "    </tr>\n",
       "    <tr>\n",
       "      <th>date</th>\n",
       "      <th></th>\n",
       "      <th></th>\n",
       "      <th></th>\n",
       "      <th></th>\n",
       "      <th></th>\n",
       "      <th></th>\n",
       "      <th></th>\n",
       "      <th></th>\n",
       "      <th></th>\n",
       "      <th></th>\n",
       "      <th></th>\n",
       "      <th></th>\n",
       "      <th></th>\n",
       "      <th></th>\n",
       "      <th></th>\n",
       "      <th></th>\n",
       "      <th></th>\n",
       "      <th></th>\n",
       "      <th></th>\n",
       "      <th></th>\n",
       "      <th></th>\n",
       "    </tr>\n",
       "  </thead>\n",
       "  <tbody>\n",
       "    <tr>\n",
       "      <th>2021-02-04T22:00:00.000Z</th>\n",
       "      <td>0</td>\n",
       "      <td>37251.07</td>\n",
       "      <td>38310.12</td>\n",
       "      <td>37200.00</td>\n",
       "      <td>40796.279765</td>\n",
       "      <td>1.544401e+09</td>\n",
       "      <td>1174800</td>\n",
       "      <td>19644.346339</td>\n",
       "      <td>7.438292e+08</td>\n",
       "      <td>36463.818784</td>\n",
       "      <td>...</td>\n",
       "      <td>115.906913</td>\n",
       "      <td>37773.079706</td>\n",
       "      <td>173.907501</td>\n",
       "      <td>-1.699107</td>\n",
       "      <td>0.009829</td>\n",
       "      <td>35.439434</td>\n",
       "      <td>33.070246</td>\n",
       "      <td>10.990740</td>\n",
       "      <td>16.386050</td>\n",
       "      <td>38290.24</td>\n",
       "    </tr>\n",
       "    <tr>\n",
       "      <th>2021-02-05T22:00:00.000Z</th>\n",
       "      <td>1</td>\n",
       "      <td>38289.32</td>\n",
       "      <td>40955.51</td>\n",
       "      <td>38215.94</td>\n",
       "      <td>98757.311183</td>\n",
       "      <td>3.922095e+09</td>\n",
       "      <td>2291646</td>\n",
       "      <td>52015.513362</td>\n",
       "      <td>2.065181e+09</td>\n",
       "      <td>39763.642976</td>\n",
       "      <td>...</td>\n",
       "      <td>266.222390</td>\n",
       "      <td>39581.036932</td>\n",
       "      <td>360.686701</td>\n",
       "      <td>419.198438</td>\n",
       "      <td>1.073169</td>\n",
       "      <td>55.523607</td>\n",
       "      <td>39.396726</td>\n",
       "      <td>14.872548</td>\n",
       "      <td>19.337917</td>\n",
       "      <td>39186.94</td>\n",
       "    </tr>\n",
       "    <tr>\n",
       "      <th>2021-02-06T22:00:00.000Z</th>\n",
       "      <td>2</td>\n",
       "      <td>39181.01</td>\n",
       "      <td>39700.00</td>\n",
       "      <td>37351.00</td>\n",
       "      <td>84363.679763</td>\n",
       "      <td>3.256521e+09</td>\n",
       "      <td>1976357</td>\n",
       "      <td>40764.388959</td>\n",
       "      <td>1.574483e+09</td>\n",
       "      <td>38670.440625</td>\n",
       "      <td>...</td>\n",
       "      <td>323.604533</td>\n",
       "      <td>38791.906580</td>\n",
       "      <td>401.501767</td>\n",
       "      <td>-280.393889</td>\n",
       "      <td>-0.673714</td>\n",
       "      <td>47.025153</td>\n",
       "      <td>43.991652</td>\n",
       "      <td>18.617581</td>\n",
       "      <td>18.655754</td>\n",
       "      <td>38795.69</td>\n",
       "    </tr>\n",
       "    <tr>\n",
       "      <th>2021-02-07T22:00:00.000Z</th>\n",
       "      <td>3</td>\n",
       "      <td>38795.69</td>\n",
       "      <td>46794.45</td>\n",
       "      <td>37988.89</td>\n",
       "      <td>138589.688723</td>\n",
       "      <td>5.881196e+09</td>\n",
       "      <td>3230728</td>\n",
       "      <td>72343.103838</td>\n",
       "      <td>3.069193e+09</td>\n",
       "      <td>41065.418254</td>\n",
       "      <td>...</td>\n",
       "      <td>569.586866</td>\n",
       "      <td>40566.513970</td>\n",
       "      <td>756.499446</td>\n",
       "      <td>1131.391701</td>\n",
       "      <td>2.814765</td>\n",
       "      <td>57.078118</td>\n",
       "      <td>63.704263</td>\n",
       "      <td>23.015734</td>\n",
       "      <td>37.119012</td>\n",
       "      <td>46374.87</td>\n",
       "    </tr>\n",
       "    <tr>\n",
       "      <th>2021-02-08T22:00:00.000Z</th>\n",
       "      <td>4</td>\n",
       "      <td>46374.86</td>\n",
       "      <td>48142.19</td>\n",
       "      <td>44961.09</td>\n",
       "      <td>115499.861712</td>\n",
       "      <td>5.386255e+09</td>\n",
       "      <td>3119034</td>\n",
       "      <td>57429.564347</td>\n",
       "      <td>2.679451e+09</td>\n",
       "      <td>46623.542426</td>\n",
       "      <td>...</td>\n",
       "      <td>500.663548</td>\n",
       "      <td>46419.075614</td>\n",
       "      <td>653.955490</td>\n",
       "      <td>502.661979</td>\n",
       "      <td>1.119267</td>\n",
       "      <td>53.252206</td>\n",
       "      <td>49.481201</td>\n",
       "      <td>18.047544</td>\n",
       "      <td>28.974629</td>\n",
       "      <td>46420.42</td>\n",
       "    </tr>\n",
       "  </tbody>\n",
       "</table>\n",
       "<p>5 rows × 35 columns</p>\n",
       "</div>"
      ],
      "text/plain": [
       "                          index      open      high       low         volume  \\\n",
       "date                                                                           \n",
       "2021-02-04T22:00:00.000Z      0  37251.07  38310.12  37200.00   40796.279765   \n",
       "2021-02-05T22:00:00.000Z      1  38289.32  40955.51  38215.94   98757.311183   \n",
       "2021-02-06T22:00:00.000Z      2  39181.01  39700.00  37351.00   84363.679763   \n",
       "2021-02-07T22:00:00.000Z      3  38795.69  46794.45  37988.89  138589.688723   \n",
       "2021-02-08T22:00:00.000Z      4  46374.86  48142.19  44961.09  115499.861712   \n",
       "\n",
       "                              quote_av   trades    tb_base_av   tb_quote_av  \\\n",
       "date                                                                          \n",
       "2021-02-04T22:00:00.000Z  1.544401e+09  1174800  19644.346339  7.438292e+08   \n",
       "2021-02-05T22:00:00.000Z  3.922095e+09  2291646  52015.513362  2.065181e+09   \n",
       "2021-02-06T22:00:00.000Z  3.256521e+09  1976357  40764.388959  1.574483e+09   \n",
       "2021-02-07T22:00:00.000Z  5.881196e+09  3230728  72343.103838  3.069193e+09   \n",
       "2021-02-08T22:00:00.000Z  5.386255e+09  3119034  57429.564347  2.679451e+09   \n",
       "\n",
       "                           mean_7_days  ...  std_56_days  exp_mean_56_days  \\\n",
       "date                                    ...                                  \n",
       "2021-02-04T22:00:00.000Z  36463.818784  ...   115.906913      37773.079706   \n",
       "2021-02-05T22:00:00.000Z  39763.642976  ...   266.222390      39581.036932   \n",
       "2021-02-06T22:00:00.000Z  38670.440625  ...   323.604533      38791.906580   \n",
       "2021-02-07T22:00:00.000Z  41065.418254  ...   569.586866      40566.513970   \n",
       "2021-02-08T22:00:00.000Z  46623.542426  ...   500.663548      46419.075614   \n",
       "\n",
       "                          exp_std_56_days  momentum_56_days  \\\n",
       "date                                                          \n",
       "2021-02-04T22:00:00.000Z       173.907501         -1.699107   \n",
       "2021-02-05T22:00:00.000Z       360.686701        419.198438   \n",
       "2021-02-06T22:00:00.000Z       401.501767       -280.393889   \n",
       "2021-02-07T22:00:00.000Z       756.499446       1131.391701   \n",
       "2021-02-08T22:00:00.000Z       653.955490        502.661979   \n",
       "\n",
       "                          rate_of_change_56_days  strength_index_56_days  \\\n",
       "date                                                                       \n",
       "2021-02-04T22:00:00.000Z                0.009829               35.439434   \n",
       "2021-02-05T22:00:00.000Z                1.073169               55.523607   \n",
       "2021-02-06T22:00:00.000Z               -0.673714               47.025153   \n",
       "2021-02-07T22:00:00.000Z                2.814765               57.078118   \n",
       "2021-02-08T22:00:00.000Z                1.119267               53.252206   \n",
       "\n",
       "                          subjectivity   polarity   compound     close  \n",
       "date                                                                    \n",
       "2021-02-04T22:00:00.000Z     33.070246  10.990740  16.386050  38290.24  \n",
       "2021-02-05T22:00:00.000Z     39.396726  14.872548  19.337917  39186.94  \n",
       "2021-02-06T22:00:00.000Z     43.991652  18.617581  18.655754  38795.69  \n",
       "2021-02-07T22:00:00.000Z     63.704263  23.015734  37.119012  46374.87  \n",
       "2021-02-08T22:00:00.000Z     49.481201  18.047544  28.974629  46420.42  \n",
       "\n",
       "[5 rows x 35 columns]"
      ]
     },
     "execution_count": 7,
     "metadata": {},
     "output_type": "execute_result"
    }
   ],
   "source": [
    "X.head()"
   ]
  },
  {
   "cell_type": "code",
   "execution_count": 8,
   "id": "b7ee8508",
   "metadata": {},
   "outputs": [
    {
     "data": {
      "text/plain": [
       "date\n",
       "2021-02-04T22:00:00.000Z    39186.94\n",
       "2021-02-05T22:00:00.000Z    38795.69\n",
       "2021-02-06T22:00:00.000Z    46374.87\n",
       "2021-02-07T22:00:00.000Z    46420.42\n",
       "2021-02-08T22:00:00.000Z    44807.58\n",
       "Name: close_nextday, dtype: float64"
      ]
     },
     "execution_count": 8,
     "metadata": {},
     "output_type": "execute_result"
    }
   ],
   "source": [
    "y.head()"
   ]
  },
  {
   "cell_type": "markdown",
   "id": "cf2b8152",
   "metadata": {},
   "source": [
    "---\n",
    "\n",
    "## <span style=\"color:#ff5f27;\">🪓 TimeSeriesSplit</span>"
   ]
  },
  {
   "cell_type": "code",
   "execution_count": 9,
   "id": "d80e0336",
   "metadata": {},
   "outputs": [],
   "source": [
    "tss = TimeSeriesSplit(n_splits=3)  \n",
    "\n",
    "for train_index, test_index in tss.split(X):\n",
    "    X_train, X_test = X.iloc[train_index, :], X.iloc[test_index, :]\n",
    "    y_train_split, y_test_split = y.iloc[train_index], y.iloc[test_index]"
   ]
  },
  {
   "cell_type": "code",
   "execution_count": 10,
   "id": "e860f3fd",
   "metadata": {},
   "outputs": [],
   "source": [
    "y_train = y_train_split.values.reshape(-1, 1)\n",
    "y_test = y_test_split.values.reshape(-1, 1)"
   ]
  },
  {
   "cell_type": "markdown",
   "id": "c091a51d",
   "metadata": {},
   "source": [
    "---\n",
    "\n",
    "## <span style=\"color:#ff5f27;\">🤖 Random Forest</span>"
   ]
  },
  {
   "cell_type": "code",
   "execution_count": 12,
   "id": "137d3194",
   "metadata": {},
   "outputs": [],
   "source": [
    "rf_model = RandomForestRegressor().fit(X_train, y_train)"
   ]
  },
  {
   "cell_type": "code",
   "execution_count": 13,
   "id": "204767bd",
   "metadata": {},
   "outputs": [],
   "source": [
    "y_preds = rf_model.predict(X_test)"
   ]
  },
  {
   "cell_type": "code",
   "execution_count": 14,
   "id": "9c9c7e8e",
   "metadata": {},
   "outputs": [
    {
     "data": {
      "text/plain": [
       "1352.1721399999976"
      ]
     },
     "execution_count": 14,
     "metadata": {},
     "output_type": "execute_result"
    }
   ],
   "source": [
    "metrics.mean_absolute_error(y_test,y_preds)"
   ]
  },
  {
   "cell_type": "code",
   "execution_count": 15,
   "id": "03f5c55d",
   "metadata": {},
   "outputs": [
    {
     "data": {
      "text/plain": [
       "0.8948015994202492"
      ]
     },
     "execution_count": 15,
     "metadata": {},
     "output_type": "execute_result"
    }
   ],
   "source": [
    "metrics.r2_score(y_test,y_preds)"
   ]
  },
  {
   "cell_type": "code",
   "execution_count": 16,
   "id": "f0beafe8",
   "metadata": {},
   "outputs": [
    {
     "data": {
      "image/png": "[encoded data removed]",
      "text/plain": [
       "<Figure size 432x288 with 1 Axes>"
      ]
     },
     "metadata": {
      "image/png": {
       "height": 347,
       "width": 498
      },
      "needs_background": "light"
     },
     "output_type": "display_data"
    }
   ],
   "source": [
    "colors = ['darkslategrey']\n",
    "\n",
    "fig=plt.figure()\n",
    "ax=fig.add_axes([0,0,1,1])\n",
    "ax.scatter(y_test, y_preds, c=colors)\n",
    "\n",
    "ax.set_title('Random Forest Regressor Results')\n",
    "ax.set_xlabel('actual values')\n",
    "ax.set_ylabel('predicted values')\n",
    "\n",
    "fig.tight_layout()\n",
    "plt.show()"
   ]
  },
  {
   "cell_type": "code",
   "execution_count": 17,
   "id": "92934e29",
   "metadata": {},
   "outputs": [
    {
     "data": {
      "image/png": "[encoded data removed]",
      "text/plain": [
       "<Figure size 432x288 with 1 Axes>"
      ]
     },
     "metadata": {
      "image/png": {
       "height": 347,
       "width": 500
      },
      "needs_background": "light"
     },
     "output_type": "display_data"
    }
   ],
   "source": [
    "colors = ['darkslategrey']\n",
    "\n",
    "fig=plt.figure()\n",
    "ax=fig.add_axes([0,0,1,1])\n",
    "\n",
    "ax.plot(y_test, 'black')\n",
    "ax.plot(y_preds, 'yellow')\n",
    "ax.set_ylabel('$price$')\n",
    "ax.set_xlabel('$time$')\n",
    "ax.grid(True)\n",
    "ax.legend([\"actual\", \"pred\"])\n",
    "ax.set_title(\"Random Forest Regressor\", loc='right')\n",
    "\n",
    "fig.tight_layout()\n",
    "\n",
    "plt.grid(True)\n",
    "plt.show()"
   ]
  },
  {
   "cell_type": "code",
   "execution_count": 18,
   "id": "85a11467",
   "metadata": {},
   "outputs": [
    {
     "name": "stdout",
     "output_type": "stream",
     "text": [
      " 1) close                          0.826116\n",
      " 2) low                            0.066137\n",
      " 3) high                           0.043723\n",
      " 4) exp_mean_7_days                0.014920\n",
      " 5) mean_14_days                   0.009679\n",
      " 6) index                          0.004307\n",
      " 7) exp_mean_56_days               0.003804\n",
      " 8) open                           0.002998\n",
      " 9) exp_mean_14_days               0.002712\n",
      "10) signal                         0.002657\n",
      "11) mean_56_days                   0.002443\n",
      "12) mean_7_days                    0.002146\n",
      "13) strength_index_56_days         0.001599\n",
      "14) trades                         0.001545\n",
      "15) strength_index_7_days          0.001074\n",
      "16) std_56_days                    0.000965\n",
      "17) std_7_days                     0.000963\n",
      "18) strength_index_14_days         0.000942\n",
      "19) exp_std_56_days                0.000887\n",
      "20) volume                         0.000881\n",
      "21) momentum_56_days               0.000859\n",
      "22) tb_base_av                     0.000814\n",
      "23) rate_of_change_56_days         0.000718\n",
      "24) std_14_days                    0.000713\n",
      "25) quote_av                       0.000705\n",
      "26) tb_quote_av                    0.000690\n",
      "27) momentum_14_days               0.000660\n",
      "28) compound                       0.000659\n",
      "29) exp_std_14_days                0.000624\n",
      "30) polarity                       0.000599\n",
      "31) exp_std_7_days                 0.000548\n",
      "32) momentum_7_days                0.000500\n",
      "33) rate_of_change_14_days         0.000491\n",
      "34) rate_of_change_7_days          0.000472\n",
      "35) subjectivity                   0.000450\n"
     ]
    }
   ],
   "source": [
    "feat_labels = X_train.columns\n",
    "importances = rf_model.feature_importances_\n",
    "indices = np.argsort(importances)[::-1]\n",
    "\n",
    "for f in range(X_train.shape[1]):\n",
    "    print(\"%2d) %-*s %f\" % (f + 1, 30, feat_labels[indices[f]], importances[indices[f]]))"
   ]
  },
  {
   "cell_type": "markdown",
   "id": "fb2fe3f8",
   "metadata": {},
   "source": [
    "---\n",
    "## <span style='color:#ff5f27'>👮🏼‍♀️ Model Registry</span>"
   ]
  },
  {
   "cell_type": "code",
   "execution_count": 19,
   "id": "d48e381b",
   "metadata": {},
   "outputs": [
    {
     "name": "stdout",
     "output_type": "stream",
     "text": [
      "Connected. Call `.close()` to terminate connection gracefully.\n"
     ]
    }
   ],
   "source": [
    "mr = project.get_model_registry()"
   ]
  },
  {
   "cell_type": "code",
   "execution_count": 20,
   "id": "4670c318",
   "metadata": {},
   "outputs": [
    {
     "data": {
      "text/plain": [
       "{'input_schema': {'columnar_schema': [{'name': 'index', 'type': 'int64'},\n",
       "   {'name': 'open', 'type': 'float64'},\n",
       "   {'name': 'high', 'type': 'float64'},\n",
       "   {'name': 'low', 'type': 'float64'},\n",
       "   {'name': 'volume', 'type': 'float64'},\n",
       "   {'name': 'quote_av', 'type': 'float64'},\n",
       "   {'name': 'trades', 'type': 'int64'},\n",
       "   {'name': 'tb_base_av', 'type': 'float64'},\n",
       "   {'name': 'tb_quote_av', 'type': 'float64'},\n",
       "   {'name': 'mean_7_days', 'type': 'float64'},\n",
       "   {'name': 'mean_14_days', 'type': 'float64'},\n",
       "   {'name': 'mean_56_days', 'type': 'float64'},\n",
       "   {'name': 'signal', 'type': 'float64'},\n",
       "   {'name': 'std_7_days', 'type': 'float64'},\n",
       "   {'name': 'exp_mean_7_days', 'type': 'float64'},\n",
       "   {'name': 'exp_std_7_days', 'type': 'float64'},\n",
       "   {'name': 'momentum_7_days', 'type': 'float64'},\n",
       "   {'name': 'rate_of_change_7_days', 'type': 'float64'},\n",
       "   {'name': 'strength_index_7_days', 'type': 'float64'},\n",
       "   {'name': 'std_14_days', 'type': 'float64'},\n",
       "   {'name': 'exp_mean_14_days', 'type': 'float64'},\n",
       "   {'name': 'exp_std_14_days', 'type': 'float64'},\n",
       "   {'name': 'momentum_14_days', 'type': 'float64'},\n",
       "   {'name': 'rate_of_change_14_days', 'type': 'float64'},\n",
       "   {'name': 'strength_index_14_days', 'type': 'float64'},\n",
       "   {'name': 'std_56_days', 'type': 'float64'},\n",
       "   {'name': 'exp_mean_56_days', 'type': 'float64'},\n",
       "   {'name': 'exp_std_56_days', 'type': 'float64'},\n",
       "   {'name': 'momentum_56_days', 'type': 'float64'},\n",
       "   {'name': 'rate_of_change_56_days', 'type': 'float64'},\n",
       "   {'name': 'strength_index_56_days', 'type': 'float64'},\n",
       "   {'name': 'subjectivity', 'type': 'float64'},\n",
       "   {'name': 'polarity', 'type': 'float64'},\n",
       "   {'name': 'compound', 'type': 'float64'},\n",
       "   {'name': 'close', 'type': 'float64'}]},\n",
       " 'output_schema': {'tensor_schema': {'shape': '(363, 1)', 'type': 'float64'}}}"
      ]
     },
     "execution_count": 20,
     "metadata": {},
     "output_type": "execute_result"
    }
   ],
   "source": [
    "from hsml.schema import Schema\n",
    "from hsml.model_schema import ModelSchema\n",
    "\n",
    "input_schema = Schema(X_train)\n",
    "output_schema = Schema(y_train)\n",
    "model_schema = ModelSchema(input_schema=input_schema, output_schema=output_schema)\n",
    "\n",
    "model_schema.to_dict()"
   ]
  },
  {
   "cell_type": "code",
   "execution_count": 21,
   "id": "c6c907ec",
   "metadata": {},
   "outputs": [
    {
     "data": {
      "application/vnd.jupyter.widget-view+json": {
       "model_id": "bfcf88b72be1481bb1ace3f5e923bbaa",
       "version_major": 2,
       "version_minor": 0
      },
      "text/plain": [
       "  0%|          | 0/6 [00:00<?, ?it/s]"
      ]
     },
     "metadata": {},
     "output_type": "display_data"
    },
    {
     "name": "stdout",
     "output_type": "stream",
     "text": [
      "Model created, explore it at https://c.app.hopsworks.ai:443/p/167/models/btcforest/1\n"
     ]
    },
    {
     "data": {
      "text/plain": [
       "Model(name: 'btcforest', version: 1)"
      ]
     },
     "execution_count": 21,
     "metadata": {},
     "output_type": "execute_result"
    }
   ],
   "source": [
    "import joblib\n",
    "\n",
    "pkl_file_name = \"btcforest.pkl\"\n",
    "\n",
    "joblib.dump(rf_model, pkl_file_name)\n",
    "\n",
    "model = mr.python.create_model(\n",
    "    name=\"btcforest\",\n",
    "    #metrics=metrics,\n",
    "    description=f\"btcforest model trained on timeseries and processed tweets.\",\n",
    "    input_example=X_train.sample(),\n",
    "    model_schema=model_schema\n",
    ")\n",
    "\n",
    "model.save(pkl_file_name)"
   ]
  },
  {
   "cell_type": "markdown",
   "id": "6dbb6b2f",
   "metadata": {},
   "source": [
    "---"
   ]
  },
  {
   "cell_type": "code",
   "execution_count": 22,
   "id": "b15bbb5c",
   "metadata": {},
   "outputs": [
    {
     "name": "stdout",
     "output_type": "stream",
     "text": [
      "Overwriting predict_example.py\n"
     ]
    }
   ],
   "source": [
    "%%writefile predict_example.py\n",
    "import os\n",
    "import hsfs\n",
    "import joblib\n",
    "import numpy as np\n",
    "\n",
    "class Predict(object):\n",
    "\n",
    "    def __init__(self):\n",
    "        \"\"\" Initializes the serving state, reads a trained model\"\"\"        \n",
    "        # load the trained model\n",
    "        self.model = joblib.load(os.environ[\"ARTIFACT_FILES_PATH\"] + \"/btcforest.pkl\")\n",
    "        print(\"Initialization Complete\")\n",
    "\n",
    "    def predict(self, inputs):\n",
    "        \"\"\" Serves a prediction request usign a trained model\"\"\"\n",
    "        return self.model.predict(np.array(inputs).reshape(1, -1)).tolist()"
   ]
  },
  {
   "cell_type": "code",
   "execution_count": 23,
   "id": "a3ee8af3",
   "metadata": {},
   "outputs": [
    {
     "data": {
      "application/vnd.jupyter.widget-view+json": {
       "model_id": "0ac5deae7056456483d905451d257298",
       "version_major": 2,
       "version_minor": 0
      },
      "text/plain": [
       "Uploading: 0.000%|          | 0/514 elapsed<00:00 remaining<?"
      ]
     },
     "metadata": {},
     "output_type": "display_data"
    }
   ],
   "source": [
    "import os\n",
    "dataset_api = project.get_dataset_api()\n",
    "\n",
    "uploaded_file_path = dataset_api.upload(\"predict_example.py\", \"Models\", overwrite=True)\n",
    "predictor_script_path = os.path.join(\"/Projects\", project.name, uploaded_file_path)"
   ]
  },
  {
   "cell_type": "code",
   "execution_count": 24,
   "id": "c6a075f9",
   "metadata": {},
   "outputs": [
    {
     "name": "stdout",
     "output_type": "stream",
     "text": [
      "Deployment created, explore it at https://c.app.hopsworks.ai:443/p/167/deployments/165\n",
      "Before making predictions, start the deployment by using `.start()`\n"
     ]
    }
   ],
   "source": [
    "# Use the model name from the previous notebook.\n",
    "model = mr.get_model(\"btcforest\", version = 1)\n",
    "\n",
    "# Give it any name you want\n",
    "deployment = model.deploy(\n",
    "    name=\"btcforest\", \n",
    "    model_server=\"PYTHON\",\n",
    "    script_file=predictor_script_path\n",
    ")"
   ]
  },
  {
   "cell_type": "code",
   "execution_count": 25,
   "id": "f78e3c5b",
   "metadata": {},
   "outputs": [
    {
     "name": "stdout",
     "output_type": "stream",
     "text": [
      "Connected. Call `.close()` to terminate connection gracefully.\n"
     ]
    }
   ],
   "source": [
    "# get Hopsworks Model Serving\n",
    "ms = project.get_model_serving()\n",
    "\n",
    "# get deployment object\n",
    "deployment = ms.get_deployment(\"btcforest\")"
   ]
  },
  {
   "cell_type": "code",
   "execution_count": 26,
   "id": "f637c033",
   "metadata": {},
   "outputs": [
    {
     "data": {
      "application/vnd.jupyter.widget-view+json": {
       "model_id": "cff7c708917e4d1bbba717fba464913a",
       "version_major": 2,
       "version_minor": 0
      },
      "text/plain": [
       "  0%|          | 0/1 [00:00<?, ?it/s]"
      ]
     },
     "metadata": {},
     "output_type": "display_data"
    },
    {
     "name": "stdout",
     "output_type": "stream",
     "text": [
      "Start making predictions by using `.predict()`\n"
     ]
    }
   ],
   "source": [
    "deployment.start()"
   ]
  },
  {
   "cell_type": "code",
   "execution_count": 27,
   "id": "34c5b90b",
   "metadata": {},
   "outputs": [
    {
     "name": "stdout",
     "output_type": "stream",
     "text": [
      "Explore all the logs and filters in the Kibana logs at https://c.app.hopsworks.ai:443/p/167/deployments/165\n",
      "\n",
      "Instance name: btcforest-predictor-default-00001-deployment-66fd5d499b-68rgm\n",
      "[I 220719 11:53:16 kserve-component-server:95] Initializing predictor for deployment: btcforest\n",
      "[I 220719 11:53:16 kfserver:150] Registering model: btcforest\n",
      "[I 220719 11:53:16 kfserver:120] Setting asyncio max_workers as 5\n",
      "[I 220719 11:53:16 kfserver:127] Listening on port 8080\n",
      "[I 220719 11:53:16 kfserver:129] Will fork 1 workers\n",
      "\n",
      "\n"
     ]
    }
   ],
   "source": [
    "deployment.get_logs()"
   ]
  },
  {
   "cell_type": "markdown",
   "id": "409f6bbb",
   "metadata": {},
   "source": [
    "---\n",
    "## <span style='color:#ff5f27'>🔮 Predicting</span>"
   ]
  },
  {
   "cell_type": "code",
   "execution_count": 28,
   "id": "745bda49",
   "metadata": {},
   "outputs": [
    {
     "data": {
      "text/plain": [
       "[361.0,\n",
       " 38466.9,\n",
       " 39265.2,\n",
       " 38000.0,\n",
       " 34574.44663,\n",
       " 1334266166.7099988,\n",
       " 917617.0,\n",
       " 17730.99304,\n",
       " 684446571.1793659,\n",
       " 38548.85937003968,\n",
       " 38544.869486607146,\n",
       " 38527.74459201389,\n",
       " 0.5694444444444444,\n",
       " 68.01540673768636,\n",
       " 38548.96366042243,\n",
       " 87.13496342623749,\n",
       " 8.611145833333316,\n",
       " 0.0200939003617234,\n",
       " 51.87780480074642,\n",
       " 96.69793538644036,\n",
       " 38545.46025321049,\n",
       " 117.77057826750992,\n",
       " 14.474479166666647,\n",
       " 0.0379625667253219,\n",
       " 51.313976232482965,\n",
       " 162.0385436482857,\n",
       " 38524.60561742916,\n",
       " 175.77815587191262,\n",
       " 38.281666666666624,\n",
       " 0.1032289944975049,\n",
       " 51.569746473541095,\n",
       " 0.0,\n",
       " 0.0,\n",
       " 0.0,\n",
       " 38694.59]"
      ]
     },
     "execution_count": 28,
     "metadata": {},
     "output_type": "execute_result"
    }
   ],
   "source": [
    "model.input_example"
   ]
  },
  {
   "cell_type": "code",
   "execution_count": 29,
   "id": "69b35728",
   "metadata": {},
   "outputs": [
    {
     "data": {
      "text/plain": [
       "{'predictions': [37780.38989999998]}"
      ]
     },
     "execution_count": 29,
     "metadata": {},
     "output_type": "execute_result"
    }
   ],
   "source": [
    "data = {\n",
    "    \"inputs\": model.input_example\n",
    "}\n",
    "\n",
    "deployment.predict(data)"
   ]
  },
  {
   "cell_type": "code",
   "execution_count": 30,
   "id": "361551cf",
   "metadata": {},
   "outputs": [
    {
     "name": "stdout",
     "output_type": "stream",
     "text": [
      "Explore all the logs and filters in the Kibana logs at https://c.app.hopsworks.ai:443/p/167/deployments/165\n",
      "\n",
      "Instance name: btcforest-predictor-default-00001-deployment-66fd5d499b-68rgm\n",
      "[I 220719 11:53:16 kserve-component-server:95] Initializing predictor for deployment: btcforest\n",
      "[I 220719 11:53:16 kfserver:150] Registering model: btcforest\n",
      "[I 220719 11:53:16 kfserver:120] Setting asyncio max_workers as 5\n",
      "[I 220719 11:53:16 kfserver:127] Listening on port 8080\n",
      "[I 220719 11:53:16 kfserver:129] Will fork 1 workers\n",
      "UserWarning: X does not have valid feature names, but RandomForestRegressor was fitted with feature names\n",
      "[I 220719 11:53:20 web:2246] 200 POST /v1/models/btcforest:predict (127.0.0.1) 7.61ms\n",
      "\n",
      "\n"
     ]
    }
   ],
   "source": [
    "deployment.get_logs()"
   ]
  },
  {
   "cell_type": "markdown",
   "id": "1e909046",
   "metadata": {},
   "source": [
    "---"
   ]
  }
 ],
 "metadata": {
  "kernelspec": {
   "display_name": "Python 3 (ipykernel)",
   "language": "python",
   "name": "python3"
  },
  "language_info": {
   "codemirror_mode": {
    "name": "ipython",
    "version": 3
   },
   "file_extension": ".py",
   "mimetype": "text/x-python",
   "name": "python",
   "nbconvert_exporter": "python",
   "pygments_lexer": "ipython3",
   "version": "3.9.12"
  }
 },
 "nbformat": 4,
 "nbformat_minor": 5
}
