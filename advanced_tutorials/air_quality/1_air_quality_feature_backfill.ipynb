{
 "cells": [
  {
   "cell_type": "markdown",
   "id": "73ee3ec9",
   "metadata": {},
   "source": [
    "# <span style=\"font-width:bold; font-size: 3rem; color:#1EB182;\"><img src=\"../../images/icon102.png\" width=\"38px\"></img> **Hopsworks Feature Store** </span>\n",
    "\n",
    "<span style=\"font-width:bold; font-size: 3rem; color:#333;\">- Part 01: Feature Backfill</span>\n",
    "\n",
    "**Note**: This tutorial does not support Google Colab.\n",
    "\n",
    "## 🗒️ This notebook is divided into the following sections:\n",
    "1. Fetch historical data\n",
    "2. Connect to the Hopsworks feature store\n",
    "3. Create feature groups and insert them to the feature store\n",
    "\n",
    "![tutorial-flow](../../images/01_featuregroups.png)"
   ]
  },
  {
   "cell_type": "markdown",
   "id": "f04d5c5e",
   "metadata": {},
   "source": [
    "### <span style='color:#ff5f27'> 📝 Imports"
   ]
  },
  {
   "cell_type": "code",
   "execution_count": null,
   "id": "cd165941",
   "metadata": {},
   "outputs": [],
   "source": [
    "import datetime\n",
    "import time\n",
    "import requests\n",
    "import json\n",
    "\n",
    "import pandas as pd\n",
    "import folium\n",
    "\n",
    "from features import air_quality\n",
    "from functions import *\n",
    "\n",
    "import warnings\n",
    "warnings.filterwarnings(\"ignore\")"
   ]
  },
  {
   "cell_type": "markdown",
   "id": "ba9903fc",
   "metadata": {},
   "source": [
    "---"
   ]
  },
  {
   "cell_type": "markdown",
   "id": "b7a1965a-0da7-4263-a68a-8b2e8cb753f1",
   "metadata": {},
   "source": [
    "## <span style='color:#ff5f27'> 🌍 Representing the Target cities </span>"
   ]
  },
  {
   "cell_type": "code",
   "execution_count": null,
   "id": "bd578db1-69e7-4230-b3f2-807b8056283a",
   "metadata": {
    "tags": []
   },
   "outputs": [],
   "source": [
    "# Open the 'target_cities.json' file in read mode\n",
    "with open('target_cities.json') as json_file:\n",
    "    # Load the JSON data from the file into a Python dictionary\n",
    "    target_cities = json.load(json_file)\n",
    "\n",
    "# Now, 'target_cities' contains the data from the JSON file"
   ]
  },
  {
   "cell_type": "code",
   "execution_count": null,
   "id": "ea972c52-bfad-465d-b1e1-50eeff99b482",
   "metadata": {},
   "outputs": [],
   "source": [
    "# Create a folium map centered on the first location in the list\n",
    "my_map = folium.Map(location=[42.57, -44.092], zoom_start=3)\n",
    "\n",
    "for continent in target_cities:\n",
    "        for city_name, coords in target_cities[continent].items():\n",
    "            folium.CircleMarker(\n",
    "                location=coords,\n",
    "                popup=city_name,\n",
    "            ).add_to(my_map)\n",
    "my_map"
   ]
  },
  {
   "cell_type": "code",
   "execution_count": null,
   "id": "fb5ecf81-647b-490a-92b1-f7e963413710",
   "metadata": {},
   "outputs": [],
   "source": [
    "# # Save the map to an HTML file\n",
    "# my_map.save(\"map_all_target_cities.html\")"
   ]
  },
  {
   "cell_type": "markdown",
   "id": "2246ca9d",
   "metadata": {},
   "source": [
    "## <span style='color:#ff5f27'> 🌫 Processing Air Quality data</span>"
   ]
  },
  {
   "cell_type": "markdown",
   "id": "b4a1c5d1",
   "metadata": {},
   "source": [
    "### [🇪🇺 EEA](https://discomap.eea.europa.eu/map/fme/AirQualityExport.htm)\n",
    "#### EEA means European Environmental Agency"
   ]
  },
  {
   "cell_type": "code",
   "execution_count": null,
   "id": "96b8be01-6286-4886-8043-56e0e49b314e",
   "metadata": {
    "tags": []
   },
   "outputs": [],
   "source": [
    "# EU Cities \n",
    "target_cities[\"EU\"]"
   ]
  },
  {
   "cell_type": "code",
   "execution_count": null,
   "id": "5bb2a868-5f3a-4065-b651-318c24826b97",
   "metadata": {},
   "outputs": [],
   "source": [
    "# Read the CSV file from the specified URL into a pandas DataFrame\n",
    "df_eu = pd.read_csv(\"https://repo.hops.works/dev/davit/air_quality/backfill_pm2_5_eu.csv\")"
   ]
  },
  {
   "cell_type": "code",
   "execution_count": null,
   "id": "5620df22-f744-4550-a81a-7e5d71aae542",
   "metadata": {
    "tags": []
   },
   "outputs": [],
   "source": [
    "# Check for missing values in the 'df_eu' DataFrame\n",
    "df_eu.isna().sum().sum()"
   ]
  },
  {
   "cell_type": "code",
   "execution_count": null,
   "id": "b0e23728-a01d-45bc-bf25-4a9c77f21d66",
   "metadata": {
    "tags": []
   },
   "outputs": [],
   "source": [
    "# Print the size of the 'df_eu' DataFrame (number of rows and columns)\n",
    "print(\"⛳️ Size of this dataframe:\", df_eu.shape)\n",
    "\n",
    "# Display a random sample of three rows from the 'df_eu' DataFrame\n",
    "df_eu.sample(3)"
   ]
  },
  {
   "cell_type": "markdown",
   "id": "c2e45567-dd6b-4e5e-a153-82a2f4f32fbc",
   "metadata": {},
   "source": [
    "### [🇺🇸 USEPA](https://aqs.epa.gov/aqsweb/documents/data_api.html#daily)\n",
    "#### USEPA means United States Environmental Protection Agency\n",
    "[Manual downloading](https://www.epa.gov/outdoor-air-quality-data/download-daily-data)\n",
    "\n"
   ]
  },
  {
   "cell_type": "code",
   "execution_count": null,
   "id": "c4952759-0fb9-4229-8b78-2e37cffb144d",
   "metadata": {
    "tags": []
   },
   "outputs": [],
   "source": [
    "# US Cities \n",
    "target_cities[\"US\"]"
   ]
  },
  {
   "cell_type": "code",
   "execution_count": null,
   "id": "c6aceaee-9431-48fd-818a-41fbdd07575c",
   "metadata": {
    "tags": []
   },
   "outputs": [],
   "source": [
    "# Read the CSV file from the specified URL into a pandas DataFrame\n",
    "df_us = pd.read_csv(\"https://repo.hops.works/dev/davit/air_quality/backfill_pm2_5_us.csv\")"
   ]
  },
  {
   "cell_type": "code",
   "execution_count": null,
   "id": "4e7ff20e-8a1a-4fa3-b801-71beead7b5f2",
   "metadata": {
    "tags": []
   },
   "outputs": [],
   "source": [
    "# Check for missing values in the 'df_us' DataFrame\n",
    "df_us.isna().sum().sum()"
   ]
  },
  {
   "cell_type": "code",
   "execution_count": null,
   "id": "3818e3e1-8674-4634-9023-92be8410fba5",
   "metadata": {
    "tags": []
   },
   "outputs": [],
   "source": [
    "# Print the size of the 'df_us' DataFrame (number of rows and columns)\n",
    "print(\"⛳️ Size of this dataframe:\", df_us.shape)\n",
    "\n",
    "# Display a random sample of three rows from the 'df_us' DataFrame\n",
    "df_us.sample(3)"
   ]
  },
  {
   "cell_type": "markdown",
   "id": "25557752-31c8-4da9-a52c-4415c4d20ae3",
   "metadata": {},
   "source": [
    "### <span style=\"color:#ff5f27;\">🏢 Processing special city - `Seattle`</span>\n",
    "#### We need different stations across the Seattle. \n",
    "I downloaded daily `PM2.5` data manually [here](https://www.epa.gov/outdoor-air-quality-data/download-daily-data)"
   ]
  },
  {
   "cell_type": "code",
   "execution_count": null,
   "id": "2f54d2cb-991c-47cb-a686-76c9f7a87170",
   "metadata": {
    "tags": []
   },
   "outputs": [],
   "source": [
    "target_cities[\"Seattle\"]"
   ]
  },
  {
   "cell_type": "code",
   "execution_count": null,
   "id": "31c8505d-68bc-40b6-be0f-42d8532dbd48",
   "metadata": {
    "tags": []
   },
   "outputs": [],
   "source": [
    "# Read the CSV file from the specified URL into a pandas DataFrame\n",
    "df_seattle = pd.read_csv(\"https://repo.hops.works/dev/davit/air_quality/backfill_pm2_5_seattle.csv\")"
   ]
  },
  {
   "cell_type": "code",
   "execution_count": null,
   "id": "2f6583c9-3b2a-41c6-a020-aeede88c4867",
   "metadata": {
    "tags": []
   },
   "outputs": [],
   "source": [
    "# Check for missing values in the 'df_seattle' DataFrame\n",
    "df_seattle.isna().sum().sum()"
   ]
  },
  {
   "cell_type": "code",
   "execution_count": null,
   "id": "065a5b03-28f7-475c-9c6a-4340388157d8",
   "metadata": {
    "tags": []
   },
   "outputs": [],
   "source": [
    "# Print the size of the 'df_seattle' DataFrame (number of rows and columns)\n",
    "print(\"⛳️ Size of this dataframe:\", df_seattle.shape)\n",
    "df_seattle.sample(3)"
   ]
  },
  {
   "cell_type": "code",
   "execution_count": null,
   "id": "e3b17ca4-0e9d-4207-ad62-90ea9c157def",
   "metadata": {
    "tags": []
   },
   "outputs": [],
   "source": [
    "# Value Counts\n",
    "df_seattle['city_name'].value_counts()"
   ]
  },
  {
   "cell_type": "markdown",
   "id": "c278a55d-f083-4f95-b292-92e545b9c408",
   "metadata": {},
   "source": [
    "### <span style=\"color:#ff5f27;\">🌟 All together</span>"
   ]
  },
  {
   "cell_type": "code",
   "execution_count": null,
   "id": "0d55ae92-4bf9-43ae-8841-6767f5f68bec",
   "metadata": {
    "tags": []
   },
   "outputs": [],
   "source": [
    "# Concatenate the DataFrames df_eu, df_us, and df_seattle along the rows and reset the index\n",
    "df_air_quality = pd.concat(\n",
    "    [df_eu, df_us, df_seattle],\n",
    ").reset_index(drop=True)\n",
    "\n",
    "# Print the shape of the df_air_quality DataFrame\n",
    "print(f'⛳️ DF shape: {df_air_quality.shape}')\n",
    "\n",
    "# Display a random sample of five rows from the df_air_quality DataFrame\n",
    "df_air_quality.sample(5)"
   ]
  },
  {
   "cell_type": "markdown",
   "id": "22896049-441d-4baf-b717-415123cb39d7",
   "metadata": {
    "tags": []
   },
   "source": [
    "### <span style=\"color:#ff5f27;\">🛠 Feature Engineering</span>"
   ]
  },
  {
   "cell_type": "code",
   "execution_count": null,
   "id": "140b468a-e0c2-44a1-8e44-4cf393407eca",
   "metadata": {
    "tags": []
   },
   "outputs": [],
   "source": [
    "# Convert the 'date' column in the df_air_quality DataFrame to datetime format\n",
    "df_air_quality['date'] = pd.to_datetime(df_air_quality['date'])"
   ]
  },
  {
   "cell_type": "code",
   "execution_count": null,
   "id": "87dc89c0-72a7-4be6-b4e4-03d5d32be546",
   "metadata": {
    "tags": []
   },
   "outputs": [],
   "source": [
    "# Apply feature engineering to the df_air_quality DataFrame using the air_quality.feature_engineer_aq() function\n",
    "df_air_quality = air_quality.feature_engineer_aq(df_air_quality)\n",
    "\n",
    "# Drop rows with missing values in the df_air_quality DataFrame\n",
    "df_air_quality = df_air_quality.dropna()\n",
    "\n",
    "# Check and print the total number of missing values in the df_air_quality DataFrame\n",
    "df_air_quality.isna().sum().sum()"
   ]
  },
  {
   "cell_type": "code",
   "execution_count": null,
   "id": "94f67c89-6b39-4748-b4be-6ed3c9d57f96",
   "metadata": {
    "tags": []
   },
   "outputs": [],
   "source": [
    "# Print the shape (number of rows and columns) of the df_air_quality DataFrame\n",
    "df_air_quality.shape"
   ]
  },
  {
   "cell_type": "code",
   "execution_count": null,
   "id": "ed9bc7f1-d62e-4b1f-97af-6ecd30fe4b67",
   "metadata": {
    "tags": []
   },
   "outputs": [],
   "source": [
    "# Retrieve and display the column names of the df_air_quality DataFrame\n",
    "df_air_quality.columns"
   ]
  },
  {
   "cell_type": "markdown",
   "id": "88a9e0ef-e9d2-4e3c-91af-c4e619b8c906",
   "metadata": {},
   "source": [
    "---"
   ]
  },
  {
   "cell_type": "markdown",
   "id": "4687e802",
   "metadata": {
    "tags": []
   },
   "source": [
    "## <span style='color:#ff5f27'> 🌦 Loading Weather Data from [Open Meteo](https://open-meteo.com/en/docs)"
   ]
  },
  {
   "cell_type": "code",
   "execution_count": null,
   "id": "c46283b4",
   "metadata": {},
   "outputs": [],
   "source": [
    "# Read the CSV file from the specified URL into a pandas DataFrame for weather data\n",
    "df_weather = pd.read_csv(\"https://repo.hops.works/dev/davit/air_quality/backfill_weather.csv\")"
   ]
  },
  {
   "cell_type": "code",
   "execution_count": null,
   "id": "1921b61c-d002-417e-88a6-9fe1cad0a7d4",
   "metadata": {
    "tags": []
   },
   "outputs": [],
   "source": [
    "# Count the occurrences of each unique value in the 'city_name' column of the df_weather DataFrame\n",
    "df_weather.city_name.value_counts()"
   ]
  },
  {
   "cell_type": "code",
   "execution_count": null,
   "id": "8d5dcd0a",
   "metadata": {},
   "outputs": [],
   "source": [
    "# Display the first three rows of the df_weather DataFrame\n",
    "df_weather.head(3)"
   ]
  },
  {
   "cell_type": "markdown",
   "id": "cc9b7ad6",
   "metadata": {},
   "source": [
    "---"
   ]
  },
  {
   "cell_type": "code",
   "execution_count": null,
   "id": "a8f886c3-a5ac-4370-a6a2-22838ab7409e",
   "metadata": {
    "tags": []
   },
   "outputs": [],
   "source": [
    "# Apply the 'convert_date_to_unix' function to create a new 'unix_time' column in df_air_quality\n",
    "df_air_quality[\"unix_time\"] = pd.to_datetime(df_air_quality.date).apply(convert_date_to_unix)\n",
    "\n",
    "# Apply the 'convert_date_to_unix' function to create a new 'unix_time' column in df_weather\n",
    "df_weather[\"unix_time\"] = pd.to_datetime(df_weather.date).apply(convert_date_to_unix)\n",
    "\n",
    "# Convert the 'date' column in the df_air_quality DataFrame back to string format\n",
    "df_air_quality.date = df_air_quality.date.astype(str)\n",
    "\n",
    "# Convert the 'date' column in the df_weather DataFrame back to string format\n",
    "df_weather.date = df_weather.date.astype(str)"
   ]
  },
  {
   "cell_type": "markdown",
   "id": "f2ebd846-0420-4e4c-8a5b-0827fa91c693",
   "metadata": {},
   "source": [
    "---"
   ]
  },
  {
   "cell_type": "markdown",
   "id": "cb6f83ba",
   "metadata": {},
   "source": [
    "### <span style=\"color:#ff5f27;\"> 🔮 Connecting to Hopsworks Feature Store </span>"
   ]
  },
  {
   "cell_type": "code",
   "execution_count": null,
   "id": "dd068240",
   "metadata": {},
   "outputs": [],
   "source": [
    "import hopsworks\n",
    "\n",
    "project = hopsworks.login()\n",
    "\n",
    "fs = project.get_feature_store() "
   ]
  },
  {
   "cell_type": "markdown",
   "id": "63d8c3b9",
   "metadata": {},
   "source": [
    "## <span style=\"color:#ff5f27;\">🪄 Creating Feature Groups</span>"
   ]
  },
  {
   "cell_type": "markdown",
   "id": "4a2515c4",
   "metadata": {},
   "source": [
    "### <span style='color:#ff5f27'> 🌫 Air Quality Data"
   ]
  },
  {
   "cell_type": "code",
   "execution_count": null,
   "id": "9d7088a8",
   "metadata": {
    "scrolled": true,
    "tags": []
   },
   "outputs": [],
   "source": [
    "# Get or create feature group\n",
    "air_quality_fg = fs.get_or_create_feature_group(\n",
    "    name='air_quality',\n",
    "    description='Air Quality characteristics of each day',\n",
    "    version=1,\n",
    "    primary_key=['unix_time','city_name'],\n",
    "    online_enabled=False,\n",
    "    event_time=[\"unix_time\"],\n",
    ")    "
   ]
  },
  {
   "cell_type": "code",
   "execution_count": null,
   "id": "7e04a975-bb58-42e2-9abd-90e68ae37864",
   "metadata": {},
   "outputs": [],
   "source": [
    "# Insert data\n",
    "air_quality_fg.insert(df_air_quality)"
   ]
  },
  {
   "cell_type": "markdown",
   "id": "a73a9029",
   "metadata": {},
   "source": [
    "### <span style='color:#ff5f27'> 🌦 Weather Data"
   ]
  },
  {
   "cell_type": "code",
   "execution_count": null,
   "id": "acc2b799",
   "metadata": {},
   "outputs": [],
   "source": [
    "# Get or create feature group\n",
    "weather_fg = fs.get_or_create_feature_group(\n",
    "    name='weather',\n",
    "    description='Weather characteristics of each day',\n",
    "    version=1,\n",
    "    primary_key=['unix_time','city_name'],\n",
    "    online_enabled=False,\n",
    "    event_time=[\"unix_time\"],\n",
    ") "
   ]
  },
  {
   "cell_type": "code",
   "execution_count": null,
   "id": "9583b4d1-e2e3-4f56-9e5d-23caa0c49457",
   "metadata": {
    "tags": []
   },
   "outputs": [],
   "source": [
    "# Insert data\n",
    "weather_fg.insert(\n",
    "    df_weather, \n",
    "    write_options={\"wait_for_job\": True},\n",
    ")"
   ]
  },
  {
   "cell_type": "markdown",
   "id": "87c668dd",
   "metadata": {},
   "source": [
    "## <span style=\"color:#ff5f27;\">⏭️ **Next:** Part 02: Feature Pipeline \n",
    " </span> \n",
    "\n",
    "In the following notebook you will parse data and insert it into Feature Groups."
   ]
  }
 ],
 "metadata": {
  "kernelspec": {
   "display_name": "Python 3 (ipykernel)",
   "language": "python",
   "name": "python3"
  },
  "language_info": {
   "codemirror_mode": {
    "name": "ipython",
    "version": 3
   },
   "file_extension": ".py",
   "mimetype": "text/x-python",
   "name": "python",
   "nbconvert_exporter": "python",
   "pygments_lexer": "ipython3",
   "version": "3.10.13"
  }
 },
 "nbformat": 4,
 "nbformat_minor": 5
}
