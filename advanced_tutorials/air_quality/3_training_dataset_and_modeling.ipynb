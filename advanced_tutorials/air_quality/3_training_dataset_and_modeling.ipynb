{
 "cells": [
  {
   "cell_type": "markdown",
   "id": "7eb83ff8",
   "metadata": {
    "tags": []
   },
   "source": [
    "# <span style=\"font-width:bold; font-size: 3rem; color:#1EB182;\"><img src=\"../../images/icon102.png\" width=\"38px\"></img> **Hopsworks Feature Store** </span><span style=\"font-width:bold; font-size: 3rem; color:#333;\">- Part 03: Training Dataset & Modeling</span>\n",
    "\n",
    "[![Open In Colab](https://colab.research.google.com/assets/colab-badge.svg)](https://colab.research.google.com/github/logicalclocks/hopsworks-tutorials/blob/master/advanced_tutorials/air_quality/3_training_dataset_and_modeling.ipynb)\n",
    "\n",
    "<span style=\"font-width:bold; font-size: 1.4rem;\">This notebook explains how to read from a feature group and create training dataset within the feature store</span>\n",
    "\n",
    "## 🗒️ This notebook is divided into the following sections:\n",
    "\n",
    "1. Fetch Feature Groups\n",
    "2. Define Transformation functions\n",
    "4. Create Feature Views\n",
    "5. Create Training Dataset with training, validation and test splits\n",
    "\n",
    "![part2](../../images/02_training-dataset.png) "
   ]
  },
  {
   "cell_type": "markdown",
   "id": "f3b5f602-a575-49a8-bce9-a997cca936e0",
   "metadata": {},
   "source": [
    "### <span style='color:#ff5f27'> 📝 Imports"
   ]
  },
  {
   "cell_type": "code",
   "execution_count": null,
   "id": "ad609eec-0b46-445f-a0f5-5657e5f69866",
   "metadata": {},
   "outputs": [],
   "source": [
    "!pip install xgboost --q"
   ]
  },
  {
   "cell_type": "code",
   "execution_count": 2,
   "id": "b3f2ac81-423a-4380-8fd6-b70aa55eb864",
   "metadata": {
    "tags": []
   },
   "outputs": [],
   "source": [
    "import os\n",
    "import datetime\n",
    "import time\n",
    "import json\n",
    "import pickle\n",
    "import joblib\n",
    "\n",
    "import pandas as pd\n",
    "import numpy as np\n",
    "\n",
    "import matplotlib.pyplot as plt\n",
    "import seaborn as sns\n",
    "\n",
    "from xgboost import XGBRegressor\n",
    "from sklearn.metrics import mean_squared_error, r2_score\n",
    "from sklearn.model_selection import train_test_split\n",
    "from sklearn.preprocessing import LabelEncoder\n",
    "\n",
    "import warnings\n",
    "warnings.filterwarnings(\"ignore\")"
   ]
  },
  {
   "cell_type": "markdown",
   "id": "a0b3bcd1",
   "metadata": {},
   "source": [
    "## <span style=\"color:#ff5f27;\"> 📡 Connecting to Hopsworks Feature Store </span>"
   ]
  },
  {
   "cell_type": "code",
   "execution_count": 5,
   "id": "89ad779f",
   "metadata": {},
   "outputs": [
    {
     "name": "stdout",
     "output_type": "stream",
     "text": [
      "Connected. Call `.close()` to terminate connection gracefully.\n",
      "\n",
      "Logged in to project, explore it here https://c.app.hopsworks.ai:443/p/14502\n",
      "Connected. Call `.close()` to terminate connection gracefully.\n"
     ]
    }
   ],
   "source": [
    "import hopsworks\n",
    "\n",
    "project = hopsworks.login()\n",
    "\n",
    "fs = project.get_feature_store() "
   ]
  },
  {
   "cell_type": "code",
   "execution_count": 2,
   "id": "735a083e",
   "metadata": {},
   "outputs": [],
   "source": [
    "air_quality_fg = fs.get_or_create_feature_group(\n",
    "    name = 'air_quality',\n",
    "    version = 1\n",
    ")\n",
    "weather_fg = fs.get_or_create_feature_group(\n",
    "    name = 'weather',\n",
    "    version = 1\n",
    ")"
   ]
  },
  {
   "cell_type": "markdown",
   "id": "be427dca",
   "metadata": {},
   "source": [
    "--- \n",
    "\n",
    "## <span style=\"color:#ff5f27;\"> 🖍 Feature View Creation and Retrieving </span>"
   ]
  },
  {
   "cell_type": "code",
   "execution_count": 24,
   "id": "cc3192d3",
   "metadata": {},
   "outputs": [],
   "source": [
    "query = air_quality_fg.select_all().join(weather_fg.select_all(), on=['city_name', 'date'])"
   ]
  },
  {
   "cell_type": "code",
   "execution_count": null,
   "id": "ec4c4d83-fce7-45bd-a156-a9cb783d0fd9",
   "metadata": {},
   "outputs": [],
   "source": [
    "# here you can check out the merged dataframe\n",
    "# query_df = query.read()"
   ]
  },
  {
   "cell_type": "markdown",
   "id": "d83a1681",
   "metadata": {},
   "source": [
    "`Feature Views` stands between **Feature Groups** and **Training Dataset**. Сombining **Feature Groups** we can create **Feature Views** which store a metadata of our data. Having **Feature Views** we can create **Training Dataset**.\n",
    "\n",
    "The Feature Views allows schema in form of a query with filters, define a model target feature/label and additional transformation functions.\n",
    "\n",
    "In order to create Feature View we can use `FeatureStore.create_feature_view()` method.\n",
    "\n",
    "You can specify next parameters:\n",
    "\n",
    "- `name` - name of a feature group.\n",
    "\n",
    "- `version` - version of a feature group.\n",
    "\n",
    "- `labels`- our target variable.\n",
    "\n",
    "- `transformation_functions` - functions to transform our features.\n",
    "\n",
    "- `query` - query object with data."
   ]
  },
  {
   "cell_type": "code",
   "execution_count": 7,
   "id": "403df0b4",
   "metadata": {},
   "outputs": [],
   "source": [
    "feature_view = fs.get_or_create_feature_view(\n",
    "    name='air_quality_fv',\n",
    "    version=1,\n",
    "    query=query\n",
    ")"
   ]
  },
  {
   "cell_type": "markdown",
   "id": "0c723c54",
   "metadata": {},
   "source": [
    "For now `Feature View` is saved in Hopsworks and you can retrieve it using `FeatureStore.get_feature_view()`."
   ]
  },
  {
   "cell_type": "markdown",
   "id": "6e1187a2",
   "metadata": {},
   "source": [
    "---\n",
    "\n",
    "## <span style=\"color:#ff5f27;\"> 🏋️ Training Dataset Creation</span>\n",
    "\n",
    "In Hopsworks training data is a query where the projection (set of features) is determined by the parent FeatureView with an optional snapshot on disk of the data returned by the query.\n",
    "\n",
    "**Training Dataset  may contain splits such as:** \n",
    "* Training set - the subset of training data used to train a model.\n",
    "* Validation set - the subset of training data used to evaluate hparams when training a model\n",
    "* Test set - the holdout subset of training data used to evaluate a mode\n",
    "\n",
    "To create training dataset you use `FeatureView.create_training_data()` method.\n",
    "\n",
    "Here are some importand things:\n",
    "\n",
    "- It will inherit the name of FeatureView.\n",
    "\n",
    "- The feature store currently supports the following data formats for\n",
    "training datasets: **tfrecord, csv, tsv, parquet, avro, orc**.\n",
    "\n",
    "- You can choose necessary format using **data_format** parameter.\n",
    "\n",
    "- **start_time** and **end_time** in order to filter dataset in specific time range."
   ]
  },
  {
   "cell_type": "code",
   "execution_count": null,
   "id": "2f5bcf22-6ff1-4995-a8c3-11a1dab396a7",
   "metadata": {},
   "outputs": [],
   "source": [
    "td_version, td_job = feature_view.create_training_data(\n",
    "    description = 'Air Quality dataset',\n",
    "    data_format = 'csv',\n",
    "    write_options = {'wait_for_job': True}\n",
    ")"
   ]
  },
  {
   "cell_type": "markdown",
   "id": "160a7872-278a-4bc9-a093-ecad7913241f",
   "metadata": {},
   "source": [
    "---"
   ]
  },
  {
   "cell_type": "markdown",
   "id": "b4310a35-191e-44cc-b35c-7ce20c9695dd",
   "metadata": {},
   "source": [
    "## <span style=\"color:#ff5f27;\">🪝 Training Dataset Retrieval</span>"
   ]
  },
  {
   "cell_type": "code",
   "execution_count": 5,
   "id": "b04e30a7",
   "metadata": {},
   "outputs": [],
   "source": [
    "X, _ = feature_view.get_training_data(\n",
    "    training_dataset_version=td_version\n",
    ")"
   ]
  },
  {
   "cell_type": "markdown",
   "id": "c995b340-5ba6-4116-b8b6-86ca34f0a0ab",
   "metadata": {},
   "source": [
    "---"
   ]
  },
  {
   "cell_type": "markdown",
   "id": "95783124-8303-47c5-bd15-2804efa15611",
   "metadata": {},
   "source": [
    "## <span style=\"color:#ff5f27;\">🧬 Modeling</span>"
   ]
  },
  {
   "cell_type": "code",
   "execution_count": 8,
   "id": "5b937dec",
   "metadata": {},
   "outputs": [],
   "source": [
    "label_encoder = LabelEncoder()\n",
    "\n",
    "# Fit the encoder to the data\n",
    "label_encoder.fit(X[['city_name']])\n",
    "\n",
    "# Transform the data\n",
    "encoded = label_encoder.transform(X[['city_name']])"
   ]
  },
  {
   "cell_type": "code",
   "execution_count": 9,
   "id": "97cdb6bb-6c9c-44b7-9171-1b420bae9181",
   "metadata": {
    "tags": []
   },
   "outputs": [],
   "source": [
    "# Convert the output to a dense array and concatenate with the original data\n",
    "X = pd.concat([X, pd.DataFrame(encoded)], axis=1)\n",
    "\n",
    "X = X.drop(columns=['date', 'city_name', 'unix_time'])\n",
    "X = X.rename(columns={0: \"city_name_encoded\"})"
   ]
  },
  {
   "cell_type": "code",
   "execution_count": 13,
   "id": "4df41c7d-00bd-4203-90a1-8cc298508d68",
   "metadata": {
    "tags": []
   },
   "outputs": [],
   "source": [
    "y = X.pop('pm2_5')"
   ]
  },
  {
   "cell_type": "code",
   "execution_count": 17,
   "id": "d0299506-195f-4ebc-b43e-347fe59db31c",
   "metadata": {
    "tags": []
   },
   "outputs": [],
   "source": [
    "X_train, X_test, y_train, y_test = train_test_split(\n",
    "    X, y, test_size=0.2, random_state=42)"
   ]
  },
  {
   "cell_type": "markdown",
   "id": "8fd4e24e-7f02-4944-a309-6475b65e7846",
   "metadata": {},
   "source": [
    "### <span style='color:#ff5f27'> ⚖️ Model Validation"
   ]
  },
  {
   "cell_type": "code",
   "execution_count": 34,
   "id": "4e5be9f8-0f88-4a7e-8fc1-65ec8b02920d",
   "metadata": {
    "tags": []
   },
   "outputs": [
    {
     "name": "stdout",
     "output_type": "stream",
     "text": [
      "MSE: 29.182665583297467\n",
      "RMSE: 5.402098257464174\n",
      "R squared: 0.7363832908625316\n",
      "Took 10.65 sec.\n",
      "\n"
     ]
    }
   ],
   "source": [
    "start_of_cell = time.time()\n",
    "\n",
    "xgb_regressor = XGBRegressor()\n",
    "xgb_regressor.fit(X_train, y_train)\n",
    "\n",
    "y_pred = xgb_regressor.predict(X_test)\n",
    "\n",
    "# calculate MSE using sklearn\n",
    "mse = mean_squared_error(y_test, y_pred)\n",
    "print(\"MSE:\", mse)\n",
    "\n",
    "# calculate RMSE using sklearn\n",
    "rmse = mean_squared_error(y_test, y_pred, squared=False)\n",
    "print(\"RMSE:\", rmse)\n",
    "\n",
    "# calculate R squared using sklearn\n",
    "r2 = r2_score(y_test, y_pred)\n",
    "print(\"R squared:\", r2)\n",
    "\n",
    "end_of_cell = time.time()\n",
    "print(f\"Took {round(end_of_cell - start_of_cell, 2)} sec.\\n\")"
   ]
  },
  {
   "cell_type": "code",
   "execution_count": 35,
   "id": "ac31f9fb-7904-416a-9938-e85320340412",
   "metadata": {
    "tags": []
   },
   "outputs": [],
   "source": [
    "df_ = pd.DataFrame({\n",
    "    \"y_true\": y_test,\n",
    "    \"y_pred\": y_pred\n",
    "})"
   ]
  },
  {
   "cell_type": "code",
   "execution_count": 36,
   "id": "f2fc8448-2150-4cfd-803d-afbd4845b59e",
   "metadata": {
    "tags": []
   },
   "outputs": [
    {
     "data": {
      "image/png": "[encoded data removed]",
      "text/plain": [
       "<Figure size 640x480 with 1 Axes>"
      ]
     },
     "metadata": {},
     "output_type": "display_data"
    }
   ],
   "source": [
    "residplot = sns.residplot(data=df_, x=\"y_true\", y=\"y_pred\", color='orange')\n",
    "plt.title('Model Residuals')\n",
    "plt.xlabel('Obsevation #')\n",
    "plt.ylabel('Error')\n",
    "\n",
    "plt.show()\n",
    "fig = residplot.get_figure()\n",
    "fig.show()"
   ]
  },
  {
   "cell_type": "code",
   "execution_count": 19,
   "id": "5ae4e226-7a93-4e4d-8131-c1de62a7b6f9",
   "metadata": {
    "tags": []
   },
   "outputs": [
    {
     "data": {
      "text/plain": [
       "<Axes: title={'center': 'Feature importance'}, xlabel='F score', ylabel='Features'>"
      ]
     },
     "execution_count": 19,
     "metadata": {},
     "output_type": "execute_result"
    },
    {
     "data": {
      "image/png": "[encoded data removed]",
      "text/plain": [
       "<Figure size 640x480 with 1 Axes>"
      ]
     },
     "metadata": {},
     "output_type": "display_data"
    }
   ],
   "source": [
    "from xgboost import plot_importance\n",
    "\n",
    "\n",
    "plot_importance(xgb_regressor, max_num_features=25)"
   ]
  },
  {
   "cell_type": "markdown",
   "id": "3dcea831-6c21-4396-a0ce-0631d21d1875",
   "metadata": {},
   "source": [
    "---"
   ]
  },
  {
   "cell_type": "markdown",
   "id": "c066fe79-315e-4b85-b2ab-32d503679dc7",
   "metadata": {
    "tags": []
   },
   "source": [
    "## <span style='color:#ff5f27'>🗄 Model Registry</span>\n",
    "\n",
    "One of the features in Hopsworks is the model registry. This is where you can store different versions of models and compare their performance. Models from the registry can then be served as API endpoints."
   ]
  },
  {
   "cell_type": "code",
   "execution_count": 50,
   "id": "a787ec40-6bd7-4950-aa5d-bf004e1e5ade",
   "metadata": {
    "tags": []
   },
   "outputs": [
    {
     "name": "stdout",
     "output_type": "stream",
     "text": [
      "Connected. Call `.close()` to terminate connection gracefully.\n"
     ]
    }
   ],
   "source": [
    "mr = project.get_model_registry()"
   ]
  },
  {
   "cell_type": "markdown",
   "id": "7d240dc7-8a02-47b2-9667-7483508b2d24",
   "metadata": {},
   "source": [
    "### <span style=\"color:#ff5f27;\">⚙️ Model Schema</span>"
   ]
  },
  {
   "cell_type": "markdown",
   "id": "5c658df3-56a4-450b-90ee-127d0afe5b74",
   "metadata": {},
   "source": [
    "The model needs to be set up with a [Model Schema](https://docs.hopsworks.ai/machine-learning-api/latest/generated/model_schema/), which describes the inputs and outputs for a model.\n",
    "\n",
    "A Model Schema can be automatically generated from training examples, as shown below."
   ]
  },
  {
   "cell_type": "code",
   "execution_count": 25,
   "id": "cd3f3751",
   "metadata": {
    "scrolled": true
   },
   "outputs": [
    {
     "data": {
      "text/plain": [
       "{'input_schema': {'columnar_schema': [{'name': 'pm_2_5_previous_1_day',\n",
       "    'type': 'float64'},\n",
       "   {'name': 'pm_2_5_previous_2_day', 'type': 'float64'},\n",
       "   {'name': 'pm_2_5_previous_3_day', 'type': 'float64'},\n",
       "   {'name': 'pm_2_5_previous_4_day', 'type': 'float64'},\n",
       "   {'name': 'pm_2_5_previous_5_day', 'type': 'float64'},\n",
       "   {'name': 'pm_2_5_previous_6_day', 'type': 'float64'},\n",
       "   {'name': 'pm_2_5_previous_7_day', 'type': 'float64'},\n",
       "   {'name': 'mean_7_days', 'type': 'float64'},\n",
       "   {'name': 'mean_14_days', 'type': 'float64'},\n",
       "   {'name': 'mean_28_days', 'type': 'float64'},\n",
       "   {'name': 'std_7_days', 'type': 'float64'},\n",
       "   {'name': 'exp_mean_7_days', 'type': 'float64'},\n",
       "   {'name': 'exp_std_7_days', 'type': 'float64'},\n",
       "   {'name': 'std_14_days', 'type': 'float64'},\n",
       "   {'name': 'exp_mean_14_days', 'type': 'float64'},\n",
       "   {'name': 'exp_std_14_days', 'type': 'float64'},\n",
       "   {'name': 'std_28_days', 'type': 'float64'},\n",
       "   {'name': 'exp_mean_28_days', 'type': 'float64'},\n",
       "   {'name': 'exp_std_28_days', 'type': 'float64'},\n",
       "   {'name': 'year', 'type': 'int64'},\n",
       "   {'name': 'day_of_month', 'type': 'int64'},\n",
       "   {'name': 'month', 'type': 'int64'},\n",
       "   {'name': 'day_of_week', 'type': 'int64'},\n",
       "   {'name': 'is_weekend', 'type': 'int64'},\n",
       "   {'name': 'sin_day_of_year', 'type': 'float64'},\n",
       "   {'name': 'cos_day_of_year', 'type': 'float64'},\n",
       "   {'name': 'sin_day_of_week', 'type': 'float64'},\n",
       "   {'name': 'cos_day_of_week', 'type': 'float64'},\n",
       "   {'name': 'temperature_max', 'type': 'float64'},\n",
       "   {'name': 'temperature_min', 'type': 'float64'},\n",
       "   {'name': 'precipitation_sum', 'type': 'float64'},\n",
       "   {'name': 'rain_sum', 'type': 'float64'},\n",
       "   {'name': 'snowfall_sum', 'type': 'float64'},\n",
       "   {'name': 'precipitation_hours', 'type': 'float64'},\n",
       "   {'name': 'wind_speed_max', 'type': 'float64'},\n",
       "   {'name': 'wind_gusts_max', 'type': 'float64'},\n",
       "   {'name': 'wind_direction_dominant', 'type': 'int64'},\n",
       "   {'name': 'city_name_encoded', 'type': 'int64'}]},\n",
       " 'output_schema': {'columnar_schema': [{'name': 'pm2_5', 'type': 'float64'}]}}"
      ]
     },
     "execution_count": 25,
     "metadata": {},
     "output_type": "execute_result"
    }
   ],
   "source": [
    "from hsml.schema import Schema\n",
    "from hsml.model_schema import ModelSchema\n",
    "\n",
    "input_schema = Schema(X)\n",
    "output_schema = Schema(y)\n",
    "model_schema = ModelSchema(input_schema=input_schema, output_schema=output_schema)\n",
    "\n",
    "model_schema.to_dict()"
   ]
  },
  {
   "cell_type": "code",
   "execution_count": 44,
   "id": "d2777f5e",
   "metadata": {
    "scrolled": true
   },
   "outputs": [],
   "source": [
    "# The 'nyc_taxi_fares_model' directory will be saved to the model registry\n",
    "model_dir=\"air_quality_model\"\n",
    "if os.path.isdir(model_dir) == False:\n",
    "    os.mkdir(model_dir)\n",
    "\n",
    "joblib.dump(label_encoder, model_dir + '/label_encoder.pkl')\n",
    "joblib.dump(xgb_regressor, model_dir + '/xgboost_regressor.pkl')\n",
    "\n",
    "fig.savefig(model_dir + \"/residplot.png\") "
   ]
  },
  {
   "cell_type": "code",
   "execution_count": 45,
   "id": "41f6811e",
   "metadata": {},
   "outputs": [
    {
     "name": "stdout",
     "output_type": "stream",
     "text": [
      "Connected. Call `.close()` to terminate connection gracefully.\n"
     ]
    },
    {
     "data": {
      "application/vnd.jupyter.widget-view+json": {
       "model_id": "feeeb69b27954b38b9d6b809c7a7c4aa",
       "version_major": 2,
       "version_minor": 0
      },
      "text/plain": [
       "  0%|          | 0/6 [00:00<?, ?it/s]"
      ]
     },
     "metadata": {},
     "output_type": "display_data"
    },
    {
     "name": "stdout",
     "output_type": "stream",
     "text": [
      "Model created, explore it at https://c.app.hopsworks.ai:443/p/14502/models/air_quality_xgboost_model/1\n"
     ]
    },
    {
     "data": {
      "text/plain": [
       "Model(name: 'air_quality_xgboost_model', version: 1)"
      ]
     },
     "execution_count": 45,
     "metadata": {},
     "output_type": "execute_result"
    }
   ],
   "source": [
    "aq_model = mr.python.create_model(\n",
    "    name=\"air_quality_xgboost_model\", \n",
    "    metrics={\n",
    "        \"RMSE\": rmse,\n",
    "        \"MSE\": mse,\n",
    "        \"R squared\": r2\n",
    "    },\n",
    "    model_schema=model_schema,\n",
    "    input_example=X_test.sample().values, \n",
    "    description=\"Air Quality (PM2.5) predictor.\")\n",
    "\n",
    "aq_model.save(model_dir)"
   ]
  },
  {
   "cell_type": "markdown",
   "id": "7ce57d64-99f1-436c-8eb8-e43e8fb57e19",
   "metadata": {},
   "source": [
    "---"
   ]
  },
  {
   "cell_type": "markdown",
   "id": "d8fa78b2-41d7-4122-9455-7e74a9553e31",
   "metadata": {
    "tags": []
   },
   "source": [
    "## <span style=\"color:#ff5f27;\">🪝 Retrieving model from Model Registry</span>"
   ]
  },
  {
   "cell_type": "code",
   "execution_count": 56,
   "id": "dd24c85f-1e27-4e1f-adc4-8d978cc2f662",
   "metadata": {
    "tags": []
   },
   "outputs": [
    {
     "name": "stdout",
     "output_type": "stream",
     "text": [
      "Downloading file ... "
     ]
    }
   ],
   "source": [
    "retrieved_model = mr.get_model(\n",
    "    name=\"air_quality_xgboost_model\",\n",
    "    version=1\n",
    ")\n",
    "\n",
    "saved_model_dir = retrieved_model.download()"
   ]
  },
  {
   "cell_type": "code",
   "execution_count": 57,
   "id": "d615325d-18fa-4048-a4c7-2a7a20411b06",
   "metadata": {
    "tags": []
   },
   "outputs": [],
   "source": [
    "retrieved_xgboost_model = joblib.load(saved_model_dir + \"/xgboost_regressor.pkl\")\n",
    "retrieved_encoder = joblib.load(saved_model_dir + \"/label_encoder.pkl\")"
   ]
  },
  {
   "cell_type": "code",
   "execution_count": 58,
   "id": "c77306e7-0f70-4649-9f5b-08ec7a8d3eaa",
   "metadata": {
    "tags": []
   },
   "outputs": [
    {
     "data": {
      "text/html": [
       "<style>#sk-container-id-2 {color: black;background-color: white;}#sk-container-id-2 pre{padding: 0;}#sk-container-id-2 div.sk-toggleable {background-color: white;}#sk-container-id-2 label.sk-toggleable__label {cursor: pointer;display: block;width: 100%;margin-bottom: 0;padding: 0.3em;box-sizing: border-box;text-align: center;}#sk-container-id-2 label.sk-toggleable__label-arrow:before {content: \"▸\";float: left;margin-right: 0.25em;color: #696969;}#sk-container-id-2 label.sk-toggleable__label-arrow:hover:before {color: black;}#sk-container-id-2 div.sk-estimator:hover label.sk-toggleable__label-arrow:before {color: black;}#sk-container-id-2 div.sk-toggleable__content {max-height: 0;max-width: 0;overflow: hidden;text-align: left;background-color: #f0f8ff;}#sk-container-id-2 div.sk-toggleable__content pre {margin: 0.2em;color: black;border-radius: 0.25em;background-color: #f0f8ff;}#sk-container-id-2 input.sk-toggleable__control:checked~div.sk-toggleable__content {max-height: 200px;max-width: 100%;overflow: auto;}#sk-container-id-2 input.sk-toggleable__control:checked~label.sk-toggleable__label-arrow:before {content: \"▾\";}#sk-container-id-2 div.sk-estimator input.sk-toggleable__control:checked~label.sk-toggleable__label {background-color: #d4ebff;}#sk-container-id-2 div.sk-label input.sk-toggleable__control:checked~label.sk-toggleable__label {background-color: #d4ebff;}#sk-container-id-2 input.sk-hidden--visually {border: 0;clip: rect(1px 1px 1px 1px);clip: rect(1px, 1px, 1px, 1px);height: 1px;margin: -1px;overflow: hidden;padding: 0;position: absolute;width: 1px;}#sk-container-id-2 div.sk-estimator {font-family: monospace;background-color: #f0f8ff;border: 1px dotted black;border-radius: 0.25em;box-sizing: border-box;margin-bottom: 0.5em;}#sk-container-id-2 div.sk-estimator:hover {background-color: #d4ebff;}#sk-container-id-2 div.sk-parallel-item::after {content: \"\";width: 100%;border-bottom: 1px solid gray;flex-grow: 1;}#sk-container-id-2 div.sk-label:hover label.sk-toggleable__label {background-color: #d4ebff;}#sk-container-id-2 div.sk-serial::before {content: \"\";position: absolute;border-left: 1px solid gray;box-sizing: border-box;top: 0;bottom: 0;left: 50%;z-index: 0;}#sk-container-id-2 div.sk-serial {display: flex;flex-direction: column;align-items: center;background-color: white;padding-right: 0.2em;padding-left: 0.2em;position: relative;}#sk-container-id-2 div.sk-item {position: relative;z-index: 1;}#sk-container-id-2 div.sk-parallel {display: flex;align-items: stretch;justify-content: center;background-color: white;position: relative;}#sk-container-id-2 div.sk-item::before, #sk-container-id-2 div.sk-parallel-item::before {content: \"\";position: absolute;border-left: 1px solid gray;box-sizing: border-box;top: 0;bottom: 0;left: 50%;z-index: -1;}#sk-container-id-2 div.sk-parallel-item {display: flex;flex-direction: column;z-index: 1;position: relative;background-color: white;}#sk-container-id-2 div.sk-parallel-item:first-child::after {align-self: flex-end;width: 50%;}#sk-container-id-2 div.sk-parallel-item:last-child::after {align-self: flex-start;width: 50%;}#sk-container-id-2 div.sk-parallel-item:only-child::after {width: 0;}#sk-container-id-2 div.sk-dashed-wrapped {border: 1px dashed gray;margin: 0 0.4em 0.5em 0.4em;box-sizing: border-box;padding-bottom: 0.4em;background-color: white;}#sk-container-id-2 div.sk-label label {font-family: monospace;font-weight: bold;display: inline-block;line-height: 1.2em;}#sk-container-id-2 div.sk-label-container {text-align: center;}#sk-container-id-2 div.sk-container {/* jupyter's `normalize.less` sets `[hidden] { display: none; }` but bootstrap.min.css set `[hidden] { display: none !important; }` so we also need the `!important` here to be able to override the default hidden behavior on the sphinx rendered scikit-learn.org. See: https://github.com/scikit-learn/scikit-learn/issues/21755 */display: inline-block !important;position: relative;}#sk-container-id-2 div.sk-text-repr-fallback {display: none;}</style><div id=\"sk-container-id-2\" class=\"sk-top-container\"><div class=\"sk-text-repr-fallback\"><pre>XGBRegressor(base_score=None, booster=None, callbacks=None,\n",
       "             colsample_bylevel=None, colsample_bynode=None,\n",
       "             colsample_bytree=None, early_stopping_rounds=None,\n",
       "             enable_categorical=False, eval_metric=None, feature_types=None,\n",
       "             gamma=None, gpu_id=None, grow_policy=None, importance_type=None,\n",
       "             interaction_constraints=None, learning_rate=None, max_bin=None,\n",
       "             max_cat_threshold=None, max_cat_to_onehot=None,\n",
       "             max_delta_step=None, max_depth=None, max_leaves=None,\n",
       "             min_child_weight=None, missing=nan, monotone_constraints=None,\n",
       "             n_estimators=100, n_jobs=None, num_parallel_tree=None,\n",
       "             predictor=None, random_state=None, ...)</pre><b>In a Jupyter environment, please rerun this cell to show the HTML representation or trust the notebook. <br />On GitHub, the HTML representation is unable to render, please try loading this page with nbviewer.org.</b></div><div class=\"sk-container\" hidden><div class=\"sk-item\"><div class=\"sk-estimator sk-toggleable\"><input class=\"sk-toggleable__control sk-hidden--visually\" id=\"sk-estimator-id-2\" type=\"checkbox\" checked><label for=\"sk-estimator-id-2\" class=\"sk-toggleable__label sk-toggleable__label-arrow\">XGBRegressor</label><div class=\"sk-toggleable__content\"><pre>XGBRegressor(base_score=None, booster=None, callbacks=None,\n",
       "             colsample_bylevel=None, colsample_bynode=None,\n",
       "             colsample_bytree=None, early_stopping_rounds=None,\n",
       "             enable_categorical=False, eval_metric=None, feature_types=None,\n",
       "             gamma=None, gpu_id=None, grow_policy=None, importance_type=None,\n",
       "             interaction_constraints=None, learning_rate=None, max_bin=None,\n",
       "             max_cat_threshold=None, max_cat_to_onehot=None,\n",
       "             max_delta_step=None, max_depth=None, max_leaves=None,\n",
       "             min_child_weight=None, missing=nan, monotone_constraints=None,\n",
       "             n_estimators=100, n_jobs=None, num_parallel_tree=None,\n",
       "             predictor=None, random_state=None, ...)</pre></div></div></div></div></div>"
      ],
      "text/plain": [
       "XGBRegressor(base_score=None, booster=None, callbacks=None,\n",
       "             colsample_bylevel=None, colsample_bynode=None,\n",
       "             colsample_bytree=None, early_stopping_rounds=None,\n",
       "             enable_categorical=False, eval_metric=None, feature_types=None,\n",
       "             gamma=None, gpu_id=None, grow_policy=None, importance_type=None,\n",
       "             interaction_constraints=None, learning_rate=None, max_bin=None,\n",
       "             max_cat_threshold=None, max_cat_to_onehot=None,\n",
       "             max_delta_step=None, max_depth=None, max_leaves=None,\n",
       "             min_child_weight=None, missing=nan, monotone_constraints=None,\n",
       "             n_estimators=100, n_jobs=None, num_parallel_tree=None,\n",
       "             predictor=None, random_state=None, ...)"
      ]
     },
     "execution_count": 58,
     "metadata": {},
     "output_type": "execute_result"
    }
   ],
   "source": [
    "retrieved_xgboost_model"
   ]
  },
  {
   "cell_type": "markdown",
   "id": "0977a55a-d9cf-4826-b040-fdc36dc32368",
   "metadata": {
    "tags": []
   },
   "source": [
    "## <span style=\"color:#ff5f27;\">✨ Load Batch Data of last days</span>\n",
    "\n",
    "First, you will need to fetch the training dataset that you created in the previous notebook."
   ]
  },
  {
   "cell_type": "code",
   "execution_count": 3,
   "id": "cd323923-78a8-488c-b122-3d2cf49d80b2",
   "metadata": {
    "tags": []
   },
   "outputs": [
    {
     "data": {
      "text/plain": [
       "'2023-03-21'"
      ]
     },
     "execution_count": 3,
     "metadata": {},
     "output_type": "execute_result"
    }
   ],
   "source": [
    "today = datetime.date.today()\n",
    "date_threshold = today - datetime.timedelta(days=30)\n",
    "str(date_threshold)"
   ]
  },
  {
   "cell_type": "code",
   "execution_count": 9,
   "id": "028ee3e2-43c8-4d39-a28b-b4dda3d9d449",
   "metadata": {
    "scrolled": true,
    "tags": []
   },
   "outputs": [
    {
     "name": "stdout",
     "output_type": "stream",
     "text": [
      "2023-04-20 10:11:41,109 INFO: USE `test5_featurestore`\n",
      "2023-04-20 10:11:41,749 INFO: WITH right_fg0 AS (SELECT *\n",
      "FROM (SELECT `fg1`.`city_name` `city_name`, `fg1`.`date` `date`, `fg1`.`pm2_5` `pm2_5`, `fg1`.`pm_2_5_previous_1_day` `pm_2_5_previous_1_day`, `fg1`.`pm_2_5_previous_2_day` `pm_2_5_previous_2_day`, `fg1`.`pm_2_5_previous_3_day` `pm_2_5_previous_3_day`, `fg1`.`pm_2_5_previous_4_day` `pm_2_5_previous_4_day`, `fg1`.`pm_2_5_previous_5_day` `pm_2_5_previous_5_day`, `fg1`.`pm_2_5_previous_6_day` `pm_2_5_previous_6_day`, `fg1`.`pm_2_5_previous_7_day` `pm_2_5_previous_7_day`, `fg1`.`mean_7_days` `mean_7_days`, `fg1`.`mean_14_days` `mean_14_days`, `fg1`.`mean_28_days` `mean_28_days`, `fg1`.`std_7_days` `std_7_days`, `fg1`.`exp_mean_7_days` `exp_mean_7_days`, `fg1`.`exp_std_7_days` `exp_std_7_days`, `fg1`.`std_14_days` `std_14_days`, `fg1`.`exp_mean_14_days` `exp_mean_14_days`, `fg1`.`exp_std_14_days` `exp_std_14_days`, `fg1`.`std_28_days` `std_28_days`, `fg1`.`exp_mean_28_days` `exp_mean_28_days`, `fg1`.`exp_std_28_days` `exp_std_28_days`, `fg1`.`year` `year`, `fg1`.`day_of_month` `day_of_month`, `fg1`.`month` `month`, `fg1`.`day_of_week` `day_of_week`, `fg1`.`is_weekend` `is_weekend`, `fg1`.`sin_day_of_year` `sin_day_of_year`, `fg1`.`cos_day_of_year` `cos_day_of_year`, `fg1`.`sin_day_of_week` `sin_day_of_week`, `fg1`.`cos_day_of_week` `cos_day_of_week`, `fg1`.`unix_time` `unix_time`, `fg1`.`city_name` `join_pk_city_name`, `fg1`.`unix_time` `join_pk_unix_time`, `fg1`.`unix_time` `join_evt_unix_time`, `fg0`.`temperature_max` `temperature_max`, `fg0`.`temperature_min` `temperature_min`, `fg0`.`precipitation_sum` `precipitation_sum`, `fg0`.`rain_sum` `rain_sum`, `fg0`.`snowfall_sum` `snowfall_sum`, `fg0`.`precipitation_hours` `precipitation_hours`, `fg0`.`wind_speed_max` `wind_speed_max`, `fg0`.`wind_gusts_max` `wind_gusts_max`, `fg0`.`wind_direction_dominant` `wind_direction_dominant`, RANK() OVER (PARTITION BY `fg1`.`city_name`, `fg1`.`date`, `fg1`.`unix_time` ORDER BY `fg0`.`unix_time` DESC) pit_rank_hopsworks\n",
      "FROM `test5_featurestore`.`air_quality_1` `fg1`\n",
      "INNER JOIN `test5_featurestore`.`weather_1` `fg0` ON `fg1`.`city_name` = `fg0`.`city_name` AND `fg1`.`date` = `fg0`.`date` AND `fg1`.`unix_time` >= `fg0`.`unix_time`\n",
      "WHERE `fg1`.`unix_time` >= 1679356800000) NA\n",
      "WHERE `pit_rank_hopsworks` = 1) (SELECT `right_fg0`.`city_name` `city_name`, `right_fg0`.`date` `date`, `right_fg0`.`pm2_5` `pm2_5`, `right_fg0`.`pm_2_5_previous_1_day` `pm_2_5_previous_1_day`, `right_fg0`.`pm_2_5_previous_2_day` `pm_2_5_previous_2_day`, `right_fg0`.`pm_2_5_previous_3_day` `pm_2_5_previous_3_day`, `right_fg0`.`pm_2_5_previous_4_day` `pm_2_5_previous_4_day`, `right_fg0`.`pm_2_5_previous_5_day` `pm_2_5_previous_5_day`, `right_fg0`.`pm_2_5_previous_6_day` `pm_2_5_previous_6_day`, `right_fg0`.`pm_2_5_previous_7_day` `pm_2_5_previous_7_day`, `right_fg0`.`mean_7_days` `mean_7_days`, `right_fg0`.`mean_14_days` `mean_14_days`, `right_fg0`.`mean_28_days` `mean_28_days`, `right_fg0`.`std_7_days` `std_7_days`, `right_fg0`.`exp_mean_7_days` `exp_mean_7_days`, `right_fg0`.`exp_std_7_days` `exp_std_7_days`, `right_fg0`.`std_14_days` `std_14_days`, `right_fg0`.`exp_mean_14_days` `exp_mean_14_days`, `right_fg0`.`exp_std_14_days` `exp_std_14_days`, `right_fg0`.`std_28_days` `std_28_days`, `right_fg0`.`exp_mean_28_days` `exp_mean_28_days`, `right_fg0`.`exp_std_28_days` `exp_std_28_days`, `right_fg0`.`year` `year`, `right_fg0`.`day_of_month` `day_of_month`, `right_fg0`.`month` `month`, `right_fg0`.`day_of_week` `day_of_week`, `right_fg0`.`is_weekend` `is_weekend`, `right_fg0`.`sin_day_of_year` `sin_day_of_year`, `right_fg0`.`cos_day_of_year` `cos_day_of_year`, `right_fg0`.`sin_day_of_week` `sin_day_of_week`, `right_fg0`.`cos_day_of_week` `cos_day_of_week`, `right_fg0`.`unix_time` `unix_time`, `right_fg0`.`temperature_max` `temperature_max`, `right_fg0`.`temperature_min` `temperature_min`, `right_fg0`.`precipitation_sum` `precipitation_sum`, `right_fg0`.`rain_sum` `rain_sum`, `right_fg0`.`snowfall_sum` `snowfall_sum`, `right_fg0`.`precipitation_hours` `precipitation_hours`, `right_fg0`.`wind_speed_max` `wind_speed_max`, `right_fg0`.`wind_gusts_max` `wind_gusts_max`, `right_fg0`.`wind_direction_dominant` `wind_direction_dominant`\n",
      "FROM right_fg0)\n",
      "Took 34.36 sec.\n",
      "\n"
     ]
    }
   ],
   "source": [
    "start_of_cell = time.time()\n",
    "\n",
    "\n",
    "feature_view.init_batch_scoring(training_dataset_version=td_version)\n",
    "\n",
    "batch_data = feature_view.get_batch_data(start_time=date_threshold)\n",
    "\n",
    "\n",
    "end_of_cell = time.time()\n",
    "print(f\"Took {round(end_of_cell - start_of_cell, 2)} sec.\\n\")"
   ]
  },
  {
   "cell_type": "markdown",
   "id": "400662df-044f-44f1-b781-2cb644802bf2",
   "metadata": {},
   "source": [
    "### <span style=\"color:#ff5f27;\">🤖 Making the predictions</span>"
   ]
  },
  {
   "cell_type": "code",
   "execution_count": 61,
   "id": "e775949f-9038-4161-a4df-2f7de971920d",
   "metadata": {
    "tags": []
   },
   "outputs": [],
   "source": [
    "# Transform the data\n",
    "encoded = retrieved_encoder.transform(batch_data['city_name'])\n",
    "\n",
    "# Convert the output to a dense array and concatenate with the original data\n",
    "X_batch = pd.concat([batch_data, pd.DataFrame(encoded)], axis=1)\n",
    "\n",
    "X_batch = X_batch.drop(columns=['date', 'city_name', 'unix_time'])\n",
    "X_batch = X_batch.rename(columns={0: 'city_name_encoded'})\n",
    "\n",
    "y_batch = X_batch.pop('pm2_5')"
   ]
  },
  {
   "cell_type": "code",
   "execution_count": 63,
   "id": "5a19b959-333a-4479-8d76-3e6d57ba6a43",
   "metadata": {
    "tags": []
   },
   "outputs": [
    {
     "data": {
      "text/plain": [
       "array([9.64364 , 7.431512, 5.529407, 4.530392, 5.51446 ], dtype=float32)"
      ]
     },
     "execution_count": 63,
     "metadata": {},
     "output_type": "execute_result"
    }
   ],
   "source": [
    "predictions = retrieved_xgboost_model.predict(X_batch)\n",
    "predictions[:5]"
   ]
  },
  {
   "cell_type": "markdown",
   "id": "b2dd412c-c639-42d2-806b-bfb94b54ccd2",
   "metadata": {},
   "source": [
    "---"
   ]
  },
  {
   "cell_type": "markdown",
   "id": "cc8fb9e6-303a-44f5-a486-5e14c944604d",
   "metadata": {},
   "source": [
    "## <span style=\"color:#ff5f27;\">👾 Now try out the Streamlit App!</span>"
   ]
  },
  {
   "cell_type": "code",
   "execution_count": 64,
   "id": "d567020a-2431-4a9e-9ae9-4a4c960e4bf1",
   "metadata": {
    "tags": []
   },
   "outputs": [],
   "source": [
    "# install dependcies\n",
    "!pip3 install streamlit-folium --q"
   ]
  },
  {
   "cell_type": "markdown",
   "id": "5bf025f1-eef3-427c-8537-1242874716ca",
   "metadata": {},
   "source": [
    "---\n",
    "\n",
    "### <span style=\"color:#ff5f27;\">🥳 <b> Next Steps </b> </span>\n",
    "\n",
    "Check out our other tutorials on ➡ https://github.com/logicalclocks/hopsworks-tutorials\n",
    "\n",
    "Or documentation at ➡ https://docs.hopsworks.ai"
   ]
  },
  {
   "cell_type": "code",
   "execution_count": null,
   "id": "6749d251-d0cc-4b90-bc5e-f24c62f723f8",
   "metadata": {},
   "outputs": [],
   "source": []
  },
  {
   "cell_type": "code",
   "execution_count": 11,
   "id": "df7ca93e-b53b-4279-9eb4-26bb4d3e75b6",
   "metadata": {
    "tags": []
   },
   "outputs": [],
   "source": [
    "with open('target_cities.json') as json_file:\n",
    "    target_cities = json.load(json_file)"
   ]
  },
  {
   "cell_type": "code",
   "execution_count": 13,
   "id": "53459f3b-69eb-4f11-a38e-ea943f20d2d7",
   "metadata": {
    "tags": []
   },
   "outputs": [],
   "source": [
    "from functions import *"
   ]
  },
  {
   "cell_type": "code",
   "execution_count": 14,
   "id": "eada43b1-6bf1-4944-a585-971d525923a0",
   "metadata": {
    "scrolled": true,
    "tags": []
   },
   "outputs": [
    {
     "name": "stdout",
     "output_type": "stream",
     "text": [
      "Processed PM2_5 for NORTH BEND - NORTH BEND WAY since 2023-04-17 till 2023-04-20.\n",
      "Took 0.15 sec.\n",
      "\n",
      "Processed PM2_5 for LAKE FOREST PARK TOWNE CENTER since 2023-04-17 till 2023-04-20.\n",
      "Took 0.14 sec.\n",
      "\n",
      "Processed PM2_5 for SEATTLE - DUWAMISH since 2023-04-17 till 2023-04-20.\n",
      "Took 0.14 sec.\n",
      "\n",
      "Processed PM2_5 for SEATTLE - BEACON HILL since 2023-04-17 till 2023-04-20.\n",
      "Took 0.14 sec.\n",
      "\n",
      "Processed PM2_5 for SEATTLE - SOUTH PARK #2 since 2023-04-17 till 2023-04-20.\n",
      "Took 0.14 sec.\n",
      "\n",
      "Processed PM2_5 for KENT - JAMES & CENTRAL since 2023-04-17 till 2023-04-20.\n",
      "Took 0.14 sec.\n",
      "\n",
      "Processed PM2_5 for TACOMA - L STREET since 2023-04-17 till 2023-04-20.\n",
      "Took 0.14 sec.\n",
      "\n",
      "Processed PM2_5 for TACOMA - ALEXANDER AVE since 2023-04-17 till 2023-04-20.\n",
      "Took 0.14 sec.\n",
      "\n",
      "Processed PM2_5 for DARRINGTON - FIR ST (Darrington High School) since 2023-04-17 till 2023-04-20.\n",
      "Took 0.14 sec.\n",
      "\n",
      "Processed PM2_5 for MARYSVILLE - 7TH AVE (Marysville Junior High) since 2023-04-17 till 2023-04-20.\n",
      "Took 0.14 sec.\n",
      "\n",
      "Processed PM2_5 for Seattle-10th & Weller since 2023-04-17 till 2023-04-20.\n",
      "Took 0.14 sec.\n",
      "\n",
      "Processed PM2_5 for Bellevue-SE 12th St since 2023-04-17 till 2023-04-20.\n",
      "Took 0.14 sec.\n",
      "\n",
      "Processed PM2_5 for Tacoma-S 36th St since 2023-04-17 till 2023-04-20.\n",
      "Took 0.14 sec.\n",
      "\n",
      "Processed PM2_5 for Tukwila Allentown since 2023-04-17 till 2023-04-20.\n",
      "Took 0.14 sec.\n",
      "\n",
      "Processed PM2_5 for Tulalip-Totem Beach Rd since 2023-04-17 till 2023-04-20.\n",
      "Took 0.14 sec.\n",
      "\n",
      "Processed PM2_5 for Amsterdam since 2023-04-17 till 2023-04-20.\n",
      "Took 0.14 sec.\n",
      "\n",
      "Processed PM2_5 for Athina since 2023-04-17 till 2023-04-20.\n",
      "Took 0.14 sec.\n",
      "\n",
      "Processed PM2_5 for Berlin since 2023-04-17 till 2023-04-20.\n",
      "Took 0.14 sec.\n",
      "\n",
      "Processed PM2_5 for Gdansk since 2023-04-17 till 2023-04-20.\n",
      "Took 0.14 sec.\n",
      "\n",
      "Processed PM2_5 for Kraków since 2023-04-17 till 2023-04-20.\n",
      "Took 0.14 sec.\n",
      "\n",
      "Processed PM2_5 for London since 2023-04-17 till 2023-04-20.\n",
      "Took 0.14 sec.\n",
      "\n",
      "Processed PM2_5 for Madrid since 2023-04-17 till 2023-04-20.\n",
      "Took 0.13 sec.\n",
      "\n",
      "Processed PM2_5 for Marseille since 2023-04-17 till 2023-04-20.\n",
      "Took 0.14 sec.\n",
      "\n",
      "Processed PM2_5 for Milano since 2023-04-17 till 2023-04-20.\n",
      "Took 0.14 sec.\n",
      "\n",
      "Processed PM2_5 for München since 2023-04-17 till 2023-04-20.\n",
      "Took 0.14 sec.\n",
      "\n",
      "Processed PM2_5 for Napoli since 2023-04-17 till 2023-04-20.\n",
      "Took 0.14 sec.\n",
      "\n",
      "Processed PM2_5 for Paris since 2023-04-17 till 2023-04-20.\n",
      "Took 0.14 sec.\n",
      "\n",
      "Processed PM2_5 for Sevilla since 2023-04-17 till 2023-04-20.\n",
      "Took 0.14 sec.\n",
      "\n",
      "Processed PM2_5 for Stockholm since 2023-04-17 till 2023-04-20.\n",
      "Took 0.14 sec.\n",
      "\n",
      "Processed PM2_5 for Tallinn since 2023-04-17 till 2023-04-20.\n",
      "Took 0.14 sec.\n",
      "\n",
      "Processed PM2_5 for Varna since 2023-04-17 till 2023-04-20.\n",
      "Took 0.14 sec.\n",
      "\n",
      "Processed PM2_5 for Wien since 2023-04-17 till 2023-04-20.\n",
      "Took 0.14 sec.\n",
      "\n",
      "Processed PM2_5 for Albuquerque since 2023-04-17 till 2023-04-20.\n",
      "Took 0.14 sec.\n",
      "\n",
      "Processed PM2_5 for Atlanta since 2023-04-17 till 2023-04-20.\n",
      "Took 0.14 sec.\n",
      "\n",
      "Processed PM2_5 for Chicago since 2023-04-17 till 2023-04-20.\n",
      "Took 0.14 sec.\n",
      "\n",
      "Processed PM2_5 for Columbus since 2023-04-17 till 2023-04-20.\n",
      "Took 0.14 sec.\n",
      "\n",
      "Processed PM2_5 for Dallas since 2023-04-17 till 2023-04-20.\n",
      "Took 0.14 sec.\n",
      "\n",
      "Processed PM2_5 for Denver since 2023-04-17 till 2023-04-20.\n",
      "Took 0.14 sec.\n",
      "\n",
      "Processed PM2_5 for Houston since 2023-04-17 till 2023-04-20.\n",
      "Took 0.14 sec.\n",
      "\n",
      "Processed PM2_5 for Los Angeles since 2023-04-17 till 2023-04-20.\n",
      "Took 0.14 sec.\n",
      "\n",
      "Processed PM2_5 for New York since 2023-04-17 till 2023-04-20.\n",
      "Took 0.14 sec.\n",
      "\n",
      "Processed PM2_5 for Phoenix-Mesa since 2023-04-17 till 2023-04-20.\n",
      "Took 0.14 sec.\n",
      "\n",
      "Processed PM2_5 for Salt Lake City since 2023-04-17 till 2023-04-20.\n",
      "Took 0.13 sec.\n",
      "\n",
      "Processed PM2_5 for San Francisco since 2023-04-17 till 2023-04-20.\n",
      "Took 0.14 sec.\n",
      "\n",
      "Processed PM2_5 for Tampa since 2023-04-17 till 2023-04-20.\n",
      "Took 0.14 sec.\n",
      "\n",
      "----------------------------------------------------------------\n",
      "Parsed new PM2.5 data for ALL locations up to 2023-04-20.\n",
      "Took 6.21 sec.\n",
      "\n"
     ]
    }
   ],
   "source": [
    "last_dates_aq = batch_data[[\"date\", \"city_name\"]].groupby(\"city_name\").max()\n",
    "last_dates_aq.date = last_dates_aq.date.astype(str)\n",
    "\n",
    "# here is a dictionary with city names as keys and last updated date as values\n",
    "last_dates_aq = last_dates_aq.to_dict()[\"date\"]\n",
    "\n",
    "start_of_cell = time.time()\n",
    "\n",
    "df_aq_update = pd.DataFrame()\n",
    "\n",
    "for continent in target_cities:\n",
    "    for city_name, coords in target_cities[continent].items():\n",
    "        df_ = get_aqi_data_from_open_meteo(city_name=city_name,\n",
    "                                           coordinates=coords,\n",
    "                                           start_date=last_dates_aq[city_name],\n",
    "                                           end_date=str(today))\n",
    "        df_aq_update = pd.concat([df_aq_update, df_]).reset_index(drop=True)\n",
    "    \n",
    "end_of_cell = time.time()\n",
    "print(\"-\" * 64)\n",
    "print(f\"Parsed new PM2.5 data for ALL locations up to {str(today)}.\")\n",
    "print(f\"Took {round(end_of_cell - start_of_cell, 2)} sec.\\n\")\n",
    "\n",
    "# we need the previous data to calculate aggregation functions\n",
    "df_air_quality_new = pd.concat([\n",
    "    batch_data[df_aq_update.columns],\n",
    "    df_aq_update\n",
    "]).reset_index(drop=True)\n",
    "df_air_quality_new = df_air_quality_new.drop_duplicates(subset=['city_name', 'date'])"
   ]
  },
  {
   "cell_type": "code",
   "execution_count": 15,
   "id": "a9ebbe2e-13eb-45a0-97c0-3e9fdc9fc268",
   "metadata": {
    "tags": []
   },
   "outputs": [
    {
     "data": {
      "text/html": [
       "<div>\n",
       "<style scoped>\n",
       "    .dataframe tbody tr th:only-of-type {\n",
       "        vertical-align: middle;\n",
       "    }\n",
       "\n",
       "    .dataframe tbody tr th {\n",
       "        vertical-align: top;\n",
       "    }\n",
       "\n",
       "    .dataframe thead th {\n",
       "        text-align: right;\n",
       "    }\n",
       "</style>\n",
       "<table border=\"1\" class=\"dataframe\">\n",
       "  <thead>\n",
       "    <tr style=\"text-align: right;\">\n",
       "      <th></th>\n",
       "      <th>city_name</th>\n",
       "      <th>date</th>\n",
       "      <th>pm2_5</th>\n",
       "    </tr>\n",
       "  </thead>\n",
       "  <tbody>\n",
       "    <tr>\n",
       "      <th>0</th>\n",
       "      <td>Albuquerque</td>\n",
       "      <td>2023-03-22</td>\n",
       "      <td>8.8</td>\n",
       "    </tr>\n",
       "    <tr>\n",
       "      <th>1</th>\n",
       "      <td>Albuquerque</td>\n",
       "      <td>2023-03-23</td>\n",
       "      <td>2.6</td>\n",
       "    </tr>\n",
       "    <tr>\n",
       "      <th>2</th>\n",
       "      <td>Albuquerque</td>\n",
       "      <td>2023-03-24</td>\n",
       "      <td>7.6</td>\n",
       "    </tr>\n",
       "    <tr>\n",
       "      <th>3</th>\n",
       "      <td>Albuquerque</td>\n",
       "      <td>2023-03-25</td>\n",
       "      <td>9.3</td>\n",
       "    </tr>\n",
       "    <tr>\n",
       "      <th>4</th>\n",
       "      <td>Albuquerque</td>\n",
       "      <td>2023-03-26</td>\n",
       "      <td>11.9</td>\n",
       "    </tr>\n",
       "    <tr>\n",
       "      <th>...</th>\n",
       "      <td>...</td>\n",
       "      <td>...</td>\n",
       "      <td>...</td>\n",
       "    </tr>\n",
       "    <tr>\n",
       "      <th>910</th>\n",
       "      <td>San Francisco</td>\n",
       "      <td>2023-04-20</td>\n",
       "      <td>10.8</td>\n",
       "    </tr>\n",
       "    <tr>\n",
       "      <th>911</th>\n",
       "      <td>Tampa</td>\n",
       "      <td>2023-04-17</td>\n",
       "      <td>9.0</td>\n",
       "    </tr>\n",
       "    <tr>\n",
       "      <th>912</th>\n",
       "      <td>Tampa</td>\n",
       "      <td>2023-04-18</td>\n",
       "      <td>4.5</td>\n",
       "    </tr>\n",
       "    <tr>\n",
       "      <th>913</th>\n",
       "      <td>Tampa</td>\n",
       "      <td>2023-04-19</td>\n",
       "      <td>9.3</td>\n",
       "    </tr>\n",
       "    <tr>\n",
       "      <th>914</th>\n",
       "      <td>Tampa</td>\n",
       "      <td>2023-04-20</td>\n",
       "      <td>8.1</td>\n",
       "    </tr>\n",
       "  </tbody>\n",
       "</table>\n",
       "<p>915 rows × 3 columns</p>\n",
       "</div>"
      ],
      "text/plain": [
       "         city_name        date  pm2_5\n",
       "0      Albuquerque  2023-03-22    8.8\n",
       "1      Albuquerque  2023-03-23    2.6\n",
       "2      Albuquerque  2023-03-24    7.6\n",
       "3      Albuquerque  2023-03-25    9.3\n",
       "4      Albuquerque  2023-03-26   11.9\n",
       "..             ...         ...    ...\n",
       "910  San Francisco  2023-04-20   10.8\n",
       "911          Tampa  2023-04-17    9.0\n",
       "912          Tampa  2023-04-18    4.5\n",
       "913          Tampa  2023-04-19    9.3\n",
       "914          Tampa  2023-04-20    8.1\n",
       "\n",
       "[915 rows x 3 columns]"
      ]
     },
     "execution_count": 15,
     "metadata": {},
     "output_type": "execute_result"
    }
   ],
   "source": [
    "df_air_quality_new"
   ]
  },
  {
   "cell_type": "code",
   "execution_count": null,
   "id": "b530ea00-4b92-499d-a776-71fdd5a2e5d6",
   "metadata": {},
   "outputs": [],
   "source": []
  }
 ],
 "metadata": {
  "kernelspec": {
   "display_name": "Python 3 (ipykernel)",
   "language": "python",
   "name": "python3"
  },
  "language_info": {
   "codemirror_mode": {
    "name": "ipython",
    "version": 3
   },
   "file_extension": ".py",
   "mimetype": "text/x-python",
   "name": "python",
   "nbconvert_exporter": "python",
   "pygments_lexer": "ipython3",
   "version": "3.8.16"
  },
  "vscode": {
   "interpreter": {
    "hash": "63265f9757e7c73c149a91832e3b2b12ced37a5390b9151ad08a04f276cd5846"
   }
  }
 },
 "nbformat": 4,
 "nbformat_minor": 5
}
