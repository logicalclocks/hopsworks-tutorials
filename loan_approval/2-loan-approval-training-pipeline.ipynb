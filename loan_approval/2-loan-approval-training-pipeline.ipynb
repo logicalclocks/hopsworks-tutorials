{
 "cells": [
  {
   "cell_type": "markdown",
   "id": "4e1e2fcc",
   "metadata": {
    "papermill": {
     "duration": 0.029083,
     "end_time": "2023-01-31T14:11:23.008968",
     "exception": false,
     "start_time": "2023-01-31T14:11:22.979885",
     "status": "completed"
    },
    "tags": []
   },
   "source": [
    "# 🏦 Loan Analysis Training Pipeline\n",
    "\n",
    "https://www.kaggle.com/code/faressayah/lending-club-loan-defaulters-prediction \n",
    "\n",
    "\n"
   ]
  },
  {
   "cell_type": "code",
   "execution_count": 1,
   "id": "7b696de8",
   "metadata": {},
   "outputs": [],
   "source": [
    "# !pip uninstall hopsworks -y "
   ]
  },
  {
   "cell_type": "code",
   "execution_count": 2,
   "id": "a3cdbf34",
   "metadata": {},
   "outputs": [
    {
     "name": "stdout",
     "output_type": "stream",
     "text": [
      "Defaulting to user installation because normal site-packages is not writeable\n",
      "Requirement already satisfied: hopsworks in /home/jdowling/.local/lib/python3.10/site-packages (3.0.5)\n",
      "Requirement already satisfied: pyjks in /home/jdowling/.local/lib/python3.10/site-packages (from hopsworks) (20.0.0)\n",
      "Requirement already satisfied: pyhumps==1.6.1 in /home/jdowling/.local/lib/python3.10/site-packages (from hopsworks) (1.6.1)\n",
      "Requirement already satisfied: furl in /home/jdowling/.local/lib/python3.10/site-packages (from hopsworks) (2.1.3)\n",
      "Requirement already satisfied: hsfs[python]<3.1.0,>=3.0.0 in /home/jdowling/.local/lib/python3.10/site-packages (from hopsworks) (3.0.7)\n",
      "Requirement already satisfied: boto3 in /home/jdowling/.local/lib/python3.10/site-packages (from hopsworks) (1.25.5)\n",
      "Requirement already satisfied: requests in /usr/lib/python3/dist-packages (from hopsworks) (2.25.1)\n",
      "Requirement already satisfied: tqdm in /home/jdowling/.local/lib/python3.10/site-packages (from hopsworks) (4.65.0)\n",
      "Requirement already satisfied: hsml<3.1.0,>=3.0.0 in /home/jdowling/.local/lib/python3.10/site-packages (from hopsworks) (3.0.3)\n",
      "Requirement already satisfied: mock in /home/jdowling/.local/lib/python3.10/site-packages (from hopsworks) (4.0.3)\n",
      "Requirement already satisfied: markupsafe<2.1.0 in /home/jdowling/.local/lib/python3.10/site-packages (from hsfs[python]<3.1.0,>=3.0.0->hopsworks) (2.0.1)\n",
      "Requirement already satisfied: pandas<2.0.0,>=1.2.0 in /home/jdowling/.local/lib/python3.10/site-packages (from hsfs[python]<3.1.0,>=3.0.0->hopsworks) (1.5.1)\n",
      "Requirement already satisfied: numpy in /usr/lib/python3/dist-packages (from hsfs[python]<3.1.0,>=3.0.0->hopsworks) (1.21.5)\n",
      "Requirement already satisfied: sqlalchemy in /home/jdowling/.local/lib/python3.10/site-packages (from hsfs[python]<3.1.0,>=3.0.0->hopsworks) (1.4.42)\n",
      "Requirement already satisfied: avro==1.10.2 in /home/jdowling/.local/lib/python3.10/site-packages (from hsfs[python]<3.1.0,>=3.0.0->hopsworks) (1.10.2)\n",
      "Requirement already satisfied: PyMySQL[rsa] in /home/jdowling/.local/lib/python3.10/site-packages (from hsfs[python]<3.1.0,>=3.0.0->hopsworks) (1.0.2)\n",
      "Requirement already satisfied: great-expectations==0.14.12 in /home/jdowling/.local/lib/python3.10/site-packages (from hsfs[python]<3.1.0,>=3.0.0->hopsworks) (0.14.12)\n",
      "Requirement already satisfied: confluent-kafka<=1.9.0 in /home/jdowling/.local/lib/python3.10/site-packages (from hsfs[python]<3.1.0,>=3.0.0->hopsworks) (1.9.0)\n",
      "Requirement already satisfied: fastavro==1.4.11 in /home/jdowling/.local/lib/python3.10/site-packages (from hsfs[python]<3.1.0,>=3.0.0->hopsworks) (1.4.11)\n",
      "Requirement already satisfied: pyarrow in /home/jdowling/.local/lib/python3.10/site-packages (from hsfs[python]<3.1.0,>=3.0.0->hopsworks) (12.0.0)\n",
      "Requirement already satisfied: pyhopshive[thrift] in /home/jdowling/.local/lib/python3.10/site-packages (from hsfs[python]<3.1.0,>=3.0.0->hopsworks) (0.6.4.1.dev0)\n",
      "Requirement already satisfied: ipywidgets>=7.5.1 in /home/jdowling/.local/lib/python3.10/site-packages (from great-expectations==0.14.12->hsfs[python]<3.1.0,>=3.0.0->hopsworks) (8.0.6)\n",
      "Requirement already satisfied: importlib-metadata>=1.7.0 in /home/jdowling/.local/lib/python3.10/site-packages (from great-expectations==0.14.12->hsfs[python]<3.1.0,>=3.0.0->hopsworks) (5.0.0)\n",
      "Requirement already satisfied: termcolor>=1.1.0 in /home/jdowling/.local/lib/python3.10/site-packages (from great-expectations==0.14.12->hsfs[python]<3.1.0,>=3.0.0->hopsworks) (2.1.1)\n",
      "Requirement already satisfied: jinja2<3.1.0,>=2.10 in /usr/lib/python3/dist-packages (from great-expectations==0.14.12->hsfs[python]<3.1.0,>=3.0.0->hopsworks) (3.0.3)\n",
      "Requirement already satisfied: pytz>=2021.3 in /usr/lib/python3/dist-packages (from great-expectations==0.14.12->hsfs[python]<3.1.0,>=3.0.0->hopsworks) (2022.1)\n",
      "Requirement already satisfied: scipy>=0.19.0 in /usr/lib/python3/dist-packages (from great-expectations==0.14.12->hsfs[python]<3.1.0,>=3.0.0->hopsworks) (1.8.0)\n",
      "Requirement already satisfied: urllib3<1.27,>=1.25.4 in /home/jdowling/.local/lib/python3.10/site-packages (from great-expectations==0.14.12->hsfs[python]<3.1.0,>=3.0.0->hopsworks) (1.26.12)\n",
      "Requirement already satisfied: cryptography>=3.2 in /usr/lib/python3/dist-packages (from great-expectations==0.14.12->hsfs[python]<3.1.0,>=3.0.0->hopsworks) (3.4.8)\n",
      "Requirement already satisfied: typing-extensions>=3.10.0.0 in /home/jdowling/.local/lib/python3.10/site-packages (from great-expectations==0.14.12->hsfs[python]<3.1.0,>=3.0.0->hopsworks) (4.4.0)\n",
      "Requirement already satisfied: packaging in /usr/lib/python3/dist-packages (from great-expectations==0.14.12->hsfs[python]<3.1.0,>=3.0.0->hopsworks) (21.3)\n",
      "Requirement already satisfied: jsonschema>=2.5.1 in /usr/lib/python3/dist-packages (from great-expectations==0.14.12->hsfs[python]<3.1.0,>=3.0.0->hopsworks) (3.2.0)\n",
      "Requirement already satisfied: tzlocal>=1.2 in /home/jdowling/.local/lib/python3.10/site-packages (from great-expectations==0.14.12->hsfs[python]<3.1.0,>=3.0.0->hopsworks) (4.3)\n",
      "Requirement already satisfied: pyparsing<3,>=2.4 in /usr/lib/python3/dist-packages (from great-expectations==0.14.12->hsfs[python]<3.1.0,>=3.0.0->hopsworks) (2.4.7)\n",
      "Requirement already satisfied: colorama>=0.4.3 in /usr/lib/python3/dist-packages (from great-expectations==0.14.12->hsfs[python]<3.1.0,>=3.0.0->hopsworks) (0.4.4)\n",
      "Requirement already satisfied: mistune<2.0.0,>=0.8.4 in /home/jdowling/.local/lib/python3.10/site-packages (from great-expectations==0.14.12->hsfs[python]<3.1.0,>=3.0.0->hopsworks) (0.8.4)\n",
      "Requirement already satisfied: python-dateutil>=2.8.1 in /usr/lib/python3/dist-packages (from great-expectations==0.14.12->hsfs[python]<3.1.0,>=3.0.0->hopsworks) (2.8.1)\n",
      "Requirement already satisfied: nbformat>=5.0 in /usr/lib/python3/dist-packages (from great-expectations==0.14.12->hsfs[python]<3.1.0,>=3.0.0->hopsworks) (5.1.3)\n",
      "Requirement already satisfied: altair<5,>=4.0.0 in /home/jdowling/.local/lib/python3.10/site-packages (from great-expectations==0.14.12->hsfs[python]<3.1.0,>=3.0.0->hopsworks) (4.2.2)\n",
      "Requirement already satisfied: Click>=7.1.2 in /home/jdowling/.local/lib/python3.10/site-packages (from great-expectations==0.14.12->hsfs[python]<3.1.0,>=3.0.0->hopsworks) (8.1.3)\n",
      "Requirement already satisfied: jsonpatch>=1.22 in /home/jdowling/.local/lib/python3.10/site-packages (from great-expectations==0.14.12->hsfs[python]<3.1.0,>=3.0.0->hopsworks) (1.32)\n",
      "Requirement already satisfied: ruamel.yaml<0.17.18,>=0.16 in /home/jdowling/.local/lib/python3.10/site-packages (from great-expectations==0.14.12->hsfs[python]<3.1.0,>=3.0.0->hopsworks) (0.17.17)\n",
      "Requirement already satisfied: jmespath<2.0.0,>=0.7.1 in /home/jdowling/.local/lib/python3.10/site-packages (from boto3->hopsworks) (1.0.1)\n",
      "Requirement already satisfied: botocore<1.29.0,>=1.28.5 in /home/jdowling/.local/lib/python3.10/site-packages (from boto3->hopsworks) (1.28.5)\n",
      "Requirement already satisfied: s3transfer<0.7.0,>=0.6.0 in /home/jdowling/.local/lib/python3.10/site-packages (from boto3->hopsworks) (0.6.0)\n",
      "Requirement already satisfied: six>=1.8.0 in /usr/lib/python3/dist-packages (from furl->hopsworks) (1.16.0)\n",
      "Requirement already satisfied: orderedmultidict>=1.0.1 in /home/jdowling/.local/lib/python3.10/site-packages (from furl->hopsworks) (1.0.1)\n",
      "Requirement already satisfied: pyasn1-modules in /home/jdowling/.local/lib/python3.10/site-packages (from pyjks->hopsworks) (0.2.8)\n",
      "Requirement already satisfied: twofish in /home/jdowling/.local/lib/python3.10/site-packages (from pyjks->hopsworks) (0.3.0)\n",
      "Requirement already satisfied: pycryptodomex in /home/jdowling/.local/lib/python3.10/site-packages (from pyjks->hopsworks) (3.15.0)\n",
      "Requirement already satisfied: pyasn1>=0.3.5 in /home/jdowling/.local/lib/python3.10/site-packages (from pyjks->hopsworks) (0.4.8)\n",
      "Requirement already satisfied: javaobj-py3 in /home/jdowling/.local/lib/python3.10/site-packages (from pyjks->hopsworks) (0.4.3)\n",
      "Requirement already satisfied: future in /usr/lib/python3/dist-packages (from pyhopshive[thrift]->hsfs[python]<3.1.0,>=3.0.0->hopsworks) (0.18.2)\n",
      "Requirement already satisfied: thrift>=0.10.0 in /home/jdowling/.local/lib/python3.10/site-packages (from pyhopshive[thrift]->hsfs[python]<3.1.0,>=3.0.0->hopsworks) (0.16.0)\n"
     ]
    },
    {
     "name": "stdout",
     "output_type": "stream",
     "text": [
      "Requirement already satisfied: greenlet!=0.4.17 in /home/jdowling/.local/lib/python3.10/site-packages (from sqlalchemy->hsfs[python]<3.1.0,>=3.0.0->hopsworks) (2.0.0)\n",
      "Requirement already satisfied: entrypoints in /usr/lib/python3/dist-packages (from altair<5,>=4.0.0->great-expectations==0.14.12->hsfs[python]<3.1.0,>=3.0.0->hopsworks) (0.4)\n",
      "Requirement already satisfied: toolz in /home/jdowling/.local/lib/python3.10/site-packages (from altair<5,>=4.0.0->great-expectations==0.14.12->hsfs[python]<3.1.0,>=3.0.0->hopsworks) (0.12.0)\n",
      "Requirement already satisfied: zipp>=0.5 in /home/jdowling/.local/lib/python3.10/site-packages (from importlib-metadata>=1.7.0->great-expectations==0.14.12->hsfs[python]<3.1.0,>=3.0.0->hopsworks) (3.10.0)\n",
      "Requirement already satisfied: ipython>=6.1.0 in /usr/lib/python3/dist-packages (from ipywidgets>=7.5.1->great-expectations==0.14.12->hsfs[python]<3.1.0,>=3.0.0->hopsworks) (7.31.1)\n",
      "Requirement already satisfied: widgetsnbextension~=4.0.7 in /home/jdowling/.local/lib/python3.10/site-packages (from ipywidgets>=7.5.1->great-expectations==0.14.12->hsfs[python]<3.1.0,>=3.0.0->hopsworks) (4.0.7)\n",
      "Requirement already satisfied: ipykernel>=4.5.1 in /usr/lib/python3/dist-packages (from ipywidgets>=7.5.1->great-expectations==0.14.12->hsfs[python]<3.1.0,>=3.0.0->hopsworks) (6.7.0)\n",
      "Requirement already satisfied: traitlets>=4.3.1 in /usr/lib/python3/dist-packages (from ipywidgets>=7.5.1->great-expectations==0.14.12->hsfs[python]<3.1.0,>=3.0.0->hopsworks) (5.1.1)\n",
      "Requirement already satisfied: jupyterlab-widgets~=3.0.7 in /home/jdowling/.local/lib/python3.10/site-packages (from ipywidgets>=7.5.1->great-expectations==0.14.12->hsfs[python]<3.1.0,>=3.0.0->hopsworks) (3.0.7)\n",
      "Requirement already satisfied: jsonpointer>=1.9 in /home/jdowling/.local/lib/python3.10/site-packages (from jsonpatch>=1.22->great-expectations==0.14.12->hsfs[python]<3.1.0,>=3.0.0->hopsworks) (2.3)\n",
      "Requirement already satisfied: pytz-deprecation-shim in /home/jdowling/.local/lib/python3.10/site-packages (from tzlocal>=1.2->great-expectations==0.14.12->hsfs[python]<3.1.0,>=3.0.0->hopsworks) (0.1.0.post0)\n",
      "Requirement already satisfied: debugpy<2.0,>=1.0.0 in /home/jdowling/.local/lib/python3.10/site-packages (from ipykernel>=4.5.1->ipywidgets>=7.5.1->great-expectations==0.14.12->hsfs[python]<3.1.0,>=3.0.0->hopsworks) (1.6.7)\n",
      "Requirement already satisfied: tzdata in /home/jdowling/.local/lib/python3.10/site-packages (from pytz-deprecation-shim->tzlocal>=1.2->great-expectations==0.14.12->hsfs[python]<3.1.0,>=3.0.0->hopsworks) (2023.3)\n"
     ]
    }
   ],
   "source": [
    "!pip install hopsworks"
   ]
  },
  {
   "cell_type": "code",
   "execution_count": 3,
   "id": "9cb24c87",
   "metadata": {
    "_kg_hide-input": true,
    "execution": {
     "iopub.execute_input": "2023-01-31T14:11:35.164738Z",
     "iopub.status.busy": "2023-01-31T14:11:35.163899Z",
     "iopub.status.idle": "2023-01-31T14:11:44.332161Z",
     "shell.execute_reply": "2023-01-31T14:11:44.331116Z"
    },
    "papermill": {
     "duration": 9.198485,
     "end_time": "2023-01-31T14:11:44.334641",
     "exception": false,
     "start_time": "2023-01-31T14:11:35.136156",
     "status": "completed"
    },
    "tags": []
   },
   "outputs": [],
   "source": [
    "import pandas as pd\n",
    "import numpy as np\n",
    "import seaborn as sns\n",
    "from scipy import stats \n",
    "import matplotlib.pyplot as plt\n",
    "import time\n",
    "import warnings\n",
    "warnings.filterwarnings('ignore')\n",
    "from sklearn.model_selection import train_test_split, RandomizedSearchCV\n",
    "from sklearn.preprocessing import MinMaxScaler\n",
    "\n",
    "from sklearn.metrics import (\n",
    "    accuracy_score, confusion_matrix, classification_report, \n",
    "    roc_auc_score, roc_curve, auc\n",
    ")\n",
    "from sklearn.metrics import ConfusionMatrixDisplay, RocCurveDisplay\n",
    "\n",
    "from sklearn.ensemble import RandomForestClassifier\n",
    "\n",
    "pd.set_option('display.float', '{:.2f}'.format)\n",
    "pd.set_option('display.max_columns', 50)\n",
    "pd.set_option('display.max_rows', 50)"
   ]
  },
  {
   "cell_type": "markdown",
   "id": "5b9edb3f",
   "metadata": {},
   "source": [
    "## 🔖 Hopsworks Feature Store"
   ]
  },
  {
   "cell_type": "code",
   "execution_count": 4,
   "id": "4a36d859",
   "metadata": {},
   "outputs": [
    {
     "name": "stdout",
     "output_type": "stream",
     "text": [
      "Connected. Call `.close()` to terminate connection gracefully.\n",
      "\n",
      "Logged in to project, explore it here https://c.app.hopsworks.ai:443/p/398\n"
     ]
    },
    {
     "name": "stderr",
     "output_type": "stream",
     "text": [
      "DeprecationWarning: the imp module is deprecated in favour of importlib; see the module's documentation for alternative uses\n"
     ]
    },
    {
     "name": "stdout",
     "output_type": "stream",
     "text": [
      "Connected. Call `.close()` to terminate connection gracefully.\n"
     ]
    }
   ],
   "source": [
    "import hopsworks\n",
    "\n",
    "proj = hopsworks.login()\n",
    "fs = proj.get_feature_store()"
   ]
  },
  {
   "cell_type": "markdown",
   "id": "9dde0a81",
   "metadata": {
    "papermill": {
     "duration": 0.158827,
     "end_time": "2023-01-31T14:13:11.421049",
     "exception": false,
     "start_time": "2023-01-31T14:13:11.262222",
     "status": "completed"
    },
    "tags": []
   },
   "source": [
    "## Create the Feature View"
   ]
  },
  {
   "cell_type": "code",
   "execution_count": 5,
   "id": "fc541a8a",
   "metadata": {},
   "outputs": [],
   "source": [
    "fg_loans = fs.get_feature_group(name=\"loans\", version=1)\n",
    "fg_applicants = fs.get_feature_group(name=\"applicants\", version=1)\n",
    "\n",
    "query = fg_loans.select_except([\"id\", \"issue_d\"]).join(\\\n",
    "            fg_applicants.select_except([\"earliest_cr_line\", \"earliest_cr_line_year\", \"id\"]))"
   ]
  },
  {
   "cell_type": "code",
   "execution_count": 6,
   "id": "26d001a5",
   "metadata": {},
   "outputs": [
    {
     "name": "stdout",
     "output_type": "stream",
     "text": [
      "Feature view created successfully, explore it at \n",
      "https://c.app.hopsworks.ai:443/p/398/fs/335/fv/loans_approvals/version/2\n"
     ]
    }
   ],
   "source": [
    "fv_version=1\n",
    "try:\n",
    "    fv = fs.get_feature_view(name=\"loans_approvals\", version=fv_version)\n",
    "except:\n",
    "    fv = fs.create_feature_view(name=\"loans_approvals\", \n",
    "                       version=fv_version,\n",
    "                        description=\"Loan applicant data\",\n",
    "                        labels=[\"loan_status\"],\n",
    "                        query=query\n",
    "                       )"
   ]
  },
  {
   "cell_type": "code",
   "execution_count": 7,
   "id": "18ae1976",
   "metadata": {},
   "outputs": [
    {
     "name": "stdout",
     "output_type": "stream",
     "text": [
      "2023-05-08 22:47:53,294 INFO: USE `dowlingj_featurestore`\n",
      "2023-05-08 22:47:54,019 INFO: WITH right_fg0 AS (SELECT *\n",
      "FROM (SELECT `fg1`.`loan_amnt` `loan_amnt`, `fg1`.`term` `term`, `fg1`.`int_rate` `int_rate`, `fg1`.`installment` `installment`, `fg1`.`sub_grade` `sub_grade`, `fg1`.`loan_status` `loan_status`, `fg1`.`purpose` `purpose`, `fg1`.`zip_code` `zip_code`, `fg1`.`id` `join_pk_id`, `fg1`.`issue_d` `join_evt_issue_d`, `fg0`.`home_ownership` `home_ownership`, `fg0`.`annual_inc` `annual_inc`, `fg0`.`verification_status` `verification_status`, `fg0`.`dti` `dti`, `fg0`.`open_acc` `open_acc`, `fg0`.`pub_rec` `pub_rec`, `fg0`.`revol_bal` `revol_bal`, `fg0`.`revol_util` `revol_util`, `fg0`.`total_acc` `total_acc`, `fg0`.`initial_list_status` `initial_list_status`, `fg0`.`application_type` `application_type`, `fg0`.`mort_acc` `mort_acc`, `fg0`.`pub_rec_bankruptcies` `pub_rec_bankruptcies`, RANK() OVER (PARTITION BY `fg1`.`id`, `fg1`.`issue_d` ORDER BY `fg0`.`earliest_cr_line` DESC) pit_rank_hopsworks\n",
      "FROM `dowlingj_featurestore`.`loans_1` `fg1`\n",
      "INNER JOIN `dowlingj_featurestore`.`applicants_1` `fg0` ON `fg1`.`id` = `fg0`.`id` AND `fg1`.`issue_d` >= `fg0`.`earliest_cr_line`) NA\n",
      "WHERE `pit_rank_hopsworks` = 1) (SELECT `right_fg0`.`loan_amnt` `loan_amnt`, `right_fg0`.`term` `term`, `right_fg0`.`int_rate` `int_rate`, `right_fg0`.`installment` `installment`, `right_fg0`.`sub_grade` `sub_grade`, `right_fg0`.`loan_status` `loan_status`, `right_fg0`.`purpose` `purpose`, `right_fg0`.`zip_code` `zip_code`, `right_fg0`.`home_ownership` `home_ownership`, `right_fg0`.`annual_inc` `annual_inc`, `right_fg0`.`verification_status` `verification_status`, `right_fg0`.`dti` `dti`, `right_fg0`.`open_acc` `open_acc`, `right_fg0`.`pub_rec` `pub_rec`, `right_fg0`.`revol_bal` `revol_bal`, `right_fg0`.`revol_util` `revol_util`, `right_fg0`.`total_acc` `total_acc`, `right_fg0`.`initial_list_status` `initial_list_status`, `right_fg0`.`application_type` `application_type`, `right_fg0`.`mort_acc` `mort_acc`, `right_fg0`.`pub_rec_bankruptcies` `pub_rec_bankruptcies`\n",
      "FROM right_fg0)\n",
      "Get Random Split Training Data in 691.8793792724609 seconds ---\n"
     ]
    },
    {
     "name": "stderr",
     "output_type": "stream",
     "text": [
      "VersionWarning: Incremented version to `1`.\n"
     ]
    }
   ],
   "source": [
    "start_time = time.time()\n",
    "\n",
    "X_train, X_test, y_train, y_test = fv.train_test_split(test_size=0.2)\n",
    "\n",
    "print(\"Get Random Split Training Data in %s seconds ---\" % (time.time() - start_time))"
   ]
  },
  {
   "cell_type": "code",
   "execution_count": 23,
   "id": "c741e55c",
   "metadata": {},
   "outputs": [
    {
     "data": {
      "text/html": [
       "<div>\n",
       "<style scoped>\n",
       "    .dataframe tbody tr th:only-of-type {\n",
       "        vertical-align: middle;\n",
       "    }\n",
       "\n",
       "    .dataframe tbody tr th {\n",
       "        vertical-align: top;\n",
       "    }\n",
       "\n",
       "    .dataframe thead th {\n",
       "        text-align: right;\n",
       "    }\n",
       "</style>\n",
       "<table border=\"1\" class=\"dataframe\">\n",
       "  <thead>\n",
       "    <tr style=\"text-align: right;\">\n",
       "      <th></th>\n",
       "      <th>loan_amnt</th>\n",
       "      <th>term</th>\n",
       "      <th>int_rate</th>\n",
       "      <th>installment</th>\n",
       "      <th>sub_grade</th>\n",
       "      <th>purpose</th>\n",
       "      <th>zip_code</th>\n",
       "      <th>home_ownership</th>\n",
       "      <th>annual_inc</th>\n",
       "      <th>verification_status</th>\n",
       "      <th>dti</th>\n",
       "      <th>open_acc</th>\n",
       "      <th>pub_rec</th>\n",
       "      <th>revol_bal</th>\n",
       "      <th>revol_util</th>\n",
       "      <th>total_acc</th>\n",
       "      <th>initial_list_status</th>\n",
       "      <th>application_type</th>\n",
       "      <th>mort_acc</th>\n",
       "      <th>pub_rec_bankruptcies</th>\n",
       "    </tr>\n",
       "  </thead>\n",
       "  <tbody>\n",
       "    <tr>\n",
       "      <th>6</th>\n",
       "      <td>18000.00</td>\n",
       "      <td>36 months</td>\n",
       "      <td>5.32</td>\n",
       "      <td>542.07</td>\n",
       "      <td>A1</td>\n",
       "      <td>home_improvement</td>\n",
       "      <td>22690</td>\n",
       "      <td>MORTGAGE</td>\n",
       "      <td>125000.00</td>\n",
       "      <td>Source Verified</td>\n",
       "      <td>1.36</td>\n",
       "      <td>8.00</td>\n",
       "      <td>0</td>\n",
       "      <td>4178.00</td>\n",
       "      <td>4.90</td>\n",
       "      <td>25.00</td>\n",
       "      <td>f</td>\n",
       "      <td>INDIVIDUAL</td>\n",
       "      <td>3.00</td>\n",
       "      <td>0.00</td>\n",
       "    </tr>\n",
       "    <tr>\n",
       "      <th>8</th>\n",
       "      <td>18900.00</td>\n",
       "      <td>60 months</td>\n",
       "      <td>10.99</td>\n",
       "      <td>410.84</td>\n",
       "      <td>B3</td>\n",
       "      <td>debt_consolidation</td>\n",
       "      <td>22690</td>\n",
       "      <td>RENT</td>\n",
       "      <td>103000.00</td>\n",
       "      <td>Verified</td>\n",
       "      <td>12.52</td>\n",
       "      <td>13.00</td>\n",
       "      <td>0</td>\n",
       "      <td>18637.00</td>\n",
       "      <td>32.90</td>\n",
       "      <td>40.00</td>\n",
       "      <td>w</td>\n",
       "      <td>INDIVIDUAL</td>\n",
       "      <td>3.00</td>\n",
       "      <td>0.00</td>\n",
       "    </tr>\n",
       "    <tr>\n",
       "      <th>11</th>\n",
       "      <td>35000.00</td>\n",
       "      <td>36 months</td>\n",
       "      <td>14.64</td>\n",
       "      <td>1207.13</td>\n",
       "      <td>C3</td>\n",
       "      <td>credit_card</td>\n",
       "      <td>0</td>\n",
       "      <td>MORTGAGE</td>\n",
       "      <td>130000.00</td>\n",
       "      <td>Verified</td>\n",
       "      <td>12.19</td>\n",
       "      <td>30.00</td>\n",
       "      <td>0</td>\n",
       "      <td>81263.00</td>\n",
       "      <td>18.70</td>\n",
       "      <td>61.00</td>\n",
       "      <td>w</td>\n",
       "      <td>INDIVIDUAL</td>\n",
       "      <td>4.00</td>\n",
       "      <td>0.00</td>\n",
       "    </tr>\n",
       "    <tr>\n",
       "      <th>13</th>\n",
       "      <td>35000.00</td>\n",
       "      <td>60 months</td>\n",
       "      <td>12.29</td>\n",
       "      <td>783.70</td>\n",
       "      <td>C1</td>\n",
       "      <td>debt_consolidation</td>\n",
       "      <td>29597</td>\n",
       "      <td>MORTGAGE</td>\n",
       "      <td>157000.00</td>\n",
       "      <td>Verified</td>\n",
       "      <td>29.39</td>\n",
       "      <td>17.00</td>\n",
       "      <td>0</td>\n",
       "      <td>113091.00</td>\n",
       "      <td>94.90</td>\n",
       "      <td>27.00</td>\n",
       "      <td>w</td>\n",
       "      <td>INDIVIDUAL</td>\n",
       "      <td>2.00</td>\n",
       "      <td>0.00</td>\n",
       "    </tr>\n",
       "    <tr>\n",
       "      <th>21</th>\n",
       "      <td>7350.00</td>\n",
       "      <td>36 months</td>\n",
       "      <td>13.11</td>\n",
       "      <td>248.05</td>\n",
       "      <td>B4</td>\n",
       "      <td>debt_consolidation</td>\n",
       "      <td>0</td>\n",
       "      <td>MORTGAGE</td>\n",
       "      <td>54800.00</td>\n",
       "      <td>Not Verified</td>\n",
       "      <td>7.47</td>\n",
       "      <td>10.00</td>\n",
       "      <td>0</td>\n",
       "      <td>3240.00</td>\n",
       "      <td>37.20</td>\n",
       "      <td>36.00</td>\n",
       "      <td>f</td>\n",
       "      <td>INDIVIDUAL</td>\n",
       "      <td>6.00</td>\n",
       "      <td>0.00</td>\n",
       "    </tr>\n",
       "    <tr>\n",
       "      <th>...</th>\n",
       "      <td>...</td>\n",
       "      <td>...</td>\n",
       "      <td>...</td>\n",
       "      <td>...</td>\n",
       "      <td>...</td>\n",
       "      <td>...</td>\n",
       "      <td>...</td>\n",
       "      <td>...</td>\n",
       "      <td>...</td>\n",
       "      <td>...</td>\n",
       "      <td>...</td>\n",
       "      <td>...</td>\n",
       "      <td>...</td>\n",
       "      <td>...</td>\n",
       "      <td>...</td>\n",
       "      <td>...</td>\n",
       "      <td>...</td>\n",
       "      <td>...</td>\n",
       "      <td>...</td>\n",
       "      <td>...</td>\n",
       "    </tr>\n",
       "    <tr>\n",
       "      <th>395180</th>\n",
       "      <td>5600.00</td>\n",
       "      <td>36 months</td>\n",
       "      <td>9.63</td>\n",
       "      <td>179.73</td>\n",
       "      <td>B1</td>\n",
       "      <td>credit_card</td>\n",
       "      <td>29597</td>\n",
       "      <td>RENT</td>\n",
       "      <td>54000.00</td>\n",
       "      <td>Verified</td>\n",
       "      <td>6.84</td>\n",
       "      <td>9.00</td>\n",
       "      <td>0</td>\n",
       "      <td>2776.00</td>\n",
       "      <td>33.00</td>\n",
       "      <td>21.00</td>\n",
       "      <td>f</td>\n",
       "      <td>INDIVIDUAL</td>\n",
       "      <td>2.00</td>\n",
       "      <td>0.00</td>\n",
       "    </tr>\n",
       "    <tr>\n",
       "      <th>395191</th>\n",
       "      <td>17500.00</td>\n",
       "      <td>36 months</td>\n",
       "      <td>13.66</td>\n",
       "      <td>595.23</td>\n",
       "      <td>C3</td>\n",
       "      <td>credit_card</td>\n",
       "      <td>70466</td>\n",
       "      <td>RENT</td>\n",
       "      <td>70000.00</td>\n",
       "      <td>Source Verified</td>\n",
       "      <td>19.08</td>\n",
       "      <td>22.00</td>\n",
       "      <td>0</td>\n",
       "      <td>16637.00</td>\n",
       "      <td>88.00</td>\n",
       "      <td>42.00</td>\n",
       "      <td>f</td>\n",
       "      <td>INDIVIDUAL</td>\n",
       "      <td>0.00</td>\n",
       "      <td>0.00</td>\n",
       "    </tr>\n",
       "    <tr>\n",
       "      <th>395192</th>\n",
       "      <td>12000.00</td>\n",
       "      <td>36 months</td>\n",
       "      <td>8.18</td>\n",
       "      <td>377.04</td>\n",
       "      <td>B1</td>\n",
       "      <td>debt_consolidation</td>\n",
       "      <td>48052</td>\n",
       "      <td>RENT</td>\n",
       "      <td>56000.00</td>\n",
       "      <td>Not Verified</td>\n",
       "      <td>28.82</td>\n",
       "      <td>13.00</td>\n",
       "      <td>0</td>\n",
       "      <td>6577.00</td>\n",
       "      <td>29.00</td>\n",
       "      <td>22.00</td>\n",
       "      <td>f</td>\n",
       "      <td>INDIVIDUAL</td>\n",
       "      <td>0.00</td>\n",
       "      <td>0.00</td>\n",
       "    </tr>\n",
       "    <tr>\n",
       "      <th>395194</th>\n",
       "      <td>33425.00</td>\n",
       "      <td>60 months</td>\n",
       "      <td>17.57</td>\n",
       "      <td>840.98</td>\n",
       "      <td>D4</td>\n",
       "      <td>debt_consolidation</td>\n",
       "      <td>30723</td>\n",
       "      <td>MORTGAGE</td>\n",
       "      <td>75000.00</td>\n",
       "      <td>Source Verified</td>\n",
       "      <td>15.78</td>\n",
       "      <td>8.00</td>\n",
       "      <td>0</td>\n",
       "      <td>16632.00</td>\n",
       "      <td>56.40</td>\n",
       "      <td>23.00</td>\n",
       "      <td>w</td>\n",
       "      <td>INDIVIDUAL</td>\n",
       "      <td>3.00</td>\n",
       "      <td>0.00</td>\n",
       "    </tr>\n",
       "    <tr>\n",
       "      <th>395207</th>\n",
       "      <td>15000.00</td>\n",
       "      <td>36 months</td>\n",
       "      <td>9.67</td>\n",
       "      <td>481.69</td>\n",
       "      <td>B1</td>\n",
       "      <td>credit_card</td>\n",
       "      <td>29597</td>\n",
       "      <td>MORTGAGE</td>\n",
       "      <td>118450.00</td>\n",
       "      <td>Source Verified</td>\n",
       "      <td>11.22</td>\n",
       "      <td>10.00</td>\n",
       "      <td>0</td>\n",
       "      <td>22435.00</td>\n",
       "      <td>91.90</td>\n",
       "      <td>21.00</td>\n",
       "      <td>f</td>\n",
       "      <td>INDIVIDUAL</td>\n",
       "      <td>4.00</td>\n",
       "      <td>0.00</td>\n",
       "    </tr>\n",
       "  </tbody>\n",
       "</table>\n",
       "<p>79044 rows × 20 columns</p>\n",
       "</div>"
      ],
      "text/plain": [
       "        loan_amnt        term  int_rate  installment sub_grade  \\\n",
       "6        18000.00   36 months      5.32       542.07        A1   \n",
       "8        18900.00   60 months     10.99       410.84        B3   \n",
       "11       35000.00   36 months     14.64      1207.13        C3   \n",
       "13       35000.00   60 months     12.29       783.70        C1   \n",
       "21        7350.00   36 months     13.11       248.05        B4   \n",
       "...           ...         ...       ...          ...       ...   \n",
       "395180    5600.00   36 months      9.63       179.73        B1   \n",
       "395191   17500.00   36 months     13.66       595.23        C3   \n",
       "395192   12000.00   36 months      8.18       377.04        B1   \n",
       "395194   33425.00   60 months     17.57       840.98        D4   \n",
       "395207   15000.00   36 months      9.67       481.69        B1   \n",
       "\n",
       "                   purpose zip_code home_ownership  annual_inc  \\\n",
       "6         home_improvement    22690       MORTGAGE   125000.00   \n",
       "8       debt_consolidation    22690           RENT   103000.00   \n",
       "11             credit_card        0       MORTGAGE   130000.00   \n",
       "13      debt_consolidation    29597       MORTGAGE   157000.00   \n",
       "21      debt_consolidation        0       MORTGAGE    54800.00   \n",
       "...                    ...      ...            ...         ...   \n",
       "395180         credit_card    29597           RENT    54000.00   \n",
       "395191         credit_card    70466           RENT    70000.00   \n",
       "395192  debt_consolidation    48052           RENT    56000.00   \n",
       "395194  debt_consolidation    30723       MORTGAGE    75000.00   \n",
       "395207         credit_card    29597       MORTGAGE   118450.00   \n",
       "\n",
       "       verification_status   dti  open_acc  pub_rec  revol_bal  revol_util  \\\n",
       "6          Source Verified  1.36      8.00        0    4178.00        4.90   \n",
       "8                 Verified 12.52     13.00        0   18637.00       32.90   \n",
       "11                Verified 12.19     30.00        0   81263.00       18.70   \n",
       "13                Verified 29.39     17.00        0  113091.00       94.90   \n",
       "21            Not Verified  7.47     10.00        0    3240.00       37.20   \n",
       "...                    ...   ...       ...      ...        ...         ...   \n",
       "395180            Verified  6.84      9.00        0    2776.00       33.00   \n",
       "395191     Source Verified 19.08     22.00        0   16637.00       88.00   \n",
       "395192        Not Verified 28.82     13.00        0    6577.00       29.00   \n",
       "395194     Source Verified 15.78      8.00        0   16632.00       56.40   \n",
       "395207     Source Verified 11.22     10.00        0   22435.00       91.90   \n",
       "\n",
       "        total_acc initial_list_status application_type  mort_acc  \\\n",
       "6           25.00                   f       INDIVIDUAL      3.00   \n",
       "8           40.00                   w       INDIVIDUAL      3.00   \n",
       "11          61.00                   w       INDIVIDUAL      4.00   \n",
       "13          27.00                   w       INDIVIDUAL      2.00   \n",
       "21          36.00                   f       INDIVIDUAL      6.00   \n",
       "...           ...                 ...              ...       ...   \n",
       "395180      21.00                   f       INDIVIDUAL      2.00   \n",
       "395191      42.00                   f       INDIVIDUAL      0.00   \n",
       "395192      22.00                   f       INDIVIDUAL      0.00   \n",
       "395194      23.00                   w       INDIVIDUAL      3.00   \n",
       "395207      21.00                   f       INDIVIDUAL      4.00   \n",
       "\n",
       "        pub_rec_bankruptcies  \n",
       "6                       0.00  \n",
       "8                       0.00  \n",
       "11                      0.00  \n",
       "13                      0.00  \n",
       "21                      0.00  \n",
       "...                      ...  \n",
       "395180                  0.00  \n",
       "395191                  0.00  \n",
       "395192                  0.00  \n",
       "395194                  0.00  \n",
       "395207                  0.00  \n",
       "\n",
       "[79044 rows x 20 columns]"
      ]
     },
     "execution_count": 23,
     "metadata": {},
     "output_type": "execute_result"
    }
   ],
   "source": [
    "X_test"
   ]
  },
  {
   "cell_type": "code",
   "execution_count": 9,
   "id": "14822496",
   "metadata": {},
   "outputs": [
    {
     "data": {
      "text/html": [
       "<div>\n",
       "<style scoped>\n",
       "    .dataframe tbody tr th:only-of-type {\n",
       "        vertical-align: middle;\n",
       "    }\n",
       "\n",
       "    .dataframe tbody tr th {\n",
       "        vertical-align: top;\n",
       "    }\n",
       "\n",
       "    .dataframe thead th {\n",
       "        text-align: right;\n",
       "    }\n",
       "</style>\n",
       "<table border=\"1\" class=\"dataframe\">\n",
       "  <thead>\n",
       "    <tr style=\"text-align: right;\">\n",
       "      <th></th>\n",
       "      <th>loan_status</th>\n",
       "    </tr>\n",
       "  </thead>\n",
       "  <tbody>\n",
       "    <tr>\n",
       "      <th>0</th>\n",
       "      <td>Fully Paid</td>\n",
       "    </tr>\n",
       "    <tr>\n",
       "      <th>1</th>\n",
       "      <td>Fully Paid</td>\n",
       "    </tr>\n",
       "    <tr>\n",
       "      <th>2</th>\n",
       "      <td>Fully Paid</td>\n",
       "    </tr>\n",
       "    <tr>\n",
       "      <th>3</th>\n",
       "      <td>Fully Paid</td>\n",
       "    </tr>\n",
       "    <tr>\n",
       "      <th>4</th>\n",
       "      <td>Charged Off</td>\n",
       "    </tr>\n",
       "    <tr>\n",
       "      <th>...</th>\n",
       "      <td>...</td>\n",
       "    </tr>\n",
       "    <tr>\n",
       "      <th>395214</th>\n",
       "      <td>Fully Paid</td>\n",
       "    </tr>\n",
       "    <tr>\n",
       "      <th>395215</th>\n",
       "      <td>Fully Paid</td>\n",
       "    </tr>\n",
       "    <tr>\n",
       "      <th>395216</th>\n",
       "      <td>Fully Paid</td>\n",
       "    </tr>\n",
       "    <tr>\n",
       "      <th>395217</th>\n",
       "      <td>Fully Paid</td>\n",
       "    </tr>\n",
       "    <tr>\n",
       "      <th>395218</th>\n",
       "      <td>Fully Paid</td>\n",
       "    </tr>\n",
       "  </tbody>\n",
       "</table>\n",
       "<p>316175 rows × 1 columns</p>\n",
       "</div>"
      ],
      "text/plain": [
       "        loan_status\n",
       "0        Fully Paid\n",
       "1        Fully Paid\n",
       "2        Fully Paid\n",
       "3        Fully Paid\n",
       "4       Charged Off\n",
       "...             ...\n",
       "395214   Fully Paid\n",
       "395215   Fully Paid\n",
       "395216   Fully Paid\n",
       "395217   Fully Paid\n",
       "395218   Fully Paid\n",
       "\n",
       "[316175 rows x 1 columns]"
      ]
     },
     "execution_count": 9,
     "metadata": {},
     "output_type": "execute_result"
    }
   ],
   "source": [
    "y_train"
   ]
  },
  {
   "cell_type": "code",
   "execution_count": 10,
   "id": "a0ffed41",
   "metadata": {},
   "outputs": [
    {
     "name": "stdout",
     "output_type": "stream",
     "text": [
      "['loan_amnt', 'int_rate', 'installment', 'annual_inc', 'dti', 'open_acc', 'pub_rec', 'revol_bal', 'revol_util', 'total_acc', 'mort_acc', 'pub_rec_bankruptcies']\n",
      "['term', 'sub_grade', 'purpose', 'zip_code', 'home_ownership', 'verification_status', 'initial_list_status', 'application_type']\n"
     ]
    }
   ],
   "source": [
    "# Map features to transformation functions.\n",
    "categorical_features = []\n",
    "numeric_features = []\n",
    "for col in X_train.columns:\n",
    "    if X_train[col].dtype == object:\n",
    "        categorical_features.append(col)\n",
    "    else:\n",
    "        numeric_features.append(col)\n",
    "\n",
    "print(numeric_features)\n",
    "print(categorical_features)"
   ]
  },
  {
   "cell_type": "code",
   "execution_count": 11,
   "id": "4ce22342",
   "metadata": {},
   "outputs": [],
   "source": [
    "# # Map features to transformation functions.\n",
    "# categorical_feature_ids = []\n",
    "# numeric_feature_ids = []\n",
    "# idx=0\n",
    "# for col in X_train.columns:\n",
    "#     if X_train[col].dtype == object:\n",
    "#         categorical_feature_ids.append(idx)\n",
    "#     else:\n",
    "#         numeric_feature_ids.append(idx)\n",
    "#     idx += 1\n",
    "\n",
    "# print(categorical_feature_ids)\n",
    "# print(numeric_feature_ids)"
   ]
  },
  {
   "cell_type": "code",
   "execution_count": 12,
   "id": "2319b999",
   "metadata": {},
   "outputs": [],
   "source": [
    "import numpy as np\n",
    "\n",
    "from sklearn.compose import ColumnTransformer\n",
    "from sklearn.pipeline import Pipeline\n",
    "from sklearn.impute import SimpleImputer\n",
    "from sklearn.preprocessing import StandardScaler, OneHotEncoder, LabelEncoder\n",
    "from sklearn.feature_selection import SelectPercentile, chi2\n",
    "\n",
    "numeric_transformer = Pipeline(\n",
    "    steps=[(\"imputer\", SimpleImputer(strategy=\"median\")), (\"scaler\", StandardScaler())]\n",
    ")\n",
    "\n",
    "categorical_transformer = Pipeline(\n",
    "    steps=[\n",
    "        (\"encoder\", OneHotEncoder(handle_unknown=\"ignore\")),\n",
    "        (\"selector\", SelectPercentile(chi2, percentile=50)),\n",
    "    ]\n",
    ")\n",
    "\n",
    "# Here, we are passing the column names to the ColumnTransformer \n",
    "# in 'numeric_features' and 'categorical_features'\n",
    "# This means in inference, we also have to pass the names of the columns - you can only do this with a\n",
    "# Pandas DataFrame. So, that means in online inference, you have to create a Pandas DataFrame to make\n",
    "# the feature vector. If that is too slow, you should use \"ids\" here, instead of names, then you can use\n",
    "# a numpy array instead of a Pandas DataFrame in online inference\n",
    "# https://stackoverflow.com/questions/71715754/valueerror-specifying-the-columns-using-strings-is-only-supported-for-pandas-da\n",
    "preprocessor = ColumnTransformer(\n",
    "    transformers=[\n",
    "        (\"num\", numeric_transformer, numeric_features),\n",
    "        (\"cat\", categorical_transformer, categorical_features),\n",
    "    ]\n",
    ")"
   ]
  },
  {
   "cell_type": "code",
   "execution_count": 13,
   "id": "3c83f66d",
   "metadata": {},
   "outputs": [],
   "source": [
    "y_train['loan_status'] = y_train.loan_status.map({'Fully Paid':1, 'Charged Off':0})\n",
    "y_test['loan_status'] = y_test.loan_status.map({'Fully Paid':1, 'Charged Off':0})"
   ]
  },
  {
   "cell_type": "code",
   "execution_count": 14,
   "id": "eeaa534d",
   "metadata": {},
   "outputs": [
    {
     "data": {
      "text/html": [
       "<div>\n",
       "<style scoped>\n",
       "    .dataframe tbody tr th:only-of-type {\n",
       "        vertical-align: middle;\n",
       "    }\n",
       "\n",
       "    .dataframe tbody tr th {\n",
       "        vertical-align: top;\n",
       "    }\n",
       "\n",
       "    .dataframe thead th {\n",
       "        text-align: right;\n",
       "    }\n",
       "</style>\n",
       "<table border=\"1\" class=\"dataframe\">\n",
       "  <thead>\n",
       "    <tr style=\"text-align: right;\">\n",
       "      <th></th>\n",
       "      <th>loan_status</th>\n",
       "    </tr>\n",
       "  </thead>\n",
       "  <tbody>\n",
       "    <tr>\n",
       "      <th>0</th>\n",
       "      <td>1</td>\n",
       "    </tr>\n",
       "    <tr>\n",
       "      <th>1</th>\n",
       "      <td>1</td>\n",
       "    </tr>\n",
       "    <tr>\n",
       "      <th>2</th>\n",
       "      <td>1</td>\n",
       "    </tr>\n",
       "    <tr>\n",
       "      <th>3</th>\n",
       "      <td>1</td>\n",
       "    </tr>\n",
       "    <tr>\n",
       "      <th>4</th>\n",
       "      <td>0</td>\n",
       "    </tr>\n",
       "    <tr>\n",
       "      <th>...</th>\n",
       "      <td>...</td>\n",
       "    </tr>\n",
       "    <tr>\n",
       "      <th>395214</th>\n",
       "      <td>1</td>\n",
       "    </tr>\n",
       "    <tr>\n",
       "      <th>395215</th>\n",
       "      <td>1</td>\n",
       "    </tr>\n",
       "    <tr>\n",
       "      <th>395216</th>\n",
       "      <td>1</td>\n",
       "    </tr>\n",
       "    <tr>\n",
       "      <th>395217</th>\n",
       "      <td>1</td>\n",
       "    </tr>\n",
       "    <tr>\n",
       "      <th>395218</th>\n",
       "      <td>1</td>\n",
       "    </tr>\n",
       "  </tbody>\n",
       "</table>\n",
       "<p>316175 rows × 1 columns</p>\n",
       "</div>"
      ],
      "text/plain": [
       "        loan_status\n",
       "0                 1\n",
       "1                 1\n",
       "2                 1\n",
       "3                 1\n",
       "4                 0\n",
       "...             ...\n",
       "395214            1\n",
       "395215            1\n",
       "395216            1\n",
       "395217            1\n",
       "395218            1\n",
       "\n",
       "[316175 rows x 1 columns]"
      ]
     },
     "execution_count": 14,
     "metadata": {},
     "output_type": "execute_result"
    }
   ],
   "source": [
    "y_train"
   ]
  },
  {
   "cell_type": "markdown",
   "id": "64ddcb0d",
   "metadata": {
    "papermill": {
     "duration": 0.162943,
     "end_time": "2023-01-31T14:13:13.083170",
     "exception": false,
     "start_time": "2023-01-31T14:13:12.920227",
     "status": "completed"
    },
    "tags": []
   },
   "source": [
    "# 🤖 Models Building"
   ]
  },
  {
   "cell_type": "code",
   "execution_count": 15,
   "id": "47a8291a",
   "metadata": {
    "execution": {
     "iopub.execute_input": "2023-01-31T14:13:13.702918Z",
     "iopub.status.busy": "2023-01-31T14:13:13.702551Z",
     "iopub.status.idle": "2023-01-31T14:13:13.709718Z",
     "shell.execute_reply": "2023-01-31T14:13:13.708705Z"
    },
    "papermill": {
     "duration": 0.176326,
     "end_time": "2023-01-31T14:13:13.711748",
     "exception": false,
     "start_time": "2023-01-31T14:13:13.535422",
     "status": "completed"
    },
    "tags": []
   },
   "outputs": [],
   "source": [
    "def print_score(true, pred, train=True):\n",
    "    if train:\n",
    "        clf_report = pd.DataFrame(classification_report(true, pred, output_dict=True))\n",
    "        print(\"Train Result:\\n================================================\")\n",
    "        print(f\"Accuracy Score: {accuracy_score(true, pred) * 100:.2f}%\")\n",
    "        print(\"_______________________________________________\")\n",
    "        print(f\"CLASSIFICATION REPORT:\\n{clf_report}\")\n",
    "        print(\"_______________________________________________\")\n",
    "        print(f\"Confusion Matrix: \\n {confusion_matrix(true, pred)}\\n\")\n",
    "        \n",
    "    elif train==False:\n",
    "        clf_report = pd.DataFrame(classification_report(true, pred, output_dict=True))\n",
    "        print(\"Test Result:\\n================================================\")        \n",
    "        print(f\"Accuracy Score: {accuracy_score(true, pred) * 100:.2f}%\")\n",
    "        print(\"_______________________________________________\")\n",
    "        print(f\"CLASSIFICATION REPORT:\\n{clf_report}\")\n",
    "        print(\"_______________________________________________\")\n",
    "        print(f\"Confusion Matrix: \\n {confusion_matrix(true, pred)}\\n\")"
   ]
  },
  {
   "cell_type": "code",
   "execution_count": 16,
   "id": "9af753fe",
   "metadata": {},
   "outputs": [
    {
     "data": {
      "text/html": [
       "<style>#sk-container-id-1 {color: black;background-color: white;}#sk-container-id-1 pre{padding: 0;}#sk-container-id-1 div.sk-toggleable {background-color: white;}#sk-container-id-1 label.sk-toggleable__label {cursor: pointer;display: block;width: 100%;margin-bottom: 0;padding: 0.3em;box-sizing: border-box;text-align: center;}#sk-container-id-1 label.sk-toggleable__label-arrow:before {content: \"▸\";float: left;margin-right: 0.25em;color: #696969;}#sk-container-id-1 label.sk-toggleable__label-arrow:hover:before {color: black;}#sk-container-id-1 div.sk-estimator:hover label.sk-toggleable__label-arrow:before {color: black;}#sk-container-id-1 div.sk-toggleable__content {max-height: 0;max-width: 0;overflow: hidden;text-align: left;background-color: #f0f8ff;}#sk-container-id-1 div.sk-toggleable__content pre {margin: 0.2em;color: black;border-radius: 0.25em;background-color: #f0f8ff;}#sk-container-id-1 input.sk-toggleable__control:checked~div.sk-toggleable__content {max-height: 200px;max-width: 100%;overflow: auto;}#sk-container-id-1 input.sk-toggleable__control:checked~label.sk-toggleable__label-arrow:before {content: \"▾\";}#sk-container-id-1 div.sk-estimator input.sk-toggleable__control:checked~label.sk-toggleable__label {background-color: #d4ebff;}#sk-container-id-1 div.sk-label input.sk-toggleable__control:checked~label.sk-toggleable__label {background-color: #d4ebff;}#sk-container-id-1 input.sk-hidden--visually {border: 0;clip: rect(1px 1px 1px 1px);clip: rect(1px, 1px, 1px, 1px);height: 1px;margin: -1px;overflow: hidden;padding: 0;position: absolute;width: 1px;}#sk-container-id-1 div.sk-estimator {font-family: monospace;background-color: #f0f8ff;border: 1px dotted black;border-radius: 0.25em;box-sizing: border-box;margin-bottom: 0.5em;}#sk-container-id-1 div.sk-estimator:hover {background-color: #d4ebff;}#sk-container-id-1 div.sk-parallel-item::after {content: \"\";width: 100%;border-bottom: 1px solid gray;flex-grow: 1;}#sk-container-id-1 div.sk-label:hover label.sk-toggleable__label {background-color: #d4ebff;}#sk-container-id-1 div.sk-serial::before {content: \"\";position: absolute;border-left: 1px solid gray;box-sizing: border-box;top: 0;bottom: 0;left: 50%;z-index: 0;}#sk-container-id-1 div.sk-serial {display: flex;flex-direction: column;align-items: center;background-color: white;padding-right: 0.2em;padding-left: 0.2em;position: relative;}#sk-container-id-1 div.sk-item {position: relative;z-index: 1;}#sk-container-id-1 div.sk-parallel {display: flex;align-items: stretch;justify-content: center;background-color: white;position: relative;}#sk-container-id-1 div.sk-item::before, #sk-container-id-1 div.sk-parallel-item::before {content: \"\";position: absolute;border-left: 1px solid gray;box-sizing: border-box;top: 0;bottom: 0;left: 50%;z-index: -1;}#sk-container-id-1 div.sk-parallel-item {display: flex;flex-direction: column;z-index: 1;position: relative;background-color: white;}#sk-container-id-1 div.sk-parallel-item:first-child::after {align-self: flex-end;width: 50%;}#sk-container-id-1 div.sk-parallel-item:last-child::after {align-self: flex-start;width: 50%;}#sk-container-id-1 div.sk-parallel-item:only-child::after {width: 0;}#sk-container-id-1 div.sk-dashed-wrapped {border: 1px dashed gray;margin: 0 0.4em 0.5em 0.4em;box-sizing: border-box;padding-bottom: 0.4em;background-color: white;}#sk-container-id-1 div.sk-label label {font-family: monospace;font-weight: bold;display: inline-block;line-height: 1.2em;}#sk-container-id-1 div.sk-label-container {text-align: center;}#sk-container-id-1 div.sk-container {/* jupyter's `normalize.less` sets `[hidden] { display: none; }` but bootstrap.min.css set `[hidden] { display: none !important; }` so we also need the `!important` here to be able to override the default hidden behavior on the sphinx rendered scikit-learn.org. See: https://github.com/scikit-learn/scikit-learn/issues/21755 */display: inline-block !important;position: relative;}#sk-container-id-1 div.sk-text-repr-fallback {display: none;}</style><div id=\"sk-container-id-1\" class=\"sk-top-container\"><div class=\"sk-text-repr-fallback\"><pre>Pipeline(steps=[(&#x27;preprocessor&#x27;,\n",
       "                 ColumnTransformer(transformers=[(&#x27;num&#x27;,\n",
       "                                                  Pipeline(steps=[(&#x27;imputer&#x27;,\n",
       "                                                                   SimpleImputer(strategy=&#x27;median&#x27;)),\n",
       "                                                                  (&#x27;scaler&#x27;,\n",
       "                                                                   StandardScaler())]),\n",
       "                                                  [&#x27;loan_amnt&#x27;, &#x27;int_rate&#x27;,\n",
       "                                                   &#x27;installment&#x27;, &#x27;annual_inc&#x27;,\n",
       "                                                   &#x27;dti&#x27;, &#x27;open_acc&#x27;, &#x27;pub_rec&#x27;,\n",
       "                                                   &#x27;revol_bal&#x27;, &#x27;revol_util&#x27;,\n",
       "                                                   &#x27;total_acc&#x27;, &#x27;mort_acc&#x27;,\n",
       "                                                   &#x27;pub_rec_bankruptcies&#x27;]),\n",
       "                                                 (&#x27;cat&#x27;,\n",
       "                                                  Pipeline(steps=[(&#x27;encoder&#x27;,\n",
       "                                                                   OneHotEncoder(handle_unknown=&#x27;ignore&#x27;)),\n",
       "                                                                  (&#x27;selector&#x27;,\n",
       "                                                                   SelectPercentile(percentile=50,\n",
       "                                                                                    score_func=&lt;function chi2 at 0x7fb416dd8b80&gt;))]),\n",
       "                                                  [&#x27;term&#x27;, &#x27;sub_grade&#x27;,\n",
       "                                                   &#x27;purpose&#x27;, &#x27;zip_code&#x27;,\n",
       "                                                   &#x27;home_ownership&#x27;,\n",
       "                                                   &#x27;verification_status&#x27;,\n",
       "                                                   &#x27;initial_list_status&#x27;,\n",
       "                                                   &#x27;application_type&#x27;])])),\n",
       "                (&#x27;classifier&#x27;, LogisticRegression())])</pre><b>In a Jupyter environment, please rerun this cell to show the HTML representation or trust the notebook. <br />On GitHub, the HTML representation is unable to render, please try loading this page with nbviewer.org.</b></div><div class=\"sk-container\" hidden><div class=\"sk-item sk-dashed-wrapped\"><div class=\"sk-label-container\"><div class=\"sk-label sk-toggleable\"><input class=\"sk-toggleable__control sk-hidden--visually\" id=\"sk-estimator-id-1\" type=\"checkbox\" ><label for=\"sk-estimator-id-1\" class=\"sk-toggleable__label sk-toggleable__label-arrow\">Pipeline</label><div class=\"sk-toggleable__content\"><pre>Pipeline(steps=[(&#x27;preprocessor&#x27;,\n",
       "                 ColumnTransformer(transformers=[(&#x27;num&#x27;,\n",
       "                                                  Pipeline(steps=[(&#x27;imputer&#x27;,\n",
       "                                                                   SimpleImputer(strategy=&#x27;median&#x27;)),\n",
       "                                                                  (&#x27;scaler&#x27;,\n",
       "                                                                   StandardScaler())]),\n",
       "                                                  [&#x27;loan_amnt&#x27;, &#x27;int_rate&#x27;,\n",
       "                                                   &#x27;installment&#x27;, &#x27;annual_inc&#x27;,\n",
       "                                                   &#x27;dti&#x27;, &#x27;open_acc&#x27;, &#x27;pub_rec&#x27;,\n",
       "                                                   &#x27;revol_bal&#x27;, &#x27;revol_util&#x27;,\n",
       "                                                   &#x27;total_acc&#x27;, &#x27;mort_acc&#x27;,\n",
       "                                                   &#x27;pub_rec_bankruptcies&#x27;]),\n",
       "                                                 (&#x27;cat&#x27;,\n",
       "                                                  Pipeline(steps=[(&#x27;encoder&#x27;,\n",
       "                                                                   OneHotEncoder(handle_unknown=&#x27;ignore&#x27;)),\n",
       "                                                                  (&#x27;selector&#x27;,\n",
       "                                                                   SelectPercentile(percentile=50,\n",
       "                                                                                    score_func=&lt;function chi2 at 0x7fb416dd8b80&gt;))]),\n",
       "                                                  [&#x27;term&#x27;, &#x27;sub_grade&#x27;,\n",
       "                                                   &#x27;purpose&#x27;, &#x27;zip_code&#x27;,\n",
       "                                                   &#x27;home_ownership&#x27;,\n",
       "                                                   &#x27;verification_status&#x27;,\n",
       "                                                   &#x27;initial_list_status&#x27;,\n",
       "                                                   &#x27;application_type&#x27;])])),\n",
       "                (&#x27;classifier&#x27;, LogisticRegression())])</pre></div></div></div><div class=\"sk-serial\"><div class=\"sk-item sk-dashed-wrapped\"><div class=\"sk-label-container\"><div class=\"sk-label sk-toggleable\"><input class=\"sk-toggleable__control sk-hidden--visually\" id=\"sk-estimator-id-2\" type=\"checkbox\" ><label for=\"sk-estimator-id-2\" class=\"sk-toggleable__label sk-toggleable__label-arrow\">preprocessor: ColumnTransformer</label><div class=\"sk-toggleable__content\"><pre>ColumnTransformer(transformers=[(&#x27;num&#x27;,\n",
       "                                 Pipeline(steps=[(&#x27;imputer&#x27;,\n",
       "                                                  SimpleImputer(strategy=&#x27;median&#x27;)),\n",
       "                                                 (&#x27;scaler&#x27;, StandardScaler())]),\n",
       "                                 [&#x27;loan_amnt&#x27;, &#x27;int_rate&#x27;, &#x27;installment&#x27;,\n",
       "                                  &#x27;annual_inc&#x27;, &#x27;dti&#x27;, &#x27;open_acc&#x27;, &#x27;pub_rec&#x27;,\n",
       "                                  &#x27;revol_bal&#x27;, &#x27;revol_util&#x27;, &#x27;total_acc&#x27;,\n",
       "                                  &#x27;mort_acc&#x27;, &#x27;pub_rec_bankruptcies&#x27;]),\n",
       "                                (&#x27;cat&#x27;,\n",
       "                                 Pipeline(steps=[(&#x27;encoder&#x27;,\n",
       "                                                  OneHotEncoder(handle_unknown=&#x27;ignore&#x27;)),\n",
       "                                                 (&#x27;selector&#x27;,\n",
       "                                                  SelectPercentile(percentile=50,\n",
       "                                                                   score_func=&lt;function chi2 at 0x7fb416dd8b80&gt;))]),\n",
       "                                 [&#x27;term&#x27;, &#x27;sub_grade&#x27;, &#x27;purpose&#x27;, &#x27;zip_code&#x27;,\n",
       "                                  &#x27;home_ownership&#x27;, &#x27;verification_status&#x27;,\n",
       "                                  &#x27;initial_list_status&#x27;, &#x27;application_type&#x27;])])</pre></div></div></div><div class=\"sk-parallel\"><div class=\"sk-parallel-item\"><div class=\"sk-item\"><div class=\"sk-label-container\"><div class=\"sk-label sk-toggleable\"><input class=\"sk-toggleable__control sk-hidden--visually\" id=\"sk-estimator-id-3\" type=\"checkbox\" ><label for=\"sk-estimator-id-3\" class=\"sk-toggleable__label sk-toggleable__label-arrow\">num</label><div class=\"sk-toggleable__content\"><pre>[&#x27;loan_amnt&#x27;, &#x27;int_rate&#x27;, &#x27;installment&#x27;, &#x27;annual_inc&#x27;, &#x27;dti&#x27;, &#x27;open_acc&#x27;, &#x27;pub_rec&#x27;, &#x27;revol_bal&#x27;, &#x27;revol_util&#x27;, &#x27;total_acc&#x27;, &#x27;mort_acc&#x27;, &#x27;pub_rec_bankruptcies&#x27;]</pre></div></div></div><div class=\"sk-serial\"><div class=\"sk-item\"><div class=\"sk-serial\"><div class=\"sk-item\"><div class=\"sk-estimator sk-toggleable\"><input class=\"sk-toggleable__control sk-hidden--visually\" id=\"sk-estimator-id-4\" type=\"checkbox\" ><label for=\"sk-estimator-id-4\" class=\"sk-toggleable__label sk-toggleable__label-arrow\">SimpleImputer</label><div class=\"sk-toggleable__content\"><pre>SimpleImputer(strategy=&#x27;median&#x27;)</pre></div></div></div><div class=\"sk-item\"><div class=\"sk-estimator sk-toggleable\"><input class=\"sk-toggleable__control sk-hidden--visually\" id=\"sk-estimator-id-5\" type=\"checkbox\" ><label for=\"sk-estimator-id-5\" class=\"sk-toggleable__label sk-toggleable__label-arrow\">StandardScaler</label><div class=\"sk-toggleable__content\"><pre>StandardScaler()</pre></div></div></div></div></div></div></div></div><div class=\"sk-parallel-item\"><div class=\"sk-item\"><div class=\"sk-label-container\"><div class=\"sk-label sk-toggleable\"><input class=\"sk-toggleable__control sk-hidden--visually\" id=\"sk-estimator-id-6\" type=\"checkbox\" ><label for=\"sk-estimator-id-6\" class=\"sk-toggleable__label sk-toggleable__label-arrow\">cat</label><div class=\"sk-toggleable__content\"><pre>[&#x27;term&#x27;, &#x27;sub_grade&#x27;, &#x27;purpose&#x27;, &#x27;zip_code&#x27;, &#x27;home_ownership&#x27;, &#x27;verification_status&#x27;, &#x27;initial_list_status&#x27;, &#x27;application_type&#x27;]</pre></div></div></div><div class=\"sk-serial\"><div class=\"sk-item\"><div class=\"sk-serial\"><div class=\"sk-item\"><div class=\"sk-estimator sk-toggleable\"><input class=\"sk-toggleable__control sk-hidden--visually\" id=\"sk-estimator-id-7\" type=\"checkbox\" ><label for=\"sk-estimator-id-7\" class=\"sk-toggleable__label sk-toggleable__label-arrow\">OneHotEncoder</label><div class=\"sk-toggleable__content\"><pre>OneHotEncoder(handle_unknown=&#x27;ignore&#x27;)</pre></div></div></div><div class=\"sk-item\"><div class=\"sk-estimator sk-toggleable\"><input class=\"sk-toggleable__control sk-hidden--visually\" id=\"sk-estimator-id-8\" type=\"checkbox\" ><label for=\"sk-estimator-id-8\" class=\"sk-toggleable__label sk-toggleable__label-arrow\">SelectPercentile</label><div class=\"sk-toggleable__content\"><pre>SelectPercentile(percentile=50, score_func=&lt;function chi2 at 0x7fb416dd8b80&gt;)</pre></div></div></div></div></div></div></div></div></div></div><div class=\"sk-item\"><div class=\"sk-estimator sk-toggleable\"><input class=\"sk-toggleable__control sk-hidden--visually\" id=\"sk-estimator-id-9\" type=\"checkbox\" ><label for=\"sk-estimator-id-9\" class=\"sk-toggleable__label sk-toggleable__label-arrow\">LogisticRegression</label><div class=\"sk-toggleable__content\"><pre>LogisticRegression()</pre></div></div></div></div></div></div></div>"
      ],
      "text/plain": [
       "Pipeline(steps=[('preprocessor',\n",
       "                 ColumnTransformer(transformers=[('num',\n",
       "                                                  Pipeline(steps=[('imputer',\n",
       "                                                                   SimpleImputer(strategy='median')),\n",
       "                                                                  ('scaler',\n",
       "                                                                   StandardScaler())]),\n",
       "                                                  ['loan_amnt', 'int_rate',\n",
       "                                                   'installment', 'annual_inc',\n",
       "                                                   'dti', 'open_acc', 'pub_rec',\n",
       "                                                   'revol_bal', 'revol_util',\n",
       "                                                   'total_acc', 'mort_acc',\n",
       "                                                   'pub_rec_bankruptcies']),\n",
       "                                                 ('cat',\n",
       "                                                  Pipeline(steps=[('encoder',\n",
       "                                                                   OneHotEncoder(handle_unknown='ignore')),\n",
       "                                                                  ('selector',\n",
       "                                                                   SelectPercentile(percentile=50,\n",
       "                                                                                    score_func=<function chi2 at 0x7fb416dd8b80>))]),\n",
       "                                                  ['term', 'sub_grade',\n",
       "                                                   'purpose', 'zip_code',\n",
       "                                                   'home_ownership',\n",
       "                                                   'verification_status',\n",
       "                                                   'initial_list_status',\n",
       "                                                   'application_type'])])),\n",
       "                ('classifier', LogisticRegression())])"
      ]
     },
     "execution_count": 16,
     "metadata": {},
     "output_type": "execute_result"
    }
   ],
   "source": [
    "from sklearn.linear_model import LogisticRegression\n",
    "\n",
    "clf = Pipeline(\n",
    "    steps=[(\"preprocessor\", preprocessor), (\"classifier\", LogisticRegression())]\n",
    ")\n",
    "\n",
    "clf.fit(X_train, y_train['loan_status'].ravel())\n"
   ]
  },
  {
   "cell_type": "code",
   "execution_count": 17,
   "id": "558157e2",
   "metadata": {},
   "outputs": [
    {
     "name": "stdout",
     "output_type": "stream",
     "text": [
      "Train Result:\n",
      "================================================\n",
      "Accuracy Score: 88.94%\n",
      "_______________________________________________\n",
      "CLASSIFICATION REPORT:\n",
      "                 0         1  accuracy  macro avg  weighted avg\n",
      "precision     0.95      0.88      0.89       0.92          0.90\n",
      "recall        0.46      0.99      0.89       0.73          0.89\n",
      "f1-score      0.62      0.94      0.89       0.78          0.87\n",
      "support   61878.00 254297.00      0.89  316175.00     316175.00\n",
      "_______________________________________________\n",
      "Confusion Matrix: \n",
      " [[ 28466  33412]\n",
      " [  1547 252750]]\n",
      "\n",
      "Test Result:\n",
      "================================================\n",
      "Accuracy Score: 88.72%\n",
      "_______________________________________________\n",
      "CLASSIFICATION REPORT:\n",
      "                 0        1  accuracy  macro avg  weighted avg\n",
      "precision     0.95     0.88      0.89       0.91          0.89\n",
      "recall        0.46     0.99      0.89       0.72          0.89\n",
      "f1-score      0.62     0.93      0.89       0.77          0.87\n",
      "support   15645.00 63399.00      0.89   79044.00      79044.00\n",
      "_______________________________________________\n",
      "Confusion Matrix: \n",
      " [[ 7137  8508]\n",
      " [  411 62988]]\n",
      "\n"
     ]
    }
   ],
   "source": [
    "y_train_pred = clf.predict(X_train)\n",
    "y_test_pred = clf.predict(X_test)\n",
    "\n",
    "print_score(y_train, y_train_pred, train=True)\n",
    "print_score(y_test, y_test_pred, train=False)"
   ]
  },
  {
   "cell_type": "code",
   "execution_count": 18,
   "id": "0221c340",
   "metadata": {
    "execution": {
     "iopub.execute_input": "2023-01-31T14:32:39.229358Z",
     "iopub.status.busy": "2023-01-31T14:32:39.229002Z",
     "iopub.status.idle": "2023-01-31T14:32:40.630885Z",
     "shell.execute_reply": "2023-01-31T14:32:40.629547Z"
    },
    "papermill": {
     "duration": 2.472623,
     "end_time": "2023-01-31T14:32:40.633694",
     "exception": false,
     "start_time": "2023-01-31T14:32:38.161071",
     "status": "completed"
    },
    "tags": []
   },
   "outputs": [
    {
     "data": {
      "text/plain": [
       "<sklearn.metrics._plot.roc_curve.RocCurveDisplay at 0x7fb42b947280>"
      ]
     },
     "execution_count": 18,
     "metadata": {},
     "output_type": "execute_result"
    },
    {
     "data": {
      "image/png": "[encoded data removed]",
      "text/plain": [
       "<Figure size 640x480 with 2 Axes>"
      ]
     },
     "metadata": {},
     "output_type": "display_data"
    },
    {
     "data": {
      "image/png": "[encoded data removed]",
      "text/plain": [
       "<Figure size 640x480 with 1 Axes>"
      ]
     },
     "metadata": {},
     "output_type": "display_data"
    },
    {
     "data": {
      "image/png": "[encoded data removed]",
      "text/plain": [
       "<Figure size 640x480 with 1 Axes>"
      ]
     },
     "metadata": {},
     "output_type": "display_data"
    }
   ],
   "source": [
    "disp = ConfusionMatrixDisplay.from_estimator(\n",
    "    clf, X_test, y_test, \n",
    "    cmap='Blues', values_format='d', \n",
    "    display_labels=['Default', 'Fully-Paid']\n",
    ")\n",
    "\n",
    "display = RocCurveDisplay.from_estimator(clf, X_test, y_test)\n",
    "display.plot()"
   ]
  },
  {
   "cell_type": "markdown",
   "id": "d2d59196",
   "metadata": {},
   "source": [
    "# ✔️ Register the Model with Model Registry"
   ]
  },
  {
   "cell_type": "code",
   "execution_count": 19,
   "id": "f6abb6d9",
   "metadata": {
    "papermill": {
     "duration": 1.025564,
     "end_time": "2023-01-31T14:35:05.140208",
     "exception": false,
     "start_time": "2023-01-31T14:35:04.114644",
     "status": "completed"
    },
    "tags": []
   },
   "outputs": [
    {
     "name": "stdout",
     "output_type": "stream",
     "text": [
      "Connected. Call `.close()` to terminate connection gracefully.\n"
     ]
    }
   ],
   "source": [
    "mr = proj.get_model_registry()"
   ]
  },
  {
   "cell_type": "code",
   "execution_count": 20,
   "id": "c980e883",
   "metadata": {},
   "outputs": [
    {
     "data": {
      "text/plain": [
       "<Figure size 640x480 with 0 Axes>"
      ]
     },
     "metadata": {},
     "output_type": "display_data"
    }
   ],
   "source": [
    "import joblib\n",
    "import os\n",
    "os.makedirs(\"lending_model/features\", exist_ok=True)\n",
    "plt.savefig('lending_model/roc_curve.png')\n",
    "joblib.dump(clf, 'lending_model/lending_model.pkl')\n",
    "\n",
    "accuracy = roc_auc_score(y_test, clf.predict(X_test))"
   ]
  },
  {
   "cell_type": "code",
   "execution_count": 21,
   "id": "c505aa34",
   "metadata": {},
   "outputs": [
    {
     "data": {
      "text/plain": [
       "0.7248506661390612"
      ]
     },
     "execution_count": 21,
     "metadata": {},
     "output_type": "execute_result"
    }
   ],
   "source": [
    "accuracy"
   ]
  },
  {
   "cell_type": "code",
   "execution_count": 22,
   "id": "9c1bee22",
   "metadata": {},
   "outputs": [
    {
     "data": {
      "application/vnd.jupyter.widget-view+json": {
       "model_id": "8a226470fdb54fe5bd0c4df6bb6384dc",
       "version_major": 2,
       "version_minor": 0
      },
      "text/plain": [
       "  0%|          | 0/6 [00:00<?, ?it/s]"
      ]
     },
     "metadata": {},
     "output_type": "display_data"
    },
    {
     "name": "stdout",
     "output_type": "stream",
     "text": [
      "Model created, explore it at https://c.app.hopsworks.ai:443/p/398/models/lending_model/9\n"
     ]
    },
    {
     "data": {
      "text/plain": [
       "Model(name: 'lending_model', version: 9)"
      ]
     },
     "execution_count": 22,
     "metadata": {},
     "output_type": "execute_result"
    }
   ],
   "source": [
    "from hsml.schema import Schema\n",
    "from hsml.model_schema import ModelSchema\n",
    "\n",
    "input_schema = Schema(X_test)\n",
    "output_schema = Schema(y_test)\n",
    "\n",
    "fraud_model = mr.sklearn.create_model(\"lending_model\",\n",
    "                                      metrics={'accuracy': accuracy},\n",
    "                                      input_example=X_test.sample().to_numpy(), \n",
    "                                      model_schema=ModelSchema(input_schema=input_schema, output_schema=output_schema))\n",
    "fraud_model.save('lending_model')"
   ]
  },
  {
   "cell_type": "code",
   "execution_count": null,
   "id": "8349d23f",
   "metadata": {},
   "outputs": [],
   "source": []
  },
  {
   "cell_type": "code",
   "execution_count": null,
   "id": "d94fef3a",
   "metadata": {},
   "outputs": [],
   "source": []
  }
 ],
 "metadata": {
  "kernelspec": {
   "display_name": "38",
   "language": "python",
   "name": "38"
  },
  "language_info": {
   "codemirror_mode": {
    "name": "ipython",
    "version": 3
   },
   "file_extension": ".py",
   "mimetype": "text/x-python",
   "name": "python",
   "nbconvert_exporter": "python",
   "pygments_lexer": "ipython3",
   "version": "3.8.13"
  },
  "papermill": {
   "default_parameters": {},
   "duration": 1434.559462,
   "end_time": "2023-01-31T14:35:09.548746",
   "environment_variables": {},
   "exception": null,
   "input_path": "__notebook__.ipynb",
   "output_path": "__notebook__.ipynb",
   "parameters": {},
   "start_time": "2023-01-31T14:11:14.989284",
   "version": "2.3.4"
  }
 },
 "nbformat": 4,
 "nbformat_minor": 5
}
