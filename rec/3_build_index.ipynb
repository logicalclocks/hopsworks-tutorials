{
 "cells": [
  {
   "cell_type": "markdown",
   "metadata": {},
   "source": [
    "## Build Index\n",
    "\n",
    "In this notebook we will build an index for our candidate embeddings. Here we will use OpenSearch, which is natively supported by Hopsworks."
   ]
  },
  {
   "cell_type": "markdown",
   "metadata": {},
   "source": [
    "### Compute Candidate Embeddings\n",
    "\n",
    "We start by computing candidate embeddings for all items in the training data.\n",
    "\n",
    "First, we load our candidate model. Recall that we uploaded it to the Hopsworks Model Registry in the previous notebook. If you don't have the model locally you can download it from the Model Registry using the following code:"
   ]
  },
  {
   "cell_type": "code",
   "execution_count": null,
   "metadata": {},
   "outputs": [],
   "source": [
    "# Uncomment this cell and fill in details if you are running external Python\n",
    "import os\n",
    "key=\"\"\n",
    "with open(\"api-key.txt\", \"r\") as f:\n",
    "    key = f.read().rstrip()\n",
    "os.environ['HOPSWORKS_PROJECT']=\"hm\"\n",
    "os.environ['HOPSWORKS_HOST']=\"35.240.81.237\"\n",
    "os.environ['HOPSWORKS_API_KEY']=key"
   ]
  },
  {
   "cell_type": "code",
   "execution_count": null,
   "metadata": {},
   "outputs": [],
   "source": [
    "import hopsworks\n",
    "project = hopsworks.login()\n",
    "mr = project.get_model_registry()"
   ]
  },
  {
   "cell_type": "code",
   "execution_count": 1,
   "metadata": {},
   "outputs": [
    {
     "name": "stdout",
     "output_type": "stream",
     "text": [
      "Connected. Call `.close()` to terminate connection gracefully.\n"
     ]
    },
    {
     "name": "stderr",
     "output_type": "stream",
     "text": [
      "VersionWarning: No version provided for getting model `candidate_model`, defaulting to `1`.\n"
     ]
    },
    {
     "name": "stdout",
     "output_type": "stream",
     "text": [
      "Downloading file ... "
     ]
    }
   ],
   "source": [
    "\n",
    "model = mr.get_model(\"candidate_model\")\n",
    "model_path = model.download()"
   ]
  },
  {
   "cell_type": "markdown",
   "metadata": {},
   "source": [
    "If you already have the model saved locally you can simply replace `model_path` with the path to your model."
   ]
  },
  {
   "cell_type": "code",
   "execution_count": 2,
   "metadata": {},
   "outputs": [
    {
     "name": "stderr",
     "output_type": "stream",
     "text": [
      "DeprecationWarning: `should_run_async` will not call `transform_cell` automatically in the future. Please pass the result to `transformed_cell` argument and any exception that happen during thetransform in `preprocessing_exc_tuple` in IPython 7.17 and above.\n"
     ]
    },
    {
     "name": "stdout",
     "output_type": "stream",
     "text": [
      "2022-06-07 12:53:35,112 WARNING: No training configuration found in save file, so the model was *not* compiled. Compile it manually.\n"
     ]
    }
   ],
   "source": [
    "import tensorflow as tf\n",
    "\n",
    "candidate_model = tf.keras.models.load_model(model_path)"
   ]
  },
  {
   "cell_type": "markdown",
   "metadata": {},
   "source": [
    "Next we compute the embeddings of all candidate items that were used to train the retrieval model."
   ]
  },
  {
   "cell_type": "code",
   "execution_count": 3,
   "metadata": {},
   "outputs": [
    {
     "name": "stdout",
     "output_type": "stream",
     "text": [
      "Connected. Call `.close()` to terminate connection gracefully.\n"
     ]
    },
    {
     "name": "stderr",
     "output_type": "stream",
     "text": [
      "VersionWarning: No version provided for getting training dataset `retrieval_1`, defaulting to `1`.\n",
      "FutureWarning: pyarrow.hdfs.HadoopFileSystem is deprecated as of 2.0.0, please use pyarrow.fs.HadoopFileSystem instead.\n",
      "SettingWithCopyWarning: \n",
      "A value is trying to be set on a copy of a slice from a DataFrame\n",
      "\n",
      "See the caveats in the documentation: https://pandas.pydata.org/pandas-docs/stable/user_guide/indexing.html#returning-a-view-versus-a-copy\n"
     ]
    }
   ],
   "source": [
    "import hsfs\n",
    "\n",
    "conn = hsfs.connection()\n",
    "fs = conn.get_feature_store()\n",
    "\n",
    "# Load training dataset.\n",
    "td = fs.get_training_dataset(\"retrieval_1\")\n",
    "train_df = td.read(\"train\")\n",
    "train_df[\"article_id\"] = train_df[\"article_id\"].astype(str)\n",
    "\n",
    "# Get list of input features for the candidate model.\n",
    "model_schema = model.model_schema['input_schema']['columnar_schema']\n",
    "candidate_features = [feat['name'] for feat in model_schema]\n",
    "\n",
    "# Get list of unique candidate items.\n",
    "item_df = train_df[candidate_features]\n",
    "item_df.drop_duplicates(subset=\"article_id\", inplace=True)\n",
    "\n",
    "item_ds = tf.data.Dataset.from_tensor_slices(\n",
    "    {col: item_df[col] for col in item_df})\n",
    "\n",
    "# Compute embeddings for all candidate items.\n",
    "candidate_embeddings = item_ds.batch(2048).map(\n",
    "    lambda x: (x[\"article_id\"], candidate_model(x)))"
   ]
  },
  {
   "cell_type": "markdown",
   "metadata": {},
   "source": [
    "(Strictly speaking, we haven't actually computed the candidate embeddings yet, as the dataset functions are lazily evaluated.)"
   ]
  },
  {
   "cell_type": "markdown",
   "metadata": {},
   "source": [
    "#### Index Embeddings\n",
    "\n",
    "Next we index these embeddings. We start by connecting to our project's OpenSearch client using the *hopsworks* library."
   ]
  },
  {
   "cell_type": "code",
   "execution_count": null,
   "metadata": {},
   "outputs": [],
   "source": [
    "import hopsworks\n",
    "from opensearchpy import OpenSearch\n",
    "\n",
    "connection = hopsworks.connection()\n",
    "project = connection.get_project()\n",
    "opensearch_api = project.get_opensearch_api()\n",
    "\n",
    "client = OpenSearch(**opensearch_api.get_default_py_config())"
   ]
  },
  {
   "cell_type": "markdown",
   "metadata": {},
   "source": [
    "We'll create an index called `candidate_index`."
   ]
  },
  {
   "cell_type": "code",
   "execution_count": null,
   "metadata": {},
   "outputs": [],
   "source": [
    "index_name = opensearch_api.get_project_index(\"candidate_index\")"
   ]
  },
  {
   "cell_type": "markdown",
   "metadata": {},
   "source": [
    "Here we use the HNSW (Hierarchical Navigable Small World) data structure, which can be thought of as a skip list for graphs.\n",
    "\n",
    "See the [OpenSearch documentation](https://opensearch.org/docs/latest/search-plugins/knn/knn-index) for more detailed information about parameters."
   ]
  },
  {
   "cell_type": "code",
   "execution_count": 6,
   "metadata": {},
   "outputs": [
    {
     "name": "stdout",
     "output_type": "stream",
     "text": [
      "2022-06-07 12:54:02,528 INFO: PUT https://10.132.0.40:9200/rec_candidate_index [status:200 request:0.184s]\n",
      "{'acknowledged': True, 'shards_acknowledged': True, 'index': 'rec_candidate_index'}\n"
     ]
    }
   ],
   "source": [
    "# Dimensionality of candidate embeddings.\n",
    "emb_dim = candidate_model.layers[-1].output.shape[-1]\n",
    "\n",
    "index_body = {\n",
    "    \"settings\": {\n",
    "        \"knn\": True,\n",
    "        \"knn.algo_param.ef_search\": 100,\n",
    "    },\n",
    "    \"mappings\": {\n",
    "        \"properties\": {\n",
    "            \"my_vector1\": {\n",
    "                \"type\": \"knn_vector\",\n",
    "                \"dimension\": emb_dim,\n",
    "                \"method\": {\n",
    "                    \"name\": \"hnsw\",\n",
    "                    \"space_type\": \"innerproduct\",\n",
    "                    \"engine\": \"faiss\",\n",
    "                    \"parameters\": {\n",
    "                        \"ef_construction\": 256,\n",
    "                        \"m\": 48\n",
    "                    }\n",
    "                }\n",
    "            }\n",
    "        }\n",
    "    }\n",
    "}\n",
    "\n",
    "response = client.indices.create(index_name, body=index_body)\n",
    "print(response)"
   ]
  },
  {
   "cell_type": "markdown",
   "metadata": {},
   "source": [
    "Now we can finally insert our candidate embeddings."
   ]
  },
  {
   "cell_type": "code",
   "execution_count": 7,
   "metadata": {},
   "outputs": [
    {
     "name": "stdout",
     "output_type": "stream",
     "text": [
      "2022-06-07 12:54:03,246 INFO: POST https://10.132.0.40:9200/_bulk [status:200 request:0.093s]\n",
      "2022-06-07 12:54:03,353 INFO: POST https://10.132.0.40:9200/_bulk [status:200 request:0.083s]\n",
      "2022-06-07 12:54:03,412 INFO: POST https://10.132.0.40:9200/_bulk [status:200 request:0.038s]\n",
      "2022-06-07 12:54:03,470 INFO: POST https://10.132.0.40:9200/_bulk [status:200 request:0.035s]\n",
      "2022-06-07 12:54:03,537 INFO: POST https://10.132.0.40:9200/_bulk [status:200 request:0.044s]\n",
      "2022-06-07 12:54:03,590 INFO: POST https://10.132.0.40:9200/_bulk [status:200 request:0.029s]\n",
      "2022-06-07 12:54:03,644 INFO: POST https://10.132.0.40:9200/_bulk [status:200 request:0.030s]\n",
      "2022-06-07 12:54:03,698 INFO: POST https://10.132.0.40:9200/_bulk [status:200 request:0.030s]\n",
      "2022-06-07 12:54:03,761 INFO: POST https://10.132.0.40:9200/_bulk [status:200 request:0.030s]\n",
      "2022-06-07 12:54:03,822 INFO: POST https://10.132.0.40:9200/_bulk [status:200 request:0.038s]\n",
      "2022-06-07 12:54:03,886 INFO: POST https://10.132.0.40:9200/_bulk [status:200 request:0.030s]\n",
      "2022-06-07 12:54:03,953 INFO: POST https://10.132.0.40:9200/_bulk [status:200 request:0.033s]\n",
      "2022-06-07 12:54:04,007 INFO: POST https://10.132.0.40:9200/_bulk [status:200 request:0.030s]\n",
      "2022-06-07 12:54:04,061 INFO: POST https://10.132.0.40:9200/_bulk [status:200 request:0.031s]\n",
      "2022-06-07 12:54:04,112 INFO: POST https://10.132.0.40:9200/_bulk [status:200 request:0.029s]\n",
      "2022-06-07 12:54:04,163 INFO: POST https://10.132.0.40:9200/_bulk [status:200 request:0.029s]\n",
      "2022-06-07 12:54:04,214 INFO: POST https://10.132.0.40:9200/_bulk [status:200 request:0.029s]\n",
      "2022-06-07 12:54:04,264 INFO: POST https://10.132.0.40:9200/_bulk [status:200 request:0.029s]\n",
      "2022-06-07 12:54:04,311 INFO: POST https://10.132.0.40:9200/_bulk [status:200 request:0.027s]\n",
      "2022-06-07 12:54:04,360 INFO: POST https://10.132.0.40:9200/_bulk [status:200 request:0.028s]\n",
      "2022-06-07 12:54:04,409 INFO: POST https://10.132.0.40:9200/_bulk [status:200 request:0.027s]\n",
      "2022-06-07 12:54:04,456 INFO: POST https://10.132.0.40:9200/_bulk [status:200 request:0.026s]\n",
      "2022-06-07 12:54:04,511 INFO: POST https://10.132.0.40:9200/_bulk [status:200 request:0.030s]\n",
      "2022-06-07 12:54:04,557 INFO: POST https://10.132.0.40:9200/_bulk [status:200 request:0.027s]\n",
      "2022-06-07 12:54:04,606 INFO: POST https://10.132.0.40:9200/_bulk [status:200 request:0.028s]\n",
      "2022-06-07 12:54:04,656 INFO: POST https://10.132.0.40:9200/_bulk [status:200 request:0.028s]\n",
      "2022-06-07 12:54:04,711 INFO: POST https://10.132.0.40:9200/_bulk [status:200 request:0.035s]\n",
      "2022-06-07 12:54:04,768 INFO: POST https://10.132.0.40:9200/_bulk [status:200 request:0.036s]\n",
      "2022-06-07 12:54:04,815 INFO: POST https://10.132.0.40:9200/_bulk [status:200 request:0.027s]\n",
      "2022-06-07 12:54:04,863 INFO: POST https://10.132.0.40:9200/_bulk [status:200 request:0.027s]\n",
      "2022-06-07 12:54:04,912 INFO: POST https://10.132.0.40:9200/_bulk [status:200 request:0.028s]\n",
      "2022-06-07 12:54:04,964 INFO: POST https://10.132.0.40:9200/_bulk [status:200 request:0.028s]\n",
      "2022-06-07 12:54:05,011 INFO: POST https://10.132.0.40:9200/_bulk [status:200 request:0.026s]\n",
      "2022-06-07 12:54:05,061 INFO: POST https://10.132.0.40:9200/_bulk [status:200 request:0.027s]\n",
      "2022-06-07 12:54:05,113 INFO: POST https://10.132.0.40:9200/_bulk [status:200 request:0.032s]\n",
      "2022-06-07 12:54:05,162 INFO: POST https://10.132.0.40:9200/_bulk [status:200 request:0.027s]\n",
      "2022-06-07 12:54:05,212 INFO: POST https://10.132.0.40:9200/_bulk [status:200 request:0.028s]\n",
      "2022-06-07 12:54:05,261 INFO: POST https://10.132.0.40:9200/_bulk [status:200 request:0.027s]\n",
      "2022-06-07 12:54:05,312 INFO: POST https://10.132.0.40:9200/_bulk [status:200 request:0.028s]\n",
      "2022-06-07 12:54:05,359 INFO: POST https://10.132.0.40:9200/_bulk [status:200 request:0.027s]\n",
      "2022-06-07 12:54:05,408 INFO: POST https://10.132.0.40:9200/_bulk [status:200 request:0.026s]\n",
      "2022-06-07 12:54:05,455 INFO: POST https://10.132.0.40:9200/_bulk [status:200 request:0.027s]\n",
      "2022-06-07 12:54:05,505 INFO: POST https://10.132.0.40:9200/_bulk [status:200 request:0.029s]\n",
      "2022-06-07 12:54:05,561 INFO: POST https://10.132.0.40:9200/_bulk [status:200 request:0.035s]\n",
      "2022-06-07 12:54:05,609 INFO: POST https://10.132.0.40:9200/_bulk [status:200 request:0.026s]\n",
      "2022-06-07 12:54:05,659 INFO: POST https://10.132.0.40:9200/_bulk [status:200 request:0.030s]\n",
      "2022-06-07 12:54:05,706 INFO: POST https://10.132.0.40:9200/_bulk [status:200 request:0.027s]\n",
      "2022-06-07 12:54:05,752 INFO: POST https://10.132.0.40:9200/_bulk [status:200 request:0.025s]\n",
      "2022-06-07 12:54:05,814 INFO: POST https://10.132.0.40:9200/_bulk [status:200 request:0.028s]\n",
      "2022-06-07 12:54:05,879 INFO: POST https://10.132.0.40:9200/_bulk [status:200 request:0.031s]\n",
      "2022-06-07 12:54:05,933 INFO: POST https://10.132.0.40:9200/_bulk [status:200 request:0.028s]\n",
      "2022-06-07 12:54:05,985 INFO: POST https://10.132.0.40:9200/_bulk [status:200 request:0.030s]\n",
      "2022-06-07 12:54:06,034 INFO: POST https://10.132.0.40:9200/_bulk [status:200 request:0.027s]\n",
      "2022-06-07 12:54:06,082 INFO: POST https://10.132.0.40:9200/_bulk [status:200 request:0.026s]\n",
      "2022-06-07 12:54:06,137 INFO: POST https://10.132.0.40:9200/_bulk [status:200 request:0.034s]\n",
      "2022-06-07 12:54:06,186 INFO: POST https://10.132.0.40:9200/_bulk [status:200 request:0.027s]\n",
      "2022-06-07 12:54:06,233 INFO: POST https://10.132.0.40:9200/_bulk [status:200 request:0.026s]\n",
      "2022-06-07 12:54:06,286 INFO: POST https://10.132.0.40:9200/_bulk [status:200 request:0.029s]\n",
      "2022-06-07 12:54:06,333 INFO: POST https://10.132.0.40:9200/_bulk [status:200 request:0.026s]\n",
      "2022-06-07 12:54:06,384 INFO: POST https://10.132.0.40:9200/_bulk [status:200 request:0.029s]\n",
      "2022-06-07 12:54:06,434 INFO: POST https://10.132.0.40:9200/_bulk [status:200 request:0.026s]\n",
      "2022-06-07 12:54:06,484 INFO: POST https://10.132.0.40:9200/_bulk [status:200 request:0.027s]\n",
      "2022-06-07 12:54:06,533 INFO: POST https://10.132.0.40:9200/_bulk [status:200 request:0.027s]\n",
      "2022-06-07 12:54:06,581 INFO: POST https://10.132.0.40:9200/_bulk [status:200 request:0.027s]\n",
      "2022-06-07 12:54:06,630 INFO: POST https://10.132.0.40:9200/_bulk [status:200 request:0.026s]\n",
      "2022-06-07 12:54:06,695 INFO: POST https://10.132.0.40:9200/_bulk [status:200 request:0.028s]\n",
      "2022-06-07 12:54:06,762 INFO: POST https://10.132.0.40:9200/_bulk [status:200 request:0.027s]\n",
      "2022-06-07 12:54:06,829 INFO: POST https://10.132.0.40:9200/_bulk [status:200 request:0.027s]\n",
      "2022-06-07 12:54:06,885 INFO: POST https://10.132.0.40:9200/_bulk [status:200 request:0.027s]\n",
      "2022-06-07 12:54:06,937 INFO: POST https://10.132.0.40:9200/_bulk [status:200 request:0.028s]\n",
      "2022-06-07 12:54:06,986 INFO: POST https://10.132.0.40:9200/_bulk [status:200 request:0.027s]\n",
      "2022-06-07 12:54:07,035 INFO: POST https://10.132.0.40:9200/_bulk [status:200 request:0.028s]\n",
      "2022-06-07 12:54:07,091 INFO: POST https://10.132.0.40:9200/_bulk [status:200 request:0.030s]\n",
      "2022-06-07 12:54:07,142 INFO: POST https://10.132.0.40:9200/_bulk [status:200 request:0.028s]\n",
      "2022-06-07 12:54:07,191 INFO: POST https://10.132.0.40:9200/_bulk [status:200 request:0.027s]\n",
      "2022-06-07 12:54:07,247 INFO: POST https://10.132.0.40:9200/_bulk [status:200 request:0.028s]\n",
      "2022-06-07 12:54:07,314 INFO: POST https://10.132.0.40:9200/_bulk [status:200 request:0.033s]\n",
      "2022-06-07 12:54:07,386 INFO: POST https://10.132.0.40:9200/_bulk [status:200 request:0.038s]\n",
      "2022-06-07 12:54:07,438 INFO: POST https://10.132.0.40:9200/_bulk [status:200 request:0.026s]\n",
      "2022-06-07 12:54:07,491 INFO: POST https://10.132.0.40:9200/_bulk [status:200 request:0.032s]\n",
      "2022-06-07 12:54:07,538 INFO: POST https://10.132.0.40:9200/_bulk [status:200 request:0.027s]\n",
      "2022-06-07 12:54:07,590 INFO: POST https://10.132.0.40:9200/_bulk [status:200 request:0.027s]\n",
      "2022-06-07 12:54:07,638 INFO: POST https://10.132.0.40:9200/_bulk [status:200 request:0.027s]\n",
      "2022-06-07 12:54:07,692 INFO: POST https://10.132.0.40:9200/_bulk [status:200 request:0.028s]\n",
      "2022-06-07 12:54:07,741 INFO: POST https://10.132.0.40:9200/_bulk [status:200 request:0.027s]\n",
      "2022-06-07 12:54:07,793 INFO: POST https://10.132.0.40:9200/_bulk [status:200 request:0.030s]\n",
      "2022-06-07 12:54:07,840 INFO: POST https://10.132.0.40:9200/_bulk [status:200 request:0.027s]\n",
      "2022-06-07 12:54:07,889 INFO: POST https://10.132.0.40:9200/_bulk [status:200 request:0.029s]\n",
      "2022-06-07 12:54:07,938 INFO: POST https://10.132.0.40:9200/_bulk [status:200 request:0.028s]\n",
      "2022-06-07 12:54:07,987 INFO: POST https://10.132.0.40:9200/_bulk [status:200 request:0.026s]\n",
      "2022-06-07 12:54:08,035 INFO: POST https://10.132.0.40:9200/_bulk [status:200 request:0.027s]\n",
      "2022-06-07 12:54:08,081 INFO: POST https://10.132.0.40:9200/_bulk [status:200 request:0.025s]\n",
      "2022-06-07 12:54:08,132 INFO: POST https://10.132.0.40:9200/_bulk [status:200 request:0.030s]\n",
      "2022-06-07 12:54:08,179 INFO: POST https://10.132.0.40:9200/_bulk [status:200 request:0.027s]\n",
      "2022-06-07 12:54:08,230 INFO: POST https://10.132.0.40:9200/_bulk [status:200 request:0.029s]\n",
      "2022-06-07 12:54:08,280 INFO: POST https://10.132.0.40:9200/_bulk [status:200 request:0.027s]\n",
      "2022-06-07 12:54:08,330 INFO: POST https://10.132.0.40:9200/_bulk [status:200 request:0.028s]\n",
      "2022-06-07 12:54:08,380 INFO: POST https://10.132.0.40:9200/_bulk [status:200 request:0.027s]\n",
      "2022-06-07 12:54:08,429 INFO: POST https://10.132.0.40:9200/_bulk [status:200 request:0.028s]\n",
      "2022-06-07 12:54:08,478 INFO: POST https://10.132.0.40:9200/_bulk [status:200 request:0.026s]\n",
      "2022-06-07 12:54:08,526 INFO: POST https://10.132.0.40:9200/_bulk [status:200 request:0.027s]\n",
      "2022-06-07 12:54:08,575 INFO: POST https://10.132.0.40:9200/_bulk [status:200 request:0.027s]\n",
      "2022-06-07 12:54:08,623 INFO: POST https://10.132.0.40:9200/_bulk [status:200 request:0.027s]\n",
      "2022-06-07 12:54:08,681 INFO: POST https://10.132.0.40:9200/_bulk [status:200 request:0.034s]\n",
      "2022-06-07 12:54:08,731 INFO: POST https://10.132.0.40:9200/_bulk [status:200 request:0.029s]\n",
      "2022-06-07 12:54:08,782 INFO: POST https://10.132.0.40:9200/_bulk [status:200 request:0.029s]\n",
      "2022-06-07 12:54:08,834 INFO: POST https://10.132.0.40:9200/_bulk [status:200 request:0.028s]\n",
      "2022-06-07 12:54:08,884 INFO: POST https://10.132.0.40:9200/_bulk [status:200 request:0.028s]\n",
      "2022-06-07 12:54:08,934 INFO: POST https://10.132.0.40:9200/_bulk [status:200 request:0.030s]\n",
      "2022-06-07 12:54:08,983 INFO: POST https://10.132.0.40:9200/_bulk [status:200 request:0.027s]\n",
      "2022-06-07 12:54:09,031 INFO: POST https://10.132.0.40:9200/_bulk [status:200 request:0.027s]\n",
      "2022-06-07 12:54:09,081 INFO: POST https://10.132.0.40:9200/_bulk [status:200 request:0.030s]\n",
      "2022-06-07 12:54:09,132 INFO: POST https://10.132.0.40:9200/_bulk [status:200 request:0.030s]\n",
      "2022-06-07 12:54:09,182 INFO: POST https://10.132.0.40:9200/_bulk [status:200 request:0.029s]\n",
      "2022-06-07 12:54:09,235 INFO: POST https://10.132.0.40:9200/_bulk [status:200 request:0.032s]\n",
      "2022-06-07 12:54:09,285 INFO: POST https://10.132.0.40:9200/_bulk [status:200 request:0.028s]\n",
      "2022-06-07 12:54:09,327 INFO: POST https://10.132.0.40:9200/_bulk [status:200 request:0.019s]\n"
     ]
    },
    {
     "data": {
      "text/plain": [
       "(58273, [])"
      ]
     },
     "execution_count": 7,
     "metadata": {},
     "output_type": "execute_result"
    }
   ],
   "source": [
    "from opensearchpy.helpers import bulk\n",
    "\n",
    "actions = []\n",
    "for batch in candidate_embeddings:\n",
    "    item_id_list, embedding_list = batch\n",
    "    item_id_list = item_id_list.numpy().astype(int)\n",
    "    embedding_list = embedding_list.numpy()\n",
    "\n",
    "    for item_id, embedding in zip(item_id_list, embedding_list):\n",
    "        actions.append({\n",
    "            \"_index\": index_name,\n",
    "            \"_id\": item_id,\n",
    "            \"_source\": {\n",
    "                \"my_vector1\": embedding,\n",
    "            }\n",
    "        })\n",
    "\n",
    "# Bulk insertion.\n",
    "bulk(client, actions)"
   ]
  },
  {
   "cell_type": "markdown",
   "metadata": {},
   "source": [
    "To test that it works we can retrieve the neighbors of a random vector."
   ]
  },
  {
   "cell_type": "code",
   "execution_count": 8,
   "metadata": {},
   "outputs": [
    {
     "name": "stdout",
     "output_type": "stream",
     "text": [
      "2022-06-07 12:54:09,550 INFO: POST https://10.132.0.40:9200/rec_candidate_index/_search [status:200 request:0.202s]\n",
      "{'_shards': {'failed': 0, 'skipped': 0, 'successful': 1, 'total': 1},\n",
      " 'hits': {'hits': [{'_id': '750765001',\n",
      "                    '_index': 'rec_candidate_index',\n",
      "                    '_score': 7.0025015,\n",
      "                    '_source': {'my_vector1': [2.707348346710205,\n",
      "                                               0.7086489200592041,\n",
      "                                               -1.1206313371658325,\n",
      "                                               -0.15617576241493225,\n",
      "                                               -2.002408027648926,\n",
      "                                               1.365938663482666,\n",
      "                                               0.9462525844573975,\n",
      "                                               -1.6214687824249268,\n",
      "                                               -0.9911678433418274,\n",
      "                                               3.2485384941101074,\n",
      "                                               -1.2405134439468384,\n",
      "                                               0.6078648567199707,\n",
      "                                               -0.4826640188694,\n",
      "                                               -1.0948820114135742,\n",
      "                                               4.478330612182617,\n",
      "                                               0.6515982151031494]},\n",
      "                    '_type': '_doc'},\n",
      "                   {'_id': '471714036',\n",
      "                    '_index': 'rec_candidate_index',\n",
      "                    '_score': 6.8603272,\n",
      "                    '_source': {'my_vector1': [-0.10345562547445297,\n",
      "                                               0.3199843466281891,\n",
      "                                               -0.25165241956710815,\n",
      "                                               0.9931840300559998,\n",
      "                                               -1.4839253425598145,\n",
      "                                               1.3614381551742554,\n",
      "                                               0.5341191291809082,\n",
      "                                               0.008532851934432983,\n",
      "                                               -1.0947937965393066,\n",
      "                                               1.3704121112823486,\n",
      "                                               0.8087307214736938,\n",
      "                                               0.8910737633705139,\n",
      "                                               0.3469662070274353,\n",
      "                                               -0.5276512503623962,\n",
      "                                               5.991194725036621,\n",
      "                                               1.1721962690353394]},\n",
      "                    '_type': '_doc'},\n",
      "                   {'_id': '763162001',\n",
      "                    '_index': 'rec_candidate_index',\n",
      "                    '_score': 6.6907268,\n",
      "                    '_source': {'my_vector1': [2.238692283630371,\n",
      "                                               0.4215194284915924,\n",
      "                                               -1.2475937604904175,\n",
      "                                               0.4103744328022003,\n",
      "                                               -2.046170711517334,\n",
      "                                               1.2582192420959473,\n",
      "                                               1.0206925868988037,\n",
      "                                               -1.1335729360580444,\n",
      "                                               -0.42895108461380005,\n",
      "                                               2.8320183753967285,\n",
      "                                               -1.4981322288513184,\n",
      "                                               0.7485584020614624,\n",
      "                                               -0.5159267783164978,\n",
      "                                               -0.9031621813774109,\n",
      "                                               4.216523170471191,\n",
      "                                               0.6464265584945679]},\n",
      "                    '_type': '_doc'},\n",
      "                   {'_id': '750730001',\n",
      "                    '_index': 'rec_candidate_index',\n",
      "                    '_score': 6.672066,\n",
      "                    '_source': {'my_vector1': [2.3026416301727295,\n",
      "                                               0.537329912185669,\n",
      "                                               -1.3056272268295288,\n",
      "                                               0.14404933154582977,\n",
      "                                               -1.9825314283370972,\n",
      "                                               1.2745102643966675,\n",
      "                                               0.9938914775848389,\n",
      "                                               -1.1547191143035889,\n",
      "                                               -0.5408126711845398,\n",
      "                                               3.0316271781921387,\n",
      "                                               -1.5381656885147095,\n",
      "                                               0.6471840143203735,\n",
      "                                               -0.47233083844184875,\n",
      "                                               -0.932694137096405,\n",
      "                                               4.273168087005615,\n",
      "                                               0.6078660488128662]},\n",
      "                    '_type': '_doc'},\n",
      "                   {'_id': '220094020',\n",
      "                    '_index': 'rec_candidate_index',\n",
      "                    '_score': 6.6229043,\n",
      "                    '_source': {'my_vector1': [0.8551480770111084,\n",
      "                                               0.600150465965271,\n",
      "                                               0.43376442790031433,\n",
      "                                               -0.49170759320259094,\n",
      "                                               -0.6939147710800171,\n",
      "                                               0.5885151624679565,\n",
      "                                               0.2102975845336914,\n",
      "                                               -0.6222547888755798,\n",
      "                                               -2.407761812210083,\n",
      "                                               1.2881032228469849,\n",
      "                                               1.8762766122817993,\n",
      "                                               1.2630449533462524,\n",
      "                                               -0.0006150603294372559,\n",
      "                                               -0.7417256236076355,\n",
      "                                               6.4927191734313965,\n",
      "                                               0.9409440159797668]},\n",
      "                    '_type': '_doc'},\n",
      "                   {'_id': '817049004',\n",
      "                    '_index': 'rec_candidate_index',\n",
      "                    '_score': 6.4131656,\n",
      "                    '_source': {'my_vector1': [-0.4962543547153473,\n",
      "                                               0.06430825591087341,\n",
      "                                               -1.1613718271255493,\n",
      "                                               1.196842908859253,\n",
      "                                               -1.7756913900375366,\n",
      "                                               1.8154237270355225,\n",
      "                                               0.8722686767578125,\n",
      "                                               0.1617085188627243,\n",
      "                                               0.7880802750587463,\n",
      "                                               1.5709362030029297,\n",
      "                                               -0.988905668258667,\n",
      "                                               1.234213948249817,\n",
      "                                               0.24662286043167114,\n",
      "                                               -0.5580870509147644,\n",
      "                                               5.159784317016602,\n",
      "                                               0.4048682451248169]},\n",
      "                    '_type': '_doc'},\n",
      "                   {'_id': '554546044',\n",
      "                    '_index': 'rec_candidate_index',\n",
      "                    '_score': 6.384034,\n",
      "                    '_source': {'my_vector1': [1.8974635601043701,\n",
      "                                               0.09756889939308167,\n",
      "                                               -0.059690654277801514,\n",
      "                                               -0.12206780910491943,\n",
      "                                               -2.706793785095215,\n",
      "                                               0.8913325071334839,\n",
      "                                               0.937993049621582,\n",
      "                                               -1.5538825988769531,\n",
      "                                               -1.6635792255401611,\n",
      "                                               2.8552517890930176,\n",
      "                                               -0.6132200956344604,\n",
      "                                               0.6982457637786865,\n",
      "                                               -0.3230767250061035,\n",
      "                                               -0.6767403483390808,\n",
      "                                               4.638162136077881,\n",
      "                                               1.255031943321228]},\n",
      "                    '_type': '_doc'},\n",
      "                   {'_id': '690962007',\n",
      "                    '_index': 'rec_candidate_index',\n",
      "                    '_score': 6.357083,\n",
      "                    '_source': {'my_vector1': [1.3530985116958618,\n",
      "                                               -0.024081826210021973,\n",
      "                                               -0.91350257396698,\n",
      "                                               0.6504388451576233,\n",
      "                                               -2.1648688316345215,\n",
      "                                               0.7645960450172424,\n",
      "                                               0.5424044132232666,\n",
      "                                               0.14577853679656982,\n",
      "                                               -1.0906412601470947,\n",
      "                                               1.9028457403182983,\n",
      "                                               -0.5923811197280884,\n",
      "                                               0.7371194362640381,\n",
      "                                               0.10946488380432129,\n",
      "                                               -0.3970925211906433,\n",
      "                                               4.865357875823975,\n",
      "                                               1.3237353563308716]},\n",
      "                    '_type': '_doc'},\n",
      "                   {'_id': '739660003',\n",
      "                    '_index': 'rec_candidate_index',\n",
      "                    '_score': 6.3517213,\n",
      "                    '_source': {'my_vector1': [1.5348396301269531,\n",
      "                                               -0.020109564065933228,\n",
      "                                               -0.9586037397384644,\n",
      "                                               0.5703811049461365,\n",
      "                                               -2.1498093605041504,\n",
      "                                               0.7541183233261108,\n",
      "                                               0.6672594547271729,\n",
      "                                               0.14983822405338287,\n",
      "                                               -0.9998919367790222,\n",
      "                                               1.9800410270690918,\n",
      "                                               -0.7474420070648193,\n",
      "                                               0.74786776304245,\n",
      "                                               0.03641170263290405,\n",
      "                                               -0.4203593134880066,\n",
      "                                               4.708551406860352,\n",
      "                                               1.1533056497573853]},\n",
      "                    '_type': '_doc'},\n",
      "                   {'_id': '895804006',\n",
      "                    '_index': 'rec_candidate_index',\n",
      "                    '_score': 6.3460407,\n",
      "                    '_source': {'my_vector1': [1.7594395875930786,\n",
      "                                               0.6386984586715698,\n",
      "                                               0.4446319341659546,\n",
      "                                               -0.5427867770195007,\n",
      "                                               -0.5761902332305908,\n",
      "                                               0.225209578871727,\n",
      "                                               0.4102137088775635,\n",
      "                                               -0.8773360252380371,\n",
      "                                               -2.6449735164642334,\n",
      "                                               1.4462242126464844,\n",
      "                                               1.7632691860198975,\n",
      "                                               0.9686685800552368,\n",
      "                                               -0.24327319860458374,\n",
      "                                               -0.7644258141517639,\n",
      "                                               5.547750473022461,\n",
      "                                               1.161919116973877]},\n",
      "                    '_type': '_doc'}],\n",
      "          'max_score': 7.0025015,\n",
      "          'total': {'relation': 'eq', 'value': 20}},\n",
      " 'timed_out': False,\n",
      " 'took': 197}\n"
     ]
    }
   ],
   "source": [
    "# TODO would be more illustrative to select a vector from 'actions'\n",
    "# and join the results with item_df.\n",
    "\n",
    "import pprint\n",
    "import numpy as np\n",
    "\n",
    "embedding = np.random.rand(emb_dim)\n",
    "\n",
    "query = {\n",
    "  \"size\": 10,\n",
    "  \"query\": {\n",
    "    \"knn\": {\n",
    "      \"my_vector1\": {\n",
    "        \"vector\": embedding,\n",
    "        \"k\": 10\n",
    "      }\n",
    "    }\n",
    "  }\n",
    "}\n",
    "\n",
    "response = client.search(\n",
    "    body = query,\n",
    "    index = index_name\n",
    ")\n",
    "\n",
    "pprint.pprint(response)"
   ]
  },
  {
   "cell_type": "markdown",
   "metadata": {},
   "source": [
    "#### Next Steps\n",
    "\n",
    "At this point we have a recommender system that is able to generate a set of candidate items for a customer. However, many of these could be poor, as the candidate model was trained with only a few subset of the features. In the next notebook, we'll train a *ranking model* to do more fine-grained predictions."
   ]
  }
 ],
 "metadata": {
  "interpreter": {
   "hash": "31f2aee4e71d21fbe5cf8b01ff0e069b9275f58929596ceb00d14d90e3e16cd6"
  },
  "kernelspec": {
   "display_name": "Python 3 (ipykernel)",
   "language": "python",
   "name": "python3"
  },
  "language_info": {
   "codemirror_mode": {
    "name": "ipython",
    "version": 3
   },
   "file_extension": ".py",
   "mimetype": "text/x-python",
   "name": "python",
   "nbconvert_exporter": "python",
   "pygments_lexer": "ipython3",
   "version": "3.9.7"
  }
 },
 "nbformat": 4,
 "nbformat_minor": 4
}
