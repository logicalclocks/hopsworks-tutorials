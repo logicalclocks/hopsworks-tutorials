{
 "cells": [
  {
   "cell_type": "markdown",
   "id": "c958e52b",
   "metadata": {},
   "source": [
    "# <span style=\"font-width:bold; font-size: 3rem; color:#1EB182;\"><img src=\"../images/icon102.png\" width=\"38px\"></img> **Hopsworks Feature Store** </span><span style=\"font-width:bold; font-size: 3rem; color:#333;\">- Part 04: Batch Inference</span>\n",
    "\n",
    "\n",
    "## 🗒️ This notebook is divided into the following sections:\n",
    "\n",
    "1. Load batch data.\n",
    "2. Predict using model from Model Registry."
   ]
  },
  {
   "cell_type": "markdown",
   "id": "8855ee1a",
   "metadata": {},
   "source": [
    "## <span style='color:#ff5f27'> 📝 Imports"
   ]
  },
  {
   "cell_type": "code",
   "execution_count": null,
   "id": "019c9226",
   "metadata": {},
   "outputs": [],
   "source": [
    "import joblib\n",
    "import inspect \n",
    "import pandas as pd\n",
    "import tensorflow as tf\n",
    "import matplotlib.pyplot as plt\n",
    "from matplotlib.ticker import FuncFormatter\n",
    "\n",
    "%config InlineBackend.figure_format='retina'\n",
    "%matplotlib inline"
   ]
  },
  {
   "cell_type": "markdown",
   "id": "ce2fe8a8",
   "metadata": {},
   "source": [
    "## <span style=\"color:#ff5f27;\"> 📡 Connecting to Hopsworks Feature Store </span>"
   ]
  },
  {
   "cell_type": "code",
   "execution_count": null,
   "id": "39f83bc9",
   "metadata": {},
   "outputs": [],
   "source": [
    "import hopsworks\n",
    "\n",
    "project = hopsworks.login()\n",
    "\n",
    "fs = project.get_feature_store()"
   ]
  },
  {
   "cell_type": "markdown",
   "id": "87485ee0",
   "metadata": {},
   "source": [
    "## <span style=\"color:#ff5f27;\"> ⚙️ Feature View Retrieval</span>\n"
   ]
  },
  {
   "cell_type": "code",
   "execution_count": null,
   "id": "e622d6b4",
   "metadata": {},
   "outputs": [],
   "source": [
    "# Retrieve the 'electricity_feature_view' feature view\n",
    "feature_view = fs.get_feature_view(\n",
    "    name='electricity_feature_view',\n",
    "    version=1,\n",
    ")"
   ]
  },
  {
   "cell_type": "markdown",
   "id": "e1dac8b6",
   "metadata": {},
   "source": [
    "## <span style=\"color:#ff5f27;\">🗄 Model Registry</span>\n"
   ]
  },
  {
   "cell_type": "code",
   "execution_count": null,
   "id": "ca35a9f4",
   "metadata": {},
   "outputs": [],
   "source": [
    "# Retrieve the model registry\n",
    "mr = project.get_model_registry()"
   ]
  },
  {
   "cell_type": "markdown",
   "id": "6f3589dc",
   "metadata": {},
   "source": [
    "## <span style=\"color:#ff5f27;\"> 📮 Retrieving model from Model Registry </span>"
   ]
  },
  {
   "cell_type": "code",
   "execution_count": null,
   "id": "6ac8014f",
   "metadata": {},
   "outputs": [],
   "source": [
    "# Retrieving the TensorFlow model from the Model Registry\n",
    "model = mr.get_model(\n",
    "    name=\"electricity_price_prediction_model\", \n",
    "    version=1,\n",
    ")\n",
    "\n",
    "# Downloading the model to a local directory\n",
    "model_dir = model.download()\n",
    "\n",
    "# Loading the saved TensorFlow model\n",
    "loaded_model = tf.saved_model.load(model_dir)\n",
    "\n",
    "# Accessing the serving function of the loaded model\n",
    "serving_function = loaded_model.signatures[\"serving_default\"]"
   ]
  },
  {
   "cell_type": "markdown",
   "id": "920ea365",
   "metadata": {},
   "source": [
    "## <span style=\"color:#ff5f27;\"> ✨ Load Batch Data</span>"
   ]
  },
  {
   "cell_type": "code",
   "execution_count": null,
   "id": "54b57e65",
   "metadata": {},
   "outputs": [],
   "source": [
    "import datetime\n",
    "\n",
    "# Calculating the start date as 5 days ago from the current date\n",
    "start_date = datetime.datetime.now() - datetime.timedelta(days=5)\n",
    "\n",
    "# Converting the start date to a timestamp in milliseconds\n",
    "start_time = int(start_date.timestamp()) * 1000"
   ]
  },
  {
   "cell_type": "code",
   "execution_count": null,
   "id": "6f1f1c43",
   "metadata": {},
   "outputs": [],
   "source": [
    "# Initializing batch scoring\n",
    "feature_view.init_batch_scoring(1)\n",
    "\n",
    "# Retrieving batch data from the feature view starting from the specified start time\n",
    "df = feature_view.get_batch_data(\n",
    "    start_time=start_time,\n",
    ")"
   ]
  },
  {
   "cell_type": "code",
   "execution_count": null,
   "id": "90ab31e8",
   "metadata": {},
   "outputs": [],
   "source": [
    "# Sorting the DataFrame based on the 'timestamp' column\n",
    "df.sort_values([\"timestamp\"], inplace=True)\n",
    "\n",
    "# Dropping the 'day' and 'timestamp' columns from the DataFrame\n",
    "df = df.drop([\"day\", \"timestamp\"], axis=1)\n",
    "\n",
    "# Displaying the first 3 rows of the modified DataFrame\n",
    "df.head(3)"
   ]
  },
  {
   "cell_type": "markdown",
   "id": "54988482",
   "metadata": {},
   "source": [
    "## <span style=\"color:#ff5f27;\"> 🤖 Making the predictions </span>"
   ]
  },
  {
   "cell_type": "code",
   "execution_count": null,
   "id": "77b43a29",
   "metadata": {},
   "outputs": [],
   "source": [
    "# Using the serving function to make predictions for the given DataFrame\n",
    "x = serving_function(\n",
    "    tf.constant(\n",
    "        df.values.reshape(-1, df.shape[0], df.shape[1]), tf.float32)\n",
    ")\n",
    "\n",
    "# Extracting and converting the predictions to a NumPy array\n",
    "prediction = x[list(x.keys())[0]].numpy() #.flatten().tolist()\n",
    "prediction"
   ]
  },
  {
   "cell_type": "code",
   "execution_count": null,
   "id": "d3cb8ed1",
   "metadata": {},
   "outputs": [],
   "source": [
    "# Extracting and organizing the predicted prices for different regions from the batch predictions\n",
    "price_se1_pred = []\n",
    "price_se2_pred = []\n",
    "price_se3_pred = []\n",
    "price_se4_pred = []\n",
    "\n",
    "for batch_n in range(len(prediction)):\n",
    "    batch = prediction[batch_n]\n",
    "    for window_n in range(df.shape[0]):\n",
    "        price_se1_pred.append(batch[window_n][0])\n",
    "        price_se2_pred.append(batch[window_n][1])\n",
    "        price_se3_pred.append(batch[window_n][2])\n",
    "        price_se4_pred.append(batch[window_n][3])"
   ]
  },
  {
   "cell_type": "code",
   "execution_count": null,
   "id": "d62f3367",
   "metadata": {},
   "outputs": [],
   "source": [
    "# Initializing serving\n",
    "feature_view.init_serving(1)\n",
    "\n",
    "# Accessing the transformation functions used in the serving configuration\n",
    "fv_transformation_functions = feature_view._vector_server.model_dependent_transformation_functions"
   ]
  },
  {
   "cell_type": "code",
   "execution_count": null,
   "id": "34e439f1",
   "metadata": {},
   "outputs": [],
   "source": [
    "# Decoding the features from the predicted prices\n",
    "preds = pd.DataFrame(data={'price_se1': price_se1_pred,\n",
    "                           'price_se2': price_se2_pred,\n",
    "                           'price_se3': price_se3_pred,\n",
    "                           'price_se4': price_se4_pred,})\n",
    "\n",
    "# Extracting and decoding the transformation functions used in serving\n",
    "res = {}\n",
    "for transformation_function in fv_transformation_functions:\n",
    "    udf = transformation_function.hopsworks_udf\n",
    "    transformed_features = udf.transformation_features[0]\n",
    "    if transformed_features in [\"price_se1\", \"price_se2\", \"price_se3\", \"price_se4\"] and udf.function_name == \"min_max_scaler\":\n",
    "        stats = udf.transformation_statistics\n",
    "        preds[transformed_features] = preds[transformed_features].map(lambda x: x*(stats.feature.max-stats.feature.min)+stats.feature.min)\n",
    "\n",
    "# Applying a transformation to reverse the sign of the decoded features\n",
    "preds = preds.apply(lambda x: -x)\n",
    "preds"
   ]
  },
  {
   "cell_type": "code",
   "execution_count": null,
   "id": "28867fb0",
   "metadata": {},
   "outputs": [],
   "source": [
    "# Plotting the predicted electricity prices for different regions\n",
    "plt.plot(preds[\"price_se1\"],color='red', label='SE1 price prediction')\n",
    "plt.plot(preds[\"price_se2\"], color='blue', label='SE2 price prediction')\n",
    "plt.plot(preds[\"price_se3\"], color='green', label='SE3 price prediction')\n",
    "plt.plot(preds[\"price_se4\"], color='black', label='SE4 price prediction')\n",
    "plt.xlabel('Time')\n",
    "plt.ylabel('Price')\n",
    "plt.legend(loc='upper left')\n",
    "\n",
    "# Adjusting the size of the plot\n",
    "fig = plt.gcf()\n",
    "fig.set_size_inches(15, 5)"
   ]
  },
  {
   "cell_type": "markdown",
   "id": "89bc07f2",
   "metadata": {},
   "source": [
    "---\n",
    "\n",
    "### <span style=\"color:#ff5f27;\">🥳 <b> Next Steps  </b> </span>\n",
    "Congratulations you've now completed the Electricity price tutorial for Managed Hopsworks.\n",
    "\n",
    "Check out our other tutorials on ➡ https://github.com/logicalclocks/hopsworks-tutorials\n",
    "\n",
    "Or documentation at ➡ https://docs.hopsworks.ai"
   ]
  }
 ],
 "metadata": {
  "kernelspec": {
   "display_name": "Python 3 (ipykernel)",
   "language": "python",
   "name": "python3"
  },
  "language_info": {
   "codemirror_mode": {
    "name": "ipython",
    "version": 3
   },
   "file_extension": ".py",
   "mimetype": "text/x-python",
   "name": "python",
   "nbconvert_exporter": "python",
   "pygments_lexer": "ipython3",
   "version": "3.12.5"
  }
 },
 "nbformat": 4,
 "nbformat_minor": 5
}
