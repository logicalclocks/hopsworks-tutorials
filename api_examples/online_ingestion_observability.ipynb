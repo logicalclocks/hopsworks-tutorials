{
 "cells": [
  {
   "cell_type": "markdown",
   "id": "6e610b6e",
   "metadata": {},
   "source": [
    "## Online ingestion observability"
   ]
  },
  {
   "cell_type": "markdown",
   "id": "374d92b4",
   "metadata": {},
   "source": [
    "This API provides the possibility to wait for online for online ingestion to finish."
   ]
  },
  {
   "cell_type": "markdown",
   "id": "b79e1085",
   "metadata": {},
   "source": [
    "## Scope"
   ]
  },
  {
   "cell_type": "markdown",
   "id": "fac87590",
   "metadata": {},
   "source": [
    "* Create and insert into online enabled feature group\n",
    "* Get online ingestion\n",
    "* Use online ingestion object"
   ]
  },
  {
   "cell_type": "code",
   "execution_count": null,
   "id": "c5beb4d3",
   "metadata": {},
   "outputs": [],
   "source": [
    "import hopsworks"
   ]
  },
  {
   "cell_type": "markdown",
   "id": "784247c7",
   "metadata": {},
   "source": [
    "## Connect to the cluster"
   ]
  },
  {
   "cell_type": "code",
   "execution_count": null,
   "id": "23ac970c",
   "metadata": {},
   "outputs": [],
   "source": [
    "# Connect to your cluster, to be used running inside Jupyter or jobs inside the cluster.\n",
    "project = hopsworks.login()"
   ]
  },
  {
   "cell_type": "code",
   "execution_count": null,
   "id": "0c48faaa",
   "metadata": {},
   "outputs": [],
   "source": [
    "# Uncomment when connecting to the cluster from an external environment.\n",
    "# project = hopsworks.login(project='my_project', host='my_instance', port=443, api_key_value='apikey')"
   ]
  },
  {
   "cell_type": "markdown",
   "id": "2c26f619",
   "metadata": {},
   "source": [
    "## Create and insert into online enabled feature group."
   ]
  },
  {
   "cell_type": "code",
   "execution_count": null,
   "id": "554aa4c9",
   "metadata": {},
   "outputs": [],
   "source": [
    "# Generate simple dataframe\n",
    "import pandas as pd\n",
    "size = 10\n",
    "fg_data = {'id': range(0, size), 'text': \"test\"}\n",
    "fg_df = pd.DataFrame.from_dict(fg_data)"
   ]
  },
  {
   "cell_type": "code",
   "execution_count": null,
   "id": "356f8265",
   "metadata": {},
   "outputs": [],
   "source": [
    "# Get project feature store\n",
    "fs = project.get_feature_store()"
   ]
  },
  {
   "cell_type": "code",
   "execution_count": null,
   "id": "a01a0400",
   "metadata": {},
   "outputs": [],
   "source": [
    "# Get/create feature group\n",
    "fg = fs.get_or_create_feature_group(name=\"fg\", version=1, primary_key=[\"id\"], online_enabled=True)"
   ]
  },
  {
   "cell_type": "code",
   "execution_count": null,
   "id": "e2a56fd3",
   "metadata": {},
   "outputs": [],
   "source": [
    "# Create a feature group and insert it into it\n",
    "fg.insert(fg_df)"
   ]
  },
  {
   "cell_type": "markdown",
   "id": "80e676a5",
   "metadata": {},
   "source": [
    "## Get online ingestion"
   ]
  },
  {
   "cell_type": "code",
   "execution_count": null,
   "id": "19d3c236",
   "metadata": {},
   "outputs": [],
   "source": [
    "# Get the latest ingestion associated with the feature group\n",
    "online_ingestion_instance = fg.get_latest_online_ingestion()"
   ]
  },
  {
   "cell_type": "code",
   "execution_count": null,
   "id": "b9711ee6",
   "metadata": {},
   "outputs": [],
   "source": [
    "# Get specific ingestion by its id\n",
    "#online_ingestion_instance = fg.get_online_ingestion(1)"
   ]
  },
  {
   "cell_type": "markdown",
   "id": "50999fc9",
   "metadata": {},
   "source": [
    "## Use online ingestion object"
   ]
  },
  {
   "cell_type": "code",
   "execution_count": null,
   "id": "e0226cab",
   "metadata": {},
   "outputs": [],
   "source": [
    "# Wait for online ingestion to finish (same as setting option `wait_for_online_ingestion` to true when inserting)\n",
    "online_ingestion_instance.wait_for_completion()"
   ]
  },
  {
   "cell_type": "code",
   "execution_count": null,
   "id": "c2956386",
   "metadata": {},
   "outputs": [],
   "source": [
    "# Print results of ingestion (if there is only a result with `UPSERTED` status and rows match the expected data size then ingestion did not encounter any issues)\n",
    "# ex. [{'onlineIngestionId': 1, 'status': 'UPSERTED', 'rows': 10}]\n",
    "print([result.to_dict() for result in online_ingestion_instance.results])"
   ]
  },
  {
   "cell_type": "code",
   "execution_count": null,
   "id": "731aa52b",
   "metadata": {},
   "outputs": [],
   "source": [
    "# Get logs from the online ingestion service (useful to check what issues were encountered while ingesting data)\n",
    "online_ingestion_instance.print_logs(priority=\"error\", size=5)"
   ]
  }
 ],
 "metadata": {
  "kernelspec": {
   "display_name": ".venv",
   "language": "python",
   "name": "python3"
  },
  "language_info": {
   "codemirror_mode": {
    "name": "ipython",
    "version": 3
   },
   "file_extension": ".py",
   "mimetype": "text/x-python",
   "name": "python",
   "nbconvert_exporter": "python",
   "pygments_lexer": "ipython3",
   "version": "3.11.11"
  }
 },
 "nbformat": 4,
 "nbformat_minor": 5
}
