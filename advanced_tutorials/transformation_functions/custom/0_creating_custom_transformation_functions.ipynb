{
 "cells": [
  {
   "cell_type": "markdown",
   "id": "d6fb35cf",
   "metadata": {},
   "source": [
    "# <span style=\"color:#ff5f27\"> 👨🏻‍🏫 Custom Transformation Functions</span>\n",
    "\n",
    "In this tutorial you will learn how to create custom transformation functions in hopsworks feature store."
   ]
  },
  {
   "cell_type": "markdown",
   "id": "a19fd127",
   "metadata": {},
   "source": [
    "## <span style=\"color:#ff5f27\">🗄️ Table of Contents</span>\n",
    "- [📝 Imports](#1)\n",
    "- [🔮 Connecting to Hopsworks Feature Store](#2)\n",
    "- [👩🏻‍🔬 Creation of Custom Transformation Functions](#3)\n",
    "- [✔️ Testing Custom Transformation Functions in Hopsworks](#4)- \n",
    "- [✍🏻 Registering Custom Transformation Functions in Hopsworks](#4)"
   ]
  },
  {
   "cell_type": "markdown",
   "id": "3cc6a7e9",
   "metadata": {},
   "source": [
    "<a name='1'></a>\n",
    "# <span style='color:#ff5f27'> 📝 Imports </span>"
   ]
  },
  {
   "cell_type": "code",
   "execution_count": null,
   "id": "22c08e9f",
   "metadata": {},
   "outputs": [],
   "source": [
    "# Importing necessary libraries\n",
    "import pandas as pd                         # For data manipulation and analysis using DataFrames\n",
    "import numpy as np                          # For numerical computations and arrays\n",
    "import os                                   # For operating system-related functions\n",
    "import joblib                               # For saving and loading model files\n",
    "\n",
    "import xgboost as xgb                       # For using the XGBoost machine learning library\n",
    "from sklearn.metrics import accuracy_score  # For evaluating model accuracy"
   ]
  },
  {
   "cell_type": "markdown",
   "id": "b2f4b822",
   "metadata": {},
   "source": [
    "<a name='3'></a>\n",
    "# <span style=\"color:#ff5f27;\"> 🔮 Connecting to Hopsworks Feature Store </span>\n",
    "\n",
    "The next step is to login to the Hopsworks platform. "
   ]
  },
  {
   "cell_type": "code",
   "execution_count": null,
   "id": "49800275",
   "metadata": {},
   "outputs": [],
   "source": [
    "import hopsworks\n",
    "\n",
    "project = hopsworks.login()\n",
    "\n",
    "fs = project.get_feature_store() "
   ]
  },
  {
   "cell_type": "markdown",
   "id": "63b3bab5-e4ba-4c75-bf63-8f72137bd33e",
   "metadata": {},
   "source": [
    "---\n",
    "<a name='2'></a>\n",
    "# <span style=\"color:#ff5f27;\">👩🏻‍🔬 Creation of Custom Transformation Functions</span>\n",
    "\n",
    "In Hopsworks, custom transformation functions can be defined using the `@hopsworks.udf` decorator. These transformation functions are implemented as Pandas UDFs, allowing efficient processing of large datasets. Hopsworks provides support for various types of transformations. Hopsworks also allows you to access training dataset statistics for any of the feature provided as input to the UDF. For more details, you can refer to the official documentation [here](https://docs.hopsworks.ai/latest/user_guides/fs/transformation_functions/).\n",
    "\n",
    "Below are two examples of User-Defined Functions (UDFs): add_one and scaler.\n",
    "\n",
    "The add_one function is a basic transformation that takes a feature as input and increments its value by one."
   ]
  },
  {
   "cell_type": "code",
   "execution_count": null,
   "id": "ba0042ec-cca5-422d-8aea-120422b1fb57",
   "metadata": {},
   "outputs": [],
   "source": [
    "@hopsworks.udf(return_type=int, drop=[\"feature\"])\n",
    "def add_one(feature: pd.Series) -> pd.Series:\n",
    "    return feature + 1"
   ]
  },
  {
   "cell_type": "markdown",
   "id": "1d435446-2850-44b9-b226-40a5c35b63f4",
   "metadata": {},
   "source": [
    "The `scaler` function takes a feature as input, along with its associated statistics, and scales the values to a range between 0 and 1. It then returns the transformed feature."
   ]
  },
  {
   "cell_type": "code",
   "execution_count": null,
   "id": "fc7d9620-40e0-4826-aae2-4b50412e4491",
   "metadata": {},
   "outputs": [],
   "source": [
    "from hopsworks.hsfs.transformation_statistics import TransformationStatistics\n",
    "\n",
    "@hopsworks.udf(return_type=float, drop=[\"feature\"])\n",
    "def scaler(feature: pd.Series, statistics=TransformationStatistics(\"feature\")) -> pd.Series:\n",
    "    return (feature - statistics.feature.min) / (statistics.feature.max - statistics.feature.min)"
   ]
  },
  {
   "cell_type": "markdown",
   "id": "c235d7bb-5f27-4a85-8bd4-19a4b51bb941",
   "metadata": {},
   "source": [
    "<a name='2a'></a>\n",
    "## <span style=\"color:#ff5f27;\">✔️ Testing of Custom Transformation Functions</span>"
   ]
  },
  {
   "cell_type": "markdown",
   "id": "dbc8559e-953d-4d4c-9ba1-a9ad76489635",
   "metadata": {},
   "source": [
    "Once a UDF is defined, it should be thoroughly tested to ensure it works as intended.\n",
    "\n",
    "In Hopsworks, to test a UDF, its `output_column_names` property must be set. Afterward, the executable function can be retrieved using the `get_udf` method.\n",
    "\n",
    "The `output_column_names` attribute needs to be manually set, as it is typically generated when the UDF is attached to a feature group or feature view. Once this is configured, the UDF can be tested by retrieving the executable function with `get_udf` and calling it using a Pandas Series as input."
   ]
  },
  {
   "cell_type": "code",
   "execution_count": null,
   "id": "0f0f9c5a-7a11-4adb-90d8-745bd6452855",
   "metadata": {},
   "outputs": [],
   "source": [
    "# Assign output column names \n",
    "add_one.output_column_names = [\"scaler_feature\"]\n",
    "\n",
    "# Get the excutable UDF based on the transformation statistics\n",
    "udf = add_one.get_udf()\n",
    "\n",
    "# Create testing Series\n",
    "feature = pd.Series([0, 5, 10])\n",
    "\n",
    "print(\"⛳️ The incremented are:\", udf(feature).values.tolist())"
   ]
  },
  {
   "cell_type": "markdown",
   "id": "11b85d73-c8c9-435c-ae83-f8b168105537",
   "metadata": {},
   "source": [
    "The `scaler` UDF relies on the statistics of the training dataset. Therefore, to test it, the transformation_statistics attribute must be set using an instance of the `FeatureDescriptiveStatistics` object, which contains the necessary test values for the statistics."
   ]
  },
  {
   "cell_type": "code",
   "execution_count": null,
   "id": "4a3ba859-74f0-46aa-8fcc-72b404e28070",
   "metadata": {},
   "outputs": [],
   "source": [
    "from hopsworks.hsfs.statistics import FeatureDescriptiveStatistics\n",
    "\n",
    "# Assign test statistics since the UDF uses statistics\n",
    "statistics = [FeatureDescriptiveStatistics(feature_name=\"feature\", min=0, max=10)]\n",
    "scaler.transformation_statistics = statistics\n",
    "\n",
    "# Assign output column names \n",
    "scaler.output_column_names = [\"scaler_feature\"]\n",
    "\n",
    "# Get the excutable UDF based on the transformation statistics\n",
    "udf = scaler.get_udf()\n",
    "\n",
    "# Get testing Series\n",
    "feature = pd.Series([0, 5, 10])\n",
    "\n",
    "print(\"⛳️ The Scaled Values are:\", udf(feature).values.tolist())"
   ]
  },
  {
   "cell_type": "markdown",
   "id": "4d97d0ce-0903-4bab-857d-0231501a0f93",
   "metadata": {},
   "source": [
    "Once a custom transformation function or UDF is defined, it can be used as an [On-Demand transformations](https://docs.hopsworks.ai/latest/user_guides/fs/feature_group/on_demand_transformations/) by attaching the function to a Feature Group, or as a [Model-Dependent transformations](https://docs.hopsworks.ai/latest/user_guides/fs/feature_view/model-dependent-transformations/) by linking it to a Feature View.\n",
    "\n",
    "Additionally, UDFs can be saved in the Hopsworks Feature Store, allowing them to be retrieved and reused in the future."
   ]
  },
  {
   "cell_type": "markdown",
   "id": "1399515f-a0b5-4ed5-b6cd-e912e23680e4",
   "metadata": {},
   "source": [
    "<a name='4'></a>\n",
    "## <span style=\"color:#ff5f27;\"> ✍🏻 Saving Custom Transformation Functions in Hopsworks</span>\n",
    "\n",
    "Transformation functions can be saved in Hopsworks, allowing them to be retrieved and used later.\n",
    "\n",
    "To create a transformation function, use the .create_transformation_function() method with the following parameters:\n",
    "\n",
    "- `transformation_function`: Your custom transformation function/UDF.\n",
    "- `version`: The version of your custom transformation function.\n",
    "\n",
    "Don’t forget to use the .save() method to persist the transformation function in the backend.\n",
    "\n"
   ]
  },
  {
   "cell_type": "code",
   "execution_count": null,
   "id": "e9999454-ff67-4690-a421-e099923bd9b9",
   "metadata": {},
   "outputs": [],
   "source": [
    "scaler = fs.create_transformation_function(\n",
    "        scaler, \n",
    "        version=1,\n",
    "    )\n",
    "scaler.save()"
   ]
  },
  {
   "cell_type": "markdown",
   "id": "47ba7ce6-0c0a-4e84-9a38-2fde3f4b0826",
   "metadata": {},
   "source": [
    "Now let's check if the custom transformation functions is present in the feature store. You can be the function `get_transformation_functions` for this."
   ]
  },
  {
   "cell_type": "code",
   "execution_count": null,
   "id": "0a8f70ea-97c9-417b-94ec-4cb7f23ce0ad",
   "metadata": {},
   "outputs": [],
   "source": [
    "# Check it your transformation functions are present in the feature store\n",
    "[tf for tf in fs.get_transformation_functions()]"
   ]
  },
  {
   "cell_type": "markdown",
   "id": "beeeddad-b3b5-45c3-acbe-b2895de1fcf2",
   "metadata": {},
   "source": [
    "A transformation function saved in Hopworks can be retrived by using the function `get_transformation_function`"
   ]
  },
  {
   "cell_type": "code",
   "execution_count": null,
   "id": "96511d72-eee5-40db-a3ee-104653669a0f",
   "metadata": {},
   "outputs": [],
   "source": [
    "scaler = fs.get_transformation_function(name=\"scaler\", version=1)\n",
    "scaler"
   ]
  },
  {
   "cell_type": "markdown",
   "id": "0c202c74",
   "metadata": {},
   "source": [
    "---"
   ]
  },
  {
   "cell_type": "markdown",
   "id": "bb85ba21-51de-428b-93a3-e05cfe15297d",
   "metadata": {},
   "source": [
    "## <span style=\"color:#ff5f27;\">⏭️ **Next:** Part 01 Feature Pipeline </span>\n",
    "\n",
    "In the following notebook you will create feature groups and use on-demand transformations function to create on-demand features"
   ]
  }
 ],
 "metadata": {
  "kernelspec": {
   "display_name": "Python 3 (ipykernel)",
   "language": "python",
   "name": "python3"
  },
  "language_info": {
   "codemirror_mode": {
    "name": "ipython",
    "version": 3
   },
   "file_extension": ".py",
   "mimetype": "text/x-python",
   "name": "python",
   "nbconvert_exporter": "python",
   "pygments_lexer": "ipython3",
   "version": "3.12.5"
  }
 },
 "nbformat": 4,
 "nbformat_minor": 5
}
