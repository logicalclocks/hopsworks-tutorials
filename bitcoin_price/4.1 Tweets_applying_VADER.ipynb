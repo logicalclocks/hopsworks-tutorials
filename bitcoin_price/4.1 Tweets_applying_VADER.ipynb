{
 "cells": [
  {
   "cell_type": "markdown",
   "id": "76f98680",
   "metadata": {},
   "source": [
    "# Tweets processing with [VADER](https://github.com/cjhutto/vaderSentiment)"
   ]
  },
  {
   "cell_type": "markdown",
   "id": "a40986bd",
   "metadata": {},
   "source": [
    "### <span style=\"color:#ff5f27;\"> 📝 Imports</span>"
   ]
  },
  {
   "cell_type": "code",
   "execution_count": 1,
   "id": "b67390cb",
   "metadata": {},
   "outputs": [],
   "source": [
    "import json\n",
    "import io\n",
    "import re\n",
    "import time\n",
    "import os.path\n",
    "import math\n",
    "\n",
    "import numpy as np\n",
    "import pandas as pd\n",
    "import matplotlib.pyplot as plt\n",
    "import seaborn as sns\n",
    "\n",
    "\n",
    "from datetime import timedelta, datetime\n",
    "from dateutil import parser\n",
    "\n",
    "from vaderSentiment.vaderSentiment import SentimentIntensityAnalyzer\n",
    "from tqdm import tnrange, tqdm_notebook, tqdm\n",
    "\n",
    "from sklearn import preprocessing\n",
    "import matplotlib.pyplot as plt\n",
    "\n",
    "import warnings\n",
    "\n",
    "warnings.filterwarnings('ignore')"
   ]
  },
  {
   "cell_type": "markdown",
   "id": "64aae99b",
   "metadata": {},
   "source": [
    "### <span style=\"color:#ff5f27;\"> 💽 Loading Data</span>"
   ]
  },
  {
   "cell_type": "markdown",
   "id": "220ebef8",
   "metadata": {},
   "source": [
    "## ‼️ Since [this dataset](https://www.kaggle.com/datasets/kaushiksuresh147/bitcoin-tweets) is about 600 Mb, I do not provide it in this GutHub repository, you should manually download it from Kaggle and place that file in this folder"
   ]
  },
  {
   "cell_type": "code",
   "execution_count": 2,
   "id": "a378255b",
   "metadata": {},
   "outputs": [],
   "source": [
    "df_tweets_processed = pd.read_csv(\"tweets_processed.csv\", index_col=0)"
   ]
  },
  {
   "cell_type": "markdown",
   "id": "66104cf0",
   "metadata": {},
   "source": [
    "## <span style='color:#ff5f27'>🤖 Sentiment analysis with VADER</span>"
   ]
  },
  {
   "cell_type": "code",
   "execution_count": 42,
   "id": "48ffd4ed",
   "metadata": {
    "scrolled": true
   },
   "outputs": [
    {
     "data": {
      "text/html": [
       "<div>\n",
       "<style scoped>\n",
       "    .dataframe tbody tr th:only-of-type {\n",
       "        vertical-align: middle;\n",
       "    }\n",
       "\n",
       "    .dataframe tbody tr th {\n",
       "        vertical-align: top;\n",
       "    }\n",
       "\n",
       "    .dataframe thead th {\n",
       "        text-align: right;\n",
       "    }\n",
       "</style>\n",
       "<table border=\"1\" class=\"dataframe\">\n",
       "  <thead>\n",
       "    <tr style=\"text-align: right;\">\n",
       "      <th></th>\n",
       "      <th>date</th>\n",
       "      <th>text</th>\n",
       "    </tr>\n",
       "  </thead>\n",
       "  <tbody>\n",
       "    <tr>\n",
       "      <th>0</th>\n",
       "      <td>2021-02-05 10:52:04</td>\n",
       "      <td>📖  Weekend Read 📖\\n\\nKeen to learn about #cryp...</td>\n",
       "    </tr>\n",
       "    <tr>\n",
       "      <th>1</th>\n",
       "      <td>2021-02-05 10:52:04</td>\n",
       "      <td>2⃣   Debunking 9 #Bitcoin Myths by @Patrick_Lo...</td>\n",
       "    </tr>\n",
       "    <tr>\n",
       "      <th>2</th>\n",
       "      <td>2021-02-05 10:52:06</td>\n",
       "      <td>4⃣  🎙️ Bloomberg LP #CryptoOutlook 2021 with @...</td>\n",
       "    </tr>\n",
       "    <tr>\n",
       "      <th>3</th>\n",
       "      <td>2021-02-05 10:52:07</td>\n",
       "      <td>5⃣   #Blockchain 50 2021 by @DelRayMan, @Forbe...</td>\n",
       "    </tr>\n",
       "    <tr>\n",
       "      <th>4</th>\n",
       "      <td>2021-02-05 10:52:26</td>\n",
       "      <td>#reddcoin #rdd @reddcoin to the moon #altcoin ...</td>\n",
       "    </tr>\n",
       "    <tr>\n",
       "      <th>...</th>\n",
       "      <td>...</td>\n",
       "      <td>...</td>\n",
       "    </tr>\n",
       "    <tr>\n",
       "      <th>3411660</th>\n",
       "      <td>2022-06-04 23:59:32</td>\n",
       "      <td>#Bitcoin #Blockchain Blockfriend nft bot: I ne...</td>\n",
       "    </tr>\n",
       "    <tr>\n",
       "      <th>3411661</th>\n",
       "      <td>2022-06-04 23:59:33</td>\n",
       "      <td>Alchemy announces support for Solana Web3 appl...</td>\n",
       "    </tr>\n",
       "    <tr>\n",
       "      <th>3411662</th>\n",
       "      <td>2022-06-04 23:59:48</td>\n",
       "      <td>Russia's Industrial Giant Rostec Announces Blo...</td>\n",
       "    </tr>\n",
       "    <tr>\n",
       "      <th>3411663</th>\n",
       "      <td>2022-06-04 23:59:49</td>\n",
       "      <td>Is Solana a 'buy' with SOL price at 10-month l...</td>\n",
       "    </tr>\n",
       "    <tr>\n",
       "      <th>3411664</th>\n",
       "      <td>2022-06-04 23:59:49</td>\n",
       "      <td>$1 billion has been lost in cryptocurrency sca...</td>\n",
       "    </tr>\n",
       "  </tbody>\n",
       "</table>\n",
       "<p>3411665 rows × 2 columns</p>\n",
       "</div>"
      ],
      "text/plain": [
       "                        date  \\\n",
       "0        2021-02-05 10:52:04   \n",
       "1        2021-02-05 10:52:04   \n",
       "2        2021-02-05 10:52:06   \n",
       "3        2021-02-05 10:52:07   \n",
       "4        2021-02-05 10:52:26   \n",
       "...                      ...   \n",
       "3411660  2022-06-04 23:59:32   \n",
       "3411661  2022-06-04 23:59:33   \n",
       "3411662  2022-06-04 23:59:48   \n",
       "3411663  2022-06-04 23:59:49   \n",
       "3411664  2022-06-04 23:59:49   \n",
       "\n",
       "                                                      text  \n",
       "0        📖  Weekend Read 📖\\n\\nKeen to learn about #cryp...  \n",
       "1        2⃣   Debunking 9 #Bitcoin Myths by @Patrick_Lo...  \n",
       "2        4⃣  🎙️ Bloomberg LP #CryptoOutlook 2021 with @...  \n",
       "3        5⃣   #Blockchain 50 2021 by @DelRayMan, @Forbe...  \n",
       "4        #reddcoin #rdd @reddcoin to the moon #altcoin ...  \n",
       "...                                                    ...  \n",
       "3411660  #Bitcoin #Blockchain Blockfriend nft bot: I ne...  \n",
       "3411661  Alchemy announces support for Solana Web3 appl...  \n",
       "3411662  Russia's Industrial Giant Rostec Announces Blo...  \n",
       "3411663  Is Solana a 'buy' with SOL price at 10-month l...  \n",
       "3411664  $1 billion has been lost in cryptocurrency sca...  \n",
       "\n",
       "[3411665 rows x 2 columns]"
      ]
     },
     "execution_count": 42,
     "metadata": {},
     "output_type": "execute_result"
    }
   ],
   "source": [
    "df_tweets_processed"
   ]
  },
  {
   "cell_type": "code",
   "execution_count": 4,
   "id": "59ebd20e",
   "metadata": {},
   "outputs": [],
   "source": [
    "def timestamp_2_time(x):\n",
    "    dt_obj = datetime.datetime.strptime(str(x), '%Y-%m-%d %H:%M:%S')\n",
    "    dt_obj = dt_obj.timestamp() * 1000\n",
    "    return int(dt_obj)"
   ]
  },
  {
   "cell_type": "code",
   "execution_count": 5,
   "id": "f8b063cf",
   "metadata": {},
   "outputs": [],
   "source": [
    "def vader_processing(df):\n",
    "    \"\"\"\n",
    "    Takes a DataFrame with 'text' column (cleaned using 'clean_text1' function) and\n",
    "    returns a DataFrame with VADER-analized score.\n",
    "    \"\"\"\n",
    "    \n",
    "    analyzer = SentimentIntensityAnalyzer()\n",
    "    compound = []\n",
    "    for i,s in enumerate(tqdm(df['text'], position=0, leave=True)):\n",
    "        # print(i,s)\n",
    "        vs = analyzer.polarity_scores(str(s))\n",
    "        compound.append(vs[\"compound\"])\n",
    "    df[\"compound\"] = compound\n",
    "    df = df.set_index(\"date\")[[\"compound\"]]\n",
    "    df = df.resample('1D').sum()\n",
    "    df = df.reset_index()\n",
    "    df['date'] = df['date'].dt.strftime('%Y-%m-%d %H:%M:%S')\n",
    "    df['unix'] = df.date.apply(timestamp_2_time)\n",
    "    \n",
    "    return df"
   ]
  },
  {
   "cell_type": "code",
   "execution_count": 61,
   "id": "16347ae2",
   "metadata": {
    "scrolled": true
   },
   "outputs": [
    {
     "data": {
      "text/html": [
       "<div>\n",
       "<style scoped>\n",
       "    .dataframe tbody tr th:only-of-type {\n",
       "        vertical-align: middle;\n",
       "    }\n",
       "\n",
       "    .dataframe tbody tr th {\n",
       "        vertical-align: top;\n",
       "    }\n",
       "\n",
       "    .dataframe thead th {\n",
       "        text-align: right;\n",
       "    }\n",
       "</style>\n",
       "<table border=\"1\" class=\"dataframe\">\n",
       "  <thead>\n",
       "    <tr style=\"text-align: right;\">\n",
       "      <th></th>\n",
       "      <th>compound</th>\n",
       "    </tr>\n",
       "    <tr>\n",
       "      <th>date</th>\n",
       "      <th></th>\n",
       "    </tr>\n",
       "  </thead>\n",
       "  <tbody>\n",
       "    <tr>\n",
       "      <th>2021-02-05 10:00:00</th>\n",
       "      <td>3.4982</td>\n",
       "    </tr>\n",
       "    <tr>\n",
       "      <th>2021-02-05 11:00:00</th>\n",
       "      <td>10.0761</td>\n",
       "    </tr>\n",
       "    <tr>\n",
       "      <th>2021-02-05 12:00:00</th>\n",
       "      <td>30.7303</td>\n",
       "    </tr>\n",
       "    <tr>\n",
       "      <th>2021-02-05 13:00:00</th>\n",
       "      <td>15.8591</td>\n",
       "    </tr>\n",
       "    <tr>\n",
       "      <th>2021-02-05 14:00:00</th>\n",
       "      <td>23.8470</td>\n",
       "    </tr>\n",
       "    <tr>\n",
       "      <th>...</th>\n",
       "      <td>...</td>\n",
       "    </tr>\n",
       "    <tr>\n",
       "      <th>2022-06-04 19:00:00</th>\n",
       "      <td>337.2420</td>\n",
       "    </tr>\n",
       "    <tr>\n",
       "      <th>2022-06-04 20:00:00</th>\n",
       "      <td>242.6676</td>\n",
       "    </tr>\n",
       "    <tr>\n",
       "      <th>2022-06-04 21:00:00</th>\n",
       "      <td>203.8503</td>\n",
       "    </tr>\n",
       "    <tr>\n",
       "      <th>2022-06-04 22:00:00</th>\n",
       "      <td>195.7079</td>\n",
       "    </tr>\n",
       "    <tr>\n",
       "      <th>2022-06-04 23:00:00</th>\n",
       "      <td>171.0472</td>\n",
       "    </tr>\n",
       "  </tbody>\n",
       "</table>\n",
       "<p>11630 rows × 1 columns</p>\n",
       "</div>"
      ],
      "text/plain": [
       "                     compound\n",
       "date                         \n",
       "2021-02-05 10:00:00    3.4982\n",
       "2021-02-05 11:00:00   10.0761\n",
       "2021-02-05 12:00:00   30.7303\n",
       "2021-02-05 13:00:00   15.8591\n",
       "2021-02-05 14:00:00   23.8470\n",
       "...                       ...\n",
       "2022-06-04 19:00:00  337.2420\n",
       "2022-06-04 20:00:00  242.6676\n",
       "2022-06-04 21:00:00  203.8503\n",
       "2022-06-04 22:00:00  195.7079\n",
       "2022-06-04 23:00:00  171.0472\n",
       "\n",
       "[11630 rows x 1 columns]"
      ]
     },
     "execution_count": 61,
     "metadata": {},
     "output_type": "execute_result"
    }
   ],
   "source": [
    "tweets_vader = vader_processing(df_tweets_processed)\n",
    "tweets_vader"
   ]
  },
  {
   "cell_type": "markdown",
   "id": "8cdf094e",
   "metadata": {},
   "source": [
    "## <span style='color:#ff5f27'> 📥 Save the results</span>"
   ]
  },
  {
   "cell_type": "code",
   "execution_count": 6,
   "id": "8e4a016c",
   "metadata": {},
   "outputs": [],
   "source": [
    "tweets_vader.to_csv(\"tweets_vader.csv\")"
   ]
  }
 ],
 "metadata": {
  "kernelspec": {
   "display_name": "venv",
   "language": "python",
   "name": "venv"
  },
  "language_info": {
   "codemirror_mode": {
    "name": "ipython",
    "version": 3
   },
   "file_extension": ".py",
   "mimetype": "text/x-python",
   "name": "python",
   "nbconvert_exporter": "python",
   "pygments_lexer": "ipython3",
   "version": "3.10.4"
  }
 },
 "nbformat": 4,
 "nbformat_minor": 5
}
