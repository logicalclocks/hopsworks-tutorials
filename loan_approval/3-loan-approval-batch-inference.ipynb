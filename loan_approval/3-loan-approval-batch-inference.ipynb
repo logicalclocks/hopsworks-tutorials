{
 "cells": [
  {
   "cell_type": "code",
   "execution_count": 1,
   "id": "8efc53a7",
   "metadata": {},
   "outputs": [],
   "source": [
    "import hopsworks\n",
    "import pandas as pd\n",
    "import joblib\n",
    "import os\n",
    "from sklearn.linear_model import LogisticRegression\n",
    "import numpy as np\n",
    "\n",
    "from sklearn.compose import ColumnTransformer\n",
    "from sklearn.pipeline import Pipeline\n",
    "from sklearn.impute import SimpleImputer\n",
    "from sklearn.preprocessing import StandardScaler, OneHotEncoder\n",
    "from sklearn.feature_selection import SelectPercentile, chi2\n"
   ]
  },
  {
   "cell_type": "code",
   "execution_count": 2,
   "id": "c61e3adc",
   "metadata": {},
   "outputs": [],
   "source": [
    "fv_version=1\n",
    "model_version=1\n",
    "td_version=1"
   ]
  },
  {
   "cell_type": "code",
   "execution_count": 3,
   "id": "08d84d68",
   "metadata": {},
   "outputs": [],
   "source": [
    "# key=\"\"\n",
    "# with open(\"api-key.txt\", \"r\") as f:\n",
    "#     key = f.read().rstrip()\n",
    "# # os.environ['HOPSWORKS_PROJECT']=\"loan_approval\"\n",
    "# # os.environ['HOPSWORKS_HOST']=\"staging.cloud.hopsworks.ai\"\n",
    "# os.environ['HOPSWORKS_PROJECT']=\"deloitte\"\n",
    "# os.environ['HOPSWORKS_HOST']=\"6a525ee0-91d8-11ed-9cc8-9fe82dc2b6fd.cloud.hopsworks.ai\"\n",
    "# os.environ['HOPSWORKS_API_KEY']=key"
   ]
  },
  {
   "cell_type": "code",
   "execution_count": 4,
   "id": "7f8cd469",
   "metadata": {},
   "outputs": [
    {
     "name": "stdout",
     "output_type": "stream",
     "text": [
      "Connected. Call `.close()` to terminate connection gracefully.\n",
      "\n",
      "Logged in to project, explore it here https://c.app.hopsworks.ai:443/p/398\n",
      "Connected. Call `.close()` to terminate connection gracefully.\n"
     ]
    },
    {
     "name": "stderr",
     "output_type": "stream",
     "text": [
      "DeprecationWarning: the imp module is deprecated in favour of importlib; see the module's documentation for alternative uses\n"
     ]
    }
   ],
   "source": [
    "import hopsworks\n",
    "\n",
    "proj = hopsworks.login()\n",
    "fs = proj.get_feature_store()"
   ]
  },
  {
   "cell_type": "code",
   "execution_count": 5,
   "id": "34d8e82a",
   "metadata": {},
   "outputs": [],
   "source": [
    "fv = fs.get_feature_view(name=\"loans_applicants\", version=fv_version)"
   ]
  },
  {
   "cell_type": "code",
   "execution_count": null,
   "id": "118a3d2f",
   "metadata": {},
   "outputs": [],
   "source": [
    "fv.init_batch_scoring(training_dataset_version=td_version)"
   ]
  },
  {
   "cell_type": "code",
   "execution_count": null,
   "id": "de2a5572",
   "metadata": {},
   "outputs": [],
   "source": [
    "def retrieve_data(feature_view):\n",
    "    batch_data = feature_view.get_batch_data()\n",
    "    return batch_data\n",
    "\n",
    "df = retrieve_data(fv)\n",
    "df"
   ]
  },
  {
   "cell_type": "code",
   "execution_count": null,
   "id": "c435cd7c",
   "metadata": {},
   "outputs": [],
   "source": [
    "def get_model(project):\n",
    "    mr = project.get_model_registry()\n",
    "    model = mr.get_model(\"lending_model\", version=model_version)\n",
    "    model_dir = model.download()\n",
    "    return joblib.load(model_dir + \"/lending_model.pkl\")\n",
    "\n",
    "model = get_model(proj)"
   ]
  },
  {
   "cell_type": "code",
   "execution_count": null,
   "id": "37127def",
   "metadata": {},
   "outputs": [],
   "source": [
    "predictions = model.predict(df)\n",
    "predictions"
   ]
  },
  {
   "cell_type": "code",
   "execution_count": null,
   "id": "405e2098",
   "metadata": {},
   "outputs": [],
   "source": [
    "np.unique(predictions, return_counts=True)"
   ]
  },
  {
   "cell_type": "code",
   "execution_count": 13,
   "id": "6ba4e36c",
   "metadata": {},
   "outputs": [
    {
     "name": "stdout",
     "output_type": "stream",
     "text": [
      "['loan_amnt', 'term', 'int_rate', 'installment', 'sub_grade', 'loan_status', 'purpose', 'zip_code', 'earliest_cr_line_year', 'home_ownership', 'annual_inc', 'verification_status', 'dti', 'open_acc', 'pub_rec', 'revol_bal', 'revol_util', 'total_acc', 'initial_list_status', 'application_type', 'mort_acc', 'pub_rec_bankruptcies']\n"
     ]
    }
   ],
   "source": [
    "cols = []\n",
    "for td in fv.schema:\n",
    "    cols.append(td.name)\n",
    "\n",
    "predictions = pd.DataFrame(numpy_array, columns=cols)"
   ]
  },
  {
   "cell_type": "code",
   "execution_count": null,
   "id": "0812876c",
   "metadata": {},
   "outputs": [],
   "source": [
    "applicants_fg = fs.get_or_create_feature_group(name=\"applicants\",\n",
    "                                    version=1,\n",
    "                                    description=\"Lending Club Loan Applicants\",\n",
    "                                    online_enabled=True,\n",
    "                                    primary_key=['id'],\n",
    "                                    partition_key=['earliest_cr_line_year'],\n",
    "                                    event_time='earliest_cr_line'\n",
    ")"
   ]
  }
 ],
 "metadata": {
  "kernelspec": {
   "display_name": "Python 3 (ipykernel)",
   "language": "python",
   "name": "python3"
  },
  "language_info": {
   "codemirror_mode": {
    "name": "ipython",
    "version": 3
   },
   "file_extension": ".py",
   "mimetype": "text/x-python",
   "name": "python",
   "nbconvert_exporter": "python",
   "pygments_lexer": "ipython3",
   "version": "3.8.13"
  },
  "papermill": {
   "default_parameters": {},
   "duration": 1434.559462,
   "end_time": "2023-01-31T14:35:09.548746",
   "environment_variables": {},
   "exception": null,
   "input_path": "__notebook__.ipynb",
   "output_path": "__notebook__.ipynb",
   "parameters": {},
   "start_time": "2023-01-31T14:11:14.989284",
   "version": "2.3.4"
  }
 },
 "nbformat": 4,
 "nbformat_minor": 5
}
