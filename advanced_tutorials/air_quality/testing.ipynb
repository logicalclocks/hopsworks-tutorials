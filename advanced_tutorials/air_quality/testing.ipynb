{
 "cells": [
  {
   "cell_type": "code",
   "execution_count": 11,
   "id": "b3cffcc5-091a-4e06-97db-62f07f3b39eb",
   "metadata": {},
   "outputs": [
    {
     "name": "stdout",
     "output_type": "stream",
     "text": [
      "Connection closed.\n",
      "Connected. Call `.close()` to terminate connection gracefully.\n"
     ]
    },
    {
     "name": "stderr",
     "output_type": "stream",
     "text": [
      "\n",
      "\n"
     ]
    },
    {
     "name": "stdout",
     "output_type": "stream",
     "text": [
      "\n",
      "Logged in to project, explore it here https://c.app.hopsworks.ai:443/p/14502\n"
     ]
    }
   ],
   "source": [
    "import hopsworks\n",
    "\n",
    "project = hopsworks.login()"
   ]
  },
  {
   "cell_type": "code",
   "execution_count": null,
   "id": "39b88b6c-9efd-4dd8-a529-92c0875262ca",
   "metadata": {
    "scrolled": true,
    "tags": []
   },
   "outputs": [
    {
     "name": "stdout",
     "output_type": "stream",
     "text": [
      "\u001b[0m\n",
      "\u001b[34m\u001b[1m  You can now view your Streamlit app in your browser.\u001b[0m\n",
      "\u001b[0m\n",
      "\u001b[34m  Local URL: \u001b[0m\u001b[1mhttp://localhost:8501\u001b[0m\n",
      "\u001b[34m  Network URL: \u001b[0m\u001b[1mhttp://192.168.20.30:8501\u001b[0m\n",
      "\u001b[0m\n",
      "\u001b[34m\u001b[1m  For better performance, install the Watchdog module:\u001b[0m\n",
      "\n",
      "  $ xcode-select --install\n",
      "  $ pip install watchdog\n",
      "            \u001b[0m\n",
      "Connected. Call `.close()` to terminate connection gracefully.\n",
      "\n",
      "Logged in to project, explore it here https://c.app.hopsworks.ai:443/p/14502\n",
      "Connected. Call `.close()` to terminate connection gracefully.\n",
      "2023-04-20 16:40:56.448 USE `test5_featurestore`\n",
      "UserWarning: pandas only supports SQLAlchemy connectable (engine/connection) or database string URI or sqlite3 DBAPI2 connection. Other DBAPI2 objects are not tested. Please consider using SQLAlchemy.\n",
      "2023-04-20 16:40:56.942 WITH right_fg0 AS (SELECT *\n",
      "FROM (SELECT `fg1`.`city_name` `city_name`, `fg1`.`date` `date`, `fg1`.`pm2_5` `pm2_5`, `fg1`.`pm_2_5_previous_1_day` `pm_2_5_previous_1_day`, `fg1`.`pm_2_5_previous_2_day` `pm_2_5_previous_2_day`, `fg1`.`pm_2_5_previous_3_day` `pm_2_5_previous_3_day`, `fg1`.`pm_2_5_previous_4_day` `pm_2_5_previous_4_day`, `fg1`.`pm_2_5_previous_5_day` `pm_2_5_previous_5_day`, `fg1`.`pm_2_5_previous_6_day` `pm_2_5_previous_6_day`, `fg1`.`pm_2_5_previous_7_day` `pm_2_5_previous_7_day`, `fg1`.`mean_7_days` `mean_7_days`, `fg1`.`mean_14_days` `mean_14_days`, `fg1`.`mean_28_days` `mean_28_days`, `fg1`.`std_7_days` `std_7_days`, `fg1`.`exp_mean_7_days` `exp_mean_7_days`, `fg1`.`exp_std_7_days` `exp_std_7_days`, `fg1`.`std_14_days` `std_14_days`, `fg1`.`exp_mean_14_days` `exp_mean_14_days`, `fg1`.`exp_std_14_days` `exp_std_14_days`, `fg1`.`std_28_days` `std_28_days`, `fg1`.`exp_mean_28_days` `exp_mean_28_days`, `fg1`.`exp_std_28_days` `exp_std_28_days`, `fg1`.`year` `year`, `fg1`.`day_of_month` `day_of_month`, `fg1`.`month` `month`, `fg1`.`day_of_week` `day_of_week`, `fg1`.`is_weekend` `is_weekend`, `fg1`.`sin_day_of_year` `sin_day_of_year`, `fg1`.`cos_day_of_year` `cos_day_of_year`, `fg1`.`sin_day_of_week` `sin_day_of_week`, `fg1`.`cos_day_of_week` `cos_day_of_week`, `fg1`.`unix_time` `unix_time`, `fg1`.`city_name` `join_pk_city_name`, `fg1`.`unix_time` `join_pk_unix_time`, `fg1`.`unix_time` `join_evt_unix_time`, `fg0`.`temperature_max` `temperature_max`, `fg0`.`temperature_min` `temperature_min`, `fg0`.`precipitation_sum` `precipitation_sum`, `fg0`.`rain_sum` `rain_sum`, `fg0`.`snowfall_sum` `snowfall_sum`, `fg0`.`precipitation_hours` `precipitation_hours`, `fg0`.`wind_speed_max` `wind_speed_max`, `fg0`.`wind_gusts_max` `wind_gusts_max`, `fg0`.`wind_direction_dominant` `wind_direction_dominant`, RANK() OVER (PARTITION BY `fg1`.`city_name`, `fg1`.`date`, `fg1`.`unix_time` ORDER BY `fg0`.`unix_time` DESC) pit_rank_hopsworks\n",
      "FROM `test5_featurestore`.`air_quality_1` `fg1`\n",
      "INNER JOIN `test5_featurestore`.`weather_1` `fg0` ON `fg1`.`city_name` = `fg0`.`city_name` AND `fg1`.`date` = `fg0`.`date` AND `fg1`.`unix_time` >= `fg0`.`unix_time`\n",
      "WHERE `fg1`.`unix_time` >= 1676764800000) NA\n",
      "WHERE `pit_rank_hopsworks` = 1) (SELECT `right_fg0`.`city_name` `city_name`, `right_fg0`.`date` `date`, `right_fg0`.`pm2_5` `pm2_5`, `right_fg0`.`pm_2_5_previous_1_day` `pm_2_5_previous_1_day`, `right_fg0`.`pm_2_5_previous_2_day` `pm_2_5_previous_2_day`, `right_fg0`.`pm_2_5_previous_3_day` `pm_2_5_previous_3_day`, `right_fg0`.`pm_2_5_previous_4_day` `pm_2_5_previous_4_day`, `right_fg0`.`pm_2_5_previous_5_day` `pm_2_5_previous_5_day`, `right_fg0`.`pm_2_5_previous_6_day` `pm_2_5_previous_6_day`, `right_fg0`.`pm_2_5_previous_7_day` `pm_2_5_previous_7_day`, `right_fg0`.`mean_7_days` `mean_7_days`, `right_fg0`.`mean_14_days` `mean_14_days`, `right_fg0`.`mean_28_days` `mean_28_days`, `right_fg0`.`std_7_days` `std_7_days`, `right_fg0`.`exp_mean_7_days` `exp_mean_7_days`, `right_fg0`.`exp_std_7_days` `exp_std_7_days`, `right_fg0`.`std_14_days` `std_14_days`, `right_fg0`.`exp_mean_14_days` `exp_mean_14_days`, `right_fg0`.`exp_std_14_days` `exp_std_14_days`, `right_fg0`.`std_28_days` `std_28_days`, `right_fg0`.`exp_mean_28_days` `exp_mean_28_days`, `right_fg0`.`exp_std_28_days` `exp_std_28_days`, `right_fg0`.`year` `year`, `right_fg0`.`day_of_month` `day_of_month`, `right_fg0`.`month` `month`, `right_fg0`.`day_of_week` `day_of_week`, `right_fg0`.`is_weekend` `is_weekend`, `right_fg0`.`sin_day_of_year` `sin_day_of_year`, `right_fg0`.`cos_day_of_year` `cos_day_of_year`, `right_fg0`.`sin_day_of_week` `sin_day_of_week`, `right_fg0`.`cos_day_of_week` `cos_day_of_week`, `right_fg0`.`unix_time` `unix_time`, `right_fg0`.`temperature_max` `temperature_max`, `right_fg0`.`temperature_min` `temperature_min`, `right_fg0`.`precipitation_sum` `precipitation_sum`, `right_fg0`.`rain_sum` `rain_sum`, `right_fg0`.`snowfall_sum` `snowfall_sum`, `right_fg0`.`precipitation_hours` `precipitation_hours`, `right_fg0`.`wind_speed_max` `wind_speed_max`, `right_fg0`.`wind_gusts_max` `wind_gusts_max`, `right_fg0`.`wind_direction_dominant` `wind_direction_dominant`\n",
      "FROM right_fg0)\n",
      "2023-04-20 16:41:28.519 Uncaught app exception\n",
      "Traceback (most recent call last):\n",
      "  File \"/Users/romankah/mambaforge/envs/venv38_new/lib/python3.8/site-packages/streamlit/runtime/scriptrunner/script_runner.py\", line 565, in _run_script\n",
      "    exec(code, module.__dict__)\n",
      "  File \"/Users/romankah/Documents/hopsworks/hopsworks-tutorials/advanced_tutorials/air_quality/streamlit_app.py\", line 165, in <module>\n",
      "    fancy_header(\"\\n ⏱ Everything is up-to-date!\")\n",
      "NameError: name 'fancy_header' is not defined\n",
      "Connection closed.\n",
      "Connected. Call `.close()` to terminate connection gracefully.\n",
      "\n",
      "Logged in to project, explore it here https://c.app.hopsworks.ai:443/p/14502\n",
      "Connected. Call `.close()` to terminate connection gracefully.\n",
      "2023-04-20 16:41:48.531 `label` got an empty value. This is discouraged for accessibility reasons and may be disallowed in the future by raising an exception. Please provide a non-empty label and hide it with label_visibility if needed.\n",
      "'NoneType' object is not subscriptable\n",
      "2023-04-20 16:41:48.608 `label` got an empty value. This is discouraged for accessibility reasons and may be disallowed in the future by raising an exception. Please provide a non-empty label and hide it with label_visibility if needed.\n",
      "Connection closed.\n",
      "Connected. Call `.close()` to terminate connection gracefully.\n",
      "\n",
      "Logged in to project, explore it here https://c.app.hopsworks.ai:443/p/14502\n",
      "Connected. Call `.close()` to terminate connection gracefully.\n",
      "2023-04-20 16:43:43.364 `label` got an empty value. This is discouraged for accessibility reasons and may be disallowed in the future by raising an exception. Please provide a non-empty label and hide it with label_visibility if needed.\n",
      "'NoneType' object is not subscriptable\n",
      "2023-04-20 16:43:43.422 `label` got an empty value. This is discouraged for accessibility reasons and may be disallowed in the future by raising an exception. Please provide a non-empty label and hide it with label_visibility if needed.\n",
      "Connected. Call `.close()` to terminate connection gracefully.\n",
      "Downloading file ... Parsed weather for New York since 2023-04-21 till 2023-04-21.\n",
      "Took 0.12 sec.\n",
      "\n",
      "Parsed weather for New York since 2023-04-22 till 2023-04-22.\n",
      "Took 0.13 sec.\n",
      "\n",
      "Parsed weather for New York since 2023-04-23 till 2023-04-23.\n",
      "Took 0.12 sec.\n",
      "\n",
      "Parsed weather for New York since 2023-04-24 till 2023-04-24.\n",
      "Took 0.13 sec.\n",
      "\n",
      "Parsed weather for New York since 2023-04-25 till 2023-04-25.\n",
      "Took 0.13 sec.\n",
      "\n",
      "Parsed weather for New York since 2023-04-26 till 2023-04-26.\n",
      "Took 0.12 sec.\n",
      "\n",
      "Parsed weather for New York since 2023-04-27 till 2023-04-27.\n",
      "Took 0.13 sec.\n",
      "\n",
      "Parsed weather for Tampa since 2023-04-21 till 2023-04-21.\n",
      "Took 0.12 sec.\n",
      "\n",
      "Parsed weather for Tampa since 2023-04-22 till 2023-04-22.\n",
      "Took 0.16 sec.\n",
      "\n",
      "Parsed weather for Tampa since 2023-04-23 till 2023-04-23.\n",
      "Took 0.12 sec.\n",
      "\n",
      "Parsed weather for Tampa since 2023-04-24 till 2023-04-24.\n",
      "Took 0.13 sec.\n",
      "\n",
      "Parsed weather for Tampa since 2023-04-25 till 2023-04-25.\n",
      "Took 0.12 sec.\n",
      "\n",
      "Parsed weather for Tampa since 2023-04-26 till 2023-04-26.\n",
      "Took 0.12 sec.\n",
      "\n",
      "Parsed weather for Tampa since 2023-04-27 till 2023-04-27.\n",
      "Took 0.12 sec.\n",
      "\n",
      "Connection closed.\n",
      "Connected. Call `.close()` to terminate connection gracefully.\n",
      "\n",
      "Logged in to project, explore it here https://c.app.hopsworks.ai:443/p/14502\n",
      "Connected. Call `.close()` to terminate connection gracefully.\n",
      "2023-04-20 16:46:06.943 `label` got an empty value. This is discouraged for accessibility reasons and may be disallowed in the future by raising an exception. Please provide a non-empty label and hide it with label_visibility if needed.\n",
      "'NoneType' object is not subscriptable\n",
      "2023-04-20 16:46:07.019 `label` got an empty value. This is discouraged for accessibility reasons and may be disallowed in the future by raising an exception. Please provide a non-empty label and hide it with label_visibility if needed.\n",
      "Connection closed.\n",
      "Connected. Call `.close()` to terminate connection gracefully.\n",
      "\n",
      "Logged in to project, explore it here https://c.app.hopsworks.ai:443/p/14502\n",
      "Connected. Call `.close()` to terminate connection gracefully.\n",
      "2023-04-20 16:46:15.289 `label` got an empty value. This is discouraged for accessibility reasons and may be disallowed in the future by raising an exception. Please provide a non-empty label and hide it with label_visibility if needed.\n",
      "'NoneType' object is not subscriptable\n",
      "2023-04-20 16:46:15.407 `label` got an empty value. This is discouraged for accessibility reasons and may be disallowed in the future by raising an exception. Please provide a non-empty label and hide it with label_visibility if needed.\n",
      "Parsed weather for TACOMA - L STREET since 2023-04-21 till 2023-04-21.\n",
      "Took 0.13 sec.\n",
      "\n",
      "2023-04-20 16:46:15.687 Uncaught app exception\n",
      "Traceback (most recent call last):\n",
      "  File \"/Users/romankah/mambaforge/envs/venv38_new/lib/python3.8/site-packages/streamlit/runtime/scriptrunner/script_runner.py\", line 565, in _run_script\n",
      "    exec(code, module.__dict__)\n",
      "  File \"/Users/romankah/Documents/hopsworks/hopsworks-tutorials/advanced_tutorials/air_quality/streamlit_app.py\", line 431, in <module>\n",
      "    df_temp['pm2_5'] = round(preds_temp[0], 1)\n",
      "IndexError: index 0 is out of bounds for axis 0 with size 0\n"
     ]
    }
   ],
   "source": [
    "!python3 -m streamlit run streamlit_app.py"
   ]
  },
  {
   "cell_type": "code",
   "execution_count": 23,
   "id": "71410302-37d9-4ffc-8dbf-85493975a24f",
   "metadata": {
    "tags": []
   },
   "outputs": [],
   "source": []
  },
  {
   "cell_type": "code",
   "execution_count": null,
   "id": "e1d02154-028e-4a77-9068-95506571b3fe",
   "metadata": {},
   "outputs": [],
   "source": []
  }
 ],
 "metadata": {
  "kernelspec": {
   "display_name": "Python 3 (ipykernel)",
   "language": "python",
   "name": "python3"
  },
  "language_info": {
   "codemirror_mode": {
    "name": "ipython",
    "version": 3
   },
   "file_extension": ".py",
   "mimetype": "text/x-python",
   "name": "python",
   "nbconvert_exporter": "python",
   "pygments_lexer": "ipython3",
   "version": "3.8.16"
  }
 },
 "nbformat": 4,
 "nbformat_minor": 5
}
