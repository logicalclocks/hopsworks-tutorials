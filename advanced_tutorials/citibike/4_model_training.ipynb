{
 "cells": [
  {
   "cell_type": "markdown",
   "id": "1b612e17",
   "metadata": {
    "id": "1b612e17"
   },
   "source": [
    "# <span style=\"font-width:bold; font-size: 3rem; color:#1EB182;\">**Hopsworks Feature Store** </span> <span style=\"font-width:bold; font-size: 3rem; color:#333;\">- Part 04: Model training & UI Exploration</span>\n",
    "\n",
    "[![Open In Colab](https://colab.research.google.com/assets/colab-badge.svg)](https://colab.research.google.com/github/logicalclocks/hopsworks-tutorials/blob/master/advanced_tutorials/electricity/4_model_training_and_registration.ipynb)\n",
    "\n",
    "\n",
    "## 🗒️ This notebook is divided into 3 main sections:\n",
    "1. **Loading the training data**\n",
    "2. **Train the model**\n",
    "3. **Register model to Hopsworks model registry**.\n",
    "\n",
    "![tutorial-flow](https://github.com/logicalclocks/hopsworks-tutorials/blob/master/images/03_model.png?raw=1)"
   ]
  },
  {
   "cell_type": "markdown",
   "id": "11eed10e",
   "metadata": {
    "id": "11eed10e"
   },
   "source": [
    "### <span style=\"color:#ff5f27;\">📝 Importing Libraries</span>"
   ]
  },
  {
   "cell_type": "code",
   "execution_count": null,
   "id": "4b4b3b4f",
   "metadata": {
    "id": "4b4b3b4f"
   },
   "outputs": [],
   "source": [
    "!pip install -U hopsworks --quiet\n",
    "!pip install -U tensorflow --quiet"
   ]
  },
  {
   "cell_type": "code",
   "execution_count": null,
   "id": "3604c7c0",
   "metadata": {
    "id": "3604c7c0"
   },
   "outputs": [],
   "source": [
    "from __future__ import print_function\n",
    "\n",
    "import tensorflow as tf\n",
    "\n",
    "import pandas as pd\n",
    "import numpy as np\n",
    "\n",
    "import matplotlib.pyplot as plt\n",
    "from matplotlib.ticker import FuncFormatter\n",
    "import seaborn as sns\n",
    "\n",
    "%config InlineBackend.figure_format='retina'\n",
    "%matplotlib inline\n",
    "\n",
    "from IPython.display import set_matplotlib_formats\n",
    "set_matplotlib_formats('retina', quality=100)\n",
    "\n",
    "import warnings\n",
    "warnings.filterwarnings('ignore')"
   ]
  },
  {
   "cell_type": "markdown",
   "id": "b9346974",
   "metadata": {
    "id": "b9346974"
   },
   "source": [
    "---"
   ]
  },
  {
   "cell_type": "markdown",
   "id": "c8a725b8",
   "metadata": {
    "id": "c8a725b8"
   },
   "source": [
    "## <span style=\"color:#ff5f27;\"> 📡 Connecting to Hopsworks Feature Store </span>"
   ]
  },
  {
   "cell_type": "code",
   "execution_count": null,
   "id": "6041e702",
   "metadata": {
    "colab": {
     "base_uri": "https://localhost:8080/"
    },
    "id": "6041e702",
    "outputId": "807efbf0-d40e-49e5-cc38-cfc5bb7dccc3"
   },
   "outputs": [],
   "source": [
    "import hopsworks\n",
    "\n",
    "project = hopsworks.login()\n",
    "\n",
    "fs = project.get_feature_store()"
   ]
  },
  {
   "cell_type": "markdown",
   "id": "073728d9",
   "metadata": {
    "id": "073728d9"
   },
   "source": [
    "---\n",
    "\n",
    "## <span style=\"color:#ff5f27;\">🪝 Feature View and Training Dataset Retrieval</span>"
   ]
  },
  {
   "cell_type": "code",
   "execution_count": null,
   "id": "fa9c92c8",
   "metadata": {
    "id": "fa9c92c8"
   },
   "outputs": [],
   "source": [
    "feature_view = fs.get_feature_view(\n",
    "    name = 'electricity_feature_view',\n",
    "    version = 1\n",
    ")"
   ]
  },
  {
   "cell_type": "code",
   "execution_count": null,
   "id": "02d2c382",
   "metadata": {
    "id": "02d2c382"
   },
   "outputs": [],
   "source": [
    "X_train, _ = feature_view.get_training_data(1)\n",
    "X_val, _ = feature_view.get_training_data(2)\n",
    "X_test, _ = feature_view.get_training_data(3)"
   ]
  },
  {
   "cell_type": "code",
   "execution_count": null,
   "id": "18845e8b",
   "metadata": {
    "id": "18845e8b"
   },
   "outputs": [],
   "source": [
    "X_train.sort_values([\"timestamp\"], inplace=True)\n",
    "X_val.sort_values([\"timestamp\"], inplace=True)\n",
    "X_test.sort_values([\"timestamp\"], inplace=True)"
   ]
  },
  {
   "cell_type": "code",
   "execution_count": null,
   "id": "c6734e9f",
   "metadata": {
    "id": "c6734e9f"
   },
   "outputs": [],
   "source": [
    "y_train = X_train[[\"price_se1\", \"price_se2\", \"price_se3\", \"price_se4\"]]\n",
    "y_val = X_val[[\"price_se1\", \"price_se2\", \"price_se3\", \"price_se4\"]]\n",
    "y_test = X_test[[\"price_se1\", \"price_se2\", \"price_se3\", \"price_se4\"]]"
   ]
  },
  {
   "cell_type": "code",
   "execution_count": null,
   "id": "43f7504c",
   "metadata": {
    "id": "43f7504c"
   },
   "outputs": [],
   "source": [
    "X_train.drop([\"day\", \"timestamp\"], axis = 1, inplace = True)\n",
    "X_val.drop([\"day\", \"timestamp\"], axis = 1, inplace = True)\n",
    "X_test.drop([\"day\", \"timestamp\"], axis = 1, inplace = True)"
   ]
  },
  {
   "cell_type": "code",
   "execution_count": null,
   "id": "7e43eab9",
   "metadata": {
    "colab": {
     "base_uri": "https://localhost:8080/",
     "height": 299
    },
    "id": "7e43eab9",
    "outputId": "4df42068-b071-4f8d-ee15-dd12b1c23d5a"
   },
   "outputs": [],
   "source": [
    "X_test"
   ]
  },
  {
   "cell_type": "markdown",
   "id": "d3706d48",
   "metadata": {
    "id": "d3706d48"
   },
   "source": [
    "---"
   ]
  },
  {
   "cell_type": "markdown",
   "id": "03d9a37c",
   "metadata": {
    "id": "03d9a37c"
   },
   "source": [
    "## <span style=\"color:#ff5f27;\">🗃 Window timeseries dataset </span>\n"
   ]
  },
  {
   "cell_type": "code",
   "execution_count": null,
   "id": "9bc2db77",
   "metadata": {
    "id": "9bc2db77"
   },
   "outputs": [],
   "source": [
    "import tensorflow as tf\n",
    "# https://www.tensorflow.org/tutorials/structured_data/time_series\n",
    "class WindowGenerator():\n",
    "    def __init__(self, input_width, label_width, shift,\n",
    "               df_train, val_df, test_df,\n",
    "               label_columns=None, batch_size=32):\n",
    "        # Store the raw data.\n",
    "        self.df_train = df_train\n",
    "        self.val_df = val_df\n",
    "        self.test_df = test_df\n",
    "\n",
    "        # Work out the label column indices.\n",
    "        self.label_columns = label_columns\n",
    "        if label_columns is not None:\n",
    "          self.label_columns_indices = {name: i for i, name in\n",
    "                                        enumerate(label_columns)}\n",
    "        self.column_indices = {name: i for i, name in\n",
    "                               enumerate(df_train.columns)}\n",
    "\n",
    "        # Work out the window parameters.\n",
    "        self.input_width = input_width\n",
    "        self.label_width = label_width\n",
    "        self.shift = shift\n",
    "\n",
    "        self.total_window_size = input_width + shift\n",
    "\n",
    "        self.input_slice = slice(0, input_width)\n",
    "        self.input_indices = np.arange(self.total_window_size)[self.input_slice]\n",
    "\n",
    "        self.label_start = self.total_window_size - self.label_width\n",
    "        self.labels_slice = slice(self.label_start, None)\n",
    "        self.label_indices = np.arange(self.total_window_size)[self.labels_slice]\n",
    "\n",
    "        self.batch_size = batch_size\n",
    "    def __repr__(self):\n",
    "        return '\\n'.join([\n",
    "            f'Total window size: {self.total_window_size}',\n",
    "            f'Input indices: {self.input_indices}',\n",
    "            f'Label indices: {self.label_indices}',\n",
    "            f'Label column name(s): {self.label_columns}'])\n",
    "\n",
    "    def split_window(self, features):\n",
    "      inputs = features[:, self.input_slice, :]\n",
    "      labels = features[:, self.labels_slice, :]\n",
    "      if self.label_columns is not None:\n",
    "        labels = tf.stack(\n",
    "            [labels[:, :, self.column_indices[name]] for name in self.label_columns],\n",
    "            axis=-1)\n",
    "\n",
    "      # Slicing doesn't preserve static shape information, so set the shapes\n",
    "      # manually. This way the `tf.data.Datasets` are easier to inspect.\n",
    "      inputs.set_shape([None, self.input_width, None])\n",
    "      labels.set_shape([None, self.label_width, None])\n",
    "\n",
    "      return inputs, labels\n",
    "\n",
    "    def plot(self, plot_col, model=None, max_subplots=3):\n",
    "      inputs, labels = self.example\n",
    "      plt.figure(figsize=(12, 8))\n",
    "      plot_col_index = self.column_indices[plot_col]\n",
    "      max_n = min(max_subplots, len(inputs))\n",
    "      for n in range(max_n):\n",
    "        plt.subplot(max_n, 1, n+1)\n",
    "        plt.ylabel(f'{plot_col} [normed]')\n",
    "        plt.plot(self.input_indices, inputs[n, :, plot_col_index],\n",
    "                 label='Inputs', marker='.', zorder=-10)\n",
    "\n",
    "        if self.label_columns:\n",
    "          label_col_index = self.label_columns_indices.get(plot_col, None)\n",
    "        else:\n",
    "          label_col_index = plot_col_index\n",
    "\n",
    "        if label_col_index is None:\n",
    "          continue\n",
    "\n",
    "        plt.scatter(self.label_indices, labels[n, :, label_col_index],\n",
    "                    edgecolors='k', label='Labels', c='#2ca02c', s=64)\n",
    "        if model is not None:\n",
    "          predictions = model(inputs)\n",
    "          plt.scatter(self.label_indices, predictions[n, :, label_col_index],\n",
    "                      marker='X', edgecolors='k', label='Predictions',\n",
    "                      c='#ff7f0e', s=64)\n",
    "\n",
    "        if n == 0:\n",
    "          plt.legend()\n",
    "\n",
    "      plt.xlabel('Time [h]')\n",
    "\n",
    "    #make_dataset method will take a time series DataFrame and convert it to a tf.data.Dataset of (input_window, label_window) \n",
    "    # pairs using the tf.keras.utils.timeseries_dataset_from_array function:\n",
    "    def make_dataset(self, data):\n",
    "      data = np.array(data, dtype=np.float32)\n",
    "      ds = tf.keras.utils.timeseries_dataset_from_array(\n",
    "          data=data,\n",
    "          targets=None,\n",
    "          sequence_length=self.total_window_size,\n",
    "          sequence_stride=1,\n",
    "          shuffle=False,\n",
    "          batch_size=self.batch_size,)    \n",
    "      ds = ds.map(self.split_window)\n",
    "      ds = ds.repeat(1000)\n",
    "      ds = ds.prefetch(10)  \n",
    "      return ds\n",
    "\n",
    "    @property\n",
    "    def train(self):\n",
    "      return self.make_dataset(self.df_train)\n",
    "\n",
    "    @property\n",
    "    def val(self):\n",
    "      return self.make_dataset(self.val_df)\n",
    "\n",
    "    @property\n",
    "    def test(self):\n",
    "      return self.make_dataset(self.test_df)\n",
    "\n",
    "    @property\n",
    "    def example(self):\n",
    "      \"\"\"Get and cache an example batch of `inputs, labels` for plotting.\"\"\"\n",
    "      result = getattr(self, '_example', None)\n",
    "      if result is None:\n",
    "        # No example batch was found, so get one from the `.train` dataset\n",
    "        result = next(iter(self.test))\n",
    "        # And cache it for next time\n",
    "        self._example = result\n",
    "      return result"
   ]
  },
  {
   "cell_type": "code",
   "execution_count": null,
   "id": "d9907f2f",
   "metadata": {
    "colab": {
     "base_uri": "https://localhost:8080/"
    },
    "id": "d9907f2f",
    "outputId": "199e5242-c0ac-4e05-deee-dd95489ede5d"
   },
   "outputs": [],
   "source": [
    "n_step_window = WindowGenerator(df_train=X_train, val_df=X_val, test_df=X_test, input_width=4, label_width=4, shift=1, label_columns=[\"price_se1\", \"price_se2\", \"price_se3\", \"price_se4\"])\n",
    "n_step_window"
   ]
  },
  {
   "cell_type": "code",
   "execution_count": null,
   "id": "02e3ea35",
   "metadata": {
    "colab": {
     "base_uri": "https://localhost:8080/"
    },
    "id": "02e3ea35",
    "outputId": "e0a36b81-f253-452f-d560-2aa480e02b03"
   },
   "outputs": [],
   "source": [
    "inputs, labels = n_step_window.example\n",
    "print(inputs.shape)\n",
    "print(labels.shape)\n",
    "print(n_step_window.label_indices)"
   ]
  },
  {
   "cell_type": "code",
   "execution_count": null,
   "id": "74f079da",
   "metadata": {
    "colab": {
     "base_uri": "https://localhost:8080/"
    },
    "id": "74f079da",
    "outputId": "bf8d1969-34f0-41ee-dd96-e98d85cf4738"
   },
   "outputs": [],
   "source": [
    "for example_inputs, example_labels in n_step_window.train.take(1):\n",
    "    print(f'Inputs shape (batch, time, features): {example_inputs.shape}')\n",
    "    print(f'Labels shape (batch, time, features): {example_labels.shape}')"
   ]
  },
  {
   "cell_type": "markdown",
   "id": "f58979c8",
   "metadata": {
    "id": "f58979c8"
   },
   "source": [
    "---"
   ]
  },
  {
   "cell_type": "markdown",
   "id": "c72d7e04",
   "metadata": {
    "id": "c72d7e04"
   },
   "source": [
    "## <span style=\"color:#ff5f27;\">🧬 Modeling</span>"
   ]
  },
  {
   "cell_type": "code",
   "execution_count": null,
   "id": "1dd00bfd",
   "metadata": {
    "id": "1dd00bfd"
   },
   "outputs": [],
   "source": [
    "def build_model(input_dim):\n",
    "    model = tf.keras.models.Sequential()\n",
    "    model.add(tf.keras.layers.Conv1D(filters = 64, kernel_size=1, padding='same', kernel_initializer=\"uniform\", input_shape=(input_dim[0], input_dim[1])))\n",
    "    model.add(tf.keras.layers.BatchNormalization())\n",
    "    model.add(tf.keras.layers.LeakyReLU(alpha=0.2))        \n",
    "\n",
    "    model.add(tf.keras.layers.Conv1D(filters = 32, kernel_size= 1,padding='same',  kernel_initializer=\"uniform\"))\n",
    "    model.add(tf.keras.layers.BatchNormalization())\n",
    "    model.add(tf.keras.layers.LeakyReLU(alpha=0.2))       \n",
    "\n",
    "    model.add(tf.keras.layers.Conv1D(filters = 16, kernel_size= 1,padding='same',  kernel_initializer=\"uniform\"))\n",
    "    model.add(tf.keras.layers.BatchNormalization())\n",
    "    model.add(tf.keras.layers.LeakyReLU(alpha=0.2))   \n",
    "    model.add(tf.keras.layers.MaxPooling1D(pool_size=1, padding='same'))       \n",
    "    \n",
    "    model.add(tf.keras.layers.Bidirectional(tf.keras.layers.LSTM(units=16, return_sequences=True))) \n",
    "    model.add(tf.keras.layers.Dropout(rate=0.1))\n",
    "    model.add(tf.keras.layers.Dense(units=4))\n",
    "    \n",
    "    model.summary()\n",
    "    model.compile(loss='mae', optimizer='adam')\n",
    "    return model"
   ]
  },
  {
   "cell_type": "code",
   "execution_count": null,
   "id": "de3feca7",
   "metadata": {
    "colab": {
     "base_uri": "https://localhost:8080/"
    },
    "id": "de3feca7",
    "outputId": "fb8f5c29-b1a5-40ac-b3f6-411d68763902"
   },
   "outputs": [],
   "source": [
    "model = build_model([4, 29])"
   ]
  },
  {
   "cell_type": "code",
   "execution_count": null,
   "id": "6a503950",
   "metadata": {
    "colab": {
     "base_uri": "https://localhost:8080/"
    },
    "id": "6a503950",
    "outputId": "d2a6c51b-7de6-41e9-ed4a-5b91d720e047"
   },
   "outputs": [],
   "source": [
    "from timeit import default_timer as timer\n",
    "start = timer()\n",
    "\n",
    "history = model.fit(n_step_window.train,\n",
    "                    epochs=50,\n",
    "                    verbose=0,\n",
    "                    steps_per_epoch=200,\n",
    "                    validation_data=n_step_window.train,\n",
    "                    validation_steps=1,                    \n",
    "                   )\n",
    "end = timer()\n",
    "print(end - start)"
   ]
  },
  {
   "cell_type": "code",
   "execution_count": null,
   "id": "dc15b16b",
   "metadata": {
    "colab": {
     "base_uri": "https://localhost:8080/"
    },
    "id": "dc15b16b",
    "outputId": "50daed89-b530-4b1e-c7aa-a31a2e6251db"
   },
   "outputs": [],
   "source": [
    "inputs, labels = n_step_window.example\n",
    "prediction_test = model.predict(inputs)\n",
    "print(prediction_test.shape)\n",
    "print(labels.shape)"
   ]
  },
  {
   "cell_type": "code",
   "execution_count": null,
   "id": "035c401c",
   "metadata": {
    "colab": {
     "base_uri": "https://localhost:8080/"
    },
    "id": "035c401c",
    "outputId": "7f79a766-4116-4c82-cc50-1bd858c269aa"
   },
   "outputs": [],
   "source": [
    "history_dict = history.history\n",
    "history_dict.keys()"
   ]
  },
  {
   "cell_type": "code",
   "execution_count": null,
   "id": "21555a11",
   "metadata": {
    "colab": {
     "base_uri": "https://localhost:8080/",
     "height": 464
    },
    "id": "21555a11",
    "outputId": "3901472f-fe48-4bb2-c0e1-e7d9c1fc2664"
   },
   "outputs": [],
   "source": [
    "import matplotlib.pyplot as plt\n",
    "\n",
    "\n",
    "loss_values = history_dict['loss']\n",
    "val_loss_values = history_dict['val_loss']\n",
    "\n",
    "loss_values50 = loss_values\n",
    "val_loss_values50 = val_loss_values\n",
    "epochs = range(1, len(loss_values50) + 1)\n",
    "plt.plot(epochs, loss_values50, 'b',color = 'blue', label='Training loss')\n",
    "plt.plot(epochs, val_loss_values50, 'b',color='red', label='Validation loss')\n",
    "plt.rc('font', size = 18)\n",
    "plt.title('Training and validation loss')\n",
    "plt.xlabel('Epochs')\n",
    "plt.ylabel('Loss')\n",
    "plt.legend()\n",
    "plt.xticks(epochs)\n",
    "fig = plt.gcf()\n",
    "fig.set_size_inches(15,7)\n",
    "plt.show()"
   ]
  },
  {
   "cell_type": "code",
   "execution_count": null,
   "id": "662e1669",
   "metadata": {
    "colab": {
     "base_uri": "https://localhost:8080/",
     "height": 529
    },
    "id": "662e1669",
    "outputId": "c87c9cc3-16dc-4fea-c7ea-0f3e442e7a87"
   },
   "outputs": [],
   "source": [
    "n_step_window.plot(plot_col=\"price_se4\", max_subplots=3, model=model.predict)"
   ]
  },
  {
   "cell_type": "code",
   "execution_count": null,
   "id": "532ed996",
   "metadata": {
    "id": "532ed996"
   },
   "outputs": [],
   "source": [
    "se1_actual = []\n",
    "se2_actual = []\n",
    "se3_actual = []\n",
    "se4_actual = []\n",
    "\n",
    "inputs, labels = n_step_window.example\n",
    "for batch_n in range(len(labels)):\n",
    "    batch = labels[batch_n]\n",
    "    for window_n in range(4):\n",
    "        se1_actual.append(batch[window_n][0].numpy())\n",
    "        se2_actual.append(batch[window_n][1].numpy())\n",
    "        se3_actual.append(batch[window_n][2].numpy())\n",
    "        se4_actual.append(batch[window_n][3].numpy())"
   ]
  },
  {
   "cell_type": "code",
   "execution_count": null,
   "id": "927f8497",
   "metadata": {
    "colab": {
     "base_uri": "https://localhost:8080/"
    },
    "id": "927f8497",
    "outputId": "f3312617-95c6-4111-a2c1-5e4ff707d7c5"
   },
   "outputs": [],
   "source": [
    "se1_pred = []\n",
    "se2_pred = []\n",
    "se3_pred = []\n",
    "se4_pred = []\n",
    "\n",
    "prediction_test = model.predict(inputs)\n",
    "for batch_n in range(len(prediction_test)):\n",
    "    batch = prediction_test[batch_n]\n",
    "    for window_n in range(4):\n",
    "        se1_pred.append(batch[window_n][0])\n",
    "        se2_pred.append(batch[window_n][1])\n",
    "        se3_pred.append(batch[window_n][2])\n",
    "        se4_pred.append(batch[window_n][3])"
   ]
  },
  {
   "cell_type": "code",
   "execution_count": null,
   "id": "91261a61",
   "metadata": {
    "colab": {
     "base_uri": "https://localhost:8080/",
     "height": 206
    },
    "id": "91261a61",
    "outputId": "fc529d2c-4dcf-48a8-fc0e-2a7c3e9f9607"
   },
   "outputs": [],
   "source": [
    "y_test.head(10)"
   ]
  },
  {
   "cell_type": "code",
   "execution_count": null,
   "id": "06aee4bd",
   "metadata": {
    "colab": {
     "base_uri": "https://localhost:8080/"
    },
    "id": "06aee4bd",
    "outputId": "80f012d1-6946-47c1-d2b5-10034581d1fe"
   },
   "outputs": [],
   "source": [
    "se3_actual[1]"
   ]
  },
  {
   "cell_type": "code",
   "execution_count": null,
   "id": "f3dc2ca9",
   "metadata": {
    "colab": {
     "base_uri": "https://localhost:8080/",
     "height": 348
    },
    "id": "f3dc2ca9",
    "outputId": "d900a1b9-f1a4-4f82-9c26-acc370275d81"
   },
   "outputs": [],
   "source": [
    "plt.plot(se1_pred,color='red', label='test SE1 price prediction')\n",
    "plt.plot(se1_actual, color='blue', label='test actual')\n",
    "plt.xlabel('Time')\n",
    "plt.ylabel('Price (scaled)')\n",
    "plt.legend(loc='upper left')\n",
    "fig = plt.gcf()\n",
    "fig.set_size_inches(15, 5)\n",
    "plt.show()"
   ]
  },
  {
   "cell_type": "code",
   "execution_count": null,
   "id": "c1e7a690",
   "metadata": {
    "colab": {
     "base_uri": "https://localhost:8080/",
     "height": 348
    },
    "id": "c1e7a690",
    "outputId": "41e0395d-121d-400f-daab-5ee0e77df269"
   },
   "outputs": [],
   "source": [
    "plt.plot(se2_pred,color='red', label='test SE2 price prediction')\n",
    "plt.plot(se2_actual, color='blue', label='test actual')\n",
    "plt.xlabel('Time')\n",
    "plt.ylabel('Price (scaled)')\n",
    "plt.legend(loc='upper left')\n",
    "fig = plt.gcf()\n",
    "fig.set_size_inches(15, 5)\n",
    "plt.show()"
   ]
  },
  {
   "cell_type": "code",
   "execution_count": null,
   "id": "34e20005",
   "metadata": {
    "colab": {
     "base_uri": "https://localhost:8080/",
     "height": 348
    },
    "id": "34e20005",
    "outputId": "bfc227d8-dbb4-4aad-f0aa-81b8784c4a09"
   },
   "outputs": [],
   "source": [
    "plt.plot(se3_pred,color='red', label='test SE3 price prediction')\n",
    "plt.plot(se3_actual, color='blue', label='test actual')\n",
    "plt.xlabel('Time')\n",
    "plt.ylabel('Price (scaled)')\n",
    "plt.legend(loc='upper left')\n",
    "fig = plt.gcf()\n",
    "fig.set_size_inches(15, 5)\n",
    "plt.show()"
   ]
  },
  {
   "cell_type": "code",
   "execution_count": null,
   "id": "4da679a9",
   "metadata": {
    "colab": {
     "base_uri": "https://localhost:8080/",
     "height": 348
    },
    "id": "4da679a9",
    "outputId": "f746eb64-15b9-43b6-e161-17c9f7db03c3"
   },
   "outputs": [],
   "source": [
    "plt.plot(se4_pred,color='red', label='test SE4 price prediction')\n",
    "plt.plot(se4_actual, color='blue', label='test actual')\n",
    "plt.xlabel('Time')\n",
    "plt.ylabel('Price (scaled)')\n",
    "plt.legend(loc='upper left')\n",
    "fig = plt.gcf()\n",
    "fig.set_size_inches(15, 5)\n",
    "plt.show()"
   ]
  },
  {
   "cell_type": "markdown",
   "id": "41f59af2",
   "metadata": {
    "id": "41f59af2"
   },
   "source": [
    "---"
   ]
  },
  {
   "cell_type": "markdown",
   "id": "4ed732e2",
   "metadata": {
    "id": "4ed732e2"
   },
   "source": [
    "## <span style='color:#ff5f27'>🗄 Model Registry</span>\n",
    "\n",
    "One of the features in Hopsworks is the model registry. This is where you can store different versions of models and compare their performance. Models from the registry can then be served as API endpoints."
   ]
  },
  {
   "cell_type": "code",
   "execution_count": null,
   "id": "fc1524a5",
   "metadata": {
    "colab": {
     "base_uri": "https://localhost:8080/"
    },
    "id": "fc1524a5",
    "outputId": "44e3c648-e3dc-4581-8dec-977667ef42c1"
   },
   "outputs": [],
   "source": [
    "export_path = \"electricity_price_model\"\n",
    "print('Exporting trained model to: {}'.format(export_path))\n",
    "tf.saved_model.save(model, export_path) "
   ]
  },
  {
   "cell_type": "code",
   "execution_count": null,
   "id": "680035f0",
   "metadata": {
    "colab": {
     "base_uri": "https://localhost:8080/"
    },
    "id": "680035f0",
    "outputId": "ccaff586-f017-4a16-cb47-e428f9637099"
   },
   "outputs": [],
   "source": [
    "mr = project.get_model_registry()\n",
    "metrics={'loss': history_dict['val_loss'][0]} \n",
    "\n",
    "mr_model = mr.tensorflow.create_model(\n",
    "    name=\"electricity_price_prediction_model\",\n",
    "    metrics=metrics,\n",
    "    description=\"Daily electricity price prediction model.\",\n",
    "    input_example=n_step_window.example[0].numpy()\n",
    ")"
   ]
  },
  {
   "cell_type": "code",
   "execution_count": null,
   "id": "375d68fe",
   "metadata": {
    "colab": {
     "base_uri": "https://localhost:8080/",
     "height": 84,
     "referenced_widgets": [
      "be0c128f1543465388f7c19fa90ee994",
      "88bb6279bb304ae3bd76394890e77dc2",
      "d2f418899e3b4b659c52abf5f4c3b3d3",
      "f1356d8e3bdc4436a6d480d729b2680e",
      "a076dc886b67463aa97257ddd7cba79b",
      "d1c77605e8cf40869d88e16e9edc08d9",
      "919bad43754248a8aa1733f6be57ca77",
      "bfb4fb383bb04a768ec4b6964b0a5677",
      "29d23b9f507f4a109474c7bd65ffd0ff",
      "6bf3500345aa4295a671b314830900ea",
      "f3409aaa6191467eae1ff787e39776f7"
     ]
    },
    "id": "375d68fe",
    "outputId": "e427b0af-f7da-4355-e8bf-f89df1e8eba8"
   },
   "outputs": [],
   "source": [
    "mr_model.save(export_path)"
   ]
  }
 ],
 "metadata": {
  "colab": {
   "collapsed_sections": [],
   "provenance": []
  },
  "kernelspec": {
   "display_name": "Python 3 (ipykernel)",
   "language": "python",
   "name": "python3"
  },
  "language_info": {
   "codemirror_mode": {
    "name": "ipython",
    "version": 3
   },
   "file_extension": ".py",
   "mimetype": "text/x-python",
   "name": "python",
   "nbconvert_exporter": "python",
   "pygments_lexer": "ipython3",
   "version": "3.8.0"
  },
  "widgets": {
   "application/vnd.jupyter.widget-state+json": {
    "29d23b9f507f4a109474c7bd65ffd0ff": {
     "model_module": "@jupyter-widgets/controls",
     "model_module_version": "1.5.0",
     "model_name": "ProgressStyleModel",
     "state": {
      "_model_module": "@jupyter-widgets/controls",
      "_model_module_version": "1.5.0",
      "_model_name": "ProgressStyleModel",
      "_view_count": null,
      "_view_module": "@jupyter-widgets/base",
      "_view_module_version": "1.2.0",
      "_view_name": "StyleView",
      "bar_color": null,
      "description_width": ""
     }
    },
    "6bf3500345aa4295a671b314830900ea": {
     "model_module": "@jupyter-widgets/base",
     "model_module_version": "1.2.0",
     "model_name": "LayoutModel",
     "state": {
      "_model_module": "@jupyter-widgets/base",
      "_model_module_version": "1.2.0",
      "_model_name": "LayoutModel",
      "_view_count": null,
      "_view_module": "@jupyter-widgets/base",
      "_view_module_version": "1.2.0",
      "_view_name": "LayoutView",
      "align_content": null,
      "align_items": null,
      "align_self": null,
      "border": null,
      "bottom": null,
      "display": null,
      "flex": null,
      "flex_flow": null,
      "grid_area": null,
      "grid_auto_columns": null,
      "grid_auto_flow": null,
      "grid_auto_rows": null,
      "grid_column": null,
      "grid_gap": null,
      "grid_row": null,
      "grid_template_areas": null,
      "grid_template_columns": null,
      "grid_template_rows": null,
      "height": null,
      "justify_content": null,
      "justify_items": null,
      "left": null,
      "margin": null,
      "max_height": null,
      "max_width": null,
      "min_height": null,
      "min_width": null,
      "object_fit": null,
      "object_position": null,
      "order": null,
      "overflow": null,
      "overflow_x": null,
      "overflow_y": null,
      "padding": null,
      "right": null,
      "top": null,
      "visibility": null,
      "width": null
     }
    },
    "88bb6279bb304ae3bd76394890e77dc2": {
     "model_module": "@jupyter-widgets/controls",
     "model_module_version": "1.5.0",
     "model_name": "HTMLModel",
     "state": {
      "_dom_classes": [],
      "_model_module": "@jupyter-widgets/controls",
      "_model_module_version": "1.5.0",
      "_model_name": "HTMLModel",
      "_view_count": null,
      "_view_module": "@jupyter-widgets/controls",
      "_view_module_version": "1.5.0",
      "_view_name": "HTMLView",
      "description": "",
      "description_tooltip": null,
      "layout": "IPY_MODEL_d1c77605e8cf40869d88e16e9edc08d9",
      "placeholder": "​",
      "style": "IPY_MODEL_919bad43754248a8aa1733f6be57ca77",
      "value": "Model export complete: 100%"
     }
    },
    "919bad43754248a8aa1733f6be57ca77": {
     "model_module": "@jupyter-widgets/controls",
     "model_module_version": "1.5.0",
     "model_name": "DescriptionStyleModel",
     "state": {
      "_model_module": "@jupyter-widgets/controls",
      "_model_module_version": "1.5.0",
      "_model_name": "DescriptionStyleModel",
      "_view_count": null,
      "_view_module": "@jupyter-widgets/base",
      "_view_module_version": "1.2.0",
      "_view_name": "StyleView",
      "description_width": ""
     }
    },
    "a076dc886b67463aa97257ddd7cba79b": {
     "model_module": "@jupyter-widgets/base",
     "model_module_version": "1.2.0",
     "model_name": "LayoutModel",
     "state": {
      "_model_module": "@jupyter-widgets/base",
      "_model_module_version": "1.2.0",
      "_model_name": "LayoutModel",
      "_view_count": null,
      "_view_module": "@jupyter-widgets/base",
      "_view_module_version": "1.2.0",
      "_view_name": "LayoutView",
      "align_content": null,
      "align_items": null,
      "align_self": null,
      "border": null,
      "bottom": null,
      "display": null,
      "flex": null,
      "flex_flow": null,
      "grid_area": null,
      "grid_auto_columns": null,
      "grid_auto_flow": null,
      "grid_auto_rows": null,
      "grid_column": null,
      "grid_gap": null,
      "grid_row": null,
      "grid_template_areas": null,
      "grid_template_columns": null,
      "grid_template_rows": null,
      "height": null,
      "justify_content": null,
      "justify_items": null,
      "left": null,
      "margin": null,
      "max_height": null,
      "max_width": null,
      "min_height": null,
      "min_width": null,
      "object_fit": null,
      "object_position": null,
      "order": null,
      "overflow": null,
      "overflow_x": null,
      "overflow_y": null,
      "padding": null,
      "right": null,
      "top": null,
      "visibility": null,
      "width": null
     }
    },
    "be0c128f1543465388f7c19fa90ee994": {
     "model_module": "@jupyter-widgets/controls",
     "model_module_version": "1.5.0",
     "model_name": "HBoxModel",
     "state": {
      "_dom_classes": [],
      "_model_module": "@jupyter-widgets/controls",
      "_model_module_version": "1.5.0",
      "_model_name": "HBoxModel",
      "_view_count": null,
      "_view_module": "@jupyter-widgets/controls",
      "_view_module_version": "1.5.0",
      "_view_name": "HBoxView",
      "box_style": "",
      "children": [
       "IPY_MODEL_88bb6279bb304ae3bd76394890e77dc2",
       "IPY_MODEL_d2f418899e3b4b659c52abf5f4c3b3d3",
       "IPY_MODEL_f1356d8e3bdc4436a6d480d729b2680e"
      ],
      "layout": "IPY_MODEL_a076dc886b67463aa97257ddd7cba79b"
     }
    },
    "bfb4fb383bb04a768ec4b6964b0a5677": {
     "model_module": "@jupyter-widgets/base",
     "model_module_version": "1.2.0",
     "model_name": "LayoutModel",
     "state": {
      "_model_module": "@jupyter-widgets/base",
      "_model_module_version": "1.2.0",
      "_model_name": "LayoutModel",
      "_view_count": null,
      "_view_module": "@jupyter-widgets/base",
      "_view_module_version": "1.2.0",
      "_view_name": "LayoutView",
      "align_content": null,
      "align_items": null,
      "align_self": null,
      "border": null,
      "bottom": null,
      "display": null,
      "flex": null,
      "flex_flow": null,
      "grid_area": null,
      "grid_auto_columns": null,
      "grid_auto_flow": null,
      "grid_auto_rows": null,
      "grid_column": null,
      "grid_gap": null,
      "grid_row": null,
      "grid_template_areas": null,
      "grid_template_columns": null,
      "grid_template_rows": null,
      "height": null,
      "justify_content": null,
      "justify_items": null,
      "left": null,
      "margin": null,
      "max_height": null,
      "max_width": null,
      "min_height": null,
      "min_width": null,
      "object_fit": null,
      "object_position": null,
      "order": null,
      "overflow": null,
      "overflow_x": null,
      "overflow_y": null,
      "padding": null,
      "right": null,
      "top": null,
      "visibility": null,
      "width": null
     }
    },
    "d1c77605e8cf40869d88e16e9edc08d9": {
     "model_module": "@jupyter-widgets/base",
     "model_module_version": "1.2.0",
     "model_name": "LayoutModel",
     "state": {
      "_model_module": "@jupyter-widgets/base",
      "_model_module_version": "1.2.0",
      "_model_name": "LayoutModel",
      "_view_count": null,
      "_view_module": "@jupyter-widgets/base",
      "_view_module_version": "1.2.0",
      "_view_name": "LayoutView",
      "align_content": null,
      "align_items": null,
      "align_self": null,
      "border": null,
      "bottom": null,
      "display": null,
      "flex": null,
      "flex_flow": null,
      "grid_area": null,
      "grid_auto_columns": null,
      "grid_auto_flow": null,
      "grid_auto_rows": null,
      "grid_column": null,
      "grid_gap": null,
      "grid_row": null,
      "grid_template_areas": null,
      "grid_template_columns": null,
      "grid_template_rows": null,
      "height": null,
      "justify_content": null,
      "justify_items": null,
      "left": null,
      "margin": null,
      "max_height": null,
      "max_width": null,
      "min_height": null,
      "min_width": null,
      "object_fit": null,
      "object_position": null,
      "order": null,
      "overflow": null,
      "overflow_x": null,
      "overflow_y": null,
      "padding": null,
      "right": null,
      "top": null,
      "visibility": null,
      "width": null
     }
    },
    "d2f418899e3b4b659c52abf5f4c3b3d3": {
     "model_module": "@jupyter-widgets/controls",
     "model_module_version": "1.5.0",
     "model_name": "FloatProgressModel",
     "state": {
      "_dom_classes": [],
      "_model_module": "@jupyter-widgets/controls",
      "_model_module_version": "1.5.0",
      "_model_name": "FloatProgressModel",
      "_view_count": null,
      "_view_module": "@jupyter-widgets/controls",
      "_view_module_version": "1.5.0",
      "_view_name": "ProgressView",
      "bar_style": "success",
      "description": "",
      "description_tooltip": null,
      "layout": "IPY_MODEL_bfb4fb383bb04a768ec4b6964b0a5677",
      "max": 6,
      "min": 0,
      "orientation": "horizontal",
      "style": "IPY_MODEL_29d23b9f507f4a109474c7bd65ffd0ff",
      "value": 6
     }
    },
    "f1356d8e3bdc4436a6d480d729b2680e": {
     "model_module": "@jupyter-widgets/controls",
     "model_module_version": "1.5.0",
     "model_name": "HTMLModel",
     "state": {
      "_dom_classes": [],
      "_model_module": "@jupyter-widgets/controls",
      "_model_module_version": "1.5.0",
      "_model_name": "HTMLModel",
      "_view_count": null,
      "_view_module": "@jupyter-widgets/controls",
      "_view_module_version": "1.5.0",
      "_view_name": "HTMLView",
      "description": "",
      "description_tooltip": null,
      "layout": "IPY_MODEL_6bf3500345aa4295a671b314830900ea",
      "placeholder": "​",
      "style": "IPY_MODEL_f3409aaa6191467eae1ff787e39776f7",
      "value": " 6/6 [00:22&lt;00:00,  4.92s/it]"
     }
    },
    "f3409aaa6191467eae1ff787e39776f7": {
     "model_module": "@jupyter-widgets/controls",
     "model_module_version": "1.5.0",
     "model_name": "DescriptionStyleModel",
     "state": {
      "_model_module": "@jupyter-widgets/controls",
      "_model_module_version": "1.5.0",
      "_model_name": "DescriptionStyleModel",
      "_view_count": null,
      "_view_module": "@jupyter-widgets/base",
      "_view_module_version": "1.2.0",
      "_view_name": "StyleView",
      "description_width": ""
     }
    }
   }
  }
 },
 "nbformat": 4,
 "nbformat_minor": 5
}
