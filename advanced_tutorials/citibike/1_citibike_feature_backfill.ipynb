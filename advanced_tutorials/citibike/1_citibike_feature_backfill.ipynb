{
 "cells": [
  {
   "cell_type": "markdown",
   "id": "3853d219",
   "metadata": {
    "id": "ccbbf2cc"
   },
   "source": [
    "# <span style=\"font-width:bold; font-size: 3rem; color:#1EB182;\">**Hopsworks Feature Store** </span> <span style=\"font-width:bold; font-size: 3rem; color:#333;\">- Part 01: Feature Backfill</span>\n",
    "\n",
    "**Note**: This tutorial does not support Google Colab.\n",
    "\n",
    "This is the first part of the advanced series of tutorials about Hopsworks Feature Store. As part of this first module, you will work with data related to citibikes usage and meteorological observations in the NYC. \n",
    "\n",
    "The objective of this tutorial is to demonstrate how to work with the **Hopworks Feature Store**  for batch data with a goal of training and deploying a model that can predict citibikes usage per station in the future.\n",
    "\n",
    "## 🗒️ This notebook is divided in 3 sections:\n",
    "1. Loading the data and feature engineeing.\n",
    "2. Connect to the Hopsworks feature store.\n",
    "3. Create feature groups and upload them to the feature store."
   ]
  },
  {
   "cell_type": "markdown",
   "id": "6d0a2c45",
   "metadata": {
    "id": "akyCpdrP0GDH"
   },
   "source": [
    "### <span style='color:#ff5f27'> 📝 Imports"
   ]
  },
  {
   "cell_type": "code",
   "execution_count": null,
   "id": "22629764",
   "metadata": {},
   "outputs": [],
   "source": [
    "!pip install -U hopsworks --quiet\n",
    "!pip install python-dotenv"
   ]
  },
  {
   "cell_type": "code",
   "execution_count": null,
   "id": "cf987f2e",
   "metadata": {
    "id": "c3fd23b4"
   },
   "outputs": [],
   "source": [
    "from datetime import timedelta, datetime\n",
    "import pandas as pd\n",
    "import plotly.express as px\n",
    "import os\n",
    "\n",
    "from pandas.tseries.holiday import USFederalHolidayCalendar\n",
    "\n",
    "from features import (\n",
    "    citibike, \n",
    "    meteorological_measurements,\n",
    ")\n",
    "\n",
    "# Mute warnings\n",
    "import warnings\n",
    "warnings.filterwarnings(\"ignore\")"
   ]
  },
  {
   "cell_type": "markdown",
   "id": "0166a759",
   "metadata": {
    "id": "KVH8VU5g0JDP"
   },
   "source": [
    "---"
   ]
  },
  {
   "cell_type": "markdown",
   "id": "e37497d5",
   "metadata": {},
   "source": [
    "## <span style=\"color:#ff5f27;\"> 💽 Load the historical data and 🛠️ Perform Feature Engineering</span>\n",
    "\n",
    "The data you will use comes from three different sources:\n",
    "\n",
    "- Citi Bike [Trip Histories](https://s3.amazonaws.com/tripdata/index.html);\n",
    "- Getting US National Holidays from `USFederalHolidayCalendar` (`pandas.tseries.holiday` package);\n",
    "- Different meteorological observations from [VisualCrossing](https://www.visualcrossing.com/)."
   ]
  },
  {
   "cell_type": "markdown",
   "id": "30f64562",
   "metadata": {
    "id": "285d06c9"
   },
   "source": [
    "### <span style=\"color:#ff5f27;\"> 🚲 Citibike usage info</span>\n",
    "\n",
    "Downloadable files of Citi Bike trip data are located [here](https://s3.amazonaws.com/tripdata/index.html). Originally data includes:\n",
    "\n",
    "    Ride ID\n",
    "    Rideable type\n",
    "    Started at\n",
    "    Ended at\n",
    "    Start station name\n",
    "    Start station ID\n",
    "    End station name\n",
    "    End station ID\n",
    "    Start latitude\n",
    "    Start longitude\n",
    "    End latitude\n",
    "    End Longitude\n",
    "    Member or casual ride\n",
    "\n"
   ]
  },
  {
   "cell_type": "markdown",
   "id": "da2ffb7c",
   "metadata": {},
   "source": [
    "Let's download some data [from here](https://s3.amazonaws.com/tripdata/index.html) and perform preprocessing (removal of redundant columns and data grouping)"
   ]
  },
  {
   "cell_type": "code",
   "execution_count": null,
   "id": "b19dedd6",
   "metadata": {
    "scrolled": true
   },
   "outputs": [],
   "source": [
    "# Get data for x months\n",
    "df_raw = citibike.get_citibike_data(\"01/2023\", \"04/2023\")\n",
    "df_raw.head(3)"
   ]
  },
  {
   "cell_type": "code",
   "execution_count": null,
   "id": "9f6559bb",
   "metadata": {},
   "outputs": [],
   "source": [
    "# Convert the 'station_id' column to string type for categorical representation\n",
    "df_raw.station_id = df_raw.station_id.astype(str)"
   ]
  },
  {
   "cell_type": "code",
   "execution_count": null,
   "id": "267edd82",
   "metadata": {},
   "outputs": [],
   "source": [
    "# Engineer Citibike features\n",
    "df_enhanced = citibike.engineer_citibike_features(df_raw)\n",
    "\n",
    "# Drop rows with missing values in the enhanced DataFrame\n",
    "df_enhanced = df_enhanced.dropna()\n",
    "\n",
    "# Convert 'station_id' to string type for categorical representation\n",
    "df_enhanced.station_id = df_enhanced.station_id.astype(str)\n",
    "\n",
    "# Display the first three rows of the enhanced DataFrame\n",
    "df_enhanced.head(3)"
   ]
  },
  {
   "cell_type": "code",
   "execution_count": null,
   "id": "6f4ef6d9",
   "metadata": {
    "scrolled": true
   },
   "outputs": [],
   "source": [
    "# Sample a random 'station_id' from the enhanced DataFrame\n",
    "random_station_id = df_enhanced.station_id.sample(1).values[0]\n",
    "\n",
    "# Display the first three rows of the enhanced DataFrame for the randomly selected 'station_id'\n",
    "df_enhanced[df_enhanced.station_id == random_station_id].head(3)"
   ]
  },
  {
   "cell_type": "code",
   "execution_count": null,
   "id": "d916a111",
   "metadata": {},
   "outputs": [],
   "source": [
    "# Display information about the DataFrame, including data types, non-null counts, and memory usage\n",
    "df_enhanced.info()"
   ]
  },
  {
   "cell_type": "markdown",
   "id": "645c42b0",
   "metadata": {},
   "source": [
    "### <span style=\"color:#ff5f27;\">📒 Citibike stations info</span>"
   ]
  },
  {
   "cell_type": "code",
   "execution_count": null,
   "id": "29d136ad",
   "metadata": {},
   "outputs": [],
   "source": [
    "# Read the CSV file containing station information into a DataFrame\n",
    "df_stations_info = pd.read_csv(\"data/stations_info.csv\")"
   ]
  },
  {
   "cell_type": "code",
   "execution_count": null,
   "id": "72e40b6b",
   "metadata": {},
   "outputs": [],
   "source": [
    "# Remove duplicate rows based on the 'station_id' column in the station information DataFrame\n",
    "df_stations_info = df_stations_info.drop_duplicates(subset=[\"station_id\"])\n",
    "\n",
    "# Reset the index of the DataFrame and drop any rows with missing values\n",
    "df_stations_info = df_stations_info.reset_index(drop=True).dropna()\n",
    "\n",
    "# Convert 'station_id' to string type for categorical representation\n",
    "df_stations_info.station_id = df_stations_info.station_id.astype(str)"
   ]
  },
  {
   "cell_type": "code",
   "execution_count": null,
   "id": "66243560",
   "metadata": {},
   "outputs": [],
   "source": [
    "# Display the first three rows of the station information DataFrame\n",
    "df_stations_info.head(3)"
   ]
  },
  {
   "cell_type": "code",
   "execution_count": null,
   "id": "f5322a07",
   "metadata": {},
   "outputs": [],
   "source": [
    "# Create a scatter map using Plotly Express with station information\n",
    "fig = px.scatter_mapbox(\n",
    "    df_stations_info, \n",
    "    lat=\"lat\", \n",
    "    lon=\"long\",\n",
    "    zoom=9.5,\n",
    "    hover_name=\"station_name\",\n",
    "    height=400,\n",
    "    width=600,\n",
    ")\n",
    "\n",
    "# Set the map style to 'open-street-map'\n",
    "fig.update_layout(mapbox_style=\"open-street-map\")\n",
    "\n",
    "# Adjust layout margins to remove unnecessary space\n",
    "fig.update_layout(margin={\"r\": 0, \"t\": 0, \"l\": 0, \"b\": 0})\n",
    "\n",
    "# Display the map\n",
    "fig.show()"
   ]
  },
  {
   "cell_type": "markdown",
   "id": "1eee1015",
   "metadata": {},
   "source": [
    "### <span style=\"color:#ff5f27;\"> 📅 US holidays</span>"
   ]
  },
  {
   "cell_type": "code",
   "execution_count": null,
   "id": "03775cbe",
   "metadata": {},
   "outputs": [],
   "source": [
    "# Create a US Federal Holiday calendar\n",
    "cal = USFederalHolidayCalendar()\n",
    "\n",
    "# Generate a feature for 20 years worth of US holiday days\n",
    "start_date_for_cal = datetime.strptime('2017-01-01', '%Y-%m-%d')\n",
    "end_date_for_cal = start_date_for_cal + timedelta(days=365*10)\n",
    "\n",
    "# Create a DataFrame with holiday dates and a corresponding 'holiday' column\n",
    "holidays = pd.DataFrame(\n",
    "    cal.holidays(start=start_date_for_cal, end=end_date_for_cal),\n",
    "    columns=['date'],\n",
    ")\n",
    "holidays['date'] = holidays['date'].dt.strftime('%Y-%m-%d')\n",
    "holidays['holiday'] = 1"
   ]
  },
  {
   "cell_type": "code",
   "execution_count": null,
   "id": "ff976b80",
   "metadata": {},
   "outputs": [],
   "source": [
    "# Create a DataFrame with a date range from start_date_for_cal to end_date_for_cal\n",
    "df_holidays = pd.DataFrame(\n",
    "    pd.date_range(start_date_for_cal, end_date_for_cal),\n",
    "    columns=[\"date\"],\n",
    ")\n",
    "\n",
    "# Format the 'date' column to match the '%Y-%m-%d' format\n",
    "df_holidays['date'] = df_holidays['date'].dt.strftime('%Y-%m-%d')\n",
    "\n",
    "# Display the first three rows of the DataFrame\n",
    "df_holidays.head(3)"
   ]
  },
  {
   "cell_type": "code",
   "execution_count": null,
   "id": "db30ed56",
   "metadata": {},
   "outputs": [],
   "source": [
    "# Set the 'date' column as the index and join the 'holidays' DataFrame on the 'date' column\n",
    "# Fill missing values with 0 after the join\n",
    "df_holidays = df_holidays.set_index(\"date\").join(\n",
    "    holidays.set_index(\"date\"), \n",
    "    how=\"left\",\n",
    ").fillna(0)"
   ]
  },
  {
   "cell_type": "code",
   "execution_count": null,
   "id": "7574b15d",
   "metadata": {},
   "outputs": [],
   "source": [
    "# Convert the 'holiday' column to integer type\n",
    "df_holidays['holiday'] = df_holidays['holiday'].astype(int)\n",
    "\n",
    "# Reset the index, bringing the 'date' column back as a regular column\n",
    "df_holidays = df_holidays.reset_index(drop=False)\n",
    "\n",
    "# Display the first three rows of the DataFrame\n",
    "df_holidays.head(3)"
   ]
  },
  {
   "cell_type": "code",
   "execution_count": null,
   "id": "76b5c737",
   "metadata": {},
   "outputs": [],
   "source": [
    "df_holidays.tail(3)"
   ]
  },
  {
   "cell_type": "markdown",
   "id": "0405e960",
   "metadata": {},
   "source": [
    "### <span style=\"color:#ff5f27;\"> 🌤 Meteorological measurements from VisualCrossing</span>"
   ]
  },
  {
   "cell_type": "markdown",
   "id": "96d72937",
   "metadata": {},
   "source": [
    "You will parse weather data so you should get an API key from [VisualCrossing](https://www.visualcrossing.com/). You can use [this link](https://www.visualcrossing.com/weather-api).\n",
    "\n",
    "#### Don't forget to create an `.env` configuration file inside this directory where all the necessary environment variables will be stored:\n",
    "\n",
    "`WEATHER_API_KEY = \"YOUR_API_KEY\"`\n",
    "\n",
    "> If you done it after you run this notebook, restart the Python Kernel (because `functions.py` does not have these variables in his namespace).\n",
    "\n",
    "![](images/api_keys_env_file.png)"
   ]
  },
  {
   "cell_type": "code",
   "execution_count": null,
   "id": "271bed12",
   "metadata": {},
   "outputs": [],
   "source": [
    "# Convert the 'date' column to string type\n",
    "df_enhanced.date = df_enhanced.date.astype(str)\n",
    "\n",
    "# Find the minimum and maximum dates in the 'date' column\n",
    "start_date, end_date = df_enhanced.date.min(), df_enhanced.date.max()"
   ]
  },
  {
   "cell_type": "code",
   "execution_count": null,
   "id": "2ad07dd2",
   "metadata": {},
   "outputs": [],
   "source": [
    "# Get weather data for New York City within the specified date range\n",
    "df_weather = meteorological_measurements.get_weather_data(\n",
    "    city=\"nyc\",\n",
    "    start_date=str(start_date).split()[0],\n",
    "    end_date=str(end_date).split()[0],\n",
    ")\n",
    "df_weather.tail(3)"
   ]
  },
  {
   "cell_type": "code",
   "execution_count": null,
   "id": "d4875559",
   "metadata": {},
   "outputs": [],
   "source": [
    "# Unix columns creation\n",
    "df_enhanced[\"timestamp\"] = df_enhanced[\"date\"].apply(\n",
    "    meteorological_measurements.convert_date_to_unix\n",
    ")\n",
    "df_holidays[\"timestamp\"] = df_holidays [\"date\"].apply(\n",
    "    meteorological_measurements.convert_date_to_unix\n",
    ")\n",
    "df_weather[\"timestamp\"] = df_weather[\"date\"].apply(\n",
    "    meteorological_measurements.convert_date_to_unix\n",
    ")"
   ]
  },
  {
   "cell_type": "markdown",
   "id": "4a826897",
   "metadata": {
    "id": "H1aYmOX60MXj"
   },
   "source": [
    "---"
   ]
  },
  {
   "cell_type": "markdown",
   "id": "b204ebdc",
   "metadata": {},
   "source": [
    "## <span style=\"color:#ff5f27;\"> 📡 Connecting to Hopsworks Feature Store </span>"
   ]
  },
  {
   "cell_type": "code",
   "execution_count": null,
   "id": "ba3395d2",
   "metadata": {
    "id": "cae776d7"
   },
   "outputs": [],
   "source": [
    "import hopsworks\n",
    "\n",
    "project = hopsworks.login()\n",
    "\n",
    "fs = project.get_feature_store()"
   ]
  },
  {
   "cell_type": "markdown",
   "id": "be0dfb9d",
   "metadata": {},
   "source": [
    "---"
   ]
  },
  {
   "cell_type": "markdown",
   "id": "f55978ba",
   "metadata": {},
   "source": [
    "## <span style=\"color:#ff5f27;\"> 🪄 Creating Feature Groups </span>\n",
    "\n",
    "A [feature group](https://docs.hopsworks.ai/3.0/concepts/fs/feature_group/fg_overview/) can be seen as a collection of conceptually related features. In this case, you will create next feature groups: CitiBike usage per station, Stations information, Meteorological measurements in NYC and US holidays."
   ]
  },
  {
   "cell_type": "code",
   "execution_count": null,
   "id": "6501923e",
   "metadata": {},
   "outputs": [],
   "source": [
    "citibike_usage_fg = fs.get_or_create_feature_group(\n",
    "    name=\"citibike_usage\",\n",
    "    version=1,\n",
    "    description=\"Citibike stations usage data.\",\n",
    "    primary_key=[\"date\", \"station_id\"],\n",
    "    event_time=\"timestamp\",\n",
    ")"
   ]
  },
  {
   "cell_type": "code",
   "execution_count": null,
   "id": "81c75fd2",
   "metadata": {
    "scrolled": true
   },
   "outputs": [],
   "source": [
    "citibike_usage_fg.insert(df_enhanced)"
   ]
  },
  {
   "cell_type": "code",
   "execution_count": null,
   "id": "98c5b065",
   "metadata": {
    "id": "c691d509"
   },
   "outputs": [],
   "source": [
    "citibike_stations_info_fg = fs.get_or_create_feature_group(\n",
    "    name=\"citibike_stations_info\",\n",
    "    version=1,\n",
    "    description=\"Citibike stations information.\",\n",
    "    primary_key=['station_id'],\n",
    ")"
   ]
  },
  {
   "cell_type": "code",
   "execution_count": null,
   "id": "3e821b95",
   "metadata": {
    "id": "67228279"
   },
   "outputs": [],
   "source": [
    "citibike_stations_info_fg.insert(df_stations_info)"
   ]
  },
  {
   "cell_type": "code",
   "execution_count": null,
   "id": "9f1736bf",
   "metadata": {},
   "outputs": [],
   "source": [
    "us_holidays_fg = fs.get_or_create_feature_group(\n",
    "    name=\"us_holidays\",\n",
    "    version=1,\n",
    "    description=\"US holidays calendar.\",\n",
    "    primary_key=[\"date\"],\n",
    "    event_time=\"timestamp\",\n",
    ")"
   ]
  },
  {
   "cell_type": "code",
   "execution_count": null,
   "id": "aab10254",
   "metadata": {},
   "outputs": [],
   "source": [
    "us_holidays_fg.insert(df_holidays)"
   ]
  },
  {
   "cell_type": "code",
   "execution_count": null,
   "id": "010f1a00",
   "metadata": {},
   "outputs": [],
   "source": [
    "meteorological_measurements_fg = fs.get_or_create_feature_group(\n",
    "    name=\"meteorological_measurements\",\n",
    "    version=1,\n",
    "    description=\"Meteorological measurements for NYC.\",\n",
    "    primary_key=[\"date\"],\n",
    "    event_time=\"timestamp\",\n",
    ")"
   ]
  },
  {
   "cell_type": "code",
   "execution_count": null,
   "id": "695d18c5",
   "metadata": {
    "scrolled": true
   },
   "outputs": [],
   "source": [
    "meteorological_measurements_fg.insert(df_weather)"
   ]
  },
  {
   "cell_type": "markdown",
   "id": "77dddcf2",
   "metadata": {},
   "source": [
    "## <span style=\"color:#ff5f27;\">⏭️ **Next:** Part 02: Feature Pipeline </span>\n",
    "\n",
    "In the next notebook, you will be parsing new monthly data for the Feature Groups.\n"
   ]
  }
 ],
 "metadata": {
  "colab": {
   "collapsed_sections": [],
   "provenance": []
  },
  "kernelspec": {
   "display_name": "Python 3",
   "language": "python",
   "name": "python3"
  },
  "language_info": {
   "codemirror_mode": {
    "name": "ipython",
    "version": 3
   },
   "file_extension": ".py",
   "mimetype": "text/x-python",
   "name": "python",
   "nbconvert_exporter": "python",
   "pygments_lexer": "ipython3",
   "version": "3.10.11"
  }
 },
 "nbformat": 4,
 "nbformat_minor": 5
}
