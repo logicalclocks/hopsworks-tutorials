{
 "cells": [
  {
   "cell_type": "markdown",
   "id": "0c1bef5a",
   "metadata": {},
   "source": [
    "# <span style=\"font-width:bold; font-size: 3rem; color:#1EB182;\"><img src=\"../../images/icon102.png\" width=\"38px\"></img> **Hopsworks Feature Store** </span><span style=\"font-width:bold; font-size: 3rem; color:#333;\">- Part 02: Feature Pipeline</span>\n",
    "\n",
    "[![Open In Colab](https://colab.research.google.com/assets/colab-badge.svg)](https://colab.research.google.com/github/logicalclocks/hopsworks-tutorials/blob/master/advanced_tutorials/{project_name}/{notebook_name}.ipynb)\n",
    "\n",
    "## 🗒️ This notebook is divided into the following sections:\n",
    "1. Data Generation\n",
    "2. Feature Group insertion"
   ]
  },
  {
   "cell_type": "markdown",
   "id": "7df0124e",
   "metadata": {},
   "source": [
    "## <span style=\"color:#ff5f27;\"> 🔮 Connecting to Hopsworks Feature Store </span>"
   ]
  },
  {
   "cell_type": "code",
   "execution_count": null,
   "id": "48491116",
   "metadata": {},
   "outputs": [],
   "source": [
    "import hopsworks\n",
    "\n",
    "project = hopsworks.login()\n",
    "\n",
    "fs = project.get_feature_store() "
   ]
  },
  {
   "cell_type": "markdown",
   "id": "57eca6c3",
   "metadata": {},
   "source": [
    "## <span style=\"color:#ff5f27;\">🪄 Retrieving Feature Groups</span>"
   ]
  },
  {
   "cell_type": "markdown",
   "id": "1245fe97",
   "metadata": {},
   "source": [
    "#### <span style=\"color:#ff5f27;\">⛳️ Application Train Feature Group</span>"
   ]
  },
  {
   "cell_type": "code",
   "execution_count": null,
   "id": "9dac811a",
   "metadata": {},
   "outputs": [],
   "source": [
    "application_train_fg = fs.get_or_create_feature_group(\n",
    "    name = 'application_train',\n",
    "    version = 1\n",
    ")\n",
    "\n",
    "application_train_df = application_train_fg.read()\n",
    "application_train_df.head()"
   ]
  },
  {
   "cell_type": "markdown",
   "id": "d6b3fc27",
   "metadata": {},
   "source": [
    "#### <span style=\"color:#ff5f27;\">⛳️ Bureau Balance Feature Group</span>"
   ]
  },
  {
   "cell_type": "code",
   "execution_count": null,
   "id": "e8e05fda",
   "metadata": {},
   "outputs": [],
   "source": [
    "bureau_balance_fg = fs.get_or_create_feature_group(\n",
    "    name = 'bureau_balance',\n",
    "    version = 1\n",
    ")\n",
    "\n",
    "bureau_balance_df = bureau_balance_fg.read()\n",
    "bureau_balance_df.head()"
   ]
  },
  {
   "cell_type": "markdown",
   "id": "5a39f77c",
   "metadata": {},
   "source": [
    "#### <span style=\"color:#ff5f27;\">⛳️ Bureau Feature Group</span>"
   ]
  },
  {
   "cell_type": "code",
   "execution_count": null,
   "id": "5ca9192f",
   "metadata": {},
   "outputs": [],
   "source": [
    "bureau_fg = fs.get_or_create_feature_group(\n",
    "    name = 'bureau',\n",
    "    version = 1\n",
    ")\n",
    "\n",
    "bureau_df = bureau_fg.read()\n",
    "bureau_df.head()"
   ]
  },
  {
   "cell_type": "markdown",
   "id": "ed7a7444",
   "metadata": {},
   "source": [
    "#### <span style=\"color:#ff5f27;\">⛳️ Credit Card Balance Feature Group</span>"
   ]
  },
  {
   "cell_type": "code",
   "execution_count": null,
   "id": "4799a526",
   "metadata": {},
   "outputs": [],
   "source": [
    "credit_card_balance_fg = fs.get_or_create_feature_group(\n",
    "    name = 'credit_card_balance',\n",
    "    version = 1\n",
    ")\n",
    "\n",
    "credit_card_balance_df = credit_card_balance_fg.read()\n",
    "credit_card_balance_df.head()"
   ]
  },
  {
   "cell_type": "markdown",
   "id": "9b369b5c",
   "metadata": {},
   "source": [
    "#### <span style=\"color:#ff5f27;\">⛳️ Installments Payments Feature Group</span>"
   ]
  },
  {
   "cell_type": "code",
   "execution_count": null,
   "id": "c190a7b8",
   "metadata": {},
   "outputs": [],
   "source": [
    "installments_payments_fg = fs.get_or_create_feature_group(\n",
    "    name = 'installments_payments',\n",
    "    version = 1\n",
    ")\n",
    "\n",
    "installments_payments_df = installments_payments_fg.read()\n",
    "installments_payments_df.head()"
   ]
  },
  {
   "cell_type": "markdown",
   "id": "d50146a2",
   "metadata": {},
   "source": [
    "#### <span style=\"color:#ff5f27;\">⛳️ POS (point of sales) and Cash Loans Balance Feature Group</span>"
   ]
  },
  {
   "cell_type": "code",
   "execution_count": null,
   "id": "07f7085e",
   "metadata": {},
   "outputs": [],
   "source": [
    "pos_cash_balance_fg = fs.get_or_create_feature_group(\n",
    "    name = 'pos_cash_balance',\n",
    "    version = 1\n",
    ")\n",
    "\n",
    "pos_cash_balance_df = pos_cash_balance_fg.read()\n",
    "pos_cash_balance_df.head()"
   ]
  },
  {
   "cell_type": "markdown",
   "id": "d500e570",
   "metadata": {},
   "source": [
    "#### <span style=\"color:#ff5f27;\">⛳️ Previous Application Feature Group</span>"
   ]
  },
  {
   "cell_type": "code",
   "execution_count": null,
   "id": "37a0202c",
   "metadata": {},
   "outputs": [],
   "source": [
    "previous_application_fg = fs.get_or_create_feature_group(\n",
    "    name = 'previous_application',\n",
    "    version = 1\n",
    ")\n",
    "\n",
    "previous_application_df = previous_application_fg.read()\n",
    "previous_application_df.head()"
   ]
  },
  {
   "cell_type": "markdown",
   "id": "447ff807",
   "metadata": {},
   "source": [
    "#### <span style=\"color:#ff5f27;\"> ⛳️ Previous Load Counts Feature Group"
   ]
  },
  {
   "cell_type": "code",
   "execution_count": null,
   "id": "dbb68ad9",
   "metadata": {},
   "outputs": [],
   "source": [
    "previous_loan_counts_fg = fs.get_or_create_feature_group(\n",
    "    name = 'previous_loan_counts',\n",
    "    version = 1\n",
    ")\n",
    "\n",
    "previous_loan_counts_df = previous_loan_counts_fg.read()\n",
    "previous_loan_counts_df.head()"
   ]
  },
  {
   "cell_type": "markdown",
   "id": "3c2df7b3",
   "metadata": {},
   "source": [
    "---\n",
    "\n",
    "## <span style=\"color:#ff5f27;\"> 🧙🏼‍♂️ Data Generation </span>"
   ]
  },
  {
   "cell_type": "markdown",
   "id": "85381861",
   "metadata": {},
   "source": [
    "### <span style='color:#ff5f27'> 📝 Imports"
   ]
  },
  {
   "cell_type": "code",
   "execution_count": null,
   "id": "6b435245",
   "metadata": {},
   "outputs": [],
   "source": [
    "from functions import generate_data"
   ]
  },
  {
   "cell_type": "markdown",
   "id": "89b3da0f",
   "metadata": {},
   "source": [
    "### <span style='color:#ff5f27'> 🧑🏻‍🔬 Generating new data"
   ]
  },
  {
   "cell_type": "code",
   "execution_count": null,
   "id": "7eea9c82",
   "metadata": {},
   "outputs": [],
   "source": [
    "application_train_df_generated = generate_data(application_train_df)\n",
    "application_train_df_generated.head()"
   ]
  },
  {
   "cell_type": "code",
   "execution_count": null,
   "id": "e189de9c",
   "metadata": {},
   "outputs": [],
   "source": [
    "bureau_balance_df_generated = generate_data(bureau_balance_df)\n",
    "bureau_balance_df_generated.head()"
   ]
  },
  {
   "cell_type": "code",
   "execution_count": null,
   "id": "6a9d49c3",
   "metadata": {},
   "outputs": [],
   "source": [
    "bureau_df_generated = generate_data(bureau_df)\n",
    "bureau_df_generated.head()"
   ]
  },
  {
   "cell_type": "code",
   "execution_count": null,
   "id": "cdfe9717",
   "metadata": {},
   "outputs": [],
   "source": [
    "credit_card_balance_df_generated = generate_data(credit_card_balance_df)\n",
    "credit_card_balance_df_generated.head()"
   ]
  },
  {
   "cell_type": "code",
   "execution_count": null,
   "id": "4ca389d5",
   "metadata": {},
   "outputs": [],
   "source": [
    "installments_payments_df_generated = generate_data(installments_payments_df)\n",
    "installments_payments_df_generated.head()"
   ]
  },
  {
   "cell_type": "code",
   "execution_count": null,
   "id": "ffc04182",
   "metadata": {},
   "outputs": [],
   "source": [
    "pos_cash_balance_df_generated = generate_data(pos_cash_balance_df)\n",
    "pos_cash_balance_df_generated.head()"
   ]
  },
  {
   "cell_type": "code",
   "execution_count": null,
   "id": "b4da6bb1",
   "metadata": {},
   "outputs": [],
   "source": [
    "previous_application_df_generated = generate_data(previous_application_df)\n",
    "previous_application_df_generated.head()"
   ]
  },
  {
   "cell_type": "code",
   "execution_count": null,
   "id": "36ea561c",
   "metadata": {},
   "outputs": [],
   "source": [
    "previous_loan_counts_df_generated = generate_data(previous_loan_counts_df)\n",
    "previous_loan_counts_df_generated.head()"
   ]
  },
  {
   "cell_type": "markdown",
   "id": "5b6c5808",
   "metadata": {},
   "source": [
    "### <span style='color:#ff5f27'> ⬆️ Uploading new data to the Feature Store"
   ]
  },
  {
   "cell_type": "code",
   "execution_count": null,
   "id": "6fd14bd8",
   "metadata": {},
   "outputs": [],
   "source": [
    "application_train_fg.insert(application_train_df_generated)"
   ]
  },
  {
   "cell_type": "code",
   "execution_count": null,
   "id": "c00342e7",
   "metadata": {},
   "outputs": [],
   "source": [
    "bureau_balance_fg.insert(bureau_balance_df_generated)"
   ]
  },
  {
   "cell_type": "code",
   "execution_count": null,
   "id": "ab8932a5",
   "metadata": {},
   "outputs": [],
   "source": [
    "bureau_fg.insert(bureau_df_generated)"
   ]
  },
  {
   "cell_type": "code",
   "execution_count": null,
   "id": "ad798c0a",
   "metadata": {},
   "outputs": [],
   "source": [
    "credit_card_balance_fg.insert(credit_card_balance_df_generated)"
   ]
  },
  {
   "cell_type": "code",
   "execution_count": null,
   "id": "f15a6f8a",
   "metadata": {},
   "outputs": [],
   "source": [
    "installments_payments_fg.insert(installments_payments_df_generated)"
   ]
  },
  {
   "cell_type": "code",
   "execution_count": null,
   "id": "0eb48d32",
   "metadata": {},
   "outputs": [],
   "source": [
    "pos_cash_balance_fg.insert(pos_cash_balance_df_generated)"
   ]
  },
  {
   "cell_type": "code",
   "execution_count": null,
   "id": "8fe644e3",
   "metadata": {},
   "outputs": [],
   "source": [
    "previous_application_fg.insert(previous_application_df_generated)"
   ]
  },
  {
   "cell_type": "code",
   "execution_count": null,
   "id": "f2d428bd",
   "metadata": {},
   "outputs": [],
   "source": [
    "previous_loan_counts_fg.insert(previous_loan_counts_df_generated)"
   ]
  },
  {
   "cell_type": "markdown",
   "id": "5bad1325",
   "metadata": {},
   "source": [
    "---\n",
    "## <span style=\"color:#ff5f27;\">⏭️ **Next:** Part 03 </span>\n",
    "\n",
    "In the next notebook we will use our feature groups to create a feature view and then training dataset we can train a model on."
   ]
  }
 ],
 "metadata": {
  "kernelspec": {
   "display_name": "Python 3 (ipykernel)",
   "language": "python",
   "name": "python3"
  },
  "language_info": {
   "codemirror_mode": {
    "name": "ipython",
    "version": 3
   },
   "file_extension": ".py",
   "mimetype": "text/x-python",
   "name": "python",
   "nbconvert_exporter": "python",
   "pygments_lexer": "ipython3",
   "version": "3.9.13"
  }
 },
 "nbformat": 4,
 "nbformat_minor": 5
}
