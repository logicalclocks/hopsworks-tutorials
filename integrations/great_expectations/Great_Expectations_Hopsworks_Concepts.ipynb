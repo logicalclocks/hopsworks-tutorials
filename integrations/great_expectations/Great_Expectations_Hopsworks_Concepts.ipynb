{
  "nbformat": 4,
  "nbformat_minor": 0,
  "metadata": {
    "colab": {
      "name": "Great Expectations Hopsworks Concepts.ipynb",
      "provenance": [],
      "collapsed_sections": []
    },
    "kernelspec": {
      "name": "python3",
      "display_name": "Python 3"
    },
    "language_info": {
      "name": "python"
    },
    "widgets": {
      "application/vnd.jupyter.widget-state+json": {
        "11ee1f9a824f44669648fcee189e23fb": {
          "model_module": "@jupyter-widgets/controls",
          "model_name": "HBoxModel",
          "model_module_version": "1.5.0",
          "state": {
            "_dom_classes": [],
            "_model_module": "@jupyter-widgets/controls",
            "_model_module_version": "1.5.0",
            "_model_name": "HBoxModel",
            "_view_count": null,
            "_view_module": "@jupyter-widgets/controls",
            "_view_module_version": "1.5.0",
            "_view_name": "HBoxView",
            "box_style": "",
            "children": [
              "IPY_MODEL_4dc03475e76c4156be48119006da00c7",
              "IPY_MODEL_7831f692056742f6ab2133e9b53e9f3a",
              "IPY_MODEL_6ee22273f46b494da2ec1322b7fd4b19"
            ],
            "layout": "IPY_MODEL_06d9c3ca386e47beb68af242601f42d6"
          }
        },
        "4dc03475e76c4156be48119006da00c7": {
          "model_module": "@jupyter-widgets/controls",
          "model_name": "HTMLModel",
          "model_module_version": "1.5.0",
          "state": {
            "_dom_classes": [],
            "_model_module": "@jupyter-widgets/controls",
            "_model_module_version": "1.5.0",
            "_model_name": "HTMLModel",
            "_view_count": null,
            "_view_module": "@jupyter-widgets/controls",
            "_view_module_version": "1.5.0",
            "_view_name": "HTMLView",
            "description": "",
            "description_tooltip": null,
            "layout": "IPY_MODEL_f5d1dd4793064b6da2aaee0940ebc94c",
            "placeholder": "​",
            "style": "IPY_MODEL_10008588e7374edbb4de6542f68c909c",
            "value": "Uploading Dataframe: 100.00% "
          }
        },
        "7831f692056742f6ab2133e9b53e9f3a": {
          "model_module": "@jupyter-widgets/controls",
          "model_name": "FloatProgressModel",
          "model_module_version": "1.5.0",
          "state": {
            "_dom_classes": [],
            "_model_module": "@jupyter-widgets/controls",
            "_model_module_version": "1.5.0",
            "_model_name": "FloatProgressModel",
            "_view_count": null,
            "_view_module": "@jupyter-widgets/controls",
            "_view_module_version": "1.5.0",
            "_view_name": "ProgressView",
            "bar_style": "success",
            "description": "",
            "description_tooltip": null,
            "layout": "IPY_MODEL_a10a93c967f5423d847783b6b1f73332",
            "max": 1,
            "min": 0,
            "orientation": "horizontal",
            "style": "IPY_MODEL_cf4e0872a2e54381a71376a446e81cc7",
            "value": 1
          }
        },
        "6ee22273f46b494da2ec1322b7fd4b19": {
          "model_module": "@jupyter-widgets/controls",
          "model_name": "HTMLModel",
          "model_module_version": "1.5.0",
          "state": {
            "_dom_classes": [],
            "_model_module": "@jupyter-widgets/controls",
            "_model_module_version": "1.5.0",
            "_model_name": "HTMLModel",
            "_view_count": null,
            "_view_module": "@jupyter-widgets/controls",
            "_view_module_version": "1.5.0",
            "_view_name": "HTMLView",
            "description": "",
            "description_tooltip": null,
            "layout": "IPY_MODEL_e3aacd6105784c5a88e0b00e172e7ee9",
            "placeholder": "​",
            "style": "IPY_MODEL_e320cbbc87724d05a01ef9f50dcdb4c8",
            "value": " Rows 1/1 | Elapsed Time: 00:00 | Remaining Time: 00:00"
          }
        },
        "06d9c3ca386e47beb68af242601f42d6": {
          "model_module": "@jupyter-widgets/base",
          "model_name": "LayoutModel",
          "model_module_version": "1.2.0",
          "state": {
            "_model_module": "@jupyter-widgets/base",
            "_model_module_version": "1.2.0",
            "_model_name": "LayoutModel",
            "_view_count": null,
            "_view_module": "@jupyter-widgets/base",
            "_view_module_version": "1.2.0",
            "_view_name": "LayoutView",
            "align_content": null,
            "align_items": null,
            "align_self": null,
            "border": null,
            "bottom": null,
            "display": null,
            "flex": null,
            "flex_flow": null,
            "grid_area": null,
            "grid_auto_columns": null,
            "grid_auto_flow": null,
            "grid_auto_rows": null,
            "grid_column": null,
            "grid_gap": null,
            "grid_row": null,
            "grid_template_areas": null,
            "grid_template_columns": null,
            "grid_template_rows": null,
            "height": null,
            "justify_content": null,
            "justify_items": null,
            "left": null,
            "margin": null,
            "max_height": null,
            "max_width": null,
            "min_height": null,
            "min_width": null,
            "object_fit": null,
            "object_position": null,
            "order": null,
            "overflow": null,
            "overflow_x": null,
            "overflow_y": null,
            "padding": null,
            "right": null,
            "top": null,
            "visibility": null,
            "width": null
          }
        },
        "f5d1dd4793064b6da2aaee0940ebc94c": {
          "model_module": "@jupyter-widgets/base",
          "model_name": "LayoutModel",
          "model_module_version": "1.2.0",
          "state": {
            "_model_module": "@jupyter-widgets/base",
            "_model_module_version": "1.2.0",
            "_model_name": "LayoutModel",
            "_view_count": null,
            "_view_module": "@jupyter-widgets/base",
            "_view_module_version": "1.2.0",
            "_view_name": "LayoutView",
            "align_content": null,
            "align_items": null,
            "align_self": null,
            "border": null,
            "bottom": null,
            "display": null,
            "flex": null,
            "flex_flow": null,
            "grid_area": null,
            "grid_auto_columns": null,
            "grid_auto_flow": null,
            "grid_auto_rows": null,
            "grid_column": null,
            "grid_gap": null,
            "grid_row": null,
            "grid_template_areas": null,
            "grid_template_columns": null,
            "grid_template_rows": null,
            "height": null,
            "justify_content": null,
            "justify_items": null,
            "left": null,
            "margin": null,
            "max_height": null,
            "max_width": null,
            "min_height": null,
            "min_width": null,
            "object_fit": null,
            "object_position": null,
            "order": null,
            "overflow": null,
            "overflow_x": null,
            "overflow_y": null,
            "padding": null,
            "right": null,
            "top": null,
            "visibility": null,
            "width": null
          }
        },
        "10008588e7374edbb4de6542f68c909c": {
          "model_module": "@jupyter-widgets/controls",
          "model_name": "DescriptionStyleModel",
          "model_module_version": "1.5.0",
          "state": {
            "_model_module": "@jupyter-widgets/controls",
            "_model_module_version": "1.5.0",
            "_model_name": "DescriptionStyleModel",
            "_view_count": null,
            "_view_module": "@jupyter-widgets/base",
            "_view_module_version": "1.2.0",
            "_view_name": "StyleView",
            "description_width": ""
          }
        },
        "a10a93c967f5423d847783b6b1f73332": {
          "model_module": "@jupyter-widgets/base",
          "model_name": "LayoutModel",
          "model_module_version": "1.2.0",
          "state": {
            "_model_module": "@jupyter-widgets/base",
            "_model_module_version": "1.2.0",
            "_model_name": "LayoutModel",
            "_view_count": null,
            "_view_module": "@jupyter-widgets/base",
            "_view_module_version": "1.2.0",
            "_view_name": "LayoutView",
            "align_content": null,
            "align_items": null,
            "align_self": null,
            "border": null,
            "bottom": null,
            "display": null,
            "flex": null,
            "flex_flow": null,
            "grid_area": null,
            "grid_auto_columns": null,
            "grid_auto_flow": null,
            "grid_auto_rows": null,
            "grid_column": null,
            "grid_gap": null,
            "grid_row": null,
            "grid_template_areas": null,
            "grid_template_columns": null,
            "grid_template_rows": null,
            "height": null,
            "justify_content": null,
            "justify_items": null,
            "left": null,
            "margin": null,
            "max_height": null,
            "max_width": null,
            "min_height": null,
            "min_width": null,
            "object_fit": null,
            "object_position": null,
            "order": null,
            "overflow": null,
            "overflow_x": null,
            "overflow_y": null,
            "padding": null,
            "right": null,
            "top": null,
            "visibility": null,
            "width": null
          }
        },
        "cf4e0872a2e54381a71376a446e81cc7": {
          "model_module": "@jupyter-widgets/controls",
          "model_name": "ProgressStyleModel",
          "model_module_version": "1.5.0",
          "state": {
            "_model_module": "@jupyter-widgets/controls",
            "_model_module_version": "1.5.0",
            "_model_name": "ProgressStyleModel",
            "_view_count": null,
            "_view_module": "@jupyter-widgets/base",
            "_view_module_version": "1.2.0",
            "_view_name": "StyleView",
            "bar_color": null,
            "description_width": ""
          }
        },
        "e3aacd6105784c5a88e0b00e172e7ee9": {
          "model_module": "@jupyter-widgets/base",
          "model_name": "LayoutModel",
          "model_module_version": "1.2.0",
          "state": {
            "_model_module": "@jupyter-widgets/base",
            "_model_module_version": "1.2.0",
            "_model_name": "LayoutModel",
            "_view_count": null,
            "_view_module": "@jupyter-widgets/base",
            "_view_module_version": "1.2.0",
            "_view_name": "LayoutView",
            "align_content": null,
            "align_items": null,
            "align_self": null,
            "border": null,
            "bottom": null,
            "display": null,
            "flex": null,
            "flex_flow": null,
            "grid_area": null,
            "grid_auto_columns": null,
            "grid_auto_flow": null,
            "grid_auto_rows": null,
            "grid_column": null,
            "grid_gap": null,
            "grid_row": null,
            "grid_template_areas": null,
            "grid_template_columns": null,
            "grid_template_rows": null,
            "height": null,
            "justify_content": null,
            "justify_items": null,
            "left": null,
            "margin": null,
            "max_height": null,
            "max_width": null,
            "min_height": null,
            "min_width": null,
            "object_fit": null,
            "object_position": null,
            "order": null,
            "overflow": null,
            "overflow_x": null,
            "overflow_y": null,
            "padding": null,
            "right": null,
            "top": null,
            "visibility": null,
            "width": null
          }
        },
        "e320cbbc87724d05a01ef9f50dcdb4c8": {
          "model_module": "@jupyter-widgets/controls",
          "model_name": "DescriptionStyleModel",
          "model_module_version": "1.5.0",
          "state": {
            "_model_module": "@jupyter-widgets/controls",
            "_model_module_version": "1.5.0",
            "_model_name": "DescriptionStyleModel",
            "_view_count": null,
            "_view_module": "@jupyter-widgets/base",
            "_view_module_version": "1.2.0",
            "_view_name": "StyleView",
            "description_width": ""
          }
        },
        "4bb70ac85af244e38ad022439ec92f62": {
          "model_module": "@jupyter-widgets/controls",
          "model_name": "HBoxModel",
          "model_module_version": "1.5.0",
          "state": {
            "_dom_classes": [],
            "_model_module": "@jupyter-widgets/controls",
            "_model_module_version": "1.5.0",
            "_model_name": "HBoxModel",
            "_view_count": null,
            "_view_module": "@jupyter-widgets/controls",
            "_view_module_version": "1.5.0",
            "_view_name": "HBoxView",
            "box_style": "",
            "children": [
              "IPY_MODEL_8787328deaee48009369dc77d33a2bae",
              "IPY_MODEL_4383c30c4be049b880e4376400b41591",
              "IPY_MODEL_41691d1d32a94882a10db8e0b268fe26"
            ],
            "layout": "IPY_MODEL_e4814ce5df0d43fba41758dcde7ba372"
          }
        },
        "8787328deaee48009369dc77d33a2bae": {
          "model_module": "@jupyter-widgets/controls",
          "model_name": "HTMLModel",
          "model_module_version": "1.5.0",
          "state": {
            "_dom_classes": [],
            "_model_module": "@jupyter-widgets/controls",
            "_model_module_version": "1.5.0",
            "_model_name": "HTMLModel",
            "_view_count": null,
            "_view_module": "@jupyter-widgets/controls",
            "_view_module_version": "1.5.0",
            "_view_name": "HTMLView",
            "description": "",
            "description_tooltip": null,
            "layout": "IPY_MODEL_de1829a0d2854fb69cc2a24d97781988",
            "placeholder": "​",
            "style": "IPY_MODEL_ebe96a1060c24faa88d2287c66b19bfc",
            "value": "Uploading Dataframe: 100.00% "
          }
        },
        "4383c30c4be049b880e4376400b41591": {
          "model_module": "@jupyter-widgets/controls",
          "model_name": "FloatProgressModel",
          "model_module_version": "1.5.0",
          "state": {
            "_dom_classes": [],
            "_model_module": "@jupyter-widgets/controls",
            "_model_module_version": "1.5.0",
            "_model_name": "FloatProgressModel",
            "_view_count": null,
            "_view_module": "@jupyter-widgets/controls",
            "_view_module_version": "1.5.0",
            "_view_name": "ProgressView",
            "bar_style": "success",
            "description": "",
            "description_tooltip": null,
            "layout": "IPY_MODEL_ea8a233576a14731a0acab6b177cedb2",
            "max": 106020,
            "min": 0,
            "orientation": "horizontal",
            "style": "IPY_MODEL_fc7ade8e2e804f40a8631150aee19240",
            "value": 106020
          }
        },
        "41691d1d32a94882a10db8e0b268fe26": {
          "model_module": "@jupyter-widgets/controls",
          "model_name": "HTMLModel",
          "model_module_version": "1.5.0",
          "state": {
            "_dom_classes": [],
            "_model_module": "@jupyter-widgets/controls",
            "_model_module_version": "1.5.0",
            "_model_name": "HTMLModel",
            "_view_count": null,
            "_view_module": "@jupyter-widgets/controls",
            "_view_module_version": "1.5.0",
            "_view_name": "HTMLView",
            "description": "",
            "description_tooltip": null,
            "layout": "IPY_MODEL_c9975107970c4154864a4a220f0a8015",
            "placeholder": "​",
            "style": "IPY_MODEL_9a81813718da4437b29e933b4ee50426",
            "value": " Rows 106020/106020 | Elapsed Time: 00:12 | Remaining Time: 00:00"
          }
        },
        "e4814ce5df0d43fba41758dcde7ba372": {
          "model_module": "@jupyter-widgets/base",
          "model_name": "LayoutModel",
          "model_module_version": "1.2.0",
          "state": {
            "_model_module": "@jupyter-widgets/base",
            "_model_module_version": "1.2.0",
            "_model_name": "LayoutModel",
            "_view_count": null,
            "_view_module": "@jupyter-widgets/base",
            "_view_module_version": "1.2.0",
            "_view_name": "LayoutView",
            "align_content": null,
            "align_items": null,
            "align_self": null,
            "border": null,
            "bottom": null,
            "display": null,
            "flex": null,
            "flex_flow": null,
            "grid_area": null,
            "grid_auto_columns": null,
            "grid_auto_flow": null,
            "grid_auto_rows": null,
            "grid_column": null,
            "grid_gap": null,
            "grid_row": null,
            "grid_template_areas": null,
            "grid_template_columns": null,
            "grid_template_rows": null,
            "height": null,
            "justify_content": null,
            "justify_items": null,
            "left": null,
            "margin": null,
            "max_height": null,
            "max_width": null,
            "min_height": null,
            "min_width": null,
            "object_fit": null,
            "object_position": null,
            "order": null,
            "overflow": null,
            "overflow_x": null,
            "overflow_y": null,
            "padding": null,
            "right": null,
            "top": null,
            "visibility": null,
            "width": null
          }
        },
        "de1829a0d2854fb69cc2a24d97781988": {
          "model_module": "@jupyter-widgets/base",
          "model_name": "LayoutModel",
          "model_module_version": "1.2.0",
          "state": {
            "_model_module": "@jupyter-widgets/base",
            "_model_module_version": "1.2.0",
            "_model_name": "LayoutModel",
            "_view_count": null,
            "_view_module": "@jupyter-widgets/base",
            "_view_module_version": "1.2.0",
            "_view_name": "LayoutView",
            "align_content": null,
            "align_items": null,
            "align_self": null,
            "border": null,
            "bottom": null,
            "display": null,
            "flex": null,
            "flex_flow": null,
            "grid_area": null,
            "grid_auto_columns": null,
            "grid_auto_flow": null,
            "grid_auto_rows": null,
            "grid_column": null,
            "grid_gap": null,
            "grid_row": null,
            "grid_template_areas": null,
            "grid_template_columns": null,
            "grid_template_rows": null,
            "height": null,
            "justify_content": null,
            "justify_items": null,
            "left": null,
            "margin": null,
            "max_height": null,
            "max_width": null,
            "min_height": null,
            "min_width": null,
            "object_fit": null,
            "object_position": null,
            "order": null,
            "overflow": null,
            "overflow_x": null,
            "overflow_y": null,
            "padding": null,
            "right": null,
            "top": null,
            "visibility": null,
            "width": null
          }
        },
        "ebe96a1060c24faa88d2287c66b19bfc": {
          "model_module": "@jupyter-widgets/controls",
          "model_name": "DescriptionStyleModel",
          "model_module_version": "1.5.0",
          "state": {
            "_model_module": "@jupyter-widgets/controls",
            "_model_module_version": "1.5.0",
            "_model_name": "DescriptionStyleModel",
            "_view_count": null,
            "_view_module": "@jupyter-widgets/base",
            "_view_module_version": "1.2.0",
            "_view_name": "StyleView",
            "description_width": ""
          }
        },
        "ea8a233576a14731a0acab6b177cedb2": {
          "model_module": "@jupyter-widgets/base",
          "model_name": "LayoutModel",
          "model_module_version": "1.2.0",
          "state": {
            "_model_module": "@jupyter-widgets/base",
            "_model_module_version": "1.2.0",
            "_model_name": "LayoutModel",
            "_view_count": null,
            "_view_module": "@jupyter-widgets/base",
            "_view_module_version": "1.2.0",
            "_view_name": "LayoutView",
            "align_content": null,
            "align_items": null,
            "align_self": null,
            "border": null,
            "bottom": null,
            "display": null,
            "flex": null,
            "flex_flow": null,
            "grid_area": null,
            "grid_auto_columns": null,
            "grid_auto_flow": null,
            "grid_auto_rows": null,
            "grid_column": null,
            "grid_gap": null,
            "grid_row": null,
            "grid_template_areas": null,
            "grid_template_columns": null,
            "grid_template_rows": null,
            "height": null,
            "justify_content": null,
            "justify_items": null,
            "left": null,
            "margin": null,
            "max_height": null,
            "max_width": null,
            "min_height": null,
            "min_width": null,
            "object_fit": null,
            "object_position": null,
            "order": null,
            "overflow": null,
            "overflow_x": null,
            "overflow_y": null,
            "padding": null,
            "right": null,
            "top": null,
            "visibility": null,
            "width": null
          }
        },
        "fc7ade8e2e804f40a8631150aee19240": {
          "model_module": "@jupyter-widgets/controls",
          "model_name": "ProgressStyleModel",
          "model_module_version": "1.5.0",
          "state": {
            "_model_module": "@jupyter-widgets/controls",
            "_model_module_version": "1.5.0",
            "_model_name": "ProgressStyleModel",
            "_view_count": null,
            "_view_module": "@jupyter-widgets/base",
            "_view_module_version": "1.2.0",
            "_view_name": "StyleView",
            "bar_color": null,
            "description_width": ""
          }
        },
        "c9975107970c4154864a4a220f0a8015": {
          "model_module": "@jupyter-widgets/base",
          "model_name": "LayoutModel",
          "model_module_version": "1.2.0",
          "state": {
            "_model_module": "@jupyter-widgets/base",
            "_model_module_version": "1.2.0",
            "_model_name": "LayoutModel",
            "_view_count": null,
            "_view_module": "@jupyter-widgets/base",
            "_view_module_version": "1.2.0",
            "_view_name": "LayoutView",
            "align_content": null,
            "align_items": null,
            "align_self": null,
            "border": null,
            "bottom": null,
            "display": null,
            "flex": null,
            "flex_flow": null,
            "grid_area": null,
            "grid_auto_columns": null,
            "grid_auto_flow": null,
            "grid_auto_rows": null,
            "grid_column": null,
            "grid_gap": null,
            "grid_row": null,
            "grid_template_areas": null,
            "grid_template_columns": null,
            "grid_template_rows": null,
            "height": null,
            "justify_content": null,
            "justify_items": null,
            "left": null,
            "margin": null,
            "max_height": null,
            "max_width": null,
            "min_height": null,
            "min_width": null,
            "object_fit": null,
            "object_position": null,
            "order": null,
            "overflow": null,
            "overflow_x": null,
            "overflow_y": null,
            "padding": null,
            "right": null,
            "top": null,
            "visibility": null,
            "width": null
          }
        },
        "9a81813718da4437b29e933b4ee50426": {
          "model_module": "@jupyter-widgets/controls",
          "model_name": "DescriptionStyleModel",
          "model_module_version": "1.5.0",
          "state": {
            "_model_module": "@jupyter-widgets/controls",
            "_model_module_version": "1.5.0",
            "_model_name": "DescriptionStyleModel",
            "_view_count": null,
            "_view_module": "@jupyter-widgets/base",
            "_view_module_version": "1.2.0",
            "_view_name": "StyleView",
            "description_width": ""
          }
        }
      }
    }
  },
  "cells": [
    {
      "cell_type": "markdown",
      "source": [
        "# Short Introduction to Great Expectations Concepts on Hopsworks"
      ],
      "metadata": {
        "id": "hg8bXe5vowxh"
      }
    },
    {
      "cell_type": "markdown",
      "source": [
        "The purpose of this notebook is to give a brief introduction to Great Expectations concepts and classes which are relevant for integration with the Hopsworks MLOps platform. Hopsworks works out of the box with Great Expectations classes, so no need to learn new abstractions and syntax. Define your Expectation Suite, register it to your Feature Group and try inserting data. Hopsworks take care of the rest!"
      ],
      "metadata": {
        "id": "imCH1P2Ro_lT"
      }
    },
    {
      "cell_type": "code",
      "execution_count": 1,
      "metadata": {
        "colab": {
          "base_uri": "https://localhost:8080/"
        },
        "id": "mKF0MLONooky",
        "outputId": "a2d9c370-0d14-4971-e51c-188b0535b1b4"
      },
      "outputs": [
        {
          "output_type": "stream",
          "name": "stdout",
          "text": [
            "\u001b[K     |████████████████████████████████| 119 kB 8.1 MB/s \n",
            "\u001b[K     |████████████████████████████████| 51 kB 5.4 MB/s \n",
            "\u001b[K     |████████████████████████████████| 132 kB 48.6 MB/s \n",
            "\u001b[K     |████████████████████████████████| 45 kB 2.8 MB/s \n",
            "\u001b[K     |████████████████████████████████| 68 kB 5.5 MB/s \n",
            "\u001b[K     |████████████████████████████████| 43 kB 2.1 MB/s \n",
            "\u001b[K     |████████████████████████████████| 4.9 MB 53.2 MB/s \n",
            "\u001b[K     |████████████████████████████████| 42 kB 1.4 MB/s \n",
            "\u001b[K     |████████████████████████████████| 2.8 MB 39.8 MB/s \n",
            "\u001b[K     |████████████████████████████████| 2.3 MB 42.4 MB/s \n",
            "\u001b[K     |████████████████████████████████| 109 kB 47.9 MB/s \n",
            "\u001b[K     |████████████████████████████████| 67 kB 1.3 MB/s \n",
            "\u001b[K     |████████████████████████████████| 1.6 MB 52.5 MB/s \n",
            "\u001b[K     |████████████████████████████████| 546 kB 47.0 MB/s \n",
            "\u001b[K     |████████████████████████████████| 79 kB 4.1 MB/s \n",
            "\u001b[K     |████████████████████████████████| 9.0 MB 40.6 MB/s \n",
            "\u001b[K     |████████████████████████████████| 127 kB 41.9 MB/s \n",
            "\u001b[K     |████████████████████████████████| 59 kB 6.3 MB/s \n",
            "\u001b[K     |████████████████████████████████| 57 kB 5.0 MB/s \n",
            "\u001b[K     |████████████████████████████████| 2.3 MB 48.9 MB/s \n",
            "\u001b[K     |████████████████████████████████| 4.1 MB 46.7 MB/s \n",
            "\u001b[?25h  Building wheel for hopsworks (setup.py) ... \u001b[?25l\u001b[?25hdone\n",
            "  Building wheel for hsfs (setup.py) ... \u001b[?25l\u001b[?25hdone\n",
            "  Building wheel for avro (setup.py) ... \u001b[?25l\u001b[?25hdone\n",
            "  Building wheel for hsml (setup.py) ... \u001b[?25l\u001b[?25hdone\n",
            "  Building wheel for pyhopshive (setup.py) ... \u001b[?25l\u001b[?25hdone\n",
            "  Building wheel for thrift (setup.py) ... \u001b[?25l\u001b[?25hdone\n",
            "  Building wheel for twofish (setup.py) ... \u001b[?25l\u001b[?25hdone\n"
          ]
        }
      ],
      "source": [
        "!pip install -U hopsworks --quiet"
      ]
    },
    {
      "cell_type": "code",
      "source": [
        "import great_expectations as ge\n",
        "import pandas as pd\n",
        "from pprint import pprint"
      ],
      "metadata": {
        "id": "5ycwOKmTpi7v"
      },
      "execution_count": 2,
      "outputs": []
    },
    {
      "cell_type": "markdown",
      "source": [
        "## Load example data and create a Feature Group"
      ],
      "metadata": {
        "id": "fQkvTXgYqCDd"
      }
    },
    {
      "cell_type": "code",
      "source": [
        "# Transactions data used in the fraud detection tutorial\n",
        "trans_df = pd.read_csv(\"https://repo.hops.works/master/hopsworks-tutorials/data/card_fraud_data/transactions.csv\", parse_dates=[\"datetime\"])\n",
        "trans_df.head(3)"
      ],
      "metadata": {
        "colab": {
          "base_uri": "https://localhost:8080/",
          "height": 143
        },
        "id": "ldCNYyX4pmAL",
        "outputId": "48473b38-246f-43f3-f6db-696d4dc48ebb"
      },
      "execution_count": 3,
      "outputs": [
        {
          "output_type": "execute_result",
          "data": {
            "text/plain": [
              "                                tid            datetime            cc_num  \\\n",
              "0  11df919988c134d97bbff2678eb68e22 2022-01-01 00:00:24  4473593503484549   \n",
              "1  dd0b2d6d4266ccd3bf05bc2ea91cf180 2022-01-01 00:00:56  4272465718946864   \n",
              "2  e627f5d9a9739833bd52d2da51761fc3 2022-01-01 00:02:32  4104216579248948   \n",
              "\n",
              "             category  amount  latitude  longitude            city country  \\\n",
              "0       Health/Beauty   62.95  42.30865  -83.48216          Canton      US   \n",
              "1             Grocery   85.45  33.52253 -117.70755   Laguna Niguel      US   \n",
              "2  Domestic Transport   21.63  37.60876  -77.37331  Mechanicsville      US   \n",
              "\n",
              "   fraud_label  \n",
              "0            0  \n",
              "1            0  \n",
              "2            0  "
            ],
            "text/html": [
              "\n",
              "  <div id=\"df-02c5c326-638b-4955-8811-8a974a86c480\">\n",
              "    <div class=\"colab-df-container\">\n",
              "      <div>\n",
              "<style scoped>\n",
              "    .dataframe tbody tr th:only-of-type {\n",
              "        vertical-align: middle;\n",
              "    }\n",
              "\n",
              "    .dataframe tbody tr th {\n",
              "        vertical-align: top;\n",
              "    }\n",
              "\n",
              "    .dataframe thead th {\n",
              "        text-align: right;\n",
              "    }\n",
              "</style>\n",
              "<table border=\"1\" class=\"dataframe\">\n",
              "  <thead>\n",
              "    <tr style=\"text-align: right;\">\n",
              "      <th></th>\n",
              "      <th>tid</th>\n",
              "      <th>datetime</th>\n",
              "      <th>cc_num</th>\n",
              "      <th>category</th>\n",
              "      <th>amount</th>\n",
              "      <th>latitude</th>\n",
              "      <th>longitude</th>\n",
              "      <th>city</th>\n",
              "      <th>country</th>\n",
              "      <th>fraud_label</th>\n",
              "    </tr>\n",
              "  </thead>\n",
              "  <tbody>\n",
              "    <tr>\n",
              "      <th>0</th>\n",
              "      <td>11df919988c134d97bbff2678eb68e22</td>\n",
              "      <td>2022-01-01 00:00:24</td>\n",
              "      <td>4473593503484549</td>\n",
              "      <td>Health/Beauty</td>\n",
              "      <td>62.95</td>\n",
              "      <td>42.30865</td>\n",
              "      <td>-83.48216</td>\n",
              "      <td>Canton</td>\n",
              "      <td>US</td>\n",
              "      <td>0</td>\n",
              "    </tr>\n",
              "    <tr>\n",
              "      <th>1</th>\n",
              "      <td>dd0b2d6d4266ccd3bf05bc2ea91cf180</td>\n",
              "      <td>2022-01-01 00:00:56</td>\n",
              "      <td>4272465718946864</td>\n",
              "      <td>Grocery</td>\n",
              "      <td>85.45</td>\n",
              "      <td>33.52253</td>\n",
              "      <td>-117.70755</td>\n",
              "      <td>Laguna Niguel</td>\n",
              "      <td>US</td>\n",
              "      <td>0</td>\n",
              "    </tr>\n",
              "    <tr>\n",
              "      <th>2</th>\n",
              "      <td>e627f5d9a9739833bd52d2da51761fc3</td>\n",
              "      <td>2022-01-01 00:02:32</td>\n",
              "      <td>4104216579248948</td>\n",
              "      <td>Domestic Transport</td>\n",
              "      <td>21.63</td>\n",
              "      <td>37.60876</td>\n",
              "      <td>-77.37331</td>\n",
              "      <td>Mechanicsville</td>\n",
              "      <td>US</td>\n",
              "      <td>0</td>\n",
              "    </tr>\n",
              "  </tbody>\n",
              "</table>\n",
              "</div>\n",
              "      <button class=\"colab-df-convert\" onclick=\"convertToInteractive('df-02c5c326-638b-4955-8811-8a974a86c480')\"\n",
              "              title=\"Convert this dataframe to an interactive table.\"\n",
              "              style=\"display:none;\">\n",
              "        \n",
              "  <svg xmlns=\"http://www.w3.org/2000/svg\" height=\"24px\"viewBox=\"0 0 24 24\"\n",
              "       width=\"24px\">\n",
              "    <path d=\"M0 0h24v24H0V0z\" fill=\"none\"/>\n",
              "    <path d=\"M18.56 5.44l.94 2.06.94-2.06 2.06-.94-2.06-.94-.94-2.06-.94 2.06-2.06.94zm-11 1L8.5 8.5l.94-2.06 2.06-.94-2.06-.94L8.5 2.5l-.94 2.06-2.06.94zm10 10l.94 2.06.94-2.06 2.06-.94-2.06-.94-.94-2.06-.94 2.06-2.06.94z\"/><path d=\"M17.41 7.96l-1.37-1.37c-.4-.4-.92-.59-1.43-.59-.52 0-1.04.2-1.43.59L10.3 9.45l-7.72 7.72c-.78.78-.78 2.05 0 2.83L4 21.41c.39.39.9.59 1.41.59.51 0 1.02-.2 1.41-.59l7.78-7.78 2.81-2.81c.8-.78.8-2.07 0-2.86zM5.41 20L4 18.59l7.72-7.72 1.47 1.35L5.41 20z\"/>\n",
              "  </svg>\n",
              "      </button>\n",
              "      \n",
              "  <style>\n",
              "    .colab-df-container {\n",
              "      display:flex;\n",
              "      flex-wrap:wrap;\n",
              "      gap: 12px;\n",
              "    }\n",
              "\n",
              "    .colab-df-convert {\n",
              "      background-color: #E8F0FE;\n",
              "      border: none;\n",
              "      border-radius: 50%;\n",
              "      cursor: pointer;\n",
              "      display: none;\n",
              "      fill: #1967D2;\n",
              "      height: 32px;\n",
              "      padding: 0 0 0 0;\n",
              "      width: 32px;\n",
              "    }\n",
              "\n",
              "    .colab-df-convert:hover {\n",
              "      background-color: #E2EBFA;\n",
              "      box-shadow: 0px 1px 2px rgba(60, 64, 67, 0.3), 0px 1px 3px 1px rgba(60, 64, 67, 0.15);\n",
              "      fill: #174EA6;\n",
              "    }\n",
              "\n",
              "    [theme=dark] .colab-df-convert {\n",
              "      background-color: #3B4455;\n",
              "      fill: #D2E3FC;\n",
              "    }\n",
              "\n",
              "    [theme=dark] .colab-df-convert:hover {\n",
              "      background-color: #434B5C;\n",
              "      box-shadow: 0px 1px 3px 1px rgba(0, 0, 0, 0.15);\n",
              "      filter: drop-shadow(0px 1px 2px rgba(0, 0, 0, 0.3));\n",
              "      fill: #FFFFFF;\n",
              "    }\n",
              "  </style>\n",
              "\n",
              "      <script>\n",
              "        const buttonEl =\n",
              "          document.querySelector('#df-02c5c326-638b-4955-8811-8a974a86c480 button.colab-df-convert');\n",
              "        buttonEl.style.display =\n",
              "          google.colab.kernel.accessAllowed ? 'block' : 'none';\n",
              "\n",
              "        async function convertToInteractive(key) {\n",
              "          const element = document.querySelector('#df-02c5c326-638b-4955-8811-8a974a86c480');\n",
              "          const dataTable =\n",
              "            await google.colab.kernel.invokeFunction('convertToInteractive',\n",
              "                                                     [key], {});\n",
              "          if (!dataTable) return;\n",
              "\n",
              "          const docLinkHtml = 'Like what you see? Visit the ' +\n",
              "            '<a target=\"_blank\" href=https://colab.research.google.com/notebooks/data_table.ipynb>data table notebook</a>'\n",
              "            + ' to learn more about interactive tables.';\n",
              "          element.innerHTML = '';\n",
              "          dataTable['output_type'] = 'display_data';\n",
              "          await google.colab.output.renderOutput(dataTable, element);\n",
              "          const docLink = document.createElement('div');\n",
              "          docLink.innerHTML = docLinkHtml;\n",
              "          element.appendChild(docLink);\n",
              "        }\n",
              "      </script>\n",
              "    </div>\n",
              "  </div>\n",
              "  "
            ]
          },
          "metadata": {},
          "execution_count": 3
        }
      ]
    },
    {
      "cell_type": "code",
      "source": [
        "# login in hopsworks\n",
        "\n",
        "import hopsworks\n",
        "project = hopsworks.login()\n",
        "fs = project.get_feature_store()"
      ],
      "metadata": {
        "colab": {
          "base_uri": "https://localhost:8080/"
        },
        "id": "FlOgVoJorbSu",
        "outputId": "6d7d660d-854d-4475-8389-55a096060453"
      },
      "execution_count": 9,
      "outputs": [
        {
          "output_type": "stream",
          "name": "stdout",
          "text": [
            "Copy your Api Key (first register/login): https://c.app.hopsworks.ai/account/api/generated\n",
            "\n",
            "Paste it here: 2L4Tg8EVrrtJeCaN.x3Ob0PjNJaBTNGNh6jLiN2xo2JwjbTJLgg16dKHfNiX2SrlIUcOmWV6CfM35aLok\n",
            "Connected. Call `.close()` to terminate connection gracefully.\n",
            "\n",
            "Logged in to project, explore it here https://c.app.hopsworks.ai:443/p/155\n",
            "Connected. Call `.close()` to terminate connection gracefully.\n"
          ]
        },
        {
          "output_type": "stream",
          "name": "stderr",
          "text": [
            "DeprecationWarning: Using or importing the ABCs from 'collections' instead of from 'collections.abc' is deprecated since Python 3.3,and in 3.9 it will stop working\n",
            "DeprecationWarning: Using or importing the ABCs from 'collections' instead of from 'collections.abc' is deprecated since Python 3.3,and in 3.9 it will stop working\n"
          ]
        }
      ]
    },
    {
      "cell_type": "code",
      "source": [
        "trans_fg = fs.get_or_create_feature_group(\n",
        "    name=\"mini_transactions_fraud_batch_fg\",\n",
        "    version=1,\n",
        "    description=\"Transaction data\",\n",
        "    primary_key=['cc_num'],\n",
        "    event_time=['datetime']\n",
        ")\n",
        "\n",
        "# Insert a single row to persist the FG in the backend\n",
        "trans_fg.insert(trans_df.head(1))"
      ],
      "metadata": {
        "colab": {
          "base_uri": "https://localhost:8080/",
          "height": 156,
          "referenced_widgets": [
            "11ee1f9a824f44669648fcee189e23fb",
            "4dc03475e76c4156be48119006da00c7",
            "7831f692056742f6ab2133e9b53e9f3a",
            "6ee22273f46b494da2ec1322b7fd4b19",
            "06d9c3ca386e47beb68af242601f42d6",
            "f5d1dd4793064b6da2aaee0940ebc94c",
            "10008588e7374edbb4de6542f68c909c",
            "a10a93c967f5423d847783b6b1f73332",
            "cf4e0872a2e54381a71376a446e81cc7",
            "e3aacd6105784c5a88e0b00e172e7ee9",
            "e320cbbc87724d05a01ef9f50dcdb4c8"
          ]
        },
        "id": "jn2spyy2rOGf",
        "outputId": "ca9904f8-01c0-4398-9ed2-59a14c75c740"
      },
      "execution_count": 10,
      "outputs": [
        {
          "output_type": "stream",
          "name": "stdout",
          "text": [
            "Feature Group created successfully, explore it at \n",
            "https://c.app.hopsworks.ai:443/p/155/fs/97/fg/588\n"
          ]
        },
        {
          "output_type": "display_data",
          "data": {
            "text/plain": [
              "Uploading Dataframe: 0.00% |          | Rows 0/1 | Elapsed Time: 00:00 | Remaining Time: ?"
            ],
            "application/vnd.jupyter.widget-view+json": {
              "version_major": 2,
              "version_minor": 0,
              "model_id": "11ee1f9a824f44669648fcee189e23fb"
            }
          },
          "metadata": {}
        },
        {
          "output_type": "stream",
          "name": "stdout",
          "text": [
            "Launching offline feature group backfill job...\n",
            "Backfill Job started successfully, you can follow the progress at \n",
            "https://c.app.hopsworks.ai/p/155/jobs/named/mini_transactions_fraud_batch_fg_1_offline_fg_backfill/executions\n"
          ]
        },
        {
          "output_type": "execute_result",
          "data": {
            "text/plain": [
              "(<hsfs.core.job.Job at 0x7f50b3d9cc50>, None)"
            ]
          },
          "metadata": {},
          "execution_count": 10
        }
      ]
    },
    {
      "cell_type": "markdown",
      "source": [
        "## Great Expectations Classes and Concepts"
      ],
      "metadata": {
        "id": "gUwtuAl3qLeK"
      }
    },
    {
      "cell_type": "markdown",
      "source": [
        "### Expectations"
      ],
      "metadata": {
        "id": "0dFZNRUutw8i"
      }
    },
    {
      "cell_type": "markdown",
      "source": [
        "The central concept is the Expectation. Each type of expectation specifies one or more metrics whose values to will be computed on a DataFrame. The configuration of a given expectation type specifies an acceptable range to be compared to a the observed value. Expectation entities are not specific to your data or a particuliar DataFrame, they merely define operations to be performed and success criteria. \n",
        "\n",
        "During development or prototyping, Great Expectations offers a DataFrame wrapper to explore your data. It enables auto-completion method for core supported expectations. As different expectations will require different kwargs for their configuration, it helps gaining familiarity with new expectations.\n",
        "\n",
        "In Hopsworks, expectations will usually be evaluated on a Feature or pair of Feature. The expectation type enables a standardisation of the metrics computed while the configuration allows the user to adapt the success of the validation to their particular conditions. In a production setup, each Feature will be validated by multiple expectations. Note that Hopsworks populates the meta field of expectation with an id to enable smoother integrations."
      ],
      "metadata": {
        "id": "M77KYBpSqNYj"
      }
    },
    {
      "cell_type": "code",
      "source": [
        "ge_df = ge.from_pandas(trans_df)\n",
        "result = ge_df.expect_column_mean_to_be_between(column=\"amount\", min_value=10, max_value=100)\n",
        "print(f\"Observed mean : {result['result']['observed_value']}, success : {result['success']}\")"
      ],
      "metadata": {
        "colab": {
          "base_uri": "https://localhost:8080/"
        },
        "id": "ixoYH-wfptAE",
        "outputId": "21006e84-d169-4786-e7b4-4b4c656d2d08"
      },
      "execution_count": 11,
      "outputs": [
        {
          "output_type": "stream",
          "name": "stdout",
          "text": [
            "Observed mean : 421.1216635540464, success : False\n"
          ]
        }
      ]
    },
    {
      "cell_type": "markdown",
      "source": [
        "### Validation Result"
      ],
      "metadata": {
        "id": "exL_EWitvkoZ"
      }
    },
    {
      "cell_type": "markdown",
      "source": [
        "An expectation generates a validation result entity on evaluation. This result is specific to a DataFrame and acts as a log for the evaluation. There are different information in the validation result:\n",
        "- The success or failure of the evaluation, meaning are the metrics calculated with the success criteria specified in the expectations.\n",
        "- A meta field for extra information\n",
        "- An expectation_config field which contains the entity that was evaluated against the DataFrame. Crucial for reproducibility, still needs the same data.\n",
        "- An exception_info, in case the evaluation raised an exception.\n",
        "- The result field itself, with information about the computed metrics. The type of information depends on the expectation_type.\n",
        "\n",
        "When the expectation has an Hopsworks id, the result can be linked to the expectation on upload. This allows a history of data validation to start being populated to simplify validation monitoring."
      ],
      "metadata": {
        "id": "cqE9DkUzvpyQ"
      }
    },
    {
      "cell_type": "code",
      "source": [
        "pprint(result)"
      ],
      "metadata": {
        "colab": {
          "base_uri": "https://localhost:8080/"
        },
        "id": "yLs0VSKF4i0O",
        "outputId": "e1dfb266-4ad2-4bf6-810f-8d4f982d556b"
      },
      "execution_count": 12,
      "outputs": [
        {
          "output_type": "stream",
          "name": "stdout",
          "text": [
            "{\n",
            "  \"expectation_config\": {\n",
            "    \"kwargs\": {\n",
            "      \"column\": \"amount\",\n",
            "      \"min_value\": 10,\n",
            "      \"max_value\": 100,\n",
            "      \"result_format\": \"BASIC\"\n",
            "    },\n",
            "    \"expectation_type\": \"expect_column_mean_to_be_between\",\n",
            "    \"meta\": {}\n",
            "  },\n",
            "  \"meta\": {},\n",
            "  \"success\": false,\n",
            "  \"exception_info\": {\n",
            "    \"raised_exception\": false,\n",
            "    \"exception_traceback\": null,\n",
            "    \"exception_message\": null\n",
            "  },\n",
            "  \"result\": {\n",
            "    \"observed_value\": 421.1216635540464,\n",
            "    \"element_count\": 106020,\n",
            "    \"missing_count\": null,\n",
            "    \"missing_percent\": null\n",
            "  }\n",
            "}\n"
          ]
        }
      ]
    },
    {
      "cell_type": "markdown",
      "source": [
        "### Expectation Suite"
      ],
      "metadata": {
        "id": "W_jMdeijthh_"
      }
    },
    {
      "cell_type": "markdown",
      "source": [
        "The Expectation Suite is an other central concept of Great Expectations relevant to working with Hopsworks. The suite is simply a collection of Expectations to be evaluated against the same DataFrame. It provides persistance for the expectation types and configurations to be run. \n",
        "\n",
        "Expectation suite are the core abstraction used to integrate with Hopsworks. Each version of a Feature Group will have a unique expectation suite used to validate data before their insertion into the Feature Store. All expectations connected to a given Feature should be included in the suite as well as all expectation performed on pair of Features. The expectation suite is attached to a Feature Group in the backend enabling convenient storage and retrieval. In addition, Hopsworks is configured by default to use the suite to automatically run validation on insertion."
      ],
      "metadata": {
        "id": "3VTm2DD_t1N8"
      }
    },
    {
      "cell_type": "code",
      "source": [
        "new_expectation_suite = ge.core.ExpectationSuite(\n",
        "    expectation_suite_name=\"expectation_suite_101\"\n",
        "    )\n",
        "\n",
        "new_expectation_suite.add_expectation(result['expectation_config'])\n",
        "\n",
        "# # equivalent to \n",
        "# new_expectation_suite.add_expectation(\n",
        "#     ge.core.ExpectationConfiguration(\n",
        "#         expectation_type=\"expect_column_mean_to_be_between\",\n",
        "#         kwargs={\n",
        "#             \"column\":\"amount\",\n",
        "#             \"min_value\":10,\n",
        "#             \"max_value\":100\n",
        "#         }\n",
        "#     )\n",
        "# )"
      ],
      "metadata": {
        "id": "Jy4wfoyuqKew",
        "colab": {
          "base_uri": "https://localhost:8080/"
        },
        "outputId": "9f9414cd-15f8-40b9-fa2a-60e03c4a6d81"
      },
      "execution_count": 13,
      "outputs": [
        {
          "output_type": "execute_result",
          "data": {
            "text/plain": [
              "{\"kwargs\": {\"column\": \"amount\", \"min_value\": 10, \"max_value\": 100, \"result_format\": \"BASIC\"}, \"expectation_type\": \"expect_column_mean_to_be_between\", \"meta\": {}}"
            ]
          },
          "metadata": {},
          "execution_count": 13
        }
      ]
    },
    {
      "cell_type": "code",
      "source": [
        "# Run the validation manually with Great Expectations\n",
        "ge_df = ge.from_pandas(trans_df, expectation_suite=new_expectation_suite)\n",
        "report = ge_df.validate()\n",
        "\n",
        "# Or setup automatic validation on insert with Hopsworks in a single line of code\n",
        "trans_fg.save_expectation_suite(\n",
        "    expectation_suite=new_expectation_suite,\n",
        "    validation_ingestion_policy=\"ALWAYS\")"
      ],
      "metadata": {
        "colab": {
          "base_uri": "https://localhost:8080/"
        },
        "id": "krPiF20BsOIl",
        "outputId": "9a682336-3712-4017-8f96-73dcd8f8794e"
      },
      "execution_count": 14,
      "outputs": [
        {
          "output_type": "stream",
          "name": "stdout",
          "text": [
            "Attached expectation suite to featuregroup, edit it at https://c.app.hopsworks.ai:443/p/155/fs/97/fg/588\n"
          ]
        }
      ]
    },
    {
      "cell_type": "markdown",
      "source": [
        "### Validation Report"
      ],
      "metadata": {
        "id": "6jB9BsxaRfSR"
      }
    },
    {
      "cell_type": "markdown",
      "source": [
        "On performing validation of a DataFrame using an expectation suite, Great Expectations generates a validation report. This report collects all results from the expectation ran during the validation as well as various related metadata (overall success, timestamps, version, etc...)\n",
        "\n",
        "By default, running validation with Hopsworks uploads the validation report to the backend. Hopsworks UI provides a simple way to consult a summary of these reports orm download the full report for more thorough investigation."
      ],
      "metadata": {
        "id": "nXT38FUlRh2x"
      }
    },
    {
      "cell_type": "code",
      "source": [
        "pprint(report)"
      ],
      "metadata": {
        "colab": {
          "base_uri": "https://localhost:8080/"
        },
        "id": "TpAaHiuaRg84",
        "outputId": "be11bdee-05e0-4e29-bdc1-4e9cb9332373"
      },
      "execution_count": 7,
      "outputs": [
        {
          "output_type": "stream",
          "name": "stdout",
          "text": [
            "{\n",
            "  \"results\": [\n",
            "    {\n",
            "      \"expectation_config\": {\n",
            "        \"kwargs\": {\n",
            "          \"column\": \"amount\",\n",
            "          \"min_value\": 10,\n",
            "          \"max_value\": 100,\n",
            "          \"result_format\": \"BASIC\"\n",
            "        },\n",
            "        \"expectation_type\": \"expect_column_mean_to_be_between\",\n",
            "        \"meta\": {}\n",
            "      },\n",
            "      \"meta\": {},\n",
            "      \"success\": false,\n",
            "      \"exception_info\": {\n",
            "        \"raised_exception\": false,\n",
            "        \"exception_message\": null,\n",
            "        \"exception_traceback\": null\n",
            "      },\n",
            "      \"result\": {\n",
            "        \"observed_value\": 421.1216635540464,\n",
            "        \"element_count\": 106020,\n",
            "        \"missing_count\": null,\n",
            "        \"missing_percent\": null\n",
            "      }\n",
            "    }\n",
            "  ],\n",
            "  \"statistics\": {\n",
            "    \"evaluated_expectations\": 1,\n",
            "    \"successful_expectations\": 0,\n",
            "    \"unsuccessful_expectations\": 1,\n",
            "    \"success_percent\": 0.0\n",
            "  },\n",
            "  \"meta\": {\n",
            "    \"great_expectations_version\": \"0.14.3\",\n",
            "    \"expectation_suite_name\": \"expectation_suite_101\",\n",
            "    \"run_id\": {\n",
            "      \"run_name\": null,\n",
            "      \"run_time\": \"2022-08-16T07:27:45.145164+00:00\"\n",
            "    },\n",
            "    \"batch_kwargs\": {\n",
            "      \"ge_batch_id\": \"ebe3e6cc-1d34-11ed-838b-0242ac1c0002\"\n",
            "    },\n",
            "    \"batch_markers\": {},\n",
            "    \"batch_parameters\": {},\n",
            "    \"validation_time\": \"20220816T072745.145023Z\",\n",
            "    \"expectation_suite_meta\": {\n",
            "      \"great_expectations_version\": \"0.14.3\"\n",
            "    }\n",
            "  },\n",
            "  \"success\": false,\n",
            "  \"evaluation_parameters\": {}\n",
            "}\n"
          ]
        }
      ]
    },
    {
      "cell_type": "code",
      "source": [
        "# automatic validation on insertion, checkout the report in Hopsworks UI\n",
        "trans_fg.insert(trans_df)"
      ],
      "metadata": {
        "colab": {
          "base_uri": "https://localhost:8080/",
          "height": 1000,
          "referenced_widgets": [
            "4bb70ac85af244e38ad022439ec92f62",
            "8787328deaee48009369dc77d33a2bae",
            "4383c30c4be049b880e4376400b41591",
            "41691d1d32a94882a10db8e0b268fe26",
            "e4814ce5df0d43fba41758dcde7ba372",
            "de1829a0d2854fb69cc2a24d97781988",
            "ebe96a1060c24faa88d2287c66b19bfc",
            "ea8a233576a14731a0acab6b177cedb2",
            "fc7ade8e2e804f40a8631150aee19240",
            "c9975107970c4154864a4a220f0a8015",
            "9a81813718da4437b29e933b4ee50426"
          ]
        },
        "id": "UX0MfUNEq-UA",
        "outputId": "8480a8d0-f33b-4cba-cc42-22670fefd6ba"
      },
      "execution_count": 15,
      "outputs": [
        {
          "output_type": "stream",
          "name": "stdout",
          "text": [
            "Validation Report saved successfully, explore a summary at https://c.app.hopsworks.ai:443/p/155/fs/97/fg/588\n"
          ]
        },
        {
          "output_type": "display_data",
          "data": {
            "text/plain": [
              "Uploading Dataframe: 0.00% |          | Rows 0/106020 | Elapsed Time: 00:00 | Remaining Time: ?"
            ],
            "application/vnd.jupyter.widget-view+json": {
              "version_major": 2,
              "version_minor": 0,
              "model_id": "4bb70ac85af244e38ad022439ec92f62"
            }
          },
          "metadata": {}
        },
        {
          "output_type": "stream",
          "name": "stdout",
          "text": [
            "Launching offline feature group backfill job...\n",
            "Backfill Job started successfully, you can follow the progress at \n",
            "https://c.app.hopsworks.ai/p/155/jobs/named/mini_transactions_fraud_batch_fg_1_offline_fg_backfill/executions\n"
          ]
        },
        {
          "output_type": "execute_result",
          "data": {
            "text/plain": [
              "(<hsfs.core.job.Job at 0x7f50b813b090>, {\n",
              "   \"results\": [\n",
              "     {\n",
              "       \"expectation_config\": {\n",
              "         \"kwargs\": {\n",
              "           \"column\": \"amount\",\n",
              "           \"min_value\": 10,\n",
              "           \"max_value\": 100,\n",
              "           \"result_format\": \"BASIC\"\n",
              "         },\n",
              "         \"expectation_type\": \"expect_column_mean_to_be_between\",\n",
              "         \"meta\": {\n",
              "           \"expectationId\": 173\n",
              "         }\n",
              "       },\n",
              "       \"meta\": {},\n",
              "       \"success\": false,\n",
              "       \"exception_info\": {\n",
              "         \"raised_exception\": false,\n",
              "         \"exception_message\": null,\n",
              "         \"exception_traceback\": null\n",
              "       },\n",
              "       \"result\": {\n",
              "         \"observed_value\": 421.1216635540464,\n",
              "         \"element_count\": 106020,\n",
              "         \"missing_count\": null,\n",
              "         \"missing_percent\": null\n",
              "       }\n",
              "     }\n",
              "   ],\n",
              "   \"statistics\": {\n",
              "     \"evaluated_expectations\": 1,\n",
              "     \"successful_expectations\": 0,\n",
              "     \"unsuccessful_expectations\": 1,\n",
              "     \"success_percent\": 0.0\n",
              "   },\n",
              "   \"meta\": {\n",
              "     \"great_expectations_version\": \"0.14.3\",\n",
              "     \"expectation_suite_name\": \"expectation_suite_101\",\n",
              "     \"run_id\": {\n",
              "       \"run_name\": null,\n",
              "       \"run_time\": \"2022-08-16T08:33:50.371056+00:00\"\n",
              "     },\n",
              "     \"batch_kwargs\": {\n",
              "       \"ge_batch_id\": \"2759678c-1d3e-11ed-838b-0242ac1c0002\"\n",
              "     },\n",
              "     \"batch_markers\": {},\n",
              "     \"batch_parameters\": {},\n",
              "     \"validation_time\": \"20220816T083350.370950Z\",\n",
              "     \"expectation_suite_meta\": {\n",
              "       \"great_expectations_version\": \"0.14.3\"\n",
              "     }\n",
              "   },\n",
              "   \"success\": false,\n",
              "   \"evaluation_parameters\": {}\n",
              " })"
            ]
          },
          "metadata": {},
          "execution_count": 15
        }
      ]
    },
    {
      "cell_type": "code",
      "source": [
        ""
      ],
      "metadata": {
        "id": "TWo5HORIyZs4"
      },
      "execution_count": null,
      "outputs": []
    }
  ]
}