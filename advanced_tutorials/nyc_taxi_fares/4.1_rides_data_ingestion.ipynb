{
 "cells": [
  {
   "cell_type": "code",
   "execution_count": 1,
   "id": "b13c37b0",
   "metadata": {},
   "outputs": [],
   "source": [
    "import numpy as np\n",
    "import pandas as pd\n",
    "import matplotlib.pyplot as plt\n",
    "import seaborn as sns\n",
    "\n",
    "import hopsworks"
   ]
  },
  {
   "cell_type": "code",
   "execution_count": 2,
   "id": "fed7f937",
   "metadata": {},
   "outputs": [
    {
     "name": "stdout",
     "output_type": "stream",
     "text": [
      "Connected. Call `.close()` to terminate connection gracefully.\n",
      "\n",
      "Logged in to project, explore it here https://c.app.hopsworks.ai:443/p/164\n"
     ]
    },
    {
     "name": "stderr",
     "output_type": "stream",
     "text": [
      "DeprecationWarning: the imp module is deprecated in favour of importlib; see the module's documentation for alternative uses\n"
     ]
    },
    {
     "name": "stdout",
     "output_type": "stream",
     "text": [
      "Connected. Call `.close()` to terminate connection gracefully.\n"
     ]
    }
   ],
   "source": [
    "project = hopsworks.login()\n",
    "fs = project.get_feature_store()"
   ]
  },
  {
   "cell_type": "code",
   "execution_count": 3,
   "id": "0c64416f",
   "metadata": {},
   "outputs": [],
   "source": [
    "rides_fg = fs.get_or_create_feature_group(\n",
    "        name = 'rides_fg',\n",
    "        version = 1\n",
    "    )"
   ]
  },
  {
   "cell_type": "code",
   "execution_count": 4,
   "id": "d6525c55",
   "metadata": {
    "scrolled": true
   },
   "outputs": [
    {
     "name": "stdout",
     "output_type": "stream",
     "text": [
      "2022-08-16 23:16:32,423 INFO: USE `romankah_featurestore`\n",
      "2022-08-16 23:16:33,434 INFO: SELECT `fg0`.`month_of_the_ride` `month_of_the_ride`, `fg0`.`ride_id` `ride_id`, `fg0`.`pickup_datetime` `pickup_datetime`, `fg0`.`pickup_longitude` `pickup_longitude`, `fg0`.`pickup_latitude` `pickup_latitude`, `fg0`.`dropoff_longitude` `dropoff_longitude`, `fg0`.`dropoff_latitude` `dropoff_latitude`, `fg0`.`passenger_count` `passenger_count`, `fg0`.`taxi_id` `taxi_id`, `fg0`.`driver_id` `driver_id`, `fg0`.`distance` `distance`, `fg0`.`pickup_distance_to_jfk` `pickup_distance_to_jfk`, `fg0`.`dropoff_distance_to_jfk` `dropoff_distance_to_jfk`, `fg0`.`pickup_distance_to_ewr` `pickup_distance_to_ewr`, `fg0`.`dropoff_distance_to_ewr` `dropoff_distance_to_ewr`, `fg0`.`pickup_distance_to_lgr` `pickup_distance_to_lgr`, `fg0`.`dropoff_distance_to_lgr` `dropoff_distance_to_lgr`, `fg0`.`year` `year`, `fg0`.`weekday` `weekday`, `fg0`.`hour` `hour`\n",
      "FROM `romankah_featurestore`.`rides_fg_1` `fg0`\n"
     ]
    },
    {
     "name": "stderr",
     "output_type": "stream",
     "text": [
      "UserWarning: pandas only support SQLAlchemy connectable(engine/connection) ordatabase string URI or sqlite3 DBAPI2 connectionother DBAPI2 objects are not tested, please consider using SQLAlchemy\n"
     ]
    }
   ],
   "source": [
    "old_df_rides = rides_fg.select_all().read()"
   ]
  },
  {
   "cell_type": "code",
   "execution_count": 5,
   "id": "668a2579",
   "metadata": {},
   "outputs": [
    {
     "data": {
      "text/html": [
       "<div>\n",
       "<style scoped>\n",
       "    .dataframe tbody tr th:only-of-type {\n",
       "        vertical-align: middle;\n",
       "    }\n",
       "\n",
       "    .dataframe tbody tr th {\n",
       "        vertical-align: top;\n",
       "    }\n",
       "\n",
       "    .dataframe thead th {\n",
       "        text-align: right;\n",
       "    }\n",
       "</style>\n",
       "<table border=\"1\" class=\"dataframe\">\n",
       "  <thead>\n",
       "    <tr style=\"text-align: right;\">\n",
       "      <th></th>\n",
       "      <th>month_of_the_ride</th>\n",
       "      <th>ride_id</th>\n",
       "      <th>pickup_datetime</th>\n",
       "      <th>pickup_longitude</th>\n",
       "      <th>pickup_latitude</th>\n",
       "      <th>dropoff_longitude</th>\n",
       "      <th>dropoff_latitude</th>\n",
       "      <th>passenger_count</th>\n",
       "      <th>taxi_id</th>\n",
       "      <th>driver_id</th>\n",
       "      <th>distance</th>\n",
       "      <th>pickup_distance_to_jfk</th>\n",
       "      <th>dropoff_distance_to_jfk</th>\n",
       "      <th>pickup_distance_to_ewr</th>\n",
       "      <th>dropoff_distance_to_ewr</th>\n",
       "      <th>pickup_distance_to_lgr</th>\n",
       "      <th>dropoff_distance_to_lgr</th>\n",
       "      <th>year</th>\n",
       "      <th>weekday</th>\n",
       "      <th>hour</th>\n",
       "    </tr>\n",
       "  </thead>\n",
       "  <tbody>\n",
       "    <tr>\n",
       "      <th>0</th>\n",
       "      <td>202001</td>\n",
       "      <td>1090</td>\n",
       "      <td>1577901800000</td>\n",
       "      <td>-73.779420</td>\n",
       "      <td>40.871643</td>\n",
       "      <td>-73.846510</td>\n",
       "      <td>40.786255</td>\n",
       "      <td>3</td>\n",
       "      <td>2013000107</td>\n",
       "      <td>2013000107</td>\n",
       "      <td>6.863634</td>\n",
       "      <td>15.915314</td>\n",
       "      <td>10.636941</td>\n",
       "      <td>24.199739</td>\n",
       "      <td>18.426442</td>\n",
       "      <td>8.203957</td>\n",
       "      <td>1.576788</td>\n",
       "      <td>2020</td>\n",
       "      <td>2</td>\n",
       "      <td>18</td>\n",
       "    </tr>\n",
       "    <tr>\n",
       "      <th>1</th>\n",
       "      <td>202001</td>\n",
       "      <td>16264</td>\n",
       "      <td>1578205280000</td>\n",
       "      <td>-73.886890</td>\n",
       "      <td>40.734875</td>\n",
       "      <td>-73.888504</td>\n",
       "      <td>40.732815</td>\n",
       "      <td>2</td>\n",
       "      <td>2013000124</td>\n",
       "      <td>2013000124</td>\n",
       "      <td>0.165526</td>\n",
       "      <td>8.619025</td>\n",
       "      <td>8.569684</td>\n",
       "      <td>15.385634</td>\n",
       "      <td>15.274591</td>\n",
       "      <td>2.980990</td>\n",
       "      <td>3.139149</td>\n",
       "      <td>2020</td>\n",
       "      <td>6</td>\n",
       "      <td>6</td>\n",
       "    </tr>\n",
       "    <tr>\n",
       "      <th>2</th>\n",
       "      <td>202001</td>\n",
       "      <td>14501</td>\n",
       "      <td>1578170020000</td>\n",
       "      <td>-73.870520</td>\n",
       "      <td>40.755700</td>\n",
       "      <td>-73.682620</td>\n",
       "      <td>40.994846</td>\n",
       "      <td>3</td>\n",
       "      <td>2013000161</td>\n",
       "      <td>2013000161</td>\n",
       "      <td>19.219479</td>\n",
       "      <td>9.269051</td>\n",
       "      <td>24.932637</td>\n",
       "      <td>16.561811</td>\n",
       "      <td>33.258488</td>\n",
       "      <td>1.476055</td>\n",
       "      <td>18.074799</td>\n",
       "      <td>2020</td>\n",
       "      <td>5</td>\n",
       "      <td>20</td>\n",
       "    </tr>\n",
       "    <tr>\n",
       "      <th>3</th>\n",
       "      <td>202001</td>\n",
       "      <td>21671</td>\n",
       "      <td>1578313420000</td>\n",
       "      <td>-73.746170</td>\n",
       "      <td>40.913967</td>\n",
       "      <td>-73.862335</td>\n",
       "      <td>40.766120</td>\n",
       "      <td>3</td>\n",
       "      <td>2013000152</td>\n",
       "      <td>2013000152</td>\n",
       "      <td>11.883688</td>\n",
       "      <td>18.913395</td>\n",
       "      <td>9.687332</td>\n",
       "      <td>27.247071</td>\n",
       "      <td>17.180934</td>\n",
       "      <td>11.590046</td>\n",
       "      <td>0.962979</td>\n",
       "      <td>2020</td>\n",
       "      <td>0</td>\n",
       "      <td>12</td>\n",
       "    </tr>\n",
       "    <tr>\n",
       "      <th>4</th>\n",
       "      <td>202001</td>\n",
       "      <td>1642</td>\n",
       "      <td>1577912840000</td>\n",
       "      <td>-73.867950</td>\n",
       "      <td>40.758970</td>\n",
       "      <td>-73.862840</td>\n",
       "      <td>40.765476</td>\n",
       "      <td>3</td>\n",
       "      <td>2013000010</td>\n",
       "      <td>2013000010</td>\n",
       "      <td>0.523052</td>\n",
       "      <td>9.394232</td>\n",
       "      <td>9.659876</td>\n",
       "      <td>16.754139</td>\n",
       "      <td>17.142177</td>\n",
       "      <td>1.278656</td>\n",
       "      <td>0.981854</td>\n",
       "      <td>2020</td>\n",
       "      <td>2</td>\n",
       "      <td>21</td>\n",
       "    </tr>\n",
       "    <tr>\n",
       "      <th>...</th>\n",
       "      <td>...</td>\n",
       "      <td>...</td>\n",
       "      <td>...</td>\n",
       "      <td>...</td>\n",
       "      <td>...</td>\n",
       "      <td>...</td>\n",
       "      <td>...</td>\n",
       "      <td>...</td>\n",
       "      <td>...</td>\n",
       "      <td>...</td>\n",
       "      <td>...</td>\n",
       "      <td>...</td>\n",
       "      <td>...</td>\n",
       "      <td>...</td>\n",
       "      <td>...</td>\n",
       "      <td>...</td>\n",
       "      <td>...</td>\n",
       "      <td>...</td>\n",
       "      <td>...</td>\n",
       "      <td>...</td>\n",
       "    </tr>\n",
       "    <tr>\n",
       "      <th>40902</th>\n",
       "      <td>202001</td>\n",
       "      <td>27624</td>\n",
       "      <td>1578432480000</td>\n",
       "      <td>-73.861030</td>\n",
       "      <td>40.767776</td>\n",
       "      <td>-73.813060</td>\n",
       "      <td>40.828835</td>\n",
       "      <td>3</td>\n",
       "      <td>2013000172</td>\n",
       "      <td>2013000172</td>\n",
       "      <td>4.908499</td>\n",
       "      <td>9.758691</td>\n",
       "      <td>13.086049</td>\n",
       "      <td>17.281224</td>\n",
       "      <td>21.224993</td>\n",
       "      <td>0.926277</td>\n",
       "      <td>4.799453</td>\n",
       "      <td>2020</td>\n",
       "      <td>1</td>\n",
       "      <td>21</td>\n",
       "    </tr>\n",
       "    <tr>\n",
       "      <th>40903</th>\n",
       "      <td>202001</td>\n",
       "      <td>12880</td>\n",
       "      <td>1578137600000</td>\n",
       "      <td>-73.971360</td>\n",
       "      <td>40.627365</td>\n",
       "      <td>-73.891600</td>\n",
       "      <td>40.728870</td>\n",
       "      <td>2</td>\n",
       "      <td>2013000120</td>\n",
       "      <td>2013000120</td>\n",
       "      <td>8.164171</td>\n",
       "      <td>10.178959</td>\n",
       "      <td>8.483613</td>\n",
       "      <td>11.480438</td>\n",
       "      <td>15.064454</td>\n",
       "      <td>11.521933</td>\n",
       "      <td>3.444036</td>\n",
       "      <td>2020</td>\n",
       "      <td>5</td>\n",
       "      <td>11</td>\n",
       "    </tr>\n",
       "    <tr>\n",
       "      <th>40904</th>\n",
       "      <td>202001</td>\n",
       "      <td>9572</td>\n",
       "      <td>1578071440000</td>\n",
       "      <td>-73.838394</td>\n",
       "      <td>40.796585</td>\n",
       "      <td>-73.838940</td>\n",
       "      <td>40.795890</td>\n",
       "      <td>3</td>\n",
       "      <td>2013000090</td>\n",
       "      <td>2013000090</td>\n",
       "      <td>0.055871</td>\n",
       "      <td>11.184101</td>\n",
       "      <td>11.146186</td>\n",
       "      <td>19.086905</td>\n",
       "      <td>19.042057</td>\n",
       "      <td>2.306397</td>\n",
       "      <td>2.255126</td>\n",
       "      <td>2020</td>\n",
       "      <td>4</td>\n",
       "      <td>17</td>\n",
       "    </tr>\n",
       "    <tr>\n",
       "      <th>40905</th>\n",
       "      <td>202001</td>\n",
       "      <td>11741</td>\n",
       "      <td>1578114820000</td>\n",
       "      <td>-73.903305</td>\n",
       "      <td>40.713974</td>\n",
       "      <td>-73.915680</td>\n",
       "      <td>40.698227</td>\n",
       "      <td>2</td>\n",
       "      <td>2013000049</td>\n",
       "      <td>2013000049</td>\n",
       "      <td>1.266449</td>\n",
       "      <td>8.261719</td>\n",
       "      <td>8.213073</td>\n",
       "      <td>14.305659</td>\n",
       "      <td>13.572160</td>\n",
       "      <td>4.610450</td>\n",
       "      <td>5.857392</td>\n",
       "      <td>2020</td>\n",
       "      <td>5</td>\n",
       "      <td>5</td>\n",
       "    </tr>\n",
       "    <tr>\n",
       "      <th>40906</th>\n",
       "      <td>202001</td>\n",
       "      <td>31422</td>\n",
       "      <td>1578508440000</td>\n",
       "      <td>-73.929960</td>\n",
       "      <td>40.680050</td>\n",
       "      <td>-73.808210</td>\n",
       "      <td>40.835000</td>\n",
       "      <td>2</td>\n",
       "      <td>2013000020</td>\n",
       "      <td>2013000020</td>\n",
       "      <td>12.458771</td>\n",
       "      <td>8.397664</td>\n",
       "      <td>13.475888</td>\n",
       "      <td>12.829049</td>\n",
       "      <td>21.645240</td>\n",
       "      <td>7.305056</td>\n",
       "      <td>5.287095</td>\n",
       "      <td>2020</td>\n",
       "      <td>2</td>\n",
       "      <td>18</td>\n",
       "    </tr>\n",
       "  </tbody>\n",
       "</table>\n",
       "<p>40907 rows × 20 columns</p>\n",
       "</div>"
      ],
      "text/plain": [
       "      month_of_the_ride  ride_id  pickup_datetime  pickup_longitude  \\\n",
       "0                202001     1090    1577901800000        -73.779420   \n",
       "1                202001    16264    1578205280000        -73.886890   \n",
       "2                202001    14501    1578170020000        -73.870520   \n",
       "3                202001    21671    1578313420000        -73.746170   \n",
       "4                202001     1642    1577912840000        -73.867950   \n",
       "...                 ...      ...              ...               ...   \n",
       "40902            202001    27624    1578432480000        -73.861030   \n",
       "40903            202001    12880    1578137600000        -73.971360   \n",
       "40904            202001     9572    1578071440000        -73.838394   \n",
       "40905            202001    11741    1578114820000        -73.903305   \n",
       "40906            202001    31422    1578508440000        -73.929960   \n",
       "\n",
       "       pickup_latitude  dropoff_longitude  dropoff_latitude  passenger_count  \\\n",
       "0            40.871643         -73.846510         40.786255                3   \n",
       "1            40.734875         -73.888504         40.732815                2   \n",
       "2            40.755700         -73.682620         40.994846                3   \n",
       "3            40.913967         -73.862335         40.766120                3   \n",
       "4            40.758970         -73.862840         40.765476                3   \n",
       "...                ...                ...               ...              ...   \n",
       "40902        40.767776         -73.813060         40.828835                3   \n",
       "40903        40.627365         -73.891600         40.728870                2   \n",
       "40904        40.796585         -73.838940         40.795890                3   \n",
       "40905        40.713974         -73.915680         40.698227                2   \n",
       "40906        40.680050         -73.808210         40.835000                2   \n",
       "\n",
       "          taxi_id   driver_id   distance  pickup_distance_to_jfk  \\\n",
       "0      2013000107  2013000107   6.863634               15.915314   \n",
       "1      2013000124  2013000124   0.165526                8.619025   \n",
       "2      2013000161  2013000161  19.219479                9.269051   \n",
       "3      2013000152  2013000152  11.883688               18.913395   \n",
       "4      2013000010  2013000010   0.523052                9.394232   \n",
       "...           ...         ...        ...                     ...   \n",
       "40902  2013000172  2013000172   4.908499                9.758691   \n",
       "40903  2013000120  2013000120   8.164171               10.178959   \n",
       "40904  2013000090  2013000090   0.055871               11.184101   \n",
       "40905  2013000049  2013000049   1.266449                8.261719   \n",
       "40906  2013000020  2013000020  12.458771                8.397664   \n",
       "\n",
       "       dropoff_distance_to_jfk  pickup_distance_to_ewr  \\\n",
       "0                    10.636941               24.199739   \n",
       "1                     8.569684               15.385634   \n",
       "2                    24.932637               16.561811   \n",
       "3                     9.687332               27.247071   \n",
       "4                     9.659876               16.754139   \n",
       "...                        ...                     ...   \n",
       "40902                13.086049               17.281224   \n",
       "40903                 8.483613               11.480438   \n",
       "40904                11.146186               19.086905   \n",
       "40905                 8.213073               14.305659   \n",
       "40906                13.475888               12.829049   \n",
       "\n",
       "       dropoff_distance_to_ewr  pickup_distance_to_lgr  \\\n",
       "0                    18.426442                8.203957   \n",
       "1                    15.274591                2.980990   \n",
       "2                    33.258488                1.476055   \n",
       "3                    17.180934               11.590046   \n",
       "4                    17.142177                1.278656   \n",
       "...                        ...                     ...   \n",
       "40902                21.224993                0.926277   \n",
       "40903                15.064454               11.521933   \n",
       "40904                19.042057                2.306397   \n",
       "40905                13.572160                4.610450   \n",
       "40906                21.645240                7.305056   \n",
       "\n",
       "       dropoff_distance_to_lgr  year  weekday  hour  \n",
       "0                     1.576788  2020        2    18  \n",
       "1                     3.139149  2020        6     6  \n",
       "2                    18.074799  2020        5    20  \n",
       "3                     0.962979  2020        0    12  \n",
       "4                     0.981854  2020        2    21  \n",
       "...                        ...   ...      ...   ...  \n",
       "40902                 4.799453  2020        1    21  \n",
       "40903                 3.444036  2020        5    11  \n",
       "40904                 2.255126  2020        4    17  \n",
       "40905                 5.857392  2020        5     5  \n",
       "40906                 5.287095  2020        2    18  \n",
       "\n",
       "[40907 rows x 20 columns]"
      ]
     },
     "execution_count": 5,
     "metadata": {},
     "output_type": "execute_result"
    }
   ],
   "source": [
    "old_df_rides"
   ]
  },
  {
   "cell_type": "code",
   "execution_count": 6,
   "id": "208e1c18",
   "metadata": {},
   "outputs": [],
   "source": [
    "last_ride_id = old_df_rides.ride_id.max()"
   ]
  },
  {
   "cell_type": "code",
   "execution_count": 7,
   "id": "7edd9af8",
   "metadata": {
    "scrolled": true
   },
   "outputs": [
    {
     "name": "stdout",
     "output_type": "stream",
     "text": [
      "Last ride_id: 41078\n"
     ]
    }
   ],
   "source": [
    "print(\"Last ride_id:\", last_ride_id)"
   ]
  },
  {
   "cell_type": "code",
   "execution_count": 8,
   "id": "3b609bc8",
   "metadata": {},
   "outputs": [],
   "source": [
    "cols = ['ride_id',\n",
    "        'pickup_datetime',\n",
    "        'pickup_longitude',\n",
    "        'pickup_latitude',\n",
    "        'dropoff_longitude',\n",
    "        'dropoff_latitude',\n",
    "        'passenger_count',\n",
    "        'taxi_id',\n",
    "        'driver_id']"
   ]
  },
  {
   "cell_type": "code",
   "execution_count": 9,
   "id": "748314e3",
   "metadata": {},
   "outputs": [],
   "source": [
    "def generate_rides_data(n_records):\n",
    "    res = pd.DataFrame(columns=cols)\n",
    "    \n",
    "    for i in range(1, n_records + 1):\n",
    "        generated_values = list()\n",
    "     \n",
    "        \n",
    "        temp_df = pd.DataFrame.from_dict({\"ride_id\": [last_ride_id + i],\n",
    "                                          \"pickup_datetime\": [np.random.randint(1600000000, 1610000000)],\n",
    "                                          \"pickup_longitude\": [round(np.random.uniform(-74.5, -72.8), 5)],\n",
    "                                          \"dropoff_longitude\": [round(np.random.uniform(-74.5, -72.8), 5)],\n",
    "                                          \"pickup_latitude\": [round(np.random.uniform(40.5, 41.8), 5)],\n",
    "                                          \"dropoff_latitude\": [round(np.random.uniform(40.5, 41.8), 5)],\n",
    "                                          \"passenger_count\": [np.random.randint(1, 5)],\n",
    "                                          \"taxi_id\": [np.random.choice(old_df_rides.taxi_id.unique())],\n",
    "                                          \"driver_id\": [np.random.choice(old_df_rides.driver_id.unique())]\n",
    "                                         })\n",
    "        \n",
    "        res = pd.concat([temp_df, res], ignore_index=True)\n",
    "        \n",
    "    return res"
   ]
  },
  {
   "cell_type": "code",
   "execution_count": 10,
   "id": "bb60710d",
   "metadata": {},
   "outputs": [],
   "source": [
    "df_rides = generate_rides_data(100)"
   ]
  },
  {
   "cell_type": "code",
   "execution_count": 11,
   "id": "54bed4f2",
   "metadata": {},
   "outputs": [],
   "source": [
    "# returns distance in miles\n",
    "def distance(lat1, lon1, lat2, lon2):\n",
    "    p = 0.017453292519943295 # Pi/180\n",
    "    a = 0.5 - np.cos((lat2 - lat1) * p)/2 + np.cos(lat1 * p) * np.cos(lat2 * p) * (1 - np.cos((lon2 - lon1) * p)) / 2\n",
    "    return 0.6213712 * 12742 * np.arcsin(np.sqrt(a))"
   ]
  },
  {
   "cell_type": "code",
   "execution_count": 12,
   "id": "96f7381c",
   "metadata": {},
   "outputs": [],
   "source": [
    "df_rides[\"distance\"] = distance(df_rides[\"pickup_latitude\"], df_rides[\"pickup_longitude\"],\n",
    "                            df_rides[\"dropoff_latitude\"], df_rides[\"dropoff_longitude\"])"
   ]
  },
  {
   "cell_type": "code",
   "execution_count": 13,
   "id": "e541dad2",
   "metadata": {},
   "outputs": [],
   "source": [
    "# Distances to nearby airports\n",
    "jfk = (-73.7781, 40.6413)\n",
    "ewr = (-74.1745, 40.6895)\n",
    "lgr = (-73.8740, 40.7769)\n",
    "\n",
    "df_rides['pickup_distance_to_jfk'] = distance(jfk[1], jfk[0],\n",
    "                                     df_rides['pickup_latitude'], df_rides['pickup_longitude'])\n",
    "df_rides['dropoff_distance_to_jfk'] = distance(jfk[1], jfk[0],\n",
    "                                       df_rides['dropoff_latitude'], df_rides['dropoff_longitude'])\n",
    "df_rides['pickup_distance_to_ewr'] = distance(ewr[1], ewr[0], \n",
    "                                      df_rides['pickup_latitude'], df_rides['pickup_longitude'])\n",
    "df_rides['dropoff_distance_to_ewr'] = distance(ewr[1], ewr[0],\n",
    "                                       df_rides['dropoff_latitude'], df_rides['dropoff_longitude'])\n",
    "df_rides['pickup_distance_to_lgr'] = distance(lgr[1], lgr[0],\n",
    "                                      df_rides['pickup_latitude'], df_rides['pickup_longitude'])\n",
    "df_rides['dropoff_distance_to_lgr'] = distance(lgr[1], lgr[0],\n",
    "                                       df_rides['dropoff_latitude'], df_rides['dropoff_longitude'])\n"
   ]
  },
  {
   "cell_type": "code",
   "execution_count": 14,
   "id": "398e8f7d",
   "metadata": {},
   "outputs": [],
   "source": [
    "df_rides[\"pickup_datetime\"] = (pd.to_datetime(df_rides[\"pickup_datetime\"],unit='ms'))"
   ]
  },
  {
   "cell_type": "code",
   "execution_count": 15,
   "id": "3d284149",
   "metadata": {},
   "outputs": [],
   "source": [
    "df_rides['year'] = df_rides.pickup_datetime.apply(lambda t: t.year)\n",
    "df_rides['weekday'] = df_rides.pickup_datetime.apply(lambda t: t.weekday())\n",
    "df_rides['hour'] = df_rides.pickup_datetime.apply(lambda t: t.hour)"
   ]
  },
  {
   "cell_type": "code",
   "execution_count": 16,
   "id": "7c1114d3",
   "metadata": {},
   "outputs": [],
   "source": [
    "df_rides[\"month_of_the_ride\"] = df_rides[\"pickup_datetime\"].dt.strftime('%Y%m')"
   ]
  },
  {
   "cell_type": "code",
   "execution_count": 17,
   "id": "f42669ed",
   "metadata": {},
   "outputs": [],
   "source": [
    "df_rides[\"pickup_datetime\"] = df_rides[\"pickup_datetime\"].values.astype(np.int64) // 10 ** 6"
   ]
  },
  {
   "cell_type": "code",
   "execution_count": 18,
   "id": "9fe798e8",
   "metadata": {},
   "outputs": [],
   "source": [
    "# for col in df_rides.columns:\n",
    "#     if df_rides[col].dtype == \"object\":\n",
    "#         df_rides[col] = df_rides[col].astype(int)"
   ]
  },
  {
   "cell_type": "markdown",
   "id": "b075dd19",
   "metadata": {},
   "source": [
    "## <span style=\"color:#ff5f27;\"> ⚖️ Great Expectations </span> \n",
    "\n",
    "Great Expectations’ built-in library includes more than 50 common Expectations, such as:\n",
    "\n",
    "    expect_column_values_to_not_be_null\n",
    "\n",
    "    expect_column_values_to_be_unique\n",
    "\n",
    "    expect_column_median_to_be_between...\n",
    "\n",
    "#### You can find more expectations in the [official docs](https://greatexpectations.io/expectations/)\n",
    "\n",
    "\n",
    "Clean, high quality feature data is of paramount importance to being able to train and serve high quality models. Hopsworks offers integration with [Great Expectations](https://greatexpectations.io/) to enable a smooth data validation workflow.\n",
    "\n",
    "### `More info` - [here](https://docs.hopsworks.ai/3.0/user_guides/fs/feature_group/data_validation/)"
   ]
  },
  {
   "cell_type": "code",
   "execution_count": 19,
   "id": "b36a88bf",
   "metadata": {},
   "outputs": [],
   "source": [
    "import great_expectations as ge\n",
    "\n",
    "# Create (or import an existing) expectation suite using the Great Expectations library.\n",
    "expectation_suite = ge.core.ExpectationSuite(\n",
    "    expectation_suite_name=\"validate_on_insert_suite\"\n",
    ")"
   ]
  },
  {
   "cell_type": "code",
   "execution_count": 20,
   "id": "d253a0a9",
   "metadata": {},
   "outputs": [
    {
     "data": {
      "text/plain": [
       "{\"kwargs\": {\"column\": \"pickup_latitude\", \"min_value\": 40.5, \"max_value\": 41.8}, \"expectation_type\": \"expect_column_values_to_be_between\", \"meta\": {}}"
      ]
     },
     "execution_count": 20,
     "metadata": {},
     "output_type": "execute_result"
    }
   ],
   "source": [
    "# lets add an expecation to the 'total_fare' column\n",
    "expectation_suite.add_expectation(\n",
    "    ge.core.ExpectationConfiguration(\n",
    "        expectation_type=\"expect_column_values_to_be_between\",\n",
    "        kwargs={\n",
    "            \"column\": \"pickup_longitude\",\n",
    "            \"min_value\": -74.5, \n",
    "            \"max_value\": -72.8\n",
    "        }\n",
    "    )\n",
    ")\n",
    "\n",
    "# you can add as many expectations (to the different columns in the same time) as you want\n",
    "\n",
    "expectation_suite.add_expectation(\n",
    "    ge.core.ExpectationConfiguration(\n",
    "        expectation_type=\"expect_column_values_to_be_between\",\n",
    "        kwargs={\n",
    "            \"column\": \"pickup_latitude\",\n",
    "            \"min_value\": 40.5,\n",
    "            \"max_value\": 41.8\n",
    "        }\n",
    "    )\n",
    ")\n"
   ]
  },
  {
   "cell_type": "code",
   "execution_count": 21,
   "id": "ff8c589d",
   "metadata": {},
   "outputs": [
    {
     "data": {
      "application/vnd.jupyter.widget-view+json": {
       "model_id": "c763e585b1b142a2abaab3b2ea3c5521",
       "version_major": 2,
       "version_minor": 0
      },
      "text/plain": [
       "Profiling Columns:   0%|          | 0/20 [00:00<?, ?it/s, ride_id]"
      ]
     },
     "metadata": {},
     "output_type": "display_data"
    },
    {
     "name": "stderr",
     "output_type": "stream",
     "text": [
      "DeprecationWarning: DataAsset.remove_expectations is deprecated as of v0.12.0 and will be removed in v0.16. Please use ExpectationSuite.remove_expectation instead.\n",
      "DeprecationWarning: DataAsset.remove_expectations is deprecated as of v0.12.0 and will be removed in v0.16. Please use ExpectationSuite.remove_expectation instead.\n",
      "DeprecationWarning: DataAsset.remove_expectations is deprecated as of v0.12.0 and will be removed in v0.16. Please use ExpectationSuite.remove_expectation instead.\n",
      "DeprecationWarning: DataAsset.remove_expectations is deprecated as of v0.12.0 and will be removed in v0.16. Please use ExpectationSuite.remove_expectation instead.\n",
      "DeprecationWarning: DataAsset.remove_expectations is deprecated as of v0.12.0 and will be removed in v0.16. Please use ExpectationSuite.remove_expectation instead.\n",
      "DeprecationWarning: DataAsset.remove_expectations is deprecated as of v0.12.0 and will be removed in v0.16. Please use ExpectationSuite.remove_expectation instead.\n",
      "DeprecationWarning: DataAsset.remove_expectations is deprecated as of v0.12.0 and will be removed in v0.16. Please use ExpectationSuite.remove_expectation instead.\n",
      "DeprecationWarning: DataAsset.remove_expectations is deprecated as of v0.12.0 and will be removed in v0.16. Please use ExpectationSuite.remove_expectation instead.\n",
      "DeprecationWarning: DataAsset.remove_expectations is deprecated as of v0.12.0 and will be removed in v0.16. Please use ExpectationSuite.remove_expectation instead.\n",
      "DeprecationWarning: DataAsset.remove_expectations is deprecated as of v0.12.0 and will be removed in v0.16. Please use ExpectationSuite.remove_expectation instead.\n",
      "DeprecationWarning: DataAsset.remove_expectations is deprecated as of v0.12.0 and will be removed in v0.16. Please use ExpectationSuite.remove_expectation instead.\n",
      "DeprecationWarning: DataAsset.remove_expectations is deprecated as of v0.12.0 and will be removed in v0.16. Please use ExpectationSuite.remove_expectation instead.\n",
      "DeprecationWarning: DataAsset.remove_expectations is deprecated as of v0.12.0 and will be removed in v0.16. Please use ExpectationSuite.remove_expectation instead.\n",
      "DeprecationWarning: DataAsset.remove_expectations is deprecated as of v0.12.0 and will be removed in v0.16. Please use ExpectationSuite.remove_expectation instead.\n"
     ]
    },
    {
     "name": "stdout",
     "output_type": "stream",
     "text": [
      "2022-08-16 23:17:07,309 INFO: \t122 expectation(s) included in expectation_suite.\n"
     ]
    },
    {
     "name": "stderr",
     "output_type": "stream",
     "text": [
      "DeprecationWarning: DataAsset.remove_expectations is deprecated as of v0.12.0 and will be removed in v0.16. Please use ExpectationSuite.remove_expectation instead.\n",
      "DeprecationWarning: DataAsset.remove_expectations is deprecated as of v0.12.0 and will be removed in v0.16. Please use ExpectationSuite.remove_expectation instead.\n",
      "DeprecationWarning: DataAsset.remove_expectations is deprecated as of v0.12.0 and will be removed in v0.16. Please use ExpectationSuite.remove_expectation instead.\n",
      "DeprecationWarning: DataAsset.remove_expectations is deprecated as of v0.12.0 and will be removed in v0.16. Please use ExpectationSuite.remove_expectation instead.\n",
      "DeprecationWarning: DataAsset.remove_expectations is deprecated as of v0.12.0 and will be removed in v0.16. Please use ExpectationSuite.remove_expectation instead.\n",
      "DeprecationWarning: DataAsset.remove_expectations is deprecated as of v0.12.0 and will be removed in v0.16. Please use ExpectationSuite.remove_expectation instead.\n"
     ]
    }
   ],
   "source": [
    "# Using Great Expectations Profiler\n",
    "\n",
    "ge_profiler = ge.profile.BasicSuiteBuilderProfiler()\n",
    "expectation_suite_profiler, _ = ge_profiler.profile(ge.from_pandas(df_rides)) # here we pass a DataFrame to validate"
   ]
  },
  {
   "cell_type": "code",
   "execution_count": 22,
   "id": "bd50eff7",
   "metadata": {},
   "outputs": [
    {
     "name": "stdout",
     "output_type": "stream",
     "text": [
      "Attached expectation suite to featuregroup, edit it at https://c.app.hopsworks.ai:443/p/164/fs/106/fg/597\n"
     ]
    }
   ],
   "source": [
    "# lets attach an expectation suite to your Feature Group.\n",
    "# It enables persistence of the expectation suite to the Hopsworks backend.\n",
    "rides_fg.save_expectation_suite(expectation_suite)"
   ]
  },
  {
   "cell_type": "code",
   "execution_count": 24,
   "id": "7478a863",
   "metadata": {},
   "outputs": [],
   "source": [
    "for col in [\"ride_id\", \"passenger_count\", \"taxi_id\", \"driver_id\"]:\n",
    "    df_rides[col] = df_rides[col].astype(\"int64\")"
   ]
  },
  {
   "cell_type": "code",
   "execution_count": 25,
   "id": "71f1c90c",
   "metadata": {},
   "outputs": [
    {
     "name": "stdout",
     "output_type": "stream",
     "text": [
      "2022-08-16 23:18:34,970 INFO: \t2 expectation(s) included in expectation_suite.\n",
      "Validation Report saved successfully, explore a summary at https://c.app.hopsworks.ai:443/p/164/fs/106/fg/597\n"
     ]
    },
    {
     "data": {
      "application/vnd.jupyter.widget-view+json": {
       "model_id": "c7b82602c0bc45248ab661d1a36028fe",
       "version_major": 2,
       "version_minor": 0
      },
      "text/plain": [
       "Uploading Dataframe: 0.00% |          | Rows 0/100 | Elapsed Time: 00:00 | Remaining Time: ?"
      ]
     },
     "metadata": {},
     "output_type": "display_data"
    },
    {
     "name": "stdout",
     "output_type": "stream",
     "text": [
      "Launching offline feature group backfill job...\n",
      "Backfill Job started successfully, you can follow the progress at \n",
      "https://c.app.hopsworks.ai/p/164/jobs/named/rides_fg_1_offline_fg_backfill/executions\n"
     ]
    },
    {
     "data": {
      "text/plain": [
       "(<hsfs.core.job.Job at 0x26373a2cb80>,\n",
       " {\n",
       "   \"statistics\": {\n",
       "     \"evaluated_expectations\": 2,\n",
       "     \"successful_expectations\": 2,\n",
       "     \"unsuccessful_expectations\": 0,\n",
       "     \"success_percent\": 100.0\n",
       "   },\n",
       "   \"evaluation_parameters\": {},\n",
       "   \"success\": true,\n",
       "   \"meta\": {\n",
       "     \"great_expectations_version\": \"0.15.18\",\n",
       "     \"expectation_suite_name\": \"validate_on_insert_suite\",\n",
       "     \"run_id\": {\n",
       "       \"run_time\": \"2022-08-16T21:18:34.969463+00:00\",\n",
       "       \"run_name\": null\n",
       "     },\n",
       "     \"batch_kwargs\": {\n",
       "       \"ge_batch_id\": \"fcb350c8-1da8-11ed-aeca-14abc5f42df5\"\n",
       "     },\n",
       "     \"batch_markers\": {},\n",
       "     \"batch_parameters\": {},\n",
       "     \"validation_time\": \"20220816T211834.969463Z\",\n",
       "     \"expectation_suite_meta\": {\n",
       "       \"great_expectations_version\": \"0.15.18\"\n",
       "     }\n",
       "   },\n",
       "   \"results\": [\n",
       "     {\n",
       "       \"meta\": {},\n",
       "       \"success\": true,\n",
       "       \"result\": {\n",
       "         \"element_count\": 100,\n",
       "         \"missing_count\": 0,\n",
       "         \"missing_percent\": 0.0,\n",
       "         \"unexpected_count\": 0,\n",
       "         \"unexpected_percent\": 0.0,\n",
       "         \"unexpected_percent_total\": 0.0,\n",
       "         \"unexpected_percent_nonmissing\": 0.0,\n",
       "         \"partial_unexpected_list\": []\n",
       "       },\n",
       "       \"expectation_config\": {\n",
       "         \"kwargs\": {\n",
       "           \"column\": \"pickup_longitude\",\n",
       "           \"min_value\": -74.5,\n",
       "           \"max_value\": -72.8\n",
       "         },\n",
       "         \"expectation_type\": \"expect_column_values_to_be_between\",\n",
       "         \"meta\": {\n",
       "           \"expectationId\": 182\n",
       "         }\n",
       "       },\n",
       "       \"exception_info\": {\n",
       "         \"raised_exception\": false,\n",
       "         \"exception_message\": null,\n",
       "         \"exception_traceback\": null\n",
       "       }\n",
       "     },\n",
       "     {\n",
       "       \"meta\": {},\n",
       "       \"success\": true,\n",
       "       \"result\": {\n",
       "         \"element_count\": 100,\n",
       "         \"missing_count\": 0,\n",
       "         \"missing_percent\": 0.0,\n",
       "         \"unexpected_count\": 0,\n",
       "         \"unexpected_percent\": 0.0,\n",
       "         \"unexpected_percent_total\": 0.0,\n",
       "         \"unexpected_percent_nonmissing\": 0.0,\n",
       "         \"partial_unexpected_list\": []\n",
       "       },\n",
       "       \"expectation_config\": {\n",
       "         \"kwargs\": {\n",
       "           \"column\": \"pickup_latitude\",\n",
       "           \"min_value\": 40.5,\n",
       "           \"max_value\": 41.8\n",
       "         },\n",
       "         \"expectation_type\": \"expect_column_values_to_be_between\",\n",
       "         \"meta\": {\n",
       "           \"expectationId\": 183\n",
       "         }\n",
       "       },\n",
       "       \"exception_info\": {\n",
       "         \"raised_exception\": false,\n",
       "         \"exception_message\": null,\n",
       "         \"exception_traceback\": null\n",
       "       }\n",
       "     }\n",
       "   ]\n",
       " })"
      ]
     },
     "execution_count": 25,
     "metadata": {},
     "output_type": "execute_result"
    }
   ],
   "source": [
    "rides_fg.insert(df_rides)"
   ]
  }
 ],
 "metadata": {
  "kernelspec": {
   "display_name": "Python 3 (ipykernel)",
   "language": "python",
   "name": "python3"
  },
  "language_info": {
   "codemirror_mode": {
    "name": "ipython",
    "version": 3
   },
   "file_extension": ".py",
   "mimetype": "text/x-python",
   "name": "python",
   "nbconvert_exporter": "python",
   "pygments_lexer": "ipython3",
   "version": "3.8.0"
  }
 },
 "nbformat": 4,
 "nbformat_minor": 5
}
