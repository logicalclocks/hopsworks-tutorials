{
 "cells": [
  {
   "cell_type": "markdown",
   "id": "9b00e25c",
   "metadata": {},
   "source": [
    "## <span style='color:#ff5f27'> 📝 Imports"
   ]
  },
  {
   "cell_type": "code",
   "execution_count": 1,
   "id": "031b277b",
   "metadata": {},
   "outputs": [],
   "source": [
    "# !pip install -r requirements.txt --quiet"
   ]
  },
  {
   "cell_type": "code",
   "execution_count": 2,
   "id": "4f72caf8",
   "metadata": {},
   "outputs": [],
   "source": [
    "import joblib\n",
    "\n",
    "from functions.llm_chain import (\n",
    "    load_model, \n",
    "    get_llm_chain, \n",
    "    generate_response,\n",
    ")"
   ]
  },
  {
   "cell_type": "markdown",
   "id": "73c91640",
   "metadata": {},
   "source": [
    "## <span style=\"color:#ff5f27;\"> 🔮 Connect to Hopsworks Feature Store </span>"
   ]
  },
  {
   "cell_type": "code",
   "execution_count": 3,
   "id": "cbe50ef2",
   "metadata": {},
   "outputs": [
    {
     "name": "stdout",
     "output_type": "stream",
     "text": [
      "Connected. Call `.close()` to terminate connection gracefully.\n",
      "\n",
      "Logged in to project, explore it here https://snurran.hops.works/p/5242\n",
      "Connected. Call `.close()` to terminate connection gracefully.\n"
     ]
    }
   ],
   "source": [
    "import hopsworks\n",
    "\n",
    "project = hopsworks.login()\n",
    "\n",
    "fs = project.get_feature_store() "
   ]
  },
  {
   "cell_type": "markdown",
   "id": "c4732bcd",
   "metadata": {},
   "source": [
    "## <span style=\"color:#ff5f27;\"> ⚙️ Feature View Retrieval</span>"
   ]
  },
  {
   "cell_type": "code",
   "execution_count": 4,
   "id": "489d68e6",
   "metadata": {},
   "outputs": [],
   "source": [
    "# Retrieve the 'air_quality_fv' feature view\n",
    "feature_view = fs.get_feature_view(\n",
    "    name='air_quality_fv',\n",
    "    version=1,\n",
    ")\n",
    "\n",
    "# Initialize batch scoring\n",
    "feature_view.init_batch_scoring(1)"
   ]
  },
  {
   "cell_type": "markdown",
   "id": "b1097149",
   "metadata": {},
   "source": [
    "## <span style=\"color:#ff5f27;\">🪝 Retrieve AirQuality Model from Model Registry</span>"
   ]
  },
  {
   "cell_type": "code",
   "execution_count": 5,
   "id": "c9cf3026",
   "metadata": {},
   "outputs": [
    {
     "name": "stdout",
     "output_type": "stream",
     "text": [
      "Connected. Call `.close()` to terminate connection gracefully.\n",
      "Downloading model artifact (0 dirs, 6 files)... DONE\r"
     ]
    }
   ],
   "source": [
    "# Retrieve the model registry\n",
    "mr = project.get_model_registry()\n",
    "\n",
    "# Retrieve the 'air_quality_xgboost_model' from the model registry\n",
    "retrieved_model = mr.get_model(\n",
    "    name=\"air_quality_xgboost_model\",\n",
    "    version=1,\n",
    ")\n",
    "\n",
    "# Download the saved model artifacts to a local directory\n",
    "saved_model_dir = retrieved_model.download()"
   ]
  },
  {
   "cell_type": "code",
   "execution_count": 6,
   "id": "d5a2b8a0",
   "metadata": {},
   "outputs": [
    {
     "data": {
      "text/html": [
       "<style>#sk-container-id-1 {color: black;background-color: white;}#sk-container-id-1 pre{padding: 0;}#sk-container-id-1 div.sk-toggleable {background-color: white;}#sk-container-id-1 label.sk-toggleable__label {cursor: pointer;display: block;width: 100%;margin-bottom: 0;padding: 0.3em;box-sizing: border-box;text-align: center;}#sk-container-id-1 label.sk-toggleable__label-arrow:before {content: \"▸\";float: left;margin-right: 0.25em;color: #696969;}#sk-container-id-1 label.sk-toggleable__label-arrow:hover:before {color: black;}#sk-container-id-1 div.sk-estimator:hover label.sk-toggleable__label-arrow:before {color: black;}#sk-container-id-1 div.sk-toggleable__content {max-height: 0;max-width: 0;overflow: hidden;text-align: left;background-color: #f0f8ff;}#sk-container-id-1 div.sk-toggleable__content pre {margin: 0.2em;color: black;border-radius: 0.25em;background-color: #f0f8ff;}#sk-container-id-1 input.sk-toggleable__control:checked~div.sk-toggleable__content {max-height: 200px;max-width: 100%;overflow: auto;}#sk-container-id-1 input.sk-toggleable__control:checked~label.sk-toggleable__label-arrow:before {content: \"▾\";}#sk-container-id-1 div.sk-estimator input.sk-toggleable__control:checked~label.sk-toggleable__label {background-color: #d4ebff;}#sk-container-id-1 div.sk-label input.sk-toggleable__control:checked~label.sk-toggleable__label {background-color: #d4ebff;}#sk-container-id-1 input.sk-hidden--visually {border: 0;clip: rect(1px 1px 1px 1px);clip: rect(1px, 1px, 1px, 1px);height: 1px;margin: -1px;overflow: hidden;padding: 0;position: absolute;width: 1px;}#sk-container-id-1 div.sk-estimator {font-family: monospace;background-color: #f0f8ff;border: 1px dotted black;border-radius: 0.25em;box-sizing: border-box;margin-bottom: 0.5em;}#sk-container-id-1 div.sk-estimator:hover {background-color: #d4ebff;}#sk-container-id-1 div.sk-parallel-item::after {content: \"\";width: 100%;border-bottom: 1px solid gray;flex-grow: 1;}#sk-container-id-1 div.sk-label:hover label.sk-toggleable__label {background-color: #d4ebff;}#sk-container-id-1 div.sk-serial::before {content: \"\";position: absolute;border-left: 1px solid gray;box-sizing: border-box;top: 0;bottom: 0;left: 50%;z-index: 0;}#sk-container-id-1 div.sk-serial {display: flex;flex-direction: column;align-items: center;background-color: white;padding-right: 0.2em;padding-left: 0.2em;position: relative;}#sk-container-id-1 div.sk-item {position: relative;z-index: 1;}#sk-container-id-1 div.sk-parallel {display: flex;align-items: stretch;justify-content: center;background-color: white;position: relative;}#sk-container-id-1 div.sk-item::before, #sk-container-id-1 div.sk-parallel-item::before {content: \"\";position: absolute;border-left: 1px solid gray;box-sizing: border-box;top: 0;bottom: 0;left: 50%;z-index: -1;}#sk-container-id-1 div.sk-parallel-item {display: flex;flex-direction: column;z-index: 1;position: relative;background-color: white;}#sk-container-id-1 div.sk-parallel-item:first-child::after {align-self: flex-end;width: 50%;}#sk-container-id-1 div.sk-parallel-item:last-child::after {align-self: flex-start;width: 50%;}#sk-container-id-1 div.sk-parallel-item:only-child::after {width: 0;}#sk-container-id-1 div.sk-dashed-wrapped {border: 1px dashed gray;margin: 0 0.4em 0.5em 0.4em;box-sizing: border-box;padding-bottom: 0.4em;background-color: white;}#sk-container-id-1 div.sk-label label {font-family: monospace;font-weight: bold;display: inline-block;line-height: 1.2em;}#sk-container-id-1 div.sk-label-container {text-align: center;}#sk-container-id-1 div.sk-container {/* jupyter's `normalize.less` sets `[hidden] { display: none; }` but bootstrap.min.css set `[hidden] { display: none !important; }` so we also need the `!important` here to be able to override the default hidden behavior on the sphinx rendered scikit-learn.org. See: https://github.com/scikit-learn/scikit-learn/issues/21755 */display: inline-block !important;position: relative;}#sk-container-id-1 div.sk-text-repr-fallback {display: none;}</style><div id=\"sk-container-id-1\" class=\"sk-top-container\"><div class=\"sk-text-repr-fallback\"><pre>XGBRegressor(base_score=None, booster=None, callbacks=None,\n",
       "             colsample_bylevel=None, colsample_bynode=None,\n",
       "             colsample_bytree=None, device=None, early_stopping_rounds=None,\n",
       "             enable_categorical=False, eval_metric=None, feature_types=None,\n",
       "             gamma=None, grow_policy=None, importance_type=None,\n",
       "             interaction_constraints=None, learning_rate=None, max_bin=None,\n",
       "             max_cat_threshold=None, max_cat_to_onehot=None,\n",
       "             max_delta_step=None, max_depth=None, max_leaves=None,\n",
       "             min_child_weight=None, missing=nan, monotone_constraints=None,\n",
       "             multi_strategy=None, n_estimators=None, n_jobs=None,\n",
       "             num_parallel_tree=None, random_state=None, ...)</pre><b>In a Jupyter environment, please rerun this cell to show the HTML representation or trust the notebook. <br />On GitHub, the HTML representation is unable to render, please try loading this page with nbviewer.org.</b></div><div class=\"sk-container\" hidden><div class=\"sk-item\"><div class=\"sk-estimator sk-toggleable\"><input class=\"sk-toggleable__control sk-hidden--visually\" id=\"sk-estimator-id-1\" type=\"checkbox\" checked><label for=\"sk-estimator-id-1\" class=\"sk-toggleable__label sk-toggleable__label-arrow\">XGBRegressor</label><div class=\"sk-toggleable__content\"><pre>XGBRegressor(base_score=None, booster=None, callbacks=None,\n",
       "             colsample_bylevel=None, colsample_bynode=None,\n",
       "             colsample_bytree=None, device=None, early_stopping_rounds=None,\n",
       "             enable_categorical=False, eval_metric=None, feature_types=None,\n",
       "             gamma=None, grow_policy=None, importance_type=None,\n",
       "             interaction_constraints=None, learning_rate=None, max_bin=None,\n",
       "             max_cat_threshold=None, max_cat_to_onehot=None,\n",
       "             max_delta_step=None, max_depth=None, max_leaves=None,\n",
       "             min_child_weight=None, missing=nan, monotone_constraints=None,\n",
       "             multi_strategy=None, n_estimators=None, n_jobs=None,\n",
       "             num_parallel_tree=None, random_state=None, ...)</pre></div></div></div></div></div>"
      ],
      "text/plain": [
       "XGBRegressor(base_score=None, booster=None, callbacks=None,\n",
       "             colsample_bylevel=None, colsample_bynode=None,\n",
       "             colsample_bytree=None, device=None, early_stopping_rounds=None,\n",
       "             enable_categorical=False, eval_metric=None, feature_types=None,\n",
       "             gamma=None, grow_policy=None, importance_type=None,\n",
       "             interaction_constraints=None, learning_rate=None, max_bin=None,\n",
       "             max_cat_threshold=None, max_cat_to_onehot=None,\n",
       "             max_delta_step=None, max_depth=None, max_leaves=None,\n",
       "             min_child_weight=None, missing=nan, monotone_constraints=None,\n",
       "             multi_strategy=None, n_estimators=None, n_jobs=None,\n",
       "             num_parallel_tree=None, random_state=None, ...)"
      ]
     },
     "execution_count": 6,
     "metadata": {},
     "output_type": "execute_result"
    }
   ],
   "source": [
    "# Load the XGBoost regressor model and label encoder from the saved model directory\n",
    "model_air_quality = joblib.load(saved_model_dir + \"/xgboost_regressor.pkl\")\n",
    "encoder = joblib.load(saved_model_dir + \"/label_encoder.pkl\")\n",
    "\n",
    "# Display the retrieved XGBoost regressor model\n",
    "model_air_quality"
   ]
  },
  {
   "cell_type": "markdown",
   "id": "027de50a",
   "metadata": {},
   "source": [
    "## <span style='color:#ff5f27'>⬇️ LLM Loading"
   ]
  },
  {
   "cell_type": "code",
   "execution_count": 7,
   "id": "9ab3103e",
   "metadata": {},
   "outputs": [
    {
     "name": "stderr",
     "output_type": "stream",
     "text": [
      "FutureWarning: `resume_download` is deprecated and will be removed in version 1.0.0. Downloads always resume when possible. If you want to force a new download, use `force_download=True`.\n",
      "Special tokens have been added in the vocabulary, make sure the associated word embeddings are fine-tuned or trained.\n",
      "Special tokens have been added in the vocabulary, make sure the associated word embeddings are fine-tuned or trained.\n"
     ]
    },
    {
     "name": "stdout",
     "output_type": "stream",
     "text": [
      "2024-05-14 20:00:29,253 INFO: We will use 90% of the memory on device 0 for storing the model, and 10% for the buffer to avoid OOM. You can set `max_memory` in to a higher value to use more memory (at your own risk).\n"
     ]
    },
    {
     "data": {
      "application/vnd.jupyter.widget-view+json": {
       "model_id": "c7af2ad1ff06428db48b5d09d9a75705",
       "version_major": 2,
       "version_minor": 0
      },
      "text/plain": [
       "Loading checkpoint shards:   0%|          | 0/2 [00:00<?, ?it/s]"
      ]
     },
     "metadata": {},
     "output_type": "display_data"
    },
    {
     "name": "stderr",
     "output_type": "stream",
     "text": [
      "FutureWarning: `resume_download` is deprecated and will be removed in version 1.0.0. Downloads always resume when possible. If you want to force a new download, use `force_download=True`.\n"
     ]
    }
   ],
   "source": [
    "# Load the LLM and its corresponding tokenizer.\n",
    "model_llm, tokenizer = load_model()"
   ]
  },
  {
   "cell_type": "markdown",
   "id": "cc8b788a",
   "metadata": {},
   "source": [
    "## <span style='color:#ff5f27'>⛓️ LangChain"
   ]
  },
  {
   "cell_type": "code",
   "execution_count": 8,
   "id": "b8cfd2b4",
   "metadata": {},
   "outputs": [
    {
     "name": "stderr",
     "output_type": "stream",
     "text": [
      "DeprecationWarning: `np.bool8` is a deprecated alias for `np.bool_`.  (Deprecated NumPy 1.24)\n"
     ]
    }
   ],
   "source": [
    "# Create and configure a language model chain.\n",
    "llm_chain = get_llm_chain(\n",
    "    tokenizer,\n",
    "    model_llm,\n",
    ")"
   ]
  },
  {
   "cell_type": "markdown",
   "id": "d10b1460",
   "metadata": {},
   "source": [
    "## <span style='color:#ff5f27'>🧬 Model Inference\n"
   ]
  },
  {
   "cell_type": "code",
   "execution_count": 9,
   "id": "15739772",
   "metadata": {},
   "outputs": [
    {
     "name": "stdout",
     "output_type": "stream",
     "text": [
      "🗓️ Today's date: Tuesday, 2024-05-14\n",
      "📖 \n",
      "===============\n",
      "I am an expert in air quality analysis.\n"
     ]
    }
   ],
   "source": [
    "QUESTION = \"Who are you?\"\n",
    "\n",
    "response = generate_response(\n",
    "    QUESTION,\n",
    "    feature_view,\n",
    "    model_air_quality,\n",
    "    encoder,\n",
    "    model_llm,\n",
    "    tokenizer,\n",
    "    llm_chain,\n",
    "    verbose=True,\n",
    ")\n",
    "\n",
    "print(response)"
   ]
  },
  {
   "cell_type": "code",
   "execution_count": 10,
   "id": "ad9b2229",
   "metadata": {},
   "outputs": [
    {
     "name": "stdout",
     "output_type": "stream",
     "text": [
      "Finished: Reading data from Hopsworks, using ArrowFlight (8.25s) \n",
      "🗓️ Today's date: Tuesday, 2024-05-14\n",
      "📖 Air Quality Measurements for New York:\n",
      "Date: 2024-01-10; Air Quality: 7.2\n",
      "Date: 2024-01-11; Air Quality: 5.9\n",
      "Date: 2024-01-12; Air Quality: 10.8\n",
      "Date: 2024-01-13; Air Quality: 5.9\n",
      "Date: 2024-01-14; Air Quality: 5.1\n",
      "===============\n",
      "The air quality in New York from January 10th to January 14th was generally moderate. The measurements show that the air quality fluctuated during this period, with a high of 10.8 on January 12th and lows of 5.1 and 5.9 on different days. Overall, it's a good time to be outside and enjoy the fresh air, but you may want to avoid strenuous outdoor activities on the 12th.\n"
     ]
    }
   ],
   "source": [
    "QUESTION1 = \"What was the air quality from 2024-01-10 till 2024-01-14 in New York?\"\n",
    "\n",
    "response1 = generate_response(\n",
    "    QUESTION1, \n",
    "    feature_view, \n",
    "    model_air_quality, \n",
    "    encoder,\n",
    "    model_llm, \n",
    "    tokenizer,\n",
    "    llm_chain,\n",
    "    verbose=True,\n",
    ")\n",
    "\n",
    "print(response1)"
   ]
  },
  {
   "cell_type": "code",
   "execution_count": 11,
   "id": "693b98bf",
   "metadata": {},
   "outputs": [
    {
     "name": "stdout",
     "output_type": "stream",
     "text": [
      "Finished: Reading data from Hopsworks, using ArrowFlight (8.58s) \n",
      "🗓️ Today's date: Tuesday, 2024-05-14\n",
      "📖 Air Quality Measurements for New York:\n",
      "Date: 2024-01-10; Air Quality: 7.2\n",
      "Date: 2024-01-11; Air Quality: 5.9\n",
      "Date: 2024-01-12; Air Quality: 10.8\n",
      "Date: 2024-01-13; Air Quality: 5.9\n",
      "Date: 2024-01-14; Air Quality: 5.1\n",
      "===============\n",
      "The maximum air quality during that period in New York was on January 12th with an air quality of 10.8. This level is considered to be unhealthy for sensitive groups, and it is advisable to limit outdoor activities.\n"
     ]
    }
   ],
   "source": [
    "QUESTION11 = \"When and what was the maximum air quality from 2024-01-10 till 2024-01-14 in New York?\"\n",
    "\n",
    "response11 = generate_response(\n",
    "    QUESTION11, \n",
    "    feature_view, \n",
    "    model_air_quality,\n",
    "    encoder,\n",
    "    model_llm,\n",
    "    tokenizer,\n",
    "    llm_chain,\n",
    "    verbose=True,\n",
    ")\n",
    "\n",
    "print(response11)"
   ]
  },
  {
   "cell_type": "code",
   "execution_count": 12,
   "id": "a55195a0",
   "metadata": {},
   "outputs": [
    {
     "name": "stdout",
     "output_type": "stream",
     "text": [
      "Finished: Reading data from Hopsworks, using ArrowFlight (7.79s) \n",
      "🗓️ Today's date: Tuesday, 2024-05-14\n",
      "📖 Air Quality Measurements for New York:\n",
      "Date: 2024-01-10; Air Quality: 7.2\n",
      "Date: 2024-01-11; Air Quality: 5.9\n",
      "Date: 2024-01-12; Air Quality: 10.8\n",
      "Date: 2024-01-13; Air Quality: 5.9\n",
      "Date: 2024-01-14; Air Quality: 5.1\n",
      "===============\n",
      "The minimum air quality during that period in New York was on January 14th, with an air quality of 5.1. This indicates that the air quality on that day was quite good, and it would be safe for you to go for a walk or engage in outdoor activities.\n"
     ]
    }
   ],
   "source": [
    "QUESTION12 = \"When and what was the minimum air quality from 2024-01-10 till 2024-01-14 in New York?\"\n",
    "\n",
    "response12 = generate_response(\n",
    "    QUESTION12, \n",
    "    feature_view,  \n",
    "    model_air_quality, \n",
    "    encoder,\n",
    "    model_llm, \n",
    "    tokenizer,\n",
    "    llm_chain,\n",
    "    verbose=True,\n",
    ")\n",
    "\n",
    "print(response12)"
   ]
  },
  {
   "cell_type": "code",
   "execution_count": 13,
   "id": "7be0351d",
   "metadata": {},
   "outputs": [
    {
     "name": "stdout",
     "output_type": "stream",
     "text": [
      "Finished: Reading data from Hopsworks, using ArrowFlight (7.90s) \n",
      "🗓️ Today's date: Tuesday, 2024-05-14\n",
      "📖 Air Quality Measurements for London:\n",
      "Date: 2024-05-13; Air Quality: 10.5\n",
      "===============\n",
      "Yesterday, the air quality in London was safe for most people. However, it might have been slightly uncomfortable for those with respiratory issues.\n"
     ]
    }
   ],
   "source": [
    "QUESTION2 = \"What was the air quality yesterday in London?\"\n",
    "\n",
    "response2 = generate_response(\n",
    "    QUESTION2,\n",
    "    feature_view,\n",
    "    model_air_quality,\n",
    "    encoder,\n",
    "    model_llm,\n",
    "    tokenizer,\n",
    "    llm_chain,\n",
    "    verbose=True,\n",
    ")\n",
    "\n",
    "print(response2)"
   ]
  },
  {
   "cell_type": "code",
   "execution_count": 14,
   "id": "30c6aca3",
   "metadata": {},
   "outputs": [
    {
     "name": "stdout",
     "output_type": "stream",
     "text": [
      "Finished: Reading data from Hopsworks, using ArrowFlight (8.33s) \n",
      "🗓️ Today's date: Tuesday, 2024-05-14\n",
      "📖 Air Quality Measurements for London:\n",
      "Date: 2024-05-07; Air Quality: 14.2\n",
      "Date: 2024-05-08; Air Quality: 15.1\n",
      "Date: 2024-05-09; Air Quality: 23.4\n",
      "Date: 2024-05-10; Air Quality: 26.2\n",
      "Date: 2024-05-11; Air Quality: 23.1\n",
      "Date: 2024-05-12; Air Quality: 16.5\n",
      "Date: 2024-05-13; Air Quality: 10.5\n",
      "Date: 2024-05-14; Air Quality: 5.9\n",
      "===============\n",
      "Last week in London, the air quality was generally moderate to good. The readings for the days you provided show that the air quality was improving over the week, with levels ranging from 5.9 on May 14th to 14.2 on May 7th. Overall, the air quality was safe for most activities, but it would be advisable to check for any local advisories before engaging in outdoor activities.\n"
     ]
    }
   ],
   "source": [
    "QUESTION = \"What was the air quality like last week in London?\"\n",
    "\n",
    "response = generate_response(\n",
    "    QUESTION,\n",
    "    feature_view, \n",
    "    model_air_quality,\n",
    "    encoder,\n",
    "    model_llm,\n",
    "    tokenizer,\n",
    "    llm_chain,\n",
    "    verbose=True,\n",
    ")\n",
    "\n",
    "print(response)"
   ]
  },
  {
   "cell_type": "code",
   "execution_count": 15,
   "id": "3ac41382",
   "metadata": {},
   "outputs": [
    {
     "name": "stdout",
     "output_type": "stream",
     "text": [
      "Finished: Reading data from Hopsworks, using ArrowFlight (7.92s) \n",
      "🗓️ Today's date: Tuesday, 2024-05-14\n",
      "📖 Air Quality Measurements for London:\n",
      "Date: 2024-05-14; Air Quality: 5.9\n",
      "Date: 2024-05-15; Air Quality: 10.88\n",
      "Date: 2024-05-16; Air Quality: 11.99\n",
      "Date: 2024-05-17; Air Quality: 11.6\n",
      "Date: 2024-05-18; Air Quality: 11.56\n",
      "Date: 2024-05-19; Air Quality: 11.52\n",
      "Date: 2024-05-20; Air Quality: 11.52\n",
      "===============\n",
      "The air quality in London on 2024-05-20 is expected to be at a moderate level, with an Air Quality index of 11.52. This is within the safe range, but it might not be the best day for outdoor activities, especially if you have respiratory issues. It would be advisable to keep an eye on the air quality and possibly choose a different day for more strenuous activities.\n"
     ]
    }
   ],
   "source": [
    "QUESTION3 = \"What will the air quality be like in London in 2024-05-20?\"\n",
    "\n",
    "response3 = generate_response(\n",
    "    QUESTION3, \n",
    "    feature_view, \n",
    "    model_air_quality,\n",
    "    encoder,\n",
    "    model_llm, \n",
    "    tokenizer,\n",
    "    llm_chain,\n",
    "    verbose=True,\n",
    ")\n",
    "\n",
    "print(response3)"
   ]
  },
  {
   "cell_type": "code",
   "execution_count": 16,
   "id": "1c039b2e",
   "metadata": {},
   "outputs": [
    {
     "name": "stdout",
     "output_type": "stream",
     "text": [
      "Finished: Reading data from Hopsworks, using ArrowFlight (7.62s) \n",
      "🗓️ Today's date: Tuesday, 2024-05-14\n",
      "📖 Air Quality Measurements for Chicago:\n",
      "Date: 2024-05-14; Air Quality: 15.0\n",
      "Date: 2024-05-15; Air Quality: 8.76\n",
      "===============\n",
      "Tomorrow, the air quality in Chicago is expected to be significantly better than today. The air quality measurement for tomorrow, based on our data, is 8.76. This level indicates that the air quality is considered good, and it is safe for outdoor activities such as walking or cycling.\n"
     ]
    }
   ],
   "source": [
    "QUESTION4 = \"What will the air quality be like in Chicago tomorrow?\"\n",
    "\n",
    "response4 = generate_response(\n",
    "    QUESTION4, \n",
    "    feature_view, \n",
    "    model_air_quality, \n",
    "    encoder,\n",
    "    model_llm, \n",
    "    tokenizer,\n",
    "    llm_chain,\n",
    "    verbose=True,\n",
    ")\n",
    "\n",
    "print(response4)"
   ]
  },
  {
   "cell_type": "code",
   "execution_count": 17,
   "id": "c5dc44bb",
   "metadata": {},
   "outputs": [
    {
     "name": "stdout",
     "output_type": "stream",
     "text": [
      "Finished: Reading data from Hopsworks, using ArrowFlight (7.82s) \n",
      "🗓️ Today's date: Tuesday, 2024-05-14\n",
      "📖 Air Quality Measurements for London:\n",
      "Date: 2024-05-14; Air Quality: 5.9\n",
      "Date: 2024-05-15; Air Quality: 10.88\n",
      "Date: 2024-05-16; Air Quality: 11.99\n",
      "Date: 2024-05-17; Air Quality: 11.6\n",
      "Date: 2024-05-18; Air Quality: 11.56\n",
      "Date: 2024-05-19; Air Quality: 11.52\n",
      "===============\n",
      "Based on the air quality measurements for London, next Sunday, 2024-05-19, the air quality is expected to be at 11.52. This level falls within the moderate range, which means it is safe for most people to go outside, but those with respiratory issues may want to limit their exposure. It is advisable to check for any local alerts or updates before planning any outdoor activities.\n"
     ]
    }
   ],
   "source": [
    "QUESTION5 = \"What will the air quality be like in London next Sunday?\"\n",
    "\n",
    "response5 = generate_response(\n",
    "    QUESTION5, \n",
    "    feature_view, \n",
    "    model_air_quality, \n",
    "    encoder,\n",
    "    model_llm, \n",
    "    tokenizer, \n",
    "    llm_chain,\n",
    "    verbose=True,\n",
    ")\n",
    "\n",
    "print(response5)"
   ]
  },
  {
   "cell_type": "code",
   "execution_count": 18,
   "id": "aa28c252",
   "metadata": {},
   "outputs": [
    {
     "name": "stdout",
     "output_type": "stream",
     "text": [
      "Finished: Reading data from Hopsworks, using ArrowFlight (7.65s) \n",
      "🗓️ Today's date: Tuesday, 2024-05-14\n",
      "📖 Air Quality Measurements for London:\n",
      "Date: 2024-05-14; Air Quality: 5.9\n",
      "Date: 2024-05-15; Air Quality: 10.88\n",
      "Date: 2024-05-16; Air Quality: 11.99\n",
      "Date: 2024-05-17; Air Quality: 11.6\n",
      "Date: 2024-05-18; Air Quality: 11.56\n",
      "===============\n",
      "The air quality on May 18 in London is expected to be slightly unhealthy for sensitive groups, with a reading of 11.56. While it may not be ideal for everyone, those with respiratory issues should take extra precautions. It is still generally safe for most people to go outside, but you may want to limit prolonged exposure and consider using a mask.\n"
     ]
    }
   ],
   "source": [
    "QUESTION7 = \"What will the air quality be like on May 18 in London?\"\n",
    "\n",
    "response7 = generate_response(\n",
    "    QUESTION7,\n",
    "    feature_view,\n",
    "    model_air_quality,\n",
    "    encoder,\n",
    "    model_llm,\n",
    "    tokenizer,\n",
    "    llm_chain,\n",
    "    verbose=True,\n",
    ")\n",
    "\n",
    "print(response7)"
   ]
  },
  {
   "cell_type": "code",
   "execution_count": 19,
   "id": "f65aae43",
   "metadata": {},
   "outputs": [
    {
     "name": "stdout",
     "output_type": "stream",
     "text": [
      "🗓️ Today's date: Tuesday, 2024-05-14\n",
      "📖 \n",
      "===============\n"
     ]
    },
    {
     "name": "stderr",
     "output_type": "stream",
     "text": [
      "UserWarning: You seem to be using the pipelines sequentially on GPU. In order to maximize efficiency please use a dataset\n"
     ]
    },
    {
     "name": "stdout",
     "output_type": "stream",
     "text": [
      "Sure, I'd be happy to explain the different PM2.5 air quality levels. PM2.5 refers to particulate matter with a diameter of 2.5 micrometers or less. It's a measure of the concentration of these tiny particles in the air.\n",
      "\n",
      "Here are the general air quality categories based on PM2.5 levels:\n",
      "\n",
      "1. Good (0-12 µg/m³): At this level, the air quality is considered to be safe and suitable for all populations, including those who are sensitive to air pollution.\n",
      "\n",
      "2. Moderate (12-35 µg/m³): The air quality is generally safe, but people who are sensitive to air pollution may experience mild discomfort. It's usually safe for most activities, including outdoor exercise.\n",
      "\n",
      "3. Unhealthy for Sensitive Groups (35-55 µg/m³): People with lung or heart conditions, children, and the elderly may experience health effects. It's generally safe for most people, but sensitive groups should avoid prolonged outdoor exertion.\n",
      "\n",
      "4. Unhealthy (55-150 µg/m³): Everyone may experience health effects, including respiratory symptoms, eye irritation, and aggravation of heart and lung diseases. It's advisable to limit outdoor activities, especially for children and people with pre-existing health conditions.\n",
      "\n",
      "5. Very Unhealthy (150-250 µg/m³): This level poses a significant health risk for everyone, with symptoms like respiratory problems, heart attacks, and premature death possible. It's crucial to avoid all outdoor activities, especially for sensitive groups.\n",
      "\n",
      "6. Hazardous (>250 µg/m³): This is an emergency situation where the air quality is extremely dangerous. It can cause serious health effects, including serious respiratory problems, heart attacks, and even death. Everyone should avoid all outdoor activities and stay indoors with air filtration systems in place.\n",
      "\n",
      "Please remember that these are general guidelines, and local air quality standards may vary. It's always best to consult local air quality reports for the most accurate information.\n"
     ]
    }
   ],
   "source": [
    "QUESTION = \"Can you please explain different PM2_5 air quality levels?\"\n",
    "\n",
    "response = generate_response(\n",
    "    QUESTION, \n",
    "    feature_view, \n",
    "    model_air_quality, \n",
    "    encoder,\n",
    "    model_llm, \n",
    "    tokenizer,\n",
    "    llm_chain,\n",
    "    verbose=True,\n",
    ")\n",
    "\n",
    "print(response)"
   ]
  },
  {
   "cell_type": "markdown",
   "id": "41f8615a",
   "metadata": {},
   "source": [
    "---\n",
    "\n",
    "## <span style='color:#ff5f27'>🧬 Inference with OpenAI\n"
   ]
  },
  {
   "cell_type": "code",
   "execution_count": 20,
   "id": "5538f395",
   "metadata": {},
   "outputs": [],
   "source": [
    "from openai import OpenAI\n",
    "import os\n",
    "import getpass\n",
    "\n",
    "from functions.llm_chain import generate_response_openai"
   ]
  },
  {
   "cell_type": "code",
   "execution_count": 21,
   "id": "5618e195",
   "metadata": {},
   "outputs": [
    {
     "name": "stdin",
     "output_type": "stream",
     "text": [
      "🔑 Enter your OpenAI API key:  ···················································\n"
     ]
    }
   ],
   "source": [
    "os.environ[\"OPENAI_API_KEY\"] = os.getenv(\"OPENAI_API_KEY\") or getpass.getpass('🔑 Enter your OpenAI API key: ')\n",
    "\n",
    "client = OpenAI(\n",
    "    api_key=os.environ[\"OPENAI_API_KEY\"],\n",
    ")"
   ]
  },
  {
   "cell_type": "code",
   "execution_count": 22,
   "id": "62ae66ea",
   "metadata": {},
   "outputs": [
    {
     "name": "stdout",
     "output_type": "stream",
     "text": [
      "2024-05-14 20:28:16,300 INFO: HTTP Request: POST https://api.openai.com/v1/chat/completions \"HTTP/1.1 200 OK\"\n",
      "Finished: Reading data from Hopsworks, using ArrowFlight (8.38s) \n",
      "🗓️ Today's date: Tuesday, 2024-05-14\n",
      "📖 Air Quality Measurements for London:\n",
      "Date: 2024-05-06; Air Quality: 16.4\n",
      "Date: 2024-05-07; Air Quality: 14.2\n",
      "Date: 2024-05-08; Air Quality: 15.1\n",
      "Date: 2024-05-09; Air Quality: 23.4\n",
      "Date: 2024-05-10; Air Quality: 26.2\n",
      "Date: 2024-05-11; Air Quality: 23.1\n",
      "Date: 2024-05-12; Air Quality: 16.5\n",
      "Date: 2024-05-13; Air Quality: 10.5\n",
      "2024-05-14 20:28:40,843 INFO: HTTP Request: POST https://api.openai.com/v1/chat/completions \"HTTP/1.1 200 OK\"\n",
      "Last week in London, the air quality varied, starting at a good level of 16.4 on the 6th of May, indicating it was quite safe for outdoor activities. It slightly improved further on the 7th with a level of 14.2, and remained fairly stable and good on the 8th at 15.1, suggesting that conditions were conducive for spending time outside. However, there was a noticeable increase in pollution levels starting from the 9th of May, peaking on the 10th with an air quality level of 26.2, which indicated a decline in air quality and might have made outdoor activities less advisable for sensitive groups. The air quality then slightly improved to 23.1 on the 11th, but still remained at levels where people with respiratory conditions should be cautious. The week ended with a return to a good air quality level of 16.5 on the 12th, making it safer again for outdoor activities. By the 13th, the air quality significantly improved to an excellent level of 10.5, suggesting very clean air and optimal conditions for all activities outdoors.\n"
     ]
    }
   ],
   "source": [
    "QUESTION = \"What was the air quality like last week in London?\"\n",
    "\n",
    "response = generate_response_openai(   \n",
    "    QUESTION,\n",
    "    feature_view,\n",
    "    model_air_quality,\n",
    "    encoder,\n",
    "    client,\n",
    "    verbose=True,\n",
    ")\n",
    "print(response)"
   ]
  },
  {
   "cell_type": "code",
   "execution_count": 23,
   "id": "5978d4e5",
   "metadata": {},
   "outputs": [
    {
     "name": "stdout",
     "output_type": "stream",
     "text": [
      "2024-05-14 20:28:42,202 INFO: HTTP Request: POST https://api.openai.com/v1/chat/completions \"HTTP/1.1 200 OK\"\n",
      "Finished: Reading data from Hopsworks, using ArrowFlight (7.96s) \n",
      "🗓️ Today's date: Tuesday, 2024-05-14\n",
      "📖 Air Quality Measurements for Chicago:\n",
      "Date: 2024-05-14; Air Quality: 15.0\n",
      "Date: 2024-05-15; Air Quality: 8.76\n",
      "2024-05-14 20:28:57,762 INFO: HTTP Request: POST https://api.openai.com/v1/chat/completions \"HTTP/1.1 200 OK\"\n",
      "The air quality in Chicago tomorrow will be excellent, with a reading of 8.76. It will be a wonderful day to enjoy outdoor activities, such as going for a walk or a bike ride, as the air will be very clean and healthy to breathe.\n"
     ]
    }
   ],
   "source": [
    "QUESTION4 = \"What will the air quality be like in Chicago tomorrow?\"\n",
    "\n",
    "response4 = generate_response_openai(\n",
    "    QUESTION4,\n",
    "    feature_view,\n",
    "    model_air_quality,\n",
    "    encoder,\n",
    "    client,\n",
    "    verbose=True,\n",
    ")\n",
    "\n",
    "print(response4)"
   ]
  },
  {
   "cell_type": "markdown",
   "id": "76fd05ea",
   "metadata": {},
   "source": [
    "---"
   ]
  }
 ],
 "metadata": {
  "kernelspec": {
   "display_name": "Python 3",
   "language": "python",
   "name": "python3"
  },
  "language_info": {
   "codemirror_mode": {
    "name": "ipython",
    "version": 3
   },
   "file_extension": ".py",
   "mimetype": "text/x-python",
   "name": "python",
   "nbconvert_exporter": "python",
   "pygments_lexer": "ipython3",
   "version": "3.10.11"
  }
 },
 "nbformat": 4,
 "nbformat_minor": 5
}
