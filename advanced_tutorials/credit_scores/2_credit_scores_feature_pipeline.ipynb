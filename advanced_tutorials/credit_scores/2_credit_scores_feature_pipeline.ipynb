{
 "cells": [
  {
   "cell_type": "markdown",
   "id": "f7354b1d",
   "metadata": {},
   "source": [
    "# <span style=\"font-width:bold; font-size: 3rem; color:#1EB182;\"><img src=\"../../images/icon102.png\" width=\"38px\"></img> **Hopsworks Feature Store** </span><span style=\"font-width:bold; font-size: 3rem; color:#333;\">- Part 02: Feature Pipeline</span>\n",
    "\n",
    "\n",
    "## 🗒️ This notebook is divided into the following sections:\n",
    "1. Data Generation.\n",
    "2. Feature Group insertion."
   ]
  },
  {
   "cell_type": "markdown",
   "id": "39778877-81b1-431b-b3e9-b5e1f91fc07a",
   "metadata": {},
   "source": [
    "## <span style='color:#ff5f27'> 📝 Imports"
   ]
  },
  {
   "cell_type": "code",
   "execution_count": null,
   "id": "b487597a",
   "metadata": {},
   "outputs": [],
   "source": [
    "from functions import generate_data\n",
    "from datetime import datetime\n",
    "\n",
    "#ignore warnings\n",
    "import warnings\n",
    "warnings.filterwarnings('ignore')"
   ]
  },
  {
   "cell_type": "markdown",
   "id": "062a6265",
   "metadata": {},
   "source": [
    "## <span style=\"color:#ff5f27;\"> 🔮 Connecting to Hopsworks Feature Store </span>"
   ]
  },
  {
   "cell_type": "code",
   "execution_count": null,
   "id": "c4aa2f9a",
   "metadata": {},
   "outputs": [],
   "source": [
    "import hopsworks\n",
    "\n",
    "project = hopsworks.login()\n",
    "\n",
    "fs = project.get_feature_store() "
   ]
  },
  {
   "cell_type": "markdown",
   "id": "7825f41d",
   "metadata": {},
   "source": [
    "## <span style=\"color:#ff5f27;\">🪄 Retrieving Feature Groups</span>"
   ]
  },
  {
   "cell_type": "markdown",
   "id": "a0efc688",
   "metadata": {},
   "source": [
    "#### <span style=\"color:#ff5f27;\">⛳️ Application Train Feature Group</span>"
   ]
  },
  {
   "cell_type": "code",
   "execution_count": null,
   "id": "f6467043",
   "metadata": {},
   "outputs": [],
   "source": [
    "applications_fg = fs.get_feature_group(\n",
    "    name='applications',\n",
    "    version=1,\n",
    ")\n",
    "\n",
    "applications_df = applications_fg.read()\n",
    "applications_df.head()"
   ]
  },
  {
   "cell_type": "markdown",
   "id": "19daef3c",
   "metadata": {},
   "source": [
    "#### <span style=\"color:#ff5f27;\">⛳️ Bureau Balance Feature Group</span>"
   ]
  },
  {
   "cell_type": "code",
   "execution_count": null,
   "id": "8a8647c3",
   "metadata": {},
   "outputs": [],
   "source": [
    "bureau_balances_fg = fs.get_feature_group(\n",
    "    name='bureau_balances',\n",
    "    version=1,\n",
    ")\n",
    "\n",
    "bureau_balances_df = bureau_balances_fg.read()\n",
    "bureau_balances_df.head()"
   ]
  },
  {
   "cell_type": "markdown",
   "id": "a06132a4",
   "metadata": {},
   "source": [
    "#### <span style=\"color:#ff5f27;\">⛳️ Bureau Feature Group</span>"
   ]
  },
  {
   "cell_type": "code",
   "execution_count": null,
   "id": "29f0701b",
   "metadata": {},
   "outputs": [],
   "source": [
    "bureaus_fg = fs.get_feature_group(\n",
    "    name='bureaus',\n",
    "    version=1,\n",
    ")\n",
    "\n",
    "bureaus_df = bureaus_fg.read()\n",
    "bureaus_df.head()"
   ]
  },
  {
   "cell_type": "markdown",
   "id": "70d72f96",
   "metadata": {},
   "source": [
    "#### <span style=\"color:#ff5f27;\">⛳️ Credit Card Balance Feature Group</span>"
   ]
  },
  {
   "cell_type": "code",
   "execution_count": null,
   "id": "22a67c9c",
   "metadata": {},
   "outputs": [],
   "source": [
    "credit_card_balances_fg = fs.get_feature_group(\n",
    "    name='credit_card_balances',\n",
    "    version=1,\n",
    ")\n",
    "\n",
    "credit_card_balances_df = credit_card_balances_fg.read()\n",
    "credit_card_balances_df.head()"
   ]
  },
  {
   "cell_type": "markdown",
   "id": "4466e30c",
   "metadata": {},
   "source": [
    "#### <span style=\"color:#ff5f27;\">⛳️ Installments Payments Feature Group</span>"
   ]
  },
  {
   "cell_type": "code",
   "execution_count": null,
   "id": "b55c6bb8",
   "metadata": {},
   "outputs": [],
   "source": [
    "installment_payments_fg = fs.get_feature_group(\n",
    "    name='installment_payments',\n",
    "    version=1,\n",
    ")\n",
    "\n",
    "installment_payments_df = installment_payments_fg.read()\n",
    "installment_payments_df.head()"
   ]
  },
  {
   "cell_type": "markdown",
   "id": "211c9ae4",
   "metadata": {},
   "source": [
    "#### <span style=\"color:#ff5f27;\">⛳️ POS (point of sales) and Cash Loans Balance Feature Group</span>"
   ]
  },
  {
   "cell_type": "code",
   "execution_count": null,
   "id": "561cea06",
   "metadata": {},
   "outputs": [],
   "source": [
    "pos_cash_balances_fg = fs.get_feature_group(\n",
    "    name='pos_cash_balances',\n",
    "    version=1,\n",
    ")\n",
    "\n",
    "pos_cash_balances_df = pos_cash_balances_fg.read()\n",
    "pos_cash_balances_df.head()"
   ]
  },
  {
   "cell_type": "markdown",
   "id": "70a2ff26",
   "metadata": {},
   "source": [
    "#### <span style=\"color:#ff5f27;\">⛳️ Previous Application Feature Group</span>"
   ]
  },
  {
   "cell_type": "code",
   "execution_count": null,
   "id": "9780899b",
   "metadata": {},
   "outputs": [],
   "source": [
    "previous_applications_fg = fs.get_feature_group(\n",
    "    name='previous_applications',\n",
    "    version=1,\n",
    ")\n",
    "\n",
    "previous_applications_df = previous_applications_fg.read()\n",
    "previous_applications_df.head()"
   ]
  },
  {
   "cell_type": "markdown",
   "id": "a7629071",
   "metadata": {},
   "source": [
    "#### <span style=\"color:#ff5f27;\"> ⛳️ Previous Load Counts Feature Group"
   ]
  },
  {
   "cell_type": "code",
   "execution_count": null,
   "id": "5a591631",
   "metadata": {},
   "outputs": [],
   "source": [
    "previous_loan_counts_fg = fs.get_feature_group(\n",
    "    name='previous_loan_counts',\n",
    "    version=1,\n",
    ")\n",
    "\n",
    "previous_loan_counts_df = previous_loan_counts_fg.read()\n",
    "previous_loan_counts_df.head()"
   ]
  },
  {
   "cell_type": "markdown",
   "id": "bbf8ecdb",
   "metadata": {},
   "source": [
    "---\n",
    "\n",
    "## <span style=\"color:#ff5f27;\"> 🧙🏼‍♂️ Data Generation </span>"
   ]
  },
  {
   "cell_type": "code",
   "execution_count": null,
   "id": "cd420aa0",
   "metadata": {},
   "outputs": [],
   "source": [
    "# Get today's date and time\n",
    "today_date_time = datetime.now()\n",
    "today_date_time"
   ]
  },
  {
   "cell_type": "code",
   "execution_count": null,
   "id": "9991cd0e",
   "metadata": {},
   "outputs": [],
   "source": [
    "applications_df_generated = generate_data(applications_df)\n",
    "applications_df_generated['datetime'] = today_date_time\n",
    "applications_df_generated.head(3)"
   ]
  },
  {
   "cell_type": "code",
   "execution_count": null,
   "id": "34ed2b23",
   "metadata": {},
   "outputs": [],
   "source": [
    "bureau_balances_df_generated = generate_data(bureau_balances_df)\n",
    "bureau_balances_df_generated.head(3)"
   ]
  },
  {
   "cell_type": "code",
   "execution_count": null,
   "id": "0d0f30c4",
   "metadata": {},
   "outputs": [],
   "source": [
    "bureaus_df_generated = generate_data(bureaus_df)\n",
    "bureaus_df_generated['datetime'] = today_date_time\n",
    "bureaus_df_generated.head(3)"
   ]
  },
  {
   "cell_type": "code",
   "execution_count": null,
   "id": "6f054238",
   "metadata": {},
   "outputs": [],
   "source": [
    "credit_card_balances_df_generated = generate_data(credit_card_balances_df)\n",
    "credit_card_balances_df_generated.head(3)"
   ]
  },
  {
   "cell_type": "code",
   "execution_count": null,
   "id": "3762a023",
   "metadata": {},
   "outputs": [],
   "source": [
    "installment_payments_df_generated = generate_data(installment_payments_df)\n",
    "installment_payments_df_generated['datetime'] = today_date_time\n",
    "installment_payments_df_generated.head(3)"
   ]
  },
  {
   "cell_type": "code",
   "execution_count": null,
   "id": "0afa4f91",
   "metadata": {},
   "outputs": [],
   "source": [
    "pos_cash_balances_df_generated = generate_data(pos_cash_balances_df)\n",
    "pos_cash_balances_df_generated.head(3)"
   ]
  },
  {
   "cell_type": "code",
   "execution_count": null,
   "id": "67a6d629",
   "metadata": {},
   "outputs": [],
   "source": [
    "previous_applications_df_generated = generate_data(previous_applications_df)\n",
    "previous_applications_df_generated['datetime'] = today_date_time\n",
    "previous_applications_df_generated.head(3)"
   ]
  },
  {
   "cell_type": "code",
   "execution_count": null,
   "id": "ca00b80c",
   "metadata": {},
   "outputs": [],
   "source": [
    "previous_loan_counts_df_generated = generate_data(previous_loan_counts_df)\n",
    "previous_loan_counts_df_generated.head(3)"
   ]
  },
  {
   "cell_type": "markdown",
   "id": "4d0e1f50",
   "metadata": {},
   "source": [
    "### <span style='color:#ff5f27'> ⬆️ Uploading new data to the Feature Store"
   ]
  },
  {
   "cell_type": "code",
   "execution_count": null,
   "id": "88ccf658",
   "metadata": {},
   "outputs": [],
   "source": [
    "applications_fg.insert(applications_df_generated)"
   ]
  },
  {
   "cell_type": "code",
   "execution_count": null,
   "id": "a7d5e49f",
   "metadata": {},
   "outputs": [],
   "source": [
    "bureau_balances_fg.insert(\n",
    "    bureau_balances_df_generated,\n",
    "    write_options={\"wait_for_job\": True},\n",
    ")"
   ]
  },
  {
   "cell_type": "code",
   "execution_count": null,
   "id": "a07c0a8d",
   "metadata": {},
   "outputs": [],
   "source": [
    "bureaus_fg.insert(\n",
    "    bureaus_df_generated, \n",
    "    write_options={\"wait_for_job\": True},\n",
    ")"
   ]
  },
  {
   "cell_type": "code",
   "execution_count": null,
   "id": "ae679e44",
   "metadata": {},
   "outputs": [],
   "source": [
    "credit_card_balances_fg.insert(\n",
    "    credit_card_balances_df_generated,\n",
    "    write_options={\"wait_for_job\": True},\n",
    ")"
   ]
  },
  {
   "cell_type": "code",
   "execution_count": null,
   "id": "f71a84e1",
   "metadata": {},
   "outputs": [],
   "source": [
    "installment_payments_fg.insert(installment_payments_df_generated)"
   ]
  },
  {
   "cell_type": "code",
   "execution_count": null,
   "id": "b9a1be50",
   "metadata": {},
   "outputs": [],
   "source": [
    "pos_cash_balances_fg.insert(\n",
    "    pos_cash_balances_df_generated,\n",
    "    write_options={\"wait_for_job\": True},\n",
    ")"
   ]
  },
  {
   "cell_type": "code",
   "execution_count": null,
   "id": "18bbd6f6",
   "metadata": {},
   "outputs": [],
   "source": [
    "previous_applications_fg.insert(previous_applications_df_generated)"
   ]
  },
  {
   "cell_type": "code",
   "execution_count": null,
   "id": "b3297c8e",
   "metadata": {},
   "outputs": [],
   "source": [
    "previous_loan_counts_fg.insert(\n",
    "    previous_loan_counts_df_generated,\n",
    "    write_options={\"wait_for_job\": True},\n",
    ")"
   ]
  },
  {
   "cell_type": "markdown",
   "id": "f9b23f29",
   "metadata": {},
   "source": [
    "---\n",
    "## <span style=\"color:#ff5f27;\">⏭️ **Next:** Part 03: Training Pipeline </span>\n",
    "\n",
    "In the next notebook we will use our feature groups to create a feature view, training dataset, train a model and save it in model registry.\n"
   ]
  }
 ],
 "metadata": {
  "kernelspec": {
   "display_name": "Python 3 (ipykernel)",
   "language": "python",
   "name": "python3"
  },
  "language_info": {
   "codemirror_mode": {
    "name": "ipython",
    "version": 3
   },
   "file_extension": ".py",
   "mimetype": "text/x-python",
   "name": "python",
   "nbconvert_exporter": "python",
   "pygments_lexer": "ipython3",
   "version": "3.9.18"
  }
 },
 "nbformat": 4,
 "nbformat_minor": 5
}
