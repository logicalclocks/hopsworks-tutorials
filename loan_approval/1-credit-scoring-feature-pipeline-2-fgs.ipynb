{
 "cells": [
  {
   "cell_type": "markdown",
   "id": "4e1e2fcc",
   "metadata": {
    "papermill": {
     "duration": 0.029083,
     "end_time": "2023-01-31T14:11:23.008968",
     "exception": false,
     "start_time": "2023-01-31T14:11:22.979885",
     "status": "completed"
    },
    "tags": []
   },
   "source": [
    "Based on:\n",
    "https://www.kaggle.com/code/faressayah/lending-club-loan-defaulters-prediction \n",
    "\n",
    "# Lending Club Dataset\n"
   ]
  },
  {
   "cell_type": "code",
   "execution_count": 1,
   "id": "7b696de8",
   "metadata": {},
   "outputs": [
    {
     "name": "stdout",
     "output_type": "stream",
     "text": [
      "Requirement already satisfied: hopsworks==3.1.0rc0 in /home/jdowling/anaconda3/lib/python3.9/site-packages (3.1.0rc0)\n",
      "Requirement already satisfied: furl in /home/jdowling/.local/lib/python3.9/site-packages (from hopsworks==3.1.0rc0) (2.1.3)\n",
      "Requirement already satisfied: pyjks in /home/jdowling/.local/lib/python3.9/site-packages (from hopsworks==3.1.0rc0) (20.0.0)\n",
      "Requirement already satisfied: tqdm in /home/jdowling/.local/lib/python3.9/site-packages (from hopsworks==3.1.0rc0) (4.62.3)\n",
      "Requirement already satisfied: hsfs[python]~=3.1.0rc0 in /home/jdowling/anaconda3/lib/python3.9/site-packages (from hopsworks==3.1.0rc0) (3.1.0rc3)\n",
      "Requirement already satisfied: pyhumps==1.6.1 in /home/jdowling/.local/lib/python3.9/site-packages (from hopsworks==3.1.0rc0) (1.6.1)\n",
      "Requirement already satisfied: boto3 in /home/jdowling/.local/lib/python3.9/site-packages (from hopsworks==3.1.0rc0) (1.20.24)\n",
      "Requirement already satisfied: mock in /home/jdowling/.local/lib/python3.9/site-packages (from hopsworks==3.1.0rc0) (4.0.3)\n",
      "Requirement already satisfied: hsml~=3.1.0rc0 in /home/jdowling/anaconda3/lib/python3.9/site-packages (from hopsworks==3.1.0rc0) (3.1.0rc0)\n",
      "Requirement already satisfied: requests in /home/jdowling/anaconda3/lib/python3.9/site-packages (from hopsworks==3.1.0rc0) (2.25.1)\n",
      "Requirement already satisfied: numpy in /home/jdowling/anaconda3/lib/python3.9/site-packages (from hsfs[python]~=3.1.0rc0->hopsworks==3.1.0rc0) (1.19.5)\n",
      "Requirement already satisfied: markupsafe<2.1.0 in /home/jdowling/.local/lib/python3.9/site-packages (from hsfs[python]~=3.1.0rc0->hopsworks==3.1.0rc0) (2.0.1)\n",
      "Requirement already satisfied: pandas>=1.2.0 in /home/jdowling/.local/lib/python3.9/site-packages (from hsfs[python]~=3.1.0rc0->hopsworks==3.1.0rc0) (1.4.2)\n",
      "Requirement already satisfied: avro==1.10.2 in /home/jdowling/.local/lib/python3.9/site-packages (from hsfs[python]~=3.1.0rc0->hopsworks==3.1.0rc0) (1.10.2)\n",
      "Requirement already satisfied: PyMySQL[rsa] in /home/jdowling/.local/lib/python3.9/site-packages (from hsfs[python]~=3.1.0rc0->hopsworks==3.1.0rc0) (1.0.2)\n",
      "Requirement already satisfied: sqlalchemy in /home/jdowling/.local/lib/python3.9/site-packages (from hsfs[python]~=3.1.0rc0->hopsworks==3.1.0rc0) (1.4.28)\n",
      "Requirement already satisfied: tzlocal in /home/jdowling/anaconda3/lib/python3.9/site-packages (from hsfs[python]~=3.1.0rc0->hopsworks==3.1.0rc0) (3.0)\n",
      "Requirement already satisfied: great-expectations==0.14.12 in /home/jdowling/anaconda3/lib/python3.9/site-packages (from hsfs[python]~=3.1.0rc0->hopsworks==3.1.0rc0) (0.14.12)\n",
      "Requirement already satisfied: fastavro==1.4.11 in /home/jdowling/anaconda3/lib/python3.9/site-packages (from hsfs[python]~=3.1.0rc0->hopsworks==3.1.0rc0) (1.4.11)\n",
      "Requirement already satisfied: pyarrow in /home/jdowling/.local/lib/python3.9/site-packages (from hsfs[python]~=3.1.0rc0->hopsworks==3.1.0rc0) (6.0.1)\n",
      "Requirement already satisfied: pyhopshive[thrift] in /home/jdowling/.local/lib/python3.9/site-packages (from hsfs[python]~=3.1.0rc0->hopsworks==3.1.0rc0) (0.6.4.1.dev0)\n",
      "Requirement already satisfied: gcsfs==2022.7.1 in /home/jdowling/anaconda3/lib/python3.9/site-packages (from hsfs[python]~=3.1.0rc0->hopsworks==3.1.0rc0) (2022.7.1)\n",
      "Requirement already satisfied: confluent-kafka==1.8.2 in /home/jdowling/anaconda3/lib/python3.9/site-packages (from hsfs[python]~=3.1.0rc0->hopsworks==3.1.0rc0) (1.8.2)\n",
      "Requirement already satisfied: google-auth>=1.2 in /home/jdowling/anaconda3/lib/python3.9/site-packages (from gcsfs==2022.7.1->hsfs[python]~=3.1.0rc0->hopsworks==3.1.0rc0) (2.16.1)\n",
      "Requirement already satisfied: fsspec==2022.7.1 in /home/jdowling/anaconda3/lib/python3.9/site-packages (from gcsfs==2022.7.1->hsfs[python]~=3.1.0rc0->hopsworks==3.1.0rc0) (2022.7.1)\n",
      "Requirement already satisfied: aiohttp in /home/jdowling/anaconda3/lib/python3.9/site-packages (from gcsfs==2022.7.1->hsfs[python]~=3.1.0rc0->hopsworks==3.1.0rc0) (3.8.3)\n",
      "Requirement already satisfied: google-cloud-storage in /home/jdowling/anaconda3/lib/python3.9/site-packages (from gcsfs==2022.7.1->hsfs[python]~=3.1.0rc0->hopsworks==3.1.0rc0) (2.7.0)\n",
      "Requirement already satisfied: decorator>4.1.2 in /home/jdowling/anaconda3/lib/python3.9/site-packages (from gcsfs==2022.7.1->hsfs[python]~=3.1.0rc0->hopsworks==3.1.0rc0) (5.1.0)\n",
      "Requirement already satisfied: google-auth-oauthlib in /home/jdowling/anaconda3/lib/python3.9/site-packages (from gcsfs==2022.7.1->hsfs[python]~=3.1.0rc0->hopsworks==3.1.0rc0) (0.4.6)\n",
      "Requirement already satisfied: altair<5,>=4.0.0 in /home/jdowling/.local/lib/python3.9/site-packages (from great-expectations==0.14.12->hsfs[python]~=3.1.0rc0->hopsworks==3.1.0rc0) (4.2.0)\n",
      "Requirement already satisfied: ruamel.yaml<0.17.18,>=0.16 in /home/jdowling/anaconda3/lib/python3.9/site-packages (from great-expectations==0.14.12->hsfs[python]~=3.1.0rc0->hopsworks==3.1.0rc0) (0.17.17)\n",
      "Requirement already satisfied: nbformat>=5.0 in /home/jdowling/anaconda3/lib/python3.9/site-packages (from great-expectations==0.14.12->hsfs[python]~=3.1.0rc0->hopsworks==3.1.0rc0) (5.1.3)\n",
      "Requirement already satisfied: scipy>=0.19.0 in /home/jdowling/.local/lib/python3.9/site-packages (from great-expectations==0.14.12->hsfs[python]~=3.1.0rc0->hopsworks==3.1.0rc0) (1.7.3)\n",
      "Requirement already satisfied: jinja2<3.1.0,>=2.10 in /home/jdowling/anaconda3/lib/python3.9/site-packages (from great-expectations==0.14.12->hsfs[python]~=3.1.0rc0->hopsworks==3.1.0rc0) (3.0.3)\n",
      "Requirement already satisfied: importlib-metadata>=1.7.0 in /home/jdowling/anaconda3/lib/python3.9/site-packages (from great-expectations==0.14.12->hsfs[python]~=3.1.0rc0->hopsworks==3.1.0rc0) (5.0.0)\n",
      "Requirement already satisfied: pytz>=2021.3 in /home/jdowling/anaconda3/lib/python3.9/site-packages (from great-expectations==0.14.12->hsfs[python]~=3.1.0rc0->hopsworks==3.1.0rc0) (2021.3)\n",
      "Requirement already satisfied: packaging in /home/jdowling/.local/lib/python3.9/site-packages (from great-expectations==0.14.12->hsfs[python]~=3.1.0rc0->hopsworks==3.1.0rc0) (21.3)\n",
      "Requirement already satisfied: jsonschema>=2.5.1 in /home/jdowling/anaconda3/lib/python3.9/site-packages (from great-expectations==0.14.12->hsfs[python]~=3.1.0rc0->hopsworks==3.1.0rc0) (3.2.0)\n",
      "Requirement already satisfied: typing-extensions>=3.10.0.0 in /home/jdowling/anaconda3/lib/python3.9/site-packages (from great-expectations==0.14.12->hsfs[python]~=3.1.0rc0->hopsworks==3.1.0rc0) (4.5.0)\n",
      "Requirement already satisfied: ipywidgets>=7.5.1 in /home/jdowling/.local/lib/python3.9/site-packages (from great-expectations==0.14.12->hsfs[python]~=3.1.0rc0->hopsworks==3.1.0rc0) (7.6.5)\n",
      "Requirement already satisfied: mistune<2.0.0,>=0.8.4 in /home/jdowling/anaconda3/lib/python3.9/site-packages (from great-expectations==0.14.12->hsfs[python]~=3.1.0rc0->hopsworks==3.1.0rc0) (0.8.4)\n",
      "Requirement already satisfied: pyparsing<3,>=2.4 in /home/jdowling/anaconda3/lib/python3.9/site-packages (from great-expectations==0.14.12->hsfs[python]~=3.1.0rc0->hopsworks==3.1.0rc0) (2.4.7)\n",
      "Requirement already satisfied: urllib3<1.27,>=1.25.4 in /home/jdowling/anaconda3/lib/python3.9/site-packages (from great-expectations==0.14.12->hsfs[python]~=3.1.0rc0->hopsworks==3.1.0rc0) (1.26.12)\n",
      "Requirement already satisfied: Click>=7.1.2 in /home/jdowling/anaconda3/lib/python3.9/site-packages (from great-expectations==0.14.12->hsfs[python]~=3.1.0rc0->hopsworks==3.1.0rc0) (8.1.3)\n",
      "Requirement already satisfied: cryptography>=3.2 in /home/jdowling/anaconda3/lib/python3.9/site-packages (from great-expectations==0.14.12->hsfs[python]~=3.1.0rc0->hopsworks==3.1.0rc0) (3.4.8)\n",
      "Requirement already satisfied: colorama>=0.4.3 in /home/jdowling/anaconda3/lib/python3.9/site-packages (from great-expectations==0.14.12->hsfs[python]~=3.1.0rc0->hopsworks==3.1.0rc0) (0.4.4)\n",
      "Requirement already satisfied: termcolor>=1.1.0 in /home/jdowling/.local/lib/python3.9/site-packages (from great-expectations==0.14.12->hsfs[python]~=3.1.0rc0->hopsworks==3.1.0rc0) (1.1.0)\n",
      "Requirement already satisfied: python-dateutil>=2.8.1 in /home/jdowling/anaconda3/lib/python3.9/site-packages (from great-expectations==0.14.12->hsfs[python]~=3.1.0rc0->hopsworks==3.1.0rc0) (2.8.2)\n",
      "Requirement already satisfied: jsonpatch>=1.22 in /home/jdowling/.local/lib/python3.9/site-packages (from great-expectations==0.14.12->hsfs[python]~=3.1.0rc0->hopsworks==3.1.0rc0) (1.32)\n",
      "Requirement already satisfied: toolz in /home/jdowling/.local/lib/python3.9/site-packages (from altair<5,>=4.0.0->great-expectations==0.14.12->hsfs[python]~=3.1.0rc0->hopsworks==3.1.0rc0) (0.11.2)\n",
      "Requirement already satisfied: entrypoints in /home/jdowling/anaconda3/lib/python3.9/site-packages (from altair<5,>=4.0.0->great-expectations==0.14.12->hsfs[python]~=3.1.0rc0->hopsworks==3.1.0rc0) (0.3)\n",
      "Requirement already satisfied: cffi>=1.12 in /home/jdowling/.local/lib/python3.9/site-packages (from cryptography>=3.2->great-expectations==0.14.12->hsfs[python]~=3.1.0rc0->hopsworks==3.1.0rc0) (1.15.0)\n",
      "Requirement already satisfied: pycparser in /home/jdowling/.local/lib/python3.9/site-packages (from cffi>=1.12->cryptography>=3.2->great-expectations==0.14.12->hsfs[python]~=3.1.0rc0->hopsworks==3.1.0rc0) (2.21)\n"
     ]
    },
    {
     "name": "stdout",
     "output_type": "stream",
     "text": [
      "Requirement already satisfied: cachetools<6.0,>=2.0.0 in /home/jdowling/anaconda3/lib/python3.9/site-packages (from google-auth>=1.2->gcsfs==2022.7.1->hsfs[python]~=3.1.0rc0->hopsworks==3.1.0rc0) (4.2.4)\n",
      "Requirement already satisfied: rsa<5,>=3.1.4 in /home/jdowling/anaconda3/lib/python3.9/site-packages (from google-auth>=1.2->gcsfs==2022.7.1->hsfs[python]~=3.1.0rc0->hopsworks==3.1.0rc0) (4.8)\n",
      "Requirement already satisfied: six>=1.9.0 in /home/jdowling/anaconda3/lib/python3.9/site-packages (from google-auth>=1.2->gcsfs==2022.7.1->hsfs[python]~=3.1.0rc0->hopsworks==3.1.0rc0) (1.15.0)\n",
      "Requirement already satisfied: pyasn1-modules>=0.2.1 in /home/jdowling/.local/lib/python3.9/site-packages (from google-auth>=1.2->gcsfs==2022.7.1->hsfs[python]~=3.1.0rc0->hopsworks==3.1.0rc0) (0.2.8)\n",
      "Requirement already satisfied: zipp>=0.5 in /home/jdowling/anaconda3/lib/python3.9/site-packages (from importlib-metadata>=1.7.0->great-expectations==0.14.12->hsfs[python]~=3.1.0rc0->hopsworks==3.1.0rc0) (3.10.0)\n",
      "Requirement already satisfied: jupyterlab-widgets>=1.0.0 in /home/jdowling/.local/lib/python3.9/site-packages (from ipywidgets>=7.5.1->great-expectations==0.14.12->hsfs[python]~=3.1.0rc0->hopsworks==3.1.0rc0) (1.0.2)\n",
      "Requirement already satisfied: ipython>=4.0.0 in /home/jdowling/anaconda3/lib/python3.9/site-packages (from ipywidgets>=7.5.1->great-expectations==0.14.12->hsfs[python]~=3.1.0rc0->hopsworks==3.1.0rc0) (7.29.0)\n",
      "Requirement already satisfied: traitlets>=4.3.1 in /home/jdowling/anaconda3/lib/python3.9/site-packages (from ipywidgets>=7.5.1->great-expectations==0.14.12->hsfs[python]~=3.1.0rc0->hopsworks==3.1.0rc0) (5.1.0)\n",
      "Requirement already satisfied: widgetsnbextension~=3.5.0 in /home/jdowling/.local/lib/python3.9/site-packages (from ipywidgets>=7.5.1->great-expectations==0.14.12->hsfs[python]~=3.1.0rc0->hopsworks==3.1.0rc0) (3.5.2)\n",
      "Requirement already satisfied: ipython-genutils~=0.2.0 in /home/jdowling/anaconda3/lib/python3.9/site-packages (from ipywidgets>=7.5.1->great-expectations==0.14.12->hsfs[python]~=3.1.0rc0->hopsworks==3.1.0rc0) (0.2.0)\n",
      "Requirement already satisfied: ipykernel>=4.5.1 in /home/jdowling/anaconda3/lib/python3.9/site-packages (from ipywidgets>=7.5.1->great-expectations==0.14.12->hsfs[python]~=3.1.0rc0->hopsworks==3.1.0rc0) (6.4.1)\n",
      "Requirement already satisfied: jupyter-client<8.0 in /home/jdowling/anaconda3/lib/python3.9/site-packages (from ipykernel>=4.5.1->ipywidgets>=7.5.1->great-expectations==0.14.12->hsfs[python]~=3.1.0rc0->hopsworks==3.1.0rc0) (6.1.12)\n",
      "Requirement already satisfied: tornado<7.0,>=4.2 in /home/jdowling/anaconda3/lib/python3.9/site-packages (from ipykernel>=4.5.1->ipywidgets>=7.5.1->great-expectations==0.14.12->hsfs[python]~=3.1.0rc0->hopsworks==3.1.0rc0) (6.1)\n",
      "Requirement already satisfied: matplotlib-inline<0.2.0,>=0.1.0 in /home/jdowling/anaconda3/lib/python3.9/site-packages (from ipykernel>=4.5.1->ipywidgets>=7.5.1->great-expectations==0.14.12->hsfs[python]~=3.1.0rc0->hopsworks==3.1.0rc0) (0.1.2)\n",
      "Requirement already satisfied: debugpy<2.0,>=1.0.0 in /home/jdowling/anaconda3/lib/python3.9/site-packages (from ipykernel>=4.5.1->ipywidgets>=7.5.1->great-expectations==0.14.12->hsfs[python]~=3.1.0rc0->hopsworks==3.1.0rc0) (1.4.1)\n",
      "Requirement already satisfied: setuptools>=18.5 in /home/jdowling/anaconda3/lib/python3.9/site-packages (from ipython>=4.0.0->ipywidgets>=7.5.1->great-expectations==0.14.12->hsfs[python]~=3.1.0rc0->hopsworks==3.1.0rc0) (58.0.4)\n",
      "Requirement already satisfied: pygments in /home/jdowling/anaconda3/lib/python3.9/site-packages (from ipython>=4.0.0->ipywidgets>=7.5.1->great-expectations==0.14.12->hsfs[python]~=3.1.0rc0->hopsworks==3.1.0rc0) (2.13.0)\n",
      "Requirement already satisfied: pickleshare in /home/jdowling/anaconda3/lib/python3.9/site-packages (from ipython>=4.0.0->ipywidgets>=7.5.1->great-expectations==0.14.12->hsfs[python]~=3.1.0rc0->hopsworks==3.1.0rc0) (0.7.5)\n",
      "Requirement already satisfied: backcall in /home/jdowling/anaconda3/lib/python3.9/site-packages (from ipython>=4.0.0->ipywidgets>=7.5.1->great-expectations==0.14.12->hsfs[python]~=3.1.0rc0->hopsworks==3.1.0rc0) (0.2.0)\n",
      "Requirement already satisfied: pexpect>4.3 in /home/jdowling/anaconda3/lib/python3.9/site-packages (from ipython>=4.0.0->ipywidgets>=7.5.1->great-expectations==0.14.12->hsfs[python]~=3.1.0rc0->hopsworks==3.1.0rc0) (4.8.0)\n",
      "Requirement already satisfied: prompt-toolkit!=3.0.0,!=3.0.1,<3.1.0,>=2.0.0 in /home/jdowling/anaconda3/lib/python3.9/site-packages (from ipython>=4.0.0->ipywidgets>=7.5.1->great-expectations==0.14.12->hsfs[python]~=3.1.0rc0->hopsworks==3.1.0rc0) (3.0.20)\n",
      "Requirement already satisfied: jedi>=0.16 in /home/jdowling/anaconda3/lib/python3.9/site-packages (from ipython>=4.0.0->ipywidgets>=7.5.1->great-expectations==0.14.12->hsfs[python]~=3.1.0rc0->hopsworks==3.1.0rc0) (0.18.0)\n",
      "Requirement already satisfied: parso<0.9.0,>=0.8.0 in /home/jdowling/anaconda3/lib/python3.9/site-packages (from jedi>=0.16->ipython>=4.0.0->ipywidgets>=7.5.1->great-expectations==0.14.12->hsfs[python]~=3.1.0rc0->hopsworks==3.1.0rc0) (0.8.2)\n",
      "Requirement already satisfied: jsonpointer>=1.9 in /home/jdowling/.local/lib/python3.9/site-packages (from jsonpatch>=1.22->great-expectations==0.14.12->hsfs[python]~=3.1.0rc0->hopsworks==3.1.0rc0) (2.2)\n",
      "Requirement already satisfied: attrs>=17.4.0 in /home/jdowling/anaconda3/lib/python3.9/site-packages (from jsonschema>=2.5.1->great-expectations==0.14.12->hsfs[python]~=3.1.0rc0->hopsworks==3.1.0rc0) (22.1.0)\n",
      "Requirement already satisfied: pyrsistent>=0.14.0 in /home/jdowling/anaconda3/lib/python3.9/site-packages (from jsonschema>=2.5.1->great-expectations==0.14.12->hsfs[python]~=3.1.0rc0->hopsworks==3.1.0rc0) (0.18.0)\n",
      "Requirement already satisfied: pyzmq>=13 in /home/jdowling/anaconda3/lib/python3.9/site-packages (from jupyter-client<8.0->ipykernel>=4.5.1->ipywidgets>=7.5.1->great-expectations==0.14.12->hsfs[python]~=3.1.0rc0->hopsworks==3.1.0rc0) (22.2.1)\n",
      "Requirement already satisfied: jupyter-core>=4.6.0 in /home/jdowling/anaconda3/lib/python3.9/site-packages (from jupyter-client<8.0->ipykernel>=4.5.1->ipywidgets>=7.5.1->great-expectations==0.14.12->hsfs[python]~=3.1.0rc0->hopsworks==3.1.0rc0) (4.8.1)\n",
      "Requirement already satisfied: ptyprocess>=0.5 in /home/jdowling/anaconda3/lib/python3.9/site-packages (from pexpect>4.3->ipython>=4.0.0->ipywidgets>=7.5.1->great-expectations==0.14.12->hsfs[python]~=3.1.0rc0->hopsworks==3.1.0rc0) (0.7.0)\n",
      "Requirement already satisfied: wcwidth in /home/jdowling/anaconda3/lib/python3.9/site-packages (from prompt-toolkit!=3.0.0,!=3.0.1,<3.1.0,>=2.0.0->ipython>=4.0.0->ipywidgets>=7.5.1->great-expectations==0.14.12->hsfs[python]~=3.1.0rc0->hopsworks==3.1.0rc0) (0.2.5)\n",
      "Requirement already satisfied: pyasn1<0.5.0,>=0.4.6 in /home/jdowling/.local/lib/python3.9/site-packages (from pyasn1-modules>=0.2.1->google-auth>=1.2->gcsfs==2022.7.1->hsfs[python]~=3.1.0rc0->hopsworks==3.1.0rc0) (0.4.8)\n",
      "Requirement already satisfied: idna<3,>=2.5 in /home/jdowling/anaconda3/lib/python3.9/site-packages (from requests->hopsworks==3.1.0rc0) (2.10)\n",
      "Requirement already satisfied: chardet<5,>=3.0.2 in /home/jdowling/anaconda3/lib/python3.9/site-packages (from requests->hopsworks==3.1.0rc0) (4.0.0)\n",
      "Requirement already satisfied: certifi>=2017.4.17 in /home/jdowling/anaconda3/lib/python3.9/site-packages (from requests->hopsworks==3.1.0rc0) (2022.9.24)\n",
      "Requirement already satisfied: ruamel.yaml.clib>=0.1.2 in /home/jdowling/.local/lib/python3.9/site-packages (from ruamel.yaml<0.17.18,>=0.16->great-expectations==0.14.12->hsfs[python]~=3.1.0rc0->hopsworks==3.1.0rc0) (0.2.6)\n",
      "Requirement already satisfied: notebook>=4.4.1 in /home/jdowling/anaconda3/lib/python3.9/site-packages (from widgetsnbextension~=3.5.0->ipywidgets>=7.5.1->great-expectations==0.14.12->hsfs[python]~=3.1.0rc0->hopsworks==3.1.0rc0) (6.4.12)\n",
      "Requirement already satisfied: nest-asyncio>=1.5 in /home/jdowling/.local/lib/python3.9/site-packages (from notebook>=4.4.1->widgetsnbextension~=3.5.0->ipywidgets>=7.5.1->great-expectations==0.14.12->hsfs[python]~=3.1.0rc0->hopsworks==3.1.0rc0) (1.5.5)\n",
      "Requirement already satisfied: terminado>=0.8.3 in /home/jdowling/anaconda3/lib/python3.9/site-packages (from notebook>=4.4.1->widgetsnbextension~=3.5.0->ipywidgets>=7.5.1->great-expectations==0.14.12->hsfs[python]~=3.1.0rc0->hopsworks==3.1.0rc0) (0.9.4)\n",
      "Requirement already satisfied: nbconvert>=5 in /home/jdowling/anaconda3/lib/python3.9/site-packages (from notebook>=4.4.1->widgetsnbextension~=3.5.0->ipywidgets>=7.5.1->great-expectations==0.14.12->hsfs[python]~=3.1.0rc0->hopsworks==3.1.0rc0) (6.4.5)\n",
      "Requirement already satisfied: argon2-cffi in /home/jdowling/anaconda3/lib/python3.9/site-packages (from notebook>=4.4.1->widgetsnbextension~=3.5.0->ipywidgets>=7.5.1->great-expectations==0.14.12->hsfs[python]~=3.1.0rc0->hopsworks==3.1.0rc0) (20.1.0)\n",
      "Requirement already satisfied: prometheus-client in /home/jdowling/anaconda3/lib/python3.9/site-packages (from notebook>=4.4.1->widgetsnbextension~=3.5.0->ipywidgets>=7.5.1->great-expectations==0.14.12->hsfs[python]~=3.1.0rc0->hopsworks==3.1.0rc0) (0.11.0)\n",
      "Requirement already satisfied: Send2Trash>=1.8.0 in /home/jdowling/anaconda3/lib/python3.9/site-packages (from notebook>=4.4.1->widgetsnbextension~=3.5.0->ipywidgets>=7.5.1->great-expectations==0.14.12->hsfs[python]~=3.1.0rc0->hopsworks==3.1.0rc0) (1.8.0)\n",
      "Requirement already satisfied: nbclient<0.6.0,>=0.5.0 in /home/jdowling/.local/lib/python3.9/site-packages (from nbconvert>=5->notebook>=4.4.1->widgetsnbextension~=3.5.0->ipywidgets>=7.5.1->great-expectations==0.14.12->hsfs[python]~=3.1.0rc0->hopsworks==3.1.0rc0) (0.5.13)\n",
      "Requirement already satisfied: bleach in /home/jdowling/anaconda3/lib/python3.9/site-packages (from nbconvert>=5->notebook>=4.4.1->widgetsnbextension~=3.5.0->ipywidgets>=7.5.1->great-expectations==0.14.12->hsfs[python]~=3.1.0rc0->hopsworks==3.1.0rc0) (4.0.0)\n",
      "Requirement already satisfied: pandocfilters>=1.4.1 in /home/jdowling/anaconda3/lib/python3.9/site-packages (from nbconvert>=5->notebook>=4.4.1->widgetsnbextension~=3.5.0->ipywidgets>=7.5.1->great-expectations==0.14.12->hsfs[python]~=3.1.0rc0->hopsworks==3.1.0rc0) (1.4.3)\n",
      "Requirement already satisfied: jupyterlab-pygments in /home/jdowling/anaconda3/lib/python3.9/site-packages (from nbconvert>=5->notebook>=4.4.1->widgetsnbextension~=3.5.0->ipywidgets>=7.5.1->great-expectations==0.14.12->hsfs[python]~=3.1.0rc0->hopsworks==3.1.0rc0) (0.1.2)\n",
      "Requirement already satisfied: testpath in /home/jdowling/anaconda3/lib/python3.9/site-packages (from nbconvert>=5->notebook>=4.4.1->widgetsnbextension~=3.5.0->ipywidgets>=7.5.1->great-expectations==0.14.12->hsfs[python]~=3.1.0rc0->hopsworks==3.1.0rc0) (0.5.0)\n",
      "Requirement already satisfied: defusedxml in /home/jdowling/anaconda3/lib/python3.9/site-packages (from nbconvert>=5->notebook>=4.4.1->widgetsnbextension~=3.5.0->ipywidgets>=7.5.1->great-expectations==0.14.12->hsfs[python]~=3.1.0rc0->hopsworks==3.1.0rc0) (0.7.1)\n",
      "Requirement already satisfied: beautifulsoup4 in /home/jdowling/.local/lib/python3.9/site-packages (from nbconvert>=5->notebook>=4.4.1->widgetsnbextension~=3.5.0->ipywidgets>=7.5.1->great-expectations==0.14.12->hsfs[python]~=3.1.0rc0->hopsworks==3.1.0rc0) (4.10.0)\n"
     ]
    },
    {
     "name": "stdout",
     "output_type": "stream",
     "text": [
      "Requirement already satisfied: charset-normalizer<3.0,>=2.0 in /home/jdowling/anaconda3/lib/python3.9/site-packages (from aiohttp->gcsfs==2022.7.1->hsfs[python]~=3.1.0rc0->hopsworks==3.1.0rc0) (2.0.12)\n",
      "Requirement already satisfied: aiosignal>=1.1.2 in /home/jdowling/anaconda3/lib/python3.9/site-packages (from aiohttp->gcsfs==2022.7.1->hsfs[python]~=3.1.0rc0->hopsworks==3.1.0rc0) (1.2.0)\n",
      "Requirement already satisfied: yarl<2.0,>=1.0 in /home/jdowling/anaconda3/lib/python3.9/site-packages (from aiohttp->gcsfs==2022.7.1->hsfs[python]~=3.1.0rc0->hopsworks==3.1.0rc0) (1.8.1)\n",
      "Requirement already satisfied: multidict<7.0,>=4.5 in /home/jdowling/anaconda3/lib/python3.9/site-packages (from aiohttp->gcsfs==2022.7.1->hsfs[python]~=3.1.0rc0->hopsworks==3.1.0rc0) (6.0.2)\n",
      "Requirement already satisfied: async-timeout<5.0,>=4.0.0a3 in /home/jdowling/anaconda3/lib/python3.9/site-packages (from aiohttp->gcsfs==2022.7.1->hsfs[python]~=3.1.0rc0->hopsworks==3.1.0rc0) (4.0.2)\n",
      "Requirement already satisfied: frozenlist>=1.1.1 in /home/jdowling/anaconda3/lib/python3.9/site-packages (from aiohttp->gcsfs==2022.7.1->hsfs[python]~=3.1.0rc0->hopsworks==3.1.0rc0) (1.3.1)\n",
      "Requirement already satisfied: soupsieve>1.2 in /home/jdowling/.local/lib/python3.9/site-packages (from beautifulsoup4->nbconvert>=5->notebook>=4.4.1->widgetsnbextension~=3.5.0->ipywidgets>=7.5.1->great-expectations==0.14.12->hsfs[python]~=3.1.0rc0->hopsworks==3.1.0rc0) (2.3.1)\n",
      "Requirement already satisfied: webencodings in /home/jdowling/anaconda3/lib/python3.9/site-packages (from bleach->nbconvert>=5->notebook>=4.4.1->widgetsnbextension~=3.5.0->ipywidgets>=7.5.1->great-expectations==0.14.12->hsfs[python]~=3.1.0rc0->hopsworks==3.1.0rc0) (0.5.1)\n",
      "Requirement already satisfied: botocore<1.24.0,>=1.23.24 in /home/jdowling/.local/lib/python3.9/site-packages (from boto3->hopsworks==3.1.0rc0) (1.23.24)\n",
      "Requirement already satisfied: jmespath<1.0.0,>=0.7.1 in /home/jdowling/.local/lib/python3.9/site-packages (from boto3->hopsworks==3.1.0rc0) (0.10.0)\n",
      "Requirement already satisfied: s3transfer<0.6.0,>=0.5.0 in /home/jdowling/.local/lib/python3.9/site-packages (from boto3->hopsworks==3.1.0rc0) (0.5.0)\n",
      "Requirement already satisfied: orderedmultidict>=1.0.1 in /home/jdowling/.local/lib/python3.9/site-packages (from furl->hopsworks==3.1.0rc0) (1.0.1)\n",
      "Requirement already satisfied: requests-oauthlib>=0.7.0 in /home/jdowling/anaconda3/lib/python3.9/site-packages (from google-auth-oauthlib->gcsfs==2022.7.1->hsfs[python]~=3.1.0rc0->hopsworks==3.1.0rc0) (1.3.1)\n",
      "Requirement already satisfied: oauthlib>=3.0.0 in /home/jdowling/anaconda3/lib/python3.9/site-packages (from requests-oauthlib>=0.7.0->google-auth-oauthlib->gcsfs==2022.7.1->hsfs[python]~=3.1.0rc0->hopsworks==3.1.0rc0) (3.2.0)\n",
      "Requirement already satisfied: google-api-core!=2.0.*,!=2.1.*,!=2.2.*,!=2.3.0,<3.0.0dev,>=1.31.5 in /home/jdowling/anaconda3/lib/python3.9/site-packages (from google-cloud-storage->gcsfs==2022.7.1->hsfs[python]~=3.1.0rc0->hopsworks==3.1.0rc0) (2.11.0)\n",
      "Requirement already satisfied: google-resumable-media>=2.3.2 in /home/jdowling/anaconda3/lib/python3.9/site-packages (from google-cloud-storage->gcsfs==2022.7.1->hsfs[python]~=3.1.0rc0->hopsworks==3.1.0rc0) (2.4.0)\n",
      "Requirement already satisfied: google-cloud-core<3.0dev,>=2.3.0 in /home/jdowling/anaconda3/lib/python3.9/site-packages (from google-cloud-storage->gcsfs==2022.7.1->hsfs[python]~=3.1.0rc0->hopsworks==3.1.0rc0) (2.3.2)\n",
      "Requirement already satisfied: googleapis-common-protos<2.0dev,>=1.56.2 in /home/jdowling/anaconda3/lib/python3.9/site-packages (from google-api-core!=2.0.*,!=2.1.*,!=2.2.*,!=2.3.0,<3.0.0dev,>=1.31.5->google-cloud-storage->gcsfs==2022.7.1->hsfs[python]~=3.1.0rc0->hopsworks==3.1.0rc0) (1.58.0)\n",
      "Requirement already satisfied: protobuf!=3.20.0,!=3.20.1,!=4.21.0,!=4.21.1,!=4.21.2,!=4.21.3,!=4.21.4,!=4.21.5,<5.0.0dev,>=3.19.5 in /home/jdowling/anaconda3/lib/python3.9/site-packages (from google-api-core!=2.0.*,!=2.1.*,!=2.2.*,!=2.3.0,<3.0.0dev,>=1.31.5->google-cloud-storage->gcsfs==2022.7.1->hsfs[python]~=3.1.0rc0->hopsworks==3.1.0rc0) (3.19.6)\n",
      "Requirement already satisfied: google-crc32c<2.0dev,>=1.0 in /home/jdowling/anaconda3/lib/python3.9/site-packages (from google-resumable-media>=2.3.2->google-cloud-storage->gcsfs==2022.7.1->hsfs[python]~=3.1.0rc0->hopsworks==3.1.0rc0) (1.5.0)\n",
      "Requirement already satisfied: future in /home/jdowling/anaconda3/lib/python3.9/site-packages (from pyhopshive[thrift]->hsfs[python]~=3.1.0rc0->hopsworks==3.1.0rc0) (0.18.2)\n",
      "Requirement already satisfied: thrift>=0.10.0 in /home/jdowling/.local/lib/python3.9/site-packages (from pyhopshive[thrift]->hsfs[python]~=3.1.0rc0->hopsworks==3.1.0rc0) (0.16.0)\n",
      "Requirement already satisfied: javaobj-py3 in /home/jdowling/.local/lib/python3.9/site-packages (from pyjks->hopsworks==3.1.0rc0) (0.4.3)\n",
      "Requirement already satisfied: twofish in /home/jdowling/.local/lib/python3.9/site-packages (from pyjks->hopsworks==3.1.0rc0) (0.3.0)\n",
      "Requirement already satisfied: pycryptodomex in /home/jdowling/.local/lib/python3.9/site-packages (from pyjks->hopsworks==3.1.0rc0) (3.12.0)\n",
      "Requirement already satisfied: greenlet!=0.4.17 in /home/jdowling/.local/lib/python3.9/site-packages (from sqlalchemy->hsfs[python]~=3.1.0rc0->hopsworks==3.1.0rc0) (1.1.2)\n"
     ]
    }
   ],
   "source": [
    "#!pip uninstall hopsworks -y\n",
    "!pip install hopsworks==3.1.0rc0"
   ]
  },
  {
   "cell_type": "code",
   "execution_count": 2,
   "id": "9cb24c87",
   "metadata": {
    "_kg_hide-input": true,
    "execution": {
     "iopub.execute_input": "2023-01-31T14:11:35.164738Z",
     "iopub.status.busy": "2023-01-31T14:11:35.163899Z",
     "iopub.status.idle": "2023-01-31T14:11:44.332161Z",
     "shell.execute_reply": "2023-01-31T14:11:44.331116Z"
    },
    "papermill": {
     "duration": 9.198485,
     "end_time": "2023-01-31T14:11:44.334641",
     "exception": false,
     "start_time": "2023-01-31T14:11:35.136156",
     "status": "completed"
    },
    "tags": []
   },
   "outputs": [],
   "source": [
    "import pandas as pd\n",
    "import numpy as np\n",
    "\n",
    "pd.set_option('display.float', '{:.2f}'.format)\n",
    "pd.set_option('display.max_columns', 50)\n",
    "pd.set_option('display.max_rows', 50)"
   ]
  },
  {
   "cell_type": "code",
   "execution_count": 3,
   "id": "276d0ec7",
   "metadata": {
    "execution": {
     "iopub.execute_input": "2023-01-31T14:11:44.602805Z",
     "iopub.status.busy": "2023-01-31T14:11:44.602108Z",
     "iopub.status.idle": "2023-01-31T14:11:47.931616Z",
     "shell.execute_reply": "2023-01-31T14:11:47.930713Z"
    },
    "papermill": {
     "duration": 3.467387,
     "end_time": "2023-01-31T14:11:47.933929",
     "exception": false,
     "start_time": "2023-01-31T14:11:44.466542",
     "status": "completed"
    },
    "tags": []
   },
   "outputs": [
    {
     "data": {
      "text/html": [
       "<div>\n",
       "<style scoped>\n",
       "    .dataframe tbody tr th:only-of-type {\n",
       "        vertical-align: middle;\n",
       "    }\n",
       "\n",
       "    .dataframe tbody tr th {\n",
       "        vertical-align: top;\n",
       "    }\n",
       "\n",
       "    .dataframe thead th {\n",
       "        text-align: right;\n",
       "    }\n",
       "</style>\n",
       "<table border=\"1\" class=\"dataframe\">\n",
       "  <thead>\n",
       "    <tr style=\"text-align: right;\">\n",
       "      <th></th>\n",
       "      <th>id</th>\n",
       "      <th>loan_amnt</th>\n",
       "      <th>term</th>\n",
       "      <th>int_rate</th>\n",
       "      <th>installment</th>\n",
       "      <th>grade</th>\n",
       "      <th>sub_grade</th>\n",
       "      <th>issue_d</th>\n",
       "      <th>loan_status</th>\n",
       "      <th>purpose</th>\n",
       "      <th>title</th>\n",
       "      <th>address</th>\n",
       "    </tr>\n",
       "  </thead>\n",
       "  <tbody>\n",
       "    <tr>\n",
       "      <th>0</th>\n",
       "      <td>0</td>\n",
       "      <td>10000.00</td>\n",
       "      <td>36 months</td>\n",
       "      <td>11.44</td>\n",
       "      <td>329.48</td>\n",
       "      <td>B</td>\n",
       "      <td>B4</td>\n",
       "      <td>Jan-2015</td>\n",
       "      <td>Fully Paid</td>\n",
       "      <td>vacation</td>\n",
       "      <td>Vacation</td>\n",
       "      <td>0174 Michelle Gateway\\r\\nMendozaberg, OK 22690</td>\n",
       "    </tr>\n",
       "    <tr>\n",
       "      <th>1</th>\n",
       "      <td>1</td>\n",
       "      <td>8000.00</td>\n",
       "      <td>36 months</td>\n",
       "      <td>11.99</td>\n",
       "      <td>265.68</td>\n",
       "      <td>B</td>\n",
       "      <td>B5</td>\n",
       "      <td>Jan-2015</td>\n",
       "      <td>Fully Paid</td>\n",
       "      <td>debt_consolidation</td>\n",
       "      <td>Debt consolidation</td>\n",
       "      <td>1076 Carney Fort Apt. 347\\r\\nLoganmouth, SD 05113</td>\n",
       "    </tr>\n",
       "    <tr>\n",
       "      <th>2</th>\n",
       "      <td>2</td>\n",
       "      <td>15600.00</td>\n",
       "      <td>36 months</td>\n",
       "      <td>10.49</td>\n",
       "      <td>506.97</td>\n",
       "      <td>B</td>\n",
       "      <td>B3</td>\n",
       "      <td>Jan-2015</td>\n",
       "      <td>Fully Paid</td>\n",
       "      <td>credit_card</td>\n",
       "      <td>Credit card refinancing</td>\n",
       "      <td>87025 Mark Dale Apt. 269\\r\\nNew Sabrina, WV 05113</td>\n",
       "    </tr>\n",
       "    <tr>\n",
       "      <th>3</th>\n",
       "      <td>3</td>\n",
       "      <td>7200.00</td>\n",
       "      <td>36 months</td>\n",
       "      <td>6.49</td>\n",
       "      <td>220.65</td>\n",
       "      <td>A</td>\n",
       "      <td>A2</td>\n",
       "      <td>Nov-2014</td>\n",
       "      <td>Fully Paid</td>\n",
       "      <td>credit_card</td>\n",
       "      <td>Credit card refinancing</td>\n",
       "      <td>823 Reid Ford\\r\\nDelacruzside, MA 00813</td>\n",
       "    </tr>\n",
       "    <tr>\n",
       "      <th>4</th>\n",
       "      <td>4</td>\n",
       "      <td>24375.00</td>\n",
       "      <td>60 months</td>\n",
       "      <td>17.27</td>\n",
       "      <td>609.33</td>\n",
       "      <td>C</td>\n",
       "      <td>C5</td>\n",
       "      <td>Apr-2013</td>\n",
       "      <td>Charged Off</td>\n",
       "      <td>credit_card</td>\n",
       "      <td>Credit Card Refinance</td>\n",
       "      <td>679 Luna Roads\\r\\nGreggshire, VA 11650</td>\n",
       "    </tr>\n",
       "  </tbody>\n",
       "</table>\n",
       "</div>"
      ],
      "text/plain": [
       "   id  loan_amnt        term  int_rate  installment grade sub_grade   issue_d  \\\n",
       "0   0   10000.00   36 months     11.44       329.48     B        B4  Jan-2015   \n",
       "1   1    8000.00   36 months     11.99       265.68     B        B5  Jan-2015   \n",
       "2   2   15600.00   36 months     10.49       506.97     B        B3  Jan-2015   \n",
       "3   3    7200.00   36 months      6.49       220.65     A        A2  Nov-2014   \n",
       "4   4   24375.00   60 months     17.27       609.33     C        C5  Apr-2013   \n",
       "\n",
       "   loan_status             purpose                    title  \\\n",
       "0   Fully Paid            vacation                 Vacation   \n",
       "1   Fully Paid  debt_consolidation       Debt consolidation   \n",
       "2   Fully Paid         credit_card  Credit card refinancing   \n",
       "3   Fully Paid         credit_card  Credit card refinancing   \n",
       "4  Charged Off         credit_card    Credit Card Refinance   \n",
       "\n",
       "                                             address  \n",
       "0     0174 Michelle Gateway\\r\\nMendozaberg, OK 22690  \n",
       "1  1076 Carney Fort Apt. 347\\r\\nLoganmouth, SD 05113  \n",
       "2  87025 Mark Dale Apt. 269\\r\\nNew Sabrina, WV 05113  \n",
       "3            823 Reid Ford\\r\\nDelacruzside, MA 00813  \n",
       "4             679 Luna Roads\\r\\nGreggshire, VA 11650  "
      ]
     },
     "execution_count": 3,
     "metadata": {},
     "output_type": "execute_result"
    }
   ],
   "source": [
    "loans_df = pd.read_parquet(\"https://repo.hops.works/dev/jdowling/loans.parquet\")\n",
    "loans_df.head()"
   ]
  },
  {
   "cell_type": "code",
   "execution_count": 4,
   "id": "d0def3d9",
   "metadata": {
    "execution": {
     "iopub.execute_input": "2023-01-31T14:11:48.208667Z",
     "iopub.status.busy": "2023-01-31T14:11:48.208157Z",
     "iopub.status.idle": "2023-01-31T14:11:48.428818Z",
     "shell.execute_reply": "2023-01-31T14:11:48.427863Z"
    },
    "papermill": {
     "duration": 0.360858,
     "end_time": "2023-01-31T14:11:48.431029",
     "exception": false,
     "start_time": "2023-01-31T14:11:48.070171",
     "status": "completed"
    },
    "scrolled": true,
    "tags": []
   },
   "outputs": [
    {
     "data": {
      "text/html": [
       "<div>\n",
       "<style scoped>\n",
       "    .dataframe tbody tr th:only-of-type {\n",
       "        vertical-align: middle;\n",
       "    }\n",
       "\n",
       "    .dataframe tbody tr th {\n",
       "        vertical-align: top;\n",
       "    }\n",
       "\n",
       "    .dataframe thead th {\n",
       "        text-align: right;\n",
       "    }\n",
       "</style>\n",
       "<table border=\"1\" class=\"dataframe\">\n",
       "  <thead>\n",
       "    <tr style=\"text-align: right;\">\n",
       "      <th></th>\n",
       "      <th>id</th>\n",
       "      <th>loan_amnt</th>\n",
       "      <th>int_rate</th>\n",
       "      <th>installment</th>\n",
       "    </tr>\n",
       "  </thead>\n",
       "  <tbody>\n",
       "    <tr>\n",
       "      <th>count</th>\n",
       "      <td>396030.00</td>\n",
       "      <td>396030.00</td>\n",
       "      <td>396030.00</td>\n",
       "      <td>396030.00</td>\n",
       "    </tr>\n",
       "    <tr>\n",
       "      <th>mean</th>\n",
       "      <td>198014.50</td>\n",
       "      <td>14113.89</td>\n",
       "      <td>13.64</td>\n",
       "      <td>431.85</td>\n",
       "    </tr>\n",
       "    <tr>\n",
       "      <th>std</th>\n",
       "      <td>114324.16</td>\n",
       "      <td>8357.44</td>\n",
       "      <td>4.47</td>\n",
       "      <td>250.73</td>\n",
       "    </tr>\n",
       "    <tr>\n",
       "      <th>min</th>\n",
       "      <td>0.00</td>\n",
       "      <td>500.00</td>\n",
       "      <td>5.32</td>\n",
       "      <td>16.08</td>\n",
       "    </tr>\n",
       "    <tr>\n",
       "      <th>25%</th>\n",
       "      <td>99007.25</td>\n",
       "      <td>8000.00</td>\n",
       "      <td>10.49</td>\n",
       "      <td>250.33</td>\n",
       "    </tr>\n",
       "    <tr>\n",
       "      <th>50%</th>\n",
       "      <td>198014.50</td>\n",
       "      <td>12000.00</td>\n",
       "      <td>13.33</td>\n",
       "      <td>375.43</td>\n",
       "    </tr>\n",
       "    <tr>\n",
       "      <th>75%</th>\n",
       "      <td>297021.75</td>\n",
       "      <td>20000.00</td>\n",
       "      <td>16.49</td>\n",
       "      <td>567.30</td>\n",
       "    </tr>\n",
       "    <tr>\n",
       "      <th>max</th>\n",
       "      <td>396029.00</td>\n",
       "      <td>40000.00</td>\n",
       "      <td>30.99</td>\n",
       "      <td>1533.81</td>\n",
       "    </tr>\n",
       "  </tbody>\n",
       "</table>\n",
       "</div>"
      ],
      "text/plain": [
       "             id  loan_amnt  int_rate  installment\n",
       "count 396030.00  396030.00 396030.00    396030.00\n",
       "mean  198014.50   14113.89     13.64       431.85\n",
       "std   114324.16    8357.44      4.47       250.73\n",
       "min        0.00     500.00      5.32        16.08\n",
       "25%    99007.25    8000.00     10.49       250.33\n",
       "50%   198014.50   12000.00     13.33       375.43\n",
       "75%   297021.75   20000.00     16.49       567.30\n",
       "max   396029.00   40000.00     30.99      1533.81"
      ]
     },
     "execution_count": 4,
     "metadata": {},
     "output_type": "execute_result"
    }
   ],
   "source": [
    "loans_df.describe()"
   ]
  },
  {
   "cell_type": "code",
   "execution_count": 5,
   "id": "7d12bfb4",
   "metadata": {},
   "outputs": [
    {
     "name": "stdout",
     "output_type": "stream",
     "text": [
      "<class 'pandas.core.frame.DataFrame'>\n",
      "RangeIndex: 396030 entries, 0 to 396029\n",
      "Data columns (total 12 columns):\n",
      " #   Column       Non-Null Count   Dtype  \n",
      "---  ------       --------------   -----  \n",
      " 0   id           396030 non-null  int64  \n",
      " 1   loan_amnt    396030 non-null  float64\n",
      " 2   term         396030 non-null  object \n",
      " 3   int_rate     396030 non-null  float64\n",
      " 4   installment  396030 non-null  float64\n",
      " 5   grade        396030 non-null  object \n",
      " 6   sub_grade    396030 non-null  object \n",
      " 7   issue_d      396030 non-null  object \n",
      " 8   loan_status  396030 non-null  object \n",
      " 9   purpose      396030 non-null  object \n",
      " 10  title        394275 non-null  object \n",
      " 11  address      396030 non-null  object \n",
      "dtypes: float64(3), int64(1), object(8)\n",
      "memory usage: 36.3+ MB\n"
     ]
    }
   ],
   "source": [
    "loans_df.info()"
   ]
  },
  {
   "cell_type": "code",
   "execution_count": 6,
   "id": "bf64e24d",
   "metadata": {},
   "outputs": [
    {
     "data": {
      "text/html": [
       "<div>\n",
       "<style scoped>\n",
       "    .dataframe tbody tr th:only-of-type {\n",
       "        vertical-align: middle;\n",
       "    }\n",
       "\n",
       "    .dataframe tbody tr th {\n",
       "        vertical-align: top;\n",
       "    }\n",
       "\n",
       "    .dataframe thead th {\n",
       "        text-align: right;\n",
       "    }\n",
       "</style>\n",
       "<table border=\"1\" class=\"dataframe\">\n",
       "  <thead>\n",
       "    <tr style=\"text-align: right;\">\n",
       "      <th></th>\n",
       "      <th>emp_title</th>\n",
       "      <th>emp_length</th>\n",
       "      <th>home_ownership</th>\n",
       "      <th>annual_inc</th>\n",
       "      <th>verification_status</th>\n",
       "      <th>dti</th>\n",
       "      <th>earliest_cr_line</th>\n",
       "      <th>open_acc</th>\n",
       "      <th>pub_rec</th>\n",
       "      <th>revol_bal</th>\n",
       "      <th>revol_util</th>\n",
       "      <th>total_acc</th>\n",
       "      <th>initial_list_status</th>\n",
       "      <th>application_type</th>\n",
       "      <th>mort_acc</th>\n",
       "      <th>pub_rec_bankruptcies</th>\n",
       "      <th>id</th>\n",
       "    </tr>\n",
       "  </thead>\n",
       "  <tbody>\n",
       "    <tr>\n",
       "      <th>0</th>\n",
       "      <td>Marketing</td>\n",
       "      <td>10+ years</td>\n",
       "      <td>RENT</td>\n",
       "      <td>117000.00</td>\n",
       "      <td>Not Verified</td>\n",
       "      <td>26.24</td>\n",
       "      <td>Jun-1990</td>\n",
       "      <td>16.00</td>\n",
       "      <td>0.00</td>\n",
       "      <td>36369.00</td>\n",
       "      <td>41.80</td>\n",
       "      <td>25.00</td>\n",
       "      <td>w</td>\n",
       "      <td>INDIVIDUAL</td>\n",
       "      <td>0.00</td>\n",
       "      <td>0.00</td>\n",
       "      <td>0</td>\n",
       "    </tr>\n",
       "    <tr>\n",
       "      <th>1</th>\n",
       "      <td>Credit analyst</td>\n",
       "      <td>4 years</td>\n",
       "      <td>MORTGAGE</td>\n",
       "      <td>65000.00</td>\n",
       "      <td>Not Verified</td>\n",
       "      <td>22.05</td>\n",
       "      <td>Jul-2004</td>\n",
       "      <td>17.00</td>\n",
       "      <td>0.00</td>\n",
       "      <td>20131.00</td>\n",
       "      <td>53.30</td>\n",
       "      <td>27.00</td>\n",
       "      <td>f</td>\n",
       "      <td>INDIVIDUAL</td>\n",
       "      <td>3.00</td>\n",
       "      <td>0.00</td>\n",
       "      <td>1</td>\n",
       "    </tr>\n",
       "    <tr>\n",
       "      <th>2</th>\n",
       "      <td>Statistician</td>\n",
       "      <td>&lt; 1 year</td>\n",
       "      <td>RENT</td>\n",
       "      <td>43057.00</td>\n",
       "      <td>Source Verified</td>\n",
       "      <td>12.79</td>\n",
       "      <td>Aug-2007</td>\n",
       "      <td>13.00</td>\n",
       "      <td>0.00</td>\n",
       "      <td>11987.00</td>\n",
       "      <td>92.20</td>\n",
       "      <td>26.00</td>\n",
       "      <td>f</td>\n",
       "      <td>INDIVIDUAL</td>\n",
       "      <td>0.00</td>\n",
       "      <td>0.00</td>\n",
       "      <td>2</td>\n",
       "    </tr>\n",
       "    <tr>\n",
       "      <th>3</th>\n",
       "      <td>Client Advocate</td>\n",
       "      <td>6 years</td>\n",
       "      <td>RENT</td>\n",
       "      <td>54000.00</td>\n",
       "      <td>Not Verified</td>\n",
       "      <td>2.60</td>\n",
       "      <td>Sep-2006</td>\n",
       "      <td>6.00</td>\n",
       "      <td>0.00</td>\n",
       "      <td>5472.00</td>\n",
       "      <td>21.50</td>\n",
       "      <td>13.00</td>\n",
       "      <td>f</td>\n",
       "      <td>INDIVIDUAL</td>\n",
       "      <td>0.00</td>\n",
       "      <td>0.00</td>\n",
       "      <td>3</td>\n",
       "    </tr>\n",
       "    <tr>\n",
       "      <th>4</th>\n",
       "      <td>Destiny Management Inc.</td>\n",
       "      <td>9 years</td>\n",
       "      <td>MORTGAGE</td>\n",
       "      <td>55000.00</td>\n",
       "      <td>Verified</td>\n",
       "      <td>33.95</td>\n",
       "      <td>Mar-1999</td>\n",
       "      <td>13.00</td>\n",
       "      <td>0.00</td>\n",
       "      <td>24584.00</td>\n",
       "      <td>69.80</td>\n",
       "      <td>43.00</td>\n",
       "      <td>f</td>\n",
       "      <td>INDIVIDUAL</td>\n",
       "      <td>1.00</td>\n",
       "      <td>0.00</td>\n",
       "      <td>4</td>\n",
       "    </tr>\n",
       "  </tbody>\n",
       "</table>\n",
       "</div>"
      ],
      "text/plain": [
       "                 emp_title emp_length home_ownership  annual_inc  \\\n",
       "0                Marketing  10+ years           RENT   117000.00   \n",
       "1          Credit analyst     4 years       MORTGAGE    65000.00   \n",
       "2             Statistician   < 1 year           RENT    43057.00   \n",
       "3          Client Advocate    6 years           RENT    54000.00   \n",
       "4  Destiny Management Inc.    9 years       MORTGAGE    55000.00   \n",
       "\n",
       "  verification_status   dti earliest_cr_line  open_acc  pub_rec  revol_bal  \\\n",
       "0        Not Verified 26.24         Jun-1990     16.00     0.00   36369.00   \n",
       "1        Not Verified 22.05         Jul-2004     17.00     0.00   20131.00   \n",
       "2     Source Verified 12.79         Aug-2007     13.00     0.00   11987.00   \n",
       "3        Not Verified  2.60         Sep-2006      6.00     0.00    5472.00   \n",
       "4            Verified 33.95         Mar-1999     13.00     0.00   24584.00   \n",
       "\n",
       "   revol_util  total_acc initial_list_status application_type  mort_acc  \\\n",
       "0       41.80      25.00                   w       INDIVIDUAL      0.00   \n",
       "1       53.30      27.00                   f       INDIVIDUAL      3.00   \n",
       "2       92.20      26.00                   f       INDIVIDUAL      0.00   \n",
       "3       21.50      13.00                   f       INDIVIDUAL      0.00   \n",
       "4       69.80      43.00                   f       INDIVIDUAL      1.00   \n",
       "\n",
       "   pub_rec_bankruptcies  id  \n",
       "0                  0.00   0  \n",
       "1                  0.00   1  \n",
       "2                  0.00   2  \n",
       "3                  0.00   3  \n",
       "4                  0.00   4  "
      ]
     },
     "execution_count": 6,
     "metadata": {},
     "output_type": "execute_result"
    }
   ],
   "source": [
    "applicants_df = pd.read_parquet(\"https://repo.hops.works/dev/jdowling/applicants.parquet\")\n",
    "applicants_df.head()"
   ]
  },
  {
   "cell_type": "code",
   "execution_count": 7,
   "id": "6b95e5b8",
   "metadata": {},
   "outputs": [
    {
     "name": "stdout",
     "output_type": "stream",
     "text": [
      "<class 'pandas.core.frame.DataFrame'>\n",
      "RangeIndex: 396030 entries, 0 to 396029\n",
      "Data columns (total 17 columns):\n",
      " #   Column                Non-Null Count   Dtype  \n",
      "---  ------                --------------   -----  \n",
      " 0   emp_title             373103 non-null  object \n",
      " 1   emp_length            377729 non-null  object \n",
      " 2   home_ownership        396030 non-null  object \n",
      " 3   annual_inc            396030 non-null  float64\n",
      " 4   verification_status   396030 non-null  object \n",
      " 5   dti                   396030 non-null  float64\n",
      " 6   earliest_cr_line      396030 non-null  object \n",
      " 7   open_acc              396030 non-null  float64\n",
      " 8   pub_rec               396030 non-null  float64\n",
      " 9   revol_bal             396030 non-null  float64\n",
      " 10  revol_util            395754 non-null  float64\n",
      " 11  total_acc             396030 non-null  float64\n",
      " 12  initial_list_status   396030 non-null  object \n",
      " 13  application_type      396030 non-null  object \n",
      " 14  mort_acc              358235 non-null  float64\n",
      " 15  pub_rec_bankruptcies  395495 non-null  float64\n",
      " 16  id                    396030 non-null  int64  \n",
      "dtypes: float64(9), int64(1), object(7)\n",
      "memory usage: 51.4+ MB\n"
     ]
    }
   ],
   "source": [
    "applicants_df.info()"
   ]
  },
  {
   "cell_type": "code",
   "execution_count": 8,
   "id": "bb890a98",
   "metadata": {},
   "outputs": [],
   "source": [
    "# applicants_df['jim'] = applicants_df['home_ownership'].replace(\"ANY\", \"OTHER\")\n",
    "# applicants_df['jim'].value_counts()"
   ]
  },
  {
   "cell_type": "markdown",
   "id": "7dd7cc11",
   "metadata": {
    "execution": {
     "iopub.execute_input": "2023-01-31T14:11:48.971332Z",
     "iopub.status.busy": "2023-01-31T14:11:48.970869Z",
     "iopub.status.idle": "2023-01-31T14:11:49.178902Z",
     "shell.execute_reply": "2023-01-31T14:11:49.177821Z"
    },
    "papermill": {
     "duration": 0.345476,
     "end_time": "2023-01-31T14:11:49.181182",
     "exception": false,
     "start_time": "2023-01-31T14:11:48.835706",
     "status": "completed"
    },
    "tags": []
   },
   "source": [
    "# Feature Engineering"
   ]
  },
  {
   "cell_type": "code",
   "execution_count": 9,
   "id": "74bf2b1e",
   "metadata": {
    "execution": {
     "iopub.execute_input": "2023-01-31T14:12:06.335754Z",
     "iopub.status.busy": "2023-01-31T14:12:06.334576Z",
     "iopub.status.idle": "2023-01-31T14:12:06.424596Z",
     "shell.execute_reply": "2023-01-31T14:12:06.423659Z"
    },
    "papermill": {
     "duration": 0.240425,
     "end_time": "2023-01-31T14:12:06.426982",
     "exception": false,
     "start_time": "2023-01-31T14:12:06.186557",
     "status": "completed"
    },
    "tags": []
   },
   "outputs": [
    {
     "name": "stdout",
     "output_type": "stream",
     "text": [
      "-0.007388121041003615\n"
     ]
    }
   ],
   "source": [
    "from features import loans, applicants\n",
    "\n",
    "import timeit\n",
    "start = timeit.timeit()\n",
    "\n",
    "applicants_df['home_ownership'] = applicants_df.home_ownership.apply(applicants.home_ownership)\n",
    "applicants_df.home_ownership.value_counts()\n",
    "\n",
    "end = timeit.timeit()\n",
    "print(end - start)"
   ]
  },
  {
   "cell_type": "code",
   "execution_count": 10,
   "id": "9640deb7",
   "metadata": {},
   "outputs": [
    {
     "data": {
      "text/plain": [
       "MORTGAGE    198348\n",
       "RENT        159790\n",
       "OWN          37746\n",
       "OTHER          146\n",
       "Name: home_ownership, dtype: int64"
      ]
     },
     "execution_count": 10,
     "metadata": {},
     "output_type": "execute_result"
    }
   ],
   "source": [
    "applicants_df.home_ownership.value_counts()"
   ]
  },
  {
   "cell_type": "code",
   "execution_count": 11,
   "id": "40a9f924",
   "metadata": {},
   "outputs": [
    {
     "name": "stdout",
     "output_type": "stream",
     "text": [
      "-0.0007999419467523694\n"
     ]
    }
   ],
   "source": [
    "from features import loans, applicants\n",
    "\n",
    "start = timeit.timeit()\n",
    "\n",
    "applicants_df['home_ownership'] = applicants.home_ownership2(applicants_df['home_ownership'])\n",
    "end = timeit.timeit()\n",
    "print(end - start)\n"
   ]
  },
  {
   "cell_type": "code",
   "execution_count": 12,
   "id": "b2dbc665",
   "metadata": {},
   "outputs": [
    {
     "data": {
      "text/plain": [
       "MORTGAGE    198348\n",
       "RENT        159790\n",
       "OWN          37746\n",
       "OTHER          146\n",
       "Name: home_ownership, dtype: int64"
      ]
     },
     "execution_count": 12,
     "metadata": {},
     "output_type": "execute_result"
    }
   ],
   "source": [
    "applicants_df.home_ownership.value_counts()"
   ]
  },
  {
   "cell_type": "code",
   "execution_count": 13,
   "id": "095cd7fe",
   "metadata": {
    "execution": {
     "iopub.execute_input": "2023-01-31T14:12:16.815316Z",
     "iopub.status.busy": "2023-01-31T14:12:16.814929Z",
     "iopub.status.idle": "2023-01-31T14:12:17.095807Z",
     "shell.execute_reply": "2023-01-31T14:12:17.094774Z"
    },
    "papermill": {
     "duration": 0.429455,
     "end_time": "2023-01-31T14:12:17.098362",
     "exception": false,
     "start_time": "2023-01-31T14:12:16.668907",
     "status": "completed"
    },
    "tags": []
   },
   "outputs": [],
   "source": [
    "applicants_df['earliest_cr_line'] = pd.to_datetime(applicants_df['earliest_cr_line'])\n",
    "loans_df['issue_d'] = pd.to_datetime(loans_df['issue_d'])"
   ]
  },
  {
   "cell_type": "markdown",
   "id": "9d1bac3f",
   "metadata": {
    "papermill": {
     "duration": 0.151301,
     "end_time": "2023-01-31T14:12:20.118090",
     "exception": false,
     "start_time": "2023-01-31T14:12:19.966789",
     "status": "completed"
    },
    "tags": []
   },
   "source": [
    "## ✔️ `dti`, `open_acc`, `revol_bal`, `revol_util`, & `total_acc`\n",
    "\n",
    "> - `dti`: A ratio calculated using the borrower’s total monthly debt payments on the total debt obligations, excluding mortgage and the requested LC loan, divided by the borrower’s self-reported monthly income.\n",
    "> - `open_acc`: The number of open credit lines in the borrower's credit file.\n",
    "> - `revol_bal`: Total credit revolving balance\n",
    "> - `revol_util`: Revolving line utilization rate, or the amount of credit the borrower is using relative to all available revolving credit.\n",
    "> - `total_acc`: The total number of credit lines currently in the borrower's credit file"
   ]
  },
  {
   "cell_type": "code",
   "execution_count": 14,
   "id": "53a5c4a7",
   "metadata": {
    "execution": {
     "iopub.execute_input": "2023-01-31T14:12:32.338934Z",
     "iopub.status.busy": "2023-01-31T14:12:32.338562Z",
     "iopub.status.idle": "2023-01-31T14:12:32.817616Z",
     "shell.execute_reply": "2023-01-31T14:12:32.816627Z"
    },
    "papermill": {
     "duration": 0.636201,
     "end_time": "2023-01-31T14:12:32.820041",
     "exception": false,
     "start_time": "2023-01-31T14:12:32.183840",
     "status": "completed"
    },
    "tags": []
   },
   "outputs": [],
   "source": [
    "applicants_df['pub_rec'] = applicants_df.pub_rec.apply(applicants.pub_rec)\n",
    "applicants_df['pub_rec_bankruptcies'] = \\\n",
    "    applicants_df.pub_rec_bankruptcies.apply(applicants.pub_rec_bankruptcies)"
   ]
  },
  {
   "cell_type": "markdown",
   "id": "0174e794",
   "metadata": {
    "papermill": {
     "duration": 0.152855,
     "end_time": "2023-01-31T14:12:37.578196",
     "exception": false,
     "start_time": "2023-01-31T14:12:37.425341",
     "status": "completed"
    },
    "tags": []
   },
   "source": [
    "# 🔄 Data PreProcessing\n",
    "\n",
    "**Section Goals:** \n",
    "> - Remove or fill any missing data. \n",
    "> - Remove unnecessary or repetitive features. \n",
    "> - Convert categorical string features to dummy variables."
   ]
  },
  {
   "cell_type": "markdown",
   "id": "74d3e2a5",
   "metadata": {
    "papermill": {
     "duration": 0.153798,
     "end_time": "2023-01-31T14:12:39.419636",
     "exception": false,
     "start_time": "2023-01-31T14:12:39.265838",
     "status": "completed"
    },
    "tags": []
   },
   "source": [
    "Realistically there are too many unique job titles to try to convert this to a dummy variable feature. Let's remove that emp_title column."
   ]
  },
  {
   "cell_type": "code",
   "execution_count": 15,
   "id": "4e69498c",
   "metadata": {
    "execution": {
     "iopub.execute_input": "2023-01-31T14:12:39.733271Z",
     "iopub.status.busy": "2023-01-31T14:12:39.732764Z",
     "iopub.status.idle": "2023-01-31T14:12:39.823678Z",
     "shell.execute_reply": "2023-01-31T14:12:39.822304Z"
    },
    "papermill": {
     "duration": 0.253402,
     "end_time": "2023-01-31T14:12:39.826253",
     "exception": false,
     "start_time": "2023-01-31T14:12:39.572851",
     "status": "completed"
    },
    "tags": []
   },
   "outputs": [],
   "source": [
    "applicants_df.drop('emp_title', axis=1, inplace=True)"
   ]
  },
  {
   "cell_type": "markdown",
   "id": "f1ad195b",
   "metadata": {
    "papermill": {
     "duration": 0.241511,
     "end_time": "2023-01-31T14:12:41.814332",
     "exception": false,
     "start_time": "2023-01-31T14:12:41.572821",
     "status": "completed"
    },
    "tags": []
   },
   "source": [
    "Charge off rates are extremely similar across all employment lengths. So we are going to drop the `emp_length` column."
   ]
  },
  {
   "cell_type": "code",
   "execution_count": 16,
   "id": "08cd74d5",
   "metadata": {
    "execution": {
     "iopub.execute_input": "2023-01-31T14:12:42.216196Z",
     "iopub.status.busy": "2023-01-31T14:12:42.214985Z",
     "iopub.status.idle": "2023-01-31T14:12:42.301892Z",
     "shell.execute_reply": "2023-01-31T14:12:42.300870Z"
    },
    "papermill": {
     "duration": 0.253314,
     "end_time": "2023-01-31T14:12:42.304445",
     "exception": false,
     "start_time": "2023-01-31T14:12:42.051131",
     "status": "completed"
    },
    "tags": []
   },
   "outputs": [],
   "source": [
    "applicants_df.drop('emp_length', axis=1, inplace=True)"
   ]
  },
  {
   "cell_type": "markdown",
   "id": "a946b370",
   "metadata": {
    "papermill": {
     "duration": 0.154896,
     "end_time": "2023-01-31T14:12:43.642185",
     "exception": false,
     "start_time": "2023-01-31T14:12:43.487289",
     "status": "completed"
    },
    "tags": []
   },
   "source": [
    "The title column is simply a string subcategory/description of the purpose column. So we are going to drop the title column."
   ]
  },
  {
   "cell_type": "code",
   "execution_count": 17,
   "id": "87222d20",
   "metadata": {
    "execution": {
     "iopub.execute_input": "2023-01-31T14:12:43.955316Z",
     "iopub.status.busy": "2023-01-31T14:12:43.954293Z",
     "iopub.status.idle": "2023-01-31T14:12:44.029021Z",
     "shell.execute_reply": "2023-01-31T14:12:44.027978Z"
    },
    "papermill": {
     "duration": 0.232715,
     "end_time": "2023-01-31T14:12:44.031617",
     "exception": false,
     "start_time": "2023-01-31T14:12:43.798902",
     "status": "completed"
    },
    "tags": []
   },
   "outputs": [],
   "source": [
    "loans_df.drop('title', axis=1, inplace=True)"
   ]
  },
  {
   "cell_type": "markdown",
   "id": "00fca018",
   "metadata": {
    "papermill": {
     "duration": 0.154279,
     "end_time": "2023-01-31T14:12:44.341279",
     "exception": false,
     "start_time": "2023-01-31T14:12:44.187000",
     "status": "completed"
    },
    "tags": []
   },
   "source": [
    "### `mort_acc`\n",
    "\n",
    "There are many ways we could deal with this missing data. We could attempt to build a simple model to fill it in, such as a linear model, we could just fill it in based on the mean of the other columns, or you could even bin the columns into categories and then set NaN as its own category. There is no 100% correct approach! "
   ]
  },
  {
   "cell_type": "markdown",
   "id": "be604f1e",
   "metadata": {
    "papermill": {
     "duration": 0.157466,
     "end_time": "2023-01-31T14:12:45.923922",
     "exception": false,
     "start_time": "2023-01-31T14:12:45.766456",
     "status": "completed"
    },
    "tags": []
   },
   "source": [
    "Let's try the fillna() approach. We will group the dataframe by the total_acc and calculate the mean value for the mort_acc per total_acc entry. To get the result below:"
   ]
  },
  {
   "cell_type": "code",
   "execution_count": 18,
   "id": "655aa19d",
   "metadata": {
    "execution": {
     "iopub.execute_input": "2023-01-31T14:12:46.237863Z",
     "iopub.status.busy": "2023-01-31T14:12:46.237469Z",
     "iopub.status.idle": "2023-01-31T14:12:46.332340Z",
     "shell.execute_reply": "2023-01-31T14:12:46.331345Z"
    },
    "papermill": {
     "duration": 0.253754,
     "end_time": "2023-01-31T14:12:46.335011",
     "exception": false,
     "start_time": "2023-01-31T14:12:46.081257",
     "status": "completed"
    },
    "tags": []
   },
   "outputs": [],
   "source": [
    "total_acc_avg = applicants.mean_mort_acc(applicants_df)"
   ]
  },
  {
   "cell_type": "code",
   "execution_count": 19,
   "id": "75bb4c76",
   "metadata": {
    "execution": {
     "iopub.execute_input": "2023-01-31T14:12:46.991455Z",
     "iopub.status.busy": "2023-01-31T14:12:46.990863Z",
     "iopub.status.idle": "2023-01-31T14:12:57.341490Z",
     "shell.execute_reply": "2023-01-31T14:12:57.340452Z"
    },
    "papermill": {
     "duration": 10.520365,
     "end_time": "2023-01-31T14:12:57.343915",
     "exception": false,
     "start_time": "2023-01-31T14:12:46.823550",
     "status": "completed"
    },
    "tags": []
   },
   "outputs": [],
   "source": [
    "applicants_df['mort_acc'] = applicants_df.apply(lambda x: applicants.fill_mort_acc(x['total_acc'], \n",
    "                                                        x['mort_acc'], total_acc_avg), axis=1)"
   ]
  },
  {
   "cell_type": "markdown",
   "id": "bffb4178",
   "metadata": {
    "papermill": {
     "duration": 0.156009,
     "end_time": "2023-01-31T14:12:57.656526",
     "exception": false,
     "start_time": "2023-01-31T14:12:57.500517",
     "status": "completed"
    },
    "tags": []
   },
   "source": [
    "### `revol_util` & `pub_rec_bankruptcies`\n",
    "These two features have missing data points, but they account for less than 0.5% of the total data. So we are going to remove the rows that are missing those values in those columns with dropna()."
   ]
  },
  {
   "cell_type": "code",
   "execution_count": 20,
   "id": "38ed484b",
   "metadata": {
    "execution": {
     "iopub.execute_input": "2023-01-31T14:12:58.425005Z",
     "iopub.status.busy": "2023-01-31T14:12:58.424030Z",
     "iopub.status.idle": "2023-01-31T14:12:58.632168Z",
     "shell.execute_reply": "2023-01-31T14:12:58.631141Z"
    },
    "papermill": {
     "duration": 0.369642,
     "end_time": "2023-01-31T14:12:58.634630",
     "exception": false,
     "start_time": "2023-01-31T14:12:58.264988",
     "status": "completed"
    },
    "tags": []
   },
   "outputs": [],
   "source": [
    "applicants_df.dropna(inplace=True)"
   ]
  },
  {
   "cell_type": "markdown",
   "id": "dbd71208",
   "metadata": {
    "papermill": {
     "duration": 0.154966,
     "end_time": "2023-01-31T14:12:59.267766",
     "exception": false,
     "start_time": "2023-01-31T14:12:59.112800",
     "status": "completed"
    },
    "tags": []
   },
   "source": [
    "## 🧮 Categorical Variables"
   ]
  },
  {
   "cell_type": "markdown",
   "id": "20623395",
   "metadata": {
    "papermill": {
     "duration": 0.156275,
     "end_time": "2023-01-31T14:12:59.902049",
     "exception": false,
     "start_time": "2023-01-31T14:12:59.745774",
     "status": "completed"
    },
    "tags": []
   },
   "source": [
    "### `term`"
   ]
  },
  {
   "cell_type": "markdown",
   "id": "de3a0265",
   "metadata": {
    "papermill": {
     "duration": 0.15528,
     "end_time": "2023-01-31T14:13:01.277139",
     "exception": false,
     "start_time": "2023-01-31T14:13:01.121859",
     "status": "completed"
    },
    "tags": []
   },
   "source": [
    "### `grade` & `sub_grade`\n",
    "\n",
    "We know that `grade` is just a sub feature of `sub_grade`, So we are goinig to drop it."
   ]
  },
  {
   "cell_type": "code",
   "execution_count": 21,
   "id": "ad383419",
   "metadata": {
    "execution": {
     "iopub.execute_input": "2023-01-31T14:13:01.592535Z",
     "iopub.status.busy": "2023-01-31T14:13:01.591599Z",
     "iopub.status.idle": "2023-01-31T14:13:01.656733Z",
     "shell.execute_reply": "2023-01-31T14:13:01.655753Z"
    },
    "papermill": {
     "duration": 0.225278,
     "end_time": "2023-01-31T14:13:01.659576",
     "exception": false,
     "start_time": "2023-01-31T14:13:01.434298",
     "status": "completed"
    },
    "tags": []
   },
   "outputs": [],
   "source": [
    "loans_df.drop('grade', axis=1, inplace=True)"
   ]
  },
  {
   "cell_type": "markdown",
   "id": "b78ba175",
   "metadata": {
    "papermill": {
     "duration": 0.162961,
     "end_time": "2023-01-31T14:13:02.654421",
     "exception": false,
     "start_time": "2023-01-31T14:13:02.491460",
     "status": "completed"
    },
    "tags": []
   },
   "source": [
    "### `address`\n",
    "We are going to feature engineer a zip code column from the address in the data set. Create a column called 'zip_code' that extracts the zip code from the address column."
   ]
  },
  {
   "cell_type": "code",
   "execution_count": 22,
   "id": "3cc3188b",
   "metadata": {
    "execution": {
     "iopub.execute_input": "2023-01-31T14:13:03.458992Z",
     "iopub.status.busy": "2023-01-31T14:13:03.458459Z",
     "iopub.status.idle": "2023-01-31T14:13:03.641611Z",
     "shell.execute_reply": "2023-01-31T14:13:03.628414Z"
    },
    "papermill": {
     "duration": 0.362285,
     "end_time": "2023-01-31T14:13:03.644153",
     "exception": false,
     "start_time": "2023-01-31T14:13:03.281868",
     "status": "completed"
    },
    "tags": []
   },
   "outputs": [],
   "source": [
    "loans_df['zip_code'] = loans_df.apply(lambda x: loans.zipcode(x['address'][-5:]), axis=1)"
   ]
  },
  {
   "cell_type": "code",
   "execution_count": 23,
   "id": "8a04d628",
   "metadata": {
    "execution": {
     "iopub.execute_input": "2023-01-31T14:13:04.068331Z",
     "iopub.status.busy": "2023-01-31T14:13:04.067955Z",
     "iopub.status.idle": "2023-01-31T14:13:04.103983Z",
     "shell.execute_reply": "2023-01-31T14:13:04.102946Z"
    },
    "papermill": {
     "duration": 0.238062,
     "end_time": "2023-01-31T14:13:04.105979",
     "exception": false,
     "start_time": "2023-01-31T14:13:03.867917",
     "status": "completed"
    },
    "tags": []
   },
   "outputs": [
    {
     "data": {
      "text/plain": [
       "0        91226\n",
       "70466    56985\n",
       "30723    56546\n",
       "22690    56527\n",
       "48052    55917\n",
       "29597    45471\n",
       "11650    11226\n",
       "93700    11151\n",
       "86630    10981\n",
       "Name: zip_code, dtype: int64"
      ]
     },
     "execution_count": 23,
     "metadata": {},
     "output_type": "execute_result"
    }
   ],
   "source": [
    "loans_df.zip_code.value_counts()"
   ]
  },
  {
   "cell_type": "code",
   "execution_count": 24,
   "id": "dafe46bf",
   "metadata": {
    "execution": {
     "iopub.execute_input": "2023-01-31T14:13:04.919809Z",
     "iopub.status.busy": "2023-01-31T14:13:04.919417Z",
     "iopub.status.idle": "2023-01-31T14:13:04.986378Z",
     "shell.execute_reply": "2023-01-31T14:13:04.985236Z"
    },
    "papermill": {
     "duration": 0.226129,
     "end_time": "2023-01-31T14:13:04.989199",
     "exception": false,
     "start_time": "2023-01-31T14:13:04.763070",
     "status": "completed"
    },
    "tags": []
   },
   "outputs": [],
   "source": [
    "loans_df.drop('address', axis=1, inplace=True)"
   ]
  },
  {
   "cell_type": "markdown",
   "id": "3be6a8ab",
   "metadata": {
    "papermill": {
     "duration": 0.155658,
     "end_time": "2023-01-31T14:13:05.300426",
     "exception": false,
     "start_time": "2023-01-31T14:13:05.144768",
     "status": "completed"
    },
    "tags": []
   },
   "source": [
    "### `issue_d` \n",
    "\n",
    "This is the event_time for the loan being issued"
   ]
  },
  {
   "cell_type": "code",
   "execution_count": 25,
   "id": "d3c3bb7c",
   "metadata": {},
   "outputs": [
    {
     "name": "stdout",
     "output_type": "stream",
     "text": [
      "<class 'pandas.core.frame.DataFrame'>\n",
      "RangeIndex: 396030 entries, 0 to 396029\n",
      "Data columns (total 10 columns):\n",
      " #   Column       Non-Null Count   Dtype         \n",
      "---  ------       --------------   -----         \n",
      " 0   id           396030 non-null  int64         \n",
      " 1   loan_amnt    396030 non-null  float64       \n",
      " 2   term         396030 non-null  object        \n",
      " 3   int_rate     396030 non-null  float64       \n",
      " 4   installment  396030 non-null  float64       \n",
      " 5   sub_grade    396030 non-null  object        \n",
      " 6   issue_d      396030 non-null  datetime64[ns]\n",
      " 7   loan_status  396030 non-null  object        \n",
      " 8   purpose      396030 non-null  object        \n",
      " 9   zip_code     396030 non-null  object        \n",
      "dtypes: datetime64[ns](1), float64(3), int64(1), object(5)\n",
      "memory usage: 30.2+ MB\n"
     ]
    }
   ],
   "source": [
    "loans_df.info()"
   ]
  },
  {
   "cell_type": "markdown",
   "id": "3af9fbb5",
   "metadata": {
    "papermill": {
     "duration": 0.158483,
     "end_time": "2023-01-31T14:13:05.959651",
     "exception": false,
     "start_time": "2023-01-31T14:13:05.801168",
     "status": "completed"
    },
    "tags": []
   },
   "source": [
    "### `earliest_cr_line`\n",
    "This appears to be a historical time stamp feature. Extract the year from this feature using a `.apply()` function, then convert it to a numeric feature."
   ]
  },
  {
   "cell_type": "code",
   "execution_count": 26,
   "id": "9e8e8d21",
   "metadata": {
    "execution": {
     "iopub.execute_input": "2023-01-31T14:13:06.287247Z",
     "iopub.status.busy": "2023-01-31T14:13:06.286161Z",
     "iopub.status.idle": "2023-01-31T14:13:06.337535Z",
     "shell.execute_reply": "2023-01-31T14:13:06.336363Z"
    },
    "papermill": {
     "duration": 0.221956,
     "end_time": "2023-01-31T14:13:06.339961",
     "exception": false,
     "start_time": "2023-01-31T14:13:06.118005",
     "status": "completed"
    },
    "tags": []
   },
   "outputs": [],
   "source": [
    "applicants_df['earliest_cr_line_year'] = applicants_df.apply(\n",
    "    lambda x: applicants.earliest_cr_line(x['earliest_cr_line']), axis=1)"
   ]
  },
  {
   "cell_type": "code",
   "execution_count": 27,
   "id": "2b29436e",
   "metadata": {},
   "outputs": [
    {
     "data": {
      "text/plain": [
       "{\"expectation_type\": \"expect_column_values_to_be_between\", \"kwargs\": {\"column\": \"int_rate\", \"min_value\": \"-2.0\", \"max_value\": \"2000.0\"}, \"meta\": {}}"
      ]
     },
     "execution_count": 27,
     "metadata": {},
     "output_type": "execute_result"
    }
   ],
   "source": [
    "from great_expectations.core import ExpectationSuite, ExpectationConfiguration\n",
    "\n",
    "expectation_suite = ExpectationSuite(\n",
    "    expectation_suite_name=\"transaction_suite\")\n",
    "\n",
    "expectation_suite.add_expectation(\n",
    "    ExpectationConfiguration(\n",
    "        expectation_type=\"expect_column_values_to_be_between\",\n",
    "        kwargs={\n",
    "            \"column\":\"int_rate\", \n",
    "            \"min_value\":\"-2.0\",\n",
    "            \"max_value\":\"2000.0\",\n",
    "        }\n",
    "    )\n",
    ")\n",
    "\n",
    "# TODO: Add more expectations here to improve data validation checks"
   ]
  },
  {
   "cell_type": "markdown",
   "id": "5b9edb3f",
   "metadata": {},
   "source": [
    "## 🔖 Hopsworks Feature Store"
   ]
  },
  {
   "cell_type": "code",
   "execution_count": 28,
   "id": "3453e498",
   "metadata": {},
   "outputs": [
    {
     "name": "stdout",
     "output_type": "stream",
     "text": [
      "7SRNo0QQFwuikLxi.EmywhAThsmsMpU6hxFmBRKaTKUfGyefVhvWLiLHhIKuf2q98noVz9MAQJSMkM9f5\n"
     ]
    }
   ],
   "source": [
    "import os\n",
    "key=\"\"\n",
    "with open(\"api-key.txt\", \"r\") as f:\n",
    "    key = f.read().rstrip()\n",
    "os.environ['HOPSWORKS_PROJECT']=\"deloitte\"\n",
    "os.environ['HOPSWORKS_HOST']=\"6a525ee0-91d8-11ed-9cc8-9fe82dc2b6fd.cloud.hopsworks.ai\"\n",
    "os.environ['HOPSWORKS_API_KEY']=key\n",
    "print(key)"
   ]
  },
  {
   "cell_type": "code",
   "execution_count": 29,
   "id": "4a36d859",
   "metadata": {},
   "outputs": [
    {
     "name": "stdout",
     "output_type": "stream",
     "text": [
      "Connected. Call `.close()` to terminate connection gracefully.\n",
      "\n",
      "Logged in to project, explore it here https://6a525ee0-91d8-11ed-9cc8-9fe82dc2b6fd.cloud.hopsworks.ai:443/p/119\n",
      "Connected. Call `.close()` to terminate connection gracefully.\n"
     ]
    }
   ],
   "source": [
    "import hopsworks\n",
    "\n",
    "proj = hopsworks.login()\n",
    "fs = proj.get_feature_store()"
   ]
  },
  {
   "cell_type": "code",
   "execution_count": 36,
   "id": "107f872a",
   "metadata": {},
   "outputs": [],
   "source": [
    "loans_fg = fs.get_or_create_feature_group(name=\"loans\",\n",
    "                                    version=1,\n",
    "                                    description=\"Lending Club Loans\",\n",
    "                                    online_enabled=True,\n",
    "                                    primary_key=['id'],\n",
    "                                    event_time='issue_d',\n",
    "                                    expectation_suite=expectation_suite\n",
    ")"
   ]
  },
  {
   "cell_type": "code",
   "execution_count": 31,
   "id": "83bf9323",
   "metadata": {},
   "outputs": [],
   "source": [
    "applicants_fg = fs.get_or_create_feature_group(name=\"applicants\",\n",
    "                                    version=1,\n",
    "                                    description=\"Lending Club Loan Applicants\",\n",
    "                                    online_enabled=True,\n",
    "                                    primary_key=['id'],\n",
    "                                    partition_key=['earliest_cr_line_year'],\n",
    "                                    event_time='earliest_cr_line'\n",
    ")"
   ]
  },
  {
   "cell_type": "code",
   "execution_count": 37,
   "id": "040bf356",
   "metadata": {},
   "outputs": [
    {
     "name": "stdout",
     "output_type": "stream",
     "text": [
      "Feature Group created successfully, explore it at \n",
      "https://6a525ee0-91d8-11ed-9cc8-9fe82dc2b6fd.cloud.hopsworks.ai:443/p/119/fs/67/fg/6159\n",
      "2023-03-24 11:38:16,289 INFO: \t1 expectation(s) included in expectation_suite.\n",
      "Validation failed.\n",
      "Validation Report saved successfully, explore a summary at https://6a525ee0-91d8-11ed-9cc8-9fe82dc2b6fd.cloud.hopsworks.ai:443/p/119/fs/67/fg/6159\n"
     ]
    },
    {
     "data": {
      "application/vnd.jupyter.widget-view+json": {
       "model_id": "5e7c64018a9b45d59d4d5f6ff72b8f41",
       "version_major": 2,
       "version_minor": 0
      },
      "text/plain": [
       "Uploading Dataframe: 0.00% |          | Rows 0/396030 | Elapsed Time: 00:00 | Remaining Time: ?"
      ]
     },
     "metadata": {},
     "output_type": "display_data"
    },
    {
     "name": "stdout",
     "output_type": "stream",
     "text": [
      "Launching job: loans_1_offline_fg_backfill\n",
      "Job started successfully, you can follow the progress at \n",
      "https://6a525ee0-91d8-11ed-9cc8-9fe82dc2b6fd.cloud.hopsworks.ai/p/119/jobs/named/loans_1_offline_fg_backfill/executions\n"
     ]
    },
    {
     "data": {
      "text/plain": [
       "(<hsfs.core.job.Job at 0x7fc017c7f220>,\n",
       " {\n",
       "   \"success\": false,\n",
       "   \"statistics\": {\n",
       "     \"evaluated_expectations\": 1,\n",
       "     \"successful_expectations\": 0,\n",
       "     \"unsuccessful_expectations\": 1,\n",
       "     \"success_percent\": 0.0\n",
       "   },\n",
       "   \"results\": [\n",
       "     {\n",
       "       \"result\": {},\n",
       "       \"success\": false,\n",
       "       \"exception_info\": {\n",
       "         \"user_message\": \"exception_info field exceeded max available space in SQL table, download validation report file to access the complete info.\",\n",
       "         \"raised_exception\": true,\n",
       "         \"exception_message\": \"TypeError: Column values, min_value, and max_value must either be None or of the same type.\"\n",
       "       },\n",
       "       \"meta\": {\n",
       "         \"ingestionResult\": \"INGESTED\",\n",
       "         \"validationTime\": \"2023-03-24T10:38:16.000289Z\"\n",
       "       },\n",
       "       \"expectation_config\": {\n",
       "         \"expectation_type\": \"expect_column_values_to_be_between\",\n",
       "         \"kwargs\": {\n",
       "           \"column\": \"int_rate\",\n",
       "           \"min_value\": \"-2.0\",\n",
       "           \"max_value\": \"2000.0\"\n",
       "         },\n",
       "         \"meta\": {\n",
       "           \"expectationId\": 3074\n",
       "         }\n",
       "       }\n",
       "     }\n",
       "   ],\n",
       "   \"evaluation_parameters\": {},\n",
       "   \"meta\": {\n",
       "     \"great_expectations_version\": \"0.14.12\",\n",
       "     \"expectation_suite_name\": \"transaction_suite\",\n",
       "     \"run_id\": {\n",
       "       \"run_time\": \"2023-03-24T10:38:16.289784+00:00\",\n",
       "       \"run_name\": null\n",
       "     },\n",
       "     \"batch_kwargs\": {\n",
       "       \"ge_batch_id\": \"fc434107-ca2f-11ed-aef0-002b67af4ef7\"\n",
       "     },\n",
       "     \"batch_markers\": {},\n",
       "     \"batch_parameters\": {},\n",
       "     \"validation_time\": \"20230324T103816.289723Z\",\n",
       "     \"expectation_suite_meta\": {\n",
       "       \"great_expectations_version\": \"0.14.12\"\n",
       "     }\n",
       "   }\n",
       " })"
      ]
     },
     "execution_count": 37,
     "metadata": {},
     "output_type": "execute_result"
    }
   ],
   "source": [
    "loans_fg.insert(loans_df, write_options={\"wait_for_job\" : False})"
   ]
  },
  {
   "cell_type": "code",
   "execution_count": 33,
   "id": "97c9f72f",
   "metadata": {},
   "outputs": [
    {
     "name": "stdout",
     "output_type": "stream",
     "text": [
      "Feature Group created successfully, explore it at \n",
      "https://6a525ee0-91d8-11ed-9cc8-9fe82dc2b6fd.cloud.hopsworks.ai:443/p/119/fs/67/fg/6158\n"
     ]
    },
    {
     "data": {
      "application/vnd.jupyter.widget-view+json": {
       "model_id": "9f496ff15ee14154be1eaadc5152ffe0",
       "version_major": 2,
       "version_minor": 0
      },
      "text/plain": [
       "Uploading Dataframe: 0.00% |          | Rows 0/395219 | Elapsed Time: 00:00 | Remaining Time: ?"
      ]
     },
     "metadata": {},
     "output_type": "display_data"
    },
    {
     "name": "stdout",
     "output_type": "stream",
     "text": [
      "Launching job: applicants_1_offline_fg_backfill\n",
      "Job started successfully, you can follow the progress at \n",
      "https://6a525ee0-91d8-11ed-9cc8-9fe82dc2b6fd.cloud.hopsworks.ai/p/119/jobs/named/applicants_1_offline_fg_backfill/executions\n"
     ]
    },
    {
     "data": {
      "text/plain": [
       "(<hsfs.core.job.Job at 0x7fc0181214f0>, None)"
      ]
     },
     "execution_count": 33,
     "metadata": {},
     "output_type": "execute_result"
    }
   ],
   "source": [
    "applicants_fg.insert(applicants_df, write_options={\"wait_for_job\" : False})"
   ]
  },
  {
   "cell_type": "code",
   "execution_count": 34,
   "id": "b2a6e8ad",
   "metadata": {},
   "outputs": [
    {
     "data": {
      "text/html": [
       "<div>\n",
       "<style scoped>\n",
       "    .dataframe tbody tr th:only-of-type {\n",
       "        vertical-align: middle;\n",
       "    }\n",
       "\n",
       "    .dataframe tbody tr th {\n",
       "        vertical-align: top;\n",
       "    }\n",
       "\n",
       "    .dataframe thead th {\n",
       "        text-align: right;\n",
       "    }\n",
       "</style>\n",
       "<table border=\"1\" class=\"dataframe\">\n",
       "  <thead>\n",
       "    <tr style=\"text-align: right;\">\n",
       "      <th></th>\n",
       "      <th>LoanStatNew</th>\n",
       "      <th>Description</th>\n",
       "    </tr>\n",
       "  </thead>\n",
       "  <tbody>\n",
       "    <tr>\n",
       "      <th>0</th>\n",
       "      <td>acc_now_delinq</td>\n",
       "      <td>The number of accounts on which the borrower i...</td>\n",
       "    </tr>\n",
       "    <tr>\n",
       "      <th>1</th>\n",
       "      <td>acc_open_past_24mths</td>\n",
       "      <td>Number of trades opened in past 24 months.</td>\n",
       "    </tr>\n",
       "    <tr>\n",
       "      <th>2</th>\n",
       "      <td>addr_state</td>\n",
       "      <td>The state provided by the borrower in the loan...</td>\n",
       "    </tr>\n",
       "    <tr>\n",
       "      <th>3</th>\n",
       "      <td>all_util</td>\n",
       "      <td>Balance to credit limit on all trades</td>\n",
       "    </tr>\n",
       "    <tr>\n",
       "      <th>4</th>\n",
       "      <td>annual_inc</td>\n",
       "      <td>The self-reported annual income provided by th...</td>\n",
       "    </tr>\n",
       "    <tr>\n",
       "      <th>...</th>\n",
       "      <td>...</td>\n",
       "      <td>...</td>\n",
       "    </tr>\n",
       "    <tr>\n",
       "      <th>146</th>\n",
       "      <td>settlement_status</td>\n",
       "      <td>The status of the borrower's settlement plan. ...</td>\n",
       "    </tr>\n",
       "    <tr>\n",
       "      <th>147</th>\n",
       "      <td>settlement_date</td>\n",
       "      <td>The date that the borrower agrees to the settl...</td>\n",
       "    </tr>\n",
       "    <tr>\n",
       "      <th>148</th>\n",
       "      <td>settlement_amount</td>\n",
       "      <td>The loan amount that the borrower has agreed t...</td>\n",
       "    </tr>\n",
       "    <tr>\n",
       "      <th>149</th>\n",
       "      <td>settlement_percentage</td>\n",
       "      <td>The settlement amount as a percentage of the p...</td>\n",
       "    </tr>\n",
       "    <tr>\n",
       "      <th>150</th>\n",
       "      <td>settlement_term</td>\n",
       "      <td>The number of months that the borrower will be...</td>\n",
       "    </tr>\n",
       "  </tbody>\n",
       "</table>\n",
       "<p>151 rows × 2 columns</p>\n",
       "</div>"
      ],
      "text/plain": [
       "               LoanStatNew                                        Description\n",
       "0           acc_now_delinq  The number of accounts on which the borrower i...\n",
       "1     acc_open_past_24mths         Number of trades opened in past 24 months.\n",
       "2               addr_state  The state provided by the borrower in the loan...\n",
       "3                 all_util              Balance to credit limit on all trades\n",
       "4               annual_inc  The self-reported annual income provided by th...\n",
       "..                     ...                                                ...\n",
       "146      settlement_status  The status of the borrower's settlement plan. ...\n",
       "147        settlement_date  The date that the borrower agrees to the settl...\n",
       "148      settlement_amount  The loan amount that the borrower has agreed t...\n",
       "149  settlement_percentage  The settlement amount as a percentage of the p...\n",
       "150        settlement_term  The number of months that the borrower will be...\n",
       "\n",
       "[151 rows x 2 columns]"
      ]
     },
     "execution_count": 34,
     "metadata": {},
     "output_type": "execute_result"
    }
   ],
   "source": [
    "metadata = pd.read_csv(\"https://repo.hops.works/dev/jdowling/LCDataDictionary.csv\")\n",
    "metadata"
   ]
  },
  {
   "cell_type": "markdown",
   "id": "c3f24d00",
   "metadata": {},
   "source": [
    "## Update the description of any features found in the data dictionary\n",
    "\n",
    "Loop through the datadict. For each entry, if there is a corresponding feature in the feature group, update its description"
   ]
  },
  {
   "cell_type": "code",
   "execution_count": 35,
   "id": "93889452",
   "metadata": {},
   "outputs": [
    {
     "name": "stdout",
     "output_type": "stream",
     "text": [
      "Updating description of feature: annual_inc\n",
      "Updating description of feature: application_type\n",
      "Updating description of feature: dti\n",
      "Updating description of feature: earliest_cr_line\n",
      "Updating description of feature: home_ownership\n",
      "Updating description of feature: id\n",
      "Updating description of feature: id\n",
      "Updating description of feature: initial_list_status\n",
      "Updating description of feature: installment\n",
      "Updating description of feature: int_rate\n",
      "Updating description of feature: issue_d\n",
      "Updating description of feature: loan_amnt\n",
      "Updating description of feature: loan_status\n",
      "Updating description of feature: mort_acc\n",
      "Updating description of feature: open_acc\n",
      "Updating description of feature: pub_rec\n",
      "Updating description of feature: pub_rec_bankruptcies\n",
      "Updating description of feature: purpose\n",
      "Updating description of feature: revol_bal\n",
      "Updating description of feature: revol_util\n",
      "Updating description of feature: sub_grade\n",
      "Updating description of feature: term\n",
      "Updating description of feature: total_acc\n",
      "Updating description of feature: verification_status\n",
      "Updating description of feature: zip_code\n"
     ]
    }
   ],
   "source": [
    "datadict=[]\n",
    "\n",
    "# For each (name, description) pair in LCDataDictionary.csv, we try and set the feature \n",
    "# description for loans_fg and applicants_fg. If the feature doesn't exist in the feature group\n",
    "# an exception is thrown, and we \"do nothing\"\n",
    "for entry in metadata.index: \n",
    "        name = metadata['LoanStatNew'][entry]\n",
    "        try:\n",
    "            f = loans_fg.get_feature(name)\n",
    "            loans_fg.update_feature_description(name, metadata['Description'][entry])\n",
    "            print(\"Updating description of feature: {}\".format(f.name))\n",
    "        except:\n",
    "            pass # do nothing\n",
    "\n",
    "        try:\n",
    "            f = applicants_fg.get_feature(name)\n",
    "            applicants_fg.update_feature_description(name, metadata['Description'][entry])\n",
    "            print(\"Updating description of feature: {}\".format(f.name))\n",
    "        except:\n",
    "            pass # do nothing\n"
   ]
  }
 ],
 "metadata": {
  "kernelspec": {
   "display_name": "Python 3 (ipykernel)",
   "language": "python",
   "name": "python3"
  },
  "language_info": {
   "codemirror_mode": {
    "name": "ipython",
    "version": 3
   },
   "file_extension": ".py",
   "mimetype": "text/x-python",
   "name": "python",
   "nbconvert_exporter": "python",
   "pygments_lexer": "ipython3",
   "version": "3.9.7"
  },
  "papermill": {
   "default_parameters": {},
   "duration": 1434.559462,
   "end_time": "2023-01-31T14:35:09.548746",
   "environment_variables": {},
   "exception": null,
   "input_path": "__notebook__.ipynb",
   "output_path": "__notebook__.ipynb",
   "parameters": {},
   "start_time": "2023-01-31T14:11:14.989284",
   "version": "2.3.4"
  }
 },
 "nbformat": 4,
 "nbformat_minor": 5
}
