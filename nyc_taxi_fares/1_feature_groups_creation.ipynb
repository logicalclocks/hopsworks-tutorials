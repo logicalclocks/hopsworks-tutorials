{
 "cells": [
  {
   "cell_type": "markdown",
   "metadata": {},
   "source": [
    "# <a class=\"anchor\" id=\"1.5_bullet\" style=\"color:#ef798a\"> **Feature Groups creation** </a>\n",
    "---\n",
    "In this series of tutorials we will work with data related to NYC taxi fares. The end goal is to train and serve a model on the Hopsworks platform that can predict the trip price.\n",
    "\n",
    "In this particular notebook you will learn how to:\n",
    "- Connect to the Hopsworks feature store.\n",
    "- Create feature groups and upload them to the feature store.\n",
    "\n",
    "![tutorial-flow](images/online_offline_fs.png)\n",
    "\n",
    "First of all we will load the data and do some feature engineering on it.\n"
   ]
  },
  {
   "cell_type": "markdown",
   "metadata": {},
   "source": [
    "***"
   ]
  },
  {
   "cell_type": "markdown",
   "metadata": {},
   "source": [
    "### <a class=\"anchor\" id=\"1.5_bullet\" style=\"color:#e363a3\"> **📝 Importing Libraries** </a>"
   ]
  },
  {
   "cell_type": "code",
   "execution_count": 1,
   "metadata": {},
   "outputs": [
    {
     "name": "stdout",
     "output_type": "stream",
     "text": [
      "2022-07-26 17:14:05,495 INFO: generated new fontManager\n"
     ]
    }
   ],
   "source": [
    "import numpy as np\n",
    "import pandas as pd\n",
    "import matplotlib.pyplot as plt\n",
    "import seaborn as sns"
   ]
  },
  {
   "cell_type": "code",
   "execution_count": 2,
   "metadata": {},
   "outputs": [],
   "source": [
    "import hashlib\n",
    "from datetime import datetime"
   ]
  },
  {
   "cell_type": "code",
   "execution_count": 3,
   "metadata": {},
   "outputs": [],
   "source": [
    "# Hops hdfs utility library for reading and writing files from Hopsworks Feature Store\n",
    "\n",
    "from hops import hdfs"
   ]
  },
  {
   "cell_type": "markdown",
   "metadata": {},
   "source": [
    "### <a class=\"anchor\" id=\"1.5_bullet\" style=\"color:#3772ff\"> **⬇️ Loading Datasets** </a>"
   ]
  },
  {
   "cell_type": "code",
   "execution_count": 4,
   "metadata": {},
   "outputs": [
    {
     "data": {
      "text/html": [
       "<div>\n",
       "<style scoped>\n",
       "    .dataframe tbody tr th:only-of-type {\n",
       "        vertical-align: middle;\n",
       "    }\n",
       "\n",
       "    .dataframe tbody tr th {\n",
       "        vertical-align: top;\n",
       "    }\n",
       "\n",
       "    .dataframe thead th {\n",
       "        text-align: right;\n",
       "    }\n",
       "</style>\n",
       "<table border=\"1\" class=\"dataframe\">\n",
       "  <thead>\n",
       "    <tr style=\"text-align: right;\">\n",
       "      <th></th>\n",
       "      <th>ride_id</th>\n",
       "      <th>is_start</th>\n",
       "      <th>pickup_datetime</th>\n",
       "      <th>dropoff_datetime</th>\n",
       "      <th>pickup_longitude</th>\n",
       "      <th>pickup_latitude</th>\n",
       "      <th>dropoff_longitude</th>\n",
       "      <th>dropoff_latitude</th>\n",
       "      <th>passenger_count</th>\n",
       "      <th>taxi_id</th>\n",
       "      <th>driver_id</th>\n",
       "    </tr>\n",
       "  </thead>\n",
       "  <tbody>\n",
       "    <tr>\n",
       "      <th>0</th>\n",
       "      <td>1228</td>\n",
       "      <td>True</td>\n",
       "      <td>1577904560000</td>\n",
       "      <td>0</td>\n",
       "      <td>-73.867676</td>\n",
       "      <td>40.759323</td>\n",
       "      <td>-73.864080</td>\n",
       "      <td>40.763897</td>\n",
       "      <td>3</td>\n",
       "      <td>2013000194</td>\n",
       "      <td>2013000194</td>\n",
       "    </tr>\n",
       "    <tr>\n",
       "      <th>1</th>\n",
       "      <td>527</td>\n",
       "      <td>True</td>\n",
       "      <td>1577890540000</td>\n",
       "      <td>0</td>\n",
       "      <td>-73.857086</td>\n",
       "      <td>40.772793</td>\n",
       "      <td>-73.807335</td>\n",
       "      <td>40.836117</td>\n",
       "      <td>3</td>\n",
       "      <td>2013000122</td>\n",
       "      <td>2013000122</td>\n",
       "    </tr>\n",
       "    <tr>\n",
       "      <th>2</th>\n",
       "      <td>394</td>\n",
       "      <td>True</td>\n",
       "      <td>1577887880000</td>\n",
       "      <td>0</td>\n",
       "      <td>-73.844320</td>\n",
       "      <td>40.789043</td>\n",
       "      <td>-73.765950</td>\n",
       "      <td>40.888790</td>\n",
       "      <td>3</td>\n",
       "      <td>2013000102</td>\n",
       "      <td>2013000102</td>\n",
       "    </tr>\n",
       "    <tr>\n",
       "      <th>3</th>\n",
       "      <td>1366</td>\n",
       "      <td>True</td>\n",
       "      <td>1577907320000</td>\n",
       "      <td>0</td>\n",
       "      <td>-73.860565</td>\n",
       "      <td>40.768370</td>\n",
       "      <td>-73.819430</td>\n",
       "      <td>40.820730</td>\n",
       "      <td>3</td>\n",
       "      <td>2013000059</td>\n",
       "      <td>2013000059</td>\n",
       "    </tr>\n",
       "    <tr>\n",
       "      <th>4</th>\n",
       "      <td>1085</td>\n",
       "      <td>True</td>\n",
       "      <td>1577901700000</td>\n",
       "      <td>0</td>\n",
       "      <td>-73.831210</td>\n",
       "      <td>40.805737</td>\n",
       "      <td>-73.782560</td>\n",
       "      <td>40.867650</td>\n",
       "      <td>3</td>\n",
       "      <td>2013000064</td>\n",
       "      <td>2013000064</td>\n",
       "    </tr>\n",
       "  </tbody>\n",
       "</table>\n",
       "</div>"
      ],
      "text/plain": [
       "   ride_id  is_start pickup_datetime  dropoff_datetime  pickup_longitude  \\\n",
       "0     1228      True   1577904560000                 0        -73.867676   \n",
       "1      527      True   1577890540000                 0        -73.857086   \n",
       "2      394      True   1577887880000                 0        -73.844320   \n",
       "3     1366      True   1577907320000                 0        -73.860565   \n",
       "4     1085      True   1577901700000                 0        -73.831210   \n",
       "\n",
       "   pickup_latitude  dropoff_longitude  dropoff_latitude  passenger_count  \\\n",
       "0        40.759323         -73.864080         40.763897                3   \n",
       "1        40.772793         -73.807335         40.836117                3   \n",
       "2        40.789043         -73.765950         40.888790                3   \n",
       "3        40.768370         -73.819430         40.820730                3   \n",
       "4        40.805737         -73.782560         40.867650                3   \n",
       "\n",
       "      taxi_id   driver_id  \n",
       "0  2013000194  2013000194  \n",
       "1  2013000122  2013000122  \n",
       "2  2013000102  2013000102  \n",
       "3  2013000059  2013000059  \n",
       "4  2013000064  2013000064  "
      ]
     },
     "execution_count": 4,
     "metadata": {},
     "output_type": "execute_result"
    }
   ],
   "source": [
    "df_rides = pd.read_csv(\"https://raw.githubusercontent.com/rktraz/NYC-Taxi-Fares-Tutorial/main/rides.csv\", \n",
    "                       index_col=0, parse_dates=[\"pickup_datetime\"])\n",
    "df_rides.head(5)"
   ]
  },
  {
   "cell_type": "code",
   "execution_count": 5,
   "metadata": {},
   "outputs": [
    {
     "data": {
      "text/html": [
       "<div>\n",
       "<style scoped>\n",
       "    .dataframe tbody tr th:only-of-type {\n",
       "        vertical-align: middle;\n",
       "    }\n",
       "\n",
       "    .dataframe tbody tr th {\n",
       "        vertical-align: top;\n",
       "    }\n",
       "\n",
       "    .dataframe thead th {\n",
       "        text-align: right;\n",
       "    }\n",
       "</style>\n",
       "<table border=\"1\" class=\"dataframe\">\n",
       "  <thead>\n",
       "    <tr style=\"text-align: right;\">\n",
       "      <th></th>\n",
       "      <th>ride_id</th>\n",
       "      <th>taxi_id</th>\n",
       "      <th>driver_id</th>\n",
       "      <th>pickup_datetime</th>\n",
       "      <th>payment_type</th>\n",
       "      <th>tip</th>\n",
       "      <th>tolls</th>\n",
       "      <th>total_fare</th>\n",
       "    </tr>\n",
       "  </thead>\n",
       "  <tbody>\n",
       "    <tr>\n",
       "      <th>0</th>\n",
       "      <td>1</td>\n",
       "      <td>2013000185</td>\n",
       "      <td>2013000185</td>\n",
       "      <td>1577880020</td>\n",
       "      <td>CASH</td>\n",
       "      <td>33.0</td>\n",
       "      <td>0.0</td>\n",
       "      <td>118.0</td>\n",
       "    </tr>\n",
       "    <tr>\n",
       "      <th>1</th>\n",
       "      <td>2</td>\n",
       "      <td>2013000108</td>\n",
       "      <td>2013000108</td>\n",
       "      <td>1577880040</td>\n",
       "      <td>CARD</td>\n",
       "      <td>14.0</td>\n",
       "      <td>0.0</td>\n",
       "      <td>48.0</td>\n",
       "    </tr>\n",
       "    <tr>\n",
       "      <th>2</th>\n",
       "      <td>3</td>\n",
       "      <td>2013000134</td>\n",
       "      <td>2013000134</td>\n",
       "      <td>1577880060</td>\n",
       "      <td>CASH</td>\n",
       "      <td>12.0</td>\n",
       "      <td>0.0</td>\n",
       "      <td>41.0</td>\n",
       "    </tr>\n",
       "    <tr>\n",
       "      <th>3</th>\n",
       "      <td>4</td>\n",
       "      <td>2013000062</td>\n",
       "      <td>2013000062</td>\n",
       "      <td>1577880080</td>\n",
       "      <td>CARD</td>\n",
       "      <td>13.0</td>\n",
       "      <td>0.0</td>\n",
       "      <td>44.0</td>\n",
       "    </tr>\n",
       "    <tr>\n",
       "      <th>4</th>\n",
       "      <td>5</td>\n",
       "      <td>2013000087</td>\n",
       "      <td>2013000087</td>\n",
       "      <td>1577880100</td>\n",
       "      <td>CASH</td>\n",
       "      <td>14.0</td>\n",
       "      <td>0.0</td>\n",
       "      <td>46.0</td>\n",
       "    </tr>\n",
       "  </tbody>\n",
       "</table>\n",
       "</div>"
      ],
      "text/plain": [
       "   ride_id     taxi_id   driver_id pickup_datetime payment_type   tip  tolls  \\\n",
       "0        1  2013000185  2013000185      1577880020         CASH  33.0    0.0   \n",
       "1        2  2013000108  2013000108      1577880040         CARD  14.0    0.0   \n",
       "2        3  2013000134  2013000134      1577880060         CASH  12.0    0.0   \n",
       "3        4  2013000062  2013000062      1577880080         CARD  13.0    0.0   \n",
       "4        5  2013000087  2013000087      1577880100         CASH  14.0    0.0   \n",
       "\n",
       "   total_fare  \n",
       "0       118.0  \n",
       "1        48.0  \n",
       "2        41.0  \n",
       "3        44.0  \n",
       "4        46.0  "
      ]
     },
     "execution_count": 5,
     "metadata": {},
     "output_type": "execute_result"
    }
   ],
   "source": [
    "df_fares = pd.read_csv(\"https://raw.githubusercontent.com/rktraz/NYC-Taxi-Fares-Tutorial/main/fares.csv\", \n",
    "                       index_col=0, parse_dates=[\"pickup_datetime\"])\n",
    "df_fares.head(5)"
   ]
  },
  {
   "cell_type": "markdown",
   "metadata": {},
   "source": [
    "## <a class=\"anchor\" id=\"1.5_bullet\" style=\"color:#df2935\"> **🛠 EDA and Feature Engineering** </a>"
   ]
  },
  {
   "cell_type": "markdown",
   "metadata": {},
   "source": [
    "### <a class=\"anchor\" id=\"1.5_bullet\" style=\"color:#624763\"> **🔬 df_rides** </a>"
   ]
  },
  {
   "cell_type": "code",
   "execution_count": 6,
   "metadata": {},
   "outputs": [
    {
     "data": {
      "text/plain": [
       "ride_id                int64\n",
       "is_start                bool\n",
       "pickup_datetime       object\n",
       "dropoff_datetime       int64\n",
       "pickup_longitude     float64\n",
       "pickup_latitude      float64\n",
       "dropoff_longitude    float64\n",
       "dropoff_latitude     float64\n",
       "passenger_count        int64\n",
       "taxi_id                int64\n",
       "driver_id              int64\n",
       "dtype: object"
      ]
     },
     "execution_count": 6,
     "metadata": {},
     "output_type": "execute_result"
    }
   ],
   "source": [
    "df_rides.dtypes"
   ]
  },
  {
   "cell_type": "code",
   "execution_count": 7,
   "metadata": {},
   "outputs": [
    {
     "data": {
      "text/plain": [
       "0        1577904560000\n",
       "1        1577890540000\n",
       "2        1577887880000\n",
       "3        1577907320000\n",
       "4        1577901700000\n",
       "             ...      \n",
       "41073    1578696720000\n",
       "41074    1578692780000\n",
       "41075    1578698180000\n",
       "41076    1578697460000\n",
       "41077    1578697620000\n",
       "Name: pickup_datetime, Length: 41078, dtype: object"
      ]
     },
     "execution_count": 7,
     "metadata": {},
     "output_type": "execute_result"
    }
   ],
   "source": [
    "df_rides.pickup_datetime"
   ]
  },
  {
   "cell_type": "code",
   "execution_count": 8,
   "metadata": {},
   "outputs": [
    {
     "data": {
      "text/html": [
       "<div>\n",
       "<style scoped>\n",
       "    .dataframe tbody tr th:only-of-type {\n",
       "        vertical-align: middle;\n",
       "    }\n",
       "\n",
       "    .dataframe tbody tr th {\n",
       "        vertical-align: top;\n",
       "    }\n",
       "\n",
       "    .dataframe thead th {\n",
       "        text-align: right;\n",
       "    }\n",
       "</style>\n",
       "<table border=\"1\" class=\"dataframe\">\n",
       "  <thead>\n",
       "    <tr style=\"text-align: right;\">\n",
       "      <th></th>\n",
       "      <th>ride_id</th>\n",
       "      <th>is_start</th>\n",
       "      <th>pickup_datetime</th>\n",
       "      <th>dropoff_datetime</th>\n",
       "      <th>pickup_longitude</th>\n",
       "      <th>pickup_latitude</th>\n",
       "      <th>dropoff_longitude</th>\n",
       "      <th>dropoff_latitude</th>\n",
       "      <th>passenger_count</th>\n",
       "      <th>taxi_id</th>\n",
       "      <th>driver_id</th>\n",
       "    </tr>\n",
       "  </thead>\n",
       "  <tbody>\n",
       "    <tr>\n",
       "      <th>0</th>\n",
       "      <td>1228</td>\n",
       "      <td>True</td>\n",
       "      <td>1577904560000</td>\n",
       "      <td>0</td>\n",
       "      <td>-73.867676</td>\n",
       "      <td>40.759323</td>\n",
       "      <td>-73.864080</td>\n",
       "      <td>40.763897</td>\n",
       "      <td>3</td>\n",
       "      <td>2013000194</td>\n",
       "      <td>2013000194</td>\n",
       "    </tr>\n",
       "    <tr>\n",
       "      <th>1</th>\n",
       "      <td>527</td>\n",
       "      <td>True</td>\n",
       "      <td>1577890540000</td>\n",
       "      <td>0</td>\n",
       "      <td>-73.857086</td>\n",
       "      <td>40.772793</td>\n",
       "      <td>-73.807335</td>\n",
       "      <td>40.836117</td>\n",
       "      <td>3</td>\n",
       "      <td>2013000122</td>\n",
       "      <td>2013000122</td>\n",
       "    </tr>\n",
       "    <tr>\n",
       "      <th>2</th>\n",
       "      <td>394</td>\n",
       "      <td>True</td>\n",
       "      <td>1577887880000</td>\n",
       "      <td>0</td>\n",
       "      <td>-73.844320</td>\n",
       "      <td>40.789043</td>\n",
       "      <td>-73.765950</td>\n",
       "      <td>40.888790</td>\n",
       "      <td>3</td>\n",
       "      <td>2013000102</td>\n",
       "      <td>2013000102</td>\n",
       "    </tr>\n",
       "  </tbody>\n",
       "</table>\n",
       "</div>"
      ],
      "text/plain": [
       "   ride_id  is_start pickup_datetime  dropoff_datetime  pickup_longitude  \\\n",
       "0     1228      True   1577904560000                 0        -73.867676   \n",
       "1      527      True   1577890540000                 0        -73.857086   \n",
       "2      394      True   1577887880000                 0        -73.844320   \n",
       "\n",
       "   pickup_latitude  dropoff_longitude  dropoff_latitude  passenger_count  \\\n",
       "0        40.759323         -73.864080         40.763897                3   \n",
       "1        40.772793         -73.807335         40.836117                3   \n",
       "2        40.789043         -73.765950         40.888790                3   \n",
       "\n",
       "      taxi_id   driver_id  \n",
       "0  2013000194  2013000194  \n",
       "1  2013000122  2013000122  \n",
       "2  2013000102  2013000102  "
      ]
     },
     "execution_count": 8,
     "metadata": {},
     "output_type": "execute_result"
    }
   ],
   "source": [
    "df_rides.head(3)"
   ]
  },
  {
   "cell_type": "code",
   "execution_count": 9,
   "metadata": {},
   "outputs": [
    {
     "data": {
      "text/plain": [
       "(array([0]), array([ True]))"
      ]
     },
     "execution_count": 9,
     "metadata": {},
     "output_type": "execute_result"
    }
   ],
   "source": [
    "df_rides.dropoff_datetime.unique(), df_rides.is_start.unique()"
   ]
  },
  {
   "cell_type": "markdown",
   "metadata": {},
   "source": [
    "As we can see, 'dropoff_datetime' and 'is_start' columns do not give us any useful info. We will drop them."
   ]
  },
  {
   "cell_type": "code",
   "execution_count": 10,
   "metadata": {},
   "outputs": [],
   "source": [
    "df_rides = df_rides.drop(columns=[\"dropoff_datetime\", \"is_start\"])"
   ]
  },
  {
   "cell_type": "code",
   "execution_count": 11,
   "metadata": {},
   "outputs": [
    {
     "data": {
      "text/plain": [
       "(41078, 9)"
      ]
     },
     "execution_count": 11,
     "metadata": {},
     "output_type": "execute_result"
    }
   ],
   "source": [
    "df_rides.shape"
   ]
  },
  {
   "cell_type": "code",
   "execution_count": 12,
   "metadata": {},
   "outputs": [
    {
     "data": {
      "text/html": [
       "<div>\n",
       "<style scoped>\n",
       "    .dataframe tbody tr th:only-of-type {\n",
       "        vertical-align: middle;\n",
       "    }\n",
       "\n",
       "    .dataframe tbody tr th {\n",
       "        vertical-align: top;\n",
       "    }\n",
       "\n",
       "    .dataframe thead th {\n",
       "        text-align: right;\n",
       "    }\n",
       "</style>\n",
       "<table border=\"1\" class=\"dataframe\">\n",
       "  <thead>\n",
       "    <tr style=\"text-align: right;\">\n",
       "      <th></th>\n",
       "      <th>ride_id</th>\n",
       "      <th>pickup_longitude</th>\n",
       "      <th>pickup_latitude</th>\n",
       "      <th>dropoff_longitude</th>\n",
       "      <th>dropoff_latitude</th>\n",
       "      <th>passenger_count</th>\n",
       "      <th>taxi_id</th>\n",
       "      <th>driver_id</th>\n",
       "    </tr>\n",
       "  </thead>\n",
       "  <tbody>\n",
       "    <tr>\n",
       "      <th>count</th>\n",
       "      <td>41078.000000</td>\n",
       "      <td>41078.000000</td>\n",
       "      <td>41078.000000</td>\n",
       "      <td>41078.000000</td>\n",
       "      <td>41078.000000</td>\n",
       "      <td>41078.000000</td>\n",
       "      <td>4.107800e+04</td>\n",
       "      <td>4.107800e+04</td>\n",
       "    </tr>\n",
       "    <tr>\n",
       "      <th>mean</th>\n",
       "      <td>20539.500000</td>\n",
       "      <td>-73.874513</td>\n",
       "      <td>40.750620</td>\n",
       "      <td>-73.874596</td>\n",
       "      <td>40.750514</td>\n",
       "      <td>2.503238</td>\n",
       "      <td>2.013000e+09</td>\n",
       "      <td>2.013000e+09</td>\n",
       "    </tr>\n",
       "    <tr>\n",
       "      <th>std</th>\n",
       "      <td>11858.341516</td>\n",
       "      <td>0.068350</td>\n",
       "      <td>0.086990</td>\n",
       "      <td>0.068332</td>\n",
       "      <td>0.086967</td>\n",
       "      <td>0.513021</td>\n",
       "      <td>5.773362e+01</td>\n",
       "      <td>5.773362e+01</td>\n",
       "    </tr>\n",
       "    <tr>\n",
       "      <th>min</th>\n",
       "      <td>1.000000</td>\n",
       "      <td>-74.140670</td>\n",
       "      <td>40.411880</td>\n",
       "      <td>-74.140670</td>\n",
       "      <td>40.411880</td>\n",
       "      <td>1.000000</td>\n",
       "      <td>2.013000e+09</td>\n",
       "      <td>2.013000e+09</td>\n",
       "    </tr>\n",
       "    <tr>\n",
       "      <th>25%</th>\n",
       "      <td>10270.250000</td>\n",
       "      <td>-73.921960</td>\n",
       "      <td>40.690235</td>\n",
       "      <td>-73.922005</td>\n",
       "      <td>40.690175</td>\n",
       "      <td>2.000000</td>\n",
       "      <td>2.013000e+09</td>\n",
       "      <td>2.013000e+09</td>\n",
       "    </tr>\n",
       "    <tr>\n",
       "      <th>50%</th>\n",
       "      <td>20539.500000</td>\n",
       "      <td>-73.874306</td>\n",
       "      <td>40.750890</td>\n",
       "      <td>-73.874468</td>\n",
       "      <td>40.750676</td>\n",
       "      <td>3.000000</td>\n",
       "      <td>2.013000e+09</td>\n",
       "      <td>2.013000e+09</td>\n",
       "    </tr>\n",
       "    <tr>\n",
       "      <th>75%</th>\n",
       "      <td>30808.750000</td>\n",
       "      <td>-73.827060</td>\n",
       "      <td>40.811023</td>\n",
       "      <td>-73.827156</td>\n",
       "      <td>40.810890</td>\n",
       "      <td>3.000000</td>\n",
       "      <td>2.013000e+09</td>\n",
       "      <td>2.013000e+09</td>\n",
       "    </tr>\n",
       "    <tr>\n",
       "      <th>max</th>\n",
       "      <td>41078.000000</td>\n",
       "      <td>-73.603760</td>\n",
       "      <td>41.095210</td>\n",
       "      <td>-73.603760</td>\n",
       "      <td>41.095210</td>\n",
       "      <td>4.000000</td>\n",
       "      <td>2.013000e+09</td>\n",
       "      <td>2.013000e+09</td>\n",
       "    </tr>\n",
       "  </tbody>\n",
       "</table>\n",
       "</div>"
      ],
      "text/plain": [
       "            ride_id  pickup_longitude  pickup_latitude  dropoff_longitude  \\\n",
       "count  41078.000000      41078.000000     41078.000000       41078.000000   \n",
       "mean   20539.500000        -73.874513        40.750620         -73.874596   \n",
       "std    11858.341516          0.068350         0.086990           0.068332   \n",
       "min        1.000000        -74.140670        40.411880         -74.140670   \n",
       "25%    10270.250000        -73.921960        40.690235         -73.922005   \n",
       "50%    20539.500000        -73.874306        40.750890         -73.874468   \n",
       "75%    30808.750000        -73.827060        40.811023         -73.827156   \n",
       "max    41078.000000        -73.603760        41.095210         -73.603760   \n",
       "\n",
       "       dropoff_latitude  passenger_count       taxi_id     driver_id  \n",
       "count      41078.000000     41078.000000  4.107800e+04  4.107800e+04  \n",
       "mean          40.750514         2.503238  2.013000e+09  2.013000e+09  \n",
       "std            0.086967         0.513021  5.773362e+01  5.773362e+01  \n",
       "min           40.411880         1.000000  2.013000e+09  2.013000e+09  \n",
       "25%           40.690175         2.000000  2.013000e+09  2.013000e+09  \n",
       "50%           40.750676         3.000000  2.013000e+09  2.013000e+09  \n",
       "75%           40.810890         3.000000  2.013000e+09  2.013000e+09  \n",
       "max           41.095210         4.000000  2.013000e+09  2.013000e+09  "
      ]
     },
     "execution_count": 12,
     "metadata": {},
     "output_type": "execute_result"
    }
   ],
   "source": [
    "df_rides.describe()"
   ]
  },
  {
   "cell_type": "markdown",
   "metadata": {},
   "source": [
    "#### <a class=\"anchor\" id=\"1.5_bullet\" style=\"color:#dea402\"> **💡 Dealing with distance metrics** </a>\n"
   ]
  },
  {
   "cell_type": "code",
   "execution_count": 13,
   "metadata": {},
   "outputs": [
    {
     "data": {
      "text/plain": [
       "(-74.14067, -73.60376)"
      ]
     },
     "execution_count": 13,
     "metadata": {},
     "output_type": "execute_result"
    }
   ],
   "source": [
    "# minimum and maximum longitude\n",
    "min(df_rides.pickup_longitude.min(), df_rides.dropoff_longitude.min()), \\\n",
    "max(df_rides.pickup_longitude.max(), df_rides.dropoff_longitude.max())"
   ]
  },
  {
   "cell_type": "code",
   "execution_count": 14,
   "metadata": {},
   "outputs": [
    {
     "data": {
      "text/plain": [
       "(40.41188, 41.09521)"
      ]
     },
     "execution_count": 14,
     "metadata": {},
     "output_type": "execute_result"
    }
   ],
   "source": [
    "# minimum and maximum longitude\n",
    "min(df_rides.pickup_latitude.min(), df_rides.dropoff_latitude.min()), \\\n",
    "max(df_rides.pickup_latitude.max(), df_rides.dropoff_latitude.max())"
   ]
  },
  {
   "cell_type": "markdown",
   "metadata": {},
   "source": [
    "##### <a class=\"anchor\" id=\"1.5_bullet\" style=\"color:#dea402\"> **Let's select rides that were perfomed inside NYC geographically** </a>\n"
   ]
  },
  {
   "cell_type": "code",
   "execution_count": 15,
   "metadata": {},
   "outputs": [],
   "source": [
    "# a function for selecting rows that are inside some bounding box\n",
    "def select_within_boundingbox(df, BB):\n",
    "    return (df.pickup_longitude >= BB[0]) & (df.pickup_longitude <= BB[1]) & \\\n",
    "           (df.pickup_latitude >= BB[2]) & (df.pickup_latitude <= BB[3]) & \\\n",
    "           (df.dropoff_longitude >= BB[0]) & (df.dropoff_longitude <= BB[1]) & \\\n",
    "           (df.dropoff_latitude >= BB[2]) & (df.dropoff_latitude <= BB[3])\n",
    "            \n",
    "# NYC coordinates bounding box\n",
    "BB = (-74.5, -72.8, 40.5, 41.8)"
   ]
  },
  {
   "cell_type": "code",
   "execution_count": 16,
   "metadata": {},
   "outputs": [
    {
     "name": "stdout",
     "output_type": "stream",
     "text": [
      "Old size: 41078\n",
      "New size: 40907\n"
     ]
    }
   ],
   "source": [
    "print('Old size: %d' % len(df_rides))\n",
    "df_rides = df_rides[select_within_boundingbox(df_rides, BB)]\n",
    "print('New size: %d' % len(df_rides))"
   ]
  },
  {
   "cell_type": "markdown",
   "metadata": {},
   "source": [
    "##### <a class=\"anchor\" id=\"1.5_bullet\" style=\"color:#dea402\"> **Now we will add a new column that represents distance of rides (in miles).** </a>\n"
   ]
  },
  {
   "cell_type": "code",
   "execution_count": 17,
   "metadata": {},
   "outputs": [],
   "source": [
    "# returns distance in miles\n",
    "def distance(lat1, lon1, lat2, lon2):\n",
    "    p = 0.017453292519943295 # Pi/180\n",
    "    a = 0.5 - np.cos((lat2 - lat1) * p)/2 + np.cos(lat1 * p) * np.cos(lat2 * p) * (1 - np.cos((lon2 - lon1) * p)) / 2\n",
    "    return 0.6213712 * 12742 * np.arcsin(np.sqrt(a))"
   ]
  },
  {
   "cell_type": "code",
   "execution_count": 18,
   "metadata": {},
   "outputs": [
    {
     "data": {
      "text/plain": [
       "Index(['ride_id', 'pickup_datetime', 'pickup_longitude', 'pickup_latitude',\n",
       "       'dropoff_longitude', 'dropoff_latitude', 'passenger_count', 'taxi_id',\n",
       "       'driver_id'],\n",
       "      dtype='object')"
      ]
     },
     "execution_count": 18,
     "metadata": {},
     "output_type": "execute_result"
    }
   ],
   "source": [
    "df_rides.columns"
   ]
  },
  {
   "cell_type": "code",
   "execution_count": 19,
   "metadata": {},
   "outputs": [],
   "source": [
    "df_rides[\"distance\"] = distance(df_rides[\"pickup_latitude\"], df_rides[\"pickup_longitude\"],\n",
    "                            df_rides[\"dropoff_latitude\"], df_rides[\"dropoff_longitude\"])"
   ]
  },
  {
   "cell_type": "code",
   "execution_count": 20,
   "metadata": {},
   "outputs": [
    {
     "data": {
      "text/html": [
       "<div>\n",
       "<style scoped>\n",
       "    .dataframe tbody tr th:only-of-type {\n",
       "        vertical-align: middle;\n",
       "    }\n",
       "\n",
       "    .dataframe tbody tr th {\n",
       "        vertical-align: top;\n",
       "    }\n",
       "\n",
       "    .dataframe thead th {\n",
       "        text-align: right;\n",
       "    }\n",
       "</style>\n",
       "<table border=\"1\" class=\"dataframe\">\n",
       "  <thead>\n",
       "    <tr style=\"text-align: right;\">\n",
       "      <th></th>\n",
       "      <th>ride_id</th>\n",
       "      <th>pickup_datetime</th>\n",
       "      <th>pickup_longitude</th>\n",
       "      <th>pickup_latitude</th>\n",
       "      <th>dropoff_longitude</th>\n",
       "      <th>dropoff_latitude</th>\n",
       "      <th>passenger_count</th>\n",
       "      <th>taxi_id</th>\n",
       "      <th>driver_id</th>\n",
       "      <th>distance</th>\n",
       "    </tr>\n",
       "  </thead>\n",
       "  <tbody>\n",
       "    <tr>\n",
       "      <th>0</th>\n",
       "      <td>1228</td>\n",
       "      <td>1577904560000</td>\n",
       "      <td>-73.867676</td>\n",
       "      <td>40.759323</td>\n",
       "      <td>-73.864080</td>\n",
       "      <td>40.763897</td>\n",
       "      <td>3</td>\n",
       "      <td>2013000194</td>\n",
       "      <td>2013000194</td>\n",
       "      <td>0.367822</td>\n",
       "    </tr>\n",
       "    <tr>\n",
       "      <th>1</th>\n",
       "      <td>527</td>\n",
       "      <td>1577890540000</td>\n",
       "      <td>-73.857086</td>\n",
       "      <td>40.772793</td>\n",
       "      <td>-73.807335</td>\n",
       "      <td>40.836117</td>\n",
       "      <td>3</td>\n",
       "      <td>2013000122</td>\n",
       "      <td>2013000122</td>\n",
       "      <td>5.090499</td>\n",
       "    </tr>\n",
       "    <tr>\n",
       "      <th>2</th>\n",
       "      <td>394</td>\n",
       "      <td>1577887880000</td>\n",
       "      <td>-73.844320</td>\n",
       "      <td>40.789043</td>\n",
       "      <td>-73.765950</td>\n",
       "      <td>40.888790</td>\n",
       "      <td>3</td>\n",
       "      <td>2013000102</td>\n",
       "      <td>2013000102</td>\n",
       "      <td>8.017468</td>\n",
       "    </tr>\n",
       "  </tbody>\n",
       "</table>\n",
       "</div>"
      ],
      "text/plain": [
       "   ride_id pickup_datetime  pickup_longitude  pickup_latitude  \\\n",
       "0     1228   1577904560000        -73.867676        40.759323   \n",
       "1      527   1577890540000        -73.857086        40.772793   \n",
       "2      394   1577887880000        -73.844320        40.789043   \n",
       "\n",
       "   dropoff_longitude  dropoff_latitude  passenger_count     taxi_id  \\\n",
       "0         -73.864080         40.763897                3  2013000194   \n",
       "1         -73.807335         40.836117                3  2013000122   \n",
       "2         -73.765950         40.888790                3  2013000102   \n",
       "\n",
       "    driver_id  distance  \n",
       "0  2013000194  0.367822  \n",
       "1  2013000122  5.090499  \n",
       "2  2013000102  8.017468  "
      ]
     },
     "execution_count": 20,
     "metadata": {},
     "output_type": "execute_result"
    }
   ],
   "source": [
    "df_rides.head(3)"
   ]
  },
  {
   "cell_type": "code",
   "execution_count": 21,
   "metadata": {},
   "outputs": [
    {
     "data": {
      "image/png": "[encoded data removed]",
      "text/plain": [
       "<Figure size 640x480 with 1 Axes>"
      ]
     },
     "metadata": {},
     "output_type": "display_data"
    }
   ],
   "source": [
    "df_rides.distance.hist(legend=True)\n",
    "plt.xlabel('Miles')\n",
    "plt.ylabel('Number of records')\n",
    "plt.show()"
   ]
  },
  {
   "cell_type": "markdown",
   "metadata": {},
   "source": [
    "##### <a class=\"anchor\" id=\"1.5_bullet\" style=\"color:#dea402\"> **Let us add usefull features about distances to NYC airports.** </a>\n",
    "\n"
   ]
  },
  {
   "cell_type": "code",
   "execution_count": 22,
   "metadata": {},
   "outputs": [],
   "source": [
    "# Distances to nearby airports\n",
    "jfk = (-73.7781, 40.6413)\n",
    "ewr = (-74.1745, 40.6895)\n",
    "lgr = (-73.8740, 40.7769)\n",
    "\n",
    "df_rides['pickup_distance_to_jfk'] = distance(jfk[1], jfk[0],\n",
    "                                     df_rides['pickup_latitude'], df_rides['pickup_longitude'])\n",
    "df_rides['dropoff_distance_to_jfk'] = distance(jfk[1], jfk[0],\n",
    "                                       df_rides['dropoff_latitude'], df_rides['dropoff_longitude'])\n",
    "df_rides['pickup_distance_to_ewr'] = distance(ewr[1], ewr[0], \n",
    "                                      df_rides['pickup_latitude'], df_rides['pickup_longitude'])\n",
    "df_rides['dropoff_distance_to_ewr'] = distance(ewr[1], ewr[0],\n",
    "                                       df_rides['dropoff_latitude'], df_rides['dropoff_longitude'])\n",
    "df_rides['pickup_distance_to_lgr'] = distance(lgr[1], lgr[0],\n",
    "                                      df_rides['pickup_latitude'], df_rides['pickup_longitude'])\n",
    "df_rides['dropoff_distance_to_lgr'] = distance(lgr[1], lgr[0],\n",
    "                                       df_rides['dropoff_latitude'], df_rides['dropoff_longitude'])\n"
   ]
  },
  {
   "cell_type": "code",
   "execution_count": 23,
   "metadata": {},
   "outputs": [
    {
     "data": {
      "text/html": [
       "<div>\n",
       "<style scoped>\n",
       "    .dataframe tbody tr th:only-of-type {\n",
       "        vertical-align: middle;\n",
       "    }\n",
       "\n",
       "    .dataframe tbody tr th {\n",
       "        vertical-align: top;\n",
       "    }\n",
       "\n",
       "    .dataframe thead th {\n",
       "        text-align: right;\n",
       "    }\n",
       "</style>\n",
       "<table border=\"1\" class=\"dataframe\">\n",
       "  <thead>\n",
       "    <tr style=\"text-align: right;\">\n",
       "      <th></th>\n",
       "      <th>ride_id</th>\n",
       "      <th>pickup_datetime</th>\n",
       "      <th>pickup_longitude</th>\n",
       "      <th>pickup_latitude</th>\n",
       "      <th>dropoff_longitude</th>\n",
       "      <th>dropoff_latitude</th>\n",
       "      <th>passenger_count</th>\n",
       "      <th>taxi_id</th>\n",
       "      <th>driver_id</th>\n",
       "      <th>distance</th>\n",
       "      <th>pickup_distance_to_jfk</th>\n",
       "      <th>dropoff_distance_to_jfk</th>\n",
       "      <th>pickup_distance_to_ewr</th>\n",
       "      <th>dropoff_distance_to_ewr</th>\n",
       "      <th>pickup_distance_to_lgr</th>\n",
       "      <th>dropoff_distance_to_lgr</th>\n",
       "    </tr>\n",
       "  </thead>\n",
       "  <tbody>\n",
       "    <tr>\n",
       "      <th>0</th>\n",
       "      <td>1228</td>\n",
       "      <td>1577904560000</td>\n",
       "      <td>-73.867676</td>\n",
       "      <td>40.759323</td>\n",
       "      <td>-73.864080</td>\n",
       "      <td>40.763897</td>\n",
       "      <td>3</td>\n",
       "      <td>2013000194</td>\n",
       "      <td>2013000194</td>\n",
       "      <td>0.367822</td>\n",
       "      <td>9.408176</td>\n",
       "      <td>9.593451</td>\n",
       "      <td>16.774843</td>\n",
       "      <td>17.047352</td>\n",
       "      <td>1.258733</td>\n",
       "      <td>1.037595</td>\n",
       "    </tr>\n",
       "    <tr>\n",
       "      <th>1</th>\n",
       "      <td>527</td>\n",
       "      <td>1577890540000</td>\n",
       "      <td>-73.857086</td>\n",
       "      <td>40.772793</td>\n",
       "      <td>-73.807335</td>\n",
       "      <td>40.836117</td>\n",
       "      <td>3</td>\n",
       "      <td>2013000122</td>\n",
       "      <td>2013000122</td>\n",
       "      <td>5.090499</td>\n",
       "      <td>9.982850</td>\n",
       "      <td>13.547285</td>\n",
       "      <td>17.587239</td>\n",
       "      <td>21.721546</td>\n",
       "      <td>0.929374</td>\n",
       "      <td>5.375477</td>\n",
       "    </tr>\n",
       "    <tr>\n",
       "      <th>2</th>\n",
       "      <td>394</td>\n",
       "      <td>1577887880000</td>\n",
       "      <td>-73.844320</td>\n",
       "      <td>40.789043</td>\n",
       "      <td>-73.765950</td>\n",
       "      <td>40.888790</td>\n",
       "      <td>3</td>\n",
       "      <td>2013000102</td>\n",
       "      <td>2013000102</td>\n",
       "      <td>8.017468</td>\n",
       "      <td>10.781049</td>\n",
       "      <td>17.111724</td>\n",
       "      <td>18.603343</td>\n",
       "      <td>25.423662</td>\n",
       "      <td>1.764932</td>\n",
       "      <td>9.574572</td>\n",
       "    </tr>\n",
       "  </tbody>\n",
       "</table>\n",
       "</div>"
      ],
      "text/plain": [
       "   ride_id pickup_datetime  pickup_longitude  pickup_latitude  \\\n",
       "0     1228   1577904560000        -73.867676        40.759323   \n",
       "1      527   1577890540000        -73.857086        40.772793   \n",
       "2      394   1577887880000        -73.844320        40.789043   \n",
       "\n",
       "   dropoff_longitude  dropoff_latitude  passenger_count     taxi_id  \\\n",
       "0         -73.864080         40.763897                3  2013000194   \n",
       "1         -73.807335         40.836117                3  2013000122   \n",
       "2         -73.765950         40.888790                3  2013000102   \n",
       "\n",
       "    driver_id  distance  pickup_distance_to_jfk  dropoff_distance_to_jfk  \\\n",
       "0  2013000194  0.367822                9.408176                 9.593451   \n",
       "1  2013000122  5.090499                9.982850                13.547285   \n",
       "2  2013000102  8.017468               10.781049                17.111724   \n",
       "\n",
       "   pickup_distance_to_ewr  dropoff_distance_to_ewr  pickup_distance_to_lgr  \\\n",
       "0               16.774843                17.047352                1.258733   \n",
       "1               17.587239                21.721546                0.929374   \n",
       "2               18.603343                25.423662                1.764932   \n",
       "\n",
       "   dropoff_distance_to_lgr  \n",
       "0                 1.037595  \n",
       "1                 5.375477  \n",
       "2                 9.574572  "
      ]
     },
     "execution_count": 23,
     "metadata": {},
     "output_type": "execute_result"
    }
   ],
   "source": [
    "df_rides.head(3)"
   ]
  },
  {
   "cell_type": "markdown",
   "metadata": {},
   "source": [
    "#### <a class=\"anchor\" id=\"1.5_bullet\" style=\"color:#ff1053\"> **⏱ Dealing with datetime** </a>\n"
   ]
  },
  {
   "cell_type": "markdown",
   "metadata": {},
   "source": [
    "##### <a class=\"anchor\" id=\"1.5_bullet\" style=\"color:#ff1053\"> **Now we need to save datetime in the proper format.** </a>\n"
   ]
  },
  {
   "cell_type": "code",
   "execution_count": 24,
   "metadata": {},
   "outputs": [],
   "source": [
    "df_rides[\"pickup_datetime\"] = (pd.to_datetime(df_rides[\"pickup_datetime\"],unit='ms'))"
   ]
  },
  {
   "cell_type": "markdown",
   "metadata": {},
   "source": [
    "##### <a class=\"anchor\" id=\"1.5_bullet\" style=\"color:#ff1053\"> **Adding additional time features.** </a>\n"
   ]
  },
  {
   "cell_type": "code",
   "execution_count": 25,
   "metadata": {},
   "outputs": [],
   "source": [
    "df_rides['year'] = df_rides.pickup_datetime.apply(lambda t: t.year)\n",
    "df_rides['weekday'] = df_rides.pickup_datetime.apply(lambda t: t.weekday())\n",
    "df_rides['hour'] = df_rides.pickup_datetime.apply(lambda t: t.hour)"
   ]
  },
  {
   "cell_type": "markdown",
   "metadata": {},
   "source": [
    "##### <a class=\"anchor\" id=\"1.5_bullet\" style=\"color:#ff1053\"> **Make a new `month_of_the_ride` column for *partition_key* (this is all for Feature Group creating).** </a>\n",
    "\n"
   ]
  },
  {
   "cell_type": "code",
   "execution_count": 26,
   "metadata": {},
   "outputs": [],
   "source": [
    "df_rides[\"month_of_the_ride\"] = df_rides[\"pickup_datetime\"].dt.strftime('%Y%m')"
   ]
  },
  {
   "cell_type": "markdown",
   "metadata": {},
   "source": [
    "##### <a class=\"anchor\" id=\"1.5_bullet\" style=\"color:#ff1053\"> **Convert a `pickup_datetime` back to UNIX format.** </a>\n",
    "\n"
   ]
  },
  {
   "cell_type": "code",
   "execution_count": 27,
   "metadata": {},
   "outputs": [],
   "source": [
    "df_rides[\"pickup_datetime\"] = df_rides[\"pickup_datetime\"].values.astype(np.int64) // 10 ** 6"
   ]
  },
  {
   "cell_type": "code",
   "execution_count": 28,
   "metadata": {},
   "outputs": [
    {
     "data": {
      "text/html": [
       "<div>\n",
       "<style scoped>\n",
       "    .dataframe tbody tr th:only-of-type {\n",
       "        vertical-align: middle;\n",
       "    }\n",
       "\n",
       "    .dataframe tbody tr th {\n",
       "        vertical-align: top;\n",
       "    }\n",
       "\n",
       "    .dataframe thead th {\n",
       "        text-align: right;\n",
       "    }\n",
       "</style>\n",
       "<table border=\"1\" class=\"dataframe\">\n",
       "  <thead>\n",
       "    <tr style=\"text-align: right;\">\n",
       "      <th></th>\n",
       "      <th>ride_id</th>\n",
       "      <th>pickup_datetime</th>\n",
       "      <th>pickup_longitude</th>\n",
       "      <th>pickup_latitude</th>\n",
       "      <th>dropoff_longitude</th>\n",
       "      <th>dropoff_latitude</th>\n",
       "      <th>passenger_count</th>\n",
       "      <th>taxi_id</th>\n",
       "      <th>driver_id</th>\n",
       "      <th>distance</th>\n",
       "      <th>pickup_distance_to_jfk</th>\n",
       "      <th>dropoff_distance_to_jfk</th>\n",
       "      <th>pickup_distance_to_ewr</th>\n",
       "      <th>dropoff_distance_to_ewr</th>\n",
       "      <th>pickup_distance_to_lgr</th>\n",
       "      <th>dropoff_distance_to_lgr</th>\n",
       "      <th>year</th>\n",
       "      <th>weekday</th>\n",
       "      <th>hour</th>\n",
       "      <th>month_of_the_ride</th>\n",
       "    </tr>\n",
       "  </thead>\n",
       "  <tbody>\n",
       "    <tr>\n",
       "      <th>0</th>\n",
       "      <td>1228</td>\n",
       "      <td>1577904560000</td>\n",
       "      <td>-73.867676</td>\n",
       "      <td>40.759323</td>\n",
       "      <td>-73.864080</td>\n",
       "      <td>40.763897</td>\n",
       "      <td>3</td>\n",
       "      <td>2013000194</td>\n",
       "      <td>2013000194</td>\n",
       "      <td>0.367822</td>\n",
       "      <td>9.408176</td>\n",
       "      <td>9.593451</td>\n",
       "      <td>16.774843</td>\n",
       "      <td>17.047352</td>\n",
       "      <td>1.258733</td>\n",
       "      <td>1.037595</td>\n",
       "      <td>2020</td>\n",
       "      <td>2</td>\n",
       "      <td>18</td>\n",
       "      <td>202001</td>\n",
       "    </tr>\n",
       "    <tr>\n",
       "      <th>1</th>\n",
       "      <td>527</td>\n",
       "      <td>1577890540000</td>\n",
       "      <td>-73.857086</td>\n",
       "      <td>40.772793</td>\n",
       "      <td>-73.807335</td>\n",
       "      <td>40.836117</td>\n",
       "      <td>3</td>\n",
       "      <td>2013000122</td>\n",
       "      <td>2013000122</td>\n",
       "      <td>5.090499</td>\n",
       "      <td>9.982850</td>\n",
       "      <td>13.547285</td>\n",
       "      <td>17.587239</td>\n",
       "      <td>21.721546</td>\n",
       "      <td>0.929374</td>\n",
       "      <td>5.375477</td>\n",
       "      <td>2020</td>\n",
       "      <td>2</td>\n",
       "      <td>14</td>\n",
       "      <td>202001</td>\n",
       "    </tr>\n",
       "    <tr>\n",
       "      <th>2</th>\n",
       "      <td>394</td>\n",
       "      <td>1577887880000</td>\n",
       "      <td>-73.844320</td>\n",
       "      <td>40.789043</td>\n",
       "      <td>-73.765950</td>\n",
       "      <td>40.888790</td>\n",
       "      <td>3</td>\n",
       "      <td>2013000102</td>\n",
       "      <td>2013000102</td>\n",
       "      <td>8.017468</td>\n",
       "      <td>10.781049</td>\n",
       "      <td>17.111724</td>\n",
       "      <td>18.603343</td>\n",
       "      <td>25.423662</td>\n",
       "      <td>1.764932</td>\n",
       "      <td>9.574572</td>\n",
       "      <td>2020</td>\n",
       "      <td>2</td>\n",
       "      <td>14</td>\n",
       "      <td>202001</td>\n",
       "    </tr>\n",
       "  </tbody>\n",
       "</table>\n",
       "</div>"
      ],
      "text/plain": [
       "   ride_id  pickup_datetime  pickup_longitude  pickup_latitude  \\\n",
       "0     1228    1577904560000        -73.867676        40.759323   \n",
       "1      527    1577890540000        -73.857086        40.772793   \n",
       "2      394    1577887880000        -73.844320        40.789043   \n",
       "\n",
       "   dropoff_longitude  dropoff_latitude  passenger_count     taxi_id  \\\n",
       "0         -73.864080         40.763897                3  2013000194   \n",
       "1         -73.807335         40.836117                3  2013000122   \n",
       "2         -73.765950         40.888790                3  2013000102   \n",
       "\n",
       "    driver_id  distance  pickup_distance_to_jfk  dropoff_distance_to_jfk  \\\n",
       "0  2013000194  0.367822                9.408176                 9.593451   \n",
       "1  2013000122  5.090499                9.982850                13.547285   \n",
       "2  2013000102  8.017468               10.781049                17.111724   \n",
       "\n",
       "   pickup_distance_to_ewr  dropoff_distance_to_ewr  pickup_distance_to_lgr  \\\n",
       "0               16.774843                17.047352                1.258733   \n",
       "1               17.587239                21.721546                0.929374   \n",
       "2               18.603343                25.423662                1.764932   \n",
       "\n",
       "   dropoff_distance_to_lgr  year  weekday  hour month_of_the_ride  \n",
       "0                 1.037595  2020        2    18            202001  \n",
       "1                 5.375477  2020        2    14            202001  \n",
       "2                 9.574572  2020        2    14            202001  "
      ]
     },
     "execution_count": 28,
     "metadata": {},
     "output_type": "execute_result"
    }
   ],
   "source": [
    "df_rides.head(3)"
   ]
  },
  {
   "cell_type": "markdown",
   "metadata": {},
   "source": [
    "***"
   ]
  },
  {
   "cell_type": "markdown",
   "metadata": {},
   "source": [
    "### <a class=\"anchor\" id=\"1.5_bullet\" style=\"color:#624763\"> **🔬 df_fares** </a>"
   ]
  },
  {
   "cell_type": "code",
   "execution_count": 29,
   "metadata": {},
   "outputs": [
    {
     "data": {
      "text/html": [
       "<div>\n",
       "<style scoped>\n",
       "    .dataframe tbody tr th:only-of-type {\n",
       "        vertical-align: middle;\n",
       "    }\n",
       "\n",
       "    .dataframe tbody tr th {\n",
       "        vertical-align: top;\n",
       "    }\n",
       "\n",
       "    .dataframe thead th {\n",
       "        text-align: right;\n",
       "    }\n",
       "</style>\n",
       "<table border=\"1\" class=\"dataframe\">\n",
       "  <thead>\n",
       "    <tr style=\"text-align: right;\">\n",
       "      <th></th>\n",
       "      <th>ride_id</th>\n",
       "      <th>taxi_id</th>\n",
       "      <th>driver_id</th>\n",
       "      <th>pickup_datetime</th>\n",
       "      <th>payment_type</th>\n",
       "      <th>tip</th>\n",
       "      <th>tolls</th>\n",
       "      <th>total_fare</th>\n",
       "    </tr>\n",
       "  </thead>\n",
       "  <tbody>\n",
       "    <tr>\n",
       "      <th>0</th>\n",
       "      <td>1</td>\n",
       "      <td>2013000185</td>\n",
       "      <td>2013000185</td>\n",
       "      <td>1577880020</td>\n",
       "      <td>CASH</td>\n",
       "      <td>33.0</td>\n",
       "      <td>0.0</td>\n",
       "      <td>118.0</td>\n",
       "    </tr>\n",
       "    <tr>\n",
       "      <th>1</th>\n",
       "      <td>2</td>\n",
       "      <td>2013000108</td>\n",
       "      <td>2013000108</td>\n",
       "      <td>1577880040</td>\n",
       "      <td>CARD</td>\n",
       "      <td>14.0</td>\n",
       "      <td>0.0</td>\n",
       "      <td>48.0</td>\n",
       "    </tr>\n",
       "    <tr>\n",
       "      <th>2</th>\n",
       "      <td>3</td>\n",
       "      <td>2013000134</td>\n",
       "      <td>2013000134</td>\n",
       "      <td>1577880060</td>\n",
       "      <td>CASH</td>\n",
       "      <td>12.0</td>\n",
       "      <td>0.0</td>\n",
       "      <td>41.0</td>\n",
       "    </tr>\n",
       "  </tbody>\n",
       "</table>\n",
       "</div>"
      ],
      "text/plain": [
       "   ride_id     taxi_id   driver_id pickup_datetime payment_type   tip  tolls  \\\n",
       "0        1  2013000185  2013000185      1577880020         CASH  33.0    0.0   \n",
       "1        2  2013000108  2013000108      1577880040         CARD  14.0    0.0   \n",
       "2        3  2013000134  2013000134      1577880060         CASH  12.0    0.0   \n",
       "\n",
       "   total_fare  \n",
       "0       118.0  \n",
       "1        48.0  \n",
       "2        41.0  "
      ]
     },
     "execution_count": 29,
     "metadata": {},
     "output_type": "execute_result"
    }
   ],
   "source": [
    "df_fares.head(3)"
   ]
  },
  {
   "cell_type": "code",
   "execution_count": 30,
   "metadata": {},
   "outputs": [
    {
     "data": {
      "text/plain": [
       "ride_id              int64\n",
       "taxi_id              int64\n",
       "driver_id            int64\n",
       "pickup_datetime     object\n",
       "payment_type        object\n",
       "tip                float64\n",
       "tolls              float64\n",
       "total_fare         float64\n",
       "dtype: object"
      ]
     },
     "execution_count": 30,
     "metadata": {},
     "output_type": "execute_result"
    }
   ],
   "source": [
    "df_fares.dtypes"
   ]
  },
  {
   "cell_type": "code",
   "execution_count": 31,
   "metadata": {},
   "outputs": [
    {
     "data": {
      "text/plain": [
       "(40907, 20)"
      ]
     },
     "execution_count": 31,
     "metadata": {},
     "output_type": "execute_result"
    }
   ],
   "source": [
    "df_rides.shape"
   ]
  },
  {
   "cell_type": "code",
   "execution_count": 32,
   "metadata": {},
   "outputs": [
    {
     "data": {
      "text/plain": [
       "(41078, 8)"
      ]
     },
     "execution_count": 32,
     "metadata": {},
     "output_type": "execute_result"
    }
   ],
   "source": [
    "df_fares.shape"
   ]
  },
  {
   "cell_type": "markdown",
   "metadata": {},
   "source": [
    "#### <a class=\"anchor\" id=\"1.5_bullet\" style=\"color:#ff1053\"> **⏱ Dealing with datetime** </a>\n"
   ]
  },
  {
   "cell_type": "markdown",
   "metadata": {},
   "source": [
    "##### <a class=\"anchor\" id=\"1.5_bullet\" style=\"color:#ff1053\"> **Converting datetime column to the proper format.** </a>\n",
    "\n"
   ]
  },
  {
   "cell_type": "code",
   "execution_count": 33,
   "metadata": {},
   "outputs": [],
   "source": [
    "df_fares[\"pickup_datetime\"] = pd.to_datetime(df_fares[\"pickup_datetime\"].apply(lambda x: str(x) + \"000\"),\n",
    "                                             unit='ms')"
   ]
  },
  {
   "cell_type": "markdown",
   "metadata": {},
   "source": [
    "##### <a class=\"anchor\" id=\"1.5_bullet\" style=\"color:#ff1053\"> **Make a new `month_of_the_ride` column for *partition_key* (this is all for Feature Group creating)** </a>\n",
    "\n"
   ]
  },
  {
   "cell_type": "code",
   "execution_count": 34,
   "metadata": {},
   "outputs": [],
   "source": [
    "df_fares[\"month_of_the_ride\"] = df_fares[\"pickup_datetime\"].dt.strftime('%Y%m')"
   ]
  },
  {
   "cell_type": "markdown",
   "metadata": {},
   "source": [
    "##### <a class=\"anchor\" id=\"1.5_bullet\" style=\"color:#ff1053\"> **Convert a `pickup_datetime` back to UNIX format.** </a>\n",
    "\n"
   ]
  },
  {
   "cell_type": "code",
   "execution_count": 35,
   "metadata": {},
   "outputs": [],
   "source": [
    "df_fares[\"pickup_datetime\"] = df_fares[\"pickup_datetime\"].values.astype(np.int64) // 10 ** 6"
   ]
  },
  {
   "cell_type": "code",
   "execution_count": 36,
   "metadata": {},
   "outputs": [
    {
     "data": {
      "text/html": [
       "<div>\n",
       "<style scoped>\n",
       "    .dataframe tbody tr th:only-of-type {\n",
       "        vertical-align: middle;\n",
       "    }\n",
       "\n",
       "    .dataframe tbody tr th {\n",
       "        vertical-align: top;\n",
       "    }\n",
       "\n",
       "    .dataframe thead th {\n",
       "        text-align: right;\n",
       "    }\n",
       "</style>\n",
       "<table border=\"1\" class=\"dataframe\">\n",
       "  <thead>\n",
       "    <tr style=\"text-align: right;\">\n",
       "      <th></th>\n",
       "      <th>ride_id</th>\n",
       "      <th>taxi_id</th>\n",
       "      <th>driver_id</th>\n",
       "      <th>pickup_datetime</th>\n",
       "      <th>payment_type</th>\n",
       "      <th>tip</th>\n",
       "      <th>tolls</th>\n",
       "      <th>total_fare</th>\n",
       "      <th>month_of_the_ride</th>\n",
       "    </tr>\n",
       "  </thead>\n",
       "  <tbody>\n",
       "    <tr>\n",
       "      <th>0</th>\n",
       "      <td>1</td>\n",
       "      <td>2013000185</td>\n",
       "      <td>2013000185</td>\n",
       "      <td>1577880020000</td>\n",
       "      <td>CASH</td>\n",
       "      <td>33.0</td>\n",
       "      <td>0.0</td>\n",
       "      <td>118.0</td>\n",
       "      <td>202001</td>\n",
       "    </tr>\n",
       "    <tr>\n",
       "      <th>1</th>\n",
       "      <td>2</td>\n",
       "      <td>2013000108</td>\n",
       "      <td>2013000108</td>\n",
       "      <td>1577880040000</td>\n",
       "      <td>CARD</td>\n",
       "      <td>14.0</td>\n",
       "      <td>0.0</td>\n",
       "      <td>48.0</td>\n",
       "      <td>202001</td>\n",
       "    </tr>\n",
       "    <tr>\n",
       "      <th>2</th>\n",
       "      <td>3</td>\n",
       "      <td>2013000134</td>\n",
       "      <td>2013000134</td>\n",
       "      <td>1577880060000</td>\n",
       "      <td>CASH</td>\n",
       "      <td>12.0</td>\n",
       "      <td>0.0</td>\n",
       "      <td>41.0</td>\n",
       "      <td>202001</td>\n",
       "    </tr>\n",
       "  </tbody>\n",
       "</table>\n",
       "</div>"
      ],
      "text/plain": [
       "   ride_id     taxi_id   driver_id  pickup_datetime payment_type   tip  tolls  \\\n",
       "0        1  2013000185  2013000185    1577880020000         CASH  33.0    0.0   \n",
       "1        2  2013000108  2013000108    1577880040000         CARD  14.0    0.0   \n",
       "2        3  2013000134  2013000134    1577880060000         CASH  12.0    0.0   \n",
       "\n",
       "   total_fare month_of_the_ride  \n",
       "0       118.0            202001  \n",
       "1        48.0            202001  \n",
       "2        41.0            202001  "
      ]
     },
     "execution_count": 36,
     "metadata": {},
     "output_type": "execute_result"
    }
   ],
   "source": [
    "df_fares.head(3)"
   ]
  },
  {
   "cell_type": "markdown",
   "metadata": {},
   "source": [
    "Droping useless features."
   ]
  },
  {
   "cell_type": "code",
   "execution_count": 37,
   "metadata": {},
   "outputs": [
    {
     "data": {
      "text/plain": [
       "array(['CASH', 'CARD'], dtype=object)"
      ]
     },
     "execution_count": 37,
     "metadata": {},
     "output_type": "execute_result"
    }
   ],
   "source": [
    "df_fares.payment_type.unique()"
   ]
  },
  {
   "cell_type": "code",
   "execution_count": 38,
   "metadata": {},
   "outputs": [],
   "source": [
    "df_fares = df_fares.drop(columns=[\"payment_type\"])"
   ]
  },
  {
   "cell_type": "code",
   "execution_count": 39,
   "metadata": {},
   "outputs": [
    {
     "data": {
      "text/html": [
       "<div>\n",
       "<style scoped>\n",
       "    .dataframe tbody tr th:only-of-type {\n",
       "        vertical-align: middle;\n",
       "    }\n",
       "\n",
       "    .dataframe tbody tr th {\n",
       "        vertical-align: top;\n",
       "    }\n",
       "\n",
       "    .dataframe thead th {\n",
       "        text-align: right;\n",
       "    }\n",
       "</style>\n",
       "<table border=\"1\" class=\"dataframe\">\n",
       "  <thead>\n",
       "    <tr style=\"text-align: right;\">\n",
       "      <th></th>\n",
       "      <th>ride_id</th>\n",
       "      <th>taxi_id</th>\n",
       "      <th>driver_id</th>\n",
       "      <th>pickup_datetime</th>\n",
       "      <th>tip</th>\n",
       "      <th>tolls</th>\n",
       "      <th>total_fare</th>\n",
       "      <th>month_of_the_ride</th>\n",
       "    </tr>\n",
       "  </thead>\n",
       "  <tbody>\n",
       "    <tr>\n",
       "      <th>0</th>\n",
       "      <td>1</td>\n",
       "      <td>2013000185</td>\n",
       "      <td>2013000185</td>\n",
       "      <td>1577880020000</td>\n",
       "      <td>33.0</td>\n",
       "      <td>0.0</td>\n",
       "      <td>118.0</td>\n",
       "      <td>202001</td>\n",
       "    </tr>\n",
       "    <tr>\n",
       "      <th>1</th>\n",
       "      <td>2</td>\n",
       "      <td>2013000108</td>\n",
       "      <td>2013000108</td>\n",
       "      <td>1577880040000</td>\n",
       "      <td>14.0</td>\n",
       "      <td>0.0</td>\n",
       "      <td>48.0</td>\n",
       "      <td>202001</td>\n",
       "    </tr>\n",
       "    <tr>\n",
       "      <th>2</th>\n",
       "      <td>3</td>\n",
       "      <td>2013000134</td>\n",
       "      <td>2013000134</td>\n",
       "      <td>1577880060000</td>\n",
       "      <td>12.0</td>\n",
       "      <td>0.0</td>\n",
       "      <td>41.0</td>\n",
       "      <td>202001</td>\n",
       "    </tr>\n",
       "  </tbody>\n",
       "</table>\n",
       "</div>"
      ],
      "text/plain": [
       "   ride_id     taxi_id   driver_id  pickup_datetime   tip  tolls  total_fare  \\\n",
       "0        1  2013000185  2013000185    1577880020000  33.0    0.0       118.0   \n",
       "1        2  2013000108  2013000108    1577880040000  14.0    0.0        48.0   \n",
       "2        3  2013000134  2013000134    1577880060000  12.0    0.0        41.0   \n",
       "\n",
       "  month_of_the_ride  \n",
       "0            202001  \n",
       "1            202001  \n",
       "2            202001  "
      ]
     },
     "execution_count": 39,
     "metadata": {},
     "output_type": "execute_result"
    }
   ],
   "source": [
    "df_fares.head(3)"
   ]
  },
  {
   "cell_type": "code",
   "execution_count": 40,
   "metadata": {},
   "outputs": [
    {
     "data": {
      "text/html": [
       "<div>\n",
       "<style scoped>\n",
       "    .dataframe tbody tr th:only-of-type {\n",
       "        vertical-align: middle;\n",
       "    }\n",
       "\n",
       "    .dataframe tbody tr th {\n",
       "        vertical-align: top;\n",
       "    }\n",
       "\n",
       "    .dataframe thead th {\n",
       "        text-align: right;\n",
       "    }\n",
       "</style>\n",
       "<table border=\"1\" class=\"dataframe\">\n",
       "  <thead>\n",
       "    <tr style=\"text-align: right;\">\n",
       "      <th></th>\n",
       "      <th>ride_id</th>\n",
       "      <th>taxi_id</th>\n",
       "      <th>driver_id</th>\n",
       "      <th>pickup_datetime</th>\n",
       "      <th>tip</th>\n",
       "      <th>tolls</th>\n",
       "      <th>total_fare</th>\n",
       "    </tr>\n",
       "  </thead>\n",
       "  <tbody>\n",
       "    <tr>\n",
       "      <th>count</th>\n",
       "      <td>41078.000000</td>\n",
       "      <td>4.107800e+04</td>\n",
       "      <td>4.107800e+04</td>\n",
       "      <td>4.107800e+04</td>\n",
       "      <td>41078.000000</td>\n",
       "      <td>41078.000000</td>\n",
       "      <td>41078.000000</td>\n",
       "    </tr>\n",
       "    <tr>\n",
       "      <th>mean</th>\n",
       "      <td>20539.500000</td>\n",
       "      <td>2.013000e+09</td>\n",
       "      <td>2.013000e+09</td>\n",
       "      <td>1.578291e+12</td>\n",
       "      <td>16.155363</td>\n",
       "      <td>0.250426</td>\n",
       "      <td>59.510030</td>\n",
       "    </tr>\n",
       "    <tr>\n",
       "      <th>std</th>\n",
       "      <td>11858.341516</td>\n",
       "      <td>5.773362e+01</td>\n",
       "      <td>5.773362e+01</td>\n",
       "      <td>2.371668e+08</td>\n",
       "      <td>10.901697</td>\n",
       "      <td>0.782238</td>\n",
       "      <td>37.489159</td>\n",
       "    </tr>\n",
       "    <tr>\n",
       "      <th>min</th>\n",
       "      <td>1.000000</td>\n",
       "      <td>2.013000e+09</td>\n",
       "      <td>2.013000e+09</td>\n",
       "      <td>1.577880e+12</td>\n",
       "      <td>0.000000</td>\n",
       "      <td>0.000000</td>\n",
       "      <td>3.000000</td>\n",
       "    </tr>\n",
       "    <tr>\n",
       "      <th>25%</th>\n",
       "      <td>10270.250000</td>\n",
       "      <td>2.013000e+09</td>\n",
       "      <td>2.013000e+09</td>\n",
       "      <td>1.578085e+12</td>\n",
       "      <td>7.000000</td>\n",
       "      <td>0.000000</td>\n",
       "      <td>29.000000</td>\n",
       "    </tr>\n",
       "    <tr>\n",
       "      <th>50%</th>\n",
       "      <td>20539.500000</td>\n",
       "      <td>2.013000e+09</td>\n",
       "      <td>2.013000e+09</td>\n",
       "      <td>1.578291e+12</td>\n",
       "      <td>15.000000</td>\n",
       "      <td>0.000000</td>\n",
       "      <td>54.000000</td>\n",
       "    </tr>\n",
       "    <tr>\n",
       "      <th>75%</th>\n",
       "      <td>30808.750000</td>\n",
       "      <td>2.013000e+09</td>\n",
       "      <td>2.013000e+09</td>\n",
       "      <td>1.578496e+12</td>\n",
       "      <td>23.000000</td>\n",
       "      <td>0.000000</td>\n",
       "      <td>83.000000</td>\n",
       "    </tr>\n",
       "    <tr>\n",
       "      <th>max</th>\n",
       "      <td>41078.000000</td>\n",
       "      <td>2.013000e+09</td>\n",
       "      <td>2.013000e+09</td>\n",
       "      <td>1.578702e+12</td>\n",
       "      <td>60.000000</td>\n",
       "      <td>5.000000</td>\n",
       "      <td>218.000000</td>\n",
       "    </tr>\n",
       "  </tbody>\n",
       "</table>\n",
       "</div>"
      ],
      "text/plain": [
       "            ride_id       taxi_id     driver_id  pickup_datetime  \\\n",
       "count  41078.000000  4.107800e+04  4.107800e+04     4.107800e+04   \n",
       "mean   20539.500000  2.013000e+09  2.013000e+09     1.578291e+12   \n",
       "std    11858.341516  5.773362e+01  5.773362e+01     2.371668e+08   \n",
       "min        1.000000  2.013000e+09  2.013000e+09     1.577880e+12   \n",
       "25%    10270.250000  2.013000e+09  2.013000e+09     1.578085e+12   \n",
       "50%    20539.500000  2.013000e+09  2.013000e+09     1.578291e+12   \n",
       "75%    30808.750000  2.013000e+09  2.013000e+09     1.578496e+12   \n",
       "max    41078.000000  2.013000e+09  2.013000e+09     1.578702e+12   \n",
       "\n",
       "                tip         tolls    total_fare  \n",
       "count  41078.000000  41078.000000  41078.000000  \n",
       "mean      16.155363      0.250426     59.510030  \n",
       "std       10.901697      0.782238     37.489159  \n",
       "min        0.000000      0.000000      3.000000  \n",
       "25%        7.000000      0.000000     29.000000  \n",
       "50%       15.000000      0.000000     54.000000  \n",
       "75%       23.000000      0.000000     83.000000  \n",
       "max       60.000000      5.000000    218.000000  "
      ]
     },
     "execution_count": 40,
     "metadata": {},
     "output_type": "execute_result"
    }
   ],
   "source": [
    "df_fares.describe()"
   ]
  },
  {
   "cell_type": "code",
   "execution_count": 41,
   "metadata": {},
   "outputs": [
    {
     "data": {
      "image/png": "[encoded data removed]",
      "text/plain": [
       "<Figure size 640x480 with 1 Axes>"
      ]
     },
     "metadata": {},
     "output_type": "display_data"
    }
   ],
   "source": [
    "df_fares.total_fare.hist(legend=True)\n",
    "plt.xlabel('US Dollars')\n",
    "plt.ylabel('Number of records')\n",
    "plt.show()"
   ]
  },
  {
   "cell_type": "code",
   "execution_count": 42,
   "metadata": {},
   "outputs": [
    {
     "data": {
      "image/png": "[encoded data removed]",
      "text/plain": [
       "<Figure size 640x480 with 1 Axes>"
      ]
     },
     "metadata": {},
     "output_type": "display_data"
    }
   ],
   "source": [
    "df_fares.tip.hist(legend=True)\n",
    "plt.xlabel('US Dollars')\n",
    "plt.ylabel('Number of records')\n",
    "plt.show()"
   ]
  },
  {
   "cell_type": "markdown",
   "metadata": {},
   "source": [
    "***"
   ]
  },
  {
   "cell_type": "markdown",
   "metadata": {},
   "source": [
    "## <a class=\"anchor\" id=\"1.5_bullet\" style=\"color:#2db3f0\"> **🗳 Register feature groups** </a>\n"
   ]
  },
  {
   "cell_type": "markdown",
   "metadata": {},
   "source": [
    "### <a class=\"anchor\" id=\"1.5_bullet\" style=\"color:#2db3f0\"> **Instantiate a connection and get the `project` feature store handler** </a>\n",
    "\n"
   ]
  },
  {
   "cell_type": "code",
   "execution_count": 43,
   "metadata": {},
   "outputs": [
    {
     "name": "stdout",
     "output_type": "stream",
     "text": [
      "Connected. Call `.close()` to terminate connection gracefully.\n"
     ]
    }
   ],
   "source": [
    "import hsfs\n",
    "# from hsfs.rule import Rule\n",
    "\n",
    "# Create a connection\n",
    "connection = hsfs.connection()\n",
    "\n",
    "# Get the feature store handle for the project's feature store\n",
    "fs = connection.get_feature_store()"
   ]
  },
  {
   "cell_type": "markdown",
   "metadata": {},
   "source": [
    "#### <a class=\"anchor\" id=\"1.5_bullet\" style=\"color:#2db3f0\"> **Data Validation** </a>\n",
    "\n",
    "Before we define [feature groups](https://docs.hopsworks.ai/latest/generated/feature_group/) lets define [validation rules](https://docs.hopsworks.ai/latest/generated/feature_validation/) for features. We do expect some of the features to comply with certain *rules* or *expectations*. For example: a transacted amount must be a positive value. In the case of a transacted amount arriving as a negative value we can decide whether to stop it from `write` into a feature group and throw an error or allow it to be written but provide a warning. In the next section we will create feature store `expectations`, attach them to feature groups, and apply them to dataframes being appended to said feature group.\n",
    "\n",
    "#### <a class=\"anchor\" id=\"1.5_bullet\" style=\"color:#2db3f0\"> **Data validation rules supported in Hopsworks** </a>\n",
    "\n",
    "Hopsworks comes shipped with a set of data validation rules. These rules are **immutable**, uniquely identified by **name** and are available across all feature stores. These rules are used to create feature store expectations which can then be attached to individual feature groups."
   ]
  },
  {
   "cell_type": "code",
   "execution_count": 44,
   "metadata": {},
   "outputs": [],
   "source": [
    "# # Get all rule definitions available in Hopsworks\n",
    "# rules = connection.get_rules()\n",
    "# [print(rule.to_dict()) for rule in rules]"
   ]
  },
  {
   "cell_type": "code",
   "execution_count": 45,
   "metadata": {},
   "outputs": [],
   "source": [
    "# # Get a rule definition by name\n",
    "# is_positive = connection.get_rule(\"IS_POSITIVE\")\n",
    "# print(is_positive.to_dict())"
   ]
  },
  {
   "cell_type": "markdown",
   "metadata": {},
   "source": [
    "### <a class=\"anchor\" id=\"1.5_bullet\" style=\"color:#772f1a\"> **〰️ Create Expectations based on Hopsworks rules** </a>\n",
    "\n",
    "Expectations are created at the feature store level. Multiple expectations can be created per feature store.\n",
    "An expectation consist of one or multiple rules and can refer to one or multiple features. An expectation can be utilized by attaching it to a feature group, as shown below."
   ]
  },
  {
   "cell_type": "code",
   "execution_count": 46,
   "metadata": {},
   "outputs": [],
   "source": [
    "# expectation_payments = fs.create_expectation(\"payments\",\n",
    "#                                            features=[\"totalFare\", \"tip\"], \n",
    "#                                            description=\"validate totalFare and tips correctness\",\n",
    "#                                            rules=[Rule(name=\"IS_POSITIVE\", level=\"ERROR\", max=10000000)])\n",
    "# expectation_payments.save()"
   ]
  },
  {
   "cell_type": "markdown",
   "metadata": {},
   "source": [
    "### <a class=\"anchor\" id=\"1.5_bullet\" style=\"color:#2db3f0\"> **Creating Feature Groups** </a>\n",
    "\n"
   ]
  },
  {
   "cell_type": "markdown",
   "metadata": {
    "tags": []
   },
   "source": [
    "> ####  a. Create fares feature group metadata and save it to hsfs (Hopsworks Feature Store).\n",
    "We are going to create time travel enabled feature groups. For this hopsworks uses Apache Hudi. By default, Hudi tends to over-partition input. "
   ]
  },
  {
   "cell_type": "code",
   "execution_count": 47,
   "metadata": {},
   "outputs": [
    {
     "data": {
      "text/html": [
       "<div>\n",
       "<style scoped>\n",
       "    .dataframe tbody tr th:only-of-type {\n",
       "        vertical-align: middle;\n",
       "    }\n",
       "\n",
       "    .dataframe tbody tr th {\n",
       "        vertical-align: top;\n",
       "    }\n",
       "\n",
       "    .dataframe thead th {\n",
       "        text-align: right;\n",
       "    }\n",
       "</style>\n",
       "<table border=\"1\" class=\"dataframe\">\n",
       "  <thead>\n",
       "    <tr style=\"text-align: right;\">\n",
       "      <th></th>\n",
       "      <th>ride_id</th>\n",
       "      <th>taxi_id</th>\n",
       "      <th>driver_id</th>\n",
       "      <th>pickup_datetime</th>\n",
       "      <th>tip</th>\n",
       "      <th>tolls</th>\n",
       "      <th>total_fare</th>\n",
       "      <th>month_of_the_ride</th>\n",
       "    </tr>\n",
       "  </thead>\n",
       "  <tbody>\n",
       "    <tr>\n",
       "      <th>0</th>\n",
       "      <td>1</td>\n",
       "      <td>2013000185</td>\n",
       "      <td>2013000185</td>\n",
       "      <td>1577880020000</td>\n",
       "      <td>33.0</td>\n",
       "      <td>0.0</td>\n",
       "      <td>118.0</td>\n",
       "      <td>202001</td>\n",
       "    </tr>\n",
       "    <tr>\n",
       "      <th>1</th>\n",
       "      <td>2</td>\n",
       "      <td>2013000108</td>\n",
       "      <td>2013000108</td>\n",
       "      <td>1577880040000</td>\n",
       "      <td>14.0</td>\n",
       "      <td>0.0</td>\n",
       "      <td>48.0</td>\n",
       "      <td>202001</td>\n",
       "    </tr>\n",
       "    <tr>\n",
       "      <th>2</th>\n",
       "      <td>3</td>\n",
       "      <td>2013000134</td>\n",
       "      <td>2013000134</td>\n",
       "      <td>1577880060000</td>\n",
       "      <td>12.0</td>\n",
       "      <td>0.0</td>\n",
       "      <td>41.0</td>\n",
       "      <td>202001</td>\n",
       "    </tr>\n",
       "  </tbody>\n",
       "</table>\n",
       "</div>"
      ],
      "text/plain": [
       "   ride_id     taxi_id   driver_id  pickup_datetime   tip  tolls  total_fare  \\\n",
       "0        1  2013000185  2013000185    1577880020000  33.0    0.0       118.0   \n",
       "1        2  2013000108  2013000108    1577880040000  14.0    0.0        48.0   \n",
       "2        3  2013000134  2013000134    1577880060000  12.0    0.0        41.0   \n",
       "\n",
       "  month_of_the_ride  \n",
       "0            202001  \n",
       "1            202001  \n",
       "2            202001  "
      ]
     },
     "execution_count": 47,
     "metadata": {},
     "output_type": "execute_result"
    }
   ],
   "source": [
    "df_fares.head(3)"
   ]
  },
  {
   "cell_type": "code",
   "execution_count": 48,
   "metadata": {},
   "outputs": [
    {
     "name": "stdout",
     "output_type": "stream",
     "text": [
      "<class 'pandas.core.frame.DataFrame'>\n",
      "Int64Index: 41078 entries, 0 to 41077\n",
      "Data columns (total 8 columns):\n",
      " #   Column             Non-Null Count  Dtype  \n",
      "---  ------             --------------  -----  \n",
      " 0   ride_id            41078 non-null  int64  \n",
      " 1   taxi_id            41078 non-null  int64  \n",
      " 2   driver_id          41078 non-null  int64  \n",
      " 3   pickup_datetime    41078 non-null  int64  \n",
      " 4   tip                41078 non-null  float64\n",
      " 5   tolls              41078 non-null  float64\n",
      " 6   total_fare         41078 non-null  float64\n",
      " 7   month_of_the_ride  41078 non-null  object \n",
      "dtypes: float64(3), int64(4), object(1)\n",
      "memory usage: 2.8+ MB\n"
     ]
    }
   ],
   "source": [
    "df_fares.info()"
   ]
  },
  {
   "cell_type": "code",
   "execution_count": 49,
   "metadata": {},
   "outputs": [
    {
     "name": "stdout",
     "output_type": "stream",
     "text": [
      "Feature Group created successfully, explore it at \n",
      "https://0f060790-06a4-11ed-8aed-d1422d4ec537.cloud.hopsworks.ai/p/2170/fs/2118/fg/2073\n"
     ]
    },
    {
     "data": {
      "application/vnd.jupyter.widget-view+json": {
       "model_id": "6936758edf094e8eb50f30c2de7051cd",
       "version_major": 2,
       "version_minor": 0
      },
      "text/plain": [
       "Uploading Dataframe: 0.00% |          | Rows 0/41078 | Elapsed Time: 00:00 | Remaining Time: ?"
      ]
     },
     "metadata": {},
     "output_type": "display_data"
    },
    {
     "name": "stdout",
     "output_type": "stream",
     "text": [
      "Launching offline feature group backfill job...\n",
      "Backfill Job started successfully, you can follow the progress at \n",
      "https://0f060790-06a4-11ed-8aed-d1422d4ec537.cloud.hopsworks.ai/p/2170/jobs/named/fares_fg_1_offline_fg_backfill/executions\n"
     ]
    },
    {
     "data": {
      "text/plain": [
       "(<hsfs.core.job.Job at 0x7fca38428b50>, None)"
      ]
     },
     "execution_count": 49,
     "metadata": {},
     "output_type": "execute_result"
    }
   ],
   "source": [
    "fares_fg = fs.get_or_create_feature_group(name=\"fares_fg\",\n",
    "                                          version=1,\n",
    "                                          primary_key=[\"ride_id\"],\n",
    "                                          event_time=[\"pickup_datetime\"],\n",
    "                                          partition_key=[\"month_of_the_ride\"],   \n",
    "                                          description=\"Taxi fares features\",\n",
    "                                          time_travel_format=\"HUDI\",  \n",
    "                                          online_enabled=True,  \n",
    "#                                         validation_type=\"STRICT\",\n",
    "#                                         expectations= [expectation_payments],\n",
    "                                          statistics_config={\n",
    "                                              \"enabled\": False, \"histograms\": False,\n",
    "                                              \"correlations\": False, \"exact_uniqueness\": False\n",
    "                                          })   \n",
    "fares_fg.insert(df_fares)"
   ]
  },
  {
   "cell_type": "markdown",
   "metadata": {},
   "source": [
    "> #### b. Create rides feature group and save it to hsfs."
   ]
  },
  {
   "cell_type": "code",
   "execution_count": 50,
   "metadata": {},
   "outputs": [
    {
     "data": {
      "text/html": [
       "<div>\n",
       "<style scoped>\n",
       "    .dataframe tbody tr th:only-of-type {\n",
       "        vertical-align: middle;\n",
       "    }\n",
       "\n",
       "    .dataframe tbody tr th {\n",
       "        vertical-align: top;\n",
       "    }\n",
       "\n",
       "    .dataframe thead th {\n",
       "        text-align: right;\n",
       "    }\n",
       "</style>\n",
       "<table border=\"1\" class=\"dataframe\">\n",
       "  <thead>\n",
       "    <tr style=\"text-align: right;\">\n",
       "      <th></th>\n",
       "      <th>ride_id</th>\n",
       "      <th>pickup_datetime</th>\n",
       "      <th>pickup_longitude</th>\n",
       "      <th>pickup_latitude</th>\n",
       "      <th>dropoff_longitude</th>\n",
       "      <th>dropoff_latitude</th>\n",
       "      <th>passenger_count</th>\n",
       "      <th>taxi_id</th>\n",
       "      <th>driver_id</th>\n",
       "      <th>distance</th>\n",
       "      <th>pickup_distance_to_jfk</th>\n",
       "      <th>dropoff_distance_to_jfk</th>\n",
       "      <th>pickup_distance_to_ewr</th>\n",
       "      <th>dropoff_distance_to_ewr</th>\n",
       "      <th>pickup_distance_to_lgr</th>\n",
       "      <th>dropoff_distance_to_lgr</th>\n",
       "      <th>year</th>\n",
       "      <th>weekday</th>\n",
       "      <th>hour</th>\n",
       "      <th>month_of_the_ride</th>\n",
       "    </tr>\n",
       "  </thead>\n",
       "  <tbody>\n",
       "    <tr>\n",
       "      <th>0</th>\n",
       "      <td>1228</td>\n",
       "      <td>1577904560000</td>\n",
       "      <td>-73.867676</td>\n",
       "      <td>40.759323</td>\n",
       "      <td>-73.864080</td>\n",
       "      <td>40.763897</td>\n",
       "      <td>3</td>\n",
       "      <td>2013000194</td>\n",
       "      <td>2013000194</td>\n",
       "      <td>0.367822</td>\n",
       "      <td>9.408176</td>\n",
       "      <td>9.593451</td>\n",
       "      <td>16.774843</td>\n",
       "      <td>17.047352</td>\n",
       "      <td>1.258733</td>\n",
       "      <td>1.037595</td>\n",
       "      <td>2020</td>\n",
       "      <td>2</td>\n",
       "      <td>18</td>\n",
       "      <td>202001</td>\n",
       "    </tr>\n",
       "    <tr>\n",
       "      <th>1</th>\n",
       "      <td>527</td>\n",
       "      <td>1577890540000</td>\n",
       "      <td>-73.857086</td>\n",
       "      <td>40.772793</td>\n",
       "      <td>-73.807335</td>\n",
       "      <td>40.836117</td>\n",
       "      <td>3</td>\n",
       "      <td>2013000122</td>\n",
       "      <td>2013000122</td>\n",
       "      <td>5.090499</td>\n",
       "      <td>9.982850</td>\n",
       "      <td>13.547285</td>\n",
       "      <td>17.587239</td>\n",
       "      <td>21.721546</td>\n",
       "      <td>0.929374</td>\n",
       "      <td>5.375477</td>\n",
       "      <td>2020</td>\n",
       "      <td>2</td>\n",
       "      <td>14</td>\n",
       "      <td>202001</td>\n",
       "    </tr>\n",
       "    <tr>\n",
       "      <th>2</th>\n",
       "      <td>394</td>\n",
       "      <td>1577887880000</td>\n",
       "      <td>-73.844320</td>\n",
       "      <td>40.789043</td>\n",
       "      <td>-73.765950</td>\n",
       "      <td>40.888790</td>\n",
       "      <td>3</td>\n",
       "      <td>2013000102</td>\n",
       "      <td>2013000102</td>\n",
       "      <td>8.017468</td>\n",
       "      <td>10.781049</td>\n",
       "      <td>17.111724</td>\n",
       "      <td>18.603343</td>\n",
       "      <td>25.423662</td>\n",
       "      <td>1.764932</td>\n",
       "      <td>9.574572</td>\n",
       "      <td>2020</td>\n",
       "      <td>2</td>\n",
       "      <td>14</td>\n",
       "      <td>202001</td>\n",
       "    </tr>\n",
       "  </tbody>\n",
       "</table>\n",
       "</div>"
      ],
      "text/plain": [
       "   ride_id  pickup_datetime  pickup_longitude  pickup_latitude  \\\n",
       "0     1228    1577904560000        -73.867676        40.759323   \n",
       "1      527    1577890540000        -73.857086        40.772793   \n",
       "2      394    1577887880000        -73.844320        40.789043   \n",
       "\n",
       "   dropoff_longitude  dropoff_latitude  passenger_count     taxi_id  \\\n",
       "0         -73.864080         40.763897                3  2013000194   \n",
       "1         -73.807335         40.836117                3  2013000122   \n",
       "2         -73.765950         40.888790                3  2013000102   \n",
       "\n",
       "    driver_id  distance  pickup_distance_to_jfk  dropoff_distance_to_jfk  \\\n",
       "0  2013000194  0.367822                9.408176                 9.593451   \n",
       "1  2013000122  5.090499                9.982850                13.547285   \n",
       "2  2013000102  8.017468               10.781049                17.111724   \n",
       "\n",
       "   pickup_distance_to_ewr  dropoff_distance_to_ewr  pickup_distance_to_lgr  \\\n",
       "0               16.774843                17.047352                1.258733   \n",
       "1               17.587239                21.721546                0.929374   \n",
       "2               18.603343                25.423662                1.764932   \n",
       "\n",
       "   dropoff_distance_to_lgr  year  weekday  hour month_of_the_ride  \n",
       "0                 1.037595  2020        2    18            202001  \n",
       "1                 5.375477  2020        2    14            202001  \n",
       "2                 9.574572  2020        2    14            202001  "
      ]
     },
     "execution_count": 50,
     "metadata": {},
     "output_type": "execute_result"
    }
   ],
   "source": [
    "df_rides.head(3)"
   ]
  },
  {
   "cell_type": "code",
   "execution_count": 51,
   "metadata": {},
   "outputs": [
    {
     "name": "stdout",
     "output_type": "stream",
     "text": [
      "<class 'pandas.core.frame.DataFrame'>\n",
      "Int64Index: 40907 entries, 0 to 41077\n",
      "Data columns (total 20 columns):\n",
      " #   Column                   Non-Null Count  Dtype  \n",
      "---  ------                   --------------  -----  \n",
      " 0   ride_id                  40907 non-null  int64  \n",
      " 1   pickup_datetime          40907 non-null  int64  \n",
      " 2   pickup_longitude         40907 non-null  float64\n",
      " 3   pickup_latitude          40907 non-null  float64\n",
      " 4   dropoff_longitude        40907 non-null  float64\n",
      " 5   dropoff_latitude         40907 non-null  float64\n",
      " 6   passenger_count          40907 non-null  int64  \n",
      " 7   taxi_id                  40907 non-null  int64  \n",
      " 8   driver_id                40907 non-null  int64  \n",
      " 9   distance                 40907 non-null  float64\n",
      " 10  pickup_distance_to_jfk   40907 non-null  float64\n",
      " 11  dropoff_distance_to_jfk  40907 non-null  float64\n",
      " 12  pickup_distance_to_ewr   40907 non-null  float64\n",
      " 13  dropoff_distance_to_ewr  40907 non-null  float64\n",
      " 14  pickup_distance_to_lgr   40907 non-null  float64\n",
      " 15  dropoff_distance_to_lgr  40907 non-null  float64\n",
      " 16  year                     40907 non-null  int64  \n",
      " 17  weekday                  40907 non-null  int64  \n",
      " 18  hour                     40907 non-null  int64  \n",
      " 19  month_of_the_ride        40907 non-null  object \n",
      "dtypes: float64(11), int64(8), object(1)\n",
      "memory usage: 6.6+ MB\n"
     ]
    }
   ],
   "source": [
    "df_rides.info()"
   ]
  },
  {
   "cell_type": "code",
   "execution_count": 52,
   "metadata": {},
   "outputs": [
    {
     "name": "stdout",
     "output_type": "stream",
     "text": [
      "Feature Group created successfully, explore it at \n",
      "https://0f060790-06a4-11ed-8aed-d1422d4ec537.cloud.hopsworks.ai/p/2170/fs/2118/fg/2074\n"
     ]
    },
    {
     "data": {
      "application/vnd.jupyter.widget-view+json": {
       "model_id": "44ca23c700244489a9ab1b873401b358",
       "version_major": 2,
       "version_minor": 0
      },
      "text/plain": [
       "Uploading Dataframe: 0.00% |          | Rows 0/40907 | Elapsed Time: 00:00 | Remaining Time: ?"
      ]
     },
     "metadata": {},
     "output_type": "display_data"
    },
    {
     "name": "stdout",
     "output_type": "stream",
     "text": [
      "Launching offline feature group backfill job...\n",
      "Backfill Job started successfully, you can follow the progress at \n",
      "https://0f060790-06a4-11ed-8aed-d1422d4ec537.cloud.hopsworks.ai/p/2170/jobs/named/rides_fg_1_offline_fg_backfill/executions\n"
     ]
    },
    {
     "data": {
      "text/plain": [
       "(<hsfs.core.job.Job at 0x7fca365e18b0>, None)"
      ]
     },
     "execution_count": 52,
     "metadata": {},
     "output_type": "execute_result"
    }
   ],
   "source": [
    "rides_fg = fs.get_or_create_feature_group(name=\"rides_fg\",\n",
    "                                   version=1,\n",
    "                                   primary_key=[\"ride_id\"],\n",
    "                                   event_time=[\"pickup_datetime\"],                                   \n",
    "                                   partition_key=[\"month_of_the_ride\"],         \n",
    "                                   description=\"Rides features\",\n",
    "                                   time_travel_format=\"HUDI\",     \n",
    "                                   online_enabled=True,                                                \n",
    "                                   statistics_config={\"enabled\": False, \"histograms\": False, \"correlations\": False, \"exact_uniqueness\": False})   \n",
    "rides_fg.insert(df_rides)"
   ]
  },
  {
   "cell_type": "markdown",
   "metadata": {},
   "source": [
    "---\n",
    "**NOTE**:\n",
    "\n",
    "All of the above UI functionality is also available via hsfs API. For more details please refer to the [Hopsworks Feature Store documentation.](https://docs.hopsworks.ai/latest/generated/feature_store/)\n",
    "\n",
    "---\n"
   ]
  },
  {
   "cell_type": "markdown",
   "metadata": {},
   "source": [
    "### Next Steps\n",
    "\n",
    "In the next notebook we will use our feature groups to create a dataset we can train a model on."
   ]
  }
 ],
 "metadata": {
  "kernelspec": {
   "display_name": "Python",
   "language": "python",
   "name": "python3"
  },
  "language_info": {
   "codemirror_mode": {
    "name": "ipython",
    "version": 3
   },
   "file_extension": ".py",
   "mimetype": "text/x-python",
   "name": "python",
   "nbconvert_exporter": "python",
   "pygments_lexer": "ipython3",
   "version": "3.8.11"
  },
  "nbdime-conflicts": {
   "local_diff": [
    {
     "diff": [
      {
       "diff": [
        {
         "key": 0,
         "op": "addrange",
         "valuelist": [
          "Python 3 (ipykernel)"
         ]
        },
        {
         "key": 0,
         "length": 1,
         "op": "removerange"
        }
       ],
       "key": "display_name",
       "op": "patch"
      }
     ],
     "key": "kernelspec",
     "op": "patch"
    },
    {
     "diff": [
      {
       "key": "version",
       "op": "add",
       "value": "3.8.5"
      }
     ],
     "key": "language_info",
     "op": "patch"
    }
   ],
   "remote_diff": [
    {
     "diff": [
      {
       "diff": [
        {
         "key": 0,
         "op": "addrange",
         "valuelist": [
          "Python"
         ]
        },
        {
         "key": 0,
         "length": 1,
         "op": "removerange"
        }
       ],
       "key": "display_name",
       "op": "patch"
      }
     ],
     "key": "kernelspec",
     "op": "patch"
    },
    {
     "diff": [
      {
       "key": "version",
       "op": "add",
       "value": "3.7.9"
      }
     ],
     "key": "language_info",
     "op": "patch"
    }
   ]
  }
 },
 "nbformat": 4,
 "nbformat_minor": 4
}