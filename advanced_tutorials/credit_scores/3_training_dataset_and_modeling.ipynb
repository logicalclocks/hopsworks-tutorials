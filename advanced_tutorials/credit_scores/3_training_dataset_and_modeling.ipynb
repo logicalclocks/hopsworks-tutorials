{
 "cells": [
  {
   "cell_type": "markdown",
   "id": "ec1fb5d4",
   "metadata": {},
   "source": [
    "# <span style=\"font-width:bold; font-size: 3rem; color:#1EB182;\"><img src=\"../../images/icon102.png\" width=\"38px\"></img> **Hopsworks Feature Store** </span><span style=\"font-width:bold; font-size: 3rem; color:#333;\">- Part 03: Training Dataset and Modeling</span>\n",
    "\n",
    "[![Open In Colab](https://colab.research.google.com/assets/colab-badge.svg)](https://colab.research.google.com/github/logicalclocks/hopsworks-tutorials/blob/master/advanced_tutorials/credit_scores/3_training_dataset_and_modeling.ipynb)\n",
    "\n",
    "<span style=\"font-width:bold; font-size: 1.4rem;\">This notebook explains how to read from a feature group, create training dataset within the feature store, train a model and save it to model registry.</span>\n",
    "\n",
    "## 🗒️ This notebook is divided into the following sections:\n",
    "\n",
    "1. Fetch Feature Groups.\n",
    "2. Define Transformation functions.\n",
    "3. Create Feature Views.\n",
    "4. Create Training Dataset with training, validation and test splits.\n",
    "5. Train the model.\n",
    "6. Register model in Hopsworks model registry.\n",
    "7. Load batch data.\n",
    "8. Predict using model from Model Registry.\n",
    "\n",
    "![part2](../../images/02_training-dataset.png) "
   ]
  },
  {
   "cell_type": "markdown",
   "id": "d9985c8d-9000-42e8-840a-ce63b3ae8a20",
   "metadata": {},
   "source": [
    "## <span style='color:#ff5f27'> 📝 Imports"
   ]
  },
  {
   "cell_type": "code",
   "execution_count": null,
   "id": "6a6e4839",
   "metadata": {},
   "outputs": [],
   "source": [
    "import joblib\n",
    "import os\n",
    "\n",
    "import matplotlib.pyplot as plt\n",
    "import seaborn as sns\n",
    "from PIL import Image\n",
    "\n",
    "from sklearn.metrics import confusion_matrix\n",
    "from xgboost import plot_importance\n",
    "from sklearn.metrics import f1_score\n",
    "\n",
    "\n",
    "#ignore warnings\n",
    "import warnings\n",
    "warnings.filterwarnings('ignore')"
   ]
  },
  {
   "cell_type": "markdown",
   "id": "63e78e5c",
   "metadata": {},
   "source": [
    "## <span style=\"color:#ff5f27;\"> 🔮 Connecting to Hopsworks Feature Store </span>"
   ]
  },
  {
   "cell_type": "code",
   "execution_count": null,
   "id": "8e230c78",
   "metadata": {},
   "outputs": [],
   "source": [
    "import hopsworks\n",
    "\n",
    "project = hopsworks.login()\n",
    "fs = project.get_feature_store() "
   ]
  },
  {
   "cell_type": "markdown",
   "id": "d3b486e2",
   "metadata": {},
   "source": [
    "## <span style=\"color:#ff5f27;\">🪄 Retrieving Feature Groups</span>"
   ]
  },
  {
   "cell_type": "code",
   "execution_count": null,
   "id": "6ef0178b",
   "metadata": {},
   "outputs": [],
   "source": [
    "applications_fg = fs.get_or_create_feature_group(\n",
    "    name='applications',\n",
    "    version=1\n",
    ")\n",
    "\n",
    "bureau_balances_fg = fs.get_or_create_feature_group(\n",
    "    name='bureau_balances',\n",
    "    version=1\n",
    ")\n",
    "\n",
    "bureaus_fg = fs.get_or_create_feature_group(\n",
    "    name='bureaus',\n",
    "    version=1\n",
    ")\n",
    "\n",
    "previous_applications_fg = fs.get_or_create_feature_group(\n",
    "    name='previous_applications',\n",
    "    version=1\n",
    ")\n",
    "\n",
    "pos_cash_balances_fg = fs.get_or_create_feature_group(\n",
    "    name='pos_cash_balances',\n",
    "    version=1\n",
    ")\n",
    "\n",
    "installment_payments_fg = fs.get_or_create_feature_group(\n",
    "    name='installment_payments',\n",
    "    version=1\n",
    ")\n",
    "\n",
    "credit_card_balances_fg = fs.get_or_create_feature_group(\n",
    "    name='credit_card_balances',\n",
    "    version=1\n",
    ")\n",
    "\n",
    "previous_loan_counts_fg = fs.get_or_create_feature_group(\n",
    "    name='previous_loan_counts',\n",
    "    version=1\n",
    ")"
   ]
  },
  {
   "cell_type": "markdown",
   "id": "af7bc837",
   "metadata": {},
   "source": [
    "---\n",
    "\n",
    "## <span style=\"color:#ff5f27;\">🕵🏻‍♂️ Feature Groups Investigation</span>\n",
    "\n",
    "We can use `FeatureGroup.show()` method to select top n rows. \n",
    "\n",
    "Also we use method `FeatureGroup.read()` in order **to aggregate queries**, which are the output of next methods:\n",
    "\n",
    "- `FeatureGroup.get_feture()` to get specific feature from our Feature Group.\n",
    "\n",
    "- `FeatureGroup.select()` to get a few features from our Feature Group.\n",
    "\n",
    "- `FeatureGroup.select_all()` to get all features from our Feature Group.\n",
    "\n",
    "- `FeatureGroup.select_except()` to get all features except a few from our Feature Group.\n",
    "\n",
    "- `FeatureGroup.filter()` in order to apply specific filter to the feature group."
   ]
  },
  {
   "cell_type": "code",
   "execution_count": null,
   "id": "78225ce5",
   "metadata": {},
   "outputs": [],
   "source": [
    "applications_fg"
   ]
  },
  {
   "cell_type": "code",
   "execution_count": null,
   "id": "629d2672",
   "metadata": {},
   "outputs": [],
   "source": [
    "applications_fg.select_all()"
   ]
  },
  {
   "cell_type": "code",
   "execution_count": null,
   "id": "0db3a1d3",
   "metadata": {},
   "outputs": [],
   "source": [
    "applications_fg.read().head()"
   ]
  },
  {
   "cell_type": "markdown",
   "id": "41890ff4",
   "metadata": {},
   "source": [
    "---\n",
    "\n",
    "## <span style=\"color:#ff5f27;\"> 💼 Feature Selection</span>"
   ]
  },
  {
   "cell_type": "code",
   "execution_count": null,
   "id": "41c4be37",
   "metadata": {},
   "outputs": [],
   "source": [
    "query = bureaus_fg.select_except(['sk_id_curr','sk_id_bureau'])\\\n",
    "            .join(applications_fg.select_except(['sk_id_curr',\n",
    "                                                 'flag_mobil',\n",
    "                                                 *[f'flag_document_{num}'\n",
    "                                                   for num\n",
    "                                                   in [2,4,7,10,12,14,17,19,20,21]\n",
    "                                                  ],\n",
    "                                                 'amt_credit', 'weekday_appr_process_start',\n",
    "                                                 'hour_appr_process_start']))\\\n",
    "            .join(bureau_balances_fg.select_except(['sk_id_bureau','months_balance']))\\\n",
    "            .join(previous_applications_fg.select_except(['sk_id_prev', 'sk_id_curr',\n",
    "                                                          'name_contract_type', 'name_contract_status']))\\\n",
    "            .join(pos_cash_balances_fg.select_except(['sk_id_prev','sk_id_curr', 'months_balance',\n",
    "                                                      'name_contract_status', 'sk_dpd', 'sk_dpd_def']))\\\n",
    "            .join(installment_payments_fg.select_except(['sk_id_prev', 'sk_id_curr']))\\\n",
    "            .join(credit_card_balances_fg.select_except(['sk_id_prev', 'sk_id_curr']))\\\n",
    "            .join(previous_loan_counts_fg.select_except('sk_id_curr'))\n",
    "\n",
    "query_show5 = query.show(5)\n",
    "query_show5"
   ]
  },
  {
   "cell_type": "markdown",
   "id": "258201a7",
   "metadata": {
    "tags": []
   },
   "source": [
    "---\n",
    "\n",
    "## <span style=\"color:#ff5f27;\">🤖 Transformation functions</span>\n",
    "\n",
    "Hopsworks Feature Store provides functionality to attach transformation functions to training datasets.\n",
    "\n",
    "Hopsworks Feature Store also comes with built-in transformation functions such as `min_max_scaler`, `standard_scaler`, `robust_scaler` and `label_encoder`."
   ]
  },
  {
   "cell_type": "code",
   "execution_count": null,
   "id": "3f4173f3",
   "metadata": {},
   "outputs": [],
   "source": [
    "[t_func.name for t_func in fs.get_transformation_functions()]"
   ]
  },
  {
   "cell_type": "markdown",
   "id": "1e20134b",
   "metadata": {},
   "source": [
    "We can retrieve transformation function we need .\n",
    "\n",
    "To attach transformation function to training dataset provide transformation functions as dict, where key is feature name and value is online transformation function name.\n",
    "\n",
    "Also training dataset must be created from the Query object. Once attached transformation function will be applied on whenever save, insert and get_serving_vector methods are called on training dataset object."
   ]
  },
  {
   "cell_type": "code",
   "execution_count": null,
   "id": "8a41e840",
   "metadata": {},
   "outputs": [],
   "source": [
    "cat_cols = query_show5.dtypes[query_show5.dtypes == 'object'].index\n",
    "\n",
    "le = fs.get_transformation_function(name='label_encoder') \n",
    "\n",
    "transformation_functions = {\n",
    "    col: le\n",
    "    for col \n",
    "    in cat_cols\n",
    "}"
   ]
  },
  {
   "cell_type": "markdown",
   "id": "5a161181",
   "metadata": {},
   "source": [
    "---\n",
    "\n",
    "## <span style=\"color:#ff5f27;\"> ⚙️ Feature View Creation </span>\n",
    "\n",
    "`Feature Views` stands between **Feature Groups** and **Training Dataset**. Сombining **Feature Groups** we can create **Feature Views** which store a metadata of our data. Having **Feature Views** we can create **Training Dataset**.\n",
    "\n",
    "The Feature Views allows schema in form of a query with filters, define a model target feature/label and additional transformation functions.\n",
    "\n",
    "In order to create Feature View we can use `FeatureStore.get_or_create_feature_view()` method.\n",
    "\n",
    "We can specify next parameters:\n",
    "\n",
    "- `name` - name of a feature group.\n",
    "\n",
    "- `version` - version of a feature group.\n",
    "\n",
    "- `labels`- out target variable.\n",
    "\n",
    "- `transformation_functions` - functions to transform our features.\n",
    "\n",
    "- `query` - query object with data."
   ]
  },
  {
   "cell_type": "code",
   "execution_count": null,
   "id": "0eddfb1d",
   "metadata": {},
   "outputs": [],
   "source": [
    "feature_view = fs.get_or_create_feature_view(\n",
    "    name='credit_scores',\n",
    "    version=1,\n",
    "    labels=['target'],\n",
    "    transformation_functions=transformation_functions,\n",
    "    query=query\n",
    ")"
   ]
  },
  {
   "cell_type": "markdown",
   "id": "5d957dae",
   "metadata": {},
   "source": [
    "---\n",
    "\n",
    "## <span style=\"color:#ff5f27;\"> 🏋️ Training Dataset Creation</span>\n",
    "\n",
    "In Hopsworks training data is a query where the projection (set of features) is determined by the parent FeatureView with an optional snapshot on disk of the data returned by the query.\n",
    "\n",
    "**Training Dataset  may contain splits such as:** \n",
    "* Training set - the subset of training data used to train a model.\n",
    "* Validation set - the subset of training data used to evaluate hparams when training a model\n",
    "* Test set - the holdout subset of training data used to evaluate a mode\n",
    "\n",
    "To create training dataset we use `FeatureView.create_training_data()` method.\n",
    "\n",
    "Here are some importand things:\n",
    "\n",
    "- It will inherit the name of FeatureView.\n",
    "\n",
    "- The feature store currently supports the following data formats for\n",
    "training datasets: **tfrecord, csv, tsv, parquet, avro, orc**.\n",
    "\n",
    "- We can choose necessary format using **data_format** parameter.\n",
    "\n",
    "- **start_time** and **end_time** in order to filter dataset in specific time range.\n",
    "\n",
    "- We can create **train, test** splits using `create_train_test_split()`. \n",
    "\n",
    "- We can create **train,validation, test** splits using `create_train_validation_test_splits()` methods.\n",
    "\n",
    "- The only thing is that we should specify desired ratio of splits."
   ]
  },
  {
   "cell_type": "code",
   "execution_count": null,
   "id": "b30b61c3",
   "metadata": {},
   "outputs": [],
   "source": [
    "td_version, td_job = feature_view.create_train_test_split(\n",
    "    test_size = 0.2\n",
    ")"
   ]
  },
  {
   "cell_type": "markdown",
   "id": "28684172",
   "metadata": {},
   "source": [
    "---\n",
    "## <span style=\"color:#ff5f27;\"> ✨ Load Training Data </span>\n",
    "\n",
    "First, we'll need to fetch the training dataset.\n",
    "\n",
    "You can use **Feature View** in order to retrieve **training dataset** using `FeatureView.get_train_test_split()` method."
   ]
  },
  {
   "cell_type": "code",
   "execution_count": null,
   "id": "490a1c2b",
   "metadata": {},
   "outputs": [],
   "source": [
    "X_train, X_test, y_train, y_test = feature_view.get_train_test_split(\n",
    "    training_dataset_version=td_version\n",
    ")"
   ]
  },
  {
   "cell_type": "markdown",
   "id": "a6d47d29",
   "metadata": {},
   "source": [
    "---\n",
    "## <span style=\"color:#ff5f27;\"> 🧬 Modeling</span>"
   ]
  },
  {
   "cell_type": "code",
   "execution_count": null,
   "id": "e0902530",
   "metadata": {},
   "outputs": [],
   "source": [
    "import xgboost as xgb\n",
    "\n",
    "xgboost_model = xgb.XGBClassifier()\n",
    "\n",
    "xgboost_model.fit(X_train, y_train)"
   ]
  },
  {
   "cell_type": "markdown",
   "id": "69c7eff1",
   "metadata": {},
   "source": [
    "---\n",
    "## <span style=\"color:#ff5f27;\"> 👨🏻‍⚖️ Model Evaluation</span>"
   ]
  },
  {
   "cell_type": "code",
   "execution_count": null,
   "id": "393ec28c",
   "metadata": {},
   "outputs": [],
   "source": [
    "score = f1_score(y_test, xgboost_model.predict(X_test), average=\"macro\")\n",
    "\n",
    "print(f'⛳️ F1 score: {score}')"
   ]
  },
  {
   "cell_type": "code",
   "execution_count": null,
   "id": "896802e7",
   "metadata": {},
   "outputs": [],
   "source": [
    "conf_matrix = confusion_matrix(y_test, xgboost_model.predict(X_test))\n",
    "\n",
    "figure_cm = plt.figure(figsize = (10,7))\n",
    "figure_cm = sns.heatmap(conf_matrix, annot=True, annot_kws={\"size\": 14}, fmt='.10g')\n",
    "\n",
    "plt.title('Confusion Matrix',fontsize=17)\n",
    "plt.show()"
   ]
  },
  {
   "cell_type": "code",
   "execution_count": null,
   "id": "38891567",
   "metadata": {},
   "outputs": [],
   "source": [
    "figure_imp = plot_importance(xgboost_model, max_num_features=10, importance_type='weight')\n",
    "plt.show()"
   ]
  },
  {
   "cell_type": "markdown",
   "id": "668f2efb",
   "metadata": {},
   "source": [
    "---\n",
    "## <span style=\"color:#ff5f27;\">🗄 Model Registry</span>\n",
    "\n",
    "One of the features in Hopsworks is the model registry. This is where you can store different versions of models and compare their performance."
   ]
  },
  {
   "cell_type": "code",
   "execution_count": null,
   "id": "fd5ec387",
   "metadata": {},
   "outputs": [],
   "source": [
    "mr = project.get_model_registry()"
   ]
  },
  {
   "cell_type": "markdown",
   "id": "30b0c2a7",
   "metadata": {},
   "source": [
    "### <span style=\"color:#ff5f27;\">⚙️ Model Schema</span>\n",
    "\n",
    "The model needs to be set up with a [Model Schema](https://docs.hopsworks.ai/machine-learning-api/latest/generated/model_schema/), which describes the inputs and outputs for a model.\n",
    "\n",
    "A Model Schema can be automatically generated from training examples, as shown below."
   ]
  },
  {
   "cell_type": "code",
   "execution_count": null,
   "id": "c671699c",
   "metadata": {},
   "outputs": [],
   "source": [
    "from hsml.schema import Schema\n",
    "from hsml.model_schema import ModelSchema\n",
    "\n",
    "input_schema = Schema(X_train.values)\n",
    "output_schema = Schema(y_train)\n",
    "model_schema = ModelSchema(input_schema=input_schema, output_schema=output_schema)\n",
    "\n",
    "model_schema.to_dict()"
   ]
  },
  {
   "cell_type": "markdown",
   "id": "2489db15",
   "metadata": {},
   "source": [
    "### <span style=\"color:#ff5f27;\">💽 Save a model</span>"
   ]
  },
  {
   "cell_type": "code",
   "execution_count": null,
   "id": "5400b050-a035-432c-9978-fcd42ba96854",
   "metadata": {},
   "outputs": [],
   "source": [
    "model_dir = \"credit_scores_model\"\n",
    "\n",
    "if os.path.isdir(model_dir) == False:\n",
    "    os.mkdir(model_dir)\n",
    "\n",
    "joblib.dump(xgboost_model, model_dir + '/credit_scores_model.pkl')\n",
    "\n",
    "figure_cm.figure.savefig(model_dir + '/confusion_matrix.png')\n",
    "figure_imp.figure.savefig(model_dir + '/feature_importance.png')"
   ]
  },
  {
   "cell_type": "code",
   "execution_count": null,
   "id": "ce5af23f",
   "metadata": {},
   "outputs": [],
   "source": [
    "model = mr.python.create_model(\n",
    "    name=\"credit_scores_model\",\n",
    "    metrics={\"f1_score\": score}, \n",
    "    description=\"XGB for Credit Scores Project\",\n",
    "    input_example=X_train.sample(),\n",
    "    model_schema=model_schema\n",
    ")\n",
    "\n",
    "model.save(model_dir)"
   ]
  },
  {
   "cell_type": "markdown",
   "id": "e41fef40-0692-419e-ac50-c70a93338a71",
   "metadata": {},
   "source": [
    "---"
   ]
  },
  {
   "cell_type": "markdown",
   "id": "53801baf-5529-4e32-a8b7-f850b13e916e",
   "metadata": {
    "tags": []
   },
   "source": [
    "## <span style=\"color:#ff5f27;\"> 📮 Retrieving model from Model Registry </span>"
   ]
  },
  {
   "cell_type": "code",
   "execution_count": null,
   "id": "bba0f9e7-3564-48a1-8434-7b2091bc2ec2",
   "metadata": {},
   "outputs": [],
   "source": [
    "retrieved_model = mr.get_model(\n",
    "    name=\"credit_scores_model\",\n",
    "    version=1\n",
    ")\n",
    "saved_model_dir = retrieved_model.download()"
   ]
  },
  {
   "cell_type": "code",
   "execution_count": null,
   "id": "10cebf74-3a9b-4c30-96fe-152f88182a78",
   "metadata": {},
   "outputs": [],
   "source": [
    "retrieved_xgboost_model = joblib.load(saved_model_dir + \"/credit_scores_model.pkl\")\n",
    "retrieved_xgboost_model"
   ]
  },
  {
   "cell_type": "markdown",
   "id": "0aa1bc6b-636c-4754-b217-1bd68a96e2c4",
   "metadata": {
    "tags": []
   },
   "source": [
    "## <span style=\"color:#ff5f27;\"> 🤖 Making the predictions </span>"
   ]
  },
  {
   "cell_type": "code",
   "execution_count": null,
   "id": "2972630e-277e-4634-b2a4-680d0bbba47f",
   "metadata": {},
   "outputs": [],
   "source": [
    "predictions = retrieved_xgboost_model.predict(X_test)\n",
    "predictions[:10]"
   ]
  },
  {
   "cell_type": "markdown",
   "id": "676ea53b",
   "metadata": {},
   "source": [
    "---\n",
    "\n",
    "### <span style=\"color:#ff5f27;\">🥳 <b> Next Steps  </b> </span>\n",
    "Congratulations you've now completed the credit scores tutorial for Managed Hopsworks.\n",
    "\n",
    "Check out our other tutorials on ➡ https://github.com/logicalclocks/hopsworks-tutorials\n",
    "\n",
    "Or documentation at ➡ https://docs.hopsworks.ai"
   ]
  }
 ],
 "metadata": {
  "kernelspec": {
   "display_name": "Python 3 (ipykernel)",
   "language": "python",
   "name": "python3"
  },
  "language_info": {
   "codemirror_mode": {
    "name": "ipython",
    "version": 3
   },
   "file_extension": ".py",
   "mimetype": "text/x-python",
   "name": "python",
   "nbconvert_exporter": "python",
   "pygments_lexer": "ipython3",
   "version": "3.9.13"
  }
 },
 "nbformat": 4,
 "nbformat_minor": 5
}
