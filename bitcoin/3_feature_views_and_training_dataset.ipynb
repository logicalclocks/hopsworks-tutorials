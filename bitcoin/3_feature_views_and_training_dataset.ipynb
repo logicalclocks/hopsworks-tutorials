{
 "cells": [
  {
   "cell_type": "markdown",
   "id": "2dc51feb",
   "metadata": {},
   "source": [
    "# <span style=\"font-width:bold; font-size: 3rem; color:#1EB182;\"><img src=\"images/icon102.png\" width=\"38px\"></img> **Hopsworks Feature Store** </span><span style=\"font-width:bold; font-size: 3rem; color:#333;\">- Part 03: Training Data & Feature views</span>\n",
    "\n",
    "<span style=\"font-width:bold; font-size: 1.4rem;\">This is the third part of advanced tutorials about Hopsworks Feature Store. This notebook explains how to read from a feature group and create training dataset within the feature store</span>\n",
    "\n",
    "## 🗒️ In this notebook you will see how to create a training dataset from the feature groups: \n",
    "\n",
    "1. Retrieving Feature Groups.\n",
    "2. Defining Transformation functions.\n",
    "4. Feature View creation.\n",
    "5. Training Dataset with training, validation and test data.\n",
    "\n",
    "![part2](images/02_training-dataset.png) "
   ]
  },
  {
   "cell_type": "markdown",
   "id": "c5533ca2",
   "metadata": {},
   "source": [
    "### <span style=\"color:#ff5f27;\"> 📝 Imports</span>"
   ]
  },
  {
   "cell_type": "code",
   "execution_count": null,
   "id": "8e828a93",
   "metadata": {},
   "outputs": [],
   "source": [
    "import pandas as pd\n",
    "\n",
    "import datetime\n",
    "\n",
    "import warnings\n",
    "warnings.filterwarnings('ignore')"
   ]
  },
  {
   "cell_type": "markdown",
   "id": "7c720463",
   "metadata": {},
   "source": [
    "## <span style=\"color:#ff5f27;\"> 🔮 Connecting to Hopsworks Feature Store </span>"
   ]
  },
  {
   "cell_type": "code",
   "execution_count": null,
   "id": "dc27b91f",
   "metadata": {
    "scrolled": true
   },
   "outputs": [],
   "source": [
    "import hopsworks\n",
    "\n",
    "project = hopsworks.login()\n",
    "\n",
    "fs = project.get_feature_store()"
   ]
  },
  {
   "cell_type": "markdown",
   "id": "0bd4c8ca",
   "metadata": {},
   "source": [
    "---\n",
    "\n",
    "## <span style=\"color:#ff5f27;\">🪝 Retrieving Feature Groups </span>"
   ]
  },
  {
   "cell_type": "code",
   "execution_count": null,
   "id": "682d0a4a",
   "metadata": {},
   "outputs": [],
   "source": [
    "btc_price_fg = fs.get_or_create_feature_group(\n",
    "    name='bitcoin_price_fg',\n",
    "    version=1\n",
    ")\n",
    "\n",
    "btc_price_fg.read().head(3)"
   ]
  },
  {
   "cell_type": "code",
   "execution_count": null,
   "id": "efcede4e",
   "metadata": {},
   "outputs": [],
   "source": [
    "tweets_textblob_fg = fs.get_or_create_feature_group(\n",
    "    name='bitcoin_tweets_textblob_fg',\n",
    "    version=1\n",
    ")\n",
    "\n",
    "tweets_textblob_fg.show(3)"
   ]
  },
  {
   "cell_type": "code",
   "execution_count": null,
   "id": "0fddc44c",
   "metadata": {},
   "outputs": [],
   "source": [
    "tweets_vader_fg = fs.get_or_create_feature_group(\n",
    "    name='bitcoin_tweets_vader_fg',\n",
    "    version=1\n",
    ")\n",
    "\n",
    "tweets_vader_fg.show(3)"
   ]
  },
  {
   "cell_type": "markdown",
   "id": "58e7ca29",
   "metadata": {},
   "source": [
    "---\n",
    "\n",
    "## <span style=\"color:#ff5f27;\"> 🖍 Query Preparation</span>"
   ]
  },
  {
   "cell_type": "code",
   "execution_count": null,
   "id": "03eac419",
   "metadata": {},
   "outputs": [],
   "source": [
    "fg_query = btc_price_fg.select_except([\"date\",\"unix\"]).join(tweets_textblob_fg.select([\"subjectivity\",\"polarity\"])).join(tweets_vader_fg.select(\"compound\"))\n",
    "fg_query.show(5)"
   ]
  },
  {
   "cell_type": "markdown",
   "id": "eac9ef05",
   "metadata": {},
   "source": [
    "--- \n",
    "\n",
    "## <span style=\"color:#ff5f27;\"> 🔮 Feature View Creation and Retrieving </span>"
   ]
  },
  {
   "cell_type": "code",
   "execution_count": null,
   "id": "643f6ed6",
   "metadata": {},
   "outputs": [],
   "source": [
    "# Load the transformation functions.\n",
    "min_max_scaler = fs.get_transformation_function(name=\"min_max_scaler\")\n",
    "\n",
    "# Map features to transformation functions.\n",
    "transformation_functions = {\n",
    "    'open': min_max_scaler, \n",
    "    'high': min_max_scaler, \n",
    "    'low': min_max_scaler, \n",
    "    'close': min_max_scaler,\n",
    "    'volume': min_max_scaler, \n",
    "    'quote_av': min_max_scaler, \n",
    "    'trades': min_max_scaler,\n",
    "    'tb_base_av': min_max_scaler, \n",
    "    'tb_quote_av': min_max_scaler, \n",
    "    'mean_7_days': min_max_scaler, \n",
    "    'mean_14_days': min_max_scaler,\n",
    "    'mean_56_days': min_max_scaler, \n",
    "    'signal': min_max_scaler, \n",
    "    'std_7_days': min_max_scaler, \n",
    "    'exp_mean_7_days': min_max_scaler,\n",
    "    'exp_std_7_days': min_max_scaler, \n",
    "    'momentum_7_days': min_max_scaler,\n",
    "    'rate_of_change_7_days': min_max_scaler,\n",
    "    'strength_index_7_days': min_max_scaler, \n",
    "    'std_14_days': min_max_scaler, \n",
    "    'exp_mean_14_days': min_max_scaler,\n",
    "    'exp_std_14_days': min_max_scaler, \n",
    "    'momentum_14_days': min_max_scaler, \n",
    "    'rate_of_change_14_days': min_max_scaler,\n",
    "    'strength_index_14_days': min_max_scaler, \n",
    "    'std_56_days': min_max_scaler, \n",
    "    'exp_mean_56_days': min_max_scaler,\n",
    "    'exp_std_56_days': min_max_scaler, \n",
    "    'momentum_56_days': min_max_scaler, \n",
    "    'rate_of_change_56_days': min_max_scaler,\n",
    "    'strength_index_56_days': min_max_scaler, \n",
    "    'subjectivity': min_max_scaler, \n",
    "    'polarity': min_max_scaler, \n",
    "    'compound': min_max_scaler,                           \n",
    "}"
   ]
  },
  {
   "cell_type": "code",
   "execution_count": null,
   "id": "11f3df53",
   "metadata": {},
   "outputs": [],
   "source": [
    "feature_view = fs.create_feature_view(\n",
    "    name='bitcoin_feature_view',\n",
    "    version=1,\n",
    "    transformation_functions=transformation_functions,\n",
    "    query=fg_query\n",
    ")"
   ]
  },
  {
   "cell_type": "markdown",
   "id": "0819a2f7",
   "metadata": {},
   "source": [
    "---\n",
    "\n",
    "## <span style=\"color:#ff5f27;\"> 🏋️ Training Dataset Creation</span>\n",
    "---\n",
    "\n",
    "### <span style=\"color:#ff5f27;\">🪓 TimeSeriesSplit</span>"
   ]
  },
  {
   "cell_type": "code",
   "execution_count": null,
   "id": "db001d18",
   "metadata": {},
   "outputs": [],
   "source": [
    "from datetime import datetime\n",
    "date_format = \"%Y-%m-%d %H:%M:%S\""
   ]
  },
  {
   "cell_type": "code",
   "execution_count": null,
   "id": "f88a827b",
   "metadata": {},
   "outputs": [],
   "source": [
    "# Create training datasets based event time filter\n",
    "start_time = int(float(datetime.strptime(\"2021-02-05 10:00:00\", date_format).timestamp()) * 1000)\n",
    "end_time = int(float(datetime.strptime(\"2022-01-01 23:59:59\", date_format).timestamp()) * 1000)\n",
    "\n",
    "\n",
    "td_train_version, td_job = feature_view.create_training_data(\n",
    "        start_time = start_time,\n",
    "        end_time = end_time,    \n",
    "        description = 'transactions fraud online training dataset jan/feb',\n",
    "        data_format = \"csv\",\n",
    "        coalesce = True,\n",
    "        write_options = {'wait_for_job': True},\n",
    "    )"
   ]
  },
  {
   "cell_type": "code",
   "execution_count": null,
   "id": "78331cf1",
   "metadata": {},
   "outputs": [],
   "source": [
    "# Create training datasets based event time filter\n",
    "start_time = int(float(datetime.strptime(\"2022-01-02 00:00:00\", date_format).timestamp()) * 1000)\n",
    "end_time = int(float(datetime.strptime(\"2022-04-30 23:59:59\", date_format).timestamp()) * 1000)\n",
    "\n",
    "td_validation_version, td_job = feature_view.create_training_data(\n",
    "        start_time = start_time,\n",
    "        end_time = end_time,    \n",
    "        description = 'transactions fraud online training dataset jan/feb',\n",
    "        data_format = \"csv\",\n",
    "        coalesce = True,\n",
    "        write_options = {'wait_for_job': True},\n",
    "    )"
   ]
  },
  {
   "cell_type": "code",
   "execution_count": null,
   "id": "72a9a520",
   "metadata": {},
   "outputs": [],
   "source": [
    "# Create training datasets based event time filter\n",
    "start_time = int(float(datetime.strptime(\"2022-05-01 00:00:00\", date_format).timestamp()) * 1000)\n",
    "end_time = int(float(datetime.strptime(\"2022-06-04 23:59:59\", date_format).timestamp()) * 1000)\n",
    "\n",
    "td_test_version, td_job = feature_view.create_training_data(\n",
    "        start_time = start_time,\n",
    "        end_time = end_time,    \n",
    "        description = 'transactions fraud online training dataset jan/feb',\n",
    "        data_format = \"csv\",\n",
    "        coalesce = True,\n",
    "        write_options = {'wait_for_job': True},\n",
    "    )"
   ]
  },
  {
   "cell_type": "markdown",
   "id": "715e71af",
   "metadata": {},
   "source": [
    "---"
   ]
  }
 ],
 "metadata": {
  "kernelspec": {
   "display_name": "Python 3 (ipykernel)",
   "language": "python",
   "name": "python3"
  },
  "language_info": {
   "codemirror_mode": {
    "name": "ipython",
    "version": 3
   },
   "file_extension": ".py",
   "mimetype": "text/x-python",
   "name": "python",
   "nbconvert_exporter": "python",
   "pygments_lexer": "ipython3",
   "version": "3.9.13"
  }
 },
 "nbformat": 4,
 "nbformat_minor": 5
}
