{
 "cells": [
  {
   "cell_type": "markdown",
   "id": "72f42eba",
   "metadata": {},
   "source": [
    "## <span style='color:#ff5f27'> 📝 Imports"
   ]
  },
  {
   "cell_type": "code",
   "execution_count": null,
   "id": "8158dcec",
   "metadata": {},
   "outputs": [],
   "source": [
    "import joblib\n",
    "import pandas as pd\n",
    "from datetime import datetime\n",
    "from prophet.serialize import model_from_json\n",
    "from matplotlib import pyplot\n",
    "import warnings\n",
    "warnings.filterwarnings('ignore')"
   ]
  },
  {
   "cell_type": "markdown",
   "id": "faa87ecf",
   "metadata": {},
   "source": [
    "## <span style=\"color:#ff5f27;\"> 📡 Connecting to Hopsworks Feature Store </span>"
   ]
  },
  {
   "cell_type": "code",
   "execution_count": null,
   "id": "b4330a4a",
   "metadata": {},
   "outputs": [],
   "source": [
    "import hopsworks\n",
    "\n",
    "project = hopsworks.login()\n",
    "\n",
    "fs = project.get_feature_store()"
   ]
  },
  {
   "cell_type": "markdown",
   "id": "dff5ebe0",
   "metadata": {},
   "source": [
    "## <span style=\"color:#ff5f27;\"> ⚙️ Feature View Retrieval</span>\n"
   ]
  },
  {
   "cell_type": "code",
   "execution_count": null,
   "id": "bd3f8c1c",
   "metadata": {},
   "outputs": [],
   "source": [
    "# Retrieve the 'medical_features' feature view\n",
    "feature_view = fs.get_feature_view(\n",
    "    name='medical_features',\n",
    "    version=1,\n",
    ")"
   ]
  },
  {
   "cell_type": "markdown",
   "id": "21b6f351",
   "metadata": {},
   "source": [
    "## <span style=\"color:#ff5f27;\">🗄 Model Registry</span>\n"
   ]
  },
  {
   "cell_type": "code",
   "execution_count": null,
   "id": "ecad81cc",
   "metadata": {},
   "outputs": [],
   "source": [
    "# Get the model registry\n",
    "mr = project.get_model_registry()"
   ]
  },
  {
   "cell_type": "markdown",
   "id": "515fe05a",
   "metadata": {},
   "source": [
    "## <span style='color:#ff5f27'>🚀 Fetch and test the model</span>\n",
    "\n",
    "Finally you can start making predictions with your model!\n",
    "\n",
    "Retrieve your model from Hopsworks model registry."
   ]
  },
  {
   "cell_type": "code",
   "execution_count": null,
   "id": "fbb5cdc7",
   "metadata": {},
   "outputs": [],
   "source": [
    "# Retrieve the model from the model registry\n",
    "retrieved_model = mr.get_model(\n",
    "    name=\"waiting_time_forecast_model\",\n",
    "    version=1,\n",
    ")\n",
    "\n",
    "# Download the saved model files to a local directory\n",
    "saved_model_dir = retrieved_model.download()"
   ]
  },
  {
   "cell_type": "code",
   "execution_count": null,
   "id": "9dfaba98",
   "metadata": {},
   "outputs": [],
   "source": [
    "with open(saved_model_dir + '/serialized_model.json', 'r') as fin:\n",
    "    model = model_from_json(fin.read())  # Load model"
   ]
  },
  {
   "cell_type": "markdown",
   "id": "2e5b40c5",
   "metadata": {},
   "source": [
    "## <span style=\"color:#ff5f27;\">🔮  Batch Prediction </span>\n"
   ]
  },
  {
   "cell_type": "code",
   "execution_count": null,
   "id": "a5e49a6e",
   "metadata": {},
   "outputs": [],
   "source": [
    "# Initialize batch scoring\n",
    "feature_view.init_batch_scoring(1)\n",
    "\n",
    "# Get the batch data\n",
    "batch_data = feature_view.get_batch_data(\n",
    "    start_time=datetime(2015, 10, 19), \n",
    "    end_time=datetime(2017, 12, 29), \n",
    "    event_time=True,\n",
    ")\n",
    "\n",
    "batch_data['ds'] = batch_data.date\n",
    "batch_data['ds'] = pd.to_datetime(batch_data.ds)\n",
    "batch_data['ds'] = batch_data.ds.map(lambda x: x.replace(tzinfo=None))\n",
    "batch_data.drop(columns=[\"date\"], axis=1, inplace=True)\n",
    "batch_data = batch_data.sort_values(\"ds\")\n",
    "\n",
    "# Display the first 3 rows\n",
    "batch_data.head(3)"
   ]
  },
  {
   "cell_type": "code",
   "execution_count": null,
   "id": "8ff70533",
   "metadata": {},
   "outputs": [],
   "source": [
    "# use the model to make a forecast\n",
    "forecast = model.predict(batch_data)\n",
    "\n",
    "# summarize the forecast\n",
    "print(forecast[['ds', 'yhat', 'yhat_lower', 'yhat_upper']].head())"
   ]
  },
  {
   "cell_type": "code",
   "execution_count": null,
   "id": "b6821c72",
   "metadata": {},
   "outputs": [],
   "source": [
    "model.plot(forecast)"
   ]
  },
  {
   "cell_type": "code",
   "execution_count": null,
   "id": "4c6c4a04",
   "metadata": {},
   "outputs": [],
   "source": [
    "model.plot_components(forecast)"
   ]
  },
  {
   "cell_type": "markdown",
   "id": "583f95e2",
   "metadata": {},
   "source": [
    "---"
   ]
  }
 ],
 "metadata": {
  "kernelspec": {
   "display_name": "Python 3",
   "language": "python",
   "name": "python3"
  },
  "language_info": {
   "codemirror_mode": {
    "name": "ipython",
    "version": 3
   },
   "file_extension": ".py",
   "mimetype": "text/x-python",
   "name": "python",
   "nbconvert_exporter": "python",
   "pygments_lexer": "ipython3",
   "version": "3.10.11"
  }
 },
 "nbformat": 4,
 "nbformat_minor": 5
}
