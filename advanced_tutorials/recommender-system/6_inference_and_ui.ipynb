{
 "cells": [
  {
   "cell_type": "code",
   "execution_count": null,
   "id": "8c7fc22f-4780-423b-a31d-fb4885a740e2",
   "metadata": {},
   "outputs": [],
   "source": [
    "#!pip install gradio==3.30.0"
   ]
  },
  {
   "cell_type": "code",
   "execution_count": null,
   "id": "b602fdad-07c6-40fe-a330-33e8a0ec4592",
   "metadata": {},
   "outputs": [],
   "source": [
    "import hopsworks\n",
    "\n",
    "project = hopsworks.login()"
   ]
  },
  {
   "cell_type": "code",
   "execution_count": null,
   "id": "aaf2fea9-a8ac-4dd2-94b7-b4f8c6cf8edd",
   "metadata": {},
   "outputs": [],
   "source": [
    "ms = project.get_model_serving()\n",
    "\n",
    "# get query deployment metadata object\n",
    "query_model_deployment =  ms.get_deployment(\"querydeployment\")"
   ]
  },
  {
   "cell_type": "markdown",
   "id": "439044bf-fbb7-406a-b49d-b128b0c8ba79",
   "metadata": {},
   "source": [
    "## <span style=\"color:#ff5f27\">🔮 Get ranking of recommendations by customer </span>\n"
   ]
  },
  {
   "cell_type": "code",
   "execution_count": null,
   "id": "739c3c25-07f5-4353-8d6c-76c7b4ba89dc",
   "metadata": {},
   "outputs": [],
   "source": [
    "import gradio as gr\n",
    "from datetime import datetime\n",
    "\n",
    "def parse_output(ranking):\n",
    "    output = \"\"\n",
    "    for rec in ranking:\n",
    "        output += \"Item ID: \" + str(rec[1]) + \"\\t\\t--\\t\\t score: \" + str(rec[0]) + \"\\n\"\n",
    "    return output\n",
    "\n",
    "def recommender(c_id, dt):\n",
    "    list_inputs = []\n",
    "    list_inputs.append(c_id)\n",
    "    list_inputs.append(dt)    \n",
    "    mop = datetime.now().isoformat() if dt == \"now\" else dt\n",
    "    data = {\"instances\": {\"customer_id\": c_id, \"transaction_date\": mop}}\n",
    "    res = query_model_deployment.predict(data)\n",
    "    return parse_output(res[\"predictions\"][\"ranking\"])\n",
    "\n",
    "demo = gr.Interface(\n",
    "    fn=recommender,\n",
    "    title=\"Fashion Items Recommender\",\n",
    "    description=\"Get recommendations of fashion items based on customer history and item features.\",\n",
    "    allow_flagging=\"never\",\n",
    "    inputs=[\n",
    "        gr.inputs.Textbox(default=\"641e6f3ef3a2d537140aaa0a06055ae328a0dddf2c2c0dd6e60eb0563c7cbba0\", label=\"For which customer?\"),\n",
    "        gr.inputs.Textbox(default=\"now\", label=\"When to purchase?\"),\n",
    "    ],\n",
    "    outputs=gr.outputs.Textbox(label=\"Recommendations\")\n",
    ")\n",
    "\n",
    "demo.launch(share=True)"
   ]
  }
 ],
 "metadata": {
  "kernelspec": {
   "display_name": "Python 3 (ipykernel)",
   "language": "python",
   "name": "python3"
  },
  "language_info": {
   "codemirror_mode": {
    "name": "ipython",
    "version": 3
   },
   "file_extension": ".py",
   "mimetype": "text/x-python",
   "name": "python",
   "nbconvert_exporter": "python",
   "pygments_lexer": "ipython3",
   "version": "3.10.13"
  }
 },
 "nbformat": 4,
 "nbformat_minor": 5
}
