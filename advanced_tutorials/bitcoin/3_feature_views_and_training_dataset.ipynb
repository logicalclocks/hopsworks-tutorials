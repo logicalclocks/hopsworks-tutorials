{
 "cells": [
  {
   "cell_type": "markdown",
   "id": "2dc51feb",
   "metadata": {},
   "source": [
    "# <span style=\"font-width:bold; font-size: 3rem; color:#1EB182;\"><img src=\"../../images/icon102.png\" width=\"38px\"></img> **Hopsworks Feature Store** </span><span style=\"font-width:bold; font-size: 3rem; color:#333;\">- Part 03: Training Data & Feature views</span>\n",
    "\n",
    "[![Open In Colab](https://colab.research.google.com/assets/colab-badge.svg)](https://colab.research.google.com/github/logicalclocks/hopsworks-tutorials/blob/master/advanced_tutorials/bitcoin/3_feature_views_and_training_dataset.ipynb)\n",
    "\n",
    "<span style=\"font-width:bold; font-size: 1.4rem;\">This is the third part of advanced tutorials about Hopsworks Feature Store. This notebook explains how to read from a feature group and create training dataset within the feature store</span>\n",
    "\n",
    "## 🗒️ This notebook is divided into the following sections: \n",
    "\n",
    "1. Fetch Feature Groups\n",
    "2. Define Transformation functions\n",
    "4. Create Feature Views\n",
    "5. Create Training Dataset with training, validation and test splits\n",
    "\n",
    "![part2](../../images/02_training-dataset.png) "
   ]
  },
  {
   "cell_type": "markdown",
   "id": "c5533ca2",
   "metadata": {},
   "source": [
    "### <span style=\"color:#ff5f27;\"> 📝 Imports</span>"
   ]
  },
  {
   "cell_type": "code",
   "execution_count": null,
   "id": "8e828a93",
   "metadata": {},
   "outputs": [],
   "source": [
    "import pandas as pd\n",
    "\n",
    "import datetime\n",
    "\n",
    "import warnings\n",
    "warnings.filterwarnings('ignore')"
   ]
  },
  {
   "cell_type": "markdown",
   "id": "82bdb4b4",
   "metadata": {},
   "source": [
    "---"
   ]
  },
  {
   "cell_type": "markdown",
   "id": "7c720463",
   "metadata": {},
   "source": [
    "## <span style=\"color:#ff5f27;\"> 📡 Connecting to the Hopsworks Feature Store </span>"
   ]
  },
  {
   "cell_type": "code",
   "execution_count": null,
   "id": "dc27b91f",
   "metadata": {
    "scrolled": true
   },
   "outputs": [],
   "source": [
    "import hopsworks\n",
    "\n",
    "project = hopsworks.login()\n",
    "\n",
    "fs = project.get_feature_store()"
   ]
  },
  {
   "cell_type": "code",
   "execution_count": null,
   "id": "682d0a4a",
   "metadata": {},
   "outputs": [],
   "source": [
    "btc_price_fg = fs.get_or_create_feature_group(\n",
    "    name='bitcoin_price',\n",
    "    version=1\n",
    ")\n",
    "\n",
    "btc_price_fg.read().head(3)"
   ]
  },
  {
   "cell_type": "code",
   "execution_count": null,
   "id": "efcede4e",
   "metadata": {},
   "outputs": [],
   "source": [
    "tweets_textblob_fg = fs.get_or_create_feature_group(\n",
    "    name='bitcoin_tweets_textblob',\n",
    "    version=1\n",
    ")\n",
    "\n",
    "tweets_textblob_fg.show(3)"
   ]
  },
  {
   "cell_type": "code",
   "execution_count": null,
   "id": "0fddc44c",
   "metadata": {},
   "outputs": [],
   "source": [
    "tweets_vader_fg = fs.get_or_create_feature_group(\n",
    "    name='bitcoin_tweets_vader',\n",
    "    version=1\n",
    ")\n",
    "\n",
    "tweets_vader_fg.show(3)"
   ]
  },
  {
   "cell_type": "markdown",
   "id": "eac9ef05",
   "metadata": {},
   "source": [
    "--- \n",
    "\n",
    "## <span style=\"color:#ff5f27;\"> 🖍 Feature View Creation and Retrieving </span>"
   ]
  },
  {
   "cell_type": "code",
   "execution_count": null,
   "id": "52f154e5",
   "metadata": {
    "scrolled": true
   },
   "outputs": [],
   "source": [
    "# Query Preparation\n",
    "fg_query = btc_price_fg.select_except([\"date\",'signal']).join(tweets_textblob_fg.select([\"subjectivity\",\"polarity\"])).join(tweets_vader_fg.select(\"compound\"))\n",
    "\n",
    "final_df = fg_query.read()"
   ]
  },
  {
   "cell_type": "code",
   "execution_count": null,
   "id": "dbb012ea",
   "metadata": {},
   "outputs": [],
   "source": [
    "final_df.head(5)"
   ]
  },
  {
   "cell_type": "code",
   "execution_count": null,
   "id": "86e54fef",
   "metadata": {},
   "outputs": [],
   "source": [
    "# Check for Nans\n",
    "final_df.isna().sum()[final_df.isna().sum() > 0]"
   ]
  },
  {
   "cell_type": "code",
   "execution_count": null,
   "id": "64f779fe",
   "metadata": {},
   "outputs": [],
   "source": [
    "columns_to_transform = final_df.columns\n",
    "columns_to_transform = columns_to_transform.tolist()\n",
    "columns_to_transform.remove(\"unix\")"
   ]
  },
  {
   "cell_type": "code",
   "execution_count": null,
   "id": "643f6ed6",
   "metadata": {},
   "outputs": [],
   "source": [
    "# Map features to transformation functions.\n",
    "transformation_functions = {col: fs.get_transformation_function(name=\"min_max_scaler\") for col in columns_to_transform}"
   ]
  },
  {
   "cell_type": "code",
   "execution_count": null,
   "id": "11f3df53",
   "metadata": {},
   "outputs": [],
   "source": [
    "feature_view = fs.get_or_create_feature_view(\n",
    "    name='bitcoin_feature_view',\n",
    "    version=1,\n",
    "    transformation_functions=transformation_functions,\n",
    "    query=fg_query\n",
    ")"
   ]
  },
  {
   "cell_type": "markdown",
   "id": "0819a2f7",
   "metadata": {},
   "source": [
    "---\n",
    "\n",
    "## <span style=\"color:#ff5f27;\"> 🏋️ Training Dataset Creation</span>"
   ]
  },
  {
   "cell_type": "code",
   "execution_count": null,
   "id": "a0ba08bf",
   "metadata": {},
   "outputs": [],
   "source": [
    "from datetime import datetime\n",
    "\n",
    "\n",
    "df_format = '%Y-%m-%d'\n",
    "\n",
    "# You can combine different datetime formats.\n",
    "td_jan_feb_version, td_job = feature_view.create_train_test_split(\n",
    "    train_start=\"2021/02/05\",\n",
    "    train_end=\"2022-06-01\",\n",
    "    validation_start=datetime.strptime('2022-06-02', df_format),\n",
    "    validation_end=\"20220901\",\n",
    "    test_start=\"20220902,\n",
    "    test_end=\"2022/012/01\",\n",
    "    data_format = \"csv\",\n",
    "    coalesce = True,\n",
    "    write_options = {'wait_for_job': False},\n",
    "    )"
   ]
  },
  {
   "cell_type": "markdown",
   "id": "457e7657",
   "metadata": {},
   "source": [
    "## <span style=\"color:#ff5f27;\">⏭️ **Next:** Part 04 </span>\n",
    "\n",
    "In the next notebook you will train a model on the dataset, that was created in this notebook."
   ]
  },
  {
   "cell_type": "markdown",
   "id": "c62db8c1",
   "metadata": {},
   "source": [
    "---"
   ]
  }
 ],
 "metadata": {
  "kernelspec": {
   "display_name": "Python 3 (ipykernel)",
   "language": "python",
   "name": "python3"
  },
  "language_info": {
   "codemirror_mode": {
    "name": "ipython",
    "version": 3
   },
   "file_extension": ".py",
   "mimetype": "text/x-python",
   "name": "python",
   "nbconvert_exporter": "python",
   "pygments_lexer": "ipython3",
   "version": "3.8.15"
  }
 },
 "nbformat": 4,
 "nbformat_minor": 5
}
