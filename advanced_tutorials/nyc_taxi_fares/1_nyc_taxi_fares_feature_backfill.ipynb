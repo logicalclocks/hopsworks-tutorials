{
 "cells": [
  {
   "cell_type": "markdown",
   "id": "dd36272d",
   "metadata": {},
   "source": [
    "# <span style=\"font-width:bold; font-size: 3rem; color:#1EB182;\">**Hopsworks Feature Store** </span><span style=\"font-width:bold; font-size: 3rem; color:#333;\">- Part 01: Feature Backfill</span>\n",
    "\n",
    "**Note**: This tutorial does not support Google Colab.\n",
    "\n",
    "## 🗒️ This notebook is divided into 3 sections:\n",
    "1. Load data from source files.\n",
    "2. Connect to the Hopsworks Feature Store.\n",
    "3. Create feature groups and insert them into the Feature Store.\n",
    "\n",
    "![tutorial-flow](../../images/01_featuregroups.png)"
   ]
  },
  {
   "cell_type": "markdown",
   "id": "43713d56",
   "metadata": {},
   "source": [
    "### <span style='color:#ff5f27'> 📝 Imports"
   ]
  },
  {
   "cell_type": "code",
   "execution_count": null,
   "id": "2f322474",
   "metadata": {},
   "outputs": [],
   "source": [
    "!pip install -U hopsworks --quiet"
   ]
  },
  {
   "cell_type": "code",
   "execution_count": null,
   "id": "aeed974f",
   "metadata": {},
   "outputs": [],
   "source": [
    "import pandas as pd\n",
    "\n",
    "# Mute warnings\n",
    "import warnings\n",
    "warnings.filterwarnings(\"ignore\")"
   ]
  },
  {
   "cell_type": "markdown",
   "id": "af8f24b1",
   "metadata": {},
   "source": [
    "___"
   ]
  },
  {
   "cell_type": "markdown",
   "id": "55fec98f",
   "metadata": {},
   "source": [
    "## <span style='color:#ff5f27'> 💽 Loading Historical Data</span>\n"
   ]
  },
  {
   "cell_type": "markdown",
   "id": "097fa6b8",
   "metadata": {},
   "source": [
    "### <span style='color:#ff5f27'> 🚖 Rides Data"
   ]
  },
  {
   "cell_type": "code",
   "execution_count": null,
   "id": "23c93fd1",
   "metadata": {},
   "outputs": [],
   "source": [
    "# Read the rides data\n",
    "df_rides = pd.read_csv(\"https://repo.hops.works/dev/davit/nyc_taxi/rides500.csv\", index_col=0)\n",
    "\n",
    "# Display the first 3 rows of the DataFrame\n",
    "df_rides.head(3)"
   ]
  },
  {
   "cell_type": "markdown",
   "id": "9b04266f",
   "metadata": {},
   "source": [
    "### <span style='color:#ff5f27'> 💸 Fares Data"
   ]
  },
  {
   "cell_type": "code",
   "execution_count": null,
   "id": "3025713c",
   "metadata": {},
   "outputs": [],
   "source": [
    "# Read the fares data\n",
    "df_fares = pd.read_csv(\"https://repo.hops.works/dev/davit/nyc_taxi/fares500.csv\", index_col=0)\n",
    "\n",
    "# Display the first 3 rows of the fares DataFrame\n",
    "df_fares.head(3)"
   ]
  },
  {
   "cell_type": "markdown",
   "id": "c0cdbddb",
   "metadata": {},
   "source": [
    "---"
   ]
  },
  {
   "cell_type": "markdown",
   "id": "06f48ff5",
   "metadata": {},
   "source": [
    "## <span style=\"color:#ff5f27;\"> 📡 Connecting to the Hopsworks Feature Store </span>"
   ]
  },
  {
   "cell_type": "code",
   "execution_count": null,
   "id": "2c2367c5",
   "metadata": {},
   "outputs": [],
   "source": [
    "import hopsworks\n",
    "\n",
    "project = hopsworks.login()\n",
    "\n",
    "fs = project.get_feature_store() "
   ]
  },
  {
   "cell_type": "markdown",
   "id": "18fdd1af",
   "metadata": {},
   "source": [
    "___"
   ]
  },
  {
   "cell_type": "markdown",
   "id": "5919f8c4",
   "metadata": {},
   "source": [
    "## <span style=\"color:#ff5f27;\">🪄 Creating Feature Groups</span>"
   ]
  },
  {
   "cell_type": "markdown",
   "id": "4d3bf547",
   "metadata": {},
   "source": [
    "### <span style='color:#ff5f27'> 🚖 Rides Data"
   ]
  },
  {
   "cell_type": "code",
   "execution_count": null,
   "id": "e75628e8",
   "metadata": {},
   "outputs": [],
   "source": [
    "rides_fg = fs.get_or_create_feature_group(\n",
    "    name=\"nyc_taxi_rides\",\n",
    "    version=1,\n",
    "    primary_key=[\"ride_id\"],\n",
    "    event_time=\"pickup_datetime\",\n",
    "    description=\"Rides features\",\n",
    "    time_travel_format=\"HUDI\",     \n",
    "    statistics_config=True,\n",
    ")\n",
    "\n",
    "rides_fg.insert(df_rides)"
   ]
  },
  {
   "cell_type": "markdown",
   "id": "af1042da",
   "metadata": {},
   "source": [
    "### <span style='color:#ff5f27'> 💸 Fares Data"
   ]
  },
  {
   "cell_type": "code",
   "execution_count": null,
   "id": "7ad00ce4",
   "metadata": {},
   "outputs": [],
   "source": [
    "fares_fg = fs.get_or_create_feature_group(\n",
    "    name=\"nyc_taxi_fares\",\n",
    "    version=1,\n",
    "    primary_key=[\"ride_id\"], \n",
    "    description=\"Taxi fares features\",\n",
    "    time_travel_format=\"HUDI\",  \n",
    "    statistics_config=True,\n",
    ")   \n",
    "\n",
    "fares_fg.insert(df_fares)"
   ]
  },
  {
   "cell_type": "markdown",
   "id": "655abd26",
   "metadata": {},
   "source": [
    "---\n",
    "## <span style=\"color:#ff5f27;\">⏭️ **Next:** Part 02: Feature Pipeline </span>\n",
    "\n",
    "In the next notebook, you will be generating new data for the Feature Groups.\n"
   ]
  }
 ],
 "metadata": {
  "kernelspec": {
   "display_name": "Python 3",
   "language": "python",
   "name": "python3"
  },
  "language_info": {
   "codemirror_mode": {
    "name": "ipython",
    "version": 3
   },
   "file_extension": ".py",
   "mimetype": "text/x-python",
   "name": "python",
   "nbconvert_exporter": "python",
   "pygments_lexer": "ipython3",
   "version": "3.10.11"
  }
 },
 "nbformat": 4,
 "nbformat_minor": 5
}
