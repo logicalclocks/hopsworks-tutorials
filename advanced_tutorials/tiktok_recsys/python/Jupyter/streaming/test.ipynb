{
 "cells": [
  {
   "cell_type": "markdown",
   "id": "155601e7",
   "metadata": {},
   "source": [
    "---\n",
    "export HOPSWORKS_HOST=60342400-fd68-11ee-a374-5db5bf1f1917.cloud.hopsworks.ai\n",
    "\n",
    "export HOPSWORKS_PROJECT_NAME=Bytewax_pipeline\n",
    "\n",
    "export HOPSWORKS_API_KEY=NJ9njtdzAdDmoAdL.VcPV9NacRISOXnsRVOglr8fQM9HhsiujewZJDzOzeBHlPyTjNV7Z73tYL7BxNGXJ\n",
    "\n",
    "export FEATURE_GROUP_NAME=interactions\n",
    "\n",
    "export FEATURE_GROUP_VERSION=1\n",
    "\n",
    "---\n",
    "python 1_kafka_topic.py\n",
    "\n",
    "python 2_simulation.py\n",
    "\n",
    "python -m bytewax.run \"3_streaming_pipeline:setup_dataflow('$FEATURE_GROUP_NAME', $FEATURE_GROUP_VERSION, '$HOPSWORKS_HOST', '$HOPSWORKS_PROJECT_NAME', '$HOPSWORKS_API_KEY')\" \n",
    "\n",
    "RUST_BACKTRACE=1 python -m bytewax.run \"3_streaming_pipeline:setup_dataflow('$FEATURE_GROUP_NAME', $FEATURE_GROUP_VERSION, '$HOPSWORKS_HOST', '$HOPSWORKS_PROJECT_NAME', '$HOPSWORKS_API_KEY')\"\n",
    "\n",
    "---"
   ]
  },
  {
   "cell_type": "code",
   "execution_count": 22,
   "id": "48340d75",
   "metadata": {},
   "outputs": [
    {
     "data": {
      "text/plain": [
       "[{'interaction_id': '1422-91-0556',\n",
       "  'user_id': 'OU595D',\n",
       "  'video_id': '2ZU94X',\n",
       "  'interaction_type': 'skip',\n",
       "  'watch_time': 87,\n",
       "  'interaction_date': '2024-04-18 14:20:59'},\n",
       " {'interaction_id': '1892-80-4966',\n",
       "  'user_id': 'GC019W',\n",
       "  'video_id': '4WO41I',\n",
       "  'interaction_type': 'skip',\n",
       "  'watch_time': 122,\n",
       "  'interaction_date': '2024-04-18 14:20:59'},\n",
       " {'interaction_id': '3044-36-7740',\n",
       "  'user_id': 'IG087J',\n",
       "  'video_id': '1KS47H',\n",
       "  'interaction_type': 'view',\n",
       "  'watch_time': 20,\n",
       "  'interaction_date': '2024-04-18 14:20:59'}]"
      ]
     },
     "execution_count": 22,
     "metadata": {},
     "output_type": "execute_result"
    }
   ],
   "source": [
    "import json\n",
    "import sys\n",
    "sys.path.insert(1, '../')\n",
    "\n",
    "import pandas as pd\n",
    "from tqdm import tqdm\n",
    "import hopsworks\n",
    "from confluent_kafka import Producer\n",
    "\n",
    "import config\n",
    "from utils.hsfs_bytewax import get_kafka_config\n",
    "from features.users import generate_users\n",
    "from features.videos import generate_video_content\n",
    "from features.interactions import generate_interactions\n",
    "\n",
    "def simulate_interactions():\n",
    "    # Generate data for users\n",
    "    user_data = generate_users(config.USERS_AMOUNT_PIPELINE)\n",
    "    data_users_df = pd.DataFrame(user_data)\n",
    "\n",
    "    # Generate data for videos\n",
    "    video_data = generate_video_content(config.VIDEO_AMOUNT_PIPELINE)\n",
    "    data_video_df = pd.DataFrame(video_data)\n",
    "\n",
    "    # Generate interactions\n",
    "    interactions = generate_interactions(\n",
    "        config.INTERACTIONS_AMOUNT_PIPELINE, \n",
    "        user_data, \n",
    "        video_data,\n",
    "    )\n",
    "    data_interactions_df = pd.DataFrame(interactions)\n",
    "    \n",
    "    data_interactions_df['json'] = data_interactions_df.apply(lambda x: x.to_json(), axis=1)\n",
    "    \n",
    "    return [json.loads(i) for i in data_interactions_df.json.values]\n",
    "\n",
    "data = simulate_interactions()\n",
    "data[:3]"
   ]
  },
  {
   "cell_type": "code",
   "execution_count": 16,
   "id": "3538d673",
   "metadata": {},
   "outputs": [
    {
     "name": "stdout",
     "output_type": "stream",
     "text": [
      "Connection closed.\n",
      "Connected. Call `.close()` to terminate connection gracefully.\n",
      "\n",
      "Logged in to project, explore it here https://60342400-fd68-11ee-a374-5db5bf1f1917.cloud.hopsworks.ai/p/119\n",
      "Connected. Call `.close()` to terminate connection gracefully.\n",
      "{'bootstrap.servers': '172.16.4.25:9091', 'security.protocol': 'SSL', 'ssl.endpoint.identification.algorithm': 'none', 'ssl.ca.location': '/tmp/kafka_sc_119_-1_ca_chain.pem', 'ssl.certificate.location': '/tmp/kafka_sc_119_-1_client_cert.pem', 'ssl.key.location': '/tmp/kafka_sc_119_-1_client_key.pem'}\n"
     ]
    }
   ],
   "source": [
    "# Connect to Hopsworks\n",
    "project = hopsworks.login()\n",
    "fs = project.get_feature_store()\n",
    "\n",
    "kafka_api = project.get_kafka_api()\n",
    "kafka_config = get_kafka_config(fs.id)\n",
    "\n",
    "print(kafka_config)\n",
    "producer = Producer(kafka_config)"
   ]
  },
  {
   "cell_type": "code",
   "execution_count": 17,
   "id": "f133a7bb",
   "metadata": {},
   "outputs": [
    {
     "data": {
      "text/plain": [
       "{'interaction_id': '9812-78-8238',\n",
       " 'user_id': 'RR951P',\n",
       " 'video_id': '7YP51D',\n",
       " 'interaction_type': 'skip',\n",
       " 'watch_time': 157,\n",
       " 'interaction_date': '2024-04-18 11:33:30'}"
      ]
     },
     "execution_count": 17,
     "metadata": {},
     "output_type": "execute_result"
    }
   ],
   "source": [
    "# Simulate interactions\n",
    "interactions_data = simulate_interactions()\n",
    "interactions_data[0]"
   ]
  },
  {
   "cell_type": "code",
   "execution_count": 19,
   "id": "d64e1222",
   "metadata": {},
   "outputs": [
    {
     "name": "stderr",
     "output_type": "stream",
     "text": [
      "Sending messages:  30%|███       | 3/10 [00:00<00:00, 21.78it/s]"
     ]
    },
    {
     "name": "stdout",
     "output_type": "stream",
     "text": [
      "{'interaction_id': '9812-78-8238', 'user_id': 'RR951P', 'video_id': '7YP51D', 'interaction_type': 'skip', 'watch_time': 157, 'interaction_date': '2024-04-18 11:33:30'}\n",
      "{'interaction_id': '2438-26-4753', 'user_id': 'ZC342Y', 'video_id': '0HP06X', 'interaction_type': 'view', 'watch_time': 98, 'interaction_date': '2024-04-18 11:33:30'}\n",
      "{'interaction_id': '6795-70-8245', 'user_id': 'AL852G', 'video_id': '0TD02F', 'interaction_type': 'skip', 'watch_time': 141, 'interaction_date': '2024-04-18 11:33:30'}\n",
      "{'interaction_id': '1930-44-8804', 'user_id': 'IA528X', 'video_id': '8KA77T', 'interaction_type': 'like', 'watch_time': 22, 'interaction_date': '2024-04-18 11:33:30'}\n",
      "{'interaction_id': '1584-76-4537', 'user_id': 'VZ873S', 'video_id': '6MY59E', 'interaction_type': 'skip', 'watch_time': 74, 'interaction_date': '2024-04-18 11:33:30'}\n"
     ]
    },
    {
     "name": "stderr",
     "output_type": "stream",
     "text": [
      "Sending messages:  90%|█████████ | 9/10 [00:00<00:00, 21.51it/s]"
     ]
    },
    {
     "name": "stdout",
     "output_type": "stream",
     "text": [
      "{'interaction_id': '8360-83-9259', 'user_id': 'LF197M', 'video_id': '8GS13E', 'interaction_type': 'skip', 'watch_time': 85, 'interaction_date': '2024-04-18 11:33:30'}\n",
      "{'interaction_id': '8936-72-7250', 'user_id': 'CW504L', 'video_id': '0KS93V', 'interaction_type': 'skip', 'watch_time': 40, 'interaction_date': '2024-04-18 11:33:30'}\n",
      "{'interaction_id': '7234-31-3381', 'user_id': 'OP675X', 'video_id': '9YA05J', 'interaction_type': 'skip', 'watch_time': 35, 'interaction_date': '2024-04-18 11:33:30'}\n",
      "{'interaction_id': '4106-34-5958', 'user_id': 'RF538A', 'video_id': '9HW87T', 'interaction_type': 'skip', 'watch_time': 43, 'interaction_date': '2024-04-18 11:33:30'}\n",
      "{'interaction_id': '1759-83-8126', 'user_id': 'SG073W', 'video_id': '5FH42R', 'interaction_type': 'like', 'watch_time': 64, 'interaction_date': '2024-04-18 11:33:30'}\n"
     ]
    },
    {
     "name": "stderr",
     "output_type": "stream",
     "text": [
      "Sending messages: 100%|██████████| 10/10 [00:00<00:00, 21.66it/s]\n"
     ]
    }
   ],
   "source": [
    "# Send to source topic\n",
    "for interaction in tqdm(interactions_data[:10], desc=\"Sending messages\"):\n",
    "    print(interaction)\n",
    "    producer.produce(\n",
    "        config.KAFKA_TOPIC_NAME,\n",
    "        json.dumps(interaction),\n",
    "    )\n",
    "    producer.flush()"
   ]
  },
  {
   "cell_type": "markdown",
   "id": "29fff3cd",
   "metadata": {},
   "source": [
    "---"
   ]
  }
 ],
 "metadata": {
  "kernelspec": {
   "display_name": "Python 3",
   "language": "python",
   "name": "python3"
  },
  "language_info": {
   "codemirror_mode": {
    "name": "ipython",
    "version": 3
   },
   "file_extension": ".py",
   "mimetype": "text/x-python",
   "name": "python",
   "nbconvert_exporter": "python",
   "pygments_lexer": "ipython3",
   "version": "3.10.11"
  }
 },
 "nbformat": 4,
 "nbformat_minor": 5
}
